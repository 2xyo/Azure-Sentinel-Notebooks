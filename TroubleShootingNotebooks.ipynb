{
 "cells": [
  {
   "cell_type": "markdown",
   "metadata": {},
   "source": [
    "# Troubleshooting Azure Sentinel Notebooks\n",
    "\n",
    "If you are having trouble with Jupyter notebooks run this notebook to help\n",
    "identify where the problem might be.\n",
    "\n",
    "Select the notebook menu item `Cell->Run All` - check for any warnings or errors.\n",
    "\n",
    "Read the text above the cell(s) that produce errors - the text\n",
    "contains links to resources that describe how to fix the error."
   ]
  },
  {
   "cell_type": "markdown",
   "metadata": {},
   "source": [
    "## Python Version Check\n",
    "\n",
    "> **Note**\n",
    "> You can set the default Python version in Azure Notebooks project settings.\n",
    "> \n",
    "> For details on how to do this see [AzureNotebooks-ConfigurePythonVersion](https://github.com/Azure/Azure-Sentinel-Notebooks/blob/master/HowTos/AzureNotebooks-ConfigurePythonVersion.ipynb)\n",
    ">\n",
    "> If you are using a Data Science Virtual Machine as your\n",
    "> Azure Notebooks compute you should read [Provisioning a DSVM](https://github.com/Azure/Azure-Sentinel-Notebooks/blob/master/HowTos/Provisioning%20DSVM.ipynb)"
   ]
  },
  {
   "cell_type": "code",
   "execution_count": 1,
   "metadata": {
    "gather": {
     "logged": 1618341999310
    }
   },
   "outputs": [
    {
     "data": {
      "text/markdown": [
       "#### Checking Python version..."
      ],
      "text/plain": [
       "<IPython.core.display.Markdown object>"
      ]
     },
     "metadata": {},
     "output_type": "display_data"
    },
    {
     "data": {
      "text/markdown": [
       "<h4><font color='blue'>Python version 3.7.10 - OK</font></h4>"
      ],
      "text/plain": [
       "<IPython.core.display.Markdown object>"
      ]
     },
     "metadata": {},
     "output_type": "display_data"
    }
   ],
   "source": [
    "import sys\n",
    "from IPython.display import display, HTML, Markdown\n",
    "MIN_REQ_PYTHON = (3, 6)\n",
    "\n",
    "errors = []\n",
    "warns = []\n",
    "info = []\n",
    "def setup_err(mssg):\n",
    "    display(Markdown(\"<h3><font color='red'>Setup Error</font></h3>\"))\n",
    "    display(Markdown(\"<h4><font color='red'>%s</font></h4>\" % mssg))\n",
    "    errors.append(mssg)\n",
    "\n",
    "def setup_ok(mssg):\n",
    "    display(Markdown(\"<h4><font color='blue'>%s - OK</font></h4>\" % mssg))\n",
    "    info.append(mssg)\n",
    "\n",
    "def setup_warn(mssg):\n",
    "    display(Markdown(\"<h4><font color='orange'>%s</font></h4>\" % mssg))\n",
    "    warns.append(mssg)\n",
    "    \n",
    "display(Markdown(\"#### Checking Python version...\"))\n",
    "if sys.version_info < MIN_REQ_PYTHON:\n",
    "    setup_err(\"Python version\")\n",
    "    display(Markdown('Check the Kernel->Change Kernel menu and ensure that Python 3.6'))\n",
    "    display(Markdown('or later is selected as the active kernel.'))\n",
    "else:\n",
    "    setup_ok(\n",
    "        \"Python version {}.{}.{}\".format(\n",
    "            sys.version_info[0], sys.version_info[1], sys.version_info[2]\n",
    "        )\n",
    "    )"
   ]
  },
  {
   "cell_type": "markdown",
   "metadata": {},
   "source": [
    "# utils/nb_check.py version\n",
    "\n",
    "This section checks for the presence and version of ./utils/nbcheck.py utility script"
   ]
  },
  {
   "cell_type": "code",
   "execution_count": 2,
   "metadata": {},
   "outputs": [
    {
     "data": {
      "text/markdown": [
       "<h4><font color='blue'>The version of utils/nb_check2.py is up-to-date. - OK</font></h4>"
      ],
      "text/plain": [
       "<IPython.core.display.Markdown object>"
      ]
     },
     "metadata": {},
     "output_type": "display_data"
    }
   ],
   "source": [
    "from urllib import request\n",
    "from pathlib import Path\n",
    "from IPython.display import HTML\n",
    "import re\n",
    "NB_CHECK_URI = \"https://raw.githubusercontent.com/Azure/Azure-Sentinel-Notebooks/master/utils/nb_check.py\"\n",
    "\n",
    "\n",
    "def get_aml_user_folder():\n",
    "    \"\"\"Return the root of the user folder.\"\"\"\n",
    "    user_path = Path(\"/\")\n",
    "    path_parts = Path(\".\").absolute().parts\n",
    "    for idx, part in enumerate(path_parts):\n",
    "        if part.casefold() == \"users\":\n",
    "            user_path = user_path.joinpath(part).joinpath(path_parts[idx + 1])\n",
    "            break\n",
    "        user_path = user_path.joinpath(part)\n",
    "    return user_path\n",
    "\n",
    "\n",
    "def _check_nb_check_ver():\n",
    "    nb_check_path = \"utils/nb_check2.py\"\n",
    "    gh_file = \"\"\n",
    "    try:\n",
    "        with request.urlopen(NB_CHECK_URI) as gh_fh:\n",
    "            gh_file = gh_fh.read().decode(\"utf-8\")\n",
    "    except Exception:\n",
    "        setup_warn(f\"Warning could not check version of {NB_CHECK_URI}\")\n",
    "        return\n",
    "    nbc_path = get_aml_user_folder().joinpath(nb_check_path)\n",
    "    curr_file = None\n",
    "    if nbc_path.is_file():\n",
    "        try:\n",
    "            curr_file = nbc_path.read_text()\n",
    "        except Exception:\n",
    "            setup_warn(\"Warning could not check version local of {nb_check_path}\")\n",
    "\n",
    "    if curr_file and _get_file_ver(gh_file) == _get_file_ver(curr_file):\n",
    "        setup_ok(f\"The version of {nb_check_path} is up-to-date.\")\n",
    "        return\n",
    "\n",
    "    print(f\"Updating local {nb_check_path}...\")\n",
    "    if curr_file:\n",
    "        bk_up = get_aml_user_folder().joinpath(f\"{nb_check_path}._save_\")\n",
    "        if bk_up.is_file():\n",
    "            bk_up.unlink()\n",
    "        nbc_path.replace(bk_up)\n",
    "    try:\n",
    "        with open(nbc_path, \"w\") as repl_fh:\n",
    "            repl_fh.write(gh_file)\n",
    "    except Exception:\n",
    "        if curr_file:\n",
    "            bk_up.replace(nbc_path)\n",
    "\n",
    "    setup_ok(f\"The version of {nb_check_path} has been updated.\")\n",
    "\n",
    "\n",
    "def _get_file_ver(file_text):\n",
    "    f_match = re.search(r\"__version__ = \\\"([\\d.]+)\\\"\", file_text)\n",
    "    if f_match:\n",
    "        return f_match.groups()[0]\n",
    "    return None\n",
    "\n",
    "_check_nb_check_ver()"
   ]
  },
  {
   "cell_type": "markdown",
   "metadata": {},
   "source": [
    "## Package Import Check\n",
    "\n",
    "This section checks the import of `msticpy` and its dependent packages.\n",
    "\n",
    "> **Note**\n",
    "> If you are repeatedly seeing packages going missing when working in Azure Notebooks\n",
    "> this may be because the docker containers running the Python kernel are\n",
    "> recycled after a few hours when not in use. This causes the environments\n",
    "> to reset to defaults.\n",
    "> \n",
    "> To prevent this you should configure you Azure Notebooks project with a\n",
    "> requirements.txt file that is automatically run (and packages installed)\n",
    "> when the contain is initialized.\n",
    ">\n",
    "> For details on how to do this see [AzureNotebooks-ConfigurePythonVersion](https://github.com/Azure/Azure-Sentinel-Notebooks/blob/master/HowTos/AzureNotebooks-ConfigurePythonVersion.ipynb)"
   ]
  },
  {
   "cell_type": "code",
   "execution_count": 3,
   "metadata": {
    "gather": {
     "logged": 1618342008582
    }
   },
   "outputs": [
    {
     "data": {
      "text/markdown": [
       "#### Checking msticpy..."
      ],
      "text/plain": [
       "<IPython.core.display.Markdown object>"
      ]
     },
     "metadata": {},
     "output_type": "display_data"
    },
    {
     "data": {
      "text/markdown": [
       "<h4><font color='blue'>msticpy version 1.1.0 - OK</font></h4>"
      ],
      "text/plain": [
       "<IPython.core.display.Markdown object>"
      ]
     },
     "metadata": {},
     "output_type": "display_data"
    },
    {
     "name": "stdout",
     "output_type": "stream",
     "text": [
      "msticpy version installed: 1.1.0 latest published: 1.0.0\n",
      "Latest version is installed.\n"
     ]
    }
   ],
   "source": [
    "import importlib\n",
    "import pkg_resources\n",
    "import sys\n",
    "import warnings\n",
    "from IPython.display import display, HTML, Markdown\n",
    "\n",
    "MSTICPY_REQ_VERSION = \"1.0.0\"\n",
    "display(Markdown(\"#### Checking msticpy...\"))\n",
    "warn_mssg = []\n",
    "err_mssg = []\n",
    "restart_req = False\n",
    "\n",
    "def _get_pkg_version(version):\n",
    "    if isinstance(version, str):\n",
    "        return pkg_resources.parse_version(version)\n",
    "    elif isinstance(version, tuple):\n",
    "        return pkg_resources.parse_version(\".\".join(str(ver) for ver in version))\n",
    "    raise TypeError(f\"Unparseable type version {version}\")\n",
    "\n",
    "MISSING_PKG_ERR = \"\"\"\n",
    "    <h3><font color='red'>Warning {package} is not installed or has an unsupported version</h3></font>\n",
    "    \"\"\"\n",
    "need_update = False\n",
    "try:\n",
    "    import msticpy\n",
    "    mp_version = _get_pkg_version(msticpy.__version__)\n",
    "    required_ver = _get_pkg_version(MSTICPY_REQ_VERSION)\n",
    "    if mp_version < required_ver:\n",
    "        setup_err(\n",
    "            f\"Installed version of msticpy is {mp_version}. \"\n",
    "            f\"msticpy {required_ver} or later is required.\"\n",
    "        )\n",
    "        need_update = True\n",
    "    else:\n",
    "        setup_ok(f\"msticpy version {msticpy.__version__}\")\n",
    "\n",
    "except ImportError:\n",
    "    display(HTML(MISSING_PKG_ERR.format(package=\"msticpy\")))\n",
    "    need_update = True\n",
    "    \n",
    "\n",
    "if need_update:\n",
    "    resp = input(\"Install the package now? (y/n)\")\n",
    "    if resp.casefold().startswith(\"y\"):\n",
    "        !pip install --upgrade msticpy\n",
    "        if \"msticpy\" in sys.modules:\n",
    "            importlib.reload(sys.modules[\"msticpy\"])\n",
    "        else:\n",
    "            import msticpy\n",
    "        print(f\"msticpy installed - version {msticpy.__version__}\")\n",
    "        \n",
    "    else:\n",
    "        setup_warn(\"msticpy missing or out-of-date.\")\n",
    "        display(Markdown(\"Please run `pip install --upgrade msticpy` to upgrade/install msticpy\"))\n",
    "    \n",
    "try:\n",
    "    import msticpy\n",
    "    msticpy.check_version()\n",
    "except ImportError:\n",
    "    pass"
   ]
  },
  {
   "cell_type": "markdown",
   "metadata": {},
   "source": [
    "## Pandas Version Check\n",
    "\n",
    "Many of the notebooks and msticpy features require a mininum\n",
    "pandas version of 0.25.0."
   ]
  },
  {
   "cell_type": "code",
   "execution_count": 4,
   "metadata": {
    "gather": {
     "logged": 1618342016369
    }
   },
   "outputs": [
    {
     "data": {
      "text/markdown": [
       "#### Checking pandas..."
      ],
      "text/plain": [
       "<IPython.core.display.Markdown object>"
      ]
     },
     "metadata": {},
     "output_type": "display_data"
    },
    {
     "data": {
      "text/markdown": [
       "<h4><font color='blue'>Pandas version 1.1.3 - OK</font></h4>"
      ],
      "text/plain": [
       "<IPython.core.display.Markdown object>"
      ]
     },
     "metadata": {},
     "output_type": "display_data"
    }
   ],
   "source": [
    "display(Markdown(\"#### Checking pandas...\"))\n",
    "PANDAS_REQ_VERSION = (0, 25, 0)\n",
    "need_update = False\n",
    "try:\n",
    "    import pandas as pd\n",
    "    pd_version = tuple([int(v) for v in pd.__version__.split(\".\")])\n",
    "    if pd_version < PANDAS_REQ_VERSION:\n",
    "        setup_err(\"pandas %s.%s.%s or later is required.\" % PANDAS_REQ_VERSION)\n",
    "        need_update = True\n",
    "except ImportError:\n",
    "    display(HTML(MISSING_PKG_ERR.format(package=\"pandas\")))\n",
    "    need_update = True\n",
    "else:\n",
    "    setup_ok(f\"Pandas version {pd.__version__}\")\n",
    "    \n",
    "if need_update:\n",
    "    resp = input(\"Install the package now? (y/n)\")\n",
    "    if resp.casefold().startswith(\"y\"):\n",
    "        !pip install --upgrade pandas\n",
    "        if \"pandas\" in sys.modules:\n",
    "            importlib.reload(pd)\n",
    "        else:\n",
    "            import pandas as pd\n",
    "        print(f\"pandas installed - version {pandas.__version__}\")\n",
    "        \n",
    "    else:\n",
    "        setup_warn(\"pandas missing or out-of-date.\")\n",
    "        display(Markdown(\"Please run `pip install --upgrade pandas` to upgrade/install pandas\"))"
   ]
  },
  {
   "cell_type": "markdown",
   "metadata": {},
   "source": [
    "## Workspace Configuration Check\n",
    "\n",
    "This section checks for presence of configuration files `config.json`\n",
    "and `msticpyconfig.yaml`\n",
    "\n",
    "The `msticpyconfig.yaml` can store the workspace and tenant information\n",
    "for your Azure Sentinel workspace. It can also store values for multiple\n",
    "workspaces. If you have the values configured in this file you do not\n",
    "need to worry about the values in `config.json`.\n",
    "\n",
    "You can specify the location of your `msticpyconfig.yaml` in the\n",
    "environment variable `MSTICPYCONFIG`. This will make the file \n",
    "accessible to all notebooks running on the system. For\n",
    "more information on configuring `msticpyconfig.yaml` see the next\n",
    "cell [mstipcy Configuration](#msticpy-Configuration)\n",
    "\n",
    "If you want to transfer your workspace settings to `msticpyconfig.yaml`\n",
    "from `config.json`, simply copy the value of the `tenant_id` and \n",
    "`workspace_id` settings to the relevant section. \n",
    "\n",
    "> **Note** the value names in msticpyconfig.yaml use slightly different naming\n",
    "> conventions:\n",
    "```\n",
    "    WorkspaceId: 0cd830ff-60dc-40d1-8045-11d2b7b277e1\n",
    "    TenantId: aff2102d-1d6c-4501-9efb-6053ab7efb19\n",
    "```\n",
    "\n",
    "### Workspace Configuration - config.json\n",
    "Creating an Azure Notebooks project from Azure Sentinel \n",
    "will automatically create a `config.json` file in the root of\n",
    "your Azure Notebooks project and populate values\n",
    "for your Azure Sentinel workspace.\n",
    "\n",
    "If you have copied the notebooks elsewhere (e.g. to run them locally,\n",
    "or you are running them on a Data Science Virtual machine) you \n",
    "should copy this original config.json to the folder from which\n",
    "you are running notebooks.\n",
    "\n",
    "> **Note** if you are using a `msticpyconfig.yaml` to store your\n",
    "> workspace settings, most notebooks will take values from that.\n",
    "> As with `config.json` - you must have a locally accessible copy\n",
    "> of this file, so you will need to copy it to other systems if\n",
    "> you are running notebooks from there.\n",
    "\n",
    "\n",
    "If you are using the config.json (default config for Azure Sentinel\n",
    "with Azure Notebooks), your config.json should look something like this\n",
    "```json\n",
    "{\n",
    "  \"tenant_id\": \"aff2102d-1d6c-4501-9efb-6053ab7efb19\",\n",
    "  \"subscription_id\": \"9ce7caeb-1f42-4141-b076-7f448a00aceb\",\n",
    "  \"resource_group\": \"MyResourceGroup\",\n",
    "  \"workspace_id\": \"0cd830ff-60dc-40d1-8045-11d2b7b277e1\",\n",
    "  \"workspace_name\": \"MyResourceSubscription\"\n",
    "}\n",
    "```\n",
    "\n",
    "The tenant_id and workspace_id values must be configured, other values\n",
    "are optional but recommended."
   ]
  },
  {
   "cell_type": "code",
   "execution_count": 5,
   "metadata": {
    "gather": {
     "logged": 1618342026006
    }
   },
   "outputs": [
    {
     "data": {
      "text/markdown": [
       "#### Checking Azure Sentinel Workspace config..."
      ],
      "text/plain": [
       "<IPython.core.display.Markdown object>"
      ]
     },
     "metadata": {},
     "output_type": "display_data"
    },
    {
     "name": "stdout",
     "output_type": "stream",
     "text": [
      "No errors found.\n",
      "No warnings found.\n"
     ]
    },
    {
     "data": {
      "text/markdown": [
       "<h4><font color='blue'>Workspace configuration found in 'e:\\src\\microsoft\\msticpyconfig.yaml' - OK</font></h4>"
      ],
      "text/plain": [
       "<IPython.core.display.Markdown object>"
      ]
     },
     "metadata": {},
     "output_type": "display_data"
    }
   ],
   "source": [
    "import os\n",
    "\n",
    "import json\n",
    "from pathlib import Path\n",
    "import uuid\n",
    "import yaml\n",
    "\n",
    "\n",
    "def valid_uuid(uuid_str):\n",
    "    try:\n",
    "        uuid.UUID(uuid_str)\n",
    "    except (ValueError, TypeError):\n",
    "        return False\n",
    "    return True\n",
    "\n",
    "def check_mp_config_ws(config_file):\n",
    "    with open(config_file, \"r\") as mp_yml:\n",
    "        mp_config = yaml.safe_load(mp_yml)\n",
    "    mp_errors = []\n",
    "    as_settings = mp_config.get(\"AzureSentinel\", {})\n",
    "    if not as_settings:\n",
    "        mp_errors.append(f\"Missing or empty 'AzureSentinel' section in {config_file}\")\n",
    "    ws_settings = as_settings.get(\"Workspaces\", {})\n",
    "    if not ws_settings:\n",
    "        mp_errors.append(f\"Missing or empty 'Workspaces' section in {config_file}\")\n",
    "    no_default = True\n",
    "    for ws, ws_settings in ws_settings.items():\n",
    "        if ws == \"Default\":\n",
    "            no_default = False\n",
    "        ws_id = ws_settings.get(\"WorkspaceId\")\n",
    "        if not ws_id and not valid_uuid(ws_id):\n",
    "            mp_errors.append(f\"Invalid GUID for WorkspaceId in {ws} section\")\n",
    "        ten_id = ws_settings.get(\"TenantId\")\n",
    "        if not ten_id and not valid_uuid(ten_id):\n",
    "            mp_errors.append(f\"Invalid GUID for TenantId in {ws} section\")\n",
    "    warnings = [\"No default workspace set\"] if no_default else []\n",
    "    return mp_errors, warnings\n",
    "\n",
    "\n",
    "try:\n",
    "    from msticpy.common.pkg_config import validate_config\n",
    "except ImportError:\n",
    "    # Fall back on local check if we cannot import from MP\n",
    "    validate_config = check_mp_config_ws\n",
    "\n",
    "\n",
    "def check_json_config(json_path):\n",
    "    j_conf_errs = []\n",
    "    with open(json_path, \"r\") as json_file:\n",
    "        conf_json = json.load(json_file)\n",
    "    conf_tenant = conf_json.get(\"tenant_id\")\n",
    "    if conf_tenant == \"{{cookiecutter.tenant_id}}\":\n",
    "        j_conf_errs.append(\"Tenant Id is set to default value\")\n",
    "    elif not valid_uuid(conf_tenant):\n",
    "        j_conf_errs.append(\"Tenant ID is not a valid GUID.\")\n",
    "    conf_ws = conf_json.get(\"workspace_id\")\n",
    "    if conf_ws == \"{{cookiecutter.workspace_id}}\":\n",
    "        j_conf_errs.append(\"Workspace Id is set to default value\")\n",
    "    elif not valid_uuid(conf_ws):\n",
    "        j_conf_errs.append(\"Workspace ID is not a valid GUID.\")\n",
    "    return j_conf_errs\n",
    "\n",
    "\n",
    "def get_aml_user_folder():\n",
    "    \"\"\"Return the root of the user folder.\"\"\"\n",
    "    user_path = Path(\"/\")\n",
    "    path_parts = Path(\".\").absolute().parts\n",
    "    for idx, part in enumerate(path_parts):\n",
    "        if part.casefold() == \"users\":\n",
    "            user_path = user_path.joinpath(part).joinpath(path_parts[idx + 1])\n",
    "            break\n",
    "        user_path = user_path.joinpath(part)\n",
    "    return user_path\n",
    "\n",
    "\n",
    "mp_warnings = []\n",
    "display(Markdown(\"#### Checking Azure Sentinel Workspace config...\"))\n",
    "mp_path = os.environ.get(\"MSTICPYCONFIG\", \"./msticpyconfig.yaml\")\n",
    "if not Path(mp_path).exists():\n",
    "    if Path(get_aml_user_folder()).joinpath(\"msticpyconfig.yaml\"):\n",
    "        setup_warn(\n",
    "            \"A 'msticpyconfig.yaml' was found in the root of your user folder\"\n",
    "            + \" but the MSTICPYCONFIG variable is not set. This file will be\"\n",
    "            + \" used by default.\"\n",
    "        )\n",
    "        mp_path = str(Path(get_aml_user_folder()).joinpath(\"msticpyconfig.yaml\"))\n",
    "if Path(mp_path).exists():\n",
    "    mp_errs, mp_warnings = validate_config(config_file=mp_path)\n",
    "else:\n",
    "    mp_errs = [f\"{mp_path} not found\"]\n",
    "    \n",
    "DEF_CONF_JSON = \"./config.json\"\n",
    "jc_errs = []\n",
    "if Path(DEF_CONF_JSON).exists():\n",
    "    jc_errs = check_json_config(DEF_CONF_JSON)\n",
    "\n",
    "if jc_errs and mp_errs:\n",
    "    setup_err(\"No valid workspace configuration found.\")\n",
    "    if jc_errs:\n",
    "        print(jc_errs)\n",
    "    if mp_errs:\n",
    "        print(mp_errs)\n",
    "else:\n",
    "    if not jc_errs:\n",
    "        setup_ok(f\"Workspace configuration found in '{DEF_CONF_JSON}'\")\n",
    "    if not mp_errs:\n",
    "        setup_ok(f\"Workspace configuration found in '{mp_path}'\")\n",
    "    else:\n",
    "        setup_warn(f\"Workspace configuration: Cannot find msticpy config file {mp_path}\")\n",
    "    if mp_warnings:\n",
    "        display(Markdown(f\"<h5><font color='orange'>{', '.join(mp_warnings)}</font></h5>\"))"
   ]
  },
  {
   "cell_type": "markdown",
   "metadata": {},
   "source": [
    "# msticpy Initialization\n",
    "\n",
    "This section duplicates the setup cells of most of the notebooks.\n",
    "It may duplicate warnings seen in the previous cell (since\n",
    "it runs some of the same checks).\n",
    "\n",
    "For more information on `msticpy` configuration file settings,\n",
    "please refer to the following items:\n",
    "\n",
    "- [Configuration guide notebook](https://github.com/Azure/Azure-Sentinel-Notebooks/blob/master/ConfiguringNotebookEnvironment.ipynb)\n",
    "- [msticpy configuration documentation](https://msticpy.readthedocs.io/en/latest/getting_started/msticpyconfig.html)"
   ]
  },
  {
   "cell_type": "code",
   "execution_count": 7,
   "metadata": {
    "gather": {
     "logged": 1618342035207
    }
   },
   "outputs": [
    {
     "data": {
      "text/html": [
       "<h3>Starting Notebook setup...</h3>"
      ],
      "text/plain": [
       "<IPython.core.display.HTML object>"
      ]
     },
     "metadata": {},
     "output_type": "display_data"
    },
    {
     "data": {
      "text/html": [
       "Note: you may need to scroll down this cell to see the full output."
      ],
      "text/plain": [
       "<IPython.core.display.HTML object>"
      ]
     },
     "metadata": {},
     "output_type": "display_data"
    },
    {
     "data": {
      "text/html": [
       "<h4>Starting notebook pre-checks...</h4>"
      ],
      "text/plain": [
       "<IPython.core.display.HTML object>"
      ]
     },
     "metadata": {},
     "output_type": "display_data"
    },
    {
     "data": {
      "text/html": [
       "Checking Python kernel version..."
      ],
      "text/plain": [
       "<IPython.core.display.HTML object>"
      ]
     },
     "metadata": {},
     "output_type": "display_data"
    },
    {
     "data": {
      "text/html": [
       "Recommended: switch to using the 'Python 3.8 - AzureML' notebook kernel if this is available."
      ],
      "text/plain": [
       "<IPython.core.display.HTML object>"
      ]
     },
     "metadata": {},
     "output_type": "display_data"
    },
    {
     "data": {
      "text/html": [
       "Info: Python kernel version 3.7.10 OK<br>"
      ],
      "text/plain": [
       "<IPython.core.display.HTML object>"
      ]
     },
     "metadata": {},
     "output_type": "display_data"
    },
    {
     "data": {
      "text/html": [
       "Checking msticpy version...<br>"
      ],
      "text/plain": [
       "<IPython.core.display.HTML object>"
      ]
     },
     "metadata": {},
     "output_type": "display_data"
    },
    {
     "data": {
      "text/html": [
       "Info: msticpy version 1.0.0 OK<br>"
      ],
      "text/plain": [
       "<IPython.core.display.HTML object>"
      ]
     },
     "metadata": {},
     "output_type": "display_data"
    },
    {
     "data": {
      "text/html": [
       "Kqlmagic pre-req 'libgirepository1.0-dev' not installed. Installing..."
      ],
      "text/plain": [
       "<IPython.core.display.HTML object>"
      ]
     },
     "metadata": {},
     "output_type": "display_data"
    },
    {
     "data": {
      "text/html": [
       "Kqlmagic pre-req 'gir1.2-secret-1' not installed. Installing..."
      ],
      "text/plain": [
       "<IPython.core.display.HTML object>"
      ]
     },
     "metadata": {},
     "output_type": "display_data"
    },
    {
     "data": {
      "text/html": [
       "Conflicting package 'enum34' found. Uninstalling..."
      ],
      "text/plain": [
       "<IPython.core.display.HTML object>"
      ]
     },
     "metadata": {},
     "output_type": "display_data"
    },
    {
     "name": "stdout",
     "output_type": "stream",
     "text": [
      "Note: you may need to restart the kernel to use updated packages.\n"
     ]
    },
    {
     "name": "stderr",
     "output_type": "stream",
     "text": [
      "WARNING: Skipping enum34 as it is not installed.\n"
     ]
    },
    {
     "data": {
      "text/html": [
       "Kqlmagic python pre-req 'PyGObject' not installed. Installing..."
      ],
      "text/plain": [
       "<IPython.core.display.HTML object>"
      ]
     },
     "metadata": {},
     "output_type": "display_data"
    },
    {
     "name": "stdout",
     "output_type": "stream",
     "text": [
      "Collecting PyGObject\n",
      "  Using cached PyGObject-3.40.1.tar.gz (714 kB)\n",
      "  Installing build dependencies: started\n",
      "  Installing build dependencies: finished with status 'error'\n",
      "  Using cached PyGObject-3.40.0.tar.gz (714 kB)\n",
      "  Installing build dependencies: started\n",
      "  Installing build dependencies: finished with status 'error'\n",
      "  Using cached PyGObject-3.38.0.tar.gz (712 kB)\n",
      "  Installing build dependencies: started\n",
      "  Installing build dependencies: finished with status 'error'\n",
      "  Using cached PyGObject-3.36.1.tar.gz (716 kB)\n",
      "  Installing build dependencies: started\n",
      "  Installing build dependencies: finished with status 'error'\n",
      "  Using cached PyGObject-3.36.0.tar.gz (714 kB)\n",
      "  Installing build dependencies: started\n",
      "  Installing build dependencies: finished with status 'error'\n",
      "  Using cached PyGObject-3.34.0.tar.gz (699 kB)\n",
      "  Installing build dependencies: started\n",
      "  Installing build dependencies: finished with status 'error'\n",
      "  Using cached PyGObject-3.32.2.tar.gz (698 kB)\n",
      "  Installing build dependencies: started\n",
      "  Installing build dependencies: finished with status 'error'\n",
      "  Using cached PyGObject-3.32.1.tar.gz (698 kB)\n",
      "Note: you may need to restart the kernel to use updated packages.  Installing build dependencies: started\n",
      "  Installing build dependencies: finished with status 'error'\n",
      "  Using cached PyGObject-3.32.0.tar.gz (698 kB)\n",
      "  Installing build dependencies: started\n",
      "\n",
      "  Installing build dependencies: finished with status 'error'\n",
      "  Using cached PyGObject-3.30.5.tar.gz (690 kB)\n",
      "Requirement already satisfied: pycairo>=1.11.1 in c:\\users\\ian\\anaconda3\\envs\\condadev\\lib\\site-packages (from PyGObject) (1.20.0)\n",
      "Building wheels for collected packages: PyGObject\n",
      "  Building wheel for PyGObject (setup.py): started\n",
      "  Building wheel for PyGObject (setup.py): finished with status 'error'\n",
      "  Running setup.py clean for PyGObject\n",
      "Failed to build PyGObject\n",
      "Installing collected packages: PyGObject\n",
      "    Running setup.py install for PyGObject: started\n",
      "    Running setup.py install for PyGObject: finished with status 'error'\n"
     ]
    },
    {
     "name": "stderr",
     "output_type": "stream",
     "text": [
      "  ERROR: Command errored out with exit status 1:\n",
      "   command: 'C:\\Users\\Ian\\Anaconda3\\envs\\condadev\\python.exe' 'C:\\Users\\Ian\\Anaconda3\\envs\\condadev\\lib\\site-packages\\pip' install --ignore-installed --no-user --prefix 'C:\\Users\\Ian\\AppData\\Local\\Temp\\pip-build-env-6lvwnt2w\\overlay' --no-warn-script-location --no-binary :none: --only-binary :none: -i https://pypi.org/simple -- setuptools wheel pycairo\n",
      "       cwd: None\n",
      "  Complete output (42 lines):\n",
      "  Traceback (most recent call last):\n",
      "    File \"C:\\Users\\Ian\\Anaconda3\\envs\\condadev\\lib\\runpy.py\", line 193, in _run_module_as_main\n",
      "      \"__main__\", mod_spec)\n",
      "    File \"C:\\Users\\Ian\\Anaconda3\\envs\\condadev\\lib\\runpy.py\", line 85, in _run_code\n",
      "      exec(code, run_globals)\n",
      "    File \"C:\\Users\\Ian\\Anaconda3\\envs\\condadev\\lib\\site-packages\\pip\\__main__.py\", line 24, in <module>\n",
      "      sys.exit(_main())\n",
      "    File \"C:\\Users\\Ian\\Anaconda3\\envs\\condadev\\lib\\site-packages\\pip\\_internal\\cli\\main.py\", line 71, in main\n",
      "      command = create_command(cmd_name, isolated=(\"--isolated\" in cmd_args))\n",
      "    File \"C:\\Users\\Ian\\Anaconda3\\envs\\condadev\\lib\\site-packages\\pip\\_internal\\commands\\__init__.py\", line 96, in create_command\n",
      "      module = importlib.import_module(module_path)\n",
      "    File \"C:\\Users\\Ian\\Anaconda3\\envs\\condadev\\lib\\importlib\\__init__.py\", line 127, in import_module\n",
      "      return _bootstrap._gcd_import(name[level:], package, level)\n",
      "    File \"<frozen importlib._bootstrap>\", line 1006, in _gcd_import\n",
      "    File \"<frozen importlib._bootstrap>\", line 983, in _find_and_load\n",
      "    File \"<frozen importlib._bootstrap>\", line 967, in _find_and_load_unlocked\n",
      "    File \"<frozen importlib._bootstrap>\", line 677, in _load_unlocked\n",
      "    File \"<frozen importlib._bootstrap_external>\", line 728, in exec_module\n",
      "    File \"<frozen importlib._bootstrap>\", line 219, in _call_with_frames_removed\n",
      "    File \"C:\\Users\\Ian\\Anaconda3\\envs\\condadev\\lib\\site-packages\\pip\\_internal\\commands\\install.py\", line 15, in <module>\n",
      "      from pip._internal.cli.req_command import RequirementCommand, with_cleanup\n",
      "    File \"C:\\Users\\Ian\\Anaconda3\\envs\\condadev\\lib\\site-packages\\pip\\_internal\\cli\\req_command.py\", line 16, in <module>\n",
      "      from pip._internal.index.collector import LinkCollector\n",
      "    File \"C:\\Users\\Ian\\Anaconda3\\envs\\condadev\\lib\\site-packages\\pip\\_internal\\index\\collector.py\", line 16, in <module>\n",
      "      from pip._vendor import html5lib, requests\n",
      "    File \"C:\\Users\\Ian\\Anaconda3\\envs\\condadev\\lib\\site-packages\\pip\\_vendor\\requests\\__init__.py\", line 123, in <module>\n",
      "      from . import utils\n",
      "    File \"C:\\Users\\Ian\\Anaconda3\\envs\\condadev\\lib\\site-packages\\pip\\_vendor\\requests\\utils.py\", line 25, in <module>\n",
      "      from . import certs\n",
      "    File \"C:\\Users\\Ian\\Anaconda3\\envs\\condadev\\lib\\site-packages\\pip\\_vendor\\requests\\certs.py\", line 15, in <module>\n",
      "      from pip._vendor.certifi import where\n",
      "    File \"C:\\Users\\Ian\\Anaconda3\\envs\\condadev\\lib\\site-packages\\pip\\_vendor\\certifi\\__init__.py\", line 1, in <module>\n",
      "      from .core import contents, where\n",
      "    File \"C:\\Users\\Ian\\Anaconda3\\envs\\condadev\\lib\\site-packages\\pip\\_vendor\\certifi\\core.py\", line 12, in <module>\n",
      "      from importlib.resources import path as get_path, read_text\n",
      "    File \"C:\\Users\\Ian\\Anaconda3\\envs\\condadev\\lib\\importlib\\resources.py\", line 11, in <module>\n",
      "      from typing import Iterable, Iterator, Optional, Set, Union   # noqa: F401\n",
      "    File \"C:\\Users\\Ian\\Anaconda3\\envs\\condadev\\lib\\site-packages\\typing.py\", line 1359, in <module>\n",
      "      class Callable(extra=collections_abc.Callable, metaclass=CallableMeta):\n",
      "    File \"C:\\Users\\Ian\\Anaconda3\\envs\\condadev\\lib\\site-packages\\typing.py\", line 1007, in __new__\n",
      "      self._abc_registry = extra._abc_registry\n",
      "  AttributeError: type object 'Callable' has no attribute '_abc_registry'\n",
      "  ----------------------------------------\n",
      "WARNING: Discarding https://files.pythonhosted.org/packages/51/2f/4d5d5afb7000b9151e33952b59163c9389bd867ac6fe85d62f85831fa061/PyGObject-3.40.1.tar.gz#sha256=6fb599aa59ceb9dd05fafb0d72b3862943e7d5e85c8ef6c74856bc6d4321cbab (from https://pypi.org/simple/pygobject/) (requires-python:>=3.6, <4). Command errored out with exit status 1: 'C:\\Users\\Ian\\Anaconda3\\envs\\condadev\\python.exe' 'C:\\Users\\Ian\\Anaconda3\\envs\\condadev\\lib\\site-packages\\pip' install --ignore-installed --no-user --prefix 'C:\\Users\\Ian\\AppData\\Local\\Temp\\pip-build-env-6lvwnt2w\\overlay' --no-warn-script-location --no-binary :none: --only-binary :none: -i https://pypi.org/simple -- setuptools wheel pycairo Check the logs for full command output.\n",
      "  ERROR: Command errored out with exit status 1:\n",
      "   command: 'C:\\Users\\Ian\\Anaconda3\\envs\\condadev\\python.exe' 'C:\\Users\\Ian\\Anaconda3\\envs\\condadev\\lib\\site-packages\\pip' install --ignore-installed --no-user --prefix 'C:\\Users\\Ian\\AppData\\Local\\Temp\\pip-build-env-cmlhfrxf\\overlay' --no-warn-script-location --no-binary :none: --only-binary :none: -i https://pypi.org/simple -- setuptools wheel pycairo\n",
      "       cwd: None\n",
      "  Complete output (42 lines):\n",
      "  Traceback (most recent call last):\n",
      "    File \"C:\\Users\\Ian\\Anaconda3\\envs\\condadev\\lib\\runpy.py\", line 193, in _run_module_as_main\n",
      "      \"__main__\", mod_spec)\n",
      "    File \"C:\\Users\\Ian\\Anaconda3\\envs\\condadev\\lib\\runpy.py\", line 85, in _run_code\n",
      "      exec(code, run_globals)\n",
      "    File \"C:\\Users\\Ian\\Anaconda3\\envs\\condadev\\lib\\site-packages\\pip\\__main__.py\", line 24, in <module>\n",
      "      sys.exit(_main())\n",
      "    File \"C:\\Users\\Ian\\Anaconda3\\envs\\condadev\\lib\\site-packages\\pip\\_internal\\cli\\main.py\", line 71, in main\n",
      "      command = create_command(cmd_name, isolated=(\"--isolated\" in cmd_args))\n",
      "    File \"C:\\Users\\Ian\\Anaconda3\\envs\\condadev\\lib\\site-packages\\pip\\_internal\\commands\\__init__.py\", line 96, in create_command\n",
      "      module = importlib.import_module(module_path)\n",
      "    File \"C:\\Users\\Ian\\Anaconda3\\envs\\condadev\\lib\\importlib\\__init__.py\", line 127, in import_module\n",
      "      return _bootstrap._gcd_import(name[level:], package, level)\n",
      "    File \"<frozen importlib._bootstrap>\", line 1006, in _gcd_import\n",
      "    File \"<frozen importlib._bootstrap>\", line 983, in _find_and_load\n",
      "    File \"<frozen importlib._bootstrap>\", line 967, in _find_and_load_unlocked\n",
      "    File \"<frozen importlib._bootstrap>\", line 677, in _load_unlocked\n",
      "    File \"<frozen importlib._bootstrap_external>\", line 728, in exec_module\n",
      "    File \"<frozen importlib._bootstrap>\", line 219, in _call_with_frames_removed\n",
      "    File \"C:\\Users\\Ian\\Anaconda3\\envs\\condadev\\lib\\site-packages\\pip\\_internal\\commands\\install.py\", line 15, in <module>\n",
      "      from pip._internal.cli.req_command import RequirementCommand, with_cleanup\n",
      "    File \"C:\\Users\\Ian\\Anaconda3\\envs\\condadev\\lib\\site-packages\\pip\\_internal\\cli\\req_command.py\", line 16, in <module>\n",
      "      from pip._internal.index.collector import LinkCollector\n",
      "    File \"C:\\Users\\Ian\\Anaconda3\\envs\\condadev\\lib\\site-packages\\pip\\_internal\\index\\collector.py\", line 16, in <module>\n",
      "      from pip._vendor import html5lib, requests\n",
      "    File \"C:\\Users\\Ian\\Anaconda3\\envs\\condadev\\lib\\site-packages\\pip\\_vendor\\requests\\__init__.py\", line 123, in <module>\n",
      "      from . import utils\n",
      "    File \"C:\\Users\\Ian\\Anaconda3\\envs\\condadev\\lib\\site-packages\\pip\\_vendor\\requests\\utils.py\", line 25, in <module>\n",
      "      from . import certs\n",
      "    File \"C:\\Users\\Ian\\Anaconda3\\envs\\condadev\\lib\\site-packages\\pip\\_vendor\\requests\\certs.py\", line 15, in <module>\n",
      "      from pip._vendor.certifi import where\n",
      "    File \"C:\\Users\\Ian\\Anaconda3\\envs\\condadev\\lib\\site-packages\\pip\\_vendor\\certifi\\__init__.py\", line 1, in <module>\n",
      "      from .core import contents, where\n",
      "    File \"C:\\Users\\Ian\\Anaconda3\\envs\\condadev\\lib\\site-packages\\pip\\_vendor\\certifi\\core.py\", line 12, in <module>\n",
      "      from importlib.resources import path as get_path, read_text\n",
      "    File \"C:\\Users\\Ian\\Anaconda3\\envs\\condadev\\lib\\importlib\\resources.py\", line 11, in <module>\n",
      "      from typing import Iterable, Iterator, Optional, Set, Union   # noqa: F401\n",
      "    File \"C:\\Users\\Ian\\Anaconda3\\envs\\condadev\\lib\\site-packages\\typing.py\", line 1359, in <module>\n",
      "      class Callable(extra=collections_abc.Callable, metaclass=CallableMeta):\n",
      "    File \"C:\\Users\\Ian\\Anaconda3\\envs\\condadev\\lib\\site-packages\\typing.py\", line 1007, in __new__\n",
      "      self._abc_registry = extra._abc_registry\n",
      "  AttributeError: type object 'Callable' has no attribute '_abc_registry'\n",
      "  ----------------------------------------\n",
      "WARNING: Discarding https://files.pythonhosted.org/packages/a0/fa/0cfaa64ad7a4cd94fd74b698fcc8987ed780fce1651fecc6604f86f604cd/PyGObject-3.40.0.tar.gz#sha256=98d83f71e6313dadc29793450fec23b2eaa5c3f1c4b073d0a4f9c31b5cdb5fca (from https://pypi.org/simple/pygobject/) (requires-python:>=3.6, <4). Command errored out with exit status 1: 'C:\\Users\\Ian\\Anaconda3\\envs\\condadev\\python.exe' 'C:\\Users\\Ian\\Anaconda3\\envs\\condadev\\lib\\site-packages\\pip' install --ignore-installed --no-user --prefix 'C:\\Users\\Ian\\AppData\\Local\\Temp\\pip-build-env-cmlhfrxf\\overlay' --no-warn-script-location --no-binary :none: --only-binary :none: -i https://pypi.org/simple -- setuptools wheel pycairo Check the logs for full command output.\n",
      "  ERROR: Command errored out with exit status 1:\n",
      "   command: 'C:\\Users\\Ian\\Anaconda3\\envs\\condadev\\python.exe' 'C:\\Users\\Ian\\Anaconda3\\envs\\condadev\\lib\\site-packages\\pip' install --ignore-installed --no-user --prefix 'C:\\Users\\Ian\\AppData\\Local\\Temp\\pip-build-env-gm48qis2\\overlay' --no-warn-script-location --no-binary :none: --only-binary :none: -i https://pypi.org/simple -- setuptools wheel pycairo\n",
      "       cwd: None\n",
      "  Complete output (42 lines):\n",
      "  Traceback (most recent call last):\n",
      "    File \"C:\\Users\\Ian\\Anaconda3\\envs\\condadev\\lib\\runpy.py\", line 193, in _run_module_as_main\n",
      "      \"__main__\", mod_spec)\n",
      "    File \"C:\\Users\\Ian\\Anaconda3\\envs\\condadev\\lib\\runpy.py\", line 85, in _run_code\n",
      "      exec(code, run_globals)\n",
      "    File \"C:\\Users\\Ian\\Anaconda3\\envs\\condadev\\lib\\site-packages\\pip\\__main__.py\", line 24, in <module>\n",
      "      sys.exit(_main())\n",
      "    File \"C:\\Users\\Ian\\Anaconda3\\envs\\condadev\\lib\\site-packages\\pip\\_internal\\cli\\main.py\", line 71, in main\n",
      "      command = create_command(cmd_name, isolated=(\"--isolated\" in cmd_args))\n",
      "    File \"C:\\Users\\Ian\\Anaconda3\\envs\\condadev\\lib\\site-packages\\pip\\_internal\\commands\\__init__.py\", line 96, in create_command\n",
      "      module = importlib.import_module(module_path)\n",
      "    File \"C:\\Users\\Ian\\Anaconda3\\envs\\condadev\\lib\\importlib\\__init__.py\", line 127, in import_module\n",
      "      return _bootstrap._gcd_import(name[level:], package, level)\n",
      "    File \"<frozen importlib._bootstrap>\", line 1006, in _gcd_import\n",
      "    File \"<frozen importlib._bootstrap>\", line 983, in _find_and_load\n",
      "    File \"<frozen importlib._bootstrap>\", line 967, in _find_and_load_unlocked\n",
      "    File \"<frozen importlib._bootstrap>\", line 677, in _load_unlocked\n",
      "    File \"<frozen importlib._bootstrap_external>\", line 728, in exec_module\n",
      "    File \"<frozen importlib._bootstrap>\", line 219, in _call_with_frames_removed\n",
      "    File \"C:\\Users\\Ian\\Anaconda3\\envs\\condadev\\lib\\site-packages\\pip\\_internal\\commands\\install.py\", line 15, in <module>\n",
      "      from pip._internal.cli.req_command import RequirementCommand, with_cleanup\n",
      "    File \"C:\\Users\\Ian\\Anaconda3\\envs\\condadev\\lib\\site-packages\\pip\\_internal\\cli\\req_command.py\", line 16, in <module>\n",
      "      from pip._internal.index.collector import LinkCollector\n",
      "    File \"C:\\Users\\Ian\\Anaconda3\\envs\\condadev\\lib\\site-packages\\pip\\_internal\\index\\collector.py\", line 16, in <module>\n",
      "      from pip._vendor import html5lib, requests\n",
      "    File \"C:\\Users\\Ian\\Anaconda3\\envs\\condadev\\lib\\site-packages\\pip\\_vendor\\requests\\__init__.py\", line 123, in <module>\n",
      "      from . import utils\n",
      "    File \"C:\\Users\\Ian\\Anaconda3\\envs\\condadev\\lib\\site-packages\\pip\\_vendor\\requests\\utils.py\", line 25, in <module>\n",
      "      from . import certs\n",
      "    File \"C:\\Users\\Ian\\Anaconda3\\envs\\condadev\\lib\\site-packages\\pip\\_vendor\\requests\\certs.py\", line 15, in <module>\n",
      "      from pip._vendor.certifi import where\n",
      "    File \"C:\\Users\\Ian\\Anaconda3\\envs\\condadev\\lib\\site-packages\\pip\\_vendor\\certifi\\__init__.py\", line 1, in <module>\n",
      "      from .core import contents, where\n",
      "    File \"C:\\Users\\Ian\\Anaconda3\\envs\\condadev\\lib\\site-packages\\pip\\_vendor\\certifi\\core.py\", line 12, in <module>\n",
      "      from importlib.resources import path as get_path, read_text\n",
      "    File \"C:\\Users\\Ian\\Anaconda3\\envs\\condadev\\lib\\importlib\\resources.py\", line 11, in <module>\n",
      "      from typing import Iterable, Iterator, Optional, Set, Union   # noqa: F401\n",
      "    File \"C:\\Users\\Ian\\Anaconda3\\envs\\condadev\\lib\\site-packages\\typing.py\", line 1359, in <module>\n",
      "      class Callable(extra=collections_abc.Callable, metaclass=CallableMeta):\n",
      "    File \"C:\\Users\\Ian\\Anaconda3\\envs\\condadev\\lib\\site-packages\\typing.py\", line 1007, in __new__\n",
      "      self._abc_registry = extra._abc_registry\n",
      "  AttributeError: type object 'Callable' has no attribute '_abc_registry'\n"
     ]
    },
    {
     "ename": "URLError",
     "evalue": "<urlopen error [WinError 10051] A socket operation was attempted to an unreachable network>",
     "output_type": "error",
     "traceback": [
      "\u001b[1;31m---------------------------------------------------------------------------\u001b[0m",
      "\u001b[1;31mOSError\u001b[0m                                   Traceback (most recent call last)",
      "\u001b[1;32m~\\Anaconda3\\envs\\condadev\\lib\\urllib\\request.py\u001b[0m in \u001b[0;36mdo_open\u001b[1;34m(self, http_class, req, **http_conn_args)\u001b[0m\n\u001b[0;32m   1349\u001b[0m                 h.request(req.get_method(), req.selector, req.data, headers,\n\u001b[1;32m-> 1350\u001b[1;33m                           encode_chunked=req.has_header('Transfer-encoding'))\n\u001b[0m\u001b[0;32m   1351\u001b[0m             \u001b[1;32mexcept\u001b[0m \u001b[0mOSError\u001b[0m \u001b[1;32mas\u001b[0m \u001b[0merr\u001b[0m\u001b[1;33m:\u001b[0m \u001b[1;31m# timeout error\u001b[0m\u001b[1;33m\u001b[0m\u001b[1;33m\u001b[0m\u001b[0m\n",
      "\u001b[1;32m~\\Anaconda3\\envs\\condadev\\lib\\http\\client.py\u001b[0m in \u001b[0;36mrequest\u001b[1;34m(self, method, url, body, headers, encode_chunked)\u001b[0m\n\u001b[0;32m   1276\u001b[0m         \u001b[1;34m\"\"\"Send a complete request to the server.\"\"\"\u001b[0m\u001b[1;33m\u001b[0m\u001b[1;33m\u001b[0m\u001b[0m\n\u001b[1;32m-> 1277\u001b[1;33m         \u001b[0mself\u001b[0m\u001b[1;33m.\u001b[0m\u001b[0m_send_request\u001b[0m\u001b[1;33m(\u001b[0m\u001b[0mmethod\u001b[0m\u001b[1;33m,\u001b[0m \u001b[0murl\u001b[0m\u001b[1;33m,\u001b[0m \u001b[0mbody\u001b[0m\u001b[1;33m,\u001b[0m \u001b[0mheaders\u001b[0m\u001b[1;33m,\u001b[0m \u001b[0mencode_chunked\u001b[0m\u001b[1;33m)\u001b[0m\u001b[1;33m\u001b[0m\u001b[1;33m\u001b[0m\u001b[0m\n\u001b[0m\u001b[0;32m   1278\u001b[0m \u001b[1;33m\u001b[0m\u001b[0m\n",
      "\u001b[1;32m~\\Anaconda3\\envs\\condadev\\lib\\http\\client.py\u001b[0m in \u001b[0;36m_send_request\u001b[1;34m(self, method, url, body, headers, encode_chunked)\u001b[0m\n\u001b[0;32m   1322\u001b[0m             \u001b[0mbody\u001b[0m \u001b[1;33m=\u001b[0m \u001b[0m_encode\u001b[0m\u001b[1;33m(\u001b[0m\u001b[0mbody\u001b[0m\u001b[1;33m,\u001b[0m \u001b[1;34m'body'\u001b[0m\u001b[1;33m)\u001b[0m\u001b[1;33m\u001b[0m\u001b[1;33m\u001b[0m\u001b[0m\n\u001b[1;32m-> 1323\u001b[1;33m         \u001b[0mself\u001b[0m\u001b[1;33m.\u001b[0m\u001b[0mendheaders\u001b[0m\u001b[1;33m(\u001b[0m\u001b[0mbody\u001b[0m\u001b[1;33m,\u001b[0m \u001b[0mencode_chunked\u001b[0m\u001b[1;33m=\u001b[0m\u001b[0mencode_chunked\u001b[0m\u001b[1;33m)\u001b[0m\u001b[1;33m\u001b[0m\u001b[1;33m\u001b[0m\u001b[0m\n\u001b[0m\u001b[0;32m   1324\u001b[0m \u001b[1;33m\u001b[0m\u001b[0m\n",
      "\u001b[1;32m~\\Anaconda3\\envs\\condadev\\lib\\http\\client.py\u001b[0m in \u001b[0;36mendheaders\u001b[1;34m(self, message_body, encode_chunked)\u001b[0m\n\u001b[0;32m   1271\u001b[0m             \u001b[1;32mraise\u001b[0m \u001b[0mCannotSendHeader\u001b[0m\u001b[1;33m(\u001b[0m\u001b[1;33m)\u001b[0m\u001b[1;33m\u001b[0m\u001b[1;33m\u001b[0m\u001b[0m\n\u001b[1;32m-> 1272\u001b[1;33m         \u001b[0mself\u001b[0m\u001b[1;33m.\u001b[0m\u001b[0m_send_output\u001b[0m\u001b[1;33m(\u001b[0m\u001b[0mmessage_body\u001b[0m\u001b[1;33m,\u001b[0m \u001b[0mencode_chunked\u001b[0m\u001b[1;33m=\u001b[0m\u001b[0mencode_chunked\u001b[0m\u001b[1;33m)\u001b[0m\u001b[1;33m\u001b[0m\u001b[1;33m\u001b[0m\u001b[0m\n\u001b[0m\u001b[0;32m   1273\u001b[0m \u001b[1;33m\u001b[0m\u001b[0m\n",
      "\u001b[1;32m~\\Anaconda3\\envs\\condadev\\lib\\http\\client.py\u001b[0m in \u001b[0;36m_send_output\u001b[1;34m(self, message_body, encode_chunked)\u001b[0m\n\u001b[0;32m   1031\u001b[0m         \u001b[1;32mdel\u001b[0m \u001b[0mself\u001b[0m\u001b[1;33m.\u001b[0m\u001b[0m_buffer\u001b[0m\u001b[1;33m[\u001b[0m\u001b[1;33m:\u001b[0m\u001b[1;33m]\u001b[0m\u001b[1;33m\u001b[0m\u001b[1;33m\u001b[0m\u001b[0m\n\u001b[1;32m-> 1032\u001b[1;33m         \u001b[0mself\u001b[0m\u001b[1;33m.\u001b[0m\u001b[0msend\u001b[0m\u001b[1;33m(\u001b[0m\u001b[0mmsg\u001b[0m\u001b[1;33m)\u001b[0m\u001b[1;33m\u001b[0m\u001b[1;33m\u001b[0m\u001b[0m\n\u001b[0m\u001b[0;32m   1033\u001b[0m \u001b[1;33m\u001b[0m\u001b[0m\n",
      "\u001b[1;32m~\\Anaconda3\\envs\\condadev\\lib\\http\\client.py\u001b[0m in \u001b[0;36msend\u001b[1;34m(self, data)\u001b[0m\n\u001b[0;32m    971\u001b[0m             \u001b[1;32mif\u001b[0m \u001b[0mself\u001b[0m\u001b[1;33m.\u001b[0m\u001b[0mauto_open\u001b[0m\u001b[1;33m:\u001b[0m\u001b[1;33m\u001b[0m\u001b[1;33m\u001b[0m\u001b[0m\n\u001b[1;32m--> 972\u001b[1;33m                 \u001b[0mself\u001b[0m\u001b[1;33m.\u001b[0m\u001b[0mconnect\u001b[0m\u001b[1;33m(\u001b[0m\u001b[1;33m)\u001b[0m\u001b[1;33m\u001b[0m\u001b[1;33m\u001b[0m\u001b[0m\n\u001b[0m\u001b[0;32m    973\u001b[0m             \u001b[1;32melse\u001b[0m\u001b[1;33m:\u001b[0m\u001b[1;33m\u001b[0m\u001b[1;33m\u001b[0m\u001b[0m\n",
      "\u001b[1;32m~\\Anaconda3\\envs\\condadev\\lib\\http\\client.py\u001b[0m in \u001b[0;36mconnect\u001b[1;34m(self)\u001b[0m\n\u001b[0;32m    943\u001b[0m         self.sock = self._create_connection(\n\u001b[1;32m--> 944\u001b[1;33m             (self.host,self.port), self.timeout, self.source_address)\n\u001b[0m\u001b[0;32m    945\u001b[0m         \u001b[0mself\u001b[0m\u001b[1;33m.\u001b[0m\u001b[0msock\u001b[0m\u001b[1;33m.\u001b[0m\u001b[0msetsockopt\u001b[0m\u001b[1;33m(\u001b[0m\u001b[0msocket\u001b[0m\u001b[1;33m.\u001b[0m\u001b[0mIPPROTO_TCP\u001b[0m\u001b[1;33m,\u001b[0m \u001b[0msocket\u001b[0m\u001b[1;33m.\u001b[0m\u001b[0mTCP_NODELAY\u001b[0m\u001b[1;33m,\u001b[0m \u001b[1;36m1\u001b[0m\u001b[1;33m)\u001b[0m\u001b[1;33m\u001b[0m\u001b[1;33m\u001b[0m\u001b[0m\n",
      "\u001b[1;32m~\\Anaconda3\\envs\\condadev\\lib\\socket.py\u001b[0m in \u001b[0;36mcreate_connection\u001b[1;34m(address, timeout, source_address)\u001b[0m\n\u001b[0;32m    727\u001b[0m         \u001b[1;32mtry\u001b[0m\u001b[1;33m:\u001b[0m\u001b[1;33m\u001b[0m\u001b[1;33m\u001b[0m\u001b[0m\n\u001b[1;32m--> 728\u001b[1;33m             \u001b[1;32mraise\u001b[0m \u001b[0merr\u001b[0m\u001b[1;33m\u001b[0m\u001b[1;33m\u001b[0m\u001b[0m\n\u001b[0m\u001b[0;32m    729\u001b[0m         \u001b[1;32mfinally\u001b[0m\u001b[1;33m:\u001b[0m\u001b[1;33m\u001b[0m\u001b[1;33m\u001b[0m\u001b[0m\n",
      "\u001b[1;32m~\\Anaconda3\\envs\\condadev\\lib\\socket.py\u001b[0m in \u001b[0;36mcreate_connection\u001b[1;34m(address, timeout, source_address)\u001b[0m\n\u001b[0;32m    715\u001b[0m                 \u001b[0msock\u001b[0m\u001b[1;33m.\u001b[0m\u001b[0mbind\u001b[0m\u001b[1;33m(\u001b[0m\u001b[0msource_address\u001b[0m\u001b[1;33m)\u001b[0m\u001b[1;33m\u001b[0m\u001b[1;33m\u001b[0m\u001b[0m\n\u001b[1;32m--> 716\u001b[1;33m             \u001b[0msock\u001b[0m\u001b[1;33m.\u001b[0m\u001b[0mconnect\u001b[0m\u001b[1;33m(\u001b[0m\u001b[0msa\u001b[0m\u001b[1;33m)\u001b[0m\u001b[1;33m\u001b[0m\u001b[1;33m\u001b[0m\u001b[0m\n\u001b[0m\u001b[0;32m    717\u001b[0m             \u001b[1;31m# Break explicitly a reference cycle\u001b[0m\u001b[1;33m\u001b[0m\u001b[1;33m\u001b[0m\u001b[1;33m\u001b[0m\u001b[0m\n",
      "\u001b[1;31mOSError\u001b[0m: [WinError 10051] A socket operation was attempted to an unreachable network",
      "\nDuring handling of the above exception, another exception occurred:\n",
      "\u001b[1;31mURLError\u001b[0m                                  Traceback (most recent call last)",
      "\u001b[1;32m<ipython-input-7-936295e6096d>\u001b[0m in \u001b[0;36m<module>\u001b[1;34m\u001b[0m\n\u001b[0;32m      9\u001b[0m \u001b[1;32mif\u001b[0m \u001b[0mPath\u001b[0m\u001b[1;33m(\u001b[0m\u001b[1;34m\"./utils/nb_check.py\"\u001b[0m\u001b[1;33m)\u001b[0m\u001b[1;33m.\u001b[0m\u001b[0mis_file\u001b[0m\u001b[1;33m(\u001b[0m\u001b[1;33m)\u001b[0m\u001b[1;33m:\u001b[0m\u001b[1;33m\u001b[0m\u001b[1;33m\u001b[0m\u001b[0m\n\u001b[0;32m     10\u001b[0m     \u001b[1;32mfrom\u001b[0m \u001b[0mutils\u001b[0m\u001b[1;33m.\u001b[0m\u001b[0mnb_check\u001b[0m \u001b[1;32mimport\u001b[0m \u001b[0mcheck_versions\u001b[0m\u001b[1;33m\u001b[0m\u001b[1;33m\u001b[0m\u001b[0m\n\u001b[1;32m---> 11\u001b[1;33m     \u001b[0mcheck_versions\u001b[0m\u001b[1;33m(\u001b[0m\u001b[0mREQ_PYTHON_VER\u001b[0m\u001b[1;33m,\u001b[0m \u001b[0mREQ_MSTICPY_VER\u001b[0m\u001b[1;33m,\u001b[0m \u001b[0mREQ_MP_EXTRAS\u001b[0m\u001b[1;33m)\u001b[0m\u001b[1;33m\u001b[0m\u001b[1;33m\u001b[0m\u001b[0m\n\u001b[0m\u001b[0;32m     12\u001b[0m \u001b[1;33m\u001b[0m\u001b[0m\n\u001b[0;32m     13\u001b[0m \u001b[1;31m# If not using Azure Notebooks, install msticpy with\u001b[0m\u001b[1;33m\u001b[0m\u001b[1;33m\u001b[0m\u001b[1;33m\u001b[0m\u001b[0m\n",
      "\u001b[1;32me:\\src\\Azure-Sentinel-Notebooks\\utils\\nb_check.py\u001b[0m in \u001b[0;36mcheck_versions\u001b[1;34m(min_py_ver, min_mp_ver, extras, mp_release, pip_quiet)\u001b[0m\n\u001b[0;32m    101\u001b[0m \u001b[1;33m\u001b[0m\u001b[0m\n\u001b[0;32m    102\u001b[0m     \u001b[0m_check_kql_prereqs\u001b[0m\u001b[1;33m(\u001b[0m\u001b[1;33m)\u001b[0m\u001b[1;33m\u001b[0m\u001b[1;33m\u001b[0m\u001b[0m\n\u001b[1;32m--> 103\u001b[1;33m     \u001b[0m_set_kql_env_vars\u001b[0m\u001b[1;33m(\u001b[0m\u001b[0mextras\u001b[0m\u001b[1;33m)\u001b[0m\u001b[1;33m\u001b[0m\u001b[1;33m\u001b[0m\u001b[0m\n\u001b[0m\u001b[0;32m    104\u001b[0m     \u001b[0m_run_user_settings\u001b[0m\u001b[1;33m(\u001b[0m\u001b[1;33m)\u001b[0m\u001b[1;33m\u001b[0m\u001b[1;33m\u001b[0m\u001b[0m\n\u001b[0;32m    105\u001b[0m     \u001b[0m_set_mpconfig_var\u001b[0m\u001b[1;33m(\u001b[0m\u001b[1;33m)\u001b[0m\u001b[1;33m\u001b[0m\u001b[1;33m\u001b[0m\u001b[0m\n",
      "\u001b[1;32me:\\src\\Azure-Sentinel-Notebooks\\utils\\nb_check.py\u001b[0m in \u001b[0;36m_set_kql_env_vars\u001b[1;34m(extras)\u001b[0m\n\u001b[0;32m    275\u001b[0m     \u001b[1;32melse\u001b[0m\u001b[1;33m:\u001b[0m\u001b[1;33m\u001b[0m\u001b[1;33m\u001b[0m\u001b[0m\n\u001b[0;32m    276\u001b[0m         \u001b[0mos\u001b[0m\u001b[1;33m.\u001b[0m\u001b[0menviron\u001b[0m\u001b[1;33m[\u001b[0m\u001b[1;34m\"KQLMAGIC_EXTRAS_REQUIRE\"\u001b[0m\u001b[1;33m]\u001b[0m \u001b[1;33m=\u001b[0m \u001b[1;34m\"jupyter-basic\"\u001b[0m\u001b[1;33m\u001b[0m\u001b[1;33m\u001b[0m\u001b[0m\n\u001b[1;32m--> 277\u001b[1;33m     \u001b[0mos\u001b[0m\u001b[1;33m.\u001b[0m\u001b[0menviron\u001b[0m\u001b[1;33m[\u001b[0m\u001b[1;34m\"KQLMAGIC_AZUREML_COMPUTE\"\u001b[0m\u001b[1;33m]\u001b[0m \u001b[1;33m=\u001b[0m \u001b[0m_get_vm_fqdn\u001b[0m\u001b[1;33m(\u001b[0m\u001b[1;33m)\u001b[0m\u001b[1;33m\u001b[0m\u001b[1;33m\u001b[0m\u001b[0m\n\u001b[0m\u001b[0;32m    278\u001b[0m \u001b[1;33m\u001b[0m\u001b[0m\n\u001b[0;32m    279\u001b[0m \u001b[1;33m\u001b[0m\u001b[0m\n",
      "\u001b[1;32me:\\src\\Azure-Sentinel-Notebooks\\utils\\nb_check.py\u001b[0m in \u001b[0;36m_get_vm_fqdn\u001b[1;34m()\u001b[0m\n\u001b[0;32m    348\u001b[0m \u001b[1;32mdef\u001b[0m \u001b[0m_get_vm_fqdn\u001b[0m\u001b[1;33m(\u001b[0m\u001b[1;33m)\u001b[0m\u001b[1;33m:\u001b[0m\u001b[1;33m\u001b[0m\u001b[1;33m\u001b[0m\u001b[0m\n\u001b[0;32m    349\u001b[0m     \u001b[1;34m\"\"\"Get the FQDN of the host.\"\"\"\u001b[0m\u001b[1;33m\u001b[0m\u001b[1;33m\u001b[0m\u001b[0m\n\u001b[1;32m--> 350\u001b[1;33m     \u001b[0maz_region\u001b[0m \u001b[1;33m=\u001b[0m \u001b[1;33m(\u001b[0m\u001b[0m_get_vm_metadata\u001b[0m\u001b[1;33m(\u001b[0m\u001b[1;33m)\u001b[0m\u001b[1;33m.\u001b[0m\u001b[0mget\u001b[0m\u001b[1;33m(\u001b[0m\u001b[1;34m\"compute\"\u001b[0m\u001b[1;33m,\u001b[0m \u001b[1;33m{\u001b[0m\u001b[1;33m}\u001b[0m\u001b[1;33m)\u001b[0m\u001b[1;33m.\u001b[0m\u001b[0mget\u001b[0m\u001b[1;33m(\u001b[0m\u001b[1;34m\"location\"\u001b[0m\u001b[1;33m)\u001b[0m\u001b[1;33m,\u001b[0m\u001b[1;33m)\u001b[0m\u001b[1;33m\u001b[0m\u001b[1;33m\u001b[0m\u001b[0m\n\u001b[0m\u001b[0;32m    351\u001b[0m     return \".\".join(\n\u001b[0;32m    352\u001b[0m         [\n",
      "\u001b[1;32me:\\src\\Azure-Sentinel-Notebooks\\utils\\nb_check.py\u001b[0m in \u001b[0;36m_get_vm_metadata\u001b[1;34m()\u001b[0m\n\u001b[0;32m    340\u001b[0m     \u001b[0mreq\u001b[0m \u001b[1;33m=\u001b[0m \u001b[0murllib\u001b[0m\u001b[1;33m.\u001b[0m\u001b[0mrequest\u001b[0m\u001b[1;33m.\u001b[0m\u001b[0mRequest\u001b[0m\u001b[1;33m(\u001b[0m\u001b[0mvm_uri\u001b[0m\u001b[1;33m)\u001b[0m\u001b[1;33m\u001b[0m\u001b[1;33m\u001b[0m\u001b[0m\n\u001b[0;32m    341\u001b[0m     \u001b[0mreq\u001b[0m\u001b[1;33m.\u001b[0m\u001b[0madd_header\u001b[0m\u001b[1;33m(\u001b[0m\u001b[1;34m\"Metadata\"\u001b[0m\u001b[1;33m,\u001b[0m \u001b[1;34m\"true\"\u001b[0m\u001b[1;33m)\u001b[0m\u001b[1;33m\u001b[0m\u001b[1;33m\u001b[0m\u001b[0m\n\u001b[1;32m--> 342\u001b[1;33m     \u001b[0mresp\u001b[0m \u001b[1;33m=\u001b[0m \u001b[0murllib\u001b[0m\u001b[1;33m.\u001b[0m\u001b[0mrequest\u001b[0m\u001b[1;33m.\u001b[0m\u001b[0murlopen\u001b[0m\u001b[1;33m(\u001b[0m\u001b[0mreq\u001b[0m\u001b[1;33m)\u001b[0m\u001b[1;33m\u001b[0m\u001b[1;33m\u001b[0m\u001b[0m\n\u001b[0m\u001b[0;32m    343\u001b[0m \u001b[1;33m\u001b[0m\u001b[0m\n\u001b[0;32m    344\u001b[0m     \u001b[1;32mwith\u001b[0m \u001b[0murllib\u001b[0m\u001b[1;33m.\u001b[0m\u001b[0mrequest\u001b[0m\u001b[1;33m.\u001b[0m\u001b[0murlopen\u001b[0m\u001b[1;33m(\u001b[0m\u001b[0mreq\u001b[0m\u001b[1;33m)\u001b[0m \u001b[1;32mas\u001b[0m \u001b[0mresp\u001b[0m\u001b[1;33m:\u001b[0m\u001b[1;33m\u001b[0m\u001b[1;33m\u001b[0m\u001b[0m\n",
      "\u001b[1;32m~\\Anaconda3\\envs\\condadev\\lib\\urllib\\request.py\u001b[0m in \u001b[0;36murlopen\u001b[1;34m(url, data, timeout, cafile, capath, cadefault, context)\u001b[0m\n\u001b[0;32m    220\u001b[0m     \u001b[1;32melse\u001b[0m\u001b[1;33m:\u001b[0m\u001b[1;33m\u001b[0m\u001b[1;33m\u001b[0m\u001b[0m\n\u001b[0;32m    221\u001b[0m         \u001b[0mopener\u001b[0m \u001b[1;33m=\u001b[0m \u001b[0m_opener\u001b[0m\u001b[1;33m\u001b[0m\u001b[1;33m\u001b[0m\u001b[0m\n\u001b[1;32m--> 222\u001b[1;33m     \u001b[1;32mreturn\u001b[0m \u001b[0mopener\u001b[0m\u001b[1;33m.\u001b[0m\u001b[0mopen\u001b[0m\u001b[1;33m(\u001b[0m\u001b[0murl\u001b[0m\u001b[1;33m,\u001b[0m \u001b[0mdata\u001b[0m\u001b[1;33m,\u001b[0m \u001b[0mtimeout\u001b[0m\u001b[1;33m)\u001b[0m\u001b[1;33m\u001b[0m\u001b[1;33m\u001b[0m\u001b[0m\n\u001b[0m\u001b[0;32m    223\u001b[0m \u001b[1;33m\u001b[0m\u001b[0m\n\u001b[0;32m    224\u001b[0m \u001b[1;32mdef\u001b[0m \u001b[0minstall_opener\u001b[0m\u001b[1;33m(\u001b[0m\u001b[0mopener\u001b[0m\u001b[1;33m)\u001b[0m\u001b[1;33m:\u001b[0m\u001b[1;33m\u001b[0m\u001b[1;33m\u001b[0m\u001b[0m\n",
      "\u001b[1;32m~\\Anaconda3\\envs\\condadev\\lib\\urllib\\request.py\u001b[0m in \u001b[0;36mopen\u001b[1;34m(self, fullurl, data, timeout)\u001b[0m\n\u001b[0;32m    523\u001b[0m             \u001b[0mreq\u001b[0m \u001b[1;33m=\u001b[0m \u001b[0mmeth\u001b[0m\u001b[1;33m(\u001b[0m\u001b[0mreq\u001b[0m\u001b[1;33m)\u001b[0m\u001b[1;33m\u001b[0m\u001b[1;33m\u001b[0m\u001b[0m\n\u001b[0;32m    524\u001b[0m \u001b[1;33m\u001b[0m\u001b[0m\n\u001b[1;32m--> 525\u001b[1;33m         \u001b[0mresponse\u001b[0m \u001b[1;33m=\u001b[0m \u001b[0mself\u001b[0m\u001b[1;33m.\u001b[0m\u001b[0m_open\u001b[0m\u001b[1;33m(\u001b[0m\u001b[0mreq\u001b[0m\u001b[1;33m,\u001b[0m \u001b[0mdata\u001b[0m\u001b[1;33m)\u001b[0m\u001b[1;33m\u001b[0m\u001b[1;33m\u001b[0m\u001b[0m\n\u001b[0m\u001b[0;32m    526\u001b[0m \u001b[1;33m\u001b[0m\u001b[0m\n\u001b[0;32m    527\u001b[0m         \u001b[1;31m# post-process response\u001b[0m\u001b[1;33m\u001b[0m\u001b[1;33m\u001b[0m\u001b[1;33m\u001b[0m\u001b[0m\n",
      "\u001b[1;32m~\\Anaconda3\\envs\\condadev\\lib\\urllib\\request.py\u001b[0m in \u001b[0;36m_open\u001b[1;34m(self, req, data)\u001b[0m\n\u001b[0;32m    541\u001b[0m         \u001b[0mprotocol\u001b[0m \u001b[1;33m=\u001b[0m \u001b[0mreq\u001b[0m\u001b[1;33m.\u001b[0m\u001b[0mtype\u001b[0m\u001b[1;33m\u001b[0m\u001b[1;33m\u001b[0m\u001b[0m\n\u001b[0;32m    542\u001b[0m         result = self._call_chain(self.handle_open, protocol, protocol +\n\u001b[1;32m--> 543\u001b[1;33m                                   '_open', req)\n\u001b[0m\u001b[0;32m    544\u001b[0m         \u001b[1;32mif\u001b[0m \u001b[0mresult\u001b[0m\u001b[1;33m:\u001b[0m\u001b[1;33m\u001b[0m\u001b[1;33m\u001b[0m\u001b[0m\n\u001b[0;32m    545\u001b[0m             \u001b[1;32mreturn\u001b[0m \u001b[0mresult\u001b[0m\u001b[1;33m\u001b[0m\u001b[1;33m\u001b[0m\u001b[0m\n",
      "\u001b[1;32m~\\Anaconda3\\envs\\condadev\\lib\\urllib\\request.py\u001b[0m in \u001b[0;36m_call_chain\u001b[1;34m(self, chain, kind, meth_name, *args)\u001b[0m\n\u001b[0;32m    501\u001b[0m         \u001b[1;32mfor\u001b[0m \u001b[0mhandler\u001b[0m \u001b[1;32min\u001b[0m \u001b[0mhandlers\u001b[0m\u001b[1;33m:\u001b[0m\u001b[1;33m\u001b[0m\u001b[1;33m\u001b[0m\u001b[0m\n\u001b[0;32m    502\u001b[0m             \u001b[0mfunc\u001b[0m \u001b[1;33m=\u001b[0m \u001b[0mgetattr\u001b[0m\u001b[1;33m(\u001b[0m\u001b[0mhandler\u001b[0m\u001b[1;33m,\u001b[0m \u001b[0mmeth_name\u001b[0m\u001b[1;33m)\u001b[0m\u001b[1;33m\u001b[0m\u001b[1;33m\u001b[0m\u001b[0m\n\u001b[1;32m--> 503\u001b[1;33m             \u001b[0mresult\u001b[0m \u001b[1;33m=\u001b[0m \u001b[0mfunc\u001b[0m\u001b[1;33m(\u001b[0m\u001b[1;33m*\u001b[0m\u001b[0margs\u001b[0m\u001b[1;33m)\u001b[0m\u001b[1;33m\u001b[0m\u001b[1;33m\u001b[0m\u001b[0m\n\u001b[0m\u001b[0;32m    504\u001b[0m             \u001b[1;32mif\u001b[0m \u001b[0mresult\u001b[0m \u001b[1;32mis\u001b[0m \u001b[1;32mnot\u001b[0m \u001b[1;32mNone\u001b[0m\u001b[1;33m:\u001b[0m\u001b[1;33m\u001b[0m\u001b[1;33m\u001b[0m\u001b[0m\n\u001b[0;32m    505\u001b[0m                 \u001b[1;32mreturn\u001b[0m \u001b[0mresult\u001b[0m\u001b[1;33m\u001b[0m\u001b[1;33m\u001b[0m\u001b[0m\n",
      "\u001b[1;32m~\\Anaconda3\\envs\\condadev\\lib\\urllib\\request.py\u001b[0m in \u001b[0;36mhttp_open\u001b[1;34m(self, req)\u001b[0m\n\u001b[0;32m   1376\u001b[0m \u001b[1;33m\u001b[0m\u001b[0m\n\u001b[0;32m   1377\u001b[0m     \u001b[1;32mdef\u001b[0m \u001b[0mhttp_open\u001b[0m\u001b[1;33m(\u001b[0m\u001b[0mself\u001b[0m\u001b[1;33m,\u001b[0m \u001b[0mreq\u001b[0m\u001b[1;33m)\u001b[0m\u001b[1;33m:\u001b[0m\u001b[1;33m\u001b[0m\u001b[1;33m\u001b[0m\u001b[0m\n\u001b[1;32m-> 1378\u001b[1;33m         \u001b[1;32mreturn\u001b[0m \u001b[0mself\u001b[0m\u001b[1;33m.\u001b[0m\u001b[0mdo_open\u001b[0m\u001b[1;33m(\u001b[0m\u001b[0mhttp\u001b[0m\u001b[1;33m.\u001b[0m\u001b[0mclient\u001b[0m\u001b[1;33m.\u001b[0m\u001b[0mHTTPConnection\u001b[0m\u001b[1;33m,\u001b[0m \u001b[0mreq\u001b[0m\u001b[1;33m)\u001b[0m\u001b[1;33m\u001b[0m\u001b[1;33m\u001b[0m\u001b[0m\n\u001b[0m\u001b[0;32m   1379\u001b[0m \u001b[1;33m\u001b[0m\u001b[0m\n\u001b[0;32m   1380\u001b[0m     \u001b[0mhttp_request\u001b[0m \u001b[1;33m=\u001b[0m \u001b[0mAbstractHTTPHandler\u001b[0m\u001b[1;33m.\u001b[0m\u001b[0mdo_request_\u001b[0m\u001b[1;33m\u001b[0m\u001b[1;33m\u001b[0m\u001b[0m\n",
      "\u001b[1;32m~\\Anaconda3\\envs\\condadev\\lib\\urllib\\request.py\u001b[0m in \u001b[0;36mdo_open\u001b[1;34m(self, http_class, req, **http_conn_args)\u001b[0m\n\u001b[0;32m   1350\u001b[0m                           encode_chunked=req.has_header('Transfer-encoding'))\n\u001b[0;32m   1351\u001b[0m             \u001b[1;32mexcept\u001b[0m \u001b[0mOSError\u001b[0m \u001b[1;32mas\u001b[0m \u001b[0merr\u001b[0m\u001b[1;33m:\u001b[0m \u001b[1;31m# timeout error\u001b[0m\u001b[1;33m\u001b[0m\u001b[1;33m\u001b[0m\u001b[0m\n\u001b[1;32m-> 1352\u001b[1;33m                 \u001b[1;32mraise\u001b[0m \u001b[0mURLError\u001b[0m\u001b[1;33m(\u001b[0m\u001b[0merr\u001b[0m\u001b[1;33m)\u001b[0m\u001b[1;33m\u001b[0m\u001b[1;33m\u001b[0m\u001b[0m\n\u001b[0m\u001b[0;32m   1353\u001b[0m             \u001b[0mr\u001b[0m \u001b[1;33m=\u001b[0m \u001b[0mh\u001b[0m\u001b[1;33m.\u001b[0m\u001b[0mgetresponse\u001b[0m\u001b[1;33m(\u001b[0m\u001b[1;33m)\u001b[0m\u001b[1;33m\u001b[0m\u001b[1;33m\u001b[0m\u001b[0m\n\u001b[0;32m   1354\u001b[0m         \u001b[1;32mexcept\u001b[0m\u001b[1;33m:\u001b[0m\u001b[1;33m\u001b[0m\u001b[1;33m\u001b[0m\u001b[0m\n",
      "\u001b[1;31mURLError\u001b[0m: <urlopen error [WinError 10051] A socket operation was attempted to an unreachable network>"
     ]
    },
    {
     "name": "stderr",
     "output_type": "stream",
     "text": [
      "  ----------------------------------------\n",
      "WARNING: Discarding https://files.pythonhosted.org/packages/3a/a7/de282a4aaedba59d60a895a7821e6497b39cbdfa94a352776ff45ffc6e6f/PyGObject-3.38.0.tar.gz#sha256=051b950f509f2e9f125add96c1493bde987c527f7a0c15a1f7b69d6d1c3cd8e6 (from https://pypi.org/simple/pygobject/) (requires-python:>=3.5, <4). Command errored out with exit status 1: 'C:\\Users\\Ian\\Anaconda3\\envs\\condadev\\python.exe' 'C:\\Users\\Ian\\Anaconda3\\envs\\condadev\\lib\\site-packages\\pip' install --ignore-installed --no-user --prefix 'C:\\Users\\Ian\\AppData\\Local\\Temp\\pip-build-env-gm48qis2\\overlay' --no-warn-script-location --no-binary :none: --only-binary :none: -i https://pypi.org/simple -- setuptools wheel pycairo Check the logs for full command output.\n",
      "  ERROR: Command errored out with exit status 1:\n",
      "   command: 'C:\\Users\\Ian\\Anaconda3\\envs\\condadev\\python.exe' 'C:\\Users\\Ian\\Anaconda3\\envs\\condadev\\lib\\site-packages\\pip' install --ignore-installed --no-user --prefix 'C:\\Users\\Ian\\AppData\\Local\\Temp\\pip-build-env-uqmzglac\\overlay' --no-warn-script-location --no-binary :none: --only-binary :none: -i https://pypi.org/simple -- setuptools wheel pycairo\n",
      "       cwd: None\n",
      "  Complete output (42 lines):\n",
      "  Traceback (most recent call last):\n",
      "    File \"C:\\Users\\Ian\\Anaconda3\\envs\\condadev\\lib\\runpy.py\", line 193, in _run_module_as_main\n",
      "      \"__main__\", mod_spec)\n",
      "    File \"C:\\Users\\Ian\\Anaconda3\\envs\\condadev\\lib\\runpy.py\", line 85, in _run_code\n",
      "      exec(code, run_globals)\n",
      "    File \"C:\\Users\\Ian\\Anaconda3\\envs\\condadev\\lib\\site-packages\\pip\\__main__.py\", line 24, in <module>\n",
      "      sys.exit(_main())\n",
      "    File \"C:\\Users\\Ian\\Anaconda3\\envs\\condadev\\lib\\site-packages\\pip\\_internal\\cli\\main.py\", line 71, in main\n",
      "      command = create_command(cmd_name, isolated=(\"--isolated\" in cmd_args))\n",
      "    File \"C:\\Users\\Ian\\Anaconda3\\envs\\condadev\\lib\\site-packages\\pip\\_internal\\commands\\__init__.py\", line 96, in create_command\n",
      "      module = importlib.import_module(module_path)\n",
      "    File \"C:\\Users\\Ian\\Anaconda3\\envs\\condadev\\lib\\importlib\\__init__.py\", line 127, in import_module\n",
      "      return _bootstrap._gcd_import(name[level:], package, level)\n",
      "    File \"<frozen importlib._bootstrap>\", line 1006, in _gcd_import\n",
      "    File \"<frozen importlib._bootstrap>\", line 983, in _find_and_load\n",
      "    File \"<frozen importlib._bootstrap>\", line 967, in _find_and_load_unlocked\n",
      "    File \"<frozen importlib._bootstrap>\", line 677, in _load_unlocked\n",
      "    File \"<frozen importlib._bootstrap_external>\", line 728, in exec_module\n",
      "    File \"<frozen importlib._bootstrap>\", line 219, in _call_with_frames_removed\n",
      "    File \"C:\\Users\\Ian\\Anaconda3\\envs\\condadev\\lib\\site-packages\\pip\\_internal\\commands\\install.py\", line 15, in <module>\n",
      "      from pip._internal.cli.req_command import RequirementCommand, with_cleanup\n",
      "    File \"C:\\Users\\Ian\\Anaconda3\\envs\\condadev\\lib\\site-packages\\pip\\_internal\\cli\\req_command.py\", line 16, in <module>\n",
      "      from pip._internal.index.collector import LinkCollector\n",
      "    File \"C:\\Users\\Ian\\Anaconda3\\envs\\condadev\\lib\\site-packages\\pip\\_internal\\index\\collector.py\", line 16, in <module>\n",
      "      from pip._vendor import html5lib, requests\n",
      "    File \"C:\\Users\\Ian\\Anaconda3\\envs\\condadev\\lib\\site-packages\\pip\\_vendor\\requests\\__init__.py\", line 123, in <module>\n",
      "      from . import utils\n",
      "    File \"C:\\Users\\Ian\\Anaconda3\\envs\\condadev\\lib\\site-packages\\pip\\_vendor\\requests\\utils.py\", line 25, in <module>\n",
      "      from . import certs\n",
      "    File \"C:\\Users\\Ian\\Anaconda3\\envs\\condadev\\lib\\site-packages\\pip\\_vendor\\requests\\certs.py\", line 15, in <module>\n",
      "      from pip._vendor.certifi import where\n",
      "    File \"C:\\Users\\Ian\\Anaconda3\\envs\\condadev\\lib\\site-packages\\pip\\_vendor\\certifi\\__init__.py\", line 1, in <module>\n",
      "      from .core import contents, where\n",
      "    File \"C:\\Users\\Ian\\Anaconda3\\envs\\condadev\\lib\\site-packages\\pip\\_vendor\\certifi\\core.py\", line 12, in <module>\n",
      "      from importlib.resources import path as get_path, read_text\n",
      "    File \"C:\\Users\\Ian\\Anaconda3\\envs\\condadev\\lib\\importlib\\resources.py\", line 11, in <module>\n",
      "      from typing import Iterable, Iterator, Optional, Set, Union   # noqa: F401\n",
      "    File \"C:\\Users\\Ian\\Anaconda3\\envs\\condadev\\lib\\site-packages\\typing.py\", line 1359, in <module>\n",
      "      class Callable(extra=collections_abc.Callable, metaclass=CallableMeta):\n",
      "    File \"C:\\Users\\Ian\\Anaconda3\\envs\\condadev\\lib\\site-packages\\typing.py\", line 1007, in __new__\n",
      "      self._abc_registry = extra._abc_registry\n",
      "  AttributeError: type object 'Callable' has no attribute '_abc_registry'\n",
      "  ----------------------------------------\n",
      "WARNING: Discarding https://files.pythonhosted.org/packages/93/41/bf9ab8929f51dac2979ae81bb094728bacee3ceb049def72d3fc1bcb4241/PyGObject-3.36.1.tar.gz#sha256=012a589aec687bfa809a1ff9f5cd775dc7f6fcec1a6bc7fe88e1002a68f8ba34 (from https://pypi.org/simple/pygobject/) (requires-python:>=2.7, !=3.0.*, !=3.1.*, !=3.2.*, !=3.3.*, !=3.4.*, <4). Command errored out with exit status 1: 'C:\\Users\\Ian\\Anaconda3\\envs\\condadev\\python.exe' 'C:\\Users\\Ian\\Anaconda3\\envs\\condadev\\lib\\site-packages\\pip' install --ignore-installed --no-user --prefix 'C:\\Users\\Ian\\AppData\\Local\\Temp\\pip-build-env-uqmzglac\\overlay' --no-warn-script-location --no-binary :none: --only-binary :none: -i https://pypi.org/simple -- setuptools wheel pycairo Check the logs for full command output.\n",
      "  ERROR: Command errored out with exit status 1:\n",
      "   command: 'C:\\Users\\Ian\\Anaconda3\\envs\\condadev\\python.exe' 'C:\\Users\\Ian\\Anaconda3\\envs\\condadev\\lib\\site-packages\\pip' install --ignore-installed --no-user --prefix 'C:\\Users\\Ian\\AppData\\Local\\Temp\\pip-build-env-asiguapu\\overlay' --no-warn-script-location --no-binary :none: --only-binary :none: -i https://pypi.org/simple -- setuptools wheel pycairo\n",
      "       cwd: None\n",
      "  Complete output (42 lines):\n",
      "  Traceback (most recent call last):\n",
      "    File \"C:\\Users\\Ian\\Anaconda3\\envs\\condadev\\lib\\runpy.py\", line 193, in _run_module_as_main\n",
      "      \"__main__\", mod_spec)\n",
      "    File \"C:\\Users\\Ian\\Anaconda3\\envs\\condadev\\lib\\runpy.py\", line 85, in _run_code\n",
      "      exec(code, run_globals)\n",
      "    File \"C:\\Users\\Ian\\Anaconda3\\envs\\condadev\\lib\\site-packages\\pip\\__main__.py\", line 24, in <module>\n",
      "      sys.exit(_main())\n",
      "    File \"C:\\Users\\Ian\\Anaconda3\\envs\\condadev\\lib\\site-packages\\pip\\_internal\\cli\\main.py\", line 71, in main\n",
      "      command = create_command(cmd_name, isolated=(\"--isolated\" in cmd_args))\n",
      "    File \"C:\\Users\\Ian\\Anaconda3\\envs\\condadev\\lib\\site-packages\\pip\\_internal\\commands\\__init__.py\", line 96, in create_command\n",
      "      module = importlib.import_module(module_path)\n",
      "    File \"C:\\Users\\Ian\\Anaconda3\\envs\\condadev\\lib\\importlib\\__init__.py\", line 127, in import_module\n",
      "      return _bootstrap._gcd_import(name[level:], package, level)\n",
      "    File \"<frozen importlib._bootstrap>\", line 1006, in _gcd_import\n",
      "    File \"<frozen importlib._bootstrap>\", line 983, in _find_and_load\n",
      "    File \"<frozen importlib._bootstrap>\", line 967, in _find_and_load_unlocked\n",
      "    File \"<frozen importlib._bootstrap>\", line 677, in _load_unlocked\n",
      "    File \"<frozen importlib._bootstrap_external>\", line 728, in exec_module\n",
      "    File \"<frozen importlib._bootstrap>\", line 219, in _call_with_frames_removed\n",
      "    File \"C:\\Users\\Ian\\Anaconda3\\envs\\condadev\\lib\\site-packages\\pip\\_internal\\commands\\install.py\", line 15, in <module>\n",
      "      from pip._internal.cli.req_command import RequirementCommand, with_cleanup\n",
      "    File \"C:\\Users\\Ian\\Anaconda3\\envs\\condadev\\lib\\site-packages\\pip\\_internal\\cli\\req_command.py\", line 16, in <module>\n",
      "      from pip._internal.index.collector import LinkCollector\n",
      "    File \"C:\\Users\\Ian\\Anaconda3\\envs\\condadev\\lib\\site-packages\\pip\\_internal\\index\\collector.py\", line 16, in <module>\n",
      "      from pip._vendor import html5lib, requests\n",
      "    File \"C:\\Users\\Ian\\Anaconda3\\envs\\condadev\\lib\\site-packages\\pip\\_vendor\\requests\\__init__.py\", line 123, in <module>\n",
      "      from . import utils\n",
      "    File \"C:\\Users\\Ian\\Anaconda3\\envs\\condadev\\lib\\site-packages\\pip\\_vendor\\requests\\utils.py\", line 25, in <module>\n",
      "      from . import certs\n",
      "    File \"C:\\Users\\Ian\\Anaconda3\\envs\\condadev\\lib\\site-packages\\pip\\_vendor\\requests\\certs.py\", line 15, in <module>\n",
      "      from pip._vendor.certifi import where\n",
      "    File \"C:\\Users\\Ian\\Anaconda3\\envs\\condadev\\lib\\site-packages\\pip\\_vendor\\certifi\\__init__.py\", line 1, in <module>\n",
      "      from .core import contents, where\n",
      "    File \"C:\\Users\\Ian\\Anaconda3\\envs\\condadev\\lib\\site-packages\\pip\\_vendor\\certifi\\core.py\", line 12, in <module>\n",
      "      from importlib.resources import path as get_path, read_text\n",
      "    File \"C:\\Users\\Ian\\Anaconda3\\envs\\condadev\\lib\\importlib\\resources.py\", line 11, in <module>\n",
      "      from typing import Iterable, Iterator, Optional, Set, Union   # noqa: F401\n",
      "    File \"C:\\Users\\Ian\\Anaconda3\\envs\\condadev\\lib\\site-packages\\typing.py\", line 1359, in <module>\n",
      "      class Callable(extra=collections_abc.Callable, metaclass=CallableMeta):\n",
      "    File \"C:\\Users\\Ian\\Anaconda3\\envs\\condadev\\lib\\site-packages\\typing.py\", line 1007, in __new__\n",
      "      self._abc_registry = extra._abc_registry\n",
      "  AttributeError: type object 'Callable' has no attribute '_abc_registry'\n",
      "  ----------------------------------------\n",
      "WARNING: Discarding https://files.pythonhosted.org/packages/3e/b5/f4fd3351ed074aeeae30bff71428f38bc42187e34c44913239a9dc85a7fc/PyGObject-3.36.0.tar.gz#sha256=b97f570e55017fcd3732164811f24ecf63983a4834f61b55b0aaf64ecefac856 (from https://pypi.org/simple/pygobject/) (requires-python:>=2.7, !=3.0.*, !=3.1.*, !=3.2.*, !=3.3.*, !=3.4.*, <4). Command errored out with exit status 1: 'C:\\Users\\Ian\\Anaconda3\\envs\\condadev\\python.exe' 'C:\\Users\\Ian\\Anaconda3\\envs\\condadev\\lib\\site-packages\\pip' install --ignore-installed --no-user --prefix 'C:\\Users\\Ian\\AppData\\Local\\Temp\\pip-build-env-asiguapu\\overlay' --no-warn-script-location --no-binary :none: --only-binary :none: -i https://pypi.org/simple -- setuptools wheel pycairo Check the logs for full command output.\n",
      "  ERROR: Command errored out with exit status 1:\n",
      "   command: 'C:\\Users\\Ian\\Anaconda3\\envs\\condadev\\python.exe' 'C:\\Users\\Ian\\Anaconda3\\envs\\condadev\\lib\\site-packages\\pip' install --ignore-installed --no-user --prefix 'C:\\Users\\Ian\\AppData\\Local\\Temp\\pip-build-env-80p2k492\\overlay' --no-warn-script-location --no-binary :none: --only-binary :none: -i https://pypi.org/simple -- setuptools wheel pycairo\n",
      "       cwd: None\n",
      "  Complete output (42 lines):\n",
      "  Traceback (most recent call last):\n",
      "    File \"C:\\Users\\Ian\\Anaconda3\\envs\\condadev\\lib\\runpy.py\", line 193, in _run_module_as_main\n",
      "      \"__main__\", mod_spec)\n",
      "    File \"C:\\Users\\Ian\\Anaconda3\\envs\\condadev\\lib\\runpy.py\", line 85, in _run_code\n",
      "      exec(code, run_globals)\n",
      "    File \"C:\\Users\\Ian\\Anaconda3\\envs\\condadev\\lib\\site-packages\\pip\\__main__.py\", line 24, in <module>\n",
      "      sys.exit(_main())\n",
      "    File \"C:\\Users\\Ian\\Anaconda3\\envs\\condadev\\lib\\site-packages\\pip\\_internal\\cli\\main.py\", line 71, in main\n",
      "      command = create_command(cmd_name, isolated=(\"--isolated\" in cmd_args))\n",
      "    File \"C:\\Users\\Ian\\Anaconda3\\envs\\condadev\\lib\\site-packages\\pip\\_internal\\commands\\__init__.py\", line 96, in create_command\n",
      "      module = importlib.import_module(module_path)\n",
      "    File \"C:\\Users\\Ian\\Anaconda3\\envs\\condadev\\lib\\importlib\\__init__.py\", line 127, in import_module\n",
      "      return _bootstrap._gcd_import(name[level:], package, level)\n",
      "    File \"<frozen importlib._bootstrap>\", line 1006, in _gcd_import\n",
      "    File \"<frozen importlib._bootstrap>\", line 983, in _find_and_load\n",
      "    File \"<frozen importlib._bootstrap>\", line 967, in _find_and_load_unlocked\n",
      "    File \"<frozen importlib._bootstrap>\", line 677, in _load_unlocked\n",
      "    File \"<frozen importlib._bootstrap_external>\", line 728, in exec_module\n",
      "    File \"<frozen importlib._bootstrap>\", line 219, in _call_with_frames_removed\n",
      "    File \"C:\\Users\\Ian\\Anaconda3\\envs\\condadev\\lib\\site-packages\\pip\\_internal\\commands\\install.py\", line 15, in <module>\n",
      "      from pip._internal.cli.req_command import RequirementCommand, with_cleanup\n",
      "    File \"C:\\Users\\Ian\\Anaconda3\\envs\\condadev\\lib\\site-packages\\pip\\_internal\\cli\\req_command.py\", line 16, in <module>\n",
      "      from pip._internal.index.collector import LinkCollector\n",
      "    File \"C:\\Users\\Ian\\Anaconda3\\envs\\condadev\\lib\\site-packages\\pip\\_internal\\index\\collector.py\", line 16, in <module>\n",
      "      from pip._vendor import html5lib, requests\n",
      "    File \"C:\\Users\\Ian\\Anaconda3\\envs\\condadev\\lib\\site-packages\\pip\\_vendor\\requests\\__init__.py\", line 123, in <module>\n",
      "      from . import utils\n",
      "    File \"C:\\Users\\Ian\\Anaconda3\\envs\\condadev\\lib\\site-packages\\pip\\_vendor\\requests\\utils.py\", line 25, in <module>\n",
      "      from . import certs\n",
      "    File \"C:\\Users\\Ian\\Anaconda3\\envs\\condadev\\lib\\site-packages\\pip\\_vendor\\requests\\certs.py\", line 15, in <module>\n",
      "      from pip._vendor.certifi import where\n",
      "    File \"C:\\Users\\Ian\\Anaconda3\\envs\\condadev\\lib\\site-packages\\pip\\_vendor\\certifi\\__init__.py\", line 1, in <module>\n",
      "      from .core import contents, where\n",
      "    File \"C:\\Users\\Ian\\Anaconda3\\envs\\condadev\\lib\\site-packages\\pip\\_vendor\\certifi\\core.py\", line 12, in <module>\n",
      "      from importlib.resources import path as get_path, read_text\n",
      "    File \"C:\\Users\\Ian\\Anaconda3\\envs\\condadev\\lib\\importlib\\resources.py\", line 11, in <module>\n",
      "      from typing import Iterable, Iterator, Optional, Set, Union   # noqa: F401\n",
      "    File \"C:\\Users\\Ian\\Anaconda3\\envs\\condadev\\lib\\site-packages\\typing.py\", line 1359, in <module>\n",
      "      class Callable(extra=collections_abc.Callable, metaclass=CallableMeta):\n",
      "    File \"C:\\Users\\Ian\\Anaconda3\\envs\\condadev\\lib\\site-packages\\typing.py\", line 1007, in __new__\n",
      "      self._abc_registry = extra._abc_registry\n",
      "  AttributeError: type object 'Callable' has no attribute '_abc_registry'\n",
      "  ----------------------------------------\n",
      "WARNING: Discarding https://files.pythonhosted.org/packages/46/8a/b183f3edc812d4d28c8b671a922b5bc2863be5d38c56b3ad9155815e78dd/PyGObject-3.34.0.tar.gz#sha256=2acb0daf2b3a23a90f52066cc23d1053339fee2f5f7f4275f8baa3704ae0c543 (from https://pypi.org/simple/pygobject/) (requires-python:>=2.7, !=3.0.*, !=3.1.*, !=3.2.*, !=3.3.*, !=3.4.*, <4). Command errored out with exit status 1: 'C:\\Users\\Ian\\Anaconda3\\envs\\condadev\\python.exe' 'C:\\Users\\Ian\\Anaconda3\\envs\\condadev\\lib\\site-packages\\pip' install --ignore-installed --no-user --prefix 'C:\\Users\\Ian\\AppData\\Local\\Temp\\pip-build-env-80p2k492\\overlay' --no-warn-script-location --no-binary :none: --only-binary :none: -i https://pypi.org/simple -- setuptools wheel pycairo Check the logs for full command output.\n",
      "  ERROR: Command errored out with exit status 1:\n",
      "   command: 'C:\\Users\\Ian\\Anaconda3\\envs\\condadev\\python.exe' 'C:\\Users\\Ian\\Anaconda3\\envs\\condadev\\lib\\site-packages\\pip' install --ignore-installed --no-user --prefix 'C:\\Users\\Ian\\AppData\\Local\\Temp\\pip-build-env-nyot6gs2\\overlay' --no-warn-script-location --no-binary :none: --only-binary :none: -i https://pypi.org/simple -- setuptools wheel pycairo\n",
      "       cwd: None\n",
      "  Complete output (42 lines):\n",
      "  Traceback (most recent call last):\n",
      "    File \"C:\\Users\\Ian\\Anaconda3\\envs\\condadev\\lib\\runpy.py\", line 193, in _run_module_as_main\n",
      "      \"__main__\", mod_spec)\n",
      "    File \"C:\\Users\\Ian\\Anaconda3\\envs\\condadev\\lib\\runpy.py\", line 85, in _run_code\n",
      "      exec(code, run_globals)\n",
      "    File \"C:\\Users\\Ian\\Anaconda3\\envs\\condadev\\lib\\site-packages\\pip\\__main__.py\", line 24, in <module>\n",
      "      sys.exit(_main())\n",
      "    File \"C:\\Users\\Ian\\Anaconda3\\envs\\condadev\\lib\\site-packages\\pip\\_internal\\cli\\main.py\", line 71, in main\n",
      "      command = create_command(cmd_name, isolated=(\"--isolated\" in cmd_args))\n",
      "    File \"C:\\Users\\Ian\\Anaconda3\\envs\\condadev\\lib\\site-packages\\pip\\_internal\\commands\\__init__.py\", line 96, in create_command\n",
      "      module = importlib.import_module(module_path)\n",
      "    File \"C:\\Users\\Ian\\Anaconda3\\envs\\condadev\\lib\\importlib\\__init__.py\", line 127, in import_module\n",
      "      return _bootstrap._gcd_import(name[level:], package, level)\n",
      "    File \"<frozen importlib._bootstrap>\", line 1006, in _gcd_import\n",
      "    File \"<frozen importlib._bootstrap>\", line 983, in _find_and_load\n",
      "    File \"<frozen importlib._bootstrap>\", line 967, in _find_and_load_unlocked\n",
      "    File \"<frozen importlib._bootstrap>\", line 677, in _load_unlocked\n",
      "    File \"<frozen importlib._bootstrap_external>\", line 728, in exec_module\n",
      "    File \"<frozen importlib._bootstrap>\", line 219, in _call_with_frames_removed\n",
      "    File \"C:\\Users\\Ian\\Anaconda3\\envs\\condadev\\lib\\site-packages\\pip\\_internal\\commands\\install.py\", line 15, in <module>\n",
      "      from pip._internal.cli.req_command import RequirementCommand, with_cleanup\n",
      "    File \"C:\\Users\\Ian\\Anaconda3\\envs\\condadev\\lib\\site-packages\\pip\\_internal\\cli\\req_command.py\", line 16, in <module>\n",
      "      from pip._internal.index.collector import LinkCollector\n",
      "    File \"C:\\Users\\Ian\\Anaconda3\\envs\\condadev\\lib\\site-packages\\pip\\_internal\\index\\collector.py\", line 16, in <module>\n",
      "      from pip._vendor import html5lib, requests\n",
      "    File \"C:\\Users\\Ian\\Anaconda3\\envs\\condadev\\lib\\site-packages\\pip\\_vendor\\requests\\__init__.py\", line 123, in <module>\n",
      "      from . import utils\n",
      "    File \"C:\\Users\\Ian\\Anaconda3\\envs\\condadev\\lib\\site-packages\\pip\\_vendor\\requests\\utils.py\", line 25, in <module>\n",
      "      from . import certs\n",
      "    File \"C:\\Users\\Ian\\Anaconda3\\envs\\condadev\\lib\\site-packages\\pip\\_vendor\\requests\\certs.py\", line 15, in <module>\n",
      "      from pip._vendor.certifi import where\n",
      "    File \"C:\\Users\\Ian\\Anaconda3\\envs\\condadev\\lib\\site-packages\\pip\\_vendor\\certifi\\__init__.py\", line 1, in <module>\n",
      "      from .core import contents, where\n",
      "    File \"C:\\Users\\Ian\\Anaconda3\\envs\\condadev\\lib\\site-packages\\pip\\_vendor\\certifi\\core.py\", line 12, in <module>\n",
      "      from importlib.resources import path as get_path, read_text\n",
      "    File \"C:\\Users\\Ian\\Anaconda3\\envs\\condadev\\lib\\importlib\\resources.py\", line 11, in <module>\n",
      "      from typing import Iterable, Iterator, Optional, Set, Union   # noqa: F401\n",
      "    File \"C:\\Users\\Ian\\Anaconda3\\envs\\condadev\\lib\\site-packages\\typing.py\", line 1359, in <module>\n",
      "      class Callable(extra=collections_abc.Callable, metaclass=CallableMeta):\n",
      "    File \"C:\\Users\\Ian\\Anaconda3\\envs\\condadev\\lib\\site-packages\\typing.py\", line 1007, in __new__\n",
      "      self._abc_registry = extra._abc_registry\n",
      "  AttributeError: type object 'Callable' has no attribute '_abc_registry'\n",
      "  ----------------------------------------\n",
      "WARNING: Discarding https://files.pythonhosted.org/packages/40/ee/8daf797cda4ffe7724b9d47cbb5e2b44ca6235764622d163c586bd9bd7c5/PyGObject-3.32.2.tar.gz#sha256=fa82746df059b9e0dcf473e0a9ff0693aa5e064f1ca1e2c46b5ac815bceda1ad (from https://pypi.org/simple/pygobject/) (requires-python:>=2.7, !=3.0.*, !=3.1.*, !=3.2.*, !=3.3.*, !=3.4.*, <4). Command errored out with exit status 1: 'C:\\Users\\Ian\\Anaconda3\\envs\\condadev\\python.exe' 'C:\\Users\\Ian\\Anaconda3\\envs\\condadev\\lib\\site-packages\\pip' install --ignore-installed --no-user --prefix 'C:\\Users\\Ian\\AppData\\Local\\Temp\\pip-build-env-nyot6gs2\\overlay' --no-warn-script-location --no-binary :none: --only-binary :none: -i https://pypi.org/simple -- setuptools wheel pycairo Check the logs for full command output.\n",
      "  ERROR: Command errored out with exit status 1:\n",
      "   command: 'C:\\Users\\Ian\\Anaconda3\\envs\\condadev\\python.exe' 'C:\\Users\\Ian\\Anaconda3\\envs\\condadev\\lib\\site-packages\\pip' install --ignore-installed --no-user --prefix 'C:\\Users\\Ian\\AppData\\Local\\Temp\\pip-build-env-x6q86hbp\\overlay' --no-warn-script-location --no-binary :none: --only-binary :none: -i https://pypi.org/simple -- setuptools wheel pycairo\n",
      "       cwd: None\n",
      "  Complete output (42 lines):\n",
      "  Traceback (most recent call last):\n",
      "    File \"C:\\Users\\Ian\\Anaconda3\\envs\\condadev\\lib\\runpy.py\", line 193, in _run_module_as_main\n",
      "      \"__main__\", mod_spec)\n",
      "    File \"C:\\Users\\Ian\\Anaconda3\\envs\\condadev\\lib\\runpy.py\", line 85, in _run_code\n",
      "      exec(code, run_globals)\n",
      "    File \"C:\\Users\\Ian\\Anaconda3\\envs\\condadev\\lib\\site-packages\\pip\\__main__.py\", line 24, in <module>\n",
      "      sys.exit(_main())\n",
      "    File \"C:\\Users\\Ian\\Anaconda3\\envs\\condadev\\lib\\site-packages\\pip\\_internal\\cli\\main.py\", line 71, in main\n",
      "      command = create_command(cmd_name, isolated=(\"--isolated\" in cmd_args))\n",
      "    File \"C:\\Users\\Ian\\Anaconda3\\envs\\condadev\\lib\\site-packages\\pip\\_internal\\commands\\__init__.py\", line 96, in create_command\n",
      "      module = importlib.import_module(module_path)\n",
      "    File \"C:\\Users\\Ian\\Anaconda3\\envs\\condadev\\lib\\importlib\\__init__.py\", line 127, in import_module\n",
      "      return _bootstrap._gcd_import(name[level:], package, level)\n",
      "    File \"<frozen importlib._bootstrap>\", line 1006, in _gcd_import\n",
      "    File \"<frozen importlib._bootstrap>\", line 983, in _find_and_load\n",
      "    File \"<frozen importlib._bootstrap>\", line 967, in _find_and_load_unlocked\n",
      "    File \"<frozen importlib._bootstrap>\", line 677, in _load_unlocked\n",
      "    File \"<frozen importlib._bootstrap_external>\", line 728, in exec_module\n",
      "    File \"<frozen importlib._bootstrap>\", line 219, in _call_with_frames_removed\n",
      "    File \"C:\\Users\\Ian\\Anaconda3\\envs\\condadev\\lib\\site-packages\\pip\\_internal\\commands\\install.py\", line 15, in <module>\n",
      "      from pip._internal.cli.req_command import RequirementCommand, with_cleanup\n",
      "    File \"C:\\Users\\Ian\\Anaconda3\\envs\\condadev\\lib\\site-packages\\pip\\_internal\\cli\\req_command.py\", line 16, in <module>\n",
      "      from pip._internal.index.collector import LinkCollector\n",
      "    File \"C:\\Users\\Ian\\Anaconda3\\envs\\condadev\\lib\\site-packages\\pip\\_internal\\index\\collector.py\", line 16, in <module>\n",
      "      from pip._vendor import html5lib, requests\n",
      "    File \"C:\\Users\\Ian\\Anaconda3\\envs\\condadev\\lib\\site-packages\\pip\\_vendor\\requests\\__init__.py\", line 123, in <module>\n",
      "      from . import utils\n",
      "    File \"C:\\Users\\Ian\\Anaconda3\\envs\\condadev\\lib\\site-packages\\pip\\_vendor\\requests\\utils.py\", line 25, in <module>\n",
      "      from . import certs\n",
      "    File \"C:\\Users\\Ian\\Anaconda3\\envs\\condadev\\lib\\site-packages\\pip\\_vendor\\requests\\certs.py\", line 15, in <module>\n",
      "      from pip._vendor.certifi import where\n",
      "    File \"C:\\Users\\Ian\\Anaconda3\\envs\\condadev\\lib\\site-packages\\pip\\_vendor\\certifi\\__init__.py\", line 1, in <module>\n",
      "      from .core import contents, where\n",
      "    File \"C:\\Users\\Ian\\Anaconda3\\envs\\condadev\\lib\\site-packages\\pip\\_vendor\\certifi\\core.py\", line 12, in <module>\n",
      "      from importlib.resources import path as get_path, read_text\n",
      "    File \"C:\\Users\\Ian\\Anaconda3\\envs\\condadev\\lib\\importlib\\resources.py\", line 11, in <module>\n",
      "      from typing import Iterable, Iterator, Optional, Set, Union   # noqa: F401\n",
      "    File \"C:\\Users\\Ian\\Anaconda3\\envs\\condadev\\lib\\site-packages\\typing.py\", line 1359, in <module>\n",
      "      class Callable(extra=collections_abc.Callable, metaclass=CallableMeta):\n",
      "    File \"C:\\Users\\Ian\\Anaconda3\\envs\\condadev\\lib\\site-packages\\typing.py\", line 1007, in __new__\n",
      "      self._abc_registry = extra._abc_registry\n",
      "  AttributeError: type object 'Callable' has no attribute '_abc_registry'\n",
      "  ----------------------------------------\n",
      "WARNING: Discarding https://files.pythonhosted.org/packages/c1/36/c31a6ce9411b22a8ac0759c9b5ffda09368d5e0643450bb8ed83c271588c/PyGObject-3.32.1.tar.gz#sha256=4165d9fb4157e69c76f29e52a6d73a39a804e18ad9ef0eede15efd9c57c52bf2 (from https://pypi.org/simple/pygobject/). Command errored out with exit status 1: 'C:\\Users\\Ian\\Anaconda3\\envs\\condadev\\python.exe' 'C:\\Users\\Ian\\Anaconda3\\envs\\condadev\\lib\\site-packages\\pip' install --ignore-installed --no-user --prefix 'C:\\Users\\Ian\\AppData\\Local\\Temp\\pip-build-env-x6q86hbp\\overlay' --no-warn-script-location --no-binary :none: --only-binary :none: -i https://pypi.org/simple -- setuptools wheel pycairo Check the logs for full command output.\n",
      "  ERROR: Command errored out with exit status 1:\n",
      "   command: 'C:\\Users\\Ian\\Anaconda3\\envs\\condadev\\python.exe' 'C:\\Users\\Ian\\Anaconda3\\envs\\condadev\\lib\\site-packages\\pip' install --ignore-installed --no-user --prefix 'C:\\Users\\Ian\\AppData\\Local\\Temp\\pip-build-env-f625_w0p\\overlay' --no-warn-script-location --no-binary :none: --only-binary :none: -i https://pypi.org/simple -- setuptools wheel pycairo\n",
      "       cwd: None\n",
      "  Complete output (42 lines):\n",
      "  Traceback (most recent call last):\n",
      "    File \"C:\\Users\\Ian\\Anaconda3\\envs\\condadev\\lib\\runpy.py\", line 193, in _run_module_as_main\n",
      "      \"__main__\", mod_spec)\n",
      "    File \"C:\\Users\\Ian\\Anaconda3\\envs\\condadev\\lib\\runpy.py\", line 85, in _run_code\n",
      "      exec(code, run_globals)\n",
      "    File \"C:\\Users\\Ian\\Anaconda3\\envs\\condadev\\lib\\site-packages\\pip\\__main__.py\", line 24, in <module>\n",
      "      sys.exit(_main())\n",
      "    File \"C:\\Users\\Ian\\Anaconda3\\envs\\condadev\\lib\\site-packages\\pip\\_internal\\cli\\main.py\", line 71, in main\n",
      "      command = create_command(cmd_name, isolated=(\"--isolated\" in cmd_args))\n",
      "    File \"C:\\Users\\Ian\\Anaconda3\\envs\\condadev\\lib\\site-packages\\pip\\_internal\\commands\\__init__.py\", line 96, in create_command\n",
      "      module = importlib.import_module(module_path)\n",
      "    File \"C:\\Users\\Ian\\Anaconda3\\envs\\condadev\\lib\\importlib\\__init__.py\", line 127, in import_module\n",
      "      return _bootstrap._gcd_import(name[level:], package, level)\n",
      "    File \"<frozen importlib._bootstrap>\", line 1006, in _gcd_import\n",
      "    File \"<frozen importlib._bootstrap>\", line 983, in _find_and_load\n",
      "    File \"<frozen importlib._bootstrap>\", line 967, in _find_and_load_unlocked\n",
      "    File \"<frozen importlib._bootstrap>\", line 677, in _load_unlocked\n",
      "    File \"<frozen importlib._bootstrap_external>\", line 728, in exec_module\n",
      "    File \"<frozen importlib._bootstrap>\", line 219, in _call_with_frames_removed\n",
      "    File \"C:\\Users\\Ian\\Anaconda3\\envs\\condadev\\lib\\site-packages\\pip\\_internal\\commands\\install.py\", line 15, in <module>\n",
      "      from pip._internal.cli.req_command import RequirementCommand, with_cleanup\n",
      "    File \"C:\\Users\\Ian\\Anaconda3\\envs\\condadev\\lib\\site-packages\\pip\\_internal\\cli\\req_command.py\", line 16, in <module>\n",
      "      from pip._internal.index.collector import LinkCollector\n",
      "    File \"C:\\Users\\Ian\\Anaconda3\\envs\\condadev\\lib\\site-packages\\pip\\_internal\\index\\collector.py\", line 16, in <module>\n",
      "      from pip._vendor import html5lib, requests\n",
      "    File \"C:\\Users\\Ian\\Anaconda3\\envs\\condadev\\lib\\site-packages\\pip\\_vendor\\requests\\__init__.py\", line 123, in <module>\n",
      "      from . import utils\n",
      "    File \"C:\\Users\\Ian\\Anaconda3\\envs\\condadev\\lib\\site-packages\\pip\\_vendor\\requests\\utils.py\", line 25, in <module>\n",
      "      from . import certs\n",
      "    File \"C:\\Users\\Ian\\Anaconda3\\envs\\condadev\\lib\\site-packages\\pip\\_vendor\\requests\\certs.py\", line 15, in <module>\n",
      "      from pip._vendor.certifi import where\n",
      "    File \"C:\\Users\\Ian\\Anaconda3\\envs\\condadev\\lib\\site-packages\\pip\\_vendor\\certifi\\__init__.py\", line 1, in <module>\n",
      "      from .core import contents, where\n",
      "    File \"C:\\Users\\Ian\\Anaconda3\\envs\\condadev\\lib\\site-packages\\pip\\_vendor\\certifi\\core.py\", line 12, in <module>\n",
      "      from importlib.resources import path as get_path, read_text\n",
      "    File \"C:\\Users\\Ian\\Anaconda3\\envs\\condadev\\lib\\importlib\\resources.py\", line 11, in <module>\n",
      "      from typing import Iterable, Iterator, Optional, Set, Union   # noqa: F401\n",
      "    File \"C:\\Users\\Ian\\Anaconda3\\envs\\condadev\\lib\\site-packages\\typing.py\", line 1359, in <module>\n",
      "      class Callable(extra=collections_abc.Callable, metaclass=CallableMeta):\n",
      "    File \"C:\\Users\\Ian\\Anaconda3\\envs\\condadev\\lib\\site-packages\\typing.py\", line 1007, in __new__\n",
      "      self._abc_registry = extra._abc_registry\n",
      "  AttributeError: type object 'Callable' has no attribute '_abc_registry'\n",
      "  ----------------------------------------\n",
      "WARNING: Discarding https://files.pythonhosted.org/packages/0b/fd/56ac6898afc5c7f5718026103bd8f0b44714b6f79ac20d7eb8990c9a7eab/PyGObject-3.32.0.tar.gz#sha256=a4d6f6d8e688d28e07119fc83aabc6e7aad02057f48b2194089959d03654f695 (from https://pypi.org/simple/pygobject/). Command errored out with exit status 1: 'C:\\Users\\Ian\\Anaconda3\\envs\\condadev\\python.exe' 'C:\\Users\\Ian\\Anaconda3\\envs\\condadev\\lib\\site-packages\\pip' install --ignore-installed --no-user --prefix 'C:\\Users\\Ian\\AppData\\Local\\Temp\\pip-build-env-f625_w0p\\overlay' --no-warn-script-location --no-binary :none: --only-binary :none: -i https://pypi.org/simple -- setuptools wheel pycairo Check the logs for full command output.\n",
      "  ERROR: Command errored out with exit status 1:\n",
      "   command: 'C:\\Users\\Ian\\Anaconda3\\envs\\condadev\\python.exe' -u -c 'import sys, setuptools, tokenize; sys.argv[0] = '\"'\"'C:\\\\Users\\\\Ian\\\\AppData\\\\Local\\\\Temp\\\\pip-install-lq58al8y\\\\pygobject_8461d8aaedf04e5c9adbe222bcf57e29\\\\setup.py'\"'\"'; __file__='\"'\"'C:\\\\Users\\\\Ian\\\\AppData\\\\Local\\\\Temp\\\\pip-install-lq58al8y\\\\pygobject_8461d8aaedf04e5c9adbe222bcf57e29\\\\setup.py'\"'\"';f=getattr(tokenize, '\"'\"'open'\"'\"', open)(__file__);code=f.read().replace('\"'\"'\\r\\n'\"'\"', '\"'\"'\\n'\"'\"');f.close();exec(compile(code, __file__, '\"'\"'exec'\"'\"'))' bdist_wheel -d 'C:\\Users\\Ian\\AppData\\Local\\Temp\\pip-wheel-_luwx5rj'\n",
      "       cwd: C:\\Users\\Ian\\AppData\\Local\\Temp\\pip-install-lq58al8y\\pygobject_8461d8aaedf04e5c9adbe222bcf57e29\\\n",
      "  Complete output (49 lines):\n",
      "  running bdist_wheel\n",
      "  running build\n",
      "  running build_py\n",
      "  creating build\n",
      "  creating build\\lib.win-amd64-3.7\n",
      "  creating build\\lib.win-amd64-3.7\\pygtkcompat\n",
      "  copying pygtkcompat\\generictreemodel.py -> build\\lib.win-amd64-3.7\\pygtkcompat\n",
      "  copying pygtkcompat\\pygtkcompat.py -> build\\lib.win-amd64-3.7\\pygtkcompat\n",
      "  copying pygtkcompat\\__init__.py -> build\\lib.win-amd64-3.7\\pygtkcompat\n",
      "  creating build\\lib.win-amd64-3.7\\gi\n",
      "  copying gi\\docstring.py -> build\\lib.win-amd64-3.7\\gi\n",
      "  copying gi\\importer.py -> build\\lib.win-amd64-3.7\\gi\n",
      "  copying gi\\module.py -> build\\lib.win-amd64-3.7\\gi\n",
      "  copying gi\\pygtkcompat.py -> build\\lib.win-amd64-3.7\\gi\n",
      "  copying gi\\types.py -> build\\lib.win-amd64-3.7\\gi\n",
      "  copying gi\\_compat.py -> build\\lib.win-amd64-3.7\\gi\n",
      "  copying gi\\_constants.py -> build\\lib.win-amd64-3.7\\gi\n",
      "  copying gi\\_error.py -> build\\lib.win-amd64-3.7\\gi\n",
      "  copying gi\\_gtktemplate.py -> build\\lib.win-amd64-3.7\\gi\n",
      "  copying gi\\_option.py -> build\\lib.win-amd64-3.7\\gi\n",
      "  copying gi\\_ossighelper.py -> build\\lib.win-amd64-3.7\\gi\n",
      "  copying gi\\_propertyhelper.py -> build\\lib.win-amd64-3.7\\gi\n",
      "  copying gi\\_signalhelper.py -> build\\lib.win-amd64-3.7\\gi\n",
      "  copying gi\\__init__.py -> build\\lib.win-amd64-3.7\\gi\n",
      "  creating build\\lib.win-amd64-3.7\\gi\\repository\n",
      "  copying gi\\repository\\__init__.py -> build\\lib.win-amd64-3.7\\gi\\repository\n",
      "  creating build\\lib.win-amd64-3.7\\gi\\overrides\n",
      "  copying gi\\overrides\\Gdk.py -> build\\lib.win-amd64-3.7\\gi\\overrides\n",
      "  copying gi\\overrides\\GdkPixbuf.py -> build\\lib.win-amd64-3.7\\gi\\overrides\n",
      "  copying gi\\overrides\\GIMarshallingTests.py -> build\\lib.win-amd64-3.7\\gi\\overrides\n",
      "  copying gi\\overrides\\Gio.py -> build\\lib.win-amd64-3.7\\gi\\overrides\n",
      "  copying gi\\overrides\\GLib.py -> build\\lib.win-amd64-3.7\\gi\\overrides\n",
      "  copying gi\\overrides\\GObject.py -> build\\lib.win-amd64-3.7\\gi\\overrides\n",
      "  copying gi\\overrides\\Gtk.py -> build\\lib.win-amd64-3.7\\gi\\overrides\n",
      "  copying gi\\overrides\\keysyms.py -> build\\lib.win-amd64-3.7\\gi\\overrides\n",
      "  copying gi\\overrides\\Pango.py -> build\\lib.win-amd64-3.7\\gi\\overrides\n",
      "  copying gi\\overrides\\__init__.py -> build\\lib.win-amd64-3.7\\gi\\overrides\n",
      "  running build_ext\n",
      "  pycairo: new API\n",
      "  pycairo: trying include directory: 'C:\\\\Users\\\\Ian\\\\Anaconda3\\\\envs\\\\condadev\\\\lib\\\\site-packages\\\\cairo\\\\include'\n",
      "  pycairo: found 'C:\\\\Users\\\\Ian\\\\Anaconda3\\\\envs\\\\condadev\\\\lib\\\\site-packages\\\\cairo\\\\include\\\\py3cairo.h'\n",
      "  building 'gi._gi' extension\n",
      "  creating build\\temp.win-amd64-3.7\n",
      "  creating build\\temp.win-amd64-3.7\\Release\n",
      "  creating build\\temp.win-amd64-3.7\\Release\\gi\n",
      "  C:\\Program Files (x86)\\Microsoft Visual Studio\\2019\\BuildTools\\VC\\Tools\\MSVC\\14.24.28314\\bin\\HostX86\\x64\\cl.exe /c /nologo /Ox /W3 /GL /DNDEBUG /MD -DPY_SSIZE_T_CLEAN -IC:\\Users\\Ian\\AppData\\Local\\Temp\\pip-install-lq58al8y\\pygobject_8461d8aaedf04e5c9adbe222bcf57e29 -IC:\\Users\\Ian\\AppData\\Local\\Temp\\pip-install-lq58al8y\\pygobject_8461d8aaedf04e5c9adbe222bcf57e29\\gi -IC:\\Users\\Ian\\Anaconda3\\envs\\condadev\\include -IC:\\Users\\Ian\\Anaconda3\\envs\\condadev\\include \"-IC:\\Program Files (x86)\\Microsoft Visual Studio\\2019\\BuildTools\\VC\\Tools\\MSVC\\14.24.28314\\include\" \"-IC:\\Program Files (x86)\\Windows Kits\\NETFXSDK\\4.8\\include\\um\" \"-IC:\\Program Files (x86)\\Windows Kits\\10\\include\\10.0.18362.0\\ucrt\" \"-IC:\\Program Files (x86)\\Windows Kits\\10\\include\\10.0.18362.0\\shared\" \"-IC:\\Program Files (x86)\\Windows Kits\\10\\include\\10.0.18362.0\\um\" \"-IC:\\Program Files (x86)\\Windows Kits\\10\\include\\10.0.18362.0\\winrt\" \"-IC:\\Program Files (x86)\\Windows Kits\\10\\include\\10.0.18362.0\\cppwinrt\" /Tcgi\\gimodule.c /Fobuild\\temp.win-amd64-3.7\\Release\\gi\\gimodule.obj -FImsvc_recommended_pragmas.h\n",
      "  gimodule.c\n",
      "  gi\\gimodule.c: fatal error C1083: Cannot open include file: 'msvc_recommended_pragmas.h': No such file or directory\n",
      "  error: command 'C:\\\\Program Files (x86)\\\\Microsoft Visual Studio\\\\2019\\\\BuildTools\\\\VC\\\\Tools\\\\MSVC\\\\14.24.28314\\\\bin\\\\HostX86\\\\x64\\\\cl.exe' failed with exit status 2\n",
      "  ----------------------------------------\n",
      "  ERROR: Failed building wheel for PyGObject\n",
      "    ERROR: Command errored out with exit status 1:\n",
      "     command: 'C:\\Users\\Ian\\Anaconda3\\envs\\condadev\\python.exe' -u -c 'import sys, setuptools, tokenize; sys.argv[0] = '\"'\"'C:\\\\Users\\\\Ian\\\\AppData\\\\Local\\\\Temp\\\\pip-install-lq58al8y\\\\pygobject_8461d8aaedf04e5c9adbe222bcf57e29\\\\setup.py'\"'\"'; __file__='\"'\"'C:\\\\Users\\\\Ian\\\\AppData\\\\Local\\\\Temp\\\\pip-install-lq58al8y\\\\pygobject_8461d8aaedf04e5c9adbe222bcf57e29\\\\setup.py'\"'\"';f=getattr(tokenize, '\"'\"'open'\"'\"', open)(__file__);code=f.read().replace('\"'\"'\\r\\n'\"'\"', '\"'\"'\\n'\"'\"');f.close();exec(compile(code, __file__, '\"'\"'exec'\"'\"'))' install --record 'C:\\Users\\Ian\\AppData\\Local\\Temp\\pip-record-xv8c34y8\\install-record.txt' --single-version-externally-managed --compile --install-headers 'C:\\Users\\Ian\\Anaconda3\\envs\\condadev\\Include\\PyGObject'\n",
      "         cwd: C:\\Users\\Ian\\AppData\\Local\\Temp\\pip-install-lq58al8y\\pygobject_8461d8aaedf04e5c9adbe222bcf57e29\\\n",
      "    Complete output (49 lines):\n",
      "    running install\n",
      "    running build\n",
      "    running build_py\n",
      "    creating build\n",
      "    creating build\\lib.win-amd64-3.7\n",
      "    creating build\\lib.win-amd64-3.7\\pygtkcompat\n",
      "    copying pygtkcompat\\generictreemodel.py -> build\\lib.win-amd64-3.7\\pygtkcompat\n",
      "    copying pygtkcompat\\pygtkcompat.py -> build\\lib.win-amd64-3.7\\pygtkcompat\n",
      "    copying pygtkcompat\\__init__.py -> build\\lib.win-amd64-3.7\\pygtkcompat\n",
      "    creating build\\lib.win-amd64-3.7\\gi\n",
      "    copying gi\\docstring.py -> build\\lib.win-amd64-3.7\\gi\n",
      "    copying gi\\importer.py -> build\\lib.win-amd64-3.7\\gi\n",
      "    copying gi\\module.py -> build\\lib.win-amd64-3.7\\gi\n",
      "    copying gi\\pygtkcompat.py -> build\\lib.win-amd64-3.7\\gi\n",
      "    copying gi\\types.py -> build\\lib.win-amd64-3.7\\gi\n",
      "    copying gi\\_compat.py -> build\\lib.win-amd64-3.7\\gi\n",
      "    copying gi\\_constants.py -> build\\lib.win-amd64-3.7\\gi\n",
      "    copying gi\\_error.py -> build\\lib.win-amd64-3.7\\gi\n",
      "    copying gi\\_gtktemplate.py -> build\\lib.win-amd64-3.7\\gi\n",
      "    copying gi\\_option.py -> build\\lib.win-amd64-3.7\\gi\n",
      "    copying gi\\_ossighelper.py -> build\\lib.win-amd64-3.7\\gi\n",
      "    copying gi\\_propertyhelper.py -> build\\lib.win-amd64-3.7\\gi\n",
      "    copying gi\\_signalhelper.py -> build\\lib.win-amd64-3.7\\gi\n",
      "    copying gi\\__init__.py -> build\\lib.win-amd64-3.7\\gi\n",
      "    creating build\\lib.win-amd64-3.7\\gi\\repository\n",
      "    copying gi\\repository\\__init__.py -> build\\lib.win-amd64-3.7\\gi\\repository\n",
      "    creating build\\lib.win-amd64-3.7\\gi\\overrides\n",
      "    copying gi\\overrides\\Gdk.py -> build\\lib.win-amd64-3.7\\gi\\overrides\n",
      "    copying gi\\overrides\\GdkPixbuf.py -> build\\lib.win-amd64-3.7\\gi\\overrides\n",
      "    copying gi\\overrides\\GIMarshallingTests.py -> build\\lib.win-amd64-3.7\\gi\\overrides\n",
      "    copying gi\\overrides\\Gio.py -> build\\lib.win-amd64-3.7\\gi\\overrides\n",
      "    copying gi\\overrides\\GLib.py -> build\\lib.win-amd64-3.7\\gi\\overrides\n",
      "    copying gi\\overrides\\GObject.py -> build\\lib.win-amd64-3.7\\gi\\overrides\n",
      "    copying gi\\overrides\\Gtk.py -> build\\lib.win-amd64-3.7\\gi\\overrides\n",
      "    copying gi\\overrides\\keysyms.py -> build\\lib.win-amd64-3.7\\gi\\overrides\n",
      "    copying gi\\overrides\\Pango.py -> build\\lib.win-amd64-3.7\\gi\\overrides\n",
      "    copying gi\\overrides\\__init__.py -> build\\lib.win-amd64-3.7\\gi\\overrides\n",
      "    running build_ext\n",
      "    pycairo: new API\n",
      "    pycairo: trying include directory: 'C:\\\\Users\\\\Ian\\\\Anaconda3\\\\envs\\\\condadev\\\\lib\\\\site-packages\\\\cairo\\\\include'\n",
      "    pycairo: found 'C:\\\\Users\\\\Ian\\\\Anaconda3\\\\envs\\\\condadev\\\\lib\\\\site-packages\\\\cairo\\\\include\\\\py3cairo.h'\n",
      "    building 'gi._gi' extension\n",
      "    creating build\\temp.win-amd64-3.7\n",
      "    creating build\\temp.win-amd64-3.7\\Release\n",
      "    creating build\\temp.win-amd64-3.7\\Release\\gi\n",
      "    C:\\Program Files (x86)\\Microsoft Visual Studio\\2019\\BuildTools\\VC\\Tools\\MSVC\\14.24.28314\\bin\\HostX86\\x64\\cl.exe /c /nologo /Ox /W3 /GL /DNDEBUG /MD -DPY_SSIZE_T_CLEAN -IC:\\Users\\Ian\\AppData\\Local\\Temp\\pip-install-lq58al8y\\pygobject_8461d8aaedf04e5c9adbe222bcf57e29 -IC:\\Users\\Ian\\AppData\\Local\\Temp\\pip-install-lq58al8y\\pygobject_8461d8aaedf04e5c9adbe222bcf57e29\\gi -IC:\\Users\\Ian\\Anaconda3\\envs\\condadev\\include -IC:\\Users\\Ian\\Anaconda3\\envs\\condadev\\include \"-IC:\\Program Files (x86)\\Microsoft Visual Studio\\2019\\BuildTools\\VC\\Tools\\MSVC\\14.24.28314\\include\" \"-IC:\\Program Files (x86)\\Windows Kits\\NETFXSDK\\4.8\\include\\um\" \"-IC:\\Program Files (x86)\\Windows Kits\\10\\include\\10.0.18362.0\\ucrt\" \"-IC:\\Program Files (x86)\\Windows Kits\\10\\include\\10.0.18362.0\\shared\" \"-IC:\\Program Files (x86)\\Windows Kits\\10\\include\\10.0.18362.0\\um\" \"-IC:\\Program Files (x86)\\Windows Kits\\10\\include\\10.0.18362.0\\winrt\" \"-IC:\\Program Files (x86)\\Windows Kits\\10\\include\\10.0.18362.0\\cppwinrt\" /Tcgi\\gimodule.c /Fobuild\\temp.win-amd64-3.7\\Release\\gi\\gimodule.obj -FImsvc_recommended_pragmas.h\n",
      "    gimodule.c\n",
      "    gi\\gimodule.c: fatal error C1083: Cannot open include file: 'msvc_recommended_pragmas.h': No such file or directory\n",
      "    error: command 'C:\\\\Program Files (x86)\\\\Microsoft Visual Studio\\\\2019\\\\BuildTools\\\\VC\\\\Tools\\\\MSVC\\\\14.24.28314\\\\bin\\\\HostX86\\\\x64\\\\cl.exe' failed with exit status 2\n",
      "    ----------------------------------------\n",
      "ERROR: Command errored out with exit status 1: 'C:\\Users\\Ian\\Anaconda3\\envs\\condadev\\python.exe' -u -c 'import sys, setuptools, tokenize; sys.argv[0] = '\"'\"'C:\\\\Users\\\\Ian\\\\AppData\\\\Local\\\\Temp\\\\pip-install-lq58al8y\\\\pygobject_8461d8aaedf04e5c9adbe222bcf57e29\\\\setup.py'\"'\"'; __file__='\"'\"'C:\\\\Users\\\\Ian\\\\AppData\\\\Local\\\\Temp\\\\pip-install-lq58al8y\\\\pygobject_8461d8aaedf04e5c9adbe222bcf57e29\\\\setup.py'\"'\"';f=getattr(tokenize, '\"'\"'open'\"'\"', open)(__file__);code=f.read().replace('\"'\"'\\r\\n'\"'\"', '\"'\"'\\n'\"'\"');f.close();exec(compile(code, __file__, '\"'\"'exec'\"'\"'))' install --record 'C:\\Users\\Ian\\AppData\\Local\\Temp\\pip-record-xv8c34y8\\install-record.txt' --single-version-externally-managed --compile --install-headers 'C:\\Users\\Ian\\Anaconda3\\envs\\condadev\\Include\\PyGObject' Check the logs for full command output.\n"
     ]
    }
   ],
   "source": [
    "from pathlib import Path\n",
    "from IPython.display import display, HTML\n",
    "\n",
    "REQ_PYTHON_VER = \"3.6\"\n",
    "REQ_MSTICPY_VER = \"1.0.0\"\n",
    "REQ_MP_EXTRAS = []\n",
    "\n",
    "display(HTML(\"<h3>Starting Notebook setup...</h3>\"))\n",
    "if Path(\"./utils/nb_check.py\").is_file():\n",
    "    from utils.nb_check import check_versions\n",
    "    check_versions(REQ_PYTHON_VER, REQ_MSTICPY_VER, REQ_MP_EXTRAS)\n",
    "\n",
    "# If not using Azure Notebooks, install msticpy with\n",
    "# !pip install msticpy\n",
    "\n",
    "from msticpy.nbtools import nbinit\n",
    "nbinit.init_notebook(\n",
    "    namespace=globals(),\n",
    "    verbose=True\n",
    ");\n"
   ]
  },
  {
   "cell_type": "markdown",
   "metadata": {},
   "source": [
    "# Summary"
   ]
  },
  {
   "cell_type": "code",
   "execution_count": null,
   "metadata": {},
   "outputs": [],
   "source": [
    "if errors:\n",
    "    display(Markdown(f\"<h3><font color='red'><u>{len(errors)} errors:</u></font>\"))\n",
    "    for mssg in errors:\n",
    "        display(Markdown(f\"<font color='red'>{mssg}</font>\"))\n",
    "if warns:\n",
    "    display(Markdown(f\"<h3><font color='orange'><u>{len(warns)} warnings:</u></font>\"))\n",
    "    for mssg in warns:\n",
    "        display(Markdown(f\"<font color='orange'>{mssg}</font>\"))\n",
    "display(Markdown(f\"<h3><font color='blue'><u>Info/Success:</u></font>\"))\n",
    "for mssg in info:\n",
    "    display(Markdown(f\"<font color='blue'>{mssg}</font>\"))"
   ]
  }
 ],
 "metadata": {
  "hide_input": false,
  "kernel_info": {
   "name": "python38-azureml"
  },
  "kernelspec": {
   "display_name": "Python (condadev)",
   "language": "python",
   "name": "condadev"
  },
  "language_info": {
   "codemirror_mode": {
    "name": "ipython",
    "version": 3
   },
   "file_extension": ".py",
   "mimetype": "text/x-python",
   "name": "python",
   "nbconvert_exporter": "python",
   "pygments_lexer": "ipython3",
   "version": "3.7.10"
  },
  "microsoft": {
   "host": {
    "AzureML": {
     "notebookHasBeenCompleted": true
    }
   }
  },
  "nteract": {
   "version": "nteract-front-end@1.0.0"
  },
  "toc": {
   "base_numbering": 1,
   "nav_menu": {},
   "number_sections": false,
   "sideBar": true,
   "skip_h1_title": false,
   "title_cell": "Table of Contents",
   "title_sidebar": "Contents",
   "toc_cell": false,
   "toc_position": {},
   "toc_section_display": true,
   "toc_window_display": false
  },
  "varInspector": {
   "cols": {
    "lenName": 16,
    "lenType": 16,
    "lenVar": 40
   },
   "kernels_config": {
    "python": {
     "delete_cmd_postfix": "",
     "delete_cmd_prefix": "del ",
     "library": "var_list.py",
     "varRefreshCmd": "print(var_dic_list())"
    },
    "r": {
     "delete_cmd_postfix": ") ",
     "delete_cmd_prefix": "rm(",
     "library": "var_list.r",
     "varRefreshCmd": "cat(var_dic_list()) "
    }
   },
   "types_to_exclude": [
    "module",
    "function",
    "builtin_function_or_method",
    "instance",
    "_Feature"
   ],
   "window_display": false
  },
  "widgets": {
   "application/vnd.jupyter.widget-state+json": {
    "state": {
     "727bf94367d74f2ca7b2b08e70ae7fa4": {
      "model_module": "@jupyter-widgets/base",
      "model_module_version": "1.2.0",
      "model_name": "LayoutModel",
      "state": {
       "width": "95%"
      }
     }
    },
    "version_major": 2,
    "version_minor": 0
   }
  }
 },
 "nbformat": 4,
 "nbformat_minor": 4
}
