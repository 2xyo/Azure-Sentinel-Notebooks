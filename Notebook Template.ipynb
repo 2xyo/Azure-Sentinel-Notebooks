{
  "cells": [
    {
      "cell_type": "markdown",
      "source": [
        "# Notebook Title\n",
        " <details>\n",
        "     <summary>&nbsp;<u>Details...</u></summary>\n",
        "\n",
        " **Notebook Version:** 1.0<br>\n",
        " **Python Version:** Python 3.6 (including Python 3.6 - AzureML)<br>\n",
        " **Required Packages**: kqlmagic, msticpy, pandas, pandas_bokeh, numpy, matplotlib, networkx, seaborn, datetime, ipywidgets, ipython, dnspython, ipwhois, folium, maxminddb_geolite2<br>\n",
        " **Platforms Supported**:\n",
        " - Azure Notebooks Free Compute\n",
        " - Azure Notebooks DSVM\n",
        " - OS Independent\n",
        "\n",
        " **Data Sources Required**:\n",
        " - Log Analytics/Azure Sentinel - Syslog, Secuirty Alerts, Auditd, Azure Network Analytics.\n",
        " - (Optional) - AlienVault OTX (requires account and API key)\n",
        " </details>\n",
        "\n",
        "Notebook description...."
      ],
      "metadata": {}
    },
    {
      "cell_type": "markdown",
      "source": [
        "<h1>Table of Contents<span class=\"tocSkip\"></span></h1>\n",
        "<div class=\"toc\"><ul class=\"toc-item\"><li><span><a href=\"#Notebook-Title\" data-toc-modified-id=\"Notebook-Title-1\">Notebook Title</a></span><ul class=\"toc-item\"><li><span><a href=\"#Notebook-Initialization\" data-toc-modified-id=\"Notebook-Initialization-1.1\">Notebook Initialization</a></span><ul class=\"toc-item\"><li><span><a href=\"#Get-WorkspaceId-and-Authenticate-to-Log-Analytics\" data-toc-modified-id=\"Get-WorkspaceId-and-Authenticate-to-Log-Analytics-1.1.1\">Get WorkspaceId and Authenticate to Log Analytics</a></span></li></ul></li><li><span><a href=\"#Example-query\" data-toc-modified-id=\"Example-query-1.2\">Example query</a></span></li></ul></li></ul></div>"
      ],
      "metadata": {
        "toc": true
      }
    },
    {
      "cell_type": "markdown",
      "source": [
        "---\n",
        "### Notebook initialization\n",
        "The next cell:\n",
        "- Checks for the correct Python version\n",
        "- Checks versions and optionally installs required packages\n",
        "- Imports the required packages into the notebook\n",
        "- Sets a number of configuration options.\n",
        "\n",
        "This should complete without errors. If you encounter errors or warnings look at the following two notebooks:\n",
        "- [TroubleShootingNotebooks](https://github.com/Azure/Azure-Sentinel-Notebooks/blob/master/TroubleShootingNotebooks.ipynb)\n",
        "- [ConfiguringNotebookEnvironment](https://github.com/Azure/Azure-Sentinel-Notebooks/blob/master/ConfiguringNotebookEnvironment.ipynb)\n",
        "\n",
        "If you are running in the Azure Sentinel Notebooks environment (Azure Notebooks or Azure ML) you can run live versions of these notebooks:\n",
        "- [Run TroubleShootingNotebooks](./TroubleShootingNotebooks.ipynb)\n",
        "- [Run ConfiguringNotebookEnvironment](./ConfiguringNotebookEnvironment.ipynb)\n",
        "\n",
        "You may also need to do some additional configuration to successfully use functions such as Threat Intelligence service lookup and Geo IP lookup. \n",
        "There are more details about this in the `ConfiguringNotebookEnvironment` notebook and in these documents:\n",
        "- [msticpy configuration](https://msticpy.readthedocs.io/en/latest/getting_started/msticpyconfig.html)\n",
        "- [Threat intelligence provider configuration](https://msticpy.readthedocs.io/en/latest/data_acquisition/TIProviders.html#configuration-file)\n"
      ],
      "metadata": {}
    },
    {
      "cell_type": "code",
      "source": [
        "from pathlib import Path\n",
        "from IPython.display import display, HTML\n",
        "\n",
        "REQ_PYTHON_VER = \"3.6\"\n",
        "REQ_MSTICPY_VER = \"1.0.0\"\n",
        "\n",
        "display(HTML(\"<h3>Starting Notebook setup...</h3>\"))\n",
        "if Path(\"./utils/nb_check.py\").is_file():\n",
        "    from utils.nb_check import check_versions\n",
        "    check_versions(REQ_PYTHON_VER, REQ_MSTICPY_VER)\n",
        "\n",
        "# If not using Azure Notebooks, install msticpy with\n",
        "# !pip install msticpy\n",
        "\n",
        "extra_imports = []\n",
        "# Usually there is no advantage to using nbinit to do your imports - just import them\n",
        "# as normal. \"init_notebook\" imports a few standard packages (pandas, numpy, etc)\n",
        "# and several common msticpy modules and classes.\n",
        "# If you really want to use this mechanism the syntax is as follows:\n",
        "# Each line is a string:\n",
        "# - if just importing a module (e.g. \"re\"), just the name is enough\n",
        "# - if importing an item from a module (e.g. from datetime import timedelta)\n",
        "#   the string would be \"datetime, delta\"\n",
        "# - if you want to import and alias something (e.g. import pandas as pd) us\n",
        "#   \"source_mod, , alias\" (note you need the extra comma)\n",
        "# - if you're importing an object from a module and want to alias it (e.g.\n",
        "#   from datetime import timedelta as td - use \"datetime, timedelta, td\"\n",
        "# extra_imports = [\n",
        "#     \"module.src [,target] [,alias\",\n",
        "#     \"pandas, , pd\",\n",
        "#     \"bokeh.plotting, show\"\n",
        "# ]\n",
        "\n",
        "additional_packages = []\n",
        "# specify the name of the package to install. It will not be installed if it\n",
        "# is already. You can provide a package specification - e.g. pkg==version,\n",
        "# as shown below\n",
        "# additional_packages = [\"seaborn\", \"another_pkg>=1.2.0\"]\n",
        "\n",
        "from msticpy.nbtools import nbinit\n",
        "nbinit.init_notebook(\n",
        "    namespace=globals(),\n",
        "    extra_imports=extra_imports,\n",
        "    additional_packages=additional_packages,\n",
        ");\n"
      ],
      "outputs": [
        {
          "output_type": "display_data",
          "data": {
            "text/plain": "<IPython.core.display.HTML object>",
            "text/html": "<h3>Starting Notebook setup...</h3>"
          },
          "metadata": {}
        },
        {
          "output_type": "display_data",
          "data": {
            "text/plain": "<IPython.core.display.HTML object>",
            "text/html": "Note: you may need to scroll down this cell to see the full output."
          },
          "metadata": {}
        },
        {
          "output_type": "display_data",
          "data": {
            "text/plain": "<IPython.core.display.HTML object>",
            "text/html": "<h4>Starting notebook pre-checks...</h4>"
          },
          "metadata": {}
        },
        {
          "output_type": "display_data",
          "data": {
            "text/plain": "<IPython.core.display.HTML object>",
            "text/html": "Checking Python kernel version..."
          },
          "metadata": {}
        },
        {
          "output_type": "display_data",
          "data": {
            "text/plain": "<IPython.core.display.HTML object>",
            "text/html": "Info: Python kernel version 3.8.1 OK<br>"
          },
          "metadata": {}
        },
        {
          "output_type": "display_data",
          "data": {
            "text/plain": "<IPython.core.display.HTML object>",
            "text/html": "Checking msticpy version...<br>"
          },
          "metadata": {}
        },
        {
          "output_type": "display_data",
          "data": {
            "text/plain": "<IPython.core.display.HTML object>",
            "text/html": "Info: msticpy version 1.0.0rc5 OK<br>"
          },
          "metadata": {}
        },
        {
          "output_type": "display_data",
          "data": {
            "text/plain": "<IPython.core.display.HTML object>",
            "text/html": "<h4>Notebook pre-checks complete.</h4>"
          },
          "metadata": {}
        },
        {
          "output_type": "display_data",
          "data": {
            "text/plain": "<IPython.core.display.HTML object>",
            "text/html": "<hr><h4>Starting Notebook initialization...</h4>"
          },
          "metadata": {}
        },
        {
          "output_type": "display_data",
          "data": {
            "text/plain": "<IPython.core.display.HTML object>",
            "text/html": "msticpy version installed: 1.0.0rc5 latest published: 0.9.0<br>Latest version is installed.<br> <br>"
          },
          "metadata": {}
        },
        {
          "output_type": "display_data",
          "data": {
            "text/plain": "<IPython.core.display.HTML object>",
            "text/html": "Processing imports.... <br>"
          },
          "metadata": {}
        },
        {
          "output_type": "display_data",
          "data": {
            "text/plain": "<IPython.core.display.HTML object>",
            "text/html": "Imported: pd (pandas), IPython.get_ipython, IPython.display.display, IPython.display.HTML, IPython.display.Markdown, widgets (ipywidgets), pathlib.Path, plt (matplotlib.pyplot), matplotlib.MatplotlibDeprecationWarning, sns (seaborn), np (numpy), msticpy.data.QueryProvider, msticpy.nbtools.foliummap.FoliumMap, msticpy.common.utility.md, msticpy.common.utility.md_warn, msticpy.common.wsconfig.WorkspaceConfig, msticpy.datamodel.pivot.Pivot, msticpy.datamodel.entities <br>"
          },
          "metadata": {}
        },
        {
          "output_type": "display_data",
          "data": {
            "text/plain": "<IPython.core.display.HTML object>",
            "text/html": "Checking configuration.... <br>"
          },
          "metadata": {}
        },
        {
          "output_type": "display_data",
          "data": {
            "text/plain": "<IPython.core.display.HTML object>",
            "text/html": "<br>The following configuration errors were found: <br> -----------------------------------------------<br>Missing or empty 'AzureSentinel' section<br><br>The following configuration warnings were found: <br> -------------------------------------------------<br>'TIProviders' section has no settings.<br> <br>"
          },
          "metadata": {}
        },
        {
          "output_type": "display_data",
          "data": {
            "text/plain": "<IPython.core.display.HTML object>",
            "text/html": "Setting notebook options.... <br>"
          },
          "metadata": {}
        },
        {
          "output_type": "display_data",
          "data": {
            "text/plain": "<IPython.core.display.HTML object>",
            "text/html": "<h4>Notebook initialization complete</h4>"
          },
          "metadata": {}
        }
      ],
      "execution_count": 1,
      "metadata": {
        "gather": {
          "logged": 1617932075325
        }
      }
    },
    {
      "cell_type": "markdown",
      "source": [
        "<a></a>[Contents](#toc)\n",
        "### Get WorkspaceId and Authenticate to Log Analytics \n",
        "\n",
        "If you are using user/device authentication (the default), run the following cell. \n",
        "- Click the 'Copy code to clipboard and authenticate' button.\n",
        "- This will pop up an Azure Active Directory authentication dialog (in a new tab or browser window).\n",
        "  The device code will have been copied to the clipboard. \n",
        "- Select the text box and paste (Ctrl-V/Cmd-V) the copied value. \n",
        "- You should then be redirected to a user authentication page where you should \n",
        "  authenticate with a user account that has permission to query your Log Analytics workspace.\n",
        "\n",
        "<details>\n",
        "<summary> <u>Using an AppID and App Secret</u></summary>\n",
        "Use the following syntax if you are authenticating using an Azure Active Directory AppId and Secret:<br>\n",
        "<pre>\n",
        "connect_str = \"loganalytics://tenant(TENANT_ID).workspace(WORKSPACE_ID).clientid(client_id).clientsecret(client_secret)\"\n",
        "qry_prov.connect(connect_str)\n",
        "</pre>\n",
        "instead of<br>\n",
        "<pre>\n",
        "qry_prov.connect(ws_config)\n",
        "</pre>\n",
        "\n",
        "To find your Workspace Id go to\n",
        "[Azure Sentinel Workspaces](https://ms.portal.azure.com/#blade/HubsExtension/Resources/resourceType/Microsoft.OperationalInsights%2Fworkspaces).\n",
        "Look at the workspace properties to find the ID.\n",
        "</details>"
      ],
      "metadata": {}
    },
    {
      "cell_type": "code",
      "source": [
        "# List Workspaces available\n",
        "# WorkspaceConfig().list_workspaces()\n",
        "\n",
        "# To use a specific workspace create a WorkspaceConfig using the\n",
        "# workspace parameter\n",
        "# ws_config = WorkspaceConfig(workspace='MyWorkspace')"
      ],
      "outputs": [],
      "execution_count": null,
      "metadata": {}
    },
    {
      "cell_type": "code",
      "source": [
        "# See if we have an Azure Sentinel Workspace defined in our config file.\n",
        "# If not, let the user specify Workspace and Tenant IDs\n",
        "\n",
        "ws_config = WorkspaceConfig()\n",
        "if not ws_config.config_loaded:\n",
        "    ws_config.prompt_for_ws()\n",
        "    \n",
        "qry_prov = QueryProvider(data_environment=\"AzureSentinel\")\n",
        "print(\"done\")\n"
      ],
      "outputs": [],
      "execution_count": null,
      "metadata": {}
    },
    {
      "cell_type": "code",
      "source": [
        "# Authenticate to Azure Sentinel workspace\n",
        "qry_prov.connect(ws_config)"
      ],
      "outputs": [],
      "execution_count": null,
      "metadata": {}
    },
    {
      "cell_type": "code",
      "source": [
        "query_scope = nbwidgets.QueryTime(auto_display=True)"
      ],
      "outputs": [],
      "execution_count": null,
      "metadata": {}
    },
    {
      "cell_type": "markdown",
      "source": [
        "## Example query"
      ],
      "metadata": {}
    },
    {
      "cell_type": "code",
      "source": [
        "qry_prov.SecurityAlert.list_alerts(query_scope)"
      ],
      "outputs": [],
      "execution_count": null,
      "metadata": {}
    }
  ],
  "metadata": {
    "hide_input": false,
    "kernelspec": {
      "name": "python38-azureml",
      "language": "python",
      "display_name": "Python 3.8 - AzureML"
    },
    "language_info": {
      "name": "python",
      "version": "3.8.1",
      "mimetype": "text/x-python",
      "codemirror_mode": {
        "name": "ipython",
        "version": 3
      },
      "pygments_lexer": "ipython3",
      "nbconvert_exporter": "python",
      "file_extension": ".py"
    },
    "latex_envs": {
      "report_style_numbering": false,
      "hotkeys": {
        "equation": "Ctrl-E",
        "itemize": "Ctrl-I"
      },
      "LaTeX_envs_menu_present": true,
      "autocomplete": true,
      "autoclose": false,
      "eqNumInitial": 1,
      "bibliofile": "biblio.bib",
      "latex_user_defs": false,
      "current_citInitial": 1,
      "eqLabelWithNumbers": true,
      "labels_anchors": false,
      "cite_by": "apalike",
      "user_envs_cfg": false
    },
    "toc": {
      "toc_position": {},
      "skip_h1_title": false,
      "number_sections": false,
      "title_cell": "Table of Contents",
      "toc_window_display": true,
      "base_numbering": 1,
      "toc_section_display": true,
      "title_sidebar": "Contents",
      "toc_cell": true,
      "nav_menu": {},
      "sideBar": true
    },
    "varInspector": {
      "cols": {
        "lenName": 16,
        "lenType": 16,
        "lenVar": 40
      },
      "kernels_config": {
        "python": {
          "delete_cmd_postfix": "",
          "delete_cmd_prefix": "del ",
          "library": "var_list.py",
          "varRefreshCmd": "print(var_dic_list())"
        },
        "r": {
          "delete_cmd_postfix": ") ",
          "delete_cmd_prefix": "rm(",
          "library": "var_list.r",
          "varRefreshCmd": "cat(var_dic_list()) "
        }
      },
      "types_to_exclude": [
        "module",
        "function",
        "builtin_function_or_method",
        "instance",
        "_Feature"
      ],
      "window_display": false
    },
    "kernel_info": {
      "name": "python38-azureml"
    },
    "nteract": {
      "version": "nteract-front-end@1.0.0"
    }
  },
  "nbformat": 4,
  "nbformat_minor": 4
}