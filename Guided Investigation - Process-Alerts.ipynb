{
 "cells": [
  {
   "cell_type": "markdown",
   "metadata": {},
   "source": [
    "# Alert Investigation - Windows Process Alerts\n",
    "&lt;details&gt;\n",
    "    <summary> <u>Details...</u></summary>\n",
    "**Notebook Version:** 1.1<br>\n",
    "\n",
    "**Data Sources Used**:<br>\n",
    "- Log Analytics/Azure Sentinel\n",
    "    - SecurityAlert \n",
    "    - SecurityEvent\n",
    "<br>\n",
    "- Threat Intelligence Providers (Optional)\n",
    "    - OTX (https://otx.alienvault.com/)\n",
    "    - VirusTotal (https://www.virustotal.com/)\n",
    "    - XForce (https://www.ibm.com/security/xforce)\n",
    "&lt;/details&gt;\n",
    "\n",
    "This notebook is intended for triage and investigation of security alerts related to process execution. It is specifically targeted at alerts triggered by suspicious process activity on Windows hosts. "
   ]
  },
  {
   "cell_type": "markdown",
   "metadata": {
    "toc": true
   },
   "source": [
    "<h1>Table of Contents<span class=\"tocSkip\"></span></h1>\n",
    "<div class=\"toc\"><ul class=\"toc-item\"><li><span><a href=\"#Hunting-Hypothesis\" data-toc-modified-id=\"Hunting-Hypothesis-1\"><span class=\"toc-item-num\">1&nbsp;&nbsp;</span>Hunting Hypothesis</a></span></li><li><span><a href=\"#Notebook-Initialization\" data-toc-modified-id=\"Notebook-Initialization-2\"><span class=\"toc-item-num\">2&nbsp;&nbsp;</span>Notebook Initialization</a></span><ul class=\"toc-item\"><li><span><a href=\"#Get-WorkspaceId-and-Authenticate-to-Log-Analytics\" data-toc-modified-id=\"Get-WorkspaceId-and-Authenticate-to-Log-Analytics-2.1\"><span class=\"toc-item-num\">2.1&nbsp;&nbsp;</span>Get WorkspaceId and Authenticate to Log Analytics</a></span></li></ul></li><li><span><a href=\"#Get-List-of-Alerts\" data-toc-modified-id=\"Get-List-of-Alerts-3\"><span class=\"toc-item-num\">3&nbsp;&nbsp;</span>Get List of Alerts</a></span></li><li><span><a href=\"#Choose-Alert-to-Investigate\" data-toc-modified-id=\"Choose-Alert-to-Investigate-4\"><span class=\"toc-item-num\">4&nbsp;&nbsp;</span>Choose Alert to Investigate</a></span></li><li><span><a href=\"#Extract-properties-and-entities-from-Alert\" data-toc-modified-id=\"Extract-properties-and-entities-from-Alert-5\"><span class=\"toc-item-num\">5&nbsp;&nbsp;</span>Extract properties and entities from Alert</a></span></li><li><span><a href=\"#Entity-Graph\" data-toc-modified-id=\"Entity-Graph-6\"><span class=\"toc-item-num\">6&nbsp;&nbsp;</span>Entity Graph</a></span></li><li><span><a href=\"#Related-Alerts\" data-toc-modified-id=\"Related-Alerts-7\"><span class=\"toc-item-num\">7&nbsp;&nbsp;</span>Related Alerts</a></span><ul class=\"toc-item\"><li><span><a href=\"#Show-these-related-alerts-on-a-graph\" data-toc-modified-id=\"Show-these-related-alerts-on-a-graph-7.1\"><span class=\"toc-item-num\">7.1&nbsp;&nbsp;</span>Show these related alerts on a graph</a></span></li><li><span><a href=\"#Browse-List-of-Related-Alerts\" data-toc-modified-id=\"Browse-List-of-Related-Alerts-7.2\"><span class=\"toc-item-num\">7.2&nbsp;&nbsp;</span>Browse List of Related Alerts</a></span></li></ul></li><li><span><a href=\"#Get-Process-Tree\" data-toc-modified-id=\"Get-Process-Tree-8\"><span class=\"toc-item-num\">8&nbsp;&nbsp;</span>Get Process Tree</a></span><ul class=\"toc-item\"><li><span><a href=\"#Process-Time-Line\" data-toc-modified-id=\"Process-Time-Line-8.1\"><span class=\"toc-item-num\">8.1&nbsp;&nbsp;</span>Process Time Line</a></span></li></ul></li><li><span><a href=\"#Other-Processes-on-Host---Clustering\" data-toc-modified-id=\"Other-Processes-on-Host---Clustering-9\"><span class=\"toc-item-num\">9&nbsp;&nbsp;</span>Other Processes on Host - Clustering</a></span><ul class=\"toc-item\"><li><span><a href=\"#Clustered-Processes\" data-toc-modified-id=\"Clustered-Processes-9.1\"><span class=\"toc-item-num\">9.1&nbsp;&nbsp;</span>Clustered Processes</a></span></li><li><span><a href=\"#Variability-in-Command-Lines-and-Process-Names\" data-toc-modified-id=\"Variability-in-Command-Lines-and-Process-Names-9.2\"><span class=\"toc-item-num\">9.2&nbsp;&nbsp;</span>Variability in Command Lines and Process Names</a></span></li><li><span><a href=\"#Time-Line-of--clustered-processes-data-vs.-original-data\" data-toc-modified-id=\"Time-Line-of--clustered-processes-data-vs.-original-data-9.3\"><span class=\"toc-item-num\">9.3&nbsp;&nbsp;</span>Time Line of  clustered processes data vs. original data</a></span></li></ul></li><li><span><a href=\"#Base64-Decode-and-Check-for-IOCs\" data-toc-modified-id=\"Base64-Decode-and-Check-for-IOCs-10\"><span class=\"toc-item-num\">10&nbsp;&nbsp;</span>Base64 Decode and Check for IOCs</a></span><ul class=\"toc-item\"><li><span><a href=\"#IoCs-in-the-entire-data-set\" data-toc-modified-id=\"IoCs-in-the-entire-data-set-10.1\"><span class=\"toc-item-num\">10.1&nbsp;&nbsp;</span>IoCs in the entire data set</a></span></li><li><span><a href=\"#If-any-Base64-encoded-strings,-decode-and-search-for-IoCs-in-the-results.\" data-toc-modified-id=\"If-any-Base64-encoded-strings,-decode-and-search-for-IoCs-in-the-results.-10.2\"><span class=\"toc-item-num\">10.2&nbsp;&nbsp;</span>If any Base64 encoded strings, decode and search for IoCs in the results.</a></span></li></ul></li><li><span><a href=\"#Threat-Intelligence-Lookup\" data-toc-modified-id=\"Threat-Intelligence-Lookup-11\"><span class=\"toc-item-num\">11&nbsp;&nbsp;</span>Threat Intelligence Lookup</a></span></li><li><span><a href=\"#Alert-command-line---Occurrence-on-other-hosts-in-workspace\" data-toc-modified-id=\"Alert-command-line---Occurrence-on-other-hosts-in-workspace-12\"><span class=\"toc-item-num\">12&nbsp;&nbsp;</span>Alert command line - Occurrence on other hosts in workspace</a></span></li><li><span><a href=\"#Host-Logons\" data-toc-modified-id=\"Host-Logons-13\"><span class=\"toc-item-num\">13&nbsp;&nbsp;</span>Host Logons</a></span><ul class=\"toc-item\"><li><span><a href=\"#Alert-Logon-Account\" data-toc-modified-id=\"Alert-Logon-Account-13.1\"><span class=\"toc-item-num\">13.1&nbsp;&nbsp;</span>Alert Logon Account</a></span></li><li><span><a href=\"#All-Host-Logons\" data-toc-modified-id=\"All-Host-Logons-13.2\"><span class=\"toc-item-num\">13.2&nbsp;&nbsp;</span>All Host Logons</a></span><ul class=\"toc-item\"><li><span><a href=\"#Highest-and-lowest-number-of-logon-types-by-Account\" data-toc-modified-id=\"Highest-and-lowest-number-of-logon-types-by-Account-13.2.1\"><span class=\"toc-item-num\">13.2.1&nbsp;&nbsp;</span>Highest and lowest number of logon types by Account</a></span></li></ul></li></ul></li><li><span><a href=\"#Failed-Logons\" data-toc-modified-id=\"Failed-Logons-14\"><span class=\"toc-item-num\">14&nbsp;&nbsp;</span>Failed Logons</a></span></li><li><span><a href=\"#Appendices\" data-toc-modified-id=\"Appendices-15\"><span class=\"toc-item-num\">15&nbsp;&nbsp;</span>Appendices</a></span><ul class=\"toc-item\"><li><span><a href=\"#Available-DataFrames\" data-toc-modified-id=\"Available-DataFrames-15.1\"><span class=\"toc-item-num\">15.1&nbsp;&nbsp;</span>Available DataFrames</a></span></li><li><span><a href=\"#Saving-Data-to-CSV\" data-toc-modified-id=\"Saving-Data-to-CSV-15.2\"><span class=\"toc-item-num\">15.2&nbsp;&nbsp;</span>Saving Data to CSV</a></span></li><li><span><a href=\"#Saving-Data-to-Excel\" data-toc-modified-id=\"Saving-Data-to-Excel-15.3\"><span class=\"toc-item-num\">15.3&nbsp;&nbsp;</span>Saving Data to Excel</a></span></li></ul></li><li><span><a href=\"#Configuration\" data-toc-modified-id=\"Configuration-16\"><span class=\"toc-item-num\">16&nbsp;&nbsp;</span>Configuration</a></span><ul class=\"toc-item\"><li><span><a href=\"#msticpyconfig.yaml-configuration-File\" data-toc-modified-id=\"msticpyconfig.yaml-configuration-File-16.1\"><span class=\"toc-item-num\">16.1&nbsp;&nbsp;</span><code>msticpyconfig.yaml</code> configuration File</a></span></li></ul></li></ul></div>"
   ]
  },
  {
   "cell_type": "markdown",
   "metadata": {},
   "source": [
    "<a></a>[Contents](#toc)\n",
    "## Hunting Hypothesis\n",
    "Our broad initial hunting hypothesis is that a we have received an alert/indicators involving windows process name which is suspected to be malicious, we will need to hunt from a range of different positions to validate or disprove this hypothesis.\n",
    "\n",
    "Before you start hunting please run the cells in <a>Setup</a> at the bottom of this Notebook."
   ]
  },
  {
   "cell_type": "markdown",
   "metadata": {},
   "source": [
    "## Notebook Initialization\n",
    "This cell:\n",
    "\n",
    "- Checks for the correct Python version\n",
    "- Checks versions and optionally installs required packages\n",
    "- Imports the required packages into the notebook\n",
    "- Sets a number of configuration options.\n",
    "\n",
    "This should complete without errors. If you encounter errors or warnings look at the following two notebooks:\n",
    "- [TroubleShootingNotebooks](https://github.com/Azure/Azure-Sentinel-Notebooks/blob/master/TroubleShootingNotebooks.ipynb)\n",
    "- [ConfiguringNotebookEnvironment](https://github.com/Azure/Azure-Sentinel-Notebooks/blob/master/ConfiguringNotebookEnvironment.ipynb)\n",
    "\n",
    "You may also need to do some additional configuration to successfully use functions such as Threat Intelligence service lookup and Geo IP lookup. See the <a href=\"#Configuration\">Configuration</a> section at the end of the notebook and the [ConfiguringNotebookEnvironment](https://github.com/Azure/Azure-Sentinel-Notebooks/blob/master/ConfiguringNotebookEnvironment.ipynb).\n"
   ]
  },
  {
   "cell_type": "code",
   "execution_count": null,
   "metadata": {
    "ExecuteTime": {
     "end_time": "2020-05-16T02:10:54.830029Z",
     "start_time": "2020-05-16T02:10:50.255047Z"
    }
   },
   "outputs": [],
   "source": [
    "from pathlib import Path\n",
    "import os\n",
    "import sys\n",
    "import warnings\n",
    "from IPython.display import display, HTML, Markdown\n",
    "\n",
    "REQ_PYTHON_VER=(3, 6)\n",
    "REQ_MSTICPY_VER=(0, 5, 0)\n",
    "\n",
    "display(HTML(\"<h3>Starting Notebook setup...</h3>\"))\n",
    "if Path(\"./utils/nb_check.py\").is_file():\n",
    "    from utils.nb_check import check_python_ver, check_mp_ver\n",
    "\n",
    "    check_python_ver(min_py_ver=REQ_PYTHON_VER)\n",
    "    try:\n",
    "        check_mp_ver(min_msticpy_ver=REQ_MSTICPY_VER)\n",
    "    except ImportError:\n",
    "        !pip install --user --upgrade msticpy\n",
    "        if \"msticpy\" in sys.modules:\n",
    "            importlib.reload(msticpy)\n",
    "        else:\n",
    "            import msticpy\n",
    "        check_mp_ver(MSTICPY_REQ_VERSION)\n",
    "            \n",
    "from msticpy.nbtools import nbinit\n",
    "\n",
    "nbinit.init_notebook(namespace=globals());"
   ]
  },
  {
   "cell_type": "markdown",
   "metadata": {},
   "source": [
    "<a></a>[Contents](#toc)\n",
    "### Get WorkspaceId and Authenticate to Log Analytics \n",
    "&lt;details&gt;\n",
    "    <summary> <u>Details...</u></summary>\n",
    "If you are using user/device authentication, run the following cell. \n",
    "- Click the 'Copy code to clipboard and authenticate' button.\n",
    "- This will pop up an Azure Active Directory authentication dialog (in a new tab or browser window). The device code will have been copied to the clipboard. \n",
    "- Select the text box and paste (Ctrl-V/Cmd-V) the copied value. \n",
    "- You should then be redirected to a user authentication page where you should authenticate with a user account that has permission to query your Log Analytics workspace.\n",
    "\n",
    "Use the following syntax if you are authenticating using an Azure Active Directory AppId and Secret:\n",
    "```\n",
    "%kql loganalytics://tenant(aad_tenant).workspace(WORKSPACE_ID).clientid(client_id).clientsecret(client_secret)\n",
    "```\n",
    "instead of\n",
    "```\n",
    "%kql loganalytics://code().workspace(WORKSPACE_ID)\n",
    "```\n",
    "\n",
    "Note: you may occasionally see a JavaScript error displayed at the end of the authentication - you can safely ignore this.<br>\n",
    "On successful authentication you should see a ```popup schema``` button.\n",
    "To find your Workspace Id go to [Log Analytics](https://ms.portal.azure.com/#blade/HubsExtension/Resources/resourceType/Microsoft.OperationalInsights%2Fworkspaces). Look at the workspace properties to find the ID.\n",
    "&lt;/details&gt;"
   ]
  },
  {
   "cell_type": "code",
   "execution_count": null,
   "metadata": {},
   "outputs": [],
   "source": [
    "# To list configured workspaces run WorkspaceConfig.list_workspaces()\n",
    "# WorkspaceConfig.list_workspaces()"
   ]
  },
  {
   "cell_type": "code",
   "execution_count": null,
   "metadata": {
    "ExecuteTime": {
     "end_time": "2020-05-16T02:11:20.062429Z",
     "start_time": "2020-05-16T02:10:57.597153Z"
    }
   },
   "outputs": [],
   "source": [
    "# Authentication\n",
    "ws_config = WorkspaceConfig()\n",
    "qry_prov = QueryProvider(data_environment=\"LogAnalytics\")\n",
    "qry_prov.connect(connection_str=ws_config.code_connect_str)\n",
    "table_index = qry_prov.schema_tables"
   ]
  },
  {
   "cell_type": "markdown",
   "metadata": {},
   "source": [
    "## Get List of Alerts\n",
    "\n",
    "We are using an alert as the starting point for this investigation, specify a time range to search for alerts. Once this is set run the following cell to retrieve any alerts in that time window.\n",
    "You can change the time range and re-run the queries until you find the alerts that you want to investigate."
   ]
  },
  {
   "cell_type": "code",
   "execution_count": null,
   "metadata": {
    "ExecuteTime": {
     "end_time": "2020-05-16T02:11:21.408605Z",
     "start_time": "2020-05-16T02:11:21.347607Z"
    }
   },
   "outputs": [],
   "source": [
    "alert_q_times = nbwidgets.QueryTime(\n",
    "    units='hour', max_before=72, max_after=1, before=24\n",
    ")\n",
    "alert_q_times.display()"
   ]
  },
  {
   "cell_type": "code",
   "execution_count": null,
   "metadata": {
    "ExecuteTime": {
     "end_time": "2020-05-16T02:14:07.827669Z",
     "start_time": "2020-05-16T02:14:02.907988Z"
    }
   },
   "outputs": [],
   "source": [
    "alert_list = qry_prov.SecurityAlert.list_alerts(\n",
    "    alert_q_times)\n",
    "alert_counts = qry_prov.SecurityAlert.list_alerts_counts(\n",
    "    alert_q_times)\n",
    "\n",
    "if isinstance(alert_list, pd.DataFrame) and not alert_list.empty:\n",
    "    print(len(alert_counts), ' distinct alert types')\n",
    "    print(len(alert_list), ' distinct alerts')\n",
    "\n",
    "# Display alerts on timeline to aid in visual grouping\n",
    "    nbdisplay.display_timeline(\n",
    "        data=alert_list, source_columns=[\"AlertName\", 'CompromisedEntity'], title=\"Alerts over time\", height=300, color=\"red\")\n",
    "    display(alert_counts.head(10)) # remove '.head(10)'' to see the full list grouped by AlertName\n",
    "else:\n",
    "    display(Markdown('No alerts found.'))"
   ]
  },
  {
   "cell_type": "markdown",
   "metadata": {},
   "source": [
    "## Choose Alert to Investigate\n",
    "To focus the investigation select an alert from a list of retrieved alerts.\n",
    "\n",
    "As you select an alert, the main properties will be shown below the list.\n",
    "\n",
    "Use the filter box to narrow down your search to any substring in the AlertName."
   ]
  },
  {
   "cell_type": "code",
   "execution_count": null,
   "metadata": {
    "ExecuteTime": {
     "end_time": "2020-05-16T02:14:19.661858Z",
     "start_time": "2020-05-16T02:14:19.614856Z"
    }
   },
   "outputs": [],
   "source": [
    "get_alert = None\n",
    "alert_select = nbwidgets.AlertSelector(alerts=alert_list, action=nbdisplay.display_alert)\n",
    "alert_select.display()"
   ]
  },
  {
   "cell_type": "markdown",
   "metadata": {},
   "source": [
    "## Extract properties and entities from Alert\n",
    "In order to pivot to data related to the selected security alert we need to identify key data points in the selected alert. This section extracts the alert information and entities into a SecurityAlert object allowing us to query the properties more reliably. \n",
    "\n",
    "Properties in this object will be used to automatically provide parameters for queries and UI elements.\n",
    "Subsequent queries will use properties like the host name and derived properties such as the OS family (Linux or Windows) to adapt the query. Query time selectors like the one above will also default to an origin time that matches the alert selected.\n",
    "\n",
    "The alert view below shows all of the main properties of the alert plus the extended property dictionary (if any) and JSON representations of the Entity."
   ]
  },
  {
   "cell_type": "code",
   "execution_count": null,
   "metadata": {
    "ExecuteTime": {
     "end_time": "2020-05-16T02:14:38.285057Z",
     "start_time": "2020-05-16T02:14:38.264058Z"
    }
   },
   "outputs": [],
   "source": [
    "# Extract entities and properties into a SecurityAlert class\n",
    "if alert_select is None or alert_select.selected_alert is None:\n",
    "    raise ValueError(\"Please select an alert before executing remaining cells.\")\n",
    "else:\n",
    "    security_alert = SecurityAlert(alert_select.selected_alert)\n",
    "    \n",
    "nbdisplay.display_alert(security_alert, show_entities=True)"
   ]
  },
  {
   "cell_type": "markdown",
   "metadata": {},
   "source": [
    "## Entity Graph\n",
    "Depending on the type of alert there may be one or more entities attached as properties. Entities are key indicators that we can pivot on during our investigation, such as Host, Account, IpAddress, Process, etc. - essentially the 'nouns' of security investigation. \n",
    "Entities are often related to other entities - for example a process will usually have a related file entity (the process image) and an Account entity (the context in which the process was running). Endpoint alerts typically always have a host entity (which could be a physical or virtual machine). In order to more effectively understand the links between related entities we can plot them as a graph."
   ]
  },
  {
   "cell_type": "code",
   "execution_count": null,
   "metadata": {
    "ExecuteTime": {
     "end_time": "2020-05-16T02:14:41.613471Z",
     "start_time": "2020-05-16T02:14:41.251019Z"
    }
   },
   "outputs": [],
   "source": [
    "# Draw the graph using Networkx/Matplotlib\n",
    "%matplotlib inline\n",
    "alertentity_graph = security_alert_graph.create_alert_graph(security_alert)\n",
    "nbdisplay.draw_alert_entity_graph(alertentity_graph, width=15)"
   ]
  },
  {
   "cell_type": "markdown",
   "metadata": {},
   "source": [
    "\n",
    "## Related Alerts\n",
    "For certain entities in the alert we can search for other alerts that have that entity in common. Currently this pivot supports alerts with the same Host, Account or Process. \n",
    "\n",
    "**Notes:**\n",
    "- Some alert types do not include all of these entity types.\n",
    "- The original alert will be included in the \"Related Alerts\" set if it occurs within the query time boundary set below.\n",
    "\n",
    "In order to more effectively identify related alerts the query time boundaries can be adjusted to encompass a longer time frame."
   ]
  },
  {
   "cell_type": "code",
   "execution_count": null,
   "metadata": {
    "ExecuteTime": {
     "end_time": "2020-05-16T02:14:46.099473Z",
     "start_time": "2020-05-16T02:14:46.032476Z"
    }
   },
   "outputs": [],
   "source": [
    "# set the origin time to the time of our alert\n",
    "query_times = nbwidgets.QueryTime(units='day', origin_time=security_alert.TimeGenerated, \n",
    "                            max_before=28, max_after=1, before=5)\n",
    "query_times.display()"
   ]
  },
  {
   "cell_type": "code",
   "execution_count": null,
   "metadata": {
    "ExecuteTime": {
     "end_time": "2020-05-16T02:14:50.654284Z",
     "start_time": "2020-05-16T02:14:48.146513Z"
    }
   },
   "outputs": [],
   "source": [
    "if not security_alert.primary_host:\n",
    "    md_warn('Related alerts is not yet supported for alerts that are not host-based')\n",
    "    related_alerts = None\n",
    "else:\n",
    "    hostname = security_alert.hostname\n",
    "    if not hostname and \"AzureID\" in security_alert.primary_host:\n",
    "        hostname = security_alert.primary_host.AzureID.split(\"/\")[-1]\n",
    "    related_alerts = qry_prov.SecurityAlert.list_related_alerts(query_times, security_alert, host_name=hostname)\n",
    "\n",
    "\n",
    "    if related_alerts is not None and not related_alerts.empty:\n",
    "        host_alert_items = related_alerts\\\n",
    "            .query('host_match == @True')[['AlertType', 'StartTimeUtc']]\\\n",
    "            .groupby('AlertType').StartTimeUtc.agg('count').to_dict()\n",
    "        acct_alert_items = related_alerts\\\n",
    "            .query('acct_match == @True')[['AlertType', 'StartTimeUtc']]\\\n",
    "            .groupby('AlertType').StartTimeUtc.agg('count').to_dict()\n",
    "        proc_alert_items = related_alerts\\\n",
    "            .query('proc_match == @True')[['AlertType', 'StartTimeUtc']]\\\n",
    "            .groupby('AlertType').StartTimeUtc.agg('count').to_dict()\n",
    "\n",
    "        def print_related_alerts(alertDict, entityType, entityName):\n",
    "            if len(alertDict) > 0:\n",
    "                print('Found {} different alert types related to this {} (\\'{}\\')'\n",
    "                      .format(len(alertDict), entityType, entityName))\n",
    "                for (k,v) in alertDict.items():\n",
    "                    print('    {}, Count of alerts: {}'.format(k, v))\n",
    "            else:\n",
    "                print('No alerts for {} entity \\'{}\\''.format(entityType, entityName))\n",
    "\n",
    "        print_related_alerts(host_alert_items, 'host', security_alert.hostname)\n",
    "        print_related_alerts(acct_alert_items, 'account', \n",
    "                             security_alert.primary_account.qualified_name \n",
    "                             if security_alert.primary_account\n",
    "                             else None)\n",
    "        print_related_alerts(proc_alert_items, 'process', \n",
    "                             security_alert.primary_process.ProcessFilePath \n",
    "                             if security_alert.primary_process\n",
    "                             else None)\n",
    "        nbdisplay.display_timeline(data=related_alerts, source_columns = ['AlertName'], title='Alerts', height=100)\n",
    "    else:\n",
    "        md('No related alerts found.', styles=[\"bold\",\"green\"])"
   ]
  },
  {
   "cell_type": "markdown",
   "metadata": {},
   "source": [
    "### Show these related alerts on a graph\n",
    "To see the how these alerts relate to our original alert, and how these new alerts relate to each other we can graph them."
   ]
  },
  {
   "cell_type": "code",
   "execution_count": null,
   "metadata": {
    "ExecuteTime": {
     "end_time": "2020-05-16T02:14:57.587177Z",
     "start_time": "2020-05-16T02:14:57.110178Z"
    }
   },
   "outputs": [],
   "source": [
    "# Draw a graph of this (add to entity graph)\n",
    "%matplotlib notebook\n",
    "%matplotlib inline\n",
    "\n",
    "if related_alerts is not None and not related_alerts.empty:\n",
    "    rel_alert_graph = security_alert_graph.add_related_alerts(related_alerts=related_alerts,\n",
    "                                             alertgraph=alertentity_graph)\n",
    "    nbdisplay.draw_alert_entity_graph(rel_alert_graph, width=15)\n",
    "else:\n",
    "    md('No related alerts found.', styles=[\"bold\",\"green\"])"
   ]
  },
  {
   "cell_type": "markdown",
   "metadata": {},
   "source": [
    "### Browse List of Related Alerts\n",
    "Once we have understood how these alerts related to each other, we can view the details of each new, related alert."
   ]
  },
  {
   "cell_type": "code",
   "execution_count": null,
   "metadata": {
    "ExecuteTime": {
     "end_time": "2020-05-16T02:15:03.233694Z",
     "start_time": "2020-05-16T02:15:03.182692Z"
    }
   },
   "outputs": [],
   "source": [
    "def disp_full_alert(alert):\n",
    "    global related_alert\n",
    "    related_alert = SecurityAlert(alert)\n",
    "    nbdisplay.display_alert(related_alert, show_entities=True)\n",
    "\n",
    "if related_alerts is not None and not related_alerts.empty:\n",
    "    related_alerts['CompromisedEntity'] = related_alerts['Computer']\n",
    "    print('Selected alert is available as \\'related_alert\\' variable.')\n",
    "    rel_alert_select = nbwidgets.AlertSelector(alerts=related_alerts, action=disp_full_alert)\n",
    "    rel_alert_select.display()\n",
    "else:\n",
    "    md('No related alerts found.', styles=[\"bold\",\"green\"])"
   ]
  },
  {
   "cell_type": "markdown",
   "metadata": {},
   "source": [
    "## Get Process Tree\n",
    "If the alert has a process entity this section tries to retrieve the entire process tree to which that process belongs.\n",
    "\n",
    "Notes:\n",
    "- The alert must have a process entity\n",
    "- Only processes started within the query time boundary will be included\n",
    "- Ancestor and descented processes are retrieved to two levels (i.e. the parent and grandparent of the alert process plus any child and grandchild processes).\n",
    "- Sibling processes are the processes that share the same parent as the alert process\n",
    "- This can be a long-running query, especially if a wide time window is used! Caveat Emptor!\n",
    "\n",
    "The source (alert) process is shown in red.\n",
    "\n",
    "What's shown for each process:\n",
    "- Each process line is indented according to its position in the tree hierarchy\n",
    "- Top line fields:\n",
    "  - \\[relationship to source process:lev# - where # is the hops away from the source process\\]\n",
    "  - Process creation date-time (UTC)\n",
    "  - Process Image path\n",
    "  - PID - Process Id\n",
    "  - SubjSess - the session Id of the process spawning the new process\n",
    "  - TargSess - the new session Id if the process is launched in another context/session. If 0/0x0 then the process is launched in the same session as its parent\n",
    "- Second line fields:\n",
    "  - Process command line\n",
    "  - Account - name of the account context in which the process is running"
   ]
  },
  {
   "cell_type": "code",
   "execution_count": null,
   "metadata": {
    "ExecuteTime": {
     "end_time": "2020-05-16T02:15:11.683710Z",
     "start_time": "2020-05-16T02:15:11.632710Z"
    },
    "scrolled": true
   },
   "outputs": [],
   "source": [
    "# set the origin time to the time of our alert\n",
    "query_times = nbwidgets.QueryTime(units='minute', origin_time=security_alert.origin_time)\n",
    "query_times.display()"
   ]
  },
  {
   "cell_type": "code",
   "execution_count": null,
   "metadata": {
    "ExecuteTime": {
     "end_time": "2020-05-16T02:18:46.782959Z",
     "start_time": "2020-05-16T02:18:43.483058Z"
    },
    "scrolled": false
   },
   "outputs": [],
   "source": [
    "if security_alert.data_family.name != \"WindowsSecurity\":\n",
    "    raise ValueError('The remainder of this notebook currently only supports Windows. '\n",
    "                     'Linux support is in development but not yet implemented.')\n",
    "\n",
    "def extract_missing_pid(security_alert):\n",
    "    for pid_ext_name in ['Process Id', 'Suspicious Process Id']:\n",
    "        pid = security_alert.ExtendedProperties.get(pid_ext_name, None)\n",
    "        if pid:\n",
    "            return pid\n",
    "\n",
    "def extract_missing_sess_id(security_alert):\n",
    "    sess_id = security_alert.ExtendedProperties.get('Account Session Id', None)\n",
    "    if sess_id:\n",
    "        return sess_id\n",
    "    for session in [e for e in security_alert.entities if\n",
    "                    e['Type'] == 'host-logon-session' or e['Type'] == 'hostlogonsession']:\n",
    "        return session['SessionId']\n",
    "            \n",
    "if (security_alert.primary_process):\n",
    "    # Do some patching up if the process entity doesn't have a PID\n",
    "    pid = security_alert.primary_process.ProcessId\n",
    "    if not pid:\n",
    "        pid = extract_missing_pid(security_alert)\n",
    "        if pid:\n",
    "            security_alert.primary_process.ProcessId = pid\n",
    "        else:\n",
    "            raise ValueError('Could not find the process Id for the alert process.')\n",
    "    \n",
    "    # Do the same if we can't find the account logon ID\n",
    "    sess_id = security_alert.get_logon_id()\n",
    "    if sess_id:\n",
    "        sess_id = extract_missing_sess_id(security_alert)\n",
    "        if sess_id and security_alert.primary_account:\n",
    "            security_alert.primary_account.LogonId = sess_id\n",
    "        else:\n",
    "            raise ValueError('Could not find the session Id for the alert process.')\n",
    "    \n",
    "    # run the query\n",
    "    process_tree = qry_prov.WindowsSecurity.list_host_processes(\n",
    "        query_times,\n",
    "#         security_alert,\n",
    "#         process_id=pid,\n",
    "#         logon_session_id=sess_id,\n",
    "        host_name=security_alert.primary_host.HostName,\n",
    "        process_name=security_alert.primary_process.ImageFile.FullPath)\n",
    "\n",
    "    if process_tree is not None and not process_tree.empty:\n",
    "        # Print out the text view of the process tree\n",
    "        nbdisplay.display_process_tree(process_tree)\n",
    "    else:\n",
    "        md_warn('No processes were returned so cannot obtain a process tree Skip.')\n",
    "        display(Markdown('Skip to [Other Processes](#process_clustering) later in the notebook to retrieve all processes'))\n",
    "else:\n",
    "    md_warn('This alert has no process entity so cannot obtain a process tree.')\n",
    "    display(Markdown('Skip to [Other Processes](#process_clustering) later in the notebook to retrieve all processes'))\n",
    "    process_tree = None"
   ]
  },
  {
   "cell_type": "markdown",
   "metadata": {},
   "source": [
    "### Process Time Line\n",
    "As well as seeing the processes involved in a tree we want to see the chronology of this process execution. This shows each process in the process tree on a time line view.\n",
    "If a large number of processes are involved in this process tree it may take some time to display this time line graphic."
   ]
  },
  {
   "cell_type": "code",
   "execution_count": null,
   "metadata": {
    "ExecuteTime": {
     "end_time": "2020-05-16T02:19:16.391952Z",
     "start_time": "2020-05-16T02:19:16.269953Z"
    },
    "scrolled": true
   },
   "outputs": [],
   "source": [
    "# Show timeline of events\n",
    "if process_tree is not None and not process_tree.empty:\n",
    "    nbdisplay.display_timeline(data=process_tree, alert=security_alert, \n",
    "                            title='Alert Process Session', height=250)\n",
    "else:\n",
    "    md_warn('This alert has no process entity so cannot obtain a process tree.')\n",
    "    display(Markdown('Skip to [Other Processes](#process_clustering) later in the notebook to retrieve all processes'))\n"
   ]
  },
  {
   "cell_type": "markdown",
   "metadata": {},
   "source": [
    "## Other Processes on Host - Clustering\n",
    "Sometimes you don't have a source process from which to build our investigation. Other times it's just useful to see what other process activity is occurring on the host. This section retrieves all processes on the host within the time bounds\n",
    "set in the query times widget.\n",
    "\n",
    "If you want to view the raw details of this process data display the *processes_on_host* dataframe.\n",
    "\n",
    "In order to more effectively analyze this process data we can cluster processes into distinct process clusters.\n",
    "To do this we process the raw event list output to extract a few features that render strings (such as commandline)into numerical values. The default below uses the following features:\n",
    "- commandLineTokensFull - this is a count of common delimiters in the commandline \n",
    "  (given by this regex r'[\\s\\-\\\\/\\.,\"\\'|&amp;:;%$()]'). The aim of this is to capture the commandline structure while ignoring variations on what is essentially the same pattern (e.g. temporary path GUIDs, target IP or host names, etc.)\n",
    "- pathScore - this sums the ordinal (character) value of each character in the path (so /bin/bash and /bin/bosh would have similar scores).\n",
    "- isSystemSession - 1 if this is a root/system session, 0 if anything else.\n",
    "\n",
    "Then we run a clustering algorithm (DBScan in this case) on the process list. The result groups similar (noisy) processes together and leaves unique process patterns as single-member clusters."
   ]
  },
  {
   "cell_type": "markdown",
   "metadata": {},
   "source": [
    "### Clustered Processes"
   ]
  },
  {
   "cell_type": "code",
   "execution_count": null,
   "metadata": {
    "ExecuteTime": {
     "end_time": "2020-05-16T02:19:46.286319Z",
     "start_time": "2020-05-16T02:19:44.261867Z"
    }
   },
   "outputs": [],
   "source": [
    "from msticpy.sectools.eventcluster import dbcluster_events, add_process_features\n",
    "from tqdm.notebook import tqdm\n",
    "tqdm.pandas(desc=\"progress\")\n",
    "\n",
    "processes_on_host = None\n",
    "if security_alert.primary_host:\n",
    "    md(\"Querying data...\")\n",
    "    processes_on_host = qry_prov.WindowsSecurity.list_host_processes(\n",
    "        query_times,\n",
    "        security_alert,\n",
    "        host_name=hostname\n",
    "    )\n",
    "\n",
    "    if processes_on_host is not None and not processes_on_host.empty:\n",
    "        md(\"Extracting features...\")\n",
    "        feature_procs = add_process_features(input_frame=processes_on_host,\n",
    "                                             path_separator=security_alert.path_separator)\n",
    "\n",
    "        # you might need to play around with the max_cluster_distance parameter.\n",
    "        # decreasing this gives more clusters.\n",
    "        md(\"Clustering data...\")\n",
    "        (clus_events, dbcluster, x_data) = dbcluster_events(data=feature_procs,\n",
    "                                                            cluster_columns=['commandlineTokensFull', \n",
    "                                                                             'pathScore', \n",
    "                                                                             'isSystemSession'],\n",
    "                                                            max_cluster_distance=0.0001)\n",
    "        print('Number of input events:', len(feature_procs))\n",
    "        print('Number of clustered events:', len(clus_events))\n",
    "        height = int(len(clus_events[clus_events['ClusterSize'] > 1]) / 4)\n",
    "        clus_events[['ClusterSize', 'processName']][clus_events['ClusterSize'] > 1].plot.barh(x='processName', \n",
    "                                                                                             title='Process names with Cluster > 1', \n",
    "                                                                                             figsize=(6, height));\n",
    "if processes_on_host is None or processes_on_host.empty:\n",
    "    md('Unable to obtain any processes for this host. This feature is currently only supported for Windows hosts.', styles=[\"blue\",\"bold\"])\n",
    "    md('If this is a Windows host skip to [Host Logons](#host_logons) later in the notebook to examine logon events.', styles=[\"bold\",\"large\"])"
   ]
  },
  {
   "cell_type": "markdown",
   "metadata": {},
   "source": [
    "### Variability in Command Lines and Process Names\n",
    "In this section we display a number of charts highlighting the variability of command lines and processes paths associated with each process. \n",
    "\n",
    "The top chart shows the variability of command line content for a given process name. The wider the box, the more instances were found with different command line structure. For certain processes such as cmd.exe or powershell.exe a wide variability in command lines could be expected, however with other processes this could be considered abnormal.\n",
    "\n",
    "Note, the 'structure' in this case is measured by the number of tokens or delimiters in the command line and does not look at content differences. This is done so that commonly varying instances of the same command line are grouped together.<br>\n",
    "For example `updatepatch host1.mydom.com` and `updatepatch host2.mydom.com` will be grouped together.\n",
    "\n",
    "\n",
    "The second graph shows processes by variation in the full path associated with the process. This does compare content so `c:\\windows\\system32\\net.exe` and `e:\\windows\\system32\\net.exe` are treated as distinct. You would normally not expect to see any variability in this chart unless you have multiple copies of the same name executable or an executable is trying masquerade as another well-known binary."
   ]
  },
  {
   "cell_type": "code",
   "execution_count": null,
   "metadata": {
    "ExecuteTime": {
     "end_time": "2020-05-16T02:19:52.943265Z",
     "start_time": "2020-05-16T02:19:51.149746Z"
    }
   },
   "outputs": [],
   "source": [
    "# Looking at the variability of commandlines and process image paths\n",
    "import seaborn as sns\n",
    "sns.set(style=\"darkgrid\")\n",
    "\n",
    "if processes_on_host is not None and not processes_on_host.empty:\n",
    "    proc_plot = sns.catplot(y=\"processName\", x=\"commandlineTokensFull\", \n",
    "                            data=feature_procs.sort_values('processName'),\n",
    "                            kind='box', height=10)\n",
    "    proc_plot.fig.suptitle('Variability of Commandline Tokens', x=1, y=1)\n",
    "\n",
    "    proc_plot = sns.catplot(y=\"processName\", x=\"pathLogScore\", \n",
    "                            data=feature_procs.sort_values('processName'),\n",
    "                            kind='box', height=10, hue='isSystemSession')\n",
    "    proc_plot.fig.suptitle('Variability of Path', x=1, y=1);"
   ]
  },
  {
   "cell_type": "code",
   "execution_count": null,
   "metadata": {
    "ExecuteTime": {
     "end_time": "2020-05-16T02:20:00.562015Z",
     "start_time": "2020-05-16T02:19:57.711493Z"
    },
    "scrolled": true
   },
   "outputs": [],
   "source": [
    "if 'clus_events' in locals() and not clus_events.empty:\n",
    "    resp = input('View the clustered data? y/n')\n",
    "    if resp == 'y':\n",
    "        display(clus_events.sort_values('TimeGenerated')[['TimeGenerated', 'LastEventTime',\n",
    "                                                          'NewProcessName', 'CommandLine', \n",
    "                                                          'ClusterSize', 'commandlineTokensFull',\n",
    "                                                          'pathScore', 'isSystemSession']])"
   ]
  },
  {
   "cell_type": "code",
   "execution_count": null,
   "metadata": {
    "ExecuteTime": {
     "end_time": "2020-05-16T02:20:03.856018Z",
     "start_time": "2020-05-16T02:20:03.843018Z"
    }
   },
   "outputs": [],
   "source": [
    "# Look at clusters for individual process names\n",
    "def view_cluster(exe_name):\n",
    "    display(clus_events[['ClusterSize', 'processName', 'CommandLine', 'ClusterId']][clus_events['processName'] == exe_name])\n",
    "    \n",
    "display(Markdown('You can view the cluster members for individual processes'\n",
    "                 'by inserting a new cell and entering:<br>'\n",
    "                 '`view_cluster(process_name)`<br></div>'\n",
    "                 'where process_name is the unqualified process binary. E.g<br>'\n",
    "                 '`view_cluster(\"reg.exe\")`'))"
   ]
  },
  {
   "cell_type": "markdown",
   "metadata": {},
   "source": [
    "### Time Line of  clustered processes data vs. original data"
   ]
  },
  {
   "cell_type": "code",
   "execution_count": null,
   "metadata": {
    "ExecuteTime": {
     "end_time": "2020-05-16T02:20:06.531933Z",
     "start_time": "2020-05-16T02:20:06.352934Z"
    }
   },
   "outputs": [],
   "source": [
    "# Show timeline of events - clustered events\n",
    "if 'clus_events' in locals() and not clus_events.empty:\n",
    "    nbdisplay.display_timeline(data=clus_events, \n",
    "                            overlay_data=processes_on_host, \n",
    "                            alert=security_alert, \n",
    "                            title='Distinct Host Processes (bottom) and All Proceses (top)')"
   ]
  },
  {
   "cell_type": "markdown",
   "metadata": {},
   "source": [
    "<a></a>[Contents](#toc)\n",
    "## Base64 Decode and Check for IOCs\n",
    "This section looks for Indicators of Compromise (IoC) within the data sets passed to it.\n",
    "\n",
    "The first section looks at the command line for the process related to our original alert (if any). It also looks for Base64 encoded strings within the data - this is a common way of hiding attacker intent. It attempts to decode any strings that look like Base64. Additionally, if the Base64 decode operation returns any items that look like a Base64 encoded string or file, a gzipped binary sequence, a zipped or tar archive, it will attempt to extract the contents before searching for potentially interesting items."
   ]
  },
  {
   "cell_type": "code",
   "execution_count": null,
   "metadata": {
    "ExecuteTime": {
     "end_time": "2020-05-16T02:20:12.962663Z",
     "start_time": "2020-05-16T02:20:11.763218Z"
    }
   },
   "outputs": [],
   "source": [
    "process = security_alert.primary_process\n",
    "ioc_extractor = IoCExtract()\n",
    "\n",
    "if process and process[\"CommandLine\"]:\n",
    "    # if nothing is decoded this just returns the input string unchanged\n",
    "    base64_dec_str, _ = base64.unpack_items(input_string=process[\"CommandLine\"])\n",
    "    if base64_dec_str and '<decoded' in base64_dec_str:\n",
    "        print('Base64 encoded items found.')\n",
    "        print(base64_dec_str)\n",
    "        \n",
    "    # any IoCs in the string?\n",
    "    iocs_found = ioc_extractor.extract(base64_dec_str)\n",
    "    \n",
    "    if iocs_found:\n",
    "        print('\\nPotential IoCs found in alert process:')\n",
    "        display(iocs_found)\n",
    "    else:\n",
    "        print('No IoCs found in alert process:')\n",
    "else:\n",
    "    print('No process command line available in selected alert.')\n"
   ]
  },
  {
   "cell_type": "markdown",
   "metadata": {},
   "source": [
    "### IoCs in the entire data set\n",
    "If we have a process tree or other elements that contain command lines we also want to attempt to extract IoCs from these data sets."
   ]
  },
  {
   "cell_type": "code",
   "execution_count": null,
   "metadata": {
    "ExecuteTime": {
     "end_time": "2020-05-16T02:20:15.419954Z",
     "start_time": "2020-05-16T02:20:15.359955Z"
    }
   },
   "outputs": [],
   "source": [
    "ioc_extractor = IoCExtract()\n",
    "\n",
    "source_processes = None\n",
    "# if process tree is populated we use that preferentially\n",
    "try:\n",
    "    if not process_tree.empty:\n",
    "        source_processes = process_tree\n",
    "except (NameError, AttributeError):\n",
    "    pass \n",
    "\n",
    "# If not, use the clustered events from the all sessions\n",
    "try:\n",
    "    if source_processes is None and not clus_events.empty:\n",
    "        source_processes = clus_events\n",
    "except (NameError, AttributeError):\n",
    "    pass\n",
    "    \n",
    "if source_processes is not None and not source_processes.empty: \n",
    "    ioc_df = ioc_extractor.extract(data=source_processes, \n",
    "                                   columns=['CommandLine'], \n",
    "                                   os_family=security_alert.os_family,\n",
    "                                   ioc_types=['ipv4', 'ipv6', 'dns', 'url',\n",
    "                                              'md5_hash', 'sha1_hash', 'sha256_hash'])\n",
    "    if len(ioc_df):\n",
    "        display(HTML(\"<h3>IoC patterns found in process tree.</h3>\"))\n",
    "        display(ioc_df)\n",
    "else:\n",
    "    ioc_df = None"
   ]
  },
  {
   "cell_type": "markdown",
   "metadata": {},
   "source": [
    "### If any Base64 encoded strings, decode and search for IoCs in the results.\n",
    "For simple strings the Base64 decoded output is straightforward. However it is not uncommon to see nested encodings therefore we want to try to extract and decode these nested elements as well."
   ]
  },
  {
   "cell_type": "code",
   "execution_count": null,
   "metadata": {
    "ExecuteTime": {
     "end_time": "2020-05-16T02:20:19.183556Z",
     "start_time": "2020-05-16T02:20:19.165556Z"
    }
   },
   "outputs": [],
   "source": [
    "if source_processes is not None:\n",
    "    dec_df = base64.unpack_items(data=source_processes, column='CommandLine')\n",
    "    \n",
    "if source_processes is not None and (dec_df is not None and not dec_df.empty):\n",
    "    display(HTML(\"<h3>Decoded base 64 command lines</h3>\"))\n",
    "    md_warn(\"Some binary patterns may be decodable as unicode strings\")\n",
    "    display(dec_df[['full_decoded_string', 'original_string', 'decoded_string', 'input_bytes', 'file_hashes']])\n",
    "\n",
    "    ioc_dec_df = ioc_extractor.extract(data=dec_df, columns=['full_decoded_string'])\n",
    "    if len(ioc_dec_df):\n",
    "        display(HTML(\"<h3>IoC patterns found in base 64 decoded data</h3>\"))\n",
    "        display(ioc_dec_df)\n",
    "        if ioc_df is not None:\n",
    "            ioc_df = ioc_df.append(ioc_dec_df ,ignore_index=True)\n",
    "        else:\n",
    "            ioc_df = ioc_dec_df\n",
    "else:\n",
    "    print(\"No base64 encodings found.\")"
   ]
  },
  {
   "cell_type": "markdown",
   "metadata": {
    "hidden": true
   },
   "source": [
    "## Threat Intelligence Lookup\n",
    "Now that we have identified a number of IoCs we want to check to see if they are associated with known mallicious activity. To do this we will query three different Threat Intelligence providers to see if we get results.\n",
    "\n",
    "We will be using:\n",
    "- VirusTotal https://www.virustotal.com/.\n",
    "- Alienware OTX https://otx.alienvault.com/\n",
    "- IBM X-Force https://exchange.xforce.ibmcloud.com/\n",
    "\n",
    "If you do not have an API key for any of these providers simply remove their name from the providers list in our lookup_iocs command."
   ]
  },
  {
   "cell_type": "code",
   "execution_count": null,
   "metadata": {
    "ExecuteTime": {
     "end_time": "2020-05-16T02:20:32.758293Z",
     "start_time": "2020-05-16T02:20:22.825297Z"
    }
   },
   "outputs": [],
   "source": [
    "from msticpy.sectools.tiproviders.ti_provider_base import TISeverity\n",
    "\n",
    "def ti_check_ser_sev(data, threshold):\n",
    "    threshold = TISeverity.parse(threshold)\n",
    "    return data.apply(lambda x: TISeverity.parse(x) >= threshold)\n",
    "\n",
    "tilookups = TILookup()\n",
    "if ioc_df is not None and not ioc_df.empty:\n",
    "    ti_results = tilookups.lookup_iocs(data=ioc_df, obs_col='Observable', ioc_type_col='IoCType', providers=[\"OTX\", \"VirusTotal\", \"XForce\"])\n",
    "    if not ti_results[ti_check_ser_sev(ti_results['Severity'], 1)].empty:\n",
    "        md(\"Positive TI Results:\",styles=[\"bold\",\"red\",\"large\"])\n",
    "        display(ti_results[ti_check_ser_sev(ti_results['Severity'], 1)])\n",
    "    else:\n",
    "        md(\"No postive matches found in threat intelligence\",styles=[\"bold\",\"green\"])\n",
    "else:\n",
    "    md_warn(\"No IOCs to lookup\")"
   ]
  },
  {
   "cell_type": "markdown",
   "metadata": {},
   "source": [
    "## Alert command line - Occurrence on other hosts in workspace\n",
    "Understanding where else a command line is being run in an environment can give us a good idea of the scope of a security incident, or help us determine whether activity is malicious or expected.\n",
    "\n",
    "To get a sense of whether the alert process is something that is occuring on other hosts, run this section."
   ]
  },
  {
   "cell_type": "code",
   "execution_count": null,
   "metadata": {
    "ExecuteTime": {
     "end_time": "2020-05-16T02:21:17.223752Z",
     "start_time": "2020-05-16T02:21:17.162753Z"
    },
    "scrolled": true
   },
   "outputs": [],
   "source": [
    "# set the origin time to the time of our alert\n",
    "query_times = nbwidgets.QueryTime(units='day', before=5, max_before=20,\n",
    "                            after=1, max_after=10,\n",
    "                            origin_time=security_alert.origin_time)\n",
    "query_times.display()"
   ]
  },
  {
   "cell_type": "code",
   "execution_count": null,
   "metadata": {
    "ExecuteTime": {
     "end_time": "2020-05-16T02:21:22.127025Z",
     "start_time": "2020-05-16T02:21:19.300028Z"
    }
   },
   "outputs": [],
   "source": [
    "# This query needs a commandline parameter which isn't supplied\n",
    "# by default from the the alert \n",
    "# - so extract and escape this from the process\n",
    "proc_match_in_ws = None\n",
    "\n",
    "if not security_alert.primary_process:\n",
    "    md_warn('This alert has no process entity. This section is not applicable.')\n",
    "elif not security_alert.primary_process.CommandLine:\n",
    "    md_warn('This alert process entity has no commandline. This section is not applicable.')\n",
    "\n",
    "elif security_alert.primary_process:\n",
    "    commandline = security_alert.primary_process.CommandLine\n",
    "    commandline = utils.escape_windows_path(commandline)\n",
    "    commandline = commandline.replace('\"',\"'\")\n",
    "    process = security_alert.primary_process.ProcessName\n",
    "    if not process:\n",
    "        raise ValueError(\"No process name found in selected alert\")\n",
    "    process = utils.escape_windows_path(process)\n",
    "    process = process.replace('\"',\"'\")\n",
    "    md(f\"Command Line: '{commandline}'\", styles=[\"bold\"])\n",
    "\n",
    "    if commandline.strip():\n",
    "        proc_match_in_ws = qry_prov.WindowsSecurity.list_hosts_matching_commandline(start=query_times.start, end=query_times.end, process_name=process,\n",
    "                                                              commandline=commandline)\n",
    "\n",
    "    else:\n",
    "        md('process has empty commandline')\n",
    "# Check the results\n",
    "if proc_match_in_ws is None or proc_match_in_ws.empty:\n",
    "    md('No proceses with matching commandline found in on other hosts in workspace', styles=[\"bold\",\"blue\"])\n",
    "    md(f'between: {query_times.start} and {query_times.end}')\n",
    "else:\n",
    "    hosts = proc_match_in_ws['Computer'].drop_duplicates().shape[0]\n",
    "    processes = proc_match_in_ws.shape[0]\n",
    "    md('{numprocesses} proceses with matching commandline found on {numhosts} hosts in workspace'\\\n",
    "         .format(numprocesses=processes, numhosts=hosts))\n",
    "    md(f'between: {query_times.start} and {query_times.end}')\n",
    "    md('To examine these execute the dataframe \\'{}\\' in a new cell'.format('proc_match_in_ws'))\n",
    "    md(proc_match_in_ws[['TimeCreatedUtc','Computer', 'NewProcessName', 'CommandLine']].head())"
   ]
  },
  {
   "cell_type": "markdown",
   "metadata": {},
   "source": [
    "If at this point you wish to investigate a particular host in detail you can use the cells below or you can switch to our Host Investigation Notebooks that provide a deep dive capability for Windows and Linux hosts.\n",
    "\n",
    "## Host Logons\n",
    "This section retrieves the logon events on the host in the alert.\n",
    "\n",
    "You may want to use the query times to search over a broader range than the default."
   ]
  },
  {
   "cell_type": "code",
   "execution_count": null,
   "metadata": {
    "ExecuteTime": {
     "end_time": "2020-05-16T02:21:24.995564Z",
     "start_time": "2020-05-16T02:21:24.938564Z"
    },
    "scrolled": true
   },
   "outputs": [],
   "source": [
    "# set the origin time to the time of our alert\n",
    "query_times = nbwidgets.QueryTime(units='day', origin_time=security_alert.origin_time,\n",
    "                           before=1, after=0, max_before=20, max_after=1)\n",
    "query_times.display()"
   ]
  },
  {
   "cell_type": "markdown",
   "metadata": {
    "hidden": true
   },
   "source": [
    "If you wish to investigate a specific host in detail you can use the cells below or switch to our Account investigation notebook. \n",
    "\n",
    "### Alert Logon Account\n",
    "This returns the account associated with the alert being investigated."
   ]
  },
  {
   "cell_type": "code",
   "execution_count": null,
   "metadata": {
    "ExecuteTime": {
     "end_time": "2020-05-16T02:21:30.636724Z",
     "start_time": "2020-05-16T02:21:28.813548Z"
    }
   },
   "outputs": [],
   "source": [
    "logon_id = security_alert.get_logon_id()\n",
    "\n",
    "if logon_id:\n",
    "    if logon_id in ['0x3e7', '0X3E7', '-1', -1]:\n",
    "        print('Cannot retrieve single logon event for system logon id '\n",
    "              '- please continue with All Host Logons below.')\n",
    "    else:\n",
    "        logon_event = qry_prov.WindowsSecurity.get_host_logon(provs=[query_times, security_alert], host_name=security_alert.ExtendedProperties['Compromised Host'],start=query_times.start, end= query_times.end,logon_session_id=sess_id)\n",
    "        nbdisplay.display_logon_data(logon_event, security_alert)\n",
    "else:\n",
    "    print('No account entity in the source alert or the primary account had no logonId value set.')"
   ]
  },
  {
   "cell_type": "markdown",
   "metadata": {},
   "source": [
    "### All Host Logons\n",
    "Since the number of logon events may be large and, in the case of system logons, very repetitive, we use clustering to try to identity logons with unique characteristics.\n",
    "\n",
    "In this case we use the numeric score of the account name and the logon type (i.e. interactive, service, etc.). The results of the clustered logons are shown below along with a more detailed, readable printout of the logon event information. The data here will vary depending on whether this is a Windows or Linux host."
   ]
  },
  {
   "cell_type": "code",
   "execution_count": null,
   "metadata": {
    "ExecuteTime": {
     "end_time": "2020-05-16T02:21:33.574131Z",
     "start_time": "2020-05-16T02:21:31.528726Z"
    }
   },
   "outputs": [],
   "source": [
    "from msticpy.sectools.eventcluster import dbcluster_events, add_process_features, _string_score\n",
    "\n",
    "if security_alert.primary_host:\n",
    "    md(\"Querying data...\")\n",
    "    host_logons = qry_prov.WindowsSecurity.list_host_logons(\n",
    "        query_times, security_alert, host_name=security_alert.primary_host.HostName\n",
    "    )\n",
    "    \n",
    "    host_logons_time = (\n",
    "        host_logons.astype({'LogonType': 'int32'})\n",
    "        .merge(right=pd.Series(data=nbdisplay._WIN_LOGON_TYPE_MAP, name=\"LogonTypeDesc\"),\n",
    "               left_on=\"LogonType\", right_index=True)\n",
    "        .set_index(\"TimeGenerated\")[[\"LogonTypeDesc\"]]\n",
    "        .groupby([\"LogonTypeDesc\"])\n",
    "        .resample(\"10T\")\n",
    "        .count()\n",
    "        .rename(columns={\"LogonTypeDesc\": \"Count\"}).reset_index()\n",
    "    )\n",
    "    fig, ax = plt.subplots()\n",
    "    for l_type, logon_group in host_logons_time.groupby(\"LogonTypeDesc\"):\n",
    "        logon_group.plot.line(x=\"TimeGenerated\", y=\"Count\", label=l_type, title=\"Number of logons by type\", ax=ax)\n",
    "else:\n",
    "    host_logons = None\n",
    "    md(\"No data available - alert has no host entity.\")\n",
    "    "
   ]
  },
  {
   "cell_type": "markdown",
   "metadata": {},
   "source": [
    "#### Highest and lowest number of logon types by Account"
   ]
  },
  {
   "cell_type": "code",
   "execution_count": null,
   "metadata": {
    "ExecuteTime": {
     "end_time": "2020-05-16T02:21:39.050530Z",
     "start_time": "2020-05-16T02:21:39.008528Z"
    }
   },
   "outputs": [],
   "source": [
    "select_logon_type = widgets.Select(options=nbdisplay._WIN_LOGON_TYPE_MAP.values(), layout=widgets.Layout(height=\"200px\"))\n",
    "num_items = widgets.IntSlider(min=1, max=200, value=10, description=\"# logons\")\n",
    "df_output1 = widgets.Output()\n",
    "df_output2 = widgets.Output()\n",
    "\n",
    "def display_logons(host_logons, order_column, number_shown, output, title, ascending=True):\n",
    "    pivot_df = (\n",
    "        host_logons[[\"Account\", \"LogonType\", \"EventID\"]]\n",
    "        .astype({'LogonType': 'int32'})\n",
    "        .merge(right=pd.Series(data=nbdisplay._WIN_LOGON_TYPE_MAP, name=\"LogonTypeDesc\"),\n",
    "               left_on=\"LogonType\", right_index=True)\n",
    "        .drop(columns=\"LogonType\")\n",
    "        .groupby([\"Account\", \"LogonTypeDesc\"])\n",
    "        .count()\n",
    "        .unstack()\n",
    "        .rename(columns={\"EventID\": \"LogonCount\"})\n",
    "        .fillna(0)\n",
    "    )\n",
    "    \n",
    "    with output:\n",
    "        if ('LogonCount', order_column) in pivot_df.columns:\n",
    "            md(title)\n",
    "            display(\n",
    "                pivot_df\n",
    "                [pivot_df[(\"LogonCount\", order_column)] > 0]\n",
    "                .sort_values((\"LogonCount\", order_column), ascending=ascending)\n",
    "                .head(number_shown)\n",
    "                .style\n",
    "                .background_gradient(cmap=\"viridis\", low=0.5, high=0)\n",
    "                .format(\"{0:0>3.0f}\")\n",
    "            )\n",
    "        else:\n",
    "            md(f\"No logons of type {order_column}\")\n",
    "\n",
    "            \n",
    "def show_logons(evt):\n",
    "    del evt\n",
    "    logon_type = select_logon_type.value\n",
    "    list_size = num_items.value\n",
    "    df_output1.clear_output()\n",
    "    df_output2.clear_output()\n",
    "    display_logons(\n",
    "        host_logons,\n",
    "        order_column=logon_type, \n",
    "        number_shown=list_size, \n",
    "        output=df_output1, \n",
    "        title=\"Most Frequent Logons\",\n",
    "        ascending=False,\n",
    "    )\n",
    "    display_logons(\n",
    "        host_logons,\n",
    "        order_column=logon_type, \n",
    "        number_shown=list_size, \n",
    "        output=df_output2, \n",
    "        title=\"Rarest Logons\",\n",
    "        ascending=True\n",
    "    )\n",
    "    \n",
    "select_logon_type.observe(show_logons, names=\"value\")\n",
    "ctrls = widgets.HBox([select_logon_type, num_items])\n",
    "outputs = widgets.HBox([df_output1, df_output2])\n",
    "display(widgets.VBox([ctrls, outputs]))"
   ]
  },
  {
   "cell_type": "markdown",
   "metadata": {
    "hidden": true
   },
   "source": [
    "## Failed Logons\n",
    "Failed logons can provide a valuable source of data for investigation so we also want to look at failed logons during the period of our investigation."
   ]
  },
  {
   "cell_type": "code",
   "execution_count": null,
   "metadata": {
    "ExecuteTime": {
     "end_time": "2020-05-16T02:21:52.253650Z",
     "start_time": "2020-05-16T02:21:50.510974Z"
    },
    "hidden": true,
    "scrolled": true
   },
   "outputs": [],
   "source": [
    "if security_alert.primary_host:\n",
    "    failedLogons = qry_prov.WindowsSecurity.list_host_logon_failures(\n",
    "        query_times, security_alert, host_name=security_alert.primary_host.HostName\n",
    "    )\n",
    "    \n",
    "else:\n",
    "    md_warn(\"No data available - alert has no host entity.\")\n",
    "    failedLogons = None\n",
    "    \n",
    "\n",
    "if failedLogons is None or failedLogons.empty:\n",
    "    md(f'No logon failures recorded for this host between {security_alert.StartTimeUtc} and {security_alert.EndTimeUtc}', styles=[\"bold\",\"blue\"])\n",
    "else:\n",
    "    md('Failed Logons observed for the host:')\n",
    "    display(failedLogons)"
   ]
  },
  {
   "cell_type": "markdown",
   "metadata": {
    "hidden": true
   },
   "source": [
    "## Appendices\n",
    "### Available DataFrames"
   ]
  },
  {
   "cell_type": "code",
   "execution_count": null,
   "metadata": {
    "ExecuteTime": {
     "end_time": "2020-02-13T20:45:29.434121Z",
     "start_time": "2020-02-13T20:45:29.427150Z"
    }
   },
   "outputs": [],
   "source": [
    "print('List of current DataFrames in Notebook')\n",
    "print('-' * 50)\n",
    "current_vars = list(locals().keys())\n",
    "for var_name in current_vars:\n",
    "    if isinstance(locals()[var_name], pd.DataFrame) and not var_name.startswith('_'):\n",
    "        print(var_name)"
   ]
  },
  {
   "cell_type": "markdown",
   "metadata": {},
   "source": [
    "### Saving Data to CSV\n",
    "To save the contents of a pandas DataFrame to an CSV\n",
    "use the following syntax\n",
    "```\n",
    "host_logons.to_csv('host_logons.csv')\n",
    "```"
   ]
  },
  {
   "cell_type": "markdown",
   "metadata": {
    "heading_collapsed": true,
    "tags": [
     "todo"
    ]
   },
   "source": [
    "### Saving Data to Excel\n",
    "To save the contents of a pandas DataFrame to an Excel spreadsheet\n",
    "use the following syntax\n",
    "```\n",
    "writer = pd.ExcelWriter('myWorksheet.xlsx')\n",
    "my_data_frame.to_excel(writer,'Sheet1')\n",
    "writer.save()\n",
    "```"
   ]
  },
  {
   "cell_type": "markdown",
   "metadata": {},
   "source": [
    "## Configuration\n",
    "\n",
    "### `msticpyconfig.yaml` configuration File\n",
    "You can configure primary and secondary TI providers and any required parameters in the `msticpyconfig.yaml` file. This is read from the current directory or you can set an environment variable (`MSTICPYCONFIG`) pointing to its location.\n",
    "\n",
    "To configure this file see the [ConfigureNotebookEnvironment notebook](https://github.com/Azure/Azure-Sentinel-Notebooks/blob/master/ConfiguringNotebookEnvironment.ipynb)"
   ]
  }
 ],
 "metadata": {
  "hide_input": false,
  "kernel_info": {
   "name": "python3"
  },
  "kernelspec": {
   "display_name": "Python (condadev)",
   "language": "python",
   "name": "condadev"
  },
  "language_info": {
   "codemirror_mode": {
    "name": "ipython",
    "version": 3
   },
   "file_extension": ".py",
   "mimetype": "text/x-python",
   "name": "python",
   "nbconvert_exporter": "python",
   "pygments_lexer": "ipython3",
   "version": "3.6.7"
  },
  "latex_envs": {
   "LaTeX_envs_menu_present": true,
   "autoclose": false,
   "autocomplete": true,
   "bibliofile": "biblio.bib",
   "cite_by": "apalike",
   "current_citInitial": 1,
   "eqLabelWithNumbers": true,
   "eqNumInitial": 1,
   "hotkeys": {
    "equation": "Ctrl-E",
    "itemize": "Ctrl-I"
   },
   "labels_anchors": false,
   "latex_user_defs": false,
   "report_style_numbering": false,
   "user_envs_cfg": false
  },
  "toc": {
   "base_numbering": 1,
   "nav_menu": {
    "height": "318.996px",
    "width": "320.994px"
   },
   "number_sections": true,
   "sideBar": true,
   "skip_h1_title": true,
   "title_cell": "Table of Contents",
   "title_sidebar": "Contents",
   "toc_cell": true,
   "toc_position": {
    "height": "calc(100% - 180px)",
    "left": "10px",
    "top": "150px",
    "width": "361px"
   },
   "toc_section_display": true,
   "toc_window_display": true
  },
  "varInspector": {
   "cols": {
    "lenName": 16,
    "lenType": 16,
    "lenVar": 40
   },
   "kernels_config": {
    "python": {
     "delete_cmd_postfix": "",
     "delete_cmd_prefix": "del ",
     "library": "var_list.py",
     "varRefreshCmd": "print(var_dic_list())"
    },
    "r": {
     "delete_cmd_postfix": ") ",
     "delete_cmd_prefix": "rm(",
     "library": "var_list.r",
     "varRefreshCmd": "cat(var_dic_list()) "
    }
   },
   "position": {
    "height": "406.193px",
    "left": "1468.4px",
    "right": "20px",
    "top": "120px",
    "width": "456.572px"
   },
   "types_to_exclude": [
    "module",
    "function",
    "builtin_function_or_method",
    "instance",
    "_Feature"
   ],
   "window_display": false
  },
  "widgets": {
   "application/vnd.jupyter.widget-state+json": {
    "state": {
     "001993082dc144cc88449009f487f1f3": {
      "model_module": "@jupyter-widgets/base",
      "model_module_version": "1.2.0",
      "model_name": "LayoutModel",
      "state": {
       "height": "300px",
       "width": "95%"
      }
     },
     "00e68c03c51c4626ba5484bb5625e9af": {
      "model_module": "@jupyter-widgets/base",
      "model_module_version": "1.2.0",
      "model_name": "LayoutModel",
      "state": {}
     },
     "03b5e68618284957a9654582c6b73b41": {
      "model_module": "@jupyter-widgets/base",
      "model_module_version": "1.2.0",
      "model_name": "LayoutModel",
      "state": {
       "width": "50%"
      }
     },
     "04d68e58e8a94c0f8704de634007b1cc": {
      "model_module": "@jupyter-widgets/controls",
      "model_module_version": "1.5.0",
      "model_name": "DatePickerModel",
      "state": {
       "description": "Origin Date",
       "disabled": false,
       "layout": "IPY_MODEL_d19dba521e984509b0211b0cc2f3e889",
       "style": "IPY_MODEL_ebd1da078011491295746178d59e73b4",
       "value": {
        "date": 13,
        "month": 1,
        "year": 2019
       }
      }
     },
     "04d95dbf3d12401492433fcc065ef7da": {
      "model_module": "@jupyter-widgets/controls",
      "model_module_version": "1.5.0",
      "model_name": "VBoxModel",
      "state": {
       "children": [
        "IPY_MODEL_306ec10bc3f94030a340c1c2ca0cf0a9",
        "IPY_MODEL_4a171777ad094c38a340568e51ba82d4",
        "IPY_MODEL_9ccdcd189cd14f88bdc9ccc83e0c3915"
       ],
       "layout": "IPY_MODEL_f0e581b65287470e959704e2de1b88e9"
      }
     },
     "04e78bced7094c70ac015376869bfd11": {
      "model_module": "@jupyter-widgets/controls",
      "model_module_version": "1.5.0",
      "model_name": "DescriptionStyleModel",
      "state": {
       "description_width": ""
      }
     },
     "05a7059ab6704e9491e901e021e03ee7": {
      "model_module": "@jupyter-widgets/controls",
      "model_module_version": "1.5.0",
      "model_name": "DescriptionStyleModel",
      "state": {
       "description_width": "initial"
      }
     },
     "07f36c2253a84332b1fad488fd80c5de": {
      "model_module": "@jupyter-widgets/controls",
      "model_module_version": "1.5.0",
      "model_name": "DescriptionStyleModel",
      "state": {
       "description_width": ""
      }
     },
     "0b202493daf741a4a736e20fe683b4d0": {
      "model_module": "@jupyter-widgets/controls",
      "model_module_version": "1.5.0",
      "model_name": "DatePickerModel",
      "state": {
       "description": "Origin Date",
       "disabled": false,
       "layout": "IPY_MODEL_6c5714bf7d4d4076982bcdc9d132d5b2",
       "style": "IPY_MODEL_573201b7e3bb4e228fe3e8ba7e6379a1",
       "value": {
        "date": 13,
        "month": 1,
        "year": 2019
       }
      }
     },
     "0bb9d1c3f66345d9bc47439957970ab6": {
      "model_module": "@jupyter-widgets/controls",
      "model_module_version": "1.5.0",
      "model_name": "TextModel",
      "state": {
       "description": "Query end time (UTC) :  ",
       "layout": "IPY_MODEL_2fdc749acdc54bc3aaa248b31f0a11ff",
       "style": "IPY_MODEL_1afcdcf44ef24c69b3b8d105d4828c7b",
       "value": "2019-02-13 22:14:15"
      }
     },
     "0cc0bbba30e4450bafd759b29d56415f": {
      "model_module": "@jupyter-widgets/base",
      "model_module_version": "1.2.0",
      "model_name": "LayoutModel",
      "state": {
       "width": "50%"
      }
     },
     "0ce71c9c206743f89102bfef5a6d3d66": {
      "model_module": "@jupyter-widgets/base",
      "model_module_version": "1.2.0",
      "model_name": "LayoutModel",
      "state": {}
     },
     "0e94d8d81a8441a691d05170558fc91f": {
      "model_module": "@jupyter-widgets/output",
      "model_module_version": "1.0.0",
      "model_name": "OutputModel",
      "state": {
       "layout": "IPY_MODEL_51c1699696844f08bcb2d1c9fd6d60c4",
       "outputs": [
        {
         "data": {
          "text/html": "<p style=''>Rarest Logons</p>",
          "text/plain": "<IPython.core.display.HTML object>"
         },
         "metadata": {},
         "output_type": "display_data"
        },
        {
         "data": {
          "text/html": "<style  type=\"text/css\" >\n    #T_4fbab740_6f09_11ea_bd84_7824af8acbdbrow0_col0 {\n            background-color:  #440154;\n            color:  #f1f1f1;\n        }    #T_4fbab740_6f09_11ea_bd84_7824af8acbdbrow0_col1 {\n            background-color:  #440154;\n            color:  #f1f1f1;\n        }    #T_4fbab740_6f09_11ea_bd84_7824af8acbdbrow0_col2 {\n            background-color:  #440154;\n            color:  #f1f1f1;\n        }    #T_4fbab740_6f09_11ea_bd84_7824af8acbdbrow0_col3 {\n            background-color:  #440154;\n            color:  #f1f1f1;\n        }</style><table id=\"T_4fbab740_6f09_11ea_bd84_7824af8acbdb\" ><thead>    <tr>        <th class=\"blank level0\" ></th>        <th class=\"col_heading level0 col0\" colspan=4>LogonCount</th>    </tr>    <tr>        <th class=\"index_name level1\" >LogonTypeDesc</th>        <th class=\"col_heading level1 col0\" >Batch</th>        <th class=\"col_heading level1 col1\" >Interactive</th>        <th class=\"col_heading level1 col2\" >Network</th>        <th class=\"col_heading level1 col3\" >Service</th>    </tr>    <tr>        <th class=\"index_name level0\" >Account</th>        <th class=\"blank\" ></th>        <th class=\"blank\" ></th>        <th class=\"blank\" ></th>        <th class=\"blank\" ></th>    </tr></thead><tbody>\n                <tr>\n                        <th id=\"T_4fbab740_6f09_11ea_bd84_7824af8acbdblevel0_row0\" class=\"row_heading level0 row0\" >Window Manager\\DWM-2</th>\n                        <td id=\"T_4fbab740_6f09_11ea_bd84_7824af8acbdbrow0_col0\" class=\"data row0 col0\" >000</td>\n                        <td id=\"T_4fbab740_6f09_11ea_bd84_7824af8acbdbrow0_col1\" class=\"data row0 col1\" >002</td>\n                        <td id=\"T_4fbab740_6f09_11ea_bd84_7824af8acbdbrow0_col2\" class=\"data row0 col2\" >000</td>\n                        <td id=\"T_4fbab740_6f09_11ea_bd84_7824af8acbdbrow0_col3\" class=\"data row0 col3\" >000</td>\n            </tr>\n    </tbody></table>",
          "text/plain": "<pandas.io.formats.style.Styler at 0x26342ba9550>"
         },
         "metadata": {},
         "output_type": "display_data"
        }
       ]
      }
     },
     "0edcec2db148489f8bd9b877ef954996": {
      "model_module": "@jupyter-widgets/controls",
      "model_module_version": "1.5.0",
      "model_name": "DescriptionStyleModel",
      "state": {
       "description_width": ""
      }
     },
     "11fab784f8fc48d19ee72979c15c56c0": {
      "model_module": "@jupyter-widgets/base",
      "model_module_version": "1.2.0",
      "model_name": "LayoutModel",
      "state": {}
     },
     "13dbc461ba0a4e5486b5902187dd680b": {
      "model_module": "@jupyter-widgets/controls",
      "model_module_version": "1.5.0",
      "model_name": "VBoxModel",
      "state": {
       "children": [
        "IPY_MODEL_ccee15173e4c4fe88e0cdedddc8c97b9",
        "IPY_MODEL_5fb51ce24dcc40c5b0f8c046df651923",
        "IPY_MODEL_0bb9d1c3f66345d9bc47439957970ab6"
       ],
       "layout": "IPY_MODEL_243a3046ce8c43cda66c3db1453f4d24"
      }
     },
     "14c4cacc0b784316a0577ea699430a16": {
      "model_module": "@jupyter-widgets/controls",
      "model_module_version": "1.5.0",
      "model_name": "HTMLModel",
      "state": {
       "layout": "IPY_MODEL_00e68c03c51c4626ba5484bb5625e9af",
       "style": "IPY_MODEL_6737c935b16645d08e131df97ebbf723",
       "value": "<h4>Set query time boundaries</h4>"
      }
     },
     "155adb75de13486baeb034f7beefb4b2": {
      "model_module": "@jupyter-widgets/base",
      "model_module_version": "1.2.0",
      "model_name": "LayoutModel",
      "state": {
       "width": "80%"
      }
     },
     "171142c390d8427895850374c8f4570b": {
      "model_module": "@jupyter-widgets/controls",
      "model_module_version": "1.5.0",
      "model_name": "TextModel",
      "state": {
       "description": "Time (24hr)",
       "layout": "IPY_MODEL_4e25be268f49468097aefd37ce395648",
       "style": "IPY_MODEL_8054f2408293445e8c4a8f419b3d7aa3",
       "value": "22:04:15"
      }
     },
     "17a414c682994126b7658518f9b9d6e2": {
      "model_module": "@jupyter-widgets/base",
      "model_module_version": "1.2.0",
      "model_name": "LayoutModel",
      "state": {}
     },
     "18ff315e61b64132b3c87be033bf649b": {
      "model_module": "@jupyter-widgets/controls",
      "model_module_version": "1.5.0",
      "model_name": "DescriptionStyleModel",
      "state": {
       "description_width": ""
      }
     },
     "1995d482ab2b425da94b4ff7091c9ae3": {
      "model_module": "@jupyter-widgets/controls",
      "model_module_version": "1.5.0",
      "model_name": "SliderStyleModel",
      "state": {
       "description_width": "initial"
      }
     },
     "1afcdcf44ef24c69b3b8d105d4828c7b": {
      "model_module": "@jupyter-widgets/controls",
      "model_module_version": "1.5.0",
      "model_name": "DescriptionStyleModel",
      "state": {
       "description_width": "initial"
      }
     },
     "1b18b09174234c55839e16ca1228fce9": {
      "model_module": "@jupyter-widgets/controls",
      "model_module_version": "1.5.0",
      "model_name": "TextModel",
      "state": {
       "description": "Query end time (UTC) :  ",
       "layout": "IPY_MODEL_73a9db947e1f4a8085c0e145a222f993",
       "style": "IPY_MODEL_2221c7c554204333b9691c7172a7a668",
       "value": "2019-02-15 03:18:32.373329"
      }
     },
     "1c3b7dd5dda649d7aa71b356ef0469c7": {
      "model_module": "@jupyter-widgets/controls",
      "model_module_version": "1.5.0",
      "model_name": "DescriptionStyleModel",
      "state": {
       "description_width": "initial"
      }
     },
     "1d400c47804f4931b80ba717832df725": {
      "model_module": "@jupyter-widgets/controls",
      "model_module_version": "1.5.0",
      "model_name": "VBoxModel",
      "state": {
       "children": [
        "IPY_MODEL_fbfd08409527449f9b5e234c38ac2214",
        "IPY_MODEL_dcbe0a18689d4f7abf59238d61af9098",
        "IPY_MODEL_b20ba46a952d44c28975eb0679911233"
       ],
       "layout": "IPY_MODEL_7110382feb1e462c90d47319e90592de"
      }
     },
     "1d707aeb57ce4c88a3a8940ec8e82cb9": {
      "model_module": "@jupyter-widgets/controls",
      "model_module_version": "1.5.0",
      "model_name": "TextModel",
      "state": {
       "description": "Time (24hr)",
       "layout": "IPY_MODEL_a2cc31e46a194e389930be81ccc603e3",
       "style": "IPY_MODEL_2cd892b7509146239342eda30a6a81ad",
       "value": "22:04:15"
      }
     },
     "1dea953c617246fc95a66eb7f795d829": {
      "model_module": "@jupyter-widgets/controls",
      "model_module_version": "1.5.0",
      "model_name": "DescriptionStyleModel",
      "state": {
       "description_width": "initial"
      }
     },
     "1ec6a8d908824347a276c0c090616e45": {
      "model_module": "@jupyter-widgets/base",
      "model_module_version": "1.2.0",
      "model_name": "LayoutModel",
      "state": {}
     },
     "2164af534c2045cea14822b1cbe0673d": {
      "model_module": "@jupyter-widgets/base",
      "model_module_version": "1.2.0",
      "model_name": "LayoutModel",
      "state": {
       "border": "1px solid black"
      }
     },
     "2221c7c554204333b9691c7172a7a668": {
      "model_module": "@jupyter-widgets/controls",
      "model_module_version": "1.5.0",
      "model_name": "DescriptionStyleModel",
      "state": {
       "description_width": "initial"
      }
     },
     "243a3046ce8c43cda66c3db1453f4d24": {
      "model_module": "@jupyter-widgets/base",
      "model_module_version": "1.2.0",
      "model_name": "LayoutModel",
      "state": {}
     },
     "2482baed759b455da4c97627810658ba": {
      "model_module": "@jupyter-widgets/controls",
      "model_module_version": "1.5.0",
      "model_name": "HTMLModel",
      "state": {
       "layout": "IPY_MODEL_baba3174a60e4fe6827c14920f95c3a6",
       "style": "IPY_MODEL_8d4a36a14da94cec91bf795149ccf387",
       "value": "<h4>Set query time boundaries</h4>"
      }
     },
     "266089049ffc4847945f9376f728ee16": {
      "model_module": "@jupyter-widgets/controls",
      "model_module_version": "1.5.0",
      "model_name": "DescriptionStyleModel",
      "state": {
       "description_width": ""
      }
     },
     "2758f18eff674ee09b607f4f8d8cf8b6": {
      "model_module": "@jupyter-widgets/base",
      "model_module_version": "1.2.0",
      "model_name": "LayoutModel",
      "state": {}
     },
     "27c8343a5ac046f8ae118e343a29051d": {
      "model_module": "@jupyter-widgets/controls",
      "model_module_version": "1.5.0",
      "model_name": "HBoxModel",
      "state": {
       "children": [
        "IPY_MODEL_48ebd6d70544432e920b4dc1620d6e95",
        "IPY_MODEL_e1ff6a7e8420415981d6decd7b290410"
       ],
       "layout": "IPY_MODEL_f33b7613c3114af09fd1ad67098dce0b"
      }
     },
     "28adff70949d4c5f9c7a4b77ccd2c458": {
      "model_module": "@jupyter-widgets/controls",
      "model_module_version": "1.5.0",
      "model_name": "DescriptionStyleModel",
      "state": {
       "description_width": "initial"
      }
     },
     "297406158edd486d8a7445a7262a550e": {
      "model_module": "@jupyter-widgets/controls",
      "model_module_version": "1.5.0",
      "model_name": "SelectModel",
      "state": {
       "_options_labels": [
        "Unknown",
        "Interactive",
        "Network",
        "Batch",
        "Service",
        "Unlock",
        "NetworkCleartext",
        "NewCredentials",
        "RemoteInteractive",
        "CachedInteractive"
       ],
       "index": 1,
       "layout": "IPY_MODEL_9a999191420b459ba9309a9b438696b8",
       "style": "IPY_MODEL_f636a74882ef48eaa38db9012259ee1f"
      }
     },
     "2cd892b7509146239342eda30a6a81ad": {
      "model_module": "@jupyter-widgets/controls",
      "model_module_version": "1.5.0",
      "model_name": "DescriptionStyleModel",
      "state": {
       "description_width": ""
      }
     },
     "2d9e32bb371b40949850a6e1efab0c80": {
      "model_module": "@jupyter-widgets/controls",
      "model_module_version": "1.5.0",
      "model_name": "IntRangeSliderModel",
      "state": {
       "_model_name": "IntRangeSliderModel",
       "_view_name": "IntRangeSliderView",
       "description": "Time Range (day):",
       "layout": "IPY_MODEL_a5a9b015958d4a9d83206c4f9ffa2baf",
       "max": 1,
       "min": -28,
       "style": "IPY_MODEL_ae36e81b70e040549c983441fe8244d4",
       "value": [
        -5,
        1
       ]
      }
     },
     "2db442c2dca548f497e1a6d4c423da10": {
      "model_module": "@jupyter-widgets/controls",
      "model_module_version": "1.5.0",
      "model_name": "HBoxModel",
      "state": {
       "children": [
        "IPY_MODEL_753ff63211bf429d82ecabe31c29e916",
        "IPY_MODEL_9b1335ac0d5d4c748bd50195ce85fda9"
       ],
       "layout": "IPY_MODEL_0ce71c9c206743f89102bfef5a6d3d66"
      }
     },
     "2fdc749acdc54bc3aaa248b31f0a11ff": {
      "model_module": "@jupyter-widgets/base",
      "model_module_version": "1.2.0",
      "model_name": "LayoutModel",
      "state": {
       "width": "50%"
      }
     },
     "306ec10bc3f94030a340c1c2ca0cf0a9": {
      "model_module": "@jupyter-widgets/controls",
      "model_module_version": "1.5.0",
      "model_name": "TextModel",
      "state": {
       "description": "Filter alerts by title:",
       "layout": "IPY_MODEL_e64643b5f94e4cc9aa89948f792c821c",
       "style": "IPY_MODEL_4a713b792914420f895b121a53eec921"
      }
     },
     "30f162e00cd44e25a23d4e30025a3ab4": {
      "model_module": "@jupyter-widgets/base",
      "model_module_version": "1.2.0",
      "model_name": "LayoutModel",
      "state": {}
     },
     "318623b92fd443b9b31d8276657ff2c3": {
      "model_module": "@jupyter-widgets/controls",
      "model_module_version": "1.5.0",
      "model_name": "TextModel",
      "state": {
       "description": "Query end time (UTC) :  ",
       "layout": "IPY_MODEL_404560b1a0484e98b3778d14fa7f9f9f",
       "style": "IPY_MODEL_05a7059ab6704e9491e901e021e03ee7",
       "value": "2019-02-13 03:09:15"
      }
     },
     "336907cb7e1246ce9b5b4941b0a71fb8": {
      "model_module": "@jupyter-widgets/base",
      "model_module_version": "1.2.0",
      "model_name": "LayoutModel",
      "state": {
       "width": "50%"
      }
     },
     "36f0ce44615a4c92ac723c2ec26ad909": {
      "model_module": "@jupyter-widgets/base",
      "model_module_version": "1.2.0",
      "model_name": "LayoutModel",
      "state": {}
     },
     "38c8832a1831488d8dad38615f4e845a": {
      "model_module": "@jupyter-widgets/base",
      "model_module_version": "1.2.0",
      "model_name": "LayoutModel",
      "state": {}
     },
     "3b0d054cc49d422e99d930357473feb3": {
      "model_module": "@jupyter-widgets/base",
      "model_module_version": "1.2.0",
      "model_name": "LayoutModel",
      "state": {
       "height": "300px",
       "width": "95%"
      }
     },
     "3d617c3ca9f14df4aaa499289beec0c6": {
      "model_module": "@jupyter-widgets/base",
      "model_module_version": "1.2.0",
      "model_name": "LayoutModel",
      "state": {}
     },
     "3f6478a9d13e472a91326fd078ac091a": {
      "model_module": "@jupyter-widgets/controls",
      "model_module_version": "1.5.0",
      "model_name": "TextModel",
      "state": {
       "description": "Time (24hr)",
       "layout": "IPY_MODEL_38c8832a1831488d8dad38615f4e845a",
       "style": "IPY_MODEL_a975f8c91dd54c129d25ab896ba6383f",
       "value": "02:59:15"
      }
     },
     "400c0e86eae446ee834f7bd99796043b": {
      "model_module": "@jupyter-widgets/controls",
      "model_module_version": "1.5.0",
      "model_name": "VBoxModel",
      "state": {
       "children": [
        "IPY_MODEL_50b68cc751ca44a5b2264b28aed39650",
        "IPY_MODEL_7f720568f836419b940e2f49d769776a",
        "IPY_MODEL_d2b6601be9f9466e99423a6f11602ee5"
       ],
       "layout": "IPY_MODEL_7fd5f70955c64613abc65997c3424dcd"
      }
     },
     "403c1c76fd9644528aea13a9c8b09a5c": {
      "model_module": "@jupyter-widgets/base",
      "model_module_version": "1.2.0",
      "model_name": "LayoutModel",
      "state": {
       "height": "300px",
       "width": "95%"
      }
     },
     "404560b1a0484e98b3778d14fa7f9f9f": {
      "model_module": "@jupyter-widgets/base",
      "model_module_version": "1.2.0",
      "model_name": "LayoutModel",
      "state": {
       "width": "50%"
      }
     },
     "405581c60a544f4db22de2b8d40953b5": {
      "model_module": "@jupyter-widgets/base",
      "model_module_version": "1.2.0",
      "model_name": "LayoutModel",
      "state": {
       "width": "50%"
      }
     },
     "40c27454d97440459903b9299eeede6b": {
      "model_module": "@jupyter-widgets/controls",
      "model_module_version": "1.5.0",
      "model_name": "SliderStyleModel",
      "state": {
       "description_width": "initial"
      }
     },
     "40cafeb21eed458ba359e42b4737676f": {
      "model_module": "@jupyter-widgets/base",
      "model_module_version": "1.2.0",
      "model_name": "LayoutModel",
      "state": {}
     },
     "48ebd6d70544432e920b4dc1620d6e95": {
      "model_module": "@jupyter-widgets/controls",
      "model_module_version": "1.5.0",
      "model_name": "DatePickerModel",
      "state": {
       "description": "Origin Date",
       "disabled": false,
       "layout": "IPY_MODEL_5f8a8d0a1a34400e89cc776950872c76",
       "style": "IPY_MODEL_266089049ffc4847945f9376f728ee16",
       "value": {
        "date": 13,
        "month": 1,
        "year": 2019
       }
      }
     },
     "4a171777ad094c38a340568e51ba82d4": {
      "model_module": "@jupyter-widgets/controls",
      "model_module_version": "1.5.0",
      "model_name": "SelectModel",
      "state": {
       "_options_labels": [
        "2019-02-09 23:26:48 - Suspiciously named process detected - (MSTICALERTSWIN1)  - [id:2518525459919272837_d4e28a5d-6267-414c-8c1f-50d0e27fe442]",
        "2019-02-09 23:26:48 - Security incident with shared process detected - (MSTICALERTSWIN1)  - [id:2518525459919272837_a346dd76-a51d-464e-afc5-c6e5c6a8fc6e]",
        "2019-02-09 23:26:48 - Digital currency mining related behavior detected - (MSTICALERTSWIN1)  - [id:2518525459919272837_b1d1c4df-4f84-455f-9280-35e3cfe8a313]",
        "2019-02-11 07:22:55 - Potential attempt to bypass AppLocker detected - (MSTICALERTSWIN1)  - [id:2518524310249409384_9099a9fd-d20b-4ff3-901b-c3ab4425b60d]",
        "2019-02-11 07:22:55 - Security incident detected - (MSTICALERTSWIN1)  - [id:2518524310249409384_8d3fe689-8504-495c-81d7-873f14a774a4]",
        "2019-02-11 11:48:26 - Potential attempt to bypass AppLocker detected - (MSTICALERTSWIN1)  - [id:2518524150938259676_d4ebca87-a431-41d9-98ff-180b9f06a6a8]",
        "2019-02-11 11:48:26 - Suspicious system process executed - (MSTICALERTSWIN1)  - [id:2518524150938415247_373fc20c-47d6-43ac-ab07-28b1631b06e4]",
        "2019-02-11 18:10:58 - Security incident with shared process detected - (MSTICALERTSWIN1)  - [id:2518523921419094607_db29572d-7593-48c5-97b6-4d6d60ce6bf3]",
        "2019-02-11 18:10:58 - Potential attempt to bypass AppLocker detected - (MSTICALERTSWIN1)  - [id:2518523921419094607_deb18209-676f-46c9-9c91-12ebb60c7b53]",
        "2019-02-11 22:47:54 - Detected the disabling of critical services - (MSTICALERTSWIN1)  - [id:2518523755258704446_afc76197-3738-4bcd-8c12-5bbe0d07beb7]",
        "2019-02-11 22:47:54 - Detected potentially suspicious use of Telegram tool - (MSTICALERTSWIN1)  - [id:2518523755258914710_6a491a9a-ce5f-451f-a6ef-0fad4ee73f67]",
        "2019-02-12 11:48:01 - Security incident with shared process detected - (MSTICALERTSWIN1)  - [id:2518523287189999999_1f19db0b-3d5b-4f7b-b91f-5e994ba4bde5]",
        "2019-02-13 22:03:42 - Suspiciously named process detected - (MSTICALERTSWIN1)  - [id:2518522053771835343_649075c9-dc5d-4a75-a848-9c51f70a45ae]",
        "2019-02-13 22:03:42 - Digital currency mining related behavior detected - (MSTICALERTSWIN1)  - [id:2518522053771835343_cf383339-b4ff-4996-9d4e-83a4ece6688f]",
        "2019-02-13 23:07:24 - Detected the disabling of critical services - (MSTICALERTSWIN1)  - [id:2518522015556924218_856f3dbd-ca72-474d-ab00-75956b161a02]",
        "2019-02-13 23:07:24 - Detected potentially suspicious use of Telegram tool - (MSTICALERTSWIN1)  - [id:2518522015557283714_a1008225-c62f-4f51-84aa-6aad89a02b3a]",
        "2019-02-14 11:51:38 - Suspicious system process executed - (MSTICALERTSWIN1)  - [id:2518521557015111330_65a3fe73-0832-427a-aab3-06edc2c27f0a]",
        "2019-02-14 11:51:38 - Security incident detected - (MSTICALERTSWIN1)  - [id:2518521557015111330_79f27254-e85f-4471-a061-3ea99b824495]",
        "2019-02-14 11:51:38 - Potential attempt to bypass AppLocker detected - (MSTICALERTSWIN1)  - [id:2518521557014927413_daa18e53-ab1d-4d7d-8c4f-bcb86f75fd5f]"
       ],
       "description": "Select alert :",
       "index": 0,
       "layout": "IPY_MODEL_3b0d054cc49d422e99d930357473feb3",
       "style": "IPY_MODEL_5bb76ab3d69d4e499841790b89fff9a5"
      }
     },
     "4a713b792914420f895b121a53eec921": {
      "model_module": "@jupyter-widgets/controls",
      "model_module_version": "1.5.0",
      "model_name": "DescriptionStyleModel",
      "state": {
       "description_width": "initial"
      }
     },
     "4e25be268f49468097aefd37ce395648": {
      "model_module": "@jupyter-widgets/base",
      "model_module_version": "1.2.0",
      "model_name": "LayoutModel",
      "state": {}
     },
     "5029fbc628db4f9ab5d4cd018330755d": {
      "model_module": "@jupyter-widgets/controls",
      "model_module_version": "1.5.0",
      "model_name": "IntSliderModel",
      "state": {
       "description": "# logons",
       "layout": "IPY_MODEL_5c13669ebe0b41a7bd3ee6b5230b51fb",
       "max": 200,
       "min": 1,
       "style": "IPY_MODEL_8d8fe2f3fded4b6d8f43a027773940f5",
       "value": 10
      }
     },
     "50b68cc751ca44a5b2264b28aed39650": {
      "model_module": "@jupyter-widgets/controls",
      "model_module_version": "1.5.0",
      "model_name": "TextModel",
      "state": {
       "description": "Filter alerts by title:",
       "layout": "IPY_MODEL_8a2facba684449b58858daf08467a8dd",
       "style": "IPY_MODEL_b004f90398fc4f82889fa09e2fcf5463"
      }
     },
     "51a9984e01bc4c4e85cafbbb3aea66c8": {
      "model_module": "@jupyter-widgets/base",
      "model_module_version": "1.2.0",
      "model_name": "LayoutModel",
      "state": {}
     },
     "51c1699696844f08bcb2d1c9fd6d60c4": {
      "model_module": "@jupyter-widgets/base",
      "model_module_version": "1.2.0",
      "model_name": "LayoutModel",
      "state": {}
     },
     "52b540737c5b41e99ffe18cf8dc8893c": {
      "model_module": "@jupyter-widgets/controls",
      "model_module_version": "1.5.0",
      "model_name": "TextModel",
      "state": {
       "description": "Filter alerts by title:",
       "layout": "IPY_MODEL_3d617c3ca9f14df4aaa499289beec0c6",
       "style": "IPY_MODEL_c22a2e0cebe748dc8334c61652720447"
      }
     },
     "55313a4507b240799d476efd9be6140f": {
      "model_module": "@jupyter-widgets/base",
      "model_module_version": "1.2.0",
      "model_name": "LayoutModel",
      "state": {
       "width": "80%"
      }
     },
     "573201b7e3bb4e228fe3e8ba7e6379a1": {
      "model_module": "@jupyter-widgets/controls",
      "model_module_version": "1.5.0",
      "model_name": "DescriptionStyleModel",
      "state": {
       "description_width": ""
      }
     },
     "57651e5781294b39b00ae53e51b0f306": {
      "model_module": "@jupyter-widgets/base",
      "model_module_version": "1.2.0",
      "model_name": "LayoutModel",
      "state": {
       "width": "95%"
      }
     },
     "597602a2ca4740fea1e82587bd97a307": {
      "model_module": "@jupyter-widgets/base",
      "model_module_version": "1.2.0",
      "model_name": "LayoutModel",
      "state": {}
     },
     "5bb76ab3d69d4e499841790b89fff9a5": {
      "model_module": "@jupyter-widgets/controls",
      "model_module_version": "1.5.0",
      "model_name": "DescriptionStyleModel",
      "state": {
       "description_width": "initial"
      }
     },
     "5c13669ebe0b41a7bd3ee6b5230b51fb": {
      "model_module": "@jupyter-widgets/base",
      "model_module_version": "1.2.0",
      "model_name": "LayoutModel",
      "state": {}
     },
     "5c3599511918469ca8a921ad4ca4cd12": {
      "model_module": "@jupyter-widgets/controls",
      "model_module_version": "1.5.0",
      "model_name": "TextModel",
      "state": {
       "description": "Query end time (UTC) :  ",
       "layout": "IPY_MODEL_981e402bc3404032a7e5677186ce04f9",
       "style": "IPY_MODEL_e313c4e3dc0e4592955c22b4c509732d",
       "value": "2019-02-13 22:04:15"
      }
     },
     "5cf9f0b4e7c540b7a6f7d8f4e3da34b4": {
      "model_module": "@jupyter-widgets/controls",
      "model_module_version": "1.5.0",
      "model_name": "HBoxModel",
      "state": {
       "children": [
        "IPY_MODEL_743afaaf8fd84ae9967164b9cf5bd378",
        "IPY_MODEL_1d707aeb57ce4c88a3a8940ec8e82cb9"
       ],
       "layout": "IPY_MODEL_da0cbb3a37d94f0cb892c0d4240f8957"
      }
     },
     "5e7133b8c9e44fd484709bd7cbb09113": {
      "model_module": "@jupyter-widgets/controls",
      "model_module_version": "1.5.0",
      "model_name": "DescriptionStyleModel",
      "state": {
       "description_width": ""
      }
     },
     "5eb5710f85624970b80fbd5046fb6cd1": {
      "model_module": "@jupyter-widgets/base",
      "model_module_version": "1.2.0",
      "model_name": "LayoutModel",
      "state": {}
     },
     "5f8a8d0a1a34400e89cc776950872c76": {
      "model_module": "@jupyter-widgets/base",
      "model_module_version": "1.2.0",
      "model_name": "LayoutModel",
      "state": {}
     },
     "5fb51ce24dcc40c5b0f8c046df651923": {
      "model_module": "@jupyter-widgets/controls",
      "model_module_version": "1.5.0",
      "model_name": "TextModel",
      "state": {
       "description": "Query start time (UTC):",
       "layout": "IPY_MODEL_405581c60a544f4db22de2b8d40953b5",
       "style": "IPY_MODEL_84ee51c799424eae8ffe7be24cb16ad6",
       "value": "2019-02-13 21:04:15"
      }
     },
     "600ef31c26d94422a6f481fe7322803e": {
      "model_module": "@jupyter-widgets/controls",
      "model_module_version": "1.5.0",
      "model_name": "IntRangeSliderModel",
      "state": {
       "_model_name": "IntRangeSliderModel",
       "_view_name": "IntRangeSliderView",
       "description": "Time Range (day):",
       "layout": "IPY_MODEL_785277a62bc4448b9a3844d34f8cd82c",
       "max": 1,
       "min": -20,
       "style": "IPY_MODEL_1995d482ab2b425da94b4ff7091c9ae3",
       "value": [
        -1,
        0
       ]
      }
     },
     "60c22f2b1bef42958727838d2b7bbf8b": {
      "model_module": "@jupyter-widgets/base",
      "model_module_version": "1.2.0",
      "model_name": "LayoutModel",
      "state": {}
     },
     "64a4ebfa483a405e9cf24295a83f3810": {
      "model_module": "@jupyter-widgets/base",
      "model_module_version": "1.2.0",
      "model_name": "LayoutModel",
      "state": {
       "width": "80%"
      }
     },
     "6628366d2e1d43b58f1b655ffb6bba26": {
      "model_module": "@jupyter-widgets/base",
      "model_module_version": "1.2.0",
      "model_name": "LayoutModel",
      "state": {}
     },
     "6737c935b16645d08e131df97ebbf723": {
      "model_module": "@jupyter-widgets/controls",
      "model_module_version": "1.5.0",
      "model_name": "DescriptionStyleModel",
      "state": {
       "description_width": ""
      }
     },
     "68d22590a5e443f8b64ba00846dd71ff": {
      "model_module": "@jupyter-widgets/controls",
      "model_module_version": "1.5.0",
      "model_name": "SliderStyleModel",
      "state": {
       "description_width": "initial"
      }
     },
     "69a4dae323d946ae97d2e62d6d1fb035": {
      "model_module": "@jupyter-widgets/controls",
      "model_module_version": "1.5.0",
      "model_name": "VBoxModel",
      "state": {
       "children": [
        "IPY_MODEL_6b16cf3976b34e65ab4a4456a62f148e",
        "IPY_MODEL_db8fbcfa53e54c698a0f44035ee46fc6"
       ],
       "layout": "IPY_MODEL_2758f18eff674ee09b607f4f8d8cf8b6"
      }
     },
     "69fab761849746b3bdb07501946037e0": {
      "model_module": "@jupyter-widgets/base",
      "model_module_version": "1.2.0",
      "model_name": "LayoutModel",
      "state": {}
     },
     "6b16cf3976b34e65ab4a4456a62f148e": {
      "model_module": "@jupyter-widgets/controls",
      "model_module_version": "1.5.0",
      "model_name": "HBoxModel",
      "state": {
       "children": [
        "IPY_MODEL_297406158edd486d8a7445a7262a550e",
        "IPY_MODEL_5029fbc628db4f9ab5d4cd018330755d"
       ],
       "layout": "IPY_MODEL_11fab784f8fc48d19ee72979c15c56c0"
      }
     },
     "6bbff6c8e4094406a1cf68e27fefd97a": {
      "model_module": "@jupyter-widgets/controls",
      "model_module_version": "1.5.0",
      "model_name": "SliderStyleModel",
      "state": {
       "description_width": "initial"
      }
     },
     "6bc02f05ef8c4283aa861ad9a44cf132": {
      "model_module": "@jupyter-widgets/controls",
      "model_module_version": "1.5.0",
      "model_name": "VBoxModel",
      "state": {
       "children": [
        "IPY_MODEL_76be17c8d34f496e95af10e47d832a6a",
        "IPY_MODEL_8554a98238e141fa8bdbc25d04f715ae",
        "IPY_MODEL_9ce62a72ee9f439a90cee35aedc66c99"
       ],
       "layout": "IPY_MODEL_60c22f2b1bef42958727838d2b7bbf8b"
      }
     },
     "6c5714bf7d4d4076982bcdc9d132d5b2": {
      "model_module": "@jupyter-widgets/base",
      "model_module_version": "1.2.0",
      "model_name": "LayoutModel",
      "state": {}
     },
     "6d50da564213488cb94dbb21f5655371": {
      "model_module": "@jupyter-widgets/controls",
      "model_module_version": "1.5.0",
      "model_name": "HTMLModel",
      "state": {
       "layout": "IPY_MODEL_e8ac4189058a4e86bebab7418e8c6267",
       "style": "IPY_MODEL_7f144a8de06a476e883ba00909ca5a3a",
       "value": "<h4>Set query time boundaries</h4>"
      }
     },
     "6e43ff4311874ef7913b15da299b851a": {
      "model_module": "@jupyter-widgets/controls",
      "model_module_version": "1.5.0",
      "model_name": "VBoxModel",
      "state": {
       "children": [
        "IPY_MODEL_52b540737c5b41e99ffe18cf8dc8893c",
        "IPY_MODEL_ffa8aad06cf74ac1bf9183594df4a24d",
        "IPY_MODEL_722e5fef06a045bc880b0baef7b61186"
       ],
       "layout": "IPY_MODEL_40cafeb21eed458ba359e42b4737676f"
      }
     },
     "6f311813d6ca4dbeabeb1b9b7bae0cfa": {
      "model_module": "@jupyter-widgets/controls",
      "model_module_version": "1.5.0",
      "model_name": "HBoxModel",
      "state": {
       "children": [
        "IPY_MODEL_04d68e58e8a94c0f8704de634007b1cc",
        "IPY_MODEL_8f2b69f54cc04e20a089b16da744a566"
       ],
       "layout": "IPY_MODEL_5eb5710f85624970b80fbd5046fb6cd1"
      }
     },
     "7110382feb1e462c90d47319e90592de": {
      "model_module": "@jupyter-widgets/base",
      "model_module_version": "1.2.0",
      "model_name": "LayoutModel",
      "state": {}
     },
     "72226777a23d475598bdfbd46662b767": {
      "model_module": "@jupyter-widgets/controls",
      "model_module_version": "1.5.0",
      "model_name": "DescriptionStyleModel",
      "state": {
       "description_width": "initial"
      }
     },
     "722e5fef06a045bc880b0baef7b61186": {
      "model_module": "@jupyter-widgets/output",
      "model_module_version": "1.0.0",
      "model_name": "OutputModel",
      "state": {
       "layout": "IPY_MODEL_b74c7313464340bb94c6c693ec694ee6",
       "outputs": [
        {
         "data": {
          "text/html": "\n            <h3>Alert: 'Modified system binary discovered'</h3><br>time=<b>2019-02-12 11:48:01</b>,\n            entity=<b></b>, id=<b>2518523287189999999_6e644c01-6feb-436b-9c96-46a86c9c16aa</b>\n            ",
          "text/plain": "<IPython.core.display.HTML object>"
         },
         "metadata": {},
         "output_type": "display_data"
        },
        {
         "data": {
          "text/html": "<div>\n<style scoped>\n    .dataframe tbody tr th:only-of-type {\n        vertical-align: middle;\n    }\n\n    .dataframe tbody tr th {\n        vertical-align: top;\n    }\n\n    .dataframe thead th {\n        text-align: right;\n    }\n</style>\n<table border=\"1\" class=\"dataframe\">\n  <thead>\n    <tr style=\"text-align: right;\">\n      <th></th>\n      <th>1</th>\n    </tr>\n  </thead>\n  <tbody>\n    <tr>\n      <th>TenantId</th>\n      <td>52b1ab41-869e-4138-9e40-2a4457f09bf0</td>\n    </tr>\n    <tr>\n      <th>TimeGenerated</th>\n      <td>2019-02-12 11:49:34</td>\n    </tr>\n    <tr>\n      <th>AlertDisplayName</th>\n      <td>Modified system binary discovered</td>\n    </tr>\n    <tr>\n      <th>AlertName</th>\n      <td>Modified system binary discovered</td>\n    </tr>\n    <tr>\n      <th>Severity</th>\n      <td>Informational</td>\n    </tr>\n    <tr>\n      <th>Description</th>\n      <td>Crash dump analysis detected system module modification within a crash dump from the process ide...</td>\n    </tr>\n    <tr>\n      <th>ProviderName</th>\n      <td>AzureSCA</td>\n    </tr>\n    <tr>\n      <th>VendorName</th>\n      <td>Microsoft</td>\n    </tr>\n    <tr>\n      <th>VendorOriginalId</th>\n      <td>6e644c01-6feb-436b-9c96-46a86c9c16aa</td>\n    </tr>\n    <tr>\n      <th>SystemAlertId</th>\n      <td>2518523287189999999_6e644c01-6feb-436b-9c96-46a86c9c16aa</td>\n    </tr>\n    <tr>\n      <th>ResourceId</th>\n      <td>/subscriptions/40dcc8bf-0478-4f3b-b275-ed0a94f2c013/resourceGroups/ASIHuntOMSWorkspaceRG/provide...</td>\n    </tr>\n    <tr>\n      <th>SourceComputerId</th>\n      <td>c31bc7e0-c6f4-6c80-b4a7-7916ffc2a729</td>\n    </tr>\n    <tr>\n      <th>AlertType</th>\n      <td>Modified system binary discovered</td>\n    </tr>\n    <tr>\n      <th>ConfidenceLevel</th>\n      <td>Unknown</td>\n    </tr>\n    <tr>\n      <th>ConfidenceScore</th>\n      <td>NaN</td>\n    </tr>\n    <tr>\n      <th>IsIncident</th>\n      <td>False</td>\n    </tr>\n    <tr>\n      <th>StartTimeUtc</th>\n      <td>2019-02-12 11:48:01</td>\n    </tr>\n    <tr>\n      <th>EndTimeUtc</th>\n      <td>2019-02-12 11:48:01</td>\n    </tr>\n    <tr>\n      <th>ProcessingEndTime</th>\n      <td>2019-02-12 11:49:34</td>\n    </tr>\n    <tr>\n      <th>RemediationSteps</th>\n      <td>[\\r\\n  \"Correlate this event with other security information to determine the security status of...</td>\n    </tr>\n    <tr>\n      <th>ExtendedProperties</th>\n      <td>{'DumpFile': 'af43dc10-5f40-4ae6-9100-bc1abeff33a7__953585854.hdmp', 'ProcessName': 'WindowsAzur...</td>\n    </tr>\n    <tr>\n      <th>Entities</th>\n      <td></td>\n    </tr>\n    <tr>\n      <th>SourceSystem</th>\n      <td>Detection</td>\n    </tr>\n    <tr>\n      <th>WorkspaceSubscriptionId</th>\n      <td>40dcc8bf-0478-4f3b-b275-ed0a94f2c013</td>\n    </tr>\n    <tr>\n      <th>WorkspaceResourceGroup</th>\n      <td></td>\n    </tr>\n    <tr>\n      <th>ExtendedLinks</th>\n      <td></td>\n    </tr>\n    <tr>\n      <th>ProductName</th>\n      <td></td>\n    </tr>\n    <tr>\n      <th>ProductComponentName</th>\n      <td></td>\n    </tr>\n    <tr>\n      <th>AlertLink</th>\n      <td></td>\n    </tr>\n    <tr>\n      <th>Type</th>\n      <td>SecurityAlert</td>\n    </tr>\n    <tr>\n      <th>CompromisedEntity</th>\n      <td></td>\n    </tr>\n  </tbody>\n</table>\n</div>",
          "text/plain": "                                                                                                                           1\nTenantId                                                                                52b1ab41-869e-4138-9e40-2a4457f09bf0\nTimeGenerated                                                                                            2019-02-12 11:49:34\nAlertDisplayName                                                                           Modified system binary discovered\nAlertName                                                                                  Modified system binary discovered\nSeverity                                                                                                       Informational\nDescription              Crash dump analysis detected system module modification within a crash dump from the process ide...\nProviderName                                                                                                        AzureSCA\nVendorName                                                                                                         Microsoft\nVendorOriginalId                                                                        6e644c01-6feb-436b-9c96-46a86c9c16aa\nSystemAlertId                                                       2518523287189999999_6e644c01-6feb-436b-9c96-46a86c9c16aa\nResourceId               /subscriptions/40dcc8bf-0478-4f3b-b275-ed0a94f2c013/resourceGroups/ASIHuntOMSWorkspaceRG/provide...\nSourceComputerId                                                                        c31bc7e0-c6f4-6c80-b4a7-7916ffc2a729\nAlertType                                                                                  Modified system binary discovered\nConfidenceLevel                                                                                                      Unknown\nConfidenceScore                                                                                                          NaN\nIsIncident                                                                                                             False\nStartTimeUtc                                                                                             2019-02-12 11:48:01\nEndTimeUtc                                                                                               2019-02-12 11:48:01\nProcessingEndTime                                                                                        2019-02-12 11:49:34\nRemediationSteps         [\\r\\n  \"Correlate this event with other security information to determine the security status of...\nExtendedProperties       {'DumpFile': 'af43dc10-5f40-4ae6-9100-bc1abeff33a7__953585854.hdmp', 'ProcessName': 'WindowsAzur...\nEntities                                                                                                                    \nSourceSystem                                                                                                       Detection\nWorkspaceSubscriptionId                                                                 40dcc8bf-0478-4f3b-b275-ed0a94f2c013\nWorkspaceResourceGroup                                                                                                      \nExtendedLinks                                                                                                               \nProductName                                                                                                                 \nProductComponentName                                                                                                        \nAlertLink                                                                                                                   \nType                                                                                                           SecurityAlert\nCompromisedEntity                                                                                                           "
         },
         "metadata": {},
         "output_type": "display_data"
        }
       ]
      }
     },
     "73a9db947e1f4a8085c0e145a222f993": {
      "model_module": "@jupyter-widgets/base",
      "model_module_version": "1.2.0",
      "model_name": "LayoutModel",
      "state": {
       "width": "50%"
      }
     },
     "743afaaf8fd84ae9967164b9cf5bd378": {
      "model_module": "@jupyter-widgets/controls",
      "model_module_version": "1.5.0",
      "model_name": "DatePickerModel",
      "state": {
       "description": "Origin Date",
       "disabled": false,
       "layout": "IPY_MODEL_f5adfcb0cc7940f09472dc0c8564c29e",
       "style": "IPY_MODEL_b0deb6f8c9a944fcbb47b095ca16786d",
       "value": {
        "date": 13,
        "month": 1,
        "year": 2019
       }
      }
     },
     "753ff63211bf429d82ecabe31c29e916": {
      "model_module": "@jupyter-widgets/controls",
      "model_module_version": "1.5.0",
      "model_name": "DatePickerModel",
      "state": {
       "description": "Origin Date",
       "disabled": false,
       "layout": "IPY_MODEL_17a414c682994126b7658518f9b9d6e2",
       "style": "IPY_MODEL_07f36c2253a84332b1fad488fd80c5de",
       "value": {
        "date": 15,
        "month": 1,
        "year": 2019
       }
      }
     },
     "75b98d6e956e41aab3a6c21f00800540": {
      "model_module": "@jupyter-widgets/controls",
      "model_module_version": "1.5.0",
      "model_name": "TextModel",
      "state": {
       "description": "Query start time (UTC):",
       "layout": "IPY_MODEL_a00a59e3330f42c18c8cfcf33253b33e",
       "style": "IPY_MODEL_f22ca34d761d49a5a33a3a9f3516cc68",
       "value": "2019-02-12 22:04:15"
      }
     },
     "76678c0fb0d646aeb510ceb1fd525343": {
      "model_module": "@jupyter-widgets/controls",
      "model_module_version": "1.5.0",
      "model_name": "DescriptionStyleModel",
      "state": {
       "description_width": "initial"
      }
     },
     "76be17c8d34f496e95af10e47d832a6a": {
      "model_module": "@jupyter-widgets/controls",
      "model_module_version": "1.5.0",
      "model_name": "IntRangeSliderModel",
      "state": {
       "_model_name": "IntRangeSliderModel",
       "_view_name": "IntRangeSliderView",
       "description": "Time Range (day):",
       "layout": "IPY_MODEL_55313a4507b240799d476efd9be6140f",
       "max": 10,
       "min": -20,
       "style": "IPY_MODEL_6bbff6c8e4094406a1cf68e27fefd97a",
       "value": [
        -5,
        1
       ]
      }
     },
     "785277a62bc4448b9a3844d34f8cd82c": {
      "model_module": "@jupyter-widgets/base",
      "model_module_version": "1.2.0",
      "model_name": "LayoutModel",
      "state": {
       "width": "80%"
      }
     },
     "785aa3875c6649db827f2ab8ea77ca3c": {
      "model_module": "@jupyter-widgets/controls",
      "model_module_version": "1.5.0",
      "model_name": "HBoxModel",
      "state": {
       "children": [
        "IPY_MODEL_0b202493daf741a4a736e20fe683b4d0",
        "IPY_MODEL_ab491fc977a1412299c0f08faa7e4b14"
       ],
       "layout": "IPY_MODEL_850c3cb6602e461b91baf97c77d3f2b1"
      }
     },
     "7e8b2c376fc645a0b63e68a1b9d489f7": {
      "model_module": "@jupyter-widgets/base",
      "model_module_version": "1.2.0",
      "model_name": "LayoutModel",
      "state": {}
     },
     "7e921ee7320b48bb8692c8acc8f6fbfb": {
      "model_module": "@jupyter-widgets/output",
      "model_module_version": "1.0.0",
      "model_name": "OutputModel",
      "state": {
       "layout": "IPY_MODEL_69fab761849746b3bdb07501946037e0",
       "outputs": [
        {
         "data": {
          "text/html": "<p style=''>Most Frequent Logons</p>",
          "text/plain": "<IPython.core.display.HTML object>"
         },
         "metadata": {},
         "output_type": "display_data"
        },
        {
         "data": {
          "text/html": "<style  type=\"text/css\" >\n    #T_4fb5fc6c_6f09_11ea_87fd_7824af8acbdbrow0_col0 {\n            background-color:  #440154;\n            color:  #f1f1f1;\n        }    #T_4fb5fc6c_6f09_11ea_87fd_7824af8acbdbrow0_col1 {\n            background-color:  #440154;\n            color:  #f1f1f1;\n        }    #T_4fb5fc6c_6f09_11ea_87fd_7824af8acbdbrow0_col2 {\n            background-color:  #440154;\n            color:  #f1f1f1;\n        }    #T_4fb5fc6c_6f09_11ea_87fd_7824af8acbdbrow0_col3 {\n            background-color:  #440154;\n            color:  #f1f1f1;\n        }</style><table id=\"T_4fb5fc6c_6f09_11ea_87fd_7824af8acbdb\" ><thead>    <tr>        <th class=\"blank level0\" ></th>        <th class=\"col_heading level0 col0\" colspan=4>LogonCount</th>    </tr>    <tr>        <th class=\"index_name level1\" >LogonTypeDesc</th>        <th class=\"col_heading level1 col0\" >Batch</th>        <th class=\"col_heading level1 col1\" >Interactive</th>        <th class=\"col_heading level1 col2\" >Network</th>        <th class=\"col_heading level1 col3\" >Service</th>    </tr>    <tr>        <th class=\"index_name level0\" >Account</th>        <th class=\"blank\" ></th>        <th class=\"blank\" ></th>        <th class=\"blank\" ></th>        <th class=\"blank\" ></th>    </tr></thead><tbody>\n                <tr>\n                        <th id=\"T_4fb5fc6c_6f09_11ea_87fd_7824af8acbdblevel0_row0\" class=\"row_heading level0 row0\" >Window Manager\\DWM-2</th>\n                        <td id=\"T_4fb5fc6c_6f09_11ea_87fd_7824af8acbdbrow0_col0\" class=\"data row0 col0\" >000</td>\n                        <td id=\"T_4fb5fc6c_6f09_11ea_87fd_7824af8acbdbrow0_col1\" class=\"data row0 col1\" >002</td>\n                        <td id=\"T_4fb5fc6c_6f09_11ea_87fd_7824af8acbdbrow0_col2\" class=\"data row0 col2\" >000</td>\n                        <td id=\"T_4fb5fc6c_6f09_11ea_87fd_7824af8acbdbrow0_col3\" class=\"data row0 col3\" >000</td>\n            </tr>\n    </tbody></table>",
          "text/plain": "<pandas.io.formats.style.Styler at 0x26342b38240>"
         },
         "metadata": {},
         "output_type": "display_data"
        }
       ]
      }
     },
     "7f144a8de06a476e883ba00909ca5a3a": {
      "model_module": "@jupyter-widgets/controls",
      "model_module_version": "1.5.0",
      "model_name": "DescriptionStyleModel",
      "state": {
       "description_width": ""
      }
     },
     "7f720568f836419b940e2f49d769776a": {
      "model_module": "@jupyter-widgets/controls",
      "model_module_version": "1.5.0",
      "model_name": "SelectModel",
      "state": {
       "_options_labels": [
        "2019-02-12 11:48:01 - Security incident with shared process detected - (MSTICALERTSWIN1)  - [id:2518523287189999999_1f19db0b-3d5b-4f7b-b91f-5e994ba4bde5]",
        "2019-02-13 02:50:38 - Possible suspicious scheduling tasks access detected - (MSTICALERTSLXVM2)  - [id:2518522745615999999_c57a0525-9ca0-4caa-aee8-fd1bb33f785b]",
        "2019-02-13 22:03:42 - Suspiciously named process detected - (MSTICALERTSWIN1)  - [id:2518522053771835343_649075c9-dc5d-4a75-a848-9c51f70a45ae]",
        "2019-02-13 22:03:42 - Digital currency mining related behavior detected - (MSTICALERTSWIN1)  - [id:2518522053771835343_cf383339-b4ff-4996-9d4e-83a4ece6688f]",
        "2019-02-13 23:07:24 - Detected the disabling of critical services - (MSTICALERTSWIN1)  - [id:2518522015556924218_856f3dbd-ca72-474d-ab00-75956b161a02]",
        "2019-02-13 23:07:24 - Detected potentially suspicious use of Telegram tool - (MSTICALERTSWIN1)  - [id:2518522015557283714_a1008225-c62f-4f51-84aa-6aad89a02b3a]",
        "2019-02-14 11:51:38 - Security incident detected - (MSTICALERTSWIN1)  - [id:2518521557015111330_79f27254-e85f-4471-a061-3ea99b824495]",
        "2019-02-14 11:51:38 - Suspicious system process executed - ()  - [id:2518521557015111330_65a3fe73-0832-427a-aab3-06edc2c27f0a]",
        "2019-02-14 11:51:38 - Potential attempt to bypass AppLocker detected - (MSTICALERTSWIN1)  - [id:2518521557014927413_daa18e53-ab1d-4d7d-8c4f-bcb86f75fd5f]"
       ],
       "description": "Select alert :",
       "index": 3,
       "layout": "IPY_MODEL_f4fb8d9cf2ff45958ac3565e4691de5d",
       "style": "IPY_MODEL_76678c0fb0d646aeb510ceb1fd525343"
      }
     },
     "7fd5f70955c64613abc65997c3424dcd": {
      "model_module": "@jupyter-widgets/base",
      "model_module_version": "1.2.0",
      "model_name": "LayoutModel",
      "state": {}
     },
     "8054f2408293445e8c4a8f419b3d7aa3": {
      "model_module": "@jupyter-widgets/controls",
      "model_module_version": "1.5.0",
      "model_name": "DescriptionStyleModel",
      "state": {
       "description_width": ""
      }
     },
     "83a41b974b234d2e9f424c79071a3c38": {
      "model_module": "@jupyter-widgets/controls",
      "model_module_version": "1.5.0",
      "model_name": "DescriptionStyleModel",
      "state": {
       "description_width": "initial"
      }
     },
     "83a75012d56748e3bb810963f6bcdb1d": {
      "model_module": "@jupyter-widgets/controls",
      "model_module_version": "1.5.0",
      "model_name": "HTMLModel",
      "state": {
       "layout": "IPY_MODEL_7e8b2c376fc645a0b63e68a1b9d489f7",
       "style": "IPY_MODEL_18ff315e61b64132b3c87be033bf649b",
       "value": "<h4>Set query time boundaries</h4>"
      }
     },
     "84bc3ac679d74ebb84fb679f60a00f53": {
      "model_module": "@jupyter-widgets/controls",
      "model_module_version": "1.5.0",
      "model_name": "TextModel",
      "state": {
       "description": "Query start time (UTC):",
       "layout": "IPY_MODEL_336907cb7e1246ce9b5b4941b0a71fb8",
       "style": "IPY_MODEL_ea46a6ad300a4f8c9df30c439cebf70b",
       "value": "2019-02-13 01:59:15"
      }
     },
     "84be202a4cde471599442184393121b8": {
      "model_module": "@jupyter-widgets/controls",
      "model_module_version": "1.5.0",
      "model_name": "SliderStyleModel",
      "state": {
       "description_width": "initial"
      }
     },
     "84ee51c799424eae8ffe7be24cb16ad6": {
      "model_module": "@jupyter-widgets/controls",
      "model_module_version": "1.5.0",
      "model_name": "DescriptionStyleModel",
      "state": {
       "description_width": "initial"
      }
     },
     "850c3cb6602e461b91baf97c77d3f2b1": {
      "model_module": "@jupyter-widgets/base",
      "model_module_version": "1.2.0",
      "model_name": "LayoutModel",
      "state": {}
     },
     "851e138eb2fb4bb7b3c6e792dd9f26e7": {
      "model_module": "@jupyter-widgets/controls",
      "model_module_version": "1.5.0",
      "model_name": "VBoxModel",
      "state": {
       "children": [
        "IPY_MODEL_2d9e32bb371b40949850a6e1efab0c80",
        "IPY_MODEL_f38af86f746b40d5ae4460089bcae2f4",
        "IPY_MODEL_f47952d07e614839998a1ee214ed74d7"
       ],
       "layout": "IPY_MODEL_1ec6a8d908824347a276c0c090616e45"
      }
     },
     "8554a98238e141fa8bdbc25d04f715ae": {
      "model_module": "@jupyter-widgets/controls",
      "model_module_version": "1.5.0",
      "model_name": "TextModel",
      "state": {
       "description": "Query start time (UTC):",
       "layout": "IPY_MODEL_af5a1f5d9a9b427a98098533d5236af7",
       "style": "IPY_MODEL_abcd8fbbdb8d423abfbad459a7caa0ee",
       "value": "2019-02-08 22:04:15"
      }
     },
     "88a69e87f7724b52a68d3738943a75f0": {
      "model_module": "@jupyter-widgets/controls",
      "model_module_version": "1.5.0",
      "model_name": "DescriptionStyleModel",
      "state": {
       "description_width": "initial"
      }
     },
     "8914135875264122a52a553ca359afed": {
      "model_module": "@jupyter-widgets/controls",
      "model_module_version": "1.5.0",
      "model_name": "DescriptionStyleModel",
      "state": {
       "description_width": ""
      }
     },
     "89f51b6517b44d9db212cbbf6c77f8ba": {
      "model_module": "@jupyter-widgets/base",
      "model_module_version": "1.2.0",
      "model_name": "LayoutModel",
      "state": {
       "width": "50%"
      }
     },
     "8a2facba684449b58858daf08467a8dd": {
      "model_module": "@jupyter-widgets/base",
      "model_module_version": "1.2.0",
      "model_name": "LayoutModel",
      "state": {}
     },
     "8d4a36a14da94cec91bf795149ccf387": {
      "model_module": "@jupyter-widgets/controls",
      "model_module_version": "1.5.0",
      "model_name": "DescriptionStyleModel",
      "state": {
       "description_width": ""
      }
     },
     "8d8fe2f3fded4b6d8f43a027773940f5": {
      "model_module": "@jupyter-widgets/controls",
      "model_module_version": "1.5.0",
      "model_name": "SliderStyleModel",
      "state": {
       "description_width": ""
      }
     },
     "8f2b69f54cc04e20a089b16da744a566": {
      "model_module": "@jupyter-widgets/controls",
      "model_module_version": "1.5.0",
      "model_name": "TextModel",
      "state": {
       "description": "Time (24hr)",
       "layout": "IPY_MODEL_d21de287c43b420b8772766ea659b5e4",
       "style": "IPY_MODEL_e5881e51195e4ab6bb1e3e13abf51eb5",
       "value": "22:04:15"
      }
     },
     "960cfd44d37b4b5cbaca2714a622aad8": {
      "model_module": "@jupyter-widgets/controls",
      "model_module_version": "1.5.0",
      "model_name": "TextModel",
      "state": {
       "description": "Query start time (UTC):",
       "layout": "IPY_MODEL_a726c923d18f4143a6a05b552278ed37",
       "style": "IPY_MODEL_ffb41755f0984ab997646dfd40d59975",
       "value": "2019-02-12 18:18:32.373329"
      }
     },
     "9818e38cb04d4bb8a35f053c0c8d1fbe": {
      "model_module": "@jupyter-widgets/controls",
      "model_module_version": "1.5.0",
      "model_name": "DescriptionStyleModel",
      "state": {
       "description_width": ""
      }
     },
     "981e402bc3404032a7e5677186ce04f9": {
      "model_module": "@jupyter-widgets/base",
      "model_module_version": "1.2.0",
      "model_name": "LayoutModel",
      "state": {
       "width": "50%"
      }
     },
     "98469e7189e849dfa28dce0e8f2bfb48": {
      "model_module": "@jupyter-widgets/base",
      "model_module_version": "1.2.0",
      "model_name": "LayoutModel",
      "state": {}
     },
     "98b3c86313e4437b985175d41e61cff4": {
      "model_module": "@jupyter-widgets/base",
      "model_module_version": "1.2.0",
      "model_name": "LayoutModel",
      "state": {}
     },
     "9a999191420b459ba9309a9b438696b8": {
      "model_module": "@jupyter-widgets/base",
      "model_module_version": "1.2.0",
      "model_name": "LayoutModel",
      "state": {
       "height": "200px"
      }
     },
     "9b1335ac0d5d4c748bd50195ce85fda9": {
      "model_module": "@jupyter-widgets/controls",
      "model_module_version": "1.5.0",
      "model_name": "TextModel",
      "state": {
       "description": "Time (24hr)",
       "layout": "IPY_MODEL_597602a2ca4740fea1e82587bd97a307",
       "style": "IPY_MODEL_9818e38cb04d4bb8a35f053c0c8d1fbe",
       "value": "02:18:32.373329"
      }
     },
     "9ccdcd189cd14f88bdc9ccc83e0c3915": {
      "model_module": "@jupyter-widgets/output",
      "model_module_version": "1.0.0",
      "model_name": "OutputModel",
      "state": {
       "layout": "IPY_MODEL_a1163b5a54b84391b3dc44b5874f8d8d",
       "outputs": [
        {
         "data": {
          "text/html": "\n            <h3>Alert: 'Security incident with shared process detected'</h3><br>time=<b>2019-02-11 18:10:58</b>,\n            entity=<b>MSTICALERTSWIN1</b>, id=<b>2518523921419094607_db29572d-7593-48c5-97b6-4d6d60ce6bf3</b>\n            <br/>\n            <table border=\"1\" class=\"dataframe\">\n  <thead>\n    <tr style=\"text-align: right;\">\n      <th></th>\n      <th>0</th>\n    </tr>\n  </thead>\n  <tbody>\n    <tr>\n      <th>TenantId</th>\n      <td>52b1ab41-869e-4138-9e40-2a4457f09bf0</td>\n    </tr>\n    <tr>\n      <th>TimeGenerated</th>\n      <td>2019-02-12 04:59:47</td>\n    </tr>\n    <tr>\n      <th>AlertDisplayName</th>\n      <td>Security incident with shared process detected</td>\n    </tr>\n    <tr>\n      <th>AlertName</th>\n      <td>Security incident with shared process detected</td>\n    </tr>\n    <tr>\n      <th>Severity</th>\n      <td>High</td>\n    </tr>\n    <tr>\n      <th>Description</th>\n      <td>The incident which started on 2019-02-11 18:10:58 UTC and recently detected on 2019-02-12 04:59:47 UTC indicates that an attacker has attacked other resources from your resource MSTICALERTSWIN1</td>\n    </tr>\n    <tr>\n      <th>ProviderName</th>\n      <td>Detection</td>\n    </tr>\n    <tr>\n      <th>VendorName</th>\n      <td>Microsoft</td>\n    </tr>\n    <tr>\n      <th>VendorOriginalId</th>\n      <td>db29572d-7593-48c5-97b6-4d6d60ce6bf3</td>\n    </tr>\n    <tr>\n      <th>SystemAlertId</th>\n      <td>2518523921419094607_db29572d-7593-48c5-97b6-4d6d60ce6bf3</td>\n    </tr>\n    <tr>\n      <th>ResourceId</th>\n      <td>/subscriptions/40dcc8bf-0478-4f3b-b275-ed0a94f2c013/resourceGroups/ASIHuntOMSWorkspaceRG/providers/Microsoft.Compute/virtualMachines/MSTICAlertsWin1</td>\n    </tr>\n    <tr>\n      <th>SourceComputerId</th>\n      <td>263a788b-6526-4cdc-8ed9-d79402fe4aa0</td>\n    </tr>\n    <tr>\n      <th>AlertType</th>\n      <td>KillChainFusionIncident</td>\n    </tr>\n    <tr>\n      <th>ConfidenceLevel</th>\n      <td>Unknown</td>\n    </tr>\n    <tr>\n      <th>ConfidenceScore</th>\n      <td>NaN</td>\n    </tr>\n    <tr>\n      <th>IsIncident</th>\n      <td>True</td>\n    </tr>\n    <tr>\n      <th>StartTimeUtc</th>\n      <td>2019-02-11 18:10:58</td>\n    </tr>\n    <tr>\n      <th>EndTimeUtc</th>\n      <td>2019-02-11 22:47:54</td>\n    </tr>\n    <tr>\n      <th>ProcessingEndTime</th>\n      <td>2019-02-12 04:59:47</td>\n    </tr>\n    <tr>\n      <th>RemediationSteps</th>\n      <td>[\\r\\n  \"1. Escalate the alert to the information security team.\",\\r\\n  \"2. Review the remediation steps of each one of the alerts\"\\r\\n]</td>\n    </tr>\n    <tr>\n      <th>ExtendedProperties</th>\n      <td>{'isincident': 'true', 'Detected Time (UTC)': '2019-02-12 04:59:47 UTC', 'Incident Stage': 'attacked other resources from', 'Compromised Host': 'MSTICALERTSWIN1', 'Start Time (UTC)': '2019-02-11 18:10:58 UTC', 'crossvm': 'false', 'resourceType': 'Virtual Machine', 'ServiceId': '14fa08c7-c48e-4c18-950c-8148024b4398', 'ReportingSystem': 'Azure', 'OccuringDatacenter': 'eastus'}</td>\n    </tr>\n    <tr>\n      <th>Entities</th>\n      <td>[{'$id': '4', 'DisplayName': 'Potential attempt to bypass AppLocker detected', 'CompromisedEntity': 'MSTICALERTSWIN1', 'Count': 2, 'Severity': 'High', 'SystemAlertIds': ['2518523921419094607_deb18209-676f-46c9-9c91-12ebb60c7b53'], 'AlertType': 'SCUBA_RULE_Applocker_Bypass', 'VendorName': 'Microsoft', 'ProviderName': 'Detection', 'StartTimeUtc': '2019-02-11T18:10:58.0905392Z', 'EndTimeUtc': '2019-02-11T18:10:58.0905392Z', 'Type': 'alerts', 'Location': 'Central US'}, {'$id': '5', 'DisplayName': 'Detected potentially suspicious use of Telegram tool', 'CompromisedEntity': 'MSTICALERTSWIN1', 'Count': 2, 'Severity': 'Medium', 'SystemAlertIds': ['2518523755258914710_6a491a9a-ce5f-451f-a6ef-0fad4ee73f67'], 'AlertType': 'SCUBA_RULE_Telegram_install', 'VendorName': 'Microsoft', 'ProviderName': 'Detection', 'StartTimeUtc': '2019-02-11T22:47:54.1085289Z', 'EndTimeUtc': '2019-02-11T22:47:54.1085289Z', 'Type': 'alerts', 'Location': 'Central US'}, {'$id': '6', 'DisplayName': 'Detected the disabling of critical services', 'CompromisedEntity': 'MSTICALERTSWIN1', 'Count': 2, 'Severity': 'Medium', 'SystemAlertIds': ['2518523755258704446_afc76197-3738-4bcd-8c12-5bbe0d07beb7'], 'AlertType': 'SCUBA_RULE_Lowering_Security_Settings', 'VendorName': 'Microsoft', 'ProviderName': 'Detection', 'StartTimeUtc': '2019-02-11T22:47:54.1295553Z', 'EndTimeUtc': '2019-02-11T22:47:54.1295553Z', 'Type': 'alerts', 'Location': 'Central US'}]</td>\n    </tr>\n    <tr>\n      <th>SourceSystem</th>\n      <td>Detection</td>\n    </tr>\n    <tr>\n      <th>WorkspaceSubscriptionId</th>\n      <td>40dcc8bf-0478-4f3b-b275-ed0a94f2c013</td>\n    </tr>\n    <tr>\n      <th>WorkspaceResourceGroup</th>\n      <td>asihuntomsworkspacerg</td>\n    </tr>\n    <tr>\n      <th>ExtendedLinks</th>\n      <td></td>\n    </tr>\n    <tr>\n      <th>ProductName</th>\n      <td></td>\n    </tr>\n    <tr>\n      <th>ProductComponentName</th>\n      <td></td>\n    </tr>\n    <tr>\n      <th>AlertLink</th>\n      <td></td>\n    </tr>\n    <tr>\n      <th>Type</th>\n      <td>SecurityAlert</td>\n    </tr>\n    <tr>\n      <th>Computer</th>\n      <td>MSTICALERTSWIN1</td>\n    </tr>\n    <tr>\n      <th>src_hostname</th>\n      <td>MSTICALERTSWIN1</td>\n    </tr>\n    <tr>\n      <th>src_accountname</th>\n      <td></td>\n    </tr>\n    <tr>\n      <th>src_procname</th>\n      <td></td>\n    </tr>\n    <tr>\n      <th>host_match</th>\n      <td>True</td>\n    </tr>\n    <tr>\n      <th>acct_match</th>\n      <td>False</td>\n    </tr>\n    <tr>\n      <th>proc_match</th>\n      <td>False</td>\n    </tr>\n    <tr>\n      <th>CompromisedEntity</th>\n      <td>MSTICALERTSWIN1</td>\n    </tr>\n  </tbody>\n</table><br/><h3>ExtendedProperties:</h3><table border=\"1\" class=\"dataframe\">\n  <thead>\n    <tr style=\"text-align: right;\">\n      <th></th>\n      <th>0</th>\n    </tr>\n  </thead>\n  <tbody>\n    <tr>\n      <th>isincident</th>\n      <td>true</td>\n    </tr>\n    <tr>\n      <th>Detected Time (UTC)</th>\n      <td>2019-02-12 04:59:47 UTC</td>\n    </tr>\n    <tr>\n      <th>Incident Stage</th>\n      <td>attacked other resources from</td>\n    </tr>\n    <tr>\n      <th>Compromised Host</th>\n      <td>MSTICALERTSWIN1</td>\n    </tr>\n    <tr>\n      <th>Start Time (UTC)</th>\n      <td>2019-02-11 18:10:58 UTC</td>\n    </tr>\n    <tr>\n      <th>crossvm</th>\n      <td>false</td>\n    </tr>\n    <tr>\n      <th>resourceType</th>\n      <td>Virtual Machine</td>\n    </tr>\n    <tr>\n      <th>ServiceId</th>\n      <td>14fa08c7-c48e-4c18-950c-8148024b4398</td>\n    </tr>\n    <tr>\n      <th>ReportingSystem</th>\n      <td>Azure</td>\n    </tr>\n    <tr>\n      <th>OccuringDatacenter</th>\n      <td>eastus</td>\n    </tr>\n  </tbody>\n</table><h3>Entity counts: </h3>alerts: 3",
          "text/plain": "<IPython.core.display.HTML object>"
         },
         "metadata": {},
         "output_type": "display_data"
        },
        {
         "name": "stdout",
         "output_type": "stream",
         "text": "{ 'AdditionalData': {},\n  'AlertType': 'SCUBA_RULE_Applocker_Bypass',\n  'CompromisedEntity': 'MSTICALERTSWIN1',\n  'Count': 2,\n  'DisplayName': 'Potential attempt to bypass AppLocker detected',\n  'EndTimeUtc': '2019-02-11T18:10:58.0905392Z',\n  'ProviderName': 'Detection',\n  'Severity': 'High',\n  'StartTimeUtc': '2019-02-11T18:10:58.0905392Z',\n  'SystemAlertIds': ['2518523921419094607_deb18209-676f-46c9-9c91-12ebb60c7b53'],\n  'Type': 'alerts',\n  'VendorName': 'Microsoft'}\n{ 'AdditionalData': {},\n  'AlertType': 'SCUBA_RULE_Telegram_install',\n  'CompromisedEntity': 'MSTICALERTSWIN1',\n  'Count': 2,\n  'DisplayName': 'Detected potentially suspicious use of Telegram tool',\n  'EndTimeUtc': '2019-02-11T22:47:54.1085289Z',\n  'ProviderName': 'Detection',\n  'Severity': 'Medium',\n  'StartTimeUtc': '2019-02-11T22:47:54.1085289Z',\n  'SystemAlertIds': ['2518523755258914710_6a491a9a-ce5f-451f-a6ef-0fad4ee73f67'],\n  'Type': 'alerts',\n  'VendorName': 'Microsoft'}\n{ 'AdditionalData': {},\n  'AlertType': 'SCUBA_RULE_Lowering_Security_Settings',\n  'CompromisedEntity': 'MSTICALERTSWIN1',\n  'Count': 2,\n  'DisplayName': 'Detected the disabling of critical services',\n  'EndTimeUtc': '2019-02-11T22:47:54.1295553Z',\n  'ProviderName': 'Detection',\n  'Severity': 'Medium',\n  'StartTimeUtc': '2019-02-11T22:47:54.1295553Z',\n  'SystemAlertIds': ['2518523755258704446_afc76197-3738-4bcd-8c12-5bbe0d07beb7'],\n  'Type': 'alerts',\n  'VendorName': 'Microsoft'}\n"
        }
       ]
      }
     },
     "9ce62a72ee9f439a90cee35aedc66c99": {
      "model_module": "@jupyter-widgets/controls",
      "model_module_version": "1.5.0",
      "model_name": "TextModel",
      "state": {
       "description": "Query end time (UTC) :  ",
       "layout": "IPY_MODEL_03b5e68618284957a9654582c6b73b41",
       "style": "IPY_MODEL_9f0773b5ea154233ba144483570b2bc3",
       "value": "2019-02-14 22:04:15"
      }
     },
     "9d2f06d21e2b4476b039463f482e743c": {
      "model_module": "@jupyter-widgets/controls",
      "model_module_version": "1.5.0",
      "model_name": "DescriptionStyleModel",
      "state": {
       "description_width": ""
      }
     },
     "9d97accf157247dda57e06ab2cc9d572": {
      "model_module": "@jupyter-widgets/base",
      "model_module_version": "1.2.0",
      "model_name": "LayoutModel",
      "state": {
       "width": "50%"
      }
     },
     "9de2ce2ecb224ae1bb0fdb2a6662d22b": {
      "model_module": "@jupyter-widgets/base",
      "model_module_version": "1.2.0",
      "model_name": "LayoutModel",
      "state": {}
     },
     "9dfa250c238f4e0dae86cb4df42d4498": {
      "model_module": "@jupyter-widgets/controls",
      "model_module_version": "1.5.0",
      "model_name": "DescriptionStyleModel",
      "state": {
       "description_width": ""
      }
     },
     "9f0773b5ea154233ba144483570b2bc3": {
      "model_module": "@jupyter-widgets/controls",
      "model_module_version": "1.5.0",
      "model_name": "DescriptionStyleModel",
      "state": {
       "description_width": "initial"
      }
     },
     "a00a59e3330f42c18c8cfcf33253b33e": {
      "model_module": "@jupyter-widgets/base",
      "model_module_version": "1.2.0",
      "model_name": "LayoutModel",
      "state": {
       "width": "50%"
      }
     },
     "a1163b5a54b84391b3dc44b5874f8d8d": {
      "model_module": "@jupyter-widgets/base",
      "model_module_version": "1.2.0",
      "model_name": "LayoutModel",
      "state": {
       "border": "1px solid black"
      }
     },
     "a154a071f354486a8dfb2dd770b7e048": {
      "model_module": "@jupyter-widgets/base",
      "model_module_version": "1.2.0",
      "model_name": "LayoutModel",
      "state": {}
     },
     "a2cc31e46a194e389930be81ccc603e3": {
      "model_module": "@jupyter-widgets/base",
      "model_module_version": "1.2.0",
      "model_name": "LayoutModel",
      "state": {}
     },
     "a36f0eb9dac74980925a8717c063f62d": {
      "model_module": "@jupyter-widgets/base",
      "model_module_version": "1.2.0",
      "model_name": "LayoutModel",
      "state": {
       "width": "80%"
      }
     },
     "a5a9b015958d4a9d83206c4f9ffa2baf": {
      "model_module": "@jupyter-widgets/base",
      "model_module_version": "1.2.0",
      "model_name": "LayoutModel",
      "state": {
       "width": "80%"
      }
     },
     "a726c923d18f4143a6a05b552278ed37": {
      "model_module": "@jupyter-widgets/base",
      "model_module_version": "1.2.0",
      "model_name": "LayoutModel",
      "state": {
       "width": "50%"
      }
     },
     "a7c5ac1a5c4541ffb11ab3bbeb1bc2b3": {
      "model_module": "@jupyter-widgets/controls",
      "model_module_version": "1.5.0",
      "model_name": "DescriptionStyleModel",
      "state": {
       "description_width": "initial"
      }
     },
     "a975f8c91dd54c129d25ab896ba6383f": {
      "model_module": "@jupyter-widgets/controls",
      "model_module_version": "1.5.0",
      "model_name": "DescriptionStyleModel",
      "state": {
       "description_width": ""
      }
     },
     "ab491fc977a1412299c0f08faa7e4b14": {
      "model_module": "@jupyter-widgets/controls",
      "model_module_version": "1.5.0",
      "model_name": "TextModel",
      "state": {
       "description": "Time (24hr)",
       "layout": "IPY_MODEL_bae654e1c8f84177ad9cdb5b384f94ad",
       "style": "IPY_MODEL_5e7133b8c9e44fd484709bd7cbb09113",
       "value": "02:59:15"
      }
     },
     "abcd8fbbdb8d423abfbad459a7caa0ee": {
      "model_module": "@jupyter-widgets/controls",
      "model_module_version": "1.5.0",
      "model_name": "DescriptionStyleModel",
      "state": {
       "description_width": "initial"
      }
     },
     "ad5e0bcf3d5f4f569465b6636feb013a": {
      "model_module": "@jupyter-widgets/base",
      "model_module_version": "1.2.0",
      "model_name": "LayoutModel",
      "state": {
       "border": "1px solid black"
      }
     },
     "ae36e81b70e040549c983441fe8244d4": {
      "model_module": "@jupyter-widgets/controls",
      "model_module_version": "1.5.0",
      "model_name": "SliderStyleModel",
      "state": {
       "description_width": "initial"
      }
     },
     "af5a1f5d9a9b427a98098533d5236af7": {
      "model_module": "@jupyter-widgets/base",
      "model_module_version": "1.2.0",
      "model_name": "LayoutModel",
      "state": {
       "width": "50%"
      }
     },
     "b004f90398fc4f82889fa09e2fcf5463": {
      "model_module": "@jupyter-widgets/controls",
      "model_module_version": "1.5.0",
      "model_name": "DescriptionStyleModel",
      "state": {
       "description_width": "initial"
      }
     },
     "b01875703cc047f29c56c42a86073c76": {
      "model_module": "@jupyter-widgets/base",
      "model_module_version": "1.2.0",
      "model_name": "LayoutModel",
      "state": {}
     },
     "b0deb6f8c9a944fcbb47b095ca16786d": {
      "model_module": "@jupyter-widgets/controls",
      "model_module_version": "1.5.0",
      "model_name": "DescriptionStyleModel",
      "state": {
       "description_width": ""
      }
     },
     "b20ba46a952d44c28975eb0679911233": {
      "model_module": "@jupyter-widgets/output",
      "model_module_version": "1.0.0",
      "model_name": "OutputModel",
      "state": {
       "layout": "IPY_MODEL_2164af534c2045cea14822b1cbe0673d",
       "outputs": [
        {
         "data": {
          "text/html": "\n            <h3>Alert: 'Screenshot taken on host'</h3><br>time=<b>2019-02-08 12:15:10</b>,\n            entity=<b>MSTICALERTSLXVM2</b>, id=<b>2518526726897469999_f36bbd27-5f06-4c47-8089-b3cfbf33a935</b>\n            <br/>\n            <table border=\"1\" class=\"dataframe\">\n  <thead>\n    <tr style=\"text-align: right;\">\n      <th></th>\n      <th>0</th>\n    </tr>\n  </thead>\n  <tbody>\n    <tr>\n      <th>TenantId</th>\n      <td>52b1ab41-869e-4138-9e40-2a4457f09bf0</td>\n    </tr>\n    <tr>\n      <th>TimeGenerated</th>\n      <td>2019-02-08 12:15:25</td>\n    </tr>\n    <tr>\n      <th>AlertDisplayName</th>\n      <td>Screenshot taken on host</td>\n    </tr>\n    <tr>\n      <th>AlertName</th>\n      <td>Screenshot taken on host</td>\n    </tr>\n    <tr>\n      <th>Severity</th>\n      <td>Low</td>\n    </tr>\n    <tr>\n      <th>Description</th>\n      <td>Analysis of host data on MSTICALERTSLXVM2 detected the user of a screen capture tool. Attackers may use these tools to access private data.</td>\n    </tr>\n    <tr>\n      <th>ProviderName</th>\n      <td>Detection</td>\n    </tr>\n    <tr>\n      <th>VendorName</th>\n      <td>Microsoft</td>\n    </tr>\n    <tr>\n      <th>VendorOriginalId</th>\n      <td>f36bbd27-5f06-4c47-8089-b3cfbf33a935</td>\n    </tr>\n    <tr>\n      <th>SystemAlertId</th>\n      <td>2518526726897469999_f36bbd27-5f06-4c47-8089-b3cfbf33a935</td>\n    </tr>\n    <tr>\n      <th>ResourceId</th>\n      <td>/subscriptions/40dcc8bf-0478-4f3b-b275-ed0a94f2c013/resourceGroups/ASIHuntOMSWorkspaceRG/providers/Microsoft.Compute/virtualMachines/MSTICAlertsLxVM2</td>\n    </tr>\n    <tr>\n      <th>SourceComputerId</th>\n      <td>44623fb0-bd5f-49ea-84d1-56aa11ab8a25</td>\n    </tr>\n    <tr>\n      <th>AlertType</th>\n      <td>SCUBA_RULE_Screenshot_tools</td>\n    </tr>\n    <tr>\n      <th>ConfidenceLevel</th>\n      <td>Unknown</td>\n    </tr>\n    <tr>\n      <th>ConfidenceScore</th>\n      <td>NaN</td>\n    </tr>\n    <tr>\n      <th>IsIncident</th>\n      <td>False</td>\n    </tr>\n    <tr>\n      <th>StartTimeUtc</th>\n      <td>2019-02-08 12:15:10</td>\n    </tr>\n    <tr>\n      <th>EndTimeUtc</th>\n      <td>2019-02-08 12:15:10</td>\n    </tr>\n    <tr>\n      <th>ProcessingEndTime</th>\n      <td>2019-02-08 12:15:25</td>\n    </tr>\n    <tr>\n      <th>RemediationSteps</th>\n      <td>[\\r\\n  \"Review with root to confirm that this was legitimate activity that you expect to see on MSTICALERTSLXVM2. If not, escalate the alert to the information security team.\"\\r\\n]</td>\n    </tr>\n    <tr>\n      <th>ExtendedProperties</th>\n      <td>{'Compromised Host': 'MSTICALERTSLXVM2', 'User Name': 'root', 'Account Session Id': '0x2a2c4', 'Suspicious Process': '/bin/scrot', 'Suspicious Command Line': 'scrot', 'Suspicious Process Id': '0x2d99', 'resourceType': 'Virtual Machine', 'ServiceId': '14fa08c7-c48e-4c18-950c-8148024b4398', 'ReportingSystem': 'Azure', 'OccuringDatacenter': 'eastus'}</td>\n    </tr>\n    <tr>\n      <th>Entities</th>\n      <td>[{'$id': '4', 'DnsDomain': '', 'NTDomain': '', 'HostName': 'MSTICALERTSLXVM2', 'NetBiosName': 'MSTICALERTSLXVM2', 'OSFamily': 'Linux', 'OSVersion': 'Linux', 'Type': 'host'}, {'$id': '5', 'ProcessId': '0x2d96', 'CommandLine': '', 'Host': {'$ref': '4'}, 'Type': 'process'}, {'$id': '6', 'Name': 'root', 'Host': {'$ref': '4'}, 'Sid': '0:0', 'Type': 'account', 'LogonId': '0x2a2c4'}, {'$id': '7', 'Directory': '/bin', 'Name': 'scrot', 'Type': 'file'}, {'$id': '8', 'ProcessId': '0x2d99', 'CommandLine': 'scrot', 'CreationTimeUtc': '2019-02-08T12:15:10.253Z', 'ImageFile': {'$ref': '7'}, 'Account': {'$ref': '6'}, 'ParentProcess': {'$ref': '5'}, 'Host': {'$ref': '4'}, 'Type': 'process'}, {'$id': '9', 'SessionId': '0x2a2c4', 'StartTimeUtc': '2019-02-08T12:15:10.253Z', 'EndTimeUtc': '2019-02-08T12:15:10.253Z', 'Type': 'host-logon-session', 'Host': {'$ref': '4'}, 'Account': {'$ref': '6'}}]</td>\n    </tr>\n    <tr>\n      <th>SourceSystem</th>\n      <td>Detection</td>\n    </tr>\n    <tr>\n      <th>WorkspaceSubscriptionId</th>\n      <td>40dcc8bf-0478-4f3b-b275-ed0a94f2c013</td>\n    </tr>\n    <tr>\n      <th>WorkspaceResourceGroup</th>\n      <td>asihuntomsworkspacerg</td>\n    </tr>\n    <tr>\n      <th>ExtendedLinks</th>\n      <td></td>\n    </tr>\n    <tr>\n      <th>ProductName</th>\n      <td></td>\n    </tr>\n    <tr>\n      <th>ProductComponentName</th>\n      <td></td>\n    </tr>\n    <tr>\n      <th>AlertLink</th>\n      <td></td>\n    </tr>\n    <tr>\n      <th>Type</th>\n      <td>SecurityAlert</td>\n    </tr>\n    <tr>\n      <th>Computer</th>\n      <td>MSTICALERTSLXVM2</td>\n    </tr>\n    <tr>\n      <th>src_hostname</th>\n      <td>MSTICALERTSLXVM2</td>\n    </tr>\n    <tr>\n      <th>src_accountname</th>\n      <td></td>\n    </tr>\n    <tr>\n      <th>src_procname</th>\n      <td></td>\n    </tr>\n    <tr>\n      <th>host_match</th>\n      <td>True</td>\n    </tr>\n    <tr>\n      <th>acct_match</th>\n      <td>False</td>\n    </tr>\n    <tr>\n      <th>proc_match</th>\n      <td>False</td>\n    </tr>\n    <tr>\n      <th>CompromisedEntity</th>\n      <td>MSTICALERTSLXVM2</td>\n    </tr>\n  </tbody>\n</table><br/><h3>ExtendedProperties:</h3><table border=\"1\" class=\"dataframe\">\n  <thead>\n    <tr style=\"text-align: right;\">\n      <th></th>\n      <th>0</th>\n    </tr>\n  </thead>\n  <tbody>\n    <tr>\n      <th>Compromised Host</th>\n      <td>MSTICALERTSLXVM2</td>\n    </tr>\n    <tr>\n      <th>User Name</th>\n      <td>root</td>\n    </tr>\n    <tr>\n      <th>Account Session Id</th>\n      <td>0x2a2c4</td>\n    </tr>\n    <tr>\n      <th>Suspicious Process</th>\n      <td>/bin/scrot</td>\n    </tr>\n    <tr>\n      <th>Suspicious Command Line</th>\n      <td>scrot</td>\n    </tr>\n    <tr>\n      <th>Suspicious Process Id</th>\n      <td>0x2d99</td>\n    </tr>\n    <tr>\n      <th>resourceType</th>\n      <td>Virtual Machine</td>\n    </tr>\n    <tr>\n      <th>ServiceId</th>\n      <td>14fa08c7-c48e-4c18-950c-8148024b4398</td>\n    </tr>\n    <tr>\n      <th>ReportingSystem</th>\n      <td>Azure</td>\n    </tr>\n    <tr>\n      <th>OccuringDatacenter</th>\n      <td>eastus</td>\n    </tr>\n  </tbody>\n</table><h3>Entity counts: </h3>host: 1, process: 2, account: 1, file: 1, host-logon-session: 1",
          "text/plain": "<IPython.core.display.HTML object>"
         },
         "metadata": {},
         "output_type": "display_data"
        },
        {
         "name": "stdout",
         "output_type": "stream",
         "text": "{ 'AdditionalData': {},\n  'DnsDomain': '',\n  'HostName': 'MSTICALERTSLXVM2',\n  'NTDomain': '',\n  'NetBiosName': 'MSTICALERTSLXVM2',\n  'OSFamily': 'Linux',\n  'Type': 'host'}\n{ 'AdditionalData': {},\n  'CommandLine': '',\n  'Host': { 'AdditionalData': {},\n            'DnsDomain': '',\n            'HostName': 'MSTICALERTSLXVM2',\n            'NTDomain': '',\n            'NetBiosName': 'MSTICALERTSLXVM2',\n            'OSFamily': 'Linux',\n            'Type': 'host'},\n  'ProcessId': '0x2d96',\n  'Type': 'process'}\n{ 'AdditionalData': {},\n  'Host': { 'AdditionalData': {},\n            'DnsDomain': '',\n            'HostName': 'MSTICALERTSLXVM2',\n            'NTDomain': '',\n            'NetBiosName': 'MSTICALERTSLXVM2',\n            'OSFamily': 'Linux',\n            'Type': 'host'},\n  'LogonId': '0x2a2c4',\n  'Name': 'root',\n  'Sid': '0:0',\n  'Type': 'account'}\n{ 'AdditionalData': {},\n  'Directory': '/bin',\n  'FullPath': '/bin/scrot',\n  'Name': 'scrot',\n  'Type': 'file'}\n{ 'Account': { 'AdditionalData': {},\n               'Host': { 'AdditionalData': {},\n                         'DnsDomain': '',\n                         'HostName': 'MSTICALERTSLXVM2',\n                         'NTDomain': '',\n                         'NetBiosName': 'MSTICALERTSLXVM2',\n                         'OSFamily': 'Linux',\n                         'Type': 'host'},\n               'LogonId': '0x2a2c4',\n               'Name': 'root',\n               'Sid': '0:0',\n               'Type': 'account'},\n  'AdditionalData': {},\n  'CommandLine': 'scrot',\n  'CreationTimeUtc': '2019-02-08T12:15:10.253Z',\n  'Host': { 'AdditionalData': {},\n            'DnsDomain': '',\n            'HostName': 'MSTICALERTSLXVM2',\n            'NTDomain': '',\n            'NetBiosName': 'MSTICALERTSLXVM2',\n            'OSFamily': 'Linux',\n            'Type': 'host'},\n  'ImageFile': { 'AdditionalData': {},\n                 'Directory': '/bin',\n                 'FullPath': '/bin/scrot',\n                 'Name': 'scrot',\n                 'Type': 'file'},\n  'ParentProcess': { 'AdditionalData': {},\n                     'CommandLine': '',\n                     'Host': { 'AdditionalData': {},\n                               'DnsDomain': '',\n                               'HostName': 'MSTICALERTSLXVM2',\n                               'NTDomain': '',\n                               'NetBiosName': 'MSTICALERTSLXVM2',\n                               'OSFamily': 'Linux',\n                               'Type': 'host'},\n                     'ProcessId': '0x2d96',\n                     'Type': 'process'},\n  'ProcessId': '0x2d99',\n  'Type': 'process'}\n{ 'Account': { 'AdditionalData': {},\n               'Host': { 'AdditionalData': {},\n                         'DnsDomain': '',\n                         'HostName': 'MSTICALERTSLXVM2',\n                         'NTDomain': '',\n                         'NetBiosName': 'MSTICALERTSLXVM2',\n                         'OSFamily': 'Linux',\n                         'Type': 'host'},\n               'LogonId': '0x2a2c4',\n               'Name': 'root',\n               'Sid': '0:0',\n               'Type': 'account'},\n  'AdditionalData': {},\n  'EndTimeUtc': '2019-02-08T12:15:10.253Z',\n  'Host': { 'AdditionalData': {},\n            'DnsDomain': '',\n            'HostName': 'MSTICALERTSLXVM2',\n            'NTDomain': '',\n            'NetBiosName': 'MSTICALERTSLXVM2',\n            'OSFamily': 'Linux',\n            'Type': 'host'},\n  'SessionId': '0x2a2c4',\n  'StartTimeUtc': '2019-02-08T12:15:10.253Z',\n  'Type': 'host-logon-session'}\n"
        }
       ]
      }
     },
     "b6c90b2402d3465abb586399f85888a0": {
      "model_module": "@jupyter-widgets/controls",
      "model_module_version": "1.5.0",
      "model_name": "DatePickerModel",
      "state": {
       "description": "Origin Date",
       "disabled": false,
       "layout": "IPY_MODEL_98b3c86313e4437b985175d41e61cff4",
       "style": "IPY_MODEL_ce13a9303d804e8baa69d4ed18f419e7",
       "value": {
        "date": 13,
        "month": 1,
        "year": 2019
       }
      }
     },
     "b724ed4d38cc4e258b7b7ecdb153bd23": {
      "model_module": "@jupyter-widgets/controls",
      "model_module_version": "1.5.0",
      "model_name": "VBoxModel",
      "state": {
       "children": [
        "IPY_MODEL_d831539fc94447a990a6c1e0dc944e9d",
        "IPY_MODEL_edf100c3a5d04f9c885666cff6158b2c",
        "IPY_MODEL_c76e024d3aa54c31b5482ef39171a39a"
       ],
       "layout": "IPY_MODEL_36f0ce44615a4c92ac723c2ec26ad909"
      }
     },
     "b74c7313464340bb94c6c693ec694ee6": {
      "model_module": "@jupyter-widgets/base",
      "model_module_version": "1.2.0",
      "model_name": "LayoutModel",
      "state": {
       "border": "1px solid black"
      }
     },
     "b93dfd3eac804ef8816f6baec49520a1": {
      "model_module": "@jupyter-widgets/controls",
      "model_module_version": "1.5.0",
      "model_name": "HTMLModel",
      "state": {
       "layout": "IPY_MODEL_e7a284066d2741da9e92a7acdcceb97f",
       "style": "IPY_MODEL_9d2f06d21e2b4476b039463f482e743c",
       "value": "<h4>Set query time boundaries</h4>"
      }
     },
     "baba3174a60e4fe6827c14920f95c3a6": {
      "model_module": "@jupyter-widgets/base",
      "model_module_version": "1.2.0",
      "model_name": "LayoutModel",
      "state": {}
     },
     "bae654e1c8f84177ad9cdb5b384f94ad": {
      "model_module": "@jupyter-widgets/base",
      "model_module_version": "1.2.0",
      "model_name": "LayoutModel",
      "state": {}
     },
     "c22a2e0cebe748dc8334c61652720447": {
      "model_module": "@jupyter-widgets/controls",
      "model_module_version": "1.5.0",
      "model_name": "DescriptionStyleModel",
      "state": {
       "description_width": "initial"
      }
     },
     "c6a421fd4b344faaaa1ead96410d8510": {
      "model_module": "@jupyter-widgets/base",
      "model_module_version": "1.2.0",
      "model_name": "LayoutModel",
      "state": {
       "width": "50%"
      }
     },
     "c76e024d3aa54c31b5482ef39171a39a": {
      "model_module": "@jupyter-widgets/controls",
      "model_module_version": "1.5.0",
      "model_name": "TextModel",
      "state": {
       "description": "Query end time (UTC) :  ",
       "layout": "IPY_MODEL_0cc0bbba30e4450bafd759b29d56415f",
       "style": "IPY_MODEL_1dea953c617246fc95a66eb7f795d829",
       "value": "2019-02-14 02:59:15"
      }
     },
     "ca8d2ad04c32465089b15127ae46d9da": {
      "model_module": "@jupyter-widgets/controls",
      "model_module_version": "1.5.0",
      "model_name": "VBoxModel",
      "state": {
       "children": [
        "IPY_MODEL_d89cba12dbdf40398d1db40f8b29aa2c",
        "IPY_MODEL_84bc3ac679d74ebb84fb679f60a00f53",
        "IPY_MODEL_318623b92fd443b9b31d8276657ff2c3"
       ],
       "layout": "IPY_MODEL_98469e7189e849dfa28dce0e8f2bfb48"
      }
     },
     "cc33dfab71844c0eb88c97da222ebcf5": {
      "model_module": "@jupyter-widgets/base",
      "model_module_version": "1.2.0",
      "model_name": "LayoutModel",
      "state": {
       "width": "80%"
      }
     },
     "ccee15173e4c4fe88e0cdedddc8c97b9": {
      "model_module": "@jupyter-widgets/controls",
      "model_module_version": "1.5.0",
      "model_name": "IntRangeSliderModel",
      "state": {
       "_model_name": "IntRangeSliderModel",
       "_view_name": "IntRangeSliderView",
       "description": "Time Range (min):",
       "layout": "IPY_MODEL_a36f0eb9dac74980925a8717c063f62d",
       "min": -600,
       "style": "IPY_MODEL_84be202a4cde471599442184393121b8",
       "value": [
        -60,
        10
       ]
      }
     },
     "ce13a9303d804e8baa69d4ed18f419e7": {
      "model_module": "@jupyter-widgets/controls",
      "model_module_version": "1.5.0",
      "model_name": "DescriptionStyleModel",
      "state": {
       "description_width": ""
      }
     },
     "ce6ca8b1c2a44276a2a1e9d9e42691a7": {
      "model_module": "@jupyter-widgets/base",
      "model_module_version": "1.2.0",
      "model_name": "LayoutModel",
      "state": {}
     },
     "d19dba521e984509b0211b0cc2f3e889": {
      "model_module": "@jupyter-widgets/base",
      "model_module_version": "1.2.0",
      "model_name": "LayoutModel",
      "state": {}
     },
     "d21de287c43b420b8772766ea659b5e4": {
      "model_module": "@jupyter-widgets/base",
      "model_module_version": "1.2.0",
      "model_name": "LayoutModel",
      "state": {}
     },
     "d2b6601be9f9466e99423a6f11602ee5": {
      "model_module": "@jupyter-widgets/output",
      "model_module_version": "1.0.0",
      "model_name": "OutputModel",
      "state": {
       "layout": "IPY_MODEL_ad5e0bcf3d5f4f569465b6636feb013a",
       "outputs": [
        {
         "data": {
          "text/html": "\n            <h3>Alert: 'Digital currency mining related behavior detected'</h3><br>time=<b>2019-02-13 22:03:42</b>,\n            entity=<b>MSTICALERTSWIN1</b>, id=<b>2518522053771835343_cf383339-b4ff-4996-9d4e-83a4ece6688f</b>\n            ",
          "text/plain": "<IPython.core.display.HTML object>"
         },
         "metadata": {},
         "output_type": "display_data"
        },
        {
         "data": {
          "text/html": "<div>\n<style scoped>\n    .dataframe tbody tr th:only-of-type {\n        vertical-align: middle;\n    }\n\n    .dataframe tbody tr th {\n        vertical-align: top;\n    }\n\n    .dataframe thead th {\n        text-align: right;\n    }\n</style>\n<table border=\"1\" class=\"dataframe\">\n  <thead>\n    <tr style=\"text-align: right;\">\n      <th></th>\n      <th>6</th>\n    </tr>\n  </thead>\n  <tbody>\n    <tr>\n      <th>TenantId</th>\n      <td>52b1ab41-869e-4138-9e40-2a4457f09bf0</td>\n    </tr>\n    <tr>\n      <th>TimeGenerated</th>\n      <td>2019-02-13 22:04:15</td>\n    </tr>\n    <tr>\n      <th>AlertDisplayName</th>\n      <td>Digital currency mining related behavior detected</td>\n    </tr>\n    <tr>\n      <th>AlertName</th>\n      <td>Digital currency mining related behavior detected</td>\n    </tr>\n    <tr>\n      <th>Severity</th>\n      <td>High</td>\n    </tr>\n    <tr>\n      <th>Description</th>\n      <td>Analysis of host data on MSTICALERTSWIN1 detected the execution of a process or command normally...</td>\n    </tr>\n    <tr>\n      <th>ProviderName</th>\n      <td>Detection</td>\n    </tr>\n    <tr>\n      <th>VendorName</th>\n      <td>Microsoft</td>\n    </tr>\n    <tr>\n      <th>VendorOriginalId</th>\n      <td>cf383339-b4ff-4996-9d4e-83a4ece6688f</td>\n    </tr>\n    <tr>\n      <th>SystemAlertId</th>\n      <td>2518522053771835343_cf383339-b4ff-4996-9d4e-83a4ece6688f</td>\n    </tr>\n    <tr>\n      <th>ResourceId</th>\n      <td>/subscriptions/40dcc8bf-0478-4f3b-b275-ed0a94f2c013/resourceGroups/ASIHuntOMSWorkspaceRG/provide...</td>\n    </tr>\n    <tr>\n      <th>SourceComputerId</th>\n      <td>263a788b-6526-4cdc-8ed9-d79402fe4aa0</td>\n    </tr>\n    <tr>\n      <th>AlertType</th>\n      <td>SCUBA_RULE_DigitalCurrencyMiningTool</td>\n    </tr>\n    <tr>\n      <th>ConfidenceLevel</th>\n      <td>Unknown</td>\n    </tr>\n    <tr>\n      <th>ConfidenceScore</th>\n      <td>NaN</td>\n    </tr>\n    <tr>\n      <th>IsIncident</th>\n      <td>False</td>\n    </tr>\n    <tr>\n      <th>StartTimeUtc</th>\n      <td>2019-02-13 22:03:42</td>\n    </tr>\n    <tr>\n      <th>EndTimeUtc</th>\n      <td>2019-02-13 22:03:42</td>\n    </tr>\n    <tr>\n      <th>ProcessingEndTime</th>\n      <td>2019-02-13 22:04:16</td>\n    </tr>\n    <tr>\n      <th>RemediationSteps</th>\n      <td>[\\r\\n  \"1. Run Process Explorer and try to identify unknown running processes (see https://techn...</td>\n    </tr>\n    <tr>\n      <th>ExtendedProperties</th>\n      <td>{'Compromised Host': 'MSTICALERTSWIN1', 'User Name': 'MSTICALERTSWIN1\\MSTICAdmin', 'Account Sess...</td>\n    </tr>\n    <tr>\n      <th>Entities</th>\n      <td>[{'$id': '4', 'DnsDomain': '', 'NTDomain': '', 'HostName': 'MSTICALERTSWIN1', 'NetBiosName': 'MS...</td>\n    </tr>\n    <tr>\n      <th>SourceSystem</th>\n      <td>Detection</td>\n    </tr>\n    <tr>\n      <th>WorkspaceSubscriptionId</th>\n      <td>40dcc8bf-0478-4f3b-b275-ed0a94f2c013</td>\n    </tr>\n    <tr>\n      <th>WorkspaceResourceGroup</th>\n      <td>asihuntomsworkspacerg</td>\n    </tr>\n    <tr>\n      <th>ExtendedLinks</th>\n      <td></td>\n    </tr>\n    <tr>\n      <th>ProductName</th>\n      <td></td>\n    </tr>\n    <tr>\n      <th>ProductComponentName</th>\n      <td></td>\n    </tr>\n    <tr>\n      <th>AlertLink</th>\n      <td></td>\n    </tr>\n    <tr>\n      <th>Type</th>\n      <td>SecurityAlert</td>\n    </tr>\n    <tr>\n      <th>CompromisedEntity</th>\n      <td>MSTICALERTSWIN1</td>\n    </tr>\n  </tbody>\n</table>\n</div>",
          "text/plain": "                                                                                                                           6\nTenantId                                                                                52b1ab41-869e-4138-9e40-2a4457f09bf0\nTimeGenerated                                                                                            2019-02-13 22:04:15\nAlertDisplayName                                                           Digital currency mining related behavior detected\nAlertName                                                                  Digital currency mining related behavior detected\nSeverity                                                                                                                High\nDescription              Analysis of host data on MSTICALERTSWIN1 detected the execution of a process or command normally...\nProviderName                                                                                                       Detection\nVendorName                                                                                                         Microsoft\nVendorOriginalId                                                                        cf383339-b4ff-4996-9d4e-83a4ece6688f\nSystemAlertId                                                       2518522053771835343_cf383339-b4ff-4996-9d4e-83a4ece6688f\nResourceId               /subscriptions/40dcc8bf-0478-4f3b-b275-ed0a94f2c013/resourceGroups/ASIHuntOMSWorkspaceRG/provide...\nSourceComputerId                                                                        263a788b-6526-4cdc-8ed9-d79402fe4aa0\nAlertType                                                                               SCUBA_RULE_DigitalCurrencyMiningTool\nConfidenceLevel                                                                                                      Unknown\nConfidenceScore                                                                                                          NaN\nIsIncident                                                                                                             False\nStartTimeUtc                                                                                             2019-02-13 22:03:42\nEndTimeUtc                                                                                               2019-02-13 22:03:42\nProcessingEndTime                                                                                        2019-02-13 22:04:16\nRemediationSteps         [\\r\\n  \"1. Run Process Explorer and try to identify unknown running processes (see https://techn...\nExtendedProperties       {'Compromised Host': 'MSTICALERTSWIN1', 'User Name': 'MSTICALERTSWIN1\\MSTICAdmin', 'Account Sess...\nEntities                 [{'$id': '4', 'DnsDomain': '', 'NTDomain': '', 'HostName': 'MSTICALERTSWIN1', 'NetBiosName': 'MS...\nSourceSystem                                                                                                       Detection\nWorkspaceSubscriptionId                                                                 40dcc8bf-0478-4f3b-b275-ed0a94f2c013\nWorkspaceResourceGroup                                                                                 asihuntomsworkspacerg\nExtendedLinks                                                                                                               \nProductName                                                                                                                 \nProductComponentName                                                                                                        \nAlertLink                                                                                                                   \nType                                                                                                           SecurityAlert\nCompromisedEntity                                                                                            MSTICALERTSWIN1"
         },
         "metadata": {},
         "output_type": "display_data"
        }
       ]
      }
     },
     "d480cd40001440159247bad077964113": {
      "model_module": "@jupyter-widgets/controls",
      "model_module_version": "1.5.0",
      "model_name": "HBoxModel",
      "state": {
       "children": [
        "IPY_MODEL_b6c90b2402d3465abb586399f85888a0",
        "IPY_MODEL_171142c390d8427895850374c8f4570b"
       ],
       "layout": "IPY_MODEL_a154a071f354486a8dfb2dd770b7e048"
      }
     },
     "d6057710bb7b486bb1f57acb4c5aaf7b": {
      "model_module": "@jupyter-widgets/controls",
      "model_module_version": "1.5.0",
      "model_name": "IntRangeSliderModel",
      "state": {
       "_model_name": "IntRangeSliderModel",
       "_view_name": "IntRangeSliderView",
       "description": "Time Range (hour):",
       "layout": "IPY_MODEL_cc33dfab71844c0eb88c97da222ebcf5",
       "max": 1,
       "min": -72,
       "style": "IPY_MODEL_40c27454d97440459903b9299eeede6b",
       "value": [
        -56,
        1
       ]
      }
     },
     "d797cc0cad244cb7afd7349cc56dfaff": {
      "model_module": "@jupyter-widgets/base",
      "model_module_version": "1.2.0",
      "model_name": "LayoutModel",
      "state": {}
     },
     "d831539fc94447a990a6c1e0dc944e9d": {
      "model_module": "@jupyter-widgets/controls",
      "model_module_version": "1.5.0",
      "model_name": "IntRangeSliderModel",
      "state": {
       "_model_name": "IntRangeSliderModel",
       "_view_name": "IntRangeSliderView",
       "description": "Time Range (day):",
       "layout": "IPY_MODEL_64a4ebfa483a405e9cf24295a83f3810",
       "max": 1,
       "min": -28,
       "style": "IPY_MODEL_68d22590a5e443f8b64ba00846dd71ff",
       "value": [
        -5,
        1
       ]
      }
     },
     "d89cba12dbdf40398d1db40f8b29aa2c": {
      "model_module": "@jupyter-widgets/controls",
      "model_module_version": "1.5.0",
      "model_name": "IntRangeSliderModel",
      "state": {
       "_model_name": "IntRangeSliderModel",
       "_view_name": "IntRangeSliderView",
       "description": "Time Range (min):",
       "layout": "IPY_MODEL_155adb75de13486baeb034f7beefb4b2",
       "min": -600,
       "style": "IPY_MODEL_e897404202024c588ba7c833f4ed2b3a",
       "value": [
        -60,
        10
       ]
      }
     },
     "da0cbb3a37d94f0cb892c0d4240f8957": {
      "model_module": "@jupyter-widgets/base",
      "model_module_version": "1.2.0",
      "model_name": "LayoutModel",
      "state": {}
     },
     "db8fbcfa53e54c698a0f44035ee46fc6": {
      "model_module": "@jupyter-widgets/controls",
      "model_module_version": "1.5.0",
      "model_name": "HBoxModel",
      "state": {
       "children": [
        "IPY_MODEL_7e921ee7320b48bb8692c8acc8f6fbfb",
        "IPY_MODEL_0e94d8d81a8441a691d05170558fc91f"
       ],
       "layout": "IPY_MODEL_9de2ce2ecb224ae1bb0fdb2a6662d22b"
      }
     },
     "dcbe0a18689d4f7abf59238d61af9098": {
      "model_module": "@jupyter-widgets/controls",
      "model_module_version": "1.5.0",
      "model_name": "SelectModel",
      "state": {
       "_options_labels": [
        "2019-02-08 00:15:03 - Security incident with shared process detected - (MSTICALERTSLXVM2)  - [id:2518527158967169999_531bf46c-9a76-495d-91ee-eb0b89d8626b]",
        "2019-02-08 06:15:03 - Detected Persistence Attempt - (MSTICALERTSLXVM2)  - [id:2518526942969299999_e2940643-61fa-4631-887e-b43cbffa82ab]",
        "2019-02-08 06:15:03 - New SSH key added - (MSTICALERTSLXVM2)  - [id:2518526942969129999_5f855340-ad46-47f3-9766-d09962543c5d]",
        "2019-02-08 06:15:05 - An history file has been cleared - (MSTICALERTSLXVM2)  - [id:2518526942946299999_044ba160-2cce-4467-a8a7-b22ff58b4961]",
        "2019-02-08 06:15:05 - Suspicious binary detected - (MSTICALERTSLXVM2)  - [id:2518526942948429999_e00ff860-35ff-4f35-a7fe-1b69364d0da8]",
        "2019-02-08 06:15:06 - Behavior similar to common Linux bots detected - (MSTICALERTSLXVM2)  - [id:2518526942938299999_33996182-325c-4236-a0c1-4c89156d7412]",
        "2019-02-08 06:15:07 - Possible credential access tool detected - (MSTICALERTSLXVM2)  - [id:2518526942921429999_1aae1110-0ce2-4492-a900-cf466882c996]",
        "2019-02-08 06:15:07 - Hidden file execution detected - (MSTICALERTSLXVM2)  - [id:2518526942925369999_5fb42e84-981e-44e8-93f1-ced36d4c4518]",
        "2019-02-08 06:15:07 - Suspicious Download Then Run Activity - (MSTICALERTSLXVM2)  - [id:2518526942927129999_d02cb59b-2406-4225-973e-9ffeb740b27f]",
        "2019-02-08 06:15:07 - Behavior similar to Fairware ransomware detected - (MSTICALERTSLXVM2)  - [id:2518526942924799999_69602c8a-8b9a-4d9c-907c-72fc4b0579e5]",
        "2019-02-08 06:15:07 - Manipulation of host firewall detected - (MSTICALERTSLXVM2)  - [id:2518526942928429999_36429855-7a03-40ad-bfd7-6684f766da60]",
        "2019-02-08 06:15:08 - Detected file download from a known malicious source - (MSTICALERTSLXVM2)  - [id:2518526942913029999_e20b007a-6864-4ebf-ade3-d96550b92013]",
        "2019-02-08 06:15:08 - Potential overriding of common files - (MSTICALERTSLXVM2)  - [id:2518526942915099999_6abca328-6bfc-4cfc-acd5-639fd09d697a]",
        "2019-02-08 06:15:09 - Removal of system logs files detected - (MSTICALERTSLXVM2)  - [id:2518526942908569999_100779af-fca5-49e5-81a5-78be0b0be180]",
        "2019-02-08 06:15:09 - Potential reverse shell detected - (MSTICALERTSLXVM2)  - [id:2518526942903129999_1a376498-9199-4f2e-8b57-2edc4f68a1f4]",
        "2019-02-08 06:15:10 - Detected suspicious file download - (MSTICALERTSLXVM2)  - [id:2518526942894769999_a96e285d-8058-433f-90d0-cea15a6a3802]",
        "2019-02-08 06:15:11 - Screenshot taken on host - (MSTICALERTSLXVM2)  - [id:2518526942888099999_c6cfec10-70a9-4a0f-93c9-abec5aba4ceb]",
        "2019-02-08 06:15:11 - Azure Security Center test alert (not a threat) - (MSTICALERTSLXVM2)  - [id:2518526942885169999_9ddf31c4-ec3d-4f21-9777-c818ee3e8856]",
        "2019-02-08 06:15:11 - Detected anomalous mix of upper and lower case characters in command-line - (MSTICALERTSLXVM2)  - [id:2518526942885299999_25906fcf-c3fc-42ad-9bbd-e602111a7623]",
        "2019-02-08 06:15:11 - Detected suspicious DNS resolution - (MSTICALERTSLXVM2)  - [id:2518526942885269999_0c9a406b-5bc9-4b74-99f4-4b45805f5625]",
        "2019-02-08 12:15:03 - Suspicious binary detected - (MSTICALERTSLXVM2)  - [id:2518526726966999999_92b89b6e-7e06-459c-a660-b7bdcd54226c]",
        "2019-02-08 12:15:03 - An history file has been cleared - (MSTICALERTSLXVM2)  - [id:2518526726961429999_4e398593-c358-48dd-b1e7-42d4b8a4968c]",
        "2019-02-08 12:15:03 - Behavior similar to common Linux bots detected - (MSTICALERTSLXVM2)  - [id:2518526726960929999_fe60ec69-71f7-4b35-ba87-d1f53d4e56b6]",
        "2019-02-08 12:15:03 - Detected Persistence Attempt - (MSTICALERTSLXVM2)  - [id:2518526726969929999_2193d91d-60d7-4582-9f9c-67fafafb042f]",
        "2019-02-08 12:15:03 - Security incident with shared process detected - (MSTICALERTSLXVM2)  - [id:2518526726969799999_7c3688ad-e81c-4562-bda4-1cc32b9517cc]",
        "2019-02-08 12:15:03 - New SSH key added - (MSTICALERTSLXVM2)  - [id:2518526726969799999_81061e99-9bb5-43ea-a80a-e16ebc4b346b]",
        "2019-02-08 12:15:05 - Manipulation of host firewall detected - (MSTICALERTSLXVM2)  - [id:2518526726943769999_c8705bda-8de4-453c-a06c-59ac3e7672f3]",
        "2019-02-08 12:15:05 - Suspicious Download Then Run Activity - (MSTICALERTSLXVM2)  - [id:2518526726941399999_b0a02cc6-abce-4aa1-9716-772d1b6016e8]",
        "2019-02-08 12:15:06 - Possible credential access tool detected - (MSTICALERTSLXVM2)  - [id:2518526726930729999_0135dbfb-59de-4da5-930c-4222fc5dea4d]",
        "2019-02-08 12:15:06 - Hidden file execution detected - (MSTICALERTSLXVM2)  - [id:2518526726938029999_79d94aa6-9e85-462a-977f-1ab76501bdaf]",
        "2019-02-08 12:15:06 - Behavior similar to Fairware ransomware detected - (MSTICALERTSLXVM2)  - [id:2518526726937169999_f2f8909c-071c-4998-9c68-2f2ecc3de212]",
        "2019-02-08 12:15:07 - Detected file download from a known malicious source - (MSTICALERTSLXVM2)  - [id:2518526726921199999_f7ede390-a49a-40f6-a6b0-60ca1e5e93b1]",
        "2019-02-08 12:15:07 - Potential overriding of common files - (MSTICALERTSLXVM2)  - [id:2518526726923099999_a1ddb972-2401-4024-80f2-9031248ff5a9]",
        "2019-02-08 12:15:08 - Potential reverse shell detected - (MSTICALERTSLXVM2)  - [id:2518526726914999999_171e97a0-64b0-4201-9771-a511e40fe1ab]",
        "2019-02-08 12:15:08 - Removal of system logs files detected - (MSTICALERTSLXVM2)  - [id:2518526726915999999_d9967096-af80-4a52-9c5c-dea4f5ac9fc2]",
        "2019-02-08 12:15:09 - Detected suspicious file download - (MSTICALERTSLXVM2)  - [id:2518526726902529999_c9fa2c00-102f-4c23-8cd4-0e5c285d5062]",
        "2019-02-08 12:15:10 - Screenshot taken on host - (MSTICALERTSLXVM2)  - [id:2518526726897469999_f36bbd27-5f06-4c47-8089-b3cfbf33a935]",
        "2019-02-08 12:15:10 - Detected suspicious DNS resolution - (MSTICALERTSLXVM2)  - [id:2518526726895169999_c4348001-e8a3-4749-a58e-7a5e8dd87149]",
        "2019-02-08 12:15:10 - Azure Security Center test alert (not a threat) - (MSTICALERTSLXVM2)  - [id:2518526726895069999_ccb3036f-8cf1-4c0f-87cc-16d2ba61f192]",
        "2019-02-08 12:15:10 - Detected anomalous mix of upper and lower case characters in command-line - (MSTICALERTSLXVM2)  - [id:2518526726895199999_a69013ac-5a8f-4281-b507-684906914718]",
        "2019-02-08 18:15:02 - Suspicious binary detected - (MSTICALERTSLXVM2)  - [id:2518526510970929999_6e656b75-4307-4d6a-9583-c1d8c5c4d92f]",
        "2019-02-08 18:15:02 - An history file has been cleared - (MSTICALERTSLXVM2)  - [id:2518526510970669999_b7a1207d-27ca-4863-a9f2-2482d5f20709]",
        "2019-02-08 18:15:02 - Detected Persistence Attempt - (MSTICALERTSLXVM2)  - [id:2518526510973669999_0e2a1bc1-8481-4c0c-a378-045a0d8face6]",
        "2019-02-08 18:15:02 - New SSH key added - (MSTICALERTSLXVM2)  - [id:2518526510971629999_79c2d097-3a2d-4f88-8487-39d76606f3ae]",
        "2019-02-08 18:15:03 - Behavior similar to common Linux bots detected - (MSTICALERTSLXVM2)  - [id:2518526510961969999_165a4b0c-3d46-43d7-b5b6-fcfc67141981]",
        "2019-02-08 18:15:05 - Hidden file execution detected - (MSTICALERTSLXVM2)  - [id:2518526510944329999_d3babb69-23f0-46d6-ae5c-e0e2eedb5429]",
        "2019-02-08 18:15:05 - Behavior similar to Fairware ransomware detected - (MSTICALERTSLXVM2)  - [id:2518526510943599999_d7531627-8762-426a-a6e2-bb14909ef5e7]",
        "2019-02-08 18:15:05 - Manipulation of host firewall detected - (MSTICALERTSLXVM2)  - [id:2518526510948129999_b47441cf-f7e2-4b87-9c57-5c6c5ee72e42]",
        "2019-02-08 18:15:05 - Suspicious Download Then Run Activity - (MSTICALERTSLXVM2)  - [id:2518526510946829999_7b45ae2d-006c-48e0-96d2-a2f9eaf8d318]",
        "2019-02-08 18:15:06 - Possible credential access tool detected - (MSTICALERTSLXVM2)  - [id:2518526510939169999_8c9c9d58-84e3-4181-b203-64fd2e99f6c1]",
        "2019-02-08 18:15:06 - Potential overriding of common files - (MSTICALERTSLXVM2)  - [id:2518526510930399999_a631f4b7-687c-42a6-a63e-068f16592c49]",
        "2019-02-08 18:15:07 - Removal of system logs files detected - (MSTICALERTSLXVM2)  - [id:2518526510921929999_dcc47ded-a477-48ad-9703-ea9adc785847]",
        "2019-02-08 18:15:07 - Detected file download from a known malicious source - (MSTICALERTSLXVM2)  - [id:2518526510927529999_182a15a9-57ad-4c42-afb9-762e2fbd7d16]",
        "2019-02-08 18:15:07 - Potential reverse shell detected - (MSTICALERTSLXVM2)  - [id:2518526510920869999_f3cfc487-8854-4dcd-8dff-8ffa2c460b61]",
        "2019-02-08 18:15:09 - Screenshot taken on host - (MSTICALERTSLXVM2)  - [id:2518526510900599999_6432e21f-7c80-4a40-ac4f-a0b5b3f20704]",
        "2019-02-08 18:15:09 - Detected suspicious file download - (MSTICALERTSLXVM2)  - [id:2518526510908129999_ba4add80-839e-49e4-a2b9-240b6e55f6d5]",
        "2019-02-08 18:15:10 - Detected anomalous mix of upper and lower case characters in command-line - (MSTICALERTSLXVM2)  - [id:2518526510896469999_304d270d-7ac7-4bb3-bb95-539d596fe6a7]",
        "2019-02-08 18:15:10 - Azure Security Center test alert (not a threat) - (MSTICALERTSLXVM2)  - [id:2518526510896299999_0d5cf7da-659f-4134-a28b-075ccea0e70f]",
        "2019-02-08 18:15:10 - Detected suspicious DNS resolution - (MSTICALERTSLXVM2)  - [id:2518526510896429999_a718c8fc-8326-4d3e-820f-e417f28c1498]",
        "2019-02-09 00:15:02 - Security incident with shared process detected - (MSTICALERTSLXVM2)  - [id:2518526294974129999_6b67f9c7-58b8-4bae-acb9-9927d826a1cb]",
        "2019-02-09 00:15:02 - New SSH key added - (MSTICALERTSLXVM2)  - [id:2518526294974129999_dfbc9d2d-dc18-4160-81e2-8adf5a5404db]",
        "2019-02-09 00:15:02 - Suspicious binary detected - (MSTICALERTSLXVM2)  - [id:2518526294971429999_2610ba31-ad85-41fa-9aef-3275f36057ab]",
        "2019-02-09 00:15:02 - An history file has been cleared - (MSTICALERTSLXVM2)  - [id:2518526294971099999_fa46f9d4-1a68-47dd-813a-36212baa7320]",
        "2019-02-09 00:15:02 - Detected Persistence Attempt - (MSTICALERTSLXVM2)  - [id:2518526294974329999_62683fee-fd9b-4c7d-9731-f2c7d1810ebb]",
        "2019-02-09 00:15:03 - Behavior similar to common Linux bots detected - (MSTICALERTSLXVM2)  - [id:2518526294962669999_7d6e5f6e-8dad-40a6-8690-468ac07f2f33]",
        "2019-02-09 00:15:05 - Hidden file execution detected - (MSTICALERTSLXVM2)  - [id:2518526294945269999_f671eff2-dc5e-4311-ae56-43b1275573b0]",
        "2019-02-09 00:15:05 - Possible credential access tool detected - (MSTICALERTSLXVM2)  - [id:2518526294940099999_36db3aed-b4cf-4141-8acc-536ff4fb91a4]",
        "2019-02-09 00:15:05 - Manipulation of host firewall detected - (MSTICALERTSLXVM2)  - [id:2518526294949369999_d27bf9db-55e1-4f91-9bf3-3933325e4f8b]",
        "2019-02-09 00:15:05 - Behavior similar to Fairware ransomware detected - (MSTICALERTSLXVM2)  - [id:2518526294944529999_1e3721ff-77ce-47e8-991b-a03c93a92b74]",
        "2019-02-09 00:15:05 - Suspicious Download Then Run Activity - (MSTICALERTSLXVM2)  - [id:2518526294947669999_ebd72440-6f22-4220-a153-08d048de8b2b]",
        "2019-02-09 00:15:08 - Potential overriding of common files - (MSTICALERTSLXVM2)  - [id:2518526294910299999_efacd329-3ff7-40fe-a7de-b233eec4286e]",
        "2019-02-09 00:15:09 - Removal of system logs files detected - (MSTICALERTSLXVM2)  - [id:2518526294903799999_b7523105-f0ef-4524-8f0b-dbf5cc2ec199]",
        "2019-02-09 00:15:09 - Potential reverse shell detected - (MSTICALERTSLXVM2)  - [id:2518526294903029999_f7618982-cd73-47e2-850c-92ef9f134bf1]",
        "2019-02-09 00:15:09 - Detected file download from a known malicious source - (MSTICALERTSLXVM2)  - [id:2518526294908099999_6aea08bc-23d4-46ab-8018-3edb4842104f]",
        "2019-02-09 00:15:10 - Screenshot taken on host - (MSTICALERTSLXVM2)  - [id:2518526294890669999_a7cf3894-06f4-4fcd-8443-c74e697a239c]",
        "2019-02-09 00:15:10 - Detected suspicious file download - (MSTICALERTSLXVM2)  - [id:2518526294894269999_6f667bcb-32cf-4c97-99f8-cfb82ec7275e]",
        "2019-02-09 00:15:12 - Azure Security Center test alert (not a threat) - (MSTICALERTSLXVM2)  - [id:2518526294871929999_9a88eeff-21c0-4c41-bf08-fc66b5f04ed0]",
        "2019-02-09 06:15:03 - An history file has been cleared - (MSTICALERTSLXVM2)  - [id:2518526078960129999_fcb63532-8bca-47b1-bb57-c786b401b661]",
        "2019-02-09 06:15:03 - Detected Persistence Attempt - (MSTICALERTSLXVM2)  - [id:2518526078967199999_49389ad8-6a9b-423c-a08f-824f8391e9fc]",
        "2019-02-09 06:15:03 - Suspicious binary detected - (MSTICALERTSLXVM2)  - [id:2518526078964399999_3699f219-8b53-4467-8ff4-31de1e6eab75]",
        "2019-02-09 06:15:03 - New SSH key added - (MSTICALERTSLXVM2)  - [id:2518526078967029999_db386cec-ffac-4126-8c32-58c07fc895a4]",
        "2019-02-09 06:15:04 - Behavior similar to common Linux bots detected - (MSTICALERTSLXVM2)  - [id:2518526078959029999_ed711578-4f2b-4100-8d40-8ec2be26e502]",
        "2019-02-09 06:15:06 - Possible credential access tool detected - (MSTICALERTSLXVM2)  - [id:2518526078930629999_115da4c5-e611-4c26-b839-73d2d18921d2]",
        "2019-02-09 06:15:06 - Behavior similar to Fairware ransomware detected - (MSTICALERTSLXVM2)  - [id:2518526078934729999_7f473bfa-4e4e-4421-a720-188b2096418d]",
        "2019-02-09 06:15:06 - Manipulation of host firewall detected - (MSTICALERTSLXVM2)  - [id:2518526078939729999_0e410243-6315-45b0-885d-61c549b441b3]",
        "2019-02-09 06:15:06 - Suspicious Download Then Run Activity - (MSTICALERTSLXVM2)  - [id:2518526078938029999_38e5f081-638d-4b90-bbf1-cc8e091b8dd5]",
        "2019-02-09 06:15:06 - Hidden file execution detected - (MSTICALERTSLXVM2)  - [id:2518526078935629999_58a37ad9-4ab7-490a-99dd-24102ff5bb8c]",
        "2019-02-09 06:15:07 - Potential overriding of common files - (MSTICALERTSLXVM2)  - [id:2518526078922369999_1cb944da-f2cf-43f5-b41e-87f6a9ae4fa7]",
        "2019-02-09 06:15:08 - Detected file download from a known malicious source - (MSTICALERTSLXVM2)  - [id:2518526078919999999_81eab465-83b6-4758-ba32-8485483a0379]",
        "2019-02-09 06:15:08 - Removal of system logs files detected - (MSTICALERTSLXVM2)  - [id:2518526078914629999_d584a569-8b19-4f4c-878b-61c7ba4cae0b]",
        "2019-02-09 06:15:08 - Potential reverse shell detected - (MSTICALERTSLXVM2)  - [id:2518526078913629999_912c4890-bacf-4789-a24c-0c4034cd68d2]",
        "2019-02-09 06:15:09 - Detected suspicious file download - (MSTICALERTSLXVM2)  - [id:2518526078902529999_dd241eb1-f301-4e05-8c02-6f549e597e42]",
        "2019-02-09 06:15:10 - Screenshot taken on host - (MSTICALERTSLXVM2)  - [id:2518526078897229999_3b6f46fb-2dc9-4a35-8282-ad37b50d6852]",
        "2019-02-09 06:15:10 - Azure Security Center test alert (not a threat) - (MSTICALERTSLXVM2)  - [id:2518526078894599999_1bb0e6af-7f04-412d-a244-c2eaf06eb98c]",
        "2019-02-09 12:15:03 - An history file has been cleared - (MSTICALERTSLXVM2)  - [id:2518525862964969999_c564a2ed-e4f6-4fb3-91fc-f0232e612532]",
        "2019-02-09 12:15:03 - Detected Persistence Attempt - (MSTICALERTSLXVM2)  - [id:2518525862968099999_c8402ec3-3b2a-45c5-a9bb-7bcd6ba95d41]",
        "2019-02-09 12:15:03 - Suspicious binary detected - (MSTICALERTSLXVM2)  - [id:2518525862965269999_ceb864a0-f079-477e-a691-c38ae7b7762f]",
        "2019-02-09 12:15:03 - New SSH key added - (MSTICALERTSLXVM2)  - [id:2518525862967929999_12f6f8f8-bff0-43c6-b6fd-7cd3a9fb378d]",
        "2019-02-09 12:15:03 - Security incident with shared process detected - (MSTICALERTSLXVM2)  - [id:2518525862967929999_c62f3ffc-810c-4fc1-b276-2338452c1f51]",
        "2019-02-09 12:15:04 - Behavior similar to common Linux bots detected - (MSTICALERTSLXVM2)  - [id:2518525862959429999_f6fb7317-fcba-4903-a940-b3705d1cee53]",
        "2019-02-09 12:15:05 - Hidden file execution detected - (MSTICALERTSLXVM2)  - [id:2518525862940299999_e8cacb74-e75c-446c-8eda-487ddca11c58]",
        "2019-02-09 12:15:05 - Suspicious Download Then Run Activity - (MSTICALERTSLXVM2)  - [id:2518525862942799999_befd06d6-7b49-4be2-8fce-91a6fbf9fdab]",
        "2019-02-09 12:15:05 - Manipulation of host firewall detected - (MSTICALERTSLXVM2)  - [id:2518525862944499999_139c0a64-caf1-411b-8723-12c740aacf43]",
        "2019-02-09 12:15:06 - Behavior similar to Fairware ransomware detected - (MSTICALERTSLXVM2)  - [id:2518525862939569999_f1417a8a-2a6d-4f99-bc94-0e8558d154c3]",
        "2019-02-09 12:15:06 - Possible credential access tool detected - (MSTICALERTSLXVM2)  - [id:2518525862934729999_3bdd2b48-8ac6-497a-90b9-2a6c00c49aaa]",
        "2019-02-09 12:15:07 - Detected file download from a known malicious source - (MSTICALERTSLXVM2)  - [id:2518525862923529999_d97d5d18-ca61-4e7a-96c1-e0d84563f6c7]",
        "2019-02-09 12:15:07 - Potential overriding of common files - (MSTICALERTSLXVM2)  - [id:2518525862925599999_dfea3efa-5c25-46f5-9f0a-a3bae2d26421]",
        "2019-02-09 12:15:08 - Potential reverse shell detected - (MSTICALERTSLXVM2)  - [id:2518525862917329999_901e788f-a380-4434-b74e-2c949e84e18b]",
        "2019-02-09 12:15:08 - Removal of system logs files detected - (MSTICALERTSLXVM2)  - [id:2518525862918469999_42f814ba-8d7b-4032-bd84-827fabebd77d]",
        "2019-02-09 12:15:09 - Detected suspicious file download - (MSTICALERTSLXVM2)  - [id:2518525862904629999_78e08270-972a-45e0-bf09-361708056147]",
        "2019-02-09 12:15:10 - Azure Security Center test alert (not a threat) - (MSTICALERTSLXVM2)  - [id:2518525862896829999_01d0da11-1a46-4293-8a92-d57313a620ce]",
        "2019-02-09 12:15:10 - Screenshot taken on host - (MSTICALERTSLXVM2)  - [id:2518525862899269999_656f7f7a-0ecc-45c7-935d-83c08d2e37ad]",
        "2019-02-09 18:15:03 - New SSH key added - (MSTICALERTSLXVM2)  - [id:2518525646966629999_c8c88865-ba2b-4723-8c99-643e7c7031b1]",
        "2019-02-09 18:15:03 - Detected Persistence Attempt - (MSTICALERTSLXVM2)  - [id:2518525646968729999_4d06fd03-13e1-4b54-a18a-7a1521beaf52]",
        "2019-02-09 18:15:03 - An history file has been cleared - (MSTICALERTSLXVM2)  - [id:2518525646965599999_d1c59c2b-bebb-4bac-98d0-53e27ef6d6c8]",
        "2019-02-09 18:15:03 - Suspicious binary detected - (MSTICALERTSLXVM2)  - [id:2518525646965869999_a593b433-cdc8-4377-999f-562f8988584d]",
        "2019-02-09 18:15:03 - Behavior similar to common Linux bots detected - (MSTICALERTSLXVM2)  - [id:2518525646960429999_2b040bdb-339b-442d-9993-a45249145efb]",
        "2019-02-09 18:15:05 - Suspicious Download Then Run Activity - (MSTICALERTSLXVM2)  - [id:2518525646942629999_a3d77f3c-04d0-424a-a97e-2430c2b86549]",
        "2019-02-09 18:15:05 - Manipulation of host firewall detected - (MSTICALERTSLXVM2)  - [id:2518525646944269999_f46b3d9d-a080-4199-95e7-59ce7ec86bb9]",
        "2019-02-09 18:15:05 - Hidden file execution detected - (MSTICALERTSLXVM2)  - [id:2518525646940129999_324a2e0e-d957-4383-bec7-c8a365f0b073]",
        "2019-02-09 18:15:06 - Possible credential access tool detected - (MSTICALERTSLXVM2)  - [id:2518525646935069999_4f4c75fd-4bf2-4534-8b5f-e8c7b12955d3]",
        "2019-02-09 18:15:06 - Behavior similar to Fairware ransomware detected - (MSTICALERTSLXVM2)  - [id:2518525646939429999_a6072ce4-363e-45f9-a4b9-69d175a1267a]",
        "2019-02-09 18:15:07 - Detected file download from a known malicious source - (MSTICALERTSLXVM2)  - [id:2518525646923499999_1b96882d-b5be-48f8-9ee6-6e11ef6beaf7]",
        "2019-02-09 18:15:07 - Potential overriding of common files - (MSTICALERTSLXVM2)  - [id:2518525646926029999_be37f631-302f-4a0c-9215-6a8c821a1fa2]",
        "2019-02-09 18:15:08 - Potential reverse shell detected - (MSTICALERTSLXVM2)  - [id:2518525646915929999_6c507f51-0017-42c6-bf27-5e1f7f90e779]",
        "2019-02-09 18:15:08 - Removal of system logs files detected - (MSTICALERTSLXVM2)  - [id:2518525646917299999_525924c6-5017-4019-98d5-ace675b23a90]",
        "2019-02-09 18:15:09 - Detected suspicious file download - (MSTICALERTSLXVM2)  - [id:2518525646901729999_243d597e-7ad2-4914-badb-b69b503d458f]",
        "2019-02-09 18:15:10 - Screenshot taken on host - (MSTICALERTSLXVM2)  - [id:2518525646896429999_0ae311ac-37bc-43ef-bb26-6c6ce1b15985]",
        "2019-02-09 18:15:10 - Azure Security Center test alert (not a threat) - (MSTICALERTSLXVM2)  - [id:2518525646894229999_98110724-4893-404e-a4f9-f6cbccdd2774]",
        "2019-02-10 00:15:03 - Detected Persistence Attempt - (MSTICALERTSLXVM2)  - [id:2518525430964999999_71ec6a94-1348-4767-b40e-dca4293c6592]",
        "2019-02-10 00:15:03 - New SSH key added - (MSTICALERTSLXVM2)  - [id:2518525430962829999_4e20ea22-3304-4180-9628-bf98db29c9ad]",
        "2019-02-10 00:15:03 - Security incident with shared process detected - (MSTICALERTSLXVM2)  - [id:2518525430962829999_c9890374-b912-4db3-b46a-49bf2b6909ab]",
        "2019-02-10 00:15:03 - An history file has been cleared - (MSTICALERTSLXVM2)  - [id:2518525430961729999_ec82c884-0812-4e87-b46e-e0dee6915be8]",
        "2019-02-10 00:15:03 - Suspicious binary detected - (MSTICALERTSLXVM2)  - [id:2518525430962069999_a776f971-b79f-47bb-8d23-6ff80b1cc928]",
        "2019-02-10 00:15:04 - Behavior similar to common Linux bots detected - (MSTICALERTSLXVM2)  - [id:2518525430953169999_f247b101-598f-41b1-a7a4-86d254988122]",
        "2019-02-10 00:15:05 - Manipulation of host firewall detected - (MSTICALERTSLXVM2)  - [id:2518525430940569999_e7d52502-c46c-4586-a4ab-402440cdceba]",
        "2019-02-10 00:15:06 - Suspicious Download Then Run Activity - (MSTICALERTSLXVM2)  - [id:2518525430938729999_4dade15e-c96c-4e0a-a385-b0f96074d12a]",
        "2019-02-10 00:15:06 - Possible credential access tool detected - (MSTICALERTSLXVM2)  - [id:2518525430931169999_ab5320bd-bc95-4b71-ad5c-79d1c84029e5]",
        "2019-02-10 00:15:06 - Hidden file execution detected - (MSTICALERTSLXVM2)  - [id:2518525430936229999_53f985f2-f166-49f3-b1d5-af569c4dac8a]",
        "2019-02-10 00:15:06 - Behavior similar to Fairware ransomware detected - (MSTICALERTSLXVM2)  - [id:2518525430935529999_98113b3c-285d-4fc7-a877-70c467ecc4c8]",
        "2019-02-10 00:15:07 - Potential overriding of common files - (MSTICALERTSLXVM2)  - [id:2518525430921729999_40c0b8a2-8bc3-41b8-bedc-427c8b7a9583]",
        "2019-02-10 00:15:08 - Detected file download from a known malicious source - (MSTICALERTSLXVM2)  - [id:2518525430919199999_b3a748e3-551f-4672-a556-0e8a34c2fa0e]",
        "2019-02-10 00:15:08 - Potential reverse shell detected - (MSTICALERTSLXVM2)  - [id:2518525430911999999_946823da-f399-4a5a-823c-707ed15b0fcb]",
        "2019-02-10 00:15:08 - Removal of system logs files detected - (MSTICALERTSLXVM2)  - [id:2518525430913569999_fea2651f-3da9-481a-8c49-29c4d5e1befb]",
        "2019-02-10 00:15:10 - Detected suspicious file download - (MSTICALERTSLXVM2)  - [id:2518525430895629999_e6cd1d73-361a-4381-a2e7-5b09d8db2d5f]",
        "2019-02-10 00:15:10 - Screenshot taken on host - (MSTICALERTSLXVM2)  - [id:2518525430890299999_0bb73421-ce7f-4519-827e-b39a7271e574]",
        "2019-02-10 00:15:14 - Azure Security Center test alert (not a threat) - (MSTICALERTSLXVM2)  - [id:2518525430856599999_0a8d01cb-923c-4b1a-85f5-d18d0c779c79]",
        "2019-02-10 06:15:03 - Suspicious binary detected - (MSTICALERTSLXVM2)  - [id:2518525214964729999_974c48bc-7ba0-4576-8e1f-291c480bf6ca]",
        "2019-02-10 06:15:03 - Detected Persistence Attempt - (MSTICALERTSLXVM2)  - [id:2518525214967569999_a47c57fe-7a11-4c01-ba8f-2330d3df5475]",
        "2019-02-10 06:15:03 - New SSH key added - (MSTICALERTSLXVM2)  - [id:2518525214967399999_99cac885-73ba-4e4c-bb21-3832abac24a4]",
        "2019-02-10 06:15:03 - An history file has been cleared - (MSTICALERTSLXVM2)  - [id:2518525214964399999_c0924102-5b0e-4ce1-b9cc-a86c120d8d64]",
        "2019-02-10 06:15:04 - Behavior similar to common Linux bots detected - (MSTICALERTSLXVM2)  - [id:2518525214955729999_d8aca12c-c775-43ee-baae-6762660d818e]",
        "2019-02-10 06:15:05 - Suspicious Download Then Run Activity - (MSTICALERTSLXVM2)  - [id:2518525214941629999_4fdcf478-5c8a-4e41-b507-8d741f6b8c78]",
        "2019-02-10 06:15:05 - Manipulation of host firewall detected - (MSTICALERTSLXVM2)  - [id:2518525214943369999_93e54825-7b3f-4056-9387-2bdb13717ac9]",
        "2019-02-10 06:15:06 - Behavior similar to Fairware ransomware detected - (MSTICALERTSLXVM2)  - [id:2518525214938499999_e39808bc-e8d0-441d-8a7d-519e8697e2e0]",
        "2019-02-10 06:15:06 - Hidden file execution detected - (MSTICALERTSLXVM2)  - [id:2518525214939229999_8d5bc99e-4381-4188-8632-3588edda47ea]",
        "2019-02-10 06:15:06 - Possible credential access tool detected - (MSTICALERTSLXVM2)  - [id:2518525214934099999_49021ec7-ec33-4060-a659-6c90760281c4]",
        "2019-02-10 06:15:07 - Potential overriding of common files - (MSTICALERTSLXVM2)  - [id:2518525214925169999_31132956-57ba-4c9b-948e-1e7cf7b5e6fe]",
        "2019-02-10 06:15:07 - Detected file download from a known malicious source - (MSTICALERTSLXVM2)  - [id:2518525214922729999_108ca661-69e9-472a-9c19-848a68ab8747]",
        "2019-02-10 06:15:08 - Potential reverse shell detected - (MSTICALERTSLXVM2)  - [id:2518525214916029999_125bc04e-e5b7-4cdf-8fe5-e86646eef635]",
        "2019-02-10 06:15:08 - Removal of system logs files detected - (MSTICALERTSLXVM2)  - [id:2518525214917029999_f94d4060-e5a7-43c2-a40d-bf5710ce1fb8]",
        "2019-02-10 06:15:09 - Detected suspicious file download - (MSTICALERTSLXVM2)  - [id:2518525214904799999_0c4483f3-443a-40dc-9116-93b38b3621be]",
        "2019-02-10 06:15:10 - Screenshot taken on host - (MSTICALERTSLXVM2)  - [id:2518525214897769999_73aba7ff-034a-4783-bb49-ce562879ee9d]",
        "2019-02-10 06:15:10 - Azure Security Center test alert (not a threat) - (MSTICALERTSLXVM2)  - [id:2518525214893669999_230b65f7-fcf6-4061-8733-f2f05ba5a646]",
        "2019-02-10 12:15:02 - Security incident with shared process detected - (MSTICALERTSLXVM2)  - [id:2518524998971669999_733fa1f8-e542-4954-a721-269891ea56b3]",
        "2019-02-10 12:15:02 - New SSH key added - (MSTICALERTSLXVM2)  - [id:2518524998971669999_b7580955-d8b8-459e-be30-40a019ddfc26]",
        "2019-02-10 12:15:02 - Detected Persistence Attempt - (MSTICALERTSLXVM2)  - [id:2518524998971829999_5063308b-adac-47ea-92eb-353af07e3604]",
        "2019-02-10 12:15:03 - Behavior similar to common Linux bots detected - (MSTICALERTSLXVM2)  - [id:2518524998963469999_d3abd2f4-3caa-47c4-a01e-db4265f10600]",
        "2019-02-10 12:15:03 - Suspicious binary detected - (MSTICALERTSLXVM2)  - [id:2518524998968899999_48b23636-a357-47b3-918f-f5e4a5131abb]",
        "2019-02-10 12:15:03 - An history file has been cleared - (MSTICALERTSLXVM2)  - [id:2518524998968599999_31b782ad-2d76-4c1e-b1af-96f08faa4883]",
        "2019-02-10 12:15:05 - Hidden file execution detected - (MSTICALERTSLXVM2)  - [id:2518524998941029999_510880dd-93be-426d-9230-60369a11f4a9]",
        "2019-02-10 12:15:05 - Suspicious Download Then Run Activity - (MSTICALERTSLXVM2)  - [id:2518524998944099999_9c0cc7cb-f34f-469e-83aa-48ab6f3d4976]",
        "2019-02-10 12:15:05 - Manipulation of host firewall detected - (MSTICALERTSLXVM2)  - [id:2518524998946299999_22f477a1-0fc7-46e0-820c-426446f3d8c6]",
        "2019-02-10 12:15:05 - Behavior similar to Fairware ransomware detected - (MSTICALERTSLXVM2)  - [id:2518524998940029999_5230d326-003b-404b-829b-b22506cb7ddb]",
        "2019-02-10 12:15:06 - Possible credential access tool detected - (MSTICALERTSLXVM2)  - [id:2518524998934499999_8e66128b-3873-4213-bf91-b73605c9aaf9]",
        "2019-02-10 12:15:07 - Potential overriding of common files - (MSTICALERTSLXVM2)  - [id:2518524998925699999_5550d6f7-95c3-4265-afe9-68973d4a07ed]",
        "2019-02-10 12:15:07 - Detected file download from a known malicious source - (MSTICALERTSLXVM2)  - [id:2518524998923669999_85f8b110-9056-47cb-ba35-663d775cd444]",
        "2019-02-10 12:15:08 - Potential reverse shell detected - (MSTICALERTSLXVM2)  - [id:2518524998916229999_81aa8e5f-c8e6-42d6-a486-89a4a0ec2247]",
        "2019-02-10 12:15:08 - Removal of system logs files detected - (MSTICALERTSLXVM2)  - [id:2518524998917269999_404d6069-abaa-4e1a-b9ff-18c7f36e0bd8]",
        "2019-02-10 12:15:09 - Detected suspicious file download - (MSTICALERTSLXVM2)  - [id:2518524998904829999_c1a906f2-8576-4a73-8710-333608826db9]",
        "2019-02-10 12:15:10 - Screenshot taken on host - (MSTICALERTSLXVM2)  - [id:2518524998898799999_987bac89-bf73-46cf-a33c-b8c0697d560f]",
        "2019-02-10 12:15:10 - Azure Security Center test alert (not a threat) - (MSTICALERTSLXVM2)  - [id:2518524998895729999_f48e2860-7d64-423c-8bd6-93314aefafd1]",
        "2019-02-10 18:15:03 - An history file has been cleared - (MSTICALERTSLXVM2)  - [id:2518524782963399999_78b2d187-3a41-4271-881c-b9cab18b3421]",
        "2019-02-10 18:15:03 - Suspicious binary detected - (MSTICALERTSLXVM2)  - [id:2518524782963669999_2d6ec33e-19bb-4687-8880-71cb694f6c20]",
        "2019-02-10 18:15:03 - Detected Persistence Attempt - (MSTICALERTSLXVM2)  - [id:2518524782966599999_d6e2baa7-f745-4ed6-b561-9fe81044e58c]",
        "2019-02-10 18:15:03 - New SSH key added - (MSTICALERTSLXVM2)  - [id:2518524782966399999_a9c6ad15-3e93-411a-974c-6d1cc56d8b18]",
        "2019-02-10 18:15:04 - Behavior similar to common Linux bots detected - (MSTICALERTSLXVM2)  - [id:2518524782958399999_1a026c16-321f-4eec-8ecf-05e10e16d123]",
        "2019-02-10 18:15:05 - Manipulation of host firewall detected - (MSTICALERTSLXVM2)  - [id:2518524782941629999_b8c42ca0-6c85-4468-af11-2521e2ae93f4]",
        "2019-02-10 18:15:06 - Suspicious Download Then Run Activity - (MSTICALERTSLXVM2)  - [id:2518524782939499999_91a1c219-b5e4-405d-8ce0-03b38e72cd48]",
        "2019-02-10 18:15:06 - Behavior similar to Fairware ransomware detected - (MSTICALERTSLXVM2)  - [id:2518524782935999999_b6aa8097-ea0d-4cf7-9f74-f2ea317b7f3d]",
        "2019-02-10 18:15:06 - Hidden file execution detected - (MSTICALERTSLXVM2)  - [id:2518524782936799999_0f584934-8919-410c-b480-d5625133425a]",
        "2019-02-10 18:15:06 - Possible credential access tool detected - (MSTICALERTSLXVM2)  - [id:2518524782931329999_714ca0b0-e608-4b90-bd17-f823873f2f47]",
        "2019-02-10 18:15:07 - Detected file download from a known malicious source - (MSTICALERTSLXVM2)  - [id:2518524782920199999_ce4d6fd7-4179-4b11-80fa-8494b6813f87]",
        "2019-02-10 18:15:07 - Potential overriding of common files - (MSTICALERTSLXVM2)  - [id:2518524782921329999_ab779271-88b6-4ed1-a4fb-b4121832fd68]",
        "2019-02-10 18:15:08 - Potential reverse shell detected - (MSTICALERTSLXVM2)  - [id:2518524782913599999_bc7894e4-7de6-4ed6-8f43-90012ca35ca6]",
        "2019-02-10 18:15:08 - Removal of system logs files detected - (MSTICALERTSLXVM2)  - [id:2518524782914669999_684397db-a86b-4403-b959-9bd03ff1c60d]",
        "2019-02-10 18:15:09 - Detected suspicious file download - (MSTICALERTSLXVM2)  - [id:2518524782900299999_049f09a3-5d12-4347-8b56-cb987fd71016]",
        "2019-02-10 18:15:10 - Screenshot taken on host - (MSTICALERTSLXVM2)  - [id:2518524782894999999_35a30eb4-4ec2-4b0a-be09-507886550925]",
        "2019-02-10 18:15:10 - Azure Security Center test alert (not a threat) - (MSTICALERTSLXVM2)  - [id:2518524782892699999_f7fca60a-e081-4449-a146-bb3cd64fbc92]",
        "2019-02-11 00:15:03 - Suspicious binary detected - (MSTICALERTSLXVM2)  - [id:2518524566960599999_a8947140-d17c-425a-b4a6-1f2b83e1bda5]",
        "2019-02-11 00:15:03 - Security incident with shared process detected - (MSTICALERTSLXVM2)  - [id:2518524566961369999_f9858b9b-09de-406b-a8d4-a0aadaf80704]",
        "2019-02-11 00:15:03 - Detected Persistence Attempt - (MSTICALERTSLXVM2)  - [id:2518524566963599999_2205286c-2eea-497b-bc99-273861613641]",
        "2019-02-11 00:15:03 - An history file has been cleared - (MSTICALERTSLXVM2)  - [id:2518524566960299999_59dd003b-a27b-44e9-ae7d-8a36c8609c69]",
        "2019-02-11 00:15:03 - New SSH key added - (MSTICALERTSLXVM2)  - [id:2518524566961369999_b217a70e-cdc3-468f-8b0b-245260f711ca]",
        "2019-02-11 00:15:04 - Behavior similar to common Linux bots detected - (MSTICALERTSLXVM2)  - [id:2518524566954729999_ec11a3d5-26f3-4227-9f60-952d2425a498]",
        "2019-02-11 00:15:06 - Manipulation of host firewall detected - (MSTICALERTSLXVM2)  - [id:2518524566937829999_07601dc4-7a91-40d5-a87e-76bb073ba25e]",
        "2019-02-11 00:15:06 - Behavior similar to Fairware ransomware detected - (MSTICALERTSLXVM2)  - [id:2518524566932629999_518309d1-1ea6-4ad6-af2e-0dcb1465f8ec]",
        "2019-02-11 00:15:06 - Hidden file execution detected - (MSTICALERTSLXVM2)  - [id:2518524566933429999_b257864f-00e4-4ce6-9299-ba368e3fc7fb]",
        "2019-02-11 00:15:06 - Suspicious Download Then Run Activity - (MSTICALERTSLXVM2)  - [id:2518524566936029999_1da7e357-1e5d-4773-8893-2ecc54e14266]",
        "2019-02-11 00:15:07 - Possible credential access tool detected - (MSTICALERTSLXVM2)  - [id:2518524566927599999_4eafd05e-60e0-4dde-b724-d219f3b714ba]",
        "2019-02-11 00:15:08 - Detected file download from a known malicious source - (MSTICALERTSLXVM2)  - [id:2518524566915999999_054e782d-a401-460e-b13a-7904c726af86]",
        "2019-02-11 00:15:08 - Potential overriding of common files - (MSTICALERTSLXVM2)  - [id:2518524566918699999_f116aa3d-69f8-402c-85bb-34a2bb94a3da]",
        "2019-02-11 00:15:08 - Removal of system logs files detected - (MSTICALERTSLXVM2)  - [id:2518524566910199999_3c05d0d4-322c-4f5b-861a-95af788f9bde]",
        "2019-02-11 00:15:09 - Potential reverse shell detected - (MSTICALERTSLXVM2)  - [id:2518524566909129999_f14109db-1eaa-4ef3-922e-6bd875365105]",
        "2019-02-11 00:15:10 - Detected suspicious file download - (MSTICALERTSLXVM2)  - [id:2518524566895729999_f1d65526-f45c-49d0-bba6-cd1499429bf2]",
        "2019-02-11 00:15:10 - Screenshot taken on host - (MSTICALERTSLXVM2)  - [id:2518524566890229999_f7165613-5879-4c5b-a45f-ad348ef779d2]",
        "2019-02-11 00:15:11 - Azure Security Center test alert (not a threat) - (MSTICALERTSLXVM2)  - [id:2518524566887769999_c806f2e5-1f73-4f00-a13f-b8988fd6af40]",
        "2019-02-11 06:15:03 - New SSH key added - (MSTICALERTSLXVM2)  - [id:2518524350967499999_8f5c6ea0-83b7-4e73-97af-4cdd96da443f]",
        "2019-02-11 06:15:03 - An history file has been cleared - (MSTICALERTSLXVM2)  - [id:2518524350964599999_8371d12e-7134-40fb-8a81-0cbc28c68041]",
        "2019-02-11 06:15:03 - Suspicious binary detected - (MSTICALERTSLXVM2)  - [id:2518524350964899999_d2472905-9122-4031-ba1e-4fdb84d8af8d]",
        "2019-02-11 06:15:03 - Detected Persistence Attempt - (MSTICALERTSLXVM2)  - [id:2518524350967669999_1bdc2f12-7205-4a18-a888-f7be90f543a0]",
        "2019-02-11 06:15:04 - Behavior similar to common Linux bots detected - (MSTICALERTSLXVM2)  - [id:2518524350959769999_ec547831-a888-4dc3-adb4-b46339cf6f37]",
        "2019-02-11 06:15:05 - Manipulation of host firewall detected - (MSTICALERTSLXVM2)  - [id:2518524350941899999_669ea6ac-3f6d-4e3a-b09c-ffdf2a609738]",
        "2019-02-11 06:15:06 - Suspicious Download Then Run Activity - (MSTICALERTSLXVM2)  - [id:2518524350939769999_104a3180-e289-494d-866b-6b4c6ac9e780]",
        "2019-02-11 06:15:06 - Hidden file execution detected - (MSTICALERTSLXVM2)  - [id:2518524350936769999_e595c554-a192-49c6-8878-b6a626b8ae17]",
        "2019-02-11 06:15:06 - Possible credential access tool detected - (MSTICALERTSLXVM2)  - [id:2518524350931829999_4e98cca2-39d4-4500-acc7-4e6c78b4039f]",
        "2019-02-11 06:15:06 - Behavior similar to Fairware ransomware detected - (MSTICALERTSLXVM2)  - [id:2518524350936029999_3f18c49f-907f-4520-a631-fa421a43dd7e]",
        "2019-02-11 06:15:07 - Potential overriding of common files - (MSTICALERTSLXVM2)  - [id:2518524350923099999_c994f082-ed6f-4d12-b6a1-edbabf1cd599]",
        "2019-02-11 06:15:07 - Detected file download from a known malicious source - (MSTICALERTSLXVM2)  - [id:2518524350920569999_6667e9d8-bb19-4f9c-8892-04ec21e3e35f]",
        "2019-02-11 06:15:08 - Removal of system logs files detected - (MSTICALERTSLXVM2)  - [id:2518524350915099999_9e6700ec-5c3e-46ff-8266-dad3adc3417f]",
        "2019-02-11 06:15:08 - Potential reverse shell detected - (MSTICALERTSLXVM2)  - [id:2518524350914099999_af1678a1-519e-4124-8f11-e42b857269f2]",
        "2019-02-11 06:15:09 - Detected suspicious file download - (MSTICALERTSLXVM2)  - [id:2518524350902499999_91bfa8bc-a2d7-4fe4-a24e-c86749b60aa1]",
        "2019-02-11 06:15:10 - Screenshot taken on host - (MSTICALERTSLXVM2)  - [id:2518524350897229999_87c3a4fb-47cf-4bab-9d6c-4595aeec289a]",
        "2019-02-11 06:15:10 - Azure Security Center test alert (not a threat) - (MSTICALERTSLXVM2)  - [id:2518524350894599999_3a1027d1-60be-418c-b90b-772562efe871]",
        "2019-02-11 12:15:03 - An history file has been cleared - (MSTICALERTSLXVM2)  - [id:2518524134962369999_1be50d41-3483-4554-87c6-3fd11fefd344]",
        "2019-02-11 12:15:03 - Security incident with shared process detected - (MSTICALERTSLXVM2)  - [id:2518524134965399999_fec3032d-c1f4-43bd-be35-3b34fc06ba46]",
        "2019-02-11 12:15:03 - Detected Persistence Attempt - (MSTICALERTSLXVM2)  - [id:2518524134965499999_586f6e59-32fc-49de-9fe5-097fe020395c]",
        "2019-02-11 12:15:03 - Suspicious binary detected - (MSTICALERTSLXVM2)  - [id:2518524134962699999_83cc677f-22ef-44ba-a786-596a28d11c4f]",
        "2019-02-11 12:15:03 - New SSH key added - (MSTICALERTSLXVM2)  - [id:2518524134965399999_cfa649c9-0e34-4802-87e2-3de84582d0d5]",
        "2019-02-11 12:15:04 - Behavior similar to common Linux bots detected - (MSTICALERTSLXVM2)  - [id:2518524134953129999_5ca287f4-da05-46ff-93ec-cb0f57de8f76]",
        "2019-02-11 12:15:05 - Manipulation of host firewall detected - (MSTICALERTSLXVM2)  - [id:2518524134940729999_a7d11067-6bec-41b5-980e-ba268d37099a]",
        "2019-02-11 12:15:06 - Possible credential access tool detected - (MSTICALERTSLXVM2)  - [id:2518524134931099999_ab2c5b7b-65aa-496a-a209-bc73ade687ce]",
        "2019-02-11 12:15:06 - Hidden file execution detected - (MSTICALERTSLXVM2)  - [id:2518524134936499999_bcc15170-a93a-4468-a74e-a0c9fe54903f]",
        "2019-02-11 12:15:06 - Suspicious Download Then Run Activity - (MSTICALERTSLXVM2)  - [id:2518524134938929999_348461b9-e446-4ed5-ab6c-664dfaab5c38]",
        "2019-02-11 12:15:06 - Behavior similar to Fairware ransomware detected - (MSTICALERTSLXVM2)  - [id:2518524134935729999_6d1edd81-7da2-4e8b-ab7d-a054d837a1c6]",
        "2019-02-11 12:15:07 - Potential overriding of common files - (MSTICALERTSLXVM2)  - [id:2518524134922469999_a0bf44b7-fc92-4a0c-bb5a-dd1e7b55424c]",
        "2019-02-11 12:15:08 - Removal of system logs files detected - (MSTICALERTSLXVM2)  - [id:2518524134913829999_334c1fa5-a35a-43ee-9868-d036cacbb673]",
        "2019-02-11 12:15:08 - Detected file download from a known malicious source - (MSTICALERTSLXVM2)  - [id:2518524134919569999_6218df7e-9418-4f07-914f-f2b852c486fa]",
        "2019-02-11 12:15:08 - Potential reverse shell detected - (MSTICALERTSLXVM2)  - [id:2518524134912669999_bfaddaf9-77cf-404d-87d9-ff8bc1d28d71]",
        "2019-02-11 12:15:09 - Detected suspicious file download - (MSTICALERTSLXVM2)  - [id:2518524134900929999_c9886ba0-f28f-4494-b007-8905a399b8a6]",
        "2019-02-11 12:15:10 - Screenshot taken on host - (MSTICALERTSLXVM2)  - [id:2518524134895799999_f76fa71f-91c9-4de5-a89a-fe884850f546]",
        "2019-02-11 12:15:10 - Azure Security Center test alert (not a threat) - (MSTICALERTSLXVM2)  - [id:2518524134892869999_6590273a-7152-403e-9316-91f6df84ac5a]",
        "2019-02-11 18:15:02 - New SSH key added - (MSTICALERTSLXVM2)  - [id:2518523918973829999_4ececc66-d39e-4767-a606-840b4d0bf1de]",
        "2019-02-11 18:15:02 - Detected Persistence Attempt - (MSTICALERTSLXVM2)  - [id:2518523918973999999_9de4177d-f66a-449e-a82c-7ff61a26fe20]",
        "2019-02-11 18:15:02 - Suspicious binary detected - (MSTICALERTSLXVM2)  - [id:2518523918971129999_9d3f46d3-ffd3-428b-b2a6-2568b42cd786]",
        "2019-02-11 18:15:02 - An history file has been cleared - (MSTICALERTSLXVM2)  - [id:2518523918970829999_f925d30a-7eef-4633-aa40-46ce45123f2d]",
        "2019-02-11 18:15:03 - Behavior similar to common Linux bots detected - (MSTICALERTSLXVM2)  - [id:2518523918965569999_27597a25-db7e-4961-a833-c7495e447570]",
        "2019-02-11 18:15:05 - Suspicious Download Then Run Activity - (MSTICALERTSLXVM2)  - [id:2518523918946469999_8cb61a31-461b-422d-9e74-ed67b7aa007d]",
        "2019-02-11 18:15:05 - Behavior similar to Fairware ransomware detected - (MSTICALERTSLXVM2)  - [id:2518523918941829999_f4a4beb1-b590-4989-8ce8-894c16c7d35d]",
        "2019-02-11 18:15:05 - Manipulation of host firewall detected - (MSTICALERTSLXVM2)  - [id:2518523918948429999_2bcbf9f1-a361-4c75-97d4-7d2b71546b01]",
        "2019-02-11 18:15:05 - Hidden file execution detected - (MSTICALERTSLXVM2)  - [id:2518523918943729999_0f454195-bd1f-401c-8f29-8ee1ec8633cf]",
        "2019-02-11 18:15:06 - Possible credential access tool detected - (MSTICALERTSLXVM2)  - [id:2518523918938369999_756d842a-ab8f-4031-954d-4e1f7b71ef09]",
        "2019-02-11 18:15:07 - Potential reverse shell detected - (MSTICALERTSLXVM2)  - [id:2518523918920529999_001d8425-2941-437e-b612-8e211195190a]",
        "2019-02-11 18:15:07 - Detected file download from a known malicious source - (MSTICALERTSLXVM2)  - [id:2518523918926829999_fdb354a6-e47e-42ee-9235-a630abf20a82]",
        "2019-02-11 18:15:07 - Potential overriding of common files - (MSTICALERTSLXVM2)  - [id:2518523918929029999_6f495a6e-caf2-4968-b4e1-7ef0ef0ee40e]",
        "2019-02-11 18:15:07 - Removal of system logs files detected - (MSTICALERTSLXVM2)  - [id:2518523918921529999_ec96303c-40c5-4708-a64d-dd97b4d2bef0]",
        "2019-02-11 18:15:09 - Detected suspicious file download - (MSTICALERTSLXVM2)  - [id:2518523918907599999_fcac3a43-9328-46f0-9112-b3e90907fd33]",
        "2019-02-11 18:15:09 - Screenshot taken on host - (MSTICALERTSLXVM2)  - [id:2518523918900099999_14042b71-17d0-453f-881f-532ad6be25da]",
        "2019-02-11 18:15:10 - Azure Security Center test alert (not a threat) - (MSTICALERTSLXVM2)  - [id:2518523918896669999_43004d90-c888-475e-bd68-4f5b4c78a53d]",
        "2019-02-12 00:15:03 - Detected Persistence Attempt - (MSTICALERTSLXVM2)  - [id:2518523702963169999_ed0a5d2b-840a-4559-b6f3-4d389b29c48d]",
        "2019-02-12 00:15:03 - Security incident with shared process detected - (MSTICALERTSLXVM2)  - [id:2518523702963029999_2044465a-af07-49f9-b52c-231f9739f8f7]",
        "2019-02-12 00:15:03 - New SSH key added - (MSTICALERTSLXVM2)  - [id:2518523702963029999_0e71c312-9c39-4fb2-9ad1-2355c1e07340]",
        "2019-02-12 00:15:03 - Suspicious binary detected - (MSTICALERTSLXVM2)  - [id:2518523702960169999_6f2b1e47-6e9e-47b1-b1ba-3b6f233585b4]",
        "2019-02-12 00:15:04 - Behavior similar to common Linux bots detected - (MSTICALERTSLXVM2)  - [id:2518523702954699999_fb84b4fc-4016-40e9-a8aa-6324e0222f50]",
        "2019-02-12 00:15:04 - An history file has been cleared - (MSTICALERTSLXVM2)  - [id:2518523702959829999_e81c6b36-9033-4e36-853f-bc6eb84345a1]",
        "2019-02-12 00:15:06 - Manipulation of host firewall detected - (MSTICALERTSLXVM2)  - [id:2518523702937899999_dcf4f912-6cfa-4858-94ed-d38389f3de2c]",
        "2019-02-12 00:15:06 - Behavior similar to Fairware ransomware detected - (MSTICALERTSLXVM2)  - [id:2518523702932399999_a8526d1c-93ff-4a28-9f85-1df0df95b515]",
        "2019-02-12 00:15:06 - Hidden file execution detected - (MSTICALERTSLXVM2)  - [id:2518523702933269999_0305430b-c479-436e-afed-fcd1e4f76ca0]",
        "2019-02-12 00:15:06 - Suspicious Download Then Run Activity - (MSTICALERTSLXVM2)  - [id:2518523702935869999_3238139a-7522-4604-a828-e9b81ec012c0]",
        "2019-02-12 00:15:07 - Possible credential access tool detected - (MSTICALERTSLXVM2)  - [id:2518523702927599999_6cd1a9af-4ba0-4c11-a7ec-eb98c3e5ec25]",
        "2019-02-12 00:15:08 - Detected file download from a known malicious source - (MSTICALERTSLXVM2)  - [id:2518523702915869999_25b930be-1505-4267-b103-2ea2b533b8af]",
        "2019-02-12 00:15:08 - Potential overriding of common files - (MSTICALERTSLXVM2)  - [id:2518523702918499999_b0837617-7c04-4305-91a0-0747c1bc5bd5]",
        "2019-02-12 00:15:09 - Potential reverse shell detected - (MSTICALERTSLXVM2)  - [id:2518523702908829999_9057b182-2136-4005-a2f0-a2016ac89785]",
        "2019-02-12 00:15:09 - Removal of system logs files detected - (MSTICALERTSLXVM2)  - [id:2518523702909999999_4da95701-89e0-42c0-946c-4aec881043c5]",
        "2019-02-12 00:15:10 - Detected suspicious file download - (MSTICALERTSLXVM2)  - [id:2518523702896629999_97fa0144-115d-4037-ac59-aa921ae63f3f]",
        "2019-02-12 00:15:10 - Screenshot taken on host - (MSTICALERTSLXVM2)  - [id:2518523702891329999_b96bdc91-27cc-486b-b12b-fdb49858971f]",
        "2019-02-12 00:15:11 - Azure Security Center test alert (not a threat) - (MSTICALERTSLXVM2)  - [id:2518523702888529999_3b3586ac-3fcd-4bf7-80d6-217ed171a7f6]",
        "2019-02-12 04:05:08 - Detected suspicious file download - (MSTICALERTSLXVM2)  - [id:2518523564918629999_a695955a-4bb4-4622-9152-0d792ec01b43]",
        "2019-02-12 04:05:08 - Behavior similar to common Linux bots detected - (MSTICALERTSLXVM2)  - [id:2518523564918629999_88b8e06f-c633-46d8-bb9c-68c66c5a315d]",
        "2019-02-12 04:19:50 - Behavior similar to common Linux bots detected - (MSTICALERTSLXVM2)  - [id:2518523556097769999_522289b6-2185-4e8e-874f-648462b9f709]",
        "2019-02-13 02:50:38 - Possible suspicious scheduling tasks access detected - (MSTICALERTSLXVM2)  - [id:2518522745615999999_c57a0525-9ca0-4caa-aee8-fd1bb33f785b]"
       ],
       "description": "Select alert :",
       "index": 0,
       "layout": "IPY_MODEL_403c1c76fd9644528aea13a9c8b09a5c",
       "style": "IPY_MODEL_a7c5ac1a5c4541ffb11ab3bbeb1bc2b3"
      }
     },
     "e1ff6a7e8420415981d6decd7b290410": {
      "model_module": "@jupyter-widgets/controls",
      "model_module_version": "1.5.0",
      "model_name": "TextModel",
      "state": {
       "description": "Time (24hr)",
       "layout": "IPY_MODEL_30f162e00cd44e25a23d4e30025a3ab4",
       "style": "IPY_MODEL_8914135875264122a52a553ca359afed",
       "value": "22:04:15"
      }
     },
     "e313c4e3dc0e4592955c22b4c509732d": {
      "model_module": "@jupyter-widgets/controls",
      "model_module_version": "1.5.0",
      "model_name": "DescriptionStyleModel",
      "state": {
       "description_width": "initial"
      }
     },
     "e5881e51195e4ab6bb1e3e13abf51eb5": {
      "model_module": "@jupyter-widgets/controls",
      "model_module_version": "1.5.0",
      "model_name": "DescriptionStyleModel",
      "state": {
       "description_width": ""
      }
     },
     "e6175071d0d1438aa729d71de3632e36": {
      "model_module": "@jupyter-widgets/base",
      "model_module_version": "1.2.0",
      "model_name": "LayoutModel",
      "state": {}
     },
     "e64643b5f94e4cc9aa89948f792c821c": {
      "model_module": "@jupyter-widgets/base",
      "model_module_version": "1.2.0",
      "model_name": "LayoutModel",
      "state": {}
     },
     "e7a284066d2741da9e92a7acdcceb97f": {
      "model_module": "@jupyter-widgets/base",
      "model_module_version": "1.2.0",
      "model_name": "LayoutModel",
      "state": {}
     },
     "e88f1a39c4e6490b83101132451c9ecc": {
      "model_module": "@jupyter-widgets/controls",
      "model_module_version": "1.5.0",
      "model_name": "VBoxModel",
      "state": {
       "children": [
        "IPY_MODEL_d6057710bb7b486bb1f57acb4c5aaf7b",
        "IPY_MODEL_960cfd44d37b4b5cbaca2714a622aad8",
        "IPY_MODEL_1b18b09174234c55839e16ca1228fce9"
       ],
       "layout": "IPY_MODEL_51a9984e01bc4c4e85cafbbb3aea66c8"
      }
     },
     "e897404202024c588ba7c833f4ed2b3a": {
      "model_module": "@jupyter-widgets/controls",
      "model_module_version": "1.5.0",
      "model_name": "SliderStyleModel",
      "state": {
       "description_width": "initial"
      }
     },
     "e8ac4189058a4e86bebab7418e8c6267": {
      "model_module": "@jupyter-widgets/base",
      "model_module_version": "1.2.0",
      "model_name": "LayoutModel",
      "state": {}
     },
     "e99fe9f998644e51ac6718b776b2b6f1": {
      "model_module": "@jupyter-widgets/base",
      "model_module_version": "1.2.0",
      "model_name": "LayoutModel",
      "state": {}
     },
     "ea46a6ad300a4f8c9df30c439cebf70b": {
      "model_module": "@jupyter-widgets/controls",
      "model_module_version": "1.5.0",
      "model_name": "DescriptionStyleModel",
      "state": {
       "description_width": "initial"
      }
     },
     "ea58e7ff809243f799875b1960d0ef0b": {
      "model_module": "@jupyter-widgets/controls",
      "model_module_version": "1.5.0",
      "model_name": "HTMLModel",
      "state": {
       "layout": "IPY_MODEL_e6175071d0d1438aa729d71de3632e36",
       "style": "IPY_MODEL_0edcec2db148489f8bd9b877ef954996",
       "value": "<h4>Set query time boundaries</h4>"
      }
     },
     "ebd1da078011491295746178d59e73b4": {
      "model_module": "@jupyter-widgets/controls",
      "model_module_version": "1.5.0",
      "model_name": "DescriptionStyleModel",
      "state": {
       "description_width": ""
      }
     },
     "edf100c3a5d04f9c885666cff6158b2c": {
      "model_module": "@jupyter-widgets/controls",
      "model_module_version": "1.5.0",
      "model_name": "TextModel",
      "state": {
       "description": "Query start time (UTC):",
       "layout": "IPY_MODEL_9d97accf157247dda57e06ab2cc9d572",
       "style": "IPY_MODEL_83a41b974b234d2e9f424c79071a3c38",
       "value": "2019-02-08 02:59:15"
      }
     },
     "f0e581b65287470e959704e2de1b88e9": {
      "model_module": "@jupyter-widgets/base",
      "model_module_version": "1.2.0",
      "model_name": "LayoutModel",
      "state": {}
     },
     "f22ca34d761d49a5a33a3a9f3516cc68": {
      "model_module": "@jupyter-widgets/controls",
      "model_module_version": "1.5.0",
      "model_name": "DescriptionStyleModel",
      "state": {
       "description_width": "initial"
      }
     },
     "f33b7613c3114af09fd1ad67098dce0b": {
      "model_module": "@jupyter-widgets/base",
      "model_module_version": "1.2.0",
      "model_name": "LayoutModel",
      "state": {}
     },
     "f38af86f746b40d5ae4460089bcae2f4": {
      "model_module": "@jupyter-widgets/controls",
      "model_module_version": "1.5.0",
      "model_name": "TextModel",
      "state": {
       "description": "Query start time (UTC):",
       "layout": "IPY_MODEL_c6a421fd4b344faaaa1ead96410d8510",
       "style": "IPY_MODEL_72226777a23d475598bdfbd46662b767",
       "value": "2019-02-08 22:04:15"
      }
     },
     "f47952d07e614839998a1ee214ed74d7": {
      "model_module": "@jupyter-widgets/controls",
      "model_module_version": "1.5.0",
      "model_name": "TextModel",
      "state": {
       "description": "Query end time (UTC) :  ",
       "layout": "IPY_MODEL_89f51b6517b44d9db212cbbf6c77f8ba",
       "style": "IPY_MODEL_28adff70949d4c5f9c7a4b77ccd2c458",
       "value": "2019-02-14 22:04:15"
      }
     },
     "f4fb8d9cf2ff45958ac3565e4691de5d": {
      "model_module": "@jupyter-widgets/base",
      "model_module_version": "1.2.0",
      "model_name": "LayoutModel",
      "state": {
       "height": "300px",
       "width": "95%"
      }
     },
     "f5adfcb0cc7940f09472dc0c8564c29e": {
      "model_module": "@jupyter-widgets/base",
      "model_module_version": "1.2.0",
      "model_name": "LayoutModel",
      "state": {}
     },
     "f636a74882ef48eaa38db9012259ee1f": {
      "model_module": "@jupyter-widgets/controls",
      "model_module_version": "1.5.0",
      "model_name": "DescriptionStyleModel",
      "state": {
       "description_width": ""
      }
     },
     "f692fddfe4db490aaefa43ec26711476": {
      "model_module": "@jupyter-widgets/controls",
      "model_module_version": "1.5.0",
      "model_name": "HTMLModel",
      "state": {
       "layout": "IPY_MODEL_ce6ca8b1c2a44276a2a1e9d9e42691a7",
       "style": "IPY_MODEL_9dfa250c238f4e0dae86cb4df42d4498",
       "value": "<h4>Set query time boundaries</h4>"
      }
     },
     "f707bf0d6eb5476e9beb39e1cecb2867": {
      "model_module": "@jupyter-widgets/controls",
      "model_module_version": "1.5.0",
      "model_name": "HBoxModel",
      "state": {
       "children": [
        "IPY_MODEL_fe55fe5199154d6382e40f134ed56d2e",
        "IPY_MODEL_3f6478a9d13e472a91326fd078ac091a"
       ],
       "layout": "IPY_MODEL_d797cc0cad244cb7afd7349cc56dfaff"
      }
     },
     "fbfd08409527449f9b5e234c38ac2214": {
      "model_module": "@jupyter-widgets/controls",
      "model_module_version": "1.5.0",
      "model_name": "TextModel",
      "state": {
       "description": "Filter alerts by title:",
       "layout": "IPY_MODEL_b01875703cc047f29c56c42a86073c76",
       "style": "IPY_MODEL_88a69e87f7724b52a68d3738943a75f0"
      }
     },
     "fe55fe5199154d6382e40f134ed56d2e": {
      "model_module": "@jupyter-widgets/controls",
      "model_module_version": "1.5.0",
      "model_name": "DatePickerModel",
      "state": {
       "description": "Origin Date",
       "disabled": false,
       "layout": "IPY_MODEL_e99fe9f998644e51ac6718b776b2b6f1",
       "style": "IPY_MODEL_04e78bced7094c70ac015376869bfd11",
       "value": {
        "date": 13,
        "month": 1,
        "year": 2019
       }
      }
     },
     "ff5934b5d7474884baf7350203bad01a": {
      "model_module": "@jupyter-widgets/controls",
      "model_module_version": "1.5.0",
      "model_name": "VBoxModel",
      "state": {
       "children": [
        "IPY_MODEL_600ef31c26d94422a6f481fe7322803e",
        "IPY_MODEL_75b98d6e956e41aab3a6c21f00800540",
        "IPY_MODEL_5c3599511918469ca8a921ad4ca4cd12"
       ],
       "layout": "IPY_MODEL_6628366d2e1d43b58f1b655ffb6bba26"
      }
     },
     "ffa8aad06cf74ac1bf9183594df4a24d": {
      "model_module": "@jupyter-widgets/controls",
      "model_module_version": "1.5.0",
      "model_name": "SelectModel",
      "state": {
       "_options_labels": [
        "2019-02-11 18:10:58 - Security incident with shared process detected - (MSTICALERTSWIN1)  - [id:2518523921419094607_db29572d-7593-48c5-97b6-4d6d60ce6bf3]",
        "2019-02-12 00:15:03 - Security incident with shared process detected - (MSTICALERTSLXVM2)  - [id:2518523702963029999_2044465a-af07-49f9-b52c-231f9739f8f7]",
        "2019-02-12 04:05:08 - Detected suspicious file download - (MSTICALERTSLXVM2)  - [id:2518523564918629999_a695955a-4bb4-4622-9152-0d792ec01b43]",
        "2019-02-12 04:05:08 - Behavior similar to common Linux bots detected - (MSTICALERTSLXVM2)  - [id:2518523564918629999_88b8e06f-c633-46d8-bb9c-68c66c5a315d]",
        "2019-02-12 04:19:50 - Behavior similar to common Linux bots detected - (MSTICALERTSLXVM2)  - [id:2518523556097769999_522289b6-2185-4e8e-874f-648462b9f709]",
        "2019-02-12 11:48:01 - Modified system binary discovered - ()  - [id:2518523287189999999_6e644c01-6feb-436b-9c96-46a86c9c16aa]",
        "2019-02-13 02:50:38 - Possible suspicious scheduling tasks access detected - (MSTICALERTSLXVM2)  - [id:2518522745615999999_c57a0525-9ca0-4caa-aee8-fd1bb33f785b]"
       ],
       "description": "Select alert :",
       "index": 5,
       "layout": "IPY_MODEL_001993082dc144cc88449009f487f1f3",
       "style": "IPY_MODEL_1c3b7dd5dda649d7aa71b356ef0469c7"
      }
     },
     "ffb41755f0984ab997646dfd40d59975": {
      "model_module": "@jupyter-widgets/controls",
      "model_module_version": "1.5.0",
      "model_name": "DescriptionStyleModel",
      "state": {
       "description_width": "initial"
      }
     }
    },
    "version_major": 2,
    "version_minor": 0
   }
  }
 },
 "nbformat": 4,
 "nbformat_minor": 4
}
