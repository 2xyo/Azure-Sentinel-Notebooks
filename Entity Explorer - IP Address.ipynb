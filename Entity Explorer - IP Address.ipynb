{
 "cells": [
  {
   "cell_type": "markdown",
   "metadata": {},
   "source": [
    "# Title: IP Explorer\n",
    "<details>\n",
    "    <summary> <u>Details...</u></summary>\n",
    "    \n",
    "**Notebook Version:** 1.0<br>\n",
    "**Python Version:** Python 3.7 (including Python 3.6 - AzureML)<br>\n",
    "**Required Packages**: kqlmagic, msticpy, pandas, numpy, matplotlib, networkx, ipywidgets, ipython, scikit_learn, dnspython, ipwhois, folium, holoviews<br>\n",
    "**Platforms Supported**:\n",
    "- Azure Notebooks Free Compute\n",
    "- Azure Notebooks DSVM\n",
    "- OS Independent\n",
    "\n",
    "**Data Sources Required**:\n",
    "- Log Analytics \n",
    "    - Heartbeat\n",
    "    - SecurityAlert\n",
    "    - SecurityEvent\n",
    "    - AzureNetworkAnalytics_CL\n",
    "    \n",
    "- (Optional)  \n",
    "    - VirusTotal (with API key)\n",
    "    - Alienvault OTX (with API key) \n",
    "    - IBM Xforce (with API key) \n",
    "    - CommonSecurityLog\n",
    "</details>\n",
    "\n",
    "\n",
    "Brings together a series of queries and visualizations to help you assess the security state of an IP address. It works with both internal addresses and public addresses. \n",
    "<br> For internal addresses it focuses on traffic patterns and behavior of the host using that IP address. \n",
    "<br> For public IPs it lets you perform threat intelligence lookups, passive dns, whois and other checks. \n",
    "<br>It also allows you to examine any network traffic between the external IP address and your resources."
   ]
  },
  {
   "cell_type": "markdown",
   "metadata": {
    "toc": true
   },
   "source": [
    "<h1>Table of Contents<span class=\"tocSkip\"></span></h1>\n",
    "<div class=\"toc\"><ul class=\"toc-item\"><li><span><a href=\"#Hunting-Hypothesis\" data-toc-modified-id=\"Hunting-Hypothesis-1\"><span class=\"toc-item-num\">1&nbsp;&nbsp;</span>Hunting Hypothesis</a></span><ul class=\"toc-item\"><li><span><a href=\"#IP-Explorer-Mindmap\" data-toc-modified-id=\"IP-Explorer-Mindmap-1.1\"><span class=\"toc-item-num\">1.1&nbsp;&nbsp;</span>IP Explorer Mindmap</a></span></li><li><span><a href=\"#Notebook-initialization\" data-toc-modified-id=\"Notebook-initialization-1.2\"><span class=\"toc-item-num\">1.2&nbsp;&nbsp;</span>Notebook initialization</a></span></li><li><span><a href=\"#Get-WorkspaceId-and-Authenticate-to-Log-Analytics\" data-toc-modified-id=\"Get-WorkspaceId-and-Authenticate-to-Log-Analytics-1.3\"><span class=\"toc-item-num\">1.3&nbsp;&nbsp;</span>Get WorkspaceId and Authenticate to Log Analytics</a></span></li></ul></li><li><span><a href=\"#Enter-the-IP-Address-and-query-time-window\" data-toc-modified-id=\"Enter-the-IP-Address-and-query-time-window-2\"><span class=\"toc-item-num\">2&nbsp;&nbsp;</span>Enter the IP Address and query time window</a></span></li><li><span><a href=\"#Determine-IP-Address-Type\" data-toc-modified-id=\"Determine-IP-Address-Type-3\"><span class=\"toc-item-num\">3&nbsp;&nbsp;</span>Determine IP Address Type</a></span></li><li><span><a href=\"#External-IP\" data-toc-modified-id=\"External-IP-4\"><span class=\"toc-item-num\">4&nbsp;&nbsp;</span>External IP</a></span><ul class=\"toc-item\"><li><span><a href=\"#GeoIP-Lookups-for-External-IP-Addresses\" data-toc-modified-id=\"GeoIP-Lookups-for-External-IP-Addresses-4.1\"><span class=\"toc-item-num\">4.1&nbsp;&nbsp;</span>GeoIP Lookups for External IP Addresses</a></span></li><li><span><a href=\"#Whois-Registrars-for-External-IP-Addresses\" data-toc-modified-id=\"Whois-Registrars-for-External-IP-Addresses-4.2\"><span class=\"toc-item-num\">4.2&nbsp;&nbsp;</span>Whois Registrars for External IP Addresses</a></span></li><li><span><a href=\"#Opensource-and-Azure-Sentinel-ThreatIntel-Lookups\" data-toc-modified-id=\"Opensource-and-Azure-Sentinel-ThreatIntel-Lookups-4.3\"><span class=\"toc-item-num\">4.3&nbsp;&nbsp;</span>Opensource and Azure Sentinel ThreatIntel Lookups</a></span><ul class=\"toc-item\"><li><span><a href=\"#Configure-your-TI-Provider-settings\" data-toc-modified-id=\"Configure-your-TI-Provider-settings-4.3.1\"><span class=\"toc-item-num\">4.3.1&nbsp;&nbsp;</span>Configure your TI Provider settings</a></span></li></ul></li><li><span><a href=\"#Passive-DNS-lookups-for-External-IP-Addresses\" data-toc-modified-id=\"Passive-DNS-lookups-for-External-IP-Addresses-4.4\"><span class=\"toc-item-num\">4.4&nbsp;&nbsp;</span>Passive DNS lookups for External IP Addresses</a></span></li></ul></li><li><span><a href=\"#Internal-IP-Address\" data-toc-modified-id=\"Internal-IP-Address-5\"><span class=\"toc-item-num\">5&nbsp;&nbsp;</span>Internal IP Address</a></span><ul class=\"toc-item\"><li><span><a href=\"#Data-Sources-available-to-query-related-to-IP\" data-toc-modified-id=\"Data-Sources-available-to-query-related-to-IP-5.1\"><span class=\"toc-item-num\">5.1&nbsp;&nbsp;</span>Data Sources available to query related to IP</a></span></li><li><span><a href=\"#Check-if-IP-is-assigned-to-multiple-hostnames\" data-toc-modified-id=\"Check-if-IP-is-assigned-to-multiple-hostnames-5.2\"><span class=\"toc-item-num\">5.2&nbsp;&nbsp;</span>Check if IP is assigned to multiple hostnames</a></span></li><li><span><a href=\"#System-Info\" data-toc-modified-id=\"System-Info-5.3\"><span class=\"toc-item-num\">5.3&nbsp;&nbsp;</span>System Info</a></span></li><li><span><a href=\"#ServiceMap---Get-List-of-Services-for-Host\" data-toc-modified-id=\"ServiceMap---Get-List-of-Services-for-Host-5.4\"><span class=\"toc-item-num\">5.4&nbsp;&nbsp;</span>ServiceMap - Get List of Services for Host</a></span></li></ul></li><li><span><a href=\"#Related-Alerts\" data-toc-modified-id=\"Related-Alerts-6\"><span class=\"toc-item-num\">6&nbsp;&nbsp;</span>Related Alerts</a></span><ul class=\"toc-item\"><li><span><a href=\"#Visualization---Timeline-of-Related-Alerts\" data-toc-modified-id=\"Visualization---Timeline-of-Related-Alerts-6.1\"><span class=\"toc-item-num\">6.1&nbsp;&nbsp;</span>Visualization - Timeline of Related Alerts</a></span></li><li><span><a href=\"#Browse-List-of-Related-Alerts\" data-toc-modified-id=\"Browse-List-of-Related-Alerts-6.2\"><span class=\"toc-item-num\">6.2&nbsp;&nbsp;</span>Browse List of Related Alerts</a></span></li></ul></li><li><span><a href=\"#Related-Hosts\" data-toc-modified-id=\"Related-Hosts-7\"><span class=\"toc-item-num\">7&nbsp;&nbsp;</span>Related Hosts</a></span><ul class=\"toc-item\"><li><ul class=\"toc-item\"><li><span><a href=\"#NOTE---the-following-sections-are-only-relevant-for-Internal-IP-Addresses.\" data-toc-modified-id=\"NOTE---the-following-sections-are-only-relevant-for-Internal-IP-Addresses.-7.0.1\"><span class=\"toc-item-num\">7.0.1&nbsp;&nbsp;</span><strong>NOTE - the following sections are only relevant for Internal IP Addresses.</strong></a></span></li></ul></li><li><span><a href=\"#Visualization---Networkx-Graph\" data-toc-modified-id=\"Visualization---Networkx-Graph-7.1\"><span class=\"toc-item-num\">7.1&nbsp;&nbsp;</span>Visualization - Networkx Graph</a></span></li></ul></li><li><span><a href=\"#Related-Accounts\" data-toc-modified-id=\"Related-Accounts-8\"><span class=\"toc-item-num\">8&nbsp;&nbsp;</span>Related Accounts</a></span><ul class=\"toc-item\"><li><span><a href=\"#Visualization---Networkx-Graph\" data-toc-modified-id=\"Visualization---Networkx-Graph-8.1\"><span class=\"toc-item-num\">8.1&nbsp;&nbsp;</span>Visualization - Networkx Graph</a></span></li></ul></li><li><span><a href=\"#Logon-Summary-for-Related-Entities\" data-toc-modified-id=\"Logon-Summary-for-Related-Entities-9\"><span class=\"toc-item-num\">9&nbsp;&nbsp;</span>Logon Summary for Related Entities</a></span><ul class=\"toc-item\"><li><span><a href=\"#HeatMap-for-Weekly-failed-logons\" data-toc-modified-id=\"HeatMap-for-Weekly-failed-logons-9.1\"><span class=\"toc-item-num\">9.1&nbsp;&nbsp;</span>HeatMap for Weekly failed logons</a></span></li><li><span><a href=\"#Host-Logons-Timeline\" data-toc-modified-id=\"Host-Logons-Timeline-9.2\"><span class=\"toc-item-num\">9.2&nbsp;&nbsp;</span>Host Logons Timeline</a></span></li><li><span><a href=\"#Failed-Logons-Timeline\" data-toc-modified-id=\"Failed-Logons-Timeline-9.3\"><span class=\"toc-item-num\">9.3&nbsp;&nbsp;</span>Failed Logons Timeline</a></span></li></ul></li><li><span><a href=\"#Network-Connection-Analysis\" data-toc-modified-id=\"Network-Connection-Analysis-10\"><span class=\"toc-item-num\">10&nbsp;&nbsp;</span>Network Connection Analysis</a></span><ul class=\"toc-item\"><li><span><a href=\"#Network-Check-Communications-with-Other-Hosts\" data-toc-modified-id=\"Network-Check-Communications-with-Other-Hosts-10.1\"><span class=\"toc-item-num\">10.1&nbsp;&nbsp;</span>Network Check Communications with Other Hosts</a></span></li><li><span><a href=\"#Query-Flows-by-IP-Address\" data-toc-modified-id=\"Query-Flows-by-IP-Address-10.2\"><span class=\"toc-item-num\">10.2&nbsp;&nbsp;</span>Query Flows by IP Address</a></span></li><li><span><a href=\"#Bulk-whois-lookup\" data-toc-modified-id=\"Bulk-whois-lookup-10.3\"><span class=\"toc-item-num\">10.3&nbsp;&nbsp;</span>Bulk whois lookup</a></span></li><li><span><a href=\"#Choose-ASNs/IPs-to-Check-for-Threat-Intel-Reports\" data-toc-modified-id=\"Choose-ASNs/IPs-to-Check-for-Threat-Intel-Reports-10.4\"><span class=\"toc-item-num\">10.4&nbsp;&nbsp;</span>Choose ASNs/IPs to Check for Threat Intel Reports</a></span></li><li><span><a href=\"#GeoIP-Map-of-External-IPs\" data-toc-modified-id=\"GeoIP-Map-of-External-IPs-10.5\"><span class=\"toc-item-num\">10.5&nbsp;&nbsp;</span>GeoIP Map of External IPs</a></span></li><li><span><a href=\"#Outbound-Data-transfer-Time-Series-Anomalies\" data-toc-modified-id=\"Outbound-Data-transfer-Time-Series-Anomalies-10.6\"><span class=\"toc-item-num\">10.6&nbsp;&nbsp;</span>Outbound Data transfer Time Series Anomalies</a></span></li></ul></li><li><span><a href=\"#Conclusion\" data-toc-modified-id=\"Conclusion-11\"><span class=\"toc-item-num\">11&nbsp;&nbsp;</span>Conclusion</a></span><ul class=\"toc-item\"><li><span><a href=\"#List-of-Suspicious-Activities/-Observables/Hunting-bookmarks\" data-toc-modified-id=\"List-of-Suspicious-Activities/-Observables/Hunting-bookmarks-11.1\"><span class=\"toc-item-num\">11.1&nbsp;&nbsp;</span>List of Suspicious Activities/ Observables/Hunting bookmarks</a></span></li></ul></li><li><span><a href=\"#Appendices\" data-toc-modified-id=\"Appendices-12\"><span class=\"toc-item-num\">12&nbsp;&nbsp;</span>Appendices</a></span></li><li><span><a href=\"#Available-DataFrames\" data-toc-modified-id=\"Available-DataFrames-13\"><span class=\"toc-item-num\">13&nbsp;&nbsp;</span>Available DataFrames</a></span><ul class=\"toc-item\"><li><span><a href=\"#Saving-Data-to-Excel\" data-toc-modified-id=\"Saving-Data-to-Excel-13.1\"><span class=\"toc-item-num\">13.1&nbsp;&nbsp;</span>Saving Data to Excel</a></span></li></ul></li><li><span><a href=\"#Configuration\" data-toc-modified-id=\"Configuration-14\"><span class=\"toc-item-num\">14&nbsp;&nbsp;</span>Configuration</a></span><ul class=\"toc-item\"><li><span><a href=\"#msticpyconfig.yaml-configuration-File\" data-toc-modified-id=\"msticpyconfig.yaml-configuration-File-14.1\"><span class=\"toc-item-num\">14.1&nbsp;&nbsp;</span><code>msticpyconfig.yaml</code> configuration File</a></span></li></ul></li></ul></div>"
   ]
  },
  {
   "cell_type": "markdown",
   "metadata": {},
   "source": [
    "<a></a>[Contents](#toc)\n",
    "## Hunting Hypothesis\n",
    "Our broad initial hunting hypothesis is that a we have received IP address entity which is suspected to be compromized internal host or external public address to whom internal hosts are communicating in malicious manner, we will need to hunt from a range of different positions to validate or disprove this hypothesis.\n"
   ]
  },
  {
   "cell_type": "markdown",
   "metadata": {},
   "source": [
    "<a></a>[Contents](#toc)\n",
    "### IP Explorer Mindmap\n",
    "Below mindmap diagram shows hunting workflow depending upon the type of IP address provided\n",
    "\n",
    "![IPExplorerMindMap](https://github.com/Azure/Azure-Sentinel-Notebooks/raw/master/images/nb_ipexplorer-mindmap.png)"
   ]
  },
  {
   "cell_type": "markdown",
   "metadata": {},
   "source": [
    "---\n",
    "### Notebook initialization\n",
    "The next cell:\n",
    "- Checks for the correct Python version\n",
    "- Checks versions and optionally installs required packages\n",
    "- Imports the required packages into the notebook\n",
    "- Sets a number of configuration options.\n",
    "\n",
    "This should complete without errors. If you encounter errors or warnings look at the following two notebooks:\n",
    "- [TroubleShootingNotebooks](https://github.com/Azure/Azure-Sentinel-Notebooks/blob/master/TroubleShootingNotebooks.ipynb)\n",
    "- [ConfiguringNotebookEnvironment](https://github.com/Azure/Azure-Sentinel-Notebooks/blob/master/ConfiguringNotebookEnvironment.ipynb)\n",
    "\n",
    "If you are running in the Azure Sentinel Notebooks environment (Azure Notebooks or Azure ML) you can run live versions of these notebooks:\n",
    "- [Run TroubleShootingNotebooks](./TroubleShootingNotebooks.ipynb)\n",
    "- [Run ConfiguringNotebookEnvironment](./ConfiguringNotebookEnvironment.ipynb)\n",
    "\n",
    "You may also need to do some additional configuration to successfully use functions such as Threat Intelligence service lookup and Geo IP lookup. \n",
    "There are more details about this in the `ConfiguringNotebookEnvironment` notebook and in these documents:\n",
    "- [msticpy configuration](https://msticpy.readthedocs.io/en/latest/getting_started/msticpyconfig.html)\n",
    "- [Threat intelligence provider configuration](https://msticpy.readthedocs.io/en/latest/data_acquisition/TIProviders.html#configuration-file)\n"
   ]
  },
  {
   "cell_type": "code",
   "execution_count": 1,
   "metadata": {
    "ExecuteTime": {
     "end_time": "2020-05-15T23:01:51.949751Z",
     "start_time": "2020-05-15T23:01:51.909753Z"
    }
   },
   "outputs": [
    {
     "data": {
      "text/html": [
       "<h3>Starting Notebook setup...</h3>"
      ],
      "text/plain": [
       "<IPython.core.display.HTML object>"
      ]
     },
     "metadata": {},
     "output_type": "display_data"
    },
    {
     "data": {
      "text/html": [
       "Checking Python kernel version..."
      ],
      "text/plain": [
       "<IPython.core.display.HTML object>"
      ]
     },
     "metadata": {},
     "output_type": "display_data"
    },
    {
     "data": {
      "text/html": [
       "Python kernel version 3.7.9 OK<br>"
      ],
      "text/plain": [
       "<IPython.core.display.HTML object>"
      ]
     },
     "metadata": {},
     "output_type": "display_data"
    },
    {
     "data": {
      "text/html": [
       "Checking msticpy version..."
      ],
      "text/plain": [
       "<IPython.core.display.HTML object>"
      ]
     },
     "metadata": {},
     "output_type": "display_data"
    },
    {
     "data": {
      "text/html": [
       "msticpy version 1.0.0 OK<br>"
      ],
      "text/plain": [
       "<IPython.core.display.HTML object>"
      ]
     },
     "metadata": {},
     "output_type": "display_data"
    },
    {
     "name": "stdout",
     "output_type": "stream",
     "text": [
      "msticpy version installed: 1.0.0rc4 latest published: 0.9.0\n",
      "Latest version is installed.\n",
      "Processing imports....\n",
      "All packages are already installed\n",
      "Checking configuration....\n",
      "No errors found.\n",
      "No warnings found.\n",
      "Setting notebook options....\n"
     ]
    },
    {
     "data": {
      "text/html": [
       "<h3>Notebook setup complete</h3>"
      ],
      "text/plain": [
       "<IPython.core.display.HTML object>"
      ]
     },
     "metadata": {},
     "output_type": "display_data"
    }
   ],
   "source": [
    "from pathlib import Path\n",
    "from IPython.display import display, HTML\n",
    "\n",
    "REQ_PYTHON_VER=(3, 6)\n",
    "REQ_MSTICPY_VER=(1, 0, 0)\n",
    "\n",
    "display(HTML(\"<h3>Starting Notebook setup...</h3>\"))\n",
    "if Path(\"./utils/nb_check.py\").is_file():\n",
    "    from utils.nb_check import check_versions\n",
    "    check_versions(REQ_PYTHON_VER, REQ_MSTICPY_VER)\n",
    "\n",
    "# You may need to manually install msticpy with\n",
    "# !pip install msticpy[azsentinel]\n",
    "\n",
    "from msticpy.nbtools import nbinit\n",
    "nbinit.init_notebook(\n",
    "    namespace=globals(),\n",
    "    additional_packages=[\"msticnb>=0.2\"],\n",
    "    #extra_imports=[\"ipwhois, IPWhois\"]\n",
    ");\n"
   ]
  },
  {
   "cell_type": "code",
   "execution_count": 2,
   "metadata": {},
   "outputs": [
    {
     "data": {
      "text/html": [
       "<p style='font-weight: bold;;font-size: 130%'>Warning: No Azure Sentinel configuration found.</p>"
      ],
      "text/plain": [
       "<IPython.core.display.HTML object>"
      ]
     },
     "metadata": {},
     "output_type": "display_data"
    },
    {
     "data": {
      "text/html": [
       "<p style=''>Please enter the workspace ID and tenant Id to allow connection to the Azure Sentinel workspace.</p>"
      ],
      "text/plain": [
       "<IPython.core.display.HTML object>"
      ]
     },
     "metadata": {},
     "output_type": "display_data"
    },
    {
     "data": {
      "application/vnd.jupyter.widget-view+json": {
       "model_id": "327eedef1d2e40048732dc00ce2c15ea",
       "version_major": 2,
       "version_minor": 0
      },
      "text/plain": [
       "VBox(children=(Text(value='', description='Workspace Id:', layout=Layout(width='95%'), style=DescriptionStyle(…"
      ]
     },
     "metadata": {},
     "output_type": "display_data"
    },
    {
     "data": {
      "text/html": [
       "<p style=''>You can avoid this prompt in future by following the guidance in the <a href='https://msticpy.readthedocs.io/en/latest/getting_started/msticpyconfig.html'>MSTICPy Configuration Documentation</a></p>"
      ],
      "text/plain": [
       "<IPython.core.display.HTML object>"
      ]
     },
     "metadata": {},
     "output_type": "display_data"
    }
   ],
   "source": [
    "ws_config = WorkspaceConfig()\n",
    "ws_config.prompt_for_ws()"
   ]
  },
  {
   "cell_type": "markdown",
   "metadata": {},
   "source": [
    "<a></a>[Contents](#toc)\n",
    "### Get WorkspaceId and Authenticate to Log Analytics \n",
    "<details>\n",
    "    <summary> <u>Details...</u></summary>\n",
    "If you are using user/device authentication, run the following cell. \n",
    "- Click the 'Copy code to clipboard and authenticate' button.\n",
    "- This will pop up an Azure Active Directory authentication dialog (in a new tab or browser window). The device code will have been copied to the clipboard. \n",
    "- Select the text box and paste (Ctrl-V/Cmd-V) the copied value. \n",
    "- You should then be redirected to a user authentication page where you should authenticate with a user account that has permission to query your Log Analytics workspace.\n",
    "\n",
    "Use the following syntax if you are authenticating using an Azure Active Directory AppId and Secret:\n",
    "```\n",
    "%kql loganalytics://tenant(aad_tenant).workspace(WORKSPACE_ID).clientid(client_id).clientsecret(client_secret)\n",
    "```\n",
    "instead of\n",
    "```\n",
    "%kql loganalytics://code().workspace(WORKSPACE_ID)\n",
    "```\n",
    "\n",
    "Note: you may occasionally see a JavaScript error displayed at the end of the authentication - you can safely ignore this.<br>\n",
    "On successful authentication you should see a ```popup schema``` button.\n",
    "To find your Workspace Id go to [Log Analytics](https://ms.portal.azure.com/#blade/HubsExtension/Resources/resourceType/Microsoft.OperationalInsights%2Fworkspaces). Look at the workspace properties to find the ID.\n",
    "</details>"
   ]
  },
  {
   "cell_type": "code",
   "execution_count": 3,
   "metadata": {
    "ExecuteTime": {
     "end_time": "2020-05-15T23:02:52.662562Z",
     "start_time": "2020-05-15T23:02:52.653563Z"
    }
   },
   "outputs": [
    {
     "name": "stdout",
     "output_type": "stream",
     "text": [
      "Please wait. Loading Kqlmagic extension...\n",
      "done\n"
     ]
    }
   ],
   "source": [
    "# See if we have an Azure Sentinel Workspace defined in our config file.\n",
    "# If not, let the user specify Workspace and Tenant IDs\n",
    "from msticpy.nbtools.wsconfig import WorkspaceConfig\n",
    "\n",
    "ws_config = WorkspaceConfig()\n",
    "if not ws_config.config_loaded:\n",
    "    md(\n",
    "        \"Please enter the workspace ID and tenant Id\"\n",
    "        + \" to allow connection to the Azure Sentinel workspace.\"\n",
    "    )\n",
    "    ws_id_wgt = widgets.Text(description=\"Workspace Id:\", **WIDGET_DEFAULTS)\n",
    "    ten_id_wgt = widgets.Text(description=\"Tenant Id:\", **WIDGET_DEFAULTS)\n",
    "\n",
    "    def update_ws(chg):\n",
    "        ws_config[\"workspace_id\"] = chg.get(\"new\")\n",
    "\n",
    "    def update_tnt(chg):\n",
    "        ws_config[\"tenant_id\"] = chg.get(\"new\")\n",
    "\n",
    "    ws_id_wgt.observe(update_ws, names=\"value\")\n",
    "    ten_id_wgt.observe(update_ws, names=\"value\")\n",
    "    display(widgets.VBox([ws_id_wgt, ten_id_wgt]))\n",
    "    \n",
    "qry_prov = QueryProvider(data_environment=\"AzureSentinel\")\n",
    "print(\"done\")"
   ]
  },
  {
   "cell_type": "markdown",
   "metadata": {},
   "source": [
    "# TODO Change workspace"
   ]
  },
  {
   "cell_type": "code",
   "execution_count": 4,
   "metadata": {},
   "outputs": [
    {
     "data": {
      "text/html": [
       "<!DOCTYPE html>\n",
       "            <html><body>\n",
       "            <div style=''>\n",
       "            <a href='http://127.0.0.1:1255/webbrowser?url=http%3A//127.0.0.1%3A1255/files/.kqlmagic/temp_files/d3b9d090-d109-48e1-b7ea-cab5c189b27f/popup__52b1ab41-869e-4138-9e40-2a4457f09bf0_at_loganalytics_schema.html%3Fkernelid%3Dd3b9d090-d109-48e1-b7ea-cab5c189b27f&kernelid=d3b9d090-d109-48e1-b7ea-cab5c189b27f' style='padding: 2px 6px 2px 6px; color: #333333; background-color: #EEEEEE; border-top: 1px solid #CCCCCC; border-right: 1px solid #333333; border-bottom: 1px solid #333333; border-left: 1px solid #CCCCCC' target='popup__52b1ab41-869e-4138-9e40-2a4457f09bf0_at_loganalytics_schema'>popup schema 52b1ab41-869e-4138-9e40-2a4457f09bf0@loganalytics</a>\n",
       "            </div>\n",
       "            </body></html>"
      ],
      "text/plain": [
       "<IPython.core.display.HTML object>"
      ]
     },
     "metadata": {},
     "output_type": "display_data"
    }
   ],
   "source": [
    "# Authenticate to Azure Sentinel workspace\n",
    "qry_prov.connect(ws_config)"
   ]
  },
  {
   "cell_type": "code",
   "execution_count": 5,
   "metadata": {},
   "outputs": [
    {
     "name": "stdout",
     "output_type": "stream",
     "text": [
      "Notebooklets: 8 notebooklets loaded.\n",
      "Using Open PageRank. See https://www.domcop.com/openpagerank/what-is-openpagerank\n"
     ]
    },
    {
     "data": {
      "text/html": [
       "\n",
       "This product includes GeoLite2 data created by MaxMind, available from\n",
       "<a href=\"https://www.maxmind.com\">https://www.maxmind.com</a>.\n"
      ],
      "text/plain": [
       "<IPython.core.display.HTML object>"
      ]
     },
     "metadata": {},
     "output_type": "display_data"
    },
    {
     "data": {
      "text/html": [
       "\n",
       "This library uses services provided by ipstack.\n",
       "<a href=\"https://ipstack.com\">https://ipstack.com</a>"
      ],
      "text/plain": [
       "<IPython.core.display.HTML object>"
      ]
     },
     "metadata": {},
     "output_type": "display_data"
    },
    {
     "name": "stdout",
     "output_type": "stream",
     "text": [
      "Using Open PageRank. See https://www.domcop.com/openpagerank/what-is-openpagerank\n",
      "Notebooklets: Loaded providers: AzureSentinel, geolitelookup, tilookup\n"
     ]
    }
   ],
   "source": [
    "import msticnb as nb\n",
    "pivot = Pivot(globals())\n",
    "nb.init(query_provider=qry_prov)"
   ]
  },
  {
   "cell_type": "markdown",
   "metadata": {},
   "source": [
    "<a></a>[Contents](#toc)\n",
    "## Enter the IP Address and query time window\n",
    "\n",
    "Type the IP address you want to search for and the time bounds over which search.\n",
    "\n",
    "You can specify the IP address value in the widget e.g. 192.168.1.1"
   ]
  },
  {
   "cell_type": "code",
   "execution_count": 6,
   "metadata": {
    "ExecuteTime": {
     "end_time": "2020-05-15T23:03:22.632179Z",
     "start_time": "2020-05-15T23:03:22.619179Z"
    }
   },
   "outputs": [
    {
     "data": {
      "text/html": [
       "<p style=''><hr></p>"
      ],
      "text/plain": [
       "<IPython.core.display.HTML object>"
      ]
     },
     "metadata": {},
     "output_type": "display_data"
    },
    {
     "data": {
      "application/vnd.jupyter.widget-view+json": {
       "model_id": "e89f0e297cbd4d678ee54e607492c2ba",
       "version_major": 2,
       "version_minor": 0
      },
      "text/plain": [
       "Text(value='', description='Enter the IP Address to search for:', layout=Layout(width='50%'), style=Descriptio…"
      ]
     },
     "metadata": {},
     "output_type": "display_data"
    },
    {
     "data": {
      "text/html": [
       "<p style=''><hr></p>"
      ],
      "text/plain": [
       "<IPython.core.display.HTML object>"
      ]
     },
     "metadata": {},
     "output_type": "display_data"
    },
    {
     "data": {
      "application/vnd.jupyter.widget-view+json": {
       "model_id": "e58e12bd687348bf8efc8813a211d11f",
       "version_major": 2,
       "version_minor": 0
      },
      "text/plain": [
       "VBox(children=(HTML(value='<h4>Set time range for pivot functions.</h4>'), HBox(children=(DatePicker(value=dat…"
      ]
     },
     "metadata": {},
     "output_type": "display_data"
    }
   ],
   "source": [
    "ipaddr_text = nbwidgets.GetText(prompt='Enter the IP Address to search for:')\n",
    "md(\"<hr>\")\n",
    "display(ipaddr_text)\n",
    "md(\"<hr>\")\n",
    "pivot.edit_query_time()\n",
    "# 52.210.179.58"
   ]
  },
  {
   "cell_type": "code",
   "execution_count": 7,
   "metadata": {},
   "outputs": [
    {
     "ename": "AttributeError",
     "evalue": "'NoneType' object has no attribute 'strip'",
     "output_type": "error",
     "traceback": [
      "\u001b[1;31m---------------------------------------------------------------------------\u001b[0m",
      "\u001b[1;31mAttributeError\u001b[0m                            Traceback (most recent call last)",
      "\u001b[1;32m<ipython-input-7-9afae7b2afd9>\u001b[0m in \u001b[0;36m<module>\u001b[1;34m\u001b[0m\n\u001b[0;32m      1\u001b[0m \u001b[0mIpAddress\u001b[0m \u001b[1;33m=\u001b[0m \u001b[0mentities\u001b[0m\u001b[1;33m.\u001b[0m\u001b[0mIpAddress\u001b[0m\u001b[1;33m\u001b[0m\u001b[1;33m\u001b[0m\u001b[0m\n\u001b[0;32m      2\u001b[0m ip_result = IpAddress.nblt.ip_address_summary(\n\u001b[1;32m----> 3\u001b[1;33m     \u001b[0mvalue\u001b[0m\u001b[1;33m=\u001b[0m\u001b[0mipaddr_text\u001b[0m\u001b[1;33m.\u001b[0m\u001b[0mvalue\u001b[0m\u001b[1;33m,\u001b[0m\u001b[1;33m\u001b[0m\u001b[1;33m\u001b[0m\u001b[0m\n\u001b[0m\u001b[0;32m      4\u001b[0m     \u001b[0moptions\u001b[0m\u001b[1;33m=\u001b[0m\u001b[1;33m[\u001b[0m\u001b[1;34m\"+az_activity\"\u001b[0m\u001b[1;33m]\u001b[0m\u001b[1;33m\u001b[0m\u001b[1;33m\u001b[0m\u001b[0m\n\u001b[0;32m      5\u001b[0m )\n",
      "\u001b[1;32me:\\src\\microsoft\\msticpy\\msticpy\\nbtools\\nbwidgets.py\u001b[0m in \u001b[0;36mvalue\u001b[1;34m(self)\u001b[0m\n\u001b[0;32m    999\u001b[0m     \u001b[1;32mdef\u001b[0m \u001b[0mvalue\u001b[0m\u001b[1;33m(\u001b[0m\u001b[0mself\u001b[0m\u001b[1;33m)\u001b[0m\u001b[1;33m:\u001b[0m\u001b[1;33m\u001b[0m\u001b[1;33m\u001b[0m\u001b[0m\n\u001b[0;32m   1000\u001b[0m         \u001b[1;34m\"\"\"Get the current value of the key.\"\"\"\u001b[0m\u001b[1;33m\u001b[0m\u001b[1;33m\u001b[0m\u001b[0m\n\u001b[1;32m-> 1001\u001b[1;33m         \u001b[1;32mreturn\u001b[0m \u001b[0mself\u001b[0m\u001b[1;33m.\u001b[0m\u001b[0m_value\u001b[0m\u001b[1;33m.\u001b[0m\u001b[0mstrip\u001b[0m\u001b[1;33m(\u001b[0m\u001b[1;33m)\u001b[0m\u001b[1;33m\u001b[0m\u001b[1;33m\u001b[0m\u001b[0m\n\u001b[0m\u001b[0;32m   1002\u001b[0m \u001b[1;33m\u001b[0m\u001b[0m\n\u001b[0;32m   1003\u001b[0m     \u001b[1;32mdef\u001b[0m \u001b[0mdisplay\u001b[0m\u001b[1;33m(\u001b[0m\u001b[0mself\u001b[0m\u001b[1;33m)\u001b[0m\u001b[1;33m:\u001b[0m\u001b[1;33m\u001b[0m\u001b[1;33m\u001b[0m\u001b[0m\n",
      "\u001b[1;31mAttributeError\u001b[0m: 'NoneType' object has no attribute 'strip'"
     ]
    }
   ],
   "source": [
    "IpAddress = entities.IpAddress\n",
    "ip_result = IpAddress.nblt.ip_address_summary(\n",
    "    value=ipaddr_text.value,\n",
    "    options=[\"+az_activity\"]\n",
    ")"
   ]
  },
  {
   "cell_type": "markdown",
   "metadata": {},
   "source": [
    "---\n",
    "\n",
    "# Browse alerts"
   ]
  },
  {
   "cell_type": "code",
   "execution_count": 14,
   "metadata": {},
   "outputs": [
    {
     "data": {
      "application/vnd.jupyter.widget-view+json": {
       "model_id": "eeacc95eda5b4194b96b709ad80112e8",
       "version_major": 2,
       "version_minor": 0
      },
      "text/plain": [
       "VBox(children=(Text(value='', description='Filter alerts by title:', style=DescriptionStyle(description_width=…"
      ]
     },
     "metadata": {},
     "output_type": "display_data"
    },
    {
     "data": {
      "text/html": [
       "<hr>"
      ],
      "text/plain": [
       "<IPython.core.display.HTML object>"
      ]
     },
     "metadata": {},
     "output_type": "display_data"
    },
    {
     "data": {
      "text/html": [
       "\n",
       "            <h3>Selected Alert: 'Mass download'</h3>\n",
       "            <b>Alert_time:</b> 2021-03-19 14:09:10.513000+00:00,&nbsp;\n",
       "            <b>Compr_entity:</b> 40bab4f8-5536-4bcb-97a0-51b01bb39fa2,&nbsp;\n",
       "            <b>Alert_id:</b> f6ac0d37-a99c-2f29-4e80-d0cdf1d27918\n",
       "            <br/>\n",
       "            "
      ],
      "text/plain": [
       "<IPython.core.display.HTML object>"
      ]
     },
     "metadata": {},
     "output_type": "display_data"
    },
    {
     "data": {
      "text/html": [
       "<div>\n",
       "<style scoped>\n",
       "    .dataframe tbody tr th:only-of-type {\n",
       "        vertical-align: middle;\n",
       "    }\n",
       "\n",
       "    .dataframe tbody tr th {\n",
       "        vertical-align: top;\n",
       "    }\n",
       "\n",
       "    .dataframe thead th {\n",
       "        text-align: right;\n",
       "    }\n",
       "</style>\n",
       "<table border=\"1\" class=\"dataframe\">\n",
       "  <thead>\n",
       "    <tr style=\"text-align: right;\">\n",
       "      <th></th>\n",
       "      <th>0</th>\n",
       "    </tr>\n",
       "  </thead>\n",
       "  <tbody>\n",
       "    <tr>\n",
       "      <th>TenantId</th>\n",
       "      <td>8ecf8077-cf51-4820-aadd-14040956f35d</td>\n",
       "    </tr>\n",
       "    <tr>\n",
       "      <th>TimeGenerated</th>\n",
       "      <td>2021-03-23 00:01:23.329000+00:00</td>\n",
       "    </tr>\n",
       "    <tr>\n",
       "      <th>AlertDisplayName</th>\n",
       "      <td>Mass download</td>\n",
       "    </tr>\n",
       "    <tr>\n",
       "      <th>AlertName</th>\n",
       "      <td>Mass download</td>\n",
       "    </tr>\n",
       "    <tr>\n",
       "      <th>Severity</th>\n",
       "      <td>Low</td>\n",
       "    </tr>\n",
       "    <tr>\n",
       "      <th>Description</th>\n",
       "      <td>Activity policy 'Box Mass Download' was triggered by 'JeffL'</td>\n",
       "    </tr>\n",
       "    <tr>\n",
       "      <th>ProviderName</th>\n",
       "      <td>MCAS</td>\n",
       "    </tr>\n",
       "    <tr>\n",
       "      <th>VendorName</th>\n",
       "      <td>Microsoft</td>\n",
       "    </tr>\n",
       "    <tr>\n",
       "      <th>VendorOriginalId</th>\n",
       "      <td>211be24083e8acbcf6d6f2a5087225cce09bf5de3e50c9cda45c48e0bcc12ca4</td>\n",
       "    </tr>\n",
       "    <tr>\n",
       "      <th>SystemAlertId</th>\n",
       "      <td>f6ac0d37-a99c-2f29-4e80-d0cdf1d27918</td>\n",
       "    </tr>\n",
       "    <tr>\n",
       "      <th>ResourceId</th>\n",
       "      <td></td>\n",
       "    </tr>\n",
       "    <tr>\n",
       "      <th>SourceComputerId</th>\n",
       "      <td></td>\n",
       "    </tr>\n",
       "    <tr>\n",
       "      <th>AlertType</th>\n",
       "      <td>MCAS_ALERT_ANUBIS_DETECTION_REPEATED_ACTIVITY_DOWNLOAD</td>\n",
       "    </tr>\n",
       "    <tr>\n",
       "      <th>ConfidenceLevel</th>\n",
       "      <td></td>\n",
       "    </tr>\n",
       "    <tr>\n",
       "      <th>ConfidenceScore</th>\n",
       "      <td>NaN</td>\n",
       "    </tr>\n",
       "    <tr>\n",
       "      <th>IsIncident</th>\n",
       "      <td>False</td>\n",
       "    </tr>\n",
       "    <tr>\n",
       "      <th>StartTimeUtc</th>\n",
       "      <td>2021-03-19 14:09:10.513000+00:00</td>\n",
       "    </tr>\n",
       "    <tr>\n",
       "      <th>EndTimeUtc</th>\n",
       "      <td>2021-03-19 14:59:30.423000+00:00</td>\n",
       "    </tr>\n",
       "    <tr>\n",
       "      <th>ProcessingEndTime</th>\n",
       "      <td>2021-03-23 00:01:22.926000+00:00</td>\n",
       "    </tr>\n",
       "    <tr>\n",
       "      <th>RemediationSteps</th>\n",
       "      <td></td>\n",
       "    </tr>\n",
       "    <tr>\n",
       "      <th>ExtendedProperties</th>\n",
       "      <td>{'DummyIpAddress': '52.210.179.58', 'IsDummy': 'true', 'FusionSyntheticAlert': 'true', 'TenantId...</td>\n",
       "    </tr>\n",
       "    <tr>\n",
       "      <th>Entities</th>\n",
       "      <td>[{'$id': '3', 'Name': 'JeffL', 'UPNSuffix': 'seccxp.ninja', 'AadTenantId': '72f988bf-86f1-41af-9...</td>\n",
       "    </tr>\n",
       "    <tr>\n",
       "      <th>SourceSystem</th>\n",
       "      <td>Detection</td>\n",
       "    </tr>\n",
       "    <tr>\n",
       "      <th>WorkspaceSubscriptionId</th>\n",
       "      <td></td>\n",
       "    </tr>\n",
       "    <tr>\n",
       "      <th>WorkspaceResourceGroup</th>\n",
       "      <td></td>\n",
       "    </tr>\n",
       "    <tr>\n",
       "      <th>ExtendedLinks</th>\n",
       "      <td></td>\n",
       "    </tr>\n",
       "    <tr>\n",
       "      <th>ProductName</th>\n",
       "      <td>Microsoft Cloud App Security</td>\n",
       "    </tr>\n",
       "    <tr>\n",
       "      <th>ProductComponentName</th>\n",
       "      <td></td>\n",
       "    </tr>\n",
       "    <tr>\n",
       "      <th>AlertLink</th>\n",
       "      <td></td>\n",
       "    </tr>\n",
       "    <tr>\n",
       "      <th>Status</th>\n",
       "      <td>New</td>\n",
       "    </tr>\n",
       "    <tr>\n",
       "      <th>CompromisedEntity</th>\n",
       "      <td>40bab4f8-5536-4bcb-97a0-51b01bb39fa2</td>\n",
       "    </tr>\n",
       "    <tr>\n",
       "      <th>Tactics</th>\n",
       "      <td>Unknown</td>\n",
       "    </tr>\n",
       "    <tr>\n",
       "      <th>Type</th>\n",
       "      <td>SecurityAlert</td>\n",
       "    </tr>\n",
       "    <tr>\n",
       "      <th>SystemAlertId1</th>\n",
       "      <td>f6ac0d37-a99c-2f29-4e80-d0cdf1d27918</td>\n",
       "    </tr>\n",
       "    <tr>\n",
       "      <th>ExtendedProperties1</th>\n",
       "      <td>{\\r\\n  \"DummyIpAddress\": \"52.210.179.58\",\\r\\n  \"IsDummy\": \"true\",\\r\\n  \"FusionSyntheticAlert\": \"...</td>\n",
       "    </tr>\n",
       "    <tr>\n",
       "      <th>Entities1</th>\n",
       "      <td>[\\r\\n  {\\r\\n    \"$id\": \"3\",\\r\\n    \"Name\": \"JeffL\",\\r\\n    \"UPNSuffix\": \"seccxp.ninja\",\\r\\n    \"...</td>\n",
       "    </tr>\n",
       "    <tr>\n",
       "      <th>MatchingIps</th>\n",
       "      <td>[52.210.179.58]</td>\n",
       "    </tr>\n",
       "  </tbody>\n",
       "</table>\n",
       "</div>"
      ],
      "text/plain": [
       "                                                                                                                           0\n",
       "TenantId                                                                                8ecf8077-cf51-4820-aadd-14040956f35d\n",
       "TimeGenerated                                                                               2021-03-23 00:01:23.329000+00:00\n",
       "AlertDisplayName                                                                                               Mass download\n",
       "AlertName                                                                                                      Mass download\n",
       "Severity                                                                                                                 Low\n",
       "Description                                                     Activity policy 'Box Mass Download' was triggered by 'JeffL'\n",
       "ProviderName                                                                                                            MCAS\n",
       "VendorName                                                                                                         Microsoft\n",
       "VendorOriginalId                                            211be24083e8acbcf6d6f2a5087225cce09bf5de3e50c9cda45c48e0bcc12ca4\n",
       "SystemAlertId                                                                           f6ac0d37-a99c-2f29-4e80-d0cdf1d27918\n",
       "ResourceId                                                                                                                  \n",
       "SourceComputerId                                                                                                            \n",
       "AlertType                                                             MCAS_ALERT_ANUBIS_DETECTION_REPEATED_ACTIVITY_DOWNLOAD\n",
       "ConfidenceLevel                                                                                                             \n",
       "ConfidenceScore                                                                                                          NaN\n",
       "IsIncident                                                                                                             False\n",
       "StartTimeUtc                                                                                2021-03-19 14:09:10.513000+00:00\n",
       "EndTimeUtc                                                                                  2021-03-19 14:59:30.423000+00:00\n",
       "ProcessingEndTime                                                                           2021-03-23 00:01:22.926000+00:00\n",
       "RemediationSteps                                                                                                            \n",
       "ExtendedProperties       {'DummyIpAddress': '52.210.179.58', 'IsDummy': 'true', 'FusionSyntheticAlert': 'true', 'TenantId...\n",
       "Entities                 [{'$id': '3', 'Name': 'JeffL', 'UPNSuffix': 'seccxp.ninja', 'AadTenantId': '72f988bf-86f1-41af-9...\n",
       "SourceSystem                                                                                                       Detection\n",
       "WorkspaceSubscriptionId                                                                                                     \n",
       "WorkspaceResourceGroup                                                                                                      \n",
       "ExtendedLinks                                                                                                               \n",
       "ProductName                                                                                     Microsoft Cloud App Security\n",
       "ProductComponentName                                                                                                        \n",
       "AlertLink                                                                                                                   \n",
       "Status                                                                                                                   New\n",
       "CompromisedEntity                                                                       40bab4f8-5536-4bcb-97a0-51b01bb39fa2\n",
       "Tactics                                                                                                              Unknown\n",
       "Type                                                                                                           SecurityAlert\n",
       "SystemAlertId1                                                                          f6ac0d37-a99c-2f29-4e80-d0cdf1d27918\n",
       "ExtendedProperties1      {\\r\\n  \"DummyIpAddress\": \"52.210.179.58\",\\r\\n  \"IsDummy\": \"true\",\\r\\n  \"FusionSyntheticAlert\": \"...\n",
       "Entities1                [\\r\\n  {\\r\\n    \"$id\": \"3\",\\r\\n    \"Name\": \"JeffL\",\\r\\n    \"UPNSuffix\": \"seccxp.ninja\",\\r\\n    \"...\n",
       "MatchingIps                                                                                                  [52.210.179.58]"
      ]
     },
     "metadata": {},
     "output_type": "display_data"
    }
   ],
   "source": [
    "ip_result.browse_alerts()"
   ]
  },
  {
   "cell_type": "markdown",
   "metadata": {},
   "source": [
    "---\n",
    "\n",
    "# View Threat Intel results"
   ]
  },
  {
   "cell_type": "code",
   "execution_count": 16,
   "metadata": {},
   "outputs": [
    {
     "data": {
      "application/vnd.jupyter.widget-view+json": {
       "model_id": "af5950b93aad4279aff74efdc368a293",
       "version_major": 2,
       "version_minor": 0
      },
      "text/plain": [
       "VBox(children=(Text(value='', description='Filter:', style=DescriptionStyle(description_width='initial')), Sel…"
      ]
     },
     "metadata": {},
     "output_type": "display_data"
    },
    {
     "data": {
      "text/html": [
       "<hr>"
      ],
      "text/plain": [
       "<IPython.core.display.HTML object>"
      ]
     },
     "metadata": {},
     "output_type": "display_data"
    },
    {
     "data": {
      "text/html": [
       "<h2 style='border: 1px solid;background-color: DarkGray; padding: 6px'>109.88.218.99</h2><h3 style='background-color: SteelBlue; padding: 6px'>Type: 'ipv4', Provider: XForce, severity: warning</h3><h4>Details</h4>\n",
       "<style>\n",
       "    .tb_ti_res {border-collapse: collapse; width: 60%; border: 1px solid #ddd !important;}\n",
       "    .cell_ti {border: 1px solid #ddd !important;\n",
       "        text-align: left !important; padding: 5px !important; height: 12px}\n",
       "    .cell_ti_first {border: 1px solid #ddd !important; width: 25%;\n",
       "        text-align: left !important; padding: 5px !important; height: 12px}\n",
       "</style>\n",
       "<table class='tb_ti_res'><tr class='cell_ti'><td class='cell_ti_first'>XForce</td><tr class='cell_ti'><td class='cell_ti_first'>score</td><td class='cell_ti'>1</td></tr><tr class='cell_ti'><td class='cell_ti_first'>cats</td></tr><tr class='cell_ti'><td class='cell_ti_first'>categoryDescriptions</td></tr><tr class='cell_ti'><td class='cell_ti_first'>reason</td><td class='cell_ti'>Regional Internet Registry</td></tr><tr class='cell_ti'><td class='cell_ti_first'>reasonDescription</td><td class='cell_ti'>One of the five RIRs announced a (new) location mapping of the IP.</td></tr><tr class='cell_ti'><td class='cell_ti_first'>tags</td><td class='cell_ti'>[]</td></tr></tr></table><h4>Reference: </h4><a href='https://api.xforce.ibmcloud.com/ipr/109.88.218.99'>https://api.xforce.ibmcloud.com/ipr/109.88.218.99</a><br><hr><h4>Raw Results</h4>\n",
       "        <details>\n",
       "        <summary> <u>Raw results from provider...</u></summary>\n",
       "        <pre  style=\"font-size:11px\">{'categoryDescriptions':&nbsp;{},<br>&nbsp;'cats':&nbsp;{},<br>&nbsp;'geo':&nbsp;{'country':&nbsp;'Belgium',&nbsp;'countrycode':&nbsp;'BE'},<br>&nbsp;'history':&nbsp;[{'categoryDescriptions':&nbsp;{},<br>&nbsp;&nbsp;&nbsp;&nbsp;&nbsp;&nbsp;&nbsp;&nbsp;&nbsp;&nbsp;&nbsp;&nbsp;&nbsp;&nbsp;'cats':&nbsp;{},<br>&nbsp;&nbsp;&nbsp;&nbsp;&nbsp;&nbsp;&nbsp;&nbsp;&nbsp;&nbsp;&nbsp;&nbsp;&nbsp;&nbsp;'created':&nbsp;'2012-03-22T07:26:00.000Z',<br>&nbsp;&nbsp;&nbsp;&nbsp;&nbsp;&nbsp;&nbsp;&nbsp;&nbsp;&nbsp;&nbsp;&nbsp;&nbsp;&nbsp;'geo':&nbsp;{'country':&nbsp;'Belgium',&nbsp;'countrycode':&nbsp;'BE'},<br>&nbsp;&nbsp;&nbsp;&nbsp;&nbsp;&nbsp;&nbsp;&nbsp;&nbsp;&nbsp;&nbsp;&nbsp;&nbsp;&nbsp;'ip':&nbsp;'109.88.0.0/15',<br>&nbsp;&nbsp;&nbsp;&nbsp;&nbsp;&nbsp;&nbsp;&nbsp;&nbsp;&nbsp;&nbsp;&nbsp;&nbsp;&nbsp;'reason':&nbsp;'Regional&nbsp;Internet&nbsp;Registry',<br>&nbsp;&nbsp;&nbsp;&nbsp;&nbsp;&nbsp;&nbsp;&nbsp;&nbsp;&nbsp;&nbsp;&nbsp;&nbsp;&nbsp;'reasonDescription':&nbsp;'One&nbsp;of&nbsp;the&nbsp;five&nbsp;RIRs&nbsp;announced&nbsp;a&nbsp;(new)&nbsp;'<br>&nbsp;&nbsp;&nbsp;&nbsp;&nbsp;&nbsp;&nbsp;&nbsp;&nbsp;&nbsp;&nbsp;&nbsp;&nbsp;&nbsp;&nbsp;&nbsp;&nbsp;&nbsp;&nbsp;&nbsp;&nbsp;&nbsp;&nbsp;&nbsp;&nbsp;&nbsp;&nbsp;&nbsp;&nbsp;&nbsp;&nbsp;&nbsp;&nbsp;&nbsp;&nbsp;'location&nbsp;mapping&nbsp;of&nbsp;the&nbsp;IP.',<br>&nbsp;&nbsp;&nbsp;&nbsp;&nbsp;&nbsp;&nbsp;&nbsp;&nbsp;&nbsp;&nbsp;&nbsp;&nbsp;&nbsp;'score':&nbsp;1},<br>&nbsp;&nbsp;&nbsp;&nbsp;&nbsp;&nbsp;&nbsp;&nbsp;&nbsp;&nbsp;&nbsp;&nbsp;&nbsp;{'categoryDescriptions':&nbsp;{'Dynamic&nbsp;IPs':&nbsp;'This&nbsp;category&nbsp;contains&nbsp;'<br>&nbsp;&nbsp;&nbsp;&nbsp;&nbsp;&nbsp;&nbsp;&nbsp;&nbsp;&nbsp;&nbsp;&nbsp;&nbsp;&nbsp;&nbsp;&nbsp;&nbsp;&nbsp;&nbsp;&nbsp;&nbsp;&nbsp;&nbsp;&nbsp;&nbsp;&nbsp;&nbsp;&nbsp;&nbsp;&nbsp;&nbsp;&nbsp;&nbsp;&nbsp;&nbsp;&nbsp;&nbsp;&nbsp;&nbsp;&nbsp;&nbsp;&nbsp;&nbsp;&nbsp;&nbsp;&nbsp;&nbsp;&nbsp;&nbsp;&nbsp;&nbsp;&nbsp;&nbsp;&nbsp;'IP&nbsp;addresses&nbsp;of&nbsp;dialup&nbsp;'<br>&nbsp;&nbsp;&nbsp;&nbsp;&nbsp;&nbsp;&nbsp;&nbsp;&nbsp;&nbsp;&nbsp;&nbsp;&nbsp;&nbsp;&nbsp;&nbsp;&nbsp;&nbsp;&nbsp;&nbsp;&nbsp;&nbsp;&nbsp;&nbsp;&nbsp;&nbsp;&nbsp;&nbsp;&nbsp;&nbsp;&nbsp;&nbsp;&nbsp;&nbsp;&nbsp;&nbsp;&nbsp;&nbsp;&nbsp;&nbsp;&nbsp;&nbsp;&nbsp;&nbsp;&nbsp;&nbsp;&nbsp;&nbsp;&nbsp;&nbsp;&nbsp;&nbsp;&nbsp;&nbsp;'hosts&nbsp;and&nbsp;DSL&nbsp;lines.'},<br>&nbsp;&nbsp;&nbsp;&nbsp;&nbsp;&nbsp;&nbsp;&nbsp;&nbsp;&nbsp;&nbsp;&nbsp;&nbsp;&nbsp;'cats':&nbsp;{'Dynamic&nbsp;IPs':&nbsp;71},<br>&nbsp;&nbsp;&nbsp;&nbsp;&nbsp;&nbsp;&nbsp;&nbsp;&nbsp;&nbsp;&nbsp;&nbsp;&nbsp;&nbsp;'created':&nbsp;'2012-10-14T04:42:00.000Z',<br>&nbsp;&nbsp;&nbsp;&nbsp;&nbsp;&nbsp;&nbsp;&nbsp;&nbsp;&nbsp;&nbsp;&nbsp;&nbsp;&nbsp;'geo':&nbsp;{'country':&nbsp;'Belgium',&nbsp;'countrycode':&nbsp;'BE'},<br>&nbsp;&nbsp;&nbsp;&nbsp;&nbsp;&nbsp;&nbsp;&nbsp;&nbsp;&nbsp;&nbsp;&nbsp;&nbsp;&nbsp;'ip':&nbsp;'109.88.128.0/17',<br>&nbsp;&nbsp;&nbsp;&nbsp;&nbsp;&nbsp;&nbsp;&nbsp;&nbsp;&nbsp;&nbsp;&nbsp;&nbsp;&nbsp;'reason':&nbsp;'DNS&nbsp;heuristics',<br>&nbsp;&nbsp;&nbsp;&nbsp;&nbsp;&nbsp;&nbsp;&nbsp;&nbsp;&nbsp;&nbsp;&nbsp;&nbsp;&nbsp;'reasonDescription':&nbsp;'Based&nbsp;on&nbsp;statistical&nbsp;DNS&nbsp;analysis.',<br>&nbsp;&nbsp;&nbsp;&nbsp;&nbsp;&nbsp;&nbsp;&nbsp;&nbsp;&nbsp;&nbsp;&nbsp;&nbsp;&nbsp;'score':&nbsp;1},<br>&nbsp;&nbsp;&nbsp;&nbsp;&nbsp;&nbsp;&nbsp;&nbsp;&nbsp;&nbsp;&nbsp;&nbsp;&nbsp;{'categoryDescriptions':&nbsp;{},<br>&nbsp;&nbsp;&nbsp;&nbsp;&nbsp;&nbsp;&nbsp;&nbsp;&nbsp;&nbsp;&nbsp;&nbsp;&nbsp;&nbsp;'cats':&nbsp;{},<br>&nbsp;&nbsp;&nbsp;&nbsp;&nbsp;&nbsp;&nbsp;&nbsp;&nbsp;&nbsp;&nbsp;&nbsp;&nbsp;&nbsp;'created':&nbsp;'2014-01-21T23:46:00.000Z',<br>&nbsp;&nbsp;&nbsp;&nbsp;&nbsp;&nbsp;&nbsp;&nbsp;&nbsp;&nbsp;&nbsp;&nbsp;&nbsp;&nbsp;'deleted':&nbsp;True,<br>&nbsp;&nbsp;&nbsp;&nbsp;&nbsp;&nbsp;&nbsp;&nbsp;&nbsp;&nbsp;&nbsp;&nbsp;&nbsp;&nbsp;'geo':&nbsp;{'country':&nbsp;'Belgium',&nbsp;'countrycode':&nbsp;'BE'},<br>&nbsp;&nbsp;&nbsp;&nbsp;&nbsp;&nbsp;&nbsp;&nbsp;&nbsp;&nbsp;&nbsp;&nbsp;&nbsp;&nbsp;'ip':&nbsp;'109.88.128.0/17',<br>&nbsp;&nbsp;&nbsp;&nbsp;&nbsp;&nbsp;&nbsp;&nbsp;&nbsp;&nbsp;&nbsp;&nbsp;&nbsp;&nbsp;'reason':&nbsp;'DNS&nbsp;heuristics',<br>&nbsp;&nbsp;&nbsp;&nbsp;&nbsp;&nbsp;&nbsp;&nbsp;&nbsp;&nbsp;&nbsp;&nbsp;&nbsp;&nbsp;'reasonDescription':&nbsp;'Based&nbsp;on&nbsp;statistical&nbsp;DNS&nbsp;analysis.',<br>&nbsp;&nbsp;&nbsp;&nbsp;&nbsp;&nbsp;&nbsp;&nbsp;&nbsp;&nbsp;&nbsp;&nbsp;&nbsp;&nbsp;'score':&nbsp;1},<br>&nbsp;&nbsp;&nbsp;&nbsp;&nbsp;&nbsp;&nbsp;&nbsp;&nbsp;&nbsp;&nbsp;&nbsp;&nbsp;{'categoryDescriptions':&nbsp;{'Dynamic&nbsp;IPs':&nbsp;'This&nbsp;category&nbsp;contains&nbsp;'<br>&nbsp;&nbsp;&nbsp;&nbsp;&nbsp;&nbsp;&nbsp;&nbsp;&nbsp;&nbsp;&nbsp;&nbsp;&nbsp;&nbsp;&nbsp;&nbsp;&nbsp;&nbsp;&nbsp;&nbsp;&nbsp;&nbsp;&nbsp;&nbsp;&nbsp;&nbsp;&nbsp;&nbsp;&nbsp;&nbsp;&nbsp;&nbsp;&nbsp;&nbsp;&nbsp;&nbsp;&nbsp;&nbsp;&nbsp;&nbsp;&nbsp;&nbsp;&nbsp;&nbsp;&nbsp;&nbsp;&nbsp;&nbsp;&nbsp;&nbsp;&nbsp;&nbsp;&nbsp;&nbsp;'IP&nbsp;addresses&nbsp;of&nbsp;dialup&nbsp;'<br>&nbsp;&nbsp;&nbsp;&nbsp;&nbsp;&nbsp;&nbsp;&nbsp;&nbsp;&nbsp;&nbsp;&nbsp;&nbsp;&nbsp;&nbsp;&nbsp;&nbsp;&nbsp;&nbsp;&nbsp;&nbsp;&nbsp;&nbsp;&nbsp;&nbsp;&nbsp;&nbsp;&nbsp;&nbsp;&nbsp;&nbsp;&nbsp;&nbsp;&nbsp;&nbsp;&nbsp;&nbsp;&nbsp;&nbsp;&nbsp;&nbsp;&nbsp;&nbsp;&nbsp;&nbsp;&nbsp;&nbsp;&nbsp;&nbsp;&nbsp;&nbsp;&nbsp;&nbsp;&nbsp;'hosts&nbsp;and&nbsp;DSL&nbsp;lines.'},<br>&nbsp;&nbsp;&nbsp;&nbsp;&nbsp;&nbsp;&nbsp;&nbsp;&nbsp;&nbsp;&nbsp;&nbsp;&nbsp;&nbsp;'cats':&nbsp;{'Dynamic&nbsp;IPs':&nbsp;71},<br>&nbsp;&nbsp;&nbsp;&nbsp;&nbsp;&nbsp;&nbsp;&nbsp;&nbsp;&nbsp;&nbsp;&nbsp;&nbsp;&nbsp;'created':&nbsp;'2015-09-06T04:15:00.000Z',<br>&nbsp;&nbsp;&nbsp;&nbsp;&nbsp;&nbsp;&nbsp;&nbsp;&nbsp;&nbsp;&nbsp;&nbsp;&nbsp;&nbsp;'geo':&nbsp;{'country':&nbsp;'Belgium',&nbsp;'countrycode':&nbsp;'BE'},<br>&nbsp;&nbsp;&nbsp;&nbsp;&nbsp;&nbsp;&nbsp;&nbsp;&nbsp;&nbsp;&nbsp;&nbsp;&nbsp;&nbsp;'ip':&nbsp;'109.88.216.0/21',<br>&nbsp;&nbsp;&nbsp;&nbsp;&nbsp;&nbsp;&nbsp;&nbsp;&nbsp;&nbsp;&nbsp;&nbsp;&nbsp;&nbsp;'reason':&nbsp;'DNS&nbsp;heuristics',<br>&nbsp;&nbsp;&nbsp;&nbsp;&nbsp;&nbsp;&nbsp;&nbsp;&nbsp;&nbsp;&nbsp;&nbsp;&nbsp;&nbsp;'reasonDescription':&nbsp;'Based&nbsp;on&nbsp;statistical&nbsp;DNS&nbsp;analysis.',<br>&nbsp;&nbsp;&nbsp;&nbsp;&nbsp;&nbsp;&nbsp;&nbsp;&nbsp;&nbsp;&nbsp;&nbsp;&nbsp;&nbsp;'score':&nbsp;1},<br>&nbsp;&nbsp;&nbsp;&nbsp;&nbsp;&nbsp;&nbsp;&nbsp;&nbsp;&nbsp;&nbsp;&nbsp;&nbsp;{'categoryDescriptions':&nbsp;{},<br>&nbsp;&nbsp;&nbsp;&nbsp;&nbsp;&nbsp;&nbsp;&nbsp;&nbsp;&nbsp;&nbsp;&nbsp;&nbsp;&nbsp;'cats':&nbsp;{},<br>&nbsp;&nbsp;&nbsp;&nbsp;&nbsp;&nbsp;&nbsp;&nbsp;&nbsp;&nbsp;&nbsp;&nbsp;&nbsp;&nbsp;'created':&nbsp;'2017-04-24T08:00:00.000Z',<br>&nbsp;&nbsp;&nbsp;&nbsp;&nbsp;&nbsp;&nbsp;&nbsp;&nbsp;&nbsp;&nbsp;&nbsp;&nbsp;&nbsp;'deleted':&nbsp;True,<br>&nbsp;&nbsp;&nbsp;&nbsp;&nbsp;&nbsp;&nbsp;&nbsp;&nbsp;&nbsp;&nbsp;&nbsp;&nbsp;&nbsp;'geo':&nbsp;{'country':&nbsp;'Belgium',&nbsp;'countrycode':&nbsp;'BE'},<br>&nbsp;&nbsp;&nbsp;&nbsp;&nbsp;&nbsp;&nbsp;&nbsp;&nbsp;&nbsp;&nbsp;&nbsp;&nbsp;&nbsp;'ip':&nbsp;'109.88.218.0/24',<br>&nbsp;&nbsp;&nbsp;&nbsp;&nbsp;&nbsp;&nbsp;&nbsp;&nbsp;&nbsp;&nbsp;&nbsp;&nbsp;&nbsp;'reason':&nbsp;'DNS&nbsp;heuristics',<br>&nbsp;&nbsp;&nbsp;&nbsp;&nbsp;&nbsp;&nbsp;&nbsp;&nbsp;&nbsp;&nbsp;&nbsp;&nbsp;&nbsp;'reasonDescription':&nbsp;'Based&nbsp;on&nbsp;statistical&nbsp;DNS&nbsp;analysis.',<br>&nbsp;&nbsp;&nbsp;&nbsp;&nbsp;&nbsp;&nbsp;&nbsp;&nbsp;&nbsp;&nbsp;&nbsp;&nbsp;&nbsp;'score':&nbsp;1},<br>&nbsp;&nbsp;&nbsp;&nbsp;&nbsp;&nbsp;&nbsp;&nbsp;&nbsp;&nbsp;&nbsp;&nbsp;&nbsp;{'asns':&nbsp;{'12392':&nbsp;{'Company':&nbsp;'ASBRUTELE&nbsp;VOO,&nbsp;BE',&nbsp;'cidr':&nbsp;15}},<br>&nbsp;&nbsp;&nbsp;&nbsp;&nbsp;&nbsp;&nbsp;&nbsp;&nbsp;&nbsp;&nbsp;&nbsp;&nbsp;&nbsp;'categoryDescriptions':&nbsp;{},<br>&nbsp;&nbsp;&nbsp;&nbsp;&nbsp;&nbsp;&nbsp;&nbsp;&nbsp;&nbsp;&nbsp;&nbsp;&nbsp;&nbsp;'cats':&nbsp;{},<br>&nbsp;&nbsp;&nbsp;&nbsp;&nbsp;&nbsp;&nbsp;&nbsp;&nbsp;&nbsp;&nbsp;&nbsp;&nbsp;&nbsp;'created':&nbsp;'2017-07-26T06:24:00.000Z',<br>&nbsp;&nbsp;&nbsp;&nbsp;&nbsp;&nbsp;&nbsp;&nbsp;&nbsp;&nbsp;&nbsp;&nbsp;&nbsp;&nbsp;'deleted':&nbsp;True,<br>&nbsp;&nbsp;&nbsp;&nbsp;&nbsp;&nbsp;&nbsp;&nbsp;&nbsp;&nbsp;&nbsp;&nbsp;&nbsp;&nbsp;'geo':&nbsp;{'country':&nbsp;'Belgium',&nbsp;'countrycode':&nbsp;'BE'},<br>&nbsp;&nbsp;&nbsp;&nbsp;&nbsp;&nbsp;&nbsp;&nbsp;&nbsp;&nbsp;&nbsp;&nbsp;&nbsp;&nbsp;'ip':&nbsp;'109.88.218.0/24',<br>&nbsp;&nbsp;&nbsp;&nbsp;&nbsp;&nbsp;&nbsp;&nbsp;&nbsp;&nbsp;&nbsp;&nbsp;&nbsp;&nbsp;'reason':&nbsp;'Regional&nbsp;Internet&nbsp;Registry',<br>&nbsp;&nbsp;&nbsp;&nbsp;&nbsp;&nbsp;&nbsp;&nbsp;&nbsp;&nbsp;&nbsp;&nbsp;&nbsp;&nbsp;'reasonDescription':&nbsp;'One&nbsp;of&nbsp;the&nbsp;five&nbsp;RIRs&nbsp;announced&nbsp;a&nbsp;(new)&nbsp;'<br>&nbsp;&nbsp;&nbsp;&nbsp;&nbsp;&nbsp;&nbsp;&nbsp;&nbsp;&nbsp;&nbsp;&nbsp;&nbsp;&nbsp;&nbsp;&nbsp;&nbsp;&nbsp;&nbsp;&nbsp;&nbsp;&nbsp;&nbsp;&nbsp;&nbsp;&nbsp;&nbsp;&nbsp;&nbsp;&nbsp;&nbsp;&nbsp;&nbsp;&nbsp;&nbsp;'location&nbsp;mapping&nbsp;of&nbsp;the&nbsp;IP.',<br>&nbsp;&nbsp;&nbsp;&nbsp;&nbsp;&nbsp;&nbsp;&nbsp;&nbsp;&nbsp;&nbsp;&nbsp;&nbsp;&nbsp;'score':&nbsp;1},<br>&nbsp;&nbsp;&nbsp;&nbsp;&nbsp;&nbsp;&nbsp;&nbsp;&nbsp;&nbsp;&nbsp;&nbsp;&nbsp;{'categoryDescriptions':&nbsp;{},<br>&nbsp;&nbsp;&nbsp;&nbsp;&nbsp;&nbsp;&nbsp;&nbsp;&nbsp;&nbsp;&nbsp;&nbsp;&nbsp;&nbsp;'cats':&nbsp;{},<br>&nbsp;&nbsp;&nbsp;&nbsp;&nbsp;&nbsp;&nbsp;&nbsp;&nbsp;&nbsp;&nbsp;&nbsp;&nbsp;&nbsp;'created':&nbsp;'2017-10-10T06:23:00.000Z',<br>&nbsp;&nbsp;&nbsp;&nbsp;&nbsp;&nbsp;&nbsp;&nbsp;&nbsp;&nbsp;&nbsp;&nbsp;&nbsp;&nbsp;'deleted':&nbsp;True,<br>&nbsp;&nbsp;&nbsp;&nbsp;&nbsp;&nbsp;&nbsp;&nbsp;&nbsp;&nbsp;&nbsp;&nbsp;&nbsp;&nbsp;'geo':&nbsp;{'country':&nbsp;'Belgium',&nbsp;'countrycode':&nbsp;'BE'},<br>&nbsp;&nbsp;&nbsp;&nbsp;&nbsp;&nbsp;&nbsp;&nbsp;&nbsp;&nbsp;&nbsp;&nbsp;&nbsp;&nbsp;'ip':&nbsp;'109.88.218.0/24',<br>&nbsp;&nbsp;&nbsp;&nbsp;&nbsp;&nbsp;&nbsp;&nbsp;&nbsp;&nbsp;&nbsp;&nbsp;&nbsp;&nbsp;'reason':&nbsp;'Regional&nbsp;Internet&nbsp;Registry',<br>&nbsp;&nbsp;&nbsp;&nbsp;&nbsp;&nbsp;&nbsp;&nbsp;&nbsp;&nbsp;&nbsp;&nbsp;&nbsp;&nbsp;'reasonDescription':&nbsp;'One&nbsp;of&nbsp;the&nbsp;five&nbsp;RIRs&nbsp;announced&nbsp;a&nbsp;(new)&nbsp;'<br>&nbsp;&nbsp;&nbsp;&nbsp;&nbsp;&nbsp;&nbsp;&nbsp;&nbsp;&nbsp;&nbsp;&nbsp;&nbsp;&nbsp;&nbsp;&nbsp;&nbsp;&nbsp;&nbsp;&nbsp;&nbsp;&nbsp;&nbsp;&nbsp;&nbsp;&nbsp;&nbsp;&nbsp;&nbsp;&nbsp;&nbsp;&nbsp;&nbsp;&nbsp;&nbsp;'location&nbsp;mapping&nbsp;of&nbsp;the&nbsp;IP.',<br>&nbsp;&nbsp;&nbsp;&nbsp;&nbsp;&nbsp;&nbsp;&nbsp;&nbsp;&nbsp;&nbsp;&nbsp;&nbsp;&nbsp;'score':&nbsp;1},<br>&nbsp;&nbsp;&nbsp;&nbsp;&nbsp;&nbsp;&nbsp;&nbsp;&nbsp;&nbsp;&nbsp;&nbsp;&nbsp;{'asns':&nbsp;{'12392':&nbsp;{'Company':&nbsp;'ASBRUTELE&nbsp;VOO,&nbsp;BE',&nbsp;'cidr':&nbsp;15}},<br>&nbsp;&nbsp;&nbsp;&nbsp;&nbsp;&nbsp;&nbsp;&nbsp;&nbsp;&nbsp;&nbsp;&nbsp;&nbsp;&nbsp;'categoryDescriptions':&nbsp;{},<br>&nbsp;&nbsp;&nbsp;&nbsp;&nbsp;&nbsp;&nbsp;&nbsp;&nbsp;&nbsp;&nbsp;&nbsp;&nbsp;&nbsp;'cats':&nbsp;{},<br>&nbsp;&nbsp;&nbsp;&nbsp;&nbsp;&nbsp;&nbsp;&nbsp;&nbsp;&nbsp;&nbsp;&nbsp;&nbsp;&nbsp;'created':&nbsp;'2017-10-18T06:23:00.000Z',<br>&nbsp;&nbsp;&nbsp;&nbsp;&nbsp;&nbsp;&nbsp;&nbsp;&nbsp;&nbsp;&nbsp;&nbsp;&nbsp;&nbsp;'deleted':&nbsp;True,<br>&nbsp;&nbsp;&nbsp;&nbsp;&nbsp;&nbsp;&nbsp;&nbsp;&nbsp;&nbsp;&nbsp;&nbsp;&nbsp;&nbsp;'geo':&nbsp;{'country':&nbsp;'Belgium',&nbsp;'countrycode':&nbsp;'BE'},<br>&nbsp;&nbsp;&nbsp;&nbsp;&nbsp;&nbsp;&nbsp;&nbsp;&nbsp;&nbsp;&nbsp;&nbsp;&nbsp;&nbsp;'ip':&nbsp;'109.88.218.0/24',<br>&nbsp;&nbsp;&nbsp;&nbsp;&nbsp;&nbsp;&nbsp;&nbsp;&nbsp;&nbsp;&nbsp;&nbsp;&nbsp;&nbsp;'reason':&nbsp;'Regional&nbsp;Internet&nbsp;Registry',<br>&nbsp;&nbsp;&nbsp;&nbsp;&nbsp;&nbsp;&nbsp;&nbsp;&nbsp;&nbsp;&nbsp;&nbsp;&nbsp;&nbsp;'reasonDescription':&nbsp;'One&nbsp;of&nbsp;the&nbsp;five&nbsp;RIRs&nbsp;announced&nbsp;a&nbsp;(new)&nbsp;'<br>&nbsp;&nbsp;&nbsp;&nbsp;&nbsp;&nbsp;&nbsp;&nbsp;&nbsp;&nbsp;&nbsp;&nbsp;&nbsp;&nbsp;&nbsp;&nbsp;&nbsp;&nbsp;&nbsp;&nbsp;&nbsp;&nbsp;&nbsp;&nbsp;&nbsp;&nbsp;&nbsp;&nbsp;&nbsp;&nbsp;&nbsp;&nbsp;&nbsp;&nbsp;&nbsp;'location&nbsp;mapping&nbsp;of&nbsp;the&nbsp;IP.',<br>&nbsp;&nbsp;&nbsp;&nbsp;&nbsp;&nbsp;&nbsp;&nbsp;&nbsp;&nbsp;&nbsp;&nbsp;&nbsp;&nbsp;'score':&nbsp;1},<br>&nbsp;&nbsp;&nbsp;&nbsp;&nbsp;&nbsp;&nbsp;&nbsp;&nbsp;&nbsp;&nbsp;&nbsp;&nbsp;{'categoryDescriptions':&nbsp;{},<br>&nbsp;&nbsp;&nbsp;&nbsp;&nbsp;&nbsp;&nbsp;&nbsp;&nbsp;&nbsp;&nbsp;&nbsp;&nbsp;&nbsp;'cats':&nbsp;{},<br>&nbsp;&nbsp;&nbsp;&nbsp;&nbsp;&nbsp;&nbsp;&nbsp;&nbsp;&nbsp;&nbsp;&nbsp;&nbsp;&nbsp;'created':&nbsp;'2020-03-21T07:52:00.000Z',<br>&nbsp;&nbsp;&nbsp;&nbsp;&nbsp;&nbsp;&nbsp;&nbsp;&nbsp;&nbsp;&nbsp;&nbsp;&nbsp;&nbsp;'deleted':&nbsp;True,<br>&nbsp;&nbsp;&nbsp;&nbsp;&nbsp;&nbsp;&nbsp;&nbsp;&nbsp;&nbsp;&nbsp;&nbsp;&nbsp;&nbsp;'geo':&nbsp;{'country':&nbsp;'Belgium',&nbsp;'countrycode':&nbsp;'BE'},<br>&nbsp;&nbsp;&nbsp;&nbsp;&nbsp;&nbsp;&nbsp;&nbsp;&nbsp;&nbsp;&nbsp;&nbsp;&nbsp;&nbsp;'ip':&nbsp;'109.88.218.0/24',<br>&nbsp;&nbsp;&nbsp;&nbsp;&nbsp;&nbsp;&nbsp;&nbsp;&nbsp;&nbsp;&nbsp;&nbsp;&nbsp;&nbsp;'reason':&nbsp;'Regional&nbsp;Internet&nbsp;Registry',<br>&nbsp;&nbsp;&nbsp;&nbsp;&nbsp;&nbsp;&nbsp;&nbsp;&nbsp;&nbsp;&nbsp;&nbsp;&nbsp;&nbsp;'reasonDescription':&nbsp;'One&nbsp;of&nbsp;the&nbsp;five&nbsp;RIRs&nbsp;announced&nbsp;a&nbsp;(new)&nbsp;'<br>&nbsp;&nbsp;&nbsp;&nbsp;&nbsp;&nbsp;&nbsp;&nbsp;&nbsp;&nbsp;&nbsp;&nbsp;&nbsp;&nbsp;&nbsp;&nbsp;&nbsp;&nbsp;&nbsp;&nbsp;&nbsp;&nbsp;&nbsp;&nbsp;&nbsp;&nbsp;&nbsp;&nbsp;&nbsp;&nbsp;&nbsp;&nbsp;&nbsp;&nbsp;&nbsp;'location&nbsp;mapping&nbsp;of&nbsp;the&nbsp;IP.',<br>&nbsp;&nbsp;&nbsp;&nbsp;&nbsp;&nbsp;&nbsp;&nbsp;&nbsp;&nbsp;&nbsp;&nbsp;&nbsp;&nbsp;'score':&nbsp;1},<br>&nbsp;&nbsp;&nbsp;&nbsp;&nbsp;&nbsp;&nbsp;&nbsp;&nbsp;&nbsp;&nbsp;&nbsp;&nbsp;{'categoryDescriptions':&nbsp;{},<br>&nbsp;&nbsp;&nbsp;&nbsp;&nbsp;&nbsp;&nbsp;&nbsp;&nbsp;&nbsp;&nbsp;&nbsp;&nbsp;&nbsp;'cats':&nbsp;{},<br>&nbsp;&nbsp;&nbsp;&nbsp;&nbsp;&nbsp;&nbsp;&nbsp;&nbsp;&nbsp;&nbsp;&nbsp;&nbsp;&nbsp;'created':&nbsp;'2020-03-22T07:54:00.000Z',<br>&nbsp;&nbsp;&nbsp;&nbsp;&nbsp;&nbsp;&nbsp;&nbsp;&nbsp;&nbsp;&nbsp;&nbsp;&nbsp;&nbsp;'deleted':&nbsp;True,<br>&nbsp;&nbsp;&nbsp;&nbsp;&nbsp;&nbsp;&nbsp;&nbsp;&nbsp;&nbsp;&nbsp;&nbsp;&nbsp;&nbsp;'geo':&nbsp;{'country':&nbsp;'Belgium',&nbsp;'countrycode':&nbsp;'BE'},<br>&nbsp;&nbsp;&nbsp;&nbsp;&nbsp;&nbsp;&nbsp;&nbsp;&nbsp;&nbsp;&nbsp;&nbsp;&nbsp;&nbsp;'ip':&nbsp;'109.88.218.0/24',<br>&nbsp;&nbsp;&nbsp;&nbsp;&nbsp;&nbsp;&nbsp;&nbsp;&nbsp;&nbsp;&nbsp;&nbsp;&nbsp;&nbsp;'reason':&nbsp;'Regional&nbsp;Internet&nbsp;Registry',<br>&nbsp;&nbsp;&nbsp;&nbsp;&nbsp;&nbsp;&nbsp;&nbsp;&nbsp;&nbsp;&nbsp;&nbsp;&nbsp;&nbsp;'reasonDescription':&nbsp;'One&nbsp;of&nbsp;the&nbsp;five&nbsp;RIRs&nbsp;announced&nbsp;a&nbsp;(new)&nbsp;'<br>&nbsp;&nbsp;&nbsp;&nbsp;&nbsp;&nbsp;&nbsp;&nbsp;&nbsp;&nbsp;&nbsp;&nbsp;&nbsp;&nbsp;&nbsp;&nbsp;&nbsp;&nbsp;&nbsp;&nbsp;&nbsp;&nbsp;&nbsp;&nbsp;&nbsp;&nbsp;&nbsp;&nbsp;&nbsp;&nbsp;&nbsp;&nbsp;&nbsp;&nbsp;&nbsp;'location&nbsp;mapping&nbsp;of&nbsp;the&nbsp;IP.',<br>&nbsp;&nbsp;&nbsp;&nbsp;&nbsp;&nbsp;&nbsp;&nbsp;&nbsp;&nbsp;&nbsp;&nbsp;&nbsp;&nbsp;'score':&nbsp;1},<br>&nbsp;&nbsp;&nbsp;&nbsp;&nbsp;&nbsp;&nbsp;&nbsp;&nbsp;&nbsp;&nbsp;&nbsp;&nbsp;{'asns':&nbsp;{'12392':&nbsp;{'Company':&nbsp;'UNALLOCATED',&nbsp;'cidr':&nbsp;15}},<br>&nbsp;&nbsp;&nbsp;&nbsp;&nbsp;&nbsp;&nbsp;&nbsp;&nbsp;&nbsp;&nbsp;&nbsp;&nbsp;&nbsp;'categoryDescriptions':&nbsp;{},<br>&nbsp;&nbsp;&nbsp;&nbsp;&nbsp;&nbsp;&nbsp;&nbsp;&nbsp;&nbsp;&nbsp;&nbsp;&nbsp;&nbsp;'cats':&nbsp;{},<br>&nbsp;&nbsp;&nbsp;&nbsp;&nbsp;&nbsp;&nbsp;&nbsp;&nbsp;&nbsp;&nbsp;&nbsp;&nbsp;&nbsp;'created':&nbsp;'2020-03-28T07:52:00.000Z',<br>&nbsp;&nbsp;&nbsp;&nbsp;&nbsp;&nbsp;&nbsp;&nbsp;&nbsp;&nbsp;&nbsp;&nbsp;&nbsp;&nbsp;'deleted':&nbsp;True,<br>&nbsp;&nbsp;&nbsp;&nbsp;&nbsp;&nbsp;&nbsp;&nbsp;&nbsp;&nbsp;&nbsp;&nbsp;&nbsp;&nbsp;'geo':&nbsp;{'country':&nbsp;'Belgium',&nbsp;'countrycode':&nbsp;'BE'},<br>&nbsp;&nbsp;&nbsp;&nbsp;&nbsp;&nbsp;&nbsp;&nbsp;&nbsp;&nbsp;&nbsp;&nbsp;&nbsp;&nbsp;'ip':&nbsp;'109.88.218.0/24',<br>&nbsp;&nbsp;&nbsp;&nbsp;&nbsp;&nbsp;&nbsp;&nbsp;&nbsp;&nbsp;&nbsp;&nbsp;&nbsp;&nbsp;'reason':&nbsp;'Regional&nbsp;Internet&nbsp;Registry',<br>&nbsp;&nbsp;&nbsp;&nbsp;&nbsp;&nbsp;&nbsp;&nbsp;&nbsp;&nbsp;&nbsp;&nbsp;&nbsp;&nbsp;'reasonDescription':&nbsp;'One&nbsp;of&nbsp;the&nbsp;five&nbsp;RIRs&nbsp;announced&nbsp;a&nbsp;(new)&nbsp;'<br>&nbsp;&nbsp;&nbsp;&nbsp;&nbsp;&nbsp;&nbsp;&nbsp;&nbsp;&nbsp;&nbsp;&nbsp;&nbsp;&nbsp;&nbsp;&nbsp;&nbsp;&nbsp;&nbsp;&nbsp;&nbsp;&nbsp;&nbsp;&nbsp;&nbsp;&nbsp;&nbsp;&nbsp;&nbsp;&nbsp;&nbsp;&nbsp;&nbsp;&nbsp;&nbsp;'location&nbsp;mapping&nbsp;of&nbsp;the&nbsp;IP.',<br>&nbsp;&nbsp;&nbsp;&nbsp;&nbsp;&nbsp;&nbsp;&nbsp;&nbsp;&nbsp;&nbsp;&nbsp;&nbsp;&nbsp;'score':&nbsp;1},<br>&nbsp;&nbsp;&nbsp;&nbsp;&nbsp;&nbsp;&nbsp;&nbsp;&nbsp;&nbsp;&nbsp;&nbsp;&nbsp;{'asns':&nbsp;{'12392':&nbsp;{'Company':&nbsp;'ASBRUTELE&nbsp;VOO,&nbsp;BE',&nbsp;'cidr':&nbsp;15}},<br>&nbsp;&nbsp;&nbsp;&nbsp;&nbsp;&nbsp;&nbsp;&nbsp;&nbsp;&nbsp;&nbsp;&nbsp;&nbsp;&nbsp;'categoryDescriptions':&nbsp;{},<br>&nbsp;&nbsp;&nbsp;&nbsp;&nbsp;&nbsp;&nbsp;&nbsp;&nbsp;&nbsp;&nbsp;&nbsp;&nbsp;&nbsp;'cats':&nbsp;{},<br>&nbsp;&nbsp;&nbsp;&nbsp;&nbsp;&nbsp;&nbsp;&nbsp;&nbsp;&nbsp;&nbsp;&nbsp;&nbsp;&nbsp;'created':&nbsp;'2020-03-29T06:52:00.000Z',<br>&nbsp;&nbsp;&nbsp;&nbsp;&nbsp;&nbsp;&nbsp;&nbsp;&nbsp;&nbsp;&nbsp;&nbsp;&nbsp;&nbsp;'deleted':&nbsp;True,<br>&nbsp;&nbsp;&nbsp;&nbsp;&nbsp;&nbsp;&nbsp;&nbsp;&nbsp;&nbsp;&nbsp;&nbsp;&nbsp;&nbsp;'geo':&nbsp;{'country':&nbsp;'Belgium',&nbsp;'countrycode':&nbsp;'BE'},<br>&nbsp;&nbsp;&nbsp;&nbsp;&nbsp;&nbsp;&nbsp;&nbsp;&nbsp;&nbsp;&nbsp;&nbsp;&nbsp;&nbsp;'ip':&nbsp;'109.88.218.0/24',<br>&nbsp;&nbsp;&nbsp;&nbsp;&nbsp;&nbsp;&nbsp;&nbsp;&nbsp;&nbsp;&nbsp;&nbsp;&nbsp;&nbsp;'reason':&nbsp;'Regional&nbsp;Internet&nbsp;Registry',<br>&nbsp;&nbsp;&nbsp;&nbsp;&nbsp;&nbsp;&nbsp;&nbsp;&nbsp;&nbsp;&nbsp;&nbsp;&nbsp;&nbsp;'reasonDescription':&nbsp;'One&nbsp;of&nbsp;the&nbsp;five&nbsp;RIRs&nbsp;announced&nbsp;a&nbsp;(new)&nbsp;'<br>&nbsp;&nbsp;&nbsp;&nbsp;&nbsp;&nbsp;&nbsp;&nbsp;&nbsp;&nbsp;&nbsp;&nbsp;&nbsp;&nbsp;&nbsp;&nbsp;&nbsp;&nbsp;&nbsp;&nbsp;&nbsp;&nbsp;&nbsp;&nbsp;&nbsp;&nbsp;&nbsp;&nbsp;&nbsp;&nbsp;&nbsp;&nbsp;&nbsp;&nbsp;&nbsp;'location&nbsp;mapping&nbsp;of&nbsp;the&nbsp;IP.',<br>&nbsp;&nbsp;&nbsp;&nbsp;&nbsp;&nbsp;&nbsp;&nbsp;&nbsp;&nbsp;&nbsp;&nbsp;&nbsp;&nbsp;'score':&nbsp;1}],<br>&nbsp;'ip':&nbsp;'109.88.218.99',<br>&nbsp;'reason':&nbsp;'Regional&nbsp;Internet&nbsp;Registry',<br>&nbsp;'reasonDescription':&nbsp;'One&nbsp;of&nbsp;the&nbsp;five&nbsp;RIRs&nbsp;announced&nbsp;a&nbsp;(new)&nbsp;location&nbsp;mapping&nbsp;'<br>&nbsp;&nbsp;&nbsp;&nbsp;&nbsp;&nbsp;&nbsp;&nbsp;&nbsp;&nbsp;&nbsp;&nbsp;&nbsp;&nbsp;&nbsp;&nbsp;&nbsp;&nbsp;&nbsp;&nbsp;&nbsp;&nbsp;'of&nbsp;the&nbsp;IP.',<br>&nbsp;'score':&nbsp;1,<br>&nbsp;'subnets':&nbsp;[{'asns':&nbsp;{'12392':&nbsp;{'Company':&nbsp;'ASBRUTELE&nbsp;VOO,&nbsp;BE',&nbsp;'cidr':&nbsp;15}},<br>&nbsp;&nbsp;&nbsp;&nbsp;&nbsp;&nbsp;&nbsp;&nbsp;&nbsp;&nbsp;&nbsp;&nbsp;&nbsp;&nbsp;'categoryDescriptions':&nbsp;{},<br>&nbsp;&nbsp;&nbsp;&nbsp;&nbsp;&nbsp;&nbsp;&nbsp;&nbsp;&nbsp;&nbsp;&nbsp;&nbsp;&nbsp;'cats':&nbsp;{},<br>&nbsp;&nbsp;&nbsp;&nbsp;&nbsp;&nbsp;&nbsp;&nbsp;&nbsp;&nbsp;&nbsp;&nbsp;&nbsp;&nbsp;'created':&nbsp;'2020-03-29T06:52:00.000Z',<br>&nbsp;&nbsp;&nbsp;&nbsp;&nbsp;&nbsp;&nbsp;&nbsp;&nbsp;&nbsp;&nbsp;&nbsp;&nbsp;&nbsp;'geo':&nbsp;{'country':&nbsp;'Belgium',&nbsp;'countrycode':&nbsp;'BE'},<br>&nbsp;&nbsp;&nbsp;&nbsp;&nbsp;&nbsp;&nbsp;&nbsp;&nbsp;&nbsp;&nbsp;&nbsp;&nbsp;&nbsp;'ip':&nbsp;'109.88.0.0',<br>&nbsp;&nbsp;&nbsp;&nbsp;&nbsp;&nbsp;&nbsp;&nbsp;&nbsp;&nbsp;&nbsp;&nbsp;&nbsp;&nbsp;'reason':&nbsp;'Regional&nbsp;Internet&nbsp;Registry',<br>&nbsp;&nbsp;&nbsp;&nbsp;&nbsp;&nbsp;&nbsp;&nbsp;&nbsp;&nbsp;&nbsp;&nbsp;&nbsp;&nbsp;'reasonDescription':&nbsp;'One&nbsp;of&nbsp;the&nbsp;five&nbsp;RIRs&nbsp;announced&nbsp;a&nbsp;(new)&nbsp;'<br>&nbsp;&nbsp;&nbsp;&nbsp;&nbsp;&nbsp;&nbsp;&nbsp;&nbsp;&nbsp;&nbsp;&nbsp;&nbsp;&nbsp;&nbsp;&nbsp;&nbsp;&nbsp;&nbsp;&nbsp;&nbsp;&nbsp;&nbsp;&nbsp;&nbsp;&nbsp;&nbsp;&nbsp;&nbsp;&nbsp;&nbsp;&nbsp;&nbsp;&nbsp;&nbsp;'location&nbsp;mapping&nbsp;of&nbsp;the&nbsp;IP.',<br>&nbsp;&nbsp;&nbsp;&nbsp;&nbsp;&nbsp;&nbsp;&nbsp;&nbsp;&nbsp;&nbsp;&nbsp;&nbsp;&nbsp;'score':&nbsp;1,<br>&nbsp;&nbsp;&nbsp;&nbsp;&nbsp;&nbsp;&nbsp;&nbsp;&nbsp;&nbsp;&nbsp;&nbsp;&nbsp;&nbsp;'subnet':&nbsp;'109.88.0.0/15'}],<br>&nbsp;'tags':&nbsp;[]}</pre>\n",
       "        </details>\n",
       "        "
      ],
      "text/plain": [
       "<IPython.core.display.HTML object>"
      ]
     },
     "metadata": {},
     "output_type": "display_data"
    }
   ],
   "source": [
    "ip_result.browse_ti_results()"
   ]
  },
  {
   "cell_type": "markdown",
   "metadata": {},
   "source": [
    "---\n",
    "\n",
    "# Additional properties and methods of the result object\n",
    "\n",
    "These are static properties - usually DataFrames or visualizations. \n",
    "You can access each of these to see or manipulate the retrieved data.\n",
    "\n",
    "To see help on the available attributes type:\n",
    "```python\n",
    ">>> help(acc_result)\n",
    "```\n",
    "To see the available methods type:\n",
    "```python\n",
    ">>> acc_result.list_methods()\n",
    "```\n",
    "> Note, for the AccountSummary notebooklet, the two main data retrieval methods are:<br>\n",
    "> - run<br>\n",
    "> - get_additional_data<br>\n",
    "> There are several other methods that allow you to view individual plots\n",
    "> or subsets of the data (such as alerts).\n",
    "\n",
    "To view help on a specific method type:\n",
    "```python\n",
    ">>> help(acc_result.method_name())\n",
    "```"
   ]
  },
  {
   "cell_type": "code",
   "execution_count": 19,
   "metadata": {},
   "outputs": [
    {
     "data": {
      "text/html": [
       "<div>\n",
       "<style scoped>\n",
       "    .dataframe tbody tr th:only-of-type {\n",
       "        vertical-align: middle;\n",
       "    }\n",
       "\n",
       "    .dataframe tbody tr th {\n",
       "        vertical-align: top;\n",
       "    }\n",
       "\n",
       "    .dataframe thead th {\n",
       "        text-align: right;\n",
       "    }\n",
       "</style>\n",
       "<table border=\"1\" class=\"dataframe\">\n",
       "  <thead>\n",
       "    <tr style=\"text-align: right;\">\n",
       "      <th></th>\n",
       "      <th>XForce</th>\n",
       "    </tr>\n",
       "  </thead>\n",
       "  <tbody>\n",
       "    <tr>\n",
       "      <th>Ioc</th>\n",
       "      <td>109.88.218.99</td>\n",
       "    </tr>\n",
       "    <tr>\n",
       "      <th>IocType</th>\n",
       "      <td>ipv4</td>\n",
       "    </tr>\n",
       "    <tr>\n",
       "      <th>QuerySubtype</th>\n",
       "      <td>passivedns</td>\n",
       "    </tr>\n",
       "    <tr>\n",
       "      <th>Provider</th>\n",
       "      <td>XForce</td>\n",
       "    </tr>\n",
       "    <tr>\n",
       "      <th>Result</th>\n",
       "      <td>True</td>\n",
       "    </tr>\n",
       "    <tr>\n",
       "      <th>Severity</th>\n",
       "      <td>information</td>\n",
       "    </tr>\n",
       "    <tr>\n",
       "      <th>Details</th>\n",
       "      <td>{'records': 1}</td>\n",
       "    </tr>\n",
       "    <tr>\n",
       "      <th>RawResult</th>\n",
       "      <td>{'Passive': {'query': '0x00000000000000000000ffff6d58da63', 'records': []}, 'RDNS': ['host-109-8...</td>\n",
       "    </tr>\n",
       "    <tr>\n",
       "      <th>Reference</th>\n",
       "      <td>https://api.xforce.ibmcloud.com/resolve/109.88.218.99</td>\n",
       "    </tr>\n",
       "    <tr>\n",
       "      <th>Status</th>\n",
       "      <td>0</td>\n",
       "    </tr>\n",
       "  </tbody>\n",
       "</table>\n",
       "</div>"
      ],
      "text/plain": [
       "                                                                                                           XForce\n",
       "Ioc                                                                                                 109.88.218.99\n",
       "IocType                                                                                                      ipv4\n",
       "QuerySubtype                                                                                           passivedns\n",
       "Provider                                                                                                   XForce\n",
       "Result                                                                                                       True\n",
       "Severity                                                                                              information\n",
       "Details                                                                                            {'records': 1}\n",
       "RawResult     {'Passive': {'query': '0x00000000000000000000ffff6d58da63', 'records': []}, 'RDNS': ['host-109-8...\n",
       "Reference                                                   https://api.xforce.ibmcloud.com/resolve/109.88.218.99\n",
       "Status                                                                                                          0"
      ]
     },
     "execution_count": 19,
     "metadata": {},
     "output_type": "execute_result"
    }
   ],
   "source": [
    "ip_result.passive_dns.T"
   ]
  },
  {
   "cell_type": "markdown",
   "metadata": {},
   "source": [
    "---\n",
    "\n",
    "# Viewing the Result class\n",
    "You can view all of the data in the results class by \"running\" it in a cell\n",
    "\n",
    "> Note: due to the way Jupyter display Javascript objects the plots may\n",
    "> appear out of order.\n",
    "\n",
    "Most of the properties of the results class are pandas DataFrames - \n",
    "you can use these directly for further analysis. Other property types\n",
    "include entities and visualizations.\n",
    "\n",
    "The DataFrames displayed by running the result object are truncated\n",
    "to the first five rows."
   ]
  },
  {
   "cell_type": "code",
   "execution_count": 17,
   "metadata": {},
   "outputs": [
    {
     "data": {
      "text/html": [
       "<h3 style='background-color:lightgray; padding:5px;'>property: description</h3><br>IP&nbsp;Address&nbsp;Summary<hr><h3 style='background-color:lightgray; padding:5px;'>property: timespan</h3>Time span for the queried results data.&nbsp;Type: [TimeSpan]<br>TimeStamp(start=2021-03-20&nbsp;07:43:43.717187,&nbsp;end=2021-03-24&nbsp;00:43:43.717187,&nbsp;period=-4&nbsp;days,&nbsp;7:00:00)<hr><h3 style='background-color:lightgray; padding:5px;'>property: notebooklet</h3>The notebooklet instance that created this result.&nbsp;Type: [Notebooklet]<br><msticnb.nb.azsent.network.ip_summary.IpAddressSummary&nbsp;object&nbsp;at&nbsp;0x00000268DEECEBC8><hr><h3 style='background-color:lightgray; padding:5px;'>property: ip_str</h3>The input IP address as a string.&nbsp;Type: [str]<br>109.88.218.99<hr><h3 style='background-color:lightgray; padding:5px;'>property: ip_address</h3>Ip Address Python object&nbsp;Type: [Optional[Union[IPv4Address, IPv6Address]]]<br>109.88.218.99<hr><h3 style='background-color:lightgray; padding:5px;'>property: ip_entity</h3>IpAddress entity&nbsp;Type: [IpAddress]<br><h3>ipaddress</h3>{&nbsp;'AdditionalData':&nbsp;{},<br>&nbsp;&nbsp;'Address':&nbsp;'109.88.218.99',<br>&nbsp;&nbsp;'Location':&nbsp;{&nbsp;'AdditionalData':&nbsp;{},<br>&nbsp;&nbsp;&nbsp;&nbsp;&nbsp;&nbsp;&nbsp;&nbsp;&nbsp;&nbsp;&nbsp;&nbsp;&nbsp;&nbsp;&nbsp;&nbsp;'City':&nbsp;'Sprimont',<br>&nbsp;&nbsp;&nbsp;&nbsp;&nbsp;&nbsp;&nbsp;&nbsp;&nbsp;&nbsp;&nbsp;&nbsp;&nbsp;&nbsp;&nbsp;&nbsp;'CountryCode':&nbsp;'BE',<br>&nbsp;&nbsp;&nbsp;&nbsp;&nbsp;&nbsp;&nbsp;&nbsp;&nbsp;&nbsp;&nbsp;&nbsp;&nbsp;&nbsp;&nbsp;&nbsp;'CountryName':&nbsp;'Belgium',<br>&nbsp;&nbsp;&nbsp;&nbsp;&nbsp;&nbsp;&nbsp;&nbsp;&nbsp;&nbsp;&nbsp;&nbsp;&nbsp;&nbsp;&nbsp;&nbsp;'Latitude':&nbsp;50.5096,<br>&nbsp;&nbsp;&nbsp;&nbsp;&nbsp;&nbsp;&nbsp;&nbsp;&nbsp;&nbsp;&nbsp;&nbsp;&nbsp;&nbsp;&nbsp;&nbsp;'Longitude':&nbsp;5.6533,<br>&nbsp;&nbsp;&nbsp;&nbsp;&nbsp;&nbsp;&nbsp;&nbsp;&nbsp;&nbsp;&nbsp;&nbsp;&nbsp;&nbsp;&nbsp;&nbsp;'State':&nbsp;'Wallonia',<br>&nbsp;&nbsp;&nbsp;&nbsp;&nbsp;&nbsp;&nbsp;&nbsp;&nbsp;&nbsp;&nbsp;&nbsp;&nbsp;&nbsp;&nbsp;&nbsp;'Type':&nbsp;'geolocation',<br>&nbsp;&nbsp;&nbsp;&nbsp;&nbsp;&nbsp;&nbsp;&nbsp;&nbsp;&nbsp;&nbsp;&nbsp;&nbsp;&nbsp;&nbsp;&nbsp;'edges':&nbsp;set()},<br>&nbsp;&nbsp;'ThreatIntelligence':&nbsp;[],<br>&nbsp;&nbsp;'Type':&nbsp;'ipaddress',<br>&nbsp;&nbsp;'edges':&nbsp;set()}<hr><h3 style='background-color:lightgray; padding:5px;'>property: ip_origin</h3>\"External\" or \"Internal\"&nbsp;Type: [str]<br>External<hr><h3 style='background-color:lightgray; padding:5px;'>property: ip_type</h3>IP address type - \"Public\", \"Private\", etc.&nbsp;Type: [str]<br>Public<hr><h3 style='background-color:lightgray; padding:5px;'>property: host_entity</h3>Host entity associated with IP Address&nbsp;Type: [Host]<br><h3>host</h3>{&nbsp;'AdditionalData':&nbsp;{},<br>&nbsp;&nbsp;'IpAddresses':&nbsp;[],<br>&nbsp;&nbsp;'IsDomainJoined':&nbsp;False,<br>&nbsp;&nbsp;'OSFamily':&nbsp;<OSFamily.Windows:&nbsp;1>,<br>&nbsp;&nbsp;'Type':&nbsp;'host',<br>&nbsp;&nbsp;'edges':&nbsp;set()}<hr><h3 style='background-color:lightgray; padding:5px;'>property: geoip</h3>Geo location information as a dictionary.&nbsp;Type: [Optional[Dict[str, Any]]]<br>{'city':&nbsp;{'geoname_id':&nbsp;2786242,&nbsp;'names':&nbsp;{'en':&nbsp;'Sprimont',&nbsp;'ru':&nbsp;'Спримон',&nbsp;'zh-CN':&nbsp;'斯普里蒙'}},&nbsp;'continent':&nbsp;{'code':&nbsp;'EU',&nbsp;'geoname_id':&nbsp;6255148,&nbsp;'names':&nbsp;{'de':&nbsp;'Europa',&nbsp;'en':&nbsp;'Europe',&nbsp;'es':&nbsp;'Europa',&nbsp;'fr':&nbsp;'Europe',&nbsp;'ja':&nbsp;'ヨーロッパ',&nbsp;'pt-BR':&nbsp;'Europa',&nbsp;'ru':&nbsp;'Европа',&nbsp;'zh-CN':&nbsp;'欧洲'}},&nbsp;'country':&nbsp;{'geoname_id':&nbsp;2802361,&nbsp;'is_in_european_union':&nbsp;True,&nbsp;'iso_code':&nbsp;'BE',&nbsp;'names':&nbsp;{'de':&nbsp;'Belgien',&nbsp;'en':&nbsp;'Belgium',&nbsp;'es':&nbsp;'Bélgica',&nbsp;'fr':&nbsp;'Belgique',&nbsp;'ja':&nbsp;'ベルギー王国',&nbsp;'pt-BR':&nbsp;'Bélgica',&nbsp;'ru':&nbsp;'Бельгия',&nbsp;'zh-CN':&nbsp;'比利时'}},&nbsp;'location':&nbsp;{'accuracy_radius':&nbsp;5,&nbsp;'latitude':&nbsp;50.5096,&nbsp;'longitude':&nbsp;5.6533,&nbsp;'time_zone':&nbsp;'Europe/Brussels'},&nbsp;'postal':&nbsp;{'code':&nbsp;'4140'},&nbsp;'registered_country':&nbsp;{'geoname_id':&nbsp;2802361,&nbsp;'is_in_european_union':&nbsp;True,&nbsp;'iso_code':&nbsp;'BE',&nbsp;'names':&nbsp;{'de':&nbsp;'Belgien',&nbsp;'en':&nbsp;'Belgium',&nbsp;'es':&nbsp;'Bélgica',&nbsp;'fr':&nbsp;'Belgique',&nbsp;'ja':&nbsp;'ベルギー王国',&nbsp;'pt-BR':&nbsp;'Bélgica',&nbsp;'ru':&nbsp;'Бельгия',&nbsp;'zh-CN':&nbsp;'比利时'}},&nbsp;'subdivisions':&nbsp;[{'geoname_id':&nbsp;3337387,&nbsp;'iso_code':&nbsp;'WAL',&nbsp;'names':&nbsp;{'de':&nbsp;'Wallonien',&nbsp;'en':&nbsp;'Wallonia',&nbsp;'es':&nbsp;'Valonia',&nbsp;'fr':&nbsp;'Wallonie',&nbsp;'pt-BR':&nbsp;'Valônia'}},&nbsp;{'geoname_id':&nbsp;2792411,&nbsp;'iso_code':&nbsp;'WLG',&nbsp;'names':&nbsp;{'de':&nbsp;'Lüttich',&nbsp;'en':&nbsp;'Liège&nbsp;Province',&nbsp;'fr':&nbsp;'Liège',&nbsp;'pt-BR':&nbsp;'Liège'}}],&nbsp;'traits':&nbsp;{'ip_address':&nbsp;'109.88.218.99',&nbsp;'prefix_len':&nbsp;24}}<hr><h3 style='background-color:lightgray; padding:5px;'>property: location</h3>Location entity context object.&nbsp;Type: [Optional[GeoLocation]]<br><h3>geolocation</h3>{&nbsp;'AdditionalData':&nbsp;{},<br>&nbsp;&nbsp;'City':&nbsp;'Sprimont',<br>&nbsp;&nbsp;'CountryCode':&nbsp;'BE',<br>&nbsp;&nbsp;'CountryName':&nbsp;'Belgium',<br>&nbsp;&nbsp;'Latitude':&nbsp;50.5096,<br>&nbsp;&nbsp;'Longitude':&nbsp;5.6533,<br>&nbsp;&nbsp;'State':&nbsp;'Wallonia',<br>&nbsp;&nbsp;'Type':&nbsp;'geolocation',<br>&nbsp;&nbsp;'edges':&nbsp;set()}<hr><h3 style='background-color:lightgray; padding:5px;'>property: whois</h3>WhoIs information for IP Address&nbsp;Type: [pd.DataFrame]<br><div>\n",
       "<style scoped>\n",
       "    .dataframe tbody tr th:only-of-type {\n",
       "        vertical-align: middle;\n",
       "    }\n",
       "\n",
       "    .dataframe tbody tr th {\n",
       "        vertical-align: top;\n",
       "    }\n",
       "\n",
       "    .dataframe thead th {\n",
       "        text-align: right;\n",
       "    }\n",
       "</style>\n",
       "<table border=\"1\" class=\"dataframe\">\n",
       "  <thead>\n",
       "    <tr style=\"text-align: right;\">\n",
       "      <th></th>\n",
       "      <th>nir</th>\n",
       "      <th>asn_registry</th>\n",
       "      <th>asn</th>\n",
       "      <th>asn_cidr</th>\n",
       "      <th>asn_country_code</th>\n",
       "      <th>asn_date</th>\n",
       "      <th>asn_description</th>\n",
       "      <th>query</th>\n",
       "      <th>nets</th>\n",
       "      <th>raw</th>\n",
       "      <th>referral</th>\n",
       "      <th>raw_referral</th>\n",
       "    </tr>\n",
       "  </thead>\n",
       "  <tbody>\n",
       "    <tr>\n",
       "      <th>0</th>\n",
       "      <td>None</td>\n",
       "      <td>ripencc</td>\n",
       "      <td>12392</td>\n",
       "      <td>109.88.208.0/20</td>\n",
       "      <td>BE</td>\n",
       "      <td>2009-09-01</td>\n",
       "      <td>ASBRUTELE VOO, BE</td>\n",
       "      <td>109.88.218.99</td>\n",
       "      <td>{'cidr': '109.88.208.0/20', 'name': 'TECTEO44', 'handle': 'JMA50-RIPE', 'range': '109.88.208.0 -...</td>\n",
       "      <td>None</td>\n",
       "      <td>None</td>\n",
       "      <td>None</td>\n",
       "    </tr>\n",
       "    <tr>\n",
       "      <th>1</th>\n",
       "      <td>None</td>\n",
       "      <td>ripencc</td>\n",
       "      <td>12392</td>\n",
       "      <td>109.88.208.0/20</td>\n",
       "      <td>BE</td>\n",
       "      <td>2009-09-01</td>\n",
       "      <td>ASBRUTELE VOO, BE</td>\n",
       "      <td>109.88.218.99</td>\n",
       "      <td>{'cidr': '109.88.208.0/20', 'name': None, 'handle': None, 'range': '109.88.208.0 - 109.88.223.25...</td>\n",
       "      <td>None</td>\n",
       "      <td>None</td>\n",
       "      <td>None</td>\n",
       "    </tr>\n",
       "  </tbody>\n",
       "</table>\n",
       "</div><hr><h3 style='background-color:lightgray; padding:5px;'>property: whois_nets</h3>List of networks definitions from WhoIs data&nbsp;Type: [pd.DataFrame]<br><div>\n",
       "<style scoped>\n",
       "    .dataframe tbody tr th:only-of-type {\n",
       "        vertical-align: middle;\n",
       "    }\n",
       "\n",
       "    .dataframe tbody tr th {\n",
       "        vertical-align: top;\n",
       "    }\n",
       "\n",
       "    .dataframe thead th {\n",
       "        text-align: right;\n",
       "    }\n",
       "</style>\n",
       "<table border=\"1\" class=\"dataframe\">\n",
       "  <thead>\n",
       "    <tr style=\"text-align: right;\">\n",
       "      <th></th>\n",
       "      <th>cidr</th>\n",
       "      <th>name</th>\n",
       "      <th>handle</th>\n",
       "      <th>range</th>\n",
       "      <th>description</th>\n",
       "      <th>country</th>\n",
       "      <th>state</th>\n",
       "      <th>city</th>\n",
       "      <th>address</th>\n",
       "      <th>postal_code</th>\n",
       "      <th>emails</th>\n",
       "      <th>created</th>\n",
       "      <th>updated</th>\n",
       "    </tr>\n",
       "  </thead>\n",
       "  <tbody>\n",
       "    <tr>\n",
       "      <th>0</th>\n",
       "      <td>109.88.208.0/20</td>\n",
       "      <td>TECTEO44</td>\n",
       "      <td>JMA50-RIPE</td>\n",
       "      <td>109.88.208.0 - 109.88.223.255</td>\n",
       "      <td>Rue Louvrex, 95\\n4000 Liege</td>\n",
       "      <td>BE</td>\n",
       "      <td>None</td>\n",
       "      <td>None</td>\n",
       "      <td>BRUTELE SC\\nNapelsstraat 29-31\\nB-1050 Elsene\\nBelgium</td>\n",
       "      <td>None</td>\n",
       "      <td>None</td>\n",
       "      <td>2019-04-29T09:59:40Z</td>\n",
       "      <td>2019-04-29T09:59:40Z</td>\n",
       "    </tr>\n",
       "    <tr>\n",
       "      <th>1</th>\n",
       "      <td>109.88.208.0/20</td>\n",
       "      <td>None</td>\n",
       "      <td>None</td>\n",
       "      <td>109.88.208.0 - 109.88.223.255</td>\n",
       "      <td>VOO</td>\n",
       "      <td>None</td>\n",
       "      <td>None</td>\n",
       "      <td>None</td>\n",
       "      <td>None</td>\n",
       "      <td>None</td>\n",
       "      <td>None</td>\n",
       "      <td>2009-09-08T09:28:52Z</td>\n",
       "      <td>2009-09-08T09:28:52Z</td>\n",
       "    </tr>\n",
       "  </tbody>\n",
       "</table>\n",
       "</div><hr><h3 style='background-color:lightgray; padding:5px;'>property: heartbeat</h3>Heartbeat record for IP Address or host&nbsp;Type: [pd.DataFrame]<br><div>\n",
       "<style scoped>\n",
       "    .dataframe tbody tr th:only-of-type {\n",
       "        vertical-align: middle;\n",
       "    }\n",
       "\n",
       "    .dataframe tbody tr th {\n",
       "        vertical-align: top;\n",
       "    }\n",
       "\n",
       "    .dataframe thead th {\n",
       "        text-align: right;\n",
       "    }\n",
       "</style>\n",
       "<table border=\"1\" class=\"dataframe\">\n",
       "  <thead>\n",
       "    <tr style=\"text-align: right;\">\n",
       "      <th></th>\n",
       "      <th>TenantId</th>\n",
       "      <th>SourceSystem</th>\n",
       "      <th>TimeGenerated</th>\n",
       "      <th>MG</th>\n",
       "      <th>ManagementGroupName</th>\n",
       "      <th>SourceComputerId</th>\n",
       "      <th>ComputerIP</th>\n",
       "      <th>Computer</th>\n",
       "      <th>Category</th>\n",
       "      <th>OSType</th>\n",
       "      <th>OSName</th>\n",
       "      <th>OSMajorVersion</th>\n",
       "      <th>OSMinorVersion</th>\n",
       "      <th>Version</th>\n",
       "      <th>SCAgentChannel</th>\n",
       "      <th>IsGatewayInstalled</th>\n",
       "      <th>RemoteIPLongitude</th>\n",
       "      <th>RemoteIPLatitude</th>\n",
       "      <th>RemoteIPCountry</th>\n",
       "      <th>SubscriptionId</th>\n",
       "      <th>ResourceGroup</th>\n",
       "      <th>ResourceProvider</th>\n",
       "      <th>Resource</th>\n",
       "      <th>ResourceId</th>\n",
       "      <th>ResourceType</th>\n",
       "      <th>ComputerEnvironment</th>\n",
       "      <th>Solutions</th>\n",
       "      <th>VMUUID</th>\n",
       "      <th>Type</th>\n",
       "      <th>_ResourceId</th>\n",
       "    </tr>\n",
       "  </thead>\n",
       "  <tbody>\n",
       "  </tbody>\n",
       "</table>\n",
       "</div><hr><h3 style='background-color:lightgray; padding:5px;'>property: az_network_if</h3>Azure Network analytics interface record, if available&nbsp;Type: [pd.DataFrame]<br><div>\n",
       "<style scoped>\n",
       "    .dataframe tbody tr th:only-of-type {\n",
       "        vertical-align: middle;\n",
       "    }\n",
       "\n",
       "    .dataframe tbody tr th {\n",
       "        vertical-align: top;\n",
       "    }\n",
       "\n",
       "    .dataframe thead th {\n",
       "        text-align: right;\n",
       "    }\n",
       "</style>\n",
       "<table border=\"1\" class=\"dataframe\">\n",
       "  <thead>\n",
       "    <tr style=\"text-align: right;\">\n",
       "      <th></th>\n",
       "      <th>TenantId</th>\n",
       "      <th>SourceSystem</th>\n",
       "      <th>MG</th>\n",
       "      <th>ManagementGroupName</th>\n",
       "      <th>TimeGenerated</th>\n",
       "      <th>Computer</th>\n",
       "      <th>RawData</th>\n",
       "      <th>Weight_d</th>\n",
       "      <th>Subscription_s</th>\n",
       "      <th>FlowEndTime_s</th>\n",
       "      <th>FlowStartTime_s</th>\n",
       "      <th>Subscription2_s</th>\n",
       "      <th>ApplicationGatewayBackendPools_s</th>\n",
       "      <th>LoadBalancerBackendPools_s</th>\n",
       "      <th>IPAddress</th>\n",
       "      <th>SubnetPrefixes_s</th>\n",
       "      <th>BGPEnabled_b</th>\n",
       "      <th>GatewayType_s</th>\n",
       "      <th>SKU_s</th>\n",
       "      <th>VIPAddress_s</th>\n",
       "      <th>VirtualSubnetwork_s</th>\n",
       "      <th>VpnClientAddressPrefixes_s</th>\n",
       "      <th>ConnectionStatus_s</th>\n",
       "      <th>EgressBytesTransferred_d</th>\n",
       "      <th>GatewayConnectionType_s</th>\n",
       "      <th>...</th>\n",
       "      <th>AllowedInFlows_d</th>\n",
       "      <th>DeniedInFlows_d</th>\n",
       "      <th>AllowedOutFlows_d</th>\n",
       "      <th>DeniedOutFlows_d</th>\n",
       "      <th>FlowCount_d</th>\n",
       "      <th>InboundPackets_d</th>\n",
       "      <th>OutboundPackets_d</th>\n",
       "      <th>InboundBytes_d</th>\n",
       "      <th>OutboundBytes_d</th>\n",
       "      <th>CompletedFlows_d</th>\n",
       "      <th>PublicIPs_s</th>\n",
       "      <th>SrcPublicIPs_s</th>\n",
       "      <th>DestPublicIPs_s</th>\n",
       "      <th>batchSizeInBytes_d</th>\n",
       "      <th>ComponentType_s</th>\n",
       "      <th>DiscoveryRegion_s</th>\n",
       "      <th>ResourceType</th>\n",
       "      <th>Status_s</th>\n",
       "      <th>SubType_s</th>\n",
       "      <th>Subscription_g</th>\n",
       "      <th>SubscriptionName_s</th>\n",
       "      <th>TimeProcessed_t</th>\n",
       "      <th>TopologyVersion_s</th>\n",
       "      <th>Type</th>\n",
       "      <th>_ResourceId</th>\n",
       "    </tr>\n",
       "  </thead>\n",
       "  <tbody>\n",
       "  </tbody>\n",
       "</table>\n",
       "<p>0 rows × 181 columns</p>\n",
       "</div><hr><h3 style='background-color:lightgray; padding:5px;'>property: vmcomputer</h3>VMComputer latest record&nbsp;Type: [pd.DataFrame]<br><div>\n",
       "<style scoped>\n",
       "    .dataframe tbody tr th:only-of-type {\n",
       "        vertical-align: middle;\n",
       "    }\n",
       "\n",
       "    .dataframe tbody tr th {\n",
       "        vertical-align: top;\n",
       "    }\n",
       "\n",
       "    .dataframe thead th {\n",
       "        text-align: right;\n",
       "    }\n",
       "</style>\n",
       "<table border=\"1\" class=\"dataframe\">\n",
       "  <thead>\n",
       "    <tr style=\"text-align: right;\">\n",
       "      <th></th>\n",
       "      <th>TimeGenerated</th>\n",
       "      <th>Computer</th>\n",
       "      <th>AgentId</th>\n",
       "      <th>Machine</th>\n",
       "      <th>DisplayName</th>\n",
       "      <th>FullDisplayName</th>\n",
       "      <th>HostName</th>\n",
       "      <th>BootTime</th>\n",
       "      <th>TimeZone</th>\n",
       "      <th>VirtualizationState</th>\n",
       "      <th>Ipv4Addresses</th>\n",
       "      <th>Ipv4SubnetMasks</th>\n",
       "      <th>Ipv4DefaultGateways</th>\n",
       "      <th>Ipv6Addresses</th>\n",
       "      <th>MacAddresses</th>\n",
       "      <th>DnsNames</th>\n",
       "      <th>DependencyAgentVersion</th>\n",
       "      <th>OperatingSystemFamily</th>\n",
       "      <th>OperatingSystemFullName</th>\n",
       "      <th>PhysicalMemoryMB</th>\n",
       "      <th>Cpus</th>\n",
       "      <th>CpuSpeed</th>\n",
       "      <th>VirtualMachineType</th>\n",
       "      <th>VirtualMachineNativeId</th>\n",
       "      <th>VirtualMachineNativeName</th>\n",
       "      <th>...</th>\n",
       "      <th>AzureResourceName</th>\n",
       "      <th>AzureLocation</th>\n",
       "      <th>AzureUpdateDomain</th>\n",
       "      <th>AzureFaultDomain</th>\n",
       "      <th>AzureVmId</th>\n",
       "      <th>AzureSize</th>\n",
       "      <th>AzureImagePublisher</th>\n",
       "      <th>AzureImageOffering</th>\n",
       "      <th>AzureImageSku</th>\n",
       "      <th>AzureImageVersion</th>\n",
       "      <th>AzureCloudServiceName</th>\n",
       "      <th>AzureCloudServiceDeployment</th>\n",
       "      <th>AzureCloudServiceRoleName</th>\n",
       "      <th>AzureCloudServiceRoleType</th>\n",
       "      <th>AzureCloudServiceInstanceId</th>\n",
       "      <th>AzureVmScaleSetName</th>\n",
       "      <th>AzureVmScaleSetDeployment</th>\n",
       "      <th>AzureVmScaleSetResourceId</th>\n",
       "      <th>AzureVmScaleSetInstanceId</th>\n",
       "      <th>AzureServiceFabricClusterId</th>\n",
       "      <th>AzureServiceFabricClusterName</th>\n",
       "      <th>TenantId</th>\n",
       "      <th>SourceSystem</th>\n",
       "      <th>Type</th>\n",
       "      <th>_ResourceId</th>\n",
       "    </tr>\n",
       "  </thead>\n",
       "  <tbody>\n",
       "  </tbody>\n",
       "</table>\n",
       "<p>0 rows × 56 columns</p>\n",
       "</div><hr><h3 style='background-color:lightgray; padding:5px;'>property: aad_signins</h3>AAD signin activity&nbsp;Type: [pd.DataFrame = None]<br><div>\n",
       "<style scoped>\n",
       "    .dataframe tbody tr th:only-of-type {\n",
       "        vertical-align: middle;\n",
       "    }\n",
       "\n",
       "    .dataframe tbody tr th {\n",
       "        vertical-align: top;\n",
       "    }\n",
       "\n",
       "    .dataframe thead th {\n",
       "        text-align: right;\n",
       "    }\n",
       "</style>\n",
       "<table border=\"1\" class=\"dataframe\">\n",
       "  <thead>\n",
       "    <tr style=\"text-align: right;\">\n",
       "      <th></th>\n",
       "      <th>TenantId</th>\n",
       "      <th>SourceSystem</th>\n",
       "      <th>TimeGenerated</th>\n",
       "      <th>ResourceId</th>\n",
       "      <th>OperationName</th>\n",
       "      <th>OperationVersion</th>\n",
       "      <th>Category</th>\n",
       "      <th>ResultType</th>\n",
       "      <th>ResultSignature</th>\n",
       "      <th>ResultDescription</th>\n",
       "      <th>DurationMs</th>\n",
       "      <th>CorrelationId</th>\n",
       "      <th>Resource</th>\n",
       "      <th>ResourceGroup</th>\n",
       "      <th>ResourceProvider</th>\n",
       "      <th>Identity</th>\n",
       "      <th>Level</th>\n",
       "      <th>Location</th>\n",
       "      <th>AlternateSignInName</th>\n",
       "      <th>AppDisplayName</th>\n",
       "      <th>AppId</th>\n",
       "      <th>AuthenticationDetails</th>\n",
       "      <th>AuthenticationMethodsUsed</th>\n",
       "      <th>AuthenticationProcessingDetails</th>\n",
       "      <th>AuthenticationRequirement</th>\n",
       "      <th>...</th>\n",
       "      <th>RiskEventTypes</th>\n",
       "      <th>RiskEventTypes_V2</th>\n",
       "      <th>RiskLevelAggregated</th>\n",
       "      <th>RiskLevelDuringSignIn</th>\n",
       "      <th>RiskState</th>\n",
       "      <th>ResourceDisplayName</th>\n",
       "      <th>ResourceIdentity</th>\n",
       "      <th>ServicePrincipalId</th>\n",
       "      <th>ServicePrincipalName</th>\n",
       "      <th>Status</th>\n",
       "      <th>TokenIssuerName</th>\n",
       "      <th>TokenIssuerType</th>\n",
       "      <th>UserAgent</th>\n",
       "      <th>UserDisplayName</th>\n",
       "      <th>UserId</th>\n",
       "      <th>UserPrincipalName</th>\n",
       "      <th>AADTenantId</th>\n",
       "      <th>UserType</th>\n",
       "      <th>FlaggedForReview</th>\n",
       "      <th>IPAddressFromResourceProvider</th>\n",
       "      <th>SignInIdentifier</th>\n",
       "      <th>SignInIdentifierType</th>\n",
       "      <th>ResourceTenantId</th>\n",
       "      <th>HomeTenantId</th>\n",
       "      <th>Type</th>\n",
       "    </tr>\n",
       "  </thead>\n",
       "  <tbody>\n",
       "    <tr>\n",
       "      <th>0</th>\n",
       "      <td>8ecf8077-cf51-4820-aadd-14040956f35d</td>\n",
       "      <td>Azure AD</td>\n",
       "      <td>2021-03-22 13:17:11.242000+00:00</td>\n",
       "      <td>/tenants/4b2462a4-bbee-495a-a0e1-f23ae524cc9c/providers/Microsoft.aadiam</td>\n",
       "      <td>Sign-in activity</td>\n",
       "      <td>1.0</td>\n",
       "      <td>SignInLogs</td>\n",
       "      <td>0</td>\n",
       "      <td>None</td>\n",
       "      <td></td>\n",
       "      <td>0</td>\n",
       "      <td>fe607654-999b-475f-8063-46aad2b875a7</td>\n",
       "      <td>Microsoft.aadiam</td>\n",
       "      <td>Microsoft.aadiam</td>\n",
       "      <td></td>\n",
       "      <td>Admin</td>\n",
       "      <td>4</td>\n",
       "      <td>BE</td>\n",
       "      <td></td>\n",
       "      <td>Microsoft Cloud App Security</td>\n",
       "      <td>05a65629-4c1b-48c1-a78b-804c4abdd4af</td>\n",
       "      <td>[\\r\\n  {\\r\\n    \"authenticationStepDateTime\": \"2021-03-22T13:17:11.2421338+00:00\",\\r\\n    \"authe...</td>\n",
       "      <td></td>\n",
       "      <td>[\\r\\n  {\\r\\n    \"key\": \"IsCAEToken\",\\r\\n    \"value\": \"False\"\\r\\n  }\\r\\n]</td>\n",
       "      <td>singleFactorAuthentication</td>\n",
       "      <td>...</td>\n",
       "      <td>[]</td>\n",
       "      <td>[]</td>\n",
       "      <td>none</td>\n",
       "      <td>none</td>\n",
       "      <td>none</td>\n",
       "      <td>Windows Azure Active Directory</td>\n",
       "      <td>00000002-0000-0000-c000-000000000000</td>\n",
       "      <td></td>\n",
       "      <td></td>\n",
       "      <td>{'errorCode': 0}</td>\n",
       "      <td></td>\n",
       "      <td>AzureAD</td>\n",
       "      <td>Mozilla/5.0 (Windows NT 10.0; Win64; x64) AppleWebKit/537.36 (KHTML, like Gecko) Chrome/89.0.438...</td>\n",
       "      <td>Admin</td>\n",
       "      <td>bdb72692-2275-412b-8af0-ea21c2ebd174</td>\n",
       "      <td>seb@seccxp.ninja</td>\n",
       "      <td>4b2462a4-bbee-495a-a0e1-f23ae524cc9c</td>\n",
       "      <td>Member</td>\n",
       "      <td>None</td>\n",
       "      <td></td>\n",
       "      <td></td>\n",
       "      <td></td>\n",
       "      <td>4b2462a4-bbee-495a-a0e1-f23ae524cc9c</td>\n",
       "      <td>4b2462a4-bbee-495a-a0e1-f23ae524cc9c</td>\n",
       "      <td>SigninLogs</td>\n",
       "    </tr>\n",
       "    <tr>\n",
       "      <th>1</th>\n",
       "      <td>8ecf8077-cf51-4820-aadd-14040956f35d</td>\n",
       "      <td>Azure AD</td>\n",
       "      <td>2021-03-22 16:20:04.312000+00:00</td>\n",
       "      <td>/tenants/4b2462a4-bbee-495a-a0e1-f23ae524cc9c/providers/Microsoft.aadiam</td>\n",
       "      <td>Sign-in activity</td>\n",
       "      <td>1.0</td>\n",
       "      <td>SignInLogs</td>\n",
       "      <td>0</td>\n",
       "      <td>None</td>\n",
       "      <td></td>\n",
       "      <td>0</td>\n",
       "      <td>00372a55-b0d4-4f23-9bea-741d357e0696</td>\n",
       "      <td>Microsoft.aadiam</td>\n",
       "      <td>Microsoft.aadiam</td>\n",
       "      <td></td>\n",
       "      <td>Admin</td>\n",
       "      <td>4</td>\n",
       "      <td>BE</td>\n",
       "      <td></td>\n",
       "      <td>ACOM Azure Website</td>\n",
       "      <td>23523755-3a2b-41ca-9315-f81f3f566a95</td>\n",
       "      <td>[\\r\\n  {\\r\\n    \"authenticationStepDateTime\": \"2021-03-22T16:20:04.31275+00:00\",\\r\\n    \"authent...</td>\n",
       "      <td></td>\n",
       "      <td>[\\r\\n  {\\r\\n    \"key\": \"Azure AD App Authentication Library\",\\r\\n    \"value\": \"Family: ASP.NET L...</td>\n",
       "      <td>singleFactorAuthentication</td>\n",
       "      <td>...</td>\n",
       "      <td>[]</td>\n",
       "      <td>[]</td>\n",
       "      <td>none</td>\n",
       "      <td>none</td>\n",
       "      <td>none</td>\n",
       "      <td>Windows Azure Active Directory</td>\n",
       "      <td>00000002-0000-0000-c000-000000000000</td>\n",
       "      <td></td>\n",
       "      <td></td>\n",
       "      <td>{'errorCode': 0}</td>\n",
       "      <td></td>\n",
       "      <td>AzureAD</td>\n",
       "      <td>Mozilla/5.0 (Windows NT 10.0; Win64; x64) AppleWebKit/537.36 (KHTML, like Gecko) Chrome/89.0.438...</td>\n",
       "      <td>Admin</td>\n",
       "      <td>bdb72692-2275-412b-8af0-ea21c2ebd174</td>\n",
       "      <td>seb@seccxp.ninja</td>\n",
       "      <td>4b2462a4-bbee-495a-a0e1-f23ae524cc9c</td>\n",
       "      <td>Member</td>\n",
       "      <td>None</td>\n",
       "      <td></td>\n",
       "      <td></td>\n",
       "      <td></td>\n",
       "      <td>4b2462a4-bbee-495a-a0e1-f23ae524cc9c</td>\n",
       "      <td>4b2462a4-bbee-495a-a0e1-f23ae524cc9c</td>\n",
       "      <td>SigninLogs</td>\n",
       "    </tr>\n",
       "    <tr>\n",
       "      <th>2</th>\n",
       "      <td>8ecf8077-cf51-4820-aadd-14040956f35d</td>\n",
       "      <td>Azure AD</td>\n",
       "      <td>2021-03-22 17:02:40.156000+00:00</td>\n",
       "      <td>/tenants/4b2462a4-bbee-495a-a0e1-f23ae524cc9c/providers/Microsoft.aadiam</td>\n",
       "      <td>Sign-in activity</td>\n",
       "      <td>1.0</td>\n",
       "      <td>SignInLogs</td>\n",
       "      <td>0</td>\n",
       "      <td>None</td>\n",
       "      <td></td>\n",
       "      <td>0</td>\n",
       "      <td>830e044e-68fc-4a3d-b08a-6f4948d29c14</td>\n",
       "      <td>Microsoft.aadiam</td>\n",
       "      <td>Microsoft.aadiam</td>\n",
       "      <td></td>\n",
       "      <td>Admin</td>\n",
       "      <td>4</td>\n",
       "      <td>BE</td>\n",
       "      <td></td>\n",
       "      <td>Azure Portal</td>\n",
       "      <td>c44b4083-3bb0-49c1-b47d-974e53cbdf3c</td>\n",
       "      <td>[\\r\\n  {\\r\\n    \"authenticationStepDateTime\": \"2021-03-22T17:02:40.1566768+00:00\",\\r\\n    \"authe...</td>\n",
       "      <td></td>\n",
       "      <td>[\\r\\n  {\\r\\n    \"key\": \"Azure AD App Authentication Library\",\\r\\n    \"value\": \"Family: ASP.NET L...</td>\n",
       "      <td>singleFactorAuthentication</td>\n",
       "      <td>...</td>\n",
       "      <td>[]</td>\n",
       "      <td>[]</td>\n",
       "      <td>none</td>\n",
       "      <td>none</td>\n",
       "      <td>none</td>\n",
       "      <td>Windows Azure Service Management API</td>\n",
       "      <td>797f4846-ba00-4fd7-ba43-dac1f8f63013</td>\n",
       "      <td></td>\n",
       "      <td></td>\n",
       "      <td>{'errorCode': 0}</td>\n",
       "      <td></td>\n",
       "      <td>AzureAD</td>\n",
       "      <td>Mozilla/5.0 (Windows NT 10.0; Win64; x64) AppleWebKit/537.36 (KHTML, like Gecko) Chrome/89.0.438...</td>\n",
       "      <td>Admin</td>\n",
       "      <td>bdb72692-2275-412b-8af0-ea21c2ebd174</td>\n",
       "      <td>seb@seccxp.ninja</td>\n",
       "      <td>4b2462a4-bbee-495a-a0e1-f23ae524cc9c</td>\n",
       "      <td>Member</td>\n",
       "      <td>None</td>\n",
       "      <td></td>\n",
       "      <td></td>\n",
       "      <td></td>\n",
       "      <td>4b2462a4-bbee-495a-a0e1-f23ae524cc9c</td>\n",
       "      <td>4b2462a4-bbee-495a-a0e1-f23ae524cc9c</td>\n",
       "      <td>SigninLogs</td>\n",
       "    </tr>\n",
       "    <tr>\n",
       "      <th>3</th>\n",
       "      <td>8ecf8077-cf51-4820-aadd-14040956f35d</td>\n",
       "      <td>Azure AD</td>\n",
       "      <td>2021-03-23 07:34:17.077000+00:00</td>\n",
       "      <td>/tenants/4b2462a4-bbee-495a-a0e1-f23ae524cc9c/providers/Microsoft.aadiam</td>\n",
       "      <td>Sign-in activity</td>\n",
       "      <td>1.0</td>\n",
       "      <td>SignInLogs</td>\n",
       "      <td>0</td>\n",
       "      <td>None</td>\n",
       "      <td></td>\n",
       "      <td>0</td>\n",
       "      <td>cc8199ae-e69b-4a9f-ab3f-6cbfedcb0b34</td>\n",
       "      <td>Microsoft.aadiam</td>\n",
       "      <td>Microsoft.aadiam</td>\n",
       "      <td></td>\n",
       "      <td>Admin</td>\n",
       "      <td>4</td>\n",
       "      <td>BE</td>\n",
       "      <td></td>\n",
       "      <td>Office365 Shell WCSS-Client</td>\n",
       "      <td>89bee1f7-5e6e-4d8a-9f3d-ecd601259da7</td>\n",
       "      <td>[\\r\\n  {\\r\\n    \"authenticationStepDateTime\": \"2021-03-23T07:34:17.0777571+00:00\",\\r\\n    \"authe...</td>\n",
       "      <td></td>\n",
       "      <td>[\\r\\n  {\\r\\n    \"key\": \"Domain Hint Present\",\\r\\n    \"value\": \"True\"\\r\\n  },\\r\\n  {\\r\\n    \"key\"...</td>\n",
       "      <td>singleFactorAuthentication</td>\n",
       "      <td>...</td>\n",
       "      <td>[]</td>\n",
       "      <td>[]</td>\n",
       "      <td>none</td>\n",
       "      <td>none</td>\n",
       "      <td>none</td>\n",
       "      <td>Office365 Shell WCSS-Server</td>\n",
       "      <td>5f09333a-842c-47da-a157-57da27fcbca5</td>\n",
       "      <td></td>\n",
       "      <td></td>\n",
       "      <td>{'errorCode': 0}</td>\n",
       "      <td></td>\n",
       "      <td>AzureAD</td>\n",
       "      <td>Mozilla/5.0 (Windows NT 10.0; Win64; x64) AppleWebKit/537.36 (KHTML, like Gecko) Chrome/89.0.438...</td>\n",
       "      <td>Admin</td>\n",
       "      <td>bdb72692-2275-412b-8af0-ea21c2ebd174</td>\n",
       "      <td>seb@seccxp.ninja</td>\n",
       "      <td>4b2462a4-bbee-495a-a0e1-f23ae524cc9c</td>\n",
       "      <td>Member</td>\n",
       "      <td>None</td>\n",
       "      <td></td>\n",
       "      <td></td>\n",
       "      <td></td>\n",
       "      <td>4b2462a4-bbee-495a-a0e1-f23ae524cc9c</td>\n",
       "      <td>4b2462a4-bbee-495a-a0e1-f23ae524cc9c</td>\n",
       "      <td>SigninLogs</td>\n",
       "    </tr>\n",
       "    <tr>\n",
       "      <th>4</th>\n",
       "      <td>8ecf8077-cf51-4820-aadd-14040956f35d</td>\n",
       "      <td>Azure AD</td>\n",
       "      <td>2021-03-23 07:34:16.004000+00:00</td>\n",
       "      <td>/tenants/4b2462a4-bbee-495a-a0e1-f23ae524cc9c/providers/Microsoft.aadiam</td>\n",
       "      <td>Sign-in activity</td>\n",
       "      <td>1.0</td>\n",
       "      <td>SignInLogs</td>\n",
       "      <td>0</td>\n",
       "      <td>None</td>\n",
       "      <td></td>\n",
       "      <td>0</td>\n",
       "      <td>10553230-771b-418c-bb20-e9c07750e30a</td>\n",
       "      <td>Microsoft.aadiam</td>\n",
       "      <td>Microsoft.aadiam</td>\n",
       "      <td></td>\n",
       "      <td>Admin</td>\n",
       "      <td>4</td>\n",
       "      <td>BE</td>\n",
       "      <td></td>\n",
       "      <td>Office 365 Exchange Online</td>\n",
       "      <td>00000002-0000-0ff1-ce00-000000000000</td>\n",
       "      <td>[\\r\\n  {\\r\\n    \"authenticationStepDateTime\": \"2021-03-23T07:34:16.0043259+00:00\",\\r\\n    \"authe...</td>\n",
       "      <td></td>\n",
       "      <td>[\\r\\n  {\\r\\n    \"key\": \"Login Hint Present\",\\r\\n    \"value\": \"True\"\\r\\n  },\\r\\n  {\\r\\n    \"key\":...</td>\n",
       "      <td>singleFactorAuthentication</td>\n",
       "      <td>...</td>\n",
       "      <td>[]</td>\n",
       "      <td>[]</td>\n",
       "      <td>none</td>\n",
       "      <td>none</td>\n",
       "      <td>none</td>\n",
       "      <td>Office 365 Exchange Online</td>\n",
       "      <td>00000002-0000-0ff1-ce00-000000000000</td>\n",
       "      <td></td>\n",
       "      <td></td>\n",
       "      <td>{'errorCode': 0}</td>\n",
       "      <td></td>\n",
       "      <td>AzureAD</td>\n",
       "      <td>Mozilla/5.0 (Windows NT 10.0; Win64; x64) AppleWebKit/537.36 (KHTML, like Gecko) Chrome/89.0.438...</td>\n",
       "      <td>Admin</td>\n",
       "      <td>bdb72692-2275-412b-8af0-ea21c2ebd174</td>\n",
       "      <td>seb@seccxp.ninja</td>\n",
       "      <td>4b2462a4-bbee-495a-a0e1-f23ae524cc9c</td>\n",
       "      <td>Member</td>\n",
       "      <td>None</td>\n",
       "      <td></td>\n",
       "      <td></td>\n",
       "      <td></td>\n",
       "      <td>4b2462a4-bbee-495a-a0e1-f23ae524cc9c</td>\n",
       "      <td>4b2462a4-bbee-495a-a0e1-f23ae524cc9c</td>\n",
       "      <td>SigninLogs</td>\n",
       "    </tr>\n",
       "  </tbody>\n",
       "</table>\n",
       "<p>5 rows × 66 columns</p>\n",
       "</div><br>(showing top 5 of 32 rows)<hr><h3 style='background-color:lightgray; padding:5px;'>property: azure_activity</h3>Azure Activity log entries&nbsp;Type: [pd.DataFrame = None]<br><div>\n",
       "<style scoped>\n",
       "    .dataframe tbody tr th:only-of-type {\n",
       "        vertical-align: middle;\n",
       "    }\n",
       "\n",
       "    .dataframe tbody tr th {\n",
       "        vertical-align: top;\n",
       "    }\n",
       "\n",
       "    .dataframe thead th {\n",
       "        text-align: right;\n",
       "    }\n",
       "</style>\n",
       "<table border=\"1\" class=\"dataframe\">\n",
       "  <thead>\n",
       "    <tr style=\"text-align: right;\">\n",
       "      <th></th>\n",
       "      <th>OperationName</th>\n",
       "      <th>OperationNameValue</th>\n",
       "      <th>Level</th>\n",
       "      <th>ActivityStatus</th>\n",
       "      <th>ActivityStatusValue</th>\n",
       "      <th>ActivitySubstatus</th>\n",
       "      <th>ActivitySubstatusValue</th>\n",
       "      <th>ResourceGroup</th>\n",
       "      <th>SubscriptionId</th>\n",
       "      <th>CorrelationId</th>\n",
       "      <th>Caller</th>\n",
       "      <th>CallerIpAddress</th>\n",
       "      <th>Category</th>\n",
       "      <th>CategoryValue</th>\n",
       "      <th>HTTPRequest</th>\n",
       "      <th>Properties</th>\n",
       "      <th>EventSubmissionTimestamp</th>\n",
       "      <th>Authorization</th>\n",
       "      <th>ResourceId</th>\n",
       "      <th>OperationId</th>\n",
       "      <th>ResourceProvider</th>\n",
       "      <th>ResourceProviderValue</th>\n",
       "      <th>Resource</th>\n",
       "      <th>EventDataId</th>\n",
       "      <th>TenantId</th>\n",
       "      <th>TimeGenerated</th>\n",
       "      <th>SourceSystem</th>\n",
       "      <th>Authorization_d</th>\n",
       "      <th>Claims</th>\n",
       "      <th>Claims_d</th>\n",
       "      <th>Properties_d</th>\n",
       "      <th>Hierarchy</th>\n",
       "      <th>Type</th>\n",
       "      <th>_ResourceId</th>\n",
       "    </tr>\n",
       "  </thead>\n",
       "  <tbody>\n",
       "  </tbody>\n",
       "</table>\n",
       "</div><hr><h3 style='background-color:lightgray; padding:5px;'>property: azure_activity_summary</h3>Azure Activity (AAD and Az Activity) summarized view&nbsp;Type: [pd.DataFrame = None]<br><div>\n",
       "<style scoped>\n",
       "    .dataframe tbody tr th:only-of-type {\n",
       "        vertical-align: middle;\n",
       "    }\n",
       "\n",
       "    .dataframe tbody tr th {\n",
       "        vertical-align: top;\n",
       "    }\n",
       "\n",
       "    .dataframe thead th {\n",
       "        text-align: right;\n",
       "    }\n",
       "</style>\n",
       "<table border=\"1\" class=\"dataframe\">\n",
       "  <thead>\n",
       "    <tr style=\"text-align: right;\">\n",
       "      <th></th>\n",
       "      <th></th>\n",
       "      <th></th>\n",
       "      <th></th>\n",
       "      <th></th>\n",
       "      <th>OperationCount</th>\n",
       "      <th>OperationTypes</th>\n",
       "      <th>Resources</th>\n",
       "      <th>FirstOperation</th>\n",
       "      <th>LastOperation</th>\n",
       "    </tr>\n",
       "    <tr>\n",
       "      <th>UserPrincipalName</th>\n",
       "      <th>Type</th>\n",
       "      <th>IPAddress</th>\n",
       "      <th>AppResourceProvider</th>\n",
       "      <th>UserType</th>\n",
       "      <th></th>\n",
       "      <th></th>\n",
       "      <th></th>\n",
       "      <th></th>\n",
       "      <th></th>\n",
       "    </tr>\n",
       "  </thead>\n",
       "  <tbody>\n",
       "    <tr>\n",
       "      <th rowspan=\"5\" valign=\"top\">seb@seccxp.ninja</th>\n",
       "      <th rowspan=\"5\" valign=\"top\">SigninLogs</th>\n",
       "      <th rowspan=\"5\" valign=\"top\">109.88.218.99</th>\n",
       "      <th>ACOM Azure Website</th>\n",
       "      <th>Member</th>\n",
       "      <td>1</td>\n",
       "      <td>[Sign-in activity]</td>\n",
       "      <td>1</td>\n",
       "      <td>2021-03-22 16:20:04.312000+00:00</td>\n",
       "      <td>2021-03-22 16:20:04.312000+00:00</td>\n",
       "    </tr>\n",
       "    <tr>\n",
       "      <th>Azure Portal</th>\n",
       "      <th>Member</th>\n",
       "      <td>1</td>\n",
       "      <td>[Sign-in activity]</td>\n",
       "      <td>1</td>\n",
       "      <td>2021-03-22 17:02:40.156000+00:00</td>\n",
       "      <td>2021-03-22 17:02:40.156000+00:00</td>\n",
       "    </tr>\n",
       "    <tr>\n",
       "      <th>Microsoft Cloud App Security</th>\n",
       "      <th>Member</th>\n",
       "      <td>1</td>\n",
       "      <td>[Sign-in activity]</td>\n",
       "      <td>1</td>\n",
       "      <td>2021-03-22 13:17:11.242000+00:00</td>\n",
       "      <td>2021-03-22 13:17:11.242000+00:00</td>\n",
       "    </tr>\n",
       "    <tr>\n",
       "      <th>Microsoft Teams Web Client</th>\n",
       "      <th>Member</th>\n",
       "      <td>13</td>\n",
       "      <td>[Sign-in activity]</td>\n",
       "      <td>1</td>\n",
       "      <td>2021-03-23 07:45:56.821000+00:00</td>\n",
       "      <td>2021-03-23 07:46:33.040000+00:00</td>\n",
       "    </tr>\n",
       "    <tr>\n",
       "      <th>Office 365 Exchange Online</th>\n",
       "      <th>Member</th>\n",
       "      <td>1</td>\n",
       "      <td>[Sign-in activity]</td>\n",
       "      <td>1</td>\n",
       "      <td>2021-03-23 07:34:16.004000+00:00</td>\n",
       "      <td>2021-03-23 07:34:16.004000+00:00</td>\n",
       "    </tr>\n",
       "  </tbody>\n",
       "</table>\n",
       "</div><br>(showing top 5 of 6 rows)<hr><h3 style='background-color:lightgray; padding:5px;'>property: related_alerts</h3>Alerts related to IP Address&nbsp;Type: [pd.DataFrame]<br><div>\n",
       "<style scoped>\n",
       "    .dataframe tbody tr th:only-of-type {\n",
       "        vertical-align: middle;\n",
       "    }\n",
       "\n",
       "    .dataframe tbody tr th {\n",
       "        vertical-align: top;\n",
       "    }\n",
       "\n",
       "    .dataframe thead th {\n",
       "        text-align: right;\n",
       "    }\n",
       "</style>\n",
       "<table border=\"1\" class=\"dataframe\">\n",
       "  <thead>\n",
       "    <tr style=\"text-align: right;\">\n",
       "      <th></th>\n",
       "      <th>TenantId</th>\n",
       "      <th>TimeGenerated</th>\n",
       "      <th>AlertDisplayName</th>\n",
       "      <th>AlertName</th>\n",
       "      <th>Severity</th>\n",
       "      <th>Description</th>\n",
       "      <th>ProviderName</th>\n",
       "      <th>VendorName</th>\n",
       "      <th>VendorOriginalId</th>\n",
       "      <th>SystemAlertId</th>\n",
       "      <th>ResourceId</th>\n",
       "      <th>SourceComputerId</th>\n",
       "      <th>AlertType</th>\n",
       "      <th>ConfidenceLevel</th>\n",
       "      <th>ConfidenceScore</th>\n",
       "      <th>IsIncident</th>\n",
       "      <th>StartTimeUtc</th>\n",
       "      <th>EndTimeUtc</th>\n",
       "      <th>ProcessingEndTime</th>\n",
       "      <th>RemediationSteps</th>\n",
       "      <th>ExtendedProperties</th>\n",
       "      <th>Entities</th>\n",
       "      <th>SourceSystem</th>\n",
       "      <th>WorkspaceSubscriptionId</th>\n",
       "      <th>WorkspaceResourceGroup</th>\n",
       "      <th>ExtendedLinks</th>\n",
       "      <th>ProductName</th>\n",
       "      <th>ProductComponentName</th>\n",
       "      <th>AlertLink</th>\n",
       "      <th>Status</th>\n",
       "      <th>CompromisedEntity</th>\n",
       "      <th>Tactics</th>\n",
       "      <th>Type</th>\n",
       "      <th>SystemAlertId1</th>\n",
       "      <th>ExtendedProperties1</th>\n",
       "      <th>Entities1</th>\n",
       "      <th>MatchingIps</th>\n",
       "    </tr>\n",
       "  </thead>\n",
       "  <tbody>\n",
       "  </tbody>\n",
       "</table>\n",
       "</div><hr><h3 style='background-color:lightgray; padding:5px;'>property: ti_results</h3>Threat intel lookup results&nbsp;Type: [pd.DataFrame]<br><div>\n",
       "<style scoped>\n",
       "    .dataframe tbody tr th:only-of-type {\n",
       "        vertical-align: middle;\n",
       "    }\n",
       "\n",
       "    .dataframe tbody tr th {\n",
       "        vertical-align: top;\n",
       "    }\n",
       "\n",
       "    .dataframe thead th {\n",
       "        text-align: right;\n",
       "    }\n",
       "</style>\n",
       "<table border=\"1\" class=\"dataframe\">\n",
       "  <thead>\n",
       "    <tr style=\"text-align: right;\">\n",
       "      <th></th>\n",
       "      <th>Ioc</th>\n",
       "      <th>IocType</th>\n",
       "      <th>QuerySubtype</th>\n",
       "      <th>Provider</th>\n",
       "      <th>Result</th>\n",
       "      <th>Severity</th>\n",
       "      <th>Details</th>\n",
       "      <th>RawResult</th>\n",
       "      <th>Reference</th>\n",
       "      <th>Status</th>\n",
       "    </tr>\n",
       "  </thead>\n",
       "  <tbody>\n",
       "    <tr>\n",
       "      <th>OTX</th>\n",
       "      <td>109.88.218.99</td>\n",
       "      <td>ipv4</td>\n",
       "      <td>None</td>\n",
       "      <td>OTX</td>\n",
       "      <td>True</td>\n",
       "      <td>information</td>\n",
       "      <td>{'OTX': {'pulse_count': 0, 'sections_available': ['general', 'geo', 'reputation', 'url_list', 'p...</td>\n",
       "      <td>{'whois': 'http://whois.domaintools.com/109.88.218.99', 'reputation': 0, 'indicator': '109.88.21...</td>\n",
       "      <td>https://otx.alienvault.com/api/v1/indicators/IPv4/109.88.218.99/general</td>\n",
       "      <td>0</td>\n",
       "    </tr>\n",
       "    <tr>\n",
       "      <th>OPR</th>\n",
       "      <td>109.88.218.99</td>\n",
       "      <td>ipv4</td>\n",
       "      <td>None</td>\n",
       "      <td>OPR</td>\n",
       "      <td>False</td>\n",
       "      <td>information</td>\n",
       "      <td>IoC type ipv4 not supported.</td>\n",
       "      <td>None</td>\n",
       "      <td>None</td>\n",
       "      <td>1</td>\n",
       "    </tr>\n",
       "    <tr>\n",
       "      <th>Tor</th>\n",
       "      <td>109.88.218.99</td>\n",
       "      <td>ipv4</td>\n",
       "      <td>None</td>\n",
       "      <td>Tor</td>\n",
       "      <td>True</td>\n",
       "      <td>information</td>\n",
       "      <td>Not found.</td>\n",
       "      <td>None</td>\n",
       "      <td>https://check.torproject.org/exit-addresses</td>\n",
       "      <td>0</td>\n",
       "    </tr>\n",
       "    <tr>\n",
       "      <th>VirusTotal</th>\n",
       "      <td>109.88.218.99</td>\n",
       "      <td>ipv4</td>\n",
       "      <td>None</td>\n",
       "      <td>VirusTotal</td>\n",
       "      <td>True</td>\n",
       "      <td>information</td>\n",
       "      <td>{'VirusTotal': {'verbose_msg': 'IP address in dataset', 'response_code': 1, 'detected_urls': [],...</td>\n",
       "      <td>{'detected_urls': [], 'asn': 12392, 'country': 'BE', 'response_code': 1, 'as_owner': 'Brutele SC...</td>\n",
       "      <td>https://www.virustotal.com/vtapi/v2/ip-address/report</td>\n",
       "      <td>0</td>\n",
       "    </tr>\n",
       "    <tr>\n",
       "      <th>XForce</th>\n",
       "      <td>109.88.218.99</td>\n",
       "      <td>ipv4</td>\n",
       "      <td>None</td>\n",
       "      <td>XForce</td>\n",
       "      <td>True</td>\n",
       "      <td>warning</td>\n",
       "      <td>{'XForce': {'score': 1, 'cats': {}, 'categoryDescriptions': {}, 'reason': 'Regional Internet Reg...</td>\n",
       "      <td>{'ip': '109.88.218.99', 'history': [{'created': '2012-03-22T07:26:00.000Z', 'reason': 'Regional ...</td>\n",
       "      <td>https://api.xforce.ibmcloud.com/ipr/109.88.218.99</td>\n",
       "      <td>0</td>\n",
       "    </tr>\n",
       "  </tbody>\n",
       "</table>\n",
       "</div><hr><h3 style='background-color:lightgray; padding:5px;'>property: passive_dns</h3>Passive DNS lookup results&nbsp;Type: [pd.DataFrame]<br><div>\n",
       "<style scoped>\n",
       "    .dataframe tbody tr th:only-of-type {\n",
       "        vertical-align: middle;\n",
       "    }\n",
       "\n",
       "    .dataframe tbody tr th {\n",
       "        vertical-align: top;\n",
       "    }\n",
       "\n",
       "    .dataframe thead th {\n",
       "        text-align: right;\n",
       "    }\n",
       "</style>\n",
       "<table border=\"1\" class=\"dataframe\">\n",
       "  <thead>\n",
       "    <tr style=\"text-align: right;\">\n",
       "      <th></th>\n",
       "      <th>Ioc</th>\n",
       "      <th>IocType</th>\n",
       "      <th>QuerySubtype</th>\n",
       "      <th>Provider</th>\n",
       "      <th>Result</th>\n",
       "      <th>Severity</th>\n",
       "      <th>Details</th>\n",
       "      <th>RawResult</th>\n",
       "      <th>Reference</th>\n",
       "      <th>Status</th>\n",
       "    </tr>\n",
       "  </thead>\n",
       "  <tbody>\n",
       "    <tr>\n",
       "      <th>XForce</th>\n",
       "      <td>109.88.218.99</td>\n",
       "      <td>ipv4</td>\n",
       "      <td>passivedns</td>\n",
       "      <td>XForce</td>\n",
       "      <td>True</td>\n",
       "      <td>information</td>\n",
       "      <td>{'records': 1}</td>\n",
       "      <td>{'Passive': {'query': '0x00000000000000000000ffff6d58da63', 'records': []}, 'RDNS': ['host-109-8...</td>\n",
       "      <td>https://api.xforce.ibmcloud.com/resolve/109.88.218.99</td>\n",
       "      <td>0</td>\n",
       "    </tr>\n",
       "  </tbody>\n",
       "</table>\n",
       "</div><hr>"
      ],
      "text/plain": [
       "<msticnb.nb.azsent.network.ip_summary.IpSummaryResult at 0x268e80cae08>"
      ]
     },
     "execution_count": 17,
     "metadata": {},
     "output_type": "execute_result"
    }
   ],
   "source": [
    "ip_result"
   ]
  },
  {
   "cell_type": "code",
   "execution_count": 22,
   "metadata": {},
   "outputs": [
    {
     "data": {
      "application/vnd.dataresource+json": {
       "data": [
        {
         "asn": "12392",
         "asn_cidr": "109.88.208.0/20",
         "asn_country_code": "BE",
         "asn_date": "2009-09-01",
         "asn_description": "ASBRUTELE VOO, BE",
         "asn_registry": "ripencc",
         "index": 0,
         "nets": {
          "address": "BRUTELE SC\nNapelsstraat 29-31\nB-1050 Elsene\nBelgium",
          "cidr": "109.88.208.0/20",
          "city": null,
          "country": "BE",
          "created": "2019-04-29T09:59:40Z",
          "description": "Rue Louvrex, 95\n4000 Liege",
          "emails": null,
          "handle": "JMA50-RIPE",
          "name": "TECTEO44",
          "postal_code": null,
          "range": "109.88.208.0 - 109.88.223.255",
          "state": null,
          "updated": "2019-04-29T09:59:40Z"
         },
         "nir": null,
         "query": "109.88.218.99",
         "raw": null,
         "raw_referral": null,
         "referral": null
        },
        {
         "asn": "12392",
         "asn_cidr": "109.88.208.0/20",
         "asn_country_code": "BE",
         "asn_date": "2009-09-01",
         "asn_description": "ASBRUTELE VOO, BE",
         "asn_registry": "ripencc",
         "index": 1,
         "nets": {
          "address": null,
          "cidr": "109.88.208.0/20",
          "city": null,
          "country": null,
          "created": "2009-09-08T09:28:52Z",
          "description": "VOO",
          "emails": null,
          "handle": null,
          "name": null,
          "postal_code": null,
          "range": "109.88.208.0 - 109.88.223.255",
          "state": null,
          "updated": "2009-09-08T09:28:52Z"
         },
         "nir": null,
         "query": "109.88.218.99",
         "raw": null,
         "raw_referral": null,
         "referral": null
        }
       ],
       "schema": {
        "fields": [
         {
          "name": "index",
          "type": "integer"
         },
         {
          "name": "nir",
          "type": "string"
         },
         {
          "name": "asn_registry",
          "type": "string"
         },
         {
          "name": "asn",
          "type": "string"
         },
         {
          "name": "asn_cidr",
          "type": "string"
         },
         {
          "name": "asn_country_code",
          "type": "string"
         },
         {
          "name": "asn_date",
          "type": "string"
         },
         {
          "name": "asn_description",
          "type": "string"
         },
         {
          "name": "query",
          "type": "string"
         },
         {
          "name": "nets",
          "type": "string"
         },
         {
          "name": "raw",
          "type": "string"
         },
         {
          "name": "referral",
          "type": "string"
         },
         {
          "name": "raw_referral",
          "type": "string"
         }
        ],
        "pandas_version": "0.20.0",
        "primaryKey": [
         "index"
        ]
       }
      },
      "text/html": [
       "<div>\n",
       "<style scoped>\n",
       "    .dataframe tbody tr th:only-of-type {\n",
       "        vertical-align: middle;\n",
       "    }\n",
       "\n",
       "    .dataframe tbody tr th {\n",
       "        vertical-align: top;\n",
       "    }\n",
       "\n",
       "    .dataframe thead th {\n",
       "        text-align: right;\n",
       "    }\n",
       "</style>\n",
       "<table border=\"1\" class=\"dataframe\">\n",
       "  <thead>\n",
       "    <tr style=\"text-align: right;\">\n",
       "      <th></th>\n",
       "      <th>nir</th>\n",
       "      <th>asn_registry</th>\n",
       "      <th>asn</th>\n",
       "      <th>asn_cidr</th>\n",
       "      <th>asn_country_code</th>\n",
       "      <th>asn_date</th>\n",
       "      <th>asn_description</th>\n",
       "      <th>query</th>\n",
       "      <th>nets</th>\n",
       "      <th>raw</th>\n",
       "      <th>referral</th>\n",
       "      <th>raw_referral</th>\n",
       "    </tr>\n",
       "  </thead>\n",
       "  <tbody>\n",
       "    <tr>\n",
       "      <th>0</th>\n",
       "      <td>None</td>\n",
       "      <td>ripencc</td>\n",
       "      <td>12392</td>\n",
       "      <td>109.88.208.0/20</td>\n",
       "      <td>BE</td>\n",
       "      <td>2009-09-01</td>\n",
       "      <td>ASBRUTELE VOO, BE</td>\n",
       "      <td>109.88.218.99</td>\n",
       "      <td>{'cidr': '109.88.208.0/20', 'name': 'TECTEO44', 'handle': 'JMA50-RIPE', 'range': '109.88.208.0 -...</td>\n",
       "      <td>None</td>\n",
       "      <td>None</td>\n",
       "      <td>None</td>\n",
       "    </tr>\n",
       "    <tr>\n",
       "      <th>1</th>\n",
       "      <td>None</td>\n",
       "      <td>ripencc</td>\n",
       "      <td>12392</td>\n",
       "      <td>109.88.208.0/20</td>\n",
       "      <td>BE</td>\n",
       "      <td>2009-09-01</td>\n",
       "      <td>ASBRUTELE VOO, BE</td>\n",
       "      <td>109.88.218.99</td>\n",
       "      <td>{'cidr': '109.88.208.0/20', 'name': None, 'handle': None, 'range': '109.88.208.0 - 109.88.223.25...</td>\n",
       "      <td>None</td>\n",
       "      <td>None</td>\n",
       "      <td>None</td>\n",
       "    </tr>\n",
       "  </tbody>\n",
       "</table>\n",
       "</div>"
      ],
      "text/plain": [
       "    nir asn_registry    asn         asn_cidr asn_country_code    asn_date  \\\n",
       "0  None      ripencc  12392  109.88.208.0/20               BE  2009-09-01   \n",
       "1  None      ripencc  12392  109.88.208.0/20               BE  2009-09-01   \n",
       "\n",
       "     asn_description          query  \\\n",
       "0  ASBRUTELE VOO, BE  109.88.218.99   \n",
       "1  ASBRUTELE VOO, BE  109.88.218.99   \n",
       "\n",
       "                                                                                                  nets  \\\n",
       "0  {'cidr': '109.88.208.0/20', 'name': 'TECTEO44', 'handle': 'JMA50-RIPE', 'range': '109.88.208.0 -...   \n",
       "1  {'cidr': '109.88.208.0/20', 'name': None, 'handle': None, 'range': '109.88.208.0 - 109.88.223.25...   \n",
       "\n",
       "    raw referral raw_referral  \n",
       "0  None     None         None  \n",
       "1  None     None         None  "
      ]
     },
     "execution_count": 22,
     "metadata": {},
     "output_type": "execute_result"
    }
   ],
   "source": [
    "pd.set_option(\"display.html.table_schema\", True)\n",
    "ip_result.whois"
   ]
  },
  {
   "cell_type": "markdown",
   "metadata": {},
   "source": [
    "---\n",
    "\n",
    "# Remaining Previous content\n",
    "\n",
    "----\n",
    "\n",
    "## IP Geo-Map"
   ]
  },
  {
   "cell_type": "markdown",
   "metadata": {},
   "source": [
    "<a id='goto_internalIP'></a>\n",
    "## Internal IP Address"
   ]
  },
  {
   "cell_type": "markdown",
   "metadata": {},
   "source": [
    "<a></a>[Contents](#toc)\n",
    "### Data Sources available to query related to IP"
   ]
  },
  {
   "cell_type": "code",
   "execution_count": null,
   "metadata": {
    "ExecuteTime": {
     "end_time": "2020-05-15T23:04:59.773853Z",
     "start_time": "2020-05-15T23:04:53.039482Z"
    }
   },
   "outputs": [],
   "source": [
    "if ipaddr_origin in [\"Internal\",\"Unknown\"]:\n",
    "    # KQL query for full text search of IP address and display all datatypes populated for the time period\n",
    "    datasource_status = \"\"\"\n",
    "    search \\'{ip_address}\\' or \\'{hostname}\\'\n",
    "    | where TimeGenerated >= datetime({start}) and TimeGenerated <= datetime({end})\n",
    "    | summarize RowCount=count() by Table=$table\n",
    "    \"\"\".format(\n",
    "        **ipaddr_query_params(), hostname=hostname\n",
    "    )\n",
    "    datasource_status_df = qry_prov.exec_query(datasource_status)\n",
    "\n",
    "    # Display result as transposed matrix of datatypes availabel to query for the query period\n",
    "    if not datasource_status_df.empty:\n",
    "        available_datasets = datasource_status_df['Table'].values\n",
    "        md(\"Datasources available to query for IP ::\", styles=[\"green\",\"bold\"])\n",
    "        display(datasource_status_df)\n",
    "    else:\n",
    "        md_warn(\"No datasources contain given IP address for the query period\")\n",
    "else:\n",
    "    md(f'Analysis section Not Applicable since IP address type is: {ipaddr_origin}', styles=[\"bold\",\"red\"])"
   ]
  },
  {
   "cell_type": "markdown",
   "metadata": {},
   "source": [
    "<a></a>[Contents](#toc)\n",
    "### Check if IP is assigned to multiple hostnames"
   ]
  },
  {
   "cell_type": "code",
   "execution_count": null,
   "metadata": {
    "ExecuteTime": {
     "end_time": "2020-05-15T23:05:03.895367Z",
     "start_time": "2020-05-15T23:05:02.486243Z"
    }
   },
   "outputs": [],
   "source": [
    "if ipaddr_origin == \"Internal\" or not datasource_status_df.empty:\n",
    "    # Get single event - try process creation\n",
    "    if ip_entity['OSType'] =='Windows':\n",
    "        if \"SecurityEvent\" not in available_datasets:\n",
    "            raise ValueError(\"No Windows event log data available in the workspace\")\n",
    "        host_name = None\n",
    "        matching_hosts_df = qry_prov.WindowsSecurity.list_host_processes(\n",
    "            query_times, host_name=hostname, add_query_items=\"| distinct Computer\"\n",
    "        )\n",
    "    elif ip_entity['OSType'] =='Linux':\n",
    "        if \"Syslog\" not in available_datasets:\n",
    "            raise ValueError(\"No Linux syslog data available in the workspace\")\n",
    "        else:\n",
    "            linux_syslog_query = f\"\"\" Syslog | where TimeGenerated >= datetime({query_times.start}) | where TimeGenerated <= datetime({query_times.end}) | where HostIP == '{ipaddr_text.value}' | distinct Computer \"\"\"\n",
    "            matching_hosts_df = qry_prov.exec_query(query=linux_syslog_query)\n",
    "    else:\n",
    "        matching_hosts_df = pd.DataFrame()\n",
    "\n",
    "    if len(matching_hosts_df) > 1:\n",
    "        print(f\"Multiple matches for '{hostname}'. Please select a host from the list.\")\n",
    "        choose_host = nbwidgets.SelectItem(\n",
    "            item_list=list(matching_hosts_df[\"Computer\"].values),\n",
    "            description=\"Select the host.\",\n",
    "            auto_display=True,\n",
    "        )\n",
    "    elif not matching_hosts_df.empty:\n",
    "        host_name = matching_hosts_df[\"Computer\"].iloc[0]\n",
    "        print(f\"Unique host found for IP: {hostname}\")\n",
    "    else:\n",
    "        md_warn(\"Can not determine hostname based on available datasources\")\n",
    "        \n",
    "elif datasource_status_df.empty:\n",
    "    md_warn(\"No datasources contain given IP address for the query period\")\n",
    "else:   \n",
    "    md(f'Analysis section Not Applicable since IP address type is : {ipaddr_origin}', styles=[\"bold\",\"red\"])"
   ]
  },
  {
   "cell_type": "markdown",
   "metadata": {},
   "source": [
    "[Contents](#toc)\n",
    "### ServiceMap - Get List of Services for Host"
   ]
  },
  {
   "cell_type": "code",
   "execution_count": null,
   "metadata": {
    "ExecuteTime": {
     "end_time": "2020-05-15T23:05:10.389939Z",
     "start_time": "2020-05-15T23:05:10.369939Z"
    }
   },
   "outputs": [],
   "source": [
    "if ipaddr_origin == \"Internal\":\n",
    "    if \"ServiceMapProcess_CL\" not in available_datasets:\n",
    "            md_warn(\"ServiceMap data is not enabled\")\n",
    "            md(\n",
    "                f\"Enable ServiceMap Solution from Azure marketplce: <br>\"\n",
    "                +\"https://docs.microsoft.com/en-us/azure/azure-monitor/insights/service-map#enable-service-map\",\n",
    "                styles=[\"bold\"]\n",
    "            )\n",
    "\n",
    "    else:\n",
    "        servicemap_proc_query = \"\"\"\n",
    "        ServiceMapProcess_CL\n",
    "        | where Computer == \\'{hostname}\\'\n",
    "        | where TimeGenerated >= datetime({start}) and TimeGenerated <= datetime({end})\n",
    "        | project Computer, Services_s, DisplayName_s, ExecutableName_s , ExecutablePath_s \n",
    "            \"\"\".format(\n",
    "            hostname=hostname, **ipaddr_query_params()\n",
    "        )\n",
    "\n",
    "        servicemap_proc_df = qry_prov.exec_query(servicemap_proc_query)\n",
    "        display(servicemap_proc_df)\n",
    "else:\n",
    "    md(f'Analysis section Not Applicable since IP address type is {ipaddr_type}', styles=[\"bold\",\"red\"])"
   ]
  },
  {
   "cell_type": "markdown",
   "metadata": {},
   "source": [
    "<a></a>[Contents](#toc)\n",
    "## Related Hosts\n",
    "**Hypothesis:** That an attacker has gained  access to the host, compromized credentials for the accounts and laterally moving to the network gaining access to more hosts.\n",
    "\n",
    "This section provides related hosts of IP address which is being investigated. .If you wish to expand the scope of hunting then investigate each hosts in detail, it is recommended that to use the **Host Explorer (Windows/Linux)**\n",
    " - [Entity Explorer - Windows Host](https://github.com/Azure/Azure-Sentinel-Notebooks/blob/master/Entity%20Explorer%20-%20Windows%20Host.ipynb)\n",
    " - [Entity Explorer - Linux Host](https://github.com/Azure/Azure-Sentinel-Notebooks/blob/master/Entity%20Explorer%20-%20Linux%20Host.ipynb)\n",
    " \n",
    "If you are running in the Azure Sentinel Notebooks environment (Azure Notebooks or Azure ML) you can run live versions of these notebooks:\n",
    " - [Run Entity Explorer - Windows Host](./Entity%20Explorer%20-%20Windows%20Host.ipynb)\n",
    " - [Run Entity Explorer - Linux Host](./Entity%20Explorer%20-%20Linux%20Host.ipynb)\n",
    "\n",
    "#### __NOTE - the following sections are only relevant for Internal IP Addresses.__"
   ]
  },
  {
   "cell_type": "markdown",
   "metadata": {},
   "source": [
    "<a></a>[Contents](#toc)\n",
    "### Visualization - Networkx Graph"
   ]
  },
  {
   "cell_type": "code",
   "execution_count": null,
   "metadata": {
    "ExecuteTime": {
     "end_time": "2020-05-15T23:05:30.863302Z",
     "start_time": "2020-05-15T23:05:29.870080Z"
    }
   },
   "outputs": [],
   "source": [
    "import networkx as nx\n",
    "if ipaddr_origin == \"Internal\":\n",
    "    # Retrived relatd accounts from SecurityEvent table for Windows OS\n",
    "    if ip_entity['OSType'] =='Windows':\n",
    "        if \"SecurityEvent\" not in available_datasets:\n",
    "            raise ValueError(\"No Windows event log data available in the workspace\")\n",
    "        else:\n",
    "            related_hosts = \"\"\"\n",
    "               SecurityEvent\n",
    "               | where TimeGenerated >= datetime({start}) and TimeGenerated <= datetime({end})\n",
    "               | where IpAddress == \\'{ip_address}\\' or Computer == \\'{hostname}\\'      \n",
    "               | summarize count() by Computer, IpAddress\n",
    "            \"\"\".format(\n",
    "                **ipaddr_query_params(), hostname=hostname\n",
    "            )\n",
    "\n",
    "            related_hosts_df = qry_prov.exec_query(related_hosts)\n",
    "\n",
    "    elif ip_entity['OSType'] =='Linux':\n",
    "        if \"Syslog\" not in available_datasets:\n",
    "            raise ValueError(\"No Linux syslog data available in the workspace\")\n",
    "        else:\n",
    "            related_hosts_df = qry_prov.LinuxSyslog.list_logons_for_source_ip(invest_times, ip_address=ipaddr_query_params()['ip_address'],add_query_items='extend IpAddress = HostIP | summarize count() by Computer, IpAddress')\n",
    "\n",
    "    # Displaying networkx - static graph. for interactive graph uncomment and run next block of code.\n",
    "    plt.figure(10, figsize=(22, 14))\n",
    "    g = nx.from_pandas_edgelist(related_hosts_df, \"IpAddress\", \"Computer\")\n",
    "    md('Entity Relationship Graph - Related Hosts :: ',styles=[\"bold\",\"green\"])\n",
    "    nx.draw_circular(g, with_labels=True, size=40, font_size=12, font_color=\"blue\")\n",
    "\n",
    "\n",
    "    # Uncomment below cells if you want to dispaly interactive graphs using Pyvis library, Azure notebook free tier may not render the graph correctly.\n",
    "    # logonpyvis_graph = Network(notebook=True, height=\"750px\", width=\"100%\", bgcolor=\"#222222\", font_color=\"white\")\n",
    "\n",
    "    # # set the physics layout of the network\n",
    "    # logonpyvis_graph.barnes_hut()\n",
    "\n",
    "    # sources = related_hosts_df['Computer']\n",
    "    # targets = related_hosts_df['IpAddress']\n",
    "    # weights = related_hosts_df['count_']\n",
    "\n",
    "    # edge_data = zip(sources, targets, weights)\n",
    "\n",
    "    # for e in edge_data:\n",
    "    #     src = e[0]\n",
    "    #     dst = e[1]\n",
    "    #     w = e[2]\n",
    "\n",
    "    # logonpyvis_graph.add_node(src, src, title=src)\n",
    "    # logonpyvis_graph.add_node(dst, dst, title=dst)\n",
    "    # logonpyvis_graph.add_edge(src, dst, value=w)\n",
    "\n",
    "    # neighbor_map = logonpyvis_graph.get_adj_list()\n",
    "\n",
    "    # # add neighbor data to node hover data\n",
    "    # for node in logonpyvis_graph.nodes:\n",
    "    #     node[\"title\"] += \" Neighbors:<br>\" + \"<br>\".join(neighbor_map[node[\"id\"]])\n",
    "    #     node[\"value\"] = len(neighbor_map[node[\"id\"]]) \n",
    "\n",
    "    # logonpyvis_graph.show(\"hostlogonpyvis_graph.html\")\n",
    "else:\n",
    "    md(f'Analysis section Not Applicable since IP address owner is {ipaddr_origin}', styles=[\"bold\",\"red\"])"
   ]
  },
  {
   "cell_type": "markdown",
   "metadata": {},
   "source": [
    "<a></a>[Contents](#toc)\n",
    "## Related Accounts\n",
    "**Hypothesis:** That an attacker has gained  access to the host, compromized credentials for the accounts on it and laterally moving to the network gaining access to more accounts.\n",
    "\n",
    "This section provides related accounts of IP address which is being investigated. .If you wish to expand the scope of hunting then investigate each accounts in detail, it is recommended that to use the **Account Explorer.**\n",
    " - [Entity Explorer - Account](https://github.com/Azure/Azure-Sentinel-Notebooks/blob/master/Entity%20Explorer%20-%20Account.ipynb)\n",
    "\n",
    "If you are running in the Azure Sentinel Notebooks environment (Azure Notebooks or Azure ML) you can run live versions of these notebooks:\n",
    " - [Run Entity Explorer - Account](./Entity%20Explorer%20-%20Account.ipynb)"
   ]
  },
  {
   "cell_type": "markdown",
   "metadata": {
    "ExecuteTime": {
     "end_time": "2019-09-10T20:12:42.022358Z",
     "start_time": "2019-09-10T20:12:42.010961Z"
    }
   },
   "source": [
    "<a></a>[Contents](#toc)\n",
    "### Visualization - Networkx Graph"
   ]
  },
  {
   "cell_type": "code",
   "execution_count": null,
   "metadata": {
    "ExecuteTime": {
     "end_time": "2020-05-15T23:05:36.951055Z",
     "start_time": "2020-05-15T23:05:35.741976Z"
    }
   },
   "outputs": [],
   "source": [
    "if ipaddr_origin == \"Internal\":\n",
    "    # Retrived relatd accounts from SecurityEvent table for Windows OS\n",
    "    if ip_entity['OSType'] =='Windows':\n",
    "        if \"SecurityEvent\" not in available_datasets:\n",
    "            raise ValueError(\"No Windows event log data available in the workspace\")\n",
    "        else:\n",
    "            related_accounts = \"\"\"\n",
    "               SecurityEvent\n",
    "               | where TimeGenerated >= datetime({start}) and TimeGenerated <= datetime({end})\n",
    "               | where IpAddress == \\'{ip_address}\\' or Computer == \\'{hostname}\\'       \n",
    "               | summarize count() by Account, Computer\n",
    "            \"\"\".format(\n",
    "                **ipaddr_query_params(), hostname=hostname\n",
    "            )\n",
    "            related_accounts_df = qry_prov.exec_query(related_accounts)\n",
    "\n",
    "    elif ip_entity['OSType'] =='Linux':\n",
    "        if \"Syslog\" not in available_datasets:\n",
    "            raise ValueError(\"No Linux syslog data available in the workspace\")\n",
    "        else:\n",
    "            related_accounts_df = qry_prov.LinuxSyslog.list_logons_for_source_ip(invest_times, ip_address=ipaddr_query_params()['ip_address'],add_query_items='extend Account = AccountName | summarize count() by Account, Computer')\n",
    "\n",
    "\n",
    "    # Uncomment- below cells if above visualization does not render - Networkx connected Graph\n",
    "    plt.figure(10, figsize=(22, 14))\n",
    "    g = nx.from_pandas_edgelist(related_accounts_df, \"Computer\", \"Account\")\n",
    "    md('Entity Relationship Graph - Related Accounts :: ',styles=[\"bold\",\"green\"])\n",
    "    nx.draw_circular(g, with_labels=True, size=40, font_size=12, font_color=\"blue\")\n",
    "\n",
    "    # Uncomment below cells if you want to display interactive graphs using Pyvis library, Azure notebook free tier may not render the graph correctly.\n",
    "    # acclogon_pyvisgraph = Network(notebook=True, height=\"750px\", width=\"100%\", bgcolor=\"#222222\", font_color=\"white\")\n",
    "\n",
    "    # # set the physics layout of the network\n",
    "    # acclogon_pyvisgraph.barnes_hut()\n",
    "\n",
    "\n",
    "    # sources = related_accounts_df['Computer']\n",
    "    # targets = related_accounts_df['Account']\n",
    "    # weights = related_accounts_df['count_']\n",
    "\n",
    "    # edge_data = zip(sources, targets, weights)\n",
    "\n",
    "    # for e in edge_data:\n",
    "    #     src = e[0]\n",
    "    #     dst = e[1]\n",
    "    #     w = e[2]\n",
    "\n",
    "    # acclogon_pyvisgraph.add_node(src, src, title=src)\n",
    "    # acclogon_pyvisgraph.add_node(dst, dst, title=dst)\n",
    "    # acclogon_pyvisgraph.add_edge(src, dst, value=w)\n",
    "\n",
    "    # neighbor_map = acclogon_pyvisgraph.get_adj_list()\n",
    "\n",
    "    # # add neighbor data to node hover data\n",
    "    # for node in acclogon_pyvisgraph.nodes:\n",
    "    #     node[\"title\"] += \" Neighbors:<br>\" + \"<br>\".join(neighbor_map[node[\"id\"]])\n",
    "    #     node[\"value\"] = len(neighbor_map[node[\"id\"]]) # this value attrribute for the node affects node size\n",
    "\n",
    "    # acclogon_pyvisgraph.show(\"accountlogonpyvis_graph.html\")\n",
    "else:\n",
    "    md(f'Analysis section Not Applicable since IP address owner is {ipaddr_origin}', styles=[\"bold\",\"red\"])"
   ]
  },
  {
   "cell_type": "markdown",
   "metadata": {},
   "source": [
    "# *** Add host logon activity ***"
   ]
  },
  {
   "cell_type": "markdown",
   "metadata": {
    "ExecuteTime": {
     "end_time": "2019-08-30T15:50:05.854226Z",
     "start_time": "2019-08-30T15:50:04.517392Z"
    }
   },
   "source": [
    "<a></a>[Contents](#toc)\n",
    "## Logon Summary for Related Entities\n",
    "**Hypothesis:** By analyzing logon activities of the related entities, we can identify change in logon patterns and narrow down the entities to few suspicious logon patterns.\n",
    "\n",
    "This section provides various visualization of logon attributes such as \n",
    "- Weekly Failed Logon trend\n",
    "- Logon Types \n",
    "- Logon Processes\n",
    "\n",
    "If you wish to expand the scope of hunting then investigate specific host in detail, it is recommended that to use the **Host Explorer (Windows/Linux)**\n",
    "\n",
    " - [Entity Explorer - Windows Host](https://github.com/Azure/Azure-Sentinel-Notebooks/blob/master/Entity%20Explorer%20-%20Windows%20Host.ipynb)\n",
    " - [Entity Explorer - Linux Host](https://github.com/Azure/Azure-Sentinel-Notebooks/blob/master/Entity%20Explorer%20-%20Linux%20Host.ipynb)\n",
    " \n",
    "If you are running in the Azure Sentinel Notebooks environment (Azure Notebooks or Azure ML) you can run live versions of these notebooks:\n",
    " - [Run Entity Explorer - Windows Host](./Entity%20Explorer%20-%20Windows%20Host.ipynb)\n",
    " - [Run Entity Explorer - Linux Host](./Entity%20Explorer%20-%20Linux%20Host.ipynb)"
   ]
  },
  {
   "cell_type": "markdown",
   "metadata": {
    "ExecuteTime": {
     "end_time": "2019-09-10T20:18:33.673179Z",
     "start_time": "2019-09-10T20:18:33.670042Z"
    }
   },
   "source": [
    "# *** Make into control ***\n",
    "## Can we use Bokeh?\n",
    "\n",
    "<a></a>[Contents](#toc)\n",
    "### HeatMap for Weekly failed logons"
   ]
  },
  {
   "cell_type": "code",
   "execution_count": null,
   "metadata": {
    "ExecuteTime": {
     "end_time": "2020-05-15T23:05:46.615934Z",
     "start_time": "2020-05-15T23:05:44.570772Z"
    }
   },
   "outputs": [],
   "source": [
    "if ipaddr_origin == \"Internal\":\n",
    "    # Retrived related accounts from SecurityEvent table for Windows OS\n",
    "    if ip_entity['OSType'] =='Windows':\n",
    "        if \"SecurityEvent\" not in available_datasets:\n",
    "            raise ValueError(\"No Windows event log data available in the workspace\")\n",
    "        else:\n",
    "            failed_logons = \"\"\"\n",
    "               SecurityEvent\n",
    "                | where EventID in (4624,4625) | where IpAddress == \\'{ip_address}\\' or Computer == \\'{hostname}\\'  \n",
    "                | where TimeGenerated >= datetime({start}) and TimeGenerated <= datetime({end})\n",
    "                | extend DayofWeek = case(dayofweek(TimeGenerated) == time(1.00:00:00), \"Monday\", \n",
    "                                    dayofweek(TimeGenerated) == time(2.00:00:00), \"Tuesday\",\n",
    "                                    dayofweek(TimeGenerated) == time(3.00:00:00), \"Wednesday\",\n",
    "                                    dayofweek(TimeGenerated) == time(4.00:00:00), \"Thursday\",\n",
    "                                    dayofweek(TimeGenerated) == time(5.00:00:00), \"Friday\",\n",
    "                                    dayofweek(TimeGenerated) == time(6.00:00:00), \"Saturday\",\n",
    "                                    \"Sunday\")\n",
    "                | summarize LogonCount=count() by DayofWeek, HourOfDay=format_datetime(bin(TimeGenerated,1h),'HH:mm')\n",
    "            \"\"\".format(\n",
    "                **ipaddr_query_params(), hostname=hostname\n",
    "            )\n",
    "            failed_logons_df = qry_prov.exec_query(failed_logons)\n",
    "\n",
    "    elif ip_entity['OSType'] =='Linux':\n",
    "        if \"Syslog\" not in available_datasets:\n",
    "            raise ValueError(\"No Linux syslog data available in the workspace\")\n",
    "        else:   \n",
    "            failed_logons_df = qry_prov.LinuxSyslog.user_logon(invest_times, account_name ='', add_query_items=\"\"\"| where HostIP == '{ipaddr_text.value}' |extend Account = AccountName | extend DayofWeek = case(dayofweek(TimeGenerated) == time(1.00:00:00), \"Monday\", dayofweek(TimeGenerated) == time(2.00:00:00), \"Tuesday\",\n",
    "                                    dayofweek(TimeGenerated) == time(3.00:00:00), \"Wednesday\",\n",
    "                                    dayofweek(TimeGenerated) == time(4.00:00:00), \"Thursday\",\n",
    "                                    dayofweek(TimeGenerated) == time(5.00:00:00), \"Friday\",\n",
    "                                    dayofweek(TimeGenerated) == time(6.00:00:00), \"Saturday\", \"Sunday\") | summarize LogonCount=count() by DayofWeek, HourOfDay=format_datetime(bin(TimeGenerated,1h),'HH:mm')\"\"\")\n",
    "\n",
    "    # Plotting hearmap using seaborn library if there are failed logons\n",
    "    if len(failed_logons_df) > 0:\n",
    "        df_pivot = (\n",
    "            failed_logons_df.reset_index()\n",
    "            .pivot_table(index=\"DayofWeek\", columns=\"HourOfDay\", values=\"LogonCount\")\n",
    "            .fillna(0)\n",
    "        )\n",
    "        display(\n",
    "            Markdown(\n",
    "                f'###  <span style=\"color:blue\"> Heatmap - Weekly Failed Logon Trend :: </span>'\n",
    "            )\n",
    "        )\n",
    "        f, ax = plt.subplots(figsize=(16, 8))\n",
    "        hm1 = sns.heatmap(df_pivot, cmap=\"YlGnBu\", ax=ax)\n",
    "        plt.xticks(rotation=45)\n",
    "        plt.yticks(rotation=30)\n",
    "    else:\n",
    "        linux_logons=qry_prov.LinuxSyslog.list_logons_for_source_ip(**ipaddr_query_params())\n",
    "        failed_logons = (logon_events[logon_events['LogonResult'] == 'Failure'])\n",
    "else:\n",
    "    md(f'Analysis section Not Applicable since IP address owner is {ipaddr_origin}', styles=[\"bold\",\"red\"])"
   ]
  },
  {
   "cell_type": "markdown",
   "metadata": {},
   "source": [
    "<a></a>[Contents](#toc)\n",
    "### Host Logons Timeline"
   ]
  },
  {
   "cell_type": "code",
   "execution_count": null,
   "metadata": {
    "ExecuteTime": {
     "end_time": "2020-05-15T23:05:49.256466Z",
     "start_time": "2020-05-15T23:05:49.190460Z"
    }
   },
   "outputs": [],
   "source": [
    "# set the origin time to the time of our alert\n",
    "try:\n",
    "    origin_time = (related_alert.TimeGenerated \n",
    "                   if recenter_wgt.value \n",
    "                   else query_times.origin_time)\n",
    "except NameError:\n",
    "    origin_time = query_times.origin_time\n",
    "    \n",
    "logon_query_times = nbwidgets.QueryTime(\n",
    "    units=\"day\",\n",
    "    origin_time=origin_time,\n",
    "    before=5,\n",
    "    after=1,\n",
    "    max_before=20,\n",
    "    max_after=20,\n",
    ")\n",
    "logon_query_times.display()"
   ]
  },
  {
   "cell_type": "code",
   "execution_count": null,
   "metadata": {
    "ExecuteTime": {
     "end_time": "2020-05-15T23:05:55.096129Z",
     "start_time": "2020-05-15T23:05:52.661823Z"
    }
   },
   "outputs": [],
   "source": [
    "if ipaddr_origin == \"Internal\":\n",
    "    host_logons = qry_prov.WindowsSecurity.list_host_logons(\n",
    "        logon_query_times, host_name=hostname\n",
    "    )\n",
    "\n",
    "    if host_logons is not None and not host_logons.empty:\n",
    "        display(Markdown(\"### Logon timeline.\"))\n",
    "        tooltip_cols = [\n",
    "            \"TargetUserName\",\n",
    "            \"TargetDomainName\",\n",
    "            \"SubjectUserName\",\n",
    "            \"SubjectDomainName\",\n",
    "            \"LogonType\",\n",
    "            \"IpAddress\",\n",
    "        ]\n",
    "        nbdisplay.display_timeline(\n",
    "            data=host_logons,\n",
    "            group_by=\"TargetUserName\",\n",
    "            source_columns=tooltip_cols,\n",
    "            legend=\"right\", yaxis=True\n",
    "        )\n",
    "\n",
    "        display(Markdown(\"### Counts of logon events by logon type.\"))\n",
    "        display(Markdown(\"Min counts for each logon type highlighted.\"))\n",
    "        logon_by_type = (\n",
    "            host_logons[[\"Account\", \"LogonType\", \"EventID\"]]\n",
    "            .astype({'LogonType': 'int32'})\n",
    "            .merge(right=pd.Series(data=nbdisplay._WIN_LOGON_TYPE_MAP, name=\"LogonTypeDesc\"),\n",
    "                   left_on=\"LogonType\", right_index=True)\n",
    "            .drop(columns=\"LogonType\")\n",
    "            .groupby([\"Account\", \"LogonTypeDesc\"])\n",
    "            .count()\n",
    "            .unstack()\n",
    "            .rename(columns={\"EventID\": \"LogonCount\"})\n",
    "            .fillna(0)\n",
    "            .style\n",
    "            .background_gradient(cmap=\"viridis\", low=0.5, high=0)\n",
    "            .format(\"{0:0>3.0f}\")\n",
    "        )\n",
    "        display(logon_by_type)\n",
    "    else:\n",
    "        display(Markdown(\"No logon events found for host.\"))\n",
    "else:\n",
    "    md(f'Analysis section Not Applicable since IP address owner is {ipaddr_origin}', styles=[\"bold\",\"red\"])"
   ]
  },
  {
   "cell_type": "markdown",
   "metadata": {},
   "source": [
    "### Failed Logons Timeline"
   ]
  },
  {
   "cell_type": "code",
   "execution_count": null,
   "metadata": {
    "ExecuteTime": {
     "end_time": "2020-05-15T23:06:01.493064Z",
     "start_time": "2020-05-15T23:05:59.580819Z"
    },
    "scrolled": true
   },
   "outputs": [],
   "source": [
    "if ipaddr_origin == \"Internal\":\n",
    "    failedLogons = qry_prov.WindowsSecurity.list_host_logon_failures(\n",
    "        logon_query_times, host_name=ip_entity.hostname\n",
    "    )\n",
    "    if failedLogons.empty:\n",
    "        print(\"No logon failures recorded for this host between \",\n",
    "              f\" {logon_query_times.start} and {logon_query_times.end}\"\n",
    "            )\n",
    "    else:\n",
    "        nbdisplay.display_timeline(\n",
    "            data=host_logons.query('TargetLogonId != \"0x3e7\"'),\n",
    "            overlay_data=failedLogons,\n",
    "            alert=related_alert,\n",
    "            title=\"Logons (blue=user-success, green=failed)\",\n",
    "            source_columns=tooltip_cols,\n",
    "            height=200,\n",
    "        )\n",
    "        display(failedLogons\n",
    "     .astype({'LogonType': 'int32'})\n",
    "     .merge(right=pd.Series(data=nbdisplay._WIN_LOGON_TYPE_MAP, name=\"LogonTypeDesc\"),\n",
    "                   left_on=\"LogonType\", right_index=True)\n",
    "     [['Account', 'EventID', 'TimeGenerated',\n",
    "      'Computer', 'SubjectUserName', 'SubjectDomainName',\n",
    "       'TargetUserName', 'TargetDomainName',\n",
    "       'LogonTypeDesc','IpAddress', 'WorkstationName'\n",
    "      ]])\n",
    "else:\n",
    "    md(f'Analysis section Not Applicable since IP address owner is {ipaddr_origin}', styles=[\"bold\",\"red\"])"
   ]
  },
  {
   "cell_type": "markdown",
   "metadata": {
    "ExecuteTime": {
     "end_time": "2019-08-30T15:52:54.700099Z",
     "start_time": "2019-08-30T15:52:54.661189Z"
    }
   },
   "source": [
    "<a></a>[Contents](#toc)\n",
    "## Network Connection Analysis\n",
    "\n",
    "**Hypothesis:** That an attacker is remotely communicating with the host in order to compromise the host or for outbound communication to C2 for data exfiltration purposes after compromising the host.\n",
    "\n",
    "This section provides an overview of network activity to and from the host during hunting time frame, the purpose of this is for the identification of anomalous network traffic. If you wish to investigate a specific IP in detail it is recommended that to use another instance of this notebook with each IP addresses.\n",
    "\n",
    "> Note: this query can return a lot of data for active hosts\n",
    "> If your query times out, try reducing the time range, breaking the analysis\n",
    "> into chunks"
   ]
  },
  {
   "cell_type": "markdown",
   "metadata": {},
   "source": [
    "<a></a>[Contents](#toc)\n",
    "### Network Check Communications with Other Hosts"
   ]
  },
  {
   "cell_type": "code",
   "execution_count": null,
   "metadata": {
    "ExecuteTime": {
     "end_time": "2020-05-15T23:06:06.486183Z",
     "start_time": "2020-05-15T23:06:06.429184Z"
    }
   },
   "outputs": [],
   "source": [
    "ip_q_times = nbwidgets.QueryTime(\n",
    "    label=\"Set time bounds for network queries\",\n",
    "    units=\"hour\",\n",
    "    max_before=120,\n",
    "    before=5,\n",
    "    after=5,\n",
    "    max_after=60,\n",
    "    origin_time=logon_query_times.origin_time\n",
    ")\n",
    "ip_q_times.display()"
   ]
  },
  {
   "cell_type": "markdown",
   "metadata": {},
   "source": [
    "# *** Covered ***\n",
    "\n",
    "<a></a>[Contents](#toc)\n",
    "### Query Flows by IP Address"
   ]
  },
  {
   "cell_type": "code",
   "execution_count": null,
   "metadata": {
    "ExecuteTime": {
     "end_time": "2020-05-15T23:06:22.160247Z",
     "start_time": "2020-05-15T23:06:10.292782Z"
    }
   },
   "outputs": [],
   "source": [
    "if \"AzureNetworkAnalytics_CL\" not in available_datasets:\n",
    "    md_warn(\"No network flow data available.\")\n",
    "    md(\"Please skip the remainder of this section and go to [Time-Series-Anomalies](#Outbound-Data-transfer-Time-Series-Anomalies)\")\n",
    "    az_net_comms_df = None\n",
    "else:\n",
    "    all_host_ips = (\n",
    "        ip_entity['private_ips'] + ip_entity['public_ips']\n",
    "    )\n",
    "    host_ips = [i.Address for i in all_host_ips]\n",
    "\n",
    "    az_net_comms_df = qry_prov.Network.list_azure_network_flows_by_ip(\n",
    "        ip_q_times, ip_address_list=host_ips\n",
    "    )\n",
    "\n",
    "    if isinstance(az_net_comms_df, pd.DataFrame) and not az_net_comms_df.empty:\n",
    "        az_net_comms_df['TotalAllowedFlows'] = az_net_comms_df['AllowedOutFlows'] + az_net_comms_df['AllowedInFlows']\n",
    "        nbdisplay.display_timeline(\n",
    "            data=az_net_comms_df,\n",
    "            group_by=\"L7Protocol\",\n",
    "            title=\"Network Flows by Protocol\",\n",
    "            time_column=\"FlowStartTime\",\n",
    "            source_columns=[\"FlowType\", \"AllExtIPs\", \"L7Protocol\", \"FlowDirection\"],\n",
    "            height=300,\n",
    "            legend=\"right\",\n",
    "            yaxis=True\n",
    "        )\n",
    "        nbdisplay.display_timeline(\n",
    "            data=az_net_comms_df,\n",
    "            group_by=\"FlowDirection\",\n",
    "            title=\"Network Flows by Direction\",\n",
    "            time_column=\"FlowStartTime\",\n",
    "            source_columns=[\"FlowType\", \"AllExtIPs\", \"L7Protocol\", \"FlowDirection\"],\n",
    "            height=300,\n",
    "            legend=\"right\",\n",
    "            yaxis=True\n",
    "        )\n",
    "    else:\n",
    "        md_warn(\"No network data for specified time range.\")\n",
    "        md(\"Please skip the remainder of this section and go to [Time-Series-Anomalies](#Outbound-Data-transfer-Time-Series-Anomalies)\")"
   ]
  },
  {
   "cell_type": "code",
   "execution_count": null,
   "metadata": {
    "ExecuteTime": {
     "end_time": "2020-05-15T23:06:50.373391Z",
     "start_time": "2020-05-15T23:06:50.084392Z"
    }
   },
   "outputs": [],
   "source": [
    "try:\n",
    "    flow_plot = nbdisplay.display_timeline_values(\n",
    "        data=az_net_comms_df,\n",
    "        group_by=\"L7Protocol\",\n",
    "        source_columns=[\"FlowType\", \n",
    "                      \"AllExtIPs\", \n",
    "                      \"L7Protocol\", \n",
    "                      \"FlowDirection\", \n",
    "                      \"TotalAllowedFlows\"],\n",
    "        time_column=\"FlowStartTime\",\n",
    "        y=\"TotalAllowedFlows\",\n",
    "        legend=\"right\",\n",
    "        height=500,\n",
    "        kind=[\"vbar\", \"circle\"],\n",
    "    );\n",
    "except NameError as err:\n",
    "    md(f\"Error Occured, Make sure to execute previous cells in notebook: {err}\",styles=[\"bold\",\"red\"])"
   ]
  },
  {
   "cell_type": "code",
   "execution_count": null,
   "metadata": {
    "ExecuteTime": {
     "end_time": "2020-05-15T23:06:55.928554Z",
     "start_time": "2020-05-15T23:06:55.790553Z"
    }
   },
   "outputs": [],
   "source": [
    "try:\n",
    "    if az_net_comms_df is not None and not az_net_comms_df.empty:\n",
    "        cm = sns.light_palette(\"green\", as_cmap=True)\n",
    "\n",
    "        cols = [\n",
    "            \"VMName\",\n",
    "            \"VMIPAddress\",\n",
    "            \"PublicIPs\",\n",
    "            \"SrcIP\",\n",
    "            \"DestIP\",\n",
    "            \"L4Protocol\",\n",
    "            \"L7Protocol\",\n",
    "            \"DestPort\",\n",
    "            \"FlowDirection\",\n",
    "            \"AllExtIPs\",\n",
    "            \"TotalAllowedFlows\",\n",
    "        ]\n",
    "        flow_index = az_net_comms_df[cols].copy()\n",
    "\n",
    "        def get_source_ip(row):\n",
    "            if row.FlowDirection == \"O\":\n",
    "                return row.VMIPAddress if row.VMIPAddress else row.SrcIP\n",
    "            else:\n",
    "                return row.AllExtIPs if row.AllExtIPs else row.DestIP\n",
    "\n",
    "        def get_dest_ip(row):\n",
    "            if row.FlowDirection == \"O\":\n",
    "                return row.AllExtIPs if row.AllExtIPs else row.DestIP\n",
    "            else:\n",
    "                return row.VMIPAddress if row.VMIPAddress else row.SrcIP\n",
    "    \n",
    "        flow_index[\"source\"] = flow_index.apply(get_source_ip, axis=1)\n",
    "        flow_index[\"dest\"] = flow_index.apply(get_dest_ip, axis=1)\n",
    "        display(flow_index)\n",
    "\n",
    "        # Uncomment to view flow_index results\n",
    "    #     with warnings.catch_warnings():\n",
    "    #         warnings.simplefilter(\"ignore\")\n",
    "    #         display(\n",
    "    #             flow_index[\n",
    "    #                 [\"source\", \"dest\", \"L7Protocol\", \"FlowDirection\", \"TotalAllowedFlows\"]\n",
    "    #             ]\n",
    "    #             .groupby([\"source\", \"dest\", \"L7Protocol\", \"FlowDirection\"])\n",
    "    #             .sum()\n",
    "    #             .reset_index()\n",
    "    #             .style.bar(subset=[\"TotalAllowedFlows\"], color=\"#d65f5f\")\n",
    "    #         )\n",
    "except NameError as err:\n",
    "    md(f\"Error Occured, Make sure to execute previous cells in notebook: {err}\",styles=[\"bold\",\"red\"])"
   ]
  },
  {
   "cell_type": "markdown",
   "metadata": {},
   "source": [
    "# *** Use IP notebooklet on other IPs? ***\n",
    "\n",
    "<a></a>[Contents](#toc)\n",
    "### Bulk whois lookup "
   ]
  },
  {
   "cell_type": "code",
   "execution_count": null,
   "metadata": {
    "ExecuteTime": {
     "end_time": "2020-05-15T23:08:00.744206Z",
     "start_time": "2020-05-15T23:07:01.493951Z"
    }
   },
   "outputs": [],
   "source": [
    "# Bulk WHOIS lookup function\n",
    "from functools import lru_cache\n",
    "from ipwhois import IPWhois\n",
    "from ipaddress import ip_address\n",
    "\n",
    "try:\n",
    "    # Add ASN informatio from Whois\n",
    "    flows_df = (\n",
    "        flow_index[[\"source\", \"dest\", \"L7Protocol\", \"FlowDirection\", \"TotalAllowedFlows\"]]\n",
    "        .groupby([\"source\", \"dest\", \"L7Protocol\", \"FlowDirection\"])\n",
    "        .sum()\n",
    "        .reset_index()\n",
    "    )\n",
    "\n",
    "    num_ips = len(flows_df[\"source\"].unique()) + len(flows_df[\"dest\"].unique())\n",
    "    print(f\"Performing WhoIs lookups for {num_ips} IPs \", end=\"\")\n",
    "    #flows_df = flows_df.assign(DestASN=\"\", DestASNFull=\"\", SourceASN=\"\", SourceASNFull=\"\")\n",
    "    flows_df[\"DestASN\"] = flows_df.apply(lambda x: get_whois_info(x.dest, True), axis=1)\n",
    "    flows_df[\"SourceASN\"] = flows_df.apply(lambda x: get_whois_info(x.source, True), axis=1)\n",
    "    print(\"done\")\n",
    "\n",
    "    # Split the tuple returned by get_whois_info into separate columns\n",
    "    flows_df[\"DestASNFull\"] = flows_df.apply(lambda x: x.DestASN[1], axis=1)\n",
    "    flows_df[\"DestASN\"] = flows_df.apply(lambda x: x.DestASN[0], axis=1)\n",
    "    flows_df[\"SourceASNFull\"] = flows_df.apply(lambda x: x.SourceASN[1], axis=1)\n",
    "    flows_df[\"SourceASN\"] = flows_df.apply(lambda x: x.SourceASN[0], axis=1)\n",
    "\n",
    "    our_host_asns = [get_whois_info(ip.Address)[0] for ip in ip_entity.public_ips]\n",
    "    md(f\"Host {ip_entity.hostname} ASNs:\", \"bold\")\n",
    "    md(str(our_host_asns))\n",
    "\n",
    "    flow_sum_df = flows_df.groupby([\"DestASN\", \"SourceASN\"]).agg(\n",
    "        TotalAllowedFlows=pd.NamedAgg(column=\"TotalAllowedFlows\", aggfunc=\"sum\"),\n",
    "        L7Protocols=pd.NamedAgg(column=\"L7Protocol\", aggfunc=lambda x: x.unique().tolist()),\n",
    "        source_ips=pd.NamedAgg(column=\"source\", aggfunc=lambda x: x.unique().tolist()),\n",
    "        dest_ips=pd.NamedAgg(column=\"dest\", aggfunc=lambda x: x.unique().tolist()),\n",
    "    ).reset_index()\n",
    "    display(flow_sum_df)\n",
    "except NameError as err:\n",
    "    md(f\"Error Occured, Make sure to execute previous cells in notebook: {err}\",styles=[\"bold\",\"red\"])"
   ]
  },
  {
   "cell_type": "markdown",
   "metadata": {},
   "source": [
    "### Choose ASNs/IPs to Check for Threat Intel Reports\n",
    "Choose from the list of Selected ASNs for the IPs you wish to check on.\n",
    "The Source list is been pre-populated with all ASNs found in the network flow summary.\n",
    "\n",
    "As an example, we've populated the `Selected` list with the ASNs that have the lowest number of flows to and from the host. We also remove the ASN that matches the ASN of the host we are investigating.\n",
    "\n",
    "Please edit this list, using flow summary data above as a guide and leaving only ASNs that you are suspicious about. Typicially these would be ones with relatively low `TotalAllowedFlows` and possibly with unusual `L7Protocols`."
   ]
  },
  {
   "cell_type": "code",
   "execution_count": null,
   "metadata": {
    "ExecuteTime": {
     "end_time": "2020-05-15T23:08:01.347207Z",
     "start_time": "2020-05-15T23:08:01.287206Z"
    }
   },
   "outputs": [],
   "source": [
    "try:\n",
    "    if isinstance(flow_sum_df, pd.DataFrame) and not flow_sum_df.empty:\n",
    "        all_asns = list(flow_sum_df[\"DestASN\"].unique()) + list(flow_sum_df[\"SourceASN\"].unique())\n",
    "        all_asns = set(all_asns) - set([\"private address\"])\n",
    "\n",
    "        # Select the ASNs in the 25th percentile (lowest number of flows)\n",
    "        quant_25pc = flow_sum_df[\"TotalAllowedFlows\"].quantile(q=[0.25]).iat[0]\n",
    "        quant_25pc_df = flow_sum_df[flow_sum_df[\"TotalAllowedFlows\"] <= quant_25pc]\n",
    "        other_asns = list(quant_25pc_df[\"DestASN\"].unique()) + list(quant_25pc_df[\"SourceASN\"].unique())\n",
    "        other_asns = set(other_asns) - set(our_host_asns)\n",
    "        md(\"Choose IPs from Selected ASNs to look up for Threat Intel.\", \"bold\")\n",
    "        sel_asn = nbwidgets.SelectSubset(source_items=all_asns, default_selected=other_asns)\n",
    "except NameError as err:\n",
    "    md(f\"Error Occured, Make sure to execute previous cells in notebook: {err}\",styles=[\"bold\",\"red\"])"
   ]
  },
  {
   "cell_type": "code",
   "execution_count": null,
   "metadata": {
    "ExecuteTime": {
     "end_time": "2020-05-15T23:08:14.516746Z",
     "start_time": "2020-05-15T23:08:01.935205Z"
    }
   },
   "outputs": [],
   "source": [
    "try:\n",
    "    if isinstance(flow_sum_df, pd.DataFrame) and not flow_sum_df.empty:\n",
    "        ti_lookup = TILookup()\n",
    "        from itertools import chain\n",
    "        dest_ips = set(chain.from_iterable(flow_sum_df[flow_sum_df[\"DestASN\"].isin(sel_asn.selected_items)][\"dest_ips\"]))\n",
    "        src_ips = set(chain.from_iterable(flow_sum_df[flow_sum_df[\"SourceASN\"].isin(sel_asn.selected_items)][\"source_ips\"]))\n",
    "        selected_ips = dest_ips | src_ips\n",
    "        print(f\"{len(selected_ips)} unique IPs in selected ASNs\")\n",
    "\n",
    "        # Add the IoCType to save cost of inferring each item\n",
    "        selected_ip_dict = {ip: \"ipv4\" for ip in selected_ips}\n",
    "        ti_results = ti_lookup.lookup_iocs(data=selected_ip_dict)\n",
    "\n",
    "        print(f\"{len(ti_results)} results received.\")\n",
    "\n",
    "        # ti_results_pos = ti_results[ti_results[\"Severity\"] > 0]\n",
    "        #####\n",
    "        # WARNING - faking results for illustration purposes\n",
    "        #####\n",
    "        ti_results_pos = ti_results.sample(n=2)\n",
    "\n",
    "        print(f\"{len(ti_results_pos)} positive results found.\")\n",
    "\n",
    "\n",
    "        if not ti_results_pos.empty:\n",
    "            src_pos = flows_df.merge(ti_results_pos, left_on=\"source\", right_on=\"Ioc\")\n",
    "            dest_pos = flows_df.merge(ti_results_pos, left_on=\"dest\", right_on=\"Ioc\")\n",
    "            ti_ip_results = pd.concat([src_pos, dest_pos])\n",
    "            md_warn(\"Positive Threat Intel Results found for the following flows\")\n",
    "            md(\"Please examine these IP flows using the IP Explorer notebook.\", \"bold, large\")\n",
    "            display(ti_ip_results)\n",
    "except NameError as err:\n",
    "    md(f\"Error Occured, Make sure to execute previous cells in notebook: {err}\",styles=[\"bold\",\"red\"])"
   ]
  },
  {
   "cell_type": "markdown",
   "metadata": {},
   "source": [
    "# *** Should make a general DF -> GeoMap nblt ***\n",
    "\n",
    "### GeoIP Map of External IPs"
   ]
  },
  {
   "cell_type": "code",
   "execution_count": null,
   "metadata": {
    "ExecuteTime": {
     "end_time": "2020-05-15T23:08:16.023912Z",
     "start_time": "2020-05-15T23:08:15.611915Z"
    }
   },
   "outputs": [],
   "source": [
    "iplocation = GeoLiteLookup()\n",
    "def format_ip_entity(row, ip_col):\n",
    "    ip_entity = entities.IpAddress(Address=row[ip_col])\n",
    "    iplocation.lookup_ip(ip_entity=ip_entity)\n",
    "    ip_entity.AdditionalData[\"protocol\"] = row.L7Protocol\n",
    "    if \"severity\" in row:\n",
    "        ip_entity.AdditionalData[\"threat severity\"] = row[\"severity\"]\n",
    "    if \"Details\" in row:\n",
    "        ip_entity.AdditionalData[\"threat details\"] = row[\"Details\"]\n",
    "    return ip_entity\n",
    "\n",
    "# from msticpy.nbtools.foliummap import FoliumMap\n",
    "folium_map = FoliumMap()\n",
    "if az_net_comms_df is None or az_net_comms_df.empty:\n",
    "    print(\"No network flow data available.\")\n",
    "else:\n",
    "    # Get the flow records for all flows not in the TI results\n",
    "    selected_out = flows_df[flows_df[\"DestASN\"].isin(sel_asn.selected_items)]\n",
    "    selected_out = selected_out[~selected_out[\"dest\"].isin(ti_ip_results[\"Ioc\"])]\n",
    "    if selected_out.empty:\n",
    "        ips_out = []\n",
    "    else:\n",
    "        ips_out = list(selected_out.apply(lambda x: format_ip_entity(x, \"dest\"), axis=1))\n",
    "    \n",
    "    selected_in = flows_df[flows_df[\"SourceASN\"].isin(sel_asn.selected_items)]\n",
    "    selected_in = selected_in[~selected_in[\"source\"].isin(ti_ip_results[\"Ioc\"])]\n",
    "    if selected_in.empty:\n",
    "        ips_in = []\n",
    "    else:\n",
    "        ips_in = list(selected_in.apply(lambda x: format_ip_entity(x, \"source\"), axis=1))\n",
    "\n",
    "    ips_threats = list(ti_ip_results.apply(lambda x: format_ip_entity(x, \"Ioc\"), axis=1))\n",
    "\n",
    "    display(HTML(\"<h3>External IP Addresses communicating with host</h3>\"))\n",
    "    display(HTML(\"Numbered circles indicate multiple items - click to expand\"))\n",
    "    display(HTML(\"Location markers: <br>Blue = outbound, Purple = inbound, Green = Host, Red = Threats\"))\n",
    "\n",
    "    icon_props = {\"color\": \"green\"}\n",
    "    for ips in ip_entity.public_ips:\n",
    "        ips.AdditionalData[\"host\"] = ip_entity.hostname\n",
    "    folium_map.add_ip_cluster(ip_entities=ip_entity.public_ips, **icon_props)\n",
    "    icon_props = {\"color\": \"blue\"}\n",
    "    folium_map.add_ip_cluster(ip_entities=ips_out, **icon_props)\n",
    "    icon_props = {\"color\": \"purple\"}\n",
    "    folium_map.add_ip_cluster(ip_entities=ips_in, **icon_props)\n",
    "    icon_props = {\"color\": \"red\"}\n",
    "    folium_map.add_ip_cluster(ip_entities=ips_threats, **icon_props)\n",
    "    \n",
    "    display(folium_map)"
   ]
  },
  {
   "cell_type": "markdown",
   "metadata": {
    "ExecuteTime": {
     "end_time": "2019-09-05T18:03:37.980223Z",
     "start_time": "2019-09-05T18:03:37.804856Z"
    }
   },
   "source": [
    "# *** Would be nice to have a TimeSeries notebooklet ***\n",
    "\n",
    "<a></a>[Contents](#toc)\n",
    "### Outbound Data transfer Time Series Anomalies"
   ]
  },
  {
   "cell_type": "markdown",
   "metadata": {},
   "source": [
    "This section will look into the network datasources to check outbound data transfer trends. \n",
    "You can also use time series analysis using below built-in KQL query example to analyze anamalous data transfer trends.below example shows sample dataset trends comparing with actual vs baseline traffic trends."
   ]
  },
  {
   "cell_type": "code",
   "execution_count": null,
   "metadata": {
    "ExecuteTime": {
     "end_time": "2020-05-15T23:08:42.937737Z",
     "start_time": "2020-05-15T23:08:41.794266Z"
    }
   },
   "outputs": [],
   "source": [
    "if \"VMConnection\" in table_index or \"CommonSecurityLog\" in table_index:\n",
    "    # KQL query for full text search of IP address and display all datatypes\n",
    "    dataxfer_stats = \"\"\"\n",
    "      union isfuzzy=true\n",
    "      (\n",
    "      CommonSecurityLog \n",
    "      | where TimeGenerated >= datetime({start}) and TimeGenerated <= datetime({end})\n",
    "      | where isnotempty(DestinationIP) and isnotempty(SourceIP)\n",
    "      | where SourceIP == \\'{ip_address}\\'\n",
    "      | extend SentBytesinKB = (SentBytes / 1024), ReceivedBytesinKB = (ReceivedBytes / 1024)\n",
    "      | summarize DailyCount = count(), ListOfDestPorts = make_set(DestinationPort), TotalSentBytesinKB = sum(SentBytesinKB), TotalReceivedBytesinKB = sum(ReceivedBytesinKB) by SourceIP, DestinationIP, DeviceVendor, bin(TimeGenerated,1d)\n",
    "      | project DeviceVendor, TimeGenerated, SourceIP, DestinationIP, ListOfDestPorts, TotalSentBytesinKB, TotalReceivedBytesinKB \n",
    "      ),\n",
    "      (\n",
    "      VMConnection \n",
    "      | where TimeGenerated >= datetime({start}) and TimeGenerated <= datetime({end}) \n",
    "      | where isnotempty(DestinationIp) and isnotempty(SourceIp)\n",
    "      | where SourceIp == \\'{ip_address}\\'\n",
    "      | extend DeviceVendor = \"VMConnection\", SourceIP = SourceIp, DestinationIP = DestinationIp\n",
    "      | extend SentBytesinKB = (BytesSent / 1024), ReceivedBytesinKB = (BytesReceived / 1024)\n",
    "      | summarize DailyCount = count(), ListOfDestPorts = make_set(DestinationPort), TotalSentBytesinKB = sum(SentBytesinKB),TotalReceivedBytesinKB = sum(ReceivedBytesinKB) by SourceIP, DestinationIP, DeviceVendor, bin(TimeGenerated,1d)\n",
    "      | project DeviceVendor, TimeGenerated, SourceIP, DestinationIP, ListOfDestPorts, TotalSentBytesinKB, TotalReceivedBytesinKB \n",
    "      )\n",
    "    \"\"\".format(**ipaddr_query_params())\n",
    "\n",
    "    dataxfer_stats_df = qry_prov.exec_query(dataxfer_stats)\n",
    "\n",
    "#Display result as transposed matrix of datatypes availabel to query for the query period\n",
    "if len(dataxfer_stats_df) > 0:\n",
    "    md(\n",
    "            'Data transfer daily stats for IP ::', styles=[\"bold\",\"green\"]\n",
    "        )\n",
    "    display(dataxfer_stats_df)\n",
    "else:\n",
    "    md_warn(\n",
    "            f'No Data transfer logs found for the query period'\n",
    "        )\n",
    "        #####\n",
    "        # WARNING - faking results for illustration purposes\n",
    "        #####\n",
    "md(\n",
    "            'Visualizing time series data transfer on dummy dataset for demonstration ::', styles=[\"bold\",\"green\"]\n",
    "    )\n",
    "\n",
    "# Generating graph based on dummy dataset in custom table representing Flow records outbound data transfer\n",
    "timechartquery = \"\"\"\n",
    "let TimeSeriesData = PaloAltoBytesSent_CL\n",
    "| extend TimeGenerated = todatetime(EventTime_s), TotalBytesSent = todouble(TotalBytesSent_s) \n",
    "| summarize TimeGenerated=make_list(TimeGenerated, 10000),TotalBytesSent=make_list(TotalBytesSent, 10000) by deviceVendor_s\n",
    "| project TimeGenerated, TotalBytesSent;\n",
    "TimeSeriesData\n",
    "| extend (baseline,seasonal,trend,residual) = series_decompose(TotalBytesSent)\n",
    "| mv-expand TotalBytesSent to typeof(double), TimeGenerated to typeof(datetime), baseline to typeof(long), seasonal to typeof(long), trend to typeof(long), residual to typeof(long)\n",
    "| project TimeGenerated, TotalBytesSent, baseline\n",
    "| render timechart with (title=\"Palo Alto Outbound Data Transfer Time Series decomposition\")\n",
    "\"\"\"\n",
    "%kql -query timechartquery"
   ]
  },
  {
   "cell_type": "markdown",
   "metadata": {},
   "source": [
    "## Conclusion"
   ]
  },
  {
   "cell_type": "markdown",
   "metadata": {},
   "source": [
    "### List of Suspicious Activities/ Observables/Hunting bookmarks\n",
    "- Suspicious alerts for the IP\n",
    "- Anamalous Failed Logon trend on few days at 04:00 AM\n",
    "- Anamalous spike in traffic logs on http\n",
    "- Positive TI Hit from Open source feeds.\n",
    "- Unusual data transfer deviating from normal baseline."
   ]
  },
  {
   "cell_type": "markdown",
   "metadata": {},
   "source": [
    "<a></a>[Contents](#toc)\n",
    "## Appendices"
   ]
  },
  {
   "cell_type": "markdown",
   "metadata": {},
   "source": [
    "## Available DataFrames"
   ]
  },
  {
   "cell_type": "code",
   "execution_count": null,
   "metadata": {
    "ExecuteTime": {
     "end_time": "2020-04-02T10:00:41.436112Z",
     "start_time": "2020-04-02T10:00:41.426605Z"
    }
   },
   "outputs": [],
   "source": [
    "print('List of current DataFrames in Notebook')\n",
    "print('-' * 50)\n",
    "current_vars = list(locals().keys())\n",
    "for var_name in current_vars:\n",
    "    if isinstance(locals()[var_name], pd.DataFrame) and not var_name.startswith('_'):\n",
    "        print(var_name)"
   ]
  },
  {
   "cell_type": "markdown",
   "metadata": {},
   "source": [
    "### Saving Data to Excel\n",
    "To save the contents of a pandas DataFrame to an Excel spreadsheet\n",
    "use the following syntax\n",
    "```\n",
    "writer = pd.ExcelWriter('myWorksheet.xlsx')\n",
    "my_data_frame.to_excel(writer,'Sheet1')\n",
    "writer.save()\n",
    "```"
   ]
  },
  {
   "cell_type": "markdown",
   "metadata": {},
   "source": [
    "## Configuration\n",
    "\n",
    "### `msticpyconfig.yaml` configuration File\n",
    "You can configure primary and secondary TI providers and any required parameters in the `msticpyconfig.yaml` file. This is read from the current directory or you can set an environment variable (`MSTICPYCONFIG`) pointing to its location.\n",
    "\n",
    "To configure this file see the [ConfigureNotebookEnvironment notebook](https://github.com/Azure/Azure-Sentinel-Notebooks/blob/master/ConfiguringNotebookEnvironment.ipynb)"
   ]
  }
 ],
 "metadata": {
  "hide_input": false,
  "kernelspec": {
   "display_name": "Python 3.6.7 64-bit ('condadev': conda)",
   "language": "python",
   "name": "python36764bitcondadevconda6cccf545f08246a1a5c093078bc87e5f"
  },
  "language_info": {
   "codemirror_mode": {
    "name": "ipython",
    "version": 3
   },
   "file_extension": ".py",
   "mimetype": "text/x-python",
   "name": "python",
   "nbconvert_exporter": "python",
   "pygments_lexer": "ipython3",
   "version": "3.7.9"
  },
  "latex_envs": {
   "LaTeX_envs_menu_present": true,
   "autoclose": false,
   "autocomplete": true,
   "bibliofile": "biblio.bib",
   "cite_by": "apalike",
   "current_citInitial": 1,
   "eqLabelWithNumbers": true,
   "eqNumInitial": 1,
   "hotkeys": {
    "equation": "Ctrl-E",
    "itemize": "Ctrl-I"
   },
   "labels_anchors": false,
   "latex_user_defs": false,
   "report_style_numbering": false,
   "user_envs_cfg": false
  },
  "toc": {
   "base_numbering": 1,
   "nav_menu": {},
   "number_sections": true,
   "sideBar": true,
   "skip_h1_title": true,
   "title_cell": "Table of Contents",
   "title_sidebar": "Contents",
   "toc_cell": true,
   "toc_position": {
    "height": "calc(100% - 180px)",
    "left": "10px",
    "top": "150px",
    "width": "578px"
   },
   "toc_section_display": true,
   "toc_window_display": true
  },
  "varInspector": {
   "cols": {
    "lenName": 16,
    "lenType": 16,
    "lenVar": 40
   },
   "kernels_config": {
    "python": {
     "delete_cmd_postfix": "",
     "delete_cmd_prefix": "del ",
     "library": "var_list.py",
     "varRefreshCmd": "print(var_dic_list())"
    },
    "r": {
     "delete_cmd_postfix": ") ",
     "delete_cmd_prefix": "rm(",
     "library": "var_list.r",
     "varRefreshCmd": "cat(var_dic_list()) "
    }
   },
   "position": {
    "height": "400px",
    "left": "1549px",
    "right": "20px",
    "top": "120px",
    "width": "351px"
   },
   "types_to_exclude": [
    "module",
    "function",
    "builtin_function_or_method",
    "instance",
    "_Feature"
   ],
   "window_display": false
  },
  "widgets": {
   "application/vnd.jupyter.widget-state+json": {
    "state": {
     "0a31ad560fff4dc589a0de3a79973de7": {
      "model_module": "@jupyter-widgets/controls",
      "model_module_version": "1.5.0",
      "model_name": "VBoxModel",
      "state": {
       "children": [
        "IPY_MODEL_d0513966e7da4aefbb2dff4eb2d106d9",
        "IPY_MODEL_b3bd23ff610d48f1be4f0aa05848ad6a",
        "IPY_MODEL_6bc44fd3145d427080a7a14f734fa723"
       ],
       "layout": "IPY_MODEL_947bc38826d3434ca51399d147f734bc"
      }
     },
     "0dc48de44ec24350b04ad1c438dea0b2": {
      "model_module": "@jupyter-widgets/controls",
      "model_module_version": "1.5.0",
      "model_name": "DescriptionStyleModel",
      "state": {
       "description_width": ""
      }
     },
     "0f3974fff54a478c994c3fe35cc31a89": {
      "model_module": "@jupyter-widgets/base",
      "model_module_version": "1.2.0",
      "model_name": "LayoutModel",
      "state": {}
     },
     "129976418f364b70891d2bc6cd2d5ea0": {
      "model_module": "@jupyter-widgets/controls",
      "model_module_version": "1.5.0",
      "model_name": "DescriptionStyleModel",
      "state": {
       "description_width": "initial"
      }
     },
     "1d220e60a1ad4e70975625991102f9c5": {
      "model_module": "@jupyter-widgets/controls",
      "model_module_version": "1.5.0",
      "model_name": "TextModel",
      "state": {
       "description": "Query end time (UTC) :  ",
       "layout": "IPY_MODEL_cf53737cdd56432a9c56aaea43e9d228",
       "style": "IPY_MODEL_bcd33023948948c0baf8f0fa3e74701f",
       "value": "2021-04-01 18:49:37.656718"
      }
     },
     "2a3a0bd8946e4c3ab9aab269f32ff6e8": {
      "model_module": "@jupyter-widgets/controls",
      "model_module_version": "1.5.0",
      "model_name": "DatePickerModel",
      "state": {
       "description": "Origin Date",
       "disabled": false,
       "layout": "IPY_MODEL_86d553da7a684e5985794405b2c55235",
       "style": "IPY_MODEL_974330946f6c43e0914e8b3ff2546ace",
       "value": {
        "date": 1,
        "month": 3,
        "year": 2021
       }
      }
     },
     "313553a253c94f67a716be0fac5151be": {
      "model_module": "@jupyter-widgets/controls",
      "model_module_version": "1.5.0",
      "model_name": "DescriptionStyleModel",
      "state": {
       "description_width": ""
      }
     },
     "32028b841d8c41418e84dbe5652cd3ad": {
      "model_module": "@jupyter-widgets/base",
      "model_module_version": "1.2.0",
      "model_name": "LayoutModel",
      "state": {
       "width": "50%"
      }
     },
     "327eedef1d2e40048732dc00ce2c15ea": {
      "model_module": "@jupyter-widgets/controls",
      "model_module_version": "1.5.0",
      "model_name": "VBoxModel",
      "state": {
       "children": [
        "IPY_MODEL_bb45f1af1a034d7e92c0f0572af0e3cb",
        "IPY_MODEL_eb599a43e6bc44078a38bd8d01a140f5"
       ],
       "layout": "IPY_MODEL_933a2532e2084de083c169781838f1eb"
      }
     },
     "34deb044b4aa4d46a7da67a9277317aa": {
      "model_module": "@jupyter-widgets/controls",
      "model_module_version": "1.5.0",
      "model_name": "TextModel",
      "state": {
       "description": "Time (24hr)",
       "layout": "IPY_MODEL_b044de2067304aea989a336f11ff5267",
       "style": "IPY_MODEL_87751ae5bbbb40d9b79ac9a6bd0d0157",
       "value": "18:49:37.656718"
      }
     },
     "3d8606066d384574a6922eab1193d42d": {
      "model_module": "@jupyter-widgets/base",
      "model_module_version": "1.2.0",
      "model_name": "LayoutModel",
      "state": {}
     },
     "4dd7cf4c030b4261a62971b19fc8dc8d": {
      "model_module": "@jupyter-widgets/controls",
      "model_module_version": "1.5.0",
      "model_name": "DropdownModel",
      "state": {
       "_options_labels": [
        "minute",
        "hour",
        "day",
        "week"
       ],
       "index": 2,
       "layout": "IPY_MODEL_7685824d1ea44d40b51cfa61a53d86f5",
       "style": "IPY_MODEL_0dc48de44ec24350b04ad1c438dea0b2"
      }
     },
     "4f0aad52dd8a44d5b097c22c5442208a": {
      "model_module": "@jupyter-widgets/base",
      "model_module_version": "1.2.0",
      "model_name": "LayoutModel",
      "state": {
       "width": "100px"
      }
     },
     "4fb827e6464f4203ad1925c7bd30616e": {
      "model_module": "@jupyter-widgets/controls",
      "model_module_version": "1.5.0",
      "model_name": "DescriptionStyleModel",
      "state": {
       "description_width": "initial"
      }
     },
     "5052892d802c4fc791a14ed2086eb2e8": {
      "model_module": "@jupyter-widgets/base",
      "model_module_version": "1.2.0",
      "model_name": "LayoutModel",
      "state": {}
     },
     "50a2610452ed44e5af2a930588a77330": {
      "model_module": "@jupyter-widgets/controls",
      "model_module_version": "1.5.0",
      "model_name": "SliderStyleModel",
      "state": {
       "description_width": "initial"
      }
     },
     "52b2ca7a04b8440f954191681315504c": {
      "model_module": "@jupyter-widgets/controls",
      "model_module_version": "1.5.0",
      "model_name": "DescriptionStyleModel",
      "state": {
       "description_width": ""
      }
     },
     "59860773e71947d3a923245248ff978d": {
      "model_module": "@jupyter-widgets/controls",
      "model_module_version": "1.5.0",
      "model_name": "DescriptionStyleModel",
      "state": {
       "description_width": ""
      }
     },
     "5c59c57656a14ef58a5177badafeb75b": {
      "model_module": "@jupyter-widgets/controls",
      "model_module_version": "1.5.0",
      "model_name": "DescriptionStyleModel",
      "state": {
       "description_width": "150px"
      }
     },
     "6825106db9de4f18b18976fa5a9026c7": {
      "model_module": "@jupyter-widgets/controls",
      "model_module_version": "1.5.0",
      "model_name": "VBoxModel",
      "state": {
       "children": [
        "IPY_MODEL_f24a8c399b674003bad1f7593cd7c0da",
        "IPY_MODEL_bbc9461480e0414b816c2638817f58c4",
        "IPY_MODEL_d3d1152ce6914e099fa44573ec60f718"
       ],
       "layout": "IPY_MODEL_3d8606066d384574a6922eab1193d42d"
      }
     },
     "68394163f3d54dfabb0ce488b9d293a7": {
      "model_module": "@jupyter-widgets/base",
      "model_module_version": "1.2.0",
      "model_name": "LayoutModel",
      "state": {}
     },
     "69d929d495c843dab99b62d0637745fc": {
      "model_module": "@jupyter-widgets/base",
      "model_module_version": "1.2.0",
      "model_name": "LayoutModel",
      "state": {
       "width": "70%"
      }
     },
     "6bc44fd3145d427080a7a14f734fa723": {
      "model_module": "@jupyter-widgets/controls",
      "model_module_version": "1.5.0",
      "model_name": "VBoxModel",
      "state": {
       "children": [
        "IPY_MODEL_ed09b5c540484a4b91126e285f23fb23",
        "IPY_MODEL_acf5de6c01184005a0629fd73ba33f84",
        "IPY_MODEL_1d220e60a1ad4e70975625991102f9c5"
       ],
       "layout": "IPY_MODEL_68394163f3d54dfabb0ce488b9d293a7"
      }
     },
     "70435406147943daa818c0c0de3d0b73": {
      "model_module": "@jupyter-widgets/controls",
      "model_module_version": "1.5.0",
      "model_name": "DatePickerModel",
      "state": {
       "description": "Origin Date",
       "disabled": false,
       "layout": "IPY_MODEL_5052892d802c4fc791a14ed2086eb2e8",
       "style": "IPY_MODEL_52b2ca7a04b8440f954191681315504c",
       "value": {
        "date": 1,
        "month": 3,
        "year": 2021
       }
      }
     },
     "7376f9bb458b41129b50212890676694": {
      "model_module": "@jupyter-widgets/base",
      "model_module_version": "1.2.0",
      "model_name": "LayoutModel",
      "state": {}
     },
     "7685824d1ea44d40b51cfa61a53d86f5": {
      "model_module": "@jupyter-widgets/base",
      "model_module_version": "1.2.0",
      "model_name": "LayoutModel",
      "state": {
       "width": "100px"
      }
     },
     "7f883decf9fe4e6d9c3db315cd059775": {
      "model_module": "@jupyter-widgets/base",
      "model_module_version": "1.2.0",
      "model_name": "LayoutModel",
      "state": {}
     },
     "86d553da7a684e5985794405b2c55235": {
      "model_module": "@jupyter-widgets/base",
      "model_module_version": "1.2.0",
      "model_name": "LayoutModel",
      "state": {}
     },
     "87751ae5bbbb40d9b79ac9a6bd0d0157": {
      "model_module": "@jupyter-widgets/controls",
      "model_module_version": "1.5.0",
      "model_name": "DescriptionStyleModel",
      "state": {
       "description_width": ""
      }
     },
     "889612c19c854621ab3916ecddb26a49": {
      "model_module": "@jupyter-widgets/base",
      "model_module_version": "1.2.0",
      "model_name": "LayoutModel",
      "state": {
       "width": "95%"
      }
     },
     "8deab7dae46a47858f76e2206be0f9f9": {
      "model_module": "@jupyter-widgets/controls",
      "model_module_version": "1.5.0",
      "model_name": "DescriptionStyleModel",
      "state": {
       "description_width": "initial"
      }
     },
     "92db17bcee9741569e09990c5cb91e46": {
      "model_module": "@jupyter-widgets/controls",
      "model_module_version": "1.5.0",
      "model_name": "SliderStyleModel",
      "state": {
       "description_width": "initial"
      }
     },
     "933a2532e2084de083c169781838f1eb": {
      "model_module": "@jupyter-widgets/base",
      "model_module_version": "1.2.0",
      "model_name": "LayoutModel",
      "state": {}
     },
     "935ea8ad0cf04e92ab296e335ee26a6e": {
      "model_module": "@jupyter-widgets/controls",
      "model_module_version": "1.5.0",
      "model_name": "HTMLModel",
      "state": {
       "layout": "IPY_MODEL_fcdc614bf3194dbc948c81d3ce22ae39",
       "style": "IPY_MODEL_b11549c9c3284fd99e1151fa7a7310fd",
       "value": "<h4>Set time range for pivot functions.</h4>"
      }
     },
     "94354c80c8d14692bebaa8354cadbbea": {
      "model_module": "@jupyter-widgets/base",
      "model_module_version": "1.2.0",
      "model_name": "LayoutModel",
      "state": {}
     },
     "947bc38826d3434ca51399d147f734bc": {
      "model_module": "@jupyter-widgets/base",
      "model_module_version": "1.2.0",
      "model_name": "LayoutModel",
      "state": {}
     },
     "94fc6e4257034e23b2cc4477c12fc4b2": {
      "model_module": "@jupyter-widgets/base",
      "model_module_version": "1.2.0",
      "model_name": "LayoutModel",
      "state": {
       "width": "50%"
      }
     },
     "974330946f6c43e0914e8b3ff2546ace": {
      "model_module": "@jupyter-widgets/controls",
      "model_module_version": "1.5.0",
      "model_name": "DescriptionStyleModel",
      "state": {
       "description_width": ""
      }
     },
     "9ed6ac3c281549788ea8ba798519c1ac": {
      "model_module": "@jupyter-widgets/base",
      "model_module_version": "1.2.0",
      "model_name": "LayoutModel",
      "state": {
       "width": "70%"
      }
     },
     "a0f90e71951345eeb351f4f49e0b4629": {
      "model_module": "@jupyter-widgets/controls",
      "model_module_version": "1.5.0",
      "model_name": "IntRangeSliderModel",
      "state": {
       "_model_name": "IntRangeSliderModel",
       "_view_name": "IntRangeSliderView",
       "description": "Time Range",
       "layout": "IPY_MODEL_69d929d495c843dab99b62d0637745fc",
       "max": 4,
       "min": -4,
       "style": "IPY_MODEL_50a2610452ed44e5af2a930588a77330",
       "value": [
        -1,
        0
       ]
      }
     },
     "a3cbf3a95fd54e7a9f7a938a0e3bce0c": {
      "model_module": "@jupyter-widgets/controls",
      "model_module_version": "1.5.0",
      "model_name": "HBoxModel",
      "state": {
       "children": [
        "IPY_MODEL_2a3a0bd8946e4c3ab9aab269f32ff6e8",
        "IPY_MODEL_ac694fdcc7af412492baa146d5e16a59"
       ],
       "layout": "IPY_MODEL_c04ec06fc610425abe6a43db85c0f959"
      }
     },
     "a3d59d3329b240ef83302ef552ee4282": {
      "model_module": "@jupyter-widgets/base",
      "model_module_version": "1.2.0",
      "model_name": "LayoutModel",
      "state": {}
     },
     "a960c1660aa545abbcd33ffec7f30d18": {
      "model_module": "@jupyter-widgets/controls",
      "model_module_version": "1.5.0",
      "model_name": "IntRangeSliderModel",
      "state": {
       "_model_name": "IntRangeSliderModel",
       "_view_name": "IntRangeSliderView",
       "description": "Time Range",
       "layout": "IPY_MODEL_9ed6ac3c281549788ea8ba798519c1ac",
       "max": 4,
       "min": -96,
       "style": "IPY_MODEL_92db17bcee9741569e09990c5cb91e46",
       "value": [
        -24,
        0
       ]
      }
     },
     "ac694fdcc7af412492baa146d5e16a59": {
      "model_module": "@jupyter-widgets/controls",
      "model_module_version": "1.5.0",
      "model_name": "TextModel",
      "state": {
       "description": "Time (24hr)",
       "layout": "IPY_MODEL_a3d59d3329b240ef83302ef552ee4282",
       "style": "IPY_MODEL_59860773e71947d3a923245248ff978d",
       "value": "18:49:37.656718"
      }
     },
     "acf5de6c01184005a0629fd73ba33f84": {
      "model_module": "@jupyter-widgets/controls",
      "model_module_version": "1.5.0",
      "model_name": "TextModel",
      "state": {
       "description": "Query start time (UTC):",
       "layout": "IPY_MODEL_94fc6e4257034e23b2cc4477c12fc4b2",
       "style": "IPY_MODEL_4fb827e6464f4203ad1925c7bd30616e",
       "value": "2021-03-31 18:49:37.656718"
      }
     },
     "b044de2067304aea989a336f11ff5267": {
      "model_module": "@jupyter-widgets/base",
      "model_module_version": "1.2.0",
      "model_name": "LayoutModel",
      "state": {}
     },
     "b11549c9c3284fd99e1151fa7a7310fd": {
      "model_module": "@jupyter-widgets/controls",
      "model_module_version": "1.5.0",
      "model_name": "DescriptionStyleModel",
      "state": {
       "description_width": ""
      }
     },
     "b3bd23ff610d48f1be4f0aa05848ad6a": {
      "model_module": "@jupyter-widgets/controls",
      "model_module_version": "1.5.0",
      "model_name": "HBoxModel",
      "state": {
       "children": [
        "IPY_MODEL_70435406147943daa818c0c0de3d0b73",
        "IPY_MODEL_34deb044b4aa4d46a7da67a9277317aa"
       ],
       "layout": "IPY_MODEL_94354c80c8d14692bebaa8354cadbbea"
      }
     },
     "b59005b1be764324a378f753f390571b": {
      "model_module": "@jupyter-widgets/controls",
      "model_module_version": "1.5.0",
      "model_name": "DescriptionStyleModel",
      "state": {
       "description_width": "150px"
      }
     },
     "bb45f1af1a034d7e92c0f0572af0e3cb": {
      "model_module": "@jupyter-widgets/controls",
      "model_module_version": "1.5.0",
      "model_name": "TextModel",
      "state": {
       "description": "Workspace Id:",
       "layout": "IPY_MODEL_cac75638811947db8c5cf07cea9098c7",
       "style": "IPY_MODEL_5c59c57656a14ef58a5177badafeb75b"
      }
     },
     "bbc9461480e0414b816c2638817f58c4": {
      "model_module": "@jupyter-widgets/controls",
      "model_module_version": "1.5.0",
      "model_name": "TextModel",
      "state": {
       "description": "Query start time (UTC):",
       "layout": "IPY_MODEL_32028b841d8c41418e84dbe5652cd3ad",
       "style": "IPY_MODEL_129976418f364b70891d2bc6cd2d5ea0",
       "value": "2021-03-31 18:49:37.656718"
      }
     },
     "bcd33023948948c0baf8f0fa3e74701f": {
      "model_module": "@jupyter-widgets/controls",
      "model_module_version": "1.5.0",
      "model_name": "DescriptionStyleModel",
      "state": {
       "description_width": "initial"
      }
     },
     "bf1196b5881c43899181288e9791838f": {
      "model_module": "@jupyter-widgets/controls",
      "model_module_version": "1.5.0",
      "model_name": "DescriptionStyleModel",
      "state": {
       "description_width": ""
      }
     },
     "c04ec06fc610425abe6a43db85c0f959": {
      "model_module": "@jupyter-widgets/base",
      "model_module_version": "1.2.0",
      "model_name": "LayoutModel",
      "state": {}
     },
     "c44ac107f90147e18f400e55477ccba7": {
      "model_module": "@jupyter-widgets/controls",
      "model_module_version": "1.5.0",
      "model_name": "DescriptionStyleModel",
      "state": {
       "description_width": "initial"
      }
     },
     "c6841c2d2dab4f1e961bdbf7aa6e38be": {
      "model_module": "@jupyter-widgets/base",
      "model_module_version": "1.2.0",
      "model_name": "LayoutModel",
      "state": {
       "width": "50%"
      }
     },
     "cac75638811947db8c5cf07cea9098c7": {
      "model_module": "@jupyter-widgets/base",
      "model_module_version": "1.2.0",
      "model_name": "LayoutModel",
      "state": {
       "width": "95%"
      }
     },
     "cf53737cdd56432a9c56aaea43e9d228": {
      "model_module": "@jupyter-widgets/base",
      "model_module_version": "1.2.0",
      "model_name": "LayoutModel",
      "state": {
       "width": "50%"
      }
     },
     "d0513966e7da4aefbb2dff4eb2d106d9": {
      "model_module": "@jupyter-widgets/controls",
      "model_module_version": "1.5.0",
      "model_name": "HTMLModel",
      "state": {
       "layout": "IPY_MODEL_7376f9bb458b41129b50212890676694",
       "style": "IPY_MODEL_313553a253c94f67a716be0fac5151be",
       "value": "<h4>Set time range for pivot functions.</h4>"
      }
     },
     "d3d1152ce6914e099fa44573ec60f718": {
      "model_module": "@jupyter-widgets/controls",
      "model_module_version": "1.5.0",
      "model_name": "TextModel",
      "state": {
       "description": "Query end time (UTC) :  ",
       "layout": "IPY_MODEL_c6841c2d2dab4f1e961bdbf7aa6e38be",
       "style": "IPY_MODEL_8deab7dae46a47858f76e2206be0f9f9",
       "value": "2021-04-01 18:49:37.656718"
      }
     },
     "e58e12bd687348bf8efc8813a211d11f": {
      "model_module": "@jupyter-widgets/controls",
      "model_module_version": "1.5.0",
      "model_name": "VBoxModel",
      "state": {
       "children": [
        "IPY_MODEL_935ea8ad0cf04e92ab296e335ee26a6e",
        "IPY_MODEL_a3cbf3a95fd54e7a9f7a938a0e3bce0c",
        "IPY_MODEL_6825106db9de4f18b18976fa5a9026c7"
       ],
       "layout": "IPY_MODEL_fc3b0e7305284c098f4b4bbc9f0e4ac8"
      }
     },
     "e89f0e297cbd4d678ee54e607492c2ba": {
      "model_module": "@jupyter-widgets/controls",
      "model_module_version": "1.5.0",
      "model_name": "TextModel",
      "state": {
       "description": "Enter the IP Address to search for:",
       "layout": "IPY_MODEL_f8f854742e6f47b19b2cae1b191ac686",
       "style": "IPY_MODEL_c44ac107f90147e18f400e55477ccba7"
      }
     },
     "eb599a43e6bc44078a38bd8d01a140f5": {
      "model_module": "@jupyter-widgets/controls",
      "model_module_version": "1.5.0",
      "model_name": "TextModel",
      "state": {
       "description": "Tenant Id:",
       "layout": "IPY_MODEL_cac75638811947db8c5cf07cea9098c7",
       "style": "IPY_MODEL_b59005b1be764324a378f753f390571b"
      }
     },
     "ed09b5c540484a4b91126e285f23fb23": {
      "model_module": "@jupyter-widgets/controls",
      "model_module_version": "1.5.0",
      "model_name": "HBoxModel",
      "state": {
       "children": [
        "IPY_MODEL_a0f90e71951345eeb351f4f49e0b4629",
        "IPY_MODEL_4dd7cf4c030b4261a62971b19fc8dc8d"
       ],
       "layout": "IPY_MODEL_7f883decf9fe4e6d9c3db315cd059775"
      }
     },
     "f24a8c399b674003bad1f7593cd7c0da": {
      "model_module": "@jupyter-widgets/controls",
      "model_module_version": "1.5.0",
      "model_name": "HBoxModel",
      "state": {
       "children": [
        "IPY_MODEL_a960c1660aa545abbcd33ffec7f30d18",
        "IPY_MODEL_fc6780acef6b419c97c909d16d58a6f7"
       ],
       "layout": "IPY_MODEL_0f3974fff54a478c994c3fe35cc31a89"
      }
     },
     "f8f854742e6f47b19b2cae1b191ac686": {
      "model_module": "@jupyter-widgets/base",
      "model_module_version": "1.2.0",
      "model_name": "LayoutModel",
      "state": {
       "width": "50%"
      }
     },
     "fc3b0e7305284c098f4b4bbc9f0e4ac8": {
      "model_module": "@jupyter-widgets/base",
      "model_module_version": "1.2.0",
      "model_name": "LayoutModel",
      "state": {}
     },
     "fc6780acef6b419c97c909d16d58a6f7": {
      "model_module": "@jupyter-widgets/controls",
      "model_module_version": "1.5.0",
      "model_name": "DropdownModel",
      "state": {
       "_options_labels": [
        "minute",
        "hour",
        "day",
        "week"
       ],
       "index": 1,
       "layout": "IPY_MODEL_4f0aad52dd8a44d5b097c22c5442208a",
       "style": "IPY_MODEL_bf1196b5881c43899181288e9791838f"
      }
     },
     "fcdc614bf3194dbc948c81d3ce22ae39": {
      "model_module": "@jupyter-widgets/base",
      "model_module_version": "1.2.0",
      "model_name": "LayoutModel",
      "state": {}
     }
    },
    "version_major": 2,
    "version_minor": 0
   }
  }
 },
 "nbformat": 4,
 "nbformat_minor": 4
}
