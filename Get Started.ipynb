{
 "cells": [
  {
   "cell_type": "markdown",
   "metadata": {
    "collapsed": true
   },
   "source": [
    "# Get Started\n",
    "\n",
    "__Notebook Version:__ 1.0<br>\n",
    "__Python Version:__ Python 3.6 (including Python 3.6 - AzureML)<br>\n",
    "__Required Packages:__ Kqlmagic 0.1.90<br>\n",
    "__Platforms Supported:__<br>\n",
    "    -  Azure Notebooks Free Compute\n",
    "    -  Azure Notebooks DSVM\n",
    "__Data Source Required:__<br>\n",
    "    -  Log Analytics - SecurityEvent\n",
    "    \n",
    "### Description\n",
    "The notebook provides you basic knowledge to use Azure Sentinel Notebooks.\n",
    "\n",
    "<font color=red>When you switch between Azure Notebooks Free Compute and Data Science Virtual Machine (DSVM), you may need to select Python version: please select Python 3.6 for Free Compute, and Python 3.6 - AzureML for DSVM.</font>"
   ]
  },
  {
   "cell_type": "markdown",
   "metadata": {},
   "source": [
    "## Other notebooks you should read\n",
    "\n",
    "For any notebooks (the majority) that use the `msticpy` package you should review this notebook:\n",
    "\n",
    "[Configuration guide notebook](https://github.com/Azure/Azure-Sentinel-Notebooks/blob/master/ConfiguringNotebookEnvironment.ipynb)\n",
    "\n",
    "\n",
    "For more details on configuring your Azure Notebooks Project review this notebook:\n",
    "\n",
    "[AzureNotebooks-Configure Python Version](https://github.com/Azure/Azure-Sentinel-Notebooks/blob/master/HowTos/AzureNotebooks-ConfigurePythonVersion.ipynb)\n",
    "\n",
    "\n",
    "For help troubleshooting problems with notebooks use this notebook:\n",
    "\n",
    "[Troubleshooting Azure Sentinel Notebooks](https://github.com/Azure/Azure-Sentinel-Notebooks/blob/master/TroubleShootingNotebooks.ipynb)"
   ]
  },
  {
   "cell_type": "markdown",
   "metadata": {},
   "source": [
    "## Prerequisite check"
   ]
  },
  {
   "cell_type": "code",
   "execution_count": null,
   "metadata": {},
   "outputs": [],
   "source": [
    "# only run once\n",
    "!pip install --upgrade Azure-Sentinel-Utilities"
   ]
  },
  {
   "cell_type": "code",
   "execution_count": null,
   "metadata": {},
   "outputs": [],
   "source": [
    "import SentinelUtils\n",
    "# checking Python version\n",
    "check = SentinelUtils.version_management.ModuleVersionCheck()\n",
    "py_check = check.validate_python('3.6.0')\n",
    "if py_check.requirement_met == False:\n",
    "    print('Please select Python 3.6 or Python 3.6 - AzureML at the upper right corner')\n",
    "else:\n",
    "    print('Please continue')"
   ]
  },
  {
   "cell_type": "code",
   "execution_count": null,
   "metadata": {},
   "outputs": [],
   "source": [
    "# checking required packages\n",
    "mods_check = check.validate_installed_modules(['Kqlmagic>=0.1.105'])\n",
    "for mod_info in mods_check:\n",
    "    if mod_info.requirement_met == False:\n",
    "        print('Please install {} {} at the following cell.'.format(mod_info.name, mod_info.required_version))"
   ]
  },
  {
   "cell_type": "code",
   "execution_count": null,
   "metadata": {},
   "outputs": [],
   "source": [
    "# Please install required packages based on the check at last cellp\n",
    "#!pip install Kqlmagic --upgrade"
   ]
  },
  {
   "cell_type": "markdown",
   "metadata": {},
   "source": [
    "## Table of Contents\n",
    "\n",
    "1. Retrieve Log Analytics information \n",
    "2. Log into Log Analytics\n",
    "3. Get a list of available data tables from Log Analytics\n",
    "4. Run a simple Kusto query"
   ]
  },
  {
   "cell_type": "markdown",
   "metadata": {},
   "source": [
    "## 1. Retrieve Log Analytics Information"
   ]
  },
  {
   "cell_type": "code",
   "execution_count": null,
   "metadata": {
    "tags": [
     "parameters"
    ]
   },
   "outputs": [],
   "source": [
    "path = %env PATH\n",
    "dsvm = False\n",
    "if '/dsvm/' in path:\n",
    "    dsvm = True\n",
    "    \n",
    "if dsvm == False:\n",
    "    # Run this if you are using Free Compute\n",
    "    tenant_id = SentinelUtils.config_reader.ConfigReader.read_config_values(\"config.json\")[0]\n",
    "    subscription_id = SentinelUtils.config_reader.ConfigReader.read_config_values(\"config.json\")[1]\n",
    "    resource_group = SentinelUtils.config_reader.ConfigReader.read_config_values(\"config.json\")[2]\n",
    "    workspace_id = SentinelUtils.config_reader.ConfigReader.read_config_values(\"config.json\")[3]\n",
    "    workspace_name = SentinelUtils.config_reader.ConfigReader.read_config_values(\"config.json\")[4]\n",
    "    print('Your Log Analytic Workspace: {}'.format(workspace_name))\n",
    "else:\n",
    "    # Run this if you are using DSVM.  You need to copy the values from config.json, if the file has no value, then you need to go to Log Analytics Portal to get the information.\n",
    "    tenant_id = input('tenant_id:')\n",
    "    subscription_id = input('subscription_id:')\n",
    "    resource_group = input('resource_group:')\n",
    "    workspace_id = input('workspace_id:')\n",
    "    workspace_name = input('workspace_name:')"
   ]
  },
  {
   "cell_type": "markdown",
   "metadata": {},
   "source": [
    "## 2. Log into Log Analytics"
   ]
  },
  {
   "cell_type": "code",
   "execution_count": null,
   "metadata": {},
   "outputs": [],
   "source": [
    "# You must run this cell to log into Log Analytics to continue\n",
    "# Make sure you have 0.1.90 or above, if not, run Kqlmagic installation again\n",
    "%reload_ext Kqlmagic\n",
    "%kql loganalytics://code;workspace=workspace_id;tenant=tenant_id;alias=\"SentinelDB\" "
   ]
  },
  {
   "cell_type": "markdown",
   "metadata": {},
   "source": [
    "## 3. Get a list of available data tables from Log Analytics"
   ]
  },
  {
   "cell_type": "markdown",
   "metadata": {},
   "source": [
    "1. Tables with records"
   ]
  },
  {
   "cell_type": "code",
   "execution_count": null,
   "metadata": {},
   "outputs": [],
   "source": [
    "%kql search * | summarize count() by Type"
   ]
  },
  {
   "cell_type": "markdown",
   "metadata": {},
   "source": [
    "2. All Tables in drop down"
   ]
  },
  {
   "cell_type": "code",
   "execution_count": null,
   "metadata": {
    "scrolled": true
   },
   "outputs": [],
   "source": [
    "import ipywidgets as widgets\n",
    "from IPython.display import display\n",
    "dbSchema = %kql --schema \"SentinelDB@loganalytics\"\n",
    "tables = list(dbSchema.keys())\n",
    "selected_table = widgets.Dropdown(options=tables, value=tables[1],description='Data Table:')\n",
    "display(selected_table)"
   ]
  },
  {
   "cell_type": "markdown",
   "metadata": {},
   "source": [
    "3. Choose columns from the selected table"
   ]
  },
  {
   "cell_type": "code",
   "execution_count": null,
   "metadata": {},
   "outputs": [],
   "source": [
    "columns = list(dbSchema[selected_table.value])\n",
    "columns.sort()\n",
    "selected_columns = widgets.SelectMultiple(options=columns, value=[],description='Data Columns:')\n",
    "display(selected_columns)"
   ]
  },
  {
   "cell_type": "markdown",
   "metadata": {},
   "source": [
    "4. List unique values for selected columns"
   ]
  },
  {
   "cell_type": "code",
   "execution_count": null,
   "metadata": {},
   "outputs": [],
   "source": [
    "%kql {selected_table.value} | where TimeGenerated >= ago(30d) | take 1000\n",
    "if len(_kql_raw_result_) > 0:\n",
    "    df = _kql_raw_result_.to_dataframe()\n",
    "else:\n",
    "    df = None\n",
    "    print('no data')"
   ]
  },
  {
   "cell_type": "code",
   "execution_count": null,
   "metadata": {},
   "outputs": [],
   "source": [
    "for index, column in enumerate(selected_columns.value):\n",
    "    unique_values = df[column].drop_duplicates().sort_values()\n",
    "    values_dropdown = widgets.Dropdown(options=unique_values, description=column)\n",
    "    display(values_dropdown)"
   ]
  },
  {
   "cell_type": "markdown",
   "metadata": {},
   "source": [
    "5. Search a term"
   ]
  },
  {
   "cell_type": "code",
   "execution_count": null,
   "metadata": {},
   "outputs": [],
   "source": [
    "# scope to a table and a column\n",
    "%kql search in ({selected_table.value}) {selected_columns.value[0]}: '*local service' | take 5"
   ]
  },
  {
   "cell_type": "markdown",
   "metadata": {},
   "source": [
    "## 4. Run a simple Kusto query"
   ]
  },
  {
   "cell_type": "code",
   "execution_count": null,
   "metadata": {},
   "outputs": [],
   "source": [
    "# Checking required Data Sources\n",
    "required_data_sources = ['SecurityEvent']\n",
    "dbSchema = %kql --schema \"SentinelDB@loganalytics\"\n",
    "tables = list(dbSchema.keys())\n",
    "for source in required_data_sources:\n",
    "    if source not in tables:\n",
    "        print('You do not have required data source: {}'.format(source))\n",
    "    else:\n",
    "        print('Please continue')"
   ]
  },
  {
   "cell_type": "code",
   "execution_count": null,
   "metadata": {},
   "outputs": [],
   "source": [
    "%kql SecurityEvent | take 5 | project Account, Computer\n",
    "df = _kql_raw_result_.to_dataframe()\n",
    "df"
   ]
  },
  {
   "cell_type": "markdown",
   "metadata": {},
   "source": [
    "## 5. Install `msticpy`\n",
    "\n",
    "Many of the notebooks in this repo require the `msticpy`\n",
    "Python package."
   ]
  },
  {
   "cell_type": "code",
   "execution_count": null,
   "metadata": {},
   "outputs": [],
   "source": [
    "!pip install --upgrade msticpy"
   ]
  }
 ],
 "metadata": {
  "celltoolbar": "Tags",
  "hide_input": false,
  "kernelspec": {
   "display_name": "Python 3.6",
   "language": "python",
   "name": "python36"
  },
  "language_info": {
   "codemirror_mode": {
    "name": "ipython",
    "version": 3
   },
   "file_extension": ".py",
   "mimetype": "text/x-python",
   "name": "python",
   "nbconvert_exporter": "python",
   "pygments_lexer": "ipython3",
   "version": "3.7.5"
  },
  "toc": {
   "base_numbering": 1,
   "nav_menu": {},
   "number_sections": false,
   "sideBar": true,
   "skip_h1_title": false,
   "title_cell": "Table of Contents",
   "title_sidebar": "Contents",
   "toc_cell": false,
   "toc_position": {},
   "toc_section_display": true,
   "toc_window_display": false
  },
  "varInspector": {
   "cols": {
    "lenName": 16,
    "lenType": 16,
    "lenVar": 40
   },
   "kernels_config": {
    "python": {
     "delete_cmd_postfix": "",
     "delete_cmd_prefix": "del ",
     "library": "var_list.py",
     "varRefreshCmd": "print(var_dic_list())"
    },
    "r": {
     "delete_cmd_postfix": ") ",
     "delete_cmd_prefix": "rm(",
     "library": "var_list.r",
     "varRefreshCmd": "cat(var_dic_list()) "
    }
   },
   "types_to_exclude": [
    "module",
    "function",
    "builtin_function_or_method",
    "instance",
    "_Feature"
   ],
   "window_display": false
  }
 },
 "nbformat": 4,
 "nbformat_minor": 2
}
