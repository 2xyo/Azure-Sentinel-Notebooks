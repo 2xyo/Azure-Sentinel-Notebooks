{
 "cells": [
  {
   "cell_type": "markdown",
   "metadata": {},
   "source": [
    "# Azure Sentinel Notebooks and <i>MSTICPy</i>\n",
    "## Examples of machine learning techniques in Jupyter notebooks\n",
    "\n",
    "Author: Ian Hellen\n",
    "<br>Co-Authors: Pete Bryan, Ashwin Patil\n",
    "\n",
    "Released: 26 Oct 2020"
   ]
  },
  {
   "cell_type": "markdown",
   "metadata": {},
   "source": [
    "## Notebook Setup\n",
    "\n",
    "The nbinit module loads required libraries and optionally installs require packages."
   ]
  },
  {
   "cell_type": "code",
   "execution_count": 1,
   "metadata": {},
   "outputs": [
    {
     "name": "stdout",
     "output_type": "stream",
     "text": [
      "Processing imports....\n",
      "Checking configuration....\n",
      "No errors found.\n",
      "\n",
      "The following configuration warnings were found: \n",
      " -------------------------------------------------\n",
      "No AzureCLI section in settings.\n",
      "Setting notebook options....\n"
     ]
    },
    {
     "data": {
      "text/html": [
       "<h3>Notebook setup complete</h3>"
      ],
      "text/plain": [
       "<IPython.core.display.HTML object>"
      ]
     },
     "metadata": {},
     "output_type": "display_data"
    }
   ],
   "source": [
    "import warnings\n",
    "warnings.simplefilter(action='ignore', category=FutureWarning)\n",
    "\n",
    "from msticpy.nbtools import nbinit\n",
    "nbinit.init_notebook(namespace=globals());\n",
    "\n",
    "from msticpy.nbtools.timeseries import display_timeseries_anomolies\n",
    "from msticpy.analysis.timeseries import timeseries_anomalies_stl"
   ]
  },
  {
   "cell_type": "markdown",
   "metadata": {},
   "source": [
    "## Retrieve sample data files"
   ]
  },
  {
   "cell_type": "code",
   "execution_count": 24,
   "metadata": {},
   "outputs": [
    {
     "data": {
      "application/vnd.jupyter.widget-view+json": {
       "model_id": "583a180b28824282a60707b95b1860d9",
       "version_major": 2,
       "version_minor": 0
      },
      "text/plain": [
       "HBox(children=(HTML(value='File download'), FloatProgress(value=0.0, max=4.0), HTML(value='')))"
      ]
     },
     "metadata": {},
     "output_type": "display_data"
    },
    {
     "name": "stdout",
     "output_type": "stream",
     "text": [
      "data\\exchange_admin.pkl, data\\processes_on_host.pkl, data\\timeseries.pkl, data\\data_queries.yaml, \n"
     ]
    }
   ],
   "source": [
    "from urllib.request import urlretrieve\n",
    "from pathlib import Path\n",
    "from tqdm.auto import tqdm\n",
    "\n",
    "github_uri = \"https://raw.githubusercontent.com/Azure/Azure-Sentinel-Notebooks/master/{file_name}\"\n",
    "github_files = {\n",
    "    \"exchange_admin.pkl\": \"data\",\n",
    "    \"processes_on_host.pkl\": \"data\",\n",
    "    \"timeseries.pkl\": \"data\",\n",
    "    \"data_queries.yaml\": \"data\",\n",
    "}\n",
    "\n",
    "Path(\"data\").mkdir(exist_ok=True)\n",
    "for file, path in tqdm(github_files.items(), desc=\"File download\"):\n",
    "    file_path = Path(path).joinpath(file)\n",
    "    print(file_path, end=\", \")\n",
    "    url_path = f\"{path}/{file}\" if path else file\n",
    "    urlretrieve(\n",
    "        github_uri.format(file_name=url_path),\n",
    "        file_path\n",
    "    )\n",
    "    assert Path(file_path).is_file()"
   ]
  },
  {
   "cell_type": "markdown",
   "metadata": {},
   "source": [
    "<hr>\n",
    "\n",
    "# Time Series Analysis\n",
    "\n",
    "## Query network data\n",
    "The starting point is ingesting data to analyze.\n",
    "\n",
    "MSTICpy contains a number of [query providers](https://msticpy.readthedocs.io/en/latest/data_acquisition/DataProviders.html) \n",
    "that let you query and return data from several different sources. \n",
    "\n",
    "Below we are using the LocalData query provider to return data from sample files.<br><br>\n",
    "\n",
    "Data is returned in a Pandas [DataFrame](https://pandas.pydata.org/pandas-docs/stable/reference/api/pandas.DataFrame.html) for easy manipulation and to provide a common interface for other features in MSTICpy.<br>\n",
    "Here we are getting a summary of our network traffic for the time period we are interested in.\n"
   ]
  },
  {
   "cell_type": "code",
   "execution_count": 25,
   "metadata": {},
   "outputs": [
    {
     "data": {
      "application/vnd.jupyter.widget-view+json": {
       "model_id": "1c7a1c67152a4e59a45aa817ac5533e4",
       "version_major": 2,
       "version_minor": 0
      },
      "text/plain": [
       "HTML(value='<h4>Set query time boundaries</h4>')"
      ]
     },
     "metadata": {},
     "output_type": "display_data"
    },
    {
     "data": {
      "application/vnd.jupyter.widget-view+json": {
       "model_id": "9b7ec062d2d04ecd84926c90cb1442af",
       "version_major": 2,
       "version_minor": 0
      },
      "text/plain": [
       "HBox(children=(DatePicker(value=datetime.date(2020, 7, 13), description='Origin Date'), Text(value='00:00:00',…"
      ]
     },
     "metadata": {},
     "output_type": "display_data"
    },
    {
     "data": {
      "application/vnd.jupyter.widget-view+json": {
       "model_id": "d3124ee5c01c4230ba5b4fb458e15b87",
       "version_major": 2,
       "version_minor": 0
      },
      "text/plain": [
       "VBox(children=(IntRangeSlider(value=(-1, 1), description='Time Range (week):', layout=Layout(width='80%'), max…"
      ]
     },
     "metadata": {},
     "output_type": "display_data"
    }
   ],
   "source": [
    "query_range = nbwidgets.QueryTime(\n",
    "    origin_time=pd.Timestamp(\"2020-07-13 00:00:00\"),\n",
    "    before=1,\n",
    "    units=\"week\"\n",
    ")\n",
    "query_range"
   ]
  },
  {
   "cell_type": "markdown",
   "metadata": {},
   "source": [
    "<hr>\n",
    "\n",
    "This query fetches the total number of bytes send outbound on the network, grouped by hour.\n",
    "\n",
    "The input to the Timeseries analysis needs to be in the form of:\n",
    "- a datetime index (in a regular interval like an hour or day)\n",
    "- a scalar value used to determine anomalous values based on periodicity\n"
   ]
  },
  {
   "cell_type": "code",
   "execution_count": 85,
   "metadata": {},
   "outputs": [
    {
     "name": "stdout",
     "output_type": "stream",
     "text": [
      "Connected.\n"
     ]
    },
    {
     "data": {
      "text/html": [
       "<p style='font-size: 130%'>Sample data:</p>"
      ],
      "text/plain": [
       "<IPython.core.display.HTML object>"
      ]
     },
     "metadata": {},
     "output_type": "display_data"
    },
    {
     "data": {
      "text/html": [
       "<div>\n",
       "<style scoped>\n",
       "    .dataframe tbody tr th:only-of-type {\n",
       "        vertical-align: middle;\n",
       "    }\n",
       "\n",
       "    .dataframe tbody tr th {\n",
       "        vertical-align: top;\n",
       "    }\n",
       "\n",
       "    .dataframe thead th {\n",
       "        text-align: right;\n",
       "    }\n",
       "</style>\n",
       "<table border=\"1\" class=\"dataframe\">\n",
       "  <thead>\n",
       "    <tr style=\"text-align: right;\">\n",
       "      <th></th>\n",
       "      <th>TotalBytesSent</th>\n",
       "    </tr>\n",
       "    <tr>\n",
       "      <th>TimeGenerated</th>\n",
       "      <th></th>\n",
       "    </tr>\n",
       "  </thead>\n",
       "  <tbody>\n",
       "    <tr>\n",
       "      <th>2020-07-06 00:00:00+00:00</th>\n",
       "      <td>10823</td>\n",
       "    </tr>\n",
       "    <tr>\n",
       "      <th>2020-07-06 01:00:00+00:00</th>\n",
       "      <td>14821</td>\n",
       "    </tr>\n",
       "    <tr>\n",
       "      <th>2020-07-06 02:00:00+00:00</th>\n",
       "      <td>13532</td>\n",
       "    </tr>\n",
       "  </tbody>\n",
       "</table>\n",
       "</div>"
      ],
      "text/plain": [
       "                          TotalBytesSent\n",
       "TimeGenerated                           \n",
       "2020-07-06 00:00:00+00:00          10823\n",
       "2020-07-06 01:00:00+00:00          14821\n",
       "2020-07-06 02:00:00+00:00          13532"
      ]
     },
     "execution_count": 85,
     "metadata": {},
     "output_type": "execute_result"
    }
   ],
   "source": [
    "# Initialize the data provider and connect to our Splunk instance.\n",
    "qry_prov = QueryProvider(\"LocalData\", data_paths=[\"./data\"], query_paths=[\"./data\"])\n",
    "qry_prov.connect()\n",
    "\n",
    "ob_bytes_per_hour = qry_prov.Network.get_network_summary(query_range)\n",
    "md(\"Sample data:\", \"large\")\n",
    "ob_bytes_per_hour.head(3)"
   ]
  },
  {
   "cell_type": "markdown",
   "metadata": {},
   "source": [
    "## Using Timeseries decomposition to detect anomalous network activity\n",
    "\n",
    "Below we use MSTICpy's [time series analysis](https://msticpy.readthedocs.io/en/latest/msticpy.analysis.html?highlight=timeseries#module-msticpy.analysis.timeseries) \n",
    "machine learning capabilities to identify anomalies in our network traffic for further investigation.<br>\n",
    "As well as computing anomalies we visualize the data so that we can more easily see where these anomalies present themselves.\n"
   ]
  },
  {
   "cell_type": "code",
   "execution_count": 88,
   "metadata": {},
   "outputs": [
    {
     "data": {
      "text/html": [
       "\n",
       "    <div class=\"bk-root\">\n",
       "        <a href=\"https://bokeh.org\" target=\"_blank\" class=\"bk-logo bk-logo-small bk-logo-notebook\"></a>\n",
       "        <span id=\"3055\">Loading BokehJS ...</span>\n",
       "    </div>"
      ]
     },
     "metadata": {},
     "output_type": "display_data"
    },
    {
     "data": {
      "application/javascript": [
       "\n",
       "(function(root) {\n",
       "  function now() {\n",
       "    return new Date();\n",
       "  }\n",
       "\n",
       "  var force = true;\n",
       "\n",
       "  if (typeof root._bokeh_onload_callbacks === \"undefined\" || force === true) {\n",
       "    root._bokeh_onload_callbacks = [];\n",
       "    root._bokeh_is_loading = undefined;\n",
       "  }\n",
       "\n",
       "  var JS_MIME_TYPE = 'application/javascript';\n",
       "  var HTML_MIME_TYPE = 'text/html';\n",
       "  var EXEC_MIME_TYPE = 'application/vnd.bokehjs_exec.v0+json';\n",
       "  var CLASS_NAME = 'output_bokeh rendered_html';\n",
       "\n",
       "  /**\n",
       "   * Render data to the DOM node\n",
       "   */\n",
       "  function render(props, node) {\n",
       "    var script = document.createElement(\"script\");\n",
       "    node.appendChild(script);\n",
       "  }\n",
       "\n",
       "  /**\n",
       "   * Handle when an output is cleared or removed\n",
       "   */\n",
       "  function handleClearOutput(event, handle) {\n",
       "    var cell = handle.cell;\n",
       "\n",
       "    var id = cell.output_area._bokeh_element_id;\n",
       "    var server_id = cell.output_area._bokeh_server_id;\n",
       "    // Clean up Bokeh references\n",
       "    if (id != null && id in Bokeh.index) {\n",
       "      Bokeh.index[id].model.document.clear();\n",
       "      delete Bokeh.index[id];\n",
       "    }\n",
       "\n",
       "    if (server_id !== undefined) {\n",
       "      // Clean up Bokeh references\n",
       "      var cmd = \"from bokeh.io.state import curstate; print(curstate().uuid_to_server['\" + server_id + \"'].get_sessions()[0].document.roots[0]._id)\";\n",
       "      cell.notebook.kernel.execute(cmd, {\n",
       "        iopub: {\n",
       "          output: function(msg) {\n",
       "            var id = msg.content.text.trim();\n",
       "            if (id in Bokeh.index) {\n",
       "              Bokeh.index[id].model.document.clear();\n",
       "              delete Bokeh.index[id];\n",
       "            }\n",
       "          }\n",
       "        }\n",
       "      });\n",
       "      // Destroy server and session\n",
       "      var cmd = \"import bokeh.io.notebook as ion; ion.destroy_server('\" + server_id + \"')\";\n",
       "      cell.notebook.kernel.execute(cmd);\n",
       "    }\n",
       "  }\n",
       "\n",
       "  /**\n",
       "   * Handle when a new output is added\n",
       "   */\n",
       "  function handleAddOutput(event, handle) {\n",
       "    var output_area = handle.output_area;\n",
       "    var output = handle.output;\n",
       "\n",
       "    // limit handleAddOutput to display_data with EXEC_MIME_TYPE content only\n",
       "    if ((output.output_type != \"display_data\") || (!output.data.hasOwnProperty(EXEC_MIME_TYPE))) {\n",
       "      return\n",
       "    }\n",
       "\n",
       "    var toinsert = output_area.element.find(\".\" + CLASS_NAME.split(' ')[0]);\n",
       "\n",
       "    if (output.metadata[EXEC_MIME_TYPE][\"id\"] !== undefined) {\n",
       "      toinsert[toinsert.length - 1].firstChild.textContent = output.data[JS_MIME_TYPE];\n",
       "      // store reference to embed id on output_area\n",
       "      output_area._bokeh_element_id = output.metadata[EXEC_MIME_TYPE][\"id\"];\n",
       "    }\n",
       "    if (output.metadata[EXEC_MIME_TYPE][\"server_id\"] !== undefined) {\n",
       "      var bk_div = document.createElement(\"div\");\n",
       "      bk_div.innerHTML = output.data[HTML_MIME_TYPE];\n",
       "      var script_attrs = bk_div.children[0].attributes;\n",
       "      for (var i = 0; i < script_attrs.length; i++) {\n",
       "        toinsert[toinsert.length - 1].firstChild.setAttribute(script_attrs[i].name, script_attrs[i].value);\n",
       "        toinsert[toinsert.length - 1].firstChild.textContent = bk_div.children[0].textContent\n",
       "      }\n",
       "      // store reference to server id on output_area\n",
       "      output_area._bokeh_server_id = output.metadata[EXEC_MIME_TYPE][\"server_id\"];\n",
       "    }\n",
       "  }\n",
       "\n",
       "  function register_renderer(events, OutputArea) {\n",
       "\n",
       "    function append_mime(data, metadata, element) {\n",
       "      // create a DOM node to render to\n",
       "      var toinsert = this.create_output_subarea(\n",
       "        metadata,\n",
       "        CLASS_NAME,\n",
       "        EXEC_MIME_TYPE\n",
       "      );\n",
       "      this.keyboard_manager.register_events(toinsert);\n",
       "      // Render to node\n",
       "      var props = {data: data, metadata: metadata[EXEC_MIME_TYPE]};\n",
       "      render(props, toinsert[toinsert.length - 1]);\n",
       "      element.append(toinsert);\n",
       "      return toinsert\n",
       "    }\n",
       "\n",
       "    /* Handle when an output is cleared or removed */\n",
       "    events.on('clear_output.CodeCell', handleClearOutput);\n",
       "    events.on('delete.Cell', handleClearOutput);\n",
       "\n",
       "    /* Handle when a new output is added */\n",
       "    events.on('output_added.OutputArea', handleAddOutput);\n",
       "\n",
       "    /**\n",
       "     * Register the mime type and append_mime function with output_area\n",
       "     */\n",
       "    OutputArea.prototype.register_mime_type(EXEC_MIME_TYPE, append_mime, {\n",
       "      /* Is output safe? */\n",
       "      safe: true,\n",
       "      /* Index of renderer in `output_area.display_order` */\n",
       "      index: 0\n",
       "    });\n",
       "  }\n",
       "\n",
       "  // register the mime type if in Jupyter Notebook environment and previously unregistered\n",
       "  if (root.Jupyter !== undefined) {\n",
       "    var events = require('base/js/events');\n",
       "    var OutputArea = require('notebook/js/outputarea').OutputArea;\n",
       "\n",
       "    if (OutputArea.prototype.mime_types().indexOf(EXEC_MIME_TYPE) == -1) {\n",
       "      register_renderer(events, OutputArea);\n",
       "    }\n",
       "  }\n",
       "\n",
       "  \n",
       "  if (typeof (root._bokeh_timeout) === \"undefined\" || force === true) {\n",
       "    root._bokeh_timeout = Date.now() + 5000;\n",
       "    root._bokeh_failed_load = false;\n",
       "  }\n",
       "\n",
       "  var NB_LOAD_WARNING = {'data': {'text/html':\n",
       "     \"<div style='background-color: #fdd'>\\n\"+\n",
       "     \"<p>\\n\"+\n",
       "     \"BokehJS does not appear to have successfully loaded. If loading BokehJS from CDN, this \\n\"+\n",
       "     \"may be due to a slow or bad network connection. Possible fixes:\\n\"+\n",
       "     \"</p>\\n\"+\n",
       "     \"<ul>\\n\"+\n",
       "     \"<li>re-rerun `output_notebook()` to attempt to load from CDN again, or</li>\\n\"+\n",
       "     \"<li>use INLINE resources instead, as so:</li>\\n\"+\n",
       "     \"</ul>\\n\"+\n",
       "     \"<code>\\n\"+\n",
       "     \"from bokeh.resources import INLINE\\n\"+\n",
       "     \"output_notebook(resources=INLINE)\\n\"+\n",
       "     \"</code>\\n\"+\n",
       "     \"</div>\"}};\n",
       "\n",
       "  function display_loaded() {\n",
       "    var el = document.getElementById(\"3055\");\n",
       "    if (el != null) {\n",
       "      el.textContent = \"BokehJS is loading...\";\n",
       "    }\n",
       "    if (root.Bokeh !== undefined) {\n",
       "      if (el != null) {\n",
       "        el.textContent = \"BokehJS \" + root.Bokeh.version + \" successfully loaded.\";\n",
       "      }\n",
       "    } else if (Date.now() < root._bokeh_timeout) {\n",
       "      setTimeout(display_loaded, 100)\n",
       "    }\n",
       "  }\n",
       "\n",
       "\n",
       "  function run_callbacks() {\n",
       "    try {\n",
       "      root._bokeh_onload_callbacks.forEach(function(callback) {\n",
       "        if (callback != null)\n",
       "          callback();\n",
       "      });\n",
       "    } finally {\n",
       "      delete root._bokeh_onload_callbacks\n",
       "    }\n",
       "    console.debug(\"Bokeh: all callbacks have finished\");\n",
       "  }\n",
       "\n",
       "  function load_libs(css_urls, js_urls, callback) {\n",
       "    if (css_urls == null) css_urls = [];\n",
       "    if (js_urls == null) js_urls = [];\n",
       "\n",
       "    root._bokeh_onload_callbacks.push(callback);\n",
       "    if (root._bokeh_is_loading > 0) {\n",
       "      console.debug(\"Bokeh: BokehJS is being loaded, scheduling callback at\", now());\n",
       "      return null;\n",
       "    }\n",
       "    if (js_urls == null || js_urls.length === 0) {\n",
       "      run_callbacks();\n",
       "      return null;\n",
       "    }\n",
       "    console.debug(\"Bokeh: BokehJS not loaded, scheduling load and callback at\", now());\n",
       "    root._bokeh_is_loading = css_urls.length + js_urls.length;\n",
       "\n",
       "    function on_load() {\n",
       "      root._bokeh_is_loading--;\n",
       "      if (root._bokeh_is_loading === 0) {\n",
       "        console.debug(\"Bokeh: all BokehJS libraries/stylesheets loaded\");\n",
       "        run_callbacks()\n",
       "      }\n",
       "    }\n",
       "\n",
       "    function on_error() {\n",
       "      console.error(\"failed to load \" + url);\n",
       "    }\n",
       "\n",
       "    for (var i = 0; i < css_urls.length; i++) {\n",
       "      var url = css_urls[i];\n",
       "      const element = document.createElement(\"link\");\n",
       "      element.onload = on_load;\n",
       "      element.onerror = on_error;\n",
       "      element.rel = \"stylesheet\";\n",
       "      element.type = \"text/css\";\n",
       "      element.href = url;\n",
       "      console.debug(\"Bokeh: injecting link tag for BokehJS stylesheet: \", url);\n",
       "      document.body.appendChild(element);\n",
       "    }\n",
       "\n",
       "    const hashes = {\"https://cdn.bokeh.org/bokeh/release/bokeh-2.2.2.min.js\": \"JayppSWSRBsibIZqI8S4vAb1oFgLL0uhNvSn8cmArlOvYOwfFjYeyY5UWwJ+K0SU\", \"https://cdn.bokeh.org/bokeh/release/bokeh-widgets-2.2.2.min.js\": \"G0/Tv/Yy/zEPNsnW0Qif/FOsGesd+KIrKg/QLmvQmReuUW9qmSP7mAmr0VpiUNr3\", \"https://cdn.bokeh.org/bokeh/release/bokeh-tables-2.2.2.min.js\": \"VLYHEbLQDk5G1+/4ALU0myoJPMEUsngWry2fzYorFOUmarjGRPLLURaeK/on6JqX\"};\n",
       "\n",
       "    for (var i = 0; i < js_urls.length; i++) {\n",
       "      var url = js_urls[i];\n",
       "      var element = document.createElement('script');\n",
       "      element.onload = on_load;\n",
       "      element.onerror = on_error;\n",
       "      element.async = false;\n",
       "      element.src = url;\n",
       "      if (url in hashes) {\n",
       "        element.crossOrigin = \"anonymous\";\n",
       "        element.integrity = \"sha384-\" + hashes[url];\n",
       "      }\n",
       "      console.debug(\"Bokeh: injecting script tag for BokehJS library: \", url);\n",
       "      document.head.appendChild(element);\n",
       "    }\n",
       "  };\n",
       "\n",
       "  function inject_raw_css(css) {\n",
       "    const element = document.createElement(\"style\");\n",
       "    element.appendChild(document.createTextNode(css));\n",
       "    document.body.appendChild(element);\n",
       "  }\n",
       "\n",
       "  \n",
       "  var js_urls = [\"https://cdn.bokeh.org/bokeh/release/bokeh-2.2.2.min.js\", \"https://cdn.bokeh.org/bokeh/release/bokeh-widgets-2.2.2.min.js\", \"https://cdn.bokeh.org/bokeh/release/bokeh-tables-2.2.2.min.js\"];\n",
       "  var css_urls = [];\n",
       "  \n",
       "\n",
       "  var inline_js = [\n",
       "    function(Bokeh) {\n",
       "      Bokeh.set_log_level(\"info\");\n",
       "    },\n",
       "    function(Bokeh) {\n",
       "    \n",
       "    \n",
       "    }\n",
       "  ];\n",
       "\n",
       "  function run_inline_js() {\n",
       "    \n",
       "    if (root.Bokeh !== undefined || force === true) {\n",
       "      \n",
       "    for (var i = 0; i < inline_js.length; i++) {\n",
       "      inline_js[i].call(root, root.Bokeh);\n",
       "    }\n",
       "    if (force === true) {\n",
       "        display_loaded();\n",
       "      }} else if (Date.now() < root._bokeh_timeout) {\n",
       "      setTimeout(run_inline_js, 100);\n",
       "    } else if (!root._bokeh_failed_load) {\n",
       "      console.log(\"Bokeh: BokehJS failed to load within specified timeout.\");\n",
       "      root._bokeh_failed_load = true;\n",
       "    } else if (force !== true) {\n",
       "      var cell = $(document.getElementById(\"3055\")).parents('.cell').data().cell;\n",
       "      cell.output_area.append_execute_result(NB_LOAD_WARNING)\n",
       "    }\n",
       "\n",
       "  }\n",
       "\n",
       "  if (root._bokeh_is_loading === 0) {\n",
       "    console.debug(\"Bokeh: BokehJS loaded, going straight to plotting\");\n",
       "    run_inline_js();\n",
       "  } else {\n",
       "    load_libs(css_urls, js_urls, function() {\n",
       "      console.debug(\"Bokeh: BokehJS plotting callback run at\", now());\n",
       "      run_inline_js();\n",
       "    });\n",
       "  }\n",
       "}(window));"
      ],
      "application/vnd.bokehjs_load.v0+json": "\n(function(root) {\n  function now() {\n    return new Date();\n  }\n\n  var force = true;\n\n  if (typeof root._bokeh_onload_callbacks === \"undefined\" || force === true) {\n    root._bokeh_onload_callbacks = [];\n    root._bokeh_is_loading = undefined;\n  }\n\n  \n\n  \n  if (typeof (root._bokeh_timeout) === \"undefined\" || force === true) {\n    root._bokeh_timeout = Date.now() + 5000;\n    root._bokeh_failed_load = false;\n  }\n\n  var NB_LOAD_WARNING = {'data': {'text/html':\n     \"<div style='background-color: #fdd'>\\n\"+\n     \"<p>\\n\"+\n     \"BokehJS does not appear to have successfully loaded. If loading BokehJS from CDN, this \\n\"+\n     \"may be due to a slow or bad network connection. Possible fixes:\\n\"+\n     \"</p>\\n\"+\n     \"<ul>\\n\"+\n     \"<li>re-rerun `output_notebook()` to attempt to load from CDN again, or</li>\\n\"+\n     \"<li>use INLINE resources instead, as so:</li>\\n\"+\n     \"</ul>\\n\"+\n     \"<code>\\n\"+\n     \"from bokeh.resources import INLINE\\n\"+\n     \"output_notebook(resources=INLINE)\\n\"+\n     \"</code>\\n\"+\n     \"</div>\"}};\n\n  function display_loaded() {\n    var el = document.getElementById(\"3055\");\n    if (el != null) {\n      el.textContent = \"BokehJS is loading...\";\n    }\n    if (root.Bokeh !== undefined) {\n      if (el != null) {\n        el.textContent = \"BokehJS \" + root.Bokeh.version + \" successfully loaded.\";\n      }\n    } else if (Date.now() < root._bokeh_timeout) {\n      setTimeout(display_loaded, 100)\n    }\n  }\n\n\n  function run_callbacks() {\n    try {\n      root._bokeh_onload_callbacks.forEach(function(callback) {\n        if (callback != null)\n          callback();\n      });\n    } finally {\n      delete root._bokeh_onload_callbacks\n    }\n    console.debug(\"Bokeh: all callbacks have finished\");\n  }\n\n  function load_libs(css_urls, js_urls, callback) {\n    if (css_urls == null) css_urls = [];\n    if (js_urls == null) js_urls = [];\n\n    root._bokeh_onload_callbacks.push(callback);\n    if (root._bokeh_is_loading > 0) {\n      console.debug(\"Bokeh: BokehJS is being loaded, scheduling callback at\", now());\n      return null;\n    }\n    if (js_urls == null || js_urls.length === 0) {\n      run_callbacks();\n      return null;\n    }\n    console.debug(\"Bokeh: BokehJS not loaded, scheduling load and callback at\", now());\n    root._bokeh_is_loading = css_urls.length + js_urls.length;\n\n    function on_load() {\n      root._bokeh_is_loading--;\n      if (root._bokeh_is_loading === 0) {\n        console.debug(\"Bokeh: all BokehJS libraries/stylesheets loaded\");\n        run_callbacks()\n      }\n    }\n\n    function on_error() {\n      console.error(\"failed to load \" + url);\n    }\n\n    for (var i = 0; i < css_urls.length; i++) {\n      var url = css_urls[i];\n      const element = document.createElement(\"link\");\n      element.onload = on_load;\n      element.onerror = on_error;\n      element.rel = \"stylesheet\";\n      element.type = \"text/css\";\n      element.href = url;\n      console.debug(\"Bokeh: injecting link tag for BokehJS stylesheet: \", url);\n      document.body.appendChild(element);\n    }\n\n    const hashes = {\"https://cdn.bokeh.org/bokeh/release/bokeh-2.2.2.min.js\": \"JayppSWSRBsibIZqI8S4vAb1oFgLL0uhNvSn8cmArlOvYOwfFjYeyY5UWwJ+K0SU\", \"https://cdn.bokeh.org/bokeh/release/bokeh-widgets-2.2.2.min.js\": \"G0/Tv/Yy/zEPNsnW0Qif/FOsGesd+KIrKg/QLmvQmReuUW9qmSP7mAmr0VpiUNr3\", \"https://cdn.bokeh.org/bokeh/release/bokeh-tables-2.2.2.min.js\": \"VLYHEbLQDk5G1+/4ALU0myoJPMEUsngWry2fzYorFOUmarjGRPLLURaeK/on6JqX\"};\n\n    for (var i = 0; i < js_urls.length; i++) {\n      var url = js_urls[i];\n      var element = document.createElement('script');\n      element.onload = on_load;\n      element.onerror = on_error;\n      element.async = false;\n      element.src = url;\n      if (url in hashes) {\n        element.crossOrigin = \"anonymous\";\n        element.integrity = \"sha384-\" + hashes[url];\n      }\n      console.debug(\"Bokeh: injecting script tag for BokehJS library: \", url);\n      document.head.appendChild(element);\n    }\n  };\n\n  function inject_raw_css(css) {\n    const element = document.createElement(\"style\");\n    element.appendChild(document.createTextNode(css));\n    document.body.appendChild(element);\n  }\n\n  \n  var js_urls = [\"https://cdn.bokeh.org/bokeh/release/bokeh-2.2.2.min.js\", \"https://cdn.bokeh.org/bokeh/release/bokeh-widgets-2.2.2.min.js\", \"https://cdn.bokeh.org/bokeh/release/bokeh-tables-2.2.2.min.js\"];\n  var css_urls = [];\n  \n\n  var inline_js = [\n    function(Bokeh) {\n      Bokeh.set_log_level(\"info\");\n    },\n    function(Bokeh) {\n    \n    \n    }\n  ];\n\n  function run_inline_js() {\n    \n    if (root.Bokeh !== undefined || force === true) {\n      \n    for (var i = 0; i < inline_js.length; i++) {\n      inline_js[i].call(root, root.Bokeh);\n    }\n    if (force === true) {\n        display_loaded();\n      }} else if (Date.now() < root._bokeh_timeout) {\n      setTimeout(run_inline_js, 100);\n    } else if (!root._bokeh_failed_load) {\n      console.log(\"Bokeh: BokehJS failed to load within specified timeout.\");\n      root._bokeh_failed_load = true;\n    } else if (force !== true) {\n      var cell = $(document.getElementById(\"3055\")).parents('.cell').data().cell;\n      cell.output_area.append_execute_result(NB_LOAD_WARNING)\n    }\n\n  }\n\n  if (root._bokeh_is_loading === 0) {\n    console.debug(\"Bokeh: BokehJS loaded, going straight to plotting\");\n    run_inline_js();\n  } else {\n    load_libs(css_urls, js_urls, function() {\n      console.debug(\"Bokeh: BokehJS plotting callback run at\", now());\n      run_inline_js();\n    });\n  }\n}(window));"
     },
     "metadata": {},
     "output_type": "display_data"
    },
    {
     "data": {
      "text/html": [
       "\n",
       "\n",
       "\n",
       "\n",
       "\n",
       "\n",
       "  <div class=\"bk-root\" id=\"74575340-f470-4b5a-9f57-466f855efd0a\" data-root-id=\"3200\"></div>\n"
      ]
     },
     "metadata": {},
     "output_type": "display_data"
    },
    {
     "data": {
      "application/javascript": [
       "(function(root) {\n",
       "  function embed_document(root) {\n",
       "    \n",
       "  var docs_json = {\"4fe73036-cf2e-44d3-9ba3-b092ed5f1fb6\":{\"roots\":{\"references\":[{\"attributes\":{\"children\":[{\"id\":\"3058\"},{\"id\":\"3170\"}]},\"id\":\"3200\",\"type\":\"Column\"},{\"attributes\":{},\"id\":\"3065\",\"type\":\"LinearScale\"},{\"attributes\":{\"months\":[0,6]},\"id\":\"3113\",\"type\":\"MonthsTicker\"},{\"attributes\":{\"months\":[0,1,2,3,4,5,6,7,8,9,10,11]},\"id\":\"3231\",\"type\":\"MonthsTicker\"},{\"attributes\":{\"end\":1594624860000.0,\"start\":1593963540000.0},\"id\":\"3061\",\"type\":\"Range1d\"},{\"attributes\":{\"num_minor_ticks\":10,\"tickers\":[{\"id\":\"3103\"},{\"id\":\"3104\"},{\"id\":\"3105\"},{\"id\":\"3106\"},{\"id\":\"3107\"},{\"id\":\"3108\"},{\"id\":\"3109\"},{\"id\":\"3110\"},{\"id\":\"3111\"},{\"id\":\"3112\"},{\"id\":\"3113\"},{\"id\":\"3114\"}]},\"id\":\"3070\",\"type\":\"DatetimeTicker\"},{\"attributes\":{\"overlay\":{\"id\":\"3196\"},\"x_range\":{\"id\":\"3061\"},\"y_range\":null},\"id\":\"3195\",\"type\":\"RangeTool\"},{\"attributes\":{\"days\":[1,15]},\"id\":\"3230\",\"type\":\"DaysTicker\"},{\"attributes\":{\"days\":[\"%m-%d %H:%M\"],\"hours\":[\"%H:%M:%S\"],\"milliseconds\":[\"%H:%M:%S.%3N\"],\"minutes\":[\"%H:%M:%S\"],\"seconds\":[\"%H:%M:%S\"]},\"id\":\"3187\",\"type\":\"DatetimeTickFormatter\"},{\"attributes\":{\"months\":[0,6]},\"id\":\"3234\",\"type\":\"MonthsTicker\"},{\"attributes\":{\"months\":[0,2,4,6,8,10]},\"id\":\"3232\",\"type\":\"MonthsTicker\"},{\"attributes\":{\"below\":[{\"id\":\"3069\"}],\"center\":[{\"id\":\"3072\"},{\"id\":\"3076\"},{\"id\":\"3117\"}],\"left\":[{\"id\":\"3073\"}],\"min_border_left\":50,\"plot_height\":300,\"plot_width\":1200,\"renderers\":[{\"id\":\"3097\"},{\"id\":\"3122\"},{\"id\":\"3147\"}],\"title\":{\"id\":\"3059\"},\"toolbar\":{\"id\":\"3083\"},\"toolbar_location\":\"above\",\"x_range\":{\"id\":\"3061\"},\"x_scale\":{\"id\":\"3065\"},\"y_range\":{\"id\":\"3063\"},\"y_scale\":{\"id\":\"3067\"}},\"id\":\"3058\",\"subtype\":\"Figure\",\"type\":\"Plot\"},{\"attributes\":{\"axis_label\":\"TotalBytesSent\",\"formatter\":{\"id\":\"3092\"},\"ticker\":{\"id\":\"3074\"}},\"id\":\"3073\",\"type\":\"LinearAxis\"},{\"attributes\":{\"data\":{\"TimeGenerated\":{\"__ndarray__\":\"AADAwRYyd0IAAKgwGjJ3QgAAkJ8dMndCAAB4DiEyd0IAAGB9JDJ3QgAASOwnMndCAAAwWysyd0IAABjKLjJ3QgAAADkyMndCAADopzUyd0IAANAWOTJ3QgAAuIU8MndCAACg9D8yd0IAAIhjQzJ3QgAAcNJGMndCAABYQUoyd0IAAECwTTJ3QgAAKB9RMndCAAAQjlQyd0IAAPj8VzJ3QgAA4GtbMndCAADI2l4yd0IAALBJYjJ3QgAAmLhlMndCAACAJ2kyd0IAAGiWbDJ3QgAAUAVwMndCAAA4dHMyd0IAACDjdjJ3QgAACFJ6MndCAADwwH0yd0IAANgvgTJ3QgAAwJ6EMndCAACoDYgyd0IAAJB8izJ3QgAAeOuOMndCAABgWpIyd0IAAEjJlTJ3QgAAMDiZMndCAAAYp5wyd0IAAAAWoDJ3QgAA6ISjMndCAADQ86Yyd0IAALhiqjJ3QgAAoNGtMndCAACIQLEyd0IAAHCvtDJ3QgAAWB64MndCAABAjbsyd0IAACj8vjJ3QgAAEGvCMndCAAD42cUyd0IAAOBIyTJ3QgAAyLfMMndCAACwJtAyd0IAAJiV0zJ3QgAAgATXMndCAABoc9oyd0IAAFDi3TJ3QgAAOFHhMndCAAAgwOQyd0IAAAgv6DJ3QgAA8J3rMndCAADYDO8yd0IAAMB78jJ3QgAAqOr1MndCAACQWfkyd0IAAHjI/DJ3QgAAYDcAM3dCAABIpgMzd0IAADAVBzN3QgAAGIQKM3dCAAAA8w0zd0IAAOhhETN3QgAA0NAUM3dCAAC4Pxgzd0IAAKCuGzN3QgAAiB0fM3dCAABwjCIzd0IAAFj7JTN3QgAAQGopM3dCAAAo2Swzd0IAABBIMDN3QgAA+LYzM3dCAADgJTczd0IAAMiUOjN3QgAAsAM+M3dCAACYckEzd0IAAIDhRDN3QgAAaFBIM3dCAABQv0szd0IAADguTzN3QgAAIJ1SM3dCAAAIDFYzd0IAAPB6WTN3QgAA2OlcM3dCAADAWGAzd0IAAKjHYzN3QgAAkDZnM3dCAAB4pWozd0IAAGAUbjN3QgAASINxM3dCAAAw8nQzd0IAABhheDN3QgAAANB7M3dCAADoPn8zd0IAANCtgjN3QgAAuByGM3dCAACgi4kzd0IAAIj6jDN3QgAAcGmQM3dCAABY2JMzd0IAAEBHlzN3QgAAKLaaM3dCAAAQJZ4zd0IAAPiToTN3QgAA4AKlM3dCAADIcagzd0IAALDgqzN3QgAAmE+vM3dCAACAvrIzd0IAAGgttjN3QgAAUJy5M3dCAAA4C70zd0IAACB6wDN3QgAACOnDM3dCAADwV8czd0IAANjGyjN3QgAAwDXOM3dCAACopNEzd0IAAJAT1TN3QgAAeILYM3dCAABg8dszd0IAAEhg3zN3QgAAMM/iM3dCAAAYPuYzd0IAAACt6TN3QgAA6BvtM3dCAADQivAzd0IAALj58zN3QgAAoGj3M3dCAACI1/ozd0IAAHBG/jN3QgAAWLUBNHdCAABAJAU0d0IAACiTCDR3QgAAEAIMNHdCAAD4cA80d0IAAODfEjR3QgAAyE4WNHdCAACwvRk0d0IAAJgsHTR3QgAAgJsgNHdCAABoCiQ0d0IAAFB5JzR3QgAAOOgqNHdCAAAgVy40d0IAAAjGMTR3QgAA8DQ1NHdCAADYozg0d0IAAMASPDR3QgAAqIE/NHdCAACQ8EI0d0IAAHhfRjR3QgAAYM5JNHdCAABIPU00d0IAADCsUDR3QgAAGBtUNHdC\",\"dtype\":\"float64\",\"order\":\"little\",\"shape\":[168]},\"TotalBytesSent\":[10823,14821,13532,11947,11193,13257,13375,27975,31501,28775,31398,32979,32241,33539,28420,25757,30947,27803,29637,29670,11563,13465,13587,14967,12964,13858,13119,13907,12739,11227,11268,31322,26683,32982,32544,31414,28254,29893,31290,28334,26328,26448,30576,30793,10484,14995,11715,11296,10487,10789,14758,10998,10682,14572,13689,34167,27286,33955,33700,26810,30679,31533,33739,32815,26046,27499,33974,29118,12821,12836,13819,14877,14220,10053,14690,13161,14334,12806,11771,25544,27355,33777,27055,27816,32648,25686,32147,33363,28923,31547,33575,26369,14754,10415,10286,12086,11414,14915,14479,14063,13211,12485,14759,26964,31469,26214,33556,32596,25150,31064,25338,25714,26089,25673,48616,45856,11654,13127,12184,14179,13841,11097,13724,10535,10022,12570,14145,18473,19477,19080,17622,18725,17612,19733,19338,18656,17732,17801,16167,16485,11455,10545,13991,10699,12735,12639,14501,12477,11497,10081,11729,18121,17458,18104,16508,17814,16494,17588,18545,19534,16085,15276,15363,18166,13830,13350,11842,11111],\"anomalies\":[0,0,0,0,0,0,0,0,0,0,0,0,0,0,0,0,0,0,0,0,0,0,0,0,0,0,0,0,0,0,0,0,0,0,0,0,0,0,0,0,0,0,0,0,0,0,0,0,0,0,0,0,0,0,0,0,0,0,0,0,0,0,0,0,0,0,0,0,0,0,0,0,0,0,0,0,0,0,0,0,0,0,0,0,0,0,0,0,0,0,0,0,0,0,0,0,0,0,0,0,0,0,0,0,0,0,0,0,0,0,0,0,0,0,1,1,0,0,0,0,0,0,0,0,0,0,0,0,0,0,0,0,0,0,0,0,0,0,0,0,0,0,0,0,0,0,0,0,0,0,0,0,0,0,0,0,0,0,0,0,0,0,0,0,0,0,0,0],\"baseline\":[11187,14007,13280,12238,11314,12641,12350,30664,29442,31531,32547,32060,31540,32721,30726,27678,29255,27470,28928,28791,10907,13894,12754,13436,11796,13334,13807,12503,11862,12800,12552,29979,28690,31444,31693,30566,30470,31010,30430,28406,28016,27368,31130,29511,11469,13234,12458,13336,12055,12579,14104,12723,12402,13021,13045,29441,28468,31613,31518,30080,30103,30386,30901,29854,27887,28203,34349,31499,12950,13611,13072,13965,12753,12328,14733,12960,12805,13258,13457,28209,27735,30514,30198,28394,28438,28562,29639,29520,26364,27468,35919,32037,13313,12912,13020,14080,14269,13789,16208,14404,14225,14694,15656,26848,27373,28686,28393,27900,27131,27913,28314,28378,25707,26105,32232,29906,14825,13953,14045,13866,14136,13332,15009,12709,11857,11592,12842,20300,21208,20687,20314,20820,18816,20331,19942,20270,18209,18082,22571,22484,11144,10574,10923,10288,11477,11094,12823,10765,9983,9851,12111,16511,18096,16513,16469,18378,15622,18256,17387,18026,16531,15796,17900,20157,13089,12694,13044,11487],\"index\":[0,1,2,3,4,5,6,7,8,9,10,11,12,13,14,15,16,17,18,19,20,21,22,23,24,25,26,27,28,29,30,31,32,33,34,35,36,37,38,39,40,41,42,43,44,45,46,47,48,49,50,51,52,53,54,55,56,57,58,59,60,61,62,63,64,65,66,67,68,69,70,71,72,73,74,75,76,77,78,79,80,81,82,83,84,85,86,87,88,89,90,91,92,93,94,95,96,97,98,99,100,101,102,103,104,105,106,107,108,109,110,111,112,113,114,115,116,117,118,119,120,121,122,123,124,125,126,127,128,129,130,131,132,133,134,135,136,137,138,139,140,141,142,143,144,145,146,147,148,149,150,151,152,153,154,155,156,157,158,159,160,161,162,163,164,165,166,167],\"residual\":[-364,813,251,-291,-121,615,1024,-2689,2058,-2756,-1149,918,700,817,-2306,-1921,1691,332,708,878,655,-429,832,1530,1167,523,-688,1403,876,-1573,-1284,1342,-2007,1537,850,847,-2216,-1117,859,-72,-1688,-920,-554,1281,-985,1760,-743,-2040,-1568,-1790,653,-1725,-1720,1550,643,4725,-1182,2341,2181,-3270,575,1146,2837,2960,-1841,-704,-375,-2381,-129,-775,746,911,1466,-2275,-43,200,1528,-452,-1686,-2665,-380,3262,-3143,-578,4209,-2876,2507,3842,2558,4078,-2344,-5668,1440,-2497,-2734,-1994,-2855,1125,-1729,-341,-1014,-2209,-897,115,4095,-2472,5162,4695,-1981,3150,-2976,-2664,381,-432,16383,15949,-3171,-826,-1861,312,-295,-2235,-1285,-2174,-1835,977,1302,-1827,-1731,-1607,-2692,-2095,-1204,-598,-604,-1614,-477,-281,-6404,-5999,310,-29,3067,410,1257,1544,1677,1711,1513,229,-382,1609,-638,1590,38,-564,871,-668,1157,1507,-446,-520,-2537,-1991,740,655,-1202,-376],\"score\":{\"__ndarray__\":\"wXsqBZ0ywr+h30T8qIXTPy3+xdGRbLc/Qy/71X1Lvb/w3KS70YSpvwZYxigsas0/H8eTFymn2D/p2TyNrWjwvwJVXrD35eg/q6FE3vLQ8L99K6a3BjDcv3UMLTlME9Y/HERoszjG0D/6Fj+Cj57TPyOaTsw+Key/nvKk3Oh6578FqiduqG/kPy+B8TWCTb8/zbJcvwX40D8A42b9ShrVP/GqUqAuXM8/foJuB+Fbxb+GZqn47/vTPy8Q3CWJeuI/vQFFTVoh3D8eZtAVwPDIP+PAwOY++tC/kuH3lj3v4D9Ux2m61w3VPxOLoBi9P+O/afdi4Wp437+P+2PZXzHgP5XF5vyWhui/nQAX21KQ4j+UX49T/WvUPxK2E29QWdQ/f6sPaR0R67+5cNSH0mjbvxtcAgEEpNQ/G1q34yT5n7+rZo3erqXkv/JKcUF5nta/mwUFvShwy78YK6A3BOfeP1BOk0IbM9i/Yce1sWxG5T/kOfGYoFDSv+PpjuVN7ei/eyjkBC0w479UqMMKKuPlv5hzWBpIQ88/paYyCtkY5b8NRHb2SAnlv42azXTJuOI/3l51fMfGzj/1E4s0lan8Pxh09oh0/dy/3brRc9JW7D/zZ0X8z2TqP6fTSm7g8PO/HAU6sSl4yz8sX+MNoJ7bPyeRNXNTL/E/oBopmb/u8T8oyd6g54Hmv0Weqf7YXdG/KKwK5pC7wr8BYVj0rxLtv3lSSBs6E6u/qfTCyNQX07+WwCW4k+TRP5ort86459U/a1UK9lSz4T+sAyWFwcjrv/1FVi6wsJS/ivfsIKV2sj9Zgl2ET3TiP/j+Kww8esa/1dgOPXWf5L/khkXEU0Pwv4U2/DTR+cK/R+/7ub7E8z9ZvNimOivzv8GdvwT3msy/DpvF04qG+T/DQBnLs4vxv0q32c+BW+4/kEWqMmNL9z8f2PRlP/ruP+r11Gqruvg/ByGzyIWf7L9O/RMPa0IBwIshncJnYuE/hYMEi7577r+SlQzmta7wv6YrMGMgXui/H9hAOwVr8b+bvIHO5RvbP1HCL01MJeW/R/9sAEIUwb+RX+mNoufYvxK71LNT++q/tYwSv0sP1r9ILrFJNWSkP7jQLlkg1fg/kJZWKO4t7r+XG81frVH/Py/sVfnkevw/tpF5yak16L/bayQQcRbzP60adZBUJ/K/buPlW8VB8L+QDGvt0AjCP4PVZdA6gcW/lDb1kSziGEBDb2xVUTkYQDSdThHOVvO/UTb59E9V1L+GU9DvJ8Dmv0QuZb5/W70/pQzk7Revvb/x7kHnQEzrvz+F4YKkft+/7giuKWOO6r+mH2O8Om/mv8+8V3GUgtc/qc0Bd75p3z9N6Gg2VFbmvydQru6FK+W/S/YH0pCp479JxFvGWG3wv2Qmp75+mOm/f6TWaWiG3b83x4VA+JPNv0BtdNKr3s2/uOZCh1q/47/LsuOWfbHHv84FNZp8Ury/QvaOGCF/A8DJKeiI+0MCwJO/cLKyKb0/P1U0v4V8jr/AbCI5RZXyPxQvF4TfccM/Bd/CE51R3j8K8VGQHKbiPyrJsQMVROQ/YjQZveit5D+TWihJn0XiP5E8RU7CSLU/3W32urcSw7+68uKQbXDjPyEaErj6hc+/R6+wEko14z8cjK/EIqaFP1Ya6Fqp7Mu/JQLxkrfu1D8prN1Ivn3Qv193U/4Z49s/EbGsZPIy4j/uWD16iC/Gv7pYZ9fZyMm/P5jnKD/47r/kVvLwyVTov5JtLu85v9E/8apSoC5czz/SiNkm9Xndv9THBykEyMK/\",\"dtype\":\"float64\",\"order\":\"little\",\"shape\":[168]},\"seasonal\":[-10756,-7953,-8697,-9756,-10696,-9384,-9691,8607,7371,9446,10451,9953,9422,10593,8591,5536,7107,5316,6769,6628,-11261,-8280,-9428,-8756,-10385,-8835,-8347,-9634,-10254,-9288,-9505,7958,6710,9506,9796,8706,8644,9210,8648,6634,6245,5590,9335,7690,-10386,-8661,-9482,-8650,-9974,-9493,-8009,-9429,-9788,-9206,-9218,7140,6131,9240,9113,7648,7648,7913,8416,7361,5392,5710,11862,9021,-9516,-8842,-9364,-8452,-9641,-10039,-7602,-9339,-9454,-8958,-8714,6084,5661,8490,8223,6463,6546,6699,7796,7686,4528,5618,14048,10140,-8612,-9048,-8988,-7986,-7865,-8418,-6074,-7950,-8193,-7776,-6853,4315,4832,6151,5880,5424,4709,5565,6062,6248,3727,4303,10633,8532,-6302,-6906,-6524,-6391,-5789,-6245,-4208,-6142,-6629,-6534,-4936,2855,4081,3858,3764,4527,2756,4475,4259,4727,2775,2730,7286,7253,-4041,-4576,-4198,-4811,-3607,-3979,-2234,-4275,-5042,-5159,-2886,1527,3124,1555,1525,3449,709,3359,2509,3168,1695,982,3111,5395,-1643,-2008,-1625,-3149],\"trend\":[21943,21961,21977,21994,22010,22026,22042,22056,22070,22084,22096,22107,22117,22127,22135,22142,22148,22154,22158,22163,22168,22174,22182,22193,22181,22169,22155,22137,22116,22089,22058,22021,21980,21938,21897,21859,21826,21799,21781,21771,21770,21777,21795,21821,21855,21896,21941,21986,22030,22073,22114,22153,22191,22227,22264,22300,22337,22372,22404,22432,22455,22473,22485,22492,22495,22493,22487,22477,22466,22453,22437,22417,22394,22367,22335,22299,22259,22217,22172,22124,22074,22024,21975,21930,21892,21863,21843,21834,21836,21849,21870,21896,21925,21961,22008,22066,22134,22208,22283,22355,22418,22471,22509,22533,22541,22534,22512,22475,22421,22348,22252,22129,21979,21801,21598,21373,21128,20860,20570,20257,19925,19577,19217,18852,18486,18127,17778,17444,17127,16828,16549,16292,16060,15855,15682,15542,15434,15351,15285,15231,15186,15150,15121,15100,15085,15074,15058,15041,15025,15011,14997,14984,14971,14957,14943,14929,14913,14896,14877,14858,14836,14813,14788,14761,14733,14702,14670,14636],\"weights\":[1,1,1,1,1,1,1,1,1,1,1,1,1,1,1,1,1,1,1,1,1,1,1,1,1,1,1,1,1,1,1,1,1,1,1,1,1,1,1,1,1,1,1,1,1,1,1,1,1,1,1,1,1,1,1,1,1,1,1,1,1,1,1,1,1,1,1,1,1,1,1,1,1,1,1,1,1,1,1,1,1,1,1,1,1,1,1,1,1,1,1,1,1,1,1,1,1,1,1,1,1,1,1,1,1,1,1,1,1,1,1,1,1,1,1,1,1,1,1,1,1,1,1,1,1,1,1,1,1,1,1,1,1,1,1,1,1,1,1,1,1,1,1,1,1,1,1,1,1,1,1,1,1,1,1,1,1,1,1,1,1,1,1,1,1,1,1,1]},\"selected\":{\"id\":\"3236\"},\"selection_policy\":{\"id\":\"3237\"}},\"id\":\"3189\",\"type\":\"ColumnDataSource\"},{\"attributes\":{},\"id\":\"3067\",\"type\":\"LinearScale\"},{\"attributes\":{},\"id\":\"3116\",\"type\":\"UnionRenderers\"},{\"attributes\":{\"line_alpha\":0.1,\"line_color\":\"green\",\"x\":{\"field\":\"TimeGenerated\"},\"y\":{\"field\":\"baseline\"}},\"id\":\"3121\",\"type\":\"Line\"},{\"attributes\":{\"source\":{\"id\":\"3189\"}},\"id\":\"3194\",\"type\":\"CDSView\"},{\"attributes\":{\"mantissas\":[1,2,5],\"max_interval\":500.0,\"num_minor_ticks\":0},\"id\":\"3103\",\"type\":\"AdaptiveTicker\"},{\"attributes\":{\"mantissas\":[1,2,5],\"max_interval\":500.0,\"num_minor_ticks\":0},\"id\":\"3224\",\"type\":\"AdaptiveTicker\"},{\"attributes\":{},\"id\":\"3237\",\"type\":\"UnionRenderers\"},{\"attributes\":{},\"id\":\"3236\",\"type\":\"Selection\"},{\"attributes\":{},\"id\":\"3074\",\"type\":\"BasicTicker\"},{\"attributes\":{\"label\":{\"value\":\"observed\"},\"renderers\":[{\"id\":\"3097\"}]},\"id\":\"3118\",\"type\":\"LegendItem\"},{\"attributes\":{},\"id\":\"3235\",\"type\":\"YearsTicker\"},{\"attributes\":{\"axis_label\":\"TimeGenerated\",\"formatter\":{\"id\":\"3090\"},\"ticker\":{\"id\":\"3070\"}},\"id\":\"3069\",\"type\":\"DatetimeAxis\"},{\"attributes\":{\"callback\":null,\"formatters\":{\"@TimeGenerated\":\"datetime\"},\"tooltips\":[[\"TimeGenerated\",\"@TimeGenerated{%F %T.%3N}\"],[\"TotalBytesSent\",\"@TotalBytesSent\"],[\"residual\",\"@residual\"],[\"trend\",\"@trend\"],[\"seasonal\",\"@seasonal\"],[\"weights\",\"@weights\"],[\"baseline\",\"@baseline\"],[\"score\",\"@score\"]]},\"id\":\"3057\",\"type\":\"HoverTool\"},{\"attributes\":{\"line_color\":\"green\",\"x\":{\"field\":\"TimeGenerated\"},\"y\":{\"field\":\"baseline\"}},\"id\":\"3120\",\"type\":\"Line\"},{\"attributes\":{\"label\":{\"value\":\"baseline\"},\"renderers\":[{\"id\":\"3122\"}]},\"id\":\"3142\",\"type\":\"LegendItem\"},{\"attributes\":{\"click_policy\":\"hide\",\"items\":[{\"id\":\"3118\"},{\"id\":\"3142\"},{\"id\":\"3169\"}],\"location\":\"top_left\"},\"id\":\"3117\",\"type\":\"Legend\"},{\"attributes\":{\"fill_alpha\":{\"value\":0.1},\"fill_color\":{\"value\":\"blue\"},\"line_alpha\":{\"value\":0.1},\"line_color\":{\"value\":\"blue\"},\"x\":{\"field\":\"TimeGenerated\"},\"y\":{\"field\":\"score\"}},\"id\":\"3192\",\"type\":\"Circle\"},{\"attributes\":{},\"id\":\"3063\",\"type\":\"DataRange1d\"},{\"attributes\":{\"text\":\"Time Series Anomalies Visualization\"},\"id\":\"3059\",\"type\":\"Title\"},{\"attributes\":{\"days\":[1,4,7,10,13,16,19,22,25,28]},\"id\":\"3228\",\"type\":\"DaysTicker\"},{\"attributes\":{},\"id\":\"3167\",\"type\":\"Selection\"},{\"attributes\":{\"data_source\":{\"id\":\"3056\"},\"glyph\":{\"id\":\"3120\"},\"hover_glyph\":null,\"muted_glyph\":null,\"nonselection_glyph\":{\"id\":\"3121\"},\"selection_glyph\":null,\"view\":{\"id\":\"3123\"}},\"id\":\"3122\",\"type\":\"GlyphRenderer\"},{\"attributes\":{\"months\":[0,2,4,6,8,10]},\"id\":\"3111\",\"type\":\"MonthsTicker\"},{\"attributes\":{},\"id\":\"3114\",\"type\":\"YearsTicker\"},{\"attributes\":{},\"id\":\"3115\",\"type\":\"Selection\"},{\"attributes\":{\"months\":[0,1,2,3,4,5,6,7,8,9,10,11]},\"id\":\"3110\",\"type\":\"MonthsTicker\"},{\"attributes\":{\"source\":{\"id\":\"3056\"}},\"id\":\"3123\",\"type\":\"CDSView\"},{\"attributes\":{\"days\":[1,8,15,22]},\"id\":\"3229\",\"type\":\"DaysTicker\"},{\"attributes\":{\"months\":[0,4,8]},\"id\":\"3112\",\"type\":\"MonthsTicker\"},{\"attributes\":{\"format\":\"00\"},\"id\":\"3092\",\"type\":\"NumeralTickFormatter\"},{\"attributes\":{\"axis\":{\"id\":\"3069\"},\"grid_line_color\":null,\"ticker\":null},\"id\":\"3072\",\"type\":\"Grid\"},{\"attributes\":{\"data\":{\"TimeGenerated\":{\"__ndarray__\":\"AADAwRYyd0IAAKgwGjJ3QgAAkJ8dMndCAAB4DiEyd0IAAGB9JDJ3QgAASOwnMndCAAAwWysyd0IAABjKLjJ3QgAAADkyMndCAADopzUyd0IAANAWOTJ3QgAAuIU8MndCAACg9D8yd0IAAIhjQzJ3QgAAcNJGMndCAABYQUoyd0IAAECwTTJ3QgAAKB9RMndCAAAQjlQyd0IAAPj8VzJ3QgAA4GtbMndCAADI2l4yd0IAALBJYjJ3QgAAmLhlMndCAACAJ2kyd0IAAGiWbDJ3QgAAUAVwMndCAAA4dHMyd0IAACDjdjJ3QgAACFJ6MndCAADwwH0yd0IAANgvgTJ3QgAAwJ6EMndCAACoDYgyd0IAAJB8izJ3QgAAeOuOMndCAABgWpIyd0IAAEjJlTJ3QgAAMDiZMndCAAAYp5wyd0IAAAAWoDJ3QgAA6ISjMndCAADQ86Yyd0IAALhiqjJ3QgAAoNGtMndCAACIQLEyd0IAAHCvtDJ3QgAAWB64MndCAABAjbsyd0IAACj8vjJ3QgAAEGvCMndCAAD42cUyd0IAAOBIyTJ3QgAAyLfMMndCAACwJtAyd0IAAJiV0zJ3QgAAgATXMndCAABoc9oyd0IAAFDi3TJ3QgAAOFHhMndCAAAgwOQyd0IAAAgv6DJ3QgAA8J3rMndCAADYDO8yd0IAAMB78jJ3QgAAqOr1MndCAACQWfkyd0IAAHjI/DJ3QgAAYDcAM3dCAABIpgMzd0IAADAVBzN3QgAAGIQKM3dCAAAA8w0zd0IAAOhhETN3QgAA0NAUM3dCAAC4Pxgzd0IAAKCuGzN3QgAAiB0fM3dCAABwjCIzd0IAAFj7JTN3QgAAQGopM3dCAAAo2Swzd0IAABBIMDN3QgAA+LYzM3dCAADgJTczd0IAAMiUOjN3QgAAsAM+M3dCAACYckEzd0IAAIDhRDN3QgAAaFBIM3dCAABQv0szd0IAADguTzN3QgAAIJ1SM3dCAAAIDFYzd0IAAPB6WTN3QgAA2OlcM3dCAADAWGAzd0IAAKjHYzN3QgAAkDZnM3dCAAB4pWozd0IAAGAUbjN3QgAASINxM3dCAAAw8nQzd0IAABhheDN3QgAAANB7M3dCAADoPn8zd0IAANCtgjN3QgAAuByGM3dCAACgi4kzd0IAAIj6jDN3QgAAcGmQM3dCAABY2JMzd0IAAEBHlzN3QgAAKLaaM3dCAAAQJZ4zd0IAAPiToTN3QgAA4AKlM3dCAADIcagzd0IAALDgqzN3QgAAmE+vM3dCAACAvrIzd0IAAGgttjN3QgAAUJy5M3dCAAA4C70zd0IAACB6wDN3QgAACOnDM3dCAADwV8czd0IAANjGyjN3QgAAwDXOM3dCAACopNEzd0IAAJAT1TN3QgAAeILYM3dCAABg8dszd0IAAEhg3zN3QgAAMM/iM3dCAAAYPuYzd0IAAACt6TN3QgAA6BvtM3dCAADQivAzd0IAALj58zN3QgAAoGj3M3dCAACI1/ozd0IAAHBG/jN3QgAAWLUBNHdCAABAJAU0d0IAACiTCDR3QgAAEAIMNHdCAAD4cA80d0IAAODfEjR3QgAAyE4WNHdCAACwvRk0d0IAAJgsHTR3QgAAgJsgNHdCAABoCiQ0d0IAAFB5JzR3QgAAOOgqNHdCAAAgVy40d0IAAAjGMTR3QgAA8DQ1NHdCAADYozg0d0IAAMASPDR3QgAAqIE/NHdCAACQ8EI0d0IAAHhfRjR3QgAAYM5JNHdCAABIPU00d0IAADCsUDR3QgAAGBtUNHdC\",\"dtype\":\"float64\",\"order\":\"little\",\"shape\":[168]},\"TotalBytesSent\":[10823,14821,13532,11947,11193,13257,13375,27975,31501,28775,31398,32979,32241,33539,28420,25757,30947,27803,29637,29670,11563,13465,13587,14967,12964,13858,13119,13907,12739,11227,11268,31322,26683,32982,32544,31414,28254,29893,31290,28334,26328,26448,30576,30793,10484,14995,11715,11296,10487,10789,14758,10998,10682,14572,13689,34167,27286,33955,33700,26810,30679,31533,33739,32815,26046,27499,33974,29118,12821,12836,13819,14877,14220,10053,14690,13161,14334,12806,11771,25544,27355,33777,27055,27816,32648,25686,32147,33363,28923,31547,33575,26369,14754,10415,10286,12086,11414,14915,14479,14063,13211,12485,14759,26964,31469,26214,33556,32596,25150,31064,25338,25714,26089,25673,48616,45856,11654,13127,12184,14179,13841,11097,13724,10535,10022,12570,14145,18473,19477,19080,17622,18725,17612,19733,19338,18656,17732,17801,16167,16485,11455,10545,13991,10699,12735,12639,14501,12477,11497,10081,11729,18121,17458,18104,16508,17814,16494,17588,18545,19534,16085,15276,15363,18166,13830,13350,11842,11111],\"anomalies\":[0,0,0,0,0,0,0,0,0,0,0,0,0,0,0,0,0,0,0,0,0,0,0,0,0,0,0,0,0,0,0,0,0,0,0,0,0,0,0,0,0,0,0,0,0,0,0,0,0,0,0,0,0,0,0,0,0,0,0,0,0,0,0,0,0,0,0,0,0,0,0,0,0,0,0,0,0,0,0,0,0,0,0,0,0,0,0,0,0,0,0,0,0,0,0,0,0,0,0,0,0,0,0,0,0,0,0,0,0,0,0,0,0,0,1,1,0,0,0,0,0,0,0,0,0,0,0,0,0,0,0,0,0,0,0,0,0,0,0,0,0,0,0,0,0,0,0,0,0,0,0,0,0,0,0,0,0,0,0,0,0,0,0,0,0,0,0,0],\"baseline\":[11187,14007,13280,12238,11314,12641,12350,30664,29442,31531,32547,32060,31540,32721,30726,27678,29255,27470,28928,28791,10907,13894,12754,13436,11796,13334,13807,12503,11862,12800,12552,29979,28690,31444,31693,30566,30470,31010,30430,28406,28016,27368,31130,29511,11469,13234,12458,13336,12055,12579,14104,12723,12402,13021,13045,29441,28468,31613,31518,30080,30103,30386,30901,29854,27887,28203,34349,31499,12950,13611,13072,13965,12753,12328,14733,12960,12805,13258,13457,28209,27735,30514,30198,28394,28438,28562,29639,29520,26364,27468,35919,32037,13313,12912,13020,14080,14269,13789,16208,14404,14225,14694,15656,26848,27373,28686,28393,27900,27131,27913,28314,28378,25707,26105,32232,29906,14825,13953,14045,13866,14136,13332,15009,12709,11857,11592,12842,20300,21208,20687,20314,20820,18816,20331,19942,20270,18209,18082,22571,22484,11144,10574,10923,10288,11477,11094,12823,10765,9983,9851,12111,16511,18096,16513,16469,18378,15622,18256,17387,18026,16531,15796,17900,20157,13089,12694,13044,11487],\"index\":[0,1,2,3,4,5,6,7,8,9,10,11,12,13,14,15,16,17,18,19,20,21,22,23,24,25,26,27,28,29,30,31,32,33,34,35,36,37,38,39,40,41,42,43,44,45,46,47,48,49,50,51,52,53,54,55,56,57,58,59,60,61,62,63,64,65,66,67,68,69,70,71,72,73,74,75,76,77,78,79,80,81,82,83,84,85,86,87,88,89,90,91,92,93,94,95,96,97,98,99,100,101,102,103,104,105,106,107,108,109,110,111,112,113,114,115,116,117,118,119,120,121,122,123,124,125,126,127,128,129,130,131,132,133,134,135,136,137,138,139,140,141,142,143,144,145,146,147,148,149,150,151,152,153,154,155,156,157,158,159,160,161,162,163,164,165,166,167],\"residual\":[-364,813,251,-291,-121,615,1024,-2689,2058,-2756,-1149,918,700,817,-2306,-1921,1691,332,708,878,655,-429,832,1530,1167,523,-688,1403,876,-1573,-1284,1342,-2007,1537,850,847,-2216,-1117,859,-72,-1688,-920,-554,1281,-985,1760,-743,-2040,-1568,-1790,653,-1725,-1720,1550,643,4725,-1182,2341,2181,-3270,575,1146,2837,2960,-1841,-704,-375,-2381,-129,-775,746,911,1466,-2275,-43,200,1528,-452,-1686,-2665,-380,3262,-3143,-578,4209,-2876,2507,3842,2558,4078,-2344,-5668,1440,-2497,-2734,-1994,-2855,1125,-1729,-341,-1014,-2209,-897,115,4095,-2472,5162,4695,-1981,3150,-2976,-2664,381,-432,16383,15949,-3171,-826,-1861,312,-295,-2235,-1285,-2174,-1835,977,1302,-1827,-1731,-1607,-2692,-2095,-1204,-598,-604,-1614,-477,-281,-6404,-5999,310,-29,3067,410,1257,1544,1677,1711,1513,229,-382,1609,-638,1590,38,-564,871,-668,1157,1507,-446,-520,-2537,-1991,740,655,-1202,-376],\"score\":{\"__ndarray__\":\"wXsqBZ0ywr+h30T8qIXTPy3+xdGRbLc/Qy/71X1Lvb/w3KS70YSpvwZYxigsas0/H8eTFymn2D/p2TyNrWjwvwJVXrD35eg/q6FE3vLQ8L99K6a3BjDcv3UMLTlME9Y/HERoszjG0D/6Fj+Cj57TPyOaTsw+Key/nvKk3Oh6578FqiduqG/kPy+B8TWCTb8/zbJcvwX40D8A42b9ShrVP/GqUqAuXM8/foJuB+Fbxb+GZqn47/vTPy8Q3CWJeuI/vQFFTVoh3D8eZtAVwPDIP+PAwOY++tC/kuH3lj3v4D9Ux2m61w3VPxOLoBi9P+O/afdi4Wp437+P+2PZXzHgP5XF5vyWhui/nQAX21KQ4j+UX49T/WvUPxK2E29QWdQ/f6sPaR0R67+5cNSH0mjbvxtcAgEEpNQ/G1q34yT5n7+rZo3erqXkv/JKcUF5nta/mwUFvShwy78YK6A3BOfeP1BOk0IbM9i/Yce1sWxG5T/kOfGYoFDSv+PpjuVN7ei/eyjkBC0w479UqMMKKuPlv5hzWBpIQ88/paYyCtkY5b8NRHb2SAnlv42azXTJuOI/3l51fMfGzj/1E4s0lan8Pxh09oh0/dy/3brRc9JW7D/zZ0X8z2TqP6fTSm7g8PO/HAU6sSl4yz8sX+MNoJ7bPyeRNXNTL/E/oBopmb/u8T8oyd6g54Hmv0Weqf7YXdG/KKwK5pC7wr8BYVj0rxLtv3lSSBs6E6u/qfTCyNQX07+WwCW4k+TRP5ort86459U/a1UK9lSz4T+sAyWFwcjrv/1FVi6wsJS/ivfsIKV2sj9Zgl2ET3TiP/j+Kww8esa/1dgOPXWf5L/khkXEU0Pwv4U2/DTR+cK/R+/7ub7E8z9ZvNimOivzv8GdvwT3msy/DpvF04qG+T/DQBnLs4vxv0q32c+BW+4/kEWqMmNL9z8f2PRlP/ruP+r11Gqruvg/ByGzyIWf7L9O/RMPa0IBwIshncJnYuE/hYMEi7577r+SlQzmta7wv6YrMGMgXui/H9hAOwVr8b+bvIHO5RvbP1HCL01MJeW/R/9sAEIUwb+RX+mNoufYvxK71LNT++q/tYwSv0sP1r9ILrFJNWSkP7jQLlkg1fg/kJZWKO4t7r+XG81frVH/Py/sVfnkevw/tpF5yak16L/bayQQcRbzP60adZBUJ/K/buPlW8VB8L+QDGvt0AjCP4PVZdA6gcW/lDb1kSziGEBDb2xVUTkYQDSdThHOVvO/UTb59E9V1L+GU9DvJ8Dmv0QuZb5/W70/pQzk7Revvb/x7kHnQEzrvz+F4YKkft+/7giuKWOO6r+mH2O8Om/mv8+8V3GUgtc/qc0Bd75p3z9N6Gg2VFbmvydQru6FK+W/S/YH0pCp479JxFvGWG3wv2Qmp75+mOm/f6TWaWiG3b83x4VA+JPNv0BtdNKr3s2/uOZCh1q/47/LsuOWfbHHv84FNZp8Ury/QvaOGCF/A8DJKeiI+0MCwJO/cLKyKb0/P1U0v4V8jr/AbCI5RZXyPxQvF4TfccM/Bd/CE51R3j8K8VGQHKbiPyrJsQMVROQ/YjQZveit5D+TWihJn0XiP5E8RU7CSLU/3W32urcSw7+68uKQbXDjPyEaErj6hc+/R6+wEko14z8cjK/EIqaFP1Ya6Fqp7Mu/JQLxkrfu1D8prN1Ivn3Qv193U/4Z49s/EbGsZPIy4j/uWD16iC/Gv7pYZ9fZyMm/P5jnKD/47r/kVvLwyVTov5JtLu85v9E/8apSoC5czz/SiNkm9Xndv9THBykEyMK/\",\"dtype\":\"float64\",\"order\":\"little\",\"shape\":[168]},\"seasonal\":[-10756,-7953,-8697,-9756,-10696,-9384,-9691,8607,7371,9446,10451,9953,9422,10593,8591,5536,7107,5316,6769,6628,-11261,-8280,-9428,-8756,-10385,-8835,-8347,-9634,-10254,-9288,-9505,7958,6710,9506,9796,8706,8644,9210,8648,6634,6245,5590,9335,7690,-10386,-8661,-9482,-8650,-9974,-9493,-8009,-9429,-9788,-9206,-9218,7140,6131,9240,9113,7648,7648,7913,8416,7361,5392,5710,11862,9021,-9516,-8842,-9364,-8452,-9641,-10039,-7602,-9339,-9454,-8958,-8714,6084,5661,8490,8223,6463,6546,6699,7796,7686,4528,5618,14048,10140,-8612,-9048,-8988,-7986,-7865,-8418,-6074,-7950,-8193,-7776,-6853,4315,4832,6151,5880,5424,4709,5565,6062,6248,3727,4303,10633,8532,-6302,-6906,-6524,-6391,-5789,-6245,-4208,-6142,-6629,-6534,-4936,2855,4081,3858,3764,4527,2756,4475,4259,4727,2775,2730,7286,7253,-4041,-4576,-4198,-4811,-3607,-3979,-2234,-4275,-5042,-5159,-2886,1527,3124,1555,1525,3449,709,3359,2509,3168,1695,982,3111,5395,-1643,-2008,-1625,-3149],\"trend\":[21943,21961,21977,21994,22010,22026,22042,22056,22070,22084,22096,22107,22117,22127,22135,22142,22148,22154,22158,22163,22168,22174,22182,22193,22181,22169,22155,22137,22116,22089,22058,22021,21980,21938,21897,21859,21826,21799,21781,21771,21770,21777,21795,21821,21855,21896,21941,21986,22030,22073,22114,22153,22191,22227,22264,22300,22337,22372,22404,22432,22455,22473,22485,22492,22495,22493,22487,22477,22466,22453,22437,22417,22394,22367,22335,22299,22259,22217,22172,22124,22074,22024,21975,21930,21892,21863,21843,21834,21836,21849,21870,21896,21925,21961,22008,22066,22134,22208,22283,22355,22418,22471,22509,22533,22541,22534,22512,22475,22421,22348,22252,22129,21979,21801,21598,21373,21128,20860,20570,20257,19925,19577,19217,18852,18486,18127,17778,17444,17127,16828,16549,16292,16060,15855,15682,15542,15434,15351,15285,15231,15186,15150,15121,15100,15085,15074,15058,15041,15025,15011,14997,14984,14971,14957,14943,14929,14913,14896,14877,14858,14836,14813,14788,14761,14733,14702,14670,14636],\"weights\":[1,1,1,1,1,1,1,1,1,1,1,1,1,1,1,1,1,1,1,1,1,1,1,1,1,1,1,1,1,1,1,1,1,1,1,1,1,1,1,1,1,1,1,1,1,1,1,1,1,1,1,1,1,1,1,1,1,1,1,1,1,1,1,1,1,1,1,1,1,1,1,1,1,1,1,1,1,1,1,1,1,1,1,1,1,1,1,1,1,1,1,1,1,1,1,1,1,1,1,1,1,1,1,1,1,1,1,1,1,1,1,1,1,1,1,1,1,1,1,1,1,1,1,1,1,1,1,1,1,1,1,1,1,1,1,1,1,1,1,1,1,1,1,1,1,1,1,1,1,1,1,1,1,1,1,1,1,1,1,1,1,1,1,1,1,1,1,1]},\"selected\":{\"id\":\"3115\"},\"selection_policy\":{\"id\":\"3116\"}},\"id\":\"3056\",\"type\":\"ColumnDataSource\"},{\"attributes\":{\"data_source\":{\"id\":\"3189\"},\"glyph\":{\"id\":\"3191\"},\"hover_glyph\":null,\"muted_glyph\":null,\"nonselection_glyph\":{\"id\":\"3192\"},\"selection_glyph\":null,\"view\":{\"id\":\"3194\"}},\"id\":\"3193\",\"type\":\"GlyphRenderer\"},{\"attributes\":{\"months\":[0,4,8]},\"id\":\"3233\",\"type\":\"MonthsTicker\"},{\"attributes\":{\"axis\":{\"id\":\"3073\"},\"dimension\":1,\"grid_line_color\":null,\"ticker\":null},\"id\":\"3076\",\"type\":\"Grid\"},{\"attributes\":{\"days\":[\"%m-%d %H:%M\"],\"hours\":[\"%H:%M:%S\"],\"milliseconds\":[\"%H:%M:%S.%3N\"],\"minutes\":[\"%H:%M:%S\"],\"seconds\":[\"%H:%M:%S\"]},\"id\":\"3090\",\"type\":\"DatetimeTickFormatter\"},{\"attributes\":{\"base\":60,\"mantissas\":[1,2,5,10,15,20,30],\"max_interval\":1800000.0,\"min_interval\":1000.0,\"num_minor_ticks\":0},\"id\":\"3104\",\"type\":\"AdaptiveTicker\"},{\"attributes\":{\"fill_alpha\":{\"value\":0.1},\"fill_color\":{\"value\":\"firebrick\"},\"line_alpha\":{\"value\":0.1},\"line_color\":{\"value\":\"firebrick\"},\"size\":{\"units\":\"screen\",\"value\":12},\"x\":{\"field\":\"TimeGenerated\"},\"y\":{\"field\":\"TotalBytesSent\"}},\"id\":\"3146\",\"type\":\"CircleX\"},{\"attributes\":{},\"id\":\"3179\",\"type\":\"LinearScale\"},{\"attributes\":{},\"id\":\"3175\",\"type\":\"DataRange1d\"},{\"attributes\":{},\"id\":\"3079\",\"type\":\"ResetTool\"},{\"attributes\":{\"base\":60,\"mantissas\":[1,2,5,10,15,20,30],\"max_interval\":1800000.0,\"min_interval\":1000.0,\"num_minor_ticks\":0},\"id\":\"3225\",\"type\":\"AdaptiveTicker\"},{\"attributes\":{\"days\":[1,2,3,4,5,6,7,8,9,10,11,12,13,14,15,16,17,18,19,20,21,22,23,24,25,26,27,28,29,30,31]},\"id\":\"3106\",\"type\":\"DaysTicker\"},{\"attributes\":{\"text\":\"Range Selector\"},\"id\":\"3171\",\"type\":\"Title\"},{\"attributes\":{\"days\":[1,15]},\"id\":\"3109\",\"type\":\"DaysTicker\"},{\"attributes\":{\"fill_alpha\":0.2,\"fill_color\":\"navy\",\"level\":\"overlay\",\"line_alpha\":1.0,\"line_color\":\"black\",\"line_dash\":[2,2],\"line_width\":0.5},\"id\":\"3196\",\"type\":\"BoxAnnotation\"},{\"attributes\":{\"overlay\":{\"id\":\"3082\"}},\"id\":\"3078\",\"type\":\"BoxZoomTool\"},{\"attributes\":{},\"id\":\"3080\",\"type\":\"SaveTool\"},{\"attributes\":{\"bottom_units\":\"screen\",\"fill_alpha\":0.5,\"fill_color\":\"lightgrey\",\"left_units\":\"screen\",\"level\":\"overlay\",\"line_alpha\":1.0,\"line_color\":\"black\",\"line_dash\":[4,4],\"line_width\":2,\"right_units\":\"screen\",\"top_units\":\"screen\"},\"id\":\"3082\",\"type\":\"BoxAnnotation\"},{\"attributes\":{\"days\":[1,8,15,22]},\"id\":\"3108\",\"type\":\"DaysTicker\"},{\"attributes\":{\"active_drag\":\"auto\",\"active_inspect\":\"auto\",\"active_multi\":null,\"active_scroll\":\"auto\",\"active_tap\":\"auto\",\"tools\":[{\"id\":\"3057\"},{\"id\":\"3077\"},{\"id\":\"3078\"},{\"id\":\"3079\"},{\"id\":\"3080\"},{\"id\":\"3081\"}]},\"id\":\"3083\",\"type\":\"Toolbar\"},{\"attributes\":{\"days\":[1,4,7,10,13,16,19,22,25,28]},\"id\":\"3107\",\"type\":\"DaysTicker\"},{\"attributes\":{\"formatter\":{\"id\":\"3187\"},\"ticker\":{\"id\":\"3182\"}},\"id\":\"3181\",\"type\":\"DatetimeAxis\"},{\"attributes\":{\"below\":[{\"id\":\"3181\"},{\"id\":\"3186\"}],\"center\":[{\"id\":\"3184\"}],\"plot_height\":120,\"plot_width\":1200,\"renderers\":[{\"id\":\"3193\"}],\"title\":{\"id\":\"3171\"},\"toolbar\":{\"id\":\"3185\"},\"toolbar_location\":null,\"x_range\":{\"id\":\"3173\"},\"x_scale\":{\"id\":\"3177\"},\"y_range\":{\"id\":\"3175\"},\"y_scale\":{\"id\":\"3179\"}},\"id\":\"3170\",\"subtype\":\"Figure\",\"type\":\"Plot\"},{\"attributes\":{\"base\":24,\"mantissas\":[1,2,4,6,8,12],\"max_interval\":43200000.0,\"min_interval\":3600000.0,\"num_minor_ticks\":0},\"id\":\"3105\",\"type\":\"AdaptiveTicker\"},{\"attributes\":{\"active_drag\":\"auto\",\"active_inspect\":\"auto\",\"active_multi\":{\"id\":\"3195\"},\"active_scroll\":\"auto\",\"active_tap\":\"auto\",\"tools\":[{\"id\":\"3195\"}]},\"id\":\"3185\",\"type\":\"Toolbar\"},{\"attributes\":{\"source\":{\"id\":\"3143\"}},\"id\":\"3148\",\"type\":\"CDSView\"},{\"attributes\":{\"fill_color\":{\"value\":\"#1f77b4\"},\"line_color\":{\"value\":\"navy\"},\"x\":{\"field\":\"TimeGenerated\"},\"y\":{\"field\":\"TotalBytesSent\"}},\"id\":\"3095\",\"type\":\"Circle\"},{\"attributes\":{\"label\":{\"value\":\"anomalies\"},\"renderers\":[{\"id\":\"3147\"}]},\"id\":\"3169\",\"type\":\"LegendItem\"},{\"attributes\":{\"align\":\"right\",\"text\":\"Drag the middle or edges of the selection box to change the range in the main chart\",\"text_font_size\":{\"value\":\"10px\"}},\"id\":\"3186\",\"type\":\"Title\"},{\"attributes\":{\"fill_alpha\":{\"value\":0.1},\"fill_color\":{\"value\":\"#1f77b4\"},\"line_alpha\":{\"value\":0.1},\"line_color\":{\"value\":\"navy\"},\"x\":{\"field\":\"TimeGenerated\"},\"y\":{\"field\":\"TotalBytesSent\"}},\"id\":\"3096\",\"type\":\"Circle\"},{\"attributes\":{\"num_minor_ticks\":5,\"tickers\":[{\"id\":\"3224\"},{\"id\":\"3225\"},{\"id\":\"3226\"},{\"id\":\"3227\"},{\"id\":\"3228\"},{\"id\":\"3229\"},{\"id\":\"3230\"},{\"id\":\"3231\"},{\"id\":\"3232\"},{\"id\":\"3233\"},{\"id\":\"3234\"},{\"id\":\"3235\"}]},\"id\":\"3182\",\"type\":\"DatetimeTicker\"},{\"attributes\":{\"data_source\":{\"id\":\"3056\"},\"glyph\":{\"id\":\"3095\"},\"hover_glyph\":null,\"muted_glyph\":null,\"nonselection_glyph\":{\"id\":\"3096\"},\"selection_glyph\":null,\"view\":{\"id\":\"3098\"}},\"id\":\"3097\",\"type\":\"GlyphRenderer\"},{\"attributes\":{\"end\":1594684980000.0,\"start\":1593903420000.0},\"id\":\"3173\",\"type\":\"Range1d\"},{\"attributes\":{\"axis\":{\"id\":\"3181\"},\"ticker\":null},\"id\":\"3184\",\"type\":\"Grid\"},{\"attributes\":{\"dimensions\":\"width\"},\"id\":\"3077\",\"type\":\"WheelZoomTool\"},{\"attributes\":{\"source\":{\"id\":\"3056\"}},\"id\":\"3098\",\"type\":\"CDSView\"},{\"attributes\":{\"fill_color\":{\"value\":\"blue\"},\"line_color\":{\"value\":\"blue\"},\"x\":{\"field\":\"TimeGenerated\"},\"y\":{\"field\":\"score\"}},\"id\":\"3191\",\"type\":\"Circle\"},{\"attributes\":{\"data_source\":{\"id\":\"3143\"},\"glyph\":{\"id\":\"3145\"},\"hover_glyph\":null,\"muted_glyph\":null,\"nonselection_glyph\":{\"id\":\"3146\"},\"selection_glyph\":null,\"view\":{\"id\":\"3148\"}},\"id\":\"3147\",\"type\":\"GlyphRenderer\"},{\"attributes\":{\"fill_alpha\":{\"value\":0.2},\"fill_color\":{\"value\":\"firebrick\"},\"line_color\":{\"value\":\"firebrick\"},\"size\":{\"units\":\"screen\",\"value\":12},\"x\":{\"field\":\"TimeGenerated\"},\"y\":{\"field\":\"TotalBytesSent\"}},\"id\":\"3145\",\"type\":\"CircleX\"},{\"attributes\":{\"days\":[1,2,3,4,5,6,7,8,9,10,11,12,13,14,15,16,17,18,19,20,21,22,23,24,25,26,27,28,29,30,31]},\"id\":\"3227\",\"type\":\"DaysTicker\"},{\"attributes\":{\"base\":24,\"mantissas\":[1,2,4,6,8,12],\"max_interval\":43200000.0,\"min_interval\":3600000.0,\"num_minor_ticks\":0},\"id\":\"3226\",\"type\":\"AdaptiveTicker\"},{\"attributes\":{\"dimensions\":\"width\"},\"id\":\"3081\",\"type\":\"PanTool\"},{\"attributes\":{},\"id\":\"3177\",\"type\":\"LinearScale\"},{\"attributes\":{\"data\":{\"TimeGenerated\":{\"__ndarray__\":\"AAAQJZ4zd0IAAPiToTN3Qg==\",\"dtype\":\"float64\",\"order\":\"little\",\"shape\":[2]},\"TotalBytesSent\":[48616,45856],\"baseline\":[32232,29906],\"index\":[114,115],\"level_0\":[0,1],\"residual\":[16383,15949],\"score\":{\"__ndarray__\":\"lDb1kSziGEBDb2xVUTkYQA==\",\"dtype\":\"float64\",\"order\":\"little\",\"shape\":[2]},\"seasonal\":[10633,8532],\"trend\":[21598,21373],\"weights\":[1,1]},\"selected\":{\"id\":\"3167\"},\"selection_policy\":{\"id\":\"3168\"}},\"id\":\"3143\",\"type\":\"ColumnDataSource\"},{\"attributes\":{},\"id\":\"3168\",\"type\":\"UnionRenderers\"}],\"root_ids\":[\"3200\"]},\"title\":\"Bokeh Application\",\"version\":\"2.2.2\"}};\n",
       "  var render_items = [{\"docid\":\"4fe73036-cf2e-44d3-9ba3-b092ed5f1fb6\",\"root_ids\":[\"3200\"],\"roots\":{\"3200\":\"74575340-f470-4b5a-9f57-466f855efd0a\"}}];\n",
       "  root.Bokeh.embed.embed_items_notebook(docs_json, render_items);\n",
       "\n",
       "  }\n",
       "  if (root.Bokeh !== undefined) {\n",
       "    embed_document(root);\n",
       "  } else {\n",
       "    var attempts = 0;\n",
       "    var timer = setInterval(function(root) {\n",
       "      if (root.Bokeh !== undefined) {\n",
       "        clearInterval(timer);\n",
       "        embed_document(root);\n",
       "      } else {\n",
       "        attempts++;\n",
       "        if (attempts > 100) {\n",
       "          clearInterval(timer);\n",
       "          console.log(\"Bokeh: ERROR: Unable to run BokehJS code because BokehJS library is missing\");\n",
       "        }\n",
       "      }\n",
       "    }, 10, root)\n",
       "  }\n",
       "})(window);"
      ],
      "application/vnd.bokehjs_exec.v0+json": ""
     },
     "metadata": {
      "application/vnd.bokehjs_exec.v0+json": {
       "id": "3200"
      }
     },
     "output_type": "display_data"
    },
    {
     "data": {
      "text/html": [
       "<p style='font-weight: bold'>We can see two clearly anomalous data points representing unusual outbound traffic.<hr></p>"
      ],
      "text/plain": [
       "<IPython.core.display.HTML object>"
      ]
     },
     "metadata": {},
     "output_type": "display_data"
    }
   ],
   "source": [
    "# Conduct our timeseries analysis\n",
    "ts_analysis = timeseries_anomalies_stl(ob_bytes_per_hour)\n",
    "# Visualize the timeseries and any anomalies\n",
    "display_timeseries_anomolies(data=ts_analysis, y= 'TotalBytesSent');\n",
    "\n",
    "md(\"We can see two clearly anomalous data points representing unusual outbound traffic.<hr>\", \"bold\")"
   ]
  },
  {
   "cell_type": "markdown",
   "metadata": {},
   "source": [
    "### View the summary events marked as anomalous"
   ]
  },
  {
   "cell_type": "code",
   "execution_count": 28,
   "metadata": {},
   "outputs": [
    {
     "data": {
      "text/html": [
       "<div>\n",
       "<style scoped>\n",
       "    .dataframe tbody tr th:only-of-type {\n",
       "        vertical-align: middle;\n",
       "    }\n",
       "\n",
       "    .dataframe tbody tr th {\n",
       "        vertical-align: top;\n",
       "    }\n",
       "\n",
       "    .dataframe thead th {\n",
       "        text-align: right;\n",
       "    }\n",
       "</style>\n",
       "<table border=\"1\" class=\"dataframe\">\n",
       "  <thead>\n",
       "    <tr style=\"text-align: right;\">\n",
       "      <th></th>\n",
       "      <th>TimeGenerated</th>\n",
       "      <th>TotalBytesSent</th>\n",
       "      <th>residual</th>\n",
       "      <th>trend</th>\n",
       "      <th>seasonal</th>\n",
       "      <th>weights</th>\n",
       "      <th>baseline</th>\n",
       "      <th>score</th>\n",
       "      <th>anomalies</th>\n",
       "    </tr>\n",
       "  </thead>\n",
       "  <tbody>\n",
       "    <tr>\n",
       "      <th>114</th>\n",
       "      <td>2020-07-10 18:00:00+00:00</td>\n",
       "      <td>48616</td>\n",
       "      <td>16383</td>\n",
       "      <td>21598</td>\n",
       "      <td>10633</td>\n",
       "      <td>1</td>\n",
       "      <td>32232</td>\n",
       "      <td>6.220873</td>\n",
       "      <td>1</td>\n",
       "    </tr>\n",
       "    <tr>\n",
       "      <th>115</th>\n",
       "      <td>2020-07-10 19:00:00+00:00</td>\n",
       "      <td>45856</td>\n",
       "      <td>15949</td>\n",
       "      <td>21373</td>\n",
       "      <td>8532</td>\n",
       "      <td>1</td>\n",
       "      <td>29906</td>\n",
       "      <td>6.055974</td>\n",
       "      <td>1</td>\n",
       "    </tr>\n",
       "  </tbody>\n",
       "</table>\n",
       "</div>"
      ],
      "text/plain": [
       "                TimeGenerated  TotalBytesSent  residual  trend  seasonal  \\\n",
       "114 2020-07-10 18:00:00+00:00           48616     16383  21598     10633   \n",
       "115 2020-07-10 19:00:00+00:00           45856     15949  21373      8532   \n",
       "\n",
       "     weights  baseline     score  anomalies  \n",
       "114        1     32232  6.220873          1  \n",
       "115        1     29906  6.055974          1  "
      ]
     },
     "execution_count": 28,
     "metadata": {},
     "output_type": "execute_result"
    }
   ],
   "source": [
    "max_score, min_score = ts_analysis.score.max(), ts_analysis.min()\n",
    "ts_analysis[ts_analysis[\"anomalies\"] == 1]"
   ]
  },
  {
   "cell_type": "markdown",
   "metadata": {},
   "source": [
    "### Extract the anomaly period\n",
    "We can extract the **start** and **end** times of anomalous events and \n",
    "use this more-focused time range to query for unusual activity in this period.\n",
    "\n",
    "> **Note**: if more than one anomalous period is indicated we can use<br>\n",
    "> `msticpy.analysis.timeseries.extract_anomaly_periods()` function to isolate\n",
    "> time blocks around the anomalous periods."
   ]
  },
  {
   "cell_type": "code",
   "execution_count": 93,
   "metadata": {},
   "outputs": [
    {
     "data": {
      "text/html": [
       "<p style='font-size: 130%'>Anomalous network traffic detected between:</p>"
      ],
      "text/plain": [
       "<IPython.core.display.HTML object>"
      ]
     },
     "metadata": {},
     "output_type": "display_data"
    },
    {
     "data": {
      "text/html": [
       "<p style=''>Start time: <b>2020-07-10 17:00:00+00:00</b><br>End time: <b>2020-07-10 20:00:00+00:00</b><hr></p>"
      ],
      "text/plain": [
       "<IPython.core.display.HTML object>"
      ]
     },
     "metadata": {},
     "output_type": "display_data"
    }
   ],
   "source": [
    "# Identify when the anomalies occur so that we can use this timerange\n",
    "# to scope the next stage of our investigation.\n",
    "# Add a 1 hour buffer around the anomalies\n",
    "start = ts_analysis[ts_analysis['anomalies']==1]['TimeGenerated'].min() -  pd.to_timedelta(1, unit='h')\n",
    "end = ts_analysis[ts_analysis['anomalies']==1]['TimeGenerated'].max() +  pd.to_timedelta(1, unit='h')\n",
    "\n",
    "# md and md_warn are MSTICpy features to provide simple, and clean output in notebook cells\n",
    "md(\"Anomalous network traffic detected between:\", \"large\")\n",
    "md(f\"Start time: <b>{start}</b><br>End time: <b>{end}</b><hr>\",)"
   ]
  },
  {
   "cell_type": "markdown",
   "metadata": {},
   "source": [
    "## Time Series Conclusion\n",
    "\n",
    "We would take these start and end times to zero in on which machines\n",
    "were responsible for the anomalous traffic. Once we find them we can\n",
    "use other techniques to analyze what's going on on these hosts."
   ]
  },
  {
   "cell_type": "markdown",
   "metadata": {},
   "source": [
    "## Other Applications\n",
    "\n",
    "You can use the msticpy query function `MultiDataSource.get_timeseries_anomalies` on most Azure Sentinel tables to do this summarization directly.\n",
    "\n",
    "Three examples are shown below.\n",
    "\n",
    "```python\n",
    "start = pd.Timestamp(\"2020-09-01T00:00:00\")\n",
    "end = pd.Timestamp(\"2020-09-301T00:00:00\")\n",
    "\n",
    "# Sent bytes by hour (default) from Palo Alto devices\n",
    "time_series_net_bytes = qry_prov.MultiDataSource.get_timeseries_decompose(\n",
    "    start=start,\n",
    "    end=end,\n",
    "    table=\"CommonSecurityLog\",\n",
    "    timestampcolumn=\"TimeGenerated\",\n",
    "    aggregatecolumn=\"SentBytes\",\n",
    "    groupbycolumn=\"DeviceVendor\",\n",
    "    aggregatefunction=\"sum(SentBytes)\",\n",
    "    where_clause='|where DeviceVendor==\"Palo Alto Networks\"',\n",
    ")\n",
    "\n",
    "# Sign-in failure count in AAD\n",
    "time_series_signin_fail = qry_prov.MultiDataSource.get_timeseries_anomalies(\n",
    "    table=\"SigninLogs\",\n",
    "    start=start,\n",
    "    end=end,\n",
    "    timestampcolumn=\"TimeGenerated\",\n",
    "    aggregatecolumn=\"AppDisplayName\",\n",
    "    groupbycolumn=\"ResultType\",\n",
    "    aggregatefunction=\"count(AppDisplayName)\",\n",
    "    where_clause='| where ResultType in (50126, 50053, 50074, 50076)',\n",
    "    add_query_items='| project-rename Total=AppDisplayName',\n",
    ")\n",
    "\n",
    "# Number of distinct processes by hour\n",
    "time_series_procs = qry_prov.MultiDataSource.get_timeseries_anomalies(\n",
    "    table=\"SecurityEvent\",\n",
    "    start=start,\n",
    "    end=end,\n",
    "    timestampcolumn=\"TimeGenerated\",\n",
    "    aggregatecolumn=\"DistinctProcesses\",\n",
    "    groupbycolumn=\"Account\",\n",
    "    aggregatefunction=\"dcount(NewProcessName)\",\n",
    "    where_clause=\"| where Computer='myhost.domain.con'\",\n",
    ")\n",
    "\n",
    "# Then submit to ts anomalies decomposition\n",
    "ts_analysis = timeseries_anomalies_stl(time_series_procs)\n",
    "# Visualize the timeseries and any anomalies\n",
    "display_timeseries_anomolies(data=ts_analysis, y='Total');\n",
    "```"
   ]
  },
  {
   "cell_type": "markdown",
   "metadata": {},
   "source": [
    "<hr>\n",
    "\n",
    "# Using Clustering \n",
    "## - Example: aggregating similar process patterns to highlight unusual logon sessions\n",
    "\n",
    "Sifting through thousands of events from a host is tedious in the extreme.\n",
    "We want to find a better way of identifying suspicious clusters of activity.\n",
    "\n",
    "Query the data and do some initial analysis of the results"
   ]
  },
  {
   "cell_type": "code",
   "execution_count": 30,
   "metadata": {},
   "outputs": [
    {
     "name": "stdout",
     "output_type": "stream",
     "text": [
      "Getting process events..."
     ]
    },
    {
     "data": {
      "text/html": [
       "<p style='font-size: 130%;font-weight: bold'>Initial analysis of data set</p>"
      ],
      "text/plain": [
       "<IPython.core.display.HTML object>"
      ]
     },
     "metadata": {},
     "output_type": "display_data"
    },
    {
     "data": {
      "text/html": [
       "<p style=''>Total processes in data set <b>22979</b></p>"
      ],
      "text/plain": [
       "<IPython.core.display.HTML object>"
      ]
     },
     "metadata": {},
     "output_type": "display_data"
    },
    {
     "data": {
      "text/html": [
       "<p style=''>Total distinct Account in data <b>5</b></p>"
      ],
      "text/plain": [
       "<IPython.core.display.HTML object>"
      ]
     },
     "metadata": {},
     "output_type": "display_data"
    },
    {
     "data": {
      "text/html": [
       "<p style=''>Total distinct NewProcessName in data <b>192</b></p>"
      ],
      "text/plain": [
       "<IPython.core.display.HTML object>"
      ]
     },
     "metadata": {},
     "output_type": "display_data"
    },
    {
     "data": {
      "text/html": [
       "<p style=''>Total distinct CommandLine in data <b>4552</b></p>"
      ],
      "text/plain": [
       "<IPython.core.display.HTML object>"
      ]
     },
     "metadata": {},
     "output_type": "display_data"
    },
    {
     "data": {
      "text/html": [
       "<p style=''><hr></p>"
      ],
      "text/plain": [
       "<IPython.core.display.HTML object>"
      ]
     },
     "metadata": {},
     "output_type": "display_data"
    },
    {
     "data": {
      "text/html": [
       "<p style='font-size: 130%'>Try grouping by distinct Account, Process, Commandline<br> - we still have 1000s of rows!</p>"
      ],
      "text/plain": [
       "<IPython.core.display.HTML object>"
      ]
     },
     "metadata": {},
     "output_type": "display_data"
    },
    {
     "data": {
      "text/html": [
       "<div>\n",
       "<style scoped>\n",
       "    .dataframe tbody tr th:only-of-type {\n",
       "        vertical-align: middle;\n",
       "    }\n",
       "\n",
       "    .dataframe tbody tr th {\n",
       "        vertical-align: top;\n",
       "    }\n",
       "\n",
       "    .dataframe thead th {\n",
       "        text-align: right;\n",
       "    }\n",
       "</style>\n",
       "<table border=\"1\" class=\"dataframe\">\n",
       "  <thead>\n",
       "    <tr style=\"text-align: right;\">\n",
       "      <th></th>\n",
       "      <th></th>\n",
       "      <th></th>\n",
       "      <th>TimeGenerated</th>\n",
       "    </tr>\n",
       "    <tr>\n",
       "      <th>Account</th>\n",
       "      <th>NewProcessName</th>\n",
       "      <th>CommandLine</th>\n",
       "      <th></th>\n",
       "    </tr>\n",
       "  </thead>\n",
       "  <tbody>\n",
       "    <tr>\n",
       "      <th rowspan=\"5\" valign=\"top\">-\\-</th>\n",
       "      <th>C:\\Windows\\System32\\autochk.exe</th>\n",
       "      <th></th>\n",
       "      <td>2</td>\n",
       "    </tr>\n",
       "    <tr>\n",
       "      <th>C:\\Windows\\System32\\csrss.exe</th>\n",
       "      <th></th>\n",
       "      <td>4</td>\n",
       "    </tr>\n",
       "    <tr>\n",
       "      <th>C:\\Windows\\System32\\lsass.exe</th>\n",
       "      <th></th>\n",
       "      <td>2</td>\n",
       "    </tr>\n",
       "    <tr>\n",
       "      <th>C:\\Windows\\System32\\services.exe</th>\n",
       "      <th></th>\n",
       "      <td>2</td>\n",
       "    </tr>\n",
       "    <tr>\n",
       "      <th>C:\\Windows\\System32\\smss.exe</th>\n",
       "      <th></th>\n",
       "      <td>6</td>\n",
       "    </tr>\n",
       "    <tr>\n",
       "      <th>...</th>\n",
       "      <th>...</th>\n",
       "      <th>...</th>\n",
       "      <td>...</td>\n",
       "    </tr>\n",
       "    <tr>\n",
       "      <th rowspan=\"5\" valign=\"top\">WORKGROUP\\MSTICAlertsWin1$</th>\n",
       "      <th>C:\\Windows\\Temp\\CR_42BC8.tmp\\setup.exe</th>\n",
       "      <th>C:\\Windows\\TEMP\\CR_42BC8.tmp\\setup.exe --type=crashpad-handler /prefetch:7 --monitor-self-annotation=ptype=crashpad-handler --database=C:\\Windows\\TEMP\\Crashpad --url=https://clients2.google.com/cr/report --annotation=channel= --annotation=plat=Win64 --annotation=prod=Chrome --annotation=ver=72.0.3626.109 --initial-client-data=0x1e0,0x1e4,0x1e8,0x1dc,0x1ec,0x7ff728255098,0x7ff7282550a8,0x7ff7282550b8</th>\n",
       "      <td>1</td>\n",
       "    </tr>\n",
       "    <tr>\n",
       "      <th>C:\\Windows\\Temp\\D398059B-A17E-43B8-95E4-8F0453629D9F\\DismHost.exe</th>\n",
       "      <th>C:\\Windows\\TEMP\\D398059B-A17E-43B8-95E4-8F0453629D9F\\dismhost.exe {5B5DC19A-0D8F-4B1F-8B28-CAE7B134263A}</th>\n",
       "      <td>1</td>\n",
       "    </tr>\n",
       "    <tr>\n",
       "      <th>C:\\Windows\\WinSxS\\amd64_microsoft-windows-servicingstack_31bf3856ad364e35_10.0.14393.2602_none_7ee6020e2207416d\\TiWorker.exe</th>\n",
       "      <th>C:\\Windows\\winsxs\\amd64_microsoft-windows-servicingstack_31bf3856ad364e35_10.0.14393.2602_none_7ee6020e2207416d\\TiWorker.exe -Embedding</th>\n",
       "      <td>16</td>\n",
       "    </tr>\n",
       "    <tr>\n",
       "      <th>C:\\Windows\\WinSxS\\amd64_microsoft-windows-servicingstack_31bf3856ad364e35_10.0.14393.2782_none_7ee3347222082816\\TiWorker.exe</th>\n",
       "      <th>C:\\Windows\\winsxs\\amd64_microsoft-windows-servicingstack_31bf3856ad364e35_10.0.14393.2782_none_7ee3347222082816\\TiWorker.exe -Embedding</th>\n",
       "      <td>11</td>\n",
       "    </tr>\n",
       "    <tr>\n",
       "      <th>C:\\Windows\\servicing\\TrustedInstaller.exe</th>\n",
       "      <th>C:\\Windows\\servicing\\TrustedInstaller.exe</th>\n",
       "      <td>26</td>\n",
       "    </tr>\n",
       "  </tbody>\n",
       "</table>\n",
       "<p>4601 rows × 1 columns</p>\n",
       "</div>"
      ],
      "text/plain": [
       "                                                                                                                                                                                                                                      TimeGenerated\n",
       "Account                    NewProcessName                                                                                       CommandLine                                                                                                        \n",
       "-\\-                        C:\\Windows\\System32\\autochk.exe                                                                                                                                                                                        2\n",
       "                           C:\\Windows\\System32\\csrss.exe                                                                                                                                                                                          4\n",
       "                           C:\\Windows\\System32\\lsass.exe                                                                                                                                                                                          2\n",
       "                           C:\\Windows\\System32\\services.exe                                                                                                                                                                                       2\n",
       "                           C:\\Windows\\System32\\smss.exe                                                                                                                                                                                           6\n",
       "...                                                                                                                                                                                                                                             ...\n",
       "WORKGROUP\\MSTICAlertsWin1$ C:\\Windows\\Temp\\CR_42BC8.tmp\\setup.exe                                                               C:\\Windows\\TEMP\\CR_42BC8.tmp\\setup.exe --type=crashpad-handler /prefetch:7 --monitor-self-annotat...              1\n",
       "                           C:\\Windows\\Temp\\D398059B-A17E-43B8-95E4-8F0453629D9F\\DismHost.exe                                    C:\\Windows\\TEMP\\D398059B-A17E-43B8-95E4-8F0453629D9F\\dismhost.exe {5B5DC19A-0D8F-4B1F-8B28-CAE7B1...              1\n",
       "                           C:\\Windows\\WinSxS\\amd64_microsoft-windows-servicingstack_31bf3856ad364e35_10.0.14393.2602_none_7e... C:\\Windows\\winsxs\\amd64_microsoft-windows-servicingstack_31bf3856ad364e35_10.0.14393.2602_none_7e...             16\n",
       "                           C:\\Windows\\WinSxS\\amd64_microsoft-windows-servicingstack_31bf3856ad364e35_10.0.14393.2782_none_7e... C:\\Windows\\winsxs\\amd64_microsoft-windows-servicingstack_31bf3856ad364e35_10.0.14393.2782_none_7e...             11\n",
       "                           C:\\Windows\\servicing\\TrustedInstaller.exe                                                            C:\\Windows\\servicing\\TrustedInstaller.exe                                                                        26\n",
       "\n",
       "[4601 rows x 1 columns]"
      ]
     },
     "execution_count": 30,
     "metadata": {},
     "output_type": "execute_result"
    }
   ],
   "source": [
    "print(\"Getting process events...\", end=\"\")\n",
    "processes_on_host = qry_prov.WindowsSecurity.list_host_processes(\n",
    "    query_range, host_name=\"MSTICAlertsWin1\"\n",
    ")\n",
    "\n",
    "md(\"Initial analysis of data set\", \"large, bold\")\n",
    "md(f\"Total processes in data set <b>{len(processes_on_host)}</b>\")\n",
    "for column in (\"Account\", \"NewProcessName\", \"CommandLine\"):\n",
    "    md(f\"Total distinct {column} in data <b>{processes_on_host[column].nunique()}</b>\")\n",
    "md(\"<hr>\")\n",
    "md(\"Try grouping by distinct Account, Process, Commandline<br> - we still have 1000s of rows!\", \"large\")\n",
    "processes_on_host.groupby([\"Account\", \"NewProcessName\", \"CommandLine\"])[[\"TimeGenerated\"]].count()"
   ]
  },
  {
   "cell_type": "markdown",
   "metadata": {},
   "source": [
    "## Clustering motivation\n",
    "\n",
    "We want to find atypical commands being run and see if they are associated with\n",
    "the same user or time period<br>\n",
    "\n",
    "It is tedious to do repeated queries grouping on different attributes of events.<br>\n",
    "Instead we can specify features that we are interested in grouping around and use<br>\n",
    "clustering, a form of unsupervised learning, to group the data. \n",
    "\n",
    "A challenge when using simple grouping is that commands (commandlines) may vary slightly\n",
    "but are essentially repetitions of the same thing (e.g. contain dynamically-generated\n",
    "GUIDs or other temporary data).\n",
    "\n",
    "We can extract features of the commandline rather than using it in its raw form.\n",
    "\n",
    "Using clustering we can add arbitrarily many features to group on. Here we are using the following features:\n",
    "- Account name\n",
    "- Process name\n",
    "- Command line structure\n",
    "- Whether the process is a system session or not\n",
    "\n",
    "> **Note**: A downside to clustering is that text features (usually) need to be transformed from a string<br>\n",
    "> into a numeric representation."
   ]
  },
  {
   "cell_type": "code",
   "execution_count": 94,
   "metadata": {},
   "outputs": [
    {
     "name": "stdout",
     "output_type": "stream",
     "text": [
      "Input data: 22979 events\n",
      "Extracting features....done\n",
      "Clustering...done\n",
      "Number of input events: 22979\n",
      "Number of clustered events: 318\n",
      "Merging with source data and computing rarity...done\n"
     ]
    },
    {
     "data": {
      "text/html": [
       "<p style='font-size: 130%;font-weight: bold'><br><hr>Sessions ordered by process rarity</p>"
      ],
      "text/plain": [
       "<IPython.core.display.HTML object>"
      ]
     },
     "metadata": {},
     "output_type": "display_data"
    },
    {
     "data": {
      "text/html": [
       "<p style=''>Higher score indicates higher number of unusual processes</p>"
      ],
      "text/plain": [
       "<IPython.core.display.HTML object>"
      ]
     },
     "metadata": {},
     "output_type": "display_data"
    },
    {
     "data": {
      "text/html": [
       "<style  type=\"text/css\" >\n",
       "#T_3e5521da_17f0_11eb_acda_0002723f5ca7row0_col2{\n",
       "            width:  10em;\n",
       "             height:  80%;\n",
       "            background:  linear-gradient(90deg,#d65f5f 100.0%, transparent 100.0%);\n",
       "        }#T_3e5521da_17f0_11eb_acda_0002723f5ca7row1_col2{\n",
       "            width:  10em;\n",
       "             height:  80%;\n",
       "            background:  linear-gradient(90deg,#d65f5f 79.7%, transparent 79.7%);\n",
       "        }#T_3e5521da_17f0_11eb_acda_0002723f5ca7row2_col2{\n",
       "            width:  10em;\n",
       "             height:  80%;\n",
       "            background:  linear-gradient(90deg,#d65f5f 71.0%, transparent 71.0%);\n",
       "        }#T_3e5521da_17f0_11eb_acda_0002723f5ca7row3_col2{\n",
       "            width:  10em;\n",
       "             height:  80%;\n",
       "            background:  linear-gradient(90deg,#d65f5f 67.0%, transparent 67.0%);\n",
       "        }#T_3e5521da_17f0_11eb_acda_0002723f5ca7row4_col2{\n",
       "            width:  10em;\n",
       "             height:  80%;\n",
       "            background:  linear-gradient(90deg,#d65f5f 57.3%, transparent 57.3%);\n",
       "        }#T_3e5521da_17f0_11eb_acda_0002723f5ca7row5_col2,#T_3e5521da_17f0_11eb_acda_0002723f5ca7row6_col2{\n",
       "            width:  10em;\n",
       "             height:  80%;\n",
       "            background:  linear-gradient(90deg,#d65f5f 48.7%, transparent 48.7%);\n",
       "        }#T_3e5521da_17f0_11eb_acda_0002723f5ca7row7_col2,#T_3e5521da_17f0_11eb_acda_0002723f5ca7row8_col2{\n",
       "            width:  10em;\n",
       "             height:  80%;\n",
       "            background:  linear-gradient(90deg,#d65f5f 39.1%, transparent 39.1%);\n",
       "        }#T_3e5521da_17f0_11eb_acda_0002723f5ca7row9_col2{\n",
       "            width:  10em;\n",
       "             height:  80%;\n",
       "            background:  linear-gradient(90deg,#d65f5f 38.5%, transparent 38.5%);\n",
       "        }#T_3e5521da_17f0_11eb_acda_0002723f5ca7row10_col2,#T_3e5521da_17f0_11eb_acda_0002723f5ca7row11_col2{\n",
       "            width:  10em;\n",
       "             height:  80%;\n",
       "            background:  linear-gradient(90deg,#d65f5f 32.9%, transparent 32.9%);\n",
       "        }#T_3e5521da_17f0_11eb_acda_0002723f5ca7row12_col2{\n",
       "            width:  10em;\n",
       "             height:  80%;\n",
       "            background:  linear-gradient(90deg,#d65f5f 9.0%, transparent 9.0%);\n",
       "        }#T_3e5521da_17f0_11eb_acda_0002723f5ca7row13_col2{\n",
       "            width:  10em;\n",
       "             height:  80%;\n",
       "            background:  linear-gradient(90deg,#d65f5f 5.6%, transparent 5.6%);\n",
       "        }#T_3e5521da_17f0_11eb_acda_0002723f5ca7row14_col2{\n",
       "            width:  10em;\n",
       "             height:  80%;\n",
       "            background:  linear-gradient(90deg,#d65f5f 1.3%, transparent 1.3%);\n",
       "        }#T_3e5521da_17f0_11eb_acda_0002723f5ca7row15_col2{\n",
       "            width:  10em;\n",
       "             height:  80%;\n",
       "        }</style><table id=\"T_3e5521da_17f0_11eb_acda_0002723f5ca7\" ><thead>    <tr>        <th class=\"blank level0\" ></th>        <th class=\"col_heading level0 col0\" >SubjectUserName</th>        <th class=\"col_heading level0 col1\" >SubjectLogonId</th>        <th class=\"col_heading level0 col2\" >Rarity</th>        <th class=\"col_heading level0 col3\" >ProcessCount</th>    </tr></thead><tbody>\n",
       "                <tr>\n",
       "                        <th id=\"T_3e5521da_17f0_11eb_acda_0002723f5ca7level0_row0\" class=\"row_heading level0 row0\" >15</th>\n",
       "                        <td id=\"T_3e5521da_17f0_11eb_acda_0002723f5ca7row0_col0\" class=\"data row0 col0\" >ian</td>\n",
       "                        <td id=\"T_3e5521da_17f0_11eb_acda_0002723f5ca7row0_col1\" class=\"data row0 col1\" >0x5d5af2</td>\n",
       "                        <td id=\"T_3e5521da_17f0_11eb_acda_0002723f5ca7row0_col2\" class=\"data row0 col2\" >0.607143</td>\n",
       "                        <td id=\"T_3e5521da_17f0_11eb_acda_0002723f5ca7row0_col3\" class=\"data row0 col3\" >56</td>\n",
       "            </tr>\n",
       "            <tr>\n",
       "                        <th id=\"T_3e5521da_17f0_11eb_acda_0002723f5ca7level0_row1\" class=\"row_heading level0 row1\" >9</th>\n",
       "                        <td id=\"T_3e5521da_17f0_11eb_acda_0002723f5ca7row1_col0\" class=\"data row1 col0\" >MSTICAdmin</td>\n",
       "                        <td id=\"T_3e5521da_17f0_11eb_acda_0002723f5ca7row1_col1\" class=\"data row1 col1\" >0xbd57571</td>\n",
       "                        <td id=\"T_3e5521da_17f0_11eb_acda_0002723f5ca7row1_col2\" class=\"data row1 col2\" >0.484735</td>\n",
       "                        <td id=\"T_3e5521da_17f0_11eb_acda_0002723f5ca7row1_col3\" class=\"data row1 col3\" >38</td>\n",
       "            </tr>\n",
       "            <tr>\n",
       "                        <th id=\"T_3e5521da_17f0_11eb_acda_0002723f5ca7level0_row2\" class=\"row_heading level0 row2\" >2</th>\n",
       "                        <td id=\"T_3e5521da_17f0_11eb_acda_0002723f5ca7row2_col0\" class=\"data row2 col0\" >MSTICAdmin</td>\n",
       "                        <td id=\"T_3e5521da_17f0_11eb_acda_0002723f5ca7row2_col1\" class=\"data row2 col1\" >0x109c408</td>\n",
       "                        <td id=\"T_3e5521da_17f0_11eb_acda_0002723f5ca7row2_col2\" class=\"data row2 col2\" >0.432549</td>\n",
       "                        <td id=\"T_3e5521da_17f0_11eb_acda_0002723f5ca7row2_col3\" class=\"data row2 col3\" >10</td>\n",
       "            </tr>\n",
       "            <tr>\n",
       "                        <th id=\"T_3e5521da_17f0_11eb_acda_0002723f5ca7level0_row3\" class=\"row_heading level0 row3\" >5</th>\n",
       "                        <td id=\"T_3e5521da_17f0_11eb_acda_0002723f5ca7row3_col0\" class=\"data row3 col0\" >MSTICAdmin</td>\n",
       "                        <td id=\"T_3e5521da_17f0_11eb_acda_0002723f5ca7row3_col1\" class=\"data row3 col1\" >0x2e2017</td>\n",
       "                        <td id=\"T_3e5521da_17f0_11eb_acda_0002723f5ca7row3_col2\" class=\"data row3 col2\" >0.408239</td>\n",
       "                        <td id=\"T_3e5521da_17f0_11eb_acda_0002723f5ca7row3_col3\" class=\"data row3 col3\" >33</td>\n",
       "            </tr>\n",
       "            <tr>\n",
       "                        <th id=\"T_3e5521da_17f0_11eb_acda_0002723f5ca7level0_row4\" class=\"row_heading level0 row4\" >0</th>\n",
       "                        <td id=\"T_3e5521da_17f0_11eb_acda_0002723f5ca7row4_col0\" class=\"data row4 col0\" >-</td>\n",
       "                        <td id=\"T_3e5521da_17f0_11eb_acda_0002723f5ca7row4_col1\" class=\"data row4 col1\" >0x3e7</td>\n",
       "                        <td id=\"T_3e5521da_17f0_11eb_acda_0002723f5ca7row4_col2\" class=\"data row4 col2\" >0.350000</td>\n",
       "                        <td id=\"T_3e5521da_17f0_11eb_acda_0002723f5ca7row4_col3\" class=\"data row4 col3\" >20</td>\n",
       "            </tr>\n",
       "            <tr>\n",
       "                        <th id=\"T_3e5521da_17f0_11eb_acda_0002723f5ca7level0_row5\" class=\"row_heading level0 row5\" >7</th>\n",
       "                        <td id=\"T_3e5521da_17f0_11eb_acda_0002723f5ca7row5_col0\" class=\"data row5 col0\" >MSTICAdmin</td>\n",
       "                        <td id=\"T_3e5521da_17f0_11eb_acda_0002723f5ca7row5_col1\" class=\"data row5 col1\" >0x78225e</td>\n",
       "                        <td id=\"T_3e5521da_17f0_11eb_acda_0002723f5ca7row5_col2\" class=\"data row5 col2\" >0.297775</td>\n",
       "                        <td id=\"T_3e5521da_17f0_11eb_acda_0002723f5ca7row5_col3\" class=\"data row5 col3\" >21</td>\n",
       "            </tr>\n",
       "            <tr>\n",
       "                        <th id=\"T_3e5521da_17f0_11eb_acda_0002723f5ca7level0_row6\" class=\"row_heading level0 row6\" >10</th>\n",
       "                        <td id=\"T_3e5521da_17f0_11eb_acda_0002723f5ca7row6_col0\" class=\"data row6 col0\" >MSTICAdmin</td>\n",
       "                        <td id=\"T_3e5521da_17f0_11eb_acda_0002723f5ca7row6_col1\" class=\"data row6 col1\" >0xbed1e13</td>\n",
       "                        <td id=\"T_3e5521da_17f0_11eb_acda_0002723f5ca7row6_col2\" class=\"data row6 col2\" >0.297775</td>\n",
       "                        <td id=\"T_3e5521da_17f0_11eb_acda_0002723f5ca7row6_col3\" class=\"data row6 col3\" >21</td>\n",
       "            </tr>\n",
       "            <tr>\n",
       "                        <th id=\"T_3e5521da_17f0_11eb_acda_0002723f5ca7level0_row7\" class=\"row_heading level0 row7\" >3</th>\n",
       "                        <td id=\"T_3e5521da_17f0_11eb_acda_0002723f5ca7row7_col0\" class=\"data row7 col0\" >MSTICAdmin</td>\n",
       "                        <td id=\"T_3e5521da_17f0_11eb_acda_0002723f5ca7row7_col1\" class=\"data row7 col1\" >0x1e821b5</td>\n",
       "                        <td id=\"T_3e5521da_17f0_11eb_acda_0002723f5ca7row7_col2\" class=\"data row7 col2\" >0.239992</td>\n",
       "                        <td id=\"T_3e5521da_17f0_11eb_acda_0002723f5ca7row7_col3\" class=\"data row7 col3\" >8</td>\n",
       "            </tr>\n",
       "            <tr>\n",
       "                        <th id=\"T_3e5521da_17f0_11eb_acda_0002723f5ca7level0_row8\" class=\"row_heading level0 row8\" >8</th>\n",
       "                        <td id=\"T_3e5521da_17f0_11eb_acda_0002723f5ca7row8_col0\" class=\"data row8 col0\" >MSTICAdmin</td>\n",
       "                        <td id=\"T_3e5521da_17f0_11eb_acda_0002723f5ca7row8_col1\" class=\"data row8 col1\" >0xab5a5ac</td>\n",
       "                        <td id=\"T_3e5521da_17f0_11eb_acda_0002723f5ca7row8_col2\" class=\"data row8 col2\" >0.239992</td>\n",
       "                        <td id=\"T_3e5521da_17f0_11eb_acda_0002723f5ca7row8_col3\" class=\"data row8 col3\" >8</td>\n",
       "            </tr>\n",
       "            <tr>\n",
       "                        <th id=\"T_3e5521da_17f0_11eb_acda_0002723f5ca7level0_row9\" class=\"row_heading level0 row9\" >11</th>\n",
       "                        <td id=\"T_3e5521da_17f0_11eb_acda_0002723f5ca7row9_col0\" class=\"data row9 col0\" >MSTICAdmin</td>\n",
       "                        <td id=\"T_3e5521da_17f0_11eb_acda_0002723f5ca7row9_col1\" class=\"data row9 col1\" >0xc277459</td>\n",
       "                        <td id=\"T_3e5521da_17f0_11eb_acda_0002723f5ca7row9_col2\" class=\"data row9 col2\" >0.236656</td>\n",
       "                        <td id=\"T_3e5521da_17f0_11eb_acda_0002723f5ca7row9_col3\" class=\"data row9 col3\" >6</td>\n",
       "            </tr>\n",
       "            <tr>\n",
       "                        <th id=\"T_3e5521da_17f0_11eb_acda_0002723f5ca7level0_row10\" class=\"row_heading level0 row10\" >4</th>\n",
       "                        <td id=\"T_3e5521da_17f0_11eb_acda_0002723f5ca7row10_col0\" class=\"data row10 col0\" >MSTICAdmin</td>\n",
       "                        <td id=\"T_3e5521da_17f0_11eb_acda_0002723f5ca7row10_col1\" class=\"data row10 col1\" >0x1f388a3</td>\n",
       "                        <td id=\"T_3e5521da_17f0_11eb_acda_0002723f5ca7row10_col2\" class=\"data row10 col2\" >0.202848</td>\n",
       "                        <td id=\"T_3e5521da_17f0_11eb_acda_0002723f5ca7row10_col3\" class=\"data row10 col3\" >7</td>\n",
       "            </tr>\n",
       "            <tr>\n",
       "                        <th id=\"T_3e5521da_17f0_11eb_acda_0002723f5ca7level0_row11\" class=\"row_heading level0 row11\" >12</th>\n",
       "                        <td id=\"T_3e5521da_17f0_11eb_acda_0002723f5ca7row11_col0\" class=\"data row11 col0\" >MSTICAdmin</td>\n",
       "                        <td id=\"T_3e5521da_17f0_11eb_acda_0002723f5ca7row11_col1\" class=\"data row11 col1\" >0xc54c7b9</td>\n",
       "                        <td id=\"T_3e5521da_17f0_11eb_acda_0002723f5ca7row11_col2\" class=\"data row11 col2\" >0.202848</td>\n",
       "                        <td id=\"T_3e5521da_17f0_11eb_acda_0002723f5ca7row11_col3\" class=\"data row11 col3\" >7</td>\n",
       "            </tr>\n",
       "            <tr>\n",
       "                        <th id=\"T_3e5521da_17f0_11eb_acda_0002723f5ca7level0_row12\" class=\"row_heading level0 row12\" >6</th>\n",
       "                        <td id=\"T_3e5521da_17f0_11eb_acda_0002723f5ca7row12_col0\" class=\"data row12 col0\" >MSTICAdmin</td>\n",
       "                        <td id=\"T_3e5521da_17f0_11eb_acda_0002723f5ca7row12_col1\" class=\"data row12 col1\" >0x527d50d</td>\n",
       "                        <td id=\"T_3e5521da_17f0_11eb_acda_0002723f5ca7row12_col2\" class=\"data row12 col2\" >0.058824</td>\n",
       "                        <td id=\"T_3e5521da_17f0_11eb_acda_0002723f5ca7row12_col3\" class=\"data row12 col3\" >3</td>\n",
       "            </tr>\n",
       "            <tr>\n",
       "                        <th id=\"T_3e5521da_17f0_11eb_acda_0002723f5ca7level0_row13\" class=\"row_heading level0 row13\" >1</th>\n",
       "                        <td id=\"T_3e5521da_17f0_11eb_acda_0002723f5ca7row13_col0\" class=\"data row13 col0\" >LOCAL SERVICE</td>\n",
       "                        <td id=\"T_3e5521da_17f0_11eb_acda_0002723f5ca7row13_col1\" class=\"data row13 col1\" >0x3e5</td>\n",
       "                        <td id=\"T_3e5521da_17f0_11eb_acda_0002723f5ca7row13_col2\" class=\"data row13 col2\" >0.038462</td>\n",
       "                        <td id=\"T_3e5521da_17f0_11eb_acda_0002723f5ca7row13_col3\" class=\"data row13 col3\" >26</td>\n",
       "            </tr>\n",
       "            <tr>\n",
       "                        <th id=\"T_3e5521da_17f0_11eb_acda_0002723f5ca7level0_row14\" class=\"row_heading level0 row14\" >14</th>\n",
       "                        <td id=\"T_3e5521da_17f0_11eb_acda_0002723f5ca7row14_col0\" class=\"data row14 col0\" >MSTICAlertsWin1$</td>\n",
       "                        <td id=\"T_3e5521da_17f0_11eb_acda_0002723f5ca7row14_col1\" class=\"data row14 col1\" >0x3e7</td>\n",
       "                        <td id=\"T_3e5521da_17f0_11eb_acda_0002723f5ca7row14_col2\" class=\"data row14 col2\" >0.012226</td>\n",
       "                        <td id=\"T_3e5521da_17f0_11eb_acda_0002723f5ca7row14_col3\" class=\"data row14 col3\" >14508</td>\n",
       "            </tr>\n",
       "            <tr>\n",
       "                        <th id=\"T_3e5521da_17f0_11eb_acda_0002723f5ca7level0_row15\" class=\"row_heading level0 row15\" >13</th>\n",
       "                        <td id=\"T_3e5521da_17f0_11eb_acda_0002723f5ca7row15_col0\" class=\"data row15 col0\" >MSTICAlertsWin1$</td>\n",
       "                        <td id=\"T_3e5521da_17f0_11eb_acda_0002723f5ca7row15_col1\" class=\"data row15 col1\" >0x3e4</td>\n",
       "                        <td id=\"T_3e5521da_17f0_11eb_acda_0002723f5ca7row15_col2\" class=\"data row15 col2\" >0.004636</td>\n",
       "                        <td id=\"T_3e5521da_17f0_11eb_acda_0002723f5ca7row15_col3\" class=\"data row15 col3\" >8197</td>\n",
       "            </tr>\n",
       "    </tbody></table>"
      ],
      "text/plain": [
       "<pandas.io.formats.style.Styler at 0x1b52810dbc8>"
      ]
     },
     "metadata": {},
     "output_type": "display_data"
    }
   ],
   "source": [
    "from msticpy.sectools.eventcluster import dbcluster_events, add_process_features, _string_score\n",
    "from collections import Counter\n",
    "\n",
    "print(f\"Input data: {len(processes_on_host)} events\")\n",
    "print(\"Extracting features...\", end=\"\")\n",
    "feature_procs = add_process_features(input_frame=processes_on_host, path_separator=\"\\\\\")\n",
    "\n",
    "feature_procs[\"accountNum\"] = feature_procs.apply(\n",
    "    lambda x: _string_score(x.Account), axis=1\n",
    ")\n",
    "print(\".\", end=\"\")\n",
    "\n",
    "# you might need to play around with the max_cluster_distance parameter.\n",
    "# decreasing this gives more clusters.\n",
    "cluster_columns = [\"commandlineTokensFull\", \"pathScore\", \"accountNum\", \"isSystemSession\"]\n",
    "print(\"done\")\n",
    "print(\"Clustering...\", end=\"\")\n",
    "(clus_events, dbcluster, x_data) = dbcluster_events(\n",
    "    data=feature_procs,\n",
    "    cluster_columns=cluster_columns,\n",
    "    max_cluster_distance=0.0001,\n",
    ")\n",
    "print(\"done\")\n",
    "print(\"Number of input events:\", len(feature_procs))\n",
    "print(\"Number of clustered events:\", len(clus_events))\n",
    "\n",
    "print(\"Merging with source data and computing rarity...\", end=\"\")\n",
    "\n",
    "# Join the clustered results back to the original process frame\n",
    "procs_with_cluster = feature_procs.merge(\n",
    "    clus_events[[*cluster_columns, \"ClusterSize\"]],\n",
    "    on=[\"commandlineTokensFull\", \"accountNum\", \"pathScore\", \"isSystemSession\"],\n",
    ")\n",
    "\n",
    "# Compute Process pattern Rarity = inverse of cluster size\n",
    "procs_with_cluster[\"Rarity\"] = 1 / procs_with_cluster[\"ClusterSize\"]\n",
    "# count the number of processes for each logon ID\n",
    "lgn_proc_count = (\n",
    "    pd.concat(\n",
    "        [\n",
    "            processes_on_host.groupby(\"TargetLogonId\")[\"TargetLogonId\"].count(),\n",
    "            processes_on_host.groupby(\"SubjectLogonId\")[\"SubjectLogonId\"].count(),\n",
    "        ]\n",
    "    ).sum(level=0)\n",
    ").to_dict()\n",
    "print(\"done\")\n",
    "# Display the results\n",
    "md(\"<br><hr>Sessions ordered by process rarity\", \"large, bold\")\n",
    "md(\"Higher score indicates higher number of unusual processes\")\n",
    "process_rarity = (procs_with_cluster.groupby([\"SubjectUserName\", \"SubjectLogonId\"])\n",
    "    .agg({\"Rarity\": \"mean\", \"TimeGenerated\": \"count\"})\n",
    "    .rename(columns={\"TimeGenerated\": \"ProcessCount\"})\n",
    "    .reset_index())\n",
    "display(\n",
    "    process_rarity\n",
    "    .sort_values(\"Rarity\", ascending=False)\n",
    "    .style.bar(subset=[\"Rarity\"], color=\"#d65f5f\")\n",
    ")"
   ]
  },
  {
   "cell_type": "code",
   "execution_count": 58,
   "metadata": {},
   "outputs": [
    {
     "data": {
      "text/html": [
       "<p style='font-weight: bold'>20 processes executed in 1.323 sec</p>"
      ],
      "text/plain": [
       "<IPython.core.display.HTML object>"
      ]
     },
     "metadata": {},
     "output_type": "display_data"
    },
    {
     "data": {
      "text/html": [
       "<div>\n",
       "<style scoped>\n",
       "    .dataframe tbody tr th:only-of-type {\n",
       "        vertical-align: middle;\n",
       "    }\n",
       "\n",
       "    .dataframe tbody tr th {\n",
       "        vertical-align: top;\n",
       "    }\n",
       "\n",
       "    .dataframe thead th {\n",
       "        text-align: right;\n",
       "    }\n",
       "</style>\n",
       "<table border=\"1\" class=\"dataframe\">\n",
       "  <thead>\n",
       "    <tr style=\"text-align: right;\">\n",
       "      <th></th>\n",
       "      <th>TimeGenerated</th>\n",
       "      <th>CommandLine</th>\n",
       "    </tr>\n",
       "  </thead>\n",
       "  <tbody>\n",
       "    <tr>\n",
       "      <th>22656</th>\n",
       "      <td>2019-02-12 20:30:17.307</td>\n",
       "      <td>ftp  -s:MG06.dll</td>\n",
       "    </tr>\n",
       "    <tr>\n",
       "      <th>22657</th>\n",
       "      <td>2019-02-12 20:30:18.187</td>\n",
       "      <td>cacls.exe  C:\\Windows\\system32\\cscript.exe /e /t /g SYSTEM:F</td>\n",
       "    </tr>\n",
       "    <tr>\n",
       "      <th>22658</th>\n",
       "      <td>2019-02-12 20:30:18.277</td>\n",
       "      <td>net  users</td>\n",
       "    </tr>\n",
       "    <tr>\n",
       "      <th>22659</th>\n",
       "      <td>2019-02-12 20:30:18.290</td>\n",
       "      <td>findstr  \"abai$\"</td>\n",
       "    </tr>\n",
       "    <tr>\n",
       "      <th>22660</th>\n",
       "      <td>2019-02-12 20:30:18.317</td>\n",
       "      <td>C:\\Windows\\system32\\net1  users</td>\n",
       "    </tr>\n",
       "    <tr>\n",
       "      <th>22661</th>\n",
       "      <td>2019-02-12 20:30:18.377</td>\n",
       "      <td>net  user abai$ Wf9k44_9d[=$ /add</td>\n",
       "    </tr>\n",
       "    <tr>\n",
       "      <th>22662</th>\n",
       "      <td>2019-02-12 20:30:18.387</td>\n",
       "      <td>C:\\Windows\\system32\\net1  user abai$ Wf9k44_9d[=$ /add</td>\n",
       "    </tr>\n",
       "    <tr>\n",
       "      <th>22663</th>\n",
       "      <td>2019-02-12 20:30:18.413</td>\n",
       "      <td>net  user abai$ Wf9k44_9d[=$</td>\n",
       "    </tr>\n",
       "    <tr>\n",
       "      <th>22664</th>\n",
       "      <td>2019-02-12 20:30:18.427</td>\n",
       "      <td>C:\\Windows\\system32\\net1  user abai$ Wf9k44_9d[=$</td>\n",
       "    </tr>\n",
       "    <tr>\n",
       "      <th>22665</th>\n",
       "      <td>2019-02-12 20:30:18.453</td>\n",
       "      <td>net  localgroup administrators</td>\n",
       "    </tr>\n",
       "    <tr>\n",
       "      <th>22666</th>\n",
       "      <td>2019-02-12 20:30:18.460</td>\n",
       "      <td>findstr  \"abai$\"</td>\n",
       "    </tr>\n",
       "    <tr>\n",
       "      <th>22667</th>\n",
       "      <td>2019-02-12 20:30:18.470</td>\n",
       "      <td>C:\\Windows\\system32\\net1  localgroup administrators</td>\n",
       "    </tr>\n",
       "    <tr>\n",
       "      <th>22668</th>\n",
       "      <td>2019-02-12 20:30:18.493</td>\n",
       "      <td>net  localgroup administrators abai$ /add</td>\n",
       "    </tr>\n",
       "    <tr>\n",
       "      <th>22669</th>\n",
       "      <td>2019-02-12 20:30:18.510</td>\n",
       "      <td>C:\\Windows\\system32\\net1  localgroup administrators abai$ /add</td>\n",
       "    </tr>\n",
       "    <tr>\n",
       "      <th>22670</th>\n",
       "      <td>2019-02-12 20:30:18.550</td>\n",
       "      <td>net  users</td>\n",
       "    </tr>\n",
       "    <tr>\n",
       "      <th>22671</th>\n",
       "      <td>2019-02-12 20:30:18.557</td>\n",
       "      <td>findstr  \"www.401hk.com\"</td>\n",
       "    </tr>\n",
       "    <tr>\n",
       "      <th>22672</th>\n",
       "      <td>2019-02-12 20:30:18.563</td>\n",
       "      <td>C:\\Windows\\system32\\net1  users</td>\n",
       "    </tr>\n",
       "    <tr>\n",
       "      <th>22673</th>\n",
       "      <td>2019-02-12 20:30:18.590</td>\n",
       "      <td>net  user www.401hk.com Wf9k44_9d[=$ /add</td>\n",
       "    </tr>\n",
       "    <tr>\n",
       "      <th>22674</th>\n",
       "      <td>2019-02-12 20:30:18.603</td>\n",
       "      <td>C:\\Windows\\system32\\net1  user www.401hk.com Wf9k44_9d[=$ /add</td>\n",
       "    </tr>\n",
       "    <tr>\n",
       "      <th>22675</th>\n",
       "      <td>2019-02-12 20:30:18.630</td>\n",
       "      <td>net  user www.401hk.com Wf9k44_sinc9d3[=$</td>\n",
       "    </tr>\n",
       "  </tbody>\n",
       "</table>\n",
       "</div>"
      ],
      "text/plain": [
       "                TimeGenerated  \\\n",
       "22656 2019-02-12 20:30:17.307   \n",
       "22657 2019-02-12 20:30:18.187   \n",
       "22658 2019-02-12 20:30:18.277   \n",
       "22659 2019-02-12 20:30:18.290   \n",
       "22660 2019-02-12 20:30:18.317   \n",
       "22661 2019-02-12 20:30:18.377   \n",
       "22662 2019-02-12 20:30:18.387   \n",
       "22663 2019-02-12 20:30:18.413   \n",
       "22664 2019-02-12 20:30:18.427   \n",
       "22665 2019-02-12 20:30:18.453   \n",
       "22666 2019-02-12 20:30:18.460   \n",
       "22667 2019-02-12 20:30:18.470   \n",
       "22668 2019-02-12 20:30:18.493   \n",
       "22669 2019-02-12 20:30:18.510   \n",
       "22670 2019-02-12 20:30:18.550   \n",
       "22671 2019-02-12 20:30:18.557   \n",
       "22672 2019-02-12 20:30:18.563   \n",
       "22673 2019-02-12 20:30:18.590   \n",
       "22674 2019-02-12 20:30:18.603   \n",
       "22675 2019-02-12 20:30:18.630   \n",
       "\n",
       "                                                          CommandLine  \n",
       "22656                                                ftp  -s:MG06.dll  \n",
       "22657    cacls.exe  C:\\Windows\\system32\\cscript.exe /e /t /g SYSTEM:F  \n",
       "22658                                                     net  users   \n",
       "22659                                                findstr  \"abai$\"  \n",
       "22660                                C:\\Windows\\system32\\net1  users   \n",
       "22661                               net  user abai$ Wf9k44_9d[=$ /add  \n",
       "22662          C:\\Windows\\system32\\net1  user abai$ Wf9k44_9d[=$ /add  \n",
       "22663                                    net  user abai$ Wf9k44_9d[=$  \n",
       "22664               C:\\Windows\\system32\\net1  user abai$ Wf9k44_9d[=$  \n",
       "22665                                 net  localgroup administrators   \n",
       "22666                                                findstr  \"abai$\"  \n",
       "22667            C:\\Windows\\system32\\net1  localgroup administrators   \n",
       "22668                       net  localgroup administrators abai$ /add  \n",
       "22669  C:\\Windows\\system32\\net1  localgroup administrators abai$ /add  \n",
       "22670                                                     net  users   \n",
       "22671                                        findstr  \"www.401hk.com\"  \n",
       "22672                                C:\\Windows\\system32\\net1  users   \n",
       "22673                       net  user www.401hk.com Wf9k44_9d[=$ /add  \n",
       "22674  C:\\Windows\\system32\\net1  user www.401hk.com Wf9k44_9d[=$ /add  \n",
       "22675                       net  user www.401hk.com Wf9k44_sinc9d3[=$  "
      ]
     },
     "metadata": {},
     "output_type": "display_data"
    }
   ],
   "source": [
    "# get the logon ID of the rarest session\n",
    "rarest_logonid = process_rarity[process_rarity[\"Rarity\"] == process_rarity.Rarity.max()].SubjectLogonId.iloc[0]\n",
    "# extract processes with this logonID\n",
    "sample_processes = (\n",
    "    processes_on_host\n",
    "    [processes_on_host[\"SubjectLogonId\"] == rarest_logonid]\n",
    "    [[\"TimeGenerated\", \"CommandLine\"]]\n",
    "    .sort_values(\"TimeGenerated\")\n",
    ")[5:25]\n",
    "# compute duration of session\n",
    "duration = sample_processes.TimeGenerated.max() - sample_processes.TimeGenerated.min()\n",
    "md(f\"{len(sample_processes)} processes executed in {duration.total_seconds()} sec\", \"bold\")\n",
    "display(sample_processes)\n"
   ]
  },
  {
   "cell_type": "markdown",
   "metadata": {},
   "source": [
    "## Clustering conclusion\n",
    "We have narrowed down the task of sifting through > 20,000 processes \n",
    "to a few 10s and have them grouped into sessions ordered by the\n",
    "relative rarity of the process patterns"
   ]
  },
  {
   "cell_type": "markdown",
   "metadata": {},
   "source": [
    "## Other Applications\n",
    "\n",
    "You can use this technique on other datasets where you want to group by multiple features of the data.\n",
    "\n",
    "The caveat is that you need to transform any non-numeric data field into a numeric form.\n",
    "\n",
    "msticpy has a few built-in functions to help with this:\n",
    "```python\n",
    "from msticpy.sectools import eventcluster\n",
    "\n",
    "# This will group similar names together (e.g. \"Administrator\" and \"administrator\")\n",
    "my_df[\"account_num\"] = eventcluster.char_ord_score_df(data=my_df, column=\"Account\")\n",
    "\n",
    "# This will create a distinct hash for even minor differences in the input.\n",
    "# This might be useful to detect imperfectly faked UA strings.\n",
    "my_df[\"ua_hash\"] = eventcluster.crc32_hash_df(data=my_df, column=\"UserAgent\")\n",
    "\n",
    "# This will return the number of delimiter chars in the string - often a \n",
    "# a good proxy for the structure of an input while ignoring variable text values\n",
    "# e.g. \n",
    "# \"https://my.dom.com/path1?u1=163.174.4.23\" will produce the same score as\n",
    "# \"https://www.contoso.com/azure?srcdom=moon.base.alpha.com\"\n",
    "# but\n",
    "# \"curl https://www.contoso.com/top/next?u=23 > ~/my_page\"\n",
    "# \"curl https://www.contoso.com/top_next?u=2.3  > ~/my_page.sh\"\n",
    "# will produce different values despite the similarity of the strings.\n",
    "# Note - you can override the default delimiter list of \" \\-/.,\"'|&:;%\\$()]\"\n",
    "my_df[\"request_struct\"] = eventcluster.delim_count_df(my_df, column=\"Request\")\n",
    "```\n",
    "\n",
    "You can use a combination of these and other functions on the same fields\n",
    "to measure different aspects of the data. For example, the following takes\n",
    "a hash of the browser version of the UA (user agent) string and a structural count of\n",
    "the delimiters used.\n",
    "\n",
    "Use the `ua_pref_hash` and `ua_delims` to cluster on identical browser versions that\n",
    "have the same UA string\n",
    "```python\n",
    "my_df[\"ua_prefix\"] = data=my_df[\"UserAgent\"].str.split(\")\")[-1])\n",
    "my_df[\"ua_pref_hash\"] = eventcluster.crc32_hash_df(data=my_df, column=\"ua_prefix\")\n",
    "my_df[\"ua_delims\"] = eventcluster.delim_count_df(data=my_df, column=\"UserAgent\")\n",
    "```"
   ]
  },
  {
   "cell_type": "markdown",
   "metadata": {},
   "source": [
    "<hr>\n",
    "\n",
    "# Detecting anomalous sequences using Markov Chain\n",
    "\n",
    "The **anomalous_sequence** MSTICPy package uses Markov Chain analysis to predict the probability<br>\n",
    "that a particular sequence of events will occur given what has happened in the past.\n",
    "\n",
    "Here we're applying it to Office activity. \n"
   ]
  },
  {
   "cell_type": "markdown",
   "metadata": {},
   "source": [
    "## Query the data"
   ]
  },
  {
   "cell_type": "code",
   "execution_count": 59,
   "metadata": {},
   "outputs": [
    {
     "data": {
      "text/html": [
       "<div>\n",
       "<style scoped>\n",
       "    .dataframe tbody tr th:only-of-type {\n",
       "        vertical-align: middle;\n",
       "    }\n",
       "\n",
       "    .dataframe tbody tr th {\n",
       "        vertical-align: top;\n",
       "    }\n",
       "\n",
       "    .dataframe thead th {\n",
       "        text-align: right;\n",
       "    }\n",
       "</style>\n",
       "<table border=\"1\" class=\"dataframe\">\n",
       "  <thead>\n",
       "    <tr style=\"text-align: right;\">\n",
       "      <th></th>\n",
       "      <th>UserId</th>\n",
       "      <th>ClientIP</th>\n",
       "      <th>nCmds</th>\n",
       "      <th>nDistinctCmds</th>\n",
       "      <th>begin</th>\n",
       "      <th>end</th>\n",
       "      <th>duration</th>\n",
       "      <th>cmds</th>\n",
       "      <th>params</th>\n",
       "    </tr>\n",
       "  </thead>\n",
       "  <tbody>\n",
       "    <tr>\n",
       "      <th>0</th>\n",
       "      <td>NAMPRD06\\Administrator (Microsoft.Office.Datacenter.Torus.PowerShellWorker)</td>\n",
       "      <td>nan</td>\n",
       "      <td>28</td>\n",
       "      <td>1</td>\n",
       "      <td>2020-06-21 02:36:46+00:00</td>\n",
       "      <td>2020-06-21 02:36:46+00:00</td>\n",
       "      <td>0 days</td>\n",
       "      <td>[Set-ConditionalAccessPolicy, Set-ConditionalAccessPolicy, Set-ConditionalAccessPolicy, Set-Cond...</td>\n",
       "      <td>[{'Set-ConditionalAccessPolicy': [{'Name': 'Identity', 'Value': 'seccxpninja.onmicrosoft.com\\\\88...</td>\n",
       "    </tr>\n",
       "    <tr>\n",
       "      <th>1</th>\n",
       "      <td>NAMPRD06\\Administrator (Microsoft.Office.Datacenter.Torus.PowerShellWorker)</td>\n",
       "      <td>nan</td>\n",
       "      <td>28</td>\n",
       "      <td>1</td>\n",
       "      <td>2020-06-21 05:31:34+00:00</td>\n",
       "      <td>2020-06-21 05:31:34+00:00</td>\n",
       "      <td>0 days</td>\n",
       "      <td>[Set-ConditionalAccessPolicy, Set-ConditionalAccessPolicy, Set-ConditionalAccessPolicy, Set-Cond...</td>\n",
       "      <td>[{'Set-ConditionalAccessPolicy': [{'Name': 'Identity', 'Value': 'seccxpninja.onmicrosoft.com\\\\e1...</td>\n",
       "    </tr>\n",
       "    <tr>\n",
       "      <th>2</th>\n",
       "      <td>NAMPRD06\\Administrator (Microsoft.Office.Datacenter.Torus.PowerShellWorker)</td>\n",
       "      <td>nan</td>\n",
       "      <td>2</td>\n",
       "      <td>1</td>\n",
       "      <td>2020-06-22 02:27:06+00:00</td>\n",
       "      <td>2020-06-22 02:27:06+00:00</td>\n",
       "      <td>0 days</td>\n",
       "      <td>[Set-ConditionalAccessPolicy, Set-ConditionalAccessPolicy]</td>\n",
       "      <td>[{'Set-ConditionalAccessPolicy': [{'Name': 'Identity', 'Value': 'seccxpninja.onmicrosoft.com\\\\88...</td>\n",
       "    </tr>\n",
       "    <tr>\n",
       "      <th>3</th>\n",
       "      <td>NAMPRD06\\Administrator (Microsoft.Office.Datacenter.Torus.PowerShellWorker)</td>\n",
       "      <td>nan</td>\n",
       "      <td>26</td>\n",
       "      <td>1</td>\n",
       "      <td>2020-06-22 02:30:52+00:00</td>\n",
       "      <td>2020-06-22 02:30:52+00:00</td>\n",
       "      <td>0 days</td>\n",
       "      <td>[Set-ConditionalAccessPolicy, Set-ConditionalAccessPolicy, Set-ConditionalAccessPolicy, Set-Cond...</td>\n",
       "      <td>[{'Set-ConditionalAccessPolicy': [{'Name': 'Identity', 'Value': 'seccxpninja.onmicrosoft.com\\\\83...</td>\n",
       "    </tr>\n",
       "    <tr>\n",
       "      <th>4</th>\n",
       "      <td>NAMPRD06\\Administrator (Microsoft.Office.Datacenter.Torus.PowerShellWorker)</td>\n",
       "      <td>nan</td>\n",
       "      <td>28</td>\n",
       "      <td>1</td>\n",
       "      <td>2020-06-22 04:55:59+00:00</td>\n",
       "      <td>2020-06-22 04:55:59+00:00</td>\n",
       "      <td>0 days</td>\n",
       "      <td>[Set-ConditionalAccessPolicy, Set-ConditionalAccessPolicy, Set-ConditionalAccessPolicy, Set-Cond...</td>\n",
       "      <td>[{'Set-ConditionalAccessPolicy': [{'Name': 'Identity', 'Value': 'seccxpninja.onmicrosoft.com\\\\64...</td>\n",
       "    </tr>\n",
       "  </tbody>\n",
       "</table>\n",
       "</div>"
      ],
      "text/plain": [
       "                                                                        UserId  \\\n",
       "0  NAMPRD06\\Administrator (Microsoft.Office.Datacenter.Torus.PowerShellWorker)   \n",
       "1  NAMPRD06\\Administrator (Microsoft.Office.Datacenter.Torus.PowerShellWorker)   \n",
       "2  NAMPRD06\\Administrator (Microsoft.Office.Datacenter.Torus.PowerShellWorker)   \n",
       "3  NAMPRD06\\Administrator (Microsoft.Office.Datacenter.Torus.PowerShellWorker)   \n",
       "4  NAMPRD06\\Administrator (Microsoft.Office.Datacenter.Torus.PowerShellWorker)   \n",
       "\n",
       "  ClientIP  nCmds  nDistinctCmds                     begin  \\\n",
       "0      nan     28              1 2020-06-21 02:36:46+00:00   \n",
       "1      nan     28              1 2020-06-21 05:31:34+00:00   \n",
       "2      nan      2              1 2020-06-22 02:27:06+00:00   \n",
       "3      nan     26              1 2020-06-22 02:30:52+00:00   \n",
       "4      nan     28              1 2020-06-22 04:55:59+00:00   \n",
       "\n",
       "                        end duration  \\\n",
       "0 2020-06-21 02:36:46+00:00   0 days   \n",
       "1 2020-06-21 05:31:34+00:00   0 days   \n",
       "2 2020-06-22 02:27:06+00:00   0 days   \n",
       "3 2020-06-22 02:30:52+00:00   0 days   \n",
       "4 2020-06-22 04:55:59+00:00   0 days   \n",
       "\n",
       "                                                                                                  cmds  \\\n",
       "0  [Set-ConditionalAccessPolicy, Set-ConditionalAccessPolicy, Set-ConditionalAccessPolicy, Set-Cond...   \n",
       "1  [Set-ConditionalAccessPolicy, Set-ConditionalAccessPolicy, Set-ConditionalAccessPolicy, Set-Cond...   \n",
       "2                                           [Set-ConditionalAccessPolicy, Set-ConditionalAccessPolicy]   \n",
       "3  [Set-ConditionalAccessPolicy, Set-ConditionalAccessPolicy, Set-ConditionalAccessPolicy, Set-Cond...   \n",
       "4  [Set-ConditionalAccessPolicy, Set-ConditionalAccessPolicy, Set-ConditionalAccessPolicy, Set-Cond...   \n",
       "\n",
       "                                                                                                params  \n",
       "0  [{'Set-ConditionalAccessPolicy': [{'Name': 'Identity', 'Value': 'seccxpninja.onmicrosoft.com\\\\88...  \n",
       "1  [{'Set-ConditionalAccessPolicy': [{'Name': 'Identity', 'Value': 'seccxpninja.onmicrosoft.com\\\\e1...  \n",
       "2  [{'Set-ConditionalAccessPolicy': [{'Name': 'Identity', 'Value': 'seccxpninja.onmicrosoft.com\\\\88...  \n",
       "3  [{'Set-ConditionalAccessPolicy': [{'Name': 'Identity', 'Value': 'seccxpninja.onmicrosoft.com\\\\83...  \n",
       "4  [{'Set-ConditionalAccessPolicy': [{'Name': 'Identity', 'Value': 'seccxpninja.onmicrosoft.com\\\\64...  "
      ]
     },
     "execution_count": 59,
     "metadata": {},
     "output_type": "execute_result"
    }
   ],
   "source": [
    "query = \"\"\"\n",
    "| where TimeGenerated >= ago(60d)\n",
    "| where RecordType_s == 'ExchangeAdmin'\n",
    "| where UserId_s !startswith \"NT AUTHORITY\"\n",
    "| where UserId_s !contains \"prod.outlook.com\"  \n",
    "| extend params = todynamic(strcat('{\"', Operation_s, '\" : ', tostring(Parameters_s), '}')) \n",
    "| extend UserId = UserId_s, ClientIP = ClientIP_s, Operation = Operation_s\n",
    "| project TimeGenerated= Start_Time_t, UserId, ClientIP, Operation, params\n",
    "| sort by UserId asc, ClientIP asc, TimeGenerated asc\n",
    "| extend begin = row_window_session(TimeGenerated, 20m, 2m, UserId != prev(UserId) or ClientIP != prev(ClientIP))\n",
    "| summarize cmds=makelist(Operation), end=max(TimeGenerated), nCmds=count(), nDistinctCmds=dcount(Operation),\n",
    "params=makelist(params) by UserId, ClientIP, begin\n",
    "| project UserId, ClientIP, nCmds, nDistinctCmds, begin, end, duration=end-begin, cmds, params\n",
    "\"\"\"\n",
    "exchange_df = qry_prov.Azure.OfficeActivity(add_query_items=query)\n",
    "exchange_df.head()"
   ]
  },
  {
   "cell_type": "markdown",
   "metadata": {},
   "source": [
    "## Perform Anomalous Sequence analysis on the data\n",
    "\n",
    "The analysis groups events into sessions (time-bounded and linked by a common account). It then<br>\n",
    "builds a probability model for the types of *command* (E.g. \"SetMailboxProperty\")<br>\n",
    "and the parameters and parameter values used for that command.\n",
    "\n",
    "I.e. how likely is it that a given user would be running this sequence of commands in a logon session?\n",
    "\n",
    "Using this probability model, we can highlight sequences that have an extremely low probability, based<br>\n",
    "on prior behaviour.\n"
   ]
  },
  {
   "cell_type": "code",
   "execution_count": 60,
   "metadata": {},
   "outputs": [
    {
     "data": {
      "text/html": [
       "\n",
       "    <div class=\"bk-root\">\n",
       "        <a href=\"https://bokeh.org\" target=\"_blank\" class=\"bk-logo bk-logo-small bk-logo-notebook\"></a>\n",
       "        <span id=\"2028\">Loading BokehJS ...</span>\n",
       "    </div>"
      ]
     },
     "metadata": {},
     "output_type": "display_data"
    },
    {
     "data": {
      "application/javascript": [
       "\n",
       "(function(root) {\n",
       "  function now() {\n",
       "    return new Date();\n",
       "  }\n",
       "\n",
       "  var force = true;\n",
       "\n",
       "  if (typeof root._bokeh_onload_callbacks === \"undefined\" || force === true) {\n",
       "    root._bokeh_onload_callbacks = [];\n",
       "    root._bokeh_is_loading = undefined;\n",
       "  }\n",
       "\n",
       "  var JS_MIME_TYPE = 'application/javascript';\n",
       "  var HTML_MIME_TYPE = 'text/html';\n",
       "  var EXEC_MIME_TYPE = 'application/vnd.bokehjs_exec.v0+json';\n",
       "  var CLASS_NAME = 'output_bokeh rendered_html';\n",
       "\n",
       "  /**\n",
       "   * Render data to the DOM node\n",
       "   */\n",
       "  function render(props, node) {\n",
       "    var script = document.createElement(\"script\");\n",
       "    node.appendChild(script);\n",
       "  }\n",
       "\n",
       "  /**\n",
       "   * Handle when an output is cleared or removed\n",
       "   */\n",
       "  function handleClearOutput(event, handle) {\n",
       "    var cell = handle.cell;\n",
       "\n",
       "    var id = cell.output_area._bokeh_element_id;\n",
       "    var server_id = cell.output_area._bokeh_server_id;\n",
       "    // Clean up Bokeh references\n",
       "    if (id != null && id in Bokeh.index) {\n",
       "      Bokeh.index[id].model.document.clear();\n",
       "      delete Bokeh.index[id];\n",
       "    }\n",
       "\n",
       "    if (server_id !== undefined) {\n",
       "      // Clean up Bokeh references\n",
       "      var cmd = \"from bokeh.io.state import curstate; print(curstate().uuid_to_server['\" + server_id + \"'].get_sessions()[0].document.roots[0]._id)\";\n",
       "      cell.notebook.kernel.execute(cmd, {\n",
       "        iopub: {\n",
       "          output: function(msg) {\n",
       "            var id = msg.content.text.trim();\n",
       "            if (id in Bokeh.index) {\n",
       "              Bokeh.index[id].model.document.clear();\n",
       "              delete Bokeh.index[id];\n",
       "            }\n",
       "          }\n",
       "        }\n",
       "      });\n",
       "      // Destroy server and session\n",
       "      var cmd = \"import bokeh.io.notebook as ion; ion.destroy_server('\" + server_id + \"')\";\n",
       "      cell.notebook.kernel.execute(cmd);\n",
       "    }\n",
       "  }\n",
       "\n",
       "  /**\n",
       "   * Handle when a new output is added\n",
       "   */\n",
       "  function handleAddOutput(event, handle) {\n",
       "    var output_area = handle.output_area;\n",
       "    var output = handle.output;\n",
       "\n",
       "    // limit handleAddOutput to display_data with EXEC_MIME_TYPE content only\n",
       "    if ((output.output_type != \"display_data\") || (!output.data.hasOwnProperty(EXEC_MIME_TYPE))) {\n",
       "      return\n",
       "    }\n",
       "\n",
       "    var toinsert = output_area.element.find(\".\" + CLASS_NAME.split(' ')[0]);\n",
       "\n",
       "    if (output.metadata[EXEC_MIME_TYPE][\"id\"] !== undefined) {\n",
       "      toinsert[toinsert.length - 1].firstChild.textContent = output.data[JS_MIME_TYPE];\n",
       "      // store reference to embed id on output_area\n",
       "      output_area._bokeh_element_id = output.metadata[EXEC_MIME_TYPE][\"id\"];\n",
       "    }\n",
       "    if (output.metadata[EXEC_MIME_TYPE][\"server_id\"] !== undefined) {\n",
       "      var bk_div = document.createElement(\"div\");\n",
       "      bk_div.innerHTML = output.data[HTML_MIME_TYPE];\n",
       "      var script_attrs = bk_div.children[0].attributes;\n",
       "      for (var i = 0; i < script_attrs.length; i++) {\n",
       "        toinsert[toinsert.length - 1].firstChild.setAttribute(script_attrs[i].name, script_attrs[i].value);\n",
       "        toinsert[toinsert.length - 1].firstChild.textContent = bk_div.children[0].textContent\n",
       "      }\n",
       "      // store reference to server id on output_area\n",
       "      output_area._bokeh_server_id = output.metadata[EXEC_MIME_TYPE][\"server_id\"];\n",
       "    }\n",
       "  }\n",
       "\n",
       "  function register_renderer(events, OutputArea) {\n",
       "\n",
       "    function append_mime(data, metadata, element) {\n",
       "      // create a DOM node to render to\n",
       "      var toinsert = this.create_output_subarea(\n",
       "        metadata,\n",
       "        CLASS_NAME,\n",
       "        EXEC_MIME_TYPE\n",
       "      );\n",
       "      this.keyboard_manager.register_events(toinsert);\n",
       "      // Render to node\n",
       "      var props = {data: data, metadata: metadata[EXEC_MIME_TYPE]};\n",
       "      render(props, toinsert[toinsert.length - 1]);\n",
       "      element.append(toinsert);\n",
       "      return toinsert\n",
       "    }\n",
       "\n",
       "    /* Handle when an output is cleared or removed */\n",
       "    events.on('clear_output.CodeCell', handleClearOutput);\n",
       "    events.on('delete.Cell', handleClearOutput);\n",
       "\n",
       "    /* Handle when a new output is added */\n",
       "    events.on('output_added.OutputArea', handleAddOutput);\n",
       "\n",
       "    /**\n",
       "     * Register the mime type and append_mime function with output_area\n",
       "     */\n",
       "    OutputArea.prototype.register_mime_type(EXEC_MIME_TYPE, append_mime, {\n",
       "      /* Is output safe? */\n",
       "      safe: true,\n",
       "      /* Index of renderer in `output_area.display_order` */\n",
       "      index: 0\n",
       "    });\n",
       "  }\n",
       "\n",
       "  // register the mime type if in Jupyter Notebook environment and previously unregistered\n",
       "  if (root.Jupyter !== undefined) {\n",
       "    var events = require('base/js/events');\n",
       "    var OutputArea = require('notebook/js/outputarea').OutputArea;\n",
       "\n",
       "    if (OutputArea.prototype.mime_types().indexOf(EXEC_MIME_TYPE) == -1) {\n",
       "      register_renderer(events, OutputArea);\n",
       "    }\n",
       "  }\n",
       "\n",
       "  \n",
       "  if (typeof (root._bokeh_timeout) === \"undefined\" || force === true) {\n",
       "    root._bokeh_timeout = Date.now() + 5000;\n",
       "    root._bokeh_failed_load = false;\n",
       "  }\n",
       "\n",
       "  var NB_LOAD_WARNING = {'data': {'text/html':\n",
       "     \"<div style='background-color: #fdd'>\\n\"+\n",
       "     \"<p>\\n\"+\n",
       "     \"BokehJS does not appear to have successfully loaded. If loading BokehJS from CDN, this \\n\"+\n",
       "     \"may be due to a slow or bad network connection. Possible fixes:\\n\"+\n",
       "     \"</p>\\n\"+\n",
       "     \"<ul>\\n\"+\n",
       "     \"<li>re-rerun `output_notebook()` to attempt to load from CDN again, or</li>\\n\"+\n",
       "     \"<li>use INLINE resources instead, as so:</li>\\n\"+\n",
       "     \"</ul>\\n\"+\n",
       "     \"<code>\\n\"+\n",
       "     \"from bokeh.resources import INLINE\\n\"+\n",
       "     \"output_notebook(resources=INLINE)\\n\"+\n",
       "     \"</code>\\n\"+\n",
       "     \"</div>\"}};\n",
       "\n",
       "  function display_loaded() {\n",
       "    var el = document.getElementById(\"2028\");\n",
       "    if (el != null) {\n",
       "      el.textContent = \"BokehJS is loading...\";\n",
       "    }\n",
       "    if (root.Bokeh !== undefined) {\n",
       "      if (el != null) {\n",
       "        el.textContent = \"BokehJS \" + root.Bokeh.version + \" successfully loaded.\";\n",
       "      }\n",
       "    } else if (Date.now() < root._bokeh_timeout) {\n",
       "      setTimeout(display_loaded, 100)\n",
       "    }\n",
       "  }\n",
       "\n",
       "\n",
       "  function run_callbacks() {\n",
       "    try {\n",
       "      root._bokeh_onload_callbacks.forEach(function(callback) {\n",
       "        if (callback != null)\n",
       "          callback();\n",
       "      });\n",
       "    } finally {\n",
       "      delete root._bokeh_onload_callbacks\n",
       "    }\n",
       "    console.debug(\"Bokeh: all callbacks have finished\");\n",
       "  }\n",
       "\n",
       "  function load_libs(css_urls, js_urls, callback) {\n",
       "    if (css_urls == null) css_urls = [];\n",
       "    if (js_urls == null) js_urls = [];\n",
       "\n",
       "    root._bokeh_onload_callbacks.push(callback);\n",
       "    if (root._bokeh_is_loading > 0) {\n",
       "      console.debug(\"Bokeh: BokehJS is being loaded, scheduling callback at\", now());\n",
       "      return null;\n",
       "    }\n",
       "    if (js_urls == null || js_urls.length === 0) {\n",
       "      run_callbacks();\n",
       "      return null;\n",
       "    }\n",
       "    console.debug(\"Bokeh: BokehJS not loaded, scheduling load and callback at\", now());\n",
       "    root._bokeh_is_loading = css_urls.length + js_urls.length;\n",
       "\n",
       "    function on_load() {\n",
       "      root._bokeh_is_loading--;\n",
       "      if (root._bokeh_is_loading === 0) {\n",
       "        console.debug(\"Bokeh: all BokehJS libraries/stylesheets loaded\");\n",
       "        run_callbacks()\n",
       "      }\n",
       "    }\n",
       "\n",
       "    function on_error() {\n",
       "      console.error(\"failed to load \" + url);\n",
       "    }\n",
       "\n",
       "    for (var i = 0; i < css_urls.length; i++) {\n",
       "      var url = css_urls[i];\n",
       "      const element = document.createElement(\"link\");\n",
       "      element.onload = on_load;\n",
       "      element.onerror = on_error;\n",
       "      element.rel = \"stylesheet\";\n",
       "      element.type = \"text/css\";\n",
       "      element.href = url;\n",
       "      console.debug(\"Bokeh: injecting link tag for BokehJS stylesheet: \", url);\n",
       "      document.body.appendChild(element);\n",
       "    }\n",
       "\n",
       "    const hashes = {\"https://cdn.bokeh.org/bokeh/release/bokeh-2.2.2.min.js\": \"JayppSWSRBsibIZqI8S4vAb1oFgLL0uhNvSn8cmArlOvYOwfFjYeyY5UWwJ+K0SU\", \"https://cdn.bokeh.org/bokeh/release/bokeh-widgets-2.2.2.min.js\": \"G0/Tv/Yy/zEPNsnW0Qif/FOsGesd+KIrKg/QLmvQmReuUW9qmSP7mAmr0VpiUNr3\", \"https://cdn.bokeh.org/bokeh/release/bokeh-tables-2.2.2.min.js\": \"VLYHEbLQDk5G1+/4ALU0myoJPMEUsngWry2fzYorFOUmarjGRPLLURaeK/on6JqX\"};\n",
       "\n",
       "    for (var i = 0; i < js_urls.length; i++) {\n",
       "      var url = js_urls[i];\n",
       "      var element = document.createElement('script');\n",
       "      element.onload = on_load;\n",
       "      element.onerror = on_error;\n",
       "      element.async = false;\n",
       "      element.src = url;\n",
       "      if (url in hashes) {\n",
       "        element.crossOrigin = \"anonymous\";\n",
       "        element.integrity = \"sha384-\" + hashes[url];\n",
       "      }\n",
       "      console.debug(\"Bokeh: injecting script tag for BokehJS library: \", url);\n",
       "      document.head.appendChild(element);\n",
       "    }\n",
       "  };\n",
       "\n",
       "  function inject_raw_css(css) {\n",
       "    const element = document.createElement(\"style\");\n",
       "    element.appendChild(document.createTextNode(css));\n",
       "    document.body.appendChild(element);\n",
       "  }\n",
       "\n",
       "  \n",
       "  var js_urls = [\"https://cdn.bokeh.org/bokeh/release/bokeh-2.2.2.min.js\", \"https://cdn.bokeh.org/bokeh/release/bokeh-widgets-2.2.2.min.js\", \"https://cdn.bokeh.org/bokeh/release/bokeh-tables-2.2.2.min.js\"];\n",
       "  var css_urls = [];\n",
       "  \n",
       "\n",
       "  var inline_js = [\n",
       "    function(Bokeh) {\n",
       "      Bokeh.set_log_level(\"info\");\n",
       "    },\n",
       "    function(Bokeh) {\n",
       "    \n",
       "    \n",
       "    }\n",
       "  ];\n",
       "\n",
       "  function run_inline_js() {\n",
       "    \n",
       "    if (root.Bokeh !== undefined || force === true) {\n",
       "      \n",
       "    for (var i = 0; i < inline_js.length; i++) {\n",
       "      inline_js[i].call(root, root.Bokeh);\n",
       "    }\n",
       "    if (force === true) {\n",
       "        display_loaded();\n",
       "      }} else if (Date.now() < root._bokeh_timeout) {\n",
       "      setTimeout(run_inline_js, 100);\n",
       "    } else if (!root._bokeh_failed_load) {\n",
       "      console.log(\"Bokeh: BokehJS failed to load within specified timeout.\");\n",
       "      root._bokeh_failed_load = true;\n",
       "    } else if (force !== true) {\n",
       "      var cell = $(document.getElementById(\"2028\")).parents('.cell').data().cell;\n",
       "      cell.output_area.append_execute_result(NB_LOAD_WARNING)\n",
       "    }\n",
       "\n",
       "  }\n",
       "\n",
       "  if (root._bokeh_is_loading === 0) {\n",
       "    console.debug(\"Bokeh: BokehJS loaded, going straight to plotting\");\n",
       "    run_inline_js();\n",
       "  } else {\n",
       "    load_libs(css_urls, js_urls, function() {\n",
       "      console.debug(\"Bokeh: BokehJS plotting callback run at\", now());\n",
       "      run_inline_js();\n",
       "    });\n",
       "  }\n",
       "}(window));"
      ],
      "application/vnd.bokehjs_load.v0+json": "\n(function(root) {\n  function now() {\n    return new Date();\n  }\n\n  var force = true;\n\n  if (typeof root._bokeh_onload_callbacks === \"undefined\" || force === true) {\n    root._bokeh_onload_callbacks = [];\n    root._bokeh_is_loading = undefined;\n  }\n\n  \n\n  \n  if (typeof (root._bokeh_timeout) === \"undefined\" || force === true) {\n    root._bokeh_timeout = Date.now() + 5000;\n    root._bokeh_failed_load = false;\n  }\n\n  var NB_LOAD_WARNING = {'data': {'text/html':\n     \"<div style='background-color: #fdd'>\\n\"+\n     \"<p>\\n\"+\n     \"BokehJS does not appear to have successfully loaded. If loading BokehJS from CDN, this \\n\"+\n     \"may be due to a slow or bad network connection. Possible fixes:\\n\"+\n     \"</p>\\n\"+\n     \"<ul>\\n\"+\n     \"<li>re-rerun `output_notebook()` to attempt to load from CDN again, or</li>\\n\"+\n     \"<li>use INLINE resources instead, as so:</li>\\n\"+\n     \"</ul>\\n\"+\n     \"<code>\\n\"+\n     \"from bokeh.resources import INLINE\\n\"+\n     \"output_notebook(resources=INLINE)\\n\"+\n     \"</code>\\n\"+\n     \"</div>\"}};\n\n  function display_loaded() {\n    var el = document.getElementById(\"2028\");\n    if (el != null) {\n      el.textContent = \"BokehJS is loading...\";\n    }\n    if (root.Bokeh !== undefined) {\n      if (el != null) {\n        el.textContent = \"BokehJS \" + root.Bokeh.version + \" successfully loaded.\";\n      }\n    } else if (Date.now() < root._bokeh_timeout) {\n      setTimeout(display_loaded, 100)\n    }\n  }\n\n\n  function run_callbacks() {\n    try {\n      root._bokeh_onload_callbacks.forEach(function(callback) {\n        if (callback != null)\n          callback();\n      });\n    } finally {\n      delete root._bokeh_onload_callbacks\n    }\n    console.debug(\"Bokeh: all callbacks have finished\");\n  }\n\n  function load_libs(css_urls, js_urls, callback) {\n    if (css_urls == null) css_urls = [];\n    if (js_urls == null) js_urls = [];\n\n    root._bokeh_onload_callbacks.push(callback);\n    if (root._bokeh_is_loading > 0) {\n      console.debug(\"Bokeh: BokehJS is being loaded, scheduling callback at\", now());\n      return null;\n    }\n    if (js_urls == null || js_urls.length === 0) {\n      run_callbacks();\n      return null;\n    }\n    console.debug(\"Bokeh: BokehJS not loaded, scheduling load and callback at\", now());\n    root._bokeh_is_loading = css_urls.length + js_urls.length;\n\n    function on_load() {\n      root._bokeh_is_loading--;\n      if (root._bokeh_is_loading === 0) {\n        console.debug(\"Bokeh: all BokehJS libraries/stylesheets loaded\");\n        run_callbacks()\n      }\n    }\n\n    function on_error() {\n      console.error(\"failed to load \" + url);\n    }\n\n    for (var i = 0; i < css_urls.length; i++) {\n      var url = css_urls[i];\n      const element = document.createElement(\"link\");\n      element.onload = on_load;\n      element.onerror = on_error;\n      element.rel = \"stylesheet\";\n      element.type = \"text/css\";\n      element.href = url;\n      console.debug(\"Bokeh: injecting link tag for BokehJS stylesheet: \", url);\n      document.body.appendChild(element);\n    }\n\n    const hashes = {\"https://cdn.bokeh.org/bokeh/release/bokeh-2.2.2.min.js\": \"JayppSWSRBsibIZqI8S4vAb1oFgLL0uhNvSn8cmArlOvYOwfFjYeyY5UWwJ+K0SU\", \"https://cdn.bokeh.org/bokeh/release/bokeh-widgets-2.2.2.min.js\": \"G0/Tv/Yy/zEPNsnW0Qif/FOsGesd+KIrKg/QLmvQmReuUW9qmSP7mAmr0VpiUNr3\", \"https://cdn.bokeh.org/bokeh/release/bokeh-tables-2.2.2.min.js\": \"VLYHEbLQDk5G1+/4ALU0myoJPMEUsngWry2fzYorFOUmarjGRPLLURaeK/on6JqX\"};\n\n    for (var i = 0; i < js_urls.length; i++) {\n      var url = js_urls[i];\n      var element = document.createElement('script');\n      element.onload = on_load;\n      element.onerror = on_error;\n      element.async = false;\n      element.src = url;\n      if (url in hashes) {\n        element.crossOrigin = \"anonymous\";\n        element.integrity = \"sha384-\" + hashes[url];\n      }\n      console.debug(\"Bokeh: injecting script tag for BokehJS library: \", url);\n      document.head.appendChild(element);\n    }\n  };\n\n  function inject_raw_css(css) {\n    const element = document.createElement(\"style\");\n    element.appendChild(document.createTextNode(css));\n    document.body.appendChild(element);\n  }\n\n  \n  var js_urls = [\"https://cdn.bokeh.org/bokeh/release/bokeh-2.2.2.min.js\", \"https://cdn.bokeh.org/bokeh/release/bokeh-widgets-2.2.2.min.js\", \"https://cdn.bokeh.org/bokeh/release/bokeh-tables-2.2.2.min.js\"];\n  var css_urls = [];\n  \n\n  var inline_js = [\n    function(Bokeh) {\n      Bokeh.set_log_level(\"info\");\n    },\n    function(Bokeh) {\n    \n    \n    }\n  ];\n\n  function run_inline_js() {\n    \n    if (root.Bokeh !== undefined || force === true) {\n      \n    for (var i = 0; i < inline_js.length; i++) {\n      inline_js[i].call(root, root.Bokeh);\n    }\n    if (force === true) {\n        display_loaded();\n      }} else if (Date.now() < root._bokeh_timeout) {\n      setTimeout(run_inline_js, 100);\n    } else if (!root._bokeh_failed_load) {\n      console.log(\"Bokeh: BokehJS failed to load within specified timeout.\");\n      root._bokeh_failed_load = true;\n    } else if (force !== true) {\n      var cell = $(document.getElementById(\"2028\")).parents('.cell').data().cell;\n      cell.output_area.append_execute_result(NB_LOAD_WARNING)\n    }\n\n  }\n\n  if (root._bokeh_is_loading === 0) {\n    console.debug(\"Bokeh: BokehJS loaded, going straight to plotting\");\n    run_inline_js();\n  } else {\n    load_libs(css_urls, js_urls, function() {\n      console.debug(\"Bokeh: BokehJS plotting callback run at\", now());\n      run_inline_js();\n    });\n  }\n}(window));"
     },
     "metadata": {},
     "output_type": "display_data"
    },
    {
     "data": {
      "text/html": [
       "\n",
       "\n",
       "\n",
       "\n",
       "\n",
       "\n",
       "  <div class=\"bk-root\" id=\"4992b287-4e0e-4553-9842-405bfebdf7e0\" data-root-id=\"2100\"></div>\n"
      ]
     },
     "metadata": {},
     "output_type": "display_data"
    },
    {
     "data": {
      "application/javascript": [
       "(function(root) {\n",
       "  function embed_document(root) {\n",
       "    \n",
       "  var docs_json = {\"66ecd02c-b54c-48e0-826c-d973218d4b6d\":{\"roots\":{\"references\":[{\"attributes\":{\"children\":[{\"id\":\"2030\"},{\"id\":\"2070\"}]},\"id\":\"2100\",\"type\":\"Column\"},{\"attributes\":{\"fill_alpha\":{\"value\":0.7},\"fill_color\":{\"value\":\"navy\"},\"line_alpha\":{\"value\":0.7},\"line_color\":{\"value\":\"navy\"},\"x\":{\"field\":\"begin\"},\"y\":{\"field\":\"rarest_window3_likelihood\"}},\"id\":\"2066\",\"type\":\"Circle\"},{\"attributes\":{\"source\":{\"id\":\"2064\"}},\"id\":\"2069\",\"type\":\"CDSView\"},{\"attributes\":{\"days\":[1,2,3,4,5,6,7,8,9,10,11,12,13,14,15,16,17,18,19,20,21,22,23,24,25,26,27,28,29,30,31]},\"id\":\"2111\",\"type\":\"DaysTicker\"},{\"attributes\":{\"below\":[{\"id\":\"2081\"},{\"id\":\"2086\"}],\"center\":[{\"id\":\"2084\"}],\"plot_height\":120,\"plot_width\":900,\"renderers\":[{\"id\":\"2093\"}],\"title\":{\"id\":\"2071\"},\"toolbar\":{\"id\":\"2085\"},\"toolbar_location\":null,\"x_range\":{\"id\":\"2073\"},\"x_scale\":{\"id\":\"2077\"},\"y_range\":{\"id\":\"2075\"},\"y_scale\":{\"id\":\"2079\"}},\"id\":\"2070\",\"subtype\":\"Figure\",\"type\":\"Plot\"},{\"attributes\":{\"callback\":null,\"formatters\":{\"@begin\":\"datetime\"},\"tooltips\":[[\"rarest_window3_likelihood\",\"@rarest_window3_likelihood\"],[\"UserId\",\"@UserId\"],[\"ClientIP\",\"@ClientIP\"],[\"rarest_window3\",\"@rarest_window3\"],[\"begin\",\"@begin{%F %T.%3N}\"],[\"time_col\",\"@time_col\"]]},\"id\":\"2029\",\"type\":\"HoverTool\"},{\"attributes\":{},\"id\":\"2134\",\"type\":\"YearsTicker\"},{\"attributes\":{\"active_drag\":\"auto\",\"active_inspect\":\"auto\",\"active_multi\":null,\"active_scroll\":\"auto\",\"active_tap\":\"auto\",\"tools\":[{\"id\":\"2029\"},{\"id\":\"2049\"},{\"id\":\"2050\"},{\"id\":\"2051\"},{\"id\":\"2052\"},{\"id\":\"2053\"}]},\"id\":\"2055\",\"type\":\"Toolbar\"},{\"attributes\":{\"fill_alpha\":{\"value\":0.1},\"fill_color\":{\"value\":\"blue\"},\"line_alpha\":{\"value\":0.1},\"line_color\":{\"value\":\"blue\"},\"x\":{\"field\":\"begin\"},\"y\":{\"field\":\"y_index\"}},\"id\":\"2092\",\"type\":\"Circle\"},{\"attributes\":{\"months\":[0,6]},\"id\":\"2118\",\"type\":\"MonthsTicker\"},{\"attributes\":{\"fill_alpha\":0.2,\"fill_color\":\"navy\",\"level\":\"overlay\",\"line_alpha\":1.0,\"line_color\":\"black\",\"line_dash\":[2,2],\"line_width\":0.5},\"id\":\"2096\",\"type\":\"BoxAnnotation\"},{\"attributes\":{\"data\":{\"ClientIP\":[\"nan\",\"nan\",\"nan\",\"nan\",\"nan\",\"nan\",\"nan\",\"nan\",\"nan\",\"nan\",\"nan\",\"nan\",\"nan\",\"nan\",\"nan\",\"nan\",\"nan\",\"nan\",\"nan\",\"nan\",\"nan\",\"nan\",\"nan\",\"nan\",\"nan\",\"nan\",\"nan\",\"nan\",\"nan\",\"nan\",\"nan\",\"nan\",\"nan\",\"nan\",\"nan\",\"nan\",\"nan\",\"nan\",\"nan\",\"nan\",\"nan\",\"nan\",\"nan\",\"nan\",\"nan\",\"nan\",\"nan\",\"nan\",\"nan\",\"nan\",\"nan\",\"nan\",\"nan\",\"nan\",\"nan\",\"nan\",\"nan\",\"nan\",\"nan\",\"nan\",\"nan\",\"nan\",\"nan\",\"nan\",\"nan\",\"nan\",\"nan\",\"nan\",\"nan\",\"nan\",\"nan\",\"nan\",\"nan\",\"nan\",\"nan\",\"nan\",\"nan\",\"nan\",\"nan\",\"nan\",\"nan\",\"nan\",\"nan\",\"nan\",\"nan\",\"nan\",\"nan\",\"nan\",\"nan\",\"nan\",\"nan\",\"nan\",\"nan\",\"nan\",\"nan\",\"nan\",\"nan\",\"nan\",\"nan\",\"nan\",\"nan\",\"nan\",\"nan\",\"nan\",\"nan\",\"nan\",\"nan\",\"nan\",\"nan\",\"nan\",\"nan\",\"nan\",\"nan\",\"nan\",\"nan\",\"nan\",\"nan\",\"nan\",\"nan\",\"nan\",\"nan\",\"nan\",\"nan\",\"nan\",\"nan\",\"nan\",\"nan\",\"nan\",\"nan\",\"nan\",\"nan\",\"nan\",\"nan\",\"nan\",\"nan\",\"nan\",\"nan\",\"nan\",\"nan\",\"nan\",\"nan\",\"nan\",\"nan\",\"nan\",\"nan\",\"20.185.182.48:37965\"],\"UserId\":[\"NAMPRD06\\\\Administrator (Microsoft.Office.Datacenter.Torus.PowerShellWorker)\",\"NAMPRD06\\\\Administrator (Microsoft.Office.Datacenter.Torus.PowerShellWorker)\",\"NAMPRD06\\\\Administrator (Microsoft.Office.Datacenter.Torus.PowerShellWorker)\",\"NAMPRD06\\\\Administrator (Microsoft.Office.Datacenter.Torus.PowerShellWorker)\",\"NAMPRD06\\\\Administrator (Microsoft.Office.Datacenter.Torus.PowerShellWorker)\",\"NAMPRD06\\\\Administrator (Microsoft.Office.Datacenter.Torus.PowerShellWorker)\",\"NAMPRD06\\\\Administrator (Microsoft.Office.Datacenter.Torus.PowerShellWorker)\",\"NAMPRD06\\\\Administrator (Microsoft.Office.Datacenter.Torus.PowerShellWorker)\",\"NAMPRD06\\\\Administrator (Microsoft.Office.Datacenter.Torus.PowerShellWorker)\",\"NAMPRD06\\\\Administrator (Microsoft.Office.Datacenter.Torus.PowerShellWorker)\",\"NAMPRD06\\\\Administrator (Microsoft.Office.Datacenter.Torus.PowerShellWorker)\",\"NAMPRD06\\\\Administrator (Microsoft.Office.Datacenter.Torus.PowerShellWorker)\",\"NAMPRD06\\\\Administrator (Microsoft.Office.Datacenter.Torus.PowerShellWorker)\",\"NAMPRD06\\\\Administrator (Microsoft.Office.Datacenter.Torus.PowerShellWorker)\",\"NAMPRD06\\\\Administrator (Microsoft.Office.Datacenter.Torus.PowerShellWorker)\",\"NAMPRD06\\\\Administrator (Microsoft.Office.Datacenter.Torus.PowerShellWorker)\",\"NAMPRD06\\\\Administrator (Microsoft.Office.Datacenter.Torus.PowerShellWorker)\",\"NAMPRD06\\\\Administrator (Microsoft.Office.Datacenter.Torus.PowerShellWorker)\",\"NAMPRD06\\\\Administrator (Microsoft.Office.Datacenter.Torus.PowerShellWorker)\",\"NAMPRD06\\\\Administrator (Microsoft.Office.Datacenter.Torus.PowerShellWorker)\",\"NAMPRD06\\\\Administrator (Microsoft.Office.Datacenter.Torus.PowerShellWorker)\",\"NAMPRD06\\\\Administrator (Microsoft.Office.Datacenter.Torus.PowerShellWorker)\",\"NAMPRD06\\\\Administrator (Microsoft.Office.Datacenter.Torus.PowerShellWorker)\",\"NAMPRD06\\\\Administrator (Microsoft.Office.Datacenter.Torus.PowerShellWorker)\",\"NAMPRD06\\\\Administrator (Microsoft.Office.Datacenter.Torus.PowerShellWorker)\",\"NAMPRD06\\\\Administrator (Microsoft.Office.Datacenter.Torus.PowerShellWorker)\",\"NAMPRD06\\\\Administrator (Microsoft.Office.Datacenter.Torus.PowerShellWorker)\",\"NAMPRD06\\\\Administrator (Microsoft.Office.Datacenter.Torus.PowerShellWorker)\",\"NAMPRD06\\\\Administrator (Microsoft.Office.Datacenter.Torus.PowerShellWorker)\",\"NAMPRD06\\\\Administrator (Microsoft.Office.Datacenter.Torus.PowerShellWorker)\",\"NAMPRD06\\\\Administrator (Microsoft.Office.Datacenter.Torus.PowerShellWorker)\",\"NAMPRD06\\\\Administrator (Microsoft.Office.Datacenter.Torus.PowerShellWorker)\",\"NAMPRD06\\\\Administrator (Microsoft.Office.Datacenter.Torus.PowerShellWorker)\",\"NAMPRD06\\\\Administrator (Microsoft.Office.Datacenter.Torus.PowerShellWorker)\",\"NAMPRD06\\\\Administrator (Microsoft.Office.Datacenter.Torus.PowerShellWorker)\",\"NAMPRD06\\\\Administrator (Microsoft.Office.Datacenter.Torus.PowerShellWorker)\",\"NAMPRD06\\\\Administrator (Microsoft.Office.Datacenter.Torus.PowerShellWorker)\",\"NAMPRD06\\\\Administrator (Microsoft.Office.Datacenter.Torus.PowerShellWorker)\",\"NAMPRD06\\\\Administrator (Microsoft.Office.Datacenter.Torus.PowerShellWorker)\",\"NAMPRD06\\\\Administrator (Microsoft.Office.Datacenter.Torus.PowerShellWorker)\",\"NAMPRD06\\\\Administrator (Microsoft.Office.Datacenter.Torus.PowerShellWorker)\",\"NAMPRD06\\\\Administrator (Microsoft.Office.Datacenter.Torus.PowerShellWorker)\",\"NAMPRD06\\\\Administrator (Microsoft.Office.Datacenter.Torus.PowerShellWorker)\",\"NAMPRD06\\\\Administrator (Microsoft.Office.Datacenter.Torus.PowerShellWorker)\",\"NAMPRD06\\\\Administrator (Microsoft.Office.Datacenter.Torus.PowerShellWorker)\",\"NAMPRD06\\\\Administrator (Microsoft.Office.Datacenter.Torus.PowerShellWorker)\",\"NAMPRD06\\\\Administrator (Microsoft.Office.Datacenter.Torus.PowerShellWorker)\",\"NAMPRD06\\\\Administrator (Microsoft.Office.Datacenter.Torus.PowerShellWorker)\",\"NAMPRD06\\\\Administrator (Microsoft.Office.Datacenter.Torus.PowerShellWorker)\",\"NAMPRD06\\\\Administrator (Microsoft.Office.Datacenter.Torus.PowerShellWorker)\",\"NAMPRD06\\\\Administrator (Microsoft.Office.Datacenter.Torus.PowerShellWorker)\",\"NAMPRD06\\\\Administrator (Microsoft.Office.Datacenter.Torus.PowerShellWorker)\",\"NAMPRD06\\\\Administrator (Microsoft.Office.Datacenter.Torus.PowerShellWorker)\",\"NAMPRD06\\\\Administrator (Microsoft.Office.Datacenter.Torus.PowerShellWorker)\",\"NAMPRD06\\\\Administrator (Microsoft.Office.Datacenter.Torus.PowerShellWorker)\",\"NAMPRD06\\\\Administrator (Microsoft.Office.Datacenter.Torus.PowerShellWorker)\",\"NAMPRD06\\\\Administrator (Microsoft.Office.Datacenter.Torus.PowerShellWorker)\",\"NAMPRD06\\\\Administrator (Microsoft.Office.Datacenter.Torus.PowerShellWorker)\",\"NAMPRD06\\\\Administrator (Microsoft.Office.Datacenter.Torus.PowerShellWorker)\",\"NAMPRD06\\\\Administrator (Microsoft.Office.Datacenter.Torus.PowerShellWorker)\",\"NAMPRD06\\\\Administrator (Microsoft.Office.Datacenter.Torus.PowerShellWorker)\",\"NAMPRD06\\\\Administrator (Microsoft.Office.Datacenter.Torus.PowerShellWorker)\",\"NAMPRD06\\\\Administrator (Microsoft.Office.Datacenter.Torus.PowerShellWorker)\",\"NAMPRD06\\\\Administrator (Microsoft.Office.Datacenter.Torus.PowerShellWorker)\",\"NAMPRD06\\\\Administrator (Microsoft.Office.Datacenter.Torus.PowerShellWorker)\",\"NAMPRD06\\\\Administrator (Microsoft.Office.Datacenter.Torus.PowerShellWorker)\",\"NAMPRD06\\\\Administrator (Microsoft.Office.Datacenter.Torus.PowerShellWorker)\",\"NAMPRD06\\\\Administrator (Microsoft.Office.Datacenter.Torus.PowerShellWorker)\",\"NAMPRD06\\\\Administrator (Microsoft.Office.Datacenter.Torus.PowerShellWorker)\",\"NAMPRD06\\\\Administrator (Microsoft.Office.Datacenter.Torus.PowerShellWorker)\",\"NAMPRD06\\\\Administrator (Microsoft.Office.Datacenter.Torus.PowerShellWorker)\",\"NAMPRD06\\\\Administrator (Microsoft.Office.Datacenter.Torus.PowerShellWorker)\",\"NAMPRD06\\\\Administrator (Microsoft.Office.Datacenter.Torus.PowerShellWorker)\",\"NAMPRD06\\\\Administrator (Microsoft.Office.Datacenter.Torus.PowerShellWorker)\",\"NAMPRD06\\\\Administrator (Microsoft.Office.Datacenter.Torus.PowerShellWorker)\",\"NAMPRD06\\\\Administrator (Microsoft.Office.Datacenter.Torus.PowerShellWorker)\",\"NAMPRD06\\\\Administrator (Microsoft.Office.Datacenter.Torus.PowerShellWorker)\",\"NAMPRD06\\\\Administrator (Microsoft.Office.Datacenter.Torus.PowerShellWorker)\",\"NAMPRD06\\\\Administrator (Microsoft.Office.Datacenter.Torus.PowerShellWorker)\",\"NAMPRD06\\\\Administrator (Microsoft.Office.Datacenter.Torus.PowerShellWorker)\",\"NAMPRD06\\\\Administrator (Microsoft.Office.Datacenter.Torus.PowerShellWorker)\",\"NAMPRD06\\\\Administrator (Microsoft.Office.Datacenter.Torus.PowerShellWorker)\",\"NAMPRD06\\\\Administrator (Microsoft.Office.Datacenter.Torus.PowerShellWorker)\",\"NAMPRD06\\\\Administrator (Microsoft.Office.Datacenter.Torus.PowerShellWorker)\",\"NAMPRD06\\\\Administrator (Microsoft.Office.Datacenter.Torus.PowerShellWorker)\",\"NAMPRD06\\\\Administrator (Microsoft.Office.Datacenter.Torus.PowerShellWorker)\",\"NAMPRD06\\\\Administrator (Microsoft.Office.Datacenter.Torus.PowerShellWorker)\",\"NAMPRD06\\\\Administrator (Microsoft.Office.Datacenter.Torus.PowerShellWorker)\",\"NAMPRD06\\\\Administrator (Microsoft.Office.Datacenter.Torus.PowerShellWorker)\",\"NAMPRD06\\\\Administrator (Microsoft.Office.Datacenter.Torus.PowerShellWorker)\",\"NAMPRD06\\\\Administrator (Microsoft.Office.Datacenter.Torus.PowerShellWorker)\",\"NAMPRD06\\\\Administrator (Microsoft.Office.Datacenter.Torus.PowerShellWorker)\",\"NAMPRD06\\\\Administrator (Microsoft.Office.Datacenter.Torus.PowerShellWorker)\",\"NAMPRD06\\\\Administrator (Microsoft.Office.Datacenter.Torus.PowerShellWorker)\",\"NAMPRD06\\\\Administrator (Microsoft.Office.Datacenter.Torus.PowerShellWorker)\",\"NAMPRD06\\\\Administrator (Microsoft.Office.Datacenter.Torus.PowerShellWorker)\",\"NAMPRD06\\\\Administrator (Microsoft.Office.Datacenter.Torus.PowerShellWorker)\",\"NAMPRD06\\\\Administrator (Microsoft.Office.Datacenter.Torus.PowerShellWorker)\",\"NAMPRD06\\\\Administrator (Microsoft.Office.Datacenter.Torus.PowerShellWorker)\",\"NAMPRD06\\\\Administrator (Microsoft.Office.Datacenter.Torus.PowerShellWorker)\",\"NAMPRD06\\\\Administrator (Microsoft.Office.Datacenter.Torus.PowerShellWorker)\",\"NAMPRD06\\\\Administrator (Microsoft.Office.Datacenter.Torus.PowerShellWorker)\",\"NAMPRD06\\\\Administrator (Microsoft.Office.Datacenter.Torus.PowerShellWorker)\",\"NAMPRD06\\\\Administrator (Microsoft.Office.Datacenter.Torus.PowerShellWorker)\",\"NAMPRD06\\\\Administrator (Microsoft.Office.Datacenter.Torus.PowerShellWorker)\",\"NAMPRD06\\\\Administrator (Microsoft.Office.Datacenter.Torus.PowerShellWorker)\",\"NAMPRD06\\\\Administrator (Microsoft.Office.Datacenter.Torus.PowerShellWorker)\",\"NAMPRD06\\\\Administrator (Microsoft.Office.Datacenter.Torus.PowerShellWorker)\",\"NAMPRD06\\\\Administrator (Microsoft.Office.Datacenter.Torus.PowerShellWorker)\",\"NAMPRD06\\\\Administrator (Microsoft.Office.Datacenter.Torus.PowerShellWorker)\",\"NAMPRD06\\\\Administrator (Microsoft.Office.Datacenter.Torus.PowerShellWorker)\",\"NAMPRD06\\\\Administrator (Microsoft.Office.Datacenter.Torus.PowerShellWorker)\",\"NAMPRD06\\\\Administrator (Microsoft.Office.Datacenter.Torus.PowerShellWorker)\",\"NAMPRD06\\\\Administrator (Microsoft.Office.Datacenter.Torus.PowerShellWorker)\",\"NAMPRD06\\\\Administrator (Microsoft.Office.Datacenter.Torus.PowerShellWorker)\",\"NAMPRD06\\\\Administrator (Microsoft.Office.Datacenter.Torus.PowerShellWorker)\",\"NAMPRD06\\\\Administrator (Microsoft.Office.Datacenter.Torus.PowerShellWorker)\",\"NAMPRD06\\\\Administrator (Microsoft.Office.Datacenter.Torus.PowerShellWorker)\",\"NAMPRD06\\\\Administrator (Microsoft.Office.Datacenter.Torus.PowerShellWorker)\",\"NAMPRD06\\\\Administrator (Microsoft.Office.Datacenter.Torus.PowerShellWorker)\",\"NAMPRD06\\\\Administrator (Microsoft.Office.Datacenter.Torus.PowerShellWorker)\",\"NAMPRD06\\\\Administrator (Microsoft.Office.Datacenter.Torus.PowerShellWorker)\",\"NAMPRD06\\\\Administrator (Microsoft.Office.Datacenter.Torus.PowerShellWorker)\",\"NAMPRD06\\\\Administrator (Microsoft.Office.Datacenter.Torus.PowerShellWorker)\",\"NAMPRD06\\\\Administrator (Microsoft.Office.Datacenter.Torus.PowerShellWorker)\",\"NAMPRD06\\\\Administrator (Microsoft.Office.Datacenter.Torus.PowerShellWorker)\",\"NAMPRD06\\\\Administrator (Microsoft.Office.Datacenter.Torus.PowerShellWorker)\",\"NAMPRD06\\\\Administrator (Microsoft.Office.Datacenter.Torus.PowerShellWorker)\",\"NAMPRD06\\\\Administrator (Microsoft.Office.Datacenter.Torus.PowerShellWorker)\",\"NAMPRD06\\\\Administrator (Microsoft.Office.Datacenter.Torus.PowerShellWorker)\",\"NAMPRD06\\\\Administrator (Microsoft.Office.Datacenter.Torus.PowerShellWorker)\",\"NAMPRD06\\\\Administrator (Microsoft.Office.Datacenter.Torus.PowerShellWorker)\",\"NAMPRD06\\\\Administrator (Microsoft.Office.Datacenter.Torus.PowerShellWorker)\",\"NAMPRD06\\\\Administrator (Microsoft.Office.Datacenter.Torus.PowerShellWorker)\",\"NAMPRD06\\\\Administrator (Microsoft.Office.Datacenter.Torus.PowerShellWorker)\",\"NAMPRD06\\\\Administrator (Microsoft.Office.Datacenter.Torus.PowerShellWorker)\",\"NAMPRD06\\\\Administrator (Microsoft.Office.Datacenter.Torus.PowerShellWorker)\",\"NAMPRD06\\\\Administrator (Microsoft.Office.Datacenter.Torus.PowerShellWorker)\",\"NAMPRD06\\\\Administrator (Microsoft.Office.Datacenter.Torus.PowerShellWorker)\",\"NAMPRD06\\\\Administrator (Microsoft.Office.Datacenter.Torus.PowerShellWorker)\",\"NAMPRD06\\\\Administrator (Microsoft.Office.Datacenter.Torus.PowerShellWorker)\",\"NAMPRD06\\\\Administrator (Microsoft.Office.Datacenter.Torus.PowerShellWorker)\",\"NAMPRD06\\\\Administrator (Microsoft.Office.Datacenter.Torus.PowerShellWorker)\",\"NAMPRD06\\\\Administrator (Microsoft.Office.Datacenter.Torus.PowerShellWorker)\",\"NAMPRD06\\\\Administrator (Microsoft.Office.Datacenter.Torus.PowerShellWorker)\",\"timvic@contoso.onmicrosoft.com\"],\"begin\":{\"__ndarray__\":\"AADjw0std0IAAG/EVS13QgAACZydLXdCAAA2050td0IAgPEgpi13QgAAukLwLXdCAACTyPotd0IAgP3nQC53QgCA4T9BLndCAABjW0wud0IAAEsmlC53QgAAC27rLndCAABrmfYud0IAgOMbOi93QgCAJ2Q6L3dCAIAG9UIvd0IAgMLqiy93QgAAvzaWL3dCAICsgpYvd0IAgOzx3C93QgAASpzmL3dCAICc7OYvd0IAgOHgLzB3QgAAUiwwMHdCAICKbjowd0IAAK9pgTB3QgCAaiKNMHdCAIAW99Qwd0IAAC9u3jB3QgCA8KUoMXdCAIAx8TIxd0IAgJRveTF3QgCAMYKDMXdCAIDxI8wxd0IAAHFv1jF3QgCAdRwdMndCAAA93yYyd0IAAMwacDJ3QgAAL8LEMndCAACUE80yd0IAgGtxFzN3QgCAQmVqM3dCAICN3nMzd0IAAGpiuzN3QgAABpDEM3dCAABu0sQzd0IAgP07DzR3QgAA86MYNHdCAICZoWI0d0IAANlWazR3QgAAaqdrNHdCAACdG7U0d0IAAFI2vTR3QgAA6q4GNXdCAAAMnQ81d0IAAMTsVzV3QgCAwERgNXdCAICRtGA1d0IAgNlvqDV3QgCAhqmyNXdCAIBr7LI1d0IAgJp4BjZ3QgCAl7lZNndCAACt9aA2d0IAgBLgrTZ3QgAAEoXyNndCAID9Qfw2d0IAgIQrRTd3QgAALYVPN3dCAIBY4Zc3d0IAgDclmDd3QgAAyQKfN3dCAIC5eqI3d0IAgLom6zd3QgCA/GjzN3dCAAD87zw4d0IAACwjSDh3QgAA/PGPOHdCAIAeSpA4d0IAgB6RmTh3QgCA6OPgOHdCAIDAfus4d0IAgGoAMzl3QgCA2Hw+OXdCAIDhuT45d0IAgKICPzl3QgAAO0qEOXdCAIC4bIc5d0IAAINzkDl3QgCAWpmQOXdCAIAzpdg5d0IAAOap4jl3QgAAuS0sOndCAICydyw6d0IAAIcvNDp3QgCAR/99OndCAIA6V4g6d0IAgO+hiDp3QgCAKY/POndCAIBrv9o6d0IAAPCqITt3QgAAh/ohO3dCAAD6kCw7d0IAgG3tcjt3QgCA8BuAO3dCAAD6Wcc7d0IAAEtP0Tt3QgCA9MnSO3dCAAC/U9s7d0IAgL2A+Dt3QgCA9mwZPHdCAICKvyM8d0IAgBDfKDx3QgAAF3ctPHdCAIC+qFY8d0IAgF6sWDx3QgAA9KxgPHdCAADnb248d0IAgIBGbzx3QgCAFv52PHdCAIB3pr08d0IAACb/xzx3QgCACN7WPHdCAABU7g49d0IAAMlUGj13QgAAKJhjPXdCAICoUW09d0IAgAqVbT13QgCAMJ23PXdCAADVXL89d0IAgN4dBj53QgAAubYSPndCAAAe+Vs+d0IAAKkUZT53QgCARfasPndCAIBDW7g+d0IAAI1JUD93QgCAFOdaP3dCAAAAp6I/d0IAgLzNrT93QgAAkIv2P3dCAAC3w/Y/d0IAAECGAEB3QgAAyjBJQHdCAAAUMFVAd0IAgNk3wzl3Qg==\",\"dtype\":\"float64\",\"order\":\"little\",\"shape\":[146]},\"color\":[\"navy\",\"navy\",\"navy\",\"navy\",\"navy\",\"navy\",\"navy\",\"navy\",\"navy\",\"navy\",\"navy\",\"navy\",\"navy\",\"navy\",\"navy\",\"navy\",\"navy\",\"navy\",\"navy\",\"navy\",\"navy\",\"navy\",\"navy\",\"navy\",\"navy\",\"navy\",\"navy\",\"navy\",\"navy\",\"navy\",\"navy\",\"navy\",\"navy\",\"navy\",\"navy\",\"navy\",\"navy\",\"navy\",\"navy\",\"navy\",\"navy\",\"navy\",\"navy\",\"navy\",\"navy\",\"navy\",\"navy\",\"navy\",\"navy\",\"navy\",\"navy\",\"navy\",\"navy\",\"navy\",\"navy\",\"navy\",\"navy\",\"navy\",\"navy\",\"navy\",\"navy\",\"navy\",\"navy\",\"navy\",\"navy\",\"navy\",\"navy\",\"navy\",\"navy\",\"navy\",\"navy\",\"navy\",\"navy\",\"navy\",\"navy\",\"navy\",\"navy\",\"navy\",\"navy\",\"navy\",\"navy\",\"navy\",\"navy\",\"navy\",\"navy\",\"navy\",\"navy\",\"navy\",\"navy\",\"navy\",\"navy\",\"navy\",\"navy\",\"navy\",\"navy\",\"navy\",\"navy\",\"navy\",\"navy\",\"navy\",\"navy\",\"navy\",\"navy\",\"navy\",\"navy\",\"navy\",\"navy\",\"navy\",\"navy\",\"navy\",\"navy\",\"navy\",\"navy\",\"navy\",\"navy\",\"navy\",\"navy\",\"navy\",\"navy\",\"navy\",\"navy\",\"navy\",\"navy\",\"navy\",\"navy\",\"navy\",\"navy\",\"navy\",\"navy\",\"navy\",\"navy\",\"navy\",\"navy\",\"navy\",\"navy\",\"navy\",\"navy\",\"navy\",\"navy\",\"navy\",\"navy\",\"navy\",\"navy\",\"navy\",\"navy\",\"navy\"],\"index\":[0,1,2,3,4,5,6,7,8,9,10,11,12,13,14,15,16,17,18,19,20,21,22,23,24,25,26,27,28,29,30,31,32,33,34,35,36,37,38,39,40,41,42,43,44,45,46,47,48,49,50,51,52,53,54,55,56,57,58,59,60,61,62,63,64,65,66,67,68,69,70,71,72,73,74,75,76,77,78,79,80,81,82,83,84,85,86,87,88,89,90,91,92,93,94,95,96,97,98,99,100,101,102,103,104,105,106,107,108,109,110,111,112,113,114,115,116,117,118,119,120,121,122,123,124,125,126,127,128,129,130,131,132,133,134,135,136,137,138,139,140,141,142,143,144,145],\"rarest_window3\":[[\"Cmd(name='Set-ConditionalAccessPolicy', params={'Identity': 'seccxpninja.onmicrosoft.com\\\\\\\\bcd93f74-64fd-4042-a3ae-ee6d48886d6d', 'PolicyDetails': '{\\\"Version\\\":0,\\\"State\\\":\\\"Enabled\\\",\\\"Conditions\\\":{\\\"Applications\\\":{\\\"Include\\\":[{\\\"Applications\\\":[\\\"c9a559d2-7aab-4f13-a6ed-e7e9c52aec87\\\"]}]},\\\"Users\\\":{\\\"Include\\\":[{\\\"Users\\\":[\\\"bdb72692-2275-412b-8af0-ea21c2ebd174\\\",\\\"eababd92-9dc7-40e3-9359-6c106522db19\\\"]}]}},\\\"SessionControls\\\":[\\\"CloudAppSecurity\\\"],\\\"PersistentBrowserSessionMode\\\":\\\"NotSet\\\",\\\"EnforceAllPoliciesForEas\\\":false,\\\"IncludeOtherLegacyClientTypeForEvaluation\\\":false,\\\"CasSessionControlType\\\":3}', 'PolicyLastUpdatedTime': '6/21/2020 2:26:14 AM', 'TenantDefaultPolicy': '', 'DisplayName': 'Form MCAS', 'PolicyIdentifierString': ''})\",\"Cmd(name='Set-ConditionalAccessPolicy', params={'Identity': 'seccxpninja.onmicrosoft.com\\\\\\\\83a057fb-dbca-4ba8-bb5f-0ce6d6e7cff5', 'PolicyDetails': '{\\\"Version\\\":0,\\\"State\\\":\\\"Enabled\\\",\\\"Conditions\\\":{\\\"Applications\\\":{\\\"Include\\\":[{\\\"Acrs\\\":[\\\"urn:microsoft:req1\\\"]}]},\\\"Users\\\":{\\\"Include\\\":[{\\\"Users\\\":[\\\"eababd92-9dc7-40e3-9359-6c106522db19\\\"]}]}},\\\"Controls\\\":[{\\\"Control\\\":[\\\"Mfa\\\"]}],\\\"PersistentBrowserSessionMode\\\":\\\"NotSet\\\",\\\"EnforceAllPoliciesForEas\\\":false,\\\"IncludeOtherLegacyClientTypeForEvaluation\\\":false}', 'PolicyLastUpdatedTime': '6/21/2020 2:26:14 AM', 'TenantDefaultPolicy': '', 'DisplayName': 'MeganB MCAS Step-up', 'PolicyIdentifierString': ''})\"],[\"Cmd(name='Set-ConditionalAccessPolicy', params={'Identity': 'seccxpninja.onmicrosoft.com\\\\\\\\e183bd29-a3a3-4f91-a5a3-b83b21a544df', 'PolicyDetails': '{\\\"Version\\\":0,\\\"State\\\":\\\"Enabled\\\",\\\"Conditions\\\":{\\\"Applications\\\":{\\\"Include\\\":[{\\\"Applications\\\":[\\\"00000002-0000-0ff1-ce00-000000000000\\\"]}]},\\\"Users\\\":{\\\"Include\\\":[{\\\"Users\\\":[\\\"2935e535-8fdf-4217-865b-e084cb7214f1\\\"]}]}},\\\"SessionControls\\\":[\\\"AppEnforcedRestrictions\\\"],\\\"PersistentBrowserSessionMode\\\":\\\"NotSet\\\",\\\"EnforceAllPoliciesForEas\\\":false,\\\"IncludeOtherLegacyClientTypeForEvaluation\\\":false}', 'PolicyLastUpdatedTime': '6/21/2020 5:24:55 AM', 'TenantDefaultPolicy': '', 'DisplayName': 'JulianI Exchange native controls', 'PolicyIdentifierString': ''})\",\"Cmd(name='Set-ConditionalAccessPolicy', params={'Identity': 'seccxpninja.onmicrosoft.com\\\\\\\\8837fdaa-aaeb-4432-9622-43f6f583d583', 'PolicyDetails': '{\\\"KnownNetworkPolicies\\\":{\\\"NetworkName\\\":\\\"BE-Office\\\",\\\"NetworkId\\\":\\\"b98b9088-ce88-4fae-80fb-5b58cb1ce685\\\",\\\"CidrIpRanges\\\":[\\\"109.88.218.99/28\\\"],\\\"CountryIsoCodes\\\":null,\\\"Categories\\\":[],\\\"ApplyToUnknownCountry\\\":false}}', 'PolicyLastUpdatedTime': '6/21/2020 5:24:55 AM', 'TenantDefaultPolicy': '6', 'DisplayName': 'Known Networks List', 'PolicyIdentifierString': '3/19/2020 7:45:08 PM'})\"],[\"Cmd(name='Set-ConditionalAccessPolicy', params={'Identity': 'seccxpninja.onmicrosoft.com\\\\\\\\8872f6fb-da88-4b63-bcc7-17247669596b', 'PolicyDetails': '{\\\"Version\\\":0,\\\"State\\\":\\\"Enabled\\\",\\\"Conditions\\\":{\\\"Applications\\\":{\\\"Include\\\":[{\\\"Applications\\\":[\\\"00000002-0000-0ff1-ce00-000000000000\\\",\\\"09abbdfd-ed23-44ee-a2d9-a627aa1c90f3\\\",\\\"cc15fd57-2c6c-4117-a88c-83b1d56b4bbe\\\",\\\"00000003-0000-0ff1-ce00-000000000000\\\",\\\"00000005-0000-0ff1-ce00-000000000000\\\"]}]},\\\"Users\\\":{\\\"Include\\\":[{\\\"Users\\\":[\\\"eababd92-9dc7-40e3-9359-6c106522db19\\\"]}]}},\\\"SessionControls\\\":[\\\"CloudAppSecurity\\\"],\\\"PersistentBrowserSessionMode\\\":\\\"NotSet\\\",\\\"EnforceAllPoliciesForEas\\\":false,\\\"IncludeOtherLegacyClientTypeForEvaluation\\\":false,\\\"CasSessionControlType\\\":1}', 'PolicyLastUpdatedTime': '6/22/2020 2:19:55 AM', 'TenantDefaultPolicy': '', 'DisplayName': 'MeganB MCAS Proxy', 'PolicyIdentifierString': ''})\",\"Cmd(name='Set-ConditionalAccessPolicy', params={'Identity': 'seccxpninja.onmicrosoft.com\\\\\\\\8872f6fb-da88-4b63-bcc7-17247669596b', 'PolicyDetails': '{\\\"Version\\\":0,\\\"State\\\":\\\"Enabled\\\",\\\"Conditions\\\":{\\\"Applications\\\":{\\\"Include\\\":[{\\\"Applications\\\":[\\\"00000002-0000-0ff1-ce00-000000000000\\\",\\\"09abbdfd-ed23-44ee-a2d9-a627aa1c90f3\\\",\\\"cc15fd57-2c6c-4117-a88c-83b1d56b4bbe\\\",\\\"00000003-0000-0ff1-ce00-000000000000\\\",\\\"00000005-0000-0ff1-ce00-000000000000\\\"]}]},\\\"Users\\\":{\\\"Include\\\":[{\\\"Users\\\":[\\\"eababd92-9dc7-40e3-9359-6c106522db19\\\"]}]}},\\\"SessionControls\\\":[\\\"CloudAppSecurity\\\"],\\\"PersistentBrowserSessionMode\\\":\\\"NotSet\\\",\\\"EnforceAllPoliciesForEas\\\":false,\\\"IncludeOtherLegacyClientTypeForEvaluation\\\":false,\\\"CasSessionControlType\\\":1}', 'PolicyLastUpdatedTime': '6/22/2020 2:19:55 AM', 'TenantDefaultPolicy': '', 'DisplayName': 'MeganB MCAS Proxy', 'PolicyIdentifierString': ''})\"],[\"Cmd(name='Set-ConditionalAccessPolicy', params={'Identity': 'seccxpninja.onmicrosoft.com\\\\\\\\3b13ea3c-c733-4eb8-bd19-67d308b2ea04', 'PolicyDetails': '{\\\"Version\\\":0,\\\"CreatedDateTime\\\":\\\"2020-05-19T13:34:15.2394934Z\\\",\\\"ModifiedDateTime\\\":\\\"2020-05-19T13:39:04.7333386Z\\\",\\\"State\\\":\\\"Reporting\\\",\\\"Conditions\\\":{\\\"Applications\\\":{\\\"Include\\\":[{\\\"Applications\\\":[\\\"None\\\"]}]},\\\"Users\\\":{\\\"Include\\\":[{\\\"Users\\\":[\\\"Guests\\\"]}]},\\\"DevicePlatforms\\\":{\\\"Include\\\":[{\\\"DevicePlatforms\\\":[\\\"All\\\"]}],\\\"Exclude\\\":[{\\\"DevicePlatforms\\\":[\\\"Android\\\",\\\"iOS\\\",\\\"macOS\\\"]}]},\\\"ClientTypes\\\":{\\\"Include\\\":[{\\\"ClientTypes\\\":[\\\"Browser\\\",\\\"Native\\\"]}]}},\\\"Controls\\\":[{\\\"Control\\\":[\\\"Mfa\\\",\\\"RequireCompliantDevice\\\"]}]}', 'PolicyLastUpdatedTime': '6/22/2020 2:19:59 AM', 'TenantDefaultPolicy': '', 'DisplayName': 'Yanivsh -CA Test', 'PolicyIdentifierString': ''})\",\"Cmd(name='Set-ConditionalAccessPolicy', params={'Identity': 'seccxpninja.onmicrosoft.com\\\\\\\\8837fdaa-aaeb-4432-9622-43f6f583d583', 'PolicyDetails': '{\\\"KnownNetworkPolicies\\\":{\\\"NetworkName\\\":\\\"BE-Office\\\",\\\"NetworkId\\\":\\\"b98b9088-ce88-4fae-80fb-5b58cb1ce685\\\",\\\"CidrIpRanges\\\":[\\\"109.88.218.99/28\\\"],\\\"CountryIsoCodes\\\":null,\\\"Categories\\\":[],\\\"ApplyToUnknownCountry\\\":false}}', 'PolicyLastUpdatedTime': '6/22/2020 2:19:59 AM', 'TenantDefaultPolicy': '6', 'DisplayName': 'Known Networks List', 'PolicyIdentifierString': '3/19/2020 7:45:08 PM'})\"],[\"Cmd(name='Set-ConditionalAccessPolicy', params={'Identity': 'seccxpninja.onmicrosoft.com\\\\\\\\bcd93f74-64fd-4042-a3ae-ee6d48886d6d', 'PolicyDetails': '{\\\"Version\\\":0,\\\"State\\\":\\\"Enabled\\\",\\\"Conditions\\\":{\\\"Applications\\\":{\\\"Include\\\":[{\\\"Applications\\\":[\\\"c9a559d2-7aab-4f13-a6ed-e7e9c52aec87\\\"]}]},\\\"Users\\\":{\\\"Include\\\":[{\\\"Users\\\":[\\\"bdb72692-2275-412b-8af0-ea21c2ebd174\\\",\\\"eababd92-9dc7-40e3-9359-6c106522db19\\\"]}]}},\\\"SessionControls\\\":[\\\"CloudAppSecurity\\\"],\\\"PersistentBrowserSessionMode\\\":\\\"NotSet\\\",\\\"EnforceAllPoliciesForEas\\\":false,\\\"IncludeOtherLegacyClientTypeForEvaluation\\\":false,\\\"CasSessionControlType\\\":3}', 'PolicyLastUpdatedTime': '6/22/2020 4:47:52 AM', 'TenantDefaultPolicy': '', 'DisplayName': 'Form MCAS', 'PolicyIdentifierString': ''})\",\"Cmd(name='Set-ConditionalAccessPolicy', params={'Identity': 'seccxpninja.onmicrosoft.com\\\\\\\\3b13ea3c-c733-4eb8-bd19-67d308b2ea04', 'PolicyDetails': '{\\\"Version\\\":0,\\\"CreatedDateTime\\\":\\\"2020-05-19T13:34:15.2394934Z\\\",\\\"ModifiedDateTime\\\":\\\"2020-05-19T13:39:04.7333386Z\\\",\\\"State\\\":\\\"Reporting\\\",\\\"Conditions\\\":{\\\"Applications\\\":{\\\"Include\\\":[{\\\"Applications\\\":[\\\"None\\\"]}]},\\\"Users\\\":{\\\"Include\\\":[{\\\"Users\\\":[\\\"Guests\\\"]}]},\\\"DevicePlatforms\\\":{\\\"Include\\\":[{\\\"DevicePlatforms\\\":[\\\"All\\\"]}],\\\"Exclude\\\":[{\\\"DevicePlatforms\\\":[\\\"Android\\\",\\\"iOS\\\",\\\"macOS\\\"]}]},\\\"ClientTypes\\\":{\\\"Include\\\":[{\\\"ClientTypes\\\":[\\\"Browser\\\",\\\"Native\\\"]}]}},\\\"Controls\\\":[{\\\"Control\\\":[\\\"Mfa\\\",\\\"RequireCompliantDevice\\\"]}]}', 'PolicyLastUpdatedTime': '6/22/2020 4:47:53 AM', 'TenantDefaultPolicy': '', 'DisplayName': 'Yanivsh -CA Test', 'PolicyIdentifierString': ''})\"],[\"Cmd(name='Set-ConditionalAccessPolicy', params={'Identity': 'seccxpninja.onmicrosoft.com\\\\\\\\ba36f0a4-6d73-4ba4-9282-3b3c14575e36', 'PolicyDetails': '{\\\"Version\\\":0,\\\"ModifiedDateTime\\\":\\\"2020-05-19T13:31:41.7083504Z\\\",\\\"State\\\":\\\"Disabled\\\",\\\"Conditions\\\":{\\\"Applications\\\":{\\\"Include\\\":[{\\\"Applications\\\":[\\\"00000002-0000-0ff1-ce00-000000000000\\\",\\\"00000003-0000-0ff1-ce00-000000000000\\\"]}]},\\\"Users\\\":{\\\"Include\\\":[{\\\"Users\\\":[\\\"2935e535-8fdf-4217-865b-e084cb7214f1\\\"]}]},\\\"DevicePlatforms\\\":{\\\"Include\\\":[{\\\"DevicePlatforms\\\":[\\\"All\\\"]}],\\\"Exclude\\\":[{\\\"DevicePlatforms\\\":[\\\"Android\\\",\\\"iOS\\\",\\\"macOS\\\"]}]},\\\"ClientTypes\\\":{\\\"Include\\\":[{\\\"ClientTypes\\\":[\\\"Browser\\\",\\\"Native\\\"]}]}},\\\"SessionControls\\\":[\\\"CloudAppSecurity\\\"],\\\"CasSessionControlType\\\":1}', 'PolicyLastUpdatedTime': '6/23/2020 2:22:04 AM', 'TenantDefaultPolicy': '', 'DisplayName': 'Block Access JulianI', 'PolicyIdentifierString': ''})\",\"Cmd(name='Set-ConditionalAccessPolicy', params={'Identity': 'seccxpninja.onmicrosoft.com\\\\\\\\6490d00c-7ba1-42cf-aa88-99eb71d53bf7', 'PolicyDetails': '{\\\"Version\\\":0,\\\"LastUpdatedTimestamp\\\":\\\"2020-06-11T12:45:19.4695224Z\\\",\\\"State\\\":\\\"Disabled\\\",\\\"SignInFrequency\\\":\\\"NotSet\\\",\\\"PersistentBrowserSessionMode\\\":\\\"NotSet\\\"}', 'PolicyLastUpdatedTime': '6/23/2020 2:22:03 AM', 'TenantDefaultPolicy': '18', 'DisplayName': 'Default Policy', 'PolicyIdentifierString': '5/19/2020 1:39:05 PM'})\"],[\"Cmd(name='Set-ConditionalAccessPolicy', params={'Identity': 'seccxpninja.onmicrosoft.com\\\\\\\\83a057fb-dbca-4ba8-bb5f-0ce6d6e7cff5', 'PolicyDetails': '{\\\"Version\\\":0,\\\"State\\\":\\\"Enabled\\\",\\\"Conditions\\\":{\\\"Applications\\\":{\\\"Include\\\":[{\\\"Acrs\\\":[\\\"urn:microsoft:req1\\\"]}]},\\\"Users\\\":{\\\"Include\\\":[{\\\"Users\\\":[\\\"eababd92-9dc7-40e3-9359-6c106522db19\\\"]}]}},\\\"Controls\\\":[{\\\"Control\\\":[\\\"Mfa\\\"]}],\\\"PersistentBrowserSessionMode\\\":\\\"NotSet\\\",\\\"EnforceAllPoliciesForEas\\\":false,\\\"IncludeOtherLegacyClientTypeForEvaluation\\\":false}', 'PolicyLastUpdatedTime': '6/23/2020 5:22:45 AM', 'TenantDefaultPolicy': '', 'DisplayName': 'MeganB MCAS Step-up', 'PolicyIdentifierString': ''})\",\"Cmd(name='Set-ConditionalAccessPolicy', params={'Identity': 'seccxpninja.onmicrosoft.com\\\\\\\\bcd93f74-64fd-4042-a3ae-ee6d48886d6d', 'PolicyDetails': '{\\\"Version\\\":0,\\\"State\\\":\\\"Enabled\\\",\\\"Conditions\\\":{\\\"Applications\\\":{\\\"Include\\\":[{\\\"Applications\\\":[\\\"c9a559d2-7aab-4f13-a6ed-e7e9c52aec87\\\"]}]},\\\"Users\\\":{\\\"Include\\\":[{\\\"Users\\\":[\\\"bdb72692-2275-412b-8af0-ea21c2ebd174\\\",\\\"eababd92-9dc7-40e3-9359-6c106522db19\\\"]}]}},\\\"SessionControls\\\":[\\\"CloudAppSecurity\\\"],\\\"PersistentBrowserSessionMode\\\":\\\"NotSet\\\",\\\"EnforceAllPoliciesForEas\\\":false,\\\"IncludeOtherLegacyClientTypeForEvaluation\\\":false,\\\"CasSessionControlType\\\":3}', 'PolicyLastUpdatedTime': '6/23/2020 5:22:45 AM', 'TenantDefaultPolicy': '', 'DisplayName': 'Form MCAS', 'PolicyIdentifierString': ''})\"],[\"Cmd(name='Set-ConditionalAccessPolicy', params={'Identity': 'seccxpninja.onmicrosoft.com\\\\\\\\8872f6fb-da88-4b63-bcc7-17247669596b', 'PolicyDetails': '{\\\"Version\\\":0,\\\"State\\\":\\\"Enabled\\\",\\\"Conditions\\\":{\\\"Applications\\\":{\\\"Include\\\":[{\\\"Applications\\\":[\\\"00000002-0000-0ff1-ce00-000000000000\\\",\\\"09abbdfd-ed23-44ee-a2d9-a627aa1c90f3\\\",\\\"cc15fd57-2c6c-4117-a88c-83b1d56b4bbe\\\",\\\"00000003-0000-0ff1-ce00-000000000000\\\",\\\"00000005-0000-0ff1-ce00-000000000000\\\"]}]},\\\"Users\\\":{\\\"Include\\\":[{\\\"Users\\\":[\\\"eababd92-9dc7-40e3-9359-6c106522db19\\\"]}]}},\\\"SessionControls\\\":[\\\"CloudAppSecurity\\\"],\\\"PersistentBrowserSessionMode\\\":\\\"NotSet\\\",\\\"EnforceAllPoliciesForEas\\\":false,\\\"IncludeOtherLegacyClientTypeForEvaluation\\\":false,\\\"CasSessionControlType\\\":1}', 'PolicyLastUpdatedTime': '6/24/2020 1:55:12 AM', 'TenantDefaultPolicy': '', 'DisplayName': 'MeganB MCAS Proxy', 'PolicyIdentifierString': ''})\",\"Cmd(name='Set-ConditionalAccessPolicy', params={'Identity': 'seccxpninja.onmicrosoft.com\\\\\\\\8872f6fb-da88-4b63-bcc7-17247669596b', 'PolicyDetails': '{\\\"Version\\\":0,\\\"State\\\":\\\"Enabled\\\",\\\"Conditions\\\":{\\\"Applications\\\":{\\\"Include\\\":[{\\\"Applications\\\":[\\\"00000002-0000-0ff1-ce00-000000000000\\\",\\\"09abbdfd-ed23-44ee-a2d9-a627aa1c90f3\\\",\\\"cc15fd57-2c6c-4117-a88c-83b1d56b4bbe\\\",\\\"00000003-0000-0ff1-ce00-000000000000\\\",\\\"00000005-0000-0ff1-ce00-000000000000\\\"]}]},\\\"Users\\\":{\\\"Include\\\":[{\\\"Users\\\":[\\\"eababd92-9dc7-40e3-9359-6c106522db19\\\"]}]}},\\\"SessionControls\\\":[\\\"CloudAppSecurity\\\"],\\\"PersistentBrowserSessionMode\\\":\\\"NotSet\\\",\\\"EnforceAllPoliciesForEas\\\":false,\\\"IncludeOtherLegacyClientTypeForEvaluation\\\":false,\\\"CasSessionControlType\\\":1}', 'PolicyLastUpdatedTime': '6/24/2020 1:55:12 AM', 'TenantDefaultPolicy': '', 'DisplayName': 'MeganB MCAS Proxy', 'PolicyIdentifierString': ''})\"],[\"Cmd(name='Set-ConditionalAccessPolicy', params={'Identity': 'seccxpninja.onmicrosoft.com\\\\\\\\b2915792-0396-4abe-94ec-e17fa17243c5', 'PolicyDetails': '{\\\"Version\\\":0,\\\"State\\\":\\\"Enabled\\\",\\\"Conditions\\\":{\\\"Applications\\\":{\\\"Include\\\":[{\\\"Applications\\\":[\\\"94c63fef-13a3-47bc-8074-75af8c65887a\\\",\\\"c9a559d2-7aab-4f13-a6ed-e7e9c52aec87\\\"]}]},\\\"Users\\\":{\\\"Include\\\":[{\\\"Users\\\":[\\\"bdb72692-2275-412b-8af0-ea21c2ebd174\\\",\\\"eababd92-9dc7-40e3-9359-6c106522db19\\\"]}]},\\\"SignInRisks\\\":{\\\"Include\\\":[{\\\"SignInRisks\\\":[\\\"High\\\",\\\"Medium\\\",\\\"Low\\\"]}]}},\\\"SessionControls\\\":[\\\"CloudAppSecurity\\\"],\\\"PersistentBrowserSessionMode\\\":\\\"NotSet\\\",\\\"EnforceAllPoliciesForEas\\\":false,\\\"IncludeOtherLegacyClientTypeForEvaluation\\\":false,\\\"CasSessionControlType\\\":3}', 'PolicyLastUpdatedTime': '6/24/2020 1:55:13 AM', 'TenantDefaultPolicy': '', 'DisplayName': 'GBB demo', 'PolicyIdentifierString': ''})\",\"Cmd(name='Set-ConditionalAccessPolicy', params={'Identity': 'seccxpninja.onmicrosoft.com\\\\\\\\bcd93f74-64fd-4042-a3ae-ee6d48886d6d', 'PolicyDetails': '{\\\"Version\\\":0,\\\"State\\\":\\\"Enabled\\\",\\\"Conditions\\\":{\\\"Applications\\\":{\\\"Include\\\":[{\\\"Applications\\\":[\\\"c9a559d2-7aab-4f13-a6ed-e7e9c52aec87\\\"]}]},\\\"Users\\\":{\\\"Include\\\":[{\\\"Users\\\":[\\\"bdb72692-2275-412b-8af0-ea21c2ebd174\\\",\\\"eababd92-9dc7-40e3-9359-6c106522db19\\\"]}]}},\\\"SessionControls\\\":[\\\"CloudAppSecurity\\\"],\\\"PersistentBrowserSessionMode\\\":\\\"NotSet\\\",\\\"EnforceAllPoliciesForEas\\\":false,\\\"IncludeOtherLegacyClientTypeForEvaluation\\\":false,\\\"CasSessionControlType\\\":3}', 'PolicyLastUpdatedTime': '6/24/2020 1:55:13 AM', 'TenantDefaultPolicy': '', 'DisplayName': 'Form MCAS', 'PolicyIdentifierString': ''})\"],[\"Cmd(name='Set-ConditionalAccessPolicy', params={'Identity': 'seccxpninja.onmicrosoft.com\\\\\\\\8872f6fb-da88-4b63-bcc7-17247669596b', 'PolicyDetails': '{\\\"Version\\\":0,\\\"State\\\":\\\"Enabled\\\",\\\"Conditions\\\":{\\\"Applications\\\":{\\\"Include\\\":[{\\\"Applications\\\":[\\\"00000002-0000-0ff1-ce00-000000000000\\\",\\\"09abbdfd-ed23-44ee-a2d9-a627aa1c90f3\\\",\\\"cc15fd57-2c6c-4117-a88c-83b1d56b4bbe\\\",\\\"00000003-0000-0ff1-ce00-000000000000\\\",\\\"00000005-0000-0ff1-ce00-000000000000\\\"]}]},\\\"Users\\\":{\\\"Include\\\":[{\\\"Users\\\":[\\\"eababd92-9dc7-40e3-9359-6c106522db19\\\"]}]}},\\\"SessionControls\\\":[\\\"CloudAppSecurity\\\"],\\\"PersistentBrowserSessionMode\\\":\\\"NotSet\\\",\\\"EnforceAllPoliciesForEas\\\":false,\\\"IncludeOtherLegacyClientTypeForEvaluation\\\":false,\\\"CasSessionControlType\\\":1}', 'PolicyLastUpdatedTime': '6/24/2020 5:12:12 AM', 'TenantDefaultPolicy': '', 'DisplayName': 'MeganB MCAS Proxy', 'PolicyIdentifierString': ''})\",\"Cmd(name='Set-ConditionalAccessPolicy', params={'Identity': 'seccxpninja.onmicrosoft.com\\\\\\\\4c5a5ea0-5d9f-4730-baaa-7a69cf29ef26', 'PolicyDetails': '{\\\"Version\\\":0,\\\"State\\\":\\\"Enabled\\\",\\\"Conditions\\\":{\\\"Applications\\\":{\\\"Include\\\":[{\\\"Applications\\\":[\\\"All\\\"]}]},\\\"Users\\\":{\\\"Include\\\":[{\\\"Users\\\":[\\\"bdb72692-2275-412b-8af0-ea21c2ebd174\\\"]}]}},\\\"Controls\\\":[{\\\"Control\\\":[\\\"Mfa\\\"]}],\\\"PersistentBrowserSessionMode\\\":\\\"NotSet\\\",\\\"EnforceAllPoliciesForEas\\\":false,\\\"IncludeOtherLegacyClientTypeForEvaluation\\\":false}', 'PolicyLastUpdatedTime': '6/24/2020 5:12:15 AM', 'TenantDefaultPolicy': '', 'DisplayName': 'Semolen - Admin MFA', 'PolicyIdentifierString': ''})\"],[\"Cmd(name='Set-ConditionalAccessPolicy', params={'Identity': 'seccxpninja.onmicrosoft.com\\\\\\\\e183bd29-a3a3-4f91-a5a3-b83b21a544df', 'PolicyDetails': '{\\\"Version\\\":0,\\\"State\\\":\\\"Enabled\\\",\\\"Conditions\\\":{\\\"Applications\\\":{\\\"Include\\\":[{\\\"Applications\\\":[\\\"00000002-0000-0ff1-ce00-000000000000\\\"]}]},\\\"Users\\\":{\\\"Include\\\":[{\\\"Users\\\":[\\\"2935e535-8fdf-4217-865b-e084cb7214f1\\\"]}]}},\\\"SessionControls\\\":[\\\"AppEnforcedRestrictions\\\"],\\\"PersistentBrowserSessionMode\\\":\\\"NotSet\\\",\\\"EnforceAllPoliciesForEas\\\":false,\\\"IncludeOtherLegacyClientTypeForEvaluation\\\":false}', 'PolicyLastUpdatedTime': '6/25/2020 2:07:28 AM', 'TenantDefaultPolicy': '', 'DisplayName': 'JulianI Exchange native controls', 'PolicyIdentifierString': ''})\",\"Cmd(name='Set-ConditionalAccessPolicy', params={'Identity': 'seccxpninja.onmicrosoft.com\\\\\\\\8837fdaa-aaeb-4432-9622-43f6f583d583', 'PolicyDetails': '{\\\"KnownNetworkPolicies\\\":{\\\"NetworkName\\\":\\\"BE-Office\\\",\\\"NetworkId\\\":\\\"b98b9088-ce88-4fae-80fb-5b58cb1ce685\\\",\\\"CidrIpRanges\\\":[\\\"109.88.218.99/28\\\"],\\\"CountryIsoCodes\\\":null,\\\"Categories\\\":[],\\\"ApplyToUnknownCountry\\\":false}}', 'PolicyLastUpdatedTime': '6/25/2020 2:07:28 AM', 'TenantDefaultPolicy': '6', 'DisplayName': 'Known Networks List', 'PolicyIdentifierString': '3/19/2020 7:45:08 PM'})\"],[\"Cmd(name='Set-ConditionalAccessPolicy', params={'Identity': 'seccxpninja.onmicrosoft.com\\\\\\\\235bec94-f744-48ac-8314-5675953d2def', 'PolicyDetails': '{\\\"Version\\\":0,\\\"State\\\":\\\"Disabled\\\",\\\"Conditions\\\":{\\\"Applications\\\":{\\\"Include\\\":[{\\\"Applications\\\":[\\\"All\\\"]}]},\\\"Users\\\":{\\\"Include\\\":[{\\\"Users\\\":[\\\"eababd92-9dc7-40e3-9359-6c106522db19\\\"]}]},\\\"DevicePlatforms\\\":{\\\"Include\\\":[{\\\"DevicePlatforms\\\":[\\\"All\\\"]}],\\\"Exclude\\\":[{\\\"DevicePlatforms\\\":[\\\"macOS\\\"]}]}},\\\"Controls\\\":[{\\\"Control\\\":[\\\"Mfa\\\"]}],\\\"PersistentBrowserSessionMode\\\":\\\"NotSet\\\",\\\"EnforceAllPoliciesForEas\\\":false,\\\"IncludeOtherLegacyClientTypeForEvaluation\\\":false}', 'PolicyLastUpdatedTime': '6/26/2020 3:33:06 AM', 'TenantDefaultPolicy': '', 'DisplayName': 'Megan MFA demo', 'PolicyIdentifierString': ''})\",\"Cmd(name='Set-ConditionalAccessPolicy', params={'Identity': 'seccxpninja.onmicrosoft.com\\\\\\\\8872f6fb-da88-4b63-bcc7-17247669596b', 'PolicyDetails': '{\\\"Version\\\":0,\\\"State\\\":\\\"Enabled\\\",\\\"Conditions\\\":{\\\"Applications\\\":{\\\"Include\\\":[{\\\"Applications\\\":[\\\"00000002-0000-0ff1-ce00-000000000000\\\",\\\"09abbdfd-ed23-44ee-a2d9-a627aa1c90f3\\\",\\\"cc15fd57-2c6c-4117-a88c-83b1d56b4bbe\\\",\\\"00000003-0000-0ff1-ce00-000000000000\\\",\\\"00000005-0000-0ff1-ce00-000000000000\\\"]}]},\\\"Users\\\":{\\\"Include\\\":[{\\\"Users\\\":[\\\"eababd92-9dc7-40e3-9359-6c106522db19\\\"]}]}},\\\"SessionControls\\\":[\\\"CloudAppSecurity\\\"],\\\"PersistentBrowserSessionMode\\\":\\\"NotSet\\\",\\\"EnforceAllPoliciesForEas\\\":false,\\\"IncludeOtherLegacyClientTypeForEvaluation\\\":false,\\\"CasSessionControlType\\\":1}', 'PolicyLastUpdatedTime': '6/26/2020 3:33:05 AM', 'TenantDefaultPolicy': '', 'DisplayName': 'MeganB MCAS Proxy', 'PolicyIdentifierString': ''})\"],[\"Cmd(name='Set-ConditionalAccessPolicy', params={'Identity': 'seccxpninja.onmicrosoft.com\\\\\\\\e183bd29-a3a3-4f91-a5a3-b83b21a544df', 'PolicyDetails': '{\\\"Version\\\":0,\\\"State\\\":\\\"Enabled\\\",\\\"Conditions\\\":{\\\"Applications\\\":{\\\"Include\\\":[{\\\"Applications\\\":[\\\"00000002-0000-0ff1-ce00-000000000000\\\"]}]},\\\"Users\\\":{\\\"Include\\\":[{\\\"Users\\\":[\\\"2935e535-8fdf-4217-865b-e084cb7214f1\\\"]}]}},\\\"SessionControls\\\":[\\\"AppEnforcedRestrictions\\\"],\\\"PersistentBrowserSessionMode\\\":\\\"NotSet\\\",\\\"EnforceAllPoliciesForEas\\\":false,\\\"IncludeOtherLegacyClientTypeForEvaluation\\\":false}', 'PolicyLastUpdatedTime': '6/26/2020 6:48:26 AM', 'TenantDefaultPolicy': '', 'DisplayName': 'JulianI Exchange native controls', 'PolicyIdentifierString': ''})\",\"Cmd(name='Set-ConditionalAccessPolicy', params={'Identity': 'seccxpninja.onmicrosoft.com\\\\\\\\3b13ea3c-c733-4eb8-bd19-67d308b2ea04', 'PolicyDetails': '{\\\"Version\\\":0,\\\"CreatedDateTime\\\":\\\"2020-05-19T13:34:15.2394934Z\\\",\\\"ModifiedDateTime\\\":\\\"2020-05-19T13:39:04.7333386Z\\\",\\\"State\\\":\\\"Reporting\\\",\\\"Conditions\\\":{\\\"Applications\\\":{\\\"Include\\\":[{\\\"Applications\\\":[\\\"None\\\"]}]},\\\"Users\\\":{\\\"Include\\\":[{\\\"Users\\\":[\\\"Guests\\\"]}]},\\\"DevicePlatforms\\\":{\\\"Include\\\":[{\\\"DevicePlatforms\\\":[\\\"All\\\"]}],\\\"Exclude\\\":[{\\\"DevicePlatforms\\\":[\\\"Android\\\",\\\"iOS\\\",\\\"macOS\\\"]}]},\\\"ClientTypes\\\":{\\\"Include\\\":[{\\\"ClientTypes\\\":[\\\"Browser\\\",\\\"Native\\\"]}]}},\\\"Controls\\\":[{\\\"Control\\\":[\\\"Mfa\\\",\\\"RequireCompliantDevice\\\"]}]}', 'PolicyLastUpdatedTime': '6/26/2020 6:48:26 AM', 'TenantDefaultPolicy': '', 'DisplayName': 'Yanivsh -CA Test', 'PolicyIdentifierString': ''})\"],[\"Cmd(name='Set-ConditionalAccessPolicy', params={'Identity': 'seccxpninja.onmicrosoft.com\\\\\\\\8872f6fb-da88-4b63-bcc7-17247669596b', 'PolicyDetails': '{\\\"Version\\\":0,\\\"State\\\":\\\"Enabled\\\",\\\"Conditions\\\":{\\\"Applications\\\":{\\\"Include\\\":[{\\\"Applications\\\":[\\\"00000002-0000-0ff1-ce00-000000000000\\\",\\\"09abbdfd-ed23-44ee-a2d9-a627aa1c90f3\\\",\\\"cc15fd57-2c6c-4117-a88c-83b1d56b4bbe\\\",\\\"00000003-0000-0ff1-ce00-000000000000\\\",\\\"00000005-0000-0ff1-ce00-000000000000\\\"]}]},\\\"Users\\\":{\\\"Include\\\":[{\\\"Users\\\":[\\\"eababd92-9dc7-40e3-9359-6c106522db19\\\"]}]}},\\\"SessionControls\\\":[\\\"CloudAppSecurity\\\"],\\\"PersistentBrowserSessionMode\\\":\\\"NotSet\\\",\\\"EnforceAllPoliciesForEas\\\":false,\\\"IncludeOtherLegacyClientTypeForEvaluation\\\":false,\\\"CasSessionControlType\\\":1}', 'PolicyLastUpdatedTime': '6/27/2020 2:30:20 AM', 'TenantDefaultPolicy': '', 'DisplayName': 'MeganB MCAS Proxy', 'PolicyIdentifierString': ''})\",\"Cmd(name='Set-ConditionalAccessPolicy', params={'Identity': 'seccxpninja.onmicrosoft.com\\\\\\\\8872f6fb-da88-4b63-bcc7-17247669596b', 'PolicyDetails': '{\\\"Version\\\":0,\\\"State\\\":\\\"Enabled\\\",\\\"Conditions\\\":{\\\"Applications\\\":{\\\"Include\\\":[{\\\"Applications\\\":[\\\"00000002-0000-0ff1-ce00-000000000000\\\",\\\"09abbdfd-ed23-44ee-a2d9-a627aa1c90f3\\\",\\\"cc15fd57-2c6c-4117-a88c-83b1d56b4bbe\\\",\\\"00000003-0000-0ff1-ce00-000000000000\\\",\\\"00000005-0000-0ff1-ce00-000000000000\\\"]}]},\\\"Users\\\":{\\\"Include\\\":[{\\\"Users\\\":[\\\"eababd92-9dc7-40e3-9359-6c106522db19\\\"]}]}},\\\"SessionControls\\\":[\\\"CloudAppSecurity\\\"],\\\"PersistentBrowserSessionMode\\\":\\\"NotSet\\\",\\\"EnforceAllPoliciesForEas\\\":false,\\\"IncludeOtherLegacyClientTypeForEvaluation\\\":false,\\\"CasSessionControlType\\\":1}', 'PolicyLastUpdatedTime': '6/27/2020 2:30:20 AM', 'TenantDefaultPolicy': '', 'DisplayName': 'MeganB MCAS Proxy', 'PolicyIdentifierString': ''})\"],[\"Cmd(name='Set-ConditionalAccessPolicy', params={'Identity': 'seccxpninja.onmicrosoft.com\\\\\\\\235bec94-f744-48ac-8314-5675953d2def', 'PolicyDetails': '{\\\"Version\\\":0,\\\"State\\\":\\\"Disabled\\\",\\\"Conditions\\\":{\\\"Applications\\\":{\\\"Include\\\":[{\\\"Applications\\\":[\\\"All\\\"]}]},\\\"Users\\\":{\\\"Include\\\":[{\\\"Users\\\":[\\\"eababd92-9dc7-40e3-9359-6c106522db19\\\"]}]},\\\"DevicePlatforms\\\":{\\\"Include\\\":[{\\\"DevicePlatforms\\\":[\\\"All\\\"]}],\\\"Exclude\\\":[{\\\"DevicePlatforms\\\":[\\\"macOS\\\"]}]}},\\\"Controls\\\":[{\\\"Control\\\":[\\\"Mfa\\\"]}],\\\"PersistentBrowserSessionMode\\\":\\\"NotSet\\\",\\\"EnforceAllPoliciesForEas\\\":false,\\\"IncludeOtherLegacyClientTypeForEvaluation\\\":false}', 'PolicyLastUpdatedTime': '6/27/2020 2:30:20 AM', 'TenantDefaultPolicy': '', 'DisplayName': 'Megan MFA demo', 'PolicyIdentifierString': ''})\",\"Cmd(name='Set-ConditionalAccessPolicy', params={'Identity': 'seccxpninja.onmicrosoft.com\\\\\\\\bcd93f74-64fd-4042-a3ae-ee6d48886d6d', 'PolicyDetails': '{\\\"Version\\\":0,\\\"State\\\":\\\"Enabled\\\",\\\"Conditions\\\":{\\\"Applications\\\":{\\\"Include\\\":[{\\\"Applications\\\":[\\\"c9a559d2-7aab-4f13-a6ed-e7e9c52aec87\\\"]}]},\\\"Users\\\":{\\\"Include\\\":[{\\\"Users\\\":[\\\"bdb72692-2275-412b-8af0-ea21c2ebd174\\\",\\\"eababd92-9dc7-40e3-9359-6c106522db19\\\"]}]}},\\\"SessionControls\\\":[\\\"CloudAppSecurity\\\"],\\\"PersistentBrowserSessionMode\\\":\\\"NotSet\\\",\\\"EnforceAllPoliciesForEas\\\":false,\\\"IncludeOtherLegacyClientTypeForEvaluation\\\":false,\\\"CasSessionControlType\\\":3}', 'PolicyLastUpdatedTime': '6/27/2020 2:30:20 AM', 'TenantDefaultPolicy': '', 'DisplayName': 'Form MCAS', 'PolicyIdentifierString': ''})\"],[\"Cmd(name='Set-ConditionalAccessPolicy', params={'Identity': 'seccxpninja.onmicrosoft.com\\\\\\\\83a057fb-dbca-4ba8-bb5f-0ce6d6e7cff5', 'PolicyDetails': '{\\\"Version\\\":0,\\\"State\\\":\\\"Enabled\\\",\\\"Conditions\\\":{\\\"Applications\\\":{\\\"Include\\\":[{\\\"Acrs\\\":[\\\"urn:microsoft:req1\\\"]}]},\\\"Users\\\":{\\\"Include\\\":[{\\\"Users\\\":[\\\"eababd92-9dc7-40e3-9359-6c106522db19\\\"]}]}},\\\"Controls\\\":[{\\\"Control\\\":[\\\"Mfa\\\"]}],\\\"PersistentBrowserSessionMode\\\":\\\"NotSet\\\",\\\"EnforceAllPoliciesForEas\\\":false,\\\"IncludeOtherLegacyClientTypeForEvaluation\\\":false}', 'PolicyLastUpdatedTime': '6/27/2020 5:00:44 AM', 'TenantDefaultPolicy': '', 'DisplayName': 'MeganB MCAS Step-up', 'PolicyIdentifierString': ''})\",\"Cmd(name='Set-ConditionalAccessPolicy', params={'Identity': 'seccxpninja.onmicrosoft.com\\\\\\\\5fd0c4ff-1cd7-4bf6-8607-294a04f58f12', 'PolicyDetails': '{\\\"Version\\\":0,\\\"State\\\":\\\"Disabled\\\",\\\"Conditions\\\":{\\\"Applications\\\":{\\\"Include\\\":[{\\\"Applications\\\":[\\\"All\\\"]}]},\\\"Users\\\":{\\\"Include\\\":[{\\\"Users\\\":[\\\"142512c7-f006-46ae-909c-14fa7bf6a887\\\"]}]}},\\\"Controls\\\":[{\\\"Control\\\":[\\\"Mfa\\\"]}],\\\"EnforceAllPoliciesForEas\\\":false,\\\"IncludeOtherLegacyClientTypeForEvaluation\\\":false}', 'PolicyLastUpdatedTime': '6/27/2020 5:00:44 AM', 'TenantDefaultPolicy': '', 'DisplayName': 'Azure MFA', 'PolicyIdentifierString': ''})\"],[\"Cmd(name='Set-ConditionalAccessPolicy', params={'Identity': 'seccxpninja.onmicrosoft.com\\\\\\\\5fd0c4ff-1cd7-4bf6-8607-294a04f58f12', 'PolicyDetails': '{\\\"Version\\\":0,\\\"State\\\":\\\"Disabled\\\",\\\"Conditions\\\":{\\\"Applications\\\":{\\\"Include\\\":[{\\\"Applications\\\":[\\\"All\\\"]}]},\\\"Users\\\":{\\\"Include\\\":[{\\\"Users\\\":[\\\"142512c7-f006-46ae-909c-14fa7bf6a887\\\"]}]}},\\\"Controls\\\":[{\\\"Control\\\":[\\\"Mfa\\\"]}],\\\"EnforceAllPoliciesForEas\\\":false,\\\"IncludeOtherLegacyClientTypeForEvaluation\\\":false}', 'PolicyLastUpdatedTime': '6/28/2020 2:15:28 AM', 'TenantDefaultPolicy': '', 'DisplayName': 'Azure MFA', 'PolicyIdentifierString': ''})\",\"Cmd(name='Set-ConditionalAccessPolicy', params={'Identity': 'seccxpninja.onmicrosoft.com\\\\\\\\5fd0c4ff-1cd7-4bf6-8607-294a04f58f12', 'PolicyDetails': '{\\\"Version\\\":0,\\\"State\\\":\\\"Disabled\\\",\\\"Conditions\\\":{\\\"Applications\\\":{\\\"Include\\\":[{\\\"Applications\\\":[\\\"All\\\"]}]},\\\"Users\\\":{\\\"Include\\\":[{\\\"Users\\\":[\\\"142512c7-f006-46ae-909c-14fa7bf6a887\\\"]}]}},\\\"Controls\\\":[{\\\"Control\\\":[\\\"Mfa\\\"]}],\\\"EnforceAllPoliciesForEas\\\":false,\\\"IncludeOtherLegacyClientTypeForEvaluation\\\":false}', 'PolicyLastUpdatedTime': '6/28/2020 2:15:28 AM', 'TenantDefaultPolicy': '', 'DisplayName': 'Azure MFA', 'PolicyIdentifierString': ''})\"],[\"Cmd(name='Set-ConditionalAccessPolicy', params={'Identity': 'seccxpninja.onmicrosoft.com\\\\\\\\bcd93f74-64fd-4042-a3ae-ee6d48886d6d', 'PolicyDetails': '{\\\"Version\\\":0,\\\"State\\\":\\\"Enabled\\\",\\\"Conditions\\\":{\\\"Applications\\\":{\\\"Include\\\":[{\\\"Applications\\\":[\\\"c9a559d2-7aab-4f13-a6ed-e7e9c52aec87\\\"]}]},\\\"Users\\\":{\\\"Include\\\":[{\\\"Users\\\":[\\\"bdb72692-2275-412b-8af0-ea21c2ebd174\\\",\\\"eababd92-9dc7-40e3-9359-6c106522db19\\\"]}]}},\\\"SessionControls\\\":[\\\"CloudAppSecurity\\\"],\\\"PersistentBrowserSessionMode\\\":\\\"NotSet\\\",\\\"EnforceAllPoliciesForEas\\\":false,\\\"IncludeOtherLegacyClientTypeForEvaluation\\\":false,\\\"CasSessionControlType\\\":3}', 'PolicyLastUpdatedTime': '6/28/2020 5:20:09 AM', 'TenantDefaultPolicy': '', 'DisplayName': 'Form MCAS', 'PolicyIdentifierString': ''})\",\"Cmd(name='Set-ConditionalAccessPolicy', params={'Identity': 'seccxpninja.onmicrosoft.com\\\\\\\\4c5a5ea0-5d9f-4730-baaa-7a69cf29ef26', 'PolicyDetails': '{\\\"Version\\\":0,\\\"State\\\":\\\"Enabled\\\",\\\"Conditions\\\":{\\\"Applications\\\":{\\\"Include\\\":[{\\\"Applications\\\":[\\\"All\\\"]}]},\\\"Users\\\":{\\\"Include\\\":[{\\\"Users\\\":[\\\"bdb72692-2275-412b-8af0-ea21c2ebd174\\\"]}]}},\\\"Controls\\\":[{\\\"Control\\\":[\\\"Mfa\\\"]}],\\\"PersistentBrowserSessionMode\\\":\\\"NotSet\\\",\\\"EnforceAllPoliciesForEas\\\":false,\\\"IncludeOtherLegacyClientTypeForEvaluation\\\":false}', 'PolicyLastUpdatedTime': '6/28/2020 5:20:10 AM', 'TenantDefaultPolicy': '', 'DisplayName': 'Semolen - Admin MFA', 'PolicyIdentifierString': ''})\"],[\"Cmd(name='Set-ConditionalAccessPolicy', params={'Identity': 'seccxpninja.onmicrosoft.com\\\\\\\\6490d00c-7ba1-42cf-aa88-99eb71d53bf7', 'PolicyDetails': '{\\\"Version\\\":0,\\\"LastUpdatedTimestamp\\\":\\\"2020-06-11T12:45:19.4695224Z\\\",\\\"State\\\":\\\"Disabled\\\",\\\"SignInFrequency\\\":\\\"NotSet\\\",\\\"PersistentBrowserSessionMode\\\":\\\"NotSet\\\"}', 'PolicyLastUpdatedTime': '6/28/2020 5:20:11 AM', 'TenantDefaultPolicy': '18', 'DisplayName': 'Default Policy', 'PolicyIdentifierString': '5/19/2020 1:39:05 PM'})\",\"Cmd(name='Set-ConditionalAccessPolicy', params={'Identity': 'seccxpninja.onmicrosoft.com\\\\\\\\6490d00c-7ba1-42cf-aa88-99eb71d53bf7', 'PolicyDetails': '{\\\"Version\\\":0,\\\"LastUpdatedTimestamp\\\":\\\"2020-06-11T12:45:19.4695224Z\\\",\\\"State\\\":\\\"Disabled\\\",\\\"SignInFrequency\\\":\\\"NotSet\\\",\\\"PersistentBrowserSessionMode\\\":\\\"NotSet\\\"}', 'PolicyLastUpdatedTime': '6/28/2020 5:20:11 AM', 'TenantDefaultPolicy': '18', 'DisplayName': 'Default Policy', 'PolicyIdentifierString': '5/19/2020 1:39:05 PM'})\"],[\"Cmd(name='Set-ConditionalAccessPolicy', params={'Identity': 'seccxpninja.onmicrosoft.com\\\\\\\\e183bd29-a3a3-4f91-a5a3-b83b21a544df', 'PolicyDetails': '{\\\"Version\\\":0,\\\"State\\\":\\\"Enabled\\\",\\\"Conditions\\\":{\\\"Applications\\\":{\\\"Include\\\":[{\\\"Applications\\\":[\\\"00000002-0000-0ff1-ce00-000000000000\\\"]}]},\\\"Users\\\":{\\\"Include\\\":[{\\\"Users\\\":[\\\"2935e535-8fdf-4217-865b-e084cb7214f1\\\"]}]}},\\\"SessionControls\\\":[\\\"AppEnforcedRestrictions\\\"],\\\"PersistentBrowserSessionMode\\\":\\\"NotSet\\\",\\\"EnforceAllPoliciesForEas\\\":false,\\\"IncludeOtherLegacyClientTypeForEvaluation\\\":false}', 'PolicyLastUpdatedTime': '6/29/2020 1:51:34 AM', 'TenantDefaultPolicy': '', 'DisplayName': 'JulianI Exchange native controls', 'PolicyIdentifierString': ''})\",\"Cmd(name='Set-ConditionalAccessPolicy', params={'Identity': 'seccxpninja.onmicrosoft.com\\\\\\\\3b13ea3c-c733-4eb8-bd19-67d308b2ea04', 'PolicyDetails': '{\\\"Version\\\":0,\\\"CreatedDateTime\\\":\\\"2020-05-19T13:34:15.2394934Z\\\",\\\"ModifiedDateTime\\\":\\\"2020-05-19T13:39:04.7333386Z\\\",\\\"State\\\":\\\"Reporting\\\",\\\"Conditions\\\":{\\\"Applications\\\":{\\\"Include\\\":[{\\\"Applications\\\":[\\\"None\\\"]}]},\\\"Users\\\":{\\\"Include\\\":[{\\\"Users\\\":[\\\"Guests\\\"]}]},\\\"DevicePlatforms\\\":{\\\"Include\\\":[{\\\"DevicePlatforms\\\":[\\\"All\\\"]}],\\\"Exclude\\\":[{\\\"DevicePlatforms\\\":[\\\"Android\\\",\\\"iOS\\\",\\\"macOS\\\"]}]},\\\"ClientTypes\\\":{\\\"Include\\\":[{\\\"ClientTypes\\\":[\\\"Browser\\\",\\\"Native\\\"]}]}},\\\"Controls\\\":[{\\\"Control\\\":[\\\"Mfa\\\",\\\"RequireCompliantDevice\\\"]}]}', 'PolicyLastUpdatedTime': '6/29/2020 1:51:34 AM', 'TenantDefaultPolicy': '', 'DisplayName': 'Yanivsh -CA Test', 'PolicyIdentifierString': ''})\"],[\"Cmd(name='Set-ConditionalAccessPolicy', params={'Identity': 'seccxpninja.onmicrosoft.com\\\\\\\\8872f6fb-da88-4b63-bcc7-17247669596b', 'PolicyDetails': '{\\\"Version\\\":0,\\\"State\\\":\\\"Enabled\\\",\\\"Conditions\\\":{\\\"Applications\\\":{\\\"Include\\\":[{\\\"Applications\\\":[\\\"00000002-0000-0ff1-ce00-000000000000\\\",\\\"09abbdfd-ed23-44ee-a2d9-a627aa1c90f3\\\",\\\"cc15fd57-2c6c-4117-a88c-83b1d56b4bbe\\\",\\\"00000003-0000-0ff1-ce00-000000000000\\\",\\\"00000005-0000-0ff1-ce00-000000000000\\\"]}]},\\\"Users\\\":{\\\"Include\\\":[{\\\"Users\\\":[\\\"eababd92-9dc7-40e3-9359-6c106522db19\\\"]}]}},\\\"SessionControls\\\":[\\\"CloudAppSecurity\\\"],\\\"PersistentBrowserSessionMode\\\":\\\"NotSet\\\",\\\"EnforceAllPoliciesForEas\\\":false,\\\"IncludeOtherLegacyClientTypeForEvaluation\\\":false,\\\"CasSessionControlType\\\":1}', 'PolicyLastUpdatedTime': '6/29/2020 4:43:10 AM', 'TenantDefaultPolicy': '', 'DisplayName': 'MeganB MCAS Proxy', 'PolicyIdentifierString': ''})\",\"Cmd(name='Set-ConditionalAccessPolicy', params={'Identity': 'seccxpninja.onmicrosoft.com\\\\\\\\8872f6fb-da88-4b63-bcc7-17247669596b', 'PolicyDetails': '{\\\"Version\\\":0,\\\"State\\\":\\\"Enabled\\\",\\\"Conditions\\\":{\\\"Applications\\\":{\\\"Include\\\":[{\\\"Applications\\\":[\\\"00000002-0000-0ff1-ce00-000000000000\\\",\\\"09abbdfd-ed23-44ee-a2d9-a627aa1c90f3\\\",\\\"cc15fd57-2c6c-4117-a88c-83b1d56b4bbe\\\",\\\"00000003-0000-0ff1-ce00-000000000000\\\",\\\"00000005-0000-0ff1-ce00-000000000000\\\"]}]},\\\"Users\\\":{\\\"Include\\\":[{\\\"Users\\\":[\\\"eababd92-9dc7-40e3-9359-6c106522db19\\\"]}]}},\\\"SessionControls\\\":[\\\"CloudAppSecurity\\\"],\\\"PersistentBrowserSessionMode\\\":\\\"NotSet\\\",\\\"EnforceAllPoliciesForEas\\\":false,\\\"IncludeOtherLegacyClientTypeForEvaluation\\\":false,\\\"CasSessionControlType\\\":1}', 'PolicyLastUpdatedTime': '6/29/2020 4:43:10 AM', 'TenantDefaultPolicy': '', 'DisplayName': 'MeganB MCAS Proxy', 'PolicyIdentifierString': ''})\"],[\"Cmd(name='Set-ConditionalAccessPolicy', params={'Identity': 'seccxpninja.onmicrosoft.com\\\\\\\\69c7a12f-b407-45a3-b07e-fa04fc7f273d', 'PolicyDetails': '{\\\"Version\\\":0,\\\"State\\\":\\\"Enabled\\\",\\\"Conditions\\\":{\\\"Applications\\\":{\\\"Include\\\":[{\\\"Applications\\\":[\\\"00000003-0000-0ff1-ce00-000000000000\\\"]}]},\\\"Users\\\":{\\\"Include\\\":[{\\\"Users\\\":[\\\"All\\\"]}]}},\\\"SessionControls\\\":[\\\"CloudAppSecurity\\\"],\\\"PersistentBrowserSessionMode\\\":\\\"NotSet\\\",\\\"EnforceAllPoliciesForEas\\\":false,\\\"IncludeOtherLegacyClientTypeForEvaluation\\\":false,\\\"CasSessionControlType\\\":1}', 'PolicyLastUpdatedTime': '6/29/2020 4:43:13 AM', 'TenantDefaultPolicy': '', 'DisplayName': 'Test Policy', 'PolicyIdentifierString': ''})\",\"Cmd(name='Set-ConditionalAccessPolicy', params={'Identity': 'seccxpninja.onmicrosoft.com\\\\\\\\bcd93f74-64fd-4042-a3ae-ee6d48886d6d', 'PolicyDetails': '{\\\"Version\\\":0,\\\"State\\\":\\\"Enabled\\\",\\\"Conditions\\\":{\\\"Applications\\\":{\\\"Include\\\":[{\\\"Applications\\\":[\\\"c9a559d2-7aab-4f13-a6ed-e7e9c52aec87\\\"]}]},\\\"Users\\\":{\\\"Include\\\":[{\\\"Users\\\":[\\\"bdb72692-2275-412b-8af0-ea21c2ebd174\\\",\\\"eababd92-9dc7-40e3-9359-6c106522db19\\\"]}]}},\\\"SessionControls\\\":[\\\"CloudAppSecurity\\\"],\\\"PersistentBrowserSessionMode\\\":\\\"NotSet\\\",\\\"EnforceAllPoliciesForEas\\\":false,\\\"IncludeOtherLegacyClientTypeForEvaluation\\\":false,\\\"CasSessionControlType\\\":3}', 'PolicyLastUpdatedTime': '6/29/2020 4:43:12 AM', 'TenantDefaultPolicy': '', 'DisplayName': 'Form MCAS', 'PolicyIdentifierString': ''})\"],[\"Cmd(name='Set-ConditionalAccessPolicy', params={'Identity': 'seccxpninja.onmicrosoft.com\\\\\\\\8872f6fb-da88-4b63-bcc7-17247669596b', 'PolicyDetails': '{\\\"Version\\\":0,\\\"State\\\":\\\"Enabled\\\",\\\"Conditions\\\":{\\\"Applications\\\":{\\\"Include\\\":[{\\\"Applications\\\":[\\\"00000002-0000-0ff1-ce00-000000000000\\\",\\\"09abbdfd-ed23-44ee-a2d9-a627aa1c90f3\\\",\\\"cc15fd57-2c6c-4117-a88c-83b1d56b4bbe\\\",\\\"00000003-0000-0ff1-ce00-000000000000\\\",\\\"00000005-0000-0ff1-ce00-000000000000\\\"]}]},\\\"Users\\\":{\\\"Include\\\":[{\\\"Users\\\":[\\\"eababd92-9dc7-40e3-9359-6c106522db19\\\"]}]}},\\\"SessionControls\\\":[\\\"CloudAppSecurity\\\"],\\\"PersistentBrowserSessionMode\\\":\\\"NotSet\\\",\\\"EnforceAllPoliciesForEas\\\":false,\\\"IncludeOtherLegacyClientTypeForEvaluation\\\":false,\\\"CasSessionControlType\\\":1}', 'PolicyLastUpdatedTime': '6/30/2020 2:05:13 AM', 'TenantDefaultPolicy': '', 'DisplayName': 'MeganB MCAS Proxy', 'PolicyIdentifierString': ''})\",\"Cmd(name='Set-ConditionalAccessPolicy', params={'Identity': 'seccxpninja.onmicrosoft.com\\\\\\\\8872f6fb-da88-4b63-bcc7-17247669596b', 'PolicyDetails': '{\\\"Version\\\":0,\\\"State\\\":\\\"Enabled\\\",\\\"Conditions\\\":{\\\"Applications\\\":{\\\"Include\\\":[{\\\"Applications\\\":[\\\"00000002-0000-0ff1-ce00-000000000000\\\",\\\"09abbdfd-ed23-44ee-a2d9-a627aa1c90f3\\\",\\\"cc15fd57-2c6c-4117-a88c-83b1d56b4bbe\\\",\\\"00000003-0000-0ff1-ce00-000000000000\\\",\\\"00000005-0000-0ff1-ce00-000000000000\\\"]}]},\\\"Users\\\":{\\\"Include\\\":[{\\\"Users\\\":[\\\"eababd92-9dc7-40e3-9359-6c106522db19\\\"]}]}},\\\"SessionControls\\\":[\\\"CloudAppSecurity\\\"],\\\"PersistentBrowserSessionMode\\\":\\\"NotSet\\\",\\\"EnforceAllPoliciesForEas\\\":false,\\\"IncludeOtherLegacyClientTypeForEvaluation\\\":false,\\\"CasSessionControlType\\\":1}', 'PolicyLastUpdatedTime': '6/30/2020 2:05:13 AM', 'TenantDefaultPolicy': '', 'DisplayName': 'MeganB MCAS Proxy', 'PolicyIdentifierString': ''})\"],[\"Cmd(name='Set-ConditionalAccessPolicy', params={'Identity': 'seccxpninja.onmicrosoft.com\\\\\\\\3b13ea3c-c733-4eb8-bd19-67d308b2ea04', 'PolicyDetails': '{\\\"Version\\\":0,\\\"CreatedDateTime\\\":\\\"2020-05-19T13:34:15.2394934Z\\\",\\\"ModifiedDateTime\\\":\\\"2020-05-19T13:39:04.7333386Z\\\",\\\"State\\\":\\\"Reporting\\\",\\\"Conditions\\\":{\\\"Applications\\\":{\\\"Include\\\":[{\\\"Applications\\\":[\\\"None\\\"]}]},\\\"Users\\\":{\\\"Include\\\":[{\\\"Users\\\":[\\\"Guests\\\"]}]},\\\"DevicePlatforms\\\":{\\\"Include\\\":[{\\\"DevicePlatforms\\\":[\\\"All\\\"]}],\\\"Exclude\\\":[{\\\"DevicePlatforms\\\":[\\\"Android\\\",\\\"iOS\\\",\\\"macOS\\\"]}]},\\\"ClientTypes\\\":{\\\"Include\\\":[{\\\"ClientTypes\\\":[\\\"Browser\\\",\\\"Native\\\"]}]}},\\\"Controls\\\":[{\\\"Control\\\":[\\\"Mfa\\\",\\\"RequireCompliantDevice\\\"]}]}', 'PolicyLastUpdatedTime': '6/30/2020 2:05:17 AM', 'TenantDefaultPolicy': '', 'DisplayName': 'Yanivsh -CA Test', 'PolicyIdentifierString': ''})\",\"Cmd(name='Set-ConditionalAccessPolicy', params={'Identity': 'seccxpninja.onmicrosoft.com\\\\\\\\4c5a5ea0-5d9f-4730-baaa-7a69cf29ef26', 'PolicyDetails': '{\\\"Version\\\":0,\\\"State\\\":\\\"Enabled\\\",\\\"Conditions\\\":{\\\"Applications\\\":{\\\"Include\\\":[{\\\"Applications\\\":[\\\"All\\\"]}]},\\\"Users\\\":{\\\"Include\\\":[{\\\"Users\\\":[\\\"bdb72692-2275-412b-8af0-ea21c2ebd174\\\"]}]}},\\\"Controls\\\":[{\\\"Control\\\":[\\\"Mfa\\\"]}],\\\"PersistentBrowserSessionMode\\\":\\\"NotSet\\\",\\\"EnforceAllPoliciesForEas\\\":false,\\\"IncludeOtherLegacyClientTypeForEvaluation\\\":false}', 'PolicyLastUpdatedTime': '6/30/2020 2:05:15 AM', 'TenantDefaultPolicy': '', 'DisplayName': 'Semolen - Admin MFA', 'PolicyIdentifierString': ''})\"],[\"Cmd(name='Set-ConditionalAccessPolicy', params={'Identity': 'seccxpninja.onmicrosoft.com\\\\\\\\b2915792-0396-4abe-94ec-e17fa17243c5', 'PolicyDetails': '{\\\"Version\\\":0,\\\"State\\\":\\\"Enabled\\\",\\\"Conditions\\\":{\\\"Applications\\\":{\\\"Include\\\":[{\\\"Applications\\\":[\\\"94c63fef-13a3-47bc-8074-75af8c65887a\\\",\\\"c9a559d2-7aab-4f13-a6ed-e7e9c52aec87\\\"]}]},\\\"Users\\\":{\\\"Include\\\":[{\\\"Users\\\":[\\\"bdb72692-2275-412b-8af0-ea21c2ebd174\\\",\\\"eababd92-9dc7-40e3-9359-6c106522db19\\\"]}]},\\\"SignInRisks\\\":{\\\"Include\\\":[{\\\"SignInRisks\\\":[\\\"High\\\",\\\"Medium\\\",\\\"Low\\\"]}]}},\\\"SessionControls\\\":[\\\"CloudAppSecurity\\\"],\\\"PersistentBrowserSessionMode\\\":\\\"NotSet\\\",\\\"EnforceAllPoliciesForEas\\\":false,\\\"IncludeOtherLegacyClientTypeForEvaluation\\\":false,\\\"CasSessionControlType\\\":3}', 'PolicyLastUpdatedTime': '6/30/2020 5:06:20 AM', 'TenantDefaultPolicy': '', 'DisplayName': 'GBB demo', 'PolicyIdentifierString': ''})\",\"Cmd(name='Set-ConditionalAccessPolicy', params={'Identity': 'seccxpninja.onmicrosoft.com\\\\\\\\83a057fb-dbca-4ba8-bb5f-0ce6d6e7cff5', 'PolicyDetails': '{\\\"Version\\\":0,\\\"State\\\":\\\"Enabled\\\",\\\"Conditions\\\":{\\\"Applications\\\":{\\\"Include\\\":[{\\\"Acrs\\\":[\\\"urn:microsoft:req1\\\"]}]},\\\"Users\\\":{\\\"Include\\\":[{\\\"Users\\\":[\\\"eababd92-9dc7-40e3-9359-6c106522db19\\\"]}]}},\\\"Controls\\\":[{\\\"Control\\\":[\\\"Mfa\\\"]}],\\\"PersistentBrowserSessionMode\\\":\\\"NotSet\\\",\\\"EnforceAllPoliciesForEas\\\":false,\\\"IncludeOtherLegacyClientTypeForEvaluation\\\":false}', 'PolicyLastUpdatedTime': '6/30/2020 5:06:20 AM', 'TenantDefaultPolicy': '', 'DisplayName': 'MeganB MCAS Step-up', 'PolicyIdentifierString': ''})\"],[\"Cmd(name='Set-ConditionalAccessPolicy', params={'Identity': 'seccxpninja.onmicrosoft.com\\\\\\\\ba36f0a4-6d73-4ba4-9282-3b3c14575e36', 'PolicyDetails': '{\\\"Version\\\":0,\\\"ModifiedDateTime\\\":\\\"2020-05-19T13:31:41.7083504Z\\\",\\\"State\\\":\\\"Disabled\\\",\\\"Conditions\\\":{\\\"Applications\\\":{\\\"Include\\\":[{\\\"Applications\\\":[\\\"00000002-0000-0ff1-ce00-000000000000\\\",\\\"00000003-0000-0ff1-ce00-000000000000\\\"]}]},\\\"Users\\\":{\\\"Include\\\":[{\\\"Users\\\":[\\\"2935e535-8fdf-4217-865b-e084cb7214f1\\\"]}]},\\\"DevicePlatforms\\\":{\\\"Include\\\":[{\\\"DevicePlatforms\\\":[\\\"All\\\"]}],\\\"Exclude\\\":[{\\\"DevicePlatforms\\\":[\\\"Android\\\",\\\"iOS\\\",\\\"macOS\\\"]}]},\\\"ClientTypes\\\":{\\\"Include\\\":[{\\\"ClientTypes\\\":[\\\"Browser\\\",\\\"Native\\\"]}]}},\\\"SessionControls\\\":[\\\"CloudAppSecurity\\\"],\\\"CasSessionControlType\\\":1}', 'PolicyLastUpdatedTime': '7/1/2020 1:49:42 AM', 'TenantDefaultPolicy': '', 'DisplayName': 'Block Access JulianI', 'PolicyIdentifierString': ''})\",\"Cmd(name='Set-ConditionalAccessPolicy', params={'Identity': 'seccxpninja.onmicrosoft.com\\\\\\\\5fd0c4ff-1cd7-4bf6-8607-294a04f58f12', 'PolicyDetails': '{\\\"Version\\\":0,\\\"State\\\":\\\"Disabled\\\",\\\"Conditions\\\":{\\\"Applications\\\":{\\\"Include\\\":[{\\\"Applications\\\":[\\\"All\\\"]}]},\\\"Users\\\":{\\\"Include\\\":[{\\\"Users\\\":[\\\"142512c7-f006-46ae-909c-14fa7bf6a887\\\"]}]}},\\\"Controls\\\":[{\\\"Control\\\":[\\\"Mfa\\\"]}],\\\"EnforceAllPoliciesForEas\\\":false,\\\"IncludeOtherLegacyClientTypeForEvaluation\\\":false}', 'PolicyLastUpdatedTime': '7/1/2020 1:49:42 AM', 'TenantDefaultPolicy': '', 'DisplayName': 'Azure MFA', 'PolicyIdentifierString': ''})\"],[\"Cmd(name='Set-ConditionalAccessPolicy', params={'Identity': 'seccxpninja.onmicrosoft.com\\\\\\\\2e76d011-eaa3-40b4-8ce8-7fba52bf3af8', 'PolicyDetails': '{\\\"Version\\\":0,\\\"State\\\":\\\"Reporting\\\",\\\"Conditions\\\":{\\\"Applications\\\":{\\\"Include\\\":[{\\\"Applications\\\":[\\\"f9e8b3d0-ba26-42cd-b544-c90a66191a81\\\"]}]},\\\"Users\\\":{\\\"Include\\\":[{\\\"Users\\\":[\\\"All\\\"]}]}},\\\"SessionControls\\\":[\\\"CloudAppSecurity\\\"],\\\"PersistentBrowserSessionMode\\\":\\\"NotSet\\\",\\\"EnforceAllPoliciesForEas\\\":false,\\\"IncludeOtherLegacyClientTypeForEvaluation\\\":false,\\\"CasSessionControlType\\\":1}', 'PolicyLastUpdatedTime': '7/1/2020 5:13:17 AM', 'TenantDefaultPolicy': '', 'DisplayName': 'On-Prem SharePoint - MeganB proxy', 'PolicyIdentifierString': ''})\",\"Cmd(name='Set-ConditionalAccessPolicy', params={'Identity': 'seccxpninja.onmicrosoft.com\\\\\\\\5fd0c4ff-1cd7-4bf6-8607-294a04f58f12', 'PolicyDetails': '{\\\"Version\\\":0,\\\"State\\\":\\\"Disabled\\\",\\\"Conditions\\\":{\\\"Applications\\\":{\\\"Include\\\":[{\\\"Applications\\\":[\\\"All\\\"]}]},\\\"Users\\\":{\\\"Include\\\":[{\\\"Users\\\":[\\\"142512c7-f006-46ae-909c-14fa7bf6a887\\\"]}]}},\\\"Controls\\\":[{\\\"Control\\\":[\\\"Mfa\\\"]}],\\\"EnforceAllPoliciesForEas\\\":false,\\\"IncludeOtherLegacyClientTypeForEvaluation\\\":false}', 'PolicyLastUpdatedTime': '7/1/2020 5:13:17 AM', 'TenantDefaultPolicy': '', 'DisplayName': 'Azure MFA', 'PolicyIdentifierString': ''})\"],[\"Cmd(name='Set-ConditionalAccessPolicy', params={'Identity': 'seccxpninja.onmicrosoft.com\\\\\\\\8872f6fb-da88-4b63-bcc7-17247669596b', 'PolicyDetails': '{\\\"Version\\\":0,\\\"State\\\":\\\"Enabled\\\",\\\"Conditions\\\":{\\\"Applications\\\":{\\\"Include\\\":[{\\\"Applications\\\":[\\\"00000002-0000-0ff1-ce00-000000000000\\\",\\\"09abbdfd-ed23-44ee-a2d9-a627aa1c90f3\\\",\\\"cc15fd57-2c6c-4117-a88c-83b1d56b4bbe\\\",\\\"00000003-0000-0ff1-ce00-000000000000\\\",\\\"00000005-0000-0ff1-ce00-000000000000\\\"]}]},\\\"Users\\\":{\\\"Include\\\":[{\\\"Users\\\":[\\\"eababd92-9dc7-40e3-9359-6c106522db19\\\"]}]}},\\\"SessionControls\\\":[\\\"CloudAppSecurity\\\"],\\\"PersistentBrowserSessionMode\\\":\\\"NotSet\\\",\\\"EnforceAllPoliciesForEas\\\":false,\\\"IncludeOtherLegacyClientTypeForEvaluation\\\":false,\\\"CasSessionControlType\\\":1}', 'PolicyLastUpdatedTime': '7/2/2020 2:05:21 AM', 'TenantDefaultPolicy': '', 'DisplayName': 'MeganB MCAS Proxy', 'PolicyIdentifierString': ''})\",\"Cmd(name='Set-ConditionalAccessPolicy', params={'Identity': 'seccxpninja.onmicrosoft.com\\\\\\\\b2915792-0396-4abe-94ec-e17fa17243c5', 'PolicyDetails': '{\\\"Version\\\":0,\\\"State\\\":\\\"Enabled\\\",\\\"Conditions\\\":{\\\"Applications\\\":{\\\"Include\\\":[{\\\"Applications\\\":[\\\"94c63fef-13a3-47bc-8074-75af8c65887a\\\",\\\"c9a559d2-7aab-4f13-a6ed-e7e9c52aec87\\\"]}]},\\\"Users\\\":{\\\"Include\\\":[{\\\"Users\\\":[\\\"bdb72692-2275-412b-8af0-ea21c2ebd174\\\",\\\"eababd92-9dc7-40e3-9359-6c106522db19\\\"]}]},\\\"SignInRisks\\\":{\\\"Include\\\":[{\\\"SignInRisks\\\":[\\\"High\\\",\\\"Medium\\\",\\\"Low\\\"]}]}},\\\"SessionControls\\\":[\\\"CloudAppSecurity\\\"],\\\"PersistentBrowserSessionMode\\\":\\\"NotSet\\\",\\\"EnforceAllPoliciesForEas\\\":false,\\\"IncludeOtherLegacyClientTypeForEvaluation\\\":false,\\\"CasSessionControlType\\\":3}', 'PolicyLastUpdatedTime': '7/2/2020 2:05:23 AM', 'TenantDefaultPolicy': '', 'DisplayName': 'GBB demo', 'PolicyIdentifierString': ''})\"],[\"Cmd(name='Set-ConditionalAccessPolicy', params={'Identity': 'seccxpninja.onmicrosoft.com\\\\\\\\83a057fb-dbca-4ba8-bb5f-0ce6d6e7cff5', 'PolicyDetails': '{\\\"Version\\\":0,\\\"State\\\":\\\"Enabled\\\",\\\"Conditions\\\":{\\\"Applications\\\":{\\\"Include\\\":[{\\\"Acrs\\\":[\\\"urn:microsoft:req1\\\"]}]},\\\"Users\\\":{\\\"Include\\\":[{\\\"Users\\\":[\\\"eababd92-9dc7-40e3-9359-6c106522db19\\\"]}]}},\\\"Controls\\\":[{\\\"Control\\\":[\\\"Mfa\\\"]}],\\\"PersistentBrowserSessionMode\\\":\\\"NotSet\\\",\\\"EnforceAllPoliciesForEas\\\":false,\\\"IncludeOtherLegacyClientTypeForEvaluation\\\":false}', 'PolicyLastUpdatedTime': '7/2/2020 4:53:56 AM', 'TenantDefaultPolicy': '', 'DisplayName': 'MeganB MCAS Step-up', 'PolicyIdentifierString': ''})\",\"Cmd(name='Set-ConditionalAccessPolicy', params={'Identity': 'seccxpninja.onmicrosoft.com\\\\\\\\235bec94-f744-48ac-8314-5675953d2def', 'PolicyDetails': '{\\\"Version\\\":0,\\\"State\\\":\\\"Disabled\\\",\\\"Conditions\\\":{\\\"Applications\\\":{\\\"Include\\\":[{\\\"Applications\\\":[\\\"All\\\"]}]},\\\"Users\\\":{\\\"Include\\\":[{\\\"Users\\\":[\\\"eababd92-9dc7-40e3-9359-6c106522db19\\\"]}]},\\\"DevicePlatforms\\\":{\\\"Include\\\":[{\\\"DevicePlatforms\\\":[\\\"All\\\"]}],\\\"Exclude\\\":[{\\\"DevicePlatforms\\\":[\\\"macOS\\\"]}]}},\\\"Controls\\\":[{\\\"Control\\\":[\\\"Mfa\\\"]}],\\\"PersistentBrowserSessionMode\\\":\\\"NotSet\\\",\\\"EnforceAllPoliciesForEas\\\":false,\\\"IncludeOtherLegacyClientTypeForEvaluation\\\":false}', 'PolicyLastUpdatedTime': '7/2/2020 4:53:56 AM', 'TenantDefaultPolicy': '', 'DisplayName': 'Megan MFA demo', 'PolicyIdentifierString': ''})\"],[\"Cmd(name='Set-ConditionalAccessPolicy', params={'Identity': 'seccxpninja.onmicrosoft.com\\\\\\\\2e76d011-eaa3-40b4-8ce8-7fba52bf3af8', 'PolicyDetails': '{\\\"Version\\\":0,\\\"State\\\":\\\"Reporting\\\",\\\"Conditions\\\":{\\\"Applications\\\":{\\\"Include\\\":[{\\\"Applications\\\":[\\\"f9e8b3d0-ba26-42cd-b544-c90a66191a81\\\"]}]},\\\"Users\\\":{\\\"Include\\\":[{\\\"Users\\\":[\\\"All\\\"]}]}},\\\"SessionControls\\\":[\\\"CloudAppSecurity\\\"],\\\"PersistentBrowserSessionMode\\\":\\\"NotSet\\\",\\\"EnforceAllPoliciesForEas\\\":false,\\\"IncludeOtherLegacyClientTypeForEvaluation\\\":false,\\\"CasSessionControlType\\\":1}', 'PolicyLastUpdatedTime': '7/3/2020 2:12:09 AM', 'TenantDefaultPolicy': '', 'DisplayName': 'On-Prem SharePoint - MeganB proxy', 'PolicyIdentifierString': ''})\",\"Cmd(name='Set-ConditionalAccessPolicy', params={'Identity': 'seccxpninja.onmicrosoft.com\\\\\\\\4c5a5ea0-5d9f-4730-baaa-7a69cf29ef26', 'PolicyDetails': '{\\\"Version\\\":0,\\\"State\\\":\\\"Enabled\\\",\\\"Conditions\\\":{\\\"Applications\\\":{\\\"Include\\\":[{\\\"Applications\\\":[\\\"All\\\"]}]},\\\"Users\\\":{\\\"Include\\\":[{\\\"Users\\\":[\\\"bdb72692-2275-412b-8af0-ea21c2ebd174\\\"]}]}},\\\"Controls\\\":[{\\\"Control\\\":[\\\"Mfa\\\"]}],\\\"PersistentBrowserSessionMode\\\":\\\"NotSet\\\",\\\"EnforceAllPoliciesForEas\\\":false,\\\"IncludeOtherLegacyClientTypeForEvaluation\\\":false}', 'PolicyLastUpdatedTime': '7/3/2020 2:12:08 AM', 'TenantDefaultPolicy': '', 'DisplayName': 'Semolen - Admin MFA', 'PolicyIdentifierString': ''})\"],[\"Cmd(name='Set-ConditionalAccessPolicy', params={'Identity': 'seccxpninja.onmicrosoft.com\\\\\\\\6490d00c-7ba1-42cf-aa88-99eb71d53bf7', 'PolicyDetails': '{\\\"Version\\\":0,\\\"LastUpdatedTimestamp\\\":\\\"2020-07-02T12:42:35.1866847Z\\\",\\\"State\\\":\\\"Disabled\\\",\\\"SignInFrequency\\\":\\\"NotSet\\\",\\\"PersistentBrowserSessionMode\\\":\\\"NotSet\\\"}', 'PolicyLastUpdatedTime': '7/3/2020 5:10:57 AM', 'TenantDefaultPolicy': '18', 'DisplayName': 'Default Policy', 'PolicyIdentifierString': '5/19/2020 1:39:05 PM'})\",\"Cmd(name='Set-ConditionalAccessPolicy', params={'Identity': 'seccxpninja.onmicrosoft.com\\\\\\\\ba36f0a4-6d73-4ba4-9282-3b3c14575e36', 'PolicyDetails': '{\\\"Version\\\":0,\\\"ModifiedDateTime\\\":\\\"2020-05-19T13:31:41.7083504Z\\\",\\\"State\\\":\\\"Disabled\\\",\\\"Conditions\\\":{\\\"Applications\\\":{\\\"Include\\\":[{\\\"Applications\\\":[\\\"00000002-0000-0ff1-ce00-000000000000\\\",\\\"00000003-0000-0ff1-ce00-000000000000\\\"]}]},\\\"Users\\\":{\\\"Include\\\":[{\\\"Users\\\":[\\\"2935e535-8fdf-4217-865b-e084cb7214f1\\\"]}]},\\\"DevicePlatforms\\\":{\\\"Include\\\":[{\\\"DevicePlatforms\\\":[\\\"All\\\"]}],\\\"Exclude\\\":[{\\\"DevicePlatforms\\\":[\\\"Android\\\",\\\"iOS\\\",\\\"macOS\\\"]}]},\\\"ClientTypes\\\":{\\\"Include\\\":[{\\\"ClientTypes\\\":[\\\"Browser\\\",\\\"Native\\\"]}]}},\\\"SessionControls\\\":[\\\"CloudAppSecurity\\\"],\\\"CasSessionControlType\\\":1}', 'PolicyLastUpdatedTime': '7/3/2020 5:10:58 AM', 'TenantDefaultPolicy': '', 'DisplayName': 'Block Access JulianI', 'PolicyIdentifierString': ''})\"],[\"Cmd(name='Set-ConditionalAccessPolicy', params={'Identity': 'seccxpninja.onmicrosoft.com\\\\\\\\69c7a12f-b407-45a3-b07e-fa04fc7f273d', 'PolicyDetails': '{\\\"Version\\\":0,\\\"State\\\":\\\"Enabled\\\",\\\"Conditions\\\":{\\\"Applications\\\":{\\\"Include\\\":[{\\\"Applications\\\":[\\\"00000003-0000-0ff1-ce00-000000000000\\\"]}]},\\\"Users\\\":{\\\"Include\\\":[{\\\"Users\\\":[\\\"All\\\"]}]}},\\\"SessionControls\\\":[\\\"CloudAppSecurity\\\"],\\\"PersistentBrowserSessionMode\\\":\\\"NotSet\\\",\\\"EnforceAllPoliciesForEas\\\":false,\\\"IncludeOtherLegacyClientTypeForEvaluation\\\":false,\\\"CasSessionControlType\\\":1}', 'PolicyLastUpdatedTime': '7/4/2020 2:02:50 AM', 'TenantDefaultPolicy': '', 'DisplayName': 'Test Policy', 'PolicyIdentifierString': ''})\",\"Cmd(name='Set-ConditionalAccessPolicy', params={'Identity': 'seccxpninja.onmicrosoft.com\\\\\\\\3b13ea3c-c733-4eb8-bd19-67d308b2ea04', 'PolicyDetails': '{\\\"Version\\\":0,\\\"CreatedDateTime\\\":\\\"2020-05-19T13:34:15.2394934Z\\\",\\\"ModifiedDateTime\\\":\\\"2020-05-19T13:39:04.7333386Z\\\",\\\"State\\\":\\\"Reporting\\\",\\\"Conditions\\\":{\\\"Applications\\\":{\\\"Include\\\":[{\\\"Applications\\\":[\\\"None\\\"]}]},\\\"Users\\\":{\\\"Include\\\":[{\\\"Users\\\":[\\\"Guests\\\"]}]},\\\"DevicePlatforms\\\":{\\\"Include\\\":[{\\\"DevicePlatforms\\\":[\\\"All\\\"]}],\\\"Exclude\\\":[{\\\"DevicePlatforms\\\":[\\\"Android\\\",\\\"iOS\\\",\\\"macOS\\\"]}]},\\\"ClientTypes\\\":{\\\"Include\\\":[{\\\"ClientTypes\\\":[\\\"Browser\\\",\\\"Native\\\"]}]}},\\\"Controls\\\":[{\\\"Control\\\":[\\\"Mfa\\\",\\\"RequireCompliantDevice\\\"]}]}', 'PolicyLastUpdatedTime': '7/4/2020 2:02:50 AM', 'TenantDefaultPolicy': '', 'DisplayName': 'Yanivsh -CA Test', 'PolicyIdentifierString': ''})\"],[\"Cmd(name='Set-ConditionalAccessPolicy', params={'Identity': 'seccxpninja.onmicrosoft.com\\\\\\\\83a057fb-dbca-4ba8-bb5f-0ce6d6e7cff5', 'PolicyDetails': '{\\\"Version\\\":0,\\\"State\\\":\\\"Enabled\\\",\\\"Conditions\\\":{\\\"Applications\\\":{\\\"Include\\\":[{\\\"Acrs\\\":[\\\"urn:microsoft:req1\\\"]}]},\\\"Users\\\":{\\\"Include\\\":[{\\\"Users\\\":[\\\"eababd92-9dc7-40e3-9359-6c106522db19\\\"]}]}},\\\"Controls\\\":[{\\\"Control\\\":[\\\"Mfa\\\"]}],\\\"PersistentBrowserSessionMode\\\":\\\"NotSet\\\",\\\"EnforceAllPoliciesForEas\\\":false,\\\"IncludeOtherLegacyClientTypeForEvaluation\\\":false}', 'PolicyLastUpdatedTime': '7/4/2020 4:58:34 AM', 'TenantDefaultPolicy': '', 'DisplayName': 'MeganB MCAS Step-up', 'PolicyIdentifierString': ''})\",\"Cmd(name='Set-ConditionalAccessPolicy', params={'Identity': 'seccxpninja.onmicrosoft.com\\\\\\\\235bec94-f744-48ac-8314-5675953d2def', 'PolicyDetails': '{\\\"Version\\\":0,\\\"State\\\":\\\"Disabled\\\",\\\"Conditions\\\":{\\\"Applications\\\":{\\\"Include\\\":[{\\\"Applications\\\":[\\\"All\\\"]}]},\\\"Users\\\":{\\\"Include\\\":[{\\\"Users\\\":[\\\"eababd92-9dc7-40e3-9359-6c106522db19\\\"]}]},\\\"DevicePlatforms\\\":{\\\"Include\\\":[{\\\"DevicePlatforms\\\":[\\\"All\\\"]}],\\\"Exclude\\\":[{\\\"DevicePlatforms\\\":[\\\"macOS\\\"]}]}},\\\"Controls\\\":[{\\\"Control\\\":[\\\"Mfa\\\"]}],\\\"PersistentBrowserSessionMode\\\":\\\"NotSet\\\",\\\"EnforceAllPoliciesForEas\\\":false,\\\"IncludeOtherLegacyClientTypeForEvaluation\\\":false}', 'PolicyLastUpdatedTime': '7/4/2020 4:58:34 AM', 'TenantDefaultPolicy': '', 'DisplayName': 'Megan MFA demo', 'PolicyIdentifierString': ''})\"],[\"Cmd(name='Set-ConditionalAccessPolicy', params={'Identity': 'seccxpninja.onmicrosoft.com\\\\\\\\b2915792-0396-4abe-94ec-e17fa17243c5', 'PolicyDetails': '{\\\"Version\\\":0,\\\"State\\\":\\\"Enabled\\\",\\\"Conditions\\\":{\\\"Applications\\\":{\\\"Include\\\":[{\\\"Applications\\\":[\\\"94c63fef-13a3-47bc-8074-75af8c65887a\\\",\\\"c9a559d2-7aab-4f13-a6ed-e7e9c52aec87\\\"]}]},\\\"Users\\\":{\\\"Include\\\":[{\\\"Users\\\":[\\\"bdb72692-2275-412b-8af0-ea21c2ebd174\\\",\\\"eababd92-9dc7-40e3-9359-6c106522db19\\\"]}]},\\\"SignInRisks\\\":{\\\"Include\\\":[{\\\"SignInRisks\\\":[\\\"High\\\",\\\"Medium\\\",\\\"Low\\\"]}]}},\\\"SessionControls\\\":[\\\"CloudAppSecurity\\\"],\\\"PersistentBrowserSessionMode\\\":\\\"NotSet\\\",\\\"EnforceAllPoliciesForEas\\\":false,\\\"IncludeOtherLegacyClientTypeForEvaluation\\\":false,\\\"CasSessionControlType\\\":3}', 'PolicyLastUpdatedTime': '7/5/2020 2:09:01 AM', 'TenantDefaultPolicy': '', 'DisplayName': 'GBB demo', 'PolicyIdentifierString': ''})\",\"Cmd(name='Set-ConditionalAccessPolicy', params={'Identity': 'seccxpninja.onmicrosoft.com\\\\\\\\5fd0c4ff-1cd7-4bf6-8607-294a04f58f12', 'PolicyDetails': '{\\\"Version\\\":0,\\\"State\\\":\\\"Disabled\\\",\\\"Conditions\\\":{\\\"Applications\\\":{\\\"Include\\\":[{\\\"Applications\\\":[\\\"All\\\"]}]},\\\"Users\\\":{\\\"Include\\\":[{\\\"Users\\\":[\\\"142512c7-f006-46ae-909c-14fa7bf6a887\\\"]}]}},\\\"Controls\\\":[{\\\"Control\\\":[\\\"Mfa\\\"]}],\\\"EnforceAllPoliciesForEas\\\":false,\\\"IncludeOtherLegacyClientTypeForEvaluation\\\":false}', 'PolicyLastUpdatedTime': '7/5/2020 2:09:01 AM', 'TenantDefaultPolicy': '', 'DisplayName': 'Azure MFA', 'PolicyIdentifierString': ''})\"],[\"Cmd(name='Set-ConditionalAccessPolicy', params={'Identity': 'seccxpninja.onmicrosoft.com\\\\\\\\2e76d011-eaa3-40b4-8ce8-7fba52bf3af8', 'PolicyDetails': '{\\\"Version\\\":0,\\\"State\\\":\\\"Reporting\\\",\\\"Conditions\\\":{\\\"Applications\\\":{\\\"Include\\\":[{\\\"Applications\\\":[\\\"f9e8b3d0-ba26-42cd-b544-c90a66191a81\\\"]}]},\\\"Users\\\":{\\\"Include\\\":[{\\\"Users\\\":[\\\"All\\\"]}]}},\\\"SessionControls\\\":[\\\"CloudAppSecurity\\\"],\\\"PersistentBrowserSessionMode\\\":\\\"NotSet\\\",\\\"EnforceAllPoliciesForEas\\\":false,\\\"IncludeOtherLegacyClientTypeForEvaluation\\\":false,\\\"CasSessionControlType\\\":1}', 'PolicyLastUpdatedTime': '7/5/2020 5:05:51 AM', 'TenantDefaultPolicy': '', 'DisplayName': 'On-Prem SharePoint - MeganB proxy', 'PolicyIdentifierString': ''})\",\"Cmd(name='Set-ConditionalAccessPolicy', params={'Identity': 'seccxpninja.onmicrosoft.com\\\\\\\\2e76d011-eaa3-40b4-8ce8-7fba52bf3af8', 'PolicyDetails': '{\\\"Version\\\":0,\\\"State\\\":\\\"Reporting\\\",\\\"Conditions\\\":{\\\"Applications\\\":{\\\"Include\\\":[{\\\"Applications\\\":[\\\"f9e8b3d0-ba26-42cd-b544-c90a66191a81\\\"]}]},\\\"Users\\\":{\\\"Include\\\":[{\\\"Users\\\":[\\\"All\\\"]}]}},\\\"SessionControls\\\":[\\\"CloudAppSecurity\\\"],\\\"PersistentBrowserSessionMode\\\":\\\"NotSet\\\",\\\"EnforceAllPoliciesForEas\\\":false,\\\"IncludeOtherLegacyClientTypeForEvaluation\\\":false,\\\"CasSessionControlType\\\":1}', 'PolicyLastUpdatedTime': '7/5/2020 5:05:51 AM', 'TenantDefaultPolicy': '', 'DisplayName': 'On-Prem SharePoint - MeganB proxy', 'PolicyIdentifierString': ''})\"],[\"Cmd(name='Set-ConditionalAccessPolicy', params={'Identity': 'seccxpninja.onmicrosoft.com\\\\\\\\3b13ea3c-c733-4eb8-bd19-67d308b2ea04', 'PolicyDetails': '{\\\"Version\\\":0,\\\"CreatedDateTime\\\":\\\"2020-05-19T13:34:15.2394934Z\\\",\\\"ModifiedDateTime\\\":\\\"2020-05-19T13:39:04.7333386Z\\\",\\\"State\\\":\\\"Reporting\\\",\\\"Conditions\\\":{\\\"Applications\\\":{\\\"Include\\\":[{\\\"Applications\\\":[\\\"None\\\"]}]},\\\"Users\\\":{\\\"Include\\\":[{\\\"Users\\\":[\\\"Guests\\\"]}]},\\\"DevicePlatforms\\\":{\\\"Include\\\":[{\\\"DevicePlatforms\\\":[\\\"All\\\"]}],\\\"Exclude\\\":[{\\\"DevicePlatforms\\\":[\\\"Android\\\",\\\"iOS\\\",\\\"macOS\\\"]}]},\\\"ClientTypes\\\":{\\\"Include\\\":[{\\\"ClientTypes\\\":[\\\"Browser\\\",\\\"Native\\\"]}]}},\\\"Controls\\\":[{\\\"Control\\\":[\\\"Mfa\\\",\\\"RequireCompliantDevice\\\"]}]}', 'PolicyLastUpdatedTime': '7/6/2020 1:42:07 AM', 'TenantDefaultPolicy': '', 'DisplayName': 'Yanivsh -CA Test', 'PolicyIdentifierString': ''})\",\"Cmd(name='Set-ConditionalAccessPolicy', params={'Identity': 'seccxpninja.onmicrosoft.com\\\\\\\\8837fdaa-aaeb-4432-9622-43f6f583d583', 'PolicyDetails': '{\\\"KnownNetworkPolicies\\\":{\\\"NetworkName\\\":\\\"BE-Office\\\",\\\"NetworkId\\\":\\\"b98b9088-ce88-4fae-80fb-5b58cb1ce685\\\",\\\"CidrIpRanges\\\":[\\\"109.88.218.99/28\\\"],\\\"CountryIsoCodes\\\":null,\\\"Categories\\\":[],\\\"ApplyToUnknownCountry\\\":false}}', 'PolicyLastUpdatedTime': '7/6/2020 1:42:07 AM', 'TenantDefaultPolicy': '6', 'DisplayName': 'Known Networks List', 'PolicyIdentifierString': '3/19/2020 7:45:08 PM'})\"],[\"Cmd(name='Set-ConditionalAccessPolicy', params={'Identity': 'seccxpninja.onmicrosoft.com\\\\\\\\6490d00c-7ba1-42cf-aa88-99eb71d53bf7', 'PolicyDetails': '{\\\"Version\\\":0,\\\"LastUpdatedTimestamp\\\":\\\"2020-07-02T12:42:35.1866847Z\\\",\\\"State\\\":\\\"Disabled\\\",\\\"SignInFrequency\\\":\\\"NotSet\\\",\\\"PersistentBrowserSessionMode\\\":\\\"NotSet\\\"}', 'PolicyLastUpdatedTime': '7/6/2020 4:29:48 AM', 'TenantDefaultPolicy': '18', 'DisplayName': 'Default Policy', 'PolicyIdentifierString': '5/19/2020 1:39:05 PM'})\",\"Cmd(name='Set-ConditionalAccessPolicy', params={'Identity': 'seccxpninja.onmicrosoft.com\\\\\\\\69c7a12f-b407-45a3-b07e-fa04fc7f273d', 'PolicyDetails': '{\\\"Version\\\":0,\\\"State\\\":\\\"Enabled\\\",\\\"Conditions\\\":{\\\"Applications\\\":{\\\"Include\\\":[{\\\"Applications\\\":[\\\"00000003-0000-0ff1-ce00-000000000000\\\"]}]},\\\"Users\\\":{\\\"Include\\\":[{\\\"Users\\\":[\\\"All\\\"]}]}},\\\"SessionControls\\\":[\\\"CloudAppSecurity\\\"],\\\"PersistentBrowserSessionMode\\\":\\\"NotSet\\\",\\\"EnforceAllPoliciesForEas\\\":false,\\\"IncludeOtherLegacyClientTypeForEvaluation\\\":false,\\\"CasSessionControlType\\\":1}', 'PolicyLastUpdatedTime': '7/6/2020 4:29:48 AM', 'TenantDefaultPolicy': '', 'DisplayName': 'Test Policy', 'PolicyIdentifierString': ''})\"],[\"Cmd(name='Set-ConditionalAccessPolicy', params={'Identity': 'seccxpninja.onmicrosoft.com\\\\\\\\83a057fb-dbca-4ba8-bb5f-0ce6d6e7cff5', 'PolicyDetails': '{\\\"Version\\\":0,\\\"State\\\":\\\"Enabled\\\",\\\"Conditions\\\":{\\\"Applications\\\":{\\\"Include\\\":[{\\\"Acrs\\\":[\\\"urn:microsoft:req1\\\"]}]},\\\"Users\\\":{\\\"Include\\\":[{\\\"Users\\\":[\\\"eababd92-9dc7-40e3-9359-6c106522db19\\\"]}]}},\\\"Controls\\\":[{\\\"Control\\\":[\\\"Mfa\\\"]}],\\\"PersistentBrowserSessionMode\\\":\\\"NotSet\\\",\\\"EnforceAllPoliciesForEas\\\":false,\\\"IncludeOtherLegacyClientTypeForEvaluation\\\":false}', 'PolicyLastUpdatedTime': '7/7/2020 1:51:17 AM', 'TenantDefaultPolicy': '', 'DisplayName': 'MeganB MCAS Step-up', 'PolicyIdentifierString': ''})\",\"Cmd(name='Set-ConditionalAccessPolicy', params={'Identity': 'seccxpninja.onmicrosoft.com\\\\\\\\5fd0c4ff-1cd7-4bf6-8607-294a04f58f12', 'PolicyDetails': '{\\\"Version\\\":0,\\\"State\\\":\\\"Disabled\\\",\\\"Conditions\\\":{\\\"Applications\\\":{\\\"Include\\\":[{\\\"Applications\\\":[\\\"All\\\"]}]},\\\"Users\\\":{\\\"Include\\\":[{\\\"Users\\\":[\\\"142512c7-f006-46ae-909c-14fa7bf6a887\\\"]}]}},\\\"Controls\\\":[{\\\"Control\\\":[\\\"Mfa\\\"]}],\\\"EnforceAllPoliciesForEas\\\":false,\\\"IncludeOtherLegacyClientTypeForEvaluation\\\":false}', 'PolicyLastUpdatedTime': '7/7/2020 1:51:18 AM', 'TenantDefaultPolicy': '', 'DisplayName': 'Azure MFA', 'PolicyIdentifierString': ''})\"],[\"Cmd(name='Set-ConditionalAccessPolicy', params={'Identity': 'seccxpninja.onmicrosoft.com\\\\\\\\8837fdaa-aaeb-4432-9622-43f6f583d583', 'PolicyDetails': '{\\\"KnownNetworkPolicies\\\":{\\\"NetworkName\\\":\\\"BE-Office\\\",\\\"NetworkId\\\":\\\"b98b9088-ce88-4fae-80fb-5b58cb1ce685\\\",\\\"CidrIpRanges\\\":[\\\"109.88.218.99/28\\\"],\\\"CountryIsoCodes\\\":null,\\\"Categories\\\":[],\\\"ApplyToUnknownCountry\\\":false}}', 'PolicyLastUpdatedTime': '7/8/2020 2:30:51 AM', 'TenantDefaultPolicy': '6', 'DisplayName': 'Known Networks List', 'PolicyIdentifierString': '3/19/2020 7:45:08 PM'})\",\"Cmd(name='Set-ConditionalAccessPolicy', params={'Identity': 'seccxpninja.onmicrosoft.com\\\\\\\\8837fdaa-aaeb-4432-9622-43f6f583d583', 'PolicyDetails': '{\\\"KnownNetworkPolicies\\\":{\\\"NetworkName\\\":\\\"BE-Office\\\",\\\"NetworkId\\\":\\\"b98b9088-ce88-4fae-80fb-5b58cb1ce685\\\",\\\"CidrIpRanges\\\":[\\\"109.88.218.99/28\\\"],\\\"CountryIsoCodes\\\":null,\\\"Categories\\\":[],\\\"ApplyToUnknownCountry\\\":false}}', 'PolicyLastUpdatedTime': '7/8/2020 2:30:51 AM', 'TenantDefaultPolicy': '6', 'DisplayName': 'Known Networks List', 'PolicyIdentifierString': '3/19/2020 7:45:08 PM'})\"],[\"Cmd(name='Set-ConditionalAccessPolicy', params={'Identity': 'seccxpninja.onmicrosoft.com\\\\\\\\e183bd29-a3a3-4f91-a5a3-b83b21a544df', 'PolicyDetails': '{\\\"Version\\\":0,\\\"State\\\":\\\"Enabled\\\",\\\"Conditions\\\":{\\\"Applications\\\":{\\\"Include\\\":[{\\\"Applications\\\":[\\\"00000002-0000-0ff1-ce00-000000000000\\\"]}]},\\\"Users\\\":{\\\"Include\\\":[{\\\"Users\\\":[\\\"2935e535-8fdf-4217-865b-e084cb7214f1\\\"]}]}},\\\"SessionControls\\\":[\\\"AppEnforcedRestrictions\\\"],\\\"PersistentBrowserSessionMode\\\":\\\"NotSet\\\",\\\"EnforceAllPoliciesForEas\\\":false,\\\"IncludeOtherLegacyClientTypeForEvaluation\\\":false}', 'PolicyLastUpdatedTime': '7/8/2020 4:57:43 AM', 'TenantDefaultPolicy': '', 'DisplayName': 'JulianI Exchange native controls', 'PolicyIdentifierString': ''})\",\"Cmd(name='Set-ConditionalAccessPolicy', params={'Identity': 'seccxpninja.onmicrosoft.com\\\\\\\\83a057fb-dbca-4ba8-bb5f-0ce6d6e7cff5', 'PolicyDetails': '{\\\"Version\\\":0,\\\"State\\\":\\\"Enabled\\\",\\\"Conditions\\\":{\\\"Applications\\\":{\\\"Include\\\":[{\\\"Acrs\\\":[\\\"urn:microsoft:req1\\\"]}]},\\\"Users\\\":{\\\"Include\\\":[{\\\"Users\\\":[\\\"eababd92-9dc7-40e3-9359-6c106522db19\\\"]}]}},\\\"Controls\\\":[{\\\"Control\\\":[\\\"Mfa\\\"]}],\\\"PersistentBrowserSessionMode\\\":\\\"NotSet\\\",\\\"EnforceAllPoliciesForEas\\\":false,\\\"IncludeOtherLegacyClientTypeForEvaluation\\\":false}', 'PolicyLastUpdatedTime': '7/8/2020 4:57:42 AM', 'TenantDefaultPolicy': '', 'DisplayName': 'MeganB MCAS Step-up', 'PolicyIdentifierString': ''})\"],[\"Cmd(name='Set-ConditionalAccessPolicy', params={'Identity': 'seccxpninja.onmicrosoft.com\\\\\\\\235bec94-f744-48ac-8314-5675953d2def', 'PolicyDetails': '{\\\"Version\\\":0,\\\"State\\\":\\\"Disabled\\\",\\\"Conditions\\\":{\\\"Applications\\\":{\\\"Include\\\":[{\\\"Applications\\\":[\\\"All\\\"]}]},\\\"Users\\\":{\\\"Include\\\":[{\\\"Users\\\":[\\\"eababd92-9dc7-40e3-9359-6c106522db19\\\"]}]},\\\"DevicePlatforms\\\":{\\\"Include\\\":[{\\\"DevicePlatforms\\\":[\\\"All\\\"]}],\\\"Exclude\\\":[{\\\"DevicePlatforms\\\":[\\\"macOS\\\"]}]}},\\\"Controls\\\":[{\\\"Control\\\":[\\\"Mfa\\\"]}],\\\"PersistentBrowserSessionMode\\\":\\\"NotSet\\\",\\\"EnforceAllPoliciesForEas\\\":false,\\\"IncludeOtherLegacyClientTypeForEvaluation\\\":false}', 'PolicyLastUpdatedTime': '7/9/2020 2:37:12 AM', 'TenantDefaultPolicy': '', 'DisplayName': 'Megan MFA demo', 'PolicyIdentifierString': ''})\",\"Cmd(name='Set-ConditionalAccessPolicy', params={'Identity': 'seccxpninja.onmicrosoft.com\\\\\\\\2e76d011-eaa3-40b4-8ce8-7fba52bf3af8', 'PolicyDetails': '{\\\"Version\\\":0,\\\"State\\\":\\\"Reporting\\\",\\\"Conditions\\\":{\\\"Applications\\\":{\\\"Include\\\":[{\\\"Applications\\\":[\\\"f9e8b3d0-ba26-42cd-b544-c90a66191a81\\\"]}]},\\\"Users\\\":{\\\"Include\\\":[{\\\"Users\\\":[\\\"All\\\"]}]}},\\\"SessionControls\\\":[\\\"CloudAppSecurity\\\"],\\\"PersistentBrowserSessionMode\\\":\\\"NotSet\\\",\\\"EnforceAllPoliciesForEas\\\":false,\\\"IncludeOtherLegacyClientTypeForEvaluation\\\":false,\\\"CasSessionControlType\\\":1}', 'PolicyLastUpdatedTime': '7/9/2020 2:37:14 AM', 'TenantDefaultPolicy': '', 'DisplayName': 'On-Prem SharePoint - MeganB proxy', 'PolicyIdentifierString': ''})\"],[\"Cmd(name='Set-ConditionalAccessPolicy', params={'Identity': 'seccxpninja.onmicrosoft.com\\\\\\\\ba36f0a4-6d73-4ba4-9282-3b3c14575e36', 'PolicyDetails': '{\\\"Version\\\":0,\\\"ModifiedDateTime\\\":\\\"2020-05-19T13:31:41.7083504Z\\\",\\\"State\\\":\\\"Disabled\\\",\\\"Conditions\\\":{\\\"Applications\\\":{\\\"Include\\\":[{\\\"Applications\\\":[\\\"00000002-0000-0ff1-ce00-000000000000\\\",\\\"00000003-0000-0ff1-ce00-000000000000\\\"]}]},\\\"Users\\\":{\\\"Include\\\":[{\\\"Users\\\":[\\\"2935e535-8fdf-4217-865b-e084cb7214f1\\\"]}]},\\\"DevicePlatforms\\\":{\\\"Include\\\":[{\\\"DevicePlatforms\\\":[\\\"All\\\"]}],\\\"Exclude\\\":[{\\\"DevicePlatforms\\\":[\\\"Android\\\",\\\"iOS\\\",\\\"macOS\\\"]}]},\\\"ClientTypes\\\":{\\\"Include\\\":[{\\\"ClientTypes\\\":[\\\"Browser\\\",\\\"Native\\\"]}]}},\\\"SessionControls\\\":[\\\"CloudAppSecurity\\\"],\\\"CasSessionControlType\\\":1}', 'PolicyLastUpdatedTime': '7/10/2020 2:47:08 AM', 'TenantDefaultPolicy': '', 'DisplayName': 'Block Access JulianI', 'PolicyIdentifierString': ''})\",\"Cmd(name='Set-ConditionalAccessPolicy', params={'Identity': 'seccxpninja.onmicrosoft.com\\\\\\\\4c5a5ea0-5d9f-4730-baaa-7a69cf29ef26', 'PolicyDetails': '{\\\"Version\\\":0,\\\"State\\\":\\\"Enabled\\\",\\\"Conditions\\\":{\\\"Applications\\\":{\\\"Include\\\":[{\\\"Applications\\\":[\\\"All\\\"]}]},\\\"Users\\\":{\\\"Include\\\":[{\\\"Users\\\":[\\\"bdb72692-2275-412b-8af0-ea21c2ebd174\\\"]}]}},\\\"Controls\\\":[{\\\"Control\\\":[\\\"Mfa\\\"]}],\\\"PersistentBrowserSessionMode\\\":\\\"NotSet\\\",\\\"EnforceAllPoliciesForEas\\\":false,\\\"IncludeOtherLegacyClientTypeForEvaluation\\\":false}', 'PolicyLastUpdatedTime': '7/10/2020 2:47:08 AM', 'TenantDefaultPolicy': '', 'DisplayName': 'Semolen - Admin MFA', 'PolicyIdentifierString': ''})\"],[\"Cmd(name='Set-ConditionalAccessPolicy', params={'Identity': 'seccxpninja.onmicrosoft.com\\\\\\\\ba36f0a4-6d73-4ba4-9282-3b3c14575e36', 'PolicyDetails': '{\\\"Version\\\":0,\\\"ModifiedDateTime\\\":\\\"2020-05-19T13:31:41.7083504Z\\\",\\\"State\\\":\\\"Disabled\\\",\\\"Conditions\\\":{\\\"Applications\\\":{\\\"Include\\\":[{\\\"Applications\\\":[\\\"00000002-0000-0ff1-ce00-000000000000\\\",\\\"00000003-0000-0ff1-ce00-000000000000\\\"]}]},\\\"Users\\\":{\\\"Include\\\":[{\\\"Users\\\":[\\\"2935e535-8fdf-4217-865b-e084cb7214f1\\\"]}]},\\\"DevicePlatforms\\\":{\\\"Include\\\":[{\\\"DevicePlatforms\\\":[\\\"All\\\"]}],\\\"Exclude\\\":[{\\\"DevicePlatforms\\\":[\\\"Android\\\",\\\"iOS\\\",\\\"macOS\\\"]}]},\\\"ClientTypes\\\":{\\\"Include\\\":[{\\\"ClientTypes\\\":[\\\"Browser\\\",\\\"Native\\\"]}]}},\\\"SessionControls\\\":[\\\"CloudAppSecurity\\\"],\\\"CasSessionControlType\\\":1}', 'PolicyLastUpdatedTime': '7/10/2020 5:29:23 AM', 'TenantDefaultPolicy': '', 'DisplayName': 'Block Access JulianI', 'PolicyIdentifierString': ''})\",\"Cmd(name='Set-ConditionalAccessPolicy', params={'Identity': 'seccxpninja.onmicrosoft.com\\\\\\\\2e76d011-eaa3-40b4-8ce8-7fba52bf3af8', 'PolicyDetails': '{\\\"Version\\\":0,\\\"State\\\":\\\"Reporting\\\",\\\"Conditions\\\":{\\\"Applications\\\":{\\\"Include\\\":[{\\\"Applications\\\":[\\\"f9e8b3d0-ba26-42cd-b544-c90a66191a81\\\"]}]},\\\"Users\\\":{\\\"Include\\\":[{\\\"Users\\\":[\\\"All\\\"]}]}},\\\"SessionControls\\\":[\\\"CloudAppSecurity\\\"],\\\"PersistentBrowserSessionMode\\\":\\\"NotSet\\\",\\\"EnforceAllPoliciesForEas\\\":false,\\\"IncludeOtherLegacyClientTypeForEvaluation\\\":false,\\\"CasSessionControlType\\\":1}', 'PolicyLastUpdatedTime': '7/10/2020 5:29:22 AM', 'TenantDefaultPolicy': '', 'DisplayName': 'On-Prem SharePoint - MeganB proxy', 'PolicyIdentifierString': ''})\"],[\"Cmd(name='Set-ConditionalAccessPolicy', params={'Identity': 'seccxpninja.onmicrosoft.com\\\\\\\\8872f6fb-da88-4b63-bcc7-17247669596b', 'PolicyDetails': '{\\\"Version\\\":0,\\\"State\\\":\\\"Enabled\\\",\\\"Conditions\\\":{\\\"Applications\\\":{\\\"Include\\\":[{\\\"Applications\\\":[\\\"00000002-0000-0ff1-ce00-000000000000\\\",\\\"09abbdfd-ed23-44ee-a2d9-a627aa1c90f3\\\",\\\"cc15fd57-2c6c-4117-a88c-83b1d56b4bbe\\\",\\\"00000003-0000-0ff1-ce00-000000000000\\\",\\\"00000005-0000-0ff1-ce00-000000000000\\\"]}]},\\\"Users\\\":{\\\"Include\\\":[{\\\"Users\\\":[\\\"eababd92-9dc7-40e3-9359-6c106522db19\\\"]}]}},\\\"SessionControls\\\":[\\\"CloudAppSecurity\\\"],\\\"PersistentBrowserSessionMode\\\":\\\"NotSet\\\",\\\"EnforceAllPoliciesForEas\\\":false,\\\"IncludeOtherLegacyClientTypeForEvaluation\\\":false,\\\"CasSessionControlType\\\":1}', 'PolicyLastUpdatedTime': '7/11/2020 2:21:22 AM', 'TenantDefaultPolicy': '', 'DisplayName': 'MeganB MCAS Proxy', 'PolicyIdentifierString': ''})\",\"Cmd(name='Set-ConditionalAccessPolicy', params={'Identity': 'seccxpninja.onmicrosoft.com\\\\\\\\3b13ea3c-c733-4eb8-bd19-67d308b2ea04', 'PolicyDetails': '{\\\"Version\\\":0,\\\"CreatedDateTime\\\":\\\"2020-05-19T13:34:15.2394934Z\\\",\\\"ModifiedDateTime\\\":\\\"2020-05-19T13:39:04.7333386Z\\\",\\\"State\\\":\\\"Reporting\\\",\\\"Conditions\\\":{\\\"Applications\\\":{\\\"Include\\\":[{\\\"Applications\\\":[\\\"None\\\"]}]},\\\"Users\\\":{\\\"Include\\\":[{\\\"Users\\\":[\\\"Guests\\\"]}]},\\\"DevicePlatforms\\\":{\\\"Include\\\":[{\\\"DevicePlatforms\\\":[\\\"All\\\"]}],\\\"Exclude\\\":[{\\\"DevicePlatforms\\\":[\\\"Android\\\",\\\"iOS\\\",\\\"macOS\\\"]}]},\\\"ClientTypes\\\":{\\\"Include\\\":[{\\\"ClientTypes\\\":[\\\"Browser\\\",\\\"Native\\\"]}]}},\\\"Controls\\\":[{\\\"Control\\\":[\\\"Mfa\\\",\\\"RequireCompliantDevice\\\"]}]}', 'PolicyLastUpdatedTime': '7/11/2020 2:21:26 AM', 'TenantDefaultPolicy': '', 'DisplayName': 'Yanivsh -CA Test', 'PolicyIdentifierString': ''})\"],[\"Cmd(name='Set-ConditionalAccessPolicy', params={'Identity': 'seccxpninja.onmicrosoft.com\\\\\\\\6490d00c-7ba1-42cf-aa88-99eb71d53bf7', 'PolicyDetails': '{\\\"Version\\\":0,\\\"LastUpdatedTimestamp\\\":\\\"2020-07-02T12:42:35.1866847Z\\\",\\\"State\\\":\\\"Disabled\\\",\\\"SignInFrequency\\\":\\\"NotSet\\\",\\\"PersistentBrowserSessionMode\\\":\\\"NotSet\\\"}', 'PolicyLastUpdatedTime': '7/11/2020 5:03:43 AM', 'TenantDefaultPolicy': '18', 'DisplayName': 'Default Policy', 'PolicyIdentifierString': '5/19/2020 1:39:05 PM'})\",\"Cmd(name='Set-ConditionalAccessPolicy', params={'Identity': 'seccxpninja.onmicrosoft.com\\\\\\\\e183bd29-a3a3-4f91-a5a3-b83b21a544df', 'PolicyDetails': '{\\\"Version\\\":0,\\\"State\\\":\\\"Enabled\\\",\\\"Conditions\\\":{\\\"Applications\\\":{\\\"Include\\\":[{\\\"Applications\\\":[\\\"00000002-0000-0ff1-ce00-000000000000\\\"]}]},\\\"Users\\\":{\\\"Include\\\":[{\\\"Users\\\":[\\\"2935e535-8fdf-4217-865b-e084cb7214f1\\\"]}]}},\\\"SessionControls\\\":[\\\"AppEnforcedRestrictions\\\"],\\\"PersistentBrowserSessionMode\\\":\\\"NotSet\\\",\\\"EnforceAllPoliciesForEas\\\":false,\\\"IncludeOtherLegacyClientTypeForEvaluation\\\":false}', 'PolicyLastUpdatedTime': '7/11/2020 5:03:44 AM', 'TenantDefaultPolicy': '', 'DisplayName': 'JulianI Exchange native controls', 'PolicyIdentifierString': ''})\"],[\"Cmd(name='Set-ConditionalAccessPolicy', params={'Identity': 'seccxpninja.onmicrosoft.com\\\\\\\\69c7a12f-b407-45a3-b07e-fa04fc7f273d', 'PolicyDetails': '{\\\"Version\\\":0,\\\"State\\\":\\\"Enabled\\\",\\\"Conditions\\\":{\\\"Applications\\\":{\\\"Include\\\":[{\\\"Applications\\\":[\\\"00000003-0000-0ff1-ce00-000000000000\\\"]}]},\\\"Users\\\":{\\\"Include\\\":[{\\\"Users\\\":[\\\"All\\\"]}]}},\\\"SessionControls\\\":[\\\"CloudAppSecurity\\\"],\\\"PersistentBrowserSessionMode\\\":\\\"NotSet\\\",\\\"EnforceAllPoliciesForEas\\\":false,\\\"IncludeOtherLegacyClientTypeForEvaluation\\\":false,\\\"CasSessionControlType\\\":1}', 'PolicyLastUpdatedTime': '7/11/2020 5:03:43 AM', 'TenantDefaultPolicy': '', 'DisplayName': 'Test Policy', 'PolicyIdentifierString': ''})\",\"Cmd(name='Set-ConditionalAccessPolicy', params={'Identity': 'seccxpninja.onmicrosoft.com\\\\\\\\bcd93f74-64fd-4042-a3ae-ee6d48886d6d', 'PolicyDetails': '{\\\"Version\\\":0,\\\"State\\\":\\\"Enabled\\\",\\\"Conditions\\\":{\\\"Applications\\\":{\\\"Include\\\":[{\\\"Applications\\\":[\\\"c9a559d2-7aab-4f13-a6ed-e7e9c52aec87\\\"]}]},\\\"Users\\\":{\\\"Include\\\":[{\\\"Users\\\":[\\\"bdb72692-2275-412b-8af0-ea21c2ebd174\\\",\\\"eababd92-9dc7-40e3-9359-6c106522db19\\\"]}]}},\\\"SessionControls\\\":[\\\"CloudAppSecurity\\\"],\\\"PersistentBrowserSessionMode\\\":\\\"NotSet\\\",\\\"EnforceAllPoliciesForEas\\\":false,\\\"IncludeOtherLegacyClientTypeForEvaluation\\\":false,\\\"CasSessionControlType\\\":3}', 'PolicyLastUpdatedTime': '7/11/2020 5:03:41 AM', 'TenantDefaultPolicy': '', 'DisplayName': 'Form MCAS', 'PolicyIdentifierString': ''})\"],[\"Cmd(name='Set-ConditionalAccessPolicy', params={'Identity': 'seccxpninja.onmicrosoft.com\\\\\\\\e183bd29-a3a3-4f91-a5a3-b83b21a544df', 'PolicyDetails': '{\\\"Version\\\":0,\\\"State\\\":\\\"Enabled\\\",\\\"Conditions\\\":{\\\"Applications\\\":{\\\"Include\\\":[{\\\"Applications\\\":[\\\"00000002-0000-0ff1-ce00-000000000000\\\"]}]},\\\"Users\\\":{\\\"Include\\\":[{\\\"Users\\\":[\\\"2935e535-8fdf-4217-865b-e084cb7214f1\\\"]}]}},\\\"SessionControls\\\":[\\\"AppEnforcedRestrictions\\\"],\\\"PersistentBrowserSessionMode\\\":\\\"NotSet\\\",\\\"EnforceAllPoliciesForEas\\\":false,\\\"IncludeOtherLegacyClientTypeForEvaluation\\\":false}', 'PolicyLastUpdatedTime': '7/12/2020 2:47:24 AM', 'TenantDefaultPolicy': '', 'DisplayName': 'JulianI Exchange native controls', 'PolicyIdentifierString': ''})\",\"Cmd(name='Set-ConditionalAccessPolicy', params={'Identity': 'seccxpninja.onmicrosoft.com\\\\\\\\83a057fb-dbca-4ba8-bb5f-0ce6d6e7cff5', 'PolicyDetails': '{\\\"Version\\\":0,\\\"State\\\":\\\"Enabled\\\",\\\"Conditions\\\":{\\\"Applications\\\":{\\\"Include\\\":[{\\\"Acrs\\\":[\\\"urn:microsoft:req1\\\"]}]},\\\"Users\\\":{\\\"Include\\\":[{\\\"Users\\\":[\\\"eababd92-9dc7-40e3-9359-6c106522db19\\\"]}]}},\\\"Controls\\\":[{\\\"Control\\\":[\\\"Mfa\\\"]}],\\\"PersistentBrowserSessionMode\\\":\\\"NotSet\\\",\\\"EnforceAllPoliciesForEas\\\":false,\\\"IncludeOtherLegacyClientTypeForEvaluation\\\":false}', 'PolicyLastUpdatedTime': '7/12/2020 2:47:24 AM', 'TenantDefaultPolicy': '', 'DisplayName': 'MeganB MCAS Step-up', 'PolicyIdentifierString': ''})\"],[\"Cmd(name='Set-ConditionalAccessPolicy', params={'Identity': 'seccxpninja.onmicrosoft.com\\\\\\\\e183bd29-a3a3-4f91-a5a3-b83b21a544df', 'PolicyDetails': '{\\\"Version\\\":0,\\\"State\\\":\\\"Enabled\\\",\\\"Conditions\\\":{\\\"Applications\\\":{\\\"Include\\\":[{\\\"Applications\\\":[\\\"00000002-0000-0ff1-ce00-000000000000\\\"]}]},\\\"Users\\\":{\\\"Include\\\":[{\\\"Users\\\":[\\\"2935e535-8fdf-4217-865b-e084cb7214f1\\\"]}]}},\\\"SessionControls\\\":[\\\"AppEnforcedRestrictions\\\"],\\\"PersistentBrowserSessionMode\\\":\\\"NotSet\\\",\\\"EnforceAllPoliciesForEas\\\":false,\\\"IncludeOtherLegacyClientTypeForEvaluation\\\":false}', 'PolicyLastUpdatedTime': '7/12/2020 5:31:05 AM', 'TenantDefaultPolicy': '', 'DisplayName': 'JulianI Exchange native controls', 'PolicyIdentifierString': ''})\",\"Cmd(name='Set-ConditionalAccessPolicy', params={'Identity': 'seccxpninja.onmicrosoft.com\\\\\\\\6490d00c-7ba1-42cf-aa88-99eb71d53bf7', 'PolicyDetails': '{\\\"Version\\\":0,\\\"LastUpdatedTimestamp\\\":\\\"2020-07-02T12:42:35.1866847Z\\\",\\\"State\\\":\\\"Disabled\\\",\\\"SignInFrequency\\\":\\\"NotSet\\\",\\\"PersistentBrowserSessionMode\\\":\\\"NotSet\\\"}', 'PolicyLastUpdatedTime': '7/12/2020 5:31:05 AM', 'TenantDefaultPolicy': '18', 'DisplayName': 'Default Policy', 'PolicyIdentifierString': '5/19/2020 1:39:05 PM'})\"],[\"Cmd(name='Set-ConditionalAccessPolicy', params={'Identity': 'seccxpninja.onmicrosoft.com\\\\\\\\8872f6fb-da88-4b63-bcc7-17247669596b', 'PolicyDetails': '{\\\"Version\\\":0,\\\"State\\\":\\\"Enabled\\\",\\\"Conditions\\\":{\\\"Applications\\\":{\\\"Include\\\":[{\\\"Applications\\\":[\\\"00000002-0000-0ff1-ce00-000000000000\\\",\\\"09abbdfd-ed23-44ee-a2d9-a627aa1c90f3\\\",\\\"cc15fd57-2c6c-4117-a88c-83b1d56b4bbe\\\",\\\"00000003-0000-0ff1-ce00-000000000000\\\",\\\"00000005-0000-0ff1-ce00-000000000000\\\"]}]},\\\"Users\\\":{\\\"Include\\\":[{\\\"Users\\\":[\\\"eababd92-9dc7-40e3-9359-6c106522db19\\\"]}]}},\\\"SessionControls\\\":[\\\"CloudAppSecurity\\\"],\\\"PersistentBrowserSessionMode\\\":\\\"NotSet\\\",\\\"EnforceAllPoliciesForEas\\\":false,\\\"IncludeOtherLegacyClientTypeForEvaluation\\\":false,\\\"CasSessionControlType\\\":1}', 'PolicyLastUpdatedTime': '7/13/2020 2:48:08 AM', 'TenantDefaultPolicy': '', 'DisplayName': 'MeganB MCAS Proxy', 'PolicyIdentifierString': ''})\",\"Cmd(name='Set-ConditionalAccessPolicy', params={'Identity': 'seccxpninja.onmicrosoft.com\\\\\\\\235bec94-f744-48ac-8314-5675953d2def', 'PolicyDetails': '{\\\"Version\\\":0,\\\"State\\\":\\\"Disabled\\\",\\\"Conditions\\\":{\\\"Applications\\\":{\\\"Include\\\":[{\\\"Applications\\\":[\\\"All\\\"]}]},\\\"Users\\\":{\\\"Include\\\":[{\\\"Users\\\":[\\\"eababd92-9dc7-40e3-9359-6c106522db19\\\"]}]},\\\"DevicePlatforms\\\":{\\\"Include\\\":[{\\\"DevicePlatforms\\\":[\\\"All\\\"]}],\\\"Exclude\\\":[{\\\"DevicePlatforms\\\":[\\\"macOS\\\"]}]}},\\\"Controls\\\":[{\\\"Control\\\":[\\\"Mfa\\\"]}],\\\"PersistentBrowserSessionMode\\\":\\\"NotSet\\\",\\\"EnforceAllPoliciesForEas\\\":false,\\\"IncludeOtherLegacyClientTypeForEvaluation\\\":false}', 'PolicyLastUpdatedTime': '7/13/2020 2:48:09 AM', 'TenantDefaultPolicy': '', 'DisplayName': 'Megan MFA demo', 'PolicyIdentifierString': ''})\"],[\"Cmd(name='Set-ConditionalAccessPolicy', params={'Identity': 'seccxpninja.onmicrosoft.com\\\\\\\\e183bd29-a3a3-4f91-a5a3-b83b21a544df', 'PolicyDetails': '{\\\"Version\\\":0,\\\"State\\\":\\\"Enabled\\\",\\\"Conditions\\\":{\\\"Applications\\\":{\\\"Include\\\":[{\\\"Applications\\\":[\\\"00000002-0000-0ff1-ce00-000000000000\\\"]}]},\\\"Users\\\":{\\\"Include\\\":[{\\\"Users\\\":[\\\"2935e535-8fdf-4217-865b-e084cb7214f1\\\"]}]}},\\\"SessionControls\\\":[\\\"AppEnforcedRestrictions\\\"],\\\"PersistentBrowserSessionMode\\\":\\\"NotSet\\\",\\\"EnforceAllPoliciesForEas\\\":false,\\\"IncludeOtherLegacyClientTypeForEvaluation\\\":false}', 'PolicyLastUpdatedTime': '7/13/2020 5:38:31 AM', 'TenantDefaultPolicy': '', 'DisplayName': 'JulianI Exchange native controls', 'PolicyIdentifierString': ''})\",\"Cmd(name='Set-ConditionalAccessPolicy', params={'Identity': 'seccxpninja.onmicrosoft.com\\\\\\\\ba36f0a4-6d73-4ba4-9282-3b3c14575e36', 'PolicyDetails': '{\\\"Version\\\":0,\\\"ModifiedDateTime\\\":\\\"2020-05-19T13:31:41.7083504Z\\\",\\\"State\\\":\\\"Disabled\\\",\\\"Conditions\\\":{\\\"Applications\\\":{\\\"Include\\\":[{\\\"Applications\\\":[\\\"00000002-0000-0ff1-ce00-000000000000\\\",\\\"00000003-0000-0ff1-ce00-000000000000\\\"]}]},\\\"Users\\\":{\\\"Include\\\":[{\\\"Users\\\":[\\\"2935e535-8fdf-4217-865b-e084cb7214f1\\\"]}]},\\\"DevicePlatforms\\\":{\\\"Include\\\":[{\\\"DevicePlatforms\\\":[\\\"All\\\"]}],\\\"Exclude\\\":[{\\\"DevicePlatforms\\\":[\\\"Android\\\",\\\"iOS\\\",\\\"macOS\\\"]}]},\\\"ClientTypes\\\":{\\\"Include\\\":[{\\\"ClientTypes\\\":[\\\"Browser\\\",\\\"Native\\\"]}]}},\\\"SessionControls\\\":[\\\"CloudAppSecurity\\\"],\\\"CasSessionControlType\\\":1}', 'PolicyLastUpdatedTime': '7/13/2020 5:38:30 AM', 'TenantDefaultPolicy': '', 'DisplayName': 'Block Access JulianI', 'PolicyIdentifierString': ''})\"],[\"Cmd(name='Set-ConditionalAccessPolicy', params={'Identity': 'seccxpninja.onmicrosoft.com\\\\\\\\2e76d011-eaa3-40b4-8ce8-7fba52bf3af8', 'PolicyDetails': '{\\\"Version\\\":0,\\\"State\\\":\\\"Reporting\\\",\\\"Conditions\\\":{\\\"Applications\\\":{\\\"Include\\\":[{\\\"Applications\\\":[\\\"f9e8b3d0-ba26-42cd-b544-c90a66191a81\\\"]}]},\\\"Users\\\":{\\\"Include\\\":[{\\\"Users\\\":[\\\"All\\\"]}]}},\\\"SessionControls\\\":[\\\"CloudAppSecurity\\\"],\\\"PersistentBrowserSessionMode\\\":\\\"NotSet\\\",\\\"EnforceAllPoliciesForEas\\\":false,\\\"IncludeOtherLegacyClientTypeForEvaluation\\\":false,\\\"CasSessionControlType\\\":1}', 'PolicyLastUpdatedTime': '7/13/2020 5:38:30 AM', 'TenantDefaultPolicy': '', 'DisplayName': 'On-Prem SharePoint - MeganB proxy', 'PolicyIdentifierString': ''})\",\"Cmd(name='Set-ConditionalAccessPolicy', params={'Identity': 'seccxpninja.onmicrosoft.com\\\\\\\\3b13ea3c-c733-4eb8-bd19-67d308b2ea04', 'PolicyDetails': '{\\\"Version\\\":0,\\\"CreatedDateTime\\\":\\\"2020-05-19T13:34:15.2394934Z\\\",\\\"ModifiedDateTime\\\":\\\"2020-05-19T13:39:04.7333386Z\\\",\\\"State\\\":\\\"Reporting\\\",\\\"Conditions\\\":{\\\"Applications\\\":{\\\"Include\\\":[{\\\"Applications\\\":[\\\"None\\\"]}]},\\\"Users\\\":{\\\"Include\\\":[{\\\"Users\\\":[\\\"Guests\\\"]}]},\\\"DevicePlatforms\\\":{\\\"Include\\\":[{\\\"DevicePlatforms\\\":[\\\"All\\\"]}],\\\"Exclude\\\":[{\\\"DevicePlatforms\\\":[\\\"Android\\\",\\\"iOS\\\",\\\"macOS\\\"]}]},\\\"ClientTypes\\\":{\\\"Include\\\":[{\\\"ClientTypes\\\":[\\\"Browser\\\",\\\"Native\\\"]}]}},\\\"Controls\\\":[{\\\"Control\\\":[\\\"Mfa\\\",\\\"RequireCompliantDevice\\\"]}]}', 'PolicyLastUpdatedTime': '7/13/2020 5:38:31 AM', 'TenantDefaultPolicy': '', 'DisplayName': 'Yanivsh -CA Test', 'PolicyIdentifierString': ''})\"],[\"Cmd(name='Set-ConditionalAccessPolicy', params={'Identity': 'seccxpninja.onmicrosoft.com\\\\\\\\5fd0c4ff-1cd7-4bf6-8607-294a04f58f12', 'PolicyDetails': '{\\\"Version\\\":0,\\\"State\\\":\\\"Disabled\\\",\\\"Conditions\\\":{\\\"Applications\\\":{\\\"Include\\\":[{\\\"Applications\\\":[\\\"All\\\"]}]},\\\"Users\\\":{\\\"Include\\\":[{\\\"Users\\\":[\\\"142512c7-f006-46ae-909c-14fa7bf6a887\\\"]}]}},\\\"Controls\\\":[{\\\"Control\\\":[\\\"Mfa\\\"]}],\\\"EnforceAllPoliciesForEas\\\":false,\\\"IncludeOtherLegacyClientTypeForEvaluation\\\":false}', 'PolicyLastUpdatedTime': '7/14/2020 2:31:27 AM', 'TenantDefaultPolicy': '', 'DisplayName': 'Azure MFA', 'PolicyIdentifierString': ''})\",\"Cmd(name='Set-ConditionalAccessPolicy', params={'Identity': 'seccxpninja.onmicrosoft.com\\\\\\\\b2915792-0396-4abe-94ec-e17fa17243c5', 'PolicyDetails': '{\\\"Version\\\":0,\\\"State\\\":\\\"Enabled\\\",\\\"Conditions\\\":{\\\"Applications\\\":{\\\"Include\\\":[{\\\"Applications\\\":[\\\"94c63fef-13a3-47bc-8074-75af8c65887a\\\",\\\"c9a559d2-7aab-4f13-a6ed-e7e9c52aec87\\\"]}]},\\\"Users\\\":{\\\"Include\\\":[{\\\"Users\\\":[\\\"bdb72692-2275-412b-8af0-ea21c2ebd174\\\",\\\"eababd92-9dc7-40e3-9359-6c106522db19\\\"]}]},\\\"SignInRisks\\\":{\\\"Include\\\":[{\\\"SignInRisks\\\":[\\\"High\\\",\\\"Medium\\\",\\\"Low\\\"]}]}},\\\"SessionControls\\\":[\\\"CloudAppSecurity\\\"],\\\"PersistentBrowserSessionMode\\\":\\\"NotSet\\\",\\\"EnforceAllPoliciesForEas\\\":false,\\\"IncludeOtherLegacyClientTypeForEvaluation\\\":false,\\\"CasSessionControlType\\\":3}', 'PolicyLastUpdatedTime': '7/14/2020 2:31:27 AM', 'TenantDefaultPolicy': '', 'DisplayName': 'GBB demo', 'PolicyIdentifierString': ''})\"],[\"Cmd(name='Set-ConditionalAccessPolicy', params={'Identity': 'seccxpninja.onmicrosoft.com\\\\\\\\235bec94-f744-48ac-8314-5675953d2def', 'PolicyDetails': '{\\\"Version\\\":0,\\\"State\\\":\\\"Disabled\\\",\\\"Conditions\\\":{\\\"Applications\\\":{\\\"Include\\\":[{\\\"Applications\\\":[\\\"All\\\"]}]},\\\"Users\\\":{\\\"Include\\\":[{\\\"Users\\\":[\\\"eababd92-9dc7-40e3-9359-6c106522db19\\\"]}]},\\\"DevicePlatforms\\\":{\\\"Include\\\":[{\\\"DevicePlatforms\\\":[\\\"All\\\"]}],\\\"Exclude\\\":[{\\\"DevicePlatforms\\\":[\\\"macOS\\\"]}]}},\\\"Controls\\\":[{\\\"Control\\\":[\\\"Mfa\\\"]}],\\\"PersistentBrowserSessionMode\\\":\\\"NotSet\\\",\\\"EnforceAllPoliciesForEas\\\":false,\\\"IncludeOtherLegacyClientTypeForEvaluation\\\":false}', 'PolicyLastUpdatedTime': '7/14/2020 5:26:43 AM', 'TenantDefaultPolicy': '', 'DisplayName': 'Megan MFA demo', 'PolicyIdentifierString': ''})\",\"Cmd(name='Set-ConditionalAccessPolicy', params={'Identity': 'seccxpninja.onmicrosoft.com\\\\\\\\83a057fb-dbca-4ba8-bb5f-0ce6d6e7cff5', 'PolicyDetails': '{\\\"Version\\\":0,\\\"State\\\":\\\"Enabled\\\",\\\"Conditions\\\":{\\\"Applications\\\":{\\\"Include\\\":[{\\\"Acrs\\\":[\\\"urn:microsoft:req1\\\"]}]},\\\"Users\\\":{\\\"Include\\\":[{\\\"Users\\\":[\\\"eababd92-9dc7-40e3-9359-6c106522db19\\\"]}]}},\\\"Controls\\\":[{\\\"Control\\\":[\\\"Mfa\\\"]}],\\\"PersistentBrowserSessionMode\\\":\\\"NotSet\\\",\\\"EnforceAllPoliciesForEas\\\":false,\\\"IncludeOtherLegacyClientTypeForEvaluation\\\":false}', 'PolicyLastUpdatedTime': '7/14/2020 5:26:43 AM', 'TenantDefaultPolicy': '', 'DisplayName': 'MeganB MCAS Step-up', 'PolicyIdentifierString': ''})\"],[\"Cmd(name='Set-ConditionalAccessPolicy', params={'Identity': 'seccxpninja.onmicrosoft.com\\\\\\\\8872f6fb-da88-4b63-bcc7-17247669596b', 'PolicyDetails': '{\\\"Version\\\":0,\\\"State\\\":\\\"Enabled\\\",\\\"Conditions\\\":{\\\"Applications\\\":{\\\"Include\\\":[{\\\"Applications\\\":[\\\"00000002-0000-0ff1-ce00-000000000000\\\",\\\"09abbdfd-ed23-44ee-a2d9-a627aa1c90f3\\\",\\\"cc15fd57-2c6c-4117-a88c-83b1d56b4bbe\\\",\\\"00000003-0000-0ff1-ce00-000000000000\\\",\\\"00000005-0000-0ff1-ce00-000000000000\\\"]}]},\\\"Users\\\":{\\\"Include\\\":[{\\\"Users\\\":[\\\"eababd92-9dc7-40e3-9359-6c106522db19\\\"]}]}},\\\"SessionControls\\\":[\\\"CloudAppSecurity\\\"],\\\"PersistentBrowserSessionMode\\\":\\\"NotSet\\\",\\\"EnforceAllPoliciesForEas\\\":false,\\\"IncludeOtherLegacyClientTypeForEvaluation\\\":false,\\\"CasSessionControlType\\\":1}', 'PolicyLastUpdatedTime': '7/15/2020 2:50:27 AM', 'TenantDefaultPolicy': '', 'DisplayName': 'MeganB MCAS Proxy', 'PolicyIdentifierString': ''})\",\"Cmd(name='Set-ConditionalAccessPolicy', params={'Identity': 'seccxpninja.onmicrosoft.com\\\\\\\\b2915792-0396-4abe-94ec-e17fa17243c5', 'PolicyDetails': '{\\\"Version\\\":0,\\\"State\\\":\\\"Enabled\\\",\\\"Conditions\\\":{\\\"Applications\\\":{\\\"Include\\\":[{\\\"Applications\\\":[\\\"94c63fef-13a3-47bc-8074-75af8c65887a\\\",\\\"c9a559d2-7aab-4f13-a6ed-e7e9c52aec87\\\"]}]},\\\"Users\\\":{\\\"Include\\\":[{\\\"Users\\\":[\\\"bdb72692-2275-412b-8af0-ea21c2ebd174\\\",\\\"eababd92-9dc7-40e3-9359-6c106522db19\\\"]}]},\\\"SignInRisks\\\":{\\\"Include\\\":[{\\\"SignInRisks\\\":[\\\"High\\\",\\\"Medium\\\",\\\"Low\\\"]}]}},\\\"SessionControls\\\":[\\\"CloudAppSecurity\\\"],\\\"PersistentBrowserSessionMode\\\":\\\"NotSet\\\",\\\"EnforceAllPoliciesForEas\\\":false,\\\"IncludeOtherLegacyClientTypeForEvaluation\\\":false,\\\"CasSessionControlType\\\":3}', 'PolicyLastUpdatedTime': '7/15/2020 2:50:29 AM', 'TenantDefaultPolicy': '', 'DisplayName': 'GBB demo', 'PolicyIdentifierString': ''})\"],[\"Cmd(name='Set-ConditionalAccessPolicy', params={'Identity': 'seccxpninja.onmicrosoft.com\\\\\\\\ba36f0a4-6d73-4ba4-9282-3b3c14575e36', 'PolicyDetails': '{\\\"Version\\\":0,\\\"ModifiedDateTime\\\":\\\"2020-05-19T13:31:41.7083504Z\\\",\\\"State\\\":\\\"Disabled\\\",\\\"Conditions\\\":{\\\"Applications\\\":{\\\"Include\\\":[{\\\"Applications\\\":[\\\"00000002-0000-0ff1-ce00-000000000000\\\",\\\"00000003-0000-0ff1-ce00-000000000000\\\"]}]},\\\"Users\\\":{\\\"Include\\\":[{\\\"Users\\\":[\\\"2935e535-8fdf-4217-865b-e084cb7214f1\\\"]}]},\\\"DevicePlatforms\\\":{\\\"Include\\\":[{\\\"DevicePlatforms\\\":[\\\"All\\\"]}],\\\"Exclude\\\":[{\\\"DevicePlatforms\\\":[\\\"Android\\\",\\\"iOS\\\",\\\"macOS\\\"]}]},\\\"ClientTypes\\\":{\\\"Include\\\":[{\\\"ClientTypes\\\":[\\\"Browser\\\",\\\"Native\\\"]}]}},\\\"SessionControls\\\":[\\\"CloudAppSecurity\\\"],\\\"CasSessionControlType\\\":1}', 'PolicyLastUpdatedTime': '7/15/2020 5:27:44 AM', 'TenantDefaultPolicy': '', 'DisplayName': 'Block Access JulianI', 'PolicyIdentifierString': ''})\",\"Cmd(name='Set-ConditionalAccessPolicy', params={'Identity': 'seccxpninja.onmicrosoft.com\\\\\\\\4c5a5ea0-5d9f-4730-baaa-7a69cf29ef26', 'PolicyDetails': '{\\\"Version\\\":0,\\\"State\\\":\\\"Enabled\\\",\\\"Conditions\\\":{\\\"Applications\\\":{\\\"Include\\\":[{\\\"Applications\\\":[\\\"All\\\"]}]},\\\"Users\\\":{\\\"Include\\\":[{\\\"Users\\\":[\\\"bdb72692-2275-412b-8af0-ea21c2ebd174\\\"]}]}},\\\"Controls\\\":[{\\\"Control\\\":[\\\"Mfa\\\"]}],\\\"PersistentBrowserSessionMode\\\":\\\"NotSet\\\",\\\"EnforceAllPoliciesForEas\\\":false,\\\"IncludeOtherLegacyClientTypeForEvaluation\\\":false}', 'PolicyLastUpdatedTime': '7/15/2020 5:27:43 AM', 'TenantDefaultPolicy': '', 'DisplayName': 'Semolen - Admin MFA', 'PolicyIdentifierString': ''})\"],[\"Cmd(name='Set-ConditionalAccessPolicy', params={'Identity': 'seccxpninja.onmicrosoft.com\\\\\\\\4c5a5ea0-5d9f-4730-baaa-7a69cf29ef26', 'PolicyDetails': '{\\\"Version\\\":0,\\\"State\\\":\\\"Enabled\\\",\\\"Conditions\\\":{\\\"Applications\\\":{\\\"Include\\\":[{\\\"Applications\\\":[\\\"All\\\"]}]},\\\"Users\\\":{\\\"Include\\\":[{\\\"Users\\\":[\\\"bdb72692-2275-412b-8af0-ea21c2ebd174\\\"]}]}},\\\"Controls\\\":[{\\\"Control\\\":[\\\"Mfa\\\"]}],\\\"PersistentBrowserSessionMode\\\":\\\"NotSet\\\",\\\"EnforceAllPoliciesForEas\\\":false,\\\"IncludeOtherLegacyClientTypeForEvaluation\\\":false}', 'PolicyLastUpdatedTime': '7/16/2020 2:31:10 AM', 'TenantDefaultPolicy': '', 'DisplayName': 'Semolen - Admin MFA', 'PolicyIdentifierString': ''})\",\"Cmd(name='Set-ConditionalAccessPolicy', params={'Identity': 'seccxpninja.onmicrosoft.com\\\\\\\\bcd93f74-64fd-4042-a3ae-ee6d48886d6d', 'PolicyDetails': '{\\\"Version\\\":0,\\\"State\\\":\\\"Enabled\\\",\\\"Conditions\\\":{\\\"Applications\\\":{\\\"Include\\\":[{\\\"Applications\\\":[\\\"c9a559d2-7aab-4f13-a6ed-e7e9c52aec87\\\"]}]},\\\"Users\\\":{\\\"Include\\\":[{\\\"Users\\\":[\\\"bdb72692-2275-412b-8af0-ea21c2ebd174\\\",\\\"eababd92-9dc7-40e3-9359-6c106522db19\\\"]}]}},\\\"SessionControls\\\":[\\\"CloudAppSecurity\\\"],\\\"PersistentBrowserSessionMode\\\":\\\"NotSet\\\",\\\"EnforceAllPoliciesForEas\\\":false,\\\"IncludeOtherLegacyClientTypeForEvaluation\\\":false,\\\"CasSessionControlType\\\":3}', 'PolicyLastUpdatedTime': '7/16/2020 2:31:10 AM', 'TenantDefaultPolicy': '', 'DisplayName': 'Form MCAS', 'PolicyIdentifierString': ''})\"],[\"Cmd(name='Set-ConditionalAccessPolicy', params={'Identity': 'seccxpninja.onmicrosoft.com\\\\\\\\8872f6fb-da88-4b63-bcc7-17247669596b', 'PolicyDetails': '{\\\"Version\\\":0,\\\"State\\\":\\\"Enabled\\\",\\\"Conditions\\\":{\\\"Applications\\\":{\\\"Include\\\":[{\\\"Applications\\\":[\\\"00000002-0000-0ff1-ce00-000000000000\\\",\\\"09abbdfd-ed23-44ee-a2d9-a627aa1c90f3\\\",\\\"cc15fd57-2c6c-4117-a88c-83b1d56b4bbe\\\",\\\"00000003-0000-0ff1-ce00-000000000000\\\",\\\"00000005-0000-0ff1-ce00-000000000000\\\"]}]},\\\"Users\\\":{\\\"Include\\\":[{\\\"Users\\\":[\\\"eababd92-9dc7-40e3-9359-6c106522db19\\\"]}]}},\\\"SessionControls\\\":[\\\"CloudAppSecurity\\\"],\\\"PersistentBrowserSessionMode\\\":\\\"NotSet\\\",\\\"EnforceAllPoliciesForEas\\\":false,\\\"IncludeOtherLegacyClientTypeForEvaluation\\\":false,\\\"CasSessionControlType\\\":1}', 'PolicyLastUpdatedTime': '7/16/2020 5:00:45 AM', 'TenantDefaultPolicy': '', 'DisplayName': 'MeganB MCAS Proxy', 'PolicyIdentifierString': ''})\",\"Cmd(name='Set-ConditionalAccessPolicy', params={'Identity': 'seccxpninja.onmicrosoft.com\\\\\\\\8872f6fb-da88-4b63-bcc7-17247669596b', 'PolicyDetails': '{\\\"Version\\\":0,\\\"State\\\":\\\"Enabled\\\",\\\"Conditions\\\":{\\\"Applications\\\":{\\\"Include\\\":[{\\\"Applications\\\":[\\\"00000002-0000-0ff1-ce00-000000000000\\\",\\\"09abbdfd-ed23-44ee-a2d9-a627aa1c90f3\\\",\\\"cc15fd57-2c6c-4117-a88c-83b1d56b4bbe\\\",\\\"00000003-0000-0ff1-ce00-000000000000\\\",\\\"00000005-0000-0ff1-ce00-000000000000\\\"]}]},\\\"Users\\\":{\\\"Include\\\":[{\\\"Users\\\":[\\\"eababd92-9dc7-40e3-9359-6c106522db19\\\"]}]}},\\\"SessionControls\\\":[\\\"CloudAppSecurity\\\"],\\\"PersistentBrowserSessionMode\\\":\\\"NotSet\\\",\\\"EnforceAllPoliciesForEas\\\":false,\\\"IncludeOtherLegacyClientTypeForEvaluation\\\":false,\\\"CasSessionControlType\\\":1}', 'PolicyLastUpdatedTime': '7/16/2020 5:00:45 AM', 'TenantDefaultPolicy': '', 'DisplayName': 'MeganB MCAS Proxy', 'PolicyIdentifierString': ''})\"],[\"Cmd(name='Set-ConditionalAccessPolicy', params={'Identity': 'seccxpninja.onmicrosoft.com\\\\\\\\3b13ea3c-c733-4eb8-bd19-67d308b2ea04', 'PolicyDetails': '{\\\"Version\\\":0,\\\"CreatedDateTime\\\":\\\"2020-05-19T13:34:15.2394934Z\\\",\\\"ModifiedDateTime\\\":\\\"2020-05-19T13:39:04.7333386Z\\\",\\\"State\\\":\\\"Reporting\\\",\\\"Conditions\\\":{\\\"Applications\\\":{\\\"Include\\\":[{\\\"Applications\\\":[\\\"None\\\"]}]},\\\"Users\\\":{\\\"Include\\\":[{\\\"Users\\\":[\\\"Guests\\\"]}]},\\\"DevicePlatforms\\\":{\\\"Include\\\":[{\\\"DevicePlatforms\\\":[\\\"All\\\"]}],\\\"Exclude\\\":[{\\\"DevicePlatforms\\\":[\\\"Android\\\",\\\"iOS\\\",\\\"macOS\\\"]}]},\\\"ClientTypes\\\":{\\\"Include\\\":[{\\\"ClientTypes\\\":[\\\"Browser\\\",\\\"Native\\\"]}]}},\\\"Controls\\\":[{\\\"Control\\\":[\\\"Mfa\\\",\\\"RequireCompliantDevice\\\"]}]}', 'PolicyLastUpdatedTime': '7/16/2020 5:00:49 AM', 'TenantDefaultPolicy': '', 'DisplayName': 'Yanivsh -CA Test', 'PolicyIdentifierString': ''})\",\"Cmd(name='Set-ConditionalAccessPolicy', params={'Identity': 'seccxpninja.onmicrosoft.com\\\\\\\\235bec94-f744-48ac-8314-5675953d2def', 'PolicyDetails': '{\\\"Version\\\":0,\\\"State\\\":\\\"Disabled\\\",\\\"Conditions\\\":{\\\"Applications\\\":{\\\"Include\\\":[{\\\"Applications\\\":[\\\"All\\\"]}]},\\\"Users\\\":{\\\"Include\\\":[{\\\"Users\\\":[\\\"eababd92-9dc7-40e3-9359-6c106522db19\\\"]}]},\\\"DevicePlatforms\\\":{\\\"Include\\\":[{\\\"DevicePlatforms\\\":[\\\"All\\\"]}],\\\"Exclude\\\":[{\\\"DevicePlatforms\\\":[\\\"macOS\\\"]}]}},\\\"Controls\\\":[{\\\"Control\\\":[\\\"Mfa\\\"]}],\\\"PersistentBrowserSessionMode\\\":\\\"NotSet\\\",\\\"EnforceAllPoliciesForEas\\\":false,\\\"IncludeOtherLegacyClientTypeForEvaluation\\\":false}', 'PolicyLastUpdatedTime': '7/16/2020 5:00:46 AM', 'TenantDefaultPolicy': '', 'DisplayName': 'Megan MFA demo', 'PolicyIdentifierString': ''})\"],[\"Cmd(name='Set-ConditionalAccessPolicy', params={'Identity': 'seccxpninja.onmicrosoft.com\\\\\\\\235bec94-f744-48ac-8314-5675953d2def', 'PolicyDetails': '{\\\"Version\\\":0,\\\"State\\\":\\\"Disabled\\\",\\\"Conditions\\\":{\\\"Applications\\\":{\\\"Include\\\":[{\\\"Applications\\\":[\\\"All\\\"]}]},\\\"Users\\\":{\\\"Include\\\":[{\\\"Users\\\":[\\\"eababd92-9dc7-40e3-9359-6c106522db19\\\"]}]},\\\"DevicePlatforms\\\":{\\\"Include\\\":[{\\\"DevicePlatforms\\\":[\\\"All\\\"]}],\\\"Exclude\\\":[{\\\"DevicePlatforms\\\":[\\\"macOS\\\"]}]}},\\\"Controls\\\":[{\\\"Control\\\":[\\\"Mfa\\\"]}],\\\"PersistentBrowserSessionMode\\\":\\\"NotSet\\\",\\\"EnforceAllPoliciesForEas\\\":false,\\\"IncludeOtherLegacyClientTypeForEvaluation\\\":false}', 'PolicyLastUpdatedTime': '7/17/2020 1:59:50 AM', 'TenantDefaultPolicy': '', 'DisplayName': 'Megan MFA demo', 'PolicyIdentifierString': ''})\",\"Cmd(name='Set-ConditionalAccessPolicy', params={'Identity': 'seccxpninja.onmicrosoft.com\\\\\\\\2e76d011-eaa3-40b4-8ce8-7fba52bf3af8', 'PolicyDetails': '{\\\"Version\\\":0,\\\"State\\\":\\\"Reporting\\\",\\\"Conditions\\\":{\\\"Applications\\\":{\\\"Include\\\":[{\\\"Applications\\\":[\\\"f9e8b3d0-ba26-42cd-b544-c90a66191a81\\\"]}]},\\\"Users\\\":{\\\"Include\\\":[{\\\"Users\\\":[\\\"All\\\"]}]}},\\\"SessionControls\\\":[\\\"CloudAppSecurity\\\"],\\\"PersistentBrowserSessionMode\\\":\\\"NotSet\\\",\\\"EnforceAllPoliciesForEas\\\":false,\\\"IncludeOtherLegacyClientTypeForEvaluation\\\":false,\\\"CasSessionControlType\\\":1}', 'PolicyLastUpdatedTime': '7/17/2020 1:59:51 AM', 'TenantDefaultPolicy': '', 'DisplayName': 'On-Prem SharePoint - MeganB proxy', 'PolicyIdentifierString': ''})\"],[\"Cmd(name='Set-ConditionalAccessPolicy', params={'Identity': 'seccxpninja.onmicrosoft.com\\\\\\\\8872f6fb-da88-4b63-bcc7-17247669596b', 'PolicyDetails': '{\\\"Version\\\":0,\\\"State\\\":\\\"Enabled\\\",\\\"Conditions\\\":{\\\"Applications\\\":{\\\"Include\\\":[{\\\"Applications\\\":[\\\"00000002-0000-0ff1-ce00-000000000000\\\",\\\"09abbdfd-ed23-44ee-a2d9-a627aa1c90f3\\\",\\\"cc15fd57-2c6c-4117-a88c-83b1d56b4bbe\\\",\\\"00000003-0000-0ff1-ce00-000000000000\\\",\\\"00000005-0000-0ff1-ce00-000000000000\\\"]}]},\\\"Users\\\":{\\\"Include\\\":[{\\\"Users\\\":[\\\"eababd92-9dc7-40e3-9359-6c106522db19\\\"]}]}},\\\"SessionControls\\\":[\\\"CloudAppSecurity\\\"],\\\"PersistentBrowserSessionMode\\\":\\\"NotSet\\\",\\\"EnforceAllPoliciesForEas\\\":false,\\\"IncludeOtherLegacyClientTypeForEvaluation\\\":false,\\\"CasSessionControlType\\\":1}', 'PolicyLastUpdatedTime': '7/17/2020 5:00:48 AM', 'TenantDefaultPolicy': '', 'DisplayName': 'MeganB MCAS Proxy', 'PolicyIdentifierString': ''})\",\"Cmd(name='Set-ConditionalAccessPolicy', params={'Identity': 'seccxpninja.onmicrosoft.com\\\\\\\\8872f6fb-da88-4b63-bcc7-17247669596b', 'PolicyDetails': '{\\\"Version\\\":0,\\\"State\\\":\\\"Enabled\\\",\\\"Conditions\\\":{\\\"Applications\\\":{\\\"Include\\\":[{\\\"Applications\\\":[\\\"00000002-0000-0ff1-ce00-000000000000\\\",\\\"09abbdfd-ed23-44ee-a2d9-a627aa1c90f3\\\",\\\"cc15fd57-2c6c-4117-a88c-83b1d56b4bbe\\\",\\\"00000003-0000-0ff1-ce00-000000000000\\\",\\\"00000005-0000-0ff1-ce00-000000000000\\\"]}]},\\\"Users\\\":{\\\"Include\\\":[{\\\"Users\\\":[\\\"eababd92-9dc7-40e3-9359-6c106522db19\\\"]}]}},\\\"SessionControls\\\":[\\\"CloudAppSecurity\\\"],\\\"PersistentBrowserSessionMode\\\":\\\"NotSet\\\",\\\"EnforceAllPoliciesForEas\\\":false,\\\"IncludeOtherLegacyClientTypeForEvaluation\\\":false,\\\"CasSessionControlType\\\":1}', 'PolicyLastUpdatedTime': '7/17/2020 5:00:48 AM', 'TenantDefaultPolicy': '', 'DisplayName': 'MeganB MCAS Proxy', 'PolicyIdentifierString': ''})\"],[\"Cmd(name='Set-ConditionalAccessPolicy', params={'Identity': 'seccxpninja.onmicrosoft.com\\\\\\\\b2915792-0396-4abe-94ec-e17fa17243c5', 'PolicyDetails': '{\\\"Version\\\":0,\\\"State\\\":\\\"Enabled\\\",\\\"Conditions\\\":{\\\"Applications\\\":{\\\"Include\\\":[{\\\"Applications\\\":[\\\"94c63fef-13a3-47bc-8074-75af8c65887a\\\",\\\"c9a559d2-7aab-4f13-a6ed-e7e9c52aec87\\\"]}]},\\\"Users\\\":{\\\"Include\\\":[{\\\"Users\\\":[\\\"bdb72692-2275-412b-8af0-ea21c2ebd174\\\",\\\"eababd92-9dc7-40e3-9359-6c106522db19\\\"]}]},\\\"SignInRisks\\\":{\\\"Include\\\":[{\\\"SignInRisks\\\":[\\\"High\\\",\\\"Medium\\\",\\\"Low\\\"]}]}},\\\"SessionControls\\\":[\\\"CloudAppSecurity\\\"],\\\"PersistentBrowserSessionMode\\\":\\\"NotSet\\\",\\\"EnforceAllPoliciesForEas\\\":false,\\\"IncludeOtherLegacyClientTypeForEvaluation\\\":false,\\\"CasSessionControlType\\\":3}', 'PolicyLastUpdatedTime': '7/17/2020 5:00:48 AM', 'TenantDefaultPolicy': '', 'DisplayName': 'GBB demo', 'PolicyIdentifierString': ''})\",\"Cmd(name='Set-ConditionalAccessPolicy', params={'Identity': 'seccxpninja.onmicrosoft.com\\\\\\\\6490d00c-7ba1-42cf-aa88-99eb71d53bf7', 'PolicyDetails': '{\\\"Version\\\":0,\\\"LastUpdatedTimestamp\\\":\\\"2020-07-02T12:42:35.1866847Z\\\",\\\"State\\\":\\\"Disabled\\\",\\\"SignInFrequency\\\":\\\"NotSet\\\",\\\"PersistentBrowserSessionMode\\\":\\\"NotSet\\\"}', 'PolicyLastUpdatedTime': '7/17/2020 5:00:49 AM', 'TenantDefaultPolicy': '18', 'DisplayName': 'Default Policy', 'PolicyIdentifierString': '5/19/2020 1:39:05 PM'})\"],[\"Cmd(name='Set-ConditionalAccessPolicy', params={'Identity': 'seccxpninja.onmicrosoft.com\\\\\\\\ba36f0a4-6d73-4ba4-9282-3b3c14575e36', 'PolicyDetails': '{\\\"Version\\\":0,\\\"ModifiedDateTime\\\":\\\"2020-05-19T13:31:41.7083504Z\\\",\\\"State\\\":\\\"Disabled\\\",\\\"Conditions\\\":{\\\"Applications\\\":{\\\"Include\\\":[{\\\"Applications\\\":[\\\"00000002-0000-0ff1-ce00-000000000000\\\",\\\"00000003-0000-0ff1-ce00-000000000000\\\"]}]},\\\"Users\\\":{\\\"Include\\\":[{\\\"Users\\\":[\\\"2935e535-8fdf-4217-865b-e084cb7214f1\\\"]}]},\\\"DevicePlatforms\\\":{\\\"Include\\\":[{\\\"DevicePlatforms\\\":[\\\"All\\\"]}],\\\"Exclude\\\":[{\\\"DevicePlatforms\\\":[\\\"Android\\\",\\\"iOS\\\",\\\"macOS\\\"]}]},\\\"ClientTypes\\\":{\\\"Include\\\":[{\\\"ClientTypes\\\":[\\\"Browser\\\",\\\"Native\\\"]}]}},\\\"SessionControls\\\":[\\\"CloudAppSecurity\\\"],\\\"CasSessionControlType\\\":1}', 'PolicyLastUpdatedTime': '7/18/2020 5:22:18 AM', 'TenantDefaultPolicy': '', 'DisplayName': 'Block Access JulianI', 'PolicyIdentifierString': ''})\",\"Cmd(name='Set-ConditionalAccessPolicy', params={'Identity': 'seccxpninja.onmicrosoft.com\\\\\\\\bcd93f74-64fd-4042-a3ae-ee6d48886d6d', 'PolicyDetails': '{\\\"Version\\\":0,\\\"State\\\":\\\"Enabled\\\",\\\"Conditions\\\":{\\\"Applications\\\":{\\\"Include\\\":[{\\\"Applications\\\":[\\\"c9a559d2-7aab-4f13-a6ed-e7e9c52aec87\\\"]}]},\\\"Users\\\":{\\\"Include\\\":[{\\\"Users\\\":[\\\"bdb72692-2275-412b-8af0-ea21c2ebd174\\\",\\\"eababd92-9dc7-40e3-9359-6c106522db19\\\"]}]}},\\\"SessionControls\\\":[\\\"CloudAppSecurity\\\"],\\\"PersistentBrowserSessionMode\\\":\\\"NotSet\\\",\\\"EnforceAllPoliciesForEas\\\":false,\\\"IncludeOtherLegacyClientTypeForEvaluation\\\":false,\\\"CasSessionControlType\\\":3}', 'PolicyLastUpdatedTime': '7/18/2020 5:22:16 AM', 'TenantDefaultPolicy': '', 'DisplayName': 'Form MCAS', 'PolicyIdentifierString': ''})\"],[\"Cmd(name='Set-ConditionalAccessPolicy', params={'Identity': 'seccxpninja.onmicrosoft.com\\\\\\\\3b13ea3c-c733-4eb8-bd19-67d308b2ea04', 'PolicyDetails': '{\\\"Version\\\":0,\\\"CreatedDateTime\\\":\\\"2020-05-19T13:34:15.2394934Z\\\",\\\"ModifiedDateTime\\\":\\\"2020-05-19T13:39:04.7333386Z\\\",\\\"State\\\":\\\"Reporting\\\",\\\"Conditions\\\":{\\\"Applications\\\":{\\\"Include\\\":[{\\\"Applications\\\":[\\\"None\\\"]}]},\\\"Users\\\":{\\\"Include\\\":[{\\\"Users\\\":[\\\"Guests\\\"]}]},\\\"DevicePlatforms\\\":{\\\"Include\\\":[{\\\"DevicePlatforms\\\":[\\\"All\\\"]}],\\\"Exclude\\\":[{\\\"DevicePlatforms\\\":[\\\"Android\\\",\\\"iOS\\\",\\\"macOS\\\"]}]},\\\"ClientTypes\\\":{\\\"Include\\\":[{\\\"ClientTypes\\\":[\\\"Browser\\\",\\\"Native\\\"]}]}},\\\"Controls\\\":[{\\\"Control\\\":[\\\"Mfa\\\",\\\"RequireCompliantDevice\\\"]}]}', 'PolicyLastUpdatedTime': '7/19/2020 5:37:55 AM', 'TenantDefaultPolicy': '', 'DisplayName': 'Yanivsh -CA Test', 'PolicyIdentifierString': ''})\",\"Cmd(name='Set-ConditionalAccessPolicy', params={'Identity': 'seccxpninja.onmicrosoft.com\\\\\\\\ba36f0a4-6d73-4ba4-9282-3b3c14575e36', 'PolicyDetails': '{\\\"Version\\\":0,\\\"ModifiedDateTime\\\":\\\"2020-05-19T13:31:41.7083504Z\\\",\\\"State\\\":\\\"Disabled\\\",\\\"Conditions\\\":{\\\"Applications\\\":{\\\"Include\\\":[{\\\"Applications\\\":[\\\"00000002-0000-0ff1-ce00-000000000000\\\",\\\"00000003-0000-0ff1-ce00-000000000000\\\"]}]},\\\"Users\\\":{\\\"Include\\\":[{\\\"Users\\\":[\\\"2935e535-8fdf-4217-865b-e084cb7214f1\\\"]}]},\\\"DevicePlatforms\\\":{\\\"Include\\\":[{\\\"DevicePlatforms\\\":[\\\"All\\\"]}],\\\"Exclude\\\":[{\\\"DevicePlatforms\\\":[\\\"Android\\\",\\\"iOS\\\",\\\"macOS\\\"]}]},\\\"ClientTypes\\\":{\\\"Include\\\":[{\\\"ClientTypes\\\":[\\\"Browser\\\",\\\"Native\\\"]}]}},\\\"SessionControls\\\":[\\\"CloudAppSecurity\\\"],\\\"CasSessionControlType\\\":1}', 'PolicyLastUpdatedTime': '7/19/2020 5:37:55 AM', 'TenantDefaultPolicy': '', 'DisplayName': 'Block Access JulianI', 'PolicyIdentifierString': ''})\"],[\"Cmd(name='Set-ConditionalAccessPolicy', params={'Identity': 'seccxpninja.onmicrosoft.com\\\\\\\\69c7a12f-b407-45a3-b07e-fa04fc7f273d', 'PolicyDetails': '{\\\"Version\\\":0,\\\"State\\\":\\\"Enabled\\\",\\\"Conditions\\\":{\\\"Applications\\\":{\\\"Include\\\":[{\\\"Applications\\\":[\\\"00000003-0000-0ff1-ce00-000000000000\\\"]}]},\\\"Users\\\":{\\\"Include\\\":[{\\\"Users\\\":[\\\"All\\\"]}]}},\\\"SessionControls\\\":[\\\"CloudAppSecurity\\\"],\\\"PersistentBrowserSessionMode\\\":\\\"NotSet\\\",\\\"EnforceAllPoliciesForEas\\\":false,\\\"IncludeOtherLegacyClientTypeForEvaluation\\\":false,\\\"CasSessionControlType\\\":1}', 'PolicyLastUpdatedTime': '7/20/2020 2:21:06 AM', 'TenantDefaultPolicy': '', 'DisplayName': 'Test Policy', 'PolicyIdentifierString': ''})\",\"Cmd(name='Set-ConditionalAccessPolicy', params={'Identity': 'seccxpninja.onmicrosoft.com\\\\\\\\b2915792-0396-4abe-94ec-e17fa17243c5', 'PolicyDetails': '{\\\"Version\\\":0,\\\"State\\\":\\\"Enabled\\\",\\\"Conditions\\\":{\\\"Applications\\\":{\\\"Include\\\":[{\\\"Applications\\\":[\\\"94c63fef-13a3-47bc-8074-75af8c65887a\\\",\\\"c9a559d2-7aab-4f13-a6ed-e7e9c52aec87\\\"]}]},\\\"Users\\\":{\\\"Include\\\":[{\\\"Users\\\":[\\\"bdb72692-2275-412b-8af0-ea21c2ebd174\\\",\\\"eababd92-9dc7-40e3-9359-6c106522db19\\\"]}]},\\\"SignInRisks\\\":{\\\"Include\\\":[{\\\"SignInRisks\\\":[\\\"High\\\",\\\"Medium\\\",\\\"Low\\\"]}]}},\\\"SessionControls\\\":[\\\"CloudAppSecurity\\\"],\\\"PersistentBrowserSessionMode\\\":\\\"NotSet\\\",\\\"EnforceAllPoliciesForEas\\\":false,\\\"IncludeOtherLegacyClientTypeForEvaluation\\\":false,\\\"CasSessionControlType\\\":3}', 'PolicyLastUpdatedTime': '7/20/2020 2:21:04 AM', 'TenantDefaultPolicy': '', 'DisplayName': 'GBB demo', 'PolicyIdentifierString': ''})\"],[\"Cmd(name='Set-ConditionalAccessPolicy', params={'Identity': 'seccxpninja.onmicrosoft.com\\\\\\\\5fd0c4ff-1cd7-4bf6-8607-294a04f58f12', 'PolicyDetails': '{\\\"Version\\\":0,\\\"State\\\":\\\"Disabled\\\",\\\"Conditions\\\":{\\\"Applications\\\":{\\\"Include\\\":[{\\\"Applications\\\":[\\\"All\\\"]}]},\\\"Users\\\":{\\\"Include\\\":[{\\\"Users\\\":[\\\"142512c7-f006-46ae-909c-14fa7bf6a887\\\"]}]}},\\\"Controls\\\":[{\\\"Control\\\":[\\\"Mfa\\\"]}],\\\"EnforceAllPoliciesForEas\\\":false,\\\"IncludeOtherLegacyClientTypeForEvaluation\\\":false}', 'PolicyLastUpdatedTime': '7/20/2020 6:04:37 AM', 'TenantDefaultPolicy': '', 'DisplayName': 'Azure MFA', 'PolicyIdentifierString': ''})\",\"Cmd(name='Set-ConditionalAccessPolicy', params={'Identity': 'seccxpninja.onmicrosoft.com\\\\\\\\8872f6fb-da88-4b63-bcc7-17247669596b', 'PolicyDetails': '{\\\"Version\\\":0,\\\"State\\\":\\\"Enabled\\\",\\\"Conditions\\\":{\\\"Applications\\\":{\\\"Include\\\":[{\\\"Applications\\\":[\\\"00000002-0000-0ff1-ce00-000000000000\\\",\\\"09abbdfd-ed23-44ee-a2d9-a627aa1c90f3\\\",\\\"cc15fd57-2c6c-4117-a88c-83b1d56b4bbe\\\",\\\"00000003-0000-0ff1-ce00-000000000000\\\",\\\"00000005-0000-0ff1-ce00-000000000000\\\"]}]},\\\"Users\\\":{\\\"Include\\\":[{\\\"Users\\\":[\\\"eababd92-9dc7-40e3-9359-6c106522db19\\\"]}]}},\\\"SessionControls\\\":[\\\"CloudAppSecurity\\\"],\\\"PersistentBrowserSessionMode\\\":\\\"NotSet\\\",\\\"EnforceAllPoliciesForEas\\\":false,\\\"IncludeOtherLegacyClientTypeForEvaluation\\\":false,\\\"CasSessionControlType\\\":1}', 'PolicyLastUpdatedTime': '7/20/2020 6:04:35 AM', 'TenantDefaultPolicy': '', 'DisplayName': 'MeganB MCAS Proxy', 'PolicyIdentifierString': ''})\"],[\"Cmd(name='Set-ConditionalAccessPolicy', params={'Identity': 'seccxpninja.onmicrosoft.com\\\\\\\\2e76d011-eaa3-40b4-8ce8-7fba52bf3af8', 'PolicyDetails': '{\\\"Version\\\":0,\\\"State\\\":\\\"Reporting\\\",\\\"Conditions\\\":{\\\"Applications\\\":{\\\"Include\\\":[{\\\"Applications\\\":[\\\"f9e8b3d0-ba26-42cd-b544-c90a66191a81\\\"]}]},\\\"Users\\\":{\\\"Include\\\":[{\\\"Users\\\":[\\\"All\\\"]}]}},\\\"SessionControls\\\":[\\\"CloudAppSecurity\\\"],\\\"PersistentBrowserSessionMode\\\":\\\"NotSet\\\",\\\"EnforceAllPoliciesForEas\\\":false,\\\"IncludeOtherLegacyClientTypeForEvaluation\\\":false,\\\"CasSessionControlType\\\":1}', 'PolicyLastUpdatedTime': '7/21/2020 2:08:13 AM', 'TenantDefaultPolicy': '', 'DisplayName': 'On-Prem SharePoint - MeganB proxy', 'PolicyIdentifierString': ''})\",\"Cmd(name='Set-ConditionalAccessPolicy', params={'Identity': 'seccxpninja.onmicrosoft.com\\\\\\\\e183bd29-a3a3-4f91-a5a3-b83b21a544df', 'PolicyDetails': '{\\\"Version\\\":0,\\\"State\\\":\\\"Enabled\\\",\\\"Conditions\\\":{\\\"Applications\\\":{\\\"Include\\\":[{\\\"Applications\\\":[\\\"00000002-0000-0ff1-ce00-000000000000\\\"]}]},\\\"Users\\\":{\\\"Include\\\":[{\\\"Users\\\":[\\\"2935e535-8fdf-4217-865b-e084cb7214f1\\\"]}]}},\\\"SessionControls\\\":[\\\"AppEnforcedRestrictions\\\"],\\\"PersistentBrowserSessionMode\\\":\\\"NotSet\\\",\\\"EnforceAllPoliciesForEas\\\":false,\\\"IncludeOtherLegacyClientTypeForEvaluation\\\":false}', 'PolicyLastUpdatedTime': '7/21/2020 2:08:14 AM', 'TenantDefaultPolicy': '', 'DisplayName': 'JulianI Exchange native controls', 'PolicyIdentifierString': ''})\"],[\"Cmd(name='Set-ConditionalAccessPolicy', params={'Identity': 'seccxpninja.onmicrosoft.com\\\\\\\\69c7a12f-b407-45a3-b07e-fa04fc7f273d', 'PolicyDetails': '{\\\"Version\\\":0,\\\"State\\\":\\\"Enabled\\\",\\\"Conditions\\\":{\\\"Applications\\\":{\\\"Include\\\":[{\\\"Applications\\\":[\\\"00000003-0000-0ff1-ce00-000000000000\\\"]}]},\\\"Users\\\":{\\\"Include\\\":[{\\\"Users\\\":[\\\"All\\\"]}]}},\\\"SessionControls\\\":[\\\"CloudAppSecurity\\\"],\\\"PersistentBrowserSessionMode\\\":\\\"NotSet\\\",\\\"EnforceAllPoliciesForEas\\\":false,\\\"IncludeOtherLegacyClientTypeForEvaluation\\\":false,\\\"CasSessionControlType\\\":1}', 'PolicyLastUpdatedTime': '7/21/2020 4:59:02 AM', 'TenantDefaultPolicy': '', 'DisplayName': 'Test Policy', 'PolicyIdentifierString': ''})\",\"Cmd(name='Set-ConditionalAccessPolicy', params={'Identity': 'seccxpninja.onmicrosoft.com\\\\\\\\235bec94-f744-48ac-8314-5675953d2def', 'PolicyDetails': '{\\\"Version\\\":0,\\\"State\\\":\\\"Disabled\\\",\\\"Conditions\\\":{\\\"Applications\\\":{\\\"Include\\\":[{\\\"Applications\\\":[\\\"All\\\"]}]},\\\"Users\\\":{\\\"Include\\\":[{\\\"Users\\\":[\\\"eababd92-9dc7-40e3-9359-6c106522db19\\\"]}]},\\\"DevicePlatforms\\\":{\\\"Include\\\":[{\\\"DevicePlatforms\\\":[\\\"All\\\"]}],\\\"Exclude\\\":[{\\\"DevicePlatforms\\\":[\\\"macOS\\\"]}]}},\\\"Controls\\\":[{\\\"Control\\\":[\\\"Mfa\\\"]}],\\\"PersistentBrowserSessionMode\\\":\\\"NotSet\\\",\\\"EnforceAllPoliciesForEas\\\":false,\\\"IncludeOtherLegacyClientTypeForEvaluation\\\":false}', 'PolicyLastUpdatedTime': '7/21/2020 4:59:02 AM', 'TenantDefaultPolicy': '', 'DisplayName': 'Megan MFA demo', 'PolicyIdentifierString': ''})\"],[\"Cmd(name='Set-ConditionalAccessPolicy', params={'Identity': 'seccxpninja.onmicrosoft.com\\\\\\\\8872f6fb-da88-4b63-bcc7-17247669596b', 'PolicyDetails': '{\\\"Version\\\":0,\\\"State\\\":\\\"Enabled\\\",\\\"Conditions\\\":{\\\"Applications\\\":{\\\"Include\\\":[{\\\"Applications\\\":[\\\"00000002-0000-0ff1-ce00-000000000000\\\",\\\"09abbdfd-ed23-44ee-a2d9-a627aa1c90f3\\\",\\\"cc15fd57-2c6c-4117-a88c-83b1d56b4bbe\\\",\\\"00000003-0000-0ff1-ce00-000000000000\\\",\\\"00000005-0000-0ff1-ce00-000000000000\\\"]}]},\\\"Users\\\":{\\\"Include\\\":[{\\\"Users\\\":[\\\"eababd92-9dc7-40e3-9359-6c106522db19\\\"]}]}},\\\"SessionControls\\\":[\\\"CloudAppSecurity\\\"],\\\"PersistentBrowserSessionMode\\\":\\\"NotSet\\\",\\\"EnforceAllPoliciesForEas\\\":false,\\\"IncludeOtherLegacyClientTypeForEvaluation\\\":false,\\\"CasSessionControlType\\\":1}', 'PolicyLastUpdatedTime': '7/22/2020 2:14:16 AM', 'TenantDefaultPolicy': '', 'DisplayName': 'MeganB MCAS Proxy', 'PolicyIdentifierString': ''})\",\"Cmd(name='Set-ConditionalAccessPolicy', params={'Identity': 'seccxpninja.onmicrosoft.com\\\\\\\\5fd0c4ff-1cd7-4bf6-8607-294a04f58f12', 'PolicyDetails': '{\\\"Version\\\":0,\\\"State\\\":\\\"Disabled\\\",\\\"Conditions\\\":{\\\"Applications\\\":{\\\"Include\\\":[{\\\"Applications\\\":[\\\"All\\\"]}]},\\\"Users\\\":{\\\"Include\\\":[{\\\"Users\\\":[\\\"142512c7-f006-46ae-909c-14fa7bf6a887\\\"]}]}},\\\"Controls\\\":[{\\\"Control\\\":[\\\"Mfa\\\"]}],\\\"EnforceAllPoliciesForEas\\\":false,\\\"IncludeOtherLegacyClientTypeForEvaluation\\\":false}', 'PolicyLastUpdatedTime': '7/22/2020 2:14:19 AM', 'TenantDefaultPolicy': '', 'DisplayName': 'Azure MFA', 'PolicyIdentifierString': ''})\"],[\"Cmd(name='Set-ConditionalAccessPolicy', params={'Identity': 'seccxpninja.onmicrosoft.com\\\\\\\\4c5a5ea0-5d9f-4730-baaa-7a69cf29ef26', 'PolicyDetails': '{\\\"Version\\\":0,\\\"State\\\":\\\"Enabled\\\",\\\"Conditions\\\":{\\\"Applications\\\":{\\\"Include\\\":[{\\\"Applications\\\":[\\\"All\\\"]}]},\\\"Users\\\":{\\\"Include\\\":[{\\\"Users\\\":[\\\"bdb72692-2275-412b-8af0-ea21c2ebd174\\\"]}]}},\\\"Controls\\\":[{\\\"Control\\\":[\\\"Mfa\\\"]}],\\\"PersistentBrowserSessionMode\\\":\\\"NotSet\\\",\\\"EnforceAllPoliciesForEas\\\":false,\\\"IncludeOtherLegacyClientTypeForEvaluation\\\":false}', 'PolicyLastUpdatedTime': '7/22/2020 5:08:50 AM', 'TenantDefaultPolicy': '', 'DisplayName': 'Semolen - Admin MFA', 'PolicyIdentifierString': ''})\",\"Cmd(name='Set-ConditionalAccessPolicy', params={'Identity': 'seccxpninja.onmicrosoft.com\\\\\\\\ba36f0a4-6d73-4ba4-9282-3b3c14575e36', 'PolicyDetails': '{\\\"Version\\\":0,\\\"ModifiedDateTime\\\":\\\"2020-05-19T13:31:41.7083504Z\\\",\\\"State\\\":\\\"Disabled\\\",\\\"Conditions\\\":{\\\"Applications\\\":{\\\"Include\\\":[{\\\"Applications\\\":[\\\"00000002-0000-0ff1-ce00-000000000000\\\",\\\"00000003-0000-0ff1-ce00-000000000000\\\"]}]},\\\"Users\\\":{\\\"Include\\\":[{\\\"Users\\\":[\\\"2935e535-8fdf-4217-865b-e084cb7214f1\\\"]}]},\\\"DevicePlatforms\\\":{\\\"Include\\\":[{\\\"DevicePlatforms\\\":[\\\"All\\\"]}],\\\"Exclude\\\":[{\\\"DevicePlatforms\\\":[\\\"Android\\\",\\\"iOS\\\",\\\"macOS\\\"]}]},\\\"ClientTypes\\\":{\\\"Include\\\":[{\\\"ClientTypes\\\":[\\\"Browser\\\",\\\"Native\\\"]}]}},\\\"SessionControls\\\":[\\\"CloudAppSecurity\\\"],\\\"CasSessionControlType\\\":1}', 'PolicyLastUpdatedTime': '7/22/2020 5:08:51 AM', 'TenantDefaultPolicy': '', 'DisplayName': 'Block Access JulianI', 'PolicyIdentifierString': ''})\"],[\"Cmd(name='Set-ConditionalAccessPolicy', params={'Identity': 'seccxpninja.onmicrosoft.com\\\\\\\\8872f6fb-da88-4b63-bcc7-17247669596b', 'PolicyDetails': '{\\\"Version\\\":0,\\\"State\\\":\\\"Enabled\\\",\\\"Conditions\\\":{\\\"Applications\\\":{\\\"Include\\\":[{\\\"Applications\\\":[\\\"00000002-0000-0ff1-ce00-000000000000\\\",\\\"09abbdfd-ed23-44ee-a2d9-a627aa1c90f3\\\",\\\"cc15fd57-2c6c-4117-a88c-83b1d56b4bbe\\\",\\\"00000003-0000-0ff1-ce00-000000000000\\\",\\\"00000005-0000-0ff1-ce00-000000000000\\\"]}]},\\\"Users\\\":{\\\"Include\\\":[{\\\"Users\\\":[\\\"eababd92-9dc7-40e3-9359-6c106522db19\\\"]}]}},\\\"SessionControls\\\":[\\\"CloudAppSecurity\\\"],\\\"PersistentBrowserSessionMode\\\":\\\"NotSet\\\",\\\"EnforceAllPoliciesForEas\\\":false,\\\"IncludeOtherLegacyClientTypeForEvaluation\\\":false,\\\"CasSessionControlType\\\":1}', 'PolicyLastUpdatedTime': '7/23/2020 2:20:37 AM', 'TenantDefaultPolicy': '', 'DisplayName': 'MeganB MCAS Proxy', 'PolicyIdentifierString': ''})\",\"Cmd(name='Set-ConditionalAccessPolicy', params={'Identity': 'seccxpninja.onmicrosoft.com\\\\\\\\8872f6fb-da88-4b63-bcc7-17247669596b', 'PolicyDetails': '{\\\"Version\\\":0,\\\"State\\\":\\\"Enabled\\\",\\\"Conditions\\\":{\\\"Applications\\\":{\\\"Include\\\":[{\\\"Applications\\\":[\\\"00000002-0000-0ff1-ce00-000000000000\\\",\\\"09abbdfd-ed23-44ee-a2d9-a627aa1c90f3\\\",\\\"cc15fd57-2c6c-4117-a88c-83b1d56b4bbe\\\",\\\"00000003-0000-0ff1-ce00-000000000000\\\",\\\"00000005-0000-0ff1-ce00-000000000000\\\"]}]},\\\"Users\\\":{\\\"Include\\\":[{\\\"Users\\\":[\\\"eababd92-9dc7-40e3-9359-6c106522db19\\\"]}]}},\\\"SessionControls\\\":[\\\"CloudAppSecurity\\\"],\\\"PersistentBrowserSessionMode\\\":\\\"NotSet\\\",\\\"EnforceAllPoliciesForEas\\\":false,\\\"IncludeOtherLegacyClientTypeForEvaluation\\\":false,\\\"CasSessionControlType\\\":1}', 'PolicyLastUpdatedTime': '7/23/2020 2:20:37 AM', 'TenantDefaultPolicy': '', 'DisplayName': 'MeganB MCAS Proxy', 'PolicyIdentifierString': ''})\"],[\"Cmd(name='Set-ConditionalAccessPolicy', params={'Identity': 'seccxpninja.onmicrosoft.com\\\\\\\\8837fdaa-aaeb-4432-9622-43f6f583d583', 'PolicyDetails': '{\\\"KnownNetworkPolicies\\\":{\\\"NetworkName\\\":\\\"BE-Office\\\",\\\"NetworkId\\\":\\\"b98b9088-ce88-4fae-80fb-5b58cb1ce685\\\",\\\"CidrIpRanges\\\":[\\\"109.88.218.99/28\\\"],\\\"CountryIsoCodes\\\":null,\\\"Categories\\\":[],\\\"ApplyToUnknownCountry\\\":false}}', 'PolicyLastUpdatedTime': '7/23/2020 2:20:41 AM', 'TenantDefaultPolicy': '6', 'DisplayName': 'Known Networks List', 'PolicyIdentifierString': '3/19/2020 7:45:08 PM'})\",\"Cmd(name='Set-ConditionalAccessPolicy', params={'Identity': 'seccxpninja.onmicrosoft.com\\\\\\\\e183bd29-a3a3-4f91-a5a3-b83b21a544df', 'PolicyDetails': '{\\\"Version\\\":0,\\\"State\\\":\\\"Enabled\\\",\\\"Conditions\\\":{\\\"Applications\\\":{\\\"Include\\\":[{\\\"Applications\\\":[\\\"00000002-0000-0ff1-ce00-000000000000\\\"]}]},\\\"Users\\\":{\\\"Include\\\":[{\\\"Users\\\":[\\\"2935e535-8fdf-4217-865b-e084cb7214f1\\\"]}]}},\\\"SessionControls\\\":[\\\"AppEnforcedRestrictions\\\"],\\\"PersistentBrowserSessionMode\\\":\\\"NotSet\\\",\\\"EnforceAllPoliciesForEas\\\":false,\\\"IncludeOtherLegacyClientTypeForEvaluation\\\":false}', 'PolicyLastUpdatedTime': '7/23/2020 2:20:40 AM', 'TenantDefaultPolicy': '', 'DisplayName': 'JulianI Exchange native controls', 'PolicyIdentifierString': ''})\"],[\"Cmd(name='Set-ConditionalAccessPolicy', params={'Identity': 'seccxpninja.onmicrosoft.com\\\\\\\\6490d00c-7ba1-42cf-aa88-99eb71d53bf7', 'PolicyDetails': '{\\\"Version\\\":0,\\\"LastUpdatedTimestamp\\\":\\\"2020-07-02T12:42:35.1866847Z\\\",\\\"State\\\":\\\"Disabled\\\",\\\"SignInFrequency\\\":\\\"NotSet\\\",\\\"PersistentBrowserSessionMode\\\":\\\"NotSet\\\"}', 'PolicyLastUpdatedTime': '7/23/2020 2:20:40 AM', 'TenantDefaultPolicy': '18', 'DisplayName': 'Default Policy', 'PolicyIdentifierString': '5/19/2020 1:39:05 PM'})\",\"Cmd(name='Set-ConditionalAccessPolicy', params={'Identity': 'seccxpninja.onmicrosoft.com\\\\\\\\b2915792-0396-4abe-94ec-e17fa17243c5', 'PolicyDetails': '{\\\"Version\\\":0,\\\"State\\\":\\\"Enabled\\\",\\\"Conditions\\\":{\\\"Applications\\\":{\\\"Include\\\":[{\\\"Applications\\\":[\\\"94c63fef-13a3-47bc-8074-75af8c65887a\\\",\\\"c9a559d2-7aab-4f13-a6ed-e7e9c52aec87\\\"]}]},\\\"Users\\\":{\\\"Include\\\":[{\\\"Users\\\":[\\\"bdb72692-2275-412b-8af0-ea21c2ebd174\\\",\\\"eababd92-9dc7-40e3-9359-6c106522db19\\\"]}]},\\\"SignInRisks\\\":{\\\"Include\\\":[{\\\"SignInRisks\\\":[\\\"High\\\",\\\"Medium\\\",\\\"Low\\\"]}]}},\\\"SessionControls\\\":[\\\"CloudAppSecurity\\\"],\\\"PersistentBrowserSessionMode\\\":\\\"NotSet\\\",\\\"EnforceAllPoliciesForEas\\\":false,\\\"IncludeOtherLegacyClientTypeForEvaluation\\\":false,\\\"CasSessionControlType\\\":3}', 'PolicyLastUpdatedTime': '7/23/2020 2:20:38 AM', 'TenantDefaultPolicy': '', 'DisplayName': 'GBB demo', 'PolicyIdentifierString': ''})\"],[\"Cmd(name='Set-ConditionalAccessPolicy', params={'Identity': 'seccxpninja.onmicrosoft.com\\\\\\\\2e76d011-eaa3-40b4-8ce8-7fba52bf3af8', 'PolicyDetails': '{\\\"Version\\\":0,\\\"State\\\":\\\"Reporting\\\",\\\"Conditions\\\":{\\\"Applications\\\":{\\\"Include\\\":[{\\\"Applications\\\":[\\\"f9e8b3d0-ba26-42cd-b544-c90a66191a81\\\"]}]},\\\"Users\\\":{\\\"Include\\\":[{\\\"Users\\\":[\\\"All\\\"]}]}},\\\"SessionControls\\\":[\\\"CloudAppSecurity\\\"],\\\"PersistentBrowserSessionMode\\\":\\\"NotSet\\\",\\\"EnforceAllPoliciesForEas\\\":false,\\\"IncludeOtherLegacyClientTypeForEvaluation\\\":false,\\\"CasSessionControlType\\\":1}', 'PolicyLastUpdatedTime': '7/23/2020 5:19:51 AM', 'TenantDefaultPolicy': '', 'DisplayName': 'On-Prem SharePoint - MeganB proxy', 'PolicyIdentifierString': ''})\",\"Cmd(name='Set-ConditionalAccessPolicy', params={'Identity': 'seccxpninja.onmicrosoft.com\\\\\\\\3b13ea3c-c733-4eb8-bd19-67d308b2ea04', 'PolicyDetails': '{\\\"Version\\\":0,\\\"CreatedDateTime\\\":\\\"2020-05-19T13:34:15.2394934Z\\\",\\\"ModifiedDateTime\\\":\\\"2020-05-19T13:39:04.7333386Z\\\",\\\"State\\\":\\\"Reporting\\\",\\\"Conditions\\\":{\\\"Applications\\\":{\\\"Include\\\":[{\\\"Applications\\\":[\\\"None\\\"]}]},\\\"Users\\\":{\\\"Include\\\":[{\\\"Users\\\":[\\\"Guests\\\"]}]},\\\"DevicePlatforms\\\":{\\\"Include\\\":[{\\\"DevicePlatforms\\\":[\\\"All\\\"]}],\\\"Exclude\\\":[{\\\"DevicePlatforms\\\":[\\\"Android\\\",\\\"iOS\\\",\\\"macOS\\\"]}]},\\\"ClientTypes\\\":{\\\"Include\\\":[{\\\"ClientTypes\\\":[\\\"Browser\\\",\\\"Native\\\"]}]}},\\\"Controls\\\":[{\\\"Control\\\":[\\\"Mfa\\\",\\\"RequireCompliantDevice\\\"]}]}', 'PolicyLastUpdatedTime': '7/23/2020 5:19:53 AM', 'TenantDefaultPolicy': '', 'DisplayName': 'Yanivsh -CA Test', 'PolicyIdentifierString': ''})\"],[\"Cmd(name='Set-ConditionalAccessPolicy', params={'Identity': 'seccxpninja.onmicrosoft.com\\\\\\\\ba36f0a4-6d73-4ba4-9282-3b3c14575e36', 'PolicyDetails': '{\\\"Version\\\":0,\\\"ModifiedDateTime\\\":\\\"2020-05-19T13:31:41.7083504Z\\\",\\\"State\\\":\\\"Disabled\\\",\\\"Conditions\\\":{\\\"Applications\\\":{\\\"Include\\\":[{\\\"Applications\\\":[\\\"00000002-0000-0ff1-ce00-000000000000\\\",\\\"00000003-0000-0ff1-ce00-000000000000\\\"]}]},\\\"Users\\\":{\\\"Include\\\":[{\\\"Users\\\":[\\\"2935e535-8fdf-4217-865b-e084cb7214f1\\\"]}]},\\\"DevicePlatforms\\\":{\\\"Include\\\":[{\\\"DevicePlatforms\\\":[\\\"All\\\"]}],\\\"Exclude\\\":[{\\\"DevicePlatforms\\\":[\\\"Android\\\",\\\"iOS\\\",\\\"macOS\\\"]}]},\\\"ClientTypes\\\":{\\\"Include\\\":[{\\\"ClientTypes\\\":[\\\"Browser\\\",\\\"Native\\\"]}]}},\\\"SessionControls\\\":[\\\"CloudAppSecurity\\\"],\\\"CasSessionControlType\\\":1}', 'PolicyLastUpdatedTime': '7/24/2020 2:30:33 AM', 'TenantDefaultPolicy': '', 'DisplayName': 'Block Access JulianI', 'PolicyIdentifierString': ''})\",\"Cmd(name='Set-ConditionalAccessPolicy', params={'Identity': 'seccxpninja.onmicrosoft.com\\\\\\\\e183bd29-a3a3-4f91-a5a3-b83b21a544df', 'PolicyDetails': '{\\\"Version\\\":0,\\\"State\\\":\\\"Enabled\\\",\\\"Conditions\\\":{\\\"Applications\\\":{\\\"Include\\\":[{\\\"Applications\\\":[\\\"00000002-0000-0ff1-ce00-000000000000\\\"]}]},\\\"Users\\\":{\\\"Include\\\":[{\\\"Users\\\":[\\\"2935e535-8fdf-4217-865b-e084cb7214f1\\\"]}]}},\\\"SessionControls\\\":[\\\"AppEnforcedRestrictions\\\"],\\\"PersistentBrowserSessionMode\\\":\\\"NotSet\\\",\\\"EnforceAllPoliciesForEas\\\":false,\\\"IncludeOtherLegacyClientTypeForEvaluation\\\":false}', 'PolicyLastUpdatedTime': '7/24/2020 2:30:33 AM', 'TenantDefaultPolicy': '', 'DisplayName': 'JulianI Exchange native controls', 'PolicyIdentifierString': ''})\"],[\"Cmd(name='Set-ConditionalAccessPolicy', params={'Identity': 'seccxpninja.onmicrosoft.com\\\\\\\\69c7a12f-b407-45a3-b07e-fa04fc7f273d', 'PolicyDetails': '{\\\"Version\\\":0,\\\"State\\\":\\\"Enabled\\\",\\\"Conditions\\\":{\\\"Applications\\\":{\\\"Include\\\":[{\\\"Applications\\\":[\\\"00000003-0000-0ff1-ce00-000000000000\\\"]}]},\\\"Users\\\":{\\\"Include\\\":[{\\\"Users\\\":[\\\"All\\\"]}]}},\\\"SessionControls\\\":[\\\"CloudAppSecurity\\\"],\\\"PersistentBrowserSessionMode\\\":\\\"NotSet\\\",\\\"EnforceAllPoliciesForEas\\\":false,\\\"IncludeOtherLegacyClientTypeForEvaluation\\\":false,\\\"CasSessionControlType\\\":1}', 'PolicyLastUpdatedTime': '7/24/2020 4:59:23 AM', 'TenantDefaultPolicy': '', 'DisplayName': 'Test Policy', 'PolicyIdentifierString': ''})\",\"Cmd(name='Set-ConditionalAccessPolicy', params={'Identity': 'seccxpninja.onmicrosoft.com\\\\\\\\2e76d011-eaa3-40b4-8ce8-7fba52bf3af8', 'PolicyDetails': '{\\\"Version\\\":0,\\\"State\\\":\\\"Reporting\\\",\\\"Conditions\\\":{\\\"Applications\\\":{\\\"Include\\\":[{\\\"Applications\\\":[\\\"f9e8b3d0-ba26-42cd-b544-c90a66191a81\\\"]}]},\\\"Users\\\":{\\\"Include\\\":[{\\\"Users\\\":[\\\"All\\\"]}]}},\\\"SessionControls\\\":[\\\"CloudAppSecurity\\\"],\\\"PersistentBrowserSessionMode\\\":\\\"NotSet\\\",\\\"EnforceAllPoliciesForEas\\\":false,\\\"IncludeOtherLegacyClientTypeForEvaluation\\\":false,\\\"CasSessionControlType\\\":1}', 'PolicyLastUpdatedTime': '7/24/2020 4:59:22 AM', 'TenantDefaultPolicy': '', 'DisplayName': 'On-Prem SharePoint - MeganB proxy', 'PolicyIdentifierString': ''})\"],[\"Cmd(name='Set-ConditionalAccessPolicy', params={'Identity': 'seccxpninja.onmicrosoft.com\\\\\\\\5fd0c4ff-1cd7-4bf6-8607-294a04f58f12', 'PolicyDetails': '{\\\"Version\\\":0,\\\"State\\\":\\\"Disabled\\\",\\\"Conditions\\\":{\\\"Applications\\\":{\\\"Include\\\":[{\\\"Applications\\\":[\\\"All\\\"]}]},\\\"Users\\\":{\\\"Include\\\":[{\\\"Users\\\":[\\\"142512c7-f006-46ae-909c-14fa7bf6a887\\\"]}]}},\\\"Controls\\\":[{\\\"Control\\\":[\\\"Mfa\\\"]}],\\\"EnforceAllPoliciesForEas\\\":false,\\\"IncludeOtherLegacyClientTypeForEvaluation\\\":false}', 'PolicyLastUpdatedTime': '7/25/2020 2:21:52 AM', 'TenantDefaultPolicy': '', 'DisplayName': 'Azure MFA', 'PolicyIdentifierString': ''})\",\"Cmd(name='Set-ConditionalAccessPolicy', params={'Identity': 'seccxpninja.onmicrosoft.com\\\\\\\\8872f6fb-da88-4b63-bcc7-17247669596b', 'PolicyDetails': '{\\\"Version\\\":0,\\\"State\\\":\\\"Enabled\\\",\\\"Conditions\\\":{\\\"Applications\\\":{\\\"Include\\\":[{\\\"Applications\\\":[\\\"00000002-0000-0ff1-ce00-000000000000\\\",\\\"09abbdfd-ed23-44ee-a2d9-a627aa1c90f3\\\",\\\"cc15fd57-2c6c-4117-a88c-83b1d56b4bbe\\\",\\\"00000003-0000-0ff1-ce00-000000000000\\\",\\\"00000005-0000-0ff1-ce00-000000000000\\\"]}]},\\\"Users\\\":{\\\"Include\\\":[{\\\"Users\\\":[\\\"eababd92-9dc7-40e3-9359-6c106522db19\\\"]}]}},\\\"SessionControls\\\":[\\\"CloudAppSecurity\\\"],\\\"PersistentBrowserSessionMode\\\":\\\"NotSet\\\",\\\"EnforceAllPoliciesForEas\\\":false,\\\"IncludeOtherLegacyClientTypeForEvaluation\\\":false,\\\"CasSessionControlType\\\":1}', 'PolicyLastUpdatedTime': '7/25/2020 2:21:50 AM', 'TenantDefaultPolicy': '', 'DisplayName': 'MeganB MCAS Proxy', 'PolicyIdentifierString': ''})\"],[\"Cmd(name='Set-ConditionalAccessPolicy', params={'Identity': 'seccxpninja.onmicrosoft.com\\\\\\\\bcd93f74-64fd-4042-a3ae-ee6d48886d6d', 'PolicyDetails': '{\\\"Version\\\":0,\\\"State\\\":\\\"Enabled\\\",\\\"Conditions\\\":{\\\"Applications\\\":{\\\"Include\\\":[{\\\"Applications\\\":[\\\"c9a559d2-7aab-4f13-a6ed-e7e9c52aec87\\\"]}]},\\\"Users\\\":{\\\"Include\\\":[{\\\"Users\\\":[\\\"bdb72692-2275-412b-8af0-ea21c2ebd174\\\",\\\"eababd92-9dc7-40e3-9359-6c106522db19\\\"]}]}},\\\"SessionControls\\\":[\\\"CloudAppSecurity\\\"],\\\"PersistentBrowserSessionMode\\\":\\\"NotSet\\\",\\\"EnforceAllPoliciesForEas\\\":false,\\\"IncludeOtherLegacyClientTypeForEvaluation\\\":false,\\\"CasSessionControlType\\\":3}', 'PolicyLastUpdatedTime': '7/25/2020 5:37:48 AM', 'TenantDefaultPolicy': '', 'DisplayName': 'Form MCAS', 'PolicyIdentifierString': ''})\",\"Cmd(name='Set-ConditionalAccessPolicy', params={'Identity': 'seccxpninja.onmicrosoft.com\\\\\\\\8837fdaa-aaeb-4432-9622-43f6f583d583', 'PolicyDetails': '{\\\"KnownNetworkPolicies\\\":{\\\"NetworkName\\\":\\\"BE-Office\\\",\\\"NetworkId\\\":\\\"b98b9088-ce88-4fae-80fb-5b58cb1ce685\\\",\\\"CidrIpRanges\\\":[\\\"109.88.218.99/28\\\"],\\\"CountryIsoCodes\\\":null,\\\"Categories\\\":[],\\\"ApplyToUnknownCountry\\\":false}}', 'PolicyLastUpdatedTime': '7/25/2020 5:37:51 AM', 'TenantDefaultPolicy': '6', 'DisplayName': 'Known Networks List', 'PolicyIdentifierString': '3/19/2020 7:45:08 PM'})\"],[\"Cmd(name='Set-ConditionalAccessPolicy', params={'Identity': 'seccxpninja.onmicrosoft.com\\\\\\\\3b13ea3c-c733-4eb8-bd19-67d308b2ea04', 'PolicyDetails': '{\\\"Version\\\":0,\\\"CreatedDateTime\\\":\\\"2020-05-19T13:34:15.2394934Z\\\",\\\"ModifiedDateTime\\\":\\\"2020-05-19T13:39:04.7333386Z\\\",\\\"State\\\":\\\"Reporting\\\",\\\"Conditions\\\":{\\\"Applications\\\":{\\\"Include\\\":[{\\\"Applications\\\":[\\\"None\\\"]}]},\\\"Users\\\":{\\\"Include\\\":[{\\\"Users\\\":[\\\"Guests\\\"]}]},\\\"DevicePlatforms\\\":{\\\"Include\\\":[{\\\"DevicePlatforms\\\":[\\\"All\\\"]}],\\\"Exclude\\\":[{\\\"DevicePlatforms\\\":[\\\"Android\\\",\\\"iOS\\\",\\\"macOS\\\"]}]},\\\"ClientTypes\\\":{\\\"Include\\\":[{\\\"ClientTypes\\\":[\\\"Browser\\\",\\\"Native\\\"]}]}},\\\"Controls\\\":[{\\\"Control\\\":[\\\"Mfa\\\",\\\"RequireCompliantDevice\\\"]}]}', 'PolicyLastUpdatedTime': '7/26/2020 2:25:48 AM', 'TenantDefaultPolicy': '', 'DisplayName': 'Yanivsh -CA Test', 'PolicyIdentifierString': ''})\",\"Cmd(name='Set-ConditionalAccessPolicy', params={'Identity': 'seccxpninja.onmicrosoft.com\\\\\\\\69c7a12f-b407-45a3-b07e-fa04fc7f273d', 'PolicyDetails': '{\\\"Version\\\":0,\\\"State\\\":\\\"Enabled\\\",\\\"Conditions\\\":{\\\"Applications\\\":{\\\"Include\\\":[{\\\"Applications\\\":[\\\"00000003-0000-0ff1-ce00-000000000000\\\"]}]},\\\"Users\\\":{\\\"Include\\\":[{\\\"Users\\\":[\\\"All\\\"]}]}},\\\"SessionControls\\\":[\\\"CloudAppSecurity\\\"],\\\"PersistentBrowserSessionMode\\\":\\\"NotSet\\\",\\\"EnforceAllPoliciesForEas\\\":false,\\\"IncludeOtherLegacyClientTypeForEvaluation\\\":false,\\\"CasSessionControlType\\\":1}', 'PolicyLastUpdatedTime': '7/26/2020 2:25:48 AM', 'TenantDefaultPolicy': '', 'DisplayName': 'Test Policy', 'PolicyIdentifierString': ''})\"],[\"Cmd(name='Set-ConditionalAccessPolicy', params={'Identity': 'seccxpninja.onmicrosoft.com\\\\\\\\8837fdaa-aaeb-4432-9622-43f6f583d583', 'PolicyDetails': '{\\\"KnownNetworkPolicies\\\":{\\\"NetworkName\\\":\\\"BE-Office\\\",\\\"NetworkId\\\":\\\"b98b9088-ce88-4fae-80fb-5b58cb1ce685\\\",\\\"CidrIpRanges\\\":[\\\"109.88.218.99/28\\\"],\\\"CountryIsoCodes\\\":null,\\\"Categories\\\":[],\\\"ApplyToUnknownCountry\\\":false}}', 'PolicyLastUpdatedTime': '7/26/2020 2:25:48 AM', 'TenantDefaultPolicy': '6', 'DisplayName': 'Known Networks List', 'PolicyIdentifierString': '3/19/2020 7:45:08 PM'})\",\"Cmd(name='Set-ConditionalAccessPolicy', params={'Identity': 'seccxpninja.onmicrosoft.com\\\\\\\\8837fdaa-aaeb-4432-9622-43f6f583d583', 'PolicyDetails': '{\\\"KnownNetworkPolicies\\\":{\\\"NetworkName\\\":\\\"BE-Office\\\",\\\"NetworkId\\\":\\\"b98b9088-ce88-4fae-80fb-5b58cb1ce685\\\",\\\"CidrIpRanges\\\":[\\\"109.88.218.99/28\\\"],\\\"CountryIsoCodes\\\":null,\\\"Categories\\\":[],\\\"ApplyToUnknownCountry\\\":false}}', 'PolicyLastUpdatedTime': '7/26/2020 2:25:48 AM', 'TenantDefaultPolicy': '6', 'DisplayName': 'Known Networks List', 'PolicyIdentifierString': '3/19/2020 7:45:08 PM'})\"],[\"Cmd(name='Set-ConditionalAccessPolicy', params={'Identity': 'seccxpninja.onmicrosoft.com\\\\\\\\e183bd29-a3a3-4f91-a5a3-b83b21a544df', 'PolicyDetails': '{\\\"Version\\\":0,\\\"State\\\":\\\"Enabled\\\",\\\"Conditions\\\":{\\\"Applications\\\":{\\\"Include\\\":[{\\\"Applications\\\":[\\\"00000002-0000-0ff1-ce00-000000000000\\\"]}]},\\\"Users\\\":{\\\"Include\\\":[{\\\"Users\\\":[\\\"2935e535-8fdf-4217-865b-e084cb7214f1\\\"]}]}},\\\"SessionControls\\\":[\\\"AppEnforcedRestrictions\\\"],\\\"PersistentBrowserSessionMode\\\":\\\"NotSet\\\",\\\"EnforceAllPoliciesForEas\\\":false,\\\"IncludeOtherLegacyClientTypeForEvaluation\\\":false}', 'PolicyLastUpdatedTime': '7/26/2020 5:09:13 AM', 'TenantDefaultPolicy': '', 'DisplayName': 'JulianI Exchange native controls', 'PolicyIdentifierString': ''})\",\"Cmd(name='Set-ConditionalAccessPolicy', params={'Identity': 'seccxpninja.onmicrosoft.com\\\\\\\\b2915792-0396-4abe-94ec-e17fa17243c5', 'PolicyDetails': '{\\\"Version\\\":0,\\\"State\\\":\\\"Enabled\\\",\\\"Conditions\\\":{\\\"Applications\\\":{\\\"Include\\\":[{\\\"Applications\\\":[\\\"94c63fef-13a3-47bc-8074-75af8c65887a\\\",\\\"c9a559d2-7aab-4f13-a6ed-e7e9c52aec87\\\"]}]},\\\"Users\\\":{\\\"Include\\\":[{\\\"Users\\\":[\\\"bdb72692-2275-412b-8af0-ea21c2ebd174\\\",\\\"eababd92-9dc7-40e3-9359-6c106522db19\\\"]}]},\\\"SignInRisks\\\":{\\\"Include\\\":[{\\\"SignInRisks\\\":[\\\"High\\\",\\\"Medium\\\",\\\"Low\\\"]}]}},\\\"SessionControls\\\":[\\\"CloudAppSecurity\\\"],\\\"PersistentBrowserSessionMode\\\":\\\"NotSet\\\",\\\"EnforceAllPoliciesForEas\\\":false,\\\"IncludeOtherLegacyClientTypeForEvaluation\\\":false,\\\"CasSessionControlType\\\":3}', 'PolicyLastUpdatedTime': '7/26/2020 5:09:11 AM', 'TenantDefaultPolicy': '', 'DisplayName': 'GBB demo', 'PolicyIdentifierString': ''})\"],[\"Cmd(name='Set-ConditionalAccessPolicy', params={'Identity': 'seccxpninja.onmicrosoft.com\\\\\\\\b2915792-0396-4abe-94ec-e17fa17243c5', 'PolicyDetails': '{\\\"Version\\\":0,\\\"State\\\":\\\"Enabled\\\",\\\"Conditions\\\":{\\\"Applications\\\":{\\\"Include\\\":[{\\\"Applications\\\":[\\\"94c63fef-13a3-47bc-8074-75af8c65887a\\\",\\\"c9a559d2-7aab-4f13-a6ed-e7e9c52aec87\\\"]}]},\\\"Users\\\":{\\\"Include\\\":[{\\\"Users\\\":[\\\"bdb72692-2275-412b-8af0-ea21c2ebd174\\\",\\\"eababd92-9dc7-40e3-9359-6c106522db19\\\"]}]},\\\"SignInRisks\\\":{\\\"Include\\\":[{\\\"SignInRisks\\\":[\\\"High\\\",\\\"Medium\\\",\\\"Low\\\"]}]}},\\\"SessionControls\\\":[\\\"CloudAppSecurity\\\"],\\\"PersistentBrowserSessionMode\\\":\\\"NotSet\\\",\\\"EnforceAllPoliciesForEas\\\":false,\\\"IncludeOtherLegacyClientTypeForEvaluation\\\":false,\\\"CasSessionControlType\\\":3}', 'PolicyLastUpdatedTime': '7/27/2020 2:07:10 AM', 'TenantDefaultPolicy': '', 'DisplayName': 'GBB demo', 'PolicyIdentifierString': ''})\",\"Cmd(name='Set-ConditionalAccessPolicy', params={'Identity': 'seccxpninja.onmicrosoft.com\\\\\\\\4c5a5ea0-5d9f-4730-baaa-7a69cf29ef26', 'PolicyDetails': '{\\\"Version\\\":0,\\\"State\\\":\\\"Enabled\\\",\\\"Conditions\\\":{\\\"Applications\\\":{\\\"Include\\\":[{\\\"Applications\\\":[\\\"All\\\"]}]},\\\"Users\\\":{\\\"Include\\\":[{\\\"Users\\\":[\\\"bdb72692-2275-412b-8af0-ea21c2ebd174\\\"]}]}},\\\"Controls\\\":[{\\\"Control\\\":[\\\"Mfa\\\"]}],\\\"PersistentBrowserSessionMode\\\":\\\"NotSet\\\",\\\"EnforceAllPoliciesForEas\\\":false,\\\"IncludeOtherLegacyClientTypeForEvaluation\\\":false}', 'PolicyLastUpdatedTime': '7/27/2020 2:07:11 AM', 'TenantDefaultPolicy': '', 'DisplayName': 'Semolen - Admin MFA', 'PolicyIdentifierString': ''})\"],[\"Cmd(name='Set-ConditionalAccessPolicy', params={'Identity': 'seccxpninja.onmicrosoft.com\\\\\\\\3b13ea3c-c733-4eb8-bd19-67d308b2ea04', 'PolicyDetails': '{\\\"Version\\\":0,\\\"CreatedDateTime\\\":\\\"2020-05-19T13:34:15.2394934Z\\\",\\\"ModifiedDateTime\\\":\\\"2020-05-19T13:39:04.7333386Z\\\",\\\"State\\\":\\\"Reporting\\\",\\\"Conditions\\\":{\\\"Applications\\\":{\\\"Include\\\":[{\\\"Applications\\\":[\\\"None\\\"]}]},\\\"Users\\\":{\\\"Include\\\":[{\\\"Users\\\":[\\\"Guests\\\"]}]},\\\"DevicePlatforms\\\":{\\\"Include\\\":[{\\\"DevicePlatforms\\\":[\\\"All\\\"]}],\\\"Exclude\\\":[{\\\"DevicePlatforms\\\":[\\\"Android\\\",\\\"iOS\\\",\\\"macOS\\\"]}]},\\\"ClientTypes\\\":{\\\"Include\\\":[{\\\"ClientTypes\\\":[\\\"Browser\\\",\\\"Native\\\"]}]}},\\\"Controls\\\":[{\\\"Control\\\":[\\\"Mfa\\\",\\\"RequireCompliantDevice\\\"]}]}', 'PolicyLastUpdatedTime': '7/27/2020 5:11:30 AM', 'TenantDefaultPolicy': '', 'DisplayName': 'Yanivsh -CA Test', 'PolicyIdentifierString': ''})\",\"Cmd(name='Set-ConditionalAccessPolicy', params={'Identity': 'seccxpninja.onmicrosoft.com\\\\\\\\ba36f0a4-6d73-4ba4-9282-3b3c14575e36', 'PolicyDetails': '{\\\"Version\\\":0,\\\"ModifiedDateTime\\\":\\\"2020-05-19T13:31:41.7083504Z\\\",\\\"State\\\":\\\"Disabled\\\",\\\"Conditions\\\":{\\\"Applications\\\":{\\\"Include\\\":[{\\\"Applications\\\":[\\\"00000002-0000-0ff1-ce00-000000000000\\\",\\\"00000003-0000-0ff1-ce00-000000000000\\\"]}]},\\\"Users\\\":{\\\"Include\\\":[{\\\"Users\\\":[\\\"2935e535-8fdf-4217-865b-e084cb7214f1\\\"]}]},\\\"DevicePlatforms\\\":{\\\"Include\\\":[{\\\"DevicePlatforms\\\":[\\\"All\\\"]}],\\\"Exclude\\\":[{\\\"DevicePlatforms\\\":[\\\"Android\\\",\\\"iOS\\\",\\\"macOS\\\"]}]},\\\"ClientTypes\\\":{\\\"Include\\\":[{\\\"ClientTypes\\\":[\\\"Browser\\\",\\\"Native\\\"]}]}},\\\"SessionControls\\\":[\\\"CloudAppSecurity\\\"],\\\"CasSessionControlType\\\":1}', 'PolicyLastUpdatedTime': '7/27/2020 5:11:29 AM', 'TenantDefaultPolicy': '', 'DisplayName': 'Block Access JulianI', 'PolicyIdentifierString': ''})\"],[\"Cmd(name='Set-ConditionalAccessPolicy', params={'Identity': 'seccxpninja.onmicrosoft.com\\\\\\\\ba36f0a4-6d73-4ba4-9282-3b3c14575e36', 'PolicyDetails': '{\\\"Version\\\":0,\\\"ModifiedDateTime\\\":\\\"2020-05-19T13:31:41.7083504Z\\\",\\\"State\\\":\\\"Disabled\\\",\\\"Conditions\\\":{\\\"Applications\\\":{\\\"Include\\\":[{\\\"Applications\\\":[\\\"00000002-0000-0ff1-ce00-000000000000\\\",\\\"00000003-0000-0ff1-ce00-000000000000\\\"]}]},\\\"Users\\\":{\\\"Include\\\":[{\\\"Users\\\":[\\\"2935e535-8fdf-4217-865b-e084cb7214f1\\\"]}]},\\\"DevicePlatforms\\\":{\\\"Include\\\":[{\\\"DevicePlatforms\\\":[\\\"All\\\"]}],\\\"Exclude\\\":[{\\\"DevicePlatforms\\\":[\\\"Android\\\",\\\"iOS\\\",\\\"macOS\\\"]}]},\\\"ClientTypes\\\":{\\\"Include\\\":[{\\\"ClientTypes\\\":[\\\"Browser\\\",\\\"Native\\\"]}]}},\\\"SessionControls\\\":[\\\"CloudAppSecurity\\\"],\\\"CasSessionControlType\\\":1}', 'PolicyLastUpdatedTime': '7/28/2020 2:00:46 AM', 'TenantDefaultPolicy': '', 'DisplayName': 'Block Access JulianI', 'PolicyIdentifierString': ''})\",\"Cmd(name='Set-ConditionalAccessPolicy', params={'Identity': 'seccxpninja.onmicrosoft.com\\\\\\\\2e76d011-eaa3-40b4-8ce8-7fba52bf3af8', 'PolicyDetails': '{\\\"Version\\\":0,\\\"State\\\":\\\"Reporting\\\",\\\"Conditions\\\":{\\\"Applications\\\":{\\\"Include\\\":[{\\\"Applications\\\":[\\\"f9e8b3d0-ba26-42cd-b544-c90a66191a81\\\"]}]},\\\"Users\\\":{\\\"Include\\\":[{\\\"Users\\\":[\\\"All\\\"]}]}},\\\"SessionControls\\\":[\\\"CloudAppSecurity\\\"],\\\"PersistentBrowserSessionMode\\\":\\\"NotSet\\\",\\\"EnforceAllPoliciesForEas\\\":false,\\\"IncludeOtherLegacyClientTypeForEvaluation\\\":false,\\\"CasSessionControlType\\\":1}', 'PolicyLastUpdatedTime': '7/28/2020 2:00:45 AM', 'TenantDefaultPolicy': '', 'DisplayName': 'On-Prem SharePoint - MeganB proxy', 'PolicyIdentifierString': ''})\"],[\"Cmd(name='Set-ConditionalAccessPolicy', params={'Identity': 'seccxpninja.onmicrosoft.com\\\\\\\\235bec94-f744-48ac-8314-5675953d2def', 'PolicyDetails': '{\\\"Version\\\":0,\\\"State\\\":\\\"Disabled\\\",\\\"Conditions\\\":{\\\"Applications\\\":{\\\"Include\\\":[{\\\"Applications\\\":[\\\"All\\\"]}]},\\\"Users\\\":{\\\"Include\\\":[{\\\"Users\\\":[\\\"eababd92-9dc7-40e3-9359-6c106522db19\\\"]}]},\\\"DevicePlatforms\\\":{\\\"Include\\\":[{\\\"DevicePlatforms\\\":[\\\"All\\\"]}],\\\"Exclude\\\":[{\\\"DevicePlatforms\\\":[\\\"macOS\\\"]}]}},\\\"Controls\\\":[{\\\"Control\\\":[\\\"Mfa\\\"]}],\\\"PersistentBrowserSessionMode\\\":\\\"NotSet\\\",\\\"EnforceAllPoliciesForEas\\\":false,\\\"IncludeOtherLegacyClientTypeForEvaluation\\\":false}', 'PolicyLastUpdatedTime': '7/28/2020 5:23:28 AM', 'TenantDefaultPolicy': '', 'DisplayName': 'Megan MFA demo', 'PolicyIdentifierString': ''})\",\"Cmd(name='Set-ConditionalAccessPolicy', params={'Identity': 'seccxpninja.onmicrosoft.com\\\\\\\\6490d00c-7ba1-42cf-aa88-99eb71d53bf7', 'PolicyDetails': '{\\\"Version\\\":0,\\\"LastUpdatedTimestamp\\\":\\\"2020-07-02T12:42:35.1866847Z\\\",\\\"State\\\":\\\"Disabled\\\",\\\"SignInFrequency\\\":\\\"NotSet\\\",\\\"PersistentBrowserSessionMode\\\":\\\"NotSet\\\"}', 'PolicyLastUpdatedTime': '7/28/2020 5:23:30 AM', 'TenantDefaultPolicy': '18', 'DisplayName': 'Default Policy', 'PolicyIdentifierString': '5/19/2020 1:39:05 PM'})\"],[\"Cmd(name='Set-ConditionalAccessPolicy', params={'Identity': 'seccxpninja.onmicrosoft.com\\\\\\\\83a057fb-dbca-4ba8-bb5f-0ce6d6e7cff5', 'PolicyDetails': '{\\\"Version\\\":0,\\\"State\\\":\\\"Enabled\\\",\\\"Conditions\\\":{\\\"Applications\\\":{\\\"Include\\\":[{\\\"Acrs\\\":[\\\"urn:microsoft:req1\\\"]}]},\\\"Users\\\":{\\\"Include\\\":[{\\\"Users\\\":[\\\"eababd92-9dc7-40e3-9359-6c106522db19\\\"]}]}},\\\"Controls\\\":[{\\\"Control\\\":[\\\"Mfa\\\"]}],\\\"PersistentBrowserSessionMode\\\":\\\"NotSet\\\",\\\"EnforceAllPoliciesForEas\\\":false,\\\"IncludeOtherLegacyClientTypeForEvaluation\\\":false}', 'PolicyLastUpdatedTime': '7/28/2020 5:23:28 AM', 'TenantDefaultPolicy': '', 'DisplayName': 'MeganB MCAS Step-up', 'PolicyIdentifierString': ''})\",\"Cmd(name='Set-ConditionalAccessPolicy', params={'Identity': 'seccxpninja.onmicrosoft.com\\\\\\\\b2915792-0396-4abe-94ec-e17fa17243c5', 'PolicyDetails': '{\\\"Version\\\":0,\\\"State\\\":\\\"Enabled\\\",\\\"Conditions\\\":{\\\"Applications\\\":{\\\"Include\\\":[{\\\"Applications\\\":[\\\"94c63fef-13a3-47bc-8074-75af8c65887a\\\",\\\"c9a559d2-7aab-4f13-a6ed-e7e9c52aec87\\\"]}]},\\\"Users\\\":{\\\"Include\\\":[{\\\"Users\\\":[\\\"bdb72692-2275-412b-8af0-ea21c2ebd174\\\",\\\"eababd92-9dc7-40e3-9359-6c106522db19\\\"]}]},\\\"SignInRisks\\\":{\\\"Include\\\":[{\\\"SignInRisks\\\":[\\\"High\\\",\\\"Medium\\\",\\\"Low\\\"]}]}},\\\"SessionControls\\\":[\\\"CloudAppSecurity\\\"],\\\"PersistentBrowserSessionMode\\\":\\\"NotSet\\\",\\\"EnforceAllPoliciesForEas\\\":false,\\\"IncludeOtherLegacyClientTypeForEvaluation\\\":false,\\\"CasSessionControlType\\\":3}', 'PolicyLastUpdatedTime': '7/28/2020 5:23:29 AM', 'TenantDefaultPolicy': '', 'DisplayName': 'GBB demo', 'PolicyIdentifierString': ''})\"],[\"Cmd(name='Set-ConditionalAccessPolicy', params={'Identity': 'seccxpninja.onmicrosoft.com\\\\\\\\69c7a12f-b407-45a3-b07e-fa04fc7f273d', 'PolicyDetails': '{\\\"Version\\\":0,\\\"State\\\":\\\"Enabled\\\",\\\"Conditions\\\":{\\\"Applications\\\":{\\\"Include\\\":[{\\\"Applications\\\":[\\\"00000003-0000-0ff1-ce00-000000000000\\\"]}]},\\\"Users\\\":{\\\"Include\\\":[{\\\"Users\\\":[\\\"All\\\"]}]}},\\\"SessionControls\\\":[\\\"CloudAppSecurity\\\"],\\\"PersistentBrowserSessionMode\\\":\\\"NotSet\\\",\\\"EnforceAllPoliciesForEas\\\":false,\\\"IncludeOtherLegacyClientTypeForEvaluation\\\":false,\\\"CasSessionControlType\\\":1}', 'PolicyLastUpdatedTime': '7/28/2020 5:23:31 AM', 'TenantDefaultPolicy': '', 'DisplayName': 'Test Policy', 'PolicyIdentifierString': ''})\",\"Cmd(name='Set-ConditionalAccessPolicy', params={'Identity': 'seccxpninja.onmicrosoft.com\\\\\\\\8837fdaa-aaeb-4432-9622-43f6f583d583', 'PolicyDetails': '{\\\"KnownNetworkPolicies\\\":{\\\"NetworkName\\\":\\\"BE-Office\\\",\\\"NetworkId\\\":\\\"b98b9088-ce88-4fae-80fb-5b58cb1ce685\\\",\\\"CidrIpRanges\\\":[\\\"109.88.218.99/28\\\"],\\\"CountryIsoCodes\\\":null,\\\"Categories\\\":[],\\\"ApplyToUnknownCountry\\\":false}}', 'PolicyLastUpdatedTime': '7/28/2020 5:23:31 AM', 'TenantDefaultPolicy': '6', 'DisplayName': 'Known Networks List', 'PolicyIdentifierString': '3/19/2020 7:45:08 PM'})\"],[\"Cmd(name='Set-ConditionalAccessPolicy', params={'Identity': 'seccxpninja.onmicrosoft.com\\\\\\\\6490d00c-7ba1-42cf-aa88-99eb71d53bf7', 'PolicyDetails': '{\\\"Version\\\":0,\\\"LastUpdatedTimestamp\\\":\\\"2020-07-02T12:42:35.1866847Z\\\",\\\"State\\\":\\\"Disabled\\\",\\\"SignInFrequency\\\":\\\"NotSet\\\",\\\"PersistentBrowserSessionMode\\\":\\\"NotSet\\\"}', 'PolicyLastUpdatedTime': '7/29/2020 1:40:54 AM', 'TenantDefaultPolicy': '18', 'DisplayName': 'Default Policy', 'PolicyIdentifierString': '5/19/2020 1:39:05 PM'})\",\"Cmd(name='Set-ConditionalAccessPolicy', params={'Identity': 'seccxpninja.onmicrosoft.com\\\\\\\\6490d00c-7ba1-42cf-aa88-99eb71d53bf7', 'PolicyDetails': '{\\\"Version\\\":0,\\\"LastUpdatedTimestamp\\\":\\\"2020-07-02T12:42:35.1866847Z\\\",\\\"State\\\":\\\"Disabled\\\",\\\"SignInFrequency\\\":\\\"NotSet\\\",\\\"PersistentBrowserSessionMode\\\":\\\"NotSet\\\"}', 'PolicyLastUpdatedTime': '7/29/2020 1:40:54 AM', 'TenantDefaultPolicy': '18', 'DisplayName': 'Default Policy', 'PolicyIdentifierString': '5/19/2020 1:39:05 PM'})\"],[\"Cmd(name='Set-ConditionalAccessPolicy', params={'Identity': 'seccxpninja.onmicrosoft.com\\\\\\\\83a057fb-dbca-4ba8-bb5f-0ce6d6e7cff5', 'PolicyDetails': '{\\\"Version\\\":0,\\\"State\\\":\\\"Enabled\\\",\\\"Conditions\\\":{\\\"Applications\\\":{\\\"Include\\\":[{\\\"Acrs\\\":[\\\"urn:microsoft:req1\\\"]}]},\\\"Users\\\":{\\\"Include\\\":[{\\\"Users\\\":[\\\"eababd92-9dc7-40e3-9359-6c106522db19\\\"]}]}},\\\"Controls\\\":[{\\\"Control\\\":[\\\"Mfa\\\"]}],\\\"PersistentBrowserSessionMode\\\":\\\"NotSet\\\",\\\"EnforceAllPoliciesForEas\\\":false,\\\"IncludeOtherLegacyClientTypeForEvaluation\\\":false}', 'PolicyLastUpdatedTime': '7/29/2020 1:40:52 AM', 'TenantDefaultPolicy': '', 'DisplayName': 'MeganB MCAS Step-up', 'PolicyIdentifierString': ''})\",\"Cmd(name='Set-ConditionalAccessPolicy', params={'Identity': 'seccxpninja.onmicrosoft.com\\\\\\\\2e76d011-eaa3-40b4-8ce8-7fba52bf3af8', 'PolicyDetails': '{\\\"Version\\\":0,\\\"State\\\":\\\"Reporting\\\",\\\"Conditions\\\":{\\\"Applications\\\":{\\\"Include\\\":[{\\\"Applications\\\":[\\\"f9e8b3d0-ba26-42cd-b544-c90a66191a81\\\"]}]},\\\"Users\\\":{\\\"Include\\\":[{\\\"Users\\\":[\\\"All\\\"]}]}},\\\"SessionControls\\\":[\\\"CloudAppSecurity\\\"],\\\"PersistentBrowserSessionMode\\\":\\\"NotSet\\\",\\\"EnforceAllPoliciesForEas\\\":false,\\\"IncludeOtherLegacyClientTypeForEvaluation\\\":false,\\\"CasSessionControlType\\\":1}', 'PolicyLastUpdatedTime': '7/29/2020 1:40:53 AM', 'TenantDefaultPolicy': '', 'DisplayName': 'On-Prem SharePoint - MeganB proxy', 'PolicyIdentifierString': ''})\"],[\"Cmd(name='Set-ConditionalAccessPolicy', params={'Identity': 'seccxpninja.onmicrosoft.com\\\\\\\\8872f6fb-da88-4b63-bcc7-17247669596b', 'PolicyDetails': '{\\\"Version\\\":0,\\\"State\\\":\\\"Enabled\\\",\\\"Conditions\\\":{\\\"Applications\\\":{\\\"Include\\\":[{\\\"Applications\\\":[\\\"00000002-0000-0ff1-ce00-000000000000\\\",\\\"09abbdfd-ed23-44ee-a2d9-a627aa1c90f3\\\",\\\"cc15fd57-2c6c-4117-a88c-83b1d56b4bbe\\\",\\\"00000003-0000-0ff1-ce00-000000000000\\\",\\\"00000005-0000-0ff1-ce00-000000000000\\\"]}]},\\\"Users\\\":{\\\"Include\\\":[{\\\"Users\\\":[\\\"eababd92-9dc7-40e3-9359-6c106522db19\\\"]}]}},\\\"SessionControls\\\":[\\\"CloudAppSecurity\\\"],\\\"PersistentBrowserSessionMode\\\":\\\"NotSet\\\",\\\"EnforceAllPoliciesForEas\\\":false,\\\"IncludeOtherLegacyClientTypeForEvaluation\\\":false,\\\"CasSessionControlType\\\":1}', 'PolicyLastUpdatedTime': '7/29/2020 5:15:37 AM', 'TenantDefaultPolicy': '', 'DisplayName': 'MeganB MCAS Proxy', 'PolicyIdentifierString': ''})\",\"Cmd(name='Set-ConditionalAccessPolicy', params={'Identity': 'seccxpninja.onmicrosoft.com\\\\\\\\8872f6fb-da88-4b63-bcc7-17247669596b', 'PolicyDetails': '{\\\"Version\\\":0,\\\"State\\\":\\\"Enabled\\\",\\\"Conditions\\\":{\\\"Applications\\\":{\\\"Include\\\":[{\\\"Applications\\\":[\\\"00000002-0000-0ff1-ce00-000000000000\\\",\\\"09abbdfd-ed23-44ee-a2d9-a627aa1c90f3\\\",\\\"cc15fd57-2c6c-4117-a88c-83b1d56b4bbe\\\",\\\"00000003-0000-0ff1-ce00-000000000000\\\",\\\"00000005-0000-0ff1-ce00-000000000000\\\"]}]},\\\"Users\\\":{\\\"Include\\\":[{\\\"Users\\\":[\\\"eababd92-9dc7-40e3-9359-6c106522db19\\\"]}]}},\\\"SessionControls\\\":[\\\"CloudAppSecurity\\\"],\\\"PersistentBrowserSessionMode\\\":\\\"NotSet\\\",\\\"EnforceAllPoliciesForEas\\\":false,\\\"IncludeOtherLegacyClientTypeForEvaluation\\\":false,\\\"CasSessionControlType\\\":1}', 'PolicyLastUpdatedTime': '7/29/2020 5:15:37 AM', 'TenantDefaultPolicy': '', 'DisplayName': 'MeganB MCAS Proxy', 'PolicyIdentifierString': ''})\"],[\"Cmd(name='Set-ConditionalAccessPolicy', params={'Identity': 'seccxpninja.onmicrosoft.com\\\\\\\\2e76d011-eaa3-40b4-8ce8-7fba52bf3af8', 'PolicyDetails': '{\\\"Version\\\":0,\\\"State\\\":\\\"Reporting\\\",\\\"Conditions\\\":{\\\"Applications\\\":{\\\"Include\\\":[{\\\"Applications\\\":[\\\"f9e8b3d0-ba26-42cd-b544-c90a66191a81\\\"]}]},\\\"Users\\\":{\\\"Include\\\":[{\\\"Users\\\":[\\\"All\\\"]}]}},\\\"SessionControls\\\":[\\\"CloudAppSecurity\\\"],\\\"PersistentBrowserSessionMode\\\":\\\"NotSet\\\",\\\"EnforceAllPoliciesForEas\\\":false,\\\"IncludeOtherLegacyClientTypeForEvaluation\\\":false,\\\"CasSessionControlType\\\":1}', 'PolicyLastUpdatedTime': '7/29/2020 5:15:40 AM', 'TenantDefaultPolicy': '', 'DisplayName': 'On-Prem SharePoint - MeganB proxy', 'PolicyIdentifierString': ''})\",\"Cmd(name='Set-ConditionalAccessPolicy', params={'Identity': 'seccxpninja.onmicrosoft.com\\\\\\\\6490d00c-7ba1-42cf-aa88-99eb71d53bf7', 'PolicyDetails': '{\\\"Version\\\":0,\\\"LastUpdatedTimestamp\\\":\\\"2020-07-02T12:42:35.1866847Z\\\",\\\"State\\\":\\\"Disabled\\\",\\\"SignInFrequency\\\":\\\"NotSet\\\",\\\"PersistentBrowserSessionMode\\\":\\\"NotSet\\\"}', 'PolicyLastUpdatedTime': '7/29/2020 5:15:40 AM', 'TenantDefaultPolicy': '18', 'DisplayName': 'Default Policy', 'PolicyIdentifierString': '5/19/2020 1:39:05 PM'})\"],[\"Cmd(name='Set-ConditionalAccessPolicy', params={'Identity': 'seccxpninja.onmicrosoft.com\\\\\\\\b2915792-0396-4abe-94ec-e17fa17243c5', 'PolicyDetails': '{\\\"Version\\\":0,\\\"State\\\":\\\"Enabled\\\",\\\"Conditions\\\":{\\\"Applications\\\":{\\\"Include\\\":[{\\\"Applications\\\":[\\\"94c63fef-13a3-47bc-8074-75af8c65887a\\\",\\\"c9a559d2-7aab-4f13-a6ed-e7e9c52aec87\\\"]}]},\\\"Users\\\":{\\\"Include\\\":[{\\\"Users\\\":[\\\"bdb72692-2275-412b-8af0-ea21c2ebd174\\\",\\\"eababd92-9dc7-40e3-9359-6c106522db19\\\"]}]},\\\"SignInRisks\\\":{\\\"Include\\\":[{\\\"SignInRisks\\\":[\\\"High\\\",\\\"Medium\\\",\\\"Low\\\"]}]}},\\\"SessionControls\\\":[\\\"CloudAppSecurity\\\"],\\\"PersistentBrowserSessionMode\\\":\\\"NotSet\\\",\\\"EnforceAllPoliciesForEas\\\":false,\\\"IncludeOtherLegacyClientTypeForEvaluation\\\":false,\\\"CasSessionControlType\\\":3}', 'PolicyLastUpdatedTime': '7/30/2020 2:16:46 AM', 'TenantDefaultPolicy': '', 'DisplayName': 'GBB demo', 'PolicyIdentifierString': ''})\",\"Cmd(name='Set-ConditionalAccessPolicy', params={'Identity': 'seccxpninja.onmicrosoft.com\\\\\\\\b2915792-0396-4abe-94ec-e17fa17243c5', 'PolicyDetails': '{\\\"Version\\\":0,\\\"State\\\":\\\"Enabled\\\",\\\"Conditions\\\":{\\\"Applications\\\":{\\\"Include\\\":[{\\\"Applications\\\":[\\\"94c63fef-13a3-47bc-8074-75af8c65887a\\\",\\\"c9a559d2-7aab-4f13-a6ed-e7e9c52aec87\\\"]}]},\\\"Users\\\":{\\\"Include\\\":[{\\\"Users\\\":[\\\"bdb72692-2275-412b-8af0-ea21c2ebd174\\\",\\\"eababd92-9dc7-40e3-9359-6c106522db19\\\"]}]},\\\"SignInRisks\\\":{\\\"Include\\\":[{\\\"SignInRisks\\\":[\\\"High\\\",\\\"Medium\\\",\\\"Low\\\"]}]}},\\\"SessionControls\\\":[\\\"CloudAppSecurity\\\"],\\\"PersistentBrowserSessionMode\\\":\\\"NotSet\\\",\\\"EnforceAllPoliciesForEas\\\":false,\\\"IncludeOtherLegacyClientTypeForEvaluation\\\":false,\\\"CasSessionControlType\\\":3}', 'PolicyLastUpdatedTime': '7/30/2020 2:16:46 AM', 'TenantDefaultPolicy': '', 'DisplayName': 'GBB demo', 'PolicyIdentifierString': ''})\"],[\"Cmd(name='Set-ConditionalAccessPolicy', params={'Identity': 'seccxpninja.onmicrosoft.com\\\\\\\\e183bd29-a3a3-4f91-a5a3-b83b21a544df', 'PolicyDetails': '{\\\"Version\\\":0,\\\"State\\\":\\\"Enabled\\\",\\\"Conditions\\\":{\\\"Applications\\\":{\\\"Include\\\":[{\\\"Applications\\\":[\\\"00000002-0000-0ff1-ce00-000000000000\\\"]}]},\\\"Users\\\":{\\\"Include\\\":[{\\\"Users\\\":[\\\"2935e535-8fdf-4217-865b-e084cb7214f1\\\"]}]}},\\\"SessionControls\\\":[\\\"AppEnforcedRestrictions\\\"],\\\"PersistentBrowserSessionMode\\\":\\\"NotSet\\\",\\\"EnforceAllPoliciesForEas\\\":false,\\\"IncludeOtherLegacyClientTypeForEvaluation\\\":false}', 'PolicyLastUpdatedTime': '7/30/2020 5:13:58 AM', 'TenantDefaultPolicy': '', 'DisplayName': 'JulianI Exchange native controls', 'PolicyIdentifierString': ''})\",\"Cmd(name='Set-ConditionalAccessPolicy', params={'Identity': 'seccxpninja.onmicrosoft.com\\\\\\\\5fd0c4ff-1cd7-4bf6-8607-294a04f58f12', 'PolicyDetails': '{\\\"Version\\\":0,\\\"State\\\":\\\"Disabled\\\",\\\"Conditions\\\":{\\\"Applications\\\":{\\\"Include\\\":[{\\\"Applications\\\":[\\\"All\\\"]}]},\\\"Users\\\":{\\\"Include\\\":[{\\\"Users\\\":[\\\"142512c7-f006-46ae-909c-14fa7bf6a887\\\"]}]}},\\\"Controls\\\":[{\\\"Control\\\":[\\\"Mfa\\\"]}],\\\"EnforceAllPoliciesForEas\\\":false,\\\"IncludeOtherLegacyClientTypeForEvaluation\\\":false}', 'PolicyLastUpdatedTime': '7/30/2020 5:13:58 AM', 'TenantDefaultPolicy': '', 'DisplayName': 'Azure MFA', 'PolicyIdentifierString': ''})\"],[\"Cmd(name='Set-ConditionalAccessPolicy', params={'Identity': 'seccxpninja.onmicrosoft.com\\\\\\\\8872f6fb-da88-4b63-bcc7-17247669596b', 'PolicyDetails': '{\\\"Version\\\":0,\\\"State\\\":\\\"Enabled\\\",\\\"Conditions\\\":{\\\"Applications\\\":{\\\"Include\\\":[{\\\"Applications\\\":[\\\"00000002-0000-0ff1-ce00-000000000000\\\",\\\"09abbdfd-ed23-44ee-a2d9-a627aa1c90f3\\\",\\\"cc15fd57-2c6c-4117-a88c-83b1d56b4bbe\\\",\\\"00000003-0000-0ff1-ce00-000000000000\\\",\\\"00000005-0000-0ff1-ce00-000000000000\\\"]}]},\\\"Users\\\":{\\\"Include\\\":[{\\\"Users\\\":[\\\"eababd92-9dc7-40e3-9359-6c106522db19\\\"]}]}},\\\"SessionControls\\\":[\\\"CloudAppSecurity\\\"],\\\"PersistentBrowserSessionMode\\\":\\\"NotSet\\\",\\\"EnforceAllPoliciesForEas\\\":false,\\\"IncludeOtherLegacyClientTypeForEvaluation\\\":false,\\\"CasSessionControlType\\\":1}', 'PolicyLastUpdatedTime': '7/31/2020 2:40:02 AM', 'TenantDefaultPolicy': '', 'DisplayName': 'MeganB MCAS Proxy', 'PolicyIdentifierString': ''})\",\"Cmd(name='Set-ConditionalAccessPolicy', params={'Identity': 'seccxpninja.onmicrosoft.com\\\\\\\\8872f6fb-da88-4b63-bcc7-17247669596b', 'PolicyDetails': '{\\\"Version\\\":0,\\\"State\\\":\\\"Enabled\\\",\\\"Conditions\\\":{\\\"Applications\\\":{\\\"Include\\\":[{\\\"Applications\\\":[\\\"00000002-0000-0ff1-ce00-000000000000\\\",\\\"09abbdfd-ed23-44ee-a2d9-a627aa1c90f3\\\",\\\"cc15fd57-2c6c-4117-a88c-83b1d56b4bbe\\\",\\\"00000003-0000-0ff1-ce00-000000000000\\\",\\\"00000005-0000-0ff1-ce00-000000000000\\\"]}]},\\\"Users\\\":{\\\"Include\\\":[{\\\"Users\\\":[\\\"eababd92-9dc7-40e3-9359-6c106522db19\\\"]}]}},\\\"SessionControls\\\":[\\\"CloudAppSecurity\\\"],\\\"PersistentBrowserSessionMode\\\":\\\"NotSet\\\",\\\"EnforceAllPoliciesForEas\\\":false,\\\"IncludeOtherLegacyClientTypeForEvaluation\\\":false,\\\"CasSessionControlType\\\":1}', 'PolicyLastUpdatedTime': '7/31/2020 2:40:02 AM', 'TenantDefaultPolicy': '', 'DisplayName': 'MeganB MCAS Proxy', 'PolicyIdentifierString': ''})\"],[\"Cmd(name='Set-ConditionalAccessPolicy', params={'Identity': 'seccxpninja.onmicrosoft.com\\\\\\\\bcd93f74-64fd-4042-a3ae-ee6d48886d6d', 'PolicyDetails': '{\\\"Version\\\":0,\\\"State\\\":\\\"Enabled\\\",\\\"Conditions\\\":{\\\"Applications\\\":{\\\"Include\\\":[{\\\"Applications\\\":[\\\"c9a559d2-7aab-4f13-a6ed-e7e9c52aec87\\\"]}]},\\\"Users\\\":{\\\"Include\\\":[{\\\"Users\\\":[\\\"bdb72692-2275-412b-8af0-ea21c2ebd174\\\",\\\"eababd92-9dc7-40e3-9359-6c106522db19\\\"]}]}},\\\"SessionControls\\\":[\\\"CloudAppSecurity\\\"],\\\"PersistentBrowserSessionMode\\\":\\\"NotSet\\\",\\\"EnforceAllPoliciesForEas\\\":false,\\\"IncludeOtherLegacyClientTypeForEvaluation\\\":false,\\\"CasSessionControlType\\\":3}', 'PolicyLastUpdatedTime': '7/31/2020 2:40:03 AM', 'TenantDefaultPolicy': '', 'DisplayName': 'Form MCAS', 'PolicyIdentifierString': ''})\",\"Cmd(name='Set-ConditionalAccessPolicy', params={'Identity': 'seccxpninja.onmicrosoft.com\\\\\\\\2e76d011-eaa3-40b4-8ce8-7fba52bf3af8', 'PolicyDetails': '{\\\"Version\\\":0,\\\"State\\\":\\\"Reporting\\\",\\\"Conditions\\\":{\\\"Applications\\\":{\\\"Include\\\":[{\\\"Applications\\\":[\\\"f9e8b3d0-ba26-42cd-b544-c90a66191a81\\\"]}]},\\\"Users\\\":{\\\"Include\\\":[{\\\"Users\\\":[\\\"All\\\"]}]}},\\\"SessionControls\\\":[\\\"CloudAppSecurity\\\"],\\\"PersistentBrowserSessionMode\\\":\\\"NotSet\\\",\\\"EnforceAllPoliciesForEas\\\":false,\\\"IncludeOtherLegacyClientTypeForEvaluation\\\":false,\\\"CasSessionControlType\\\":1}', 'PolicyLastUpdatedTime': '7/31/2020 2:40:04 AM', 'TenantDefaultPolicy': '', 'DisplayName': 'On-Prem SharePoint - MeganB proxy', 'PolicyIdentifierString': ''})\"],[\"Cmd(name='Set-ConditionalAccessPolicy', params={'Identity': 'seccxpninja.onmicrosoft.com\\\\\\\\83a057fb-dbca-4ba8-bb5f-0ce6d6e7cff5', 'PolicyDetails': '{\\\"Version\\\":0,\\\"State\\\":\\\"Enabled\\\",\\\"Conditions\\\":{\\\"Applications\\\":{\\\"Include\\\":[{\\\"Acrs\\\":[\\\"urn:microsoft:req1\\\"]}]},\\\"Users\\\":{\\\"Include\\\":[{\\\"Users\\\":[\\\"eababd92-9dc7-40e3-9359-6c106522db19\\\"]}]}},\\\"Controls\\\":[{\\\"Control\\\":[\\\"Mfa\\\"]}],\\\"PersistentBrowserSessionMode\\\":\\\"NotSet\\\",\\\"EnforceAllPoliciesForEas\\\":false,\\\"IncludeOtherLegacyClientTypeForEvaluation\\\":false}', 'PolicyLastUpdatedTime': '7/31/2020 4:58:18 AM', 'TenantDefaultPolicy': '', 'DisplayName': 'MeganB MCAS Step-up', 'PolicyIdentifierString': ''})\",\"Cmd(name='Set-ConditionalAccessPolicy', params={'Identity': 'seccxpninja.onmicrosoft.com\\\\\\\\8872f6fb-da88-4b63-bcc7-17247669596b', 'PolicyDetails': '{\\\"Version\\\":0,\\\"State\\\":\\\"Enabled\\\",\\\"Conditions\\\":{\\\"Applications\\\":{\\\"Include\\\":[{\\\"Applications\\\":[\\\"00000002-0000-0ff1-ce00-000000000000\\\",\\\"09abbdfd-ed23-44ee-a2d9-a627aa1c90f3\\\",\\\"cc15fd57-2c6c-4117-a88c-83b1d56b4bbe\\\",\\\"00000003-0000-0ff1-ce00-000000000000\\\",\\\"00000005-0000-0ff1-ce00-000000000000\\\"]}]},\\\"Users\\\":{\\\"Include\\\":[{\\\"Users\\\":[\\\"eababd92-9dc7-40e3-9359-6c106522db19\\\"]}]}},\\\"SessionControls\\\":[\\\"CloudAppSecurity\\\"],\\\"PersistentBrowserSessionMode\\\":\\\"NotSet\\\",\\\"EnforceAllPoliciesForEas\\\":false,\\\"IncludeOtherLegacyClientTypeForEvaluation\\\":false,\\\"CasSessionControlType\\\":1}', 'PolicyLastUpdatedTime': '7/31/2020 4:58:17 AM', 'TenantDefaultPolicy': '', 'DisplayName': 'MeganB MCAS Proxy', 'PolicyIdentifierString': ''})\"],[\"Cmd(name='Set-ConditionalAccessPolicy', params={'Identity': 'seccxpninja.onmicrosoft.com\\\\\\\\bcd93f74-64fd-4042-a3ae-ee6d48886d6d', 'PolicyDetails': '{\\\"Version\\\":0,\\\"State\\\":\\\"Enabled\\\",\\\"Conditions\\\":{\\\"Applications\\\":{\\\"Include\\\":[{\\\"Applications\\\":[\\\"c9a559d2-7aab-4f13-a6ed-e7e9c52aec87\\\"]}]},\\\"Users\\\":{\\\"Include\\\":[{\\\"Users\\\":[\\\"bdb72692-2275-412b-8af0-ea21c2ebd174\\\",\\\"eababd92-9dc7-40e3-9359-6c106522db19\\\"]}]}},\\\"SessionControls\\\":[\\\"CloudAppSecurity\\\"],\\\"PersistentBrowserSessionMode\\\":\\\"NotSet\\\",\\\"EnforceAllPoliciesForEas\\\":false,\\\"IncludeOtherLegacyClientTypeForEvaluation\\\":false,\\\"CasSessionControlType\\\":3}', 'PolicyLastUpdatedTime': '8/1/2020 2:29:49 AM', 'TenantDefaultPolicy': '', 'DisplayName': 'Form MCAS', 'PolicyIdentifierString': ''})\",\"Cmd(name='Set-ConditionalAccessPolicy', params={'Identity': 'seccxpninja.onmicrosoft.com\\\\\\\\bcd93f74-64fd-4042-a3ae-ee6d48886d6d', 'PolicyDetails': '{\\\"Version\\\":0,\\\"State\\\":\\\"Enabled\\\",\\\"Conditions\\\":{\\\"Applications\\\":{\\\"Include\\\":[{\\\"Applications\\\":[\\\"c9a559d2-7aab-4f13-a6ed-e7e9c52aec87\\\"]}]},\\\"Users\\\":{\\\"Include\\\":[{\\\"Users\\\":[\\\"bdb72692-2275-412b-8af0-ea21c2ebd174\\\",\\\"eababd92-9dc7-40e3-9359-6c106522db19\\\"]}]}},\\\"SessionControls\\\":[\\\"CloudAppSecurity\\\"],\\\"PersistentBrowserSessionMode\\\":\\\"NotSet\\\",\\\"EnforceAllPoliciesForEas\\\":false,\\\"IncludeOtherLegacyClientTypeForEvaluation\\\":false,\\\"CasSessionControlType\\\":3}', 'PolicyLastUpdatedTime': '8/1/2020 2:29:49 AM', 'TenantDefaultPolicy': '', 'DisplayName': 'Form MCAS', 'PolicyIdentifierString': ''})\"],[\"Cmd(name='Set-ConditionalAccessPolicy', params={'Identity': 'seccxpninja.onmicrosoft.com\\\\\\\\8872f6fb-da88-4b63-bcc7-17247669596b', 'PolicyDetails': '{\\\"Version\\\":0,\\\"State\\\":\\\"Enabled\\\",\\\"Conditions\\\":{\\\"Applications\\\":{\\\"Include\\\":[{\\\"Applications\\\":[\\\"00000002-0000-0ff1-ce00-000000000000\\\",\\\"09abbdfd-ed23-44ee-a2d9-a627aa1c90f3\\\",\\\"cc15fd57-2c6c-4117-a88c-83b1d56b4bbe\\\",\\\"00000003-0000-0ff1-ce00-000000000000\\\",\\\"00000005-0000-0ff1-ce00-000000000000\\\"]}]},\\\"Users\\\":{\\\"Include\\\":[{\\\"Users\\\":[\\\"eababd92-9dc7-40e3-9359-6c106522db19\\\"]}]}},\\\"SessionControls\\\":[\\\"CloudAppSecurity\\\"],\\\"PersistentBrowserSessionMode\\\":\\\"NotSet\\\",\\\"EnforceAllPoliciesForEas\\\":false,\\\"IncludeOtherLegacyClientTypeForEvaluation\\\":false,\\\"CasSessionControlType\\\":1}', 'PolicyLastUpdatedTime': '8/1/2020 5:29:05 AM', 'TenantDefaultPolicy': '', 'DisplayName': 'MeganB MCAS Proxy', 'PolicyIdentifierString': ''})\",\"Cmd(name='Set-ConditionalAccessPolicy', params={'Identity': 'seccxpninja.onmicrosoft.com\\\\\\\\8872f6fb-da88-4b63-bcc7-17247669596b', 'PolicyDetails': '{\\\"Version\\\":0,\\\"State\\\":\\\"Enabled\\\",\\\"Conditions\\\":{\\\"Applications\\\":{\\\"Include\\\":[{\\\"Applications\\\":[\\\"00000002-0000-0ff1-ce00-000000000000\\\",\\\"09abbdfd-ed23-44ee-a2d9-a627aa1c90f3\\\",\\\"cc15fd57-2c6c-4117-a88c-83b1d56b4bbe\\\",\\\"00000003-0000-0ff1-ce00-000000000000\\\",\\\"00000005-0000-0ff1-ce00-000000000000\\\"]}]},\\\"Users\\\":{\\\"Include\\\":[{\\\"Users\\\":[\\\"eababd92-9dc7-40e3-9359-6c106522db19\\\"]}]}},\\\"SessionControls\\\":[\\\"CloudAppSecurity\\\"],\\\"PersistentBrowserSessionMode\\\":\\\"NotSet\\\",\\\"EnforceAllPoliciesForEas\\\":false,\\\"IncludeOtherLegacyClientTypeForEvaluation\\\":false,\\\"CasSessionControlType\\\":1}', 'PolicyLastUpdatedTime': '8/1/2020 5:29:05 AM', 'TenantDefaultPolicy': '', 'DisplayName': 'MeganB MCAS Proxy', 'PolicyIdentifierString': ''})\"],[\"Cmd(name='Set-ConditionalAccessPolicy', params={'Identity': 'seccxpninja.onmicrosoft.com\\\\\\\\69c7a12f-b407-45a3-b07e-fa04fc7f273d', 'PolicyDetails': '{\\\"Version\\\":0,\\\"State\\\":\\\"Enabled\\\",\\\"Conditions\\\":{\\\"Applications\\\":{\\\"Include\\\":[{\\\"Applications\\\":[\\\"00000003-0000-0ff1-ce00-000000000000\\\"]}]},\\\"Users\\\":{\\\"Include\\\":[{\\\"Users\\\":[\\\"All\\\"]}]}},\\\"SessionControls\\\":[\\\"CloudAppSecurity\\\"],\\\"PersistentBrowserSessionMode\\\":\\\"NotSet\\\",\\\"EnforceAllPoliciesForEas\\\":false,\\\"IncludeOtherLegacyClientTypeForEvaluation\\\":false,\\\"CasSessionControlType\\\":1}', 'PolicyLastUpdatedTime': '8/1/2020 5:29:08 AM', 'TenantDefaultPolicy': '', 'DisplayName': 'Test Policy', 'PolicyIdentifierString': ''})\",\"Cmd(name='Set-ConditionalAccessPolicy', params={'Identity': 'seccxpninja.onmicrosoft.com\\\\\\\\8837fdaa-aaeb-4432-9622-43f6f583d583', 'PolicyDetails': '{\\\"KnownNetworkPolicies\\\":{\\\"NetworkName\\\":\\\"BE-Office\\\",\\\"NetworkId\\\":\\\"b98b9088-ce88-4fae-80fb-5b58cb1ce685\\\",\\\"CidrIpRanges\\\":[\\\"109.88.218.99/28\\\"],\\\"CountryIsoCodes\\\":null,\\\"Categories\\\":[],\\\"ApplyToUnknownCountry\\\":false}}', 'PolicyLastUpdatedTime': '8/1/2020 5:29:08 AM', 'TenantDefaultPolicy': '6', 'DisplayName': 'Known Networks List', 'PolicyIdentifierString': '3/19/2020 7:45:08 PM'})\"],[\"Cmd(name='Set-ConditionalAccessPolicy', params={'Identity': 'seccxpninja.onmicrosoft.com\\\\\\\\b2915792-0396-4abe-94ec-e17fa17243c5', 'PolicyDetails': '{\\\"Version\\\":0,\\\"State\\\":\\\"Enabled\\\",\\\"Conditions\\\":{\\\"Applications\\\":{\\\"Include\\\":[{\\\"Applications\\\":[\\\"94c63fef-13a3-47bc-8074-75af8c65887a\\\",\\\"c9a559d2-7aab-4f13-a6ed-e7e9c52aec87\\\"]}]},\\\"Users\\\":{\\\"Include\\\":[{\\\"Users\\\":[\\\"bdb72692-2275-412b-8af0-ea21c2ebd174\\\",\\\"eababd92-9dc7-40e3-9359-6c106522db19\\\"]}]},\\\"SignInRisks\\\":{\\\"Include\\\":[{\\\"SignInRisks\\\":[\\\"High\\\",\\\"Medium\\\",\\\"Low\\\"]}]}},\\\"SessionControls\\\":[\\\"CloudAppSecurity\\\"],\\\"PersistentBrowserSessionMode\\\":\\\"NotSet\\\",\\\"EnforceAllPoliciesForEas\\\":false,\\\"IncludeOtherLegacyClientTypeForEvaluation\\\":false,\\\"CasSessionControlType\\\":3}', 'PolicyLastUpdatedTime': '8/2/2020 2:12:56 AM', 'TenantDefaultPolicy': '', 'DisplayName': 'GBB demo', 'PolicyIdentifierString': ''})\",\"Cmd(name='Set-ConditionalAccessPolicy', params={'Identity': 'seccxpninja.onmicrosoft.com\\\\\\\\5fd0c4ff-1cd7-4bf6-8607-294a04f58f12', 'PolicyDetails': '{\\\"Version\\\":0,\\\"State\\\":\\\"Disabled\\\",\\\"Conditions\\\":{\\\"Applications\\\":{\\\"Include\\\":[{\\\"Applications\\\":[\\\"All\\\"]}]},\\\"Users\\\":{\\\"Include\\\":[{\\\"Users\\\":[\\\"142512c7-f006-46ae-909c-14fa7bf6a887\\\"]}]}},\\\"Controls\\\":[{\\\"Control\\\":[\\\"Mfa\\\"]}],\\\"EnforceAllPoliciesForEas\\\":false,\\\"IncludeOtherLegacyClientTypeForEvaluation\\\":false}', 'PolicyLastUpdatedTime': '8/2/2020 2:12:56 AM', 'TenantDefaultPolicy': '', 'DisplayName': 'Azure MFA', 'PolicyIdentifierString': ''})\"],[\"Cmd(name='Set-ConditionalAccessPolicy', params={'Identity': 'seccxpninja.onmicrosoft.com\\\\\\\\8872f6fb-da88-4b63-bcc7-17247669596b', 'PolicyDetails': '{\\\"Version\\\":0,\\\"State\\\":\\\"Enabled\\\",\\\"Conditions\\\":{\\\"Applications\\\":{\\\"Include\\\":[{\\\"Applications\\\":[\\\"00000002-0000-0ff1-ce00-000000000000\\\",\\\"09abbdfd-ed23-44ee-a2d9-a627aa1c90f3\\\",\\\"cc15fd57-2c6c-4117-a88c-83b1d56b4bbe\\\",\\\"00000003-0000-0ff1-ce00-000000000000\\\",\\\"00000005-0000-0ff1-ce00-000000000000\\\"]}]},\\\"Users\\\":{\\\"Include\\\":[{\\\"Users\\\":[\\\"eababd92-9dc7-40e3-9359-6c106522db19\\\"]}]}},\\\"SessionControls\\\":[\\\"CloudAppSecurity\\\"],\\\"PersistentBrowserSessionMode\\\":\\\"NotSet\\\",\\\"EnforceAllPoliciesForEas\\\":false,\\\"IncludeOtherLegacyClientTypeForEvaluation\\\":false,\\\"CasSessionControlType\\\":1}', 'PolicyLastUpdatedTime': '8/2/2020 5:26:58 AM', 'TenantDefaultPolicy': '', 'DisplayName': 'MeganB MCAS Proxy', 'PolicyIdentifierString': ''})\",\"Cmd(name='Set-ConditionalAccessPolicy', params={'Identity': 'seccxpninja.onmicrosoft.com\\\\\\\\b2915792-0396-4abe-94ec-e17fa17243c5', 'PolicyDetails': '{\\\"Version\\\":0,\\\"State\\\":\\\"Enabled\\\",\\\"Conditions\\\":{\\\"Applications\\\":{\\\"Include\\\":[{\\\"Applications\\\":[\\\"94c63fef-13a3-47bc-8074-75af8c65887a\\\",\\\"c9a559d2-7aab-4f13-a6ed-e7e9c52aec87\\\"]}]},\\\"Users\\\":{\\\"Include\\\":[{\\\"Users\\\":[\\\"bdb72692-2275-412b-8af0-ea21c2ebd174\\\",\\\"eababd92-9dc7-40e3-9359-6c106522db19\\\"]}]},\\\"SignInRisks\\\":{\\\"Include\\\":[{\\\"SignInRisks\\\":[\\\"High\\\",\\\"Medium\\\",\\\"Low\\\"]}]}},\\\"SessionControls\\\":[\\\"CloudAppSecurity\\\"],\\\"PersistentBrowserSessionMode\\\":\\\"NotSet\\\",\\\"EnforceAllPoliciesForEas\\\":false,\\\"IncludeOtherLegacyClientTypeForEvaluation\\\":false,\\\"CasSessionControlType\\\":3}', 'PolicyLastUpdatedTime': '8/2/2020 5:27:00 AM', 'TenantDefaultPolicy': '', 'DisplayName': 'GBB demo', 'PolicyIdentifierString': ''})\"],[\"Cmd(name='Set-ConditionalAccessPolicy', params={'Identity': 'seccxpninja.onmicrosoft.com\\\\\\\\8872f6fb-da88-4b63-bcc7-17247669596b', 'PolicyDetails': '{\\\"Version\\\":0,\\\"State\\\":\\\"Enabled\\\",\\\"Conditions\\\":{\\\"Applications\\\":{\\\"Include\\\":[{\\\"Applications\\\":[\\\"00000002-0000-0ff1-ce00-000000000000\\\",\\\"09abbdfd-ed23-44ee-a2d9-a627aa1c90f3\\\",\\\"cc15fd57-2c6c-4117-a88c-83b1d56b4bbe\\\",\\\"00000003-0000-0ff1-ce00-000000000000\\\",\\\"00000005-0000-0ff1-ce00-000000000000\\\"]}]},\\\"Users\\\":{\\\"Include\\\":[{\\\"Users\\\":[\\\"eababd92-9dc7-40e3-9359-6c106522db19\\\"]}]}},\\\"SessionControls\\\":[\\\"CloudAppSecurity\\\"],\\\"PersistentBrowserSessionMode\\\":\\\"NotSet\\\",\\\"EnforceAllPoliciesForEas\\\":false,\\\"IncludeOtherLegacyClientTypeForEvaluation\\\":false,\\\"CasSessionControlType\\\":1}', 'PolicyLastUpdatedTime': '8/3/2020 2:09:01 AM', 'TenantDefaultPolicy': '', 'DisplayName': 'MeganB MCAS Proxy', 'PolicyIdentifierString': ''})\",\"Cmd(name='Set-ConditionalAccessPolicy', params={'Identity': 'seccxpninja.onmicrosoft.com\\\\\\\\8872f6fb-da88-4b63-bcc7-17247669596b', 'PolicyDetails': '{\\\"Version\\\":0,\\\"State\\\":\\\"Enabled\\\",\\\"Conditions\\\":{\\\"Applications\\\":{\\\"Include\\\":[{\\\"Applications\\\":[\\\"00000002-0000-0ff1-ce00-000000000000\\\",\\\"09abbdfd-ed23-44ee-a2d9-a627aa1c90f3\\\",\\\"cc15fd57-2c6c-4117-a88c-83b1d56b4bbe\\\",\\\"00000003-0000-0ff1-ce00-000000000000\\\",\\\"00000005-0000-0ff1-ce00-000000000000\\\"]}]},\\\"Users\\\":{\\\"Include\\\":[{\\\"Users\\\":[\\\"eababd92-9dc7-40e3-9359-6c106522db19\\\"]}]}},\\\"SessionControls\\\":[\\\"CloudAppSecurity\\\"],\\\"PersistentBrowserSessionMode\\\":\\\"NotSet\\\",\\\"EnforceAllPoliciesForEas\\\":false,\\\"IncludeOtherLegacyClientTypeForEvaluation\\\":false,\\\"CasSessionControlType\\\":1}', 'PolicyLastUpdatedTime': '8/3/2020 2:09:01 AM', 'TenantDefaultPolicy': '', 'DisplayName': 'MeganB MCAS Proxy', 'PolicyIdentifierString': ''})\"],[\"Cmd(name='Set-ConditionalAccessPolicy', params={'Identity': 'seccxpninja.onmicrosoft.com\\\\\\\\235bec94-f744-48ac-8314-5675953d2def', 'PolicyDetails': '{\\\"Version\\\":0,\\\"State\\\":\\\"Disabled\\\",\\\"Conditions\\\":{\\\"Applications\\\":{\\\"Include\\\":[{\\\"Applications\\\":[\\\"All\\\"]}]},\\\"Users\\\":{\\\"Include\\\":[{\\\"Users\\\":[\\\"eababd92-9dc7-40e3-9359-6c106522db19\\\"]}]},\\\"DevicePlatforms\\\":{\\\"Include\\\":[{\\\"DevicePlatforms\\\":[\\\"All\\\"]}],\\\"Exclude\\\":[{\\\"DevicePlatforms\\\":[\\\"macOS\\\"]}]}},\\\"Controls\\\":[{\\\"Control\\\":[\\\"Mfa\\\"]}],\\\"PersistentBrowserSessionMode\\\":\\\"NotSet\\\",\\\"EnforceAllPoliciesForEas\\\":false,\\\"IncludeOtherLegacyClientTypeForEvaluation\\\":false}', 'PolicyLastUpdatedTime': '8/3/2020 2:09:02 AM', 'TenantDefaultPolicy': '', 'DisplayName': 'Megan MFA demo', 'PolicyIdentifierString': ''})\",\"Cmd(name='Set-ConditionalAccessPolicy', params={'Identity': 'seccxpninja.onmicrosoft.com\\\\\\\\4c5a5ea0-5d9f-4730-baaa-7a69cf29ef26', 'PolicyDetails': '{\\\"Version\\\":0,\\\"State\\\":\\\"Enabled\\\",\\\"Conditions\\\":{\\\"Applications\\\":{\\\"Include\\\":[{\\\"Applications\\\":[\\\"All\\\"]}]},\\\"Users\\\":{\\\"Include\\\":[{\\\"Users\\\":[\\\"bdb72692-2275-412b-8af0-ea21c2ebd174\\\"]}]}},\\\"Controls\\\":[{\\\"Control\\\":[\\\"Mfa\\\"]}],\\\"PersistentBrowserSessionMode\\\":\\\"NotSet\\\",\\\"EnforceAllPoliciesForEas\\\":false,\\\"IncludeOtherLegacyClientTypeForEvaluation\\\":false}', 'PolicyLastUpdatedTime': '8/3/2020 2:09:04 AM', 'TenantDefaultPolicy': '', 'DisplayName': 'Semolen - Admin MFA', 'PolicyIdentifierString': ''})\"],[\"Cmd(name='Set-ConditionalAccessPolicy', params={'Identity': 'seccxpninja.onmicrosoft.com\\\\\\\\8837fdaa-aaeb-4432-9622-43f6f583d583', 'PolicyDetails': '{\\\"KnownNetworkPolicies\\\":{\\\"NetworkName\\\":\\\"BE-Office\\\",\\\"NetworkId\\\":\\\"b98b9088-ce88-4fae-80fb-5b58cb1ce685\\\",\\\"CidrIpRanges\\\":[\\\"109.88.218.99/28\\\"],\\\"CountryIsoCodes\\\":null,\\\"Categories\\\":[],\\\"ApplyToUnknownCountry\\\":false}}', 'PolicyLastUpdatedTime': '8/3/2020 5:18:08 AM', 'TenantDefaultPolicy': '6', 'DisplayName': 'Known Networks List', 'PolicyIdentifierString': '3/19/2020 7:45:08 PM'})\",\"Cmd(name='Set-ConditionalAccessPolicy', params={'Identity': 'seccxpninja.onmicrosoft.com\\\\\\\\e183bd29-a3a3-4f91-a5a3-b83b21a544df', 'PolicyDetails': '{\\\"Version\\\":0,\\\"State\\\":\\\"Enabled\\\",\\\"Conditions\\\":{\\\"Applications\\\":{\\\"Include\\\":[{\\\"Applications\\\":[\\\"00000002-0000-0ff1-ce00-000000000000\\\"]}]},\\\"Users\\\":{\\\"Include\\\":[{\\\"Users\\\":[\\\"2935e535-8fdf-4217-865b-e084cb7214f1\\\"]}]}},\\\"SessionControls\\\":[\\\"AppEnforcedRestrictions\\\"],\\\"PersistentBrowserSessionMode\\\":\\\"NotSet\\\",\\\"EnforceAllPoliciesForEas\\\":false,\\\"IncludeOtherLegacyClientTypeForEvaluation\\\":false}', 'PolicyLastUpdatedTime': '8/3/2020 5:18:07 AM', 'TenantDefaultPolicy': '', 'DisplayName': 'JulianI Exchange native controls', 'PolicyIdentifierString': ''})\"],[\"Cmd(name='Set-ConditionalAccessPolicy', params={'Identity': 'seccxpninja.onmicrosoft.com\\\\\\\\8837fdaa-aaeb-4432-9622-43f6f583d583', 'PolicyDetails': '{\\\"KnownNetworkPolicies\\\":{\\\"NetworkName\\\":\\\"BE-Office\\\",\\\"NetworkId\\\":\\\"b98b9088-ce88-4fae-80fb-5b58cb1ce685\\\",\\\"CidrIpRanges\\\":[\\\"109.88.218.99/28\\\"],\\\"CountryIsoCodes\\\":null,\\\"Categories\\\":[],\\\"ApplyToUnknownCountry\\\":false}}', 'PolicyLastUpdatedTime': '8/4/2020 1:49:57 AM', 'TenantDefaultPolicy': '6', 'DisplayName': 'Known Networks List', 'PolicyIdentifierString': '3/19/2020 7:45:08 PM'})\",\"Cmd(name='Set-ConditionalAccessPolicy', params={'Identity': 'seccxpninja.onmicrosoft.com\\\\\\\\8872f6fb-da88-4b63-bcc7-17247669596b', 'PolicyDetails': '{\\\"Version\\\":0,\\\"State\\\":\\\"Enabled\\\",\\\"Conditions\\\":{\\\"Applications\\\":{\\\"Include\\\":[{\\\"Applications\\\":[\\\"00000002-0000-0ff1-ce00-000000000000\\\",\\\"09abbdfd-ed23-44ee-a2d9-a627aa1c90f3\\\",\\\"cc15fd57-2c6c-4117-a88c-83b1d56b4bbe\\\",\\\"00000003-0000-0ff1-ce00-000000000000\\\",\\\"00000005-0000-0ff1-ce00-000000000000\\\"]}]},\\\"Users\\\":{\\\"Include\\\":[{\\\"Users\\\":[\\\"eababd92-9dc7-40e3-9359-6c106522db19\\\"]}]}},\\\"SessionControls\\\":[\\\"CloudAppSecurity\\\"],\\\"PersistentBrowserSessionMode\\\":\\\"NotSet\\\",\\\"EnforceAllPoliciesForEas\\\":false,\\\"IncludeOtherLegacyClientTypeForEvaluation\\\":false,\\\"CasSessionControlType\\\":1}', 'PolicyLastUpdatedTime': '8/4/2020 1:49:52 AM', 'TenantDefaultPolicy': '', 'DisplayName': 'MeganB MCAS Proxy', 'PolicyIdentifierString': ''})\"],[\"Cmd(name='Set-ConditionalAccessPolicy', params={'Identity': 'seccxpninja.onmicrosoft.com\\\\\\\\235bec94-f744-48ac-8314-5675953d2def', 'PolicyDetails': '{\\\"Version\\\":0,\\\"State\\\":\\\"Disabled\\\",\\\"Conditions\\\":{\\\"Applications\\\":{\\\"Include\\\":[{\\\"Applications\\\":[\\\"All\\\"]}]},\\\"Users\\\":{\\\"Include\\\":[{\\\"Users\\\":[\\\"eababd92-9dc7-40e3-9359-6c106522db19\\\"]}]},\\\"DevicePlatforms\\\":{\\\"Include\\\":[{\\\"DevicePlatforms\\\":[\\\"All\\\"]}],\\\"Exclude\\\":[{\\\"DevicePlatforms\\\":[\\\"macOS\\\"]}]}},\\\"Controls\\\":[{\\\"Control\\\":[\\\"Mfa\\\"]}],\\\"PersistentBrowserSessionMode\\\":\\\"NotSet\\\",\\\"EnforceAllPoliciesForEas\\\":false,\\\"IncludeOtherLegacyClientTypeForEvaluation\\\":false}', 'PolicyLastUpdatedTime': '8/4/2020 5:28:36 AM', 'TenantDefaultPolicy': '', 'DisplayName': 'Megan MFA demo', 'PolicyIdentifierString': ''})\",\"Cmd(name='Set-ConditionalAccessPolicy', params={'Identity': 'seccxpninja.onmicrosoft.com\\\\\\\\6490d00c-7ba1-42cf-aa88-99eb71d53bf7', 'PolicyDetails': '{\\\"Version\\\":0,\\\"LastUpdatedTimestamp\\\":\\\"2020-07-02T12:42:35.1866847Z\\\",\\\"State\\\":\\\"Disabled\\\",\\\"SignInFrequency\\\":\\\"NotSet\\\",\\\"PersistentBrowserSessionMode\\\":\\\"NotSet\\\"}', 'PolicyLastUpdatedTime': '8/4/2020 5:28:36 AM', 'TenantDefaultPolicy': '18', 'DisplayName': 'Default Policy', 'PolicyIdentifierString': '5/19/2020 1:39:05 PM'})\"],[\"Cmd(name='Set-ConditionalAccessPolicy', params={'Identity': 'seccxpninja.onmicrosoft.com\\\\\\\\69c7a12f-b407-45a3-b07e-fa04fc7f273d', 'PolicyDetails': '{\\\"Version\\\":0,\\\"State\\\":\\\"Enabled\\\",\\\"Conditions\\\":{\\\"Applications\\\":{\\\"Include\\\":[{\\\"Applications\\\":[\\\"00000003-0000-0ff1-ce00-000000000000\\\"]}]},\\\"Users\\\":{\\\"Include\\\":[{\\\"Users\\\":[\\\"All\\\"]}]}},\\\"SessionControls\\\":[\\\"CloudAppSecurity\\\"],\\\"PersistentBrowserSessionMode\\\":\\\"NotSet\\\",\\\"EnforceAllPoliciesForEas\\\":false,\\\"IncludeOtherLegacyClientTypeForEvaluation\\\":false,\\\"CasSessionControlType\\\":1}', 'PolicyLastUpdatedTime': '8/5/2020 2:23:25 AM', 'TenantDefaultPolicy': '', 'DisplayName': 'Test Policy', 'PolicyIdentifierString': ''})\",\"Cmd(name='Set-ConditionalAccessPolicy', params={'Identity': 'seccxpninja.onmicrosoft.com\\\\\\\\3b13ea3c-c733-4eb8-bd19-67d308b2ea04', 'PolicyDetails': '{\\\"Version\\\":0,\\\"CreatedDateTime\\\":\\\"2020-05-19T13:34:15.2394934Z\\\",\\\"ModifiedDateTime\\\":\\\"2020-05-19T13:39:04.7333386Z\\\",\\\"State\\\":\\\"Reporting\\\",\\\"Conditions\\\":{\\\"Applications\\\":{\\\"Include\\\":[{\\\"Applications\\\":[\\\"None\\\"]}]},\\\"Users\\\":{\\\"Include\\\":[{\\\"Users\\\":[\\\"Guests\\\"]}]},\\\"DevicePlatforms\\\":{\\\"Include\\\":[{\\\"DevicePlatforms\\\":[\\\"All\\\"]}],\\\"Exclude\\\":[{\\\"DevicePlatforms\\\":[\\\"Android\\\",\\\"iOS\\\",\\\"macOS\\\"]}]},\\\"ClientTypes\\\":{\\\"Include\\\":[{\\\"ClientTypes\\\":[\\\"Browser\\\",\\\"Native\\\"]}]}},\\\"Controls\\\":[{\\\"Control\\\":[\\\"Mfa\\\",\\\"RequireCompliantDevice\\\"]}]}', 'PolicyLastUpdatedTime': '8/5/2020 2:23:25 AM', 'TenantDefaultPolicy': '', 'DisplayName': 'Yanivsh -CA Test', 'PolicyIdentifierString': ''})\"],[\"Cmd(name='Set-ConditionalAccessPolicy', params={'Identity': 'seccxpninja.onmicrosoft.com\\\\\\\\2e76d011-eaa3-40b4-8ce8-7fba52bf3af8', 'PolicyDetails': '{\\\"Version\\\":0,\\\"State\\\":\\\"Reporting\\\",\\\"Conditions\\\":{\\\"Applications\\\":{\\\"Include\\\":[{\\\"Applications\\\":[\\\"f9e8b3d0-ba26-42cd-b544-c90a66191a81\\\"]}]},\\\"Users\\\":{\\\"Include\\\":[{\\\"Users\\\":[\\\"All\\\"]}]}},\\\"SessionControls\\\":[\\\"CloudAppSecurity\\\"],\\\"PersistentBrowserSessionMode\\\":\\\"NotSet\\\",\\\"EnforceAllPoliciesForEas\\\":false,\\\"IncludeOtherLegacyClientTypeForEvaluation\\\":false,\\\"CasSessionControlType\\\":1}', 'PolicyLastUpdatedTime': '8/5/2020 5:15:31 AM', 'TenantDefaultPolicy': '', 'DisplayName': 'On-Prem SharePoint - MeganB proxy', 'PolicyIdentifierString': ''})\",\"Cmd(name='Set-ConditionalAccessPolicy', params={'Identity': 'seccxpninja.onmicrosoft.com\\\\\\\\b2915792-0396-4abe-94ec-e17fa17243c5', 'PolicyDetails': '{\\\"Version\\\":0,\\\"State\\\":\\\"Enabled\\\",\\\"Conditions\\\":{\\\"Applications\\\":{\\\"Include\\\":[{\\\"Applications\\\":[\\\"94c63fef-13a3-47bc-8074-75af8c65887a\\\",\\\"c9a559d2-7aab-4f13-a6ed-e7e9c52aec87\\\"]}]},\\\"Users\\\":{\\\"Include\\\":[{\\\"Users\\\":[\\\"bdb72692-2275-412b-8af0-ea21c2ebd174\\\",\\\"eababd92-9dc7-40e3-9359-6c106522db19\\\"]}]},\\\"SignInRisks\\\":{\\\"Include\\\":[{\\\"SignInRisks\\\":[\\\"High\\\",\\\"Medium\\\",\\\"Low\\\"]}]}},\\\"SessionControls\\\":[\\\"CloudAppSecurity\\\"],\\\"PersistentBrowserSessionMode\\\":\\\"NotSet\\\",\\\"EnforceAllPoliciesForEas\\\":false,\\\"IncludeOtherLegacyClientTypeForEvaluation\\\":false,\\\"CasSessionControlType\\\":3}', 'PolicyLastUpdatedTime': '8/5/2020 5:15:30 AM', 'TenantDefaultPolicy': '', 'DisplayName': 'GBB demo', 'PolicyIdentifierString': ''})\"],[\"Cmd(name='Set-ConditionalAccessPolicy', params={'Identity': 'seccxpninja.onmicrosoft.com\\\\\\\\83a057fb-dbca-4ba8-bb5f-0ce6d6e7cff5', 'PolicyDetails': '{\\\"Version\\\":0,\\\"State\\\":\\\"Enabled\\\",\\\"Conditions\\\":{\\\"Applications\\\":{\\\"Include\\\":[{\\\"Acrs\\\":[\\\"urn:microsoft:req1\\\"]}]},\\\"Users\\\":{\\\"Include\\\":[{\\\"Users\\\":[\\\"eababd92-9dc7-40e3-9359-6c106522db19\\\"]}]}},\\\"Controls\\\":[{\\\"Control\\\":[\\\"Mfa\\\"]}],\\\"PersistentBrowserSessionMode\\\":\\\"NotSet\\\",\\\"EnforceAllPoliciesForEas\\\":false,\\\"IncludeOtherLegacyClientTypeForEvaluation\\\":false}', 'PolicyLastUpdatedTime': '8/5/2020 5:15:30 AM', 'TenantDefaultPolicy': '', 'DisplayName': 'MeganB MCAS Step-up', 'PolicyIdentifierString': ''})\",\"Cmd(name='Set-ConditionalAccessPolicy', params={'Identity': 'seccxpninja.onmicrosoft.com\\\\\\\\8837fdaa-aaeb-4432-9622-43f6f583d583', 'PolicyDetails': '{\\\"KnownNetworkPolicies\\\":{\\\"NetworkName\\\":\\\"BE-Office\\\",\\\"NetworkId\\\":\\\"b98b9088-ce88-4fae-80fb-5b58cb1ce685\\\",\\\"CidrIpRanges\\\":[\\\"109.88.218.99/28\\\"],\\\"CountryIsoCodes\\\":null,\\\"Categories\\\":[],\\\"ApplyToUnknownCountry\\\":false}}', 'PolicyLastUpdatedTime': '8/5/2020 5:15:33 AM', 'TenantDefaultPolicy': '6', 'DisplayName': 'Known Networks List', 'PolicyIdentifierString': '3/19/2020 7:45:08 PM'})\"],[\"Cmd(name='Set-ConditionalAccessPolicy', params={'Identity': 'seccxpninja.onmicrosoft.com\\\\\\\\69c7a12f-b407-45a3-b07e-fa04fc7f273d', 'PolicyDetails': '{\\\"Version\\\":0,\\\"State\\\":\\\"Enabled\\\",\\\"Conditions\\\":{\\\"Applications\\\":{\\\"Include\\\":[{\\\"Applications\\\":[\\\"00000003-0000-0ff1-ce00-000000000000\\\"]}]},\\\"Users\\\":{\\\"Include\\\":[{\\\"Users\\\":[\\\"All\\\"]}]}},\\\"SessionControls\\\":[\\\"CloudAppSecurity\\\"],\\\"PersistentBrowserSessionMode\\\":\\\"NotSet\\\",\\\"EnforceAllPoliciesForEas\\\":false,\\\"IncludeOtherLegacyClientTypeForEvaluation\\\":false,\\\"CasSessionControlType\\\":1}', 'PolicyLastUpdatedTime': '8/5/2020 5:15:32 AM', 'TenantDefaultPolicy': '', 'DisplayName': 'Test Policy', 'PolicyIdentifierString': ''})\",\"Cmd(name='Set-ConditionalAccessPolicy', params={'Identity': 'seccxpninja.onmicrosoft.com\\\\\\\\b2915792-0396-4abe-94ec-e17fa17243c5', 'PolicyDetails': '{\\\"Version\\\":0,\\\"State\\\":\\\"Enabled\\\",\\\"Conditions\\\":{\\\"Applications\\\":{\\\"Include\\\":[{\\\"Applications\\\":[\\\"94c63fef-13a3-47bc-8074-75af8c65887a\\\",\\\"c9a559d2-7aab-4f13-a6ed-e7e9c52aec87\\\"]}]},\\\"Users\\\":{\\\"Include\\\":[{\\\"Users\\\":[\\\"bdb72692-2275-412b-8af0-ea21c2ebd174\\\",\\\"eababd92-9dc7-40e3-9359-6c106522db19\\\"]}]},\\\"SignInRisks\\\":{\\\"Include\\\":[{\\\"SignInRisks\\\":[\\\"High\\\",\\\"Medium\\\",\\\"Low\\\"]}]}},\\\"SessionControls\\\":[\\\"CloudAppSecurity\\\"],\\\"PersistentBrowserSessionMode\\\":\\\"NotSet\\\",\\\"EnforceAllPoliciesForEas\\\":false,\\\"IncludeOtherLegacyClientTypeForEvaluation\\\":false,\\\"CasSessionControlType\\\":3}', 'PolicyLastUpdatedTime': '8/5/2020 5:15:30 AM', 'TenantDefaultPolicy': '', 'DisplayName': 'GBB demo', 'PolicyIdentifierString': ''})\"],[\"Cmd(name='Set-ConditionalAccessPolicy', params={'Identity': 'seccxpninja.onmicrosoft.com\\\\\\\\235bec94-f744-48ac-8314-5675953d2def', 'PolicyDetails': '{\\\"Version\\\":0,\\\"State\\\":\\\"Disabled\\\",\\\"Conditions\\\":{\\\"Applications\\\":{\\\"Include\\\":[{\\\"Applications\\\":[\\\"All\\\"]}]},\\\"Users\\\":{\\\"Include\\\":[{\\\"Users\\\":[\\\"eababd92-9dc7-40e3-9359-6c106522db19\\\"]}]},\\\"DevicePlatforms\\\":{\\\"Include\\\":[{\\\"DevicePlatforms\\\":[\\\"All\\\"]}],\\\"Exclude\\\":[{\\\"DevicePlatforms\\\":[\\\"macOS\\\"]}]}},\\\"Controls\\\":[{\\\"Control\\\":[\\\"Mfa\\\"]}],\\\"PersistentBrowserSessionMode\\\":\\\"NotSet\\\",\\\"EnforceAllPoliciesForEas\\\":false,\\\"IncludeOtherLegacyClientTypeForEvaluation\\\":false}', 'PolicyLastUpdatedTime': '8/5/2020 5:15:29 AM', 'TenantDefaultPolicy': '', 'DisplayName': 'Megan MFA demo', 'PolicyIdentifierString': ''})\",\"Cmd(name='Set-ConditionalAccessPolicy', params={'Identity': 'seccxpninja.onmicrosoft.com\\\\\\\\4c5a5ea0-5d9f-4730-baaa-7a69cf29ef26', 'PolicyDetails': '{\\\"Version\\\":0,\\\"State\\\":\\\"Enabled\\\",\\\"Conditions\\\":{\\\"Applications\\\":{\\\"Include\\\":[{\\\"Applications\\\":[\\\"All\\\"]}]},\\\"Users\\\":{\\\"Include\\\":[{\\\"Users\\\":[\\\"bdb72692-2275-412b-8af0-ea21c2ebd174\\\"]}]}},\\\"Controls\\\":[{\\\"Control\\\":[\\\"Mfa\\\"]}],\\\"PersistentBrowserSessionMode\\\":\\\"NotSet\\\",\\\"EnforceAllPoliciesForEas\\\":false,\\\"IncludeOtherLegacyClientTypeForEvaluation\\\":false}', 'PolicyLastUpdatedTime': '8/5/2020 5:15:31 AM', 'TenantDefaultPolicy': '', 'DisplayName': 'Semolen - Admin MFA', 'PolicyIdentifierString': ''})\"],[\"Cmd(name='Set-ConditionalAccessPolicy', params={'Identity': 'seccxpninja.onmicrosoft.com\\\\\\\\235bec94-f744-48ac-8314-5675953d2def', 'PolicyDetails': '{\\\"Version\\\":0,\\\"State\\\":\\\"Disabled\\\",\\\"Conditions\\\":{\\\"Applications\\\":{\\\"Include\\\":[{\\\"Applications\\\":[\\\"All\\\"]}]},\\\"Users\\\":{\\\"Include\\\":[{\\\"Users\\\":[\\\"eababd92-9dc7-40e3-9359-6c106522db19\\\"]}]},\\\"DevicePlatforms\\\":{\\\"Include\\\":[{\\\"DevicePlatforms\\\":[\\\"All\\\"]}],\\\"Exclude\\\":[{\\\"DevicePlatforms\\\":[\\\"macOS\\\"]}]}},\\\"Controls\\\":[{\\\"Control\\\":[\\\"Mfa\\\"]}],\\\"PersistentBrowserSessionMode\\\":\\\"NotSet\\\",\\\"EnforceAllPoliciesForEas\\\":false,\\\"IncludeOtherLegacyClientTypeForEvaluation\\\":false}', 'PolicyLastUpdatedTime': '8/6/2020 2:16:15 AM', 'TenantDefaultPolicy': '', 'DisplayName': 'Megan MFA demo', 'PolicyIdentifierString': ''})\",\"Cmd(name='Set-ConditionalAccessPolicy', params={'Identity': 'seccxpninja.onmicrosoft.com\\\\\\\\2e76d011-eaa3-40b4-8ce8-7fba52bf3af8', 'PolicyDetails': '{\\\"Version\\\":0,\\\"State\\\":\\\"Reporting\\\",\\\"Conditions\\\":{\\\"Applications\\\":{\\\"Include\\\":[{\\\"Applications\\\":[\\\"f9e8b3d0-ba26-42cd-b544-c90a66191a81\\\"]}]},\\\"Users\\\":{\\\"Include\\\":[{\\\"Users\\\":[\\\"All\\\"]}]}},\\\"SessionControls\\\":[\\\"CloudAppSecurity\\\"],\\\"PersistentBrowserSessionMode\\\":\\\"NotSet\\\",\\\"EnforceAllPoliciesForEas\\\":false,\\\"IncludeOtherLegacyClientTypeForEvaluation\\\":false,\\\"CasSessionControlType\\\":1}', 'PolicyLastUpdatedTime': '8/6/2020 2:16:16 AM', 'TenantDefaultPolicy': '', 'DisplayName': 'On-Prem SharePoint - MeganB proxy', 'PolicyIdentifierString': ''})\"],[\"Cmd(name='Set-ConditionalAccessPolicy', params={'Identity': 'seccxpninja.onmicrosoft.com\\\\\\\\2e76d011-eaa3-40b4-8ce8-7fba52bf3af8', 'PolicyDetails': '{\\\"Version\\\":0,\\\"State\\\":\\\"Reporting\\\",\\\"Conditions\\\":{\\\"Applications\\\":{\\\"Include\\\":[{\\\"Applications\\\":[\\\"f9e8b3d0-ba26-42cd-b544-c90a66191a81\\\"]}]},\\\"Users\\\":{\\\"Include\\\":[{\\\"Users\\\":[\\\"All\\\"]}]}},\\\"SessionControls\\\":[\\\"CloudAppSecurity\\\"],\\\"PersistentBrowserSessionMode\\\":\\\"NotSet\\\",\\\"EnforceAllPoliciesForEas\\\":false,\\\"IncludeOtherLegacyClientTypeForEvaluation\\\":false,\\\"CasSessionControlType\\\":1}', 'PolicyLastUpdatedTime': '8/6/2020 5:18:56 AM', 'TenantDefaultPolicy': '', 'DisplayName': 'On-Prem SharePoint - MeganB proxy', 'PolicyIdentifierString': ''})\",\"Cmd(name='Set-ConditionalAccessPolicy', params={'Identity': 'seccxpninja.onmicrosoft.com\\\\\\\\235bec94-f744-48ac-8314-5675953d2def', 'PolicyDetails': '{\\\"Version\\\":0,\\\"State\\\":\\\"Disabled\\\",\\\"Conditions\\\":{\\\"Applications\\\":{\\\"Include\\\":[{\\\"Applications\\\":[\\\"All\\\"]}]},\\\"Users\\\":{\\\"Include\\\":[{\\\"Users\\\":[\\\"eababd92-9dc7-40e3-9359-6c106522db19\\\"]}]},\\\"DevicePlatforms\\\":{\\\"Include\\\":[{\\\"DevicePlatforms\\\":[\\\"All\\\"]}],\\\"Exclude\\\":[{\\\"DevicePlatforms\\\":[\\\"macOS\\\"]}]}},\\\"Controls\\\":[{\\\"Control\\\":[\\\"Mfa\\\"]}],\\\"PersistentBrowserSessionMode\\\":\\\"NotSet\\\",\\\"EnforceAllPoliciesForEas\\\":false,\\\"IncludeOtherLegacyClientTypeForEvaluation\\\":false}', 'PolicyLastUpdatedTime': '8/6/2020 5:18:55 AM', 'TenantDefaultPolicy': '', 'DisplayName': 'Megan MFA demo', 'PolicyIdentifierString': ''})\"],[\"Cmd(name='Set-ConditionalAccessPolicy', params={'Identity': 'seccxpninja.onmicrosoft.com\\\\\\\\5fd0c4ff-1cd7-4bf6-8607-294a04f58f12', 'PolicyDetails': '{\\\"Version\\\":0,\\\"State\\\":\\\"Disabled\\\",\\\"Conditions\\\":{\\\"Applications\\\":{\\\"Include\\\":[{\\\"Applications\\\":[\\\"All\\\"]}]},\\\"Users\\\":{\\\"Include\\\":[{\\\"Users\\\":[\\\"142512c7-f006-46ae-909c-14fa7bf6a887\\\"]}]}},\\\"Controls\\\":[{\\\"Control\\\":[\\\"Mfa\\\"]}],\\\"EnforceAllPoliciesForEas\\\":false,\\\"IncludeOtherLegacyClientTypeForEvaluation\\\":false}', 'PolicyLastUpdatedTime': '8/6/2020 2:16:16 AM', 'TenantDefaultPolicy': '', 'DisplayName': 'Azure MFA', 'PolicyIdentifierString': ''})\",\"Cmd(name='Set-ConditionalAccessPolicy', params={'Identity': 'seccxpninja.onmicrosoft.com\\\\\\\\5fd0c4ff-1cd7-4bf6-8607-294a04f58f12', 'PolicyDetails': '{\\\"Version\\\":0,\\\"State\\\":\\\"Disabled\\\",\\\"Conditions\\\":{\\\"Applications\\\":{\\\"Include\\\":[{\\\"Applications\\\":[\\\"All\\\"]}]},\\\"Users\\\":{\\\"Include\\\":[{\\\"Users\\\":[\\\"142512c7-f006-46ae-909c-14fa7bf6a887\\\"]}]}},\\\"Controls\\\":[{\\\"Control\\\":[\\\"Mfa\\\"]}],\\\"EnforceAllPoliciesForEas\\\":false,\\\"IncludeOtherLegacyClientTypeForEvaluation\\\":false}', 'PolicyLastUpdatedTime': '8/6/2020 2:16:16 AM', 'TenantDefaultPolicy': '', 'DisplayName': 'Azure MFA', 'PolicyIdentifierString': ''})\"],[\"Cmd(name='Set-ConditionalAccessPolicy', params={'Identity': 'seccxpninja.onmicrosoft.com\\\\\\\\83a057fb-dbca-4ba8-bb5f-0ce6d6e7cff5', 'PolicyDetails': '{\\\"Version\\\":0,\\\"State\\\":\\\"Enabled\\\",\\\"Conditions\\\":{\\\"Applications\\\":{\\\"Include\\\":[{\\\"Acrs\\\":[\\\"urn:microsoft:req1\\\"]}]},\\\"Users\\\":{\\\"Include\\\":[{\\\"Users\\\":[\\\"eababd92-9dc7-40e3-9359-6c106522db19\\\"]}]}},\\\"Controls\\\":[{\\\"Control\\\":[\\\"Mfa\\\"]}],\\\"PersistentBrowserSessionMode\\\":\\\"NotSet\\\",\\\"EnforceAllPoliciesForEas\\\":false,\\\"IncludeOtherLegacyClientTypeForEvaluation\\\":false}', 'PolicyLastUpdatedTime': '8/6/2020 2:16:15 AM', 'TenantDefaultPolicy': '', 'DisplayName': 'MeganB MCAS Step-up', 'PolicyIdentifierString': ''})\",\"Cmd(name='Set-ConditionalAccessPolicy', params={'Identity': 'seccxpninja.onmicrosoft.com\\\\\\\\3b13ea3c-c733-4eb8-bd19-67d308b2ea04', 'PolicyDetails': '{\\\"Version\\\":0,\\\"CreatedDateTime\\\":\\\"2020-05-19T13:34:15.2394934Z\\\",\\\"ModifiedDateTime\\\":\\\"2020-05-19T13:39:04.7333386Z\\\",\\\"State\\\":\\\"Reporting\\\",\\\"Conditions\\\":{\\\"Applications\\\":{\\\"Include\\\":[{\\\"Applications\\\":[\\\"None\\\"]}]},\\\"Users\\\":{\\\"Include\\\":[{\\\"Users\\\":[\\\"Guests\\\"]}]},\\\"DevicePlatforms\\\":{\\\"Include\\\":[{\\\"DevicePlatforms\\\":[\\\"All\\\"]}],\\\"Exclude\\\":[{\\\"DevicePlatforms\\\":[\\\"Android\\\",\\\"iOS\\\",\\\"macOS\\\"]}]},\\\"ClientTypes\\\":{\\\"Include\\\":[{\\\"ClientTypes\\\":[\\\"Browser\\\",\\\"Native\\\"]}]}},\\\"Controls\\\":[{\\\"Control\\\":[\\\"Mfa\\\",\\\"RequireCompliantDevice\\\"]}]}', 'PolicyLastUpdatedTime': '8/6/2020 2:16:17 AM', 'TenantDefaultPolicy': '', 'DisplayName': 'Yanivsh -CA Test', 'PolicyIdentifierString': ''})\"],[\"Cmd(name='Set-ConditionalAccessPolicy', params={'Identity': 'seccxpninja.onmicrosoft.com\\\\\\\\b2915792-0396-4abe-94ec-e17fa17243c5', 'PolicyDetails': '{\\\"Version\\\":0,\\\"State\\\":\\\"Enabled\\\",\\\"Conditions\\\":{\\\"Applications\\\":{\\\"Include\\\":[{\\\"Applications\\\":[\\\"94c63fef-13a3-47bc-8074-75af8c65887a\\\",\\\"c9a559d2-7aab-4f13-a6ed-e7e9c52aec87\\\"]}]},\\\"Users\\\":{\\\"Include\\\":[{\\\"Users\\\":[\\\"bdb72692-2275-412b-8af0-ea21c2ebd174\\\",\\\"eababd92-9dc7-40e3-9359-6c106522db19\\\"]}]},\\\"SignInRisks\\\":{\\\"Include\\\":[{\\\"SignInRisks\\\":[\\\"High\\\",\\\"Medium\\\",\\\"Low\\\"]}]}},\\\"SessionControls\\\":[\\\"CloudAppSecurity\\\"],\\\"PersistentBrowserSessionMode\\\":\\\"NotSet\\\",\\\"EnforceAllPoliciesForEas\\\":false,\\\"IncludeOtherLegacyClientTypeForEvaluation\\\":false,\\\"CasSessionControlType\\\":3}', 'PolicyLastUpdatedTime': '8/5/2020 5:15:30 AM', 'TenantDefaultPolicy': '', 'DisplayName': 'GBB demo', 'PolicyIdentifierString': ''})\",\"Cmd(name='Set-ConditionalAccessPolicy', params={'Identity': 'seccxpninja.onmicrosoft.com\\\\\\\\69c7a12f-b407-45a3-b07e-fa04fc7f273d', 'PolicyDetails': '{\\\"Version\\\":0,\\\"State\\\":\\\"Enabled\\\",\\\"Conditions\\\":{\\\"Applications\\\":{\\\"Include\\\":[{\\\"Applications\\\":[\\\"00000003-0000-0ff1-ce00-000000000000\\\"]}]},\\\"Users\\\":{\\\"Include\\\":[{\\\"Users\\\":[\\\"All\\\"]}]}},\\\"SessionControls\\\":[\\\"CloudAppSecurity\\\"],\\\"PersistentBrowserSessionMode\\\":\\\"NotSet\\\",\\\"EnforceAllPoliciesForEas\\\":false,\\\"IncludeOtherLegacyClientTypeForEvaluation\\\":false,\\\"CasSessionControlType\\\":1}', 'PolicyLastUpdatedTime': '8/5/2020 5:15:32 AM', 'TenantDefaultPolicy': '', 'DisplayName': 'Test Policy', 'PolicyIdentifierString': ''})\"],[\"Cmd(name='Set-ConditionalAccessPolicy', params={'Identity': 'seccxpninja.onmicrosoft.com\\\\\\\\5fd0c4ff-1cd7-4bf6-8607-294a04f58f12', 'PolicyDetails': '{\\\"Version\\\":0,\\\"State\\\":\\\"Disabled\\\",\\\"Conditions\\\":{\\\"Applications\\\":{\\\"Include\\\":[{\\\"Applications\\\":[\\\"All\\\"]}]},\\\"Users\\\":{\\\"Include\\\":[{\\\"Users\\\":[\\\"142512c7-f006-46ae-909c-14fa7bf6a887\\\"]}]}},\\\"Controls\\\":[{\\\"Control\\\":[\\\"Mfa\\\"]}],\\\"EnforceAllPoliciesForEas\\\":false,\\\"IncludeOtherLegacyClientTypeForEvaluation\\\":false}', 'PolicyLastUpdatedTime': '8/6/2020 2:16:16 AM', 'TenantDefaultPolicy': '', 'DisplayName': 'Azure MFA', 'PolicyIdentifierString': ''})\",\"Cmd(name='Set-ConditionalAccessPolicy', params={'Identity': 'seccxpninja.onmicrosoft.com\\\\\\\\5fd0c4ff-1cd7-4bf6-8607-294a04f58f12', 'PolicyDetails': '{\\\"Version\\\":0,\\\"State\\\":\\\"Disabled\\\",\\\"Conditions\\\":{\\\"Applications\\\":{\\\"Include\\\":[{\\\"Applications\\\":[\\\"All\\\"]}]},\\\"Users\\\":{\\\"Include\\\":[{\\\"Users\\\":[\\\"142512c7-f006-46ae-909c-14fa7bf6a887\\\"]}]}},\\\"Controls\\\":[{\\\"Control\\\":[\\\"Mfa\\\"]}],\\\"EnforceAllPoliciesForEas\\\":false,\\\"IncludeOtherLegacyClientTypeForEvaluation\\\":false}', 'PolicyLastUpdatedTime': '8/6/2020 2:16:16 AM', 'TenantDefaultPolicy': '', 'DisplayName': 'Azure MFA', 'PolicyIdentifierString': ''})\"],[\"Cmd(name='Set-ConditionalAccessPolicy', params={'Identity': 'seccxpninja.onmicrosoft.com\\\\\\\\3b13ea3c-c733-4eb8-bd19-67d308b2ea04', 'PolicyDetails': '{\\\"Version\\\":0,\\\"CreatedDateTime\\\":\\\"2020-05-19T13:34:15.2394934Z\\\",\\\"ModifiedDateTime\\\":\\\"2020-05-19T13:39:04.7333386Z\\\",\\\"State\\\":\\\"Reporting\\\",\\\"Conditions\\\":{\\\"Applications\\\":{\\\"Include\\\":[{\\\"Applications\\\":[\\\"None\\\"]}]},\\\"Users\\\":{\\\"Include\\\":[{\\\"Users\\\":[\\\"Guests\\\"]}]},\\\"DevicePlatforms\\\":{\\\"Include\\\":[{\\\"DevicePlatforms\\\":[\\\"All\\\"]}],\\\"Exclude\\\":[{\\\"DevicePlatforms\\\":[\\\"Android\\\",\\\"iOS\\\",\\\"macOS\\\"]}]},\\\"ClientTypes\\\":{\\\"Include\\\":[{\\\"ClientTypes\\\":[\\\"Browser\\\",\\\"Native\\\"]}]}},\\\"Controls\\\":[{\\\"Control\\\":[\\\"Mfa\\\",\\\"RequireCompliantDevice\\\"]}]}', 'PolicyLastUpdatedTime': '8/6/2020 2:16:17 AM', 'TenantDefaultPolicy': '', 'DisplayName': 'Yanivsh -CA Test', 'PolicyIdentifierString': ''})\",\"Cmd(name='Set-ConditionalAccessPolicy', params={'Identity': 'seccxpninja.onmicrosoft.com\\\\\\\\69c7a12f-b407-45a3-b07e-fa04fc7f273d', 'PolicyDetails': '{\\\"Version\\\":0,\\\"State\\\":\\\"Enabled\\\",\\\"Conditions\\\":{\\\"Applications\\\":{\\\"Include\\\":[{\\\"Applications\\\":[\\\"00000003-0000-0ff1-ce00-000000000000\\\"]}]},\\\"Users\\\":{\\\"Include\\\":[{\\\"Users\\\":[\\\"All\\\"]}]}},\\\"SessionControls\\\":[\\\"CloudAppSecurity\\\"],\\\"PersistentBrowserSessionMode\\\":\\\"NotSet\\\",\\\"EnforceAllPoliciesForEas\\\":false,\\\"IncludeOtherLegacyClientTypeForEvaluation\\\":false,\\\"CasSessionControlType\\\":1}', 'PolicyLastUpdatedTime': '8/6/2020 2:16:17 AM', 'TenantDefaultPolicy': '', 'DisplayName': 'Test Policy', 'PolicyIdentifierString': ''})\"],[\"Cmd(name='Set-ConditionalAccessPolicy', params={'Identity': 'seccxpninja.onmicrosoft.com\\\\\\\\ba36f0a4-6d73-4ba4-9282-3b3c14575e36', 'PolicyDetails': '{\\\"Version\\\":0,\\\"ModifiedDateTime\\\":\\\"2020-05-19T13:31:41.7083504Z\\\",\\\"State\\\":\\\"Disabled\\\",\\\"Conditions\\\":{\\\"Applications\\\":{\\\"Include\\\":[{\\\"Applications\\\":[\\\"00000002-0000-0ff1-ce00-000000000000\\\",\\\"00000003-0000-0ff1-ce00-000000000000\\\"]}]},\\\"Users\\\":{\\\"Include\\\":[{\\\"Users\\\":[\\\"2935e535-8fdf-4217-865b-e084cb7214f1\\\"]}]},\\\"DevicePlatforms\\\":{\\\"Include\\\":[{\\\"DevicePlatforms\\\":[\\\"All\\\"]}],\\\"Exclude\\\":[{\\\"DevicePlatforms\\\":[\\\"Android\\\",\\\"iOS\\\",\\\"macOS\\\"]}]},\\\"ClientTypes\\\":{\\\"Include\\\":[{\\\"ClientTypes\\\":[\\\"Browser\\\",\\\"Native\\\"]}]}},\\\"SessionControls\\\":[\\\"CloudAppSecurity\\\"],\\\"CasSessionControlType\\\":1}', 'PolicyLastUpdatedTime': '8/7/2020 3:03:46 AM', 'TenantDefaultPolicy': '', 'DisplayName': 'Block Access JulianI', 'PolicyIdentifierString': ''})\",\"Cmd(name='Set-ConditionalAccessPolicy', params={'Identity': 'seccxpninja.onmicrosoft.com\\\\\\\\69c7a12f-b407-45a3-b07e-fa04fc7f273d', 'PolicyDetails': '{\\\"Version\\\":0,\\\"State\\\":\\\"Enabled\\\",\\\"Conditions\\\":{\\\"Applications\\\":{\\\"Include\\\":[{\\\"Applications\\\":[\\\"00000003-0000-0ff1-ce00-000000000000\\\"]}]},\\\"Users\\\":{\\\"Include\\\":[{\\\"Users\\\":[\\\"All\\\"]}]}},\\\"SessionControls\\\":[\\\"CloudAppSecurity\\\"],\\\"PersistentBrowserSessionMode\\\":\\\"NotSet\\\",\\\"EnforceAllPoliciesForEas\\\":false,\\\"IncludeOtherLegacyClientTypeForEvaluation\\\":false,\\\"CasSessionControlType\\\":1}', 'PolicyLastUpdatedTime': '8/7/2020 3:03:46 AM', 'TenantDefaultPolicy': '', 'DisplayName': 'Test Policy', 'PolicyIdentifierString': ''})\"],[\"Cmd(name='Set-ConditionalAccessPolicy', params={'Identity': 'seccxpninja.onmicrosoft.com\\\\\\\\2e76d011-eaa3-40b4-8ce8-7fba52bf3af8', 'PolicyDetails': '{\\\"Version\\\":0,\\\"State\\\":\\\"Reporting\\\",\\\"Conditions\\\":{\\\"Applications\\\":{\\\"Include\\\":[{\\\"Applications\\\":[\\\"f9e8b3d0-ba26-42cd-b544-c90a66191a81\\\"]}]},\\\"Users\\\":{\\\"Include\\\":[{\\\"Users\\\":[\\\"All\\\"]}]}},\\\"SessionControls\\\":[\\\"CloudAppSecurity\\\"],\\\"PersistentBrowserSessionMode\\\":\\\"NotSet\\\",\\\"EnforceAllPoliciesForEas\\\":false,\\\"IncludeOtherLegacyClientTypeForEvaluation\\\":false,\\\"CasSessionControlType\\\":1}', 'PolicyLastUpdatedTime': '8/7/2020 3:03:45 AM', 'TenantDefaultPolicy': '', 'DisplayName': 'On-Prem SharePoint - MeganB proxy', 'PolicyIdentifierString': ''})\",\"Cmd(name='Set-ConditionalAccessPolicy', params={'Identity': 'seccxpninja.onmicrosoft.com\\\\\\\\235bec94-f744-48ac-8314-5675953d2def', 'PolicyDetails': '{\\\"Version\\\":0,\\\"State\\\":\\\"Disabled\\\",\\\"Conditions\\\":{\\\"Applications\\\":{\\\"Include\\\":[{\\\"Applications\\\":[\\\"All\\\"]}]},\\\"Users\\\":{\\\"Include\\\":[{\\\"Users\\\":[\\\"eababd92-9dc7-40e3-9359-6c106522db19\\\"]}]},\\\"DevicePlatforms\\\":{\\\"Include\\\":[{\\\"DevicePlatforms\\\":[\\\"All\\\"]}],\\\"Exclude\\\":[{\\\"DevicePlatforms\\\":[\\\"macOS\\\"]}]}},\\\"Controls\\\":[{\\\"Control\\\":[\\\"Mfa\\\"]}],\\\"PersistentBrowserSessionMode\\\":\\\"NotSet\\\",\\\"EnforceAllPoliciesForEas\\\":false,\\\"IncludeOtherLegacyClientTypeForEvaluation\\\":false}', 'PolicyLastUpdatedTime': '8/7/2020 3:03:43 AM', 'TenantDefaultPolicy': '', 'DisplayName': 'Megan MFA demo', 'PolicyIdentifierString': ''})\"],[\"Cmd(name='Set-ConditionalAccessPolicy', params={'Identity': 'seccxpninja.onmicrosoft.com\\\\\\\\5fd0c4ff-1cd7-4bf6-8607-294a04f58f12', 'PolicyDetails': '{\\\"Version\\\":0,\\\"State\\\":\\\"Disabled\\\",\\\"Conditions\\\":{\\\"Applications\\\":{\\\"Include\\\":[{\\\"Applications\\\":[\\\"All\\\"]}]},\\\"Users\\\":{\\\"Include\\\":[{\\\"Users\\\":[\\\"142512c7-f006-46ae-909c-14fa7bf6a887\\\"]}]}},\\\"Controls\\\":[{\\\"Control\\\":[\\\"Mfa\\\"]}],\\\"EnforceAllPoliciesForEas\\\":false,\\\"IncludeOtherLegacyClientTypeForEvaluation\\\":false}', 'PolicyLastUpdatedTime': '8/7/2020 5:32:24 AM', 'TenantDefaultPolicy': '', 'DisplayName': 'Azure MFA', 'PolicyIdentifierString': ''})\",\"Cmd(name='Set-ConditionalAccessPolicy', params={'Identity': 'seccxpninja.onmicrosoft.com\\\\\\\\b2915792-0396-4abe-94ec-e17fa17243c5', 'PolicyDetails': '{\\\"Version\\\":0,\\\"State\\\":\\\"Enabled\\\",\\\"Conditions\\\":{\\\"Applications\\\":{\\\"Include\\\":[{\\\"Applications\\\":[\\\"94c63fef-13a3-47bc-8074-75af8c65887a\\\",\\\"c9a559d2-7aab-4f13-a6ed-e7e9c52aec87\\\"]}]},\\\"Users\\\":{\\\"Include\\\":[{\\\"Users\\\":[\\\"bdb72692-2275-412b-8af0-ea21c2ebd174\\\",\\\"eababd92-9dc7-40e3-9359-6c106522db19\\\"]}]},\\\"SignInRisks\\\":{\\\"Include\\\":[{\\\"SignInRisks\\\":[\\\"High\\\",\\\"Medium\\\",\\\"Low\\\"]}]}},\\\"SessionControls\\\":[\\\"CloudAppSecurity\\\"],\\\"PersistentBrowserSessionMode\\\":\\\"NotSet\\\",\\\"EnforceAllPoliciesForEas\\\":false,\\\"IncludeOtherLegacyClientTypeForEvaluation\\\":false,\\\"CasSessionControlType\\\":3}', 'PolicyLastUpdatedTime': '8/7/2020 5:32:24 AM', 'TenantDefaultPolicy': '', 'DisplayName': 'GBB demo', 'PolicyIdentifierString': ''})\"],[\"Cmd(name='Set-ConditionalAccessPolicy', params={'Identity': 'seccxpninja.onmicrosoft.com\\\\\\\\6490d00c-7ba1-42cf-aa88-99eb71d53bf7', 'PolicyDetails': '{\\\"Version\\\":0,\\\"LastUpdatedTimestamp\\\":\\\"2020-07-02T12:42:35.1866847Z\\\",\\\"State\\\":\\\"Disabled\\\",\\\"SignInFrequency\\\":\\\"NotSet\\\",\\\"PersistentBrowserSessionMode\\\":\\\"NotSet\\\"}', 'PolicyLastUpdatedTime': '8/8/2020 2:05:37 AM', 'TenantDefaultPolicy': '18', 'DisplayName': 'Default Policy', 'PolicyIdentifierString': '5/19/2020 1:39:05 PM'})\",\"Cmd(name='Set-ConditionalAccessPolicy', params={'Identity': 'seccxpninja.onmicrosoft.com\\\\\\\\6490d00c-7ba1-42cf-aa88-99eb71d53bf7', 'PolicyDetails': '{\\\"Version\\\":0,\\\"LastUpdatedTimestamp\\\":\\\"2020-07-02T12:42:35.1866847Z\\\",\\\"State\\\":\\\"Disabled\\\",\\\"SignInFrequency\\\":\\\"NotSet\\\",\\\"PersistentBrowserSessionMode\\\":\\\"NotSet\\\"}', 'PolicyLastUpdatedTime': '8/8/2020 2:05:37 AM', 'TenantDefaultPolicy': '18', 'DisplayName': 'Default Policy', 'PolicyIdentifierString': '5/19/2020 1:39:05 PM'})\"],[\"Cmd(name='Set-ConditionalAccessPolicy', params={'Identity': 'seccxpninja.onmicrosoft.com\\\\\\\\5fd0c4ff-1cd7-4bf6-8607-294a04f58f12', 'PolicyDetails': '{\\\"Version\\\":0,\\\"State\\\":\\\"Disabled\\\",\\\"Conditions\\\":{\\\"Applications\\\":{\\\"Include\\\":[{\\\"Applications\\\":[\\\"All\\\"]}]},\\\"Users\\\":{\\\"Include\\\":[{\\\"Users\\\":[\\\"142512c7-f006-46ae-909c-14fa7bf6a887\\\"]}]}},\\\"Controls\\\":[{\\\"Control\\\":[\\\"Mfa\\\"]}],\\\"EnforceAllPoliciesForEas\\\":false,\\\"IncludeOtherLegacyClientTypeForEvaluation\\\":false}', 'PolicyLastUpdatedTime': '8/8/2020 5:07:46 AM', 'TenantDefaultPolicy': '', 'DisplayName': 'Azure MFA', 'PolicyIdentifierString': ''})\",\"Cmd(name='Set-ConditionalAccessPolicy', params={'Identity': 'seccxpninja.onmicrosoft.com\\\\\\\\8837fdaa-aaeb-4432-9622-43f6f583d583', 'PolicyDetails': '{\\\"KnownNetworkPolicies\\\":{\\\"NetworkName\\\":\\\"BE-Office\\\",\\\"NetworkId\\\":\\\"b98b9088-ce88-4fae-80fb-5b58cb1ce685\\\",\\\"CidrIpRanges\\\":[\\\"109.88.218.99/28\\\"],\\\"CountryIsoCodes\\\":null,\\\"Categories\\\":[],\\\"ApplyToUnknownCountry\\\":false}}', 'PolicyLastUpdatedTime': '8/8/2020 5:07:46 AM', 'TenantDefaultPolicy': '6', 'DisplayName': 'Known Networks List', 'PolicyIdentifierString': '3/19/2020 7:45:08 PM'})\"],[\"Cmd(name='Set-ConditionalAccessPolicy', params={'Identity': 'seccxpninja.onmicrosoft.com\\\\\\\\e183bd29-a3a3-4f91-a5a3-b83b21a544df', 'PolicyDetails': '{\\\"Version\\\":0,\\\"State\\\":\\\"Enabled\\\",\\\"Conditions\\\":{\\\"Applications\\\":{\\\"Include\\\":[{\\\"Applications\\\":[\\\"00000002-0000-0ff1-ce00-000000000000\\\"]}]},\\\"Users\\\":{\\\"Include\\\":[{\\\"Users\\\":[\\\"2935e535-8fdf-4217-865b-e084cb7214f1\\\"]}]}},\\\"SessionControls\\\":[\\\"AppEnforcedRestrictions\\\"],\\\"PersistentBrowserSessionMode\\\":\\\"NotSet\\\",\\\"EnforceAllPoliciesForEas\\\":false,\\\"IncludeOtherLegacyClientTypeForEvaluation\\\":false}', 'PolicyLastUpdatedTime': '8/6/2020 5:18:57 AM', 'TenantDefaultPolicy': '', 'DisplayName': 'JulianI Exchange native controls', 'PolicyIdentifierString': ''})\",\"Cmd(name='Set-ConditionalAccessPolicy', params={'Identity': 'seccxpninja.onmicrosoft.com\\\\\\\\6490d00c-7ba1-42cf-aa88-99eb71d53bf7', 'PolicyDetails': '{\\\"Version\\\":0,\\\"LastUpdatedTimestamp\\\":\\\"2020-07-02T12:42:35.1866847Z\\\",\\\"State\\\":\\\"Disabled\\\",\\\"SignInFrequency\\\":\\\"NotSet\\\",\\\"PersistentBrowserSessionMode\\\":\\\"NotSet\\\"}', 'PolicyLastUpdatedTime': '8/6/2020 5:18:56 AM', 'TenantDefaultPolicy': '18', 'DisplayName': 'Default Policy', 'PolicyIdentifierString': '5/19/2020 1:39:05 PM'})\"],[\"Cmd(name='Set-ConditionalAccessPolicy', params={'Identity': 'seccxpninja.onmicrosoft.com\\\\\\\\69c7a12f-b407-45a3-b07e-fa04fc7f273d', 'PolicyDetails': '{\\\"Version\\\":0,\\\"State\\\":\\\"Enabled\\\",\\\"Conditions\\\":{\\\"Applications\\\":{\\\"Include\\\":[{\\\"Applications\\\":[\\\"00000003-0000-0ff1-ce00-000000000000\\\"]}]},\\\"Users\\\":{\\\"Include\\\":[{\\\"Users\\\":[\\\"All\\\"]}]}},\\\"SessionControls\\\":[\\\"CloudAppSecurity\\\"],\\\"PersistentBrowserSessionMode\\\":\\\"NotSet\\\",\\\"EnforceAllPoliciesForEas\\\":false,\\\"IncludeOtherLegacyClientTypeForEvaluation\\\":false,\\\"CasSessionControlType\\\":1}', 'PolicyLastUpdatedTime': '8/9/2020 1:49:56 AM', 'TenantDefaultPolicy': '', 'DisplayName': 'Test Policy', 'PolicyIdentifierString': ''})\",\"Cmd(name='Set-ConditionalAccessPolicy', params={'Identity': 'seccxpninja.onmicrosoft.com\\\\\\\\8837fdaa-aaeb-4432-9622-43f6f583d583', 'PolicyDetails': '{\\\"KnownNetworkPolicies\\\":{\\\"NetworkName\\\":\\\"BE-Office\\\",\\\"NetworkId\\\":\\\"b98b9088-ce88-4fae-80fb-5b58cb1ce685\\\",\\\"CidrIpRanges\\\":[\\\"109.88.218.99/28\\\"],\\\"CountryIsoCodes\\\":null,\\\"Categories\\\":[],\\\"ApplyToUnknownCountry\\\":false}}', 'PolicyLastUpdatedTime': '8/9/2020 1:49:56 AM', 'TenantDefaultPolicy': '6', 'DisplayName': 'Known Networks List', 'PolicyIdentifierString': '3/19/2020 7:45:08 PM'})\"],[\"Cmd(name='Set-ConditionalAccessPolicy', params={'Identity': 'seccxpninja.onmicrosoft.com\\\\\\\\8872f6fb-da88-4b63-bcc7-17247669596b', 'PolicyDetails': '{\\\"Version\\\":0,\\\"State\\\":\\\"Enabled\\\",\\\"Conditions\\\":{\\\"Applications\\\":{\\\"Include\\\":[{\\\"Applications\\\":[\\\"00000002-0000-0ff1-ce00-000000000000\\\",\\\"09abbdfd-ed23-44ee-a2d9-a627aa1c90f3\\\",\\\"cc15fd57-2c6c-4117-a88c-83b1d56b4bbe\\\",\\\"00000003-0000-0ff1-ce00-000000000000\\\",\\\"00000005-0000-0ff1-ce00-000000000000\\\"]}]},\\\"Users\\\":{\\\"Include\\\":[{\\\"Users\\\":[\\\"eababd92-9dc7-40e3-9359-6c106522db19\\\"]}]}},\\\"SessionControls\\\":[\\\"CloudAppSecurity\\\"],\\\"PersistentBrowserSessionMode\\\":\\\"NotSet\\\",\\\"EnforceAllPoliciesForEas\\\":false,\\\"IncludeOtherLegacyClientTypeForEvaluation\\\":false,\\\"CasSessionControlType\\\":1}', 'PolicyLastUpdatedTime': '8/9/2020 5:08:00 AM', 'TenantDefaultPolicy': '', 'DisplayName': 'MeganB MCAS Proxy', 'PolicyIdentifierString': ''})\",\"Cmd(name='Set-ConditionalAccessPolicy', params={'Identity': 'seccxpninja.onmicrosoft.com\\\\\\\\8837fdaa-aaeb-4432-9622-43f6f583d583', 'PolicyDetails': '{\\\"KnownNetworkPolicies\\\":{\\\"NetworkName\\\":\\\"BE-Office\\\",\\\"NetworkId\\\":\\\"b98b9088-ce88-4fae-80fb-5b58cb1ce685\\\",\\\"CidrIpRanges\\\":[\\\"109.88.218.99/28\\\"],\\\"CountryIsoCodes\\\":null,\\\"Categories\\\":[],\\\"ApplyToUnknownCountry\\\":false}}', 'PolicyLastUpdatedTime': '8/9/2020 5:08:04 AM', 'TenantDefaultPolicy': '6', 'DisplayName': 'Known Networks List', 'PolicyIdentifierString': '3/19/2020 7:45:08 PM'})\"],[\"Cmd(name='Set-ConditionalAccessPolicy', params={'Identity': 'seccxpninja.onmicrosoft.com\\\\\\\\8872f6fb-da88-4b63-bcc7-17247669596b', 'PolicyDetails': '{\\\"Version\\\":0,\\\"State\\\":\\\"Enabled\\\",\\\"Conditions\\\":{\\\"Applications\\\":{\\\"Include\\\":[{\\\"Applications\\\":[\\\"00000002-0000-0ff1-ce00-000000000000\\\",\\\"09abbdfd-ed23-44ee-a2d9-a627aa1c90f3\\\",\\\"cc15fd57-2c6c-4117-a88c-83b1d56b4bbe\\\",\\\"00000003-0000-0ff1-ce00-000000000000\\\",\\\"00000005-0000-0ff1-ce00-000000000000\\\"]}]},\\\"Users\\\":{\\\"Include\\\":[{\\\"Users\\\":[\\\"eababd92-9dc7-40e3-9359-6c106522db19\\\"]}]}},\\\"SessionControls\\\":[\\\"CloudAppSecurity\\\"],\\\"PersistentBrowserSessionMode\\\":\\\"NotSet\\\",\\\"EnforceAllPoliciesForEas\\\":false,\\\"IncludeOtherLegacyClientTypeForEvaluation\\\":false,\\\"CasSessionControlType\\\":1}', 'PolicyLastUpdatedTime': '8/10/2020 2:30:02 AM', 'TenantDefaultPolicy': '', 'DisplayName': 'MeganB MCAS Proxy', 'PolicyIdentifierString': ''})\",\"Cmd(name='Set-ConditionalAccessPolicy', params={'Identity': 'seccxpninja.onmicrosoft.com\\\\\\\\b2915792-0396-4abe-94ec-e17fa17243c5', 'PolicyDetails': '{\\\"Version\\\":0,\\\"State\\\":\\\"Enabled\\\",\\\"Conditions\\\":{\\\"Applications\\\":{\\\"Include\\\":[{\\\"Applications\\\":[\\\"94c63fef-13a3-47bc-8074-75af8c65887a\\\",\\\"c9a559d2-7aab-4f13-a6ed-e7e9c52aec87\\\"]}]},\\\"Users\\\":{\\\"Include\\\":[{\\\"Users\\\":[\\\"bdb72692-2275-412b-8af0-ea21c2ebd174\\\",\\\"eababd92-9dc7-40e3-9359-6c106522db19\\\"]}]},\\\"SignInRisks\\\":{\\\"Include\\\":[{\\\"SignInRisks\\\":[\\\"High\\\",\\\"Medium\\\",\\\"Low\\\"]}]}},\\\"SessionControls\\\":[\\\"CloudAppSecurity\\\"],\\\"PersistentBrowserSessionMode\\\":\\\"NotSet\\\",\\\"EnforceAllPoliciesForEas\\\":false,\\\"IncludeOtherLegacyClientTypeForEvaluation\\\":false,\\\"CasSessionControlType\\\":3}', 'PolicyLastUpdatedTime': '8/10/2020 2:30:04 AM', 'TenantDefaultPolicy': '', 'DisplayName': 'GBB demo', 'PolicyIdentifierString': ''})\"],[\"Cmd(name='Set-ConditionalAccessPolicy', params={'Identity': 'seccxpninja.onmicrosoft.com\\\\\\\\8872f6fb-da88-4b63-bcc7-17247669596b', 'PolicyDetails': '{\\\"Version\\\":0,\\\"State\\\":\\\"Enabled\\\",\\\"Conditions\\\":{\\\"Applications\\\":{\\\"Include\\\":[{\\\"Applications\\\":[\\\"00000002-0000-0ff1-ce00-000000000000\\\",\\\"09abbdfd-ed23-44ee-a2d9-a627aa1c90f3\\\",\\\"cc15fd57-2c6c-4117-a88c-83b1d56b4bbe\\\",\\\"00000003-0000-0ff1-ce00-000000000000\\\",\\\"00000005-0000-0ff1-ce00-000000000000\\\"]}]},\\\"Users\\\":{\\\"Include\\\":[{\\\"Users\\\":[\\\"eababd92-9dc7-40e3-9359-6c106522db19\\\"]}]}},\\\"SessionControls\\\":[\\\"CloudAppSecurity\\\"],\\\"PersistentBrowserSessionMode\\\":\\\"NotSet\\\",\\\"EnforceAllPoliciesForEas\\\":false,\\\"IncludeOtherLegacyClientTypeForEvaluation\\\":false,\\\"CasSessionControlType\\\":1}', 'PolicyLastUpdatedTime': '8/10/2020 5:20:06 AM', 'TenantDefaultPolicy': '', 'DisplayName': 'MeganB MCAS Proxy', 'PolicyIdentifierString': ''})\",\"Cmd(name='Set-ConditionalAccessPolicy', params={'Identity': 'seccxpninja.onmicrosoft.com\\\\\\\\8872f6fb-da88-4b63-bcc7-17247669596b', 'PolicyDetails': '{\\\"Version\\\":0,\\\"State\\\":\\\"Enabled\\\",\\\"Conditions\\\":{\\\"Applications\\\":{\\\"Include\\\":[{\\\"Applications\\\":[\\\"00000002-0000-0ff1-ce00-000000000000\\\",\\\"09abbdfd-ed23-44ee-a2d9-a627aa1c90f3\\\",\\\"cc15fd57-2c6c-4117-a88c-83b1d56b4bbe\\\",\\\"00000003-0000-0ff1-ce00-000000000000\\\",\\\"00000005-0000-0ff1-ce00-000000000000\\\"]}]},\\\"Users\\\":{\\\"Include\\\":[{\\\"Users\\\":[\\\"eababd92-9dc7-40e3-9359-6c106522db19\\\"]}]}},\\\"SessionControls\\\":[\\\"CloudAppSecurity\\\"],\\\"PersistentBrowserSessionMode\\\":\\\"NotSet\\\",\\\"EnforceAllPoliciesForEas\\\":false,\\\"IncludeOtherLegacyClientTypeForEvaluation\\\":false,\\\"CasSessionControlType\\\":1}', 'PolicyLastUpdatedTime': '8/10/2020 5:20:06 AM', 'TenantDefaultPolicy': '', 'DisplayName': 'MeganB MCAS Proxy', 'PolicyIdentifierString': ''})\"],[\"Cmd(name='Set-ConditionalAccessPolicy', params={'Identity': 'seccxpninja.onmicrosoft.com\\\\\\\\235bec94-f744-48ac-8314-5675953d2def', 'PolicyDetails': '{\\\"Version\\\":0,\\\"State\\\":\\\"Disabled\\\",\\\"Conditions\\\":{\\\"Applications\\\":{\\\"Include\\\":[{\\\"Applications\\\":[\\\"All\\\"]}]},\\\"Users\\\":{\\\"Include\\\":[{\\\"Users\\\":[\\\"eababd92-9dc7-40e3-9359-6c106522db19\\\"]}]},\\\"DevicePlatforms\\\":{\\\"Include\\\":[{\\\"DevicePlatforms\\\":[\\\"All\\\"]}],\\\"Exclude\\\":[{\\\"DevicePlatforms\\\":[\\\"macOS\\\"]}]}},\\\"Controls\\\":[{\\\"Control\\\":[\\\"Mfa\\\"]}],\\\"PersistentBrowserSessionMode\\\":\\\"NotSet\\\",\\\"EnforceAllPoliciesForEas\\\":false,\\\"IncludeOtherLegacyClientTypeForEvaluation\\\":false}', 'PolicyLastUpdatedTime': '8/10/2020 5:20:06 AM', 'TenantDefaultPolicy': '', 'DisplayName': 'Megan MFA demo', 'PolicyIdentifierString': ''})\",\"Cmd(name='Set-ConditionalAccessPolicy', params={'Identity': 'seccxpninja.onmicrosoft.com\\\\\\\\3b13ea3c-c733-4eb8-bd19-67d308b2ea04', 'PolicyDetails': '{\\\"Version\\\":0,\\\"CreatedDateTime\\\":\\\"2020-05-19T13:34:15.2394934Z\\\",\\\"ModifiedDateTime\\\":\\\"2020-05-19T13:39:04.7333386Z\\\",\\\"State\\\":\\\"Reporting\\\",\\\"Conditions\\\":{\\\"Applications\\\":{\\\"Include\\\":[{\\\"Applications\\\":[\\\"None\\\"]}]},\\\"Users\\\":{\\\"Include\\\":[{\\\"Users\\\":[\\\"Guests\\\"]}]},\\\"DevicePlatforms\\\":{\\\"Include\\\":[{\\\"DevicePlatforms\\\":[\\\"All\\\"]}],\\\"Exclude\\\":[{\\\"DevicePlatforms\\\":[\\\"Android\\\",\\\"iOS\\\",\\\"macOS\\\"]}]},\\\"ClientTypes\\\":{\\\"Include\\\":[{\\\"ClientTypes\\\":[\\\"Browser\\\",\\\"Native\\\"]}]}},\\\"Controls\\\":[{\\\"Control\\\":[\\\"Mfa\\\",\\\"RequireCompliantDevice\\\"]}]}', 'PolicyLastUpdatedTime': '8/10/2020 5:20:08 AM', 'TenantDefaultPolicy': '', 'DisplayName': 'Yanivsh -CA Test', 'PolicyIdentifierString': ''})\"],[\"Cmd(name='Set-ConditionalAccessPolicy', params={'Identity': 'seccxpninja.onmicrosoft.com\\\\\\\\8872f6fb-da88-4b63-bcc7-17247669596b', 'PolicyDetails': '{\\\"Version\\\":0,\\\"State\\\":\\\"Enabled\\\",\\\"Conditions\\\":{\\\"Applications\\\":{\\\"Include\\\":[{\\\"Applications\\\":[\\\"00000002-0000-0ff1-ce00-000000000000\\\",\\\"09abbdfd-ed23-44ee-a2d9-a627aa1c90f3\\\",\\\"cc15fd57-2c6c-4117-a88c-83b1d56b4bbe\\\",\\\"00000003-0000-0ff1-ce00-000000000000\\\",\\\"00000005-0000-0ff1-ce00-000000000000\\\"]}]},\\\"Users\\\":{\\\"Include\\\":[{\\\"Users\\\":[\\\"eababd92-9dc7-40e3-9359-6c106522db19\\\"]}]}},\\\"SessionControls\\\":[\\\"CloudAppSecurity\\\"],\\\"PersistentBrowserSessionMode\\\":\\\"NotSet\\\",\\\"EnforceAllPoliciesForEas\\\":false,\\\"IncludeOtherLegacyClientTypeForEvaluation\\\":false,\\\"CasSessionControlType\\\":1}', 'PolicyLastUpdatedTime': '8/11/2020 2:42:39 AM', 'TenantDefaultPolicy': '', 'DisplayName': 'MeganB MCAS Proxy', 'PolicyIdentifierString': ''})\",\"Cmd(name='Set-ConditionalAccessPolicy', params={'Identity': 'seccxpninja.onmicrosoft.com\\\\\\\\3b13ea3c-c733-4eb8-bd19-67d308b2ea04', 'PolicyDetails': '{\\\"Version\\\":0,\\\"CreatedDateTime\\\":\\\"2020-05-19T13:34:15.2394934Z\\\",\\\"ModifiedDateTime\\\":\\\"2020-05-19T13:39:04.7333386Z\\\",\\\"State\\\":\\\"Reporting\\\",\\\"Conditions\\\":{\\\"Applications\\\":{\\\"Include\\\":[{\\\"Applications\\\":[\\\"None\\\"]}]},\\\"Users\\\":{\\\"Include\\\":[{\\\"Users\\\":[\\\"Guests\\\"]}]},\\\"DevicePlatforms\\\":{\\\"Include\\\":[{\\\"DevicePlatforms\\\":[\\\"All\\\"]}],\\\"Exclude\\\":[{\\\"DevicePlatforms\\\":[\\\"Android\\\",\\\"iOS\\\",\\\"macOS\\\"]}]},\\\"ClientTypes\\\":{\\\"Include\\\":[{\\\"ClientTypes\\\":[\\\"Browser\\\",\\\"Native\\\"]}]}},\\\"Controls\\\":[{\\\"Control\\\":[\\\"Mfa\\\",\\\"RequireCompliantDevice\\\"]}]}', 'PolicyLastUpdatedTime': '8/11/2020 2:42:41 AM', 'TenantDefaultPolicy': '', 'DisplayName': 'Yanivsh -CA Test', 'PolicyIdentifierString': ''})\"],[\"Cmd(name='Set-ConditionalAccessPolicy', params={'Identity': 'seccxpninja.onmicrosoft.com\\\\\\\\8837fdaa-aaeb-4432-9622-43f6f583d583', 'PolicyDetails': '{\\\"KnownNetworkPolicies\\\":{\\\"NetworkName\\\":\\\"BE-Office\\\",\\\"NetworkId\\\":\\\"b98b9088-ce88-4fae-80fb-5b58cb1ce685\\\",\\\"CidrIpRanges\\\":[\\\"109.88.218.99/28\\\"],\\\"CountryIsoCodes\\\":null,\\\"Categories\\\":[],\\\"ApplyToUnknownCountry\\\":false}}', 'PolicyLastUpdatedTime': '8/11/2020 5:02:25 AM', 'TenantDefaultPolicy': '6', 'DisplayName': 'Known Networks List', 'PolicyIdentifierString': '3/19/2020 7:45:08 PM'})\",\"Cmd(name='Set-ConditionalAccessPolicy', params={'Identity': 'seccxpninja.onmicrosoft.com\\\\\\\\e183bd29-a3a3-4f91-a5a3-b83b21a544df', 'PolicyDetails': '{\\\"Version\\\":0,\\\"State\\\":\\\"Enabled\\\",\\\"Conditions\\\":{\\\"Applications\\\":{\\\"Include\\\":[{\\\"Applications\\\":[\\\"00000002-0000-0ff1-ce00-000000000000\\\"]}]},\\\"Users\\\":{\\\"Include\\\":[{\\\"Users\\\":[\\\"2935e535-8fdf-4217-865b-e084cb7214f1\\\"]}]}},\\\"SessionControls\\\":[\\\"AppEnforcedRestrictions\\\"],\\\"PersistentBrowserSessionMode\\\":\\\"NotSet\\\",\\\"EnforceAllPoliciesForEas\\\":false,\\\"IncludeOtherLegacyClientTypeForEvaluation\\\":false}', 'PolicyLastUpdatedTime': '8/11/2020 5:02:24 AM', 'TenantDefaultPolicy': '', 'DisplayName': 'JulianI Exchange native controls', 'PolicyIdentifierString': ''})\"],[\"Cmd(name='Set-ConditionalAccessPolicy', params={'Identity': 'seccxpninja.onmicrosoft.com\\\\\\\\2e76d011-eaa3-40b4-8ce8-7fba52bf3af8', 'PolicyDetails': '{\\\"Version\\\":0,\\\"State\\\":\\\"Reporting\\\",\\\"Conditions\\\":{\\\"Applications\\\":{\\\"Include\\\":[{\\\"Applications\\\":[\\\"f9e8b3d0-ba26-42cd-b544-c90a66191a81\\\"]}]},\\\"Users\\\":{\\\"Include\\\":[{\\\"Users\\\":[\\\"All\\\"]}]}},\\\"SessionControls\\\":[\\\"CloudAppSecurity\\\"],\\\"PersistentBrowserSessionMode\\\":\\\"NotSet\\\",\\\"EnforceAllPoliciesForEas\\\":false,\\\"IncludeOtherLegacyClientTypeForEvaluation\\\":false,\\\"CasSessionControlType\\\":1}', 'PolicyLastUpdatedTime': '8/12/2020 1:44:50 AM', 'TenantDefaultPolicy': '', 'DisplayName': 'On-Prem SharePoint - MeganB proxy', 'PolicyIdentifierString': ''})\",\"Cmd(name='Set-ConditionalAccessPolicy', params={'Identity': 'seccxpninja.onmicrosoft.com\\\\\\\\8837fdaa-aaeb-4432-9622-43f6f583d583', 'PolicyDetails': '{\\\"KnownNetworkPolicies\\\":{\\\"NetworkName\\\":\\\"BE-Office\\\",\\\"NetworkId\\\":\\\"b98b9088-ce88-4fae-80fb-5b58cb1ce685\\\",\\\"CidrIpRanges\\\":[\\\"109.88.218.99/28\\\"],\\\"CountryIsoCodes\\\":null,\\\"Categories\\\":[],\\\"ApplyToUnknownCountry\\\":false}}', 'PolicyLastUpdatedTime': '8/12/2020 1:44:50 AM', 'TenantDefaultPolicy': '6', 'DisplayName': 'Known Networks List', 'PolicyIdentifierString': '3/19/2020 7:45:08 PM'})\"],[\"Cmd(name='Set-ConditionalAccessPolicy', params={'Identity': 'seccxpninja.onmicrosoft.com\\\\\\\\3b13ea3c-c733-4eb8-bd19-67d308b2ea04', 'PolicyDetails': '{\\\"Version\\\":0,\\\"CreatedDateTime\\\":\\\"2020-05-19T13:34:15.2394934Z\\\",\\\"ModifiedDateTime\\\":\\\"2020-05-19T13:39:04.7333386Z\\\",\\\"State\\\":\\\"Reporting\\\",\\\"Conditions\\\":{\\\"Applications\\\":{\\\"Include\\\":[{\\\"Applications\\\":[\\\"None\\\"]}]},\\\"Users\\\":{\\\"Include\\\":[{\\\"Users\\\":[\\\"Guests\\\"]}]},\\\"DevicePlatforms\\\":{\\\"Include\\\":[{\\\"DevicePlatforms\\\":[\\\"All\\\"]}],\\\"Exclude\\\":[{\\\"DevicePlatforms\\\":[\\\"Android\\\",\\\"iOS\\\",\\\"macOS\\\"]}]},\\\"ClientTypes\\\":{\\\"Include\\\":[{\\\"ClientTypes\\\":[\\\"Browser\\\",\\\"Native\\\"]}]}},\\\"Controls\\\":[{\\\"Control\\\":[\\\"Mfa\\\",\\\"RequireCompliantDevice\\\"]}]}', 'PolicyLastUpdatedTime': '8/12/2020 5:28:44 AM', 'TenantDefaultPolicy': '', 'DisplayName': 'Yanivsh -CA Test', 'PolicyIdentifierString': ''})\",\"Cmd(name='Set-ConditionalAccessPolicy', params={'Identity': 'seccxpninja.onmicrosoft.com\\\\\\\\6490d00c-7ba1-42cf-aa88-99eb71d53bf7', 'PolicyDetails': '{\\\"Version\\\":0,\\\"LastUpdatedTimestamp\\\":\\\"2020-07-02T12:42:35.1866847Z\\\",\\\"State\\\":\\\"Disabled\\\",\\\"SignInFrequency\\\":\\\"NotSet\\\",\\\"PersistentBrowserSessionMode\\\":\\\"NotSet\\\"}', 'PolicyLastUpdatedTime': '8/12/2020 5:28:44 AM', 'TenantDefaultPolicy': '18', 'DisplayName': 'Default Policy', 'PolicyIdentifierString': '5/19/2020 1:39:05 PM'})\"],[\"Cmd(name='Set-ConditionalAccessPolicy', params={'Identity': 'seccxpninja.onmicrosoft.com\\\\\\\\4c5a5ea0-5d9f-4730-baaa-7a69cf29ef26', 'PolicyDetails': '{\\\"Version\\\":0,\\\"State\\\":\\\"Enabled\\\",\\\"Conditions\\\":{\\\"Applications\\\":{\\\"Include\\\":[{\\\"Applications\\\":[\\\"All\\\"]}]},\\\"Users\\\":{\\\"Include\\\":[{\\\"Users\\\":[\\\"bdb72692-2275-412b-8af0-ea21c2ebd174\\\"]}]}},\\\"Controls\\\":[{\\\"Control\\\":[\\\"Mfa\\\"]}],\\\"PersistentBrowserSessionMode\\\":\\\"NotSet\\\",\\\"EnforceAllPoliciesForEas\\\":false,\\\"IncludeOtherLegacyClientTypeForEvaluation\\\":false}', 'PolicyLastUpdatedTime': '8/13/2020 2:49:19 AM', 'TenantDefaultPolicy': '', 'DisplayName': 'Semolen - Admin MFA', 'PolicyIdentifierString': ''})\",\"Cmd(name='Set-ConditionalAccessPolicy', params={'Identity': 'seccxpninja.onmicrosoft.com\\\\\\\\8872f6fb-da88-4b63-bcc7-17247669596b', 'PolicyDetails': '{\\\"Version\\\":0,\\\"State\\\":\\\"Enabled\\\",\\\"Conditions\\\":{\\\"Applications\\\":{\\\"Include\\\":[{\\\"Applications\\\":[\\\"00000002-0000-0ff1-ce00-000000000000\\\",\\\"09abbdfd-ed23-44ee-a2d9-a627aa1c90f3\\\",\\\"cc15fd57-2c6c-4117-a88c-83b1d56b4bbe\\\",\\\"00000003-0000-0ff1-ce00-000000000000\\\",\\\"00000005-0000-0ff1-ce00-000000000000\\\"]}]},\\\"Users\\\":{\\\"Include\\\":[{\\\"Users\\\":[\\\"eababd92-9dc7-40e3-9359-6c106522db19\\\"]}]}},\\\"SessionControls\\\":[\\\"CloudAppSecurity\\\"],\\\"PersistentBrowserSessionMode\\\":\\\"NotSet\\\",\\\"EnforceAllPoliciesForEas\\\":false,\\\"IncludeOtherLegacyClientTypeForEvaluation\\\":false,\\\"CasSessionControlType\\\":1}', 'PolicyLastUpdatedTime': '8/13/2020 2:49:17 AM', 'TenantDefaultPolicy': '', 'DisplayName': 'MeganB MCAS Proxy', 'PolicyIdentifierString': ''})\"],[\"Cmd(name='Set-ConditionalAccessPolicy', params={'Identity': 'seccxpninja.onmicrosoft.com\\\\\\\\8872f6fb-da88-4b63-bcc7-17247669596b', 'PolicyDetails': '{\\\"Version\\\":0,\\\"State\\\":\\\"Enabled\\\",\\\"Conditions\\\":{\\\"Applications\\\":{\\\"Include\\\":[{\\\"Applications\\\":[\\\"00000002-0000-0ff1-ce00-000000000000\\\",\\\"09abbdfd-ed23-44ee-a2d9-a627aa1c90f3\\\",\\\"cc15fd57-2c6c-4117-a88c-83b1d56b4bbe\\\",\\\"00000003-0000-0ff1-ce00-000000000000\\\",\\\"00000005-0000-0ff1-ce00-000000000000\\\"]}]},\\\"Users\\\":{\\\"Include\\\":[{\\\"Users\\\":[\\\"eababd92-9dc7-40e3-9359-6c106522db19\\\"]}]}},\\\"SessionControls\\\":[\\\"CloudAppSecurity\\\"],\\\"PersistentBrowserSessionMode\\\":\\\"NotSet\\\",\\\"EnforceAllPoliciesForEas\\\":false,\\\"IncludeOtherLegacyClientTypeForEvaluation\\\":false,\\\"CasSessionControlType\\\":1}', 'PolicyLastUpdatedTime': '8/13/2020 5:26:09 AM', 'TenantDefaultPolicy': '', 'DisplayName': 'MeganB MCAS Proxy', 'PolicyIdentifierString': ''})\",\"Cmd(name='Set-ConditionalAccessPolicy', params={'Identity': 'seccxpninja.onmicrosoft.com\\\\\\\\83a057fb-dbca-4ba8-bb5f-0ce6d6e7cff5', 'PolicyDetails': '{\\\"Version\\\":0,\\\"State\\\":\\\"Enabled\\\",\\\"Conditions\\\":{\\\"Applications\\\":{\\\"Include\\\":[{\\\"Acrs\\\":[\\\"urn:microsoft:req1\\\"]}]},\\\"Users\\\":{\\\"Include\\\":[{\\\"Users\\\":[\\\"eababd92-9dc7-40e3-9359-6c106522db19\\\"]}]}},\\\"Controls\\\":[{\\\"Control\\\":[\\\"Mfa\\\"]}],\\\"PersistentBrowserSessionMode\\\":\\\"NotSet\\\",\\\"EnforceAllPoliciesForEas\\\":false,\\\"IncludeOtherLegacyClientTypeForEvaluation\\\":false}', 'PolicyLastUpdatedTime': '8/13/2020 5:26:10 AM', 'TenantDefaultPolicy': '', 'DisplayName': 'MeganB MCAS Step-up', 'PolicyIdentifierString': ''})\"],[\"Cmd(name='Set-ConditionalAccessPolicy', params={'Identity': 'seccxpninja.onmicrosoft.com\\\\\\\\5fd0c4ff-1cd7-4bf6-8607-294a04f58f12', 'PolicyDetails': '{\\\"Version\\\":0,\\\"State\\\":\\\"Disabled\\\",\\\"Conditions\\\":{\\\"Applications\\\":{\\\"Include\\\":[{\\\"Applications\\\":[\\\"All\\\"]}]},\\\"Users\\\":{\\\"Include\\\":[{\\\"Users\\\":[\\\"142512c7-f006-46ae-909c-14fa7bf6a887\\\"]}]}},\\\"Controls\\\":[{\\\"Control\\\":[\\\"Mfa\\\"]}],\\\"EnforceAllPoliciesForEas\\\":false,\\\"IncludeOtherLegacyClientTypeForEvaluation\\\":false}', 'PolicyLastUpdatedTime': '8/14/2020 2:18:53 AM', 'TenantDefaultPolicy': '', 'DisplayName': 'Azure MFA', 'PolicyIdentifierString': ''})\",\"Cmd(name='Set-ConditionalAccessPolicy', params={'Identity': 'seccxpninja.onmicrosoft.com\\\\\\\\3b13ea3c-c733-4eb8-bd19-67d308b2ea04', 'PolicyDetails': '{\\\"Version\\\":0,\\\"CreatedDateTime\\\":\\\"2020-05-19T13:34:15.2394934Z\\\",\\\"ModifiedDateTime\\\":\\\"2020-05-19T13:39:04.7333386Z\\\",\\\"State\\\":\\\"Reporting\\\",\\\"Conditions\\\":{\\\"Applications\\\":{\\\"Include\\\":[{\\\"Applications\\\":[\\\"None\\\"]}]},\\\"Users\\\":{\\\"Include\\\":[{\\\"Users\\\":[\\\"Guests\\\"]}]},\\\"DevicePlatforms\\\":{\\\"Include\\\":[{\\\"DevicePlatforms\\\":[\\\"All\\\"]}],\\\"Exclude\\\":[{\\\"DevicePlatforms\\\":[\\\"Android\\\",\\\"iOS\\\",\\\"macOS\\\"]}]},\\\"ClientTypes\\\":{\\\"Include\\\":[{\\\"ClientTypes\\\":[\\\"Browser\\\",\\\"Native\\\"]}]}},\\\"Controls\\\":[{\\\"Control\\\":[\\\"Mfa\\\",\\\"RequireCompliantDevice\\\"]}]}', 'PolicyLastUpdatedTime': '8/14/2020 2:18:54 AM', 'TenantDefaultPolicy': '', 'DisplayName': 'Yanivsh -CA Test', 'PolicyIdentifierString': ''})\"],[\"Cmd(name='Set-ConditionalAccessPolicy', params={'Identity': 'seccxpninja.onmicrosoft.com\\\\\\\\2e76d011-eaa3-40b4-8ce8-7fba52bf3af8', 'PolicyDetails': '{\\\"Version\\\":0,\\\"State\\\":\\\"Reporting\\\",\\\"Conditions\\\":{\\\"Applications\\\":{\\\"Include\\\":[{\\\"Applications\\\":[\\\"f9e8b3d0-ba26-42cd-b544-c90a66191a81\\\"]}]},\\\"Users\\\":{\\\"Include\\\":[{\\\"Users\\\":[\\\"All\\\"]}]}},\\\"SessionControls\\\":[\\\"CloudAppSecurity\\\"],\\\"PersistentBrowserSessionMode\\\":\\\"NotSet\\\",\\\"EnforceAllPoliciesForEas\\\":false,\\\"IncludeOtherLegacyClientTypeForEvaluation\\\":false,\\\"CasSessionControlType\\\":1}', 'PolicyLastUpdatedTime': '8/14/2020 5:38:47 AM', 'TenantDefaultPolicy': '', 'DisplayName': 'On-Prem SharePoint - MeganB proxy', 'PolicyIdentifierString': ''})\",\"Cmd(name='Set-ConditionalAccessPolicy', params={'Identity': 'seccxpninja.onmicrosoft.com\\\\\\\\8837fdaa-aaeb-4432-9622-43f6f583d583', 'PolicyDetails': '{\\\"KnownNetworkPolicies\\\":{\\\"NetworkName\\\":\\\"BE-Office\\\",\\\"NetworkId\\\":\\\"b98b9088-ce88-4fae-80fb-5b58cb1ce685\\\",\\\"CidrIpRanges\\\":[\\\"109.88.218.99/28\\\"],\\\"CountryIsoCodes\\\":null,\\\"Categories\\\":[],\\\"ApplyToUnknownCountry\\\":false}}', 'PolicyLastUpdatedTime': '8/14/2020 5:38:49 AM', 'TenantDefaultPolicy': '6', 'DisplayName': 'Known Networks List', 'PolicyIdentifierString': '3/19/2020 7:45:08 PM'})\"],[\"Cmd(name='Set-ConditionalAccessPolicy', params={'Identity': 'seccxpninja.onmicrosoft.com\\\\\\\\3b13ea3c-c733-4eb8-bd19-67d308b2ea04', 'PolicyDetails': '{\\\"Version\\\":0,\\\"CreatedDateTime\\\":\\\"2020-05-19T13:34:15.2394934Z\\\",\\\"ModifiedDateTime\\\":\\\"2020-05-19T13:39:04.7333386Z\\\",\\\"State\\\":\\\"Reporting\\\",\\\"Conditions\\\":{\\\"Applications\\\":{\\\"Include\\\":[{\\\"Applications\\\":[\\\"None\\\"]}]},\\\"Users\\\":{\\\"Include\\\":[{\\\"Users\\\":[\\\"Guests\\\"]}]},\\\"DevicePlatforms\\\":{\\\"Include\\\":[{\\\"DevicePlatforms\\\":[\\\"All\\\"]}],\\\"Exclude\\\":[{\\\"DevicePlatforms\\\":[\\\"Android\\\",\\\"iOS\\\",\\\"macOS\\\"]}]},\\\"ClientTypes\\\":{\\\"Include\\\":[{\\\"ClientTypes\\\":[\\\"Browser\\\",\\\"Native\\\"]}]}},\\\"Controls\\\":[{\\\"Control\\\":[\\\"Mfa\\\",\\\"RequireCompliantDevice\\\"]}]}', 'PolicyLastUpdatedTime': '8/16/2020 1:57:15 AM', 'TenantDefaultPolicy': '', 'DisplayName': 'Yanivsh -CA Test', 'PolicyIdentifierString': ''})\",\"Cmd(name='Set-ConditionalAccessPolicy', params={'Identity': 'seccxpninja.onmicrosoft.com\\\\\\\\83a057fb-dbca-4ba8-bb5f-0ce6d6e7cff5', 'PolicyDetails': '{\\\"Version\\\":0,\\\"State\\\":\\\"Enabled\\\",\\\"Conditions\\\":{\\\"Applications\\\":{\\\"Include\\\":[{\\\"Acrs\\\":[\\\"urn:microsoft:req1\\\"]}]},\\\"Users\\\":{\\\"Include\\\":[{\\\"Users\\\":[\\\"eababd92-9dc7-40e3-9359-6c106522db19\\\"]}]}},\\\"Controls\\\":[{\\\"Control\\\":[\\\"Mfa\\\"]}],\\\"PersistentBrowserSessionMode\\\":\\\"NotSet\\\",\\\"EnforceAllPoliciesForEas\\\":false,\\\"IncludeOtherLegacyClientTypeForEvaluation\\\":false}', 'PolicyLastUpdatedTime': '8/16/2020 1:57:13 AM', 'TenantDefaultPolicy': '', 'DisplayName': 'MeganB MCAS Step-up', 'PolicyIdentifierString': ''})\"],[\"Cmd(name='Set-ConditionalAccessPolicy', params={'Identity': 'seccxpninja.onmicrosoft.com\\\\\\\\83a057fb-dbca-4ba8-bb5f-0ce6d6e7cff5', 'PolicyDetails': '{\\\"Version\\\":0,\\\"State\\\":\\\"Enabled\\\",\\\"Conditions\\\":{\\\"Applications\\\":{\\\"Include\\\":[{\\\"Acrs\\\":[\\\"urn:microsoft:req1\\\"]}]},\\\"Users\\\":{\\\"Include\\\":[{\\\"Users\\\":[\\\"eababd92-9dc7-40e3-9359-6c106522db19\\\"]}]}},\\\"Controls\\\":[{\\\"Control\\\":[\\\"Mfa\\\"]}],\\\"PersistentBrowserSessionMode\\\":\\\"NotSet\\\",\\\"EnforceAllPoliciesForEas\\\":false,\\\"IncludeOtherLegacyClientTypeForEvaluation\\\":false}', 'PolicyLastUpdatedTime': '8/16/2020 5:00:37 AM', 'TenantDefaultPolicy': '', 'DisplayName': 'MeganB MCAS Step-up', 'PolicyIdentifierString': ''})\",\"Cmd(name='Set-ConditionalAccessPolicy', params={'Identity': 'seccxpninja.onmicrosoft.com\\\\\\\\4c5a5ea0-5d9f-4730-baaa-7a69cf29ef26', 'PolicyDetails': '{\\\"Version\\\":0,\\\"State\\\":\\\"Enabled\\\",\\\"Conditions\\\":{\\\"Applications\\\":{\\\"Include\\\":[{\\\"Applications\\\":[\\\"All\\\"]}]},\\\"Users\\\":{\\\"Include\\\":[{\\\"Users\\\":[\\\"bdb72692-2275-412b-8af0-ea21c2ebd174\\\"]}]}},\\\"Controls\\\":[{\\\"Control\\\":[\\\"Mfa\\\"]}],\\\"PersistentBrowserSessionMode\\\":\\\"NotSet\\\",\\\"EnforceAllPoliciesForEas\\\":false,\\\"IncludeOtherLegacyClientTypeForEvaluation\\\":false}', 'PolicyLastUpdatedTime': '8/16/2020 5:00:38 AM', 'TenantDefaultPolicy': '', 'DisplayName': 'Semolen - Admin MFA', 'PolicyIdentifierString': ''})\"],[\"Cmd(name='Set-ConditionalAccessPolicy', params={'Identity': 'seccxpninja.onmicrosoft.com\\\\\\\\5fd0c4ff-1cd7-4bf6-8607-294a04f58f12', 'PolicyDetails': '{\\\"Version\\\":0,\\\"State\\\":\\\"Disabled\\\",\\\"Conditions\\\":{\\\"Applications\\\":{\\\"Include\\\":[{\\\"Applications\\\":[\\\"All\\\"]}]},\\\"Users\\\":{\\\"Include\\\":[{\\\"Users\\\":[\\\"142512c7-f006-46ae-909c-14fa7bf6a887\\\"]}]}},\\\"Controls\\\":[{\\\"Control\\\":[\\\"Mfa\\\"]}],\\\"EnforceAllPoliciesForEas\\\":false,\\\"IncludeOtherLegacyClientTypeForEvaluation\\\":false}', 'PolicyLastUpdatedTime': '8/17/2020 1:59:56 AM', 'TenantDefaultPolicy': '', 'DisplayName': 'Azure MFA', 'PolicyIdentifierString': ''})\",\"Cmd(name='Set-ConditionalAccessPolicy', params={'Identity': 'seccxpninja.onmicrosoft.com\\\\\\\\235bec94-f744-48ac-8314-5675953d2def', 'PolicyDetails': '{\\\"Version\\\":0,\\\"State\\\":\\\"Disabled\\\",\\\"Conditions\\\":{\\\"Applications\\\":{\\\"Include\\\":[{\\\"Applications\\\":[\\\"All\\\"]}]},\\\"Users\\\":{\\\"Include\\\":[{\\\"Users\\\":[\\\"eababd92-9dc7-40e3-9359-6c106522db19\\\"]}]},\\\"DevicePlatforms\\\":{\\\"Include\\\":[{\\\"DevicePlatforms\\\":[\\\"All\\\"]}],\\\"Exclude\\\":[{\\\"DevicePlatforms\\\":[\\\"macOS\\\"]}]}},\\\"Controls\\\":[{\\\"Control\\\":[\\\"Mfa\\\"]}],\\\"PersistentBrowserSessionMode\\\":\\\"NotSet\\\",\\\"EnforceAllPoliciesForEas\\\":false,\\\"IncludeOtherLegacyClientTypeForEvaluation\\\":false}', 'PolicyLastUpdatedTime': '8/17/2020 1:59:55 AM', 'TenantDefaultPolicy': '', 'DisplayName': 'Megan MFA demo', 'PolicyIdentifierString': ''})\"],[\"Cmd(name='Set-ConditionalAccessPolicy', params={'Identity': 'seccxpninja.onmicrosoft.com\\\\\\\\3b13ea3c-c733-4eb8-bd19-67d308b2ea04', 'PolicyDetails': '{\\\"Version\\\":0,\\\"CreatedDateTime\\\":\\\"2020-05-19T13:34:15.2394934Z\\\",\\\"ModifiedDateTime\\\":\\\"2020-05-19T13:39:04.7333386Z\\\",\\\"State\\\":\\\"Reporting\\\",\\\"Conditions\\\":{\\\"Applications\\\":{\\\"Include\\\":[{\\\"Applications\\\":[\\\"None\\\"]}]},\\\"Users\\\":{\\\"Include\\\":[{\\\"Users\\\":[\\\"Guests\\\"]}]},\\\"DevicePlatforms\\\":{\\\"Include\\\":[{\\\"DevicePlatforms\\\":[\\\"All\\\"]}],\\\"Exclude\\\":[{\\\"DevicePlatforms\\\":[\\\"Android\\\",\\\"iOS\\\",\\\"macOS\\\"]}]},\\\"ClientTypes\\\":{\\\"Include\\\":[{\\\"ClientTypes\\\":[\\\"Browser\\\",\\\"Native\\\"]}]}},\\\"Controls\\\":[{\\\"Control\\\":[\\\"Mfa\\\",\\\"RequireCompliantDevice\\\"]}]}', 'PolicyLastUpdatedTime': '8/17/2020 5:14:40 AM', 'TenantDefaultPolicy': '', 'DisplayName': 'Yanivsh -CA Test', 'PolicyIdentifierString': ''})\",\"Cmd(name='Set-ConditionalAccessPolicy', params={'Identity': 'seccxpninja.onmicrosoft.com\\\\\\\\ba36f0a4-6d73-4ba4-9282-3b3c14575e36', 'PolicyDetails': '{\\\"Version\\\":0,\\\"ModifiedDateTime\\\":\\\"2020-05-19T13:31:41.7083504Z\\\",\\\"State\\\":\\\"Disabled\\\",\\\"Conditions\\\":{\\\"Applications\\\":{\\\"Include\\\":[{\\\"Applications\\\":[\\\"00000002-0000-0ff1-ce00-000000000000\\\",\\\"00000003-0000-0ff1-ce00-000000000000\\\"]}]},\\\"Users\\\":{\\\"Include\\\":[{\\\"Users\\\":[\\\"2935e535-8fdf-4217-865b-e084cb7214f1\\\"]}]},\\\"DevicePlatforms\\\":{\\\"Include\\\":[{\\\"DevicePlatforms\\\":[\\\"All\\\"]}],\\\"Exclude\\\":[{\\\"DevicePlatforms\\\":[\\\"Android\\\",\\\"iOS\\\",\\\"macOS\\\"]}]},\\\"ClientTypes\\\":{\\\"Include\\\":[{\\\"ClientTypes\\\":[\\\"Browser\\\",\\\"Native\\\"]}]}},\\\"SessionControls\\\":[\\\"CloudAppSecurity\\\"],\\\"CasSessionControlType\\\":1}', 'PolicyLastUpdatedTime': '8/17/2020 5:14:39 AM', 'TenantDefaultPolicy': '', 'DisplayName': 'Block Access JulianI', 'PolicyIdentifierString': ''})\"],[\"Cmd(name='Set-ConditionalAccessPolicy', params={'Identity': 'seccxpninja.onmicrosoft.com\\\\\\\\b2915792-0396-4abe-94ec-e17fa17243c5', 'PolicyDetails': '{\\\"Version\\\":0,\\\"State\\\":\\\"Enabled\\\",\\\"Conditions\\\":{\\\"Applications\\\":{\\\"Include\\\":[{\\\"Applications\\\":[\\\"94c63fef-13a3-47bc-8074-75af8c65887a\\\",\\\"c9a559d2-7aab-4f13-a6ed-e7e9c52aec87\\\"]}]},\\\"Users\\\":{\\\"Include\\\":[{\\\"Users\\\":[\\\"bdb72692-2275-412b-8af0-ea21c2ebd174\\\",\\\"eababd92-9dc7-40e3-9359-6c106522db19\\\"]}]},\\\"SignInRisks\\\":{\\\"Include\\\":[{\\\"SignInRisks\\\":[\\\"High\\\",\\\"Medium\\\",\\\"Low\\\"]}]}},\\\"SessionControls\\\":[\\\"CloudAppSecurity\\\"],\\\"PersistentBrowserSessionMode\\\":\\\"NotSet\\\",\\\"EnforceAllPoliciesForEas\\\":false,\\\"IncludeOtherLegacyClientTypeForEvaluation\\\":false,\\\"CasSessionControlType\\\":3}', 'PolicyLastUpdatedTime': '8/18/2020 2:24:12 AM', 'TenantDefaultPolicy': '', 'DisplayName': 'GBB demo', 'PolicyIdentifierString': ''})\",\"Cmd(name='Set-ConditionalAccessPolicy', params={'Identity': 'seccxpninja.onmicrosoft.com\\\\\\\\235bec94-f744-48ac-8314-5675953d2def', 'PolicyDetails': '{\\\"Version\\\":0,\\\"State\\\":\\\"Disabled\\\",\\\"Conditions\\\":{\\\"Applications\\\":{\\\"Include\\\":[{\\\"Applications\\\":[\\\"All\\\"]}]},\\\"Users\\\":{\\\"Include\\\":[{\\\"Users\\\":[\\\"eababd92-9dc7-40e3-9359-6c106522db19\\\"]}]},\\\"DevicePlatforms\\\":{\\\"Include\\\":[{\\\"DevicePlatforms\\\":[\\\"All\\\"]}],\\\"Exclude\\\":[{\\\"DevicePlatforms\\\":[\\\"macOS\\\"]}]}},\\\"Controls\\\":[{\\\"Control\\\":[\\\"Mfa\\\"]}],\\\"PersistentBrowserSessionMode\\\":\\\"NotSet\\\",\\\"EnforceAllPoliciesForEas\\\":false,\\\"IncludeOtherLegacyClientTypeForEvaluation\\\":false}', 'PolicyLastUpdatedTime': '8/18/2020 2:24:11 AM', 'TenantDefaultPolicy': '', 'DisplayName': 'Megan MFA demo', 'PolicyIdentifierString': ''})\"],[\"Cmd(name='Set-ConditionalAccessPolicy', params={'Identity': 'seccxpninja.onmicrosoft.com\\\\\\\\bcd93f74-64fd-4042-a3ae-ee6d48886d6d', 'PolicyDetails': '{\\\"Version\\\":0,\\\"State\\\":\\\"Enabled\\\",\\\"Conditions\\\":{\\\"Applications\\\":{\\\"Include\\\":[{\\\"Applications\\\":[\\\"c9a559d2-7aab-4f13-a6ed-e7e9c52aec87\\\"]}]},\\\"Users\\\":{\\\"Include\\\":[{\\\"Users\\\":[\\\"bdb72692-2275-412b-8af0-ea21c2ebd174\\\",\\\"eababd92-9dc7-40e3-9359-6c106522db19\\\"]}]}},\\\"SessionControls\\\":[\\\"CloudAppSecurity\\\"],\\\"PersistentBrowserSessionMode\\\":\\\"NotSet\\\",\\\"EnforceAllPoliciesForEas\\\":false,\\\"IncludeOtherLegacyClientTypeForEvaluation\\\":false,\\\"CasSessionControlType\\\":3}', 'PolicyLastUpdatedTime': '8/18/2020 2:24:11 AM', 'TenantDefaultPolicy': '', 'DisplayName': 'Form MCAS', 'PolicyIdentifierString': ''})\",\"Cmd(name='Set-ConditionalAccessPolicy', params={'Identity': 'seccxpninja.onmicrosoft.com\\\\\\\\bcd93f74-64fd-4042-a3ae-ee6d48886d6d', 'PolicyDetails': '{\\\"Version\\\":0,\\\"State\\\":\\\"Enabled\\\",\\\"Conditions\\\":{\\\"Applications\\\":{\\\"Include\\\":[{\\\"Applications\\\":[\\\"c9a559d2-7aab-4f13-a6ed-e7e9c52aec87\\\"]}]},\\\"Users\\\":{\\\"Include\\\":[{\\\"Users\\\":[\\\"bdb72692-2275-412b-8af0-ea21c2ebd174\\\",\\\"eababd92-9dc7-40e3-9359-6c106522db19\\\"]}]}},\\\"SessionControls\\\":[\\\"CloudAppSecurity\\\"],\\\"PersistentBrowserSessionMode\\\":\\\"NotSet\\\",\\\"EnforceAllPoliciesForEas\\\":false,\\\"IncludeOtherLegacyClientTypeForEvaluation\\\":false,\\\"CasSessionControlType\\\":3}', 'PolicyLastUpdatedTime': '8/18/2020 2:24:11 AM', 'TenantDefaultPolicy': '', 'DisplayName': 'Form MCAS', 'PolicyIdentifierString': ''})\"],[\"Cmd(name='Set-ConditionalAccessPolicy', params={'Identity': 'seccxpninja.onmicrosoft.com\\\\\\\\8837fdaa-aaeb-4432-9622-43f6f583d583', 'PolicyDetails': '{\\\"KnownNetworkPolicies\\\":{\\\"NetworkName\\\":\\\"BE-Office\\\",\\\"NetworkId\\\":\\\"b98b9088-ce88-4fae-80fb-5b58cb1ce685\\\",\\\"CidrIpRanges\\\":[\\\"109.88.218.99/28\\\"],\\\"CountryIsoCodes\\\":null,\\\"Categories\\\":[],\\\"ApplyToUnknownCountry\\\":false}}', 'PolicyLastUpdatedTime': '8/18/2020 5:19:26 AM', 'TenantDefaultPolicy': '6', 'DisplayName': 'Known Networks List', 'PolicyIdentifierString': '3/19/2020 7:45:08 PM'})\",\"Cmd(name='Set-ConditionalAccessPolicy', params={'Identity': 'seccxpninja.onmicrosoft.com\\\\\\\\bcd93f74-64fd-4042-a3ae-ee6d48886d6d', 'PolicyDetails': '{\\\"Version\\\":0,\\\"State\\\":\\\"Enabled\\\",\\\"Conditions\\\":{\\\"Applications\\\":{\\\"Include\\\":[{\\\"Applications\\\":[\\\"c9a559d2-7aab-4f13-a6ed-e7e9c52aec87\\\"]}]},\\\"Users\\\":{\\\"Include\\\":[{\\\"Users\\\":[\\\"bdb72692-2275-412b-8af0-ea21c2ebd174\\\",\\\"eababd92-9dc7-40e3-9359-6c106522db19\\\"]}]}},\\\"SessionControls\\\":[\\\"CloudAppSecurity\\\"],\\\"PersistentBrowserSessionMode\\\":\\\"NotSet\\\",\\\"EnforceAllPoliciesForEas\\\":false,\\\"IncludeOtherLegacyClientTypeForEvaluation\\\":false,\\\"CasSessionControlType\\\":3}', 'PolicyLastUpdatedTime': '8/18/2020 5:19:23 AM', 'TenantDefaultPolicy': '', 'DisplayName': 'Form MCAS', 'PolicyIdentifierString': ''})\"],[\"Cmd(name='Set-ConditionalAccessPolicy', params={'Identity': 'seccxpninja.onmicrosoft.com\\\\\\\\8837fdaa-aaeb-4432-9622-43f6f583d583', 'PolicyDetails': '{\\\"KnownNetworkPolicies\\\":{\\\"NetworkName\\\":\\\"BE-Office\\\",\\\"NetworkId\\\":\\\"b98b9088-ce88-4fae-80fb-5b58cb1ce685\\\",\\\"CidrIpRanges\\\":[\\\"109.88.218.99/28\\\"],\\\"CountryIsoCodes\\\":null,\\\"Categories\\\":[],\\\"ApplyToUnknownCountry\\\":false}}', 'PolicyLastUpdatedTime': '8/19/2020 2:29:04 AM', 'TenantDefaultPolicy': '6', 'DisplayName': 'Known Networks List', 'PolicyIdentifierString': '3/19/2020 7:45:08 PM'})\",\"Cmd(name='Set-ConditionalAccessPolicy', params={'Identity': 'seccxpninja.onmicrosoft.com\\\\\\\\69c7a12f-b407-45a3-b07e-fa04fc7f273d', 'PolicyDetails': '{\\\"Version\\\":0,\\\"State\\\":\\\"Enabled\\\",\\\"Conditions\\\":{\\\"Applications\\\":{\\\"Include\\\":[{\\\"Applications\\\":[\\\"00000003-0000-0ff1-ce00-000000000000\\\"]}]},\\\"Users\\\":{\\\"Include\\\":[{\\\"Users\\\":[\\\"All\\\"]}]}},\\\"SessionControls\\\":[\\\"CloudAppSecurity\\\"],\\\"PersistentBrowserSessionMode\\\":\\\"NotSet\\\",\\\"EnforceAllPoliciesForEas\\\":false,\\\"IncludeOtherLegacyClientTypeForEvaluation\\\":false,\\\"CasSessionControlType\\\":1}', 'PolicyLastUpdatedTime': '8/19/2020 2:29:03 AM', 'TenantDefaultPolicy': '', 'DisplayName': 'Test Policy', 'PolicyIdentifierString': ''})\"],[\"Cmd(name='Set-ConditionalAccessPolicy', params={'Identity': 'seccxpninja.onmicrosoft.com\\\\\\\\3b13ea3c-c733-4eb8-bd19-67d308b2ea04', 'PolicyDetails': '{\\\"Version\\\":0,\\\"CreatedDateTime\\\":\\\"2020-05-19T13:34:15.2394934Z\\\",\\\"ModifiedDateTime\\\":\\\"2020-05-19T13:39:04.7333386Z\\\",\\\"State\\\":\\\"Reporting\\\",\\\"Conditions\\\":{\\\"Applications\\\":{\\\"Include\\\":[{\\\"Applications\\\":[\\\"None\\\"]}]},\\\"Users\\\":{\\\"Include\\\":[{\\\"Users\\\":[\\\"Guests\\\"]}]},\\\"DevicePlatforms\\\":{\\\"Include\\\":[{\\\"DevicePlatforms\\\":[\\\"All\\\"]}],\\\"Exclude\\\":[{\\\"DevicePlatforms\\\":[\\\"Android\\\",\\\"iOS\\\",\\\"macOS\\\"]}]},\\\"ClientTypes\\\":{\\\"Include\\\":[{\\\"ClientTypes\\\":[\\\"Browser\\\",\\\"Native\\\"]}]}},\\\"Controls\\\":[{\\\"Control\\\":[\\\"Mfa\\\",\\\"RequireCompliantDevice\\\"]}]}', 'PolicyLastUpdatedTime': '8/19/2020 5:55:34 AM', 'TenantDefaultPolicy': '', 'DisplayName': 'Yanivsh -CA Test', 'PolicyIdentifierString': ''})\",\"Cmd(name='Set-ConditionalAccessPolicy', params={'Identity': 'seccxpninja.onmicrosoft.com\\\\\\\\235bec94-f744-48ac-8314-5675953d2def', 'PolicyDetails': '{\\\"Version\\\":0,\\\"State\\\":\\\"Disabled\\\",\\\"Conditions\\\":{\\\"Applications\\\":{\\\"Include\\\":[{\\\"Applications\\\":[\\\"All\\\"]}]},\\\"Users\\\":{\\\"Include\\\":[{\\\"Users\\\":[\\\"eababd92-9dc7-40e3-9359-6c106522db19\\\"]}]},\\\"DevicePlatforms\\\":{\\\"Include\\\":[{\\\"DevicePlatforms\\\":[\\\"All\\\"]}],\\\"Exclude\\\":[{\\\"DevicePlatforms\\\":[\\\"macOS\\\"]}]}},\\\"Controls\\\":[{\\\"Control\\\":[\\\"Mfa\\\"]}],\\\"PersistentBrowserSessionMode\\\":\\\"NotSet\\\",\\\"EnforceAllPoliciesForEas\\\":false,\\\"IncludeOtherLegacyClientTypeForEvaluation\\\":false}', 'PolicyLastUpdatedTime': '8/19/2020 5:55:31 AM', 'TenantDefaultPolicy': '', 'DisplayName': 'Megan MFA demo', 'PolicyIdentifierString': ''})\"],[\"Cmd(name='Update-RoleGroupMember', params={'Members': 'CBoehmSA;ComplianceAdmins_939735849', 'Identity': 'Compliance Management'})\",\"Cmd(name='Update-RoleGroupMember', params={'Members': 'CBoehmSA', 'Identity': 'Discovery Management'})\",\"Cmd(name='Update-RoleGroupMember', params={'Members': 'CBoehmSA;ComplianceAdmins_939735849', 'Identity': 'Compliance Management'})\"]],\"rarest_window3_likelihood\":{\"__ndarray__\":\"iI8J8UNthD/Nxus4F+h6PySId8Fi4IU/L6XbyRT3ej/XmkpTpXiEP2x775tbwHc/iI8J8UNthD8kiHfBYuCFP0MXINrzg4Q/iI8J8UNthD/Nxus4F+h6P4iPCfFDbYQ/15pKU6V4hD8kiHfBYuCFP4iPCfFDbYQ/iI8J8UNthD+IjwnxQ22EP4iPCfFDbYQ/RjaRHgy9az/XmkpTpXiEPySId8Fi4IU/7KjSzS+PhD8kiHfBYuCFP9eaSlOleIQ/Qxcg2vODhD++aFZpz2GEP75oVmnPYYQ/Qxcg2vODhD+IjwnxQ22EP75oVmnPYYQ/tASIMvClej+3XR8WpJqEP4iPCfFDbYQ/Qxcg2vODhD8FVC1OYVaEPy+l28kU93o/E8zG2kPhej+IjwnxQ22EP/lOXF6QuHE/iI8J8UNthD++aFZpz2GEP75oVmnPYYQ/BVQtTmFWhD/XmkpTpXiEPwsG2UjqtHo/7KjSzS+PhD+IjwnxQ22EPwsG2UjqtHo/iI8J8UNthD++aFZpz2GEP/0SymkqbYQ/Qxcg2vODhD+IjwnxQ22EP0MXINrzg4Q/vmhWac9hhD+IjwnxQ22EPySId8Fi4IU/15pKU6V4hD++aFZpz2GEPySId8Fi4IU/W1VTvZPSej++aFZpz2GEP/0SymkqbYQ/j/evYwWmhD+IjwnxQ22EP75oVmnPYYQ/7KjSzS+PhD+IjwnxQ22EP75oVmnPYYQ/JIh3wWLghT/Pxus4F+h6P1tVU72T0no//RLKaSpthD++aFZpz2GEP8ZeSECog4Q/iI8J8UNthD/Nxus4F+h6P7ZdHxakmoQ/lEw2+4X6cj9DFyDa84OEP0MXINrzg4Q//RLKaSpthD8FVC1OYVaEPwsG2UjqtHo/Qxcg2vODhD/I8KDGxRR7P6NojKlndXE/vmhWac9hhD8kiHfBYuCFP7QEiDLwpXo/wozM9byahD+IjwnxQ22EPySId8Fi4IU/vmhWac9hhD+IjwnxQ22EP4iPCfFDbYQ/JIh3wWLghT/I8KDGxRR7P0MXINrzg4Q/Qxcg2vODhD8kiHfBYuCFP4iPCfFDbYQ/z8brOBfoej/Pxus4F+h6PwsG2UjqtHo/t10fFqSahD8LXGWZcniEP83G6zgX6Ho/j/evYwWmhD+IjwnxQ22EP75oVmnPYYQ/vmhWac9hhD8kiHfBYuCFP9eaSlOleIQ/jvevYwWmhD8kiHfBYuCFP7ZdHxakmoQ/xl5IQKiDhD++aFZpz2GEP0MXINrzg4Q/o2iMqWd1cT/Nxus4F+h6PwsG2UjqtHo/yPCgxsUUez/Nxus4F+h6P0MXINrzg4Q/JIh3wWLghT/XmkpTpXiEP9eaSlOleIQ/z8brOBfoej/4KrRvANl6P63v2VbLw3o/iI8J8UNthD+IjwnxQ22EP9eaSlOleIQ/+Cq0bwDZej/XmkpTpXiEP4iPCfFDbYQ/iI8J8UNthD/9EsppKm2EP0MXINrzg4Q/iI8J8UNthD/Pxus4F+h6P8jwoMbFFHs/15pKU6V4hD9mFBl9kFHFPg==\",\"dtype\":\"float64\",\"order\":\"little\",\"shape\":[146]},\"time_col\":[\"2020-06-21 02:36:46+00:00\",\"2020-06-21 05:31:34+00:00\",\"2020-06-22 02:27:06+00:00\",\"2020-06-22 02:30:52+00:00\",\"2020-06-22 04:55:59+00:00\",\"2020-06-23 02:31:32+00:00\",\"2020-06-23 05:35:26+00:00\",\"2020-06-24 02:00:55+00:00\",\"2020-06-24 02:06:55+00:00\",\"2020-06-24 05:21:02+00:00\",\"2020-06-25 02:15:42+00:00\",\"2020-06-26 03:41:02+00:00\",\"2020-06-26 06:56:14+00:00\",\"2020-06-27 02:36:03+00:00\",\"2020-06-27 02:40:59+00:00\",\"2020-06-27 05:10:41+00:00\",\"2020-06-28 02:25:45+00:00\",\"2020-06-28 05:25:42+00:00\",\"2020-06-28 05:30:53+00:00\",\"2020-06-29 02:01:49+00:00\",\"2020-06-29 04:50:44+00:00\",\"2020-06-29 04:56:13+00:00\",\"2020-06-30 02:11:11+00:00\",\"2020-06-30 02:16:20+00:00\",\"2020-06-30 05:15:37+00:00\",\"2020-07-01 01:56:06+00:00\",\"2020-07-01 05:20:57+00:00\",\"2020-07-02 02:16:17+00:00\",\"2020-07-02 05:01:42+00:00\",\"2020-07-03 02:38:45+00:00\",\"2020-07-03 05:38:39+00:00\",\"2020-07-04 02:10:37+00:00\",\"2020-07-04 05:06:39+00:00\",\"2020-07-05 02:15:59+00:00\",\"2020-07-05 05:15:54+00:00\",\"2020-07-06 01:51:03+00:00\",\"2020-07-06 04:41:38+00:00\",\"2020-07-07 02:01:28+00:00\",\"2020-07-08 02:40:54+00:00\",\"2020-07-08 05:06:16+00:00\",\"2020-07-09 02:45:55+00:00\",\"2020-07-10 02:55:37+00:00\",\"2020-07-10 05:41:11+00:00\",\"2020-07-11 02:31:00+00:00\",\"2020-07-11 05:11:24+00:00\",\"2020-07-11 05:15:56+00:00\",\"2020-07-12 02:56:23+00:00\",\"2020-07-12 05:40:46+00:00\",\"2020-07-13 03:13:51+00:00\",\"2020-07-13 05:46:02+00:00\",\"2020-07-13 05:51:32+00:00\",\"2020-07-14 03:15:14+00:00\",\"2020-07-14 05:36:52+00:00\",\"2020-07-15 03:00:52+00:00\",\"2020-07-15 05:36:56+00:00\",\"2020-07-16 02:40:40+00:00\",\"2020-07-16 05:06:29+00:00\",\"2020-07-16 05:14:07+00:00\",\"2020-07-17 02:07:43+00:00\",\"2020-07-17 05:06:25+00:00\",\"2020-07-17 05:10:59+00:00\",\"2020-07-18 05:31:05+00:00\",\"2020-07-19 05:46:03+00:00\",\"2020-07-20 02:30:58+00:00\",\"2020-07-20 06:16:41+00:00\",\"2020-07-21 02:16:20+00:00\",\"2020-07-21 05:06:31+00:00\",\"2020-07-22 02:20:45+00:00\",\"2020-07-22 05:21:38+00:00\",\"2020-07-23 02:26:13+00:00\",\"2020-07-23 02:30:51+00:00\",\"2020-07-23 04:30:50+00:00\",\"2020-07-23 05:31:27+00:00\",\"2020-07-24 02:41:29+00:00\",\"2020-07-24 05:05:49+00:00\",\"2020-07-25 02:30:48+00:00\",\"2020-07-25 05:46:32+00:00\",\"2020-07-26 02:41:28+00:00\",\"2020-07-26 02:47:29+00:00\",\"2020-07-26 05:29:37+00:00\",\"2020-07-27 02:16:05+00:00\",\"2020-07-27 05:21:25+00:00\",\"2020-07-28 02:11:05+00:00\",\"2020-07-28 05:31:49+00:00\",\"2020-07-28 05:35:59+00:00\",\"2020-07-28 05:40:57+00:00\",\"2020-07-29 01:51:42+00:00\",\"2020-07-29 02:46:29+00:00\",\"2020-07-29 05:24:14+00:00\",\"2020-07-29 05:26:49+00:00\",\"2020-07-30 02:25:55+00:00\",\"2020-07-30 05:21:00+00:00\",\"2020-07-31 02:45:46+00:00\",\"2020-07-31 02:50:49+00:00\",\"2020-07-31 05:05:42+00:00\",\"2020-08-01 02:35:39+00:00\",\"2020-08-01 05:36:25+00:00\",\"2020-08-01 05:41:31+00:00\",\"2020-08-02 02:21:03+00:00\",\"2020-08-02 05:36:35+00:00\",\"2020-08-03 02:16:00+00:00\",\"2020-08-03 02:21:26+00:00\",\"2020-08-03 05:26:28+00:00\",\"2020-08-04 01:56:07+00:00\",\"2020-08-04 05:46:29+00:00\",\"2020-08-05 02:31:32+00:00\",\"2020-08-05 05:25:34+00:00\",\"2020-08-05 05:51:25+00:00\",\"2020-08-05 08:20:38+00:00\",\"2020-08-05 16:50:31+00:00\",\"2020-08-06 02:25:53+00:00\",\"2020-08-06 05:26:17+00:00\",\"2020-08-06 06:55:49+00:00\",\"2020-08-06 08:16:06+00:00\",\"2020-08-06 20:16:01+00:00\",\"2020-08-06 20:51:13+00:00\",\"2020-08-06 23:11:04+00:00\",\"2020-08-07 03:11:34+00:00\",\"2020-08-07 03:26:13+00:00\",\"2020-08-07 05:41:05+00:00\",\"2020-08-08 02:15:55+00:00\",\"2020-08-08 05:16:44+00:00\",\"2020-08-08 09:36:37+00:00\",\"2020-08-09 01:56:24+00:00\",\"2020-08-09 05:15:38+00:00\",\"2020-08-10 02:36:00+00:00\",\"2020-08-10 05:25:57+00:00\",\"2020-08-10 05:30:33+00:00\",\"2020-08-11 03:04:21+00:00\",\"2020-08-11 05:19:46+00:00\",\"2020-08-12 01:56:17+00:00\",\"2020-08-12 05:36:26+00:00\",\"2020-08-13 02:56:44+00:00\",\"2020-08-13 05:35:54+00:00\",\"2020-08-14 02:32:07+00:00\",\"2020-08-14 05:51:15+00:00\",\"2020-08-16 02:06:26+00:00\",\"2020-08-16 05:11:57+00:00\",\"2020-08-17 02:05:52+00:00\",\"2020-08-17 05:20:45+00:00\",\"2020-08-18 02:32:00+00:00\",\"2020-08-18 02:35:50+00:00\",\"2020-08-18 05:26:24+00:00\",\"2020-08-19 02:36:20+00:00\",\"2020-08-19 06:06:00+00:00\",\"2020-07-29 20:11:27+00:00\"],\"y_index\":[1,1,1,1,1,1,1,1,1,1,1,1,1,1,1,1,1,1,1,1,1,1,1,1,1,1,1,1,1,1,1,1,1,1,1,1,1,1,1,1,1,1,1,1,1,1,1,1,1,1,1,1,1,1,1,1,1,1,1,1,1,1,1,1,1,1,1,1,1,1,1,1,1,1,1,1,1,1,1,1,1,1,1,1,1,1,1,1,1,1,1,1,1,1,1,1,1,1,1,1,1,1,1,1,1,1,1,1,1,1,1,1,1,1,1,1,1,1,1,1,1,1,1,1,1,1,1,1,1,1,1,1,1,1,1,1,1,1,1,1,1,1,1,1,1,1]},\"selected\":{\"id\":\"2135\"},\"selection_policy\":{\"id\":\"2136\"}},\"id\":\"2089\",\"type\":\"ColumnDataSource\"},{\"attributes\":{\"source\":{\"id\":\"2089\"}},\"id\":\"2094\",\"type\":\"CDSView\"},{\"attributes\":{},\"id\":\"2039\",\"type\":\"LinearScale\"},{\"attributes\":{\"below\":[{\"id\":\"2041\"}],\"center\":[{\"id\":\"2044\"},{\"id\":\"2048\"}],\"left\":[{\"id\":\"2045\"}],\"min_border_left\":50,\"plot_height\":300,\"plot_width\":900,\"renderers\":[{\"id\":\"2068\"}],\"title\":{\"id\":\"2031\"},\"toolbar\":{\"id\":\"2055\"},\"toolbar_location\":\"above\",\"x_range\":{\"id\":\"2033\"},\"x_scale\":{\"id\":\"2037\"},\"y_range\":{\"id\":\"2035\"},\"y_scale\":{\"id\":\"2039\"}},\"id\":\"2030\",\"subtype\":\"Figure\",\"type\":\"Plot\"},{\"attributes\":{},\"id\":\"2079\",\"type\":\"LinearScale\"},{\"attributes\":{\"data_source\":{\"id\":\"2089\"},\"glyph\":{\"id\":\"2091\"},\"hover_glyph\":null,\"muted_glyph\":null,\"nonselection_glyph\":{\"id\":\"2092\"},\"selection_glyph\":null,\"view\":{\"id\":\"2094\"}},\"id\":\"2093\",\"type\":\"GlyphRenderer\"},{\"attributes\":{},\"id\":\"2120\",\"type\":\"Selection\"},{\"attributes\":{\"fill_alpha\":{\"value\":0.1},\"fill_color\":{\"value\":\"navy\"},\"line_alpha\":{\"value\":0.1},\"line_color\":{\"value\":\"navy\"},\"x\":{\"field\":\"begin\"},\"y\":{\"field\":\"rarest_window3_likelihood\"}},\"id\":\"2067\",\"type\":\"Circle\"},{\"attributes\":{\"fill_color\":{\"value\":\"blue\"},\"line_color\":{\"value\":\"blue\"},\"x\":{\"field\":\"begin\"},\"y\":{\"field\":\"y_index\"}},\"id\":\"2091\",\"type\":\"Circle\"},{\"attributes\":{\"bottom_units\":\"screen\",\"fill_alpha\":0.5,\"fill_color\":\"lightgrey\",\"left_units\":\"screen\",\"level\":\"overlay\",\"line_alpha\":1.0,\"line_color\":\"black\",\"line_dash\":[4,4],\"line_width\":2,\"right_units\":\"screen\",\"top_units\":\"screen\"},\"id\":\"2054\",\"type\":\"BoxAnnotation\"},{\"attributes\":{\"data\":{\"ClientIP\":[\"nan\",\"nan\",\"nan\",\"nan\",\"nan\",\"nan\",\"nan\",\"nan\",\"nan\",\"nan\",\"nan\",\"nan\",\"nan\",\"nan\",\"nan\",\"nan\",\"nan\",\"nan\",\"nan\",\"nan\",\"nan\",\"nan\",\"nan\",\"nan\",\"nan\",\"nan\",\"nan\",\"nan\",\"nan\",\"nan\",\"nan\",\"nan\",\"nan\",\"nan\",\"nan\",\"nan\",\"nan\",\"nan\",\"nan\",\"nan\",\"nan\",\"nan\",\"nan\",\"nan\",\"nan\",\"nan\",\"nan\",\"nan\",\"nan\",\"nan\",\"nan\",\"nan\",\"nan\",\"nan\",\"nan\",\"nan\",\"nan\",\"nan\",\"nan\",\"nan\",\"nan\",\"nan\",\"nan\",\"nan\",\"nan\",\"nan\",\"nan\",\"nan\",\"nan\",\"nan\",\"nan\",\"nan\",\"nan\",\"nan\",\"nan\",\"nan\",\"nan\",\"nan\",\"nan\",\"nan\",\"nan\",\"nan\",\"nan\",\"nan\",\"nan\",\"nan\",\"nan\",\"nan\",\"nan\",\"nan\",\"nan\",\"nan\",\"nan\",\"nan\",\"nan\",\"nan\",\"nan\",\"nan\",\"nan\",\"nan\",\"nan\",\"nan\",\"nan\",\"nan\",\"nan\",\"nan\",\"nan\",\"nan\",\"nan\",\"nan\",\"nan\",\"nan\",\"nan\",\"nan\",\"nan\",\"nan\",\"nan\",\"nan\",\"nan\",\"nan\",\"nan\",\"nan\",\"nan\",\"nan\",\"nan\",\"nan\",\"nan\",\"nan\",\"nan\",\"nan\",\"nan\",\"nan\",\"nan\",\"nan\",\"nan\",\"nan\",\"nan\",\"nan\",\"nan\",\"nan\",\"nan\",\"nan\",\"nan\",\"nan\",\"nan\",\"20.185.182.48:37965\"],\"UserId\":[\"NAMPRD06\\\\Administrator (Microsoft.Office.Datacenter.Torus.PowerShellWorker)\",\"NAMPRD06\\\\Administrator (Microsoft.Office.Datacenter.Torus.PowerShellWorker)\",\"NAMPRD06\\\\Administrator (Microsoft.Office.Datacenter.Torus.PowerShellWorker)\",\"NAMPRD06\\\\Administrator (Microsoft.Office.Datacenter.Torus.PowerShellWorker)\",\"NAMPRD06\\\\Administrator (Microsoft.Office.Datacenter.Torus.PowerShellWorker)\",\"NAMPRD06\\\\Administrator (Microsoft.Office.Datacenter.Torus.PowerShellWorker)\",\"NAMPRD06\\\\Administrator (Microsoft.Office.Datacenter.Torus.PowerShellWorker)\",\"NAMPRD06\\\\Administrator (Microsoft.Office.Datacenter.Torus.PowerShellWorker)\",\"NAMPRD06\\\\Administrator (Microsoft.Office.Datacenter.Torus.PowerShellWorker)\",\"NAMPRD06\\\\Administrator (Microsoft.Office.Datacenter.Torus.PowerShellWorker)\",\"NAMPRD06\\\\Administrator (Microsoft.Office.Datacenter.Torus.PowerShellWorker)\",\"NAMPRD06\\\\Administrator (Microsoft.Office.Datacenter.Torus.PowerShellWorker)\",\"NAMPRD06\\\\Administrator (Microsoft.Office.Datacenter.Torus.PowerShellWorker)\",\"NAMPRD06\\\\Administrator (Microsoft.Office.Datacenter.Torus.PowerShellWorker)\",\"NAMPRD06\\\\Administrator (Microsoft.Office.Datacenter.Torus.PowerShellWorker)\",\"NAMPRD06\\\\Administrator (Microsoft.Office.Datacenter.Torus.PowerShellWorker)\",\"NAMPRD06\\\\Administrator (Microsoft.Office.Datacenter.Torus.PowerShellWorker)\",\"NAMPRD06\\\\Administrator (Microsoft.Office.Datacenter.Torus.PowerShellWorker)\",\"NAMPRD06\\\\Administrator (Microsoft.Office.Datacenter.Torus.PowerShellWorker)\",\"NAMPRD06\\\\Administrator (Microsoft.Office.Datacenter.Torus.PowerShellWorker)\",\"NAMPRD06\\\\Administrator (Microsoft.Office.Datacenter.Torus.PowerShellWorker)\",\"NAMPRD06\\\\Administrator (Microsoft.Office.Datacenter.Torus.PowerShellWorker)\",\"NAMPRD06\\\\Administrator (Microsoft.Office.Datacenter.Torus.PowerShellWorker)\",\"NAMPRD06\\\\Administrator (Microsoft.Office.Datacenter.Torus.PowerShellWorker)\",\"NAMPRD06\\\\Administrator (Microsoft.Office.Datacenter.Torus.PowerShellWorker)\",\"NAMPRD06\\\\Administrator (Microsoft.Office.Datacenter.Torus.PowerShellWorker)\",\"NAMPRD06\\\\Administrator (Microsoft.Office.Datacenter.Torus.PowerShellWorker)\",\"NAMPRD06\\\\Administrator (Microsoft.Office.Datacenter.Torus.PowerShellWorker)\",\"NAMPRD06\\\\Administrator (Microsoft.Office.Datacenter.Torus.PowerShellWorker)\",\"NAMPRD06\\\\Administrator (Microsoft.Office.Datacenter.Torus.PowerShellWorker)\",\"NAMPRD06\\\\Administrator (Microsoft.Office.Datacenter.Torus.PowerShellWorker)\",\"NAMPRD06\\\\Administrator (Microsoft.Office.Datacenter.Torus.PowerShellWorker)\",\"NAMPRD06\\\\Administrator (Microsoft.Office.Datacenter.Torus.PowerShellWorker)\",\"NAMPRD06\\\\Administrator (Microsoft.Office.Datacenter.Torus.PowerShellWorker)\",\"NAMPRD06\\\\Administrator (Microsoft.Office.Datacenter.Torus.PowerShellWorker)\",\"NAMPRD06\\\\Administrator (Microsoft.Office.Datacenter.Torus.PowerShellWorker)\",\"NAMPRD06\\\\Administrator (Microsoft.Office.Datacenter.Torus.PowerShellWorker)\",\"NAMPRD06\\\\Administrator (Microsoft.Office.Datacenter.Torus.PowerShellWorker)\",\"NAMPRD06\\\\Administrator (Microsoft.Office.Datacenter.Torus.PowerShellWorker)\",\"NAMPRD06\\\\Administrator (Microsoft.Office.Datacenter.Torus.PowerShellWorker)\",\"NAMPRD06\\\\Administrator (Microsoft.Office.Datacenter.Torus.PowerShellWorker)\",\"NAMPRD06\\\\Administrator (Microsoft.Office.Datacenter.Torus.PowerShellWorker)\",\"NAMPRD06\\\\Administrator (Microsoft.Office.Datacenter.Torus.PowerShellWorker)\",\"NAMPRD06\\\\Administrator (Microsoft.Office.Datacenter.Torus.PowerShellWorker)\",\"NAMPRD06\\\\Administrator (Microsoft.Office.Datacenter.Torus.PowerShellWorker)\",\"NAMPRD06\\\\Administrator (Microsoft.Office.Datacenter.Torus.PowerShellWorker)\",\"NAMPRD06\\\\Administrator (Microsoft.Office.Datacenter.Torus.PowerShellWorker)\",\"NAMPRD06\\\\Administrator (Microsoft.Office.Datacenter.Torus.PowerShellWorker)\",\"NAMPRD06\\\\Administrator (Microsoft.Office.Datacenter.Torus.PowerShellWorker)\",\"NAMPRD06\\\\Administrator (Microsoft.Office.Datacenter.Torus.PowerShellWorker)\",\"NAMPRD06\\\\Administrator (Microsoft.Office.Datacenter.Torus.PowerShellWorker)\",\"NAMPRD06\\\\Administrator (Microsoft.Office.Datacenter.Torus.PowerShellWorker)\",\"NAMPRD06\\\\Administrator (Microsoft.Office.Datacenter.Torus.PowerShellWorker)\",\"NAMPRD06\\\\Administrator (Microsoft.Office.Datacenter.Torus.PowerShellWorker)\",\"NAMPRD06\\\\Administrator (Microsoft.Office.Datacenter.Torus.PowerShellWorker)\",\"NAMPRD06\\\\Administrator (Microsoft.Office.Datacenter.Torus.PowerShellWorker)\",\"NAMPRD06\\\\Administrator (Microsoft.Office.Datacenter.Torus.PowerShellWorker)\",\"NAMPRD06\\\\Administrator (Microsoft.Office.Datacenter.Torus.PowerShellWorker)\",\"NAMPRD06\\\\Administrator (Microsoft.Office.Datacenter.Torus.PowerShellWorker)\",\"NAMPRD06\\\\Administrator (Microsoft.Office.Datacenter.Torus.PowerShellWorker)\",\"NAMPRD06\\\\Administrator (Microsoft.Office.Datacenter.Torus.PowerShellWorker)\",\"NAMPRD06\\\\Administrator (Microsoft.Office.Datacenter.Torus.PowerShellWorker)\",\"NAMPRD06\\\\Administrator (Microsoft.Office.Datacenter.Torus.PowerShellWorker)\",\"NAMPRD06\\\\Administrator (Microsoft.Office.Datacenter.Torus.PowerShellWorker)\",\"NAMPRD06\\\\Administrator (Microsoft.Office.Datacenter.Torus.PowerShellWorker)\",\"NAMPRD06\\\\Administrator (Microsoft.Office.Datacenter.Torus.PowerShellWorker)\",\"NAMPRD06\\\\Administrator (Microsoft.Office.Datacenter.Torus.PowerShellWorker)\",\"NAMPRD06\\\\Administrator (Microsoft.Office.Datacenter.Torus.PowerShellWorker)\",\"NAMPRD06\\\\Administrator (Microsoft.Office.Datacenter.Torus.PowerShellWorker)\",\"NAMPRD06\\\\Administrator (Microsoft.Office.Datacenter.Torus.PowerShellWorker)\",\"NAMPRD06\\\\Administrator (Microsoft.Office.Datacenter.Torus.PowerShellWorker)\",\"NAMPRD06\\\\Administrator (Microsoft.Office.Datacenter.Torus.PowerShellWorker)\",\"NAMPRD06\\\\Administrator (Microsoft.Office.Datacenter.Torus.PowerShellWorker)\",\"NAMPRD06\\\\Administrator (Microsoft.Office.Datacenter.Torus.PowerShellWorker)\",\"NAMPRD06\\\\Administrator (Microsoft.Office.Datacenter.Torus.PowerShellWorker)\",\"NAMPRD06\\\\Administrator (Microsoft.Office.Datacenter.Torus.PowerShellWorker)\",\"NAMPRD06\\\\Administrator (Microsoft.Office.Datacenter.Torus.PowerShellWorker)\",\"NAMPRD06\\\\Administrator (Microsoft.Office.Datacenter.Torus.PowerShellWorker)\",\"NAMPRD06\\\\Administrator (Microsoft.Office.Datacenter.Torus.PowerShellWorker)\",\"NAMPRD06\\\\Administrator (Microsoft.Office.Datacenter.Torus.PowerShellWorker)\",\"NAMPRD06\\\\Administrator (Microsoft.Office.Datacenter.Torus.PowerShellWorker)\",\"NAMPRD06\\\\Administrator (Microsoft.Office.Datacenter.Torus.PowerShellWorker)\",\"NAMPRD06\\\\Administrator (Microsoft.Office.Datacenter.Torus.PowerShellWorker)\",\"NAMPRD06\\\\Administrator (Microsoft.Office.Datacenter.Torus.PowerShellWorker)\",\"NAMPRD06\\\\Administrator (Microsoft.Office.Datacenter.Torus.PowerShellWorker)\",\"NAMPRD06\\\\Administrator (Microsoft.Office.Datacenter.Torus.PowerShellWorker)\",\"NAMPRD06\\\\Administrator (Microsoft.Office.Datacenter.Torus.PowerShellWorker)\",\"NAMPRD06\\\\Administrator (Microsoft.Office.Datacenter.Torus.PowerShellWorker)\",\"NAMPRD06\\\\Administrator (Microsoft.Office.Datacenter.Torus.PowerShellWorker)\",\"NAMPRD06\\\\Administrator (Microsoft.Office.Datacenter.Torus.PowerShellWorker)\",\"NAMPRD06\\\\Administrator (Microsoft.Office.Datacenter.Torus.PowerShellWorker)\",\"NAMPRD06\\\\Administrator (Microsoft.Office.Datacenter.Torus.PowerShellWorker)\",\"NAMPRD06\\\\Administrator (Microsoft.Office.Datacenter.Torus.PowerShellWorker)\",\"NAMPRD06\\\\Administrator (Microsoft.Office.Datacenter.Torus.PowerShellWorker)\",\"NAMPRD06\\\\Administrator (Microsoft.Office.Datacenter.Torus.PowerShellWorker)\",\"NAMPRD06\\\\Administrator (Microsoft.Office.Datacenter.Torus.PowerShellWorker)\",\"NAMPRD06\\\\Administrator (Microsoft.Office.Datacenter.Torus.PowerShellWorker)\",\"NAMPRD06\\\\Administrator (Microsoft.Office.Datacenter.Torus.PowerShellWorker)\",\"NAMPRD06\\\\Administrator (Microsoft.Office.Datacenter.Torus.PowerShellWorker)\",\"NAMPRD06\\\\Administrator (Microsoft.Office.Datacenter.Torus.PowerShellWorker)\",\"NAMPRD06\\\\Administrator (Microsoft.Office.Datacenter.Torus.PowerShellWorker)\",\"NAMPRD06\\\\Administrator (Microsoft.Office.Datacenter.Torus.PowerShellWorker)\",\"NAMPRD06\\\\Administrator (Microsoft.Office.Datacenter.Torus.PowerShellWorker)\",\"NAMPRD06\\\\Administrator (Microsoft.Office.Datacenter.Torus.PowerShellWorker)\",\"NAMPRD06\\\\Administrator (Microsoft.Office.Datacenter.Torus.PowerShellWorker)\",\"NAMPRD06\\\\Administrator (Microsoft.Office.Datacenter.Torus.PowerShellWorker)\",\"NAMPRD06\\\\Administrator (Microsoft.Office.Datacenter.Torus.PowerShellWorker)\",\"NAMPRD06\\\\Administrator (Microsoft.Office.Datacenter.Torus.PowerShellWorker)\",\"NAMPRD06\\\\Administrator (Microsoft.Office.Datacenter.Torus.PowerShellWorker)\",\"NAMPRD06\\\\Administrator (Microsoft.Office.Datacenter.Torus.PowerShellWorker)\",\"NAMPRD06\\\\Administrator (Microsoft.Office.Datacenter.Torus.PowerShellWorker)\",\"NAMPRD06\\\\Administrator (Microsoft.Office.Datacenter.Torus.PowerShellWorker)\",\"NAMPRD06\\\\Administrator (Microsoft.Office.Datacenter.Torus.PowerShellWorker)\",\"NAMPRD06\\\\Administrator (Microsoft.Office.Datacenter.Torus.PowerShellWorker)\",\"NAMPRD06\\\\Administrator (Microsoft.Office.Datacenter.Torus.PowerShellWorker)\",\"NAMPRD06\\\\Administrator (Microsoft.Office.Datacenter.Torus.PowerShellWorker)\",\"NAMPRD06\\\\Administrator (Microsoft.Office.Datacenter.Torus.PowerShellWorker)\",\"NAMPRD06\\\\Administrator (Microsoft.Office.Datacenter.Torus.PowerShellWorker)\",\"NAMPRD06\\\\Administrator (Microsoft.Office.Datacenter.Torus.PowerShellWorker)\",\"NAMPRD06\\\\Administrator (Microsoft.Office.Datacenter.Torus.PowerShellWorker)\",\"NAMPRD06\\\\Administrator (Microsoft.Office.Datacenter.Torus.PowerShellWorker)\",\"NAMPRD06\\\\Administrator (Microsoft.Office.Datacenter.Torus.PowerShellWorker)\",\"NAMPRD06\\\\Administrator (Microsoft.Office.Datacenter.Torus.PowerShellWorker)\",\"NAMPRD06\\\\Administrator (Microsoft.Office.Datacenter.Torus.PowerShellWorker)\",\"NAMPRD06\\\\Administrator (Microsoft.Office.Datacenter.Torus.PowerShellWorker)\",\"NAMPRD06\\\\Administrator (Microsoft.Office.Datacenter.Torus.PowerShellWorker)\",\"NAMPRD06\\\\Administrator (Microsoft.Office.Datacenter.Torus.PowerShellWorker)\",\"NAMPRD06\\\\Administrator (Microsoft.Office.Datacenter.Torus.PowerShellWorker)\",\"NAMPRD06\\\\Administrator (Microsoft.Office.Datacenter.Torus.PowerShellWorker)\",\"NAMPRD06\\\\Administrator (Microsoft.Office.Datacenter.Torus.PowerShellWorker)\",\"NAMPRD06\\\\Administrator (Microsoft.Office.Datacenter.Torus.PowerShellWorker)\",\"NAMPRD06\\\\Administrator (Microsoft.Office.Datacenter.Torus.PowerShellWorker)\",\"NAMPRD06\\\\Administrator (Microsoft.Office.Datacenter.Torus.PowerShellWorker)\",\"NAMPRD06\\\\Administrator (Microsoft.Office.Datacenter.Torus.PowerShellWorker)\",\"NAMPRD06\\\\Administrator (Microsoft.Office.Datacenter.Torus.PowerShellWorker)\",\"NAMPRD06\\\\Administrator (Microsoft.Office.Datacenter.Torus.PowerShellWorker)\",\"NAMPRD06\\\\Administrator (Microsoft.Office.Datacenter.Torus.PowerShellWorker)\",\"NAMPRD06\\\\Administrator (Microsoft.Office.Datacenter.Torus.PowerShellWorker)\",\"NAMPRD06\\\\Administrator (Microsoft.Office.Datacenter.Torus.PowerShellWorker)\",\"NAMPRD06\\\\Administrator (Microsoft.Office.Datacenter.Torus.PowerShellWorker)\",\"NAMPRD06\\\\Administrator (Microsoft.Office.Datacenter.Torus.PowerShellWorker)\",\"NAMPRD06\\\\Administrator (Microsoft.Office.Datacenter.Torus.PowerShellWorker)\",\"NAMPRD06\\\\Administrator (Microsoft.Office.Datacenter.Torus.PowerShellWorker)\",\"NAMPRD06\\\\Administrator (Microsoft.Office.Datacenter.Torus.PowerShellWorker)\",\"NAMPRD06\\\\Administrator (Microsoft.Office.Datacenter.Torus.PowerShellWorker)\",\"timvic@contoso.onmicrosoft.com\"],\"begin\":{\"__ndarray__\":\"AADjw0std0IAAG/EVS13QgAACZydLXdCAAA2050td0IAgPEgpi13QgAAukLwLXdCAACTyPotd0IAgP3nQC53QgCA4T9BLndCAABjW0wud0IAAEsmlC53QgAAC27rLndCAABrmfYud0IAgOMbOi93QgCAJ2Q6L3dCAIAG9UIvd0IAgMLqiy93QgAAvzaWL3dCAICsgpYvd0IAgOzx3C93QgAASpzmL3dCAICc7OYvd0IAgOHgLzB3QgAAUiwwMHdCAICKbjowd0IAAK9pgTB3QgCAaiKNMHdCAIAW99Qwd0IAAC9u3jB3QgCA8KUoMXdCAIAx8TIxd0IAgJRveTF3QgCAMYKDMXdCAIDxI8wxd0IAAHFv1jF3QgCAdRwdMndCAAA93yYyd0IAAMwacDJ3QgAAL8LEMndCAACUE80yd0IAgGtxFzN3QgCAQmVqM3dCAICN3nMzd0IAAGpiuzN3QgAABpDEM3dCAABu0sQzd0IAgP07DzR3QgAA86MYNHdCAICZoWI0d0IAANlWazR3QgAAaqdrNHdCAACdG7U0d0IAAFI2vTR3QgAA6q4GNXdCAAAMnQ81d0IAAMTsVzV3QgCAwERgNXdCAICRtGA1d0IAgNlvqDV3QgCAhqmyNXdCAIBr7LI1d0IAgJp4BjZ3QgCAl7lZNndCAACt9aA2d0IAgBLgrTZ3QgAAEoXyNndCAID9Qfw2d0IAgIQrRTd3QgAALYVPN3dCAIBY4Zc3d0IAgDclmDd3QgAAyQKfN3dCAIC5eqI3d0IAgLom6zd3QgCA/GjzN3dCAAD87zw4d0IAACwjSDh3QgAA/PGPOHdCAIAeSpA4d0IAgB6RmTh3QgCA6OPgOHdCAIDAfus4d0IAgGoAMzl3QgCA2Hw+OXdCAIDhuT45d0IAgKICPzl3QgAAO0qEOXdCAIC4bIc5d0IAAINzkDl3QgCAWpmQOXdCAIAzpdg5d0IAAOap4jl3QgAAuS0sOndCAICydyw6d0IAAIcvNDp3QgCAR/99OndCAIA6V4g6d0IAgO+hiDp3QgCAKY/POndCAIBrv9o6d0IAAPCqITt3QgAAh/ohO3dCAAD6kCw7d0IAgG3tcjt3QgCA8BuAO3dCAAD6Wcc7d0IAAEtP0Tt3QgCA9MnSO3dCAAC/U9s7d0IAgL2A+Dt3QgCA9mwZPHdCAICKvyM8d0IAgBDfKDx3QgAAF3ctPHdCAIC+qFY8d0IAgF6sWDx3QgAA9KxgPHdCAADnb248d0IAgIBGbzx3QgCAFv52PHdCAIB3pr08d0IAACb/xzx3QgCACN7WPHdCAABU7g49d0IAAMlUGj13QgAAKJhjPXdCAICoUW09d0IAgAqVbT13QgCAMJ23PXdCAADVXL89d0IAgN4dBj53QgAAubYSPndCAAAe+Vs+d0IAAKkUZT53QgCARfasPndCAIBDW7g+d0IAAI1JUD93QgCAFOdaP3dCAAAAp6I/d0IAgLzNrT93QgAAkIv2P3dCAAC3w/Y/d0IAAECGAEB3QgAAyjBJQHdCAAAUMFVAd0IAgNk3wzl3Qg==\",\"dtype\":\"float64\",\"order\":\"little\",\"shape\":[146]},\"color\":[\"navy\",\"navy\",\"navy\",\"navy\",\"navy\",\"navy\",\"navy\",\"navy\",\"navy\",\"navy\",\"navy\",\"navy\",\"navy\",\"navy\",\"navy\",\"navy\",\"navy\",\"navy\",\"navy\",\"navy\",\"navy\",\"navy\",\"navy\",\"navy\",\"navy\",\"navy\",\"navy\",\"navy\",\"navy\",\"navy\",\"navy\",\"navy\",\"navy\",\"navy\",\"navy\",\"navy\",\"navy\",\"navy\",\"navy\",\"navy\",\"navy\",\"navy\",\"navy\",\"navy\",\"navy\",\"navy\",\"navy\",\"navy\",\"navy\",\"navy\",\"navy\",\"navy\",\"navy\",\"navy\",\"navy\",\"navy\",\"navy\",\"navy\",\"navy\",\"navy\",\"navy\",\"navy\",\"navy\",\"navy\",\"navy\",\"navy\",\"navy\",\"navy\",\"navy\",\"navy\",\"navy\",\"navy\",\"navy\",\"navy\",\"navy\",\"navy\",\"navy\",\"navy\",\"navy\",\"navy\",\"navy\",\"navy\",\"navy\",\"navy\",\"navy\",\"navy\",\"navy\",\"navy\",\"navy\",\"navy\",\"navy\",\"navy\",\"navy\",\"navy\",\"navy\",\"navy\",\"navy\",\"navy\",\"navy\",\"navy\",\"navy\",\"navy\",\"navy\",\"navy\",\"navy\",\"navy\",\"navy\",\"navy\",\"navy\",\"navy\",\"navy\",\"navy\",\"navy\",\"navy\",\"navy\",\"navy\",\"navy\",\"navy\",\"navy\",\"navy\",\"navy\",\"navy\",\"navy\",\"navy\",\"navy\",\"navy\",\"navy\",\"navy\",\"navy\",\"navy\",\"navy\",\"navy\",\"navy\",\"navy\",\"navy\",\"navy\",\"navy\",\"navy\",\"navy\",\"navy\",\"navy\",\"navy\",\"navy\",\"navy\",\"navy\",\"navy\"],\"index\":[0,1,2,3,4,5,6,7,8,9,10,11,12,13,14,15,16,17,18,19,20,21,22,23,24,25,26,27,28,29,30,31,32,33,34,35,36,37,38,39,40,41,42,43,44,45,46,47,48,49,50,51,52,53,54,55,56,57,58,59,60,61,62,63,64,65,66,67,68,69,70,71,72,73,74,75,76,77,78,79,80,81,82,83,84,85,86,87,88,89,90,91,92,93,94,95,96,97,98,99,100,101,102,103,104,105,106,107,108,109,110,111,112,113,114,115,116,117,118,119,120,121,122,123,124,125,126,127,128,129,130,131,132,133,134,135,136,137,138,139,140,141,142,143,144,145],\"rarest_window3\":[[\"Cmd(name='Set-ConditionalAccessPolicy', params={'Identity': 'seccxpninja.onmicrosoft.com\\\\\\\\bcd93f74-64fd-4042-a3ae-ee6d48886d6d', 'PolicyDetails': '{\\\"Version\\\":0,\\\"State\\\":\\\"Enabled\\\",\\\"Conditions\\\":{\\\"Applications\\\":{\\\"Include\\\":[{\\\"Applications\\\":[\\\"c9a559d2-7aab-4f13-a6ed-e7e9c52aec87\\\"]}]},\\\"Users\\\":{\\\"Include\\\":[{\\\"Users\\\":[\\\"bdb72692-2275-412b-8af0-ea21c2ebd174\\\",\\\"eababd92-9dc7-40e3-9359-6c106522db19\\\"]}]}},\\\"SessionControls\\\":[\\\"CloudAppSecurity\\\"],\\\"PersistentBrowserSessionMode\\\":\\\"NotSet\\\",\\\"EnforceAllPoliciesForEas\\\":false,\\\"IncludeOtherLegacyClientTypeForEvaluation\\\":false,\\\"CasSessionControlType\\\":3}', 'PolicyLastUpdatedTime': '6/21/2020 2:26:14 AM', 'TenantDefaultPolicy': '', 'DisplayName': 'Form MCAS', 'PolicyIdentifierString': ''})\",\"Cmd(name='Set-ConditionalAccessPolicy', params={'Identity': 'seccxpninja.onmicrosoft.com\\\\\\\\83a057fb-dbca-4ba8-bb5f-0ce6d6e7cff5', 'PolicyDetails': '{\\\"Version\\\":0,\\\"State\\\":\\\"Enabled\\\",\\\"Conditions\\\":{\\\"Applications\\\":{\\\"Include\\\":[{\\\"Acrs\\\":[\\\"urn:microsoft:req1\\\"]}]},\\\"Users\\\":{\\\"Include\\\":[{\\\"Users\\\":[\\\"eababd92-9dc7-40e3-9359-6c106522db19\\\"]}]}},\\\"Controls\\\":[{\\\"Control\\\":[\\\"Mfa\\\"]}],\\\"PersistentBrowserSessionMode\\\":\\\"NotSet\\\",\\\"EnforceAllPoliciesForEas\\\":false,\\\"IncludeOtherLegacyClientTypeForEvaluation\\\":false}', 'PolicyLastUpdatedTime': '6/21/2020 2:26:14 AM', 'TenantDefaultPolicy': '', 'DisplayName': 'MeganB MCAS Step-up', 'PolicyIdentifierString': ''})\"],[\"Cmd(name='Set-ConditionalAccessPolicy', params={'Identity': 'seccxpninja.onmicrosoft.com\\\\\\\\e183bd29-a3a3-4f91-a5a3-b83b21a544df', 'PolicyDetails': '{\\\"Version\\\":0,\\\"State\\\":\\\"Enabled\\\",\\\"Conditions\\\":{\\\"Applications\\\":{\\\"Include\\\":[{\\\"Applications\\\":[\\\"00000002-0000-0ff1-ce00-000000000000\\\"]}]},\\\"Users\\\":{\\\"Include\\\":[{\\\"Users\\\":[\\\"2935e535-8fdf-4217-865b-e084cb7214f1\\\"]}]}},\\\"SessionControls\\\":[\\\"AppEnforcedRestrictions\\\"],\\\"PersistentBrowserSessionMode\\\":\\\"NotSet\\\",\\\"EnforceAllPoliciesForEas\\\":false,\\\"IncludeOtherLegacyClientTypeForEvaluation\\\":false}', 'PolicyLastUpdatedTime': '6/21/2020 5:24:55 AM', 'TenantDefaultPolicy': '', 'DisplayName': 'JulianI Exchange native controls', 'PolicyIdentifierString': ''})\",\"Cmd(name='Set-ConditionalAccessPolicy', params={'Identity': 'seccxpninja.onmicrosoft.com\\\\\\\\8837fdaa-aaeb-4432-9622-43f6f583d583', 'PolicyDetails': '{\\\"KnownNetworkPolicies\\\":{\\\"NetworkName\\\":\\\"BE-Office\\\",\\\"NetworkId\\\":\\\"b98b9088-ce88-4fae-80fb-5b58cb1ce685\\\",\\\"CidrIpRanges\\\":[\\\"109.88.218.99/28\\\"],\\\"CountryIsoCodes\\\":null,\\\"Categories\\\":[],\\\"ApplyToUnknownCountry\\\":false}}', 'PolicyLastUpdatedTime': '6/21/2020 5:24:55 AM', 'TenantDefaultPolicy': '6', 'DisplayName': 'Known Networks List', 'PolicyIdentifierString': '3/19/2020 7:45:08 PM'})\"],[\"Cmd(name='Set-ConditionalAccessPolicy', params={'Identity': 'seccxpninja.onmicrosoft.com\\\\\\\\8872f6fb-da88-4b63-bcc7-17247669596b', 'PolicyDetails': '{\\\"Version\\\":0,\\\"State\\\":\\\"Enabled\\\",\\\"Conditions\\\":{\\\"Applications\\\":{\\\"Include\\\":[{\\\"Applications\\\":[\\\"00000002-0000-0ff1-ce00-000000000000\\\",\\\"09abbdfd-ed23-44ee-a2d9-a627aa1c90f3\\\",\\\"cc15fd57-2c6c-4117-a88c-83b1d56b4bbe\\\",\\\"00000003-0000-0ff1-ce00-000000000000\\\",\\\"00000005-0000-0ff1-ce00-000000000000\\\"]}]},\\\"Users\\\":{\\\"Include\\\":[{\\\"Users\\\":[\\\"eababd92-9dc7-40e3-9359-6c106522db19\\\"]}]}},\\\"SessionControls\\\":[\\\"CloudAppSecurity\\\"],\\\"PersistentBrowserSessionMode\\\":\\\"NotSet\\\",\\\"EnforceAllPoliciesForEas\\\":false,\\\"IncludeOtherLegacyClientTypeForEvaluation\\\":false,\\\"CasSessionControlType\\\":1}', 'PolicyLastUpdatedTime': '6/22/2020 2:19:55 AM', 'TenantDefaultPolicy': '', 'DisplayName': 'MeganB MCAS Proxy', 'PolicyIdentifierString': ''})\",\"Cmd(name='Set-ConditionalAccessPolicy', params={'Identity': 'seccxpninja.onmicrosoft.com\\\\\\\\8872f6fb-da88-4b63-bcc7-17247669596b', 'PolicyDetails': '{\\\"Version\\\":0,\\\"State\\\":\\\"Enabled\\\",\\\"Conditions\\\":{\\\"Applications\\\":{\\\"Include\\\":[{\\\"Applications\\\":[\\\"00000002-0000-0ff1-ce00-000000000000\\\",\\\"09abbdfd-ed23-44ee-a2d9-a627aa1c90f3\\\",\\\"cc15fd57-2c6c-4117-a88c-83b1d56b4bbe\\\",\\\"00000003-0000-0ff1-ce00-000000000000\\\",\\\"00000005-0000-0ff1-ce00-000000000000\\\"]}]},\\\"Users\\\":{\\\"Include\\\":[{\\\"Users\\\":[\\\"eababd92-9dc7-40e3-9359-6c106522db19\\\"]}]}},\\\"SessionControls\\\":[\\\"CloudAppSecurity\\\"],\\\"PersistentBrowserSessionMode\\\":\\\"NotSet\\\",\\\"EnforceAllPoliciesForEas\\\":false,\\\"IncludeOtherLegacyClientTypeForEvaluation\\\":false,\\\"CasSessionControlType\\\":1}', 'PolicyLastUpdatedTime': '6/22/2020 2:19:55 AM', 'TenantDefaultPolicy': '', 'DisplayName': 'MeganB MCAS Proxy', 'PolicyIdentifierString': ''})\"],[\"Cmd(name='Set-ConditionalAccessPolicy', params={'Identity': 'seccxpninja.onmicrosoft.com\\\\\\\\3b13ea3c-c733-4eb8-bd19-67d308b2ea04', 'PolicyDetails': '{\\\"Version\\\":0,\\\"CreatedDateTime\\\":\\\"2020-05-19T13:34:15.2394934Z\\\",\\\"ModifiedDateTime\\\":\\\"2020-05-19T13:39:04.7333386Z\\\",\\\"State\\\":\\\"Reporting\\\",\\\"Conditions\\\":{\\\"Applications\\\":{\\\"Include\\\":[{\\\"Applications\\\":[\\\"None\\\"]}]},\\\"Users\\\":{\\\"Include\\\":[{\\\"Users\\\":[\\\"Guests\\\"]}]},\\\"DevicePlatforms\\\":{\\\"Include\\\":[{\\\"DevicePlatforms\\\":[\\\"All\\\"]}],\\\"Exclude\\\":[{\\\"DevicePlatforms\\\":[\\\"Android\\\",\\\"iOS\\\",\\\"macOS\\\"]}]},\\\"ClientTypes\\\":{\\\"Include\\\":[{\\\"ClientTypes\\\":[\\\"Browser\\\",\\\"Native\\\"]}]}},\\\"Controls\\\":[{\\\"Control\\\":[\\\"Mfa\\\",\\\"RequireCompliantDevice\\\"]}]}', 'PolicyLastUpdatedTime': '6/22/2020 2:19:59 AM', 'TenantDefaultPolicy': '', 'DisplayName': 'Yanivsh -CA Test', 'PolicyIdentifierString': ''})\",\"Cmd(name='Set-ConditionalAccessPolicy', params={'Identity': 'seccxpninja.onmicrosoft.com\\\\\\\\8837fdaa-aaeb-4432-9622-43f6f583d583', 'PolicyDetails': '{\\\"KnownNetworkPolicies\\\":{\\\"NetworkName\\\":\\\"BE-Office\\\",\\\"NetworkId\\\":\\\"b98b9088-ce88-4fae-80fb-5b58cb1ce685\\\",\\\"CidrIpRanges\\\":[\\\"109.88.218.99/28\\\"],\\\"CountryIsoCodes\\\":null,\\\"Categories\\\":[],\\\"ApplyToUnknownCountry\\\":false}}', 'PolicyLastUpdatedTime': '6/22/2020 2:19:59 AM', 'TenantDefaultPolicy': '6', 'DisplayName': 'Known Networks List', 'PolicyIdentifierString': '3/19/2020 7:45:08 PM'})\"],[\"Cmd(name='Set-ConditionalAccessPolicy', params={'Identity': 'seccxpninja.onmicrosoft.com\\\\\\\\bcd93f74-64fd-4042-a3ae-ee6d48886d6d', 'PolicyDetails': '{\\\"Version\\\":0,\\\"State\\\":\\\"Enabled\\\",\\\"Conditions\\\":{\\\"Applications\\\":{\\\"Include\\\":[{\\\"Applications\\\":[\\\"c9a559d2-7aab-4f13-a6ed-e7e9c52aec87\\\"]}]},\\\"Users\\\":{\\\"Include\\\":[{\\\"Users\\\":[\\\"bdb72692-2275-412b-8af0-ea21c2ebd174\\\",\\\"eababd92-9dc7-40e3-9359-6c106522db19\\\"]}]}},\\\"SessionControls\\\":[\\\"CloudAppSecurity\\\"],\\\"PersistentBrowserSessionMode\\\":\\\"NotSet\\\",\\\"EnforceAllPoliciesForEas\\\":false,\\\"IncludeOtherLegacyClientTypeForEvaluation\\\":false,\\\"CasSessionControlType\\\":3}', 'PolicyLastUpdatedTime': '6/22/2020 4:47:52 AM', 'TenantDefaultPolicy': '', 'DisplayName': 'Form MCAS', 'PolicyIdentifierString': ''})\",\"Cmd(name='Set-ConditionalAccessPolicy', params={'Identity': 'seccxpninja.onmicrosoft.com\\\\\\\\3b13ea3c-c733-4eb8-bd19-67d308b2ea04', 'PolicyDetails': '{\\\"Version\\\":0,\\\"CreatedDateTime\\\":\\\"2020-05-19T13:34:15.2394934Z\\\",\\\"ModifiedDateTime\\\":\\\"2020-05-19T13:39:04.7333386Z\\\",\\\"State\\\":\\\"Reporting\\\",\\\"Conditions\\\":{\\\"Applications\\\":{\\\"Include\\\":[{\\\"Applications\\\":[\\\"None\\\"]}]},\\\"Users\\\":{\\\"Include\\\":[{\\\"Users\\\":[\\\"Guests\\\"]}]},\\\"DevicePlatforms\\\":{\\\"Include\\\":[{\\\"DevicePlatforms\\\":[\\\"All\\\"]}],\\\"Exclude\\\":[{\\\"DevicePlatforms\\\":[\\\"Android\\\",\\\"iOS\\\",\\\"macOS\\\"]}]},\\\"ClientTypes\\\":{\\\"Include\\\":[{\\\"ClientTypes\\\":[\\\"Browser\\\",\\\"Native\\\"]}]}},\\\"Controls\\\":[{\\\"Control\\\":[\\\"Mfa\\\",\\\"RequireCompliantDevice\\\"]}]}', 'PolicyLastUpdatedTime': '6/22/2020 4:47:53 AM', 'TenantDefaultPolicy': '', 'DisplayName': 'Yanivsh -CA Test', 'PolicyIdentifierString': ''})\"],[\"Cmd(name='Set-ConditionalAccessPolicy', params={'Identity': 'seccxpninja.onmicrosoft.com\\\\\\\\ba36f0a4-6d73-4ba4-9282-3b3c14575e36', 'PolicyDetails': '{\\\"Version\\\":0,\\\"ModifiedDateTime\\\":\\\"2020-05-19T13:31:41.7083504Z\\\",\\\"State\\\":\\\"Disabled\\\",\\\"Conditions\\\":{\\\"Applications\\\":{\\\"Include\\\":[{\\\"Applications\\\":[\\\"00000002-0000-0ff1-ce00-000000000000\\\",\\\"00000003-0000-0ff1-ce00-000000000000\\\"]}]},\\\"Users\\\":{\\\"Include\\\":[{\\\"Users\\\":[\\\"2935e535-8fdf-4217-865b-e084cb7214f1\\\"]}]},\\\"DevicePlatforms\\\":{\\\"Include\\\":[{\\\"DevicePlatforms\\\":[\\\"All\\\"]}],\\\"Exclude\\\":[{\\\"DevicePlatforms\\\":[\\\"Android\\\",\\\"iOS\\\",\\\"macOS\\\"]}]},\\\"ClientTypes\\\":{\\\"Include\\\":[{\\\"ClientTypes\\\":[\\\"Browser\\\",\\\"Native\\\"]}]}},\\\"SessionControls\\\":[\\\"CloudAppSecurity\\\"],\\\"CasSessionControlType\\\":1}', 'PolicyLastUpdatedTime': '6/23/2020 2:22:04 AM', 'TenantDefaultPolicy': '', 'DisplayName': 'Block Access JulianI', 'PolicyIdentifierString': ''})\",\"Cmd(name='Set-ConditionalAccessPolicy', params={'Identity': 'seccxpninja.onmicrosoft.com\\\\\\\\6490d00c-7ba1-42cf-aa88-99eb71d53bf7', 'PolicyDetails': '{\\\"Version\\\":0,\\\"LastUpdatedTimestamp\\\":\\\"2020-06-11T12:45:19.4695224Z\\\",\\\"State\\\":\\\"Disabled\\\",\\\"SignInFrequency\\\":\\\"NotSet\\\",\\\"PersistentBrowserSessionMode\\\":\\\"NotSet\\\"}', 'PolicyLastUpdatedTime': '6/23/2020 2:22:03 AM', 'TenantDefaultPolicy': '18', 'DisplayName': 'Default Policy', 'PolicyIdentifierString': '5/19/2020 1:39:05 PM'})\"],[\"Cmd(name='Set-ConditionalAccessPolicy', params={'Identity': 'seccxpninja.onmicrosoft.com\\\\\\\\83a057fb-dbca-4ba8-bb5f-0ce6d6e7cff5', 'PolicyDetails': '{\\\"Version\\\":0,\\\"State\\\":\\\"Enabled\\\",\\\"Conditions\\\":{\\\"Applications\\\":{\\\"Include\\\":[{\\\"Acrs\\\":[\\\"urn:microsoft:req1\\\"]}]},\\\"Users\\\":{\\\"Include\\\":[{\\\"Users\\\":[\\\"eababd92-9dc7-40e3-9359-6c106522db19\\\"]}]}},\\\"Controls\\\":[{\\\"Control\\\":[\\\"Mfa\\\"]}],\\\"PersistentBrowserSessionMode\\\":\\\"NotSet\\\",\\\"EnforceAllPoliciesForEas\\\":false,\\\"IncludeOtherLegacyClientTypeForEvaluation\\\":false}', 'PolicyLastUpdatedTime': '6/23/2020 5:22:45 AM', 'TenantDefaultPolicy': '', 'DisplayName': 'MeganB MCAS Step-up', 'PolicyIdentifierString': ''})\",\"Cmd(name='Set-ConditionalAccessPolicy', params={'Identity': 'seccxpninja.onmicrosoft.com\\\\\\\\bcd93f74-64fd-4042-a3ae-ee6d48886d6d', 'PolicyDetails': '{\\\"Version\\\":0,\\\"State\\\":\\\"Enabled\\\",\\\"Conditions\\\":{\\\"Applications\\\":{\\\"Include\\\":[{\\\"Applications\\\":[\\\"c9a559d2-7aab-4f13-a6ed-e7e9c52aec87\\\"]}]},\\\"Users\\\":{\\\"Include\\\":[{\\\"Users\\\":[\\\"bdb72692-2275-412b-8af0-ea21c2ebd174\\\",\\\"eababd92-9dc7-40e3-9359-6c106522db19\\\"]}]}},\\\"SessionControls\\\":[\\\"CloudAppSecurity\\\"],\\\"PersistentBrowserSessionMode\\\":\\\"NotSet\\\",\\\"EnforceAllPoliciesForEas\\\":false,\\\"IncludeOtherLegacyClientTypeForEvaluation\\\":false,\\\"CasSessionControlType\\\":3}', 'PolicyLastUpdatedTime': '6/23/2020 5:22:45 AM', 'TenantDefaultPolicy': '', 'DisplayName': 'Form MCAS', 'PolicyIdentifierString': ''})\"],[\"Cmd(name='Set-ConditionalAccessPolicy', params={'Identity': 'seccxpninja.onmicrosoft.com\\\\\\\\8872f6fb-da88-4b63-bcc7-17247669596b', 'PolicyDetails': '{\\\"Version\\\":0,\\\"State\\\":\\\"Enabled\\\",\\\"Conditions\\\":{\\\"Applications\\\":{\\\"Include\\\":[{\\\"Applications\\\":[\\\"00000002-0000-0ff1-ce00-000000000000\\\",\\\"09abbdfd-ed23-44ee-a2d9-a627aa1c90f3\\\",\\\"cc15fd57-2c6c-4117-a88c-83b1d56b4bbe\\\",\\\"00000003-0000-0ff1-ce00-000000000000\\\",\\\"00000005-0000-0ff1-ce00-000000000000\\\"]}]},\\\"Users\\\":{\\\"Include\\\":[{\\\"Users\\\":[\\\"eababd92-9dc7-40e3-9359-6c106522db19\\\"]}]}},\\\"SessionControls\\\":[\\\"CloudAppSecurity\\\"],\\\"PersistentBrowserSessionMode\\\":\\\"NotSet\\\",\\\"EnforceAllPoliciesForEas\\\":false,\\\"IncludeOtherLegacyClientTypeForEvaluation\\\":false,\\\"CasSessionControlType\\\":1}', 'PolicyLastUpdatedTime': '6/24/2020 1:55:12 AM', 'TenantDefaultPolicy': '', 'DisplayName': 'MeganB MCAS Proxy', 'PolicyIdentifierString': ''})\",\"Cmd(name='Set-ConditionalAccessPolicy', params={'Identity': 'seccxpninja.onmicrosoft.com\\\\\\\\8872f6fb-da88-4b63-bcc7-17247669596b', 'PolicyDetails': '{\\\"Version\\\":0,\\\"State\\\":\\\"Enabled\\\",\\\"Conditions\\\":{\\\"Applications\\\":{\\\"Include\\\":[{\\\"Applications\\\":[\\\"00000002-0000-0ff1-ce00-000000000000\\\",\\\"09abbdfd-ed23-44ee-a2d9-a627aa1c90f3\\\",\\\"cc15fd57-2c6c-4117-a88c-83b1d56b4bbe\\\",\\\"00000003-0000-0ff1-ce00-000000000000\\\",\\\"00000005-0000-0ff1-ce00-000000000000\\\"]}]},\\\"Users\\\":{\\\"Include\\\":[{\\\"Users\\\":[\\\"eababd92-9dc7-40e3-9359-6c106522db19\\\"]}]}},\\\"SessionControls\\\":[\\\"CloudAppSecurity\\\"],\\\"PersistentBrowserSessionMode\\\":\\\"NotSet\\\",\\\"EnforceAllPoliciesForEas\\\":false,\\\"IncludeOtherLegacyClientTypeForEvaluation\\\":false,\\\"CasSessionControlType\\\":1}', 'PolicyLastUpdatedTime': '6/24/2020 1:55:12 AM', 'TenantDefaultPolicy': '', 'DisplayName': 'MeganB MCAS Proxy', 'PolicyIdentifierString': ''})\"],[\"Cmd(name='Set-ConditionalAccessPolicy', params={'Identity': 'seccxpninja.onmicrosoft.com\\\\\\\\b2915792-0396-4abe-94ec-e17fa17243c5', 'PolicyDetails': '{\\\"Version\\\":0,\\\"State\\\":\\\"Enabled\\\",\\\"Conditions\\\":{\\\"Applications\\\":{\\\"Include\\\":[{\\\"Applications\\\":[\\\"94c63fef-13a3-47bc-8074-75af8c65887a\\\",\\\"c9a559d2-7aab-4f13-a6ed-e7e9c52aec87\\\"]}]},\\\"Users\\\":{\\\"Include\\\":[{\\\"Users\\\":[\\\"bdb72692-2275-412b-8af0-ea21c2ebd174\\\",\\\"eababd92-9dc7-40e3-9359-6c106522db19\\\"]}]},\\\"SignInRisks\\\":{\\\"Include\\\":[{\\\"SignInRisks\\\":[\\\"High\\\",\\\"Medium\\\",\\\"Low\\\"]}]}},\\\"SessionControls\\\":[\\\"CloudAppSecurity\\\"],\\\"PersistentBrowserSessionMode\\\":\\\"NotSet\\\",\\\"EnforceAllPoliciesForEas\\\":false,\\\"IncludeOtherLegacyClientTypeForEvaluation\\\":false,\\\"CasSessionControlType\\\":3}', 'PolicyLastUpdatedTime': '6/24/2020 1:55:13 AM', 'TenantDefaultPolicy': '', 'DisplayName': 'GBB demo', 'PolicyIdentifierString': ''})\",\"Cmd(name='Set-ConditionalAccessPolicy', params={'Identity': 'seccxpninja.onmicrosoft.com\\\\\\\\bcd93f74-64fd-4042-a3ae-ee6d48886d6d', 'PolicyDetails': '{\\\"Version\\\":0,\\\"State\\\":\\\"Enabled\\\",\\\"Conditions\\\":{\\\"Applications\\\":{\\\"Include\\\":[{\\\"Applications\\\":[\\\"c9a559d2-7aab-4f13-a6ed-e7e9c52aec87\\\"]}]},\\\"Users\\\":{\\\"Include\\\":[{\\\"Users\\\":[\\\"bdb72692-2275-412b-8af0-ea21c2ebd174\\\",\\\"eababd92-9dc7-40e3-9359-6c106522db19\\\"]}]}},\\\"SessionControls\\\":[\\\"CloudAppSecurity\\\"],\\\"PersistentBrowserSessionMode\\\":\\\"NotSet\\\",\\\"EnforceAllPoliciesForEas\\\":false,\\\"IncludeOtherLegacyClientTypeForEvaluation\\\":false,\\\"CasSessionControlType\\\":3}', 'PolicyLastUpdatedTime': '6/24/2020 1:55:13 AM', 'TenantDefaultPolicy': '', 'DisplayName': 'Form MCAS', 'PolicyIdentifierString': ''})\"],[\"Cmd(name='Set-ConditionalAccessPolicy', params={'Identity': 'seccxpninja.onmicrosoft.com\\\\\\\\8872f6fb-da88-4b63-bcc7-17247669596b', 'PolicyDetails': '{\\\"Version\\\":0,\\\"State\\\":\\\"Enabled\\\",\\\"Conditions\\\":{\\\"Applications\\\":{\\\"Include\\\":[{\\\"Applications\\\":[\\\"00000002-0000-0ff1-ce00-000000000000\\\",\\\"09abbdfd-ed23-44ee-a2d9-a627aa1c90f3\\\",\\\"cc15fd57-2c6c-4117-a88c-83b1d56b4bbe\\\",\\\"00000003-0000-0ff1-ce00-000000000000\\\",\\\"00000005-0000-0ff1-ce00-000000000000\\\"]}]},\\\"Users\\\":{\\\"Include\\\":[{\\\"Users\\\":[\\\"eababd92-9dc7-40e3-9359-6c106522db19\\\"]}]}},\\\"SessionControls\\\":[\\\"CloudAppSecurity\\\"],\\\"PersistentBrowserSessionMode\\\":\\\"NotSet\\\",\\\"EnforceAllPoliciesForEas\\\":false,\\\"IncludeOtherLegacyClientTypeForEvaluation\\\":false,\\\"CasSessionControlType\\\":1}', 'PolicyLastUpdatedTime': '6/24/2020 5:12:12 AM', 'TenantDefaultPolicy': '', 'DisplayName': 'MeganB MCAS Proxy', 'PolicyIdentifierString': ''})\",\"Cmd(name='Set-ConditionalAccessPolicy', params={'Identity': 'seccxpninja.onmicrosoft.com\\\\\\\\4c5a5ea0-5d9f-4730-baaa-7a69cf29ef26', 'PolicyDetails': '{\\\"Version\\\":0,\\\"State\\\":\\\"Enabled\\\",\\\"Conditions\\\":{\\\"Applications\\\":{\\\"Include\\\":[{\\\"Applications\\\":[\\\"All\\\"]}]},\\\"Users\\\":{\\\"Include\\\":[{\\\"Users\\\":[\\\"bdb72692-2275-412b-8af0-ea21c2ebd174\\\"]}]}},\\\"Controls\\\":[{\\\"Control\\\":[\\\"Mfa\\\"]}],\\\"PersistentBrowserSessionMode\\\":\\\"NotSet\\\",\\\"EnforceAllPoliciesForEas\\\":false,\\\"IncludeOtherLegacyClientTypeForEvaluation\\\":false}', 'PolicyLastUpdatedTime': '6/24/2020 5:12:15 AM', 'TenantDefaultPolicy': '', 'DisplayName': 'Semolen - Admin MFA', 'PolicyIdentifierString': ''})\"],[\"Cmd(name='Set-ConditionalAccessPolicy', params={'Identity': 'seccxpninja.onmicrosoft.com\\\\\\\\e183bd29-a3a3-4f91-a5a3-b83b21a544df', 'PolicyDetails': '{\\\"Version\\\":0,\\\"State\\\":\\\"Enabled\\\",\\\"Conditions\\\":{\\\"Applications\\\":{\\\"Include\\\":[{\\\"Applications\\\":[\\\"00000002-0000-0ff1-ce00-000000000000\\\"]}]},\\\"Users\\\":{\\\"Include\\\":[{\\\"Users\\\":[\\\"2935e535-8fdf-4217-865b-e084cb7214f1\\\"]}]}},\\\"SessionControls\\\":[\\\"AppEnforcedRestrictions\\\"],\\\"PersistentBrowserSessionMode\\\":\\\"NotSet\\\",\\\"EnforceAllPoliciesForEas\\\":false,\\\"IncludeOtherLegacyClientTypeForEvaluation\\\":false}', 'PolicyLastUpdatedTime': '6/25/2020 2:07:28 AM', 'TenantDefaultPolicy': '', 'DisplayName': 'JulianI Exchange native controls', 'PolicyIdentifierString': ''})\",\"Cmd(name='Set-ConditionalAccessPolicy', params={'Identity': 'seccxpninja.onmicrosoft.com\\\\\\\\8837fdaa-aaeb-4432-9622-43f6f583d583', 'PolicyDetails': '{\\\"KnownNetworkPolicies\\\":{\\\"NetworkName\\\":\\\"BE-Office\\\",\\\"NetworkId\\\":\\\"b98b9088-ce88-4fae-80fb-5b58cb1ce685\\\",\\\"CidrIpRanges\\\":[\\\"109.88.218.99/28\\\"],\\\"CountryIsoCodes\\\":null,\\\"Categories\\\":[],\\\"ApplyToUnknownCountry\\\":false}}', 'PolicyLastUpdatedTime': '6/25/2020 2:07:28 AM', 'TenantDefaultPolicy': '6', 'DisplayName': 'Known Networks List', 'PolicyIdentifierString': '3/19/2020 7:45:08 PM'})\"],[\"Cmd(name='Set-ConditionalAccessPolicy', params={'Identity': 'seccxpninja.onmicrosoft.com\\\\\\\\235bec94-f744-48ac-8314-5675953d2def', 'PolicyDetails': '{\\\"Version\\\":0,\\\"State\\\":\\\"Disabled\\\",\\\"Conditions\\\":{\\\"Applications\\\":{\\\"Include\\\":[{\\\"Applications\\\":[\\\"All\\\"]}]},\\\"Users\\\":{\\\"Include\\\":[{\\\"Users\\\":[\\\"eababd92-9dc7-40e3-9359-6c106522db19\\\"]}]},\\\"DevicePlatforms\\\":{\\\"Include\\\":[{\\\"DevicePlatforms\\\":[\\\"All\\\"]}],\\\"Exclude\\\":[{\\\"DevicePlatforms\\\":[\\\"macOS\\\"]}]}},\\\"Controls\\\":[{\\\"Control\\\":[\\\"Mfa\\\"]}],\\\"PersistentBrowserSessionMode\\\":\\\"NotSet\\\",\\\"EnforceAllPoliciesForEas\\\":false,\\\"IncludeOtherLegacyClientTypeForEvaluation\\\":false}', 'PolicyLastUpdatedTime': '6/26/2020 3:33:06 AM', 'TenantDefaultPolicy': '', 'DisplayName': 'Megan MFA demo', 'PolicyIdentifierString': ''})\",\"Cmd(name='Set-ConditionalAccessPolicy', params={'Identity': 'seccxpninja.onmicrosoft.com\\\\\\\\8872f6fb-da88-4b63-bcc7-17247669596b', 'PolicyDetails': '{\\\"Version\\\":0,\\\"State\\\":\\\"Enabled\\\",\\\"Conditions\\\":{\\\"Applications\\\":{\\\"Include\\\":[{\\\"Applications\\\":[\\\"00000002-0000-0ff1-ce00-000000000000\\\",\\\"09abbdfd-ed23-44ee-a2d9-a627aa1c90f3\\\",\\\"cc15fd57-2c6c-4117-a88c-83b1d56b4bbe\\\",\\\"00000003-0000-0ff1-ce00-000000000000\\\",\\\"00000005-0000-0ff1-ce00-000000000000\\\"]}]},\\\"Users\\\":{\\\"Include\\\":[{\\\"Users\\\":[\\\"eababd92-9dc7-40e3-9359-6c106522db19\\\"]}]}},\\\"SessionControls\\\":[\\\"CloudAppSecurity\\\"],\\\"PersistentBrowserSessionMode\\\":\\\"NotSet\\\",\\\"EnforceAllPoliciesForEas\\\":false,\\\"IncludeOtherLegacyClientTypeForEvaluation\\\":false,\\\"CasSessionControlType\\\":1}', 'PolicyLastUpdatedTime': '6/26/2020 3:33:05 AM', 'TenantDefaultPolicy': '', 'DisplayName': 'MeganB MCAS Proxy', 'PolicyIdentifierString': ''})\"],[\"Cmd(name='Set-ConditionalAccessPolicy', params={'Identity': 'seccxpninja.onmicrosoft.com\\\\\\\\e183bd29-a3a3-4f91-a5a3-b83b21a544df', 'PolicyDetails': '{\\\"Version\\\":0,\\\"State\\\":\\\"Enabled\\\",\\\"Conditions\\\":{\\\"Applications\\\":{\\\"Include\\\":[{\\\"Applications\\\":[\\\"00000002-0000-0ff1-ce00-000000000000\\\"]}]},\\\"Users\\\":{\\\"Include\\\":[{\\\"Users\\\":[\\\"2935e535-8fdf-4217-865b-e084cb7214f1\\\"]}]}},\\\"SessionControls\\\":[\\\"AppEnforcedRestrictions\\\"],\\\"PersistentBrowserSessionMode\\\":\\\"NotSet\\\",\\\"EnforceAllPoliciesForEas\\\":false,\\\"IncludeOtherLegacyClientTypeForEvaluation\\\":false}', 'PolicyLastUpdatedTime': '6/26/2020 6:48:26 AM', 'TenantDefaultPolicy': '', 'DisplayName': 'JulianI Exchange native controls', 'PolicyIdentifierString': ''})\",\"Cmd(name='Set-ConditionalAccessPolicy', params={'Identity': 'seccxpninja.onmicrosoft.com\\\\\\\\3b13ea3c-c733-4eb8-bd19-67d308b2ea04', 'PolicyDetails': '{\\\"Version\\\":0,\\\"CreatedDateTime\\\":\\\"2020-05-19T13:34:15.2394934Z\\\",\\\"ModifiedDateTime\\\":\\\"2020-05-19T13:39:04.7333386Z\\\",\\\"State\\\":\\\"Reporting\\\",\\\"Conditions\\\":{\\\"Applications\\\":{\\\"Include\\\":[{\\\"Applications\\\":[\\\"None\\\"]}]},\\\"Users\\\":{\\\"Include\\\":[{\\\"Users\\\":[\\\"Guests\\\"]}]},\\\"DevicePlatforms\\\":{\\\"Include\\\":[{\\\"DevicePlatforms\\\":[\\\"All\\\"]}],\\\"Exclude\\\":[{\\\"DevicePlatforms\\\":[\\\"Android\\\",\\\"iOS\\\",\\\"macOS\\\"]}]},\\\"ClientTypes\\\":{\\\"Include\\\":[{\\\"ClientTypes\\\":[\\\"Browser\\\",\\\"Native\\\"]}]}},\\\"Controls\\\":[{\\\"Control\\\":[\\\"Mfa\\\",\\\"RequireCompliantDevice\\\"]}]}', 'PolicyLastUpdatedTime': '6/26/2020 6:48:26 AM', 'TenantDefaultPolicy': '', 'DisplayName': 'Yanivsh -CA Test', 'PolicyIdentifierString': ''})\"],[\"Cmd(name='Set-ConditionalAccessPolicy', params={'Identity': 'seccxpninja.onmicrosoft.com\\\\\\\\8872f6fb-da88-4b63-bcc7-17247669596b', 'PolicyDetails': '{\\\"Version\\\":0,\\\"State\\\":\\\"Enabled\\\",\\\"Conditions\\\":{\\\"Applications\\\":{\\\"Include\\\":[{\\\"Applications\\\":[\\\"00000002-0000-0ff1-ce00-000000000000\\\",\\\"09abbdfd-ed23-44ee-a2d9-a627aa1c90f3\\\",\\\"cc15fd57-2c6c-4117-a88c-83b1d56b4bbe\\\",\\\"00000003-0000-0ff1-ce00-000000000000\\\",\\\"00000005-0000-0ff1-ce00-000000000000\\\"]}]},\\\"Users\\\":{\\\"Include\\\":[{\\\"Users\\\":[\\\"eababd92-9dc7-40e3-9359-6c106522db19\\\"]}]}},\\\"SessionControls\\\":[\\\"CloudAppSecurity\\\"],\\\"PersistentBrowserSessionMode\\\":\\\"NotSet\\\",\\\"EnforceAllPoliciesForEas\\\":false,\\\"IncludeOtherLegacyClientTypeForEvaluation\\\":false,\\\"CasSessionControlType\\\":1}', 'PolicyLastUpdatedTime': '6/27/2020 2:30:20 AM', 'TenantDefaultPolicy': '', 'DisplayName': 'MeganB MCAS Proxy', 'PolicyIdentifierString': ''})\",\"Cmd(name='Set-ConditionalAccessPolicy', params={'Identity': 'seccxpninja.onmicrosoft.com\\\\\\\\8872f6fb-da88-4b63-bcc7-17247669596b', 'PolicyDetails': '{\\\"Version\\\":0,\\\"State\\\":\\\"Enabled\\\",\\\"Conditions\\\":{\\\"Applications\\\":{\\\"Include\\\":[{\\\"Applications\\\":[\\\"00000002-0000-0ff1-ce00-000000000000\\\",\\\"09abbdfd-ed23-44ee-a2d9-a627aa1c90f3\\\",\\\"cc15fd57-2c6c-4117-a88c-83b1d56b4bbe\\\",\\\"00000003-0000-0ff1-ce00-000000000000\\\",\\\"00000005-0000-0ff1-ce00-000000000000\\\"]}]},\\\"Users\\\":{\\\"Include\\\":[{\\\"Users\\\":[\\\"eababd92-9dc7-40e3-9359-6c106522db19\\\"]}]}},\\\"SessionControls\\\":[\\\"CloudAppSecurity\\\"],\\\"PersistentBrowserSessionMode\\\":\\\"NotSet\\\",\\\"EnforceAllPoliciesForEas\\\":false,\\\"IncludeOtherLegacyClientTypeForEvaluation\\\":false,\\\"CasSessionControlType\\\":1}', 'PolicyLastUpdatedTime': '6/27/2020 2:30:20 AM', 'TenantDefaultPolicy': '', 'DisplayName': 'MeganB MCAS Proxy', 'PolicyIdentifierString': ''})\"],[\"Cmd(name='Set-ConditionalAccessPolicy', params={'Identity': 'seccxpninja.onmicrosoft.com\\\\\\\\235bec94-f744-48ac-8314-5675953d2def', 'PolicyDetails': '{\\\"Version\\\":0,\\\"State\\\":\\\"Disabled\\\",\\\"Conditions\\\":{\\\"Applications\\\":{\\\"Include\\\":[{\\\"Applications\\\":[\\\"All\\\"]}]},\\\"Users\\\":{\\\"Include\\\":[{\\\"Users\\\":[\\\"eababd92-9dc7-40e3-9359-6c106522db19\\\"]}]},\\\"DevicePlatforms\\\":{\\\"Include\\\":[{\\\"DevicePlatforms\\\":[\\\"All\\\"]}],\\\"Exclude\\\":[{\\\"DevicePlatforms\\\":[\\\"macOS\\\"]}]}},\\\"Controls\\\":[{\\\"Control\\\":[\\\"Mfa\\\"]}],\\\"PersistentBrowserSessionMode\\\":\\\"NotSet\\\",\\\"EnforceAllPoliciesForEas\\\":false,\\\"IncludeOtherLegacyClientTypeForEvaluation\\\":false}', 'PolicyLastUpdatedTime': '6/27/2020 2:30:20 AM', 'TenantDefaultPolicy': '', 'DisplayName': 'Megan MFA demo', 'PolicyIdentifierString': ''})\",\"Cmd(name='Set-ConditionalAccessPolicy', params={'Identity': 'seccxpninja.onmicrosoft.com\\\\\\\\bcd93f74-64fd-4042-a3ae-ee6d48886d6d', 'PolicyDetails': '{\\\"Version\\\":0,\\\"State\\\":\\\"Enabled\\\",\\\"Conditions\\\":{\\\"Applications\\\":{\\\"Include\\\":[{\\\"Applications\\\":[\\\"c9a559d2-7aab-4f13-a6ed-e7e9c52aec87\\\"]}]},\\\"Users\\\":{\\\"Include\\\":[{\\\"Users\\\":[\\\"bdb72692-2275-412b-8af0-ea21c2ebd174\\\",\\\"eababd92-9dc7-40e3-9359-6c106522db19\\\"]}]}},\\\"SessionControls\\\":[\\\"CloudAppSecurity\\\"],\\\"PersistentBrowserSessionMode\\\":\\\"NotSet\\\",\\\"EnforceAllPoliciesForEas\\\":false,\\\"IncludeOtherLegacyClientTypeForEvaluation\\\":false,\\\"CasSessionControlType\\\":3}', 'PolicyLastUpdatedTime': '6/27/2020 2:30:20 AM', 'TenantDefaultPolicy': '', 'DisplayName': 'Form MCAS', 'PolicyIdentifierString': ''})\"],[\"Cmd(name='Set-ConditionalAccessPolicy', params={'Identity': 'seccxpninja.onmicrosoft.com\\\\\\\\83a057fb-dbca-4ba8-bb5f-0ce6d6e7cff5', 'PolicyDetails': '{\\\"Version\\\":0,\\\"State\\\":\\\"Enabled\\\",\\\"Conditions\\\":{\\\"Applications\\\":{\\\"Include\\\":[{\\\"Acrs\\\":[\\\"urn:microsoft:req1\\\"]}]},\\\"Users\\\":{\\\"Include\\\":[{\\\"Users\\\":[\\\"eababd92-9dc7-40e3-9359-6c106522db19\\\"]}]}},\\\"Controls\\\":[{\\\"Control\\\":[\\\"Mfa\\\"]}],\\\"PersistentBrowserSessionMode\\\":\\\"NotSet\\\",\\\"EnforceAllPoliciesForEas\\\":false,\\\"IncludeOtherLegacyClientTypeForEvaluation\\\":false}', 'PolicyLastUpdatedTime': '6/27/2020 5:00:44 AM', 'TenantDefaultPolicy': '', 'DisplayName': 'MeganB MCAS Step-up', 'PolicyIdentifierString': ''})\",\"Cmd(name='Set-ConditionalAccessPolicy', params={'Identity': 'seccxpninja.onmicrosoft.com\\\\\\\\5fd0c4ff-1cd7-4bf6-8607-294a04f58f12', 'PolicyDetails': '{\\\"Version\\\":0,\\\"State\\\":\\\"Disabled\\\",\\\"Conditions\\\":{\\\"Applications\\\":{\\\"Include\\\":[{\\\"Applications\\\":[\\\"All\\\"]}]},\\\"Users\\\":{\\\"Include\\\":[{\\\"Users\\\":[\\\"142512c7-f006-46ae-909c-14fa7bf6a887\\\"]}]}},\\\"Controls\\\":[{\\\"Control\\\":[\\\"Mfa\\\"]}],\\\"EnforceAllPoliciesForEas\\\":false,\\\"IncludeOtherLegacyClientTypeForEvaluation\\\":false}', 'PolicyLastUpdatedTime': '6/27/2020 5:00:44 AM', 'TenantDefaultPolicy': '', 'DisplayName': 'Azure MFA', 'PolicyIdentifierString': ''})\"],[\"Cmd(name='Set-ConditionalAccessPolicy', params={'Identity': 'seccxpninja.onmicrosoft.com\\\\\\\\5fd0c4ff-1cd7-4bf6-8607-294a04f58f12', 'PolicyDetails': '{\\\"Version\\\":0,\\\"State\\\":\\\"Disabled\\\",\\\"Conditions\\\":{\\\"Applications\\\":{\\\"Include\\\":[{\\\"Applications\\\":[\\\"All\\\"]}]},\\\"Users\\\":{\\\"Include\\\":[{\\\"Users\\\":[\\\"142512c7-f006-46ae-909c-14fa7bf6a887\\\"]}]}},\\\"Controls\\\":[{\\\"Control\\\":[\\\"Mfa\\\"]}],\\\"EnforceAllPoliciesForEas\\\":false,\\\"IncludeOtherLegacyClientTypeForEvaluation\\\":false}', 'PolicyLastUpdatedTime': '6/28/2020 2:15:28 AM', 'TenantDefaultPolicy': '', 'DisplayName': 'Azure MFA', 'PolicyIdentifierString': ''})\",\"Cmd(name='Set-ConditionalAccessPolicy', params={'Identity': 'seccxpninja.onmicrosoft.com\\\\\\\\5fd0c4ff-1cd7-4bf6-8607-294a04f58f12', 'PolicyDetails': '{\\\"Version\\\":0,\\\"State\\\":\\\"Disabled\\\",\\\"Conditions\\\":{\\\"Applications\\\":{\\\"Include\\\":[{\\\"Applications\\\":[\\\"All\\\"]}]},\\\"Users\\\":{\\\"Include\\\":[{\\\"Users\\\":[\\\"142512c7-f006-46ae-909c-14fa7bf6a887\\\"]}]}},\\\"Controls\\\":[{\\\"Control\\\":[\\\"Mfa\\\"]}],\\\"EnforceAllPoliciesForEas\\\":false,\\\"IncludeOtherLegacyClientTypeForEvaluation\\\":false}', 'PolicyLastUpdatedTime': '6/28/2020 2:15:28 AM', 'TenantDefaultPolicy': '', 'DisplayName': 'Azure MFA', 'PolicyIdentifierString': ''})\"],[\"Cmd(name='Set-ConditionalAccessPolicy', params={'Identity': 'seccxpninja.onmicrosoft.com\\\\\\\\bcd93f74-64fd-4042-a3ae-ee6d48886d6d', 'PolicyDetails': '{\\\"Version\\\":0,\\\"State\\\":\\\"Enabled\\\",\\\"Conditions\\\":{\\\"Applications\\\":{\\\"Include\\\":[{\\\"Applications\\\":[\\\"c9a559d2-7aab-4f13-a6ed-e7e9c52aec87\\\"]}]},\\\"Users\\\":{\\\"Include\\\":[{\\\"Users\\\":[\\\"bdb72692-2275-412b-8af0-ea21c2ebd174\\\",\\\"eababd92-9dc7-40e3-9359-6c106522db19\\\"]}]}},\\\"SessionControls\\\":[\\\"CloudAppSecurity\\\"],\\\"PersistentBrowserSessionMode\\\":\\\"NotSet\\\",\\\"EnforceAllPoliciesForEas\\\":false,\\\"IncludeOtherLegacyClientTypeForEvaluation\\\":false,\\\"CasSessionControlType\\\":3}', 'PolicyLastUpdatedTime': '6/28/2020 5:20:09 AM', 'TenantDefaultPolicy': '', 'DisplayName': 'Form MCAS', 'PolicyIdentifierString': ''})\",\"Cmd(name='Set-ConditionalAccessPolicy', params={'Identity': 'seccxpninja.onmicrosoft.com\\\\\\\\4c5a5ea0-5d9f-4730-baaa-7a69cf29ef26', 'PolicyDetails': '{\\\"Version\\\":0,\\\"State\\\":\\\"Enabled\\\",\\\"Conditions\\\":{\\\"Applications\\\":{\\\"Include\\\":[{\\\"Applications\\\":[\\\"All\\\"]}]},\\\"Users\\\":{\\\"Include\\\":[{\\\"Users\\\":[\\\"bdb72692-2275-412b-8af0-ea21c2ebd174\\\"]}]}},\\\"Controls\\\":[{\\\"Control\\\":[\\\"Mfa\\\"]}],\\\"PersistentBrowserSessionMode\\\":\\\"NotSet\\\",\\\"EnforceAllPoliciesForEas\\\":false,\\\"IncludeOtherLegacyClientTypeForEvaluation\\\":false}', 'PolicyLastUpdatedTime': '6/28/2020 5:20:10 AM', 'TenantDefaultPolicy': '', 'DisplayName': 'Semolen - Admin MFA', 'PolicyIdentifierString': ''})\"],[\"Cmd(name='Set-ConditionalAccessPolicy', params={'Identity': 'seccxpninja.onmicrosoft.com\\\\\\\\6490d00c-7ba1-42cf-aa88-99eb71d53bf7', 'PolicyDetails': '{\\\"Version\\\":0,\\\"LastUpdatedTimestamp\\\":\\\"2020-06-11T12:45:19.4695224Z\\\",\\\"State\\\":\\\"Disabled\\\",\\\"SignInFrequency\\\":\\\"NotSet\\\",\\\"PersistentBrowserSessionMode\\\":\\\"NotSet\\\"}', 'PolicyLastUpdatedTime': '6/28/2020 5:20:11 AM', 'TenantDefaultPolicy': '18', 'DisplayName': 'Default Policy', 'PolicyIdentifierString': '5/19/2020 1:39:05 PM'})\",\"Cmd(name='Set-ConditionalAccessPolicy', params={'Identity': 'seccxpninja.onmicrosoft.com\\\\\\\\6490d00c-7ba1-42cf-aa88-99eb71d53bf7', 'PolicyDetails': '{\\\"Version\\\":0,\\\"LastUpdatedTimestamp\\\":\\\"2020-06-11T12:45:19.4695224Z\\\",\\\"State\\\":\\\"Disabled\\\",\\\"SignInFrequency\\\":\\\"NotSet\\\",\\\"PersistentBrowserSessionMode\\\":\\\"NotSet\\\"}', 'PolicyLastUpdatedTime': '6/28/2020 5:20:11 AM', 'TenantDefaultPolicy': '18', 'DisplayName': 'Default Policy', 'PolicyIdentifierString': '5/19/2020 1:39:05 PM'})\"],[\"Cmd(name='Set-ConditionalAccessPolicy', params={'Identity': 'seccxpninja.onmicrosoft.com\\\\\\\\e183bd29-a3a3-4f91-a5a3-b83b21a544df', 'PolicyDetails': '{\\\"Version\\\":0,\\\"State\\\":\\\"Enabled\\\",\\\"Conditions\\\":{\\\"Applications\\\":{\\\"Include\\\":[{\\\"Applications\\\":[\\\"00000002-0000-0ff1-ce00-000000000000\\\"]}]},\\\"Users\\\":{\\\"Include\\\":[{\\\"Users\\\":[\\\"2935e535-8fdf-4217-865b-e084cb7214f1\\\"]}]}},\\\"SessionControls\\\":[\\\"AppEnforcedRestrictions\\\"],\\\"PersistentBrowserSessionMode\\\":\\\"NotSet\\\",\\\"EnforceAllPoliciesForEas\\\":false,\\\"IncludeOtherLegacyClientTypeForEvaluation\\\":false}', 'PolicyLastUpdatedTime': '6/29/2020 1:51:34 AM', 'TenantDefaultPolicy': '', 'DisplayName': 'JulianI Exchange native controls', 'PolicyIdentifierString': ''})\",\"Cmd(name='Set-ConditionalAccessPolicy', params={'Identity': 'seccxpninja.onmicrosoft.com\\\\\\\\3b13ea3c-c733-4eb8-bd19-67d308b2ea04', 'PolicyDetails': '{\\\"Version\\\":0,\\\"CreatedDateTime\\\":\\\"2020-05-19T13:34:15.2394934Z\\\",\\\"ModifiedDateTime\\\":\\\"2020-05-19T13:39:04.7333386Z\\\",\\\"State\\\":\\\"Reporting\\\",\\\"Conditions\\\":{\\\"Applications\\\":{\\\"Include\\\":[{\\\"Applications\\\":[\\\"None\\\"]}]},\\\"Users\\\":{\\\"Include\\\":[{\\\"Users\\\":[\\\"Guests\\\"]}]},\\\"DevicePlatforms\\\":{\\\"Include\\\":[{\\\"DevicePlatforms\\\":[\\\"All\\\"]}],\\\"Exclude\\\":[{\\\"DevicePlatforms\\\":[\\\"Android\\\",\\\"iOS\\\",\\\"macOS\\\"]}]},\\\"ClientTypes\\\":{\\\"Include\\\":[{\\\"ClientTypes\\\":[\\\"Browser\\\",\\\"Native\\\"]}]}},\\\"Controls\\\":[{\\\"Control\\\":[\\\"Mfa\\\",\\\"RequireCompliantDevice\\\"]}]}', 'PolicyLastUpdatedTime': '6/29/2020 1:51:34 AM', 'TenantDefaultPolicy': '', 'DisplayName': 'Yanivsh -CA Test', 'PolicyIdentifierString': ''})\"],[\"Cmd(name='Set-ConditionalAccessPolicy', params={'Identity': 'seccxpninja.onmicrosoft.com\\\\\\\\8872f6fb-da88-4b63-bcc7-17247669596b', 'PolicyDetails': '{\\\"Version\\\":0,\\\"State\\\":\\\"Enabled\\\",\\\"Conditions\\\":{\\\"Applications\\\":{\\\"Include\\\":[{\\\"Applications\\\":[\\\"00000002-0000-0ff1-ce00-000000000000\\\",\\\"09abbdfd-ed23-44ee-a2d9-a627aa1c90f3\\\",\\\"cc15fd57-2c6c-4117-a88c-83b1d56b4bbe\\\",\\\"00000003-0000-0ff1-ce00-000000000000\\\",\\\"00000005-0000-0ff1-ce00-000000000000\\\"]}]},\\\"Users\\\":{\\\"Include\\\":[{\\\"Users\\\":[\\\"eababd92-9dc7-40e3-9359-6c106522db19\\\"]}]}},\\\"SessionControls\\\":[\\\"CloudAppSecurity\\\"],\\\"PersistentBrowserSessionMode\\\":\\\"NotSet\\\",\\\"EnforceAllPoliciesForEas\\\":false,\\\"IncludeOtherLegacyClientTypeForEvaluation\\\":false,\\\"CasSessionControlType\\\":1}', 'PolicyLastUpdatedTime': '6/29/2020 4:43:10 AM', 'TenantDefaultPolicy': '', 'DisplayName': 'MeganB MCAS Proxy', 'PolicyIdentifierString': ''})\",\"Cmd(name='Set-ConditionalAccessPolicy', params={'Identity': 'seccxpninja.onmicrosoft.com\\\\\\\\8872f6fb-da88-4b63-bcc7-17247669596b', 'PolicyDetails': '{\\\"Version\\\":0,\\\"State\\\":\\\"Enabled\\\",\\\"Conditions\\\":{\\\"Applications\\\":{\\\"Include\\\":[{\\\"Applications\\\":[\\\"00000002-0000-0ff1-ce00-000000000000\\\",\\\"09abbdfd-ed23-44ee-a2d9-a627aa1c90f3\\\",\\\"cc15fd57-2c6c-4117-a88c-83b1d56b4bbe\\\",\\\"00000003-0000-0ff1-ce00-000000000000\\\",\\\"00000005-0000-0ff1-ce00-000000000000\\\"]}]},\\\"Users\\\":{\\\"Include\\\":[{\\\"Users\\\":[\\\"eababd92-9dc7-40e3-9359-6c106522db19\\\"]}]}},\\\"SessionControls\\\":[\\\"CloudAppSecurity\\\"],\\\"PersistentBrowserSessionMode\\\":\\\"NotSet\\\",\\\"EnforceAllPoliciesForEas\\\":false,\\\"IncludeOtherLegacyClientTypeForEvaluation\\\":false,\\\"CasSessionControlType\\\":1}', 'PolicyLastUpdatedTime': '6/29/2020 4:43:10 AM', 'TenantDefaultPolicy': '', 'DisplayName': 'MeganB MCAS Proxy', 'PolicyIdentifierString': ''})\"],[\"Cmd(name='Set-ConditionalAccessPolicy', params={'Identity': 'seccxpninja.onmicrosoft.com\\\\\\\\69c7a12f-b407-45a3-b07e-fa04fc7f273d', 'PolicyDetails': '{\\\"Version\\\":0,\\\"State\\\":\\\"Enabled\\\",\\\"Conditions\\\":{\\\"Applications\\\":{\\\"Include\\\":[{\\\"Applications\\\":[\\\"00000003-0000-0ff1-ce00-000000000000\\\"]}]},\\\"Users\\\":{\\\"Include\\\":[{\\\"Users\\\":[\\\"All\\\"]}]}},\\\"SessionControls\\\":[\\\"CloudAppSecurity\\\"],\\\"PersistentBrowserSessionMode\\\":\\\"NotSet\\\",\\\"EnforceAllPoliciesForEas\\\":false,\\\"IncludeOtherLegacyClientTypeForEvaluation\\\":false,\\\"CasSessionControlType\\\":1}', 'PolicyLastUpdatedTime': '6/29/2020 4:43:13 AM', 'TenantDefaultPolicy': '', 'DisplayName': 'Test Policy', 'PolicyIdentifierString': ''})\",\"Cmd(name='Set-ConditionalAccessPolicy', params={'Identity': 'seccxpninja.onmicrosoft.com\\\\\\\\bcd93f74-64fd-4042-a3ae-ee6d48886d6d', 'PolicyDetails': '{\\\"Version\\\":0,\\\"State\\\":\\\"Enabled\\\",\\\"Conditions\\\":{\\\"Applications\\\":{\\\"Include\\\":[{\\\"Applications\\\":[\\\"c9a559d2-7aab-4f13-a6ed-e7e9c52aec87\\\"]}]},\\\"Users\\\":{\\\"Include\\\":[{\\\"Users\\\":[\\\"bdb72692-2275-412b-8af0-ea21c2ebd174\\\",\\\"eababd92-9dc7-40e3-9359-6c106522db19\\\"]}]}},\\\"SessionControls\\\":[\\\"CloudAppSecurity\\\"],\\\"PersistentBrowserSessionMode\\\":\\\"NotSet\\\",\\\"EnforceAllPoliciesForEas\\\":false,\\\"IncludeOtherLegacyClientTypeForEvaluation\\\":false,\\\"CasSessionControlType\\\":3}', 'PolicyLastUpdatedTime': '6/29/2020 4:43:12 AM', 'TenantDefaultPolicy': '', 'DisplayName': 'Form MCAS', 'PolicyIdentifierString': ''})\"],[\"Cmd(name='Set-ConditionalAccessPolicy', params={'Identity': 'seccxpninja.onmicrosoft.com\\\\\\\\8872f6fb-da88-4b63-bcc7-17247669596b', 'PolicyDetails': '{\\\"Version\\\":0,\\\"State\\\":\\\"Enabled\\\",\\\"Conditions\\\":{\\\"Applications\\\":{\\\"Include\\\":[{\\\"Applications\\\":[\\\"00000002-0000-0ff1-ce00-000000000000\\\",\\\"09abbdfd-ed23-44ee-a2d9-a627aa1c90f3\\\",\\\"cc15fd57-2c6c-4117-a88c-83b1d56b4bbe\\\",\\\"00000003-0000-0ff1-ce00-000000000000\\\",\\\"00000005-0000-0ff1-ce00-000000000000\\\"]}]},\\\"Users\\\":{\\\"Include\\\":[{\\\"Users\\\":[\\\"eababd92-9dc7-40e3-9359-6c106522db19\\\"]}]}},\\\"SessionControls\\\":[\\\"CloudAppSecurity\\\"],\\\"PersistentBrowserSessionMode\\\":\\\"NotSet\\\",\\\"EnforceAllPoliciesForEas\\\":false,\\\"IncludeOtherLegacyClientTypeForEvaluation\\\":false,\\\"CasSessionControlType\\\":1}', 'PolicyLastUpdatedTime': '6/30/2020 2:05:13 AM', 'TenantDefaultPolicy': '', 'DisplayName': 'MeganB MCAS Proxy', 'PolicyIdentifierString': ''})\",\"Cmd(name='Set-ConditionalAccessPolicy', params={'Identity': 'seccxpninja.onmicrosoft.com\\\\\\\\8872f6fb-da88-4b63-bcc7-17247669596b', 'PolicyDetails': '{\\\"Version\\\":0,\\\"State\\\":\\\"Enabled\\\",\\\"Conditions\\\":{\\\"Applications\\\":{\\\"Include\\\":[{\\\"Applications\\\":[\\\"00000002-0000-0ff1-ce00-000000000000\\\",\\\"09abbdfd-ed23-44ee-a2d9-a627aa1c90f3\\\",\\\"cc15fd57-2c6c-4117-a88c-83b1d56b4bbe\\\",\\\"00000003-0000-0ff1-ce00-000000000000\\\",\\\"00000005-0000-0ff1-ce00-000000000000\\\"]}]},\\\"Users\\\":{\\\"Include\\\":[{\\\"Users\\\":[\\\"eababd92-9dc7-40e3-9359-6c106522db19\\\"]}]}},\\\"SessionControls\\\":[\\\"CloudAppSecurity\\\"],\\\"PersistentBrowserSessionMode\\\":\\\"NotSet\\\",\\\"EnforceAllPoliciesForEas\\\":false,\\\"IncludeOtherLegacyClientTypeForEvaluation\\\":false,\\\"CasSessionControlType\\\":1}', 'PolicyLastUpdatedTime': '6/30/2020 2:05:13 AM', 'TenantDefaultPolicy': '', 'DisplayName': 'MeganB MCAS Proxy', 'PolicyIdentifierString': ''})\"],[\"Cmd(name='Set-ConditionalAccessPolicy', params={'Identity': 'seccxpninja.onmicrosoft.com\\\\\\\\3b13ea3c-c733-4eb8-bd19-67d308b2ea04', 'PolicyDetails': '{\\\"Version\\\":0,\\\"CreatedDateTime\\\":\\\"2020-05-19T13:34:15.2394934Z\\\",\\\"ModifiedDateTime\\\":\\\"2020-05-19T13:39:04.7333386Z\\\",\\\"State\\\":\\\"Reporting\\\",\\\"Conditions\\\":{\\\"Applications\\\":{\\\"Include\\\":[{\\\"Applications\\\":[\\\"None\\\"]}]},\\\"Users\\\":{\\\"Include\\\":[{\\\"Users\\\":[\\\"Guests\\\"]}]},\\\"DevicePlatforms\\\":{\\\"Include\\\":[{\\\"DevicePlatforms\\\":[\\\"All\\\"]}],\\\"Exclude\\\":[{\\\"DevicePlatforms\\\":[\\\"Android\\\",\\\"iOS\\\",\\\"macOS\\\"]}]},\\\"ClientTypes\\\":{\\\"Include\\\":[{\\\"ClientTypes\\\":[\\\"Browser\\\",\\\"Native\\\"]}]}},\\\"Controls\\\":[{\\\"Control\\\":[\\\"Mfa\\\",\\\"RequireCompliantDevice\\\"]}]}', 'PolicyLastUpdatedTime': '6/30/2020 2:05:17 AM', 'TenantDefaultPolicy': '', 'DisplayName': 'Yanivsh -CA Test', 'PolicyIdentifierString': ''})\",\"Cmd(name='Set-ConditionalAccessPolicy', params={'Identity': 'seccxpninja.onmicrosoft.com\\\\\\\\4c5a5ea0-5d9f-4730-baaa-7a69cf29ef26', 'PolicyDetails': '{\\\"Version\\\":0,\\\"State\\\":\\\"Enabled\\\",\\\"Conditions\\\":{\\\"Applications\\\":{\\\"Include\\\":[{\\\"Applications\\\":[\\\"All\\\"]}]},\\\"Users\\\":{\\\"Include\\\":[{\\\"Users\\\":[\\\"bdb72692-2275-412b-8af0-ea21c2ebd174\\\"]}]}},\\\"Controls\\\":[{\\\"Control\\\":[\\\"Mfa\\\"]}],\\\"PersistentBrowserSessionMode\\\":\\\"NotSet\\\",\\\"EnforceAllPoliciesForEas\\\":false,\\\"IncludeOtherLegacyClientTypeForEvaluation\\\":false}', 'PolicyLastUpdatedTime': '6/30/2020 2:05:15 AM', 'TenantDefaultPolicy': '', 'DisplayName': 'Semolen - Admin MFA', 'PolicyIdentifierString': ''})\"],[\"Cmd(name='Set-ConditionalAccessPolicy', params={'Identity': 'seccxpninja.onmicrosoft.com\\\\\\\\b2915792-0396-4abe-94ec-e17fa17243c5', 'PolicyDetails': '{\\\"Version\\\":0,\\\"State\\\":\\\"Enabled\\\",\\\"Conditions\\\":{\\\"Applications\\\":{\\\"Include\\\":[{\\\"Applications\\\":[\\\"94c63fef-13a3-47bc-8074-75af8c65887a\\\",\\\"c9a559d2-7aab-4f13-a6ed-e7e9c52aec87\\\"]}]},\\\"Users\\\":{\\\"Include\\\":[{\\\"Users\\\":[\\\"bdb72692-2275-412b-8af0-ea21c2ebd174\\\",\\\"eababd92-9dc7-40e3-9359-6c106522db19\\\"]}]},\\\"SignInRisks\\\":{\\\"Include\\\":[{\\\"SignInRisks\\\":[\\\"High\\\",\\\"Medium\\\",\\\"Low\\\"]}]}},\\\"SessionControls\\\":[\\\"CloudAppSecurity\\\"],\\\"PersistentBrowserSessionMode\\\":\\\"NotSet\\\",\\\"EnforceAllPoliciesForEas\\\":false,\\\"IncludeOtherLegacyClientTypeForEvaluation\\\":false,\\\"CasSessionControlType\\\":3}', 'PolicyLastUpdatedTime': '6/30/2020 5:06:20 AM', 'TenantDefaultPolicy': '', 'DisplayName': 'GBB demo', 'PolicyIdentifierString': ''})\",\"Cmd(name='Set-ConditionalAccessPolicy', params={'Identity': 'seccxpninja.onmicrosoft.com\\\\\\\\83a057fb-dbca-4ba8-bb5f-0ce6d6e7cff5', 'PolicyDetails': '{\\\"Version\\\":0,\\\"State\\\":\\\"Enabled\\\",\\\"Conditions\\\":{\\\"Applications\\\":{\\\"Include\\\":[{\\\"Acrs\\\":[\\\"urn:microsoft:req1\\\"]}]},\\\"Users\\\":{\\\"Include\\\":[{\\\"Users\\\":[\\\"eababd92-9dc7-40e3-9359-6c106522db19\\\"]}]}},\\\"Controls\\\":[{\\\"Control\\\":[\\\"Mfa\\\"]}],\\\"PersistentBrowserSessionMode\\\":\\\"NotSet\\\",\\\"EnforceAllPoliciesForEas\\\":false,\\\"IncludeOtherLegacyClientTypeForEvaluation\\\":false}', 'PolicyLastUpdatedTime': '6/30/2020 5:06:20 AM', 'TenantDefaultPolicy': '', 'DisplayName': 'MeganB MCAS Step-up', 'PolicyIdentifierString': ''})\"],[\"Cmd(name='Set-ConditionalAccessPolicy', params={'Identity': 'seccxpninja.onmicrosoft.com\\\\\\\\ba36f0a4-6d73-4ba4-9282-3b3c14575e36', 'PolicyDetails': '{\\\"Version\\\":0,\\\"ModifiedDateTime\\\":\\\"2020-05-19T13:31:41.7083504Z\\\",\\\"State\\\":\\\"Disabled\\\",\\\"Conditions\\\":{\\\"Applications\\\":{\\\"Include\\\":[{\\\"Applications\\\":[\\\"00000002-0000-0ff1-ce00-000000000000\\\",\\\"00000003-0000-0ff1-ce00-000000000000\\\"]}]},\\\"Users\\\":{\\\"Include\\\":[{\\\"Users\\\":[\\\"2935e535-8fdf-4217-865b-e084cb7214f1\\\"]}]},\\\"DevicePlatforms\\\":{\\\"Include\\\":[{\\\"DevicePlatforms\\\":[\\\"All\\\"]}],\\\"Exclude\\\":[{\\\"DevicePlatforms\\\":[\\\"Android\\\",\\\"iOS\\\",\\\"macOS\\\"]}]},\\\"ClientTypes\\\":{\\\"Include\\\":[{\\\"ClientTypes\\\":[\\\"Browser\\\",\\\"Native\\\"]}]}},\\\"SessionControls\\\":[\\\"CloudAppSecurity\\\"],\\\"CasSessionControlType\\\":1}', 'PolicyLastUpdatedTime': '7/1/2020 1:49:42 AM', 'TenantDefaultPolicy': '', 'DisplayName': 'Block Access JulianI', 'PolicyIdentifierString': ''})\",\"Cmd(name='Set-ConditionalAccessPolicy', params={'Identity': 'seccxpninja.onmicrosoft.com\\\\\\\\5fd0c4ff-1cd7-4bf6-8607-294a04f58f12', 'PolicyDetails': '{\\\"Version\\\":0,\\\"State\\\":\\\"Disabled\\\",\\\"Conditions\\\":{\\\"Applications\\\":{\\\"Include\\\":[{\\\"Applications\\\":[\\\"All\\\"]}]},\\\"Users\\\":{\\\"Include\\\":[{\\\"Users\\\":[\\\"142512c7-f006-46ae-909c-14fa7bf6a887\\\"]}]}},\\\"Controls\\\":[{\\\"Control\\\":[\\\"Mfa\\\"]}],\\\"EnforceAllPoliciesForEas\\\":false,\\\"IncludeOtherLegacyClientTypeForEvaluation\\\":false}', 'PolicyLastUpdatedTime': '7/1/2020 1:49:42 AM', 'TenantDefaultPolicy': '', 'DisplayName': 'Azure MFA', 'PolicyIdentifierString': ''})\"],[\"Cmd(name='Set-ConditionalAccessPolicy', params={'Identity': 'seccxpninja.onmicrosoft.com\\\\\\\\2e76d011-eaa3-40b4-8ce8-7fba52bf3af8', 'PolicyDetails': '{\\\"Version\\\":0,\\\"State\\\":\\\"Reporting\\\",\\\"Conditions\\\":{\\\"Applications\\\":{\\\"Include\\\":[{\\\"Applications\\\":[\\\"f9e8b3d0-ba26-42cd-b544-c90a66191a81\\\"]}]},\\\"Users\\\":{\\\"Include\\\":[{\\\"Users\\\":[\\\"All\\\"]}]}},\\\"SessionControls\\\":[\\\"CloudAppSecurity\\\"],\\\"PersistentBrowserSessionMode\\\":\\\"NotSet\\\",\\\"EnforceAllPoliciesForEas\\\":false,\\\"IncludeOtherLegacyClientTypeForEvaluation\\\":false,\\\"CasSessionControlType\\\":1}', 'PolicyLastUpdatedTime': '7/1/2020 5:13:17 AM', 'TenantDefaultPolicy': '', 'DisplayName': 'On-Prem SharePoint - MeganB proxy', 'PolicyIdentifierString': ''})\",\"Cmd(name='Set-ConditionalAccessPolicy', params={'Identity': 'seccxpninja.onmicrosoft.com\\\\\\\\5fd0c4ff-1cd7-4bf6-8607-294a04f58f12', 'PolicyDetails': '{\\\"Version\\\":0,\\\"State\\\":\\\"Disabled\\\",\\\"Conditions\\\":{\\\"Applications\\\":{\\\"Include\\\":[{\\\"Applications\\\":[\\\"All\\\"]}]},\\\"Users\\\":{\\\"Include\\\":[{\\\"Users\\\":[\\\"142512c7-f006-46ae-909c-14fa7bf6a887\\\"]}]}},\\\"Controls\\\":[{\\\"Control\\\":[\\\"Mfa\\\"]}],\\\"EnforceAllPoliciesForEas\\\":false,\\\"IncludeOtherLegacyClientTypeForEvaluation\\\":false}', 'PolicyLastUpdatedTime': '7/1/2020 5:13:17 AM', 'TenantDefaultPolicy': '', 'DisplayName': 'Azure MFA', 'PolicyIdentifierString': ''})\"],[\"Cmd(name='Set-ConditionalAccessPolicy', params={'Identity': 'seccxpninja.onmicrosoft.com\\\\\\\\8872f6fb-da88-4b63-bcc7-17247669596b', 'PolicyDetails': '{\\\"Version\\\":0,\\\"State\\\":\\\"Enabled\\\",\\\"Conditions\\\":{\\\"Applications\\\":{\\\"Include\\\":[{\\\"Applications\\\":[\\\"00000002-0000-0ff1-ce00-000000000000\\\",\\\"09abbdfd-ed23-44ee-a2d9-a627aa1c90f3\\\",\\\"cc15fd57-2c6c-4117-a88c-83b1d56b4bbe\\\",\\\"00000003-0000-0ff1-ce00-000000000000\\\",\\\"00000005-0000-0ff1-ce00-000000000000\\\"]}]},\\\"Users\\\":{\\\"Include\\\":[{\\\"Users\\\":[\\\"eababd92-9dc7-40e3-9359-6c106522db19\\\"]}]}},\\\"SessionControls\\\":[\\\"CloudAppSecurity\\\"],\\\"PersistentBrowserSessionMode\\\":\\\"NotSet\\\",\\\"EnforceAllPoliciesForEas\\\":false,\\\"IncludeOtherLegacyClientTypeForEvaluation\\\":false,\\\"CasSessionControlType\\\":1}', 'PolicyLastUpdatedTime': '7/2/2020 2:05:21 AM', 'TenantDefaultPolicy': '', 'DisplayName': 'MeganB MCAS Proxy', 'PolicyIdentifierString': ''})\",\"Cmd(name='Set-ConditionalAccessPolicy', params={'Identity': 'seccxpninja.onmicrosoft.com\\\\\\\\b2915792-0396-4abe-94ec-e17fa17243c5', 'PolicyDetails': '{\\\"Version\\\":0,\\\"State\\\":\\\"Enabled\\\",\\\"Conditions\\\":{\\\"Applications\\\":{\\\"Include\\\":[{\\\"Applications\\\":[\\\"94c63fef-13a3-47bc-8074-75af8c65887a\\\",\\\"c9a559d2-7aab-4f13-a6ed-e7e9c52aec87\\\"]}]},\\\"Users\\\":{\\\"Include\\\":[{\\\"Users\\\":[\\\"bdb72692-2275-412b-8af0-ea21c2ebd174\\\",\\\"eababd92-9dc7-40e3-9359-6c106522db19\\\"]}]},\\\"SignInRisks\\\":{\\\"Include\\\":[{\\\"SignInRisks\\\":[\\\"High\\\",\\\"Medium\\\",\\\"Low\\\"]}]}},\\\"SessionControls\\\":[\\\"CloudAppSecurity\\\"],\\\"PersistentBrowserSessionMode\\\":\\\"NotSet\\\",\\\"EnforceAllPoliciesForEas\\\":false,\\\"IncludeOtherLegacyClientTypeForEvaluation\\\":false,\\\"CasSessionControlType\\\":3}', 'PolicyLastUpdatedTime': '7/2/2020 2:05:23 AM', 'TenantDefaultPolicy': '', 'DisplayName': 'GBB demo', 'PolicyIdentifierString': ''})\"],[\"Cmd(name='Set-ConditionalAccessPolicy', params={'Identity': 'seccxpninja.onmicrosoft.com\\\\\\\\83a057fb-dbca-4ba8-bb5f-0ce6d6e7cff5', 'PolicyDetails': '{\\\"Version\\\":0,\\\"State\\\":\\\"Enabled\\\",\\\"Conditions\\\":{\\\"Applications\\\":{\\\"Include\\\":[{\\\"Acrs\\\":[\\\"urn:microsoft:req1\\\"]}]},\\\"Users\\\":{\\\"Include\\\":[{\\\"Users\\\":[\\\"eababd92-9dc7-40e3-9359-6c106522db19\\\"]}]}},\\\"Controls\\\":[{\\\"Control\\\":[\\\"Mfa\\\"]}],\\\"PersistentBrowserSessionMode\\\":\\\"NotSet\\\",\\\"EnforceAllPoliciesForEas\\\":false,\\\"IncludeOtherLegacyClientTypeForEvaluation\\\":false}', 'PolicyLastUpdatedTime': '7/2/2020 4:53:56 AM', 'TenantDefaultPolicy': '', 'DisplayName': 'MeganB MCAS Step-up', 'PolicyIdentifierString': ''})\",\"Cmd(name='Set-ConditionalAccessPolicy', params={'Identity': 'seccxpninja.onmicrosoft.com\\\\\\\\235bec94-f744-48ac-8314-5675953d2def', 'PolicyDetails': '{\\\"Version\\\":0,\\\"State\\\":\\\"Disabled\\\",\\\"Conditions\\\":{\\\"Applications\\\":{\\\"Include\\\":[{\\\"Applications\\\":[\\\"All\\\"]}]},\\\"Users\\\":{\\\"Include\\\":[{\\\"Users\\\":[\\\"eababd92-9dc7-40e3-9359-6c106522db19\\\"]}]},\\\"DevicePlatforms\\\":{\\\"Include\\\":[{\\\"DevicePlatforms\\\":[\\\"All\\\"]}],\\\"Exclude\\\":[{\\\"DevicePlatforms\\\":[\\\"macOS\\\"]}]}},\\\"Controls\\\":[{\\\"Control\\\":[\\\"Mfa\\\"]}],\\\"PersistentBrowserSessionMode\\\":\\\"NotSet\\\",\\\"EnforceAllPoliciesForEas\\\":false,\\\"IncludeOtherLegacyClientTypeForEvaluation\\\":false}', 'PolicyLastUpdatedTime': '7/2/2020 4:53:56 AM', 'TenantDefaultPolicy': '', 'DisplayName': 'Megan MFA demo', 'PolicyIdentifierString': ''})\"],[\"Cmd(name='Set-ConditionalAccessPolicy', params={'Identity': 'seccxpninja.onmicrosoft.com\\\\\\\\2e76d011-eaa3-40b4-8ce8-7fba52bf3af8', 'PolicyDetails': '{\\\"Version\\\":0,\\\"State\\\":\\\"Reporting\\\",\\\"Conditions\\\":{\\\"Applications\\\":{\\\"Include\\\":[{\\\"Applications\\\":[\\\"f9e8b3d0-ba26-42cd-b544-c90a66191a81\\\"]}]},\\\"Users\\\":{\\\"Include\\\":[{\\\"Users\\\":[\\\"All\\\"]}]}},\\\"SessionControls\\\":[\\\"CloudAppSecurity\\\"],\\\"PersistentBrowserSessionMode\\\":\\\"NotSet\\\",\\\"EnforceAllPoliciesForEas\\\":false,\\\"IncludeOtherLegacyClientTypeForEvaluation\\\":false,\\\"CasSessionControlType\\\":1}', 'PolicyLastUpdatedTime': '7/3/2020 2:12:09 AM', 'TenantDefaultPolicy': '', 'DisplayName': 'On-Prem SharePoint - MeganB proxy', 'PolicyIdentifierString': ''})\",\"Cmd(name='Set-ConditionalAccessPolicy', params={'Identity': 'seccxpninja.onmicrosoft.com\\\\\\\\4c5a5ea0-5d9f-4730-baaa-7a69cf29ef26', 'PolicyDetails': '{\\\"Version\\\":0,\\\"State\\\":\\\"Enabled\\\",\\\"Conditions\\\":{\\\"Applications\\\":{\\\"Include\\\":[{\\\"Applications\\\":[\\\"All\\\"]}]},\\\"Users\\\":{\\\"Include\\\":[{\\\"Users\\\":[\\\"bdb72692-2275-412b-8af0-ea21c2ebd174\\\"]}]}},\\\"Controls\\\":[{\\\"Control\\\":[\\\"Mfa\\\"]}],\\\"PersistentBrowserSessionMode\\\":\\\"NotSet\\\",\\\"EnforceAllPoliciesForEas\\\":false,\\\"IncludeOtherLegacyClientTypeForEvaluation\\\":false}', 'PolicyLastUpdatedTime': '7/3/2020 2:12:08 AM', 'TenantDefaultPolicy': '', 'DisplayName': 'Semolen - Admin MFA', 'PolicyIdentifierString': ''})\"],[\"Cmd(name='Set-ConditionalAccessPolicy', params={'Identity': 'seccxpninja.onmicrosoft.com\\\\\\\\6490d00c-7ba1-42cf-aa88-99eb71d53bf7', 'PolicyDetails': '{\\\"Version\\\":0,\\\"LastUpdatedTimestamp\\\":\\\"2020-07-02T12:42:35.1866847Z\\\",\\\"State\\\":\\\"Disabled\\\",\\\"SignInFrequency\\\":\\\"NotSet\\\",\\\"PersistentBrowserSessionMode\\\":\\\"NotSet\\\"}', 'PolicyLastUpdatedTime': '7/3/2020 5:10:57 AM', 'TenantDefaultPolicy': '18', 'DisplayName': 'Default Policy', 'PolicyIdentifierString': '5/19/2020 1:39:05 PM'})\",\"Cmd(name='Set-ConditionalAccessPolicy', params={'Identity': 'seccxpninja.onmicrosoft.com\\\\\\\\ba36f0a4-6d73-4ba4-9282-3b3c14575e36', 'PolicyDetails': '{\\\"Version\\\":0,\\\"ModifiedDateTime\\\":\\\"2020-05-19T13:31:41.7083504Z\\\",\\\"State\\\":\\\"Disabled\\\",\\\"Conditions\\\":{\\\"Applications\\\":{\\\"Include\\\":[{\\\"Applications\\\":[\\\"00000002-0000-0ff1-ce00-000000000000\\\",\\\"00000003-0000-0ff1-ce00-000000000000\\\"]}]},\\\"Users\\\":{\\\"Include\\\":[{\\\"Users\\\":[\\\"2935e535-8fdf-4217-865b-e084cb7214f1\\\"]}]},\\\"DevicePlatforms\\\":{\\\"Include\\\":[{\\\"DevicePlatforms\\\":[\\\"All\\\"]}],\\\"Exclude\\\":[{\\\"DevicePlatforms\\\":[\\\"Android\\\",\\\"iOS\\\",\\\"macOS\\\"]}]},\\\"ClientTypes\\\":{\\\"Include\\\":[{\\\"ClientTypes\\\":[\\\"Browser\\\",\\\"Native\\\"]}]}},\\\"SessionControls\\\":[\\\"CloudAppSecurity\\\"],\\\"CasSessionControlType\\\":1}', 'PolicyLastUpdatedTime': '7/3/2020 5:10:58 AM', 'TenantDefaultPolicy': '', 'DisplayName': 'Block Access JulianI', 'PolicyIdentifierString': ''})\"],[\"Cmd(name='Set-ConditionalAccessPolicy', params={'Identity': 'seccxpninja.onmicrosoft.com\\\\\\\\69c7a12f-b407-45a3-b07e-fa04fc7f273d', 'PolicyDetails': '{\\\"Version\\\":0,\\\"State\\\":\\\"Enabled\\\",\\\"Conditions\\\":{\\\"Applications\\\":{\\\"Include\\\":[{\\\"Applications\\\":[\\\"00000003-0000-0ff1-ce00-000000000000\\\"]}]},\\\"Users\\\":{\\\"Include\\\":[{\\\"Users\\\":[\\\"All\\\"]}]}},\\\"SessionControls\\\":[\\\"CloudAppSecurity\\\"],\\\"PersistentBrowserSessionMode\\\":\\\"NotSet\\\",\\\"EnforceAllPoliciesForEas\\\":false,\\\"IncludeOtherLegacyClientTypeForEvaluation\\\":false,\\\"CasSessionControlType\\\":1}', 'PolicyLastUpdatedTime': '7/4/2020 2:02:50 AM', 'TenantDefaultPolicy': '', 'DisplayName': 'Test Policy', 'PolicyIdentifierString': ''})\",\"Cmd(name='Set-ConditionalAccessPolicy', params={'Identity': 'seccxpninja.onmicrosoft.com\\\\\\\\3b13ea3c-c733-4eb8-bd19-67d308b2ea04', 'PolicyDetails': '{\\\"Version\\\":0,\\\"CreatedDateTime\\\":\\\"2020-05-19T13:34:15.2394934Z\\\",\\\"ModifiedDateTime\\\":\\\"2020-05-19T13:39:04.7333386Z\\\",\\\"State\\\":\\\"Reporting\\\",\\\"Conditions\\\":{\\\"Applications\\\":{\\\"Include\\\":[{\\\"Applications\\\":[\\\"None\\\"]}]},\\\"Users\\\":{\\\"Include\\\":[{\\\"Users\\\":[\\\"Guests\\\"]}]},\\\"DevicePlatforms\\\":{\\\"Include\\\":[{\\\"DevicePlatforms\\\":[\\\"All\\\"]}],\\\"Exclude\\\":[{\\\"DevicePlatforms\\\":[\\\"Android\\\",\\\"iOS\\\",\\\"macOS\\\"]}]},\\\"ClientTypes\\\":{\\\"Include\\\":[{\\\"ClientTypes\\\":[\\\"Browser\\\",\\\"Native\\\"]}]}},\\\"Controls\\\":[{\\\"Control\\\":[\\\"Mfa\\\",\\\"RequireCompliantDevice\\\"]}]}', 'PolicyLastUpdatedTime': '7/4/2020 2:02:50 AM', 'TenantDefaultPolicy': '', 'DisplayName': 'Yanivsh -CA Test', 'PolicyIdentifierString': ''})\"],[\"Cmd(name='Set-ConditionalAccessPolicy', params={'Identity': 'seccxpninja.onmicrosoft.com\\\\\\\\83a057fb-dbca-4ba8-bb5f-0ce6d6e7cff5', 'PolicyDetails': '{\\\"Version\\\":0,\\\"State\\\":\\\"Enabled\\\",\\\"Conditions\\\":{\\\"Applications\\\":{\\\"Include\\\":[{\\\"Acrs\\\":[\\\"urn:microsoft:req1\\\"]}]},\\\"Users\\\":{\\\"Include\\\":[{\\\"Users\\\":[\\\"eababd92-9dc7-40e3-9359-6c106522db19\\\"]}]}},\\\"Controls\\\":[{\\\"Control\\\":[\\\"Mfa\\\"]}],\\\"PersistentBrowserSessionMode\\\":\\\"NotSet\\\",\\\"EnforceAllPoliciesForEas\\\":false,\\\"IncludeOtherLegacyClientTypeForEvaluation\\\":false}', 'PolicyLastUpdatedTime': '7/4/2020 4:58:34 AM', 'TenantDefaultPolicy': '', 'DisplayName': 'MeganB MCAS Step-up', 'PolicyIdentifierString': ''})\",\"Cmd(name='Set-ConditionalAccessPolicy', params={'Identity': 'seccxpninja.onmicrosoft.com\\\\\\\\235bec94-f744-48ac-8314-5675953d2def', 'PolicyDetails': '{\\\"Version\\\":0,\\\"State\\\":\\\"Disabled\\\",\\\"Conditions\\\":{\\\"Applications\\\":{\\\"Include\\\":[{\\\"Applications\\\":[\\\"All\\\"]}]},\\\"Users\\\":{\\\"Include\\\":[{\\\"Users\\\":[\\\"eababd92-9dc7-40e3-9359-6c106522db19\\\"]}]},\\\"DevicePlatforms\\\":{\\\"Include\\\":[{\\\"DevicePlatforms\\\":[\\\"All\\\"]}],\\\"Exclude\\\":[{\\\"DevicePlatforms\\\":[\\\"macOS\\\"]}]}},\\\"Controls\\\":[{\\\"Control\\\":[\\\"Mfa\\\"]}],\\\"PersistentBrowserSessionMode\\\":\\\"NotSet\\\",\\\"EnforceAllPoliciesForEas\\\":false,\\\"IncludeOtherLegacyClientTypeForEvaluation\\\":false}', 'PolicyLastUpdatedTime': '7/4/2020 4:58:34 AM', 'TenantDefaultPolicy': '', 'DisplayName': 'Megan MFA demo', 'PolicyIdentifierString': ''})\"],[\"Cmd(name='Set-ConditionalAccessPolicy', params={'Identity': 'seccxpninja.onmicrosoft.com\\\\\\\\b2915792-0396-4abe-94ec-e17fa17243c5', 'PolicyDetails': '{\\\"Version\\\":0,\\\"State\\\":\\\"Enabled\\\",\\\"Conditions\\\":{\\\"Applications\\\":{\\\"Include\\\":[{\\\"Applications\\\":[\\\"94c63fef-13a3-47bc-8074-75af8c65887a\\\",\\\"c9a559d2-7aab-4f13-a6ed-e7e9c52aec87\\\"]}]},\\\"Users\\\":{\\\"Include\\\":[{\\\"Users\\\":[\\\"bdb72692-2275-412b-8af0-ea21c2ebd174\\\",\\\"eababd92-9dc7-40e3-9359-6c106522db19\\\"]}]},\\\"SignInRisks\\\":{\\\"Include\\\":[{\\\"SignInRisks\\\":[\\\"High\\\",\\\"Medium\\\",\\\"Low\\\"]}]}},\\\"SessionControls\\\":[\\\"CloudAppSecurity\\\"],\\\"PersistentBrowserSessionMode\\\":\\\"NotSet\\\",\\\"EnforceAllPoliciesForEas\\\":false,\\\"IncludeOtherLegacyClientTypeForEvaluation\\\":false,\\\"CasSessionControlType\\\":3}', 'PolicyLastUpdatedTime': '7/5/2020 2:09:01 AM', 'TenantDefaultPolicy': '', 'DisplayName': 'GBB demo', 'PolicyIdentifierString': ''})\",\"Cmd(name='Set-ConditionalAccessPolicy', params={'Identity': 'seccxpninja.onmicrosoft.com\\\\\\\\5fd0c4ff-1cd7-4bf6-8607-294a04f58f12', 'PolicyDetails': '{\\\"Version\\\":0,\\\"State\\\":\\\"Disabled\\\",\\\"Conditions\\\":{\\\"Applications\\\":{\\\"Include\\\":[{\\\"Applications\\\":[\\\"All\\\"]}]},\\\"Users\\\":{\\\"Include\\\":[{\\\"Users\\\":[\\\"142512c7-f006-46ae-909c-14fa7bf6a887\\\"]}]}},\\\"Controls\\\":[{\\\"Control\\\":[\\\"Mfa\\\"]}],\\\"EnforceAllPoliciesForEas\\\":false,\\\"IncludeOtherLegacyClientTypeForEvaluation\\\":false}', 'PolicyLastUpdatedTime': '7/5/2020 2:09:01 AM', 'TenantDefaultPolicy': '', 'DisplayName': 'Azure MFA', 'PolicyIdentifierString': ''})\"],[\"Cmd(name='Set-ConditionalAccessPolicy', params={'Identity': 'seccxpninja.onmicrosoft.com\\\\\\\\2e76d011-eaa3-40b4-8ce8-7fba52bf3af8', 'PolicyDetails': '{\\\"Version\\\":0,\\\"State\\\":\\\"Reporting\\\",\\\"Conditions\\\":{\\\"Applications\\\":{\\\"Include\\\":[{\\\"Applications\\\":[\\\"f9e8b3d0-ba26-42cd-b544-c90a66191a81\\\"]}]},\\\"Users\\\":{\\\"Include\\\":[{\\\"Users\\\":[\\\"All\\\"]}]}},\\\"SessionControls\\\":[\\\"CloudAppSecurity\\\"],\\\"PersistentBrowserSessionMode\\\":\\\"NotSet\\\",\\\"EnforceAllPoliciesForEas\\\":false,\\\"IncludeOtherLegacyClientTypeForEvaluation\\\":false,\\\"CasSessionControlType\\\":1}', 'PolicyLastUpdatedTime': '7/5/2020 5:05:51 AM', 'TenantDefaultPolicy': '', 'DisplayName': 'On-Prem SharePoint - MeganB proxy', 'PolicyIdentifierString': ''})\",\"Cmd(name='Set-ConditionalAccessPolicy', params={'Identity': 'seccxpninja.onmicrosoft.com\\\\\\\\2e76d011-eaa3-40b4-8ce8-7fba52bf3af8', 'PolicyDetails': '{\\\"Version\\\":0,\\\"State\\\":\\\"Reporting\\\",\\\"Conditions\\\":{\\\"Applications\\\":{\\\"Include\\\":[{\\\"Applications\\\":[\\\"f9e8b3d0-ba26-42cd-b544-c90a66191a81\\\"]}]},\\\"Users\\\":{\\\"Include\\\":[{\\\"Users\\\":[\\\"All\\\"]}]}},\\\"SessionControls\\\":[\\\"CloudAppSecurity\\\"],\\\"PersistentBrowserSessionMode\\\":\\\"NotSet\\\",\\\"EnforceAllPoliciesForEas\\\":false,\\\"IncludeOtherLegacyClientTypeForEvaluation\\\":false,\\\"CasSessionControlType\\\":1}', 'PolicyLastUpdatedTime': '7/5/2020 5:05:51 AM', 'TenantDefaultPolicy': '', 'DisplayName': 'On-Prem SharePoint - MeganB proxy', 'PolicyIdentifierString': ''})\"],[\"Cmd(name='Set-ConditionalAccessPolicy', params={'Identity': 'seccxpninja.onmicrosoft.com\\\\\\\\3b13ea3c-c733-4eb8-bd19-67d308b2ea04', 'PolicyDetails': '{\\\"Version\\\":0,\\\"CreatedDateTime\\\":\\\"2020-05-19T13:34:15.2394934Z\\\",\\\"ModifiedDateTime\\\":\\\"2020-05-19T13:39:04.7333386Z\\\",\\\"State\\\":\\\"Reporting\\\",\\\"Conditions\\\":{\\\"Applications\\\":{\\\"Include\\\":[{\\\"Applications\\\":[\\\"None\\\"]}]},\\\"Users\\\":{\\\"Include\\\":[{\\\"Users\\\":[\\\"Guests\\\"]}]},\\\"DevicePlatforms\\\":{\\\"Include\\\":[{\\\"DevicePlatforms\\\":[\\\"All\\\"]}],\\\"Exclude\\\":[{\\\"DevicePlatforms\\\":[\\\"Android\\\",\\\"iOS\\\",\\\"macOS\\\"]}]},\\\"ClientTypes\\\":{\\\"Include\\\":[{\\\"ClientTypes\\\":[\\\"Browser\\\",\\\"Native\\\"]}]}},\\\"Controls\\\":[{\\\"Control\\\":[\\\"Mfa\\\",\\\"RequireCompliantDevice\\\"]}]}', 'PolicyLastUpdatedTime': '7/6/2020 1:42:07 AM', 'TenantDefaultPolicy': '', 'DisplayName': 'Yanivsh -CA Test', 'PolicyIdentifierString': ''})\",\"Cmd(name='Set-ConditionalAccessPolicy', params={'Identity': 'seccxpninja.onmicrosoft.com\\\\\\\\8837fdaa-aaeb-4432-9622-43f6f583d583', 'PolicyDetails': '{\\\"KnownNetworkPolicies\\\":{\\\"NetworkName\\\":\\\"BE-Office\\\",\\\"NetworkId\\\":\\\"b98b9088-ce88-4fae-80fb-5b58cb1ce685\\\",\\\"CidrIpRanges\\\":[\\\"109.88.218.99/28\\\"],\\\"CountryIsoCodes\\\":null,\\\"Categories\\\":[],\\\"ApplyToUnknownCountry\\\":false}}', 'PolicyLastUpdatedTime': '7/6/2020 1:42:07 AM', 'TenantDefaultPolicy': '6', 'DisplayName': 'Known Networks List', 'PolicyIdentifierString': '3/19/2020 7:45:08 PM'})\"],[\"Cmd(name='Set-ConditionalAccessPolicy', params={'Identity': 'seccxpninja.onmicrosoft.com\\\\\\\\6490d00c-7ba1-42cf-aa88-99eb71d53bf7', 'PolicyDetails': '{\\\"Version\\\":0,\\\"LastUpdatedTimestamp\\\":\\\"2020-07-02T12:42:35.1866847Z\\\",\\\"State\\\":\\\"Disabled\\\",\\\"SignInFrequency\\\":\\\"NotSet\\\",\\\"PersistentBrowserSessionMode\\\":\\\"NotSet\\\"}', 'PolicyLastUpdatedTime': '7/6/2020 4:29:48 AM', 'TenantDefaultPolicy': '18', 'DisplayName': 'Default Policy', 'PolicyIdentifierString': '5/19/2020 1:39:05 PM'})\",\"Cmd(name='Set-ConditionalAccessPolicy', params={'Identity': 'seccxpninja.onmicrosoft.com\\\\\\\\69c7a12f-b407-45a3-b07e-fa04fc7f273d', 'PolicyDetails': '{\\\"Version\\\":0,\\\"State\\\":\\\"Enabled\\\",\\\"Conditions\\\":{\\\"Applications\\\":{\\\"Include\\\":[{\\\"Applications\\\":[\\\"00000003-0000-0ff1-ce00-000000000000\\\"]}]},\\\"Users\\\":{\\\"Include\\\":[{\\\"Users\\\":[\\\"All\\\"]}]}},\\\"SessionControls\\\":[\\\"CloudAppSecurity\\\"],\\\"PersistentBrowserSessionMode\\\":\\\"NotSet\\\",\\\"EnforceAllPoliciesForEas\\\":false,\\\"IncludeOtherLegacyClientTypeForEvaluation\\\":false,\\\"CasSessionControlType\\\":1}', 'PolicyLastUpdatedTime': '7/6/2020 4:29:48 AM', 'TenantDefaultPolicy': '', 'DisplayName': 'Test Policy', 'PolicyIdentifierString': ''})\"],[\"Cmd(name='Set-ConditionalAccessPolicy', params={'Identity': 'seccxpninja.onmicrosoft.com\\\\\\\\83a057fb-dbca-4ba8-bb5f-0ce6d6e7cff5', 'PolicyDetails': '{\\\"Version\\\":0,\\\"State\\\":\\\"Enabled\\\",\\\"Conditions\\\":{\\\"Applications\\\":{\\\"Include\\\":[{\\\"Acrs\\\":[\\\"urn:microsoft:req1\\\"]}]},\\\"Users\\\":{\\\"Include\\\":[{\\\"Users\\\":[\\\"eababd92-9dc7-40e3-9359-6c106522db19\\\"]}]}},\\\"Controls\\\":[{\\\"Control\\\":[\\\"Mfa\\\"]}],\\\"PersistentBrowserSessionMode\\\":\\\"NotSet\\\",\\\"EnforceAllPoliciesForEas\\\":false,\\\"IncludeOtherLegacyClientTypeForEvaluation\\\":false}', 'PolicyLastUpdatedTime': '7/7/2020 1:51:17 AM', 'TenantDefaultPolicy': '', 'DisplayName': 'MeganB MCAS Step-up', 'PolicyIdentifierString': ''})\",\"Cmd(name='Set-ConditionalAccessPolicy', params={'Identity': 'seccxpninja.onmicrosoft.com\\\\\\\\5fd0c4ff-1cd7-4bf6-8607-294a04f58f12', 'PolicyDetails': '{\\\"Version\\\":0,\\\"State\\\":\\\"Disabled\\\",\\\"Conditions\\\":{\\\"Applications\\\":{\\\"Include\\\":[{\\\"Applications\\\":[\\\"All\\\"]}]},\\\"Users\\\":{\\\"Include\\\":[{\\\"Users\\\":[\\\"142512c7-f006-46ae-909c-14fa7bf6a887\\\"]}]}},\\\"Controls\\\":[{\\\"Control\\\":[\\\"Mfa\\\"]}],\\\"EnforceAllPoliciesForEas\\\":false,\\\"IncludeOtherLegacyClientTypeForEvaluation\\\":false}', 'PolicyLastUpdatedTime': '7/7/2020 1:51:18 AM', 'TenantDefaultPolicy': '', 'DisplayName': 'Azure MFA', 'PolicyIdentifierString': ''})\"],[\"Cmd(name='Set-ConditionalAccessPolicy', params={'Identity': 'seccxpninja.onmicrosoft.com\\\\\\\\8837fdaa-aaeb-4432-9622-43f6f583d583', 'PolicyDetails': '{\\\"KnownNetworkPolicies\\\":{\\\"NetworkName\\\":\\\"BE-Office\\\",\\\"NetworkId\\\":\\\"b98b9088-ce88-4fae-80fb-5b58cb1ce685\\\",\\\"CidrIpRanges\\\":[\\\"109.88.218.99/28\\\"],\\\"CountryIsoCodes\\\":null,\\\"Categories\\\":[],\\\"ApplyToUnknownCountry\\\":false}}', 'PolicyLastUpdatedTime': '7/8/2020 2:30:51 AM', 'TenantDefaultPolicy': '6', 'DisplayName': 'Known Networks List', 'PolicyIdentifierString': '3/19/2020 7:45:08 PM'})\",\"Cmd(name='Set-ConditionalAccessPolicy', params={'Identity': 'seccxpninja.onmicrosoft.com\\\\\\\\8837fdaa-aaeb-4432-9622-43f6f583d583', 'PolicyDetails': '{\\\"KnownNetworkPolicies\\\":{\\\"NetworkName\\\":\\\"BE-Office\\\",\\\"NetworkId\\\":\\\"b98b9088-ce88-4fae-80fb-5b58cb1ce685\\\",\\\"CidrIpRanges\\\":[\\\"109.88.218.99/28\\\"],\\\"CountryIsoCodes\\\":null,\\\"Categories\\\":[],\\\"ApplyToUnknownCountry\\\":false}}', 'PolicyLastUpdatedTime': '7/8/2020 2:30:51 AM', 'TenantDefaultPolicy': '6', 'DisplayName': 'Known Networks List', 'PolicyIdentifierString': '3/19/2020 7:45:08 PM'})\"],[\"Cmd(name='Set-ConditionalAccessPolicy', params={'Identity': 'seccxpninja.onmicrosoft.com\\\\\\\\e183bd29-a3a3-4f91-a5a3-b83b21a544df', 'PolicyDetails': '{\\\"Version\\\":0,\\\"State\\\":\\\"Enabled\\\",\\\"Conditions\\\":{\\\"Applications\\\":{\\\"Include\\\":[{\\\"Applications\\\":[\\\"00000002-0000-0ff1-ce00-000000000000\\\"]}]},\\\"Users\\\":{\\\"Include\\\":[{\\\"Users\\\":[\\\"2935e535-8fdf-4217-865b-e084cb7214f1\\\"]}]}},\\\"SessionControls\\\":[\\\"AppEnforcedRestrictions\\\"],\\\"PersistentBrowserSessionMode\\\":\\\"NotSet\\\",\\\"EnforceAllPoliciesForEas\\\":false,\\\"IncludeOtherLegacyClientTypeForEvaluation\\\":false}', 'PolicyLastUpdatedTime': '7/8/2020 4:57:43 AM', 'TenantDefaultPolicy': '', 'DisplayName': 'JulianI Exchange native controls', 'PolicyIdentifierString': ''})\",\"Cmd(name='Set-ConditionalAccessPolicy', params={'Identity': 'seccxpninja.onmicrosoft.com\\\\\\\\83a057fb-dbca-4ba8-bb5f-0ce6d6e7cff5', 'PolicyDetails': '{\\\"Version\\\":0,\\\"State\\\":\\\"Enabled\\\",\\\"Conditions\\\":{\\\"Applications\\\":{\\\"Include\\\":[{\\\"Acrs\\\":[\\\"urn:microsoft:req1\\\"]}]},\\\"Users\\\":{\\\"Include\\\":[{\\\"Users\\\":[\\\"eababd92-9dc7-40e3-9359-6c106522db19\\\"]}]}},\\\"Controls\\\":[{\\\"Control\\\":[\\\"Mfa\\\"]}],\\\"PersistentBrowserSessionMode\\\":\\\"NotSet\\\",\\\"EnforceAllPoliciesForEas\\\":false,\\\"IncludeOtherLegacyClientTypeForEvaluation\\\":false}', 'PolicyLastUpdatedTime': '7/8/2020 4:57:42 AM', 'TenantDefaultPolicy': '', 'DisplayName': 'MeganB MCAS Step-up', 'PolicyIdentifierString': ''})\"],[\"Cmd(name='Set-ConditionalAccessPolicy', params={'Identity': 'seccxpninja.onmicrosoft.com\\\\\\\\235bec94-f744-48ac-8314-5675953d2def', 'PolicyDetails': '{\\\"Version\\\":0,\\\"State\\\":\\\"Disabled\\\",\\\"Conditions\\\":{\\\"Applications\\\":{\\\"Include\\\":[{\\\"Applications\\\":[\\\"All\\\"]}]},\\\"Users\\\":{\\\"Include\\\":[{\\\"Users\\\":[\\\"eababd92-9dc7-40e3-9359-6c106522db19\\\"]}]},\\\"DevicePlatforms\\\":{\\\"Include\\\":[{\\\"DevicePlatforms\\\":[\\\"All\\\"]}],\\\"Exclude\\\":[{\\\"DevicePlatforms\\\":[\\\"macOS\\\"]}]}},\\\"Controls\\\":[{\\\"Control\\\":[\\\"Mfa\\\"]}],\\\"PersistentBrowserSessionMode\\\":\\\"NotSet\\\",\\\"EnforceAllPoliciesForEas\\\":false,\\\"IncludeOtherLegacyClientTypeForEvaluation\\\":false}', 'PolicyLastUpdatedTime': '7/9/2020 2:37:12 AM', 'TenantDefaultPolicy': '', 'DisplayName': 'Megan MFA demo', 'PolicyIdentifierString': ''})\",\"Cmd(name='Set-ConditionalAccessPolicy', params={'Identity': 'seccxpninja.onmicrosoft.com\\\\\\\\2e76d011-eaa3-40b4-8ce8-7fba52bf3af8', 'PolicyDetails': '{\\\"Version\\\":0,\\\"State\\\":\\\"Reporting\\\",\\\"Conditions\\\":{\\\"Applications\\\":{\\\"Include\\\":[{\\\"Applications\\\":[\\\"f9e8b3d0-ba26-42cd-b544-c90a66191a81\\\"]}]},\\\"Users\\\":{\\\"Include\\\":[{\\\"Users\\\":[\\\"All\\\"]}]}},\\\"SessionControls\\\":[\\\"CloudAppSecurity\\\"],\\\"PersistentBrowserSessionMode\\\":\\\"NotSet\\\",\\\"EnforceAllPoliciesForEas\\\":false,\\\"IncludeOtherLegacyClientTypeForEvaluation\\\":false,\\\"CasSessionControlType\\\":1}', 'PolicyLastUpdatedTime': '7/9/2020 2:37:14 AM', 'TenantDefaultPolicy': '', 'DisplayName': 'On-Prem SharePoint - MeganB proxy', 'PolicyIdentifierString': ''})\"],[\"Cmd(name='Set-ConditionalAccessPolicy', params={'Identity': 'seccxpninja.onmicrosoft.com\\\\\\\\ba36f0a4-6d73-4ba4-9282-3b3c14575e36', 'PolicyDetails': '{\\\"Version\\\":0,\\\"ModifiedDateTime\\\":\\\"2020-05-19T13:31:41.7083504Z\\\",\\\"State\\\":\\\"Disabled\\\",\\\"Conditions\\\":{\\\"Applications\\\":{\\\"Include\\\":[{\\\"Applications\\\":[\\\"00000002-0000-0ff1-ce00-000000000000\\\",\\\"00000003-0000-0ff1-ce00-000000000000\\\"]}]},\\\"Users\\\":{\\\"Include\\\":[{\\\"Users\\\":[\\\"2935e535-8fdf-4217-865b-e084cb7214f1\\\"]}]},\\\"DevicePlatforms\\\":{\\\"Include\\\":[{\\\"DevicePlatforms\\\":[\\\"All\\\"]}],\\\"Exclude\\\":[{\\\"DevicePlatforms\\\":[\\\"Android\\\",\\\"iOS\\\",\\\"macOS\\\"]}]},\\\"ClientTypes\\\":{\\\"Include\\\":[{\\\"ClientTypes\\\":[\\\"Browser\\\",\\\"Native\\\"]}]}},\\\"SessionControls\\\":[\\\"CloudAppSecurity\\\"],\\\"CasSessionControlType\\\":1}', 'PolicyLastUpdatedTime': '7/10/2020 2:47:08 AM', 'TenantDefaultPolicy': '', 'DisplayName': 'Block Access JulianI', 'PolicyIdentifierString': ''})\",\"Cmd(name='Set-ConditionalAccessPolicy', params={'Identity': 'seccxpninja.onmicrosoft.com\\\\\\\\4c5a5ea0-5d9f-4730-baaa-7a69cf29ef26', 'PolicyDetails': '{\\\"Version\\\":0,\\\"State\\\":\\\"Enabled\\\",\\\"Conditions\\\":{\\\"Applications\\\":{\\\"Include\\\":[{\\\"Applications\\\":[\\\"All\\\"]}]},\\\"Users\\\":{\\\"Include\\\":[{\\\"Users\\\":[\\\"bdb72692-2275-412b-8af0-ea21c2ebd174\\\"]}]}},\\\"Controls\\\":[{\\\"Control\\\":[\\\"Mfa\\\"]}],\\\"PersistentBrowserSessionMode\\\":\\\"NotSet\\\",\\\"EnforceAllPoliciesForEas\\\":false,\\\"IncludeOtherLegacyClientTypeForEvaluation\\\":false}', 'PolicyLastUpdatedTime': '7/10/2020 2:47:08 AM', 'TenantDefaultPolicy': '', 'DisplayName': 'Semolen - Admin MFA', 'PolicyIdentifierString': ''})\"],[\"Cmd(name='Set-ConditionalAccessPolicy', params={'Identity': 'seccxpninja.onmicrosoft.com\\\\\\\\ba36f0a4-6d73-4ba4-9282-3b3c14575e36', 'PolicyDetails': '{\\\"Version\\\":0,\\\"ModifiedDateTime\\\":\\\"2020-05-19T13:31:41.7083504Z\\\",\\\"State\\\":\\\"Disabled\\\",\\\"Conditions\\\":{\\\"Applications\\\":{\\\"Include\\\":[{\\\"Applications\\\":[\\\"00000002-0000-0ff1-ce00-000000000000\\\",\\\"00000003-0000-0ff1-ce00-000000000000\\\"]}]},\\\"Users\\\":{\\\"Include\\\":[{\\\"Users\\\":[\\\"2935e535-8fdf-4217-865b-e084cb7214f1\\\"]}]},\\\"DevicePlatforms\\\":{\\\"Include\\\":[{\\\"DevicePlatforms\\\":[\\\"All\\\"]}],\\\"Exclude\\\":[{\\\"DevicePlatforms\\\":[\\\"Android\\\",\\\"iOS\\\",\\\"macOS\\\"]}]},\\\"ClientTypes\\\":{\\\"Include\\\":[{\\\"ClientTypes\\\":[\\\"Browser\\\",\\\"Native\\\"]}]}},\\\"SessionControls\\\":[\\\"CloudAppSecurity\\\"],\\\"CasSessionControlType\\\":1}', 'PolicyLastUpdatedTime': '7/10/2020 5:29:23 AM', 'TenantDefaultPolicy': '', 'DisplayName': 'Block Access JulianI', 'PolicyIdentifierString': ''})\",\"Cmd(name='Set-ConditionalAccessPolicy', params={'Identity': 'seccxpninja.onmicrosoft.com\\\\\\\\2e76d011-eaa3-40b4-8ce8-7fba52bf3af8', 'PolicyDetails': '{\\\"Version\\\":0,\\\"State\\\":\\\"Reporting\\\",\\\"Conditions\\\":{\\\"Applications\\\":{\\\"Include\\\":[{\\\"Applications\\\":[\\\"f9e8b3d0-ba26-42cd-b544-c90a66191a81\\\"]}]},\\\"Users\\\":{\\\"Include\\\":[{\\\"Users\\\":[\\\"All\\\"]}]}},\\\"SessionControls\\\":[\\\"CloudAppSecurity\\\"],\\\"PersistentBrowserSessionMode\\\":\\\"NotSet\\\",\\\"EnforceAllPoliciesForEas\\\":false,\\\"IncludeOtherLegacyClientTypeForEvaluation\\\":false,\\\"CasSessionControlType\\\":1}', 'PolicyLastUpdatedTime': '7/10/2020 5:29:22 AM', 'TenantDefaultPolicy': '', 'DisplayName': 'On-Prem SharePoint - MeganB proxy', 'PolicyIdentifierString': ''})\"],[\"Cmd(name='Set-ConditionalAccessPolicy', params={'Identity': 'seccxpninja.onmicrosoft.com\\\\\\\\8872f6fb-da88-4b63-bcc7-17247669596b', 'PolicyDetails': '{\\\"Version\\\":0,\\\"State\\\":\\\"Enabled\\\",\\\"Conditions\\\":{\\\"Applications\\\":{\\\"Include\\\":[{\\\"Applications\\\":[\\\"00000002-0000-0ff1-ce00-000000000000\\\",\\\"09abbdfd-ed23-44ee-a2d9-a627aa1c90f3\\\",\\\"cc15fd57-2c6c-4117-a88c-83b1d56b4bbe\\\",\\\"00000003-0000-0ff1-ce00-000000000000\\\",\\\"00000005-0000-0ff1-ce00-000000000000\\\"]}]},\\\"Users\\\":{\\\"Include\\\":[{\\\"Users\\\":[\\\"eababd92-9dc7-40e3-9359-6c106522db19\\\"]}]}},\\\"SessionControls\\\":[\\\"CloudAppSecurity\\\"],\\\"PersistentBrowserSessionMode\\\":\\\"NotSet\\\",\\\"EnforceAllPoliciesForEas\\\":false,\\\"IncludeOtherLegacyClientTypeForEvaluation\\\":false,\\\"CasSessionControlType\\\":1}', 'PolicyLastUpdatedTime': '7/11/2020 2:21:22 AM', 'TenantDefaultPolicy': '', 'DisplayName': 'MeganB MCAS Proxy', 'PolicyIdentifierString': ''})\",\"Cmd(name='Set-ConditionalAccessPolicy', params={'Identity': 'seccxpninja.onmicrosoft.com\\\\\\\\3b13ea3c-c733-4eb8-bd19-67d308b2ea04', 'PolicyDetails': '{\\\"Version\\\":0,\\\"CreatedDateTime\\\":\\\"2020-05-19T13:34:15.2394934Z\\\",\\\"ModifiedDateTime\\\":\\\"2020-05-19T13:39:04.7333386Z\\\",\\\"State\\\":\\\"Reporting\\\",\\\"Conditions\\\":{\\\"Applications\\\":{\\\"Include\\\":[{\\\"Applications\\\":[\\\"None\\\"]}]},\\\"Users\\\":{\\\"Include\\\":[{\\\"Users\\\":[\\\"Guests\\\"]}]},\\\"DevicePlatforms\\\":{\\\"Include\\\":[{\\\"DevicePlatforms\\\":[\\\"All\\\"]}],\\\"Exclude\\\":[{\\\"DevicePlatforms\\\":[\\\"Android\\\",\\\"iOS\\\",\\\"macOS\\\"]}]},\\\"ClientTypes\\\":{\\\"Include\\\":[{\\\"ClientTypes\\\":[\\\"Browser\\\",\\\"Native\\\"]}]}},\\\"Controls\\\":[{\\\"Control\\\":[\\\"Mfa\\\",\\\"RequireCompliantDevice\\\"]}]}', 'PolicyLastUpdatedTime': '7/11/2020 2:21:26 AM', 'TenantDefaultPolicy': '', 'DisplayName': 'Yanivsh -CA Test', 'PolicyIdentifierString': ''})\"],[\"Cmd(name='Set-ConditionalAccessPolicy', params={'Identity': 'seccxpninja.onmicrosoft.com\\\\\\\\6490d00c-7ba1-42cf-aa88-99eb71d53bf7', 'PolicyDetails': '{\\\"Version\\\":0,\\\"LastUpdatedTimestamp\\\":\\\"2020-07-02T12:42:35.1866847Z\\\",\\\"State\\\":\\\"Disabled\\\",\\\"SignInFrequency\\\":\\\"NotSet\\\",\\\"PersistentBrowserSessionMode\\\":\\\"NotSet\\\"}', 'PolicyLastUpdatedTime': '7/11/2020 5:03:43 AM', 'TenantDefaultPolicy': '18', 'DisplayName': 'Default Policy', 'PolicyIdentifierString': '5/19/2020 1:39:05 PM'})\",\"Cmd(name='Set-ConditionalAccessPolicy', params={'Identity': 'seccxpninja.onmicrosoft.com\\\\\\\\e183bd29-a3a3-4f91-a5a3-b83b21a544df', 'PolicyDetails': '{\\\"Version\\\":0,\\\"State\\\":\\\"Enabled\\\",\\\"Conditions\\\":{\\\"Applications\\\":{\\\"Include\\\":[{\\\"Applications\\\":[\\\"00000002-0000-0ff1-ce00-000000000000\\\"]}]},\\\"Users\\\":{\\\"Include\\\":[{\\\"Users\\\":[\\\"2935e535-8fdf-4217-865b-e084cb7214f1\\\"]}]}},\\\"SessionControls\\\":[\\\"AppEnforcedRestrictions\\\"],\\\"PersistentBrowserSessionMode\\\":\\\"NotSet\\\",\\\"EnforceAllPoliciesForEas\\\":false,\\\"IncludeOtherLegacyClientTypeForEvaluation\\\":false}', 'PolicyLastUpdatedTime': '7/11/2020 5:03:44 AM', 'TenantDefaultPolicy': '', 'DisplayName': 'JulianI Exchange native controls', 'PolicyIdentifierString': ''})\"],[\"Cmd(name='Set-ConditionalAccessPolicy', params={'Identity': 'seccxpninja.onmicrosoft.com\\\\\\\\69c7a12f-b407-45a3-b07e-fa04fc7f273d', 'PolicyDetails': '{\\\"Version\\\":0,\\\"State\\\":\\\"Enabled\\\",\\\"Conditions\\\":{\\\"Applications\\\":{\\\"Include\\\":[{\\\"Applications\\\":[\\\"00000003-0000-0ff1-ce00-000000000000\\\"]}]},\\\"Users\\\":{\\\"Include\\\":[{\\\"Users\\\":[\\\"All\\\"]}]}},\\\"SessionControls\\\":[\\\"CloudAppSecurity\\\"],\\\"PersistentBrowserSessionMode\\\":\\\"NotSet\\\",\\\"EnforceAllPoliciesForEas\\\":false,\\\"IncludeOtherLegacyClientTypeForEvaluation\\\":false,\\\"CasSessionControlType\\\":1}', 'PolicyLastUpdatedTime': '7/11/2020 5:03:43 AM', 'TenantDefaultPolicy': '', 'DisplayName': 'Test Policy', 'PolicyIdentifierString': ''})\",\"Cmd(name='Set-ConditionalAccessPolicy', params={'Identity': 'seccxpninja.onmicrosoft.com\\\\\\\\bcd93f74-64fd-4042-a3ae-ee6d48886d6d', 'PolicyDetails': '{\\\"Version\\\":0,\\\"State\\\":\\\"Enabled\\\",\\\"Conditions\\\":{\\\"Applications\\\":{\\\"Include\\\":[{\\\"Applications\\\":[\\\"c9a559d2-7aab-4f13-a6ed-e7e9c52aec87\\\"]}]},\\\"Users\\\":{\\\"Include\\\":[{\\\"Users\\\":[\\\"bdb72692-2275-412b-8af0-ea21c2ebd174\\\",\\\"eababd92-9dc7-40e3-9359-6c106522db19\\\"]}]}},\\\"SessionControls\\\":[\\\"CloudAppSecurity\\\"],\\\"PersistentBrowserSessionMode\\\":\\\"NotSet\\\",\\\"EnforceAllPoliciesForEas\\\":false,\\\"IncludeOtherLegacyClientTypeForEvaluation\\\":false,\\\"CasSessionControlType\\\":3}', 'PolicyLastUpdatedTime': '7/11/2020 5:03:41 AM', 'TenantDefaultPolicy': '', 'DisplayName': 'Form MCAS', 'PolicyIdentifierString': ''})\"],[\"Cmd(name='Set-ConditionalAccessPolicy', params={'Identity': 'seccxpninja.onmicrosoft.com\\\\\\\\e183bd29-a3a3-4f91-a5a3-b83b21a544df', 'PolicyDetails': '{\\\"Version\\\":0,\\\"State\\\":\\\"Enabled\\\",\\\"Conditions\\\":{\\\"Applications\\\":{\\\"Include\\\":[{\\\"Applications\\\":[\\\"00000002-0000-0ff1-ce00-000000000000\\\"]}]},\\\"Users\\\":{\\\"Include\\\":[{\\\"Users\\\":[\\\"2935e535-8fdf-4217-865b-e084cb7214f1\\\"]}]}},\\\"SessionControls\\\":[\\\"AppEnforcedRestrictions\\\"],\\\"PersistentBrowserSessionMode\\\":\\\"NotSet\\\",\\\"EnforceAllPoliciesForEas\\\":false,\\\"IncludeOtherLegacyClientTypeForEvaluation\\\":false}', 'PolicyLastUpdatedTime': '7/12/2020 2:47:24 AM', 'TenantDefaultPolicy': '', 'DisplayName': 'JulianI Exchange native controls', 'PolicyIdentifierString': ''})\",\"Cmd(name='Set-ConditionalAccessPolicy', params={'Identity': 'seccxpninja.onmicrosoft.com\\\\\\\\83a057fb-dbca-4ba8-bb5f-0ce6d6e7cff5', 'PolicyDetails': '{\\\"Version\\\":0,\\\"State\\\":\\\"Enabled\\\",\\\"Conditions\\\":{\\\"Applications\\\":{\\\"Include\\\":[{\\\"Acrs\\\":[\\\"urn:microsoft:req1\\\"]}]},\\\"Users\\\":{\\\"Include\\\":[{\\\"Users\\\":[\\\"eababd92-9dc7-40e3-9359-6c106522db19\\\"]}]}},\\\"Controls\\\":[{\\\"Control\\\":[\\\"Mfa\\\"]}],\\\"PersistentBrowserSessionMode\\\":\\\"NotSet\\\",\\\"EnforceAllPoliciesForEas\\\":false,\\\"IncludeOtherLegacyClientTypeForEvaluation\\\":false}', 'PolicyLastUpdatedTime': '7/12/2020 2:47:24 AM', 'TenantDefaultPolicy': '', 'DisplayName': 'MeganB MCAS Step-up', 'PolicyIdentifierString': ''})\"],[\"Cmd(name='Set-ConditionalAccessPolicy', params={'Identity': 'seccxpninja.onmicrosoft.com\\\\\\\\e183bd29-a3a3-4f91-a5a3-b83b21a544df', 'PolicyDetails': '{\\\"Version\\\":0,\\\"State\\\":\\\"Enabled\\\",\\\"Conditions\\\":{\\\"Applications\\\":{\\\"Include\\\":[{\\\"Applications\\\":[\\\"00000002-0000-0ff1-ce00-000000000000\\\"]}]},\\\"Users\\\":{\\\"Include\\\":[{\\\"Users\\\":[\\\"2935e535-8fdf-4217-865b-e084cb7214f1\\\"]}]}},\\\"SessionControls\\\":[\\\"AppEnforcedRestrictions\\\"],\\\"PersistentBrowserSessionMode\\\":\\\"NotSet\\\",\\\"EnforceAllPoliciesForEas\\\":false,\\\"IncludeOtherLegacyClientTypeForEvaluation\\\":false}', 'PolicyLastUpdatedTime': '7/12/2020 5:31:05 AM', 'TenantDefaultPolicy': '', 'DisplayName': 'JulianI Exchange native controls', 'PolicyIdentifierString': ''})\",\"Cmd(name='Set-ConditionalAccessPolicy', params={'Identity': 'seccxpninja.onmicrosoft.com\\\\\\\\6490d00c-7ba1-42cf-aa88-99eb71d53bf7', 'PolicyDetails': '{\\\"Version\\\":0,\\\"LastUpdatedTimestamp\\\":\\\"2020-07-02T12:42:35.1866847Z\\\",\\\"State\\\":\\\"Disabled\\\",\\\"SignInFrequency\\\":\\\"NotSet\\\",\\\"PersistentBrowserSessionMode\\\":\\\"NotSet\\\"}', 'PolicyLastUpdatedTime': '7/12/2020 5:31:05 AM', 'TenantDefaultPolicy': '18', 'DisplayName': 'Default Policy', 'PolicyIdentifierString': '5/19/2020 1:39:05 PM'})\"],[\"Cmd(name='Set-ConditionalAccessPolicy', params={'Identity': 'seccxpninja.onmicrosoft.com\\\\\\\\8872f6fb-da88-4b63-bcc7-17247669596b', 'PolicyDetails': '{\\\"Version\\\":0,\\\"State\\\":\\\"Enabled\\\",\\\"Conditions\\\":{\\\"Applications\\\":{\\\"Include\\\":[{\\\"Applications\\\":[\\\"00000002-0000-0ff1-ce00-000000000000\\\",\\\"09abbdfd-ed23-44ee-a2d9-a627aa1c90f3\\\",\\\"cc15fd57-2c6c-4117-a88c-83b1d56b4bbe\\\",\\\"00000003-0000-0ff1-ce00-000000000000\\\",\\\"00000005-0000-0ff1-ce00-000000000000\\\"]}]},\\\"Users\\\":{\\\"Include\\\":[{\\\"Users\\\":[\\\"eababd92-9dc7-40e3-9359-6c106522db19\\\"]}]}},\\\"SessionControls\\\":[\\\"CloudAppSecurity\\\"],\\\"PersistentBrowserSessionMode\\\":\\\"NotSet\\\",\\\"EnforceAllPoliciesForEas\\\":false,\\\"IncludeOtherLegacyClientTypeForEvaluation\\\":false,\\\"CasSessionControlType\\\":1}', 'PolicyLastUpdatedTime': '7/13/2020 2:48:08 AM', 'TenantDefaultPolicy': '', 'DisplayName': 'MeganB MCAS Proxy', 'PolicyIdentifierString': ''})\",\"Cmd(name='Set-ConditionalAccessPolicy', params={'Identity': 'seccxpninja.onmicrosoft.com\\\\\\\\235bec94-f744-48ac-8314-5675953d2def', 'PolicyDetails': '{\\\"Version\\\":0,\\\"State\\\":\\\"Disabled\\\",\\\"Conditions\\\":{\\\"Applications\\\":{\\\"Include\\\":[{\\\"Applications\\\":[\\\"All\\\"]}]},\\\"Users\\\":{\\\"Include\\\":[{\\\"Users\\\":[\\\"eababd92-9dc7-40e3-9359-6c106522db19\\\"]}]},\\\"DevicePlatforms\\\":{\\\"Include\\\":[{\\\"DevicePlatforms\\\":[\\\"All\\\"]}],\\\"Exclude\\\":[{\\\"DevicePlatforms\\\":[\\\"macOS\\\"]}]}},\\\"Controls\\\":[{\\\"Control\\\":[\\\"Mfa\\\"]}],\\\"PersistentBrowserSessionMode\\\":\\\"NotSet\\\",\\\"EnforceAllPoliciesForEas\\\":false,\\\"IncludeOtherLegacyClientTypeForEvaluation\\\":false}', 'PolicyLastUpdatedTime': '7/13/2020 2:48:09 AM', 'TenantDefaultPolicy': '', 'DisplayName': 'Megan MFA demo', 'PolicyIdentifierString': ''})\"],[\"Cmd(name='Set-ConditionalAccessPolicy', params={'Identity': 'seccxpninja.onmicrosoft.com\\\\\\\\e183bd29-a3a3-4f91-a5a3-b83b21a544df', 'PolicyDetails': '{\\\"Version\\\":0,\\\"State\\\":\\\"Enabled\\\",\\\"Conditions\\\":{\\\"Applications\\\":{\\\"Include\\\":[{\\\"Applications\\\":[\\\"00000002-0000-0ff1-ce00-000000000000\\\"]}]},\\\"Users\\\":{\\\"Include\\\":[{\\\"Users\\\":[\\\"2935e535-8fdf-4217-865b-e084cb7214f1\\\"]}]}},\\\"SessionControls\\\":[\\\"AppEnforcedRestrictions\\\"],\\\"PersistentBrowserSessionMode\\\":\\\"NotSet\\\",\\\"EnforceAllPoliciesForEas\\\":false,\\\"IncludeOtherLegacyClientTypeForEvaluation\\\":false}', 'PolicyLastUpdatedTime': '7/13/2020 5:38:31 AM', 'TenantDefaultPolicy': '', 'DisplayName': 'JulianI Exchange native controls', 'PolicyIdentifierString': ''})\",\"Cmd(name='Set-ConditionalAccessPolicy', params={'Identity': 'seccxpninja.onmicrosoft.com\\\\\\\\ba36f0a4-6d73-4ba4-9282-3b3c14575e36', 'PolicyDetails': '{\\\"Version\\\":0,\\\"ModifiedDateTime\\\":\\\"2020-05-19T13:31:41.7083504Z\\\",\\\"State\\\":\\\"Disabled\\\",\\\"Conditions\\\":{\\\"Applications\\\":{\\\"Include\\\":[{\\\"Applications\\\":[\\\"00000002-0000-0ff1-ce00-000000000000\\\",\\\"00000003-0000-0ff1-ce00-000000000000\\\"]}]},\\\"Users\\\":{\\\"Include\\\":[{\\\"Users\\\":[\\\"2935e535-8fdf-4217-865b-e084cb7214f1\\\"]}]},\\\"DevicePlatforms\\\":{\\\"Include\\\":[{\\\"DevicePlatforms\\\":[\\\"All\\\"]}],\\\"Exclude\\\":[{\\\"DevicePlatforms\\\":[\\\"Android\\\",\\\"iOS\\\",\\\"macOS\\\"]}]},\\\"ClientTypes\\\":{\\\"Include\\\":[{\\\"ClientTypes\\\":[\\\"Browser\\\",\\\"Native\\\"]}]}},\\\"SessionControls\\\":[\\\"CloudAppSecurity\\\"],\\\"CasSessionControlType\\\":1}', 'PolicyLastUpdatedTime': '7/13/2020 5:38:30 AM', 'TenantDefaultPolicy': '', 'DisplayName': 'Block Access JulianI', 'PolicyIdentifierString': ''})\"],[\"Cmd(name='Set-ConditionalAccessPolicy', params={'Identity': 'seccxpninja.onmicrosoft.com\\\\\\\\2e76d011-eaa3-40b4-8ce8-7fba52bf3af8', 'PolicyDetails': '{\\\"Version\\\":0,\\\"State\\\":\\\"Reporting\\\",\\\"Conditions\\\":{\\\"Applications\\\":{\\\"Include\\\":[{\\\"Applications\\\":[\\\"f9e8b3d0-ba26-42cd-b544-c90a66191a81\\\"]}]},\\\"Users\\\":{\\\"Include\\\":[{\\\"Users\\\":[\\\"All\\\"]}]}},\\\"SessionControls\\\":[\\\"CloudAppSecurity\\\"],\\\"PersistentBrowserSessionMode\\\":\\\"NotSet\\\",\\\"EnforceAllPoliciesForEas\\\":false,\\\"IncludeOtherLegacyClientTypeForEvaluation\\\":false,\\\"CasSessionControlType\\\":1}', 'PolicyLastUpdatedTime': '7/13/2020 5:38:30 AM', 'TenantDefaultPolicy': '', 'DisplayName': 'On-Prem SharePoint - MeganB proxy', 'PolicyIdentifierString': ''})\",\"Cmd(name='Set-ConditionalAccessPolicy', params={'Identity': 'seccxpninja.onmicrosoft.com\\\\\\\\3b13ea3c-c733-4eb8-bd19-67d308b2ea04', 'PolicyDetails': '{\\\"Version\\\":0,\\\"CreatedDateTime\\\":\\\"2020-05-19T13:34:15.2394934Z\\\",\\\"ModifiedDateTime\\\":\\\"2020-05-19T13:39:04.7333386Z\\\",\\\"State\\\":\\\"Reporting\\\",\\\"Conditions\\\":{\\\"Applications\\\":{\\\"Include\\\":[{\\\"Applications\\\":[\\\"None\\\"]}]},\\\"Users\\\":{\\\"Include\\\":[{\\\"Users\\\":[\\\"Guests\\\"]}]},\\\"DevicePlatforms\\\":{\\\"Include\\\":[{\\\"DevicePlatforms\\\":[\\\"All\\\"]}],\\\"Exclude\\\":[{\\\"DevicePlatforms\\\":[\\\"Android\\\",\\\"iOS\\\",\\\"macOS\\\"]}]},\\\"ClientTypes\\\":{\\\"Include\\\":[{\\\"ClientTypes\\\":[\\\"Browser\\\",\\\"Native\\\"]}]}},\\\"Controls\\\":[{\\\"Control\\\":[\\\"Mfa\\\",\\\"RequireCompliantDevice\\\"]}]}', 'PolicyLastUpdatedTime': '7/13/2020 5:38:31 AM', 'TenantDefaultPolicy': '', 'DisplayName': 'Yanivsh -CA Test', 'PolicyIdentifierString': ''})\"],[\"Cmd(name='Set-ConditionalAccessPolicy', params={'Identity': 'seccxpninja.onmicrosoft.com\\\\\\\\5fd0c4ff-1cd7-4bf6-8607-294a04f58f12', 'PolicyDetails': '{\\\"Version\\\":0,\\\"State\\\":\\\"Disabled\\\",\\\"Conditions\\\":{\\\"Applications\\\":{\\\"Include\\\":[{\\\"Applications\\\":[\\\"All\\\"]}]},\\\"Users\\\":{\\\"Include\\\":[{\\\"Users\\\":[\\\"142512c7-f006-46ae-909c-14fa7bf6a887\\\"]}]}},\\\"Controls\\\":[{\\\"Control\\\":[\\\"Mfa\\\"]}],\\\"EnforceAllPoliciesForEas\\\":false,\\\"IncludeOtherLegacyClientTypeForEvaluation\\\":false}', 'PolicyLastUpdatedTime': '7/14/2020 2:31:27 AM', 'TenantDefaultPolicy': '', 'DisplayName': 'Azure MFA', 'PolicyIdentifierString': ''})\",\"Cmd(name='Set-ConditionalAccessPolicy', params={'Identity': 'seccxpninja.onmicrosoft.com\\\\\\\\b2915792-0396-4abe-94ec-e17fa17243c5', 'PolicyDetails': '{\\\"Version\\\":0,\\\"State\\\":\\\"Enabled\\\",\\\"Conditions\\\":{\\\"Applications\\\":{\\\"Include\\\":[{\\\"Applications\\\":[\\\"94c63fef-13a3-47bc-8074-75af8c65887a\\\",\\\"c9a559d2-7aab-4f13-a6ed-e7e9c52aec87\\\"]}]},\\\"Users\\\":{\\\"Include\\\":[{\\\"Users\\\":[\\\"bdb72692-2275-412b-8af0-ea21c2ebd174\\\",\\\"eababd92-9dc7-40e3-9359-6c106522db19\\\"]}]},\\\"SignInRisks\\\":{\\\"Include\\\":[{\\\"SignInRisks\\\":[\\\"High\\\",\\\"Medium\\\",\\\"Low\\\"]}]}},\\\"SessionControls\\\":[\\\"CloudAppSecurity\\\"],\\\"PersistentBrowserSessionMode\\\":\\\"NotSet\\\",\\\"EnforceAllPoliciesForEas\\\":false,\\\"IncludeOtherLegacyClientTypeForEvaluation\\\":false,\\\"CasSessionControlType\\\":3}', 'PolicyLastUpdatedTime': '7/14/2020 2:31:27 AM', 'TenantDefaultPolicy': '', 'DisplayName': 'GBB demo', 'PolicyIdentifierString': ''})\"],[\"Cmd(name='Set-ConditionalAccessPolicy', params={'Identity': 'seccxpninja.onmicrosoft.com\\\\\\\\235bec94-f744-48ac-8314-5675953d2def', 'PolicyDetails': '{\\\"Version\\\":0,\\\"State\\\":\\\"Disabled\\\",\\\"Conditions\\\":{\\\"Applications\\\":{\\\"Include\\\":[{\\\"Applications\\\":[\\\"All\\\"]}]},\\\"Users\\\":{\\\"Include\\\":[{\\\"Users\\\":[\\\"eababd92-9dc7-40e3-9359-6c106522db19\\\"]}]},\\\"DevicePlatforms\\\":{\\\"Include\\\":[{\\\"DevicePlatforms\\\":[\\\"All\\\"]}],\\\"Exclude\\\":[{\\\"DevicePlatforms\\\":[\\\"macOS\\\"]}]}},\\\"Controls\\\":[{\\\"Control\\\":[\\\"Mfa\\\"]}],\\\"PersistentBrowserSessionMode\\\":\\\"NotSet\\\",\\\"EnforceAllPoliciesForEas\\\":false,\\\"IncludeOtherLegacyClientTypeForEvaluation\\\":false}', 'PolicyLastUpdatedTime': '7/14/2020 5:26:43 AM', 'TenantDefaultPolicy': '', 'DisplayName': 'Megan MFA demo', 'PolicyIdentifierString': ''})\",\"Cmd(name='Set-ConditionalAccessPolicy', params={'Identity': 'seccxpninja.onmicrosoft.com\\\\\\\\83a057fb-dbca-4ba8-bb5f-0ce6d6e7cff5', 'PolicyDetails': '{\\\"Version\\\":0,\\\"State\\\":\\\"Enabled\\\",\\\"Conditions\\\":{\\\"Applications\\\":{\\\"Include\\\":[{\\\"Acrs\\\":[\\\"urn:microsoft:req1\\\"]}]},\\\"Users\\\":{\\\"Include\\\":[{\\\"Users\\\":[\\\"eababd92-9dc7-40e3-9359-6c106522db19\\\"]}]}},\\\"Controls\\\":[{\\\"Control\\\":[\\\"Mfa\\\"]}],\\\"PersistentBrowserSessionMode\\\":\\\"NotSet\\\",\\\"EnforceAllPoliciesForEas\\\":false,\\\"IncludeOtherLegacyClientTypeForEvaluation\\\":false}', 'PolicyLastUpdatedTime': '7/14/2020 5:26:43 AM', 'TenantDefaultPolicy': '', 'DisplayName': 'MeganB MCAS Step-up', 'PolicyIdentifierString': ''})\"],[\"Cmd(name='Set-ConditionalAccessPolicy', params={'Identity': 'seccxpninja.onmicrosoft.com\\\\\\\\8872f6fb-da88-4b63-bcc7-17247669596b', 'PolicyDetails': '{\\\"Version\\\":0,\\\"State\\\":\\\"Enabled\\\",\\\"Conditions\\\":{\\\"Applications\\\":{\\\"Include\\\":[{\\\"Applications\\\":[\\\"00000002-0000-0ff1-ce00-000000000000\\\",\\\"09abbdfd-ed23-44ee-a2d9-a627aa1c90f3\\\",\\\"cc15fd57-2c6c-4117-a88c-83b1d56b4bbe\\\",\\\"00000003-0000-0ff1-ce00-000000000000\\\",\\\"00000005-0000-0ff1-ce00-000000000000\\\"]}]},\\\"Users\\\":{\\\"Include\\\":[{\\\"Users\\\":[\\\"eababd92-9dc7-40e3-9359-6c106522db19\\\"]}]}},\\\"SessionControls\\\":[\\\"CloudAppSecurity\\\"],\\\"PersistentBrowserSessionMode\\\":\\\"NotSet\\\",\\\"EnforceAllPoliciesForEas\\\":false,\\\"IncludeOtherLegacyClientTypeForEvaluation\\\":false,\\\"CasSessionControlType\\\":1}', 'PolicyLastUpdatedTime': '7/15/2020 2:50:27 AM', 'TenantDefaultPolicy': '', 'DisplayName': 'MeganB MCAS Proxy', 'PolicyIdentifierString': ''})\",\"Cmd(name='Set-ConditionalAccessPolicy', params={'Identity': 'seccxpninja.onmicrosoft.com\\\\\\\\b2915792-0396-4abe-94ec-e17fa17243c5', 'PolicyDetails': '{\\\"Version\\\":0,\\\"State\\\":\\\"Enabled\\\",\\\"Conditions\\\":{\\\"Applications\\\":{\\\"Include\\\":[{\\\"Applications\\\":[\\\"94c63fef-13a3-47bc-8074-75af8c65887a\\\",\\\"c9a559d2-7aab-4f13-a6ed-e7e9c52aec87\\\"]}]},\\\"Users\\\":{\\\"Include\\\":[{\\\"Users\\\":[\\\"bdb72692-2275-412b-8af0-ea21c2ebd174\\\",\\\"eababd92-9dc7-40e3-9359-6c106522db19\\\"]}]},\\\"SignInRisks\\\":{\\\"Include\\\":[{\\\"SignInRisks\\\":[\\\"High\\\",\\\"Medium\\\",\\\"Low\\\"]}]}},\\\"SessionControls\\\":[\\\"CloudAppSecurity\\\"],\\\"PersistentBrowserSessionMode\\\":\\\"NotSet\\\",\\\"EnforceAllPoliciesForEas\\\":false,\\\"IncludeOtherLegacyClientTypeForEvaluation\\\":false,\\\"CasSessionControlType\\\":3}', 'PolicyLastUpdatedTime': '7/15/2020 2:50:29 AM', 'TenantDefaultPolicy': '', 'DisplayName': 'GBB demo', 'PolicyIdentifierString': ''})\"],[\"Cmd(name='Set-ConditionalAccessPolicy', params={'Identity': 'seccxpninja.onmicrosoft.com\\\\\\\\ba36f0a4-6d73-4ba4-9282-3b3c14575e36', 'PolicyDetails': '{\\\"Version\\\":0,\\\"ModifiedDateTime\\\":\\\"2020-05-19T13:31:41.7083504Z\\\",\\\"State\\\":\\\"Disabled\\\",\\\"Conditions\\\":{\\\"Applications\\\":{\\\"Include\\\":[{\\\"Applications\\\":[\\\"00000002-0000-0ff1-ce00-000000000000\\\",\\\"00000003-0000-0ff1-ce00-000000000000\\\"]}]},\\\"Users\\\":{\\\"Include\\\":[{\\\"Users\\\":[\\\"2935e535-8fdf-4217-865b-e084cb7214f1\\\"]}]},\\\"DevicePlatforms\\\":{\\\"Include\\\":[{\\\"DevicePlatforms\\\":[\\\"All\\\"]}],\\\"Exclude\\\":[{\\\"DevicePlatforms\\\":[\\\"Android\\\",\\\"iOS\\\",\\\"macOS\\\"]}]},\\\"ClientTypes\\\":{\\\"Include\\\":[{\\\"ClientTypes\\\":[\\\"Browser\\\",\\\"Native\\\"]}]}},\\\"SessionControls\\\":[\\\"CloudAppSecurity\\\"],\\\"CasSessionControlType\\\":1}', 'PolicyLastUpdatedTime': '7/15/2020 5:27:44 AM', 'TenantDefaultPolicy': '', 'DisplayName': 'Block Access JulianI', 'PolicyIdentifierString': ''})\",\"Cmd(name='Set-ConditionalAccessPolicy', params={'Identity': 'seccxpninja.onmicrosoft.com\\\\\\\\4c5a5ea0-5d9f-4730-baaa-7a69cf29ef26', 'PolicyDetails': '{\\\"Version\\\":0,\\\"State\\\":\\\"Enabled\\\",\\\"Conditions\\\":{\\\"Applications\\\":{\\\"Include\\\":[{\\\"Applications\\\":[\\\"All\\\"]}]},\\\"Users\\\":{\\\"Include\\\":[{\\\"Users\\\":[\\\"bdb72692-2275-412b-8af0-ea21c2ebd174\\\"]}]}},\\\"Controls\\\":[{\\\"Control\\\":[\\\"Mfa\\\"]}],\\\"PersistentBrowserSessionMode\\\":\\\"NotSet\\\",\\\"EnforceAllPoliciesForEas\\\":false,\\\"IncludeOtherLegacyClientTypeForEvaluation\\\":false}', 'PolicyLastUpdatedTime': '7/15/2020 5:27:43 AM', 'TenantDefaultPolicy': '', 'DisplayName': 'Semolen - Admin MFA', 'PolicyIdentifierString': ''})\"],[\"Cmd(name='Set-ConditionalAccessPolicy', params={'Identity': 'seccxpninja.onmicrosoft.com\\\\\\\\4c5a5ea0-5d9f-4730-baaa-7a69cf29ef26', 'PolicyDetails': '{\\\"Version\\\":0,\\\"State\\\":\\\"Enabled\\\",\\\"Conditions\\\":{\\\"Applications\\\":{\\\"Include\\\":[{\\\"Applications\\\":[\\\"All\\\"]}]},\\\"Users\\\":{\\\"Include\\\":[{\\\"Users\\\":[\\\"bdb72692-2275-412b-8af0-ea21c2ebd174\\\"]}]}},\\\"Controls\\\":[{\\\"Control\\\":[\\\"Mfa\\\"]}],\\\"PersistentBrowserSessionMode\\\":\\\"NotSet\\\",\\\"EnforceAllPoliciesForEas\\\":false,\\\"IncludeOtherLegacyClientTypeForEvaluation\\\":false}', 'PolicyLastUpdatedTime': '7/16/2020 2:31:10 AM', 'TenantDefaultPolicy': '', 'DisplayName': 'Semolen - Admin MFA', 'PolicyIdentifierString': ''})\",\"Cmd(name='Set-ConditionalAccessPolicy', params={'Identity': 'seccxpninja.onmicrosoft.com\\\\\\\\bcd93f74-64fd-4042-a3ae-ee6d48886d6d', 'PolicyDetails': '{\\\"Version\\\":0,\\\"State\\\":\\\"Enabled\\\",\\\"Conditions\\\":{\\\"Applications\\\":{\\\"Include\\\":[{\\\"Applications\\\":[\\\"c9a559d2-7aab-4f13-a6ed-e7e9c52aec87\\\"]}]},\\\"Users\\\":{\\\"Include\\\":[{\\\"Users\\\":[\\\"bdb72692-2275-412b-8af0-ea21c2ebd174\\\",\\\"eababd92-9dc7-40e3-9359-6c106522db19\\\"]}]}},\\\"SessionControls\\\":[\\\"CloudAppSecurity\\\"],\\\"PersistentBrowserSessionMode\\\":\\\"NotSet\\\",\\\"EnforceAllPoliciesForEas\\\":false,\\\"IncludeOtherLegacyClientTypeForEvaluation\\\":false,\\\"CasSessionControlType\\\":3}', 'PolicyLastUpdatedTime': '7/16/2020 2:31:10 AM', 'TenantDefaultPolicy': '', 'DisplayName': 'Form MCAS', 'PolicyIdentifierString': ''})\"],[\"Cmd(name='Set-ConditionalAccessPolicy', params={'Identity': 'seccxpninja.onmicrosoft.com\\\\\\\\8872f6fb-da88-4b63-bcc7-17247669596b', 'PolicyDetails': '{\\\"Version\\\":0,\\\"State\\\":\\\"Enabled\\\",\\\"Conditions\\\":{\\\"Applications\\\":{\\\"Include\\\":[{\\\"Applications\\\":[\\\"00000002-0000-0ff1-ce00-000000000000\\\",\\\"09abbdfd-ed23-44ee-a2d9-a627aa1c90f3\\\",\\\"cc15fd57-2c6c-4117-a88c-83b1d56b4bbe\\\",\\\"00000003-0000-0ff1-ce00-000000000000\\\",\\\"00000005-0000-0ff1-ce00-000000000000\\\"]}]},\\\"Users\\\":{\\\"Include\\\":[{\\\"Users\\\":[\\\"eababd92-9dc7-40e3-9359-6c106522db19\\\"]}]}},\\\"SessionControls\\\":[\\\"CloudAppSecurity\\\"],\\\"PersistentBrowserSessionMode\\\":\\\"NotSet\\\",\\\"EnforceAllPoliciesForEas\\\":false,\\\"IncludeOtherLegacyClientTypeForEvaluation\\\":false,\\\"CasSessionControlType\\\":1}', 'PolicyLastUpdatedTime': '7/16/2020 5:00:45 AM', 'TenantDefaultPolicy': '', 'DisplayName': 'MeganB MCAS Proxy', 'PolicyIdentifierString': ''})\",\"Cmd(name='Set-ConditionalAccessPolicy', params={'Identity': 'seccxpninja.onmicrosoft.com\\\\\\\\8872f6fb-da88-4b63-bcc7-17247669596b', 'PolicyDetails': '{\\\"Version\\\":0,\\\"State\\\":\\\"Enabled\\\",\\\"Conditions\\\":{\\\"Applications\\\":{\\\"Include\\\":[{\\\"Applications\\\":[\\\"00000002-0000-0ff1-ce00-000000000000\\\",\\\"09abbdfd-ed23-44ee-a2d9-a627aa1c90f3\\\",\\\"cc15fd57-2c6c-4117-a88c-83b1d56b4bbe\\\",\\\"00000003-0000-0ff1-ce00-000000000000\\\",\\\"00000005-0000-0ff1-ce00-000000000000\\\"]}]},\\\"Users\\\":{\\\"Include\\\":[{\\\"Users\\\":[\\\"eababd92-9dc7-40e3-9359-6c106522db19\\\"]}]}},\\\"SessionControls\\\":[\\\"CloudAppSecurity\\\"],\\\"PersistentBrowserSessionMode\\\":\\\"NotSet\\\",\\\"EnforceAllPoliciesForEas\\\":false,\\\"IncludeOtherLegacyClientTypeForEvaluation\\\":false,\\\"CasSessionControlType\\\":1}', 'PolicyLastUpdatedTime': '7/16/2020 5:00:45 AM', 'TenantDefaultPolicy': '', 'DisplayName': 'MeganB MCAS Proxy', 'PolicyIdentifierString': ''})\"],[\"Cmd(name='Set-ConditionalAccessPolicy', params={'Identity': 'seccxpninja.onmicrosoft.com\\\\\\\\3b13ea3c-c733-4eb8-bd19-67d308b2ea04', 'PolicyDetails': '{\\\"Version\\\":0,\\\"CreatedDateTime\\\":\\\"2020-05-19T13:34:15.2394934Z\\\",\\\"ModifiedDateTime\\\":\\\"2020-05-19T13:39:04.7333386Z\\\",\\\"State\\\":\\\"Reporting\\\",\\\"Conditions\\\":{\\\"Applications\\\":{\\\"Include\\\":[{\\\"Applications\\\":[\\\"None\\\"]}]},\\\"Users\\\":{\\\"Include\\\":[{\\\"Users\\\":[\\\"Guests\\\"]}]},\\\"DevicePlatforms\\\":{\\\"Include\\\":[{\\\"DevicePlatforms\\\":[\\\"All\\\"]}],\\\"Exclude\\\":[{\\\"DevicePlatforms\\\":[\\\"Android\\\",\\\"iOS\\\",\\\"macOS\\\"]}]},\\\"ClientTypes\\\":{\\\"Include\\\":[{\\\"ClientTypes\\\":[\\\"Browser\\\",\\\"Native\\\"]}]}},\\\"Controls\\\":[{\\\"Control\\\":[\\\"Mfa\\\",\\\"RequireCompliantDevice\\\"]}]}', 'PolicyLastUpdatedTime': '7/16/2020 5:00:49 AM', 'TenantDefaultPolicy': '', 'DisplayName': 'Yanivsh -CA Test', 'PolicyIdentifierString': ''})\",\"Cmd(name='Set-ConditionalAccessPolicy', params={'Identity': 'seccxpninja.onmicrosoft.com\\\\\\\\235bec94-f744-48ac-8314-5675953d2def', 'PolicyDetails': '{\\\"Version\\\":0,\\\"State\\\":\\\"Disabled\\\",\\\"Conditions\\\":{\\\"Applications\\\":{\\\"Include\\\":[{\\\"Applications\\\":[\\\"All\\\"]}]},\\\"Users\\\":{\\\"Include\\\":[{\\\"Users\\\":[\\\"eababd92-9dc7-40e3-9359-6c106522db19\\\"]}]},\\\"DevicePlatforms\\\":{\\\"Include\\\":[{\\\"DevicePlatforms\\\":[\\\"All\\\"]}],\\\"Exclude\\\":[{\\\"DevicePlatforms\\\":[\\\"macOS\\\"]}]}},\\\"Controls\\\":[{\\\"Control\\\":[\\\"Mfa\\\"]}],\\\"PersistentBrowserSessionMode\\\":\\\"NotSet\\\",\\\"EnforceAllPoliciesForEas\\\":false,\\\"IncludeOtherLegacyClientTypeForEvaluation\\\":false}', 'PolicyLastUpdatedTime': '7/16/2020 5:00:46 AM', 'TenantDefaultPolicy': '', 'DisplayName': 'Megan MFA demo', 'PolicyIdentifierString': ''})\"],[\"Cmd(name='Set-ConditionalAccessPolicy', params={'Identity': 'seccxpninja.onmicrosoft.com\\\\\\\\235bec94-f744-48ac-8314-5675953d2def', 'PolicyDetails': '{\\\"Version\\\":0,\\\"State\\\":\\\"Disabled\\\",\\\"Conditions\\\":{\\\"Applications\\\":{\\\"Include\\\":[{\\\"Applications\\\":[\\\"All\\\"]}]},\\\"Users\\\":{\\\"Include\\\":[{\\\"Users\\\":[\\\"eababd92-9dc7-40e3-9359-6c106522db19\\\"]}]},\\\"DevicePlatforms\\\":{\\\"Include\\\":[{\\\"DevicePlatforms\\\":[\\\"All\\\"]}],\\\"Exclude\\\":[{\\\"DevicePlatforms\\\":[\\\"macOS\\\"]}]}},\\\"Controls\\\":[{\\\"Control\\\":[\\\"Mfa\\\"]}],\\\"PersistentBrowserSessionMode\\\":\\\"NotSet\\\",\\\"EnforceAllPoliciesForEas\\\":false,\\\"IncludeOtherLegacyClientTypeForEvaluation\\\":false}', 'PolicyLastUpdatedTime': '7/17/2020 1:59:50 AM', 'TenantDefaultPolicy': '', 'DisplayName': 'Megan MFA demo', 'PolicyIdentifierString': ''})\",\"Cmd(name='Set-ConditionalAccessPolicy', params={'Identity': 'seccxpninja.onmicrosoft.com\\\\\\\\2e76d011-eaa3-40b4-8ce8-7fba52bf3af8', 'PolicyDetails': '{\\\"Version\\\":0,\\\"State\\\":\\\"Reporting\\\",\\\"Conditions\\\":{\\\"Applications\\\":{\\\"Include\\\":[{\\\"Applications\\\":[\\\"f9e8b3d0-ba26-42cd-b544-c90a66191a81\\\"]}]},\\\"Users\\\":{\\\"Include\\\":[{\\\"Users\\\":[\\\"All\\\"]}]}},\\\"SessionControls\\\":[\\\"CloudAppSecurity\\\"],\\\"PersistentBrowserSessionMode\\\":\\\"NotSet\\\",\\\"EnforceAllPoliciesForEas\\\":false,\\\"IncludeOtherLegacyClientTypeForEvaluation\\\":false,\\\"CasSessionControlType\\\":1}', 'PolicyLastUpdatedTime': '7/17/2020 1:59:51 AM', 'TenantDefaultPolicy': '', 'DisplayName': 'On-Prem SharePoint - MeganB proxy', 'PolicyIdentifierString': ''})\"],[\"Cmd(name='Set-ConditionalAccessPolicy', params={'Identity': 'seccxpninja.onmicrosoft.com\\\\\\\\8872f6fb-da88-4b63-bcc7-17247669596b', 'PolicyDetails': '{\\\"Version\\\":0,\\\"State\\\":\\\"Enabled\\\",\\\"Conditions\\\":{\\\"Applications\\\":{\\\"Include\\\":[{\\\"Applications\\\":[\\\"00000002-0000-0ff1-ce00-000000000000\\\",\\\"09abbdfd-ed23-44ee-a2d9-a627aa1c90f3\\\",\\\"cc15fd57-2c6c-4117-a88c-83b1d56b4bbe\\\",\\\"00000003-0000-0ff1-ce00-000000000000\\\",\\\"00000005-0000-0ff1-ce00-000000000000\\\"]}]},\\\"Users\\\":{\\\"Include\\\":[{\\\"Users\\\":[\\\"eababd92-9dc7-40e3-9359-6c106522db19\\\"]}]}},\\\"SessionControls\\\":[\\\"CloudAppSecurity\\\"],\\\"PersistentBrowserSessionMode\\\":\\\"NotSet\\\",\\\"EnforceAllPoliciesForEas\\\":false,\\\"IncludeOtherLegacyClientTypeForEvaluation\\\":false,\\\"CasSessionControlType\\\":1}', 'PolicyLastUpdatedTime': '7/17/2020 5:00:48 AM', 'TenantDefaultPolicy': '', 'DisplayName': 'MeganB MCAS Proxy', 'PolicyIdentifierString': ''})\",\"Cmd(name='Set-ConditionalAccessPolicy', params={'Identity': 'seccxpninja.onmicrosoft.com\\\\\\\\8872f6fb-da88-4b63-bcc7-17247669596b', 'PolicyDetails': '{\\\"Version\\\":0,\\\"State\\\":\\\"Enabled\\\",\\\"Conditions\\\":{\\\"Applications\\\":{\\\"Include\\\":[{\\\"Applications\\\":[\\\"00000002-0000-0ff1-ce00-000000000000\\\",\\\"09abbdfd-ed23-44ee-a2d9-a627aa1c90f3\\\",\\\"cc15fd57-2c6c-4117-a88c-83b1d56b4bbe\\\",\\\"00000003-0000-0ff1-ce00-000000000000\\\",\\\"00000005-0000-0ff1-ce00-000000000000\\\"]}]},\\\"Users\\\":{\\\"Include\\\":[{\\\"Users\\\":[\\\"eababd92-9dc7-40e3-9359-6c106522db19\\\"]}]}},\\\"SessionControls\\\":[\\\"CloudAppSecurity\\\"],\\\"PersistentBrowserSessionMode\\\":\\\"NotSet\\\",\\\"EnforceAllPoliciesForEas\\\":false,\\\"IncludeOtherLegacyClientTypeForEvaluation\\\":false,\\\"CasSessionControlType\\\":1}', 'PolicyLastUpdatedTime': '7/17/2020 5:00:48 AM', 'TenantDefaultPolicy': '', 'DisplayName': 'MeganB MCAS Proxy', 'PolicyIdentifierString': ''})\"],[\"Cmd(name='Set-ConditionalAccessPolicy', params={'Identity': 'seccxpninja.onmicrosoft.com\\\\\\\\b2915792-0396-4abe-94ec-e17fa17243c5', 'PolicyDetails': '{\\\"Version\\\":0,\\\"State\\\":\\\"Enabled\\\",\\\"Conditions\\\":{\\\"Applications\\\":{\\\"Include\\\":[{\\\"Applications\\\":[\\\"94c63fef-13a3-47bc-8074-75af8c65887a\\\",\\\"c9a559d2-7aab-4f13-a6ed-e7e9c52aec87\\\"]}]},\\\"Users\\\":{\\\"Include\\\":[{\\\"Users\\\":[\\\"bdb72692-2275-412b-8af0-ea21c2ebd174\\\",\\\"eababd92-9dc7-40e3-9359-6c106522db19\\\"]}]},\\\"SignInRisks\\\":{\\\"Include\\\":[{\\\"SignInRisks\\\":[\\\"High\\\",\\\"Medium\\\",\\\"Low\\\"]}]}},\\\"SessionControls\\\":[\\\"CloudAppSecurity\\\"],\\\"PersistentBrowserSessionMode\\\":\\\"NotSet\\\",\\\"EnforceAllPoliciesForEas\\\":false,\\\"IncludeOtherLegacyClientTypeForEvaluation\\\":false,\\\"CasSessionControlType\\\":3}', 'PolicyLastUpdatedTime': '7/17/2020 5:00:48 AM', 'TenantDefaultPolicy': '', 'DisplayName': 'GBB demo', 'PolicyIdentifierString': ''})\",\"Cmd(name='Set-ConditionalAccessPolicy', params={'Identity': 'seccxpninja.onmicrosoft.com\\\\\\\\6490d00c-7ba1-42cf-aa88-99eb71d53bf7', 'PolicyDetails': '{\\\"Version\\\":0,\\\"LastUpdatedTimestamp\\\":\\\"2020-07-02T12:42:35.1866847Z\\\",\\\"State\\\":\\\"Disabled\\\",\\\"SignInFrequency\\\":\\\"NotSet\\\",\\\"PersistentBrowserSessionMode\\\":\\\"NotSet\\\"}', 'PolicyLastUpdatedTime': '7/17/2020 5:00:49 AM', 'TenantDefaultPolicy': '18', 'DisplayName': 'Default Policy', 'PolicyIdentifierString': '5/19/2020 1:39:05 PM'})\"],[\"Cmd(name='Set-ConditionalAccessPolicy', params={'Identity': 'seccxpninja.onmicrosoft.com\\\\\\\\ba36f0a4-6d73-4ba4-9282-3b3c14575e36', 'PolicyDetails': '{\\\"Version\\\":0,\\\"ModifiedDateTime\\\":\\\"2020-05-19T13:31:41.7083504Z\\\",\\\"State\\\":\\\"Disabled\\\",\\\"Conditions\\\":{\\\"Applications\\\":{\\\"Include\\\":[{\\\"Applications\\\":[\\\"00000002-0000-0ff1-ce00-000000000000\\\",\\\"00000003-0000-0ff1-ce00-000000000000\\\"]}]},\\\"Users\\\":{\\\"Include\\\":[{\\\"Users\\\":[\\\"2935e535-8fdf-4217-865b-e084cb7214f1\\\"]}]},\\\"DevicePlatforms\\\":{\\\"Include\\\":[{\\\"DevicePlatforms\\\":[\\\"All\\\"]}],\\\"Exclude\\\":[{\\\"DevicePlatforms\\\":[\\\"Android\\\",\\\"iOS\\\",\\\"macOS\\\"]}]},\\\"ClientTypes\\\":{\\\"Include\\\":[{\\\"ClientTypes\\\":[\\\"Browser\\\",\\\"Native\\\"]}]}},\\\"SessionControls\\\":[\\\"CloudAppSecurity\\\"],\\\"CasSessionControlType\\\":1}', 'PolicyLastUpdatedTime': '7/18/2020 5:22:18 AM', 'TenantDefaultPolicy': '', 'DisplayName': 'Block Access JulianI', 'PolicyIdentifierString': ''})\",\"Cmd(name='Set-ConditionalAccessPolicy', params={'Identity': 'seccxpninja.onmicrosoft.com\\\\\\\\bcd93f74-64fd-4042-a3ae-ee6d48886d6d', 'PolicyDetails': '{\\\"Version\\\":0,\\\"State\\\":\\\"Enabled\\\",\\\"Conditions\\\":{\\\"Applications\\\":{\\\"Include\\\":[{\\\"Applications\\\":[\\\"c9a559d2-7aab-4f13-a6ed-e7e9c52aec87\\\"]}]},\\\"Users\\\":{\\\"Include\\\":[{\\\"Users\\\":[\\\"bdb72692-2275-412b-8af0-ea21c2ebd174\\\",\\\"eababd92-9dc7-40e3-9359-6c106522db19\\\"]}]}},\\\"SessionControls\\\":[\\\"CloudAppSecurity\\\"],\\\"PersistentBrowserSessionMode\\\":\\\"NotSet\\\",\\\"EnforceAllPoliciesForEas\\\":false,\\\"IncludeOtherLegacyClientTypeForEvaluation\\\":false,\\\"CasSessionControlType\\\":3}', 'PolicyLastUpdatedTime': '7/18/2020 5:22:16 AM', 'TenantDefaultPolicy': '', 'DisplayName': 'Form MCAS', 'PolicyIdentifierString': ''})\"],[\"Cmd(name='Set-ConditionalAccessPolicy', params={'Identity': 'seccxpninja.onmicrosoft.com\\\\\\\\3b13ea3c-c733-4eb8-bd19-67d308b2ea04', 'PolicyDetails': '{\\\"Version\\\":0,\\\"CreatedDateTime\\\":\\\"2020-05-19T13:34:15.2394934Z\\\",\\\"ModifiedDateTime\\\":\\\"2020-05-19T13:39:04.7333386Z\\\",\\\"State\\\":\\\"Reporting\\\",\\\"Conditions\\\":{\\\"Applications\\\":{\\\"Include\\\":[{\\\"Applications\\\":[\\\"None\\\"]}]},\\\"Users\\\":{\\\"Include\\\":[{\\\"Users\\\":[\\\"Guests\\\"]}]},\\\"DevicePlatforms\\\":{\\\"Include\\\":[{\\\"DevicePlatforms\\\":[\\\"All\\\"]}],\\\"Exclude\\\":[{\\\"DevicePlatforms\\\":[\\\"Android\\\",\\\"iOS\\\",\\\"macOS\\\"]}]},\\\"ClientTypes\\\":{\\\"Include\\\":[{\\\"ClientTypes\\\":[\\\"Browser\\\",\\\"Native\\\"]}]}},\\\"Controls\\\":[{\\\"Control\\\":[\\\"Mfa\\\",\\\"RequireCompliantDevice\\\"]}]}', 'PolicyLastUpdatedTime': '7/19/2020 5:37:55 AM', 'TenantDefaultPolicy': '', 'DisplayName': 'Yanivsh -CA Test', 'PolicyIdentifierString': ''})\",\"Cmd(name='Set-ConditionalAccessPolicy', params={'Identity': 'seccxpninja.onmicrosoft.com\\\\\\\\ba36f0a4-6d73-4ba4-9282-3b3c14575e36', 'PolicyDetails': '{\\\"Version\\\":0,\\\"ModifiedDateTime\\\":\\\"2020-05-19T13:31:41.7083504Z\\\",\\\"State\\\":\\\"Disabled\\\",\\\"Conditions\\\":{\\\"Applications\\\":{\\\"Include\\\":[{\\\"Applications\\\":[\\\"00000002-0000-0ff1-ce00-000000000000\\\",\\\"00000003-0000-0ff1-ce00-000000000000\\\"]}]},\\\"Users\\\":{\\\"Include\\\":[{\\\"Users\\\":[\\\"2935e535-8fdf-4217-865b-e084cb7214f1\\\"]}]},\\\"DevicePlatforms\\\":{\\\"Include\\\":[{\\\"DevicePlatforms\\\":[\\\"All\\\"]}],\\\"Exclude\\\":[{\\\"DevicePlatforms\\\":[\\\"Android\\\",\\\"iOS\\\",\\\"macOS\\\"]}]},\\\"ClientTypes\\\":{\\\"Include\\\":[{\\\"ClientTypes\\\":[\\\"Browser\\\",\\\"Native\\\"]}]}},\\\"SessionControls\\\":[\\\"CloudAppSecurity\\\"],\\\"CasSessionControlType\\\":1}', 'PolicyLastUpdatedTime': '7/19/2020 5:37:55 AM', 'TenantDefaultPolicy': '', 'DisplayName': 'Block Access JulianI', 'PolicyIdentifierString': ''})\"],[\"Cmd(name='Set-ConditionalAccessPolicy', params={'Identity': 'seccxpninja.onmicrosoft.com\\\\\\\\69c7a12f-b407-45a3-b07e-fa04fc7f273d', 'PolicyDetails': '{\\\"Version\\\":0,\\\"State\\\":\\\"Enabled\\\",\\\"Conditions\\\":{\\\"Applications\\\":{\\\"Include\\\":[{\\\"Applications\\\":[\\\"00000003-0000-0ff1-ce00-000000000000\\\"]}]},\\\"Users\\\":{\\\"Include\\\":[{\\\"Users\\\":[\\\"All\\\"]}]}},\\\"SessionControls\\\":[\\\"CloudAppSecurity\\\"],\\\"PersistentBrowserSessionMode\\\":\\\"NotSet\\\",\\\"EnforceAllPoliciesForEas\\\":false,\\\"IncludeOtherLegacyClientTypeForEvaluation\\\":false,\\\"CasSessionControlType\\\":1}', 'PolicyLastUpdatedTime': '7/20/2020 2:21:06 AM', 'TenantDefaultPolicy': '', 'DisplayName': 'Test Policy', 'PolicyIdentifierString': ''})\",\"Cmd(name='Set-ConditionalAccessPolicy', params={'Identity': 'seccxpninja.onmicrosoft.com\\\\\\\\b2915792-0396-4abe-94ec-e17fa17243c5', 'PolicyDetails': '{\\\"Version\\\":0,\\\"State\\\":\\\"Enabled\\\",\\\"Conditions\\\":{\\\"Applications\\\":{\\\"Include\\\":[{\\\"Applications\\\":[\\\"94c63fef-13a3-47bc-8074-75af8c65887a\\\",\\\"c9a559d2-7aab-4f13-a6ed-e7e9c52aec87\\\"]}]},\\\"Users\\\":{\\\"Include\\\":[{\\\"Users\\\":[\\\"bdb72692-2275-412b-8af0-ea21c2ebd174\\\",\\\"eababd92-9dc7-40e3-9359-6c106522db19\\\"]}]},\\\"SignInRisks\\\":{\\\"Include\\\":[{\\\"SignInRisks\\\":[\\\"High\\\",\\\"Medium\\\",\\\"Low\\\"]}]}},\\\"SessionControls\\\":[\\\"CloudAppSecurity\\\"],\\\"PersistentBrowserSessionMode\\\":\\\"NotSet\\\",\\\"EnforceAllPoliciesForEas\\\":false,\\\"IncludeOtherLegacyClientTypeForEvaluation\\\":false,\\\"CasSessionControlType\\\":3}', 'PolicyLastUpdatedTime': '7/20/2020 2:21:04 AM', 'TenantDefaultPolicy': '', 'DisplayName': 'GBB demo', 'PolicyIdentifierString': ''})\"],[\"Cmd(name='Set-ConditionalAccessPolicy', params={'Identity': 'seccxpninja.onmicrosoft.com\\\\\\\\5fd0c4ff-1cd7-4bf6-8607-294a04f58f12', 'PolicyDetails': '{\\\"Version\\\":0,\\\"State\\\":\\\"Disabled\\\",\\\"Conditions\\\":{\\\"Applications\\\":{\\\"Include\\\":[{\\\"Applications\\\":[\\\"All\\\"]}]},\\\"Users\\\":{\\\"Include\\\":[{\\\"Users\\\":[\\\"142512c7-f006-46ae-909c-14fa7bf6a887\\\"]}]}},\\\"Controls\\\":[{\\\"Control\\\":[\\\"Mfa\\\"]}],\\\"EnforceAllPoliciesForEas\\\":false,\\\"IncludeOtherLegacyClientTypeForEvaluation\\\":false}', 'PolicyLastUpdatedTime': '7/20/2020 6:04:37 AM', 'TenantDefaultPolicy': '', 'DisplayName': 'Azure MFA', 'PolicyIdentifierString': ''})\",\"Cmd(name='Set-ConditionalAccessPolicy', params={'Identity': 'seccxpninja.onmicrosoft.com\\\\\\\\8872f6fb-da88-4b63-bcc7-17247669596b', 'PolicyDetails': '{\\\"Version\\\":0,\\\"State\\\":\\\"Enabled\\\",\\\"Conditions\\\":{\\\"Applications\\\":{\\\"Include\\\":[{\\\"Applications\\\":[\\\"00000002-0000-0ff1-ce00-000000000000\\\",\\\"09abbdfd-ed23-44ee-a2d9-a627aa1c90f3\\\",\\\"cc15fd57-2c6c-4117-a88c-83b1d56b4bbe\\\",\\\"00000003-0000-0ff1-ce00-000000000000\\\",\\\"00000005-0000-0ff1-ce00-000000000000\\\"]}]},\\\"Users\\\":{\\\"Include\\\":[{\\\"Users\\\":[\\\"eababd92-9dc7-40e3-9359-6c106522db19\\\"]}]}},\\\"SessionControls\\\":[\\\"CloudAppSecurity\\\"],\\\"PersistentBrowserSessionMode\\\":\\\"NotSet\\\",\\\"EnforceAllPoliciesForEas\\\":false,\\\"IncludeOtherLegacyClientTypeForEvaluation\\\":false,\\\"CasSessionControlType\\\":1}', 'PolicyLastUpdatedTime': '7/20/2020 6:04:35 AM', 'TenantDefaultPolicy': '', 'DisplayName': 'MeganB MCAS Proxy', 'PolicyIdentifierString': ''})\"],[\"Cmd(name='Set-ConditionalAccessPolicy', params={'Identity': 'seccxpninja.onmicrosoft.com\\\\\\\\2e76d011-eaa3-40b4-8ce8-7fba52bf3af8', 'PolicyDetails': '{\\\"Version\\\":0,\\\"State\\\":\\\"Reporting\\\",\\\"Conditions\\\":{\\\"Applications\\\":{\\\"Include\\\":[{\\\"Applications\\\":[\\\"f9e8b3d0-ba26-42cd-b544-c90a66191a81\\\"]}]},\\\"Users\\\":{\\\"Include\\\":[{\\\"Users\\\":[\\\"All\\\"]}]}},\\\"SessionControls\\\":[\\\"CloudAppSecurity\\\"],\\\"PersistentBrowserSessionMode\\\":\\\"NotSet\\\",\\\"EnforceAllPoliciesForEas\\\":false,\\\"IncludeOtherLegacyClientTypeForEvaluation\\\":false,\\\"CasSessionControlType\\\":1}', 'PolicyLastUpdatedTime': '7/21/2020 2:08:13 AM', 'TenantDefaultPolicy': '', 'DisplayName': 'On-Prem SharePoint - MeganB proxy', 'PolicyIdentifierString': ''})\",\"Cmd(name='Set-ConditionalAccessPolicy', params={'Identity': 'seccxpninja.onmicrosoft.com\\\\\\\\e183bd29-a3a3-4f91-a5a3-b83b21a544df', 'PolicyDetails': '{\\\"Version\\\":0,\\\"State\\\":\\\"Enabled\\\",\\\"Conditions\\\":{\\\"Applications\\\":{\\\"Include\\\":[{\\\"Applications\\\":[\\\"00000002-0000-0ff1-ce00-000000000000\\\"]}]},\\\"Users\\\":{\\\"Include\\\":[{\\\"Users\\\":[\\\"2935e535-8fdf-4217-865b-e084cb7214f1\\\"]}]}},\\\"SessionControls\\\":[\\\"AppEnforcedRestrictions\\\"],\\\"PersistentBrowserSessionMode\\\":\\\"NotSet\\\",\\\"EnforceAllPoliciesForEas\\\":false,\\\"IncludeOtherLegacyClientTypeForEvaluation\\\":false}', 'PolicyLastUpdatedTime': '7/21/2020 2:08:14 AM', 'TenantDefaultPolicy': '', 'DisplayName': 'JulianI Exchange native controls', 'PolicyIdentifierString': ''})\"],[\"Cmd(name='Set-ConditionalAccessPolicy', params={'Identity': 'seccxpninja.onmicrosoft.com\\\\\\\\69c7a12f-b407-45a3-b07e-fa04fc7f273d', 'PolicyDetails': '{\\\"Version\\\":0,\\\"State\\\":\\\"Enabled\\\",\\\"Conditions\\\":{\\\"Applications\\\":{\\\"Include\\\":[{\\\"Applications\\\":[\\\"00000003-0000-0ff1-ce00-000000000000\\\"]}]},\\\"Users\\\":{\\\"Include\\\":[{\\\"Users\\\":[\\\"All\\\"]}]}},\\\"SessionControls\\\":[\\\"CloudAppSecurity\\\"],\\\"PersistentBrowserSessionMode\\\":\\\"NotSet\\\",\\\"EnforceAllPoliciesForEas\\\":false,\\\"IncludeOtherLegacyClientTypeForEvaluation\\\":false,\\\"CasSessionControlType\\\":1}', 'PolicyLastUpdatedTime': '7/21/2020 4:59:02 AM', 'TenantDefaultPolicy': '', 'DisplayName': 'Test Policy', 'PolicyIdentifierString': ''})\",\"Cmd(name='Set-ConditionalAccessPolicy', params={'Identity': 'seccxpninja.onmicrosoft.com\\\\\\\\235bec94-f744-48ac-8314-5675953d2def', 'PolicyDetails': '{\\\"Version\\\":0,\\\"State\\\":\\\"Disabled\\\",\\\"Conditions\\\":{\\\"Applications\\\":{\\\"Include\\\":[{\\\"Applications\\\":[\\\"All\\\"]}]},\\\"Users\\\":{\\\"Include\\\":[{\\\"Users\\\":[\\\"eababd92-9dc7-40e3-9359-6c106522db19\\\"]}]},\\\"DevicePlatforms\\\":{\\\"Include\\\":[{\\\"DevicePlatforms\\\":[\\\"All\\\"]}],\\\"Exclude\\\":[{\\\"DevicePlatforms\\\":[\\\"macOS\\\"]}]}},\\\"Controls\\\":[{\\\"Control\\\":[\\\"Mfa\\\"]}],\\\"PersistentBrowserSessionMode\\\":\\\"NotSet\\\",\\\"EnforceAllPoliciesForEas\\\":false,\\\"IncludeOtherLegacyClientTypeForEvaluation\\\":false}', 'PolicyLastUpdatedTime': '7/21/2020 4:59:02 AM', 'TenantDefaultPolicy': '', 'DisplayName': 'Megan MFA demo', 'PolicyIdentifierString': ''})\"],[\"Cmd(name='Set-ConditionalAccessPolicy', params={'Identity': 'seccxpninja.onmicrosoft.com\\\\\\\\8872f6fb-da88-4b63-bcc7-17247669596b', 'PolicyDetails': '{\\\"Version\\\":0,\\\"State\\\":\\\"Enabled\\\",\\\"Conditions\\\":{\\\"Applications\\\":{\\\"Include\\\":[{\\\"Applications\\\":[\\\"00000002-0000-0ff1-ce00-000000000000\\\",\\\"09abbdfd-ed23-44ee-a2d9-a627aa1c90f3\\\",\\\"cc15fd57-2c6c-4117-a88c-83b1d56b4bbe\\\",\\\"00000003-0000-0ff1-ce00-000000000000\\\",\\\"00000005-0000-0ff1-ce00-000000000000\\\"]}]},\\\"Users\\\":{\\\"Include\\\":[{\\\"Users\\\":[\\\"eababd92-9dc7-40e3-9359-6c106522db19\\\"]}]}},\\\"SessionControls\\\":[\\\"CloudAppSecurity\\\"],\\\"PersistentBrowserSessionMode\\\":\\\"NotSet\\\",\\\"EnforceAllPoliciesForEas\\\":false,\\\"IncludeOtherLegacyClientTypeForEvaluation\\\":false,\\\"CasSessionControlType\\\":1}', 'PolicyLastUpdatedTime': '7/22/2020 2:14:16 AM', 'TenantDefaultPolicy': '', 'DisplayName': 'MeganB MCAS Proxy', 'PolicyIdentifierString': ''})\",\"Cmd(name='Set-ConditionalAccessPolicy', params={'Identity': 'seccxpninja.onmicrosoft.com\\\\\\\\5fd0c4ff-1cd7-4bf6-8607-294a04f58f12', 'PolicyDetails': '{\\\"Version\\\":0,\\\"State\\\":\\\"Disabled\\\",\\\"Conditions\\\":{\\\"Applications\\\":{\\\"Include\\\":[{\\\"Applications\\\":[\\\"All\\\"]}]},\\\"Users\\\":{\\\"Include\\\":[{\\\"Users\\\":[\\\"142512c7-f006-46ae-909c-14fa7bf6a887\\\"]}]}},\\\"Controls\\\":[{\\\"Control\\\":[\\\"Mfa\\\"]}],\\\"EnforceAllPoliciesForEas\\\":false,\\\"IncludeOtherLegacyClientTypeForEvaluation\\\":false}', 'PolicyLastUpdatedTime': '7/22/2020 2:14:19 AM', 'TenantDefaultPolicy': '', 'DisplayName': 'Azure MFA', 'PolicyIdentifierString': ''})\"],[\"Cmd(name='Set-ConditionalAccessPolicy', params={'Identity': 'seccxpninja.onmicrosoft.com\\\\\\\\4c5a5ea0-5d9f-4730-baaa-7a69cf29ef26', 'PolicyDetails': '{\\\"Version\\\":0,\\\"State\\\":\\\"Enabled\\\",\\\"Conditions\\\":{\\\"Applications\\\":{\\\"Include\\\":[{\\\"Applications\\\":[\\\"All\\\"]}]},\\\"Users\\\":{\\\"Include\\\":[{\\\"Users\\\":[\\\"bdb72692-2275-412b-8af0-ea21c2ebd174\\\"]}]}},\\\"Controls\\\":[{\\\"Control\\\":[\\\"Mfa\\\"]}],\\\"PersistentBrowserSessionMode\\\":\\\"NotSet\\\",\\\"EnforceAllPoliciesForEas\\\":false,\\\"IncludeOtherLegacyClientTypeForEvaluation\\\":false}', 'PolicyLastUpdatedTime': '7/22/2020 5:08:50 AM', 'TenantDefaultPolicy': '', 'DisplayName': 'Semolen - Admin MFA', 'PolicyIdentifierString': ''})\",\"Cmd(name='Set-ConditionalAccessPolicy', params={'Identity': 'seccxpninja.onmicrosoft.com\\\\\\\\ba36f0a4-6d73-4ba4-9282-3b3c14575e36', 'PolicyDetails': '{\\\"Version\\\":0,\\\"ModifiedDateTime\\\":\\\"2020-05-19T13:31:41.7083504Z\\\",\\\"State\\\":\\\"Disabled\\\",\\\"Conditions\\\":{\\\"Applications\\\":{\\\"Include\\\":[{\\\"Applications\\\":[\\\"00000002-0000-0ff1-ce00-000000000000\\\",\\\"00000003-0000-0ff1-ce00-000000000000\\\"]}]},\\\"Users\\\":{\\\"Include\\\":[{\\\"Users\\\":[\\\"2935e535-8fdf-4217-865b-e084cb7214f1\\\"]}]},\\\"DevicePlatforms\\\":{\\\"Include\\\":[{\\\"DevicePlatforms\\\":[\\\"All\\\"]}],\\\"Exclude\\\":[{\\\"DevicePlatforms\\\":[\\\"Android\\\",\\\"iOS\\\",\\\"macOS\\\"]}]},\\\"ClientTypes\\\":{\\\"Include\\\":[{\\\"ClientTypes\\\":[\\\"Browser\\\",\\\"Native\\\"]}]}},\\\"SessionControls\\\":[\\\"CloudAppSecurity\\\"],\\\"CasSessionControlType\\\":1}', 'PolicyLastUpdatedTime': '7/22/2020 5:08:51 AM', 'TenantDefaultPolicy': '', 'DisplayName': 'Block Access JulianI', 'PolicyIdentifierString': ''})\"],[\"Cmd(name='Set-ConditionalAccessPolicy', params={'Identity': 'seccxpninja.onmicrosoft.com\\\\\\\\8872f6fb-da88-4b63-bcc7-17247669596b', 'PolicyDetails': '{\\\"Version\\\":0,\\\"State\\\":\\\"Enabled\\\",\\\"Conditions\\\":{\\\"Applications\\\":{\\\"Include\\\":[{\\\"Applications\\\":[\\\"00000002-0000-0ff1-ce00-000000000000\\\",\\\"09abbdfd-ed23-44ee-a2d9-a627aa1c90f3\\\",\\\"cc15fd57-2c6c-4117-a88c-83b1d56b4bbe\\\",\\\"00000003-0000-0ff1-ce00-000000000000\\\",\\\"00000005-0000-0ff1-ce00-000000000000\\\"]}]},\\\"Users\\\":{\\\"Include\\\":[{\\\"Users\\\":[\\\"eababd92-9dc7-40e3-9359-6c106522db19\\\"]}]}},\\\"SessionControls\\\":[\\\"CloudAppSecurity\\\"],\\\"PersistentBrowserSessionMode\\\":\\\"NotSet\\\",\\\"EnforceAllPoliciesForEas\\\":false,\\\"IncludeOtherLegacyClientTypeForEvaluation\\\":false,\\\"CasSessionControlType\\\":1}', 'PolicyLastUpdatedTime': '7/23/2020 2:20:37 AM', 'TenantDefaultPolicy': '', 'DisplayName': 'MeganB MCAS Proxy', 'PolicyIdentifierString': ''})\",\"Cmd(name='Set-ConditionalAccessPolicy', params={'Identity': 'seccxpninja.onmicrosoft.com\\\\\\\\8872f6fb-da88-4b63-bcc7-17247669596b', 'PolicyDetails': '{\\\"Version\\\":0,\\\"State\\\":\\\"Enabled\\\",\\\"Conditions\\\":{\\\"Applications\\\":{\\\"Include\\\":[{\\\"Applications\\\":[\\\"00000002-0000-0ff1-ce00-000000000000\\\",\\\"09abbdfd-ed23-44ee-a2d9-a627aa1c90f3\\\",\\\"cc15fd57-2c6c-4117-a88c-83b1d56b4bbe\\\",\\\"00000003-0000-0ff1-ce00-000000000000\\\",\\\"00000005-0000-0ff1-ce00-000000000000\\\"]}]},\\\"Users\\\":{\\\"Include\\\":[{\\\"Users\\\":[\\\"eababd92-9dc7-40e3-9359-6c106522db19\\\"]}]}},\\\"SessionControls\\\":[\\\"CloudAppSecurity\\\"],\\\"PersistentBrowserSessionMode\\\":\\\"NotSet\\\",\\\"EnforceAllPoliciesForEas\\\":false,\\\"IncludeOtherLegacyClientTypeForEvaluation\\\":false,\\\"CasSessionControlType\\\":1}', 'PolicyLastUpdatedTime': '7/23/2020 2:20:37 AM', 'TenantDefaultPolicy': '', 'DisplayName': 'MeganB MCAS Proxy', 'PolicyIdentifierString': ''})\"],[\"Cmd(name='Set-ConditionalAccessPolicy', params={'Identity': 'seccxpninja.onmicrosoft.com\\\\\\\\8837fdaa-aaeb-4432-9622-43f6f583d583', 'PolicyDetails': '{\\\"KnownNetworkPolicies\\\":{\\\"NetworkName\\\":\\\"BE-Office\\\",\\\"NetworkId\\\":\\\"b98b9088-ce88-4fae-80fb-5b58cb1ce685\\\",\\\"CidrIpRanges\\\":[\\\"109.88.218.99/28\\\"],\\\"CountryIsoCodes\\\":null,\\\"Categories\\\":[],\\\"ApplyToUnknownCountry\\\":false}}', 'PolicyLastUpdatedTime': '7/23/2020 2:20:41 AM', 'TenantDefaultPolicy': '6', 'DisplayName': 'Known Networks List', 'PolicyIdentifierString': '3/19/2020 7:45:08 PM'})\",\"Cmd(name='Set-ConditionalAccessPolicy', params={'Identity': 'seccxpninja.onmicrosoft.com\\\\\\\\e183bd29-a3a3-4f91-a5a3-b83b21a544df', 'PolicyDetails': '{\\\"Version\\\":0,\\\"State\\\":\\\"Enabled\\\",\\\"Conditions\\\":{\\\"Applications\\\":{\\\"Include\\\":[{\\\"Applications\\\":[\\\"00000002-0000-0ff1-ce00-000000000000\\\"]}]},\\\"Users\\\":{\\\"Include\\\":[{\\\"Users\\\":[\\\"2935e535-8fdf-4217-865b-e084cb7214f1\\\"]}]}},\\\"SessionControls\\\":[\\\"AppEnforcedRestrictions\\\"],\\\"PersistentBrowserSessionMode\\\":\\\"NotSet\\\",\\\"EnforceAllPoliciesForEas\\\":false,\\\"IncludeOtherLegacyClientTypeForEvaluation\\\":false}', 'PolicyLastUpdatedTime': '7/23/2020 2:20:40 AM', 'TenantDefaultPolicy': '', 'DisplayName': 'JulianI Exchange native controls', 'PolicyIdentifierString': ''})\"],[\"Cmd(name='Set-ConditionalAccessPolicy', params={'Identity': 'seccxpninja.onmicrosoft.com\\\\\\\\6490d00c-7ba1-42cf-aa88-99eb71d53bf7', 'PolicyDetails': '{\\\"Version\\\":0,\\\"LastUpdatedTimestamp\\\":\\\"2020-07-02T12:42:35.1866847Z\\\",\\\"State\\\":\\\"Disabled\\\",\\\"SignInFrequency\\\":\\\"NotSet\\\",\\\"PersistentBrowserSessionMode\\\":\\\"NotSet\\\"}', 'PolicyLastUpdatedTime': '7/23/2020 2:20:40 AM', 'TenantDefaultPolicy': '18', 'DisplayName': 'Default Policy', 'PolicyIdentifierString': '5/19/2020 1:39:05 PM'})\",\"Cmd(name='Set-ConditionalAccessPolicy', params={'Identity': 'seccxpninja.onmicrosoft.com\\\\\\\\b2915792-0396-4abe-94ec-e17fa17243c5', 'PolicyDetails': '{\\\"Version\\\":0,\\\"State\\\":\\\"Enabled\\\",\\\"Conditions\\\":{\\\"Applications\\\":{\\\"Include\\\":[{\\\"Applications\\\":[\\\"94c63fef-13a3-47bc-8074-75af8c65887a\\\",\\\"c9a559d2-7aab-4f13-a6ed-e7e9c52aec87\\\"]}]},\\\"Users\\\":{\\\"Include\\\":[{\\\"Users\\\":[\\\"bdb72692-2275-412b-8af0-ea21c2ebd174\\\",\\\"eababd92-9dc7-40e3-9359-6c106522db19\\\"]}]},\\\"SignInRisks\\\":{\\\"Include\\\":[{\\\"SignInRisks\\\":[\\\"High\\\",\\\"Medium\\\",\\\"Low\\\"]}]}},\\\"SessionControls\\\":[\\\"CloudAppSecurity\\\"],\\\"PersistentBrowserSessionMode\\\":\\\"NotSet\\\",\\\"EnforceAllPoliciesForEas\\\":false,\\\"IncludeOtherLegacyClientTypeForEvaluation\\\":false,\\\"CasSessionControlType\\\":3}', 'PolicyLastUpdatedTime': '7/23/2020 2:20:38 AM', 'TenantDefaultPolicy': '', 'DisplayName': 'GBB demo', 'PolicyIdentifierString': ''})\"],[\"Cmd(name='Set-ConditionalAccessPolicy', params={'Identity': 'seccxpninja.onmicrosoft.com\\\\\\\\2e76d011-eaa3-40b4-8ce8-7fba52bf3af8', 'PolicyDetails': '{\\\"Version\\\":0,\\\"State\\\":\\\"Reporting\\\",\\\"Conditions\\\":{\\\"Applications\\\":{\\\"Include\\\":[{\\\"Applications\\\":[\\\"f9e8b3d0-ba26-42cd-b544-c90a66191a81\\\"]}]},\\\"Users\\\":{\\\"Include\\\":[{\\\"Users\\\":[\\\"All\\\"]}]}},\\\"SessionControls\\\":[\\\"CloudAppSecurity\\\"],\\\"PersistentBrowserSessionMode\\\":\\\"NotSet\\\",\\\"EnforceAllPoliciesForEas\\\":false,\\\"IncludeOtherLegacyClientTypeForEvaluation\\\":false,\\\"CasSessionControlType\\\":1}', 'PolicyLastUpdatedTime': '7/23/2020 5:19:51 AM', 'TenantDefaultPolicy': '', 'DisplayName': 'On-Prem SharePoint - MeganB proxy', 'PolicyIdentifierString': ''})\",\"Cmd(name='Set-ConditionalAccessPolicy', params={'Identity': 'seccxpninja.onmicrosoft.com\\\\\\\\3b13ea3c-c733-4eb8-bd19-67d308b2ea04', 'PolicyDetails': '{\\\"Version\\\":0,\\\"CreatedDateTime\\\":\\\"2020-05-19T13:34:15.2394934Z\\\",\\\"ModifiedDateTime\\\":\\\"2020-05-19T13:39:04.7333386Z\\\",\\\"State\\\":\\\"Reporting\\\",\\\"Conditions\\\":{\\\"Applications\\\":{\\\"Include\\\":[{\\\"Applications\\\":[\\\"None\\\"]}]},\\\"Users\\\":{\\\"Include\\\":[{\\\"Users\\\":[\\\"Guests\\\"]}]},\\\"DevicePlatforms\\\":{\\\"Include\\\":[{\\\"DevicePlatforms\\\":[\\\"All\\\"]}],\\\"Exclude\\\":[{\\\"DevicePlatforms\\\":[\\\"Android\\\",\\\"iOS\\\",\\\"macOS\\\"]}]},\\\"ClientTypes\\\":{\\\"Include\\\":[{\\\"ClientTypes\\\":[\\\"Browser\\\",\\\"Native\\\"]}]}},\\\"Controls\\\":[{\\\"Control\\\":[\\\"Mfa\\\",\\\"RequireCompliantDevice\\\"]}]}', 'PolicyLastUpdatedTime': '7/23/2020 5:19:53 AM', 'TenantDefaultPolicy': '', 'DisplayName': 'Yanivsh -CA Test', 'PolicyIdentifierString': ''})\"],[\"Cmd(name='Set-ConditionalAccessPolicy', params={'Identity': 'seccxpninja.onmicrosoft.com\\\\\\\\ba36f0a4-6d73-4ba4-9282-3b3c14575e36', 'PolicyDetails': '{\\\"Version\\\":0,\\\"ModifiedDateTime\\\":\\\"2020-05-19T13:31:41.7083504Z\\\",\\\"State\\\":\\\"Disabled\\\",\\\"Conditions\\\":{\\\"Applications\\\":{\\\"Include\\\":[{\\\"Applications\\\":[\\\"00000002-0000-0ff1-ce00-000000000000\\\",\\\"00000003-0000-0ff1-ce00-000000000000\\\"]}]},\\\"Users\\\":{\\\"Include\\\":[{\\\"Users\\\":[\\\"2935e535-8fdf-4217-865b-e084cb7214f1\\\"]}]},\\\"DevicePlatforms\\\":{\\\"Include\\\":[{\\\"DevicePlatforms\\\":[\\\"All\\\"]}],\\\"Exclude\\\":[{\\\"DevicePlatforms\\\":[\\\"Android\\\",\\\"iOS\\\",\\\"macOS\\\"]}]},\\\"ClientTypes\\\":{\\\"Include\\\":[{\\\"ClientTypes\\\":[\\\"Browser\\\",\\\"Native\\\"]}]}},\\\"SessionControls\\\":[\\\"CloudAppSecurity\\\"],\\\"CasSessionControlType\\\":1}', 'PolicyLastUpdatedTime': '7/24/2020 2:30:33 AM', 'TenantDefaultPolicy': '', 'DisplayName': 'Block Access JulianI', 'PolicyIdentifierString': ''})\",\"Cmd(name='Set-ConditionalAccessPolicy', params={'Identity': 'seccxpninja.onmicrosoft.com\\\\\\\\e183bd29-a3a3-4f91-a5a3-b83b21a544df', 'PolicyDetails': '{\\\"Version\\\":0,\\\"State\\\":\\\"Enabled\\\",\\\"Conditions\\\":{\\\"Applications\\\":{\\\"Include\\\":[{\\\"Applications\\\":[\\\"00000002-0000-0ff1-ce00-000000000000\\\"]}]},\\\"Users\\\":{\\\"Include\\\":[{\\\"Users\\\":[\\\"2935e535-8fdf-4217-865b-e084cb7214f1\\\"]}]}},\\\"SessionControls\\\":[\\\"AppEnforcedRestrictions\\\"],\\\"PersistentBrowserSessionMode\\\":\\\"NotSet\\\",\\\"EnforceAllPoliciesForEas\\\":false,\\\"IncludeOtherLegacyClientTypeForEvaluation\\\":false}', 'PolicyLastUpdatedTime': '7/24/2020 2:30:33 AM', 'TenantDefaultPolicy': '', 'DisplayName': 'JulianI Exchange native controls', 'PolicyIdentifierString': ''})\"],[\"Cmd(name='Set-ConditionalAccessPolicy', params={'Identity': 'seccxpninja.onmicrosoft.com\\\\\\\\69c7a12f-b407-45a3-b07e-fa04fc7f273d', 'PolicyDetails': '{\\\"Version\\\":0,\\\"State\\\":\\\"Enabled\\\",\\\"Conditions\\\":{\\\"Applications\\\":{\\\"Include\\\":[{\\\"Applications\\\":[\\\"00000003-0000-0ff1-ce00-000000000000\\\"]}]},\\\"Users\\\":{\\\"Include\\\":[{\\\"Users\\\":[\\\"All\\\"]}]}},\\\"SessionControls\\\":[\\\"CloudAppSecurity\\\"],\\\"PersistentBrowserSessionMode\\\":\\\"NotSet\\\",\\\"EnforceAllPoliciesForEas\\\":false,\\\"IncludeOtherLegacyClientTypeForEvaluation\\\":false,\\\"CasSessionControlType\\\":1}', 'PolicyLastUpdatedTime': '7/24/2020 4:59:23 AM', 'TenantDefaultPolicy': '', 'DisplayName': 'Test Policy', 'PolicyIdentifierString': ''})\",\"Cmd(name='Set-ConditionalAccessPolicy', params={'Identity': 'seccxpninja.onmicrosoft.com\\\\\\\\2e76d011-eaa3-40b4-8ce8-7fba52bf3af8', 'PolicyDetails': '{\\\"Version\\\":0,\\\"State\\\":\\\"Reporting\\\",\\\"Conditions\\\":{\\\"Applications\\\":{\\\"Include\\\":[{\\\"Applications\\\":[\\\"f9e8b3d0-ba26-42cd-b544-c90a66191a81\\\"]}]},\\\"Users\\\":{\\\"Include\\\":[{\\\"Users\\\":[\\\"All\\\"]}]}},\\\"SessionControls\\\":[\\\"CloudAppSecurity\\\"],\\\"PersistentBrowserSessionMode\\\":\\\"NotSet\\\",\\\"EnforceAllPoliciesForEas\\\":false,\\\"IncludeOtherLegacyClientTypeForEvaluation\\\":false,\\\"CasSessionControlType\\\":1}', 'PolicyLastUpdatedTime': '7/24/2020 4:59:22 AM', 'TenantDefaultPolicy': '', 'DisplayName': 'On-Prem SharePoint - MeganB proxy', 'PolicyIdentifierString': ''})\"],[\"Cmd(name='Set-ConditionalAccessPolicy', params={'Identity': 'seccxpninja.onmicrosoft.com\\\\\\\\5fd0c4ff-1cd7-4bf6-8607-294a04f58f12', 'PolicyDetails': '{\\\"Version\\\":0,\\\"State\\\":\\\"Disabled\\\",\\\"Conditions\\\":{\\\"Applications\\\":{\\\"Include\\\":[{\\\"Applications\\\":[\\\"All\\\"]}]},\\\"Users\\\":{\\\"Include\\\":[{\\\"Users\\\":[\\\"142512c7-f006-46ae-909c-14fa7bf6a887\\\"]}]}},\\\"Controls\\\":[{\\\"Control\\\":[\\\"Mfa\\\"]}],\\\"EnforceAllPoliciesForEas\\\":false,\\\"IncludeOtherLegacyClientTypeForEvaluation\\\":false}', 'PolicyLastUpdatedTime': '7/25/2020 2:21:52 AM', 'TenantDefaultPolicy': '', 'DisplayName': 'Azure MFA', 'PolicyIdentifierString': ''})\",\"Cmd(name='Set-ConditionalAccessPolicy', params={'Identity': 'seccxpninja.onmicrosoft.com\\\\\\\\8872f6fb-da88-4b63-bcc7-17247669596b', 'PolicyDetails': '{\\\"Version\\\":0,\\\"State\\\":\\\"Enabled\\\",\\\"Conditions\\\":{\\\"Applications\\\":{\\\"Include\\\":[{\\\"Applications\\\":[\\\"00000002-0000-0ff1-ce00-000000000000\\\",\\\"09abbdfd-ed23-44ee-a2d9-a627aa1c90f3\\\",\\\"cc15fd57-2c6c-4117-a88c-83b1d56b4bbe\\\",\\\"00000003-0000-0ff1-ce00-000000000000\\\",\\\"00000005-0000-0ff1-ce00-000000000000\\\"]}]},\\\"Users\\\":{\\\"Include\\\":[{\\\"Users\\\":[\\\"eababd92-9dc7-40e3-9359-6c106522db19\\\"]}]}},\\\"SessionControls\\\":[\\\"CloudAppSecurity\\\"],\\\"PersistentBrowserSessionMode\\\":\\\"NotSet\\\",\\\"EnforceAllPoliciesForEas\\\":false,\\\"IncludeOtherLegacyClientTypeForEvaluation\\\":false,\\\"CasSessionControlType\\\":1}', 'PolicyLastUpdatedTime': '7/25/2020 2:21:50 AM', 'TenantDefaultPolicy': '', 'DisplayName': 'MeganB MCAS Proxy', 'PolicyIdentifierString': ''})\"],[\"Cmd(name='Set-ConditionalAccessPolicy', params={'Identity': 'seccxpninja.onmicrosoft.com\\\\\\\\bcd93f74-64fd-4042-a3ae-ee6d48886d6d', 'PolicyDetails': '{\\\"Version\\\":0,\\\"State\\\":\\\"Enabled\\\",\\\"Conditions\\\":{\\\"Applications\\\":{\\\"Include\\\":[{\\\"Applications\\\":[\\\"c9a559d2-7aab-4f13-a6ed-e7e9c52aec87\\\"]}]},\\\"Users\\\":{\\\"Include\\\":[{\\\"Users\\\":[\\\"bdb72692-2275-412b-8af0-ea21c2ebd174\\\",\\\"eababd92-9dc7-40e3-9359-6c106522db19\\\"]}]}},\\\"SessionControls\\\":[\\\"CloudAppSecurity\\\"],\\\"PersistentBrowserSessionMode\\\":\\\"NotSet\\\",\\\"EnforceAllPoliciesForEas\\\":false,\\\"IncludeOtherLegacyClientTypeForEvaluation\\\":false,\\\"CasSessionControlType\\\":3}', 'PolicyLastUpdatedTime': '7/25/2020 5:37:48 AM', 'TenantDefaultPolicy': '', 'DisplayName': 'Form MCAS', 'PolicyIdentifierString': ''})\",\"Cmd(name='Set-ConditionalAccessPolicy', params={'Identity': 'seccxpninja.onmicrosoft.com\\\\\\\\8837fdaa-aaeb-4432-9622-43f6f583d583', 'PolicyDetails': '{\\\"KnownNetworkPolicies\\\":{\\\"NetworkName\\\":\\\"BE-Office\\\",\\\"NetworkId\\\":\\\"b98b9088-ce88-4fae-80fb-5b58cb1ce685\\\",\\\"CidrIpRanges\\\":[\\\"109.88.218.99/28\\\"],\\\"CountryIsoCodes\\\":null,\\\"Categories\\\":[],\\\"ApplyToUnknownCountry\\\":false}}', 'PolicyLastUpdatedTime': '7/25/2020 5:37:51 AM', 'TenantDefaultPolicy': '6', 'DisplayName': 'Known Networks List', 'PolicyIdentifierString': '3/19/2020 7:45:08 PM'})\"],[\"Cmd(name='Set-ConditionalAccessPolicy', params={'Identity': 'seccxpninja.onmicrosoft.com\\\\\\\\3b13ea3c-c733-4eb8-bd19-67d308b2ea04', 'PolicyDetails': '{\\\"Version\\\":0,\\\"CreatedDateTime\\\":\\\"2020-05-19T13:34:15.2394934Z\\\",\\\"ModifiedDateTime\\\":\\\"2020-05-19T13:39:04.7333386Z\\\",\\\"State\\\":\\\"Reporting\\\",\\\"Conditions\\\":{\\\"Applications\\\":{\\\"Include\\\":[{\\\"Applications\\\":[\\\"None\\\"]}]},\\\"Users\\\":{\\\"Include\\\":[{\\\"Users\\\":[\\\"Guests\\\"]}]},\\\"DevicePlatforms\\\":{\\\"Include\\\":[{\\\"DevicePlatforms\\\":[\\\"All\\\"]}],\\\"Exclude\\\":[{\\\"DevicePlatforms\\\":[\\\"Android\\\",\\\"iOS\\\",\\\"macOS\\\"]}]},\\\"ClientTypes\\\":{\\\"Include\\\":[{\\\"ClientTypes\\\":[\\\"Browser\\\",\\\"Native\\\"]}]}},\\\"Controls\\\":[{\\\"Control\\\":[\\\"Mfa\\\",\\\"RequireCompliantDevice\\\"]}]}', 'PolicyLastUpdatedTime': '7/26/2020 2:25:48 AM', 'TenantDefaultPolicy': '', 'DisplayName': 'Yanivsh -CA Test', 'PolicyIdentifierString': ''})\",\"Cmd(name='Set-ConditionalAccessPolicy', params={'Identity': 'seccxpninja.onmicrosoft.com\\\\\\\\69c7a12f-b407-45a3-b07e-fa04fc7f273d', 'PolicyDetails': '{\\\"Version\\\":0,\\\"State\\\":\\\"Enabled\\\",\\\"Conditions\\\":{\\\"Applications\\\":{\\\"Include\\\":[{\\\"Applications\\\":[\\\"00000003-0000-0ff1-ce00-000000000000\\\"]}]},\\\"Users\\\":{\\\"Include\\\":[{\\\"Users\\\":[\\\"All\\\"]}]}},\\\"SessionControls\\\":[\\\"CloudAppSecurity\\\"],\\\"PersistentBrowserSessionMode\\\":\\\"NotSet\\\",\\\"EnforceAllPoliciesForEas\\\":false,\\\"IncludeOtherLegacyClientTypeForEvaluation\\\":false,\\\"CasSessionControlType\\\":1}', 'PolicyLastUpdatedTime': '7/26/2020 2:25:48 AM', 'TenantDefaultPolicy': '', 'DisplayName': 'Test Policy', 'PolicyIdentifierString': ''})\"],[\"Cmd(name='Set-ConditionalAccessPolicy', params={'Identity': 'seccxpninja.onmicrosoft.com\\\\\\\\8837fdaa-aaeb-4432-9622-43f6f583d583', 'PolicyDetails': '{\\\"KnownNetworkPolicies\\\":{\\\"NetworkName\\\":\\\"BE-Office\\\",\\\"NetworkId\\\":\\\"b98b9088-ce88-4fae-80fb-5b58cb1ce685\\\",\\\"CidrIpRanges\\\":[\\\"109.88.218.99/28\\\"],\\\"CountryIsoCodes\\\":null,\\\"Categories\\\":[],\\\"ApplyToUnknownCountry\\\":false}}', 'PolicyLastUpdatedTime': '7/26/2020 2:25:48 AM', 'TenantDefaultPolicy': '6', 'DisplayName': 'Known Networks List', 'PolicyIdentifierString': '3/19/2020 7:45:08 PM'})\",\"Cmd(name='Set-ConditionalAccessPolicy', params={'Identity': 'seccxpninja.onmicrosoft.com\\\\\\\\8837fdaa-aaeb-4432-9622-43f6f583d583', 'PolicyDetails': '{\\\"KnownNetworkPolicies\\\":{\\\"NetworkName\\\":\\\"BE-Office\\\",\\\"NetworkId\\\":\\\"b98b9088-ce88-4fae-80fb-5b58cb1ce685\\\",\\\"CidrIpRanges\\\":[\\\"109.88.218.99/28\\\"],\\\"CountryIsoCodes\\\":null,\\\"Categories\\\":[],\\\"ApplyToUnknownCountry\\\":false}}', 'PolicyLastUpdatedTime': '7/26/2020 2:25:48 AM', 'TenantDefaultPolicy': '6', 'DisplayName': 'Known Networks List', 'PolicyIdentifierString': '3/19/2020 7:45:08 PM'})\"],[\"Cmd(name='Set-ConditionalAccessPolicy', params={'Identity': 'seccxpninja.onmicrosoft.com\\\\\\\\e183bd29-a3a3-4f91-a5a3-b83b21a544df', 'PolicyDetails': '{\\\"Version\\\":0,\\\"State\\\":\\\"Enabled\\\",\\\"Conditions\\\":{\\\"Applications\\\":{\\\"Include\\\":[{\\\"Applications\\\":[\\\"00000002-0000-0ff1-ce00-000000000000\\\"]}]},\\\"Users\\\":{\\\"Include\\\":[{\\\"Users\\\":[\\\"2935e535-8fdf-4217-865b-e084cb7214f1\\\"]}]}},\\\"SessionControls\\\":[\\\"AppEnforcedRestrictions\\\"],\\\"PersistentBrowserSessionMode\\\":\\\"NotSet\\\",\\\"EnforceAllPoliciesForEas\\\":false,\\\"IncludeOtherLegacyClientTypeForEvaluation\\\":false}', 'PolicyLastUpdatedTime': '7/26/2020 5:09:13 AM', 'TenantDefaultPolicy': '', 'DisplayName': 'JulianI Exchange native controls', 'PolicyIdentifierString': ''})\",\"Cmd(name='Set-ConditionalAccessPolicy', params={'Identity': 'seccxpninja.onmicrosoft.com\\\\\\\\b2915792-0396-4abe-94ec-e17fa17243c5', 'PolicyDetails': '{\\\"Version\\\":0,\\\"State\\\":\\\"Enabled\\\",\\\"Conditions\\\":{\\\"Applications\\\":{\\\"Include\\\":[{\\\"Applications\\\":[\\\"94c63fef-13a3-47bc-8074-75af8c65887a\\\",\\\"c9a559d2-7aab-4f13-a6ed-e7e9c52aec87\\\"]}]},\\\"Users\\\":{\\\"Include\\\":[{\\\"Users\\\":[\\\"bdb72692-2275-412b-8af0-ea21c2ebd174\\\",\\\"eababd92-9dc7-40e3-9359-6c106522db19\\\"]}]},\\\"SignInRisks\\\":{\\\"Include\\\":[{\\\"SignInRisks\\\":[\\\"High\\\",\\\"Medium\\\",\\\"Low\\\"]}]}},\\\"SessionControls\\\":[\\\"CloudAppSecurity\\\"],\\\"PersistentBrowserSessionMode\\\":\\\"NotSet\\\",\\\"EnforceAllPoliciesForEas\\\":false,\\\"IncludeOtherLegacyClientTypeForEvaluation\\\":false,\\\"CasSessionControlType\\\":3}', 'PolicyLastUpdatedTime': '7/26/2020 5:09:11 AM', 'TenantDefaultPolicy': '', 'DisplayName': 'GBB demo', 'PolicyIdentifierString': ''})\"],[\"Cmd(name='Set-ConditionalAccessPolicy', params={'Identity': 'seccxpninja.onmicrosoft.com\\\\\\\\b2915792-0396-4abe-94ec-e17fa17243c5', 'PolicyDetails': '{\\\"Version\\\":0,\\\"State\\\":\\\"Enabled\\\",\\\"Conditions\\\":{\\\"Applications\\\":{\\\"Include\\\":[{\\\"Applications\\\":[\\\"94c63fef-13a3-47bc-8074-75af8c65887a\\\",\\\"c9a559d2-7aab-4f13-a6ed-e7e9c52aec87\\\"]}]},\\\"Users\\\":{\\\"Include\\\":[{\\\"Users\\\":[\\\"bdb72692-2275-412b-8af0-ea21c2ebd174\\\",\\\"eababd92-9dc7-40e3-9359-6c106522db19\\\"]}]},\\\"SignInRisks\\\":{\\\"Include\\\":[{\\\"SignInRisks\\\":[\\\"High\\\",\\\"Medium\\\",\\\"Low\\\"]}]}},\\\"SessionControls\\\":[\\\"CloudAppSecurity\\\"],\\\"PersistentBrowserSessionMode\\\":\\\"NotSet\\\",\\\"EnforceAllPoliciesForEas\\\":false,\\\"IncludeOtherLegacyClientTypeForEvaluation\\\":false,\\\"CasSessionControlType\\\":3}', 'PolicyLastUpdatedTime': '7/27/2020 2:07:10 AM', 'TenantDefaultPolicy': '', 'DisplayName': 'GBB demo', 'PolicyIdentifierString': ''})\",\"Cmd(name='Set-ConditionalAccessPolicy', params={'Identity': 'seccxpninja.onmicrosoft.com\\\\\\\\4c5a5ea0-5d9f-4730-baaa-7a69cf29ef26', 'PolicyDetails': '{\\\"Version\\\":0,\\\"State\\\":\\\"Enabled\\\",\\\"Conditions\\\":{\\\"Applications\\\":{\\\"Include\\\":[{\\\"Applications\\\":[\\\"All\\\"]}]},\\\"Users\\\":{\\\"Include\\\":[{\\\"Users\\\":[\\\"bdb72692-2275-412b-8af0-ea21c2ebd174\\\"]}]}},\\\"Controls\\\":[{\\\"Control\\\":[\\\"Mfa\\\"]}],\\\"PersistentBrowserSessionMode\\\":\\\"NotSet\\\",\\\"EnforceAllPoliciesForEas\\\":false,\\\"IncludeOtherLegacyClientTypeForEvaluation\\\":false}', 'PolicyLastUpdatedTime': '7/27/2020 2:07:11 AM', 'TenantDefaultPolicy': '', 'DisplayName': 'Semolen - Admin MFA', 'PolicyIdentifierString': ''})\"],[\"Cmd(name='Set-ConditionalAccessPolicy', params={'Identity': 'seccxpninja.onmicrosoft.com\\\\\\\\3b13ea3c-c733-4eb8-bd19-67d308b2ea04', 'PolicyDetails': '{\\\"Version\\\":0,\\\"CreatedDateTime\\\":\\\"2020-05-19T13:34:15.2394934Z\\\",\\\"ModifiedDateTime\\\":\\\"2020-05-19T13:39:04.7333386Z\\\",\\\"State\\\":\\\"Reporting\\\",\\\"Conditions\\\":{\\\"Applications\\\":{\\\"Include\\\":[{\\\"Applications\\\":[\\\"None\\\"]}]},\\\"Users\\\":{\\\"Include\\\":[{\\\"Users\\\":[\\\"Guests\\\"]}]},\\\"DevicePlatforms\\\":{\\\"Include\\\":[{\\\"DevicePlatforms\\\":[\\\"All\\\"]}],\\\"Exclude\\\":[{\\\"DevicePlatforms\\\":[\\\"Android\\\",\\\"iOS\\\",\\\"macOS\\\"]}]},\\\"ClientTypes\\\":{\\\"Include\\\":[{\\\"ClientTypes\\\":[\\\"Browser\\\",\\\"Native\\\"]}]}},\\\"Controls\\\":[{\\\"Control\\\":[\\\"Mfa\\\",\\\"RequireCompliantDevice\\\"]}]}', 'PolicyLastUpdatedTime': '7/27/2020 5:11:30 AM', 'TenantDefaultPolicy': '', 'DisplayName': 'Yanivsh -CA Test', 'PolicyIdentifierString': ''})\",\"Cmd(name='Set-ConditionalAccessPolicy', params={'Identity': 'seccxpninja.onmicrosoft.com\\\\\\\\ba36f0a4-6d73-4ba4-9282-3b3c14575e36', 'PolicyDetails': '{\\\"Version\\\":0,\\\"ModifiedDateTime\\\":\\\"2020-05-19T13:31:41.7083504Z\\\",\\\"State\\\":\\\"Disabled\\\",\\\"Conditions\\\":{\\\"Applications\\\":{\\\"Include\\\":[{\\\"Applications\\\":[\\\"00000002-0000-0ff1-ce00-000000000000\\\",\\\"00000003-0000-0ff1-ce00-000000000000\\\"]}]},\\\"Users\\\":{\\\"Include\\\":[{\\\"Users\\\":[\\\"2935e535-8fdf-4217-865b-e084cb7214f1\\\"]}]},\\\"DevicePlatforms\\\":{\\\"Include\\\":[{\\\"DevicePlatforms\\\":[\\\"All\\\"]}],\\\"Exclude\\\":[{\\\"DevicePlatforms\\\":[\\\"Android\\\",\\\"iOS\\\",\\\"macOS\\\"]}]},\\\"ClientTypes\\\":{\\\"Include\\\":[{\\\"ClientTypes\\\":[\\\"Browser\\\",\\\"Native\\\"]}]}},\\\"SessionControls\\\":[\\\"CloudAppSecurity\\\"],\\\"CasSessionControlType\\\":1}', 'PolicyLastUpdatedTime': '7/27/2020 5:11:29 AM', 'TenantDefaultPolicy': '', 'DisplayName': 'Block Access JulianI', 'PolicyIdentifierString': ''})\"],[\"Cmd(name='Set-ConditionalAccessPolicy', params={'Identity': 'seccxpninja.onmicrosoft.com\\\\\\\\ba36f0a4-6d73-4ba4-9282-3b3c14575e36', 'PolicyDetails': '{\\\"Version\\\":0,\\\"ModifiedDateTime\\\":\\\"2020-05-19T13:31:41.7083504Z\\\",\\\"State\\\":\\\"Disabled\\\",\\\"Conditions\\\":{\\\"Applications\\\":{\\\"Include\\\":[{\\\"Applications\\\":[\\\"00000002-0000-0ff1-ce00-000000000000\\\",\\\"00000003-0000-0ff1-ce00-000000000000\\\"]}]},\\\"Users\\\":{\\\"Include\\\":[{\\\"Users\\\":[\\\"2935e535-8fdf-4217-865b-e084cb7214f1\\\"]}]},\\\"DevicePlatforms\\\":{\\\"Include\\\":[{\\\"DevicePlatforms\\\":[\\\"All\\\"]}],\\\"Exclude\\\":[{\\\"DevicePlatforms\\\":[\\\"Android\\\",\\\"iOS\\\",\\\"macOS\\\"]}]},\\\"ClientTypes\\\":{\\\"Include\\\":[{\\\"ClientTypes\\\":[\\\"Browser\\\",\\\"Native\\\"]}]}},\\\"SessionControls\\\":[\\\"CloudAppSecurity\\\"],\\\"CasSessionControlType\\\":1}', 'PolicyLastUpdatedTime': '7/28/2020 2:00:46 AM', 'TenantDefaultPolicy': '', 'DisplayName': 'Block Access JulianI', 'PolicyIdentifierString': ''})\",\"Cmd(name='Set-ConditionalAccessPolicy', params={'Identity': 'seccxpninja.onmicrosoft.com\\\\\\\\2e76d011-eaa3-40b4-8ce8-7fba52bf3af8', 'PolicyDetails': '{\\\"Version\\\":0,\\\"State\\\":\\\"Reporting\\\",\\\"Conditions\\\":{\\\"Applications\\\":{\\\"Include\\\":[{\\\"Applications\\\":[\\\"f9e8b3d0-ba26-42cd-b544-c90a66191a81\\\"]}]},\\\"Users\\\":{\\\"Include\\\":[{\\\"Users\\\":[\\\"All\\\"]}]}},\\\"SessionControls\\\":[\\\"CloudAppSecurity\\\"],\\\"PersistentBrowserSessionMode\\\":\\\"NotSet\\\",\\\"EnforceAllPoliciesForEas\\\":false,\\\"IncludeOtherLegacyClientTypeForEvaluation\\\":false,\\\"CasSessionControlType\\\":1}', 'PolicyLastUpdatedTime': '7/28/2020 2:00:45 AM', 'TenantDefaultPolicy': '', 'DisplayName': 'On-Prem SharePoint - MeganB proxy', 'PolicyIdentifierString': ''})\"],[\"Cmd(name='Set-ConditionalAccessPolicy', params={'Identity': 'seccxpninja.onmicrosoft.com\\\\\\\\235bec94-f744-48ac-8314-5675953d2def', 'PolicyDetails': '{\\\"Version\\\":0,\\\"State\\\":\\\"Disabled\\\",\\\"Conditions\\\":{\\\"Applications\\\":{\\\"Include\\\":[{\\\"Applications\\\":[\\\"All\\\"]}]},\\\"Users\\\":{\\\"Include\\\":[{\\\"Users\\\":[\\\"eababd92-9dc7-40e3-9359-6c106522db19\\\"]}]},\\\"DevicePlatforms\\\":{\\\"Include\\\":[{\\\"DevicePlatforms\\\":[\\\"All\\\"]}],\\\"Exclude\\\":[{\\\"DevicePlatforms\\\":[\\\"macOS\\\"]}]}},\\\"Controls\\\":[{\\\"Control\\\":[\\\"Mfa\\\"]}],\\\"PersistentBrowserSessionMode\\\":\\\"NotSet\\\",\\\"EnforceAllPoliciesForEas\\\":false,\\\"IncludeOtherLegacyClientTypeForEvaluation\\\":false}', 'PolicyLastUpdatedTime': '7/28/2020 5:23:28 AM', 'TenantDefaultPolicy': '', 'DisplayName': 'Megan MFA demo', 'PolicyIdentifierString': ''})\",\"Cmd(name='Set-ConditionalAccessPolicy', params={'Identity': 'seccxpninja.onmicrosoft.com\\\\\\\\6490d00c-7ba1-42cf-aa88-99eb71d53bf7', 'PolicyDetails': '{\\\"Version\\\":0,\\\"LastUpdatedTimestamp\\\":\\\"2020-07-02T12:42:35.1866847Z\\\",\\\"State\\\":\\\"Disabled\\\",\\\"SignInFrequency\\\":\\\"NotSet\\\",\\\"PersistentBrowserSessionMode\\\":\\\"NotSet\\\"}', 'PolicyLastUpdatedTime': '7/28/2020 5:23:30 AM', 'TenantDefaultPolicy': '18', 'DisplayName': 'Default Policy', 'PolicyIdentifierString': '5/19/2020 1:39:05 PM'})\"],[\"Cmd(name='Set-ConditionalAccessPolicy', params={'Identity': 'seccxpninja.onmicrosoft.com\\\\\\\\83a057fb-dbca-4ba8-bb5f-0ce6d6e7cff5', 'PolicyDetails': '{\\\"Version\\\":0,\\\"State\\\":\\\"Enabled\\\",\\\"Conditions\\\":{\\\"Applications\\\":{\\\"Include\\\":[{\\\"Acrs\\\":[\\\"urn:microsoft:req1\\\"]}]},\\\"Users\\\":{\\\"Include\\\":[{\\\"Users\\\":[\\\"eababd92-9dc7-40e3-9359-6c106522db19\\\"]}]}},\\\"Controls\\\":[{\\\"Control\\\":[\\\"Mfa\\\"]}],\\\"PersistentBrowserSessionMode\\\":\\\"NotSet\\\",\\\"EnforceAllPoliciesForEas\\\":false,\\\"IncludeOtherLegacyClientTypeForEvaluation\\\":false}', 'PolicyLastUpdatedTime': '7/28/2020 5:23:28 AM', 'TenantDefaultPolicy': '', 'DisplayName': 'MeganB MCAS Step-up', 'PolicyIdentifierString': ''})\",\"Cmd(name='Set-ConditionalAccessPolicy', params={'Identity': 'seccxpninja.onmicrosoft.com\\\\\\\\b2915792-0396-4abe-94ec-e17fa17243c5', 'PolicyDetails': '{\\\"Version\\\":0,\\\"State\\\":\\\"Enabled\\\",\\\"Conditions\\\":{\\\"Applications\\\":{\\\"Include\\\":[{\\\"Applications\\\":[\\\"94c63fef-13a3-47bc-8074-75af8c65887a\\\",\\\"c9a559d2-7aab-4f13-a6ed-e7e9c52aec87\\\"]}]},\\\"Users\\\":{\\\"Include\\\":[{\\\"Users\\\":[\\\"bdb72692-2275-412b-8af0-ea21c2ebd174\\\",\\\"eababd92-9dc7-40e3-9359-6c106522db19\\\"]}]},\\\"SignInRisks\\\":{\\\"Include\\\":[{\\\"SignInRisks\\\":[\\\"High\\\",\\\"Medium\\\",\\\"Low\\\"]}]}},\\\"SessionControls\\\":[\\\"CloudAppSecurity\\\"],\\\"PersistentBrowserSessionMode\\\":\\\"NotSet\\\",\\\"EnforceAllPoliciesForEas\\\":false,\\\"IncludeOtherLegacyClientTypeForEvaluation\\\":false,\\\"CasSessionControlType\\\":3}', 'PolicyLastUpdatedTime': '7/28/2020 5:23:29 AM', 'TenantDefaultPolicy': '', 'DisplayName': 'GBB demo', 'PolicyIdentifierString': ''})\"],[\"Cmd(name='Set-ConditionalAccessPolicy', params={'Identity': 'seccxpninja.onmicrosoft.com\\\\\\\\69c7a12f-b407-45a3-b07e-fa04fc7f273d', 'PolicyDetails': '{\\\"Version\\\":0,\\\"State\\\":\\\"Enabled\\\",\\\"Conditions\\\":{\\\"Applications\\\":{\\\"Include\\\":[{\\\"Applications\\\":[\\\"00000003-0000-0ff1-ce00-000000000000\\\"]}]},\\\"Users\\\":{\\\"Include\\\":[{\\\"Users\\\":[\\\"All\\\"]}]}},\\\"SessionControls\\\":[\\\"CloudAppSecurity\\\"],\\\"PersistentBrowserSessionMode\\\":\\\"NotSet\\\",\\\"EnforceAllPoliciesForEas\\\":false,\\\"IncludeOtherLegacyClientTypeForEvaluation\\\":false,\\\"CasSessionControlType\\\":1}', 'PolicyLastUpdatedTime': '7/28/2020 5:23:31 AM', 'TenantDefaultPolicy': '', 'DisplayName': 'Test Policy', 'PolicyIdentifierString': ''})\",\"Cmd(name='Set-ConditionalAccessPolicy', params={'Identity': 'seccxpninja.onmicrosoft.com\\\\\\\\8837fdaa-aaeb-4432-9622-43f6f583d583', 'PolicyDetails': '{\\\"KnownNetworkPolicies\\\":{\\\"NetworkName\\\":\\\"BE-Office\\\",\\\"NetworkId\\\":\\\"b98b9088-ce88-4fae-80fb-5b58cb1ce685\\\",\\\"CidrIpRanges\\\":[\\\"109.88.218.99/28\\\"],\\\"CountryIsoCodes\\\":null,\\\"Categories\\\":[],\\\"ApplyToUnknownCountry\\\":false}}', 'PolicyLastUpdatedTime': '7/28/2020 5:23:31 AM', 'TenantDefaultPolicy': '6', 'DisplayName': 'Known Networks List', 'PolicyIdentifierString': '3/19/2020 7:45:08 PM'})\"],[\"Cmd(name='Set-ConditionalAccessPolicy', params={'Identity': 'seccxpninja.onmicrosoft.com\\\\\\\\6490d00c-7ba1-42cf-aa88-99eb71d53bf7', 'PolicyDetails': '{\\\"Version\\\":0,\\\"LastUpdatedTimestamp\\\":\\\"2020-07-02T12:42:35.1866847Z\\\",\\\"State\\\":\\\"Disabled\\\",\\\"SignInFrequency\\\":\\\"NotSet\\\",\\\"PersistentBrowserSessionMode\\\":\\\"NotSet\\\"}', 'PolicyLastUpdatedTime': '7/29/2020 1:40:54 AM', 'TenantDefaultPolicy': '18', 'DisplayName': 'Default Policy', 'PolicyIdentifierString': '5/19/2020 1:39:05 PM'})\",\"Cmd(name='Set-ConditionalAccessPolicy', params={'Identity': 'seccxpninja.onmicrosoft.com\\\\\\\\6490d00c-7ba1-42cf-aa88-99eb71d53bf7', 'PolicyDetails': '{\\\"Version\\\":0,\\\"LastUpdatedTimestamp\\\":\\\"2020-07-02T12:42:35.1866847Z\\\",\\\"State\\\":\\\"Disabled\\\",\\\"SignInFrequency\\\":\\\"NotSet\\\",\\\"PersistentBrowserSessionMode\\\":\\\"NotSet\\\"}', 'PolicyLastUpdatedTime': '7/29/2020 1:40:54 AM', 'TenantDefaultPolicy': '18', 'DisplayName': 'Default Policy', 'PolicyIdentifierString': '5/19/2020 1:39:05 PM'})\"],[\"Cmd(name='Set-ConditionalAccessPolicy', params={'Identity': 'seccxpninja.onmicrosoft.com\\\\\\\\83a057fb-dbca-4ba8-bb5f-0ce6d6e7cff5', 'PolicyDetails': '{\\\"Version\\\":0,\\\"State\\\":\\\"Enabled\\\",\\\"Conditions\\\":{\\\"Applications\\\":{\\\"Include\\\":[{\\\"Acrs\\\":[\\\"urn:microsoft:req1\\\"]}]},\\\"Users\\\":{\\\"Include\\\":[{\\\"Users\\\":[\\\"eababd92-9dc7-40e3-9359-6c106522db19\\\"]}]}},\\\"Controls\\\":[{\\\"Control\\\":[\\\"Mfa\\\"]}],\\\"PersistentBrowserSessionMode\\\":\\\"NotSet\\\",\\\"EnforceAllPoliciesForEas\\\":false,\\\"IncludeOtherLegacyClientTypeForEvaluation\\\":false}', 'PolicyLastUpdatedTime': '7/29/2020 1:40:52 AM', 'TenantDefaultPolicy': '', 'DisplayName': 'MeganB MCAS Step-up', 'PolicyIdentifierString': ''})\",\"Cmd(name='Set-ConditionalAccessPolicy', params={'Identity': 'seccxpninja.onmicrosoft.com\\\\\\\\2e76d011-eaa3-40b4-8ce8-7fba52bf3af8', 'PolicyDetails': '{\\\"Version\\\":0,\\\"State\\\":\\\"Reporting\\\",\\\"Conditions\\\":{\\\"Applications\\\":{\\\"Include\\\":[{\\\"Applications\\\":[\\\"f9e8b3d0-ba26-42cd-b544-c90a66191a81\\\"]}]},\\\"Users\\\":{\\\"Include\\\":[{\\\"Users\\\":[\\\"All\\\"]}]}},\\\"SessionControls\\\":[\\\"CloudAppSecurity\\\"],\\\"PersistentBrowserSessionMode\\\":\\\"NotSet\\\",\\\"EnforceAllPoliciesForEas\\\":false,\\\"IncludeOtherLegacyClientTypeForEvaluation\\\":false,\\\"CasSessionControlType\\\":1}', 'PolicyLastUpdatedTime': '7/29/2020 1:40:53 AM', 'TenantDefaultPolicy': '', 'DisplayName': 'On-Prem SharePoint - MeganB proxy', 'PolicyIdentifierString': ''})\"],[\"Cmd(name='Set-ConditionalAccessPolicy', params={'Identity': 'seccxpninja.onmicrosoft.com\\\\\\\\8872f6fb-da88-4b63-bcc7-17247669596b', 'PolicyDetails': '{\\\"Version\\\":0,\\\"State\\\":\\\"Enabled\\\",\\\"Conditions\\\":{\\\"Applications\\\":{\\\"Include\\\":[{\\\"Applications\\\":[\\\"00000002-0000-0ff1-ce00-000000000000\\\",\\\"09abbdfd-ed23-44ee-a2d9-a627aa1c90f3\\\",\\\"cc15fd57-2c6c-4117-a88c-83b1d56b4bbe\\\",\\\"00000003-0000-0ff1-ce00-000000000000\\\",\\\"00000005-0000-0ff1-ce00-000000000000\\\"]}]},\\\"Users\\\":{\\\"Include\\\":[{\\\"Users\\\":[\\\"eababd92-9dc7-40e3-9359-6c106522db19\\\"]}]}},\\\"SessionControls\\\":[\\\"CloudAppSecurity\\\"],\\\"PersistentBrowserSessionMode\\\":\\\"NotSet\\\",\\\"EnforceAllPoliciesForEas\\\":false,\\\"IncludeOtherLegacyClientTypeForEvaluation\\\":false,\\\"CasSessionControlType\\\":1}', 'PolicyLastUpdatedTime': '7/29/2020 5:15:37 AM', 'TenantDefaultPolicy': '', 'DisplayName': 'MeganB MCAS Proxy', 'PolicyIdentifierString': ''})\",\"Cmd(name='Set-ConditionalAccessPolicy', params={'Identity': 'seccxpninja.onmicrosoft.com\\\\\\\\8872f6fb-da88-4b63-bcc7-17247669596b', 'PolicyDetails': '{\\\"Version\\\":0,\\\"State\\\":\\\"Enabled\\\",\\\"Conditions\\\":{\\\"Applications\\\":{\\\"Include\\\":[{\\\"Applications\\\":[\\\"00000002-0000-0ff1-ce00-000000000000\\\",\\\"09abbdfd-ed23-44ee-a2d9-a627aa1c90f3\\\",\\\"cc15fd57-2c6c-4117-a88c-83b1d56b4bbe\\\",\\\"00000003-0000-0ff1-ce00-000000000000\\\",\\\"00000005-0000-0ff1-ce00-000000000000\\\"]}]},\\\"Users\\\":{\\\"Include\\\":[{\\\"Users\\\":[\\\"eababd92-9dc7-40e3-9359-6c106522db19\\\"]}]}},\\\"SessionControls\\\":[\\\"CloudAppSecurity\\\"],\\\"PersistentBrowserSessionMode\\\":\\\"NotSet\\\",\\\"EnforceAllPoliciesForEas\\\":false,\\\"IncludeOtherLegacyClientTypeForEvaluation\\\":false,\\\"CasSessionControlType\\\":1}', 'PolicyLastUpdatedTime': '7/29/2020 5:15:37 AM', 'TenantDefaultPolicy': '', 'DisplayName': 'MeganB MCAS Proxy', 'PolicyIdentifierString': ''})\"],[\"Cmd(name='Set-ConditionalAccessPolicy', params={'Identity': 'seccxpninja.onmicrosoft.com\\\\\\\\2e76d011-eaa3-40b4-8ce8-7fba52bf3af8', 'PolicyDetails': '{\\\"Version\\\":0,\\\"State\\\":\\\"Reporting\\\",\\\"Conditions\\\":{\\\"Applications\\\":{\\\"Include\\\":[{\\\"Applications\\\":[\\\"f9e8b3d0-ba26-42cd-b544-c90a66191a81\\\"]}]},\\\"Users\\\":{\\\"Include\\\":[{\\\"Users\\\":[\\\"All\\\"]}]}},\\\"SessionControls\\\":[\\\"CloudAppSecurity\\\"],\\\"PersistentBrowserSessionMode\\\":\\\"NotSet\\\",\\\"EnforceAllPoliciesForEas\\\":false,\\\"IncludeOtherLegacyClientTypeForEvaluation\\\":false,\\\"CasSessionControlType\\\":1}', 'PolicyLastUpdatedTime': '7/29/2020 5:15:40 AM', 'TenantDefaultPolicy': '', 'DisplayName': 'On-Prem SharePoint - MeganB proxy', 'PolicyIdentifierString': ''})\",\"Cmd(name='Set-ConditionalAccessPolicy', params={'Identity': 'seccxpninja.onmicrosoft.com\\\\\\\\6490d00c-7ba1-42cf-aa88-99eb71d53bf7', 'PolicyDetails': '{\\\"Version\\\":0,\\\"LastUpdatedTimestamp\\\":\\\"2020-07-02T12:42:35.1866847Z\\\",\\\"State\\\":\\\"Disabled\\\",\\\"SignInFrequency\\\":\\\"NotSet\\\",\\\"PersistentBrowserSessionMode\\\":\\\"NotSet\\\"}', 'PolicyLastUpdatedTime': '7/29/2020 5:15:40 AM', 'TenantDefaultPolicy': '18', 'DisplayName': 'Default Policy', 'PolicyIdentifierString': '5/19/2020 1:39:05 PM'})\"],[\"Cmd(name='Set-ConditionalAccessPolicy', params={'Identity': 'seccxpninja.onmicrosoft.com\\\\\\\\b2915792-0396-4abe-94ec-e17fa17243c5', 'PolicyDetails': '{\\\"Version\\\":0,\\\"State\\\":\\\"Enabled\\\",\\\"Conditions\\\":{\\\"Applications\\\":{\\\"Include\\\":[{\\\"Applications\\\":[\\\"94c63fef-13a3-47bc-8074-75af8c65887a\\\",\\\"c9a559d2-7aab-4f13-a6ed-e7e9c52aec87\\\"]}]},\\\"Users\\\":{\\\"Include\\\":[{\\\"Users\\\":[\\\"bdb72692-2275-412b-8af0-ea21c2ebd174\\\",\\\"eababd92-9dc7-40e3-9359-6c106522db19\\\"]}]},\\\"SignInRisks\\\":{\\\"Include\\\":[{\\\"SignInRisks\\\":[\\\"High\\\",\\\"Medium\\\",\\\"Low\\\"]}]}},\\\"SessionControls\\\":[\\\"CloudAppSecurity\\\"],\\\"PersistentBrowserSessionMode\\\":\\\"NotSet\\\",\\\"EnforceAllPoliciesForEas\\\":false,\\\"IncludeOtherLegacyClientTypeForEvaluation\\\":false,\\\"CasSessionControlType\\\":3}', 'PolicyLastUpdatedTime': '7/30/2020 2:16:46 AM', 'TenantDefaultPolicy': '', 'DisplayName': 'GBB demo', 'PolicyIdentifierString': ''})\",\"Cmd(name='Set-ConditionalAccessPolicy', params={'Identity': 'seccxpninja.onmicrosoft.com\\\\\\\\b2915792-0396-4abe-94ec-e17fa17243c5', 'PolicyDetails': '{\\\"Version\\\":0,\\\"State\\\":\\\"Enabled\\\",\\\"Conditions\\\":{\\\"Applications\\\":{\\\"Include\\\":[{\\\"Applications\\\":[\\\"94c63fef-13a3-47bc-8074-75af8c65887a\\\",\\\"c9a559d2-7aab-4f13-a6ed-e7e9c52aec87\\\"]}]},\\\"Users\\\":{\\\"Include\\\":[{\\\"Users\\\":[\\\"bdb72692-2275-412b-8af0-ea21c2ebd174\\\",\\\"eababd92-9dc7-40e3-9359-6c106522db19\\\"]}]},\\\"SignInRisks\\\":{\\\"Include\\\":[{\\\"SignInRisks\\\":[\\\"High\\\",\\\"Medium\\\",\\\"Low\\\"]}]}},\\\"SessionControls\\\":[\\\"CloudAppSecurity\\\"],\\\"PersistentBrowserSessionMode\\\":\\\"NotSet\\\",\\\"EnforceAllPoliciesForEas\\\":false,\\\"IncludeOtherLegacyClientTypeForEvaluation\\\":false,\\\"CasSessionControlType\\\":3}', 'PolicyLastUpdatedTime': '7/30/2020 2:16:46 AM', 'TenantDefaultPolicy': '', 'DisplayName': 'GBB demo', 'PolicyIdentifierString': ''})\"],[\"Cmd(name='Set-ConditionalAccessPolicy', params={'Identity': 'seccxpninja.onmicrosoft.com\\\\\\\\e183bd29-a3a3-4f91-a5a3-b83b21a544df', 'PolicyDetails': '{\\\"Version\\\":0,\\\"State\\\":\\\"Enabled\\\",\\\"Conditions\\\":{\\\"Applications\\\":{\\\"Include\\\":[{\\\"Applications\\\":[\\\"00000002-0000-0ff1-ce00-000000000000\\\"]}]},\\\"Users\\\":{\\\"Include\\\":[{\\\"Users\\\":[\\\"2935e535-8fdf-4217-865b-e084cb7214f1\\\"]}]}},\\\"SessionControls\\\":[\\\"AppEnforcedRestrictions\\\"],\\\"PersistentBrowserSessionMode\\\":\\\"NotSet\\\",\\\"EnforceAllPoliciesForEas\\\":false,\\\"IncludeOtherLegacyClientTypeForEvaluation\\\":false}', 'PolicyLastUpdatedTime': '7/30/2020 5:13:58 AM', 'TenantDefaultPolicy': '', 'DisplayName': 'JulianI Exchange native controls', 'PolicyIdentifierString': ''})\",\"Cmd(name='Set-ConditionalAccessPolicy', params={'Identity': 'seccxpninja.onmicrosoft.com\\\\\\\\5fd0c4ff-1cd7-4bf6-8607-294a04f58f12', 'PolicyDetails': '{\\\"Version\\\":0,\\\"State\\\":\\\"Disabled\\\",\\\"Conditions\\\":{\\\"Applications\\\":{\\\"Include\\\":[{\\\"Applications\\\":[\\\"All\\\"]}]},\\\"Users\\\":{\\\"Include\\\":[{\\\"Users\\\":[\\\"142512c7-f006-46ae-909c-14fa7bf6a887\\\"]}]}},\\\"Controls\\\":[{\\\"Control\\\":[\\\"Mfa\\\"]}],\\\"EnforceAllPoliciesForEas\\\":false,\\\"IncludeOtherLegacyClientTypeForEvaluation\\\":false}', 'PolicyLastUpdatedTime': '7/30/2020 5:13:58 AM', 'TenantDefaultPolicy': '', 'DisplayName': 'Azure MFA', 'PolicyIdentifierString': ''})\"],[\"Cmd(name='Set-ConditionalAccessPolicy', params={'Identity': 'seccxpninja.onmicrosoft.com\\\\\\\\8872f6fb-da88-4b63-bcc7-17247669596b', 'PolicyDetails': '{\\\"Version\\\":0,\\\"State\\\":\\\"Enabled\\\",\\\"Conditions\\\":{\\\"Applications\\\":{\\\"Include\\\":[{\\\"Applications\\\":[\\\"00000002-0000-0ff1-ce00-000000000000\\\",\\\"09abbdfd-ed23-44ee-a2d9-a627aa1c90f3\\\",\\\"cc15fd57-2c6c-4117-a88c-83b1d56b4bbe\\\",\\\"00000003-0000-0ff1-ce00-000000000000\\\",\\\"00000005-0000-0ff1-ce00-000000000000\\\"]}]},\\\"Users\\\":{\\\"Include\\\":[{\\\"Users\\\":[\\\"eababd92-9dc7-40e3-9359-6c106522db19\\\"]}]}},\\\"SessionControls\\\":[\\\"CloudAppSecurity\\\"],\\\"PersistentBrowserSessionMode\\\":\\\"NotSet\\\",\\\"EnforceAllPoliciesForEas\\\":false,\\\"IncludeOtherLegacyClientTypeForEvaluation\\\":false,\\\"CasSessionControlType\\\":1}', 'PolicyLastUpdatedTime': '7/31/2020 2:40:02 AM', 'TenantDefaultPolicy': '', 'DisplayName': 'MeganB MCAS Proxy', 'PolicyIdentifierString': ''})\",\"Cmd(name='Set-ConditionalAccessPolicy', params={'Identity': 'seccxpninja.onmicrosoft.com\\\\\\\\8872f6fb-da88-4b63-bcc7-17247669596b', 'PolicyDetails': '{\\\"Version\\\":0,\\\"State\\\":\\\"Enabled\\\",\\\"Conditions\\\":{\\\"Applications\\\":{\\\"Include\\\":[{\\\"Applications\\\":[\\\"00000002-0000-0ff1-ce00-000000000000\\\",\\\"09abbdfd-ed23-44ee-a2d9-a627aa1c90f3\\\",\\\"cc15fd57-2c6c-4117-a88c-83b1d56b4bbe\\\",\\\"00000003-0000-0ff1-ce00-000000000000\\\",\\\"00000005-0000-0ff1-ce00-000000000000\\\"]}]},\\\"Users\\\":{\\\"Include\\\":[{\\\"Users\\\":[\\\"eababd92-9dc7-40e3-9359-6c106522db19\\\"]}]}},\\\"SessionControls\\\":[\\\"CloudAppSecurity\\\"],\\\"PersistentBrowserSessionMode\\\":\\\"NotSet\\\",\\\"EnforceAllPoliciesForEas\\\":false,\\\"IncludeOtherLegacyClientTypeForEvaluation\\\":false,\\\"CasSessionControlType\\\":1}', 'PolicyLastUpdatedTime': '7/31/2020 2:40:02 AM', 'TenantDefaultPolicy': '', 'DisplayName': 'MeganB MCAS Proxy', 'PolicyIdentifierString': ''})\"],[\"Cmd(name='Set-ConditionalAccessPolicy', params={'Identity': 'seccxpninja.onmicrosoft.com\\\\\\\\bcd93f74-64fd-4042-a3ae-ee6d48886d6d', 'PolicyDetails': '{\\\"Version\\\":0,\\\"State\\\":\\\"Enabled\\\",\\\"Conditions\\\":{\\\"Applications\\\":{\\\"Include\\\":[{\\\"Applications\\\":[\\\"c9a559d2-7aab-4f13-a6ed-e7e9c52aec87\\\"]}]},\\\"Users\\\":{\\\"Include\\\":[{\\\"Users\\\":[\\\"bdb72692-2275-412b-8af0-ea21c2ebd174\\\",\\\"eababd92-9dc7-40e3-9359-6c106522db19\\\"]}]}},\\\"SessionControls\\\":[\\\"CloudAppSecurity\\\"],\\\"PersistentBrowserSessionMode\\\":\\\"NotSet\\\",\\\"EnforceAllPoliciesForEas\\\":false,\\\"IncludeOtherLegacyClientTypeForEvaluation\\\":false,\\\"CasSessionControlType\\\":3}', 'PolicyLastUpdatedTime': '7/31/2020 2:40:03 AM', 'TenantDefaultPolicy': '', 'DisplayName': 'Form MCAS', 'PolicyIdentifierString': ''})\",\"Cmd(name='Set-ConditionalAccessPolicy', params={'Identity': 'seccxpninja.onmicrosoft.com\\\\\\\\2e76d011-eaa3-40b4-8ce8-7fba52bf3af8', 'PolicyDetails': '{\\\"Version\\\":0,\\\"State\\\":\\\"Reporting\\\",\\\"Conditions\\\":{\\\"Applications\\\":{\\\"Include\\\":[{\\\"Applications\\\":[\\\"f9e8b3d0-ba26-42cd-b544-c90a66191a81\\\"]}]},\\\"Users\\\":{\\\"Include\\\":[{\\\"Users\\\":[\\\"All\\\"]}]}},\\\"SessionControls\\\":[\\\"CloudAppSecurity\\\"],\\\"PersistentBrowserSessionMode\\\":\\\"NotSet\\\",\\\"EnforceAllPoliciesForEas\\\":false,\\\"IncludeOtherLegacyClientTypeForEvaluation\\\":false,\\\"CasSessionControlType\\\":1}', 'PolicyLastUpdatedTime': '7/31/2020 2:40:04 AM', 'TenantDefaultPolicy': '', 'DisplayName': 'On-Prem SharePoint - MeganB proxy', 'PolicyIdentifierString': ''})\"],[\"Cmd(name='Set-ConditionalAccessPolicy', params={'Identity': 'seccxpninja.onmicrosoft.com\\\\\\\\83a057fb-dbca-4ba8-bb5f-0ce6d6e7cff5', 'PolicyDetails': '{\\\"Version\\\":0,\\\"State\\\":\\\"Enabled\\\",\\\"Conditions\\\":{\\\"Applications\\\":{\\\"Include\\\":[{\\\"Acrs\\\":[\\\"urn:microsoft:req1\\\"]}]},\\\"Users\\\":{\\\"Include\\\":[{\\\"Users\\\":[\\\"eababd92-9dc7-40e3-9359-6c106522db19\\\"]}]}},\\\"Controls\\\":[{\\\"Control\\\":[\\\"Mfa\\\"]}],\\\"PersistentBrowserSessionMode\\\":\\\"NotSet\\\",\\\"EnforceAllPoliciesForEas\\\":false,\\\"IncludeOtherLegacyClientTypeForEvaluation\\\":false}', 'PolicyLastUpdatedTime': '7/31/2020 4:58:18 AM', 'TenantDefaultPolicy': '', 'DisplayName': 'MeganB MCAS Step-up', 'PolicyIdentifierString': ''})\",\"Cmd(name='Set-ConditionalAccessPolicy', params={'Identity': 'seccxpninja.onmicrosoft.com\\\\\\\\8872f6fb-da88-4b63-bcc7-17247669596b', 'PolicyDetails': '{\\\"Version\\\":0,\\\"State\\\":\\\"Enabled\\\",\\\"Conditions\\\":{\\\"Applications\\\":{\\\"Include\\\":[{\\\"Applications\\\":[\\\"00000002-0000-0ff1-ce00-000000000000\\\",\\\"09abbdfd-ed23-44ee-a2d9-a627aa1c90f3\\\",\\\"cc15fd57-2c6c-4117-a88c-83b1d56b4bbe\\\",\\\"00000003-0000-0ff1-ce00-000000000000\\\",\\\"00000005-0000-0ff1-ce00-000000000000\\\"]}]},\\\"Users\\\":{\\\"Include\\\":[{\\\"Users\\\":[\\\"eababd92-9dc7-40e3-9359-6c106522db19\\\"]}]}},\\\"SessionControls\\\":[\\\"CloudAppSecurity\\\"],\\\"PersistentBrowserSessionMode\\\":\\\"NotSet\\\",\\\"EnforceAllPoliciesForEas\\\":false,\\\"IncludeOtherLegacyClientTypeForEvaluation\\\":false,\\\"CasSessionControlType\\\":1}', 'PolicyLastUpdatedTime': '7/31/2020 4:58:17 AM', 'TenantDefaultPolicy': '', 'DisplayName': 'MeganB MCAS Proxy', 'PolicyIdentifierString': ''})\"],[\"Cmd(name='Set-ConditionalAccessPolicy', params={'Identity': 'seccxpninja.onmicrosoft.com\\\\\\\\bcd93f74-64fd-4042-a3ae-ee6d48886d6d', 'PolicyDetails': '{\\\"Version\\\":0,\\\"State\\\":\\\"Enabled\\\",\\\"Conditions\\\":{\\\"Applications\\\":{\\\"Include\\\":[{\\\"Applications\\\":[\\\"c9a559d2-7aab-4f13-a6ed-e7e9c52aec87\\\"]}]},\\\"Users\\\":{\\\"Include\\\":[{\\\"Users\\\":[\\\"bdb72692-2275-412b-8af0-ea21c2ebd174\\\",\\\"eababd92-9dc7-40e3-9359-6c106522db19\\\"]}]}},\\\"SessionControls\\\":[\\\"CloudAppSecurity\\\"],\\\"PersistentBrowserSessionMode\\\":\\\"NotSet\\\",\\\"EnforceAllPoliciesForEas\\\":false,\\\"IncludeOtherLegacyClientTypeForEvaluation\\\":false,\\\"CasSessionControlType\\\":3}', 'PolicyLastUpdatedTime': '8/1/2020 2:29:49 AM', 'TenantDefaultPolicy': '', 'DisplayName': 'Form MCAS', 'PolicyIdentifierString': ''})\",\"Cmd(name='Set-ConditionalAccessPolicy', params={'Identity': 'seccxpninja.onmicrosoft.com\\\\\\\\bcd93f74-64fd-4042-a3ae-ee6d48886d6d', 'PolicyDetails': '{\\\"Version\\\":0,\\\"State\\\":\\\"Enabled\\\",\\\"Conditions\\\":{\\\"Applications\\\":{\\\"Include\\\":[{\\\"Applications\\\":[\\\"c9a559d2-7aab-4f13-a6ed-e7e9c52aec87\\\"]}]},\\\"Users\\\":{\\\"Include\\\":[{\\\"Users\\\":[\\\"bdb72692-2275-412b-8af0-ea21c2ebd174\\\",\\\"eababd92-9dc7-40e3-9359-6c106522db19\\\"]}]}},\\\"SessionControls\\\":[\\\"CloudAppSecurity\\\"],\\\"PersistentBrowserSessionMode\\\":\\\"NotSet\\\",\\\"EnforceAllPoliciesForEas\\\":false,\\\"IncludeOtherLegacyClientTypeForEvaluation\\\":false,\\\"CasSessionControlType\\\":3}', 'PolicyLastUpdatedTime': '8/1/2020 2:29:49 AM', 'TenantDefaultPolicy': '', 'DisplayName': 'Form MCAS', 'PolicyIdentifierString': ''})\"],[\"Cmd(name='Set-ConditionalAccessPolicy', params={'Identity': 'seccxpninja.onmicrosoft.com\\\\\\\\8872f6fb-da88-4b63-bcc7-17247669596b', 'PolicyDetails': '{\\\"Version\\\":0,\\\"State\\\":\\\"Enabled\\\",\\\"Conditions\\\":{\\\"Applications\\\":{\\\"Include\\\":[{\\\"Applications\\\":[\\\"00000002-0000-0ff1-ce00-000000000000\\\",\\\"09abbdfd-ed23-44ee-a2d9-a627aa1c90f3\\\",\\\"cc15fd57-2c6c-4117-a88c-83b1d56b4bbe\\\",\\\"00000003-0000-0ff1-ce00-000000000000\\\",\\\"00000005-0000-0ff1-ce00-000000000000\\\"]}]},\\\"Users\\\":{\\\"Include\\\":[{\\\"Users\\\":[\\\"eababd92-9dc7-40e3-9359-6c106522db19\\\"]}]}},\\\"SessionControls\\\":[\\\"CloudAppSecurity\\\"],\\\"PersistentBrowserSessionMode\\\":\\\"NotSet\\\",\\\"EnforceAllPoliciesForEas\\\":false,\\\"IncludeOtherLegacyClientTypeForEvaluation\\\":false,\\\"CasSessionControlType\\\":1}', 'PolicyLastUpdatedTime': '8/1/2020 5:29:05 AM', 'TenantDefaultPolicy': '', 'DisplayName': 'MeganB MCAS Proxy', 'PolicyIdentifierString': ''})\",\"Cmd(name='Set-ConditionalAccessPolicy', params={'Identity': 'seccxpninja.onmicrosoft.com\\\\\\\\8872f6fb-da88-4b63-bcc7-17247669596b', 'PolicyDetails': '{\\\"Version\\\":0,\\\"State\\\":\\\"Enabled\\\",\\\"Conditions\\\":{\\\"Applications\\\":{\\\"Include\\\":[{\\\"Applications\\\":[\\\"00000002-0000-0ff1-ce00-000000000000\\\",\\\"09abbdfd-ed23-44ee-a2d9-a627aa1c90f3\\\",\\\"cc15fd57-2c6c-4117-a88c-83b1d56b4bbe\\\",\\\"00000003-0000-0ff1-ce00-000000000000\\\",\\\"00000005-0000-0ff1-ce00-000000000000\\\"]}]},\\\"Users\\\":{\\\"Include\\\":[{\\\"Users\\\":[\\\"eababd92-9dc7-40e3-9359-6c106522db19\\\"]}]}},\\\"SessionControls\\\":[\\\"CloudAppSecurity\\\"],\\\"PersistentBrowserSessionMode\\\":\\\"NotSet\\\",\\\"EnforceAllPoliciesForEas\\\":false,\\\"IncludeOtherLegacyClientTypeForEvaluation\\\":false,\\\"CasSessionControlType\\\":1}', 'PolicyLastUpdatedTime': '8/1/2020 5:29:05 AM', 'TenantDefaultPolicy': '', 'DisplayName': 'MeganB MCAS Proxy', 'PolicyIdentifierString': ''})\"],[\"Cmd(name='Set-ConditionalAccessPolicy', params={'Identity': 'seccxpninja.onmicrosoft.com\\\\\\\\69c7a12f-b407-45a3-b07e-fa04fc7f273d', 'PolicyDetails': '{\\\"Version\\\":0,\\\"State\\\":\\\"Enabled\\\",\\\"Conditions\\\":{\\\"Applications\\\":{\\\"Include\\\":[{\\\"Applications\\\":[\\\"00000003-0000-0ff1-ce00-000000000000\\\"]}]},\\\"Users\\\":{\\\"Include\\\":[{\\\"Users\\\":[\\\"All\\\"]}]}},\\\"SessionControls\\\":[\\\"CloudAppSecurity\\\"],\\\"PersistentBrowserSessionMode\\\":\\\"NotSet\\\",\\\"EnforceAllPoliciesForEas\\\":false,\\\"IncludeOtherLegacyClientTypeForEvaluation\\\":false,\\\"CasSessionControlType\\\":1}', 'PolicyLastUpdatedTime': '8/1/2020 5:29:08 AM', 'TenantDefaultPolicy': '', 'DisplayName': 'Test Policy', 'PolicyIdentifierString': ''})\",\"Cmd(name='Set-ConditionalAccessPolicy', params={'Identity': 'seccxpninja.onmicrosoft.com\\\\\\\\8837fdaa-aaeb-4432-9622-43f6f583d583', 'PolicyDetails': '{\\\"KnownNetworkPolicies\\\":{\\\"NetworkName\\\":\\\"BE-Office\\\",\\\"NetworkId\\\":\\\"b98b9088-ce88-4fae-80fb-5b58cb1ce685\\\",\\\"CidrIpRanges\\\":[\\\"109.88.218.99/28\\\"],\\\"CountryIsoCodes\\\":null,\\\"Categories\\\":[],\\\"ApplyToUnknownCountry\\\":false}}', 'PolicyLastUpdatedTime': '8/1/2020 5:29:08 AM', 'TenantDefaultPolicy': '6', 'DisplayName': 'Known Networks List', 'PolicyIdentifierString': '3/19/2020 7:45:08 PM'})\"],[\"Cmd(name='Set-ConditionalAccessPolicy', params={'Identity': 'seccxpninja.onmicrosoft.com\\\\\\\\b2915792-0396-4abe-94ec-e17fa17243c5', 'PolicyDetails': '{\\\"Version\\\":0,\\\"State\\\":\\\"Enabled\\\",\\\"Conditions\\\":{\\\"Applications\\\":{\\\"Include\\\":[{\\\"Applications\\\":[\\\"94c63fef-13a3-47bc-8074-75af8c65887a\\\",\\\"c9a559d2-7aab-4f13-a6ed-e7e9c52aec87\\\"]}]},\\\"Users\\\":{\\\"Include\\\":[{\\\"Users\\\":[\\\"bdb72692-2275-412b-8af0-ea21c2ebd174\\\",\\\"eababd92-9dc7-40e3-9359-6c106522db19\\\"]}]},\\\"SignInRisks\\\":{\\\"Include\\\":[{\\\"SignInRisks\\\":[\\\"High\\\",\\\"Medium\\\",\\\"Low\\\"]}]}},\\\"SessionControls\\\":[\\\"CloudAppSecurity\\\"],\\\"PersistentBrowserSessionMode\\\":\\\"NotSet\\\",\\\"EnforceAllPoliciesForEas\\\":false,\\\"IncludeOtherLegacyClientTypeForEvaluation\\\":false,\\\"CasSessionControlType\\\":3}', 'PolicyLastUpdatedTime': '8/2/2020 2:12:56 AM', 'TenantDefaultPolicy': '', 'DisplayName': 'GBB demo', 'PolicyIdentifierString': ''})\",\"Cmd(name='Set-ConditionalAccessPolicy', params={'Identity': 'seccxpninja.onmicrosoft.com\\\\\\\\5fd0c4ff-1cd7-4bf6-8607-294a04f58f12', 'PolicyDetails': '{\\\"Version\\\":0,\\\"State\\\":\\\"Disabled\\\",\\\"Conditions\\\":{\\\"Applications\\\":{\\\"Include\\\":[{\\\"Applications\\\":[\\\"All\\\"]}]},\\\"Users\\\":{\\\"Include\\\":[{\\\"Users\\\":[\\\"142512c7-f006-46ae-909c-14fa7bf6a887\\\"]}]}},\\\"Controls\\\":[{\\\"Control\\\":[\\\"Mfa\\\"]}],\\\"EnforceAllPoliciesForEas\\\":false,\\\"IncludeOtherLegacyClientTypeForEvaluation\\\":false}', 'PolicyLastUpdatedTime': '8/2/2020 2:12:56 AM', 'TenantDefaultPolicy': '', 'DisplayName': 'Azure MFA', 'PolicyIdentifierString': ''})\"],[\"Cmd(name='Set-ConditionalAccessPolicy', params={'Identity': 'seccxpninja.onmicrosoft.com\\\\\\\\8872f6fb-da88-4b63-bcc7-17247669596b', 'PolicyDetails': '{\\\"Version\\\":0,\\\"State\\\":\\\"Enabled\\\",\\\"Conditions\\\":{\\\"Applications\\\":{\\\"Include\\\":[{\\\"Applications\\\":[\\\"00000002-0000-0ff1-ce00-000000000000\\\",\\\"09abbdfd-ed23-44ee-a2d9-a627aa1c90f3\\\",\\\"cc15fd57-2c6c-4117-a88c-83b1d56b4bbe\\\",\\\"00000003-0000-0ff1-ce00-000000000000\\\",\\\"00000005-0000-0ff1-ce00-000000000000\\\"]}]},\\\"Users\\\":{\\\"Include\\\":[{\\\"Users\\\":[\\\"eababd92-9dc7-40e3-9359-6c106522db19\\\"]}]}},\\\"SessionControls\\\":[\\\"CloudAppSecurity\\\"],\\\"PersistentBrowserSessionMode\\\":\\\"NotSet\\\",\\\"EnforceAllPoliciesForEas\\\":false,\\\"IncludeOtherLegacyClientTypeForEvaluation\\\":false,\\\"CasSessionControlType\\\":1}', 'PolicyLastUpdatedTime': '8/2/2020 5:26:58 AM', 'TenantDefaultPolicy': '', 'DisplayName': 'MeganB MCAS Proxy', 'PolicyIdentifierString': ''})\",\"Cmd(name='Set-ConditionalAccessPolicy', params={'Identity': 'seccxpninja.onmicrosoft.com\\\\\\\\b2915792-0396-4abe-94ec-e17fa17243c5', 'PolicyDetails': '{\\\"Version\\\":0,\\\"State\\\":\\\"Enabled\\\",\\\"Conditions\\\":{\\\"Applications\\\":{\\\"Include\\\":[{\\\"Applications\\\":[\\\"94c63fef-13a3-47bc-8074-75af8c65887a\\\",\\\"c9a559d2-7aab-4f13-a6ed-e7e9c52aec87\\\"]}]},\\\"Users\\\":{\\\"Include\\\":[{\\\"Users\\\":[\\\"bdb72692-2275-412b-8af0-ea21c2ebd174\\\",\\\"eababd92-9dc7-40e3-9359-6c106522db19\\\"]}]},\\\"SignInRisks\\\":{\\\"Include\\\":[{\\\"SignInRisks\\\":[\\\"High\\\",\\\"Medium\\\",\\\"Low\\\"]}]}},\\\"SessionControls\\\":[\\\"CloudAppSecurity\\\"],\\\"PersistentBrowserSessionMode\\\":\\\"NotSet\\\",\\\"EnforceAllPoliciesForEas\\\":false,\\\"IncludeOtherLegacyClientTypeForEvaluation\\\":false,\\\"CasSessionControlType\\\":3}', 'PolicyLastUpdatedTime': '8/2/2020 5:27:00 AM', 'TenantDefaultPolicy': '', 'DisplayName': 'GBB demo', 'PolicyIdentifierString': ''})\"],[\"Cmd(name='Set-ConditionalAccessPolicy', params={'Identity': 'seccxpninja.onmicrosoft.com\\\\\\\\8872f6fb-da88-4b63-bcc7-17247669596b', 'PolicyDetails': '{\\\"Version\\\":0,\\\"State\\\":\\\"Enabled\\\",\\\"Conditions\\\":{\\\"Applications\\\":{\\\"Include\\\":[{\\\"Applications\\\":[\\\"00000002-0000-0ff1-ce00-000000000000\\\",\\\"09abbdfd-ed23-44ee-a2d9-a627aa1c90f3\\\",\\\"cc15fd57-2c6c-4117-a88c-83b1d56b4bbe\\\",\\\"00000003-0000-0ff1-ce00-000000000000\\\",\\\"00000005-0000-0ff1-ce00-000000000000\\\"]}]},\\\"Users\\\":{\\\"Include\\\":[{\\\"Users\\\":[\\\"eababd92-9dc7-40e3-9359-6c106522db19\\\"]}]}},\\\"SessionControls\\\":[\\\"CloudAppSecurity\\\"],\\\"PersistentBrowserSessionMode\\\":\\\"NotSet\\\",\\\"EnforceAllPoliciesForEas\\\":false,\\\"IncludeOtherLegacyClientTypeForEvaluation\\\":false,\\\"CasSessionControlType\\\":1}', 'PolicyLastUpdatedTime': '8/3/2020 2:09:01 AM', 'TenantDefaultPolicy': '', 'DisplayName': 'MeganB MCAS Proxy', 'PolicyIdentifierString': ''})\",\"Cmd(name='Set-ConditionalAccessPolicy', params={'Identity': 'seccxpninja.onmicrosoft.com\\\\\\\\8872f6fb-da88-4b63-bcc7-17247669596b', 'PolicyDetails': '{\\\"Version\\\":0,\\\"State\\\":\\\"Enabled\\\",\\\"Conditions\\\":{\\\"Applications\\\":{\\\"Include\\\":[{\\\"Applications\\\":[\\\"00000002-0000-0ff1-ce00-000000000000\\\",\\\"09abbdfd-ed23-44ee-a2d9-a627aa1c90f3\\\",\\\"cc15fd57-2c6c-4117-a88c-83b1d56b4bbe\\\",\\\"00000003-0000-0ff1-ce00-000000000000\\\",\\\"00000005-0000-0ff1-ce00-000000000000\\\"]}]},\\\"Users\\\":{\\\"Include\\\":[{\\\"Users\\\":[\\\"eababd92-9dc7-40e3-9359-6c106522db19\\\"]}]}},\\\"SessionControls\\\":[\\\"CloudAppSecurity\\\"],\\\"PersistentBrowserSessionMode\\\":\\\"NotSet\\\",\\\"EnforceAllPoliciesForEas\\\":false,\\\"IncludeOtherLegacyClientTypeForEvaluation\\\":false,\\\"CasSessionControlType\\\":1}', 'PolicyLastUpdatedTime': '8/3/2020 2:09:01 AM', 'TenantDefaultPolicy': '', 'DisplayName': 'MeganB MCAS Proxy', 'PolicyIdentifierString': ''})\"],[\"Cmd(name='Set-ConditionalAccessPolicy', params={'Identity': 'seccxpninja.onmicrosoft.com\\\\\\\\235bec94-f744-48ac-8314-5675953d2def', 'PolicyDetails': '{\\\"Version\\\":0,\\\"State\\\":\\\"Disabled\\\",\\\"Conditions\\\":{\\\"Applications\\\":{\\\"Include\\\":[{\\\"Applications\\\":[\\\"All\\\"]}]},\\\"Users\\\":{\\\"Include\\\":[{\\\"Users\\\":[\\\"eababd92-9dc7-40e3-9359-6c106522db19\\\"]}]},\\\"DevicePlatforms\\\":{\\\"Include\\\":[{\\\"DevicePlatforms\\\":[\\\"All\\\"]}],\\\"Exclude\\\":[{\\\"DevicePlatforms\\\":[\\\"macOS\\\"]}]}},\\\"Controls\\\":[{\\\"Control\\\":[\\\"Mfa\\\"]}],\\\"PersistentBrowserSessionMode\\\":\\\"NotSet\\\",\\\"EnforceAllPoliciesForEas\\\":false,\\\"IncludeOtherLegacyClientTypeForEvaluation\\\":false}', 'PolicyLastUpdatedTime': '8/3/2020 2:09:02 AM', 'TenantDefaultPolicy': '', 'DisplayName': 'Megan MFA demo', 'PolicyIdentifierString': ''})\",\"Cmd(name='Set-ConditionalAccessPolicy', params={'Identity': 'seccxpninja.onmicrosoft.com\\\\\\\\4c5a5ea0-5d9f-4730-baaa-7a69cf29ef26', 'PolicyDetails': '{\\\"Version\\\":0,\\\"State\\\":\\\"Enabled\\\",\\\"Conditions\\\":{\\\"Applications\\\":{\\\"Include\\\":[{\\\"Applications\\\":[\\\"All\\\"]}]},\\\"Users\\\":{\\\"Include\\\":[{\\\"Users\\\":[\\\"bdb72692-2275-412b-8af0-ea21c2ebd174\\\"]}]}},\\\"Controls\\\":[{\\\"Control\\\":[\\\"Mfa\\\"]}],\\\"PersistentBrowserSessionMode\\\":\\\"NotSet\\\",\\\"EnforceAllPoliciesForEas\\\":false,\\\"IncludeOtherLegacyClientTypeForEvaluation\\\":false}', 'PolicyLastUpdatedTime': '8/3/2020 2:09:04 AM', 'TenantDefaultPolicy': '', 'DisplayName': 'Semolen - Admin MFA', 'PolicyIdentifierString': ''})\"],[\"Cmd(name='Set-ConditionalAccessPolicy', params={'Identity': 'seccxpninja.onmicrosoft.com\\\\\\\\8837fdaa-aaeb-4432-9622-43f6f583d583', 'PolicyDetails': '{\\\"KnownNetworkPolicies\\\":{\\\"NetworkName\\\":\\\"BE-Office\\\",\\\"NetworkId\\\":\\\"b98b9088-ce88-4fae-80fb-5b58cb1ce685\\\",\\\"CidrIpRanges\\\":[\\\"109.88.218.99/28\\\"],\\\"CountryIsoCodes\\\":null,\\\"Categories\\\":[],\\\"ApplyToUnknownCountry\\\":false}}', 'PolicyLastUpdatedTime': '8/3/2020 5:18:08 AM', 'TenantDefaultPolicy': '6', 'DisplayName': 'Known Networks List', 'PolicyIdentifierString': '3/19/2020 7:45:08 PM'})\",\"Cmd(name='Set-ConditionalAccessPolicy', params={'Identity': 'seccxpninja.onmicrosoft.com\\\\\\\\e183bd29-a3a3-4f91-a5a3-b83b21a544df', 'PolicyDetails': '{\\\"Version\\\":0,\\\"State\\\":\\\"Enabled\\\",\\\"Conditions\\\":{\\\"Applications\\\":{\\\"Include\\\":[{\\\"Applications\\\":[\\\"00000002-0000-0ff1-ce00-000000000000\\\"]}]},\\\"Users\\\":{\\\"Include\\\":[{\\\"Users\\\":[\\\"2935e535-8fdf-4217-865b-e084cb7214f1\\\"]}]}},\\\"SessionControls\\\":[\\\"AppEnforcedRestrictions\\\"],\\\"PersistentBrowserSessionMode\\\":\\\"NotSet\\\",\\\"EnforceAllPoliciesForEas\\\":false,\\\"IncludeOtherLegacyClientTypeForEvaluation\\\":false}', 'PolicyLastUpdatedTime': '8/3/2020 5:18:07 AM', 'TenantDefaultPolicy': '', 'DisplayName': 'JulianI Exchange native controls', 'PolicyIdentifierString': ''})\"],[\"Cmd(name='Set-ConditionalAccessPolicy', params={'Identity': 'seccxpninja.onmicrosoft.com\\\\\\\\8837fdaa-aaeb-4432-9622-43f6f583d583', 'PolicyDetails': '{\\\"KnownNetworkPolicies\\\":{\\\"NetworkName\\\":\\\"BE-Office\\\",\\\"NetworkId\\\":\\\"b98b9088-ce88-4fae-80fb-5b58cb1ce685\\\",\\\"CidrIpRanges\\\":[\\\"109.88.218.99/28\\\"],\\\"CountryIsoCodes\\\":null,\\\"Categories\\\":[],\\\"ApplyToUnknownCountry\\\":false}}', 'PolicyLastUpdatedTime': '8/4/2020 1:49:57 AM', 'TenantDefaultPolicy': '6', 'DisplayName': 'Known Networks List', 'PolicyIdentifierString': '3/19/2020 7:45:08 PM'})\",\"Cmd(name='Set-ConditionalAccessPolicy', params={'Identity': 'seccxpninja.onmicrosoft.com\\\\\\\\8872f6fb-da88-4b63-bcc7-17247669596b', 'PolicyDetails': '{\\\"Version\\\":0,\\\"State\\\":\\\"Enabled\\\",\\\"Conditions\\\":{\\\"Applications\\\":{\\\"Include\\\":[{\\\"Applications\\\":[\\\"00000002-0000-0ff1-ce00-000000000000\\\",\\\"09abbdfd-ed23-44ee-a2d9-a627aa1c90f3\\\",\\\"cc15fd57-2c6c-4117-a88c-83b1d56b4bbe\\\",\\\"00000003-0000-0ff1-ce00-000000000000\\\",\\\"00000005-0000-0ff1-ce00-000000000000\\\"]}]},\\\"Users\\\":{\\\"Include\\\":[{\\\"Users\\\":[\\\"eababd92-9dc7-40e3-9359-6c106522db19\\\"]}]}},\\\"SessionControls\\\":[\\\"CloudAppSecurity\\\"],\\\"PersistentBrowserSessionMode\\\":\\\"NotSet\\\",\\\"EnforceAllPoliciesForEas\\\":false,\\\"IncludeOtherLegacyClientTypeForEvaluation\\\":false,\\\"CasSessionControlType\\\":1}', 'PolicyLastUpdatedTime': '8/4/2020 1:49:52 AM', 'TenantDefaultPolicy': '', 'DisplayName': 'MeganB MCAS Proxy', 'PolicyIdentifierString': ''})\"],[\"Cmd(name='Set-ConditionalAccessPolicy', params={'Identity': 'seccxpninja.onmicrosoft.com\\\\\\\\235bec94-f744-48ac-8314-5675953d2def', 'PolicyDetails': '{\\\"Version\\\":0,\\\"State\\\":\\\"Disabled\\\",\\\"Conditions\\\":{\\\"Applications\\\":{\\\"Include\\\":[{\\\"Applications\\\":[\\\"All\\\"]}]},\\\"Users\\\":{\\\"Include\\\":[{\\\"Users\\\":[\\\"eababd92-9dc7-40e3-9359-6c106522db19\\\"]}]},\\\"DevicePlatforms\\\":{\\\"Include\\\":[{\\\"DevicePlatforms\\\":[\\\"All\\\"]}],\\\"Exclude\\\":[{\\\"DevicePlatforms\\\":[\\\"macOS\\\"]}]}},\\\"Controls\\\":[{\\\"Control\\\":[\\\"Mfa\\\"]}],\\\"PersistentBrowserSessionMode\\\":\\\"NotSet\\\",\\\"EnforceAllPoliciesForEas\\\":false,\\\"IncludeOtherLegacyClientTypeForEvaluation\\\":false}', 'PolicyLastUpdatedTime': '8/4/2020 5:28:36 AM', 'TenantDefaultPolicy': '', 'DisplayName': 'Megan MFA demo', 'PolicyIdentifierString': ''})\",\"Cmd(name='Set-ConditionalAccessPolicy', params={'Identity': 'seccxpninja.onmicrosoft.com\\\\\\\\6490d00c-7ba1-42cf-aa88-99eb71d53bf7', 'PolicyDetails': '{\\\"Version\\\":0,\\\"LastUpdatedTimestamp\\\":\\\"2020-07-02T12:42:35.1866847Z\\\",\\\"State\\\":\\\"Disabled\\\",\\\"SignInFrequency\\\":\\\"NotSet\\\",\\\"PersistentBrowserSessionMode\\\":\\\"NotSet\\\"}', 'PolicyLastUpdatedTime': '8/4/2020 5:28:36 AM', 'TenantDefaultPolicy': '18', 'DisplayName': 'Default Policy', 'PolicyIdentifierString': '5/19/2020 1:39:05 PM'})\"],[\"Cmd(name='Set-ConditionalAccessPolicy', params={'Identity': 'seccxpninja.onmicrosoft.com\\\\\\\\69c7a12f-b407-45a3-b07e-fa04fc7f273d', 'PolicyDetails': '{\\\"Version\\\":0,\\\"State\\\":\\\"Enabled\\\",\\\"Conditions\\\":{\\\"Applications\\\":{\\\"Include\\\":[{\\\"Applications\\\":[\\\"00000003-0000-0ff1-ce00-000000000000\\\"]}]},\\\"Users\\\":{\\\"Include\\\":[{\\\"Users\\\":[\\\"All\\\"]}]}},\\\"SessionControls\\\":[\\\"CloudAppSecurity\\\"],\\\"PersistentBrowserSessionMode\\\":\\\"NotSet\\\",\\\"EnforceAllPoliciesForEas\\\":false,\\\"IncludeOtherLegacyClientTypeForEvaluation\\\":false,\\\"CasSessionControlType\\\":1}', 'PolicyLastUpdatedTime': '8/5/2020 2:23:25 AM', 'TenantDefaultPolicy': '', 'DisplayName': 'Test Policy', 'PolicyIdentifierString': ''})\",\"Cmd(name='Set-ConditionalAccessPolicy', params={'Identity': 'seccxpninja.onmicrosoft.com\\\\\\\\3b13ea3c-c733-4eb8-bd19-67d308b2ea04', 'PolicyDetails': '{\\\"Version\\\":0,\\\"CreatedDateTime\\\":\\\"2020-05-19T13:34:15.2394934Z\\\",\\\"ModifiedDateTime\\\":\\\"2020-05-19T13:39:04.7333386Z\\\",\\\"State\\\":\\\"Reporting\\\",\\\"Conditions\\\":{\\\"Applications\\\":{\\\"Include\\\":[{\\\"Applications\\\":[\\\"None\\\"]}]},\\\"Users\\\":{\\\"Include\\\":[{\\\"Users\\\":[\\\"Guests\\\"]}]},\\\"DevicePlatforms\\\":{\\\"Include\\\":[{\\\"DevicePlatforms\\\":[\\\"All\\\"]}],\\\"Exclude\\\":[{\\\"DevicePlatforms\\\":[\\\"Android\\\",\\\"iOS\\\",\\\"macOS\\\"]}]},\\\"ClientTypes\\\":{\\\"Include\\\":[{\\\"ClientTypes\\\":[\\\"Browser\\\",\\\"Native\\\"]}]}},\\\"Controls\\\":[{\\\"Control\\\":[\\\"Mfa\\\",\\\"RequireCompliantDevice\\\"]}]}', 'PolicyLastUpdatedTime': '8/5/2020 2:23:25 AM', 'TenantDefaultPolicy': '', 'DisplayName': 'Yanivsh -CA Test', 'PolicyIdentifierString': ''})\"],[\"Cmd(name='Set-ConditionalAccessPolicy', params={'Identity': 'seccxpninja.onmicrosoft.com\\\\\\\\2e76d011-eaa3-40b4-8ce8-7fba52bf3af8', 'PolicyDetails': '{\\\"Version\\\":0,\\\"State\\\":\\\"Reporting\\\",\\\"Conditions\\\":{\\\"Applications\\\":{\\\"Include\\\":[{\\\"Applications\\\":[\\\"f9e8b3d0-ba26-42cd-b544-c90a66191a81\\\"]}]},\\\"Users\\\":{\\\"Include\\\":[{\\\"Users\\\":[\\\"All\\\"]}]}},\\\"SessionControls\\\":[\\\"CloudAppSecurity\\\"],\\\"PersistentBrowserSessionMode\\\":\\\"NotSet\\\",\\\"EnforceAllPoliciesForEas\\\":false,\\\"IncludeOtherLegacyClientTypeForEvaluation\\\":false,\\\"CasSessionControlType\\\":1}', 'PolicyLastUpdatedTime': '8/5/2020 5:15:31 AM', 'TenantDefaultPolicy': '', 'DisplayName': 'On-Prem SharePoint - MeganB proxy', 'PolicyIdentifierString': ''})\",\"Cmd(name='Set-ConditionalAccessPolicy', params={'Identity': 'seccxpninja.onmicrosoft.com\\\\\\\\b2915792-0396-4abe-94ec-e17fa17243c5', 'PolicyDetails': '{\\\"Version\\\":0,\\\"State\\\":\\\"Enabled\\\",\\\"Conditions\\\":{\\\"Applications\\\":{\\\"Include\\\":[{\\\"Applications\\\":[\\\"94c63fef-13a3-47bc-8074-75af8c65887a\\\",\\\"c9a559d2-7aab-4f13-a6ed-e7e9c52aec87\\\"]}]},\\\"Users\\\":{\\\"Include\\\":[{\\\"Users\\\":[\\\"bdb72692-2275-412b-8af0-ea21c2ebd174\\\",\\\"eababd92-9dc7-40e3-9359-6c106522db19\\\"]}]},\\\"SignInRisks\\\":{\\\"Include\\\":[{\\\"SignInRisks\\\":[\\\"High\\\",\\\"Medium\\\",\\\"Low\\\"]}]}},\\\"SessionControls\\\":[\\\"CloudAppSecurity\\\"],\\\"PersistentBrowserSessionMode\\\":\\\"NotSet\\\",\\\"EnforceAllPoliciesForEas\\\":false,\\\"IncludeOtherLegacyClientTypeForEvaluation\\\":false,\\\"CasSessionControlType\\\":3}', 'PolicyLastUpdatedTime': '8/5/2020 5:15:30 AM', 'TenantDefaultPolicy': '', 'DisplayName': 'GBB demo', 'PolicyIdentifierString': ''})\"],[\"Cmd(name='Set-ConditionalAccessPolicy', params={'Identity': 'seccxpninja.onmicrosoft.com\\\\\\\\83a057fb-dbca-4ba8-bb5f-0ce6d6e7cff5', 'PolicyDetails': '{\\\"Version\\\":0,\\\"State\\\":\\\"Enabled\\\",\\\"Conditions\\\":{\\\"Applications\\\":{\\\"Include\\\":[{\\\"Acrs\\\":[\\\"urn:microsoft:req1\\\"]}]},\\\"Users\\\":{\\\"Include\\\":[{\\\"Users\\\":[\\\"eababd92-9dc7-40e3-9359-6c106522db19\\\"]}]}},\\\"Controls\\\":[{\\\"Control\\\":[\\\"Mfa\\\"]}],\\\"PersistentBrowserSessionMode\\\":\\\"NotSet\\\",\\\"EnforceAllPoliciesForEas\\\":false,\\\"IncludeOtherLegacyClientTypeForEvaluation\\\":false}', 'PolicyLastUpdatedTime': '8/5/2020 5:15:30 AM', 'TenantDefaultPolicy': '', 'DisplayName': 'MeganB MCAS Step-up', 'PolicyIdentifierString': ''})\",\"Cmd(name='Set-ConditionalAccessPolicy', params={'Identity': 'seccxpninja.onmicrosoft.com\\\\\\\\8837fdaa-aaeb-4432-9622-43f6f583d583', 'PolicyDetails': '{\\\"KnownNetworkPolicies\\\":{\\\"NetworkName\\\":\\\"BE-Office\\\",\\\"NetworkId\\\":\\\"b98b9088-ce88-4fae-80fb-5b58cb1ce685\\\",\\\"CidrIpRanges\\\":[\\\"109.88.218.99/28\\\"],\\\"CountryIsoCodes\\\":null,\\\"Categories\\\":[],\\\"ApplyToUnknownCountry\\\":false}}', 'PolicyLastUpdatedTime': '8/5/2020 5:15:33 AM', 'TenantDefaultPolicy': '6', 'DisplayName': 'Known Networks List', 'PolicyIdentifierString': '3/19/2020 7:45:08 PM'})\"],[\"Cmd(name='Set-ConditionalAccessPolicy', params={'Identity': 'seccxpninja.onmicrosoft.com\\\\\\\\69c7a12f-b407-45a3-b07e-fa04fc7f273d', 'PolicyDetails': '{\\\"Version\\\":0,\\\"State\\\":\\\"Enabled\\\",\\\"Conditions\\\":{\\\"Applications\\\":{\\\"Include\\\":[{\\\"Applications\\\":[\\\"00000003-0000-0ff1-ce00-000000000000\\\"]}]},\\\"Users\\\":{\\\"Include\\\":[{\\\"Users\\\":[\\\"All\\\"]}]}},\\\"SessionControls\\\":[\\\"CloudAppSecurity\\\"],\\\"PersistentBrowserSessionMode\\\":\\\"NotSet\\\",\\\"EnforceAllPoliciesForEas\\\":false,\\\"IncludeOtherLegacyClientTypeForEvaluation\\\":false,\\\"CasSessionControlType\\\":1}', 'PolicyLastUpdatedTime': '8/5/2020 5:15:32 AM', 'TenantDefaultPolicy': '', 'DisplayName': 'Test Policy', 'PolicyIdentifierString': ''})\",\"Cmd(name='Set-ConditionalAccessPolicy', params={'Identity': 'seccxpninja.onmicrosoft.com\\\\\\\\b2915792-0396-4abe-94ec-e17fa17243c5', 'PolicyDetails': '{\\\"Version\\\":0,\\\"State\\\":\\\"Enabled\\\",\\\"Conditions\\\":{\\\"Applications\\\":{\\\"Include\\\":[{\\\"Applications\\\":[\\\"94c63fef-13a3-47bc-8074-75af8c65887a\\\",\\\"c9a559d2-7aab-4f13-a6ed-e7e9c52aec87\\\"]}]},\\\"Users\\\":{\\\"Include\\\":[{\\\"Users\\\":[\\\"bdb72692-2275-412b-8af0-ea21c2ebd174\\\",\\\"eababd92-9dc7-40e3-9359-6c106522db19\\\"]}]},\\\"SignInRisks\\\":{\\\"Include\\\":[{\\\"SignInRisks\\\":[\\\"High\\\",\\\"Medium\\\",\\\"Low\\\"]}]}},\\\"SessionControls\\\":[\\\"CloudAppSecurity\\\"],\\\"PersistentBrowserSessionMode\\\":\\\"NotSet\\\",\\\"EnforceAllPoliciesForEas\\\":false,\\\"IncludeOtherLegacyClientTypeForEvaluation\\\":false,\\\"CasSessionControlType\\\":3}', 'PolicyLastUpdatedTime': '8/5/2020 5:15:30 AM', 'TenantDefaultPolicy': '', 'DisplayName': 'GBB demo', 'PolicyIdentifierString': ''})\"],[\"Cmd(name='Set-ConditionalAccessPolicy', params={'Identity': 'seccxpninja.onmicrosoft.com\\\\\\\\235bec94-f744-48ac-8314-5675953d2def', 'PolicyDetails': '{\\\"Version\\\":0,\\\"State\\\":\\\"Disabled\\\",\\\"Conditions\\\":{\\\"Applications\\\":{\\\"Include\\\":[{\\\"Applications\\\":[\\\"All\\\"]}]},\\\"Users\\\":{\\\"Include\\\":[{\\\"Users\\\":[\\\"eababd92-9dc7-40e3-9359-6c106522db19\\\"]}]},\\\"DevicePlatforms\\\":{\\\"Include\\\":[{\\\"DevicePlatforms\\\":[\\\"All\\\"]}],\\\"Exclude\\\":[{\\\"DevicePlatforms\\\":[\\\"macOS\\\"]}]}},\\\"Controls\\\":[{\\\"Control\\\":[\\\"Mfa\\\"]}],\\\"PersistentBrowserSessionMode\\\":\\\"NotSet\\\",\\\"EnforceAllPoliciesForEas\\\":false,\\\"IncludeOtherLegacyClientTypeForEvaluation\\\":false}', 'PolicyLastUpdatedTime': '8/5/2020 5:15:29 AM', 'TenantDefaultPolicy': '', 'DisplayName': 'Megan MFA demo', 'PolicyIdentifierString': ''})\",\"Cmd(name='Set-ConditionalAccessPolicy', params={'Identity': 'seccxpninja.onmicrosoft.com\\\\\\\\4c5a5ea0-5d9f-4730-baaa-7a69cf29ef26', 'PolicyDetails': '{\\\"Version\\\":0,\\\"State\\\":\\\"Enabled\\\",\\\"Conditions\\\":{\\\"Applications\\\":{\\\"Include\\\":[{\\\"Applications\\\":[\\\"All\\\"]}]},\\\"Users\\\":{\\\"Include\\\":[{\\\"Users\\\":[\\\"bdb72692-2275-412b-8af0-ea21c2ebd174\\\"]}]}},\\\"Controls\\\":[{\\\"Control\\\":[\\\"Mfa\\\"]}],\\\"PersistentBrowserSessionMode\\\":\\\"NotSet\\\",\\\"EnforceAllPoliciesForEas\\\":false,\\\"IncludeOtherLegacyClientTypeForEvaluation\\\":false}', 'PolicyLastUpdatedTime': '8/5/2020 5:15:31 AM', 'TenantDefaultPolicy': '', 'DisplayName': 'Semolen - Admin MFA', 'PolicyIdentifierString': ''})\"],[\"Cmd(name='Set-ConditionalAccessPolicy', params={'Identity': 'seccxpninja.onmicrosoft.com\\\\\\\\235bec94-f744-48ac-8314-5675953d2def', 'PolicyDetails': '{\\\"Version\\\":0,\\\"State\\\":\\\"Disabled\\\",\\\"Conditions\\\":{\\\"Applications\\\":{\\\"Include\\\":[{\\\"Applications\\\":[\\\"All\\\"]}]},\\\"Users\\\":{\\\"Include\\\":[{\\\"Users\\\":[\\\"eababd92-9dc7-40e3-9359-6c106522db19\\\"]}]},\\\"DevicePlatforms\\\":{\\\"Include\\\":[{\\\"DevicePlatforms\\\":[\\\"All\\\"]}],\\\"Exclude\\\":[{\\\"DevicePlatforms\\\":[\\\"macOS\\\"]}]}},\\\"Controls\\\":[{\\\"Control\\\":[\\\"Mfa\\\"]}],\\\"PersistentBrowserSessionMode\\\":\\\"NotSet\\\",\\\"EnforceAllPoliciesForEas\\\":false,\\\"IncludeOtherLegacyClientTypeForEvaluation\\\":false}', 'PolicyLastUpdatedTime': '8/6/2020 2:16:15 AM', 'TenantDefaultPolicy': '', 'DisplayName': 'Megan MFA demo', 'PolicyIdentifierString': ''})\",\"Cmd(name='Set-ConditionalAccessPolicy', params={'Identity': 'seccxpninja.onmicrosoft.com\\\\\\\\2e76d011-eaa3-40b4-8ce8-7fba52bf3af8', 'PolicyDetails': '{\\\"Version\\\":0,\\\"State\\\":\\\"Reporting\\\",\\\"Conditions\\\":{\\\"Applications\\\":{\\\"Include\\\":[{\\\"Applications\\\":[\\\"f9e8b3d0-ba26-42cd-b544-c90a66191a81\\\"]}]},\\\"Users\\\":{\\\"Include\\\":[{\\\"Users\\\":[\\\"All\\\"]}]}},\\\"SessionControls\\\":[\\\"CloudAppSecurity\\\"],\\\"PersistentBrowserSessionMode\\\":\\\"NotSet\\\",\\\"EnforceAllPoliciesForEas\\\":false,\\\"IncludeOtherLegacyClientTypeForEvaluation\\\":false,\\\"CasSessionControlType\\\":1}', 'PolicyLastUpdatedTime': '8/6/2020 2:16:16 AM', 'TenantDefaultPolicy': '', 'DisplayName': 'On-Prem SharePoint - MeganB proxy', 'PolicyIdentifierString': ''})\"],[\"Cmd(name='Set-ConditionalAccessPolicy', params={'Identity': 'seccxpninja.onmicrosoft.com\\\\\\\\2e76d011-eaa3-40b4-8ce8-7fba52bf3af8', 'PolicyDetails': '{\\\"Version\\\":0,\\\"State\\\":\\\"Reporting\\\",\\\"Conditions\\\":{\\\"Applications\\\":{\\\"Include\\\":[{\\\"Applications\\\":[\\\"f9e8b3d0-ba26-42cd-b544-c90a66191a81\\\"]}]},\\\"Users\\\":{\\\"Include\\\":[{\\\"Users\\\":[\\\"All\\\"]}]}},\\\"SessionControls\\\":[\\\"CloudAppSecurity\\\"],\\\"PersistentBrowserSessionMode\\\":\\\"NotSet\\\",\\\"EnforceAllPoliciesForEas\\\":false,\\\"IncludeOtherLegacyClientTypeForEvaluation\\\":false,\\\"CasSessionControlType\\\":1}', 'PolicyLastUpdatedTime': '8/6/2020 5:18:56 AM', 'TenantDefaultPolicy': '', 'DisplayName': 'On-Prem SharePoint - MeganB proxy', 'PolicyIdentifierString': ''})\",\"Cmd(name='Set-ConditionalAccessPolicy', params={'Identity': 'seccxpninja.onmicrosoft.com\\\\\\\\235bec94-f744-48ac-8314-5675953d2def', 'PolicyDetails': '{\\\"Version\\\":0,\\\"State\\\":\\\"Disabled\\\",\\\"Conditions\\\":{\\\"Applications\\\":{\\\"Include\\\":[{\\\"Applications\\\":[\\\"All\\\"]}]},\\\"Users\\\":{\\\"Include\\\":[{\\\"Users\\\":[\\\"eababd92-9dc7-40e3-9359-6c106522db19\\\"]}]},\\\"DevicePlatforms\\\":{\\\"Include\\\":[{\\\"DevicePlatforms\\\":[\\\"All\\\"]}],\\\"Exclude\\\":[{\\\"DevicePlatforms\\\":[\\\"macOS\\\"]}]}},\\\"Controls\\\":[{\\\"Control\\\":[\\\"Mfa\\\"]}],\\\"PersistentBrowserSessionMode\\\":\\\"NotSet\\\",\\\"EnforceAllPoliciesForEas\\\":false,\\\"IncludeOtherLegacyClientTypeForEvaluation\\\":false}', 'PolicyLastUpdatedTime': '8/6/2020 5:18:55 AM', 'TenantDefaultPolicy': '', 'DisplayName': 'Megan MFA demo', 'PolicyIdentifierString': ''})\"],[\"Cmd(name='Set-ConditionalAccessPolicy', params={'Identity': 'seccxpninja.onmicrosoft.com\\\\\\\\5fd0c4ff-1cd7-4bf6-8607-294a04f58f12', 'PolicyDetails': '{\\\"Version\\\":0,\\\"State\\\":\\\"Disabled\\\",\\\"Conditions\\\":{\\\"Applications\\\":{\\\"Include\\\":[{\\\"Applications\\\":[\\\"All\\\"]}]},\\\"Users\\\":{\\\"Include\\\":[{\\\"Users\\\":[\\\"142512c7-f006-46ae-909c-14fa7bf6a887\\\"]}]}},\\\"Controls\\\":[{\\\"Control\\\":[\\\"Mfa\\\"]}],\\\"EnforceAllPoliciesForEas\\\":false,\\\"IncludeOtherLegacyClientTypeForEvaluation\\\":false}', 'PolicyLastUpdatedTime': '8/6/2020 2:16:16 AM', 'TenantDefaultPolicy': '', 'DisplayName': 'Azure MFA', 'PolicyIdentifierString': ''})\",\"Cmd(name='Set-ConditionalAccessPolicy', params={'Identity': 'seccxpninja.onmicrosoft.com\\\\\\\\5fd0c4ff-1cd7-4bf6-8607-294a04f58f12', 'PolicyDetails': '{\\\"Version\\\":0,\\\"State\\\":\\\"Disabled\\\",\\\"Conditions\\\":{\\\"Applications\\\":{\\\"Include\\\":[{\\\"Applications\\\":[\\\"All\\\"]}]},\\\"Users\\\":{\\\"Include\\\":[{\\\"Users\\\":[\\\"142512c7-f006-46ae-909c-14fa7bf6a887\\\"]}]}},\\\"Controls\\\":[{\\\"Control\\\":[\\\"Mfa\\\"]}],\\\"EnforceAllPoliciesForEas\\\":false,\\\"IncludeOtherLegacyClientTypeForEvaluation\\\":false}', 'PolicyLastUpdatedTime': '8/6/2020 2:16:16 AM', 'TenantDefaultPolicy': '', 'DisplayName': 'Azure MFA', 'PolicyIdentifierString': ''})\"],[\"Cmd(name='Set-ConditionalAccessPolicy', params={'Identity': 'seccxpninja.onmicrosoft.com\\\\\\\\83a057fb-dbca-4ba8-bb5f-0ce6d6e7cff5', 'PolicyDetails': '{\\\"Version\\\":0,\\\"State\\\":\\\"Enabled\\\",\\\"Conditions\\\":{\\\"Applications\\\":{\\\"Include\\\":[{\\\"Acrs\\\":[\\\"urn:microsoft:req1\\\"]}]},\\\"Users\\\":{\\\"Include\\\":[{\\\"Users\\\":[\\\"eababd92-9dc7-40e3-9359-6c106522db19\\\"]}]}},\\\"Controls\\\":[{\\\"Control\\\":[\\\"Mfa\\\"]}],\\\"PersistentBrowserSessionMode\\\":\\\"NotSet\\\",\\\"EnforceAllPoliciesForEas\\\":false,\\\"IncludeOtherLegacyClientTypeForEvaluation\\\":false}', 'PolicyLastUpdatedTime': '8/6/2020 2:16:15 AM', 'TenantDefaultPolicy': '', 'DisplayName': 'MeganB MCAS Step-up', 'PolicyIdentifierString': ''})\",\"Cmd(name='Set-ConditionalAccessPolicy', params={'Identity': 'seccxpninja.onmicrosoft.com\\\\\\\\3b13ea3c-c733-4eb8-bd19-67d308b2ea04', 'PolicyDetails': '{\\\"Version\\\":0,\\\"CreatedDateTime\\\":\\\"2020-05-19T13:34:15.2394934Z\\\",\\\"ModifiedDateTime\\\":\\\"2020-05-19T13:39:04.7333386Z\\\",\\\"State\\\":\\\"Reporting\\\",\\\"Conditions\\\":{\\\"Applications\\\":{\\\"Include\\\":[{\\\"Applications\\\":[\\\"None\\\"]}]},\\\"Users\\\":{\\\"Include\\\":[{\\\"Users\\\":[\\\"Guests\\\"]}]},\\\"DevicePlatforms\\\":{\\\"Include\\\":[{\\\"DevicePlatforms\\\":[\\\"All\\\"]}],\\\"Exclude\\\":[{\\\"DevicePlatforms\\\":[\\\"Android\\\",\\\"iOS\\\",\\\"macOS\\\"]}]},\\\"ClientTypes\\\":{\\\"Include\\\":[{\\\"ClientTypes\\\":[\\\"Browser\\\",\\\"Native\\\"]}]}},\\\"Controls\\\":[{\\\"Control\\\":[\\\"Mfa\\\",\\\"RequireCompliantDevice\\\"]}]}', 'PolicyLastUpdatedTime': '8/6/2020 2:16:17 AM', 'TenantDefaultPolicy': '', 'DisplayName': 'Yanivsh -CA Test', 'PolicyIdentifierString': ''})\"],[\"Cmd(name='Set-ConditionalAccessPolicy', params={'Identity': 'seccxpninja.onmicrosoft.com\\\\\\\\b2915792-0396-4abe-94ec-e17fa17243c5', 'PolicyDetails': '{\\\"Version\\\":0,\\\"State\\\":\\\"Enabled\\\",\\\"Conditions\\\":{\\\"Applications\\\":{\\\"Include\\\":[{\\\"Applications\\\":[\\\"94c63fef-13a3-47bc-8074-75af8c65887a\\\",\\\"c9a559d2-7aab-4f13-a6ed-e7e9c52aec87\\\"]}]},\\\"Users\\\":{\\\"Include\\\":[{\\\"Users\\\":[\\\"bdb72692-2275-412b-8af0-ea21c2ebd174\\\",\\\"eababd92-9dc7-40e3-9359-6c106522db19\\\"]}]},\\\"SignInRisks\\\":{\\\"Include\\\":[{\\\"SignInRisks\\\":[\\\"High\\\",\\\"Medium\\\",\\\"Low\\\"]}]}},\\\"SessionControls\\\":[\\\"CloudAppSecurity\\\"],\\\"PersistentBrowserSessionMode\\\":\\\"NotSet\\\",\\\"EnforceAllPoliciesForEas\\\":false,\\\"IncludeOtherLegacyClientTypeForEvaluation\\\":false,\\\"CasSessionControlType\\\":3}', 'PolicyLastUpdatedTime': '8/5/2020 5:15:30 AM', 'TenantDefaultPolicy': '', 'DisplayName': 'GBB demo', 'PolicyIdentifierString': ''})\",\"Cmd(name='Set-ConditionalAccessPolicy', params={'Identity': 'seccxpninja.onmicrosoft.com\\\\\\\\69c7a12f-b407-45a3-b07e-fa04fc7f273d', 'PolicyDetails': '{\\\"Version\\\":0,\\\"State\\\":\\\"Enabled\\\",\\\"Conditions\\\":{\\\"Applications\\\":{\\\"Include\\\":[{\\\"Applications\\\":[\\\"00000003-0000-0ff1-ce00-000000000000\\\"]}]},\\\"Users\\\":{\\\"Include\\\":[{\\\"Users\\\":[\\\"All\\\"]}]}},\\\"SessionControls\\\":[\\\"CloudAppSecurity\\\"],\\\"PersistentBrowserSessionMode\\\":\\\"NotSet\\\",\\\"EnforceAllPoliciesForEas\\\":false,\\\"IncludeOtherLegacyClientTypeForEvaluation\\\":false,\\\"CasSessionControlType\\\":1}', 'PolicyLastUpdatedTime': '8/5/2020 5:15:32 AM', 'TenantDefaultPolicy': '', 'DisplayName': 'Test Policy', 'PolicyIdentifierString': ''})\"],[\"Cmd(name='Set-ConditionalAccessPolicy', params={'Identity': 'seccxpninja.onmicrosoft.com\\\\\\\\5fd0c4ff-1cd7-4bf6-8607-294a04f58f12', 'PolicyDetails': '{\\\"Version\\\":0,\\\"State\\\":\\\"Disabled\\\",\\\"Conditions\\\":{\\\"Applications\\\":{\\\"Include\\\":[{\\\"Applications\\\":[\\\"All\\\"]}]},\\\"Users\\\":{\\\"Include\\\":[{\\\"Users\\\":[\\\"142512c7-f006-46ae-909c-14fa7bf6a887\\\"]}]}},\\\"Controls\\\":[{\\\"Control\\\":[\\\"Mfa\\\"]}],\\\"EnforceAllPoliciesForEas\\\":false,\\\"IncludeOtherLegacyClientTypeForEvaluation\\\":false}', 'PolicyLastUpdatedTime': '8/6/2020 2:16:16 AM', 'TenantDefaultPolicy': '', 'DisplayName': 'Azure MFA', 'PolicyIdentifierString': ''})\",\"Cmd(name='Set-ConditionalAccessPolicy', params={'Identity': 'seccxpninja.onmicrosoft.com\\\\\\\\5fd0c4ff-1cd7-4bf6-8607-294a04f58f12', 'PolicyDetails': '{\\\"Version\\\":0,\\\"State\\\":\\\"Disabled\\\",\\\"Conditions\\\":{\\\"Applications\\\":{\\\"Include\\\":[{\\\"Applications\\\":[\\\"All\\\"]}]},\\\"Users\\\":{\\\"Include\\\":[{\\\"Users\\\":[\\\"142512c7-f006-46ae-909c-14fa7bf6a887\\\"]}]}},\\\"Controls\\\":[{\\\"Control\\\":[\\\"Mfa\\\"]}],\\\"EnforceAllPoliciesForEas\\\":false,\\\"IncludeOtherLegacyClientTypeForEvaluation\\\":false}', 'PolicyLastUpdatedTime': '8/6/2020 2:16:16 AM', 'TenantDefaultPolicy': '', 'DisplayName': 'Azure MFA', 'PolicyIdentifierString': ''})\"],[\"Cmd(name='Set-ConditionalAccessPolicy', params={'Identity': 'seccxpninja.onmicrosoft.com\\\\\\\\3b13ea3c-c733-4eb8-bd19-67d308b2ea04', 'PolicyDetails': '{\\\"Version\\\":0,\\\"CreatedDateTime\\\":\\\"2020-05-19T13:34:15.2394934Z\\\",\\\"ModifiedDateTime\\\":\\\"2020-05-19T13:39:04.7333386Z\\\",\\\"State\\\":\\\"Reporting\\\",\\\"Conditions\\\":{\\\"Applications\\\":{\\\"Include\\\":[{\\\"Applications\\\":[\\\"None\\\"]}]},\\\"Users\\\":{\\\"Include\\\":[{\\\"Users\\\":[\\\"Guests\\\"]}]},\\\"DevicePlatforms\\\":{\\\"Include\\\":[{\\\"DevicePlatforms\\\":[\\\"All\\\"]}],\\\"Exclude\\\":[{\\\"DevicePlatforms\\\":[\\\"Android\\\",\\\"iOS\\\",\\\"macOS\\\"]}]},\\\"ClientTypes\\\":{\\\"Include\\\":[{\\\"ClientTypes\\\":[\\\"Browser\\\",\\\"Native\\\"]}]}},\\\"Controls\\\":[{\\\"Control\\\":[\\\"Mfa\\\",\\\"RequireCompliantDevice\\\"]}]}', 'PolicyLastUpdatedTime': '8/6/2020 2:16:17 AM', 'TenantDefaultPolicy': '', 'DisplayName': 'Yanivsh -CA Test', 'PolicyIdentifierString': ''})\",\"Cmd(name='Set-ConditionalAccessPolicy', params={'Identity': 'seccxpninja.onmicrosoft.com\\\\\\\\69c7a12f-b407-45a3-b07e-fa04fc7f273d', 'PolicyDetails': '{\\\"Version\\\":0,\\\"State\\\":\\\"Enabled\\\",\\\"Conditions\\\":{\\\"Applications\\\":{\\\"Include\\\":[{\\\"Applications\\\":[\\\"00000003-0000-0ff1-ce00-000000000000\\\"]}]},\\\"Users\\\":{\\\"Include\\\":[{\\\"Users\\\":[\\\"All\\\"]}]}},\\\"SessionControls\\\":[\\\"CloudAppSecurity\\\"],\\\"PersistentBrowserSessionMode\\\":\\\"NotSet\\\",\\\"EnforceAllPoliciesForEas\\\":false,\\\"IncludeOtherLegacyClientTypeForEvaluation\\\":false,\\\"CasSessionControlType\\\":1}', 'PolicyLastUpdatedTime': '8/6/2020 2:16:17 AM', 'TenantDefaultPolicy': '', 'DisplayName': 'Test Policy', 'PolicyIdentifierString': ''})\"],[\"Cmd(name='Set-ConditionalAccessPolicy', params={'Identity': 'seccxpninja.onmicrosoft.com\\\\\\\\ba36f0a4-6d73-4ba4-9282-3b3c14575e36', 'PolicyDetails': '{\\\"Version\\\":0,\\\"ModifiedDateTime\\\":\\\"2020-05-19T13:31:41.7083504Z\\\",\\\"State\\\":\\\"Disabled\\\",\\\"Conditions\\\":{\\\"Applications\\\":{\\\"Include\\\":[{\\\"Applications\\\":[\\\"00000002-0000-0ff1-ce00-000000000000\\\",\\\"00000003-0000-0ff1-ce00-000000000000\\\"]}]},\\\"Users\\\":{\\\"Include\\\":[{\\\"Users\\\":[\\\"2935e535-8fdf-4217-865b-e084cb7214f1\\\"]}]},\\\"DevicePlatforms\\\":{\\\"Include\\\":[{\\\"DevicePlatforms\\\":[\\\"All\\\"]}],\\\"Exclude\\\":[{\\\"DevicePlatforms\\\":[\\\"Android\\\",\\\"iOS\\\",\\\"macOS\\\"]}]},\\\"ClientTypes\\\":{\\\"Include\\\":[{\\\"ClientTypes\\\":[\\\"Browser\\\",\\\"Native\\\"]}]}},\\\"SessionControls\\\":[\\\"CloudAppSecurity\\\"],\\\"CasSessionControlType\\\":1}', 'PolicyLastUpdatedTime': '8/7/2020 3:03:46 AM', 'TenantDefaultPolicy': '', 'DisplayName': 'Block Access JulianI', 'PolicyIdentifierString': ''})\",\"Cmd(name='Set-ConditionalAccessPolicy', params={'Identity': 'seccxpninja.onmicrosoft.com\\\\\\\\69c7a12f-b407-45a3-b07e-fa04fc7f273d', 'PolicyDetails': '{\\\"Version\\\":0,\\\"State\\\":\\\"Enabled\\\",\\\"Conditions\\\":{\\\"Applications\\\":{\\\"Include\\\":[{\\\"Applications\\\":[\\\"00000003-0000-0ff1-ce00-000000000000\\\"]}]},\\\"Users\\\":{\\\"Include\\\":[{\\\"Users\\\":[\\\"All\\\"]}]}},\\\"SessionControls\\\":[\\\"CloudAppSecurity\\\"],\\\"PersistentBrowserSessionMode\\\":\\\"NotSet\\\",\\\"EnforceAllPoliciesForEas\\\":false,\\\"IncludeOtherLegacyClientTypeForEvaluation\\\":false,\\\"CasSessionControlType\\\":1}', 'PolicyLastUpdatedTime': '8/7/2020 3:03:46 AM', 'TenantDefaultPolicy': '', 'DisplayName': 'Test Policy', 'PolicyIdentifierString': ''})\"],[\"Cmd(name='Set-ConditionalAccessPolicy', params={'Identity': 'seccxpninja.onmicrosoft.com\\\\\\\\2e76d011-eaa3-40b4-8ce8-7fba52bf3af8', 'PolicyDetails': '{\\\"Version\\\":0,\\\"State\\\":\\\"Reporting\\\",\\\"Conditions\\\":{\\\"Applications\\\":{\\\"Include\\\":[{\\\"Applications\\\":[\\\"f9e8b3d0-ba26-42cd-b544-c90a66191a81\\\"]}]},\\\"Users\\\":{\\\"Include\\\":[{\\\"Users\\\":[\\\"All\\\"]}]}},\\\"SessionControls\\\":[\\\"CloudAppSecurity\\\"],\\\"PersistentBrowserSessionMode\\\":\\\"NotSet\\\",\\\"EnforceAllPoliciesForEas\\\":false,\\\"IncludeOtherLegacyClientTypeForEvaluation\\\":false,\\\"CasSessionControlType\\\":1}', 'PolicyLastUpdatedTime': '8/7/2020 3:03:45 AM', 'TenantDefaultPolicy': '', 'DisplayName': 'On-Prem SharePoint - MeganB proxy', 'PolicyIdentifierString': ''})\",\"Cmd(name='Set-ConditionalAccessPolicy', params={'Identity': 'seccxpninja.onmicrosoft.com\\\\\\\\235bec94-f744-48ac-8314-5675953d2def', 'PolicyDetails': '{\\\"Version\\\":0,\\\"State\\\":\\\"Disabled\\\",\\\"Conditions\\\":{\\\"Applications\\\":{\\\"Include\\\":[{\\\"Applications\\\":[\\\"All\\\"]}]},\\\"Users\\\":{\\\"Include\\\":[{\\\"Users\\\":[\\\"eababd92-9dc7-40e3-9359-6c106522db19\\\"]}]},\\\"DevicePlatforms\\\":{\\\"Include\\\":[{\\\"DevicePlatforms\\\":[\\\"All\\\"]}],\\\"Exclude\\\":[{\\\"DevicePlatforms\\\":[\\\"macOS\\\"]}]}},\\\"Controls\\\":[{\\\"Control\\\":[\\\"Mfa\\\"]}],\\\"PersistentBrowserSessionMode\\\":\\\"NotSet\\\",\\\"EnforceAllPoliciesForEas\\\":false,\\\"IncludeOtherLegacyClientTypeForEvaluation\\\":false}', 'PolicyLastUpdatedTime': '8/7/2020 3:03:43 AM', 'TenantDefaultPolicy': '', 'DisplayName': 'Megan MFA demo', 'PolicyIdentifierString': ''})\"],[\"Cmd(name='Set-ConditionalAccessPolicy', params={'Identity': 'seccxpninja.onmicrosoft.com\\\\\\\\5fd0c4ff-1cd7-4bf6-8607-294a04f58f12', 'PolicyDetails': '{\\\"Version\\\":0,\\\"State\\\":\\\"Disabled\\\",\\\"Conditions\\\":{\\\"Applications\\\":{\\\"Include\\\":[{\\\"Applications\\\":[\\\"All\\\"]}]},\\\"Users\\\":{\\\"Include\\\":[{\\\"Users\\\":[\\\"142512c7-f006-46ae-909c-14fa7bf6a887\\\"]}]}},\\\"Controls\\\":[{\\\"Control\\\":[\\\"Mfa\\\"]}],\\\"EnforceAllPoliciesForEas\\\":false,\\\"IncludeOtherLegacyClientTypeForEvaluation\\\":false}', 'PolicyLastUpdatedTime': '8/7/2020 5:32:24 AM', 'TenantDefaultPolicy': '', 'DisplayName': 'Azure MFA', 'PolicyIdentifierString': ''})\",\"Cmd(name='Set-ConditionalAccessPolicy', params={'Identity': 'seccxpninja.onmicrosoft.com\\\\\\\\b2915792-0396-4abe-94ec-e17fa17243c5', 'PolicyDetails': '{\\\"Version\\\":0,\\\"State\\\":\\\"Enabled\\\",\\\"Conditions\\\":{\\\"Applications\\\":{\\\"Include\\\":[{\\\"Applications\\\":[\\\"94c63fef-13a3-47bc-8074-75af8c65887a\\\",\\\"c9a559d2-7aab-4f13-a6ed-e7e9c52aec87\\\"]}]},\\\"Users\\\":{\\\"Include\\\":[{\\\"Users\\\":[\\\"bdb72692-2275-412b-8af0-ea21c2ebd174\\\",\\\"eababd92-9dc7-40e3-9359-6c106522db19\\\"]}]},\\\"SignInRisks\\\":{\\\"Include\\\":[{\\\"SignInRisks\\\":[\\\"High\\\",\\\"Medium\\\",\\\"Low\\\"]}]}},\\\"SessionControls\\\":[\\\"CloudAppSecurity\\\"],\\\"PersistentBrowserSessionMode\\\":\\\"NotSet\\\",\\\"EnforceAllPoliciesForEas\\\":false,\\\"IncludeOtherLegacyClientTypeForEvaluation\\\":false,\\\"CasSessionControlType\\\":3}', 'PolicyLastUpdatedTime': '8/7/2020 5:32:24 AM', 'TenantDefaultPolicy': '', 'DisplayName': 'GBB demo', 'PolicyIdentifierString': ''})\"],[\"Cmd(name='Set-ConditionalAccessPolicy', params={'Identity': 'seccxpninja.onmicrosoft.com\\\\\\\\6490d00c-7ba1-42cf-aa88-99eb71d53bf7', 'PolicyDetails': '{\\\"Version\\\":0,\\\"LastUpdatedTimestamp\\\":\\\"2020-07-02T12:42:35.1866847Z\\\",\\\"State\\\":\\\"Disabled\\\",\\\"SignInFrequency\\\":\\\"NotSet\\\",\\\"PersistentBrowserSessionMode\\\":\\\"NotSet\\\"}', 'PolicyLastUpdatedTime': '8/8/2020 2:05:37 AM', 'TenantDefaultPolicy': '18', 'DisplayName': 'Default Policy', 'PolicyIdentifierString': '5/19/2020 1:39:05 PM'})\",\"Cmd(name='Set-ConditionalAccessPolicy', params={'Identity': 'seccxpninja.onmicrosoft.com\\\\\\\\6490d00c-7ba1-42cf-aa88-99eb71d53bf7', 'PolicyDetails': '{\\\"Version\\\":0,\\\"LastUpdatedTimestamp\\\":\\\"2020-07-02T12:42:35.1866847Z\\\",\\\"State\\\":\\\"Disabled\\\",\\\"SignInFrequency\\\":\\\"NotSet\\\",\\\"PersistentBrowserSessionMode\\\":\\\"NotSet\\\"}', 'PolicyLastUpdatedTime': '8/8/2020 2:05:37 AM', 'TenantDefaultPolicy': '18', 'DisplayName': 'Default Policy', 'PolicyIdentifierString': '5/19/2020 1:39:05 PM'})\"],[\"Cmd(name='Set-ConditionalAccessPolicy', params={'Identity': 'seccxpninja.onmicrosoft.com\\\\\\\\5fd0c4ff-1cd7-4bf6-8607-294a04f58f12', 'PolicyDetails': '{\\\"Version\\\":0,\\\"State\\\":\\\"Disabled\\\",\\\"Conditions\\\":{\\\"Applications\\\":{\\\"Include\\\":[{\\\"Applications\\\":[\\\"All\\\"]}]},\\\"Users\\\":{\\\"Include\\\":[{\\\"Users\\\":[\\\"142512c7-f006-46ae-909c-14fa7bf6a887\\\"]}]}},\\\"Controls\\\":[{\\\"Control\\\":[\\\"Mfa\\\"]}],\\\"EnforceAllPoliciesForEas\\\":false,\\\"IncludeOtherLegacyClientTypeForEvaluation\\\":false}', 'PolicyLastUpdatedTime': '8/8/2020 5:07:46 AM', 'TenantDefaultPolicy': '', 'DisplayName': 'Azure MFA', 'PolicyIdentifierString': ''})\",\"Cmd(name='Set-ConditionalAccessPolicy', params={'Identity': 'seccxpninja.onmicrosoft.com\\\\\\\\8837fdaa-aaeb-4432-9622-43f6f583d583', 'PolicyDetails': '{\\\"KnownNetworkPolicies\\\":{\\\"NetworkName\\\":\\\"BE-Office\\\",\\\"NetworkId\\\":\\\"b98b9088-ce88-4fae-80fb-5b58cb1ce685\\\",\\\"CidrIpRanges\\\":[\\\"109.88.218.99/28\\\"],\\\"CountryIsoCodes\\\":null,\\\"Categories\\\":[],\\\"ApplyToUnknownCountry\\\":false}}', 'PolicyLastUpdatedTime': '8/8/2020 5:07:46 AM', 'TenantDefaultPolicy': '6', 'DisplayName': 'Known Networks List', 'PolicyIdentifierString': '3/19/2020 7:45:08 PM'})\"],[\"Cmd(name='Set-ConditionalAccessPolicy', params={'Identity': 'seccxpninja.onmicrosoft.com\\\\\\\\e183bd29-a3a3-4f91-a5a3-b83b21a544df', 'PolicyDetails': '{\\\"Version\\\":0,\\\"State\\\":\\\"Enabled\\\",\\\"Conditions\\\":{\\\"Applications\\\":{\\\"Include\\\":[{\\\"Applications\\\":[\\\"00000002-0000-0ff1-ce00-000000000000\\\"]}]},\\\"Users\\\":{\\\"Include\\\":[{\\\"Users\\\":[\\\"2935e535-8fdf-4217-865b-e084cb7214f1\\\"]}]}},\\\"SessionControls\\\":[\\\"AppEnforcedRestrictions\\\"],\\\"PersistentBrowserSessionMode\\\":\\\"NotSet\\\",\\\"EnforceAllPoliciesForEas\\\":false,\\\"IncludeOtherLegacyClientTypeForEvaluation\\\":false}', 'PolicyLastUpdatedTime': '8/6/2020 5:18:57 AM', 'TenantDefaultPolicy': '', 'DisplayName': 'JulianI Exchange native controls', 'PolicyIdentifierString': ''})\",\"Cmd(name='Set-ConditionalAccessPolicy', params={'Identity': 'seccxpninja.onmicrosoft.com\\\\\\\\6490d00c-7ba1-42cf-aa88-99eb71d53bf7', 'PolicyDetails': '{\\\"Version\\\":0,\\\"LastUpdatedTimestamp\\\":\\\"2020-07-02T12:42:35.1866847Z\\\",\\\"State\\\":\\\"Disabled\\\",\\\"SignInFrequency\\\":\\\"NotSet\\\",\\\"PersistentBrowserSessionMode\\\":\\\"NotSet\\\"}', 'PolicyLastUpdatedTime': '8/6/2020 5:18:56 AM', 'TenantDefaultPolicy': '18', 'DisplayName': 'Default Policy', 'PolicyIdentifierString': '5/19/2020 1:39:05 PM'})\"],[\"Cmd(name='Set-ConditionalAccessPolicy', params={'Identity': 'seccxpninja.onmicrosoft.com\\\\\\\\69c7a12f-b407-45a3-b07e-fa04fc7f273d', 'PolicyDetails': '{\\\"Version\\\":0,\\\"State\\\":\\\"Enabled\\\",\\\"Conditions\\\":{\\\"Applications\\\":{\\\"Include\\\":[{\\\"Applications\\\":[\\\"00000003-0000-0ff1-ce00-000000000000\\\"]}]},\\\"Users\\\":{\\\"Include\\\":[{\\\"Users\\\":[\\\"All\\\"]}]}},\\\"SessionControls\\\":[\\\"CloudAppSecurity\\\"],\\\"PersistentBrowserSessionMode\\\":\\\"NotSet\\\",\\\"EnforceAllPoliciesForEas\\\":false,\\\"IncludeOtherLegacyClientTypeForEvaluation\\\":false,\\\"CasSessionControlType\\\":1}', 'PolicyLastUpdatedTime': '8/9/2020 1:49:56 AM', 'TenantDefaultPolicy': '', 'DisplayName': 'Test Policy', 'PolicyIdentifierString': ''})\",\"Cmd(name='Set-ConditionalAccessPolicy', params={'Identity': 'seccxpninja.onmicrosoft.com\\\\\\\\8837fdaa-aaeb-4432-9622-43f6f583d583', 'PolicyDetails': '{\\\"KnownNetworkPolicies\\\":{\\\"NetworkName\\\":\\\"BE-Office\\\",\\\"NetworkId\\\":\\\"b98b9088-ce88-4fae-80fb-5b58cb1ce685\\\",\\\"CidrIpRanges\\\":[\\\"109.88.218.99/28\\\"],\\\"CountryIsoCodes\\\":null,\\\"Categories\\\":[],\\\"ApplyToUnknownCountry\\\":false}}', 'PolicyLastUpdatedTime': '8/9/2020 1:49:56 AM', 'TenantDefaultPolicy': '6', 'DisplayName': 'Known Networks List', 'PolicyIdentifierString': '3/19/2020 7:45:08 PM'})\"],[\"Cmd(name='Set-ConditionalAccessPolicy', params={'Identity': 'seccxpninja.onmicrosoft.com\\\\\\\\8872f6fb-da88-4b63-bcc7-17247669596b', 'PolicyDetails': '{\\\"Version\\\":0,\\\"State\\\":\\\"Enabled\\\",\\\"Conditions\\\":{\\\"Applications\\\":{\\\"Include\\\":[{\\\"Applications\\\":[\\\"00000002-0000-0ff1-ce00-000000000000\\\",\\\"09abbdfd-ed23-44ee-a2d9-a627aa1c90f3\\\",\\\"cc15fd57-2c6c-4117-a88c-83b1d56b4bbe\\\",\\\"00000003-0000-0ff1-ce00-000000000000\\\",\\\"00000005-0000-0ff1-ce00-000000000000\\\"]}]},\\\"Users\\\":{\\\"Include\\\":[{\\\"Users\\\":[\\\"eababd92-9dc7-40e3-9359-6c106522db19\\\"]}]}},\\\"SessionControls\\\":[\\\"CloudAppSecurity\\\"],\\\"PersistentBrowserSessionMode\\\":\\\"NotSet\\\",\\\"EnforceAllPoliciesForEas\\\":false,\\\"IncludeOtherLegacyClientTypeForEvaluation\\\":false,\\\"CasSessionControlType\\\":1}', 'PolicyLastUpdatedTime': '8/9/2020 5:08:00 AM', 'TenantDefaultPolicy': '', 'DisplayName': 'MeganB MCAS Proxy', 'PolicyIdentifierString': ''})\",\"Cmd(name='Set-ConditionalAccessPolicy', params={'Identity': 'seccxpninja.onmicrosoft.com\\\\\\\\8837fdaa-aaeb-4432-9622-43f6f583d583', 'PolicyDetails': '{\\\"KnownNetworkPolicies\\\":{\\\"NetworkName\\\":\\\"BE-Office\\\",\\\"NetworkId\\\":\\\"b98b9088-ce88-4fae-80fb-5b58cb1ce685\\\",\\\"CidrIpRanges\\\":[\\\"109.88.218.99/28\\\"],\\\"CountryIsoCodes\\\":null,\\\"Categories\\\":[],\\\"ApplyToUnknownCountry\\\":false}}', 'PolicyLastUpdatedTime': '8/9/2020 5:08:04 AM', 'TenantDefaultPolicy': '6', 'DisplayName': 'Known Networks List', 'PolicyIdentifierString': '3/19/2020 7:45:08 PM'})\"],[\"Cmd(name='Set-ConditionalAccessPolicy', params={'Identity': 'seccxpninja.onmicrosoft.com\\\\\\\\8872f6fb-da88-4b63-bcc7-17247669596b', 'PolicyDetails': '{\\\"Version\\\":0,\\\"State\\\":\\\"Enabled\\\",\\\"Conditions\\\":{\\\"Applications\\\":{\\\"Include\\\":[{\\\"Applications\\\":[\\\"00000002-0000-0ff1-ce00-000000000000\\\",\\\"09abbdfd-ed23-44ee-a2d9-a627aa1c90f3\\\",\\\"cc15fd57-2c6c-4117-a88c-83b1d56b4bbe\\\",\\\"00000003-0000-0ff1-ce00-000000000000\\\",\\\"00000005-0000-0ff1-ce00-000000000000\\\"]}]},\\\"Users\\\":{\\\"Include\\\":[{\\\"Users\\\":[\\\"eababd92-9dc7-40e3-9359-6c106522db19\\\"]}]}},\\\"SessionControls\\\":[\\\"CloudAppSecurity\\\"],\\\"PersistentBrowserSessionMode\\\":\\\"NotSet\\\",\\\"EnforceAllPoliciesForEas\\\":false,\\\"IncludeOtherLegacyClientTypeForEvaluation\\\":false,\\\"CasSessionControlType\\\":1}', 'PolicyLastUpdatedTime': '8/10/2020 2:30:02 AM', 'TenantDefaultPolicy': '', 'DisplayName': 'MeganB MCAS Proxy', 'PolicyIdentifierString': ''})\",\"Cmd(name='Set-ConditionalAccessPolicy', params={'Identity': 'seccxpninja.onmicrosoft.com\\\\\\\\b2915792-0396-4abe-94ec-e17fa17243c5', 'PolicyDetails': '{\\\"Version\\\":0,\\\"State\\\":\\\"Enabled\\\",\\\"Conditions\\\":{\\\"Applications\\\":{\\\"Include\\\":[{\\\"Applications\\\":[\\\"94c63fef-13a3-47bc-8074-75af8c65887a\\\",\\\"c9a559d2-7aab-4f13-a6ed-e7e9c52aec87\\\"]}]},\\\"Users\\\":{\\\"Include\\\":[{\\\"Users\\\":[\\\"bdb72692-2275-412b-8af0-ea21c2ebd174\\\",\\\"eababd92-9dc7-40e3-9359-6c106522db19\\\"]}]},\\\"SignInRisks\\\":{\\\"Include\\\":[{\\\"SignInRisks\\\":[\\\"High\\\",\\\"Medium\\\",\\\"Low\\\"]}]}},\\\"SessionControls\\\":[\\\"CloudAppSecurity\\\"],\\\"PersistentBrowserSessionMode\\\":\\\"NotSet\\\",\\\"EnforceAllPoliciesForEas\\\":false,\\\"IncludeOtherLegacyClientTypeForEvaluation\\\":false,\\\"CasSessionControlType\\\":3}', 'PolicyLastUpdatedTime': '8/10/2020 2:30:04 AM', 'TenantDefaultPolicy': '', 'DisplayName': 'GBB demo', 'PolicyIdentifierString': ''})\"],[\"Cmd(name='Set-ConditionalAccessPolicy', params={'Identity': 'seccxpninja.onmicrosoft.com\\\\\\\\8872f6fb-da88-4b63-bcc7-17247669596b', 'PolicyDetails': '{\\\"Version\\\":0,\\\"State\\\":\\\"Enabled\\\",\\\"Conditions\\\":{\\\"Applications\\\":{\\\"Include\\\":[{\\\"Applications\\\":[\\\"00000002-0000-0ff1-ce00-000000000000\\\",\\\"09abbdfd-ed23-44ee-a2d9-a627aa1c90f3\\\",\\\"cc15fd57-2c6c-4117-a88c-83b1d56b4bbe\\\",\\\"00000003-0000-0ff1-ce00-000000000000\\\",\\\"00000005-0000-0ff1-ce00-000000000000\\\"]}]},\\\"Users\\\":{\\\"Include\\\":[{\\\"Users\\\":[\\\"eababd92-9dc7-40e3-9359-6c106522db19\\\"]}]}},\\\"SessionControls\\\":[\\\"CloudAppSecurity\\\"],\\\"PersistentBrowserSessionMode\\\":\\\"NotSet\\\",\\\"EnforceAllPoliciesForEas\\\":false,\\\"IncludeOtherLegacyClientTypeForEvaluation\\\":false,\\\"CasSessionControlType\\\":1}', 'PolicyLastUpdatedTime': '8/10/2020 5:20:06 AM', 'TenantDefaultPolicy': '', 'DisplayName': 'MeganB MCAS Proxy', 'PolicyIdentifierString': ''})\",\"Cmd(name='Set-ConditionalAccessPolicy', params={'Identity': 'seccxpninja.onmicrosoft.com\\\\\\\\8872f6fb-da88-4b63-bcc7-17247669596b', 'PolicyDetails': '{\\\"Version\\\":0,\\\"State\\\":\\\"Enabled\\\",\\\"Conditions\\\":{\\\"Applications\\\":{\\\"Include\\\":[{\\\"Applications\\\":[\\\"00000002-0000-0ff1-ce00-000000000000\\\",\\\"09abbdfd-ed23-44ee-a2d9-a627aa1c90f3\\\",\\\"cc15fd57-2c6c-4117-a88c-83b1d56b4bbe\\\",\\\"00000003-0000-0ff1-ce00-000000000000\\\",\\\"00000005-0000-0ff1-ce00-000000000000\\\"]}]},\\\"Users\\\":{\\\"Include\\\":[{\\\"Users\\\":[\\\"eababd92-9dc7-40e3-9359-6c106522db19\\\"]}]}},\\\"SessionControls\\\":[\\\"CloudAppSecurity\\\"],\\\"PersistentBrowserSessionMode\\\":\\\"NotSet\\\",\\\"EnforceAllPoliciesForEas\\\":false,\\\"IncludeOtherLegacyClientTypeForEvaluation\\\":false,\\\"CasSessionControlType\\\":1}', 'PolicyLastUpdatedTime': '8/10/2020 5:20:06 AM', 'TenantDefaultPolicy': '', 'DisplayName': 'MeganB MCAS Proxy', 'PolicyIdentifierString': ''})\"],[\"Cmd(name='Set-ConditionalAccessPolicy', params={'Identity': 'seccxpninja.onmicrosoft.com\\\\\\\\235bec94-f744-48ac-8314-5675953d2def', 'PolicyDetails': '{\\\"Version\\\":0,\\\"State\\\":\\\"Disabled\\\",\\\"Conditions\\\":{\\\"Applications\\\":{\\\"Include\\\":[{\\\"Applications\\\":[\\\"All\\\"]}]},\\\"Users\\\":{\\\"Include\\\":[{\\\"Users\\\":[\\\"eababd92-9dc7-40e3-9359-6c106522db19\\\"]}]},\\\"DevicePlatforms\\\":{\\\"Include\\\":[{\\\"DevicePlatforms\\\":[\\\"All\\\"]}],\\\"Exclude\\\":[{\\\"DevicePlatforms\\\":[\\\"macOS\\\"]}]}},\\\"Controls\\\":[{\\\"Control\\\":[\\\"Mfa\\\"]}],\\\"PersistentBrowserSessionMode\\\":\\\"NotSet\\\",\\\"EnforceAllPoliciesForEas\\\":false,\\\"IncludeOtherLegacyClientTypeForEvaluation\\\":false}', 'PolicyLastUpdatedTime': '8/10/2020 5:20:06 AM', 'TenantDefaultPolicy': '', 'DisplayName': 'Megan MFA demo', 'PolicyIdentifierString': ''})\",\"Cmd(name='Set-ConditionalAccessPolicy', params={'Identity': 'seccxpninja.onmicrosoft.com\\\\\\\\3b13ea3c-c733-4eb8-bd19-67d308b2ea04', 'PolicyDetails': '{\\\"Version\\\":0,\\\"CreatedDateTime\\\":\\\"2020-05-19T13:34:15.2394934Z\\\",\\\"ModifiedDateTime\\\":\\\"2020-05-19T13:39:04.7333386Z\\\",\\\"State\\\":\\\"Reporting\\\",\\\"Conditions\\\":{\\\"Applications\\\":{\\\"Include\\\":[{\\\"Applications\\\":[\\\"None\\\"]}]},\\\"Users\\\":{\\\"Include\\\":[{\\\"Users\\\":[\\\"Guests\\\"]}]},\\\"DevicePlatforms\\\":{\\\"Include\\\":[{\\\"DevicePlatforms\\\":[\\\"All\\\"]}],\\\"Exclude\\\":[{\\\"DevicePlatforms\\\":[\\\"Android\\\",\\\"iOS\\\",\\\"macOS\\\"]}]},\\\"ClientTypes\\\":{\\\"Include\\\":[{\\\"ClientTypes\\\":[\\\"Browser\\\",\\\"Native\\\"]}]}},\\\"Controls\\\":[{\\\"Control\\\":[\\\"Mfa\\\",\\\"RequireCompliantDevice\\\"]}]}', 'PolicyLastUpdatedTime': '8/10/2020 5:20:08 AM', 'TenantDefaultPolicy': '', 'DisplayName': 'Yanivsh -CA Test', 'PolicyIdentifierString': ''})\"],[\"Cmd(name='Set-ConditionalAccessPolicy', params={'Identity': 'seccxpninja.onmicrosoft.com\\\\\\\\8872f6fb-da88-4b63-bcc7-17247669596b', 'PolicyDetails': '{\\\"Version\\\":0,\\\"State\\\":\\\"Enabled\\\",\\\"Conditions\\\":{\\\"Applications\\\":{\\\"Include\\\":[{\\\"Applications\\\":[\\\"00000002-0000-0ff1-ce00-000000000000\\\",\\\"09abbdfd-ed23-44ee-a2d9-a627aa1c90f3\\\",\\\"cc15fd57-2c6c-4117-a88c-83b1d56b4bbe\\\",\\\"00000003-0000-0ff1-ce00-000000000000\\\",\\\"00000005-0000-0ff1-ce00-000000000000\\\"]}]},\\\"Users\\\":{\\\"Include\\\":[{\\\"Users\\\":[\\\"eababd92-9dc7-40e3-9359-6c106522db19\\\"]}]}},\\\"SessionControls\\\":[\\\"CloudAppSecurity\\\"],\\\"PersistentBrowserSessionMode\\\":\\\"NotSet\\\",\\\"EnforceAllPoliciesForEas\\\":false,\\\"IncludeOtherLegacyClientTypeForEvaluation\\\":false,\\\"CasSessionControlType\\\":1}', 'PolicyLastUpdatedTime': '8/11/2020 2:42:39 AM', 'TenantDefaultPolicy': '', 'DisplayName': 'MeganB MCAS Proxy', 'PolicyIdentifierString': ''})\",\"Cmd(name='Set-ConditionalAccessPolicy', params={'Identity': 'seccxpninja.onmicrosoft.com\\\\\\\\3b13ea3c-c733-4eb8-bd19-67d308b2ea04', 'PolicyDetails': '{\\\"Version\\\":0,\\\"CreatedDateTime\\\":\\\"2020-05-19T13:34:15.2394934Z\\\",\\\"ModifiedDateTime\\\":\\\"2020-05-19T13:39:04.7333386Z\\\",\\\"State\\\":\\\"Reporting\\\",\\\"Conditions\\\":{\\\"Applications\\\":{\\\"Include\\\":[{\\\"Applications\\\":[\\\"None\\\"]}]},\\\"Users\\\":{\\\"Include\\\":[{\\\"Users\\\":[\\\"Guests\\\"]}]},\\\"DevicePlatforms\\\":{\\\"Include\\\":[{\\\"DevicePlatforms\\\":[\\\"All\\\"]}],\\\"Exclude\\\":[{\\\"DevicePlatforms\\\":[\\\"Android\\\",\\\"iOS\\\",\\\"macOS\\\"]}]},\\\"ClientTypes\\\":{\\\"Include\\\":[{\\\"ClientTypes\\\":[\\\"Browser\\\",\\\"Native\\\"]}]}},\\\"Controls\\\":[{\\\"Control\\\":[\\\"Mfa\\\",\\\"RequireCompliantDevice\\\"]}]}', 'PolicyLastUpdatedTime': '8/11/2020 2:42:41 AM', 'TenantDefaultPolicy': '', 'DisplayName': 'Yanivsh -CA Test', 'PolicyIdentifierString': ''})\"],[\"Cmd(name='Set-ConditionalAccessPolicy', params={'Identity': 'seccxpninja.onmicrosoft.com\\\\\\\\8837fdaa-aaeb-4432-9622-43f6f583d583', 'PolicyDetails': '{\\\"KnownNetworkPolicies\\\":{\\\"NetworkName\\\":\\\"BE-Office\\\",\\\"NetworkId\\\":\\\"b98b9088-ce88-4fae-80fb-5b58cb1ce685\\\",\\\"CidrIpRanges\\\":[\\\"109.88.218.99/28\\\"],\\\"CountryIsoCodes\\\":null,\\\"Categories\\\":[],\\\"ApplyToUnknownCountry\\\":false}}', 'PolicyLastUpdatedTime': '8/11/2020 5:02:25 AM', 'TenantDefaultPolicy': '6', 'DisplayName': 'Known Networks List', 'PolicyIdentifierString': '3/19/2020 7:45:08 PM'})\",\"Cmd(name='Set-ConditionalAccessPolicy', params={'Identity': 'seccxpninja.onmicrosoft.com\\\\\\\\e183bd29-a3a3-4f91-a5a3-b83b21a544df', 'PolicyDetails': '{\\\"Version\\\":0,\\\"State\\\":\\\"Enabled\\\",\\\"Conditions\\\":{\\\"Applications\\\":{\\\"Include\\\":[{\\\"Applications\\\":[\\\"00000002-0000-0ff1-ce00-000000000000\\\"]}]},\\\"Users\\\":{\\\"Include\\\":[{\\\"Users\\\":[\\\"2935e535-8fdf-4217-865b-e084cb7214f1\\\"]}]}},\\\"SessionControls\\\":[\\\"AppEnforcedRestrictions\\\"],\\\"PersistentBrowserSessionMode\\\":\\\"NotSet\\\",\\\"EnforceAllPoliciesForEas\\\":false,\\\"IncludeOtherLegacyClientTypeForEvaluation\\\":false}', 'PolicyLastUpdatedTime': '8/11/2020 5:02:24 AM', 'TenantDefaultPolicy': '', 'DisplayName': 'JulianI Exchange native controls', 'PolicyIdentifierString': ''})\"],[\"Cmd(name='Set-ConditionalAccessPolicy', params={'Identity': 'seccxpninja.onmicrosoft.com\\\\\\\\2e76d011-eaa3-40b4-8ce8-7fba52bf3af8', 'PolicyDetails': '{\\\"Version\\\":0,\\\"State\\\":\\\"Reporting\\\",\\\"Conditions\\\":{\\\"Applications\\\":{\\\"Include\\\":[{\\\"Applications\\\":[\\\"f9e8b3d0-ba26-42cd-b544-c90a66191a81\\\"]}]},\\\"Users\\\":{\\\"Include\\\":[{\\\"Users\\\":[\\\"All\\\"]}]}},\\\"SessionControls\\\":[\\\"CloudAppSecurity\\\"],\\\"PersistentBrowserSessionMode\\\":\\\"NotSet\\\",\\\"EnforceAllPoliciesForEas\\\":false,\\\"IncludeOtherLegacyClientTypeForEvaluation\\\":false,\\\"CasSessionControlType\\\":1}', 'PolicyLastUpdatedTime': '8/12/2020 1:44:50 AM', 'TenantDefaultPolicy': '', 'DisplayName': 'On-Prem SharePoint - MeganB proxy', 'PolicyIdentifierString': ''})\",\"Cmd(name='Set-ConditionalAccessPolicy', params={'Identity': 'seccxpninja.onmicrosoft.com\\\\\\\\8837fdaa-aaeb-4432-9622-43f6f583d583', 'PolicyDetails': '{\\\"KnownNetworkPolicies\\\":{\\\"NetworkName\\\":\\\"BE-Office\\\",\\\"NetworkId\\\":\\\"b98b9088-ce88-4fae-80fb-5b58cb1ce685\\\",\\\"CidrIpRanges\\\":[\\\"109.88.218.99/28\\\"],\\\"CountryIsoCodes\\\":null,\\\"Categories\\\":[],\\\"ApplyToUnknownCountry\\\":false}}', 'PolicyLastUpdatedTime': '8/12/2020 1:44:50 AM', 'TenantDefaultPolicy': '6', 'DisplayName': 'Known Networks List', 'PolicyIdentifierString': '3/19/2020 7:45:08 PM'})\"],[\"Cmd(name='Set-ConditionalAccessPolicy', params={'Identity': 'seccxpninja.onmicrosoft.com\\\\\\\\3b13ea3c-c733-4eb8-bd19-67d308b2ea04', 'PolicyDetails': '{\\\"Version\\\":0,\\\"CreatedDateTime\\\":\\\"2020-05-19T13:34:15.2394934Z\\\",\\\"ModifiedDateTime\\\":\\\"2020-05-19T13:39:04.7333386Z\\\",\\\"State\\\":\\\"Reporting\\\",\\\"Conditions\\\":{\\\"Applications\\\":{\\\"Include\\\":[{\\\"Applications\\\":[\\\"None\\\"]}]},\\\"Users\\\":{\\\"Include\\\":[{\\\"Users\\\":[\\\"Guests\\\"]}]},\\\"DevicePlatforms\\\":{\\\"Include\\\":[{\\\"DevicePlatforms\\\":[\\\"All\\\"]}],\\\"Exclude\\\":[{\\\"DevicePlatforms\\\":[\\\"Android\\\",\\\"iOS\\\",\\\"macOS\\\"]}]},\\\"ClientTypes\\\":{\\\"Include\\\":[{\\\"ClientTypes\\\":[\\\"Browser\\\",\\\"Native\\\"]}]}},\\\"Controls\\\":[{\\\"Control\\\":[\\\"Mfa\\\",\\\"RequireCompliantDevice\\\"]}]}', 'PolicyLastUpdatedTime': '8/12/2020 5:28:44 AM', 'TenantDefaultPolicy': '', 'DisplayName': 'Yanivsh -CA Test', 'PolicyIdentifierString': ''})\",\"Cmd(name='Set-ConditionalAccessPolicy', params={'Identity': 'seccxpninja.onmicrosoft.com\\\\\\\\6490d00c-7ba1-42cf-aa88-99eb71d53bf7', 'PolicyDetails': '{\\\"Version\\\":0,\\\"LastUpdatedTimestamp\\\":\\\"2020-07-02T12:42:35.1866847Z\\\",\\\"State\\\":\\\"Disabled\\\",\\\"SignInFrequency\\\":\\\"NotSet\\\",\\\"PersistentBrowserSessionMode\\\":\\\"NotSet\\\"}', 'PolicyLastUpdatedTime': '8/12/2020 5:28:44 AM', 'TenantDefaultPolicy': '18', 'DisplayName': 'Default Policy', 'PolicyIdentifierString': '5/19/2020 1:39:05 PM'})\"],[\"Cmd(name='Set-ConditionalAccessPolicy', params={'Identity': 'seccxpninja.onmicrosoft.com\\\\\\\\4c5a5ea0-5d9f-4730-baaa-7a69cf29ef26', 'PolicyDetails': '{\\\"Version\\\":0,\\\"State\\\":\\\"Enabled\\\",\\\"Conditions\\\":{\\\"Applications\\\":{\\\"Include\\\":[{\\\"Applications\\\":[\\\"All\\\"]}]},\\\"Users\\\":{\\\"Include\\\":[{\\\"Users\\\":[\\\"bdb72692-2275-412b-8af0-ea21c2ebd174\\\"]}]}},\\\"Controls\\\":[{\\\"Control\\\":[\\\"Mfa\\\"]}],\\\"PersistentBrowserSessionMode\\\":\\\"NotSet\\\",\\\"EnforceAllPoliciesForEas\\\":false,\\\"IncludeOtherLegacyClientTypeForEvaluation\\\":false}', 'PolicyLastUpdatedTime': '8/13/2020 2:49:19 AM', 'TenantDefaultPolicy': '', 'DisplayName': 'Semolen - Admin MFA', 'PolicyIdentifierString': ''})\",\"Cmd(name='Set-ConditionalAccessPolicy', params={'Identity': 'seccxpninja.onmicrosoft.com\\\\\\\\8872f6fb-da88-4b63-bcc7-17247669596b', 'PolicyDetails': '{\\\"Version\\\":0,\\\"State\\\":\\\"Enabled\\\",\\\"Conditions\\\":{\\\"Applications\\\":{\\\"Include\\\":[{\\\"Applications\\\":[\\\"00000002-0000-0ff1-ce00-000000000000\\\",\\\"09abbdfd-ed23-44ee-a2d9-a627aa1c90f3\\\",\\\"cc15fd57-2c6c-4117-a88c-83b1d56b4bbe\\\",\\\"00000003-0000-0ff1-ce00-000000000000\\\",\\\"00000005-0000-0ff1-ce00-000000000000\\\"]}]},\\\"Users\\\":{\\\"Include\\\":[{\\\"Users\\\":[\\\"eababd92-9dc7-40e3-9359-6c106522db19\\\"]}]}},\\\"SessionControls\\\":[\\\"CloudAppSecurity\\\"],\\\"PersistentBrowserSessionMode\\\":\\\"NotSet\\\",\\\"EnforceAllPoliciesForEas\\\":false,\\\"IncludeOtherLegacyClientTypeForEvaluation\\\":false,\\\"CasSessionControlType\\\":1}', 'PolicyLastUpdatedTime': '8/13/2020 2:49:17 AM', 'TenantDefaultPolicy': '', 'DisplayName': 'MeganB MCAS Proxy', 'PolicyIdentifierString': ''})\"],[\"Cmd(name='Set-ConditionalAccessPolicy', params={'Identity': 'seccxpninja.onmicrosoft.com\\\\\\\\8872f6fb-da88-4b63-bcc7-17247669596b', 'PolicyDetails': '{\\\"Version\\\":0,\\\"State\\\":\\\"Enabled\\\",\\\"Conditions\\\":{\\\"Applications\\\":{\\\"Include\\\":[{\\\"Applications\\\":[\\\"00000002-0000-0ff1-ce00-000000000000\\\",\\\"09abbdfd-ed23-44ee-a2d9-a627aa1c90f3\\\",\\\"cc15fd57-2c6c-4117-a88c-83b1d56b4bbe\\\",\\\"00000003-0000-0ff1-ce00-000000000000\\\",\\\"00000005-0000-0ff1-ce00-000000000000\\\"]}]},\\\"Users\\\":{\\\"Include\\\":[{\\\"Users\\\":[\\\"eababd92-9dc7-40e3-9359-6c106522db19\\\"]}]}},\\\"SessionControls\\\":[\\\"CloudAppSecurity\\\"],\\\"PersistentBrowserSessionMode\\\":\\\"NotSet\\\",\\\"EnforceAllPoliciesForEas\\\":false,\\\"IncludeOtherLegacyClientTypeForEvaluation\\\":false,\\\"CasSessionControlType\\\":1}', 'PolicyLastUpdatedTime': '8/13/2020 5:26:09 AM', 'TenantDefaultPolicy': '', 'DisplayName': 'MeganB MCAS Proxy', 'PolicyIdentifierString': ''})\",\"Cmd(name='Set-ConditionalAccessPolicy', params={'Identity': 'seccxpninja.onmicrosoft.com\\\\\\\\83a057fb-dbca-4ba8-bb5f-0ce6d6e7cff5', 'PolicyDetails': '{\\\"Version\\\":0,\\\"State\\\":\\\"Enabled\\\",\\\"Conditions\\\":{\\\"Applications\\\":{\\\"Include\\\":[{\\\"Acrs\\\":[\\\"urn:microsoft:req1\\\"]}]},\\\"Users\\\":{\\\"Include\\\":[{\\\"Users\\\":[\\\"eababd92-9dc7-40e3-9359-6c106522db19\\\"]}]}},\\\"Controls\\\":[{\\\"Control\\\":[\\\"Mfa\\\"]}],\\\"PersistentBrowserSessionMode\\\":\\\"NotSet\\\",\\\"EnforceAllPoliciesForEas\\\":false,\\\"IncludeOtherLegacyClientTypeForEvaluation\\\":false}', 'PolicyLastUpdatedTime': '8/13/2020 5:26:10 AM', 'TenantDefaultPolicy': '', 'DisplayName': 'MeganB MCAS Step-up', 'PolicyIdentifierString': ''})\"],[\"Cmd(name='Set-ConditionalAccessPolicy', params={'Identity': 'seccxpninja.onmicrosoft.com\\\\\\\\5fd0c4ff-1cd7-4bf6-8607-294a04f58f12', 'PolicyDetails': '{\\\"Version\\\":0,\\\"State\\\":\\\"Disabled\\\",\\\"Conditions\\\":{\\\"Applications\\\":{\\\"Include\\\":[{\\\"Applications\\\":[\\\"All\\\"]}]},\\\"Users\\\":{\\\"Include\\\":[{\\\"Users\\\":[\\\"142512c7-f006-46ae-909c-14fa7bf6a887\\\"]}]}},\\\"Controls\\\":[{\\\"Control\\\":[\\\"Mfa\\\"]}],\\\"EnforceAllPoliciesForEas\\\":false,\\\"IncludeOtherLegacyClientTypeForEvaluation\\\":false}', 'PolicyLastUpdatedTime': '8/14/2020 2:18:53 AM', 'TenantDefaultPolicy': '', 'DisplayName': 'Azure MFA', 'PolicyIdentifierString': ''})\",\"Cmd(name='Set-ConditionalAccessPolicy', params={'Identity': 'seccxpninja.onmicrosoft.com\\\\\\\\3b13ea3c-c733-4eb8-bd19-67d308b2ea04', 'PolicyDetails': '{\\\"Version\\\":0,\\\"CreatedDateTime\\\":\\\"2020-05-19T13:34:15.2394934Z\\\",\\\"ModifiedDateTime\\\":\\\"2020-05-19T13:39:04.7333386Z\\\",\\\"State\\\":\\\"Reporting\\\",\\\"Conditions\\\":{\\\"Applications\\\":{\\\"Include\\\":[{\\\"Applications\\\":[\\\"None\\\"]}]},\\\"Users\\\":{\\\"Include\\\":[{\\\"Users\\\":[\\\"Guests\\\"]}]},\\\"DevicePlatforms\\\":{\\\"Include\\\":[{\\\"DevicePlatforms\\\":[\\\"All\\\"]}],\\\"Exclude\\\":[{\\\"DevicePlatforms\\\":[\\\"Android\\\",\\\"iOS\\\",\\\"macOS\\\"]}]},\\\"ClientTypes\\\":{\\\"Include\\\":[{\\\"ClientTypes\\\":[\\\"Browser\\\",\\\"Native\\\"]}]}},\\\"Controls\\\":[{\\\"Control\\\":[\\\"Mfa\\\",\\\"RequireCompliantDevice\\\"]}]}', 'PolicyLastUpdatedTime': '8/14/2020 2:18:54 AM', 'TenantDefaultPolicy': '', 'DisplayName': 'Yanivsh -CA Test', 'PolicyIdentifierString': ''})\"],[\"Cmd(name='Set-ConditionalAccessPolicy', params={'Identity': 'seccxpninja.onmicrosoft.com\\\\\\\\2e76d011-eaa3-40b4-8ce8-7fba52bf3af8', 'PolicyDetails': '{\\\"Version\\\":0,\\\"State\\\":\\\"Reporting\\\",\\\"Conditions\\\":{\\\"Applications\\\":{\\\"Include\\\":[{\\\"Applications\\\":[\\\"f9e8b3d0-ba26-42cd-b544-c90a66191a81\\\"]}]},\\\"Users\\\":{\\\"Include\\\":[{\\\"Users\\\":[\\\"All\\\"]}]}},\\\"SessionControls\\\":[\\\"CloudAppSecurity\\\"],\\\"PersistentBrowserSessionMode\\\":\\\"NotSet\\\",\\\"EnforceAllPoliciesForEas\\\":false,\\\"IncludeOtherLegacyClientTypeForEvaluation\\\":false,\\\"CasSessionControlType\\\":1}', 'PolicyLastUpdatedTime': '8/14/2020 5:38:47 AM', 'TenantDefaultPolicy': '', 'DisplayName': 'On-Prem SharePoint - MeganB proxy', 'PolicyIdentifierString': ''})\",\"Cmd(name='Set-ConditionalAccessPolicy', params={'Identity': 'seccxpninja.onmicrosoft.com\\\\\\\\8837fdaa-aaeb-4432-9622-43f6f583d583', 'PolicyDetails': '{\\\"KnownNetworkPolicies\\\":{\\\"NetworkName\\\":\\\"BE-Office\\\",\\\"NetworkId\\\":\\\"b98b9088-ce88-4fae-80fb-5b58cb1ce685\\\",\\\"CidrIpRanges\\\":[\\\"109.88.218.99/28\\\"],\\\"CountryIsoCodes\\\":null,\\\"Categories\\\":[],\\\"ApplyToUnknownCountry\\\":false}}', 'PolicyLastUpdatedTime': '8/14/2020 5:38:49 AM', 'TenantDefaultPolicy': '6', 'DisplayName': 'Known Networks List', 'PolicyIdentifierString': '3/19/2020 7:45:08 PM'})\"],[\"Cmd(name='Set-ConditionalAccessPolicy', params={'Identity': 'seccxpninja.onmicrosoft.com\\\\\\\\3b13ea3c-c733-4eb8-bd19-67d308b2ea04', 'PolicyDetails': '{\\\"Version\\\":0,\\\"CreatedDateTime\\\":\\\"2020-05-19T13:34:15.2394934Z\\\",\\\"ModifiedDateTime\\\":\\\"2020-05-19T13:39:04.7333386Z\\\",\\\"State\\\":\\\"Reporting\\\",\\\"Conditions\\\":{\\\"Applications\\\":{\\\"Include\\\":[{\\\"Applications\\\":[\\\"None\\\"]}]},\\\"Users\\\":{\\\"Include\\\":[{\\\"Users\\\":[\\\"Guests\\\"]}]},\\\"DevicePlatforms\\\":{\\\"Include\\\":[{\\\"DevicePlatforms\\\":[\\\"All\\\"]}],\\\"Exclude\\\":[{\\\"DevicePlatforms\\\":[\\\"Android\\\",\\\"iOS\\\",\\\"macOS\\\"]}]},\\\"ClientTypes\\\":{\\\"Include\\\":[{\\\"ClientTypes\\\":[\\\"Browser\\\",\\\"Native\\\"]}]}},\\\"Controls\\\":[{\\\"Control\\\":[\\\"Mfa\\\",\\\"RequireCompliantDevice\\\"]}]}', 'PolicyLastUpdatedTime': '8/16/2020 1:57:15 AM', 'TenantDefaultPolicy': '', 'DisplayName': 'Yanivsh -CA Test', 'PolicyIdentifierString': ''})\",\"Cmd(name='Set-ConditionalAccessPolicy', params={'Identity': 'seccxpninja.onmicrosoft.com\\\\\\\\83a057fb-dbca-4ba8-bb5f-0ce6d6e7cff5', 'PolicyDetails': '{\\\"Version\\\":0,\\\"State\\\":\\\"Enabled\\\",\\\"Conditions\\\":{\\\"Applications\\\":{\\\"Include\\\":[{\\\"Acrs\\\":[\\\"urn:microsoft:req1\\\"]}]},\\\"Users\\\":{\\\"Include\\\":[{\\\"Users\\\":[\\\"eababd92-9dc7-40e3-9359-6c106522db19\\\"]}]}},\\\"Controls\\\":[{\\\"Control\\\":[\\\"Mfa\\\"]}],\\\"PersistentBrowserSessionMode\\\":\\\"NotSet\\\",\\\"EnforceAllPoliciesForEas\\\":false,\\\"IncludeOtherLegacyClientTypeForEvaluation\\\":false}', 'PolicyLastUpdatedTime': '8/16/2020 1:57:13 AM', 'TenantDefaultPolicy': '', 'DisplayName': 'MeganB MCAS Step-up', 'PolicyIdentifierString': ''})\"],[\"Cmd(name='Set-ConditionalAccessPolicy', params={'Identity': 'seccxpninja.onmicrosoft.com\\\\\\\\83a057fb-dbca-4ba8-bb5f-0ce6d6e7cff5', 'PolicyDetails': '{\\\"Version\\\":0,\\\"State\\\":\\\"Enabled\\\",\\\"Conditions\\\":{\\\"Applications\\\":{\\\"Include\\\":[{\\\"Acrs\\\":[\\\"urn:microsoft:req1\\\"]}]},\\\"Users\\\":{\\\"Include\\\":[{\\\"Users\\\":[\\\"eababd92-9dc7-40e3-9359-6c106522db19\\\"]}]}},\\\"Controls\\\":[{\\\"Control\\\":[\\\"Mfa\\\"]}],\\\"PersistentBrowserSessionMode\\\":\\\"NotSet\\\",\\\"EnforceAllPoliciesForEas\\\":false,\\\"IncludeOtherLegacyClientTypeForEvaluation\\\":false}', 'PolicyLastUpdatedTime': '8/16/2020 5:00:37 AM', 'TenantDefaultPolicy': '', 'DisplayName': 'MeganB MCAS Step-up', 'PolicyIdentifierString': ''})\",\"Cmd(name='Set-ConditionalAccessPolicy', params={'Identity': 'seccxpninja.onmicrosoft.com\\\\\\\\4c5a5ea0-5d9f-4730-baaa-7a69cf29ef26', 'PolicyDetails': '{\\\"Version\\\":0,\\\"State\\\":\\\"Enabled\\\",\\\"Conditions\\\":{\\\"Applications\\\":{\\\"Include\\\":[{\\\"Applications\\\":[\\\"All\\\"]}]},\\\"Users\\\":{\\\"Include\\\":[{\\\"Users\\\":[\\\"bdb72692-2275-412b-8af0-ea21c2ebd174\\\"]}]}},\\\"Controls\\\":[{\\\"Control\\\":[\\\"Mfa\\\"]}],\\\"PersistentBrowserSessionMode\\\":\\\"NotSet\\\",\\\"EnforceAllPoliciesForEas\\\":false,\\\"IncludeOtherLegacyClientTypeForEvaluation\\\":false}', 'PolicyLastUpdatedTime': '8/16/2020 5:00:38 AM', 'TenantDefaultPolicy': '', 'DisplayName': 'Semolen - Admin MFA', 'PolicyIdentifierString': ''})\"],[\"Cmd(name='Set-ConditionalAccessPolicy', params={'Identity': 'seccxpninja.onmicrosoft.com\\\\\\\\5fd0c4ff-1cd7-4bf6-8607-294a04f58f12', 'PolicyDetails': '{\\\"Version\\\":0,\\\"State\\\":\\\"Disabled\\\",\\\"Conditions\\\":{\\\"Applications\\\":{\\\"Include\\\":[{\\\"Applications\\\":[\\\"All\\\"]}]},\\\"Users\\\":{\\\"Include\\\":[{\\\"Users\\\":[\\\"142512c7-f006-46ae-909c-14fa7bf6a887\\\"]}]}},\\\"Controls\\\":[{\\\"Control\\\":[\\\"Mfa\\\"]}],\\\"EnforceAllPoliciesForEas\\\":false,\\\"IncludeOtherLegacyClientTypeForEvaluation\\\":false}', 'PolicyLastUpdatedTime': '8/17/2020 1:59:56 AM', 'TenantDefaultPolicy': '', 'DisplayName': 'Azure MFA', 'PolicyIdentifierString': ''})\",\"Cmd(name='Set-ConditionalAccessPolicy', params={'Identity': 'seccxpninja.onmicrosoft.com\\\\\\\\235bec94-f744-48ac-8314-5675953d2def', 'PolicyDetails': '{\\\"Version\\\":0,\\\"State\\\":\\\"Disabled\\\",\\\"Conditions\\\":{\\\"Applications\\\":{\\\"Include\\\":[{\\\"Applications\\\":[\\\"All\\\"]}]},\\\"Users\\\":{\\\"Include\\\":[{\\\"Users\\\":[\\\"eababd92-9dc7-40e3-9359-6c106522db19\\\"]}]},\\\"DevicePlatforms\\\":{\\\"Include\\\":[{\\\"DevicePlatforms\\\":[\\\"All\\\"]}],\\\"Exclude\\\":[{\\\"DevicePlatforms\\\":[\\\"macOS\\\"]}]}},\\\"Controls\\\":[{\\\"Control\\\":[\\\"Mfa\\\"]}],\\\"PersistentBrowserSessionMode\\\":\\\"NotSet\\\",\\\"EnforceAllPoliciesForEas\\\":false,\\\"IncludeOtherLegacyClientTypeForEvaluation\\\":false}', 'PolicyLastUpdatedTime': '8/17/2020 1:59:55 AM', 'TenantDefaultPolicy': '', 'DisplayName': 'Megan MFA demo', 'PolicyIdentifierString': ''})\"],[\"Cmd(name='Set-ConditionalAccessPolicy', params={'Identity': 'seccxpninja.onmicrosoft.com\\\\\\\\3b13ea3c-c733-4eb8-bd19-67d308b2ea04', 'PolicyDetails': '{\\\"Version\\\":0,\\\"CreatedDateTime\\\":\\\"2020-05-19T13:34:15.2394934Z\\\",\\\"ModifiedDateTime\\\":\\\"2020-05-19T13:39:04.7333386Z\\\",\\\"State\\\":\\\"Reporting\\\",\\\"Conditions\\\":{\\\"Applications\\\":{\\\"Include\\\":[{\\\"Applications\\\":[\\\"None\\\"]}]},\\\"Users\\\":{\\\"Include\\\":[{\\\"Users\\\":[\\\"Guests\\\"]}]},\\\"DevicePlatforms\\\":{\\\"Include\\\":[{\\\"DevicePlatforms\\\":[\\\"All\\\"]}],\\\"Exclude\\\":[{\\\"DevicePlatforms\\\":[\\\"Android\\\",\\\"iOS\\\",\\\"macOS\\\"]}]},\\\"ClientTypes\\\":{\\\"Include\\\":[{\\\"ClientTypes\\\":[\\\"Browser\\\",\\\"Native\\\"]}]}},\\\"Controls\\\":[{\\\"Control\\\":[\\\"Mfa\\\",\\\"RequireCompliantDevice\\\"]}]}', 'PolicyLastUpdatedTime': '8/17/2020 5:14:40 AM', 'TenantDefaultPolicy': '', 'DisplayName': 'Yanivsh -CA Test', 'PolicyIdentifierString': ''})\",\"Cmd(name='Set-ConditionalAccessPolicy', params={'Identity': 'seccxpninja.onmicrosoft.com\\\\\\\\ba36f0a4-6d73-4ba4-9282-3b3c14575e36', 'PolicyDetails': '{\\\"Version\\\":0,\\\"ModifiedDateTime\\\":\\\"2020-05-19T13:31:41.7083504Z\\\",\\\"State\\\":\\\"Disabled\\\",\\\"Conditions\\\":{\\\"Applications\\\":{\\\"Include\\\":[{\\\"Applications\\\":[\\\"00000002-0000-0ff1-ce00-000000000000\\\",\\\"00000003-0000-0ff1-ce00-000000000000\\\"]}]},\\\"Users\\\":{\\\"Include\\\":[{\\\"Users\\\":[\\\"2935e535-8fdf-4217-865b-e084cb7214f1\\\"]}]},\\\"DevicePlatforms\\\":{\\\"Include\\\":[{\\\"DevicePlatforms\\\":[\\\"All\\\"]}],\\\"Exclude\\\":[{\\\"DevicePlatforms\\\":[\\\"Android\\\",\\\"iOS\\\",\\\"macOS\\\"]}]},\\\"ClientTypes\\\":{\\\"Include\\\":[{\\\"ClientTypes\\\":[\\\"Browser\\\",\\\"Native\\\"]}]}},\\\"SessionControls\\\":[\\\"CloudAppSecurity\\\"],\\\"CasSessionControlType\\\":1}', 'PolicyLastUpdatedTime': '8/17/2020 5:14:39 AM', 'TenantDefaultPolicy': '', 'DisplayName': 'Block Access JulianI', 'PolicyIdentifierString': ''})\"],[\"Cmd(name='Set-ConditionalAccessPolicy', params={'Identity': 'seccxpninja.onmicrosoft.com\\\\\\\\b2915792-0396-4abe-94ec-e17fa17243c5', 'PolicyDetails': '{\\\"Version\\\":0,\\\"State\\\":\\\"Enabled\\\",\\\"Conditions\\\":{\\\"Applications\\\":{\\\"Include\\\":[{\\\"Applications\\\":[\\\"94c63fef-13a3-47bc-8074-75af8c65887a\\\",\\\"c9a559d2-7aab-4f13-a6ed-e7e9c52aec87\\\"]}]},\\\"Users\\\":{\\\"Include\\\":[{\\\"Users\\\":[\\\"bdb72692-2275-412b-8af0-ea21c2ebd174\\\",\\\"eababd92-9dc7-40e3-9359-6c106522db19\\\"]}]},\\\"SignInRisks\\\":{\\\"Include\\\":[{\\\"SignInRisks\\\":[\\\"High\\\",\\\"Medium\\\",\\\"Low\\\"]}]}},\\\"SessionControls\\\":[\\\"CloudAppSecurity\\\"],\\\"PersistentBrowserSessionMode\\\":\\\"NotSet\\\",\\\"EnforceAllPoliciesForEas\\\":false,\\\"IncludeOtherLegacyClientTypeForEvaluation\\\":false,\\\"CasSessionControlType\\\":3}', 'PolicyLastUpdatedTime': '8/18/2020 2:24:12 AM', 'TenantDefaultPolicy': '', 'DisplayName': 'GBB demo', 'PolicyIdentifierString': ''})\",\"Cmd(name='Set-ConditionalAccessPolicy', params={'Identity': 'seccxpninja.onmicrosoft.com\\\\\\\\235bec94-f744-48ac-8314-5675953d2def', 'PolicyDetails': '{\\\"Version\\\":0,\\\"State\\\":\\\"Disabled\\\",\\\"Conditions\\\":{\\\"Applications\\\":{\\\"Include\\\":[{\\\"Applications\\\":[\\\"All\\\"]}]},\\\"Users\\\":{\\\"Include\\\":[{\\\"Users\\\":[\\\"eababd92-9dc7-40e3-9359-6c106522db19\\\"]}]},\\\"DevicePlatforms\\\":{\\\"Include\\\":[{\\\"DevicePlatforms\\\":[\\\"All\\\"]}],\\\"Exclude\\\":[{\\\"DevicePlatforms\\\":[\\\"macOS\\\"]}]}},\\\"Controls\\\":[{\\\"Control\\\":[\\\"Mfa\\\"]}],\\\"PersistentBrowserSessionMode\\\":\\\"NotSet\\\",\\\"EnforceAllPoliciesForEas\\\":false,\\\"IncludeOtherLegacyClientTypeForEvaluation\\\":false}', 'PolicyLastUpdatedTime': '8/18/2020 2:24:11 AM', 'TenantDefaultPolicy': '', 'DisplayName': 'Megan MFA demo', 'PolicyIdentifierString': ''})\"],[\"Cmd(name='Set-ConditionalAccessPolicy', params={'Identity': 'seccxpninja.onmicrosoft.com\\\\\\\\bcd93f74-64fd-4042-a3ae-ee6d48886d6d', 'PolicyDetails': '{\\\"Version\\\":0,\\\"State\\\":\\\"Enabled\\\",\\\"Conditions\\\":{\\\"Applications\\\":{\\\"Include\\\":[{\\\"Applications\\\":[\\\"c9a559d2-7aab-4f13-a6ed-e7e9c52aec87\\\"]}]},\\\"Users\\\":{\\\"Include\\\":[{\\\"Users\\\":[\\\"bdb72692-2275-412b-8af0-ea21c2ebd174\\\",\\\"eababd92-9dc7-40e3-9359-6c106522db19\\\"]}]}},\\\"SessionControls\\\":[\\\"CloudAppSecurity\\\"],\\\"PersistentBrowserSessionMode\\\":\\\"NotSet\\\",\\\"EnforceAllPoliciesForEas\\\":false,\\\"IncludeOtherLegacyClientTypeForEvaluation\\\":false,\\\"CasSessionControlType\\\":3}', 'PolicyLastUpdatedTime': '8/18/2020 2:24:11 AM', 'TenantDefaultPolicy': '', 'DisplayName': 'Form MCAS', 'PolicyIdentifierString': ''})\",\"Cmd(name='Set-ConditionalAccessPolicy', params={'Identity': 'seccxpninja.onmicrosoft.com\\\\\\\\bcd93f74-64fd-4042-a3ae-ee6d48886d6d', 'PolicyDetails': '{\\\"Version\\\":0,\\\"State\\\":\\\"Enabled\\\",\\\"Conditions\\\":{\\\"Applications\\\":{\\\"Include\\\":[{\\\"Applications\\\":[\\\"c9a559d2-7aab-4f13-a6ed-e7e9c52aec87\\\"]}]},\\\"Users\\\":{\\\"Include\\\":[{\\\"Users\\\":[\\\"bdb72692-2275-412b-8af0-ea21c2ebd174\\\",\\\"eababd92-9dc7-40e3-9359-6c106522db19\\\"]}]}},\\\"SessionControls\\\":[\\\"CloudAppSecurity\\\"],\\\"PersistentBrowserSessionMode\\\":\\\"NotSet\\\",\\\"EnforceAllPoliciesForEas\\\":false,\\\"IncludeOtherLegacyClientTypeForEvaluation\\\":false,\\\"CasSessionControlType\\\":3}', 'PolicyLastUpdatedTime': '8/18/2020 2:24:11 AM', 'TenantDefaultPolicy': '', 'DisplayName': 'Form MCAS', 'PolicyIdentifierString': ''})\"],[\"Cmd(name='Set-ConditionalAccessPolicy', params={'Identity': 'seccxpninja.onmicrosoft.com\\\\\\\\8837fdaa-aaeb-4432-9622-43f6f583d583', 'PolicyDetails': '{\\\"KnownNetworkPolicies\\\":{\\\"NetworkName\\\":\\\"BE-Office\\\",\\\"NetworkId\\\":\\\"b98b9088-ce88-4fae-80fb-5b58cb1ce685\\\",\\\"CidrIpRanges\\\":[\\\"109.88.218.99/28\\\"],\\\"CountryIsoCodes\\\":null,\\\"Categories\\\":[],\\\"ApplyToUnknownCountry\\\":false}}', 'PolicyLastUpdatedTime': '8/18/2020 5:19:26 AM', 'TenantDefaultPolicy': '6', 'DisplayName': 'Known Networks List', 'PolicyIdentifierString': '3/19/2020 7:45:08 PM'})\",\"Cmd(name='Set-ConditionalAccessPolicy', params={'Identity': 'seccxpninja.onmicrosoft.com\\\\\\\\bcd93f74-64fd-4042-a3ae-ee6d48886d6d', 'PolicyDetails': '{\\\"Version\\\":0,\\\"State\\\":\\\"Enabled\\\",\\\"Conditions\\\":{\\\"Applications\\\":{\\\"Include\\\":[{\\\"Applications\\\":[\\\"c9a559d2-7aab-4f13-a6ed-e7e9c52aec87\\\"]}]},\\\"Users\\\":{\\\"Include\\\":[{\\\"Users\\\":[\\\"bdb72692-2275-412b-8af0-ea21c2ebd174\\\",\\\"eababd92-9dc7-40e3-9359-6c106522db19\\\"]}]}},\\\"SessionControls\\\":[\\\"CloudAppSecurity\\\"],\\\"PersistentBrowserSessionMode\\\":\\\"NotSet\\\",\\\"EnforceAllPoliciesForEas\\\":false,\\\"IncludeOtherLegacyClientTypeForEvaluation\\\":false,\\\"CasSessionControlType\\\":3}', 'PolicyLastUpdatedTime': '8/18/2020 5:19:23 AM', 'TenantDefaultPolicy': '', 'DisplayName': 'Form MCAS', 'PolicyIdentifierString': ''})\"],[\"Cmd(name='Set-ConditionalAccessPolicy', params={'Identity': 'seccxpninja.onmicrosoft.com\\\\\\\\8837fdaa-aaeb-4432-9622-43f6f583d583', 'PolicyDetails': '{\\\"KnownNetworkPolicies\\\":{\\\"NetworkName\\\":\\\"BE-Office\\\",\\\"NetworkId\\\":\\\"b98b9088-ce88-4fae-80fb-5b58cb1ce685\\\",\\\"CidrIpRanges\\\":[\\\"109.88.218.99/28\\\"],\\\"CountryIsoCodes\\\":null,\\\"Categories\\\":[],\\\"ApplyToUnknownCountry\\\":false}}', 'PolicyLastUpdatedTime': '8/19/2020 2:29:04 AM', 'TenantDefaultPolicy': '6', 'DisplayName': 'Known Networks List', 'PolicyIdentifierString': '3/19/2020 7:45:08 PM'})\",\"Cmd(name='Set-ConditionalAccessPolicy', params={'Identity': 'seccxpninja.onmicrosoft.com\\\\\\\\69c7a12f-b407-45a3-b07e-fa04fc7f273d', 'PolicyDetails': '{\\\"Version\\\":0,\\\"State\\\":\\\"Enabled\\\",\\\"Conditions\\\":{\\\"Applications\\\":{\\\"Include\\\":[{\\\"Applications\\\":[\\\"00000003-0000-0ff1-ce00-000000000000\\\"]}]},\\\"Users\\\":{\\\"Include\\\":[{\\\"Users\\\":[\\\"All\\\"]}]}},\\\"SessionControls\\\":[\\\"CloudAppSecurity\\\"],\\\"PersistentBrowserSessionMode\\\":\\\"NotSet\\\",\\\"EnforceAllPoliciesForEas\\\":false,\\\"IncludeOtherLegacyClientTypeForEvaluation\\\":false,\\\"CasSessionControlType\\\":1}', 'PolicyLastUpdatedTime': '8/19/2020 2:29:03 AM', 'TenantDefaultPolicy': '', 'DisplayName': 'Test Policy', 'PolicyIdentifierString': ''})\"],[\"Cmd(name='Set-ConditionalAccessPolicy', params={'Identity': 'seccxpninja.onmicrosoft.com\\\\\\\\3b13ea3c-c733-4eb8-bd19-67d308b2ea04', 'PolicyDetails': '{\\\"Version\\\":0,\\\"CreatedDateTime\\\":\\\"2020-05-19T13:34:15.2394934Z\\\",\\\"ModifiedDateTime\\\":\\\"2020-05-19T13:39:04.7333386Z\\\",\\\"State\\\":\\\"Reporting\\\",\\\"Conditions\\\":{\\\"Applications\\\":{\\\"Include\\\":[{\\\"Applications\\\":[\\\"None\\\"]}]},\\\"Users\\\":{\\\"Include\\\":[{\\\"Users\\\":[\\\"Guests\\\"]}]},\\\"DevicePlatforms\\\":{\\\"Include\\\":[{\\\"DevicePlatforms\\\":[\\\"All\\\"]}],\\\"Exclude\\\":[{\\\"DevicePlatforms\\\":[\\\"Android\\\",\\\"iOS\\\",\\\"macOS\\\"]}]},\\\"ClientTypes\\\":{\\\"Include\\\":[{\\\"ClientTypes\\\":[\\\"Browser\\\",\\\"Native\\\"]}]}},\\\"Controls\\\":[{\\\"Control\\\":[\\\"Mfa\\\",\\\"RequireCompliantDevice\\\"]}]}', 'PolicyLastUpdatedTime': '8/19/2020 5:55:34 AM', 'TenantDefaultPolicy': '', 'DisplayName': 'Yanivsh -CA Test', 'PolicyIdentifierString': ''})\",\"Cmd(name='Set-ConditionalAccessPolicy', params={'Identity': 'seccxpninja.onmicrosoft.com\\\\\\\\235bec94-f744-48ac-8314-5675953d2def', 'PolicyDetails': '{\\\"Version\\\":0,\\\"State\\\":\\\"Disabled\\\",\\\"Conditions\\\":{\\\"Applications\\\":{\\\"Include\\\":[{\\\"Applications\\\":[\\\"All\\\"]}]},\\\"Users\\\":{\\\"Include\\\":[{\\\"Users\\\":[\\\"eababd92-9dc7-40e3-9359-6c106522db19\\\"]}]},\\\"DevicePlatforms\\\":{\\\"Include\\\":[{\\\"DevicePlatforms\\\":[\\\"All\\\"]}],\\\"Exclude\\\":[{\\\"DevicePlatforms\\\":[\\\"macOS\\\"]}]}},\\\"Controls\\\":[{\\\"Control\\\":[\\\"Mfa\\\"]}],\\\"PersistentBrowserSessionMode\\\":\\\"NotSet\\\",\\\"EnforceAllPoliciesForEas\\\":false,\\\"IncludeOtherLegacyClientTypeForEvaluation\\\":false}', 'PolicyLastUpdatedTime': '8/19/2020 5:55:31 AM', 'TenantDefaultPolicy': '', 'DisplayName': 'Megan MFA demo', 'PolicyIdentifierString': ''})\"],[\"Cmd(name='Update-RoleGroupMember', params={'Members': 'CBoehmSA;ComplianceAdmins_939735849', 'Identity': 'Compliance Management'})\",\"Cmd(name='Update-RoleGroupMember', params={'Members': 'CBoehmSA', 'Identity': 'Discovery Management'})\",\"Cmd(name='Update-RoleGroupMember', params={'Members': 'CBoehmSA;ComplianceAdmins_939735849', 'Identity': 'Compliance Management'})\"]],\"rarest_window3_likelihood\":{\"__ndarray__\":\"iI8J8UNthD/Nxus4F+h6PySId8Fi4IU/L6XbyRT3ej/XmkpTpXiEP2x775tbwHc/iI8J8UNthD8kiHfBYuCFP0MXINrzg4Q/iI8J8UNthD/Nxus4F+h6P4iPCfFDbYQ/15pKU6V4hD8kiHfBYuCFP4iPCfFDbYQ/iI8J8UNthD+IjwnxQ22EP4iPCfFDbYQ/RjaRHgy9az/XmkpTpXiEPySId8Fi4IU/7KjSzS+PhD8kiHfBYuCFP9eaSlOleIQ/Qxcg2vODhD++aFZpz2GEP75oVmnPYYQ/Qxcg2vODhD+IjwnxQ22EP75oVmnPYYQ/tASIMvClej+3XR8WpJqEP4iPCfFDbYQ/Qxcg2vODhD8FVC1OYVaEPy+l28kU93o/E8zG2kPhej+IjwnxQ22EP/lOXF6QuHE/iI8J8UNthD++aFZpz2GEP75oVmnPYYQ/BVQtTmFWhD/XmkpTpXiEPwsG2UjqtHo/7KjSzS+PhD+IjwnxQ22EPwsG2UjqtHo/iI8J8UNthD++aFZpz2GEP/0SymkqbYQ/Qxcg2vODhD+IjwnxQ22EP0MXINrzg4Q/vmhWac9hhD+IjwnxQ22EPySId8Fi4IU/15pKU6V4hD++aFZpz2GEPySId8Fi4IU/W1VTvZPSej++aFZpz2GEP/0SymkqbYQ/j/evYwWmhD+IjwnxQ22EP75oVmnPYYQ/7KjSzS+PhD+IjwnxQ22EP75oVmnPYYQ/JIh3wWLghT/Pxus4F+h6P1tVU72T0no//RLKaSpthD++aFZpz2GEP8ZeSECog4Q/iI8J8UNthD/Nxus4F+h6P7ZdHxakmoQ/lEw2+4X6cj9DFyDa84OEP0MXINrzg4Q//RLKaSpthD8FVC1OYVaEPwsG2UjqtHo/Qxcg2vODhD/I8KDGxRR7P6NojKlndXE/vmhWac9hhD8kiHfBYuCFP7QEiDLwpXo/wozM9byahD+IjwnxQ22EPySId8Fi4IU/vmhWac9hhD+IjwnxQ22EP4iPCfFDbYQ/JIh3wWLghT/I8KDGxRR7P0MXINrzg4Q/Qxcg2vODhD8kiHfBYuCFP4iPCfFDbYQ/z8brOBfoej/Pxus4F+h6PwsG2UjqtHo/t10fFqSahD8LXGWZcniEP83G6zgX6Ho/j/evYwWmhD+IjwnxQ22EP75oVmnPYYQ/vmhWac9hhD8kiHfBYuCFP9eaSlOleIQ/jvevYwWmhD8kiHfBYuCFP7ZdHxakmoQ/xl5IQKiDhD++aFZpz2GEP0MXINrzg4Q/o2iMqWd1cT/Nxus4F+h6PwsG2UjqtHo/yPCgxsUUez/Nxus4F+h6P0MXINrzg4Q/JIh3wWLghT/XmkpTpXiEP9eaSlOleIQ/z8brOBfoej/4KrRvANl6P63v2VbLw3o/iI8J8UNthD+IjwnxQ22EP9eaSlOleIQ/+Cq0bwDZej/XmkpTpXiEP4iPCfFDbYQ/iI8J8UNthD/9EsppKm2EP0MXINrzg4Q/iI8J8UNthD/Pxus4F+h6P8jwoMbFFHs/15pKU6V4hD9mFBl9kFHFPg==\",\"dtype\":\"float64\",\"order\":\"little\",\"shape\":[146]},\"time_col\":[\"2020-06-21 02:36:46+00:00\",\"2020-06-21 05:31:34+00:00\",\"2020-06-22 02:27:06+00:00\",\"2020-06-22 02:30:52+00:00\",\"2020-06-22 04:55:59+00:00\",\"2020-06-23 02:31:32+00:00\",\"2020-06-23 05:35:26+00:00\",\"2020-06-24 02:00:55+00:00\",\"2020-06-24 02:06:55+00:00\",\"2020-06-24 05:21:02+00:00\",\"2020-06-25 02:15:42+00:00\",\"2020-06-26 03:41:02+00:00\",\"2020-06-26 06:56:14+00:00\",\"2020-06-27 02:36:03+00:00\",\"2020-06-27 02:40:59+00:00\",\"2020-06-27 05:10:41+00:00\",\"2020-06-28 02:25:45+00:00\",\"2020-06-28 05:25:42+00:00\",\"2020-06-28 05:30:53+00:00\",\"2020-06-29 02:01:49+00:00\",\"2020-06-29 04:50:44+00:00\",\"2020-06-29 04:56:13+00:00\",\"2020-06-30 02:11:11+00:00\",\"2020-06-30 02:16:20+00:00\",\"2020-06-30 05:15:37+00:00\",\"2020-07-01 01:56:06+00:00\",\"2020-07-01 05:20:57+00:00\",\"2020-07-02 02:16:17+00:00\",\"2020-07-02 05:01:42+00:00\",\"2020-07-03 02:38:45+00:00\",\"2020-07-03 05:38:39+00:00\",\"2020-07-04 02:10:37+00:00\",\"2020-07-04 05:06:39+00:00\",\"2020-07-05 02:15:59+00:00\",\"2020-07-05 05:15:54+00:00\",\"2020-07-06 01:51:03+00:00\",\"2020-07-06 04:41:38+00:00\",\"2020-07-07 02:01:28+00:00\",\"2020-07-08 02:40:54+00:00\",\"2020-07-08 05:06:16+00:00\",\"2020-07-09 02:45:55+00:00\",\"2020-07-10 02:55:37+00:00\",\"2020-07-10 05:41:11+00:00\",\"2020-07-11 02:31:00+00:00\",\"2020-07-11 05:11:24+00:00\",\"2020-07-11 05:15:56+00:00\",\"2020-07-12 02:56:23+00:00\",\"2020-07-12 05:40:46+00:00\",\"2020-07-13 03:13:51+00:00\",\"2020-07-13 05:46:02+00:00\",\"2020-07-13 05:51:32+00:00\",\"2020-07-14 03:15:14+00:00\",\"2020-07-14 05:36:52+00:00\",\"2020-07-15 03:00:52+00:00\",\"2020-07-15 05:36:56+00:00\",\"2020-07-16 02:40:40+00:00\",\"2020-07-16 05:06:29+00:00\",\"2020-07-16 05:14:07+00:00\",\"2020-07-17 02:07:43+00:00\",\"2020-07-17 05:06:25+00:00\",\"2020-07-17 05:10:59+00:00\",\"2020-07-18 05:31:05+00:00\",\"2020-07-19 05:46:03+00:00\",\"2020-07-20 02:30:58+00:00\",\"2020-07-20 06:16:41+00:00\",\"2020-07-21 02:16:20+00:00\",\"2020-07-21 05:06:31+00:00\",\"2020-07-22 02:20:45+00:00\",\"2020-07-22 05:21:38+00:00\",\"2020-07-23 02:26:13+00:00\",\"2020-07-23 02:30:51+00:00\",\"2020-07-23 04:30:50+00:00\",\"2020-07-23 05:31:27+00:00\",\"2020-07-24 02:41:29+00:00\",\"2020-07-24 05:05:49+00:00\",\"2020-07-25 02:30:48+00:00\",\"2020-07-25 05:46:32+00:00\",\"2020-07-26 02:41:28+00:00\",\"2020-07-26 02:47:29+00:00\",\"2020-07-26 05:29:37+00:00\",\"2020-07-27 02:16:05+00:00\",\"2020-07-27 05:21:25+00:00\",\"2020-07-28 02:11:05+00:00\",\"2020-07-28 05:31:49+00:00\",\"2020-07-28 05:35:59+00:00\",\"2020-07-28 05:40:57+00:00\",\"2020-07-29 01:51:42+00:00\",\"2020-07-29 02:46:29+00:00\",\"2020-07-29 05:24:14+00:00\",\"2020-07-29 05:26:49+00:00\",\"2020-07-30 02:25:55+00:00\",\"2020-07-30 05:21:00+00:00\",\"2020-07-31 02:45:46+00:00\",\"2020-07-31 02:50:49+00:00\",\"2020-07-31 05:05:42+00:00\",\"2020-08-01 02:35:39+00:00\",\"2020-08-01 05:36:25+00:00\",\"2020-08-01 05:41:31+00:00\",\"2020-08-02 02:21:03+00:00\",\"2020-08-02 05:36:35+00:00\",\"2020-08-03 02:16:00+00:00\",\"2020-08-03 02:21:26+00:00\",\"2020-08-03 05:26:28+00:00\",\"2020-08-04 01:56:07+00:00\",\"2020-08-04 05:46:29+00:00\",\"2020-08-05 02:31:32+00:00\",\"2020-08-05 05:25:34+00:00\",\"2020-08-05 05:51:25+00:00\",\"2020-08-05 08:20:38+00:00\",\"2020-08-05 16:50:31+00:00\",\"2020-08-06 02:25:53+00:00\",\"2020-08-06 05:26:17+00:00\",\"2020-08-06 06:55:49+00:00\",\"2020-08-06 08:16:06+00:00\",\"2020-08-06 20:16:01+00:00\",\"2020-08-06 20:51:13+00:00\",\"2020-08-06 23:11:04+00:00\",\"2020-08-07 03:11:34+00:00\",\"2020-08-07 03:26:13+00:00\",\"2020-08-07 05:41:05+00:00\",\"2020-08-08 02:15:55+00:00\",\"2020-08-08 05:16:44+00:00\",\"2020-08-08 09:36:37+00:00\",\"2020-08-09 01:56:24+00:00\",\"2020-08-09 05:15:38+00:00\",\"2020-08-10 02:36:00+00:00\",\"2020-08-10 05:25:57+00:00\",\"2020-08-10 05:30:33+00:00\",\"2020-08-11 03:04:21+00:00\",\"2020-08-11 05:19:46+00:00\",\"2020-08-12 01:56:17+00:00\",\"2020-08-12 05:36:26+00:00\",\"2020-08-13 02:56:44+00:00\",\"2020-08-13 05:35:54+00:00\",\"2020-08-14 02:32:07+00:00\",\"2020-08-14 05:51:15+00:00\",\"2020-08-16 02:06:26+00:00\",\"2020-08-16 05:11:57+00:00\",\"2020-08-17 02:05:52+00:00\",\"2020-08-17 05:20:45+00:00\",\"2020-08-18 02:32:00+00:00\",\"2020-08-18 02:35:50+00:00\",\"2020-08-18 05:26:24+00:00\",\"2020-08-19 02:36:20+00:00\",\"2020-08-19 06:06:00+00:00\",\"2020-07-29 20:11:27+00:00\"],\"y_index\":[1,1,1,1,1,1,1,1,1,1,1,1,1,1,1,1,1,1,1,1,1,1,1,1,1,1,1,1,1,1,1,1,1,1,1,1,1,1,1,1,1,1,1,1,1,1,1,1,1,1,1,1,1,1,1,1,1,1,1,1,1,1,1,1,1,1,1,1,1,1,1,1,1,1,1,1,1,1,1,1,1,1,1,1,1,1,1,1,1,1,1,1,1,1,1,1,1,1,1,1,1,1,1,1,1,1,1,1,1,1,1,1,1,1,1,1,1,1,1,1,1,1,1,1,1,1,1,1,1,1,1,1,1,1,1,1,1,1,1,1,1,1,1,1,1,1]},\"selected\":{\"id\":\"2120\"},\"selection_policy\":{\"id\":\"2121\"}},\"id\":\"2064\",\"type\":\"ColumnDataSource\"},{\"attributes\":{\"num_minor_ticks\":5,\"tickers\":[{\"id\":\"2123\"},{\"id\":\"2124\"},{\"id\":\"2125\"},{\"id\":\"2126\"},{\"id\":\"2127\"},{\"id\":\"2128\"},{\"id\":\"2129\"},{\"id\":\"2130\"},{\"id\":\"2131\"},{\"id\":\"2132\"},{\"id\":\"2133\"},{\"id\":\"2134\"}]},\"id\":\"2082\",\"type\":\"DatetimeTicker\"},{\"attributes\":{},\"id\":\"2119\",\"type\":\"YearsTicker\"},{\"attributes\":{\"data_source\":{\"id\":\"2064\"},\"glyph\":{\"id\":\"2066\"},\"hover_glyph\":null,\"muted_glyph\":null,\"nonselection_glyph\":{\"id\":\"2067\"},\"selection_glyph\":null,\"view\":{\"id\":\"2069\"}},\"id\":\"2068\",\"type\":\"GlyphRenderer\"},{\"attributes\":{\"overlay\":{\"id\":\"2096\"},\"x_range\":{\"id\":\"2033\"},\"y_range\":null},\"id\":\"2095\",\"type\":\"RangeTool\"},{\"attributes\":{\"days\":[1,2,3,4,5,6,7,8,9,10,11,12,13,14,15,16,17,18,19,20,21,22,23,24,25,26,27,28,29,30,31]},\"id\":\"2126\",\"type\":\"DaysTicker\"},{\"attributes\":{\"days\":[1,4,7,10,13,16,19,22,25,28]},\"id\":\"2127\",\"type\":\"DaysTicker\"},{\"attributes\":{\"days\":[1,15]},\"id\":\"2129\",\"type\":\"DaysTicker\"},{\"attributes\":{\"text\":\"Timeline\"},\"id\":\"2031\",\"type\":\"Title\"},{\"attributes\":{\"days\":[\"%m-%d %H:%M\"],\"hours\":[\"%H:%M:%S\"],\"milliseconds\":[\"%H:%M:%S.%3N\"],\"minutes\":[\"%H:%M:%S\"],\"seconds\":[\"%H:%M:%S\"]},\"id\":\"2062\",\"type\":\"DatetimeTickFormatter\"},{\"attributes\":{\"base\":60,\"mantissas\":[1,2,5,10,15,20,30],\"max_interval\":1800000.0,\"min_interval\":1000.0,\"num_minor_ticks\":0},\"id\":\"2109\",\"type\":\"AdaptiveTicker\"},{\"attributes\":{},\"id\":\"2121\",\"type\":\"UnionRenderers\"},{\"attributes\":{\"base\":24,\"mantissas\":[1,2,4,6,8,12],\"max_interval\":43200000.0,\"min_interval\":3600000.0,\"num_minor_ticks\":0},\"id\":\"2110\",\"type\":\"AdaptiveTicker\"},{\"attributes\":{\"days\":[1,8,15,22]},\"id\":\"2128\",\"type\":\"DaysTicker\"},{\"attributes\":{},\"id\":\"2051\",\"type\":\"ResetTool\"},{\"attributes\":{\"months\":[0,1,2,3,4,5,6,7,8,9,10,11]},\"id\":\"2130\",\"type\":\"MonthsTicker\"},{\"attributes\":{\"end\":1598328175400.0,\"start\":1592195990600.0},\"id\":\"2033\",\"type\":\"Range1d\"},{\"attributes\":{\"dimensions\":\"width\"},\"id\":\"2049\",\"type\":\"WheelZoomTool\"},{\"attributes\":{\"axis\":{\"id\":\"2081\"},\"ticker\":null},\"id\":\"2084\",\"type\":\"Grid\"},{\"attributes\":{},\"id\":\"2052\",\"type\":\"SaveTool\"},{\"attributes\":{\"active_drag\":\"auto\",\"active_inspect\":\"auto\",\"active_multi\":{\"id\":\"2095\"},\"active_scroll\":\"auto\",\"active_tap\":\"auto\",\"tools\":[{\"id\":\"2095\"}]},\"id\":\"2085\",\"type\":\"Toolbar\"},{\"attributes\":{},\"id\":\"2075\",\"type\":\"DataRange1d\"},{\"attributes\":{\"overlay\":{\"id\":\"2054\"}},\"id\":\"2050\",\"type\":\"BoxZoomTool\"},{\"attributes\":{},\"id\":\"2104\",\"type\":\"BasicTickFormatter\"},{\"attributes\":{},\"id\":\"2035\",\"type\":\"DataRange1d\"},{\"attributes\":{\"days\":[1,4,7,10,13,16,19,22,25,28]},\"id\":\"2112\",\"type\":\"DaysTicker\"},{\"attributes\":{\"mantissas\":[1,2,5],\"max_interval\":500.0,\"num_minor_ticks\":0},\"id\":\"2123\",\"type\":\"AdaptiveTicker\"},{\"attributes\":{},\"id\":\"2077\",\"type\":\"LinearScale\"},{\"attributes\":{\"months\":[0,4,8]},\"id\":\"2117\",\"type\":\"MonthsTicker\"},{\"attributes\":{},\"id\":\"2037\",\"type\":\"LinearScale\"},{\"attributes\":{\"dimensions\":\"width\"},\"id\":\"2053\",\"type\":\"PanTool\"},{\"attributes\":{\"num_minor_ticks\":10,\"tickers\":[{\"id\":\"2108\"},{\"id\":\"2109\"},{\"id\":\"2110\"},{\"id\":\"2111\"},{\"id\":\"2112\"},{\"id\":\"2113\"},{\"id\":\"2114\"},{\"id\":\"2115\"},{\"id\":\"2116\"},{\"id\":\"2117\"},{\"id\":\"2118\"},{\"id\":\"2119\"}]},\"id\":\"2042\",\"type\":\"DatetimeTicker\"},{\"attributes\":{\"months\":[0,1,2,3,4,5,6,7,8,9,10,11]},\"id\":\"2115\",\"type\":\"MonthsTicker\"},{\"attributes\":{\"months\":[0,4,8]},\"id\":\"2132\",\"type\":\"MonthsTicker\"},{\"attributes\":{\"end\":1598583683100.0,\"start\":1591940482900.0},\"id\":\"2073\",\"type\":\"Range1d\"},{\"attributes\":{\"mantissas\":[1,2,5],\"max_interval\":500.0,\"num_minor_ticks\":0},\"id\":\"2108\",\"type\":\"AdaptiveTicker\"},{\"attributes\":{\"months\":[0,2,4,6,8,10]},\"id\":\"2131\",\"type\":\"MonthsTicker\"},{\"attributes\":{\"axis_label\":\"Event Time\",\"formatter\":{\"id\":\"2062\"},\"ticker\":{\"id\":\"2042\"}},\"id\":\"2041\",\"type\":\"DatetimeAxis\"},{\"attributes\":{},\"id\":\"2135\",\"type\":\"Selection\"},{\"attributes\":{},\"id\":\"2046\",\"type\":\"BasicTicker\"},{\"attributes\":{\"days\":[1,8,15,22]},\"id\":\"2113\",\"type\":\"DaysTicker\"},{\"attributes\":{\"axis\":{\"id\":\"2041\"},\"grid_line_alpha\":0.3,\"grid_line_color\":\"navy\",\"minor_grid_line_alpha\":0.1,\"minor_grid_line_color\":\"navy\",\"ticker\":null},\"id\":\"2044\",\"type\":\"Grid\"},{\"attributes\":{\"days\":[1,15]},\"id\":\"2114\",\"type\":\"DaysTicker\"},{\"attributes\":{\"base\":24,\"mantissas\":[1,2,4,6,8,12],\"max_interval\":43200000.0,\"min_interval\":3600000.0,\"num_minor_ticks\":0},\"id\":\"2125\",\"type\":\"AdaptiveTicker\"},{\"attributes\":{\"text\":\"Range Selector\"},\"id\":\"2071\",\"type\":\"Title\"},{\"attributes\":{\"align\":\"right\",\"text\":\"Drag the middle or edges of the selection box to change the range in the main chart\",\"text_font_size\":{\"value\":\"10px\"}},\"id\":\"2086\",\"type\":\"Title\"},{\"attributes\":{\"days\":[\"%m-%d %H:%M\"],\"hours\":[\"%H:%M:%S\"],\"milliseconds\":[\"%H:%M:%S.%3N\"],\"minutes\":[\"%H:%M:%S\"],\"seconds\":[\"%H:%M:%S\"]},\"id\":\"2087\",\"type\":\"DatetimeTickFormatter\"},{\"attributes\":{\"months\":[0,6]},\"id\":\"2133\",\"type\":\"MonthsTicker\"},{\"attributes\":{\"months\":[0,2,4,6,8,10]},\"id\":\"2116\",\"type\":\"MonthsTicker\"},{\"attributes\":{\"base\":60,\"mantissas\":[1,2,5,10,15,20,30],\"max_interval\":1800000.0,\"min_interval\":1000.0,\"num_minor_ticks\":0},\"id\":\"2124\",\"type\":\"AdaptiveTicker\"},{\"attributes\":{},\"id\":\"2136\",\"type\":\"UnionRenderers\"},{\"attributes\":{\"axis_label\":\"rarest_window3_likelihood\",\"formatter\":{\"id\":\"2104\"},\"ticker\":{\"id\":\"2046\"}},\"id\":\"2045\",\"type\":\"LinearAxis\"},{\"attributes\":{\"axis\":{\"id\":\"2045\"},\"dimension\":1,\"grid_line_alpha\":0.3,\"grid_line_color\":\"navy\",\"minor_grid_line_alpha\":0.1,\"minor_grid_line_color\":\"navy\",\"ticker\":null},\"id\":\"2048\",\"type\":\"Grid\"},{\"attributes\":{\"formatter\":{\"id\":\"2087\"},\"ticker\":{\"id\":\"2082\"}},\"id\":\"2081\",\"type\":\"DatetimeAxis\"}],\"root_ids\":[\"2100\"]},\"title\":\"Bokeh Application\",\"version\":\"2.2.2\"}};\n",
       "  var render_items = [{\"docid\":\"66ecd02c-b54c-48e0-826c-d973218d4b6d\",\"root_ids\":[\"2100\"],\"roots\":{\"2100\":\"4992b287-4e0e-4553-9842-405bfebdf7e0\"}}];\n",
       "  root.Bokeh.embed.embed_items_notebook(docs_json, render_items);\n",
       "\n",
       "  }\n",
       "  if (root.Bokeh !== undefined) {\n",
       "    embed_document(root);\n",
       "  } else {\n",
       "    var attempts = 0;\n",
       "    var timer = setInterval(function(root) {\n",
       "      if (root.Bokeh !== undefined) {\n",
       "        clearInterval(timer);\n",
       "        embed_document(root);\n",
       "      } else {\n",
       "        attempts++;\n",
       "        if (attempts > 100) {\n",
       "          clearInterval(timer);\n",
       "          console.log(\"Bokeh: ERROR: Unable to run BokehJS code because BokehJS library is missing\");\n",
       "        }\n",
       "      }\n",
       "    }, 10, root)\n",
       "  }\n",
       "})(window);"
      ],
      "application/vnd.bokehjs_exec.v0+json": ""
     },
     "metadata": {
      "application/vnd.bokehjs_exec.v0+json": {
       "id": "2100"
      }
     },
     "output_type": "display_data"
    }
   ],
   "source": [
    "from msticpy.analysis.anomalous_sequence.utils.data_structures import Cmd\n",
    "from msticpy.analysis.anomalous_sequence import anomalous\n",
    "\n",
    "def process_exchange_session(session_with_params, include_vals):\n",
    "    new_ses = []\n",
    "    for cmd in session_with_params:\n",
    "        c = list(cmd.keys())[0]\n",
    "        par = list(cmd.values())[0]\n",
    "        new_pars = set()\n",
    "        if include_vals:\n",
    "            new_pars = dict()\n",
    "        for p in par:\n",
    "            if include_vals:\n",
    "                new_pars[p['Name']] = p['Value']\n",
    "            else:\n",
    "                new_pars.add(p['Name'])\n",
    "        new_ses.append(Cmd(name=c, params=new_pars))\n",
    "    return new_ses\n",
    "\n",
    "sessions = exchange_df.cmds.values.tolist()\n",
    "param_sessions = []\n",
    "param_value_sessions = []\n",
    "\n",
    "for ses in exchange_df.params.values.tolist():\n",
    "    new_ses_set = process_exchange_session(session_with_params=ses, include_vals=False)\n",
    "    new_ses_dict = process_exchange_session(session_with_params=ses, include_vals=True)\n",
    "    param_sessions.append(new_ses_set)\n",
    "    param_value_sessions.append(new_ses_dict)\n",
    "\n",
    "data = exchange_df\n",
    "data['session'] = sessions\n",
    "data['param_session'] = param_sessions\n",
    "data['param_value_session'] = param_value_sessions\n",
    "\n",
    "modelled_df = anomalous.score_sessions(\n",
    "    data=data,\n",
    "    session_column='param_value_session',\n",
    "    window_length=3\n",
    ")\n",
    "\n",
    "anomalous.visualise_scored_sessions(\n",
    "    data_with_scores=modelled_df,\n",
    "    time_column='begin',  # this will appear on the x-axis\n",
    "    score_column='rarest_window3_likelihood',  # this will appear on the y axis\n",
    "    window_column='rarest_window3',  # this will represent the session in the tool-tips\n",
    "    source_columns=['UserId', 'ClientIP'],  # specify any additional columns to appear in the tool-tips\n",
    ")"
   ]
  },
  {
   "cell_type": "markdown",
   "metadata": {},
   "source": [
    "The events are shown in descending order of likelihood (vertically), so the<br>\n",
    "events at the bottom of the chart are the ones most interesting to us.\n",
    "\n",
    "**Looking at these rare events, we can see potentially suspicious activity changing role memberships.**"
   ]
  },
  {
   "cell_type": "code",
   "execution_count": 96,
   "metadata": {},
   "outputs": [
    {
     "data": {
      "text/html": [
       "<p style='font-weight: bold'>Move the slider to see event sessions below the selected <i>likelihood</i> threshold</p>"
      ],
      "text/plain": [
       "<IPython.core.display.HTML object>"
      ]
     },
     "metadata": {},
     "output_type": "display_data"
    },
    {
     "data": {
      "text/html": [
       "<hr>"
      ],
      "text/plain": [
       "<IPython.core.display.HTML object>"
      ]
     },
     "metadata": {},
     "output_type": "display_data"
    },
    {
     "data": {
      "application/vnd.jupyter.widget-view+json": {
       "model_id": "279e76092f374637b4b89068c88f51f6",
       "version_major": 2,
       "version_minor": 0
      },
      "text/plain": [
       "FloatSlider(value=0.000536508714208626, description='Select likelihood threshold', layout=Layout(width='60%'),…"
      ]
     },
     "metadata": {},
     "output_type": "display_data"
    },
    {
     "data": {
      "text/html": [
       "<hr>"
      ],
      "text/plain": [
       "<IPython.core.display.HTML object>"
      ]
     },
     "metadata": {},
     "output_type": "display_data"
    },
    {
     "data": {
      "text/html": [
       "<p style=''>Range is 0.0000025 (min likelihood) to 0.0106819 (max likelihood)<br><br><hr></p>"
      ],
      "text/plain": [
       "<IPython.core.display.HTML object>"
      ]
     },
     "metadata": {},
     "output_type": "display_data"
    },
    {
     "data": {
      "text/html": [
       "<div>\n",
       "<style scoped>\n",
       "    .dataframe tbody tr th:only-of-type {\n",
       "        vertical-align: middle;\n",
       "    }\n",
       "\n",
       "    .dataframe tbody tr th {\n",
       "        vertical-align: top;\n",
       "    }\n",
       "\n",
       "    .dataframe thead th {\n",
       "        text-align: right;\n",
       "    }\n",
       "</style>\n",
       "<table border=\"1\" class=\"dataframe\">\n",
       "  <thead>\n",
       "    <tr style=\"text-align: right;\">\n",
       "      <th></th>\n",
       "      <th>UserId</th>\n",
       "      <th>ClientIP</th>\n",
       "      <th>nCmds</th>\n",
       "      <th>nDistinctCmds</th>\n",
       "      <th>begin</th>\n",
       "      <th>end</th>\n",
       "      <th>duration</th>\n",
       "      <th>cmds</th>\n",
       "      <th>params</th>\n",
       "      <th>session</th>\n",
       "      <th>param_session</th>\n",
       "      <th>param_value_session</th>\n",
       "      <th>rarest_window3_likelihood</th>\n",
       "      <th>rarest_window3</th>\n",
       "    </tr>\n",
       "  </thead>\n",
       "  <tbody>\n",
       "    <tr>\n",
       "      <th>145</th>\n",
       "      <td>timvic@contoso.onmicrosoft.com</td>\n",
       "      <td>20.185.182.48:37965</td>\n",
       "      <td>6</td>\n",
       "      <td>1</td>\n",
       "      <td>2020-07-29 20:11:27+00:00</td>\n",
       "      <td>2020-07-29 20:11:27+00:00</td>\n",
       "      <td>0 days</td>\n",
       "      <td>[Update-RoleGroupMember, Update-RoleGroupMember, Update-RoleGroupMember, Update-RoleGroupMember,...</td>\n",
       "      <td>[{'Update-RoleGroupMember': [{'Name': 'Members', 'Value': 'CBoehmSA;pcadmin;SecurityAdmins_20075...</td>\n",
       "      <td>[Update-RoleGroupMember, Update-RoleGroupMember, Update-RoleGroupMember, Update-RoleGroupMember,...</td>\n",
       "      <td>[Cmd(name='Update-RoleGroupMember', params={'Members', 'Identity'}), Cmd(name='Update-RoleGroupM...</td>\n",
       "      <td>[Cmd(name='Update-RoleGroupMember', params={'Members': 'CBoehmSA;pcadmin;SecurityAdmins_20075581...</td>\n",
       "      <td>0.000003</td>\n",
       "      <td>[Cmd(name='Update-RoleGroupMember', params={'Members': 'CBoehmSA;ComplianceAdmins_939735849', 'I...</td>\n",
       "    </tr>\n",
       "  </tbody>\n",
       "</table>\n",
       "</div>"
      ],
      "text/plain": [
       "                             UserId             ClientIP  nCmds  \\\n",
       "145  timvic@contoso.onmicrosoft.com  20.185.182.48:37965      6   \n",
       "\n",
       "     nDistinctCmds                     begin                       end  \\\n",
       "145              1 2020-07-29 20:11:27+00:00 2020-07-29 20:11:27+00:00   \n",
       "\n",
       "    duration  \\\n",
       "145   0 days   \n",
       "\n",
       "                                                                                                    cmds  \\\n",
       "145  [Update-RoleGroupMember, Update-RoleGroupMember, Update-RoleGroupMember, Update-RoleGroupMember,...   \n",
       "\n",
       "                                                                                                  params  \\\n",
       "145  [{'Update-RoleGroupMember': [{'Name': 'Members', 'Value': 'CBoehmSA;pcadmin;SecurityAdmins_20075...   \n",
       "\n",
       "                                                                                                 session  \\\n",
       "145  [Update-RoleGroupMember, Update-RoleGroupMember, Update-RoleGroupMember, Update-RoleGroupMember,...   \n",
       "\n",
       "                                                                                           param_session  \\\n",
       "145  [Cmd(name='Update-RoleGroupMember', params={'Members', 'Identity'}), Cmd(name='Update-RoleGroupM...   \n",
       "\n",
       "                                                                                     param_value_session  \\\n",
       "145  [Cmd(name='Update-RoleGroupMember', params={'Members': 'CBoehmSA;pcadmin;SecurityAdmins_20075581...   \n",
       "\n",
       "     rarest_window3_likelihood  \\\n",
       "145                   0.000003   \n",
       "\n",
       "                                                                                          rarest_window3  \n",
       "145  [Cmd(name='Update-RoleGroupMember', params={'Members': 'CBoehmSA;ComplianceAdmins_939735849', 'I...  "
      ]
     },
     "metadata": {},
     "output_type": "display_data"
    }
   ],
   "source": [
    "likelihood_max=modelled_df[\"rarest_window3_likelihood\"].max()\n",
    "likelihood_min=modelled_df[\"rarest_window3_likelihood\"].min()\n",
    "slider_step = (likelihood_max - likelihood_min) / 20\n",
    "start_val = likelihood_min + slider_step\n",
    "threshold = widgets.FloatSlider(\n",
    "    description=\"Select likelihood threshold\",\n",
    "    max=likelihood_max,\n",
    "    min=likelihood_min,\n",
    "    value=start_val,\n",
    "    step=start_val,\n",
    "    layout=widgets.Layout(width=\"60%\"),\n",
    "    style={\"description_width\": \"200px\"},\n",
    "    readout_format=\".7f\"\n",
    ")\n",
    "\n",
    "\n",
    "def show_rows(change):\n",
    "    thresh = change[\"new\"]\n",
    "    pd_disp.update(modelled_df[modelled_df[\"rarest_window3_likelihood\"] < thresh])\n",
    "\n",
    "threshold.observe(show_rows, names=\"value\")\n",
    "md(\"Move the slider to see event sessions below the selected <i>likelihood</i> threshold\", \"bold\")\n",
    "display(HTML(\"<hr>\"))\n",
    "display(threshold)\n",
    "display(HTML(\"<hr>\"))\n",
    "md(f\"Range is {likelihood_min:.7f} (min likelihood) to {likelihood_max:.7f} (max likelihood)<br><br><hr>\")\n",
    "pd_disp = display(modelled_df[modelled_df[\"rarest_window3_likelihood\"] < start_val], display_id=True)"
   ]
  },
  {
   "cell_type": "markdown",
   "metadata": {},
   "source": [
    "### Print out content of the selected events/commands in more readable format\n",
    "\n",
    "> Note for many events the output will be long"
   ]
  },
  {
   "cell_type": "code",
   "execution_count": 76,
   "metadata": {},
   "outputs": [
    {
     "data": {
      "text/html": [
       "<p style='font-size: 130%'>Event 1</p>"
      ],
      "text/plain": [
       "<IPython.core.display.HTML object>"
      ]
     },
     "metadata": {},
     "output_type": "display_data"
    },
    {
     "data": {
      "text/html": [
       "<div>\n",
       "<style scoped>\n",
       "    .dataframe tbody tr th:only-of-type {\n",
       "        vertical-align: middle;\n",
       "    }\n",
       "\n",
       "    .dataframe tbody tr th {\n",
       "        vertical-align: top;\n",
       "    }\n",
       "\n",
       "    .dataframe thead th {\n",
       "        text-align: right;\n",
       "    }\n",
       "</style>\n",
       "<table border=\"1\" class=\"dataframe\">\n",
       "  <thead>\n",
       "    <tr style=\"text-align: right;\">\n",
       "      <th></th>\n",
       "      <th>145</th>\n",
       "    </tr>\n",
       "  </thead>\n",
       "  <tbody>\n",
       "    <tr>\n",
       "      <th>UserId</th>\n",
       "      <td>timvic@contoso.onmicrosoft.com</td>\n",
       "    </tr>\n",
       "    <tr>\n",
       "      <th>ClientIP</th>\n",
       "      <td>20.185.182.48:37965</td>\n",
       "    </tr>\n",
       "    <tr>\n",
       "      <th>begin</th>\n",
       "      <td>2020-07-29 20:11:27+00:00</td>\n",
       "    </tr>\n",
       "    <tr>\n",
       "      <th>end</th>\n",
       "      <td>2020-07-29 20:11:27+00:00</td>\n",
       "    </tr>\n",
       "    <tr>\n",
       "      <th>likelihood</th>\n",
       "      <td>2.54138e-06</td>\n",
       "    </tr>\n",
       "  </tbody>\n",
       "</table>\n",
       "</div>"
      ],
      "text/plain": [
       "                                       145\n",
       "UserId      timvic@contoso.onmicrosoft.com\n",
       "ClientIP               20.185.182.48:37965\n",
       "begin            2020-07-29 20:11:27+00:00\n",
       "end              2020-07-29 20:11:27+00:00\n",
       "likelihood                     2.54138e-06"
      ]
     },
     "metadata": {},
     "output_type": "display_data"
    },
    {
     "data": {
      "text/html": [
       "<p style=''><hr></p>"
      ],
      "text/plain": [
       "<IPython.core.display.HTML object>"
      ]
     },
     "metadata": {},
     "output_type": "display_data"
    },
    {
     "data": {
      "text/html": [
       "<p style='font-weight: bold'>Param session details:</p>"
      ],
      "text/plain": [
       "<IPython.core.display.HTML object>"
      ]
     },
     "metadata": {},
     "output_type": "display_data"
    },
    {
     "data": {
      "text/html": [
       "<p style=''>Command: Update-RoleGroupMember</p>"
      ],
      "text/plain": [
       "<IPython.core.display.HTML object>"
      ]
     },
     "metadata": {},
     "output_type": "display_data"
    },
    {
     "name": "stdout",
     "output_type": "stream",
     "text": [
      "{'Identity': 'Security Administrator',\n",
      " 'Members': 'CBoehmSA;pcadmin;SecurityAdmins_2007558133'}\n"
     ]
    },
    {
     "data": {
      "text/html": [
       "<p style=''>Command: Update-RoleGroupMember</p>"
      ],
      "text/plain": [
       "<IPython.core.display.HTML object>"
      ]
     },
     "metadata": {},
     "output_type": "display_data"
    },
    {
     "name": "stdout",
     "output_type": "stream",
     "text": [
      "{'Identity': 'Compliance Management',\n",
      " 'Members': 'CBoehmSA;ComplianceAdmins_939735849'}\n"
     ]
    },
    {
     "data": {
      "text/html": [
       "<p style=''>Command: Update-RoleGroupMember</p>"
      ],
      "text/plain": [
       "<IPython.core.display.HTML object>"
      ]
     },
     "metadata": {},
     "output_type": "display_data"
    },
    {
     "name": "stdout",
     "output_type": "stream",
     "text": [
      "{'Identity': 'Discovery Management', 'Members': 'CBoehmSA'}\n"
     ]
    },
    {
     "data": {
      "text/html": [
       "<p style=''>Command: Update-RoleGroupMember</p>"
      ],
      "text/plain": [
       "<IPython.core.display.HTML object>"
      ]
     },
     "metadata": {},
     "output_type": "display_data"
    },
    {
     "name": "stdout",
     "output_type": "stream",
     "text": [
      "{'Identity': 'Compliance Management',\n",
      " 'Members': 'CBoehmSA;ComplianceAdmins_939735849'}\n"
     ]
    },
    {
     "data": {
      "text/html": [
       "<p style=''>Command: Update-RoleGroupMember</p>"
      ],
      "text/plain": [
       "<IPython.core.display.HTML object>"
      ]
     },
     "metadata": {},
     "output_type": "display_data"
    },
    {
     "name": "stdout",
     "output_type": "stream",
     "text": [
      "{'Identity': 'Discovery Management', 'Members': 'CBoehmSA'}\n"
     ]
    },
    {
     "data": {
      "text/html": [
       "<p style=''>Command: Update-RoleGroupMember</p>"
      ],
      "text/plain": [
       "<IPython.core.display.HTML object>"
      ]
     },
     "metadata": {},
     "output_type": "display_data"
    },
    {
     "name": "stdout",
     "output_type": "stream",
     "text": [
      "{'Identity': 'Security Administrator',\n",
      " 'Members': 'CBoehmSA;pcadmin;SecurityAdmins_2007558133'}\n"
     ]
    },
    {
     "data": {
      "text/html": [
       "<p style=''><hr><br></p>"
      ],
      "text/plain": [
       "<IPython.core.display.HTML object>"
      ]
     },
     "metadata": {},
     "output_type": "display_data"
    }
   ],
   "source": [
    "import pprint\n",
    "\n",
    "rarest_events = (\n",
    "    modelled_df[modelled_df[\"rarest_window3_likelihood\"] < threshold.value]\n",
    "    [[\n",
    "        \"UserId\", \"ClientIP\", \"begin\", \"end\", \"param_value_session\", \"rarest_window3_likelihood\"\n",
    "    ]]\n",
    "    .rename(columns={\"rarest_window3_likelihood\": \"likelihood\"})\n",
    "    .sort_values(\"likelihood\")\n",
    ")\n",
    "for idx, (_, rarest_event) in enumerate(rarest_events.iterrows(), 1):\n",
    "    md(f\"Event {idx}\", \"large\")\n",
    "    display(pd.DataFrame(rarest_event[[\"UserId\", \"ClientIP\", \"begin\", \"end\", \"likelihood\"]]))\n",
    "\n",
    "    md(\"<hr>\")\n",
    "    md(\"Param session details:\", \"bold\")\n",
    "    for cmd in rarest_event.param_value_session:\n",
    "        md(f\"Command: {cmd.name}\")\n",
    "        pprint.pprint(cmd.params)\n",
    "    md(\"<hr><br>\")"
   ]
  },
  {
   "cell_type": "markdown",
   "metadata": {},
   "source": [
    "<hr>\n",
    "\n",
    "# Resources\n",
    "## MSTICpy:\n",
    "- msticpy Github https://github.com/Microsoft/msticpy\n",
    "- msticpy Docs https://msticpy.readthedocs.io/en/latest/\n",
    "- msticpy Release Blog https://medium.com/@msticmed\n",
    "\n",
    "### MSTICpy maintainers:\n",
    "- Ian Hellen [@ianhellen](https://twitter.com/ianhellen)\n",
    "- Pete Bryan [@MSSPete](https://twitter.com/MSSPete)\n",
    "- Ashwin Patil [@ashwinpatil](https://twitter.com/ashwinpatil)\n",
    "\n",
    "## Azure Sentinel Notebooks:\n",
    "- Azure Sentinel Github Notebooks https://github.com/Azure/Azure-Sentinel-Notebooks/\n",
    "  - (Samples with data in Sample-Notebooks folder)\n",
    "- Azure Sentinel Tech Community Blogs https://aka.ms/AzureSentinelBlog"
   ]
  }
 ],
 "metadata": {
  "kernelspec": {
   "display_name": "Python 3.6",
   "language": "python",
   "name": "python36"
  },
  "language_info": {
   "codemirror_mode": {
    "name": "ipython",
    "version": 3
   },
   "file_extension": ".py",
   "mimetype": "text/x-python",
   "name": "python",
   "nbconvert_exporter": "python",
   "pygments_lexer": "ipython3",
   "version": "3.7.9"
  },
  "widgets": {
   "application/vnd.jupyter.widget-state+json": {
    "state": {
     "02eccdc2cfea476ba469053f75af907d": {
      "model_module": "@jupyter-widgets/base",
      "model_module_version": "1.2.0",
      "model_name": "LayoutModel",
      "state": {}
     },
     "04b56828377a458d989760bbe16fed39": {
      "model_module": "@jupyter-widgets/base",
      "model_module_version": "1.2.0",
      "model_name": "LayoutModel",
      "state": {}
     },
     "0569e669baea4a1d984a45b6272ccf51": {
      "model_module": "@jupyter-widgets/base",
      "model_module_version": "1.2.0",
      "model_name": "LayoutModel",
      "state": {}
     },
     "05942c6f0fe445c9a2df7599102a8c7c": {
      "model_module": "@jupyter-widgets/base",
      "model_module_version": "1.2.0",
      "model_name": "LayoutModel",
      "state": {}
     },
     "076dc6eaf5394b0faef7e91f3da3538e": {
      "model_module": "@jupyter-widgets/controls",
      "model_module_version": "1.5.0",
      "model_name": "DatePickerModel",
      "state": {
       "description": "Origin Date",
       "disabled": false,
       "layout": "IPY_MODEL_a11f231ca55e4054a9e619b28570a708",
       "style": "IPY_MODEL_c0dbc86bce7348ffabb1371a1fb052fa",
       "value": {
        "date": 13,
        "month": 6,
        "year": 2020
       }
      }
     },
     "0812f6bad3514ee79cfd03ea5fd53af0": {
      "model_module": "@jupyter-widgets/base",
      "model_module_version": "1.2.0",
      "model_name": "LayoutModel",
      "state": {}
     },
     "083e3eafac304fe2a981300c56757fbc": {
      "model_module": "@jupyter-widgets/controls",
      "model_module_version": "1.5.0",
      "model_name": "DescriptionStyleModel",
      "state": {
       "description_width": ""
      }
     },
     "0ac5460f97d04540ac69826b206365b3": {
      "model_module": "@jupyter-widgets/base",
      "model_module_version": "1.2.0",
      "model_name": "LayoutModel",
      "state": {}
     },
     "0bcbf7a99db64d6385e73eff8e6458d6": {
      "model_module": "@jupyter-widgets/controls",
      "model_module_version": "1.5.0",
      "model_name": "SliderStyleModel",
      "state": {
       "description_width": "100px"
      }
     },
     "0dd009f3ce32466daba49ee1e1c2042a": {
      "model_module": "@jupyter-widgets/controls",
      "model_module_version": "1.5.0",
      "model_name": "HTMLModel",
      "state": {
       "layout": "IPY_MODEL_7b98021945b245ea94c36ca9a8da17af",
       "style": "IPY_MODEL_da84223a65e54f5aabb4f4125befc0bf",
       "value": "<h4>Set query time boundaries</h4>"
      }
     },
     "0e686c209fcd4fe1974f37c6fe6d807f": {
      "model_module": "@jupyter-widgets/controls",
      "model_module_version": "1.5.0",
      "model_name": "HTMLModel",
      "state": {
       "layout": "IPY_MODEL_0812f6bad3514ee79cfd03ea5fd53af0",
       "style": "IPY_MODEL_997e9ea682d946e588a1c4a68d30f2e9",
       "value": "File download: 100%"
      }
     },
     "0eb2f8243ab6409c972a15cae54c8f48": {
      "model_module": "@jupyter-widgets/controls",
      "model_module_version": "1.5.0",
      "model_name": "DescriptionStyleModel",
      "state": {
       "description_width": ""
      }
     },
     "0efa6ad89b24443898d2a59a990a65aa": {
      "model_module": "@jupyter-widgets/base",
      "model_module_version": "1.2.0",
      "model_name": "LayoutModel",
      "state": {}
     },
     "0f1e1c29f6ed4c36abe4841af0f4affc": {
      "model_module": "@jupyter-widgets/controls",
      "model_module_version": "1.5.0",
      "model_name": "HBoxModel",
      "state": {
       "children": [
        "IPY_MODEL_2fc8df6ebb1b4657a0ce9500ec5aff69",
        "IPY_MODEL_3ddcf603ac864a1fba89f43a5d727542",
        "IPY_MODEL_971efc9fdfbf473e8da4280896ffeb1f"
       ],
       "layout": "IPY_MODEL_fec0cd2390ed47ee97c50936f411f541"
      }
     },
     "0f9697ce999c4c858a9795030d048d9d": {
      "model_module": "@jupyter-widgets/controls",
      "model_module_version": "1.5.0",
      "model_name": "SliderStyleModel",
      "state": {
       "description_width": "100px"
      }
     },
     "0fc4f10fdd3c482c9b907573198fce68": {
      "model_module": "@jupyter-widgets/base",
      "model_module_version": "1.2.0",
      "model_name": "LayoutModel",
      "state": {
       "width": "60%"
      }
     },
     "0ff3a5319d7c4d168fb9596acdb43643": {
      "model_module": "@jupyter-widgets/controls",
      "model_module_version": "1.5.0",
      "model_name": "FloatSliderModel",
      "state": {
       "description": "Select threshold",
       "layout": "IPY_MODEL_a4d7396734ab46e1a0318276c83a6b35",
       "max": 0.010681888131276969,
       "min": 2.5413764681869644e-06,
       "readout_format": ".7f",
       "step": 0.000536508714208626,
       "style": "IPY_MODEL_0f9697ce999c4c858a9795030d048d9d",
       "value": 0.000536508714208626
      }
     },
     "1010d4f6282f4c82a3d72c504b8e6aba": {
      "model_module": "@jupyter-widgets/controls",
      "model_module_version": "1.5.0",
      "model_name": "DescriptionStyleModel",
      "state": {
       "description_width": ""
      }
     },
     "102bc74b80b846be945ad25cac1771b0": {
      "model_module": "@jupyter-widgets/base",
      "model_module_version": "1.2.0",
      "model_name": "LayoutModel",
      "state": {}
     },
     "151e0f6799544f83be4a387a3292ad3f": {
      "model_module": "@jupyter-widgets/controls",
      "model_module_version": "1.5.0",
      "model_name": "DescriptionStyleModel",
      "state": {
       "description_width": ""
      }
     },
     "15abeafca60c4937bdcb1e5f0dde62aa": {
      "model_module": "@jupyter-widgets/base",
      "model_module_version": "1.2.0",
      "model_name": "LayoutModel",
      "state": {
       "width": "95%"
      }
     },
     "16cb0e5d28b64a748788d748aa49636d": {
      "model_module": "@jupyter-widgets/controls",
      "model_module_version": "1.5.0",
      "model_name": "HBoxModel",
      "state": {
       "children": [
        "IPY_MODEL_d10464afa0b7419db93eef50d9288a76",
        "IPY_MODEL_92c6e9d6cfd94cfebfd532f5610a6177",
        "IPY_MODEL_83a540e07fba44f4b8bc1e60db8d8d75"
       ],
       "layout": "IPY_MODEL_82224b57e1ec42118fbbdf64cdd779da"
      }
     },
     "1754a2bc7c9d40cca1e4ec406977990f": {
      "model_module": "@jupyter-widgets/base",
      "model_module_version": "1.2.0",
      "model_name": "LayoutModel",
      "state": {
       "width": "60%"
      }
     },
     "175e0de124ac4ae7a07a1a756a6e5d80": {
      "model_module": "@jupyter-widgets/base",
      "model_module_version": "1.2.0",
      "model_name": "LayoutModel",
      "state": {}
     },
     "17b3aa43dd6a42169f40d1e18bd77b83": {
      "model_module": "@jupyter-widgets/controls",
      "model_module_version": "1.5.0",
      "model_name": "SliderStyleModel",
      "state": {
       "description_width": "200px"
      }
     },
     "1a21b17a23f546fdb973ea143b94cd85": {
      "model_module": "@jupyter-widgets/base",
      "model_module_version": "1.2.0",
      "model_name": "LayoutModel",
      "state": {}
     },
     "1acf972e32124049aaf9538fa925aeed": {
      "model_module": "@jupyter-widgets/base",
      "model_module_version": "1.2.0",
      "model_name": "LayoutModel",
      "state": {
       "width": "60%"
      }
     },
     "1c1f9e206a3546ce83b79f2e21c8e595": {
      "model_module": "@jupyter-widgets/controls",
      "model_module_version": "1.5.0",
      "model_name": "DescriptionStyleModel",
      "state": {
       "description_width": ""
      }
     },
     "1c7a1c67152a4e59a45aa817ac5533e4": {
      "model_module": "@jupyter-widgets/controls",
      "model_module_version": "1.5.0",
      "model_name": "HTMLModel",
      "state": {
       "layout": "IPY_MODEL_102bc74b80b846be945ad25cac1771b0",
       "style": "IPY_MODEL_7354924109f24fc6bcc0609b51a42b43",
       "value": "<h4>Set query time boundaries</h4>"
      }
     },
     "1f0d3a421ff744ee8f73666e95bbaa58": {
      "model_module": "@jupyter-widgets/controls",
      "model_module_version": "1.5.0",
      "model_name": "SliderStyleModel",
      "state": {
       "description_width": "200px"
      }
     },
     "1fe081914ac74e0bbcded0b85a1fbc1c": {
      "model_module": "@jupyter-widgets/base",
      "model_module_version": "1.2.0",
      "model_name": "LayoutModel",
      "state": {
       "width": "60%"
      }
     },
     "23221b0bce924232b645d88d6733679f": {
      "model_module": "@jupyter-widgets/base",
      "model_module_version": "1.2.0",
      "model_name": "LayoutModel",
      "state": {
       "width": "60%"
      }
     },
     "233e8c2562184cc88df12915e7c0950b": {
      "model_module": "@jupyter-widgets/controls",
      "model_module_version": "1.5.0",
      "model_name": "SliderStyleModel",
      "state": {
       "description_width": "100px"
      }
     },
     "2393f32dfca14885b089c14a029d56ed": {
      "model_module": "@jupyter-widgets/base",
      "model_module_version": "1.2.0",
      "model_name": "LayoutModel",
      "state": {}
     },
     "24305f2a4c084ff0960dd7c448c69fa8": {
      "model_module": "@jupyter-widgets/base",
      "model_module_version": "1.2.0",
      "model_name": "LayoutModel",
      "state": {}
     },
     "24391c700f054d72830af07eabdb18e3": {
      "model_module": "@jupyter-widgets/base",
      "model_module_version": "1.2.0",
      "model_name": "LayoutModel",
      "state": {}
     },
     "24c386f8aae34e9a88d033194a48647c": {
      "model_module": "@jupyter-widgets/controls",
      "model_module_version": "1.5.0",
      "model_name": "DescriptionStyleModel",
      "state": {
       "description_width": ""
      }
     },
     "24fe89f4be2248d392d283c8ce64f4a7": {
      "model_module": "@jupyter-widgets/controls",
      "model_module_version": "1.5.0",
      "model_name": "FloatProgressModel",
      "state": {
       "bar_style": "danger",
       "layout": "IPY_MODEL_38c46ba6f58543b8b7d28ff479800a47",
       "max": 4,
       "style": "IPY_MODEL_f8c16fcb40104fde9ab4618063a522ed"
      }
     },
     "25fcb837e76d4fbd9099f4d47b392d45": {
      "model_module": "@jupyter-widgets/base",
      "model_module_version": "1.2.0",
      "model_name": "LayoutModel",
      "state": {}
     },
     "2648342388f048dea2b7a5b8996bec24": {
      "model_module": "@jupyter-widgets/controls",
      "model_module_version": "1.5.0",
      "model_name": "ProgressStyleModel",
      "state": {
       "description_width": ""
      }
     },
     "274dcddaf5f14c1ca5868f3badc64af4": {
      "model_module": "@jupyter-widgets/base",
      "model_module_version": "1.2.0",
      "model_name": "LayoutModel",
      "state": {
       "width": "60%"
      }
     },
     "279e76092f374637b4b89068c88f51f6": {
      "model_module": "@jupyter-widgets/controls",
      "model_module_version": "1.5.0",
      "model_name": "FloatSliderModel",
      "state": {
       "description": "Select likelihood threshold",
       "layout": "IPY_MODEL_8a9ff3e13eab45199bba522518d8fe57",
       "max": 0.010681888131276969,
       "min": 2.5413764681869644e-06,
       "readout_format": ".7f",
       "step": 0.000536508714208626,
       "style": "IPY_MODEL_17b3aa43dd6a42169f40d1e18bd77b83",
       "value": 0.00108
      }
     },
     "285472b6972d4e99a9c96862fe01d113": {
      "model_module": "@jupyter-widgets/controls",
      "model_module_version": "1.5.0",
      "model_name": "SliderStyleModel",
      "state": {
       "description_width": "100px"
      }
     },
     "29128176bdd4460ca62d97f113274b9f": {
      "model_module": "@jupyter-widgets/controls",
      "model_module_version": "1.5.0",
      "model_name": "FloatSliderModel",
      "state": {
       "description": "Select likelihood threshold",
       "layout": "IPY_MODEL_0fc4f10fdd3c482c9b907573198fce68",
       "max": 0.010681888131276969,
       "min": 2.5413764681869644e-06,
       "readout_format": ".7f",
       "step": 0.000536508714208626,
       "style": "IPY_MODEL_e902a8a2ae8440e3a65ca97a6e46dd9d",
       "value": 0.000536508714208626
      }
     },
     "29b527cf523a47f481ba4cc6d89f5b9a": {
      "model_module": "@jupyter-widgets/controls",
      "model_module_version": "1.5.0",
      "model_name": "HBoxModel",
      "state": {
       "children": [
        "IPY_MODEL_e307ac2ade7b428b9d84b129ed5ec55f",
        "IPY_MODEL_7054b32a5ffc4fcda77eb6a1c4634a35",
        "IPY_MODEL_3bf152f64d6a48cb8f2329bc2dd7005e"
       ],
       "layout": "IPY_MODEL_49340d294b2447a180d5ae129ebf93bb"
      }
     },
     "29e34ebddea14ed989b5c61a66cb300b": {
      "model_module": "@jupyter-widgets/controls",
      "model_module_version": "1.5.0",
      "model_name": "FloatSliderModel",
      "state": {
       "description": "Select likelihood threshold",
       "layout": "IPY_MODEL_6aab5292b5ae4e8c95563a4454d306ff",
       "max": 0.010681888131276969,
       "min": 2.5413764681869644e-06,
       "readout_format": ".7f",
       "step": 0.000536508714208626,
       "style": "IPY_MODEL_5fff449d670c4f41a312f96ee7ad14c9",
       "value": 0.000536508714208626
      }
     },
     "2a74f371dbb144e68ed99e08cfec9495": {
      "model_module": "@jupyter-widgets/controls",
      "model_module_version": "1.5.0",
      "model_name": "HTMLModel",
      "state": {
       "layout": "IPY_MODEL_175e0de124ac4ae7a07a1a756a6e5d80",
       "style": "IPY_MODEL_1c1f9e206a3546ce83b79f2e21c8e595",
       "value": " 4/4 [00:27&lt;00:00,  6.83s/it]"
      }
     },
     "2fbd76d23aae4f588cad735601945505": {
      "model_module": "@jupyter-widgets/base",
      "model_module_version": "1.2.0",
      "model_name": "LayoutModel",
      "state": {}
     },
     "2fc8df6ebb1b4657a0ce9500ec5aff69": {
      "model_module": "@jupyter-widgets/controls",
      "model_module_version": "1.5.0",
      "model_name": "HTMLModel",
      "state": {
       "layout": "IPY_MODEL_414cfa7dbed04b2cb09c775c3f5d644b",
       "style": "IPY_MODEL_683360e6d0e744208625cc5f7ef9b314",
       "value": "File download:  75%"
      }
     },
     "309f5a160c3a4b9b96bc7567fb43fbbc": {
      "model_module": "@jupyter-widgets/base",
      "model_module_version": "1.2.0",
      "model_name": "LayoutModel",
      "state": {}
     },
     "31c2aa58cbaa45a98d952fc825102d23": {
      "model_module": "@jupyter-widgets/controls",
      "model_module_version": "1.5.0",
      "model_name": "HTMLModel",
      "state": {
       "layout": "IPY_MODEL_1a21b17a23f546fdb973ea143b94cd85",
       "style": "IPY_MODEL_151e0f6799544f83be4a387a3292ad3f",
       "value": "File download:   0%"
      }
     },
     "363e8fcc2bfd474494438280fc9a539b": {
      "model_module": "@jupyter-widgets/base",
      "model_module_version": "1.2.0",
      "model_name": "LayoutModel",
      "state": {
       "width": "60%"
      }
     },
     "3820535f78134df08bc4368242eccc24": {
      "model_module": "@jupyter-widgets/controls",
      "model_module_version": "1.5.0",
      "model_name": "FloatProgressModel",
      "state": {
       "bar_style": "success",
       "layout": "IPY_MODEL_9ce8556840a045618400e4bf91a216f7",
       "max": 3,
       "style": "IPY_MODEL_cbc84eca4fb0459ebd62765c0170b187",
       "value": 3
      }
     },
     "38c46ba6f58543b8b7d28ff479800a47": {
      "model_module": "@jupyter-widgets/base",
      "model_module_version": "1.2.0",
      "model_name": "LayoutModel",
      "state": {}
     },
     "391177c1a782421fae9513d59308e8a1": {
      "model_module": "@jupyter-widgets/controls",
      "model_module_version": "1.5.0",
      "model_name": "TextModel",
      "state": {
       "description": "Query start time (UTC):",
       "layout": "IPY_MODEL_45a66484bffa4bea97e186becd3cf2f0",
       "style": "IPY_MODEL_f4ae48e6889e498988f8141e200c6229",
       "value": "2020-07-06 00:00:00"
      }
     },
     "3a1c0b7411e34c49a79b8aeb355035f5": {
      "model_module": "@jupyter-widgets/base",
      "model_module_version": "1.2.0",
      "model_name": "LayoutModel",
      "state": {}
     },
     "3a5905a3941e42339ec330c1b79625d6": {
      "model_module": "@jupyter-widgets/base",
      "model_module_version": "1.2.0",
      "model_name": "LayoutModel",
      "state": {}
     },
     "3a8f4cbe83844cba8da4640c02ce30b7": {
      "model_module": "@jupyter-widgets/base",
      "model_module_version": "1.2.0",
      "model_name": "LayoutModel",
      "state": {}
     },
     "3bf152f64d6a48cb8f2329bc2dd7005e": {
      "model_module": "@jupyter-widgets/controls",
      "model_module_version": "1.5.0",
      "model_name": "HTMLModel",
      "state": {
       "layout": "IPY_MODEL_db03b7ceedf5429896d9c0578368b82b",
       "style": "IPY_MODEL_8e619e694f3a4edab3add0827a533d59",
       "value": " 3/3 [17:22&lt;00:00, 347.40s/it]"
      }
     },
     "3c91d5ef09c140f7ac210f989ac3c2e3": {
      "model_module": "@jupyter-widgets/controls",
      "model_module_version": "1.5.0",
      "model_name": "DescriptionStyleModel",
      "state": {
       "description_width": "initial"
      }
     },
     "3ddcf603ac864a1fba89f43a5d727542": {
      "model_module": "@jupyter-widgets/controls",
      "model_module_version": "1.5.0",
      "model_name": "FloatProgressModel",
      "state": {
       "bar_style": "danger",
       "layout": "IPY_MODEL_be26f3db1b754793a38c2ef28e0ce38d",
       "max": 4,
       "style": "IPY_MODEL_515be966adc5440c91ab3a8d2e290cf5",
       "value": 3
      }
     },
     "3f8357d98f8b45f4b9036206d241854b": {
      "model_module": "@jupyter-widgets/controls",
      "model_module_version": "1.5.0",
      "model_name": "FloatSliderModel",
      "state": {
       "description": "Select likelihood threshold",
       "layout": "IPY_MODEL_e809e485ed014437a0bfc762fc945632",
       "max": 0.010681888131276969,
       "min": 2.5413764681869644e-06,
       "readout_format": ".7f",
       "step": 0.000536508714208626,
       "style": "IPY_MODEL_b5f1eae0a3a141e58a80bc5ee3c81fab",
       "value": 0.000536508714208626
      }
     },
     "414cfa7dbed04b2cb09c775c3f5d644b": {
      "model_module": "@jupyter-widgets/base",
      "model_module_version": "1.2.0",
      "model_name": "LayoutModel",
      "state": {}
     },
     "42276c8a9a2540999cdc92573c6c5dcc": {
      "model_module": "@jupyter-widgets/base",
      "model_module_version": "1.2.0",
      "model_name": "LayoutModel",
      "state": {}
     },
     "45a66484bffa4bea97e186becd3cf2f0": {
      "model_module": "@jupyter-widgets/base",
      "model_module_version": "1.2.0",
      "model_name": "LayoutModel",
      "state": {
       "width": "50%"
      }
     },
     "46b233fe78994e81b819d06fea6f7dbd": {
      "model_module": "@jupyter-widgets/controls",
      "model_module_version": "1.5.0",
      "model_name": "FloatSliderModel",
      "state": {
       "description": "Select threshold",
       "layout": "IPY_MODEL_1acf972e32124049aaf9538fa925aeed",
       "max": 0.010681888131276969,
       "min": 2.5413764681869644e-06,
       "readout_format": ".7f",
       "step": 0.000536508714208626,
       "style": "IPY_MODEL_86f856e98cbf42f79bb870c30080545a",
       "value": 0.000536508714208626
      }
     },
     "49340d294b2447a180d5ae129ebf93bb": {
      "model_module": "@jupyter-widgets/base",
      "model_module_version": "1.2.0",
      "model_name": "LayoutModel",
      "state": {}
     },
     "4a3f72b089be4f5eba2c961accdab7ab": {
      "model_module": "@jupyter-widgets/controls",
      "model_module_version": "1.5.0",
      "model_name": "DescriptionStyleModel",
      "state": {
       "description_width": ""
      }
     },
     "4e02b6f293f244fca6cf51a0073e43e4": {
      "model_module": "@jupyter-widgets/controls",
      "model_module_version": "1.5.0",
      "model_name": "DescriptionStyleModel",
      "state": {
       "description_width": ""
      }
     },
     "50244a688044452ba376c77f7f79464a": {
      "model_module": "@jupyter-widgets/controls",
      "model_module_version": "1.5.0",
      "model_name": "DescriptionStyleModel",
      "state": {
       "description_width": ""
      }
     },
     "50439a0ccce643fb9354b0c00614062c": {
      "model_module": "@jupyter-widgets/controls",
      "model_module_version": "1.5.0",
      "model_name": "SliderStyleModel",
      "state": {
       "description_width": "200px"
      }
     },
     "515be966adc5440c91ab3a8d2e290cf5": {
      "model_module": "@jupyter-widgets/controls",
      "model_module_version": "1.5.0",
      "model_name": "ProgressStyleModel",
      "state": {
       "description_width": ""
      }
     },
     "52195606ccda4af0b82fe68afde6e582": {
      "model_module": "@jupyter-widgets/controls",
      "model_module_version": "1.5.0",
      "model_name": "IntRangeSliderModel",
      "state": {
       "_model_name": "IntRangeSliderModel",
       "_view_name": "IntRangeSliderView",
       "description": "Time Range (week):",
       "layout": "IPY_MODEL_bc826c168ec54eb0b9f3cb56bc75e090",
       "max": 4,
       "min": -4,
       "style": "IPY_MODEL_6563ae3f348244a5a41905e368bd6890",
       "value": [
        -1,
        1
       ]
      }
     },
     "53ad3d9fb9f5477aaf57273d54661ff1": {
      "model_module": "@jupyter-widgets/base",
      "model_module_version": "1.2.0",
      "model_name": "LayoutModel",
      "state": {}
     },
     "53ddc24d4c664679b22424fe66f6aaa1": {
      "model_module": "@jupyter-widgets/base",
      "model_module_version": "1.2.0",
      "model_name": "LayoutModel",
      "state": {}
     },
     "575ac9fe6e1c4124994c2ee2808627c0": {
      "model_module": "@jupyter-widgets/controls",
      "model_module_version": "1.5.0",
      "model_name": "SliderStyleModel",
      "state": {
       "description_width": "200px"
      }
     },
     "583a180b28824282a60707b95b1860d9": {
      "model_module": "@jupyter-widgets/controls",
      "model_module_version": "1.5.0",
      "model_name": "HBoxModel",
      "state": {
       "children": [
        "IPY_MODEL_0e686c209fcd4fe1974f37c6fe6d807f",
        "IPY_MODEL_a3aac8c696904f928ea9652583128821",
        "IPY_MODEL_2a74f371dbb144e68ed99e08cfec9495"
       ],
       "layout": "IPY_MODEL_53ddc24d4c664679b22424fe66f6aaa1"
      }
     },
     "590b009702d74ee5aeb8eb995382d8af": {
      "model_module": "@jupyter-widgets/controls",
      "model_module_version": "1.5.0",
      "model_name": "SliderStyleModel",
      "state": {
       "description_width": "200px"
      }
     },
     "59132167a5c9487987dd08706580d83f": {
      "model_module": "@jupyter-widgets/controls",
      "model_module_version": "1.5.0",
      "model_name": "FloatSliderModel",
      "state": {
       "description": "Select threshold",
       "layout": "IPY_MODEL_72e7f44999af4aefb78809f5a4e37ff9",
       "max": 0.010681888131276969,
       "min": 2.5413764681869644e-06,
       "readout_format": ".7f",
       "step": 0.000536508714208626,
       "style": "IPY_MODEL_0bcbf7a99db64d6385e73eff8e6458d6",
       "value": 0.00322
      }
     },
     "5a522082f16e490d8d51fcd27457e4de": {
      "model_module": "@jupyter-widgets/controls",
      "model_module_version": "1.5.0",
      "model_name": "DescriptionStyleModel",
      "state": {
       "description_width": ""
      }
     },
     "5b673118e1a84846b64b997152f5d946": {
      "model_module": "@jupyter-widgets/base",
      "model_module_version": "1.2.0",
      "model_name": "LayoutModel",
      "state": {}
     },
     "5bd106ad09a2433baa3270f115b2cded": {
      "model_module": "@jupyter-widgets/base",
      "model_module_version": "1.2.0",
      "model_name": "LayoutModel",
      "state": {}
     },
     "5c577aca79714a2c8c982ccc1e59ce73": {
      "model_module": "@jupyter-widgets/controls",
      "model_module_version": "1.5.0",
      "model_name": "ProgressStyleModel",
      "state": {
       "description_width": ""
      }
     },
     "5d322ad854e244a19e3a4e1fde071dc5": {
      "model_module": "@jupyter-widgets/controls",
      "model_module_version": "1.5.0",
      "model_name": "FloatProgressModel",
      "state": {
       "bar_style": "success",
       "layout": "IPY_MODEL_6cf10b861ca84c458acfb5c3a393f848",
       "max": 3,
       "style": "IPY_MODEL_e592c1c6a56543058fe3f0d22f7d4b8a",
       "value": 3
      }
     },
     "5dedaa52499e4f4f9382a783da06613a": {
      "model_module": "@jupyter-widgets/controls",
      "model_module_version": "1.5.0",
      "model_name": "HTMLModel",
      "state": {
       "layout": "IPY_MODEL_24305f2a4c084ff0960dd7c448c69fa8",
       "style": "IPY_MODEL_cf966946c03e400fa797a55d02756198",
       "value": " 3/3 [17:35&lt;00:00, 351.76s/it]"
      }
     },
     "5fff449d670c4f41a312f96ee7ad14c9": {
      "model_module": "@jupyter-widgets/controls",
      "model_module_version": "1.5.0",
      "model_name": "SliderStyleModel",
      "state": {
       "description_width": "200px"
      }
     },
     "61b3743bdd664f9a99d900b86f39a69b": {
      "model_module": "@jupyter-widgets/controls",
      "model_module_version": "1.5.0",
      "model_name": "DescriptionStyleModel",
      "state": {
       "description_width": "initial"
      }
     },
     "6226d0b4f82a458f9224a5f1232aaa82": {
      "model_module": "@jupyter-widgets/controls",
      "model_module_version": "1.5.0",
      "model_name": "SliderStyleModel",
      "state": {
       "description_width": "200px"
      }
     },
     "64f5ca80286f4552a1829f0533b41287": {
      "model_module": "@jupyter-widgets/base",
      "model_module_version": "1.2.0",
      "model_name": "LayoutModel",
      "state": {
       "width": "60%"
      }
     },
     "6563ae3f348244a5a41905e368bd6890": {
      "model_module": "@jupyter-widgets/controls",
      "model_module_version": "1.5.0",
      "model_name": "SliderStyleModel",
      "state": {
       "description_width": "initial"
      }
     },
     "666ae3b7259c436bbd99364e7efcd232": {
      "model_module": "@jupyter-widgets/controls",
      "model_module_version": "1.5.0",
      "model_name": "DescriptionStyleModel",
      "state": {
       "description_width": ""
      }
     },
     "683360e6d0e744208625cc5f7ef9b314": {
      "model_module": "@jupyter-widgets/controls",
      "model_module_version": "1.5.0",
      "model_name": "DescriptionStyleModel",
      "state": {
       "description_width": ""
      }
     },
     "685458a99a444f048f3e7d5331114bf0": {
      "model_module": "@jupyter-widgets/controls",
      "model_module_version": "1.5.0",
      "model_name": "FloatProgressModel",
      "state": {
       "bar_style": "danger",
       "layout": "IPY_MODEL_7ab497a546cc44a4a77e21f192404bd8",
       "max": 4,
       "style": "IPY_MODEL_72cf4f94007d449e927a0612bcd4abed"
      }
     },
     "69b7227639b9418799b5db73745ac48d": {
      "model_module": "@jupyter-widgets/controls",
      "model_module_version": "1.5.0",
      "model_name": "FloatSliderModel",
      "state": {
       "description": "Select likelihood threshold",
       "layout": "IPY_MODEL_1fe081914ac74e0bbcded0b85a1fbc1c",
       "max": 0.010681888131276969,
       "min": 2.5413764681869644e-06,
       "readout_format": ".7f",
       "step": 0.000536508714208626,
       "style": "IPY_MODEL_1f0d3a421ff744ee8f73666e95bbaa58",
       "value": 0.00322
      }
     },
     "6aab5292b5ae4e8c95563a4454d306ff": {
      "model_module": "@jupyter-widgets/base",
      "model_module_version": "1.2.0",
      "model_name": "LayoutModel",
      "state": {
       "width": "60%"
      }
     },
     "6b7939f7e8b54107aba616899c90a2f6": {
      "model_module": "@jupyter-widgets/controls",
      "model_module_version": "1.5.0",
      "model_name": "HTMLModel",
      "state": {
       "layout": "IPY_MODEL_0569e669baea4a1d984a45b6272ccf51",
       "style": "IPY_MODEL_b8c9e08918b6492890c4dd2f51c66ef3",
       "value": "File download: 100%"
      }
     },
     "6cf10b861ca84c458acfb5c3a393f848": {
      "model_module": "@jupyter-widgets/base",
      "model_module_version": "1.2.0",
      "model_name": "LayoutModel",
      "state": {}
     },
     "6f9fea405c964ca29842944af002ba48": {
      "model_module": "@jupyter-widgets/base",
      "model_module_version": "1.2.0",
      "model_name": "LayoutModel",
      "state": {
       "width": "80%"
      }
     },
     "7054b32a5ffc4fcda77eb6a1c4634a35": {
      "model_module": "@jupyter-widgets/controls",
      "model_module_version": "1.5.0",
      "model_name": "FloatProgressModel",
      "state": {
       "bar_style": "success",
       "layout": "IPY_MODEL_eeb2bd8a5b3f4ba8be29cdef86013571",
       "max": 3,
       "style": "IPY_MODEL_5c577aca79714a2c8c982ccc1e59ce73",
       "value": 3
      }
     },
     "7178b5479900499fba0d758ea66578df": {
      "model_module": "@jupyter-widgets/controls",
      "model_module_version": "1.5.0",
      "model_name": "FloatSliderModel",
      "state": {
       "description": "Select likelihood threshold",
       "layout": "IPY_MODEL_a6805c77c8474b4a851dcec2fdf18a6e",
       "max": 0.010681888131276969,
       "min": 2.5413764681869644e-06,
       "readout_format": ".7f",
       "step": 0.000536508714208626,
       "style": "IPY_MODEL_590b009702d74ee5aeb8eb995382d8af",
       "value": 0.000536508714208626
      }
     },
     "72cf4f94007d449e927a0612bcd4abed": {
      "model_module": "@jupyter-widgets/controls",
      "model_module_version": "1.5.0",
      "model_name": "ProgressStyleModel",
      "state": {
       "description_width": ""
      }
     },
     "72e7f44999af4aefb78809f5a4e37ff9": {
      "model_module": "@jupyter-widgets/base",
      "model_module_version": "1.2.0",
      "model_name": "LayoutModel",
      "state": {
       "width": "60%"
      }
     },
     "7354924109f24fc6bcc0609b51a42b43": {
      "model_module": "@jupyter-widgets/controls",
      "model_module_version": "1.5.0",
      "model_name": "DescriptionStyleModel",
      "state": {
       "description_width": ""
      }
     },
     "77d5ac6437ab4c9fae84f04460091a73": {
      "model_module": "@jupyter-widgets/base",
      "model_module_version": "1.2.0",
      "model_name": "LayoutModel",
      "state": {
       "width": "60%"
      }
     },
     "798fa88aee394094991ca2469b76cc6e": {
      "model_module": "@jupyter-widgets/controls",
      "model_module_version": "1.5.0",
      "model_name": "TextModel",
      "state": {
       "description": "Query end time (UTC) :  ",
       "layout": "IPY_MODEL_7b50cec4b67c43bd90f8e420487b45d1",
       "style": "IPY_MODEL_61b3743bdd664f9a99d900b86f39a69b",
       "value": "2020-07-20 00:00:00"
      }
     },
     "7ab497a546cc44a4a77e21f192404bd8": {
      "model_module": "@jupyter-widgets/base",
      "model_module_version": "1.2.0",
      "model_name": "LayoutModel",
      "state": {}
     },
     "7b50cec4b67c43bd90f8e420487b45d1": {
      "model_module": "@jupyter-widgets/base",
      "model_module_version": "1.2.0",
      "model_name": "LayoutModel",
      "state": {
       "width": "50%"
      }
     },
     "7b98021945b245ea94c36ca9a8da17af": {
      "model_module": "@jupyter-widgets/base",
      "model_module_version": "1.2.0",
      "model_name": "LayoutModel",
      "state": {}
     },
     "7b9ec9b0c91048b28a5b69813652b039": {
      "model_module": "@jupyter-widgets/controls",
      "model_module_version": "1.5.0",
      "model_name": "SliderStyleModel",
      "state": {
       "description_width": "200px"
      }
     },
     "81ccfb62dfe2422395aaa744d69c6c1a": {
      "model_module": "@jupyter-widgets/controls",
      "model_module_version": "1.5.0",
      "model_name": "FloatSliderModel",
      "state": {
       "description": "Select threshold",
       "layout": "IPY_MODEL_820fc9f8f13243e393bfe129ab862466",
       "max": 0.010681888131276969,
       "min": 2.5413764681869644e-06,
       "readout_format": ".7f",
       "step": 0.000536508714208626,
       "style": "IPY_MODEL_e9d6e085d0444da0ba92bfa5f9fb1f5d",
       "value": 0.000536508714208626
      }
     },
     "820fc9f8f13243e393bfe129ab862466": {
      "model_module": "@jupyter-widgets/base",
      "model_module_version": "1.2.0",
      "model_name": "LayoutModel",
      "state": {
       "width": "60%"
      }
     },
     "82224b57e1ec42118fbbdf64cdd779da": {
      "model_module": "@jupyter-widgets/base",
      "model_module_version": "1.2.0",
      "model_name": "LayoutModel",
      "state": {}
     },
     "83a540e07fba44f4b8bc1e60db8d8d75": {
      "model_module": "@jupyter-widgets/controls",
      "model_module_version": "1.5.0",
      "model_name": "HTMLModel",
      "state": {
       "layout": "IPY_MODEL_3a8f4cbe83844cba8da4640c02ce30b7",
       "style": "IPY_MODEL_b6ecaba193934d80aa7561a097771a88",
       "value": " 0/4 [01:18&lt;?, ?it/s]"
      }
     },
     "85e79a58931647e6b160effd18ef8621": {
      "model_module": "@jupyter-widgets/controls",
      "model_module_version": "1.5.0",
      "model_name": "FloatSliderModel",
      "state": {
       "description": "Select threshold",
       "layout": "IPY_MODEL_f2f9accb33f348a5a5a46ebebb9f8670",
       "max": 0.010681888131276969,
       "min": 2.5413764681869644e-06,
       "readout_format": ".7f",
       "step": 0.000536508714208626,
       "style": "IPY_MODEL_233e8c2562184cc88df12915e7c0950b",
       "value": 0.000536508714208626
      }
     },
     "8661028323cd4438bf1d192a39b0e017": {
      "model_module": "@jupyter-widgets/controls",
      "model_module_version": "1.5.0",
      "model_name": "TextModel",
      "state": {
       "description": "Time (24hr)",
       "layout": "IPY_MODEL_5bd106ad09a2433baa3270f115b2cded",
       "style": "IPY_MODEL_da8a3f65d5404995bbceb2c453ecb615",
       "value": "00:00:00"
      }
     },
     "86f856e98cbf42f79bb870c30080545a": {
      "model_module": "@jupyter-widgets/controls",
      "model_module_version": "1.5.0",
      "model_name": "SliderStyleModel",
      "state": {
       "description_width": "100px"
      }
     },
     "89096ae2bac24c41a024895011358d8a": {
      "model_module": "@jupyter-widgets/base",
      "model_module_version": "1.2.0",
      "model_name": "LayoutModel",
      "state": {}
     },
     "8a9ff3e13eab45199bba522518d8fe57": {
      "model_module": "@jupyter-widgets/base",
      "model_module_version": "1.2.0",
      "model_name": "LayoutModel",
      "state": {
       "width": "60%"
      }
     },
     "8bb844e50bd5473b80c765d8ab641ab9": {
      "model_module": "@jupyter-widgets/controls",
      "model_module_version": "1.5.0",
      "model_name": "SliderStyleModel",
      "state": {
       "description_width": "200px"
      }
     },
     "8d5cfc05d99f4f0ba69387d154ac83cd": {
      "model_module": "@jupyter-widgets/controls",
      "model_module_version": "1.5.0",
      "model_name": "FloatSliderModel",
      "state": {
       "description": "Select likelihood threshold",
       "layout": "IPY_MODEL_64f5ca80286f4552a1829f0533b41287",
       "max": 0.010681888131276969,
       "min": 2.5413764681869644e-06,
       "readout_format": ".7f",
       "step": 0.000536508714208626,
       "style": "IPY_MODEL_7b9ec9b0c91048b28a5b69813652b039",
       "value": 0.000536508714208626
      }
     },
     "8d72456e90934e65b3fa6b46661f50f9": {
      "model_module": "@jupyter-widgets/base",
      "model_module_version": "1.2.0",
      "model_name": "LayoutModel",
      "state": {
       "width": "50%"
      }
     },
     "8e619e694f3a4edab3add0827a533d59": {
      "model_module": "@jupyter-widgets/controls",
      "model_module_version": "1.5.0",
      "model_name": "DescriptionStyleModel",
      "state": {
       "description_width": ""
      }
     },
     "8fab589e5a114c90a61ccc36d4dede27": {
      "model_module": "@jupyter-widgets/controls",
      "model_module_version": "1.5.0",
      "model_name": "HTMLModel",
      "state": {
       "layout": "IPY_MODEL_2fbd76d23aae4f588cad735601945505",
       "style": "IPY_MODEL_0eb2f8243ab6409c972a15cae54c8f48",
       "value": "File download:   0%"
      }
     },
     "8ffd930090764615bcdc9a4076e51885": {
      "model_module": "@jupyter-widgets/controls",
      "model_module_version": "1.5.0",
      "model_name": "ProgressStyleModel",
      "state": {
       "description_width": ""
      }
     },
     "924cbf4b807440e9aa3d50f7d3f828ab": {
      "model_module": "@jupyter-widgets/controls",
      "model_module_version": "1.5.0",
      "model_name": "DescriptionStyleModel",
      "state": {
       "description_width": "initial"
      }
     },
     "92c6e9d6cfd94cfebfd532f5610a6177": {
      "model_module": "@jupyter-widgets/controls",
      "model_module_version": "1.5.0",
      "model_name": "FloatProgressModel",
      "state": {
       "bar_style": "danger",
       "layout": "IPY_MODEL_04b56828377a458d989760bbe16fed39",
       "max": 4,
       "style": "IPY_MODEL_ee555cb73d014b329ace0626ed7ba99a"
      }
     },
     "971efc9fdfbf473e8da4280896ffeb1f": {
      "model_module": "@jupyter-widgets/controls",
      "model_module_version": "1.5.0",
      "model_name": "HTMLModel",
      "state": {
       "layout": "IPY_MODEL_02eccdc2cfea476ba469053f75af907d",
       "style": "IPY_MODEL_9889d166b5e24e73bcc3aa368cb3ed55",
       "value": " 3/4 [00:18&lt;00:06,  6.29s/it]"
      }
     },
     "9889d166b5e24e73bcc3aa368cb3ed55": {
      "model_module": "@jupyter-widgets/controls",
      "model_module_version": "1.5.0",
      "model_name": "DescriptionStyleModel",
      "state": {
       "description_width": ""
      }
     },
     "997e9ea682d946e588a1c4a68d30f2e9": {
      "model_module": "@jupyter-widgets/controls",
      "model_module_version": "1.5.0",
      "model_name": "DescriptionStyleModel",
      "state": {
       "description_width": ""
      }
     },
     "99ac57d7976a48d48e3eff8b4cc19c58": {
      "model_module": "@jupyter-widgets/controls",
      "model_module_version": "1.5.0",
      "model_name": "HBoxModel",
      "state": {
       "children": [
        "IPY_MODEL_bd3df511c7c740e1ae9197353ce6d8e0",
        "IPY_MODEL_b6cb4cd57c4940449c2b7eef144a4f5d",
        "IPY_MODEL_dbd3eb0c17d14b7abea89d731eb4b8f1"
       ],
       "layout": "IPY_MODEL_89096ae2bac24c41a024895011358d8a"
      }
     },
     "9b7ec062d2d04ecd84926c90cb1442af": {
      "model_module": "@jupyter-widgets/controls",
      "model_module_version": "1.5.0",
      "model_name": "HBoxModel",
      "state": {
       "children": [
        "IPY_MODEL_076dc6eaf5394b0faef7e91f3da3538e",
        "IPY_MODEL_8661028323cd4438bf1d192a39b0e017"
       ],
       "layout": "IPY_MODEL_25fcb837e76d4fbd9099f4d47b392d45"
      }
     },
     "9ce8556840a045618400e4bf91a216f7": {
      "model_module": "@jupyter-widgets/base",
      "model_module_version": "1.2.0",
      "model_name": "LayoutModel",
      "state": {}
     },
     "9db3e9fcc35b451b9e5f4bf4529f7417": {
      "model_module": "@jupyter-widgets/controls",
      "model_module_version": "1.5.0",
      "model_name": "HBoxModel",
      "state": {
       "children": [
        "IPY_MODEL_6b7939f7e8b54107aba616899c90a2f6",
        "IPY_MODEL_3820535f78134df08bc4368242eccc24",
        "IPY_MODEL_5dedaa52499e4f4f9382a783da06613a"
       ],
       "layout": "IPY_MODEL_3a5905a3941e42339ec330c1b79625d6"
      }
     },
     "a03c02ea14554fb5ae4edd65bf40f1b8": {
      "model_module": "@jupyter-widgets/controls",
      "model_module_version": "1.5.0",
      "model_name": "TextModel",
      "state": {
       "description": "Query end time (UTC) :  ",
       "layout": "IPY_MODEL_ca82ceaf062e436daa94b210bc63ec1b",
       "style": "IPY_MODEL_3c91d5ef09c140f7ac210f989ac3c2e3",
       "value": "2020-07-20 00:00:00"
      }
     },
     "a0f731d3cf1d467699dd4f176e28ddbb": {
      "model_module": "@jupyter-widgets/base",
      "model_module_version": "1.2.0",
      "model_name": "LayoutModel",
      "state": {}
     },
     "a11f231ca55e4054a9e619b28570a708": {
      "model_module": "@jupyter-widgets/base",
      "model_module_version": "1.2.0",
      "model_name": "LayoutModel",
      "state": {}
     },
     "a3aac8c696904f928ea9652583128821": {
      "model_module": "@jupyter-widgets/controls",
      "model_module_version": "1.5.0",
      "model_name": "FloatProgressModel",
      "state": {
       "bar_style": "success",
       "layout": "IPY_MODEL_ee5391a8476b464b98748abd6f0fd963",
       "max": 4,
       "style": "IPY_MODEL_8ffd930090764615bcdc9a4076e51885",
       "value": 4
      }
     },
     "a4718033cbdd4f9d888326998ea8e1c1": {
      "model_module": "@jupyter-widgets/controls",
      "model_module_version": "1.5.0",
      "model_name": "HBoxModel",
      "state": {
       "children": [
        "IPY_MODEL_31c2aa58cbaa45a98d952fc825102d23",
        "IPY_MODEL_24fe89f4be2248d392d283c8ce64f4a7",
        "IPY_MODEL_af76df5a81054129970a728927e9e5cc"
       ],
       "layout": "IPY_MODEL_0ac5460f97d04540ac69826b206365b3"
      }
     },
     "a4d7396734ab46e1a0318276c83a6b35": {
      "model_module": "@jupyter-widgets/base",
      "model_module_version": "1.2.0",
      "model_name": "LayoutModel",
      "state": {
       "width": "60%"
      }
     },
     "a6805c77c8474b4a851dcec2fdf18a6e": {
      "model_module": "@jupyter-widgets/base",
      "model_module_version": "1.2.0",
      "model_name": "LayoutModel",
      "state": {
       "width": "60%"
      }
     },
     "a7bb62f427b84a97ae26aee8d7194e26": {
      "model_module": "@jupyter-widgets/controls",
      "model_module_version": "1.5.0",
      "model_name": "HBoxModel",
      "state": {
       "children": [
        "IPY_MODEL_c1a6963914224c30adebb660e158716d",
        "IPY_MODEL_fc155f1c76cd410faf766cbe2d4922e2"
       ],
       "layout": "IPY_MODEL_05942c6f0fe445c9a2df7599102a8c7c"
      }
     },
     "a965ac57ebbf4f5896e82862edbef6ba": {
      "model_module": "@jupyter-widgets/controls",
      "model_module_version": "1.5.0",
      "model_name": "HTMLModel",
      "state": {
       "layout": "IPY_MODEL_db50bbf5ff5b49c8bba1d7888f8f60a4",
       "style": "IPY_MODEL_083e3eafac304fe2a981300c56757fbc",
       "value": " 0/4 [02:43&lt;?, ?it/s]"
      }
     },
     "ab6dd7ccc8cc4be6b3246ae6fe93fb00": {
      "model_module": "@jupyter-widgets/base",
      "model_module_version": "1.2.0",
      "model_name": "LayoutModel",
      "state": {}
     },
     "abdf2b995dc84b5aa4cc21f8bf533302": {
      "model_module": "@jupyter-widgets/controls",
      "model_module_version": "1.5.0",
      "model_name": "FloatSliderModel",
      "state": {
       "description": "Select likelihood threshold",
       "layout": "IPY_MODEL_1754a2bc7c9d40cca1e4ec406977990f",
       "max": 0.010681888131276969,
       "min": 2.5413764681869644e-06,
       "readout_format": ".7f",
       "step": 0.000536508714208626,
       "style": "IPY_MODEL_b93e1cdf056e43e6b2eb768174a367ed",
       "value": 0.000536508714208626
      }
     },
     "aec1545a6e074e5e8140d789be8ac57b": {
      "model_module": "@jupyter-widgets/base",
      "model_module_version": "1.2.0",
      "model_name": "LayoutModel",
      "state": {}
     },
     "af76df5a81054129970a728927e9e5cc": {
      "model_module": "@jupyter-widgets/controls",
      "model_module_version": "1.5.0",
      "model_name": "HTMLModel",
      "state": {
       "layout": "IPY_MODEL_fe29a98085e94f82aea8c4805e50f0f9",
       "style": "IPY_MODEL_666ae3b7259c436bbd99364e7efcd232",
       "value": " 0/4 [00:46&lt;?, ?it/s]"
      }
     },
     "b02b7e4185bc4696b03a39138f648dc9": {
      "model_module": "@jupyter-widgets/controls",
      "model_module_version": "1.5.0",
      "model_name": "FloatSliderModel",
      "state": {
       "description": "Select likelihood threshold",
       "layout": "IPY_MODEL_23221b0bce924232b645d88d6733679f",
       "max": 0.010681888131276969,
       "min": 2.5413764681869644e-06,
       "readout_format": ".7f",
       "step": 0.000536508714208626,
       "style": "IPY_MODEL_575ac9fe6e1c4124994c2ee2808627c0",
       "value": 0.000536508714208626
      }
     },
     "b3cf29f92aba4c939100a3d0804c4db0": {
      "model_module": "@jupyter-widgets/controls",
      "model_module_version": "1.5.0",
      "model_name": "HTMLModel",
      "state": {
       "layout": "IPY_MODEL_309f5a160c3a4b9b96bc7567fb43fbbc",
       "style": "IPY_MODEL_5a522082f16e490d8d51fcd27457e4de",
       "value": "Files: 100%"
      }
     },
     "b4a65b34bc0d455b9c59549e1ce1e607": {
      "model_module": "@jupyter-widgets/controls",
      "model_module_version": "1.5.0",
      "model_name": "IntRangeSliderModel",
      "state": {
       "_model_name": "IntRangeSliderModel",
       "_view_name": "IntRangeSliderView",
       "description": "Time Range (week):",
       "layout": "IPY_MODEL_6f9fea405c964ca29842944af002ba48",
       "max": 4,
       "min": -4,
       "style": "IPY_MODEL_d7e1de2a3fdd48fdace7a23db895595d",
       "value": [
        -1,
        1
       ]
      }
     },
     "b5f1eae0a3a141e58a80bc5ee3c81fab": {
      "model_module": "@jupyter-widgets/controls",
      "model_module_version": "1.5.0",
      "model_name": "SliderStyleModel",
      "state": {
       "description_width": "100px"
      }
     },
     "b6cb4cd57c4940449c2b7eef144a4f5d": {
      "model_module": "@jupyter-widgets/controls",
      "model_module_version": "1.5.0",
      "model_name": "FloatProgressModel",
      "state": {
       "bar_style": "danger",
       "layout": "IPY_MODEL_24391c700f054d72830af07eabdb18e3",
       "max": 4,
       "style": "IPY_MODEL_2648342388f048dea2b7a5b8996bec24",
       "value": 1
      }
     },
     "b6ecaba193934d80aa7561a097771a88": {
      "model_module": "@jupyter-widgets/controls",
      "model_module_version": "1.5.0",
      "model_name": "DescriptionStyleModel",
      "state": {
       "description_width": ""
      }
     },
     "b70ad6217dfb4d2f9f524bb221d50154": {
      "model_module": "@jupyter-widgets/controls",
      "model_module_version": "1.5.0",
      "model_name": "FloatSliderModel",
      "state": {
       "description": "Select threshold",
       "layout": "IPY_MODEL_77d5ac6437ab4c9fae84f04460091a73",
       "max": 0.010681888131276969,
       "min": 2.5413764681869644e-06,
       "readout_format": ".7f",
       "step": 0.000536508714208626,
       "style": "IPY_MODEL_285472b6972d4e99a9c96862fe01d113",
       "value": 0.000536508714208626
      }
     },
     "b8c9e08918b6492890c4dd2f51c66ef3": {
      "model_module": "@jupyter-widgets/controls",
      "model_module_version": "1.5.0",
      "model_name": "DescriptionStyleModel",
      "state": {
       "description_width": ""
      }
     },
     "b93e1cdf056e43e6b2eb768174a367ed": {
      "model_module": "@jupyter-widgets/controls",
      "model_module_version": "1.5.0",
      "model_name": "SliderStyleModel",
      "state": {
       "description_width": "200px"
      }
     },
     "bc826c168ec54eb0b9f3cb56bc75e090": {
      "model_module": "@jupyter-widgets/base",
      "model_module_version": "1.2.0",
      "model_name": "LayoutModel",
      "state": {
       "width": "80%"
      }
     },
     "bd2fdeaba83d42eaacce99b2ddfeeb1f": {
      "model_module": "@jupyter-widgets/controls",
      "model_module_version": "1.5.0",
      "model_name": "FloatSliderModel",
      "state": {
       "description": "Select likelihood threshold",
       "layout": "IPY_MODEL_e856b869121245629d61372ce3fa167d",
       "max": 0.010681888131276969,
       "min": 2.5413764681869644e-06,
       "readout_format": ".7f",
       "step": 0.000536508714208626,
       "style": "IPY_MODEL_8bb844e50bd5473b80c765d8ab641ab9",
       "value": 0.000536508714208626
      }
     },
     "bd3df511c7c740e1ae9197353ce6d8e0": {
      "model_module": "@jupyter-widgets/controls",
      "model_module_version": "1.5.0",
      "model_name": "HTMLModel",
      "state": {
       "layout": "IPY_MODEL_53ad3d9fb9f5477aaf57273d54661ff1",
       "style": "IPY_MODEL_4e02b6f293f244fca6cf51a0073e43e4",
       "value": "File download:  25%"
      }
     },
     "bdd6ef645d37421bbf5bde5b25a81b12": {
      "model_module": "@jupyter-widgets/controls",
      "model_module_version": "1.5.0",
      "model_name": "VBoxModel",
      "state": {
       "children": [
        "IPY_MODEL_52195606ccda4af0b82fe68afde6e582",
        "IPY_MODEL_eb3524dea26843d3ac8337017cb259b4",
        "IPY_MODEL_798fa88aee394094991ca2469b76cc6e"
       ],
       "layout": "IPY_MODEL_f57b9bbcfcff49b58bb5265ad8654b29"
      }
     },
     "be26f3db1b754793a38c2ef28e0ce38d": {
      "model_module": "@jupyter-widgets/base",
      "model_module_version": "1.2.0",
      "model_name": "LayoutModel",
      "state": {}
     },
     "be2e5ca60e5046ff8325615625ea8c31": {
      "model_module": "@jupyter-widgets/controls",
      "model_module_version": "1.5.0",
      "model_name": "HBoxModel",
      "state": {
       "children": [
        "IPY_MODEL_8fab589e5a114c90a61ccc36d4dede27",
        "IPY_MODEL_685458a99a444f048f3e7d5331114bf0",
        "IPY_MODEL_a965ac57ebbf4f5896e82862edbef6ba"
       ],
       "layout": "IPY_MODEL_5b673118e1a84846b64b997152f5d946"
      }
     },
     "c0dbc86bce7348ffabb1371a1fb052fa": {
      "model_module": "@jupyter-widgets/controls",
      "model_module_version": "1.5.0",
      "model_name": "DescriptionStyleModel",
      "state": {
       "description_width": ""
      }
     },
     "c1a6963914224c30adebb660e158716d": {
      "model_module": "@jupyter-widgets/controls",
      "model_module_version": "1.5.0",
      "model_name": "DatePickerModel",
      "state": {
       "description": "Origin Date",
       "disabled": false,
       "layout": "IPY_MODEL_e06231e1f5154d05815da7f1df41850e",
       "style": "IPY_MODEL_24c386f8aae34e9a88d033194a48647c",
       "value": {
        "date": 13,
        "month": 6,
        "year": 2020
       }
      }
     },
     "ca82ceaf062e436daa94b210bc63ec1b": {
      "model_module": "@jupyter-widgets/base",
      "model_module_version": "1.2.0",
      "model_name": "LayoutModel",
      "state": {
       "width": "50%"
      }
     },
     "cbc84eca4fb0459ebd62765c0170b187": {
      "model_module": "@jupyter-widgets/controls",
      "model_module_version": "1.5.0",
      "model_name": "ProgressStyleModel",
      "state": {
       "description_width": ""
      }
     },
     "cda75b5ccd804dc1bcab6995ec46b139": {
      "model_module": "@jupyter-widgets/controls",
      "model_module_version": "1.5.0",
      "model_name": "DescriptionStyleModel",
      "state": {
       "description_width": ""
      }
     },
     "cf966946c03e400fa797a55d02756198": {
      "model_module": "@jupyter-widgets/controls",
      "model_module_version": "1.5.0",
      "model_name": "DescriptionStyleModel",
      "state": {
       "description_width": ""
      }
     },
     "d10464afa0b7419db93eef50d9288a76": {
      "model_module": "@jupyter-widgets/controls",
      "model_module_version": "1.5.0",
      "model_name": "HTMLModel",
      "state": {
       "layout": "IPY_MODEL_42276c8a9a2540999cdc92573c6c5dcc",
       "style": "IPY_MODEL_4a3f72b089be4f5eba2c961accdab7ab",
       "value": "File download:   0%"
      }
     },
     "d18fc28cb82a47a3a88212d48fed1629": {
      "model_module": "@jupyter-widgets/controls",
      "model_module_version": "1.5.0",
      "model_name": "FloatSliderModel",
      "state": {
       "description": "Select likelihood threshold",
       "layout": "IPY_MODEL_274dcddaf5f14c1ca5868f3badc64af4",
       "max": 0.010681888131276969,
       "min": 2.5413764681869644e-06,
       "readout_format": ".7f",
       "step": 0.000536508714208626,
       "style": "IPY_MODEL_50439a0ccce643fb9354b0c00614062c",
       "value": 0.000536508714208626
      }
     },
     "d3124ee5c01c4230ba5b4fb458e15b87": {
      "model_module": "@jupyter-widgets/controls",
      "model_module_version": "1.5.0",
      "model_name": "VBoxModel",
      "state": {
       "children": [
        "IPY_MODEL_b4a65b34bc0d455b9c59549e1ce1e607",
        "IPY_MODEL_391177c1a782421fae9513d59308e8a1",
        "IPY_MODEL_a03c02ea14554fb5ae4edd65bf40f1b8"
       ],
       "layout": "IPY_MODEL_3a1c0b7411e34c49a79b8aeb355035f5"
      }
     },
     "d633fd0e64ba43be841d4d56764085d6": {
      "model_module": "@jupyter-widgets/controls",
      "model_module_version": "1.5.0",
      "model_name": "HTMLModel",
      "state": {
       "layout": "IPY_MODEL_ab6dd7ccc8cc4be6b3246ae6fe93fb00",
       "style": "IPY_MODEL_ecab7302b5744cafb12780d0dd4637e1",
       "value": " 3/3 [01:04&lt;00:00, 21.45s/it]"
      }
     },
     "d7e1de2a3fdd48fdace7a23db895595d": {
      "model_module": "@jupyter-widgets/controls",
      "model_module_version": "1.5.0",
      "model_name": "SliderStyleModel",
      "state": {
       "description_width": "initial"
      }
     },
     "da84223a65e54f5aabb4f4125befc0bf": {
      "model_module": "@jupyter-widgets/controls",
      "model_module_version": "1.5.0",
      "model_name": "DescriptionStyleModel",
      "state": {
       "description_width": ""
      }
     },
     "da8a3f65d5404995bbceb2c453ecb615": {
      "model_module": "@jupyter-widgets/controls",
      "model_module_version": "1.5.0",
      "model_name": "DescriptionStyleModel",
      "state": {
       "description_width": ""
      }
     },
     "db03b7ceedf5429896d9c0578368b82b": {
      "model_module": "@jupyter-widgets/base",
      "model_module_version": "1.2.0",
      "model_name": "LayoutModel",
      "state": {}
     },
     "db50bbf5ff5b49c8bba1d7888f8f60a4": {
      "model_module": "@jupyter-widgets/base",
      "model_module_version": "1.2.0",
      "model_name": "LayoutModel",
      "state": {}
     },
     "dbd3eb0c17d14b7abea89d731eb4b8f1": {
      "model_module": "@jupyter-widgets/controls",
      "model_module_version": "1.5.0",
      "model_name": "HTMLModel",
      "state": {
       "layout": "IPY_MODEL_aec1545a6e074e5e8140d789be8ac57b",
       "style": "IPY_MODEL_50244a688044452ba376c77f7f79464a",
       "value": " 1/4 [01:37&lt;04:52, 97.58s/it]"
      }
     },
     "e06231e1f5154d05815da7f1df41850e": {
      "model_module": "@jupyter-widgets/base",
      "model_module_version": "1.2.0",
      "model_name": "LayoutModel",
      "state": {}
     },
     "e307ac2ade7b428b9d84b129ed5ec55f": {
      "model_module": "@jupyter-widgets/controls",
      "model_module_version": "1.5.0",
      "model_name": "HTMLModel",
      "state": {
       "layout": "IPY_MODEL_2393f32dfca14885b089c14a029d56ed",
       "style": "IPY_MODEL_1010d4f6282f4c82a3d72c504b8e6aba",
       "value": "File download: 100%"
      }
     },
     "e4dea7f1867b459485693ace98f943b2": {
      "model_module": "@jupyter-widgets/controls",
      "model_module_version": "1.5.0",
      "model_name": "HBoxModel",
      "state": {
       "children": [
        "IPY_MODEL_b3cf29f92aba4c939100a3d0804c4db0",
        "IPY_MODEL_5d322ad854e244a19e3a4e1fde071dc5",
        "IPY_MODEL_d633fd0e64ba43be841d4d56764085d6"
       ],
       "layout": "IPY_MODEL_a0f731d3cf1d467699dd4f176e28ddbb"
      }
     },
     "e592c1c6a56543058fe3f0d22f7d4b8a": {
      "model_module": "@jupyter-widgets/controls",
      "model_module_version": "1.5.0",
      "model_name": "ProgressStyleModel",
      "state": {
       "description_width": ""
      }
     },
     "e809e485ed014437a0bfc762fc945632": {
      "model_module": "@jupyter-widgets/base",
      "model_module_version": "1.2.0",
      "model_name": "LayoutModel",
      "state": {
       "width": "60%"
      }
     },
     "e856b869121245629d61372ce3fa167d": {
      "model_module": "@jupyter-widgets/base",
      "model_module_version": "1.2.0",
      "model_name": "LayoutModel",
      "state": {
       "width": "60%"
      }
     },
     "e902a8a2ae8440e3a65ca97a6e46dd9d": {
      "model_module": "@jupyter-widgets/controls",
      "model_module_version": "1.5.0",
      "model_name": "SliderStyleModel",
      "state": {
       "description_width": "200px"
      }
     },
     "e9d6e085d0444da0ba92bfa5f9fb1f5d": {
      "model_module": "@jupyter-widgets/controls",
      "model_module_version": "1.5.0",
      "model_name": "SliderStyleModel",
      "state": {
       "description_width": "100px"
      }
     },
     "eb3524dea26843d3ac8337017cb259b4": {
      "model_module": "@jupyter-widgets/controls",
      "model_module_version": "1.5.0",
      "model_name": "TextModel",
      "state": {
       "description": "Query start time (UTC):",
       "layout": "IPY_MODEL_8d72456e90934e65b3fa6b46661f50f9",
       "style": "IPY_MODEL_924cbf4b807440e9aa3d50f7d3f828ab",
       "value": "2020-07-06 00:00:00"
      }
     },
     "ecab7302b5744cafb12780d0dd4637e1": {
      "model_module": "@jupyter-widgets/controls",
      "model_module_version": "1.5.0",
      "model_name": "DescriptionStyleModel",
      "state": {
       "description_width": ""
      }
     },
     "ee5391a8476b464b98748abd6f0fd963": {
      "model_module": "@jupyter-widgets/base",
      "model_module_version": "1.2.0",
      "model_name": "LayoutModel",
      "state": {}
     },
     "ee555cb73d014b329ace0626ed7ba99a": {
      "model_module": "@jupyter-widgets/controls",
      "model_module_version": "1.5.0",
      "model_name": "ProgressStyleModel",
      "state": {
       "description_width": ""
      }
     },
     "eeb2bd8a5b3f4ba8be29cdef86013571": {
      "model_module": "@jupyter-widgets/base",
      "model_module_version": "1.2.0",
      "model_name": "LayoutModel",
      "state": {}
     },
     "f2f9accb33f348a5a5a46ebebb9f8670": {
      "model_module": "@jupyter-widgets/base",
      "model_module_version": "1.2.0",
      "model_name": "LayoutModel",
      "state": {
       "width": "60%"
      }
     },
     "f4ae48e6889e498988f8141e200c6229": {
      "model_module": "@jupyter-widgets/controls",
      "model_module_version": "1.5.0",
      "model_name": "DescriptionStyleModel",
      "state": {
       "description_width": "initial"
      }
     },
     "f57b9bbcfcff49b58bb5265ad8654b29": {
      "model_module": "@jupyter-widgets/base",
      "model_module_version": "1.2.0",
      "model_name": "LayoutModel",
      "state": {}
     },
     "f8be96628e764515a85f17c3c3b1641f": {
      "model_module": "@jupyter-widgets/controls",
      "model_module_version": "1.5.0",
      "model_name": "FloatSliderModel",
      "state": {
       "description": "Select likelihood threshold",
       "layout": "IPY_MODEL_363e8fcc2bfd474494438280fc9a539b",
       "max": 0.010681888131276969,
       "min": 2.5413764681869644e-06,
       "readout_format": ".7f",
       "step": 0.000536508714208626,
       "style": "IPY_MODEL_6226d0b4f82a458f9224a5f1232aaa82",
       "value": 0.000536508714208626
      }
     },
     "f8c16fcb40104fde9ab4618063a522ed": {
      "model_module": "@jupyter-widgets/controls",
      "model_module_version": "1.5.0",
      "model_name": "ProgressStyleModel",
      "state": {
       "description_width": ""
      }
     },
     "fc155f1c76cd410faf766cbe2d4922e2": {
      "model_module": "@jupyter-widgets/controls",
      "model_module_version": "1.5.0",
      "model_name": "TextModel",
      "state": {
       "description": "Time (24hr)",
       "layout": "IPY_MODEL_0efa6ad89b24443898d2a59a990a65aa",
       "style": "IPY_MODEL_cda75b5ccd804dc1bcab6995ec46b139",
       "value": "00:00:00"
      }
     },
     "fe29a98085e94f82aea8c4805e50f0f9": {
      "model_module": "@jupyter-widgets/base",
      "model_module_version": "1.2.0",
      "model_name": "LayoutModel",
      "state": {}
     },
     "fec0cd2390ed47ee97c50936f411f541": {
      "model_module": "@jupyter-widgets/base",
      "model_module_version": "1.2.0",
      "model_name": "LayoutModel",
      "state": {}
     }
    },
    "version_major": 2,
    "version_minor": 0
   }
  }
 },
 "nbformat": 4,
 "nbformat_minor": 4
}
