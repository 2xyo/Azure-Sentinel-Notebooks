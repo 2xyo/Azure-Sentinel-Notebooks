{
 "cells": [
  {
   "cell_type": "markdown",
   "metadata": {},
   "source": [
    "# Getting Started with Azure ML Notebooks and Azure Sentinel\r\n",
    "\r\n",
    "---\r\n",
    "\r\n",
    "# Contents\r\n",
    "\r\n",
    "- Introduction\r\n",
    "- What is a Jupyter Notebook\r\n",
    "- Setting up the notebook environment\r\n",
    "- Notebook/MSTICPy configuration\r\n",
    "- Querying data from Azure Sentinel\r\n",
    "- Testing Threat Intelligence and IP Geolocation lookups\r\n",
    "- Further Resources\r\n",
    "- FAQs - Frequently Asked Questions\r\n",
    "\r\n",
    "---\r\n",
    "\r\n",
    "# Introduction\r\n",
    "\r\n",
    "This notebook takes you through the basics needed to get started with Azure Machine Learning (ML) Notebooks and Azure Sentinel.\r\n",
    "\r\n",
    "It focuses on getting things set up and basic steps to query data.\r\n",
    "\r\n",
    "After you've finished running this notebook you can go on to look at the following notebooks:\r\n",
    "\r\n",
    "- **A Tour of Cybersec notebook features** - this takes you through some of the basic\r\n",
    "  features for CyberSec investigation/hunting available to you in notebooks.\r\n",
    "- **Configuring your environment** - this covers all of the configuration options for \r\n",
    "  accessing external cybersec resources\r\n",
    "\r\n",
    "\r\n",
    "Each topic includes 'learn more' sections to provide you with the resource to deep\r\n",
    "dive into each of these topics. We encourage you to work through the notebook from start\r\n",
    "to finish.\r\n",
    "\r\n",
    "<p style=\"border: solid; padding: 5pt\"><b>Note</b>: \r\n",
    "This notebook assumes that you are running in Azure ML\r\n",
    "but most of the guidance is applicable to other notebook environments, include local notebooks.\r\n",
    "</b>\r\n",
    "\r\n",
    "<br>\r\n",
    "\r\n",
    "<div style=\"color: Black; background-color: Khaki; padding: 5px\">\r\n",
    "<h3>Please run the the code cells in sequence. Skipping cells will result in errors.</h3>\r\n",
    "\r\n",
    "If you encounter any unexpected errors please see the FAQ at the end of this notebook.</div>\r\n",
    "<hr>"
   ]
  },
  {
   "cell_type": "markdown",
   "metadata": {},
   "source": [
    "---\n",
    "\n",
    "# What is a Jupyter notebook?\n",
    "\n",
    "<div style=\"color: Black; background-color: Gray; padding: 5px\">\n",
    "<h4>If you're familiar with notebooks, skip this section and go to \"Setting up the environment\" section.</h4>\n",
    "</div>\n",
    "<br>\n",
    "\n",
    "You are currently reading a Jupyter notebook. [Jupyter](http://jupyter.org/) is an interactive\n",
    "development and data manipulation environment presented in a browser.\n",
    "\n",
    "A Jupyter notebook is a document\n",
    "made up of cells that contain interactive code, alongside that code's output,\n",
    "and other items such as text and images (what you are looking at now is a cell of *Markdown* text).\n",
    "\n",
    "The name, Jupyter, comes from the core supported programming languages that it supports: **Ju**lia, **Pyt**hon, and **R**.\n",
    "While you can use any of these languages (and others such as Powershell) we are going to use Python in this notebook.\n",
    "\n",
    "The majority of the notebooks on the [Azure Sentinel GitHub repo](https://github.com/Azure/Azure-Sentinel-Notebooks)\n",
    "are written in Python. Whilst there are pros, and cons to each language, Python is a well-established\n",
    "language that has a large number of materials and libraries well suited for\n",
    "data analysis and security investigation, making it ideal for our needs.\n",
    "\n",
    "<br>\n",
    "<details>\n",
    "  <summary>Learn more...</summary>\n",
    "  <ul>\n",
    "    <li><a href=https://infosecjupyterbook.com/introduction.html>The Infosec Jupyter Book</a>\n",
    "    has more details on the technical working of Jupyter.\n",
    "    </li>\n",
    "    <li><a href=https://jupyter.org/documentation>The Jupyter Project documentation</a></li>\n",
    "  <ul>\n",
    "\n",
    "</details>\n",
    "<br>\n"
   ]
  },
  {
   "cell_type": "markdown",
   "metadata": {},
   "source": [
    "---\n",
    "\n",
    "## How to use a Jupyter notebook?\n",
    "\n",
    "To use a Jupyter notebook you need a Jupyter server that will render the notebook and execute the code within it.\n",
    "This can take the form of a local [Jupyter installation](https://pypi.org/project/jupyter/),\n",
    "or a remotely hosted version such as \n",
    "[Azure Machine Learning Notebooks](https://docs.microsoft.com/en-us/azure/machine-learning/how-to-run-jupyter-notebooks). \n",
    "\n",
    "## Using Azure Machine Learning (ML) Notebooks\n",
    "\n",
    "If you launched this notebook from Azure Sentinel, you will be running it in an Azure ML workspace.\n",
    "By default, the notebook is running in the built-in notebook editor. You can also open\n",
    "and run the notebook in Jupyterlab or Jupyter classic, if these environments are more familiar\n",
    "to you.\n",
    "\n",
    "<details>\n",
    "  <summary>Learn more...</summary>\n",
    "<p>Although you can view a notebook as a static document (GitHub, for example has a built-in\n",
    "static notebook renderer), if you want to run the code in a notebook, the notebook\n",
    "must be attached to a backend process, know as a Jupyter kernel. The kernel\n",
    "is really where your code is being run and where all of variables and objects\n",
    "created in the code are held. The browser is just the viewer for this data.\n",
    "</p>\n",
    "<p>In Azure ML, the kernel runs on a virtual machine known as an Azure ML Compute.\n",
    "The Compute instance can support the running of many notebooks simultaneously.</p>\n",
    "<p>\n",
    "Usually, the creation/attaching of a kernel for your notebook happens\n",
    "seamlessly - you don't need to do anything manually. One thing that you\n",
    "may need to check (especially if you are getting errors or the notebook\n",
    "doesn't seem to be executing) is the version and state of the kernel.</p>\n",
    "  <ul>\n",
    "    <li><a href=https://realpython.com/jupyter-notebook-introduction/>\n",
    "    Installing and running a local Jupyter server\n",
    "    </a>\n",
    "    </li>\n",
    "  </ul>\n",
    "</details>\n",
    "\n",
    "For this notebook we are going to be using Python 3.8 (you can also choose the Python 3.6 kernel).\n",
    "\n",
    "You can check the kernel name and version is selected by looking at\n",
    "the drop down in the top left corner of the Workspace window as shown in\n",
    "the image below.\n",
    "\n",
    "\n",
    "\n",
    "<img src=\"https://github.com/Azure/Azure-Sentinel-Notebooks/raw/master/images/AML_kernel.png\" height=\"200px\">\n",
    "\n",
    "This image also shows the active compute instance (to the right).\n",
    "\n",
    "<img src=\"https://github.com/Azure/Azure-Sentinel-Notebooks/raw/master/images/AML_compute_kernel.png\" height=\"200px\">\n",
    "\n",
    "\n",
    "If the selected kernel does not show `Azure ML Python 3.8` you can select the correct kernel by clicking on the Kernel drop-down.\n",
    "\n",
    "<p style=\"border: solid; padding: 5pt\"><b>Note</b>: the notebook works with Python 3.6 or later.\n",
    "If you are using this notebook in another\n",
    "Jupyter environment you can choose any kernel that supports Python 3.6 or later\n",
    "</p>\n",
    "\n",
    "<p style=\"border: solid; padding: 5pt; color: white; background-color: DarkOliveGreen\"><b>Tip:</b>\n",
    "Sometimes, your notebook may \"hang\" or you want to just start over.\n",
    "To do this you can restart the kernel. Use the \"recycle\" button in the toolbar\n",
    "in the upper right of the screen above the notebook.\n",
    "<br>\n",
    "You will need to re-run any initialization and authentication cells after doing\n",
    "this since restarting the kernel wipes all variables and other state.\n",
    "</p>\n",
    "\n",
    "<img src=\"https://github.com/Azure/Azure-Sentinel-Notebooks/raw/master/images/AML_restart_kernel.png\" height=\"200px\">\n",
    "\n",
    "<br>\n",
    "<details>\n",
    "  <summary>Troubleshooting...</summary>\n",
    "  <p>\n",
    "If you are having trouble getting the notebook running you should review\n",
    "<a href=https://docs.microsoft.com/en-us/azure/machine-learning/how-to-run-jupyter-notebooks>How to run Juptyer notebooks</a>.\n",
    "</p>\n",
    "</details>\n"
   ]
  },
  {
   "cell_type": "markdown",
   "metadata": {},
   "source": [
    "---\r\n",
    "\r\n",
    "## Running code\r\n",
    "\r\n",
    "The **cell** below is a code cell (note that it looks different from the\r\n",
    "cell you are reading). The current cell is know as a *Markdown* cell\r\n",
    "and lets you write text (including HTML) and include static images.\r\n",
    "\r\n",
    "Select the code cell (using mouse or cursor keys) below.\r\n",
    "Once selected, you can execute the code in it by clicking the \"Play\" button in the cell, or by pressing Shift+Enter.\r\n",
    "\r\n",
    "<p style=\"border: solid; padding: 5pt; color: white; background-color: DarkOliveGreen\">\r\n",
    "<b>Tip</b>: You can identify which cells are code cells by selecting them.<br>\r\n",
    "In Azure ML notebooks and VSCode, code cells have a larger border\r\n",
    "on the left side with a \"Play\" button to execute the cell.<br>\r\n",
    "In other notebook environments code and markdown cells will have\r\n",
    "different styles but it's usually easy to distinguish them.\r\n",
    "</p>\r\n"
   ]
  },
  {
   "cell_type": "code",
   "execution_count": 27,
   "metadata": {},
   "outputs": [
    {
     "name": "stdout",
     "output_type": "stream",
     "text": [
      "Congratulations you just ran this code cell\n",
      "2 + 2 = 4\n"
     ]
    }
   ],
   "source": [
    "# This is our first code cell, it contains basic Python code.\r\n",
    "# You can run a code cell by selecting it and clicking\r\n",
    "# the Run button (to the left of the cell), or by pressing Shift + Enter.\r\n",
    "# Any output from the code will be displayed directly below it.\r\n",
    "print(\"Congratulations you just ran this code cell\")\r\n",
    "y = 2 + 2\r\n",
    "print(\"2 + 2 =\", y)"
   ]
  },
  {
   "cell_type": "markdown",
   "metadata": {},
   "source": [
    "Variables set within a code cell persist between cells meaning you can chain cells together.\r\n",
    "In this example we're using the value of y from the previous cell."
   ]
  },
  {
   "cell_type": "code",
   "execution_count": 28,
   "metadata": {},
   "outputs": [
    {
     "data": {
      "text/plain": [
       "6"
      ]
     },
     "execution_count": 28,
     "metadata": {},
     "output_type": "execute_result"
    }
   ],
   "source": [
    "# Note that output from the last line of a cell is automatically\r\n",
    "# sent to the output cell, without needing the print() function.\r\n",
    "y + 2"
   ]
  },
  {
   "cell_type": "markdown",
   "metadata": {},
   "source": [
    "Now that you understand the basics we can move onto more complex code.\r\n",
    "\r\n",
    "\r\n",
    "<details>\r\n",
    "  <summary>Learn more about notebooks...</summary>\r\n",
    "  <ul>\r\n",
    "    <li><a href=https://infosecjupyterbook.com/>The Infosec Jupyter Book</a>\r\n",
    "    provides an infosec-specific intro to Python.\r\n",
    "    </li>\r\n",
    "    <li><a href=https://realpython.com/>Real Python</a>\r\n",
    "    is a comprehensive set of Python learnings and tutorials.</li>\r\n",
    "  <ul>\r\n",
    "\r\n",
    "</details>\r\n"
   ]
  },
  {
   "cell_type": "markdown",
   "metadata": {},
   "source": [
    "---\r\n",
    "\r\n",
    "# Setting up the notebook environment\r\n",
    "\r\n",
    "To avoid having to type (or paste) a lot of complex and repetitive code into\r\n",
    "notebook cells, most notebooks rely on third party libraries (known in the Python\r\n",
    "world as \"packages\").\r\n",
    "\r\n",
    "Before you can use a package in your notebook, you need to do two things:\r\n",
    "\r\n",
    "- install the package (although the Azure ML Compute has most common packages pre-installed)\r\n",
    "- import the package (or some part of the package - usually a module/file, a function or a class)\r\n",
    "\r\n",
    "## MSTICPy\r\n",
    "\r\n",
    "We've created a Python package built for Azure Sentinel notebooks - named MSTICPy (pronounced miss-tick-pie).\r\n",
    "It is a collection of CyberSecurity tools for data retrieval, analysis, enrichment and visualization.\r\n",
    "\r\n",
    "## Intializing notebooks\r\n",
    "\r\n",
    "At the start of most Azure Sentinel notebooks you will see an initialization cell like the one below.\r\n",
    "This cell is specific to the MSTICPy initialization:\r\n",
    "\r\n",
    "- it defines the minimum versions for Python and MSTICPy needed for this notebook\r\n",
    "- it then imports and runs the `init_notebook` function.\r\n",
    "\r\n",
    "<details>\r\n",
    "    <summary>More about <i>init_notebook</i>...</summary>\r\n",
    "    <p>\r\n",
    "`init_notebook` does some of the tedious work of importing other packages, \r\n",
    "checking configuration (we'll get to configuration in a moment) and, optionally,\r\n",
    "installing other required packages.</p>\r\n",
    "</details>\r\n",
    "<br>\r\n",
    "\r\n",
    "<div style=\"border: solid; padding: 5pt\">\r\n",
    "<b>Note:</b>don't be alarmed if you see configuration warnings (such as \"Missing msticpyconfig.yaml\").<br>\r\n",
    "We haven't configured anything yet, so this is expected.\r\n",
    "</div>\r\n",
    "\r\n",
    "The first line ensures that the latest version of msticpy is installed."
   ]
  },
  {
   "cell_type": "code",
   "execution_count": 1,
   "metadata": {},
   "outputs": [
    {
     "output_type": "display_data",
     "data": {
      "text/plain": "<IPython.core.display.HTML object>",
      "text/html": "Checking upgrade to latest msticpy version"
     },
     "metadata": {}
    },
    {
     "output_type": "display_data",
     "data": {
      "text/plain": "<IPython.core.display.HTML object>",
      "text/html": "<hr><h4>Starting Notebook initialization...</h4>"
     },
     "metadata": {}
    },
    {
     "output_type": "display_data",
     "data": {
      "text/plain": "<IPython.core.display.HTML object>",
      "text/html": "msticpy version installed: 1.2.4 latest published: 1.2.3<br>Latest version is installed.<br> <br>"
     },
     "metadata": {}
    },
    {
     "output_type": "display_data",
     "data": {
      "text/plain": "<IPython.core.display.HTML object>",
      "text/html": "Processing imports.... <br>"
     },
     "metadata": {}
    },
    {
     "output_type": "display_data",
     "data": {
      "text/plain": "<IPython.core.display.HTML object>",
      "text/html": "Imported: pd (pandas), IPython.get_ipython, IPython.display.display, IPython.display.HTML, IPython.display.Markdown, widgets (ipywidgets), pathlib.Path, plt (matplotlib.pyplot), matplotlib.MatplotlibDeprecationWarning, sns (seaborn), np (numpy), msticpy.data.QueryProvider, msticpy.nbtools.foliummap.FoliumMap, msticpy.common.utility.md, msticpy.common.utility.md_warn, msticpy.common.wsconfig.WorkspaceConfig, msticpy.datamodel.pivot.Pivot, msticpy.datamodel.entities, urllib.request.urlretrieve <br>"
     },
     "metadata": {}
    },
    {
     "output_type": "display_data",
     "data": {
      "text/plain": "<IPython.core.display.HTML object>",
      "text/html": "Checking configuration.... <br>"
     },
     "metadata": {}
    },
    {
     "output_type": "display_data",
     "data": {
      "text/plain": "<IPython.core.display.HTML object>",
      "text/html": "Setting notebook options.... <br>"
     },
     "metadata": {}
    },
    {
     "output_type": "display_data",
     "data": {
      "text/plain": "<IPython.core.display.HTML object>",
      "text/html": " <br>"
     },
     "metadata": {}
    },
    {
     "output_type": "display_data",
     "data": {
      "text/plain": "<IPython.core.display.HTML object>",
      "text/html": "<h4>Notebook initialization complete</h4>"
     },
     "metadata": {}
    }
   ],
   "source": [
    "# import some modules needed in this cell\n",
    "from IPython.display import display, HTML\n",
    "\n",
    "REQ_PYTHON_VER=\"3.6\"\n",
    "REQ_MSTICPY_VER=\"1.2.3\"\n",
    "\n",
    "display(HTML(\"Checking upgrade to latest msticpy version\"))\n",
    "%pip install --upgrade --quiet msticpy[azuresentinel]>=$REQ_MSTICPY_VER\n",
    "\n",
    "# intialize msticpy\n",
    "from msticpy.nbtools import nbinit\n",
    "nbinit.init_notebook(\n",
    "    namespace=globals(),\n",
    "    extra_imports=[\"urllib.request, urlretrieve\"]\n",
    ")\n",
    "pd.set_option(\"display.html.table_schema\", False)"
   ]
  },
  {
   "cell_type": "markdown",
   "metadata": {},
   "source": [
    "---\n",
    "\n",
    "# Notebook/MSTICPy Configuration\n",
    "\n",
    "Once we've done this basic initialization step,\n",
    "we need to make sure we have some configuration in place.\n",
    "\n",
    "Some of the notebook components need addtional configuration to connect our Azure Sentinel workspace\n",
    "as well as to external services (e.g. API keys to retrieve Threat Intelligence data). \n",
    "\n",
    "The easiest way to manage the configuration data for these services is to store it in a \n",
    "configuration file (`msticpyconfig.yaml`).<br>\n",
    "The alternative to this is having to type\n",
    "configuration details and keys in each time you use a notebook - which is\n",
    "guaranteed to put you off notebooks forever!\n",
    "\n",
    "<details>\n",
    "  <summary>Learn more...</summary>\n",
    "  <p>\n",
    "  Although you don't need to know these details now, you can find more information here:\n",
    "  </p>\n",
    "  <ul>\n",
    "    <li><a href=https://msticpy.readthedocs.io/en/latest/getting_started/msticpyconfig.html >MSTICPy Package Configuration</a></li>\n",
    "    <li><a href=https://msticpy.readthedocs.io/en/latest/getting_started/SettingsEditor.html >MSTICPy Settings Editor</a></li>\n",
    "  </ul>\n",
    "  <p>If you need a more complete walk-through of configuration, we have a separate notebook to help you:</p>\n",
    "  <ul>\n",
    "    <li><a href=https://github.com/Azure/Azure-Sentinel-Notebooks/blob/master/ConfiguringNotebookEnvironment.ipynb >Configuring Notebook Environment</a></li>\n",
    "    <li>And for the ultimate walk-through of how to configure all your `msticpyconfig.yaml` settings\n",
    "  see the <a href=https://github.com/microsoft/msticpy/blob/master/docs/notebooks/MPSettingsEditor.ipynb >MPSettingsEditor notebook</a></li>\n",
    "    <li>The Azure-Sentinel-Notebooks GitHub repo also contains an template `msticpyconfig.yaml`, with commented-out sections\n",
    "  that may also be helpful in finding your way around the settings if you want to dig into things\n",
    "  by hand.</li>\n",
    "  </ul>\n",
    "</details>\n",
    "<br>\n",
    "\n",
    "---"
   ]
  },
  {
   "cell_type": "markdown",
   "metadata": {},
   "source": [
    "## Configuring Azure Sentinel settings\n",
    "\n",
    "When you launched this notebook from Azure Sentinel it copied a basic configuration file - `config.json` -\n",
    "to your workspace folder.<br>\n",
    "You should be able to see this file in the file browser to the left.<br>\n",
    "This file contains details about your Azure Sentinel workspace but has\n",
    "no configuration settings for other external services that we need.\n",
    "\n",
    "If you didn't have a `msticpyconfig.yaml` file in your workspace folder (which is likely\n",
    "if this is your first use of notebooks), the `init_notebook` function should have created\n",
    "one for you and populated it\n",
    "with the Azure Sentinel workspace data taken from your config.json.\n",
    "\n",
    "<p style=\"border: solid; padding: 5pt; color: white; background-color: DarkOliveGreen\"><b>Tip</b>\n",
    "If you do not see a \"msticpyconfig.yaml\" file in your user folder, click the refresh button<br>\n",
    "at the top of the file browser.\n",
    "</p>\n",
    "\n",
    "We can check this now by opening the settings editor and view the settings.\n",
    "\n",
    "<div style=\"border: solid; padding: 5pt\"><b>\n",
    "<h3>You should not have to change anything here unless you need to add\n",
    "one or more additional workspaces.</h3></div>\n",
    "\n",
    "<p style=\"border: solid; padding: 5pt\"><b>Note:<b>\n",
    "In the Azure ML environment, the settings editor may take 10-20 seconds to appear.<br>\n",
    "This is a known bug that we are working to fix.\n",
    "</p>\n",
    "\n",
    "When you have verified that this looks OK. Click **Save Settings**\n",
    "\n",
    "\n",
    "<details>\n",
    "    <summary>Multiple Azure Sentinel workspaces...</summary>\n",
    "    <p>If you have multiple Azure Sentinel workspaces, you can add\n",
    "    them in the following configuration cell.</p>\n",
    "    <p>You can choose to keep one as the default or just delete this entry\n",
    "    if you always want to name your workspaces explicitly when you \n",
    "    connect.\n",
    "    </p>\n",
    "</details>"
   ]
  },
  {
   "cell_type": "code",
   "execution_count": 2,
   "metadata": {},
   "outputs": [
    {
     "output_type": "display_data",
     "data": {
      "text/plain": "VBox(children=(Tab(children=(VBox(children=(Label(value='Azure Sentinel workspace settings'), HBox(children=(V…",
      "application/vnd.jupyter.widget-view+json": {
       "version_major": 2,
       "version_minor": 0,
       "model_id": "b5f6c73f8b6343fabbc42866b360008b"
      }
     },
     "metadata": {}
    }
   ],
   "source": [
    "from msticpy.config import MpConfigEdit\n",
    "import os\n",
    "\n",
    "mp_conf = \"msticpyconfig.yaml\"\n",
    "\n",
    "# check if MSTICPYCONFIG is already an env variable\n",
    "mp_env = os.environ.get(\"MSTICPYCONFIG\")\n",
    "mp_conf = mp_env if mp_env and Path(mp_env).is_file() else mp_conf\n",
    "\n",
    "if not Path(mp_conf).is_file():\n",
    "    print(\n",
    "        \"No msticpyconfig.yaml was found!\",\n",
    "        \"Please check that there is a config.json file in your workspace folder.\",\n",
    "        \"If this is not there, go back to the Azure Sentinel portal and launch\",\n",
    "        \"this notebook from there.\",\n",
    "        sep=\"\\n\"\n",
    "    )\n",
    "else:\n",
    "    mpedit = MpConfigEdit(mp_conf)\n",
    "    mpedit.set_tab(\"AzureSentinel\")\n",
    "    display(mpedit)"
   ]
  },
  {
   "cell_type": "markdown",
   "metadata": {},
   "source": [
    "At this stage you should only see two entries in the Azure Sentinel tab:\r\n",
    "\r\n",
    "- An entry with the name of your Azure Sentinel workspace\r\n",
    "- An entry named \"Default\" with the same settings.\r\n",
    "\r\n",
    "MSTICPy lets you store configurations for multiple Azure Sentinel workspaces\r\n",
    "and switch between them. The \"Default\" entry lets you authenticate\r\n",
    "to a specific workspace without having to name it explicitly.\r\n",
    "\r\n",
    "Let's add some additional configuration."
   ]
  },
  {
   "cell_type": "markdown",
   "metadata": {},
   "source": [
    "## Adding Threat Intel and GeoIP provider settings\n",
    "\n",
    "We are going to use [VirusTotal](https://www.virustotal.com) (VT) as an example of a popular threat intelligence source.\n",
    "To use VirusTotal threat intel lookups you will need a VirusTotal account and API key.\n",
    "\n",
    "You can sign up for a free account at the\n",
    "[VirusTotal getting started page](https://developers.virustotal.com/v3.0/reference#getting-started) website.\n",
    "\n",
    "If you are already a VirusTotal user, you can, of course, use your existing key.\n",
    "\n",
    "<p style=\"border: solid; padding: 5pt; color: black; background-color: Khaki\">\n",
    "<b>Warning</b> If you are using a VT enterprise key we do not recommend storing this\n",
    "in the msticpyconfig.yaml file.<br>\n",
    "MSTICPy supports storage of secrets in\n",
    "Azure Key Vault. You can read more about this\n",
    "<a href=https://msticpy.readthedocs.io/en/latest/getting_started/msticpyconfig.html#specifying-secrets-as-key-vault-secrets >in the MSTICPY docs</a><br>\n",
    "For the moment, you can sign up for a free acount, until you can take the time to\n",
    "set up Key Vault storage.\n",
    "</p>\n",
    "\n",
    "\n",
    "As well as VirusTotal, we also support a range\n",
    "of other threat intelligence providers: https://msticpy.readthedocs.io/en/latest/data_acquisition/TIProviders.html\n",
    "<br><br>\n",
    "\n",
    "To add the VirusTotal details, run the following cell.\n",
    "\n",
    "1. Select \"VirusTotal\" from the **Add prov** drop down\n",
    "2. Click the **Add** button\n",
    "3. In the left-side Details panel select **Text** as the Storage option.\n",
    "4. Paste the API key in the **Value** text box.\n",
    "5. Click the **Update** button to confirm your changes.\n",
    "\n",
    "Your changes are not yet saved to your configuration file. To\n",
    "do this, click on the **Save Settings** button at the bottom of the dialog.\n",
    "\n",
    "If you are unclear about what anything in the configuration editor means, use the **Help** drop-down. This\n",
    "has instructions and links to more detailed documentation.\n"
   ]
  },
  {
   "cell_type": "code",
   "execution_count": 3,
   "metadata": {},
   "outputs": [
    {
     "output_type": "display_data",
     "data": {
      "text/plain": "VBox(children=(Tab(children=(VBox(children=(Label(value='Azure Sentinel workspace settings'), HBox(children=(V…",
      "application/vnd.jupyter.widget-view+json": {
       "version_major": 2,
       "version_minor": 0,
       "model_id": "b5f6c73f8b6343fabbc42866b360008b"
      }
     },
     "metadata": {}
    }
   ],
   "source": [
    "mpedit.set_tab(\"TI Providers\")\n",
    "mpedit"
   ]
  },
  {
   "cell_type": "markdown",
   "metadata": {},
   "source": [
    "Our notebooks commonly use IP geo-location information. \r\n",
    "In order to enable this we are going to set up [MaxMind GeoLite2](https://www.maxmind.com)\r\n",
    "to provide geolocation lookup services for IP addresses.\r\n",
    "\r\n",
    "GeoLite2 uses a downloaded database which requires an account key to download.\r\n",
    "You can sign up for a free account and API key at \r\n",
    "[The Maxmind signup page - https://www.maxmind.com/en/geolite2/signup](https://www.maxmind.com/en/geolite2/signup).\r\n",
    "<br>\r\n",
    "\r\n",
    "<details>\r\n",
    "    <summary>Using IPStack as an alernative to GeoLite2...</summary>\r\n",
    "    <p>\r\n",
    "    For more details see the\r\n",
    "    <a href=https://msticpy.readthedocs.io/en/latest/data_acquisition/GeoIPLookups.html >\r\n",
    "    MSTICPy GeoIP Providers documentation</a>\r\n",
    "    </p>\r\n",
    "</details>\r\n",
    "<br>\r\n",
    "\r\n",
    "Once, you have an account, run the following cell to add the Maxmind GeopIP Lite details to your configuration.\r\n",
    "\r\n",
    "The procedure is similar to the one we used for VirusTotal:\r\n",
    "\r\n",
    "1. Select the \"GeoIPLite\" provider from the **Add prov** drop-down\r\n",
    "2. Click **Add**\r\n",
    "3. Select **Text** Storage and paste the key into the text box\r\n",
    "4. Click **Update**\r\n",
    "5. Click **Save Settings** to write your settings to your configuration.\r\n"
   ]
  },
  {
   "cell_type": "code",
   "execution_count": 4,
   "metadata": {},
   "outputs": [
    {
     "output_type": "display_data",
     "data": {
      "text/plain": "VBox(children=(Tab(children=(VBox(children=(Label(value='Azure Sentinel workspace settings'), HBox(children=(V…",
      "application/vnd.jupyter.widget-view+json": {
       "version_major": 2,
       "version_minor": 0,
       "model_id": "b5f6c73f8b6343fabbc42866b360008b"
      }
     },
     "metadata": {}
    }
   ],
   "source": [
    "mpedit.set_tab(\"GeoIP Providers\")\n",
    "mpedit"
   ]
  },
  {
   "cell_type": "markdown",
   "metadata": {},
   "source": [
    "## Validate your settings\r\n",
    "\r\n",
    "- click on the **Validate settings** button.\r\n",
    "\r\n",
    "You may see some warnings about missing sections but not about the Azure Sentinel, TIProviders or GeoIP Providers settings.\r\n",
    "\r\n",
    "Click on the **Close** button to hide the validation output.\r\n",
    "\r\n",
    "If you need to make any changes as a result of the Validation,\r\n",
    "remember to save your changes by clicking the **Save File** button."
   ]
  },
  {
   "cell_type": "markdown",
   "metadata": {},
   "source": [
    "## Loading your saved settings\r\n",
    "\r\n",
    "<h3 style=\"color: Black; background-color: Khaki; padding: 5px\">\r\n",
    "Although your settings are saved they are not yet loaded into MSTICPy. Please run the next cell.</h3>\r\n",
    "<hr>\r\n",
    "\r\n",
    "You have saved your settings to a \"msticpyconfig.yaml\" file on disk. This file<br>\r\n",
    "is a YAML file so is easy to read with a text editor.<br>\r\n",
    "However, MSTICPy does not automatically reload these settings.\r\n",
    "\r\n",
    "Run the following cell to force it to reload from the new configuration file.\r\n"
   ]
  },
  {
   "cell_type": "code",
   "execution_count": 5,
   "metadata": {},
   "outputs": [],
   "source": [
    "import msticpy\n",
    "msticpy.settings.refresh_config()"
   ]
  },
  {
   "cell_type": "markdown",
   "metadata": {},
   "source": [
    "\r\n",
    "<details>\r\n",
    "    <summary>Optional - set a MSTICPYCONFIG environment variable...</summary>\r\n",
    "\r\n",
    "Setting a `MSTICPYCONFIG` environment variable to point to the location of your\r\n",
    "your `msticpyconfig.yaml` configuration file lets MSTICPy find this file. By\r\n",
    "default, it looks in the current directory only.\r\n",
    "\r\n",
    "Having a MSTICPYCONFIG variable set is especially convenient if you are\r\n",
    "using notebooks locally or have a deep or complex folder structure\r\n",
    "\r\n",
    "<b>You may not need this on Azure ML</b> - the\r\n",
    "`nb_check` script (in the initialization cell) will automatically set the MSTICPYCONFIG\r\n",
    "environment variable if it is not already set. The script will try to find a\r\n",
    "`msticpyconfig.yaml` in the current directory or in the root of your AML user folder.\r\n",
    "\r\n",
    "For more detailed instructions on this, please see the *Setting the path to your msticpyconfig.yaml* section\r\n",
    "in the <a href=https://github.com/Azure/Azure-Sentinel-Notebooks/blob/master/ConfiguringNotebookEnvironment.ipynb >Configuring Notebook Environment</a>.\r\n",
    "\r\n",
    "<p style=\"border: solid; padding: 5pt; color: black; background-color: #AA4000\">\r\n",
    "<b>Warning</b>: If you are storing secrets such as API keys in the file you should<br>\r\n",
    "probably opt to store either store this file on the compute instance or use<br.>\r\n",
    "Azure Key Vault to store the secrets.<br>\r\n",
    "Read more about using KeyVault\r\n",
    "<a href=https://msticpy.readthedocs.io/en/latest/getting_started/msticpyconfig.html#specifying-secrets-as-key-vault-secrets >in the MSTICPY docs</a>\r\n",
    "</p>\r\n",
    "\r\n",
    "</details>\r\n"
   ]
  },
  {
   "cell_type": "markdown",
   "metadata": {},
   "source": [
    "---\r\n",
    "\r\n",
    "# Querying Data from Azure Sentinel\r\n",
    "\r\n",
    "Now that we have configured the details for your Azure Sentinel workspace, \r\n",
    "we can go ahead and test it. We will do this with `QueryProvider` class from MSTICPy.\r\n",
    "\r\n",
    "The QueryProvider class has one main function:\r\n",
    "\r\n",
    "- querying data from a data source to make it available to view and analyze in the notebook.\r\n",
    "\r\n",
    "Query results are always returned as *pandas* DataFrames. If you are new\r\n",
    "to using *pandas* look at the **Introduction to Pandas** section at in\r\n",
    "the **A Tour of Cybersec notebook features** notebook.\r\n",
    "\r\n",
    "<details>\r\n",
    "    <summary>Other data sources...</summary>\r\n",
    "    <p>\r\n",
    "    The query provider supports several different data sources - the one we'll use\r\n",
    "here is \"AzureSentinel\".</p>\r\n",
    "<p>\r\n",
    "Other data sources supported by the `QueryProvider` class include Microsoft Defender for Endpoint,\r\n",
    "Splunk, Microsoft Graph API, Azure Resource Graph but these are not covered here.\r\n",
    "    </p>\r\n",
    "</details>\r\n",
    "<br>\r\n",
    "\r\n",
    "Most query providers come with a range of built-in queries\r\n",
    "for common data operations. You can also a query provider to run custom queries against\r\n",
    "Azure Sentinel data.\r\n",
    "\r\n",
    "Once you've loaded a QueryProvider you'll normally need to authenticate\r\n",
    "to the data source (in this case Azure Sentinel).\r\n",
    "\r\n",
    "<details>\r\n",
    "    <summary><b>Learn more...</b></summary>\r\n",
    "    <p>\r\n",
    "    More details on configuring and using QueryProviders:\r\n",
    "    </p>\r\n",
    "    <ul>\r\n",
    "        <li>\r\n",
    " <a href=https://msticpy.readthedocs.io/en/latest/data_acquisition/DataProviders.html#instantiating-a-query-provider >MSTICPy Documentation</a>.</li>\r\n",
    "    </ul>\r\n",
    "</details>\r\n",
    "<br>\r\n"
   ]
  },
  {
   "cell_type": "markdown",
   "metadata": {},
   "source": [
    "## Load a QueryProvider\n",
    "To start, we are going to load up a QueryProvider\n",
    "for Azure Sentinel, pass it the \n",
    "details for our workspace that we just stored in the msticpyconfig file, and connect.\n",
    "\n",
    "<div style=\"border: solid; padding: 5pt\"><b>Note:</b>\n",
    "If you see a warning \"Runtime dependency of PyGObject is missing\" when loading the<br>\n",
    "Azure Sentinel driver, please see the FAQ section at the end of this notebook.<br>\n",
    "The warning does not impact any functionality of the notebooks.\n",
    "</div>"
   ]
  },
  {
   "cell_type": "code",
   "execution_count": 6,
   "metadata": {},
   "outputs": [
    {
     "output_type": "stream",
     "name": "stdout",
     "text": [
      "Please wait. Loading Kqlmagic extension...\n"
     ]
    },
    {
     "output_type": "display_data",
     "data": {
      "text/plain": "<IPython.core.display.Javascript object>",
      "application/javascript": "try {IPython.notebook.kernel.reconnect();} catch(err) {;}"
     },
     "metadata": {}
    },
    {
     "output_type": "display_data",
     "data": {
      "text/plain": "<IPython.core.display.Javascript object>",
      "application/javascript": "try {IPython.notebook.kernel.execute(\"NOTEBOOK_URL = '\" + window.location + \"'\");} catch(err) {;}"
     },
     "metadata": {}
    }
   ],
   "source": [
    "# Initalize a QueryProvider for Azure Sentinel\n",
    "qry_prov = QueryProvider(\"AzureSentinel\")"
   ]
  },
  {
   "cell_type": "markdown",
   "metadata": {},
   "source": [
    "## Authenticate\r\n",
    "\r\n",
    "Next we need to authenticate.\r\n",
    "\r\n",
    "The connection process will ask us to authenticate to our Azure Sentinel workspace using \r\n",
    "[device authorization](https://docs.microsoft.com/en-us/azure/active-directory/develop/v2-oauth2-device-code)\r\n",
    "with our Azure credentials.\r\n",
    "\r\n",
    "Device authorization adds an additional factor to the authentication by generating a\r\n",
    "one-time device code that you supply as part of the authentication process.\r\n",
    "\r\n",
    "The process is as follows:\r\n",
    "\r\n",
    "1. generate and display an device code\r\n",
    "\r\n",
    "<img src=\"https://github.com/Azure/Azure-Sentinel-Notebooks/raw/master/images/device_auth_code.png\" height=\"300px\">\r\n",
    "\r\n",
    "In some Jupyter notebook interfaces, step 1 has a clickable button that will copy the code to the clipboard\r\n",
    "and then open a browser window to the devicelogin URI.<br>The default AML notebook interface does not\r\n",
    "do this. You need to manually select and copy the code to the clipboard, then click on the devicelogin link\r\n",
    "where you can paste the code in to start the authentication process.\r\n",
    "\r\n",
    "2. go to http://microsoft.com/devicelogin and paste in the code\r\n",
    "3. authenticate with your Azure credentials\r\n",
    "\r\n",
    "<p style=\"border: solid; padding: 5pt\"><b>Note</b> the devicelogin URL may be different for government or national Azure clouds.</p>\r\n",
    "\r\n",
    "<br>\r\n",
    "\r\n",
    "<img src=\"https://github.com/Azure/Azure-Sentinel-Notebooks/raw/master/images/device_authn.png\" height=\"300px\">\r\n",
    "\r\n",
    "4. Once the last box in the previous image is shown you can close that tab and return to the notebook. \r\n",
    "   You should see an image like the one shown below.\r\n",
    "\r\n",
    "<img src=\"https://github.com/Azure/Azure-Sentinel-Notebooks/raw/master/images/device_auth_complete.png\" height=\"300px\">\r\n",
    "\r\n",
    "<br>\r\n",
    "\r\n",
    "<p style=\"border: solid; padding: 5pt\"><b>Note</b>:\r\n",
    "Once authenticated, you should not need to re-authenticate if you restart the kernel.<br>\r\n",
    "A *refresh token* is cached on the compute and can be re-used until it\r\n",
    "times out.<br>\r\n",
    "You will need to re-authenticate if you restart your Compute instance\r\n",
    "or switch to a different one.\r\n",
    "</p>"
   ]
  },
  {
   "cell_type": "code",
   "execution_count": 7,
   "metadata": {},
   "outputs": [
    {
     "output_type": "display_data",
     "data": {
      "text/plain": "<IPython.core.display.Javascript object>",
      "application/javascript": "try {IPython.notebook.kernel.execute(\"NOTEBOOK_URL = '\" + window.location + \"'\");} catch(err) {;}"
     },
     "metadata": {}
    },
    {
     "output_type": "display_data",
     "data": {
      "text/plain": "<IPython.core.display.HTML object>",
      "text/html": "<!DOCTYPE html>\n            <html><body>\n            <div style=''>\n            \n            <button onclick=\"this.style.visibility='visible';\n            kql_MagicLaunchWindowFunction('kqlmagic/temp_files/eccd70d7-c7cf-411c-b0da-ad2238afdc83/_8ecf8077-cf51-4820-aadd-14040956f35d_at_loganalytics_schema.html', 'fullscreen=no,directories=no,location=no,menubar=no,resizable=yes,scrollbars=yes,status=no,titlebar=no,toolbar=no,', '_8ecf8077_cf51_4820_aadd_14040956f35d_at_loganalytics_schema', '');\n            kql_MagicCloseWindow(kql_Magic__8ecf8077_cf51_4820_aadd_14040956f35d_at_loganalytics_schema, -1, -1);\">\n            popup schema 8ecf8077-cf51-4820-aadd-14040956f35d@loganalytics</button>\n            </div>\n\n            <script>\n            var kql_Magic__8ecf8077_cf51_4820_aadd_14040956f35d_at_loganalytics_schema = null;\n\n\n            function kql_MagicCloseWindow(window_obj, obj_secs, itself_secs) {\n                if (obj_secs >= 0) {\n                    _timeout = setTimeout(function(){\n                        window_obj.close();\n                        if (itself_secs >= 0) {\n                            __timeout = setTimeout(function(){window.close();}, itself_secs * 1000);\n                        }\n                    }, obj_secs * 1000);\n                } else if (itself_secs >= 0) {\n                    _timeout = setTimeout(function(){window.close();}, itself_secs * 1000);\n                }\n            }\n\n            function kql_MagicLaunchWindowFunction(file_path_or_data, window_params, window_name, host_or_text) {\n                var url;\n                const baseURI = String(window.location);\n                if (host_or_text == 'text' || host_or_text == 'body') {\n                    url = ''\n                } else if (file_path_or_data.startsWith('http')) {\n                    url = file_path_or_data;\n                } else if (host_or_text.endsWith('.azureml.ms') || host_or_text.endsWith('.azureml.net')) {\n                    let azuremlBaseURI = String(window.document.baseURI);\n                    let start = azuremlBaseURI.search('activeFilePath=');\n                    if (start > 0) {\n                        start += 'activeFilePath='.length;\n                        let end = azuremlBaseURI.substring(start).search('&');\n                        if (end < 0) {\n                            end = undefined;\n                        }\n                        let parts = azuremlBaseURI.substring(start, end).split('/');\n                        parts.pop();\n                        url = host_or_text + '/tree/' + parts.join('/') + '/' + file_path_or_data;\n                    } else {\n                        var parts = baseURI.split('/');\n                        parts.pop();\n                        url = parts.join('/') + '/' + file_path_or_data;\n                    }\n                } else {\n                    var base_url = '';\n\n                    // check if azure notebook\n                    var azure_host = (host_or_text == null || host_or_text.length == 0) ? 'https://notebooks.azure.com' : host_or_text;\n                    var start = azure_host.search('//');\n                    var azure_host_suffix = '.' + azure_host.substring(start+2);\n\n                    var end = baseURI.search(azure_host_suffix);\n                    start = baseURI.search('//');\n                    if (start > 0 && end > 0) {\n                        // # azure notebook environment, assume template: https://library-user.notebooks.azure.com\n                        var parts = baseURI.substring(start+2, end).split('-');\n                        if (parts.length == 2) {\n                            var library = parts[0];\n                            var user = parts[1];\n                            base_url = azure_host + '/api/user/' +user+ '/library/' +library+ '/html/';\n                        }\n                    }\n\n                    // check if local jupyter lab\n                    if (base_url.length == 0) {\n                        var configDataScipt  = document.getElementById('jupyter-config-data');\n                        if (configDataScipt != null) {\n                            var jupyterConfigData = JSON.parse(configDataScipt.textContent);\n                            if (jupyterConfigData['appName'] == 'JupyterLab' && jupyterConfigData['serverRoot'] != null &&  jupyterConfigData['treeUrl'] != null) {\n                                var basePath = 'e:/src' + '/';\n                                if (basePath.startsWith(jupyterConfigData['serverRoot'])) {\n                                    base_url = '/files/' + basePath.substring(jupyterConfigData['serverRoot'].length+1);\n                                }\n                            }\n                        }\n                    }\n\n                    // works for local jupyter notebook\n                    if (base_url.length == 0) {\n\n                        var parts = baseURI.split('/');\n                        parts.pop(); // remove notebook name segment\n                        base_url = parts.join('/') + '/';\n                    }\n                    url = base_url + file_path_or_data;\n                }\n\n                window.focus();\n                var w = screen.width / 2;\n                var h = screen.height / 2;\n                params = 'width='+w+',height='+h;\n                // kql_Magic + window_name should be a global variable \n                window_obj = window.open(url, window_name, window_params + params);\n                if (url == '') {\n                    let decodedData = atob(file_path_or_data);\n                    if (host_or_text == 'text') {\n                        var el = window_obj.document.createElement('p');\n                        window_obj.document.body.overflow = 'auto';\n                        el.style.top = 0;\n                        el.style.left = 0;\n                        el.innerHTML = decodedData;\n                        window_obj.document.body.appendChild(el);\n                    } else {\n                        window_obj.document.body.innerHTML = decodedData;\n                    }\n                }\n                kql_Magic__8ecf8077_cf51_4820_aadd_14040956f35d_at_loganalytics_schema = window_obj;\n            }\n            </script>\n\n            </body></html>"
     },
     "metadata": {}
    },
    {
     "output_type": "display_data",
     "data": {
      "text/plain": "<IPython.core.display.Javascript object>",
      "application/javascript": "try {IPython.notebook.kernel.execute(\"NOTEBOOK_URL = '\" + window.location + \"'\");} catch(err) {;}"
     },
     "metadata": {}
    }
   ],
   "source": [
    "# Get the Azure Sentinel workspace details from msticpyconfig\n",
    "# Loading WorkspaceConfig with no parameters will use the details\n",
    "# of your \"Default\" workspace (see the Configuring Azure Sentinel settings section earlier)\n",
    "# If you want to connect to a specific workspace use this syntax:\n",
    "#    ws_config = WorkspaceConfig(workspace=\"WorkspaceName\")\n",
    "# ('WorkspaceName' should be one of the workspaces defined in msticpyconfig.yaml)\n",
    "ws_config = WorkspaceConfig()\n",
    " \n",
    "# Connect to Azure Sentinel with our QueryProvider and config details\n",
    "qry_prov.connect(ws_config)"
   ]
  },
  {
   "cell_type": "markdown",
   "metadata": {},
   "source": [
    "## Test the Azure Sentinel configuration\r\n",
    "\r\n",
    "### Viewing the Azure Sentinel workspace data schema\r\n",
    "\r\n",
    "You can use the schema to help understand what data is available to query.<br>\r\n",
    "The AzureSentinel QueryProvider has a \"schema_tables\" property that lets us get a list of tables\r\n",
    "as well the schema (column names and data types) for each table."
   ]
  },
  {
   "cell_type": "code",
   "execution_count": 8,
   "metadata": {},
   "outputs": [
    {
     "output_type": "stream",
     "name": "stdout",
     "text": [
      "Sample of first 10 tables in the schema\n"
     ]
    },
    {
     "output_type": "execute_result",
     "data": {
      "text/plain": [
       "['AACAudit',\n",
       " 'AACHttpRequest',\n",
       " 'AADDomainServicesAccountLogon',\n",
       " 'AADDomainServicesAccountManagement',\n",
       " 'AADDomainServicesDirectoryServiceAccess',\n",
       " 'AADDomainServicesLogonLogoff',\n",
       " 'AADDomainServicesPolicyChange',\n",
       " 'AADDomainServicesPrivilegeUse',\n",
       " 'AADDomainServicesSystemSecurity',\n",
       " 'AADManagedIdentitySignInLogs']"
      ]
     },
     "metadata": {},
     "execution_count": 8
    }
   ],
   "source": [
    "# Get list of tables in our Workspace with the 'schema_tables' property\n",
    "print(\"Sample of first 10 tables in the schema\")\n",
    "qry_prov.schema_tables[:10]  # We are outputting only a sample of tables for brevity\n",
    "                              # remove the \"[:10]\" to see the whole list\n"
   ]
  },
  {
   "cell_type": "markdown",
   "metadata": {},
   "source": [
    "## Azure Sentinel queries in MSTICPy\r\n",
    "\r\n",
    "MSTICPy includes a number of built-in queries that you can run.<br>\r\n",
    "You can list available queries with .list_queries() and get specific details about a query by calling it with \"?\" as a parameter"
   ]
  },
  {
   "cell_type": "code",
   "execution_count": 9,
   "metadata": {},
   "outputs": [
    {
     "output_type": "stream",
     "name": "stdout",
     "text": [
      "Sample of queries\n=================\n['Azure.get_vmcomputer_for_host', 'Azure.list_azure_activity_for_account', 'AzureNetwork.az_net_analytics', 'AzureNetwork.get_heartbeat_for_ip', 'AzureSentinel.get_bookmark_by_id', 'Heartbeat.get_heartbeat_for_host', 'LinuxSyslog.all_syslog', 'LinuxSyslog.list_logon_failures', 'LinuxSyslog.sudo_activity', 'MultiDataSource.get_timeseries_decompose', 'Network.get_host_for_ip', 'Office365.list_activity_for_ip', 'SecurityAlert.list_alerts_for_ip', 'ThreatIntelligence.list_indicators_by_filepath', 'WindowsSecurity.get_parent_process', 'WindowsSecurity.list_host_events', 'WindowsSecurity.list_hosts_matching_commandline', 'WindowsSecurity.list_other_events']\n\nHelp for 'list_all_signins_geo' query\n=====================================\nQuery:  list_all_signins_geo\nData source:  AzureSentinel\nGets Signin data used by morph charts\n\nParameters\n----------\nadd_query_items: str (optional)\n    Additional query clauses\nend: datetime (optional)\n    Query end time\nstart: datetime (optional)\n    Query start time\n    (default value is: -5)\ntable: str (optional)\n    Table name\n    (default value is: SigninLogs)\nQuery:\n {table} | where TimeGenerated >= datetime({start}) | where TimeGenerated <= datetime({end}) | extend Result = iif(ResultType==0, \"Sucess\", \"Failed\") | extend Latitude = tostring(parse_json(tostring(LocationDetails.geoCoordinates)).latitude) | extend Longitude = tostring(parse_json(tostring(LocationDetails.geoCoordinates)).longitude)\n"
     ]
    }
   ],
   "source": [
    "# Get a sample of available queries\n",
    "print(\"Sample of queries\")\n",
    "print(\"=================\")\n",
    "print(qry_prov.list_queries()[::5])  # showing a sample - remove \"[::5]\" for whole list\n",
    "\n",
    "# Get help about a query by passing \"?\" as a parameter\n",
    "print(\"\\nHelp for 'list_all_signins_geo' query\")\n",
    "print(\"=====================================\")\n",
    "qry_prov.Azure.list_all_signins_geo(\"?\")"
   ]
  },
  {
   "cell_type": "markdown",
   "metadata": {},
   "source": [
    "## Query browser\n",
    "\n",
    "The query browser combines both of the previous functions in a scrollable<br>\n",
    "and filterable list. For the selected query, it shows the required and<br>\n",
    "optional parameters, together with the full text of the query.<br>\n",
    "\n",
    "You cannot execute queries from the browser but you can copy and paste\n",
    "the example shown below the help for each query.\n"
   ]
  },
  {
   "cell_type": "code",
   "execution_count": 10,
   "metadata": {},
   "outputs": [
    {
     "output_type": "display_data",
     "data": {
      "text/plain": "VBox(children=(Text(value='', description='Filter:', style=DescriptionStyle(description_width='initial')), Sel…",
      "application/vnd.jupyter.widget-view+json": {
       "version_major": 2,
       "version_minor": 0,
       "model_id": "7bc27562a44d4b2ca7c1abe2b7503abf"
      }
     },
     "metadata": {}
    },
    {
     "output_type": "display_data",
     "data": {
      "text/plain": "<IPython.core.display.HTML object>",
      "text/html": "<hr>"
     },
     "metadata": {}
    },
    {
     "output_type": "display_data",
     "data": {
      "text/plain": "<IPython.core.display.HTML object>",
      "text/html": "<h3>Retrieves a single Bookmark by BookmarkId</h3><div></div><p><b>Parameters</b></p><div>add_query_items: str (optional)</div><div style='margin-left: 40px'>    Additional query clauses</div><div>bookmark_id: str</div><div style='margin-left: 40px'>    Identitifier of bookmark</div><div>end: datetime (optional)</div><div style='margin-left: 40px'>    Query end time</div><div>query_project: str (optional)</div><div style='margin-left: 40px'>    Column project statement</div><div>start: datetime (optional)</div><div style='margin-left: 40px'>    Query start time</div><div style='margin-left: 40px'>    (default value is: -30)</div><div>table: str (optional)</div><div style='margin-left: 40px'>    Table name</div><div style='margin-left: 40px'>    (default value is: HuntingBookmark)</div><br><p><b>Query</b></p><pre>{table} {query_project} HuntingBookmark \n| where BookmarkId =~ \"{bookmark_id}\" \n| extend QryResults = todynamic(QueryResultRow) \n| extend Computer = QryResults[\"Computer\"] \n| extend Account = QryResults[\"Account\"] \n| extend Entities = QryResults.__entityMapping \n| project-away QryResults \n| where SoftDeleted == false {add_query_items}</pre><br>\n        <p><b>Example</b></p>\n        <p>{QueryProvider}[.QueryPath].QueryName(params...)</p>\n        <pre>qry_prov.AzureSentinel.get_bookmark_by_id(start=start, end=end, hostname=host)</pre>\n    "
     },
     "metadata": {}
    }
   ],
   "source": [
    "qry_prov.browse_queries()"
   ]
  },
  {
   "cell_type": "markdown",
   "metadata": {},
   "source": [
    "## Run some queries\r\n",
    "\r\n",
    "### Most queries require time parameters!\r\n",
    "\r\n",
    "Datetime strings are **painful** to type in and keep track of. \r\n",
    "We can use MSTICPy's `nbwidgets.QueryTime` class to define \"start\" and \"end\" for queries.\r\n",
    "\r\n",
    "Each query provider has its own `QueryTime` instance built-in. If the query\r\n",
    "needs \"start\" and \"end\" parameters and you do not supply them, the query\r\n",
    "will take the time from this built-in timerange control."
   ]
  },
  {
   "cell_type": "code",
   "execution_count": 11,
   "metadata": {},
   "outputs": [
    {
     "output_type": "display_data",
     "data": {
      "text/plain": "VBox(children=(HTML(value='<h4>Set query time boundaries</h4>'), HBox(children=(DatePicker(value=datetime.date…",
      "application/vnd.jupyter.widget-view+json": {
       "version_major": 2,
       "version_minor": 0,
       "model_id": "fcd9ef03f87648ad9184fd7e057213c5"
      }
     },
     "metadata": {}
    }
   ],
   "source": [
    "# Open the query time control for our query provider\n",
    "qry_prov.query_time"
   ]
  },
  {
   "cell_type": "markdown",
   "metadata": {},
   "source": [
    "### Run a query using this time range.\r\n",
    "\r\n",
    "Query results are returned as a [Pandas DataFrame](https://pandas.pydata.org/).\r\n",
    "A dataframe is a tabular data structure much like a spreadsheet or\r\n",
    "database table.\r\n",
    "\r\n",
    "<details>\r\n",
    "    <summary>Learn more about DataFrames...</summary>\r\n",
    "    <p>\r\n",
    "    <ul>\r\n",
    "        <li>\r\n",
    "        The <a href=https://pandas.pydata.org/ >Pandas website</a> has an extensive user guide.</li>\r\n",
    "        <li>The <i>A Tour of Cybersec notebook features</i> has a brief introduction to common pandas operations.</li>\r\n",
    "    </ul>\r\n",
    "    </p>\r\n",
    "</details>\r\n"
   ]
  },
  {
   "cell_type": "code",
   "execution_count": 12,
   "metadata": {},
   "outputs": [
    {
     "output_type": "display_data",
     "data": {
      "text/plain": "<IPython.core.display.Javascript object>",
      "application/javascript": "try {IPython.notebook.kernel.execute(\"NOTEBOOK_URL = '\" + window.location + \"'\");} catch(err) {;}"
     },
     "metadata": {}
    },
    {
     "output_type": "execute_result",
     "data": {
      "text/plain": [
       "                               TenantId SourceSystem  \\\n",
       "0  8ecf8077-cf51-4820-aadd-14040956f35d     Azure AD   \n",
       "1  8ecf8077-cf51-4820-aadd-14040956f35d     Azure AD   \n",
       "2  8ecf8077-cf51-4820-aadd-14040956f35d     Azure AD   \n",
       "3  8ecf8077-cf51-4820-aadd-14040956f35d     Azure AD   \n",
       "4  8ecf8077-cf51-4820-aadd-14040956f35d     Azure AD   \n",
       "\n",
       "                     TimeGenerated  \\\n",
       "0 2021-07-14 10:56:30.062000+00:00   \n",
       "1 2021-07-14 10:56:34.868000+00:00   \n",
       "2 2021-07-14 10:58:50.835000+00:00   \n",
       "3 2021-07-14 10:58:56.135000+00:00   \n",
       "4 2021-07-14 11:26:30.812000+00:00   \n",
       "\n",
       "                                                                 ResourceId  \\\n",
       "0  /tenants/4b2462a4-bbee-495a-a0e1-f23ae524cc9c/providers/Microsoft.aadiam   \n",
       "1  /tenants/4b2462a4-bbee-495a-a0e1-f23ae524cc9c/providers/Microsoft.aadiam   \n",
       "2  /tenants/4b2462a4-bbee-495a-a0e1-f23ae524cc9c/providers/Microsoft.aadiam   \n",
       "3  /tenants/4b2462a4-bbee-495a-a0e1-f23ae524cc9c/providers/Microsoft.aadiam   \n",
       "4  /tenants/4b2462a4-bbee-495a-a0e1-f23ae524cc9c/providers/Microsoft.aadiam   \n",
       "\n",
       "      OperationName OperationVersion    Category ResultType ResultSignature  \\\n",
       "0  Sign-in activity              1.0  SignInLogs          0            None   \n",
       "1  Sign-in activity              1.0  SignInLogs          0            None   \n",
       "2  Sign-in activity              1.0  SignInLogs          0            None   \n",
       "3  Sign-in activity              1.0  SignInLogs          0            None   \n",
       "4  Sign-in activity              1.0  SignInLogs          0            None   \n",
       "\n",
       "  ResultDescription  DurationMs                         CorrelationId  \\\n",
       "0                             0  0a4ca097-b33d-4ed7-a19e-ad34bc299cd0   \n",
       "1                             0  dc57cafa-79fc-4c8e-83bc-c98e2ea9e3d8   \n",
       "2                             0  c08798f2-1c1e-4aba-a21b-74f8980ba40b   \n",
       "3                             0  7c229664-97a5-4621-b5f9-31fa223c5952   \n",
       "4                             0  5d31f207-8c2f-4c19-ada8-4a89630a7b1e   \n",
       "\n",
       "           Resource     ResourceGroup ResourceProvider  \\\n",
       "0  Microsoft.aadiam  Microsoft.aadiam                    \n",
       "1  Microsoft.aadiam  Microsoft.aadiam                    \n",
       "2  Microsoft.aadiam  Microsoft.aadiam                    \n",
       "3  Microsoft.aadiam  Microsoft.aadiam                    \n",
       "4  Microsoft.aadiam  Microsoft.aadiam                    \n",
       "\n",
       "                                                Identity Level Location  \\\n",
       "0  On-Premises Directory Synchronization Service Account     4       US   \n",
       "1  On-Premises Directory Synchronization Service Account     4       US   \n",
       "2  On-Premises Directory Synchronization Service Account     4       US   \n",
       "3  On-Premises Directory Synchronization Service Account     4       US   \n",
       "4  On-Premises Directory Synchronization Service Account     4       US   \n",
       "\n",
       "                                    AlternateSignInName  \\\n",
       "0    Sync_DC01_3862ce34675f@seccxpninja.onmicrosoft.com   \n",
       "1    Sync_DC01_3862ce34675f@seccxpninja.onmicrosoft.com   \n",
       "2  Sync_AADCON_a5225d32ba79@seccxpninja.onmicrosoft.com   \n",
       "3  Sync_AADCON_a5225d32ba79@seccxpninja.onmicrosoft.com   \n",
       "4    Sync_DC01_3862ce34675f@seccxpninja.onmicrosoft.com   \n",
       "\n",
       "                             AppDisplayName  \\\n",
       "0  Microsoft Azure Active Directory Connect   \n",
       "1  Microsoft Azure Active Directory Connect   \n",
       "2  Microsoft Azure Active Directory Connect   \n",
       "3  Microsoft Azure Active Directory Connect   \n",
       "4  Microsoft Azure Active Directory Connect   \n",
       "\n",
       "                                  AppId  \\\n",
       "0  cb1056e2-e479-49de-ae31-7812af012ed8   \n",
       "1  cb1056e2-e479-49de-ae31-7812af012ed8   \n",
       "2  cb1056e2-e479-49de-ae31-7812af012ed8   \n",
       "3  cb1056e2-e479-49de-ae31-7812af012ed8   \n",
       "4  cb1056e2-e479-49de-ae31-7812af012ed8   \n",
       "\n",
       "                                                                                 AuthenticationDetails  \\\n",
       "0  [\\r\\n  {\\r\\n    \"authenticationStepDateTime\": \"2021-07-14T10:56:30.0626249+00:00\",\\r\\n    \"authe...   \n",
       "1  [\\r\\n  {\\r\\n    \"authenticationStepDateTime\": \"2021-07-14T10:56:34.8688399+00:00\",\\r\\n    \"authe...   \n",
       "2  [\\r\\n  {\\r\\n    \"authenticationStepDateTime\": \"2021-07-14T10:58:50.8358827+00:00\",\\r\\n    \"authe...   \n",
       "3  [\\r\\n  {\\r\\n    \"authenticationStepDateTime\": \"2021-07-14T10:58:56.1354096+00:00\",\\r\\n    \"authe...   \n",
       "4  [\\r\\n  {\\r\\n    \"authenticationStepDateTime\": \"2021-07-14T11:26:30.8128251+00:00\",\\r\\n    \"authe...   \n",
       "\n",
       "  AuthenticationMethodsUsed  \\\n",
       "0                             \n",
       "1                             \n",
       "2                             \n",
       "3                             \n",
       "4                             \n",
       "\n",
       "                                            AuthenticationProcessingDetails  \\\n",
       "0  [\\r\\n  {\\r\\n    \"key\": \"IsCAEToken\",\\r\\n    \"value\": \"False\"\\r\\n  }\\r\\n]   \n",
       "1  [\\r\\n  {\\r\\n    \"key\": \"IsCAEToken\",\\r\\n    \"value\": \"False\"\\r\\n  }\\r\\n]   \n",
       "2  [\\r\\n  {\\r\\n    \"key\": \"IsCAEToken\",\\r\\n    \"value\": \"False\"\\r\\n  }\\r\\n]   \n",
       "3  [\\r\\n  {\\r\\n    \"key\": \"IsCAEToken\",\\r\\n    \"value\": \"False\"\\r\\n  }\\r\\n]   \n",
       "4  [\\r\\n  {\\r\\n    \"key\": \"IsCAEToken\",\\r\\n    \"value\": \"False\"\\r\\n  }\\r\\n]   \n",
       "\n",
       "    AuthenticationRequirement  ... RiskLevelDuringSignIn RiskState  \\\n",
       "0  singleFactorAuthentication  ...                  none      none   \n",
       "1  singleFactorAuthentication  ...                  none      none   \n",
       "2  singleFactorAuthentication  ...                  none      none   \n",
       "3  singleFactorAuthentication  ...                  none      none   \n",
       "4  singleFactorAuthentication  ...                  none      none   \n",
       "\n",
       "              ResourceDisplayName                      ResourceIdentity  \\\n",
       "0  Windows Azure Active Directory  00000002-0000-0000-c000-000000000000   \n",
       "1  Windows Azure Active Directory  00000002-0000-0000-c000-000000000000   \n",
       "2  Windows Azure Active Directory  00000002-0000-0000-c000-000000000000   \n",
       "3  Windows Azure Active Directory  00000002-0000-0000-c000-000000000000   \n",
       "4  Windows Azure Active Directory  00000002-0000-0000-c000-000000000000   \n",
       "\n",
       "  ServicePrincipalId ServicePrincipalName            Status TokenIssuerName  \\\n",
       "0                                          {'errorCode': 0}                   \n",
       "1                                          {'errorCode': 0}                   \n",
       "2                                          {'errorCode': 0}                   \n",
       "3                                          {'errorCode': 0}                   \n",
       "4                                          {'errorCode': 0}                   \n",
       "\n",
       "  TokenIssuerType UserAgent  \\\n",
       "0         AzureAD             \n",
       "1         AzureAD             \n",
       "2         AzureAD             \n",
       "3         AzureAD             \n",
       "4         AzureAD             \n",
       "\n",
       "                                         UserDisplayName  \\\n",
       "0  On-Premises Directory Synchronization Service Account   \n",
       "1  On-Premises Directory Synchronization Service Account   \n",
       "2  On-Premises Directory Synchronization Service Account   \n",
       "3  On-Premises Directory Synchronization Service Account   \n",
       "4  On-Premises Directory Synchronization Service Account   \n",
       "\n",
       "                                 UserId  \\\n",
       "0  ee856d98-cecd-4dbe-8833-bdeec67847d0   \n",
       "1  ee856d98-cecd-4dbe-8833-bdeec67847d0   \n",
       "2  2235a468-ad9c-4375-8008-0a7be76994a7   \n",
       "3  2235a468-ad9c-4375-8008-0a7be76994a7   \n",
       "4  ee856d98-cecd-4dbe-8833-bdeec67847d0   \n",
       "\n",
       "                                      UserPrincipalName  \\\n",
       "0    sync_dc01_3862ce34675f@seccxpninja.onmicrosoft.com   \n",
       "1    sync_dc01_3862ce34675f@seccxpninja.onmicrosoft.com   \n",
       "2  sync_aadcon_a5225d32ba79@seccxpninja.onmicrosoft.com   \n",
       "3  sync_aadcon_a5225d32ba79@seccxpninja.onmicrosoft.com   \n",
       "4    sync_dc01_3862ce34675f@seccxpninja.onmicrosoft.com   \n",
       "\n",
       "                            AADTenantId UserType FlaggedForReview  \\\n",
       "0  4b2462a4-bbee-495a-a0e1-f23ae524cc9c   Member             None   \n",
       "1  4b2462a4-bbee-495a-a0e1-f23ae524cc9c   Member             None   \n",
       "2  4b2462a4-bbee-495a-a0e1-f23ae524cc9c   Member             None   \n",
       "3  4b2462a4-bbee-495a-a0e1-f23ae524cc9c   Member             None   \n",
       "4  4b2462a4-bbee-495a-a0e1-f23ae524cc9c   Member             None   \n",
       "\n",
       "  IPAddressFromResourceProvider  \\\n",
       "0                                 \n",
       "1                                 \n",
       "2                                 \n",
       "3                                 \n",
       "4                                 \n",
       "\n",
       "                                       SignInIdentifier SignInIdentifierType  \\\n",
       "0    Sync_DC01_3862ce34675f@seccxpninja.onmicrosoft.com                        \n",
       "1    Sync_DC01_3862ce34675f@seccxpninja.onmicrosoft.com                        \n",
       "2  Sync_AADCON_a5225d32ba79@seccxpninja.onmicrosoft.com                        \n",
       "3  Sync_AADCON_a5225d32ba79@seccxpninja.onmicrosoft.com                        \n",
       "4    Sync_DC01_3862ce34675f@seccxpninja.onmicrosoft.com                        \n",
       "\n",
       "                       ResourceTenantId                          HomeTenantId  \\\n",
       "0  4b2462a4-bbee-495a-a0e1-f23ae524cc9c  4b2462a4-bbee-495a-a0e1-f23ae524cc9c   \n",
       "1  4b2462a4-bbee-495a-a0e1-f23ae524cc9c  4b2462a4-bbee-495a-a0e1-f23ae524cc9c   \n",
       "2  4b2462a4-bbee-495a-a0e1-f23ae524cc9c  4b2462a4-bbee-495a-a0e1-f23ae524cc9c   \n",
       "3  4b2462a4-bbee-495a-a0e1-f23ae524cc9c  4b2462a4-bbee-495a-a0e1-f23ae524cc9c   \n",
       "4  4b2462a4-bbee-495a-a0e1-f23ae524cc9c  4b2462a4-bbee-495a-a0e1-f23ae524cc9c   \n",
       "\n",
       "         Type  Result           Latitude           Longitude  \n",
       "0  SigninLogs  Sucess  38.73078155517578  -78.17196655273438  \n",
       "1  SigninLogs  Sucess  38.73078155517578  -78.17196655273438  \n",
       "2  SigninLogs  Sucess   38.7130012512207  -78.15899658203125  \n",
       "3  SigninLogs  Sucess   38.7130012512207  -78.15899658203125  \n",
       "4  SigninLogs  Sucess   38.7130012512207  -78.15899658203125  \n",
       "\n",
       "[5 rows x 69 columns]"
      ],
      "text/html": "<div>\n<style scoped>\n    .dataframe tbody tr th:only-of-type {\n        vertical-align: middle;\n    }\n\n    .dataframe tbody tr th {\n        vertical-align: top;\n    }\n\n    .dataframe thead th {\n        text-align: right;\n    }\n</style>\n<table border=\"1\" class=\"dataframe\">\n  <thead>\n    <tr style=\"text-align: right;\">\n      <th></th>\n      <th>TenantId</th>\n      <th>SourceSystem</th>\n      <th>TimeGenerated</th>\n      <th>ResourceId</th>\n      <th>OperationName</th>\n      <th>OperationVersion</th>\n      <th>Category</th>\n      <th>ResultType</th>\n      <th>ResultSignature</th>\n      <th>ResultDescription</th>\n      <th>DurationMs</th>\n      <th>CorrelationId</th>\n      <th>Resource</th>\n      <th>ResourceGroup</th>\n      <th>ResourceProvider</th>\n      <th>Identity</th>\n      <th>Level</th>\n      <th>Location</th>\n      <th>AlternateSignInName</th>\n      <th>AppDisplayName</th>\n      <th>AppId</th>\n      <th>AuthenticationDetails</th>\n      <th>AuthenticationMethodsUsed</th>\n      <th>AuthenticationProcessingDetails</th>\n      <th>AuthenticationRequirement</th>\n      <th>...</th>\n      <th>RiskLevelDuringSignIn</th>\n      <th>RiskState</th>\n      <th>ResourceDisplayName</th>\n      <th>ResourceIdentity</th>\n      <th>ServicePrincipalId</th>\n      <th>ServicePrincipalName</th>\n      <th>Status</th>\n      <th>TokenIssuerName</th>\n      <th>TokenIssuerType</th>\n      <th>UserAgent</th>\n      <th>UserDisplayName</th>\n      <th>UserId</th>\n      <th>UserPrincipalName</th>\n      <th>AADTenantId</th>\n      <th>UserType</th>\n      <th>FlaggedForReview</th>\n      <th>IPAddressFromResourceProvider</th>\n      <th>SignInIdentifier</th>\n      <th>SignInIdentifierType</th>\n      <th>ResourceTenantId</th>\n      <th>HomeTenantId</th>\n      <th>Type</th>\n      <th>Result</th>\n      <th>Latitude</th>\n      <th>Longitude</th>\n    </tr>\n  </thead>\n  <tbody>\n    <tr>\n      <th>0</th>\n      <td>8ecf8077-cf51-4820-aadd-14040956f35d</td>\n      <td>Azure AD</td>\n      <td>2021-07-14 10:56:30.062000+00:00</td>\n      <td>/tenants/4b2462a4-bbee-495a-a0e1-f23ae524cc9c/providers/Microsoft.aadiam</td>\n      <td>Sign-in activity</td>\n      <td>1.0</td>\n      <td>SignInLogs</td>\n      <td>0</td>\n      <td>None</td>\n      <td></td>\n      <td>0</td>\n      <td>0a4ca097-b33d-4ed7-a19e-ad34bc299cd0</td>\n      <td>Microsoft.aadiam</td>\n      <td>Microsoft.aadiam</td>\n      <td></td>\n      <td>On-Premises Directory Synchronization Service Account</td>\n      <td>4</td>\n      <td>US</td>\n      <td>Sync_DC01_3862ce34675f@seccxpninja.onmicrosoft.com</td>\n      <td>Microsoft Azure Active Directory Connect</td>\n      <td>cb1056e2-e479-49de-ae31-7812af012ed8</td>\n      <td>[\\r\\n  {\\r\\n    \"authenticationStepDateTime\": \"2021-07-14T10:56:30.0626249+00:00\",\\r\\n    \"authe...</td>\n      <td></td>\n      <td>[\\r\\n  {\\r\\n    \"key\": \"IsCAEToken\",\\r\\n    \"value\": \"False\"\\r\\n  }\\r\\n]</td>\n      <td>singleFactorAuthentication</td>\n      <td>...</td>\n      <td>none</td>\n      <td>none</td>\n      <td>Windows Azure Active Directory</td>\n      <td>00000002-0000-0000-c000-000000000000</td>\n      <td></td>\n      <td></td>\n      <td>{'errorCode': 0}</td>\n      <td></td>\n      <td>AzureAD</td>\n      <td></td>\n      <td>On-Premises Directory Synchronization Service Account</td>\n      <td>ee856d98-cecd-4dbe-8833-bdeec67847d0</td>\n      <td>sync_dc01_3862ce34675f@seccxpninja.onmicrosoft.com</td>\n      <td>4b2462a4-bbee-495a-a0e1-f23ae524cc9c</td>\n      <td>Member</td>\n      <td>None</td>\n      <td></td>\n      <td>Sync_DC01_3862ce34675f@seccxpninja.onmicrosoft.com</td>\n      <td></td>\n      <td>4b2462a4-bbee-495a-a0e1-f23ae524cc9c</td>\n      <td>4b2462a4-bbee-495a-a0e1-f23ae524cc9c</td>\n      <td>SigninLogs</td>\n      <td>Sucess</td>\n      <td>38.73078155517578</td>\n      <td>-78.17196655273438</td>\n    </tr>\n    <tr>\n      <th>1</th>\n      <td>8ecf8077-cf51-4820-aadd-14040956f35d</td>\n      <td>Azure AD</td>\n      <td>2021-07-14 10:56:34.868000+00:00</td>\n      <td>/tenants/4b2462a4-bbee-495a-a0e1-f23ae524cc9c/providers/Microsoft.aadiam</td>\n      <td>Sign-in activity</td>\n      <td>1.0</td>\n      <td>SignInLogs</td>\n      <td>0</td>\n      <td>None</td>\n      <td></td>\n      <td>0</td>\n      <td>dc57cafa-79fc-4c8e-83bc-c98e2ea9e3d8</td>\n      <td>Microsoft.aadiam</td>\n      <td>Microsoft.aadiam</td>\n      <td></td>\n      <td>On-Premises Directory Synchronization Service Account</td>\n      <td>4</td>\n      <td>US</td>\n      <td>Sync_DC01_3862ce34675f@seccxpninja.onmicrosoft.com</td>\n      <td>Microsoft Azure Active Directory Connect</td>\n      <td>cb1056e2-e479-49de-ae31-7812af012ed8</td>\n      <td>[\\r\\n  {\\r\\n    \"authenticationStepDateTime\": \"2021-07-14T10:56:34.8688399+00:00\",\\r\\n    \"authe...</td>\n      <td></td>\n      <td>[\\r\\n  {\\r\\n    \"key\": \"IsCAEToken\",\\r\\n    \"value\": \"False\"\\r\\n  }\\r\\n]</td>\n      <td>singleFactorAuthentication</td>\n      <td>...</td>\n      <td>none</td>\n      <td>none</td>\n      <td>Windows Azure Active Directory</td>\n      <td>00000002-0000-0000-c000-000000000000</td>\n      <td></td>\n      <td></td>\n      <td>{'errorCode': 0}</td>\n      <td></td>\n      <td>AzureAD</td>\n      <td></td>\n      <td>On-Premises Directory Synchronization Service Account</td>\n      <td>ee856d98-cecd-4dbe-8833-bdeec67847d0</td>\n      <td>sync_dc01_3862ce34675f@seccxpninja.onmicrosoft.com</td>\n      <td>4b2462a4-bbee-495a-a0e1-f23ae524cc9c</td>\n      <td>Member</td>\n      <td>None</td>\n      <td></td>\n      <td>Sync_DC01_3862ce34675f@seccxpninja.onmicrosoft.com</td>\n      <td></td>\n      <td>4b2462a4-bbee-495a-a0e1-f23ae524cc9c</td>\n      <td>4b2462a4-bbee-495a-a0e1-f23ae524cc9c</td>\n      <td>SigninLogs</td>\n      <td>Sucess</td>\n      <td>38.73078155517578</td>\n      <td>-78.17196655273438</td>\n    </tr>\n    <tr>\n      <th>2</th>\n      <td>8ecf8077-cf51-4820-aadd-14040956f35d</td>\n      <td>Azure AD</td>\n      <td>2021-07-14 10:58:50.835000+00:00</td>\n      <td>/tenants/4b2462a4-bbee-495a-a0e1-f23ae524cc9c/providers/Microsoft.aadiam</td>\n      <td>Sign-in activity</td>\n      <td>1.0</td>\n      <td>SignInLogs</td>\n      <td>0</td>\n      <td>None</td>\n      <td></td>\n      <td>0</td>\n      <td>c08798f2-1c1e-4aba-a21b-74f8980ba40b</td>\n      <td>Microsoft.aadiam</td>\n      <td>Microsoft.aadiam</td>\n      <td></td>\n      <td>On-Premises Directory Synchronization Service Account</td>\n      <td>4</td>\n      <td>US</td>\n      <td>Sync_AADCON_a5225d32ba79@seccxpninja.onmicrosoft.com</td>\n      <td>Microsoft Azure Active Directory Connect</td>\n      <td>cb1056e2-e479-49de-ae31-7812af012ed8</td>\n      <td>[\\r\\n  {\\r\\n    \"authenticationStepDateTime\": \"2021-07-14T10:58:50.8358827+00:00\",\\r\\n    \"authe...</td>\n      <td></td>\n      <td>[\\r\\n  {\\r\\n    \"key\": \"IsCAEToken\",\\r\\n    \"value\": \"False\"\\r\\n  }\\r\\n]</td>\n      <td>singleFactorAuthentication</td>\n      <td>...</td>\n      <td>none</td>\n      <td>none</td>\n      <td>Windows Azure Active Directory</td>\n      <td>00000002-0000-0000-c000-000000000000</td>\n      <td></td>\n      <td></td>\n      <td>{'errorCode': 0}</td>\n      <td></td>\n      <td>AzureAD</td>\n      <td></td>\n      <td>On-Premises Directory Synchronization Service Account</td>\n      <td>2235a468-ad9c-4375-8008-0a7be76994a7</td>\n      <td>sync_aadcon_a5225d32ba79@seccxpninja.onmicrosoft.com</td>\n      <td>4b2462a4-bbee-495a-a0e1-f23ae524cc9c</td>\n      <td>Member</td>\n      <td>None</td>\n      <td></td>\n      <td>Sync_AADCON_a5225d32ba79@seccxpninja.onmicrosoft.com</td>\n      <td></td>\n      <td>4b2462a4-bbee-495a-a0e1-f23ae524cc9c</td>\n      <td>4b2462a4-bbee-495a-a0e1-f23ae524cc9c</td>\n      <td>SigninLogs</td>\n      <td>Sucess</td>\n      <td>38.7130012512207</td>\n      <td>-78.15899658203125</td>\n    </tr>\n    <tr>\n      <th>3</th>\n      <td>8ecf8077-cf51-4820-aadd-14040956f35d</td>\n      <td>Azure AD</td>\n      <td>2021-07-14 10:58:56.135000+00:00</td>\n      <td>/tenants/4b2462a4-bbee-495a-a0e1-f23ae524cc9c/providers/Microsoft.aadiam</td>\n      <td>Sign-in activity</td>\n      <td>1.0</td>\n      <td>SignInLogs</td>\n      <td>0</td>\n      <td>None</td>\n      <td></td>\n      <td>0</td>\n      <td>7c229664-97a5-4621-b5f9-31fa223c5952</td>\n      <td>Microsoft.aadiam</td>\n      <td>Microsoft.aadiam</td>\n      <td></td>\n      <td>On-Premises Directory Synchronization Service Account</td>\n      <td>4</td>\n      <td>US</td>\n      <td>Sync_AADCON_a5225d32ba79@seccxpninja.onmicrosoft.com</td>\n      <td>Microsoft Azure Active Directory Connect</td>\n      <td>cb1056e2-e479-49de-ae31-7812af012ed8</td>\n      <td>[\\r\\n  {\\r\\n    \"authenticationStepDateTime\": \"2021-07-14T10:58:56.1354096+00:00\",\\r\\n    \"authe...</td>\n      <td></td>\n      <td>[\\r\\n  {\\r\\n    \"key\": \"IsCAEToken\",\\r\\n    \"value\": \"False\"\\r\\n  }\\r\\n]</td>\n      <td>singleFactorAuthentication</td>\n      <td>...</td>\n      <td>none</td>\n      <td>none</td>\n      <td>Windows Azure Active Directory</td>\n      <td>00000002-0000-0000-c000-000000000000</td>\n      <td></td>\n      <td></td>\n      <td>{'errorCode': 0}</td>\n      <td></td>\n      <td>AzureAD</td>\n      <td></td>\n      <td>On-Premises Directory Synchronization Service Account</td>\n      <td>2235a468-ad9c-4375-8008-0a7be76994a7</td>\n      <td>sync_aadcon_a5225d32ba79@seccxpninja.onmicrosoft.com</td>\n      <td>4b2462a4-bbee-495a-a0e1-f23ae524cc9c</td>\n      <td>Member</td>\n      <td>None</td>\n      <td></td>\n      <td>Sync_AADCON_a5225d32ba79@seccxpninja.onmicrosoft.com</td>\n      <td></td>\n      <td>4b2462a4-bbee-495a-a0e1-f23ae524cc9c</td>\n      <td>4b2462a4-bbee-495a-a0e1-f23ae524cc9c</td>\n      <td>SigninLogs</td>\n      <td>Sucess</td>\n      <td>38.7130012512207</td>\n      <td>-78.15899658203125</td>\n    </tr>\n    <tr>\n      <th>4</th>\n      <td>8ecf8077-cf51-4820-aadd-14040956f35d</td>\n      <td>Azure AD</td>\n      <td>2021-07-14 11:26:30.812000+00:00</td>\n      <td>/tenants/4b2462a4-bbee-495a-a0e1-f23ae524cc9c/providers/Microsoft.aadiam</td>\n      <td>Sign-in activity</td>\n      <td>1.0</td>\n      <td>SignInLogs</td>\n      <td>0</td>\n      <td>None</td>\n      <td></td>\n      <td>0</td>\n      <td>5d31f207-8c2f-4c19-ada8-4a89630a7b1e</td>\n      <td>Microsoft.aadiam</td>\n      <td>Microsoft.aadiam</td>\n      <td></td>\n      <td>On-Premises Directory Synchronization Service Account</td>\n      <td>4</td>\n      <td>US</td>\n      <td>Sync_DC01_3862ce34675f@seccxpninja.onmicrosoft.com</td>\n      <td>Microsoft Azure Active Directory Connect</td>\n      <td>cb1056e2-e479-49de-ae31-7812af012ed8</td>\n      <td>[\\r\\n  {\\r\\n    \"authenticationStepDateTime\": \"2021-07-14T11:26:30.8128251+00:00\",\\r\\n    \"authe...</td>\n      <td></td>\n      <td>[\\r\\n  {\\r\\n    \"key\": \"IsCAEToken\",\\r\\n    \"value\": \"False\"\\r\\n  }\\r\\n]</td>\n      <td>singleFactorAuthentication</td>\n      <td>...</td>\n      <td>none</td>\n      <td>none</td>\n      <td>Windows Azure Active Directory</td>\n      <td>00000002-0000-0000-c000-000000000000</td>\n      <td></td>\n      <td></td>\n      <td>{'errorCode': 0}</td>\n      <td></td>\n      <td>AzureAD</td>\n      <td></td>\n      <td>On-Premises Directory Synchronization Service Account</td>\n      <td>ee856d98-cecd-4dbe-8833-bdeec67847d0</td>\n      <td>sync_dc01_3862ce34675f@seccxpninja.onmicrosoft.com</td>\n      <td>4b2462a4-bbee-495a-a0e1-f23ae524cc9c</td>\n      <td>Member</td>\n      <td>None</td>\n      <td></td>\n      <td>Sync_DC01_3862ce34675f@seccxpninja.onmicrosoft.com</td>\n      <td></td>\n      <td>4b2462a4-bbee-495a-a0e1-f23ae524cc9c</td>\n      <td>4b2462a4-bbee-495a-a0e1-f23ae524cc9c</td>\n      <td>SigninLogs</td>\n      <td>Sucess</td>\n      <td>38.7130012512207</td>\n      <td>-78.15899658203125</td>\n    </tr>\n  </tbody>\n</table>\n<p>5 rows × 69 columns</p>\n</div>"
     },
     "metadata": {},
     "execution_count": 12
    }
   ],
   "source": [
    "# The time parameters are taken from the qry_prov time settings\n",
    "# but you can override this by supplying explict \"start\" and \"end\" datetimes\n",
    "signins_df = qry_prov.Azure.list_all_signins_geo()\n",
    "\n",
    "if signins_df.empty:\n",
    "    md(\"The query returned no rows for this time range. You might want to increase the time range\")\n",
    "\n",
    "# display first 5 rows of any results\n",
    "signins_df.head() # If you have no data you will just see the column headings displayed"
   ]
  },
  {
   "cell_type": "markdown",
   "metadata": {},
   "source": [
    "## Customizable queries\r\n",
    "\r\n",
    "Most built-in queries support the \"add_query_items\" parameter.\r\n",
    "You can use this to append additional filters or other operations to the built-in queries.\r\n",
    "\r\n",
    "Azure Sentinel queries use the Kusto Query Language (KQL).\r\n",
    "\r\n",
    "<div style=border: solid; padding: 5pt\"><b>Note:</b>\r\n",
    "If this query returns too many or too few results you can change the \"28\"\r\n",
    "in the query below to a smaller or larger number of days.\r\n",
    "</div>\r\n",
    "<br>\r\n",
    "\r\n",
    "<details>\r\n",
    "    <summary>Learn more about KQL query syntax...</summary>\r\n",
    "    <p>\r\n",
    "    <a href=https://aka.ms/kql >Kusto Query Language reference</a><br>\r\n",
    "    </p>\r\n",
    "</details>\r\n",
    "<br>\r\n"
   ]
  },
  {
   "cell_type": "code",
   "execution_count": 13,
   "metadata": {},
   "outputs": [
    {
     "output_type": "display_data",
     "data": {
      "text/plain": "<IPython.core.display.Javascript object>",
      "application/javascript": "try {IPython.notebook.kernel.execute(\"NOTEBOOK_URL = '\" + window.location + \"'\");} catch(err) {;}"
     },
     "metadata": {}
    },
    {
     "output_type": "execute_result",
     "data": {
      "text/plain": [
       "                                                            AlertName  \\\n",
       "0                  Malicious credential theft tool execution detected   \n",
       "1                                  Suspicious PowerShell command line   \n",
       "2         Suspected DCSync attack (replication of directory services)   \n",
       "3                                     Suspicious service registration   \n",
       "4                               Irregular creation of Azure resources   \n",
       "..                                                                ...   \n",
       "173                                     Password set to never expires   \n",
       "174                                                              test   \n",
       "175  Suspicion of NotPetya Malware - Illegal SMB Transaction Detected   \n",
       "176   Suspicion of NotPetya Malware - Illegal SMB Parameters Detected   \n",
       "177               Invalid SMB Message (DoublePulsar Backdoor Implant)   \n",
       "\n",
       "     NumAlerts  \n",
       "0           47  \n",
       "1           22  \n",
       "2           13  \n",
       "3           15  \n",
       "4           13  \n",
       "..         ...  \n",
       "173          1  \n",
       "174          1  \n",
       "175          1  \n",
       "176          1  \n",
       "177          1  \n",
       "\n",
       "[178 rows x 2 columns]"
      ],
      "text/html": "<div>\n<style scoped>\n    .dataframe tbody tr th:only-of-type {\n        vertical-align: middle;\n    }\n\n    .dataframe tbody tr th {\n        vertical-align: top;\n    }\n\n    .dataframe thead th {\n        text-align: right;\n    }\n</style>\n<table border=\"1\" class=\"dataframe\">\n  <thead>\n    <tr style=\"text-align: right;\">\n      <th></th>\n      <th>AlertName</th>\n      <th>NumAlerts</th>\n    </tr>\n  </thead>\n  <tbody>\n    <tr>\n      <th>0</th>\n      <td>Malicious credential theft tool execution detected</td>\n      <td>47</td>\n    </tr>\n    <tr>\n      <th>1</th>\n      <td>Suspicious PowerShell command line</td>\n      <td>22</td>\n    </tr>\n    <tr>\n      <th>2</th>\n      <td>Suspected DCSync attack (replication of directory services)</td>\n      <td>13</td>\n    </tr>\n    <tr>\n      <th>3</th>\n      <td>Suspicious service registration</td>\n      <td>15</td>\n    </tr>\n    <tr>\n      <th>4</th>\n      <td>Irregular creation of Azure resources</td>\n      <td>13</td>\n    </tr>\n    <tr>\n      <th>...</th>\n      <td>...</td>\n      <td>...</td>\n    </tr>\n    <tr>\n      <th>173</th>\n      <td>Password set to never expires</td>\n      <td>1</td>\n    </tr>\n    <tr>\n      <th>174</th>\n      <td>test</td>\n      <td>1</td>\n    </tr>\n    <tr>\n      <th>175</th>\n      <td>Suspicion of NotPetya Malware - Illegal SMB Transaction Detected</td>\n      <td>1</td>\n    </tr>\n    <tr>\n      <th>176</th>\n      <td>Suspicion of NotPetya Malware - Illegal SMB Parameters Detected</td>\n      <td>1</td>\n    </tr>\n    <tr>\n      <th>177</th>\n      <td>Invalid SMB Message (DoublePulsar Backdoor Implant)</td>\n      <td>1</td>\n    </tr>\n  </tbody>\n</table>\n<p>178 rows × 2 columns</p>\n</div>"
     },
     "metadata": {},
     "execution_count": 13
    }
   ],
   "source": [
    "from datetime import datetime, timedelta\n",
    "\n",
    "qry_prov.SecurityAlert.list_alerts(\n",
    "    start=datetime.utcnow() - timedelta(28),\n",
    "    end=datetime.utcnow(),\n",
    "    add_query_items=\"| summarize NumAlerts=count() by AlertName\"\n",
    ")"
   ]
  },
  {
   "cell_type": "markdown",
   "metadata": {},
   "source": [
    "## Custom queries\r\n",
    "\r\n",
    "Another way to run queries is to pass a full KQL query string to the query provider.\r\n",
    "\r\n",
    "This will run the query against the workspace connected to above, and will return the data \r\n",
    "as DataFrame.\r\n"
   ]
  },
  {
   "cell_type": "code",
   "execution_count": 14,
   "metadata": {},
   "outputs": [
    {
     "output_type": "display_data",
     "data": {
      "text/plain": "<IPython.core.display.Javascript object>",
      "application/javascript": "try {IPython.notebook.kernel.execute(\"NOTEBOOK_URL = '\" + window.location + \"'\");} catch(err) {;}"
     },
     "metadata": {}
    },
    {
     "output_type": "display_data",
     "data": {
      "text/plain": "                               TenantId Application UserDomain UserAgent  \\\n0  8ecf8077-cf51-4820-aadd-14040956f35d                                    \n1  8ecf8077-cf51-4820-aadd-14040956f35d                                    \n2  8ecf8077-cf51-4820-aadd-14040956f35d                                    \n3  8ecf8077-cf51-4820-aadd-14040956f35d                                    \n4  8ecf8077-cf51-4820-aadd-14040956f35d                                    \n\n  RecordType             TimeGenerated          Operation  \\\n0         50 2021-07-14 11:20:44+00:00  MailItemsAccessed   \n1         50 2021-07-14 11:20:44+00:00  MailItemsAccessed   \n2         50 2021-07-14 12:38:41+00:00  MailItemsAccessed   \n3         50 2021-07-14 12:38:41+00:00  MailItemsAccessed   \n4         50 2021-07-14 12:38:41+00:00  MailItemsAccessed   \n\n                         OrganizationId                       OrganizationId_  \\\n0  4b2462a4-bbee-495a-a0e1-f23ae524cc9c  4b2462a4-bbee-495a-a0e1-f23ae524cc9c   \n1  4b2462a4-bbee-495a-a0e1-f23ae524cc9c  4b2462a4-bbee-495a-a0e1-f23ae524cc9c   \n2  4b2462a4-bbee-495a-a0e1-f23ae524cc9c  4b2462a4-bbee-495a-a0e1-f23ae524cc9c   \n3  4b2462a4-bbee-495a-a0e1-f23ae524cc9c  4b2462a4-bbee-495a-a0e1-f23ae524cc9c   \n4  4b2462a4-bbee-495a-a0e1-f23ae524cc9c  4b2462a4-bbee-495a-a0e1-f23ae524cc9c   \n\n  UserType           UserKey OfficeWorkload ResultStatus ResultReasonType  \\\n0  Regular  100320003C017CC9       Exchange    Succeeded        Succeeded   \n1  Regular  100320003C017CC9       Exchange    Succeeded        Succeeded   \n2  Regular  100320003F8A6FC7       Exchange    Succeeded        Succeeded   \n3  Regular  100320003F8A6FC7       Exchange    Succeeded        Succeeded   \n4  Regular  100320003F8A6FC7       Exchange    Succeeded        Succeeded   \n\n  OfficeObjectId                               UserId  \\\n0                 FMorris@seccxpninja.onmicrosoft.com   \n1                 FMorris@seccxpninja.onmicrosoft.com   \n2                                 MeganB@seccxp.ninja   \n3                                 MeganB@seccxp.ninja   \n4                                 MeganB@seccxp.ninja   \n\n                               UserId_ ClientIP ClientIP_ Scope Site_  \\\n0  FMorris@seccxpninja.onmicrosoft.com                                  \n1  FMorris@seccxpninja.onmicrosoft.com                                  \n2                  MeganB@seccxp.ninja                                  \n3                  MeganB@seccxp.ninja                                  \n4                  MeganB@seccxp.ninja                                  \n\n  ItemType EventSource Source_Name MachineDomainInfo  ... ChannelType  \\\n0                                                     ...               \n1                                                     ...               \n2                                                     ...               \n3                                                     ...               \n4                                                     ...               \n\n  ChannelName ChannelGuid ExtraProperties AddOnType AddonName TabType Name  \\\n0                                    None                                    \n1                                    None                                    \n2                                    None                                    \n3                                    None                                    \n4                                    None                                    \n\n  OldValue NewValue ItemName ChatThreadId ChatName CommunicationType  \\\n0                                                                      \n1                                                                      \n2                                                                      \n3                                                                      \n4                                                                      \n\n  AADGroupId AddOnGuid AppDistributionMode TargetUserId OperationScope  \\\n0                                                                        \n1                                                                        \n2                                                                        \n3                                                                        \n4                                                                        \n\n  AzureADAppId  \\\n0                \n1                \n2                \n3                \n4                \n\n                                                                        OperationProperties  \\\n0  [{'Name': 'MailAccessType', 'Value': 'Bind'}, {'Name': 'IsThrottled', 'Value': 'False'}]   \n1  [{'Name': 'MailAccessType', 'Value': 'Bind'}, {'Name': 'IsThrottled', 'Value': 'False'}]   \n2  [{'Name': 'MailAccessType', 'Value': 'Bind'}, {'Name': 'IsThrottled', 'Value': 'False'}]   \n3  [{'Name': 'MailAccessType', 'Value': 'Bind'}, {'Name': 'IsThrottled', 'Value': 'False'}]   \n4  [{'Name': 'MailAccessType', 'Value': 'Bind'}, {'Name': 'IsThrottled', 'Value': 'False'}]   \n\n                                  AppId                           ClientAppId  \\\n0  7a5fbd1c-3e6d-461a-9075-83049393b3a7  7a5fbd1c-3e6d-461a-9075-83049393b3a7   \n1  7a5fbd1c-3e6d-461a-9075-83049393b3a7  7a5fbd1c-3e6d-461a-9075-83049393b3a7   \n2  414a677a-e50f-46ea-b89c-aebb8a9efbe2                                         \n3  414a677a-e50f-46ea-b89c-aebb8a9efbe2                                         \n4  414a677a-e50f-46ea-b89c-aebb8a9efbe2                                         \n\n             Type _ResourceId  \n0  OfficeActivity              \n1  OfficeActivity              \n2  OfficeActivity              \n3  OfficeActivity              \n4  OfficeActivity              \n\n[5 rows x 131 columns]",
      "text/html": "<div>\n<style scoped>\n    .dataframe tbody tr th:only-of-type {\n        vertical-align: middle;\n    }\n\n    .dataframe tbody tr th {\n        vertical-align: top;\n    }\n\n    .dataframe thead th {\n        text-align: right;\n    }\n</style>\n<table border=\"1\" class=\"dataframe\">\n  <thead>\n    <tr style=\"text-align: right;\">\n      <th></th>\n      <th>TenantId</th>\n      <th>Application</th>\n      <th>UserDomain</th>\n      <th>UserAgent</th>\n      <th>RecordType</th>\n      <th>TimeGenerated</th>\n      <th>Operation</th>\n      <th>OrganizationId</th>\n      <th>OrganizationId_</th>\n      <th>UserType</th>\n      <th>UserKey</th>\n      <th>OfficeWorkload</th>\n      <th>ResultStatus</th>\n      <th>ResultReasonType</th>\n      <th>OfficeObjectId</th>\n      <th>UserId</th>\n      <th>UserId_</th>\n      <th>ClientIP</th>\n      <th>ClientIP_</th>\n      <th>Scope</th>\n      <th>Site_</th>\n      <th>ItemType</th>\n      <th>EventSource</th>\n      <th>Source_Name</th>\n      <th>MachineDomainInfo</th>\n      <th>...</th>\n      <th>ChannelType</th>\n      <th>ChannelName</th>\n      <th>ChannelGuid</th>\n      <th>ExtraProperties</th>\n      <th>AddOnType</th>\n      <th>AddonName</th>\n      <th>TabType</th>\n      <th>Name</th>\n      <th>OldValue</th>\n      <th>NewValue</th>\n      <th>ItemName</th>\n      <th>ChatThreadId</th>\n      <th>ChatName</th>\n      <th>CommunicationType</th>\n      <th>AADGroupId</th>\n      <th>AddOnGuid</th>\n      <th>AppDistributionMode</th>\n      <th>TargetUserId</th>\n      <th>OperationScope</th>\n      <th>AzureADAppId</th>\n      <th>OperationProperties</th>\n      <th>AppId</th>\n      <th>ClientAppId</th>\n      <th>Type</th>\n      <th>_ResourceId</th>\n    </tr>\n  </thead>\n  <tbody>\n    <tr>\n      <th>0</th>\n      <td>8ecf8077-cf51-4820-aadd-14040956f35d</td>\n      <td></td>\n      <td></td>\n      <td></td>\n      <td>50</td>\n      <td>2021-07-14 11:20:44+00:00</td>\n      <td>MailItemsAccessed</td>\n      <td>4b2462a4-bbee-495a-a0e1-f23ae524cc9c</td>\n      <td>4b2462a4-bbee-495a-a0e1-f23ae524cc9c</td>\n      <td>Regular</td>\n      <td>100320003C017CC9</td>\n      <td>Exchange</td>\n      <td>Succeeded</td>\n      <td>Succeeded</td>\n      <td></td>\n      <td>FMorris@seccxpninja.onmicrosoft.com</td>\n      <td>FMorris@seccxpninja.onmicrosoft.com</td>\n      <td></td>\n      <td></td>\n      <td></td>\n      <td></td>\n      <td></td>\n      <td></td>\n      <td></td>\n      <td></td>\n      <td>...</td>\n      <td></td>\n      <td></td>\n      <td></td>\n      <td>None</td>\n      <td></td>\n      <td></td>\n      <td></td>\n      <td></td>\n      <td></td>\n      <td></td>\n      <td></td>\n      <td></td>\n      <td></td>\n      <td></td>\n      <td></td>\n      <td></td>\n      <td></td>\n      <td></td>\n      <td></td>\n      <td></td>\n      <td>[{'Name': 'MailAccessType', 'Value': 'Bind'}, {'Name': 'IsThrottled', 'Value': 'False'}]</td>\n      <td>7a5fbd1c-3e6d-461a-9075-83049393b3a7</td>\n      <td>7a5fbd1c-3e6d-461a-9075-83049393b3a7</td>\n      <td>OfficeActivity</td>\n      <td></td>\n    </tr>\n    <tr>\n      <th>1</th>\n      <td>8ecf8077-cf51-4820-aadd-14040956f35d</td>\n      <td></td>\n      <td></td>\n      <td></td>\n      <td>50</td>\n      <td>2021-07-14 11:20:44+00:00</td>\n      <td>MailItemsAccessed</td>\n      <td>4b2462a4-bbee-495a-a0e1-f23ae524cc9c</td>\n      <td>4b2462a4-bbee-495a-a0e1-f23ae524cc9c</td>\n      <td>Regular</td>\n      <td>100320003C017CC9</td>\n      <td>Exchange</td>\n      <td>Succeeded</td>\n      <td>Succeeded</td>\n      <td></td>\n      <td>FMorris@seccxpninja.onmicrosoft.com</td>\n      <td>FMorris@seccxpninja.onmicrosoft.com</td>\n      <td></td>\n      <td></td>\n      <td></td>\n      <td></td>\n      <td></td>\n      <td></td>\n      <td></td>\n      <td></td>\n      <td>...</td>\n      <td></td>\n      <td></td>\n      <td></td>\n      <td>None</td>\n      <td></td>\n      <td></td>\n      <td></td>\n      <td></td>\n      <td></td>\n      <td></td>\n      <td></td>\n      <td></td>\n      <td></td>\n      <td></td>\n      <td></td>\n      <td></td>\n      <td></td>\n      <td></td>\n      <td></td>\n      <td></td>\n      <td>[{'Name': 'MailAccessType', 'Value': 'Bind'}, {'Name': 'IsThrottled', 'Value': 'False'}]</td>\n      <td>7a5fbd1c-3e6d-461a-9075-83049393b3a7</td>\n      <td>7a5fbd1c-3e6d-461a-9075-83049393b3a7</td>\n      <td>OfficeActivity</td>\n      <td></td>\n    </tr>\n    <tr>\n      <th>2</th>\n      <td>8ecf8077-cf51-4820-aadd-14040956f35d</td>\n      <td></td>\n      <td></td>\n      <td></td>\n      <td>50</td>\n      <td>2021-07-14 12:38:41+00:00</td>\n      <td>MailItemsAccessed</td>\n      <td>4b2462a4-bbee-495a-a0e1-f23ae524cc9c</td>\n      <td>4b2462a4-bbee-495a-a0e1-f23ae524cc9c</td>\n      <td>Regular</td>\n      <td>100320003F8A6FC7</td>\n      <td>Exchange</td>\n      <td>Succeeded</td>\n      <td>Succeeded</td>\n      <td></td>\n      <td>MeganB@seccxp.ninja</td>\n      <td>MeganB@seccxp.ninja</td>\n      <td></td>\n      <td></td>\n      <td></td>\n      <td></td>\n      <td></td>\n      <td></td>\n      <td></td>\n      <td></td>\n      <td>...</td>\n      <td></td>\n      <td></td>\n      <td></td>\n      <td>None</td>\n      <td></td>\n      <td></td>\n      <td></td>\n      <td></td>\n      <td></td>\n      <td></td>\n      <td></td>\n      <td></td>\n      <td></td>\n      <td></td>\n      <td></td>\n      <td></td>\n      <td></td>\n      <td></td>\n      <td></td>\n      <td></td>\n      <td>[{'Name': 'MailAccessType', 'Value': 'Bind'}, {'Name': 'IsThrottled', 'Value': 'False'}]</td>\n      <td>414a677a-e50f-46ea-b89c-aebb8a9efbe2</td>\n      <td></td>\n      <td>OfficeActivity</td>\n      <td></td>\n    </tr>\n    <tr>\n      <th>3</th>\n      <td>8ecf8077-cf51-4820-aadd-14040956f35d</td>\n      <td></td>\n      <td></td>\n      <td></td>\n      <td>50</td>\n      <td>2021-07-14 12:38:41+00:00</td>\n      <td>MailItemsAccessed</td>\n      <td>4b2462a4-bbee-495a-a0e1-f23ae524cc9c</td>\n      <td>4b2462a4-bbee-495a-a0e1-f23ae524cc9c</td>\n      <td>Regular</td>\n      <td>100320003F8A6FC7</td>\n      <td>Exchange</td>\n      <td>Succeeded</td>\n      <td>Succeeded</td>\n      <td></td>\n      <td>MeganB@seccxp.ninja</td>\n      <td>MeganB@seccxp.ninja</td>\n      <td></td>\n      <td></td>\n      <td></td>\n      <td></td>\n      <td></td>\n      <td></td>\n      <td></td>\n      <td></td>\n      <td>...</td>\n      <td></td>\n      <td></td>\n      <td></td>\n      <td>None</td>\n      <td></td>\n      <td></td>\n      <td></td>\n      <td></td>\n      <td></td>\n      <td></td>\n      <td></td>\n      <td></td>\n      <td></td>\n      <td></td>\n      <td></td>\n      <td></td>\n      <td></td>\n      <td></td>\n      <td></td>\n      <td></td>\n      <td>[{'Name': 'MailAccessType', 'Value': 'Bind'}, {'Name': 'IsThrottled', 'Value': 'False'}]</td>\n      <td>414a677a-e50f-46ea-b89c-aebb8a9efbe2</td>\n      <td></td>\n      <td>OfficeActivity</td>\n      <td></td>\n    </tr>\n    <tr>\n      <th>4</th>\n      <td>8ecf8077-cf51-4820-aadd-14040956f35d</td>\n      <td></td>\n      <td></td>\n      <td></td>\n      <td>50</td>\n      <td>2021-07-14 12:38:41+00:00</td>\n      <td>MailItemsAccessed</td>\n      <td>4b2462a4-bbee-495a-a0e1-f23ae524cc9c</td>\n      <td>4b2462a4-bbee-495a-a0e1-f23ae524cc9c</td>\n      <td>Regular</td>\n      <td>100320003F8A6FC7</td>\n      <td>Exchange</td>\n      <td>Succeeded</td>\n      <td>Succeeded</td>\n      <td></td>\n      <td>MeganB@seccxp.ninja</td>\n      <td>MeganB@seccxp.ninja</td>\n      <td></td>\n      <td></td>\n      <td></td>\n      <td></td>\n      <td></td>\n      <td></td>\n      <td></td>\n      <td></td>\n      <td>...</td>\n      <td></td>\n      <td></td>\n      <td></td>\n      <td>None</td>\n      <td></td>\n      <td></td>\n      <td></td>\n      <td></td>\n      <td></td>\n      <td></td>\n      <td></td>\n      <td></td>\n      <td></td>\n      <td></td>\n      <td></td>\n      <td></td>\n      <td></td>\n      <td></td>\n      <td></td>\n      <td></td>\n      <td>[{'Name': 'MailAccessType', 'Value': 'Bind'}, {'Name': 'IsThrottled', 'Value': 'False'}]</td>\n      <td>414a677a-e50f-46ea-b89c-aebb8a9efbe2</td>\n      <td></td>\n      <td>OfficeActivity</td>\n      <td></td>\n    </tr>\n  </tbody>\n</table>\n<p>5 rows × 131 columns</p>\n</div>"
     },
     "metadata": {}
    }
   ],
   "source": [
    "# Define our query\n",
    "test_query = \"\"\"\n",
    "OfficeActivity\n",
    "| where TimeGenerated > ago(1d)\n",
    "| take 10\n",
    "\"\"\"\n",
    "\n",
    "# Pass that query to our QueryProvider\n",
    "office_events_df = qry_prov.exec_query(test_query)\n",
    "display(office_events_df.head())\n"
   ]
  },
  {
   "cell_type": "markdown",
   "metadata": {},
   "source": [
    "<details>\r\n",
    "    <summary>Learn more about MSTICPy pre-defined queries...</summary>\r\n",
    "    <ul>\r\n",
    "      <li>\r\n",
    "        <a href=https://msticpy.readthedocs.io/en/latest/data_acquisition/DataProviders.html#running-an-pre-defined-query >Running MSTICPy pre-defined queries</a>\r\n",
    "      </li>\r\n",
    "      <li>\r\n",
    "        <a href=https://msticpy.readthedocs.io/en/latest/data_acquisition/DataQueries.html>MSTICPy query reference</a>\r\n",
    "      </li>\r\n",
    "    </ul>\r\n",
    "</details>\r\n",
    "<br>\r\n"
   ]
  },
  {
   "cell_type": "markdown",
   "metadata": {},
   "source": [
    "---\r\n",
    "\r\n",
    "# Testing Threat Intelligence (VirusTotal) and IP location (GeoLite2) configuration\r\n",
    "\r\n",
    "Threat intelligence and IP location are two common enrichments that you might apply to queried data.\r\n",
    "\r\n",
    "Let's test the VirusTotal provider with a known bad IP Address.\r\n",
    "\r\n",
    "<details>\r\n",
    "    <summary>Learn more...</summary>\r\n",
    "    <p>\r\n",
    "    </p>\r\n",
    "    <ul>\r\n",
    "        <li>More details are shown in the <i>A Tour of Cybersec notebook features</i> notebook</li>\r\n",
    "        <li><a href=https://msticpy.readthedocs.io/en/latest/data_acquisition/TIProviders.html >Threat Intel Lookups in MSTICPy</a></li>\r\n",
    "    </ul>\r\n",
    "</details>\r\n",
    "<br>\r\n",
    "\r\n",
    "\r\n",
    "## Threat intel lookup\r\n"
   ]
  },
  {
   "cell_type": "code",
   "execution_count": 15,
   "metadata": {},
   "outputs": [
    {
     "output_type": "stream",
     "name": "stdout",
     "text": [
      "Using Open PageRank. See https://www.domcop.com/openpagerank/what-is-openpagerank\n"
     ]
    },
    {
     "output_type": "display_data",
     "data": {
      "text/plain": "VBox(children=(Text(value='', description='Filter:', style=DescriptionStyle(description_width='initial')), Sel…",
      "application/vnd.jupyter.widget-view+json": {
       "version_major": 2,
       "version_minor": 0,
       "model_id": "15c64b7a9491458f9607b6454d52c055"
      }
     },
     "metadata": {}
    },
    {
     "output_type": "display_data",
     "data": {
      "text/plain": "<IPython.core.display.HTML object>",
      "text/html": "<hr>"
     },
     "metadata": {}
    },
    {
     "output_type": "display_data",
     "data": {
      "text/plain": "<IPython.core.display.HTML object>",
      "text/html": "<h2 style='border: 1px solid;background-color: DarkGray; padding: 6px'>85.214.149.236</h2><h3 style='background-color: SteelBlue; padding: 6px'>Type: 'ipv4', Provider: VirusTotal, severity: high</h3><h4>Details</h4>\n<style>\n    .tb_ti_res {border-collapse: collapse; width: 60%; border: 1px solid #ddd !important;}\n    .cell_ti {border: 1px solid #ddd !important;\n        text-align: left !important; padding: 5px !important; height: 12px}\n    .cell_ti_first {border: 1px solid #ddd !important; width: 25%;\n        text-align: left !important; padding: 5px !important; height: 12px}\n</style>\n<table class='tb_ti_res'><tr class='cell_ti'><td class='cell_ti_first'>VirusTotal</td><tr class='cell_ti'><td class='cell_ti_first'>verbose_msg</td><td class='cell_ti'>IP address in dataset</td></tr><tr class='cell_ti'><td class='cell_ti_first'>response_code</td><td class='cell_ti'>1</td></tr><tr class='cell_ti'><td class='cell_ti_first'>positives</td><td class='cell_ti'>217</td></tr><tr class='cell_ti'><td class='cell_ti_first'>detected_urls</td><td class='cell_ti'>['http://85.214.149.236/sugarcrm/themes/default/images/', 'http://85.214.149.236:443/sugarcrm/themes/default/images/stock.jpg', 'http://85.214.149.236:443/sugarcrm/themes/default/images/tshd.jpg', 'http://85.214.149.236/', 'http://85.214.149.236:443/sugarcrm/themes/default/images/bioset.jpg', 'http://85.214.149.236:443/sugarcrm/themes/default/images/mod.jpg', 'http://85.214.149.236:443/sugarcrm/themes/default/images/default.jpg', 'http://dockerupdate.anondns.net/', 'http://dockerupdate.anondns.net:443/sugarcrm/themes/default/images/', 'http://85.214.149.236:443/sugarcrm/themes/default/images/', 'http://85.214.149.236:443/sugarcrm/themes/default/images/kube.jpg', 'http://85.214.149.236:443/']</td></tr><tr class='cell_ti'><td class='cell_ti_first'>detected_downloaded_samples</td><td class='cell_ti'>['75a733d99d72d1d0d6ca99ec852d97ae8c515ed136e12195e96adf6df7bbad41', '252bf8c685289759b90c1de6f9db345c2cfe62e6f8aad9a7f44dfb3c8508487a', 'e15550481e89dbd154b875ce50cc5af4b49f9ff7b837d9ac5b5594e5d63966a3']</td></tr><tr class='cell_ti'><td class='cell_ti_first'>detected_communicating_samples</td><td class='cell_ti'>[]</td></tr></tr></table><h4>Reference: </h4><a href='https://www.virustotal.com/vtapi/v2/ip-address/report'>https://www.virustotal.com/vtapi/v2/ip-address/report</a><br><hr><h4>Raw Results</h4>\n        <details>\n        <summary> <u>Raw results from provider...</u></summary>\n        <pre  style=\"font-size:11px\">{'as_owner':&nbsp;'Strato&nbsp;AG',<br>&nbsp;'asn':&nbsp;6724,<br>&nbsp;'country':&nbsp;'DE',<br>&nbsp;'detected_communicating_samples':&nbsp;[{'date':&nbsp;'2021-06-11&nbsp;01:23:22',<br>&nbsp;&nbsp;&nbsp;&nbsp;&nbsp;&nbsp;&nbsp;&nbsp;&nbsp;&nbsp;&nbsp;&nbsp;&nbsp;&nbsp;&nbsp;&nbsp;&nbsp;&nbsp;&nbsp;&nbsp;&nbsp;&nbsp;&nbsp;&nbsp;&nbsp;&nbsp;&nbsp;&nbsp;&nbsp;&nbsp;&nbsp;&nbsp;&nbsp;&nbsp;&nbsp;&nbsp;&nbsp;'positives':&nbsp;13,<br>&nbsp;&nbsp;&nbsp;&nbsp;&nbsp;&nbsp;&nbsp;&nbsp;&nbsp;&nbsp;&nbsp;&nbsp;&nbsp;&nbsp;&nbsp;&nbsp;&nbsp;&nbsp;&nbsp;&nbsp;&nbsp;&nbsp;&nbsp;&nbsp;&nbsp;&nbsp;&nbsp;&nbsp;&nbsp;&nbsp;&nbsp;&nbsp;&nbsp;&nbsp;&nbsp;&nbsp;&nbsp;'sha256':&nbsp;'ab12b5d03f8467a1089d3d40ef9c4a54fb16ee61bb68714040e9edf96b5e763f',<br>&nbsp;&nbsp;&nbsp;&nbsp;&nbsp;&nbsp;&nbsp;&nbsp;&nbsp;&nbsp;&nbsp;&nbsp;&nbsp;&nbsp;&nbsp;&nbsp;&nbsp;&nbsp;&nbsp;&nbsp;&nbsp;&nbsp;&nbsp;&nbsp;&nbsp;&nbsp;&nbsp;&nbsp;&nbsp;&nbsp;&nbsp;&nbsp;&nbsp;&nbsp;&nbsp;&nbsp;&nbsp;'total':&nbsp;74},<br>&nbsp;&nbsp;&nbsp;&nbsp;&nbsp;&nbsp;&nbsp;&nbsp;&nbsp;&nbsp;&nbsp;&nbsp;&nbsp;&nbsp;&nbsp;&nbsp;&nbsp;&nbsp;&nbsp;&nbsp;&nbsp;&nbsp;&nbsp;&nbsp;&nbsp;&nbsp;&nbsp;&nbsp;&nbsp;&nbsp;&nbsp;&nbsp;&nbsp;&nbsp;&nbsp;&nbsp;{'date':&nbsp;'2021-06-10&nbsp;07:31:53',<br>&nbsp;&nbsp;&nbsp;&nbsp;&nbsp;&nbsp;&nbsp;&nbsp;&nbsp;&nbsp;&nbsp;&nbsp;&nbsp;&nbsp;&nbsp;&nbsp;&nbsp;&nbsp;&nbsp;&nbsp;&nbsp;&nbsp;&nbsp;&nbsp;&nbsp;&nbsp;&nbsp;&nbsp;&nbsp;&nbsp;&nbsp;&nbsp;&nbsp;&nbsp;&nbsp;&nbsp;&nbsp;'positives':&nbsp;30,<br>&nbsp;&nbsp;&nbsp;&nbsp;&nbsp;&nbsp;&nbsp;&nbsp;&nbsp;&nbsp;&nbsp;&nbsp;&nbsp;&nbsp;&nbsp;&nbsp;&nbsp;&nbsp;&nbsp;&nbsp;&nbsp;&nbsp;&nbsp;&nbsp;&nbsp;&nbsp;&nbsp;&nbsp;&nbsp;&nbsp;&nbsp;&nbsp;&nbsp;&nbsp;&nbsp;&nbsp;&nbsp;'sha256':&nbsp;'1aaf7bc48ff75e870db4fe6ec0b3ed9d99876d7e2fb3d5c4613cca92bbb95e1b',<br>&nbsp;&nbsp;&nbsp;&nbsp;&nbsp;&nbsp;&nbsp;&nbsp;&nbsp;&nbsp;&nbsp;&nbsp;&nbsp;&nbsp;&nbsp;&nbsp;&nbsp;&nbsp;&nbsp;&nbsp;&nbsp;&nbsp;&nbsp;&nbsp;&nbsp;&nbsp;&nbsp;&nbsp;&nbsp;&nbsp;&nbsp;&nbsp;&nbsp;&nbsp;&nbsp;&nbsp;&nbsp;'total':&nbsp;75},<br>&nbsp;&nbsp;&nbsp;&nbsp;&nbsp;&nbsp;&nbsp;&nbsp;&nbsp;&nbsp;&nbsp;&nbsp;&nbsp;&nbsp;&nbsp;&nbsp;&nbsp;&nbsp;&nbsp;&nbsp;&nbsp;&nbsp;&nbsp;&nbsp;&nbsp;&nbsp;&nbsp;&nbsp;&nbsp;&nbsp;&nbsp;&nbsp;&nbsp;&nbsp;&nbsp;&nbsp;{'date':&nbsp;'2021-06-09&nbsp;02:36:09',<br>&nbsp;&nbsp;&nbsp;&nbsp;&nbsp;&nbsp;&nbsp;&nbsp;&nbsp;&nbsp;&nbsp;&nbsp;&nbsp;&nbsp;&nbsp;&nbsp;&nbsp;&nbsp;&nbsp;&nbsp;&nbsp;&nbsp;&nbsp;&nbsp;&nbsp;&nbsp;&nbsp;&nbsp;&nbsp;&nbsp;&nbsp;&nbsp;&nbsp;&nbsp;&nbsp;&nbsp;&nbsp;'positives':&nbsp;30,<br>&nbsp;&nbsp;&nbsp;&nbsp;&nbsp;&nbsp;&nbsp;&nbsp;&nbsp;&nbsp;&nbsp;&nbsp;&nbsp;&nbsp;&nbsp;&nbsp;&nbsp;&nbsp;&nbsp;&nbsp;&nbsp;&nbsp;&nbsp;&nbsp;&nbsp;&nbsp;&nbsp;&nbsp;&nbsp;&nbsp;&nbsp;&nbsp;&nbsp;&nbsp;&nbsp;&nbsp;&nbsp;'sha256':&nbsp;'36bf7b2ab7968880ccc696927c03167b6056e73043fd97a33d2468383a5bafce',<br>&nbsp;&nbsp;&nbsp;&nbsp;&nbsp;&nbsp;&nbsp;&nbsp;&nbsp;&nbsp;&nbsp;&nbsp;&nbsp;&nbsp;&nbsp;&nbsp;&nbsp;&nbsp;&nbsp;&nbsp;&nbsp;&nbsp;&nbsp;&nbsp;&nbsp;&nbsp;&nbsp;&nbsp;&nbsp;&nbsp;&nbsp;&nbsp;&nbsp;&nbsp;&nbsp;&nbsp;&nbsp;'total':&nbsp;75},<br>&nbsp;&nbsp;&nbsp;&nbsp;&nbsp;&nbsp;&nbsp;&nbsp;&nbsp;&nbsp;&nbsp;&nbsp;&nbsp;&nbsp;&nbsp;&nbsp;&nbsp;&nbsp;&nbsp;&nbsp;&nbsp;&nbsp;&nbsp;&nbsp;&nbsp;&nbsp;&nbsp;&nbsp;&nbsp;&nbsp;&nbsp;&nbsp;&nbsp;&nbsp;&nbsp;&nbsp;{'date':&nbsp;'2021-05-17&nbsp;21:40:23',<br>&nbsp;&nbsp;&nbsp;&nbsp;&nbsp;&nbsp;&nbsp;&nbsp;&nbsp;&nbsp;&nbsp;&nbsp;&nbsp;&nbsp;&nbsp;&nbsp;&nbsp;&nbsp;&nbsp;&nbsp;&nbsp;&nbsp;&nbsp;&nbsp;&nbsp;&nbsp;&nbsp;&nbsp;&nbsp;&nbsp;&nbsp;&nbsp;&nbsp;&nbsp;&nbsp;&nbsp;&nbsp;'positives':&nbsp;13,<br>&nbsp;&nbsp;&nbsp;&nbsp;&nbsp;&nbsp;&nbsp;&nbsp;&nbsp;&nbsp;&nbsp;&nbsp;&nbsp;&nbsp;&nbsp;&nbsp;&nbsp;&nbsp;&nbsp;&nbsp;&nbsp;&nbsp;&nbsp;&nbsp;&nbsp;&nbsp;&nbsp;&nbsp;&nbsp;&nbsp;&nbsp;&nbsp;&nbsp;&nbsp;&nbsp;&nbsp;&nbsp;'sha256':&nbsp;'39ac019520a278e350065d12ebc0c24201584390724f3d8e0dc828664fee6cae',<br>&nbsp;&nbsp;&nbsp;&nbsp;&nbsp;&nbsp;&nbsp;&nbsp;&nbsp;&nbsp;&nbsp;&nbsp;&nbsp;&nbsp;&nbsp;&nbsp;&nbsp;&nbsp;&nbsp;&nbsp;&nbsp;&nbsp;&nbsp;&nbsp;&nbsp;&nbsp;&nbsp;&nbsp;&nbsp;&nbsp;&nbsp;&nbsp;&nbsp;&nbsp;&nbsp;&nbsp;&nbsp;'total':&nbsp;74},<br>&nbsp;&nbsp;&nbsp;&nbsp;&nbsp;&nbsp;&nbsp;&nbsp;&nbsp;&nbsp;&nbsp;&nbsp;&nbsp;&nbsp;&nbsp;&nbsp;&nbsp;&nbsp;&nbsp;&nbsp;&nbsp;&nbsp;&nbsp;&nbsp;&nbsp;&nbsp;&nbsp;&nbsp;&nbsp;&nbsp;&nbsp;&nbsp;&nbsp;&nbsp;&nbsp;&nbsp;{'date':&nbsp;'2021-05-12&nbsp;12:46:23',<br>&nbsp;&nbsp;&nbsp;&nbsp;&nbsp;&nbsp;&nbsp;&nbsp;&nbsp;&nbsp;&nbsp;&nbsp;&nbsp;&nbsp;&nbsp;&nbsp;&nbsp;&nbsp;&nbsp;&nbsp;&nbsp;&nbsp;&nbsp;&nbsp;&nbsp;&nbsp;&nbsp;&nbsp;&nbsp;&nbsp;&nbsp;&nbsp;&nbsp;&nbsp;&nbsp;&nbsp;&nbsp;'positives':&nbsp;6,<br>&nbsp;&nbsp;&nbsp;&nbsp;&nbsp;&nbsp;&nbsp;&nbsp;&nbsp;&nbsp;&nbsp;&nbsp;&nbsp;&nbsp;&nbsp;&nbsp;&nbsp;&nbsp;&nbsp;&nbsp;&nbsp;&nbsp;&nbsp;&nbsp;&nbsp;&nbsp;&nbsp;&nbsp;&nbsp;&nbsp;&nbsp;&nbsp;&nbsp;&nbsp;&nbsp;&nbsp;&nbsp;'sha256':&nbsp;'b60ffcc7153650d6a232b1cb249924b0c6384c27681860eb13b12f4705bc0a05',<br>&nbsp;&nbsp;&nbsp;&nbsp;&nbsp;&nbsp;&nbsp;&nbsp;&nbsp;&nbsp;&nbsp;&nbsp;&nbsp;&nbsp;&nbsp;&nbsp;&nbsp;&nbsp;&nbsp;&nbsp;&nbsp;&nbsp;&nbsp;&nbsp;&nbsp;&nbsp;&nbsp;&nbsp;&nbsp;&nbsp;&nbsp;&nbsp;&nbsp;&nbsp;&nbsp;&nbsp;&nbsp;'total':&nbsp;75},<br>&nbsp;&nbsp;&nbsp;&nbsp;&nbsp;&nbsp;&nbsp;&nbsp;&nbsp;&nbsp;&nbsp;&nbsp;&nbsp;&nbsp;&nbsp;&nbsp;&nbsp;&nbsp;&nbsp;&nbsp;&nbsp;&nbsp;&nbsp;&nbsp;&nbsp;&nbsp;&nbsp;&nbsp;&nbsp;&nbsp;&nbsp;&nbsp;&nbsp;&nbsp;&nbsp;&nbsp;{'date':&nbsp;'2021-05-11&nbsp;08:32:51',<br>&nbsp;&nbsp;&nbsp;&nbsp;&nbsp;&nbsp;&nbsp;&nbsp;&nbsp;&nbsp;&nbsp;&nbsp;&nbsp;&nbsp;&nbsp;&nbsp;&nbsp;&nbsp;&nbsp;&nbsp;&nbsp;&nbsp;&nbsp;&nbsp;&nbsp;&nbsp;&nbsp;&nbsp;&nbsp;&nbsp;&nbsp;&nbsp;&nbsp;&nbsp;&nbsp;&nbsp;&nbsp;'positives':&nbsp;14,<br>&nbsp;&nbsp;&nbsp;&nbsp;&nbsp;&nbsp;&nbsp;&nbsp;&nbsp;&nbsp;&nbsp;&nbsp;&nbsp;&nbsp;&nbsp;&nbsp;&nbsp;&nbsp;&nbsp;&nbsp;&nbsp;&nbsp;&nbsp;&nbsp;&nbsp;&nbsp;&nbsp;&nbsp;&nbsp;&nbsp;&nbsp;&nbsp;&nbsp;&nbsp;&nbsp;&nbsp;&nbsp;'sha256':&nbsp;'1ad0104478301e73e3f49cdeb10f8c1a1d54bccf9248e34ff81352598f112e6b',<br>&nbsp;&nbsp;&nbsp;&nbsp;&nbsp;&nbsp;&nbsp;&nbsp;&nbsp;&nbsp;&nbsp;&nbsp;&nbsp;&nbsp;&nbsp;&nbsp;&nbsp;&nbsp;&nbsp;&nbsp;&nbsp;&nbsp;&nbsp;&nbsp;&nbsp;&nbsp;&nbsp;&nbsp;&nbsp;&nbsp;&nbsp;&nbsp;&nbsp;&nbsp;&nbsp;&nbsp;&nbsp;'total':&nbsp;75},<br>&nbsp;&nbsp;&nbsp;&nbsp;&nbsp;&nbsp;&nbsp;&nbsp;&nbsp;&nbsp;&nbsp;&nbsp;&nbsp;&nbsp;&nbsp;&nbsp;&nbsp;&nbsp;&nbsp;&nbsp;&nbsp;&nbsp;&nbsp;&nbsp;&nbsp;&nbsp;&nbsp;&nbsp;&nbsp;&nbsp;&nbsp;&nbsp;&nbsp;&nbsp;&nbsp;&nbsp;{'date':&nbsp;'2021-04-21&nbsp;10:08:11',<br>&nbsp;&nbsp;&nbsp;&nbsp;&nbsp;&nbsp;&nbsp;&nbsp;&nbsp;&nbsp;&nbsp;&nbsp;&nbsp;&nbsp;&nbsp;&nbsp;&nbsp;&nbsp;&nbsp;&nbsp;&nbsp;&nbsp;&nbsp;&nbsp;&nbsp;&nbsp;&nbsp;&nbsp;&nbsp;&nbsp;&nbsp;&nbsp;&nbsp;&nbsp;&nbsp;&nbsp;&nbsp;'positives':&nbsp;16,<br>&nbsp;&nbsp;&nbsp;&nbsp;&nbsp;&nbsp;&nbsp;&nbsp;&nbsp;&nbsp;&nbsp;&nbsp;&nbsp;&nbsp;&nbsp;&nbsp;&nbsp;&nbsp;&nbsp;&nbsp;&nbsp;&nbsp;&nbsp;&nbsp;&nbsp;&nbsp;&nbsp;&nbsp;&nbsp;&nbsp;&nbsp;&nbsp;&nbsp;&nbsp;&nbsp;&nbsp;&nbsp;'sha256':&nbsp;'7b6f7c48256a8df2041e8726c3490ccb6987e1a76fee947e148ea68eee036889',<br>&nbsp;&nbsp;&nbsp;&nbsp;&nbsp;&nbsp;&nbsp;&nbsp;&nbsp;&nbsp;&nbsp;&nbsp;&nbsp;&nbsp;&nbsp;&nbsp;&nbsp;&nbsp;&nbsp;&nbsp;&nbsp;&nbsp;&nbsp;&nbsp;&nbsp;&nbsp;&nbsp;&nbsp;&nbsp;&nbsp;&nbsp;&nbsp;&nbsp;&nbsp;&nbsp;&nbsp;&nbsp;'total':&nbsp;76},<br>&nbsp;&nbsp;&nbsp;&nbsp;&nbsp;&nbsp;&nbsp;&nbsp;&nbsp;&nbsp;&nbsp;&nbsp;&nbsp;&nbsp;&nbsp;&nbsp;&nbsp;&nbsp;&nbsp;&nbsp;&nbsp;&nbsp;&nbsp;&nbsp;&nbsp;&nbsp;&nbsp;&nbsp;&nbsp;&nbsp;&nbsp;&nbsp;&nbsp;&nbsp;&nbsp;&nbsp;{'date':&nbsp;'2021-03-31&nbsp;15:34:40',<br>&nbsp;&nbsp;&nbsp;&nbsp;&nbsp;&nbsp;&nbsp;&nbsp;&nbsp;&nbsp;&nbsp;&nbsp;&nbsp;&nbsp;&nbsp;&nbsp;&nbsp;&nbsp;&nbsp;&nbsp;&nbsp;&nbsp;&nbsp;&nbsp;&nbsp;&nbsp;&nbsp;&nbsp;&nbsp;&nbsp;&nbsp;&nbsp;&nbsp;&nbsp;&nbsp;&nbsp;&nbsp;'positives':&nbsp;20,<br>&nbsp;&nbsp;&nbsp;&nbsp;&nbsp;&nbsp;&nbsp;&nbsp;&nbsp;&nbsp;&nbsp;&nbsp;&nbsp;&nbsp;&nbsp;&nbsp;&nbsp;&nbsp;&nbsp;&nbsp;&nbsp;&nbsp;&nbsp;&nbsp;&nbsp;&nbsp;&nbsp;&nbsp;&nbsp;&nbsp;&nbsp;&nbsp;&nbsp;&nbsp;&nbsp;&nbsp;&nbsp;'sha256':&nbsp;'ae3e4a1c8a2b661265e6c8c756e3ba472dc7177cae79fe1861ab0c2d1af5167a',<br>&nbsp;&nbsp;&nbsp;&nbsp;&nbsp;&nbsp;&nbsp;&nbsp;&nbsp;&nbsp;&nbsp;&nbsp;&nbsp;&nbsp;&nbsp;&nbsp;&nbsp;&nbsp;&nbsp;&nbsp;&nbsp;&nbsp;&nbsp;&nbsp;&nbsp;&nbsp;&nbsp;&nbsp;&nbsp;&nbsp;&nbsp;&nbsp;&nbsp;&nbsp;&nbsp;&nbsp;&nbsp;'total':&nbsp;75},<br>&nbsp;&nbsp;&nbsp;&nbsp;&nbsp;&nbsp;&nbsp;&nbsp;&nbsp;&nbsp;&nbsp;&nbsp;&nbsp;&nbsp;&nbsp;&nbsp;&nbsp;&nbsp;&nbsp;&nbsp;&nbsp;&nbsp;&nbsp;&nbsp;&nbsp;&nbsp;&nbsp;&nbsp;&nbsp;&nbsp;&nbsp;&nbsp;&nbsp;&nbsp;&nbsp;&nbsp;{'date':&nbsp;'2021-03-27&nbsp;04:35:12',<br>&nbsp;&nbsp;&nbsp;&nbsp;&nbsp;&nbsp;&nbsp;&nbsp;&nbsp;&nbsp;&nbsp;&nbsp;&nbsp;&nbsp;&nbsp;&nbsp;&nbsp;&nbsp;&nbsp;&nbsp;&nbsp;&nbsp;&nbsp;&nbsp;&nbsp;&nbsp;&nbsp;&nbsp;&nbsp;&nbsp;&nbsp;&nbsp;&nbsp;&nbsp;&nbsp;&nbsp;&nbsp;'positives':&nbsp;22,<br>&nbsp;&nbsp;&nbsp;&nbsp;&nbsp;&nbsp;&nbsp;&nbsp;&nbsp;&nbsp;&nbsp;&nbsp;&nbsp;&nbsp;&nbsp;&nbsp;&nbsp;&nbsp;&nbsp;&nbsp;&nbsp;&nbsp;&nbsp;&nbsp;&nbsp;&nbsp;&nbsp;&nbsp;&nbsp;&nbsp;&nbsp;&nbsp;&nbsp;&nbsp;&nbsp;&nbsp;&nbsp;'sha256':&nbsp;'3b280a4017ef2c2aef4b3ed8bb47516b816166998462899935afb39b533890ad',<br>&nbsp;&nbsp;&nbsp;&nbsp;&nbsp;&nbsp;&nbsp;&nbsp;&nbsp;&nbsp;&nbsp;&nbsp;&nbsp;&nbsp;&nbsp;&nbsp;&nbsp;&nbsp;&nbsp;&nbsp;&nbsp;&nbsp;&nbsp;&nbsp;&nbsp;&nbsp;&nbsp;&nbsp;&nbsp;&nbsp;&nbsp;&nbsp;&nbsp;&nbsp;&nbsp;&nbsp;&nbsp;'total':&nbsp;75},<br>&nbsp;&nbsp;&nbsp;&nbsp;&nbsp;&nbsp;&nbsp;&nbsp;&nbsp;&nbsp;&nbsp;&nbsp;&nbsp;&nbsp;&nbsp;&nbsp;&nbsp;&nbsp;&nbsp;&nbsp;&nbsp;&nbsp;&nbsp;&nbsp;&nbsp;&nbsp;&nbsp;&nbsp;&nbsp;&nbsp;&nbsp;&nbsp;&nbsp;&nbsp;&nbsp;&nbsp;{'date':&nbsp;'2020-08-18&nbsp;19:53:07',<br>&nbsp;&nbsp;&nbsp;&nbsp;&nbsp;&nbsp;&nbsp;&nbsp;&nbsp;&nbsp;&nbsp;&nbsp;&nbsp;&nbsp;&nbsp;&nbsp;&nbsp;&nbsp;&nbsp;&nbsp;&nbsp;&nbsp;&nbsp;&nbsp;&nbsp;&nbsp;&nbsp;&nbsp;&nbsp;&nbsp;&nbsp;&nbsp;&nbsp;&nbsp;&nbsp;&nbsp;&nbsp;'positives':&nbsp;3,<br>&nbsp;&nbsp;&nbsp;&nbsp;&nbsp;&nbsp;&nbsp;&nbsp;&nbsp;&nbsp;&nbsp;&nbsp;&nbsp;&nbsp;&nbsp;&nbsp;&nbsp;&nbsp;&nbsp;&nbsp;&nbsp;&nbsp;&nbsp;&nbsp;&nbsp;&nbsp;&nbsp;&nbsp;&nbsp;&nbsp;&nbsp;&nbsp;&nbsp;&nbsp;&nbsp;&nbsp;&nbsp;'sha256':&nbsp;'0742efecbd7af343213a50cc5fd5cd2f8475613cfe6fb51f4296a7ec4533940d',<br>&nbsp;&nbsp;&nbsp;&nbsp;&nbsp;&nbsp;&nbsp;&nbsp;&nbsp;&nbsp;&nbsp;&nbsp;&nbsp;&nbsp;&nbsp;&nbsp;&nbsp;&nbsp;&nbsp;&nbsp;&nbsp;&nbsp;&nbsp;&nbsp;&nbsp;&nbsp;&nbsp;&nbsp;&nbsp;&nbsp;&nbsp;&nbsp;&nbsp;&nbsp;&nbsp;&nbsp;&nbsp;'total':&nbsp;74}],<br>&nbsp;'detected_downloaded_samples':&nbsp;[{'date':&nbsp;'2021-06-29&nbsp;11:54:16',<br>&nbsp;&nbsp;&nbsp;&nbsp;&nbsp;&nbsp;&nbsp;&nbsp;&nbsp;&nbsp;&nbsp;&nbsp;&nbsp;&nbsp;&nbsp;&nbsp;&nbsp;&nbsp;&nbsp;&nbsp;&nbsp;&nbsp;&nbsp;&nbsp;&nbsp;&nbsp;&nbsp;&nbsp;&nbsp;&nbsp;&nbsp;&nbsp;&nbsp;&nbsp;'positives':&nbsp;26,<br>&nbsp;&nbsp;&nbsp;&nbsp;&nbsp;&nbsp;&nbsp;&nbsp;&nbsp;&nbsp;&nbsp;&nbsp;&nbsp;&nbsp;&nbsp;&nbsp;&nbsp;&nbsp;&nbsp;&nbsp;&nbsp;&nbsp;&nbsp;&nbsp;&nbsp;&nbsp;&nbsp;&nbsp;&nbsp;&nbsp;&nbsp;&nbsp;&nbsp;&nbsp;'sha256':&nbsp;'75a733d99d72d1d0d6ca99ec852d97ae8c515ed136e12195e96adf6df7bbad41',<br>&nbsp;&nbsp;&nbsp;&nbsp;&nbsp;&nbsp;&nbsp;&nbsp;&nbsp;&nbsp;&nbsp;&nbsp;&nbsp;&nbsp;&nbsp;&nbsp;&nbsp;&nbsp;&nbsp;&nbsp;&nbsp;&nbsp;&nbsp;&nbsp;&nbsp;&nbsp;&nbsp;&nbsp;&nbsp;&nbsp;&nbsp;&nbsp;&nbsp;&nbsp;'total':&nbsp;75},<br>&nbsp;&nbsp;&nbsp;&nbsp;&nbsp;&nbsp;&nbsp;&nbsp;&nbsp;&nbsp;&nbsp;&nbsp;&nbsp;&nbsp;&nbsp;&nbsp;&nbsp;&nbsp;&nbsp;&nbsp;&nbsp;&nbsp;&nbsp;&nbsp;&nbsp;&nbsp;&nbsp;&nbsp;&nbsp;&nbsp;&nbsp;&nbsp;&nbsp;{'date':&nbsp;'2021-07-08&nbsp;08:53:31',<br>&nbsp;&nbsp;&nbsp;&nbsp;&nbsp;&nbsp;&nbsp;&nbsp;&nbsp;&nbsp;&nbsp;&nbsp;&nbsp;&nbsp;&nbsp;&nbsp;&nbsp;&nbsp;&nbsp;&nbsp;&nbsp;&nbsp;&nbsp;&nbsp;&nbsp;&nbsp;&nbsp;&nbsp;&nbsp;&nbsp;&nbsp;&nbsp;&nbsp;&nbsp;'positives':&nbsp;36,<br>&nbsp;&nbsp;&nbsp;&nbsp;&nbsp;&nbsp;&nbsp;&nbsp;&nbsp;&nbsp;&nbsp;&nbsp;&nbsp;&nbsp;&nbsp;&nbsp;&nbsp;&nbsp;&nbsp;&nbsp;&nbsp;&nbsp;&nbsp;&nbsp;&nbsp;&nbsp;&nbsp;&nbsp;&nbsp;&nbsp;&nbsp;&nbsp;&nbsp;&nbsp;'sha256':&nbsp;'252bf8c685289759b90c1de6f9db345c2cfe62e6f8aad9a7f44dfb3c8508487a',<br>&nbsp;&nbsp;&nbsp;&nbsp;&nbsp;&nbsp;&nbsp;&nbsp;&nbsp;&nbsp;&nbsp;&nbsp;&nbsp;&nbsp;&nbsp;&nbsp;&nbsp;&nbsp;&nbsp;&nbsp;&nbsp;&nbsp;&nbsp;&nbsp;&nbsp;&nbsp;&nbsp;&nbsp;&nbsp;&nbsp;&nbsp;&nbsp;&nbsp;&nbsp;'total':&nbsp;74},<br>&nbsp;&nbsp;&nbsp;&nbsp;&nbsp;&nbsp;&nbsp;&nbsp;&nbsp;&nbsp;&nbsp;&nbsp;&nbsp;&nbsp;&nbsp;&nbsp;&nbsp;&nbsp;&nbsp;&nbsp;&nbsp;&nbsp;&nbsp;&nbsp;&nbsp;&nbsp;&nbsp;&nbsp;&nbsp;&nbsp;&nbsp;&nbsp;&nbsp;{'date':&nbsp;'2021-07-08&nbsp;08:53:30',<br>&nbsp;&nbsp;&nbsp;&nbsp;&nbsp;&nbsp;&nbsp;&nbsp;&nbsp;&nbsp;&nbsp;&nbsp;&nbsp;&nbsp;&nbsp;&nbsp;&nbsp;&nbsp;&nbsp;&nbsp;&nbsp;&nbsp;&nbsp;&nbsp;&nbsp;&nbsp;&nbsp;&nbsp;&nbsp;&nbsp;&nbsp;&nbsp;&nbsp;&nbsp;'positives':&nbsp;38,<br>&nbsp;&nbsp;&nbsp;&nbsp;&nbsp;&nbsp;&nbsp;&nbsp;&nbsp;&nbsp;&nbsp;&nbsp;&nbsp;&nbsp;&nbsp;&nbsp;&nbsp;&nbsp;&nbsp;&nbsp;&nbsp;&nbsp;&nbsp;&nbsp;&nbsp;&nbsp;&nbsp;&nbsp;&nbsp;&nbsp;&nbsp;&nbsp;&nbsp;&nbsp;'sha256':&nbsp;'e15550481e89dbd154b875ce50cc5af4b49f9ff7b837d9ac5b5594e5d63966a3',<br>&nbsp;&nbsp;&nbsp;&nbsp;&nbsp;&nbsp;&nbsp;&nbsp;&nbsp;&nbsp;&nbsp;&nbsp;&nbsp;&nbsp;&nbsp;&nbsp;&nbsp;&nbsp;&nbsp;&nbsp;&nbsp;&nbsp;&nbsp;&nbsp;&nbsp;&nbsp;&nbsp;&nbsp;&nbsp;&nbsp;&nbsp;&nbsp;&nbsp;&nbsp;'total':&nbsp;74},<br>&nbsp;&nbsp;&nbsp;&nbsp;&nbsp;&nbsp;&nbsp;&nbsp;&nbsp;&nbsp;&nbsp;&nbsp;&nbsp;&nbsp;&nbsp;&nbsp;&nbsp;&nbsp;&nbsp;&nbsp;&nbsp;&nbsp;&nbsp;&nbsp;&nbsp;&nbsp;&nbsp;&nbsp;&nbsp;&nbsp;&nbsp;&nbsp;&nbsp;{'date':&nbsp;'2021-06-10&nbsp;07:32:43',<br>&nbsp;&nbsp;&nbsp;&nbsp;&nbsp;&nbsp;&nbsp;&nbsp;&nbsp;&nbsp;&nbsp;&nbsp;&nbsp;&nbsp;&nbsp;&nbsp;&nbsp;&nbsp;&nbsp;&nbsp;&nbsp;&nbsp;&nbsp;&nbsp;&nbsp;&nbsp;&nbsp;&nbsp;&nbsp;&nbsp;&nbsp;&nbsp;&nbsp;&nbsp;'positives':&nbsp;33,<br>&nbsp;&nbsp;&nbsp;&nbsp;&nbsp;&nbsp;&nbsp;&nbsp;&nbsp;&nbsp;&nbsp;&nbsp;&nbsp;&nbsp;&nbsp;&nbsp;&nbsp;&nbsp;&nbsp;&nbsp;&nbsp;&nbsp;&nbsp;&nbsp;&nbsp;&nbsp;&nbsp;&nbsp;&nbsp;&nbsp;&nbsp;&nbsp;&nbsp;&nbsp;'sha256':&nbsp;'139f393594aabb20543543bd7d3192422b886f58e04a910637b41f14d0cad375',<br>&nbsp;&nbsp;&nbsp;&nbsp;&nbsp;&nbsp;&nbsp;&nbsp;&nbsp;&nbsp;&nbsp;&nbsp;&nbsp;&nbsp;&nbsp;&nbsp;&nbsp;&nbsp;&nbsp;&nbsp;&nbsp;&nbsp;&nbsp;&nbsp;&nbsp;&nbsp;&nbsp;&nbsp;&nbsp;&nbsp;&nbsp;&nbsp;&nbsp;&nbsp;'total':&nbsp;75},<br>&nbsp;&nbsp;&nbsp;&nbsp;&nbsp;&nbsp;&nbsp;&nbsp;&nbsp;&nbsp;&nbsp;&nbsp;&nbsp;&nbsp;&nbsp;&nbsp;&nbsp;&nbsp;&nbsp;&nbsp;&nbsp;&nbsp;&nbsp;&nbsp;&nbsp;&nbsp;&nbsp;&nbsp;&nbsp;&nbsp;&nbsp;&nbsp;&nbsp;{'date':&nbsp;'2021-06-10&nbsp;07:31:49',<br>&nbsp;&nbsp;&nbsp;&nbsp;&nbsp;&nbsp;&nbsp;&nbsp;&nbsp;&nbsp;&nbsp;&nbsp;&nbsp;&nbsp;&nbsp;&nbsp;&nbsp;&nbsp;&nbsp;&nbsp;&nbsp;&nbsp;&nbsp;&nbsp;&nbsp;&nbsp;&nbsp;&nbsp;&nbsp;&nbsp;&nbsp;&nbsp;&nbsp;&nbsp;'positives':&nbsp;34,<br>&nbsp;&nbsp;&nbsp;&nbsp;&nbsp;&nbsp;&nbsp;&nbsp;&nbsp;&nbsp;&nbsp;&nbsp;&nbsp;&nbsp;&nbsp;&nbsp;&nbsp;&nbsp;&nbsp;&nbsp;&nbsp;&nbsp;&nbsp;&nbsp;&nbsp;&nbsp;&nbsp;&nbsp;&nbsp;&nbsp;&nbsp;&nbsp;&nbsp;&nbsp;'sha256':&nbsp;'a506c6cf25de202e6b2bf60fe0236911a6ff8aa33f12a78edad9165ab0851caf',<br>&nbsp;&nbsp;&nbsp;&nbsp;&nbsp;&nbsp;&nbsp;&nbsp;&nbsp;&nbsp;&nbsp;&nbsp;&nbsp;&nbsp;&nbsp;&nbsp;&nbsp;&nbsp;&nbsp;&nbsp;&nbsp;&nbsp;&nbsp;&nbsp;&nbsp;&nbsp;&nbsp;&nbsp;&nbsp;&nbsp;&nbsp;&nbsp;&nbsp;&nbsp;'total':&nbsp;75},<br>&nbsp;&nbsp;&nbsp;&nbsp;&nbsp;&nbsp;&nbsp;&nbsp;&nbsp;&nbsp;&nbsp;&nbsp;&nbsp;&nbsp;&nbsp;&nbsp;&nbsp;&nbsp;&nbsp;&nbsp;&nbsp;&nbsp;&nbsp;&nbsp;&nbsp;&nbsp;&nbsp;&nbsp;&nbsp;&nbsp;&nbsp;&nbsp;&nbsp;{'date':&nbsp;'2021-03-02&nbsp;07:13:18',<br>&nbsp;&nbsp;&nbsp;&nbsp;&nbsp;&nbsp;&nbsp;&nbsp;&nbsp;&nbsp;&nbsp;&nbsp;&nbsp;&nbsp;&nbsp;&nbsp;&nbsp;&nbsp;&nbsp;&nbsp;&nbsp;&nbsp;&nbsp;&nbsp;&nbsp;&nbsp;&nbsp;&nbsp;&nbsp;&nbsp;&nbsp;&nbsp;&nbsp;&nbsp;'positives':&nbsp;33,<br>&nbsp;&nbsp;&nbsp;&nbsp;&nbsp;&nbsp;&nbsp;&nbsp;&nbsp;&nbsp;&nbsp;&nbsp;&nbsp;&nbsp;&nbsp;&nbsp;&nbsp;&nbsp;&nbsp;&nbsp;&nbsp;&nbsp;&nbsp;&nbsp;&nbsp;&nbsp;&nbsp;&nbsp;&nbsp;&nbsp;&nbsp;&nbsp;&nbsp;&nbsp;'sha256':&nbsp;'feb0a0f5ffba9d7b7d6878a8890a6d67d3f8ef6106e4e88719a63c3351e46a06',<br>&nbsp;&nbsp;&nbsp;&nbsp;&nbsp;&nbsp;&nbsp;&nbsp;&nbsp;&nbsp;&nbsp;&nbsp;&nbsp;&nbsp;&nbsp;&nbsp;&nbsp;&nbsp;&nbsp;&nbsp;&nbsp;&nbsp;&nbsp;&nbsp;&nbsp;&nbsp;&nbsp;&nbsp;&nbsp;&nbsp;&nbsp;&nbsp;&nbsp;&nbsp;'total':&nbsp;76},<br>&nbsp;&nbsp;&nbsp;&nbsp;&nbsp;&nbsp;&nbsp;&nbsp;&nbsp;&nbsp;&nbsp;&nbsp;&nbsp;&nbsp;&nbsp;&nbsp;&nbsp;&nbsp;&nbsp;&nbsp;&nbsp;&nbsp;&nbsp;&nbsp;&nbsp;&nbsp;&nbsp;&nbsp;&nbsp;&nbsp;&nbsp;&nbsp;&nbsp;{'date':&nbsp;'2021-02-08&nbsp;02:39:20',<br>&nbsp;&nbsp;&nbsp;&nbsp;&nbsp;&nbsp;&nbsp;&nbsp;&nbsp;&nbsp;&nbsp;&nbsp;&nbsp;&nbsp;&nbsp;&nbsp;&nbsp;&nbsp;&nbsp;&nbsp;&nbsp;&nbsp;&nbsp;&nbsp;&nbsp;&nbsp;&nbsp;&nbsp;&nbsp;&nbsp;&nbsp;&nbsp;&nbsp;&nbsp;'positives':&nbsp;18,<br>&nbsp;&nbsp;&nbsp;&nbsp;&nbsp;&nbsp;&nbsp;&nbsp;&nbsp;&nbsp;&nbsp;&nbsp;&nbsp;&nbsp;&nbsp;&nbsp;&nbsp;&nbsp;&nbsp;&nbsp;&nbsp;&nbsp;&nbsp;&nbsp;&nbsp;&nbsp;&nbsp;&nbsp;&nbsp;&nbsp;&nbsp;&nbsp;&nbsp;&nbsp;'sha256':&nbsp;'230e2a06df2cd7574ee15cb13714d77182f28d50f83a6ed58af39f1966177769',<br>&nbsp;&nbsp;&nbsp;&nbsp;&nbsp;&nbsp;&nbsp;&nbsp;&nbsp;&nbsp;&nbsp;&nbsp;&nbsp;&nbsp;&nbsp;&nbsp;&nbsp;&nbsp;&nbsp;&nbsp;&nbsp;&nbsp;&nbsp;&nbsp;&nbsp;&nbsp;&nbsp;&nbsp;&nbsp;&nbsp;&nbsp;&nbsp;&nbsp;&nbsp;'total':&nbsp;76},<br>&nbsp;&nbsp;&nbsp;&nbsp;&nbsp;&nbsp;&nbsp;&nbsp;&nbsp;&nbsp;&nbsp;&nbsp;&nbsp;&nbsp;&nbsp;&nbsp;&nbsp;&nbsp;&nbsp;&nbsp;&nbsp;&nbsp;&nbsp;&nbsp;&nbsp;&nbsp;&nbsp;&nbsp;&nbsp;&nbsp;&nbsp;&nbsp;&nbsp;{'date':&nbsp;'2020-10-31&nbsp;16:15:20',<br>&nbsp;&nbsp;&nbsp;&nbsp;&nbsp;&nbsp;&nbsp;&nbsp;&nbsp;&nbsp;&nbsp;&nbsp;&nbsp;&nbsp;&nbsp;&nbsp;&nbsp;&nbsp;&nbsp;&nbsp;&nbsp;&nbsp;&nbsp;&nbsp;&nbsp;&nbsp;&nbsp;&nbsp;&nbsp;&nbsp;&nbsp;&nbsp;&nbsp;&nbsp;'positives':&nbsp;30,<br>&nbsp;&nbsp;&nbsp;&nbsp;&nbsp;&nbsp;&nbsp;&nbsp;&nbsp;&nbsp;&nbsp;&nbsp;&nbsp;&nbsp;&nbsp;&nbsp;&nbsp;&nbsp;&nbsp;&nbsp;&nbsp;&nbsp;&nbsp;&nbsp;&nbsp;&nbsp;&nbsp;&nbsp;&nbsp;&nbsp;&nbsp;&nbsp;&nbsp;&nbsp;'sha256':&nbsp;'36bf7b2ab7968880ccc696927c03167b6056e73043fd97a33d2468383a5bafce',<br>&nbsp;&nbsp;&nbsp;&nbsp;&nbsp;&nbsp;&nbsp;&nbsp;&nbsp;&nbsp;&nbsp;&nbsp;&nbsp;&nbsp;&nbsp;&nbsp;&nbsp;&nbsp;&nbsp;&nbsp;&nbsp;&nbsp;&nbsp;&nbsp;&nbsp;&nbsp;&nbsp;&nbsp;&nbsp;&nbsp;&nbsp;&nbsp;&nbsp;&nbsp;'total':&nbsp;76},<br>&nbsp;&nbsp;&nbsp;&nbsp;&nbsp;&nbsp;&nbsp;&nbsp;&nbsp;&nbsp;&nbsp;&nbsp;&nbsp;&nbsp;&nbsp;&nbsp;&nbsp;&nbsp;&nbsp;&nbsp;&nbsp;&nbsp;&nbsp;&nbsp;&nbsp;&nbsp;&nbsp;&nbsp;&nbsp;&nbsp;&nbsp;&nbsp;&nbsp;{'date':&nbsp;'2020-10-19&nbsp;16:08:06',<br>&nbsp;&nbsp;&nbsp;&nbsp;&nbsp;&nbsp;&nbsp;&nbsp;&nbsp;&nbsp;&nbsp;&nbsp;&nbsp;&nbsp;&nbsp;&nbsp;&nbsp;&nbsp;&nbsp;&nbsp;&nbsp;&nbsp;&nbsp;&nbsp;&nbsp;&nbsp;&nbsp;&nbsp;&nbsp;&nbsp;&nbsp;&nbsp;&nbsp;&nbsp;'positives':&nbsp;28,<br>&nbsp;&nbsp;&nbsp;&nbsp;&nbsp;&nbsp;&nbsp;&nbsp;&nbsp;&nbsp;&nbsp;&nbsp;&nbsp;&nbsp;&nbsp;&nbsp;&nbsp;&nbsp;&nbsp;&nbsp;&nbsp;&nbsp;&nbsp;&nbsp;&nbsp;&nbsp;&nbsp;&nbsp;&nbsp;&nbsp;&nbsp;&nbsp;&nbsp;&nbsp;'sha256':&nbsp;'1aaf7bc48ff75e870db4fe6ec0b3ed9d99876d7e2fb3d5c4613cca92bbb95e1b',<br>&nbsp;&nbsp;&nbsp;&nbsp;&nbsp;&nbsp;&nbsp;&nbsp;&nbsp;&nbsp;&nbsp;&nbsp;&nbsp;&nbsp;&nbsp;&nbsp;&nbsp;&nbsp;&nbsp;&nbsp;&nbsp;&nbsp;&nbsp;&nbsp;&nbsp;&nbsp;&nbsp;&nbsp;&nbsp;&nbsp;&nbsp;&nbsp;&nbsp;&nbsp;'total':&nbsp;75},<br>&nbsp;&nbsp;&nbsp;&nbsp;&nbsp;&nbsp;&nbsp;&nbsp;&nbsp;&nbsp;&nbsp;&nbsp;&nbsp;&nbsp;&nbsp;&nbsp;&nbsp;&nbsp;&nbsp;&nbsp;&nbsp;&nbsp;&nbsp;&nbsp;&nbsp;&nbsp;&nbsp;&nbsp;&nbsp;&nbsp;&nbsp;&nbsp;&nbsp;{'date':&nbsp;'2020-09-09&nbsp;11:54:11',<br>&nbsp;&nbsp;&nbsp;&nbsp;&nbsp;&nbsp;&nbsp;&nbsp;&nbsp;&nbsp;&nbsp;&nbsp;&nbsp;&nbsp;&nbsp;&nbsp;&nbsp;&nbsp;&nbsp;&nbsp;&nbsp;&nbsp;&nbsp;&nbsp;&nbsp;&nbsp;&nbsp;&nbsp;&nbsp;&nbsp;&nbsp;&nbsp;&nbsp;&nbsp;'positives':&nbsp;24,<br>&nbsp;&nbsp;&nbsp;&nbsp;&nbsp;&nbsp;&nbsp;&nbsp;&nbsp;&nbsp;&nbsp;&nbsp;&nbsp;&nbsp;&nbsp;&nbsp;&nbsp;&nbsp;&nbsp;&nbsp;&nbsp;&nbsp;&nbsp;&nbsp;&nbsp;&nbsp;&nbsp;&nbsp;&nbsp;&nbsp;&nbsp;&nbsp;&nbsp;&nbsp;'sha256':&nbsp;'9750b3be953bd31322dd173ca18f29e5997029b28b24fbeb5fec7ebb1974cb09',<br>&nbsp;&nbsp;&nbsp;&nbsp;&nbsp;&nbsp;&nbsp;&nbsp;&nbsp;&nbsp;&nbsp;&nbsp;&nbsp;&nbsp;&nbsp;&nbsp;&nbsp;&nbsp;&nbsp;&nbsp;&nbsp;&nbsp;&nbsp;&nbsp;&nbsp;&nbsp;&nbsp;&nbsp;&nbsp;&nbsp;&nbsp;&nbsp;&nbsp;&nbsp;'total':&nbsp;73},<br>&nbsp;&nbsp;&nbsp;&nbsp;&nbsp;&nbsp;&nbsp;&nbsp;&nbsp;&nbsp;&nbsp;&nbsp;&nbsp;&nbsp;&nbsp;&nbsp;&nbsp;&nbsp;&nbsp;&nbsp;&nbsp;&nbsp;&nbsp;&nbsp;&nbsp;&nbsp;&nbsp;&nbsp;&nbsp;&nbsp;&nbsp;&nbsp;&nbsp;{'date':&nbsp;'2020-09-06&nbsp;07:41:39',<br>&nbsp;&nbsp;&nbsp;&nbsp;&nbsp;&nbsp;&nbsp;&nbsp;&nbsp;&nbsp;&nbsp;&nbsp;&nbsp;&nbsp;&nbsp;&nbsp;&nbsp;&nbsp;&nbsp;&nbsp;&nbsp;&nbsp;&nbsp;&nbsp;&nbsp;&nbsp;&nbsp;&nbsp;&nbsp;&nbsp;&nbsp;&nbsp;&nbsp;&nbsp;'positives':&nbsp;23,<br>&nbsp;&nbsp;&nbsp;&nbsp;&nbsp;&nbsp;&nbsp;&nbsp;&nbsp;&nbsp;&nbsp;&nbsp;&nbsp;&nbsp;&nbsp;&nbsp;&nbsp;&nbsp;&nbsp;&nbsp;&nbsp;&nbsp;&nbsp;&nbsp;&nbsp;&nbsp;&nbsp;&nbsp;&nbsp;&nbsp;&nbsp;&nbsp;&nbsp;&nbsp;'sha256':&nbsp;'c0ab7d1caabdd090b2399cd1193d2cc2334218d3f3f0d3164b61b6014fd308e9',<br>&nbsp;&nbsp;&nbsp;&nbsp;&nbsp;&nbsp;&nbsp;&nbsp;&nbsp;&nbsp;&nbsp;&nbsp;&nbsp;&nbsp;&nbsp;&nbsp;&nbsp;&nbsp;&nbsp;&nbsp;&nbsp;&nbsp;&nbsp;&nbsp;&nbsp;&nbsp;&nbsp;&nbsp;&nbsp;&nbsp;&nbsp;&nbsp;&nbsp;&nbsp;'total':&nbsp;73},<br>&nbsp;&nbsp;&nbsp;&nbsp;&nbsp;&nbsp;&nbsp;&nbsp;&nbsp;&nbsp;&nbsp;&nbsp;&nbsp;&nbsp;&nbsp;&nbsp;&nbsp;&nbsp;&nbsp;&nbsp;&nbsp;&nbsp;&nbsp;&nbsp;&nbsp;&nbsp;&nbsp;&nbsp;&nbsp;&nbsp;&nbsp;&nbsp;&nbsp;{'date':&nbsp;'2020-09-09&nbsp;11:30:10',<br>&nbsp;&nbsp;&nbsp;&nbsp;&nbsp;&nbsp;&nbsp;&nbsp;&nbsp;&nbsp;&nbsp;&nbsp;&nbsp;&nbsp;&nbsp;&nbsp;&nbsp;&nbsp;&nbsp;&nbsp;&nbsp;&nbsp;&nbsp;&nbsp;&nbsp;&nbsp;&nbsp;&nbsp;&nbsp;&nbsp;&nbsp;&nbsp;&nbsp;&nbsp;'positives':&nbsp;1,<br>&nbsp;&nbsp;&nbsp;&nbsp;&nbsp;&nbsp;&nbsp;&nbsp;&nbsp;&nbsp;&nbsp;&nbsp;&nbsp;&nbsp;&nbsp;&nbsp;&nbsp;&nbsp;&nbsp;&nbsp;&nbsp;&nbsp;&nbsp;&nbsp;&nbsp;&nbsp;&nbsp;&nbsp;&nbsp;&nbsp;&nbsp;&nbsp;&nbsp;&nbsp;'sha256':&nbsp;'767fc7ae032403bce2dbcefa525cf1a9fd02bbb185e45aa88d9bc28a5f22a2b6',<br>&nbsp;&nbsp;&nbsp;&nbsp;&nbsp;&nbsp;&nbsp;&nbsp;&nbsp;&nbsp;&nbsp;&nbsp;&nbsp;&nbsp;&nbsp;&nbsp;&nbsp;&nbsp;&nbsp;&nbsp;&nbsp;&nbsp;&nbsp;&nbsp;&nbsp;&nbsp;&nbsp;&nbsp;&nbsp;&nbsp;&nbsp;&nbsp;&nbsp;&nbsp;'total':&nbsp;73},<br>&nbsp;&nbsp;&nbsp;&nbsp;&nbsp;&nbsp;&nbsp;&nbsp;&nbsp;&nbsp;&nbsp;&nbsp;&nbsp;&nbsp;&nbsp;&nbsp;&nbsp;&nbsp;&nbsp;&nbsp;&nbsp;&nbsp;&nbsp;&nbsp;&nbsp;&nbsp;&nbsp;&nbsp;&nbsp;&nbsp;&nbsp;&nbsp;&nbsp;{'date':&nbsp;'2020-07-22&nbsp;02:02:29',<br>&nbsp;&nbsp;&nbsp;&nbsp;&nbsp;&nbsp;&nbsp;&nbsp;&nbsp;&nbsp;&nbsp;&nbsp;&nbsp;&nbsp;&nbsp;&nbsp;&nbsp;&nbsp;&nbsp;&nbsp;&nbsp;&nbsp;&nbsp;&nbsp;&nbsp;&nbsp;&nbsp;&nbsp;&nbsp;&nbsp;&nbsp;&nbsp;&nbsp;&nbsp;'positives':&nbsp;26,<br>&nbsp;&nbsp;&nbsp;&nbsp;&nbsp;&nbsp;&nbsp;&nbsp;&nbsp;&nbsp;&nbsp;&nbsp;&nbsp;&nbsp;&nbsp;&nbsp;&nbsp;&nbsp;&nbsp;&nbsp;&nbsp;&nbsp;&nbsp;&nbsp;&nbsp;&nbsp;&nbsp;&nbsp;&nbsp;&nbsp;&nbsp;&nbsp;&nbsp;&nbsp;'sha256':&nbsp;'132df864f6750d29bf9f762b298f377c13b899aa8d07c0a6bda58adcffd0d6f7',<br>&nbsp;&nbsp;&nbsp;&nbsp;&nbsp;&nbsp;&nbsp;&nbsp;&nbsp;&nbsp;&nbsp;&nbsp;&nbsp;&nbsp;&nbsp;&nbsp;&nbsp;&nbsp;&nbsp;&nbsp;&nbsp;&nbsp;&nbsp;&nbsp;&nbsp;&nbsp;&nbsp;&nbsp;&nbsp;&nbsp;&nbsp;&nbsp;&nbsp;&nbsp;'total':&nbsp;76},<br>&nbsp;&nbsp;&nbsp;&nbsp;&nbsp;&nbsp;&nbsp;&nbsp;&nbsp;&nbsp;&nbsp;&nbsp;&nbsp;&nbsp;&nbsp;&nbsp;&nbsp;&nbsp;&nbsp;&nbsp;&nbsp;&nbsp;&nbsp;&nbsp;&nbsp;&nbsp;&nbsp;&nbsp;&nbsp;&nbsp;&nbsp;&nbsp;&nbsp;{'date':&nbsp;'2020-08-20&nbsp;06:57:04',<br>&nbsp;&nbsp;&nbsp;&nbsp;&nbsp;&nbsp;&nbsp;&nbsp;&nbsp;&nbsp;&nbsp;&nbsp;&nbsp;&nbsp;&nbsp;&nbsp;&nbsp;&nbsp;&nbsp;&nbsp;&nbsp;&nbsp;&nbsp;&nbsp;&nbsp;&nbsp;&nbsp;&nbsp;&nbsp;&nbsp;&nbsp;&nbsp;&nbsp;&nbsp;'positives':&nbsp;30,<br>&nbsp;&nbsp;&nbsp;&nbsp;&nbsp;&nbsp;&nbsp;&nbsp;&nbsp;&nbsp;&nbsp;&nbsp;&nbsp;&nbsp;&nbsp;&nbsp;&nbsp;&nbsp;&nbsp;&nbsp;&nbsp;&nbsp;&nbsp;&nbsp;&nbsp;&nbsp;&nbsp;&nbsp;&nbsp;&nbsp;&nbsp;&nbsp;&nbsp;&nbsp;'sha256':&nbsp;'2c40b76408d59f906f60db97ea36503bfc59aed22a154f5d564d8449c300594f',<br>&nbsp;&nbsp;&nbsp;&nbsp;&nbsp;&nbsp;&nbsp;&nbsp;&nbsp;&nbsp;&nbsp;&nbsp;&nbsp;&nbsp;&nbsp;&nbsp;&nbsp;&nbsp;&nbsp;&nbsp;&nbsp;&nbsp;&nbsp;&nbsp;&nbsp;&nbsp;&nbsp;&nbsp;&nbsp;&nbsp;&nbsp;&nbsp;&nbsp;&nbsp;'total':&nbsp;75}],<br>&nbsp;'detected_referrer_samples':&nbsp;[{'date':&nbsp;'2020-09-09&nbsp;11:30:10',<br>&nbsp;&nbsp;&nbsp;&nbsp;&nbsp;&nbsp;&nbsp;&nbsp;&nbsp;&nbsp;&nbsp;&nbsp;&nbsp;&nbsp;&nbsp;&nbsp;&nbsp;&nbsp;&nbsp;&nbsp;&nbsp;&nbsp;&nbsp;&nbsp;&nbsp;&nbsp;&nbsp;&nbsp;&nbsp;&nbsp;&nbsp;&nbsp;'positives':&nbsp;1,<br>&nbsp;&nbsp;&nbsp;&nbsp;&nbsp;&nbsp;&nbsp;&nbsp;&nbsp;&nbsp;&nbsp;&nbsp;&nbsp;&nbsp;&nbsp;&nbsp;&nbsp;&nbsp;&nbsp;&nbsp;&nbsp;&nbsp;&nbsp;&nbsp;&nbsp;&nbsp;&nbsp;&nbsp;&nbsp;&nbsp;&nbsp;&nbsp;'sha256':&nbsp;'767fc7ae032403bce2dbcefa525cf1a9fd02bbb185e45aa88d9bc28a5f22a2b6',<br>&nbsp;&nbsp;&nbsp;&nbsp;&nbsp;&nbsp;&nbsp;&nbsp;&nbsp;&nbsp;&nbsp;&nbsp;&nbsp;&nbsp;&nbsp;&nbsp;&nbsp;&nbsp;&nbsp;&nbsp;&nbsp;&nbsp;&nbsp;&nbsp;&nbsp;&nbsp;&nbsp;&nbsp;&nbsp;&nbsp;&nbsp;&nbsp;'total':&nbsp;73}],<br>&nbsp;'detected_urls':&nbsp;[{'positives':&nbsp;10,<br>&nbsp;&nbsp;&nbsp;&nbsp;&nbsp;&nbsp;&nbsp;&nbsp;&nbsp;&nbsp;&nbsp;&nbsp;&nbsp;&nbsp;&nbsp;&nbsp;&nbsp;&nbsp;&nbsp;&nbsp;'scan_date':&nbsp;'2021-07-14&nbsp;02:19:07',<br>&nbsp;&nbsp;&nbsp;&nbsp;&nbsp;&nbsp;&nbsp;&nbsp;&nbsp;&nbsp;&nbsp;&nbsp;&nbsp;&nbsp;&nbsp;&nbsp;&nbsp;&nbsp;&nbsp;&nbsp;'total':&nbsp;89,<br>&nbsp;&nbsp;&nbsp;&nbsp;&nbsp;&nbsp;&nbsp;&nbsp;&nbsp;&nbsp;&nbsp;&nbsp;&nbsp;&nbsp;&nbsp;&nbsp;&nbsp;&nbsp;&nbsp;&nbsp;'url':&nbsp;'http://85.214.149.236/sugarcrm/themes/default/images/'},<br>&nbsp;&nbsp;&nbsp;&nbsp;&nbsp;&nbsp;&nbsp;&nbsp;&nbsp;&nbsp;&nbsp;&nbsp;&nbsp;&nbsp;&nbsp;&nbsp;&nbsp;&nbsp;&nbsp;{'positives':&nbsp;9,<br>&nbsp;&nbsp;&nbsp;&nbsp;&nbsp;&nbsp;&nbsp;&nbsp;&nbsp;&nbsp;&nbsp;&nbsp;&nbsp;&nbsp;&nbsp;&nbsp;&nbsp;&nbsp;&nbsp;&nbsp;'scan_date':&nbsp;'2021-07-14&nbsp;00:09:39',<br>&nbsp;&nbsp;&nbsp;&nbsp;&nbsp;&nbsp;&nbsp;&nbsp;&nbsp;&nbsp;&nbsp;&nbsp;&nbsp;&nbsp;&nbsp;&nbsp;&nbsp;&nbsp;&nbsp;&nbsp;'total':&nbsp;89,<br>&nbsp;&nbsp;&nbsp;&nbsp;&nbsp;&nbsp;&nbsp;&nbsp;&nbsp;&nbsp;&nbsp;&nbsp;&nbsp;&nbsp;&nbsp;&nbsp;&nbsp;&nbsp;&nbsp;&nbsp;'url':&nbsp;'http://85.214.149.236:443/sugarcrm/themes/default/images/stock.jpg'},<br>&nbsp;&nbsp;&nbsp;&nbsp;&nbsp;&nbsp;&nbsp;&nbsp;&nbsp;&nbsp;&nbsp;&nbsp;&nbsp;&nbsp;&nbsp;&nbsp;&nbsp;&nbsp;&nbsp;{'positives':&nbsp;11,<br>&nbsp;&nbsp;&nbsp;&nbsp;&nbsp;&nbsp;&nbsp;&nbsp;&nbsp;&nbsp;&nbsp;&nbsp;&nbsp;&nbsp;&nbsp;&nbsp;&nbsp;&nbsp;&nbsp;&nbsp;'scan_date':&nbsp;'2021-07-09&nbsp;11:00:43',<br>&nbsp;&nbsp;&nbsp;&nbsp;&nbsp;&nbsp;&nbsp;&nbsp;&nbsp;&nbsp;&nbsp;&nbsp;&nbsp;&nbsp;&nbsp;&nbsp;&nbsp;&nbsp;&nbsp;&nbsp;'total':&nbsp;89,<br>&nbsp;&nbsp;&nbsp;&nbsp;&nbsp;&nbsp;&nbsp;&nbsp;&nbsp;&nbsp;&nbsp;&nbsp;&nbsp;&nbsp;&nbsp;&nbsp;&nbsp;&nbsp;&nbsp;&nbsp;'url':&nbsp;'http://85.214.149.236:443/sugarcrm/themes/default/images/tshd.jpg'},<br>&nbsp;&nbsp;&nbsp;&nbsp;&nbsp;&nbsp;&nbsp;&nbsp;&nbsp;&nbsp;&nbsp;&nbsp;&nbsp;&nbsp;&nbsp;&nbsp;&nbsp;&nbsp;&nbsp;{'positives':&nbsp;8,<br>&nbsp;&nbsp;&nbsp;&nbsp;&nbsp;&nbsp;&nbsp;&nbsp;&nbsp;&nbsp;&nbsp;&nbsp;&nbsp;&nbsp;&nbsp;&nbsp;&nbsp;&nbsp;&nbsp;&nbsp;'scan_date':&nbsp;'2021-07-08&nbsp;11:39:22',<br>&nbsp;&nbsp;&nbsp;&nbsp;&nbsp;&nbsp;&nbsp;&nbsp;&nbsp;&nbsp;&nbsp;&nbsp;&nbsp;&nbsp;&nbsp;&nbsp;&nbsp;&nbsp;&nbsp;&nbsp;'total':&nbsp;89,<br>&nbsp;&nbsp;&nbsp;&nbsp;&nbsp;&nbsp;&nbsp;&nbsp;&nbsp;&nbsp;&nbsp;&nbsp;&nbsp;&nbsp;&nbsp;&nbsp;&nbsp;&nbsp;&nbsp;&nbsp;'url':&nbsp;'http://85.214.149.236/'},<br>&nbsp;&nbsp;&nbsp;&nbsp;&nbsp;&nbsp;&nbsp;&nbsp;&nbsp;&nbsp;&nbsp;&nbsp;&nbsp;&nbsp;&nbsp;&nbsp;&nbsp;&nbsp;&nbsp;{'positives':&nbsp;12,<br>&nbsp;&nbsp;&nbsp;&nbsp;&nbsp;&nbsp;&nbsp;&nbsp;&nbsp;&nbsp;&nbsp;&nbsp;&nbsp;&nbsp;&nbsp;&nbsp;&nbsp;&nbsp;&nbsp;&nbsp;'scan_date':&nbsp;'2021-07-08&nbsp;08:55:14',<br>&nbsp;&nbsp;&nbsp;&nbsp;&nbsp;&nbsp;&nbsp;&nbsp;&nbsp;&nbsp;&nbsp;&nbsp;&nbsp;&nbsp;&nbsp;&nbsp;&nbsp;&nbsp;&nbsp;&nbsp;'total':&nbsp;90,<br>&nbsp;&nbsp;&nbsp;&nbsp;&nbsp;&nbsp;&nbsp;&nbsp;&nbsp;&nbsp;&nbsp;&nbsp;&nbsp;&nbsp;&nbsp;&nbsp;&nbsp;&nbsp;&nbsp;&nbsp;'url':&nbsp;'http://85.214.149.236:443/sugarcrm/themes/default/images/bioset.jpg'},<br>&nbsp;&nbsp;&nbsp;&nbsp;&nbsp;&nbsp;&nbsp;&nbsp;&nbsp;&nbsp;&nbsp;&nbsp;&nbsp;&nbsp;&nbsp;&nbsp;&nbsp;&nbsp;&nbsp;{'positives':&nbsp;9,<br>&nbsp;&nbsp;&nbsp;&nbsp;&nbsp;&nbsp;&nbsp;&nbsp;&nbsp;&nbsp;&nbsp;&nbsp;&nbsp;&nbsp;&nbsp;&nbsp;&nbsp;&nbsp;&nbsp;&nbsp;'scan_date':&nbsp;'2021-06-28&nbsp;02:32:40',<br>&nbsp;&nbsp;&nbsp;&nbsp;&nbsp;&nbsp;&nbsp;&nbsp;&nbsp;&nbsp;&nbsp;&nbsp;&nbsp;&nbsp;&nbsp;&nbsp;&nbsp;&nbsp;&nbsp;&nbsp;'total':&nbsp;89,<br>&nbsp;&nbsp;&nbsp;&nbsp;&nbsp;&nbsp;&nbsp;&nbsp;&nbsp;&nbsp;&nbsp;&nbsp;&nbsp;&nbsp;&nbsp;&nbsp;&nbsp;&nbsp;&nbsp;&nbsp;'url':&nbsp;'http://85.214.149.236:443/sugarcrm/themes/default/images/mod.jpg'},<br>&nbsp;&nbsp;&nbsp;&nbsp;&nbsp;&nbsp;&nbsp;&nbsp;&nbsp;&nbsp;&nbsp;&nbsp;&nbsp;&nbsp;&nbsp;&nbsp;&nbsp;&nbsp;&nbsp;{'positives':&nbsp;10,<br>&nbsp;&nbsp;&nbsp;&nbsp;&nbsp;&nbsp;&nbsp;&nbsp;&nbsp;&nbsp;&nbsp;&nbsp;&nbsp;&nbsp;&nbsp;&nbsp;&nbsp;&nbsp;&nbsp;&nbsp;'scan_date':&nbsp;'2021-06-26&nbsp;00:05:01',<br>&nbsp;&nbsp;&nbsp;&nbsp;&nbsp;&nbsp;&nbsp;&nbsp;&nbsp;&nbsp;&nbsp;&nbsp;&nbsp;&nbsp;&nbsp;&nbsp;&nbsp;&nbsp;&nbsp;&nbsp;'total':&nbsp;89,<br>&nbsp;&nbsp;&nbsp;&nbsp;&nbsp;&nbsp;&nbsp;&nbsp;&nbsp;&nbsp;&nbsp;&nbsp;&nbsp;&nbsp;&nbsp;&nbsp;&nbsp;&nbsp;&nbsp;&nbsp;'url':&nbsp;'http://85.214.149.236:443/sugarcrm/themes/default/images/default.jpg'},<br>&nbsp;&nbsp;&nbsp;&nbsp;&nbsp;&nbsp;&nbsp;&nbsp;&nbsp;&nbsp;&nbsp;&nbsp;&nbsp;&nbsp;&nbsp;&nbsp;&nbsp;&nbsp;&nbsp;{'positives':&nbsp;12,<br>&nbsp;&nbsp;&nbsp;&nbsp;&nbsp;&nbsp;&nbsp;&nbsp;&nbsp;&nbsp;&nbsp;&nbsp;&nbsp;&nbsp;&nbsp;&nbsp;&nbsp;&nbsp;&nbsp;&nbsp;'scan_date':&nbsp;'2021-06-23&nbsp;12:00:19',<br>&nbsp;&nbsp;&nbsp;&nbsp;&nbsp;&nbsp;&nbsp;&nbsp;&nbsp;&nbsp;&nbsp;&nbsp;&nbsp;&nbsp;&nbsp;&nbsp;&nbsp;&nbsp;&nbsp;&nbsp;'total':&nbsp;88,<br>&nbsp;&nbsp;&nbsp;&nbsp;&nbsp;&nbsp;&nbsp;&nbsp;&nbsp;&nbsp;&nbsp;&nbsp;&nbsp;&nbsp;&nbsp;&nbsp;&nbsp;&nbsp;&nbsp;&nbsp;'url':&nbsp;'http://dockerupdate.anondns.net/'},<br>&nbsp;&nbsp;&nbsp;&nbsp;&nbsp;&nbsp;&nbsp;&nbsp;&nbsp;&nbsp;&nbsp;&nbsp;&nbsp;&nbsp;&nbsp;&nbsp;&nbsp;&nbsp;&nbsp;{'positives':&nbsp;12,<br>&nbsp;&nbsp;&nbsp;&nbsp;&nbsp;&nbsp;&nbsp;&nbsp;&nbsp;&nbsp;&nbsp;&nbsp;&nbsp;&nbsp;&nbsp;&nbsp;&nbsp;&nbsp;&nbsp;&nbsp;'scan_date':&nbsp;'2021-06-21&nbsp;01:57:07',<br>&nbsp;&nbsp;&nbsp;&nbsp;&nbsp;&nbsp;&nbsp;&nbsp;&nbsp;&nbsp;&nbsp;&nbsp;&nbsp;&nbsp;&nbsp;&nbsp;&nbsp;&nbsp;&nbsp;&nbsp;'total':&nbsp;88,<br>&nbsp;&nbsp;&nbsp;&nbsp;&nbsp;&nbsp;&nbsp;&nbsp;&nbsp;&nbsp;&nbsp;&nbsp;&nbsp;&nbsp;&nbsp;&nbsp;&nbsp;&nbsp;&nbsp;&nbsp;'url':&nbsp;'http://dockerupdate.anondns.net:443/sugarcrm/themes/default/images/'},<br>&nbsp;&nbsp;&nbsp;&nbsp;&nbsp;&nbsp;&nbsp;&nbsp;&nbsp;&nbsp;&nbsp;&nbsp;&nbsp;&nbsp;&nbsp;&nbsp;&nbsp;&nbsp;&nbsp;{'positives':&nbsp;8,<br>&nbsp;&nbsp;&nbsp;&nbsp;&nbsp;&nbsp;&nbsp;&nbsp;&nbsp;&nbsp;&nbsp;&nbsp;&nbsp;&nbsp;&nbsp;&nbsp;&nbsp;&nbsp;&nbsp;&nbsp;'scan_date':&nbsp;'2021-06-21&nbsp;01:50:52',<br>&nbsp;&nbsp;&nbsp;&nbsp;&nbsp;&nbsp;&nbsp;&nbsp;&nbsp;&nbsp;&nbsp;&nbsp;&nbsp;&nbsp;&nbsp;&nbsp;&nbsp;&nbsp;&nbsp;&nbsp;'total':&nbsp;89,<br>&nbsp;&nbsp;&nbsp;&nbsp;&nbsp;&nbsp;&nbsp;&nbsp;&nbsp;&nbsp;&nbsp;&nbsp;&nbsp;&nbsp;&nbsp;&nbsp;&nbsp;&nbsp;&nbsp;&nbsp;'url':&nbsp;'http://85.214.149.236:443/sugarcrm/themes/default/images/'},<br>&nbsp;&nbsp;&nbsp;&nbsp;&nbsp;&nbsp;&nbsp;&nbsp;&nbsp;&nbsp;&nbsp;&nbsp;&nbsp;&nbsp;&nbsp;&nbsp;&nbsp;&nbsp;&nbsp;{'positives':&nbsp;9,<br>&nbsp;&nbsp;&nbsp;&nbsp;&nbsp;&nbsp;&nbsp;&nbsp;&nbsp;&nbsp;&nbsp;&nbsp;&nbsp;&nbsp;&nbsp;&nbsp;&nbsp;&nbsp;&nbsp;&nbsp;'scan_date':&nbsp;'2021-06-19&nbsp;00:07:04',<br>&nbsp;&nbsp;&nbsp;&nbsp;&nbsp;&nbsp;&nbsp;&nbsp;&nbsp;&nbsp;&nbsp;&nbsp;&nbsp;&nbsp;&nbsp;&nbsp;&nbsp;&nbsp;&nbsp;&nbsp;'total':&nbsp;89,<br>&nbsp;&nbsp;&nbsp;&nbsp;&nbsp;&nbsp;&nbsp;&nbsp;&nbsp;&nbsp;&nbsp;&nbsp;&nbsp;&nbsp;&nbsp;&nbsp;&nbsp;&nbsp;&nbsp;&nbsp;'url':&nbsp;'http://85.214.149.236:443/sugarcrm/themes/default/images/kube.jpg'},<br>&nbsp;&nbsp;&nbsp;&nbsp;&nbsp;&nbsp;&nbsp;&nbsp;&nbsp;&nbsp;&nbsp;&nbsp;&nbsp;&nbsp;&nbsp;&nbsp;&nbsp;&nbsp;&nbsp;{'positives':&nbsp;7,<br>&nbsp;&nbsp;&nbsp;&nbsp;&nbsp;&nbsp;&nbsp;&nbsp;&nbsp;&nbsp;&nbsp;&nbsp;&nbsp;&nbsp;&nbsp;&nbsp;&nbsp;&nbsp;&nbsp;&nbsp;'scan_date':&nbsp;'2021-06-16&nbsp;08:08:57',<br>&nbsp;&nbsp;&nbsp;&nbsp;&nbsp;&nbsp;&nbsp;&nbsp;&nbsp;&nbsp;&nbsp;&nbsp;&nbsp;&nbsp;&nbsp;&nbsp;&nbsp;&nbsp;&nbsp;&nbsp;'total':&nbsp;89,<br>&nbsp;&nbsp;&nbsp;&nbsp;&nbsp;&nbsp;&nbsp;&nbsp;&nbsp;&nbsp;&nbsp;&nbsp;&nbsp;&nbsp;&nbsp;&nbsp;&nbsp;&nbsp;&nbsp;&nbsp;'url':&nbsp;'http://85.214.149.236:443/'},<br>&nbsp;&nbsp;&nbsp;&nbsp;&nbsp;&nbsp;&nbsp;&nbsp;&nbsp;&nbsp;&nbsp;&nbsp;&nbsp;&nbsp;&nbsp;&nbsp;&nbsp;&nbsp;&nbsp;{'positives':&nbsp;8,<br>&nbsp;&nbsp;&nbsp;&nbsp;&nbsp;&nbsp;&nbsp;&nbsp;&nbsp;&nbsp;&nbsp;&nbsp;&nbsp;&nbsp;&nbsp;&nbsp;&nbsp;&nbsp;&nbsp;&nbsp;'scan_date':&nbsp;'2021-06-09&nbsp;03:40:07',<br>&nbsp;&nbsp;&nbsp;&nbsp;&nbsp;&nbsp;&nbsp;&nbsp;&nbsp;&nbsp;&nbsp;&nbsp;&nbsp;&nbsp;&nbsp;&nbsp;&nbsp;&nbsp;&nbsp;&nbsp;'total':&nbsp;89,<br>&nbsp;&nbsp;&nbsp;&nbsp;&nbsp;&nbsp;&nbsp;&nbsp;&nbsp;&nbsp;&nbsp;&nbsp;&nbsp;&nbsp;&nbsp;&nbsp;&nbsp;&nbsp;&nbsp;&nbsp;'url':&nbsp;'https://85.214.149.236/sugarcrm/themes/default/images'},<br>&nbsp;&nbsp;&nbsp;&nbsp;&nbsp;&nbsp;&nbsp;&nbsp;&nbsp;&nbsp;&nbsp;&nbsp;&nbsp;&nbsp;&nbsp;&nbsp;&nbsp;&nbsp;&nbsp;{'positives':&nbsp;7,<br>&nbsp;&nbsp;&nbsp;&nbsp;&nbsp;&nbsp;&nbsp;&nbsp;&nbsp;&nbsp;&nbsp;&nbsp;&nbsp;&nbsp;&nbsp;&nbsp;&nbsp;&nbsp;&nbsp;&nbsp;'scan_date':&nbsp;'2021-06-09&nbsp;03:18:37',<br>&nbsp;&nbsp;&nbsp;&nbsp;&nbsp;&nbsp;&nbsp;&nbsp;&nbsp;&nbsp;&nbsp;&nbsp;&nbsp;&nbsp;&nbsp;&nbsp;&nbsp;&nbsp;&nbsp;&nbsp;'total':&nbsp;89,<br>&nbsp;&nbsp;&nbsp;&nbsp;&nbsp;&nbsp;&nbsp;&nbsp;&nbsp;&nbsp;&nbsp;&nbsp;&nbsp;&nbsp;&nbsp;&nbsp;&nbsp;&nbsp;&nbsp;&nbsp;'url':&nbsp;'https://85.214.149.236/sugarcrm/themes/default/images/'},<br>&nbsp;&nbsp;&nbsp;&nbsp;&nbsp;&nbsp;&nbsp;&nbsp;&nbsp;&nbsp;&nbsp;&nbsp;&nbsp;&nbsp;&nbsp;&nbsp;&nbsp;&nbsp;&nbsp;{'positives':&nbsp;8,<br>&nbsp;&nbsp;&nbsp;&nbsp;&nbsp;&nbsp;&nbsp;&nbsp;&nbsp;&nbsp;&nbsp;&nbsp;&nbsp;&nbsp;&nbsp;&nbsp;&nbsp;&nbsp;&nbsp;&nbsp;'scan_date':&nbsp;'2021-06-08&nbsp;15:50:06',<br>&nbsp;&nbsp;&nbsp;&nbsp;&nbsp;&nbsp;&nbsp;&nbsp;&nbsp;&nbsp;&nbsp;&nbsp;&nbsp;&nbsp;&nbsp;&nbsp;&nbsp;&nbsp;&nbsp;&nbsp;'total':&nbsp;89,<br>&nbsp;&nbsp;&nbsp;&nbsp;&nbsp;&nbsp;&nbsp;&nbsp;&nbsp;&nbsp;&nbsp;&nbsp;&nbsp;&nbsp;&nbsp;&nbsp;&nbsp;&nbsp;&nbsp;&nbsp;'url':&nbsp;'http://85.214.149.236:443/sugarcrm/themes/default/images'},<br>&nbsp;&nbsp;&nbsp;&nbsp;&nbsp;&nbsp;&nbsp;&nbsp;&nbsp;&nbsp;&nbsp;&nbsp;&nbsp;&nbsp;&nbsp;&nbsp;&nbsp;&nbsp;&nbsp;{'positives':&nbsp;6,<br>&nbsp;&nbsp;&nbsp;&nbsp;&nbsp;&nbsp;&nbsp;&nbsp;&nbsp;&nbsp;&nbsp;&nbsp;&nbsp;&nbsp;&nbsp;&nbsp;&nbsp;&nbsp;&nbsp;&nbsp;'scan_date':&nbsp;'2021-04-21&nbsp;00:07:34',<br>&nbsp;&nbsp;&nbsp;&nbsp;&nbsp;&nbsp;&nbsp;&nbsp;&nbsp;&nbsp;&nbsp;&nbsp;&nbsp;&nbsp;&nbsp;&nbsp;&nbsp;&nbsp;&nbsp;&nbsp;'total':&nbsp;87,<br>&nbsp;&nbsp;&nbsp;&nbsp;&nbsp;&nbsp;&nbsp;&nbsp;&nbsp;&nbsp;&nbsp;&nbsp;&nbsp;&nbsp;&nbsp;&nbsp;&nbsp;&nbsp;&nbsp;&nbsp;'url':&nbsp;'http://85.214.149.236/sugarcrm/themes/default/images/stock.jpg'},<br>&nbsp;&nbsp;&nbsp;&nbsp;&nbsp;&nbsp;&nbsp;&nbsp;&nbsp;&nbsp;&nbsp;&nbsp;&nbsp;&nbsp;&nbsp;&nbsp;&nbsp;&nbsp;&nbsp;{'positives':&nbsp;5,<br>&nbsp;&nbsp;&nbsp;&nbsp;&nbsp;&nbsp;&nbsp;&nbsp;&nbsp;&nbsp;&nbsp;&nbsp;&nbsp;&nbsp;&nbsp;&nbsp;&nbsp;&nbsp;&nbsp;&nbsp;'scan_date':&nbsp;'2021-04-01&nbsp;13:42:58',<br>&nbsp;&nbsp;&nbsp;&nbsp;&nbsp;&nbsp;&nbsp;&nbsp;&nbsp;&nbsp;&nbsp;&nbsp;&nbsp;&nbsp;&nbsp;&nbsp;&nbsp;&nbsp;&nbsp;&nbsp;'total':&nbsp;85,<br>&nbsp;&nbsp;&nbsp;&nbsp;&nbsp;&nbsp;&nbsp;&nbsp;&nbsp;&nbsp;&nbsp;&nbsp;&nbsp;&nbsp;&nbsp;&nbsp;&nbsp;&nbsp;&nbsp;&nbsp;'url':&nbsp;'http://85.214.149.236/sugarcrm/themes/default/images/mod.jpg'},<br>&nbsp;&nbsp;&nbsp;&nbsp;&nbsp;&nbsp;&nbsp;&nbsp;&nbsp;&nbsp;&nbsp;&nbsp;&nbsp;&nbsp;&nbsp;&nbsp;&nbsp;&nbsp;&nbsp;{'positives':&nbsp;9,<br>&nbsp;&nbsp;&nbsp;&nbsp;&nbsp;&nbsp;&nbsp;&nbsp;&nbsp;&nbsp;&nbsp;&nbsp;&nbsp;&nbsp;&nbsp;&nbsp;&nbsp;&nbsp;&nbsp;&nbsp;'scan_date':&nbsp;'2021-03-19&nbsp;18:12:09',<br>&nbsp;&nbsp;&nbsp;&nbsp;&nbsp;&nbsp;&nbsp;&nbsp;&nbsp;&nbsp;&nbsp;&nbsp;&nbsp;&nbsp;&nbsp;&nbsp;&nbsp;&nbsp;&nbsp;&nbsp;'total':&nbsp;85,<br>&nbsp;&nbsp;&nbsp;&nbsp;&nbsp;&nbsp;&nbsp;&nbsp;&nbsp;&nbsp;&nbsp;&nbsp;&nbsp;&nbsp;&nbsp;&nbsp;&nbsp;&nbsp;&nbsp;&nbsp;'url':&nbsp;'http://dockerupdate.anondns.net:443/sugarcrm/themes/default/images/Carray.jpg'},<br>&nbsp;&nbsp;&nbsp;&nbsp;&nbsp;&nbsp;&nbsp;&nbsp;&nbsp;&nbsp;&nbsp;&nbsp;&nbsp;&nbsp;&nbsp;&nbsp;&nbsp;&nbsp;&nbsp;{'positives':&nbsp;6,<br>&nbsp;&nbsp;&nbsp;&nbsp;&nbsp;&nbsp;&nbsp;&nbsp;&nbsp;&nbsp;&nbsp;&nbsp;&nbsp;&nbsp;&nbsp;&nbsp;&nbsp;&nbsp;&nbsp;&nbsp;'scan_date':&nbsp;'2021-01-12&nbsp;10:34:27',<br>&nbsp;&nbsp;&nbsp;&nbsp;&nbsp;&nbsp;&nbsp;&nbsp;&nbsp;&nbsp;&nbsp;&nbsp;&nbsp;&nbsp;&nbsp;&nbsp;&nbsp;&nbsp;&nbsp;&nbsp;'total':&nbsp;83,<br>&nbsp;&nbsp;&nbsp;&nbsp;&nbsp;&nbsp;&nbsp;&nbsp;&nbsp;&nbsp;&nbsp;&nbsp;&nbsp;&nbsp;&nbsp;&nbsp;&nbsp;&nbsp;&nbsp;&nbsp;'url':&nbsp;'http://85.214.149.236/sugarcrm/themes/default/images/kube.jpg'},<br>&nbsp;&nbsp;&nbsp;&nbsp;&nbsp;&nbsp;&nbsp;&nbsp;&nbsp;&nbsp;&nbsp;&nbsp;&nbsp;&nbsp;&nbsp;&nbsp;&nbsp;&nbsp;&nbsp;{'positives':&nbsp;10,<br>&nbsp;&nbsp;&nbsp;&nbsp;&nbsp;&nbsp;&nbsp;&nbsp;&nbsp;&nbsp;&nbsp;&nbsp;&nbsp;&nbsp;&nbsp;&nbsp;&nbsp;&nbsp;&nbsp;&nbsp;'scan_date':&nbsp;'2020-12-28&nbsp;02:17:00',<br>&nbsp;&nbsp;&nbsp;&nbsp;&nbsp;&nbsp;&nbsp;&nbsp;&nbsp;&nbsp;&nbsp;&nbsp;&nbsp;&nbsp;&nbsp;&nbsp;&nbsp;&nbsp;&nbsp;&nbsp;'total':&nbsp;83,<br>&nbsp;&nbsp;&nbsp;&nbsp;&nbsp;&nbsp;&nbsp;&nbsp;&nbsp;&nbsp;&nbsp;&nbsp;&nbsp;&nbsp;&nbsp;&nbsp;&nbsp;&nbsp;&nbsp;&nbsp;'url':&nbsp;'http://dockerupdate.anondns.net/sugarcrm/themes/default/images/'},<br>&nbsp;&nbsp;&nbsp;&nbsp;&nbsp;&nbsp;&nbsp;&nbsp;&nbsp;&nbsp;&nbsp;&nbsp;&nbsp;&nbsp;&nbsp;&nbsp;&nbsp;&nbsp;&nbsp;{'positives':&nbsp;6,<br>&nbsp;&nbsp;&nbsp;&nbsp;&nbsp;&nbsp;&nbsp;&nbsp;&nbsp;&nbsp;&nbsp;&nbsp;&nbsp;&nbsp;&nbsp;&nbsp;&nbsp;&nbsp;&nbsp;&nbsp;'scan_date':&nbsp;'2020-12-19&nbsp;10:34:37',<br>&nbsp;&nbsp;&nbsp;&nbsp;&nbsp;&nbsp;&nbsp;&nbsp;&nbsp;&nbsp;&nbsp;&nbsp;&nbsp;&nbsp;&nbsp;&nbsp;&nbsp;&nbsp;&nbsp;&nbsp;'total':&nbsp;83,<br>&nbsp;&nbsp;&nbsp;&nbsp;&nbsp;&nbsp;&nbsp;&nbsp;&nbsp;&nbsp;&nbsp;&nbsp;&nbsp;&nbsp;&nbsp;&nbsp;&nbsp;&nbsp;&nbsp;&nbsp;'url':&nbsp;'http://85.214.149.236/sugarcrm/themes/default/images/default.jpg'},<br>&nbsp;&nbsp;&nbsp;&nbsp;&nbsp;&nbsp;&nbsp;&nbsp;&nbsp;&nbsp;&nbsp;&nbsp;&nbsp;&nbsp;&nbsp;&nbsp;&nbsp;&nbsp;&nbsp;{'positives':&nbsp;6,<br>&nbsp;&nbsp;&nbsp;&nbsp;&nbsp;&nbsp;&nbsp;&nbsp;&nbsp;&nbsp;&nbsp;&nbsp;&nbsp;&nbsp;&nbsp;&nbsp;&nbsp;&nbsp;&nbsp;&nbsp;'scan_date':&nbsp;'2020-11-12&nbsp;16:50:51',<br>&nbsp;&nbsp;&nbsp;&nbsp;&nbsp;&nbsp;&nbsp;&nbsp;&nbsp;&nbsp;&nbsp;&nbsp;&nbsp;&nbsp;&nbsp;&nbsp;&nbsp;&nbsp;&nbsp;&nbsp;'total':&nbsp;81,<br>&nbsp;&nbsp;&nbsp;&nbsp;&nbsp;&nbsp;&nbsp;&nbsp;&nbsp;&nbsp;&nbsp;&nbsp;&nbsp;&nbsp;&nbsp;&nbsp;&nbsp;&nbsp;&nbsp;&nbsp;'url':&nbsp;'http://85.214.149.236/sugarcrm/themes'},<br>&nbsp;&nbsp;&nbsp;&nbsp;&nbsp;&nbsp;&nbsp;&nbsp;&nbsp;&nbsp;&nbsp;&nbsp;&nbsp;&nbsp;&nbsp;&nbsp;&nbsp;&nbsp;&nbsp;{'positives':&nbsp;14,<br>&nbsp;&nbsp;&nbsp;&nbsp;&nbsp;&nbsp;&nbsp;&nbsp;&nbsp;&nbsp;&nbsp;&nbsp;&nbsp;&nbsp;&nbsp;&nbsp;&nbsp;&nbsp;&nbsp;&nbsp;'scan_date':&nbsp;'2020-11-10&nbsp;11:01:42',<br>&nbsp;&nbsp;&nbsp;&nbsp;&nbsp;&nbsp;&nbsp;&nbsp;&nbsp;&nbsp;&nbsp;&nbsp;&nbsp;&nbsp;&nbsp;&nbsp;&nbsp;&nbsp;&nbsp;&nbsp;'total':&nbsp;81,<br>&nbsp;&nbsp;&nbsp;&nbsp;&nbsp;&nbsp;&nbsp;&nbsp;&nbsp;&nbsp;&nbsp;&nbsp;&nbsp;&nbsp;&nbsp;&nbsp;&nbsp;&nbsp;&nbsp;&nbsp;'url':&nbsp;'http://dockerupdate.anondns.net:443/sugarcrm/themes/default/images/mos.jpg'},<br>&nbsp;&nbsp;&nbsp;&nbsp;&nbsp;&nbsp;&nbsp;&nbsp;&nbsp;&nbsp;&nbsp;&nbsp;&nbsp;&nbsp;&nbsp;&nbsp;&nbsp;&nbsp;&nbsp;{'positives':&nbsp;14,<br>&nbsp;&nbsp;&nbsp;&nbsp;&nbsp;&nbsp;&nbsp;&nbsp;&nbsp;&nbsp;&nbsp;&nbsp;&nbsp;&nbsp;&nbsp;&nbsp;&nbsp;&nbsp;&nbsp;&nbsp;'scan_date':&nbsp;'2020-11-08&nbsp;15:00:49',<br>&nbsp;&nbsp;&nbsp;&nbsp;&nbsp;&nbsp;&nbsp;&nbsp;&nbsp;&nbsp;&nbsp;&nbsp;&nbsp;&nbsp;&nbsp;&nbsp;&nbsp;&nbsp;&nbsp;&nbsp;'total':&nbsp;81,<br>&nbsp;&nbsp;&nbsp;&nbsp;&nbsp;&nbsp;&nbsp;&nbsp;&nbsp;&nbsp;&nbsp;&nbsp;&nbsp;&nbsp;&nbsp;&nbsp;&nbsp;&nbsp;&nbsp;&nbsp;'url':&nbsp;'http://dockerupdate.anondns.net:443/sugarcrm/themes/default/images/nk.jpg'},<br>&nbsp;&nbsp;&nbsp;&nbsp;&nbsp;&nbsp;&nbsp;&nbsp;&nbsp;&nbsp;&nbsp;&nbsp;&nbsp;&nbsp;&nbsp;&nbsp;&nbsp;&nbsp;&nbsp;{'positives':&nbsp;6,<br>&nbsp;&nbsp;&nbsp;&nbsp;&nbsp;&nbsp;&nbsp;&nbsp;&nbsp;&nbsp;&nbsp;&nbsp;&nbsp;&nbsp;&nbsp;&nbsp;&nbsp;&nbsp;&nbsp;&nbsp;'scan_date':&nbsp;'2020-11-04&nbsp;19:21:25',<br>&nbsp;&nbsp;&nbsp;&nbsp;&nbsp;&nbsp;&nbsp;&nbsp;&nbsp;&nbsp;&nbsp;&nbsp;&nbsp;&nbsp;&nbsp;&nbsp;&nbsp;&nbsp;&nbsp;&nbsp;'total':&nbsp;81,<br>&nbsp;&nbsp;&nbsp;&nbsp;&nbsp;&nbsp;&nbsp;&nbsp;&nbsp;&nbsp;&nbsp;&nbsp;&nbsp;&nbsp;&nbsp;&nbsp;&nbsp;&nbsp;&nbsp;&nbsp;'url':&nbsp;'http://85.214.149.236/sugarcrm/themes/default'},<br>&nbsp;&nbsp;&nbsp;&nbsp;&nbsp;&nbsp;&nbsp;&nbsp;&nbsp;&nbsp;&nbsp;&nbsp;&nbsp;&nbsp;&nbsp;&nbsp;&nbsp;&nbsp;&nbsp;{'positives':&nbsp;6,<br>&nbsp;&nbsp;&nbsp;&nbsp;&nbsp;&nbsp;&nbsp;&nbsp;&nbsp;&nbsp;&nbsp;&nbsp;&nbsp;&nbsp;&nbsp;&nbsp;&nbsp;&nbsp;&nbsp;&nbsp;'scan_date':&nbsp;'2020-10-29&nbsp;00:55:07',<br>&nbsp;&nbsp;&nbsp;&nbsp;&nbsp;&nbsp;&nbsp;&nbsp;&nbsp;&nbsp;&nbsp;&nbsp;&nbsp;&nbsp;&nbsp;&nbsp;&nbsp;&nbsp;&nbsp;&nbsp;'total':&nbsp;81,<br>&nbsp;&nbsp;&nbsp;&nbsp;&nbsp;&nbsp;&nbsp;&nbsp;&nbsp;&nbsp;&nbsp;&nbsp;&nbsp;&nbsp;&nbsp;&nbsp;&nbsp;&nbsp;&nbsp;&nbsp;'url':&nbsp;'http://85.214.149.236/sugarcrm/themes/default/images'},<br>&nbsp;&nbsp;&nbsp;&nbsp;&nbsp;&nbsp;&nbsp;&nbsp;&nbsp;&nbsp;&nbsp;&nbsp;&nbsp;&nbsp;&nbsp;&nbsp;&nbsp;&nbsp;&nbsp;{'positives':&nbsp;12,<br>&nbsp;&nbsp;&nbsp;&nbsp;&nbsp;&nbsp;&nbsp;&nbsp;&nbsp;&nbsp;&nbsp;&nbsp;&nbsp;&nbsp;&nbsp;&nbsp;&nbsp;&nbsp;&nbsp;&nbsp;'scan_date':&nbsp;'2020-09-28&nbsp;03:26:34',<br>&nbsp;&nbsp;&nbsp;&nbsp;&nbsp;&nbsp;&nbsp;&nbsp;&nbsp;&nbsp;&nbsp;&nbsp;&nbsp;&nbsp;&nbsp;&nbsp;&nbsp;&nbsp;&nbsp;&nbsp;'total':&nbsp;80,<br>&nbsp;&nbsp;&nbsp;&nbsp;&nbsp;&nbsp;&nbsp;&nbsp;&nbsp;&nbsp;&nbsp;&nbsp;&nbsp;&nbsp;&nbsp;&nbsp;&nbsp;&nbsp;&nbsp;&nbsp;'url':&nbsp;'http://dockerupdate.anondns.net:443/sugarcrm'},<br>&nbsp;&nbsp;&nbsp;&nbsp;&nbsp;&nbsp;&nbsp;&nbsp;&nbsp;&nbsp;&nbsp;&nbsp;&nbsp;&nbsp;&nbsp;&nbsp;&nbsp;&nbsp;&nbsp;{'positives':&nbsp;9,<br>&nbsp;&nbsp;&nbsp;&nbsp;&nbsp;&nbsp;&nbsp;&nbsp;&nbsp;&nbsp;&nbsp;&nbsp;&nbsp;&nbsp;&nbsp;&nbsp;&nbsp;&nbsp;&nbsp;&nbsp;'scan_date':&nbsp;'2020-09-28&nbsp;03:06:19',<br>&nbsp;&nbsp;&nbsp;&nbsp;&nbsp;&nbsp;&nbsp;&nbsp;&nbsp;&nbsp;&nbsp;&nbsp;&nbsp;&nbsp;&nbsp;&nbsp;&nbsp;&nbsp;&nbsp;&nbsp;'total':&nbsp;80,<br>&nbsp;&nbsp;&nbsp;&nbsp;&nbsp;&nbsp;&nbsp;&nbsp;&nbsp;&nbsp;&nbsp;&nbsp;&nbsp;&nbsp;&nbsp;&nbsp;&nbsp;&nbsp;&nbsp;&nbsp;'url':&nbsp;'http://85.214.149.236/sugarcrm/.../dns'},<br>&nbsp;&nbsp;&nbsp;&nbsp;&nbsp;&nbsp;&nbsp;&nbsp;&nbsp;&nbsp;&nbsp;&nbsp;&nbsp;&nbsp;&nbsp;&nbsp;&nbsp;&nbsp;&nbsp;{'positives':&nbsp;11,<br>&nbsp;&nbsp;&nbsp;&nbsp;&nbsp;&nbsp;&nbsp;&nbsp;&nbsp;&nbsp;&nbsp;&nbsp;&nbsp;&nbsp;&nbsp;&nbsp;&nbsp;&nbsp;&nbsp;&nbsp;'scan_date':&nbsp;'2020-09-24&nbsp;14:01:08',<br>&nbsp;&nbsp;&nbsp;&nbsp;&nbsp;&nbsp;&nbsp;&nbsp;&nbsp;&nbsp;&nbsp;&nbsp;&nbsp;&nbsp;&nbsp;&nbsp;&nbsp;&nbsp;&nbsp;&nbsp;'total':&nbsp;80,<br>&nbsp;&nbsp;&nbsp;&nbsp;&nbsp;&nbsp;&nbsp;&nbsp;&nbsp;&nbsp;&nbsp;&nbsp;&nbsp;&nbsp;&nbsp;&nbsp;&nbsp;&nbsp;&nbsp;&nbsp;'url':&nbsp;'http://dockerupdate.anondns.net/sugarcrm/themes/default/images'},<br>&nbsp;&nbsp;&nbsp;&nbsp;&nbsp;&nbsp;&nbsp;&nbsp;&nbsp;&nbsp;&nbsp;&nbsp;&nbsp;&nbsp;&nbsp;&nbsp;&nbsp;&nbsp;&nbsp;{'positives':&nbsp;12,<br>&nbsp;&nbsp;&nbsp;&nbsp;&nbsp;&nbsp;&nbsp;&nbsp;&nbsp;&nbsp;&nbsp;&nbsp;&nbsp;&nbsp;&nbsp;&nbsp;&nbsp;&nbsp;&nbsp;&nbsp;'scan_date':&nbsp;'2020-09-21&nbsp;17:20:19',<br>&nbsp;&nbsp;&nbsp;&nbsp;&nbsp;&nbsp;&nbsp;&nbsp;&nbsp;&nbsp;&nbsp;&nbsp;&nbsp;&nbsp;&nbsp;&nbsp;&nbsp;&nbsp;&nbsp;&nbsp;'total':&nbsp;80,<br>&nbsp;&nbsp;&nbsp;&nbsp;&nbsp;&nbsp;&nbsp;&nbsp;&nbsp;&nbsp;&nbsp;&nbsp;&nbsp;&nbsp;&nbsp;&nbsp;&nbsp;&nbsp;&nbsp;&nbsp;'url':&nbsp;'http://dockerupdate.anondns.net:443/sugarcrm/themes/default/images/carray.jpg'},<br>&nbsp;&nbsp;&nbsp;&nbsp;&nbsp;&nbsp;&nbsp;&nbsp;&nbsp;&nbsp;&nbsp;&nbsp;&nbsp;&nbsp;&nbsp;&nbsp;&nbsp;&nbsp;&nbsp;{'positives':&nbsp;6,<br>&nbsp;&nbsp;&nbsp;&nbsp;&nbsp;&nbsp;&nbsp;&nbsp;&nbsp;&nbsp;&nbsp;&nbsp;&nbsp;&nbsp;&nbsp;&nbsp;&nbsp;&nbsp;&nbsp;&nbsp;'scan_date':&nbsp;'2020-09-20&nbsp;16:04:57',<br>&nbsp;&nbsp;&nbsp;&nbsp;&nbsp;&nbsp;&nbsp;&nbsp;&nbsp;&nbsp;&nbsp;&nbsp;&nbsp;&nbsp;&nbsp;&nbsp;&nbsp;&nbsp;&nbsp;&nbsp;'total':&nbsp;80,<br>&nbsp;&nbsp;&nbsp;&nbsp;&nbsp;&nbsp;&nbsp;&nbsp;&nbsp;&nbsp;&nbsp;&nbsp;&nbsp;&nbsp;&nbsp;&nbsp;&nbsp;&nbsp;&nbsp;&nbsp;'url':&nbsp;'http://85.214.149.236/sugarcrm'},<br>&nbsp;&nbsp;&nbsp;&nbsp;&nbsp;&nbsp;&nbsp;&nbsp;&nbsp;&nbsp;&nbsp;&nbsp;&nbsp;&nbsp;&nbsp;&nbsp;&nbsp;&nbsp;&nbsp;{'positives':&nbsp;9,<br>&nbsp;&nbsp;&nbsp;&nbsp;&nbsp;&nbsp;&nbsp;&nbsp;&nbsp;&nbsp;&nbsp;&nbsp;&nbsp;&nbsp;&nbsp;&nbsp;&nbsp;&nbsp;&nbsp;&nbsp;'scan_date':&nbsp;'2020-09-17&nbsp;17:36:08',<br>&nbsp;&nbsp;&nbsp;&nbsp;&nbsp;&nbsp;&nbsp;&nbsp;&nbsp;&nbsp;&nbsp;&nbsp;&nbsp;&nbsp;&nbsp;&nbsp;&nbsp;&nbsp;&nbsp;&nbsp;'total':&nbsp;80,<br>&nbsp;&nbsp;&nbsp;&nbsp;&nbsp;&nbsp;&nbsp;&nbsp;&nbsp;&nbsp;&nbsp;&nbsp;&nbsp;&nbsp;&nbsp;&nbsp;&nbsp;&nbsp;&nbsp;&nbsp;'url':&nbsp;'http://85.214.149.236:443/sugarcrm/banner.php'},<br>&nbsp;&nbsp;&nbsp;&nbsp;&nbsp;&nbsp;&nbsp;&nbsp;&nbsp;&nbsp;&nbsp;&nbsp;&nbsp;&nbsp;&nbsp;&nbsp;&nbsp;&nbsp;&nbsp;{'positives':&nbsp;11,<br>&nbsp;&nbsp;&nbsp;&nbsp;&nbsp;&nbsp;&nbsp;&nbsp;&nbsp;&nbsp;&nbsp;&nbsp;&nbsp;&nbsp;&nbsp;&nbsp;&nbsp;&nbsp;&nbsp;&nbsp;'scan_date':&nbsp;'2020-09-10&nbsp;07:55:21',<br>&nbsp;&nbsp;&nbsp;&nbsp;&nbsp;&nbsp;&nbsp;&nbsp;&nbsp;&nbsp;&nbsp;&nbsp;&nbsp;&nbsp;&nbsp;&nbsp;&nbsp;&nbsp;&nbsp;&nbsp;'total':&nbsp;80,<br>&nbsp;&nbsp;&nbsp;&nbsp;&nbsp;&nbsp;&nbsp;&nbsp;&nbsp;&nbsp;&nbsp;&nbsp;&nbsp;&nbsp;&nbsp;&nbsp;&nbsp;&nbsp;&nbsp;&nbsp;'url':&nbsp;'http://dockerupdate.anondns.net:443/sugarcrm/'},<br>&nbsp;&nbsp;&nbsp;&nbsp;&nbsp;&nbsp;&nbsp;&nbsp;&nbsp;&nbsp;&nbsp;&nbsp;&nbsp;&nbsp;&nbsp;&nbsp;&nbsp;&nbsp;&nbsp;{'positives':&nbsp;10,<br>&nbsp;&nbsp;&nbsp;&nbsp;&nbsp;&nbsp;&nbsp;&nbsp;&nbsp;&nbsp;&nbsp;&nbsp;&nbsp;&nbsp;&nbsp;&nbsp;&nbsp;&nbsp;&nbsp;&nbsp;'scan_date':&nbsp;'2020-09-09&nbsp;12:06:14',<br>&nbsp;&nbsp;&nbsp;&nbsp;&nbsp;&nbsp;&nbsp;&nbsp;&nbsp;&nbsp;&nbsp;&nbsp;&nbsp;&nbsp;&nbsp;&nbsp;&nbsp;&nbsp;&nbsp;&nbsp;'total':&nbsp;80,<br>&nbsp;&nbsp;&nbsp;&nbsp;&nbsp;&nbsp;&nbsp;&nbsp;&nbsp;&nbsp;&nbsp;&nbsp;&nbsp;&nbsp;&nbsp;&nbsp;&nbsp;&nbsp;&nbsp;&nbsp;'url':&nbsp;'http://dockerupdate.anondns.net:443/sugarcrm/themes/default/images/Carray.jpg/'},<br>&nbsp;&nbsp;&nbsp;&nbsp;&nbsp;&nbsp;&nbsp;&nbsp;&nbsp;&nbsp;&nbsp;&nbsp;&nbsp;&nbsp;&nbsp;&nbsp;&nbsp;&nbsp;&nbsp;{'positives':&nbsp;4,<br>&nbsp;&nbsp;&nbsp;&nbsp;&nbsp;&nbsp;&nbsp;&nbsp;&nbsp;&nbsp;&nbsp;&nbsp;&nbsp;&nbsp;&nbsp;&nbsp;&nbsp;&nbsp;&nbsp;&nbsp;'scan_date':&nbsp;'2020-09-09&nbsp;12:05:12',<br>&nbsp;&nbsp;&nbsp;&nbsp;&nbsp;&nbsp;&nbsp;&nbsp;&nbsp;&nbsp;&nbsp;&nbsp;&nbsp;&nbsp;&nbsp;&nbsp;&nbsp;&nbsp;&nbsp;&nbsp;'total':&nbsp;80,<br>&nbsp;&nbsp;&nbsp;&nbsp;&nbsp;&nbsp;&nbsp;&nbsp;&nbsp;&nbsp;&nbsp;&nbsp;&nbsp;&nbsp;&nbsp;&nbsp;&nbsp;&nbsp;&nbsp;&nbsp;'url':&nbsp;'http://85.214.149.236:443/sugarcrm/themes/default/images/bioset.jpg/'},<br>&nbsp;&nbsp;&nbsp;&nbsp;&nbsp;&nbsp;&nbsp;&nbsp;&nbsp;&nbsp;&nbsp;&nbsp;&nbsp;&nbsp;&nbsp;&nbsp;&nbsp;&nbsp;&nbsp;{'positives':&nbsp;11,<br>&nbsp;&nbsp;&nbsp;&nbsp;&nbsp;&nbsp;&nbsp;&nbsp;&nbsp;&nbsp;&nbsp;&nbsp;&nbsp;&nbsp;&nbsp;&nbsp;&nbsp;&nbsp;&nbsp;&nbsp;'scan_date':&nbsp;'2020-09-09&nbsp;11:59:35',<br>&nbsp;&nbsp;&nbsp;&nbsp;&nbsp;&nbsp;&nbsp;&nbsp;&nbsp;&nbsp;&nbsp;&nbsp;&nbsp;&nbsp;&nbsp;&nbsp;&nbsp;&nbsp;&nbsp;&nbsp;'total':&nbsp;80,<br>&nbsp;&nbsp;&nbsp;&nbsp;&nbsp;&nbsp;&nbsp;&nbsp;&nbsp;&nbsp;&nbsp;&nbsp;&nbsp;&nbsp;&nbsp;&nbsp;&nbsp;&nbsp;&nbsp;&nbsp;'url':&nbsp;'http://dockerupdate.anondns.net/sugarcrm/themes/default/images/mos.jpg'},<br>&nbsp;&nbsp;&nbsp;&nbsp;&nbsp;&nbsp;&nbsp;&nbsp;&nbsp;&nbsp;&nbsp;&nbsp;&nbsp;&nbsp;&nbsp;&nbsp;&nbsp;&nbsp;&nbsp;{'positives':&nbsp;5,<br>&nbsp;&nbsp;&nbsp;&nbsp;&nbsp;&nbsp;&nbsp;&nbsp;&nbsp;&nbsp;&nbsp;&nbsp;&nbsp;&nbsp;&nbsp;&nbsp;&nbsp;&nbsp;&nbsp;&nbsp;'scan_date':&nbsp;'2020-09-09&nbsp;11:48:55',<br>&nbsp;&nbsp;&nbsp;&nbsp;&nbsp;&nbsp;&nbsp;&nbsp;&nbsp;&nbsp;&nbsp;&nbsp;&nbsp;&nbsp;&nbsp;&nbsp;&nbsp;&nbsp;&nbsp;&nbsp;'total':&nbsp;80,<br>&nbsp;&nbsp;&nbsp;&nbsp;&nbsp;&nbsp;&nbsp;&nbsp;&nbsp;&nbsp;&nbsp;&nbsp;&nbsp;&nbsp;&nbsp;&nbsp;&nbsp;&nbsp;&nbsp;&nbsp;'url':&nbsp;'http://85.214.149.236:443/sugarcrm/.../run'},<br>&nbsp;&nbsp;&nbsp;&nbsp;&nbsp;&nbsp;&nbsp;&nbsp;&nbsp;&nbsp;&nbsp;&nbsp;&nbsp;&nbsp;&nbsp;&nbsp;&nbsp;&nbsp;&nbsp;{'positives':&nbsp;4,<br>&nbsp;&nbsp;&nbsp;&nbsp;&nbsp;&nbsp;&nbsp;&nbsp;&nbsp;&nbsp;&nbsp;&nbsp;&nbsp;&nbsp;&nbsp;&nbsp;&nbsp;&nbsp;&nbsp;&nbsp;'scan_date':&nbsp;'2020-09-09&nbsp;11:44:28',<br>&nbsp;&nbsp;&nbsp;&nbsp;&nbsp;&nbsp;&nbsp;&nbsp;&nbsp;&nbsp;&nbsp;&nbsp;&nbsp;&nbsp;&nbsp;&nbsp;&nbsp;&nbsp;&nbsp;&nbsp;'total':&nbsp;80,<br>&nbsp;&nbsp;&nbsp;&nbsp;&nbsp;&nbsp;&nbsp;&nbsp;&nbsp;&nbsp;&nbsp;&nbsp;&nbsp;&nbsp;&nbsp;&nbsp;&nbsp;&nbsp;&nbsp;&nbsp;'url':&nbsp;'http://85.214.149.236:443/sugarcrm/themes/default/images/mod.js'},<br>&nbsp;&nbsp;&nbsp;&nbsp;&nbsp;&nbsp;&nbsp;&nbsp;&nbsp;&nbsp;&nbsp;&nbsp;&nbsp;&nbsp;&nbsp;&nbsp;&nbsp;&nbsp;&nbsp;{'positives':&nbsp;6,<br>&nbsp;&nbsp;&nbsp;&nbsp;&nbsp;&nbsp;&nbsp;&nbsp;&nbsp;&nbsp;&nbsp;&nbsp;&nbsp;&nbsp;&nbsp;&nbsp;&nbsp;&nbsp;&nbsp;&nbsp;'scan_date':&nbsp;'2020-09-09&nbsp;11:35:26',<br>&nbsp;&nbsp;&nbsp;&nbsp;&nbsp;&nbsp;&nbsp;&nbsp;&nbsp;&nbsp;&nbsp;&nbsp;&nbsp;&nbsp;&nbsp;&nbsp;&nbsp;&nbsp;&nbsp;&nbsp;'total':&nbsp;80,<br>&nbsp;&nbsp;&nbsp;&nbsp;&nbsp;&nbsp;&nbsp;&nbsp;&nbsp;&nbsp;&nbsp;&nbsp;&nbsp;&nbsp;&nbsp;&nbsp;&nbsp;&nbsp;&nbsp;&nbsp;'url':&nbsp;'http://85.214.149.236:443/sugarcrm/.../cron.sh'},<br>&nbsp;&nbsp;&nbsp;&nbsp;&nbsp;&nbsp;&nbsp;&nbsp;&nbsp;&nbsp;&nbsp;&nbsp;&nbsp;&nbsp;&nbsp;&nbsp;&nbsp;&nbsp;&nbsp;{'positives':&nbsp;11,<br>&nbsp;&nbsp;&nbsp;&nbsp;&nbsp;&nbsp;&nbsp;&nbsp;&nbsp;&nbsp;&nbsp;&nbsp;&nbsp;&nbsp;&nbsp;&nbsp;&nbsp;&nbsp;&nbsp;&nbsp;'scan_date':&nbsp;'2020-09-09&nbsp;11:30:00',<br>&nbsp;&nbsp;&nbsp;&nbsp;&nbsp;&nbsp;&nbsp;&nbsp;&nbsp;&nbsp;&nbsp;&nbsp;&nbsp;&nbsp;&nbsp;&nbsp;&nbsp;&nbsp;&nbsp;&nbsp;'total':&nbsp;80,<br>&nbsp;&nbsp;&nbsp;&nbsp;&nbsp;&nbsp;&nbsp;&nbsp;&nbsp;&nbsp;&nbsp;&nbsp;&nbsp;&nbsp;&nbsp;&nbsp;&nbsp;&nbsp;&nbsp;&nbsp;'url':&nbsp;'http://dockerupdate.anondns.net/sugarcrm/themes/default/images/nk.jpg'},<br>&nbsp;&nbsp;&nbsp;&nbsp;&nbsp;&nbsp;&nbsp;&nbsp;&nbsp;&nbsp;&nbsp;&nbsp;&nbsp;&nbsp;&nbsp;&nbsp;&nbsp;&nbsp;&nbsp;{'positives':&nbsp;5,<br>&nbsp;&nbsp;&nbsp;&nbsp;&nbsp;&nbsp;&nbsp;&nbsp;&nbsp;&nbsp;&nbsp;&nbsp;&nbsp;&nbsp;&nbsp;&nbsp;&nbsp;&nbsp;&nbsp;&nbsp;'scan_date':&nbsp;'2020-09-05&nbsp;03:44:35',<br>&nbsp;&nbsp;&nbsp;&nbsp;&nbsp;&nbsp;&nbsp;&nbsp;&nbsp;&nbsp;&nbsp;&nbsp;&nbsp;&nbsp;&nbsp;&nbsp;&nbsp;&nbsp;&nbsp;&nbsp;'total':&nbsp;80,<br>&nbsp;&nbsp;&nbsp;&nbsp;&nbsp;&nbsp;&nbsp;&nbsp;&nbsp;&nbsp;&nbsp;&nbsp;&nbsp;&nbsp;&nbsp;&nbsp;&nbsp;&nbsp;&nbsp;&nbsp;'url':&nbsp;'http://85.214.149.236/sugarcrm/...'},<br>&nbsp;&nbsp;&nbsp;&nbsp;&nbsp;&nbsp;&nbsp;&nbsp;&nbsp;&nbsp;&nbsp;&nbsp;&nbsp;&nbsp;&nbsp;&nbsp;&nbsp;&nbsp;&nbsp;{'positives':&nbsp;8,<br>&nbsp;&nbsp;&nbsp;&nbsp;&nbsp;&nbsp;&nbsp;&nbsp;&nbsp;&nbsp;&nbsp;&nbsp;&nbsp;&nbsp;&nbsp;&nbsp;&nbsp;&nbsp;&nbsp;&nbsp;'scan_date':&nbsp;'2020-09-02&nbsp;06:09:23',<br>&nbsp;&nbsp;&nbsp;&nbsp;&nbsp;&nbsp;&nbsp;&nbsp;&nbsp;&nbsp;&nbsp;&nbsp;&nbsp;&nbsp;&nbsp;&nbsp;&nbsp;&nbsp;&nbsp;&nbsp;'total':&nbsp;80,<br>&nbsp;&nbsp;&nbsp;&nbsp;&nbsp;&nbsp;&nbsp;&nbsp;&nbsp;&nbsp;&nbsp;&nbsp;&nbsp;&nbsp;&nbsp;&nbsp;&nbsp;&nbsp;&nbsp;&nbsp;'url':&nbsp;'https://dockerupdate.anondns.net/'},<br>&nbsp;&nbsp;&nbsp;&nbsp;&nbsp;&nbsp;&nbsp;&nbsp;&nbsp;&nbsp;&nbsp;&nbsp;&nbsp;&nbsp;&nbsp;&nbsp;&nbsp;&nbsp;&nbsp;{'positives':&nbsp;6,<br>&nbsp;&nbsp;&nbsp;&nbsp;&nbsp;&nbsp;&nbsp;&nbsp;&nbsp;&nbsp;&nbsp;&nbsp;&nbsp;&nbsp;&nbsp;&nbsp;&nbsp;&nbsp;&nbsp;&nbsp;'scan_date':&nbsp;'2020-09-01&nbsp;17:37:50',<br>&nbsp;&nbsp;&nbsp;&nbsp;&nbsp;&nbsp;&nbsp;&nbsp;&nbsp;&nbsp;&nbsp;&nbsp;&nbsp;&nbsp;&nbsp;&nbsp;&nbsp;&nbsp;&nbsp;&nbsp;'total':&nbsp;79,<br>&nbsp;&nbsp;&nbsp;&nbsp;&nbsp;&nbsp;&nbsp;&nbsp;&nbsp;&nbsp;&nbsp;&nbsp;&nbsp;&nbsp;&nbsp;&nbsp;&nbsp;&nbsp;&nbsp;&nbsp;'url':&nbsp;'http://85.214.149.236:443/sugarcrm/.../dns'},<br>&nbsp;&nbsp;&nbsp;&nbsp;&nbsp;&nbsp;&nbsp;&nbsp;&nbsp;&nbsp;&nbsp;&nbsp;&nbsp;&nbsp;&nbsp;&nbsp;&nbsp;&nbsp;&nbsp;{'positives':&nbsp;1,<br>&nbsp;&nbsp;&nbsp;&nbsp;&nbsp;&nbsp;&nbsp;&nbsp;&nbsp;&nbsp;&nbsp;&nbsp;&nbsp;&nbsp;&nbsp;&nbsp;&nbsp;&nbsp;&nbsp;&nbsp;'scan_date':&nbsp;'2020-08-28&nbsp;08:15:47',<br>&nbsp;&nbsp;&nbsp;&nbsp;&nbsp;&nbsp;&nbsp;&nbsp;&nbsp;&nbsp;&nbsp;&nbsp;&nbsp;&nbsp;&nbsp;&nbsp;&nbsp;&nbsp;&nbsp;&nbsp;'total':&nbsp;78,<br>&nbsp;&nbsp;&nbsp;&nbsp;&nbsp;&nbsp;&nbsp;&nbsp;&nbsp;&nbsp;&nbsp;&nbsp;&nbsp;&nbsp;&nbsp;&nbsp;&nbsp;&nbsp;&nbsp;&nbsp;'url':&nbsp;'http://85.214.149.236:443/sugarcrm/themes/default/images/mod.js\"'},<br>&nbsp;&nbsp;&nbsp;&nbsp;&nbsp;&nbsp;&nbsp;&nbsp;&nbsp;&nbsp;&nbsp;&nbsp;&nbsp;&nbsp;&nbsp;&nbsp;&nbsp;&nbsp;&nbsp;{'positives':&nbsp;2,<br>&nbsp;&nbsp;&nbsp;&nbsp;&nbsp;&nbsp;&nbsp;&nbsp;&nbsp;&nbsp;&nbsp;&nbsp;&nbsp;&nbsp;&nbsp;&nbsp;&nbsp;&nbsp;&nbsp;&nbsp;'scan_date':&nbsp;'2020-08-27&nbsp;13:22:06',<br>&nbsp;&nbsp;&nbsp;&nbsp;&nbsp;&nbsp;&nbsp;&nbsp;&nbsp;&nbsp;&nbsp;&nbsp;&nbsp;&nbsp;&nbsp;&nbsp;&nbsp;&nbsp;&nbsp;&nbsp;'total':&nbsp;78,<br>&nbsp;&nbsp;&nbsp;&nbsp;&nbsp;&nbsp;&nbsp;&nbsp;&nbsp;&nbsp;&nbsp;&nbsp;&nbsp;&nbsp;&nbsp;&nbsp;&nbsp;&nbsp;&nbsp;&nbsp;'url':&nbsp;'http://85.214.149.236:443/sugarcrm/themes/default/images/zgrab.jpg'},<br>&nbsp;&nbsp;&nbsp;&nbsp;&nbsp;&nbsp;&nbsp;&nbsp;&nbsp;&nbsp;&nbsp;&nbsp;&nbsp;&nbsp;&nbsp;&nbsp;&nbsp;&nbsp;&nbsp;{'positives':&nbsp;7,<br>&nbsp;&nbsp;&nbsp;&nbsp;&nbsp;&nbsp;&nbsp;&nbsp;&nbsp;&nbsp;&nbsp;&nbsp;&nbsp;&nbsp;&nbsp;&nbsp;&nbsp;&nbsp;&nbsp;&nbsp;'scan_date':&nbsp;'2020-08-25&nbsp;14:52:00',<br>&nbsp;&nbsp;&nbsp;&nbsp;&nbsp;&nbsp;&nbsp;&nbsp;&nbsp;&nbsp;&nbsp;&nbsp;&nbsp;&nbsp;&nbsp;&nbsp;&nbsp;&nbsp;&nbsp;&nbsp;'total':&nbsp;79,<br>&nbsp;&nbsp;&nbsp;&nbsp;&nbsp;&nbsp;&nbsp;&nbsp;&nbsp;&nbsp;&nbsp;&nbsp;&nbsp;&nbsp;&nbsp;&nbsp;&nbsp;&nbsp;&nbsp;&nbsp;'url':&nbsp;'http://dockerupdate.anondns.net:443/sugarcrm/themes/default/images/portjoe.jpg'},<br>&nbsp;&nbsp;&nbsp;&nbsp;&nbsp;&nbsp;&nbsp;&nbsp;&nbsp;&nbsp;&nbsp;&nbsp;&nbsp;&nbsp;&nbsp;&nbsp;&nbsp;&nbsp;&nbsp;{'positives':&nbsp;7,<br>&nbsp;&nbsp;&nbsp;&nbsp;&nbsp;&nbsp;&nbsp;&nbsp;&nbsp;&nbsp;&nbsp;&nbsp;&nbsp;&nbsp;&nbsp;&nbsp;&nbsp;&nbsp;&nbsp;&nbsp;'scan_date':&nbsp;'2020-08-25&nbsp;07:02:55',<br>&nbsp;&nbsp;&nbsp;&nbsp;&nbsp;&nbsp;&nbsp;&nbsp;&nbsp;&nbsp;&nbsp;&nbsp;&nbsp;&nbsp;&nbsp;&nbsp;&nbsp;&nbsp;&nbsp;&nbsp;'total':&nbsp;79,<br>&nbsp;&nbsp;&nbsp;&nbsp;&nbsp;&nbsp;&nbsp;&nbsp;&nbsp;&nbsp;&nbsp;&nbsp;&nbsp;&nbsp;&nbsp;&nbsp;&nbsp;&nbsp;&nbsp;&nbsp;'url':&nbsp;'http://dockerupdate.anondns.net:443/sugarcrm/themes/default/images'},<br>&nbsp;&nbsp;&nbsp;&nbsp;&nbsp;&nbsp;&nbsp;&nbsp;&nbsp;&nbsp;&nbsp;&nbsp;&nbsp;&nbsp;&nbsp;&nbsp;&nbsp;&nbsp;&nbsp;{'positives':&nbsp;4,<br>&nbsp;&nbsp;&nbsp;&nbsp;&nbsp;&nbsp;&nbsp;&nbsp;&nbsp;&nbsp;&nbsp;&nbsp;&nbsp;&nbsp;&nbsp;&nbsp;&nbsp;&nbsp;&nbsp;&nbsp;'scan_date':&nbsp;'2020-08-24&nbsp;07:34:44',<br>&nbsp;&nbsp;&nbsp;&nbsp;&nbsp;&nbsp;&nbsp;&nbsp;&nbsp;&nbsp;&nbsp;&nbsp;&nbsp;&nbsp;&nbsp;&nbsp;&nbsp;&nbsp;&nbsp;&nbsp;'total':&nbsp;79,<br>&nbsp;&nbsp;&nbsp;&nbsp;&nbsp;&nbsp;&nbsp;&nbsp;&nbsp;&nbsp;&nbsp;&nbsp;&nbsp;&nbsp;&nbsp;&nbsp;&nbsp;&nbsp;&nbsp;&nbsp;'url':&nbsp;'http://dockerupdate.anondns.net:443/sugarcrm/themes/default/images/01.jpg'}],<br>&nbsp;'resolutions':&nbsp;[{'hostname':&nbsp;'dockerupdate.anondns.net',<br>&nbsp;&nbsp;&nbsp;&nbsp;&nbsp;&nbsp;&nbsp;&nbsp;&nbsp;&nbsp;&nbsp;&nbsp;&nbsp;&nbsp;&nbsp;&nbsp;&nbsp;&nbsp;'last_resolved':&nbsp;'2020-08-14&nbsp;18:56:08'},<br>&nbsp;&nbsp;&nbsp;&nbsp;&nbsp;&nbsp;&nbsp;&nbsp;&nbsp;&nbsp;&nbsp;&nbsp;&nbsp;&nbsp;&nbsp;&nbsp;&nbsp;{'hostname':&nbsp;'h2381205.stratoserver.net',<br>&nbsp;&nbsp;&nbsp;&nbsp;&nbsp;&nbsp;&nbsp;&nbsp;&nbsp;&nbsp;&nbsp;&nbsp;&nbsp;&nbsp;&nbsp;&nbsp;&nbsp;&nbsp;'last_resolved':&nbsp;'2020-08-06&nbsp;12:19:57'}],<br>&nbsp;'response_code':&nbsp;1,<br>&nbsp;'undetected_communicating_samples':&nbsp;[{'date':&nbsp;'2021-06-24&nbsp;10:15:37',<br>&nbsp;&nbsp;&nbsp;&nbsp;&nbsp;&nbsp;&nbsp;&nbsp;&nbsp;&nbsp;&nbsp;&nbsp;&nbsp;&nbsp;&nbsp;&nbsp;&nbsp;&nbsp;&nbsp;&nbsp;&nbsp;&nbsp;&nbsp;&nbsp;&nbsp;&nbsp;&nbsp;&nbsp;&nbsp;&nbsp;&nbsp;&nbsp;&nbsp;&nbsp;&nbsp;&nbsp;&nbsp;&nbsp;&nbsp;'positives':&nbsp;0,<br>&nbsp;&nbsp;&nbsp;&nbsp;&nbsp;&nbsp;&nbsp;&nbsp;&nbsp;&nbsp;&nbsp;&nbsp;&nbsp;&nbsp;&nbsp;&nbsp;&nbsp;&nbsp;&nbsp;&nbsp;&nbsp;&nbsp;&nbsp;&nbsp;&nbsp;&nbsp;&nbsp;&nbsp;&nbsp;&nbsp;&nbsp;&nbsp;&nbsp;&nbsp;&nbsp;&nbsp;&nbsp;&nbsp;&nbsp;'sha256':&nbsp;'7149b53e4a3f9de2a7d47190af64f8b609618ed09f8440a64175049a90336775',<br>&nbsp;&nbsp;&nbsp;&nbsp;&nbsp;&nbsp;&nbsp;&nbsp;&nbsp;&nbsp;&nbsp;&nbsp;&nbsp;&nbsp;&nbsp;&nbsp;&nbsp;&nbsp;&nbsp;&nbsp;&nbsp;&nbsp;&nbsp;&nbsp;&nbsp;&nbsp;&nbsp;&nbsp;&nbsp;&nbsp;&nbsp;&nbsp;&nbsp;&nbsp;&nbsp;&nbsp;&nbsp;&nbsp;&nbsp;'total':&nbsp;75},<br>&nbsp;&nbsp;&nbsp;&nbsp;&nbsp;&nbsp;&nbsp;&nbsp;&nbsp;&nbsp;&nbsp;&nbsp;&nbsp;&nbsp;&nbsp;&nbsp;&nbsp;&nbsp;&nbsp;&nbsp;&nbsp;&nbsp;&nbsp;&nbsp;&nbsp;&nbsp;&nbsp;&nbsp;&nbsp;&nbsp;&nbsp;&nbsp;&nbsp;&nbsp;&nbsp;&nbsp;&nbsp;&nbsp;{'date':&nbsp;'2021-06-09&nbsp;10:51:49',<br>&nbsp;&nbsp;&nbsp;&nbsp;&nbsp;&nbsp;&nbsp;&nbsp;&nbsp;&nbsp;&nbsp;&nbsp;&nbsp;&nbsp;&nbsp;&nbsp;&nbsp;&nbsp;&nbsp;&nbsp;&nbsp;&nbsp;&nbsp;&nbsp;&nbsp;&nbsp;&nbsp;&nbsp;&nbsp;&nbsp;&nbsp;&nbsp;&nbsp;&nbsp;&nbsp;&nbsp;&nbsp;&nbsp;&nbsp;'positives':&nbsp;0,<br>&nbsp;&nbsp;&nbsp;&nbsp;&nbsp;&nbsp;&nbsp;&nbsp;&nbsp;&nbsp;&nbsp;&nbsp;&nbsp;&nbsp;&nbsp;&nbsp;&nbsp;&nbsp;&nbsp;&nbsp;&nbsp;&nbsp;&nbsp;&nbsp;&nbsp;&nbsp;&nbsp;&nbsp;&nbsp;&nbsp;&nbsp;&nbsp;&nbsp;&nbsp;&nbsp;&nbsp;&nbsp;&nbsp;&nbsp;'sha256':&nbsp;'45cc4f38340bf1d4bb0010114ccf03112d14dee7815aa797d20854605fdca2d2',<br>&nbsp;&nbsp;&nbsp;&nbsp;&nbsp;&nbsp;&nbsp;&nbsp;&nbsp;&nbsp;&nbsp;&nbsp;&nbsp;&nbsp;&nbsp;&nbsp;&nbsp;&nbsp;&nbsp;&nbsp;&nbsp;&nbsp;&nbsp;&nbsp;&nbsp;&nbsp;&nbsp;&nbsp;&nbsp;&nbsp;&nbsp;&nbsp;&nbsp;&nbsp;&nbsp;&nbsp;&nbsp;&nbsp;&nbsp;'total':&nbsp;74},<br>&nbsp;&nbsp;&nbsp;&nbsp;&nbsp;&nbsp;&nbsp;&nbsp;&nbsp;&nbsp;&nbsp;&nbsp;&nbsp;&nbsp;&nbsp;&nbsp;&nbsp;&nbsp;&nbsp;&nbsp;&nbsp;&nbsp;&nbsp;&nbsp;&nbsp;&nbsp;&nbsp;&nbsp;&nbsp;&nbsp;&nbsp;&nbsp;&nbsp;&nbsp;&nbsp;&nbsp;&nbsp;&nbsp;{'date':&nbsp;'2021-06-12&nbsp;19:00:20',<br>&nbsp;&nbsp;&nbsp;&nbsp;&nbsp;&nbsp;&nbsp;&nbsp;&nbsp;&nbsp;&nbsp;&nbsp;&nbsp;&nbsp;&nbsp;&nbsp;&nbsp;&nbsp;&nbsp;&nbsp;&nbsp;&nbsp;&nbsp;&nbsp;&nbsp;&nbsp;&nbsp;&nbsp;&nbsp;&nbsp;&nbsp;&nbsp;&nbsp;&nbsp;&nbsp;&nbsp;&nbsp;&nbsp;&nbsp;'positives':&nbsp;0,<br>&nbsp;&nbsp;&nbsp;&nbsp;&nbsp;&nbsp;&nbsp;&nbsp;&nbsp;&nbsp;&nbsp;&nbsp;&nbsp;&nbsp;&nbsp;&nbsp;&nbsp;&nbsp;&nbsp;&nbsp;&nbsp;&nbsp;&nbsp;&nbsp;&nbsp;&nbsp;&nbsp;&nbsp;&nbsp;&nbsp;&nbsp;&nbsp;&nbsp;&nbsp;&nbsp;&nbsp;&nbsp;&nbsp;&nbsp;'sha256':&nbsp;'020531aef7e069ee6e384f2fe9c49db9d99292d559c72da95276c2788b17d386',<br>&nbsp;&nbsp;&nbsp;&nbsp;&nbsp;&nbsp;&nbsp;&nbsp;&nbsp;&nbsp;&nbsp;&nbsp;&nbsp;&nbsp;&nbsp;&nbsp;&nbsp;&nbsp;&nbsp;&nbsp;&nbsp;&nbsp;&nbsp;&nbsp;&nbsp;&nbsp;&nbsp;&nbsp;&nbsp;&nbsp;&nbsp;&nbsp;&nbsp;&nbsp;&nbsp;&nbsp;&nbsp;&nbsp;&nbsp;'total':&nbsp;74},<br>&nbsp;&nbsp;&nbsp;&nbsp;&nbsp;&nbsp;&nbsp;&nbsp;&nbsp;&nbsp;&nbsp;&nbsp;&nbsp;&nbsp;&nbsp;&nbsp;&nbsp;&nbsp;&nbsp;&nbsp;&nbsp;&nbsp;&nbsp;&nbsp;&nbsp;&nbsp;&nbsp;&nbsp;&nbsp;&nbsp;&nbsp;&nbsp;&nbsp;&nbsp;&nbsp;&nbsp;&nbsp;&nbsp;{'date':&nbsp;'2020-12-10&nbsp;15:39:02',<br>&nbsp;&nbsp;&nbsp;&nbsp;&nbsp;&nbsp;&nbsp;&nbsp;&nbsp;&nbsp;&nbsp;&nbsp;&nbsp;&nbsp;&nbsp;&nbsp;&nbsp;&nbsp;&nbsp;&nbsp;&nbsp;&nbsp;&nbsp;&nbsp;&nbsp;&nbsp;&nbsp;&nbsp;&nbsp;&nbsp;&nbsp;&nbsp;&nbsp;&nbsp;&nbsp;&nbsp;&nbsp;&nbsp;&nbsp;'positives':&nbsp;0,<br>&nbsp;&nbsp;&nbsp;&nbsp;&nbsp;&nbsp;&nbsp;&nbsp;&nbsp;&nbsp;&nbsp;&nbsp;&nbsp;&nbsp;&nbsp;&nbsp;&nbsp;&nbsp;&nbsp;&nbsp;&nbsp;&nbsp;&nbsp;&nbsp;&nbsp;&nbsp;&nbsp;&nbsp;&nbsp;&nbsp;&nbsp;&nbsp;&nbsp;&nbsp;&nbsp;&nbsp;&nbsp;&nbsp;&nbsp;'sha256':&nbsp;'d9c46904d5bb808f2f0c28e819a31703f5155c4df66c4c4669f5d9e81f25dc66',<br>&nbsp;&nbsp;&nbsp;&nbsp;&nbsp;&nbsp;&nbsp;&nbsp;&nbsp;&nbsp;&nbsp;&nbsp;&nbsp;&nbsp;&nbsp;&nbsp;&nbsp;&nbsp;&nbsp;&nbsp;&nbsp;&nbsp;&nbsp;&nbsp;&nbsp;&nbsp;&nbsp;&nbsp;&nbsp;&nbsp;&nbsp;&nbsp;&nbsp;&nbsp;&nbsp;&nbsp;&nbsp;&nbsp;&nbsp;'total':&nbsp;75},<br>&nbsp;&nbsp;&nbsp;&nbsp;&nbsp;&nbsp;&nbsp;&nbsp;&nbsp;&nbsp;&nbsp;&nbsp;&nbsp;&nbsp;&nbsp;&nbsp;&nbsp;&nbsp;&nbsp;&nbsp;&nbsp;&nbsp;&nbsp;&nbsp;&nbsp;&nbsp;&nbsp;&nbsp;&nbsp;&nbsp;&nbsp;&nbsp;&nbsp;&nbsp;&nbsp;&nbsp;&nbsp;&nbsp;{'date':&nbsp;'2020-08-28&nbsp;07:36:29',<br>&nbsp;&nbsp;&nbsp;&nbsp;&nbsp;&nbsp;&nbsp;&nbsp;&nbsp;&nbsp;&nbsp;&nbsp;&nbsp;&nbsp;&nbsp;&nbsp;&nbsp;&nbsp;&nbsp;&nbsp;&nbsp;&nbsp;&nbsp;&nbsp;&nbsp;&nbsp;&nbsp;&nbsp;&nbsp;&nbsp;&nbsp;&nbsp;&nbsp;&nbsp;&nbsp;&nbsp;&nbsp;&nbsp;&nbsp;'positives':&nbsp;0,<br>&nbsp;&nbsp;&nbsp;&nbsp;&nbsp;&nbsp;&nbsp;&nbsp;&nbsp;&nbsp;&nbsp;&nbsp;&nbsp;&nbsp;&nbsp;&nbsp;&nbsp;&nbsp;&nbsp;&nbsp;&nbsp;&nbsp;&nbsp;&nbsp;&nbsp;&nbsp;&nbsp;&nbsp;&nbsp;&nbsp;&nbsp;&nbsp;&nbsp;&nbsp;&nbsp;&nbsp;&nbsp;&nbsp;&nbsp;'sha256':&nbsp;'d333c3cfb8b9ad1da5ee50f96a55dfbe70196f05fd88b5f04e925e32305cfff8',<br>&nbsp;&nbsp;&nbsp;&nbsp;&nbsp;&nbsp;&nbsp;&nbsp;&nbsp;&nbsp;&nbsp;&nbsp;&nbsp;&nbsp;&nbsp;&nbsp;&nbsp;&nbsp;&nbsp;&nbsp;&nbsp;&nbsp;&nbsp;&nbsp;&nbsp;&nbsp;&nbsp;&nbsp;&nbsp;&nbsp;&nbsp;&nbsp;&nbsp;&nbsp;&nbsp;&nbsp;&nbsp;&nbsp;&nbsp;'total':&nbsp;73},<br>&nbsp;&nbsp;&nbsp;&nbsp;&nbsp;&nbsp;&nbsp;&nbsp;&nbsp;&nbsp;&nbsp;&nbsp;&nbsp;&nbsp;&nbsp;&nbsp;&nbsp;&nbsp;&nbsp;&nbsp;&nbsp;&nbsp;&nbsp;&nbsp;&nbsp;&nbsp;&nbsp;&nbsp;&nbsp;&nbsp;&nbsp;&nbsp;&nbsp;&nbsp;&nbsp;&nbsp;&nbsp;&nbsp;{'date':&nbsp;'2020-08-28&nbsp;07:40:32',<br>&nbsp;&nbsp;&nbsp;&nbsp;&nbsp;&nbsp;&nbsp;&nbsp;&nbsp;&nbsp;&nbsp;&nbsp;&nbsp;&nbsp;&nbsp;&nbsp;&nbsp;&nbsp;&nbsp;&nbsp;&nbsp;&nbsp;&nbsp;&nbsp;&nbsp;&nbsp;&nbsp;&nbsp;&nbsp;&nbsp;&nbsp;&nbsp;&nbsp;&nbsp;&nbsp;&nbsp;&nbsp;&nbsp;&nbsp;'positives':&nbsp;0,<br>&nbsp;&nbsp;&nbsp;&nbsp;&nbsp;&nbsp;&nbsp;&nbsp;&nbsp;&nbsp;&nbsp;&nbsp;&nbsp;&nbsp;&nbsp;&nbsp;&nbsp;&nbsp;&nbsp;&nbsp;&nbsp;&nbsp;&nbsp;&nbsp;&nbsp;&nbsp;&nbsp;&nbsp;&nbsp;&nbsp;&nbsp;&nbsp;&nbsp;&nbsp;&nbsp;&nbsp;&nbsp;&nbsp;&nbsp;'sha256':&nbsp;'18c178fb224ec17718e5f70a92041e721d9e380e70063cc4bfe3f61d6feb72d9',<br>&nbsp;&nbsp;&nbsp;&nbsp;&nbsp;&nbsp;&nbsp;&nbsp;&nbsp;&nbsp;&nbsp;&nbsp;&nbsp;&nbsp;&nbsp;&nbsp;&nbsp;&nbsp;&nbsp;&nbsp;&nbsp;&nbsp;&nbsp;&nbsp;&nbsp;&nbsp;&nbsp;&nbsp;&nbsp;&nbsp;&nbsp;&nbsp;&nbsp;&nbsp;&nbsp;&nbsp;&nbsp;&nbsp;&nbsp;'total':&nbsp;73},<br>&nbsp;&nbsp;&nbsp;&nbsp;&nbsp;&nbsp;&nbsp;&nbsp;&nbsp;&nbsp;&nbsp;&nbsp;&nbsp;&nbsp;&nbsp;&nbsp;&nbsp;&nbsp;&nbsp;&nbsp;&nbsp;&nbsp;&nbsp;&nbsp;&nbsp;&nbsp;&nbsp;&nbsp;&nbsp;&nbsp;&nbsp;&nbsp;&nbsp;&nbsp;&nbsp;&nbsp;&nbsp;&nbsp;{'date':&nbsp;'2020-08-28&nbsp;07:35:10',<br>&nbsp;&nbsp;&nbsp;&nbsp;&nbsp;&nbsp;&nbsp;&nbsp;&nbsp;&nbsp;&nbsp;&nbsp;&nbsp;&nbsp;&nbsp;&nbsp;&nbsp;&nbsp;&nbsp;&nbsp;&nbsp;&nbsp;&nbsp;&nbsp;&nbsp;&nbsp;&nbsp;&nbsp;&nbsp;&nbsp;&nbsp;&nbsp;&nbsp;&nbsp;&nbsp;&nbsp;&nbsp;&nbsp;&nbsp;'positives':&nbsp;0,<br>&nbsp;&nbsp;&nbsp;&nbsp;&nbsp;&nbsp;&nbsp;&nbsp;&nbsp;&nbsp;&nbsp;&nbsp;&nbsp;&nbsp;&nbsp;&nbsp;&nbsp;&nbsp;&nbsp;&nbsp;&nbsp;&nbsp;&nbsp;&nbsp;&nbsp;&nbsp;&nbsp;&nbsp;&nbsp;&nbsp;&nbsp;&nbsp;&nbsp;&nbsp;&nbsp;&nbsp;&nbsp;&nbsp;&nbsp;'sha256':&nbsp;'a5d14bb053b03e81e58101516c782360fe64d6469852c6aa06fc47c08b30b127',<br>&nbsp;&nbsp;&nbsp;&nbsp;&nbsp;&nbsp;&nbsp;&nbsp;&nbsp;&nbsp;&nbsp;&nbsp;&nbsp;&nbsp;&nbsp;&nbsp;&nbsp;&nbsp;&nbsp;&nbsp;&nbsp;&nbsp;&nbsp;&nbsp;&nbsp;&nbsp;&nbsp;&nbsp;&nbsp;&nbsp;&nbsp;&nbsp;&nbsp;&nbsp;&nbsp;&nbsp;&nbsp;&nbsp;&nbsp;'total':&nbsp;73},<br>&nbsp;&nbsp;&nbsp;&nbsp;&nbsp;&nbsp;&nbsp;&nbsp;&nbsp;&nbsp;&nbsp;&nbsp;&nbsp;&nbsp;&nbsp;&nbsp;&nbsp;&nbsp;&nbsp;&nbsp;&nbsp;&nbsp;&nbsp;&nbsp;&nbsp;&nbsp;&nbsp;&nbsp;&nbsp;&nbsp;&nbsp;&nbsp;&nbsp;&nbsp;&nbsp;&nbsp;&nbsp;&nbsp;{'date':&nbsp;'2020-08-26&nbsp;22:30:40',<br>&nbsp;&nbsp;&nbsp;&nbsp;&nbsp;&nbsp;&nbsp;&nbsp;&nbsp;&nbsp;&nbsp;&nbsp;&nbsp;&nbsp;&nbsp;&nbsp;&nbsp;&nbsp;&nbsp;&nbsp;&nbsp;&nbsp;&nbsp;&nbsp;&nbsp;&nbsp;&nbsp;&nbsp;&nbsp;&nbsp;&nbsp;&nbsp;&nbsp;&nbsp;&nbsp;&nbsp;&nbsp;&nbsp;&nbsp;'positives':&nbsp;0,<br>&nbsp;&nbsp;&nbsp;&nbsp;&nbsp;&nbsp;&nbsp;&nbsp;&nbsp;&nbsp;&nbsp;&nbsp;&nbsp;&nbsp;&nbsp;&nbsp;&nbsp;&nbsp;&nbsp;&nbsp;&nbsp;&nbsp;&nbsp;&nbsp;&nbsp;&nbsp;&nbsp;&nbsp;&nbsp;&nbsp;&nbsp;&nbsp;&nbsp;&nbsp;&nbsp;&nbsp;&nbsp;&nbsp;&nbsp;'sha256':&nbsp;'ba16f24e6294e8da28782c1d8e00189950dd4cbbb061ef13d1a4d84305651768',<br>&nbsp;&nbsp;&nbsp;&nbsp;&nbsp;&nbsp;&nbsp;&nbsp;&nbsp;&nbsp;&nbsp;&nbsp;&nbsp;&nbsp;&nbsp;&nbsp;&nbsp;&nbsp;&nbsp;&nbsp;&nbsp;&nbsp;&nbsp;&nbsp;&nbsp;&nbsp;&nbsp;&nbsp;&nbsp;&nbsp;&nbsp;&nbsp;&nbsp;&nbsp;&nbsp;&nbsp;&nbsp;&nbsp;&nbsp;'total':&nbsp;73},<br>&nbsp;&nbsp;&nbsp;&nbsp;&nbsp;&nbsp;&nbsp;&nbsp;&nbsp;&nbsp;&nbsp;&nbsp;&nbsp;&nbsp;&nbsp;&nbsp;&nbsp;&nbsp;&nbsp;&nbsp;&nbsp;&nbsp;&nbsp;&nbsp;&nbsp;&nbsp;&nbsp;&nbsp;&nbsp;&nbsp;&nbsp;&nbsp;&nbsp;&nbsp;&nbsp;&nbsp;&nbsp;&nbsp;{'date':&nbsp;'2020-08-26&nbsp;14:29:14',<br>&nbsp;&nbsp;&nbsp;&nbsp;&nbsp;&nbsp;&nbsp;&nbsp;&nbsp;&nbsp;&nbsp;&nbsp;&nbsp;&nbsp;&nbsp;&nbsp;&nbsp;&nbsp;&nbsp;&nbsp;&nbsp;&nbsp;&nbsp;&nbsp;&nbsp;&nbsp;&nbsp;&nbsp;&nbsp;&nbsp;&nbsp;&nbsp;&nbsp;&nbsp;&nbsp;&nbsp;&nbsp;&nbsp;&nbsp;'positives':&nbsp;0,<br>&nbsp;&nbsp;&nbsp;&nbsp;&nbsp;&nbsp;&nbsp;&nbsp;&nbsp;&nbsp;&nbsp;&nbsp;&nbsp;&nbsp;&nbsp;&nbsp;&nbsp;&nbsp;&nbsp;&nbsp;&nbsp;&nbsp;&nbsp;&nbsp;&nbsp;&nbsp;&nbsp;&nbsp;&nbsp;&nbsp;&nbsp;&nbsp;&nbsp;&nbsp;&nbsp;&nbsp;&nbsp;&nbsp;&nbsp;'sha256':&nbsp;'1861eee8333dadcfe0d0dc10461f5f82fada8e42db9aa9efba6f258182e9c546',<br>&nbsp;&nbsp;&nbsp;&nbsp;&nbsp;&nbsp;&nbsp;&nbsp;&nbsp;&nbsp;&nbsp;&nbsp;&nbsp;&nbsp;&nbsp;&nbsp;&nbsp;&nbsp;&nbsp;&nbsp;&nbsp;&nbsp;&nbsp;&nbsp;&nbsp;&nbsp;&nbsp;&nbsp;&nbsp;&nbsp;&nbsp;&nbsp;&nbsp;&nbsp;&nbsp;&nbsp;&nbsp;&nbsp;&nbsp;'total':&nbsp;73},<br>&nbsp;&nbsp;&nbsp;&nbsp;&nbsp;&nbsp;&nbsp;&nbsp;&nbsp;&nbsp;&nbsp;&nbsp;&nbsp;&nbsp;&nbsp;&nbsp;&nbsp;&nbsp;&nbsp;&nbsp;&nbsp;&nbsp;&nbsp;&nbsp;&nbsp;&nbsp;&nbsp;&nbsp;&nbsp;&nbsp;&nbsp;&nbsp;&nbsp;&nbsp;&nbsp;&nbsp;&nbsp;&nbsp;{'date':&nbsp;'2020-08-24&nbsp;07:12:27',<br>&nbsp;&nbsp;&nbsp;&nbsp;&nbsp;&nbsp;&nbsp;&nbsp;&nbsp;&nbsp;&nbsp;&nbsp;&nbsp;&nbsp;&nbsp;&nbsp;&nbsp;&nbsp;&nbsp;&nbsp;&nbsp;&nbsp;&nbsp;&nbsp;&nbsp;&nbsp;&nbsp;&nbsp;&nbsp;&nbsp;&nbsp;&nbsp;&nbsp;&nbsp;&nbsp;&nbsp;&nbsp;&nbsp;&nbsp;'positives':&nbsp;0,<br>&nbsp;&nbsp;&nbsp;&nbsp;&nbsp;&nbsp;&nbsp;&nbsp;&nbsp;&nbsp;&nbsp;&nbsp;&nbsp;&nbsp;&nbsp;&nbsp;&nbsp;&nbsp;&nbsp;&nbsp;&nbsp;&nbsp;&nbsp;&nbsp;&nbsp;&nbsp;&nbsp;&nbsp;&nbsp;&nbsp;&nbsp;&nbsp;&nbsp;&nbsp;&nbsp;&nbsp;&nbsp;&nbsp;&nbsp;'sha256':&nbsp;'b485e6ccc9cfeb9c2034cebfeaf1bb3b3db0ac9996e5260fc1e95ce852b757c4',<br>&nbsp;&nbsp;&nbsp;&nbsp;&nbsp;&nbsp;&nbsp;&nbsp;&nbsp;&nbsp;&nbsp;&nbsp;&nbsp;&nbsp;&nbsp;&nbsp;&nbsp;&nbsp;&nbsp;&nbsp;&nbsp;&nbsp;&nbsp;&nbsp;&nbsp;&nbsp;&nbsp;&nbsp;&nbsp;&nbsp;&nbsp;&nbsp;&nbsp;&nbsp;&nbsp;&nbsp;&nbsp;&nbsp;&nbsp;'total':&nbsp;73}],<br>&nbsp;'undetected_downloaded_samples':&nbsp;[{'date':&nbsp;'2020-09-09&nbsp;11:44:35',<br>&nbsp;&nbsp;&nbsp;&nbsp;&nbsp;&nbsp;&nbsp;&nbsp;&nbsp;&nbsp;&nbsp;&nbsp;&nbsp;&nbsp;&nbsp;&nbsp;&nbsp;&nbsp;&nbsp;&nbsp;&nbsp;&nbsp;&nbsp;&nbsp;&nbsp;&nbsp;&nbsp;&nbsp;&nbsp;&nbsp;&nbsp;&nbsp;&nbsp;&nbsp;&nbsp;&nbsp;'positives':&nbsp;0,<br>&nbsp;&nbsp;&nbsp;&nbsp;&nbsp;&nbsp;&nbsp;&nbsp;&nbsp;&nbsp;&nbsp;&nbsp;&nbsp;&nbsp;&nbsp;&nbsp;&nbsp;&nbsp;&nbsp;&nbsp;&nbsp;&nbsp;&nbsp;&nbsp;&nbsp;&nbsp;&nbsp;&nbsp;&nbsp;&nbsp;&nbsp;&nbsp;&nbsp;&nbsp;&nbsp;&nbsp;'sha256':&nbsp;'e8812c8ff47b0542c7ee4d6bdff5bfbfd488a8e363d884074089c54b6ffc9789',<br>&nbsp;&nbsp;&nbsp;&nbsp;&nbsp;&nbsp;&nbsp;&nbsp;&nbsp;&nbsp;&nbsp;&nbsp;&nbsp;&nbsp;&nbsp;&nbsp;&nbsp;&nbsp;&nbsp;&nbsp;&nbsp;&nbsp;&nbsp;&nbsp;&nbsp;&nbsp;&nbsp;&nbsp;&nbsp;&nbsp;&nbsp;&nbsp;&nbsp;&nbsp;&nbsp;&nbsp;'total':&nbsp;73},<br>&nbsp;&nbsp;&nbsp;&nbsp;&nbsp;&nbsp;&nbsp;&nbsp;&nbsp;&nbsp;&nbsp;&nbsp;&nbsp;&nbsp;&nbsp;&nbsp;&nbsp;&nbsp;&nbsp;&nbsp;&nbsp;&nbsp;&nbsp;&nbsp;&nbsp;&nbsp;&nbsp;&nbsp;&nbsp;&nbsp;&nbsp;&nbsp;&nbsp;&nbsp;&nbsp;{'date':&nbsp;'2020-07-16&nbsp;04:03:02',<br>&nbsp;&nbsp;&nbsp;&nbsp;&nbsp;&nbsp;&nbsp;&nbsp;&nbsp;&nbsp;&nbsp;&nbsp;&nbsp;&nbsp;&nbsp;&nbsp;&nbsp;&nbsp;&nbsp;&nbsp;&nbsp;&nbsp;&nbsp;&nbsp;&nbsp;&nbsp;&nbsp;&nbsp;&nbsp;&nbsp;&nbsp;&nbsp;&nbsp;&nbsp;&nbsp;&nbsp;'positives':&nbsp;0,<br>&nbsp;&nbsp;&nbsp;&nbsp;&nbsp;&nbsp;&nbsp;&nbsp;&nbsp;&nbsp;&nbsp;&nbsp;&nbsp;&nbsp;&nbsp;&nbsp;&nbsp;&nbsp;&nbsp;&nbsp;&nbsp;&nbsp;&nbsp;&nbsp;&nbsp;&nbsp;&nbsp;&nbsp;&nbsp;&nbsp;&nbsp;&nbsp;&nbsp;&nbsp;&nbsp;&nbsp;'sha256':&nbsp;'1474298ed7a5c63ca8098794cd743a276807cca0e678e046160718626bb038f3',<br>&nbsp;&nbsp;&nbsp;&nbsp;&nbsp;&nbsp;&nbsp;&nbsp;&nbsp;&nbsp;&nbsp;&nbsp;&nbsp;&nbsp;&nbsp;&nbsp;&nbsp;&nbsp;&nbsp;&nbsp;&nbsp;&nbsp;&nbsp;&nbsp;&nbsp;&nbsp;&nbsp;&nbsp;&nbsp;&nbsp;&nbsp;&nbsp;&nbsp;&nbsp;&nbsp;&nbsp;'total':&nbsp;76}],<br>&nbsp;'undetected_referrer_samples':&nbsp;[],<br>&nbsp;'undetected_urls':&nbsp;[['http://h2381205.stratoserver.net/',<br>&nbsp;&nbsp;&nbsp;&nbsp;&nbsp;&nbsp;&nbsp;&nbsp;&nbsp;&nbsp;&nbsp;&nbsp;&nbsp;&nbsp;&nbsp;&nbsp;&nbsp;&nbsp;&nbsp;&nbsp;&nbsp;&nbsp;'011bcc2795245bb9fac15c54e0e189b0c6e2f24c42c57fec7cfc654a8bb95106',<br>&nbsp;&nbsp;&nbsp;&nbsp;&nbsp;&nbsp;&nbsp;&nbsp;&nbsp;&nbsp;&nbsp;&nbsp;&nbsp;&nbsp;&nbsp;&nbsp;&nbsp;&nbsp;&nbsp;&nbsp;&nbsp;&nbsp;0,<br>&nbsp;&nbsp;&nbsp;&nbsp;&nbsp;&nbsp;&nbsp;&nbsp;&nbsp;&nbsp;&nbsp;&nbsp;&nbsp;&nbsp;&nbsp;&nbsp;&nbsp;&nbsp;&nbsp;&nbsp;&nbsp;&nbsp;80,<br>&nbsp;&nbsp;&nbsp;&nbsp;&nbsp;&nbsp;&nbsp;&nbsp;&nbsp;&nbsp;&nbsp;&nbsp;&nbsp;&nbsp;&nbsp;&nbsp;&nbsp;&nbsp;&nbsp;&nbsp;&nbsp;&nbsp;'2020-11-02&nbsp;13:02:39'],<br>&nbsp;&nbsp;&nbsp;&nbsp;&nbsp;&nbsp;&nbsp;&nbsp;&nbsp;&nbsp;&nbsp;&nbsp;&nbsp;&nbsp;&nbsp;&nbsp;&nbsp;&nbsp;&nbsp;&nbsp;&nbsp;['http://85.214.149.236:443/sugarcrm/.../',<br>&nbsp;&nbsp;&nbsp;&nbsp;&nbsp;&nbsp;&nbsp;&nbsp;&nbsp;&nbsp;&nbsp;&nbsp;&nbsp;&nbsp;&nbsp;&nbsp;&nbsp;&nbsp;&nbsp;&nbsp;&nbsp;&nbsp;'9ffbd9455f6aa190b4270b0d8bfe2c863c6495b94b0f510169999135476e4ed4',<br>&nbsp;&nbsp;&nbsp;&nbsp;&nbsp;&nbsp;&nbsp;&nbsp;&nbsp;&nbsp;&nbsp;&nbsp;&nbsp;&nbsp;&nbsp;&nbsp;&nbsp;&nbsp;&nbsp;&nbsp;&nbsp;&nbsp;0,<br>&nbsp;&nbsp;&nbsp;&nbsp;&nbsp;&nbsp;&nbsp;&nbsp;&nbsp;&nbsp;&nbsp;&nbsp;&nbsp;&nbsp;&nbsp;&nbsp;&nbsp;&nbsp;&nbsp;&nbsp;&nbsp;&nbsp;79,<br>&nbsp;&nbsp;&nbsp;&nbsp;&nbsp;&nbsp;&nbsp;&nbsp;&nbsp;&nbsp;&nbsp;&nbsp;&nbsp;&nbsp;&nbsp;&nbsp;&nbsp;&nbsp;&nbsp;&nbsp;&nbsp;&nbsp;'2020-07-14&nbsp;10:52:05']],<br>&nbsp;'verbose_msg':&nbsp;'IP&nbsp;address&nbsp;in&nbsp;dataset'}</pre>\n        </details>\n        "
     },
     "metadata": {}
    }
   ],
   "source": [
    "# Create our TI provider\n",
    "ti = TILookup()\n",
    "\n",
    "# Lookup an IP Address\n",
    "ti_resp = ti.lookup_ioc(\"85.214.149.236\", providers=[\"VirusTotal\"])\n",
    "\n",
    "ti_df = ti.result_to_df(ti_resp)\n",
    "ti.browse_results(ti_df, severities=\"all\")"
   ]
  },
  {
   "cell_type": "markdown",
   "metadata": {},
   "source": [
    "## Geo-IP Lookup\r\n",
    "\r\n",
    "<div style=\"border: solid; padding: 5pt\"><b>Note:</b>\r\n",
    "You may see the GeoLite driver downloading its database the first time you run this.\r\n",
    "</div>\r\n",
    "<br>\r\n",
    "<details>\r\n",
    "    <summary>Learn more about MSTICPy GeoIP providers...</summary>\r\n",
    "    <p>\r\n",
    "    <a href=https://msticpy.readthedocs.io/en/latest/data_acquisition/GeoIPLookups.html >MSTICPy GeoIP Providers</a>\r\n",
    "    </p>\r\n",
    "</details>\r\n",
    "<br>\r\n"
   ]
  },
  {
   "cell_type": "code",
   "execution_count": 16,
   "metadata": {},
   "outputs": [
    {
     "output_type": "display_data",
     "data": {
      "text/plain": "<IPython.core.display.HTML object>",
      "text/html": "\nThis product includes GeoLite2 data created by MaxMind, available from\n<a href=\"https://www.maxmind.com\">https://www.maxmind.com</a>.\n"
     },
     "metadata": {}
    },
    {
     "output_type": "display_data",
     "data": {
      "text/plain": "IpAddress(Address=85.214.149.236, Location={ 'AdditionalData': {},\n  'CountryCode': 'DE',\n...)",
      "text/html": "<h3>ipaddress</h3>{&nbsp;'AdditionalData':&nbsp;{},<br>&nbsp;&nbsp;'Address':&nbsp;'85.214.149.236',<br>&nbsp;&nbsp;'Location':&nbsp;{&nbsp;'AdditionalData':&nbsp;{},<br>&nbsp;&nbsp;&nbsp;&nbsp;&nbsp;&nbsp;&nbsp;&nbsp;&nbsp;&nbsp;&nbsp;&nbsp;&nbsp;&nbsp;&nbsp;&nbsp;'CountryCode':&nbsp;'DE',<br>&nbsp;&nbsp;&nbsp;&nbsp;&nbsp;&nbsp;&nbsp;&nbsp;&nbsp;&nbsp;&nbsp;&nbsp;&nbsp;&nbsp;&nbsp;&nbsp;'CountryName':&nbsp;'Germany',<br>&nbsp;&nbsp;&nbsp;&nbsp;&nbsp;&nbsp;&nbsp;&nbsp;&nbsp;&nbsp;&nbsp;&nbsp;&nbsp;&nbsp;&nbsp;&nbsp;'Latitude':&nbsp;51.2993,<br>&nbsp;&nbsp;&nbsp;&nbsp;&nbsp;&nbsp;&nbsp;&nbsp;&nbsp;&nbsp;&nbsp;&nbsp;&nbsp;&nbsp;&nbsp;&nbsp;'Longitude':&nbsp;9.491,<br>&nbsp;&nbsp;&nbsp;&nbsp;&nbsp;&nbsp;&nbsp;&nbsp;&nbsp;&nbsp;&nbsp;&nbsp;&nbsp;&nbsp;&nbsp;&nbsp;'Type':&nbsp;'geolocation',<br>&nbsp;&nbsp;&nbsp;&nbsp;&nbsp;&nbsp;&nbsp;&nbsp;&nbsp;&nbsp;&nbsp;&nbsp;&nbsp;&nbsp;&nbsp;&nbsp;'edges':&nbsp;set()},<br>&nbsp;&nbsp;'ThreatIntelligence':&nbsp;[],<br>&nbsp;&nbsp;'Type':&nbsp;'ipaddress',<br>&nbsp;&nbsp;'edges':&nbsp;set()}"
     },
     "metadata": {}
    }
   ],
   "source": [
    "geo_ip = GeoLiteLookup()\n",
    "raw_res, ip_entity = geo_ip.lookup_ip(\"85.214.149.236\")\n",
    "display(ip_entity[0])"
   ]
  },
  {
   "cell_type": "markdown",
   "metadata": {},
   "source": []
  },
  {
   "cell_type": "markdown",
   "metadata": {},
   "source": [
    "---\r\n",
    "\r\n",
    "# Conclusion\r\n",
    "\r\n",
    "In this notebook, we've gone through the basics of installing MSTICPy and setting up configuration.\r\n",
    "We also briefly introduced:\r\n",
    "\r\n",
    "- QueryProviders and querying data from Azure Sentinel\r\n",
    "- Threat Intelligence lookups using VirusTotal\r\n",
    "- Geo-location lookups using MaxMind GeoLite2\r\n",
    "\r\n",
    "We encourage you to run through the **A Tour of Cybersec notebook features** notebook\r\n",
    "to get a better feel for some more of the capabilities of notebooks and MSTICPy.</br>\r\n",
    "\r\n",
    "This notebook includes:\r\n",
    "\r\n",
    "- more examples of queries\r\n",
    "- visualizing your data\r\n",
    "- brief introduction to using panda to manipulate your data.\r\n",
    "\r\n",
    "Also try out any of the notebooks in the [Azure Sentinel Notebooks GitHub repo](https://github.com/Azure/Azure-Sentinel-Notebooks)\r\n"
   ]
  },
  {
   "cell_type": "markdown",
   "metadata": {},
   "source": [
    "---\r\n",
    "\r\n",
    "# Futher resources\r\n",
    "\r\n",
    " - [Jupyter Notebooks: An Introduction](https://realpython.com/jupyter-notebook-introduction/)\r\n",
    " - [Threat Hunting in the cloud with Azure Notebooks](https://medium.com/@maarten.goet/threat-hunting-in-the-cloud-with-azure-notebooks-supercharge-your-hunting-skills-using-jupyter-8d69218e7ca0)\r\n",
    " - [MSTICPy documentation](https://msticpy.readthedocs.io/)\r\n",
    " - [Azure Sentinel Notebooks documentation](https://docs.microsoft.com/en-us/azure/sentinel/notebooks)\r\n",
    " - [The Infosec Jupyterbook](https://infosecjupyterbook.com/introduction.html)\r\n",
    " - [Linux Host Explorer Notebook walkthrough](https://techcommunity.microsoft.com/t5/azure-sentinel/explorer-notebook-series-the-linux-host-explorer/ba-p/1138273)\r\n",
    " - [Why use Jupyter for Security Investigations](https://techcommunity.microsoft.com/t5/azure-sentinel/why-use-jupyter-for-security-investigations/ba-p/475729)\r\n",
    " - [Security Investigtions with Azure Sentinel & Notebooks](https://techcommunity.microsoft.com/t5/azure-sentinel/security-investigation-with-azure-sentinel-and-jupyter-notebooks/ba-p/432921)\r\n",
    " - [Pandas Documentation](https://pandas.pydata.org/pandas-docs/stable/user_guide/index.html)\r\n",
    " - [Bokeh Documentation](https://docs.bokeh.org/en/latest/)"
   ]
  },
  {
   "cell_type": "markdown",
   "metadata": {},
   "source": [
    "# FAQs\r\n",
    "\r\n",
    "---\r\n",
    "\r\n",
    "## How can I download all Azure-Sentinel-Notebooks notebooks to my Azure ML workspace?\r\n",
    "\r\n",
    "You can use `git` to do this from a notebook.<br>\r\n",
    "Type the following into an empty cell and run it.\r\n",
    "\r\n",
    "```python\r\n",
    "!git clone https://github.com/Azure/Azure-Sentinel-Notebooks.git azure-sentinel-nb\r\n",
    "```\r\n",
    "\r\n",
    "This will create a copy of the GitHub repo contents in the \"azure-sentinel-nb\" folder\r\n",
    "of your user folder.\r\n",
    "\r\n",
    "Copy the notebooks that you want to use from this folder to your working directory. This will allow you to update the notebooks easily in the future.\r\n",
    "\r\n",
    "The command to update the notebooks from GitHub is\r\n",
    "\r\n",
    "```python\r\n",
    "!cd azure-sentinel-nb && git pull\r\n",
    "```\r\n"
   ]
  },
  {
   "cell_type": "markdown",
   "metadata": {},
   "source": [
    "---\r\n",
    "\r\n",
    "## Can I install MSTICPy by default on a new AML compute\r\n",
    "\r\n",
    "We have created an AML compute install script and put it in the HowTo folder\r\n",
    "on the Azure-Sentinel-Notebooks repo.\r\n",
    "The script is here:\r\n",
    "[aml-compute-setup.sh](https://github.com/Azure/Azure-Sentinel-Notebooks/master/HowTos/aml-compute-setup.sh)\r\n",
    "\r\n",
    "1. Download the script to your local computer.\r\n",
    "2. Add a new Compute instance\r\n",
    "\r\n",
    "<img src=\"https://github.com/Azure/Azure-Sentinel-Notebooks/raw/master/images/AML_compute_create.png\" height=\"300px\">\r\n",
    "\r\n",
    "3. In the **Advanced** section enable **Provision with setup script**\r\n",
    "   and browse to the location of the downloaded script.\r\n",
    "\r\n",
    "<img src=\"https://github.com/Azure/Azure-Sentinel-Notebooks/raw/master/images/AML_compute_script.png\" height=\"300px\">\r\n",
    "\r\n",
    "4. Click the create button to create the instance\r\n",
    "\r\n",
    "You can view a log of the custom installation in the `/tmp/aml-setup-msticpy.log` log.\r\n"
   ]
  },
  {
   "cell_type": "markdown",
   "metadata": {},
   "source": [
    "\r\n",
    "---\r\n",
    "\r\n",
    "## I see error \"Runtime dependency of PyGObject is missing\" when I load a query provider\r\n",
    "\r\n",
    "```python\r\n",
    "qry_prov = QueryProvider(\"AzureSentinel\")\r\n",
    "```\r\n",
    "\r\n",
    "Warning details\r\n",
    "\r\n",
    "```text\r\n",
    "Runtime dependency of PyGObject is missing.\r\n",
    "Depends on your Linux distro, you could install it system-wide by something like:\r\n",
    "    sudo apt install python3-gi python3-gi-cairo gir1.2-secret-1\r\n",
    "If necessary, please refer to PyGObject's doc:\r\n",
    "https://pygobject.readthedocs.io/en/latest/getting_started.html\r\n",
    "Traceback (most recent call last):\r\n",
    "  File \"/anaconda/envs/azureml_py36/lib/python3.6/site-packages/msal_extensions/libsecret.py\", line 21, in <module>\r\n",
    "    import gi  # https://github.com/AzureAD/microsoft-authentication-extensions-for-python/wiki/Encryption-on-Linux\r\n",
    "ModuleNotFoundError: No module named 'gi'\r\n",
    "```\r\n",
    "\r\n",
    "This is due to a missing Python dependency `pygobject`.\r\n",
    "If you created your compute instance using the script mentioned in the previous\r\n",
    "question, this automatically installs pygobject in all notebook/Anaconda environments\r\n",
    "on the compute.\r\n",
    "\r\n",
    "You can also fix this by running the following from a notebook:\r\n",
    "\r\n",
    "```python\r\n",
    "!conda install --yes -c conda-forge pygobject\r\n",
    "```\r\n"
   ]
  },
  {
   "cell_type": "markdown",
   "metadata": {},
   "source": [
    "---\n",
    "\n",
    "## MSTICPy and other packages do not install properly when switching between the Python 3.6 or 3.8 Kernels\n",
    "\n",
    "We've seen this happen intermittently. Using `!pip install pkg` will install correctly in one<br>\n",
    "environment but then does not install in the other. The package cannot be imported<br>\n",
    "and used in the second environment.\n",
    "\n",
    "Avoid using `!pip install...` to install packages in AML notebooks.\n",
    "Instead, use one of the following options:\n",
    "\n",
    "1. Use the %pip line magic within a notebook.\n",
    "\n",
    "```Python\n",
    "    %pip install --upgrade msticpy\n",
    "```\n",
    "\n",
    "2. Install from a terminal.<br>\n",
    "   Open a terminal in Azure ML notebooks and run the following commands:\n",
    "\n",
    "``` bash\n",
    "    conda activate azureml_py38\n",
    "    pip install --upgrade msticpy\n",
    "```\n",
    "\n",
    "Close the terminal and restart the kernel."
   ]
  },
  {
   "cell_type": "markdown",
   "metadata": {},
   "source": [
    "---\r\n",
    "\r\n",
    "## My user account/credentials do not get cached between notebook runs\r\n",
    "\r\n",
    "You can force caching of credentials for a session by authenticating using Azure CLI.\r\n",
    "\r\n",
    "In an empty cell type and execute the following:\r\n",
    "\r\n",
    "```python\r\n",
    "!az login\r\n",
    "```\r\n",
    "\r\n",
    "You should see the following prompt (in barely readable text if you are using the default light theme):\r\n",
    "\r\n",
    "```\r\n",
    "To sign in, use a web browser to open the page https://microsoft.com/devicelogin and enter the code AMEE5STGD to authenticate.\r\n",
    "```\r\n",
    "\r\n",
    "Select and copy the 9 character token and click on the devicelogin URL.\r\n",
    "Paste the token into the dialog at that page and proceed with the login as prompted.\r\n",
    "\r\n",
    "When login has successfully completed you should see the following output:\r\n",
    "\r\n",
    "```\r\n",
    "Subscription 74bd0f79-3e18-4be4-90c5-0c46007ab514 'Sample subscription' can be accessed from tenants 2a0b016c-36fa-4569-974e-37b05956597c(default) and 45775191-e432-4364-a1cd-b97da6816cb4. To select a specific tenant when accessing this subscription, use 'az login --tenant TENANT_ID'.\r\n",
    "The following tenants don't contain accessible subscriptions. Use 'az login --allow-no-subscriptions' to have tenant level access.\r\n",
    "e8f78f0f-3f2b-4342-a36c-7e91db929057 'foo'\r\n",
    "0aa0847b-6374-4acc-a76c-a09e92a84c56 'bar'\r\n",
    "[\r\n",
    "  {\r\n",
    "    \"cloudName\": \"AzureApp\",\r\n",
    "    \"homeTenantId\": \"2a0b016c-36fa-4569-974e-37b05956597c\",\r\n",
    "    \"id\": \"53b762ad-56f2-4c8f-b7e9-5eab95793ba5\",\r\n",
    "    \"isDefault\": true,\r\n",
    "    \"managedByTenants\": [\r\n",
    "    ....\r\n",
    "```\r\n"
   ]
  }
 ],
 "metadata": {
  "interpreter": {
   "hash": "b736adfe05d9ae282eea4c01a733d58a0215ef3399d39339e6557e4c515b0f48"
  },
  "kernelspec": {
   "display_name": "Python (condadev)",
   "language": "python",
   "name": "condadev"
  },
  "widgets": {
   "application/vnd.jupyter.widget-state+json": {
    "state": {},
    "version_major": 2,
    "version_minor": 0
   }
  }
 },
 "nbformat": 4,
 "nbformat_minor": 4
}