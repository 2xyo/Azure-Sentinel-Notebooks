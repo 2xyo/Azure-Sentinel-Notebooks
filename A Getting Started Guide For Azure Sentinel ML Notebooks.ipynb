{
 "cells": [
  {
   "cell_type": "markdown",
   "metadata": {},
   "source": [
    "# Getting Started with Azure ML Notebooks and Azure Sentinel\n",
    "**Notebook Version:** 1.0<br>\n",
    " **Python Version:** Python 3.6 (including Python 3.6 - AzureML)<br>\n",
    " **Required Packages**: <br>\n",
    " **Platforms Supported**:\n",
    " - Azure Notebooks Free Compute\n",
    " - Azure Notebooks DSVM\n",
    " - OS Independent\n",
    "\n",
    "**Data Sources Required**:\n",
    " - Log Analytics - SiginLogs (Optional)\n",
    " - VirusTotal\n",
    " - MaxMind\n",
    " \n",
    " \n",
    "This notebook takes you through the basics needed to get started with Azure Notebooks and Azure Sentinel, and how to perform the basic actions of data acquisition, data enrichment, data analysis, and data visualization. These actions are the building blocks of threat hunting with notebooks and are useful to understand before running more complex notebooks. This notebook only lightly covers each topic but includes 'learn more' sections to provide you with the resource to deep dive into each of these topics. \n",
    "\n",
    "This notebook assumes that you are running this in an Azure Notebooks environment, however it will work in other Jupyter environments.\n",
    "\n",
    "**Note:**\n",
    "This notebooks uses SigninLogs from your Azure Sentinel Workspace. If you are not yet collecting SigninLogs configure this connector in the Azure Sentinel portal before running this notebook.\n",
    "This notebook also uses the VirusTotal API for data enrichment, for this you will require an API key which can be obtained by signing up for a free [VirusTotal community account](https://www.virustotal.com/gui/join-us)\n"
   ]
  },
  {
   "cell_type": "markdown",
   "metadata": {},
   "source": [
    "---\n",
    "## What is a Jupyter notebook?\n",
    "You are currently reading a Jupyter notebook. [Jupyter](http://jupyter.org/) is an interactive development and data manipulation environment presented in a browser. Using Jupyter you can create documents, called Notebooks. These documents are made up of cells that contain interactive code, alongside that code's output, and other items such as text and images (what you are looking at now is a cell of Markdown text).\n",
    "\n",
    "The name, Jupyter, comes from the core supported programming languages that it supports: Julia, Python, and R. Whilst you can use any of these languages we are going to use Python in this notebook, in addition the notebooks that come with Azure Sentinel are all written in Python. Whilst there are pros, and cons to each language Python is a well-established language that has a large number of materials and libraries well suited for data analysis and security investigation, making it ideal for our needs.\n",
    "\n",
    "### Learn more:\n",
    " - The [Infosec Jupyter Book](https://infosecjupyterbook.com/introduction.html) has more details on the technical working of Jupyter.\n",
    " - [The Jupyter Project documentation](https://jupyter.org/documentation)\n",
    "\n",
    "---\n",
    "## How to use a Jupyter notebook?\n",
    "To use a Jupyter notebook you need a Jupyter server that will render the notebook and execute the code within it. This can take the form of a local [Jupyter installation](https://pypi.org/project/jupyter/), or a remotely hosted version such as [Azure Notebooks](https://notebooks.azure.com/). If you are reading this it is highly likely that you already have a Jupyter server that this notebook is using.\n",
    "You can learn more about installing and running your own Jupyter server [here](https://realpython.com/jupyter-notebook-introduction/).\n",
    "\n",
    "### Using Azure Notebooks\n",
    "If you accessed this notebook from Azure Sentinel,  you are probably using Azure Notebooks to run this notebook. Azure Notebooks runs in the same way that a local Jupyter server with, except with the additional feature of integrated project management and file storage. When you open a notebook in Azure Notebooks the user interface is nearly identical to a standard Jupyter notebook experience.\n",
    "\n",
    "Before you can start running code in a notebook you need to make sure that it is connected to a Jupyter server and you have the correct type of kernel configured. For this notebook we are going to be using Python 3.6, hopefully Azure Notebooks has already loaded this kernel for you - you can check this by looking at the top left corner of the screen where you should see the currently connected kernel. \n",
    "\n",
    "![KernelIssue](https://github.com/Azure/Azure-Sentinel-Notebooks/raw/master/images/nb_img1.png)\n",
    "\n",
    "If this does not read Python 3.6 you can select the correct kernel by selecting Kernel > Change kernel from the top menu and clicking Python 3.6.\n",
    "\n",
    "> **Note**: the notebook works with Python 3.6, 3.7 or later. If you are using this notebook in Azure ML or another Jupyter environment you can choose any kernel that supports Python 3.6 or later\n",
    "\n",
    "![KernelPicker](https://github.com/Azure/Azure-Sentinel-Notebooks/raw/master/images/nb_img2.png)\n",
    "\n",
    "Once you have done this you should be ready to move onto a code cell.\n",
    "> **Tip**: You can identify which cells are code by selecting them and looking at the drop down box at the center of the top menu. It will either read 'Code' (for interactive code cells), 'Markdown' (for Markdown text cells like this one), or RawNBConvert (these are just raw data and not interpreted by Jupyter - they can be used by tools that process notebook files, such as *nbconvert* to render the data into HTML or LaTeX). \n",
    "\n",
    "If you click on the cell below you should see this box change to 'Code'.\n",
    "\n",
    "### Learn More:\n",
    "More details on Azure Notebooks can be found in the [Azure Notebooks documentation](https://docs.microsoft.com/en-us/azure/notebooks/) and the [Azure Sentinel documentation](https://docs.microsoft.com/en-us/azure/sentinel/notebooks).\n",
    "\n",
    "---\n",
    "## Running code\n",
    "Once you have selected a code cell you can run it by clicking the run button at the menu bar at the top, or by pressing Ctrl+Enter.\n"
   ]
  },
  {
   "cell_type": "code",
   "execution_count": null,
   "metadata": {},
   "outputs": [],
   "source": [
    "# This is our first code cell, it contains basic Python code.\n",
    "# You can run a code cell by selecting it and clicking the Run button in the top menu, or by pressing Shift + Enter.\n",
    "# Once you run a code cell any output from that code will be displayed directly below it.\n",
    "print(\"Congratulations you just ran this code cell\")\n",
    "y = 2+2\n",
    "print(\"2 + 2 =\", y)"
   ]
  },
  {
   "cell_type": "markdown",
   "metadata": {},
   "source": [
    "Variables set within a code cell persist between cells meaning you can chain cells together"
   ]
  },
  {
   "cell_type": "code",
   "execution_count": null,
   "metadata": {},
   "outputs": [],
   "source": [
    "y + 2"
   ]
  },
  {
   "cell_type": "markdown",
   "metadata": {},
   "source": [
    "### Learn More : \n",
    " - The [Infosec Jupyter Book](https://infosecjupyterbook.com/) provides an infosec specific intro to Python.\n",
    " - [Real Python](https://realpython.com/) is a comprehensive set of Python learnings and tutorials.\n",
    "<br>\n",
    "<br>"
   ]
  },
  {
   "cell_type": "markdown",
   "metadata": {},
   "source": [
    "Now that you understand the basics we can move onto more complex code.\n",
    "\n",
    "---\n",
    "## Setting up the environment\n",
    "Code cells behave in the same way your code would in other environments, so you need to remember about common coding practices such as variable initialization and library imports. \n",
    "Before we execute more complex code we need to make sure the required packages are installed and libraries imported. At the top of many of the Azure Sentinel notebooks you will see large cells that will check kernel versions and then install and import all the libraries we are going to be using in the notebook, make sure you run this before running other cells in the notebook.\n",
    "If you are running notebooks locally or via dedicated compute in Azure Notebooks library installs will persist but this is not the case with Azure Notebooks free tier, so you will need to install each time you run. Even if running in a static environment imports are required for each run so make sure you run this cell regardless."
   ]
  },
  {
   "cell_type": "code",
   "execution_count": null,
   "metadata": {},
   "outputs": [],
   "source": [
    "from pathlib import Path\r\n",
    "from IPython.display import display, HTML\r\n",
    "\r\n",
    "REQ_PYTHON_VER=(3, 6)\r\n",
    "REQ_MSTICPY_VER=(1, 0, 0)\r\n",
    "REQ_MP_EXTRAS=[\"Azure\"]\r\n",
    "\r\n",
    "display(HTML(\"<h3>Starting Notebook setup...</h3>\"))\r\n",
    "if Path(\"./utils/nb_check.py\").is_file():\r\n",
    "    from utils.nb_check import check_versions\r\n",
    "    check_versions(REQ_PYTHON_VER, REQ_MSTICPY_VER, REQ_MP_EXTRAS)\r\n",
    "            \r\n",
    "from msticpy.nbtools import nbinit\r\n",
    "nbinit.init_notebook(\r\n",
    "    namespace=globals(),\r\n",
    "    extra_imports=[\"urllib.request, urlretrieve\", \"yaml\"]\r\n",
    ");\r\n",
    "\r\n",
    "pd.set_option(\"display.html.table_schema\", False)"
   ]
  },
  {
   "cell_type": "markdown",
   "metadata": {},
   "source": [
    "---\n",
    "## Configuration\n",
    "Once we have set up our Jupyter environment with the libraries that we'll use in the notebook, we need to make sure we have some configuration in place. Some of the notebook components need addtional configuration to connect to external services (e.g. API keys to retrieve Threat Intelligence data). This includes configuration for connection to our Azure Sentinel workspace, as well as some threat intelligence providers we will use later.\n",
    "The easiest way to handle the configuration for these services is to store them in a msticpyconfig file (`msticpyconfig.yaml`). More details on msticpyconfig can be found here:\n",
    "- [MSTICPy Package Configuration](https://msticpy.readthedocs.io/en/latest/getting_started/msticpyconfig.html)<br>\n",
    "- [MSTICPy Settings Editor](https://msticpy.readthedocs.io/en/latest/getting_started/SettingsEditor.html)\n",
    "\n",
    "### Learn more: \n",
    "- In this notebook we will setup the basic config we need to get started. If you need a more complete walk-through we have a separate notebook to help you: [Configuring Notebook Environment](https://github.com/Azure/Azure-Sentinel-Notebooks/blob/master/ConfiguringNotebookEnvironment.ipynb)\n",
    "- And for the ultimate walk-through of how to configure all your `msticpyconfig.yaml` settings see the [MPSettingsEditor notebook](https://github.com/microsoft/msticpy/blob/master/docs/notebooks/MPSettingsEditor.ipynb)\n",
    "\n",
    "---"
   ]
  },
  {
   "cell_type": "markdown",
   "metadata": {},
   "source": [
    "The Azure-Sentinel-Notebooks GitHub repo contains an template `msticpyconfig.yaml` file ready to be populated. If you have run this notebook before you may have a msticpyconfig file already populated, the cell below allows you to checks if this file. If your config file does not contain details under Azure Sentinel/Workspaces, or TIProviders the following cells will populate these for you.<br>\n",
    "\n",
    "If you want to see an example of what a populated msticpyconfig file should look like a samples is included in the repo as msticpyconfig-sample.yaml. Or [this example](https://msticpy.readthedocs.io/en/latest/getting_started/msticpyconfig.html#commented-configuration-file-sample)\n",
    "in the MSTICPy documentation."
   ]
  },
  {
   "cell_type": "code",
   "execution_count": null,
   "metadata": {},
   "outputs": [],
   "source": [
    "from msticpy.config import MpConfigFile, MpConfigEdit\n",
    "mpconfig = MpConfigFile()\n",
    "mpconfig.load_default()\n",
    "mpconfig.view_settings()"
   ]
  },
  {
   "cell_type": "markdown",
   "metadata": {},
   "source": [
    "If you see nothing but a pair of curly braces in the settings view above it means\n",
    "that you should set up a **msticpyconfig.yaml**.\n",
    "\n",
    "### Two options - with and without a `config.json` file"
   ]
  },
  {
   "attachments": {
    "1cd346c9-24b8-42a2-94ef-ef1cc55b1f43.png": {
     "image/png": "[encoded data removed]"
    }
   },
   "cell_type": "markdown",
   "metadata": {},
   "source": [
    "#### Plan A - If you have a config.json file\n",
    "\n",
    "**Step 1 - Find your config.json**\n",
    "\n",
    "A `config.json` is created for you if you launched a notebook from Azure Sentinel. It should\n",
    "be in the root of your user folder in the Azure Sentinel Machine learning workspace.<br>\n",
    "\n",
    "![image.png](attachment:1cd346c9-24b8-42a2-94ef-ef1cc55b1f43.png)"
   ]
  },
  {
   "cell_type": "markdown",
   "metadata": {},
   "source": [
    "**Step 2 - Import and convert this file**"
   ]
  },
  {
   "cell_type": "code",
   "execution_count": null,
   "metadata": {},
   "outputs": [],
   "source": [
    "mpconfig = MpConfigFile()\r\n",
    "mpconfig.load_from_file(\"config.json\")\r\n",
    "mpconfig.map_json_to_mp_ws()\r\n",
    "mpconfig.settings"
   ]
  },
  {
   "attachments": {
    "47398a86-078d-4497-b7ec-68f496b2278d.png": {
     "image/png": "[encoded data removed]"
    }
   },
   "cell_type": "markdown",
   "metadata": {},
   "source": [
    "The output should look something like this\n",
    "![image.png](attachment:47398a86-078d-4497-b7ec-68f496b2278d.png)"
   ]
  },
  {
   "cell_type": "markdown",
   "metadata": {},
   "source": [
    "**Step 3 - Import these settings into the editor**"
   ]
  },
  {
   "cell_type": "code",
   "execution_count": null,
   "metadata": {},
   "outputs": [],
   "source": [
    "mpedit = MpConfigEdit(settings=mpconfig)\n",
    "mpedit.set_tab(\"AzureSentinel\")\n",
    "mpedit"
   ]
  },
  {
   "cell_type": "markdown",
   "metadata": {},
   "source": [
    "#### Plan B - If you do not have a config.json\n",
    "You will need to find your Azure Sentinel workspace ID, Azure TenantId and, optionally the SubscriptionId, ResourceGroup name and Workspace name.\n",
    "\n",
    "You can get the workspace ID by opening Azure Sentinel in the Azure Portal and selecting Settings > Workspace Settings. Your Workspace ID is displayed near the top of this page.\n",
    "\n",
    "If you don't know your Azure tenant ID you can use this code to get it, given the Subscription ID. (replace `{subscription-id}` with the subscription UUID that you obtained in the previous step.\n",
    "\n",
    "```python\n",
    "from msticpy.common.config.ce_common import get_def_tenant_id\n",
    "get_def_tenant_id(\"{subscription-id}\")\n",
    "```\n",
    "You can get your tenant ID (also referred to organization or directory ID) via [Azure Active Directory](https://docs.microsoft.com/en-us/onedrive/find-your-office-365-tenant-id)\n",
    "\n",
    "Open the MpConfigEdit tool and manually create a workspace entry.\n",
    "\n",
    "You can give the workspace any name you like. It makes sense to keep this similar to\n",
    "the actual workspace name but you can shorten it to make it easier to remember."
   ]
  },
  {
   "cell_type": "code",
   "execution_count": null,
   "metadata": {},
   "outputs": [],
   "source": [
    "mpedit = MpConfigEdit()\n",
    "mpedit.set_tab(\"AzureSentinel\")\n",
    "mpedit"
   ]
  },
  {
   "cell_type": "markdown",
   "metadata": {},
   "source": [
    "### Create a copy of your workspace entry as a Default\n",
    "Make sure your workspace settings are selected and displayed and hit the **Set as Default** button."
   ]
  },
  {
   "cell_type": "code",
   "execution_count": null,
   "metadata": {},
   "outputs": [],
   "source": [
    "import yaml\n",
    "def print_config():\n",
    "    with open('msticpyconfig.yaml') as f:\n",
    "        data = yaml.load(f, Loader=yaml.FullLoader)\n",
    "        print(yaml.dump(data))\n",
    "try:\n",
    "    print_config()\n",
    "except FileNotFoundError:\n",
    "    print(\"No msticpyconfig.yaml was found in your current directory.\")\n",
    "    print(\"We are downloading a template file for you.\")\n",
    "    urlretrieve(\"https://raw.githubusercontent.com/Azure/Azure-Sentinel-Notebooks/master/msticpyconfig.yaml\", \"msticpyconfig.yaml\")\n",
    "    print_config()"
   ]
  },
  {
   "cell_type": "markdown",
   "metadata": {},
   "source": [
    "### Adding Threat Intel and GeoIP providers"
   ]
  },
  {
   "cell_type": "markdown",
   "metadata": {},
   "source": [
    "We are going to use [VirusTotal](https://www.virustotal.com) to enrich our Azure Sentinel data. For this you will need a VirusTotal API key, one of these can be obtained for free (as a personnal key) via the [VirusTotal](https://developers.virustotal.com/v3.0/reference#getting-started) website.\n",
    "We are using VirusTotal for this notebook but we also support a range of other threat intelligence providers: https://msticpy.readthedocs.io/en/latest/data_acquisition/TIProviders.html\n",
    "<br><br>\n",
    "In addition we are going to plot IP address locations on a map, in order to do this we are going to use [MaxMind](https://www.maxmind.com) to geolocate IP addresses which requires an API key. You can sign up for a free account and API key at https://www.maxmind.com/en/geolite2/signup. \n",
    "<br><br>\n",
    "To add the VirusTotal details, run the following cell.\n",
    "\n",
    "If you are unclear about what anything means use the **Help** drop-down. This\n",
    "has instructions and links to more detailed documentation."
   ]
  },
  {
   "cell_type": "code",
   "execution_count": null,
   "metadata": {},
   "outputs": [],
   "source": [
    "mpedit.set_tab(\"TI Providers\")\n",
    "mpedit"
   ]
  },
  {
   "cell_type": "markdown",
   "metadata": {},
   "source": [
    "To add the Maxmind GeopIP Lite details, run the following cell."
   ]
  },
  {
   "cell_type": "code",
   "execution_count": null,
   "metadata": {},
   "outputs": [],
   "source": [
    "mpedit.set_tab(\"GeoIP Providers\")\n",
    "mpedit"
   ]
  },
  {
   "cell_type": "markdown",
   "metadata": {},
   "source": [
    "### Validate your settings\n",
    "- click on **Validate settings**\n",
    "\n",
    "You may see some warnings about missing sections but not about the Azure Sentinel, TIProviders or GeoIP Providers settings."
   ]
  },
  {
   "cell_type": "markdown",
   "metadata": {},
   "source": [
    "### Save the settings\n",
    "- type in a path to the desired file location into the **Conf File** text box\n",
    "- click on **Save File**"
   ]
  },
  {
   "cell_type": "markdown",
   "metadata": {},
   "source": [
    "### Set a `MSTICPYCONFIG` environment variable so that you can always find your `msticpyconfig.yaml`\n",
    "\n",
    "**On Azure ML**\n",
    "\n",
    "If you are using Azure ML you will need to have this file in a location\n",
    "accessible to the Azure ML compute - this means either in the AzureML filestore\n",
    "or on the filesystem (usually the home directory) of the Compute instance.\n",
    "\n",
    "If you are storing secrets such as API keys in the file you should\n",
    "probably opt to store the file on the compute instance.\n",
    "\n",
    "For more detailed instructions, please see the *Setting the path to your msticpyconfig.yaml* section\n",
    "in the [Configuring Notebook Environment](https://github.com/Azure/Azure-Sentinel-Notebooks/blob/master/ConfiguringNotebookEnvironment.ipynb).\n",
    "\n",
    "Add one of the following lines to the `~/.bashrc` file.\n",
    "If you moved `msticpyconfig.yaml` to the home directory on the compute instance.\n",
    "```bash\n",
    "export MSTICPYCONFIG=~/msticpyconfig.yaml\n",
    "```\n",
    "If you opted to leave `msticpyconfig.yaml` in the AzureML file store.\n",
    "```bash\n",
    "export MSTICPYCONFIG=~/cloudfiles/code/Users/YOURNAME/msticpyconfig.yaml\n",
    "```\n",
    "(replace `YOURNAME` with your user name)\n",
    "\n",
    "**Locally or elsewhere**\n",
    "\n",
    "How you set an environment variable depends on your operating system.\n",
    "- On Windows\n",
    "  - open **Settings**\n",
    "  - click **System**\n",
    "  - select **About** from the left-side menu\n",
    "  - click on **Advanced system settings** (on the right of the window)\n",
    "  - select the **Advanced** tab and click on the **Environment Variables...** button\n",
    "  - add either a user or system variable named MSTICPYCONFIG with the path to your config file as its value.\n",
    "  \n",
    "- On Linux/MAC\n",
    "  - Add the following to your .bashrc file (phew that was easy!)\n",
    "  ```bash\n",
    "  export MSTICPYCONFIG=~/.msticpyconfig.yaml\n",
    "  ```\n",
    "Here we've opted to name the file .msticpyconfig.yaml and store it in our home directory. You can\n",
    "change either of these."
   ]
  },
  {
   "cell_type": "markdown",
   "metadata": {},
   "source": [
    "---\n",
    "## Getting Data\n",
    "Now that we have configured the details necessary to connect to Azure Sentinel we can go ahead and get some data. We will do this with `QueryProvider()` from MSTICpy. \n",
    "You can use the `QueryProvider` class to connect to different data sources such as MDATP, the Security Graph API, and the one we will use here, Azure Sentinel. \n",
    "\n",
    "### Learn more:\n",
    " - More details on configuring and using QueryProviders can be found in the [MSTICpy Documentation](https://msticpy.readthedocs.io/en/latest/data_acquisition/DataProviders.html#instantiating-a-query-provider).\n",
    "<br><br>"
   ]
  },
  {
   "cell_type": "markdown",
   "metadata": {},
   "source": [
    "For now, we are going to set up a QueryProvider for Azure Sentinel, pass it the details for our workspace that we just stored in the msticpyconfig file, and connect. The connection process will ask us to authenticate to our Azure Sentinel workspace via [device authorization](https://docs.microsoft.com/en-us/azure/active-directory/develop/v2-oauth2-device-code) with our Azure credentials. You can do this by clicking the device login code button that appears as the output of the next cell, or by navigating to https://microsoft.com/devicelogin and manually entering the code. Note that this authentication persists with the kernel you are using with the notebook, so if you restart the kernel you will need to re-authenticate.\n"
   ]
  },
  {
   "cell_type": "code",
   "execution_count": null,
   "metadata": {},
   "outputs": [],
   "source": [
    "# Initalize a QueryProvider for Azure Sentinel\n",
    "qry_prov = QueryProvider(\"LogAnalytics\")\n",
    "\n",
    "# Get the Azure Sentinel workspace details from msticpyconfig\n",
    "try:\n",
    "    ws_config = WorkspaceConfig()\n",
    "    md(\"Workspace details collected from config file\")\n",
    "except:\n",
    "    raise Exception(\"No workspace settings are configured, please run the cells above to configure these.\")\n",
    "    \n",
    "# Connect to Azure Sentinel with our QueryProvider and config details\n",
    "# ws_config.code_connect_str is a feature of MSTICpy that creates the required connection string from details in our msticpyconfig\n",
    "qry_prov.connect(connection_str=ws_config.code_connect_str)"
   ]
  },
  {
   "cell_type": "markdown",
   "metadata": {},
   "source": [
    "Now that we have connected we can query Azure Sentinel for data, but before we do that we need to understand what data is avalaible to query. The QueryProvider object provides a way to get a list of tables as well as tables and table columns:"
   ]
  },
  {
   "cell_type": "code",
   "execution_count": null,
   "metadata": {},
   "outputs": [],
   "source": [
    "# Get list of tables in our Workspace\n",
    "display(qry_prov.schema_tables [:5]) # We are outputting only the first 5 tables for brevity\n",
    "# Get list of tables and thier columns\n",
    "qry_prov.schema['SigninLogs'] # We are only displaying the columns for SigninLogs for brevity"
   ]
  },
  {
   "cell_type": "markdown",
   "metadata": {},
   "source": [
    "MSTICpy includes a number of built in queries that you can run.<br>\n",
    "You can list available queries with .list_queries() and get specific details about a query by calling it with \"?\" as a parameter"
   ]
  },
  {
   "cell_type": "code",
   "execution_count": null,
   "metadata": {},
   "outputs": [],
   "source": [
    "# Get a list of avaliable queries\n",
    "qry_prov.list_queries()"
   ]
  },
  {
   "cell_type": "code",
   "execution_count": null,
   "metadata": {},
   "outputs": [],
   "source": [
    "# Get details about a query\n",
    "qry_prov.Azure.list_all_signins_geo(\"?\")"
   ]
  },
  {
   "cell_type": "markdown",
   "metadata": {},
   "source": [
    "You can then run the query by calling it with the required parameters:"
   ]
  },
  {
   "cell_type": "code",
   "execution_count": null,
   "metadata": {},
   "outputs": [],
   "source": [
    "from datetime import datetime, timedelta\n",
    "# set our query end time as now\n",
    "end = datetime.now()\n",
    "# set our query start time as 1 hour ago\n",
    "start = end - timedelta(hours=1)\n",
    "# run query with specified start and end times\n",
    "logons_df = qry_prov.Azure.list_all_signins_geo(start=start, end=end)\n",
    "# display first 5 rows of any results\n",
    "logons_df.head() # If you have no data you will just see the column headings displayed"
   ]
  },
  {
   "cell_type": "markdown",
   "metadata": {},
   "source": [
    "Another way to run queries is to pass a string format of a KQL query to the query provider, this will run the query against the workspace connected to above, and will return the data in a [Pandas DataFrame](https://pandas.pydata.org/). We will look at working with Pandas in a bit more detail later."
   ]
  },
  {
   "cell_type": "code",
   "execution_count": null,
   "metadata": {},
   "outputs": [],
   "source": [
    "# Define our query\n",
    "test_query = \"\"\"\n",
    "SigninLogs\n",
    "| where TimeGenerated > ago(7d)\n",
    "| take 10\n",
    "\"\"\"\n",
    "\n",
    "# Pass that query to our QueryProvider\n",
    "test_df = qry_prov.exec_query(test_query)\n",
    "\n",
    "# Check that we have some data\n",
    "if isinstance(test_df, pd.DataFrame) and not test_df.empty:\n",
    "    # .head() returns the first 5 rows of our results DataFrame\n",
    "    display(test_df.head())\n",
    "# If where is no data load some sample data to use instead\n",
    "else:\n",
    "    md(\"You don't appear to have any SigninLogs - we will load sample data for you to use.\")\n",
    "    if not Path(\"nbdemo/data/aad_logons.pkl\").exists():\n",
    "        Path(\"nbdemo/data/\").mkdir(parents=True, exist_ok=True)\n",
    "        urlretrieve('https://github.com/Azure/Azure-Sentinel-Notebooks/blob/master/nbdemo/data/aad_logons.pkl?raw=true', 'nbdemo/data/aad_logons.pkl')\n",
    "        urlretrieve('https://raw.githubusercontent.com/Azure/Azure-Sentinel-Notebooks/master/nbdemo/data/queries.yaml', 'nbdemo/data/queries.yaml')\n",
    "    qry_prov = QueryProvider(\"LocalData\", data_paths=[\"nbdemo/data/\"], query_paths=[\"nbdemo/data/\"])\n",
    "    logons_df = qry_prov.Azure.list_all_signins_geo()\n",
    "    display(logons_df.head())"
   ]
  },
  {
   "cell_type": "markdown",
   "metadata": {},
   "source": [
    "### Learn more:\n",
    " - You can learn more about the MSTICpy pre-defined queries in the [MSTICpy Documentation](https://msticpy.readthedocs.io/en/latest/data_acquisition/DataProviders.html#running-an-pre-defined-query)"
   ]
  },
  {
   "cell_type": "markdown",
   "metadata": {},
   "source": [
    "---\n",
    "## Pandas\n",
    "Our query results are returned in the form of a Pandas DataFrame. DataFrames are a core component of the Azure Sentinel notebooks and of MSTICpy and is used for both input and output formats.\n",
    "Pandas DataFrames are incredibly versitile data structures with a lot of useful features, we will cover a small number of them here and we recommend that you check out the Learn more section to learn more about Pandas features.\n",
    "<br>\n",
    "<br>\n",
    "### Displaying a DataFrame:\n",
    "The first thing we want to do is display our DataFrame. You can either just run it or explicity display it by calling `display(df)`."
   ]
  },
  {
   "cell_type": "code",
   "execution_count": null,
   "metadata": {},
   "outputs": [],
   "source": [
    "# For this section we are going to create a DataFrame from data we have saved in a csv file\n",
    "df = pd.read_csv(\"https://raw.githubusercontent.com/microsoft/msticpy/master/tests/testdata/host_logons.csv\", index_col=[0] )\n",
    "# Display our DataFrame\n",
    "df  # or display(df)"
   ]
  },
  {
   "cell_type": "markdown",
   "metadata": {},
   "source": [
    "> **Note** if the dataframe variable (`df` in the example above) is the last statement in a \n",
    "> code cell, Jupyter will automatically display it without using the `display()` function. \n",
    "> However, if you want to display a DataFrame in the middle of \n",
    "> other code in a cell you must use the `display()` function.\n",
    "\n",
    "You may not want to display the whole DataFrame and instead display only a selection of items. There are numerous ways to do this and the cell below shows some of the most widely used functions."
   ]
  },
  {
   "cell_type": "code",
   "execution_count": null,
   "metadata": {},
   "outputs": [],
   "source": [
    "md(\"Display the first 2 rows using head(): \", \"bold\")\n",
    "display(df.head(2))  # we don't need to call display here but just for illustration"
   ]
  },
  {
   "cell_type": "code",
   "execution_count": null,
   "metadata": {},
   "outputs": [],
   "source": [
    "md(\"Display the 3rd row using iloc[]: \", \"bold\")\n",
    "df.iloc[3]"
   ]
  },
  {
   "cell_type": "code",
   "execution_count": null,
   "metadata": {},
   "outputs": [],
   "source": [
    "md(\"Show the column names in the DataFrame \", \"bold\")\n",
    "df.columns"
   ]
  },
  {
   "cell_type": "code",
   "execution_count": null,
   "metadata": {},
   "outputs": [],
   "source": [
    "md(\"Display just the TimeGenerated and TenantId columnns: \", \"bold\")\n",
    "df[[\"TimeGenerated\", \"TenantId\"]]"
   ]
  },
  {
   "cell_type": "markdown",
   "metadata": {},
   "source": [
    "We can also choose to select a subsection of our DataFrame based on the contents of the DataFrame:\n",
    "\n",
    "> **Tip**: the syntax in these examples is using a technique called *boolean indexing*. \n",
    "> <br>`df[<boolean expression>]`\n",
    "> returns all rows in the dataframe where the boolean expression is True\n",
    "> <br>In the first example we telling pandas to return all rows where the column value of\n",
    "> 'TargetUserName' matches 'MSTICAdmin'"
   ]
  },
  {
   "cell_type": "code",
   "execution_count": null,
   "metadata": {},
   "outputs": [],
   "source": [
    "md(\"Display only rows where TargetUserName value is 'MSTICAdmin': \", \"bold\")\n",
    "df[df['TargetUserName'] == \"MSTICAdmin\"]"
   ]
  },
  {
   "cell_type": "code",
   "execution_count": null,
   "metadata": {},
   "outputs": [],
   "source": [
    "md(\"Display rows where TargetUserName is either MSTICAdmin or adm1nistratror:\", \"bold\")\n",
    "display(df[df['TargetUserName'].isin(['adm1nistrator', 'MSTICAdmin'])])"
   ]
  },
  {
   "cell_type": "markdown",
   "metadata": {},
   "source": [
    "Our DataFrame call also be extended to add new columns with additional data if required:"
   ]
  },
  {
   "cell_type": "code",
   "execution_count": null,
   "metadata": {},
   "outputs": [],
   "source": [
    "df[\"NewCol\"] = \"Look at my new data!\"  # Add the same string to every row in this column\n",
    "display(df[[\"TenantId\",\"Account\", \"TimeGenerated\", \"NewCol\"]].head(2))"
   ]
  },
  {
   "cell_type": "markdown",
   "metadata": {},
   "source": [
    "### Learn more:\n",
    "There is a lot more you can do with Pandas, the links below provide some useful resources:\n",
    " - [Getting starting with Pandas](https://pandas.pydata.org/pandas-docs/stable/getting_started/index.html)\n",
    " - [Infosec Jupyerbook intro to Pandas](https://infosecjupyterbook.com/notebooks/tutorials/03_intro_to_pandas.html)\n",
    " - [A great list of Pandas hints and tricks](https://www.dataschool.io/python-pandas-tips-and-tricks/)"
   ]
  },
  {
   "cell_type": "markdown",
   "metadata": {},
   "source": [
    "---\n",
    "## Enriching data\n",
    "\n",
    "Now that we have seen how to query for data, and do some basic manipulation we can look at enriching this data with additional data sources. For this we are going to use an external threat intelligence provider to give us some more details about an IP address we have in our dataset using the [MSTICpy TIProvider](\"https://msticpy.readthedocs.io/en/latest/data_acquisition/TIProviders.html\") feature."
   ]
  },
  {
   "cell_type": "code",
   "execution_count": null,
   "metadata": {},
   "outputs": [],
   "source": [
    "from datetime import datetime, timedelta\n",
    "# Check if we have logon data already and if not get some\n",
    "if not isinstance(logons_df, pd.DataFrame) or logons_df.empty:\n",
    "    # set our query end time as now\n",
    "    end = datetime.now()\n",
    "    # set our query start time as 1 hour ago\n",
    "    start = end - timedelta(days=1)\n",
    "    # run query with specified start and end times\n",
    "    logons_df = qry_prov.Azure.list_all_signins_geo(start=start, end=end)\n",
    "    \n",
    "# Create our TI provider\n",
    "ti = TILookup()\n",
    "# Get the first logon IP address from our dataset\n",
    "ip = logons_df.iloc[1]['IPAddress']\n",
    "# Look up the IP in VirusTotal\n",
    "ti_resp = ti.lookup_ioc(ip, providers=[\"VirusTotal\"])\n",
    "\n",
    "# Format our results as a DataFrame\n",
    "ti_resp = ti.result_to_df(ti_resp)\n",
    "display(ti_resp)"
   ]
  },
  {
   "cell_type": "markdown",
   "metadata": {},
   "source": [
    "Using the [Pandas apply()](https://pandas.pydata.org/pandas-docs/stable/reference/api/pandas.DataFrame.apply.html) feature we can get results for all the IP addresses in our data set and add the lookup severity score as a new column in our DataFrame for easier reference."
   ]
  },
  {
   "cell_type": "code",
   "execution_count": null,
   "metadata": {},
   "outputs": [],
   "source": [
    "# Take the IP address in each row, look it up against TI and return the seveirty score\n",
    "def lookup_res(row):\n",
    "    ip = row['IPAddress']\n",
    "    resp = ti.lookup_ioc(ip, providers=[\"VirusTotal\"])\n",
    "    resp = ti.result_to_df(resp)\n",
    "    return resp[\"Severity\"].iloc[0]\n",
    "\n",
    "# Take the first 3 rows of data and copy they into a new DataFrame\n",
    "enrich_logons_df = logons_df.iloc[:3].copy()\n",
    "# Create a new column called TIRisk and populate that with the TI severity score of the IP Address in that row\n",
    "enrich_logons_df['TIRisk'] = enrich_logons_df.apply(lookup_res, axis=1)\n",
    "# Display a subset of columns from our DataFrame\n",
    "display(enrich_logons_df[[\"TimeGenerated\", \"ResultType\", \"UserPrincipalName\", \"IPAddress\", \"TIRisk\"]])"
   ]
  },
  {
   "cell_type": "markdown",
   "metadata": {},
   "source": [
    "### Learn more:\n",
    "MSTICpy includes further threat intelligence capabilities as well as other data enrichment options. More details on these can be found in the [documentation](https://msticpy.readthedocs.io/en/latest/DataEnrichment.html)."
   ]
  },
  {
   "cell_type": "markdown",
   "metadata": {},
   "source": [
    "---\n",
    "## Analyzing data\n",
    "With the data we have collected we may wish to perform some analysis on it in order to better understand it. MSTICpy includes a number of features to help with this, and there are a vast array of other data analysis capabilities available via Python ranging from simple processes to complex ML models. We will start here by keeping it simple and look at how we can decode some Base64 encoded command line strings we have in order to allow us to understand their content."
   ]
  },
  {
   "cell_type": "code",
   "execution_count": null,
   "metadata": {},
   "outputs": [],
   "source": [
    "from msticpy.sectools import base64unpack as b64\n",
    "# Take our encoded Powershell Command\n",
    "b64_cmd = \"powershell.exe -encodedCommand SW52b2tlLVdlYlJlcXVlc3QgaHR0cHM6Ly9jb250b3NvLmNvbS9tYWx3YXJlIC1PdXRGaWxlIEM6XG1hbHdhcmUuZXhl\"\n",
    "# Unpack the Base64 encoded elements\n",
    "unpack_txt = b64.unpack(input_string=b64_cmd)\n",
    "# Display our results and transform for easier reading\n",
    "unpack_txt[1].T"
   ]
  },
  {
   "cell_type": "markdown",
   "metadata": {},
   "source": [
    "We can also use MSTICpy to extract Indicators of Compromise (IoCs) from a dataset, this makes it easy to extract and match on a set of IoCs within our data. In the example below we take a US Cybersecurity & Infrastructure Security Agency (CISA) report and extract all domains listed in the report:"
   ]
  },
  {
   "cell_type": "code",
   "execution_count": null,
   "metadata": {},
   "outputs": [],
   "source": [
    "import requests\n",
    "# Set up our IoCExtract oject\n",
    "ioc_extractor = IoCExtract()\n",
    "# Download our threat report\n",
    "data = requests.get(\"https://www.us-cert.gov/sites/default/files/publications/AA20-099A_WHITE.stix.xml\")\n",
    "# Extract domains listed in our report\n",
    "iocs = ioc_extractor.extract(data.text, ioc_types=\"dns\")['dns']\n",
    "# Display the first 5 iocs found in our report\n",
    "list(iocs)[:5]"
   ]
  },
  {
   "cell_type": "markdown",
   "metadata": {},
   "source": [
    "### Learn more:\n",
    "There are a wide range of options when it comes to data analysis in notebooks using Python. Here are some useful resources to get you started:\n",
    " - [MSITCpy DataAnalysis documentation](https://msticpy.readthedocs.io/en/latest/DataAnalysis.html)\n",
    " - Scikit-Learn is a popular Python ML data analysis library, which has a useful [tutorial](https://scikit-learn.org/stable/tutorial/basic/tutorial.html)"
   ]
  },
  {
   "cell_type": "markdown",
   "metadata": {},
   "source": [
    "---\n",
    "## Visualizing data\n",
    "Visualizing data can provide an excellent way to analyse data, identify patterns and anomalies. Python has a wide range of data visualization capabilities each of which have thier own benefits and drawbacks. We will look at some basic capabilities as well as the in-build visualizations in MSTICpy.\n",
    "<br><br><br>\n",
    "**Basic Graphs**<br>\n",
    "Pandas and Matplotlib provide the easiest and simplest way to produce simple plots of data:"
   ]
  },
  {
   "cell_type": "code",
   "execution_count": null,
   "metadata": {},
   "outputs": [],
   "source": [
    "vis_q = \"\"\"\n",
    "SigninLogs\n",
    "| where TimeGenerated > ago(7d)\n",
    "| sample 5\"\"\"\n",
    "\n",
    "# Try and query for data but if using sample data load that instead\n",
    "try:\n",
    "    vis_data = qry_prov.exec_query(vis_q)\n",
    "except FileNotFoundError:\n",
    "    vis_data = logons_df\n",
    "\n",
    "# Check we have some data in our results and if not use previously used dataset\n",
    "if not isinstance(vis_data, pd.DataFrame) or vis_data.empty:\n",
    "    vis_data = logons_df\n",
    "\n",
    "# Plot up to the first 5 IP addresses\n",
    "vis_data.head()[\"IPAddress\"].value_counts().plot.bar(\n",
    "    title=\"IP prevelence\", legend=False\n",
    ")"
   ]
  },
  {
   "cell_type": "code",
   "execution_count": null,
   "metadata": {},
   "outputs": [],
   "source": [
    "pie_df = vis_data.copy()\n",
    " # If we have lots of data just plot the first 5 rows\n",
    "pie_df.head()['IPAddress'].value_counts().plot.pie(legend=True)"
   ]
  },
  {
   "cell_type": "markdown",
   "metadata": {},
   "source": [
    "### Learn more:\n",
    " - The [Infosec Jupyterbook](https://infosecjupyterbook.com/) includes a section on data visualization.\n",
    " - [Bokeh Library Documentation](https://bokeh.org/)\n",
    " - [Matplotlib tutorial](https://matplotlib.org/3.2.0/tutorials/index.html)\n",
    " - [Seaborn visualization library tutorial](https://seaborn.pydata.org/tutorial.html)"
   ]
  },
  {
   "cell_type": "markdown",
   "metadata": {},
   "source": [
    "---\n",
    "## Conclusion\n",
    "This notebook has showed you the basics of using notebooks and Azure Sentinel for security investigaitons. There are many more things possible using notebooks and it is stronly encouraged to read the material we have referenced in the learn more sections in this notebook. You can also explore the other Azure Sentinel notebooks in order to take advantage of the pre-built hunting logic, and understand other analysis techniques that are possible. </br>\n",
    "### Appendix:\n",
    " - [Jupyter Notebooks: An Introduction](https://realpython.com/jupyter-notebook-introduction/)\n",
    " - [Threat Hunting in the cloud with Azure Notebooks](https://medium.com/@maarten.goet/threat-hunting-in-the-cloud-with-azure-notebooks-supercharge-your-hunting-skills-using-jupyter-8d69218e7ca0)\n",
    " - [MSTICpy documentation](https://msticpy.readthedocs.io/)\n",
    " - [Azure Sentinel Notebooks documentation](https://docs.microsoft.com/en-us/azure/sentinel/notebooks)\n",
    " - [The Infosec Jupyterbook](https://infosecjupyterbook.com/introduction.html)\n",
    " - [Linux Host Explorer Notebook walkthrough](https://techcommunity.microsoft.com/t5/azure-sentinel/explorer-notebook-series-the-linux-host-explorer/ba-p/1138273)\n",
    " - [Why use Jupyter for Security Investigations](https://techcommunity.microsoft.com/t5/azure-sentinel/why-use-jupyter-for-security-investigations/ba-p/475729)\n",
    " - [Security Investigtions with Azure Sentinel & Notebooks](https://techcommunity.microsoft.com/t5/azure-sentinel/security-investigation-with-azure-sentinel-and-jupyter-notebooks/ba-p/432921)\n",
    " - [Pandas Documentation](https://pandas.pydata.org/pandas-docs/stable/user_guide/index.html)\n",
    " - [Bokeh Documentation](https://docs.bokeh.org/en/latest/)"
   ]
  }
 ],
 "metadata": {
  "hide_input": false,
  "kernelspec": {
   "display_name": "Python 3.8 - AzureML",
   "name": "python38-azureml"
  },
  "language_info": {
   "name": "python",
   "version": ""
  },
  "toc": {
   "base_numbering": 1,
   "nav_menu": {},
   "number_sections": true,
   "sideBar": true,
   "skip_h1_title": false,
   "title_cell": "Table of Contents",
   "title_sidebar": "Contents",
   "toc_cell": false,
   "toc_position": {},
   "toc_section_display": true,
   "toc_window_display": false
  },
  "varInspector": {
   "cols": {
    "lenName": 16,
    "lenType": 16,
    "lenVar": 40
   },
   "kernels_config": {
    "python": {
     "delete_cmd_postfix": "",
     "delete_cmd_prefix": "del ",
     "library": "var_list.py",
     "varRefreshCmd": "print(var_dic_list())"
    },
    "r": {
     "delete_cmd_postfix": ") ",
     "delete_cmd_prefix": "rm(",
     "library": "var_list.r",
     "varRefreshCmd": "cat(var_dic_list()) "
    }
   },
   "types_to_exclude": [
    "module",
    "function",
    "builtin_function_or_method",
    "instance",
    "_Feature"
   ],
   "window_display": false
  },
  "widgets": {
   "application/vnd.jupyter.widget-state+json": {
    "state": {},
    "version_major": 2,
    "version_minor": 0
   }
  }
 },
 "nbformat": 4,
 "nbformat_minor": 4
}
