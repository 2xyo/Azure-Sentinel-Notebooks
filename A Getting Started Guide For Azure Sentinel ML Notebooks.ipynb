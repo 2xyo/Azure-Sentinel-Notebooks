{
 "cells": [
  {
   "cell_type": "markdown",
   "source": [
    "# Getting Started with Azure ML Notebooks and Azure Sentinel\n",
    "\n",
    "---\n",
    "\n",
    "# Contents\n",
    "\n",
    "- Introduction\n",
    "- What is a Jupyter Notebook\n",
    "- Setting up the notebook environment\n",
    "- Notebook/MSTICPy configuration\n",
    "- Querying data from Azure Sentinel\n",
    "- Testing Threat Intelligence and IP Geolocation lookups\n",
    "- Further Resources\n",
    "- FAQs - Frequently Asked Questions\n",
    "\n",
    "---\n",
    "\n",
    "# Introduction\n",
    "\n",
    "This notebook takes you through the basics needed to get started with Azure Machine Learning (ML) Notebooks and Azure Sentinel.\n",
    "\n",
    "It focuses on getting things set up and basic steps to query data.\n",
    "\n",
    "After you've finished running this notebook you can go on to look at the following notebooks:\n",
    "\n",
    "- **A Tour of Cybersec notebook features** - this takes you through some of the basic\n",
    "  features for CyberSec investigation/hunting available to you in notebooks.\n",
    "- **Configuring your environment** - this covers all of the configuration options for \n",
    "  accessing external cybersec resources\n",
    "\n",
    "\n",
    "Each topic includes 'learn more' sections to provide you with the resource to deep\n",
    "dive into each of these topics. We encourage you to work through the notebook from start\n",
    "to finish.\n",
    "\n",
    "<div style=\"color: Black; background-color: Khaki; padding: 5px; font-size: 20px\">\n",
    "<p>Please run the the code cells in sequence. Skipping cells will result in errors.</p>\n",
    "<div style=\"font-size: 16px\">\n",
    "<p>If you encounter any unexpected errors please see the FAQ at the end of this notebook.</p>\n",
    "</div>\n",
    "</div>\n",
    "\n",
    "<hr>"
   ],
   "metadata": {}
  },
  {
   "cell_type": "markdown",
   "source": [
    "---\n",
    "\n",
    "# What is a Jupyter notebook?\n",
    "\n",
    "<div style=\"color: Black; background-color: Gray; padding: 5px; font-size: 20px\">\n",
    "If you're familiar with notebooks, skip this section and go to \"Setting up the environment\" section.\n",
    "</div>\n",
    "<br>\n",
    "\n",
    "You are currently reading a Jupyter notebook. [Jupyter](http://jupyter.org/) is an interactive\n",
    "development and data manipulation environment presented in a browser.\n",
    "\n",
    "A Jupyter notebook is a document\n",
    "made up of cells that contain interactive code, alongside that code's output,\n",
    "and other items such as text and images (what you are looking at now is a cell of *Markdown* text).\n",
    "\n",
    "The name, Jupyter, comes from the core supported programming languages that it supports: **Ju**lia, **Pyt**hon, and **R**.\n",
    "While you can use any of these languages (and others such as Powershell) we are going to use Python in this notebook.\n",
    "\n",
    "The majority of the notebooks on the [Azure Sentinel GitHub repo](https://github.com/Azure/Azure-Sentinel-Notebooks)\n",
    "are written in Python. Whilst there are pros, and cons to each language, Python is a well-established\n",
    "language that has a large number of materials and libraries well suited for\n",
    "data analysis and security investigation, making it ideal for our needs.\n",
    "\n",
    "<details>\n",
    "  <summary>Learn more...</summary>\n",
    "  <ul>\n",
    "    <li><a href=https://infosecjupyterbook.com/introduction.html>The Infosec Jupyter Book</a>\n",
    "    has more details on the technical working of Jupyter.\n",
    "    </li>\n",
    "    <li><a href=https://jupyter.org/documentation>The Jupyter Project documentation</a></li>\n",
    "  </ul>\n",
    "</details>\n",
    "\n",
    "<br>\n",
    "\n"
   ],
   "metadata": {}
  },
  {
   "cell_type": "markdown",
   "source": [
    "---\n",
    "\n",
    "## How to use a Jupyter notebook?\n",
    "\n",
    "To use a Jupyter notebook you need a Jupyter server that will render the notebook and execute the code within it.\n",
    "This can take the form of a local [Jupyter installation](https://pypi.org/project/jupyter/),\n",
    "or a remotely hosted version such as \n",
    "[Azure Machine Learning Notebooks](https://docs.microsoft.com/en-us/azure/machine-learning/how-to-run-jupyter-notebooks). \n",
    "\n",
    "## Using Azure Machine Learning (ML) Notebooks\n",
    "\n",
    "If you launched this notebook from Azure Sentinel, you will be running it in an Azure ML workspace.\n",
    "By default, the notebook is running in the built-in notebook editor. You can also open\n",
    "and run the notebook in Jupyterlab or Jupyter classic, if these environments are more familiar\n",
    "to you.\n",
    "\n",
    "<details>\n",
    "  <summary>Learn more...</summary>\n",
    "<p>Although you can view a notebook as a static document (GitHub, for example has a built-in\n",
    "static notebook renderer), if you want to run the code in a notebook, the notebook\n",
    "must be attached to a backend process, know as a Jupyter kernel. The kernel\n",
    "is really where your code is being run and where all of variables and objects\n",
    "created in the code are held. The browser is just the viewer for this data.\n",
    "</p>\n",
    "<p>In Azure ML, the kernel runs on a virtual machine known as an Azure ML Compute.\n",
    "The Compute instance can support the running of many notebooks simultaneously.</p>\n",
    "<p>\n",
    "Usually, the creation/attaching of a kernel for your notebook happens\n",
    "seamlessly - you don't need to do anything manually. One thing that you\n",
    "may need to check (especially if you are getting errors or the notebook\n",
    "doesn't seem to be executing) is the version and state of the kernel.</p>\n",
    "  <ul>\n",
    "    <li><a href=https://realpython.com/jupyter-notebook-introduction/>\n",
    "    Installing and running a local Jupyter server\n",
    "    </a>\n",
    "    </li>\n",
    "  </ul>\n",
    "</details>\n",
    "\n",
    "For this notebook we are going to be using Python 3.8 (you can also choose the Python 3.6 kernel).\n",
    "\n",
    "You can check the kernel name and version is selected by looking at\n",
    "the drop down in the top left corner of the Workspace window as shown in\n",
    "the image below.\n",
    "\n",
    "\n",
    "\n",
    "<img src=\"https://github.com/Azure/Azure-Sentinel-Notebooks/raw/master/images/AML_kernel.png\" height=\"200px\">\n",
    "\n",
    "This image also shows the active compute instance (to the right).\n",
    "\n",
    "<img src=\"https://github.com/Azure/Azure-Sentinel-Notebooks/raw/master/images/AML_compute_kernel.png\" height=\"200px\">\n",
    "\n",
    "\n",
    "If the selected kernel does not show `Azure ML Python 3.8` you can select the correct kernel by clicking on the Kernel drop-down.\n",
    "\n",
    "<p style=\"border: solid; padding: 5pt\"><b>Note</b>: the notebook works with Python 3.6 or later.\n",
    "If you are using this notebook in another\n",
    "Jupyter environment you can choose any kernel that supports Python 3.6 or later\n",
    "</p>\n",
    "\n",
    "<p style=\"border: solid; padding: 5pt; color: white; background-color: DarkOliveGreen\"><b>Tip:</b>\n",
    "Sometimes, your notebook may \"hang\" or you want to just start over.\n",
    "To do this you can restart the kernel. Use the \"recycle\" button in the toolbar\n",
    "in the upper right of the screen above the notebook.\n",
    "<br>\n",
    "You will need to re-run any initialization and authentication cells after doing\n",
    "this since restarting the kernel wipes all variables and other state.\n",
    "</p>\n",
    "\n",
    "<img src=\"https://github.com/Azure/Azure-Sentinel-Notebooks/raw/master/images/AML_restart_kernel.png\" height=\"200px\">\n",
    "\n",
    "<br>\n",
    "<details>\n",
    "  <summary>Troubleshooting...</summary>\n",
    "  <p>\n",
    "If you are having trouble getting the notebook running you should review\n",
    "<a href=https://docs.microsoft.com/en-us/azure/machine-learning/how-to-run-jupyter-notebooks>How to run Juptyer notebooks</a>.\n",
    "</p>\n",
    "</details>\n"
   ],
   "metadata": {}
  },
  {
   "cell_type": "markdown",
   "source": [
    "---\n",
    "\n",
    "## Running code\n",
    "\n",
    "The **cell** below is a code cell (note that it looks different from the\n",
    "cell you are reading). The current cell is known as a *Markdown* cell\n",
    "and lets you write text (including HTML) and include static images.\n",
    "\n",
    "Select the code cell (using mouse or cursor keys) below.\n",
    "Once selected, you can execute the code in it by clicking the \"Play\" button in the cell, or by pressing Shift+Enter.\n",
    "\n",
    "<p style=\"border: solid; padding: 5pt; color: white; background-color: DarkOliveGreen\">\n",
    "<b>Tip</b>: You can identify which cells are code cells by selecting them.<br>\n",
    "In Azure ML notebooks and VSCode, code cells have a larger border\n",
    "on the left side with a \"Play\" button to execute the cell.<br>\n",
    "In other notebook environments code and markdown cells will have\n",
    "different styles but it's usually easy to distinguish them.\n",
    "</p>\n"
   ],
   "metadata": {}
  },
  {
   "cell_type": "code",
   "execution_count": 1,
   "source": [
    "# This is our first code cell, it contains basic Python code.\n",
    "# You can run a code cell by selecting it and clicking\n",
    "# the Run button (to the left of the cell), or by pressing Shift + Enter.\n",
    "# Any output from the code will be displayed directly below it.\n",
    "print(\"Congratulations you just ran this code cell\")\n",
    "y = 2 + 2\n",
    "print(\"2 + 2 =\", y)"
   ],
   "outputs": [
    {
     "output_type": "stream",
     "name": "stdout",
     "text": [
      "Congratulations you just ran this code cell\n",
      "2 + 2 = 4\n"
     ]
    }
   ],
   "metadata": {}
  },
  {
   "cell_type": "markdown",
   "source": [
    "Variables set within a code cell persist between cells meaning you can chain cells together.\r\n",
    "In this example we're using the value of y from the previous cell."
   ],
   "metadata": {}
  },
  {
   "cell_type": "code",
   "execution_count": 2,
   "source": [
    "# Note that output from the last line of a cell is automatically\n",
    "# sent to the output cell, without needing the print() function.\n",
    "y + 2"
   ],
   "outputs": [
    {
     "output_type": "execute_result",
     "data": {
      "text/plain": [
       "6"
      ]
     },
     "metadata": {},
     "execution_count": 2
    }
   ],
   "metadata": {}
  },
  {
   "cell_type": "markdown",
   "source": [
    "Now that you understand the basics we can move onto more complex code.\r\n",
    "\r\n",
    "\r\n",
    "<details>\r\n",
    "  <summary>Learn more about notebooks...</summary>\r\n",
    "  <ul>\r\n",
    "    <li><a href=https://infosecjupyterbook.com/>The Infosec Jupyter Book</a>\r\n",
    "    provides an infosec-specific intro to Python.\r\n",
    "    </li>\r\n",
    "    <li><a href=https://realpython.com/>Real Python</a>\r\n",
    "    is a comprehensive set of Python learnings and tutorials.</li>\r\n",
    "  <ul>\r\n",
    "\r\n",
    "</details>\r\n"
   ],
   "metadata": {}
  },
  {
   "cell_type": "markdown",
   "source": [
    "---\r\n",
    "\r\n",
    "# Setting up the notebook environment\r\n",
    "\r\n",
    "To avoid having to type (or paste) a lot of complex and repetitive code into\r\n",
    "notebook cells, most notebooks rely on third party libraries (known in the Python\r\n",
    "world as \"packages\").\r\n",
    "\r\n",
    "Before you can use a package in your notebook, you need to do two things:\r\n",
    "\r\n",
    "- install the package (although the Azure ML Compute has most common packages pre-installed)\r\n",
    "- import the package (or some part of the package - usually a module/file, a function or a class)\r\n",
    "\r\n",
    "## MSTICPy\r\n",
    "\r\n",
    "We've created a Python package built for Azure Sentinel notebooks - named MSTICPy (pronounced miss-tick-pie).\r\n",
    "It is a collection of CyberSecurity tools for data retrieval, analysis, enrichment and visualization.\r\n",
    "\r\n",
    "## Intializing notebooks\r\n",
    "\r\n",
    "At the start of most Azure Sentinel notebooks you will see an initialization cell like the one below.\r\n",
    "This cell is specific to the MSTICPy initialization:\r\n",
    "\r\n",
    "- it defines the minimum versions for Python and MSTICPy needed for this notebook\r\n",
    "- it then imports and runs the `init_notebook` function.\r\n",
    "\r\n",
    "<details>\r\n",
    "    <summary>More about <i>init_notebook</i>...</summary>\r\n",
    "    <p>\r\n",
    "`init_notebook` does some of the tedious work of importing other packages, \r\n",
    "checking configuration (we'll get to configuration in a moment) and, optionally,\r\n",
    "installing other required packages.</p>\r\n",
    "</details>\r\n",
    "<br>\r\n",
    "\r\n",
    "<div style=\"bor der: solid; padding: 5pt\">\r\n",
    "<b>Note:</b>don't be alarmed if you see configuration warnings (such as \"Missing msticpyconfig.yaml\").<br>\r\n",
    "We haven't configured anything yet, so this is expected.\r\n",
    "</div>\r\n",
    "\r\n",
    "The first line ensures that the latest version of msticpy is installed."
   ],
   "metadata": {}
  },
  {
   "cell_type": "code",
   "execution_count": 3,
   "source": [
    "# import some modules needed in this cell\n",
    "from IPython.display import display, HTML\n",
    "\n",
    "REQ_PYTHON_VER=\"3.6\"\n",
    "REQ_MSTICPY_VER=\"1.2.3\"\n",
    "\n",
    "display(HTML(\"Checking upgrade to latest msticpy version\"))\n",
    "%pip install --upgrade --quiet msticpy[azuresentinel]>=$REQ_MSTICPY_VER\n",
    "\n",
    "# intialize msticpy\n",
    "from msticpy.nbtools import nbinit\n",
    "nbinit.init_notebook(\n",
    "    namespace=globals(),\n",
    "    extra_imports=[\"urllib.request, urlretrieve\"]\n",
    ")\n",
    "pd.set_option(\"display.html.table_schema\", False)"
   ],
   "outputs": [
    {
     "output_type": "display_data",
     "data": {
      "text/plain": [
       "<IPython.core.display.HTML object>"
      ],
      "text/html": [
       "Checking upgrade to latest msticpy version"
      ]
     },
     "metadata": {}
    },
    {
     "output_type": "stream",
     "name": "stdout",
     "text": [
      "Note: you may need to restart the kernel to use updated packages.\n"
     ]
    },
    {
     "output_type": "display_data",
     "data": {
      "text/plain": [
       "<IPython.core.display.HTML object>"
      ],
      "text/html": [
       "<hr><h4>Starting Notebook initialization...</h4>"
      ]
     },
     "metadata": {}
    },
    {
     "output_type": "display_data",
     "data": {
      "text/plain": [
       "<IPython.core.display.HTML object>"
      ],
      "text/html": [
       "msticpy version installed: 1.3.0 latest published: 1.3.0<br>Latest version is installed.<br> <br>"
      ]
     },
     "metadata": {}
    },
    {
     "output_type": "display_data",
     "data": {
      "text/plain": [
       "<IPython.core.display.HTML object>"
      ],
      "text/html": [
       "Processing imports.... <br>"
      ]
     },
     "metadata": {}
    },
    {
     "output_type": "display_data",
     "data": {
      "text/plain": [
       "<IPython.core.display.HTML object>"
      ],
      "text/html": [
       "Imported: pd (pandas), IPython.get_ipython, IPython.display.display, IPython.display.HTML, IPython.display.Markdown, widgets (ipywidgets), pathlib.Path, plt (matplotlib.pyplot), matplotlib.MatplotlibDeprecationWarning, sns (seaborn), np (numpy), msticpy.data.QueryProvider, msticpy.nbtools.foliummap.FoliumMap, msticpy.common.utility.md, msticpy.common.utility.md_warn, msticpy.common.wsconfig.WorkspaceConfig, msticpy.datamodel.pivot.Pivot, msticpy.datamodel.entities, urllib.request.urlretrieve <br>"
      ]
     },
     "metadata": {}
    },
    {
     "output_type": "display_data",
     "data": {
      "text/plain": [
       "<IPython.core.display.HTML object>"
      ],
      "text/html": [
       "Checking configuration.... <br>"
      ]
     },
     "metadata": {}
    },
    {
     "output_type": "display_data",
     "data": {
      "text/plain": [
       "<IPython.core.display.HTML object>"
      ],
      "text/html": [
       "Setting notebook options.... <br>"
      ]
     },
     "metadata": {}
    },
    {
     "output_type": "display_data",
     "data": {
      "text/plain": [
       "<IPython.core.display.HTML object>"
      ],
      "text/html": [
       " <br>"
      ]
     },
     "metadata": {}
    },
    {
     "output_type": "display_data",
     "data": {
      "text/plain": [
       "<IPython.core.display.HTML object>"
      ],
      "text/html": [
       "<h4>Notebook initialization complete</h4>"
      ]
     },
     "metadata": {}
    }
   ],
   "metadata": {}
  },
  {
   "cell_type": "markdown",
   "source": [
    "---\n",
    "\n",
    "# Notebook/MSTICPy Configuration\n",
    "\n",
    "Once we've done this basic initialization step,\n",
    "we need to make sure we have some configuration in place.\n",
    "\n",
    "Some of the notebook components need addtional configuration to connect our Azure Sentinel workspace\n",
    "as well as to external services (e.g. API keys to retrieve Threat Intelligence data). \n",
    "\n",
    "The easiest way to manage the configuration data for these services is to store it in a \n",
    "configuration file (`msticpyconfig.yaml`).<br>\n",
    "The alternative to this is having to type\n",
    "configuration details and keys in each time you use a notebook - which is\n",
    "guaranteed to put you off notebooks forever!\n",
    "\n",
    "<details>\n",
    "  <summary>Learn more...</summary>\n",
    "  <p>\n",
    "  Although you don't need to know these details now, you can find more information here:\n",
    "  </p>\n",
    "  <ul>\n",
    "    <li><a href=https://msticpy.readthedocs.io/en/latest/getting_started/msticpyconfig.html >MSTICPy Package Configuration</a></li>\n",
    "    <li><a href=https://msticpy.readthedocs.io/en/latest/getting_started/SettingsEditor.html >MSTICPy Settings Editor</a></li>\n",
    "  </ul>\n",
    "  <p>If you need a more complete walk-through of configuration, we have a separate notebook to help you:</p>\n",
    "  <ul>\n",
    "    <li><a href=https://github.com/Azure/Azure-Sentinel-Notebooks/blob/master/ConfiguringNotebookEnvironment.ipynb >Configuring Notebook Environment</a></li>\n",
    "    <li>And for the ultimate walk-through of how to configure all your `msticpyconfig.yaml` settings\n",
    "  see the <a href=https://github.com/microsoft/msticpy/blob/master/docs/notebooks/MPSettingsEditor.ipynb >MPSettingsEditor notebook</a></li>\n",
    "    <li>The Azure-Sentinel-Notebooks GitHub repo also contains an template `msticpyconfig.yaml`, with commented-out sections\n",
    "  that may also be helpful in finding your way around the settings if you want to dig into things\n",
    "  by hand.</li>\n",
    "  </ul>\n",
    "</details>\n",
    "<br>\n",
    "\n",
    "---"
   ],
   "metadata": {}
  },
  {
   "cell_type": "markdown",
   "source": [
    "## Configuring Azure Sentinel settings\n",
    "\n",
    "When you launched this notebook from Azure Sentinel it copied a basic configuration file - `config.json` -\n",
    "to your workspace folder.<br>\n",
    "You should be able to see this file in the file browser to the left.<br>\n",
    "This file contains details about your Azure Sentinel workspace but has\n",
    "no configuration settings for other external services that we need.\n",
    "\n",
    "If you didn't have a `msticpyconfig.yaml` file in your workspace folder (which is likely\n",
    "if this is your first use of notebooks), the `init_notebook` function should have created\n",
    "one for you and populated it\n",
    "with the Azure Sentinel workspace data taken from your config.json.\n",
    "\n",
    "<p style=\"border: solid; padding: 5pt; color: white; background-color: DarkOliveGreen\"><b>Tip:</b>\n",
    "If you do not see a \"msticpyconfig.yaml\" file in your user folder, click the refresh button<br>\n",
    "at the top of the file browser.\n",
    "</p>\n",
    "\n",
    "We can check this now by opening the settings editor and view the settings.\n",
    "\n",
    "<div style=\"color: Black; background-color: Khaki; border: solid; padding: 5pt;\"><b>\n",
    "You should not have to change anything here unless you need to add\n",
    "one or more additional workspaces.</b></div>\n",
    "<p/>\n",
    "<p style=\"border: solid; padding: 5pt\"><b>Note:</b>\n",
    "In the Azure ML environment, the settings editor may take 10-20 seconds to appear.<br>\n",
    "This is a known bug that we are working to fix.\n",
    "</p>\n",
    "\n",
    "When you have verified that this looks OK. Click **Save Settings**\n",
    "\n",
    "\n",
    "<details>\n",
    "    <summary>Multiple Azure Sentinel workspaces...</summary>\n",
    "    <p>If you have multiple Azure Sentinel workspaces, you can add\n",
    "    them in the following configuration cell.</p>\n",
    "    <p>You can choose to keep one as the default or just delete this entry\n",
    "    if you always want to name your workspaces explicitly when you \n",
    "    connect.\n",
    "    </p>\n",
    "</details>"
   ],
   "metadata": {}
  },
  {
   "cell_type": "code",
   "execution_count": 4,
   "source": [
    "from msticpy.config import MpConfigEdit\n",
    "import os\n",
    "\n",
    "mp_conf = \"msticpyconfig.yaml\"\n",
    "\n",
    "# check if MSTICPYCONFIG is already an env variable\n",
    "mp_env = os.environ.get(\"MSTICPYCONFIG\")\n",
    "mp_conf = mp_env if mp_env and Path(mp_env).is_file() else mp_conf\n",
    "\n",
    "if not Path(mp_conf).is_file():\n",
    "    print(\n",
    "        \"No msticpyconfig.yaml was found!\",\n",
    "        \"Please check that there is a config.json file in your workspace folder.\",\n",
    "        \"If this is not there, go back to the Azure Sentinel portal and launch\",\n",
    "        \"this notebook from there.\",\n",
    "        sep=\"\\n\"\n",
    "    )\n",
    "else:\n",
    "    mpedit = MpConfigEdit(mp_conf)\n",
    "    mpedit.set_tab(\"AzureSentinel\")\n",
    "    display(mpedit)"
   ],
   "outputs": [
    {
     "output_type": "display_data",
     "data": {
      "text/plain": [
       "VBox(children=(Tab(children=(VBox(children=(Label(value='Azure Sentinel workspace settings'), HBox(children=(V…"
      ],
      "application/vnd.jupyter.widget-view+json": {
       "model_id": "3da067eaf8354ec3a10c735aef8966b6",
       "version_major": 2,
       "version_minor": 0
      }
     },
     "metadata": {}
    }
   ],
   "metadata": {}
  },
  {
   "cell_type": "markdown",
   "source": [
    "At this stage you should only see two entries in the Azure Sentinel tab:\r\n",
    "\r\n",
    "- An entry with the name of your Azure Sentinel workspace\r\n",
    "- An entry named \"Default\" with the same settings.\r\n",
    "\r\n",
    "MSTICPy lets you store configurations for multiple Azure Sentinel workspaces\r\n",
    "and switch between them. The \"Default\" entry lets you authenticate\r\n",
    "to a specific workspace without having to name it explicitly.\r\n",
    "\r\n",
    "Let's add some additional configuration."
   ],
   "metadata": {}
  },
  {
   "cell_type": "markdown",
   "source": [
    "## Adding Threat Intel and GeoIP provider settings\n",
    "\n",
    "We are going to use [VirusTotal](https://www.virustotal.com) (VT) as an example of a popular threat intelligence source.\n",
    "To use VirusTotal threat intel lookups you will need a VirusTotal account and API key.\n",
    "\n",
    "You can sign up for a free account at the\n",
    "[VirusTotal getting started page](https://developers.virustotal.com/v3.0/reference#getting-started) website.\n",
    "\n",
    "If you are already a VirusTotal user, you can, of course, use your existing key.\n",
    "\n",
    "<p style=\"border: solid; padding: 5pt; color: black; background-color: Khaki\">\n",
    "<b>Warning</b> If you are using a VT enterprise key we do not recommend storing this\n",
    "in the msticpyconfig.yaml file.<br>\n",
    "MSTICPy supports storage of secrets in\n",
    "Azure Key Vault. You can read more about this\n",
    "<a href=https://msticpy.readthedocs.io/en/latest/getting_started/msticpyconfig.html#specifying-secrets-as-key-vault-secrets >in the MSTICPY docs</a><br>\n",
    "For the moment, you can sign up for a free acount, until you can take the time to\n",
    "set up Key Vault storage.\n",
    "</p>\n",
    "\n",
    "\n",
    "As well as VirusTotal, we also support a range\n",
    "of other threat intelligence providers: https://msticpy.readthedocs.io/en/latest/data_acquisition/TIProviders.html\n",
    "<br><br>\n",
    "\n",
    "To add the VirusTotal details, run the following cell.\n",
    "\n",
    "1. Select \"VirusTotal\" from the **Add prov** drop down\n",
    "2. Click the **Add** button\n",
    "3. In the left-side Details panel select **Text** as the Storage option.\n",
    "4. Paste the API key in the **Value** text box.\n",
    "5. Click the **Update** button to confirm your changes.\n",
    "\n",
    "Your changes are not yet saved to your configuration file. To\n",
    "do this, click on the **Save Settings** button at the bottom of the dialog.\n",
    "\n",
    "If you are unclear about what anything in the configuration editor means, use the **Help** drop-down. This\n",
    "has instructions and links to more detailed documentation.\n"
   ],
   "metadata": {}
  },
  {
   "cell_type": "code",
   "execution_count": 5,
   "source": [
    "mpedit.set_tab(\"TI Providers\")\n",
    "mpedit"
   ],
   "outputs": [
    {
     "output_type": "display_data",
     "data": {
      "text/plain": [
       "VBox(children=(Tab(children=(VBox(children=(Label(value='Azure Sentinel workspace settings'), HBox(children=(V…"
      ],
      "application/vnd.jupyter.widget-view+json": {
       "model_id": "3da067eaf8354ec3a10c735aef8966b6",
       "version_major": 2,
       "version_minor": 0
      }
     },
     "metadata": {}
    }
   ],
   "metadata": {}
  },
  {
   "cell_type": "markdown",
   "source": [
    "Our notebooks commonly use IP geo-location information. \n",
    "In order to enable this we are going to set up [MaxMind GeoLite2](https://www.maxmind.com)\n",
    "to provide geolocation lookup services for IP addresses.\n",
    "\n",
    "GeoLite2 uses a downloaded database which requires an account key to download.\n",
    "You can sign up for a free account and a license key at \n",
    "[The Maxmind signup page - https://www.maxmind.com/en/geolite2/signup](https://www.maxmind.com/en/geolite2/signup).\n",
    "<br>\n",
    "\n",
    "<details>\n",
    "    <summary>Using IPStack as an alernative to GeoLite2...</summary>\n",
    "    <p>\n",
    "    For more details see the\n",
    "    <a href=https://msticpy.readthedocs.io/en/latest/data_acquisition/GeoIPLookups.html >\n",
    "    MSTICPy GeoIP Providers documentation</a>\n",
    "    </p>\n",
    "</details>\n",
    "<br>\n",
    "\n",
    "Once, you have an account, run the following cell to add the Maxmind GeopIP Lite details to your configuration.\n",
    "\n",
    "The procedure is similar to the one we used for VirusTotal:\n",
    "\n",
    "1. Select the \"GeoIPLite\" provider from the **Add prov** drop-down\n",
    "2. Click **Add**\n",
    "3. Select **Text** Storage and paste the license (API/Auth) key into the text box\n",
    "4. Click **Update**\n",
    "5. Click **Save Settings** to write your settings to your configuration.\n"
   ],
   "metadata": {}
  },
  {
   "cell_type": "code",
   "execution_count": 6,
   "source": [
    "mpedit.set_tab(\"GeoIP Providers\")\n",
    "mpedit"
   ],
   "outputs": [
    {
     "output_type": "display_data",
     "data": {
      "text/plain": [
       "VBox(children=(Tab(children=(VBox(children=(Label(value='Azure Sentinel workspace settings'), HBox(children=(V…"
      ],
      "application/vnd.jupyter.widget-view+json": {
       "model_id": "3da067eaf8354ec3a10c735aef8966b6",
       "version_major": 2,
       "version_minor": 0
      }
     },
     "metadata": {}
    }
   ],
   "metadata": {}
  },
  {
   "cell_type": "markdown",
   "source": [
    "## Validate your settings\r\n",
    "\r\n",
    "- click on the **Validate settings** button.\r\n",
    "\r\n",
    "You may see some warnings about missing sections but not about the Azure Sentinel, TIProviders or GeoIP Providers settings.\r\n",
    "\r\n",
    "Click on the **Close** button to hide the validation output.\r\n",
    "\r\n",
    "If you need to make any changes as a result of the Validation,\r\n",
    "remember to save your changes by clicking the **Save File** button."
   ],
   "metadata": {}
  },
  {
   "cell_type": "markdown",
   "source": [
    "## Loading your saved settings\r\n",
    "\r\n",
    "<h3 stylecolor: Black; background-color: Khaki;i; padding: 5px\">\r\n",
    "Although your settings are saved they are not yet loaded into MSTICPy. Please run the next cell.</h3>\r\n",
    "<hr>\r\n",
    "\r\n",
    "You have saved your settings to a \"msticpyconfig.yaml\" file on disk. This file<br>\r\n",
    "is a YAML file so is easy to read with a text editor.<br>\r\n",
    "However, MSTICPy does not automatically reload these settings.\r\n",
    "\r\n",
    "Run the following cell to force it to reload from the new configuration file.\r\n"
   ],
   "metadata": {}
  },
  {
   "cell_type": "code",
   "execution_count": 7,
   "source": [
    "import msticpy\n",
    "msticpy.settings.refresh_config()"
   ],
   "outputs": [],
   "metadata": {}
  },
  {
   "cell_type": "markdown",
   "source": [
    "\r\n",
    "<details>\r\n",
    "    <summary>Optional - set a MSTICPYCONFIG environment variable...</summary>\r\n",
    "\r\n",
    "Setting a `MSTICPYCONFIG` environment variable to point to the location of your\r\n",
    "your `msticpyconfig.yaml` configuration file lets MSTICPy find this file. By\r\n",
    "default, it looks in the current directory only.\r\n",
    "\r\n",
    "Having a MSTICPYCONFIG variable set is especially convenient if you are\r\n",
    "using notebooks locally or have a deep or complex folder structure\r\n",
    "\r\n",
    "<b>You may not need this on Azure ML</b> - the\r\n",
    "`nb_check` script (in the initialization cell) will automatically set the MSTICPYCONFIG\r\n",
    "environment variable if it is not already set. The script will try to find a\r\n",
    "`msticpyconfig.yaml` in the current directory or in the root of your AML user folder.\r\n",
    "\r\n",
    "For more detailed instructions on this, please see the *Setting the path to your msticpyconfig.yaml* section\r\n",
    "in the <a href=https://github.com/Azure/Azure-Sentinel-Notebooks/blob/master/ConfiguringNotebookEnvironment.ipynb >Configuring Notebook Environment</a>.\r\n",
    "\r\n",
    "<p style=\"border: solid; padding: 5pt; color: black; background-color: #AA4000\">\r\n",
    "<b>Warning</b>: If you are storing secrets such as API keys in the file you should<br>\r\n",
    "probably opt to store either store this file on the compute instance or use<br.>\r\n",
    "Azure Key Vault to store the secrets.<br>\r\n",
    "Read more about using KeyVault\r\n",
    "<a href=https://msticpy.readthedocs.io/en/latest/getting_started/msticpyconfig.html#specifying-secrets-as-key-vault-secrets >in the MSTICPY docs</a>\r\n",
    "</p>\r\n",
    "\r\n",
    "</details>\r\n"
   ],
   "metadata": {}
  },
  {
   "cell_type": "markdown",
   "source": [
    "---\r\n",
    "\r\n",
    "# Querying Data from Azure Sentinel\r\n",
    "\r\n",
    "Now that we have configured the details for your Azure Sentinel workspace, \r\n",
    "we can go ahead and test it. We will do this with `QueryProvider` class from MSTICPy.\r\n",
    "\r\n",
    "The QueryProvider class has one main function:\r\n",
    "\r\n",
    "- querying data from a data source to make it available to view and analyze in the notebook.\r\n",
    "\r\n",
    "Query results are always returned as *pandas* DataFrames. If you are new\r\n",
    "to using *pandas* look at the **Introduction to Pandas** section at in\r\n",
    "the **A Tour of Cybersec notebook features** notebook.\r\n",
    "\r\n",
    "<details>\r\n",
    "    <summary>Other data sources...</summary>\r\n",
    "    <p>\r\n",
    "    The query provider supports several different data sources - the one we'll use\r\n",
    "here is \"AzureSentinel\".</p>\r\n",
    "<p>\r\n",
    "Other data sources supported by the `QueryProvider` class include Microsoft Defender for Endpoint,\r\n",
    "Splunk, Microsoft Graph API, Azure Resource Graph but these are not covered here.\r\n",
    "    </p>\r\n",
    "</details>\r\n",
    "<br>\r\n",
    "\r\n",
    "Most query providers come with a range of built-in queries\r\n",
    "for common data operations. You can also a query provider to run custom queries against\r\n",
    "Azure Sentinel data.\r\n",
    "\r\n",
    "Once you've loaded a QueryProvider you'll normally need to authenticate\r\n",
    "to the data source (in this case Azure Sentinel).\r\n",
    "\r\n",
    "<details>\r\n",
    "    <summary><b>Learn more...</b></summary>\r\n",
    "    <p>\r\n",
    "    More details on configuring and using QueryProviders:\r\n",
    "    </p>\r\n",
    "    <ul>\r\n",
    "        <li>\r\n",
    " <a href=https://msticpy.readthedocs.io/en/latest/data_acquisition/DataProviders.html#instantiating-a-query-provider >MSTICPy Documentation</a>.</li>\r\n",
    "    </ul>\r\n",
    "</details>\r\n",
    "<br>\r\n"
   ],
   "metadata": {}
  },
  {
   "cell_type": "markdown",
   "source": [
    "## Load a QueryProvider\n",
    "To start, we are going to load up a QueryProvider\n",
    "for Azure Sentinel, pass it the \n",
    "details for our workspace that we just stored in the msticpyconfig file, and connect.\n",
    "\n",
    "<div style=\"border: solid; padding: 5pt\"><b>Note:</b>\n",
    "If you see a warning \"Runtime dependency of PyGObject is missing\" when loading the<br>\n",
    "Azure Sentinel driver, please see the FAQ section at the end of this notebook.<br>\n",
    "The warning does not impact any functionality of the notebooks.\n",
    "</div>"
   ],
   "metadata": {}
  },
  {
   "cell_type": "code",
   "execution_count": 8,
   "source": [
    "# Initalize a QueryProvider for Azure Sentinel\n",
    "qry_prov = QueryProvider(\"AzureSentinel\")"
   ],
   "outputs": [
    {
     "output_type": "stream",
     "name": "stdout",
     "text": [
      "Please wait. Loading Kqlmagic extension...\n"
     ]
    },
    {
     "output_type": "display_data",
     "data": {
      "text/plain": [
       "<IPython.core.display.Javascript object>"
      ],
      "application/javascript": "try {IPython.notebook.kernel.reconnect();} catch(err) {;}"
     },
     "metadata": {}
    },
    {
     "output_type": "display_data",
     "data": {
      "text/plain": [
       "<IPython.core.display.Javascript object>"
      ],
      "application/javascript": "try {IPython.notebook.kernel.execute(\"NOTEBOOK_URL = '\" + window.location + \"'\");} catch(err) {;}"
     },
     "metadata": {}
    }
   ],
   "metadata": {}
  },
  {
   "cell_type": "markdown",
   "source": [
    "## Authenticate to the Azure Sentinel workspace\n",
    "\n",
    "Next we need to authenticate The code cell immediately following this section\n",
    "will start the authentication process. e.When you run the cell it will trigger an Azure authentication sequence.\n",
    "\n",
    "\n",
    "The connection process will ask us to authenticate to our Azure Sentinel workspace using \n",
    "[device authorization](https://docs.microsoft.com/en-us/azure/active-directory/develop/v2-oauth2-device-code)\n",
    "with our Azure credentials.\n",
    "\n",
    "Device authorization adds an additional factor to the authentication by generating a\n",
    "one-time device code that you supply as part of the authentication process.\n",
    "\n",
    "The process is as follows:\n",
    "\n",
    "1. generate and display an device code\n",
    "\n",
    "<img src=\"https://github.com/Azure/Azure-Sentinel-Notebooks/raw/master/images/device_auth_code.png\" height=\"300px\">\n",
    "\n",
    "In some Jupyter notebook interfaces, step 1 has a clickable button that will copy the code to the clipboard\n",
    "and then open a browser window to the devicelogin URI.<br>The default AML notebook interface does not\n",
    "do this. You need to manually select and copy the code to the clipboard, then click on the devicelogin link\n",
    "where you can paste the code in to start the authentication process.\n",
    "\n",
    "2. go to http://microsoft.com/devicelogin and paste in the code\n",
    "3. authenticate with your Azure credentials\n",
    "\n",
    "<p style=\"border: sols:id; <br>\n",
    "1. Tdding: 5pt\"><b>Note:</b> the devicelogin URL may be different for government <br>\n",
    "2. You must use an account that has permissions to the Azure Sentinel workspace.<br>\n",
    "(<b>Azure Sentinel Reader</b> or <b>Log Analytics Reader</b>)\n",
    "or national Azure clouds.</p>\n",
    "\n",
    "<br>\n",
    "\n",
    "<img src=\"https://github.com/Azure/Azure-Sentinel-Notebooks/raw/master/images/device_authn.png\" height=\"300px\">\n",
    "\n",
    "4. Once the last box in the previous image is shown you can close that tab and return to the notebook. \n",
    "   You should see an image like the one shown below.\n",
    "\n",
    "<img src=\"https://github.com/Azure/Azure-Sentinel-Notebooks/raw/master/images/device_auth_complete.png\" height=\"300px\">\n",
    "\n",
    "<br>\n",
    "\n",
    "<p style=\"border: solid; padding: 5pt\"willb><b>Note:</b>\n",
    "Once authenticated, you should not need to re-authenticate or open another notebook if you restart the kernel.\n",
    "You can avoid this by using Azure CLI to create a cached logon on the AML compute(this is described in the FAQ section at the end of the notebook).<br>The Azure CLI logon will cache the token even if you restart kernel.<AML br>\n",
    "This <i>refresh token</i> is cached on the compute and can be re-used until it\n",
    "times out.<br>\n",
    "You will need to re-authenticate if you restart your Compute instance\n",
    "or switch to a different one.\n",
    "</p>"
   ],
   "metadata": {}
  },
  {
   "cell_type": "code",
   "execution_count": 9,
   "source": [
    "# Get the Azure Sentinel workspace details from msticpyconfig\n",
    "# Loading WorkspaceConfig with no parameters will use the details\n",
    "# of your \"Default\" workspace (see the Configuring Azure Sentinel settings section earlier)\n",
    "# If you want to connect to a specific workspace use this syntax:\n",
    "#    ws_config = WorkspaceConfig(workspace=\"WorkspaceName\")\n",
    "# ('WorkspaceName' should be one of the workspaces defined in msticpyconfig.yaml)\n",
    "ws_config = WorkspaceConfig()\n",
    " \n",
    "# Connect to Azure Sentinel with our QueryProvider and config details\n",
    "qry_prov.connect(ws_config)"
   ],
   "outputs": [
    {
     "output_type": "display_data",
     "data": {
      "text/plain": [
       "<IPython.core.display.Javascript object>"
      ],
      "application/javascript": "try {IPython.notebook.kernel.execute(\"NOTEBOOK_URL = '\" + window.location + \"'\");} catch(err) {;}"
     },
     "metadata": {}
    },
    {
     "output_type": "display_data",
     "data": {
      "text/plain": [
       "<IPython.core.display.HTML object>"
      ],
      "text/html": [
       "<!DOCTYPE html>\n",
       "            <html><body>\n",
       "            <div style=''>\n",
       "            \n",
       "            <button onclick=\"this.style.visibility='visible';\n",
       "            kql_MagicLaunchWindowFunction('kqlmagic/temp_files/6da0818e-cb4b-4c9b-8248-dd04e4cb59ae/_8ecf8077-cf51-4820-aadd-14040956f35d_at_loganalytics_schema.html', 'fullscreen=no,directories=no,location=no,menubar=no,resizable=yes,scrollbars=yes,status=no,titlebar=no,toolbar=no,', '_8ecf8077_cf51_4820_aadd_14040956f35d_at_loganalytics_schema', '');\n",
       "            kql_MagicCloseWindow(kql_Magic__8ecf8077_cf51_4820_aadd_14040956f35d_at_loganalytics_schema, -1, -1);\">\n",
       "            popup schema 8ecf8077-cf51-4820-aadd-14040956f35d@loganalytics</button>\n",
       "            </div>\n",
       "\n",
       "            <script>\n",
       "            var kql_Magic__8ecf8077_cf51_4820_aadd_14040956f35d_at_loganalytics_schema = null;\n",
       "\n",
       "\n",
       "            function kql_MagicCloseWindow(window_obj, obj_secs, itself_secs) {\n",
       "                if (obj_secs >= 0) {\n",
       "                    _timeout = setTimeout(function(){\n",
       "                        window_obj.close();\n",
       "                        if (itself_secs >= 0) {\n",
       "                            __timeout = setTimeout(function(){window.close();}, itself_secs * 1000);\n",
       "                        }\n",
       "                    }, obj_secs * 1000);\n",
       "                } else if (itself_secs >= 0) {\n",
       "                    _timeout = setTimeout(function(){window.close();}, itself_secs * 1000);\n",
       "                }\n",
       "            }\n",
       "\n",
       "            function kql_MagicLaunchWindowFunction(file_path_or_data, window_params, window_name, host_or_text) {\n",
       "                var url;\n",
       "                const baseURI = String(window.location);\n",
       "                if (host_or_text == 'text' || host_or_text == 'body') {\n",
       "                    url = ''\n",
       "                } else if (file_path_or_data.startsWith('http')) {\n",
       "                    url = file_path_or_data;\n",
       "                } else if (host_or_text.endsWith('.azureml.ms') || host_or_text.endsWith('.azureml.net')) {\n",
       "                    let azuremlBaseURI = String(window.document.baseURI);\n",
       "                    let start = azuremlBaseURI.search('activeFilePath=');\n",
       "                    if (start > 0) {\n",
       "                        start += 'activeFilePath='.length;\n",
       "                        let end = azuremlBaseURI.substring(start).search('&');\n",
       "                        if (end < 0) {\n",
       "                            end = undefined;\n",
       "                        }\n",
       "                        let parts = azuremlBaseURI.substring(start, end).split('/');\n",
       "                        parts.pop();\n",
       "                        url = host_or_text + '/tree/' + parts.join('/') + '/' + file_path_or_data;\n",
       "                    } else {\n",
       "                        var parts = baseURI.split('/');\n",
       "                        parts.pop();\n",
       "                        url = parts.join('/') + '/' + file_path_or_data;\n",
       "                    }\n",
       "                } else {\n",
       "                    var base_url = '';\n",
       "\n",
       "                    // check if azure notebook\n",
       "                    var azure_host = (host_or_text == null || host_or_text.length == 0) ? 'https://notebooks.azure.com' : host_or_text;\n",
       "                    var start = azure_host.search('//');\n",
       "                    var azure_host_suffix = '.' + azure_host.substring(start+2);\n",
       "\n",
       "                    var end = baseURI.search(azure_host_suffix);\n",
       "                    start = baseURI.search('//');\n",
       "                    if (start > 0 && end > 0) {\n",
       "                        // # azure notebook environment, assume template: https://library-user.notebooks.azure.com\n",
       "                        var parts = baseURI.substring(start+2, end).split('-');\n",
       "                        if (parts.length == 2) {\n",
       "                            var library = parts[0];\n",
       "                            var user = parts[1];\n",
       "                            base_url = azure_host + '/api/user/' +user+ '/library/' +library+ '/html/';\n",
       "                        }\n",
       "                    }\n",
       "\n",
       "                    // check if local jupyter lab\n",
       "                    if (base_url.length == 0) {\n",
       "                        var configDataScipt  = document.getElementById('jupyter-config-data');\n",
       "                        if (configDataScipt != null) {\n",
       "                            var jupyterConfigData = JSON.parse(configDataScipt.textContent);\n",
       "                            if (jupyterConfigData['appName'] == 'JupyterLab' && jupyterConfigData['serverRoot'] != null &&  jupyterConfigData['treeUrl'] != null) {\n",
       "                                var basePath = 'e:/src/Azure-Sentinel-Notebooks' + '/';\n",
       "                                if (basePath.startsWith(jupyterConfigData['serverRoot'])) {\n",
       "                                    base_url = '/files/' + basePath.substring(jupyterConfigData['serverRoot'].length+1);\n",
       "                                }\n",
       "                            }\n",
       "                        }\n",
       "                    }\n",
       "\n",
       "                    // works for local jupyter notebook\n",
       "                    if (base_url.length == 0) {\n",
       "\n",
       "                        var parts = baseURI.split('/');\n",
       "                        parts.pop(); // remove notebook name segment\n",
       "                        base_url = parts.join('/') + '/';\n",
       "                    }\n",
       "                    url = base_url + file_path_or_data;\n",
       "                }\n",
       "\n",
       "                window.focus();\n",
       "                var w = screen.width / 2;\n",
       "                var h = screen.height / 2;\n",
       "                params = 'width='+w+',height='+h;\n",
       "                // kql_Magic + window_name should be a global variable \n",
       "                window_obj = window.open(url, window_name, window_params + params);\n",
       "                if (url == '') {\n",
       "                    let decodedData = atob(file_path_or_data);\n",
       "                    if (host_or_text == 'text') {\n",
       "                        var el = window_obj.document.createElement('p');\n",
       "                        window_obj.document.body.overflow = 'auto';\n",
       "                        el.style.top = 0;\n",
       "                        el.style.left = 0;\n",
       "                        el.innerHTML = decodedData;\n",
       "                        window_obj.document.body.appendChild(el);\n",
       "                    } else {\n",
       "                        window_obj.document.body.innerHTML = decodedData;\n",
       "                    }\n",
       "                }\n",
       "                kql_Magic__8ecf8077_cf51_4820_aadd_14040956f35d_at_loganalytics_schema = window_obj;\n",
       "            }\n",
       "            </script>\n",
       "\n",
       "            </body></html>"
      ]
     },
     "metadata": {}
    },
    {
     "output_type": "display_data",
     "data": {
      "text/plain": [
       "<IPython.core.display.Javascript object>"
      ],
      "application/javascript": "try {IPython.notebook.kernel.execute(\"NOTEBOOK_URL = '\" + window.location + \"'\");} catch(err) {;}"
     },
     "metadata": {}
    }
   ],
   "metadata": {}
  },
  {
   "cell_type": "markdown",
   "source": [
    "## Test the Azure Sentinel configuration\n",
    "\n",
    "### Viewing the Azure Sentinel workspace data schema\n",
    "\n",
    "You can use the schema to help understand what data is available to query.<br>\n",
    "The AzureSentinel QueryProvider has a \"schema_tables\" property that lets us get a list of tables\n",
    "as well the schema (column names and data types) for each table.\n",
    "\n",
    "<p style=\"border: solid; padding: 5pt\"><b>Note:</b>\n",
    "If you see an error here, make sure that you have run the previous cell and the authentication succeeded.\n",
    "</p>"
   ],
   "metadata": {}
  },
  {
   "cell_type": "code",
   "execution_count": 10,
   "source": [
    "# Get list of tables in our Workspace with the 'schema_tables' property\n",
    "print(\"Sample of first 10 tables in the schema\")\n",
    "qry_prov.schema_tables[:10]  # We are outputting only a sample of tables for brevity\n",
    "                              # remove the \"[:10]\" to see the whole list\n"
   ],
   "outputs": [
    {
     "output_type": "stream",
     "name": "stdout",
     "text": [
      "Sample of first 10 tables in the schema\n"
     ]
    },
    {
     "output_type": "execute_result",
     "data": {
      "text/plain": [
       "['AACAudit',\n",
       " 'AACHttpRequest',\n",
       " 'AADDomainServicesAccountLogon',\n",
       " 'AADDomainServicesAccountManagement',\n",
       " 'AADDomainServicesDirectoryServiceAccess',\n",
       " 'AADDomainServicesLogonLogoff',\n",
       " 'AADDomainServicesPolicyChange',\n",
       " 'AADDomainServicesPrivilegeUse',\n",
       " 'AADDomainServicesSystemSecurity',\n",
       " 'AADManagedIdentitySignInLogs']"
      ]
     },
     "metadata": {},
     "execution_count": 10
    }
   ],
   "metadata": {}
  },
  {
   "cell_type": "markdown",
   "source": [
    "## Azure Sentinel queries in MSTICPy\r\n",
    "\r\n",
    "MSTICPy includes a number of built-in queries that you can run.<br>\r\n",
    "You can list available queries with .list_queries() and get specific details about a query by calling it with \"?\" as a parameter"
   ],
   "metadata": {}
  },
  {
   "cell_type": "code",
   "execution_count": 11,
   "source": [
    "# Get a sample of available queries\n",
    "print(\"Sample of queries\")\n",
    "print(\"=================\")\n",
    "print(qry_prov.list_queries()[::5])  # showing a sample - remove \"[::5]\" for whole list\n",
    "\n",
    "# Get help about a query by passing \"?\" as a parameter\n",
    "print(\"\\nHelp for 'list_all_signins_geo' query\")\n",
    "print(\"=====================================\")\n",
    "qry_prov.Azure.list_all_signins_geo(\"?\")"
   ],
   "outputs": [
    {
     "output_type": "stream",
     "name": "stdout",
     "text": [
      "Sample of queries\n",
      "=================\n",
      "['Azure.get_vmcomputer_for_host', 'Azure.list_azure_activity_for_account', 'AzureNetwork.az_net_analytics', 'AzureNetwork.get_heartbeat_for_ip', 'AzureSentinel.get_bookmark_by_id', 'Heartbeat.get_heartbeat_for_host', 'LinuxSyslog.all_syslog', 'LinuxSyslog.list_logon_failures', 'LinuxSyslog.sudo_activity', 'MultiDataSource.get_timeseries_decompose', 'Network.get_host_for_ip', 'Office365.list_activity_for_ip', 'SecurityAlert.list_alerts_for_ip', 'ThreatIntelligence.list_indicators_by_filepath', 'WindowsSecurity.get_parent_process', 'WindowsSecurity.list_host_events', 'WindowsSecurity.list_hosts_matching_commandline', 'WindowsSecurity.list_other_events']\n",
      "\n",
      "Help for 'list_all_signins_geo' query\n",
      "=====================================\n",
      "Query:  list_all_signins_geo\n",
      "Data source:  AzureSentinel\n",
      "Gets Signin data used by morph charts\n",
      "\n",
      "Parameters\n",
      "----------\n",
      "add_query_items: str (optional)\n",
      "    Additional query clauses\n",
      "end: datetime (optional)\n",
      "    Query end time\n",
      "start: datetime (optional)\n",
      "    Query start time\n",
      "    (default value is: -5)\n",
      "table: str (optional)\n",
      "    Table name\n",
      "    (default value is: SigninLogs)\n",
      "Query:\n",
      " {table} | where TimeGenerated >= datetime({start}) | where TimeGenerated <= datetime({end}) | extend Result = iif(ResultType==0, \"Sucess\", \"Failed\") | extend Latitude = tostring(parse_json(tostring(LocationDetails.geoCoordinates)).latitude) | extend Longitude = tostring(parse_json(tostring(LocationDetails.geoCoordinates)).longitude)\n"
     ]
    }
   ],
   "metadata": {}
  },
  {
   "cell_type": "markdown",
   "source": [
    "## Query browser\n",
    "\n",
    "The query browser combines both of the previous functions in a scrollable<br>\n",
    "and filterable list. For the selected query, it shows the required and<br>\n",
    "optional parameters, together with the full text of the query.<br>\n",
    "\n",
    "You cannot execute queries from the browser but you can copy and paste\n",
    "the example shown below the help for each query.\n"
   ],
   "metadata": {}
  },
  {
   "cell_type": "code",
   "execution_count": 12,
   "source": [
    "qry_prov.browse_queries()"
   ],
   "outputs": [
    {
     "output_type": "display_data",
     "data": {
      "text/plain": [
       "VBox(children=(Text(value='', description='Filter:', style=DescriptionStyle(description_width='initial')), Sel…"
      ],
      "application/vnd.jupyter.widget-view+json": {
       "model_id": "588550dc16c44ab6908b6a50324ef350",
       "version_major": 2,
       "version_minor": 0
      }
     },
     "metadata": {}
    },
    {
     "output_type": "display_data",
     "data": {
      "text/plain": [
       "<IPython.core.display.HTML object>"
      ],
      "text/html": [
       "<hr>"
      ]
     },
     "metadata": {}
    },
    {
     "output_type": "display_data",
     "data": {
      "text/plain": [
       "<IPython.core.display.HTML object>"
      ],
      "text/html": [
       "<h3>Gets latest VMComputer record for Host</h3><div></div><p><b>Parameters</b></p><div>add_query_items: str (optional)</div><div style='margin-left: 40px'>    Additional query clauses</div><div>end: datetime (optional)</div><div style='margin-left: 40px'>    Query end time</div><div>host_name: str</div><div style='margin-left: 40px'>    The Computer name of the VM</div><div>start: datetime (optional)</div><div style='margin-left: 40px'>    Query start time</div><div style='margin-left: 40px'>    (default value is: -5)</div><div>table: str (optional)</div><div style='margin-left: 40px'>    Table name</div><div style='margin-left: 40px'>    (default value is: VMComputer)</div><br><p><b>Query</b></p><pre>{table} \n",
       "| where TimeGenerated >= datetime({start}) \n",
       "| where TimeGenerated <= datetime({end}) \n",
       "| where Computer has \"{host_name}\" \n",
       "| take 1</pre><br>\n",
       "        <p><b>Example</b></p>\n",
       "        <p>{QueryProvider}[.QueryPath].QueryName(params...)</p>\n",
       "        <pre>qry_prov.Azure.get_vmcomputer_for_host(start=start, end=end, hostname=host)</pre>\n",
       "    "
      ]
     },
     "metadata": {}
    }
   ],
   "metadata": {}
  },
  {
   "cell_type": "markdown",
   "source": [
    "## Run some queries\r\n",
    "\r\n",
    "### Most queries require time parameters!\r\n",
    "\r\n",
    "Datetime strings are **painful** to type in and keep track of. \r\n",
    "We can use MSTICPy's `nbwidgets.QueryTime` class to define \"start\" and \"end\" for queries.\r\n",
    "\r\n",
    "Each query provider has its own `QueryTime` instance built-in. If the query\r\n",
    "needs \"start\" and \"end\" parameters and you do not supply them, the query\r\n",
    "will take the time from this built-in timerange control."
   ],
   "metadata": {}
  },
  {
   "cell_type": "code",
   "execution_count": 13,
   "source": [
    "# Open the query time control for our query provider\n",
    "qry_prov.query_time"
   ],
   "outputs": [
    {
     "output_type": "display_data",
     "data": {
      "text/plain": [
       "VBox(children=(HTML(value='<h4>Set query time boundaries</h4>'), HBox(children=(DatePicker(value=datetime.date…"
      ],
      "application/vnd.jupyter.widget-view+json": {
       "model_id": "52870399baec481dac5246104b752fd2",
       "version_major": 2,
       "version_minor": 0
      }
     },
     "metadata": {}
    }
   ],
   "metadata": {}
  },
  {
   "cell_type": "markdown",
   "source": [
    "### Run a query using this time range.\r\n",
    "\r\n",
    "Query results are returned as a [Pandas DataFrame](https://pandas.pydata.org/).\r\n",
    "A dataframe is a tabular data structure much like a spreadsheet or\r\n",
    "database table.\r\n",
    "\r\n",
    "<details>\r\n",
    "    <summary>Learn more about DataFrames...</summary>\r\n",
    "    <p>\r\n",
    "    <ul>\r\n",
    "        <li>\r\n",
    "        The <a href=https://pandas.pydata.org/ >Pandas website</a> has an extensive user guide.</li>\r\n",
    "        <li>The <i>A Tour of Cybersec notebook features</i> has a brief introduction to common pandas operations.</li>\r\n",
    "    </ul>\r\n",
    "    </p>\r\n",
    "</details>\r\n"
   ],
   "metadata": {}
  },
  {
   "cell_type": "code",
   "execution_count": 14,
   "source": [
    "# The time parameters are taken from the qry_prov time settings\n",
    "# but you can override this by supplying explict \"start\" and \"end\" datetimes\n",
    "signins_df = qry_prov.Azure.list_all_signins_geo()\n",
    "\n",
    "if signins_df.empty:\n",
    "    md(\"The query returned no rows for this time range. You might want to increase the time range\")\n",
    "\n",
    "# display first 5 rows of any results\n",
    "signins_df.head() # If you have no data you will just see the column headings displayed"
   ],
   "outputs": [
    {
     "output_type": "display_data",
     "data": {
      "text/plain": [
       "<IPython.core.display.Javascript object>"
      ],
      "application/javascript": "try {IPython.notebook.kernel.execute(\"NOTEBOOK_URL = '\" + window.location + \"'\");} catch(err) {;}"
     },
     "metadata": {}
    },
    {
     "output_type": "execute_result",
     "data": {
      "text/plain": [
       "                               TenantId SourceSystem  \\\n",
       "0  8ecf8077-cf51-4820-aadd-14040956f35d     Azure AD   \n",
       "1  8ecf8077-cf51-4820-aadd-14040956f35d     Azure AD   \n",
       "2  8ecf8077-cf51-4820-aadd-14040956f35d     Azure AD   \n",
       "3  8ecf8077-cf51-4820-aadd-14040956f35d     Azure AD   \n",
       "4  8ecf8077-cf51-4820-aadd-14040956f35d     Azure AD   \n",
       "\n",
       "                     TimeGenerated  \\\n",
       "0 2021-07-19 06:01:09.796000+00:00   \n",
       "1 2021-07-17 22:58:11.594000+00:00   \n",
       "2 2021-07-17 22:59:56.029000+00:00   \n",
       "3 2021-07-17 23:07:55.216000+00:00   \n",
       "4 2021-07-17 23:58:11.231000+00:00   \n",
       "\n",
       "                                                                 ResourceId  \\\n",
       "0  /tenants/4b2462a4-bbee-495a-a0e1-f23ae524cc9c/providers/Microsoft.aadiam   \n",
       "1  /tenants/4b2462a4-bbee-495a-a0e1-f23ae524cc9c/providers/Microsoft.aadiam   \n",
       "2  /tenants/4b2462a4-bbee-495a-a0e1-f23ae524cc9c/providers/Microsoft.aadiam   \n",
       "3  /tenants/4b2462a4-bbee-495a-a0e1-f23ae524cc9c/providers/Microsoft.aadiam   \n",
       "4  /tenants/4b2462a4-bbee-495a-a0e1-f23ae524cc9c/providers/Microsoft.aadiam   \n",
       "\n",
       "      OperationName OperationVersion    Category ResultType ResultSignature  \\\n",
       "0  Sign-in activity              1.0  SignInLogs          0            None   \n",
       "1  Sign-in activity              1.0  SignInLogs          0            None   \n",
       "2  Sign-in activity              1.0  SignInLogs          0            None   \n",
       "3  Sign-in activity              1.0  SignInLogs          0            None   \n",
       "4  Sign-in activity              1.0  SignInLogs          0            None   \n",
       "\n",
       "  ResultDescription  DurationMs                         CorrelationId  \\\n",
       "0                             0  1f7b2f6a-2a9c-4de6-80bf-098e40102b5b   \n",
       "1                             0  47d913c5-8137-4945-b68b-01257a75c843   \n",
       "2                             0  f1990929-a748-460d-bd08-158853d18a51   \n",
       "3                             0  5af6e26e-a38c-4816-9a10-ec7c762f59fe   \n",
       "4                             0  2c23cf22-1af2-4e2d-ba36-95e96f00e454   \n",
       "\n",
       "           Resource     ResourceGroup ResourceProvider  \\\n",
       "0  Microsoft.aadiam  Microsoft.aadiam                    \n",
       "1  Microsoft.aadiam  Microsoft.aadiam                    \n",
       "2  Microsoft.aadiam  Microsoft.aadiam                    \n",
       "3  Microsoft.aadiam  Microsoft.aadiam                    \n",
       "4  Microsoft.aadiam  Microsoft.aadiam                    \n",
       "\n",
       "                                                Identity Level Location  \\\n",
       "0                                             Bishal Das     4       IN   \n",
       "1  On-Premises Directory Synchronization Service Account     4       US   \n",
       "2  On-Premises Directory Synchronization Service Account     4       US   \n",
       "3                            Chris Boehm Service Account     4       US   \n",
       "4  On-Premises Directory Synchronization Service Account     4       US   \n",
       "\n",
       "                                    AlternateSignInName  \\\n",
       "0                                                         \n",
       "1    Sync_DC01_3862ce34675f@seccxpninja.onmicrosoft.com   \n",
       "2  Sync_AADCON_a5225d32ba79@seccxpninja.onmicrosoft.com   \n",
       "3                                                         \n",
       "4    Sync_DC01_3862ce34675f@seccxpninja.onmicrosoft.com   \n",
       "\n",
       "                             AppDisplayName  \\\n",
       "0                              Azure Portal   \n",
       "1  Microsoft Azure Active Directory Connect   \n",
       "2  Microsoft Azure Active Directory Connect   \n",
       "3          Azure Advanced Threat Protection   \n",
       "4  Microsoft Azure Active Directory Connect   \n",
       "\n",
       "                                  AppId  \\\n",
       "0  c44b4083-3bb0-49c1-b47d-974e53cbdf3c   \n",
       "1  cb1056e2-e479-49de-ae31-7812af012ed8   \n",
       "2  cb1056e2-e479-49de-ae31-7812af012ed8   \n",
       "3  7b7531ad-5926-4f2d-8a1d-38495ad33e17   \n",
       "4  cb1056e2-e479-49de-ae31-7812af012ed8   \n",
       "\n",
       "                                                                                 AuthenticationDetails  \\\n",
       "0  [\\r\\n  {\\r\\n    \"authenticationStepDateTime\": \"2021-07-19T06:01:09.7962388+00:00\",\\r\\n    \"authe...   \n",
       "1  [\\r\\n  {\\r\\n    \"authenticationStepDateTime\": \"2021-07-17T22:58:11.5949064+00:00\",\\r\\n    \"authe...   \n",
       "2  [\\r\\n  {\\r\\n    \"authenticationStepDateTime\": \"2021-07-17T22:59:56.029704+00:00\",\\r\\n    \"authen...   \n",
       "3  [\\r\\n  {\\r\\n    \"authenticationStepDateTime\": \"2021-07-17T23:07:55.2164891+00:00\",\\r\\n    \"authe...   \n",
       "4  [\\r\\n  {\\r\\n    \"authenticationStepDateTime\": \"2021-07-17T23:58:11.231418+00:00\",\\r\\n    \"authen...   \n",
       "\n",
       "  AuthenticationMethodsUsed  \\\n",
       "0                             \n",
       "1                             \n",
       "2                             \n",
       "3                             \n",
       "4                             \n",
       "\n",
       "                                            AuthenticationProcessingDetails  \\\n",
       "0  [\\r\\n  {\\r\\n    \"key\": \"IsCAEToken\",\\r\\n    \"value\": \"False\"\\r\\n  }\\r\\n]   \n",
       "1  [\\r\\n  {\\r\\n    \"key\": \"IsCAEToken\",\\r\\n    \"value\": \"False\"\\r\\n  }\\r\\n]   \n",
       "2  [\\r\\n  {\\r\\n    \"key\": \"IsCAEToken\",\\r\\n    \"value\": \"False\"\\r\\n  }\\r\\n]   \n",
       "3  [\\r\\n  {\\r\\n    \"key\": \"IsCAEToken\",\\r\\n    \"value\": \"False\"\\r\\n  }\\r\\n]   \n",
       "4  [\\r\\n  {\\r\\n    \"key\": \"IsCAEToken\",\\r\\n    \"value\": \"False\"\\r\\n  }\\r\\n]   \n",
       "\n",
       "    AuthenticationRequirement  ... RiskLevelDuringSignIn RiskState  \\\n",
       "0  singleFactorAuthentication  ...                  none      none   \n",
       "1  singleFactorAuthentication  ...                  none      none   \n",
       "2  singleFactorAuthentication  ...                  none      none   \n",
       "3   multiFactorAuthentication  ...                  none      none   \n",
       "4  singleFactorAuthentication  ...                  none      none   \n",
       "\n",
       "                    ResourceDisplayName                      ResourceIdentity  \\\n",
       "0  Windows Azure Service Management API  797f4846-ba00-4fd7-ba43-dac1f8f63013   \n",
       "1        Windows Azure Active Directory  00000002-0000-0000-c000-000000000000   \n",
       "2        Windows Azure Active Directory  00000002-0000-0000-c000-000000000000   \n",
       "3      Azure Advanced Threat Protection  7b7531ad-5926-4f2d-8a1d-38495ad33e17   \n",
       "4        Windows Azure Active Directory  00000002-0000-0000-c000-000000000000   \n",
       "\n",
       "  ServicePrincipalId ServicePrincipalName  \\\n",
       "0                                           \n",
       "1                                           \n",
       "2                                           \n",
       "3                                           \n",
       "4                                           \n",
       "\n",
       "                                                                                     Status  \\\n",
       "0                                                                          {'errorCode': 0}   \n",
       "1                                                                          {'errorCode': 0}   \n",
       "2                                                                          {'errorCode': 0}   \n",
       "3  {'errorCode': 0, 'additionalDetails': 'MFA requirement satisfied by claim in the token'}   \n",
       "4                                                                          {'errorCode': 0}   \n",
       "\n",
       "  TokenIssuerName TokenIssuerType  \\\n",
       "0                         AzureAD   \n",
       "1                         AzureAD   \n",
       "2                         AzureAD   \n",
       "3                         AzureAD   \n",
       "4                         AzureAD   \n",
       "\n",
       "                                                                                             UserAgent  \\\n",
       "0  Mozilla/5.0 (Windows NT 10.0; Win64; x64) AppleWebKit/537.36 (KHTML, like Gecko) Chrome/91.0.447...   \n",
       "1                                                                                                        \n",
       "2                                                                                                        \n",
       "3  Mozilla/5.0 (Windows NT 10.0; Win64; x64) AppleWebKit/537.36 (KHTML, like Gecko) Chrome/91.0.447...   \n",
       "4                                                                                                        \n",
       "\n",
       "                                         UserDisplayName  \\\n",
       "0                                             Bishal Das   \n",
       "1  On-Premises Directory Synchronization Service Account   \n",
       "2  On-Premises Directory Synchronization Service Account   \n",
       "3                            Chris Boehm Service Account   \n",
       "4  On-Premises Directory Synchronization Service Account   \n",
       "\n",
       "                                 UserId  \\\n",
       "0  9600503a-5321-443d-b40e-64e8ca3d908c   \n",
       "1  ee856d98-cecd-4dbe-8833-bdeec67847d0   \n",
       "2  2235a468-ad9c-4375-8008-0a7be76994a7   \n",
       "3  e82b6fce-5774-4bde-9532-922a0f984ccf   \n",
       "4  ee856d98-cecd-4dbe-8833-bdeec67847d0   \n",
       "\n",
       "                                      UserPrincipalName  \\\n",
       "0                          bishal.das@happiestminds.com   \n",
       "1    sync_dc01_3862ce34675f@seccxpninja.onmicrosoft.com   \n",
       "2  sync_aadcon_a5225d32ba79@seccxpninja.onmicrosoft.com   \n",
       "3                  cboehmsa@seccxpninja.onmicrosoft.com   \n",
       "4    sync_dc01_3862ce34675f@seccxpninja.onmicrosoft.com   \n",
       "\n",
       "                            AADTenantId UserType FlaggedForReview  \\\n",
       "0  4b2462a4-bbee-495a-a0e1-f23ae524cc9c    Guest             None   \n",
       "1  4b2462a4-bbee-495a-a0e1-f23ae524cc9c   Member             None   \n",
       "2  4b2462a4-bbee-495a-a0e1-f23ae524cc9c   Member             None   \n",
       "3  4b2462a4-bbee-495a-a0e1-f23ae524cc9c   Member             None   \n",
       "4  4b2462a4-bbee-495a-a0e1-f23ae524cc9c   Member             None   \n",
       "\n",
       "  IPAddressFromResourceProvider  \\\n",
       "0                                 \n",
       "1                                 \n",
       "2                                 \n",
       "3                                 \n",
       "4                                 \n",
       "\n",
       "                                       SignInIdentifier SignInIdentifierType  \\\n",
       "0                                                                              \n",
       "1    Sync_DC01_3862ce34675f@seccxpninja.onmicrosoft.com                        \n",
       "2  Sync_AADCON_a5225d32ba79@seccxpninja.onmicrosoft.com                        \n",
       "3                                                                              \n",
       "4    Sync_DC01_3862ce34675f@seccxpninja.onmicrosoft.com                        \n",
       "\n",
       "                       ResourceTenantId                          HomeTenantId  \\\n",
       "0  4b2462a4-bbee-495a-a0e1-f23ae524cc9c  77428205-87ff-4048-a645-91b337240228   \n",
       "1  4b2462a4-bbee-495a-a0e1-f23ae524cc9c  4b2462a4-bbee-495a-a0e1-f23ae524cc9c   \n",
       "2  4b2462a4-bbee-495a-a0e1-f23ae524cc9c  4b2462a4-bbee-495a-a0e1-f23ae524cc9c   \n",
       "3  4b2462a4-bbee-495a-a0e1-f23ae524cc9c  4b2462a4-bbee-495a-a0e1-f23ae524cc9c   \n",
       "4  4b2462a4-bbee-495a-a0e1-f23ae524cc9c  4b2462a4-bbee-495a-a0e1-f23ae524cc9c   \n",
       "\n",
       "         Type  Result           Latitude           Longitude  \n",
       "0  SigninLogs  Sucess  28.51129913330078   77.36689758300781  \n",
       "1  SigninLogs  Sucess   38.7130012512207  -78.15899658203125  \n",
       "2  SigninLogs  Sucess   38.7130012512207  -78.15899658203125  \n",
       "3  SigninLogs  Sucess  35.03216934204102  -80.96587371826172  \n",
       "4  SigninLogs  Sucess   38.7130012512207  -78.15899658203125  \n",
       "\n",
       "[5 rows x 69 columns]"
      ],
      "text/html": [
       "<div>\n",
       "<style scoped>\n",
       "    .dataframe tbody tr th:only-of-type {\n",
       "        vertical-align: middle;\n",
       "    }\n",
       "\n",
       "    .dataframe tbody tr th {\n",
       "        vertical-align: top;\n",
       "    }\n",
       "\n",
       "    .dataframe thead th {\n",
       "        text-align: right;\n",
       "    }\n",
       "</style>\n",
       "<table border=\"1\" class=\"dataframe\">\n",
       "  <thead>\n",
       "    <tr style=\"text-align: right;\">\n",
       "      <th></th>\n",
       "      <th>TenantId</th>\n",
       "      <th>SourceSystem</th>\n",
       "      <th>TimeGenerated</th>\n",
       "      <th>ResourceId</th>\n",
       "      <th>OperationName</th>\n",
       "      <th>OperationVersion</th>\n",
       "      <th>Category</th>\n",
       "      <th>ResultType</th>\n",
       "      <th>ResultSignature</th>\n",
       "      <th>ResultDescription</th>\n",
       "      <th>DurationMs</th>\n",
       "      <th>CorrelationId</th>\n",
       "      <th>Resource</th>\n",
       "      <th>ResourceGroup</th>\n",
       "      <th>ResourceProvider</th>\n",
       "      <th>Identity</th>\n",
       "      <th>Level</th>\n",
       "      <th>Location</th>\n",
       "      <th>AlternateSignInName</th>\n",
       "      <th>AppDisplayName</th>\n",
       "      <th>AppId</th>\n",
       "      <th>AuthenticationDetails</th>\n",
       "      <th>AuthenticationMethodsUsed</th>\n",
       "      <th>AuthenticationProcessingDetails</th>\n",
       "      <th>AuthenticationRequirement</th>\n",
       "      <th>...</th>\n",
       "      <th>RiskLevelDuringSignIn</th>\n",
       "      <th>RiskState</th>\n",
       "      <th>ResourceDisplayName</th>\n",
       "      <th>ResourceIdentity</th>\n",
       "      <th>ServicePrincipalId</th>\n",
       "      <th>ServicePrincipalName</th>\n",
       "      <th>Status</th>\n",
       "      <th>TokenIssuerName</th>\n",
       "      <th>TokenIssuerType</th>\n",
       "      <th>UserAgent</th>\n",
       "      <th>UserDisplayName</th>\n",
       "      <th>UserId</th>\n",
       "      <th>UserPrincipalName</th>\n",
       "      <th>AADTenantId</th>\n",
       "      <th>UserType</th>\n",
       "      <th>FlaggedForReview</th>\n",
       "      <th>IPAddressFromResourceProvider</th>\n",
       "      <th>SignInIdentifier</th>\n",
       "      <th>SignInIdentifierType</th>\n",
       "      <th>ResourceTenantId</th>\n",
       "      <th>HomeTenantId</th>\n",
       "      <th>Type</th>\n",
       "      <th>Result</th>\n",
       "      <th>Latitude</th>\n",
       "      <th>Longitude</th>\n",
       "    </tr>\n",
       "  </thead>\n",
       "  <tbody>\n",
       "    <tr>\n",
       "      <th>0</th>\n",
       "      <td>8ecf8077-cf51-4820-aadd-14040956f35d</td>\n",
       "      <td>Azure AD</td>\n",
       "      <td>2021-07-19 06:01:09.796000+00:00</td>\n",
       "      <td>/tenants/4b2462a4-bbee-495a-a0e1-f23ae524cc9c/providers/Microsoft.aadiam</td>\n",
       "      <td>Sign-in activity</td>\n",
       "      <td>1.0</td>\n",
       "      <td>SignInLogs</td>\n",
       "      <td>0</td>\n",
       "      <td>None</td>\n",
       "      <td></td>\n",
       "      <td>0</td>\n",
       "      <td>1f7b2f6a-2a9c-4de6-80bf-098e40102b5b</td>\n",
       "      <td>Microsoft.aadiam</td>\n",
       "      <td>Microsoft.aadiam</td>\n",
       "      <td></td>\n",
       "      <td>Bishal Das</td>\n",
       "      <td>4</td>\n",
       "      <td>IN</td>\n",
       "      <td></td>\n",
       "      <td>Azure Portal</td>\n",
       "      <td>c44b4083-3bb0-49c1-b47d-974e53cbdf3c</td>\n",
       "      <td>[\\r\\n  {\\r\\n    \"authenticationStepDateTime\": \"2021-07-19T06:01:09.7962388+00:00\",\\r\\n    \"authe...</td>\n",
       "      <td></td>\n",
       "      <td>[\\r\\n  {\\r\\n    \"key\": \"IsCAEToken\",\\r\\n    \"value\": \"False\"\\r\\n  }\\r\\n]</td>\n",
       "      <td>singleFactorAuthentication</td>\n",
       "      <td>...</td>\n",
       "      <td>none</td>\n",
       "      <td>none</td>\n",
       "      <td>Windows Azure Service Management API</td>\n",
       "      <td>797f4846-ba00-4fd7-ba43-dac1f8f63013</td>\n",
       "      <td></td>\n",
       "      <td></td>\n",
       "      <td>{'errorCode': 0}</td>\n",
       "      <td></td>\n",
       "      <td>AzureAD</td>\n",
       "      <td>Mozilla/5.0 (Windows NT 10.0; Win64; x64) AppleWebKit/537.36 (KHTML, like Gecko) Chrome/91.0.447...</td>\n",
       "      <td>Bishal Das</td>\n",
       "      <td>9600503a-5321-443d-b40e-64e8ca3d908c</td>\n",
       "      <td>bishal.das@happiestminds.com</td>\n",
       "      <td>4b2462a4-bbee-495a-a0e1-f23ae524cc9c</td>\n",
       "      <td>Guest</td>\n",
       "      <td>None</td>\n",
       "      <td></td>\n",
       "      <td></td>\n",
       "      <td></td>\n",
       "      <td>4b2462a4-bbee-495a-a0e1-f23ae524cc9c</td>\n",
       "      <td>77428205-87ff-4048-a645-91b337240228</td>\n",
       "      <td>SigninLogs</td>\n",
       "      <td>Sucess</td>\n",
       "      <td>28.51129913330078</td>\n",
       "      <td>77.36689758300781</td>\n",
       "    </tr>\n",
       "    <tr>\n",
       "      <th>1</th>\n",
       "      <td>8ecf8077-cf51-4820-aadd-14040956f35d</td>\n",
       "      <td>Azure AD</td>\n",
       "      <td>2021-07-17 22:58:11.594000+00:00</td>\n",
       "      <td>/tenants/4b2462a4-bbee-495a-a0e1-f23ae524cc9c/providers/Microsoft.aadiam</td>\n",
       "      <td>Sign-in activity</td>\n",
       "      <td>1.0</td>\n",
       "      <td>SignInLogs</td>\n",
       "      <td>0</td>\n",
       "      <td>None</td>\n",
       "      <td></td>\n",
       "      <td>0</td>\n",
       "      <td>47d913c5-8137-4945-b68b-01257a75c843</td>\n",
       "      <td>Microsoft.aadiam</td>\n",
       "      <td>Microsoft.aadiam</td>\n",
       "      <td></td>\n",
       "      <td>On-Premises Directory Synchronization Service Account</td>\n",
       "      <td>4</td>\n",
       "      <td>US</td>\n",
       "      <td>Sync_DC01_3862ce34675f@seccxpninja.onmicrosoft.com</td>\n",
       "      <td>Microsoft Azure Active Directory Connect</td>\n",
       "      <td>cb1056e2-e479-49de-ae31-7812af012ed8</td>\n",
       "      <td>[\\r\\n  {\\r\\n    \"authenticationStepDateTime\": \"2021-07-17T22:58:11.5949064+00:00\",\\r\\n    \"authe...</td>\n",
       "      <td></td>\n",
       "      <td>[\\r\\n  {\\r\\n    \"key\": \"IsCAEToken\",\\r\\n    \"value\": \"False\"\\r\\n  }\\r\\n]</td>\n",
       "      <td>singleFactorAuthentication</td>\n",
       "      <td>...</td>\n",
       "      <td>none</td>\n",
       "      <td>none</td>\n",
       "      <td>Windows Azure Active Directory</td>\n",
       "      <td>00000002-0000-0000-c000-000000000000</td>\n",
       "      <td></td>\n",
       "      <td></td>\n",
       "      <td>{'errorCode': 0}</td>\n",
       "      <td></td>\n",
       "      <td>AzureAD</td>\n",
       "      <td></td>\n",
       "      <td>On-Premises Directory Synchronization Service Account</td>\n",
       "      <td>ee856d98-cecd-4dbe-8833-bdeec67847d0</td>\n",
       "      <td>sync_dc01_3862ce34675f@seccxpninja.onmicrosoft.com</td>\n",
       "      <td>4b2462a4-bbee-495a-a0e1-f23ae524cc9c</td>\n",
       "      <td>Member</td>\n",
       "      <td>None</td>\n",
       "      <td></td>\n",
       "      <td>Sync_DC01_3862ce34675f@seccxpninja.onmicrosoft.com</td>\n",
       "      <td></td>\n",
       "      <td>4b2462a4-bbee-495a-a0e1-f23ae524cc9c</td>\n",
       "      <td>4b2462a4-bbee-495a-a0e1-f23ae524cc9c</td>\n",
       "      <td>SigninLogs</td>\n",
       "      <td>Sucess</td>\n",
       "      <td>38.7130012512207</td>\n",
       "      <td>-78.15899658203125</td>\n",
       "    </tr>\n",
       "    <tr>\n",
       "      <th>2</th>\n",
       "      <td>8ecf8077-cf51-4820-aadd-14040956f35d</td>\n",
       "      <td>Azure AD</td>\n",
       "      <td>2021-07-17 22:59:56.029000+00:00</td>\n",
       "      <td>/tenants/4b2462a4-bbee-495a-a0e1-f23ae524cc9c/providers/Microsoft.aadiam</td>\n",
       "      <td>Sign-in activity</td>\n",
       "      <td>1.0</td>\n",
       "      <td>SignInLogs</td>\n",
       "      <td>0</td>\n",
       "      <td>None</td>\n",
       "      <td></td>\n",
       "      <td>0</td>\n",
       "      <td>f1990929-a748-460d-bd08-158853d18a51</td>\n",
       "      <td>Microsoft.aadiam</td>\n",
       "      <td>Microsoft.aadiam</td>\n",
       "      <td></td>\n",
       "      <td>On-Premises Directory Synchronization Service Account</td>\n",
       "      <td>4</td>\n",
       "      <td>US</td>\n",
       "      <td>Sync_AADCON_a5225d32ba79@seccxpninja.onmicrosoft.com</td>\n",
       "      <td>Microsoft Azure Active Directory Connect</td>\n",
       "      <td>cb1056e2-e479-49de-ae31-7812af012ed8</td>\n",
       "      <td>[\\r\\n  {\\r\\n    \"authenticationStepDateTime\": \"2021-07-17T22:59:56.029704+00:00\",\\r\\n    \"authen...</td>\n",
       "      <td></td>\n",
       "      <td>[\\r\\n  {\\r\\n    \"key\": \"IsCAEToken\",\\r\\n    \"value\": \"False\"\\r\\n  }\\r\\n]</td>\n",
       "      <td>singleFactorAuthentication</td>\n",
       "      <td>...</td>\n",
       "      <td>none</td>\n",
       "      <td>none</td>\n",
       "      <td>Windows Azure Active Directory</td>\n",
       "      <td>00000002-0000-0000-c000-000000000000</td>\n",
       "      <td></td>\n",
       "      <td></td>\n",
       "      <td>{'errorCode': 0}</td>\n",
       "      <td></td>\n",
       "      <td>AzureAD</td>\n",
       "      <td></td>\n",
       "      <td>On-Premises Directory Synchronization Service Account</td>\n",
       "      <td>2235a468-ad9c-4375-8008-0a7be76994a7</td>\n",
       "      <td>sync_aadcon_a5225d32ba79@seccxpninja.onmicrosoft.com</td>\n",
       "      <td>4b2462a4-bbee-495a-a0e1-f23ae524cc9c</td>\n",
       "      <td>Member</td>\n",
       "      <td>None</td>\n",
       "      <td></td>\n",
       "      <td>Sync_AADCON_a5225d32ba79@seccxpninja.onmicrosoft.com</td>\n",
       "      <td></td>\n",
       "      <td>4b2462a4-bbee-495a-a0e1-f23ae524cc9c</td>\n",
       "      <td>4b2462a4-bbee-495a-a0e1-f23ae524cc9c</td>\n",
       "      <td>SigninLogs</td>\n",
       "      <td>Sucess</td>\n",
       "      <td>38.7130012512207</td>\n",
       "      <td>-78.15899658203125</td>\n",
       "    </tr>\n",
       "    <tr>\n",
       "      <th>3</th>\n",
       "      <td>8ecf8077-cf51-4820-aadd-14040956f35d</td>\n",
       "      <td>Azure AD</td>\n",
       "      <td>2021-07-17 23:07:55.216000+00:00</td>\n",
       "      <td>/tenants/4b2462a4-bbee-495a-a0e1-f23ae524cc9c/providers/Microsoft.aadiam</td>\n",
       "      <td>Sign-in activity</td>\n",
       "      <td>1.0</td>\n",
       "      <td>SignInLogs</td>\n",
       "      <td>0</td>\n",
       "      <td>None</td>\n",
       "      <td></td>\n",
       "      <td>0</td>\n",
       "      <td>5af6e26e-a38c-4816-9a10-ec7c762f59fe</td>\n",
       "      <td>Microsoft.aadiam</td>\n",
       "      <td>Microsoft.aadiam</td>\n",
       "      <td></td>\n",
       "      <td>Chris Boehm Service Account</td>\n",
       "      <td>4</td>\n",
       "      <td>US</td>\n",
       "      <td></td>\n",
       "      <td>Azure Advanced Threat Protection</td>\n",
       "      <td>7b7531ad-5926-4f2d-8a1d-38495ad33e17</td>\n",
       "      <td>[\\r\\n  {\\r\\n    \"authenticationStepDateTime\": \"2021-07-17T23:07:55.2164891+00:00\",\\r\\n    \"authe...</td>\n",
       "      <td></td>\n",
       "      <td>[\\r\\n  {\\r\\n    \"key\": \"IsCAEToken\",\\r\\n    \"value\": \"False\"\\r\\n  }\\r\\n]</td>\n",
       "      <td>multiFactorAuthentication</td>\n",
       "      <td>...</td>\n",
       "      <td>none</td>\n",
       "      <td>none</td>\n",
       "      <td>Azure Advanced Threat Protection</td>\n",
       "      <td>7b7531ad-5926-4f2d-8a1d-38495ad33e17</td>\n",
       "      <td></td>\n",
       "      <td></td>\n",
       "      <td>{'errorCode': 0, 'additionalDetails': 'MFA requirement satisfied by claim in the token'}</td>\n",
       "      <td></td>\n",
       "      <td>AzureAD</td>\n",
       "      <td>Mozilla/5.0 (Windows NT 10.0; Win64; x64) AppleWebKit/537.36 (KHTML, like Gecko) Chrome/91.0.447...</td>\n",
       "      <td>Chris Boehm Service Account</td>\n",
       "      <td>e82b6fce-5774-4bde-9532-922a0f984ccf</td>\n",
       "      <td>cboehmsa@seccxpninja.onmicrosoft.com</td>\n",
       "      <td>4b2462a4-bbee-495a-a0e1-f23ae524cc9c</td>\n",
       "      <td>Member</td>\n",
       "      <td>None</td>\n",
       "      <td></td>\n",
       "      <td></td>\n",
       "      <td></td>\n",
       "      <td>4b2462a4-bbee-495a-a0e1-f23ae524cc9c</td>\n",
       "      <td>4b2462a4-bbee-495a-a0e1-f23ae524cc9c</td>\n",
       "      <td>SigninLogs</td>\n",
       "      <td>Sucess</td>\n",
       "      <td>35.03216934204102</td>\n",
       "      <td>-80.96587371826172</td>\n",
       "    </tr>\n",
       "    <tr>\n",
       "      <th>4</th>\n",
       "      <td>8ecf8077-cf51-4820-aadd-14040956f35d</td>\n",
       "      <td>Azure AD</td>\n",
       "      <td>2021-07-17 23:58:11.231000+00:00</td>\n",
       "      <td>/tenants/4b2462a4-bbee-495a-a0e1-f23ae524cc9c/providers/Microsoft.aadiam</td>\n",
       "      <td>Sign-in activity</td>\n",
       "      <td>1.0</td>\n",
       "      <td>SignInLogs</td>\n",
       "      <td>0</td>\n",
       "      <td>None</td>\n",
       "      <td></td>\n",
       "      <td>0</td>\n",
       "      <td>2c23cf22-1af2-4e2d-ba36-95e96f00e454</td>\n",
       "      <td>Microsoft.aadiam</td>\n",
       "      <td>Microsoft.aadiam</td>\n",
       "      <td></td>\n",
       "      <td>On-Premises Directory Synchronization Service Account</td>\n",
       "      <td>4</td>\n",
       "      <td>US</td>\n",
       "      <td>Sync_DC01_3862ce34675f@seccxpninja.onmicrosoft.com</td>\n",
       "      <td>Microsoft Azure Active Directory Connect</td>\n",
       "      <td>cb1056e2-e479-49de-ae31-7812af012ed8</td>\n",
       "      <td>[\\r\\n  {\\r\\n    \"authenticationStepDateTime\": \"2021-07-17T23:58:11.231418+00:00\",\\r\\n    \"authen...</td>\n",
       "      <td></td>\n",
       "      <td>[\\r\\n  {\\r\\n    \"key\": \"IsCAEToken\",\\r\\n    \"value\": \"False\"\\r\\n  }\\r\\n]</td>\n",
       "      <td>singleFactorAuthentication</td>\n",
       "      <td>...</td>\n",
       "      <td>none</td>\n",
       "      <td>none</td>\n",
       "      <td>Windows Azure Active Directory</td>\n",
       "      <td>00000002-0000-0000-c000-000000000000</td>\n",
       "      <td></td>\n",
       "      <td></td>\n",
       "      <td>{'errorCode': 0}</td>\n",
       "      <td></td>\n",
       "      <td>AzureAD</td>\n",
       "      <td></td>\n",
       "      <td>On-Premises Directory Synchronization Service Account</td>\n",
       "      <td>ee856d98-cecd-4dbe-8833-bdeec67847d0</td>\n",
       "      <td>sync_dc01_3862ce34675f@seccxpninja.onmicrosoft.com</td>\n",
       "      <td>4b2462a4-bbee-495a-a0e1-f23ae524cc9c</td>\n",
       "      <td>Member</td>\n",
       "      <td>None</td>\n",
       "      <td></td>\n",
       "      <td>Sync_DC01_3862ce34675f@seccxpninja.onmicrosoft.com</td>\n",
       "      <td></td>\n",
       "      <td>4b2462a4-bbee-495a-a0e1-f23ae524cc9c</td>\n",
       "      <td>4b2462a4-bbee-495a-a0e1-f23ae524cc9c</td>\n",
       "      <td>SigninLogs</td>\n",
       "      <td>Sucess</td>\n",
       "      <td>38.7130012512207</td>\n",
       "      <td>-78.15899658203125</td>\n",
       "    </tr>\n",
       "  </tbody>\n",
       "</table>\n",
       "<p>5 rows × 69 columns</p>\n",
       "</div>"
      ]
     },
     "metadata": {},
     "execution_count": 14
    }
   ],
   "metadata": {}
  },
  {
   "cell_type": "markdown",
   "source": [
    "## Customizable queries\r\n",
    "\r\n",
    "Most built-in queries support the \"add_query_items\" parameter.\r\n",
    "You can use this to append additional filters or other operations to the built-in queries.\r\n",
    "\r\n",
    "Azure Sentinel queries use the Kusto Query Language (KQL).\r\n",
    "\r\n",
    "<div style=border: solid; padding: 5pt\"><b>Note:</b>\r\n",
    "If this query returns too many or too few results you can change the \"28\"\r\n",
    "in the query below to a smaller or larger number of days.\r\n",
    "</div>\r\n",
    "<br>\r\n",
    "\r\n",
    "<details>\r\n",
    "    <summary>Learn more about KQL query syntax...</summary>\r\n",
    "    <p>\r\n",
    "    <a href=https://aka.ms/kql >Kusto Query Language reference</a><br>\r\n",
    "    </p>\r\n",
    "</details>\r\n",
    "<br>\r\n"
   ],
   "metadata": {}
  },
  {
   "cell_type": "code",
   "execution_count": 15,
   "source": [
    "from datetime import datetime, timedelta\n",
    "\n",
    "qry_prov.SecurityAlert.list_alerts(\n",
    "    start=datetime.utcnow() - timedelta(28),\n",
    "    end=datetime.utcnow(),\n",
    "    add_query_items=\"| summarize NumAlerts=count() by AlertName\"\n",
    ")"
   ],
   "outputs": [
    {
     "output_type": "display_data",
     "data": {
      "text/plain": [
       "<IPython.core.display.Javascript object>"
      ],
      "application/javascript": "try {IPython.notebook.kernel.execute(\"NOTEBOOK_URL = '\" + window.location + \"'\");} catch(err) {;}"
     },
     "metadata": {}
    },
    {
     "output_type": "execute_result",
     "data": {
      "text/plain": [
       "                                                                                      AlertName  \\\n",
       "0                                                           Suspected brute-force attack (LDAP)   \n",
       "1                                                                      Potential Password Spray   \n",
       "2                                           LateralMovement_EWSCompromisedIOT-CustomGBBAnalytic   \n",
       "3                                                      PrivilegeEscalationIOT-CustomGBBAnalytic   \n",
       "4                                           LateralMovement_PCNCompromisedIOT-CustomGBBAnalytic   \n",
       "..                                                                                          ...   \n",
       "199                                       Suspicious 'PowershellInjection' behavior was blocked   \n",
       "200                                                                   Anomalous account lookups   \n",
       "201  Suspected Windows Print Spooler service exploitation attempt (CVE-2021-34527 exploitation)   \n",
       "202                                            Suspicious granting of permissions to an account   \n",
       "203                                       Suspicious granting of permissions to an account_Hoso   \n",
       "\n",
       "     NumAlerts  \n",
       "0         1207  \n",
       "1          138  \n",
       "2            4  \n",
       "3            4  \n",
       "4            4  \n",
       "..         ...  \n",
       "199          2  \n",
       "200          1  \n",
       "201          4  \n",
       "202          1  \n",
       "203          1  \n",
       "\n",
       "[204 rows x 2 columns]"
      ],
      "text/html": [
       "<div>\n",
       "<style scoped>\n",
       "    .dataframe tbody tr th:only-of-type {\n",
       "        vertical-align: middle;\n",
       "    }\n",
       "\n",
       "    .dataframe tbody tr th {\n",
       "        vertical-align: top;\n",
       "    }\n",
       "\n",
       "    .dataframe thead th {\n",
       "        text-align: right;\n",
       "    }\n",
       "</style>\n",
       "<table border=\"1\" class=\"dataframe\">\n",
       "  <thead>\n",
       "    <tr style=\"text-align: right;\">\n",
       "      <th></th>\n",
       "      <th>AlertName</th>\n",
       "      <th>NumAlerts</th>\n",
       "    </tr>\n",
       "  </thead>\n",
       "  <tbody>\n",
       "    <tr>\n",
       "      <th>0</th>\n",
       "      <td>Suspected brute-force attack (LDAP)</td>\n",
       "      <td>1207</td>\n",
       "    </tr>\n",
       "    <tr>\n",
       "      <th>1</th>\n",
       "      <td>Potential Password Spray</td>\n",
       "      <td>138</td>\n",
       "    </tr>\n",
       "    <tr>\n",
       "      <th>2</th>\n",
       "      <td>LateralMovement_EWSCompromisedIOT-CustomGBBAnalytic</td>\n",
       "      <td>4</td>\n",
       "    </tr>\n",
       "    <tr>\n",
       "      <th>3</th>\n",
       "      <td>PrivilegeEscalationIOT-CustomGBBAnalytic</td>\n",
       "      <td>4</td>\n",
       "    </tr>\n",
       "    <tr>\n",
       "      <th>4</th>\n",
       "      <td>LateralMovement_PCNCompromisedIOT-CustomGBBAnalytic</td>\n",
       "      <td>4</td>\n",
       "    </tr>\n",
       "    <tr>\n",
       "      <th>...</th>\n",
       "      <td>...</td>\n",
       "      <td>...</td>\n",
       "    </tr>\n",
       "    <tr>\n",
       "      <th>199</th>\n",
       "      <td>Suspicious 'PowershellInjection' behavior was blocked</td>\n",
       "      <td>2</td>\n",
       "    </tr>\n",
       "    <tr>\n",
       "      <th>200</th>\n",
       "      <td>Anomalous account lookups</td>\n",
       "      <td>1</td>\n",
       "    </tr>\n",
       "    <tr>\n",
       "      <th>201</th>\n",
       "      <td>Suspected Windows Print Spooler service exploitation attempt (CVE-2021-34527 exploitation)</td>\n",
       "      <td>4</td>\n",
       "    </tr>\n",
       "    <tr>\n",
       "      <th>202</th>\n",
       "      <td>Suspicious granting of permissions to an account</td>\n",
       "      <td>1</td>\n",
       "    </tr>\n",
       "    <tr>\n",
       "      <th>203</th>\n",
       "      <td>Suspicious granting of permissions to an account_Hoso</td>\n",
       "      <td>1</td>\n",
       "    </tr>\n",
       "  </tbody>\n",
       "</table>\n",
       "<p>204 rows × 2 columns</p>\n",
       "</div>"
      ]
     },
     "metadata": {},
     "execution_count": 15
    }
   ],
   "metadata": {}
  },
  {
   "cell_type": "markdown",
   "source": [
    "## Custom queries\r\n",
    "\r\n",
    "Another way to run queries is to pass a full KQL query string to the query provider.\r\n",
    "\r\n",
    "This will run the query against the workspace connected to above, and will return the data \r\n",
    "as DataFrame.\r\n"
   ],
   "metadata": {}
  },
  {
   "cell_type": "code",
   "execution_count": 16,
   "source": [
    "# Define our query\n",
    "test_query = \"\"\"\n",
    "OfficeActivity\n",
    "| where TimeGenerated > ago(1d)\n",
    "| take 10\n",
    "\"\"\"\n",
    "\n",
    "# Pass that query to our QueryProvider\n",
    "office_events_df = qry_prov.exec_query(test_query)\n",
    "display(office_events_df.head())\n"
   ],
   "outputs": [
    {
     "output_type": "display_data",
     "data": {
      "text/plain": [
       "<IPython.core.display.Javascript object>"
      ],
      "application/javascript": "try {IPython.notebook.kernel.execute(\"NOTEBOOK_URL = '\" + window.location + \"'\");} catch(err) {;}"
     },
     "metadata": {}
    },
    {
     "output_type": "display_data",
     "data": {
      "text/plain": [
       "                               TenantId Application UserDomain UserAgent  \\\n",
       "0  8ecf8077-cf51-4820-aadd-14040956f35d                                    \n",
       "1  8ecf8077-cf51-4820-aadd-14040956f35d                                    \n",
       "2  8ecf8077-cf51-4820-aadd-14040956f35d                                    \n",
       "3  8ecf8077-cf51-4820-aadd-14040956f35d                                    \n",
       "4  8ecf8077-cf51-4820-aadd-14040956f35d                                    \n",
       "\n",
       "      RecordType             TimeGenerated                    Operation  \\\n",
       "0             50 2021-07-22 01:03:05+00:00            MailItemsAccessed   \n",
       "1             50 2021-07-22 01:03:05+00:00            MailItemsAccessed   \n",
       "2             50 2021-07-22 01:03:05+00:00            MailItemsAccessed   \n",
       "3             50 2021-07-22 01:03:05+00:00            MailItemsAccessed   \n",
       "4  ExchangeAdmin 2021-07-22 01:06:47+00:00  Set-ConditionalAccessPolicy   \n",
       "\n",
       "                         OrganizationId                       OrganizationId_  \\\n",
       "0  4b2462a4-bbee-495a-a0e1-f23ae524cc9c  4b2462a4-bbee-495a-a0e1-f23ae524cc9c   \n",
       "1  4b2462a4-bbee-495a-a0e1-f23ae524cc9c  4b2462a4-bbee-495a-a0e1-f23ae524cc9c   \n",
       "2  4b2462a4-bbee-495a-a0e1-f23ae524cc9c  4b2462a4-bbee-495a-a0e1-f23ae524cc9c   \n",
       "3  4b2462a4-bbee-495a-a0e1-f23ae524cc9c  4b2462a4-bbee-495a-a0e1-f23ae524cc9c   \n",
       "4  4b2462a4-bbee-495a-a0e1-f23ae524cc9c  4b2462a4-bbee-495a-a0e1-f23ae524cc9c   \n",
       "\n",
       "  UserType  \\\n",
       "0  Regular   \n",
       "1  Regular   \n",
       "2  Regular   \n",
       "3  Regular   \n",
       "4  DcAdmin   \n",
       "\n",
       "                                                                      UserKey  \\\n",
       "0                                                            100320003F8A6FC7   \n",
       "1                                                            100320003F8A6FC7   \n",
       "2                                                            100320003F8A6FC7   \n",
       "3                                                            100320003F8A6FC7   \n",
       "4  NAMP221\\Administrator (Microsoft.Office.Datacenter.Torus.PowerShellWorker)   \n",
       "\n",
       "  OfficeWorkload ResultStatus ResultReasonType  \\\n",
       "0       Exchange    Succeeded        Succeeded   \n",
       "1       Exchange    Succeeded        Succeeded   \n",
       "2       Exchange    Succeeded        Succeeded   \n",
       "3       Exchange    Succeeded        Succeeded   \n",
       "4       Exchange         True             True   \n",
       "\n",
       "                                                     OfficeObjectId  \\\n",
       "0                                                                     \n",
       "1                                                                     \n",
       "2                                                                     \n",
       "3                                                                     \n",
       "4  seccxpninja.onmicrosoft.com\\8837fdaa-aaeb-4432-9622-43f6f583d583   \n",
       "\n",
       "                                                                       UserId  \\\n",
       "0                                                         MeganB@seccxp.ninja   \n",
       "1                                                         MeganB@seccxp.ninja   \n",
       "2                                                         MeganB@seccxp.ninja   \n",
       "3                                                         MeganB@seccxp.ninja   \n",
       "4  NAMP221\\Administrator (Microsoft.Office.Datacenter.Torus.PowerShellWorker)   \n",
       "\n",
       "                                                                      UserId_  \\\n",
       "0                                                         MeganB@seccxp.ninja   \n",
       "1                                                         MeganB@seccxp.ninja   \n",
       "2                                                         MeganB@seccxp.ninja   \n",
       "3                                                         MeganB@seccxp.ninja   \n",
       "4  NAMP221\\Administrator (Microsoft.Office.Datacenter.Torus.PowerShellWorker)   \n",
       "\n",
       "  ClientIP ClientIP_ Scope Site_ ItemType EventSource Source_Name  \\\n",
       "0                                                                   \n",
       "1                                                                   \n",
       "2                                                                   \n",
       "3                                                                   \n",
       "4                                                                   \n",
       "\n",
       "  MachineDomainInfo  ... ChannelType ChannelName ChannelGuid ExtraProperties  \\\n",
       "0                    ...                                                None   \n",
       "1                    ...                                                None   \n",
       "2                    ...                                                None   \n",
       "3                    ...                                                None   \n",
       "4                    ...                                                None   \n",
       "\n",
       "  AddOnType AddonName TabType Name OldValue NewValue ItemName ChatThreadId  \\\n",
       "0                                                                            \n",
       "1                                                                            \n",
       "2                                                                            \n",
       "3                                                                            \n",
       "4                                                                            \n",
       "\n",
       "  ChatName CommunicationType AADGroupId AddOnGuid AppDistributionMode  \\\n",
       "0                                                                       \n",
       "1                                                                       \n",
       "2                                                                       \n",
       "3                                                                       \n",
       "4                                                                       \n",
       "\n",
       "  TargetUserId OperationScope AzureADAppId  \\\n",
       "0                                            \n",
       "1                                            \n",
       "2                                            \n",
       "3                                            \n",
       "4                                            \n",
       "\n",
       "                                                                        OperationProperties  \\\n",
       "0  [{'Value': 'Bind', 'Name': 'MailAccessType'}, {'Value': 'False', 'Name': 'IsThrottled'}]   \n",
       "1  [{'Value': 'Bind', 'Name': 'MailAccessType'}, {'Value': 'False', 'Name': 'IsThrottled'}]   \n",
       "2  [{'Value': 'Bind', 'Name': 'MailAccessType'}, {'Value': 'False', 'Name': 'IsThrottled'}]   \n",
       "3  [{'Value': 'Bind', 'Name': 'MailAccessType'}, {'Value': 'False', 'Name': 'IsThrottled'}]   \n",
       "4                                                                                      None   \n",
       "\n",
       "                                  AppId ClientAppId            Type  \\\n",
       "0  414a677a-e50f-46ea-b89c-aebb8a9efbe2              OfficeActivity   \n",
       "1  414a677a-e50f-46ea-b89c-aebb8a9efbe2              OfficeActivity   \n",
       "2  414a677a-e50f-46ea-b89c-aebb8a9efbe2              OfficeActivity   \n",
       "3  414a677a-e50f-46ea-b89c-aebb8a9efbe2              OfficeActivity   \n",
       "4                                                    OfficeActivity   \n",
       "\n",
       "  _ResourceId  \n",
       "0              \n",
       "1              \n",
       "2              \n",
       "3              \n",
       "4              \n",
       "\n",
       "[5 rows x 131 columns]"
      ],
      "text/html": [
       "<div>\n",
       "<style scoped>\n",
       "    .dataframe tbody tr th:only-of-type {\n",
       "        vertical-align: middle;\n",
       "    }\n",
       "\n",
       "    .dataframe tbody tr th {\n",
       "        vertical-align: top;\n",
       "    }\n",
       "\n",
       "    .dataframe thead th {\n",
       "        text-align: right;\n",
       "    }\n",
       "</style>\n",
       "<table border=\"1\" class=\"dataframe\">\n",
       "  <thead>\n",
       "    <tr style=\"text-align: right;\">\n",
       "      <th></th>\n",
       "      <th>TenantId</th>\n",
       "      <th>Application</th>\n",
       "      <th>UserDomain</th>\n",
       "      <th>UserAgent</th>\n",
       "      <th>RecordType</th>\n",
       "      <th>TimeGenerated</th>\n",
       "      <th>Operation</th>\n",
       "      <th>OrganizationId</th>\n",
       "      <th>OrganizationId_</th>\n",
       "      <th>UserType</th>\n",
       "      <th>UserKey</th>\n",
       "      <th>OfficeWorkload</th>\n",
       "      <th>ResultStatus</th>\n",
       "      <th>ResultReasonType</th>\n",
       "      <th>OfficeObjectId</th>\n",
       "      <th>UserId</th>\n",
       "      <th>UserId_</th>\n",
       "      <th>ClientIP</th>\n",
       "      <th>ClientIP_</th>\n",
       "      <th>Scope</th>\n",
       "      <th>Site_</th>\n",
       "      <th>ItemType</th>\n",
       "      <th>EventSource</th>\n",
       "      <th>Source_Name</th>\n",
       "      <th>MachineDomainInfo</th>\n",
       "      <th>...</th>\n",
       "      <th>ChannelType</th>\n",
       "      <th>ChannelName</th>\n",
       "      <th>ChannelGuid</th>\n",
       "      <th>ExtraProperties</th>\n",
       "      <th>AddOnType</th>\n",
       "      <th>AddonName</th>\n",
       "      <th>TabType</th>\n",
       "      <th>Name</th>\n",
       "      <th>OldValue</th>\n",
       "      <th>NewValue</th>\n",
       "      <th>ItemName</th>\n",
       "      <th>ChatThreadId</th>\n",
       "      <th>ChatName</th>\n",
       "      <th>CommunicationType</th>\n",
       "      <th>AADGroupId</th>\n",
       "      <th>AddOnGuid</th>\n",
       "      <th>AppDistributionMode</th>\n",
       "      <th>TargetUserId</th>\n",
       "      <th>OperationScope</th>\n",
       "      <th>AzureADAppId</th>\n",
       "      <th>OperationProperties</th>\n",
       "      <th>AppId</th>\n",
       "      <th>ClientAppId</th>\n",
       "      <th>Type</th>\n",
       "      <th>_ResourceId</th>\n",
       "    </tr>\n",
       "  </thead>\n",
       "  <tbody>\n",
       "    <tr>\n",
       "      <th>0</th>\n",
       "      <td>8ecf8077-cf51-4820-aadd-14040956f35d</td>\n",
       "      <td></td>\n",
       "      <td></td>\n",
       "      <td></td>\n",
       "      <td>50</td>\n",
       "      <td>2021-07-22 01:03:05+00:00</td>\n",
       "      <td>MailItemsAccessed</td>\n",
       "      <td>4b2462a4-bbee-495a-a0e1-f23ae524cc9c</td>\n",
       "      <td>4b2462a4-bbee-495a-a0e1-f23ae524cc9c</td>\n",
       "      <td>Regular</td>\n",
       "      <td>100320003F8A6FC7</td>\n",
       "      <td>Exchange</td>\n",
       "      <td>Succeeded</td>\n",
       "      <td>Succeeded</td>\n",
       "      <td></td>\n",
       "      <td>MeganB@seccxp.ninja</td>\n",
       "      <td>MeganB@seccxp.ninja</td>\n",
       "      <td></td>\n",
       "      <td></td>\n",
       "      <td></td>\n",
       "      <td></td>\n",
       "      <td></td>\n",
       "      <td></td>\n",
       "      <td></td>\n",
       "      <td></td>\n",
       "      <td>...</td>\n",
       "      <td></td>\n",
       "      <td></td>\n",
       "      <td></td>\n",
       "      <td>None</td>\n",
       "      <td></td>\n",
       "      <td></td>\n",
       "      <td></td>\n",
       "      <td></td>\n",
       "      <td></td>\n",
       "      <td></td>\n",
       "      <td></td>\n",
       "      <td></td>\n",
       "      <td></td>\n",
       "      <td></td>\n",
       "      <td></td>\n",
       "      <td></td>\n",
       "      <td></td>\n",
       "      <td></td>\n",
       "      <td></td>\n",
       "      <td></td>\n",
       "      <td>[{'Value': 'Bind', 'Name': 'MailAccessType'}, {'Value': 'False', 'Name': 'IsThrottled'}]</td>\n",
       "      <td>414a677a-e50f-46ea-b89c-aebb8a9efbe2</td>\n",
       "      <td></td>\n",
       "      <td>OfficeActivity</td>\n",
       "      <td></td>\n",
       "    </tr>\n",
       "    <tr>\n",
       "      <th>1</th>\n",
       "      <td>8ecf8077-cf51-4820-aadd-14040956f35d</td>\n",
       "      <td></td>\n",
       "      <td></td>\n",
       "      <td></td>\n",
       "      <td>50</td>\n",
       "      <td>2021-07-22 01:03:05+00:00</td>\n",
       "      <td>MailItemsAccessed</td>\n",
       "      <td>4b2462a4-bbee-495a-a0e1-f23ae524cc9c</td>\n",
       "      <td>4b2462a4-bbee-495a-a0e1-f23ae524cc9c</td>\n",
       "      <td>Regular</td>\n",
       "      <td>100320003F8A6FC7</td>\n",
       "      <td>Exchange</td>\n",
       "      <td>Succeeded</td>\n",
       "      <td>Succeeded</td>\n",
       "      <td></td>\n",
       "      <td>MeganB@seccxp.ninja</td>\n",
       "      <td>MeganB@seccxp.ninja</td>\n",
       "      <td></td>\n",
       "      <td></td>\n",
       "      <td></td>\n",
       "      <td></td>\n",
       "      <td></td>\n",
       "      <td></td>\n",
       "      <td></td>\n",
       "      <td></td>\n",
       "      <td>...</td>\n",
       "      <td></td>\n",
       "      <td></td>\n",
       "      <td></td>\n",
       "      <td>None</td>\n",
       "      <td></td>\n",
       "      <td></td>\n",
       "      <td></td>\n",
       "      <td></td>\n",
       "      <td></td>\n",
       "      <td></td>\n",
       "      <td></td>\n",
       "      <td></td>\n",
       "      <td></td>\n",
       "      <td></td>\n",
       "      <td></td>\n",
       "      <td></td>\n",
       "      <td></td>\n",
       "      <td></td>\n",
       "      <td></td>\n",
       "      <td></td>\n",
       "      <td>[{'Value': 'Bind', 'Name': 'MailAccessType'}, {'Value': 'False', 'Name': 'IsThrottled'}]</td>\n",
       "      <td>414a677a-e50f-46ea-b89c-aebb8a9efbe2</td>\n",
       "      <td></td>\n",
       "      <td>OfficeActivity</td>\n",
       "      <td></td>\n",
       "    </tr>\n",
       "    <tr>\n",
       "      <th>2</th>\n",
       "      <td>8ecf8077-cf51-4820-aadd-14040956f35d</td>\n",
       "      <td></td>\n",
       "      <td></td>\n",
       "      <td></td>\n",
       "      <td>50</td>\n",
       "      <td>2021-07-22 01:03:05+00:00</td>\n",
       "      <td>MailItemsAccessed</td>\n",
       "      <td>4b2462a4-bbee-495a-a0e1-f23ae524cc9c</td>\n",
       "      <td>4b2462a4-bbee-495a-a0e1-f23ae524cc9c</td>\n",
       "      <td>Regular</td>\n",
       "      <td>100320003F8A6FC7</td>\n",
       "      <td>Exchange</td>\n",
       "      <td>Succeeded</td>\n",
       "      <td>Succeeded</td>\n",
       "      <td></td>\n",
       "      <td>MeganB@seccxp.ninja</td>\n",
       "      <td>MeganB@seccxp.ninja</td>\n",
       "      <td></td>\n",
       "      <td></td>\n",
       "      <td></td>\n",
       "      <td></td>\n",
       "      <td></td>\n",
       "      <td></td>\n",
       "      <td></td>\n",
       "      <td></td>\n",
       "      <td>...</td>\n",
       "      <td></td>\n",
       "      <td></td>\n",
       "      <td></td>\n",
       "      <td>None</td>\n",
       "      <td></td>\n",
       "      <td></td>\n",
       "      <td></td>\n",
       "      <td></td>\n",
       "      <td></td>\n",
       "      <td></td>\n",
       "      <td></td>\n",
       "      <td></td>\n",
       "      <td></td>\n",
       "      <td></td>\n",
       "      <td></td>\n",
       "      <td></td>\n",
       "      <td></td>\n",
       "      <td></td>\n",
       "      <td></td>\n",
       "      <td></td>\n",
       "      <td>[{'Value': 'Bind', 'Name': 'MailAccessType'}, {'Value': 'False', 'Name': 'IsThrottled'}]</td>\n",
       "      <td>414a677a-e50f-46ea-b89c-aebb8a9efbe2</td>\n",
       "      <td></td>\n",
       "      <td>OfficeActivity</td>\n",
       "      <td></td>\n",
       "    </tr>\n",
       "    <tr>\n",
       "      <th>3</th>\n",
       "      <td>8ecf8077-cf51-4820-aadd-14040956f35d</td>\n",
       "      <td></td>\n",
       "      <td></td>\n",
       "      <td></td>\n",
       "      <td>50</td>\n",
       "      <td>2021-07-22 01:03:05+00:00</td>\n",
       "      <td>MailItemsAccessed</td>\n",
       "      <td>4b2462a4-bbee-495a-a0e1-f23ae524cc9c</td>\n",
       "      <td>4b2462a4-bbee-495a-a0e1-f23ae524cc9c</td>\n",
       "      <td>Regular</td>\n",
       "      <td>100320003F8A6FC7</td>\n",
       "      <td>Exchange</td>\n",
       "      <td>Succeeded</td>\n",
       "      <td>Succeeded</td>\n",
       "      <td></td>\n",
       "      <td>MeganB@seccxp.ninja</td>\n",
       "      <td>MeganB@seccxp.ninja</td>\n",
       "      <td></td>\n",
       "      <td></td>\n",
       "      <td></td>\n",
       "      <td></td>\n",
       "      <td></td>\n",
       "      <td></td>\n",
       "      <td></td>\n",
       "      <td></td>\n",
       "      <td>...</td>\n",
       "      <td></td>\n",
       "      <td></td>\n",
       "      <td></td>\n",
       "      <td>None</td>\n",
       "      <td></td>\n",
       "      <td></td>\n",
       "      <td></td>\n",
       "      <td></td>\n",
       "      <td></td>\n",
       "      <td></td>\n",
       "      <td></td>\n",
       "      <td></td>\n",
       "      <td></td>\n",
       "      <td></td>\n",
       "      <td></td>\n",
       "      <td></td>\n",
       "      <td></td>\n",
       "      <td></td>\n",
       "      <td></td>\n",
       "      <td></td>\n",
       "      <td>[{'Value': 'Bind', 'Name': 'MailAccessType'}, {'Value': 'False', 'Name': 'IsThrottled'}]</td>\n",
       "      <td>414a677a-e50f-46ea-b89c-aebb8a9efbe2</td>\n",
       "      <td></td>\n",
       "      <td>OfficeActivity</td>\n",
       "      <td></td>\n",
       "    </tr>\n",
       "    <tr>\n",
       "      <th>4</th>\n",
       "      <td>8ecf8077-cf51-4820-aadd-14040956f35d</td>\n",
       "      <td></td>\n",
       "      <td></td>\n",
       "      <td></td>\n",
       "      <td>ExchangeAdmin</td>\n",
       "      <td>2021-07-22 01:06:47+00:00</td>\n",
       "      <td>Set-ConditionalAccessPolicy</td>\n",
       "      <td>4b2462a4-bbee-495a-a0e1-f23ae524cc9c</td>\n",
       "      <td>4b2462a4-bbee-495a-a0e1-f23ae524cc9c</td>\n",
       "      <td>DcAdmin</td>\n",
       "      <td>NAMP221\\Administrator (Microsoft.Office.Datacenter.Torus.PowerShellWorker)</td>\n",
       "      <td>Exchange</td>\n",
       "      <td>True</td>\n",
       "      <td>True</td>\n",
       "      <td>seccxpninja.onmicrosoft.com\\8837fdaa-aaeb-4432-9622-43f6f583d583</td>\n",
       "      <td>NAMP221\\Administrator (Microsoft.Office.Datacenter.Torus.PowerShellWorker)</td>\n",
       "      <td>NAMP221\\Administrator (Microsoft.Office.Datacenter.Torus.PowerShellWorker)</td>\n",
       "      <td></td>\n",
       "      <td></td>\n",
       "      <td></td>\n",
       "      <td></td>\n",
       "      <td></td>\n",
       "      <td></td>\n",
       "      <td></td>\n",
       "      <td></td>\n",
       "      <td>...</td>\n",
       "      <td></td>\n",
       "      <td></td>\n",
       "      <td></td>\n",
       "      <td>None</td>\n",
       "      <td></td>\n",
       "      <td></td>\n",
       "      <td></td>\n",
       "      <td></td>\n",
       "      <td></td>\n",
       "      <td></td>\n",
       "      <td></td>\n",
       "      <td></td>\n",
       "      <td></td>\n",
       "      <td></td>\n",
       "      <td></td>\n",
       "      <td></td>\n",
       "      <td></td>\n",
       "      <td></td>\n",
       "      <td></td>\n",
       "      <td></td>\n",
       "      <td>None</td>\n",
       "      <td></td>\n",
       "      <td></td>\n",
       "      <td>OfficeActivity</td>\n",
       "      <td></td>\n",
       "    </tr>\n",
       "  </tbody>\n",
       "</table>\n",
       "<p>5 rows × 131 columns</p>\n",
       "</div>"
      ]
     },
     "metadata": {}
    }
   ],
   "metadata": {}
  },
  {
   "cell_type": "markdown",
   "source": [
    "<details>\r\n",
    "    <summary>Learn more about MSTICPy pre-defined queries...</summary>\r\n",
    "    <ul>\r\n",
    "      <li>\r\n",
    "        <a href=https://msticpy.readthedocs.io/en/latest/data_acquisition/DataProviders.html#running-an-pre-defined-query >Running MSTICPy pre-defined queries</a>\r\n",
    "      </li>\r\n",
    "      <li>\r\n",
    "        <a href=https://msticpy.readthedocs.io/en/latest/data_acquisition/DataQueries.html>MSTICPy query reference</a>\r\n",
    "      </li>\r\n",
    "    </ul>\r\n",
    "</details>\r\n",
    "<br>\r\n"
   ],
   "metadata": {}
  },
  {
   "cell_type": "markdown",
   "source": [
    "---\r\n",
    "\r\n",
    "# Testing Threat Intelligence (VirusTotal) and IP location (GeoLite2) configuration\r\n",
    "\r\n",
    "Threat intelligence and IP location are two common enrichments that you might apply to queried data.\r\n",
    "\r\n",
    "Let's test the VirusTotal provider with a known bad IP Address.\r\n",
    "\r\n",
    "<details>\r\n",
    "    <summary>Learn more...</summary>\r\n",
    "    <p>\r\n",
    "    </p>\r\n",
    "    <ul>\r\n",
    "        <li>More details are shown in the <i>A Tour of Cybersec notebook features</i> notebook</li>\r\n",
    "        <li><a href=https://msticpy.readthedocs.io/en/latest/data_acquisition/TIProviders.html >Threat Intel Lookups in MSTICPy</a></li>\r\n",
    "    </ul>\r\n",
    "</details>\r\n",
    "<br>\r\n",
    "\r\n",
    "\r\n",
    "## Threat intel lookup\r\n"
   ],
   "metadata": {}
  },
  {
   "cell_type": "code",
   "execution_count": 17,
   "source": [
    "# Create our TI provider\n",
    "ti = TILookup()\n",
    "\n",
    "# Lookup an IP Address\n",
    "ti_resp = ti.lookup_ioc(\"85.214.149.236\", providers=[\"VirusTotal\"])\n",
    "\n",
    "ti_df = ti.result_to_df(ti_resp)\n",
    "ti.browse_results(ti_df, severities=\"all\")"
   ],
   "outputs": [
    {
     "output_type": "stream",
     "name": "stdout",
     "text": [
      "Using Open PageRank. See https://www.domcop.com/openpagerank/what-is-openpagerank\n"
     ]
    },
    {
     "output_type": "display_data",
     "data": {
      "text/plain": [
       "VBox(children=(Text(value='', description='Filter:', style=DescriptionStyle(description_width='initial')), Sel…"
      ],
      "application/vnd.jupyter.widget-view+json": {
       "model_id": "cb3eab2df65540c7b53cf256440e6bca",
       "version_major": 2,
       "version_minor": 0
      }
     },
     "metadata": {}
    },
    {
     "output_type": "display_data",
     "data": {
      "text/plain": [
       "<IPython.core.display.HTML object>"
      ],
      "text/html": [
       "<hr>"
      ]
     },
     "metadata": {}
    },
    {
     "output_type": "display_data",
     "data": {
      "text/plain": [
       "<IPython.core.display.HTML object>"
      ],
      "text/html": [
       "<h2 style='border: 1px solid;background-color: DarkGray; padding: 6px'>85.214.149.236</h2><h3 style='background-color: SteelBlue; padding: 6px'>Type: 'ipv4', Provider: VirusTotal, severity: high</h3><h4>Details</h4>\n",
       "<style>\n",
       "    .tb_ti_res {border-collapse: collapse; width: 60%; border: 1px solid #ddd !important;}\n",
       "    .cell_ti {border: 1px solid #ddd !important;\n",
       "        text-align: left !important; padding: 5px !important; height: 12px}\n",
       "    .cell_ti_first {border: 1px solid #ddd !important; width: 25%;\n",
       "        text-align: left !important; padding: 5px !important; height: 12px}\n",
       "</style>\n",
       "<table class='tb_ti_res'><tr class='cell_ti'><td class='cell_ti_first'>VirusTotal</td><tr class='cell_ti'><td class='cell_ti_first'>verbose_msg</td><td class='cell_ti'>IP address in dataset</td></tr><tr class='cell_ti'><td class='cell_ti_first'>response_code</td><td class='cell_ti'>1</td></tr><tr class='cell_ti'><td class='cell_ti_first'>positives</td><td class='cell_ti'>181</td></tr><tr class='cell_ti'><td class='cell_ti_first'>detected_urls</td><td class='cell_ti'>['http://85.214.149.236/sugarcrm/themes/default/images/', 'http://85.214.149.236:443/sugarcrm/themes/default/images/stock.jpg', 'http://85.214.149.236:443/sugarcrm/themes/default/images/tshd.jpg', 'http://85.214.149.236/', 'http://85.214.149.236:443/sugarcrm/themes/default/images/bioset.jpg', 'http://85.214.149.236:443/sugarcrm/themes/default/images/mod.jpg', 'http://85.214.149.236:443/sugarcrm/themes/default/images/default.jpg', 'http://dockerupdate.anondns.net/']</td></tr><tr class='cell_ti'><td class='cell_ti_first'>detected_downloaded_samples</td><td class='cell_ti'>['75a733d99d72d1d0d6ca99ec852d97ae8c515ed136e12195e96adf6df7bbad41', '252bf8c685289759b90c1de6f9db345c2cfe62e6f8aad9a7f44dfb3c8508487a', 'e15550481e89dbd154b875ce50cc5af4b49f9ff7b837d9ac5b5594e5d63966a3']</td></tr><tr class='cell_ti'><td class='cell_ti_first'>detected_communicating_samples</td><td class='cell_ti'>[]</td></tr></tr></table><h4>Reference: </h4><a href='https://www.virustotal.com/vtapi/v2/ip-address/report'>https://www.virustotal.com/vtapi/v2/ip-address/report</a><br><hr><h4>Raw Results</h4>\n",
       "        <details>\n",
       "        <summary> <u>Raw results from provider...</u></summary>\n",
       "        <pre  style=\"font-size:11px\">{'as_owner':&nbsp;'Strato&nbsp;AG',<br>&nbsp;'asn':&nbsp;6724,<br>&nbsp;'country':&nbsp;'DE',<br>&nbsp;'detected_communicating_samples':&nbsp;[{'date':&nbsp;'2021-06-11&nbsp;01:23:22',<br>&nbsp;&nbsp;&nbsp;&nbsp;&nbsp;&nbsp;&nbsp;&nbsp;&nbsp;&nbsp;&nbsp;&nbsp;&nbsp;&nbsp;&nbsp;&nbsp;&nbsp;&nbsp;&nbsp;&nbsp;&nbsp;&nbsp;&nbsp;&nbsp;&nbsp;&nbsp;&nbsp;&nbsp;&nbsp;&nbsp;&nbsp;&nbsp;&nbsp;&nbsp;&nbsp;&nbsp;&nbsp;'positives':&nbsp;13,<br>&nbsp;&nbsp;&nbsp;&nbsp;&nbsp;&nbsp;&nbsp;&nbsp;&nbsp;&nbsp;&nbsp;&nbsp;&nbsp;&nbsp;&nbsp;&nbsp;&nbsp;&nbsp;&nbsp;&nbsp;&nbsp;&nbsp;&nbsp;&nbsp;&nbsp;&nbsp;&nbsp;&nbsp;&nbsp;&nbsp;&nbsp;&nbsp;&nbsp;&nbsp;&nbsp;&nbsp;&nbsp;'sha256':&nbsp;'ab12b5d03f8467a1089d3d40ef9c4a54fb16ee61bb68714040e9edf96b5e763f',<br>&nbsp;&nbsp;&nbsp;&nbsp;&nbsp;&nbsp;&nbsp;&nbsp;&nbsp;&nbsp;&nbsp;&nbsp;&nbsp;&nbsp;&nbsp;&nbsp;&nbsp;&nbsp;&nbsp;&nbsp;&nbsp;&nbsp;&nbsp;&nbsp;&nbsp;&nbsp;&nbsp;&nbsp;&nbsp;&nbsp;&nbsp;&nbsp;&nbsp;&nbsp;&nbsp;&nbsp;&nbsp;'total':&nbsp;74},<br>&nbsp;&nbsp;&nbsp;&nbsp;&nbsp;&nbsp;&nbsp;&nbsp;&nbsp;&nbsp;&nbsp;&nbsp;&nbsp;&nbsp;&nbsp;&nbsp;&nbsp;&nbsp;&nbsp;&nbsp;&nbsp;&nbsp;&nbsp;&nbsp;&nbsp;&nbsp;&nbsp;&nbsp;&nbsp;&nbsp;&nbsp;&nbsp;&nbsp;&nbsp;&nbsp;&nbsp;{'date':&nbsp;'2021-06-10&nbsp;07:31:53',<br>&nbsp;&nbsp;&nbsp;&nbsp;&nbsp;&nbsp;&nbsp;&nbsp;&nbsp;&nbsp;&nbsp;&nbsp;&nbsp;&nbsp;&nbsp;&nbsp;&nbsp;&nbsp;&nbsp;&nbsp;&nbsp;&nbsp;&nbsp;&nbsp;&nbsp;&nbsp;&nbsp;&nbsp;&nbsp;&nbsp;&nbsp;&nbsp;&nbsp;&nbsp;&nbsp;&nbsp;&nbsp;'positives':&nbsp;30,<br>&nbsp;&nbsp;&nbsp;&nbsp;&nbsp;&nbsp;&nbsp;&nbsp;&nbsp;&nbsp;&nbsp;&nbsp;&nbsp;&nbsp;&nbsp;&nbsp;&nbsp;&nbsp;&nbsp;&nbsp;&nbsp;&nbsp;&nbsp;&nbsp;&nbsp;&nbsp;&nbsp;&nbsp;&nbsp;&nbsp;&nbsp;&nbsp;&nbsp;&nbsp;&nbsp;&nbsp;&nbsp;'sha256':&nbsp;'1aaf7bc48ff75e870db4fe6ec0b3ed9d99876d7e2fb3d5c4613cca92bbb95e1b',<br>&nbsp;&nbsp;&nbsp;&nbsp;&nbsp;&nbsp;&nbsp;&nbsp;&nbsp;&nbsp;&nbsp;&nbsp;&nbsp;&nbsp;&nbsp;&nbsp;&nbsp;&nbsp;&nbsp;&nbsp;&nbsp;&nbsp;&nbsp;&nbsp;&nbsp;&nbsp;&nbsp;&nbsp;&nbsp;&nbsp;&nbsp;&nbsp;&nbsp;&nbsp;&nbsp;&nbsp;&nbsp;'total':&nbsp;75},<br>&nbsp;&nbsp;&nbsp;&nbsp;&nbsp;&nbsp;&nbsp;&nbsp;&nbsp;&nbsp;&nbsp;&nbsp;&nbsp;&nbsp;&nbsp;&nbsp;&nbsp;&nbsp;&nbsp;&nbsp;&nbsp;&nbsp;&nbsp;&nbsp;&nbsp;&nbsp;&nbsp;&nbsp;&nbsp;&nbsp;&nbsp;&nbsp;&nbsp;&nbsp;&nbsp;&nbsp;{'date':&nbsp;'2021-06-09&nbsp;02:36:09',<br>&nbsp;&nbsp;&nbsp;&nbsp;&nbsp;&nbsp;&nbsp;&nbsp;&nbsp;&nbsp;&nbsp;&nbsp;&nbsp;&nbsp;&nbsp;&nbsp;&nbsp;&nbsp;&nbsp;&nbsp;&nbsp;&nbsp;&nbsp;&nbsp;&nbsp;&nbsp;&nbsp;&nbsp;&nbsp;&nbsp;&nbsp;&nbsp;&nbsp;&nbsp;&nbsp;&nbsp;&nbsp;'positives':&nbsp;30,<br>&nbsp;&nbsp;&nbsp;&nbsp;&nbsp;&nbsp;&nbsp;&nbsp;&nbsp;&nbsp;&nbsp;&nbsp;&nbsp;&nbsp;&nbsp;&nbsp;&nbsp;&nbsp;&nbsp;&nbsp;&nbsp;&nbsp;&nbsp;&nbsp;&nbsp;&nbsp;&nbsp;&nbsp;&nbsp;&nbsp;&nbsp;&nbsp;&nbsp;&nbsp;&nbsp;&nbsp;&nbsp;'sha256':&nbsp;'36bf7b2ab7968880ccc696927c03167b6056e73043fd97a33d2468383a5bafce',<br>&nbsp;&nbsp;&nbsp;&nbsp;&nbsp;&nbsp;&nbsp;&nbsp;&nbsp;&nbsp;&nbsp;&nbsp;&nbsp;&nbsp;&nbsp;&nbsp;&nbsp;&nbsp;&nbsp;&nbsp;&nbsp;&nbsp;&nbsp;&nbsp;&nbsp;&nbsp;&nbsp;&nbsp;&nbsp;&nbsp;&nbsp;&nbsp;&nbsp;&nbsp;&nbsp;&nbsp;&nbsp;'total':&nbsp;75},<br>&nbsp;&nbsp;&nbsp;&nbsp;&nbsp;&nbsp;&nbsp;&nbsp;&nbsp;&nbsp;&nbsp;&nbsp;&nbsp;&nbsp;&nbsp;&nbsp;&nbsp;&nbsp;&nbsp;&nbsp;&nbsp;&nbsp;&nbsp;&nbsp;&nbsp;&nbsp;&nbsp;&nbsp;&nbsp;&nbsp;&nbsp;&nbsp;&nbsp;&nbsp;&nbsp;&nbsp;{'date':&nbsp;'2021-05-17&nbsp;21:40:23',<br>&nbsp;&nbsp;&nbsp;&nbsp;&nbsp;&nbsp;&nbsp;&nbsp;&nbsp;&nbsp;&nbsp;&nbsp;&nbsp;&nbsp;&nbsp;&nbsp;&nbsp;&nbsp;&nbsp;&nbsp;&nbsp;&nbsp;&nbsp;&nbsp;&nbsp;&nbsp;&nbsp;&nbsp;&nbsp;&nbsp;&nbsp;&nbsp;&nbsp;&nbsp;&nbsp;&nbsp;&nbsp;'positives':&nbsp;13,<br>&nbsp;&nbsp;&nbsp;&nbsp;&nbsp;&nbsp;&nbsp;&nbsp;&nbsp;&nbsp;&nbsp;&nbsp;&nbsp;&nbsp;&nbsp;&nbsp;&nbsp;&nbsp;&nbsp;&nbsp;&nbsp;&nbsp;&nbsp;&nbsp;&nbsp;&nbsp;&nbsp;&nbsp;&nbsp;&nbsp;&nbsp;&nbsp;&nbsp;&nbsp;&nbsp;&nbsp;&nbsp;'sha256':&nbsp;'39ac019520a278e350065d12ebc0c24201584390724f3d8e0dc828664fee6cae',<br>&nbsp;&nbsp;&nbsp;&nbsp;&nbsp;&nbsp;&nbsp;&nbsp;&nbsp;&nbsp;&nbsp;&nbsp;&nbsp;&nbsp;&nbsp;&nbsp;&nbsp;&nbsp;&nbsp;&nbsp;&nbsp;&nbsp;&nbsp;&nbsp;&nbsp;&nbsp;&nbsp;&nbsp;&nbsp;&nbsp;&nbsp;&nbsp;&nbsp;&nbsp;&nbsp;&nbsp;&nbsp;'total':&nbsp;74},<br>&nbsp;&nbsp;&nbsp;&nbsp;&nbsp;&nbsp;&nbsp;&nbsp;&nbsp;&nbsp;&nbsp;&nbsp;&nbsp;&nbsp;&nbsp;&nbsp;&nbsp;&nbsp;&nbsp;&nbsp;&nbsp;&nbsp;&nbsp;&nbsp;&nbsp;&nbsp;&nbsp;&nbsp;&nbsp;&nbsp;&nbsp;&nbsp;&nbsp;&nbsp;&nbsp;&nbsp;{'date':&nbsp;'2021-05-12&nbsp;12:46:23',<br>&nbsp;&nbsp;&nbsp;&nbsp;&nbsp;&nbsp;&nbsp;&nbsp;&nbsp;&nbsp;&nbsp;&nbsp;&nbsp;&nbsp;&nbsp;&nbsp;&nbsp;&nbsp;&nbsp;&nbsp;&nbsp;&nbsp;&nbsp;&nbsp;&nbsp;&nbsp;&nbsp;&nbsp;&nbsp;&nbsp;&nbsp;&nbsp;&nbsp;&nbsp;&nbsp;&nbsp;&nbsp;'positives':&nbsp;6,<br>&nbsp;&nbsp;&nbsp;&nbsp;&nbsp;&nbsp;&nbsp;&nbsp;&nbsp;&nbsp;&nbsp;&nbsp;&nbsp;&nbsp;&nbsp;&nbsp;&nbsp;&nbsp;&nbsp;&nbsp;&nbsp;&nbsp;&nbsp;&nbsp;&nbsp;&nbsp;&nbsp;&nbsp;&nbsp;&nbsp;&nbsp;&nbsp;&nbsp;&nbsp;&nbsp;&nbsp;&nbsp;'sha256':&nbsp;'b60ffcc7153650d6a232b1cb249924b0c6384c27681860eb13b12f4705bc0a05',<br>&nbsp;&nbsp;&nbsp;&nbsp;&nbsp;&nbsp;&nbsp;&nbsp;&nbsp;&nbsp;&nbsp;&nbsp;&nbsp;&nbsp;&nbsp;&nbsp;&nbsp;&nbsp;&nbsp;&nbsp;&nbsp;&nbsp;&nbsp;&nbsp;&nbsp;&nbsp;&nbsp;&nbsp;&nbsp;&nbsp;&nbsp;&nbsp;&nbsp;&nbsp;&nbsp;&nbsp;&nbsp;'total':&nbsp;75},<br>&nbsp;&nbsp;&nbsp;&nbsp;&nbsp;&nbsp;&nbsp;&nbsp;&nbsp;&nbsp;&nbsp;&nbsp;&nbsp;&nbsp;&nbsp;&nbsp;&nbsp;&nbsp;&nbsp;&nbsp;&nbsp;&nbsp;&nbsp;&nbsp;&nbsp;&nbsp;&nbsp;&nbsp;&nbsp;&nbsp;&nbsp;&nbsp;&nbsp;&nbsp;&nbsp;&nbsp;{'date':&nbsp;'2021-05-11&nbsp;08:32:51',<br>&nbsp;&nbsp;&nbsp;&nbsp;&nbsp;&nbsp;&nbsp;&nbsp;&nbsp;&nbsp;&nbsp;&nbsp;&nbsp;&nbsp;&nbsp;&nbsp;&nbsp;&nbsp;&nbsp;&nbsp;&nbsp;&nbsp;&nbsp;&nbsp;&nbsp;&nbsp;&nbsp;&nbsp;&nbsp;&nbsp;&nbsp;&nbsp;&nbsp;&nbsp;&nbsp;&nbsp;&nbsp;'positives':&nbsp;14,<br>&nbsp;&nbsp;&nbsp;&nbsp;&nbsp;&nbsp;&nbsp;&nbsp;&nbsp;&nbsp;&nbsp;&nbsp;&nbsp;&nbsp;&nbsp;&nbsp;&nbsp;&nbsp;&nbsp;&nbsp;&nbsp;&nbsp;&nbsp;&nbsp;&nbsp;&nbsp;&nbsp;&nbsp;&nbsp;&nbsp;&nbsp;&nbsp;&nbsp;&nbsp;&nbsp;&nbsp;&nbsp;'sha256':&nbsp;'1ad0104478301e73e3f49cdeb10f8c1a1d54bccf9248e34ff81352598f112e6b',<br>&nbsp;&nbsp;&nbsp;&nbsp;&nbsp;&nbsp;&nbsp;&nbsp;&nbsp;&nbsp;&nbsp;&nbsp;&nbsp;&nbsp;&nbsp;&nbsp;&nbsp;&nbsp;&nbsp;&nbsp;&nbsp;&nbsp;&nbsp;&nbsp;&nbsp;&nbsp;&nbsp;&nbsp;&nbsp;&nbsp;&nbsp;&nbsp;&nbsp;&nbsp;&nbsp;&nbsp;&nbsp;'total':&nbsp;75},<br>&nbsp;&nbsp;&nbsp;&nbsp;&nbsp;&nbsp;&nbsp;&nbsp;&nbsp;&nbsp;&nbsp;&nbsp;&nbsp;&nbsp;&nbsp;&nbsp;&nbsp;&nbsp;&nbsp;&nbsp;&nbsp;&nbsp;&nbsp;&nbsp;&nbsp;&nbsp;&nbsp;&nbsp;&nbsp;&nbsp;&nbsp;&nbsp;&nbsp;&nbsp;&nbsp;&nbsp;{'date':&nbsp;'2021-04-21&nbsp;10:08:11',<br>&nbsp;&nbsp;&nbsp;&nbsp;&nbsp;&nbsp;&nbsp;&nbsp;&nbsp;&nbsp;&nbsp;&nbsp;&nbsp;&nbsp;&nbsp;&nbsp;&nbsp;&nbsp;&nbsp;&nbsp;&nbsp;&nbsp;&nbsp;&nbsp;&nbsp;&nbsp;&nbsp;&nbsp;&nbsp;&nbsp;&nbsp;&nbsp;&nbsp;&nbsp;&nbsp;&nbsp;&nbsp;'positives':&nbsp;16,<br>&nbsp;&nbsp;&nbsp;&nbsp;&nbsp;&nbsp;&nbsp;&nbsp;&nbsp;&nbsp;&nbsp;&nbsp;&nbsp;&nbsp;&nbsp;&nbsp;&nbsp;&nbsp;&nbsp;&nbsp;&nbsp;&nbsp;&nbsp;&nbsp;&nbsp;&nbsp;&nbsp;&nbsp;&nbsp;&nbsp;&nbsp;&nbsp;&nbsp;&nbsp;&nbsp;&nbsp;&nbsp;'sha256':&nbsp;'7b6f7c48256a8df2041e8726c3490ccb6987e1a76fee947e148ea68eee036889',<br>&nbsp;&nbsp;&nbsp;&nbsp;&nbsp;&nbsp;&nbsp;&nbsp;&nbsp;&nbsp;&nbsp;&nbsp;&nbsp;&nbsp;&nbsp;&nbsp;&nbsp;&nbsp;&nbsp;&nbsp;&nbsp;&nbsp;&nbsp;&nbsp;&nbsp;&nbsp;&nbsp;&nbsp;&nbsp;&nbsp;&nbsp;&nbsp;&nbsp;&nbsp;&nbsp;&nbsp;&nbsp;'total':&nbsp;76},<br>&nbsp;&nbsp;&nbsp;&nbsp;&nbsp;&nbsp;&nbsp;&nbsp;&nbsp;&nbsp;&nbsp;&nbsp;&nbsp;&nbsp;&nbsp;&nbsp;&nbsp;&nbsp;&nbsp;&nbsp;&nbsp;&nbsp;&nbsp;&nbsp;&nbsp;&nbsp;&nbsp;&nbsp;&nbsp;&nbsp;&nbsp;&nbsp;&nbsp;&nbsp;&nbsp;&nbsp;{'date':&nbsp;'2021-03-31&nbsp;15:34:40',<br>&nbsp;&nbsp;&nbsp;&nbsp;&nbsp;&nbsp;&nbsp;&nbsp;&nbsp;&nbsp;&nbsp;&nbsp;&nbsp;&nbsp;&nbsp;&nbsp;&nbsp;&nbsp;&nbsp;&nbsp;&nbsp;&nbsp;&nbsp;&nbsp;&nbsp;&nbsp;&nbsp;&nbsp;&nbsp;&nbsp;&nbsp;&nbsp;&nbsp;&nbsp;&nbsp;&nbsp;&nbsp;'positives':&nbsp;20,<br>&nbsp;&nbsp;&nbsp;&nbsp;&nbsp;&nbsp;&nbsp;&nbsp;&nbsp;&nbsp;&nbsp;&nbsp;&nbsp;&nbsp;&nbsp;&nbsp;&nbsp;&nbsp;&nbsp;&nbsp;&nbsp;&nbsp;&nbsp;&nbsp;&nbsp;&nbsp;&nbsp;&nbsp;&nbsp;&nbsp;&nbsp;&nbsp;&nbsp;&nbsp;&nbsp;&nbsp;&nbsp;'sha256':&nbsp;'ae3e4a1c8a2b661265e6c8c756e3ba472dc7177cae79fe1861ab0c2d1af5167a',<br>&nbsp;&nbsp;&nbsp;&nbsp;&nbsp;&nbsp;&nbsp;&nbsp;&nbsp;&nbsp;&nbsp;&nbsp;&nbsp;&nbsp;&nbsp;&nbsp;&nbsp;&nbsp;&nbsp;&nbsp;&nbsp;&nbsp;&nbsp;&nbsp;&nbsp;&nbsp;&nbsp;&nbsp;&nbsp;&nbsp;&nbsp;&nbsp;&nbsp;&nbsp;&nbsp;&nbsp;&nbsp;'total':&nbsp;75},<br>&nbsp;&nbsp;&nbsp;&nbsp;&nbsp;&nbsp;&nbsp;&nbsp;&nbsp;&nbsp;&nbsp;&nbsp;&nbsp;&nbsp;&nbsp;&nbsp;&nbsp;&nbsp;&nbsp;&nbsp;&nbsp;&nbsp;&nbsp;&nbsp;&nbsp;&nbsp;&nbsp;&nbsp;&nbsp;&nbsp;&nbsp;&nbsp;&nbsp;&nbsp;&nbsp;&nbsp;{'date':&nbsp;'2021-03-27&nbsp;04:35:12',<br>&nbsp;&nbsp;&nbsp;&nbsp;&nbsp;&nbsp;&nbsp;&nbsp;&nbsp;&nbsp;&nbsp;&nbsp;&nbsp;&nbsp;&nbsp;&nbsp;&nbsp;&nbsp;&nbsp;&nbsp;&nbsp;&nbsp;&nbsp;&nbsp;&nbsp;&nbsp;&nbsp;&nbsp;&nbsp;&nbsp;&nbsp;&nbsp;&nbsp;&nbsp;&nbsp;&nbsp;&nbsp;'positives':&nbsp;22,<br>&nbsp;&nbsp;&nbsp;&nbsp;&nbsp;&nbsp;&nbsp;&nbsp;&nbsp;&nbsp;&nbsp;&nbsp;&nbsp;&nbsp;&nbsp;&nbsp;&nbsp;&nbsp;&nbsp;&nbsp;&nbsp;&nbsp;&nbsp;&nbsp;&nbsp;&nbsp;&nbsp;&nbsp;&nbsp;&nbsp;&nbsp;&nbsp;&nbsp;&nbsp;&nbsp;&nbsp;&nbsp;'sha256':&nbsp;'3b280a4017ef2c2aef4b3ed8bb47516b816166998462899935afb39b533890ad',<br>&nbsp;&nbsp;&nbsp;&nbsp;&nbsp;&nbsp;&nbsp;&nbsp;&nbsp;&nbsp;&nbsp;&nbsp;&nbsp;&nbsp;&nbsp;&nbsp;&nbsp;&nbsp;&nbsp;&nbsp;&nbsp;&nbsp;&nbsp;&nbsp;&nbsp;&nbsp;&nbsp;&nbsp;&nbsp;&nbsp;&nbsp;&nbsp;&nbsp;&nbsp;&nbsp;&nbsp;&nbsp;'total':&nbsp;75},<br>&nbsp;&nbsp;&nbsp;&nbsp;&nbsp;&nbsp;&nbsp;&nbsp;&nbsp;&nbsp;&nbsp;&nbsp;&nbsp;&nbsp;&nbsp;&nbsp;&nbsp;&nbsp;&nbsp;&nbsp;&nbsp;&nbsp;&nbsp;&nbsp;&nbsp;&nbsp;&nbsp;&nbsp;&nbsp;&nbsp;&nbsp;&nbsp;&nbsp;&nbsp;&nbsp;&nbsp;{'date':&nbsp;'2020-08-18&nbsp;19:53:07',<br>&nbsp;&nbsp;&nbsp;&nbsp;&nbsp;&nbsp;&nbsp;&nbsp;&nbsp;&nbsp;&nbsp;&nbsp;&nbsp;&nbsp;&nbsp;&nbsp;&nbsp;&nbsp;&nbsp;&nbsp;&nbsp;&nbsp;&nbsp;&nbsp;&nbsp;&nbsp;&nbsp;&nbsp;&nbsp;&nbsp;&nbsp;&nbsp;&nbsp;&nbsp;&nbsp;&nbsp;&nbsp;'positives':&nbsp;3,<br>&nbsp;&nbsp;&nbsp;&nbsp;&nbsp;&nbsp;&nbsp;&nbsp;&nbsp;&nbsp;&nbsp;&nbsp;&nbsp;&nbsp;&nbsp;&nbsp;&nbsp;&nbsp;&nbsp;&nbsp;&nbsp;&nbsp;&nbsp;&nbsp;&nbsp;&nbsp;&nbsp;&nbsp;&nbsp;&nbsp;&nbsp;&nbsp;&nbsp;&nbsp;&nbsp;&nbsp;&nbsp;'sha256':&nbsp;'0742efecbd7af343213a50cc5fd5cd2f8475613cfe6fb51f4296a7ec4533940d',<br>&nbsp;&nbsp;&nbsp;&nbsp;&nbsp;&nbsp;&nbsp;&nbsp;&nbsp;&nbsp;&nbsp;&nbsp;&nbsp;&nbsp;&nbsp;&nbsp;&nbsp;&nbsp;&nbsp;&nbsp;&nbsp;&nbsp;&nbsp;&nbsp;&nbsp;&nbsp;&nbsp;&nbsp;&nbsp;&nbsp;&nbsp;&nbsp;&nbsp;&nbsp;&nbsp;&nbsp;&nbsp;'total':&nbsp;74}],<br>&nbsp;'detected_downloaded_samples':&nbsp;[{'date':&nbsp;'2021-06-29&nbsp;11:54:16',<br>&nbsp;&nbsp;&nbsp;&nbsp;&nbsp;&nbsp;&nbsp;&nbsp;&nbsp;&nbsp;&nbsp;&nbsp;&nbsp;&nbsp;&nbsp;&nbsp;&nbsp;&nbsp;&nbsp;&nbsp;&nbsp;&nbsp;&nbsp;&nbsp;&nbsp;&nbsp;&nbsp;&nbsp;&nbsp;&nbsp;&nbsp;&nbsp;&nbsp;&nbsp;'positives':&nbsp;26,<br>&nbsp;&nbsp;&nbsp;&nbsp;&nbsp;&nbsp;&nbsp;&nbsp;&nbsp;&nbsp;&nbsp;&nbsp;&nbsp;&nbsp;&nbsp;&nbsp;&nbsp;&nbsp;&nbsp;&nbsp;&nbsp;&nbsp;&nbsp;&nbsp;&nbsp;&nbsp;&nbsp;&nbsp;&nbsp;&nbsp;&nbsp;&nbsp;&nbsp;&nbsp;'sha256':&nbsp;'75a733d99d72d1d0d6ca99ec852d97ae8c515ed136e12195e96adf6df7bbad41',<br>&nbsp;&nbsp;&nbsp;&nbsp;&nbsp;&nbsp;&nbsp;&nbsp;&nbsp;&nbsp;&nbsp;&nbsp;&nbsp;&nbsp;&nbsp;&nbsp;&nbsp;&nbsp;&nbsp;&nbsp;&nbsp;&nbsp;&nbsp;&nbsp;&nbsp;&nbsp;&nbsp;&nbsp;&nbsp;&nbsp;&nbsp;&nbsp;&nbsp;&nbsp;'total':&nbsp;75},<br>&nbsp;&nbsp;&nbsp;&nbsp;&nbsp;&nbsp;&nbsp;&nbsp;&nbsp;&nbsp;&nbsp;&nbsp;&nbsp;&nbsp;&nbsp;&nbsp;&nbsp;&nbsp;&nbsp;&nbsp;&nbsp;&nbsp;&nbsp;&nbsp;&nbsp;&nbsp;&nbsp;&nbsp;&nbsp;&nbsp;&nbsp;&nbsp;&nbsp;{'date':&nbsp;'2021-07-08&nbsp;08:53:31',<br>&nbsp;&nbsp;&nbsp;&nbsp;&nbsp;&nbsp;&nbsp;&nbsp;&nbsp;&nbsp;&nbsp;&nbsp;&nbsp;&nbsp;&nbsp;&nbsp;&nbsp;&nbsp;&nbsp;&nbsp;&nbsp;&nbsp;&nbsp;&nbsp;&nbsp;&nbsp;&nbsp;&nbsp;&nbsp;&nbsp;&nbsp;&nbsp;&nbsp;&nbsp;'positives':&nbsp;36,<br>&nbsp;&nbsp;&nbsp;&nbsp;&nbsp;&nbsp;&nbsp;&nbsp;&nbsp;&nbsp;&nbsp;&nbsp;&nbsp;&nbsp;&nbsp;&nbsp;&nbsp;&nbsp;&nbsp;&nbsp;&nbsp;&nbsp;&nbsp;&nbsp;&nbsp;&nbsp;&nbsp;&nbsp;&nbsp;&nbsp;&nbsp;&nbsp;&nbsp;&nbsp;'sha256':&nbsp;'252bf8c685289759b90c1de6f9db345c2cfe62e6f8aad9a7f44dfb3c8508487a',<br>&nbsp;&nbsp;&nbsp;&nbsp;&nbsp;&nbsp;&nbsp;&nbsp;&nbsp;&nbsp;&nbsp;&nbsp;&nbsp;&nbsp;&nbsp;&nbsp;&nbsp;&nbsp;&nbsp;&nbsp;&nbsp;&nbsp;&nbsp;&nbsp;&nbsp;&nbsp;&nbsp;&nbsp;&nbsp;&nbsp;&nbsp;&nbsp;&nbsp;&nbsp;'total':&nbsp;74},<br>&nbsp;&nbsp;&nbsp;&nbsp;&nbsp;&nbsp;&nbsp;&nbsp;&nbsp;&nbsp;&nbsp;&nbsp;&nbsp;&nbsp;&nbsp;&nbsp;&nbsp;&nbsp;&nbsp;&nbsp;&nbsp;&nbsp;&nbsp;&nbsp;&nbsp;&nbsp;&nbsp;&nbsp;&nbsp;&nbsp;&nbsp;&nbsp;&nbsp;{'date':&nbsp;'2021-07-08&nbsp;08:53:30',<br>&nbsp;&nbsp;&nbsp;&nbsp;&nbsp;&nbsp;&nbsp;&nbsp;&nbsp;&nbsp;&nbsp;&nbsp;&nbsp;&nbsp;&nbsp;&nbsp;&nbsp;&nbsp;&nbsp;&nbsp;&nbsp;&nbsp;&nbsp;&nbsp;&nbsp;&nbsp;&nbsp;&nbsp;&nbsp;&nbsp;&nbsp;&nbsp;&nbsp;&nbsp;'positives':&nbsp;38,<br>&nbsp;&nbsp;&nbsp;&nbsp;&nbsp;&nbsp;&nbsp;&nbsp;&nbsp;&nbsp;&nbsp;&nbsp;&nbsp;&nbsp;&nbsp;&nbsp;&nbsp;&nbsp;&nbsp;&nbsp;&nbsp;&nbsp;&nbsp;&nbsp;&nbsp;&nbsp;&nbsp;&nbsp;&nbsp;&nbsp;&nbsp;&nbsp;&nbsp;&nbsp;'sha256':&nbsp;'e15550481e89dbd154b875ce50cc5af4b49f9ff7b837d9ac5b5594e5d63966a3',<br>&nbsp;&nbsp;&nbsp;&nbsp;&nbsp;&nbsp;&nbsp;&nbsp;&nbsp;&nbsp;&nbsp;&nbsp;&nbsp;&nbsp;&nbsp;&nbsp;&nbsp;&nbsp;&nbsp;&nbsp;&nbsp;&nbsp;&nbsp;&nbsp;&nbsp;&nbsp;&nbsp;&nbsp;&nbsp;&nbsp;&nbsp;&nbsp;&nbsp;&nbsp;'total':&nbsp;74},<br>&nbsp;&nbsp;&nbsp;&nbsp;&nbsp;&nbsp;&nbsp;&nbsp;&nbsp;&nbsp;&nbsp;&nbsp;&nbsp;&nbsp;&nbsp;&nbsp;&nbsp;&nbsp;&nbsp;&nbsp;&nbsp;&nbsp;&nbsp;&nbsp;&nbsp;&nbsp;&nbsp;&nbsp;&nbsp;&nbsp;&nbsp;&nbsp;&nbsp;{'date':&nbsp;'2021-06-10&nbsp;07:32:43',<br>&nbsp;&nbsp;&nbsp;&nbsp;&nbsp;&nbsp;&nbsp;&nbsp;&nbsp;&nbsp;&nbsp;&nbsp;&nbsp;&nbsp;&nbsp;&nbsp;&nbsp;&nbsp;&nbsp;&nbsp;&nbsp;&nbsp;&nbsp;&nbsp;&nbsp;&nbsp;&nbsp;&nbsp;&nbsp;&nbsp;&nbsp;&nbsp;&nbsp;&nbsp;'positives':&nbsp;33,<br>&nbsp;&nbsp;&nbsp;&nbsp;&nbsp;&nbsp;&nbsp;&nbsp;&nbsp;&nbsp;&nbsp;&nbsp;&nbsp;&nbsp;&nbsp;&nbsp;&nbsp;&nbsp;&nbsp;&nbsp;&nbsp;&nbsp;&nbsp;&nbsp;&nbsp;&nbsp;&nbsp;&nbsp;&nbsp;&nbsp;&nbsp;&nbsp;&nbsp;&nbsp;'sha256':&nbsp;'139f393594aabb20543543bd7d3192422b886f58e04a910637b41f14d0cad375',<br>&nbsp;&nbsp;&nbsp;&nbsp;&nbsp;&nbsp;&nbsp;&nbsp;&nbsp;&nbsp;&nbsp;&nbsp;&nbsp;&nbsp;&nbsp;&nbsp;&nbsp;&nbsp;&nbsp;&nbsp;&nbsp;&nbsp;&nbsp;&nbsp;&nbsp;&nbsp;&nbsp;&nbsp;&nbsp;&nbsp;&nbsp;&nbsp;&nbsp;&nbsp;'total':&nbsp;75},<br>&nbsp;&nbsp;&nbsp;&nbsp;&nbsp;&nbsp;&nbsp;&nbsp;&nbsp;&nbsp;&nbsp;&nbsp;&nbsp;&nbsp;&nbsp;&nbsp;&nbsp;&nbsp;&nbsp;&nbsp;&nbsp;&nbsp;&nbsp;&nbsp;&nbsp;&nbsp;&nbsp;&nbsp;&nbsp;&nbsp;&nbsp;&nbsp;&nbsp;{'date':&nbsp;'2021-06-10&nbsp;07:31:49',<br>&nbsp;&nbsp;&nbsp;&nbsp;&nbsp;&nbsp;&nbsp;&nbsp;&nbsp;&nbsp;&nbsp;&nbsp;&nbsp;&nbsp;&nbsp;&nbsp;&nbsp;&nbsp;&nbsp;&nbsp;&nbsp;&nbsp;&nbsp;&nbsp;&nbsp;&nbsp;&nbsp;&nbsp;&nbsp;&nbsp;&nbsp;&nbsp;&nbsp;&nbsp;'positives':&nbsp;34,<br>&nbsp;&nbsp;&nbsp;&nbsp;&nbsp;&nbsp;&nbsp;&nbsp;&nbsp;&nbsp;&nbsp;&nbsp;&nbsp;&nbsp;&nbsp;&nbsp;&nbsp;&nbsp;&nbsp;&nbsp;&nbsp;&nbsp;&nbsp;&nbsp;&nbsp;&nbsp;&nbsp;&nbsp;&nbsp;&nbsp;&nbsp;&nbsp;&nbsp;&nbsp;'sha256':&nbsp;'a506c6cf25de202e6b2bf60fe0236911a6ff8aa33f12a78edad9165ab0851caf',<br>&nbsp;&nbsp;&nbsp;&nbsp;&nbsp;&nbsp;&nbsp;&nbsp;&nbsp;&nbsp;&nbsp;&nbsp;&nbsp;&nbsp;&nbsp;&nbsp;&nbsp;&nbsp;&nbsp;&nbsp;&nbsp;&nbsp;&nbsp;&nbsp;&nbsp;&nbsp;&nbsp;&nbsp;&nbsp;&nbsp;&nbsp;&nbsp;&nbsp;&nbsp;'total':&nbsp;75},<br>&nbsp;&nbsp;&nbsp;&nbsp;&nbsp;&nbsp;&nbsp;&nbsp;&nbsp;&nbsp;&nbsp;&nbsp;&nbsp;&nbsp;&nbsp;&nbsp;&nbsp;&nbsp;&nbsp;&nbsp;&nbsp;&nbsp;&nbsp;&nbsp;&nbsp;&nbsp;&nbsp;&nbsp;&nbsp;&nbsp;&nbsp;&nbsp;&nbsp;{'date':&nbsp;'2021-03-02&nbsp;07:13:18',<br>&nbsp;&nbsp;&nbsp;&nbsp;&nbsp;&nbsp;&nbsp;&nbsp;&nbsp;&nbsp;&nbsp;&nbsp;&nbsp;&nbsp;&nbsp;&nbsp;&nbsp;&nbsp;&nbsp;&nbsp;&nbsp;&nbsp;&nbsp;&nbsp;&nbsp;&nbsp;&nbsp;&nbsp;&nbsp;&nbsp;&nbsp;&nbsp;&nbsp;&nbsp;'positives':&nbsp;33,<br>&nbsp;&nbsp;&nbsp;&nbsp;&nbsp;&nbsp;&nbsp;&nbsp;&nbsp;&nbsp;&nbsp;&nbsp;&nbsp;&nbsp;&nbsp;&nbsp;&nbsp;&nbsp;&nbsp;&nbsp;&nbsp;&nbsp;&nbsp;&nbsp;&nbsp;&nbsp;&nbsp;&nbsp;&nbsp;&nbsp;&nbsp;&nbsp;&nbsp;&nbsp;'sha256':&nbsp;'feb0a0f5ffba9d7b7d6878a8890a6d67d3f8ef6106e4e88719a63c3351e46a06',<br>&nbsp;&nbsp;&nbsp;&nbsp;&nbsp;&nbsp;&nbsp;&nbsp;&nbsp;&nbsp;&nbsp;&nbsp;&nbsp;&nbsp;&nbsp;&nbsp;&nbsp;&nbsp;&nbsp;&nbsp;&nbsp;&nbsp;&nbsp;&nbsp;&nbsp;&nbsp;&nbsp;&nbsp;&nbsp;&nbsp;&nbsp;&nbsp;&nbsp;&nbsp;'total':&nbsp;76},<br>&nbsp;&nbsp;&nbsp;&nbsp;&nbsp;&nbsp;&nbsp;&nbsp;&nbsp;&nbsp;&nbsp;&nbsp;&nbsp;&nbsp;&nbsp;&nbsp;&nbsp;&nbsp;&nbsp;&nbsp;&nbsp;&nbsp;&nbsp;&nbsp;&nbsp;&nbsp;&nbsp;&nbsp;&nbsp;&nbsp;&nbsp;&nbsp;&nbsp;{'date':&nbsp;'2021-02-08&nbsp;02:39:20',<br>&nbsp;&nbsp;&nbsp;&nbsp;&nbsp;&nbsp;&nbsp;&nbsp;&nbsp;&nbsp;&nbsp;&nbsp;&nbsp;&nbsp;&nbsp;&nbsp;&nbsp;&nbsp;&nbsp;&nbsp;&nbsp;&nbsp;&nbsp;&nbsp;&nbsp;&nbsp;&nbsp;&nbsp;&nbsp;&nbsp;&nbsp;&nbsp;&nbsp;&nbsp;'positives':&nbsp;18,<br>&nbsp;&nbsp;&nbsp;&nbsp;&nbsp;&nbsp;&nbsp;&nbsp;&nbsp;&nbsp;&nbsp;&nbsp;&nbsp;&nbsp;&nbsp;&nbsp;&nbsp;&nbsp;&nbsp;&nbsp;&nbsp;&nbsp;&nbsp;&nbsp;&nbsp;&nbsp;&nbsp;&nbsp;&nbsp;&nbsp;&nbsp;&nbsp;&nbsp;&nbsp;'sha256':&nbsp;'230e2a06df2cd7574ee15cb13714d77182f28d50f83a6ed58af39f1966177769',<br>&nbsp;&nbsp;&nbsp;&nbsp;&nbsp;&nbsp;&nbsp;&nbsp;&nbsp;&nbsp;&nbsp;&nbsp;&nbsp;&nbsp;&nbsp;&nbsp;&nbsp;&nbsp;&nbsp;&nbsp;&nbsp;&nbsp;&nbsp;&nbsp;&nbsp;&nbsp;&nbsp;&nbsp;&nbsp;&nbsp;&nbsp;&nbsp;&nbsp;&nbsp;'total':&nbsp;76},<br>&nbsp;&nbsp;&nbsp;&nbsp;&nbsp;&nbsp;&nbsp;&nbsp;&nbsp;&nbsp;&nbsp;&nbsp;&nbsp;&nbsp;&nbsp;&nbsp;&nbsp;&nbsp;&nbsp;&nbsp;&nbsp;&nbsp;&nbsp;&nbsp;&nbsp;&nbsp;&nbsp;&nbsp;&nbsp;&nbsp;&nbsp;&nbsp;&nbsp;{'date':&nbsp;'2020-10-31&nbsp;16:15:20',<br>&nbsp;&nbsp;&nbsp;&nbsp;&nbsp;&nbsp;&nbsp;&nbsp;&nbsp;&nbsp;&nbsp;&nbsp;&nbsp;&nbsp;&nbsp;&nbsp;&nbsp;&nbsp;&nbsp;&nbsp;&nbsp;&nbsp;&nbsp;&nbsp;&nbsp;&nbsp;&nbsp;&nbsp;&nbsp;&nbsp;&nbsp;&nbsp;&nbsp;&nbsp;'positives':&nbsp;30,<br>&nbsp;&nbsp;&nbsp;&nbsp;&nbsp;&nbsp;&nbsp;&nbsp;&nbsp;&nbsp;&nbsp;&nbsp;&nbsp;&nbsp;&nbsp;&nbsp;&nbsp;&nbsp;&nbsp;&nbsp;&nbsp;&nbsp;&nbsp;&nbsp;&nbsp;&nbsp;&nbsp;&nbsp;&nbsp;&nbsp;&nbsp;&nbsp;&nbsp;&nbsp;'sha256':&nbsp;'36bf7b2ab7968880ccc696927c03167b6056e73043fd97a33d2468383a5bafce',<br>&nbsp;&nbsp;&nbsp;&nbsp;&nbsp;&nbsp;&nbsp;&nbsp;&nbsp;&nbsp;&nbsp;&nbsp;&nbsp;&nbsp;&nbsp;&nbsp;&nbsp;&nbsp;&nbsp;&nbsp;&nbsp;&nbsp;&nbsp;&nbsp;&nbsp;&nbsp;&nbsp;&nbsp;&nbsp;&nbsp;&nbsp;&nbsp;&nbsp;&nbsp;'total':&nbsp;76},<br>&nbsp;&nbsp;&nbsp;&nbsp;&nbsp;&nbsp;&nbsp;&nbsp;&nbsp;&nbsp;&nbsp;&nbsp;&nbsp;&nbsp;&nbsp;&nbsp;&nbsp;&nbsp;&nbsp;&nbsp;&nbsp;&nbsp;&nbsp;&nbsp;&nbsp;&nbsp;&nbsp;&nbsp;&nbsp;&nbsp;&nbsp;&nbsp;&nbsp;{'date':&nbsp;'2020-10-19&nbsp;16:08:06',<br>&nbsp;&nbsp;&nbsp;&nbsp;&nbsp;&nbsp;&nbsp;&nbsp;&nbsp;&nbsp;&nbsp;&nbsp;&nbsp;&nbsp;&nbsp;&nbsp;&nbsp;&nbsp;&nbsp;&nbsp;&nbsp;&nbsp;&nbsp;&nbsp;&nbsp;&nbsp;&nbsp;&nbsp;&nbsp;&nbsp;&nbsp;&nbsp;&nbsp;&nbsp;'positives':&nbsp;28,<br>&nbsp;&nbsp;&nbsp;&nbsp;&nbsp;&nbsp;&nbsp;&nbsp;&nbsp;&nbsp;&nbsp;&nbsp;&nbsp;&nbsp;&nbsp;&nbsp;&nbsp;&nbsp;&nbsp;&nbsp;&nbsp;&nbsp;&nbsp;&nbsp;&nbsp;&nbsp;&nbsp;&nbsp;&nbsp;&nbsp;&nbsp;&nbsp;&nbsp;&nbsp;'sha256':&nbsp;'1aaf7bc48ff75e870db4fe6ec0b3ed9d99876d7e2fb3d5c4613cca92bbb95e1b',<br>&nbsp;&nbsp;&nbsp;&nbsp;&nbsp;&nbsp;&nbsp;&nbsp;&nbsp;&nbsp;&nbsp;&nbsp;&nbsp;&nbsp;&nbsp;&nbsp;&nbsp;&nbsp;&nbsp;&nbsp;&nbsp;&nbsp;&nbsp;&nbsp;&nbsp;&nbsp;&nbsp;&nbsp;&nbsp;&nbsp;&nbsp;&nbsp;&nbsp;&nbsp;'total':&nbsp;75},<br>&nbsp;&nbsp;&nbsp;&nbsp;&nbsp;&nbsp;&nbsp;&nbsp;&nbsp;&nbsp;&nbsp;&nbsp;&nbsp;&nbsp;&nbsp;&nbsp;&nbsp;&nbsp;&nbsp;&nbsp;&nbsp;&nbsp;&nbsp;&nbsp;&nbsp;&nbsp;&nbsp;&nbsp;&nbsp;&nbsp;&nbsp;&nbsp;&nbsp;{'date':&nbsp;'2020-09-09&nbsp;11:54:11',<br>&nbsp;&nbsp;&nbsp;&nbsp;&nbsp;&nbsp;&nbsp;&nbsp;&nbsp;&nbsp;&nbsp;&nbsp;&nbsp;&nbsp;&nbsp;&nbsp;&nbsp;&nbsp;&nbsp;&nbsp;&nbsp;&nbsp;&nbsp;&nbsp;&nbsp;&nbsp;&nbsp;&nbsp;&nbsp;&nbsp;&nbsp;&nbsp;&nbsp;&nbsp;'positives':&nbsp;24,<br>&nbsp;&nbsp;&nbsp;&nbsp;&nbsp;&nbsp;&nbsp;&nbsp;&nbsp;&nbsp;&nbsp;&nbsp;&nbsp;&nbsp;&nbsp;&nbsp;&nbsp;&nbsp;&nbsp;&nbsp;&nbsp;&nbsp;&nbsp;&nbsp;&nbsp;&nbsp;&nbsp;&nbsp;&nbsp;&nbsp;&nbsp;&nbsp;&nbsp;&nbsp;'sha256':&nbsp;'9750b3be953bd31322dd173ca18f29e5997029b28b24fbeb5fec7ebb1974cb09',<br>&nbsp;&nbsp;&nbsp;&nbsp;&nbsp;&nbsp;&nbsp;&nbsp;&nbsp;&nbsp;&nbsp;&nbsp;&nbsp;&nbsp;&nbsp;&nbsp;&nbsp;&nbsp;&nbsp;&nbsp;&nbsp;&nbsp;&nbsp;&nbsp;&nbsp;&nbsp;&nbsp;&nbsp;&nbsp;&nbsp;&nbsp;&nbsp;&nbsp;&nbsp;'total':&nbsp;73},<br>&nbsp;&nbsp;&nbsp;&nbsp;&nbsp;&nbsp;&nbsp;&nbsp;&nbsp;&nbsp;&nbsp;&nbsp;&nbsp;&nbsp;&nbsp;&nbsp;&nbsp;&nbsp;&nbsp;&nbsp;&nbsp;&nbsp;&nbsp;&nbsp;&nbsp;&nbsp;&nbsp;&nbsp;&nbsp;&nbsp;&nbsp;&nbsp;&nbsp;{'date':&nbsp;'2020-09-06&nbsp;07:41:39',<br>&nbsp;&nbsp;&nbsp;&nbsp;&nbsp;&nbsp;&nbsp;&nbsp;&nbsp;&nbsp;&nbsp;&nbsp;&nbsp;&nbsp;&nbsp;&nbsp;&nbsp;&nbsp;&nbsp;&nbsp;&nbsp;&nbsp;&nbsp;&nbsp;&nbsp;&nbsp;&nbsp;&nbsp;&nbsp;&nbsp;&nbsp;&nbsp;&nbsp;&nbsp;'positives':&nbsp;23,<br>&nbsp;&nbsp;&nbsp;&nbsp;&nbsp;&nbsp;&nbsp;&nbsp;&nbsp;&nbsp;&nbsp;&nbsp;&nbsp;&nbsp;&nbsp;&nbsp;&nbsp;&nbsp;&nbsp;&nbsp;&nbsp;&nbsp;&nbsp;&nbsp;&nbsp;&nbsp;&nbsp;&nbsp;&nbsp;&nbsp;&nbsp;&nbsp;&nbsp;&nbsp;'sha256':&nbsp;'c0ab7d1caabdd090b2399cd1193d2cc2334218d3f3f0d3164b61b6014fd308e9',<br>&nbsp;&nbsp;&nbsp;&nbsp;&nbsp;&nbsp;&nbsp;&nbsp;&nbsp;&nbsp;&nbsp;&nbsp;&nbsp;&nbsp;&nbsp;&nbsp;&nbsp;&nbsp;&nbsp;&nbsp;&nbsp;&nbsp;&nbsp;&nbsp;&nbsp;&nbsp;&nbsp;&nbsp;&nbsp;&nbsp;&nbsp;&nbsp;&nbsp;&nbsp;'total':&nbsp;73},<br>&nbsp;&nbsp;&nbsp;&nbsp;&nbsp;&nbsp;&nbsp;&nbsp;&nbsp;&nbsp;&nbsp;&nbsp;&nbsp;&nbsp;&nbsp;&nbsp;&nbsp;&nbsp;&nbsp;&nbsp;&nbsp;&nbsp;&nbsp;&nbsp;&nbsp;&nbsp;&nbsp;&nbsp;&nbsp;&nbsp;&nbsp;&nbsp;&nbsp;{'date':&nbsp;'2020-09-09&nbsp;11:30:10',<br>&nbsp;&nbsp;&nbsp;&nbsp;&nbsp;&nbsp;&nbsp;&nbsp;&nbsp;&nbsp;&nbsp;&nbsp;&nbsp;&nbsp;&nbsp;&nbsp;&nbsp;&nbsp;&nbsp;&nbsp;&nbsp;&nbsp;&nbsp;&nbsp;&nbsp;&nbsp;&nbsp;&nbsp;&nbsp;&nbsp;&nbsp;&nbsp;&nbsp;&nbsp;'positives':&nbsp;1,<br>&nbsp;&nbsp;&nbsp;&nbsp;&nbsp;&nbsp;&nbsp;&nbsp;&nbsp;&nbsp;&nbsp;&nbsp;&nbsp;&nbsp;&nbsp;&nbsp;&nbsp;&nbsp;&nbsp;&nbsp;&nbsp;&nbsp;&nbsp;&nbsp;&nbsp;&nbsp;&nbsp;&nbsp;&nbsp;&nbsp;&nbsp;&nbsp;&nbsp;&nbsp;'sha256':&nbsp;'767fc7ae032403bce2dbcefa525cf1a9fd02bbb185e45aa88d9bc28a5f22a2b6',<br>&nbsp;&nbsp;&nbsp;&nbsp;&nbsp;&nbsp;&nbsp;&nbsp;&nbsp;&nbsp;&nbsp;&nbsp;&nbsp;&nbsp;&nbsp;&nbsp;&nbsp;&nbsp;&nbsp;&nbsp;&nbsp;&nbsp;&nbsp;&nbsp;&nbsp;&nbsp;&nbsp;&nbsp;&nbsp;&nbsp;&nbsp;&nbsp;&nbsp;&nbsp;'total':&nbsp;73},<br>&nbsp;&nbsp;&nbsp;&nbsp;&nbsp;&nbsp;&nbsp;&nbsp;&nbsp;&nbsp;&nbsp;&nbsp;&nbsp;&nbsp;&nbsp;&nbsp;&nbsp;&nbsp;&nbsp;&nbsp;&nbsp;&nbsp;&nbsp;&nbsp;&nbsp;&nbsp;&nbsp;&nbsp;&nbsp;&nbsp;&nbsp;&nbsp;&nbsp;{'date':&nbsp;'2020-07-22&nbsp;02:02:29',<br>&nbsp;&nbsp;&nbsp;&nbsp;&nbsp;&nbsp;&nbsp;&nbsp;&nbsp;&nbsp;&nbsp;&nbsp;&nbsp;&nbsp;&nbsp;&nbsp;&nbsp;&nbsp;&nbsp;&nbsp;&nbsp;&nbsp;&nbsp;&nbsp;&nbsp;&nbsp;&nbsp;&nbsp;&nbsp;&nbsp;&nbsp;&nbsp;&nbsp;&nbsp;'positives':&nbsp;26,<br>&nbsp;&nbsp;&nbsp;&nbsp;&nbsp;&nbsp;&nbsp;&nbsp;&nbsp;&nbsp;&nbsp;&nbsp;&nbsp;&nbsp;&nbsp;&nbsp;&nbsp;&nbsp;&nbsp;&nbsp;&nbsp;&nbsp;&nbsp;&nbsp;&nbsp;&nbsp;&nbsp;&nbsp;&nbsp;&nbsp;&nbsp;&nbsp;&nbsp;&nbsp;'sha256':&nbsp;'132df864f6750d29bf9f762b298f377c13b899aa8d07c0a6bda58adcffd0d6f7',<br>&nbsp;&nbsp;&nbsp;&nbsp;&nbsp;&nbsp;&nbsp;&nbsp;&nbsp;&nbsp;&nbsp;&nbsp;&nbsp;&nbsp;&nbsp;&nbsp;&nbsp;&nbsp;&nbsp;&nbsp;&nbsp;&nbsp;&nbsp;&nbsp;&nbsp;&nbsp;&nbsp;&nbsp;&nbsp;&nbsp;&nbsp;&nbsp;&nbsp;&nbsp;'total':&nbsp;76},<br>&nbsp;&nbsp;&nbsp;&nbsp;&nbsp;&nbsp;&nbsp;&nbsp;&nbsp;&nbsp;&nbsp;&nbsp;&nbsp;&nbsp;&nbsp;&nbsp;&nbsp;&nbsp;&nbsp;&nbsp;&nbsp;&nbsp;&nbsp;&nbsp;&nbsp;&nbsp;&nbsp;&nbsp;&nbsp;&nbsp;&nbsp;&nbsp;&nbsp;{'date':&nbsp;'2020-08-20&nbsp;06:57:04',<br>&nbsp;&nbsp;&nbsp;&nbsp;&nbsp;&nbsp;&nbsp;&nbsp;&nbsp;&nbsp;&nbsp;&nbsp;&nbsp;&nbsp;&nbsp;&nbsp;&nbsp;&nbsp;&nbsp;&nbsp;&nbsp;&nbsp;&nbsp;&nbsp;&nbsp;&nbsp;&nbsp;&nbsp;&nbsp;&nbsp;&nbsp;&nbsp;&nbsp;&nbsp;'positives':&nbsp;30,<br>&nbsp;&nbsp;&nbsp;&nbsp;&nbsp;&nbsp;&nbsp;&nbsp;&nbsp;&nbsp;&nbsp;&nbsp;&nbsp;&nbsp;&nbsp;&nbsp;&nbsp;&nbsp;&nbsp;&nbsp;&nbsp;&nbsp;&nbsp;&nbsp;&nbsp;&nbsp;&nbsp;&nbsp;&nbsp;&nbsp;&nbsp;&nbsp;&nbsp;&nbsp;'sha256':&nbsp;'2c40b76408d59f906f60db97ea36503bfc59aed22a154f5d564d8449c300594f',<br>&nbsp;&nbsp;&nbsp;&nbsp;&nbsp;&nbsp;&nbsp;&nbsp;&nbsp;&nbsp;&nbsp;&nbsp;&nbsp;&nbsp;&nbsp;&nbsp;&nbsp;&nbsp;&nbsp;&nbsp;&nbsp;&nbsp;&nbsp;&nbsp;&nbsp;&nbsp;&nbsp;&nbsp;&nbsp;&nbsp;&nbsp;&nbsp;&nbsp;&nbsp;'total':&nbsp;75}],<br>&nbsp;'detected_referrer_samples':&nbsp;[{'date':&nbsp;'2020-09-09&nbsp;11:30:10',<br>&nbsp;&nbsp;&nbsp;&nbsp;&nbsp;&nbsp;&nbsp;&nbsp;&nbsp;&nbsp;&nbsp;&nbsp;&nbsp;&nbsp;&nbsp;&nbsp;&nbsp;&nbsp;&nbsp;&nbsp;&nbsp;&nbsp;&nbsp;&nbsp;&nbsp;&nbsp;&nbsp;&nbsp;&nbsp;&nbsp;&nbsp;&nbsp;'positives':&nbsp;1,<br>&nbsp;&nbsp;&nbsp;&nbsp;&nbsp;&nbsp;&nbsp;&nbsp;&nbsp;&nbsp;&nbsp;&nbsp;&nbsp;&nbsp;&nbsp;&nbsp;&nbsp;&nbsp;&nbsp;&nbsp;&nbsp;&nbsp;&nbsp;&nbsp;&nbsp;&nbsp;&nbsp;&nbsp;&nbsp;&nbsp;&nbsp;&nbsp;'sha256':&nbsp;'767fc7ae032403bce2dbcefa525cf1a9fd02bbb185e45aa88d9bc28a5f22a2b6',<br>&nbsp;&nbsp;&nbsp;&nbsp;&nbsp;&nbsp;&nbsp;&nbsp;&nbsp;&nbsp;&nbsp;&nbsp;&nbsp;&nbsp;&nbsp;&nbsp;&nbsp;&nbsp;&nbsp;&nbsp;&nbsp;&nbsp;&nbsp;&nbsp;&nbsp;&nbsp;&nbsp;&nbsp;&nbsp;&nbsp;&nbsp;&nbsp;'total':&nbsp;73}],<br>&nbsp;'detected_urls':&nbsp;[{'positives':&nbsp;10,<br>&nbsp;&nbsp;&nbsp;&nbsp;&nbsp;&nbsp;&nbsp;&nbsp;&nbsp;&nbsp;&nbsp;&nbsp;&nbsp;&nbsp;&nbsp;&nbsp;&nbsp;&nbsp;&nbsp;&nbsp;'scan_date':&nbsp;'2021-07-22&nbsp;15:03:53',<br>&nbsp;&nbsp;&nbsp;&nbsp;&nbsp;&nbsp;&nbsp;&nbsp;&nbsp;&nbsp;&nbsp;&nbsp;&nbsp;&nbsp;&nbsp;&nbsp;&nbsp;&nbsp;&nbsp;&nbsp;'total':&nbsp;90,<br>&nbsp;&nbsp;&nbsp;&nbsp;&nbsp;&nbsp;&nbsp;&nbsp;&nbsp;&nbsp;&nbsp;&nbsp;&nbsp;&nbsp;&nbsp;&nbsp;&nbsp;&nbsp;&nbsp;&nbsp;'url':&nbsp;'http://85.214.149.236/sugarcrm/themes/default/images/'},<br>&nbsp;&nbsp;&nbsp;&nbsp;&nbsp;&nbsp;&nbsp;&nbsp;&nbsp;&nbsp;&nbsp;&nbsp;&nbsp;&nbsp;&nbsp;&nbsp;&nbsp;&nbsp;&nbsp;{'positives':&nbsp;9,<br>&nbsp;&nbsp;&nbsp;&nbsp;&nbsp;&nbsp;&nbsp;&nbsp;&nbsp;&nbsp;&nbsp;&nbsp;&nbsp;&nbsp;&nbsp;&nbsp;&nbsp;&nbsp;&nbsp;&nbsp;'scan_date':&nbsp;'2021-07-22&nbsp;00:27:37',<br>&nbsp;&nbsp;&nbsp;&nbsp;&nbsp;&nbsp;&nbsp;&nbsp;&nbsp;&nbsp;&nbsp;&nbsp;&nbsp;&nbsp;&nbsp;&nbsp;&nbsp;&nbsp;&nbsp;&nbsp;'total':&nbsp;90,<br>&nbsp;&nbsp;&nbsp;&nbsp;&nbsp;&nbsp;&nbsp;&nbsp;&nbsp;&nbsp;&nbsp;&nbsp;&nbsp;&nbsp;&nbsp;&nbsp;&nbsp;&nbsp;&nbsp;&nbsp;'url':&nbsp;'http://85.214.149.236:443/sugarcrm/themes/default/images/stock.jpg'},<br>&nbsp;&nbsp;&nbsp;&nbsp;&nbsp;&nbsp;&nbsp;&nbsp;&nbsp;&nbsp;&nbsp;&nbsp;&nbsp;&nbsp;&nbsp;&nbsp;&nbsp;&nbsp;&nbsp;{'positives':&nbsp;11,<br>&nbsp;&nbsp;&nbsp;&nbsp;&nbsp;&nbsp;&nbsp;&nbsp;&nbsp;&nbsp;&nbsp;&nbsp;&nbsp;&nbsp;&nbsp;&nbsp;&nbsp;&nbsp;&nbsp;&nbsp;'scan_date':&nbsp;'2021-07-09&nbsp;11:00:43',<br>&nbsp;&nbsp;&nbsp;&nbsp;&nbsp;&nbsp;&nbsp;&nbsp;&nbsp;&nbsp;&nbsp;&nbsp;&nbsp;&nbsp;&nbsp;&nbsp;&nbsp;&nbsp;&nbsp;&nbsp;'total':&nbsp;89,<br>&nbsp;&nbsp;&nbsp;&nbsp;&nbsp;&nbsp;&nbsp;&nbsp;&nbsp;&nbsp;&nbsp;&nbsp;&nbsp;&nbsp;&nbsp;&nbsp;&nbsp;&nbsp;&nbsp;&nbsp;'url':&nbsp;'http://85.214.149.236:443/sugarcrm/themes/default/images/tshd.jpg'},<br>&nbsp;&nbsp;&nbsp;&nbsp;&nbsp;&nbsp;&nbsp;&nbsp;&nbsp;&nbsp;&nbsp;&nbsp;&nbsp;&nbsp;&nbsp;&nbsp;&nbsp;&nbsp;&nbsp;{'positives':&nbsp;8,<br>&nbsp;&nbsp;&nbsp;&nbsp;&nbsp;&nbsp;&nbsp;&nbsp;&nbsp;&nbsp;&nbsp;&nbsp;&nbsp;&nbsp;&nbsp;&nbsp;&nbsp;&nbsp;&nbsp;&nbsp;'scan_date':&nbsp;'2021-07-08&nbsp;11:39:22',<br>&nbsp;&nbsp;&nbsp;&nbsp;&nbsp;&nbsp;&nbsp;&nbsp;&nbsp;&nbsp;&nbsp;&nbsp;&nbsp;&nbsp;&nbsp;&nbsp;&nbsp;&nbsp;&nbsp;&nbsp;'total':&nbsp;89,<br>&nbsp;&nbsp;&nbsp;&nbsp;&nbsp;&nbsp;&nbsp;&nbsp;&nbsp;&nbsp;&nbsp;&nbsp;&nbsp;&nbsp;&nbsp;&nbsp;&nbsp;&nbsp;&nbsp;&nbsp;'url':&nbsp;'http://85.214.149.236/'},<br>&nbsp;&nbsp;&nbsp;&nbsp;&nbsp;&nbsp;&nbsp;&nbsp;&nbsp;&nbsp;&nbsp;&nbsp;&nbsp;&nbsp;&nbsp;&nbsp;&nbsp;&nbsp;&nbsp;{'positives':&nbsp;12,<br>&nbsp;&nbsp;&nbsp;&nbsp;&nbsp;&nbsp;&nbsp;&nbsp;&nbsp;&nbsp;&nbsp;&nbsp;&nbsp;&nbsp;&nbsp;&nbsp;&nbsp;&nbsp;&nbsp;&nbsp;'scan_date':&nbsp;'2021-07-08&nbsp;08:55:14',<br>&nbsp;&nbsp;&nbsp;&nbsp;&nbsp;&nbsp;&nbsp;&nbsp;&nbsp;&nbsp;&nbsp;&nbsp;&nbsp;&nbsp;&nbsp;&nbsp;&nbsp;&nbsp;&nbsp;&nbsp;'total':&nbsp;90,<br>&nbsp;&nbsp;&nbsp;&nbsp;&nbsp;&nbsp;&nbsp;&nbsp;&nbsp;&nbsp;&nbsp;&nbsp;&nbsp;&nbsp;&nbsp;&nbsp;&nbsp;&nbsp;&nbsp;&nbsp;'url':&nbsp;'http://85.214.149.236:443/sugarcrm/themes/default/images/bioset.jpg'},<br>&nbsp;&nbsp;&nbsp;&nbsp;&nbsp;&nbsp;&nbsp;&nbsp;&nbsp;&nbsp;&nbsp;&nbsp;&nbsp;&nbsp;&nbsp;&nbsp;&nbsp;&nbsp;&nbsp;{'positives':&nbsp;9,<br>&nbsp;&nbsp;&nbsp;&nbsp;&nbsp;&nbsp;&nbsp;&nbsp;&nbsp;&nbsp;&nbsp;&nbsp;&nbsp;&nbsp;&nbsp;&nbsp;&nbsp;&nbsp;&nbsp;&nbsp;'scan_date':&nbsp;'2021-06-28&nbsp;02:32:40',<br>&nbsp;&nbsp;&nbsp;&nbsp;&nbsp;&nbsp;&nbsp;&nbsp;&nbsp;&nbsp;&nbsp;&nbsp;&nbsp;&nbsp;&nbsp;&nbsp;&nbsp;&nbsp;&nbsp;&nbsp;'total':&nbsp;89,<br>&nbsp;&nbsp;&nbsp;&nbsp;&nbsp;&nbsp;&nbsp;&nbsp;&nbsp;&nbsp;&nbsp;&nbsp;&nbsp;&nbsp;&nbsp;&nbsp;&nbsp;&nbsp;&nbsp;&nbsp;'url':&nbsp;'http://85.214.149.236:443/sugarcrm/themes/default/images/mod.jpg'},<br>&nbsp;&nbsp;&nbsp;&nbsp;&nbsp;&nbsp;&nbsp;&nbsp;&nbsp;&nbsp;&nbsp;&nbsp;&nbsp;&nbsp;&nbsp;&nbsp;&nbsp;&nbsp;&nbsp;{'positives':&nbsp;10,<br>&nbsp;&nbsp;&nbsp;&nbsp;&nbsp;&nbsp;&nbsp;&nbsp;&nbsp;&nbsp;&nbsp;&nbsp;&nbsp;&nbsp;&nbsp;&nbsp;&nbsp;&nbsp;&nbsp;&nbsp;'scan_date':&nbsp;'2021-06-26&nbsp;00:05:01',<br>&nbsp;&nbsp;&nbsp;&nbsp;&nbsp;&nbsp;&nbsp;&nbsp;&nbsp;&nbsp;&nbsp;&nbsp;&nbsp;&nbsp;&nbsp;&nbsp;&nbsp;&nbsp;&nbsp;&nbsp;'total':&nbsp;89,<br>&nbsp;&nbsp;&nbsp;&nbsp;&nbsp;&nbsp;&nbsp;&nbsp;&nbsp;&nbsp;&nbsp;&nbsp;&nbsp;&nbsp;&nbsp;&nbsp;&nbsp;&nbsp;&nbsp;&nbsp;'url':&nbsp;'http://85.214.149.236:443/sugarcrm/themes/default/images/default.jpg'},<br>&nbsp;&nbsp;&nbsp;&nbsp;&nbsp;&nbsp;&nbsp;&nbsp;&nbsp;&nbsp;&nbsp;&nbsp;&nbsp;&nbsp;&nbsp;&nbsp;&nbsp;&nbsp;&nbsp;{'positives':&nbsp;12,<br>&nbsp;&nbsp;&nbsp;&nbsp;&nbsp;&nbsp;&nbsp;&nbsp;&nbsp;&nbsp;&nbsp;&nbsp;&nbsp;&nbsp;&nbsp;&nbsp;&nbsp;&nbsp;&nbsp;&nbsp;'scan_date':&nbsp;'2021-06-23&nbsp;12:00:19',<br>&nbsp;&nbsp;&nbsp;&nbsp;&nbsp;&nbsp;&nbsp;&nbsp;&nbsp;&nbsp;&nbsp;&nbsp;&nbsp;&nbsp;&nbsp;&nbsp;&nbsp;&nbsp;&nbsp;&nbsp;'total':&nbsp;88,<br>&nbsp;&nbsp;&nbsp;&nbsp;&nbsp;&nbsp;&nbsp;&nbsp;&nbsp;&nbsp;&nbsp;&nbsp;&nbsp;&nbsp;&nbsp;&nbsp;&nbsp;&nbsp;&nbsp;&nbsp;'url':&nbsp;'http://dockerupdate.anondns.net/'},<br>&nbsp;&nbsp;&nbsp;&nbsp;&nbsp;&nbsp;&nbsp;&nbsp;&nbsp;&nbsp;&nbsp;&nbsp;&nbsp;&nbsp;&nbsp;&nbsp;&nbsp;&nbsp;&nbsp;{'positives':&nbsp;12,<br>&nbsp;&nbsp;&nbsp;&nbsp;&nbsp;&nbsp;&nbsp;&nbsp;&nbsp;&nbsp;&nbsp;&nbsp;&nbsp;&nbsp;&nbsp;&nbsp;&nbsp;&nbsp;&nbsp;&nbsp;'scan_date':&nbsp;'2021-06-21&nbsp;01:57:07',<br>&nbsp;&nbsp;&nbsp;&nbsp;&nbsp;&nbsp;&nbsp;&nbsp;&nbsp;&nbsp;&nbsp;&nbsp;&nbsp;&nbsp;&nbsp;&nbsp;&nbsp;&nbsp;&nbsp;&nbsp;'total':&nbsp;88,<br>&nbsp;&nbsp;&nbsp;&nbsp;&nbsp;&nbsp;&nbsp;&nbsp;&nbsp;&nbsp;&nbsp;&nbsp;&nbsp;&nbsp;&nbsp;&nbsp;&nbsp;&nbsp;&nbsp;&nbsp;'url':&nbsp;'http://dockerupdate.anondns.net:443/sugarcrm/themes/default/images/'},<br>&nbsp;&nbsp;&nbsp;&nbsp;&nbsp;&nbsp;&nbsp;&nbsp;&nbsp;&nbsp;&nbsp;&nbsp;&nbsp;&nbsp;&nbsp;&nbsp;&nbsp;&nbsp;&nbsp;{'positives':&nbsp;8,<br>&nbsp;&nbsp;&nbsp;&nbsp;&nbsp;&nbsp;&nbsp;&nbsp;&nbsp;&nbsp;&nbsp;&nbsp;&nbsp;&nbsp;&nbsp;&nbsp;&nbsp;&nbsp;&nbsp;&nbsp;'scan_date':&nbsp;'2021-06-21&nbsp;01:50:52',<br>&nbsp;&nbsp;&nbsp;&nbsp;&nbsp;&nbsp;&nbsp;&nbsp;&nbsp;&nbsp;&nbsp;&nbsp;&nbsp;&nbsp;&nbsp;&nbsp;&nbsp;&nbsp;&nbsp;&nbsp;'total':&nbsp;89,<br>&nbsp;&nbsp;&nbsp;&nbsp;&nbsp;&nbsp;&nbsp;&nbsp;&nbsp;&nbsp;&nbsp;&nbsp;&nbsp;&nbsp;&nbsp;&nbsp;&nbsp;&nbsp;&nbsp;&nbsp;'url':&nbsp;'http://85.214.149.236:443/sugarcrm/themes/default/images/'},<br>&nbsp;&nbsp;&nbsp;&nbsp;&nbsp;&nbsp;&nbsp;&nbsp;&nbsp;&nbsp;&nbsp;&nbsp;&nbsp;&nbsp;&nbsp;&nbsp;&nbsp;&nbsp;&nbsp;{'positives':&nbsp;9,<br>&nbsp;&nbsp;&nbsp;&nbsp;&nbsp;&nbsp;&nbsp;&nbsp;&nbsp;&nbsp;&nbsp;&nbsp;&nbsp;&nbsp;&nbsp;&nbsp;&nbsp;&nbsp;&nbsp;&nbsp;'scan_date':&nbsp;'2021-06-19&nbsp;00:07:04',<br>&nbsp;&nbsp;&nbsp;&nbsp;&nbsp;&nbsp;&nbsp;&nbsp;&nbsp;&nbsp;&nbsp;&nbsp;&nbsp;&nbsp;&nbsp;&nbsp;&nbsp;&nbsp;&nbsp;&nbsp;'total':&nbsp;89,<br>&nbsp;&nbsp;&nbsp;&nbsp;&nbsp;&nbsp;&nbsp;&nbsp;&nbsp;&nbsp;&nbsp;&nbsp;&nbsp;&nbsp;&nbsp;&nbsp;&nbsp;&nbsp;&nbsp;&nbsp;'url':&nbsp;'http://85.214.149.236:443/sugarcrm/themes/default/images/kube.jpg'},<br>&nbsp;&nbsp;&nbsp;&nbsp;&nbsp;&nbsp;&nbsp;&nbsp;&nbsp;&nbsp;&nbsp;&nbsp;&nbsp;&nbsp;&nbsp;&nbsp;&nbsp;&nbsp;&nbsp;{'positives':&nbsp;7,<br>&nbsp;&nbsp;&nbsp;&nbsp;&nbsp;&nbsp;&nbsp;&nbsp;&nbsp;&nbsp;&nbsp;&nbsp;&nbsp;&nbsp;&nbsp;&nbsp;&nbsp;&nbsp;&nbsp;&nbsp;'scan_date':&nbsp;'2021-06-16&nbsp;08:08:57',<br>&nbsp;&nbsp;&nbsp;&nbsp;&nbsp;&nbsp;&nbsp;&nbsp;&nbsp;&nbsp;&nbsp;&nbsp;&nbsp;&nbsp;&nbsp;&nbsp;&nbsp;&nbsp;&nbsp;&nbsp;'total':&nbsp;89,<br>&nbsp;&nbsp;&nbsp;&nbsp;&nbsp;&nbsp;&nbsp;&nbsp;&nbsp;&nbsp;&nbsp;&nbsp;&nbsp;&nbsp;&nbsp;&nbsp;&nbsp;&nbsp;&nbsp;&nbsp;'url':&nbsp;'http://85.214.149.236:443/'},<br>&nbsp;&nbsp;&nbsp;&nbsp;&nbsp;&nbsp;&nbsp;&nbsp;&nbsp;&nbsp;&nbsp;&nbsp;&nbsp;&nbsp;&nbsp;&nbsp;&nbsp;&nbsp;&nbsp;{'positives':&nbsp;8,<br>&nbsp;&nbsp;&nbsp;&nbsp;&nbsp;&nbsp;&nbsp;&nbsp;&nbsp;&nbsp;&nbsp;&nbsp;&nbsp;&nbsp;&nbsp;&nbsp;&nbsp;&nbsp;&nbsp;&nbsp;'scan_date':&nbsp;'2021-06-09&nbsp;03:40:07',<br>&nbsp;&nbsp;&nbsp;&nbsp;&nbsp;&nbsp;&nbsp;&nbsp;&nbsp;&nbsp;&nbsp;&nbsp;&nbsp;&nbsp;&nbsp;&nbsp;&nbsp;&nbsp;&nbsp;&nbsp;'total':&nbsp;89,<br>&nbsp;&nbsp;&nbsp;&nbsp;&nbsp;&nbsp;&nbsp;&nbsp;&nbsp;&nbsp;&nbsp;&nbsp;&nbsp;&nbsp;&nbsp;&nbsp;&nbsp;&nbsp;&nbsp;&nbsp;'url':&nbsp;'https://85.214.149.236/sugarcrm/themes/default/images'},<br>&nbsp;&nbsp;&nbsp;&nbsp;&nbsp;&nbsp;&nbsp;&nbsp;&nbsp;&nbsp;&nbsp;&nbsp;&nbsp;&nbsp;&nbsp;&nbsp;&nbsp;&nbsp;&nbsp;{'positives':&nbsp;7,<br>&nbsp;&nbsp;&nbsp;&nbsp;&nbsp;&nbsp;&nbsp;&nbsp;&nbsp;&nbsp;&nbsp;&nbsp;&nbsp;&nbsp;&nbsp;&nbsp;&nbsp;&nbsp;&nbsp;&nbsp;'scan_date':&nbsp;'2021-06-09&nbsp;03:18:37',<br>&nbsp;&nbsp;&nbsp;&nbsp;&nbsp;&nbsp;&nbsp;&nbsp;&nbsp;&nbsp;&nbsp;&nbsp;&nbsp;&nbsp;&nbsp;&nbsp;&nbsp;&nbsp;&nbsp;&nbsp;'total':&nbsp;89,<br>&nbsp;&nbsp;&nbsp;&nbsp;&nbsp;&nbsp;&nbsp;&nbsp;&nbsp;&nbsp;&nbsp;&nbsp;&nbsp;&nbsp;&nbsp;&nbsp;&nbsp;&nbsp;&nbsp;&nbsp;'url':&nbsp;'https://85.214.149.236/sugarcrm/themes/default/images/'},<br>&nbsp;&nbsp;&nbsp;&nbsp;&nbsp;&nbsp;&nbsp;&nbsp;&nbsp;&nbsp;&nbsp;&nbsp;&nbsp;&nbsp;&nbsp;&nbsp;&nbsp;&nbsp;&nbsp;{'positives':&nbsp;8,<br>&nbsp;&nbsp;&nbsp;&nbsp;&nbsp;&nbsp;&nbsp;&nbsp;&nbsp;&nbsp;&nbsp;&nbsp;&nbsp;&nbsp;&nbsp;&nbsp;&nbsp;&nbsp;&nbsp;&nbsp;'scan_date':&nbsp;'2021-06-08&nbsp;15:50:06',<br>&nbsp;&nbsp;&nbsp;&nbsp;&nbsp;&nbsp;&nbsp;&nbsp;&nbsp;&nbsp;&nbsp;&nbsp;&nbsp;&nbsp;&nbsp;&nbsp;&nbsp;&nbsp;&nbsp;&nbsp;'total':&nbsp;89,<br>&nbsp;&nbsp;&nbsp;&nbsp;&nbsp;&nbsp;&nbsp;&nbsp;&nbsp;&nbsp;&nbsp;&nbsp;&nbsp;&nbsp;&nbsp;&nbsp;&nbsp;&nbsp;&nbsp;&nbsp;'url':&nbsp;'http://85.214.149.236:443/sugarcrm/themes/default/images'},<br>&nbsp;&nbsp;&nbsp;&nbsp;&nbsp;&nbsp;&nbsp;&nbsp;&nbsp;&nbsp;&nbsp;&nbsp;&nbsp;&nbsp;&nbsp;&nbsp;&nbsp;&nbsp;&nbsp;{'positives':&nbsp;6,<br>&nbsp;&nbsp;&nbsp;&nbsp;&nbsp;&nbsp;&nbsp;&nbsp;&nbsp;&nbsp;&nbsp;&nbsp;&nbsp;&nbsp;&nbsp;&nbsp;&nbsp;&nbsp;&nbsp;&nbsp;'scan_date':&nbsp;'2021-04-21&nbsp;00:07:34',<br>&nbsp;&nbsp;&nbsp;&nbsp;&nbsp;&nbsp;&nbsp;&nbsp;&nbsp;&nbsp;&nbsp;&nbsp;&nbsp;&nbsp;&nbsp;&nbsp;&nbsp;&nbsp;&nbsp;&nbsp;'total':&nbsp;87,<br>&nbsp;&nbsp;&nbsp;&nbsp;&nbsp;&nbsp;&nbsp;&nbsp;&nbsp;&nbsp;&nbsp;&nbsp;&nbsp;&nbsp;&nbsp;&nbsp;&nbsp;&nbsp;&nbsp;&nbsp;'url':&nbsp;'http://85.214.149.236/sugarcrm/themes/default/images/stock.jpg'},<br>&nbsp;&nbsp;&nbsp;&nbsp;&nbsp;&nbsp;&nbsp;&nbsp;&nbsp;&nbsp;&nbsp;&nbsp;&nbsp;&nbsp;&nbsp;&nbsp;&nbsp;&nbsp;&nbsp;{'positives':&nbsp;5,<br>&nbsp;&nbsp;&nbsp;&nbsp;&nbsp;&nbsp;&nbsp;&nbsp;&nbsp;&nbsp;&nbsp;&nbsp;&nbsp;&nbsp;&nbsp;&nbsp;&nbsp;&nbsp;&nbsp;&nbsp;'scan_date':&nbsp;'2021-04-01&nbsp;13:42:58',<br>&nbsp;&nbsp;&nbsp;&nbsp;&nbsp;&nbsp;&nbsp;&nbsp;&nbsp;&nbsp;&nbsp;&nbsp;&nbsp;&nbsp;&nbsp;&nbsp;&nbsp;&nbsp;&nbsp;&nbsp;'total':&nbsp;85,<br>&nbsp;&nbsp;&nbsp;&nbsp;&nbsp;&nbsp;&nbsp;&nbsp;&nbsp;&nbsp;&nbsp;&nbsp;&nbsp;&nbsp;&nbsp;&nbsp;&nbsp;&nbsp;&nbsp;&nbsp;'url':&nbsp;'http://85.214.149.236/sugarcrm/themes/default/images/mod.jpg'},<br>&nbsp;&nbsp;&nbsp;&nbsp;&nbsp;&nbsp;&nbsp;&nbsp;&nbsp;&nbsp;&nbsp;&nbsp;&nbsp;&nbsp;&nbsp;&nbsp;&nbsp;&nbsp;&nbsp;{'positives':&nbsp;9,<br>&nbsp;&nbsp;&nbsp;&nbsp;&nbsp;&nbsp;&nbsp;&nbsp;&nbsp;&nbsp;&nbsp;&nbsp;&nbsp;&nbsp;&nbsp;&nbsp;&nbsp;&nbsp;&nbsp;&nbsp;'scan_date':&nbsp;'2021-03-19&nbsp;18:12:09',<br>&nbsp;&nbsp;&nbsp;&nbsp;&nbsp;&nbsp;&nbsp;&nbsp;&nbsp;&nbsp;&nbsp;&nbsp;&nbsp;&nbsp;&nbsp;&nbsp;&nbsp;&nbsp;&nbsp;&nbsp;'total':&nbsp;85,<br>&nbsp;&nbsp;&nbsp;&nbsp;&nbsp;&nbsp;&nbsp;&nbsp;&nbsp;&nbsp;&nbsp;&nbsp;&nbsp;&nbsp;&nbsp;&nbsp;&nbsp;&nbsp;&nbsp;&nbsp;'url':&nbsp;'http://dockerupdate.anondns.net:443/sugarcrm/themes/default/images/Carray.jpg'},<br>&nbsp;&nbsp;&nbsp;&nbsp;&nbsp;&nbsp;&nbsp;&nbsp;&nbsp;&nbsp;&nbsp;&nbsp;&nbsp;&nbsp;&nbsp;&nbsp;&nbsp;&nbsp;&nbsp;{'positives':&nbsp;6,<br>&nbsp;&nbsp;&nbsp;&nbsp;&nbsp;&nbsp;&nbsp;&nbsp;&nbsp;&nbsp;&nbsp;&nbsp;&nbsp;&nbsp;&nbsp;&nbsp;&nbsp;&nbsp;&nbsp;&nbsp;'scan_date':&nbsp;'2021-01-12&nbsp;10:34:27',<br>&nbsp;&nbsp;&nbsp;&nbsp;&nbsp;&nbsp;&nbsp;&nbsp;&nbsp;&nbsp;&nbsp;&nbsp;&nbsp;&nbsp;&nbsp;&nbsp;&nbsp;&nbsp;&nbsp;&nbsp;'total':&nbsp;83,<br>&nbsp;&nbsp;&nbsp;&nbsp;&nbsp;&nbsp;&nbsp;&nbsp;&nbsp;&nbsp;&nbsp;&nbsp;&nbsp;&nbsp;&nbsp;&nbsp;&nbsp;&nbsp;&nbsp;&nbsp;'url':&nbsp;'http://85.214.149.236/sugarcrm/themes/default/images/kube.jpg'},<br>&nbsp;&nbsp;&nbsp;&nbsp;&nbsp;&nbsp;&nbsp;&nbsp;&nbsp;&nbsp;&nbsp;&nbsp;&nbsp;&nbsp;&nbsp;&nbsp;&nbsp;&nbsp;&nbsp;{'positives':&nbsp;10,<br>&nbsp;&nbsp;&nbsp;&nbsp;&nbsp;&nbsp;&nbsp;&nbsp;&nbsp;&nbsp;&nbsp;&nbsp;&nbsp;&nbsp;&nbsp;&nbsp;&nbsp;&nbsp;&nbsp;&nbsp;'scan_date':&nbsp;'2020-12-28&nbsp;02:17:00',<br>&nbsp;&nbsp;&nbsp;&nbsp;&nbsp;&nbsp;&nbsp;&nbsp;&nbsp;&nbsp;&nbsp;&nbsp;&nbsp;&nbsp;&nbsp;&nbsp;&nbsp;&nbsp;&nbsp;&nbsp;'total':&nbsp;83,<br>&nbsp;&nbsp;&nbsp;&nbsp;&nbsp;&nbsp;&nbsp;&nbsp;&nbsp;&nbsp;&nbsp;&nbsp;&nbsp;&nbsp;&nbsp;&nbsp;&nbsp;&nbsp;&nbsp;&nbsp;'url':&nbsp;'http://dockerupdate.anondns.net/sugarcrm/themes/default/images/'},<br>&nbsp;&nbsp;&nbsp;&nbsp;&nbsp;&nbsp;&nbsp;&nbsp;&nbsp;&nbsp;&nbsp;&nbsp;&nbsp;&nbsp;&nbsp;&nbsp;&nbsp;&nbsp;&nbsp;{'positives':&nbsp;6,<br>&nbsp;&nbsp;&nbsp;&nbsp;&nbsp;&nbsp;&nbsp;&nbsp;&nbsp;&nbsp;&nbsp;&nbsp;&nbsp;&nbsp;&nbsp;&nbsp;&nbsp;&nbsp;&nbsp;&nbsp;'scan_date':&nbsp;'2020-12-19&nbsp;10:34:37',<br>&nbsp;&nbsp;&nbsp;&nbsp;&nbsp;&nbsp;&nbsp;&nbsp;&nbsp;&nbsp;&nbsp;&nbsp;&nbsp;&nbsp;&nbsp;&nbsp;&nbsp;&nbsp;&nbsp;&nbsp;'total':&nbsp;83,<br>&nbsp;&nbsp;&nbsp;&nbsp;&nbsp;&nbsp;&nbsp;&nbsp;&nbsp;&nbsp;&nbsp;&nbsp;&nbsp;&nbsp;&nbsp;&nbsp;&nbsp;&nbsp;&nbsp;&nbsp;'url':&nbsp;'http://85.214.149.236/sugarcrm/themes/default/images/default.jpg'},<br>&nbsp;&nbsp;&nbsp;&nbsp;&nbsp;&nbsp;&nbsp;&nbsp;&nbsp;&nbsp;&nbsp;&nbsp;&nbsp;&nbsp;&nbsp;&nbsp;&nbsp;&nbsp;&nbsp;{'positives':&nbsp;6,<br>&nbsp;&nbsp;&nbsp;&nbsp;&nbsp;&nbsp;&nbsp;&nbsp;&nbsp;&nbsp;&nbsp;&nbsp;&nbsp;&nbsp;&nbsp;&nbsp;&nbsp;&nbsp;&nbsp;&nbsp;'scan_date':&nbsp;'2020-11-12&nbsp;16:50:51',<br>&nbsp;&nbsp;&nbsp;&nbsp;&nbsp;&nbsp;&nbsp;&nbsp;&nbsp;&nbsp;&nbsp;&nbsp;&nbsp;&nbsp;&nbsp;&nbsp;&nbsp;&nbsp;&nbsp;&nbsp;'total':&nbsp;81,<br>&nbsp;&nbsp;&nbsp;&nbsp;&nbsp;&nbsp;&nbsp;&nbsp;&nbsp;&nbsp;&nbsp;&nbsp;&nbsp;&nbsp;&nbsp;&nbsp;&nbsp;&nbsp;&nbsp;&nbsp;'url':&nbsp;'http://85.214.149.236/sugarcrm/themes'},<br>&nbsp;&nbsp;&nbsp;&nbsp;&nbsp;&nbsp;&nbsp;&nbsp;&nbsp;&nbsp;&nbsp;&nbsp;&nbsp;&nbsp;&nbsp;&nbsp;&nbsp;&nbsp;&nbsp;{'positives':&nbsp;14,<br>&nbsp;&nbsp;&nbsp;&nbsp;&nbsp;&nbsp;&nbsp;&nbsp;&nbsp;&nbsp;&nbsp;&nbsp;&nbsp;&nbsp;&nbsp;&nbsp;&nbsp;&nbsp;&nbsp;&nbsp;'scan_date':&nbsp;'2020-11-10&nbsp;11:01:42',<br>&nbsp;&nbsp;&nbsp;&nbsp;&nbsp;&nbsp;&nbsp;&nbsp;&nbsp;&nbsp;&nbsp;&nbsp;&nbsp;&nbsp;&nbsp;&nbsp;&nbsp;&nbsp;&nbsp;&nbsp;'total':&nbsp;81,<br>&nbsp;&nbsp;&nbsp;&nbsp;&nbsp;&nbsp;&nbsp;&nbsp;&nbsp;&nbsp;&nbsp;&nbsp;&nbsp;&nbsp;&nbsp;&nbsp;&nbsp;&nbsp;&nbsp;&nbsp;'url':&nbsp;'http://dockerupdate.anondns.net:443/sugarcrm/themes/default/images/mos.jpg'},<br>&nbsp;&nbsp;&nbsp;&nbsp;&nbsp;&nbsp;&nbsp;&nbsp;&nbsp;&nbsp;&nbsp;&nbsp;&nbsp;&nbsp;&nbsp;&nbsp;&nbsp;&nbsp;&nbsp;{'positives':&nbsp;14,<br>&nbsp;&nbsp;&nbsp;&nbsp;&nbsp;&nbsp;&nbsp;&nbsp;&nbsp;&nbsp;&nbsp;&nbsp;&nbsp;&nbsp;&nbsp;&nbsp;&nbsp;&nbsp;&nbsp;&nbsp;'scan_date':&nbsp;'2020-11-08&nbsp;15:00:49',<br>&nbsp;&nbsp;&nbsp;&nbsp;&nbsp;&nbsp;&nbsp;&nbsp;&nbsp;&nbsp;&nbsp;&nbsp;&nbsp;&nbsp;&nbsp;&nbsp;&nbsp;&nbsp;&nbsp;&nbsp;'total':&nbsp;81,<br>&nbsp;&nbsp;&nbsp;&nbsp;&nbsp;&nbsp;&nbsp;&nbsp;&nbsp;&nbsp;&nbsp;&nbsp;&nbsp;&nbsp;&nbsp;&nbsp;&nbsp;&nbsp;&nbsp;&nbsp;'url':&nbsp;'http://dockerupdate.anondns.net:443/sugarcrm/themes/default/images/nk.jpg'},<br>&nbsp;&nbsp;&nbsp;&nbsp;&nbsp;&nbsp;&nbsp;&nbsp;&nbsp;&nbsp;&nbsp;&nbsp;&nbsp;&nbsp;&nbsp;&nbsp;&nbsp;&nbsp;&nbsp;{'positives':&nbsp;6,<br>&nbsp;&nbsp;&nbsp;&nbsp;&nbsp;&nbsp;&nbsp;&nbsp;&nbsp;&nbsp;&nbsp;&nbsp;&nbsp;&nbsp;&nbsp;&nbsp;&nbsp;&nbsp;&nbsp;&nbsp;'scan_date':&nbsp;'2020-11-04&nbsp;19:21:25',<br>&nbsp;&nbsp;&nbsp;&nbsp;&nbsp;&nbsp;&nbsp;&nbsp;&nbsp;&nbsp;&nbsp;&nbsp;&nbsp;&nbsp;&nbsp;&nbsp;&nbsp;&nbsp;&nbsp;&nbsp;'total':&nbsp;81,<br>&nbsp;&nbsp;&nbsp;&nbsp;&nbsp;&nbsp;&nbsp;&nbsp;&nbsp;&nbsp;&nbsp;&nbsp;&nbsp;&nbsp;&nbsp;&nbsp;&nbsp;&nbsp;&nbsp;&nbsp;'url':&nbsp;'http://85.214.149.236/sugarcrm/themes/default'},<br>&nbsp;&nbsp;&nbsp;&nbsp;&nbsp;&nbsp;&nbsp;&nbsp;&nbsp;&nbsp;&nbsp;&nbsp;&nbsp;&nbsp;&nbsp;&nbsp;&nbsp;&nbsp;&nbsp;{'positives':&nbsp;6,<br>&nbsp;&nbsp;&nbsp;&nbsp;&nbsp;&nbsp;&nbsp;&nbsp;&nbsp;&nbsp;&nbsp;&nbsp;&nbsp;&nbsp;&nbsp;&nbsp;&nbsp;&nbsp;&nbsp;&nbsp;'scan_date':&nbsp;'2020-10-29&nbsp;00:55:07',<br>&nbsp;&nbsp;&nbsp;&nbsp;&nbsp;&nbsp;&nbsp;&nbsp;&nbsp;&nbsp;&nbsp;&nbsp;&nbsp;&nbsp;&nbsp;&nbsp;&nbsp;&nbsp;&nbsp;&nbsp;'total':&nbsp;81,<br>&nbsp;&nbsp;&nbsp;&nbsp;&nbsp;&nbsp;&nbsp;&nbsp;&nbsp;&nbsp;&nbsp;&nbsp;&nbsp;&nbsp;&nbsp;&nbsp;&nbsp;&nbsp;&nbsp;&nbsp;'url':&nbsp;'http://85.214.149.236/sugarcrm/themes/default/images'},<br>&nbsp;&nbsp;&nbsp;&nbsp;&nbsp;&nbsp;&nbsp;&nbsp;&nbsp;&nbsp;&nbsp;&nbsp;&nbsp;&nbsp;&nbsp;&nbsp;&nbsp;&nbsp;&nbsp;{'positives':&nbsp;12,<br>&nbsp;&nbsp;&nbsp;&nbsp;&nbsp;&nbsp;&nbsp;&nbsp;&nbsp;&nbsp;&nbsp;&nbsp;&nbsp;&nbsp;&nbsp;&nbsp;&nbsp;&nbsp;&nbsp;&nbsp;'scan_date':&nbsp;'2020-09-28&nbsp;03:26:34',<br>&nbsp;&nbsp;&nbsp;&nbsp;&nbsp;&nbsp;&nbsp;&nbsp;&nbsp;&nbsp;&nbsp;&nbsp;&nbsp;&nbsp;&nbsp;&nbsp;&nbsp;&nbsp;&nbsp;&nbsp;'total':&nbsp;80,<br>&nbsp;&nbsp;&nbsp;&nbsp;&nbsp;&nbsp;&nbsp;&nbsp;&nbsp;&nbsp;&nbsp;&nbsp;&nbsp;&nbsp;&nbsp;&nbsp;&nbsp;&nbsp;&nbsp;&nbsp;'url':&nbsp;'http://dockerupdate.anondns.net:443/sugarcrm'},<br>&nbsp;&nbsp;&nbsp;&nbsp;&nbsp;&nbsp;&nbsp;&nbsp;&nbsp;&nbsp;&nbsp;&nbsp;&nbsp;&nbsp;&nbsp;&nbsp;&nbsp;&nbsp;&nbsp;{'positives':&nbsp;9,<br>&nbsp;&nbsp;&nbsp;&nbsp;&nbsp;&nbsp;&nbsp;&nbsp;&nbsp;&nbsp;&nbsp;&nbsp;&nbsp;&nbsp;&nbsp;&nbsp;&nbsp;&nbsp;&nbsp;&nbsp;'scan_date':&nbsp;'2020-09-28&nbsp;03:06:19',<br>&nbsp;&nbsp;&nbsp;&nbsp;&nbsp;&nbsp;&nbsp;&nbsp;&nbsp;&nbsp;&nbsp;&nbsp;&nbsp;&nbsp;&nbsp;&nbsp;&nbsp;&nbsp;&nbsp;&nbsp;'total':&nbsp;80,<br>&nbsp;&nbsp;&nbsp;&nbsp;&nbsp;&nbsp;&nbsp;&nbsp;&nbsp;&nbsp;&nbsp;&nbsp;&nbsp;&nbsp;&nbsp;&nbsp;&nbsp;&nbsp;&nbsp;&nbsp;'url':&nbsp;'http://85.214.149.236/sugarcrm/.../dns'},<br>&nbsp;&nbsp;&nbsp;&nbsp;&nbsp;&nbsp;&nbsp;&nbsp;&nbsp;&nbsp;&nbsp;&nbsp;&nbsp;&nbsp;&nbsp;&nbsp;&nbsp;&nbsp;&nbsp;{'positives':&nbsp;11,<br>&nbsp;&nbsp;&nbsp;&nbsp;&nbsp;&nbsp;&nbsp;&nbsp;&nbsp;&nbsp;&nbsp;&nbsp;&nbsp;&nbsp;&nbsp;&nbsp;&nbsp;&nbsp;&nbsp;&nbsp;'scan_date':&nbsp;'2020-09-24&nbsp;14:01:08',<br>&nbsp;&nbsp;&nbsp;&nbsp;&nbsp;&nbsp;&nbsp;&nbsp;&nbsp;&nbsp;&nbsp;&nbsp;&nbsp;&nbsp;&nbsp;&nbsp;&nbsp;&nbsp;&nbsp;&nbsp;'total':&nbsp;80,<br>&nbsp;&nbsp;&nbsp;&nbsp;&nbsp;&nbsp;&nbsp;&nbsp;&nbsp;&nbsp;&nbsp;&nbsp;&nbsp;&nbsp;&nbsp;&nbsp;&nbsp;&nbsp;&nbsp;&nbsp;'url':&nbsp;'http://dockerupdate.anondns.net/sugarcrm/themes/default/images'},<br>&nbsp;&nbsp;&nbsp;&nbsp;&nbsp;&nbsp;&nbsp;&nbsp;&nbsp;&nbsp;&nbsp;&nbsp;&nbsp;&nbsp;&nbsp;&nbsp;&nbsp;&nbsp;&nbsp;{'positives':&nbsp;12,<br>&nbsp;&nbsp;&nbsp;&nbsp;&nbsp;&nbsp;&nbsp;&nbsp;&nbsp;&nbsp;&nbsp;&nbsp;&nbsp;&nbsp;&nbsp;&nbsp;&nbsp;&nbsp;&nbsp;&nbsp;'scan_date':&nbsp;'2020-09-21&nbsp;17:20:19',<br>&nbsp;&nbsp;&nbsp;&nbsp;&nbsp;&nbsp;&nbsp;&nbsp;&nbsp;&nbsp;&nbsp;&nbsp;&nbsp;&nbsp;&nbsp;&nbsp;&nbsp;&nbsp;&nbsp;&nbsp;'total':&nbsp;80,<br>&nbsp;&nbsp;&nbsp;&nbsp;&nbsp;&nbsp;&nbsp;&nbsp;&nbsp;&nbsp;&nbsp;&nbsp;&nbsp;&nbsp;&nbsp;&nbsp;&nbsp;&nbsp;&nbsp;&nbsp;'url':&nbsp;'http://dockerupdate.anondns.net:443/sugarcrm/themes/default/images/carray.jpg'},<br>&nbsp;&nbsp;&nbsp;&nbsp;&nbsp;&nbsp;&nbsp;&nbsp;&nbsp;&nbsp;&nbsp;&nbsp;&nbsp;&nbsp;&nbsp;&nbsp;&nbsp;&nbsp;&nbsp;{'positives':&nbsp;6,<br>&nbsp;&nbsp;&nbsp;&nbsp;&nbsp;&nbsp;&nbsp;&nbsp;&nbsp;&nbsp;&nbsp;&nbsp;&nbsp;&nbsp;&nbsp;&nbsp;&nbsp;&nbsp;&nbsp;&nbsp;'scan_date':&nbsp;'2020-09-20&nbsp;16:04:57',<br>&nbsp;&nbsp;&nbsp;&nbsp;&nbsp;&nbsp;&nbsp;&nbsp;&nbsp;&nbsp;&nbsp;&nbsp;&nbsp;&nbsp;&nbsp;&nbsp;&nbsp;&nbsp;&nbsp;&nbsp;'total':&nbsp;80,<br>&nbsp;&nbsp;&nbsp;&nbsp;&nbsp;&nbsp;&nbsp;&nbsp;&nbsp;&nbsp;&nbsp;&nbsp;&nbsp;&nbsp;&nbsp;&nbsp;&nbsp;&nbsp;&nbsp;&nbsp;'url':&nbsp;'http://85.214.149.236/sugarcrm'},<br>&nbsp;&nbsp;&nbsp;&nbsp;&nbsp;&nbsp;&nbsp;&nbsp;&nbsp;&nbsp;&nbsp;&nbsp;&nbsp;&nbsp;&nbsp;&nbsp;&nbsp;&nbsp;&nbsp;{'positives':&nbsp;9,<br>&nbsp;&nbsp;&nbsp;&nbsp;&nbsp;&nbsp;&nbsp;&nbsp;&nbsp;&nbsp;&nbsp;&nbsp;&nbsp;&nbsp;&nbsp;&nbsp;&nbsp;&nbsp;&nbsp;&nbsp;'scan_date':&nbsp;'2020-09-17&nbsp;17:36:08',<br>&nbsp;&nbsp;&nbsp;&nbsp;&nbsp;&nbsp;&nbsp;&nbsp;&nbsp;&nbsp;&nbsp;&nbsp;&nbsp;&nbsp;&nbsp;&nbsp;&nbsp;&nbsp;&nbsp;&nbsp;'total':&nbsp;80,<br>&nbsp;&nbsp;&nbsp;&nbsp;&nbsp;&nbsp;&nbsp;&nbsp;&nbsp;&nbsp;&nbsp;&nbsp;&nbsp;&nbsp;&nbsp;&nbsp;&nbsp;&nbsp;&nbsp;&nbsp;'url':&nbsp;'http://85.214.149.236:443/sugarcrm/banner.php'},<br>&nbsp;&nbsp;&nbsp;&nbsp;&nbsp;&nbsp;&nbsp;&nbsp;&nbsp;&nbsp;&nbsp;&nbsp;&nbsp;&nbsp;&nbsp;&nbsp;&nbsp;&nbsp;&nbsp;{'positives':&nbsp;11,<br>&nbsp;&nbsp;&nbsp;&nbsp;&nbsp;&nbsp;&nbsp;&nbsp;&nbsp;&nbsp;&nbsp;&nbsp;&nbsp;&nbsp;&nbsp;&nbsp;&nbsp;&nbsp;&nbsp;&nbsp;'scan_date':&nbsp;'2020-09-10&nbsp;07:55:21',<br>&nbsp;&nbsp;&nbsp;&nbsp;&nbsp;&nbsp;&nbsp;&nbsp;&nbsp;&nbsp;&nbsp;&nbsp;&nbsp;&nbsp;&nbsp;&nbsp;&nbsp;&nbsp;&nbsp;&nbsp;'total':&nbsp;80,<br>&nbsp;&nbsp;&nbsp;&nbsp;&nbsp;&nbsp;&nbsp;&nbsp;&nbsp;&nbsp;&nbsp;&nbsp;&nbsp;&nbsp;&nbsp;&nbsp;&nbsp;&nbsp;&nbsp;&nbsp;'url':&nbsp;'http://dockerupdate.anondns.net:443/sugarcrm/'},<br>&nbsp;&nbsp;&nbsp;&nbsp;&nbsp;&nbsp;&nbsp;&nbsp;&nbsp;&nbsp;&nbsp;&nbsp;&nbsp;&nbsp;&nbsp;&nbsp;&nbsp;&nbsp;&nbsp;{'positives':&nbsp;10,<br>&nbsp;&nbsp;&nbsp;&nbsp;&nbsp;&nbsp;&nbsp;&nbsp;&nbsp;&nbsp;&nbsp;&nbsp;&nbsp;&nbsp;&nbsp;&nbsp;&nbsp;&nbsp;&nbsp;&nbsp;'scan_date':&nbsp;'2020-09-09&nbsp;12:06:14',<br>&nbsp;&nbsp;&nbsp;&nbsp;&nbsp;&nbsp;&nbsp;&nbsp;&nbsp;&nbsp;&nbsp;&nbsp;&nbsp;&nbsp;&nbsp;&nbsp;&nbsp;&nbsp;&nbsp;&nbsp;'total':&nbsp;80,<br>&nbsp;&nbsp;&nbsp;&nbsp;&nbsp;&nbsp;&nbsp;&nbsp;&nbsp;&nbsp;&nbsp;&nbsp;&nbsp;&nbsp;&nbsp;&nbsp;&nbsp;&nbsp;&nbsp;&nbsp;'url':&nbsp;'http://dockerupdate.anondns.net:443/sugarcrm/themes/default/images/Carray.jpg/'},<br>&nbsp;&nbsp;&nbsp;&nbsp;&nbsp;&nbsp;&nbsp;&nbsp;&nbsp;&nbsp;&nbsp;&nbsp;&nbsp;&nbsp;&nbsp;&nbsp;&nbsp;&nbsp;&nbsp;{'positives':&nbsp;4,<br>&nbsp;&nbsp;&nbsp;&nbsp;&nbsp;&nbsp;&nbsp;&nbsp;&nbsp;&nbsp;&nbsp;&nbsp;&nbsp;&nbsp;&nbsp;&nbsp;&nbsp;&nbsp;&nbsp;&nbsp;'scan_date':&nbsp;'2020-09-09&nbsp;12:05:12',<br>&nbsp;&nbsp;&nbsp;&nbsp;&nbsp;&nbsp;&nbsp;&nbsp;&nbsp;&nbsp;&nbsp;&nbsp;&nbsp;&nbsp;&nbsp;&nbsp;&nbsp;&nbsp;&nbsp;&nbsp;'total':&nbsp;80,<br>&nbsp;&nbsp;&nbsp;&nbsp;&nbsp;&nbsp;&nbsp;&nbsp;&nbsp;&nbsp;&nbsp;&nbsp;&nbsp;&nbsp;&nbsp;&nbsp;&nbsp;&nbsp;&nbsp;&nbsp;'url':&nbsp;'http://85.214.149.236:443/sugarcrm/themes/default/images/bioset.jpg/'},<br>&nbsp;&nbsp;&nbsp;&nbsp;&nbsp;&nbsp;&nbsp;&nbsp;&nbsp;&nbsp;&nbsp;&nbsp;&nbsp;&nbsp;&nbsp;&nbsp;&nbsp;&nbsp;&nbsp;{'positives':&nbsp;11,<br>&nbsp;&nbsp;&nbsp;&nbsp;&nbsp;&nbsp;&nbsp;&nbsp;&nbsp;&nbsp;&nbsp;&nbsp;&nbsp;&nbsp;&nbsp;&nbsp;&nbsp;&nbsp;&nbsp;&nbsp;'scan_date':&nbsp;'2020-09-09&nbsp;11:59:35',<br>&nbsp;&nbsp;&nbsp;&nbsp;&nbsp;&nbsp;&nbsp;&nbsp;&nbsp;&nbsp;&nbsp;&nbsp;&nbsp;&nbsp;&nbsp;&nbsp;&nbsp;&nbsp;&nbsp;&nbsp;'total':&nbsp;80,<br>&nbsp;&nbsp;&nbsp;&nbsp;&nbsp;&nbsp;&nbsp;&nbsp;&nbsp;&nbsp;&nbsp;&nbsp;&nbsp;&nbsp;&nbsp;&nbsp;&nbsp;&nbsp;&nbsp;&nbsp;'url':&nbsp;'http://dockerupdate.anondns.net/sugarcrm/themes/default/images/mos.jpg'},<br>&nbsp;&nbsp;&nbsp;&nbsp;&nbsp;&nbsp;&nbsp;&nbsp;&nbsp;&nbsp;&nbsp;&nbsp;&nbsp;&nbsp;&nbsp;&nbsp;&nbsp;&nbsp;&nbsp;{'positives':&nbsp;5,<br>&nbsp;&nbsp;&nbsp;&nbsp;&nbsp;&nbsp;&nbsp;&nbsp;&nbsp;&nbsp;&nbsp;&nbsp;&nbsp;&nbsp;&nbsp;&nbsp;&nbsp;&nbsp;&nbsp;&nbsp;'scan_date':&nbsp;'2020-09-09&nbsp;11:48:55',<br>&nbsp;&nbsp;&nbsp;&nbsp;&nbsp;&nbsp;&nbsp;&nbsp;&nbsp;&nbsp;&nbsp;&nbsp;&nbsp;&nbsp;&nbsp;&nbsp;&nbsp;&nbsp;&nbsp;&nbsp;'total':&nbsp;80,<br>&nbsp;&nbsp;&nbsp;&nbsp;&nbsp;&nbsp;&nbsp;&nbsp;&nbsp;&nbsp;&nbsp;&nbsp;&nbsp;&nbsp;&nbsp;&nbsp;&nbsp;&nbsp;&nbsp;&nbsp;'url':&nbsp;'http://85.214.149.236:443/sugarcrm/.../run'},<br>&nbsp;&nbsp;&nbsp;&nbsp;&nbsp;&nbsp;&nbsp;&nbsp;&nbsp;&nbsp;&nbsp;&nbsp;&nbsp;&nbsp;&nbsp;&nbsp;&nbsp;&nbsp;&nbsp;{'positives':&nbsp;4,<br>&nbsp;&nbsp;&nbsp;&nbsp;&nbsp;&nbsp;&nbsp;&nbsp;&nbsp;&nbsp;&nbsp;&nbsp;&nbsp;&nbsp;&nbsp;&nbsp;&nbsp;&nbsp;&nbsp;&nbsp;'scan_date':&nbsp;'2020-09-09&nbsp;11:44:28',<br>&nbsp;&nbsp;&nbsp;&nbsp;&nbsp;&nbsp;&nbsp;&nbsp;&nbsp;&nbsp;&nbsp;&nbsp;&nbsp;&nbsp;&nbsp;&nbsp;&nbsp;&nbsp;&nbsp;&nbsp;'total':&nbsp;80,<br>&nbsp;&nbsp;&nbsp;&nbsp;&nbsp;&nbsp;&nbsp;&nbsp;&nbsp;&nbsp;&nbsp;&nbsp;&nbsp;&nbsp;&nbsp;&nbsp;&nbsp;&nbsp;&nbsp;&nbsp;'url':&nbsp;'http://85.214.149.236:443/sugarcrm/themes/default/images/mod.js'},<br>&nbsp;&nbsp;&nbsp;&nbsp;&nbsp;&nbsp;&nbsp;&nbsp;&nbsp;&nbsp;&nbsp;&nbsp;&nbsp;&nbsp;&nbsp;&nbsp;&nbsp;&nbsp;&nbsp;{'positives':&nbsp;6,<br>&nbsp;&nbsp;&nbsp;&nbsp;&nbsp;&nbsp;&nbsp;&nbsp;&nbsp;&nbsp;&nbsp;&nbsp;&nbsp;&nbsp;&nbsp;&nbsp;&nbsp;&nbsp;&nbsp;&nbsp;'scan_date':&nbsp;'2020-09-09&nbsp;11:35:26',<br>&nbsp;&nbsp;&nbsp;&nbsp;&nbsp;&nbsp;&nbsp;&nbsp;&nbsp;&nbsp;&nbsp;&nbsp;&nbsp;&nbsp;&nbsp;&nbsp;&nbsp;&nbsp;&nbsp;&nbsp;'total':&nbsp;80,<br>&nbsp;&nbsp;&nbsp;&nbsp;&nbsp;&nbsp;&nbsp;&nbsp;&nbsp;&nbsp;&nbsp;&nbsp;&nbsp;&nbsp;&nbsp;&nbsp;&nbsp;&nbsp;&nbsp;&nbsp;'url':&nbsp;'http://85.214.149.236:443/sugarcrm/.../cron.sh'},<br>&nbsp;&nbsp;&nbsp;&nbsp;&nbsp;&nbsp;&nbsp;&nbsp;&nbsp;&nbsp;&nbsp;&nbsp;&nbsp;&nbsp;&nbsp;&nbsp;&nbsp;&nbsp;&nbsp;{'positives':&nbsp;11,<br>&nbsp;&nbsp;&nbsp;&nbsp;&nbsp;&nbsp;&nbsp;&nbsp;&nbsp;&nbsp;&nbsp;&nbsp;&nbsp;&nbsp;&nbsp;&nbsp;&nbsp;&nbsp;&nbsp;&nbsp;'scan_date':&nbsp;'2020-09-09&nbsp;11:30:00',<br>&nbsp;&nbsp;&nbsp;&nbsp;&nbsp;&nbsp;&nbsp;&nbsp;&nbsp;&nbsp;&nbsp;&nbsp;&nbsp;&nbsp;&nbsp;&nbsp;&nbsp;&nbsp;&nbsp;&nbsp;'total':&nbsp;80,<br>&nbsp;&nbsp;&nbsp;&nbsp;&nbsp;&nbsp;&nbsp;&nbsp;&nbsp;&nbsp;&nbsp;&nbsp;&nbsp;&nbsp;&nbsp;&nbsp;&nbsp;&nbsp;&nbsp;&nbsp;'url':&nbsp;'http://dockerupdate.anondns.net/sugarcrm/themes/default/images/nk.jpg'},<br>&nbsp;&nbsp;&nbsp;&nbsp;&nbsp;&nbsp;&nbsp;&nbsp;&nbsp;&nbsp;&nbsp;&nbsp;&nbsp;&nbsp;&nbsp;&nbsp;&nbsp;&nbsp;&nbsp;{'positives':&nbsp;5,<br>&nbsp;&nbsp;&nbsp;&nbsp;&nbsp;&nbsp;&nbsp;&nbsp;&nbsp;&nbsp;&nbsp;&nbsp;&nbsp;&nbsp;&nbsp;&nbsp;&nbsp;&nbsp;&nbsp;&nbsp;'scan_date':&nbsp;'2020-09-05&nbsp;03:44:35',<br>&nbsp;&nbsp;&nbsp;&nbsp;&nbsp;&nbsp;&nbsp;&nbsp;&nbsp;&nbsp;&nbsp;&nbsp;&nbsp;&nbsp;&nbsp;&nbsp;&nbsp;&nbsp;&nbsp;&nbsp;'total':&nbsp;80,<br>&nbsp;&nbsp;&nbsp;&nbsp;&nbsp;&nbsp;&nbsp;&nbsp;&nbsp;&nbsp;&nbsp;&nbsp;&nbsp;&nbsp;&nbsp;&nbsp;&nbsp;&nbsp;&nbsp;&nbsp;'url':&nbsp;'http://85.214.149.236/sugarcrm/...'},<br>&nbsp;&nbsp;&nbsp;&nbsp;&nbsp;&nbsp;&nbsp;&nbsp;&nbsp;&nbsp;&nbsp;&nbsp;&nbsp;&nbsp;&nbsp;&nbsp;&nbsp;&nbsp;&nbsp;{'positives':&nbsp;8,<br>&nbsp;&nbsp;&nbsp;&nbsp;&nbsp;&nbsp;&nbsp;&nbsp;&nbsp;&nbsp;&nbsp;&nbsp;&nbsp;&nbsp;&nbsp;&nbsp;&nbsp;&nbsp;&nbsp;&nbsp;'scan_date':&nbsp;'2020-09-02&nbsp;06:09:23',<br>&nbsp;&nbsp;&nbsp;&nbsp;&nbsp;&nbsp;&nbsp;&nbsp;&nbsp;&nbsp;&nbsp;&nbsp;&nbsp;&nbsp;&nbsp;&nbsp;&nbsp;&nbsp;&nbsp;&nbsp;'total':&nbsp;80,<br>&nbsp;&nbsp;&nbsp;&nbsp;&nbsp;&nbsp;&nbsp;&nbsp;&nbsp;&nbsp;&nbsp;&nbsp;&nbsp;&nbsp;&nbsp;&nbsp;&nbsp;&nbsp;&nbsp;&nbsp;'url':&nbsp;'https://dockerupdate.anondns.net/'},<br>&nbsp;&nbsp;&nbsp;&nbsp;&nbsp;&nbsp;&nbsp;&nbsp;&nbsp;&nbsp;&nbsp;&nbsp;&nbsp;&nbsp;&nbsp;&nbsp;&nbsp;&nbsp;&nbsp;{'positives':&nbsp;6,<br>&nbsp;&nbsp;&nbsp;&nbsp;&nbsp;&nbsp;&nbsp;&nbsp;&nbsp;&nbsp;&nbsp;&nbsp;&nbsp;&nbsp;&nbsp;&nbsp;&nbsp;&nbsp;&nbsp;&nbsp;'scan_date':&nbsp;'2020-09-01&nbsp;17:37:50',<br>&nbsp;&nbsp;&nbsp;&nbsp;&nbsp;&nbsp;&nbsp;&nbsp;&nbsp;&nbsp;&nbsp;&nbsp;&nbsp;&nbsp;&nbsp;&nbsp;&nbsp;&nbsp;&nbsp;&nbsp;'total':&nbsp;79,<br>&nbsp;&nbsp;&nbsp;&nbsp;&nbsp;&nbsp;&nbsp;&nbsp;&nbsp;&nbsp;&nbsp;&nbsp;&nbsp;&nbsp;&nbsp;&nbsp;&nbsp;&nbsp;&nbsp;&nbsp;'url':&nbsp;'http://85.214.149.236:443/sugarcrm/.../dns'},<br>&nbsp;&nbsp;&nbsp;&nbsp;&nbsp;&nbsp;&nbsp;&nbsp;&nbsp;&nbsp;&nbsp;&nbsp;&nbsp;&nbsp;&nbsp;&nbsp;&nbsp;&nbsp;&nbsp;{'positives':&nbsp;1,<br>&nbsp;&nbsp;&nbsp;&nbsp;&nbsp;&nbsp;&nbsp;&nbsp;&nbsp;&nbsp;&nbsp;&nbsp;&nbsp;&nbsp;&nbsp;&nbsp;&nbsp;&nbsp;&nbsp;&nbsp;'scan_date':&nbsp;'2020-08-28&nbsp;08:15:47',<br>&nbsp;&nbsp;&nbsp;&nbsp;&nbsp;&nbsp;&nbsp;&nbsp;&nbsp;&nbsp;&nbsp;&nbsp;&nbsp;&nbsp;&nbsp;&nbsp;&nbsp;&nbsp;&nbsp;&nbsp;'total':&nbsp;78,<br>&nbsp;&nbsp;&nbsp;&nbsp;&nbsp;&nbsp;&nbsp;&nbsp;&nbsp;&nbsp;&nbsp;&nbsp;&nbsp;&nbsp;&nbsp;&nbsp;&nbsp;&nbsp;&nbsp;&nbsp;'url':&nbsp;'http://85.214.149.236:443/sugarcrm/themes/default/images/mod.js\"'},<br>&nbsp;&nbsp;&nbsp;&nbsp;&nbsp;&nbsp;&nbsp;&nbsp;&nbsp;&nbsp;&nbsp;&nbsp;&nbsp;&nbsp;&nbsp;&nbsp;&nbsp;&nbsp;&nbsp;{'positives':&nbsp;2,<br>&nbsp;&nbsp;&nbsp;&nbsp;&nbsp;&nbsp;&nbsp;&nbsp;&nbsp;&nbsp;&nbsp;&nbsp;&nbsp;&nbsp;&nbsp;&nbsp;&nbsp;&nbsp;&nbsp;&nbsp;'scan_date':&nbsp;'2020-08-27&nbsp;13:22:06',<br>&nbsp;&nbsp;&nbsp;&nbsp;&nbsp;&nbsp;&nbsp;&nbsp;&nbsp;&nbsp;&nbsp;&nbsp;&nbsp;&nbsp;&nbsp;&nbsp;&nbsp;&nbsp;&nbsp;&nbsp;'total':&nbsp;78,<br>&nbsp;&nbsp;&nbsp;&nbsp;&nbsp;&nbsp;&nbsp;&nbsp;&nbsp;&nbsp;&nbsp;&nbsp;&nbsp;&nbsp;&nbsp;&nbsp;&nbsp;&nbsp;&nbsp;&nbsp;'url':&nbsp;'http://85.214.149.236:443/sugarcrm/themes/default/images/zgrab.jpg'},<br>&nbsp;&nbsp;&nbsp;&nbsp;&nbsp;&nbsp;&nbsp;&nbsp;&nbsp;&nbsp;&nbsp;&nbsp;&nbsp;&nbsp;&nbsp;&nbsp;&nbsp;&nbsp;&nbsp;{'positives':&nbsp;7,<br>&nbsp;&nbsp;&nbsp;&nbsp;&nbsp;&nbsp;&nbsp;&nbsp;&nbsp;&nbsp;&nbsp;&nbsp;&nbsp;&nbsp;&nbsp;&nbsp;&nbsp;&nbsp;&nbsp;&nbsp;'scan_date':&nbsp;'2020-08-25&nbsp;14:52:00',<br>&nbsp;&nbsp;&nbsp;&nbsp;&nbsp;&nbsp;&nbsp;&nbsp;&nbsp;&nbsp;&nbsp;&nbsp;&nbsp;&nbsp;&nbsp;&nbsp;&nbsp;&nbsp;&nbsp;&nbsp;'total':&nbsp;79,<br>&nbsp;&nbsp;&nbsp;&nbsp;&nbsp;&nbsp;&nbsp;&nbsp;&nbsp;&nbsp;&nbsp;&nbsp;&nbsp;&nbsp;&nbsp;&nbsp;&nbsp;&nbsp;&nbsp;&nbsp;'url':&nbsp;'http://dockerupdate.anondns.net:443/sugarcrm/themes/default/images/portjoe.jpg'},<br>&nbsp;&nbsp;&nbsp;&nbsp;&nbsp;&nbsp;&nbsp;&nbsp;&nbsp;&nbsp;&nbsp;&nbsp;&nbsp;&nbsp;&nbsp;&nbsp;&nbsp;&nbsp;&nbsp;{'positives':&nbsp;7,<br>&nbsp;&nbsp;&nbsp;&nbsp;&nbsp;&nbsp;&nbsp;&nbsp;&nbsp;&nbsp;&nbsp;&nbsp;&nbsp;&nbsp;&nbsp;&nbsp;&nbsp;&nbsp;&nbsp;&nbsp;'scan_date':&nbsp;'2020-08-25&nbsp;07:02:55',<br>&nbsp;&nbsp;&nbsp;&nbsp;&nbsp;&nbsp;&nbsp;&nbsp;&nbsp;&nbsp;&nbsp;&nbsp;&nbsp;&nbsp;&nbsp;&nbsp;&nbsp;&nbsp;&nbsp;&nbsp;'total':&nbsp;79,<br>&nbsp;&nbsp;&nbsp;&nbsp;&nbsp;&nbsp;&nbsp;&nbsp;&nbsp;&nbsp;&nbsp;&nbsp;&nbsp;&nbsp;&nbsp;&nbsp;&nbsp;&nbsp;&nbsp;&nbsp;'url':&nbsp;'http://dockerupdate.anondns.net:443/sugarcrm/themes/default/images'},<br>&nbsp;&nbsp;&nbsp;&nbsp;&nbsp;&nbsp;&nbsp;&nbsp;&nbsp;&nbsp;&nbsp;&nbsp;&nbsp;&nbsp;&nbsp;&nbsp;&nbsp;&nbsp;&nbsp;{'positives':&nbsp;4,<br>&nbsp;&nbsp;&nbsp;&nbsp;&nbsp;&nbsp;&nbsp;&nbsp;&nbsp;&nbsp;&nbsp;&nbsp;&nbsp;&nbsp;&nbsp;&nbsp;&nbsp;&nbsp;&nbsp;&nbsp;'scan_date':&nbsp;'2020-08-24&nbsp;07:34:44',<br>&nbsp;&nbsp;&nbsp;&nbsp;&nbsp;&nbsp;&nbsp;&nbsp;&nbsp;&nbsp;&nbsp;&nbsp;&nbsp;&nbsp;&nbsp;&nbsp;&nbsp;&nbsp;&nbsp;&nbsp;'total':&nbsp;79,<br>&nbsp;&nbsp;&nbsp;&nbsp;&nbsp;&nbsp;&nbsp;&nbsp;&nbsp;&nbsp;&nbsp;&nbsp;&nbsp;&nbsp;&nbsp;&nbsp;&nbsp;&nbsp;&nbsp;&nbsp;'url':&nbsp;'http://dockerupdate.anondns.net:443/sugarcrm/themes/default/images/01.jpg'}],<br>&nbsp;'resolutions':&nbsp;[{'hostname':&nbsp;'dockerupdate.anondns.net',<br>&nbsp;&nbsp;&nbsp;&nbsp;&nbsp;&nbsp;&nbsp;&nbsp;&nbsp;&nbsp;&nbsp;&nbsp;&nbsp;&nbsp;&nbsp;&nbsp;&nbsp;&nbsp;'last_resolved':&nbsp;'2020-08-14&nbsp;18:56:08'},<br>&nbsp;&nbsp;&nbsp;&nbsp;&nbsp;&nbsp;&nbsp;&nbsp;&nbsp;&nbsp;&nbsp;&nbsp;&nbsp;&nbsp;&nbsp;&nbsp;&nbsp;{'hostname':&nbsp;'h2381205.stratoserver.net',<br>&nbsp;&nbsp;&nbsp;&nbsp;&nbsp;&nbsp;&nbsp;&nbsp;&nbsp;&nbsp;&nbsp;&nbsp;&nbsp;&nbsp;&nbsp;&nbsp;&nbsp;&nbsp;'last_resolved':&nbsp;'2020-08-06&nbsp;12:19:57'}],<br>&nbsp;'response_code':&nbsp;1,<br>&nbsp;'undetected_communicating_samples':&nbsp;[{'date':&nbsp;'2021-06-24&nbsp;10:15:37',<br>&nbsp;&nbsp;&nbsp;&nbsp;&nbsp;&nbsp;&nbsp;&nbsp;&nbsp;&nbsp;&nbsp;&nbsp;&nbsp;&nbsp;&nbsp;&nbsp;&nbsp;&nbsp;&nbsp;&nbsp;&nbsp;&nbsp;&nbsp;&nbsp;&nbsp;&nbsp;&nbsp;&nbsp;&nbsp;&nbsp;&nbsp;&nbsp;&nbsp;&nbsp;&nbsp;&nbsp;&nbsp;&nbsp;&nbsp;'positives':&nbsp;0,<br>&nbsp;&nbsp;&nbsp;&nbsp;&nbsp;&nbsp;&nbsp;&nbsp;&nbsp;&nbsp;&nbsp;&nbsp;&nbsp;&nbsp;&nbsp;&nbsp;&nbsp;&nbsp;&nbsp;&nbsp;&nbsp;&nbsp;&nbsp;&nbsp;&nbsp;&nbsp;&nbsp;&nbsp;&nbsp;&nbsp;&nbsp;&nbsp;&nbsp;&nbsp;&nbsp;&nbsp;&nbsp;&nbsp;&nbsp;'sha256':&nbsp;'7149b53e4a3f9de2a7d47190af64f8b609618ed09f8440a64175049a90336775',<br>&nbsp;&nbsp;&nbsp;&nbsp;&nbsp;&nbsp;&nbsp;&nbsp;&nbsp;&nbsp;&nbsp;&nbsp;&nbsp;&nbsp;&nbsp;&nbsp;&nbsp;&nbsp;&nbsp;&nbsp;&nbsp;&nbsp;&nbsp;&nbsp;&nbsp;&nbsp;&nbsp;&nbsp;&nbsp;&nbsp;&nbsp;&nbsp;&nbsp;&nbsp;&nbsp;&nbsp;&nbsp;&nbsp;&nbsp;'total':&nbsp;75},<br>&nbsp;&nbsp;&nbsp;&nbsp;&nbsp;&nbsp;&nbsp;&nbsp;&nbsp;&nbsp;&nbsp;&nbsp;&nbsp;&nbsp;&nbsp;&nbsp;&nbsp;&nbsp;&nbsp;&nbsp;&nbsp;&nbsp;&nbsp;&nbsp;&nbsp;&nbsp;&nbsp;&nbsp;&nbsp;&nbsp;&nbsp;&nbsp;&nbsp;&nbsp;&nbsp;&nbsp;&nbsp;&nbsp;{'date':&nbsp;'2021-06-09&nbsp;10:51:49',<br>&nbsp;&nbsp;&nbsp;&nbsp;&nbsp;&nbsp;&nbsp;&nbsp;&nbsp;&nbsp;&nbsp;&nbsp;&nbsp;&nbsp;&nbsp;&nbsp;&nbsp;&nbsp;&nbsp;&nbsp;&nbsp;&nbsp;&nbsp;&nbsp;&nbsp;&nbsp;&nbsp;&nbsp;&nbsp;&nbsp;&nbsp;&nbsp;&nbsp;&nbsp;&nbsp;&nbsp;&nbsp;&nbsp;&nbsp;'positives':&nbsp;0,<br>&nbsp;&nbsp;&nbsp;&nbsp;&nbsp;&nbsp;&nbsp;&nbsp;&nbsp;&nbsp;&nbsp;&nbsp;&nbsp;&nbsp;&nbsp;&nbsp;&nbsp;&nbsp;&nbsp;&nbsp;&nbsp;&nbsp;&nbsp;&nbsp;&nbsp;&nbsp;&nbsp;&nbsp;&nbsp;&nbsp;&nbsp;&nbsp;&nbsp;&nbsp;&nbsp;&nbsp;&nbsp;&nbsp;&nbsp;'sha256':&nbsp;'45cc4f38340bf1d4bb0010114ccf03112d14dee7815aa797d20854605fdca2d2',<br>&nbsp;&nbsp;&nbsp;&nbsp;&nbsp;&nbsp;&nbsp;&nbsp;&nbsp;&nbsp;&nbsp;&nbsp;&nbsp;&nbsp;&nbsp;&nbsp;&nbsp;&nbsp;&nbsp;&nbsp;&nbsp;&nbsp;&nbsp;&nbsp;&nbsp;&nbsp;&nbsp;&nbsp;&nbsp;&nbsp;&nbsp;&nbsp;&nbsp;&nbsp;&nbsp;&nbsp;&nbsp;&nbsp;&nbsp;'total':&nbsp;74},<br>&nbsp;&nbsp;&nbsp;&nbsp;&nbsp;&nbsp;&nbsp;&nbsp;&nbsp;&nbsp;&nbsp;&nbsp;&nbsp;&nbsp;&nbsp;&nbsp;&nbsp;&nbsp;&nbsp;&nbsp;&nbsp;&nbsp;&nbsp;&nbsp;&nbsp;&nbsp;&nbsp;&nbsp;&nbsp;&nbsp;&nbsp;&nbsp;&nbsp;&nbsp;&nbsp;&nbsp;&nbsp;&nbsp;{'date':&nbsp;'2021-06-12&nbsp;19:00:20',<br>&nbsp;&nbsp;&nbsp;&nbsp;&nbsp;&nbsp;&nbsp;&nbsp;&nbsp;&nbsp;&nbsp;&nbsp;&nbsp;&nbsp;&nbsp;&nbsp;&nbsp;&nbsp;&nbsp;&nbsp;&nbsp;&nbsp;&nbsp;&nbsp;&nbsp;&nbsp;&nbsp;&nbsp;&nbsp;&nbsp;&nbsp;&nbsp;&nbsp;&nbsp;&nbsp;&nbsp;&nbsp;&nbsp;&nbsp;'positives':&nbsp;0,<br>&nbsp;&nbsp;&nbsp;&nbsp;&nbsp;&nbsp;&nbsp;&nbsp;&nbsp;&nbsp;&nbsp;&nbsp;&nbsp;&nbsp;&nbsp;&nbsp;&nbsp;&nbsp;&nbsp;&nbsp;&nbsp;&nbsp;&nbsp;&nbsp;&nbsp;&nbsp;&nbsp;&nbsp;&nbsp;&nbsp;&nbsp;&nbsp;&nbsp;&nbsp;&nbsp;&nbsp;&nbsp;&nbsp;&nbsp;'sha256':&nbsp;'020531aef7e069ee6e384f2fe9c49db9d99292d559c72da95276c2788b17d386',<br>&nbsp;&nbsp;&nbsp;&nbsp;&nbsp;&nbsp;&nbsp;&nbsp;&nbsp;&nbsp;&nbsp;&nbsp;&nbsp;&nbsp;&nbsp;&nbsp;&nbsp;&nbsp;&nbsp;&nbsp;&nbsp;&nbsp;&nbsp;&nbsp;&nbsp;&nbsp;&nbsp;&nbsp;&nbsp;&nbsp;&nbsp;&nbsp;&nbsp;&nbsp;&nbsp;&nbsp;&nbsp;&nbsp;&nbsp;'total':&nbsp;74},<br>&nbsp;&nbsp;&nbsp;&nbsp;&nbsp;&nbsp;&nbsp;&nbsp;&nbsp;&nbsp;&nbsp;&nbsp;&nbsp;&nbsp;&nbsp;&nbsp;&nbsp;&nbsp;&nbsp;&nbsp;&nbsp;&nbsp;&nbsp;&nbsp;&nbsp;&nbsp;&nbsp;&nbsp;&nbsp;&nbsp;&nbsp;&nbsp;&nbsp;&nbsp;&nbsp;&nbsp;&nbsp;&nbsp;{'date':&nbsp;'2020-12-10&nbsp;15:39:02',<br>&nbsp;&nbsp;&nbsp;&nbsp;&nbsp;&nbsp;&nbsp;&nbsp;&nbsp;&nbsp;&nbsp;&nbsp;&nbsp;&nbsp;&nbsp;&nbsp;&nbsp;&nbsp;&nbsp;&nbsp;&nbsp;&nbsp;&nbsp;&nbsp;&nbsp;&nbsp;&nbsp;&nbsp;&nbsp;&nbsp;&nbsp;&nbsp;&nbsp;&nbsp;&nbsp;&nbsp;&nbsp;&nbsp;&nbsp;'positives':&nbsp;0,<br>&nbsp;&nbsp;&nbsp;&nbsp;&nbsp;&nbsp;&nbsp;&nbsp;&nbsp;&nbsp;&nbsp;&nbsp;&nbsp;&nbsp;&nbsp;&nbsp;&nbsp;&nbsp;&nbsp;&nbsp;&nbsp;&nbsp;&nbsp;&nbsp;&nbsp;&nbsp;&nbsp;&nbsp;&nbsp;&nbsp;&nbsp;&nbsp;&nbsp;&nbsp;&nbsp;&nbsp;&nbsp;&nbsp;&nbsp;'sha256':&nbsp;'d9c46904d5bb808f2f0c28e819a31703f5155c4df66c4c4669f5d9e81f25dc66',<br>&nbsp;&nbsp;&nbsp;&nbsp;&nbsp;&nbsp;&nbsp;&nbsp;&nbsp;&nbsp;&nbsp;&nbsp;&nbsp;&nbsp;&nbsp;&nbsp;&nbsp;&nbsp;&nbsp;&nbsp;&nbsp;&nbsp;&nbsp;&nbsp;&nbsp;&nbsp;&nbsp;&nbsp;&nbsp;&nbsp;&nbsp;&nbsp;&nbsp;&nbsp;&nbsp;&nbsp;&nbsp;&nbsp;&nbsp;'total':&nbsp;75},<br>&nbsp;&nbsp;&nbsp;&nbsp;&nbsp;&nbsp;&nbsp;&nbsp;&nbsp;&nbsp;&nbsp;&nbsp;&nbsp;&nbsp;&nbsp;&nbsp;&nbsp;&nbsp;&nbsp;&nbsp;&nbsp;&nbsp;&nbsp;&nbsp;&nbsp;&nbsp;&nbsp;&nbsp;&nbsp;&nbsp;&nbsp;&nbsp;&nbsp;&nbsp;&nbsp;&nbsp;&nbsp;&nbsp;{'date':&nbsp;'2020-08-28&nbsp;07:36:29',<br>&nbsp;&nbsp;&nbsp;&nbsp;&nbsp;&nbsp;&nbsp;&nbsp;&nbsp;&nbsp;&nbsp;&nbsp;&nbsp;&nbsp;&nbsp;&nbsp;&nbsp;&nbsp;&nbsp;&nbsp;&nbsp;&nbsp;&nbsp;&nbsp;&nbsp;&nbsp;&nbsp;&nbsp;&nbsp;&nbsp;&nbsp;&nbsp;&nbsp;&nbsp;&nbsp;&nbsp;&nbsp;&nbsp;&nbsp;'positives':&nbsp;0,<br>&nbsp;&nbsp;&nbsp;&nbsp;&nbsp;&nbsp;&nbsp;&nbsp;&nbsp;&nbsp;&nbsp;&nbsp;&nbsp;&nbsp;&nbsp;&nbsp;&nbsp;&nbsp;&nbsp;&nbsp;&nbsp;&nbsp;&nbsp;&nbsp;&nbsp;&nbsp;&nbsp;&nbsp;&nbsp;&nbsp;&nbsp;&nbsp;&nbsp;&nbsp;&nbsp;&nbsp;&nbsp;&nbsp;&nbsp;'sha256':&nbsp;'d333c3cfb8b9ad1da5ee50f96a55dfbe70196f05fd88b5f04e925e32305cfff8',<br>&nbsp;&nbsp;&nbsp;&nbsp;&nbsp;&nbsp;&nbsp;&nbsp;&nbsp;&nbsp;&nbsp;&nbsp;&nbsp;&nbsp;&nbsp;&nbsp;&nbsp;&nbsp;&nbsp;&nbsp;&nbsp;&nbsp;&nbsp;&nbsp;&nbsp;&nbsp;&nbsp;&nbsp;&nbsp;&nbsp;&nbsp;&nbsp;&nbsp;&nbsp;&nbsp;&nbsp;&nbsp;&nbsp;&nbsp;'total':&nbsp;73},<br>&nbsp;&nbsp;&nbsp;&nbsp;&nbsp;&nbsp;&nbsp;&nbsp;&nbsp;&nbsp;&nbsp;&nbsp;&nbsp;&nbsp;&nbsp;&nbsp;&nbsp;&nbsp;&nbsp;&nbsp;&nbsp;&nbsp;&nbsp;&nbsp;&nbsp;&nbsp;&nbsp;&nbsp;&nbsp;&nbsp;&nbsp;&nbsp;&nbsp;&nbsp;&nbsp;&nbsp;&nbsp;&nbsp;{'date':&nbsp;'2020-08-28&nbsp;07:40:32',<br>&nbsp;&nbsp;&nbsp;&nbsp;&nbsp;&nbsp;&nbsp;&nbsp;&nbsp;&nbsp;&nbsp;&nbsp;&nbsp;&nbsp;&nbsp;&nbsp;&nbsp;&nbsp;&nbsp;&nbsp;&nbsp;&nbsp;&nbsp;&nbsp;&nbsp;&nbsp;&nbsp;&nbsp;&nbsp;&nbsp;&nbsp;&nbsp;&nbsp;&nbsp;&nbsp;&nbsp;&nbsp;&nbsp;&nbsp;'positives':&nbsp;0,<br>&nbsp;&nbsp;&nbsp;&nbsp;&nbsp;&nbsp;&nbsp;&nbsp;&nbsp;&nbsp;&nbsp;&nbsp;&nbsp;&nbsp;&nbsp;&nbsp;&nbsp;&nbsp;&nbsp;&nbsp;&nbsp;&nbsp;&nbsp;&nbsp;&nbsp;&nbsp;&nbsp;&nbsp;&nbsp;&nbsp;&nbsp;&nbsp;&nbsp;&nbsp;&nbsp;&nbsp;&nbsp;&nbsp;&nbsp;'sha256':&nbsp;'18c178fb224ec17718e5f70a92041e721d9e380e70063cc4bfe3f61d6feb72d9',<br>&nbsp;&nbsp;&nbsp;&nbsp;&nbsp;&nbsp;&nbsp;&nbsp;&nbsp;&nbsp;&nbsp;&nbsp;&nbsp;&nbsp;&nbsp;&nbsp;&nbsp;&nbsp;&nbsp;&nbsp;&nbsp;&nbsp;&nbsp;&nbsp;&nbsp;&nbsp;&nbsp;&nbsp;&nbsp;&nbsp;&nbsp;&nbsp;&nbsp;&nbsp;&nbsp;&nbsp;&nbsp;&nbsp;&nbsp;'total':&nbsp;73},<br>&nbsp;&nbsp;&nbsp;&nbsp;&nbsp;&nbsp;&nbsp;&nbsp;&nbsp;&nbsp;&nbsp;&nbsp;&nbsp;&nbsp;&nbsp;&nbsp;&nbsp;&nbsp;&nbsp;&nbsp;&nbsp;&nbsp;&nbsp;&nbsp;&nbsp;&nbsp;&nbsp;&nbsp;&nbsp;&nbsp;&nbsp;&nbsp;&nbsp;&nbsp;&nbsp;&nbsp;&nbsp;&nbsp;{'date':&nbsp;'2020-08-28&nbsp;07:35:10',<br>&nbsp;&nbsp;&nbsp;&nbsp;&nbsp;&nbsp;&nbsp;&nbsp;&nbsp;&nbsp;&nbsp;&nbsp;&nbsp;&nbsp;&nbsp;&nbsp;&nbsp;&nbsp;&nbsp;&nbsp;&nbsp;&nbsp;&nbsp;&nbsp;&nbsp;&nbsp;&nbsp;&nbsp;&nbsp;&nbsp;&nbsp;&nbsp;&nbsp;&nbsp;&nbsp;&nbsp;&nbsp;&nbsp;&nbsp;'positives':&nbsp;0,<br>&nbsp;&nbsp;&nbsp;&nbsp;&nbsp;&nbsp;&nbsp;&nbsp;&nbsp;&nbsp;&nbsp;&nbsp;&nbsp;&nbsp;&nbsp;&nbsp;&nbsp;&nbsp;&nbsp;&nbsp;&nbsp;&nbsp;&nbsp;&nbsp;&nbsp;&nbsp;&nbsp;&nbsp;&nbsp;&nbsp;&nbsp;&nbsp;&nbsp;&nbsp;&nbsp;&nbsp;&nbsp;&nbsp;&nbsp;'sha256':&nbsp;'a5d14bb053b03e81e58101516c782360fe64d6469852c6aa06fc47c08b30b127',<br>&nbsp;&nbsp;&nbsp;&nbsp;&nbsp;&nbsp;&nbsp;&nbsp;&nbsp;&nbsp;&nbsp;&nbsp;&nbsp;&nbsp;&nbsp;&nbsp;&nbsp;&nbsp;&nbsp;&nbsp;&nbsp;&nbsp;&nbsp;&nbsp;&nbsp;&nbsp;&nbsp;&nbsp;&nbsp;&nbsp;&nbsp;&nbsp;&nbsp;&nbsp;&nbsp;&nbsp;&nbsp;&nbsp;&nbsp;'total':&nbsp;73},<br>&nbsp;&nbsp;&nbsp;&nbsp;&nbsp;&nbsp;&nbsp;&nbsp;&nbsp;&nbsp;&nbsp;&nbsp;&nbsp;&nbsp;&nbsp;&nbsp;&nbsp;&nbsp;&nbsp;&nbsp;&nbsp;&nbsp;&nbsp;&nbsp;&nbsp;&nbsp;&nbsp;&nbsp;&nbsp;&nbsp;&nbsp;&nbsp;&nbsp;&nbsp;&nbsp;&nbsp;&nbsp;&nbsp;{'date':&nbsp;'2020-08-26&nbsp;22:30:40',<br>&nbsp;&nbsp;&nbsp;&nbsp;&nbsp;&nbsp;&nbsp;&nbsp;&nbsp;&nbsp;&nbsp;&nbsp;&nbsp;&nbsp;&nbsp;&nbsp;&nbsp;&nbsp;&nbsp;&nbsp;&nbsp;&nbsp;&nbsp;&nbsp;&nbsp;&nbsp;&nbsp;&nbsp;&nbsp;&nbsp;&nbsp;&nbsp;&nbsp;&nbsp;&nbsp;&nbsp;&nbsp;&nbsp;&nbsp;'positives':&nbsp;0,<br>&nbsp;&nbsp;&nbsp;&nbsp;&nbsp;&nbsp;&nbsp;&nbsp;&nbsp;&nbsp;&nbsp;&nbsp;&nbsp;&nbsp;&nbsp;&nbsp;&nbsp;&nbsp;&nbsp;&nbsp;&nbsp;&nbsp;&nbsp;&nbsp;&nbsp;&nbsp;&nbsp;&nbsp;&nbsp;&nbsp;&nbsp;&nbsp;&nbsp;&nbsp;&nbsp;&nbsp;&nbsp;&nbsp;&nbsp;'sha256':&nbsp;'ba16f24e6294e8da28782c1d8e00189950dd4cbbb061ef13d1a4d84305651768',<br>&nbsp;&nbsp;&nbsp;&nbsp;&nbsp;&nbsp;&nbsp;&nbsp;&nbsp;&nbsp;&nbsp;&nbsp;&nbsp;&nbsp;&nbsp;&nbsp;&nbsp;&nbsp;&nbsp;&nbsp;&nbsp;&nbsp;&nbsp;&nbsp;&nbsp;&nbsp;&nbsp;&nbsp;&nbsp;&nbsp;&nbsp;&nbsp;&nbsp;&nbsp;&nbsp;&nbsp;&nbsp;&nbsp;&nbsp;'total':&nbsp;73},<br>&nbsp;&nbsp;&nbsp;&nbsp;&nbsp;&nbsp;&nbsp;&nbsp;&nbsp;&nbsp;&nbsp;&nbsp;&nbsp;&nbsp;&nbsp;&nbsp;&nbsp;&nbsp;&nbsp;&nbsp;&nbsp;&nbsp;&nbsp;&nbsp;&nbsp;&nbsp;&nbsp;&nbsp;&nbsp;&nbsp;&nbsp;&nbsp;&nbsp;&nbsp;&nbsp;&nbsp;&nbsp;&nbsp;{'date':&nbsp;'2020-08-26&nbsp;14:29:14',<br>&nbsp;&nbsp;&nbsp;&nbsp;&nbsp;&nbsp;&nbsp;&nbsp;&nbsp;&nbsp;&nbsp;&nbsp;&nbsp;&nbsp;&nbsp;&nbsp;&nbsp;&nbsp;&nbsp;&nbsp;&nbsp;&nbsp;&nbsp;&nbsp;&nbsp;&nbsp;&nbsp;&nbsp;&nbsp;&nbsp;&nbsp;&nbsp;&nbsp;&nbsp;&nbsp;&nbsp;&nbsp;&nbsp;&nbsp;'positives':&nbsp;0,<br>&nbsp;&nbsp;&nbsp;&nbsp;&nbsp;&nbsp;&nbsp;&nbsp;&nbsp;&nbsp;&nbsp;&nbsp;&nbsp;&nbsp;&nbsp;&nbsp;&nbsp;&nbsp;&nbsp;&nbsp;&nbsp;&nbsp;&nbsp;&nbsp;&nbsp;&nbsp;&nbsp;&nbsp;&nbsp;&nbsp;&nbsp;&nbsp;&nbsp;&nbsp;&nbsp;&nbsp;&nbsp;&nbsp;&nbsp;'sha256':&nbsp;'1861eee8333dadcfe0d0dc10461f5f82fada8e42db9aa9efba6f258182e9c546',<br>&nbsp;&nbsp;&nbsp;&nbsp;&nbsp;&nbsp;&nbsp;&nbsp;&nbsp;&nbsp;&nbsp;&nbsp;&nbsp;&nbsp;&nbsp;&nbsp;&nbsp;&nbsp;&nbsp;&nbsp;&nbsp;&nbsp;&nbsp;&nbsp;&nbsp;&nbsp;&nbsp;&nbsp;&nbsp;&nbsp;&nbsp;&nbsp;&nbsp;&nbsp;&nbsp;&nbsp;&nbsp;&nbsp;&nbsp;'total':&nbsp;73},<br>&nbsp;&nbsp;&nbsp;&nbsp;&nbsp;&nbsp;&nbsp;&nbsp;&nbsp;&nbsp;&nbsp;&nbsp;&nbsp;&nbsp;&nbsp;&nbsp;&nbsp;&nbsp;&nbsp;&nbsp;&nbsp;&nbsp;&nbsp;&nbsp;&nbsp;&nbsp;&nbsp;&nbsp;&nbsp;&nbsp;&nbsp;&nbsp;&nbsp;&nbsp;&nbsp;&nbsp;&nbsp;&nbsp;{'date':&nbsp;'2020-08-24&nbsp;07:12:27',<br>&nbsp;&nbsp;&nbsp;&nbsp;&nbsp;&nbsp;&nbsp;&nbsp;&nbsp;&nbsp;&nbsp;&nbsp;&nbsp;&nbsp;&nbsp;&nbsp;&nbsp;&nbsp;&nbsp;&nbsp;&nbsp;&nbsp;&nbsp;&nbsp;&nbsp;&nbsp;&nbsp;&nbsp;&nbsp;&nbsp;&nbsp;&nbsp;&nbsp;&nbsp;&nbsp;&nbsp;&nbsp;&nbsp;&nbsp;'positives':&nbsp;0,<br>&nbsp;&nbsp;&nbsp;&nbsp;&nbsp;&nbsp;&nbsp;&nbsp;&nbsp;&nbsp;&nbsp;&nbsp;&nbsp;&nbsp;&nbsp;&nbsp;&nbsp;&nbsp;&nbsp;&nbsp;&nbsp;&nbsp;&nbsp;&nbsp;&nbsp;&nbsp;&nbsp;&nbsp;&nbsp;&nbsp;&nbsp;&nbsp;&nbsp;&nbsp;&nbsp;&nbsp;&nbsp;&nbsp;&nbsp;'sha256':&nbsp;'b485e6ccc9cfeb9c2034cebfeaf1bb3b3db0ac9996e5260fc1e95ce852b757c4',<br>&nbsp;&nbsp;&nbsp;&nbsp;&nbsp;&nbsp;&nbsp;&nbsp;&nbsp;&nbsp;&nbsp;&nbsp;&nbsp;&nbsp;&nbsp;&nbsp;&nbsp;&nbsp;&nbsp;&nbsp;&nbsp;&nbsp;&nbsp;&nbsp;&nbsp;&nbsp;&nbsp;&nbsp;&nbsp;&nbsp;&nbsp;&nbsp;&nbsp;&nbsp;&nbsp;&nbsp;&nbsp;&nbsp;&nbsp;'total':&nbsp;73}],<br>&nbsp;'undetected_downloaded_samples':&nbsp;[{'date':&nbsp;'2020-09-09&nbsp;11:44:35',<br>&nbsp;&nbsp;&nbsp;&nbsp;&nbsp;&nbsp;&nbsp;&nbsp;&nbsp;&nbsp;&nbsp;&nbsp;&nbsp;&nbsp;&nbsp;&nbsp;&nbsp;&nbsp;&nbsp;&nbsp;&nbsp;&nbsp;&nbsp;&nbsp;&nbsp;&nbsp;&nbsp;&nbsp;&nbsp;&nbsp;&nbsp;&nbsp;&nbsp;&nbsp;&nbsp;&nbsp;'positives':&nbsp;0,<br>&nbsp;&nbsp;&nbsp;&nbsp;&nbsp;&nbsp;&nbsp;&nbsp;&nbsp;&nbsp;&nbsp;&nbsp;&nbsp;&nbsp;&nbsp;&nbsp;&nbsp;&nbsp;&nbsp;&nbsp;&nbsp;&nbsp;&nbsp;&nbsp;&nbsp;&nbsp;&nbsp;&nbsp;&nbsp;&nbsp;&nbsp;&nbsp;&nbsp;&nbsp;&nbsp;&nbsp;'sha256':&nbsp;'e8812c8ff47b0542c7ee4d6bdff5bfbfd488a8e363d884074089c54b6ffc9789',<br>&nbsp;&nbsp;&nbsp;&nbsp;&nbsp;&nbsp;&nbsp;&nbsp;&nbsp;&nbsp;&nbsp;&nbsp;&nbsp;&nbsp;&nbsp;&nbsp;&nbsp;&nbsp;&nbsp;&nbsp;&nbsp;&nbsp;&nbsp;&nbsp;&nbsp;&nbsp;&nbsp;&nbsp;&nbsp;&nbsp;&nbsp;&nbsp;&nbsp;&nbsp;&nbsp;&nbsp;'total':&nbsp;73},<br>&nbsp;&nbsp;&nbsp;&nbsp;&nbsp;&nbsp;&nbsp;&nbsp;&nbsp;&nbsp;&nbsp;&nbsp;&nbsp;&nbsp;&nbsp;&nbsp;&nbsp;&nbsp;&nbsp;&nbsp;&nbsp;&nbsp;&nbsp;&nbsp;&nbsp;&nbsp;&nbsp;&nbsp;&nbsp;&nbsp;&nbsp;&nbsp;&nbsp;&nbsp;&nbsp;{'date':&nbsp;'2020-07-16&nbsp;04:03:02',<br>&nbsp;&nbsp;&nbsp;&nbsp;&nbsp;&nbsp;&nbsp;&nbsp;&nbsp;&nbsp;&nbsp;&nbsp;&nbsp;&nbsp;&nbsp;&nbsp;&nbsp;&nbsp;&nbsp;&nbsp;&nbsp;&nbsp;&nbsp;&nbsp;&nbsp;&nbsp;&nbsp;&nbsp;&nbsp;&nbsp;&nbsp;&nbsp;&nbsp;&nbsp;&nbsp;&nbsp;'positives':&nbsp;0,<br>&nbsp;&nbsp;&nbsp;&nbsp;&nbsp;&nbsp;&nbsp;&nbsp;&nbsp;&nbsp;&nbsp;&nbsp;&nbsp;&nbsp;&nbsp;&nbsp;&nbsp;&nbsp;&nbsp;&nbsp;&nbsp;&nbsp;&nbsp;&nbsp;&nbsp;&nbsp;&nbsp;&nbsp;&nbsp;&nbsp;&nbsp;&nbsp;&nbsp;&nbsp;&nbsp;&nbsp;'sha256':&nbsp;'1474298ed7a5c63ca8098794cd743a276807cca0e678e046160718626bb038f3',<br>&nbsp;&nbsp;&nbsp;&nbsp;&nbsp;&nbsp;&nbsp;&nbsp;&nbsp;&nbsp;&nbsp;&nbsp;&nbsp;&nbsp;&nbsp;&nbsp;&nbsp;&nbsp;&nbsp;&nbsp;&nbsp;&nbsp;&nbsp;&nbsp;&nbsp;&nbsp;&nbsp;&nbsp;&nbsp;&nbsp;&nbsp;&nbsp;&nbsp;&nbsp;&nbsp;&nbsp;'total':&nbsp;76}],<br>&nbsp;'undetected_referrer_samples':&nbsp;[],<br>&nbsp;'undetected_urls':&nbsp;[['http://h2381205.stratoserver.net/',<br>&nbsp;&nbsp;&nbsp;&nbsp;&nbsp;&nbsp;&nbsp;&nbsp;&nbsp;&nbsp;&nbsp;&nbsp;&nbsp;&nbsp;&nbsp;&nbsp;&nbsp;&nbsp;&nbsp;&nbsp;&nbsp;&nbsp;'011bcc2795245bb9fac15c54e0e189b0c6e2f24c42c57fec7cfc654a8bb95106',<br>&nbsp;&nbsp;&nbsp;&nbsp;&nbsp;&nbsp;&nbsp;&nbsp;&nbsp;&nbsp;&nbsp;&nbsp;&nbsp;&nbsp;&nbsp;&nbsp;&nbsp;&nbsp;&nbsp;&nbsp;&nbsp;&nbsp;0,<br>&nbsp;&nbsp;&nbsp;&nbsp;&nbsp;&nbsp;&nbsp;&nbsp;&nbsp;&nbsp;&nbsp;&nbsp;&nbsp;&nbsp;&nbsp;&nbsp;&nbsp;&nbsp;&nbsp;&nbsp;&nbsp;&nbsp;80,<br>&nbsp;&nbsp;&nbsp;&nbsp;&nbsp;&nbsp;&nbsp;&nbsp;&nbsp;&nbsp;&nbsp;&nbsp;&nbsp;&nbsp;&nbsp;&nbsp;&nbsp;&nbsp;&nbsp;&nbsp;&nbsp;&nbsp;'2020-11-02&nbsp;13:02:39'],<br>&nbsp;&nbsp;&nbsp;&nbsp;&nbsp;&nbsp;&nbsp;&nbsp;&nbsp;&nbsp;&nbsp;&nbsp;&nbsp;&nbsp;&nbsp;&nbsp;&nbsp;&nbsp;&nbsp;&nbsp;&nbsp;['http://85.214.149.236:443/sugarcrm/.../',<br>&nbsp;&nbsp;&nbsp;&nbsp;&nbsp;&nbsp;&nbsp;&nbsp;&nbsp;&nbsp;&nbsp;&nbsp;&nbsp;&nbsp;&nbsp;&nbsp;&nbsp;&nbsp;&nbsp;&nbsp;&nbsp;&nbsp;'9ffbd9455f6aa190b4270b0d8bfe2c863c6495b94b0f510169999135476e4ed4',<br>&nbsp;&nbsp;&nbsp;&nbsp;&nbsp;&nbsp;&nbsp;&nbsp;&nbsp;&nbsp;&nbsp;&nbsp;&nbsp;&nbsp;&nbsp;&nbsp;&nbsp;&nbsp;&nbsp;&nbsp;&nbsp;&nbsp;0,<br>&nbsp;&nbsp;&nbsp;&nbsp;&nbsp;&nbsp;&nbsp;&nbsp;&nbsp;&nbsp;&nbsp;&nbsp;&nbsp;&nbsp;&nbsp;&nbsp;&nbsp;&nbsp;&nbsp;&nbsp;&nbsp;&nbsp;79,<br>&nbsp;&nbsp;&nbsp;&nbsp;&nbsp;&nbsp;&nbsp;&nbsp;&nbsp;&nbsp;&nbsp;&nbsp;&nbsp;&nbsp;&nbsp;&nbsp;&nbsp;&nbsp;&nbsp;&nbsp;&nbsp;&nbsp;'2020-07-14&nbsp;10:52:05']],<br>&nbsp;'verbose_msg':&nbsp;'IP&nbsp;address&nbsp;in&nbsp;dataset'}</pre>\n",
       "        </details>\n",
       "        "
      ]
     },
     "metadata": {}
    }
   ],
   "metadata": {}
  },
  {
   "cell_type": "markdown",
   "source": [
    "## Geo-IP Lookup\r\n",
    "\r\n",
    "<div style=\"border: solid; padding: 5pt\"><b>Note:</b>\r\n",
    "You may see the GeoLite driver downloading its database the first time you run this.\r\n",
    "</div>\r\n",
    "<br>\r\n",
    "<details>\r\n",
    "    <summary>Learn more about MSTICPy GeoIP providers...</summary>\r\n",
    "    <p>\r\n",
    "    <a href=https://msticpy.readthedocs.io/en/latest/data_acquisition/GeoIPLookups.html >MSTICPy GeoIP Providers</a>\r\n",
    "    </p>\r\n",
    "</details>\r\n",
    "<br>\r\n"
   ],
   "metadata": {}
  },
  {
   "cell_type": "code",
   "execution_count": 18,
   "source": [
    "geo_ip = GeoLiteLookup()\n",
    "raw_res, ip_entity = geo_ip.lookup_ip(\"85.214.149.236\")\n",
    "display(ip_entity[0])"
   ],
   "outputs": [
    {
     "output_type": "display_data",
     "data": {
      "text/plain": [
       "<IPython.core.display.HTML object>"
      ],
      "text/html": [
       "\n",
       "This product includes GeoLite2 data created by MaxMind, available from\n",
       "<a href=\"https://www.maxmind.com\">https://www.maxmind.com</a>.\n"
      ]
     },
     "metadata": {}
    },
    {
     "output_type": "stream",
     "name": "stdout",
     "text": [
      "Latest local Maxmind City Database present is older than 30 days. Attempting to download new database to C:\\Users\\Ian\\.msticpy\n",
      "Downloading and extracting GeoLite DB archive from MaxMind....\n",
      "Extraction complete. Local Maxmind city DB: C:\\Users\\Ian\\.msticpy\\GeoLite2-City.mmdb\n"
     ]
    },
    {
     "output_type": "display_data",
     "data": {
      "text/plain": [
       "IpAddress(Address=85.214.149.236, Location={ 'AdditionalData': {},\n",
       "  'CountryCode': 'DE',\n",
       "...)"
      ],
      "text/html": [
       "<h3>ipaddress</h3>{&nbsp;'AdditionalData':&nbsp;{},<br>&nbsp;&nbsp;'Address':&nbsp;'85.214.149.236',<br>&nbsp;&nbsp;'Location':&nbsp;{&nbsp;'AdditionalData':&nbsp;{},<br>&nbsp;&nbsp;&nbsp;&nbsp;&nbsp;&nbsp;&nbsp;&nbsp;&nbsp;&nbsp;&nbsp;&nbsp;&nbsp;&nbsp;&nbsp;&nbsp;'CountryCode':&nbsp;'DE',<br>&nbsp;&nbsp;&nbsp;&nbsp;&nbsp;&nbsp;&nbsp;&nbsp;&nbsp;&nbsp;&nbsp;&nbsp;&nbsp;&nbsp;&nbsp;&nbsp;'CountryName':&nbsp;'Germany',<br>&nbsp;&nbsp;&nbsp;&nbsp;&nbsp;&nbsp;&nbsp;&nbsp;&nbsp;&nbsp;&nbsp;&nbsp;&nbsp;&nbsp;&nbsp;&nbsp;'Latitude':&nbsp;51.2993,<br>&nbsp;&nbsp;&nbsp;&nbsp;&nbsp;&nbsp;&nbsp;&nbsp;&nbsp;&nbsp;&nbsp;&nbsp;&nbsp;&nbsp;&nbsp;&nbsp;'Longitude':&nbsp;9.491,<br>&nbsp;&nbsp;&nbsp;&nbsp;&nbsp;&nbsp;&nbsp;&nbsp;&nbsp;&nbsp;&nbsp;&nbsp;&nbsp;&nbsp;&nbsp;&nbsp;'Type':&nbsp;'geolocation',<br>&nbsp;&nbsp;&nbsp;&nbsp;&nbsp;&nbsp;&nbsp;&nbsp;&nbsp;&nbsp;&nbsp;&nbsp;&nbsp;&nbsp;&nbsp;&nbsp;'edges':&nbsp;set()},<br>&nbsp;&nbsp;'ThreatIntelligence':&nbsp;[],<br>&nbsp;&nbsp;'Type':&nbsp;'ipaddress',<br>&nbsp;&nbsp;'edges':&nbsp;set()}"
      ]
     },
     "metadata": {}
    }
   ],
   "metadata": {}
  },
  {
   "cell_type": "markdown",
   "source": [
    "---\r\n",
    "\r\n",
    "# Conclusion\r\n",
    "\r\n",
    "In this notebook, we've gone through the basics of installing MSTICPy and setting up configuration.\r\n",
    "We also briefly introduced:\r\n",
    "\r\n",
    "- QueryProviders and querying data from Azure Sentinel\r\n",
    "- Threat Intelligence lookups using VirusTotal\r\n",
    "- Geo-location lookups using MaxMind GeoLite2\r\n",
    "\r\n",
    "We encourage you to run through the **A Tour of Cybersec notebook features** notebook\r\n",
    "to get a better feel for some more of the capabilities of notebooks and MSTICPy.</br>\r\n",
    "\r\n",
    "This notebook includes:\r\n",
    "\r\n",
    "- more examples of queries\r\n",
    "- visualizing your data\r\n",
    "- brief introduction to using panda to manipulate your data.\r\n",
    "\r\n",
    "Also try out any of the notebooks in the [Azure Sentinel Notebooks GitHub repo](https://github.com/Azure/Azure-Sentinel-Notebooks)\r\n"
   ],
   "metadata": {}
  },
  {
   "cell_type": "markdown",
   "source": [
    "---\r\n",
    "\r\n",
    "# Futher resources\r\n",
    "\r\n",
    " - [Jupyter Notebooks: An Introduction](https://realpython.com/jupyter-notebook-introduction/)\r\n",
    " - [Threat Hunting in the cloud with Azure Notebooks](https://medium.com/@maarten.goet/threat-hunting-in-the-cloud-with-azure-notebooks-supercharge-your-hunting-skills-using-jupyter-8d69218e7ca0)\r\n",
    " - [MSTICPy documentation](https://msticpy.readthedocs.io/)\r\n",
    " - [Azure Sentinel Notebooks documentation](https://docs.microsoft.com/en-us/azure/sentinel/notebooks)\r\n",
    " - [The Infosec Jupyterbook](https://infosecjupyterbook.com/introduction.html)\r\n",
    " - [Linux Host Explorer Notebook walkthrough](https://techcommunity.microsoft.com/t5/azure-sentinel/explorer-notebook-series-the-linux-host-explorer/ba-p/1138273)\r\n",
    " - [Why use Jupyter for Security Investigations](https://techcommunity.microsoft.com/t5/azure-sentinel/why-use-jupyter-for-security-investigations/ba-p/475729)\r\n",
    " - [Security Investigtions with Azure Sentinel & Notebooks](https://techcommunity.microsoft.com/t5/azure-sentinel/security-investigation-with-azure-sentinel-and-jupyter-notebooks/ba-p/432921)\r\n",
    " - [Pandas Documentation](https://pandas.pydata.org/pandas-docs/stable/user_guide/index.html)\r\n",
    " - [Bokeh Documentation](https://docs.bokeh.org/en/latest/)"
   ],
   "metadata": {}
  },
  {
   "cell_type": "markdown",
   "source": [
    "# FAQs\r\n",
    "\r\n",
    "---\r\n",
    "\r\n",
    "## How can I download all Azure-Sentinel-Notebooks notebooks to my Azure ML workspace?\r\n",
    "\r\n",
    "You can use `git` to do this from a notebook.<br>\r\n",
    "Type the following into an empty cell and run it.\r\n",
    "\r\n",
    "```python\r\n",
    "!git clone https://github.com/Azure/Azure-Sentinel-Notebooks.git azure-sentinel-nb\r\n",
    "```\r\n",
    "\r\n",
    "This will create a copy of the GitHub repo contents in the \"azure-sentinel-nb\" folder\r\n",
    "of your user folder.\r\n",
    "\r\n",
    "Copy the notebooks that you want to use from this folder to your working directory. This will allow you to update the notebooks easily in the future.\r\n",
    "\r\n",
    "The command to update the notebooks from GitHub is\r\n",
    "\r\n",
    "```python\r\n",
    "!cd azure-sentinel-nb && git pull\r\n",
    "```\r\n"
   ],
   "metadata": {}
  },
  {
   "cell_type": "markdown",
   "source": [
    "---\r\n",
    "\r\n",
    "## Can I install MSTICPy by default on a new AML compute\r\n",
    "\r\n",
    "We have created an AML compute install script and put it in the HowTo folder\r\n",
    "on the Azure-Sentinel-Notebooks repo.\r\n",
    "The script is here:\r\n",
    "[aml-compute-setup.sh](https://github.com/Azure/Azure-Sentinel-Notebooks/master/HowTos/aml-compute-setup.sh)\r\n",
    "\r\n",
    "1. Download the script to your local computer.\r\n",
    "2. Add a new Compute instance\r\n",
    "\r\n",
    "<img src=\"https://github.com/Azure/Azure-Sentinel-Notebooks/raw/master/images/AML_compute_create.png\" height=\"300px\">\r\n",
    "\r\n",
    "3. In the **Advanced** section enable **Provision with setup script**\r\n",
    "   and browse to the location of the downloaded script.\r\n",
    "\r\n",
    "<img src=\"https://github.com/Azure/Azure-Sentinel-Notebooks/raw/master/images/AML_compute_script.png\" height=\"300px\">\r\n",
    "\r\n",
    "4. Click the create button to create the instance\r\n",
    "\r\n",
    "You can view a log of the custom installation in the `/tmp/aml-setup-msticpy.log` log.\r\n"
   ],
   "metadata": {}
  },
  {
   "cell_type": "markdown",
   "source": [
    "\r\n",
    "---\r\n",
    "\r\n",
    "## I see error \"Runtime dependency of PyGObject is missing\" when I load a query provider\r\n",
    "\r\n",
    "```python\r\n",
    "qry_prov = QueryProvider(\"AzureSentinel\")\r\n",
    "```\r\n",
    "\r\n",
    "Warning details\r\n",
    "\r\n",
    "```text\r\n",
    "Runtime dependency of PyGObject is missing.\r\n",
    "Depends on your Linux distro, you could install it system-wide by something like:\r\n",
    "    sudo apt install python3-gi python3-gi-cairo gir1.2-secret-1\r\n",
    "If necessary, please refer to PyGObject's doc:\r\n",
    "https://pygobject.readthedocs.io/en/latest/getting_started.html\r\n",
    "Traceback (most recent call last):\r\n",
    "  File \"/anaconda/envs/azureml_py36/lib/python3.6/site-packages/msal_extensions/libsecret.py\", line 21, in <module>\r\n",
    "    import gi  # https://github.com/AzureAD/microsoft-authentication-extensions-for-python/wiki/Encryption-on-Linux\r\n",
    "ModuleNotFoundError: No module named 'gi'\r\n",
    "```\r\n",
    "\r\n",
    "This is due to a missing Python dependency `pygobject`.\r\n",
    "If you created your compute instance using the script mentioned in the previous\r\n",
    "question, this automatically installs pygobject in all notebook/Anaconda environments\r\n",
    "on the compute.\r\n",
    "\r\n",
    "You can also fix this by running the following from a notebook:\r\n",
    "\r\n",
    "```python\r\n",
    "!conda install --yes -c conda-forge pygobject\r\n",
    "```\r\n"
   ],
   "metadata": {}
  },
  {
   "cell_type": "markdown",
   "source": [
    "---\n",
    "\n",
    "## MSTICPy and other packages do not install properly when switching between the Python 3.6 or 3.8 Kernels\n",
    "\n",
    "We've seen this happen intermittently. Using `!pip install pkg` will install correctly in one<br>\n",
    "environment but then does not install in the other. The package cannot be imported<br>\n",
    "and used in the second environment.\n",
    "\n",
    "Avoid using `!pip install...` to install packages in AML notebooks.\n",
    "Instead, use one of the following options:\n",
    "\n",
    "1. Use the %pip line magic within a notebook.\n",
    "\n",
    "```Python\n",
    "    %pip install --upgrade msticpy\n",
    "```\n",
    "\n",
    "2. Install from a terminal.<br>\n",
    "   Open a terminal in Azure ML notebooks and run the following commands:\n",
    "\n",
    "``` bash\n",
    "    conda activate azureml_py38\n",
    "    pip install --upgrade msticpy\n",
    "```\n",
    "\n",
    "Close the terminal and restart the kernel."
   ],
   "metadata": {}
  },
  {
   "cell_type": "markdown",
   "source": [
    "---\r\n",
    "\r\n",
    "## My user account/credentials do not get cached between notebook runs\r\n",
    "\r\n",
    "You can force caching of credentials for a session by authenticating using Azure CLI.\r\n",
    "\r\n",
    "In an empty cell type and execute the following:\r\n",
    "\r\n",
    "```python\r\n",
    "!az login\r\n",
    "```\r\n",
    "\r\n",
    "You should see the following prompt (in barely readable text if you are using the default light theme):\r\n",
    "\r\n",
    "```\r\n",
    "To sign in, use a web browser to open the page https://microsoft.com/devicelogin and enter the code AMEE5STGD to authenticate.\r\n",
    "```\r\n",
    "\r\n",
    "Select and copy the 9 character token and click on the devicelogin URL.\r\n",
    "Paste the token into the dialog at that page and proceed with the login as prompted.\r\n",
    "\r\n",
    "When login has successfully completed you should see the following output:\r\n",
    "\r\n",
    "```\r\n",
    "Subscription 74bd0f79-3e18-4be4-90c5-0c46007ab514 'Sample subscription' can be accessed from tenants 2a0b016c-36fa-4569-974e-37b05956597c(default) and 45775191-e432-4364-a1cd-b97da6816cb4. To select a specific tenant when accessing this subscription, use 'az login --tenant TENANT_ID'.\r\n",
    "The following tenants don't contain accessible subscriptions. Use 'az login --allow-no-subscriptions' to have tenant level access.\r\n",
    "e8f78f0f-3f2b-4342-a36c-7e91db929057 'foo'\r\n",
    "0aa0847b-6374-4acc-a76c-a09e92a84c56 'bar'\r\n",
    "[\r\n",
    "  {\r\n",
    "    \"cloudName\": \"AzureApp\",\r\n",
    "    \"homeTenantId\": \"2a0b016c-36fa-4569-974e-37b05956597c\",\r\n",
    "    \"id\": \"53b762ad-56f2-4c8f-b7e9-5eab95793ba5\",\r\n",
    "    \"isDefault\": true,\r\n",
    "    \"managedByTenants\": [\r\n",
    "    ....\r\n",
    "```\r\n"
   ],
   "metadata": {}
  }
 ],
 "metadata": {
  "interpreter": {
   "hash": "b736adfe05d9ae282eea4c01a733d58a0215ef3399d39339e6557e4c515b0f48"
  },
  "kernelspec": {
   "display_name": "Python (condadev)",
   "language": "python",
   "name": "condadev"
  },
  "language_info": {
   "codemirror_mode": {
    "name": "ipython",
    "version": 3
   },
   "file_extension": ".py",
   "mimetype": "text/x-python",
   "name": "python",
   "nbconvert_exporter": "python",
   "pygments_lexer": "ipython3",
   "version": "3.7.10"
  },
  "widgets": {
   "application/vnd.jupyter.widget-state+json": {
    "state": {
     "007d8b7438034027bfa0a42a77f50688": {
      "model_module": "@jupyter-widgets/base",
      "model_module_version": "1.2.0",
      "model_name": "LayoutModel",
      "state": {}
     },
     "00e8da2e1382403e8ea3803064ce670d": {
      "model_module": "@jupyter-widgets/controls",
      "model_module_version": "1.5.0",
      "model_name": "TextModel",
      "state": {
       "description": "Current file",
       "layout": "IPY_MODEL_1a7066406ebb4fa7bd714441a7ca9797",
       "style": "IPY_MODEL_1d00dda9563442a5bcc3d72e191a3b65",
       "value": "e:\\src\\microsoft\\msticpyconfig.yaml"
      }
     },
     "017897bcf06946a68378fe906abb74e5": {
      "model_module": "@jupyter-widgets/base",
      "model_module_version": "1.2.0",
      "model_name": "LayoutModel",
      "state": {
       "height": "300px",
       "width": "50%"
      }
     },
     "01ed7457a6344f26a85e737f9e741c18": {
      "model_module": "@jupyter-widgets/controls",
      "model_module_version": "1.5.0",
      "model_name": "DescriptionStyleModel",
      "state": {
       "description_width": ""
      }
     },
     "022fb5c00d3f47719ece976e4d78eebf": {
      "model_module": "@jupyter-widgets/base",
      "model_module_version": "1.2.0",
      "model_name": "LayoutModel",
      "state": {}
     },
     "035d19b4aa844669a3a0165cacee83af": {
      "model_module": "@jupyter-widgets/controls",
      "model_module_version": "1.5.0",
      "model_name": "VBoxModel",
      "state": {
       "children": [
        "IPY_MODEL_ba33aa6910ae46ff853afb534cf43e62",
        "IPY_MODEL_73e69fadf050409c9a0f6fd8213b8326",
        "IPY_MODEL_2fb268c0f68f4458999138edd4eb45d8"
       ],
       "layout": "IPY_MODEL_9dc92735d550460082bdc1a017849e32"
      }
     },
     "036f4deb338b4dd9afe12039cf0eefe1": {
      "model_module": "@jupyter-widgets/controls",
      "model_module_version": "1.5.0",
      "model_name": "ButtonModel",
      "state": {
       "description": "Update",
       "layout": "IPY_MODEL_9dee855ed36f4b8a9835d05fa0ed76c7",
       "style": "IPY_MODEL_ef57bbad289a45f4af43fe5d22863764"
      }
     },
     "03d574208d4c4702b5c15fb438327cc4": {
      "model_module": "@jupyter-widgets/controls",
      "model_module_version": "1.5.0",
      "model_name": "ButtonModel",
      "state": {
       "description": "Add",
       "layout": "IPY_MODEL_9c0d782696ef40bfaaf6391c3e3eb58a",
       "style": "IPY_MODEL_f3f0d295a9884e49b4f9bf0f232f077c"
      }
     },
     "04e85cfd8d1041e08ce4aada31cfdc57": {
      "model_module": "@jupyter-widgets/controls",
      "model_module_version": "1.5.0",
      "model_name": "HTMLModel",
      "state": {
       "layout": "IPY_MODEL_3ac0f57b209e41ee8ed9fa2fb640a6c5",
       "style": "IPY_MODEL_4e158aa9932a44d8935fae792aeca71a",
       "value": "\n    Supply the parameters for your Key Vault here to store secret\n    values such as API Keys.<br>\n\n    Check \"UseKeyring\" if you have Keyring installed and want to be\n    able to cache the secrets locally.<br>\n\n    The first five items are mandatory. If you are not using a regional\n    or private cloud the value for \"Authority\" should be global.\n    <br><a href='https://msticpy.readthedocs.io/en/latest/getting_started/msticpyconfig.html#specifying-secrets-as-key-vault-secrets' target='_blank' style='color: blue; text-decoration: underline;'>Online: Key Vault Settings</a>"
      }
     },
     "0517b739ae8149688f43581089816ae7": {
      "model_module": "@jupyter-widgets/controls",
      "model_module_version": "1.5.0",
      "model_name": "TextModel",
      "state": {
       "description": "Query end time (UTC) :  ",
       "layout": "IPY_MODEL_32f48820259b46718f3fdfb07b6aa7f2",
       "style": "IPY_MODEL_ecd23a567a8c4d20a081819d7f105d2f",
       "value": "2021-07-23 22:52:53.174685"
      }
     },
     "052dc7b5de424ddb801340a693dced79": {
      "model_module": "@jupyter-widgets/base",
      "model_module_version": "1.2.0",
      "model_name": "LayoutModel",
      "state": {
       "height": "200px",
       "width": "99%"
      }
     },
     "054c72d6ec2e47dd92db0adb631a2f9c": {
      "model_module": "@jupyter-widgets/controls",
      "model_module_version": "1.5.0",
      "model_name": "ButtonModel",
      "state": {
       "description": "Delete",
       "layout": "IPY_MODEL_9dee855ed36f4b8a9835d05fa0ed76c7",
       "style": "IPY_MODEL_9b3322c270814fbbb061f634ce8eadae"
      }
     },
     "06c4a0e9f5c3441d8fe4c0bdece96db9": {
      "model_module": "@jupyter-widgets/base",
      "model_module_version": "1.2.0",
      "model_name": "LayoutModel",
      "state": {
       "height": "200px",
       "width": "99%"
      }
     },
     "06fba219a826440f83f01d2af799ce15": {
      "model_module": "@jupyter-widgets/controls",
      "model_module_version": "1.5.0",
      "model_name": "VBoxModel",
      "state": {
       "children": [
        "IPY_MODEL_37481be2689349e6a1df9addd6a8e41e"
       ],
       "layout": "IPY_MODEL_5b4afc322fb54ea8a5099d5d84fc1532"
      }
     },
     "073abd4d363c4180bb4fc7185f28631e": {
      "model_module": "@jupyter-widgets/controls",
      "model_module_version": "1.5.0",
      "model_name": "ButtonModel",
      "state": {
       "description": "Load default",
       "layout": "IPY_MODEL_7b7b4c8ad2b0402a8bb218b2f5808055",
       "style": "IPY_MODEL_2e423401a12342b1bbfec31bf00dddc2"
      }
     },
     "07c6d9569bf149b5a0d456e77fd2e35b": {
      "model_module": "@jupyter-widgets/controls",
      "model_module_version": "1.5.0",
      "model_name": "DescriptionStyleModel",
      "state": {
       "description_width": "100px"
      }
     },
     "085f8221899d40b4bb56de4739d6cfdc": {
      "model_module": "@jupyter-widgets/base",
      "model_module_version": "1.2.0",
      "model_name": "LayoutModel",
      "state": {
       "width": "70%"
      }
     },
     "088858dbee8f4095a330b3b58c89ad54": {
      "model_module": "@jupyter-widgets/base",
      "model_module_version": "1.2.0",
      "model_name": "LayoutModel",
      "state": {}
     },
     "0933fbb7882d4f899212236d61673cfb": {
      "model_module": "@jupyter-widgets/controls",
      "model_module_version": "1.5.0",
      "model_name": "HBoxModel",
      "state": {
       "children": [
        "IPY_MODEL_0c99c50592414c4db6cc68835c01bd59",
        "IPY_MODEL_5e4cb3ff33c84f81acdcc880860a5e44"
       ],
       "layout": "IPY_MODEL_4577db39392046ffa148c4fd8da86fe9"
      }
     },
     "0a5e4d51b9a14665ab9d820c08d4df54": {
      "model_module": "@jupyter-widgets/controls",
      "model_module_version": "1.5.0",
      "model_name": "HBoxModel",
      "state": {
       "children": [
        "IPY_MODEL_f18199c71f964ab6ad57f9a607d1684f",
        "IPY_MODEL_e4508fdae12a48cb9c1ed23d292a7de0"
       ],
       "layout": "IPY_MODEL_d6f449e2d19c4cf1934a0215c82c8e97"
      }
     },
     "0b154ad9e4864160b40bd2cbb690714a": {
      "model_module": "@jupyter-widgets/controls",
      "model_module_version": "1.5.0",
      "model_name": "VBoxModel",
      "state": {
       "children": [
        "IPY_MODEL_9ac38e8dcaba4d40b8bda016621a87e4",
        "IPY_MODEL_342409ee8c4b47518f1e117464b36743"
       ],
       "layout": "IPY_MODEL_90afc2e515534f8498f412d3b7d359fe"
      }
     },
     "0beba7edc11a455d8af982a9ff74dab5": {
      "model_module": "@jupyter-widgets/base",
      "model_module_version": "1.2.0",
      "model_name": "LayoutModel",
      "state": {
       "height": "300px",
       "width": "50%"
      }
     },
     "0c388b814c3842ea804ddb774ccbdf75": {
      "model_module": "@jupyter-widgets/controls",
      "model_module_version": "1.5.0",
      "model_name": "DescriptionStyleModel",
      "state": {
       "description_width": "100px"
      }
     },
     "0c99c50592414c4db6cc68835c01bd59": {
      "model_module": "@jupyter-widgets/controls",
      "model_module_version": "1.5.0",
      "model_name": "VBoxModel",
      "state": {
       "children": [
        "IPY_MODEL_4710fe82e09b4ceda5a77214db0991ab",
        "IPY_MODEL_0a5e4d51b9a14665ab9d820c08d4df54",
        "IPY_MODEL_1c93e4dced134f0d895993b36708a7c2"
       ],
       "layout": "IPY_MODEL_1943a3b36f0e461c90bee99aa5085268"
      }
     },
     "0ce8f552604647bc8af7e2164f6caac7": {
      "model_module": "@jupyter-widgets/base",
      "model_module_version": "1.2.0",
      "model_name": "LayoutModel",
      "state": {}
     },
     "0e0aa3e8c6ed419491cb39377c5e8eac": {
      "model_module": "@jupyter-widgets/base",
      "model_module_version": "1.2.0",
      "model_name": "LayoutModel",
      "state": {}
     },
     "0ecfcda1182546f5a02aadefa898af94": {
      "model_module": "@jupyter-widgets/controls",
      "model_module_version": "1.5.0",
      "model_name": "VBoxModel",
      "state": {
       "children": [
        "IPY_MODEL_ac5f470556d84ea796ae3f3994465475",
        "IPY_MODEL_46bbd122589c4e0fbcd23af837aa39e0"
       ],
       "layout": "IPY_MODEL_c8078960801c4265912c12b8866589f9"
      }
     },
     "0eecb949e6194b64adb67dd288e1fbc8": {
      "model_module": "@jupyter-widgets/controls",
      "model_module_version": "1.5.0",
      "model_name": "DescriptionStyleModel",
      "state": {
       "description_width": "70px"
      }
     },
     "0ef08ff52043436c909c7dc09069fb71": {
      "model_module": "@jupyter-widgets/controls",
      "model_module_version": "1.5.0",
      "model_name": "VBoxModel",
      "state": {
       "children": [
        "IPY_MODEL_ba33aa6910ae46ff853afb534cf43e62",
        "IPY_MODEL_480f1c012b70421c9d039113f7700463",
        "IPY_MODEL_2fb268c0f68f4458999138edd4eb45d8"
       ],
       "layout": "IPY_MODEL_8075b1f219714b7c9060d5a9f6e85a01"
      }
     },
     "0f61ecdce92c436d9b381a9ea45d9c53": {
      "model_module": "@jupyter-widgets/base",
      "model_module_version": "1.2.0",
      "model_name": "LayoutModel",
      "state": {}
     },
     "0fc124d396b846098e6b342dd43c67a8": {
      "model_module": "@jupyter-widgets/controls",
      "model_module_version": "1.5.0",
      "model_name": "DropdownModel",
      "state": {
       "_options_labels": [
        "TILookup",
        "GeoIpLookup",
        "Notebooklets",
        "Pivot",
        "AzureData",
        "AzureSentinelAPI"
       ],
       "description": "Add item",
       "index": null,
       "layout": "IPY_MODEL_acd901d3b06d4cfb891602ce165506ac",
       "style": "IPY_MODEL_778f8764bb4443a2af38d203df4c0315"
      }
     },
     "10832ba643004470be235966d2cddb8b": {
      "model_module": "@jupyter-widgets/controls",
      "model_module_version": "1.5.0",
      "model_name": "HBoxModel",
      "state": {
       "children": [
        "IPY_MODEL_b738ba26553540528a7e1b52fa4e4d7b",
        "IPY_MODEL_d3efff0105be43caacacaa5611bfa710"
       ],
       "layout": "IPY_MODEL_97b397363b744b51a529ddcae6984f95"
      }
     },
     "10bc5c7104814d30aa0a2eb4aca613d9": {
      "model_module": "@jupyter-widgets/controls",
      "model_module_version": "1.5.0",
      "model_name": "ButtonStyleModel",
      "state": {}
     },
     "11f9570185014df8ad84a6a926accf8d": {
      "model_module": "@jupyter-widgets/base",
      "model_module_version": "1.2.0",
      "model_name": "LayoutModel",
      "state": {
       "margin": "1pt",
       "padding": "5pt",
       "width": "40%"
      }
     },
     "1255c819b34c41b39b8251fad0908255": {
      "model_module": "@jupyter-widgets/controls",
      "model_module_version": "1.5.0",
      "model_name": "DescriptionStyleModel",
      "state": {
       "description_width": "100px"
      }
     },
     "125c8acd6f644644919a406baa04d08f": {
      "model_module": "@jupyter-widgets/controls",
      "model_module_version": "1.5.0",
      "model_name": "TextModel",
      "state": {
       "description": "ResourceGroup",
       "layout": "IPY_MODEL_65e6023dbf7d481982d621eef5904d24",
       "style": "IPY_MODEL_aae2182927784c2a87443bc35f2f0844",
       "value": "ASIHuntOMSWorkspaceRG"
      }
     },
     "133480f664c9466f9b35849df9705fb8": {
      "model_module": "@jupyter-widgets/base",
      "model_module_version": "1.2.0",
      "model_name": "LayoutModel",
      "state": {
       "border": "solid gray 1px",
       "margin": "1pt",
       "padding": "5pt",
       "width": "99%"
      }
     },
     "1418e8705aa84e7b939b8fc1d0688c53": {
      "model_module": "@jupyter-widgets/controls",
      "model_module_version": "1.5.0",
      "model_name": "CheckboxModel",
      "state": {
       "description": "UseKeyring",
       "disabled": false,
       "layout": "IPY_MODEL_65e6023dbf7d481982d621eef5904d24",
       "style": "IPY_MODEL_51844fed133547dba503abac333f8af2",
       "value": true
      }
     },
     "15e1fc39073c4d32b532dac6706468b6": {
      "model_module": "@jupyter-widgets/controls",
      "model_module_version": "1.5.0",
      "model_name": "CheckboxModel",
      "state": {
       "description": "Def KV Path",
       "disabled": false,
       "layout": "IPY_MODEL_5b142498377b4c85a935b6867f26c127",
       "style": "IPY_MODEL_7aafda07252d44c0b0f9096f3f893ebd",
       "value": true
      }
     },
     "162216390f9a44b399b6a69d169e4b86": {
      "model_module": "@jupyter-widgets/controls",
      "model_module_version": "1.5.0",
      "model_name": "ButtonStyleModel",
      "state": {}
     },
     "17019dc94d9b40809d4b79a8c088a65e": {
      "model_module": "@jupyter-widgets/base",
      "model_module_version": "1.2.0",
      "model_name": "LayoutModel",
      "state": {
       "visibility": "visible"
      }
     },
     "1703819f75ac4719a455252a73b15a61": {
      "model_module": "@jupyter-widgets/controls",
      "model_module_version": "1.5.0",
      "model_name": "DescriptionStyleModel",
      "state": {
       "description_width": "100px"
      }
     },
     "17511aac2d59456e83c6842cc8fb9e80": {
      "model_module": "@jupyter-widgets/controls",
      "model_module_version": "1.5.0",
      "model_name": "HTMLModel",
      "state": {
       "layout": "IPY_MODEL_3505f369b461423e98e9907dea1b438a",
       "style": "IPY_MODEL_75114728294a4e1ea4cdd87522275374",
       "value": "\n    Supply the parameters for your Azure Sentinel workspaces here.<br>\n\n    You can get all of these (apart from 'TenantID') from your workspace portal.\n    Navigate to \"Settings\" (on the left side of the screen), then click the\n    \"Workspace Settings\" tab near the top of the page.\n\n    The Tenant ID is the only value missing from this settings page. If you cannot\n    find this you can use the following code to try to look it up:\n    <pre>\n    from msticpy.common.config.ce_common import get_def_tenant_id\n    get_def_tenant_id(\"{workspace-subscription-id}\")\n    </pre>\n\n    The name that you use for workspace (the \"Name\" text box) does not have to\n    be the same as the official name. You can use any helpful name that you\n    like. You can even have the same workspace included multiple times with\n    different names.\n\n    There is a special case of the workspace name \"Default\". Normally, when you\n    connect to a workspace you need to supply the name corresponding to the\n    workspace entry in your settings. If you give a workspace the name \"Default\"\n    it will be picked if you do not specify a name. Note, the \"Default\" entry\n    can be a duplicate of another named entry.\n    <br><a href='https://msticpy.readthedocs.io/en/latest/data_acquisition/DataProviders.html#connecting-to-an-azure-sentinel-workspace' target='_blank' style='color: blue; text-decoration: underline;'>Online: Connecting to an Azure Sentinel Workspace</a><br><a href='https://msticpy.readthedocs.io/en/latest/getting_started/SettingsEditor.html#azure-sentinel-workspaces' target='_blank' style='color: blue; text-decoration: underline;'>Online: Help on this tab</a>"
      }
     },
     "191c9fb7839047259ac325d3ee8c97cc": {
      "model_module": "@jupyter-widgets/controls",
      "model_module_version": "1.5.0",
      "model_name": "ButtonStyleModel",
      "state": {}
     },
     "1943a3b36f0e461c90bee99aa5085268": {
      "model_module": "@jupyter-widgets/base",
      "model_module_version": "1.2.0",
      "model_name": "LayoutModel",
      "state": {
       "margin": "1pt",
       "padding": "5pt",
       "width": "40%"
      }
     },
     "1a7066406ebb4fa7bd714441a7ca9797": {
      "model_module": "@jupyter-widgets/base",
      "model_module_version": "1.2.0",
      "model_name": "LayoutModel",
      "state": {
       "width": "99%"
      }
     },
     "1c93e4dced134f0d895993b36708a7c2": {
      "model_module": "@jupyter-widgets/controls",
      "model_module_version": "1.5.0",
      "model_name": "DropdownModel",
      "state": {
       "_options_labels": [
        "OTX",
        "VirusTotal",
        "XForce",
        "AzureSentinel",
        "OpenPageRank",
        "TorExitNodes",
        "GreyNoise"
       ],
       "description": "Add prov",
       "index": 0,
       "layout": "IPY_MODEL_53d87538ff3b43359ea2f0620d0f7ecb",
       "style": "IPY_MODEL_2deadf7baa804a5c9f8037b879411fe5"
      }
     },
     "1d00dda9563442a5bcc3d72e191a3b65": {
      "model_module": "@jupyter-widgets/controls",
      "model_module_version": "1.5.0",
      "model_name": "DescriptionStyleModel",
      "state": {
       "description_width": "150px"
      }
     },
     "1d70ecaa827e450da4f3f68079f2ede7": {
      "model_module": "@jupyter-widgets/base",
      "model_module_version": "1.2.0",
      "model_name": "LayoutModel",
      "state": {
       "width": "35%"
      }
     },
     "20817a94ea6b44fbb3a5800244643dc1": {
      "model_module": "@jupyter-widgets/base",
      "model_module_version": "1.2.0",
      "model_name": "LayoutModel",
      "state": {
       "width": "100px"
      }
     },
     "2248ad757af345359eaaad2e2da05db6": {
      "model_module": "@jupyter-widgets/base",
      "model_module_version": "1.2.0",
      "model_name": "LayoutModel",
      "state": {
       "width": "99%"
      }
     },
     "226953faa01c40cbb6b9a0eb70d0935f": {
      "model_module": "@jupyter-widgets/controls",
      "model_module_version": "1.5.0",
      "model_name": "TextModel",
      "state": {
       "description": "Value of MSTICPCONFIG",
       "disabled": true,
       "layout": "IPY_MODEL_1a7066406ebb4fa7bd714441a7ca9797",
       "style": "IPY_MODEL_7517336c5f4b450f8ebfa06df4912b82",
       "value": "e:\\src\\microsoft\\msticpyconfig.yaml"
      }
     },
     "22b9192d452547c18aa77bd139d10cd9": {
      "model_module": "@jupyter-widgets/controls",
      "model_module_version": "1.5.0",
      "model_name": "HBoxModel",
      "state": {
       "children": [
        "IPY_MODEL_e8d92f31e9d44c9bbc1da4194c34ef71",
        "IPY_MODEL_6b0f4ed1987b454d8866ef6c157a7233",
        "IPY_MODEL_342409ee8c4b47518f1e117464b36743"
       ],
       "layout": "IPY_MODEL_3cae18d754ab4ebbbf1376ab011230aa"
      }
     },
     "23563db8f2f34cc3998e7682d78ee2d7": {
      "model_module": "@jupyter-widgets/controls",
      "model_module_version": "1.5.0",
      "model_name": "AccordionModel",
      "state": {
       "_titles": {
        "0": "Search"
       },
       "children": [
        "IPY_MODEL_0ef08ff52043436c909c7dc09069fb71"
       ],
       "layout": "IPY_MODEL_de3c631a5da54f67a19cce5b3f541601",
       "selected_index": null
      }
     },
     "23a80837c2e4494e878dc6ef888caf74": {
      "model_module": "@jupyter-widgets/controls",
      "model_module_version": "1.5.0",
      "model_name": "DescriptionStyleModel",
      "state": {
       "description_width": ""
      }
     },
     "241c7ba3093f409e99291b57dd94a448": {
      "model_module": "@jupyter-widgets/base",
      "model_module_version": "1.2.0",
      "model_name": "LayoutModel",
      "state": {}
     },
     "2447ccf352464c2d9a61bb1ab32f0614": {
      "model_module": "@jupyter-widgets/base",
      "model_module_version": "1.2.0",
      "model_name": "LayoutModel",
      "state": {}
     },
     "24e36a47e66d4c858bf93a9ca836ae7d": {
      "model_module": "@jupyter-widgets/base",
      "model_module_version": "1.2.0",
      "model_name": "LayoutModel",
      "state": {
       "width": "99%"
      }
     },
     "256a10e243c64011900fc3cb000effff": {
      "model_module": "@jupyter-widgets/controls",
      "model_module_version": "1.5.0",
      "model_name": "TextareaModel",
      "state": {
       "layout": "IPY_MODEL_f7a7dced5c7d4560b20ce1e615916c78",
       "style": "IPY_MODEL_343339e75f4a495eae52fbb376836118"
      }
     },
     "25bdd6ed4d7e4898a06e856c3c44df47": {
      "model_module": "@jupyter-widgets/controls",
      "model_module_version": "1.5.0",
      "model_name": "DescriptionStyleModel",
      "state": {
       "description_width": ""
      }
     },
     "26d14e7ab2eb461e9276cc48c2273eb3": {
      "model_module": "@jupyter-widgets/controls",
      "model_module_version": "1.5.0",
      "model_name": "ButtonStyleModel",
      "state": {}
     },
     "29365982e6714f0db8da2ef98281caca": {
      "model_module": "@jupyter-widgets/base",
      "model_module_version": "1.2.0",
      "model_name": "LayoutModel",
      "state": {}
     },
     "29dfa7d0a46447918b4e883f945024f8": {
      "model_module": "@jupyter-widgets/controls",
      "model_module_version": "1.5.0",
      "model_name": "ButtonModel",
      "state": {
       "description": "View Settings",
       "layout": "IPY_MODEL_7b7b4c8ad2b0402a8bb218b2f5808055",
       "style": "IPY_MODEL_35b70d31d9c8467fbdc6dbdb9ad37f13"
      }
     },
     "29ea05c1a80341bd8c177e2b02a0d892": {
      "model_module": "@jupyter-widgets/base",
      "model_module_version": "1.2.0",
      "model_name": "LayoutModel",
      "state": {
       "width": "100px"
      }
     },
     "2a558b7e65a640d2a6c07e2fb1f0d855": {
      "model_module": "@jupyter-widgets/controls",
      "model_module_version": "1.5.0",
      "model_name": "DescriptionStyleModel",
      "state": {
       "description_width": ""
      }
     },
     "2a789ac915364701a9306e10886d2b59": {
      "model_module": "@jupyter-widgets/controls",
      "model_module_version": "1.5.0",
      "model_name": "DescriptionStyleModel",
      "state": {
       "description_width": ""
      }
     },
     "2a79519e4fec4740aae3567c995a8ae9": {
      "model_module": "@jupyter-widgets/controls",
      "model_module_version": "1.5.0",
      "model_name": "DescriptionStyleModel",
      "state": {
       "description_width": ""
      }
     },
     "2a82fb56a4f0404eb88289794babf8e6": {
      "model_module": "@jupyter-widgets/controls",
      "model_module_version": "1.5.0",
      "model_name": "ButtonModel",
      "state": {
       "description": "Update",
       "layout": "IPY_MODEL_8fb336242aca4dfb86bd325b2ffcd125",
       "style": "IPY_MODEL_b5f83ba36bb344a78e6a4afaf5f504a1"
      }
     },
     "2ab5c5a021c241d29a9dcdb0274e1fbf": {
      "model_module": "@jupyter-widgets/base",
      "model_module_version": "1.2.0",
      "model_name": "LayoutModel",
      "state": {}
     },
     "2b077a592065471aa74da321fa2cf0ae": {
      "model_module": "@jupyter-widgets/controls",
      "model_module_version": "1.5.0",
      "model_name": "ButtonModel",
      "state": {
       "description": "Delete",
       "layout": "IPY_MODEL_8fb336242aca4dfb86bd325b2ffcd125",
       "style": "IPY_MODEL_191c9fb7839047259ac325d3ee8c97cc"
      }
     },
     "2bdaa297bc0e459c9bbc8753ccee48ac": {
      "model_module": "@jupyter-widgets/controls",
      "model_module_version": "1.5.0",
      "model_name": "ButtonStyleModel",
      "state": {}
     },
     "2d4f18fbe69c43fda813d3f26868fac1": {
      "model_module": "@jupyter-widgets/controls",
      "model_module_version": "1.5.0",
      "model_name": "TextModel",
      "state": {
       "description": "AzureRegion",
       "layout": "IPY_MODEL_65e6023dbf7d481982d621eef5904d24",
       "style": "IPY_MODEL_cd25343dd7a440748b3eaf029e3f70e6",
       "value": "East US"
      }
     },
     "2d51644117254824b85b153695508a27": {
      "model_module": "@jupyter-widgets/base",
      "model_module_version": "1.2.0",
      "model_name": "LayoutModel",
      "state": {}
     },
     "2deadf7baa804a5c9f8037b879411fe5": {
      "model_module": "@jupyter-widgets/controls",
      "model_module_version": "1.5.0",
      "model_name": "DescriptionStyleModel",
      "state": {
       "description_width": "70px"
      }
     },
     "2e423401a12342b1bbfec31bf00dddc2": {
      "model_module": "@jupyter-widgets/controls",
      "model_module_version": "1.5.0",
      "model_name": "ButtonStyleModel",
      "state": {}
     },
     "2e80bef403dd4be6a5dcfdd508d6c471": {
      "model_module": "@jupyter-widgets/base",
      "model_module_version": "1.2.0",
      "model_name": "LayoutModel",
      "state": {}
     },
     "2eb3bd844a8e45dc972d45524ae1233c": {
      "model_module": "@jupyter-widgets/controls",
      "model_module_version": "1.5.0",
      "model_name": "DescriptionStyleModel",
      "state": {
       "description_width": ""
      }
     },
     "2f0c3ef27cda4475afb94ad3a8e76267": {
      "model_module": "@jupyter-widgets/base",
      "model_module_version": "1.2.0",
      "model_name": "LayoutModel",
      "state": {}
     },
     "2f54b906483a489395c409916dc99006": {
      "model_module": "@jupyter-widgets/controls",
      "model_module_version": "1.5.0",
      "model_name": "SelectModel",
      "state": {
       "description": "Providers",
       "index": null,
       "layout": "IPY_MODEL_79dd479fa6cf4594812a7d1be27a7730",
       "style": "IPY_MODEL_7f6de6001327453290fc1af9100e35f0"
      }
     },
     "2f63f6674d3f41f797cf477546e928fb": {
      "model_module": "@jupyter-widgets/controls",
      "model_module_version": "1.5.0",
      "model_name": "VBoxModel",
      "state": {
       "children": [
        "IPY_MODEL_95f8e975339944979a3546a2244ac5a9",
        "IPY_MODEL_f652c848dc814afe8c64ff51ccc573e1"
       ],
       "layout": "IPY_MODEL_76acd0dfeb424941a3c93c8e5a2710df"
      }
     },
     "2fb268c0f68f4458999138edd4eb45d8": {
      "model_module": "@jupyter-widgets/controls",
      "model_module_version": "1.5.0",
      "model_name": "SelectModel",
      "state": {
       "description": "Results",
       "index": null,
       "layout": "IPY_MODEL_6cfc4c5046d8456b917beed0eec2220f",
       "style": "IPY_MODEL_b6087b85dfa449b99534a09f1956dcd9"
      }
     },
     "2fef187c73f2437182172471f7cb930b": {
      "model_module": "@jupyter-widgets/controls",
      "model_module_version": "1.5.0",
      "model_name": "AccordionModel",
      "state": {
       "_titles": {
        "0": "Help"
       },
       "children": [
        "IPY_MODEL_6104be8f3421457db004e1169aa670b2"
       ],
       "layout": "IPY_MODEL_b2ea06c8ae0e4ce6a68f48e965746b64",
       "selected_index": null
      }
     },
     "300348ceae074e7aa8fca4e3d4014bf3": {
      "model_module": "@jupyter-widgets/controls",
      "model_module_version": "1.5.0",
      "model_name": "CheckboxModel",
      "state": {
       "description": "Create backup",
       "disabled": false,
       "layout": "IPY_MODEL_2447ccf352464c2d9a61bb1ab32f0614",
       "style": "IPY_MODEL_af540db45ade4a8f893fc899e434a4e7",
       "value": false
      }
     },
     "301845c1cb964aa9b879a037ca61a1b0": {
      "model_module": "@jupyter-widgets/controls",
      "model_module_version": "1.5.0",
      "model_name": "ButtonModel",
      "state": {
       "description": "Select File",
       "layout": "IPY_MODEL_9661ac2c0e0b429fa51c843a39954c76",
       "style": "IPY_MODEL_98add4352eff410bb52cb54e461c5045"
      }
     },
     "3173ade5786d42a09a33be817c3669c9": {
      "model_module": "@jupyter-widgets/base",
      "model_module_version": "1.2.0",
      "model_name": "LayoutModel",
      "state": {}
     },
     "3181ffa9aac146c2a76015f8a263131f": {
      "model_module": "@jupyter-widgets/controls",
      "model_module_version": "1.5.0",
      "model_name": "DescriptionStyleModel",
      "state": {
       "description_width": ""
      }
     },
     "324db8e2773a4214978500ccae8c9f28": {
      "model_module": "@jupyter-widgets/controls",
      "model_module_version": "1.5.0",
      "model_name": "DescriptionStyleModel",
      "state": {
       "description_width": "150px"
      }
     },
     "32c5cf8d74714a57b36dcff832640c6c": {
      "model_module": "@jupyter-widgets/controls",
      "model_module_version": "1.5.0",
      "model_name": "DescriptionStyleModel",
      "state": {
       "description_width": "initial"
      }
     },
     "32f48820259b46718f3fdfb07b6aa7f2": {
      "model_module": "@jupyter-widgets/base",
      "model_module_version": "1.2.0",
      "model_name": "LayoutModel",
      "state": {
       "width": "50%"
      }
     },
     "3317404db90c4a8081d2c79a9430ac54": {
      "model_module": "@jupyter-widgets/base",
      "model_module_version": "1.2.0",
      "model_name": "LayoutModel",
      "state": {}
     },
     "341276f94a1745158016b4ce857f01ab": {
      "model_module": "@jupyter-widgets/base",
      "model_module_version": "1.2.0",
      "model_name": "LayoutModel",
      "state": {
       "border": "solid gray 1px",
       "margin": "1pt",
       "padding": "5pt",
       "width": "99%"
      }
     },
     "342409ee8c4b47518f1e117464b36743": {
      "model_module": "@jupyter-widgets/controls",
      "model_module_version": "1.5.0",
      "model_name": "ButtonModel",
      "state": {
       "description": "Update",
       "layout": "IPY_MODEL_29ea05c1a80341bd8c177e2b02a0d892",
       "style": "IPY_MODEL_ebdabe90d5de424ea09ff0afaacb7f43"
      }
     },
     "343339e75f4a495eae52fbb376836118": {
      "model_module": "@jupyter-widgets/controls",
      "model_module_version": "1.5.0",
      "model_name": "DescriptionStyleModel",
      "state": {
       "description_width": ""
      }
     },
     "34a49c45e70b4c5197f2a5835706cd71": {
      "model_module": "@jupyter-widgets/controls",
      "model_module_version": "1.5.0",
      "model_name": "VBoxModel",
      "state": {
       "children": [
        "IPY_MODEL_a57d757ed6c84034a1a550597a9329b4"
       ],
       "layout": "IPY_MODEL_ac6a17c2041646a69be2135edc0c2f2d"
      }
     },
     "3505f369b461423e98e9907dea1b438a": {
      "model_module": "@jupyter-widgets/base",
      "model_module_version": "1.2.0",
      "model_name": "LayoutModel",
      "state": {}
     },
     "352309fccf314daa87fb94756e0fe275": {
      "model_module": "@jupyter-widgets/controls",
      "model_module_version": "1.5.0",
      "model_name": "LabelModel",
      "state": {
       "layout": "IPY_MODEL_d4380646b8a845c99e3a8b684cf835de",
       "style": "IPY_MODEL_990b6055bcec4cac8f7f96db79142075",
       "value": "Key Vault Setup"
      }
     },
     "35462a3e566442f7bfe707826d197572": {
      "model_module": "@jupyter-widgets/controls",
      "model_module_version": "1.5.0",
      "model_name": "TextModel",
      "state": {
       "description": "KeyVault",
       "layout": "IPY_MODEL_90d0fbad66284396bdf89513bc3ac8bf",
       "style": "IPY_MODEL_841202298c8149b0b4da8d5cf6380135"
      }
     },
     "3546a671fd8340068122ccc7397a22e5": {
      "model_module": "@jupyter-widgets/controls",
      "model_module_version": "1.5.0",
      "model_name": "ButtonStyleModel",
      "state": {}
     },
     "35b70d31d9c8467fbdc6dbdb9ad37f13": {
      "model_module": "@jupyter-widgets/controls",
      "model_module_version": "1.5.0",
      "model_name": "ButtonStyleModel",
      "state": {}
     },
     "37481be2689349e6a1df9addd6a8e41e": {
      "model_module": "@jupyter-widgets/controls",
      "model_module_version": "1.5.0",
      "model_name": "VBoxModel",
      "state": {
       "layout": "IPY_MODEL_845e943b62c644b8a53ecfacfc0d21aa"
      }
     },
     "375d88ffc9f746fa945499c575cb43d4": {
      "model_module": "@jupyter-widgets/controls",
      "model_module_version": "1.5.0",
      "model_name": "VBoxModel",
      "state": {
       "children": [
        "IPY_MODEL_49f4bc317c2f4ed58ec547f5de69c376",
        "IPY_MODEL_c1914671099d4b4db02998f630be996e",
        "IPY_MODEL_23563db8f2f34cc3998e7682d78ee2d7",
        "IPY_MODEL_301845c1cb964aa9b879a037ca61a1b0"
       ],
       "layout": "IPY_MODEL_e057127d904e4859a5dcf32f2c9625a3"
      }
     },
     "392cec2742474f8dada368b8284e6594": {
      "model_module": "@jupyter-widgets/controls",
      "model_module_version": "1.5.0",
      "model_name": "DescriptionStyleModel",
      "state": {
       "description_width": ""
      }
     },
     "3ac0f57b209e41ee8ed9fa2fb640a6c5": {
      "model_module": "@jupyter-widgets/base",
      "model_module_version": "1.2.0",
      "model_name": "LayoutModel",
      "state": {}
     },
     "3b0362bc9d0641bc98899fe574c2dd89": {
      "model_module": "@jupyter-widgets/controls",
      "model_module_version": "1.5.0",
      "model_name": "DescriptionStyleModel",
      "state": {
       "description_width": "150px"
      }
     },
     "3bbbc3dda56041b2a4dfe61b817c689e": {
      "model_module": "@jupyter-widgets/controls",
      "model_module_version": "1.5.0",
      "model_name": "ButtonModel",
      "state": {
       "description": "Add",
       "layout": "IPY_MODEL_8fb336242aca4dfb86bd325b2ffcd125",
       "style": "IPY_MODEL_bdd8c33605fb468c9f747763d5c957d6"
      }
     },
     "3bd7066964bc4f81bd766fe1a524b115": {
      "model_module": "@jupyter-widgets/controls",
      "model_module_version": "1.5.0",
      "model_name": "DescriptionStyleModel",
      "state": {
       "description_width": ""
      }
     },
     "3cae18d754ab4ebbbf1376ab011230aa": {
      "model_module": "@jupyter-widgets/base",
      "model_module_version": "1.2.0",
      "model_name": "LayoutModel",
      "state": {}
     },
     "3cae22c6aa124d57af148d75d6721901": {
      "model_module": "@jupyter-widgets/controls",
      "model_module_version": "1.5.0",
      "model_name": "VBoxModel",
      "state": {
       "children": [
        "IPY_MODEL_a3285d11589c45a9908ed408571f8742",
        "IPY_MODEL_073abd4d363c4180bb4fc7185f28631e",
        "IPY_MODEL_7ea4ce54fcfb4ee69d564bf66ce76c96",
        "IPY_MODEL_29dfa7d0a46447918b4e883f945024f8"
       ],
       "layout": "IPY_MODEL_2f0c3ef27cda4475afb94ad3a8e76267"
      }
     },
     "3cfbe9905d684d54b7812b2ec6a771db": {
      "model_module": "@jupyter-widgets/base",
      "model_module_version": "1.2.0",
      "model_name": "LayoutModel",
      "state": {
       "width": "99%"
      }
     },
     "3d01859e0c1a44e1ae846ee6679838e4": {
      "model_module": "@jupyter-widgets/base",
      "model_module_version": "1.2.0",
      "model_name": "LayoutModel",
      "state": {}
     },
     "3da067eaf8354ec3a10c735aef8966b6": {
      "model_module": "@jupyter-widgets/controls",
      "model_module_version": "1.5.0",
      "model_name": "VBoxModel",
      "state": {
       "children": [
        "IPY_MODEL_4711e9684be54ebbb9a1f6874cd48fe5",
        "IPY_MODEL_5a44a08764434e998c366813a61a1332"
       ],
       "layout": "IPY_MODEL_a49d6967c99e433c93ea962b45a26f00"
      }
     },
     "3dff0dfdd69e4c59b8d9a7ce775bf18f": {
      "model_module": "@jupyter-widgets/controls",
      "model_module_version": "1.5.0",
      "model_name": "ButtonStyleModel",
      "state": {}
     },
     "3e5554ff6e814b7fb97b5346a250f8f9": {
      "model_module": "@jupyter-widgets/controls",
      "model_module_version": "1.5.0",
      "model_name": "AccordionModel",
      "state": {
       "_titles": {
        "0": "Help"
       },
       "children": [
        "IPY_MODEL_17511aac2d59456e83c6842cc8fb9e80"
       ],
       "layout": "IPY_MODEL_088858dbee8f4095a330b3b58c89ad54",
       "selected_index": null
      }
     },
     "3ebd0a1900784e91883046b60daab76f": {
      "model_module": "@jupyter-widgets/controls",
      "model_module_version": "1.5.0",
      "model_name": "VBoxModel",
      "state": {
       "children": [
        "IPY_MODEL_4ecadd24e97b425fbd50737690ab4fc8",
        "IPY_MODEL_6753739fafe7494eba9fe8e6dd6baab0",
        "IPY_MODEL_8ff69829d72747198101adf4b066c904"
       ],
       "layout": "IPY_MODEL_78ae98a1f8754568af61e6051c5125d2"
      }
     },
     "3ecfb1012d11452ab6d93282acb22e66": {
      "model_module": "@jupyter-widgets/controls",
      "model_module_version": "1.5.0",
      "model_name": "VBoxModel",
      "state": {
       "children": [
        "IPY_MODEL_591edf3704a04ca182edee4e2055222f",
        "IPY_MODEL_5fa29fd475d44ef6b59047fd95606db0",
        "IPY_MODEL_72f8e47887ba4476a95f09ce6e7385f0"
       ],
       "layout": "IPY_MODEL_82a5895db0a244f8ab91b01755e356d6"
      }
     },
     "3f2bfa95f81244ef9078dc72b54e7a0a": {
      "model_module": "@jupyter-widgets/controls",
      "model_module_version": "1.5.0",
      "model_name": "ButtonModel",
      "state": {
       "description": "Save Settings",
       "layout": "IPY_MODEL_711eae501f1e4579b425b242c0782ba4",
       "style": "IPY_MODEL_ced831e367c34ec4a360ddd99c397a6b"
      }
     },
     "405265ec4eb147a3916c6a08693b9c84": {
      "model_module": "@jupyter-widgets/controls",
      "model_module_version": "1.5.0",
      "model_name": "SliderStyleModel",
      "state": {
       "description_width": "initial"
      }
     },
     "40decff54b7744dfb393760342c1ff2d": {
      "model_module": "@jupyter-widgets/base",
      "model_module_version": "1.2.0",
      "model_name": "LayoutModel",
      "state": {
       "width": "64%"
      }
     },
     "4170a64ec8fa49b78478e309ecf54998": {
      "model_module": "@jupyter-widgets/base",
      "model_module_version": "1.2.0",
      "model_name": "LayoutModel",
      "state": {
       "margin": "1pt",
       "padding": "5pt",
       "width": "99%"
      }
     },
     "4179591874d646348b159472e8ac0f54": {
      "model_module": "@jupyter-widgets/controls",
      "model_module_version": "1.5.0",
      "model_name": "HBoxModel",
      "state": {
       "children": [
        "IPY_MODEL_8476bc7178f848bb8ffa9b12982babf0",
        "IPY_MODEL_44ff2eaacc25469faba50423ee6367ac"
       ],
       "layout": "IPY_MODEL_e0a9616a88044e8ea8f90d95994f4f14"
      }
     },
     "426c92001e524f82b7b2ba90f5f8df07": {
      "model_module": "@jupyter-widgets/base",
      "model_module_version": "1.2.0",
      "model_name": "LayoutModel",
      "state": {}
     },
     "428db09e734d4e4eabf49d139c0b6bf1": {
      "model_module": "@jupyter-widgets/controls",
      "model_module_version": "1.5.0",
      "model_name": "TextModel",
      "state": {
       "continuous_update": false,
       "description": "Search pattern",
       "layout": "IPY_MODEL_5664624bebe94339b8be625e498df700",
       "style": "IPY_MODEL_3b0362bc9d0641bc98899fe574c2dd89"
      }
     },
     "42c1111b96f54b1aa7b39824dfbcdbb5": {
      "model_module": "@jupyter-widgets/controls",
      "model_module_version": "1.5.0",
      "model_name": "DescriptionStyleModel",
      "state": {
       "description_width": ""
      }
     },
     "42e51b0986df4bd9b44b978cfcf8363f": {
      "model_module": "@jupyter-widgets/controls",
      "model_module_version": "1.5.0",
      "model_name": "LabelModel",
      "state": {
       "layout": "IPY_MODEL_55fd3a6687844381b13a5b8ce1183656",
       "style": "IPY_MODEL_b5a9875da4b04104ada7e56d3f50780e",
       "value": "Settings for Other (GeoIP) Providers"
      }
     },
     "4355d37cf642496ab05860517bbc60f0": {
      "model_module": "@jupyter-widgets/base",
      "model_module_version": "1.2.0",
      "model_name": "LayoutModel",
      "state": {
       "border": "solid gray 1px",
       "margin": "1pt",
       "padding": "5pt",
       "width": "99%"
      }
     },
     "43c8e208a75344ddb9526465fe39e097": {
      "model_module": "@jupyter-widgets/base",
      "model_module_version": "1.2.0",
      "model_name": "LayoutModel",
      "state": {}
     },
     "4413dc3060ce4c908b3c7eb28ee25161": {
      "model_module": "@jupyter-widgets/controls",
      "model_module_version": "1.5.0",
      "model_name": "ButtonStyleModel",
      "state": {}
     },
     "443ea0eaf9194af0b19a9ae745694619": {
      "model_module": "@jupyter-widgets/controls",
      "model_module_version": "1.5.0",
      "model_name": "TextModel",
      "state": {
       "description": "Time (24hr)",
       "layout": "IPY_MODEL_66b855a1dd744755a285f9b52f531ed8",
       "style": "IPY_MODEL_8e447fa18b0c462d91fef524add786e7",
       "value": "22:52:53.174685"
      }
     },
     "447087333ae04fda9b3155daf923438e": {
      "model_module": "@jupyter-widgets/controls",
      "model_module_version": "1.5.0",
      "model_name": "VBoxModel",
      "state": {
       "children": [
        "IPY_MODEL_bd69b0e6a1b146338a7743da0d68a5d4"
       ],
       "layout": "IPY_MODEL_52c0ed50f3b94719bb352aa0cdbfc3b5"
      }
     },
     "44ff2eaacc25469faba50423ee6367ac": {
      "model_module": "@jupyter-widgets/controls",
      "model_module_version": "1.5.0",
      "model_name": "DropdownModel",
      "state": {
       "_options_labels": [
        "minute",
        "hour",
        "day",
        "week"
       ],
       "index": 2,
       "layout": "IPY_MODEL_20817a94ea6b44fbb3a5800244643dc1",
       "style": "IPY_MODEL_23a80837c2e4494e878dc6ef888caf74"
      }
     },
     "45708f5b494e43a890331e8c44f1e35f": {
      "model_module": "@jupyter-widgets/controls",
      "model_module_version": "1.5.0",
      "model_name": "AccordionModel",
      "state": {
       "_titles": {
        "0": "Help"
       },
       "children": [
        "IPY_MODEL_4e773ca9eae34c35947461c22531a043"
       ],
       "layout": "IPY_MODEL_bf2b715ccfac41d196b33ea509ced912",
       "selected_index": null
      }
     },
     "4577db39392046ffa148c4fd8da86fe9": {
      "model_module": "@jupyter-widgets/base",
      "model_module_version": "1.2.0",
      "model_name": "LayoutModel",
      "state": {
       "border": "solid gray 1px",
       "margin": "1pt",
       "padding": "5pt",
       "width": "99%"
      }
     },
     "46bbd122589c4e0fbcd23af837aa39e0": {
      "model_module": "@jupyter-widgets/controls",
      "model_module_version": "1.5.0",
      "model_name": "ButtonModel",
      "state": {
       "description": "Save",
       "layout": "IPY_MODEL_8875c688247e404fa30db2d87ac47c77",
       "style": "IPY_MODEL_5a4107a198ef46d3b6cc96fbe0588baf"
      }
     },
     "46e4d084d5474be696506aec3b00efe7": {
      "model_module": "@jupyter-widgets/controls",
      "model_module_version": "1.5.0",
      "model_name": "ButtonStyleModel",
      "state": {}
     },
     "4710fe82e09b4ceda5a77214db0991ab": {
      "model_module": "@jupyter-widgets/controls",
      "model_module_version": "1.5.0",
      "model_name": "SelectModel",
      "state": {
       "_options_labels": [
        "OTX",
        "OpenPageRank",
        "TorExitNodes",
        "VirusTotal",
        "XForce"
       ],
       "description": "Providers",
       "index": 0,
       "layout": "IPY_MODEL_79dd479fa6cf4594812a7d1be27a7730",
       "style": "IPY_MODEL_bba1c9c9d1794dc3989fd2627cf33be4"
      }
     },
     "4711e9684be54ebbb9a1f6874cd48fe5": {
      "model_module": "@jupyter-widgets/controls",
      "model_module_version": "1.5.0",
      "model_name": "TabModel",
      "state": {
       "_titles": {
        "0": "AzureSentinel",
        "1": "TI Providers",
        "2": "Data Providers",
        "3": "GeoIP Providers",
        "4": "Key Vault",
        "5": "Autoload QueryProvs",
        "6": "Autoload Components"
       },
       "children": [
        "IPY_MODEL_48e9c67a8b4c48f7b5b7701ed1b88182",
        "IPY_MODEL_49c80dbd3f304d75bc059eeea0ba9535",
        "IPY_MODEL_cb65c31322c147d2818a2355be2722f6",
        "IPY_MODEL_a0669bcd13294340ba343677d7cc1f9b",
        "IPY_MODEL_91c76c7a45e0440cb4f7ee52c5753443",
        "IPY_MODEL_c7d0ffd6f89f454699052cdf11d74743",
        "IPY_MODEL_d9032fef2c754a17a7d52966695c9b65"
       ],
       "layout": "IPY_MODEL_d0239354ed1b49b99b02e293c44b5728",
       "selected_index": 1
      }
     },
     "4752b620f7c445eea2591e5cff85e0f0": {
      "model_module": "@jupyter-widgets/base",
      "model_module_version": "1.2.0",
      "model_name": "LayoutModel",
      "state": {
       "width": "99%"
      }
     },
     "480f1c012b70421c9d039113f7700463": {
      "model_module": "@jupyter-widgets/controls",
      "model_module_version": "1.5.0",
      "model_name": "HBoxModel",
      "state": {
       "children": [
        "IPY_MODEL_428db09e734d4e4eabf49d139c0b6bf1",
        "IPY_MODEL_f50099047ba74307ba9578ee9e42d198"
       ],
       "layout": "IPY_MODEL_cbd93b0d20a54ee58ad861728143b130"
      }
     },
     "483c28e16d9e405db53a780e715f2d92": {
      "model_module": "@jupyter-widgets/base",
      "model_module_version": "1.2.0",
      "model_name": "LayoutModel",
      "state": {}
     },
     "483d4ebf4735430295f0d0ac39b12bc2": {
      "model_module": "@jupyter-widgets/base",
      "model_module_version": "1.2.0",
      "model_name": "LayoutModel",
      "state": {
       "border": "solid gray 1px",
       "margin": "1pt",
       "padding": "5pt",
       "width": "99%"
      }
     },
     "48a06f074b0d439a97664e6e9126f184": {
      "model_module": "@jupyter-widgets/controls",
      "model_module_version": "1.5.0",
      "model_name": "TextModel",
      "state": {
       "description": "TenantId",
       "layout": "IPY_MODEL_65e6023dbf7d481982d621eef5904d24",
       "style": "IPY_MODEL_7d0b902240a14348a312ebfe76895ef4",
       "value": "72f988bf-86f1-41af-91ab-2d7cd011db47"
      }
     },
     "48b803d1c866496cb1f5964bc1487a88": {
      "model_module": "@jupyter-widgets/controls",
      "model_module_version": "1.5.0",
      "model_name": "TextModel",
      "state": {
       "description": "Provider",
       "disabled": true,
       "layout": "IPY_MODEL_085f8221899d40b4bb56de4739d6cfdc",
       "style": "IPY_MODEL_4dc27fb5cb9446718c4b3298cda321b0",
       "value": "OTX"
      }
     },
     "48e9c67a8b4c48f7b5b7701ed1b88182": {
      "model_module": "@jupyter-widgets/controls",
      "model_module_version": "1.5.0",
      "model_name": "VBoxModel",
      "state": {
       "children": [
        "IPY_MODEL_e42ce29ef3e54ba0bef8b7c0119231c8",
        "IPY_MODEL_fc1dc08f85cc46218c223ae1aa642728",
        "IPY_MODEL_3e5554ff6e814b7fb97b5346a250f8f9",
        "IPY_MODEL_9fbb9815c6ff47c59e7fdbde7194350c"
       ],
       "layout": "IPY_MODEL_007d8b7438034027bfa0a42a77f50688"
      }
     },
     "491e2411e0714d14b8b0ff4694be6726": {
      "model_module": "@jupyter-widgets/base",
      "model_module_version": "1.2.0",
      "model_name": "LayoutModel",
      "state": {}
     },
     "49c80dbd3f304d75bc059eeea0ba9535": {
      "model_module": "@jupyter-widgets/controls",
      "model_module_version": "1.5.0",
      "model_name": "VBoxModel",
      "state": {
       "children": [
        "IPY_MODEL_ac22d6da52f546cc9e2a98a089b2e31c",
        "IPY_MODEL_0933fbb7882d4f899212236d61673cfb",
        "IPY_MODEL_45708f5b494e43a890331e8c44f1e35f",
        "IPY_MODEL_9fbb9815c6ff47c59e7fdbde7194350c"
       ],
       "layout": "IPY_MODEL_94ed320ef2424f72aa9960c316a748e6"
      }
     },
     "49f4bc317c2f4ed58ec547f5de69c376": {
      "model_module": "@jupyter-widgets/controls",
      "model_module_version": "1.5.0",
      "model_name": "TextModel",
      "state": {
       "continuous_update": false,
       "description": "Path",
       "layout": "IPY_MODEL_688c2a16b661446db03b95b56cab5e0a",
       "style": "IPY_MODEL_dd201dac2745412b9ddef707a5df29db",
       "value": "E:\\src\\Azure-Sentinel-Notebooks"
      }
     },
     "4a240d6589cd43488ed7b3c53aecf4dd": {
      "model_module": "@jupyter-widgets/base",
      "model_module_version": "1.2.0",
      "model_name": "LayoutModel",
      "state": {}
     },
     "4af696f1e765488ab5e94a5120034658": {
      "model_module": "@jupyter-widgets/controls",
      "model_module_version": "1.5.0",
      "model_name": "ButtonModel",
      "state": {
       "description": "Save file",
       "layout": "IPY_MODEL_7b7b4c8ad2b0402a8bb218b2f5808055",
       "style": "IPY_MODEL_95a381f09917428ea1e2771fa4223bea"
      }
     },
     "4b474a1c04b941f6a9c0483e1f85023d": {
      "model_module": "@jupyter-widgets/base",
      "model_module_version": "1.2.0",
      "model_name": "LayoutModel",
      "state": {
       "border": "solid gray 1px",
       "margin": "1pt",
       "padding": "5pt",
       "width": "99%"
      }
     },
     "4c83ec77c06d4bf4b348c672a088b1dd": {
      "model_module": "@jupyter-widgets/base",
      "model_module_version": "1.2.0",
      "model_name": "LayoutModel",
      "state": {
       "visibility": "visible"
      }
     },
     "4d68155bbd774856a09f9d50515ca3ec": {
      "model_module": "@jupyter-widgets/base",
      "model_module_version": "1.2.0",
      "model_name": "LayoutModel",
      "state": {}
     },
     "4dc27fb5cb9446718c4b3298cda321b0": {
      "model_module": "@jupyter-widgets/controls",
      "model_module_version": "1.5.0",
      "model_name": "DescriptionStyleModel",
      "state": {
       "description_width": "100px"
      }
     },
     "4e158aa9932a44d8935fae792aeca71a": {
      "model_module": "@jupyter-widgets/controls",
      "model_module_version": "1.5.0",
      "model_name": "DescriptionStyleModel",
      "state": {
       "description_width": ""
      }
     },
     "4e4f1482d21f4a57a9d9fdceaf678b65": {
      "model_module": "@jupyter-widgets/controls",
      "model_module_version": "1.5.0",
      "model_name": "ButtonStyleModel",
      "state": {}
     },
     "4e773ca9eae34c35947461c22531a043": {
      "model_module": "@jupyter-widgets/controls",
      "model_module_version": "1.5.0",
      "model_name": "HTMLModel",
      "state": {
       "layout": "IPY_MODEL_7cac7692bafc400eae394a25688c9cf3",
       "style": "IPY_MODEL_ff01ad20bd064e57aa4c95dea198fcdb",
       "value": "\nSelect a provider to edit its settings.<br>\nTo add a new provider, select the name from the \"Add prov\" drop-down and click \"Add\"<br>\n\nThe Storage option tells the settings module to look for the\nvalue in one of three places:\n<ul>\n    <li>Text - this is the usual way to store values that are not sensitive</li>\n    <li>Environment Var - Type the name of variable in the text box</li>\n    <li>Key Vault - use this for sensitive data like passwords and API keys<br>\n    The KeyVault value here can be left empty (the secret name is generated\n    from the settings path), can contain a secret name or can contain a\n    path {vaultname}/{secretname}\n    </li>\n</ul>\n\n<b>Note:</b> Storing values in KeyVault requires some work on your part<br>\nYou must do the following:\n<ol>\n    <li>Create the Key Vault</li>\n    <li>Add the settings for the Vault in the KeyVault section of the configuration</li>\n    <li>Add the values that you want to use to the Vault</li>\n</ol>\nThe Key Vault Configuration link below describes this setup and how you can\nconfigure your Key Vault settings and transfer secrets settings from your\nconfiguration file to a vault.\n<br><a href='https://msticpy.readthedocs.io/en/latest/data_acquisition/TIProviders.html#configuration-file' target='_blank' style='color: blue; text-decoration: underline;'>Online: Threat Intel Providers</a><br><a href='https://msticpy.readthedocs.io/en/latest/getting_started/msticpyconfig.html#specifying-secrets-as-key-vault-secrets' target='_blank' style='color: blue; text-decoration: underline;'>Online: Key Vault Configuration</a><br><a href='https://msticpy.readthedocs.io/en/latest/getting_started/msticpyconfig.html' target='_blank' style='color: blue; text-decoration: underline;'>Online: MSTICPy Configuration</a><br><a href='https://msticpy.readthedocs.io/en/latest/getting_started/SettingsEditor.html#adding-threat-intelligence-ti-providers' target='_blank' style='color: blue; text-decoration: underline;'>Online: Help on this tab</a>"
      }
     },
     "4ecadd24e97b425fbd50737690ab4fc8": {
      "model_module": "@jupyter-widgets/controls",
      "model_module_version": "1.5.0",
      "model_name": "VBoxModel",
      "state": {
       "children": [
        "IPY_MODEL_be98c949f47d4ea89bbbfd5275cd2bee",
        "IPY_MODEL_97841b46d3e342b49ad7f7e8656e137d",
        "IPY_MODEL_9fbb9815c6ff47c59e7fdbde7194350c"
       ],
       "layout": "IPY_MODEL_4170a64ec8fa49b78478e309ecf54998"
      }
     },
     "4ed6ef45b7be49859b52e5797961c375": {
      "model_module": "@jupyter-widgets/controls",
      "model_module_version": "1.5.0",
      "model_name": "DescriptionStyleModel",
      "state": {
       "description_width": "70px"
      }
     },
     "4f1f7870da89453c85f1aa912067f2ba": {
      "model_module": "@jupyter-widgets/controls",
      "model_module_version": "1.5.0",
      "model_name": "SelectModel",
      "state": {
       "_options_labels": [
        "85.214.149.236                           type: ipv4        (sev: high)  providers: ['VirusTotal']"
       ],
       "description": "Select an item",
       "index": 0,
       "layout": "IPY_MODEL_017897bcf06946a68378fe906abb74e5",
       "style": "IPY_MODEL_88fbab3f2d4941dba338ee555ec9a59e"
      }
     },
     "4f66649e155d461c93e6956405e090c4": {
      "model_module": "@jupyter-widgets/base",
      "model_module_version": "1.2.0",
      "model_name": "LayoutModel",
      "state": {
       "border": "solid gray 1px",
       "margin": "1pt",
       "padding": "5pt",
       "width": "39%"
      }
     },
     "4f8b3a0af5ff4fd28b4980fbbf9f2d79": {
      "model_module": "@jupyter-widgets/controls",
      "model_module_version": "1.5.0",
      "model_name": "DescriptionStyleModel",
      "state": {
       "description_width": "70px"
      }
     },
     "510e46155e514d5a832beb80031cca10": {
      "model_module": "@jupyter-widgets/base",
      "model_module_version": "1.2.0",
      "model_name": "LayoutModel",
      "state": {
       "height": "200px",
       "width": "99%"
      }
     },
     "51844fed133547dba503abac333f8af2": {
      "model_module": "@jupyter-widgets/controls",
      "model_module_version": "1.5.0",
      "model_name": "DescriptionStyleModel",
      "state": {
       "description_width": "100px"
      }
     },
     "5239c5ea9491405293601c716d857b45": {
      "model_module": "@jupyter-widgets/controls",
      "model_module_version": "1.5.0",
      "model_name": "DescriptionStyleModel",
      "state": {
       "description_width": "100px"
      }
     },
     "52500f362c4e417a900819f710a4a52d": {
      "model_module": "@jupyter-widgets/controls",
      "model_module_version": "1.5.0",
      "model_name": "ButtonModel",
      "state": {
       "description": "Update",
       "layout": "IPY_MODEL_9c0d782696ef40bfaaf6391c3e3eb58a",
       "style": "IPY_MODEL_9cc66f338e79431f84cf0d7b9d64c069"
      }
     },
     "52870399baec481dac5246104b752fd2": {
      "model_module": "@jupyter-widgets/controls",
      "model_module_version": "1.5.0",
      "model_name": "VBoxModel",
      "state": {
       "children": [
        "IPY_MODEL_56d7d7d5f27f4fb7821146867ed12ecc",
        "IPY_MODEL_ee77d2ed9e174d59a6c5cea4f99cbcfc",
        "IPY_MODEL_c2f25366ac094e189662c28e83283b31"
       ],
       "layout": "IPY_MODEL_43c8e208a75344ddb9526465fe39e097"
      }
     },
     "52aec8ca53a8421abc3e9b6e35a5f762": {
      "model_module": "@jupyter-widgets/controls",
      "model_module_version": "1.5.0",
      "model_name": "TextModel",
      "state": {
       "description": "ResourceGroup",
       "layout": "IPY_MODEL_86ab95b1f9cf4c959bfde659e807356a",
       "style": "IPY_MODEL_324db8e2773a4214978500ccae8c9f28"
      }
     },
     "52b9068a0489494bae54c181b3d3836c": {
      "model_module": "@jupyter-widgets/base",
      "model_module_version": "1.2.0",
      "model_name": "LayoutModel",
      "state": {
       "border": "solid gray 1px",
       "margin": "1pt",
       "padding": "5pt",
       "width": "99%"
      }
     },
     "52c0ed50f3b94719bb352aa0cdbfc3b5": {
      "model_module": "@jupyter-widgets/base",
      "model_module_version": "1.2.0",
      "model_name": "LayoutModel",
      "state": {
       "border": "solid gray 1px",
       "margin": "1pt",
       "padding": "5pt",
       "width": "99%"
      }
     },
     "53048119ae9349fa975f16f7ac43ffb4": {
      "model_module": "@jupyter-widgets/controls",
      "model_module_version": "1.5.0",
      "model_name": "ButtonModel",
      "state": {
       "description": "Set as default",
       "layout": "IPY_MODEL_d5eb20736f09442e8593546d98a02c01",
       "style": "IPY_MODEL_5f10e752ab4b490591563b12819b1ab4"
      }
     },
     "53cfd0d616fb4be8964f739e2d49b79e": {
      "model_module": "@jupyter-widgets/base",
      "model_module_version": "1.2.0",
      "model_name": "LayoutModel",
      "state": {
       "height": "200px",
       "width": "45%"
      }
     },
     "53d87538ff3b43359ea2f0620d0f7ecb": {
      "model_module": "@jupyter-widgets/base",
      "model_module_version": "1.2.0",
      "model_name": "LayoutModel",
      "state": {}
     },
     "53e09c50c0c949d29e20c271623152e7": {
      "model_module": "@jupyter-widgets/base",
      "model_module_version": "1.2.0",
      "model_name": "LayoutModel",
      "state": {}
     },
     "542d039e344647d3a19ac4b2735c2382": {
      "model_module": "@jupyter-widgets/controls",
      "model_module_version": "1.5.0",
      "model_name": "ButtonStyleModel",
      "state": {}
     },
     "55fd3a6687844381b13a5b8ce1183656": {
      "model_module": "@jupyter-widgets/base",
      "model_module_version": "1.2.0",
      "model_name": "LayoutModel",
      "state": {}
     },
     "5620b86fc5514997a65e8e9e601b7c0e": {
      "model_module": "@jupyter-widgets/controls",
      "model_module_version": "1.5.0",
      "model_name": "LabelModel",
      "state": {
       "layout": "IPY_MODEL_29365982e6714f0db8da2ef98281caca",
       "style": "IPY_MODEL_aa370f7e7cc84eb89609a67cd4533676",
       "value": "Operations"
      }
     },
     "562900761ba4434cb91d6b97014afe09": {
      "model_module": "@jupyter-widgets/controls",
      "model_module_version": "1.5.0",
      "model_name": "TextModel",
      "state": {
       "description": "Conf File",
       "layout": "IPY_MODEL_fbc8a83916064e07b7ad212ba0327df4",
       "style": "IPY_MODEL_6a6e9da45ad241bd80f92e9cf86e43be",
       "value": "e:\\src\\microsoft\\msticpyconfig.yaml"
      }
     },
     "5664624bebe94339b8be625e498df700": {
      "model_module": "@jupyter-widgets/base",
      "model_module_version": "1.2.0",
      "model_name": "LayoutModel",
      "state": {
       "width": "50%"
      }
     },
     "5668e1e9a67e4c4abae8104647d123f3": {
      "model_module": "@jupyter-widgets/controls",
      "model_module_version": "1.5.0",
      "model_name": "TextModel",
      "state": {
       "description": "Filter:",
       "layout": "IPY_MODEL_c90b3a9c8a43459ea91ddd7b8a8ebe94",
       "style": "IPY_MODEL_32c5cf8d74714a57b36dcff832640c6c"
      }
     },
     "56d7d7d5f27f4fb7821146867ed12ecc": {
      "model_module": "@jupyter-widgets/controls",
      "model_module_version": "1.5.0",
      "model_name": "HTMLModel",
      "state": {
       "layout": "IPY_MODEL_dd0ea08c883e4a3bab97bb96128a3662",
       "style": "IPY_MODEL_bb153081726544008c0bea588c397305",
       "value": "<h4>Set query time boundaries</h4>"
      }
     },
     "572e21757ab44a0491505d9a38fdb97a": {
      "model_module": "@jupyter-widgets/controls",
      "model_module_version": "1.5.0",
      "model_name": "VBoxModel",
      "state": {
       "children": [
        "IPY_MODEL_5620b86fc5514997a65e8e9e601b7c0e",
        "IPY_MODEL_f7fc9c1701b947cf98a9db7abcef0891"
       ],
       "layout": "IPY_MODEL_4f66649e155d461c93e6956405e090c4"
      }
     },
     "578764f70b9b46838a7a9ed18164d763": {
      "model_module": "@jupyter-widgets/controls",
      "model_module_version": "1.5.0",
      "model_name": "ButtonStyleModel",
      "state": {}
     },
     "579cb9f37566401f9bf646c58053e350": {
      "model_module": "@jupyter-widgets/base",
      "model_module_version": "1.2.0",
      "model_name": "LayoutModel",
      "state": {}
     },
     "588550dc16c44ab6908b6a50324ef350": {
      "model_module": "@jupyter-widgets/controls",
      "model_module_version": "1.5.0",
      "model_name": "VBoxModel",
      "state": {
       "children": [
        "IPY_MODEL_5668e1e9a67e4c4abae8104647d123f3",
        "IPY_MODEL_6cc4fafb68aa48f4b304b51d9ca5cc12"
       ],
       "layout": "IPY_MODEL_0f61ecdce92c436d9b381a9ea45d9c53"
      }
     },
     "58d54f779b014bd4a82a19b974130f3e": {
      "model_module": "@jupyter-widgets/base",
      "model_module_version": "1.2.0",
      "model_name": "LayoutModel",
      "state": {}
     },
     "591edf3704a04ca182edee4e2055222f": {
      "model_module": "@jupyter-widgets/controls",
      "model_module_version": "1.5.0",
      "model_name": "TextModel",
      "state": {
       "description": "Value",
       "layout": "IPY_MODEL_818d104460974134b8df2f6cb62d1236",
       "style": "IPY_MODEL_0c388b814c3842ea804ddb774ccbdf75",
       "value": "mUYf6Q3GXbtyjye0y3JDchbGmLk"
      }
     },
     "599f48cdb14941f59452186af3a2feb7": {
      "model_module": "@jupyter-widgets/controls",
      "model_module_version": "1.5.0",
      "model_name": "SelectModel",
      "state": {
       "_options_labels": [
        "Browshot"
       ],
       "description": "Providers",
       "index": 0,
       "layout": "IPY_MODEL_79dd479fa6cf4594812a7d1be27a7730",
       "style": "IPY_MODEL_0eecb949e6194b64adb67dd288e1fbc8"
      }
     },
     "5a4107a198ef46d3b6cc96fbe0588baf": {
      "model_module": "@jupyter-widgets/controls",
      "model_module_version": "1.5.0",
      "model_name": "ButtonStyleModel",
      "state": {}
     },
     "5a44a08764434e998c366813a61a1332": {
      "model_module": "@jupyter-widgets/controls",
      "model_module_version": "1.5.0",
      "model_name": "VBoxModel",
      "state": {
       "children": [
        "IPY_MODEL_562900761ba4434cb91d6b97014afe09",
        "IPY_MODEL_b7afc7d3b221442ebb09e3a19d3079b5",
        "IPY_MODEL_5e899a3fb51c4300bf5bc4b5245fc814"
       ],
       "layout": "IPY_MODEL_f11c6a4a0723496fac066764feb63269"
      }
     },
     "5a72ffaa48c746cab51011dfed667e78": {
      "model_module": "@jupyter-widgets/base",
      "model_module_version": "1.2.0",
      "model_name": "LayoutModel",
      "state": {}
     },
     "5b142498377b4c85a935b6867f26c127": {
      "model_module": "@jupyter-widgets/base",
      "model_module_version": "1.2.0",
      "model_name": "LayoutModel",
      "state": {
       "visibility": "visible"
      }
     },
     "5b3c0d025dd84831b91cf44edecea636": {
      "model_module": "@jupyter-widgets/base",
      "model_module_version": "1.2.0",
      "model_name": "LayoutModel",
      "state": {}
     },
     "5b4afc322fb54ea8a5099d5d84fc1532": {
      "model_module": "@jupyter-widgets/base",
      "model_module_version": "1.2.0",
      "model_name": "LayoutModel",
      "state": {
       "border": "solid gray 1px",
       "margin": "1pt",
       "padding": "5pt",
       "width": "99%"
      }
     },
     "5b66ff70e928438d86ee3bbb81956520": {
      "model_module": "@jupyter-widgets/controls",
      "model_module_version": "1.5.0",
      "model_name": "DescriptionStyleModel",
      "state": {
       "description_width": ""
      }
     },
     "5bc0cbca52e64baca900814f019df74a": {
      "model_module": "@jupyter-widgets/base",
      "model_module_version": "1.2.0",
      "model_name": "LayoutModel",
      "state": {
       "width": "64%"
      }
     },
     "5bd61b7e1bd945a9bdaf35a9c3e0e413": {
      "model_module": "@jupyter-widgets/base",
      "model_module_version": "1.2.0",
      "model_name": "LayoutModel",
      "state": {
       "width": "130px"
      }
     },
     "5ceb2ac7193b44dd8b3d0377a821ec9f": {
      "model_module": "@jupyter-widgets/base",
      "model_module_version": "1.2.0",
      "model_name": "LayoutModel",
      "state": {
       "margin": "1pt",
       "padding": "5pt",
       "width": "99%"
      }
     },
     "5d035cab7a534daf9142ebb5c6562511": {
      "model_module": "@jupyter-widgets/controls",
      "model_module_version": "1.5.0",
      "model_name": "HBoxModel",
      "state": {
       "children": [
        "IPY_MODEL_0ecfcda1182546f5a02aadefa898af94"
       ],
       "layout": "IPY_MODEL_4b474a1c04b941f6a9c0483e1f85023d"
      }
     },
     "5d81fe08423647ddad46fd3cc7135e8b": {
      "model_module": "@jupyter-widgets/controls",
      "model_module_version": "1.5.0",
      "model_name": "VBoxModel",
      "state": {
       "children": [
        "IPY_MODEL_06fba219a826440f83f01d2af799ce15",
        "IPY_MODEL_2a82fb56a4f0404eb88289794babf8e6"
       ],
       "layout": "IPY_MODEL_e9e67541952346d9baf146d1d8cc9f1f"
      }
     },
     "5e4cb3ff33c84f81acdcc880860a5e44": {
      "model_module": "@jupyter-widgets/controls",
      "model_module_version": "1.5.0",
      "model_name": "VBoxModel",
      "state": {
       "children": [
        "IPY_MODEL_447087333ae04fda9b3155daf923438e",
        "IPY_MODEL_ceab40feb3d345f08820422b322c07a8"
       ],
       "layout": "IPY_MODEL_24e36a47e66d4c858bf93a9ca836ae7d"
      }
     },
     "5e66a103a4d847bf9c0fe3786422aef0": {
      "model_module": "@jupyter-widgets/base",
      "model_module_version": "1.2.0",
      "model_name": "LayoutModel",
      "state": {}
     },
     "5e899a3fb51c4300bf5bc4b5245fc814": {
      "model_module": "@jupyter-widgets/controls",
      "model_module_version": "1.5.0",
      "model_name": "VBoxModel",
      "state": {
       "layout": "IPY_MODEL_d1dc6394e24d49ad9435f1b188fd3704"
      }
     },
     "5ed565d34c6548a580e18f8105bd6d27": {
      "model_module": "@jupyter-widgets/base",
      "model_module_version": "1.2.0",
      "model_name": "LayoutModel",
      "state": {
       "border": "solid gray 1px",
       "margin": "1pt",
       "padding": "5pt",
       "width": "99%"
      }
     },
     "5f10e752ab4b490591563b12819b1ab4": {
      "model_module": "@jupyter-widgets/controls",
      "model_module_version": "1.5.0",
      "model_name": "ButtonStyleModel",
      "state": {}
     },
     "5f21223780874ceca5dcffa212925a26": {
      "model_module": "@jupyter-widgets/controls",
      "model_module_version": "1.5.0",
      "model_name": "VBoxModel",
      "state": {
       "children": [
        "IPY_MODEL_da36f0a468c24990b136349c3f529e17",
        "IPY_MODEL_aac073a49f6244b7a8ff0996e084742c",
        "IPY_MODEL_0fc124d396b846098e6b342dd43c67a8"
       ],
       "layout": "IPY_MODEL_ed4b1876d04647ab8e71a65b2f8d810d"
      }
     },
     "5f60090864ae4894ba8bb83385b43b05": {
      "model_module": "@jupyter-widgets/controls",
      "model_module_version": "1.5.0",
      "model_name": "DescriptionStyleModel",
      "state": {
       "description_width": "initial"
      }
     },
     "5fa29fd475d44ef6b59047fd95606db0": {
      "model_module": "@jupyter-widgets/controls",
      "model_module_version": "1.5.0",
      "model_name": "CheckboxModel",
      "state": {
       "description": "Def KV Path",
       "disabled": false,
       "layout": "IPY_MODEL_a905d2aaac484540b9d002f60b6735bd",
       "style": "IPY_MODEL_6fd8bab484d048a6ad8de25a116a87d6",
       "value": false
      }
     },
     "605af0e243f245d69c830454abcfcd09": {
      "model_module": "@jupyter-widgets/controls",
      "model_module_version": "1.5.0",
      "model_name": "HBoxModel",
      "state": {
       "children": [
        "IPY_MODEL_d319081baf9548a9a523c425254ad72d",
        "IPY_MODEL_054c72d6ec2e47dd92db0adb631a2f9c",
        "IPY_MODEL_036f4deb338b4dd9afe12039cf0eefe1"
       ],
       "layout": "IPY_MODEL_53e09c50c0c949d29e20c271623152e7"
      }
     },
     "607e3d8ff77e4c43889e646a8b155853": {
      "model_module": "@jupyter-widgets/base",
      "model_module_version": "1.2.0",
      "model_name": "LayoutModel",
      "state": {
       "border": "solid gray 1px",
       "margin": "1pt",
       "padding": "5pt",
       "width": "60%"
      }
     },
     "60812db7a702484b88575204b6f36680": {
      "model_module": "@jupyter-widgets/controls",
      "model_module_version": "1.5.0",
      "model_name": "VBoxModel",
      "state": {
       "children": [
        "IPY_MODEL_34a49c45e70b4c5197f2a5835706cd71"
       ],
       "layout": "IPY_MODEL_66d41b9865744a95b126700558c1c3e5"
      }
     },
     "6104be8f3421457db004e1169aa670b2": {
      "model_module": "@jupyter-widgets/controls",
      "model_module_version": "1.5.0",
      "model_name": "HTMLModel",
      "state": {
       "layout": "IPY_MODEL_2d51644117254824b85b153695508a27",
       "style": "IPY_MODEL_2a558b7e65a640d2a6c07e2fb1f0d855",
       "value": "\n    Choose the query providers to load when you run nbinit.init_notebook().<br>\n\n    There are two classes of providers - AzureSentinel workspaces and other\n    providers.\n    In the former case you must specify a workspace to load (by default it is\n    the \"Default\" workspace).\n    Other providers typically only have a single profile so there is no analgous\n    setting<br><br>\n\n    Query providers have two optional parameters:\n    <ul>\n        <li><b>alias</b> - upon loading, msticpy will create a variable based on\n        this alias, prefixed with \"qry_\". E.g. if you set alias=\"local\" a variable\n        named \"qry_local\" is created in the Python/Jupyter namespace. You can use\n        this variable to execute queries for this provider.\n        </li>\n        <li><b>connect</b> - the default behavior is to connect/authenticate\n        this provider after loading it. Set this to False if you do not want\n        to authenticate immediately.\n        </li>\n    </ul>\n    <br><a href='https://msticpy.readthedocs.io/en/latest/getting_started/msticpyconfig.html#user-defaults' target='_blank' style='color: blue; text-decoration: underline;'>Online: User Defaults</a><br><a href='https://msticpy.readthedocs.io/en/latest/getting_started/SettingsEditor.html#autoload-query-providers' target='_blank' style='color: blue; text-decoration: underline;'>Online: Help on this tab</a>"
      }
     },
     "615509c010174513859253d6540570d0": {
      "model_module": "@jupyter-widgets/base",
      "model_module_version": "1.2.0",
      "model_name": "LayoutModel",
      "state": {}
     },
     "617309f392b549d2a3f998ca18c15ad2": {
      "model_module": "@jupyter-widgets/controls",
      "model_module_version": "1.5.0",
      "model_name": "TextModel",
      "state": {
       "description": "Filter:",
       "layout": "IPY_MODEL_e5417ababb654415aa3fba668e64cea9",
       "style": "IPY_MODEL_d3245dc79a1445d3ac6591fb8e24889d"
      }
     },
     "634d50ad4cbc4ebc9649ad70f18ce111": {
      "model_module": "@jupyter-widgets/controls",
      "model_module_version": "1.5.0",
      "model_name": "ButtonStyleModel",
      "state": {}
     },
     "63516ae80d33454c8615b27ca8ae9ad7": {
      "model_module": "@jupyter-widgets/controls",
      "model_module_version": "1.5.0",
      "model_name": "DescriptionStyleModel",
      "state": {
       "description_width": "100px"
      }
     },
     "6386f4d77ba247aba26ecc323ee33c77": {
      "model_module": "@jupyter-widgets/controls",
      "model_module_version": "1.5.0",
      "model_name": "HBoxModel",
      "state": {
       "children": [
        "IPY_MODEL_3bbbc3dda56041b2a4dfe61b817c689e",
        "IPY_MODEL_2b077a592065471aa74da321fa2cf0ae",
        "IPY_MODEL_2a82fb56a4f0404eb88289794babf8e6"
       ],
       "layout": "IPY_MODEL_f7f703aeec3940a9ac362eb021cb4219"
      }
     },
     "63973aae522042d99d4fbee8745dc26a": {
      "model_module": "@jupyter-widgets/controls",
      "model_module_version": "1.5.0",
      "model_name": "ButtonModel",
      "state": {
       "description": "Upload to KV",
       "layout": "IPY_MODEL_e21118a5648042d2b3f16c65c77f1a09",
       "style": "IPY_MODEL_2bdaa297bc0e459c9bbc8753ccee48ac"
      }
     },
     "65a5bd6f2fa84a8bb93f61699385d005": {
      "model_module": "@jupyter-widgets/controls",
      "model_module_version": "1.5.0",
      "model_name": "VBoxModel",
      "state": {
       "children": [
        "IPY_MODEL_00e8da2e1382403e8ea3803064ce670d",
        "IPY_MODEL_226953faa01c40cbb6b9a0eb70d0935f"
       ],
       "layout": "IPY_MODEL_607e3d8ff77e4c43889e646a8b155853"
      }
     },
     "65e6023dbf7d481982d621eef5904d24": {
      "model_module": "@jupyter-widgets/base",
      "model_module_version": "1.2.0",
      "model_name": "LayoutModel",
      "state": {
       "width": "80%"
      }
     },
     "6624567b465344ce9689ba2b11bfe869": {
      "model_module": "@jupyter-widgets/controls",
      "model_module_version": "1.5.0",
      "model_name": "DescriptionStyleModel",
      "state": {
       "description_width": "100px"
      }
     },
     "6632747927a04747801309bb739e911a": {
      "model_module": "@jupyter-widgets/base",
      "model_module_version": "1.2.0",
      "model_name": "LayoutModel",
      "state": {}
     },
     "6691ef6a4e59410c8de440652d4fd9e2": {
      "model_module": "@jupyter-widgets/controls",
      "model_module_version": "1.5.0",
      "model_name": "ButtonStyleModel",
      "state": {}
     },
     "66b855a1dd744755a285f9b52f531ed8": {
      "model_module": "@jupyter-widgets/base",
      "model_module_version": "1.2.0",
      "model_name": "LayoutModel",
      "state": {}
     },
     "66d41b9865744a95b126700558c1c3e5": {
      "model_module": "@jupyter-widgets/base",
      "model_module_version": "1.2.0",
      "model_name": "LayoutModel",
      "state": {
       "border": "solid gray 1px",
       "margin": "1pt",
       "padding": "5pt",
       "width": "99%"
      }
     },
     "6753739fafe7494eba9fe8e6dd6baab0": {
      "model_module": "@jupyter-widgets/controls",
      "model_module_version": "1.5.0",
      "model_name": "TextModel",
      "state": {
       "description": "DBFolder",
       "layout": "IPY_MODEL_085f8221899d40b4bb56de4739d6cfdc",
       "style": "IPY_MODEL_b2914e5c268c40729de0c9246de87660",
       "value": "~/.msticpy"
      }
     },
     "6865131b8a8b4cd08bc07da22d2887c0": {
      "model_module": "@jupyter-widgets/controls",
      "model_module_version": "1.5.0",
      "model_name": "ButtonModel",
      "state": {
       "description": "Open folder",
       "layout": "IPY_MODEL_e6751eb472ba443bbbd7f08f28e99ad4",
       "style": "IPY_MODEL_4e4f1482d21f4a57a9d9fdceaf678b65"
      }
     },
     "688c2a16b661446db03b95b56cab5e0a": {
      "model_module": "@jupyter-widgets/base",
      "model_module_version": "1.2.0",
      "model_name": "LayoutModel",
      "state": {
       "width": "75%"
      }
     },
     "69603e29d2dd41e09db579891f1cd879": {
      "model_module": "@jupyter-widgets/base",
      "model_module_version": "1.2.0",
      "model_name": "LayoutModel",
      "state": {
       "width": "130px"
      }
     },
     "69b2adee79174a16ba34e3a7617a8e6a": {
      "model_module": "@jupyter-widgets/controls",
      "model_module_version": "1.5.0",
      "model_name": "HBoxModel",
      "state": {
       "children": [
        "IPY_MODEL_ce481a46e2024aee99c8832afa939bb8",
        "IPY_MODEL_3ecfb1012d11452ab6d93282acb22e66"
       ],
       "layout": "IPY_MODEL_c366d3420fe8495f924f2c1339e2d248"
      }
     },
     "69bd2b0264ac4c6995522f8cd69d92bc": {
      "model_module": "@jupyter-widgets/base",
      "model_module_version": "1.2.0",
      "model_name": "LayoutModel",
      "state": {}
     },
     "6a6e9da45ad241bd80f92e9cf86e43be": {
      "model_module": "@jupyter-widgets/controls",
      "model_module_version": "1.5.0",
      "model_name": "DescriptionStyleModel",
      "state": {
       "description_width": ""
      }
     },
     "6b0f4ed1987b454d8866ef6c157a7233": {
      "model_module": "@jupyter-widgets/controls",
      "model_module_version": "1.5.0",
      "model_name": "ButtonModel",
      "state": {
       "description": "Delete",
       "layout": "IPY_MODEL_29ea05c1a80341bd8c177e2b02a0d892",
       "style": "IPY_MODEL_a7ec712b4e3b48b29b63897e7dcdddf6"
      }
     },
     "6b53556b3146419e92cac648fa4944c6": {
      "model_module": "@jupyter-widgets/base",
      "model_module_version": "1.2.0",
      "model_name": "LayoutModel",
      "state": {}
     },
     "6bb954674cc04e8692f8a453c5ecfe69": {
      "model_module": "@jupyter-widgets/controls",
      "model_module_version": "1.5.0",
      "model_name": "ButtonStyleModel",
      "state": {}
     },
     "6be4df2683c74b2aa30f3d4ad67dbab0": {
      "model_module": "@jupyter-widgets/base",
      "model_module_version": "1.2.0",
      "model_name": "LayoutModel",
      "state": {
       "width": "130px"
      }
     },
     "6c1df6e624f941ca99d3cd4b92f59f06": {
      "model_module": "@jupyter-widgets/controls",
      "model_module_version": "1.5.0",
      "model_name": "DescriptionStyleModel",
      "state": {
       "description_width": ""
      }
     },
     "6c88cade5bf24f9985ac10f3991a27ad": {
      "model_module": "@jupyter-widgets/controls",
      "model_module_version": "1.5.0",
      "model_name": "ButtonStyleModel",
      "state": {}
     },
     "6cc4fafb68aa48f4b304b51d9ca5cc12": {
      "model_module": "@jupyter-widgets/controls",
      "model_module_version": "1.5.0",
      "model_name": "SelectModel",
      "state": {
       "_options_labels": [
        "Azure.get_vmcomputer_for_host",
        "Azure.get_vmcomputer_for_ip",
        "Azure.list_aad_signins_for_account",
        "Azure.list_aad_signins_for_ip",
        "Azure.list_all_signins_geo",
        "Azure.list_azure_activity_for_account",
        "Azure.list_azure_activity_for_ip",
        "Azure.list_azure_activity_for_resource",
        "Azure.list_storage_ops_for_hash",
        "Azure.list_storage_ops_for_ip",
        "AzureNetwork.az_net_analytics",
        "AzureNetwork.dns_lookups_for_domain",
        "AzureNetwork.dns_lookups_for_ip",
        "AzureNetwork.dns_lookups_from_ip",
        "AzureNetwork.get_heartbeat_for_host",
        "AzureNetwork.get_heartbeat_for_ip",
        "AzureNetwork.get_host_for_ip",
        "AzureNetwork.get_ips_for_host",
        "AzureNetwork.list_azure_network_flows_by_host",
        "AzureNetwork.list_azure_network_flows_by_ip",
        "AzureSentinel.get_bookmark_by_id",
        "AzureSentinel.get_bookmark_by_name",
        "AzureSentinel.list_bookmarks",
        "AzureSentinel.list_bookmarks_for_entity",
        "AzureSentinel.list_bookmarks_for_tags",
        "Heartbeat.get_heartbeat_for_host",
        "Heartbeat.get_heartbeat_for_ip",
        "Heartbeat.get_info_by_hostname",
        "Heartbeat.get_info_by_ipaddress",
        "LinuxAudit.auditd_all",
        "LinuxSyslog.all_syslog",
        "LinuxSyslog.cron_activity",
        "LinuxSyslog.list_account_logon_failures",
        "LinuxSyslog.list_host_logon_failures",
        "LinuxSyslog.list_ip_logon_failures",
        "LinuxSyslog.list_logon_failures",
        "LinuxSyslog.list_logons_for_account",
        "LinuxSyslog.list_logons_for_host",
        "LinuxSyslog.list_logons_for_source_ip",
        "LinuxSyslog.squid_activity",
        "LinuxSyslog.sudo_activity",
        "LinuxSyslog.user_group_activity",
        "LinuxSyslog.user_logon",
        "MultiDataSource.get_timeseries_anomalies",
        "MultiDataSource.get_timeseries_data",
        "MultiDataSource.get_timeseries_decompose",
        "MultiDataSource.plot_timeseries_datawithbaseline",
        "MultiDataSource.plot_timeseries_scoreanomolies",
        "Network.get_heartbeat_for_host",
        "Network.get_heartbeat_for_ip",
        "Network.get_host_for_ip",
        "Network.get_ips_for_host",
        "Network.list_azure_network_flows_by_host",
        "Network.list_azure_network_flows_by_ip",
        "Office365.list_activity_for_account",
        "Office365.list_activity_for_ip",
        "Office365.list_activity_for_resource",
        "SecurityAlert.get_alert",
        "SecurityAlert.list_alerts",
        "SecurityAlert.list_alerts_counts",
        "SecurityAlert.list_alerts_for_ip",
        "SecurityAlert.list_related_alerts",
        "ThreatIntelligence.list_indicators",
        "ThreatIntelligence.list_indicators_by_domain",
        "ThreatIntelligence.list_indicators_by_email",
        "ThreatIntelligence.list_indicators_by_filepath",
        "ThreatIntelligence.list_indicators_by_hash",
        "ThreatIntelligence.list_indicators_by_ip",
        "ThreatIntelligence.list_indicators_by_url",
        "WindowsSecurity.get_host_logon",
        "WindowsSecurity.get_parent_process",
        "WindowsSecurity.get_process_tree",
        "WindowsSecurity.list_all_logons_by_host",
        "WindowsSecurity.list_events",
        "WindowsSecurity.list_events_by_id",
        "WindowsSecurity.list_host_events",
        "WindowsSecurity.list_host_events_by_id",
        "WindowsSecurity.list_host_logon_failures",
        "WindowsSecurity.list_host_logons",
        "WindowsSecurity.list_host_processes",
        "WindowsSecurity.list_hosts_matching_commandline",
        "WindowsSecurity.list_logon_attempts_by_account",
        "WindowsSecurity.list_logon_failures_by_account",
        "WindowsSecurity.list_logons_by_account",
        "WindowsSecurity.list_matching_processes",
        "WindowsSecurity.list_other_events",
        "WindowsSecurity.list_processes_in_session"
       ],
       "description": "Select an item",
       "index": 0,
       "layout": "IPY_MODEL_0beba7edc11a455d8af982a9ff74dab5",
       "style": "IPY_MODEL_5f60090864ae4894ba8bb83385b43b05"
      }
     },
     "6cfc4c5046d8456b917beed0eec2220f": {
      "model_module": "@jupyter-widgets/base",
      "model_module_version": "1.2.0",
      "model_name": "LayoutModel",
      "state": {
       "margin": "1pt",
       "padding": "5pt",
       "width": "75%"
      }
     },
     "6d2eb75d8dfa46ca984908dfb544cab0": {
      "model_module": "@jupyter-widgets/base",
      "model_module_version": "1.2.0",
      "model_name": "LayoutModel",
      "state": {
       "margin": "1pt",
       "padding": "5pt",
       "width": "99%"
      }
     },
     "6e1da4b1684c451c9c427e0103bfb194": {
      "model_module": "@jupyter-widgets/base",
      "model_module_version": "1.2.0",
      "model_name": "LayoutModel",
      "state": {
       "border": "solid gray 1px",
       "margin": "1pt",
       "padding": "5pt",
       "width": "100%"
      }
     },
     "6f65fa941ac04d4d9b064d7cb5d1ddd6": {
      "model_module": "@jupyter-widgets/controls",
      "model_module_version": "1.5.0",
      "model_name": "VBoxModel",
      "state": {
       "children": [
        "IPY_MODEL_9ad4db28a8df4b958d66e4676e3ebc3d",
        "IPY_MODEL_bbf9524300224448bc18747aaa2b7eb5",
        "IPY_MODEL_9fbb9815c6ff47c59e7fdbde7194350c"
       ],
       "layout": "IPY_MODEL_6d2eb75d8dfa46ca984908dfb544cab0"
      }
     },
     "6fd8bab484d048a6ad8de25a116a87d6": {
      "model_module": "@jupyter-widgets/controls",
      "model_module_version": "1.5.0",
      "model_name": "DescriptionStyleModel",
      "state": {
       "description_width": ""
      }
     },
     "70c947c2201a4c91a2d3264cd6f5c6ce": {
      "model_module": "@jupyter-widgets/controls",
      "model_module_version": "1.5.0",
      "model_name": "DescriptionStyleModel",
      "state": {
       "description_width": ""
      }
     },
     "711eae501f1e4579b425b242c0782ba4": {
      "model_module": "@jupyter-widgets/base",
      "model_module_version": "1.2.0",
      "model_name": "LayoutModel",
      "state": {}
     },
     "7145833ec53f4e36829b781303288510": {
      "model_module": "@jupyter-widgets/base",
      "model_module_version": "1.2.0",
      "model_name": "LayoutModel",
      "state": {}
     },
     "72d32ef4fdc94a6ab6039f602ac95a0c": {
      "model_module": "@jupyter-widgets/controls",
      "model_module_version": "1.5.0",
      "model_name": "ButtonModel",
      "state": {
       "description": "Show Key Vault secrets",
       "layout": "IPY_MODEL_7b7b4c8ad2b0402a8bb218b2f5808055",
       "style": "IPY_MODEL_4413dc3060ce4c908b3c7eb28ee25161"
      }
     },
     "72f8e47887ba4476a95f09ce6e7385f0": {
      "model_module": "@jupyter-widgets/controls",
      "model_module_version": "1.5.0",
      "model_name": "ButtonModel",
      "state": {
       "description": "Upload to KV",
       "layout": "IPY_MODEL_17019dc94d9b40809d4b79a8c088a65e",
       "style": "IPY_MODEL_162216390f9a44b399b6a69d169e4b86"
      }
     },
     "7394024952d34e0e9985ba9433e03023": {
      "model_module": "@jupyter-widgets/controls",
      "model_module_version": "1.5.0",
      "model_name": "ButtonModel",
      "state": {
       "description": "Add",
       "layout": "IPY_MODEL_8f8b427f0a784182af7c8a5edde30510",
       "style": "IPY_MODEL_3546a671fd8340068122ccc7397a22e5"
      }
     },
     "73e69fadf050409c9a0f6fd8213b8326": {
      "model_module": "@jupyter-widgets/controls",
      "model_module_version": "1.5.0",
      "model_name": "HBoxModel",
      "state": {
       "children": [
        "IPY_MODEL_428db09e734d4e4eabf49d139c0b6bf1",
        "IPY_MODEL_f50099047ba74307ba9578ee9e42d198"
       ],
       "layout": "IPY_MODEL_dedc2ead346347cbb083df8cd1de32ee"
      }
     },
     "75114728294a4e1ea4cdd87522275374": {
      "model_module": "@jupyter-widgets/controls",
      "model_module_version": "1.5.0",
      "model_name": "DescriptionStyleModel",
      "state": {
       "description_width": ""
      }
     },
     "7517336c5f4b450f8ebfa06df4912b82": {
      "model_module": "@jupyter-widgets/controls",
      "model_module_version": "1.5.0",
      "model_name": "DescriptionStyleModel",
      "state": {
       "description_width": "150px"
      }
     },
     "75b8cfd9448b4a0592a9d6d16192272c": {
      "model_module": "@jupyter-widgets/controls",
      "model_module_version": "1.5.0",
      "model_name": "TextModel",
      "state": {
       "description": "SubscriptionId",
       "layout": "IPY_MODEL_86ab95b1f9cf4c959bfde659e807356a",
       "style": "IPY_MODEL_f830811507d6447db7e490381cce7e28"
      }
     },
     "76acd0dfeb424941a3c93c8e5a2710df": {
      "model_module": "@jupyter-widgets/base",
      "model_module_version": "1.2.0",
      "model_name": "LayoutModel",
      "state": {
       "margin": "1pt",
       "padding": "5pt",
       "width": "40%"
      }
     },
     "772f9856beb34a1bb58c9c151ba83e70": {
      "model_module": "@jupyter-widgets/controls",
      "model_module_version": "1.5.0",
      "model_name": "SelectModel",
      "state": {
       "_options_labels": [
        "GeoIPLite",
        "IPStack"
       ],
       "description": "Providers",
       "index": 0,
       "layout": "IPY_MODEL_79dd479fa6cf4594812a7d1be27a7730",
       "style": "IPY_MODEL_ed106d6a679f4e2f959f991e7ab3ff9d"
      }
     },
     "773c602ccf2b495e9e65501001ac0d2e": {
      "model_module": "@jupyter-widgets/base",
      "model_module_version": "1.2.0",
      "model_name": "LayoutModel",
      "state": {
       "margin": "1pt",
       "padding": "5pt",
       "width": "40%"
      }
     },
     "778f8764bb4443a2af38d203df4c0315": {
      "model_module": "@jupyter-widgets/controls",
      "model_module_version": "1.5.0",
      "model_name": "DescriptionStyleModel",
      "state": {
       "description_width": "70px"
      }
     },
     "78ae98a1f8754568af61e6051c5125d2": {
      "model_module": "@jupyter-widgets/base",
      "model_module_version": "1.2.0",
      "model_name": "LayoutModel",
      "state": {}
     },
     "791d7964b16647d39259d579c172f253": {
      "model_module": "@jupyter-widgets/controls",
      "model_module_version": "1.5.0",
      "model_name": "LabelModel",
      "state": {
       "layout": "IPY_MODEL_c6a81b8aa48442d595d96dd3b3cf782e",
       "style": "IPY_MODEL_9f1218581a1043bc9be53c1b311eabdb",
       "value": "User Defaults - Auto-loaded components"
      }
     },
     "79dd479fa6cf4594812a7d1be27a7730": {
      "model_module": "@jupyter-widgets/base",
      "model_module_version": "1.2.0",
      "model_name": "LayoutModel",
      "state": {
       "height": "150px",
       "width": "300px"
      }
     },
     "7a5bd52522274593b367cedaf726b97e": {
      "model_module": "@jupyter-widgets/controls",
      "model_module_version": "1.5.0",
      "model_name": "TextModel",
      "state": {
       "description": "TenantId",
       "layout": "IPY_MODEL_86ab95b1f9cf4c959bfde659e807356a",
       "style": "IPY_MODEL_e2f08378085a4f6d9daea3156945b4ae",
       "value": "72f988bf-86f1-41af-91ab-2d7cd011db47"
      }
     },
     "7aafda07252d44c0b0f9096f3f893ebd": {
      "model_module": "@jupyter-widgets/controls",
      "model_module_version": "1.5.0",
      "model_name": "DescriptionStyleModel",
      "state": {
       "description_width": ""
      }
     },
     "7b7b4c8ad2b0402a8bb218b2f5808055": {
      "model_module": "@jupyter-widgets/base",
      "model_module_version": "1.2.0",
      "model_name": "LayoutModel",
      "state": {
       "width": "200px"
      }
     },
     "7b8c3b7351f5461ea342278aff4bc797": {
      "model_module": "@jupyter-widgets/base",
      "model_module_version": "1.2.0",
      "model_name": "LayoutModel",
      "state": {}
     },
     "7bacdaf4094947b08323791f0874ca47": {
      "model_module": "@jupyter-widgets/base",
      "model_module_version": "1.2.0",
      "model_name": "LayoutModel",
      "state": {
       "border": "solid gray 1px",
       "margin": "1pt",
       "padding": "5pt",
       "width": "99%"
      }
     },
     "7cac7692bafc400eae394a25688c9cf3": {
      "model_module": "@jupyter-widgets/base",
      "model_module_version": "1.2.0",
      "model_name": "LayoutModel",
      "state": {}
     },
     "7d0b902240a14348a312ebfe76895ef4": {
      "model_module": "@jupyter-widgets/controls",
      "model_module_version": "1.5.0",
      "model_name": "DescriptionStyleModel",
      "state": {
       "description_width": "100px"
      }
     },
     "7d19906f263b4487b261d595a21d2832": {
      "model_module": "@jupyter-widgets/controls",
      "model_module_version": "1.5.0",
      "model_name": "LabelModel",
      "state": {
       "layout": "IPY_MODEL_e8fe754b40574969886d24a59a3d07f8",
       "style": "IPY_MODEL_392cec2742474f8dada368b8284e6594",
       "value": "Settings for Data Providers"
      }
     },
     "7e19f29a752642af940821190cc88c7d": {
      "model_module": "@jupyter-widgets/base",
      "model_module_version": "1.2.0",
      "model_name": "LayoutModel",
      "state": {
       "width": "30%"
      }
     },
     "7e2246f26780492daf50604a9f7702c0": {
      "model_module": "@jupyter-widgets/controls",
      "model_module_version": "1.5.0",
      "model_name": "VBoxModel",
      "state": {
       "children": [
        "IPY_MODEL_f7703d22c3e94b538ada3c74964beddc",
        "IPY_MODEL_94146b64ea01434d9eb683d622b82cbd",
        "IPY_MODEL_4af696f1e765488ab5e94a5120034658",
        "IPY_MODEL_72d32ef4fdc94a6ab6039f602ac95a0c"
       ],
       "layout": "IPY_MODEL_aadb7e8f896a40ecb999a3434a7c2f68"
      }
     },
     "7ea4ce54fcfb4ee69d564bf66ce76c96": {
      "model_module": "@jupyter-widgets/controls",
      "model_module_version": "1.5.0",
      "model_name": "ButtonModel",
      "state": {
       "description": "Reload settings",
       "layout": "IPY_MODEL_7b7b4c8ad2b0402a8bb218b2f5808055",
       "style": "IPY_MODEL_9fdc7457884049338d4f2987fd30041e"
      }
     },
     "7f6de6001327453290fc1af9100e35f0": {
      "model_module": "@jupyter-widgets/controls",
      "model_module_version": "1.5.0",
      "model_name": "DescriptionStyleModel",
      "state": {
       "description_width": "70px"
      }
     },
     "7fff182acdbf4e87b0b8fbe5e5f784c1": {
      "model_module": "@jupyter-widgets/controls",
      "model_module_version": "1.5.0",
      "model_name": "DescriptionStyleModel",
      "state": {
       "description_width": ""
      }
     },
     "8075b1f219714b7c9060d5a9f6e85a01": {
      "model_module": "@jupyter-widgets/base",
      "model_module_version": "1.2.0",
      "model_name": "LayoutModel",
      "state": {}
     },
     "80878657fcf9461d8986c720ab94d0d5": {
      "model_module": "@jupyter-widgets/base",
      "model_module_version": "1.2.0",
      "model_name": "LayoutModel",
      "state": {}
     },
     "808fe1c470144db7951543b4a15d48e3": {
      "model_module": "@jupyter-widgets/base",
      "model_module_version": "1.2.0",
      "model_name": "LayoutModel",
      "state": {}
     },
     "818d104460974134b8df2f6cb62d1236": {
      "model_module": "@jupyter-widgets/base",
      "model_module_version": "1.2.0",
      "model_name": "LayoutModel",
      "state": {
       "width": "99%"
      }
     },
     "82a5895db0a244f8ab91b01755e356d6": {
      "model_module": "@jupyter-widgets/base",
      "model_module_version": "1.2.0",
      "model_name": "LayoutModel",
      "state": {
       "width": "64%"
      }
     },
     "8377bb14416941f991be13fe7dd9747e": {
      "model_module": "@jupyter-widgets/controls",
      "model_module_version": "1.5.0",
      "model_name": "DescriptionStyleModel",
      "state": {
       "description_width": "100px"
      }
     },
     "837cca2ad5cd4ca89f11338a1db83a42": {
      "model_module": "@jupyter-widgets/controls",
      "model_module_version": "1.5.0",
      "model_name": "DescriptionStyleModel",
      "state": {
       "description_width": ""
      }
     },
     "841202298c8149b0b4da8d5cf6380135": {
      "model_module": "@jupyter-widgets/controls",
      "model_module_version": "1.5.0",
      "model_name": "DescriptionStyleModel",
      "state": {
       "description_width": "100px"
      }
     },
     "845e943b62c644b8a53ecfacfc0d21aa": {
      "model_module": "@jupyter-widgets/base",
      "model_module_version": "1.2.0",
      "model_name": "LayoutModel",
      "state": {
       "margin": "1pt",
       "padding": "5pt",
       "width": "95%"
      }
     },
     "846cf05a2e8b46c78af904b0715e7a68": {
      "model_module": "@jupyter-widgets/controls",
      "model_module_version": "1.5.0",
      "model_name": "ButtonStyleModel",
      "state": {}
     },
     "8476bc7178f848bb8ffa9b12982babf0": {
      "model_module": "@jupyter-widgets/controls",
      "model_module_version": "1.5.0",
      "model_name": "IntRangeSliderModel",
      "state": {
       "_model_name": "IntRangeSliderModel",
       "_view_name": "IntRangeSliderView",
       "description": "Time Range",
       "layout": "IPY_MODEL_b64d8da1254f4f2a9aef8627c614bf30",
       "max": 28,
       "min": -28,
       "style": "IPY_MODEL_405265ec4eb147a3916c6a08693b9c84",
       "value": [
        -1,
        1
       ]
      }
     },
     "869bc821c2fa445bb91f830926f82654": {
      "model_module": "@jupyter-widgets/base",
      "model_module_version": "1.2.0",
      "model_name": "LayoutModel",
      "state": {}
     },
     "86ab95b1f9cf4c959bfde659e807356a": {
      "model_module": "@jupyter-widgets/base",
      "model_module_version": "1.2.0",
      "model_name": "LayoutModel",
      "state": {
       "width": "70%"
      }
     },
     "8875c688247e404fa30db2d87ac47c77": {
      "model_module": "@jupyter-widgets/base",
      "model_module_version": "1.2.0",
      "model_name": "LayoutModel",
      "state": {}
     },
     "88a0b2e06336404aaf0bfe6efece53da": {
      "model_module": "@jupyter-widgets/controls",
      "model_module_version": "1.5.0",
      "model_name": "TextModel",
      "state": {
       "description": "KeyVault",
       "layout": "IPY_MODEL_bb2833eeee674642b742a6b0f8580e39",
       "style": "IPY_MODEL_ec4b98a2cf0b4b7ab3eccac4bb685e61"
      }
     },
     "88fbab3f2d4941dba338ee555ec9a59e": {
      "model_module": "@jupyter-widgets/controls",
      "model_module_version": "1.5.0",
      "model_name": "DescriptionStyleModel",
      "state": {
       "description_width": "initial"
      }
     },
     "890d487a8ddb418babd9c86584251170": {
      "model_module": "@jupyter-widgets/controls",
      "model_module_version": "1.5.0",
      "model_name": "VBoxModel",
      "state": {
       "layout": "IPY_MODEL_b6ee1517a2984a8fb802fb26506a0447"
      }
     },
     "8c2fd94d73794abda061ddf7304b2f42": {
      "model_module": "@jupyter-widgets/controls",
      "model_module_version": "1.5.0",
      "model_name": "VBoxModel",
      "state": {
       "children": [
        "IPY_MODEL_e975325a47e84136a9050276a2ba85a7",
        "IPY_MODEL_53048119ae9349fa975f16f7ac43ffb4"
       ],
       "layout": "IPY_MODEL_483d4ebf4735430295f0d0ac39b12bc2"
      }
     },
     "8d05597388d94692b730786349aaef70": {
      "model_module": "@jupyter-widgets/controls",
      "model_module_version": "1.5.0",
      "model_name": "SelectModel",
      "state": {
       "_options_labels": [
        ".gitignore",
        "1.2.3",
        "A Getting Started Guide For Azure Sentinel ML Notebooks-bk.ipynb",
        "A Getting Started Guide For Azure Sentinel ML Notebooks.html",
        "A Getting Started Guide For Azure Sentinel ML Notebooks.ipynb",
        "A Getting Started Guide For Azure Sentinel ML Notebooks.md",
        "A Getting Started Guide For Azure Sentinel Notebooks.ipynb",
        "A Getting Started Guide For CSharp AML Notebooks.ipynb",
        "A Getting Started Guide For PowerShell AML Notebooks.ipynb",
        "A Tour of Cybersec notebook features.ipynb",
        "Apr2021Release.md",
        "april-2021-blog-article",
        "AutomatedNotebooks-IncidentTriage.ipynb",
        "AutomatedNotebooks-Manager.ipynb",
        "aznbsetup.sh",
        "Azure Sentinel Query Creator.ipynb",
        "azure-pipelines.yml",
        "Bokeh experiements.ipynb",
        "CODE_OF_CONDUCT.md",
        "config.json",
        "ConfiguringNotebookEnvironment.ipynb",
        "CONTRIBUTING.md",
        "Credential Scan on Azure Blob Storage.ipynb",
        "Credential Scan on Azure Data Explorer.ipynb",
        "Credential Scan on Azure Log Analytics.ipynb",
        "Entity Explorer - Account.ipynb",
        "Entity Explorer - Domain and URL.ipynb",
        "Entity Explorer - IP Address.ipynb",
        "Entity Explorer - Linux Host.ipynb",
        "Entity Explorer - Windows Host.ipynb",
        "Guided Hunting - Anomalous Office365 Exchange Sessions.ipynb",
        "Guided Hunting - Base64-Encoded Linux Commands.ipynb",
        "Guided Hunting - Covid-19 Themed Threats.ipynb",
        "Guided Hunting - Office365-Exploring.ipynb",
        "Guided Investigation - Anomaly Lookup.ipynb",
        "Guided Investigation - MDE Webshell Alerts.ipynb",
        "Guided Investigation - Process-Alerts.ipynb",
        "Guided Investigation - Solarwinds Post Compromise Activity.ipynb",
        "Guided Investigation - WAF data.ipynb",
        "Guided Triage - Alerts.ipynb",
        "Hands-on 1. Data Discovery using Azure REST API.ipynb",
        "Hands-on 2. Surfing Data using Azure SDK.ipynb",
        "LICENSE",
        "Machine Learning in Notebooks Examples.ipynb",
        "msticpyconfig.yaml",
        "msticpyconfig.yaml.sample",
        "Notebook Template.ipynb",
        "notebookmetadata.json",
        "PUBLISHING.md",
        "README.md",
        "requirements.txt",
        "SECURITY.md",
        "SigmaRuleImporter.ipynb",
        "TroubleShootingNotebooks.ipynb",
        "untitled.txt",
        "Untitled1.ipynb"
       ],
       "description": "Files",
       "index": 0,
       "layout": "IPY_MODEL_53cfd0d616fb4be8964f739e2d49b79e",
       "style": "IPY_MODEL_5b66ff70e928438d86ee3bbb81956520"
      }
     },
     "8e447fa18b0c462d91fef524add786e7": {
      "model_module": "@jupyter-widgets/controls",
      "model_module_version": "1.5.0",
      "model_name": "DescriptionStyleModel",
      "state": {
       "description_width": ""
      }
     },
     "8f8b427f0a784182af7c8a5edde30510": {
      "model_module": "@jupyter-widgets/base",
      "model_module_version": "1.2.0",
      "model_name": "LayoutModel",
      "state": {
       "width": "100px"
      }
     },
     "8fb336242aca4dfb86bd325b2ffcd125": {
      "model_module": "@jupyter-widgets/base",
      "model_module_version": "1.2.0",
      "model_name": "LayoutModel",
      "state": {
       "width": "100px"
      }
     },
     "8fc53618d72842d9ac36be3fdc6a0e31": {
      "model_module": "@jupyter-widgets/base",
      "model_module_version": "1.2.0",
      "model_name": "LayoutModel",
      "state": {}
     },
     "8ff69829d72747198101adf4b066c904": {
      "model_module": "@jupyter-widgets/controls",
      "model_module_version": "1.5.0",
      "model_name": "TextModel",
      "state": {
       "description": "Provider",
       "disabled": true,
       "layout": "IPY_MODEL_085f8221899d40b4bb56de4739d6cfdc",
       "style": "IPY_MODEL_abaed64bd0b646beba354d3dcd0a5b53",
       "value": "GeoLiteLookup"
      }
     },
     "90afc2e515534f8498f412d3b7d359fe": {
      "model_module": "@jupyter-widgets/base",
      "model_module_version": "1.2.0",
      "model_name": "LayoutModel",
      "state": {
       "width": "99%"
      }
     },
     "90d0fbad66284396bdf89513bc3ac8bf": {
      "model_module": "@jupyter-widgets/base",
      "model_module_version": "1.2.0",
      "model_name": "LayoutModel",
      "state": {
       "width": "99%"
      }
     },
     "919ccee7fe0c458c961185858b2537cb": {
      "model_module": "@jupyter-widgets/base",
      "model_module_version": "1.2.0",
      "model_name": "LayoutModel",
      "state": {
       "width": "35%"
      }
     },
     "91c76c7a45e0440cb4f7ee52c5753443": {
      "model_module": "@jupyter-widgets/controls",
      "model_module_version": "1.5.0",
      "model_name": "VBoxModel",
      "state": {
       "children": [
        "IPY_MODEL_352309fccf314daa87fb94756e0fe275",
        "IPY_MODEL_5d035cab7a534daf9142ebb5c6562511",
        "IPY_MODEL_f989300cafdd47f0936e3eee7317c6ff",
        "IPY_MODEL_9fbb9815c6ff47c59e7fdbde7194350c"
       ],
       "layout": "IPY_MODEL_4a240d6589cd43488ed7b3c53aecf4dd"
      }
     },
     "94146b64ea01434d9eb683d622b82cbd": {
      "model_module": "@jupyter-widgets/controls",
      "model_module_version": "1.5.0",
      "model_name": "ButtonModel",
      "state": {
       "description": "Convert to MP",
       "layout": "IPY_MODEL_7b7b4c8ad2b0402a8bb218b2f5808055",
       "style": "IPY_MODEL_6691ef6a4e59410c8de440652d4fd9e2"
      }
     },
     "94568bf837824169a2fee6b2f4901aa7": {
      "model_module": "@jupyter-widgets/controls",
      "model_module_version": "1.5.0",
      "model_name": "DescriptionStyleModel",
      "state": {
       "description_width": ""
      }
     },
     "94d7a2048ba64e609b07eed72354a72c": {
      "model_module": "@jupyter-widgets/base",
      "model_module_version": "1.2.0",
      "model_name": "LayoutModel",
      "state": {}
     },
     "94ed320ef2424f72aa9960c316a748e6": {
      "model_module": "@jupyter-widgets/base",
      "model_module_version": "1.2.0",
      "model_name": "LayoutModel",
      "state": {}
     },
     "955a6209707249789da16735a0863521": {
      "model_module": "@jupyter-widgets/controls",
      "model_module_version": "1.5.0",
      "model_name": "HBoxModel",
      "state": {
       "children": [
        "IPY_MODEL_d319081baf9548a9a523c425254ad72d",
        "IPY_MODEL_054c72d6ec2e47dd92db0adb631a2f9c"
       ],
       "layout": "IPY_MODEL_94d7a2048ba64e609b07eed72354a72c"
      }
     },
     "95a381f09917428ea1e2771fa4223bea": {
      "model_module": "@jupyter-widgets/controls",
      "model_module_version": "1.5.0",
      "model_name": "ButtonStyleModel",
      "state": {}
     },
     "95f8e975339944979a3546a2244ac5a9": {
      "model_module": "@jupyter-widgets/controls",
      "model_module_version": "1.5.0",
      "model_name": "SelectModel",
      "state": {
       "_options_labels": [
        "ASIHuntOMSWorkspaceV4",
        "CCIS",
        "Centrica",
        "CyberSecuritySoc",
        "Default",
        "RedmondSentinelDemoEnvironment",
        "NationalGrid"
       ],
       "description": "Workspaces",
       "index": 0,
       "layout": "IPY_MODEL_79dd479fa6cf4594812a7d1be27a7730",
       "style": "IPY_MODEL_a7cbcb556d0f4748bb2f520632d96ff2"
      }
     },
     "9661ac2c0e0b429fa51c843a39954c76": {
      "model_module": "@jupyter-widgets/base",
      "model_module_version": "1.2.0",
      "model_name": "LayoutModel",
      "state": {}
     },
     "96827ee3bf284d83b12d0b00da16c1fe": {
      "model_module": "@jupyter-widgets/base",
      "model_module_version": "1.2.0",
      "model_name": "LayoutModel",
      "state": {
       "visibility": "hidden"
      }
     },
     "97841b46d3e342b49ad7f7e8656e137d": {
      "model_module": "@jupyter-widgets/controls",
      "model_module_version": "1.5.0",
      "model_name": "HBoxModel",
      "state": {
       "children": [
        "IPY_MODEL_f025e03ced414d4c9379e4b5b7244213",
        "IPY_MODEL_de8f8aded747433590067d6ea94d8724"
       ],
       "layout": "IPY_MODEL_3173ade5786d42a09a33be817c3669c9"
      }
     },
     "97b397363b744b51a529ddcae6984f95": {
      "model_module": "@jupyter-widgets/base",
      "model_module_version": "1.2.0",
      "model_name": "LayoutModel",
      "state": {
       "border": "solid gray 1px",
       "margin": "1pt",
       "padding": "5pt",
       "width": "99%"
      }
     },
     "980bf4517b174fcdb85a50cd05f64831": {
      "model_module": "@jupyter-widgets/base",
      "model_module_version": "1.2.0",
      "model_name": "LayoutModel",
      "state": {}
     },
     "9831256a81dd407f851bb7cea6d7622f": {
      "model_module": "@jupyter-widgets/controls",
      "model_module_version": "1.5.0",
      "model_name": "ButtonStyleModel",
      "state": {}
     },
     "98789b00b1c344b389839502ae0a57c1": {
      "model_module": "@jupyter-widgets/controls",
      "model_module_version": "1.5.0",
      "model_name": "DescriptionStyleModel",
      "state": {
       "description_width": "100px"
      }
     },
     "98add4352eff410bb52cb54e461c5045": {
      "model_module": "@jupyter-widgets/controls",
      "model_module_version": "1.5.0",
      "model_name": "ButtonStyleModel",
      "state": {}
     },
     "990b6055bcec4cac8f7f96db79142075": {
      "model_module": "@jupyter-widgets/controls",
      "model_module_version": "1.5.0",
      "model_name": "DescriptionStyleModel",
      "state": {
       "description_width": ""
      }
     },
     "991d2846af0342cf9388ba723bc9fe80": {
      "model_module": "@jupyter-widgets/controls",
      "model_module_version": "1.5.0",
      "model_name": "CheckboxModel",
      "state": {
       "description": "Primary",
       "disabled": false,
       "layout": "IPY_MODEL_9ccfb5ae719d4a16b2321a153ed482e9",
       "style": "IPY_MODEL_1255c819b34c41b39b8251fad0908255",
       "value": true
      }
     },
     "9952bb6bde404ce58e6ae5bac1e35121": {
      "model_module": "@jupyter-widgets/base",
      "model_module_version": "1.2.0",
      "model_name": "LayoutModel",
      "state": {
       "height": "150px",
       "width": "300px"
      }
     },
     "9ac38e8dcaba4d40b8bda016621a87e4": {
      "model_module": "@jupyter-widgets/controls",
      "model_module_version": "1.5.0",
      "model_name": "VBoxModel",
      "state": {
       "children": [
        "IPY_MODEL_890d487a8ddb418babd9c86584251170"
       ],
       "layout": "IPY_MODEL_e327ce91c4274cf491f114ce864d1edb"
      }
     },
     "9ad4db28a8df4b958d66e4676e3ebc3d": {
      "model_module": "@jupyter-widgets/controls",
      "model_module_version": "1.5.0",
      "model_name": "LabelModel",
      "state": {
       "layout": "IPY_MODEL_6be4df2683c74b2aa30f3d4ad67dbab0",
       "style": "IPY_MODEL_42c1111b96f54b1aa7b39824dfbcdbb5",
       "value": "AuthKey"
      }
     },
     "9b3322c270814fbbb061f634ce8eadae": {
      "model_module": "@jupyter-widgets/controls",
      "model_module_version": "1.5.0",
      "model_name": "ButtonStyleModel",
      "state": {}
     },
     "9c0d782696ef40bfaaf6391c3e3eb58a": {
      "model_module": "@jupyter-widgets/base",
      "model_module_version": "1.2.0",
      "model_name": "LayoutModel",
      "state": {
       "width": "100px"
      }
     },
     "9cac8fa18dd34280b406e8b794e506f0": {
      "model_module": "@jupyter-widgets/controls",
      "model_module_version": "1.5.0",
      "model_name": "DescriptionStyleModel",
      "state": {
       "description_width": ""
      }
     },
     "9cc66f338e79431f84cf0d7b9d64c069": {
      "model_module": "@jupyter-widgets/controls",
      "model_module_version": "1.5.0",
      "model_name": "ButtonStyleModel",
      "state": {}
     },
     "9ccfb5ae719d4a16b2321a153ed482e9": {
      "model_module": "@jupyter-widgets/base",
      "model_module_version": "1.2.0",
      "model_name": "LayoutModel",
      "state": {
       "width": "70%"
      }
     },
     "9cf204a8e73343a8bc35f0c0c7a577db": {
      "model_module": "@jupyter-widgets/controls",
      "model_module_version": "1.5.0",
      "model_name": "VBoxModel",
      "state": {
       "children": [
        "IPY_MODEL_2f54b906483a489395c409916dc99006",
        "IPY_MODEL_e71b426c789846fba10ea4d9563a4f1f",
        "IPY_MODEL_c1c98d4752c94e289c318a36d84a22fe"
       ],
       "layout": "IPY_MODEL_d22342271c704f9f9ef3a1a6317fa30b"
      }
     },
     "9dc92735d550460082bdc1a017849e32": {
      "model_module": "@jupyter-widgets/base",
      "model_module_version": "1.2.0",
      "model_name": "LayoutModel",
      "state": {}
     },
     "9dee855ed36f4b8a9835d05fa0ed76c7": {
      "model_module": "@jupyter-widgets/base",
      "model_module_version": "1.2.0",
      "model_name": "LayoutModel",
      "state": {
       "width": "100px"
      }
     },
     "9e313b5238204a18b2e94874c258237f": {
      "model_module": "@jupyter-widgets/controls",
      "model_module_version": "1.5.0",
      "model_name": "ButtonModel",
      "state": {
       "description": "Delete",
       "layout": "IPY_MODEL_8f8b427f0a784182af7c8a5edde30510",
       "style": "IPY_MODEL_d2e4f78ef11844958b819f47ef530d8d"
      }
     },
     "9e99edea5d3d4716a0b36d3ba3543b2b": {
      "model_module": "@jupyter-widgets/controls",
      "model_module_version": "1.5.0",
      "model_name": "DescriptionStyleModel",
      "state": {
       "description_width": ""
      }
     },
     "9f1218581a1043bc9be53c1b311eabdb": {
      "model_module": "@jupyter-widgets/controls",
      "model_module_version": "1.5.0",
      "model_name": "DescriptionStyleModel",
      "state": {
       "description_width": ""
      }
     },
     "9fbb9815c6ff47c59e7fdbde7194350c": {
      "model_module": "@jupyter-widgets/controls",
      "model_module_version": "1.5.0",
      "model_name": "LabelModel",
      "state": {
       "layout": "IPY_MODEL_3cfbe9905d684d54b7812b2ec6a771db",
       "style": "IPY_MODEL_01ed7457a6344f26a85e737f9e741c18"
      }
     },
     "9fdc7457884049338d4f2987fd30041e": {
      "model_module": "@jupyter-widgets/controls",
      "model_module_version": "1.5.0",
      "model_name": "ButtonStyleModel",
      "state": {}
     },
     "9ff9a80f38b0447b8074fed0d4be267a": {
      "model_module": "@jupyter-widgets/controls",
      "model_module_version": "1.5.0",
      "model_name": "TextModel",
      "state": {
       "description": "SubscriptionId",
       "layout": "IPY_MODEL_65e6023dbf7d481982d621eef5904d24",
       "style": "IPY_MODEL_5239c5ea9491405293601c716d857b45",
       "value": "40dcc8bf-0478-4f3b-b275-ed0a94f2c013"
      }
     },
     "a0669bcd13294340ba343677d7cc1f9b": {
      "model_module": "@jupyter-widgets/controls",
      "model_module_version": "1.5.0",
      "model_name": "VBoxModel",
      "state": {
       "children": [
        "IPY_MODEL_42e51b0986df4bd9b44b978cfcf8363f",
        "IPY_MODEL_10832ba643004470be235966d2cddb8b",
        "IPY_MODEL_ad78b73d1d6c438e9ffa0bda1bb495a4",
        "IPY_MODEL_9fbb9815c6ff47c59e7fdbde7194350c"
       ],
       "layout": "IPY_MODEL_8fc53618d72842d9ac36be3fdc6a0e31"
      }
     },
     "a310ddaa58d74781b53004a5179e2a51": {
      "model_module": "@jupyter-widgets/controls",
      "model_module_version": "1.5.0",
      "model_name": "ButtonModel",
      "state": {
       "description": "Validate Settings",
       "layout": "IPY_MODEL_58d54f779b014bd4a82a19b974130f3e",
       "style": "IPY_MODEL_e9ad38c18bf44f54abcacb981810ef5b"
      }
     },
     "a3285d11589c45a9908ed408571f8742": {
      "model_module": "@jupyter-widgets/controls",
      "model_module_version": "1.5.0",
      "model_name": "ButtonModel",
      "state": {
       "description": "Load file",
       "layout": "IPY_MODEL_7b7b4c8ad2b0402a8bb218b2f5808055",
       "style": "IPY_MODEL_634d50ad4cbc4ebc9649ad70f18ce111"
      }
     },
     "a49d6967c99e433c93ea962b45a26f00": {
      "model_module": "@jupyter-widgets/base",
      "model_module_version": "1.2.0",
      "model_name": "LayoutModel",
      "state": {}
     },
     "a539c49e94074506877ecc4f4052a125": {
      "model_module": "@jupyter-widgets/base",
      "model_module_version": "1.2.0",
      "model_name": "LayoutModel",
      "state": {}
     },
     "a57d757ed6c84034a1a550597a9329b4": {
      "model_module": "@jupyter-widgets/controls",
      "model_module_version": "1.5.0",
      "model_name": "VBoxModel",
      "state": {
       "children": [
        "IPY_MODEL_a639eba434d34d418ed513da809851fb",
        "IPY_MODEL_69b2adee79174a16ba34e3a7617a8e6a",
        "IPY_MODEL_9fbb9815c6ff47c59e7fdbde7194350c"
       ],
       "layout": "IPY_MODEL_5ceb2ac7193b44dd8b3d0377a821ec9f"
      }
     },
     "a639eba434d34d418ed513da809851fb": {
      "model_module": "@jupyter-widgets/controls",
      "model_module_version": "1.5.0",
      "model_name": "LabelModel",
      "state": {
       "layout": "IPY_MODEL_69603e29d2dd41e09db579891f1cd879",
       "style": "IPY_MODEL_9e99edea5d3d4716a0b36d3ba3543b2b",
       "value": "AuthKey"
      }
     },
     "a7cbcb556d0f4748bb2f520632d96ff2": {
      "model_module": "@jupyter-widgets/controls",
      "model_module_version": "1.5.0",
      "model_name": "DescriptionStyleModel",
      "state": {
       "description_width": "70px"
      }
     },
     "a7ec712b4e3b48b29b63897e7dcdddf6": {
      "model_module": "@jupyter-widgets/controls",
      "model_module_version": "1.5.0",
      "model_name": "ButtonStyleModel",
      "state": {}
     },
     "a8147ace67334c65b1e91719bfe8cd05": {
      "model_module": "@jupyter-widgets/base",
      "model_module_version": "1.2.0",
      "model_name": "LayoutModel",
      "state": {}
     },
     "a905d2aaac484540b9d002f60b6735bd": {
      "model_module": "@jupyter-widgets/base",
      "model_module_version": "1.2.0",
      "model_name": "LayoutModel",
      "state": {
       "visibility": "hidden"
      }
     },
     "aa1af7ba2c584f5495c8641e42c4ff70": {
      "model_module": "@jupyter-widgets/controls",
      "model_module_version": "1.5.0",
      "model_name": "VBoxModel",
      "state": {
       "children": [
        "IPY_MODEL_599f48cdb14941f59452186af3a2feb7",
        "IPY_MODEL_955a6209707249789da16735a0863521",
        "IPY_MODEL_f4e2483f4bae4b31a44472245e9cc5f6"
       ],
       "layout": "IPY_MODEL_773c602ccf2b495e9e65501001ac0d2e"
      }
     },
     "aa370f7e7cc84eb89609a67cd4533676": {
      "model_module": "@jupyter-widgets/controls",
      "model_module_version": "1.5.0",
      "model_name": "DescriptionStyleModel",
      "state": {
       "description_width": ""
      }
     },
     "aac073a49f6244b7a8ff0996e084742c": {
      "model_module": "@jupyter-widgets/controls",
      "model_module_version": "1.5.0",
      "model_name": "HBoxModel",
      "state": {
       "children": [
        "IPY_MODEL_3bbbc3dda56041b2a4dfe61b817c689e",
        "IPY_MODEL_2b077a592065471aa74da321fa2cf0ae"
       ],
       "layout": "IPY_MODEL_022fb5c00d3f47719ece976e4d78eebf"
      }
     },
     "aadb7e8f896a40ecb999a3434a7c2f68": {
      "model_module": "@jupyter-widgets/base",
      "model_module_version": "1.2.0",
      "model_name": "LayoutModel",
      "state": {}
     },
     "aae2182927784c2a87443bc35f2f0844": {
      "model_module": "@jupyter-widgets/controls",
      "model_module_version": "1.5.0",
      "model_name": "DescriptionStyleModel",
      "state": {
       "description_width": "100px"
      }
     },
     "ab2e17be84004996b9244201f5602498": {
      "model_module": "@jupyter-widgets/controls",
      "model_module_version": "1.5.0",
      "model_name": "ButtonStyleModel",
      "state": {}
     },
     "ab4b8c080ae3433f9bedb7df3703cd33": {
      "model_module": "@jupyter-widgets/base",
      "model_module_version": "1.2.0",
      "model_name": "LayoutModel",
      "state": {
       "border": "solid gray 1px",
       "margin": "1pt",
       "padding": "5pt",
       "width": "98%"
      }
     },
     "aba072eafeed42b7a61bc3b2f2f94293": {
      "model_module": "@jupyter-widgets/controls",
      "model_module_version": "1.5.0",
      "model_name": "HTMLModel",
      "state": {
       "layout": "IPY_MODEL_cc71234f1c2046fd892326ffde57e3a0",
       "style": "IPY_MODEL_e47b1a9b500c4366aab38a4cbee54b03",
       "value": "\n    Choose the other components to load when you run nbinit.init_notebook().<br>\n\n    This is related to the QueryProvider auto-load section but the parameters\n    here are different.<br>\n    Available components include the following:<br>\n    (the names in parantheses are the names of the global variables used\n    when creating these components - use theses to perform any operations\n    required on the component.)\n    <ul>\n        <li>TILookup (ti_lookup) - Threat Intelligence lookups</li>\n        <li>GeoIpLookup (geoip) - Geolocation of IP address lookups\n        Note: you must specify which GeoIP Provider you wish to use.\n        </li>\n        <li>Notebooklets (nb) - Load the MSTIC notebooklets package. This must be\n        installed in your notebook environment. You must specificy a default\n        query provider for this component.\n        </li>\n        <li>Pivot (pivot) - Load Pivot functions into entities.</li>\n        <li>AzureData (az_data) - Load the AzureData component. Optionally specify\n        the authentication options you want to use.</li>\n        <li>AzureSentinelAPI (azs_api) - Load the AzureSentinel API component. Optionally\n        specify the authentication options you want to use.</li>\n    </ul>\n\n    The last two components also support a \"connect\" parameter. If this is not\n    set the default is to initiate authentication to the service as soon as\n    the component is loaded. set connect=False to prevent this.\n\n    <br><a href='https://msticpy.readthedocs.io/en/latest/getting_started/msticpyconfig.html#user-defaults' target='_blank' style='color: blue; text-decoration: underline;'>Online: User Defaults</a><br><a href='https://msticpy.readthedocs.io/en/latest/getting_started/SettingsEditor.html#autoload-component' target='_blank' style='color: blue; text-decoration: underline;'>Online: Help on this tab</a>"
      }
     },
     "abaed64bd0b646beba354d3dcd0a5b53": {
      "model_module": "@jupyter-widgets/controls",
      "model_module_version": "1.5.0",
      "model_name": "DescriptionStyleModel",
      "state": {
       "description_width": "100px"
      }
     },
     "ac22d6da52f546cc9e2a98a089b2e31c": {
      "model_module": "@jupyter-widgets/controls",
      "model_module_version": "1.5.0",
      "model_name": "LabelModel",
      "state": {
       "layout": "IPY_MODEL_2ab5c5a021c241d29a9dcdb0274e1fbf",
       "style": "IPY_MODEL_2eb3bd844a8e45dc972d45524ae1233c",
       "value": "Settings for Threat Intelligence Providers"
      }
     },
     "ac2f1af4174249ed8ab028a14cd84766": {
      "model_module": "@jupyter-widgets/controls",
      "model_module_version": "1.5.0",
      "model_name": "DropdownModel",
      "state": {
       "_options_labels": [
        "GeoIPLite",
        "IPStack"
       ],
       "description": "Add prov",
       "index": 0,
       "layout": "IPY_MODEL_69bd2b0264ac4c6995522f8cd69d92bc",
       "style": "IPY_MODEL_b08f921df6f74651a48fc71019e1f546"
      }
     },
     "ac5f470556d84ea796ae3f3994465475": {
      "model_module": "@jupyter-widgets/controls",
      "model_module_version": "1.5.0",
      "model_name": "VBoxModel",
      "state": {
       "children": [
        "IPY_MODEL_48a06f074b0d439a97664e6e9126f184",
        "IPY_MODEL_9ff9a80f38b0447b8074fed0d4be267a",
        "IPY_MODEL_125c8acd6f644644919a406baa04d08f",
        "IPY_MODEL_2d4f18fbe69c43fda813d3f26868fac1",
        "IPY_MODEL_b39c390f0f2c459c81bed6c956c08c9b",
        "IPY_MODEL_1418e8705aa84e7b939b8fc1d0688c53",
        "IPY_MODEL_ca79ff7eb69247eb9e37ad6bc5e27498"
       ],
       "layout": "IPY_MODEL_6e1da4b1684c451c9c427e0103bfb194"
      }
     },
     "ac6a17c2041646a69be2135edc0c2f2d": {
      "model_module": "@jupyter-widgets/base",
      "model_module_version": "1.2.0",
      "model_name": "LayoutModel",
      "state": {}
     },
     "acd901d3b06d4cfb891602ce165506ac": {
      "model_module": "@jupyter-widgets/base",
      "model_module_version": "1.2.0",
      "model_name": "LayoutModel",
      "state": {}
     },
     "ad78b73d1d6c438e9ffa0bda1bb495a4": {
      "model_module": "@jupyter-widgets/controls",
      "model_module_version": "1.5.0",
      "model_name": "AccordionModel",
      "state": {
       "_titles": {
        "0": "Help"
       },
       "children": [
        "IPY_MODEL_cbdbedc8322c4e8aaa94acd189be0e51"
       ],
       "layout": "IPY_MODEL_2e80bef403dd4be6a5dcfdd508d6c471",
       "selected_index": null
      }
     },
     "ae65f934704142ceb55f58d6056a43ad": {
      "model_module": "@jupyter-widgets/controls",
      "model_module_version": "1.5.0",
      "model_name": "DescriptionStyleModel",
      "state": {
       "description_width": "150px"
      }
     },
     "af540db45ade4a8f893fc899e434a4e7": {
      "model_module": "@jupyter-widgets/controls",
      "model_module_version": "1.5.0",
      "model_name": "DescriptionStyleModel",
      "state": {
       "description_width": ""
      }
     },
     "b08f921df6f74651a48fc71019e1f546": {
      "model_module": "@jupyter-widgets/controls",
      "model_module_version": "1.5.0",
      "model_name": "DescriptionStyleModel",
      "state": {
       "description_width": "70px"
      }
     },
     "b1dc57d7435e4f8f90bab26f9ecb08fe": {
      "model_module": "@jupyter-widgets/controls",
      "model_module_version": "1.5.0",
      "model_name": "HBoxModel",
      "state": {
       "children": [
        "IPY_MODEL_65a5bd6f2fa84a8bb93f61699385d005",
        "IPY_MODEL_572e21757ab44a0491505d9a38fdb97a"
       ],
       "layout": "IPY_MODEL_ef8deeded35a426b8482d2a1a93e29d2"
      }
     },
     "b2914e5c268c40729de0c9246de87660": {
      "model_module": "@jupyter-widgets/controls",
      "model_module_version": "1.5.0",
      "model_name": "DescriptionStyleModel",
      "state": {
       "description_width": "100px"
      }
     },
     "b2d66f1704ce40ed99c1900ae012dd5e": {
      "model_module": "@jupyter-widgets/base",
      "model_module_version": "1.2.0",
      "model_name": "LayoutModel",
      "state": {
       "height": "200px",
       "width": "99%"
      }
     },
     "b2ea06c8ae0e4ce6a68f48e965746b64": {
      "model_module": "@jupyter-widgets/base",
      "model_module_version": "1.2.0",
      "model_name": "LayoutModel",
      "state": {}
     },
     "b39c390f0f2c459c81bed6c956c08c9b": {
      "model_module": "@jupyter-widgets/controls",
      "model_module_version": "1.5.0",
      "model_name": "TextModel",
      "state": {
       "description": "VaultName",
       "layout": "IPY_MODEL_65e6023dbf7d481982d621eef5904d24",
       "style": "IPY_MODEL_63516ae80d33454c8615b27ca8ae9ad7",
       "value": "mstic-ianhelle"
      }
     },
     "b5a9875da4b04104ada7e56d3f50780e": {
      "model_module": "@jupyter-widgets/controls",
      "model_module_version": "1.5.0",
      "model_name": "DescriptionStyleModel",
      "state": {
       "description_width": ""
      }
     },
     "b5f83ba36bb344a78e6a4afaf5f504a1": {
      "model_module": "@jupyter-widgets/controls",
      "model_module_version": "1.5.0",
      "model_name": "ButtonStyleModel",
      "state": {}
     },
     "b6087b85dfa449b99534a09f1956dcd9": {
      "model_module": "@jupyter-widgets/controls",
      "model_module_version": "1.5.0",
      "model_name": "DescriptionStyleModel",
      "state": {
       "description_width": "150px"
      }
     },
     "b61b6d61bd154b1982b6a14a902125bb": {
      "model_module": "@jupyter-widgets/controls",
      "model_module_version": "1.5.0",
      "model_name": "DescriptionStyleModel",
      "state": {
       "description_width": "150px"
      }
     },
     "b64d8da1254f4f2a9aef8627c614bf30": {
      "model_module": "@jupyter-widgets/base",
      "model_module_version": "1.2.0",
      "model_name": "LayoutModel",
      "state": {
       "width": "70%"
      }
     },
     "b6ee1517a2984a8fb802fb26506a0447": {
      "model_module": "@jupyter-widgets/base",
      "model_module_version": "1.2.0",
      "model_name": "LayoutModel",
      "state": {
       "margin": "1pt",
       "padding": "5pt",
       "width": "95%"
      }
     },
     "b6f74eaa80684ee39155af5bc9caf4e9": {
      "model_module": "@jupyter-widgets/controls",
      "model_module_version": "1.5.0",
      "model_name": "RadioButtonsModel",
      "state": {
       "_options_labels": [
        "Text",
        "EnvironmentVar",
        "KeyVault"
       ],
       "description": "Storage:",
       "index": 2,
       "layout": "IPY_MODEL_fbdc1aad97ca4e6e8f485a4e8ced25d1",
       "style": "IPY_MODEL_f1497504afbf46699e560c232ca23cc3"
      }
     },
     "b738ba26553540528a7e1b52fa4e4d7b": {
      "model_module": "@jupyter-widgets/controls",
      "model_module_version": "1.5.0",
      "model_name": "VBoxModel",
      "state": {
       "children": [
        "IPY_MODEL_772f9856beb34a1bb58c9c151ba83e70",
        "IPY_MODEL_c37e7c6c424949f7a0184c0173903ad7",
        "IPY_MODEL_ac2f1af4174249ed8ab028a14cd84766"
       ],
       "layout": "IPY_MODEL_11f9570185014df8ad84a6a926accf8d"
      }
     },
     "b7afc7d3b221442ebb09e3a19d3079b5": {
      "model_module": "@jupyter-widgets/controls",
      "model_module_version": "1.5.0",
      "model_name": "HBoxModel",
      "state": {
       "children": [
        "IPY_MODEL_3f2bfa95f81244ef9078dc72b54e7a0a",
        "IPY_MODEL_a310ddaa58d74781b53004a5179e2a51"
       ],
       "layout": "IPY_MODEL_0e0aa3e8c6ed419491cb39377c5e8eac"
      }
     },
     "b89a6974044649cca059d4109f440124": {
      "model_module": "@jupyter-widgets/base",
      "model_module_version": "1.2.0",
      "model_name": "LayoutModel",
      "state": {}
     },
     "ba33aa6910ae46ff853afb534cf43e62": {
      "model_module": "@jupyter-widgets/controls",
      "model_module_version": "1.5.0",
      "model_name": "LabelModel",
      "state": {
       "layout": "IPY_MODEL_7145833ec53f4e36829b781303288510",
       "style": "IPY_MODEL_94568bf837824169a2fee6b2f4901aa7",
       "value": "Search for file in current path"
      }
     },
     "ba5cb18e1e8c4a4c818a662203b67f0d": {
      "model_module": "@jupyter-widgets/controls",
      "model_module_version": "1.5.0",
      "model_name": "VBoxModel",
      "state": {
       "children": [
        "IPY_MODEL_c7dbfdbffe2d4d52bceaeb77713ed9ed",
        "IPY_MODEL_b1dc57d7435e4f8f90bab26f9ecb08fe",
        "IPY_MODEL_5e899a3fb51c4300bf5bc4b5245fc814"
       ],
       "layout": "IPY_MODEL_5ed565d34c6548a580e18f8105bd6d27"
      }
     },
     "ba6c930e26f0416d8913e34fb21ba9e2": {
      "model_module": "@jupyter-widgets/controls",
      "model_module_version": "1.5.0",
      "model_name": "LabelModel",
      "state": {
       "layout": "IPY_MODEL_579cb9f37566401f9bf646c58053e350",
       "style": "IPY_MODEL_fcbd5cea42b34a5da34ff9f094b3b3c4",
       "value": "User Defaults - Auto-loaded query providers"
      }
     },
     "bb153081726544008c0bea588c397305": {
      "model_module": "@jupyter-widgets/controls",
      "model_module_version": "1.5.0",
      "model_name": "DescriptionStyleModel",
      "state": {
       "description_width": ""
      }
     },
     "bb2833eeee674642b742a6b0f8580e39": {
      "model_module": "@jupyter-widgets/base",
      "model_module_version": "1.2.0",
      "model_name": "LayoutModel",
      "state": {
       "width": "99%"
      }
     },
     "bba1c9c9d1794dc3989fd2627cf33be4": {
      "model_module": "@jupyter-widgets/controls",
      "model_module_version": "1.5.0",
      "model_name": "DescriptionStyleModel",
      "state": {
       "description_width": "70px"
      }
     },
     "bbf9524300224448bc18747aaa2b7eb5": {
      "model_module": "@jupyter-widgets/controls",
      "model_module_version": "1.5.0",
      "model_name": "HBoxModel",
      "state": {
       "children": [
        "IPY_MODEL_b6f74eaa80684ee39155af5bc9caf4e9",
        "IPY_MODEL_f4ceb11cdf6c497db31b7172e86eda80"
       ],
       "layout": "IPY_MODEL_426c92001e524f82b7b2ba90f5f8df07"
      }
     },
     "bc278df39a224557bb6c2e45ecf52481": {
      "model_module": "@jupyter-widgets/controls",
      "model_module_version": "1.5.0",
      "model_name": "DatePickerModel",
      "state": {
       "description": "Origin Date",
       "disabled": false,
       "layout": "IPY_MODEL_0ce8f552604647bc8af7e2164f6caac7",
       "style": "IPY_MODEL_837cca2ad5cd4ca89f11338a1db83a42",
       "value": {
        "date": 22,
        "month": 6,
        "year": 2021
       }
      }
     },
     "bcee2155d5414da0bdbc5f31205d769c": {
      "model_module": "@jupyter-widgets/controls",
      "model_module_version": "1.5.0",
      "model_name": "AccordionModel",
      "state": {
       "_titles": {
        "0": "Help"
       },
       "children": [
        "IPY_MODEL_e1cd2157f22e42c5bd63daeedf5a86f1"
       ],
       "layout": "IPY_MODEL_d123404d22a545bca78a3424bebc1a75",
       "selected_index": null
      }
     },
     "bd69b0e6a1b146338a7743da0d68a5d4": {
      "model_module": "@jupyter-widgets/controls",
      "model_module_version": "1.5.0",
      "model_name": "VBoxModel",
      "state": {
       "children": [
        "IPY_MODEL_6f65fa941ac04d4d9b064d7cb5d1ddd6",
        "IPY_MODEL_991d2846af0342cf9388ba723bc9fe80",
        "IPY_MODEL_48b803d1c866496cb1f5964bc1487a88"
       ],
       "layout": "IPY_MODEL_a8147ace67334c65b1e91719bfe8cd05"
      }
     },
     "bdd8c33605fb468c9f747763d5c957d6": {
      "model_module": "@jupyter-widgets/controls",
      "model_module_version": "1.5.0",
      "model_name": "ButtonStyleModel",
      "state": {}
     },
     "be87e9779a0d43cf88f53545dc2c195f": {
      "model_module": "@jupyter-widgets/controls",
      "model_module_version": "1.5.0",
      "model_name": "HBoxModel",
      "state": {
       "children": [
        "IPY_MODEL_9cf204a8e73343a8bc35f0c0c7a577db",
        "IPY_MODEL_0b154ad9e4864160b40bd2cbb690714a"
       ],
       "layout": "IPY_MODEL_133480f664c9466f9b35849df9705fb8"
      }
     },
     "be98c949f47d4ea89bbbfd5275cd2bee": {
      "model_module": "@jupyter-widgets/controls",
      "model_module_version": "1.5.0",
      "model_name": "LabelModel",
      "state": {
       "layout": "IPY_MODEL_5bd61b7e1bd945a9bdaf35a9c3e0e413",
       "style": "IPY_MODEL_70c947c2201a4c91a2d3264cd6f5c6ce",
       "value": "AuthKey"
      }
     },
     "bf2b715ccfac41d196b33ea509ced912": {
      "model_module": "@jupyter-widgets/base",
      "model_module_version": "1.2.0",
      "model_name": "LayoutModel",
      "state": {}
     },
     "c0e4f65bf1b44511b63cfb0770f1e0ce": {
      "model_module": "@jupyter-widgets/controls",
      "model_module_version": "1.5.0",
      "model_name": "DescriptionStyleModel",
      "state": {
       "description_width": "100px"
      }
     },
     "c1914671099d4b4db02998f630be996e": {
      "model_module": "@jupyter-widgets/controls",
      "model_module_version": "1.5.0",
      "model_name": "HBoxModel",
      "state": {
       "children": [
        "IPY_MODEL_d04376b4038a4b2a9c57c17b86e48874",
        "IPY_MODEL_8d05597388d94692b730786349aaef70"
       ],
       "layout": "IPY_MODEL_ab4b8c080ae3433f9bedb7df3703cd33"
      }
     },
     "c1c98d4752c94e289c318a36d84a22fe": {
      "model_module": "@jupyter-widgets/controls",
      "model_module_version": "1.5.0",
      "model_name": "DropdownModel",
      "state": {
       "_options_labels": [
        "AzureSentinel.ASIHuntOMSWorkspaceV4",
        "AzureSentinel.CCIS",
        "AzureSentinel.Centrica",
        "AzureSentinel.CyberSecuritySoc",
        "AzureSentinel.Default",
        "AzureSentinel.RedmondSentinelDemoEnvironment",
        "AzureSentinel.NationalGrid",
        "MDE",
        "LocalData",
        "Mordor",
        "Splunk",
        "SecurityGraph",
        "ResourceGraph",
        "AzureSecurityCenter",
        "Sumologic"
       ],
       "description": "Add item",
       "index": null,
       "layout": "IPY_MODEL_a539c49e94074506877ecc4f4052a125",
       "style": "IPY_MODEL_e160d3d434df4cba86cd3882090bfd7d"
      }
     },
     "c2f25366ac094e189662c28e83283b31": {
      "model_module": "@jupyter-widgets/controls",
      "model_module_version": "1.5.0",
      "model_name": "VBoxModel",
      "state": {
       "children": [
        "IPY_MODEL_4179591874d646348b159472e8ac0f54",
        "IPY_MODEL_e08a428c617a4886a53b700d58f16a5e",
        "IPY_MODEL_0517b739ae8149688f43581089816ae7"
       ],
       "layout": "IPY_MODEL_5e66a103a4d847bf9c0fe3786422aef0"
      }
     },
     "c366d3420fe8495f924f2c1339e2d248": {
      "model_module": "@jupyter-widgets/base",
      "model_module_version": "1.2.0",
      "model_name": "LayoutModel",
      "state": {}
     },
     "c37e7c6c424949f7a0184c0173903ad7": {
      "model_module": "@jupyter-widgets/controls",
      "model_module_version": "1.5.0",
      "model_name": "HBoxModel",
      "state": {
       "children": [
        "IPY_MODEL_7394024952d34e0e9985ba9433e03023",
        "IPY_MODEL_9e313b5238204a18b2e94874c258237f"
       ],
       "layout": "IPY_MODEL_241c7ba3093f409e99291b57dd94a448"
      }
     },
     "c49f285b7da8460e96dd7d0922da49f9": {
      "model_module": "@jupyter-widgets/controls",
      "model_module_version": "1.5.0",
      "model_name": "DescriptionStyleModel",
      "state": {
       "description_width": ""
      }
     },
     "c59be15918dd4010a976868af60efa54": {
      "model_module": "@jupyter-widgets/controls",
      "model_module_version": "1.5.0",
      "model_name": "HBoxModel",
      "state": {
       "children": [
        "IPY_MODEL_f18199c71f964ab6ad57f9a607d1684f",
        "IPY_MODEL_e4508fdae12a48cb9c1ed23d292a7de0",
        "IPY_MODEL_ceab40feb3d345f08820422b322c07a8"
       ],
       "layout": "IPY_MODEL_483c28e16d9e405db53a780e715f2d92"
      }
     },
     "c5d38e945c3e44aca622192b002d7751": {
      "model_module": "@jupyter-widgets/controls",
      "model_module_version": "1.5.0",
      "model_name": "DescriptionStyleModel",
      "state": {
       "description_width": ""
      }
     },
     "c6a81b8aa48442d595d96dd3b3cf782e": {
      "model_module": "@jupyter-widgets/base",
      "model_module_version": "1.2.0",
      "model_name": "LayoutModel",
      "state": {}
     },
     "c7d0ffd6f89f454699052cdf11d74743": {
      "model_module": "@jupyter-widgets/controls",
      "model_module_version": "1.5.0",
      "model_name": "VBoxModel",
      "state": {
       "children": [
        "IPY_MODEL_ba6c930e26f0416d8913e34fb21ba9e2",
        "IPY_MODEL_be87e9779a0d43cf88f53545dc2c195f",
        "IPY_MODEL_2fef187c73f2437182172471f7cb930b",
        "IPY_MODEL_9fbb9815c6ff47c59e7fdbde7194350c"
       ],
       "layout": "IPY_MODEL_fc61cf43a289481d96701ec51b22e5fd"
      }
     },
     "c7dbfdbffe2d4d52bceaeb77713ed9ed": {
      "model_module": "@jupyter-widgets/controls",
      "model_module_version": "1.5.0",
      "model_name": "HTMLModel",
      "state": {
       "layout": "IPY_MODEL_f03b3c04d45d4b779a460b7dedbb0fee",
       "style": "IPY_MODEL_7fff182acdbf4e87b0b8fbe5e5f784c1",
       "value": "<h3>MSTICPy settings</h3>"
      }
     },
     "c8078960801c4265912c12b8866589f9": {
      "model_module": "@jupyter-widgets/base",
      "model_module_version": "1.2.0",
      "model_name": "LayoutModel",
      "state": {
       "margin": "1pt",
       "padding": "5pt",
       "width": "100%"
      }
     },
     "c90b3a9c8a43459ea91ddd7b8a8ebe94": {
      "model_module": "@jupyter-widgets/base",
      "model_module_version": "1.2.0",
      "model_name": "LayoutModel",
      "state": {}
     },
     "c9df6ae7fe88408082972c6342f75b26": {
      "model_module": "@jupyter-widgets/controls",
      "model_module_version": "1.5.0",
      "model_name": "TextModel",
      "state": {
       "description": "WorkspaceId",
       "layout": "IPY_MODEL_86ab95b1f9cf4c959bfde659e807356a",
       "style": "IPY_MODEL_ae65f934704142ceb55f58d6056a43ad",
       "value": "52b1ab41-869e-4138-9e40-2a4457f09bf0"
      }
     },
     "ca33d5ad201049e2bec79ec24a52b202": {
      "model_module": "@jupyter-widgets/controls",
      "model_module_version": "1.5.0",
      "model_name": "DescriptionStyleModel",
      "state": {
       "description_width": "100px"
      }
     },
     "ca79ff7eb69247eb9e37ad6bc5e27498": {
      "model_module": "@jupyter-widgets/controls",
      "model_module_version": "1.5.0",
      "model_name": "SelectModel",
      "state": {
       "_options_labels": [
        "global",
        "usgov",
        "de",
        "chi"
       ],
       "description": "Authority",
       "index": 0,
       "layout": "IPY_MODEL_65e6023dbf7d481982d621eef5904d24",
       "style": "IPY_MODEL_ca33d5ad201049e2bec79ec24a52b202"
      }
     },
     "cb3eab2df65540c7b53cf256440e6bca": {
      "model_module": "@jupyter-widgets/controls",
      "model_module_version": "1.5.0",
      "model_name": "VBoxModel",
      "state": {
       "children": [
        "IPY_MODEL_617309f392b549d2a3f998ca18c15ad2",
        "IPY_MODEL_4f1f7870da89453c85f1aa912067f2ba"
       ],
       "layout": "IPY_MODEL_615509c010174513859253d6540570d0"
      }
     },
     "cb65c31322c147d2818a2355be2722f6": {
      "model_module": "@jupyter-widgets/controls",
      "model_module_version": "1.5.0",
      "model_name": "VBoxModel",
      "state": {
       "children": [
        "IPY_MODEL_7d19906f263b4487b261d595a21d2832",
        "IPY_MODEL_f3ba5cec71fe4504992d833abac5da83",
        "IPY_MODEL_bcee2155d5414da0bdbc5f31205d769c",
        "IPY_MODEL_9fbb9815c6ff47c59e7fdbde7194350c"
       ],
       "layout": "IPY_MODEL_491e2411e0714d14b8b0ff4694be6726"
      }
     },
     "cbd93b0d20a54ee58ad861728143b130": {
      "model_module": "@jupyter-widgets/base",
      "model_module_version": "1.2.0",
      "model_name": "LayoutModel",
      "state": {}
     },
     "cbdbedc8322c4e8aaa94acd189be0e51": {
      "model_module": "@jupyter-widgets/controls",
      "model_module_version": "1.5.0",
      "model_name": "HTMLModel",
      "state": {
       "layout": "IPY_MODEL_6632747927a04747801309bb739e911a",
       "style": "IPY_MODEL_c49f285b7da8460e96dd7d0922da49f9",
       "value": "\nSelect a provider to edit its settings.<br>\nTo add a new provider, select the name from the \"Add prov\" drop-down and click \"Add\"<br>\n\nThe Storage option tells the settings module to look for the\nvalue in one of three places:\n<ul>\n    <li>Text - this is the usual way to store values that are not sensitive</li>\n    <li>Environment Var - Type the name of variable in the text box</li>\n    <li>Key Vault - use this for sensitive data like passwords and API keys<br>\n    The KeyVault value here can be left empty (the secret name is generated\n    from the settings path), can contain a secret name or can contain a\n    path {vaultname}/{secretname}\n    </li>\n</ul>\n\n<b>Note:</b> Storing values in KeyVault requires some work on your part<br>\nYou must do the following:\n<ol>\n    <li>Create the Key Vault</li>\n    <li>Add the settings for the Vault in the KeyVault section of the configuration</li>\n    <li>Add the values that you want to use to the Vault</li>\n</ol>\nThe Key Vault Configuration link below describes this setup and how you can\nconfigure your Key Vault settings and transfer secrets settings from your\nconfiguration file to a vault.\n<br><a href='https://msticpy.readthedocs.io/en/latest/data_acquisition/GeoIPLookups.html' target='_blank' style='color: blue; text-decoration: underline;'>Online: GeoIP Providers</a><br><a href='https://msticpy.readthedocs.io/en/latest/getting_started/msticpyconfig.html#specifying-secrets-as-key-vault-secrets' target='_blank' style='color: blue; text-decoration: underline;'>Online: Key Vault Configuration</a><br><a href='https://msticpy.readthedocs.io/en/latest/getting_started/msticpyconfig.html' target='_blank' style='color: blue; text-decoration: underline;'>Online: MSTICPy Configuration</a><br><a href='https://msticpy.readthedocs.io/en/latest/getting_started/SettingsEditor.html#adding-threat-intelligence-ti-providers' target='_blank' style='color: blue; text-decoration: underline;'>Online: Help on this tab</a>"
      }
     },
     "cc1b01ba626b48aea851d5b2e6c1acdc": {
      "model_module": "@jupyter-widgets/controls",
      "model_module_version": "1.5.0",
      "model_name": "SelectModel",
      "state": {
       "_options_labels": [
        "..",
        ".git",
        ".github",
        ".ipynb_checkpoints",
        ".mypy_cache",
        ".pytest_cache",
        ".vscode",
        "Automated-Notebooks",
        "BehaviorAnalytics",
        "Commit-save",
        "DeprecatedNotebooks",
        "HowTos",
        "Kqlmagic_temp_files",
        "Nblt-updates",
        "PasswordSpray",
        "Sample-Notebooks",
        "SentinelUtilities",
        "Snippets",
        "Test",
        "asn_data",
        "data",
        "images",
        "kqlmagic",
        "mp100_tests",
        "nbdemo",
        "utils"
       ],
       "description": "Folders",
       "index": 0,
       "layout": "IPY_MODEL_e37f170d85714266816636b638e4132f",
       "style": "IPY_MODEL_3181ffa9aac146c2a76015f8a263131f"
      }
     },
     "cc71234f1c2046fd892326ffde57e3a0": {
      "model_module": "@jupyter-widgets/base",
      "model_module_version": "1.2.0",
      "model_name": "LayoutModel",
      "state": {}
     },
     "cd25343dd7a440748b3eaf029e3f70e6": {
      "model_module": "@jupyter-widgets/controls",
      "model_module_version": "1.5.0",
      "model_name": "DescriptionStyleModel",
      "state": {
       "description_width": "100px"
      }
     },
     "ce481a46e2024aee99c8832afa939bb8": {
      "model_module": "@jupyter-widgets/controls",
      "model_module_version": "1.5.0",
      "model_name": "RadioButtonsModel",
      "state": {
       "_options_labels": [
        "Text",
        "EnvironmentVar",
        "KeyVault"
       ],
       "description": "Storage:",
       "index": 0,
       "layout": "IPY_MODEL_919ccee7fe0c458c961185858b2537cb",
       "style": "IPY_MODEL_8377bb14416941f991be13fe7dd9747e"
      }
     },
     "ceab40feb3d345f08820422b322c07a8": {
      "model_module": "@jupyter-widgets/controls",
      "model_module_version": "1.5.0",
      "model_name": "ButtonModel",
      "state": {
       "description": "Update",
       "layout": "IPY_MODEL_fb78566b0d684e2f9b81846da1ca62fc",
       "style": "IPY_MODEL_6bb954674cc04e8692f8a453c5ecfe69"
      }
     },
     "ceb66aa68cbf4606992c75047f2d33d1": {
      "model_module": "@jupyter-widgets/controls",
      "model_module_version": "1.5.0",
      "model_name": "DescriptionStyleModel",
      "state": {
       "description_width": ""
      }
     },
     "ced831e367c34ec4a360ddd99c397a6b": {
      "model_module": "@jupyter-widgets/controls",
      "model_module_version": "1.5.0",
      "model_name": "ButtonStyleModel",
      "state": {}
     },
     "d0239354ed1b49b99b02e293c44b5728": {
      "model_module": "@jupyter-widgets/base",
      "model_module_version": "1.2.0",
      "model_name": "LayoutModel",
      "state": {}
     },
     "d04376b4038a4b2a9c57c17b86e48874": {
      "model_module": "@jupyter-widgets/controls",
      "model_module_version": "1.5.0",
      "model_name": "VBoxModel",
      "state": {
       "children": [
        "IPY_MODEL_cc1b01ba626b48aea851d5b2e6c1acdc",
        "IPY_MODEL_6865131b8a8b4cd08bc07da22d2887c0"
       ],
       "layout": "IPY_MODEL_7e19f29a752642af940821190cc88c7d"
      }
     },
     "d123404d22a545bca78a3424bebc1a75": {
      "model_module": "@jupyter-widgets/base",
      "model_module_version": "1.2.0",
      "model_name": "LayoutModel",
      "state": {}
     },
     "d1a88fa23222444cb5233517639b6d12": {
      "model_module": "@jupyter-widgets/controls",
      "model_module_version": "1.5.0",
      "model_name": "DescriptionStyleModel",
      "state": {
       "description_width": ""
      }
     },
     "d1dc6394e24d49ad9435f1b188fd3704": {
      "model_module": "@jupyter-widgets/base",
      "model_module_version": "1.2.0",
      "model_name": "LayoutModel",
      "state": {}
     },
     "d2132d6326ee43acab0faca5436a5404": {
      "model_module": "@jupyter-widgets/controls",
      "model_module_version": "1.5.0",
      "model_name": "AccordionModel",
      "state": {
       "_titles": {
        "0": "Help"
       },
       "children": [
        "IPY_MODEL_aba072eafeed42b7a61bc3b2f2f94293"
       ],
       "layout": "IPY_MODEL_869bc821c2fa445bb91f830926f82654",
       "selected_index": null
      }
     },
     "d22342271c704f9f9ef3a1a6317fa30b": {
      "model_module": "@jupyter-widgets/base",
      "model_module_version": "1.2.0",
      "model_name": "LayoutModel",
      "state": {
       "margin": "1pt",
       "padding": "5pt",
       "width": "40%"
      }
     },
     "d2e4f78ef11844958b819f47ef530d8d": {
      "model_module": "@jupyter-widgets/controls",
      "model_module_version": "1.5.0",
      "model_name": "ButtonStyleModel",
      "state": {}
     },
     "d319081baf9548a9a523c425254ad72d": {
      "model_module": "@jupyter-widgets/controls",
      "model_module_version": "1.5.0",
      "model_name": "ButtonModel",
      "state": {
       "description": "Add",
       "layout": "IPY_MODEL_9dee855ed36f4b8a9835d05fa0ed76c7",
       "style": "IPY_MODEL_6c88cade5bf24f9985ac10f3991a27ad"
      }
     },
     "d3245dc79a1445d3ac6591fb8e24889d": {
      "model_module": "@jupyter-widgets/controls",
      "model_module_version": "1.5.0",
      "model_name": "DescriptionStyleModel",
      "state": {
       "description_width": "initial"
      }
     },
     "d3efff0105be43caacacaa5611bfa710": {
      "model_module": "@jupyter-widgets/controls",
      "model_module_version": "1.5.0",
      "model_name": "VBoxModel",
      "state": {
       "children": [
        "IPY_MODEL_e7594ac203984d8b968694c0f991c7d8",
        "IPY_MODEL_eafb825cc39440cfaf5ad379cc3eff39"
       ],
       "layout": "IPY_MODEL_4752b620f7c445eea2591e5cff85e0f0"
      }
     },
     "d4380646b8a845c99e3a8b684cf835de": {
      "model_module": "@jupyter-widgets/base",
      "model_module_version": "1.2.0",
      "model_name": "LayoutModel",
      "state": {}
     },
     "d5c0792d7e1e4a3cba5c67b7a322ba50": {
      "model_module": "@jupyter-widgets/base",
      "model_module_version": "1.2.0",
      "model_name": "LayoutModel",
      "state": {}
     },
     "d5eb20736f09442e8593546d98a02c01": {
      "model_module": "@jupyter-widgets/base",
      "model_module_version": "1.2.0",
      "model_name": "LayoutModel",
      "state": {}
     },
     "d6f449e2d19c4cf1934a0215c82c8e97": {
      "model_module": "@jupyter-widgets/base",
      "model_module_version": "1.2.0",
      "model_name": "LayoutModel",
      "state": {}
     },
     "d767526e3fd64c71af7772368973293b": {
      "model_module": "@jupyter-widgets/base",
      "model_module_version": "1.2.0",
      "model_name": "LayoutModel",
      "state": {
       "height": "200px",
       "width": "99%"
      }
     },
     "d9032fef2c754a17a7d52966695c9b65": {
      "model_module": "@jupyter-widgets/controls",
      "model_module_version": "1.5.0",
      "model_name": "VBoxModel",
      "state": {
       "children": [
        "IPY_MODEL_791d7964b16647d39259d579c172f253",
        "IPY_MODEL_e53cd0521eb54858be8c666088a94eaf",
        "IPY_MODEL_d2132d6326ee43acab0faca5436a5404",
        "IPY_MODEL_9fbb9815c6ff47c59e7fdbde7194350c"
       ],
       "layout": "IPY_MODEL_6b53556b3146419e92cac648fa4944c6"
      }
     },
     "d984d03bb9a34c8db0de26ee2b080908": {
      "model_module": "@jupyter-widgets/base",
      "model_module_version": "1.2.0",
      "model_name": "LayoutModel",
      "state": {}
     },
     "da00cc9ed9244bf686b55ea364096a56": {
      "model_module": "@jupyter-widgets/base",
      "model_module_version": "1.2.0",
      "model_name": "LayoutModel",
      "state": {
       "height": "200px",
       "width": "99%"
      }
     },
     "da36f0a468c24990b136349c3f529e17": {
      "model_module": "@jupyter-widgets/controls",
      "model_module_version": "1.5.0",
      "model_name": "SelectModel",
      "state": {
       "description": "Providers",
       "index": null,
       "layout": "IPY_MODEL_79dd479fa6cf4594812a7d1be27a7730",
       "style": "IPY_MODEL_4ed6ef45b7be49859b52e5797961c375"
      }
     },
     "dae98a4d4018423ca3730f764e85451a": {
      "model_module": "@jupyter-widgets/controls",
      "model_module_version": "1.5.0",
      "model_name": "VBoxModel",
      "state": {
       "children": [
        "IPY_MODEL_8c2fd94d73794abda061ddf7304b2f42",
        "IPY_MODEL_52500f362c4e417a900819f710a4a52d"
       ],
       "layout": "IPY_MODEL_2248ad757af345359eaaad2e2da05db6"
      }
     },
     "dc94535b4f05498e915a0c401f37cdc7": {
      "model_module": "@jupyter-widgets/controls",
      "model_module_version": "1.5.0",
      "model_name": "CheckboxModel",
      "state": {
       "description": "Def KV Path",
       "disabled": false,
       "layout": "IPY_MODEL_4c83ec77c06d4bf4b348c672a088b1dd",
       "style": "IPY_MODEL_3bd7066964bc4f81bd766fe1a524b115",
       "value": true
      }
     },
     "dd0ea08c883e4a3bab97bb96128a3662": {
      "model_module": "@jupyter-widgets/base",
      "model_module_version": "1.2.0",
      "model_name": "LayoutModel",
      "state": {}
     },
     "dd201dac2745412b9ddef707a5df29db": {
      "model_module": "@jupyter-widgets/controls",
      "model_module_version": "1.5.0",
      "model_name": "DescriptionStyleModel",
      "state": {
       "description_width": ""
      }
     },
     "de3c631a5da54f67a19cce5b3f541601": {
      "model_module": "@jupyter-widgets/base",
      "model_module_version": "1.2.0",
      "model_name": "LayoutModel",
      "state": {}
     },
     "de8f8aded747433590067d6ea94d8724": {
      "model_module": "@jupyter-widgets/controls",
      "model_module_version": "1.5.0",
      "model_name": "VBoxModel",
      "state": {
       "children": [
        "IPY_MODEL_35462a3e566442f7bfe707826d197572",
        "IPY_MODEL_15e1fc39073c4d32b532dac6706468b6",
        "IPY_MODEL_63973aae522042d99d4fbee8745dc26a"
       ],
       "layout": "IPY_MODEL_5bc0cbca52e64baca900814f019df74a"
      }
     },
     "dedc2ead346347cbb083df8cd1de32ee": {
      "model_module": "@jupyter-widgets/base",
      "model_module_version": "1.2.0",
      "model_name": "LayoutModel",
      "state": {}
     },
     "df9de2bd04524be7a6dd075775005b56": {
      "model_module": "@jupyter-widgets/base",
      "model_module_version": "1.2.0",
      "model_name": "LayoutModel",
      "state": {
       "width": "95%"
      }
     },
     "e057127d904e4859a5dcf32f2c9625a3": {
      "model_module": "@jupyter-widgets/base",
      "model_module_version": "1.2.0",
      "model_name": "LayoutModel",
      "state": {
       "border": "solid gray 1px",
       "margin": "1pt",
       "padding": "5pt",
       "width": "98%"
      }
     },
     "e08a428c617a4886a53b700d58f16a5e": {
      "model_module": "@jupyter-widgets/controls",
      "model_module_version": "1.5.0",
      "model_name": "TextModel",
      "state": {
       "description": "Query start time (UTC):",
       "layout": "IPY_MODEL_e736778606aa488cbd3b6b7f876f837a",
       "style": "IPY_MODEL_ef38ab151c034225b3a17897204875a2",
       "value": "2021-07-21 22:52:53.174685"
      }
     },
     "e0a9616a88044e8ea8f90d95994f4f14": {
      "model_module": "@jupyter-widgets/base",
      "model_module_version": "1.2.0",
      "model_name": "LayoutModel",
      "state": {}
     },
     "e160d3d434df4cba86cd3882090bfd7d": {
      "model_module": "@jupyter-widgets/controls",
      "model_module_version": "1.5.0",
      "model_name": "DescriptionStyleModel",
      "state": {
       "description_width": "70px"
      }
     },
     "e1cd2157f22e42c5bd63daeedf5a86f1": {
      "model_module": "@jupyter-widgets/controls",
      "model_module_version": "1.5.0",
      "model_name": "HTMLModel",
      "state": {
       "layout": "IPY_MODEL_3d01859e0c1a44e1ae846ee6679838e4",
       "style": "IPY_MODEL_c5d38e945c3e44aca622192b002d7751",
       "value": "\n    <p><b>LocalData provider <i>data_paths</i></b>\n    Enter one or more data paths, separated by new lines\n    </p>\n    <br><a href='https://msticpy.readthedocs.io/en/latest/DataAcquisition.html' target='_blank' style='color: blue; text-decoration: underline;'>Online: Data Providers</a><br><a href='https://msticpy.readthedocs.io/en/latest/getting_started/msticpyconfig.html#specifying-secrets-as-key-vault-secrets' target='_blank' style='color: blue; text-decoration: underline;'>Online: Key Vault Configuration</a><br><a href='https://msticpy.readthedocs.io/en/latest/getting_started/msticpyconfig.html' target='_blank' style='color: blue; text-decoration: underline;'>Online: MSTICPy Configuration</a><br><a href='https://msticpy.readthedocs.io/en/latest/getting_started/SettingsEditor.html#adding-threat-intelligence-ti-providers' target='_blank' style='color: blue; text-decoration: underline;'>Online: Help on this tab</a>"
      }
     },
     "e21118a5648042d2b3f16c65c77f1a09": {
      "model_module": "@jupyter-widgets/base",
      "model_module_version": "1.2.0",
      "model_name": "LayoutModel",
      "state": {
       "visibility": "hidden"
      }
     },
     "e2ec12d8eb1743249a82ccb8122ef281": {
      "model_module": "@jupyter-widgets/controls",
      "model_module_version": "1.5.0",
      "model_name": "ButtonModel",
      "state": {
       "description": "Close",
       "layout": "IPY_MODEL_980bf4517b174fcdb85a50cd05f64831",
       "style": "IPY_MODEL_26d14e7ab2eb461e9276cc48c2273eb3"
      }
     },
     "e2f08378085a4f6d9daea3156945b4ae": {
      "model_module": "@jupyter-widgets/controls",
      "model_module_version": "1.5.0",
      "model_name": "DescriptionStyleModel",
      "state": {
       "description_width": "150px"
      }
     },
     "e327ce91c4274cf491f114ce864d1edb": {
      "model_module": "@jupyter-widgets/base",
      "model_module_version": "1.2.0",
      "model_name": "LayoutModel",
      "state": {
       "border": "solid gray 1px",
       "margin": "1pt",
       "padding": "5pt",
       "width": "99%"
      }
     },
     "e37f170d85714266816636b638e4132f": {
      "model_module": "@jupyter-widgets/base",
      "model_module_version": "1.2.0",
      "model_name": "LayoutModel",
      "state": {
       "height": "150px",
       "width": "99%"
      }
     },
     "e415137379884872940fe4dcf9087b5a": {
      "model_module": "@jupyter-widgets/base",
      "model_module_version": "1.2.0",
      "model_name": "LayoutModel",
      "state": {
       "width": "99%"
      }
     },
     "e4219270fa344941aba4735f9284fcba": {
      "model_module": "@jupyter-widgets/controls",
      "model_module_version": "1.5.0",
      "model_name": "HBoxModel",
      "state": {
       "children": [
        "IPY_MODEL_03d574208d4c4702b5c15fb438327cc4",
        "IPY_MODEL_ee5926fd54a74e079b309df62f51151e",
        "IPY_MODEL_52500f362c4e417a900819f710a4a52d"
       ],
       "layout": "IPY_MODEL_4d68155bbd774856a09f9d50515ca3ec"
      }
     },
     "e42ce29ef3e54ba0bef8b7c0119231c8": {
      "model_module": "@jupyter-widgets/controls",
      "model_module_version": "1.5.0",
      "model_name": "LabelModel",
      "state": {
       "layout": "IPY_MODEL_5a72ffaa48c746cab51011dfed667e78",
       "style": "IPY_MODEL_ceb66aa68cbf4606992c75047f2d33d1",
       "value": "Azure Sentinel workspace settings"
      }
     },
     "e4508fdae12a48cb9c1ed23d292a7de0": {
      "model_module": "@jupyter-widgets/controls",
      "model_module_version": "1.5.0",
      "model_name": "ButtonModel",
      "state": {
       "description": "Delete",
       "layout": "IPY_MODEL_fb78566b0d684e2f9b81846da1ca62fc",
       "style": "IPY_MODEL_3dff0dfdd69e4c59b8d9a7ce775bf18f"
      }
     },
     "e47b1a9b500c4366aab38a4cbee54b03": {
      "model_module": "@jupyter-widgets/controls",
      "model_module_version": "1.5.0",
      "model_name": "DescriptionStyleModel",
      "state": {
       "description_width": ""
      }
     },
     "e53cd0521eb54858be8c666088a94eaf": {
      "model_module": "@jupyter-widgets/controls",
      "model_module_version": "1.5.0",
      "model_name": "HBoxModel",
      "state": {
       "children": [
        "IPY_MODEL_5f21223780874ceca5dcffa212925a26",
        "IPY_MODEL_5d81fe08423647ddad46fd3cc7135e8b"
       ],
       "layout": "IPY_MODEL_4355d37cf642496ab05860517bbc60f0"
      }
     },
     "e5417ababb654415aa3fba668e64cea9": {
      "model_module": "@jupyter-widgets/base",
      "model_module_version": "1.2.0",
      "model_name": "LayoutModel",
      "state": {}
     },
     "e6751eb472ba443bbbd7f08f28e99ad4": {
      "model_module": "@jupyter-widgets/base",
      "model_module_version": "1.2.0",
      "model_name": "LayoutModel",
      "state": {}
     },
     "e71b426c789846fba10ea4d9563a4f1f": {
      "model_module": "@jupyter-widgets/controls",
      "model_module_version": "1.5.0",
      "model_name": "HBoxModel",
      "state": {
       "children": [
        "IPY_MODEL_e8d92f31e9d44c9bbc1da4194c34ef71",
        "IPY_MODEL_6b0f4ed1987b454d8866ef6c157a7233"
       ],
       "layout": "IPY_MODEL_d984d03bb9a34c8db0de26ee2b080908"
      }
     },
     "e736778606aa488cbd3b6b7f876f837a": {
      "model_module": "@jupyter-widgets/base",
      "model_module_version": "1.2.0",
      "model_name": "LayoutModel",
      "state": {
       "width": "50%"
      }
     },
     "e7594ac203984d8b968694c0f991c7d8": {
      "model_module": "@jupyter-widgets/controls",
      "model_module_version": "1.5.0",
      "model_name": "VBoxModel",
      "state": {
       "children": [
        "IPY_MODEL_3ebd0a1900784e91883046b60daab76f"
       ],
       "layout": "IPY_MODEL_7bacdaf4094947b08323791f0874ca47"
      }
     },
     "e8d92f31e9d44c9bbc1da4194c34ef71": {
      "model_module": "@jupyter-widgets/controls",
      "model_module_version": "1.5.0",
      "model_name": "ButtonModel",
      "state": {
       "description": "Add",
       "layout": "IPY_MODEL_29ea05c1a80341bd8c177e2b02a0d892",
       "style": "IPY_MODEL_542d039e344647d3a19ac4b2735c2382"
      }
     },
     "e8fc68bfdca348bf81d534365dce6ce6": {
      "model_module": "@jupyter-widgets/base",
      "model_module_version": "1.2.0",
      "model_name": "LayoutModel",
      "state": {
       "width": "95%"
      }
     },
     "e8fe754b40574969886d24a59a3d07f8": {
      "model_module": "@jupyter-widgets/base",
      "model_module_version": "1.2.0",
      "model_name": "LayoutModel",
      "state": {}
     },
     "e93d3d0e453244c4b8ff8d50033b3b75": {
      "model_module": "@jupyter-widgets/controls",
      "model_module_version": "1.5.0",
      "model_name": "TextModel",
      "state": {
       "description": "Name",
       "layout": "IPY_MODEL_86ab95b1f9cf4c959bfde659e807356a",
       "style": "IPY_MODEL_b61b6d61bd154b1982b6a14a902125bb",
       "value": "ASIHuntOMSWorkspaceV4"
      }
     },
     "e95653a396d54d2189ddcb72cc719c4b": {
      "model_module": "@jupyter-widgets/controls",
      "model_module_version": "1.5.0",
      "model_name": "ButtonModel",
      "state": {
       "description": "Upload to KV",
       "layout": "IPY_MODEL_96827ee3bf284d83b12d0b00da16c1fe",
       "style": "IPY_MODEL_578764f70b9b46838a7a9ed18164d763"
      }
     },
     "e975325a47e84136a9050276a2ba85a7": {
      "model_module": "@jupyter-widgets/controls",
      "model_module_version": "1.5.0",
      "model_name": "VBoxModel",
      "state": {
       "children": [
        "IPY_MODEL_e93d3d0e453244c4b8ff8d50033b3b75",
        "IPY_MODEL_c9df6ae7fe88408082972c6342f75b26",
        "IPY_MODEL_7a5bd52522274593b367cedaf726b97e",
        "IPY_MODEL_75b8cfd9448b4a0592a9d6d16192272c",
        "IPY_MODEL_52aec8ca53a8421abc3e9b6e35a5f762"
       ],
       "layout": "IPY_MODEL_d5c0792d7e1e4a3cba5c67b7a322ba50"
      }
     },
     "e9ad38c18bf44f54abcacb981810ef5b": {
      "model_module": "@jupyter-widgets/controls",
      "model_module_version": "1.5.0",
      "model_name": "ButtonStyleModel",
      "state": {}
     },
     "e9e67541952346d9baf146d1d8cc9f1f": {
      "model_module": "@jupyter-widgets/base",
      "model_module_version": "1.2.0",
      "model_name": "LayoutModel",
      "state": {
       "width": "99%"
      }
     },
     "eafb825cc39440cfaf5ad379cc3eff39": {
      "model_module": "@jupyter-widgets/controls",
      "model_module_version": "1.5.0",
      "model_name": "ButtonModel",
      "state": {
       "description": "Update",
       "layout": "IPY_MODEL_8f8b427f0a784182af7c8a5edde30510",
       "style": "IPY_MODEL_46e4d084d5474be696506aec3b00efe7"
      }
     },
     "eb2b2a83e372475f9a2e3a8ee943c501": {
      "model_module": "@jupyter-widgets/base",
      "model_module_version": "1.2.0",
      "model_name": "LayoutModel",
      "state": {}
     },
     "ebdabe90d5de424ea09ff0afaacb7f43": {
      "model_module": "@jupyter-widgets/controls",
      "model_module_version": "1.5.0",
      "model_name": "ButtonStyleModel",
      "state": {}
     },
     "ec4b98a2cf0b4b7ab3eccac4bb685e61": {
      "model_module": "@jupyter-widgets/controls",
      "model_module_version": "1.5.0",
      "model_name": "DescriptionStyleModel",
      "state": {
       "description_width": "100px"
      }
     },
     "ecd23a567a8c4d20a081819d7f105d2f": {
      "model_module": "@jupyter-widgets/controls",
      "model_module_version": "1.5.0",
      "model_name": "DescriptionStyleModel",
      "state": {
       "description_width": "initial"
      }
     },
     "ed106d6a679f4e2f959f991e7ab3ff9d": {
      "model_module": "@jupyter-widgets/controls",
      "model_module_version": "1.5.0",
      "model_name": "DescriptionStyleModel",
      "state": {
       "description_width": "70px"
      }
     },
     "ed4b1876d04647ab8e71a65b2f8d810d": {
      "model_module": "@jupyter-widgets/base",
      "model_module_version": "1.2.0",
      "model_name": "LayoutModel",
      "state": {
       "margin": "1pt",
       "padding": "5pt",
       "width": "40%"
      }
     },
     "ee5926fd54a74e079b309df62f51151e": {
      "model_module": "@jupyter-widgets/controls",
      "model_module_version": "1.5.0",
      "model_name": "ButtonModel",
      "state": {
       "description": "Delete",
       "layout": "IPY_MODEL_9c0d782696ef40bfaaf6391c3e3eb58a",
       "style": "IPY_MODEL_10bc5c7104814d30aa0a2eb4aca613d9"
      }
     },
     "ee69ea6acfb44604aa72284714b471d5": {
      "model_module": "@jupyter-widgets/controls",
      "model_module_version": "1.5.0",
      "model_name": "HBoxModel",
      "state": {
       "children": [
        "IPY_MODEL_7394024952d34e0e9985ba9433e03023",
        "IPY_MODEL_9e313b5238204a18b2e94874c258237f",
        "IPY_MODEL_eafb825cc39440cfaf5ad379cc3eff39"
       ],
       "layout": "IPY_MODEL_7b8c3b7351f5461ea342278aff4bc797"
      }
     },
     "ee77d2ed9e174d59a6c5cea4f99cbcfc": {
      "model_module": "@jupyter-widgets/controls",
      "model_module_version": "1.5.0",
      "model_name": "HBoxModel",
      "state": {
       "children": [
        "IPY_MODEL_bc278df39a224557bb6c2e45ecf52481",
        "IPY_MODEL_443ea0eaf9194af0b19a9ae745694619"
       ],
       "layout": "IPY_MODEL_b89a6974044649cca059d4109f440124"
      }
     },
     "ef38ab151c034225b3a17897204875a2": {
      "model_module": "@jupyter-widgets/controls",
      "model_module_version": "1.5.0",
      "model_name": "DescriptionStyleModel",
      "state": {
       "description_width": "initial"
      }
     },
     "ef57bbad289a45f4af43fe5d22863764": {
      "model_module": "@jupyter-widgets/controls",
      "model_module_version": "1.5.0",
      "model_name": "ButtonStyleModel",
      "state": {}
     },
     "ef8deeded35a426b8482d2a1a93e29d2": {
      "model_module": "@jupyter-widgets/base",
      "model_module_version": "1.2.0",
      "model_name": "LayoutModel",
      "state": {}
     },
     "f025e03ced414d4c9379e4b5b7244213": {
      "model_module": "@jupyter-widgets/controls",
      "model_module_version": "1.5.0",
      "model_name": "RadioButtonsModel",
      "state": {
       "_options_labels": [
        "Text",
        "EnvironmentVar",
        "KeyVault"
       ],
       "description": "Storage:",
       "index": 2,
       "layout": "IPY_MODEL_1d70ecaa827e450da4f3f68079f2ede7",
       "style": "IPY_MODEL_1703819f75ac4719a455252a73b15a61"
      }
     },
     "f03b3c04d45d4b779a460b7dedbb0fee": {
      "model_module": "@jupyter-widgets/base",
      "model_module_version": "1.2.0",
      "model_name": "LayoutModel",
      "state": {}
     },
     "f11c6a4a0723496fac066764feb63269": {
      "model_module": "@jupyter-widgets/base",
      "model_module_version": "1.2.0",
      "model_name": "LayoutModel",
      "state": {}
     },
     "f1497504afbf46699e560c232ca23cc3": {
      "model_module": "@jupyter-widgets/controls",
      "model_module_version": "1.5.0",
      "model_name": "DescriptionStyleModel",
      "state": {
       "description_width": "100px"
      }
     },
     "f18199c71f964ab6ad57f9a607d1684f": {
      "model_module": "@jupyter-widgets/controls",
      "model_module_version": "1.5.0",
      "model_name": "ButtonModel",
      "state": {
       "description": "Add",
       "layout": "IPY_MODEL_fb78566b0d684e2f9b81846da1ca62fc",
       "style": "IPY_MODEL_846cf05a2e8b46c78af904b0715e7a68"
      }
     },
     "f186b8e0fa1a4f57bd20e8ed2a9e9138": {
      "model_module": "@jupyter-widgets/controls",
      "model_module_version": "1.5.0",
      "model_name": "VBoxModel",
      "state": {
       "children": [
        "IPY_MODEL_60812db7a702484b88575204b6f36680",
        "IPY_MODEL_036f4deb338b4dd9afe12039cf0eefe1"
       ],
       "layout": "IPY_MODEL_e415137379884872940fe4dcf9087b5a"
      }
     },
     "f3ba5cec71fe4504992d833abac5da83": {
      "model_module": "@jupyter-widgets/controls",
      "model_module_version": "1.5.0",
      "model_name": "HBoxModel",
      "state": {
       "children": [
        "IPY_MODEL_aa1af7ba2c584f5495c8641e42c4ff70",
        "IPY_MODEL_f186b8e0fa1a4f57bd20e8ed2a9e9138"
       ],
       "layout": "IPY_MODEL_341276f94a1745158016b4ce857f01ab"
      }
     },
     "f3f0d295a9884e49b4f9bf0f232f077c": {
      "model_module": "@jupyter-widgets/controls",
      "model_module_version": "1.5.0",
      "model_name": "ButtonStyleModel",
      "state": {}
     },
     "f4ceb11cdf6c497db31b7172e86eda80": {
      "model_module": "@jupyter-widgets/controls",
      "model_module_version": "1.5.0",
      "model_name": "VBoxModel",
      "state": {
       "children": [
        "IPY_MODEL_88a0b2e06336404aaf0bfe6efece53da",
        "IPY_MODEL_dc94535b4f05498e915a0c401f37cdc7",
        "IPY_MODEL_e95653a396d54d2189ddcb72cc719c4b"
       ],
       "layout": "IPY_MODEL_40decff54b7744dfb393760342c1ff2d"
      }
     },
     "f4e2483f4bae4b31a44472245e9cc5f6": {
      "model_module": "@jupyter-widgets/controls",
      "model_module_version": "1.5.0",
      "model_name": "DropdownModel",
      "state": {
       "_options_labels": [
        "AzureCLI",
        "Splunk",
        "LocalData",
        "Mordor",
        "Browshot"
       ],
       "description": "Add prov",
       "index": 4,
       "layout": "IPY_MODEL_5b3c0d025dd84831b91cf44edecea636",
       "style": "IPY_MODEL_4f8b3a0af5ff4fd28b4980fbbf9f2d79"
      }
     },
     "f50099047ba74307ba9578ee9e42d198": {
      "model_module": "@jupyter-widgets/controls",
      "model_module_version": "1.5.0",
      "model_name": "ButtonModel",
      "state": {
       "description": "Search",
       "layout": "IPY_MODEL_808fe1c470144db7951543b4a15d48e3",
       "style": "IPY_MODEL_ab2e17be84004996b9244201f5602498"
      }
     },
     "f652c848dc814afe8c64ff51ccc573e1": {
      "model_module": "@jupyter-widgets/controls",
      "model_module_version": "1.5.0",
      "model_name": "HBoxModel",
      "state": {
       "children": [
        "IPY_MODEL_03d574208d4c4702b5c15fb438327cc4",
        "IPY_MODEL_ee5926fd54a74e079b309df62f51151e"
       ],
       "layout": "IPY_MODEL_3317404db90c4a8081d2c79a9430ac54"
      }
     },
     "f7703d22c3e94b538ada3c74964beddc": {
      "model_module": "@jupyter-widgets/controls",
      "model_module_version": "1.5.0",
      "model_name": "ButtonModel",
      "state": {
       "description": "Validate Settings",
       "layout": "IPY_MODEL_7b7b4c8ad2b0402a8bb218b2f5808055",
       "style": "IPY_MODEL_9831256a81dd407f851bb7cea6d7622f"
      }
     },
     "f7a7dced5c7d4560b20ce1e615916c78": {
      "model_module": "@jupyter-widgets/base",
      "model_module_version": "1.2.0",
      "model_name": "LayoutModel",
      "state": {
       "height": "300px",
       "width": "99%"
      }
     },
     "f7f703aeec3940a9ac362eb021cb4219": {
      "model_module": "@jupyter-widgets/base",
      "model_module_version": "1.2.0",
      "model_name": "LayoutModel",
      "state": {}
     },
     "f7fc9c1701b947cf98a9db7abcef0891": {
      "model_module": "@jupyter-widgets/controls",
      "model_module_version": "1.5.0",
      "model_name": "HBoxModel",
      "state": {
       "children": [
        "IPY_MODEL_3cae22c6aa124d57af148d75d6721901",
        "IPY_MODEL_7e2246f26780492daf50604a9f7702c0"
       ],
       "layout": "IPY_MODEL_eb2b2a83e372475f9a2e3a8ee943c501"
      }
     },
     "f830811507d6447db7e490381cce7e28": {
      "model_module": "@jupyter-widgets/controls",
      "model_module_version": "1.5.0",
      "model_name": "DescriptionStyleModel",
      "state": {
       "description_width": "150px"
      }
     },
     "f989300cafdd47f0936e3eee7317c6ff": {
      "model_module": "@jupyter-widgets/controls",
      "model_module_version": "1.5.0",
      "model_name": "AccordionModel",
      "state": {
       "_titles": {
        "0": "Help"
       },
       "children": [
        "IPY_MODEL_04e85cfd8d1041e08ce4aada31cfdc57"
       ],
       "layout": "IPY_MODEL_80878657fcf9461d8986c720ab94d0d5",
       "selected_index": null
      }
     },
     "fb78566b0d684e2f9b81846da1ca62fc": {
      "model_module": "@jupyter-widgets/base",
      "model_module_version": "1.2.0",
      "model_name": "LayoutModel",
      "state": {
       "width": "100px"
      }
     },
     "fbc8a83916064e07b7ad212ba0327df4": {
      "model_module": "@jupyter-widgets/base",
      "model_module_version": "1.2.0",
      "model_name": "LayoutModel",
      "state": {
       "width": "75%"
      }
     },
     "fbdc1aad97ca4e6e8f485a4e8ced25d1": {
      "model_module": "@jupyter-widgets/base",
      "model_module_version": "1.2.0",
      "model_name": "LayoutModel",
      "state": {
       "width": "35%"
      }
     },
     "fc1dc08f85cc46218c223ae1aa642728": {
      "model_module": "@jupyter-widgets/controls",
      "model_module_version": "1.5.0",
      "model_name": "HBoxModel",
      "state": {
       "children": [
        "IPY_MODEL_2f63f6674d3f41f797cf477546e928fb",
        "IPY_MODEL_dae98a4d4018423ca3730f764e85451a"
       ],
       "layout": "IPY_MODEL_52b9068a0489494bae54c181b3d3836c"
      }
     },
     "fc61cf43a289481d96701ec51b22e5fd": {
      "model_module": "@jupyter-widgets/base",
      "model_module_version": "1.2.0",
      "model_name": "LayoutModel",
      "state": {}
     },
     "fcbd5cea42b34a5da34ff9f094b3b3c4": {
      "model_module": "@jupyter-widgets/controls",
      "model_module_version": "1.5.0",
      "model_name": "DescriptionStyleModel",
      "state": {
       "description_width": ""
      }
     },
     "ff01ad20bd064e57aa4c95dea198fcdb": {
      "model_module": "@jupyter-widgets/controls",
      "model_module_version": "1.5.0",
      "model_name": "DescriptionStyleModel",
      "state": {
       "description_width": ""
      }
     }
    },
    "version_major": 2,
    "version_minor": 0
   }
  }
 },
 "nbformat": 4,
 "nbformat_minor": 4
}