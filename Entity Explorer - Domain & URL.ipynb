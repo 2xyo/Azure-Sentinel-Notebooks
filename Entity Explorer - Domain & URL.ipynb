{
  "cells": [
    {
      "metadata": {
        "ExecuteTime": {
          "end_time": "2019-09-25T19:53:48.349636Z",
          "start_time": "2019-09-25T19:53:48.344638Z"
        }
      },
      "cell_type": "markdown",
      "source": "#  Entity Explorer - Domain and URL\n**Notebook Version:** 1.0<br>"
    },
    {
      "metadata": {
        "toc": true
      },
      "cell_type": "markdown",
      "source": "<h1>Table of Contents<span class=\"tocSkip\"></span></h1>\n<div class=\"toc\"><ul class=\"toc-item\"><li><span><a href=\"#Description:\" data-toc-modified-id=\"Description:-1\"><span class=\"toc-item-num\">1&nbsp;&nbsp;</span>Description:</a></span><ul class=\"toc-item\"><li><span><a href=\"#Notebook-Setup\" data-toc-modified-id=\"Notebook-Setup-1.1\"><span class=\"toc-item-num\">1.1&nbsp;&nbsp;</span>Notebook Setup</a></span></li><li><span><a href=\"#Get-WorkspaceId-and-Authenticate-to-Log-Analytics\" data-toc-modified-id=\"Get-WorkspaceId-and-Authenticate-to-Log-Analytics-1.2\"><span class=\"toc-item-num\">1.2&nbsp;&nbsp;</span>Get WorkspaceId and Authenticate to Log Analytics</a></span></li></ul></li><li><span><a href=\"#Select-the-domain-or-URL-you-wish-to-investigate\" data-toc-modified-id=\"Select-the-domain-or-URL-you-wish-to-investigate-2\"><span class=\"toc-item-num\">2&nbsp;&nbsp;</span>Select the domain or URL you wish to investigate</a></span></li><li><span><a href=\"#Domain-Overview\" data-toc-modified-id=\"Domain-Overview-3\"><span class=\"toc-item-num\">3&nbsp;&nbsp;</span>Domain Overview</a></span><ul class=\"toc-item\"><li><span><a href=\"#Threat-Intelligence\" data-toc-modified-id=\"Threat-Intelligence-3.1\"><span class=\"toc-item-num\">3.1&nbsp;&nbsp;</span>Threat Intelligence</a></span></li><li><span><a href=\"#Domain-analysis\" data-toc-modified-id=\"Domain-analysis-3.2\"><span class=\"toc-item-num\">3.2&nbsp;&nbsp;</span>Domain analysis</a></span></li><li><span><a href=\"#TLS-Cert-Details\" data-toc-modified-id=\"TLS-Cert-Details-3.3\"><span class=\"toc-item-num\">3.3&nbsp;&nbsp;</span>TLS Cert Details</a></span></li><li><span><a href=\"#Reverse-DNS-details\" data-toc-modified-id=\"Reverse-DNS-details-3.4\"><span class=\"toc-item-num\">3.4&nbsp;&nbsp;</span>Reverse DNS details</a></span></li><li><span><a href=\"#Site-Screenshot\" data-toc-modified-id=\"Site-Screenshot-3.5\"><span class=\"toc-item-num\">3.5&nbsp;&nbsp;</span>Site Screenshot</a></span></li><li><span><a href=\"#Domain-Summary\" data-toc-modified-id=\"Domain-Summary-3.6\"><span class=\"toc-item-num\">3.6&nbsp;&nbsp;</span>Domain Summary</a></span></li></ul></li><li><span><a href=\"#Related-Alerts\" data-toc-modified-id=\"Related-Alerts-4\"><span class=\"toc-item-num\">4&nbsp;&nbsp;</span>Related Alerts</a></span></li><li><span><a href=\"#Domain-or-URL-in-Logs\" data-toc-modified-id=\"Domain-or-URL-in-Logs-5\"><span class=\"toc-item-num\">5&nbsp;&nbsp;</span>Domain or URL in Logs</a></span><ul class=\"toc-item\"><li><span><a href=\"#Host-Logs\" data-toc-modified-id=\"Host-Logs-5.1\"><span class=\"toc-item-num\">5.1&nbsp;&nbsp;</span>Host Logs</a></span></li><li><span><a href=\"#Network-Device-Logs\" data-toc-modified-id=\"Network-Device-Logs-5.2\"><span class=\"toc-item-num\">5.2&nbsp;&nbsp;</span>Network Device Logs</a></span></li><li><span><a href=\"#DNS-Logs\" data-toc-modified-id=\"DNS-Logs-5.3\"><span class=\"toc-item-num\">5.3&nbsp;&nbsp;</span>DNS Logs</a></span></li><li><span><a href=\"#Flow-Logs\" data-toc-modified-id=\"Flow-Logs-5.4\"><span class=\"toc-item-num\">5.4&nbsp;&nbsp;</span>Flow Logs</a></span></li><li><span><a href=\"#All-Hosts-Observed-Communicating-with-the-Domain-or-URL\" data-toc-modified-id=\"All-Hosts-Observed-Communicating-with-the-Domain-or-URL-5.5\"><span class=\"toc-item-num\">5.5&nbsp;&nbsp;</span>All Hosts Observed Communicating with the Domain or URL</a></span></li></ul></li><li><span><a href=\"#Summary-of-Findings\" data-toc-modified-id=\"Summary-of-Findings-6\"><span class=\"toc-item-num\">6&nbsp;&nbsp;</span>Summary of Findings</a></span></li><li><span><a href=\"#Setup-Cell\" data-toc-modified-id=\"Setup-Cell-7\"><span class=\"toc-item-num\">7&nbsp;&nbsp;</span>Setup Cell</a></span></li></ul></div>"
    },
    {
      "metadata": {},
      "cell_type": "markdown",
      "source": "## Description:\nThis Notebooks brings together a series of tools and techniques to enable threat hunting within the context of a domain name or URL that has been identified as of interest. It provides a series of techniques to assist in determining whether a domain or URL is malicious. Once this has been established it provides an overview of the scope of the domain or URL across an environment, along with indicators of areas for further investigation such as hosts of interest.  \n\n**Data Sources Used**:\n- Log Analytics/Azure Sentinel\n    - Syslog (Optional)\n    - SecurityEvent (Optional)\n    - DnsEvents (Optional)\n    - CommonSecurityLog (Optional)\n    - AzureNetworkAnalytics_CL (Optional)\n\n- Threat Intelligence Providers\n    - OTX (https://otx.alienvault.com/)\n    - VirusTotal (https://www.virustotal.com/)\n    - XForce (https://www.ibm.com/security/xforce)\n \n\n# Hunting Hypothesis: \nOur broad initial hunting hypothesis is that a particular domain or URL is controlled by an attacker and used maliciously. We wish to validate this hypothesis and identify any impact to our environment based on this.\n\nBefore you start hunting please run the setup cells at the bottom of this Notebook. \n\n### Notebook Setup\n&lt;details&gt;\n    <summary> <u>Details...</u></summary>\n        If this is your first time running this Notebook please run the cells in in the <a>Setup</a> section before proceeding  to ensure you have the required packages installed correctly. Similarly if you see any import failures (```ImportError```) in the notebook, please make sure that you have run the [Setup](#setup) section first.\n    &lt;/details&gt;"
    },
    {
      "metadata": {
        "trusted": true
      },
      "cell_type": "code",
      "source": "# !pip install --index-url https://test.pypi.org/simple/ --extra-index-url https://pypi.org/simple --no-cache-dir msticpy==0.2.7\n# !pip install pyvis --upgrade --user\n!pip install python-whois --upgrade --user",
      "execution_count": 14,
      "outputs": [
        {
          "output_type": "stream",
          "text": "Collecting python-whois\n\u001b[?25l  Downloading https://files.pythonhosted.org/packages/f0/ab/11c2d01db2554bbaabb2c32b06b6a73f7277372533484c320c78a304dfd7/python-whois-0.7.2.tar.gz (90kB)\n\u001b[K     |████████████████████████████████| 92kB 3.9MB/s eta 0:00:01\n\u001b[?25hRequirement already satisfied, skipping upgrade: future in /home/nbuser/anaconda3_501/lib/python3.6/site-packages (from python-whois) (0.16.0)\nBuilding wheels for collected packages: python-whois\n  Building wheel for python-whois (setup.py) ... \u001b[?25ldone\n\u001b[?25h  Created wheel for python-whois: filename=python_whois-0.7.2-cp36-none-any.whl size=86215 sha256=3bff786b45f5f648ad7eedcaee297b33fd8a09289867c0fa4788a511a3d0952d\n  Stored in directory: /home/nbuser/.cache/pip/wheels/69/e6/62/1e6a746ca8e690f472611511b6948c325b232aaf693245ce46\nSuccessfully built python-whois\nInstalling collected packages: python-whois\nSuccessfully installed python-whois-0.7.2\n\u001b[33mWARNING: You are using pip version 19.2.2, however version 19.3.1 is available.\nYou should consider upgrading via the 'pip install --upgrade pip' command.\u001b[0m\n",
          "name": "stdout"
        }
      ]
    },
    {
      "metadata": {
        "ExecuteTime": {
          "end_time": "2019-10-18T21:20:54.836979Z",
          "start_time": "2019-10-18T21:20:53.537755Z"
        },
        "tags": [
          "todo"
        ],
        "trusted": true
      },
      "cell_type": "code",
      "source": "print('Importing python packages....')\nimport sys\nimport warnings\nMIN_REQ_PYTHON = (3,6)\nif sys.version_info < MIN_REQ_PYTHON:\n    print('Check the Kernel->Change Kernel menu and ensure that Python 3.6')\n    print('or later is selected as the active kernel.')\n    sys.exit(\"Python %s.%s or later is required.\\n\" % MIN_REQ_PYTHON)\n    \nimport re\nimport json\nimport numpy as np\nimport time\nimport requests\nimport seaborn as sns\nsns.set()\nimport ipywidgets as widgets\nimport pandas as pd\nprint('Importing msticpy packages...')\nfrom msticpy.sectools import *\nfrom msticpy.nbtools import *\nfrom msticpy.nbtools.utility import md\npd.set_option('display.max_rows', 100)\npd.set_option('display.max_columns', 50)\npd.set_option('display.max_colwidth', 100)\nWIDGET_DEFAULTS = {'layout': widgets.Layout(width=\"900px\"),\n                   'style': {'description_width': 'initial'}}\nfrom pyvis.network import Network\nfrom IPython.display import Image, Markdown, HTML\nfrom msticpy.data.data_providers import QueryProvider\nfrom msticpy.sectools import tilookup\ntilookup = TILookup()\nfrom msticpy.nbtools.utility import md, md_warn\nfrom msticpy.sectools import domain_utils\nfrom msticpy.nbtools import observationlist\n\nfrom matplotlib import MatplotlibDeprecationWarning\nwarnings.simplefilter(\"ignore\", category=MatplotlibDeprecationWarning)\npd.options.mode.chained_assignment = None\n\nprint('Imports complete')",
      "execution_count": 7,
      "outputs": [
        {
          "output_type": "stream",
          "text": "Importing python packages....\nImporting msticpy packages...\nImports complete\n",
          "name": "stdout"
        }
      ]
    },
    {
      "metadata": {
        "ExecuteTime": {
          "end_time": "2019-09-25T20:20:04.563899Z",
          "start_time": "2019-09-25T20:20:04.507874Z"
        }
      },
      "cell_type": "markdown",
      "source": "### Get WorkspaceId and Authenticate to Log Analytics\n&lt;details&gt;\n    <summary> <u>Details...</u></summary>\nIf you are using user/device authentication, run the following cell. \n- Click the 'Copy code to clipboard and authenticate' button.\n- This will pop up an Azure Active Directory authentication dialog (in a new tab or browser window). The device code will have been copied to the clipboard. \n- Select the text box and paste (Ctrl-V/Cmd-V) the copied value. \n- You should then be redirected to a user authentication page where you should authenticate with a user account that has permission to query your Log Analytics workspace.\n\nUse the following syntax if you are authenticating using an Azure Active Directory AppId and Secret:\n```\n%kql loganalytics://tenant(aad_tenant).workspace(WORKSPACE_ID).clientid(client_id).clientsecret(client_secret)\n```\ninstead of\n```\n%kql loganalytics://code().workspace(WORKSPACE_ID)\n```\n\nNote: you may occasionally see a JavaScript error displayed at the end of the authentication - you can safely ignore this.<br>\nOn successful authentication you should see a ```popup schema``` button.\nTo find your Workspace Id go to [Log Analytics](https://ms.portal.azure.com/#blade/HubsExtension/Resources/resourceType/Microsoft.OperationalInsights%2Fworkspaces). Look at the workspace properties to find the ID.\n&lt;/details&gt;"
    },
    {
      "metadata": {
        "ExecuteTime": {
          "end_time": "2019-10-18T21:20:05.497213Z",
          "start_time": "2019-10-18T21:20:05.441248Z"
        },
        "trusted": true
      },
      "cell_type": "code",
      "source": "#See if we have an Azure Sentinel Workspace defined in our config file, if not let the user specify Workspace and Tenant IDs\nfrom msticpy.nbtools.wsconfig import WorkspaceConfig\nws_config = WorkspaceConfig()\ntry:\n    ws_id = ws_config['workspace_id']\n    ten_id = ws_config['tenant_id']\n    config = True\n    display(HTML(\"Workspace details collected from config file\"))\nexcept KeyError:\n    md(('Please go to your Log Analytics workspace, copy the workspace ID'\n                 ' and/or tenant Id and paste here to enable connection to the workspace and querying of it..<br> '))\n    ws_id_wgt = nbwidgets.GetEnvironmentKey(env_var='WORKSPACE_ID',\n                                        prompt='Please enter your Log Analytics Workspace Id:', auto_display=True)\n    ten_id_wgt = nbwidgets.GetEnvironmentKey(env_var='TENANT_ID',\n                                         prompt='Please enter your Log Analytics Tenant Id:', auto_display=True)\n    config = False\n",
      "execution_count": 8,
      "outputs": [
        {
          "output_type": "display_data",
          "data": {
            "text/html": "Workspace details collected from config file",
            "text/plain": "<IPython.core.display.HTML object>"
          },
          "metadata": {}
        }
      ]
    },
    {
      "metadata": {
        "ExecuteTime": {
          "end_time": "2019-10-17T00:50:45.556874Z",
          "start_time": "2019-10-17T00:50:11.145277Z"
        },
        "trusted": true
      },
      "cell_type": "code",
      "source": "if config is False:\n    ws_id = ws_id_wgt.value\n    ten_id = ten_id_wgt.value\n# Establish a query provider for Azure Sentinel and connect to it\nqry_prov = QueryProvider('LogAnalytics')\nla_connection_string = f'loganalytics://code().tenant(\"{ten_id}\").workspace(\"{ws_id}\")'\nqry_prov.connect(connection_str=f'{la_connection_string}')",
      "execution_count": 9,
      "outputs": [
        {
          "output_type": "stream",
          "text": "Please wait. Loading Kqlmagic extension...\n",
          "name": "stdout"
        },
        {
          "output_type": "display_data",
          "data": {
            "application/javascript": "try {IPython.notebook.kernel.execute(\"NOTEBOOK_URL = '\" + window.location + \"'\");} catch(err) {;}",
            "text/plain": "<IPython.core.display.Javascript object>"
          },
          "metadata": {}
        },
        {
          "output_type": "display_data",
          "data": {
            "application/javascript": "try {IPython.notebook.kernel.reconnect();} catch(err) {;}",
            "text/plain": "<IPython.core.display.Javascript object>"
          },
          "metadata": {}
        },
        {
          "output_type": "display_data",
          "data": {
            "text/html": "<html>\n            <head>\n            <style>\n            .kql-magic-banner {\n                display: flex; \n                background-color: #d9edf7;\n            }\n            .kql-magic-banner > div {\n                margin: 10px; \n                padding: 20px; \n                color: #3a87ad; \n                font-size: 13px;\n            }\n            </style>\n            </head>\n            <body>\n                <div class='kql-magic-banner'>\n                    <div><img src='data:image/png;base64,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'></div>\n                    <div>\n                        <p>Kql Query Language, aka kql, is the query language for advanced analytics on Azure Monitor resources. The current supported data sources are \n                        Azure Data Explorer (Kusto), Log Analytics and Application Insights. To get more information execute '%kql --help \"kql\"'</p>\n                        <p>   &bull; kql reference: Click on 'Help' tab > and Select 'kql reference' or execute '%kql --help \"kql\"'<br>\n                          &bull; Kqlmagic configuration: execute '%config Kqlmagic'<br>\n                          &bull; Kqlmagic usage: execute '%kql --usage'<br>\n                    </div>\n                </div>\n            </body>\n            </html>",
            "text/plain": "<IPython.core.display.HTML object>"
          },
          "metadata": {}
        },
        {
          "output_type": "display_data",
          "data": {
            "text/html": "<html>\n        <head>\n        \n        </head>\n        <body>\n        <div><p style='padding: 10px; color: #3a87ad; background-color: #d9edf7; border-color: #bce9f1'>Kqlmagic&nbsp;package&nbsp;is&nbsp;updated&nbsp;frequently.&nbsp;Run&nbsp;&apos;!pip&nbsp;install&nbsp;Kqlmagic&nbsp;--no-cache-dir&nbsp;--upgrade&apos;&nbsp;to&nbsp;use&nbsp;the&nbsp;latest&nbsp;version.<br>Kqlmagic&nbsp;version:&nbsp;0.1.107.post1,&nbsp;source:&nbsp;https://github.com/Microsoft/jupyter-Kqlmagic</p></div>\n        </body>\n        </html>",
            "text/plain": "<IPython.core.display.HTML object>"
          },
          "metadata": {}
        },
        {
          "output_type": "display_data",
          "data": {
            "text/html": "<!DOCTYPE html>\n            <html><body>\n            <div style='padding: 10px; color: #3a87ad; background-color: #d9edf7; border-color: #bce9f1'>\n            Click to find out what's new in Kqlmagic \n\n            <button onclick=\"this.style.visibility='visible';kql_MagicLaunchWindowFunction('Kqlmagic_temp_files/what_new_history.html','fullscreen=no,directories=no,location=no,menubar=no,resizable=yes,scrollbars=yes,status=no,titlebar=no,toolbar=no,','what_new_history','https://notebooks.azure.com')\">What's New? </button>\n            \n            </div>\n\n            <script>\n\n            function kql_MagicLaunchWindowFunction(file_path, window_params, window_name, notebooks_host) {\n                var url;\n                if (notebooks_host == 'text') {\n                    url = ''\n                } else if (file_path.startsWith('http')) {\n                    url = file_path;\n                } else {\n                    var base_url = '';\n\n                    // check if azure notebook\n                    var azure_host = (notebooks_host == null || notebooks_host.length == 0) ? 'https://notebooks.azure.com' : notebooks_host;\n                    var start = azure_host.search('//');\n                    var azure_host_suffix = '.' + azure_host.substring(start+2);\n\n                    var loc = String(window.location);\n                    var end = loc.search(azure_host_suffix);\n                    start = loc.search('//');\n                    if (start > 0 && end > 0) {\n                        var parts = loc.substring(start+2, end).split('-');\n                        if (parts.length == 2) {\n                            var library = parts[0];\n                            var user = parts[1];\n                            base_url = azure_host + '/api/user/' +user+ '/library/' +library+ '/html/';\n                        }\n                    }\n\n                    // check if local jupyter lab\n                    if (base_url.length == 0) {\n                        var configDataScipt  = document.getElementById('jupyter-config-data');\n                        if (configDataScipt != null) {\n                            var jupyterConfigData = JSON.parse(configDataScipt.textContent);\n                            if (jupyterConfigData['appName'] == 'JupyterLab' && jupyterConfigData['serverRoot'] != null &&  jupyterConfigData['treeUrl'] != null) {\n                                var basePath = '/home/nbuser/library' + '/';\n                                if (basePath.startsWith(jupyterConfigData['serverRoot'])) {\n                                    base_url = '/files/' + basePath.substring(jupyterConfigData['serverRoot'].length+1);\n                                }\n                            } \n                        }\n                    }\n\n                    // assume local jupyter notebook\n                    if (base_url.length == 0) {\n\n                        var parts = loc.split('/');\n                        parts.pop();\n                        base_url = parts.join('/') + '/';\n                    }\n                    url = base_url + file_path;\n                }\n\n                window.focus();\n                var w = screen.width / 2;\n                var h = screen.height / 2;\n                params = 'width='+w+',height='+h;\n                kql_Magic_what_new_history = window.open(url, window_name, window_params + params);\n                if (url == '') {\n                    var el = kql_Magic_what_new_history.document.createElement('p');\n                    kql_Magic_what_new_history.document.body.overflow = 'auto';\n                    el.style.top = 0;\n                    el.style.left = 0;\n                    el.innerHTML = file_path;\n                    kql_Magic_what_new_history.document.body.appendChild(el);\n                }\n            }\n            </script>\n\n            </body></html>",
            "text/plain": "<IPython.core.display.HTML object>"
          },
          "metadata": {}
        },
        {
          "output_type": "display_data",
          "data": {
            "application/javascript": "try {IPython.notebook.kernel.execute(\"NOTEBOOK_URL = '\" + window.location + \"'\");} catch(err) {;}",
            "text/plain": "<IPython.core.display.Javascript object>"
          },
          "metadata": {}
        },
        {
          "output_type": "display_data",
          "data": {
            "text/html": "<!DOCTYPE html>\n                    <html><body>\n\n                    <!-- h1 id=\"user_code_p\"><b>BC6LFD6RU</b><br></h1-->\n\n                    <input  id=\"kql_MagicCodeAuthInput\" type=\"text\" readonly style=\"font-weight: bold; border: none;\" size = '9' value='BC6LFD6RU'>\n\n                    <button id='kql_MagicCodeAuth_button', onclick=\"this.style.visibility='hidden';kql_MagicCodeAuthFunction()\">Copy code to clipboard and authenticate</button>\n\n                    <script>\n                    var kql_MagicUserCodeAuthWindow = null\n                    function kql_MagicCodeAuthFunction() {\n                        /* Get the text field */\n                        var copyText = document.getElementById(\"kql_MagicCodeAuthInput\");\n\n                        /* Select the text field */\n                        copyText.select();\n\n                        /* Copy the text inside the text field */\n                        document.execCommand(\"copy\");\n\n                        /* Alert the copied text */\n                        // alert(\"Copied the text: \" + copyText.value);\n\n                        var w = screen.width / 2;\n                        var h = screen.height / 2;\n                        params = 'width='+w+',height='+h\n                        kql_MagicUserCodeAuthWindow = window.open('https://microsoft.com/devicelogin', 'kql_MagicUserCodeAuthWindow', params);\n\n                        // TODO: save selected cell index, so that the clear will be done on the lince cell\n                    }\n                    </script>\n\n                    </body></html>",
            "text/plain": "<IPython.core.display.HTML object>"
          },
          "metadata": {}
        },
        {
          "output_type": "display_data",
          "data": {
            "text/html": "<!DOCTYPE html>\n                    <html><body><script>\n\n                        // close authentication window\n                        if (kql_MagicUserCodeAuthWindow && kql_MagicUserCodeAuthWindow.opener != null && !kql_MagicUserCodeAuthWindow.closed) {\n                            kql_MagicUserCodeAuthWindow.close()\n                        }\n                        // TODO: make sure, you clear the right cell. BTW, not sure it is a must to do any clearing\n\n                        // clear output cell\n                        Jupyter.notebook.clear_output(Jupyter.notebook.get_selected_index())\n\n                        // TODO: if in run all mode, move to last cell, otherwise move to next cell\n                        // move to next cell\n\n                    </script></body></html>",
            "text/plain": "<IPython.core.display.HTML object>"
          },
          "metadata": {}
        },
        {
          "output_type": "display_data",
          "data": {
            "text/html": "<!DOCTYPE html>\n            <html><body>\n            <div style=''>\n            \n\n            <button onclick=\"this.style.visibility='visible';kql_MagicLaunchWindowFunction('Kqlmagic_temp_files/_52b1ab41-869e-4138-9e40-2a4457f09bf0_at_loganalytics_schema.html','fullscreen=no,directories=no,location=no,menubar=no,resizable=yes,scrollbars=yes,status=no,titlebar=no,toolbar=no,','_52b1ab41_869e_4138_9e40_2a4457f09bf0_at_loganalytics_schema','https://notebooks.azure.com')\">popup schema 52b1ab41-869e-4138-9e40-2a4457f09bf0@loganalytics</button>\n            \n            </div>\n\n            <script>\n\n            function kql_MagicLaunchWindowFunction(file_path, window_params, window_name, notebooks_host) {\n                var url;\n                if (notebooks_host == 'text') {\n                    url = ''\n                } else if (file_path.startsWith('http')) {\n                    url = file_path;\n                } else {\n                    var base_url = '';\n\n                    // check if azure notebook\n                    var azure_host = (notebooks_host == null || notebooks_host.length == 0) ? 'https://notebooks.azure.com' : notebooks_host;\n                    var start = azure_host.search('//');\n                    var azure_host_suffix = '.' + azure_host.substring(start+2);\n\n                    var loc = String(window.location);\n                    var end = loc.search(azure_host_suffix);\n                    start = loc.search('//');\n                    if (start > 0 && end > 0) {\n                        var parts = loc.substring(start+2, end).split('-');\n                        if (parts.length == 2) {\n                            var library = parts[0];\n                            var user = parts[1];\n                            base_url = azure_host + '/api/user/' +user+ '/library/' +library+ '/html/';\n                        }\n                    }\n\n                    // check if local jupyter lab\n                    if (base_url.length == 0) {\n                        var configDataScipt  = document.getElementById('jupyter-config-data');\n                        if (configDataScipt != null) {\n                            var jupyterConfigData = JSON.parse(configDataScipt.textContent);\n                            if (jupyterConfigData['appName'] == 'JupyterLab' && jupyterConfigData['serverRoot'] != null &&  jupyterConfigData['treeUrl'] != null) {\n                                var basePath = '/home/nbuser/library' + '/';\n                                if (basePath.startsWith(jupyterConfigData['serverRoot'])) {\n                                    base_url = '/files/' + basePath.substring(jupyterConfigData['serverRoot'].length+1);\n                                }\n                            } \n                        }\n                    }\n\n                    // assume local jupyter notebook\n                    if (base_url.length == 0) {\n\n                        var parts = loc.split('/');\n                        parts.pop();\n                        base_url = parts.join('/') + '/';\n                    }\n                    url = base_url + file_path;\n                }\n\n                window.focus();\n                var w = screen.width / 2;\n                var h = screen.height / 2;\n                params = 'width='+w+',height='+h;\n                kql_Magic__52b1ab41_869e_4138_9e40_2a4457f09bf0_at_loganalytics_schema = window.open(url, window_name, window_params + params);\n                if (url == '') {\n                    var el = kql_Magic__52b1ab41_869e_4138_9e40_2a4457f09bf0_at_loganalytics_schema.document.createElement('p');\n                    kql_Magic__52b1ab41_869e_4138_9e40_2a4457f09bf0_at_loganalytics_schema.document.body.overflow = 'auto';\n                    el.style.top = 0;\n                    el.style.left = 0;\n                    el.innerHTML = file_path;\n                    kql_Magic__52b1ab41_869e_4138_9e40_2a4457f09bf0_at_loganalytics_schema.document.body.appendChild(el);\n                }\n            }\n            </script>\n\n            </body></html>",
            "text/plain": "<IPython.core.display.HTML object>"
          },
          "metadata": {}
        }
      ]
    },
    {
      "metadata": {},
      "cell_type": "markdown",
      "source": "#### Authentication and Configuration Problems\n\n<br>\n<details>\n    <summary>Click for details about configuring your authentication parameters</summary>\n    \nThe notebook is expecting your Azure Sentinel Tenant ID and Workspace ID to be configured in one of the following places:\n- `config.json` in the current folder\n- `msticpyconfig.yaml` in the current folder or location specified by `MSTICPYCONFIG` environment variable.\n    \nFor help with setting up your `config.json` file (if this hasn't been done automatically) see the [`ConfiguringNotebookEnvironment`](https://github.com/Azure/Azure-Sentinel-Notebooks/blob/master/ConfiguringNotebookEnvironment.ipynb) notebook in the root folder of your Azure-Sentinel-Notebooks project. This shows you how to obtain your Workspace and Subscription IDs from the Azure Sentinel Portal. You can use the SubscriptionID to find your Tenant ID). To view the current `config.json` run the following in a code cell.\n\n```%pfile config.json```\n\nFor help with setting up your `msticpyconfig.yaml` see the [Setup](#Setup) section at the end of this notebook and the [ConfigureNotebookEnvironment notebook](https://github.com/Azure/Azure-Sentinel-Notebooks/blob/master/ConfiguringNotebookEnvironment.ipynb)\n</details>"
    },
    {
      "metadata": {},
      "cell_type": "markdown",
      "source": "## Select the domain or URL you wish to investigate\nEnter the domain or URL you wish to investigate."
    },
    {
      "metadata": {
        "ExecuteTime": {
          "end_time": "2019-10-18T21:20:09.745908Z",
          "start_time": "2019-10-18T21:20:09.720909Z"
        },
        "trusted": true
      },
      "cell_type": "code",
      "source": "domain_url = widgets.Text(description='Please enter your the domain or URL to investigate:',\n                          **WIDGET_DEFAULTS)\ndisplay(domain_url)\n#                                          auto_display=True)",
      "execution_count": 68,
      "outputs": [
        {
          "output_type": "display_data",
          "data": {
            "application/vnd.jupyter.widget-view+json": {
              "model_id": "c5c7adf37318427dbedabe60712e0da3",
              "version_minor": 0,
              "version_major": 2
            },
            "text/plain": "Text(value='', description='Please enter your the domain or URL to investigate:', layout=Layout(width='900px')…"
          },
          "metadata": {}
        }
      ]
    },
    {
      "metadata": {
        "ExecuteTime": {
          "end_time": "2019-10-18T21:20:17.060752Z",
          "start_time": "2019-10-18T21:20:16.56161Z"
        },
        "trusted": true
      },
      "cell_type": "code",
      "source": "import tldextract\ngraph_items = []\ndom_val = domain_utils.DomainValidator()\nsummary = observationlist.Observations()\ndom_record = None\nurl=domain_url.value.strip().lower()\n_, domain, tld = tldextract.extract(domain_url.value)\ndomain = domain.lower() + \".\" + tld.lower()\nif dom_val.validate_tld(domain) is not True:\n    md(f\"{domain} is not a valid domain name\", \"bold\")\n\nif url != domain:\n    md(f\"<strong>Domain</strong> : {domain}\")\n    md(f\"<strong>URL</strong> : {url}\")\n    graph_items.append((domain,url))\nelse:\n    md(f\"<strong>Domain</strong> : {domain}\")\n    url = None",
      "execution_count": 88,
      "outputs": [
        {
          "output_type": "display_data",
          "data": {
            "text/markdown": "<p style=''><strong>Domain</strong> : amazon.com</p>",
            "text/plain": "<IPython.core.display.Markdown object>"
          },
          "metadata": {}
        },
        {
          "output_type": "display_data",
          "data": {
            "text/markdown": "<p style=''><strong>URL</strong> : https://amazon.com</p>",
            "text/plain": "<IPython.core.display.Markdown object>"
          },
          "metadata": {}
        }
      ]
    },
    {
      "metadata": {},
      "cell_type": "markdown",
      "source": "If you are certain the above indicators are malicious and wish to jump straight to investigating thier scope of impact in the environment jump to <a>Related Alerts</a>.\n\n## Domain Overview"
    },
    {
      "metadata": {
        "slideshow": {
          "slide_type": "subslide"
        }
      },
      "cell_type": "markdown",
      "source": "### Threat Intelligence\nAs a first step we want to establish if this domain or URL is known to to be malicious by our Threat Intelligence providers."
    },
    {
      "metadata": {
        "ExecuteTime": {
          "end_time": "2019-10-18T21:21:06.100423Z",
          "start_time": "2019-10-18T21:20:59.018526Z"
        },
        "scrolled": false,
        "trusted": true
      },
      "cell_type": "code",
      "source": "domain_ti = tilookup.result_to_df(tilookup.lookup_ioc(observable=domain, ioc_type='dns'))\nif url is not None:\n    url_ti = tilookup.result_to_df(tilookup.lookup_ioc(observable=url, ioc_type='url'))\n    md(f\"Threat Intelligence Results for {url}\", \"bold\")\n    display(url_ti.T)\n    summary.add_observation(caption=\"URL TI\", description=f\"Summary of TI for {url}\", data=url_ti)\n    graph_items += [((url,provider)) for provider in url_ti.index if url_ti.loc[provider]['Severity'] > 0] \nmd(f\"Threat Intelligence Results for {domain}\", \"bold\")\ndisplay(domain_ti.T)\nsummary.add_observation(caption=\"Domain TI\", description=f\"Summary of TI for {domain}\", data=domain_ti)\ngraph_items += [((domain,provider)) for provider in domain_ti.index if domain_ti.loc[provider]['Severity'] > 0]",
      "execution_count": 71,
      "outputs": [
        {
          "output_type": "display_data",
          "data": {
            "text/markdown": "<p style='font-weight: bold'>Threat Intelligence Results for https://ohyaya.raiseyourdongers.pw/</p>",
            "text/plain": "<IPython.core.display.Markdown object>"
          },
          "metadata": {}
        },
        {
          "output_type": "display_data",
          "data": {
            "text/html": "<div>\n<style scoped>\n    .dataframe tbody tr th:only-of-type {\n        vertical-align: middle;\n    }\n\n    .dataframe tbody tr th {\n        vertical-align: top;\n    }\n\n    .dataframe thead th {\n        text-align: right;\n    }\n</style>\n<table border=\"1\" class=\"dataframe\">\n  <thead>\n    <tr style=\"text-align: right;\">\n      <th></th>\n      <th>OTX</th>\n      <th>XForce</th>\n      <th>VirusTotal</th>\n    </tr>\n  </thead>\n  <tbody>\n    <tr>\n      <th>Ioc</th>\n      <td>https://ohyaya.raiseyourdongers.pw/</td>\n      <td>https://ohyaya.raiseyourdongers.pw/</td>\n      <td>https://ohyaya.raiseyourdongers.pw/</td>\n    </tr>\n    <tr>\n      <th>IocType</th>\n      <td>url</td>\n      <td>url</td>\n      <td>url</td>\n    </tr>\n    <tr>\n      <th>QuerySubtype</th>\n      <td>None</td>\n      <td>None</td>\n      <td>None</td>\n    </tr>\n    <tr>\n      <th>Provider</th>\n      <td>OTX</td>\n      <td>XForce</td>\n      <td>VirusTotal</td>\n    </tr>\n    <tr>\n      <th>Result</th>\n      <td>True</td>\n      <td>True</td>\n      <td>False</td>\n    </tr>\n    <tr>\n      <th>Severity</th>\n      <td>0</td>\n      <td>0</td>\n      <td>0</td>\n    </tr>\n    <tr>\n      <th>Details</th>\n      <td>{'pulse_count': 0, 'sections_available': ['general', 'url_list', 'http_scans']}</td>\n      <td>{'score': 0, 'cats': None, 'categoryDescriptions': None, 'reason': None, 'reasonDescription': 0,...</td>\n      <td>Request forbidden. Allowed query rate may have been exceeded.</td>\n    </tr>\n    <tr>\n      <th>RawResult</th>\n      <td>{'indicator': 'https://ohyaya.raiseyourdongers.pw', 'alexa': 'http://www.alexa.com/siteinfo/rais...</td>\n      <td>{'result': {'url': 'raiseyourdongers.pw', 'cats': {'Malware': True, 'Botnet Command and Control ...</td>\n      <td>&lt;Response [403]&gt;</td>\n    </tr>\n    <tr>\n      <th>Reference</th>\n      <td>https://otx.alienvault.com/api/v1/indicators/url/https://ohyaya.raiseyourdongers.pw//general</td>\n      <td>https://api.xforce.ibmcloud.com/url/https://ohyaya.raiseyourdongers.pw/</td>\n      <td>https://www.virustotal.com/vtapi/v2/url/report</td>\n    </tr>\n    <tr>\n      <th>Status</th>\n      <td>0</td>\n      <td>0</td>\n      <td>403</td>\n    </tr>\n  </tbody>\n</table>\n</div>",
            "text/plain": "                                                                                                              OTX  \\\nIoc                                                                           https://ohyaya.raiseyourdongers.pw/   \nIocType                                                                                                       url   \nQuerySubtype                                                                                                 None   \nProvider                                                                                                      OTX   \nResult                                                                                                       True   \nSeverity                                                                                                        0   \nDetails                           {'pulse_count': 0, 'sections_available': ['general', 'url_list', 'http_scans']}   \nRawResult     {'indicator': 'https://ohyaya.raiseyourdongers.pw', 'alexa': 'http://www.alexa.com/siteinfo/rais...   \nReference            https://otx.alienvault.com/api/v1/indicators/url/https://ohyaya.raiseyourdongers.pw//general   \nStatus                                                                                                          0   \n\n                                                                                                           XForce  \\\nIoc                                                                           https://ohyaya.raiseyourdongers.pw/   \nIocType                                                                                                       url   \nQuerySubtype                                                                                                 None   \nProvider                                                                                                   XForce   \nResult                                                                                                       True   \nSeverity                                                                                                        0   \nDetails       {'score': 0, 'cats': None, 'categoryDescriptions': None, 'reason': None, 'reasonDescription': 0,...   \nRawResult     {'result': {'url': 'raiseyourdongers.pw', 'cats': {'Malware': True, 'Botnet Command and Control ...   \nReference                                 https://api.xforce.ibmcloud.com/url/https://ohyaya.raiseyourdongers.pw/   \nStatus                                                                                                          0   \n\n                                                                 VirusTotal  \nIoc                                     https://ohyaya.raiseyourdongers.pw/  \nIocType                                                                 url  \nQuerySubtype                                                           None  \nProvider                                                         VirusTotal  \nResult                                                                False  \nSeverity                                                                  0  \nDetails       Request forbidden. Allowed query rate may have been exceeded.  \nRawResult                                                  <Response [403]>  \nReference                    https://www.virustotal.com/vtapi/v2/url/report  \nStatus                                                                  403  "
          },
          "metadata": {}
        },
        {
          "output_type": "display_data",
          "data": {
            "text/markdown": "<p style='font-weight: bold'>Threat Intelligence Results for raiseyourdongers.pw</p>",
            "text/plain": "<IPython.core.display.Markdown object>"
          },
          "metadata": {}
        },
        {
          "output_type": "display_data",
          "data": {
            "text/html": "<div>\n<style scoped>\n    .dataframe tbody tr th:only-of-type {\n        vertical-align: middle;\n    }\n\n    .dataframe tbody tr th {\n        vertical-align: top;\n    }\n\n    .dataframe thead th {\n        text-align: right;\n    }\n</style>\n<table border=\"1\" class=\"dataframe\">\n  <thead>\n    <tr style=\"text-align: right;\">\n      <th></th>\n      <th>OTX</th>\n      <th>XForce</th>\n      <th>VirusTotal</th>\n    </tr>\n  </thead>\n  <tbody>\n    <tr>\n      <th>Ioc</th>\n      <td>raiseyourdongers.pw</td>\n      <td>raiseyourdongers.pw</td>\n      <td>raiseyourdongers.pw</td>\n    </tr>\n    <tr>\n      <th>IocType</th>\n      <td>dns</td>\n      <td>dns</td>\n      <td>dns</td>\n    </tr>\n    <tr>\n      <th>QuerySubtype</th>\n      <td>None</td>\n      <td>None</td>\n      <td>None</td>\n    </tr>\n    <tr>\n      <th>Provider</th>\n      <td>OTX</td>\n      <td>XForce</td>\n      <td>VirusTotal</td>\n    </tr>\n    <tr>\n      <th>Result</th>\n      <td>True</td>\n      <td>True</td>\n      <td>True</td>\n    </tr>\n    <tr>\n      <th>Severity</th>\n      <td>2</td>\n      <td>0</td>\n      <td>2</td>\n    </tr>\n    <tr>\n      <th>Details</th>\n      <td>{'pulse_count': 3, 'names': ['SOAC_IOCS', 'Moobot and Fbot', 'Moobot and Fbot'], 'tags': [[], ['...</td>\n      <td>{'score': 0, 'cats': None, 'categoryDescriptions': None, 'reason': None, 'reasonDescription': 0,...</td>\n      <td>{'verbose_msg': 'Domain found in dataset', 'response_code': 1, 'detected_urls': ['https://raisey...</td>\n    </tr>\n    <tr>\n      <th>RawResult</th>\n      <td>{'indicator': 'raiseyourdongers.pw', 'alexa': 'http://www.alexa.com/siteinfo/raiseyourdongers.pw...</td>\n      <td>{'result': {'url': 'raiseyourdongers.pw', 'cats': {'Malware': True, 'Botnet Command and Control ...</td>\n      <td>{'undetected_referrer_samples': [], 'dns_records_date': 1572533321, 'detected_downloaded_samples...</td>\n    </tr>\n    <tr>\n      <th>Reference</th>\n      <td>https://otx.alienvault.com/api/v1/indicators/domain/raiseyourdongers.pw/general</td>\n      <td>https://api.xforce.ibmcloud.com/url/raiseyourdongers.pw</td>\n      <td>https://www.virustotal.com/vtapi/v2/domain/report</td>\n    </tr>\n    <tr>\n      <th>Status</th>\n      <td>0</td>\n      <td>0</td>\n      <td>0</td>\n    </tr>\n  </tbody>\n</table>\n</div>",
            "text/plain": "                                                                                                              OTX  \\\nIoc                                                                                           raiseyourdongers.pw   \nIocType                                                                                                       dns   \nQuerySubtype                                                                                                 None   \nProvider                                                                                                      OTX   \nResult                                                                                                       True   \nSeverity                                                                                                        2   \nDetails       {'pulse_count': 3, 'names': ['SOAC_IOCS', 'Moobot and Fbot', 'Moobot and Fbot'], 'tags': [[], ['...   \nRawResult     {'indicator': 'raiseyourdongers.pw', 'alexa': 'http://www.alexa.com/siteinfo/raiseyourdongers.pw...   \nReference                         https://otx.alienvault.com/api/v1/indicators/domain/raiseyourdongers.pw/general   \nStatus                                                                                                          0   \n\n                                                                                                           XForce  \\\nIoc                                                                                           raiseyourdongers.pw   \nIocType                                                                                                       dns   \nQuerySubtype                                                                                                 None   \nProvider                                                                                                   XForce   \nResult                                                                                                       True   \nSeverity                                                                                                        0   \nDetails       {'score': 0, 'cats': None, 'categoryDescriptions': None, 'reason': None, 'reasonDescription': 0,...   \nRawResult     {'result': {'url': 'raiseyourdongers.pw', 'cats': {'Malware': True, 'Botnet Command and Control ...   \nReference                                                 https://api.xforce.ibmcloud.com/url/raiseyourdongers.pw   \nStatus                                                                                                          0   \n\n                                                                                                       VirusTotal  \nIoc                                                                                           raiseyourdongers.pw  \nIocType                                                                                                       dns  \nQuerySubtype                                                                                                 None  \nProvider                                                                                               VirusTotal  \nResult                                                                                                       True  \nSeverity                                                                                                        2  \nDetails       {'verbose_msg': 'Domain found in dataset', 'response_code': 1, 'detected_urls': ['https://raisey...  \nRawResult     {'undetected_referrer_samples': [], 'dns_records_date': 1572533321, 'detected_downloaded_samples...  \nReference                                                       https://www.virustotal.com/vtapi/v2/domain/report  \nStatus                                                                                                          0  "
          },
          "metadata": {}
        }
      ]
    },
    {
      "metadata": {},
      "cell_type": "markdown",
      "source": "### Domain analysis\nTo build up a fuller picture of the domain we can use whois, and other data sources to gather pertinent data. Indicators such as registration data, domain entropy, and registration details can provide indicators that a domain is not legitimate in nature."
    },
    {
      "metadata": {
        "ExecuteTime": {
          "end_time": "2019-10-17T01:05:31.061593Z",
          "start_time": "2019-10-17T01:05:30.493729Z"
        },
        "tags": [
          "todo"
        ],
        "trusted": true
      },
      "cell_type": "code",
      "source": "from whois import whois\nfrom collections import Counter\ndef Entropy(data):\n    s, lens = Counter(data), np.float(len(data))\n    return -sum(count/lens * np.log2(count/lens) for count in s.values())\ntry:\n    #Get a whis record for our domain\n    wis = whois(domain)\n    dom_record = pd.DataFrame({\"Domain\":[domain],\n                                   \"Name\":[wis['name']],\n                                   \"Org\":[wis['org']],\n                                   \"DNSSec\":[wis['dnssec']],\n                                   \"City\":[wis['city']],\n                                   \"State\":[wis['state']],\n                                   \"Country\":[wis['country']],\n                                  \"Registrar\": [wis['registrar']],\n                                  \"Status\": [wis['status']],\n                                  \"Created\":[wis['creation_date']],\n                                  \"Expiration\" : [wis['expiration_date']],\n                                  \"Last Updated\" : [wis['updated_date']],\n                                  \"Name Servers\": [wis['name_servers']]})\n    ns_domains = []\n    # Remove duplicate Name Server records\n    for server in wis['name_servers']:\n        ns_sub_d, ns_domain, ns_tld = tldextract.extract(server)\n        ns_dom = ns_domain.lower() + \".\" + ns_tld.lower()\n        if domain not in ns_domains:\n                   ns_domains.append(ns_dom)                                            \n    # Identity domains populatirty with Open Page Rank\n    page_rank = tilookup.result_to_df(tilookup.lookup_ioc(observable=domain, providers=[\"OPR\"]))\n    page_rank_score = page_rank['RawResult'][0]['response'][0]['page_rank_integer']\n    dom_record[\"Page Rank\"] = [page_rank_score]\n    # Get a list of subdomains for the domain\n    url_ti = tilookup.result_to_df(tilookup.lookup_ioc(observable=domain, providers=[\"VirusTotal\"]))\n    sub_doms = url_ti['RawResult'][0]['subdomains']\n    graph_items.append((domain, \"Sub Domains\"))\n    graph_items += [(sub,\"Sub Domains\") for sub in sub_doms]\n    dom_record['Sub Domains'] = [sub_doms]\n    # Work out domain entropy to identity possible DGA\n    dom_ent = Entropy(domain)\n    dom_record['Domains Entropy'] = [dom_ent]\n    # Add elements to graph for later plotting\n    if isinstance(dom_record['Created'],list):                                                        \n        graph_items.append((domain,dom_record['Created'][0][0]))\n    else:\n        graph_items.append((domain,dom_record['Created'][0]))\n    graph_items.append((domain, \"Name Servers\"))\n    graph_items += [((\"Name Servers\", ns)) for ns in dom_record['Name Servers'][0]]\n    graph_items += [(domain,dom_record['Registrar'][0]), (domain,dom_record['Country'][0]),(domain,f\"Page Rank : {dom_record['Page Rank'][0]}\")]\n    #TODO highlight recently register domains\n    def color_cells(val):\n        if isinstance(val, int):\n            color = 'yellow' if val < 3 else 'white'\n        elif isinstance(val, float):\n            color = 'yellow' if val < (3.2675 - 0.5) else 'white'\n        else:\n            color = 'white'\n        return 'background-color: %s' % color\n    # Display whois details and highlight interesting values\n    display(dom_record.T.style.applymap(color_cells, subset=pd.IndexSlice[['Page Rank', 'Domains Entropy'],0]))\n    summary.add_observation(caption=\"Domain Summary\", description=f\"Summary of public domain records for {domain}\", data=dom_record)\n    md(\"If Page Rank or Domain Entropy are highlighted this indicates that their values are outside the expected values of a legitimate website\")\n    md(f\"The average entropy for the 1M most popular domains is 3.2675\")\nexcept:\n    # If there is no whois data see what we can use from TI\n    url_ti = tilookup.result_to_df(tilookup.lookup_ioc(observable=domain, providers=[\"VirusTotal\"]))\n    md(f\"No current whois record exists for {domain} below are historical records\")\n    print(url_ti['RawResult'][0]['whois'])",
      "execution_count": 98,
      "outputs": [
        {
          "output_type": "display_data",
          "data": {
            "text/html": "<style  type=\"text/css\" >\n    #T_acddaf8a_fc1c_11e9_9b08_00155d575119row13_col0 {\n            background-color:  white;\n        }    #T_acddaf8a_fc1c_11e9_9b08_00155d575119row15_col0 {\n            background-color:  yellow;\n        }</style><table id=\"T_acddaf8a_fc1c_11e9_9b08_00155d575119\" ><thead>    <tr>        <th class=\"blank level0\" ></th>        <th class=\"col_heading level0 col0\" >0</th>    </tr></thead><tbody>\n                <tr>\n                        <th id=\"T_acddaf8a_fc1c_11e9_9b08_00155d575119level0_row0\" class=\"row_heading level0 row0\" >Domain</th>\n                        <td id=\"T_acddaf8a_fc1c_11e9_9b08_00155d575119row0_col0\" class=\"data row0 col0\" >amazon.com</td>\n            </tr>\n            <tr>\n                        <th id=\"T_acddaf8a_fc1c_11e9_9b08_00155d575119level0_row1\" class=\"row_heading level0 row1\" >Name</th>\n                        <td id=\"T_acddaf8a_fc1c_11e9_9b08_00155d575119row1_col0\" class=\"data row1 col0\" >Hostmaster, Amazon Legal Dept.</td>\n            </tr>\n            <tr>\n                        <th id=\"T_acddaf8a_fc1c_11e9_9b08_00155d575119level0_row2\" class=\"row_heading level0 row2\" >Org</th>\n                        <td id=\"T_acddaf8a_fc1c_11e9_9b08_00155d575119row2_col0\" class=\"data row2 col0\" >Amazon Technologies, Inc.</td>\n            </tr>\n            <tr>\n                        <th id=\"T_acddaf8a_fc1c_11e9_9b08_00155d575119level0_row3\" class=\"row_heading level0 row3\" >DNSSec</th>\n                        <td id=\"T_acddaf8a_fc1c_11e9_9b08_00155d575119row3_col0\" class=\"data row3 col0\" >unsigned</td>\n            </tr>\n            <tr>\n                        <th id=\"T_acddaf8a_fc1c_11e9_9b08_00155d575119level0_row4\" class=\"row_heading level0 row4\" >City</th>\n                        <td id=\"T_acddaf8a_fc1c_11e9_9b08_00155d575119row4_col0\" class=\"data row4 col0\" >Reno</td>\n            </tr>\n            <tr>\n                        <th id=\"T_acddaf8a_fc1c_11e9_9b08_00155d575119level0_row5\" class=\"row_heading level0 row5\" >State</th>\n                        <td id=\"T_acddaf8a_fc1c_11e9_9b08_00155d575119row5_col0\" class=\"data row5 col0\" >NV</td>\n            </tr>\n            <tr>\n                        <th id=\"T_acddaf8a_fc1c_11e9_9b08_00155d575119level0_row6\" class=\"row_heading level0 row6\" >Country</th>\n                        <td id=\"T_acddaf8a_fc1c_11e9_9b08_00155d575119row6_col0\" class=\"data row6 col0\" >US</td>\n            </tr>\n            <tr>\n                        <th id=\"T_acddaf8a_fc1c_11e9_9b08_00155d575119level0_row7\" class=\"row_heading level0 row7\" >Registrar</th>\n                        <td id=\"T_acddaf8a_fc1c_11e9_9b08_00155d575119row7_col0\" class=\"data row7 col0\" >MarkMonitor, Inc.</td>\n            </tr>\n            <tr>\n                        <th id=\"T_acddaf8a_fc1c_11e9_9b08_00155d575119level0_row8\" class=\"row_heading level0 row8\" >Status</th>\n                        <td id=\"T_acddaf8a_fc1c_11e9_9b08_00155d575119row8_col0\" class=\"data row8 col0\" >['clientDeleteProhibited https://icann.org/epp#clientDeleteProhibited', 'clientTransferProhibited https://icann.org/epp#clientTransferProhibited', 'clientUpdateProhibited https://icann.org/epp#clientUpdateProhibited', 'serverDeleteProhibited https://icann.org/epp#serverDeleteProhibited', 'serverTransferProhibited https://icann.org/epp#serverTransferProhibited', 'serverUpdateProhibited https://icann.org/epp#serverUpdateProhibited', 'clientUpdateProhibited (https://www.icann.org/epp#clientUpdateProhibited)', 'clientTransferProhibited (https://www.icann.org/epp#clientTransferProhibited)', 'clientDeleteProhibited (https://www.icann.org/epp#clientDeleteProhibited)', 'serverUpdateProhibited (https://www.icann.org/epp#serverUpdateProhibited)', 'serverTransferProhibited (https://www.icann.org/epp#serverTransferProhibited)', 'serverDeleteProhibited (https://www.icann.org/epp#serverDeleteProhibited)']</td>\n            </tr>\n            <tr>\n                        <th id=\"T_acddaf8a_fc1c_11e9_9b08_00155d575119level0_row9\" class=\"row_heading level0 row9\" >Created</th>\n                        <td id=\"T_acddaf8a_fc1c_11e9_9b08_00155d575119row9_col0\" class=\"data row9 col0\" >[datetime.datetime(1994, 11, 1, 5, 0), datetime.datetime(1994, 10, 31, 21, 0)]</td>\n            </tr>\n            <tr>\n                        <th id=\"T_acddaf8a_fc1c_11e9_9b08_00155d575119level0_row10\" class=\"row_heading level0 row10\" >Expiration</th>\n                        <td id=\"T_acddaf8a_fc1c_11e9_9b08_00155d575119row10_col0\" class=\"data row10 col0\" >[datetime.datetime(2024, 10, 31, 4, 0), datetime.datetime(2024, 10, 30, 0, 0)]</td>\n            </tr>\n            <tr>\n                        <th id=\"T_acddaf8a_fc1c_11e9_9b08_00155d575119level0_row11\" class=\"row_heading level0 row11\" >Last Updated</th>\n                        <td id=\"T_acddaf8a_fc1c_11e9_9b08_00155d575119row11_col0\" class=\"data row11 col0\" >[datetime.datetime(2019, 5, 7, 20, 9, 37), datetime.datetime(2019, 8, 26, 12, 19, 56)]</td>\n            </tr>\n            <tr>\n                        <th id=\"T_acddaf8a_fc1c_11e9_9b08_00155d575119level0_row12\" class=\"row_heading level0 row12\" >Name Servers</th>\n                        <td id=\"T_acddaf8a_fc1c_11e9_9b08_00155d575119row12_col0\" class=\"data row12 col0\" >['NS1.P31.DYNECT.NET', 'NS2.P31.DYNECT.NET', 'NS3.P31.DYNECT.NET', 'NS4.P31.DYNECT.NET', 'PDNS1.ULTRADNS.NET', 'PDNS6.ULTRADNS.CO.UK', 'ns1.p31.dynect.net', 'pdns1.ultradns.net', 'ns4.p31.dynect.net', 'ns2.p31.dynect.net', 'pdns6.ultradns.co.uk', 'ns3.p31.dynect.net']</td>\n            </tr>\n            <tr>\n                        <th id=\"T_acddaf8a_fc1c_11e9_9b08_00155d575119level0_row13\" class=\"row_heading level0 row13\" >Page Rank</th>\n                        <td id=\"T_acddaf8a_fc1c_11e9_9b08_00155d575119row13_col0\" class=\"data row13 col0\" >9</td>\n            </tr>\n            <tr>\n                        <th id=\"T_acddaf8a_fc1c_11e9_9b08_00155d575119level0_row14\" class=\"row_heading level0 row14\" >Sub Domains</th>\n                        <td id=\"T_acddaf8a_fc1c_11e9_9b08_00155d575119row14_col0\" class=\"data row14 col0\" >['fls-eu.amazon.com', 'api.amazon.com', 'sellercentral-europe.amazon.com', 'amazonlive-portal.amazon.com', 'in.amazon.com', 'unagi-cn.amazon.com', 'indigo-backend-ops.amazon.com', 'astore.amazon.com', 'unagi-na.amazon.com', 'comms-epms-na.amazon.com', 'applab-sdk.amazon.com', 'atv-ps.amazon.com', 'primenow.amazon.com', 'carnaval.amazon.com', 'source.amazon.com', 'registrar.amazon.com', 'sellercentral.amazon.com', 'images-jp.amazon.com', 'shm.amazon.com', 'transient.amazon.com', 'ir-relationship-management-pre-prod.amazon.com', 'fls-fe.amazon.com', 'cordrizene-na.amazon.com', 'msh.amazon.com', 'rcm.amazon.com', 'images.amazon.com', 'g-images.amazon.com', 'device-metrics-us-2.amazon.com', 'us.amazon.com', 'grc.amazon.com', 'tiny.amazon.com', 'det-ta-g7g.amazon.com', 'payments-uk.amazon.com', 'kindle-time.amazon.com', 'smile.amazon.com', 'advertising.amazon.com', 'w.amazon.com', 'pay.amazon.com', 'af-mobile-api.amazon.com', 'rcm-images.amazon.com', 'twitch.amazon.com', 'services.amazon.com', 'prime.amazon.com', 'sellercentral-japan.amazon.com', 'aan.amazon.com', 'tetryon.amazon.com', 'uedata.amazon.com', 'music.amazon.com', 'unagi-fe.amazon.com', 'mads.amazon.com', 'it.amazon.com', 'arcus-uswest.amazon.com', 'alexa.amazon.com', 'asmw.amazon.com', 'kdp.amazon.com', 'fls-na.amazon.com', 'ws.amazon.com', 'www.amazon.com', 'sendtokindle.amazon.com', 'polaron.amazon.com', 'retail-smtp-in.amazon.com', 'completion.amazon.com', 'pipelines.amazon.com', 'mobile-associates-service.amazon.com', 'sim.amazon.com', 'watch.amazon.com', 'aws-us-east-1.amazon.com', 'read.amazon.com', 'payments.amazon.com', 'kuato.amazon.com', 'merch.amazon.com', 'cn.amazon.com', 'torch.amazon.com', 'tiny-preprod.amazon.com', 'vote.amazon.com', 'dp-gw-na-js.amazon.com', 'look-see.amazon.com', 'unagi-eu.amazon.com', 'techchallenge.amazon.com', 'arcus-www.amazon.com', 'origin-www.amazon.com', 'huddles.amazon.com', 'p-nt-www-amazon-com-kalias.amazon.com', 'mobile-app-expan.amazon.com', 'corbomite-eu.amazon.com', 'dynamic-ui-service-eu.amazon.com', 'dynamic-ui-service-na.amazon.com', 'api-cdn.amazon.com', 'bob-dispatch-prerelease-fe.amazon.com', 'dp-sps-jp.amazon.com', 'taktzeit.amazon.com', 'gio-catalog.amazon.com', 'developer.amazon.com', 'logistics.amazon.com', 'monitorportal.amazon.com', 'cr.amazon.com', 'flux.amazon.com', 'maxis-service-integ-pdx.amazon.com', 'dynamic-ui-service-fe.amazon.com', 'photos.amazon.com']</td>\n            </tr>\n            <tr>\n                        <th id=\"T_acddaf8a_fc1c_11e9_9b08_00155d575119level0_row15\" class=\"row_heading level0 row15\" >Domains Entropy</th>\n                        <td id=\"T_acddaf8a_fc1c_11e9_9b08_00155d575119row15_col0\" class=\"data row15 col0\" >2.72193</td>\n            </tr>\n    </tbody></table>",
            "text/plain": "<pandas.io.formats.style.Styler at 0x7f37f22c6240>"
          },
          "metadata": {}
        },
        {
          "output_type": "display_data",
          "data": {
            "text/markdown": "<p style=''>If Page Rank or Domain Entropy are highlighted this indicates that thier values are outside the expected values of a legitimate website</p>",
            "text/plain": "<IPython.core.display.Markdown object>"
          },
          "metadata": {}
        },
        {
          "output_type": "display_data",
          "data": {
            "text/markdown": "<p style=''>The average entropy for the 1M most popular domains is 3.2675</p>",
            "text/plain": "<IPython.core.display.Markdown object>"
          },
          "metadata": {}
        }
      ]
    },
    {
      "metadata": {
        "ExecuteTime": {
          "end_time": "2019-09-26T23:52:25.059639Z",
          "start_time": "2019-09-26T23:52:25.056638Z"
        }
      },
      "cell_type": "markdown",
      "source": "### TLS Cert Details\nDoes the domain have an associated tls certificate and if so is that certificate blacklisted by abuse.ch?\nDetails such as the certificate's subject and issuer can also provide indicators as to the domains nature."
    },
    {
      "metadata": {
        "ExecuteTime": {
          "end_time": "2019-10-17T01:05:31.772971Z",
          "start_time": "2019-10-17T01:05:31.765999Z"
        },
        "trusted": true
      },
      "cell_type": "code",
      "source": "if url is not None:\n    scope = url\nelse:\n    scope = domain\n\n# See if TLS cert is in abuse.ch blacklist and get cert details\nresult, x509 = dom_val.ssl_blacklisted(scope)\n\nif x509 is not None:\n    cert_df = pd.DataFrame({\"SN\" :[x509.serial_number],\n                            \"Subject\":[[(i.value) for i in x509.subject]],\n                            \"Issuer\": [[(i.value) for i in x509.issuer]],\n                            \"Expired\": [x509.not_valid_after],\n                            \"In SSLBL?\": result})\n\n    display(cert_df.T)\n    summary.add_observation(caption=\"TLS Summary\", description=f\"Summary of TLS certificate for {domain}\", data=cert_df)\n    md(\"If 'In SSLBL?' is True this shows that the SSL certificate figerprint appeared in the abuse.ch blacklist\")\n    graph_items.append((domain,result))\n\nelse:\n    md(\"No Blacklisted TLS certificate was found.\")",
      "execution_count": 73,
      "outputs": [
        {
          "output_type": "display_data",
          "data": {
            "text/markdown": "<p style=''>No Blacklisted TLS certificate was found.</p>",
            "text/plain": "<IPython.core.display.Markdown object>"
          },
          "metadata": {}
        }
      ]
    },
    {
      "metadata": {},
      "cell_type": "markdown",
      "source": "### Reverse DNS details\nWhat IP address is assocatiated with this domain, what do we know about that IP?\nWhat other domains have been associated with this IP, and is it a known ToR exit node?"
    },
    {
      "metadata": {
        "ExecuteTime": {
          "end_time": "2019-10-17T01:05:33.091561Z",
          "start_time": "2019-10-17T01:05:32.765303Z"
        },
        "scrolled": false,
        "trusted": true
      },
      "cell_type": "code",
      "source": "import dns.resolver\nfrom dns.resolver import NXDOMAIN\nfrom ipwhois import IPWhois\n\nif dom_val.is_resolvable(domain) is True:\n    try:\n        answer = dns.resolver.query(f\"www.{domain}\", 'A')\n    except NXDOMAIN:\n        raise ValueError(\"Could not resolve IP addresses from domain.\")\n    x = answer[0].to_text()\n    whois = IPWhois(x)\n    ipwis = whois.lookup_whois()\n    ip_rec = pd.DataFrame({\"IP Address\": [x],\n                           \"ASN\" : [ipwis['asn']],\n                         \"ASN Owner\": [ipwis['asn_description']],\n                          \"Country\" : [ipwis['asn_country_code']],\n                          \"Date\": [ipwis['asn_date']]})\n    ip_addresses = ip_rec['IP Address'].to_list()\n    graph_items += [\n        (ip_rec[\"IP Address\"][0],domain),\n        (ip_rec[\"IP Address\"][0],ip_rec[\"ASN\"][0]),\n        (ip_rec[\"ASN Owner\"][0],ip_rec[\"ASN\"][0]),\n        (ip_rec[\"Country\"][0],ip_rec[\"ASN\"][0])\n    ]\n    \n    tor = None\n    if \"Tor\" in tilookup.loaded_providers:\n        tor = tilookup.result_to_df(tilookup.lookup_ioc(observable=ip_rec['IP Address'][0], providers=[\"Tor\"]))\n    if tor is None or tor['Details'][0] == \"Not found.\":\n        ip_rec['Tor Node?'] = \"No\"\n    else:\n        ip_rec['Tor Node?'] = \"Yes\"\n        graph_items.append((ip_rec[\"IP Address\"][0],\"Tor Node\"))\n    ip_ti = tilookup.result_to_df(tilookup.lookup_ioc(observable=ip_rec['IP Address'][0]))\n    last_10 = ip_ti.T['VirusTotal']['RawResult'][\"resolutions\"][0:10]\n    prev_domains = []\n    for record in last_10:\n        prev_domains.append(record['hostname'])\n        graph_items.append((record['hostname'],ip_rec[\"IP Address\"][0]))   \n    ip_rec[\"Last 10 resolutions\"] = [prev_domains]\n    display(ip_rec.T)\n    summary.add_observation(caption=\"IP Summary\", description=f\"Summary of IP assocaiated with {domain}\", data=ip_rec)\nelse:\n    ip_ti = tilookup.result_to_df(tilookup.lookup_ioc(observable=answer[0].to_text()))\n    print(ip_ti.T['VirusTotal']['RawResult'])",
      "execution_count": 99,
      "outputs": [
        {
          "output_type": "display_data",
          "data": {
            "text/html": "<div>\n<style scoped>\n    .dataframe tbody tr th:only-of-type {\n        vertical-align: middle;\n    }\n\n    .dataframe tbody tr th {\n        vertical-align: top;\n    }\n\n    .dataframe thead th {\n        text-align: right;\n    }\n</style>\n<table border=\"1\" class=\"dataframe\">\n  <thead>\n    <tr style=\"text-align: right;\">\n      <th></th>\n      <th>0</th>\n    </tr>\n  </thead>\n  <tbody>\n    <tr>\n      <th>IP Address</th>\n      <td>13.249.28.218</td>\n    </tr>\n    <tr>\n      <th>ASN</th>\n      <td>16509</td>\n    </tr>\n    <tr>\n      <th>ASN Owner</th>\n      <td>AMAZON-02 - Amazon.com, Inc., US</td>\n    </tr>\n    <tr>\n      <th>Country</th>\n      <td>US</td>\n    </tr>\n    <tr>\n      <th>Date</th>\n      <td>2016-08-09</td>\n    </tr>\n    <tr>\n      <th>Tor Node?</th>\n      <td>No</td>\n    </tr>\n    <tr>\n      <th>Last 10 resolutions</th>\n      <td>[www.amazon.com]</td>\n    </tr>\n  </tbody>\n</table>\n</div>",
            "text/plain": "                                                    0\nIP Address                              13.249.28.218\nASN                                             16509\nASN Owner            AMAZON-02 - Amazon.com, Inc., US\nCountry                                            US\nDate                                       2016-08-09\nTor Node?                                          No\nLast 10 resolutions                  [www.amazon.com]"
          },
          "metadata": {}
        }
      ]
    },
    {
      "metadata": {
        "ExecuteTime": {
          "end_time": "2019-09-27T22:21:13.478223Z",
          "start_time": "2019-09-27T22:21:13.475222Z"
        }
      },
      "cell_type": "markdown",
      "source": "### Site Screenshot\nUsing https://browshot.com/ return a screenshot of the domain or url being investigated. This can help us identify if the site is a phishing portal."
    },
    {
      "metadata": {
        "ExecuteTime": {
          "end_time": "2019-10-17T00:55:11.141136Z",
          "start_time": "2019-10-17T00:54:48.725971Z"
        },
        "scrolled": false,
        "tags": [
          "todo"
        ],
        "trusted": true
      },
      "cell_type": "code",
      "source": "if url is not None:\n    image_data = domain_utils.screenshot(url)\nelse:\n    image_data = domain_utils.screenshot(domain)\n    \nwith open('screenshot.png', 'wb') as f:\n        f.write(image_data.content)\n\ndisplay(Image(filename='screenshot.png'))",
      "execution_count": 79,
      "outputs": [
        {
          "output_type": "error",
          "ename": "AttributeError",
          "evalue": "No configuration found for Browshot",
          "traceback": [
            "\u001b[0;31m---------------------------------------------------------------------------\u001b[0m",
            "\u001b[0;31mAttributeError\u001b[0m                            Traceback (most recent call last)",
            "\u001b[0;32m<ipython-input-79-3d8ae5bc2a1c>\u001b[0m in \u001b[0;36m<module>\u001b[0;34m\u001b[0m\n\u001b[1;32m      1\u001b[0m \u001b[0;32mif\u001b[0m \u001b[0murl\u001b[0m \u001b[0;32mis\u001b[0m \u001b[0;32mnot\u001b[0m \u001b[0;32mNone\u001b[0m\u001b[0;34m:\u001b[0m\u001b[0;34m\u001b[0m\u001b[0m\n\u001b[0;32m----> 2\u001b[0;31m     \u001b[0mimage_data\u001b[0m \u001b[0;34m=\u001b[0m \u001b[0mdomain_utils\u001b[0m\u001b[0;34m.\u001b[0m\u001b[0mscreenshot\u001b[0m\u001b[0;34m(\u001b[0m\u001b[0murl\u001b[0m\u001b[0;34m)\u001b[0m\u001b[0;34m\u001b[0m\u001b[0m\n\u001b[0m        \u001b[0;36mglobal\u001b[0m \u001b[0;36mimage_data\u001b[0m \u001b[0;34m= \u001b[0;36mundefined\u001b[0m\u001b[0m\u001b[0;34m\n        \u001b[0m\u001b[0;36mglobal\u001b[0m \u001b[0;36mdomain_utils.screenshot\u001b[0m \u001b[0;34m= <function screenshot at 0x7f38287d8e18>\u001b[0m\u001b[0;34m\n        \u001b[0m\u001b[0;36mglobal\u001b[0m \u001b[0;36murl\u001b[0m \u001b[0;34m= 'https://ohyaya.raiseyourdongers.pw/'\u001b[0m\n\u001b[1;32m      3\u001b[0m \u001b[0;32melse\u001b[0m\u001b[0;34m:\u001b[0m\u001b[0;34m\u001b[0m\u001b[0m\n\u001b[1;32m      4\u001b[0m     \u001b[0mimage_data\u001b[0m \u001b[0;34m=\u001b[0m \u001b[0mdomain_utils\u001b[0m\u001b[0;34m.\u001b[0m\u001b[0mscreenshot\u001b[0m\u001b[0;34m(\u001b[0m\u001b[0mdomain\u001b[0m\u001b[0;34m)\u001b[0m\u001b[0;34m\u001b[0m\u001b[0m\n\u001b[1;32m      5\u001b[0m \u001b[0;34m\u001b[0m\u001b[0m\n",
            "\u001b[0;32m~/anaconda3_501/lib/python3.6/site-packages/msticpy/sectools/domain_utils.py\u001b[0m in \u001b[0;36mscreenshot\u001b[0;34m(url='https://ohyaya.raiseyourdongers.pw/', api_key=None)\u001b[0m\n\u001b[1;32m     61\u001b[0m         \u001b[0mbs_api_key\u001b[0m \u001b[0;34m=\u001b[0m \u001b[0mconfig\u001b[0m\u001b[0;34m.\u001b[0m\u001b[0msettings\u001b[0m\u001b[0;34m.\u001b[0m\u001b[0mget\u001b[0m\u001b[0;34m(\u001b[0m\u001b[0;34m\"Browshot\"\u001b[0m\u001b[0;34m)\u001b[0m\u001b[0;34m[\u001b[0m\u001b[0;34m\"Args\"\u001b[0m\u001b[0;34m]\u001b[0m\u001b[0;34m[\u001b[0m\u001b[0;34m\"AuthKey\"\u001b[0m\u001b[0;34m]\u001b[0m\u001b[0;34m\u001b[0m\u001b[0m\n\u001b[1;32m     62\u001b[0m     \u001b[0;32melse\u001b[0m\u001b[0;34m:\u001b[0m\u001b[0;34m\u001b[0m\u001b[0m\n\u001b[0;32m---> 63\u001b[0;31m         \u001b[0;32mraise\u001b[0m \u001b[0mAttributeError\u001b[0m\u001b[0;34m(\u001b[0m\u001b[0;34m\"No configuration found for Browshot\"\u001b[0m\u001b[0;34m)\u001b[0m\u001b[0;34m\u001b[0m\u001b[0m\n\u001b[0m        \u001b[0;36mglobal\u001b[0m \u001b[0;36mAttributeError\u001b[0m \u001b[0;34m= \u001b[0;36mundefined\u001b[0m\u001b[0m\n\u001b[1;32m     64\u001b[0m     \u001b[0;31m# Request screenshot from Browshot and get request ID\u001b[0m\u001b[0;34m\u001b[0m\u001b[0;34m\u001b[0m\u001b[0m\n\u001b[1;32m     65\u001b[0m     \u001b[0mid_string\u001b[0m \u001b[0;34m=\u001b[0m \u001b[0;34mf\"https://api.browshot.com/api/v1/screenshot/create?url={url}/&instance_id=26&size=screen&cache=0&key={bs_api_key}\"\u001b[0m  \u001b[0;31m# pylint: disable=line-too-long\u001b[0m\u001b[0;34m\u001b[0m\u001b[0m\n",
            "\u001b[0;31mAttributeError\u001b[0m: No configuration found for Browshot"
          ]
        }
      ]
    },
    {
      "metadata": {},
      "cell_type": "markdown",
      "source": "### Domain Summary\nIn order to effectively evaluate the data collected above we will graph the elements to help highlight connections."
    },
    {
      "metadata": {
        "ExecuteTime": {
          "end_time": "2019-10-17T01:05:38.170265Z",
          "start_time": "2019-10-17T01:05:38.166269Z"
        },
        "trusted": true
      },
      "cell_type": "code",
      "source": "# Create graph from items saved to graph_items\nimport networkx as nx\nimport matplotlib.pyplot as plt\nG=nx.Graph()\nfor item in graph_items:\n    G.add_edge(item[0],str(item[1]))\n",
      "execution_count": 80,
      "outputs": []
    },
    {
      "metadata": {
        "ExecuteTime": {
          "end_time": "2019-10-17T01:05:40.197977Z",
          "start_time": "2019-10-17T01:05:40.167006Z"
        },
        "scrolled": false,
        "tags": [
          "todo"
        ],
        "trusted": true
      },
      "cell_type": "code",
      "source": "from IPython.display import HTML\n# Plot Graph with pyvis\nnet=Network(height=900, width=900, notebook=True)\nnet.barnes_hut()\nnet.from_nx(G)\nnet.set_options(\"\"\"\nvar options = {\"nodes\": {\"color\": {\"highlight\": {\"border\": \"rgba(233,77,49,1)\"},\"hover\": {\"border\": \"rgba(233,77,49,1)\"}},\n    \"scaling\": {\"min\": 1},\"size\": 7},\n    \"edges\": {\"color\": {\"inherit\": true}, \"smooth\": false},\n    \"interaction\": {\"hover\": true,\"multiselect\": true},\n    \"manipulation\": {\"enabled\": true},\n    \"physics\": {\"enabled\": false,\"barnesHut\": {\"gravitationalConstant\": -80000,\"springLength\": 250,\"springConstant\": 0.001},\"minVelocity\": 0.75}\n}\"\"\")\nnet.show(\"graph.html\")\n# If the intereactive graph does not display correcrtly uncomment the three lines below to access display a non-interactive version\n#import matplotlib.pyplot as plt\n#plt.figure(3,figsize=(12,12))\n#nx.draw(G, with_labels=True, font_weight='bold')",
      "execution_count": 81,
      "outputs": [
        {
          "output_type": "execute_result",
          "execution_count": 81,
          "data": {
            "text/html": "\n        <iframe\n            width=\"900\"\n            height=\"900\"\n            src=\"graph.html\"\n            frameborder=\"0\"\n            allowfullscreen\n        ></iframe>\n        ",
            "text/plain": "<IPython.lib.display.IFrame at 0x7f38013241d0>"
          },
          "metadata": {}
        }
      ]
    },
    {
      "metadata": {
        "ExecuteTime": {
          "end_time": "2019-09-27T00:28:22.232839Z",
          "start_time": "2019-09-27T00:28:22.229839Z"
        }
      },
      "cell_type": "markdown",
      "source": "# Domain/URL in the Environment\nOnce we have determined the nature of the domain or URL under investigation we want to see what the scope of impact is in our environment but identifying any presence of the domain or URL in our datasets.\nIf the domain has a high page rank score it is likely that it will be highly prevalent in a large environment, therefore you may wish to consider whether or not to run these cells for such a domain due to the data volumes involved."
    },
    {
      "metadata": {
        "ExecuteTime": {
          "end_time": "2019-10-11T23:45:21.356462Z",
          "start_time": "2019-10-11T23:45:21.351463Z"
        },
        "trusted": true
      },
      "cell_type": "code",
      "source": "if dom_record is None or int(dom_record[\"Page Rank\"]) < 6:\n    warning = None\nelse:\n    md_warn(f\"{domain} has a high Page Rank score, it is likely to be highly prevalent in the environment.\")\n    md(\"Please confirm below that you wish to proceed, note that some queries are likely to be slow due to large amounts of data\", \"bold\")\n    warning = widgets.Checkbox(\n        value=False,\n        description='Are you sure?',\n        disabled=False\n    )\n    display(warning)",
      "execution_count": 100,
      "outputs": [
        {
          "output_type": "display_data",
          "data": {
            "text/markdown": "<p style='font-weight: bold;color: red;font-size: 130%'>Warning: amazon.com has a high Page Rank score, it is likely to be highly prevalent in the environment.</p>",
            "text/plain": "<IPython.core.display.Markdown object>"
          },
          "metadata": {}
        },
        {
          "output_type": "display_data",
          "data": {
            "text/markdown": "<p style='font-weight: bold'>Please confirm below that you wish to proceed, note that some queries are likely to be slow due to large amounts of data</p>",
            "text/plain": "<IPython.core.display.Markdown object>"
          },
          "metadata": {}
        },
        {
          "output_type": "display_data",
          "data": {
            "application/vnd.jupyter.widget-view+json": {
              "model_id": "b589270168b243e18c004ee4a181dc8a",
              "version_minor": 0,
              "version_major": 2
            },
            "text/plain": "Checkbox(value=False, description='Are you sure?')"
          },
          "metadata": {}
        }
      ]
    },
    {
      "metadata": {
        "ExecuteTime": {
          "end_time": "2019-10-11T23:45:21.80705Z",
          "start_time": "2019-10-11T23:45:21.793978Z"
        },
        "trusted": true
      },
      "cell_type": "code",
      "source": "# Establish if we want to investigate just the URL or domain and URL\nif warning is not None and warning.value == False:\n    md_warn(\"Please check the box above to confirm you wish to proceed\")\nelse:\n    if url is not None:\n        md(\"Do you wish to search on the URL alone or URL and Domain? For mallicious URLs on known good domains you may wish to only search on the URL to get more granular results.\")\n        scope_selection = widgets.RadioButtons(\n            options=['URL Only', 'URL and Domain'],\n            disabled=False\n        )\n        display(scope_selection)\n    else:\n        scope_selection = None\n        md(f\"Searching data for {domain}\")\n        \nhost_list = []",
      "execution_count": 101,
      "outputs": [
        {
          "output_type": "display_data",
          "data": {
            "text/markdown": "<p style=''>Do you wish to search on the URL alone or URL and Domain? For mallicious URLs on known good domains you may wish to only search on the URL to get more granular results.</p>",
            "text/plain": "<IPython.core.display.Markdown object>"
          },
          "metadata": {}
        },
        {
          "output_type": "display_data",
          "data": {
            "application/vnd.jupyter.widget-view+json": {
              "model_id": "f66a5ee947b2462b8b6ee6bbc1dccd84",
              "version_minor": 0,
              "version_major": 2
            },
            "text/plain": "RadioButtons(options=('URL Only', 'URL and Domain'), value='URL Only')"
          },
          "metadata": {}
        }
      ]
    },
    {
      "metadata": {
        "ExecuteTime": {
          "end_time": "2019-10-11T23:40:00.513283Z",
          "start_time": "2019-10-11T23:40:00.475282Z"
        },
        "trusted": true
      },
      "cell_type": "code",
      "source": "# Set a time scope for our investigation\nif scope_selection is not None:\n    if scope_selection.value == \"URL Only\":\n        scope = url\n    else:\n        scope = f\"{domain}|{url}\"\nelse:\n    scope = domain\n\nquery_times = nbwidgets.QueryTime(units='day',\n                                      max_before=20, max_after=1, before=3)\nquery_times.display()",
      "execution_count": 102,
      "outputs": [
        {
          "output_type": "display_data",
          "data": {
            "application/vnd.jupyter.widget-view+json": {
              "model_id": "38839f257ab644f8b25e547e73bddd31",
              "version_minor": 0,
              "version_major": 2
            },
            "text/plain": "HTML(value='<h4>Set query time boundaries</h4>')"
          },
          "metadata": {}
        },
        {
          "output_type": "display_data",
          "data": {
            "application/vnd.jupyter.widget-view+json": {
              "model_id": "004b1eba33c24555b3d56761afc961b8",
              "version_minor": 0,
              "version_major": 2
            },
            "text/plain": "HBox(children=(DatePicker(value=datetime.date(2019, 10, 31), description='Origin Date'), Text(value='20:32:05.…"
          },
          "metadata": {}
        },
        {
          "output_type": "display_data",
          "data": {
            "application/vnd.jupyter.widget-view+json": {
              "model_id": "9b20ca13ec464815b8e89f1cfbf1ee33",
              "version_minor": 0,
              "version_major": 2
            },
            "text/plain": "VBox(children=(IntRangeSlider(value=(-3, 1), description='Time Range (day):', layout=Layout(width='80%'), max=…"
          },
          "metadata": {}
        }
      ]
    },
    {
      "metadata": {},
      "cell_type": "markdown",
      "source": "## Related Alerts"
    },
    {
      "metadata": {
        "ExecuteTime": {
          "end_time": "2019-10-11T23:46:52.057461Z",
          "start_time": "2019-10-11T23:45:25.176246Z"
        },
        "trusted": true
      },
      "cell_type": "code",
      "source": "#Get any alerts associated with the domain or URL\nalerts = qry_prov.SecurityAlert.list_alerts(\n    query_times)\nif isinstance(alerts, pd.DataFrame) and not alerts.empty:\n    related_alerts = alerts[alerts[\"Entities\"].str.contains(scope)]\nelse:\n    alerts = None\n    display(HTML(\"No alerts found\"))\n\n\nif isinstance(related_alerts, pd.DataFrame) and not related_alerts.empty:\n    related_alerts_items = (related_alerts[['AlertName', 'TimeGenerated']]\n                        .groupby('AlertName').TimeGenerated.agg('count').to_dict())\n\n    def print_related_alerts(alertDict, entityType, entityName):\n        if len(alertDict) > 0:\n            display(Markdown(\n                f\"### Found {len(alertDict)} different alert types related to this {entityType} (\\'{entityName}\\')\"))\n            for (k, v) in alertDict.items():\n                display(Markdown(f\"- {k}, Count of alerts: {v}\"))\n        else:\n            display(\n                Markdown(f\"No alerts for {entityType} entity \\'{entityName}\\'\"))\n\n\n# Display alerts on timeline to aid in visual grouping\n    print_related_alerts(related_alerts_items, 'domain', domain)\n    nbdisplay.display_timeline(\n        data=related_alerts, source_columns=[\"AlertName\"], title=\"Host alerts over time\", height=300, color=\"red\")\n    score = len(related_alerts.index)/2\n    summary.add_observation(caption=\"Alerts\", description=f\"Alerts linked to {scope}\", data=related_alerts, score=score)\nelse:\n    md(\"No related alerts found.\")",
      "execution_count": 103,
      "outputs": [
        {
          "output_type": "display_data",
          "data": {
            "text/markdown": "<p style=''>No related alerts found.</p>",
            "text/plain": "<IPython.core.display.Markdown object>"
          },
          "metadata": {}
        }
      ]
    },
    {
      "metadata": {
        "ExecuteTime": {
          "end_time": "2019-10-11T23:46:52.066149Z",
          "start_time": "2019-10-11T23:46:52.05943Z"
        },
        "trusted": true
      },
      "cell_type": "code",
      "source": "rel_alert_select = None\n\ndef show_full_alert(selected_alert):\n    global security_alert, alert_ip_entities\n    security_alert = SecurityAlert(\n        rel_alert_select.selected_alert)\n    nbdisplay.display_alert(security_alert, show_entities=True)\n\n# Show selected alert when selected\nif isinstance(related_alerts, pd.DataFrame) and not related_alerts.empty:\n    display(Markdown('### Click on alert to view details.'))\n    rel_alert_select = nbwidgets.AlertSelector(alerts=related_alerts,\n                                               action=show_full_alert)\n    rel_alert_select.display()\nelse:\n    md('No related alerts found.')",
      "execution_count": 104,
      "outputs": [
        {
          "output_type": "display_data",
          "data": {
            "text/markdown": "<p style=''>No related alerts found.</p>",
            "text/plain": "<IPython.core.display.Markdown object>"
          },
          "metadata": {}
        }
      ]
    },
    {
      "metadata": {},
      "cell_type": "markdown",
      "source": "## Domain or URL in Logs"
    },
    {
      "metadata": {},
      "cell_type": "markdown",
      "source": "### Host Logs\nHosts that have communicated with the domain or URL under investigation may have indicators of this activity in thier logs, especially if the domain or URL was referenced in a command line argument. The context that the domain or URL is observed in may provide some indication of what the activity was."
    },
    {
      "metadata": {
        "ExecuteTime": {
          "end_time": "2019-10-11T23:46:54.048715Z",
          "start_time": "2019-10-11T23:46:52.068122Z"
        },
        "trusted": true
      },
      "cell_type": "code",
      "source": "host_log_query = f\"\"\"\n Syslog \n | where TimeGenerated >= datetime({query_times.start}) \n | where TimeGenerated <= datetime({query_times.end})\n | where SyslogMessage matches regex \"{scope}\"\n | union isfuzzy = true (\n SecurityEvent\n | where TimeGenerated >= datetime({query_times.start}) \n | where TimeGenerated <= datetime({query_times.end})\n | where CommandLine matches regex \"{scope}\")\n\"\"\"\n# Identify any hosts with logs relating to this URL or domain and provide a summary of those hosts\nhost_logs_df = qry_prov.exec_query(host_log_query)\nif not host_logs_df.empty:\n    md(f\"Summary of logs containing {scope} by host:\", \"bold\")\n    host_log_sum = pd.DataFrame({'Log Count' : host_logs_df.groupby(['Computer']).count()['TimeGenerated']}).reset_index()\n    display(host_log_sum.style.hide_index())\n    #Add details to a summary for later use\n    summary.add_observation(caption=\"Host Log Summary\", description=f\"Summary of logs containing {scope} by host\", data=host_log_sum)\n    ioc_extractor = iocextract.IoCExtract()\n    print('Extracting IPs, Domains and URLs from logs.......')\n    ioc_df = ioc_extractor.extract(data=host_logs_df,\n                                    columns=['SyslogMessage', 'CommandLine'],\n                                    os_family='Linux',\n                                    ioc_types=['ipv4', 'ipv6', 'dns', 'url'])\n    md(\"Network artifacts found in logs:\", \"bold\")\n    display(ioc_df.drop('SourceIndex', axis=1).style.hide_index())\n    # Collect a list of ip addresses associated with the domain or url\n    ip_addresses += [(ip) for ip in ioc_df[ioc_df['IoCType'] == \"ipv4\"]['Observable'] if ip not in ip_addresses]\n\nelse:\n    md(f\"No host logs found containing {domain} or {url}\")",
      "execution_count": 105,
      "outputs": [
        {
          "output_type": "display_data",
          "data": {
            "text/markdown": "<p style=''>No host logs found containing amazon.com or https://amazon.com</p>",
            "text/plain": "<IPython.core.display.Markdown object>"
          },
          "metadata": {}
        }
      ]
    },
    {
      "metadata": {
        "ExecuteTime": {
          "end_time": "2019-10-11T23:46:54.10969Z",
          "start_time": "2019-10-11T23:46:54.051682Z"
        },
        "trusted": true
      },
      "cell_type": "code",
      "source": "#Display the logs associated with the domain or URL for each host\ndef view_logs(host):\n    display(host_logs_df.query('Computer == @host'))\n\nif not host_logs_df.empty:\n    items = host_log_sum['Computer'].dropna().unique().tolist()\n    host_list = items\n    md(f\"<h3>View all host logs that contains {scope}</h3>\")\n    log_view = widgets.Dropdown(\n        options=items, description='Select Computer to view raw logs', disabled=False, **WIDGET_DEFAULTS)\n    display(widgets.interactive(view_logs, host=log_view))\nelse:\n    md(f\"No host logs found containing {domain} or {url}\")",
      "execution_count": 108,
      "outputs": [
        {
          "output_type": "display_data",
          "data": {
            "text/markdown": "<p style=''>No host logs found containing amazon.com or https://amazon.com</p>",
            "text/plain": "<IPython.core.display.Markdown object>"
          },
          "metadata": {}
        }
      ]
    },
    {
      "metadata": {},
      "cell_type": "markdown",
      "source": "### Network Device Logs\nOften network devices will logs connection activity that can help identity which hosts have communicated with a given domain or URL, and may provide additional detail as to the nature of this communication."
    },
    {
      "metadata": {
        "ExecuteTime": {
          "end_time": "2019-10-11T23:46:55.314073Z",
          "start_time": "2019-10-11T23:46:54.111685Z"
        },
        "scrolled": false,
        "trusted": true
      },
      "cell_type": "code",
      "source": "net_query = f\"\"\"\n    CommonSecurityLog\n    | where TimeGenerated > datetime({query_times.start})\n    | where TimeGenerated < datetime({query_times.end})\n    | where RequestURL contains \"{scope}\" or AdditionalExtensions contains \"{scope}\"\n    \"\"\"\n\nnet_logs_df = qry_prov.exec_query(net_query)\n# Search for indicators of network device logs containing the domain or URL. If any area summarize this data and add indicators to lists.\nif not net_logs_df.empty:\n    md(f\"Count of network connections to {scope} by hosts:\")\n    host_count = pd.DataFrame({'Connection Count' : net_logs_df.groupby(['SourceIP','DestinationIP','DestinationPort', 'RequestURL']).count()['TimeGenerated']}).reset_index()\n    display(host_count.style.hide_index())\n    summary.add_observation(caption=\"Network Log Summary\", description=f\"Summary of network connections to {scope} by host\", data=host_count)\n    ip.addresses += [(ip) for ip in host_count['DestinationIP'] if ip not in ip_addresses]\nelse:\n    md(f\"No network device logs found containing {scope}\")",
      "execution_count": 109,
      "outputs": [
        {
          "output_type": "display_data",
          "data": {
            "text/markdown": "<p style=''>No network device logs found containing https://amazon.com</p>",
            "text/plain": "<IPython.core.display.Markdown object>"
          },
          "metadata": {}
        }
      ]
    },
    {
      "metadata": {
        "ExecuteTime": {
          "end_time": "2019-10-11T23:47:02.636867Z",
          "start_time": "2019-10-11T23:47:02.597873Z"
        },
        "trusted": true
      },
      "cell_type": "code",
      "source": "def view_net_logs(host):\n    display(net_logs_df.query('SourceIP == @host'))\n\nif not net_logs_df.empty:\n    # Display logs from any network devices that contain the domain or URL\n    items = net_logs_df['SourceIP'].dropna().unique().tolist()\n    host_list += items\n    md(f\"<h3>View all host logs that contains {scope}</h3>\")\n    net_log_view = widgets.Dropdown(\n        options=items, description='Select IP to view raw logs', disabled=False, **WIDGET_DEFAULTS)\n    display(widgets.interactive(view_net_logs, host=net_log_view))\nelse:\n    md(f\"No network device logs found containing {scope}\")",
      "execution_count": 110,
      "outputs": [
        {
          "output_type": "display_data",
          "data": {
            "text/markdown": "<p style=''>No network device logs found containing https://amazon.com</p>",
            "text/plain": "<IPython.core.display.Markdown object>"
          },
          "metadata": {}
        }
      ]
    },
    {
      "metadata": {},
      "cell_type": "markdown",
      "source": "### DNS Logs\nA host communicating with a domain is going to need to resolve that domain first, this can provide us details of other IP addresses associated with the domain. In addition the type of requests made can help us identify activity such as data exfiltration via DNS."
    },
    {
      "metadata": {
        "ExecuteTime": {
          "end_time": "2019-10-11T23:47:08.721431Z",
          "start_time": "2019-10-11T23:47:08.71143Z"
        },
        "scrolled": false,
        "trusted": true
      },
      "cell_type": "code",
      "source": "if \"DnsEvents\" in qry_prov.schema:\n    dns_query = f\"\"\"\n        DnsEvents\n        | where TimeGenerated > datetime({query_times.start})\n        | where TimeGenerated < datetime({query_times.end})\n        | where SubType == \"LookupQuery\"\n        | where tolower(Name) contains \"{scope}\"\n        | where isnotempty(IPAddresses)\n        \"\"\"\n    # Seach DNS logs for resolutions of the domain\n    dns_logs_df = qry_prov.exec_query(dns_query)\n    if not dns_logs_df.empty:\n        ip_addr = dns_logs_df[dns_logs_df['TimeGenerated'] == dns_logs_df['TimeGenerated'].max()]['IPAddresses'].replace(\"\", np.nan).dropna().to_list()\n        new_ips = len(ip_addresses)\n        # Identity any DNS responses for the domain that contain IP addresses not previously identified\n        ip_addresses += [(ip) for ip in ip_addr if ip not in ip_addresses]\n        if len(ip_addresses) > new_ips:\n            md(f\"New IP Addresses found for {domain}: \")\n            print(ip_addresses[(new_ips-1):])\n        host_list += dns_logs_df['ClientIP'].unique().tolist()\n        host_count = dns_logs_df.groupby('ClientIP').count()['Name']\n        host_resolutions = pd.DataFrame({\"Count of DNS Lookups\": dns_logs_df.groupby('ClientIP').count()['Name']}).reset_index()\n        md(f\"Count of resolutions for {domain} by host:\")\n        display(host_resolutions.style.hide_index())\n        summary.add_observation(caption=\"DNS Log Summary\", description=f\"Summary of DNS resolutions of {scope} by host\", data=host_resolutions)\n    else:\n        md(f\"No DNS device logs found containing {scope}\")\nelse:\n    dns_logs_df = None\n    md(\"No DNS events avaliable in workspace\")",
      "execution_count": 111,
      "outputs": [
        {
          "output_type": "display_data",
          "data": {
            "text/markdown": "<p style=''>No DNS device logs found containing https://amazon.com</p>",
            "text/plain": "<IPython.core.display.Markdown object>"
          },
          "metadata": {}
        }
      ]
    },
    {
      "metadata": {
        "ExecuteTime": {
          "end_time": "2019-10-11T23:47:09.308763Z",
          "start_time": "2019-10-11T23:47:09.296407Z"
        },
        "trusted": true
      },
      "cell_type": "code",
      "source": "# Check DNS logs for indicators of data exfiltration or tunnelling via DNS\nif dns_logs_df is not None:\n    import msticpy.sectools.base64unpack as b64\n    lookups = dns_logs_df['Name'].dropna().unique().tolist()\n    potential_tunnels = []\n    for lookup in lookups:\n        if len(lookup) > 250:\n            print(f\"Suspicious domain length {lookup}\")\n        sub_d, _, _ = tldextract.extract(lookup)\n        req = sub_d.replace(\".\",\"\")\n        score = Entropy(req)\n        if score > (3.2675 + 0.5) or score < (3.2675 - 0.5):\n            potential_tunnels.append(lookup)\n        base64 = b64.unpack(req)\n        if not base64[1].empty:\n            potential_tunnels.append(lookup)\n    suspicious_queries = dns_logs_df[dns_logs_df['Name'].isin(potential_tunnels)]\n    md(\"Potential DNS Tunnelling:\")\n    suspect_tunnels = pd.DataFrame({\"Count of DNS Lookups\": suspicious_queries.groupby(['Name','ClientIP']).count()['TimeGenerated']})\n    display(suspect_tunnels.reset_index().style.hide_index())\n    summary.add_observation(caption=\"DNS Tunnelling\", description=f\"Potential DNS Tunnelling\", data=suspect_tunnels)\nelse:\n    md(\"No DNS events avaliable in workspace\")",
      "execution_count": 112,
      "outputs": [
        {
          "output_type": "display_data",
          "data": {
            "text/markdown": "<p style=''>Potential DNS Tunnelling:</p>",
            "text/plain": "<IPython.core.display.Markdown object>"
          },
          "metadata": {}
        },
        {
          "output_type": "display_data",
          "data": {
            "text/html": "<style  type=\"text/css\" >\n</style><table id=\"T_e5d95766_fc1d_11e9_9b08_00155d575119\" ><thead>    <tr>        <th class=\"col_heading level0 col0\" >Name</th>        <th class=\"col_heading level0 col1\" >ClientIP</th>        <th class=\"col_heading level0 col2\" >Count of DNS Lookups</th>    </tr></thead><tbody>\n        </tbody></table>",
            "text/plain": "<pandas.io.formats.style.Styler at 0x7f37f1eeb320>"
          },
          "metadata": {}
        }
      ]
    },
    {
      "metadata": {},
      "cell_type": "markdown",
      "source": "### Flow Logs\nIn Microsoft Azure network flow logs can help identify hosts connecting to the domain or URL as well as provide some context as to the nature of these connections."
    },
    {
      "metadata": {
        "ExecuteTime": {
          "end_time": "2019-10-11T23:47:12.398047Z",
          "start_time": "2019-10-11T23:47:10.536137Z"
        },
        "trusted": true
      },
      "cell_type": "code",
      "source": "# Check Azure flow logs for any connections to the domain or URL.\nif 'AzureNetworkAnalytics_CL' not in qry_prov.schema:\n    az_net_comms_df = None\n    md('No Azure network data avaliable in this workspace.')\nelse:\n    az_net_comms_df = qry_prov.Network.list_azure_network_flows_by_ip(query_times, ip_address_list=ip_addresses)\n    if isinstance(az_net_comms_df, pd.DataFrame) and not az_net_comms_df.empty:\n        az_net_comms_df.head()\n        az_net_comms_df['TotalAllowedFlows'] = az_net_comms_df['AllowedOutFlows'] + az_net_comms_df['AllowedInFlows']\n        nbdisplay.display_timeline(\n            data=az_net_comms_df,\n            group_by=\"L7Protocol\",\n            title=\"Network Flows by Protocol\",\n            time_column=\"FlowStartTime\",\n            source_columns=[\"FlowType\", \"AllExtIPs\", \"L7Protocol\", \"FlowDirection\"],\n            height=300,\n            legend=\"right\",\n            yaxis=True\n        )\n        nbdisplay.display_timeline(\n            data=az_net_comms_df,\n            group_by=\"FlowDirection\",\n            title=\"Network Flows by Direction\",\n            time_column=\"FlowStartTime\",\n            source_columns=[\"FlowType\", \"AllExtIPs\", \"L7Protocol\", \"FlowDirection\"],\n            height=300,\n            legend=\"right\",\n            yaxis=True\n        )\n    else:\n        md(f\"No Azure network data for {domain} in this timerange.\")    ",
      "execution_count": 113,
      "outputs": [
        {
          "output_type": "display_data",
          "data": {
            "text/markdown": "<p style=''>No Azure network data for amazon.com in this timerange.</p>",
            "text/plain": "<IPython.core.display.Markdown object>"
          },
          "metadata": {}
        }
      ]
    },
    {
      "metadata": {
        "ExecuteTime": {
          "end_time": "2019-10-11T23:47:12.405675Z",
          "start_time": "2019-10-11T23:47:12.400007Z"
        },
        "trusted": true
      },
      "cell_type": "code",
      "source": "if az_net_comms_df is not None and not az_net_comms_df.empty:\n    flow_plot = nbdisplay.display_timeline_values(data=az_net_comms_df,\n                                      group_by=\"L7Protocol\",\n                                      source_columns=[\"FlowType\", \n                                                      \"AllExtIPs\", \n                                                      \"L7Protocol\", \n                                                      \"FlowDirection\", \n                                                      \"TotalAllowedFlows\"],\n                                      time_column=\"FlowStartTime\",\n                                      y=\"TotalAllowedFlows\",\n                                      legend=\"right\",\n                                      legend_column=\"L7Protocol\", \n                                      height=500,\n                                      kind=[\"vbar\", \"circle\"]);\nelse:\n    md(f\"No Azure network data avaliable.\")  ",
      "execution_count": 114,
      "outputs": [
        {
          "output_type": "display_data",
          "data": {
            "text/markdown": "<p style=''>No Azure network data avaliable.</p>",
            "text/plain": "<IPython.core.display.Markdown object>"
          },
          "metadata": {}
        }
      ]
    },
    {
      "metadata": {
        "ExecuteTime": {
          "end_time": "2019-10-11T23:47:12.418674Z",
          "start_time": "2019-10-11T23:47:12.40763Z"
        },
        "trusted": true
      },
      "cell_type": "code",
      "source": "if az_net_comms_df is not None and not az_net_comms_df.empty:\n    cm = sns.light_palette(\"green\", as_cmap=True)\n\n    cols = [\n        \"VMName\",\n        \"VMIPAddress\",\n        \"PublicIPs\",\n        \"SrcIP\",\n        \"DestIP\",\n        \"L4Protocol\",\n        \"L7Protocol\",\n        \"DestPort\",\n        \"FlowDirection\",\n        \"AllExtIPs\",\n        \"TotalAllowedFlows\",\n    ]\n    flow_index = az_net_comms_df[cols].copy()\n\n    def get_source_ip(row):\n        if row.FlowDirection == \"O\":\n            return row.VMIPAddress if row.VMIPAddress else row.SrcIP\n        else:\n            return row.AllExtIPs if row.AllExtIPs else row.DestIP\n\n    def get_dest_ip(row):\n        if row.FlowDirection == \"O\":\n            return row.AllExtIPs if row.AllExtIPs else row.DestIP\n        else:\n            return row.VMIPAddress if row.VMIPAddress else row.SrcIP\n\n    flow_index[\"source\"] = flow_index.apply(get_source_ip, axis=1)\n    flow_index[\"dest\"] = flow_index.apply(get_dest_ip, axis=1)\n    \n    with warnings.catch_warnings():\n        warnings.simplefilter(\"ignore\")\n        display(\n            flow_index[\n                [\"source\", \"dest\", \"L7Protocol\", \"FlowDirection\", \"TotalAllowedFlows\"]\n            ]\n            .groupby([\"source\", \"dest\", \"L7Protocol\", \"FlowDirection\"])\n            .sum()\n            .reset_index()\n            .style.bar(subset=[\"TotalAllowedFlows\"], color=\"#d65f5f\")\n         )\n    summary.add_observation(caption=\"Network Flow Summary\", description=f\"Summary of network flows to and from IPs associated with {scope}\", data=flow_index) \n\nelse:\n    flow_index = None\n    md(f\"No Azure network data avaliable.\")  ",
      "execution_count": 115,
      "outputs": [
        {
          "output_type": "display_data",
          "data": {
            "text/markdown": "<p style=''>No Azure network data avaliable.</p>",
            "text/plain": "<IPython.core.display.Markdown object>"
          },
          "metadata": {}
        }
      ]
    },
    {
      "metadata": {
        "ExecuteTime": {
          "end_time": "2019-10-11T23:47:12.42863Z",
          "start_time": "2019-10-11T23:47:12.420631Z"
        },
        "trusted": true
      },
      "cell_type": "code",
      "source": "if flow_index is not None and not flow_index.empty:\n    net_ips = flow_index['source'].dropna().unique().tolist() + flow_index['dest'].dropna().unique().tolist()\n    md(\"Resolving hostnames please be patient this may take some time\")\n    ip.addresses = ip_addresses + [(ip) for ip in net_ips if ip not in ip_addresses] \n    for ip in ip_addresses:\n        host_res = qry_prov.Network.get_host_for_ip(query_times, ip_address=ip)\n        host_list.append(host_res['Computer'][0])\n    md(\"Hosts added to host list\")\nelse:\n    md(f\"No Azure network data avaliable.\")  ",
      "execution_count": 116,
      "outputs": [
        {
          "output_type": "display_data",
          "data": {
            "text/markdown": "<p style=''>No Azure network data avaliable.</p>",
            "text/plain": "<IPython.core.display.Markdown object>"
          },
          "metadata": {}
        }
      ]
    },
    {
      "metadata": {},
      "cell_type": "markdown",
      "source": "### All Hosts Observed Communicating with the Domain or URL\nDuring the cells executed above we have identified hosts communicating with the domain or IP in question. These hosts are potential candidates for further investigation using Azure Sentinel or via other entity explorer Notebook. This cell provides a summary of these hosts and well as details of any alerts we have that are associated with these hosts."
    },
    {
      "metadata": {
        "ExecuteTime": {
          "end_time": "2019-10-15T18:04:04.580456Z",
          "start_time": "2019-10-15T18:04:04.576454Z"
        },
        "trusted": true
      },
      "cell_type": "code",
      "source": "import re\npattern = re.compile(\"^(?:[0-9]{1,3}\\.){3}[0-9]{1,3}$\")\n# Simplify to list \nhost_ip_list = [(host) for host in host_list if pattern.match(host)]  \n\nfor ip in host_ip_list:\n    host_list.remove(ip)\n    host_name = qry_prov.Network.get_host_for_ip( query_times, ip_address=ip)\n    if not host_name.empty:\n        host_list.append(host_name['Computer'][0])    \nif alerts is not None:\n    alert_count = [((len(alerts[alerts[\"Entities\"].str.contains(host)].index))) for host in host_list]\n    host_alerts = pd.DataFrame({\"Hosts\":host_list,\n                               \"Count of Host Alerts\": alert_count})\n    summary.add_observation(caption=\"Host Alerts\", description=f\"A list of hosts observed communicating with {scope} and any alerts associated with them\", data=host_alerts) \n    md(f\"\"\"\n    During the investigation the following hosts have been observed as having an association with {domain}.\n    The count of alerts for each host is to provide guidance on which hosts should be considered for prioritization \n    in further investigation.\"\"\")\n    display(host_alerts.style.hide_index())",
      "execution_count": 117,
      "outputs": [
        {
          "output_type": "display_data",
          "data": {
            "text/markdown": "<p style=''>\n    During the investigation the following hosts have been observed as having an association with amazon.com.\n    The count of alerts for each host is to provide guidance on which hosts should be considered for prioritization \n    in further investigation.</p>",
            "text/plain": "<IPython.core.display.Markdown object>"
          },
          "metadata": {}
        },
        {
          "output_type": "display_data",
          "data": {
            "text/html": "<style  type=\"text/css\" >\n</style><table id=\"T_fd774f5e_fc1d_11e9_9b08_00155d575119\" ><thead>    <tr>        <th class=\"col_heading level0 col0\" >Hosts</th>        <th class=\"col_heading level0 col1\" >Count of Host Alerts</th>    </tr></thead><tbody>\n        </tbody></table>",
            "text/plain": "<pandas.io.formats.style.Styler at 0x7f38012774a8>"
          },
          "metadata": {}
        }
      ]
    },
    {
      "metadata": {},
      "cell_type": "markdown",
      "source": "## Summary of Findings"
    },
    {
      "metadata": {
        "ExecuteTime": {
          "end_time": "2019-10-11T23:48:16.672512Z",
          "start_time": "2019-10-11T23:48:16.591544Z"
        },
        "scrolled": false,
        "trusted": false
      },
      "cell_type": "code",
      "source": "md(f\"Domain: {domain}\", \"bold\")\nmd(f\"URL: {url}\", \"bold\")\nsummary.display_observations()",
      "execution_count": null,
      "outputs": []
    },
    {
      "metadata": {},
      "cell_type": "markdown",
      "source": "## Setup Cell\nIf you have not run this Notebook before please run this cell before running the rest of the Notebook."
    },
    {
      "metadata": {
        "ExecuteTime": {
          "end_time": "2019-10-18T20:05:08.32315Z",
          "start_time": "2019-10-18T20:04:18.239341Z"
        },
        "tags": [
          "todo"
        ],
        "trusted": false
      },
      "cell_type": "code",
      "source": "import sys\nimport warnings\nwarnings.filterwarnings(\"ignore\",category=DeprecationWarning)\n\n\nMIN_REQ_PYTHON = (3,6)\nif sys.version_info < MIN_REQ_PYTHON:\n    print('Check the Kernel->Change Kernel menu and ensure that Python 3.6')\n    print('or later is selected as the active kernel.')\n    sys.exit(\"Python %s.%s or later is required.\\n\" % MIN_REQ_PYTHON)\n\n# Package Installs - try to avoid if they are already installed\ntry:\n    from dns import reversename, resolver\n    from ipwhois import IPWhois\n    from msticpy.sectools import *\n    import Kqlmagic\n    import folium\n    print('If you answer \"n\" this cell will exit with an error in order to avoid the pip install calls,')\n    print('This error can safely be ignored.')\n    resp = input('msticpy and Kqlmagic packages are already loaded. Do you want to re-install? (y/n)')\n    if resp.strip().lower() != 'y':\n        sys.exit('pip install aborted - you may skip this error and continue.')\n    else:\n        print('After installation has completed, restart the current kernel and run '\n              'the notebook again skipping this cell.')\nexcept ImportError:\n    pass\n\nprint('\\nPlease wait. Installing required packages. This may take a few minutes...')\n!pip install oauthlib --user\n!pip install git+https://github.com/microsoft/msticpy@iputils --user --upgrade\n# These are required by msticpy so shouldn't need to specify again.\n# !pip install seaborn --upgrade --user\n# !pip install holoviews --upgrade --user\n# !pip install dnspython --upgrade --user \n!pip install ipwhois --upgrade --user \n# !pip install pandas --upgrade --user\n!pip install pyvis --upgrade --user\n# !pip install tldextract --upgrade --user\n!pip install python-whois --upgrade --user\nprint('To ensure that the latest versions of the installed libraries '\n      'are used, please restart the current kernel and run '\n      'the notebook again skipping this cell.')",
      "execution_count": 1,
      "outputs": [
        {
          "name": "stdout",
          "output_type": "stream",
          "text": "\nPlease wait. Installing required packages. This may take a few minutes...\nRequirement already satisfied: oauthlib in /home/nbuser/anaconda3_501/lib/python3.6/site-packages (3.1.0)\n\u001b[33mWARNING: You are using pip version 19.2.2, however version 19.3.1 is available.\nYou should consider upgrading via the 'pip install --upgrade pip' command.\u001b[0m\nCollecting git+https://github.com/microsoft/msticpy@iputils\n  Cloning https://github.com/microsoft/msticpy (to revision iputils) to /tmp/pip-req-build-qn3p_ph4\n  Running command git clone -q https://github.com/microsoft/msticpy /tmp/pip-req-build-qn3p_ph4\n  Running command git checkout -b iputils --track origin/iputils\n  Switched to a new branch 'iputils'\n  Branch iputils set up to track remote branch iputils from origin.\nRequirement already satisfied, skipping upgrade: attrs>=18.2.0 in /home/nbuser/anaconda3_501/lib/python3.6/site-packages (from msticpy==0.2.7) (18.2.0)\nCollecting bokeh>=1.0.2 (from msticpy==0.2.7)\n\u001b[?25l  Downloading https://files.pythonhosted.org/packages/89/25/a07183dd96ca22dafe429254985cbf8241ccd35730c5568d6502b3bc6bb7/bokeh-1.3.4.tar.gz (17.8MB)\n\u001b[K     |████████████████████████████████| 17.8MB 26kB/s s eta 0:00:01   |▋                               | 317kB 4.3MB/s eta 0:00:05     |███████████████▎                | 8.6MB 4.6MB/s eta 0:00:03     |█████████████████████████▏      | 14.0MB 4.6MB/s eta 0:00:01\n\u001b[?25hCollecting cryptography>=2.8 (from msticpy==0.2.7)\n\u001b[?25l  Downloading https://files.pythonhosted.org/packages/ca/9a/7cece52c46546e214e10811b36b2da52ce1ea7fa203203a629b8dfadad53/cryptography-2.8-cp34-abi3-manylinux2010_x86_64.whl (2.3MB)\n\u001b[K     |████████████████████████████████| 2.3MB 6.7MB/s eta 0:00:01\n\u001b[?25hRequirement already satisfied, skipping upgrade: deprecated>=1.2.4 in /home/nbuser/anaconda3_501/lib/python3.6/site-packages (from msticpy==0.2.7) (1.2.6)\nCollecting dnspython>=1.16.0 (from msticpy==0.2.7)\n\u001b[?25l  Downloading https://files.pythonhosted.org/packages/ec/d3/3aa0e7213ef72b8585747aa0e271a9523e713813b9a20177ebe1e939deb0/dnspython-1.16.0-py2.py3-none-any.whl (188kB)\n\u001b[K     |████████████████████████████████| 194kB 5.7MB/s eta 0:00:01\n\u001b[?25hCollecting folium>=0.9.0 (from msticpy==0.2.7)\n\u001b[?25l  Downloading https://files.pythonhosted.org/packages/72/ff/004bfe344150a064e558cb2aedeaa02ecbf75e60e148a55a9198f0c41765/folium-0.10.0-py2.py3-none-any.whl (91kB)\n\u001b[K     |████████████████████████████████| 92kB 4.6MB/s eta 0:00:011\n\u001b[?25hCollecting geoip2>=2.9.0 (from msticpy==0.2.7)\n  Downloading https://files.pythonhosted.org/packages/ed/17/bcbb7c0849492e218767e658c66fbf9e3420b6301072371547c4f7192d48/geoip2-2.9.0-py2.py3-none-any.whl\nCollecting ipwhois>=1.1.0 (from msticpy==0.2.7)\n\u001b[?25l  Downloading https://files.pythonhosted.org/packages/89/f0/7ba9229f4625d2581b82ddb78d263f4180dcd3f95d21b4da237e0afeb5c0/ipwhois-1.1.0-py2.py3-none-any.whl (74kB)\n\u001b[K     |████████████████████████████████| 81kB 2.5MB/s eta 0:00:011\n\u001b[?25hRequirement already satisfied, skipping upgrade: ipython>=7.1.1 in /home/nbuser/anaconda3_501/lib/python3.6/site-packages (from msticpy==0.2.7) (7.1.1)\nRequirement already satisfied, skipping upgrade: ipywidgets>=7.4.2 in /home/nbuser/anaconda3_501/lib/python3.6/site-packages (from msticpy==0.2.7) (7.4.2)\nCollecting Kqlmagic>=0.1.106 (from msticpy==0.2.7)\n\u001b[?25l  Downloading https://files.pythonhosted.org/packages/47/24/9c9083243b0694c42bcea6433f234d8d5ef02dc30375f06fd316fe84b31f/Kqlmagic-0.1.107.post1-py3-none-any.whl (131kB)\n\u001b[K     |████████████████████████████████| 133kB 1.3MB/s eta 0:00:01\n\u001b[?25hRequirement already satisfied, skipping upgrade: matplotlib>=3.0.0 in /home/nbuser/anaconda3_501/lib/python3.6/site-packages (from msticpy==0.2.7) (3.0.0)\nRequirement already satisfied, skipping upgrade: networkx>=2.2 in /home/nbuser/anaconda3_501/lib/python3.6/site-packages (from msticpy==0.2.7) (2.2)\nRequirement already satisfied, skipping upgrade: numpy>=1.15.4 in /home/nbuser/anaconda3_501/lib/python3.6/site-packages (from msticpy==0.2.7) (1.16.2)\nCollecting pandas>=0.24.0 (from msticpy==0.2.7)\n\u001b[?25l  Downloading https://files.pythonhosted.org/packages/86/12/08b092f6fc9e4c2552e37add0861d0e0e0d743f78f1318973caad970b3fc/pandas-0.25.2-cp36-cp36m-manylinux1_x86_64.whl (10.4MB)\n\u001b[K     |████████████████████████████████| 10.4MB 13kB/s  eta 0:00:01|███▊                            | 1.2MB 1.3MB/s eta 0:00:07B/s eta 0:00:07     | 2.5MB 1.9MB/s eta 0:00:055:00:04�██████████▋                   | 4.1MB 525kB/s eta 0:00:12     |█████████████████████████████   | 9.5MB 109kB/s eta 0:00:09     |███████████████████████████████▌| 10.2MB 109kB/s eta 0:00:02\n\u001b[?25hRequirement already satisfied, skipping upgrade: requests>=2.21.1 in /home/nbuser/anaconda3_501/lib/python3.6/site-packages (from msticpy==0.2.7) (2.22.0)\nRequirement already satisfied, skipping upgrade: scikit_learn>=0.20.2 in /home/nbuser/anaconda3_501/lib/python3.6/site-packages (from msticpy==0.2.7) (0.20.3)\nRequirement already satisfied, skipping upgrade: seaborn>=0.9.0 in /home/nbuser/anaconda3_501/lib/python3.6/site-packages (from msticpy==0.2.7) (0.9.0)\nRequirement already satisfied, skipping upgrade: setuptools>=40.6.2 in /home/nbuser/anaconda3_501/lib/python3.6/site-packages (from msticpy==0.2.7) (41.1.0)\nCollecting tldextract>=2.2.2 (from msticpy==0.2.7)\n\u001b[?25l  Downloading https://files.pythonhosted.org/packages/fd/0e/9ab599d6e78f0340bb1d1e28ddeacb38c8bb7f91a1b0eae9a24e9603782f/tldextract-2.2.2-py2.py3-none-any.whl (48kB)\n\u001b[K     |████████████████████████████████| 51kB 3.5MB/s eta 0:00:011\n\u001b[?25hCollecting tqdm>=4.36.1 (from msticpy==0.2.7)\n\u001b[?25l  Downloading https://files.pythonhosted.org/packages/e1/c1/bc1dba38b48f4ae3c4428aea669c5e27bd5a7642a74c8348451e0bd8ff86/tqdm-4.36.1-py2.py3-none-any.whl (52kB)\n\u001b[K     |████████████████████████████████| 61kB 3.2MB/s eta 0:00:011\n\u001b[?25hRequirement already satisfied, skipping upgrade: typing>=3.6.6 in /home/nbuser/anaconda3_501/lib/python3.6/site-packages (from msticpy==0.2.7) (3.7.4)\nCollecting urllib3>=1.24.1 (from msticpy==0.2.7)\n\u001b[?25l  Downloading https://files.pythonhosted.org/packages/e0/da/55f51ea951e1b7c63a579c09dd7db825bb730ec1fe9c0180fc77bfb31448/urllib3-1.25.6-py2.py3-none-any.whl (125kB)\n\u001b[K     |████████████████████████████████| 133kB 2.3MB/s eta 0:00:01\n\u001b[?25hRequirement already satisfied, skipping upgrade: six>=1.5.2 in /home/nbuser/anaconda3_501/lib/python3.6/site-packages (from bokeh>=1.0.2->msticpy==0.2.7) (1.11.0)\nRequirement already satisfied, skipping upgrade: PyYAML>=3.10 in /home/nbuser/anaconda3_501/lib/python3.6/site-packages (from bokeh>=1.0.2->msticpy==0.2.7) (3.13)\nRequirement already satisfied, skipping upgrade: python-dateutil>=2.1 in /home/nbuser/anaconda3_501/lib/python3.6/site-packages (from bokeh>=1.0.2->msticpy==0.2.7) (2.8.0)\nRequirement already satisfied, skipping upgrade: Jinja2>=2.7 in /home/nbuser/anaconda3_501/lib/python3.6/site-packages (from bokeh>=1.0.2->msticpy==0.2.7) (2.10)\nRequirement already satisfied, skipping upgrade: pillow>=4.0 in /home/nbuser/anaconda3_501/lib/python3.6/site-packages (from bokeh>=1.0.2->msticpy==0.2.7) (5.3.0)\nRequirement already satisfied, skipping upgrade: packaging>=16.8 in /home/nbuser/anaconda3_501/lib/python3.6/site-packages (from bokeh>=1.0.2->msticpy==0.2.7) (18.0)\nRequirement already satisfied, skipping upgrade: tornado>=4.3 in /home/nbuser/anaconda3_501/lib/python3.6/site-packages (from bokeh>=1.0.2->msticpy==0.2.7) (4.5.3)\nRequirement already satisfied, skipping upgrade: cffi!=1.11.3,>=1.8 in /home/nbuser/anaconda3_501/lib/python3.6/site-packages (from cryptography>=2.8->msticpy==0.2.7) (1.11.5)\nRequirement already satisfied, skipping upgrade: wrapt<2,>=1.10 in /home/nbuser/anaconda3_501/lib/python3.6/site-packages (from deprecated>=1.2.4->msticpy==0.2.7) (1.10.11)\nCollecting branca>=0.3.0 (from folium>=0.9.0->msticpy==0.2.7)\n  Downloading https://files.pythonhosted.org/packages/63/36/1c93318e9653f4e414a2e0c3b98fc898b4970e939afeedeee6075dd3b703/branca-0.3.1-py3-none-any.whl\nCollecting maxminddb>=1.4.0 (from geoip2>=2.9.0->msticpy==0.2.7)\n\u001b[?25l  Downloading https://files.pythonhosted.org/packages/48/6e/6e91f3ea31d08b4142b451e1959dd8964e6d5edc955d5b180de9c5f7a920/maxminddb-1.5.1.tar.gz (272kB)\n"
        },
        {
          "name": "stdout",
          "output_type": "stream",
          "text": "\u001b[K     |████████████████████████████████| 276kB 10.3MB/s eta 0:00:01\n\u001b[?25hRequirement already satisfied, skipping upgrade: decorator in /home/nbuser/anaconda3_501/lib/python3.6/site-packages (from ipython>=7.1.1->msticpy==0.2.7) (4.3.0)\nRequirement already satisfied, skipping upgrade: jedi>=0.10 in /home/nbuser/anaconda3_501/lib/python3.6/site-packages (from ipython>=7.1.1->msticpy==0.2.7) (0.13.1)\nRequirement already satisfied, skipping upgrade: pygments in /home/nbuser/anaconda3_501/lib/python3.6/site-packages (from ipython>=7.1.1->msticpy==0.2.7) (2.2.0)\nRequirement already satisfied, skipping upgrade: prompt-toolkit<2.1.0,>=2.0.0 in /home/nbuser/anaconda3_501/lib/python3.6/site-packages (from ipython>=7.1.1->msticpy==0.2.7) (2.0.7)\nRequirement already satisfied, skipping upgrade: pexpect; sys_platform != \"win32\" in /home/nbuser/anaconda3_501/lib/python3.6/site-packages (from ipython>=7.1.1->msticpy==0.2.7) (4.6.0)\nRequirement already satisfied, skipping upgrade: traitlets>=4.2 in /home/nbuser/anaconda3_501/lib/python3.6/site-packages (from ipython>=7.1.1->msticpy==0.2.7) (4.3.2)\nRequirement already satisfied, skipping upgrade: pickleshare in /home/nbuser/anaconda3_501/lib/python3.6/site-packages (from ipython>=7.1.1->msticpy==0.2.7) (0.7.5)\nRequirement already satisfied, skipping upgrade: backcall in /home/nbuser/anaconda3_501/lib/python3.6/site-packages (from ipython>=7.1.1->msticpy==0.2.7) (0.1.0)\nRequirement already satisfied, skipping upgrade: ipykernel>=4.5.1 in /home/nbuser/anaconda3_501/lib/python3.6/site-packages (from ipywidgets>=7.4.2->msticpy==0.2.7) (5.1.0)\nRequirement already satisfied, skipping upgrade: widgetsnbextension~=3.4.0 in /home/nbuser/anaconda3_501/lib/python3.6/site-packages (from ipywidgets>=7.4.2->msticpy==0.2.7) (3.4.2)\nRequirement already satisfied, skipping upgrade: nbformat>=4.2.0 in /home/nbuser/anaconda3_501/lib/python3.6/site-packages (from ipywidgets>=7.4.2->msticpy==0.2.7) (4.4.0)\nRequirement already satisfied, skipping upgrade: Markdown>=3.0.1 in /home/nbuser/anaconda3_501/lib/python3.6/site-packages (from Kqlmagic>=0.1.106->msticpy==0.2.7) (3.0.1)\nRequirement already satisfied, skipping upgrade: plotly>=3.10.0 in /home/nbuser/anaconda3_501/lib/python3.6/site-packages (from Kqlmagic>=0.1.106->msticpy==0.2.7) (4.1.0)\nRequirement already satisfied, skipping upgrade: prettytable>=0.7.2 in /home/nbuser/anaconda3_501/lib/python3.6/site-packages (from Kqlmagic>=0.1.106->msticpy==0.2.7) (0.7.2)\nRequirement already satisfied, skipping upgrade: lxml>=4.2.5 in /home/nbuser/anaconda3_501/lib/python3.6/site-packages (from Kqlmagic>=0.1.106->msticpy==0.2.7) (4.2.5)\nRequirement already satisfied, skipping upgrade: beautifulsoup4>=4.6.3 in /home/nbuser/anaconda3_501/lib/python3.6/site-packages (from Kqlmagic>=0.1.106->msticpy==0.2.7) (4.6.3)\nCollecting pytz>=2019.1 (from Kqlmagic>=0.1.106->msticpy==0.2.7)\n\u001b[?25l  Downloading https://files.pythonhosted.org/packages/e7/f9/f0b53f88060247251bf481fa6ea62cd0d25bf1b11a87888e53ce5b7c8ad2/pytz-2019.3-py2.py3-none-any.whl (509kB)\n\u001b[K     |████████████████████████████████| 512kB 6.5MB/s eta 0:00:01\n\u001b[?25hRequirement already satisfied, skipping upgrade: psutil>=5.4.7 in /home/nbuser/anaconda3_501/lib/python3.6/site-packages (from Kqlmagic>=0.1.106->msticpy==0.2.7) (5.4.7)\nRequirement already satisfied, skipping upgrade: adal>=1.2.1 in /home/nbuser/anaconda3_501/lib/python3.6/site-packages (from Kqlmagic>=0.1.106->msticpy==0.2.7) (1.2.2)\nRequirement already satisfied, skipping upgrade: pyjwt>=1.7.1 in /home/nbuser/anaconda3_501/lib/python3.6/site-packages (from Kqlmagic>=0.1.106->msticpy==0.2.7) (1.7.1)\nRequirement already satisfied, skipping upgrade: cycler>=0.10 in /home/nbuser/anaconda3_501/lib/python3.6/site-packages (from matplotlib>=3.0.0->msticpy==0.2.7) (0.10.0)\nRequirement already satisfied, skipping upgrade: kiwisolver>=1.0.1 in /home/nbuser/anaconda3_501/lib/python3.6/site-packages (from matplotlib>=3.0.0->msticpy==0.2.7) (1.0.1)\nRequirement already satisfied, skipping upgrade: pyparsing!=2.0.4,!=2.1.2,!=2.1.6,>=2.0.1 in /home/nbuser/anaconda3_501/lib/python3.6/site-packages (from matplotlib>=3.0.0->msticpy==0.2.7) (2.3.0)\nRequirement already satisfied, skipping upgrade: chardet<3.1.0,>=3.0.2 in /home/nbuser/anaconda3_501/lib/python3.6/site-packages (from requests>=2.21.1->msticpy==0.2.7) (3.0.4)\nRequirement already satisfied, skipping upgrade: certifi>=2017.4.17 in /home/nbuser/anaconda3_501/lib/python3.6/site-packages (from requests>=2.21.1->msticpy==0.2.7) (2018.10.15)\nRequirement already satisfied, skipping upgrade: idna<2.9,>=2.5 in /home/nbuser/anaconda3_501/lib/python3.6/site-packages (from requests>=2.21.1->msticpy==0.2.7) (2.7)\nRequirement already satisfied, skipping upgrade: scipy>=0.13.3 in /home/nbuser/anaconda3_501/lib/python3.6/site-packages (from scikit_learn>=0.20.2->msticpy==0.2.7) (1.1.0)\nCollecting requests-file>=1.4 (from tldextract>=2.2.2->msticpy==0.2.7)\n  Downloading https://files.pythonhosted.org/packages/23/9c/6e63c23c39e53d3df41c77a3d05a49a42c4e1383a6d2a5e3233161b89dbf/requests_file-1.4.3-py2.py3-none-any.whl\nRequirement already satisfied, skipping upgrade: MarkupSafe>=0.23 in /home/nbuser/anaconda3_501/lib/python3.6/site-packages (from Jinja2>=2.7->bokeh>=1.0.2->msticpy==0.2.7) (1.1.0)\nRequirement already satisfied, skipping upgrade: pycparser in /home/nbuser/anaconda3_501/lib/python3.6/site-packages (from cffi!=1.11.3,>=1.8->cryptography>=2.8->msticpy==0.2.7) (2.19)\nRequirement already satisfied, skipping upgrade: parso>=0.3.0 in /home/nbuser/anaconda3_501/lib/python3.6/site-packages (from jedi>=0.10->ipython>=7.1.1->msticpy==0.2.7) (0.3.1)\nRequirement already satisfied, skipping upgrade: wcwidth in /home/nbuser/anaconda3_501/lib/python3.6/site-packages (from prompt-toolkit<2.1.0,>=2.0.0->ipython>=7.1.1->msticpy==0.2.7) (0.1.7)\nRequirement already satisfied, skipping upgrade: ptyprocess>=0.5 in /home/nbuser/anaconda3_501/lib/python3.6/site-packages (from pexpect; sys_platform != \"win32\"->ipython>=7.1.1->msticpy==0.2.7) (0.6.0)\nRequirement already satisfied, skipping upgrade: ipython-genutils in /home/nbuser/anaconda3_501/lib/python3.6/site-packages (from traitlets>=4.2->ipython>=7.1.1->msticpy==0.2.7) (0.2.0)\nRequirement already satisfied, skipping upgrade: jupyter-client in /home/nbuser/anaconda3_501/lib/python3.6/site-packages (from ipykernel>=4.5.1->ipywidgets>=7.4.2->msticpy==0.2.7) (5.2.3)\nRequirement already satisfied, skipping upgrade: notebook>=4.4.1 in /home/nbuser/anaconda3_501/lib/python3.6/site-packages (from widgetsnbextension~=3.4.0->ipywidgets>=7.4.2->msticpy==0.2.7) (5.7.2)\nRequirement already satisfied, skipping upgrade: jupyter-core in /home/nbuser/anaconda3_501/lib/python3.6/site-packages (from nbformat>=4.2.0->ipywidgets>=7.4.2->msticpy==0.2.7) (4.4.0)\nRequirement already satisfied, skipping upgrade: jsonschema!=2.5.0,>=2.4 in /home/nbuser/anaconda3_501/lib/python3.6/site-packages (from nbformat>=4.2.0->ipywidgets>=7.4.2->msticpy==0.2.7) (2.6.0)\nRequirement already satisfied, skipping upgrade: retrying>=1.3.3 in /home/nbuser/anaconda3_501/lib/python3.6/site-packages (from plotly>=3.10.0->Kqlmagic>=0.1.106->msticpy==0.2.7) (1.3.3)\nRequirement already satisfied, skipping upgrade: pyzmq>=13 in /home/nbuser/anaconda3_501/lib/python3.6/site-packages (from jupyter-client->ipykernel>=4.5.1->ipywidgets>=7.4.2->msticpy==0.2.7) (17.1.2)\nRequirement already satisfied, skipping upgrade: terminado>=0.8.1 in /home/nbuser/anaconda3_501/lib/python3.6/site-packages (from notebook>=4.4.1->widgetsnbextension~=3.4.0->ipywidgets>=7.4.2->msticpy==0.2.7) (0.8.1)\nRequirement already satisfied, skipping upgrade: Send2Trash in /home/nbuser/anaconda3_501/lib/python3.6/site-packages (from notebook>=4.4.1->widgetsnbextension~=3.4.0->ipywidgets>=7.4.2->msticpy==0.2.7) (1.5.0)\nRequirement already satisfied, skipping upgrade: nbconvert in /home/nbuser/anaconda3_501/lib/python3.6/site-packages (from notebook>=4.4.1->widgetsnbextension~=3.4.0->ipywidgets>=7.4.2->msticpy==0.2.7) (5.6.0)\nRequirement already satisfied, skipping upgrade: prometheus-client in /home/nbuser/anaconda3_501/lib/python3.6/site-packages (from notebook>=4.4.1->widgetsnbextension~=3.4.0->ipywidgets>=7.4.2->msticpy==0.2.7) (0.4.2)\nRequirement already satisfied, skipping upgrade: testpath in /home/nbuser/anaconda3_501/lib/python3.6/site-packages (from nbconvert->notebook>=4.4.1->widgetsnbextension~=3.4.0->ipywidgets>=7.4.2->msticpy==0.2.7) (0.4.2)\nRequirement already satisfied, skipping upgrade: defusedxml in /home/nbuser/anaconda3_501/lib/python3.6/site-packages (from nbconvert->notebook>=4.4.1->widgetsnbextension~=3.4.0->ipywidgets>=7.4.2->msticpy==0.2.7) (0.5.0)\nRequirement already satisfied, skipping upgrade: bleach in /home/nbuser/anaconda3_501/lib/python3.6/site-packages (from nbconvert->notebook>=4.4.1->widgetsnbextension~=3.4.0->ipywidgets>=7.4.2->msticpy==0.2.7) (1.5.0)\n"
        },
        {
          "name": "stdout",
          "output_type": "stream",
          "text": "Requirement already satisfied, skipping upgrade: entrypoints>=0.2.2 in /home/nbuser/anaconda3_501/lib/python3.6/site-packages (from nbconvert->notebook>=4.4.1->widgetsnbextension~=3.4.0->ipywidgets>=7.4.2->msticpy==0.2.7) (0.2.3)\nRequirement already satisfied, skipping upgrade: mistune<2,>=0.8.1 in /home/nbuser/anaconda3_501/lib/python3.6/site-packages (from nbconvert->notebook>=4.4.1->widgetsnbextension~=3.4.0->ipywidgets>=7.4.2->msticpy==0.2.7) (0.8.4)\nRequirement already satisfied, skipping upgrade: pandocfilters>=1.4.1 in /home/nbuser/anaconda3_501/lib/python3.6/site-packages (from nbconvert->notebook>=4.4.1->widgetsnbextension~=3.4.0->ipywidgets>=7.4.2->msticpy==0.2.7) (1.4.2)\nRequirement already satisfied, skipping upgrade: html5lib!=0.9999,!=0.99999,<0.99999999,>=0.999 in /home/nbuser/anaconda3_501/lib/python3.6/site-packages (from bleach->nbconvert->notebook>=4.4.1->widgetsnbextension~=3.4.0->ipywidgets>=7.4.2->msticpy==0.2.7) (0.9999999)\nBuilding wheels for collected packages: msticpy, bokeh, maxminddb\n  Building wheel for msticpy (setup.py) ... \u001b[?25ldone\n\u001b[?25h  Created wheel for msticpy: filename=msticpy-0.2.7-cp36-none-any.whl size=234686 sha256=8849eb37766daf9f740233009ddc83db9214df7520253d50f822b7d0258858bd\n  Stored in directory: /tmp/pip-ephem-wheel-cache-4j3t2eok/wheels/b9/27/60/323b25db78a0ad1e02d256c3018311f1201b2d49fe05b71780\n  Building wheel for bokeh (setup.py) ... \u001b[?25ldone\n\u001b[?25h  Created wheel for bokeh: filename=bokeh-1.3.4-cp36-none-any.whl size=8548728 sha256=ac7194535d252d20bdb5a8523d4c4847e152e37cf23bf0cfec3f4c9444812d36\n  Stored in directory: /home/nbuser/.cache/pip/wheels/a7/df/f1/80f108cd241803a5200576ac0eed112f0acea5582575cf08b6\n  Building wheel for maxminddb (setup.py) ... \u001b[?25ldone\n\u001b[?25h  Created wheel for maxminddb: filename=maxminddb-1.5.1-cp36-none-any.whl size=13493 sha256=0404c1c31fc909abdc1b877f5394f7ec885a7ce020bb4abea549f1142f0b6792\n  Stored in directory: /home/nbuser/.cache/pip/wheels/25/19/bf/3a83156cc740c19453feda3747b4ba5e5de7802d52e0edfa53\nSuccessfully built msticpy bokeh maxminddb\n\u001b[31mERROR: okpy 1.13.11 has requirement requests==2.12.4, but you'll have requests 2.22.0 which is incompatible.\u001b[0m\n\u001b[31mERROR: kqlmagic 0.1.107.post1 has requirement ipykernel>=5.1.1, but you'll have ipykernel 5.1.0 which is incompatible.\u001b[0m\n\u001b[31mERROR: datascience 0.10.6 has requirement folium==0.2.1, but you'll have folium 0.10.0 which is incompatible.\u001b[0m\n\u001b[31mERROR: azureml-train-automl 1.0.57 has requirement onnxmltools==1.4.1, but you'll have onnxmltools 1.5.0 which is incompatible.\u001b[0m\n\u001b[31mERROR: azureml-train-automl 1.0.57 has requirement pandas<=0.23.4,>=0.21.0, but you'll have pandas 0.25.2 which is incompatible.\u001b[0m\n\u001b[31mERROR: azureml-opendatasets 1.0.57 has requirement pandas<=0.23.4,>=0.21.0, but you'll have pandas 0.25.2 which is incompatible.\u001b[0m\n\u001b[31mERROR: azureml-automl-core 1.0.57 has requirement onnxmltools==1.4.1, but you'll have onnxmltools 1.5.0 which is incompatible.\u001b[0m\n\u001b[31mERROR: azureml-automl-core 1.0.57 has requirement pandas<=0.23.4,>=0.21.0, but you'll have pandas 0.25.2 which is incompatible.\u001b[0m\nInstalling collected packages: bokeh, cryptography, dnspython, branca, folium, maxminddb, geoip2, ipwhois, pytz, pandas, Kqlmagic, requests-file, tldextract, tqdm, urllib3, msticpy\nSuccessfully installed Kqlmagic-0.1.107.post1 bokeh-1.3.4 branca-0.3.1 cryptography-2.8 dnspython-1.16.0 folium-0.10.0 geoip2-2.9.0 ipwhois-1.1.0 maxminddb-1.5.1 msticpy-0.2.7 pandas-0.25.2 pytz-2019.3 requests-file-1.4.3 tldextract-2.2.2 tqdm-4.36.1 urllib3-1.25.6\n\u001b[33mWARNING: You are using pip version 19.2.2, however version 19.3.1 is available.\nYou should consider upgrading via the 'pip install --upgrade pip' command.\u001b[0m\nCollecting pyvis\n  Downloading https://files.pythonhosted.org/packages/7d/7e/df88acbe771afb1fe69b64516d2a56be46befab3e04cfd4258dc6063f96a/pyvis-0.1.7.0-py3-none-any.whl\nRequirement already satisfied, skipping upgrade: networkx>=1.11 in /home/nbuser/anaconda3_501/lib/python3.6/site-packages (from pyvis) (2.2)\nRequirement already satisfied, skipping upgrade: jinja2>=2.9.6 in /home/nbuser/anaconda3_501/lib/python3.6/site-packages (from pyvis) (2.10)\nRequirement already satisfied, skipping upgrade: ipython>=5.3.0 in /home/nbuser/anaconda3_501/lib/python3.6/site-packages (from pyvis) (7.1.1)\nRequirement already satisfied, skipping upgrade: decorator>=4.3.0 in /home/nbuser/anaconda3_501/lib/python3.6/site-packages (from networkx>=1.11->pyvis) (4.3.0)\nRequirement already satisfied, skipping upgrade: MarkupSafe>=0.23 in /home/nbuser/anaconda3_501/lib/python3.6/site-packages (from jinja2>=2.9.6->pyvis) (1.1.0)\nRequirement already satisfied, skipping upgrade: pexpect; sys_platform != \"win32\" in /home/nbuser/anaconda3_501/lib/python3.6/site-packages (from ipython>=5.3.0->pyvis) (4.6.0)\nRequirement already satisfied, skipping upgrade: prompt-toolkit<2.1.0,>=2.0.0 in /home/nbuser/anaconda3_501/lib/python3.6/site-packages (from ipython>=5.3.0->pyvis) (2.0.7)\nRequirement already satisfied, skipping upgrade: jedi>=0.10 in /home/nbuser/anaconda3_501/lib/python3.6/site-packages (from ipython>=5.3.0->pyvis) (0.13.1)\nRequirement already satisfied, skipping upgrade: setuptools>=18.5 in /home/nbuser/anaconda3_501/lib/python3.6/site-packages (from ipython>=5.3.0->pyvis) (41.1.0)\nRequirement already satisfied, skipping upgrade: pygments in /home/nbuser/anaconda3_501/lib/python3.6/site-packages (from ipython>=5.3.0->pyvis) (2.2.0)\nRequirement already satisfied, skipping upgrade: traitlets>=4.2 in /home/nbuser/anaconda3_501/lib/python3.6/site-packages (from ipython>=5.3.0->pyvis) (4.3.2)\nRequirement already satisfied, skipping upgrade: pickleshare in /home/nbuser/anaconda3_501/lib/python3.6/site-packages (from ipython>=5.3.0->pyvis) (0.7.5)\nRequirement already satisfied, skipping upgrade: backcall in /home/nbuser/anaconda3_501/lib/python3.6/site-packages (from ipython>=5.3.0->pyvis) (0.1.0)\nRequirement already satisfied, skipping upgrade: ptyprocess>=0.5 in /home/nbuser/anaconda3_501/lib/python3.6/site-packages (from pexpect; sys_platform != \"win32\"->ipython>=5.3.0->pyvis) (0.6.0)\nRequirement already satisfied, skipping upgrade: six>=1.9.0 in /home/nbuser/anaconda3_501/lib/python3.6/site-packages (from prompt-toolkit<2.1.0,>=2.0.0->ipython>=5.3.0->pyvis) (1.11.0)\nRequirement already satisfied, skipping upgrade: wcwidth in /home/nbuser/anaconda3_501/lib/python3.6/site-packages (from prompt-toolkit<2.1.0,>=2.0.0->ipython>=5.3.0->pyvis) (0.1.7)\nRequirement already satisfied, skipping upgrade: parso>=0.3.0 in /home/nbuser/anaconda3_501/lib/python3.6/site-packages (from jedi>=0.10->ipython>=5.3.0->pyvis) (0.3.1)\nRequirement already satisfied, skipping upgrade: ipython-genutils in /home/nbuser/anaconda3_501/lib/python3.6/site-packages (from traitlets>=4.2->ipython>=5.3.0->pyvis) (0.2.0)\nInstalling collected packages: pyvis\nSuccessfully installed pyvis-0.1.7.0\n\u001b[33mWARNING: You are using pip version 19.2.2, however version 19.3.1 is available.\nYou should consider upgrading via the 'pip install --upgrade pip' command.\u001b[0m\nTo ensure that the latest versions of the installed libraries are used, please restart the current kernel and run the notebook again skipping this cell.\n"
        }
      ]
    }
  ],
  "metadata": {
    "celltoolbar": "Tags",
    "hide_input": false,
    "kernelspec": {
      "name": "python36",
      "display_name": "Python 3.6",
      "language": "python"
    },
    "language_info": {
      "mimetype": "text/x-python",
      "nbconvert_exporter": "python",
      "name": "python",
      "pygments_lexer": "ipython3",
      "version": "3.6.6",
      "file_extension": ".py",
      "codemirror_mode": {
        "version": 3,
        "name": "ipython"
      }
    },
    "toc": {
      "base_numbering": 1,
      "nav_menu": {},
      "number_sections": true,
      "sideBar": true,
      "skip_h1_title": true,
      "title_cell": "Table of Contents",
      "title_sidebar": "Contents",
      "toc_cell": true,
      "toc_position": {
        "height": "calc(100% - 180px)",
        "left": "10px",
        "top": "150px",
        "width": "512px"
      },
      "toc_section_display": true,
      "toc_window_display": false
    },
    "widgets": {
      "application/vnd.jupyter.widget-state+json": {
        "state": {
          "0075662841444acea028894ec896a45e": {
            "model_module": "@jupyter-widgets/base",
            "model_module_version": "1.1.0",
            "model_name": "LayoutModel",
            "state": {
              "width": "900px"
            }
          },
          "01177c71d97e48ceb53f00dab0c56fad": {
            "model_module": "@jupyter-widgets/controls",
            "model_module_version": "1.4.0",
            "model_name": "IntRangeSliderModel",
            "state": {
              "_model_name": "IntRangeSliderModel",
              "_view_name": "IntRangeSliderView",
              "description": "Time Range (day):",
              "layout": "IPY_MODEL_e546a872b9ee4b32b9d50012b605e7af",
              "max": 1,
              "min": -20,
              "style": "IPY_MODEL_aaafd73220ff46638020548c9e089c68",
              "value": [
                -3,
                1
              ]
            }
          },
          "021d8fc3337e41f48d1569d931686868": {
            "model_module": "@jupyter-widgets/base",
            "model_module_version": "1.1.0",
            "model_name": "LayoutModel",
            "state": {
              "width": "10%"
            }
          },
          "0239c9e946fe4b3d996d382586c770f2": {
            "model_module": "@jupyter-widgets/base",
            "model_module_version": "1.1.0",
            "model_name": "LayoutModel",
            "state": {}
          },
          "03b558841dce40c89d9259af5721e87c": {
            "model_module": "@jupyter-widgets/controls",
            "model_module_version": "1.4.0",
            "model_name": "ButtonStyleModel",
            "state": {}
          },
          "047dd2a606d7423389885b90105fed49": {
            "model_module": "@jupyter-widgets/controls",
            "model_module_version": "1.4.0",
            "model_name": "ButtonStyleModel",
            "state": {}
          },
          "06692a70aa3e4dc8ab4f3d67441c1599": {
            "model_module": "@jupyter-widgets/base",
            "model_module_version": "1.1.0",
            "model_name": "LayoutModel",
            "state": {
              "width": "10%"
            }
          },
          "06a670dca82b4795855d8b307933408c": {
            "model_module": "@jupyter-widgets/controls",
            "model_module_version": "1.4.0",
            "model_name": "DescriptionStyleModel",
            "state": {
              "description_width": ""
            }
          },
          "0712e3ef89d541b1b761e01aefefc38d": {
            "model_module": "@jupyter-widgets/controls",
            "model_module_version": "1.4.0",
            "model_name": "HTMLModel",
            "state": {
              "layout": "IPY_MODEL_10c417c986f34cbbaa5b6df076734591",
              "style": "IPY_MODEL_3c919bdb7d104376a923ae1e14ebd150"
            }
          },
          "08b24d13cdc141109a6aa77fa183c4f2": {
            "model_module": "@jupyter-widgets/base",
            "model_module_version": "1.1.0",
            "model_name": "LayoutModel",
            "state": {}
          },
          "0901c605b8e04e62a2d388761bd44301": {
            "model_module": "@jupyter-widgets/controls",
            "model_module_version": "1.4.0",
            "model_name": "TextModel",
            "state": {
              "description": "Please enter your Log Analytics Tenant Id:",
              "layout": "IPY_MODEL_d322f32c16104051a8e19749d64b42b5",
              "style": "IPY_MODEL_93996354e2454073a8bf2d7804671cbd",
              "value": "72f988bf-86f1-41af-91ab-2d7cd011db47"
            }
          },
          "090e76f0c0684c94bbca154507251a19": {
            "model_module": "@jupyter-widgets/controls",
            "model_module_version": "1.4.0",
            "model_name": "DescriptionStyleModel",
            "state": {
              "description_width": "initial"
            }
          },
          "0a249ade20ac4ea193d58ba16fdd98f9": {
            "model_module": "@jupyter-widgets/base",
            "model_module_version": "1.1.0",
            "model_name": "LayoutModel",
            "state": {
              "width": "50%"
            }
          },
          "0b362503218e4ba1b6763da37df0302e": {
            "model_module": "@jupyter-widgets/controls",
            "model_module_version": "1.4.0",
            "model_name": "HTMLModel",
            "state": {
              "layout": "IPY_MODEL_20a61d414bee400182be3ea73a27f0c0",
              "style": "IPY_MODEL_a2b2e6df8b0f42eda28559a499474ce6"
            }
          },
          "0b65ead0d8834afdb4780c1c703db239": {
            "model_module": "@jupyter-widgets/base",
            "model_module_version": "1.1.0",
            "model_name": "LayoutModel",
            "state": {}
          },
          "0c72f20013cb44f7a96948f01e75d0b9": {
            "model_module": "@jupyter-widgets/controls",
            "model_module_version": "1.4.0",
            "model_name": "DescriptionStyleModel",
            "state": {
              "description_width": ""
            }
          },
          "0c88efaa859e4ccdadb1ecf5c4b2cf4b": {
            "model_module": "@jupyter-widgets/controls",
            "model_module_version": "1.4.0",
            "model_name": "DescriptionStyleModel",
            "state": {
              "description_width": ""
            }
          },
          "0d102135628e4bd79828e61137003b93": {
            "model_module": "@jupyter-widgets/controls",
            "model_module_version": "1.4.0",
            "model_name": "HTMLModel",
            "state": {
              "layout": "IPY_MODEL_f61f3dbd6015481086d8ae1eceba1159",
              "style": "IPY_MODEL_88f41466fff74b18a7d69cff00994bb6",
              "value": "<h4>Set query time boundaries</h4>"
            }
          },
          "0e165e2276074c378cc0403a98270887": {
            "model_module": "@jupyter-widgets/controls",
            "model_module_version": "1.4.0",
            "model_name": "DescriptionStyleModel",
            "state": {
              "description_width": "initial"
            }
          },
          "0eabb176baeb45d99e98aecbc7d0568b": {
            "model_module": "@jupyter-widgets/controls",
            "model_module_version": "1.4.0",
            "model_name": "IntProgressModel",
            "state": {
              "layout": "IPY_MODEL_ef54a64ae25e4a9c938fac320e2bb73e",
              "max": 40,
              "style": "IPY_MODEL_6969105a4b574d7b8ca999526f7ce5c6",
              "value": 40
            }
          },
          "105fd2b7efc14323b1b6572057180789": {
            "model_module": "@jupyter-widgets/base",
            "model_module_version": "1.1.0",
            "model_name": "LayoutModel",
            "state": {
              "width": "50%"
            }
          },
          "10c417c986f34cbbaa5b6df076734591": {
            "model_module": "@jupyter-widgets/base",
            "model_module_version": "1.1.0",
            "model_name": "LayoutModel",
            "state": {}
          },
          "10fbfe66067b4323adadd5f4d38ea6d6": {
            "model_module": "@jupyter-widgets/base",
            "model_module_version": "1.1.0",
            "model_name": "LayoutModel",
            "state": {}
          },
          "112830caa3d8430da1c0c79d3d4aa523": {
            "model_module": "@jupyter-widgets/controls",
            "model_module_version": "1.4.0",
            "model_name": "DescriptionStyleModel",
            "state": {
              "description_width": "initial"
            }
          },
          "114e354f6ff9465bb991ba0fb376460e": {
            "model_module": "@jupyter-widgets/controls",
            "model_module_version": "1.4.0",
            "model_name": "DropdownModel",
            "state": {
              "_options_labels": [
                "UbuntuDevEnv"
              ],
              "description": "Select Computer to view raw logs",
              "index": 0,
              "layout": "IPY_MODEL_0075662841444acea028894ec896a45e",
              "style": "IPY_MODEL_8fd76360cc114dc29dcb9825d26ef598"
            }
          },
          "150f70d453fb45e188169cf71bc5211d": {
            "model_module": "@jupyter-widgets/base",
            "model_module_version": "1.1.0",
            "model_name": "LayoutModel",
            "state": {}
          },
          "15332ead78f247e3b0a1919973d8f285": {
            "model_module": "@jupyter-widgets/base",
            "model_module_version": "1.1.0",
            "model_name": "LayoutModel",
            "state": {}
          },
          "15a9645ce8c1417b8c41527aafee21f5": {
            "model_module": "@jupyter-widgets/base",
            "model_module_version": "1.1.0",
            "model_name": "LayoutModel",
            "state": {
              "width": "80%"
            }
          },
          "17487891898f45089e64005742975aa3": {
            "model_module": "@jupyter-widgets/controls",
            "model_module_version": "1.4.0",
            "model_name": "ButtonStyleModel",
            "state": {}
          },
          "18db3af38e3f4f97b17c1a2e812c7239": {
            "model_module": "@jupyter-widgets/base",
            "model_module_version": "1.1.0",
            "model_name": "LayoutModel",
            "state": {}
          },
          "1b3a49036fa8460d8930592422ec2a7a": {
            "model_module": "@jupyter-widgets/base",
            "model_module_version": "1.1.0",
            "model_name": "LayoutModel",
            "state": {
              "width": "50%"
            }
          },
          "1b438c5811554683adf8b575b29e85d5": {
            "model_module": "@jupyter-widgets/controls",
            "model_module_version": "1.4.0",
            "model_name": "HTMLModel",
            "state": {
              "layout": "IPY_MODEL_b4ee715966cb40e5932ea8a778c53217",
              "style": "IPY_MODEL_ea5c2877598b46fd9563c8999e67808c"
            }
          },
          "1c09fae5da99409289d881414e1e713b": {
            "model_module": "@jupyter-widgets/base",
            "model_module_version": "1.1.0",
            "model_name": "LayoutModel",
            "state": {}
          },
          "1c920722168d4989853bbd4b0f0d99b9": {
            "model_module": "@jupyter-widgets/controls",
            "model_module_version": "1.4.0",
            "model_name": "DescriptionStyleModel",
            "state": {
              "description_width": ""
            }
          },
          "1e2220fb60c647939002e98aec087af2": {
            "model_module": "@jupyter-widgets/base",
            "model_module_version": "1.1.0",
            "model_name": "LayoutModel",
            "state": {}
          },
          "1e8de51c936e4e7ba805b152378ff61c": {
            "model_module": "@jupyter-widgets/controls",
            "model_module_version": "1.4.0",
            "model_name": "DescriptionStyleModel",
            "state": {
              "description_width": "initial"
            }
          },
          "1f7e4884e8784e2f9b892af41c15ea73": {
            "model_module": "@jupyter-widgets/controls",
            "model_module_version": "1.4.0",
            "model_name": "DescriptionStyleModel",
            "state": {
              "description_width": ""
            }
          },
          "2047773c85c54ff192b8c589adca6fef": {
            "model_module": "@jupyter-widgets/controls",
            "model_module_version": "1.4.0",
            "model_name": "DescriptionStyleModel",
            "state": {
              "description_width": "initial"
            }
          },
          "20a61d414bee400182be3ea73a27f0c0": {
            "model_module": "@jupyter-widgets/base",
            "model_module_version": "1.1.0",
            "model_name": "LayoutModel",
            "state": {}
          },
          "2225e43e36f640d897dc940031435be1": {
            "model_module": "@jupyter-widgets/controls",
            "model_module_version": "1.4.0",
            "model_name": "VBoxModel",
            "state": {
              "children": [
                "IPY_MODEL_6e31c99889df462d8e38efb3d1612175",
                "IPY_MODEL_ec61c26087834d0b93a3461b7058b1c0",
                "IPY_MODEL_f684bef680124c33b53ed5d51d1b47bd"
              ],
              "layout": "IPY_MODEL_a7caf5a570b2452190e49121ad854b85"
            }
          },
          "2368e20e25014efb93bec38fe87e7c63": {
            "model_module": "@jupyter-widgets/base",
            "model_module_version": "1.1.0",
            "model_name": "LayoutModel",
            "state": {
              "width": "900px"
            }
          },
          "25f59c4c5fbb4e26a21a6a3aeac10e4b": {
            "model_module": "@jupyter-widgets/controls",
            "model_module_version": "1.4.0",
            "model_name": "DescriptionStyleModel",
            "state": {
              "description_width": ""
            }
          },
          "2732e0d033ef45b5be5d22811e378d67": {
            "model_module": "@jupyter-widgets/controls",
            "model_module_version": "1.4.0",
            "model_name": "DropdownModel",
            "state": {
              "description": "Select IP to view raw logs",
              "index": null,
              "layout": "IPY_MODEL_0075662841444acea028894ec896a45e",
              "style": "IPY_MODEL_112830caa3d8430da1c0c79d3d4aa523"
            }
          },
          "2746192db58449c59bb4508b9abc3df1": {
            "model_module": "@jupyter-widgets/controls",
            "model_module_version": "1.4.0",
            "model_name": "DescriptionStyleModel",
            "state": {
              "description_width": "initial"
            }
          },
          "2806b311e6574e4ebe481907b63e009e": {
            "model_module": "@jupyter-widgets/base",
            "model_module_version": "1.1.0",
            "model_name": "LayoutModel",
            "state": {}
          },
          "2887356e9a1c4174ba6a4b5832749066": {
            "model_module": "@jupyter-widgets/controls",
            "model_module_version": "1.4.0",
            "model_name": "DescriptionStyleModel",
            "state": {
              "description_width": "initial"
            }
          },
          "29b075d68222452ebf77c23442820bd9": {
            "model_module": "@jupyter-widgets/base",
            "model_module_version": "1.1.0",
            "model_name": "LayoutModel",
            "state": {}
          },
          "2bd15233486840d9bca460b822d9f8ea": {
            "model_module": "@jupyter-widgets/controls",
            "model_module_version": "1.4.0",
            "model_name": "IntRangeSliderModel",
            "state": {
              "_model_name": "IntRangeSliderModel",
              "_view_name": "IntRangeSliderView",
              "description": "Time Range (day):",
              "layout": "IPY_MODEL_75f396f14cec4a4996e3d9486ac24f9c",
              "max": 1,
              "min": -20,
              "style": "IPY_MODEL_7f927bd22372481395266b7410baf679",
              "value": [
                -3,
                1
              ]
            }
          },
          "2c0ff3a7dff34850bdef24f251451838": {
            "model_module": "@jupyter-widgets/base",
            "model_module_version": "1.1.0",
            "model_name": "LayoutModel",
            "state": {}
          },
          "2c20615c6d174b5387309ca0f4a7dfe8": {
            "model_module": "@jupyter-widgets/controls",
            "model_module_version": "1.4.0",
            "model_name": "CheckboxModel",
            "state": {
              "description": "Save as environment var",
              "disabled": false,
              "layout": "IPY_MODEL_ba1750033a2b4d65a9750d650423e9c0",
              "style": "IPY_MODEL_95da6058800942adb36c7c0641f2a9b4",
              "value": true
            }
          },
          "2d5a618c8af34f8d99750498b8a2afc7": {
            "model_module": "@jupyter-widgets/controls",
            "model_module_version": "1.4.0",
            "model_name": "RadioButtonsModel",
            "state": {
              "_options_labels": [
                "URL Only",
                "URL and Domain"
              ],
              "index": 1,
              "layout": "IPY_MODEL_80f41a4193f54a93afc4cd065e86423c",
              "style": "IPY_MODEL_5962054fe0ec42e2850bdfdee5af95c2"
            }
          },
          "2d96b563bb2540e493ce2fc0ef46a1d2": {
            "model_module": "@jupyter-widgets/base",
            "model_module_version": "1.1.0",
            "model_name": "LayoutModel",
            "state": {
              "width": "10%"
            }
          },
          "2d9bb7ef6315432d9389a7c484738be5": {
            "model_module": "@jupyter-widgets/controls",
            "model_module_version": "1.4.0",
            "model_name": "DropdownModel",
            "state": {
              "_options_labels": [
                "UbuntuDevEnv"
              ],
              "description": "Select Computer to view raw logs",
              "index": 0,
              "layout": "IPY_MODEL_0075662841444acea028894ec896a45e",
              "style": "IPY_MODEL_9ff6e8362bdb478eb42da308c25654f6"
            }
          },
          "2e25b5950d79409b9245adbd9b9e9104": {
            "model_module": "@jupyter-widgets/base",
            "model_module_version": "1.1.0",
            "model_name": "LayoutModel",
            "state": {}
          },
          "2e6d591e06a1408dabce0cc09cb93412": {
            "model_module": "@jupyter-widgets/controls",
            "model_module_version": "1.4.0",
            "model_name": "DescriptionStyleModel",
            "state": {
              "description_width": "initial"
            }
          },
          "2fc4e8fdb09441e0b3a6779b3d99b0a0": {
            "model_module": "@jupyter-widgets/output",
            "model_module_version": "1.0.0",
            "model_name": "OutputModel",
            "state": {
              "layout": "IPY_MODEL_bbd3a686a3364c6aa1e2158a47fcc086",
              "outputs": [
                {
                  "data": {
                    "text/html": "<div>\n<style scoped>\n    .dataframe tbody tr th:only-of-type {\n        vertical-align: middle;\n    }\n\n    .dataframe tbody tr th {\n        vertical-align: top;\n    }\n\n    .dataframe thead th {\n        text-align: right;\n    }\n</style>\n<table border=\"1\" class=\"dataframe\">\n  <thead>\n    <tr style=\"text-align: right;\">\n      <th></th>\n      <th>TenantId</th>\n      <th>SourceSystem</th>\n      <th>TimeGenerated</th>\n      <th>Computer</th>\n      <th>EventTime</th>\n      <th>Facility</th>\n      <th>HostName</th>\n      <th>SeverityLevel</th>\n      <th>SyslogMessage</th>\n      <th>ProcessID</th>\n      <th>HostIP</th>\n      <th>ProcessName</th>\n      <th>MG</th>\n      <th>Type</th>\n      <th>_ResourceId</th>\n      <th>Account</th>\n      <th>AccountType</th>\n      <th>EventSourceName</th>\n      <th>Channel</th>\n      <th>Task</th>\n      <th>Level</th>\n      <th>EventData</th>\n      <th>EventID</th>\n      <th>Activity</th>\n      <th>PartitionKey</th>\n      <th>...</th>\n      <th>TargetServerName</th>\n      <th>TargetSid</th>\n      <th>TargetUser</th>\n      <th>TargetUserName</th>\n      <th>TargetUserSid</th>\n      <th>TemplateContent</th>\n      <th>TemplateDSObjectFQDN</th>\n      <th>TemplateInternalName</th>\n      <th>TemplateOID</th>\n      <th>TemplateSchemaVersion</th>\n      <th>TemplateVersion</th>\n      <th>TokenElevationType</th>\n      <th>TransmittedServices</th>\n      <th>UserAccountControl</th>\n      <th>UserParameters</th>\n      <th>UserPrincipalName</th>\n      <th>UserWorkstations</th>\n      <th>VirtualAccount</th>\n      <th>VendorIds</th>\n      <th>Workstation</th>\n      <th>WorkstationName</th>\n      <th>SourceComputerId</th>\n      <th>EventOriginId</th>\n      <th>TimeCollected</th>\n      <th>ManagementGroupName</th>\n    </tr>\n  </thead>\n  <tbody>\n    <tr>\n      <td>0</td>\n      <td>b1315f05-4a7a-45b4-811f-73e715f7c122</td>\n      <td>Linux</td>\n      <td>2019-10-11 20:42:30.440</td>\n      <td>UbuntuDevEnv</td>\n      <td>2019-10-11 20:42:30</td>\n      <td>authpriv</td>\n      <td>UbuntuDevEnv</td>\n      <td>notice</td>\n      <td>peteb : TTY=pts/0   PWD=/home/peteb   USER=root   COMMAND=/usr/bin/curl http://cui0d716336363935...</td>\n      <td>NaN</td>\n      <td>10.0.1.4</td>\n      <td>sudo</td>\n      <td>00000000-0000-0000-0000-000000000002</td>\n      <td>Syslog</td>\n      <td>/subscriptions/3b701f84-d04b-4479-89b1-fa8827eb537e/resourcegroups/contoso/providers/microsoft.c...</td>\n      <td></td>\n      <td></td>\n      <td></td>\n      <td></td>\n      <td>NaN</td>\n      <td></td>\n      <td></td>\n      <td>NaN</td>\n      <td></td>\n      <td></td>\n      <td>...</td>\n      <td></td>\n      <td></td>\n      <td></td>\n      <td></td>\n      <td></td>\n      <td></td>\n      <td></td>\n      <td></td>\n      <td></td>\n      <td></td>\n      <td></td>\n      <td></td>\n      <td></td>\n      <td></td>\n      <td></td>\n      <td></td>\n      <td></td>\n      <td></td>\n      <td></td>\n      <td></td>\n      <td></td>\n      <td></td>\n      <td></td>\n      <td>NaT</td>\n      <td></td>\n    </tr>\n    <tr>\n      <td>1</td>\n      <td>b1315f05-4a7a-45b4-811f-73e715f7c122</td>\n      <td>Linux</td>\n      <td>2019-10-11 20:49:53.050</td>\n      <td>UbuntuDevEnv</td>\n      <td>2019-10-11 20:49:53</td>\n      <td>authpriv</td>\n      <td>UbuntuDevEnv</td>\n      <td>notice</td>\n      <td>peteb : TTY=pts/0   PWD=/home/peteb   USER=root   COMMAND=/usr/bin/wget http://cui0d716336363935...</td>\n      <td>NaN</td>\n      <td>10.0.1.4</td>\n      <td>sudo</td>\n      <td>00000000-0000-0000-0000-000000000002</td>\n      <td>Syslog</td>\n      <td>/subscriptions/3b701f84-d04b-4479-89b1-fa8827eb537e/resourcegroups/contoso/providers/microsoft.c...</td>\n      <td></td>\n      <td></td>\n      <td></td>\n      <td></td>\n      <td>NaN</td>\n      <td></td>\n      <td></td>\n      <td>NaN</td>\n      <td></td>\n      <td></td>\n      <td>...</td>\n      <td></td>\n      <td></td>\n      <td></td>\n      <td></td>\n      <td></td>\n      <td></td>\n      <td></td>\n      <td></td>\n      <td></td>\n      <td></td>\n      <td></td>\n      <td></td>\n      <td></td>\n      <td></td>\n      <td></td>\n      <td></td>\n      <td></td>\n      <td></td>\n      <td></td>\n      <td></td>\n      <td></td>\n      <td></td>\n      <td></td>\n      <td>NaT</td>\n      <td></td>\n    </tr>\n    <tr>\n      <td>2</td>\n      <td>b1315f05-4a7a-45b4-811f-73e715f7c122</td>\n      <td>Linux</td>\n      <td>2019-10-11 20:46:24.540</td>\n      <td>UbuntuDevEnv</td>\n      <td>2019-10-11 20:46:24</td>\n      <td>authpriv</td>\n      <td>UbuntuDevEnv</td>\n      <td>notice</td>\n      <td>peteb : TTY=pts/0   PWD=/home/peteb   USER=root   COMMAND=/usr/bin/curl http://cui0d716336363935...</td>\n      <td>NaN</td>\n      <td>10.0.1.4</td>\n      <td>sudo</td>\n      <td>00000000-0000-0000-0000-000000000002</td>\n      <td>Syslog</td>\n      <td>/subscriptions/3b701f84-d04b-4479-89b1-fa8827eb537e/resourcegroups/contoso/providers/microsoft.c...</td>\n      <td></td>\n      <td></td>\n      <td></td>\n      <td></td>\n      <td>NaN</td>\n      <td></td>\n      <td></td>\n      <td>NaN</td>\n      <td></td>\n      <td></td>\n      <td>...</td>\n      <td></td>\n      <td></td>\n      <td></td>\n      <td></td>\n      <td></td>\n      <td></td>\n      <td></td>\n      <td></td>\n      <td></td>\n      <td></td>\n      <td></td>\n      <td></td>\n      <td></td>\n      <td></td>\n      <td></td>\n      <td></td>\n      <td></td>\n      <td></td>\n      <td></td>\n      <td></td>\n      <td></td>\n      <td></td>\n      <td></td>\n      <td>NaT</td>\n      <td></td>\n    </tr>\n  </tbody>\n</table>\n<p>3 rows × 232 columns</p>\n</div>",
                    "text/plain": "                               TenantId SourceSystem           TimeGenerated  \\\n0  b1315f05-4a7a-45b4-811f-73e715f7c122        Linux 2019-10-11 20:42:30.440   \n1  b1315f05-4a7a-45b4-811f-73e715f7c122        Linux 2019-10-11 20:49:53.050   \n2  b1315f05-4a7a-45b4-811f-73e715f7c122        Linux 2019-10-11 20:46:24.540   \n\n       Computer           EventTime  Facility      HostName SeverityLevel  \\\n0  UbuntuDevEnv 2019-10-11 20:42:30  authpriv  UbuntuDevEnv        notice   \n1  UbuntuDevEnv 2019-10-11 20:49:53  authpriv  UbuntuDevEnv        notice   \n2  UbuntuDevEnv 2019-10-11 20:46:24  authpriv  UbuntuDevEnv        notice   \n\n                                                                                         SyslogMessage  \\\n0  peteb : TTY=pts/0   PWD=/home/peteb   USER=root   COMMAND=/usr/bin/curl http://cui0d716336363935...   \n1  peteb : TTY=pts/0   PWD=/home/peteb   USER=root   COMMAND=/usr/bin/wget http://cui0d716336363935...   \n2  peteb : TTY=pts/0   PWD=/home/peteb   USER=root   COMMAND=/usr/bin/curl http://cui0d716336363935...   \n\n   ProcessID    HostIP ProcessName                                    MG  \\\n0        NaN  10.0.1.4        sudo  00000000-0000-0000-0000-000000000002   \n1        NaN  10.0.1.4        sudo  00000000-0000-0000-0000-000000000002   \n2        NaN  10.0.1.4        sudo  00000000-0000-0000-0000-000000000002   \n\n     Type  \\\n0  Syslog   \n1  Syslog   \n2  Syslog   \n\n                                                                                           _ResourceId  \\\n0  /subscriptions/3b701f84-d04b-4479-89b1-fa8827eb537e/resourcegroups/contoso/providers/microsoft.c...   \n1  /subscriptions/3b701f84-d04b-4479-89b1-fa8827eb537e/resourcegroups/contoso/providers/microsoft.c...   \n2  /subscriptions/3b701f84-d04b-4479-89b1-fa8827eb537e/resourcegroups/contoso/providers/microsoft.c...   \n\n  Account AccountType EventSourceName Channel  Task Level EventData  EventID  \\\n0                                               NaN                      NaN   \n1                                               NaN                      NaN   \n2                                               NaN                      NaN   \n\n  Activity PartitionKey  ... TargetServerName TargetSid TargetUser  \\\n0                        ...                                         \n1                        ...                                         \n2                        ...                                         \n\n  TargetUserName TargetUserSid TemplateContent TemplateDSObjectFQDN  \\\n0                                                                     \n1                                                                     \n2                                                                     \n\n  TemplateInternalName TemplateOID TemplateSchemaVersion TemplateVersion  \\\n0                                                                          \n1                                                                          \n2                                                                          \n\n  TokenElevationType TransmittedServices UserAccountControl UserParameters  \\\n0                                                                            \n1                                                                            \n2                                                                            \n\n  UserPrincipalName  UserWorkstations  VirtualAccount VendorIds Workstation  \\\n0                                                                             \n1                                                                             \n2                                                                             \n\n  WorkstationName  SourceComputerId EventOriginId TimeCollected  \\\n0                                                           NaT   \n1                                                           NaT   \n2                                                           NaT   \n\n  ManagementGroupName  \n0                      \n1                      \n2                      \n\n[3 rows x 232 columns]"
                  },
                  "metadata": {},
                  "output_type": "display_data"
                }
              ]
            }
          },
          "2fd67811306b4325a6b2d8cd5986d86f": {
            "model_module": "@jupyter-widgets/controls",
            "model_module_version": "1.4.0",
            "model_name": "CheckboxModel",
            "state": {
              "description": "Save as environment var",
              "disabled": false,
              "layout": "IPY_MODEL_29b075d68222452ebf77c23442820bd9",
              "style": "IPY_MODEL_f1fb2555545d4135b6400fe3e2a367a8",
              "value": true
            }
          },
          "2ff401a16f1b4012a5159c88fbef820a": {
            "model_module": "@jupyter-widgets/controls",
            "model_module_version": "1.4.0",
            "model_name": "DescriptionStyleModel",
            "state": {
              "description_width": ""
            }
          },
          "30eb694ae6c64ffe975d7a2ca7410d7e": {
            "model_module": "@jupyter-widgets/controls",
            "model_module_version": "1.4.0",
            "model_name": "DescriptionStyleModel",
            "state": {
              "description_width": ""
            }
          },
          "316853a879a444f3b19310d9820b7ad7": {
            "model_module": "@jupyter-widgets/controls",
            "model_module_version": "1.4.0",
            "model_name": "VBoxModel",
            "state": {
              "_dom_classes": [
                "widget-interact"
              ],
              "children": [
                "IPY_MODEL_e3071a26b1844b4ca9e25fec53d687cb",
                "IPY_MODEL_501a18abb9b64998852f3ce5ddb55734"
              ],
              "layout": "IPY_MODEL_41b52a1eb7bf4eba827afc9696298ead"
            }
          },
          "31cdfb23546048fba2b72b5c74c8187d": {
            "model_module": "@jupyter-widgets/controls",
            "model_module_version": "1.4.0",
            "model_name": "DescriptionStyleModel",
            "state": {
              "description_width": "initial"
            }
          },
          "321032eb263f4dedb297de59f79ccef4": {
            "model_module": "@jupyter-widgets/controls",
            "model_module_version": "1.4.0",
            "model_name": "DatePickerModel",
            "state": {
              "description": "Origin Date",
              "disabled": false,
              "layout": "IPY_MODEL_b1af871ced264eb9880fd7237ecdd4b1",
              "style": "IPY_MODEL_9e6f819d1ae949eaa8a233ec60eb1460",
              "value": {
                "date": 11,
                "month": 9,
                "year": 2019
              }
            }
          },
          "339b9d8d9c024ce69de22be0e3366f06": {
            "model_module": "@jupyter-widgets/controls",
            "model_module_version": "1.4.0",
            "model_name": "ButtonStyleModel",
            "state": {}
          },
          "33d8b9ccc7234ea790aa4ec9a452e732": {
            "model_module": "@jupyter-widgets/controls",
            "model_module_version": "1.4.0",
            "model_name": "ButtonStyleModel",
            "state": {}
          },
          "340d033370ad432d81b60566e59ec18c": {
            "model_module": "@jupyter-widgets/controls",
            "model_module_version": "1.4.0",
            "model_name": "DescriptionStyleModel",
            "state": {
              "description_width": "initial"
            }
          },
          "3501fa6848974dc7a49688cbbbad8142": {
            "model_module": "@jupyter-widgets/base",
            "model_module_version": "1.1.0",
            "model_name": "LayoutModel",
            "state": {}
          },
          "3589186699d1417d9276669a286e0efb": {
            "model_module": "@jupyter-widgets/base",
            "model_module_version": "1.1.0",
            "model_name": "LayoutModel",
            "state": {}
          },
          "35c76f43571f4b088ab76b9bf7344071": {
            "model_module": "@jupyter-widgets/base",
            "model_module_version": "1.1.0",
            "model_name": "LayoutModel",
            "state": {}
          },
          "36bd9e5785b04d36b95686797d0ddcc9": {
            "model_module": "@jupyter-widgets/base",
            "model_module_version": "1.1.0",
            "model_name": "LayoutModel",
            "state": {}
          },
          "37e1371ed3174186b2a0022c4435caa3": {
            "model_module": "@jupyter-widgets/base",
            "model_module_version": "1.1.0",
            "model_name": "LayoutModel",
            "state": {
              "width": "80%"
            }
          },
          "384b02d95b6d48a3874abfab524567ac": {
            "model_module": "@jupyter-widgets/controls",
            "model_module_version": "1.4.0",
            "model_name": "DescriptionStyleModel",
            "state": {
              "description_width": "initial"
            }
          },
          "39b3827de7294d2ebbed80aa2b7687df": {
            "model_module": "@jupyter-widgets/controls",
            "model_module_version": "1.4.0",
            "model_name": "DescriptionStyleModel",
            "state": {
              "description_width": ""
            }
          },
          "39e42aa8ed9e4c0bb6a3ada1c79ef7b7": {
            "model_module": "@jupyter-widgets/base",
            "model_module_version": "1.1.0",
            "model_name": "LayoutModel",
            "state": {
              "width": "50%"
            }
          },
          "3c440522b1c84345a5d419eb74f5be05": {
            "model_module": "@jupyter-widgets/controls",
            "model_module_version": "1.4.0",
            "model_name": "TextModel",
            "state": {
              "description": "Please enter your Log Analytics Workspace Id:",
              "layout": "IPY_MODEL_6f7be0717ae3445b982e0a13bca8c7be",
              "style": "IPY_MODEL_980050ac8e9848df8cdb7d3ef0d4bdd1",
              "value": "b1315f05-4a7a-45b4-811f-73e715f7c122"
            }
          },
          "3c53ec1b22954bac83c45e86c23d25b5": {
            "model_module": "@jupyter-widgets/controls",
            "model_module_version": "1.4.0",
            "model_name": "IntRangeSliderModel",
            "state": {
              "_model_name": "IntRangeSliderModel",
              "_view_name": "IntRangeSliderView",
              "description": "Time Range (day):",
              "layout": "IPY_MODEL_37e1371ed3174186b2a0022c4435caa3",
              "max": 1,
              "min": -20,
              "style": "IPY_MODEL_6846c88a5d684388a877973b6bb7cebc",
              "value": [
                -3,
                1
              ]
            }
          },
          "3c919bdb7d104376a923ae1e14ebd150": {
            "model_module": "@jupyter-widgets/controls",
            "model_module_version": "1.4.0",
            "model_name": "DescriptionStyleModel",
            "state": {
              "description_width": ""
            }
          },
          "3cedb4e2262e44b3b6776afb037701d8": {
            "model_module": "@jupyter-widgets/controls",
            "model_module_version": "1.4.0",
            "model_name": "DescriptionStyleModel",
            "state": {
              "description_width": ""
            }
          },
          "3e564eaf0e164c36a84de531990ffb62": {
            "model_module": "@jupyter-widgets/controls",
            "model_module_version": "1.4.0",
            "model_name": "DescriptionStyleModel",
            "state": {
              "description_width": ""
            }
          },
          "40375b03e24c4e3a99be0ec3b790a748": {
            "model_module": "@jupyter-widgets/base",
            "model_module_version": "1.1.0",
            "model_name": "LayoutModel",
            "state": {
              "width": "10%"
            }
          },
          "41762a84884140adabff6ac237bee29a": {
            "model_module": "@jupyter-widgets/controls",
            "model_module_version": "1.4.0",
            "model_name": "DescriptionStyleModel",
            "state": {
              "description_width": ""
            }
          },
          "41b52a1eb7bf4eba827afc9696298ead": {
            "model_module": "@jupyter-widgets/base",
            "model_module_version": "1.1.0",
            "model_name": "LayoutModel",
            "state": {}
          },
          "41bcf61e2c484b00a6bb8e4b8851c0e7": {
            "model_module": "@jupyter-widgets/base",
            "model_module_version": "1.1.0",
            "model_name": "LayoutModel",
            "state": {
              "width": "900px"
            }
          },
          "43bb50ebf90f48fd96c5dcbefbc6e7ed": {
            "model_module": "@jupyter-widgets/controls",
            "model_module_version": "1.4.0",
            "model_name": "DescriptionStyleModel",
            "state": {
              "description_width": ""
            }
          },
          "44c0828b94404f508cda5fe24c0878cd": {
            "model_module": "@jupyter-widgets/base",
            "model_module_version": "1.1.0",
            "model_name": "LayoutModel",
            "state": {}
          },
          "45575f2aa7ac4d84b18423e83b175dba": {
            "model_module": "@jupyter-widgets/controls",
            "model_module_version": "1.4.0",
            "model_name": "DescriptionStyleModel",
            "state": {
              "description_width": "initial"
            }
          },
          "462dfec125a447ff9cf0cd2f8accd01a": {
            "model_module": "@jupyter-widgets/controls",
            "model_module_version": "1.4.0",
            "model_name": "DescriptionStyleModel",
            "state": {
              "description_width": "initial"
            }
          },
          "465014b8d85149088a7b18924a240ce1": {
            "model_module": "@jupyter-widgets/base",
            "model_module_version": "1.1.0",
            "model_name": "LayoutModel",
            "state": {}
          },
          "47e049f7e3d348359f4170da26d9283f": {
            "model_module": "@jupyter-widgets/base",
            "model_module_version": "1.1.0",
            "model_name": "LayoutModel",
            "state": {
              "width": "50%"
            }
          },
          "47f527be27d94872bfbf41c84773d333": {
            "model_module": "@jupyter-widgets/controls",
            "model_module_version": "1.4.0",
            "model_name": "CheckboxModel",
            "state": {
              "description": "Save as environment var",
              "disabled": false,
              "layout": "IPY_MODEL_a7cfe36da0fc4ac7b433b8c69129e21e",
              "style": "IPY_MODEL_f61e19ffc6374a6d80419c0b03ce1472",
              "value": true
            }
          },
          "48644b00e37e4d03ac68c7f895f8e02b": {
            "model_module": "@jupyter-widgets/controls",
            "model_module_version": "1.4.0",
            "model_name": "VBoxModel",
            "state": {
              "_dom_classes": [
                "widget-interact"
              ],
              "children": [
                "IPY_MODEL_8911b10edb9b45e9b93cab9f7915b97d",
                "IPY_MODEL_588d9c3efa75448e9d92f4cd713c6abd"
              ],
              "layout": "IPY_MODEL_10fbfe66067b4323adadd5f4d38ea6d6"
            }
          },
          "4a52d4cbde544a7cb962ff154c4a5d0d": {
            "model_module": "@jupyter-widgets/base",
            "model_module_version": "1.1.0",
            "model_name": "LayoutModel",
            "state": {}
          },
          "4aa1749ca4084649a7f13337f629063d": {
            "model_module": "@jupyter-widgets/controls",
            "model_module_version": "1.4.0",
            "model_name": "DescriptionStyleModel",
            "state": {
              "description_width": ""
            }
          },
          "4bd7bea063134d378114ad5ed0af0d01": {
            "model_module": "@jupyter-widgets/base",
            "model_module_version": "1.1.0",
            "model_name": "LayoutModel",
            "state": {
              "width": "50%"
            }
          },
          "4cb49b0cd0c24593b06bba36376e259a": {
            "model_module": "@jupyter-widgets/controls",
            "model_module_version": "1.4.0",
            "model_name": "HBoxModel",
            "state": {
              "children": [
                "IPY_MODEL_8ae1598a7176443e9bc45f8c3b0e0b29",
                "IPY_MODEL_cb076d8392094c24b32a01732b8563fc"
              ],
              "layout": "IPY_MODEL_dfa9b2213c3e4f18bf7ab163558dc6bb"
            }
          },
          "4ecd49325717418aa321b92bd442480e": {
            "model_module": "@jupyter-widgets/base",
            "model_module_version": "1.1.0",
            "model_name": "LayoutModel",
            "state": {}
          },
          "4f0c9c4faff34d86aa96dffe8a105875": {
            "model_module": "@jupyter-widgets/controls",
            "model_module_version": "1.4.0",
            "model_name": "DescriptionStyleModel",
            "state": {
              "description_width": ""
            }
          },
          "4fcce18c3bbd49bd802f22ca8e710170": {
            "model_module": "@jupyter-widgets/controls",
            "model_module_version": "1.4.0",
            "model_name": "TextModel",
            "state": {
              "description": "Time (24hr)",
              "layout": "IPY_MODEL_ef6211ca6af54579b082d3e94b0dc8bf",
              "style": "IPY_MODEL_eb94e638bfd94c27a888e584495f0a7a",
              "value": "22:51:20.812868"
            }
          },
          "501a18abb9b64998852f3ce5ddb55734": {
            "model_module": "@jupyter-widgets/output",
            "model_module_version": "1.0.0",
            "model_name": "OutputModel",
            "state": {
              "layout": "IPY_MODEL_a847199084634e0e9a3d65514cfbf737",
              "outputs": [
                {
                  "data": {
                    "text/html": "<div>\n<style scoped>\n    .dataframe tbody tr th:only-of-type {\n        vertical-align: middle;\n    }\n\n    .dataframe tbody tr th {\n        vertical-align: top;\n    }\n\n    .dataframe thead th {\n        text-align: right;\n    }\n</style>\n<table border=\"1\" class=\"dataframe\">\n  <thead>\n    <tr style=\"text-align: right;\">\n      <th></th>\n      <th>TenantId</th>\n      <th>SourceSystem</th>\n      <th>TimeGenerated</th>\n      <th>Computer</th>\n      <th>EventTime</th>\n      <th>Facility</th>\n      <th>HostName</th>\n      <th>SeverityLevel</th>\n      <th>SyslogMessage</th>\n      <th>ProcessID</th>\n      <th>HostIP</th>\n      <th>ProcessName</th>\n      <th>MG</th>\n      <th>Type</th>\n      <th>_ResourceId</th>\n      <th>Account</th>\n      <th>AccountType</th>\n      <th>EventSourceName</th>\n      <th>Channel</th>\n      <th>Task</th>\n      <th>Level</th>\n      <th>EventData</th>\n      <th>EventID</th>\n      <th>Activity</th>\n      <th>PartitionKey</th>\n      <th>...</th>\n      <th>TargetServerName</th>\n      <th>TargetSid</th>\n      <th>TargetUser</th>\n      <th>TargetUserName</th>\n      <th>TargetUserSid</th>\n      <th>TemplateContent</th>\n      <th>TemplateDSObjectFQDN</th>\n      <th>TemplateInternalName</th>\n      <th>TemplateOID</th>\n      <th>TemplateSchemaVersion</th>\n      <th>TemplateVersion</th>\n      <th>TokenElevationType</th>\n      <th>TransmittedServices</th>\n      <th>UserAccountControl</th>\n      <th>UserParameters</th>\n      <th>UserPrincipalName</th>\n      <th>UserWorkstations</th>\n      <th>VirtualAccount</th>\n      <th>VendorIds</th>\n      <th>Workstation</th>\n      <th>WorkstationName</th>\n      <th>SourceComputerId</th>\n      <th>EventOriginId</th>\n      <th>TimeCollected</th>\n      <th>ManagementGroupName</th>\n    </tr>\n  </thead>\n  <tbody>\n    <tr>\n      <td>0</td>\n      <td>b1315f05-4a7a-45b4-811f-73e715f7c122</td>\n      <td>Linux</td>\n      <td>2019-10-11 20:42:30.440</td>\n      <td>UbuntuDevEnv</td>\n      <td>2019-10-11 20:42:30</td>\n      <td>authpriv</td>\n      <td>UbuntuDevEnv</td>\n      <td>notice</td>\n      <td>peteb : TTY=pts/0   PWD=/home/peteb   USER=root   COMMAND=/usr/bin/curl http://cui0d716336363935...</td>\n      <td>NaN</td>\n      <td>10.0.1.4</td>\n      <td>sudo</td>\n      <td>00000000-0000-0000-0000-000000000002</td>\n      <td>Syslog</td>\n      <td>/subscriptions/3b701f84-d04b-4479-89b1-fa8827eb537e/resourcegroups/contoso/providers/microsoft.c...</td>\n      <td></td>\n      <td></td>\n      <td></td>\n      <td></td>\n      <td>NaN</td>\n      <td></td>\n      <td></td>\n      <td>NaN</td>\n      <td></td>\n      <td></td>\n      <td>...</td>\n      <td></td>\n      <td></td>\n      <td></td>\n      <td></td>\n      <td></td>\n      <td></td>\n      <td></td>\n      <td></td>\n      <td></td>\n      <td></td>\n      <td></td>\n      <td></td>\n      <td></td>\n      <td></td>\n      <td></td>\n      <td></td>\n      <td></td>\n      <td></td>\n      <td></td>\n      <td></td>\n      <td></td>\n      <td></td>\n      <td></td>\n      <td>NaT</td>\n      <td></td>\n    </tr>\n    <tr>\n      <td>1</td>\n      <td>b1315f05-4a7a-45b4-811f-73e715f7c122</td>\n      <td>Linux</td>\n      <td>2019-10-11 20:46:24.540</td>\n      <td>UbuntuDevEnv</td>\n      <td>2019-10-11 20:46:24</td>\n      <td>authpriv</td>\n      <td>UbuntuDevEnv</td>\n      <td>notice</td>\n      <td>peteb : TTY=pts/0   PWD=/home/peteb   USER=root   COMMAND=/usr/bin/curl http://cui0d716336363935...</td>\n      <td>NaN</td>\n      <td>10.0.1.4</td>\n      <td>sudo</td>\n      <td>00000000-0000-0000-0000-000000000002</td>\n      <td>Syslog</td>\n      <td>/subscriptions/3b701f84-d04b-4479-89b1-fa8827eb537e/resourcegroups/contoso/providers/microsoft.c...</td>\n      <td></td>\n      <td></td>\n      <td></td>\n      <td></td>\n      <td>NaN</td>\n      <td></td>\n      <td></td>\n      <td>NaN</td>\n      <td></td>\n      <td></td>\n      <td>...</td>\n      <td></td>\n      <td></td>\n      <td></td>\n      <td></td>\n      <td></td>\n      <td></td>\n      <td></td>\n      <td></td>\n      <td></td>\n      <td></td>\n      <td></td>\n      <td></td>\n      <td></td>\n      <td></td>\n      <td></td>\n      <td></td>\n      <td></td>\n      <td></td>\n      <td></td>\n      <td></td>\n      <td></td>\n      <td></td>\n      <td></td>\n      <td>NaT</td>\n      <td></td>\n    </tr>\n    <tr>\n      <td>2</td>\n      <td>b1315f05-4a7a-45b4-811f-73e715f7c122</td>\n      <td>Linux</td>\n      <td>2019-10-11 20:49:53.050</td>\n      <td>UbuntuDevEnv</td>\n      <td>2019-10-11 20:49:53</td>\n      <td>authpriv</td>\n      <td>UbuntuDevEnv</td>\n      <td>notice</td>\n      <td>peteb : TTY=pts/0   PWD=/home/peteb   USER=root   COMMAND=/usr/bin/wget http://cui0d716336363935...</td>\n      <td>NaN</td>\n      <td>10.0.1.4</td>\n      <td>sudo</td>\n      <td>00000000-0000-0000-0000-000000000002</td>\n      <td>Syslog</td>\n      <td>/subscriptions/3b701f84-d04b-4479-89b1-fa8827eb537e/resourcegroups/contoso/providers/microsoft.c...</td>\n      <td></td>\n      <td></td>\n      <td></td>\n      <td></td>\n      <td>NaN</td>\n      <td></td>\n      <td></td>\n      <td>NaN</td>\n      <td></td>\n      <td></td>\n      <td>...</td>\n      <td></td>\n      <td></td>\n      <td></td>\n      <td></td>\n      <td></td>\n      <td></td>\n      <td></td>\n      <td></td>\n      <td></td>\n      <td></td>\n      <td></td>\n      <td></td>\n      <td></td>\n      <td></td>\n      <td></td>\n      <td></td>\n      <td></td>\n      <td></td>\n      <td></td>\n      <td></td>\n      <td></td>\n      <td></td>\n      <td></td>\n      <td>NaT</td>\n      <td></td>\n    </tr>\n  </tbody>\n</table>\n<p>3 rows × 232 columns</p>\n</div>",
                    "text/plain": "                               TenantId SourceSystem           TimeGenerated  \\\n0  b1315f05-4a7a-45b4-811f-73e715f7c122        Linux 2019-10-11 20:42:30.440   \n1  b1315f05-4a7a-45b4-811f-73e715f7c122        Linux 2019-10-11 20:46:24.540   \n2  b1315f05-4a7a-45b4-811f-73e715f7c122        Linux 2019-10-11 20:49:53.050   \n\n       Computer           EventTime  Facility      HostName SeverityLevel  \\\n0  UbuntuDevEnv 2019-10-11 20:42:30  authpriv  UbuntuDevEnv        notice   \n1  UbuntuDevEnv 2019-10-11 20:46:24  authpriv  UbuntuDevEnv        notice   \n2  UbuntuDevEnv 2019-10-11 20:49:53  authpriv  UbuntuDevEnv        notice   \n\n                                                                                         SyslogMessage  \\\n0  peteb : TTY=pts/0   PWD=/home/peteb   USER=root   COMMAND=/usr/bin/curl http://cui0d716336363935...   \n1  peteb : TTY=pts/0   PWD=/home/peteb   USER=root   COMMAND=/usr/bin/curl http://cui0d716336363935...   \n2  peteb : TTY=pts/0   PWD=/home/peteb   USER=root   COMMAND=/usr/bin/wget http://cui0d716336363935...   \n\n   ProcessID    HostIP ProcessName                                    MG  \\\n0        NaN  10.0.1.4        sudo  00000000-0000-0000-0000-000000000002   \n1        NaN  10.0.1.4        sudo  00000000-0000-0000-0000-000000000002   \n2        NaN  10.0.1.4        sudo  00000000-0000-0000-0000-000000000002   \n\n     Type  \\\n0  Syslog   \n1  Syslog   \n2  Syslog   \n\n                                                                                           _ResourceId  \\\n0  /subscriptions/3b701f84-d04b-4479-89b1-fa8827eb537e/resourcegroups/contoso/providers/microsoft.c...   \n1  /subscriptions/3b701f84-d04b-4479-89b1-fa8827eb537e/resourcegroups/contoso/providers/microsoft.c...   \n2  /subscriptions/3b701f84-d04b-4479-89b1-fa8827eb537e/resourcegroups/contoso/providers/microsoft.c...   \n\n  Account AccountType EventSourceName Channel  Task Level EventData  EventID  \\\n0                                               NaN                      NaN   \n1                                               NaN                      NaN   \n2                                               NaN                      NaN   \n\n  Activity PartitionKey  ... TargetServerName TargetSid TargetUser  \\\n0                        ...                                         \n1                        ...                                         \n2                        ...                                         \n\n  TargetUserName TargetUserSid TemplateContent TemplateDSObjectFQDN  \\\n0                                                                     \n1                                                                     \n2                                                                     \n\n  TemplateInternalName TemplateOID TemplateSchemaVersion TemplateVersion  \\\n0                                                                          \n1                                                                          \n2                                                                          \n\n  TokenElevationType TransmittedServices UserAccountControl UserParameters  \\\n0                                                                            \n1                                                                            \n2                                                                            \n\n  UserPrincipalName  UserWorkstations  VirtualAccount VendorIds Workstation  \\\n0                                                                             \n1                                                                             \n2                                                                             \n\n  WorkstationName  SourceComputerId EventOriginId TimeCollected  \\\n0                                                           NaT   \n1                                                           NaT   \n2                                                           NaT   \n\n  ManagementGroupName  \n0                      \n1                      \n2                      \n\n[3 rows x 232 columns]"
                  },
                  "metadata": {},
                  "output_type": "display_data"
                }
              ]
            }
          },
          "504a4de7f2224a7fbf56fb5b750b100b": {
            "model_module": "@jupyter-widgets/base",
            "model_module_version": "1.1.0",
            "model_name": "LayoutModel",
            "state": {
              "width": "10%"
            }
          },
          "50a77a8b0fca4ad984bd260f18bc9850": {
            "model_module": "@jupyter-widgets/controls",
            "model_module_version": "1.4.0",
            "model_name": "DatePickerModel",
            "state": {
              "description": "Origin Date",
              "disabled": false,
              "layout": "IPY_MODEL_8c0ed980f0154cc18d15ec090ee66cee",
              "style": "IPY_MODEL_521da9452b2a4b0088d7e497ce608fcf",
              "value": {
                "date": 11,
                "month": 9,
                "year": 2019
              }
            }
          },
          "50beb3485d00464e903b6858c4deab00": {
            "model_module": "@jupyter-widgets/controls",
            "model_module_version": "1.4.0",
            "model_name": "HTMLModel",
            "state": {
              "layout": "IPY_MODEL_1e2220fb60c647939002e98aec087af2",
              "style": "IPY_MODEL_41762a84884140adabff6ac237bee29a",
              "value": "<h4>Set query time boundaries</h4>"
            }
          },
          "5124dce125c44e4f86560b2095a16dc8": {
            "model_module": "@jupyter-widgets/base",
            "model_module_version": "1.1.0",
            "model_name": "LayoutModel",
            "state": {
              "width": "50%"
            }
          },
          "51447950c2c34162964e02edf7ceed19": {
            "model_module": "@jupyter-widgets/base",
            "model_module_version": "1.1.0",
            "model_name": "LayoutModel",
            "state": {}
          },
          "521da9452b2a4b0088d7e497ce608fcf": {
            "model_module": "@jupyter-widgets/controls",
            "model_module_version": "1.4.0",
            "model_name": "DescriptionStyleModel",
            "state": {
              "description_width": ""
            }
          },
          "53d25f76c32e4f4f90bfd7ed796160ef": {
            "model_module": "@jupyter-widgets/controls",
            "model_module_version": "1.4.0",
            "model_name": "HBoxModel",
            "state": {
              "children": [
                "IPY_MODEL_3c440522b1c84345a5d419eb74f5be05",
                "IPY_MODEL_d4fe724f6f57434eb4225f8c52826d47",
                "IPY_MODEL_f9f89334e4be4d619c8d4fa3b0ffe21d"
              ],
              "layout": "IPY_MODEL_93b0d89619c545b6860b8bad5918b0c9"
            }
          },
          "5422f834ded34633900abc2b7cfd2ef3": {
            "model_module": "@jupyter-widgets/base",
            "model_module_version": "1.1.0",
            "model_name": "LayoutModel",
            "state": {
              "width": "50%"
            }
          },
          "549b9e7e6ed04651a211491478b5fd7f": {
            "model_module": "@jupyter-widgets/base",
            "model_module_version": "1.1.0",
            "model_name": "LayoutModel",
            "state": {}
          },
          "58570da3a3c24bf8b096a6056040d650": {
            "model_module": "@jupyter-widgets/controls",
            "model_module_version": "1.4.0",
            "model_name": "TextModel",
            "state": {
              "description": "Query start time (UTC):",
              "layout": "IPY_MODEL_a0b1979ec31443f088d0ef4973340490",
              "style": "IPY_MODEL_c472ec72d553452d88739458ee5ee37b",
              "value": "2019-10-07 23:43:06.241981"
            }
          },
          "588d9c3efa75448e9d92f4cd713c6abd": {
            "model_module": "@jupyter-widgets/output",
            "model_module_version": "1.0.0",
            "model_name": "OutputModel",
            "state": {
              "layout": "IPY_MODEL_7f82d4c7a39b4fd493ae99cb81f4c42c",
              "outputs": [
                {
                  "data": {
                    "text/html": "<div>\n<style scoped>\n    .dataframe tbody tr th:only-of-type {\n        vertical-align: middle;\n    }\n\n    .dataframe tbody tr th {\n        vertical-align: top;\n    }\n\n    .dataframe thead th {\n        text-align: right;\n    }\n</style>\n<table border=\"1\" class=\"dataframe\">\n  <thead>\n    <tr style=\"text-align: right;\">\n      <th></th>\n      <th>TenantId</th>\n      <th>SourceSystem</th>\n      <th>TimeGenerated</th>\n      <th>Computer</th>\n      <th>EventTime</th>\n      <th>Facility</th>\n      <th>HostName</th>\n      <th>SeverityLevel</th>\n      <th>SyslogMessage</th>\n      <th>ProcessID</th>\n      <th>HostIP</th>\n      <th>ProcessName</th>\n      <th>MG</th>\n      <th>Type</th>\n      <th>_ResourceId</th>\n      <th>Account</th>\n      <th>AccountType</th>\n      <th>EventSourceName</th>\n      <th>Channel</th>\n      <th>Task</th>\n      <th>Level</th>\n      <th>EventData</th>\n      <th>EventID</th>\n      <th>Activity</th>\n      <th>PartitionKey</th>\n      <th>...</th>\n      <th>TargetServerName</th>\n      <th>TargetSid</th>\n      <th>TargetUser</th>\n      <th>TargetUserName</th>\n      <th>TargetUserSid</th>\n      <th>TemplateContent</th>\n      <th>TemplateDSObjectFQDN</th>\n      <th>TemplateInternalName</th>\n      <th>TemplateOID</th>\n      <th>TemplateSchemaVersion</th>\n      <th>TemplateVersion</th>\n      <th>TokenElevationType</th>\n      <th>TransmittedServices</th>\n      <th>UserAccountControl</th>\n      <th>UserParameters</th>\n      <th>UserPrincipalName</th>\n      <th>UserWorkstations</th>\n      <th>VirtualAccount</th>\n      <th>VendorIds</th>\n      <th>Workstation</th>\n      <th>WorkstationName</th>\n      <th>SourceComputerId</th>\n      <th>EventOriginId</th>\n      <th>TimeCollected</th>\n      <th>ManagementGroupName</th>\n    </tr>\n  </thead>\n  <tbody>\n    <tr>\n      <td>0</td>\n      <td>b1315f05-4a7a-45b4-811f-73e715f7c122</td>\n      <td>Linux</td>\n      <td>2019-10-11 20:42:30.440</td>\n      <td>UbuntuDevEnv</td>\n      <td>2019-10-11 20:42:30</td>\n      <td>authpriv</td>\n      <td>UbuntuDevEnv</td>\n      <td>notice</td>\n      <td>peteb : TTY=pts/0   PWD=/home/peteb   USER=root   COMMAND=/usr/bin/curl http://cui0d716336363935...</td>\n      <td>NaN</td>\n      <td>10.0.1.4</td>\n      <td>sudo</td>\n      <td>00000000-0000-0000-0000-000000000002</td>\n      <td>Syslog</td>\n      <td>/subscriptions/3b701f84-d04b-4479-89b1-fa8827eb537e/resourcegroups/contoso/providers/microsoft.c...</td>\n      <td></td>\n      <td></td>\n      <td></td>\n      <td></td>\n      <td>NaN</td>\n      <td></td>\n      <td></td>\n      <td>NaN</td>\n      <td></td>\n      <td></td>\n      <td>...</td>\n      <td></td>\n      <td></td>\n      <td></td>\n      <td></td>\n      <td></td>\n      <td></td>\n      <td></td>\n      <td></td>\n      <td></td>\n      <td></td>\n      <td></td>\n      <td></td>\n      <td></td>\n      <td></td>\n      <td></td>\n      <td></td>\n      <td></td>\n      <td></td>\n      <td></td>\n      <td></td>\n      <td></td>\n      <td></td>\n      <td></td>\n      <td>NaT</td>\n      <td></td>\n    </tr>\n    <tr>\n      <td>1</td>\n      <td>b1315f05-4a7a-45b4-811f-73e715f7c122</td>\n      <td>Linux</td>\n      <td>2019-10-11 20:49:53.050</td>\n      <td>UbuntuDevEnv</td>\n      <td>2019-10-11 20:49:53</td>\n      <td>authpriv</td>\n      <td>UbuntuDevEnv</td>\n      <td>notice</td>\n      <td>peteb : TTY=pts/0   PWD=/home/peteb   USER=root   COMMAND=/usr/bin/wget http://cui0d716336363935...</td>\n      <td>NaN</td>\n      <td>10.0.1.4</td>\n      <td>sudo</td>\n      <td>00000000-0000-0000-0000-000000000002</td>\n      <td>Syslog</td>\n      <td>/subscriptions/3b701f84-d04b-4479-89b1-fa8827eb537e/resourcegroups/contoso/providers/microsoft.c...</td>\n      <td></td>\n      <td></td>\n      <td></td>\n      <td></td>\n      <td>NaN</td>\n      <td></td>\n      <td></td>\n      <td>NaN</td>\n      <td></td>\n      <td></td>\n      <td>...</td>\n      <td></td>\n      <td></td>\n      <td></td>\n      <td></td>\n      <td></td>\n      <td></td>\n      <td></td>\n      <td></td>\n      <td></td>\n      <td></td>\n      <td></td>\n      <td></td>\n      <td></td>\n      <td></td>\n      <td></td>\n      <td></td>\n      <td></td>\n      <td></td>\n      <td></td>\n      <td></td>\n      <td></td>\n      <td></td>\n      <td></td>\n      <td>NaT</td>\n      <td></td>\n    </tr>\n    <tr>\n      <td>2</td>\n      <td>b1315f05-4a7a-45b4-811f-73e715f7c122</td>\n      <td>Linux</td>\n      <td>2019-10-11 20:46:24.540</td>\n      <td>UbuntuDevEnv</td>\n      <td>2019-10-11 20:46:24</td>\n      <td>authpriv</td>\n      <td>UbuntuDevEnv</td>\n      <td>notice</td>\n      <td>peteb : TTY=pts/0   PWD=/home/peteb   USER=root   COMMAND=/usr/bin/curl http://cui0d716336363935...</td>\n      <td>NaN</td>\n      <td>10.0.1.4</td>\n      <td>sudo</td>\n      <td>00000000-0000-0000-0000-000000000002</td>\n      <td>Syslog</td>\n      <td>/subscriptions/3b701f84-d04b-4479-89b1-fa8827eb537e/resourcegroups/contoso/providers/microsoft.c...</td>\n      <td></td>\n      <td></td>\n      <td></td>\n      <td></td>\n      <td>NaN</td>\n      <td></td>\n      <td></td>\n      <td>NaN</td>\n      <td></td>\n      <td></td>\n      <td>...</td>\n      <td></td>\n      <td></td>\n      <td></td>\n      <td></td>\n      <td></td>\n      <td></td>\n      <td></td>\n      <td></td>\n      <td></td>\n      <td></td>\n      <td></td>\n      <td></td>\n      <td></td>\n      <td></td>\n      <td></td>\n      <td></td>\n      <td></td>\n      <td></td>\n      <td></td>\n      <td></td>\n      <td></td>\n      <td></td>\n      <td></td>\n      <td>NaT</td>\n      <td></td>\n    </tr>\n  </tbody>\n</table>\n<p>3 rows × 232 columns</p>\n</div>",
                    "text/plain": "                               TenantId SourceSystem           TimeGenerated  \\\n0  b1315f05-4a7a-45b4-811f-73e715f7c122        Linux 2019-10-11 20:42:30.440   \n1  b1315f05-4a7a-45b4-811f-73e715f7c122        Linux 2019-10-11 20:49:53.050   \n2  b1315f05-4a7a-45b4-811f-73e715f7c122        Linux 2019-10-11 20:46:24.540   \n\n       Computer           EventTime  Facility      HostName SeverityLevel  \\\n0  UbuntuDevEnv 2019-10-11 20:42:30  authpriv  UbuntuDevEnv        notice   \n1  UbuntuDevEnv 2019-10-11 20:49:53  authpriv  UbuntuDevEnv        notice   \n2  UbuntuDevEnv 2019-10-11 20:46:24  authpriv  UbuntuDevEnv        notice   \n\n                                                                                         SyslogMessage  \\\n0  peteb : TTY=pts/0   PWD=/home/peteb   USER=root   COMMAND=/usr/bin/curl http://cui0d716336363935...   \n1  peteb : TTY=pts/0   PWD=/home/peteb   USER=root   COMMAND=/usr/bin/wget http://cui0d716336363935...   \n2  peteb : TTY=pts/0   PWD=/home/peteb   USER=root   COMMAND=/usr/bin/curl http://cui0d716336363935...   \n\n   ProcessID    HostIP ProcessName                                    MG  \\\n0        NaN  10.0.1.4        sudo  00000000-0000-0000-0000-000000000002   \n1        NaN  10.0.1.4        sudo  00000000-0000-0000-0000-000000000002   \n2        NaN  10.0.1.4        sudo  00000000-0000-0000-0000-000000000002   \n\n     Type  \\\n0  Syslog   \n1  Syslog   \n2  Syslog   \n\n                                                                                           _ResourceId  \\\n0  /subscriptions/3b701f84-d04b-4479-89b1-fa8827eb537e/resourcegroups/contoso/providers/microsoft.c...   \n1  /subscriptions/3b701f84-d04b-4479-89b1-fa8827eb537e/resourcegroups/contoso/providers/microsoft.c...   \n2  /subscriptions/3b701f84-d04b-4479-89b1-fa8827eb537e/resourcegroups/contoso/providers/microsoft.c...   \n\n  Account AccountType EventSourceName Channel  Task Level EventData  EventID  \\\n0                                               NaN                      NaN   \n1                                               NaN                      NaN   \n2                                               NaN                      NaN   \n\n  Activity PartitionKey  ... TargetServerName TargetSid TargetUser  \\\n0                        ...                                         \n1                        ...                                         \n2                        ...                                         \n\n  TargetUserName TargetUserSid TemplateContent TemplateDSObjectFQDN  \\\n0                                                                     \n1                                                                     \n2                                                                     \n\n  TemplateInternalName TemplateOID TemplateSchemaVersion TemplateVersion  \\\n0                                                                          \n1                                                                          \n2                                                                          \n\n  TokenElevationType TransmittedServices UserAccountControl UserParameters  \\\n0                                                                            \n1                                                                            \n2                                                                            \n\n  UserPrincipalName  UserWorkstations  VirtualAccount VendorIds Workstation  \\\n0                                                                             \n1                                                                             \n2                                                                             \n\n  WorkstationName  SourceComputerId EventOriginId TimeCollected  \\\n0                                                           NaT   \n1                                                           NaT   \n2                                                           NaT   \n\n  ManagementGroupName  \n0                      \n1                      \n2                      \n\n[3 rows x 232 columns]"
                  },
                  "metadata": {},
                  "output_type": "display_data"
                }
              ]
            }
          },
          "594f0759965446b68a4e09ca112cea1f": {
            "model_module": "@jupyter-widgets/base",
            "model_module_version": "1.1.0",
            "model_name": "LayoutModel",
            "state": {}
          },
          "5962054fe0ec42e2850bdfdee5af95c2": {
            "model_module": "@jupyter-widgets/controls",
            "model_module_version": "1.4.0",
            "model_name": "DescriptionStyleModel",
            "state": {
              "description_width": ""
            }
          },
          "5a810cd67d85436bb1af09a135af2d5b": {
            "model_module": "@jupyter-widgets/controls",
            "model_module_version": "1.4.0",
            "model_name": "TextModel",
            "state": {
              "description": "Query start time (UTC):",
              "layout": "IPY_MODEL_105fd2b7efc14323b1b6572057180789",
              "style": "IPY_MODEL_090e76f0c0684c94bbca154507251a19",
              "value": "2019-09-25 22:51:20.812868"
            }
          },
          "5db512c5d4394b58b7064723a41be878": {
            "model_module": "@jupyter-widgets/controls",
            "model_module_version": "1.4.0",
            "model_name": "HBoxModel",
            "state": {
              "children": [
                "IPY_MODEL_6b8c064ade3c4cab8ec4b7f44ddf9839",
                "IPY_MODEL_b6d69cfbb0b84636a5215c23027abe0c",
                "IPY_MODEL_bdb3c1f6acb8497690404859872a9fc8"
              ],
              "layout": "IPY_MODEL_18db3af38e3f4f97b17c1a2e812c7239"
            }
          },
          "5e6a892f3b6f45179d03829a08e7bd68": {
            "model_module": "@jupyter-widgets/controls",
            "model_module_version": "1.4.0",
            "model_name": "TextModel",
            "state": {
              "description": "Query end time (UTC) :  ",
              "layout": "IPY_MODEL_c4ef12447c264dc183b6a89f95c9aec6",
              "style": "IPY_MODEL_f51542fd1af94d74a909fd891143589c",
              "value": "2019-10-12 22:51:20.812868"
            }
          },
          "5e6ddacbcde24eaf9f04675f8d573a93": {
            "model_module": "@jupyter-widgets/controls",
            "model_module_version": "1.4.0",
            "model_name": "HBoxModel",
            "state": {
              "children": [
                "IPY_MODEL_ca470f39c28c435fb25f3fb451565340",
                "IPY_MODEL_b1045a66b5484610bc367a86bfb00bd4",
                "IPY_MODEL_f60881b65b6e40c58081691aeb3329b6"
              ],
              "layout": "IPY_MODEL_2806b311e6574e4ebe481907b63e009e"
            }
          },
          "5ed53e38624848f0a8ae9bf7375fd81f": {
            "model_module": "@jupyter-widgets/controls",
            "model_module_version": "1.4.0",
            "model_name": "ButtonModel",
            "state": {
              "description": "Set",
              "layout": "IPY_MODEL_d152eb5a07c644f3b046daf6945950f3",
              "style": "IPY_MODEL_03b558841dce40c89d9259af5721e87c"
            }
          },
          "6390ba75dc514ea9a10e9f673486284b": {
            "model_module": "@jupyter-widgets/controls",
            "model_module_version": "1.4.0",
            "model_name": "HTMLModel",
            "state": {
              "layout": "IPY_MODEL_b5dcd677fce64600b46add7acc5a70b9",
              "style": "IPY_MODEL_ef68299922c44799bb2b45f3a6485542",
              "value": "<h4>Set query time boundaries</h4>"
            }
          },
          "641153cdb5054406b2e12ac92326a8f7": {
            "model_module": "@jupyter-widgets/base",
            "model_module_version": "1.1.0",
            "model_name": "LayoutModel",
            "state": {}
          },
          "64f013f7007b4889878a1666c79c868d": {
            "model_module": "@jupyter-widgets/controls",
            "model_module_version": "1.4.0",
            "model_name": "DescriptionStyleModel",
            "state": {
              "description_width": "initial"
            }
          },
          "65512918a8ed493a8c1fb40692538312": {
            "model_module": "@jupyter-widgets/controls",
            "model_module_version": "1.4.0",
            "model_name": "DescriptionStyleModel",
            "state": {
              "description_width": "initial"
            }
          },
          "657d42fcfca54f369389bef782dcc34c": {
            "model_module": "@jupyter-widgets/controls",
            "model_module_version": "1.4.0",
            "model_name": "ButtonModel",
            "state": {
              "description": "Set",
              "layout": "IPY_MODEL_2d96b563bb2540e493ce2fc0ef46a1d2",
              "style": "IPY_MODEL_047dd2a606d7423389885b90105fed49"
            }
          },
          "6846c88a5d684388a877973b6bb7cebc": {
            "model_module": "@jupyter-widgets/controls",
            "model_module_version": "1.4.0",
            "model_name": "SliderStyleModel",
            "state": {
              "description_width": "initial"
            }
          },
          "6922cb18cc114ce79f21b3205fed434d": {
            "model_module": "@jupyter-widgets/controls",
            "model_module_version": "1.4.0",
            "model_name": "VBoxModel",
            "state": {
              "children": [
                "IPY_MODEL_eaba12e23e8a4d3d974cd7a30f201b2b",
                "IPY_MODEL_5a810cd67d85436bb1af09a135af2d5b",
                "IPY_MODEL_5e6a892f3b6f45179d03829a08e7bd68"
              ],
              "layout": "IPY_MODEL_9e032546ee8b4035ae2fcfeb2d6267f9"
            }
          },
          "6946636ff3974c8387d5c6920f62d540": {
            "model_module": "@jupyter-widgets/controls",
            "model_module_version": "1.4.0",
            "model_name": "DescriptionStyleModel",
            "state": {
              "description_width": ""
            }
          },
          "6969105a4b574d7b8ca999526f7ce5c6": {
            "model_module": "@jupyter-widgets/controls",
            "model_module_version": "1.4.0",
            "model_name": "ProgressStyleModel",
            "state": {
              "description_width": ""
            }
          },
          "6b8c064ade3c4cab8ec4b7f44ddf9839": {
            "model_module": "@jupyter-widgets/controls",
            "model_module_version": "1.4.0",
            "model_name": "TextModel",
            "state": {
              "description": "Please enter your the domain or URL to investigate:",
              "layout": "IPY_MODEL_92fef39767b9495ab1bf0c03ae1198ed",
              "style": "IPY_MODEL_45575f2aa7ac4d84b18423e83b175dba",
              "value": "http://cui0d716336363935.firewallsupports.com/\t"
            }
          },
          "6bbfd30372584e93a53cd48441e9397d": {
            "model_module": "@jupyter-widgets/controls",
            "model_module_version": "1.4.0",
            "model_name": "VBoxModel",
            "state": {
              "children": [
                "IPY_MODEL_2bd15233486840d9bca460b822d9f8ea",
                "IPY_MODEL_d43fe818b9154be383fd95f008a870fe",
                "IPY_MODEL_7621e623816542dbb50df9e7c9a993c7"
              ],
              "layout": "IPY_MODEL_ee36492827f7435f9cbb9c05fefa71cb"
            }
          },
          "6c6029b2d6f24ebd9ed15076fc3728e0": {
            "model_module": "@jupyter-widgets/base",
            "model_module_version": "1.1.0",
            "model_name": "LayoutModel",
            "state": {}
          },
          "6c9644760fef4f27bdc49d63e9190b43": {
            "model_module": "@jupyter-widgets/controls",
            "model_module_version": "1.4.0",
            "model_name": "VBoxModel",
            "state": {
              "_dom_classes": [
                "widget-interact"
              ],
              "children": [
                "IPY_MODEL_2732e0d033ef45b5be5d22811e378d67",
                "IPY_MODEL_c2edf068795548d1a5651d4a397718c0"
              ],
              "layout": "IPY_MODEL_f19f2c4c0a0140bc854e68ed05fba7b9"
            }
          },
          "6cd0f7477feb43b2bd45b847fce50448": {
            "model_module": "@jupyter-widgets/controls",
            "model_module_version": "1.4.0",
            "model_name": "RadioButtonsModel",
            "state": {
              "_options_labels": [
                "URL Only",
                "URL and Domain"
              ],
              "index": 1,
              "layout": "IPY_MODEL_465014b8d85149088a7b18924a240ce1",
              "style": "IPY_MODEL_ae84dd2c11c04f3b842b14a577ffed2e"
            }
          },
          "6d76896dd7184e82a22b72c7d4be2e6a": {
            "model_module": "@jupyter-widgets/controls",
            "model_module_version": "1.4.0",
            "model_name": "HBoxModel",
            "state": {
              "children": [
                "IPY_MODEL_9ed27991c53f431c923c60c86dc31b03",
                "IPY_MODEL_657d42fcfca54f369389bef782dcc34c",
                "IPY_MODEL_2fd67811306b4325a6b2d8cd5986d86f"
              ],
              "layout": "IPY_MODEL_0239c9e946fe4b3d996d382586c770f2"
            }
          },
          "6e31c99889df462d8e38efb3d1612175": {
            "model_module": "@jupyter-widgets/controls",
            "model_module_version": "1.4.0",
            "model_name": "IntRangeSliderModel",
            "state": {
              "_model_name": "IntRangeSliderModel",
              "_view_name": "IntRangeSliderView",
              "description": "Time Range (day):",
              "layout": "IPY_MODEL_c009bd33deb04eddb2c74d65f818be6c",
              "max": 1,
              "min": -20,
              "style": "IPY_MODEL_e51cbedfa78f492c8a775cec00b0521b",
              "value": [
                -3,
                1
              ]
            }
          },
          "6e6cd2c0eeb2434b8949812d32c14c0d": {
            "model_module": "@jupyter-widgets/controls",
            "model_module_version": "1.4.0",
            "model_name": "ButtonModel",
            "state": {
              "description": "Set",
              "layout": "IPY_MODEL_40375b03e24c4e3a99be0ec3b790a748",
              "style": "IPY_MODEL_c628f72481694944a513c84eeac0375c"
            }
          },
          "6f4eb4d9a44342b99d5bcf3d6eb9d9cd": {
            "model_module": "@jupyter-widgets/base",
            "model_module_version": "1.1.0",
            "model_name": "LayoutModel",
            "state": {}
          },
          "6f7be0717ae3445b982e0a13bca8c7be": {
            "model_module": "@jupyter-widgets/base",
            "model_module_version": "1.1.0",
            "model_name": "LayoutModel",
            "state": {
              "width": "50%"
            }
          },
          "728f742526cf4ed29d9557eb10b3f572": {
            "model_module": "@jupyter-widgets/controls",
            "model_module_version": "1.4.0",
            "model_name": "CheckboxModel",
            "state": {
              "description": "Save as environment var",
              "disabled": false,
              "layout": "IPY_MODEL_b26fcef457f54c438a6d6e3ed99b6a9a",
              "style": "IPY_MODEL_2ff401a16f1b4012a5159c88fbef820a",
              "value": true
            }
          },
          "732e753d002843a88d3d5d9cb581f845": {
            "model_module": "@jupyter-widgets/controls",
            "model_module_version": "1.4.0",
            "model_name": "TextModel",
            "state": {
              "description": "Please enter your the domain or URL to investigate:",
              "layout": "IPY_MODEL_bb69940ffb0742aeb2b54eab68ba0bc3",
              "style": "IPY_MODEL_98ddd425c8e94e1499f5bc540d00224e",
              "value": "ttp://cui0d716336363935.firewallsupports.com/  "
            }
          },
          "73bb4c1be1fb422e9a4a30d9c620db9b": {
            "model_module": "@jupyter-widgets/base",
            "model_module_version": "1.1.0",
            "model_name": "LayoutModel",
            "state": {}
          },
          "75f396f14cec4a4996e3d9486ac24f9c": {
            "model_module": "@jupyter-widgets/base",
            "model_module_version": "1.1.0",
            "model_name": "LayoutModel",
            "state": {
              "width": "80%"
            }
          },
          "75f73fa61e1c45fb8be2eb229c6a03fb": {
            "model_module": "@jupyter-widgets/controls",
            "model_module_version": "1.4.0",
            "model_name": "DescriptionStyleModel",
            "state": {
              "description_width": ""
            }
          },
          "7621e623816542dbb50df9e7c9a993c7": {
            "model_module": "@jupyter-widgets/controls",
            "model_module_version": "1.4.0",
            "model_name": "TextModel",
            "state": {
              "description": "Query end time (UTC) :  ",
              "layout": "IPY_MODEL_4bd7bea063134d378114ad5ed0af0d01",
              "style": "IPY_MODEL_8c0b696560c8493b9e758dd7889140fd",
              "value": "2019-10-12 20:14:09.740091"
            }
          },
          "785b612b454744b6a09c134def27fdc6": {
            "model_module": "@jupyter-widgets/base",
            "model_module_version": "1.1.0",
            "model_name": "LayoutModel",
            "state": {}
          },
          "7aa1ac985acd4e2d8f6f27b878b15cf7": {
            "model_module": "@jupyter-widgets/controls",
            "model_module_version": "1.4.0",
            "model_name": "ButtonModel",
            "state": {
              "description": "Set",
              "layout": "IPY_MODEL_e831f81445304fdebb8088d34787100c",
              "style": "IPY_MODEL_33d8b9ccc7234ea790aa4ec9a452e732"
            }
          },
          "7b0b1761c0a1445fa214ad397f1a36ac": {
            "model_module": "@jupyter-widgets/base",
            "model_module_version": "1.1.0",
            "model_name": "LayoutModel",
            "state": {}
          },
          "7b8c15c060ac4067852bded97b806ef8": {
            "model_module": "@jupyter-widgets/base",
            "model_module_version": "1.1.0",
            "model_name": "LayoutModel",
            "state": {}
          },
          "7c0f7a3018ff4fcc89ca90148243945a": {
            "model_module": "@jupyter-widgets/controls",
            "model_module_version": "1.4.0",
            "model_name": "DescriptionStyleModel",
            "state": {
              "description_width": "initial"
            }
          },
          "7c6910f52103497aa2bf9980710ee5df": {
            "model_module": "@jupyter-widgets/controls",
            "model_module_version": "1.4.0",
            "model_name": "DatePickerModel",
            "state": {
              "description": "Origin Date",
              "disabled": false,
              "layout": "IPY_MODEL_9cc96ccb863f40d399b9ee1662f86ab5",
              "style": "IPY_MODEL_875f267556894a79877e68330d118b97",
              "value": {
                "date": 11,
                "month": 9,
                "year": 2019
              }
            }
          },
          "7c83c49a00e14f0b91d92e14d5e46423": {
            "model_module": "@jupyter-widgets/controls",
            "model_module_version": "1.4.0",
            "model_name": "HTMLModel",
            "state": {
              "layout": "IPY_MODEL_641153cdb5054406b2e12ac92326a8f7",
              "style": "IPY_MODEL_39b3827de7294d2ebbed80aa2b7687df"
            }
          },
          "7f82d4c7a39b4fd493ae99cb81f4c42c": {
            "model_module": "@jupyter-widgets/base",
            "model_module_version": "1.1.0",
            "model_name": "LayoutModel",
            "state": {}
          },
          "7f927bd22372481395266b7410baf679": {
            "model_module": "@jupyter-widgets/controls",
            "model_module_version": "1.4.0",
            "model_name": "SliderStyleModel",
            "state": {
              "description_width": "initial"
            }
          },
          "803bed1a325747df9586e8d121db6554": {
            "model_module": "@jupyter-widgets/controls",
            "model_module_version": "1.4.0",
            "model_name": "HTMLModel",
            "state": {
              "layout": "IPY_MODEL_d457e5da9adf42ac8a0259fbbbd9c9db",
              "style": "IPY_MODEL_0c88efaa859e4ccdadb1ecf5c4b2cf4b",
              "value": "<h4>Set query time boundaries</h4>"
            }
          },
          "80f41a4193f54a93afc4cd065e86423c": {
            "model_module": "@jupyter-widgets/base",
            "model_module_version": "1.1.0",
            "model_name": "LayoutModel",
            "state": {}
          },
          "8154da5f2a19451c9762fec0911a8d8e": {
            "model_module": "@jupyter-widgets/controls",
            "model_module_version": "1.4.0",
            "model_name": "HTMLModel",
            "state": {
              "layout": "IPY_MODEL_150f70d453fb45e188169cf71bc5211d",
              "style": "IPY_MODEL_d9d9485e46d34c7a9e4eab2e5c972044"
            }
          },
          "8231e66240154d679ecef00411ced93d": {
            "model_module": "@jupyter-widgets/controls",
            "model_module_version": "1.4.0",
            "model_name": "VBoxModel",
            "state": {
              "_dom_classes": [
                "widget-interact"
              ],
              "children": [
                "IPY_MODEL_b87221355a1a4b6db7d300ad5b2fe291",
                "IPY_MODEL_2fc4e8fdb09441e0b3a6779b3d99b0a0"
              ],
              "layout": "IPY_MODEL_ae84ed08cc4a478c97d6e0c7a7fd0e21"
            }
          },
          "83ea6519184f4d0ebba7b89d0ceb8459": {
            "model_module": "@jupyter-widgets/base",
            "model_module_version": "1.1.0",
            "model_name": "LayoutModel",
            "state": {
              "width": "10%"
            }
          },
          "8443c10ae8e14eabbab17d7f64d21be7": {
            "model_module": "@jupyter-widgets/controls",
            "model_module_version": "1.4.0",
            "model_name": "DescriptionStyleModel",
            "state": {
              "description_width": ""
            }
          },
          "8462cb6e400c4c05b2bb96925ed920d1": {
            "model_module": "@jupyter-widgets/base",
            "model_module_version": "1.1.0",
            "model_name": "LayoutModel",
            "state": {}
          },
          "84aa854bab684dd6b727a739fa9e31ac": {
            "model_module": "@jupyter-widgets/base",
            "model_module_version": "1.1.0",
            "model_name": "LayoutModel",
            "state": {}
          },
          "84d17afcc8fe4b18b4e68d4773926a54": {
            "model_module": "@jupyter-widgets/controls",
            "model_module_version": "1.4.0",
            "model_name": "CheckboxModel",
            "state": {
              "description": "Save as environment var",
              "disabled": false,
              "layout": "IPY_MODEL_fc390f0810ed4a87a8f637ea440c6e4f",
              "style": "IPY_MODEL_c89be724735044a6b02d6828055e6ffd",
              "value": true
            }
          },
          "853e7ca826e74e2f9254789ed173f2a4": {
            "model_module": "@jupyter-widgets/base",
            "model_module_version": "1.1.0",
            "model_name": "LayoutModel",
            "state": {
              "width": "50%"
            }
          },
          "8693445231034434bbd5cd6620cd28d9": {
            "model_module": "@jupyter-widgets/controls",
            "model_module_version": "1.4.0",
            "model_name": "TextModel",
            "state": {
              "description": "Query end time (UTC) :  ",
              "layout": "IPY_MODEL_9111e05b39d44fcda494e4a15987105d",
              "style": "IPY_MODEL_2887356e9a1c4174ba6a4b5832749066",
              "value": "2019-10-11 23:43:06.241981"
            }
          },
          "86d5ebcb1eb041ef9e4fd8be8ee7399d": {
            "model_module": "@jupyter-widgets/base",
            "model_module_version": "1.1.0",
            "model_name": "LayoutModel",
            "state": {}
          },
          "875f267556894a79877e68330d118b97": {
            "model_module": "@jupyter-widgets/controls",
            "model_module_version": "1.4.0",
            "model_name": "DescriptionStyleModel",
            "state": {
              "description_width": ""
            }
          },
          "881e9d1b98a14aa7851254dc13780762": {
            "model_module": "@jupyter-widgets/controls",
            "model_module_version": "1.4.0",
            "model_name": "HBoxModel",
            "state": {
              "children": [
                "IPY_MODEL_b99b41cd7cc14a45b650a555ce401495",
                "IPY_MODEL_bf44d246370640af843c751b4e5c2d96",
                "IPY_MODEL_84d17afcc8fe4b18b4e68d4773926a54"
              ],
              "layout": "IPY_MODEL_2e25b5950d79409b9245adbd9b9e9104"
            }
          },
          "88379c4d61194f4e931c691c7dab7a1c": {
            "model_module": "@jupyter-widgets/controls",
            "model_module_version": "1.4.0",
            "model_name": "ButtonStyleModel",
            "state": {}
          },
          "88d5082558fe4109b5de5bc601647d11": {
            "model_module": "@jupyter-widgets/base",
            "model_module_version": "1.1.0",
            "model_name": "LayoutModel",
            "state": {}
          },
          "88f41466fff74b18a7d69cff00994bb6": {
            "model_module": "@jupyter-widgets/controls",
            "model_module_version": "1.4.0",
            "model_name": "DescriptionStyleModel",
            "state": {
              "description_width": ""
            }
          },
          "8911b10edb9b45e9b93cab9f7915b97d": {
            "model_module": "@jupyter-widgets/controls",
            "model_module_version": "1.4.0",
            "model_name": "DropdownModel",
            "state": {
              "_options_labels": [
                "UbuntuDevEnv"
              ],
              "description": "Select Computer to view raw logs",
              "index": 0,
              "layout": "IPY_MODEL_2368e20e25014efb93bec38fe87e7c63",
              "style": "IPY_MODEL_ff10e5e5ca7a4288bd1f581ea1f257bb"
            }
          },
          "8a9d24ceea094f96933d9545865683d2": {
            "model_module": "@jupyter-widgets/controls",
            "model_module_version": "1.4.0",
            "model_name": "SliderStyleModel",
            "state": {
              "description_width": "initial"
            }
          },
          "8ae1598a7176443e9bc45f8c3b0e0b29": {
            "model_module": "@jupyter-widgets/controls",
            "model_module_version": "1.4.0",
            "model_name": "DatePickerModel",
            "state": {
              "description": "Origin Date",
              "disabled": false,
              "layout": "IPY_MODEL_a9003c65716a4d679f5cbfa2a64d7363",
              "style": "IPY_MODEL_9cb0e2bd5c994b96848fa8a27fe8cd3d",
              "value": {
                "date": 11,
                "month": 9,
                "year": 2019
              }
            }
          },
          "8c0b696560c8493b9e758dd7889140fd": {
            "model_module": "@jupyter-widgets/controls",
            "model_module_version": "1.4.0",
            "model_name": "DescriptionStyleModel",
            "state": {
              "description_width": "initial"
            }
          },
          "8c0ed980f0154cc18d15ec090ee66cee": {
            "model_module": "@jupyter-widgets/base",
            "model_module_version": "1.1.0",
            "model_name": "LayoutModel",
            "state": {}
          },
          "8c7d1292f998490ca836c4f723a0ea8d": {
            "model_module": "@jupyter-widgets/controls",
            "model_module_version": "1.4.0",
            "model_name": "DescriptionStyleModel",
            "state": {
              "description_width": "initial"
            }
          },
          "8fd76360cc114dc29dcb9825d26ef598": {
            "model_module": "@jupyter-widgets/controls",
            "model_module_version": "1.4.0",
            "model_name": "DescriptionStyleModel",
            "state": {
              "description_width": "initial"
            }
          },
          "9111e05b39d44fcda494e4a15987105d": {
            "model_module": "@jupyter-widgets/base",
            "model_module_version": "1.1.0",
            "model_name": "LayoutModel",
            "state": {
              "width": "50%"
            }
          },
          "91a70af691974a318309be1b8773a7b9": {
            "model_module": "@jupyter-widgets/controls",
            "model_module_version": "1.4.0",
            "model_name": "RadioButtonsModel",
            "state": {
              "_options_labels": [
                "URL Only",
                "URL and Domain"
              ],
              "index": 1,
              "layout": "IPY_MODEL_8462cb6e400c4c05b2bb96925ed920d1",
              "style": "IPY_MODEL_06a670dca82b4795855d8b307933408c"
            }
          },
          "92e3136bcaec4ce4a50ae0979e837a7b": {
            "model_module": "@jupyter-widgets/controls",
            "model_module_version": "1.4.0",
            "model_name": "TextModel",
            "state": {
              "description": "Please enter your Log Analytics Tenant Id:",
              "layout": "IPY_MODEL_39e42aa8ed9e4c0bb6a3ada1c79ef7b7",
              "style": "IPY_MODEL_99f246a82c4e41cdb90d2cc6b5e3c8b7"
            }
          },
          "92fef39767b9495ab1bf0c03ae1198ed": {
            "model_module": "@jupyter-widgets/base",
            "model_module_version": "1.1.0",
            "model_name": "LayoutModel",
            "state": {
              "width": "50%"
            }
          },
          "93996354e2454073a8bf2d7804671cbd": {
            "model_module": "@jupyter-widgets/controls",
            "model_module_version": "1.4.0",
            "model_name": "DescriptionStyleModel",
            "state": {
              "description_width": "initial"
            }
          },
          "93ad13062b514f2cb660f1fec4cae045": {
            "model_module": "@jupyter-widgets/controls",
            "model_module_version": "1.4.0",
            "model_name": "HTMLModel",
            "state": {
              "layout": "IPY_MODEL_84aa854bab684dd6b727a739fa9e31ac",
              "style": "IPY_MODEL_3cedb4e2262e44b3b6776afb037701d8"
            }
          },
          "93b0d89619c545b6860b8bad5918b0c9": {
            "model_module": "@jupyter-widgets/base",
            "model_module_version": "1.1.0",
            "model_name": "LayoutModel",
            "state": {}
          },
          "95da6058800942adb36c7c0641f2a9b4": {
            "model_module": "@jupyter-widgets/controls",
            "model_module_version": "1.4.0",
            "model_name": "DescriptionStyleModel",
            "state": {
              "description_width": ""
            }
          },
          "980050ac8e9848df8cdb7d3ef0d4bdd1": {
            "model_module": "@jupyter-widgets/controls",
            "model_module_version": "1.4.0",
            "model_name": "DescriptionStyleModel",
            "state": {
              "description_width": "initial"
            }
          },
          "98ddd425c8e94e1499f5bc540d00224e": {
            "model_module": "@jupyter-widgets/controls",
            "model_module_version": "1.4.0",
            "model_name": "DescriptionStyleModel",
            "state": {
              "description_width": "initial"
            }
          },
          "99ce33a8f958489fa7eb46bd688fd191": {
            "model_module": "@jupyter-widgets/controls",
            "model_module_version": "1.4.0",
            "model_name": "SliderStyleModel",
            "state": {
              "description_width": "initial"
            }
          },
          "99f246a82c4e41cdb90d2cc6b5e3c8b7": {
            "model_module": "@jupyter-widgets/controls",
            "model_module_version": "1.4.0",
            "model_name": "DescriptionStyleModel",
            "state": {
              "description_width": "initial"
            }
          },
          "99f3e916ac2549be946352a87e0413ee": {
            "model_module": "@jupyter-widgets/base",
            "model_module_version": "1.1.0",
            "model_name": "LayoutModel",
            "state": {}
          },
          "9a7183bd94a24564ad669d60efa82701": {
            "model_module": "@jupyter-widgets/base",
            "model_module_version": "1.1.0",
            "model_name": "LayoutModel",
            "state": {}
          },
          "9b9000c0324e4ec689587cc65439123c": {
            "model_module": "@jupyter-widgets/controls",
            "model_module_version": "1.4.0",
            "model_name": "DropdownModel",
            "state": {
              "description": "Select IP to view raw logs",
              "index": null,
              "layout": "IPY_MODEL_0075662841444acea028894ec896a45e",
              "style": "IPY_MODEL_340d033370ad432d81b60566e59ec18c"
            }
          },
          "9bcd0f12f42e44e1ad94a6ecc026aba4": {
            "model_module": "@jupyter-widgets/base",
            "model_module_version": "1.1.0",
            "model_name": "LayoutModel",
            "state": {
              "width": "10%"
            }
          },
          "9c120963126d458f83a5719cd59b0301": {
            "model_module": "@jupyter-widgets/controls",
            "model_module_version": "1.4.0",
            "model_name": "DescriptionStyleModel",
            "state": {
              "description_width": ""
            }
          },
          "9cb0e2bd5c994b96848fa8a27fe8cd3d": {
            "model_module": "@jupyter-widgets/controls",
            "model_module_version": "1.4.0",
            "model_name": "DescriptionStyleModel",
            "state": {
              "description_width": ""
            }
          },
          "9cc96ccb863f40d399b9ee1662f86ab5": {
            "model_module": "@jupyter-widgets/base",
            "model_module_version": "1.1.0",
            "model_name": "LayoutModel",
            "state": {}
          },
          "9d0d6f672d8247939df3da28e0c0cf1e": {
            "model_module": "@jupyter-widgets/controls",
            "model_module_version": "1.4.0",
            "model_name": "VBoxModel",
            "state": {
              "_dom_classes": [
                "widget-interact"
              ],
              "children": [
                "IPY_MODEL_aba9f822183e4e0a89f93becf2be4fa6",
                "IPY_MODEL_b079540ad290430c9ef28aa589795a34"
              ],
              "layout": "IPY_MODEL_f0b0fa6fe91a42ac9de1cd3d0e39d734"
            }
          },
          "9d7169e173cb4cfe9cf36e3de8ffecd6": {
            "model_module": "@jupyter-widgets/output",
            "model_module_version": "1.0.0",
            "model_name": "OutputModel",
            "state": {
              "layout": "IPY_MODEL_785b612b454744b6a09c134def27fdc6",
              "outputs": [
                {
                  "data": {
                    "text/html": "<div>\n<style scoped>\n    .dataframe tbody tr th:only-of-type {\n        vertical-align: middle;\n    }\n\n    .dataframe tbody tr th {\n        vertical-align: top;\n    }\n\n    .dataframe thead th {\n        text-align: right;\n    }\n</style>\n<table border=\"1\" class=\"dataframe\">\n  <thead>\n    <tr style=\"text-align: right;\">\n      <th></th>\n      <th>TenantId</th>\n      <th>SourceSystem</th>\n      <th>TimeGenerated</th>\n      <th>ReceiptTime</th>\n      <th>DeviceVendor</th>\n      <th>DeviceProduct</th>\n      <th>DeviceEventClassID</th>\n      <th>LogSeverity</th>\n      <th>OriginalLogSeverity</th>\n      <th>DeviceAction</th>\n      <th>SimplifiedDeviceAction</th>\n      <th>Computer</th>\n      <th>CommunicationDirection</th>\n      <th>DeviceFacility</th>\n      <th>DestinationPort</th>\n      <th>DestinationIP</th>\n      <th>DeviceAddress</th>\n      <th>DeviceName</th>\n      <th>Message</th>\n      <th>Protocol</th>\n      <th>SourcePort</th>\n      <th>SourceIP</th>\n      <th>RemoteIP</th>\n      <th>RemotePort</th>\n      <th>MaliciousIP</th>\n      <th>...</th>\n      <th>DeviceCustomString4</th>\n      <th>DeviceCustomString4Label</th>\n      <th>DeviceCustomString5</th>\n      <th>DeviceCustomString5Label</th>\n      <th>DeviceCustomString6</th>\n      <th>DeviceCustomString6Label</th>\n      <th>DeviceCustomDate1</th>\n      <th>DeviceCustomDate1Label</th>\n      <th>DeviceCustomDate2</th>\n      <th>DeviceCustomDate2Label</th>\n      <th>FlexDate1</th>\n      <th>FlexDate1Label</th>\n      <th>FlexNumber1</th>\n      <th>FlexNumber1Label</th>\n      <th>FlexNumber2</th>\n      <th>FlexNumber2Label</th>\n      <th>FlexString1</th>\n      <th>FlexString1Label</th>\n      <th>FlexString2</th>\n      <th>FlexString2Label</th>\n      <th>AdditionalExtensions</th>\n      <th>StartTime</th>\n      <th>EndTime</th>\n      <th>Type</th>\n      <th>_ResourceId</th>\n    </tr>\n  </thead>\n  <tbody>\n  </tbody>\n</table>\n<p>0 rows × 152 columns</p>\n</div>",
                    "text/plain": "Empty DataFrame\nColumns: [TenantId, SourceSystem, TimeGenerated, ReceiptTime, DeviceVendor, DeviceProduct, DeviceEventClassID, LogSeverity, OriginalLogSeverity, DeviceAction, SimplifiedDeviceAction, Computer, CommunicationDirection, DeviceFacility, DestinationPort, DestinationIP, DeviceAddress, DeviceName, Message, Protocol, SourcePort, SourceIP, RemoteIP, RemotePort, MaliciousIP, ThreatSeverity, IndicatorThreatType, ThreatDescription, ThreatConfidence, ReportReferenceLink, MaliciousIPLongitude, MaliciousIPLatitude, MaliciousIPCountry, DeviceVersion, Activity, ApplicationProtocol, EventCount, DestinationDnsDomain, DestinationServiceName, DestinationTranslatedAddress, DestinationTranslatedPort, DeviceDnsDomain, DeviceExternalID, DeviceInboundInterface, DeviceNtDomain, DeviceOutboundInterface, DevicePayloadId, ProcessName, DeviceTranslatedAddress, DestinationHostName, DestinationMACAddress, DestinationNTDomain, DestinationProcessId, DestinationUserPrivileges, DestinationProcessName, DeviceTimeZone, DestinationUserID, DestinationUserName, DeviceMacAddress, ProcessID, ExternalID, FileCreateTime, FileHash, FileID, FileModificationTime, FilePath, FilePermission, FileType, FileName, FileSize, ReceivedBytes, OldFileCreateTime, OldFileHash, OldFileID, OldFileModificationTime, OldFileName, OldFilePath, OldFilePermission, OldFileSize, OldFileType, SentBytes, RequestURL, RequestClientApplication, RequestContext, RequestCookies, RequestMethod, SourceHostName, SourceMACAddress, SourceNTDomain, SourceDnsDomain, SourceServiceName, SourceTranslatedAddress, SourceTranslatedPort, SourceProcessId, SourceUserPrivileges, SourceProcessName, SourceUserID, SourceUserName, EventType, DeviceCustomIPv6Address1, ...]\nIndex: []\n\n[0 rows x 152 columns]"
                  },
                  "metadata": {},
                  "output_type": "display_data"
                }
              ]
            }
          },
          "9e032546ee8b4035ae2fcfeb2d6267f9": {
            "model_module": "@jupyter-widgets/base",
            "model_module_version": "1.1.0",
            "model_name": "LayoutModel",
            "state": {}
          },
          "9e41ee0a399c4d3882b5f8f9b6cbd5da": {
            "model_module": "@jupyter-widgets/controls",
            "model_module_version": "1.4.0",
            "model_name": "HBoxModel",
            "state": {
              "children": [
                "IPY_MODEL_ea40b146eb354510aaf4c13ee8f4f552",
                "IPY_MODEL_f535951dd2c146c3aa92cf614226c998"
              ],
              "layout": "IPY_MODEL_f4dcde98ad714cff9daa4b2a71123fbd"
            }
          },
          "9e6f819d1ae949eaa8a233ec60eb1460": {
            "model_module": "@jupyter-widgets/controls",
            "model_module_version": "1.4.0",
            "model_name": "DescriptionStyleModel",
            "state": {
              "description_width": ""
            }
          },
          "9ed27991c53f431c923c60c86dc31b03": {
            "model_module": "@jupyter-widgets/controls",
            "model_module_version": "1.4.0",
            "model_name": "TextModel",
            "state": {
              "description": "Please enter your Log Analytics Tenant Id:",
              "layout": "IPY_MODEL_f3864e805868478ba4991fbd5c12e742",
              "style": "IPY_MODEL_2746192db58449c59bb4508b9abc3df1",
              "value": "72f988bf-86f1-41af-91ab-2d7cd011db47"
            }
          },
          "9f609570b5ab47a3ac1755eb6dafb4c4": {
            "model_module": "@jupyter-widgets/base",
            "model_module_version": "1.1.0",
            "model_name": "LayoutModel",
            "state": {}
          },
          "9f6e4aaa583143aab92b62364fecde0c": {
            "model_module": "@jupyter-widgets/controls",
            "model_module_version": "1.4.0",
            "model_name": "HBoxModel",
            "state": {
              "children": [
                "IPY_MODEL_e856c9816b9a46f396963f414234e424",
                "IPY_MODEL_d595121cd7104e9f95d3f581551597e2"
              ],
              "layout": "IPY_MODEL_35c76f43571f4b088ab76b9bf7344071"
            }
          },
          "9ff6e8362bdb478eb42da308c25654f6": {
            "model_module": "@jupyter-widgets/controls",
            "model_module_version": "1.4.0",
            "model_name": "DescriptionStyleModel",
            "state": {
              "description_width": "initial"
            }
          },
          "a02fb47b4db846c88e9a824108646f1e": {
            "model_module": "@jupyter-widgets/base",
            "model_module_version": "1.1.0",
            "model_name": "LayoutModel",
            "state": {}
          },
          "a037c0e5015147c89ed7d9572da09ed4": {
            "model_module": "@jupyter-widgets/controls",
            "model_module_version": "1.4.0",
            "model_name": "VBoxModel",
            "state": {
              "children": [
                "IPY_MODEL_3c53ec1b22954bac83c45e86c23d25b5",
                "IPY_MODEL_58570da3a3c24bf8b096a6056040d650",
                "IPY_MODEL_8693445231034434bbd5cd6620cd28d9"
              ],
              "layout": "IPY_MODEL_51447950c2c34162964e02edf7ceed19"
            }
          },
          "a0b1979ec31443f088d0ef4973340490": {
            "model_module": "@jupyter-widgets/base",
            "model_module_version": "1.1.0",
            "model_name": "LayoutModel",
            "state": {
              "width": "50%"
            }
          },
          "a12a3beeafc84db1badee8c5883ab323": {
            "model_module": "@jupyter-widgets/controls",
            "model_module_version": "1.4.0",
            "model_name": "TextModel",
            "state": {
              "description": "Query start time (UTC):",
              "layout": "IPY_MODEL_5124dce125c44e4f86560b2095a16dc8",
              "style": "IPY_MODEL_65512918a8ed493a8c1fb40692538312",
              "value": "2019-10-08 23:40:00.477253"
            }
          },
          "a139ab2ddb0f42f6b50f277180ff4e28": {
            "model_module": "@jupyter-widgets/output",
            "model_module_version": "1.0.0",
            "model_name": "OutputModel",
            "state": {
              "layout": "IPY_MODEL_594f0759965446b68a4e09ca112cea1f",
              "outputs": [
                {
                  "data": {
                    "text/html": "<div>\n<style scoped>\n    .dataframe tbody tr th:only-of-type {\n        vertical-align: middle;\n    }\n\n    .dataframe tbody tr th {\n        vertical-align: top;\n    }\n\n    .dataframe thead th {\n        text-align: right;\n    }\n</style>\n<table border=\"1\" class=\"dataframe\">\n  <thead>\n    <tr style=\"text-align: right;\">\n      <th></th>\n      <th>TenantId</th>\n      <th>SourceSystem</th>\n      <th>TimeGenerated</th>\n      <th>Computer</th>\n      <th>EventTime</th>\n      <th>Facility</th>\n      <th>HostName</th>\n      <th>SeverityLevel</th>\n      <th>SyslogMessage</th>\n      <th>ProcessID</th>\n      <th>HostIP</th>\n      <th>ProcessName</th>\n      <th>MG</th>\n      <th>Type</th>\n      <th>_ResourceId</th>\n      <th>Account</th>\n      <th>AccountType</th>\n      <th>EventSourceName</th>\n      <th>Channel</th>\n      <th>Task</th>\n      <th>Level</th>\n      <th>EventData</th>\n      <th>EventID</th>\n      <th>Activity</th>\n      <th>PartitionKey</th>\n      <th>...</th>\n      <th>TargetServerName</th>\n      <th>TargetSid</th>\n      <th>TargetUser</th>\n      <th>TargetUserName</th>\n      <th>TargetUserSid</th>\n      <th>TemplateContent</th>\n      <th>TemplateDSObjectFQDN</th>\n      <th>TemplateInternalName</th>\n      <th>TemplateOID</th>\n      <th>TemplateSchemaVersion</th>\n      <th>TemplateVersion</th>\n      <th>TokenElevationType</th>\n      <th>TransmittedServices</th>\n      <th>UserAccountControl</th>\n      <th>UserParameters</th>\n      <th>UserPrincipalName</th>\n      <th>UserWorkstations</th>\n      <th>VirtualAccount</th>\n      <th>VendorIds</th>\n      <th>Workstation</th>\n      <th>WorkstationName</th>\n      <th>SourceComputerId</th>\n      <th>EventOriginId</th>\n      <th>TimeCollected</th>\n      <th>ManagementGroupName</th>\n    </tr>\n  </thead>\n  <tbody>\n    <tr>\n      <td>0</td>\n      <td>b1315f05-4a7a-45b4-811f-73e715f7c122</td>\n      <td>Linux</td>\n      <td>2019-10-11 20:42:30.440</td>\n      <td>UbuntuDevEnv</td>\n      <td>2019-10-11 20:42:30</td>\n      <td>authpriv</td>\n      <td>UbuntuDevEnv</td>\n      <td>notice</td>\n      <td>peteb : TTY=pts/0   PWD=/home/peteb   USER=root   COMMAND=/usr/bin/curl http://cui0d716336363935...</td>\n      <td>NaN</td>\n      <td>10.0.1.4</td>\n      <td>sudo</td>\n      <td>00000000-0000-0000-0000-000000000002</td>\n      <td>Syslog</td>\n      <td>/subscriptions/3b701f84-d04b-4479-89b1-fa8827eb537e/resourcegroups/contoso/providers/microsoft.c...</td>\n      <td></td>\n      <td></td>\n      <td></td>\n      <td></td>\n      <td>NaN</td>\n      <td></td>\n      <td></td>\n      <td>NaN</td>\n      <td></td>\n      <td></td>\n      <td>...</td>\n      <td></td>\n      <td></td>\n      <td></td>\n      <td></td>\n      <td></td>\n      <td></td>\n      <td></td>\n      <td></td>\n      <td></td>\n      <td></td>\n      <td></td>\n      <td></td>\n      <td></td>\n      <td></td>\n      <td></td>\n      <td></td>\n      <td></td>\n      <td></td>\n      <td></td>\n      <td></td>\n      <td></td>\n      <td></td>\n      <td></td>\n      <td>NaT</td>\n      <td></td>\n    </tr>\n    <tr>\n      <td>1</td>\n      <td>b1315f05-4a7a-45b4-811f-73e715f7c122</td>\n      <td>Linux</td>\n      <td>2019-10-11 20:46:24.540</td>\n      <td>UbuntuDevEnv</td>\n      <td>2019-10-11 20:46:24</td>\n      <td>authpriv</td>\n      <td>UbuntuDevEnv</td>\n      <td>notice</td>\n      <td>peteb : TTY=pts/0   PWD=/home/peteb   USER=root   COMMAND=/usr/bin/curl http://cui0d716336363935...</td>\n      <td>NaN</td>\n      <td>10.0.1.4</td>\n      <td>sudo</td>\n      <td>00000000-0000-0000-0000-000000000002</td>\n      <td>Syslog</td>\n      <td>/subscriptions/3b701f84-d04b-4479-89b1-fa8827eb537e/resourcegroups/contoso/providers/microsoft.c...</td>\n      <td></td>\n      <td></td>\n      <td></td>\n      <td></td>\n      <td>NaN</td>\n      <td></td>\n      <td></td>\n      <td>NaN</td>\n      <td></td>\n      <td></td>\n      <td>...</td>\n      <td></td>\n      <td></td>\n      <td></td>\n      <td></td>\n      <td></td>\n      <td></td>\n      <td></td>\n      <td></td>\n      <td></td>\n      <td></td>\n      <td></td>\n      <td></td>\n      <td></td>\n      <td></td>\n      <td></td>\n      <td></td>\n      <td></td>\n      <td></td>\n      <td></td>\n      <td></td>\n      <td></td>\n      <td></td>\n      <td></td>\n      <td>NaT</td>\n      <td></td>\n    </tr>\n    <tr>\n      <td>2</td>\n      <td>b1315f05-4a7a-45b4-811f-73e715f7c122</td>\n      <td>Linux</td>\n      <td>2019-10-11 20:49:53.050</td>\n      <td>UbuntuDevEnv</td>\n      <td>2019-10-11 20:49:53</td>\n      <td>authpriv</td>\n      <td>UbuntuDevEnv</td>\n      <td>notice</td>\n      <td>peteb : TTY=pts/0   PWD=/home/peteb   USER=root   COMMAND=/usr/bin/wget http://cui0d716336363935...</td>\n      <td>NaN</td>\n      <td>10.0.1.4</td>\n      <td>sudo</td>\n      <td>00000000-0000-0000-0000-000000000002</td>\n      <td>Syslog</td>\n      <td>/subscriptions/3b701f84-d04b-4479-89b1-fa8827eb537e/resourcegroups/contoso/providers/microsoft.c...</td>\n      <td></td>\n      <td></td>\n      <td></td>\n      <td></td>\n      <td>NaN</td>\n      <td></td>\n      <td></td>\n      <td>NaN</td>\n      <td></td>\n      <td></td>\n      <td>...</td>\n      <td></td>\n      <td></td>\n      <td></td>\n      <td></td>\n      <td></td>\n      <td></td>\n      <td></td>\n      <td></td>\n      <td></td>\n      <td></td>\n      <td></td>\n      <td></td>\n      <td></td>\n      <td></td>\n      <td></td>\n      <td></td>\n      <td></td>\n      <td></td>\n      <td></td>\n      <td></td>\n      <td></td>\n      <td></td>\n      <td></td>\n      <td>NaT</td>\n      <td></td>\n    </tr>\n  </tbody>\n</table>\n<p>3 rows × 232 columns</p>\n</div>",
                    "text/plain": "                               TenantId SourceSystem           TimeGenerated  \\\n0  b1315f05-4a7a-45b4-811f-73e715f7c122        Linux 2019-10-11 20:42:30.440   \n1  b1315f05-4a7a-45b4-811f-73e715f7c122        Linux 2019-10-11 20:46:24.540   \n2  b1315f05-4a7a-45b4-811f-73e715f7c122        Linux 2019-10-11 20:49:53.050   \n\n       Computer           EventTime  Facility      HostName SeverityLevel  \\\n0  UbuntuDevEnv 2019-10-11 20:42:30  authpriv  UbuntuDevEnv        notice   \n1  UbuntuDevEnv 2019-10-11 20:46:24  authpriv  UbuntuDevEnv        notice   \n2  UbuntuDevEnv 2019-10-11 20:49:53  authpriv  UbuntuDevEnv        notice   \n\n                                                                                         SyslogMessage  \\\n0  peteb : TTY=pts/0   PWD=/home/peteb   USER=root   COMMAND=/usr/bin/curl http://cui0d716336363935...   \n1  peteb : TTY=pts/0   PWD=/home/peteb   USER=root   COMMAND=/usr/bin/curl http://cui0d716336363935...   \n2  peteb : TTY=pts/0   PWD=/home/peteb   USER=root   COMMAND=/usr/bin/wget http://cui0d716336363935...   \n\n   ProcessID    HostIP ProcessName                                    MG  \\\n0        NaN  10.0.1.4        sudo  00000000-0000-0000-0000-000000000002   \n1        NaN  10.0.1.4        sudo  00000000-0000-0000-0000-000000000002   \n2        NaN  10.0.1.4        sudo  00000000-0000-0000-0000-000000000002   \n\n     Type  \\\n0  Syslog   \n1  Syslog   \n2  Syslog   \n\n                                                                                           _ResourceId  \\\n0  /subscriptions/3b701f84-d04b-4479-89b1-fa8827eb537e/resourcegroups/contoso/providers/microsoft.c...   \n1  /subscriptions/3b701f84-d04b-4479-89b1-fa8827eb537e/resourcegroups/contoso/providers/microsoft.c...   \n2  /subscriptions/3b701f84-d04b-4479-89b1-fa8827eb537e/resourcegroups/contoso/providers/microsoft.c...   \n\n  Account AccountType EventSourceName Channel  Task Level EventData  EventID  \\\n0                                               NaN                      NaN   \n1                                               NaN                      NaN   \n2                                               NaN                      NaN   \n\n  Activity PartitionKey  ... TargetServerName TargetSid TargetUser  \\\n0                        ...                                         \n1                        ...                                         \n2                        ...                                         \n\n  TargetUserName TargetUserSid TemplateContent TemplateDSObjectFQDN  \\\n0                                                                     \n1                                                                     \n2                                                                     \n\n  TemplateInternalName TemplateOID TemplateSchemaVersion TemplateVersion  \\\n0                                                                          \n1                                                                          \n2                                                                          \n\n  TokenElevationType TransmittedServices UserAccountControl UserParameters  \\\n0                                                                            \n1                                                                            \n2                                                                            \n\n  UserPrincipalName  UserWorkstations  VirtualAccount VendorIds Workstation  \\\n0                                                                             \n1                                                                             \n2                                                                             \n\n  WorkstationName  SourceComputerId EventOriginId TimeCollected  \\\n0                                                           NaT   \n1                                                           NaT   \n2                                                           NaT   \n\n  ManagementGroupName  \n0                      \n1                      \n2                      \n\n[3 rows x 232 columns]"
                  },
                  "metadata": {},
                  "output_type": "display_data"
                }
              ]
            }
          },
          "a1f612efc9c84c7b90378a28b78b966b": {
            "model_module": "@jupyter-widgets/output",
            "model_module_version": "1.0.0",
            "model_name": "OutputModel",
            "state": {
              "layout": "IPY_MODEL_2c0ff3a7dff34850bdef24f251451838",
              "outputs": [
                {
                  "data": {
                    "text/html": "<div>\n<style scoped>\n    .dataframe tbody tr th:only-of-type {\n        vertical-align: middle;\n    }\n\n    .dataframe tbody tr th {\n        vertical-align: top;\n    }\n\n    .dataframe thead th {\n        text-align: right;\n    }\n</style>\n<table border=\"1\" class=\"dataframe\">\n  <thead>\n    <tr style=\"text-align: right;\">\n      <th></th>\n      <th>TenantId</th>\n      <th>SourceSystem</th>\n      <th>TimeGenerated</th>\n      <th>Computer</th>\n      <th>EventTime</th>\n      <th>Facility</th>\n      <th>HostName</th>\n      <th>SeverityLevel</th>\n      <th>SyslogMessage</th>\n      <th>ProcessID</th>\n      <th>HostIP</th>\n      <th>ProcessName</th>\n      <th>MG</th>\n      <th>Type</th>\n      <th>_ResourceId</th>\n      <th>Account</th>\n      <th>AccountType</th>\n      <th>EventSourceName</th>\n      <th>Channel</th>\n      <th>Task</th>\n      <th>Level</th>\n      <th>EventData</th>\n      <th>EventID</th>\n      <th>Activity</th>\n      <th>PartitionKey</th>\n      <th>...</th>\n      <th>TargetServerName</th>\n      <th>TargetSid</th>\n      <th>TargetUser</th>\n      <th>TargetUserName</th>\n      <th>TargetUserSid</th>\n      <th>TemplateContent</th>\n      <th>TemplateDSObjectFQDN</th>\n      <th>TemplateInternalName</th>\n      <th>TemplateOID</th>\n      <th>TemplateSchemaVersion</th>\n      <th>TemplateVersion</th>\n      <th>TokenElevationType</th>\n      <th>TransmittedServices</th>\n      <th>UserAccountControl</th>\n      <th>UserParameters</th>\n      <th>UserPrincipalName</th>\n      <th>UserWorkstations</th>\n      <th>VirtualAccount</th>\n      <th>VendorIds</th>\n      <th>Workstation</th>\n      <th>WorkstationName</th>\n      <th>SourceComputerId</th>\n      <th>EventOriginId</th>\n      <th>TimeCollected</th>\n      <th>ManagementGroupName</th>\n    </tr>\n  </thead>\n  <tbody>\n    <tr>\n      <td>0</td>\n      <td>b1315f05-4a7a-45b4-811f-73e715f7c122</td>\n      <td>Linux</td>\n      <td>2019-10-11 20:42:30.440</td>\n      <td>UbuntuDevEnv</td>\n      <td>2019-10-11 20:42:30</td>\n      <td>authpriv</td>\n      <td>UbuntuDevEnv</td>\n      <td>notice</td>\n      <td>peteb : TTY=pts/0   PWD=/home/peteb   USER=root   COMMAND=/usr/bin/curl http://cui0d716336363935...</td>\n      <td>NaN</td>\n      <td>10.0.1.4</td>\n      <td>sudo</td>\n      <td>00000000-0000-0000-0000-000000000002</td>\n      <td>Syslog</td>\n      <td>/subscriptions/3b701f84-d04b-4479-89b1-fa8827eb537e/resourcegroups/contoso/providers/microsoft.c...</td>\n      <td></td>\n      <td></td>\n      <td></td>\n      <td></td>\n      <td>NaN</td>\n      <td></td>\n      <td></td>\n      <td>NaN</td>\n      <td></td>\n      <td></td>\n      <td>...</td>\n      <td></td>\n      <td></td>\n      <td></td>\n      <td></td>\n      <td></td>\n      <td></td>\n      <td></td>\n      <td></td>\n      <td></td>\n      <td></td>\n      <td></td>\n      <td></td>\n      <td></td>\n      <td></td>\n      <td></td>\n      <td></td>\n      <td></td>\n      <td></td>\n      <td></td>\n      <td></td>\n      <td></td>\n      <td></td>\n      <td></td>\n      <td>NaT</td>\n      <td></td>\n    </tr>\n    <tr>\n      <td>1</td>\n      <td>b1315f05-4a7a-45b4-811f-73e715f7c122</td>\n      <td>Linux</td>\n      <td>2019-10-11 20:46:24.540</td>\n      <td>UbuntuDevEnv</td>\n      <td>2019-10-11 20:46:24</td>\n      <td>authpriv</td>\n      <td>UbuntuDevEnv</td>\n      <td>notice</td>\n      <td>peteb : TTY=pts/0   PWD=/home/peteb   USER=root   COMMAND=/usr/bin/curl http://cui0d716336363935...</td>\n      <td>NaN</td>\n      <td>10.0.1.4</td>\n      <td>sudo</td>\n      <td>00000000-0000-0000-0000-000000000002</td>\n      <td>Syslog</td>\n      <td>/subscriptions/3b701f84-d04b-4479-89b1-fa8827eb537e/resourcegroups/contoso/providers/microsoft.c...</td>\n      <td></td>\n      <td></td>\n      <td></td>\n      <td></td>\n      <td>NaN</td>\n      <td></td>\n      <td></td>\n      <td>NaN</td>\n      <td></td>\n      <td></td>\n      <td>...</td>\n      <td></td>\n      <td></td>\n      <td></td>\n      <td></td>\n      <td></td>\n      <td></td>\n      <td></td>\n      <td></td>\n      <td></td>\n      <td></td>\n      <td></td>\n      <td></td>\n      <td></td>\n      <td></td>\n      <td></td>\n      <td></td>\n      <td></td>\n      <td></td>\n      <td></td>\n      <td></td>\n      <td></td>\n      <td></td>\n      <td></td>\n      <td>NaT</td>\n      <td></td>\n    </tr>\n    <tr>\n      <td>2</td>\n      <td>b1315f05-4a7a-45b4-811f-73e715f7c122</td>\n      <td>Linux</td>\n      <td>2019-10-11 20:49:53.050</td>\n      <td>UbuntuDevEnv</td>\n      <td>2019-10-11 20:49:53</td>\n      <td>authpriv</td>\n      <td>UbuntuDevEnv</td>\n      <td>notice</td>\n      <td>peteb : TTY=pts/0   PWD=/home/peteb   USER=root   COMMAND=/usr/bin/wget http://cui0d716336363935...</td>\n      <td>NaN</td>\n      <td>10.0.1.4</td>\n      <td>sudo</td>\n      <td>00000000-0000-0000-0000-000000000002</td>\n      <td>Syslog</td>\n      <td>/subscriptions/3b701f84-d04b-4479-89b1-fa8827eb537e/resourcegroups/contoso/providers/microsoft.c...</td>\n      <td></td>\n      <td></td>\n      <td></td>\n      <td></td>\n      <td>NaN</td>\n      <td></td>\n      <td></td>\n      <td>NaN</td>\n      <td></td>\n      <td></td>\n      <td>...</td>\n      <td></td>\n      <td></td>\n      <td></td>\n      <td></td>\n      <td></td>\n      <td></td>\n      <td></td>\n      <td></td>\n      <td></td>\n      <td></td>\n      <td></td>\n      <td></td>\n      <td></td>\n      <td></td>\n      <td></td>\n      <td></td>\n      <td></td>\n      <td></td>\n      <td></td>\n      <td></td>\n      <td></td>\n      <td></td>\n      <td></td>\n      <td>NaT</td>\n      <td></td>\n    </tr>\n  </tbody>\n</table>\n<p>3 rows × 232 columns</p>\n</div>",
                    "text/plain": "                               TenantId SourceSystem           TimeGenerated  \\\n0  b1315f05-4a7a-45b4-811f-73e715f7c122        Linux 2019-10-11 20:42:30.440   \n1  b1315f05-4a7a-45b4-811f-73e715f7c122        Linux 2019-10-11 20:46:24.540   \n2  b1315f05-4a7a-45b4-811f-73e715f7c122        Linux 2019-10-11 20:49:53.050   \n\n       Computer           EventTime  Facility      HostName SeverityLevel  \\\n0  UbuntuDevEnv 2019-10-11 20:42:30  authpriv  UbuntuDevEnv        notice   \n1  UbuntuDevEnv 2019-10-11 20:46:24  authpriv  UbuntuDevEnv        notice   \n2  UbuntuDevEnv 2019-10-11 20:49:53  authpriv  UbuntuDevEnv        notice   \n\n                                                                                         SyslogMessage  \\\n0  peteb : TTY=pts/0   PWD=/home/peteb   USER=root   COMMAND=/usr/bin/curl http://cui0d716336363935...   \n1  peteb : TTY=pts/0   PWD=/home/peteb   USER=root   COMMAND=/usr/bin/curl http://cui0d716336363935...   \n2  peteb : TTY=pts/0   PWD=/home/peteb   USER=root   COMMAND=/usr/bin/wget http://cui0d716336363935...   \n\n   ProcessID    HostIP ProcessName                                    MG  \\\n0        NaN  10.0.1.4        sudo  00000000-0000-0000-0000-000000000002   \n1        NaN  10.0.1.4        sudo  00000000-0000-0000-0000-000000000002   \n2        NaN  10.0.1.4        sudo  00000000-0000-0000-0000-000000000002   \n\n     Type  \\\n0  Syslog   \n1  Syslog   \n2  Syslog   \n\n                                                                                           _ResourceId  \\\n0  /subscriptions/3b701f84-d04b-4479-89b1-fa8827eb537e/resourcegroups/contoso/providers/microsoft.c...   \n1  /subscriptions/3b701f84-d04b-4479-89b1-fa8827eb537e/resourcegroups/contoso/providers/microsoft.c...   \n2  /subscriptions/3b701f84-d04b-4479-89b1-fa8827eb537e/resourcegroups/contoso/providers/microsoft.c...   \n\n  Account AccountType EventSourceName Channel  Task Level EventData  EventID  \\\n0                                               NaN                      NaN   \n1                                               NaN                      NaN   \n2                                               NaN                      NaN   \n\n  Activity PartitionKey  ... TargetServerName TargetSid TargetUser  \\\n0                        ...                                         \n1                        ...                                         \n2                        ...                                         \n\n  TargetUserName TargetUserSid TemplateContent TemplateDSObjectFQDN  \\\n0                                                                     \n1                                                                     \n2                                                                     \n\n  TemplateInternalName TemplateOID TemplateSchemaVersion TemplateVersion  \\\n0                                                                          \n1                                                                          \n2                                                                          \n\n  TokenElevationType TransmittedServices UserAccountControl UserParameters  \\\n0                                                                            \n1                                                                            \n2                                                                            \n\n  UserPrincipalName  UserWorkstations  VirtualAccount VendorIds Workstation  \\\n0                                                                             \n1                                                                             \n2                                                                             \n\n  WorkstationName  SourceComputerId EventOriginId TimeCollected  \\\n0                                                           NaT   \n1                                                           NaT   \n2                                                           NaT   \n\n  ManagementGroupName  \n0                      \n1                      \n2                      \n\n[3 rows x 232 columns]"
                  },
                  "metadata": {},
                  "output_type": "display_data"
                }
              ]
            }
          },
          "a2b2e6df8b0f42eda28559a499474ce6": {
            "model_module": "@jupyter-widgets/controls",
            "model_module_version": "1.4.0",
            "model_name": "DescriptionStyleModel",
            "state": {
              "description_width": ""
            }
          },
          "a38d4b1c6c1546c799d578c18c9a374c": {
            "model_module": "@jupyter-widgets/controls",
            "model_module_version": "1.4.0",
            "model_name": "TextModel",
            "state": {
              "description": "Query end time (UTC) :  ",
              "layout": "IPY_MODEL_e2e9f8b8ec414ead9eb43665bc578af0",
              "style": "IPY_MODEL_b32104ffc3844191a40ed1711d117519",
              "value": "2019-10-12 23:40:00.477253"
            }
          },
          "a42668ee250a4956b23c0c35bbf51ebb": {
            "model_module": "@jupyter-widgets/controls",
            "model_module_version": "1.4.0",
            "model_name": "HBoxModel",
            "state": {
              "children": [
                "IPY_MODEL_50a77a8b0fca4ad984bd260f18bc9850",
                "IPY_MODEL_4fcce18c3bbd49bd802f22ca8e710170"
              ],
              "layout": "IPY_MODEL_7b0b1761c0a1445fa214ad397f1a36ac"
            }
          },
          "a4b244c5f61f4016b5173af8eb0ae684": {
            "model_module": "@jupyter-widgets/controls",
            "model_module_version": "1.4.0",
            "model_name": "ButtonModel",
            "state": {
              "description": "Set",
              "layout": "IPY_MODEL_504a4de7f2224a7fbf56fb5b750b100b",
              "style": "IPY_MODEL_fa07dd15b00d42e0afae3e7bdd0df939"
            }
          },
          "a541e1cbdaf04fe7ba46825bc9cc5fb2": {
            "model_module": "@jupyter-widgets/controls",
            "model_module_version": "1.4.0",
            "model_name": "HTMLModel",
            "state": {
              "layout": "IPY_MODEL_44c0828b94404f508cda5fe24c0878cd",
              "style": "IPY_MODEL_b4086b2f599143d4bedc8fc431fe8501",
              "value": "<h4>Set query time boundaries</h4>"
            }
          },
          "a618e46e86cb484daddac8b5030f711b": {
            "model_module": "@jupyter-widgets/controls",
            "model_module_version": "1.4.0",
            "model_name": "VBoxModel",
            "state": {
              "_dom_classes": [
                "widget-interact"
              ],
              "children": [
                "IPY_MODEL_114e354f6ff9465bb991ba0fb376460e",
                "IPY_MODEL_a139ab2ddb0f42f6b50f277180ff4e28"
              ],
              "layout": "IPY_MODEL_f2e26c34c9384c88b0fef5332b8b9982"
            }
          },
          "a7caf5a570b2452190e49121ad854b85": {
            "model_module": "@jupyter-widgets/base",
            "model_module_version": "1.1.0",
            "model_name": "LayoutModel",
            "state": {}
          },
          "a7cfe36da0fc4ac7b433b8c69129e21e": {
            "model_module": "@jupyter-widgets/base",
            "model_module_version": "1.1.0",
            "model_name": "LayoutModel",
            "state": {}
          },
          "a815e1a520054b2d8b3af0aaa6c3602e": {
            "model_module": "@jupyter-widgets/controls",
            "model_module_version": "1.4.0",
            "model_name": "DescriptionStyleModel",
            "state": {
              "description_width": ""
            }
          },
          "a847199084634e0e9a3d65514cfbf737": {
            "model_module": "@jupyter-widgets/base",
            "model_module_version": "1.1.0",
            "model_name": "LayoutModel",
            "state": {}
          },
          "a9003c65716a4d679f5cbfa2a64d7363": {
            "model_module": "@jupyter-widgets/base",
            "model_module_version": "1.1.0",
            "model_name": "LayoutModel",
            "state": {}
          },
          "a9618121e3c0472d92f761fc6766bca4": {
            "model_module": "@jupyter-widgets/controls",
            "model_module_version": "1.4.0",
            "model_name": "CheckboxModel",
            "state": {
              "description": "Save as environment var",
              "disabled": false,
              "layout": "IPY_MODEL_4ecd49325717418aa321b92bd442480e",
              "style": "IPY_MODEL_4aa1749ca4084649a7f13337f629063d",
              "value": true
            }
          },
          "a97244ee277a49b5952d1a2699aec61e": {
            "model_module": "@jupyter-widgets/controls",
            "model_module_version": "1.4.0",
            "model_name": "HBoxModel",
            "state": {
              "children": [
                "IPY_MODEL_bd87c053e8c7463484bdc13b81987321",
                "IPY_MODEL_fddbad560ba649d8bdaeb5475de11fce",
                "IPY_MODEL_728f742526cf4ed29d9557eb10b3f572"
              ],
              "layout": "IPY_MODEL_73bb4c1be1fb422e9a4a30d9c620db9b"
            }
          },
          "a9977326d3264ea69bcb2d1d43eff59e": {
            "model_module": "@jupyter-widgets/controls",
            "model_module_version": "1.4.0",
            "model_name": "HBoxModel",
            "state": {
              "children": [
                "IPY_MODEL_321032eb263f4dedb297de59f79ccef4",
                "IPY_MODEL_ab87ce595fb546519a563f8b162f8079"
              ],
              "layout": "IPY_MODEL_88d5082558fe4109b5de5bc601647d11"
            }
          },
          "a9a69546e5b3452ea977a68b28973930": {
            "model_module": "@jupyter-widgets/controls",
            "model_module_version": "1.4.0",
            "model_name": "HBoxModel",
            "state": {
              "children": [
                "IPY_MODEL_92e3136bcaec4ce4a50ae0979e837a7b",
                "IPY_MODEL_5ed53e38624848f0a8ae9bf7375fd81f",
                "IPY_MODEL_a9618121e3c0472d92f761fc6766bca4"
              ],
              "layout": "IPY_MODEL_f1ec2aa428124350a9bca27b7b81f517"
            }
          },
          "aaafd73220ff46638020548c9e089c68": {
            "model_module": "@jupyter-widgets/controls",
            "model_module_version": "1.4.0",
            "model_name": "SliderStyleModel",
            "state": {
              "description_width": "initial"
            }
          },
          "ab87ce595fb546519a563f8b162f8079": {
            "model_module": "@jupyter-widgets/controls",
            "model_module_version": "1.4.0",
            "model_name": "TextModel",
            "state": {
              "description": "Time (24hr)",
              "layout": "IPY_MODEL_e5393a3f3da84f0c89eb61ae2b9aca3f",
              "style": "IPY_MODEL_dba1798692bd41a38a0a545bf7042083",
              "value": "23:40:00.477253"
            }
          },
          "aba9f822183e4e0a89f93becf2be4fa6": {
            "model_module": "@jupyter-widgets/controls",
            "model_module_version": "1.4.0",
            "model_name": "DropdownModel",
            "state": {
              "description": "Select IP to view raw logs",
              "index": null,
              "layout": "IPY_MODEL_0075662841444acea028894ec896a45e",
              "style": "IPY_MODEL_0e165e2276074c378cc0403a98270887"
            }
          },
          "ac330c9f4bc44e3ab71a1e2d04d446ce": {
            "model_module": "@jupyter-widgets/controls",
            "model_module_version": "1.4.0",
            "model_name": "ButtonStyleModel",
            "state": {}
          },
          "ae84dd2c11c04f3b842b14a577ffed2e": {
            "model_module": "@jupyter-widgets/controls",
            "model_module_version": "1.4.0",
            "model_name": "DescriptionStyleModel",
            "state": {
              "description_width": ""
            }
          },
          "ae84ed08cc4a478c97d6e0c7a7fd0e21": {
            "model_module": "@jupyter-widgets/base",
            "model_module_version": "1.1.0",
            "model_name": "LayoutModel",
            "state": {}
          },
          "af7a6a5917d84e549650b65310ec805c": {
            "model_module": "@jupyter-widgets/controls",
            "model_module_version": "1.4.0",
            "model_name": "HBoxModel",
            "state": {
              "children": [
                "IPY_MODEL_7c6910f52103497aa2bf9980710ee5df",
                "IPY_MODEL_c68b79c285e9458eba674b4c52189c3c"
              ],
              "layout": "IPY_MODEL_a02fb47b4db846c88e9a824108646f1e"
            }
          },
          "af99faa98f974d2a8752efab6b13be21": {
            "model_module": "@jupyter-widgets/base",
            "model_module_version": "1.1.0",
            "model_name": "LayoutModel",
            "state": {
              "width": "900px"
            }
          },
          "b079540ad290430c9ef28aa589795a34": {
            "model_module": "@jupyter-widgets/output",
            "model_module_version": "1.0.0",
            "model_name": "OutputModel",
            "state": {
              "layout": "IPY_MODEL_0b65ead0d8834afdb4780c1c703db239",
              "outputs": [
                {
                  "data": {
                    "text/html": "<div>\n<style scoped>\n    .dataframe tbody tr th:only-of-type {\n        vertical-align: middle;\n    }\n\n    .dataframe tbody tr th {\n        vertical-align: top;\n    }\n\n    .dataframe thead th {\n        text-align: right;\n    }\n</style>\n<table border=\"1\" class=\"dataframe\">\n  <thead>\n    <tr style=\"text-align: right;\">\n      <th></th>\n      <th>TenantId</th>\n      <th>SourceSystem</th>\n      <th>TimeGenerated</th>\n      <th>ReceiptTime</th>\n      <th>DeviceVendor</th>\n      <th>DeviceProduct</th>\n      <th>DeviceEventClassID</th>\n      <th>LogSeverity</th>\n      <th>OriginalLogSeverity</th>\n      <th>DeviceAction</th>\n      <th>SimplifiedDeviceAction</th>\n      <th>Computer</th>\n      <th>CommunicationDirection</th>\n      <th>DeviceFacility</th>\n      <th>DestinationPort</th>\n      <th>DestinationIP</th>\n      <th>DeviceAddress</th>\n      <th>DeviceName</th>\n      <th>Message</th>\n      <th>Protocol</th>\n      <th>SourcePort</th>\n      <th>SourceIP</th>\n      <th>RemoteIP</th>\n      <th>RemotePort</th>\n      <th>MaliciousIP</th>\n      <th>...</th>\n      <th>DeviceCustomString4</th>\n      <th>DeviceCustomString4Label</th>\n      <th>DeviceCustomString5</th>\n      <th>DeviceCustomString5Label</th>\n      <th>DeviceCustomString6</th>\n      <th>DeviceCustomString6Label</th>\n      <th>DeviceCustomDate1</th>\n      <th>DeviceCustomDate1Label</th>\n      <th>DeviceCustomDate2</th>\n      <th>DeviceCustomDate2Label</th>\n      <th>FlexDate1</th>\n      <th>FlexDate1Label</th>\n      <th>FlexNumber1</th>\n      <th>FlexNumber1Label</th>\n      <th>FlexNumber2</th>\n      <th>FlexNumber2Label</th>\n      <th>FlexString1</th>\n      <th>FlexString1Label</th>\n      <th>FlexString2</th>\n      <th>FlexString2Label</th>\n      <th>AdditionalExtensions</th>\n      <th>StartTime</th>\n      <th>EndTime</th>\n      <th>Type</th>\n      <th>_ResourceId</th>\n    </tr>\n  </thead>\n  <tbody>\n  </tbody>\n</table>\n<p>0 rows × 152 columns</p>\n</div>",
                    "text/plain": "Empty DataFrame\nColumns: [TenantId, SourceSystem, TimeGenerated, ReceiptTime, DeviceVendor, DeviceProduct, DeviceEventClassID, LogSeverity, OriginalLogSeverity, DeviceAction, SimplifiedDeviceAction, Computer, CommunicationDirection, DeviceFacility, DestinationPort, DestinationIP, DeviceAddress, DeviceName, Message, Protocol, SourcePort, SourceIP, RemoteIP, RemotePort, MaliciousIP, ThreatSeverity, IndicatorThreatType, ThreatDescription, ThreatConfidence, ReportReferenceLink, MaliciousIPLongitude, MaliciousIPLatitude, MaliciousIPCountry, DeviceVersion, Activity, ApplicationProtocol, EventCount, DestinationDnsDomain, DestinationServiceName, DestinationTranslatedAddress, DestinationTranslatedPort, DeviceDnsDomain, DeviceExternalID, DeviceInboundInterface, DeviceNtDomain, DeviceOutboundInterface, DevicePayloadId, ProcessName, DeviceTranslatedAddress, DestinationHostName, DestinationMACAddress, DestinationNTDomain, DestinationProcessId, DestinationUserPrivileges, DestinationProcessName, DeviceTimeZone, DestinationUserID, DestinationUserName, DeviceMacAddress, ProcessID, ExternalID, FileCreateTime, FileHash, FileID, FileModificationTime, FilePath, FilePermission, FileType, FileName, FileSize, ReceivedBytes, OldFileCreateTime, OldFileHash, OldFileID, OldFileModificationTime, OldFileName, OldFilePath, OldFilePermission, OldFileSize, OldFileType, SentBytes, RequestURL, RequestClientApplication, RequestContext, RequestCookies, RequestMethod, SourceHostName, SourceMACAddress, SourceNTDomain, SourceDnsDomain, SourceServiceName, SourceTranslatedAddress, SourceTranslatedPort, SourceProcessId, SourceUserPrivileges, SourceProcessName, SourceUserID, SourceUserName, EventType, DeviceCustomIPv6Address1, ...]\nIndex: []\n\n[0 rows x 152 columns]"
                  },
                  "metadata": {},
                  "output_type": "display_data"
                }
              ]
            }
          },
          "b1045a66b5484610bc367a86bfb00bd4": {
            "model_module": "@jupyter-widgets/controls",
            "model_module_version": "1.4.0",
            "model_name": "ButtonModel",
            "state": {
              "description": "Set",
              "layout": "IPY_MODEL_83ea6519184f4d0ebba7b89d0ceb8459",
              "style": "IPY_MODEL_ac330c9f4bc44e3ab71a1e2d04d446ce"
            }
          },
          "b1af871ced264eb9880fd7237ecdd4b1": {
            "model_module": "@jupyter-widgets/base",
            "model_module_version": "1.1.0",
            "model_name": "LayoutModel",
            "state": {}
          },
          "b1fbcf9eb22845dba12286c372542ee4": {
            "model_module": "@jupyter-widgets/controls",
            "model_module_version": "1.4.0",
            "model_name": "DescriptionStyleModel",
            "state": {
              "description_width": ""
            }
          },
          "b26fcef457f54c438a6d6e3ed99b6a9a": {
            "model_module": "@jupyter-widgets/base",
            "model_module_version": "1.1.0",
            "model_name": "LayoutModel",
            "state": {}
          },
          "b32104ffc3844191a40ed1711d117519": {
            "model_module": "@jupyter-widgets/controls",
            "model_module_version": "1.4.0",
            "model_name": "DescriptionStyleModel",
            "state": {
              "description_width": "initial"
            }
          },
          "b4086b2f599143d4bedc8fc431fe8501": {
            "model_module": "@jupyter-widgets/controls",
            "model_module_version": "1.4.0",
            "model_name": "DescriptionStyleModel",
            "state": {
              "description_width": ""
            }
          },
          "b4ee715966cb40e5932ea8a778c53217": {
            "model_module": "@jupyter-widgets/base",
            "model_module_version": "1.1.0",
            "model_name": "LayoutModel",
            "state": {}
          },
          "b5dcd677fce64600b46add7acc5a70b9": {
            "model_module": "@jupyter-widgets/base",
            "model_module_version": "1.1.0",
            "model_name": "LayoutModel",
            "state": {}
          },
          "b6d69cfbb0b84636a5215c23027abe0c": {
            "model_module": "@jupyter-widgets/controls",
            "model_module_version": "1.4.0",
            "model_name": "ButtonModel",
            "state": {
              "description": "Set",
              "layout": "IPY_MODEL_06692a70aa3e4dc8ab4f3d67441c1599",
              "style": "IPY_MODEL_339b9d8d9c024ce69de22be0e3366f06"
            }
          },
          "b75bef7901a44799bf50c1a00cc55e02": {
            "model_module": "@jupyter-widgets/controls",
            "model_module_version": "1.4.0",
            "model_name": "CheckboxModel",
            "state": {
              "description": "Are you sure?",
              "disabled": false,
              "layout": "IPY_MODEL_36bd9e5785b04d36b95686797d0ddcc9",
              "style": "IPY_MODEL_6946636ff3974c8387d5c6920f62d540",
              "value": true
            }
          },
          "b87221355a1a4b6db7d300ad5b2fe291": {
            "model_module": "@jupyter-widgets/controls",
            "model_module_version": "1.4.0",
            "model_name": "DropdownModel",
            "state": {
              "_options_labels": [
                "UbuntuDevEnv"
              ],
              "description": "Select Computer to view raw logs",
              "index": 0,
              "layout": "IPY_MODEL_2368e20e25014efb93bec38fe87e7c63",
              "style": "IPY_MODEL_64f013f7007b4889878a1666c79c868d"
            }
          },
          "b91018177da3411fb0d0546643e54fc6": {
            "model_module": "@jupyter-widgets/base",
            "model_module_version": "1.1.0",
            "model_name": "LayoutModel",
            "state": {}
          },
          "b938f73ed9e740c7a3b7bca06317775e": {
            "model_module": "@jupyter-widgets/controls",
            "model_module_version": "1.4.0",
            "model_name": "VBoxModel",
            "state": {
              "_dom_classes": [
                "widget-interact"
              ],
              "children": [
                "IPY_MODEL_2d9bb7ef6315432d9389a7c484738be5",
                "IPY_MODEL_a1f612efc9c84c7b90378a28b78b966b"
              ],
              "layout": "IPY_MODEL_7b8c15c060ac4067852bded97b806ef8"
            }
          },
          "b99b41cd7cc14a45b650a555ce401495": {
            "model_module": "@jupyter-widgets/controls",
            "model_module_version": "1.4.0",
            "model_name": "TextModel",
            "state": {
              "description": "Please enter your the domain or URL to investigate:",
              "layout": "IPY_MODEL_853e7ca826e74e2f9254789ed173f2a4",
              "style": "IPY_MODEL_384b02d95b6d48a3874abfab524567ac",
              "value": "http://cui0d716336363935.firewallsupports.com/  "
            }
          },
          "ba1750033a2b4d65a9750d650423e9c0": {
            "model_module": "@jupyter-widgets/base",
            "model_module_version": "1.1.0",
            "model_name": "LayoutModel",
            "state": {}
          },
          "bb252bcf74524f41aec57089ec345aaa": {
            "model_module": "@jupyter-widgets/base",
            "model_module_version": "1.1.0",
            "model_name": "LayoutModel",
            "state": {}
          },
          "bb69940ffb0742aeb2b54eab68ba0bc3": {
            "model_module": "@jupyter-widgets/base",
            "model_module_version": "1.1.0",
            "model_name": "LayoutModel",
            "state": {
              "width": "50%"
            }
          },
          "bb951b6a325b4147bf7ec0e1ca8a53b4": {
            "model_module": "@jupyter-widgets/controls",
            "model_module_version": "1.4.0",
            "model_name": "HBoxModel",
            "state": {
              "children": [
                "IPY_MODEL_bf08157381c9435a83213c7bb1afd5ee",
                "IPY_MODEL_6e6cd2c0eeb2434b8949812d32c14c0d",
                "IPY_MODEL_ff757c430f1a48478e141261c26ec4ce"
              ],
              "layout": "IPY_MODEL_e223eefd802b4da39a0b24297fc6498b"
            }
          },
          "bbbe7e9f6bac4dea89183426fe877d46": {
            "model_module": "@jupyter-widgets/base",
            "model_module_version": "1.1.0",
            "model_name": "LayoutModel",
            "state": {}
          },
          "bbd3a686a3364c6aa1e2158a47fcc086": {
            "model_module": "@jupyter-widgets/base",
            "model_module_version": "1.1.0",
            "model_name": "LayoutModel",
            "state": {}
          },
          "bd87c053e8c7463484bdc13b81987321": {
            "model_module": "@jupyter-widgets/controls",
            "model_module_version": "1.4.0",
            "model_name": "TextModel",
            "state": {
              "description": "Please enter your the domain or URL to investigate:",
              "layout": "IPY_MODEL_5422f834ded34633900abc2b7cfd2ef3",
              "style": "IPY_MODEL_1e8de51c936e4e7ba805b152378ff61c",
              "value": "http://cui0d716336363935.firewallsupports.com/"
            }
          },
          "bdb3c1f6acb8497690404859872a9fc8": {
            "model_module": "@jupyter-widgets/controls",
            "model_module_version": "1.4.0",
            "model_name": "CheckboxModel",
            "state": {
              "description": "Save as environment var",
              "disabled": false,
              "layout": "IPY_MODEL_1c09fae5da99409289d881414e1e713b",
              "style": "IPY_MODEL_25f59c4c5fbb4e26a21a6a3aeac10e4b",
              "value": true
            }
          },
          "bee4833fca344f4cbe35e41718e0d0cd": {
            "model_module": "@jupyter-widgets/controls",
            "model_module_version": "1.4.0",
            "model_name": "DescriptionStyleModel",
            "state": {
              "description_width": ""
            }
          },
          "bef911e2dc53477cb19cd3ad81289d35": {
            "model_module": "@jupyter-widgets/base",
            "model_module_version": "1.1.0",
            "model_name": "LayoutModel",
            "state": {
              "width": "50%"
            }
          },
          "bf08157381c9435a83213c7bb1afd5ee": {
            "model_module": "@jupyter-widgets/controls",
            "model_module_version": "1.4.0",
            "model_name": "TextModel",
            "state": {
              "description": "Please enter your Log Analytics Workspace Id:",
              "layout": "IPY_MODEL_1b3a49036fa8460d8930592422ec2a7a",
              "style": "IPY_MODEL_8c7d1292f998490ca836c4f723a0ea8d",
              "value": "b1315f05-4a7a-45b4-811f-73e715f7c122"
            }
          },
          "bf44d246370640af843c751b4e5c2d96": {
            "model_module": "@jupyter-widgets/controls",
            "model_module_version": "1.4.0",
            "model_name": "ButtonModel",
            "state": {
              "description": "Set",
              "layout": "IPY_MODEL_9bcd0f12f42e44e1ad94a6ecc026aba4",
              "style": "IPY_MODEL_e18cd30bb6cc4599bed55bd6a564a781"
            }
          },
          "c009bd33deb04eddb2c74d65f818be6c": {
            "model_module": "@jupyter-widgets/base",
            "model_module_version": "1.1.0",
            "model_name": "LayoutModel",
            "state": {
              "width": "80%"
            }
          },
          "c03af09083b3412fa19fcba41f0134de": {
            "model_module": "@jupyter-widgets/controls",
            "model_module_version": "1.4.0",
            "model_name": "RadioButtonsModel",
            "state": {
              "_options_labels": [
                "URL Only",
                "URL and Domain"
              ],
              "index": 1,
              "layout": "IPY_MODEL_9f609570b5ab47a3ac1755eb6dafb4c4",
              "style": "IPY_MODEL_8443c10ae8e14eabbab17d7f64d21be7"
            }
          },
          "c08b6c331e63432899c0a6758e95093e": {
            "model_module": "@jupyter-widgets/controls",
            "model_module_version": "1.4.0",
            "model_name": "TextModel",
            "state": {
              "description": "Query end time (UTC) :  ",
              "layout": "IPY_MODEL_47e049f7e3d348359f4170da26d9283f",
              "style": "IPY_MODEL_d109dea8e4d14aa58ffaca3a34e66dd0",
              "value": "2019-10-12 23:35:26.340444"
            }
          },
          "c2edf068795548d1a5651d4a397718c0": {
            "model_module": "@jupyter-widgets/output",
            "model_module_version": "1.0.0",
            "model_name": "OutputModel",
            "state": {
              "layout": "IPY_MODEL_f286b57de0744653b445a6157b8fdf72",
              "outputs": [
                {
                  "data": {
                    "text/html": "<div>\n<style scoped>\n    .dataframe tbody tr th:only-of-type {\n        vertical-align: middle;\n    }\n\n    .dataframe tbody tr th {\n        vertical-align: top;\n    }\n\n    .dataframe thead th {\n        text-align: right;\n    }\n</style>\n<table border=\"1\" class=\"dataframe\">\n  <thead>\n    <tr style=\"text-align: right;\">\n      <th></th>\n      <th>TenantId</th>\n      <th>SourceSystem</th>\n      <th>TimeGenerated</th>\n      <th>ReceiptTime</th>\n      <th>DeviceVendor</th>\n      <th>DeviceProduct</th>\n      <th>DeviceEventClassID</th>\n      <th>LogSeverity</th>\n      <th>OriginalLogSeverity</th>\n      <th>DeviceAction</th>\n      <th>SimplifiedDeviceAction</th>\n      <th>Computer</th>\n      <th>CommunicationDirection</th>\n      <th>DeviceFacility</th>\n      <th>DestinationPort</th>\n      <th>DestinationIP</th>\n      <th>DeviceAddress</th>\n      <th>DeviceName</th>\n      <th>Message</th>\n      <th>Protocol</th>\n      <th>SourcePort</th>\n      <th>SourceIP</th>\n      <th>RemoteIP</th>\n      <th>RemotePort</th>\n      <th>MaliciousIP</th>\n      <th>...</th>\n      <th>DeviceCustomString4</th>\n      <th>DeviceCustomString4Label</th>\n      <th>DeviceCustomString5</th>\n      <th>DeviceCustomString5Label</th>\n      <th>DeviceCustomString6</th>\n      <th>DeviceCustomString6Label</th>\n      <th>DeviceCustomDate1</th>\n      <th>DeviceCustomDate1Label</th>\n      <th>DeviceCustomDate2</th>\n      <th>DeviceCustomDate2Label</th>\n      <th>FlexDate1</th>\n      <th>FlexDate1Label</th>\n      <th>FlexNumber1</th>\n      <th>FlexNumber1Label</th>\n      <th>FlexNumber2</th>\n      <th>FlexNumber2Label</th>\n      <th>FlexString1</th>\n      <th>FlexString1Label</th>\n      <th>FlexString2</th>\n      <th>FlexString2Label</th>\n      <th>AdditionalExtensions</th>\n      <th>StartTime</th>\n      <th>EndTime</th>\n      <th>Type</th>\n      <th>_ResourceId</th>\n    </tr>\n  </thead>\n  <tbody>\n  </tbody>\n</table>\n<p>0 rows × 152 columns</p>\n</div>",
                    "text/plain": "Empty DataFrame\nColumns: [TenantId, SourceSystem, TimeGenerated, ReceiptTime, DeviceVendor, DeviceProduct, DeviceEventClassID, LogSeverity, OriginalLogSeverity, DeviceAction, SimplifiedDeviceAction, Computer, CommunicationDirection, DeviceFacility, DestinationPort, DestinationIP, DeviceAddress, DeviceName, Message, Protocol, SourcePort, SourceIP, RemoteIP, RemotePort, MaliciousIP, ThreatSeverity, IndicatorThreatType, ThreatDescription, ThreatConfidence, ReportReferenceLink, MaliciousIPLongitude, MaliciousIPLatitude, MaliciousIPCountry, DeviceVersion, Activity, ApplicationProtocol, EventCount, DestinationDnsDomain, DestinationServiceName, DestinationTranslatedAddress, DestinationTranslatedPort, DeviceDnsDomain, DeviceExternalID, DeviceInboundInterface, DeviceNtDomain, DeviceOutboundInterface, DevicePayloadId, ProcessName, DeviceTranslatedAddress, DestinationHostName, DestinationMACAddress, DestinationNTDomain, DestinationProcessId, DestinationUserPrivileges, DestinationProcessName, DeviceTimeZone, DestinationUserID, DestinationUserName, DeviceMacAddress, ProcessID, ExternalID, FileCreateTime, FileHash, FileID, FileModificationTime, FilePath, FilePermission, FileType, FileName, FileSize, ReceivedBytes, OldFileCreateTime, OldFileHash, OldFileID, OldFileModificationTime, OldFileName, OldFilePath, OldFilePermission, OldFileSize, OldFileType, SentBytes, RequestURL, RequestClientApplication, RequestContext, RequestCookies, RequestMethod, SourceHostName, SourceMACAddress, SourceNTDomain, SourceDnsDomain, SourceServiceName, SourceTranslatedAddress, SourceTranslatedPort, SourceProcessId, SourceUserPrivileges, SourceProcessName, SourceUserID, SourceUserName, EventType, DeviceCustomIPv6Address1, ...]\nIndex: []\n\n[0 rows x 152 columns]"
                  },
                  "metadata": {},
                  "output_type": "display_data"
                }
              ]
            }
          },
          "c38a6d9e84ac45fbb32049e2d7aa0875": {
            "model_module": "@jupyter-widgets/base",
            "model_module_version": "1.1.0",
            "model_name": "LayoutModel",
            "state": {
              "width": "50%"
            }
          },
          "c3c1b6386dde48aa89ce2f3a4bbfc799": {
            "model_module": "@jupyter-widgets/base",
            "model_module_version": "1.1.0",
            "model_name": "LayoutModel",
            "state": {
              "width": "80%"
            }
          },
          "c472ec72d553452d88739458ee5ee37b": {
            "model_module": "@jupyter-widgets/controls",
            "model_module_version": "1.4.0",
            "model_name": "DescriptionStyleModel",
            "state": {
              "description_width": "initial"
            }
          },
          "c4ef12447c264dc183b6a89f95c9aec6": {
            "model_module": "@jupyter-widgets/base",
            "model_module_version": "1.1.0",
            "model_name": "LayoutModel",
            "state": {
              "width": "50%"
            }
          },
          "c628f72481694944a513c84eeac0375c": {
            "model_module": "@jupyter-widgets/controls",
            "model_module_version": "1.4.0",
            "model_name": "ButtonStyleModel",
            "state": {}
          },
          "c68b79c285e9458eba674b4c52189c3c": {
            "model_module": "@jupyter-widgets/controls",
            "model_module_version": "1.4.0",
            "model_name": "TextModel",
            "state": {
              "description": "Time (24hr)",
              "layout": "IPY_MODEL_08b24d13cdc141109a6aa77fa183c4f2",
              "style": "IPY_MODEL_3e564eaf0e164c36a84de531990ffb62",
              "value": "23:35:26.340444"
            }
          },
          "c89be724735044a6b02d6828055e6ffd": {
            "model_module": "@jupyter-widgets/controls",
            "model_module_version": "1.4.0",
            "model_name": "DescriptionStyleModel",
            "state": {
              "description_width": ""
            }
          },
          "ca470f39c28c435fb25f3fb451565340": {
            "model_module": "@jupyter-widgets/controls",
            "model_module_version": "1.4.0",
            "model_name": "TextModel",
            "state": {
              "description": "Please enter your Log Analytics Workspace Id:",
              "layout": "IPY_MODEL_c38a6d9e84ac45fbb32049e2d7aa0875",
              "style": "IPY_MODEL_462dfec125a447ff9cf0cd2f8accd01a"
            }
          },
          "cb076d8392094c24b32a01732b8563fc": {
            "model_module": "@jupyter-widgets/controls",
            "model_module_version": "1.4.0",
            "model_name": "TextModel",
            "state": {
              "description": "Time (24hr)",
              "layout": "IPY_MODEL_549b9e7e6ed04651a211491478b5fd7f",
              "style": "IPY_MODEL_bee4833fca344f4cbe35e41718e0d0cd",
              "value": "20:14:09.740091"
            }
          },
          "cc4dd984d0b54c5fba662116d8a3cfc2": {
            "model_module": "@jupyter-widgets/controls",
            "model_module_version": "1.4.0",
            "model_name": "RadioButtonsModel",
            "state": {
              "_options_labels": [
                "URL Only",
                "URL and Domain"
              ],
              "index": 1,
              "layout": "IPY_MODEL_d939376789c0498389e0075a08862c0a",
              "style": "IPY_MODEL_1c920722168d4989853bbd4b0f0d99b9"
            }
          },
          "ccccb09ef1a54e779340c5627bc9a0bf": {
            "model_module": "@jupyter-widgets/controls",
            "model_module_version": "1.4.0",
            "model_name": "CheckboxModel",
            "state": {
              "description": "Are you sure?",
              "disabled": false,
              "layout": "IPY_MODEL_6c6029b2d6f24ebd9ed15076fc3728e0",
              "style": "IPY_MODEL_1f7e4884e8784e2f9b892af41c15ea73",
              "value": true
            }
          },
          "ce533190b5814467835dadad362112da": {
            "model_module": "@jupyter-widgets/controls",
            "model_module_version": "1.4.0",
            "model_name": "DescriptionStyleModel",
            "state": {
              "description_width": ""
            }
          },
          "cf473e833ca44c5aab04c323cfd3435f": {
            "model_module": "@jupyter-widgets/base",
            "model_module_version": "1.1.0",
            "model_name": "LayoutModel",
            "state": {}
          },
          "cf70f082da884d3ca2410bd239f843fa": {
            "model_module": "@jupyter-widgets/controls",
            "model_module_version": "1.4.0",
            "model_name": "VBoxModel",
            "state": {
              "children": [
                "IPY_MODEL_f45c55beb7e945b9a387b5c7346a5f95",
                "IPY_MODEL_a12a3beeafc84db1badee8c5883ab323",
                "IPY_MODEL_a38d4b1c6c1546c799d578c18c9a374c"
              ],
              "layout": "IPY_MODEL_3501fa6848974dc7a49688cbbbad8142"
            }
          },
          "d109dea8e4d14aa58ffaca3a34e66dd0": {
            "model_module": "@jupyter-widgets/controls",
            "model_module_version": "1.4.0",
            "model_name": "DescriptionStyleModel",
            "state": {
              "description_width": "initial"
            }
          },
          "d152eb5a07c644f3b046daf6945950f3": {
            "model_module": "@jupyter-widgets/base",
            "model_module_version": "1.1.0",
            "model_name": "LayoutModel",
            "state": {
              "width": "10%"
            }
          },
          "d1ffc3d66ae3499ba812cc495eedce12": {
            "model_module": "@jupyter-widgets/controls",
            "model_module_version": "1.4.0",
            "model_name": "DescriptionStyleModel",
            "state": {
              "description_width": ""
            }
          },
          "d256cf10a82745c588ce074c035fe83d": {
            "model_module": "@jupyter-widgets/controls",
            "model_module_version": "1.4.0",
            "model_name": "VBoxModel",
            "state": {
              "_dom_classes": [
                "widget-interact"
              ],
              "children": [
                "IPY_MODEL_9b9000c0324e4ec689587cc65439123c",
                "IPY_MODEL_9d7169e173cb4cfe9cf36e3de8ffecd6"
              ],
              "layout": "IPY_MODEL_dde05c894ff242e58c1106751b949768"
            }
          },
          "d295b52afa924d73890953929c3d17ce": {
            "model_module": "@jupyter-widgets/base",
            "model_module_version": "1.1.0",
            "model_name": "LayoutModel",
            "state": {
              "width": "900px"
            }
          },
          "d2a95132ed644552985aae5968ff2f72": {
            "model_module": "@jupyter-widgets/controls",
            "model_module_version": "1.4.0",
            "model_name": "DescriptionStyleModel",
            "state": {
              "description_width": ""
            }
          },
          "d322f32c16104051a8e19749d64b42b5": {
            "model_module": "@jupyter-widgets/base",
            "model_module_version": "1.1.0",
            "model_name": "LayoutModel",
            "state": {
              "width": "50%"
            }
          },
          "d43fe818b9154be383fd95f008a870fe": {
            "model_module": "@jupyter-widgets/controls",
            "model_module_version": "1.4.0",
            "model_name": "TextModel",
            "state": {
              "description": "Query start time (UTC):",
              "layout": "IPY_MODEL_ffe7aabeeca44ae38aa0b3280a919bd7",
              "style": "IPY_MODEL_2047773c85c54ff192b8c589adca6fef",
              "value": "2019-10-08 20:14:09.740091"
            }
          },
          "d457e5da9adf42ac8a0259fbbbd9c9db": {
            "model_module": "@jupyter-widgets/base",
            "model_module_version": "1.1.0",
            "model_name": "LayoutModel",
            "state": {}
          },
          "d4fe724f6f57434eb4225f8c52826d47": {
            "model_module": "@jupyter-widgets/controls",
            "model_module_version": "1.4.0",
            "model_name": "ButtonModel",
            "state": {
              "description": "Set",
              "layout": "IPY_MODEL_021d8fc3337e41f48d1569d931686868",
              "style": "IPY_MODEL_88379c4d61194f4e931c691c7dab7a1c"
            }
          },
          "d565b63626b244bf9072f4734595a485": {
            "model_module": "@jupyter-widgets/controls",
            "model_module_version": "1.4.0",
            "model_name": "HTMLModel",
            "state": {
              "layout": "IPY_MODEL_99f3e916ac2549be946352a87e0413ee",
              "style": "IPY_MODEL_30eb694ae6c64ffe975d7a2ca7410d7e"
            }
          },
          "d595121cd7104e9f95d3f581551597e2": {
            "model_module": "@jupyter-widgets/controls",
            "model_module_version": "1.4.0",
            "model_name": "TextModel",
            "state": {
              "description": "Time (24hr)",
              "layout": "IPY_MODEL_bbbe7e9f6bac4dea89183426fe877d46",
              "style": "IPY_MODEL_d2a95132ed644552985aae5968ff2f72",
              "value": "23:43:06.241981"
            }
          },
          "d883409131394276b30abd1dc99f83b6": {
            "model_module": "@jupyter-widgets/controls",
            "model_module_version": "1.4.0",
            "model_name": "VBoxModel",
            "state": {
              "children": [
                "IPY_MODEL_01177c71d97e48ceb53f00dab0c56fad",
                "IPY_MODEL_e8b5d3e97d4c4b82a239ae03e26a010e",
                "IPY_MODEL_c08b6c331e63432899c0a6758e95093e"
              ],
              "layout": "IPY_MODEL_3589186699d1417d9276669a286e0efb"
            }
          },
          "d939376789c0498389e0075a08862c0a": {
            "model_module": "@jupyter-widgets/base",
            "model_module_version": "1.1.0",
            "model_name": "LayoutModel",
            "state": {}
          },
          "d9d9485e46d34c7a9e4eab2e5c972044": {
            "model_module": "@jupyter-widgets/controls",
            "model_module_version": "1.4.0",
            "model_name": "DescriptionStyleModel",
            "state": {
              "description_width": ""
            }
          },
          "dba1798692bd41a38a0a545bf7042083": {
            "model_module": "@jupyter-widgets/controls",
            "model_module_version": "1.4.0",
            "model_name": "DescriptionStyleModel",
            "state": {
              "description_width": ""
            }
          },
          "dde05c894ff242e58c1106751b949768": {
            "model_module": "@jupyter-widgets/base",
            "model_module_version": "1.1.0",
            "model_name": "LayoutModel",
            "state": {}
          },
          "dfa9b2213c3e4f18bf7ab163558dc6bb": {
            "model_module": "@jupyter-widgets/base",
            "model_module_version": "1.1.0",
            "model_name": "LayoutModel",
            "state": {}
          },
          "e18cd30bb6cc4599bed55bd6a564a781": {
            "model_module": "@jupyter-widgets/controls",
            "model_module_version": "1.4.0",
            "model_name": "ButtonStyleModel",
            "state": {}
          },
          "e223eefd802b4da39a0b24297fc6498b": {
            "model_module": "@jupyter-widgets/base",
            "model_module_version": "1.1.0",
            "model_name": "LayoutModel",
            "state": {}
          },
          "e2e9f8b8ec414ead9eb43665bc578af0": {
            "model_module": "@jupyter-widgets/base",
            "model_module_version": "1.1.0",
            "model_name": "LayoutModel",
            "state": {
              "width": "50%"
            }
          },
          "e3071a26b1844b4ca9e25fec53d687cb": {
            "model_module": "@jupyter-widgets/controls",
            "model_module_version": "1.4.0",
            "model_name": "DropdownModel",
            "state": {
              "_options_labels": [
                "UbuntuDevEnv"
              ],
              "description": "Select Computer to view raw logs",
              "index": 0,
              "layout": "IPY_MODEL_0075662841444acea028894ec896a45e",
              "style": "IPY_MODEL_2e6d591e06a1408dabce0cc09cb93412"
            }
          },
          "e51cbedfa78f492c8a775cec00b0521b": {
            "model_module": "@jupyter-widgets/controls",
            "model_module_version": "1.4.0",
            "model_name": "SliderStyleModel",
            "state": {
              "description_width": "initial"
            }
          },
          "e5393a3f3da84f0c89eb61ae2b9aca3f": {
            "model_module": "@jupyter-widgets/base",
            "model_module_version": "1.1.0",
            "model_name": "LayoutModel",
            "state": {}
          },
          "e546a872b9ee4b32b9d50012b605e7af": {
            "model_module": "@jupyter-widgets/base",
            "model_module_version": "1.1.0",
            "model_name": "LayoutModel",
            "state": {
              "width": "80%"
            }
          },
          "e561a1e6356a41cc812b95d1711ec6c3": {
            "model_module": "@jupyter-widgets/controls",
            "model_module_version": "1.4.0",
            "model_name": "CheckboxModel",
            "state": {
              "description": "Are you shure you want to proceed?",
              "disabled": false,
              "layout": "IPY_MODEL_bb252bcf74524f41aec57089ec345aaa",
              "style": "IPY_MODEL_9c120963126d458f83a5719cd59b0301",
              "value": false
            }
          },
          "e5adf41ba6124464846e551927ec2c91": {
            "model_module": "@jupyter-widgets/base",
            "model_module_version": "1.1.0",
            "model_name": "LayoutModel",
            "state": {
              "width": "50%"
            }
          },
          "e6a89656a33d45cebeb928938870ccd1": {
            "model_module": "@jupyter-widgets/controls",
            "model_module_version": "1.4.0",
            "model_name": "HTMLModel",
            "state": {
              "layout": "IPY_MODEL_ecb8edbe41414c50a6b2117819749ece",
              "style": "IPY_MODEL_75f73fa61e1c45fb8be2eb229c6a03fb",
              "value": "<h4>Set query time boundaries</h4>"
            }
          },
          "e78a150da14147cbbcb12cab1a26527f": {
            "model_module": "@jupyter-widgets/base",
            "model_module_version": "1.1.0",
            "model_name": "LayoutModel",
            "state": {
              "width": "10%"
            }
          },
          "e831f81445304fdebb8088d34787100c": {
            "model_module": "@jupyter-widgets/base",
            "model_module_version": "1.1.0",
            "model_name": "LayoutModel",
            "state": {
              "width": "10%"
            }
          },
          "e856c9816b9a46f396963f414234e424": {
            "model_module": "@jupyter-widgets/controls",
            "model_module_version": "1.4.0",
            "model_name": "DatePickerModel",
            "state": {
              "description": "Origin Date",
              "disabled": false,
              "layout": "IPY_MODEL_4a52d4cbde544a7cb962ff154c4a5d0d",
              "style": "IPY_MODEL_43bb50ebf90f48fd96c5dcbefbc6e7ed",
              "value": {
                "date": 10,
                "month": 9,
                "year": 2019
              }
            }
          },
          "e8b5d3e97d4c4b82a239ae03e26a010e": {
            "model_module": "@jupyter-widgets/controls",
            "model_module_version": "1.4.0",
            "model_name": "TextModel",
            "state": {
              "description": "Query start time (UTC):",
              "layout": "IPY_MODEL_0a249ade20ac4ea193d58ba16fdd98f9",
              "style": "IPY_MODEL_f7e4003b76c5458494191d96c3e00fc7",
              "value": "2019-10-08 23:35:26.340444"
            }
          },
          "ea40b146eb354510aaf4c13ee8f4f552": {
            "model_module": "@jupyter-widgets/controls",
            "model_module_version": "1.4.0",
            "model_name": "DatePickerModel",
            "state": {
              "description": "Origin Date",
              "disabled": false,
              "layout": "IPY_MODEL_15332ead78f247e3b0a1919973d8f285",
              "style": "IPY_MODEL_4f0c9c4faff34d86aa96dffe8a105875",
              "value": {
                "date": 11,
                "month": 9,
                "year": 2019
              }
            }
          },
          "ea5c2877598b46fd9563c8999e67808c": {
            "model_module": "@jupyter-widgets/controls",
            "model_module_version": "1.4.0",
            "model_name": "DescriptionStyleModel",
            "state": {
              "description_width": ""
            }
          },
          "eaba12e23e8a4d3d974cd7a30f201b2b": {
            "model_module": "@jupyter-widgets/controls",
            "model_module_version": "1.4.0",
            "model_name": "IntRangeSliderModel",
            "state": {
              "_model_name": "IntRangeSliderModel",
              "_view_name": "IntRangeSliderView",
              "description": "Time Range (day):",
              "layout": "IPY_MODEL_15a9645ce8c1417b8c41527aafee21f5",
              "max": 1,
              "min": -20,
              "style": "IPY_MODEL_8a9d24ceea094f96933d9545865683d2",
              "value": [
                -16,
                1
              ]
            }
          },
          "eb94e638bfd94c27a888e584495f0a7a": {
            "model_module": "@jupyter-widgets/controls",
            "model_module_version": "1.4.0",
            "model_name": "DescriptionStyleModel",
            "state": {
              "description_width": ""
            }
          },
          "ec61c26087834d0b93a3461b7058b1c0": {
            "model_module": "@jupyter-widgets/controls",
            "model_module_version": "1.4.0",
            "model_name": "TextModel",
            "state": {
              "description": "Query start time (UTC):",
              "layout": "IPY_MODEL_bef911e2dc53477cb19cd3ad81289d35",
              "style": "IPY_MODEL_31cdfb23546048fba2b72b5c74c8187d",
              "value": "2019-10-08 21:01:25.928597"
            }
          },
          "ecb8edbe41414c50a6b2117819749ece": {
            "model_module": "@jupyter-widgets/base",
            "model_module_version": "1.1.0",
            "model_name": "LayoutModel",
            "state": {}
          },
          "ee36492827f7435f9cbb9c05fefa71cb": {
            "model_module": "@jupyter-widgets/base",
            "model_module_version": "1.1.0",
            "model_name": "LayoutModel",
            "state": {}
          },
          "ef54a64ae25e4a9c938fac320e2bb73e": {
            "model_module": "@jupyter-widgets/base",
            "model_module_version": "1.1.0",
            "model_name": "LayoutModel",
            "state": {}
          },
          "ef6211ca6af54579b082d3e94b0dc8bf": {
            "model_module": "@jupyter-widgets/base",
            "model_module_version": "1.1.0",
            "model_name": "LayoutModel",
            "state": {}
          },
          "ef68299922c44799bb2b45f3a6485542": {
            "model_module": "@jupyter-widgets/controls",
            "model_module_version": "1.4.0",
            "model_name": "DescriptionStyleModel",
            "state": {
              "description_width": ""
            }
          },
          "f0b0fa6fe91a42ac9de1cd3d0e39d734": {
            "model_module": "@jupyter-widgets/base",
            "model_module_version": "1.1.0",
            "model_name": "LayoutModel",
            "state": {}
          },
          "f19f2c4c0a0140bc854e68ed05fba7b9": {
            "model_module": "@jupyter-widgets/base",
            "model_module_version": "1.1.0",
            "model_name": "LayoutModel",
            "state": {}
          },
          "f1ec2aa428124350a9bca27b7b81f517": {
            "model_module": "@jupyter-widgets/base",
            "model_module_version": "1.1.0",
            "model_name": "LayoutModel",
            "state": {}
          },
          "f1fb2555545d4135b6400fe3e2a367a8": {
            "model_module": "@jupyter-widgets/controls",
            "model_module_version": "1.4.0",
            "model_name": "DescriptionStyleModel",
            "state": {
              "description_width": ""
            }
          },
          "f27b78a35cf34bb99b00f0256a257300": {
            "model_module": "@jupyter-widgets/controls",
            "model_module_version": "1.4.0",
            "model_name": "HBoxModel",
            "state": {
              "children": [
                "IPY_MODEL_732e753d002843a88d3d5d9cb581f845",
                "IPY_MODEL_7aa1ac985acd4e2d8f6f27b878b15cf7",
                "IPY_MODEL_47f527be27d94872bfbf41c84773d333"
              ],
              "layout": "IPY_MODEL_6f4eb4d9a44342b99d5bcf3d6eb9d9cd"
            }
          },
          "f286b57de0744653b445a6157b8fdf72": {
            "model_module": "@jupyter-widgets/base",
            "model_module_version": "1.1.0",
            "model_name": "LayoutModel",
            "state": {}
          },
          "f2e26c34c9384c88b0fef5332b8b9982": {
            "model_module": "@jupyter-widgets/base",
            "model_module_version": "1.1.0",
            "model_name": "LayoutModel",
            "state": {}
          },
          "f3864e805868478ba4991fbd5c12e742": {
            "model_module": "@jupyter-widgets/base",
            "model_module_version": "1.1.0",
            "model_name": "LayoutModel",
            "state": {
              "width": "50%"
            }
          },
          "f45c55beb7e945b9a387b5c7346a5f95": {
            "model_module": "@jupyter-widgets/controls",
            "model_module_version": "1.4.0",
            "model_name": "IntRangeSliderModel",
            "state": {
              "_model_name": "IntRangeSliderModel",
              "_view_name": "IntRangeSliderView",
              "description": "Time Range (day):",
              "layout": "IPY_MODEL_c3c1b6386dde48aa89ce2f3a4bbfc799",
              "max": 1,
              "min": -20,
              "style": "IPY_MODEL_99ce33a8f958489fa7eb46bd688fd191",
              "value": [
                -3,
                1
              ]
            }
          },
          "f4dcde98ad714cff9daa4b2a71123fbd": {
            "model_module": "@jupyter-widgets/base",
            "model_module_version": "1.1.0",
            "model_name": "LayoutModel",
            "state": {}
          },
          "f50a8fd83709405cbf7108a7a341bf36": {
            "model_module": "@jupyter-widgets/controls",
            "model_module_version": "1.4.0",
            "model_name": "HTMLModel",
            "state": {
              "layout": "IPY_MODEL_f86a2c2d1ffe4cbfb90f72c233fd769a",
              "style": "IPY_MODEL_a815e1a520054b2d8b3af0aaa6c3602e"
            }
          },
          "f51542fd1af94d74a909fd891143589c": {
            "model_module": "@jupyter-widgets/controls",
            "model_module_version": "1.4.0",
            "model_name": "DescriptionStyleModel",
            "state": {
              "description_width": "initial"
            }
          },
          "f535951dd2c146c3aa92cf614226c998": {
            "model_module": "@jupyter-widgets/controls",
            "model_module_version": "1.4.0",
            "model_name": "TextModel",
            "state": {
              "description": "Time (24hr)",
              "layout": "IPY_MODEL_b91018177da3411fb0d0546643e54fc6",
              "style": "IPY_MODEL_ce533190b5814467835dadad362112da",
              "value": "21:01:25.928597"
            }
          },
          "f5a1b01038a340eea155edc715caa6cf": {
            "model_module": "@jupyter-widgets/base",
            "model_module_version": "1.1.0",
            "model_name": "LayoutModel",
            "state": {}
          },
          "f60881b65b6e40c58081691aeb3329b6": {
            "model_module": "@jupyter-widgets/controls",
            "model_module_version": "1.4.0",
            "model_name": "CheckboxModel",
            "state": {
              "description": "Save as environment var",
              "disabled": false,
              "layout": "IPY_MODEL_86d5ebcb1eb041ef9e4fd8be8ee7399d",
              "style": "IPY_MODEL_b1fbcf9eb22845dba12286c372542ee4",
              "value": true
            }
          },
          "f61e19ffc6374a6d80419c0b03ce1472": {
            "model_module": "@jupyter-widgets/controls",
            "model_module_version": "1.4.0",
            "model_name": "DescriptionStyleModel",
            "state": {
              "description_width": ""
            }
          },
          "f61f3dbd6015481086d8ae1eceba1159": {
            "model_module": "@jupyter-widgets/base",
            "model_module_version": "1.1.0",
            "model_name": "LayoutModel",
            "state": {}
          },
          "f684bef680124c33b53ed5d51d1b47bd": {
            "model_module": "@jupyter-widgets/controls",
            "model_module_version": "1.4.0",
            "model_name": "TextModel",
            "state": {
              "description": "Query end time (UTC) :  ",
              "layout": "IPY_MODEL_e5adf41ba6124464846e551927ec2c91",
              "style": "IPY_MODEL_7c0f7a3018ff4fcc89ca90148243945a",
              "value": "2019-10-12 21:01:25.928597"
            }
          },
          "f7e4003b76c5458494191d96c3e00fc7": {
            "model_module": "@jupyter-widgets/controls",
            "model_module_version": "1.4.0",
            "model_name": "DescriptionStyleModel",
            "state": {
              "description_width": "initial"
            }
          },
          "f86a2c2d1ffe4cbfb90f72c233fd769a": {
            "model_module": "@jupyter-widgets/base",
            "model_module_version": "1.1.0",
            "model_name": "LayoutModel",
            "state": {}
          },
          "f9f89334e4be4d619c8d4fa3b0ffe21d": {
            "model_module": "@jupyter-widgets/controls",
            "model_module_version": "1.4.0",
            "model_name": "CheckboxModel",
            "state": {
              "description": "Save as environment var",
              "disabled": false,
              "layout": "IPY_MODEL_cf473e833ca44c5aab04c323cfd3435f",
              "style": "IPY_MODEL_0c72f20013cb44f7a96948f01e75d0b9",
              "value": true
            }
          },
          "fa07dd15b00d42e0afae3e7bdd0df939": {
            "model_module": "@jupyter-widgets/controls",
            "model_module_version": "1.4.0",
            "model_name": "ButtonStyleModel",
            "state": {}
          },
          "fc390f0810ed4a87a8f637ea440c6e4f": {
            "model_module": "@jupyter-widgets/base",
            "model_module_version": "1.1.0",
            "model_name": "LayoutModel",
            "state": {}
          },
          "fddbad560ba649d8bdaeb5475de11fce": {
            "model_module": "@jupyter-widgets/controls",
            "model_module_version": "1.4.0",
            "model_name": "ButtonModel",
            "state": {
              "description": "Set",
              "layout": "IPY_MODEL_e78a150da14147cbbcb12cab1a26527f",
              "style": "IPY_MODEL_17487891898f45089e64005742975aa3"
            }
          },
          "ff10e5e5ca7a4288bd1f581ea1f257bb": {
            "model_module": "@jupyter-widgets/controls",
            "model_module_version": "1.4.0",
            "model_name": "DescriptionStyleModel",
            "state": {
              "description_width": "initial"
            }
          },
          "ff757c430f1a48478e141261c26ec4ce": {
            "model_module": "@jupyter-widgets/controls",
            "model_module_version": "1.4.0",
            "model_name": "CheckboxModel",
            "state": {
              "description": "Save as environment var",
              "disabled": false,
              "layout": "IPY_MODEL_9a7183bd94a24564ad669d60efa82701",
              "style": "IPY_MODEL_d1ffc3d66ae3499ba812cc495eedce12",
              "value": true
            }
          },
          "ff83a2d96a19461f9d43a1c0e5afd656": {
            "model_module": "@jupyter-widgets/controls",
            "model_module_version": "1.4.0",
            "model_name": "HBoxModel",
            "state": {
              "children": [
                "IPY_MODEL_0901c605b8e04e62a2d388761bd44301",
                "IPY_MODEL_a4b244c5f61f4016b5173af8eb0ae684",
                "IPY_MODEL_2c20615c6d174b5387309ca0f4a7dfe8"
              ],
              "layout": "IPY_MODEL_f5a1b01038a340eea155edc715caa6cf"
            }
          },
          "ffe7aabeeca44ae38aa0b3280a919bd7": {
            "model_module": "@jupyter-widgets/base",
            "model_module_version": "1.1.0",
            "model_name": "LayoutModel",
            "state": {
              "width": "50%"
            }
          }
        },
        "version_major": 2,
        "version_minor": 0
      }
    }
  },
  "nbformat": 4,
  "nbformat_minor": 2
}