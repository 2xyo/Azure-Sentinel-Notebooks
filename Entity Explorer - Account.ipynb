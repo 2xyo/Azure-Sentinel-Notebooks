{
 "cells": [
  {
   "cell_type": "markdown",
   "metadata": {},
   "source": [
    "# Entity Explorer - Account\n",
    " <details>\n",
    "     <summary>&nbsp;<u>Details...</u></summary>\n",
    "\n",
    " **Notebook Version:** 1.0<br>\n",
    " **Python Version:** Python 3.6 (including Python 3.6 - AzureML)<br>\n",
    " **Required Packages**: kqlmagic, msticpy, pandas, numpy, matplotlib, networkx, ipywidgets, ipython, dnspython, ipwhois, folium, maxminddb_geolite2<br>\n",
    " **Platforms Supported**:\n",
    " - Azure Notebooks Free Compute\n",
    " - Azure Notebooks DSVM\n",
    " - OS Independent\n",
    "\n",
    " **Data Sources Required**:\n",
    " - Log Analytics - SecurityAlert, SecurityEvent, HuntingBookmark, Syslog, AAD SigninLogs, AzureActivity, OfficeActivity, ThreatIndicator\n",
    " - (Optional) - VirusTotal, AlienVault OTX, IBM XForce, Open Page Rank, (all require accounts and API keys)\n",
    " </details>\n",
    "\n",
    " Brings together a series of queries and visualizations to help you determine the security state of an Account. The account can be a Windows or Linux account or an Azure Active Directory/Office 365 account.\n",
    "\n",
    "This notebook uses [*MSTIC Notebooklets*](https://msticnb.readthedocs.io/en/latest/) for most of its operations. \n",
    "These are collections of logic taken from notebooks and packaged in an easy-to-use form.\n",
    "The Notebooklet contains sections for reviewing activity for Host accounts\n",
    "(Linux and Windows) and for Azure Active Directory accounts. Depending on the\n",
    "account type, it will automatically select the correct queries and\n",
    "other operations to drill down into the data."
   ]
  },
  {
   "cell_type": "markdown",
   "metadata": {
    "toc": true
   },
   "source": [
    "<!DOCTYPE html>\n",
    "<html>\n",
    "  <head>\n",
    "  </head>\n",
    "  <body>\n",
    "    <h1>Contents<span class=\"tocSkip\"></span></h1>\n",
    "    <div class=\"toc\">\n",
    "      <ul class=\"toc-item\">\n",
    "        <li><span><a href=\"#Hunting-Hypothesis\">Hunting Hypothesis</a></span></li>\n",
    "        <li><span><a href=\"#Notebook-initialization\">Notebook initialization</a></span></li>\n",
    "        <li><span><a href=\"#Enter-account-name-and-query-time\">Enter account\n",
    "              name and query time</a></span></li>\n",
    "        <li><span><a href=\"#Run-the-main-account_summary-function\">Run the main\n",
    "              account_summary function</a></span></li>\n",
    "        <li><span><a href=\"#Retrieve-additional-data-for-the-selected-account\">Retrieve\n",
    "              additional data for the selected account</a></span></li>\n",
    "        <li><span><a href=\"#Browse-alerts\">Browse alerts</a></span></li>\n",
    "        <li><span><a href=\"#Browse-other-event-data\">Browse other event data</a></span></li>\n",
    "        <li><span><a href=\"#Additional-properties-and-methods-of-the-result-object\">\n",
    "              Additional properties and methods of the result object<br>\n",
    "            </a></span></li>\n",
    "            <ul class=\"toc-item\">\n",
    "            <li><span><a href=\"#IP-Summary-table\">IP Summary table</a></span></li>\n",
    "            <li><span><a href=\"#IP-Geo-Map\">IP Geo-Map</a></span></li>\n",
    "            </ul>\n",
    "        <li><span><a href=\"#Viewing-the-Result-class\">Viewing the Result class</a></span></li>\n",
    "        <li><span><a href=\"#Use-other-notebooklets-and-pivots-functions-to-drill-down-on-other-entities\">\n",
    "              Use other notebooklets and pivots functions to drill down on other\n",
    "              entities</a></span></li>\n",
    "        <li><span><a href=\"#More-information\">More information</a></span></li>\n",
    "      </ul>\n",
    "    </div>\n",
    "    \n",
    "  </body>\n",
    "</html>\n"
   ]
  },
  {
   "cell_type": "markdown",
   "metadata": {},
   "source": [
    "## Hunting Hypothesis\n",
    "Our broad initial hunting hypothesis is that a we have received account name entity which is suspected to be compromised and is being used malicious manner in internal networks, we will need to hunt from a range of different positions to validate or disprove this hypothesis."
   ]
  },
  {
   "cell_type": "markdown",
   "metadata": {},
   "source": [
    "---\n",
    "# Notebook initialization\n",
    "This should complete without errors. If you encounter errors or warnings look at the following notebooks:\n",
    "\n",
    "- <a href=\"https://github.com/Azure/Azure-Sentinel-Notebooks/blob/master/A%20Getting%20Started%20Guide%20For%20Azure%20Sentinel%20ML%20Notebooks.ipynb\">Getting Started Notebook</a>\n",
    "- [TroubleShootingNotebooks](https://github.com/Azure/Azure-Sentinel-Notebooks/blob/master/TroubleShootingNotebooks.ipynb)\n",
    "- [ConfiguringNotebookEnvironment](https://github.com/Azure/Azure-Sentinel-Notebooks/blob/master/ConfiguringNotebookEnvironment.ipynb)\n",
    "\n",
    "<details>\n",
    "    <summary>&nbsp;<u>Details...</u></summary>\n",
    "The next cell:\n",
    "- Checks for the correct Python version\n",
    "- Checks versions and optionally installs required packages\n",
    "- Imports the required packages into the notebook\n",
    "- Sets a number of configuration options.\n",
    "\n",
    "If you are running in the Azure Sentinel Notebooks environment (Azure Notebooks or Azure ML) you can run live versions of these notebooks:\n",
    "- [Getting Started](./A Getting Started Guide For Azure Sentinel ML Notebooks.ipynb)\n",
    "- [Run TroubleShootingNotebooks](./TroubleShootingNotebooks.ipynb)\n",
    "- [Run ConfiguringNotebookEnvironment](./ConfiguringNotebookEnvironment.ipynb)\n",
    "\n",
    "You may also need to do some additional configuration to successfully use functions such as Threat Intelligence service lookup and Geo IP lookup. \n",
    "There are more details about this in the `ConfiguringNotebookEnvironment` notebook and in these documents:\n",
    "- [msticpy configuration](https://msticpy.readthedocs.io/en/latest/getting_started/msticpyconfig.html)\n",
    "- [Threat intelligence provider configuration](https://msticpy.readthedocs.io/en/latest/data_acquisition/TIProviders.html#configuration-file)\n",
    "</details>"
   ]
  },
  {
   "cell_type": "code",
   "execution_count": 25,
   "metadata": {},
   "outputs": [
    {
     "data": {
      "text/html": [
       "<h3>Starting Notebook setup...</h3>"
      ],
      "text/plain": [
       "<IPython.core.display.HTML object>"
      ]
     },
     "metadata": {},
     "output_type": "display_data"
    },
    {
     "data": {
      "text/html": [
       "Checking Python kernel version..."
      ],
      "text/plain": [
       "<IPython.core.display.HTML object>"
      ]
     },
     "metadata": {},
     "output_type": "display_data"
    },
    {
     "data": {
      "text/html": [
       "Python kernel version 3.7.9 OK"
      ],
      "text/plain": [
       "<IPython.core.display.HTML object>"
      ]
     },
     "metadata": {},
     "output_type": "display_data"
    },
    {
     "data": {
      "text/html": [
       "Checking msticpy version..."
      ],
      "text/plain": [
       "<IPython.core.display.HTML object>"
      ]
     },
     "metadata": {},
     "output_type": "display_data"
    },
    {
     "data": {
      "text/html": [
       "msticpy version 1.0.0 OK"
      ],
      "text/plain": [
       "<IPython.core.display.HTML object>"
      ]
     },
     "metadata": {},
     "output_type": "display_data"
    },
    {
     "name": "stdout",
     "output_type": "stream",
     "text": [
      "msticpy version installed: 1.0.0rc4 latest published: 0.9.0\n",
      "Latest version is installed.\n",
      "Processing imports....\n",
      "All packages are already installed\n",
      "Checking configuration....\n",
      "No errors found.\n",
      "No warnings found.\n",
      "Exception while checking configuration:\n",
      "cannot unpack non-iterable NoneType object\n",
      "Setting notebook options....\n"
     ]
    },
    {
     "data": {
      "text/html": [
       "<h3>Notebook setup complete</h3>"
      ],
      "text/plain": [
       "<IPython.core.display.HTML object>"
      ]
     },
     "metadata": {},
     "output_type": "display_data"
    }
   ],
   "source": [
    "from pathlib import Path\n",
    "from IPython.display import display, HTML\n",
    "\n",
    "REQ_PYTHON_VER=(3, 6)\n",
    "REQ_MSTICPY_VER=(1, 0, 0)\n",
    "\n",
    "display(HTML(\"<h3>Starting Notebook setup...</h3>\"))\n",
    "if Path(\"./utils/nb_check.py\").is_file():\n",
    "    from utils.nb_check import check_versions\n",
    "    check_versions(REQ_PYTHON_VER, REQ_MSTICPY_VER)\n",
    "\n",
    "# You may need to manually install msticpy with\n",
    "# !pip install msticpy[azsentinel]\n",
    "\n",
    "from msticpy.nbtools import nbinit\n",
    "nbinit.init_notebook(\n",
    "    namespace=globals(),\n",
    "    additional_packages=[\"msticnb>=0.2\"],\n",
    ");\n"
   ]
  },
  {
   "cell_type": "markdown",
   "metadata": {},
   "source": [
    "### Get Workspace and Authenticate\n",
    "<details>\n",
    "    <summary>&nbsp;<u>Details...</u></summary>\n",
    "If you are using user/device authentication, run the following cell. \n",
    "- Click the 'Copy code to clipboard and authenticate' button.<br>\n",
    "- This will pop up an Azure Active Directory authentication dialog (in a new tab or browser window). The device code will have been copied to the clipboard. <br>\n",
    "- Select the text box and paste (Ctrl-V/Cmd-V) the copied value. <br>\n",
    "- You should then be redirected to a user authentication page where you should authenticate with a user account that has permission to query your Log Analytics workspace.<br>\n",
    "\n",
    "Use the following syntax if you are authenticating using an Azure Active Directory AppId and Secret:\n",
    "```\n",
    "%kql loganalytics://tenant(aad_tenant).workspace(WORKSPACE_ID).clientid(client_id).clientsecret(client_secret)\n",
    "```\n",
    "instead of\n",
    "```\n",
    "%kql loganalytics://code().workspace(WORKSPACE_ID)\n",
    "```\n",
    "\n",
    "Note: you may occasionally see a JavaScript warning displayed at the end of the authentication - you can safely ignore this.<br>\n",
    "On successful authentication you should see a ```popup schema``` button.\n",
    "To find your Workspace Id go to [Log Analytics](https://ms.portal.azure.com/#blade/HubsExtension/Resources/resourceType/Microsoft.OperationalInsights%2Fworkspaces). Look at the workspace properties to find the ID.\n",
    "</details>"
   ]
  },
  {
   "cell_type": "code",
   "execution_count": 26,
   "metadata": {},
   "outputs": [],
   "source": [
    "# Authentication\n",
    "# ws_config = WorkspaceConfig()\n",
    "qry_prov = QueryProvider(data_environment=\"LogAnalytics\")\n",
    "qry_prov.connect(WorkspaceConfig(\"CyberSecuritySoc\"))"
   ]
  },
  {
   "cell_type": "markdown",
   "metadata": {},
   "source": [
    "#### Authentication and Configuration problems?\n",
    "\n",
    "If you are having problems, expand the details section below\n",
    "<br>\n",
    "<details>\n",
    "    <summary>Click for details about configuring your authentication parameters</summary>\n",
    "    \n",
    "    \n",
    "The notebook is expecting your Azure Sentinel Tenant ID and Workspace ID to be configured in one of the following places:\n",
    "- `config.json` in the current folder\n",
    "- `msticpyconfig.yaml` in the current folder or location specified by `MSTICPYCONFIG` environment variable.\n",
    "    \n",
    "For help with setting up your `config.json` file (if this hasn't been done automatically) see the [`ConfiguringNotebookEnvironment`](https://github.com/Azure/Azure-Sentinel-Notebooks/blob/master/ConfiguringNotebookEnvironment.ipynb) notebook in the root folder of your Azure-Sentinel-Notebooks project. This shows you how to obtain your Workspace and Subscription IDs from the Azure Sentinel Portal. You can use the SubscriptionID to find your Tenant ID). To view the current `config.json` run the following in a code cell.\n",
    "\n",
    "```%pfile config.json```\n",
    "\n",
    "For help with setting up your `msticpyconfig.yaml` see the [Setup](#Setup) section at the end of this notebook and the [ConfigureNotebookEnvironment notebook](https://github.com/Azure/Azure-Sentinel-Notebooks/blob/master/ConfiguringNotebookEnvironment.ipynb)\n",
    "</details>"
   ]
  },
  {
   "cell_type": "markdown",
   "metadata": {},
   "source": [
    "## Import notebooklets and initialize pivot functions\n",
    "\n",
    "These are needed for many of the notebook operations"
   ]
  },
  {
   "cell_type": "code",
   "execution_count": 27,
   "metadata": {},
   "outputs": [
    {
     "name": "stdout",
     "output_type": "stream",
     "text": [
      "Using Open PageRank. See https://www.domcop.com/openpagerank/what-is-openpagerank\n",
      "Using Open PageRank. See https://www.domcop.com/openpagerank/what-is-openpagerank\n",
      "Notebooklets: Loaded providers: AzureSentinel, geolitelookup, tilookup\n"
     ]
    }
   ],
   "source": [
    "import msticnb as nb\n",
    "pivot = Pivot(globals())\n",
    "nb.init(query_provider=qry_prov)"
   ]
  },
  {
   "cell_type": "markdown",
   "metadata": {},
   "source": [
    "# Enter account name and query time window\n",
    "Type the account name that you want to search for and the time bounds over which you want to search. \n",
    "\n",
    "You can specify the account as:\n",
    "\n",
    "- a simple user name (e.g. `alice`)\n",
    "- a user principal name (`alice@contoso.com`)\n",
    "- a qualified windows user name `mydomain\\alice`\n",
    "\n",
    "In the second two cases the domain qualifier will be stripped off before the search. The search is not case sensitive and will match full substrings. E.g. `bob` will match `domain\\bob` and `bob@contoso.com` but not `bobg` or `bo`."
   ]
  },
  {
   "cell_type": "code",
   "execution_count": 28,
   "metadata": {},
   "outputs": [
    {
     "data": {
      "text/html": [
       "<p style=''><hr></p>"
      ],
      "text/plain": [
       "<IPython.core.display.HTML object>"
      ]
     },
     "metadata": {},
     "output_type": "display_data"
    },
    {
     "data": {
      "application/vnd.jupyter.widget-view+json": {
       "model_id": "95185b2e07c647d6885dbf3e40910280",
       "version_major": 2,
       "version_minor": 0
      },
      "text/plain": [
       "Text(value='seb', description='Enter the Account name to search for:', layout=Layout(width='50%'), style=Descr…"
      ]
     },
     "metadata": {},
     "output_type": "display_data"
    },
    {
     "data": {
      "text/html": [
       "<p style=''><hr></p>"
      ],
      "text/plain": [
       "<IPython.core.display.HTML object>"
      ]
     },
     "metadata": {},
     "output_type": "display_data"
    },
    {
     "data": {
      "application/vnd.jupyter.widget-view+json": {
       "model_id": "302a08a1bc6a497587f63fc9be37ae84",
       "version_major": 2,
       "version_minor": 0
      },
      "text/plain": [
       "VBox(children=(HTML(value='<h4>Set time range for pivot functions.</h4>'), HBox(children=(DatePicker(value=dat…"
      ]
     },
     "metadata": {},
     "output_type": "display_data"
    }
   ],
   "source": [
    "account_txt = nbwidgets.GetText(prompt='Enter the Account name to search for:')\n",
    "md(\"<hr>\")\n",
    "display(account_txt)\n",
    "md(\"<hr>\")\n",
    "pivot.edit_query_time()"
   ]
  },
  {
   "cell_type": "markdown",
   "metadata": {},
   "source": [
    "---\n",
    "\n",
    "# Run the main *account_summary* function\n",
    "\n",
    "If more than one matching account name is found, all matches will be shown. \n",
    "\n",
    "You can select each one to view more details about the account.\n",
    "\n",
    "> Note: this is run as a pivot function from the Account entity.\n",
    "> You can also run it directly as a Notebooklet function by \n",
    "> creating and instance of `nb.nblt.azsent.account.AccountSummary()`\n",
    "> and executing the `run()` method\n",
    "\n",
    "```python\n",
    ">>> acct_nb = nb.nblt.azsent.account.AccountSummary()\n",
    ">>> acct_result = acct_nb.run(pivot.timespan, \"account_name\")  # subtitute the \"account_name\" with the name to search\n",
    "```"
   ]
  },
  {
   "cell_type": "code",
   "execution_count": 29,
   "metadata": {},
   "outputs": [
    {
     "data": {
      "text/html": [
       "<h1>Account Summary</h1>"
      ],
      "text/plain": [
       "<IPython.core.display.HTML object>"
      ]
     },
     "metadata": {},
     "output_type": "display_data"
    },
    {
     "data": {
      "text/html": [
       "This function searches Active Directory, Azure, Office365, Windows and Linux logs for matching accounts.<br>If any matches are found you can choose an account to explore, viewing the times of recent event types, any alerts and hunting bookmarks that relate to the account name.<br>You can also retrieve recent details of the logon activity or cloud activity for the account.<br>For further investigation use the host_logons_summary notebooklet for Windows and Linux host logons."
      ],
      "text/plain": [
       "<IPython.core.display.HTML object>"
      ]
     },
     "metadata": {},
     "output_type": "display_data"
    },
    {
     "data": {
      "text/html": [
       "<h3>Querying for account matches.</h3>"
      ],
      "text/plain": [
       "<IPython.core.display.HTML object>"
      ]
     },
     "metadata": {},
     "output_type": "display_data"
    },
    {
     "data": {
      "text/html": [
       " Searching through Active Directory, Windows and Linux events. This may take a few moments to complete. "
      ],
      "text/plain": [
       "<IPython.core.display.HTML object>"
      ]
     },
     "metadata": {},
     "output_type": "display_data"
    },
    {
     "data": {
      "text/html": [
       "<p style=''>Getting data from AADSignin...</p>"
      ],
      "text/plain": [
       "<IPython.core.display.HTML object>"
      ]
     },
     "metadata": {},
     "output_type": "display_data"
    },
    {
     "data": {
      "text/html": [
       "<p style=''>  1 records in AAD</p>"
      ],
      "text/plain": [
       "<IPython.core.display.HTML object>"
      ]
     },
     "metadata": {},
     "output_type": "display_data"
    },
    {
     "data": {
      "text/html": [
       "<p style=''>Getting data from Office365Activity...</p>"
      ],
      "text/plain": [
       "<IPython.core.display.HTML object>"
      ]
     },
     "metadata": {},
     "output_type": "display_data"
    },
    {
     "data": {
      "text/html": [
       "<p style=''>  1 records in Office Activity</p>"
      ],
      "text/plain": [
       "<IPython.core.display.HTML object>"
      ]
     },
     "metadata": {},
     "output_type": "display_data"
    },
    {
     "data": {
      "text/html": [
       "<p style=''>Getting data from Windows Logon activity...</p>"
      ],
      "text/plain": [
       "<IPython.core.display.HTML object>"
      ]
     },
     "metadata": {},
     "output_type": "display_data"
    },
    {
     "data": {
      "text/html": [
       "<p style=''>  0 records in Windows logon data</p>"
      ],
      "text/plain": [
       "<IPython.core.display.HTML object>"
      ]
     },
     "metadata": {},
     "output_type": "display_data"
    },
    {
     "data": {
      "text/html": [
       "<p style=''>Getting data from Linux logon activity...</p>"
      ],
      "text/plain": [
       "<IPython.core.display.HTML object>"
      ]
     },
     "metadata": {},
     "output_type": "display_data"
    },
    {
     "data": {
      "text/html": [
       "<p style=''>  0 records in Linux logon data</p>"
      ],
      "text/plain": [
       "<IPython.core.display.HTML object>"
      ]
     },
     "metadata": {},
     "output_type": "display_data"
    },
    {
     "data": {
      "text/html": [
       "<p style=''>Found 2 total records.</p>"
      ],
      "text/plain": [
       "<IPython.core.display.HTML object>"
      ]
     },
     "metadata": {},
     "output_type": "display_data"
    },
    {
     "data": {
      "text/html": [
       "<p style=''><hr></p>"
      ],
      "text/plain": [
       "<IPython.core.display.HTML object>"
      ]
     },
     "metadata": {},
     "output_type": "display_data"
    },
    {
     "data": {
      "text/html": [
       "<p style='font-size: 130%'>Multiple matching accounts found, select one to see details.</p>"
      ],
      "text/plain": [
       "<IPython.core.display.HTML object>"
      ]
     },
     "metadata": {},
     "output_type": "display_data"
    },
    {
     "data": {
      "application/vnd.jupyter.widget-view+json": {
       "model_id": "db2414cd3bad49a8a5cd5e4f7da10cac",
       "version_major": 2,
       "version_minor": 0
      },
      "text/plain": [
       "VBox(children=(Text(value='', description='Filter:', style=DescriptionStyle(description_width='initial')), Sel…"
      ]
     },
     "metadata": {},
     "output_type": "display_data"
    },
    {
     "data": {
      "text/html": [
       "<hr>"
      ],
      "text/plain": [
       "<IPython.core.display.HTML object>"
      ]
     },
     "metadata": {},
     "output_type": "display_data"
    },
    {
     "data": {
      "text/html": [
       "<p style=''>Getting data from Alerts...</p>"
      ],
      "text/plain": [
       "<IPython.core.display.HTML object>"
      ]
     },
     "metadata": {},
     "output_type": "display_data"
    },
    {
     "data": {
      "text/html": [
       "\n",
       "    <div class=\"bk-root\">\n",
       "        <a href=\"https://bokeh.org\" target=\"_blank\" class=\"bk-logo bk-logo-small bk-logo-notebook\"></a>\n",
       "        <span id=\"7497\">Loading BokehJS ...</span>\n",
       "    </div>"
      ]
     },
     "metadata": {},
     "output_type": "display_data"
    },
    {
     "data": {
      "application/javascript": [
       "\n",
       "(function(root) {\n",
       "  function now() {\n",
       "    return new Date();\n",
       "  }\n",
       "\n",
       "  var force = true;\n",
       "\n",
       "  if (typeof root._bokeh_onload_callbacks === \"undefined\" || force === true) {\n",
       "    root._bokeh_onload_callbacks = [];\n",
       "    root._bokeh_is_loading = undefined;\n",
       "  }\n",
       "\n",
       "  var JS_MIME_TYPE = 'application/javascript';\n",
       "  var HTML_MIME_TYPE = 'text/html';\n",
       "  var EXEC_MIME_TYPE = 'application/vnd.bokehjs_exec.v0+json';\n",
       "  var CLASS_NAME = 'output_bokeh rendered_html';\n",
       "\n",
       "  /**\n",
       "   * Render data to the DOM node\n",
       "   */\n",
       "  function render(props, node) {\n",
       "    var script = document.createElement(\"script\");\n",
       "    node.appendChild(script);\n",
       "  }\n",
       "\n",
       "  /**\n",
       "   * Handle when an output is cleared or removed\n",
       "   */\n",
       "  function handleClearOutput(event, handle) {\n",
       "    var cell = handle.cell;\n",
       "\n",
       "    var id = cell.output_area._bokeh_element_id;\n",
       "    var server_id = cell.output_area._bokeh_server_id;\n",
       "    // Clean up Bokeh references\n",
       "    if (id != null && id in Bokeh.index) {\n",
       "      Bokeh.index[id].model.document.clear();\n",
       "      delete Bokeh.index[id];\n",
       "    }\n",
       "\n",
       "    if (server_id !== undefined) {\n",
       "      // Clean up Bokeh references\n",
       "      var cmd = \"from bokeh.io.state import curstate; print(curstate().uuid_to_server['\" + server_id + \"'].get_sessions()[0].document.roots[0]._id)\";\n",
       "      cell.notebook.kernel.execute(cmd, {\n",
       "        iopub: {\n",
       "          output: function(msg) {\n",
       "            var id = msg.content.text.trim();\n",
       "            if (id in Bokeh.index) {\n",
       "              Bokeh.index[id].model.document.clear();\n",
       "              delete Bokeh.index[id];\n",
       "            }\n",
       "          }\n",
       "        }\n",
       "      });\n",
       "      // Destroy server and session\n",
       "      var cmd = \"import bokeh.io.notebook as ion; ion.destroy_server('\" + server_id + \"')\";\n",
       "      cell.notebook.kernel.execute(cmd);\n",
       "    }\n",
       "  }\n",
       "\n",
       "  /**\n",
       "   * Handle when a new output is added\n",
       "   */\n",
       "  function handleAddOutput(event, handle) {\n",
       "    var output_area = handle.output_area;\n",
       "    var output = handle.output;\n",
       "\n",
       "    // limit handleAddOutput to display_data with EXEC_MIME_TYPE content only\n",
       "    if ((output.output_type != \"display_data\") || (!output.data.hasOwnProperty(EXEC_MIME_TYPE))) {\n",
       "      return\n",
       "    }\n",
       "\n",
       "    var toinsert = output_area.element.find(\".\" + CLASS_NAME.split(' ')[0]);\n",
       "\n",
       "    if (output.metadata[EXEC_MIME_TYPE][\"id\"] !== undefined) {\n",
       "      toinsert[toinsert.length - 1].firstChild.textContent = output.data[JS_MIME_TYPE];\n",
       "      // store reference to embed id on output_area\n",
       "      output_area._bokeh_element_id = output.metadata[EXEC_MIME_TYPE][\"id\"];\n",
       "    }\n",
       "    if (output.metadata[EXEC_MIME_TYPE][\"server_id\"] !== undefined) {\n",
       "      var bk_div = document.createElement(\"div\");\n",
       "      bk_div.innerHTML = output.data[HTML_MIME_TYPE];\n",
       "      var script_attrs = bk_div.children[0].attributes;\n",
       "      for (var i = 0; i < script_attrs.length; i++) {\n",
       "        toinsert[toinsert.length - 1].firstChild.setAttribute(script_attrs[i].name, script_attrs[i].value);\n",
       "        toinsert[toinsert.length - 1].firstChild.textContent = bk_div.children[0].textContent\n",
       "      }\n",
       "      // store reference to server id on output_area\n",
       "      output_area._bokeh_server_id = output.metadata[EXEC_MIME_TYPE][\"server_id\"];\n",
       "    }\n",
       "  }\n",
       "\n",
       "  function register_renderer(events, OutputArea) {\n",
       "\n",
       "    function append_mime(data, metadata, element) {\n",
       "      // create a DOM node to render to\n",
       "      var toinsert = this.create_output_subarea(\n",
       "        metadata,\n",
       "        CLASS_NAME,\n",
       "        EXEC_MIME_TYPE\n",
       "      );\n",
       "      this.keyboard_manager.register_events(toinsert);\n",
       "      // Render to node\n",
       "      var props = {data: data, metadata: metadata[EXEC_MIME_TYPE]};\n",
       "      render(props, toinsert[toinsert.length - 1]);\n",
       "      element.append(toinsert);\n",
       "      return toinsert\n",
       "    }\n",
       "\n",
       "    /* Handle when an output is cleared or removed */\n",
       "    events.on('clear_output.CodeCell', handleClearOutput);\n",
       "    events.on('delete.Cell', handleClearOutput);\n",
       "\n",
       "    /* Handle when a new output is added */\n",
       "    events.on('output_added.OutputArea', handleAddOutput);\n",
       "\n",
       "    /**\n",
       "     * Register the mime type and append_mime function with output_area\n",
       "     */\n",
       "    OutputArea.prototype.register_mime_type(EXEC_MIME_TYPE, append_mime, {\n",
       "      /* Is output safe? */\n",
       "      safe: true,\n",
       "      /* Index of renderer in `output_area.display_order` */\n",
       "      index: 0\n",
       "    });\n",
       "  }\n",
       "\n",
       "  // register the mime type if in Jupyter Notebook environment and previously unregistered\n",
       "  if (root.Jupyter !== undefined) {\n",
       "    var events = require('base/js/events');\n",
       "    var OutputArea = require('notebook/js/outputarea').OutputArea;\n",
       "\n",
       "    if (OutputArea.prototype.mime_types().indexOf(EXEC_MIME_TYPE) == -1) {\n",
       "      register_renderer(events, OutputArea);\n",
       "    }\n",
       "  }\n",
       "\n",
       "  \n",
       "  if (typeof (root._bokeh_timeout) === \"undefined\" || force === true) {\n",
       "    root._bokeh_timeout = Date.now() + 5000;\n",
       "    root._bokeh_failed_load = false;\n",
       "  }\n",
       "\n",
       "  var NB_LOAD_WARNING = {'data': {'text/html':\n",
       "     \"<div style='background-color: #fdd'>\\n\"+\n",
       "     \"<p>\\n\"+\n",
       "     \"BokehJS does not appear to have successfully loaded. If loading BokehJS from CDN, this \\n\"+\n",
       "     \"may be due to a slow or bad network connection. Possible fixes:\\n\"+\n",
       "     \"</p>\\n\"+\n",
       "     \"<ul>\\n\"+\n",
       "     \"<li>re-rerun `output_notebook()` to attempt to load from CDN again, or</li>\\n\"+\n",
       "     \"<li>use INLINE resources instead, as so:</li>\\n\"+\n",
       "     \"</ul>\\n\"+\n",
       "     \"<code>\\n\"+\n",
       "     \"from bokeh.resources import INLINE\\n\"+\n",
       "     \"output_notebook(resources=INLINE)\\n\"+\n",
       "     \"</code>\\n\"+\n",
       "     \"</div>\"}};\n",
       "\n",
       "  function display_loaded() {\n",
       "    var el = document.getElementById(\"7497\");\n",
       "    if (el != null) {\n",
       "      el.textContent = \"BokehJS is loading...\";\n",
       "    }\n",
       "    if (root.Bokeh !== undefined) {\n",
       "      if (el != null) {\n",
       "        el.textContent = \"BokehJS \" + root.Bokeh.version + \" successfully loaded.\";\n",
       "      }\n",
       "    } else if (Date.now() < root._bokeh_timeout) {\n",
       "      setTimeout(display_loaded, 100)\n",
       "    }\n",
       "  }\n",
       "\n",
       "\n",
       "  function run_callbacks() {\n",
       "    try {\n",
       "      root._bokeh_onload_callbacks.forEach(function(callback) {\n",
       "        if (callback != null)\n",
       "          callback();\n",
       "      });\n",
       "    } finally {\n",
       "      delete root._bokeh_onload_callbacks\n",
       "    }\n",
       "    console.debug(\"Bokeh: all callbacks have finished\");\n",
       "  }\n",
       "\n",
       "  function load_libs(css_urls, js_urls, callback) {\n",
       "    if (css_urls == null) css_urls = [];\n",
       "    if (js_urls == null) js_urls = [];\n",
       "\n",
       "    root._bokeh_onload_callbacks.push(callback);\n",
       "    if (root._bokeh_is_loading > 0) {\n",
       "      console.debug(\"Bokeh: BokehJS is being loaded, scheduling callback at\", now());\n",
       "      return null;\n",
       "    }\n",
       "    if (js_urls == null || js_urls.length === 0) {\n",
       "      run_callbacks();\n",
       "      return null;\n",
       "    }\n",
       "    console.debug(\"Bokeh: BokehJS not loaded, scheduling load and callback at\", now());\n",
       "    root._bokeh_is_loading = css_urls.length + js_urls.length;\n",
       "\n",
       "    function on_load() {\n",
       "      root._bokeh_is_loading--;\n",
       "      if (root._bokeh_is_loading === 0) {\n",
       "        console.debug(\"Bokeh: all BokehJS libraries/stylesheets loaded\");\n",
       "        run_callbacks()\n",
       "      }\n",
       "    }\n",
       "\n",
       "    function on_error() {\n",
       "      console.error(\"failed to load \" + url);\n",
       "    }\n",
       "\n",
       "    for (var i = 0; i < css_urls.length; i++) {\n",
       "      var url = css_urls[i];\n",
       "      const element = document.createElement(\"link\");\n",
       "      element.onload = on_load;\n",
       "      element.onerror = on_error;\n",
       "      element.rel = \"stylesheet\";\n",
       "      element.type = \"text/css\";\n",
       "      element.href = url;\n",
       "      console.debug(\"Bokeh: injecting link tag for BokehJS stylesheet: \", url);\n",
       "      document.body.appendChild(element);\n",
       "    }\n",
       "\n",
       "    const hashes = {\"https://cdn.bokeh.org/bokeh/release/bokeh-2.2.2.min.js\": \"JayppSWSRBsibIZqI8S4vAb1oFgLL0uhNvSn8cmArlOvYOwfFjYeyY5UWwJ+K0SU\", \"https://cdn.bokeh.org/bokeh/release/bokeh-widgets-2.2.2.min.js\": \"G0/Tv/Yy/zEPNsnW0Qif/FOsGesd+KIrKg/QLmvQmReuUW9qmSP7mAmr0VpiUNr3\", \"https://cdn.bokeh.org/bokeh/release/bokeh-tables-2.2.2.min.js\": \"VLYHEbLQDk5G1+/4ALU0myoJPMEUsngWry2fzYorFOUmarjGRPLLURaeK/on6JqX\"};\n",
       "\n",
       "    for (var i = 0; i < js_urls.length; i++) {\n",
       "      var url = js_urls[i];\n",
       "      var element = document.createElement('script');\n",
       "      element.onload = on_load;\n",
       "      element.onerror = on_error;\n",
       "      element.async = false;\n",
       "      element.src = url;\n",
       "      if (url in hashes) {\n",
       "        element.crossOrigin = \"anonymous\";\n",
       "        element.integrity = \"sha384-\" + hashes[url];\n",
       "      }\n",
       "      console.debug(\"Bokeh: injecting script tag for BokehJS library: \", url);\n",
       "      document.head.appendChild(element);\n",
       "    }\n",
       "  };\n",
       "\n",
       "  function inject_raw_css(css) {\n",
       "    const element = document.createElement(\"style\");\n",
       "    element.appendChild(document.createTextNode(css));\n",
       "    document.body.appendChild(element);\n",
       "  }\n",
       "\n",
       "  \n",
       "  var js_urls = [\"https://cdn.bokeh.org/bokeh/release/bokeh-2.2.2.min.js\", \"https://cdn.bokeh.org/bokeh/release/bokeh-widgets-2.2.2.min.js\", \"https://cdn.bokeh.org/bokeh/release/bokeh-tables-2.2.2.min.js\"];\n",
       "  var css_urls = [];\n",
       "  \n",
       "\n",
       "  var inline_js = [\n",
       "    function(Bokeh) {\n",
       "      Bokeh.set_log_level(\"info\");\n",
       "    },\n",
       "    function(Bokeh) {\n",
       "    \n",
       "    \n",
       "    }\n",
       "  ];\n",
       "\n",
       "  function run_inline_js() {\n",
       "    \n",
       "    if (root.Bokeh !== undefined || force === true) {\n",
       "      \n",
       "    for (var i = 0; i < inline_js.length; i++) {\n",
       "      inline_js[i].call(root, root.Bokeh);\n",
       "    }\n",
       "    if (force === true) {\n",
       "        display_loaded();\n",
       "      }} else if (Date.now() < root._bokeh_timeout) {\n",
       "      setTimeout(run_inline_js, 100);\n",
       "    } else if (!root._bokeh_failed_load) {\n",
       "      console.log(\"Bokeh: BokehJS failed to load within specified timeout.\");\n",
       "      root._bokeh_failed_load = true;\n",
       "    } else if (force !== true) {\n",
       "      var cell = $(document.getElementById(\"7497\")).parents('.cell').data().cell;\n",
       "      cell.output_area.append_execute_result(NB_LOAD_WARNING)\n",
       "    }\n",
       "\n",
       "  }\n",
       "\n",
       "  if (root._bokeh_is_loading === 0) {\n",
       "    console.debug(\"Bokeh: BokehJS loaded, going straight to plotting\");\n",
       "    run_inline_js();\n",
       "  } else {\n",
       "    load_libs(css_urls, js_urls, function() {\n",
       "      console.debug(\"Bokeh: BokehJS plotting callback run at\", now());\n",
       "      run_inline_js();\n",
       "    });\n",
       "  }\n",
       "}(window));"
      ],
      "application/vnd.bokehjs_load.v0+json": "\n(function(root) {\n  function now() {\n    return new Date();\n  }\n\n  var force = true;\n\n  if (typeof root._bokeh_onload_callbacks === \"undefined\" || force === true) {\n    root._bokeh_onload_callbacks = [];\n    root._bokeh_is_loading = undefined;\n  }\n\n  \n\n  \n  if (typeof (root._bokeh_timeout) === \"undefined\" || force === true) {\n    root._bokeh_timeout = Date.now() + 5000;\n    root._bokeh_failed_load = false;\n  }\n\n  var NB_LOAD_WARNING = {'data': {'text/html':\n     \"<div style='background-color: #fdd'>\\n\"+\n     \"<p>\\n\"+\n     \"BokehJS does not appear to have successfully loaded. If loading BokehJS from CDN, this \\n\"+\n     \"may be due to a slow or bad network connection. Possible fixes:\\n\"+\n     \"</p>\\n\"+\n     \"<ul>\\n\"+\n     \"<li>re-rerun `output_notebook()` to attempt to load from CDN again, or</li>\\n\"+\n     \"<li>use INLINE resources instead, as so:</li>\\n\"+\n     \"</ul>\\n\"+\n     \"<code>\\n\"+\n     \"from bokeh.resources import INLINE\\n\"+\n     \"output_notebook(resources=INLINE)\\n\"+\n     \"</code>\\n\"+\n     \"</div>\"}};\n\n  function display_loaded() {\n    var el = document.getElementById(\"7497\");\n    if (el != null) {\n      el.textContent = \"BokehJS is loading...\";\n    }\n    if (root.Bokeh !== undefined) {\n      if (el != null) {\n        el.textContent = \"BokehJS \" + root.Bokeh.version + \" successfully loaded.\";\n      }\n    } else if (Date.now() < root._bokeh_timeout) {\n      setTimeout(display_loaded, 100)\n    }\n  }\n\n\n  function run_callbacks() {\n    try {\n      root._bokeh_onload_callbacks.forEach(function(callback) {\n        if (callback != null)\n          callback();\n      });\n    } finally {\n      delete root._bokeh_onload_callbacks\n    }\n    console.debug(\"Bokeh: all callbacks have finished\");\n  }\n\n  function load_libs(css_urls, js_urls, callback) {\n    if (css_urls == null) css_urls = [];\n    if (js_urls == null) js_urls = [];\n\n    root._bokeh_onload_callbacks.push(callback);\n    if (root._bokeh_is_loading > 0) {\n      console.debug(\"Bokeh: BokehJS is being loaded, scheduling callback at\", now());\n      return null;\n    }\n    if (js_urls == null || js_urls.length === 0) {\n      run_callbacks();\n      return null;\n    }\n    console.debug(\"Bokeh: BokehJS not loaded, scheduling load and callback at\", now());\n    root._bokeh_is_loading = css_urls.length + js_urls.length;\n\n    function on_load() {\n      root._bokeh_is_loading--;\n      if (root._bokeh_is_loading === 0) {\n        console.debug(\"Bokeh: all BokehJS libraries/stylesheets loaded\");\n        run_callbacks()\n      }\n    }\n\n    function on_error() {\n      console.error(\"failed to load \" + url);\n    }\n\n    for (var i = 0; i < css_urls.length; i++) {\n      var url = css_urls[i];\n      const element = document.createElement(\"link\");\n      element.onload = on_load;\n      element.onerror = on_error;\n      element.rel = \"stylesheet\";\n      element.type = \"text/css\";\n      element.href = url;\n      console.debug(\"Bokeh: injecting link tag for BokehJS stylesheet: \", url);\n      document.body.appendChild(element);\n    }\n\n    const hashes = {\"https://cdn.bokeh.org/bokeh/release/bokeh-2.2.2.min.js\": \"JayppSWSRBsibIZqI8S4vAb1oFgLL0uhNvSn8cmArlOvYOwfFjYeyY5UWwJ+K0SU\", \"https://cdn.bokeh.org/bokeh/release/bokeh-widgets-2.2.2.min.js\": \"G0/Tv/Yy/zEPNsnW0Qif/FOsGesd+KIrKg/QLmvQmReuUW9qmSP7mAmr0VpiUNr3\", \"https://cdn.bokeh.org/bokeh/release/bokeh-tables-2.2.2.min.js\": \"VLYHEbLQDk5G1+/4ALU0myoJPMEUsngWry2fzYorFOUmarjGRPLLURaeK/on6JqX\"};\n\n    for (var i = 0; i < js_urls.length; i++) {\n      var url = js_urls[i];\n      var element = document.createElement('script');\n      element.onload = on_load;\n      element.onerror = on_error;\n      element.async = false;\n      element.src = url;\n      if (url in hashes) {\n        element.crossOrigin = \"anonymous\";\n        element.integrity = \"sha384-\" + hashes[url];\n      }\n      console.debug(\"Bokeh: injecting script tag for BokehJS library: \", url);\n      document.head.appendChild(element);\n    }\n  };\n\n  function inject_raw_css(css) {\n    const element = document.createElement(\"style\");\n    element.appendChild(document.createTextNode(css));\n    document.body.appendChild(element);\n  }\n\n  \n  var js_urls = [\"https://cdn.bokeh.org/bokeh/release/bokeh-2.2.2.min.js\", \"https://cdn.bokeh.org/bokeh/release/bokeh-widgets-2.2.2.min.js\", \"https://cdn.bokeh.org/bokeh/release/bokeh-tables-2.2.2.min.js\"];\n  var css_urls = [];\n  \n\n  var inline_js = [\n    function(Bokeh) {\n      Bokeh.set_log_level(\"info\");\n    },\n    function(Bokeh) {\n    \n    \n    }\n  ];\n\n  function run_inline_js() {\n    \n    if (root.Bokeh !== undefined || force === true) {\n      \n    for (var i = 0; i < inline_js.length; i++) {\n      inline_js[i].call(root, root.Bokeh);\n    }\n    if (force === true) {\n        display_loaded();\n      }} else if (Date.now() < root._bokeh_timeout) {\n      setTimeout(run_inline_js, 100);\n    } else if (!root._bokeh_failed_load) {\n      console.log(\"Bokeh: BokehJS failed to load within specified timeout.\");\n      root._bokeh_failed_load = true;\n    } else if (force !== true) {\n      var cell = $(document.getElementById(\"7497\")).parents('.cell').data().cell;\n      cell.output_area.append_execute_result(NB_LOAD_WARNING)\n    }\n\n  }\n\n  if (root._bokeh_is_loading === 0) {\n    console.debug(\"Bokeh: BokehJS loaded, going straight to plotting\");\n    run_inline_js();\n  } else {\n    load_libs(css_urls, js_urls, function() {\n      console.debug(\"Bokeh: BokehJS plotting callback run at\", now());\n      run_inline_js();\n    });\n  }\n}(window));"
     },
     "metadata": {},
     "output_type": "display_data"
    },
    {
     "data": {
      "text/html": [
       "<p style=''>Getting data from Bookmarks...</p>"
      ],
      "text/plain": [
       "<IPython.core.display.HTML object>"
      ]
     },
     "metadata": {},
     "output_type": "display_data"
    },
    {
     "data": {
      "text/html": [
       "<h3>Account Entity</h3>"
      ],
      "text/plain": [
       "<IPython.core.display.HTML object>"
      ]
     },
     "metadata": {},
     "output_type": "display_data"
    },
    {
     "data": {
      "text/html": [
       "<h3>account</h3>{&nbsp;'AadTenantId':&nbsp;'4b2462a4-bbee-495a-a0e1-f23ae524cc9c',<br>&nbsp;&nbsp;'AadUserId':&nbsp;'bdb72692-2275-412b-8af0-ea21c2ebd174',<br>&nbsp;&nbsp;'AdditionalData':&nbsp;{},<br>&nbsp;&nbsp;'DeviceDetail':&nbsp;{'browser':&nbsp;'Edge&nbsp;89.0.774',&nbsp;'deviceId':&nbsp;'',&nbsp;'operatingSystem':&nbsp;'Windows&nbsp;10'},<br>&nbsp;&nbsp;'DisplayName':&nbsp;'Admin',<br>&nbsp;&nbsp;'IpAddress':&nbsp;{&nbsp;'AdditionalData':&nbsp;{},<br>&nbsp;&nbsp;&nbsp;&nbsp;&nbsp;&nbsp;&nbsp;&nbsp;&nbsp;&nbsp;&nbsp;&nbsp;&nbsp;&nbsp;&nbsp;&nbsp;&nbsp;'Address':&nbsp;'109.88.218.99',<br>&nbsp;&nbsp;&nbsp;&nbsp;&nbsp;&nbsp;&nbsp;&nbsp;&nbsp;&nbsp;&nbsp;&nbsp;&nbsp;&nbsp;&nbsp;&nbsp;&nbsp;'FirstSeen':&nbsp;Timestamp('2021-04-01&nbsp;13:59:12.319000+0000',&nbsp;tz='UTC'),<br>&nbsp;&nbsp;&nbsp;&nbsp;&nbsp;&nbsp;&nbsp;&nbsp;&nbsp;&nbsp;&nbsp;&nbsp;&nbsp;&nbsp;&nbsp;&nbsp;&nbsp;'LastSeen':&nbsp;Timestamp('2021-04-01&nbsp;13:59:12.319000+0000',&nbsp;tz='UTC'),<br>&nbsp;&nbsp;&nbsp;&nbsp;&nbsp;&nbsp;&nbsp;&nbsp;&nbsp;&nbsp;&nbsp;&nbsp;&nbsp;&nbsp;&nbsp;&nbsp;&nbsp;'Location':&nbsp;{&nbsp;'AdditionalData':&nbsp;{},<br>&nbsp;&nbsp;&nbsp;&nbsp;&nbsp;&nbsp;&nbsp;&nbsp;&nbsp;&nbsp;&nbsp;&nbsp;&nbsp;&nbsp;&nbsp;&nbsp;&nbsp;&nbsp;&nbsp;&nbsp;&nbsp;&nbsp;&nbsp;&nbsp;&nbsp;&nbsp;&nbsp;&nbsp;&nbsp;&nbsp;&nbsp;'City':&nbsp;'Sprimont',<br>&nbsp;&nbsp;&nbsp;&nbsp;&nbsp;&nbsp;&nbsp;&nbsp;&nbsp;&nbsp;&nbsp;&nbsp;&nbsp;&nbsp;&nbsp;&nbsp;&nbsp;&nbsp;&nbsp;&nbsp;&nbsp;&nbsp;&nbsp;&nbsp;&nbsp;&nbsp;&nbsp;&nbsp;&nbsp;&nbsp;&nbsp;'CountryCode':&nbsp;'BE',<br>&nbsp;&nbsp;&nbsp;&nbsp;&nbsp;&nbsp;&nbsp;&nbsp;&nbsp;&nbsp;&nbsp;&nbsp;&nbsp;&nbsp;&nbsp;&nbsp;&nbsp;&nbsp;&nbsp;&nbsp;&nbsp;&nbsp;&nbsp;&nbsp;&nbsp;&nbsp;&nbsp;&nbsp;&nbsp;&nbsp;&nbsp;'CountryName':&nbsp;'Belgium',<br>&nbsp;&nbsp;&nbsp;&nbsp;&nbsp;&nbsp;&nbsp;&nbsp;&nbsp;&nbsp;&nbsp;&nbsp;&nbsp;&nbsp;&nbsp;&nbsp;&nbsp;&nbsp;&nbsp;&nbsp;&nbsp;&nbsp;&nbsp;&nbsp;&nbsp;&nbsp;&nbsp;&nbsp;&nbsp;&nbsp;&nbsp;'Latitude':&nbsp;50.5096,<br>&nbsp;&nbsp;&nbsp;&nbsp;&nbsp;&nbsp;&nbsp;&nbsp;&nbsp;&nbsp;&nbsp;&nbsp;&nbsp;&nbsp;&nbsp;&nbsp;&nbsp;&nbsp;&nbsp;&nbsp;&nbsp;&nbsp;&nbsp;&nbsp;&nbsp;&nbsp;&nbsp;&nbsp;&nbsp;&nbsp;&nbsp;'Longitude':&nbsp;5.6533,<br>&nbsp;&nbsp;&nbsp;&nbsp;&nbsp;&nbsp;&nbsp;&nbsp;&nbsp;&nbsp;&nbsp;&nbsp;&nbsp;&nbsp;&nbsp;&nbsp;&nbsp;&nbsp;&nbsp;&nbsp;&nbsp;&nbsp;&nbsp;&nbsp;&nbsp;&nbsp;&nbsp;&nbsp;&nbsp;&nbsp;&nbsp;'State':&nbsp;'Wallonia',<br>&nbsp;&nbsp;&nbsp;&nbsp;&nbsp;&nbsp;&nbsp;&nbsp;&nbsp;&nbsp;&nbsp;&nbsp;&nbsp;&nbsp;&nbsp;&nbsp;&nbsp;&nbsp;&nbsp;&nbsp;&nbsp;&nbsp;&nbsp;&nbsp;&nbsp;&nbsp;&nbsp;&nbsp;&nbsp;&nbsp;&nbsp;'Type':&nbsp;'geolocation',<br>&nbsp;&nbsp;&nbsp;&nbsp;&nbsp;&nbsp;&nbsp;&nbsp;&nbsp;&nbsp;&nbsp;&nbsp;&nbsp;&nbsp;&nbsp;&nbsp;&nbsp;&nbsp;&nbsp;&nbsp;&nbsp;&nbsp;&nbsp;&nbsp;&nbsp;&nbsp;&nbsp;&nbsp;&nbsp;&nbsp;&nbsp;'edges':&nbsp;set()},<br>&nbsp;&nbsp;&nbsp;&nbsp;&nbsp;&nbsp;&nbsp;&nbsp;&nbsp;&nbsp;&nbsp;&nbsp;&nbsp;&nbsp;&nbsp;&nbsp;&nbsp;'ThreatIntelligence':&nbsp;[],<br>&nbsp;&nbsp;&nbsp;&nbsp;&nbsp;&nbsp;&nbsp;&nbsp;&nbsp;&nbsp;&nbsp;&nbsp;&nbsp;&nbsp;&nbsp;&nbsp;&nbsp;'Type':&nbsp;'ipaddress',<br>&nbsp;&nbsp;&nbsp;&nbsp;&nbsp;&nbsp;&nbsp;&nbsp;&nbsp;&nbsp;&nbsp;&nbsp;&nbsp;&nbsp;&nbsp;&nbsp;&nbsp;'edges':&nbsp;set()},<br>&nbsp;&nbsp;'IsDomainJoined':&nbsp;False,<br>&nbsp;&nbsp;'Location':&nbsp;{&nbsp;'city':&nbsp;'Liege',<br>&nbsp;&nbsp;&nbsp;&nbsp;&nbsp;&nbsp;&nbsp;&nbsp;&nbsp;&nbsp;&nbsp;&nbsp;&nbsp;&nbsp;&nbsp;&nbsp;'countryOrRegion':&nbsp;'BE',<br>&nbsp;&nbsp;&nbsp;&nbsp;&nbsp;&nbsp;&nbsp;&nbsp;&nbsp;&nbsp;&nbsp;&nbsp;&nbsp;&nbsp;&nbsp;&nbsp;'geoCoordinates':&nbsp;{'latitude':&nbsp;50.64065170288086,&nbsp;'longitude':&nbsp;5.572050094604492},<br>&nbsp;&nbsp;&nbsp;&nbsp;&nbsp;&nbsp;&nbsp;&nbsp;&nbsp;&nbsp;&nbsp;&nbsp;&nbsp;&nbsp;&nbsp;&nbsp;'state':&nbsp;'Liege'},<br>&nbsp;&nbsp;'Name':&nbsp;'seb@seccxp.ninja',<br>&nbsp;&nbsp;'Type':&nbsp;'account',<br>&nbsp;&nbsp;'UPNSuffix':&nbsp;'seccxp.ninja',<br>&nbsp;&nbsp;'UserAgent':&nbsp;'Mozilla/5.0&nbsp;(Windows&nbsp;NT&nbsp;10.0;&nbsp;Win64;&nbsp;x64)&nbsp;AppleWebKit/537.36&nbsp;(KHTML,&nbsp;like&nbsp;Gecko)&nbsp;'<br>&nbsp;&nbsp;&nbsp;&nbsp;&nbsp;&nbsp;&nbsp;&nbsp;&nbsp;&nbsp;&nbsp;&nbsp;&nbsp;&nbsp;&nbsp;'Chrome/89.0.4389.90&nbsp;Safari/537.36&nbsp;Edg/89.0.774.63',<br>&nbsp;&nbsp;'edges':&nbsp;set()}"
      ],
      "text/plain": [
       "Account(Name=seb@seccxp.ninja, UPNSuffix=seccxp.ninja, AadTenantId=4b2462a4-bbee-495a-a0...)"
      ]
     },
     "metadata": {},
     "output_type": "display_data"
    },
    {
     "data": {
      "text/html": [
       "<h3>Account last activity</h3>"
      ],
      "text/plain": [
       "<IPython.core.display.HTML object>"
      ]
     },
     "metadata": {},
     "output_type": "display_data"
    },
    {
     "data": {
      "text/html": [
       "<b>seb@seccxp.ninja (source: AzureActiveDirectory)</b>"
      ],
      "text/plain": [
       "<IPython.core.display.HTML object>"
      ]
     },
     "metadata": {},
     "output_type": "display_data"
    },
    {
     "data": {
      "text/html": [
       "<div>\n",
       "<style scoped>\n",
       "    .dataframe tbody tr th:only-of-type {\n",
       "        vertical-align: middle;\n",
       "    }\n",
       "\n",
       "    .dataframe tbody tr th {\n",
       "        vertical-align: top;\n",
       "    }\n",
       "\n",
       "    .dataframe thead th {\n",
       "        text-align: right;\n",
       "    }\n",
       "</style>\n",
       "<table border=\"1\" class=\"dataframe\">\n",
       "  <thead>\n",
       "    <tr style=\"text-align: right;\">\n",
       "      <th></th>\n",
       "      <th>TimeGenerated</th>\n",
       "      <th>TenantId</th>\n",
       "      <th>SourceSystem</th>\n",
       "      <th>ResourceId</th>\n",
       "      <th>OperationName</th>\n",
       "      <th>OperationVersion</th>\n",
       "      <th>Category</th>\n",
       "      <th>ResultType</th>\n",
       "      <th>ResultSignature</th>\n",
       "      <th>ResultDescription</th>\n",
       "      <th>DurationMs</th>\n",
       "      <th>CorrelationId</th>\n",
       "      <th>Resource</th>\n",
       "      <th>ResourceGroup</th>\n",
       "      <th>ResourceProvider</th>\n",
       "      <th>Identity</th>\n",
       "      <th>Level</th>\n",
       "      <th>Location</th>\n",
       "      <th>AlternateSignInName</th>\n",
       "      <th>AppDisplayName</th>\n",
       "      <th>AppId</th>\n",
       "      <th>AuthenticationDetails</th>\n",
       "      <th>AuthenticationMethodsUsed</th>\n",
       "      <th>AuthenticationProcessingDetails</th>\n",
       "      <th>AuthenticationRequirement</th>\n",
       "      <th>...</th>\n",
       "      <th>RiskLevelAggregated</th>\n",
       "      <th>RiskLevelDuringSignIn</th>\n",
       "      <th>RiskState</th>\n",
       "      <th>ResourceDisplayName</th>\n",
       "      <th>ResourceIdentity</th>\n",
       "      <th>ServicePrincipalId</th>\n",
       "      <th>ServicePrincipalName</th>\n",
       "      <th>Status</th>\n",
       "      <th>TokenIssuerName</th>\n",
       "      <th>TokenIssuerType</th>\n",
       "      <th>UserAgent</th>\n",
       "      <th>UserDisplayName</th>\n",
       "      <th>UserId</th>\n",
       "      <th>UserPrincipalName</th>\n",
       "      <th>AADTenantId</th>\n",
       "      <th>UserType</th>\n",
       "      <th>FlaggedForReview</th>\n",
       "      <th>IPAddressFromResourceProvider</th>\n",
       "      <th>SignInIdentifier</th>\n",
       "      <th>SignInIdentifierType</th>\n",
       "      <th>ResourceTenantId</th>\n",
       "      <th>HomeTenantId</th>\n",
       "      <th>Type</th>\n",
       "      <th>AccountName</th>\n",
       "      <th>Source</th>\n",
       "    </tr>\n",
       "  </thead>\n",
       "  <tbody>\n",
       "    <tr>\n",
       "      <th>0</th>\n",
       "      <td>2021-04-01 13:59:12.319000+00:00</td>\n",
       "      <td>8ecf8077-cf51-4820-aadd-14040956f35d</td>\n",
       "      <td>Azure AD</td>\n",
       "      <td>/tenants/4b2462a4-bbee-495a-a0e1-f23ae524cc9c/providers/Microsoft.aadiam</td>\n",
       "      <td>Sign-in activity</td>\n",
       "      <td>1.0</td>\n",
       "      <td>SignInLogs</td>\n",
       "      <td>0</td>\n",
       "      <td>None</td>\n",
       "      <td></td>\n",
       "      <td>0</td>\n",
       "      <td>9b481072-380c-42e7-867f-ea639bf80155</td>\n",
       "      <td>Microsoft.aadiam</td>\n",
       "      <td>Microsoft.aadiam</td>\n",
       "      <td></td>\n",
       "      <td>Admin</td>\n",
       "      <td>4</td>\n",
       "      <td>BE</td>\n",
       "      <td></td>\n",
       "      <td>Microsoft Teams Web Client</td>\n",
       "      <td>5e3ce6c0-2b1f-4285-8d4b-75ee78787346</td>\n",
       "      <td>[\\r\\n  {\\r\\n    \"authenticationStepDateTime\": \"2021-04-01T13:59:12.3194749+00:00\",\\r\\n    \"authe...</td>\n",
       "      <td></td>\n",
       "      <td>[\\r\\n  {\\r\\n    \"key\": \"Login Hint Present\",\\r\\n    \"value\": \"True\"\\r\\n  },\\r\\n  {\\r\\n    \"key\":...</td>\n",
       "      <td>singleFactorAuthentication</td>\n",
       "      <td>...</td>\n",
       "      <td>none</td>\n",
       "      <td>none</td>\n",
       "      <td>none</td>\n",
       "      <td>Office 365 Exchange Online</td>\n",
       "      <td>00000002-0000-0ff1-ce00-000000000000</td>\n",
       "      <td></td>\n",
       "      <td></td>\n",
       "      <td>{'errorCode': 0}</td>\n",
       "      <td></td>\n",
       "      <td>AzureAD</td>\n",
       "      <td>Mozilla/5.0 (Windows NT 10.0; Win64; x64) AppleWebKit/537.36 (KHTML, like Gecko) Chrome/89.0.438...</td>\n",
       "      <td>Admin</td>\n",
       "      <td>bdb72692-2275-412b-8af0-ea21c2ebd174</td>\n",
       "      <td>seb@seccxp.ninja</td>\n",
       "      <td>4b2462a4-bbee-495a-a0e1-f23ae524cc9c</td>\n",
       "      <td>Member</td>\n",
       "      <td>None</td>\n",
       "      <td></td>\n",
       "      <td></td>\n",
       "      <td></td>\n",
       "      <td>4b2462a4-bbee-495a-a0e1-f23ae524cc9c</td>\n",
       "      <td>4b2462a4-bbee-495a-a0e1-f23ae524cc9c</td>\n",
       "      <td>SigninLogs</td>\n",
       "      <td>seb@seccxp.ninja</td>\n",
       "      <td>AzureActiveDirectory</td>\n",
       "    </tr>\n",
       "  </tbody>\n",
       "</table>\n",
       "<p>1 rows × 68 columns</p>\n",
       "</div>"
      ],
      "text/plain": [
       "                     TimeGenerated                              TenantId  \\\n",
       "0 2021-04-01 13:59:12.319000+00:00  8ecf8077-cf51-4820-aadd-14040956f35d   \n",
       "\n",
       "  SourceSystem  \\\n",
       "0     Azure AD   \n",
       "\n",
       "                                                                 ResourceId  \\\n",
       "0  /tenants/4b2462a4-bbee-495a-a0e1-f23ae524cc9c/providers/Microsoft.aadiam   \n",
       "\n",
       "      OperationName OperationVersion    Category ResultType ResultSignature  \\\n",
       "0  Sign-in activity              1.0  SignInLogs          0            None   \n",
       "\n",
       "  ResultDescription  DurationMs                         CorrelationId  \\\n",
       "0                             0  9b481072-380c-42e7-867f-ea639bf80155   \n",
       "\n",
       "           Resource     ResourceGroup ResourceProvider Identity Level  \\\n",
       "0  Microsoft.aadiam  Microsoft.aadiam                     Admin     4   \n",
       "\n",
       "  Location AlternateSignInName              AppDisplayName  \\\n",
       "0       BE                      Microsoft Teams Web Client   \n",
       "\n",
       "                                  AppId  \\\n",
       "0  5e3ce6c0-2b1f-4285-8d4b-75ee78787346   \n",
       "\n",
       "                                                                                 AuthenticationDetails  \\\n",
       "0  [\\r\\n  {\\r\\n    \"authenticationStepDateTime\": \"2021-04-01T13:59:12.3194749+00:00\",\\r\\n    \"authe...   \n",
       "\n",
       "  AuthenticationMethodsUsed  \\\n",
       "0                             \n",
       "\n",
       "                                                                       AuthenticationProcessingDetails  \\\n",
       "0  [\\r\\n  {\\r\\n    \"key\": \"Login Hint Present\",\\r\\n    \"value\": \"True\"\\r\\n  },\\r\\n  {\\r\\n    \"key\":...   \n",
       "\n",
       "    AuthenticationRequirement  ... RiskLevelAggregated RiskLevelDuringSignIn  \\\n",
       "0  singleFactorAuthentication  ...                none                  none   \n",
       "\n",
       "  RiskState         ResourceDisplayName                      ResourceIdentity  \\\n",
       "0      none  Office 365 Exchange Online  00000002-0000-0ff1-ce00-000000000000   \n",
       "\n",
       "  ServicePrincipalId  ServicePrincipalName            Status TokenIssuerName  \\\n",
       "0                                           {'errorCode': 0}                   \n",
       "\n",
       "  TokenIssuerType  \\\n",
       "0         AzureAD   \n",
       "\n",
       "                                                                                             UserAgent  \\\n",
       "0  Mozilla/5.0 (Windows NT 10.0; Win64; x64) AppleWebKit/537.36 (KHTML, like Gecko) Chrome/89.0.438...   \n",
       "\n",
       "  UserDisplayName                                UserId UserPrincipalName  \\\n",
       "0           Admin  bdb72692-2275-412b-8af0-ea21c2ebd174  seb@seccxp.ninja   \n",
       "\n",
       "                            AADTenantId UserType FlaggedForReview  \\\n",
       "0  4b2462a4-bbee-495a-a0e1-f23ae524cc9c   Member             None   \n",
       "\n",
       "  IPAddressFromResourceProvider SignInIdentifier SignInIdentifierType  \\\n",
       "0                                                                       \n",
       "\n",
       "                       ResourceTenantId                          HomeTenantId  \\\n",
       "0  4b2462a4-bbee-495a-a0e1-f23ae524cc9c  4b2462a4-bbee-495a-a0e1-f23ae524cc9c   \n",
       "\n",
       "         Type       AccountName                Source  \n",
       "0  SigninLogs  seb@seccxp.ninja  AzureActiveDirectory  \n",
       "\n",
       "[1 rows x 68 columns]"
      ]
     },
     "metadata": {},
     "output_type": "display_data"
    },
    {
     "data": {
      "text/html": [
       "<h3>Related alerts</h3><br><b>Found 1 different alert types related to this account</b><br>- Azure Security Center unusual storage access, # Alerts: 1<br>To browse the alerts call the <b>browse_alerts()</b> method."
      ],
      "text/plain": [
       "<IPython.core.display.HTML object>"
      ]
     },
     "metadata": {},
     "output_type": "display_data"
    },
    {
     "data": {
      "text/html": [
       "<br><b>No bookmarks for this account</b>"
      ],
      "text/plain": [
       "<IPython.core.display.HTML object>"
      ]
     },
     "metadata": {},
     "output_type": "display_data"
    },
    {
     "data": {
      "text/html": [
       "<p style=''><hr></p>"
      ],
      "text/plain": [
       "<IPython.core.display.HTML object>"
      ]
     },
     "metadata": {},
     "output_type": "display_data"
    },
    {
     "data": {
      "text/html": [
       "<p style=''><h3>Use <i>result.notebooklet.get_additional_data()</i> to retrieve more data.</p>"
      ],
      "text/plain": [
       "<IPython.core.display.HTML object>"
      ]
     },
     "metadata": {},
     "output_type": "display_data"
    },
    {
     "data": {
      "text/html": [
       "<p style=''>Additional methods for this class:<br>az_activity_timeline_by_ip - 'Display Azure activity timeline by IP address.'<br>az_activity_timeline_by_operation - 'Display Azure activity timeline by operation.'<br>az_activity_timeline_by_provider - 'Display Azure activity timeline by provider.'<br>browse_accounts - 'Return the accounts browser/viewer.'<br>browse_alerts - 'Return alert browser/viewer.'<br>browse_bookmarks - 'Return bookmark browser/viewer.'<br>display_alert_timeline - 'Display the alert timeline.'<br>get_additional_data - 'Find additional data for the selected account.'<br>get_geoip_map - 'Return Folium map of IP activity.'<br>host_logon_timeline - 'Display IP address summary.'<br>run - 'Return account activity summary.'<br>show_ip_summary - 'Display Azure activity timeline by operation.'</p>"
      ],
      "text/plain": [
       "<IPython.core.display.HTML object>"
      ]
     },
     "metadata": {},
     "output_type": "display_data"
    }
   ],
   "source": [
    "Account = entities.Account\n",
    "acc_result = Account.nblt.account_summary(value=account_txt.value)"
   ]
  },
  {
   "cell_type": "markdown",
   "metadata": {},
   "source": [
    "---\n",
    "\n",
    "# Retrieve additional data for the selected account\n",
    "\n",
    "The result returned from the last cell has a number of properties and methods that you can use\n",
    "to retrieve and view further information.\n",
    "\n",
    "The main one for this notebooklet is `get_additional_data`."
   ]
  },
  {
   "cell_type": "code",
   "execution_count": 30,
   "metadata": {},
   "outputs": [
    {
     "data": {
      "text/html": [
       "<p style=''>Getting data from AADSignin...</p>"
      ],
      "text/plain": [
       "<IPython.core.display.HTML object>"
      ]
     },
     "metadata": {},
     "output_type": "display_data"
    },
    {
     "data": {
      "text/html": [
       "<p style=''>Getting data from AzureActivity...</p>"
      ],
      "text/plain": [
       "<IPython.core.display.HTML object>"
      ]
     },
     "metadata": {},
     "output_type": "display_data"
    },
    {
     "data": {
      "text/html": [
       "<p style=''>Getting data from Office365Activity...</p>"
      ],
      "text/plain": [
       "<IPython.core.display.HTML object>"
      ]
     },
     "metadata": {},
     "output_type": "display_data"
    },
    {
     "data": {
      "text/html": [
       "\n",
       "    <div class=\"bk-root\">\n",
       "        <a href=\"https://bokeh.org\" target=\"_blank\" class=\"bk-logo bk-logo-small bk-logo-notebook\"></a>\n",
       "        <span id=\"7569\">Loading BokehJS ...</span>\n",
       "    </div>"
      ]
     },
     "metadata": {},
     "output_type": "display_data"
    },
    {
     "data": {
      "application/javascript": [
       "\n",
       "(function(root) {\n",
       "  function now() {\n",
       "    return new Date();\n",
       "  }\n",
       "\n",
       "  var force = true;\n",
       "\n",
       "  if (typeof root._bokeh_onload_callbacks === \"undefined\" || force === true) {\n",
       "    root._bokeh_onload_callbacks = [];\n",
       "    root._bokeh_is_loading = undefined;\n",
       "  }\n",
       "\n",
       "  var JS_MIME_TYPE = 'application/javascript';\n",
       "  var HTML_MIME_TYPE = 'text/html';\n",
       "  var EXEC_MIME_TYPE = 'application/vnd.bokehjs_exec.v0+json';\n",
       "  var CLASS_NAME = 'output_bokeh rendered_html';\n",
       "\n",
       "  /**\n",
       "   * Render data to the DOM node\n",
       "   */\n",
       "  function render(props, node) {\n",
       "    var script = document.createElement(\"script\");\n",
       "    node.appendChild(script);\n",
       "  }\n",
       "\n",
       "  /**\n",
       "   * Handle when an output is cleared or removed\n",
       "   */\n",
       "  function handleClearOutput(event, handle) {\n",
       "    var cell = handle.cell;\n",
       "\n",
       "    var id = cell.output_area._bokeh_element_id;\n",
       "    var server_id = cell.output_area._bokeh_server_id;\n",
       "    // Clean up Bokeh references\n",
       "    if (id != null && id in Bokeh.index) {\n",
       "      Bokeh.index[id].model.document.clear();\n",
       "      delete Bokeh.index[id];\n",
       "    }\n",
       "\n",
       "    if (server_id !== undefined) {\n",
       "      // Clean up Bokeh references\n",
       "      var cmd = \"from bokeh.io.state import curstate; print(curstate().uuid_to_server['\" + server_id + \"'].get_sessions()[0].document.roots[0]._id)\";\n",
       "      cell.notebook.kernel.execute(cmd, {\n",
       "        iopub: {\n",
       "          output: function(msg) {\n",
       "            var id = msg.content.text.trim();\n",
       "            if (id in Bokeh.index) {\n",
       "              Bokeh.index[id].model.document.clear();\n",
       "              delete Bokeh.index[id];\n",
       "            }\n",
       "          }\n",
       "        }\n",
       "      });\n",
       "      // Destroy server and session\n",
       "      var cmd = \"import bokeh.io.notebook as ion; ion.destroy_server('\" + server_id + \"')\";\n",
       "      cell.notebook.kernel.execute(cmd);\n",
       "    }\n",
       "  }\n",
       "\n",
       "  /**\n",
       "   * Handle when a new output is added\n",
       "   */\n",
       "  function handleAddOutput(event, handle) {\n",
       "    var output_area = handle.output_area;\n",
       "    var output = handle.output;\n",
       "\n",
       "    // limit handleAddOutput to display_data with EXEC_MIME_TYPE content only\n",
       "    if ((output.output_type != \"display_data\") || (!output.data.hasOwnProperty(EXEC_MIME_TYPE))) {\n",
       "      return\n",
       "    }\n",
       "\n",
       "    var toinsert = output_area.element.find(\".\" + CLASS_NAME.split(' ')[0]);\n",
       "\n",
       "    if (output.metadata[EXEC_MIME_TYPE][\"id\"] !== undefined) {\n",
       "      toinsert[toinsert.length - 1].firstChild.textContent = output.data[JS_MIME_TYPE];\n",
       "      // store reference to embed id on output_area\n",
       "      output_area._bokeh_element_id = output.metadata[EXEC_MIME_TYPE][\"id\"];\n",
       "    }\n",
       "    if (output.metadata[EXEC_MIME_TYPE][\"server_id\"] !== undefined) {\n",
       "      var bk_div = document.createElement(\"div\");\n",
       "      bk_div.innerHTML = output.data[HTML_MIME_TYPE];\n",
       "      var script_attrs = bk_div.children[0].attributes;\n",
       "      for (var i = 0; i < script_attrs.length; i++) {\n",
       "        toinsert[toinsert.length - 1].firstChild.setAttribute(script_attrs[i].name, script_attrs[i].value);\n",
       "        toinsert[toinsert.length - 1].firstChild.textContent = bk_div.children[0].textContent\n",
       "      }\n",
       "      // store reference to server id on output_area\n",
       "      output_area._bokeh_server_id = output.metadata[EXEC_MIME_TYPE][\"server_id\"];\n",
       "    }\n",
       "  }\n",
       "\n",
       "  function register_renderer(events, OutputArea) {\n",
       "\n",
       "    function append_mime(data, metadata, element) {\n",
       "      // create a DOM node to render to\n",
       "      var toinsert = this.create_output_subarea(\n",
       "        metadata,\n",
       "        CLASS_NAME,\n",
       "        EXEC_MIME_TYPE\n",
       "      );\n",
       "      this.keyboard_manager.register_events(toinsert);\n",
       "      // Render to node\n",
       "      var props = {data: data, metadata: metadata[EXEC_MIME_TYPE]};\n",
       "      render(props, toinsert[toinsert.length - 1]);\n",
       "      element.append(toinsert);\n",
       "      return toinsert\n",
       "    }\n",
       "\n",
       "    /* Handle when an output is cleared or removed */\n",
       "    events.on('clear_output.CodeCell', handleClearOutput);\n",
       "    events.on('delete.Cell', handleClearOutput);\n",
       "\n",
       "    /* Handle when a new output is added */\n",
       "    events.on('output_added.OutputArea', handleAddOutput);\n",
       "\n",
       "    /**\n",
       "     * Register the mime type and append_mime function with output_area\n",
       "     */\n",
       "    OutputArea.prototype.register_mime_type(EXEC_MIME_TYPE, append_mime, {\n",
       "      /* Is output safe? */\n",
       "      safe: true,\n",
       "      /* Index of renderer in `output_area.display_order` */\n",
       "      index: 0\n",
       "    });\n",
       "  }\n",
       "\n",
       "  // register the mime type if in Jupyter Notebook environment and previously unregistered\n",
       "  if (root.Jupyter !== undefined) {\n",
       "    var events = require('base/js/events');\n",
       "    var OutputArea = require('notebook/js/outputarea').OutputArea;\n",
       "\n",
       "    if (OutputArea.prototype.mime_types().indexOf(EXEC_MIME_TYPE) == -1) {\n",
       "      register_renderer(events, OutputArea);\n",
       "    }\n",
       "  }\n",
       "\n",
       "  \n",
       "  if (typeof (root._bokeh_timeout) === \"undefined\" || force === true) {\n",
       "    root._bokeh_timeout = Date.now() + 5000;\n",
       "    root._bokeh_failed_load = false;\n",
       "  }\n",
       "\n",
       "  var NB_LOAD_WARNING = {'data': {'text/html':\n",
       "     \"<div style='background-color: #fdd'>\\n\"+\n",
       "     \"<p>\\n\"+\n",
       "     \"BokehJS does not appear to have successfully loaded. If loading BokehJS from CDN, this \\n\"+\n",
       "     \"may be due to a slow or bad network connection. Possible fixes:\\n\"+\n",
       "     \"</p>\\n\"+\n",
       "     \"<ul>\\n\"+\n",
       "     \"<li>re-rerun `output_notebook()` to attempt to load from CDN again, or</li>\\n\"+\n",
       "     \"<li>use INLINE resources instead, as so:</li>\\n\"+\n",
       "     \"</ul>\\n\"+\n",
       "     \"<code>\\n\"+\n",
       "     \"from bokeh.resources import INLINE\\n\"+\n",
       "     \"output_notebook(resources=INLINE)\\n\"+\n",
       "     \"</code>\\n\"+\n",
       "     \"</div>\"}};\n",
       "\n",
       "  function display_loaded() {\n",
       "    var el = document.getElementById(\"7569\");\n",
       "    if (el != null) {\n",
       "      el.textContent = \"BokehJS is loading...\";\n",
       "    }\n",
       "    if (root.Bokeh !== undefined) {\n",
       "      if (el != null) {\n",
       "        el.textContent = \"BokehJS \" + root.Bokeh.version + \" successfully loaded.\";\n",
       "      }\n",
       "    } else if (Date.now() < root._bokeh_timeout) {\n",
       "      setTimeout(display_loaded, 100)\n",
       "    }\n",
       "  }\n",
       "\n",
       "\n",
       "  function run_callbacks() {\n",
       "    try {\n",
       "      root._bokeh_onload_callbacks.forEach(function(callback) {\n",
       "        if (callback != null)\n",
       "          callback();\n",
       "      });\n",
       "    } finally {\n",
       "      delete root._bokeh_onload_callbacks\n",
       "    }\n",
       "    console.debug(\"Bokeh: all callbacks have finished\");\n",
       "  }\n",
       "\n",
       "  function load_libs(css_urls, js_urls, callback) {\n",
       "    if (css_urls == null) css_urls = [];\n",
       "    if (js_urls == null) js_urls = [];\n",
       "\n",
       "    root._bokeh_onload_callbacks.push(callback);\n",
       "    if (root._bokeh_is_loading > 0) {\n",
       "      console.debug(\"Bokeh: BokehJS is being loaded, scheduling callback at\", now());\n",
       "      return null;\n",
       "    }\n",
       "    if (js_urls == null || js_urls.length === 0) {\n",
       "      run_callbacks();\n",
       "      return null;\n",
       "    }\n",
       "    console.debug(\"Bokeh: BokehJS not loaded, scheduling load and callback at\", now());\n",
       "    root._bokeh_is_loading = css_urls.length + js_urls.length;\n",
       "\n",
       "    function on_load() {\n",
       "      root._bokeh_is_loading--;\n",
       "      if (root._bokeh_is_loading === 0) {\n",
       "        console.debug(\"Bokeh: all BokehJS libraries/stylesheets loaded\");\n",
       "        run_callbacks()\n",
       "      }\n",
       "    }\n",
       "\n",
       "    function on_error() {\n",
       "      console.error(\"failed to load \" + url);\n",
       "    }\n",
       "\n",
       "    for (var i = 0; i < css_urls.length; i++) {\n",
       "      var url = css_urls[i];\n",
       "      const element = document.createElement(\"link\");\n",
       "      element.onload = on_load;\n",
       "      element.onerror = on_error;\n",
       "      element.rel = \"stylesheet\";\n",
       "      element.type = \"text/css\";\n",
       "      element.href = url;\n",
       "      console.debug(\"Bokeh: injecting link tag for BokehJS stylesheet: \", url);\n",
       "      document.body.appendChild(element);\n",
       "    }\n",
       "\n",
       "    const hashes = {\"https://cdn.bokeh.org/bokeh/release/bokeh-2.2.2.min.js\": \"JayppSWSRBsibIZqI8S4vAb1oFgLL0uhNvSn8cmArlOvYOwfFjYeyY5UWwJ+K0SU\", \"https://cdn.bokeh.org/bokeh/release/bokeh-widgets-2.2.2.min.js\": \"G0/Tv/Yy/zEPNsnW0Qif/FOsGesd+KIrKg/QLmvQmReuUW9qmSP7mAmr0VpiUNr3\", \"https://cdn.bokeh.org/bokeh/release/bokeh-tables-2.2.2.min.js\": \"VLYHEbLQDk5G1+/4ALU0myoJPMEUsngWry2fzYorFOUmarjGRPLLURaeK/on6JqX\"};\n",
       "\n",
       "    for (var i = 0; i < js_urls.length; i++) {\n",
       "      var url = js_urls[i];\n",
       "      var element = document.createElement('script');\n",
       "      element.onload = on_load;\n",
       "      element.onerror = on_error;\n",
       "      element.async = false;\n",
       "      element.src = url;\n",
       "      if (url in hashes) {\n",
       "        element.crossOrigin = \"anonymous\";\n",
       "        element.integrity = \"sha384-\" + hashes[url];\n",
       "      }\n",
       "      console.debug(\"Bokeh: injecting script tag for BokehJS library: \", url);\n",
       "      document.head.appendChild(element);\n",
       "    }\n",
       "  };\n",
       "\n",
       "  function inject_raw_css(css) {\n",
       "    const element = document.createElement(\"style\");\n",
       "    element.appendChild(document.createTextNode(css));\n",
       "    document.body.appendChild(element);\n",
       "  }\n",
       "\n",
       "  \n",
       "  var js_urls = [\"https://cdn.bokeh.org/bokeh/release/bokeh-2.2.2.min.js\", \"https://cdn.bokeh.org/bokeh/release/bokeh-widgets-2.2.2.min.js\", \"https://cdn.bokeh.org/bokeh/release/bokeh-tables-2.2.2.min.js\"];\n",
       "  var css_urls = [];\n",
       "  \n",
       "\n",
       "  var inline_js = [\n",
       "    function(Bokeh) {\n",
       "      Bokeh.set_log_level(\"info\");\n",
       "    },\n",
       "    function(Bokeh) {\n",
       "    \n",
       "    \n",
       "    }\n",
       "  ];\n",
       "\n",
       "  function run_inline_js() {\n",
       "    \n",
       "    if (root.Bokeh !== undefined || force === true) {\n",
       "      \n",
       "    for (var i = 0; i < inline_js.length; i++) {\n",
       "      inline_js[i].call(root, root.Bokeh);\n",
       "    }\n",
       "    if (force === true) {\n",
       "        display_loaded();\n",
       "      }} else if (Date.now() < root._bokeh_timeout) {\n",
       "      setTimeout(run_inline_js, 100);\n",
       "    } else if (!root._bokeh_failed_load) {\n",
       "      console.log(\"Bokeh: BokehJS failed to load within specified timeout.\");\n",
       "      root._bokeh_failed_load = true;\n",
       "    } else if (force !== true) {\n",
       "      var cell = $(document.getElementById(\"7569\")).parents('.cell').data().cell;\n",
       "      cell.output_area.append_execute_result(NB_LOAD_WARNING)\n",
       "    }\n",
       "\n",
       "  }\n",
       "\n",
       "  if (root._bokeh_is_loading === 0) {\n",
       "    console.debug(\"Bokeh: BokehJS loaded, going straight to plotting\");\n",
       "    run_inline_js();\n",
       "  } else {\n",
       "    load_libs(css_urls, js_urls, function() {\n",
       "      console.debug(\"Bokeh: BokehJS plotting callback run at\", now());\n",
       "      run_inline_js();\n",
       "    });\n",
       "  }\n",
       "}(window));"
      ],
      "application/vnd.bokehjs_load.v0+json": "\n(function(root) {\n  function now() {\n    return new Date();\n  }\n\n  var force = true;\n\n  if (typeof root._bokeh_onload_callbacks === \"undefined\" || force === true) {\n    root._bokeh_onload_callbacks = [];\n    root._bokeh_is_loading = undefined;\n  }\n\n  \n\n  \n  if (typeof (root._bokeh_timeout) === \"undefined\" || force === true) {\n    root._bokeh_timeout = Date.now() + 5000;\n    root._bokeh_failed_load = false;\n  }\n\n  var NB_LOAD_WARNING = {'data': {'text/html':\n     \"<div style='background-color: #fdd'>\\n\"+\n     \"<p>\\n\"+\n     \"BokehJS does not appear to have successfully loaded. If loading BokehJS from CDN, this \\n\"+\n     \"may be due to a slow or bad network connection. Possible fixes:\\n\"+\n     \"</p>\\n\"+\n     \"<ul>\\n\"+\n     \"<li>re-rerun `output_notebook()` to attempt to load from CDN again, or</li>\\n\"+\n     \"<li>use INLINE resources instead, as so:</li>\\n\"+\n     \"</ul>\\n\"+\n     \"<code>\\n\"+\n     \"from bokeh.resources import INLINE\\n\"+\n     \"output_notebook(resources=INLINE)\\n\"+\n     \"</code>\\n\"+\n     \"</div>\"}};\n\n  function display_loaded() {\n    var el = document.getElementById(\"7569\");\n    if (el != null) {\n      el.textContent = \"BokehJS is loading...\";\n    }\n    if (root.Bokeh !== undefined) {\n      if (el != null) {\n        el.textContent = \"BokehJS \" + root.Bokeh.version + \" successfully loaded.\";\n      }\n    } else if (Date.now() < root._bokeh_timeout) {\n      setTimeout(display_loaded, 100)\n    }\n  }\n\n\n  function run_callbacks() {\n    try {\n      root._bokeh_onload_callbacks.forEach(function(callback) {\n        if (callback != null)\n          callback();\n      });\n    } finally {\n      delete root._bokeh_onload_callbacks\n    }\n    console.debug(\"Bokeh: all callbacks have finished\");\n  }\n\n  function load_libs(css_urls, js_urls, callback) {\n    if (css_urls == null) css_urls = [];\n    if (js_urls == null) js_urls = [];\n\n    root._bokeh_onload_callbacks.push(callback);\n    if (root._bokeh_is_loading > 0) {\n      console.debug(\"Bokeh: BokehJS is being loaded, scheduling callback at\", now());\n      return null;\n    }\n    if (js_urls == null || js_urls.length === 0) {\n      run_callbacks();\n      return null;\n    }\n    console.debug(\"Bokeh: BokehJS not loaded, scheduling load and callback at\", now());\n    root._bokeh_is_loading = css_urls.length + js_urls.length;\n\n    function on_load() {\n      root._bokeh_is_loading--;\n      if (root._bokeh_is_loading === 0) {\n        console.debug(\"Bokeh: all BokehJS libraries/stylesheets loaded\");\n        run_callbacks()\n      }\n    }\n\n    function on_error() {\n      console.error(\"failed to load \" + url);\n    }\n\n    for (var i = 0; i < css_urls.length; i++) {\n      var url = css_urls[i];\n      const element = document.createElement(\"link\");\n      element.onload = on_load;\n      element.onerror = on_error;\n      element.rel = \"stylesheet\";\n      element.type = \"text/css\";\n      element.href = url;\n      console.debug(\"Bokeh: injecting link tag for BokehJS stylesheet: \", url);\n      document.body.appendChild(element);\n    }\n\n    const hashes = {\"https://cdn.bokeh.org/bokeh/release/bokeh-2.2.2.min.js\": \"JayppSWSRBsibIZqI8S4vAb1oFgLL0uhNvSn8cmArlOvYOwfFjYeyY5UWwJ+K0SU\", \"https://cdn.bokeh.org/bokeh/release/bokeh-widgets-2.2.2.min.js\": \"G0/Tv/Yy/zEPNsnW0Qif/FOsGesd+KIrKg/QLmvQmReuUW9qmSP7mAmr0VpiUNr3\", \"https://cdn.bokeh.org/bokeh/release/bokeh-tables-2.2.2.min.js\": \"VLYHEbLQDk5G1+/4ALU0myoJPMEUsngWry2fzYorFOUmarjGRPLLURaeK/on6JqX\"};\n\n    for (var i = 0; i < js_urls.length; i++) {\n      var url = js_urls[i];\n      var element = document.createElement('script');\n      element.onload = on_load;\n      element.onerror = on_error;\n      element.async = false;\n      element.src = url;\n      if (url in hashes) {\n        element.crossOrigin = \"anonymous\";\n        element.integrity = \"sha384-\" + hashes[url];\n      }\n      console.debug(\"Bokeh: injecting script tag for BokehJS library: \", url);\n      document.head.appendChild(element);\n    }\n  };\n\n  function inject_raw_css(css) {\n    const element = document.createElement(\"style\");\n    element.appendChild(document.createTextNode(css));\n    document.body.appendChild(element);\n  }\n\n  \n  var js_urls = [\"https://cdn.bokeh.org/bokeh/release/bokeh-2.2.2.min.js\", \"https://cdn.bokeh.org/bokeh/release/bokeh-widgets-2.2.2.min.js\", \"https://cdn.bokeh.org/bokeh/release/bokeh-tables-2.2.2.min.js\"];\n  var css_urls = [];\n  \n\n  var inline_js = [\n    function(Bokeh) {\n      Bokeh.set_log_level(\"info\");\n    },\n    function(Bokeh) {\n    \n    \n    }\n  ];\n\n  function run_inline_js() {\n    \n    if (root.Bokeh !== undefined || force === true) {\n      \n    for (var i = 0; i < inline_js.length; i++) {\n      inline_js[i].call(root, root.Bokeh);\n    }\n    if (force === true) {\n        display_loaded();\n      }} else if (Date.now() < root._bokeh_timeout) {\n      setTimeout(run_inline_js, 100);\n    } else if (!root._bokeh_failed_load) {\n      console.log(\"Bokeh: BokehJS failed to load within specified timeout.\");\n      root._bokeh_failed_load = true;\n    } else if (force !== true) {\n      var cell = $(document.getElementById(\"7569\")).parents('.cell').data().cell;\n      cell.output_area.append_execute_result(NB_LOAD_WARNING)\n    }\n\n  }\n\n  if (root._bokeh_is_loading === 0) {\n    console.debug(\"Bokeh: BokehJS loaded, going straight to plotting\");\n    run_inline_js();\n  } else {\n    load_libs(css_urls, js_urls, function() {\n      console.debug(\"Bokeh: BokehJS plotting callback run at\", now());\n      run_inline_js();\n    });\n  }\n}(window));"
     },
     "metadata": {},
     "output_type": "display_data"
    },
    {
     "data": {
      "text/html": [
       "\n",
       "\n",
       "\n",
       "\n",
       "\n",
       "\n",
       "  <div class=\"bk-root\" id=\"737b6037-372e-46b4-9eec-936f551bad8f\" data-root-id=\"7762\"></div>\n"
      ]
     },
     "metadata": {},
     "output_type": "display_data"
    },
    {
     "data": {
      "application/javascript": [
       "(function(root) {\n",
       "  function embed_document(root) {\n",
       "    \n",
       "  var docs_json = {\"8db44742-f204-4c1d-b68c-3c82398bbce9\":{\"roots\":{\"references\":[{\"attributes\":{\"children\":[{\"id\":\"7582\"},{\"id\":\"7614\"}]},\"id\":\"7762\",\"type\":\"Column\"},{\"attributes\":{\"data_source\":{\"id\":\"7573\"},\"glyph\":{\"id\":\"7714\"},\"hover_glyph\":null,\"muted_glyph\":null,\"nonselection_glyph\":{\"id\":\"7715\"},\"selection_glyph\":null,\"view\":{\"id\":\"7717\"}},\"id\":\"7716\",\"type\":\"GlyphRenderer\"},{\"attributes\":{},\"id\":\"7781\",\"type\":\"UnionRenderers\"},{\"attributes\":{},\"id\":\"7799\",\"type\":\"UnionRenderers\"},{\"attributes\":{\"fill_alpha\":{\"value\":0.5},\"fill_color\":{\"value\":\"#8DD644\"},\"line_alpha\":{\"value\":0.5},\"line_color\":{\"value\":\"#8DD644\"},\"size\":{\"units\":\"screen\",\"value\":10},\"x\":{\"field\":\"TimeGenerated\"},\"y\":{\"field\":\"y_index\"}},\"id\":\"7756\",\"type\":\"Diamond\"},{\"attributes\":{\"fill_alpha\":0.2,\"fill_color\":\"navy\",\"level\":\"overlay\",\"line_alpha\":1.0,\"line_color\":\"black\",\"line_dash\":[2,2],\"line_width\":0.5},\"id\":\"7689\",\"type\":\"BoxAnnotation\"},{\"attributes\":{\"months\":[0,6]},\"id\":\"7779\",\"type\":\"MonthsTicker\"},{\"attributes\":{},\"id\":\"7782\",\"type\":\"Selection\"},{\"attributes\":{},\"id\":\"7784\",\"type\":\"Selection\"},{\"attributes\":{\"fill_alpha\":{\"value\":0.1},\"fill_color\":{\"value\":\"#30678D\"},\"line_alpha\":{\"value\":0.1},\"line_color\":{\"value\":\"#30678D\"},\"size\":{\"units\":\"screen\",\"value\":10},\"x\":{\"field\":\"TimeGenerated\"},\"y\":{\"field\":\"y_index\"}},\"id\":\"7721\",\"type\":\"Diamond\"},{\"attributes\":{\"data_source\":{\"id\":\"7578\"},\"glyph\":{\"id\":\"7744\"},\"hover_glyph\":null,\"muted_glyph\":null,\"nonselection_glyph\":{\"id\":\"7745\"},\"selection_glyph\":null,\"view\":{\"id\":\"7747\"}},\"id\":\"7746\",\"type\":\"GlyphRenderer\"},{\"attributes\":{\"source\":{\"id\":\"7580\"}},\"id\":\"7759\",\"type\":\"CDSView\"},{\"attributes\":{\"label\":{\"value\":\"SharePoint\"},\"renderers\":[{\"id\":\"7758\"}]},\"id\":\"7760\",\"type\":\"LegendItem\"},{\"attributes\":{\"fill_alpha\":{\"value\":0.5},\"fill_color\":{\"value\":\"#443982\"},\"line_alpha\":{\"value\":0.5},\"line_color\":{\"value\":\"#443982\"},\"size\":{\"units\":\"screen\",\"value\":10},\"x\":{\"field\":\"TimeGenerated\"},\"y\":{\"field\":\"y_index\"}},\"id\":\"7708\",\"type\":\"Diamond\"},{\"attributes\":{},\"id\":\"7795\",\"type\":\"UnionRenderers\"},{\"attributes\":{\"text\":\"Range Selector\"},\"id\":\"7615\",\"type\":\"Title\"},{\"attributes\":{\"overlay\":{\"id\":\"7689\"},\"x_range\":{\"id\":\"7585\"},\"y_range\":null},\"id\":\"7688\",\"type\":\"RangeTool\"},{\"attributes\":{\"axis\":{\"id\":\"7625\"},\"ticker\":null},\"id\":\"7628\",\"type\":\"Grid\"},{\"attributes\":{},\"id\":\"7791\",\"type\":\"UnionRenderers\"},{\"attributes\":{\"fill_alpha\":{\"value\":0.5},\"fill_color\":{\"value\":\"#1FA386\"},\"line_alpha\":{\"value\":0.5},\"line_color\":{\"value\":\"#1FA386\"},\"size\":{\"units\":\"screen\",\"value\":10},\"x\":{\"field\":\"TimeGenerated\"},\"y\":{\"field\":\"y_index\"}},\"id\":\"7738\",\"type\":\"Diamond\"},{\"attributes\":{\"data_source\":{\"id\":\"7571\"},\"glyph\":{\"id\":\"7702\"},\"hover_glyph\":null,\"muted_glyph\":null,\"nonselection_glyph\":{\"id\":\"7703\"},\"selection_glyph\":null,\"view\":{\"id\":\"7705\"}},\"id\":\"7704\",\"type\":\"GlyphRenderer\"},{\"attributes\":{\"fill_alpha\":{\"value\":0.1},\"fill_color\":{\"value\":\"#443982\"},\"line_alpha\":{\"value\":0.1},\"line_color\":{\"value\":\"#443982\"},\"size\":{\"units\":\"screen\",\"value\":10},\"x\":{\"field\":\"TimeGenerated\"},\"y\":{\"field\":\"y_index\"}},\"id\":\"7709\",\"type\":\"Diamond\"},{\"attributes\":{\"data_source\":{\"id\":\"7580\"},\"glyph\":{\"id\":\"7684\"},\"hover_glyph\":null,\"muted_glyph\":null,\"nonselection_glyph\":{\"id\":\"7685\"},\"selection_glyph\":null,\"view\":{\"id\":\"7687\"}},\"id\":\"7686\",\"type\":\"GlyphRenderer\"},{\"attributes\":{},\"id\":\"7797\",\"type\":\"UnionRenderers\"},{\"attributes\":{\"fill_alpha\":{\"value\":0.1},\"fill_color\":{\"value\":\"#3B518A\"},\"line_alpha\":{\"value\":0.1},\"line_color\":{\"value\":\"#3B518A\"},\"size\":{\"units\":\"screen\",\"value\":10},\"x\":{\"field\":\"TimeGenerated\"},\"y\":{\"field\":\"y_index\"}},\"id\":\"7715\",\"type\":\"Diamond\"},{\"attributes\":{\"fill_alpha\":{\"value\":0.5},\"fill_color\":{\"value\":\"#30678D\"},\"line_alpha\":{\"value\":0.5},\"line_color\":{\"value\":\"#30678D\"},\"size\":{\"units\":\"screen\",\"value\":10},\"x\":{\"field\":\"TimeGenerated\"},\"y\":{\"field\":\"y_index\"}},\"id\":\"7720\",\"type\":\"Diamond\"},{\"attributes\":{\"active_drag\":\"auto\",\"active_inspect\":\"auto\",\"active_multi\":null,\"active_scroll\":\"auto\",\"active_tap\":\"auto\",\"tools\":[{\"id\":\"7581\"},{\"id\":\"7601\"},{\"id\":\"7602\"},{\"id\":\"7603\"},{\"id\":\"7604\"},{\"id\":\"7605\"}]},\"id\":\"7607\",\"type\":\"Toolbar\"},{\"attributes\":{\"months\":[0,2,4,6,8,10]},\"id\":\"7777\",\"type\":\"MonthsTicker\"},{\"attributes\":{\"fill_alpha\":{\"value\":0.1},\"fill_color\":{\"value\":\"#481E70\"},\"line_alpha\":{\"value\":0.1},\"line_color\":{\"value\":\"#481E70\"},\"size\":{\"units\":\"screen\",\"value\":10},\"x\":{\"field\":\"TimeGenerated\"},\"y\":{\"field\":\"y_index\"}},\"id\":\"7703\",\"type\":\"Diamond\"},{\"attributes\":{\"fill_alpha\":{\"value\":0.5},\"fill_color\":{\"value\":\"#35B778\"},\"line_alpha\":{\"value\":0.5},\"line_color\":{\"value\":\"#35B778\"},\"size\":{\"units\":\"screen\",\"value\":10},\"x\":{\"field\":\"TimeGenerated\"},\"y\":{\"field\":\"y_index\"}},\"id\":\"7744\",\"type\":\"Diamond\"},{\"attributes\":{},\"id\":\"7788\",\"type\":\"Selection\"},{\"attributes\":{},\"id\":\"7786\",\"type\":\"Selection\"},{\"attributes\":{\"source\":{\"id\":\"7577\"}},\"id\":\"7741\",\"type\":\"CDSView\"},{\"attributes\":{\"fill_alpha\":{\"value\":0.5},\"fill_color\":{\"value\":\"#3B518A\"},\"line_alpha\":{\"value\":0.5},\"line_color\":{\"value\":\"#3B518A\"},\"size\":{\"units\":\"screen\",\"value\":10},\"x\":{\"field\":\"TimeGenerated\"},\"y\":{\"field\":\"y_index\"}},\"id\":\"7714\",\"type\":\"Diamond\"},{\"attributes\":{\"fill_alpha\":{\"value\":0.1},\"fill_color\":{\"value\":\"#208F8C\"},\"line_alpha\":{\"value\":0.1},\"line_color\":{\"value\":\"#208F8C\"},\"x\":{\"field\":\"TimeGenerated\"},\"y\":{\"field\":\"y_index\"}},\"id\":\"7665\",\"type\":\"Circle\"},{\"attributes\":{\"source\":{\"id\":\"7580\"}},\"id\":\"7687\",\"type\":\"CDSView\"},{\"attributes\":{\"fill_color\":{\"value\":\"#8DD644\"},\"line_color\":{\"value\":\"#8DD644\"},\"x\":{\"field\":\"TimeGenerated\"},\"y\":{\"field\":\"y_index\"}},\"id\":\"7684\",\"type\":\"Circle\"},{\"attributes\":{},\"id\":\"7621\",\"type\":\"LinearScale\"},{\"attributes\":{},\"id\":\"7801\",\"type\":\"UnionRenderers\"},{\"attributes\":{\"data\":{\"AppResourceProvider\":[\"Azure Advanced Threat Protection\",\"Azure Advanced Threat Protection\",\"Azure Advanced Threat Protection\",\"Azure Advanced Threat Protection\"],\"IPAddress\":[\"109.88.218.99\",\"109.88.218.99\",\"109.88.218.99\",\"109.88.218.99\"],\"Operation\":[\"Sign-in activity\",\"Sign-in activity\",\"Sign-in activity\",\"Sign-in activity\"],\"TimeGenerated\":{\"__ndarray__\":\"AJAqeZCId0IAUPV5kIh3QgBAG+qTiHdCAFAAWpeId0I=\",\"dtype\":\"float64\",\"order\":\"little\",\"shape\":[4]},\"index\":[5,4,11,3],\"y_index\":[0,0,0,0]},\"selected\":{\"id\":\"7782\"},\"selection_policy\":{\"id\":\"7781\"}},\"id\":\"7570\",\"type\":\"ColumnDataSource\"},{\"attributes\":{},\"id\":\"7780\",\"type\":\"YearsTicker\"},{\"attributes\":{\"fill_alpha\":{\"value\":0.1},\"fill_color\":{\"value\":\"#1FA386\"},\"line_alpha\":{\"value\":0.1},\"line_color\":{\"value\":\"#1FA386\"},\"size\":{\"units\":\"screen\",\"value\":10},\"x\":{\"field\":\"TimeGenerated\"},\"y\":{\"field\":\"y_index\"}},\"id\":\"7739\",\"type\":\"Diamond\"},{\"attributes\":{\"source\":{\"id\":\"7578\"}},\"id\":\"7747\",\"type\":\"CDSView\"},{\"attributes\":{\"fill_alpha\":{\"value\":0.1},\"fill_color\":{\"value\":\"#8DD644\"},\"line_alpha\":{\"value\":0.1},\"line_color\":{\"value\":\"#8DD644\"},\"x\":{\"field\":\"TimeGenerated\"},\"y\":{\"field\":\"y_index\"}},\"id\":\"7685\",\"type\":\"Circle\"},{\"attributes\":{\"data_source\":{\"id\":\"7572\"},\"glyph\":{\"id\":\"7708\"},\"hover_glyph\":null,\"muted_glyph\":null,\"nonselection_glyph\":{\"id\":\"7709\"},\"selection_glyph\":null,\"view\":{\"id\":\"7711\"}},\"id\":\"7710\",\"type\":\"GlyphRenderer\"},{\"attributes\":{},\"id\":\"7796\",\"type\":\"Selection\"},{\"attributes\":{\"data_source\":{\"id\":\"7577\"},\"glyph\":{\"id\":\"7738\"},\"hover_glyph\":null,\"muted_glyph\":null,\"nonselection_glyph\":{\"id\":\"7739\"},\"selection_glyph\":null,\"view\":{\"id\":\"7741\"}},\"id\":\"7740\",\"type\":\"GlyphRenderer\"},{\"attributes\":{\"label\":{\"value\":\"OneDrive\"},\"renderers\":[{\"id\":\"7752\"}]},\"id\":\"7754\",\"type\":\"LegendItem\"},{\"attributes\":{\"source\":{\"id\":\"7574\"}},\"id\":\"7723\",\"type\":\"CDSView\"},{\"attributes\":{\"fill_alpha\":{\"value\":0.5},\"fill_color\":{\"value\":\"#5BC862\"},\"line_alpha\":{\"value\":0.5},\"line_color\":{\"value\":\"#5BC862\"},\"size\":{\"units\":\"screen\",\"value\":10},\"x\":{\"field\":\"TimeGenerated\"},\"y\":{\"field\":\"y_index\"}},\"id\":\"7750\",\"type\":\"Diamond\"},{\"attributes\":{},\"id\":\"7800\",\"type\":\"Selection\"},{\"attributes\":{},\"id\":\"7789\",\"type\":\"UnionRenderers\"},{\"attributes\":{\"num_minor_ticks\":10,\"tickers\":[{\"id\":\"7769\"},{\"id\":\"7770\"},{\"id\":\"7771\"},{\"id\":\"7772\"},{\"id\":\"7773\"},{\"id\":\"7774\"},{\"id\":\"7775\"},{\"id\":\"7776\"},{\"id\":\"7777\"},{\"id\":\"7778\"},{\"id\":\"7779\"},{\"id\":\"7780\"}]},\"id\":\"7594\",\"type\":\"DatetimeTicker\"},{\"attributes\":{\"fill_alpha\":{\"value\":0.1},\"fill_color\":{\"value\":\"#208F8C\"},\"line_alpha\":{\"value\":0.1},\"line_color\":{\"value\":\"#208F8C\"},\"size\":{\"units\":\"screen\",\"value\":10},\"x\":{\"field\":\"TimeGenerated\"},\"y\":{\"field\":\"y_index\"}},\"id\":\"7733\",\"type\":\"Diamond\"},{\"attributes\":{\"fill_alpha\":{\"value\":0.1},\"fill_color\":{\"value\":\"#3B518A\"},\"line_alpha\":{\"value\":0.1},\"line_color\":{\"value\":\"#3B518A\"},\"x\":{\"field\":\"TimeGenerated\"},\"y\":{\"field\":\"y_index\"}},\"id\":\"7650\",\"type\":\"Circle\"},{\"attributes\":{\"formatter\":{\"id\":\"7631\"},\"ticker\":{\"id\":\"7626\"}},\"id\":\"7625\",\"type\":\"DatetimeAxis\"},{\"attributes\":{\"days\":[1,15]},\"id\":\"7775\",\"type\":\"DaysTicker\"},{\"attributes\":{\"data_source\":{\"id\":\"7575\"},\"glyph\":{\"id\":\"7659\"},\"hover_glyph\":null,\"muted_glyph\":null,\"nonselection_glyph\":{\"id\":\"7660\"},\"selection_glyph\":null,\"view\":{\"id\":\"7662\"}},\"id\":\"7661\",\"type\":\"GlyphRenderer\"},{\"attributes\":{\"source\":{\"id\":\"7573\"}},\"id\":\"7717\",\"type\":\"CDSView\"},{\"attributes\":{\"axis_label\":\"Event Time\",\"formatter\":{\"id\":\"7693\"},\"ticker\":{\"id\":\"7594\"}},\"id\":\"7593\",\"type\":\"DatetimeAxis\"},{\"attributes\":{\"base\":24,\"mantissas\":[1,2,4,6,8,12],\"max_interval\":43200000.0,\"min_interval\":3600000.0,\"num_minor_ticks\":0},\"id\":\"7771\",\"type\":\"AdaptiveTicker\"},{\"attributes\":{},\"id\":\"7598\",\"type\":\"BasicTicker\"},{\"attributes\":{\"fill_color\":{\"value\":\"#30678D\"},\"line_color\":{\"value\":\"#30678D\"},\"x\":{\"field\":\"TimeGenerated\"},\"y\":{\"field\":\"y_index\"}},\"id\":\"7654\",\"type\":\"Circle\"},{\"attributes\":{\"axis\":{\"id\":\"7593\"},\"minor_grid_line_alpha\":0.3,\"minor_grid_line_color\":\"navy\",\"ticker\":null},\"id\":\"7596\",\"type\":\"Grid\"},{\"attributes\":{\"data_source\":{\"id\":\"7576\"},\"glyph\":{\"id\":\"7664\"},\"hover_glyph\":null,\"muted_glyph\":null,\"nonselection_glyph\":{\"id\":\"7665\"},\"selection_glyph\":null,\"view\":{\"id\":\"7667\"}},\"id\":\"7666\",\"type\":\"GlyphRenderer\"},{\"attributes\":{\"fill_alpha\":{\"value\":0.5},\"fill_color\":{\"value\":\"#440154\"},\"line_alpha\":{\"value\":0.5},\"line_color\":{\"value\":\"#440154\"},\"size\":{\"units\":\"screen\",\"value\":10},\"x\":{\"field\":\"TimeGenerated\"},\"y\":{\"field\":\"y_index\"}},\"id\":\"7696\",\"type\":\"Diamond\"},{\"attributes\":{\"months\":[0,4,8]},\"id\":\"7778\",\"type\":\"MonthsTicker\"},{\"attributes\":{\"source\":{\"id\":\"7572\"}},\"id\":\"7711\",\"type\":\"CDSView\"},{\"attributes\":{\"num_minor_ticks\":5,\"tickers\":[{\"id\":\"7804\"},{\"id\":\"7805\"},{\"id\":\"7806\"},{\"id\":\"7807\"},{\"id\":\"7808\"},{\"id\":\"7809\"},{\"id\":\"7810\"},{\"id\":\"7811\"},{\"id\":\"7812\"},{\"id\":\"7813\"},{\"id\":\"7814\"},{\"id\":\"7815\"}]},\"id\":\"7626\",\"type\":\"DatetimeTicker\"},{\"attributes\":{\"months\":[0,4,8]},\"id\":\"7813\",\"type\":\"MonthsTicker\"},{\"attributes\":{\"fill_alpha\":{\"value\":0.5},\"fill_color\":{\"value\":\"#287B8E\"},\"line_alpha\":{\"value\":0.5},\"line_color\":{\"value\":\"#287B8E\"},\"size\":{\"units\":\"screen\",\"value\":10},\"x\":{\"field\":\"TimeGenerated\"},\"y\":{\"field\":\"y_index\"}},\"id\":\"7726\",\"type\":\"Diamond\"},{\"attributes\":{\"fill_alpha\":{\"value\":0.1},\"fill_color\":{\"value\":\"#8DD644\"},\"line_alpha\":{\"value\":0.1},\"line_color\":{\"value\":\"#8DD644\"},\"size\":{\"units\":\"screen\",\"value\":10},\"x\":{\"field\":\"TimeGenerated\"},\"y\":{\"field\":\"y_index\"}},\"id\":\"7757\",\"type\":\"Diamond\"},{\"attributes\":{\"fill_color\":{\"value\":\"#208F8C\"},\"line_color\":{\"value\":\"#208F8C\"},\"x\":{\"field\":\"TimeGenerated\"},\"y\":{\"field\":\"y_index\"}},\"id\":\"7664\",\"type\":\"Circle\"},{\"attributes\":{\"days\":[1,2,3,4,5,6,7,8,9,10,11,12,13,14,15,16,17,18,19,20,21,22,23,24,25,26,27,28,29,30,31]},\"id\":\"7772\",\"type\":\"DaysTicker\"},{\"attributes\":{\"fill_color\":{\"value\":\"#440154\"},\"line_color\":{\"value\":\"#440154\"},\"x\":{\"field\":\"TimeGenerated\"},\"y\":{\"field\":\"y_index\"}},\"id\":\"7634\",\"type\":\"Circle\"},{\"attributes\":{\"fill_color\":{\"value\":\"#287B8E\"},\"line_color\":{\"value\":\"#287B8E\"},\"x\":{\"field\":\"TimeGenerated\"},\"y\":{\"field\":\"y_index\"}},\"id\":\"7659\",\"type\":\"Circle\"},{\"attributes\":{\"source\":{\"id\":\"7577\"}},\"id\":\"7672\",\"type\":\"CDSView\"},{\"attributes\":{},\"id\":\"7794\",\"type\":\"Selection\"},{\"attributes\":{\"formatter\":{\"id\":\"7767\"},\"ticker\":{\"id\":\"7598\"},\"visible\":false},\"id\":\"7597\",\"type\":\"LinearAxis\"},{\"attributes\":{\"fill_color\":{\"value\":\"#5BC862\"},\"line_color\":{\"value\":\"#5BC862\"},\"x\":{\"field\":\"TimeGenerated\"},\"y\":{\"field\":\"y_index\"}},\"id\":\"7679\",\"type\":\"Circle\"},{\"attributes\":{},\"id\":\"7802\",\"type\":\"Selection\"},{\"attributes\":{},\"id\":\"7787\",\"type\":\"UnionRenderers\"},{\"attributes\":{\"days\":[1,4,7,10,13,16,19,22,25,28]},\"id\":\"7808\",\"type\":\"DaysTicker\"},{\"attributes\":{\"data_source\":{\"id\":\"7572\"},\"glyph\":{\"id\":\"7644\"},\"hover_glyph\":null,\"muted_glyph\":null,\"nonselection_glyph\":{\"id\":\"7645\"},\"selection_glyph\":null,\"view\":{\"id\":\"7647\"}},\"id\":\"7646\",\"type\":\"GlyphRenderer\"},{\"attributes\":{\"data_source\":{\"id\":\"7577\"},\"glyph\":{\"id\":\"7669\"},\"hover_glyph\":null,\"muted_glyph\":null,\"nonselection_glyph\":{\"id\":\"7670\"},\"selection_glyph\":null,\"view\":{\"id\":\"7672\"}},\"id\":\"7671\",\"type\":\"GlyphRenderer\"},{\"attributes\":{\"fill_color\":{\"value\":\"#35B778\"},\"line_color\":{\"value\":\"#35B778\"},\"x\":{\"field\":\"TimeGenerated\"},\"y\":{\"field\":\"y_index\"}},\"id\":\"7674\",\"type\":\"Circle\"},{\"attributes\":{\"data\":{\"AppResourceProvider\":[\"MicrosoftTeams\",\"MicrosoftTeams\",\"MicrosoftTeams\",\"MicrosoftTeams\",\"MicrosoftTeams\",\"MicrosoftTeams\",\"MicrosoftTeams\",\"MicrosoftTeams\",\"MicrosoftTeams\",\"MicrosoftTeams\",\"MicrosoftTeams\",\"MicrosoftTeams\"],\"IPAddress\":[\"\",\"\",\"\",\"\",\"\",\"\",\"\",\"\",\"\",\"\",\"\",\"\"],\"Operation\":[\"TeamsSessionStarted\",\"TeamsSessionStarted\",\"TeamsSessionStarted\",\"TeamsSessionStarted\",\"TeamsSessionStarted\",\"TeamsSessionStarted\",\"TeamsSessionStarted\",\"TeamsSessionStarted\",\"TeamsSessionStarted\",\"TeamsSessionStarted\",\"TeamsSessionStarted\",\"TeamsSessionStarted\"],\"TimeGenerated\":{\"__ndarray__\":\"AABCUMOId0IAgP1Qw4h3QgAAp1TDiHdCAIDHWcOId0IAAHxww4h3QgAAUnfDiHdCAADJeMOId0IAAFL0w4h3QgAAz/TDiHdCAIAiJMaId0IAAGEkxoh3QgCAnyTGiHdC\",\"dtype\":\"float64\",\"order\":\"little\",\"shape\":[12]},\"index\":[122,123,124,125,128,126,127,111,110,114,113,115],\"y_index\":[6,6,6,6,6,6,6,6,6,6,6,6]},\"selected\":{\"id\":\"7794\"},\"selection_policy\":{\"id\":\"7793\"}},\"id\":\"7576\",\"type\":\"ColumnDataSource\"},{\"attributes\":{},\"id\":\"7785\",\"type\":\"UnionRenderers\"},{\"attributes\":{\"fill_color\":{\"value\":\"#443982\"},\"line_color\":{\"value\":\"#443982\"},\"x\":{\"field\":\"TimeGenerated\"},\"y\":{\"field\":\"y_index\"}},\"id\":\"7644\",\"type\":\"Circle\"},{\"attributes\":{},\"id\":\"7792\",\"type\":\"Selection\"},{\"attributes\":{\"data_source\":{\"id\":\"7570\"},\"glyph\":{\"id\":\"7634\"},\"hover_glyph\":null,\"muted_glyph\":null,\"nonselection_glyph\":{\"id\":\"7635\"},\"selection_glyph\":null,\"view\":{\"id\":\"7637\"}},\"id\":\"7636\",\"type\":\"GlyphRenderer\"},{\"attributes\":{\"source\":{\"id\":\"7575\"}},\"id\":\"7729\",\"type\":\"CDSView\"},{\"attributes\":{\"axis\":{\"id\":\"7597\"},\"dimension\":1,\"grid_line_color\":null,\"ticker\":null},\"id\":\"7600\",\"type\":\"Grid\"},{\"attributes\":{},\"id\":\"7767\",\"type\":\"BasicTickFormatter\"},{\"attributes\":{\"data_source\":{\"id\":\"7578\"},\"glyph\":{\"id\":\"7674\"},\"hover_glyph\":null,\"muted_glyph\":null,\"nonselection_glyph\":{\"id\":\"7675\"},\"selection_glyph\":null,\"view\":{\"id\":\"7677\"}},\"id\":\"7676\",\"type\":\"GlyphRenderer\"},{\"attributes\":{\"fill_alpha\":{\"value\":0.1},\"fill_color\":{\"value\":\"#440154\"},\"line_alpha\":{\"value\":0.1},\"line_color\":{\"value\":\"#440154\"},\"size\":{\"units\":\"screen\",\"value\":10},\"x\":{\"field\":\"TimeGenerated\"},\"y\":{\"field\":\"y_index\"}},\"id\":\"7697\",\"type\":\"Diamond\"},{\"attributes\":{\"source\":{\"id\":\"7576\"}},\"id\":\"7735\",\"type\":\"CDSView\"},{\"attributes\":{\"source\":{\"id\":\"7570\"}},\"id\":\"7699\",\"type\":\"CDSView\"},{\"attributes\":{\"data\":{\"AppResourceProvider\":[\"OneDrive\",\"OneDrive\",\"OneDrive\",\"OneDrive\",\"OneDrive\",\"OneDrive\",\"OneDrive\",\"OneDrive\",\"OneDrive\",\"OneDrive\",\"OneDrive\",\"OneDrive\",\"OneDrive\",\"OneDrive\",\"OneDrive\",\"OneDrive\",\"OneDrive\",\"OneDrive\",\"OneDrive\",\"OneDrive\",\"OneDrive\",\"OneDrive\",\"OneDrive\",\"OneDrive\",\"OneDrive\",\"OneDrive\",\"OneDrive\",\"OneDrive\",\"OneDrive\",\"OneDrive\",\"OneDrive\",\"OneDrive\",\"OneDrive\",\"OneDrive\",\"OneDrive\",\"OneDrive\",\"OneDrive\",\"OneDrive\",\"OneDrive\"],\"IPAddress\":[\"40.83.137.154\",\"40.83.137.154\",\"40.83.137.154\",\"40.83.137.154\",\"40.83.137.154\",\"40.83.137.154\",\"40.83.137.154\",\"40.83.137.154\",\"40.83.137.154\",\"40.83.137.154\",\"40.83.137.154\",\"40.83.137.154\",\"40.83.137.154\",\"40.83.137.154\",\"40.83.137.154\",\"40.83.137.154\",\"40.83.137.154\",\"40.83.137.154\",\"40.83.137.154\",\"40.83.137.154\",\"40.83.137.154\",\"40.83.137.154\",\"40.83.137.154\",\"40.83.137.154\",\"40.83.137.154\",\"40.83.137.154\",\"40.83.137.154\",\"40.83.137.154\",\"40.83.137.154\",\"40.83.137.154\",\"40.83.137.154\",\"40.83.137.154\",\"40.83.137.154\",\"40.83.137.154\",\"40.83.137.154\",\"40.83.137.154\",\"40.83.137.154\",\"40.83.137.154\",\"40.83.137.154\"],\"Operation\":[\"FileAccessed\",\"FileModified\",\"FileAccessed\",\"FileModified\",\"FileAccessed\",\"FileModified\",\"FileAccessed\",\"FileModified\",\"FileAccessed\",\"FileModified\",\"FileAccessed\",\"FileModified\",\"FileAccessed\",\"FileModified\",\"FileModified\",\"FileModified\",\"FileAccessed\",\"FileModified\",\"FileModified\",\"FileAccessed\",\"FileModified\",\"FileAccessed\",\"FileModified\",\"FileAccessed\",\"FileModified\",\"FileModified\",\"FileAccessed\",\"FileModified\",\"FileAccessed\",\"FileModified\",\"FileModified\",\"FileModified\",\"FileModified\",\"FileAccessed\",\"FileModified\",\"FileModified\",\"FileModified\",\"FileModified\",\"FileModified\"],\"TimeGenerated\":{\"__ndarray__\":\"AACOs+GId0IAAAu04Yh3QgAAiLThiHdCAIBDteGId0IAAIK14Yh3QgCAPbbhiHdCAAB8tuGId0IAAPm24Yh3QgCAN7fhiHdCAADzt+GId0IAAHC44Yh3QgAA7bjhiHdCAIArueGId0IAgKi54Yh3QgCAorrhiHdCAIAfu+GId0IAAF674Yh3QgAA27vhiHdCAICWvOGId0IAANW84Yh3QgCAkL3hiHdCAABMvuGId0IAgAe/4Yh3QgCAhL/hiHdCAIABwOGId0IAAL3A4Yh3QgCA+8DhiHdCAIB4weGId0IAADTC4Yh3QgCA78LhiHdCAIDpw+GId0IAAKXE4Yh3QgCAYMXhiHdCAACfxeGId0IAABzG4Yh3QgCA18bhiHdCAIBUx+GId0IAAI3I4Yh3QgAACsnhiHdC\",\"dtype\":\"float64\",\"order\":\"little\",\"shape\":[39]},\"index\":[155,141,171,168,140,174,167,139,138,166,137,170,169,165,173,172,136,135,134,164,163,133,189,157,188,132,131,156,162,130,161,160,191,187,186,159,158,190,185],\"y_index\":[9,9,9,9,9,9,9,9,9,9,9,9,9,9,9,9,9,9,9,9,9,9,9,9,9,9,9,9,9,9,9,9,9,9,9,9,9,9,9]},\"selected\":{\"id\":\"7800\"},\"selection_policy\":{\"id\":\"7799\"}},\"id\":\"7579\",\"type\":\"ColumnDataSource\"},{\"attributes\":{\"data_source\":{\"id\":\"7574\"},\"glyph\":{\"id\":\"7720\"},\"hover_glyph\":null,\"muted_glyph\":null,\"nonselection_glyph\":{\"id\":\"7721\"},\"selection_glyph\":null,\"view\":{\"id\":\"7723\"}},\"id\":\"7722\",\"type\":\"GlyphRenderer\"},{\"attributes\":{},\"id\":\"7619\",\"type\":\"DataRange1d\"},{\"attributes\":{\"source\":{\"id\":\"7571\"}},\"id\":\"7705\",\"type\":\"CDSView\"},{\"attributes\":{\"label\":{\"value\":\"Microsoft 365 Security and Compliance Center\"},\"renderers\":[{\"id\":\"7716\"}]},\"id\":\"7718\",\"type\":\"LegendItem\"},{\"attributes\":{\"fill_alpha\":{\"value\":0.1},\"fill_color\":{\"value\":\"#481E70\"},\"line_alpha\":{\"value\":0.1},\"line_color\":{\"value\":\"#481E70\"},\"x\":{\"field\":\"TimeGenerated\"},\"y\":{\"field\":\"y_index\"}},\"id\":\"7640\",\"type\":\"Circle\"},{\"attributes\":{\"fill_alpha\":{\"value\":0.1},\"fill_color\":{\"value\":\"#35B778\"},\"line_alpha\":{\"value\":0.1},\"line_color\":{\"value\":\"#35B778\"},\"x\":{\"field\":\"TimeGenerated\"},\"y\":{\"field\":\"y_index\"}},\"id\":\"7675\",\"type\":\"Circle\"},{\"attributes\":{\"align\":\"right\",\"text\":\"Drag the middle or edges of the selection box to change the range in the main chart\",\"text_font_size\":{\"value\":\"10px\"}},\"id\":\"7630\",\"type\":\"Title\"},{\"attributes\":{\"dimensions\":\"width\"},\"id\":\"7601\",\"type\":\"WheelZoomTool\"},{\"attributes\":{\"label\":{\"value\":\"Azure Advanced Threat Protection\"},\"renderers\":[{\"id\":\"7698\"}]},\"id\":\"7700\",\"type\":\"LegendItem\"},{\"attributes\":{\"fill_alpha\":{\"value\":0.1},\"fill_color\":{\"value\":\"#440154\"},\"line_alpha\":{\"value\":0.1},\"line_color\":{\"value\":\"#440154\"},\"x\":{\"field\":\"TimeGenerated\"},\"y\":{\"field\":\"y_index\"}},\"id\":\"7635\",\"type\":\"Circle\"},{\"attributes\":{\"data_source\":{\"id\":\"7570\"},\"glyph\":{\"id\":\"7696\"},\"hover_glyph\":null,\"muted_glyph\":null,\"nonselection_glyph\":{\"id\":\"7697\"},\"selection_glyph\":null,\"view\":{\"id\":\"7699\"}},\"id\":\"7698\",\"type\":\"GlyphRenderer\"},{\"attributes\":{\"data\":{\"AppResourceProvider\":[\"Microsoft Teams Web Client\",\"Microsoft Teams Web Client\",\"Microsoft Teams Web Client\",\"Microsoft Teams Web Client\",\"Microsoft Teams Web Client\",\"Microsoft Teams Web Client\",\"Microsoft Teams Web Client\",\"Microsoft Teams Web Client\",\"Microsoft Teams Web Client\",\"Microsoft Teams Web Client\",\"Microsoft Teams Web Client\",\"Microsoft Teams Web Client\",\"Microsoft Teams Web Client\",\"Microsoft Teams Web Client\",\"Microsoft Teams Web Client\",\"Microsoft Teams Web Client\",\"Microsoft Teams Web Client\",\"Microsoft Teams Web Client\",\"Microsoft Teams Web Client\",\"Microsoft Teams Web Client\",\"Microsoft Teams Web Client\",\"Microsoft Teams Web Client\",\"Microsoft Teams Web Client\",\"Microsoft Teams Web Client\",\"Microsoft Teams Web Client\",\"Microsoft Teams Web Client\",\"Microsoft Teams Web Client\",\"Microsoft Teams Web Client\",\"Microsoft Teams Web Client\",\"Microsoft Teams Web Client\",\"Microsoft Teams Web Client\",\"Microsoft Teams Web Client\",\"Microsoft Teams Web Client\",\"Microsoft Teams Web Client\",\"Microsoft Teams Web Client\",\"Microsoft Teams Web Client\",\"Microsoft Teams Web Client\",\"Microsoft Teams Web Client\",\"Microsoft Teams Web Client\",\"Microsoft Teams Web Client\",\"Microsoft Teams Web Client\",\"Microsoft Teams Web Client\",\"Microsoft Teams Web Client\",\"Microsoft Teams Web Client\",\"Microsoft Teams Web Client\",\"Microsoft Teams Web Client\",\"Microsoft Teams Web Client\",\"Microsoft Teams Web Client\",\"Microsoft Teams Web Client\",\"Microsoft Teams Web Client\",\"Microsoft Teams Web Client\",\"Microsoft Teams Web Client\",\"Microsoft Teams Web Client\",\"Microsoft Teams Web Client\",\"Microsoft Teams Web Client\",\"Microsoft Teams Web Client\",\"Microsoft Teams Web Client\",\"Microsoft Teams Web Client\",\"Microsoft Teams Web Client\",\"Microsoft Teams Web Client\",\"Microsoft Teams Web Client\",\"Microsoft Teams Web Client\",\"Microsoft Teams Web Client\",\"Microsoft Teams Web Client\",\"Microsoft Teams Web Client\",\"Microsoft Teams Web Client\",\"Microsoft Teams Web Client\",\"Microsoft Teams Web Client\"],\"IPAddress\":[\"109.88.218.99\",\"109.88.218.99\",\"109.88.218.99\",\"109.88.218.99\",\"109.88.218.99\",\"109.88.218.99\",\"109.88.218.99\",\"109.88.218.99\",\"109.88.218.99\",\"109.88.218.99\",\"109.88.218.99\",\"109.88.218.99\",\"109.88.218.99\",\"109.88.218.99\",\"109.88.218.99\",\"109.88.218.99\",\"109.88.218.99\",\"109.88.218.99\",\"109.88.218.99\",\"109.88.218.99\",\"109.88.218.99\",\"109.88.218.99\",\"109.88.218.99\",\"109.88.218.99\",\"109.88.218.99\",\"109.88.218.99\",\"109.88.218.99\",\"109.88.218.99\",\"109.88.218.99\",\"109.88.218.99\",\"109.88.218.99\",\"109.88.218.99\",\"109.88.218.99\",\"109.88.218.99\",\"109.88.218.99\",\"109.88.218.99\",\"109.88.218.99\",\"109.88.218.99\",\"109.88.218.99\",\"109.88.218.99\",\"109.88.218.99\",\"109.88.218.99\",\"109.88.218.99\",\"109.88.218.99\",\"109.88.218.99\",\"109.88.218.99\",\"109.88.218.99\",\"109.88.218.99\",\"109.88.218.99\",\"109.88.218.99\",\"109.88.218.99\",\"109.88.218.99\",\"109.88.218.99\",\"109.88.218.99\",\"109.88.218.99\",\"109.88.218.99\",\"109.88.218.99\",\"109.88.218.99\",\"109.88.218.99\",\"109.88.218.99\",\"109.88.218.99\",\"109.88.218.99\",\"109.88.218.99\",\"109.88.218.99\",\"109.88.218.99\",\"109.88.218.99\",\"109.88.218.99\",\"109.88.218.99\"],\"Operation\":[\"Sign-in activity\",\"Sign-in activity\",\"Sign-in activity\",\"Sign-in activity\",\"Sign-in activity\",\"Sign-in activity\",\"Sign-in activity\",\"Sign-in activity\",\"Sign-in activity\",\"Sign-in activity\",\"Sign-in activity\",\"Sign-in activity\",\"Sign-in activity\",\"Sign-in activity\",\"Sign-in activity\",\"Sign-in activity\",\"Sign-in activity\",\"Sign-in activity\",\"Sign-in activity\",\"Sign-in activity\",\"Sign-in activity\",\"Sign-in activity\",\"Sign-in activity\",\"Sign-in activity\",\"Sign-in activity\",\"Sign-in activity\",\"Sign-in activity\",\"Sign-in activity\",\"Sign-in activity\",\"Sign-in activity\",\"Sign-in activity\",\"Sign-in activity\",\"Sign-in activity\",\"Sign-in activity\",\"Sign-in activity\",\"Sign-in activity\",\"Sign-in activity\",\"Sign-in activity\",\"Sign-in activity\",\"Sign-in activity\",\"Sign-in activity\",\"Sign-in activity\",\"Sign-in activity\",\"Sign-in activity\",\"Sign-in activity\",\"Sign-in activity\",\"Sign-in activity\",\"Sign-in activity\",\"Sign-in activity\",\"Sign-in activity\",\"Sign-in activity\",\"Sign-in activity\",\"Sign-in activity\",\"Sign-in activity\",\"Sign-in activity\",\"Sign-in activity\",\"Sign-in activity\",\"Sign-in activity\",\"Sign-in activity\",\"Sign-in activity\",\"Sign-in activity\",\"Sign-in activity\",\"Sign-in activity\",\"Sign-in activity\",\"Sign-in activity\",\"Sign-in activity\",\"Sign-in activity\",\"Sign-in activity\"],\"TimeGenerated\":{\"__ndarray__\":\"AIA+X8OId0IA4HFgw4h3QgBQbGHDiHdCALBuYcOId0IAYB5iw4h3QgAQ7HDDiHdCANALccOId0IAEH1xw4h3QgCgnHHDiHdCAECzccOId0IA4NBxw4h3QgBA3HHDiHdCAPBAcsOId0IAQIyWxoh3QgAwpJvGiHdCAMBNf8eId0IAMBf2x4h3QgAA1MrJiHdCAGDzz8mId0IAcLLYyoh3QgAgnATLiHdCAKBQBcuId0IAEIoFy4h3QgAAkZfLiHdCAEBF/suId0IAcCwHzYh3QgDQPwfNiHdCAHBpSs6Id0IA8Gd2zoh3QgAwR3jOiHdCAKBJeM6Id0IA0GcJz4h3QgDQKnDPiHdCANCZL9CId0IAEN8+0Ih3QgBgnE/SiHdCAPAaq9KId0IAYIfg0oh3QgCgjuHSiHdCACC6DdOId0IAULEO04h3QgBQuw7TiHdCAEAiV9OId0IAYFp104h3QgCQr6DTiHdCACCRwNWId0IAwPQF1oh3QgBArlHWiHdCABCjUtaId0IAYB1/1oh3QgAAJ3/WiHdCAOA0f9aId0IAEDZ/1oh3QgDw8KrWiHdCAFDNEdeId0IAUHwy2Yh3QgBgpGnZiHdCANBtpdmId0IA8MHC2Yh3QgDgqMPZiHdCAAAwrtuId0IAMIyv24h3QgAAOLDbiHdCAEBmsNuId0IA4Iqw24h3QgDworDbiHdCAOCtsNuId0IA8Iux24h3Qg==\",\"dtype\":\"float64\",\"order\":\"little\",\"shape\":[68]},\"index\":[20,19,22,25,26,31,29,32,24,30,2,28,27,34,33,35,36,12,37,38,14,13,39,58,69,70,71,40,41,42,43,72,73,44,84,74,45,75,46,86,76,85,87,88,59,77,78,60,61,62,80,79,63,89,47,81,48,49,50,82,52,54,56,57,55,51,83,53],\"y_index\":[5,5,5,5,5,5,5,5,5,5,5,5,5,5,5,5,5,5,5,5,5,5,5,5,5,5,5,5,5,5,5,5,5,5,5,5,5,5,5,5,5,5,5,5,5,5,5,5,5,5,5,5,5,5,5,5,5,5,5,5,5,5,5,5,5,5,5,5]},\"selected\":{\"id\":\"7792\"},\"selection_policy\":{\"id\":\"7791\"}},\"id\":\"7575\",\"type\":\"ColumnDataSource\"},{\"attributes\":{},\"id\":\"7604\",\"type\":\"SaveTool\"},{\"attributes\":{\"source\":{\"id\":\"7572\"}},\"id\":\"7647\",\"type\":\"CDSView\"},{\"attributes\":{\"overlay\":{\"id\":\"7606\"}},\"id\":\"7602\",\"type\":\"BoxZoomTool\"},{\"attributes\":{\"fill_alpha\":{\"value\":0.1},\"fill_color\":{\"value\":\"#1FA386\"},\"line_alpha\":{\"value\":0.1},\"line_color\":{\"value\":\"#1FA386\"},\"x\":{\"field\":\"TimeGenerated\"},\"y\":{\"field\":\"y_index\"}},\"id\":\"7670\",\"type\":\"Circle\"},{\"attributes\":{\"mantissas\":[1,2,5],\"max_interval\":500.0,\"num_minor_ticks\":0},\"id\":\"7804\",\"type\":\"AdaptiveTicker\"},{\"attributes\":{},\"id\":\"7603\",\"type\":\"ResetTool\"},{\"attributes\":{\"source\":{\"id\":\"7574\"}},\"id\":\"7657\",\"type\":\"CDSView\"},{\"attributes\":{},\"id\":\"7790\",\"type\":\"Selection\"},{\"attributes\":{\"base\":24,\"mantissas\":[1,2,4,6,8,12],\"max_interval\":43200000.0,\"min_interval\":3600000.0,\"num_minor_ticks\":0},\"id\":\"7806\",\"type\":\"AdaptiveTicker\"},{\"attributes\":{\"data\":{\"AppResourceProvider\":[\"Microsoft 365 Security and Compliance Center\",\"Microsoft 365 Security and Compliance Center\",\"Microsoft 365 Security and Compliance Center\"],\"IPAddress\":[\"109.88.218.99\",\"109.88.218.99\",\"109.88.218.99\"],\"Operation\":[\"Sign-in activity\",\"Sign-in activity\",\"Sign-in activity\"],\"TimeGenerated\":{\"__ndarray__\":\"APDctZCId0IAECAe24h3QgBAWh7biHdC\",\"dtype\":\"float64\",\"order\":\"little\",\"shape\":[3]},\"index\":[7,66,64],\"y_index\":[3,3,3]},\"selected\":{\"id\":\"7788\"},\"selection_policy\":{\"id\":\"7787\"}},\"id\":\"7573\",\"type\":\"ColumnDataSource\"},{\"attributes\":{\"fill_color\":{\"value\":\"#1FA386\"},\"line_color\":{\"value\":\"#1FA386\"},\"x\":{\"field\":\"TimeGenerated\"},\"y\":{\"field\":\"y_index\"}},\"id\":\"7669\",\"type\":\"Circle\"},{\"attributes\":{\"label\":{\"value\":\"Azure Portal\"},\"renderers\":[{\"id\":\"7704\"}]},\"id\":\"7706\",\"type\":\"LegendItem\"},{\"attributes\":{\"days\":[1,4,7,10,13,16,19,22,25,28]},\"id\":\"7773\",\"type\":\"DaysTicker\"},{\"attributes\":{\"months\":[0,6]},\"id\":\"7814\",\"type\":\"MonthsTicker\"},{\"attributes\":{\"dimensions\":\"width\"},\"id\":\"7605\",\"type\":\"PanTool\"},{\"attributes\":{\"months\":[0,1,2,3,4,5,6,7,8,9,10,11]},\"id\":\"7776\",\"type\":\"MonthsTicker\"},{\"attributes\":{},\"id\":\"7793\",\"type\":\"UnionRenderers\"},{\"attributes\":{\"months\":[0,1,2,3,4,5,6,7,8,9,10,11]},\"id\":\"7811\",\"type\":\"MonthsTicker\"},{\"attributes\":{\"data_source\":{\"id\":\"7580\"},\"glyph\":{\"id\":\"7756\"},\"hover_glyph\":null,\"muted_glyph\":null,\"nonselection_glyph\":{\"id\":\"7757\"},\"selection_glyph\":null,\"view\":{\"id\":\"7759\"}},\"id\":\"7758\",\"type\":\"GlyphRenderer\"},{\"attributes\":{\"fill_alpha\":{\"value\":0.5},\"fill_color\":{\"value\":\"#481E70\"},\"line_alpha\":{\"value\":0.5},\"line_color\":{\"value\":\"#481E70\"},\"size\":{\"units\":\"screen\",\"value\":10},\"x\":{\"field\":\"TimeGenerated\"},\"y\":{\"field\":\"y_index\"}},\"id\":\"7702\",\"type\":\"Diamond\"},{\"attributes\":{\"bottom_units\":\"screen\",\"fill_alpha\":0.5,\"fill_color\":\"lightgrey\",\"left_units\":\"screen\",\"level\":\"overlay\",\"line_alpha\":1.0,\"line_color\":\"black\",\"line_dash\":[4,4],\"line_width\":2,\"right_units\":\"screen\",\"top_units\":\"screen\"},\"id\":\"7606\",\"type\":\"BoxAnnotation\"},{\"attributes\":{\"months\":[0,2,4,6,8,10]},\"id\":\"7812\",\"type\":\"MonthsTicker\"},{\"attributes\":{\"data\":{\"AppResourceProvider\":[\"Office 365 Exchange Online\"],\"IPAddress\":[\"109.88.218.99\"],\"Operation\":[\"Sign-in activity\"],\"TimeGenerated\":{\"__ndarray__\":\"AEAGNcOId0I=\",\"dtype\":\"float64\",\"order\":\"little\",\"shape\":[1]},\"index\":[1],\"y_index\":[7]},\"selected\":{\"id\":\"7796\"},\"selection_policy\":{\"id\":\"7795\"}},\"id\":\"7577\",\"type\":\"ColumnDataSource\"},{\"attributes\":{\"fill_alpha\":{\"value\":0.1},\"fill_color\":{\"value\":\"#30678D\"},\"line_alpha\":{\"value\":0.1},\"line_color\":{\"value\":\"#30678D\"},\"x\":{\"field\":\"TimeGenerated\"},\"y\":{\"field\":\"y_index\"}},\"id\":\"7655\",\"type\":\"Circle\"},{\"attributes\":{\"base\":60,\"mantissas\":[1,2,5,10,15,20,30],\"max_interval\":1800000.0,\"min_interval\":1000.0,\"num_minor_ticks\":0},\"id\":\"7770\",\"type\":\"AdaptiveTicker\"},{\"attributes\":{},\"id\":\"7798\",\"type\":\"Selection\"},{\"attributes\":{\"fill_alpha\":{\"value\":0.1},\"fill_color\":{\"value\":\"#443982\"},\"line_alpha\":{\"value\":0.1},\"line_color\":{\"value\":\"#443982\"},\"x\":{\"field\":\"TimeGenerated\"},\"y\":{\"field\":\"y_index\"}},\"id\":\"7645\",\"type\":\"Circle\"},{\"attributes\":{\"source\":{\"id\":\"7576\"}},\"id\":\"7667\",\"type\":\"CDSView\"},{\"attributes\":{\"source\":{\"id\":\"7570\"}},\"id\":\"7637\",\"type\":\"CDSView\"},{\"attributes\":{\"data\":{\"AppResourceProvider\":[\"Microsoft Cloud App Security\"],\"IPAddress\":[\"109.88.218.99\"],\"Operation\":[\"Sign-in activity\"],\"TimeGenerated\":{\"__ndarray__\":\"AJB4uJCId0I=\",\"dtype\":\"float64\",\"order\":\"little\",\"shape\":[1]},\"index\":[10],\"y_index\":[4]},\"selected\":{\"id\":\"7790\"},\"selection_policy\":{\"id\":\"7789\"}},\"id\":\"7574\",\"type\":\"ColumnDataSource\"},{\"attributes\":{\"days\":[1,8,15,22]},\"id\":\"7774\",\"type\":\"DaysTicker\"},{\"attributes\":{\"data_source\":{\"id\":\"7579\"},\"glyph\":{\"id\":\"7750\"},\"hover_glyph\":null,\"muted_glyph\":null,\"nonselection_glyph\":{\"id\":\"7751\"},\"selection_glyph\":null,\"view\":{\"id\":\"7753\"}},\"id\":\"7752\",\"type\":\"GlyphRenderer\"},{\"attributes\":{\"data_source\":{\"id\":\"7576\"},\"glyph\":{\"id\":\"7732\"},\"hover_glyph\":null,\"muted_glyph\":null,\"nonselection_glyph\":{\"id\":\"7733\"},\"selection_glyph\":null,\"view\":{\"id\":\"7735\"}},\"id\":\"7734\",\"type\":\"GlyphRenderer\"},{\"attributes\":{\"days\":[\"%m-%d %H:%M\"],\"hours\":[\"%H:%M:%S\"],\"milliseconds\":[\"%H:%M:%S.%3N\"],\"minutes\":[\"%H:%M:%S\"],\"seconds\":[\"%H:%M:%S\"]},\"id\":\"7693\",\"type\":\"DatetimeTickFormatter\"},{\"attributes\":{\"below\":[{\"id\":\"7625\"},{\"id\":\"7630\"}],\"center\":[{\"id\":\"7628\"}],\"plot_height\":120,\"plot_width\":900,\"renderers\":[{\"id\":\"7636\"},{\"id\":\"7641\"},{\"id\":\"7646\"},{\"id\":\"7651\"},{\"id\":\"7656\"},{\"id\":\"7661\"},{\"id\":\"7666\"},{\"id\":\"7671\"},{\"id\":\"7676\"},{\"id\":\"7681\"},{\"id\":\"7686\"}],\"title\":{\"id\":\"7615\"},\"toolbar\":{\"id\":\"7629\"},\"toolbar_location\":null,\"x_range\":{\"id\":\"7617\"},\"x_scale\":{\"id\":\"7621\"},\"y_range\":{\"id\":\"7619\"},\"y_scale\":{\"id\":\"7623\"}},\"id\":\"7614\",\"subtype\":\"Figure\",\"type\":\"Plot\"},{\"attributes\":{},\"id\":\"7815\",\"type\":\"YearsTicker\"},{\"attributes\":{\"fill_alpha\":{\"value\":0.5},\"fill_color\":{\"value\":\"#208F8C\"},\"line_alpha\":{\"value\":0.5},\"line_color\":{\"value\":\"#208F8C\"},\"size\":{\"units\":\"screen\",\"value\":10},\"x\":{\"field\":\"TimeGenerated\"},\"y\":{\"field\":\"y_index\"}},\"id\":\"7732\",\"type\":\"Diamond\"},{\"attributes\":{\"days\":[\"%m-%d %H:%M\"],\"hours\":[\"%H:%M:%S\"],\"milliseconds\":[\"%H:%M:%S.%3N\"],\"minutes\":[\"%H:%M:%S\"],\"seconds\":[\"%H:%M:%S\"]},\"id\":\"7631\",\"type\":\"DatetimeTickFormatter\"},{\"attributes\":{\"data_source\":{\"id\":\"7573\"},\"glyph\":{\"id\":\"7649\"},\"hover_glyph\":null,\"muted_glyph\":null,\"nonselection_glyph\":{\"id\":\"7650\"},\"selection_glyph\":null,\"view\":{\"id\":\"7652\"}},\"id\":\"7651\",\"type\":\"GlyphRenderer\"},{\"attributes\":{\"fill_alpha\":{\"value\":0.1},\"fill_color\":{\"value\":\"#287B8E\"},\"line_alpha\":{\"value\":0.1},\"line_color\":{\"value\":\"#287B8E\"},\"size\":{\"units\":\"screen\",\"value\":10},\"x\":{\"field\":\"TimeGenerated\"},\"y\":{\"field\":\"y_index\"}},\"id\":\"7727\",\"type\":\"Diamond\"},{\"attributes\":{\"source\":{\"id\":\"7579\"}},\"id\":\"7682\",\"type\":\"CDSView\"},{\"attributes\":{\"source\":{\"id\":\"7578\"}},\"id\":\"7677\",\"type\":\"CDSView\"},{\"attributes\":{\"days\":[1,15]},\"id\":\"7810\",\"type\":\"DaysTicker\"},{\"attributes\":{\"data_source\":{\"id\":\"7579\"},\"glyph\":{\"id\":\"7679\"},\"hover_glyph\":null,\"muted_glyph\":null,\"nonselection_glyph\":{\"id\":\"7680\"},\"selection_glyph\":null,\"view\":{\"id\":\"7682\"}},\"id\":\"7681\",\"type\":\"GlyphRenderer\"},{\"attributes\":{\"fill_color\":{\"value\":\"#3B518A\"},\"line_color\":{\"value\":\"#3B518A\"},\"x\":{\"field\":\"TimeGenerated\"},\"y\":{\"field\":\"y_index\"}},\"id\":\"7649\",\"type\":\"Circle\"},{\"attributes\":{\"end\":1617304729272.25,\"start\":1617193888912.75},\"id\":\"7617\",\"type\":\"Range1d\"},{\"attributes\":{\"callback\":null,\"formatters\":{\"@TimeGenerated\":\"datetime\"},\"tooltips\":[[\"Operation\",\"@Operation\"],[\"TimeGenerated\",\"@TimeGenerated{%F %T.%3N}\"],[\"IPAddress\",\"@IPAddress\"],[\"AppResourceProvider\",\"@AppResourceProvider\"]]},\"id\":\"7581\",\"type\":\"HoverTool\"},{\"attributes\":{\"source\":{\"id\":\"7575\"}},\"id\":\"7662\",\"type\":\"CDSView\"},{\"attributes\":{\"fill_alpha\":{\"value\":0.1},\"fill_color\":{\"value\":\"#35B778\"},\"line_alpha\":{\"value\":0.1},\"line_color\":{\"value\":\"#35B778\"},\"size\":{\"units\":\"screen\",\"value\":10},\"x\":{\"field\":\"TimeGenerated\"},\"y\":{\"field\":\"y_index\"}},\"id\":\"7745\",\"type\":\"Diamond\"},{\"attributes\":{\"label\":{\"value\":\"Office365 Shell WCSS-Client\"},\"renderers\":[{\"id\":\"7746\"}]},\"id\":\"7748\",\"type\":\"LegendItem\"},{\"attributes\":{\"days\":[1,8,15,22]},\"id\":\"7809\",\"type\":\"DaysTicker\"},{\"attributes\":{\"data\":{\"AppResourceProvider\":[\"Exchange\",\"Exchange\",\"Exchange\",\"Exchange\",\"Exchange\",\"Exchange\",\"Exchange\",\"Exchange\",\"Exchange\",\"Exchange\",\"Exchange\",\"Exchange\",\"Exchange\",\"Exchange\",\"Exchange\",\"Exchange\",\"Exchange\",\"Exchange\",\"Exchange\",\"Exchange\",\"Exchange\",\"Exchange\",\"Exchange\",\"Exchange\",\"Exchange\",\"Exchange\",\"Exchange\",\"Exchange\"],\"IPAddress\":[\"40.91.208.65\",\"40.91.208.65\",\"40.91.208.65\",\"40.91.208.65\",\"40.91.208.65\",\"40.91.208.65\",\"40.91.208.65\",\"40.91.208.65\",\"40.91.208.65\",\"40.91.208.65\",\"40.91.208.65\",\"40.91.208.65\",\"40.91.208.65\",\"40.91.208.65\",\"2603:10b6:5:9::18\",\"40.91.208.65\",\"40.91.208.65\",\"40.91.208.65\",\"2603:10b6:5:1c0:cafe::5f\",\"104.209.247.23\",\"40.91.208.65\",\"40.91.208.65\",\"40.91.208.65\",\"40.91.208.65\",\"40.91.208.65\",\"40.91.208.65\",\"40.91.208.65\",\"40.91.208.65\"],\"Operation\":[\"MailItemsAccessed\",\"MailItemsAccessed\",\"MailItemsAccessed\",\"MailItemsAccessed\",\"MailItemsAccessed\",\"MailItemsAccessed\",\"MailItemsAccessed\",\"MailItemsAccessed\",\"MailItemsAccessed\",\"MailItemsAccessed\",\"MailItemsAccessed\",\"MailItemsAccessed\",\"MailItemsAccessed\",\"MailItemsAccessed\",\"MailItemsAccessed\",\"MailItemsAccessed\",\"MailItemsAccessed\",\"MailItemsAccessed\",\"MailItemsAccessed\",\"Send\",\"MailItemsAccessed\",\"MailItemsAccessed\",\"MailItemsAccessed\",\"MailItemsAccessed\",\"MailItemsAccessed\",\"MailItemsAccessed\",\"MailItemsAccessed\",\"MailItemsAccessed\"],\"TimeGenerated\":{\"__ndarray__\":\"AIBq35CId0IAgMNQlIh3QgAAYcGXiHdCAAA3M5uId0IAAJCknoh3QgAAbBWiiHdCAICGhqWId0IAACVrp4h3QgAAmoSqiHdCAAAQEqyId0IAgCqDr4h3QgAAOfayiHdCAIBTZ7aId0IAAOXZuYh3QgAAlQS8iHdCAAC7S72Id0IAAJG9wIh3QgAA6i7EiHdCAID83MSId0IAADiNx4h3QgCAdaLHiHdCAIAnGsuId0IAgOuOzoh3QgAAif/RiHdCAIAgcdWId0IAADXj2Ih3QgCAxlXciHdCAADbx9+Id0I=\",\"dtype\":\"float64\",\"order\":\"little\",\"shape\":[28]},\"index\":[102,104,100,97,103,107,101,117,119,120,105,106,108,98,121,109,99,112,116,129,118,92,91,93,94,95,90,96],\"y_index\":[2,2,2,2,2,2,2,2,2,2,2,2,2,2,2,2,2,2,2,2,2,2,2,2,2,2,2,2]},\"selected\":{\"id\":\"7786\"},\"selection_policy\":{\"id\":\"7785\"}},\"id\":\"7572\",\"type\":\"ColumnDataSource\"},{\"attributes\":{\"label\":{\"value\":\"Exchange\"},\"renderers\":[{\"id\":\"7710\"}]},\"id\":\"7712\",\"type\":\"LegendItem\"},{\"attributes\":{\"source\":{\"id\":\"7573\"}},\"id\":\"7652\",\"type\":\"CDSView\"},{\"attributes\":{\"mantissas\":[1,2,5],\"max_interval\":500.0,\"num_minor_ticks\":0},\"id\":\"7769\",\"type\":\"AdaptiveTicker\"},{\"attributes\":{\"end\":10.090909090909092,\"start\":-0.09090909090909091},\"id\":\"7587\",\"type\":\"Range1d\"},{\"attributes\":{\"data_source\":{\"id\":\"7575\"},\"glyph\":{\"id\":\"7726\"},\"hover_glyph\":null,\"muted_glyph\":null,\"nonselection_glyph\":{\"id\":\"7727\"},\"selection_glyph\":null,\"view\":{\"id\":\"7729\"}},\"id\":\"7728\",\"type\":\"GlyphRenderer\"},{\"attributes\":{\"data\":{\"AppResourceProvider\":[\"Office365 Shell WCSS-Client\",\"Office365 Shell WCSS-Client\",\"Office365 Shell WCSS-Client\",\"Office365 Shell WCSS-Client\",\"Office365 Shell WCSS-Client\",\"Office365 Shell WCSS-Client\",\"Office365 Shell WCSS-Client\",\"Office365 Shell WCSS-Client\",\"Office365 Shell WCSS-Client\",\"Office365 Shell WCSS-Client\",\"Office365 Shell WCSS-Client\"],\"IPAddress\":[\"109.88.218.99\",\"109.88.218.99\",\"109.88.218.99\",\"109.88.218.99\",\"109.88.218.99\",\"109.88.218.99\",\"109.88.218.99\",\"109.88.218.99\",\"109.88.218.99\",\"109.88.218.99\",\"109.88.218.99\"],\"Operation\":[\"Sign-in activity\",\"Sign-in activity\",\"Sign-in activity\",\"Sign-in activity\",\"Sign-in activity\",\"Sign-in activity\",\"Sign-in activity\",\"Sign-in activity\",\"Sign-in activity\",\"Sign-in activity\",\"Sign-in activity\"],\"TimeGenerated\":{\"__ndarray__\":\"APBLuJCId0IAMLy4kIh3QgBwzriQiHdCANDuNMOId0IAACc1w4h3QgBQQDXDiHdCAECQT8OId0IAMMNPw4h3QgBw6U/DiHdCAGAPJNuId0IAYBQk24h3Qg==\",\"dtype\":\"float64\",\"order\":\"little\",\"shape\":[11]},\"index\":[9,0,8,17,15,16,23,21,18,65,68],\"y_index\":[8,8,8,8,8,8,8,8,8,8,8]},\"selected\":{\"id\":\"7798\"},\"selection_policy\":{\"id\":\"7797\"}},\"id\":\"7578\",\"type\":\"ColumnDataSource\"},{\"attributes\":{},\"id\":\"7623\",\"type\":\"LinearScale\"},{\"attributes\":{\"text\":\"Timeline: Azure account activity by Provider\"},\"id\":\"7583\",\"type\":\"Title\"},{\"attributes\":{\"data_source\":{\"id\":\"7574\"},\"glyph\":{\"id\":\"7654\"},\"hover_glyph\":null,\"muted_glyph\":null,\"nonselection_glyph\":{\"id\":\"7655\"},\"selection_glyph\":null,\"view\":{\"id\":\"7657\"}},\"id\":\"7656\",\"type\":\"GlyphRenderer\"},{\"attributes\":{\"data\":{\"AppResourceProvider\":[\"Azure Portal\",\"Azure Portal\"],\"IPAddress\":[\"109.88.218.99\",\"109.88.218.99\"],\"Operation\":[\"Sign-in activity\",\"Sign-in activity\"],\"TimeGenerated\":{\"__ndarray__\":\"AECqhZCId0IA4MIe24h3Qg==\",\"dtype\":\"float64\",\"order\":\"little\",\"shape\":[2]},\"index\":[6,67],\"y_index\":[1,1]},\"selected\":{\"id\":\"7784\"},\"selection_policy\":{\"id\":\"7783\"}},\"id\":\"7571\",\"type\":\"ColumnDataSource\"},{\"attributes\":{\"fill_alpha\":{\"value\":0.1},\"fill_color\":{\"value\":\"#5BC862\"},\"line_alpha\":{\"value\":0.1},\"line_color\":{\"value\":\"#5BC862\"},\"x\":{\"field\":\"TimeGenerated\"},\"y\":{\"field\":\"y_index\"}},\"id\":\"7680\",\"type\":\"Circle\"},{\"attributes\":{\"below\":[{\"id\":\"7593\"}],\"center\":[{\"id\":\"7596\"},{\"id\":\"7600\"}],\"left\":[{\"id\":\"7597\"},{\"id\":\"7761\"}],\"min_border_left\":50,\"plot_height\":440,\"plot_width\":900,\"renderers\":[{\"id\":\"7698\"},{\"id\":\"7704\"},{\"id\":\"7710\"},{\"id\":\"7716\"},{\"id\":\"7722\"},{\"id\":\"7728\"},{\"id\":\"7734\"},{\"id\":\"7740\"},{\"id\":\"7746\"},{\"id\":\"7752\"},{\"id\":\"7758\"}],\"title\":{\"id\":\"7583\"},\"toolbar\":{\"id\":\"7607\"},\"x_range\":{\"id\":\"7585\"},\"x_scale\":{\"id\":\"7589\"},\"y_range\":{\"id\":\"7587\"},\"y_scale\":{\"id\":\"7591\"}},\"id\":\"7582\",\"subtype\":\"Figure\",\"type\":\"Plot\"},{\"attributes\":{\"source\":{\"id\":\"7579\"}},\"id\":\"7753\",\"type\":\"CDSView\"},{\"attributes\":{\"data\":{\"AppResourceProvider\":[\"SharePoint\",\"SharePoint\",\"SharePoint\",\"SharePoint\",\"SharePoint\",\"SharePoint\",\"SharePoint\",\"SharePoint\",\"SharePoint\",\"SharePoint\",\"SharePoint\",\"SharePoint\",\"SharePoint\",\"SharePoint\",\"SharePoint\",\"SharePoint\",\"SharePoint\",\"SharePoint\",\"SharePoint\",\"SharePoint\",\"SharePoint\",\"SharePoint\",\"SharePoint\",\"SharePoint\",\"SharePoint\"],\"IPAddress\":[\"157.56.162.53\",\"157.56.162.53\",\"157.56.162.53\",\"157.56.162.53\",\"157.56.162.53\",\"157.56.162.53\",\"157.56.162.53\",\"157.56.162.53\",\"157.56.162.53\",\"157.56.162.53\",\"157.56.162.53\",\"157.56.162.53\",\"157.56.162.53\",\"157.56.162.53\",\"157.56.162.53\",\"157.56.162.53\",\"157.56.162.53\",\"157.56.162.53\",\"157.56.162.53\",\"157.56.162.53\",\"157.56.162.53\",\"157.56.162.53\",\"157.56.162.53\",\"157.56.162.53\",\"157.56.162.53\"],\"Operation\":[\"FileAccessed\",\"FileAccessed\",\"FileAccessed\",\"FileAccessed\",\"FileAccessed\",\"FileAccessed\",\"FileAccessed\",\"FileAccessed\",\"FileAccessed\",\"FileAccessed\",\"FileAccessed\",\"FileAccessed\",\"FileAccessed\",\"FileAccessed\",\"FileAccessed\",\"FileAccessed\",\"FileAccessed\",\"FileAccessed\",\"FileAccessed\",\"FileAccessed\",\"FileAccessed\",\"FileAccessed\",\"FileAccessed\",\"FileAccessed\",\"FileAccessed\"],\"TimeGenerated\":{\"__ndarray__\":\"AAARs+GId0IAgEm04Yh3QgAAgrXhiHdCAAB8tuGId0IAgDe34Yh3QgCAMbjhiHdCAADtuOGId0IAgKi54Yh3QgCAorrhiHdCAABeu+GId0IAgBm84Yh3QgAA1bzhiHdCAADPveGId0IAAEa/4Yh3QgAAQMDhiHdCAID7wOGId0IAALfB4Yh3QgCA78LhiHdCAIDpw+GId0IAAKXE4Yh3QgAAn8XhiHdCAIBaxuGId0IAgNfG4Yh3QgAAk8fhiHdCAACNyOGId0I=\",\"dtype\":\"float64\",\"order\":\"little\",\"shape\":[25]},\"index\":[152,151,144,181,147,180,179,150,178,154,149,153,148,146,142,177,184,176,145,175,143,182,183,193,192],\"y_index\":[10,10,10,10,10,10,10,10,10,10,10,10,10,10,10,10,10,10,10,10,10,10,10,10,10]},\"selected\":{\"id\":\"7802\"},\"selection_policy\":{\"id\":\"7801\"}},\"id\":\"7580\",\"type\":\"ColumnDataSource\"},{\"attributes\":{\"base\":60,\"mantissas\":[1,2,5,10,15,20,30],\"max_interval\":1800000.0,\"min_interval\":1000.0,\"num_minor_ticks\":0},\"id\":\"7805\",\"type\":\"AdaptiveTicker\"},{\"attributes\":{\"fill_color\":{\"value\":\"#481E70\"},\"line_color\":{\"value\":\"#481E70\"},\"x\":{\"field\":\"TimeGenerated\"},\"y\":{\"field\":\"y_index\"}},\"id\":\"7639\",\"type\":\"Circle\"},{\"attributes\":{\"end\":1617300466181.5,\"start\":1617198152003.5},\"id\":\"7585\",\"type\":\"Range1d\"},{\"attributes\":{\"label\":{\"value\":\"Office 365 Exchange Online\"},\"renderers\":[{\"id\":\"7740\"}]},\"id\":\"7742\",\"type\":\"LegendItem\"},{\"attributes\":{\"source\":{\"id\":\"7571\"}},\"id\":\"7642\",\"type\":\"CDSView\"},{\"attributes\":{\"label\":{\"value\":\"MicrosoftTeams\"},\"renderers\":[{\"id\":\"7734\"}]},\"id\":\"7736\",\"type\":\"LegendItem\"},{\"attributes\":{\"fill_alpha\":{\"value\":0.1},\"fill_color\":{\"value\":\"#287B8E\"},\"line_alpha\":{\"value\":0.1},\"line_color\":{\"value\":\"#287B8E\"},\"x\":{\"field\":\"TimeGenerated\"},\"y\":{\"field\":\"y_index\"}},\"id\":\"7660\",\"type\":\"Circle\"},{\"attributes\":{},\"id\":\"7591\",\"type\":\"LinearScale\"},{\"attributes\":{\"fill_alpha\":{\"value\":0.1},\"fill_color\":{\"value\":\"#5BC862\"},\"line_alpha\":{\"value\":0.1},\"line_color\":{\"value\":\"#5BC862\"},\"size\":{\"units\":\"screen\",\"value\":10},\"x\":{\"field\":\"TimeGenerated\"},\"y\":{\"field\":\"y_index\"}},\"id\":\"7751\",\"type\":\"Diamond\"},{\"attributes\":{\"label\":{\"value\":\"Microsoft Teams Web Client\"},\"renderers\":[{\"id\":\"7728\"}]},\"id\":\"7730\",\"type\":\"LegendItem\"},{\"attributes\":{\"label\":{\"value\":\"Microsoft Cloud App Security\"},\"renderers\":[{\"id\":\"7722\"}]},\"id\":\"7724\",\"type\":\"LegendItem\"},{\"attributes\":{\"days\":[1,2,3,4,5,6,7,8,9,10,11,12,13,14,15,16,17,18,19,20,21,22,23,24,25,26,27,28,29,30,31]},\"id\":\"7807\",\"type\":\"DaysTicker\"},{\"attributes\":{\"click_policy\":\"hide\",\"items\":[{\"id\":\"7760\"},{\"id\":\"7754\"},{\"id\":\"7748\"},{\"id\":\"7742\"},{\"id\":\"7736\"},{\"id\":\"7730\"},{\"id\":\"7724\"},{\"id\":\"7718\"},{\"id\":\"7712\"},{\"id\":\"7706\"},{\"id\":\"7700\"}],\"label_text_font_size\":\"8pt\",\"location\":\"center\"},\"id\":\"7761\",\"type\":\"Legend\"},{\"attributes\":{\"data_source\":{\"id\":\"7571\"},\"glyph\":{\"id\":\"7639\"},\"hover_glyph\":null,\"muted_glyph\":null,\"nonselection_glyph\":{\"id\":\"7640\"},\"selection_glyph\":null,\"view\":{\"id\":\"7642\"}},\"id\":\"7641\",\"type\":\"GlyphRenderer\"},{\"attributes\":{},\"id\":\"7783\",\"type\":\"UnionRenderers\"},{\"attributes\":{\"active_drag\":\"auto\",\"active_inspect\":\"auto\",\"active_multi\":{\"id\":\"7688\"},\"active_scroll\":\"auto\",\"active_tap\":\"auto\",\"tools\":[{\"id\":\"7688\"}]},\"id\":\"7629\",\"type\":\"Toolbar\"},{\"attributes\":{},\"id\":\"7589\",\"type\":\"LinearScale\"}],\"root_ids\":[\"7762\"]},\"title\":\"Bokeh Application\",\"version\":\"2.2.2\"}};\n",
       "  var render_items = [{\"docid\":\"8db44742-f204-4c1d-b68c-3c82398bbce9\",\"root_ids\":[\"7762\"],\"roots\":{\"7762\":\"737b6037-372e-46b4-9eec-936f551bad8f\"}}];\n",
       "  root.Bokeh.embed.embed_items_notebook(docs_json, render_items);\n",
       "\n",
       "  }\n",
       "  if (root.Bokeh !== undefined) {\n",
       "    embed_document(root);\n",
       "  } else {\n",
       "    var attempts = 0;\n",
       "    var timer = setInterval(function(root) {\n",
       "      if (root.Bokeh !== undefined) {\n",
       "        clearInterval(timer);\n",
       "        embed_document(root);\n",
       "      } else {\n",
       "        attempts++;\n",
       "        if (attempts > 100) {\n",
       "          clearInterval(timer);\n",
       "          console.log(\"Bokeh: ERROR: Unable to run BokehJS code because BokehJS library is missing\");\n",
       "        }\n",
       "      }\n",
       "    }, 10, root)\n",
       "  }\n",
       "})(window);"
      ],
      "application/vnd.bokehjs_exec.v0+json": ""
     },
     "metadata": {
      "application/vnd.bokehjs_exec.v0+json": {
       "id": "7762"
      }
     },
     "output_type": "display_data"
    },
    {
     "data": {
      "text/html": [
       "\n",
       "    <div class=\"bk-root\">\n",
       "        <a href=\"https://bokeh.org\" target=\"_blank\" class=\"bk-logo bk-logo-small bk-logo-notebook\"></a>\n",
       "        <span id=\"8087\">Loading BokehJS ...</span>\n",
       "    </div>"
      ]
     },
     "metadata": {},
     "output_type": "display_data"
    },
    {
     "data": {
      "application/javascript": [
       "\n",
       "(function(root) {\n",
       "  function now() {\n",
       "    return new Date();\n",
       "  }\n",
       "\n",
       "  var force = true;\n",
       "\n",
       "  if (typeof root._bokeh_onload_callbacks === \"undefined\" || force === true) {\n",
       "    root._bokeh_onload_callbacks = [];\n",
       "    root._bokeh_is_loading = undefined;\n",
       "  }\n",
       "\n",
       "  var JS_MIME_TYPE = 'application/javascript';\n",
       "  var HTML_MIME_TYPE = 'text/html';\n",
       "  var EXEC_MIME_TYPE = 'application/vnd.bokehjs_exec.v0+json';\n",
       "  var CLASS_NAME = 'output_bokeh rendered_html';\n",
       "\n",
       "  /**\n",
       "   * Render data to the DOM node\n",
       "   */\n",
       "  function render(props, node) {\n",
       "    var script = document.createElement(\"script\");\n",
       "    node.appendChild(script);\n",
       "  }\n",
       "\n",
       "  /**\n",
       "   * Handle when an output is cleared or removed\n",
       "   */\n",
       "  function handleClearOutput(event, handle) {\n",
       "    var cell = handle.cell;\n",
       "\n",
       "    var id = cell.output_area._bokeh_element_id;\n",
       "    var server_id = cell.output_area._bokeh_server_id;\n",
       "    // Clean up Bokeh references\n",
       "    if (id != null && id in Bokeh.index) {\n",
       "      Bokeh.index[id].model.document.clear();\n",
       "      delete Bokeh.index[id];\n",
       "    }\n",
       "\n",
       "    if (server_id !== undefined) {\n",
       "      // Clean up Bokeh references\n",
       "      var cmd = \"from bokeh.io.state import curstate; print(curstate().uuid_to_server['\" + server_id + \"'].get_sessions()[0].document.roots[0]._id)\";\n",
       "      cell.notebook.kernel.execute(cmd, {\n",
       "        iopub: {\n",
       "          output: function(msg) {\n",
       "            var id = msg.content.text.trim();\n",
       "            if (id in Bokeh.index) {\n",
       "              Bokeh.index[id].model.document.clear();\n",
       "              delete Bokeh.index[id];\n",
       "            }\n",
       "          }\n",
       "        }\n",
       "      });\n",
       "      // Destroy server and session\n",
       "      var cmd = \"import bokeh.io.notebook as ion; ion.destroy_server('\" + server_id + \"')\";\n",
       "      cell.notebook.kernel.execute(cmd);\n",
       "    }\n",
       "  }\n",
       "\n",
       "  /**\n",
       "   * Handle when a new output is added\n",
       "   */\n",
       "  function handleAddOutput(event, handle) {\n",
       "    var output_area = handle.output_area;\n",
       "    var output = handle.output;\n",
       "\n",
       "    // limit handleAddOutput to display_data with EXEC_MIME_TYPE content only\n",
       "    if ((output.output_type != \"display_data\") || (!output.data.hasOwnProperty(EXEC_MIME_TYPE))) {\n",
       "      return\n",
       "    }\n",
       "\n",
       "    var toinsert = output_area.element.find(\".\" + CLASS_NAME.split(' ')[0]);\n",
       "\n",
       "    if (output.metadata[EXEC_MIME_TYPE][\"id\"] !== undefined) {\n",
       "      toinsert[toinsert.length - 1].firstChild.textContent = output.data[JS_MIME_TYPE];\n",
       "      // store reference to embed id on output_area\n",
       "      output_area._bokeh_element_id = output.metadata[EXEC_MIME_TYPE][\"id\"];\n",
       "    }\n",
       "    if (output.metadata[EXEC_MIME_TYPE][\"server_id\"] !== undefined) {\n",
       "      var bk_div = document.createElement(\"div\");\n",
       "      bk_div.innerHTML = output.data[HTML_MIME_TYPE];\n",
       "      var script_attrs = bk_div.children[0].attributes;\n",
       "      for (var i = 0; i < script_attrs.length; i++) {\n",
       "        toinsert[toinsert.length - 1].firstChild.setAttribute(script_attrs[i].name, script_attrs[i].value);\n",
       "        toinsert[toinsert.length - 1].firstChild.textContent = bk_div.children[0].textContent\n",
       "      }\n",
       "      // store reference to server id on output_area\n",
       "      output_area._bokeh_server_id = output.metadata[EXEC_MIME_TYPE][\"server_id\"];\n",
       "    }\n",
       "  }\n",
       "\n",
       "  function register_renderer(events, OutputArea) {\n",
       "\n",
       "    function append_mime(data, metadata, element) {\n",
       "      // create a DOM node to render to\n",
       "      var toinsert = this.create_output_subarea(\n",
       "        metadata,\n",
       "        CLASS_NAME,\n",
       "        EXEC_MIME_TYPE\n",
       "      );\n",
       "      this.keyboard_manager.register_events(toinsert);\n",
       "      // Render to node\n",
       "      var props = {data: data, metadata: metadata[EXEC_MIME_TYPE]};\n",
       "      render(props, toinsert[toinsert.length - 1]);\n",
       "      element.append(toinsert);\n",
       "      return toinsert\n",
       "    }\n",
       "\n",
       "    /* Handle when an output is cleared or removed */\n",
       "    events.on('clear_output.CodeCell', handleClearOutput);\n",
       "    events.on('delete.Cell', handleClearOutput);\n",
       "\n",
       "    /* Handle when a new output is added */\n",
       "    events.on('output_added.OutputArea', handleAddOutput);\n",
       "\n",
       "    /**\n",
       "     * Register the mime type and append_mime function with output_area\n",
       "     */\n",
       "    OutputArea.prototype.register_mime_type(EXEC_MIME_TYPE, append_mime, {\n",
       "      /* Is output safe? */\n",
       "      safe: true,\n",
       "      /* Index of renderer in `output_area.display_order` */\n",
       "      index: 0\n",
       "    });\n",
       "  }\n",
       "\n",
       "  // register the mime type if in Jupyter Notebook environment and previously unregistered\n",
       "  if (root.Jupyter !== undefined) {\n",
       "    var events = require('base/js/events');\n",
       "    var OutputArea = require('notebook/js/outputarea').OutputArea;\n",
       "\n",
       "    if (OutputArea.prototype.mime_types().indexOf(EXEC_MIME_TYPE) == -1) {\n",
       "      register_renderer(events, OutputArea);\n",
       "    }\n",
       "  }\n",
       "\n",
       "  \n",
       "  if (typeof (root._bokeh_timeout) === \"undefined\" || force === true) {\n",
       "    root._bokeh_timeout = Date.now() + 5000;\n",
       "    root._bokeh_failed_load = false;\n",
       "  }\n",
       "\n",
       "  var NB_LOAD_WARNING = {'data': {'text/html':\n",
       "     \"<div style='background-color: #fdd'>\\n\"+\n",
       "     \"<p>\\n\"+\n",
       "     \"BokehJS does not appear to have successfully loaded. If loading BokehJS from CDN, this \\n\"+\n",
       "     \"may be due to a slow or bad network connection. Possible fixes:\\n\"+\n",
       "     \"</p>\\n\"+\n",
       "     \"<ul>\\n\"+\n",
       "     \"<li>re-rerun `output_notebook()` to attempt to load from CDN again, or</li>\\n\"+\n",
       "     \"<li>use INLINE resources instead, as so:</li>\\n\"+\n",
       "     \"</ul>\\n\"+\n",
       "     \"<code>\\n\"+\n",
       "     \"from bokeh.resources import INLINE\\n\"+\n",
       "     \"output_notebook(resources=INLINE)\\n\"+\n",
       "     \"</code>\\n\"+\n",
       "     \"</div>\"}};\n",
       "\n",
       "  function display_loaded() {\n",
       "    var el = document.getElementById(\"8087\");\n",
       "    if (el != null) {\n",
       "      el.textContent = \"BokehJS is loading...\";\n",
       "    }\n",
       "    if (root.Bokeh !== undefined) {\n",
       "      if (el != null) {\n",
       "        el.textContent = \"BokehJS \" + root.Bokeh.version + \" successfully loaded.\";\n",
       "      }\n",
       "    } else if (Date.now() < root._bokeh_timeout) {\n",
       "      setTimeout(display_loaded, 100)\n",
       "    }\n",
       "  }\n",
       "\n",
       "\n",
       "  function run_callbacks() {\n",
       "    try {\n",
       "      root._bokeh_onload_callbacks.forEach(function(callback) {\n",
       "        if (callback != null)\n",
       "          callback();\n",
       "      });\n",
       "    } finally {\n",
       "      delete root._bokeh_onload_callbacks\n",
       "    }\n",
       "    console.debug(\"Bokeh: all callbacks have finished\");\n",
       "  }\n",
       "\n",
       "  function load_libs(css_urls, js_urls, callback) {\n",
       "    if (css_urls == null) css_urls = [];\n",
       "    if (js_urls == null) js_urls = [];\n",
       "\n",
       "    root._bokeh_onload_callbacks.push(callback);\n",
       "    if (root._bokeh_is_loading > 0) {\n",
       "      console.debug(\"Bokeh: BokehJS is being loaded, scheduling callback at\", now());\n",
       "      return null;\n",
       "    }\n",
       "    if (js_urls == null || js_urls.length === 0) {\n",
       "      run_callbacks();\n",
       "      return null;\n",
       "    }\n",
       "    console.debug(\"Bokeh: BokehJS not loaded, scheduling load and callback at\", now());\n",
       "    root._bokeh_is_loading = css_urls.length + js_urls.length;\n",
       "\n",
       "    function on_load() {\n",
       "      root._bokeh_is_loading--;\n",
       "      if (root._bokeh_is_loading === 0) {\n",
       "        console.debug(\"Bokeh: all BokehJS libraries/stylesheets loaded\");\n",
       "        run_callbacks()\n",
       "      }\n",
       "    }\n",
       "\n",
       "    function on_error() {\n",
       "      console.error(\"failed to load \" + url);\n",
       "    }\n",
       "\n",
       "    for (var i = 0; i < css_urls.length; i++) {\n",
       "      var url = css_urls[i];\n",
       "      const element = document.createElement(\"link\");\n",
       "      element.onload = on_load;\n",
       "      element.onerror = on_error;\n",
       "      element.rel = \"stylesheet\";\n",
       "      element.type = \"text/css\";\n",
       "      element.href = url;\n",
       "      console.debug(\"Bokeh: injecting link tag for BokehJS stylesheet: \", url);\n",
       "      document.body.appendChild(element);\n",
       "    }\n",
       "\n",
       "    const hashes = {\"https://cdn.bokeh.org/bokeh/release/bokeh-2.2.2.min.js\": \"JayppSWSRBsibIZqI8S4vAb1oFgLL0uhNvSn8cmArlOvYOwfFjYeyY5UWwJ+K0SU\", \"https://cdn.bokeh.org/bokeh/release/bokeh-widgets-2.2.2.min.js\": \"G0/Tv/Yy/zEPNsnW0Qif/FOsGesd+KIrKg/QLmvQmReuUW9qmSP7mAmr0VpiUNr3\", \"https://cdn.bokeh.org/bokeh/release/bokeh-tables-2.2.2.min.js\": \"VLYHEbLQDk5G1+/4ALU0myoJPMEUsngWry2fzYorFOUmarjGRPLLURaeK/on6JqX\"};\n",
       "\n",
       "    for (var i = 0; i < js_urls.length; i++) {\n",
       "      var url = js_urls[i];\n",
       "      var element = document.createElement('script');\n",
       "      element.onload = on_load;\n",
       "      element.onerror = on_error;\n",
       "      element.async = false;\n",
       "      element.src = url;\n",
       "      if (url in hashes) {\n",
       "        element.crossOrigin = \"anonymous\";\n",
       "        element.integrity = \"sha384-\" + hashes[url];\n",
       "      }\n",
       "      console.debug(\"Bokeh: injecting script tag for BokehJS library: \", url);\n",
       "      document.head.appendChild(element);\n",
       "    }\n",
       "  };\n",
       "\n",
       "  function inject_raw_css(css) {\n",
       "    const element = document.createElement(\"style\");\n",
       "    element.appendChild(document.createTextNode(css));\n",
       "    document.body.appendChild(element);\n",
       "  }\n",
       "\n",
       "  \n",
       "  var js_urls = [\"https://cdn.bokeh.org/bokeh/release/bokeh-2.2.2.min.js\", \"https://cdn.bokeh.org/bokeh/release/bokeh-widgets-2.2.2.min.js\", \"https://cdn.bokeh.org/bokeh/release/bokeh-tables-2.2.2.min.js\"];\n",
       "  var css_urls = [];\n",
       "  \n",
       "\n",
       "  var inline_js = [\n",
       "    function(Bokeh) {\n",
       "      Bokeh.set_log_level(\"info\");\n",
       "    },\n",
       "    function(Bokeh) {\n",
       "    \n",
       "    \n",
       "    }\n",
       "  ];\n",
       "\n",
       "  function run_inline_js() {\n",
       "    \n",
       "    if (root.Bokeh !== undefined || force === true) {\n",
       "      \n",
       "    for (var i = 0; i < inline_js.length; i++) {\n",
       "      inline_js[i].call(root, root.Bokeh);\n",
       "    }\n",
       "    if (force === true) {\n",
       "        display_loaded();\n",
       "      }} else if (Date.now() < root._bokeh_timeout) {\n",
       "      setTimeout(run_inline_js, 100);\n",
       "    } else if (!root._bokeh_failed_load) {\n",
       "      console.log(\"Bokeh: BokehJS failed to load within specified timeout.\");\n",
       "      root._bokeh_failed_load = true;\n",
       "    } else if (force !== true) {\n",
       "      var cell = $(document.getElementById(\"8087\")).parents('.cell').data().cell;\n",
       "      cell.output_area.append_execute_result(NB_LOAD_WARNING)\n",
       "    }\n",
       "\n",
       "  }\n",
       "\n",
       "  if (root._bokeh_is_loading === 0) {\n",
       "    console.debug(\"Bokeh: BokehJS loaded, going straight to plotting\");\n",
       "    run_inline_js();\n",
       "  } else {\n",
       "    load_libs(css_urls, js_urls, function() {\n",
       "      console.debug(\"Bokeh: BokehJS plotting callback run at\", now());\n",
       "      run_inline_js();\n",
       "    });\n",
       "  }\n",
       "}(window));"
      ],
      "application/vnd.bokehjs_load.v0+json": "\n(function(root) {\n  function now() {\n    return new Date();\n  }\n\n  var force = true;\n\n  if (typeof root._bokeh_onload_callbacks === \"undefined\" || force === true) {\n    root._bokeh_onload_callbacks = [];\n    root._bokeh_is_loading = undefined;\n  }\n\n  \n\n  \n  if (typeof (root._bokeh_timeout) === \"undefined\" || force === true) {\n    root._bokeh_timeout = Date.now() + 5000;\n    root._bokeh_failed_load = false;\n  }\n\n  var NB_LOAD_WARNING = {'data': {'text/html':\n     \"<div style='background-color: #fdd'>\\n\"+\n     \"<p>\\n\"+\n     \"BokehJS does not appear to have successfully loaded. If loading BokehJS from CDN, this \\n\"+\n     \"may be due to a slow or bad network connection. Possible fixes:\\n\"+\n     \"</p>\\n\"+\n     \"<ul>\\n\"+\n     \"<li>re-rerun `output_notebook()` to attempt to load from CDN again, or</li>\\n\"+\n     \"<li>use INLINE resources instead, as so:</li>\\n\"+\n     \"</ul>\\n\"+\n     \"<code>\\n\"+\n     \"from bokeh.resources import INLINE\\n\"+\n     \"output_notebook(resources=INLINE)\\n\"+\n     \"</code>\\n\"+\n     \"</div>\"}};\n\n  function display_loaded() {\n    var el = document.getElementById(\"8087\");\n    if (el != null) {\n      el.textContent = \"BokehJS is loading...\";\n    }\n    if (root.Bokeh !== undefined) {\n      if (el != null) {\n        el.textContent = \"BokehJS \" + root.Bokeh.version + \" successfully loaded.\";\n      }\n    } else if (Date.now() < root._bokeh_timeout) {\n      setTimeout(display_loaded, 100)\n    }\n  }\n\n\n  function run_callbacks() {\n    try {\n      root._bokeh_onload_callbacks.forEach(function(callback) {\n        if (callback != null)\n          callback();\n      });\n    } finally {\n      delete root._bokeh_onload_callbacks\n    }\n    console.debug(\"Bokeh: all callbacks have finished\");\n  }\n\n  function load_libs(css_urls, js_urls, callback) {\n    if (css_urls == null) css_urls = [];\n    if (js_urls == null) js_urls = [];\n\n    root._bokeh_onload_callbacks.push(callback);\n    if (root._bokeh_is_loading > 0) {\n      console.debug(\"Bokeh: BokehJS is being loaded, scheduling callback at\", now());\n      return null;\n    }\n    if (js_urls == null || js_urls.length === 0) {\n      run_callbacks();\n      return null;\n    }\n    console.debug(\"Bokeh: BokehJS not loaded, scheduling load and callback at\", now());\n    root._bokeh_is_loading = css_urls.length + js_urls.length;\n\n    function on_load() {\n      root._bokeh_is_loading--;\n      if (root._bokeh_is_loading === 0) {\n        console.debug(\"Bokeh: all BokehJS libraries/stylesheets loaded\");\n        run_callbacks()\n      }\n    }\n\n    function on_error() {\n      console.error(\"failed to load \" + url);\n    }\n\n    for (var i = 0; i < css_urls.length; i++) {\n      var url = css_urls[i];\n      const element = document.createElement(\"link\");\n      element.onload = on_load;\n      element.onerror = on_error;\n      element.rel = \"stylesheet\";\n      element.type = \"text/css\";\n      element.href = url;\n      console.debug(\"Bokeh: injecting link tag for BokehJS stylesheet: \", url);\n      document.body.appendChild(element);\n    }\n\n    const hashes = {\"https://cdn.bokeh.org/bokeh/release/bokeh-2.2.2.min.js\": \"JayppSWSRBsibIZqI8S4vAb1oFgLL0uhNvSn8cmArlOvYOwfFjYeyY5UWwJ+K0SU\", \"https://cdn.bokeh.org/bokeh/release/bokeh-widgets-2.2.2.min.js\": \"G0/Tv/Yy/zEPNsnW0Qif/FOsGesd+KIrKg/QLmvQmReuUW9qmSP7mAmr0VpiUNr3\", \"https://cdn.bokeh.org/bokeh/release/bokeh-tables-2.2.2.min.js\": \"VLYHEbLQDk5G1+/4ALU0myoJPMEUsngWry2fzYorFOUmarjGRPLLURaeK/on6JqX\"};\n\n    for (var i = 0; i < js_urls.length; i++) {\n      var url = js_urls[i];\n      var element = document.createElement('script');\n      element.onload = on_load;\n      element.onerror = on_error;\n      element.async = false;\n      element.src = url;\n      if (url in hashes) {\n        element.crossOrigin = \"anonymous\";\n        element.integrity = \"sha384-\" + hashes[url];\n      }\n      console.debug(\"Bokeh: injecting script tag for BokehJS library: \", url);\n      document.head.appendChild(element);\n    }\n  };\n\n  function inject_raw_css(css) {\n    const element = document.createElement(\"style\");\n    element.appendChild(document.createTextNode(css));\n    document.body.appendChild(element);\n  }\n\n  \n  var js_urls = [\"https://cdn.bokeh.org/bokeh/release/bokeh-2.2.2.min.js\", \"https://cdn.bokeh.org/bokeh/release/bokeh-widgets-2.2.2.min.js\", \"https://cdn.bokeh.org/bokeh/release/bokeh-tables-2.2.2.min.js\"];\n  var css_urls = [];\n  \n\n  var inline_js = [\n    function(Bokeh) {\n      Bokeh.set_log_level(\"info\");\n    },\n    function(Bokeh) {\n    \n    \n    }\n  ];\n\n  function run_inline_js() {\n    \n    if (root.Bokeh !== undefined || force === true) {\n      \n    for (var i = 0; i < inline_js.length; i++) {\n      inline_js[i].call(root, root.Bokeh);\n    }\n    if (force === true) {\n        display_loaded();\n      }} else if (Date.now() < root._bokeh_timeout) {\n      setTimeout(run_inline_js, 100);\n    } else if (!root._bokeh_failed_load) {\n      console.log(\"Bokeh: BokehJS failed to load within specified timeout.\");\n      root._bokeh_failed_load = true;\n    } else if (force !== true) {\n      var cell = $(document.getElementById(\"8087\")).parents('.cell').data().cell;\n      cell.output_area.append_execute_result(NB_LOAD_WARNING)\n    }\n\n  }\n\n  if (root._bokeh_is_loading === 0) {\n    console.debug(\"Bokeh: BokehJS loaded, going straight to plotting\");\n    run_inline_js();\n  } else {\n    load_libs(css_urls, js_urls, function() {\n      console.debug(\"Bokeh: BokehJS plotting callback run at\", now());\n      run_inline_js();\n    });\n  }\n}(window));"
     },
     "metadata": {},
     "output_type": "display_data"
    },
    {
     "data": {
      "text/html": [
       "\n",
       "\n",
       "\n",
       "\n",
       "\n",
       "\n",
       "  <div class=\"bk-root\" id=\"9d0b3ef2-20f7-4274-8c2f-8b894747d9a7\" data-root-id=\"8244\"></div>\n"
      ]
     },
     "metadata": {},
     "output_type": "display_data"
    },
    {
     "data": {
      "application/javascript": [
       "(function(root) {\n",
       "  function embed_document(root) {\n",
       "    \n",
       "  var docs_json = {\"e6b93427-3c7d-44a0-b622-15449a88b36c\":{\"roots\":{\"references\":[{\"attributes\":{\"children\":[{\"id\":\"8097\"},{\"id\":\"8129\"}]},\"id\":\"8244\",\"type\":\"Column\"},{\"attributes\":{\"data_source\":{\"id\":\"8094\"},\"glyph\":{\"id\":\"8232\"},\"hover_glyph\":null,\"muted_glyph\":null,\"nonselection_glyph\":{\"id\":\"8233\"},\"selection_glyph\":null,\"view\":{\"id\":\"8235\"}},\"id\":\"8234\",\"type\":\"GlyphRenderer\"},{\"attributes\":{\"fill_alpha\":{\"value\":0.1},\"fill_color\":{\"value\":\"#3B518A\"},\"line_alpha\":{\"value\":0.1},\"line_color\":{\"value\":\"#3B518A\"},\"x\":{\"field\":\"TimeGenerated\"},\"y\":{\"field\":\"y_index\"}},\"id\":\"8160\",\"type\":\"Circle\"},{\"attributes\":{\"fill_color\":{\"value\":\"#208F8C\"},\"line_color\":{\"value\":\"#208F8C\"},\"x\":{\"field\":\"TimeGenerated\"},\"y\":{\"field\":\"y_index\"}},\"id\":\"8169\",\"type\":\"Circle\"},{\"attributes\":{\"text\":\"Timeline: Azure Operations by Source IP\"},\"id\":\"8098\",\"type\":\"Title\"},{\"attributes\":{},\"id\":\"8268\",\"type\":\"Selection\"},{\"attributes\":{\"below\":[{\"id\":\"8140\"},{\"id\":\"8145\"}],\"center\":[{\"id\":\"8143\"}],\"plot_height\":120,\"plot_width\":900,\"renderers\":[{\"id\":\"8151\"},{\"id\":\"8156\"},{\"id\":\"8161\"},{\"id\":\"8166\"},{\"id\":\"8171\"},{\"id\":\"8176\"},{\"id\":\"8181\"},{\"id\":\"8186\"}],\"title\":{\"id\":\"8130\"},\"toolbar\":{\"id\":\"8144\"},\"toolbar_location\":null,\"x_range\":{\"id\":\"8132\"},\"x_scale\":{\"id\":\"8136\"},\"y_range\":{\"id\":\"8134\"},\"y_scale\":{\"id\":\"8138\"}},\"id\":\"8129\",\"subtype\":\"Figure\",\"type\":\"Plot\"},{\"attributes\":{\"formatter\":{\"id\":\"8146\"},\"ticker\":{\"id\":\"8141\"}},\"id\":\"8140\",\"type\":\"DatetimeAxis\"},{\"attributes\":{\"fill_alpha\":{\"value\":0.1},\"fill_color\":{\"value\":\"#27AD80\"},\"line_alpha\":{\"value\":0.1},\"line_color\":{\"value\":\"#27AD80\"},\"x\":{\"field\":\"TimeGenerated\"},\"y\":{\"field\":\"y_index\"}},\"id\":\"8175\",\"type\":\"Circle\"},{\"attributes\":{\"base\":24,\"mantissas\":[1,2,4,6,8,12],\"max_interval\":43200000.0,\"min_interval\":3600000.0,\"num_minor_ticks\":0},\"id\":\"8253\",\"type\":\"AdaptiveTicker\"},{\"attributes\":{\"data_source\":{\"id\":\"8091\"},\"glyph\":{\"id\":\"8164\"},\"hover_glyph\":null,\"muted_glyph\":null,\"nonselection_glyph\":{\"id\":\"8165\"},\"selection_glyph\":null,\"view\":{\"id\":\"8167\"}},\"id\":\"8166\",\"type\":\"GlyphRenderer\"},{\"attributes\":{\"source\":{\"id\":\"8093\"}},\"id\":\"8229\",\"type\":\"CDSView\"},{\"attributes\":{\"fill_alpha\":{\"value\":0.1},\"fill_color\":{\"value\":\"#440154\"},\"line_alpha\":{\"value\":0.1},\"line_color\":{\"value\":\"#440154\"},\"x\":{\"field\":\"TimeGenerated\"},\"y\":{\"field\":\"y_index\"}},\"id\":\"8150\",\"type\":\"Circle\"},{\"attributes\":{\"fill_alpha\":{\"value\":0.5},\"fill_color\":{\"value\":\"#440154\"},\"line_alpha\":{\"value\":0.5},\"line_color\":{\"value\":\"#440154\"},\"size\":{\"units\":\"screen\",\"value\":10},\"x\":{\"field\":\"TimeGenerated\"},\"y\":{\"field\":\"y_index\"}},\"id\":\"8196\",\"type\":\"Diamond\"},{\"attributes\":{\"click_policy\":\"hide\",\"items\":[{\"id\":\"8242\"},{\"id\":\"8236\"},{\"id\":\"8230\"},{\"id\":\"8224\"},{\"id\":\"8218\"},{\"id\":\"8212\"},{\"id\":\"8206\"},{\"id\":\"8200\"}],\"label_text_font_size\":\"8pt\",\"location\":\"center\"},\"id\":\"8243\",\"type\":\"Legend\"},{\"attributes\":{\"fill_alpha\":{\"value\":0.1},\"fill_color\":{\"value\":\"#472B7A\"},\"line_alpha\":{\"value\":0.1},\"line_color\":{\"value\":\"#472B7A\"},\"x\":{\"field\":\"TimeGenerated\"},\"y\":{\"field\":\"y_index\"}},\"id\":\"8155\",\"type\":\"Circle\"},{\"attributes\":{\"source\":{\"id\":\"8093\"}},\"id\":\"8177\",\"type\":\"CDSView\"},{\"attributes\":{\"end\":1617300466181.5,\"start\":1617198152003.5},\"id\":\"8100\",\"type\":\"Range1d\"},{\"attributes\":{\"fill_alpha\":{\"value\":0.1},\"fill_color\":{\"value\":\"#5BC862\"},\"line_alpha\":{\"value\":0.1},\"line_color\":{\"value\":\"#5BC862\"},\"x\":{\"field\":\"TimeGenerated\"},\"y\":{\"field\":\"y_index\"}},\"id\":\"8180\",\"type\":\"Circle\"},{\"attributes\":{\"data_source\":{\"id\":\"8095\"},\"glyph\":{\"id\":\"8238\"},\"hover_glyph\":null,\"muted_glyph\":null,\"nonselection_glyph\":{\"id\":\"8239\"},\"selection_glyph\":null,\"view\":{\"id\":\"8241\"}},\"id\":\"8240\",\"type\":\"GlyphRenderer\"},{\"attributes\":{\"data_source\":{\"id\":\"8090\"},\"glyph\":{\"id\":\"8159\"},\"hover_glyph\":null,\"muted_glyph\":null,\"nonselection_glyph\":{\"id\":\"8160\"},\"selection_glyph\":null,\"view\":{\"id\":\"8162\"}},\"id\":\"8161\",\"type\":\"GlyphRenderer\"},{\"attributes\":{\"fill_color\":{\"value\":\"#5BC862\"},\"line_color\":{\"value\":\"#5BC862\"},\"x\":{\"field\":\"TimeGenerated\"},\"y\":{\"field\":\"y_index\"}},\"id\":\"8179\",\"type\":\"Circle\"},{\"attributes\":{\"label\":{\"value\":\"2603:10b6:5:9::18\"},\"renderers\":[{\"id\":\"8228\"}]},\"id\":\"8230\",\"type\":\"LegendItem\"},{\"attributes\":{\"source\":{\"id\":\"8091\"}},\"id\":\"8167\",\"type\":\"CDSView\"},{\"attributes\":{\"fill_alpha\":{\"value\":0.1},\"fill_color\":{\"value\":\"#2C718E\"},\"line_alpha\":{\"value\":0.1},\"line_color\":{\"value\":\"#2C718E\"},\"x\":{\"field\":\"TimeGenerated\"},\"y\":{\"field\":\"y_index\"}},\"id\":\"8165\",\"type\":\"Circle\"},{\"attributes\":{\"base\":60,\"mantissas\":[1,2,5,10,15,20,30],\"max_interval\":1800000.0,\"min_interval\":1000.0,\"num_minor_ticks\":0},\"id\":\"8252\",\"type\":\"AdaptiveTicker\"},{\"attributes\":{\"fill_alpha\":{\"value\":0.1},\"fill_color\":{\"value\":\"#AADB32\"},\"line_alpha\":{\"value\":0.1},\"line_color\":{\"value\":\"#AADB32\"},\"x\":{\"field\":\"TimeGenerated\"},\"y\":{\"field\":\"y_index\"}},\"id\":\"8185\",\"type\":\"Circle\"},{\"attributes\":{\"below\":[{\"id\":\"8108\"}],\"center\":[{\"id\":\"8111\"},{\"id\":\"8115\"}],\"left\":[{\"id\":\"8112\"},{\"id\":\"8243\"}],\"min_border_left\":50,\"plot_height\":320,\"plot_width\":900,\"renderers\":[{\"id\":\"8198\"},{\"id\":\"8204\"},{\"id\":\"8210\"},{\"id\":\"8216\"},{\"id\":\"8222\"},{\"id\":\"8228\"},{\"id\":\"8234\"},{\"id\":\"8240\"}],\"title\":{\"id\":\"8098\"},\"toolbar\":{\"id\":\"8122\"},\"x_range\":{\"id\":\"8100\"},\"x_scale\":{\"id\":\"8104\"},\"y_range\":{\"id\":\"8102\"},\"y_scale\":{\"id\":\"8106\"}},\"id\":\"8097\",\"subtype\":\"Figure\",\"type\":\"Plot\"},{\"attributes\":{\"fill_alpha\":{\"value\":0.1},\"fill_color\":{\"value\":\"#208F8C\"},\"line_alpha\":{\"value\":0.1},\"line_color\":{\"value\":\"#208F8C\"},\"x\":{\"field\":\"TimeGenerated\"},\"y\":{\"field\":\"y_index\"}},\"id\":\"8170\",\"type\":\"Circle\"},{\"attributes\":{\"fill_color\":{\"value\":\"#AADB32\"},\"line_color\":{\"value\":\"#AADB32\"},\"x\":{\"field\":\"TimeGenerated\"},\"y\":{\"field\":\"y_index\"}},\"id\":\"8184\",\"type\":\"Circle\"},{\"attributes\":{\"fill_alpha\":{\"value\":0.5},\"fill_color\":{\"value\":\"#AADB32\"},\"line_alpha\":{\"value\":0.5},\"line_color\":{\"value\":\"#AADB32\"},\"size\":{\"units\":\"screen\",\"value\":10},\"x\":{\"field\":\"TimeGenerated\"},\"y\":{\"field\":\"y_index\"}},\"id\":\"8238\",\"type\":\"Diamond\"},{\"attributes\":{\"callback\":null,\"formatters\":{\"@TimeGenerated\":\"datetime\"},\"tooltips\":[[\"Operation\",\"@Operation\"],[\"TimeGenerated\",\"@TimeGenerated{%F %T.%3N}\"],[\"IPAddress\",\"@IPAddress\"],[\"AppResourceProvider\",\"@AppResourceProvider\"]]},\"id\":\"8096\",\"type\":\"HoverTool\"},{\"attributes\":{\"label\":{\"value\":\"40.91.208.65\"},\"renderers\":[{\"id\":\"8240\"}]},\"id\":\"8242\",\"type\":\"LegendItem\"},{\"attributes\":{\"fill_color\":{\"value\":\"#2C718E\"},\"line_color\":{\"value\":\"#2C718E\"},\"x\":{\"field\":\"TimeGenerated\"},\"y\":{\"field\":\"y_index\"}},\"id\":\"8164\",\"type\":\"Circle\"},{\"attributes\":{\"days\":[1,2,3,4,5,6,7,8,9,10,11,12,13,14,15,16,17,18,19,20,21,22,23,24,25,26,27,28,29,30,31]},\"id\":\"8254\",\"type\":\"DaysTicker\"},{\"attributes\":{\"fill_alpha\":{\"value\":0.5},\"fill_color\":{\"value\":\"#5BC862\"},\"line_alpha\":{\"value\":0.5},\"line_color\":{\"value\":\"#5BC862\"},\"size\":{\"units\":\"screen\",\"value\":10},\"x\":{\"field\":\"TimeGenerated\"},\"y\":{\"field\":\"y_index\"}},\"id\":\"8232\",\"type\":\"Diamond\"},{\"attributes\":{\"overlay\":{\"id\":\"8189\"},\"x_range\":{\"id\":\"8100\"},\"y_range\":null},\"id\":\"8188\",\"type\":\"RangeTool\"},{\"attributes\":{\"fill_alpha\":{\"value\":0.1},\"fill_color\":{\"value\":\"#2C718E\"},\"line_alpha\":{\"value\":0.1},\"line_color\":{\"value\":\"#2C718E\"},\"size\":{\"units\":\"screen\",\"value\":10},\"x\":{\"field\":\"TimeGenerated\"},\"y\":{\"field\":\"y_index\"}},\"id\":\"8215\",\"type\":\"Diamond\"},{\"attributes\":{\"data_source\":{\"id\":\"8094\"},\"glyph\":{\"id\":\"8179\"},\"hover_glyph\":null,\"muted_glyph\":null,\"nonselection_glyph\":{\"id\":\"8180\"},\"selection_glyph\":null,\"view\":{\"id\":\"8182\"}},\"id\":\"8181\",\"type\":\"GlyphRenderer\"},{\"attributes\":{\"source\":{\"id\":\"8092\"}},\"id\":\"8172\",\"type\":\"CDSView\"},{\"attributes\":{},\"id\":\"8269\",\"type\":\"UnionRenderers\"},{\"attributes\":{\"mantissas\":[1,2,5],\"max_interval\":500.0,\"num_minor_ticks\":0},\"id\":\"8251\",\"type\":\"AdaptiveTicker\"},{\"attributes\":{\"source\":{\"id\":\"8095\"}},\"id\":\"8241\",\"type\":\"CDSView\"},{\"attributes\":{\"axis\":{\"id\":\"8140\"},\"ticker\":null},\"id\":\"8143\",\"type\":\"Grid\"},{\"attributes\":{\"source\":{\"id\":\"8092\"}},\"id\":\"8223\",\"type\":\"CDSView\"},{\"attributes\":{\"data_source\":{\"id\":\"8092\"},\"glyph\":{\"id\":\"8220\"},\"hover_glyph\":null,\"muted_glyph\":null,\"nonselection_glyph\":{\"id\":\"8221\"},\"selection_glyph\":null,\"view\":{\"id\":\"8223\"}},\"id\":\"8222\",\"type\":\"GlyphRenderer\"},{\"attributes\":{},\"id\":\"8138\",\"type\":\"LinearScale\"},{\"attributes\":{\"data\":{\"AppResourceProvider\":[\"OneDrive\",\"OneDrive\",\"OneDrive\",\"OneDrive\",\"OneDrive\",\"OneDrive\",\"OneDrive\",\"OneDrive\",\"OneDrive\",\"OneDrive\",\"OneDrive\",\"OneDrive\",\"OneDrive\",\"OneDrive\",\"OneDrive\",\"OneDrive\",\"OneDrive\",\"OneDrive\",\"OneDrive\",\"OneDrive\",\"OneDrive\",\"OneDrive\",\"OneDrive\",\"OneDrive\",\"OneDrive\",\"OneDrive\",\"OneDrive\",\"OneDrive\",\"OneDrive\",\"OneDrive\",\"OneDrive\",\"OneDrive\",\"OneDrive\",\"OneDrive\",\"OneDrive\",\"OneDrive\",\"OneDrive\",\"OneDrive\",\"OneDrive\"],\"IPAddress\":[\"40.83.137.154\",\"40.83.137.154\",\"40.83.137.154\",\"40.83.137.154\",\"40.83.137.154\",\"40.83.137.154\",\"40.83.137.154\",\"40.83.137.154\",\"40.83.137.154\",\"40.83.137.154\",\"40.83.137.154\",\"40.83.137.154\",\"40.83.137.154\",\"40.83.137.154\",\"40.83.137.154\",\"40.83.137.154\",\"40.83.137.154\",\"40.83.137.154\",\"40.83.137.154\",\"40.83.137.154\",\"40.83.137.154\",\"40.83.137.154\",\"40.83.137.154\",\"40.83.137.154\",\"40.83.137.154\",\"40.83.137.154\",\"40.83.137.154\",\"40.83.137.154\",\"40.83.137.154\",\"40.83.137.154\",\"40.83.137.154\",\"40.83.137.154\",\"40.83.137.154\",\"40.83.137.154\",\"40.83.137.154\",\"40.83.137.154\",\"40.83.137.154\",\"40.83.137.154\",\"40.83.137.154\"],\"Operation\":[\"FileAccessed\",\"FileModified\",\"FileAccessed\",\"FileModified\",\"FileAccessed\",\"FileModified\",\"FileAccessed\",\"FileModified\",\"FileAccessed\",\"FileModified\",\"FileAccessed\",\"FileModified\",\"FileAccessed\",\"FileModified\",\"FileModified\",\"FileModified\",\"FileAccessed\",\"FileModified\",\"FileModified\",\"FileAccessed\",\"FileModified\",\"FileAccessed\",\"FileModified\",\"FileAccessed\",\"FileModified\",\"FileModified\",\"FileAccessed\",\"FileModified\",\"FileAccessed\",\"FileModified\",\"FileModified\",\"FileModified\",\"FileModified\",\"FileAccessed\",\"FileModified\",\"FileModified\",\"FileModified\",\"FileModified\",\"FileModified\"],\"TimeGenerated\":{\"__ndarray__\":\"AACOs+GId0IAAAu04Yh3QgAAiLThiHdCAIBDteGId0IAAIK14Yh3QgCAPbbhiHdCAAB8tuGId0IAAPm24Yh3QgCAN7fhiHdCAADzt+GId0IAAHC44Yh3QgAA7bjhiHdCAIArueGId0IAgKi54Yh3QgCAorrhiHdCAIAfu+GId0IAAF674Yh3QgAA27vhiHdCAICWvOGId0IAANW84Yh3QgCAkL3hiHdCAABMvuGId0IAgAe/4Yh3QgCAhL/hiHdCAIABwOGId0IAAL3A4Yh3QgCA+8DhiHdCAIB4weGId0IAADTC4Yh3QgCA78LhiHdCAIDpw+GId0IAAKXE4Yh3QgCAYMXhiHdCAACfxeGId0IAABzG4Yh3QgCA18bhiHdCAIBUx+GId0IAAI3I4Yh3QgAACsnhiHdC\",\"dtype\":\"float64\",\"order\":\"little\",\"shape\":[39]},\"index\":[155,141,171,168,140,174,167,139,138,166,137,170,169,165,173,172,136,135,134,164,163,133,189,157,188,132,131,156,162,130,161,160,191,187,186,159,158,190,185],\"y_index\":[6,6,6,6,6,6,6,6,6,6,6,6,6,6,6,6,6,6,6,6,6,6,6,6,6,6,6,6,6,6,6,6,6,6,6,6,6,6,6]},\"selected\":{\"id\":\"8276\"},\"selection_policy\":{\"id\":\"8275\"}},\"id\":\"8094\",\"type\":\"ColumnDataSource\"},{\"attributes\":{\"fill_alpha\":{\"value\":0.1},\"fill_color\":{\"value\":\"#208F8C\"},\"line_alpha\":{\"value\":0.1},\"line_color\":{\"value\":\"#208F8C\"},\"size\":{\"units\":\"screen\",\"value\":10},\"x\":{\"field\":\"TimeGenerated\"},\"y\":{\"field\":\"y_index\"}},\"id\":\"8221\",\"type\":\"Diamond\"},{\"attributes\":{\"source\":{\"id\":\"8094\"}},\"id\":\"8235\",\"type\":\"CDSView\"},{\"attributes\":{\"fill_color\":{\"value\":\"#27AD80\"},\"line_color\":{\"value\":\"#27AD80\"},\"x\":{\"field\":\"TimeGenerated\"},\"y\":{\"field\":\"y_index\"}},\"id\":\"8174\",\"type\":\"Circle\"},{\"attributes\":{\"data_source\":{\"id\":\"8092\"},\"glyph\":{\"id\":\"8169\"},\"hover_glyph\":null,\"muted_glyph\":null,\"nonselection_glyph\":{\"id\":\"8170\"},\"selection_glyph\":null,\"view\":{\"id\":\"8172\"}},\"id\":\"8171\",\"type\":\"GlyphRenderer\"},{\"attributes\":{\"data\":{\"AppResourceProvider\":[\"Exchange\",\"Exchange\",\"Exchange\",\"Exchange\",\"Exchange\",\"Exchange\",\"Exchange\",\"Exchange\",\"Exchange\",\"Exchange\",\"Exchange\",\"Exchange\",\"Exchange\",\"Exchange\",\"Exchange\",\"Exchange\",\"Exchange\",\"Exchange\",\"Exchange\",\"Exchange\",\"Exchange\",\"Exchange\",\"Exchange\",\"Exchange\",\"Exchange\"],\"IPAddress\":[\"40.91.208.65\",\"40.91.208.65\",\"40.91.208.65\",\"40.91.208.65\",\"40.91.208.65\",\"40.91.208.65\",\"40.91.208.65\",\"40.91.208.65\",\"40.91.208.65\",\"40.91.208.65\",\"40.91.208.65\",\"40.91.208.65\",\"40.91.208.65\",\"40.91.208.65\",\"40.91.208.65\",\"40.91.208.65\",\"40.91.208.65\",\"40.91.208.65\",\"40.91.208.65\",\"40.91.208.65\",\"40.91.208.65\",\"40.91.208.65\",\"40.91.208.65\",\"40.91.208.65\",\"40.91.208.65\"],\"Operation\":[\"MailItemsAccessed\",\"MailItemsAccessed\",\"MailItemsAccessed\",\"MailItemsAccessed\",\"MailItemsAccessed\",\"MailItemsAccessed\",\"MailItemsAccessed\",\"MailItemsAccessed\",\"MailItemsAccessed\",\"MailItemsAccessed\",\"MailItemsAccessed\",\"MailItemsAccessed\",\"MailItemsAccessed\",\"MailItemsAccessed\",\"MailItemsAccessed\",\"MailItemsAccessed\",\"MailItemsAccessed\",\"MailItemsAccessed\",\"MailItemsAccessed\",\"MailItemsAccessed\",\"MailItemsAccessed\",\"MailItemsAccessed\",\"MailItemsAccessed\",\"MailItemsAccessed\",\"MailItemsAccessed\"],\"TimeGenerated\":{\"__ndarray__\":\"AIBq35CId0IAgMNQlIh3QgAAYcGXiHdCAAA3M5uId0IAAJCknoh3QgAAbBWiiHdCAICGhqWId0IAACVrp4h3QgAAmoSqiHdCAAAQEqyId0IAgCqDr4h3QgAAOfayiHdCAIBTZ7aId0IAAOXZuYh3QgAAu0u9iHdCAACRvcCId0IAAOouxIh3QgCAdaLHiHdCAIAnGsuId0IAgOuOzoh3QgAAif/RiHdCAIAgcdWId0IAADXj2Ih3QgCAxlXciHdCAADbx9+Id0I=\",\"dtype\":\"float64\",\"order\":\"little\",\"shape\":[25]},\"index\":[102,104,100,97,103,107,101,117,119,120,105,106,108,98,109,99,112,118,92,91,93,94,95,90,96],\"y_index\":[7,7,7,7,7,7,7,7,7,7,7,7,7,7,7,7,7,7,7,7,7,7,7,7,7]},\"selected\":{\"id\":\"8278\"},\"selection_policy\":{\"id\":\"8277\"}},\"id\":\"8095\",\"type\":\"ColumnDataSource\"},{\"attributes\":{\"fill_color\":{\"value\":\"#3B518A\"},\"line_color\":{\"value\":\"#3B518A\"},\"x\":{\"field\":\"TimeGenerated\"},\"y\":{\"field\":\"y_index\"}},\"id\":\"8159\",\"type\":\"Circle\"},{\"attributes\":{},\"id\":\"8249\",\"type\":\"BasicTickFormatter\"},{\"attributes\":{\"source\":{\"id\":\"8090\"}},\"id\":\"8162\",\"type\":\"CDSView\"},{\"attributes\":{\"data_source\":{\"id\":\"8095\"},\"glyph\":{\"id\":\"8184\"},\"hover_glyph\":null,\"muted_glyph\":null,\"nonselection_glyph\":{\"id\":\"8185\"},\"selection_glyph\":null,\"view\":{\"id\":\"8187\"}},\"id\":\"8186\",\"type\":\"GlyphRenderer\"},{\"attributes\":{\"fill_alpha\":{\"value\":0.1},\"fill_color\":{\"value\":\"#AADB32\"},\"line_alpha\":{\"value\":0.1},\"line_color\":{\"value\":\"#AADB32\"},\"size\":{\"units\":\"screen\",\"value\":10},\"x\":{\"field\":\"TimeGenerated\"},\"y\":{\"field\":\"y_index\"}},\"id\":\"8239\",\"type\":\"Diamond\"},{\"attributes\":{\"fill_alpha\":{\"value\":0.1},\"fill_color\":{\"value\":\"#5BC862\"},\"line_alpha\":{\"value\":0.1},\"line_color\":{\"value\":\"#5BC862\"},\"size\":{\"units\":\"screen\",\"value\":10},\"x\":{\"field\":\"TimeGenerated\"},\"y\":{\"field\":\"y_index\"}},\"id\":\"8233\",\"type\":\"Diamond\"},{\"attributes\":{\"source\":{\"id\":\"8094\"}},\"id\":\"8182\",\"type\":\"CDSView\"},{\"attributes\":{\"data_source\":{\"id\":\"8093\"},\"glyph\":{\"id\":\"8174\"},\"hover_glyph\":null,\"muted_glyph\":null,\"nonselection_glyph\":{\"id\":\"8175\"},\"selection_glyph\":null,\"view\":{\"id\":\"8177\"}},\"id\":\"8176\",\"type\":\"GlyphRenderer\"},{\"attributes\":{\"dimensions\":\"width\"},\"id\":\"8116\",\"type\":\"WheelZoomTool\"},{\"attributes\":{\"formatter\":{\"id\":\"8249\"},\"ticker\":{\"id\":\"8113\"},\"visible\":false},\"id\":\"8112\",\"type\":\"LinearAxis\"},{\"attributes\":{\"base\":60,\"mantissas\":[1,2,5,10,15,20,30],\"max_interval\":1800000.0,\"min_interval\":1000.0,\"num_minor_ticks\":0},\"id\":\"8281\",\"type\":\"AdaptiveTicker\"},{\"attributes\":{\"data_source\":{\"id\":\"8093\"},\"glyph\":{\"id\":\"8226\"},\"hover_glyph\":null,\"muted_glyph\":null,\"nonselection_glyph\":{\"id\":\"8227\"},\"selection_glyph\":null,\"view\":{\"id\":\"8229\"}},\"id\":\"8228\",\"type\":\"GlyphRenderer\"},{\"attributes\":{\"fill_alpha\":{\"value\":0.1},\"fill_color\":{\"value\":\"#3B518A\"},\"line_alpha\":{\"value\":0.1},\"line_color\":{\"value\":\"#3B518A\"},\"size\":{\"units\":\"screen\",\"value\":10},\"x\":{\"field\":\"TimeGenerated\"},\"y\":{\"field\":\"y_index\"}},\"id\":\"8209\",\"type\":\"Diamond\"},{\"attributes\":{\"fill_alpha\":{\"value\":0.1},\"fill_color\":{\"value\":\"#440154\"},\"line_alpha\":{\"value\":0.1},\"line_color\":{\"value\":\"#440154\"},\"size\":{\"units\":\"screen\",\"value\":10},\"x\":{\"field\":\"TimeGenerated\"},\"y\":{\"field\":\"y_index\"}},\"id\":\"8197\",\"type\":\"Diamond\"},{\"attributes\":{\"align\":\"right\",\"text\":\"Drag the middle or edges of the selection box to change the range in the main chart\",\"text_font_size\":{\"value\":\"10px\"}},\"id\":\"8145\",\"type\":\"Title\"},{\"attributes\":{\"end\":1617304729272.25,\"start\":1617193888912.75},\"id\":\"8132\",\"type\":\"Range1d\"},{\"attributes\":{\"label\":{\"value\":\"104.209.247.23\"},\"renderers\":[{\"id\":\"8204\"}]},\"id\":\"8206\",\"type\":\"LegendItem\"},{\"attributes\":{\"months\":[0,2,4,6,8,10]},\"id\":\"8288\",\"type\":\"MonthsTicker\"},{\"attributes\":{\"days\":[\"%m-%d %H:%M\"],\"hours\":[\"%H:%M:%S\"],\"milliseconds\":[\"%H:%M:%S.%3N\"],\"minutes\":[\"%H:%M:%S\"],\"seconds\":[\"%H:%M:%S\"]},\"id\":\"8146\",\"type\":\"DatetimeTickFormatter\"},{\"attributes\":{\"months\":[0,4,8]},\"id\":\"8260\",\"type\":\"MonthsTicker\"},{\"attributes\":{\"data_source\":{\"id\":\"8088\"},\"glyph\":{\"id\":\"8149\"},\"hover_glyph\":null,\"muted_glyph\":null,\"nonselection_glyph\":{\"id\":\"8150\"},\"selection_glyph\":null,\"view\":{\"id\":\"8152\"}},\"id\":\"8151\",\"type\":\"GlyphRenderer\"},{\"attributes\":{\"base\":24,\"mantissas\":[1,2,4,6,8,12],\"max_interval\":43200000.0,\"min_interval\":3600000.0,\"num_minor_ticks\":0},\"id\":\"8282\",\"type\":\"AdaptiveTicker\"},{\"attributes\":{\"source\":{\"id\":\"8089\"}},\"id\":\"8157\",\"type\":\"CDSView\"},{\"attributes\":{\"fill_alpha\":{\"value\":0.5},\"fill_color\":{\"value\":\"#472B7A\"},\"line_alpha\":{\"value\":0.5},\"line_color\":{\"value\":\"#472B7A\"},\"size\":{\"units\":\"screen\",\"value\":10},\"x\":{\"field\":\"TimeGenerated\"},\"y\":{\"field\":\"y_index\"}},\"id\":\"8202\",\"type\":\"Diamond\"},{\"attributes\":{},\"id\":\"8275\",\"type\":\"UnionRenderers\"},{\"attributes\":{},\"id\":\"8263\",\"type\":\"UnionRenderers\"},{\"attributes\":{\"data_source\":{\"id\":\"8090\"},\"glyph\":{\"id\":\"8208\"},\"hover_glyph\":null,\"muted_glyph\":null,\"nonselection_glyph\":{\"id\":\"8209\"},\"selection_glyph\":null,\"view\":{\"id\":\"8211\"}},\"id\":\"8210\",\"type\":\"GlyphRenderer\"},{\"attributes\":{\"fill_alpha\":{\"value\":0.5},\"fill_color\":{\"value\":\"#208F8C\"},\"line_alpha\":{\"value\":0.5},\"line_color\":{\"value\":\"#208F8C\"},\"size\":{\"units\":\"screen\",\"value\":10},\"x\":{\"field\":\"TimeGenerated\"},\"y\":{\"field\":\"y_index\"}},\"id\":\"8220\",\"type\":\"Diamond\"},{\"attributes\":{},\"id\":\"8119\",\"type\":\"SaveTool\"},{\"attributes\":{},\"id\":\"8262\",\"type\":\"YearsTicker\"},{\"attributes\":{},\"id\":\"8136\",\"type\":\"LinearScale\"},{\"attributes\":{\"data\":{\"AppResourceProvider\":[\"Exchange\"],\"IPAddress\":[\"104.209.247.23\"],\"Operation\":[\"Send\"],\"TimeGenerated\":{\"__ndarray__\":\"AAA4jceId0I=\",\"dtype\":\"float64\",\"order\":\"little\",\"shape\":[1]},\"index\":[129],\"y_index\":[1]},\"selected\":{\"id\":\"8266\"},\"selection_policy\":{\"id\":\"8265\"}},\"id\":\"8089\",\"type\":\"ColumnDataSource\"},{\"attributes\":{\"fill_alpha\":0.2,\"fill_color\":\"navy\",\"level\":\"overlay\",\"line_alpha\":1.0,\"line_color\":\"black\",\"line_dash\":[2,2],\"line_width\":0.5},\"id\":\"8189\",\"type\":\"BoxAnnotation\"},{\"attributes\":{\"num_minor_ticks\":10,\"tickers\":[{\"id\":\"8251\"},{\"id\":\"8252\"},{\"id\":\"8253\"},{\"id\":\"8254\"},{\"id\":\"8255\"},{\"id\":\"8256\"},{\"id\":\"8257\"},{\"id\":\"8258\"},{\"id\":\"8259\"},{\"id\":\"8260\"},{\"id\":\"8261\"},{\"id\":\"8262\"}]},\"id\":\"8109\",\"type\":\"DatetimeTicker\"},{\"attributes\":{},\"id\":\"8278\",\"type\":\"Selection\"},{\"attributes\":{\"source\":{\"id\":\"8088\"}},\"id\":\"8199\",\"type\":\"CDSView\"},{\"attributes\":{},\"id\":\"8272\",\"type\":\"Selection\"},{\"attributes\":{\"axis\":{\"id\":\"8108\"},\"minor_grid_line_alpha\":0.3,\"minor_grid_line_color\":\"navy\",\"ticker\":null},\"id\":\"8111\",\"type\":\"Grid\"},{\"attributes\":{\"days\":[\"%m-%d %H:%M\"],\"hours\":[\"%H:%M:%S\"],\"milliseconds\":[\"%H:%M:%S.%3N\"],\"minutes\":[\"%H:%M:%S\"],\"seconds\":[\"%H:%M:%S\"]},\"id\":\"8193\",\"type\":\"DatetimeTickFormatter\"},{\"attributes\":{\"source\":{\"id\":\"8095\"}},\"id\":\"8187\",\"type\":\"CDSView\"},{\"attributes\":{},\"id\":\"8134\",\"type\":\"DataRange1d\"},{\"attributes\":{\"num_minor_ticks\":5,\"tickers\":[{\"id\":\"8280\"},{\"id\":\"8281\"},{\"id\":\"8282\"},{\"id\":\"8283\"},{\"id\":\"8284\"},{\"id\":\"8285\"},{\"id\":\"8286\"},{\"id\":\"8287\"},{\"id\":\"8288\"},{\"id\":\"8289\"},{\"id\":\"8290\"},{\"id\":\"8291\"}]},\"id\":\"8141\",\"type\":\"DatetimeTicker\"},{\"attributes\":{},\"id\":\"8265\",\"type\":\"UnionRenderers\"},{\"attributes\":{\"data\":{\"AppResourceProvider\":[\"Exchange\"],\"IPAddress\":[\"2603:10b6:5:9::18\"],\"Operation\":[\"MailItemsAccessed\"],\"TimeGenerated\":{\"__ndarray__\":\"AACVBLyId0I=\",\"dtype\":\"float64\",\"order\":\"little\",\"shape\":[1]},\"index\":[121],\"y_index\":[5]},\"selected\":{\"id\":\"8274\"},\"selection_policy\":{\"id\":\"8273\"}},\"id\":\"8093\",\"type\":\"ColumnDataSource\"},{\"attributes\":{\"data\":{\"AppResourceProvider\":[\"SharePoint\",\"SharePoint\",\"SharePoint\",\"SharePoint\",\"SharePoint\",\"SharePoint\",\"SharePoint\",\"SharePoint\",\"SharePoint\",\"SharePoint\",\"SharePoint\",\"SharePoint\",\"SharePoint\",\"SharePoint\",\"SharePoint\",\"SharePoint\",\"SharePoint\",\"SharePoint\",\"SharePoint\",\"SharePoint\",\"SharePoint\",\"SharePoint\",\"SharePoint\",\"SharePoint\",\"SharePoint\"],\"IPAddress\":[\"157.56.162.53\",\"157.56.162.53\",\"157.56.162.53\",\"157.56.162.53\",\"157.56.162.53\",\"157.56.162.53\",\"157.56.162.53\",\"157.56.162.53\",\"157.56.162.53\",\"157.56.162.53\",\"157.56.162.53\",\"157.56.162.53\",\"157.56.162.53\",\"157.56.162.53\",\"157.56.162.53\",\"157.56.162.53\",\"157.56.162.53\",\"157.56.162.53\",\"157.56.162.53\",\"157.56.162.53\",\"157.56.162.53\",\"157.56.162.53\",\"157.56.162.53\",\"157.56.162.53\",\"157.56.162.53\"],\"Operation\":[\"FileAccessed\",\"FileAccessed\",\"FileAccessed\",\"FileAccessed\",\"FileAccessed\",\"FileAccessed\",\"FileAccessed\",\"FileAccessed\",\"FileAccessed\",\"FileAccessed\",\"FileAccessed\",\"FileAccessed\",\"FileAccessed\",\"FileAccessed\",\"FileAccessed\",\"FileAccessed\",\"FileAccessed\",\"FileAccessed\",\"FileAccessed\",\"FileAccessed\",\"FileAccessed\",\"FileAccessed\",\"FileAccessed\",\"FileAccessed\",\"FileAccessed\"],\"TimeGenerated\":{\"__ndarray__\":\"AAARs+GId0IAgEm04Yh3QgAAgrXhiHdCAAB8tuGId0IAgDe34Yh3QgCAMbjhiHdCAADtuOGId0IAgKi54Yh3QgCAorrhiHdCAABeu+GId0IAgBm84Yh3QgAA1bzhiHdCAADPveGId0IAAEa/4Yh3QgAAQMDhiHdCAID7wOGId0IAALfB4Yh3QgCA78LhiHdCAIDpw+GId0IAAKXE4Yh3QgAAn8XhiHdCAIBaxuGId0IAgNfG4Yh3QgAAk8fhiHdCAACNyOGId0I=\",\"dtype\":\"float64\",\"order\":\"little\",\"shape\":[25]},\"index\":[152,151,144,181,147,180,179,150,178,154,149,153,148,146,142,177,184,176,145,175,143,182,183,193,192],\"y_index\":[3,3,3,3,3,3,3,3,3,3,3,3,3,3,3,3,3,3,3,3,3,3,3,3,3]},\"selected\":{\"id\":\"8270\"},\"selection_policy\":{\"id\":\"8269\"}},\"id\":\"8091\",\"type\":\"ColumnDataSource\"},{\"attributes\":{},\"id\":\"8266\",\"type\":\"Selection\"},{\"attributes\":{\"label\":{\"value\":\"109.88.218.99\"},\"renderers\":[{\"id\":\"8210\"}]},\"id\":\"8212\",\"type\":\"LegendItem\"},{\"attributes\":{\"fill_color\":{\"value\":\"#440154\"},\"line_color\":{\"value\":\"#440154\"},\"x\":{\"field\":\"TimeGenerated\"},\"y\":{\"field\":\"y_index\"}},\"id\":\"8149\",\"type\":\"Circle\"},{\"attributes\":{},\"id\":\"8277\",\"type\":\"UnionRenderers\"},{\"attributes\":{\"days\":[1,4,7,10,13,16,19,22,25,28]},\"id\":\"8284\",\"type\":\"DaysTicker\"},{\"attributes\":{},\"id\":\"8106\",\"type\":\"LinearScale\"},{\"attributes\":{\"fill_alpha\":{\"value\":0.5},\"fill_color\":{\"value\":\"#2C718E\"},\"line_alpha\":{\"value\":0.5},\"line_color\":{\"value\":\"#2C718E\"},\"size\":{\"units\":\"screen\",\"value\":10},\"x\":{\"field\":\"TimeGenerated\"},\"y\":{\"field\":\"y_index\"}},\"id\":\"8214\",\"type\":\"Diamond\"},{\"attributes\":{\"axis_label\":\"Event Time\",\"formatter\":{\"id\":\"8193\"},\"ticker\":{\"id\":\"8109\"}},\"id\":\"8108\",\"type\":\"DatetimeAxis\"},{\"attributes\":{\"fill_alpha\":{\"value\":0.5},\"fill_color\":{\"value\":\"#3B518A\"},\"line_alpha\":{\"value\":0.5},\"line_color\":{\"value\":\"#3B518A\"},\"size\":{\"units\":\"screen\",\"value\":10},\"x\":{\"field\":\"TimeGenerated\"},\"y\":{\"field\":\"y_index\"}},\"id\":\"8208\",\"type\":\"Diamond\"},{\"attributes\":{\"months\":[0,4,8]},\"id\":\"8289\",\"type\":\"MonthsTicker\"},{\"attributes\":{\"label\":{\"value\":\"157.56.162.53\"},\"renderers\":[{\"id\":\"8216\"}]},\"id\":\"8218\",\"type\":\"LegendItem\"},{\"attributes\":{\"active_drag\":\"auto\",\"active_inspect\":\"auto\",\"active_multi\":null,\"active_scroll\":\"auto\",\"active_tap\":\"auto\",\"tools\":[{\"id\":\"8096\"},{\"id\":\"8116\"},{\"id\":\"8117\"},{\"id\":\"8118\"},{\"id\":\"8119\"},{\"id\":\"8120\"}]},\"id\":\"8122\",\"type\":\"Toolbar\"},{\"attributes\":{\"label\":{\"value\":\"\"},\"renderers\":[{\"id\":\"8198\"}]},\"id\":\"8200\",\"type\":\"LegendItem\"},{\"attributes\":{\"days\":[1,4,7,10,13,16,19,22,25,28]},\"id\":\"8255\",\"type\":\"DaysTicker\"},{\"attributes\":{\"data\":{\"AppResourceProvider\":[\"Exchange\"],\"IPAddress\":[\"2603:10b6:5:1c0:cafe::5f\"],\"Operation\":[\"MailItemsAccessed\"],\"TimeGenerated\":{\"__ndarray__\":\"AID83MSId0I=\",\"dtype\":\"float64\",\"order\":\"little\",\"shape\":[1]},\"index\":[116],\"y_index\":[4]},\"selected\":{\"id\":\"8272\"},\"selection_policy\":{\"id\":\"8271\"}},\"id\":\"8092\",\"type\":\"ColumnDataSource\"},{\"attributes\":{\"days\":[1,8,15,22]},\"id\":\"8256\",\"type\":\"DaysTicker\"},{\"attributes\":{},\"id\":\"8273\",\"type\":\"UnionRenderers\"},{\"attributes\":{\"months\":[0,2,4,6,8,10]},\"id\":\"8259\",\"type\":\"MonthsTicker\"},{\"attributes\":{},\"id\":\"8291\",\"type\":\"YearsTicker\"},{\"attributes\":{\"data_source\":{\"id\":\"8088\"},\"glyph\":{\"id\":\"8196\"},\"hover_glyph\":null,\"muted_glyph\":null,\"nonselection_glyph\":{\"id\":\"8197\"},\"selection_glyph\":null,\"view\":{\"id\":\"8199\"}},\"id\":\"8198\",\"type\":\"GlyphRenderer\"},{\"attributes\":{\"months\":[0,1,2,3,4,5,6,7,8,9,10,11]},\"id\":\"8258\",\"type\":\"MonthsTicker\"},{\"attributes\":{\"label\":{\"value\":\"40.83.137.154\"},\"renderers\":[{\"id\":\"8234\"}]},\"id\":\"8236\",\"type\":\"LegendItem\"},{\"attributes\":{\"data\":{\"AppResourceProvider\":[\"MicrosoftTeams\",\"MicrosoftTeams\",\"MicrosoftTeams\",\"MicrosoftTeams\",\"MicrosoftTeams\",\"MicrosoftTeams\",\"MicrosoftTeams\",\"MicrosoftTeams\",\"MicrosoftTeams\",\"MicrosoftTeams\",\"MicrosoftTeams\",\"MicrosoftTeams\"],\"IPAddress\":[\"\",\"\",\"\",\"\",\"\",\"\",\"\",\"\",\"\",\"\",\"\",\"\"],\"Operation\":[\"TeamsSessionStarted\",\"TeamsSessionStarted\",\"TeamsSessionStarted\",\"TeamsSessionStarted\",\"TeamsSessionStarted\",\"TeamsSessionStarted\",\"TeamsSessionStarted\",\"TeamsSessionStarted\",\"TeamsSessionStarted\",\"TeamsSessionStarted\",\"TeamsSessionStarted\",\"TeamsSessionStarted\"],\"TimeGenerated\":{\"__ndarray__\":\"AABCUMOId0IAgP1Qw4h3QgAAp1TDiHdCAIDHWcOId0IAAHxww4h3QgAAUnfDiHdCAADJeMOId0IAAFL0w4h3QgAAz/TDiHdCAIAiJMaId0IAAGEkxoh3QgCAnyTGiHdC\",\"dtype\":\"float64\",\"order\":\"little\",\"shape\":[12]},\"index\":[122,123,124,125,128,126,127,111,110,114,113,115],\"y_index\":[0,0,0,0,0,0,0,0,0,0,0,0]},\"selected\":{\"id\":\"8264\"},\"selection_policy\":{\"id\":\"8263\"}},\"id\":\"8088\",\"type\":\"ColumnDataSource\"},{\"attributes\":{},\"id\":\"8118\",\"type\":\"ResetTool\"},{\"attributes\":{\"fill_color\":{\"value\":\"#472B7A\"},\"line_color\":{\"value\":\"#472B7A\"},\"x\":{\"field\":\"TimeGenerated\"},\"y\":{\"field\":\"y_index\"}},\"id\":\"8154\",\"type\":\"Circle\"},{\"attributes\":{},\"id\":\"8274\",\"type\":\"Selection\"},{\"attributes\":{\"end\":7.125,\"start\":-0.125},\"id\":\"8102\",\"type\":\"Range1d\"},{\"attributes\":{\"data_source\":{\"id\":\"8091\"},\"glyph\":{\"id\":\"8214\"},\"hover_glyph\":null,\"muted_glyph\":null,\"nonselection_glyph\":{\"id\":\"8215\"},\"selection_glyph\":null,\"view\":{\"id\":\"8217\"}},\"id\":\"8216\",\"type\":\"GlyphRenderer\"},{\"attributes\":{\"text\":\"Range Selector\"},\"id\":\"8130\",\"type\":\"Title\"},{\"attributes\":{\"months\":[0,6]},\"id\":\"8290\",\"type\":\"MonthsTicker\"},{\"attributes\":{\"data\":{\"AppResourceProvider\":[\"Azure Advanced Threat Protection\",\"Azure Advanced Threat Protection\",\"Azure Portal\",\"Microsoft 365 Security and Compliance Center\",\"Office365 Shell WCSS-Client\",\"Microsoft Cloud App Security\",\"Office365 Shell WCSS-Client\",\"Office365 Shell WCSS-Client\",\"Azure Advanced Threat Protection\",\"Azure Advanced Threat Protection\",\"Office365 Shell WCSS-Client\",\"Office 365 Exchange Online\",\"Office365 Shell WCSS-Client\",\"Office365 Shell WCSS-Client\",\"Office365 Shell WCSS-Client\",\"Office365 Shell WCSS-Client\",\"Office365 Shell WCSS-Client\",\"Microsoft Teams Web Client\",\"Microsoft Teams Web Client\",\"Microsoft Teams Web Client\",\"Microsoft Teams Web Client\",\"Microsoft Teams Web Client\",\"Microsoft Teams Web Client\",\"Microsoft Teams Web Client\",\"Microsoft Teams Web Client\",\"Microsoft Teams Web Client\",\"Microsoft Teams Web Client\",\"Microsoft Teams Web Client\",\"Microsoft Teams Web Client\",\"Microsoft Teams Web Client\",\"Microsoft Teams Web Client\",\"Microsoft Teams Web Client\",\"Microsoft Teams Web Client\",\"Microsoft Teams Web Client\",\"Microsoft Teams Web Client\",\"Microsoft Teams Web Client\",\"Microsoft Teams Web Client\",\"Microsoft Teams Web Client\",\"Microsoft Teams Web Client\",\"Microsoft Teams Web Client\",\"Microsoft Teams Web Client\",\"Microsoft Teams Web Client\",\"Microsoft Teams Web Client\",\"Microsoft Teams Web Client\",\"Microsoft Teams Web Client\",\"Microsoft Teams Web Client\",\"Microsoft Teams Web Client\",\"Microsoft Teams Web Client\",\"Microsoft Teams Web Client\",\"Microsoft Teams Web Client\",\"Microsoft Teams Web Client\",\"Microsoft Teams Web Client\",\"Microsoft Teams Web Client\",\"Microsoft Teams Web Client\",\"Microsoft Teams Web Client\",\"Microsoft Teams Web Client\",\"Microsoft Teams Web Client\",\"Microsoft Teams Web Client\",\"Microsoft Teams Web Client\",\"Microsoft Teams Web Client\",\"Microsoft Teams Web Client\",\"Microsoft Teams Web Client\",\"Microsoft Teams Web Client\",\"Microsoft Teams Web Client\",\"Microsoft Teams Web Client\",\"Microsoft Teams Web Client\",\"Microsoft Teams Web Client\",\"Microsoft Teams Web Client\",\"Microsoft Teams Web Client\",\"Microsoft Teams Web Client\",\"Microsoft Teams Web Client\",\"Microsoft Teams Web Client\",\"Microsoft Teams Web Client\",\"Microsoft Teams Web Client\",\"Microsoft Teams Web Client\",\"Microsoft Teams Web Client\",\"Microsoft Teams Web Client\",\"Microsoft 365 Security and Compliance Center\",\"Microsoft 365 Security and Compliance Center\",\"Azure Portal\",\"Office365 Shell WCSS-Client\",\"Office365 Shell WCSS-Client\",\"Microsoft Teams Web Client\",\"Microsoft Teams Web Client\",\"Microsoft Teams Web Client\",\"Microsoft Teams Web Client\",\"Microsoft Teams Web Client\",\"Microsoft Teams Web Client\",\"Microsoft Teams Web Client\",\"Microsoft Teams Web Client\"],\"IPAddress\":[\"109.88.218.99\",\"109.88.218.99\",\"109.88.218.99\",\"109.88.218.99\",\"109.88.218.99\",\"109.88.218.99\",\"109.88.218.99\",\"109.88.218.99\",\"109.88.218.99\",\"109.88.218.99\",\"109.88.218.99\",\"109.88.218.99\",\"109.88.218.99\",\"109.88.218.99\",\"109.88.218.99\",\"109.88.218.99\",\"109.88.218.99\",\"109.88.218.99\",\"109.88.218.99\",\"109.88.218.99\",\"109.88.218.99\",\"109.88.218.99\",\"109.88.218.99\",\"109.88.218.99\",\"109.88.218.99\",\"109.88.218.99\",\"109.88.218.99\",\"109.88.218.99\",\"109.88.218.99\",\"109.88.218.99\",\"109.88.218.99\",\"109.88.218.99\",\"109.88.218.99\",\"109.88.218.99\",\"109.88.218.99\",\"109.88.218.99\",\"109.88.218.99\",\"109.88.218.99\",\"109.88.218.99\",\"109.88.218.99\",\"109.88.218.99\",\"109.88.218.99\",\"109.88.218.99\",\"109.88.218.99\",\"109.88.218.99\",\"109.88.218.99\",\"109.88.218.99\",\"109.88.218.99\",\"109.88.218.99\",\"109.88.218.99\",\"109.88.218.99\",\"109.88.218.99\",\"109.88.218.99\",\"109.88.218.99\",\"109.88.218.99\",\"109.88.218.99\",\"109.88.218.99\",\"109.88.218.99\",\"109.88.218.99\",\"109.88.218.99\",\"109.88.218.99\",\"109.88.218.99\",\"109.88.218.99\",\"109.88.218.99\",\"109.88.218.99\",\"109.88.218.99\",\"109.88.218.99\",\"109.88.218.99\",\"109.88.218.99\",\"109.88.218.99\",\"109.88.218.99\",\"109.88.218.99\",\"109.88.218.99\",\"109.88.218.99\",\"109.88.218.99\",\"109.88.218.99\",\"109.88.218.99\",\"109.88.218.99\",\"109.88.218.99\",\"109.88.218.99\",\"109.88.218.99\",\"109.88.218.99\",\"109.88.218.99\",\"109.88.218.99\",\"109.88.218.99\",\"109.88.218.99\",\"109.88.218.99\",\"109.88.218.99\",\"109.88.218.99\",\"109.88.218.99\"],\"Operation\":[\"Sign-in activity\",\"Sign-in activity\",\"Sign-in activity\",\"Sign-in activity\",\"Sign-in activity\",\"Sign-in activity\",\"Sign-in activity\",\"Sign-in activity\",\"Sign-in activity\",\"Sign-in activity\",\"Sign-in activity\",\"Sign-in activity\",\"Sign-in activity\",\"Sign-in activity\",\"Sign-in activity\",\"Sign-in activity\",\"Sign-in activity\",\"Sign-in activity\",\"Sign-in activity\",\"Sign-in activity\",\"Sign-in activity\",\"Sign-in activity\",\"Sign-in activity\",\"Sign-in activity\",\"Sign-in activity\",\"Sign-in activity\",\"Sign-in activity\",\"Sign-in activity\",\"Sign-in activity\",\"Sign-in activity\",\"Sign-in activity\",\"Sign-in activity\",\"Sign-in activity\",\"Sign-in activity\",\"Sign-in activity\",\"Sign-in activity\",\"Sign-in activity\",\"Sign-in activity\",\"Sign-in activity\",\"Sign-in activity\",\"Sign-in activity\",\"Sign-in activity\",\"Sign-in activity\",\"Sign-in activity\",\"Sign-in activity\",\"Sign-in activity\",\"Sign-in activity\",\"Sign-in activity\",\"Sign-in activity\",\"Sign-in activity\",\"Sign-in activity\",\"Sign-in activity\",\"Sign-in activity\",\"Sign-in activity\",\"Sign-in activity\",\"Sign-in activity\",\"Sign-in activity\",\"Sign-in activity\",\"Sign-in activity\",\"Sign-in activity\",\"Sign-in activity\",\"Sign-in activity\",\"Sign-in activity\",\"Sign-in activity\",\"Sign-in activity\",\"Sign-in activity\",\"Sign-in activity\",\"Sign-in activity\",\"Sign-in activity\",\"Sign-in activity\",\"Sign-in activity\",\"Sign-in activity\",\"Sign-in activity\",\"Sign-in activity\",\"Sign-in activity\",\"Sign-in activity\",\"Sign-in activity\",\"Sign-in activity\",\"Sign-in activity\",\"Sign-in activity\",\"Sign-in activity\",\"Sign-in activity\",\"Sign-in activity\",\"Sign-in activity\",\"Sign-in activity\",\"Sign-in activity\",\"Sign-in activity\",\"Sign-in activity\",\"Sign-in activity\",\"Sign-in activity\"],\"TimeGenerated\":{\"__ndarray__\":\"AJAqeZCId0IAUPV5kIh3QgBAqoWQiHdCAPDctZCId0IA8Eu4kIh3QgCQeLiQiHdCADC8uJCId0IAcM64kIh3QgBAG+qTiHdCAFAAWpeId0IA0O40w4h3QgBABjXDiHdCAAAnNcOId0IAUEA1w4h3QgBAkE/DiHdCADDDT8OId0IAcOlPw4h3QgCAPl/DiHdCAOBxYMOId0IAUGxhw4h3QgCwbmHDiHdCAGAeYsOId0IAEOxww4h3QgDQC3HDiHdCABB9ccOId0IAoJxxw4h3QgBAs3HDiHdCAODQccOId0IAQNxxw4h3QgDwQHLDiHdCAECMlsaId0IAMKSbxoh3QgDATX/HiHdCADAX9seId0IAANTKyYh3QgBg88/JiHdCAHCy2MqId0IAIJwEy4h3QgCgUAXLiHdCABCKBcuId0IAAJGXy4h3QgBARf7LiHdCAHAsB82Id0IA0D8HzYh3QgBwaUrOiHdCAPBnds6Id0IAMEd4zoh3QgCgSXjOiHdCANBnCc+Id0IA0Cpwz4h3QgDQmS/QiHdCABDfPtCId0IAYJxP0oh3QgDwGqvSiHdCAGCH4NKId0IAoI7h0oh3QgAgug3TiHdCAFCxDtOId0IAULsO04h3QgBAIlfTiHdCAGBaddOId0IAkK+g04h3QgAgkcDViHdCAMD0BdaId0IAQK5R1oh3QgAQo1LWiHdCAGAdf9aId0IAACd/1oh3QgDgNH/WiHdCABA2f9aId0IA8PCq1oh3QgBQzRHXiHdCAFB8MtmId0IAYKRp2Yh3QgDQbaXZiHdCAPDBwtmId0IA4KjD2Yh3QgAQIB7biHdCAEBaHtuId0IA4MIe24h3QgBgDyTbiHdCAGAUJNuId0IAADCu24h3QgAwjK/biHdCAAA4sNuId0IAQGaw24h3QgDgirDbiHdCAPCisNuId0IA4K2w24h3QgDwi7HbiHdC\",\"dtype\":\"float64\",\"order\":\"little\",\"shape\":[90]},\"index\":[5,4,6,7,9,10,0,8,11,3,17,1,15,16,23,21,18,20,19,22,25,26,31,29,32,24,30,2,28,27,34,33,35,36,12,37,38,14,13,39,58,69,70,71,40,41,42,43,72,73,44,84,74,45,75,46,86,76,85,87,88,59,77,78,60,61,62,80,79,63,89,47,81,48,49,50,82,66,64,67,65,68,52,54,56,57,55,51,83,53],\"y_index\":[2,2,2,2,2,2,2,2,2,2,2,2,2,2,2,2,2,2,2,2,2,2,2,2,2,2,2,2,2,2,2,2,2,2,2,2,2,2,2,2,2,2,2,2,2,2,2,2,2,2,2,2,2,2,2,2,2,2,2,2,2,2,2,2,2,2,2,2,2,2,2,2,2,2,2,2,2,2,2,2,2,2,2,2,2,2,2,2,2,2]},\"selected\":{\"id\":\"8268\"},\"selection_policy\":{\"id\":\"8267\"}},\"id\":\"8090\",\"type\":\"ColumnDataSource\"},{\"attributes\":{\"source\":{\"id\":\"8091\"}},\"id\":\"8217\",\"type\":\"CDSView\"},{\"attributes\":{\"data_source\":{\"id\":\"8089\"},\"glyph\":{\"id\":\"8202\"},\"hover_glyph\":null,\"muted_glyph\":null,\"nonselection_glyph\":{\"id\":\"8203\"},\"selection_glyph\":null,\"view\":{\"id\":\"8205\"}},\"id\":\"8204\",\"type\":\"GlyphRenderer\"},{\"attributes\":{},\"id\":\"8267\",\"type\":\"UnionRenderers\"},{\"attributes\":{},\"id\":\"8276\",\"type\":\"Selection\"},{\"attributes\":{\"days\":[1,8,15,22]},\"id\":\"8285\",\"type\":\"DaysTicker\"},{\"attributes\":{},\"id\":\"8104\",\"type\":\"LinearScale\"},{\"attributes\":{\"fill_alpha\":{\"value\":0.5},\"fill_color\":{\"value\":\"#27AD80\"},\"line_alpha\":{\"value\":0.5},\"line_color\":{\"value\":\"#27AD80\"},\"size\":{\"units\":\"screen\",\"value\":10},\"x\":{\"field\":\"TimeGenerated\"},\"y\":{\"field\":\"y_index\"}},\"id\":\"8226\",\"type\":\"Diamond\"},{\"attributes\":{\"label\":{\"value\":\"2603:10b6:5:1c0:cafe::5f\"},\"renderers\":[{\"id\":\"8222\"}]},\"id\":\"8224\",\"type\":\"LegendItem\"},{\"attributes\":{\"months\":[0,1,2,3,4,5,6,7,8,9,10,11]},\"id\":\"8287\",\"type\":\"MonthsTicker\"},{\"attributes\":{\"axis\":{\"id\":\"8112\"},\"dimension\":1,\"grid_line_color\":null,\"ticker\":null},\"id\":\"8115\",\"type\":\"Grid\"},{\"attributes\":{\"months\":[0,6]},\"id\":\"8261\",\"type\":\"MonthsTicker\"},{\"attributes\":{},\"id\":\"8264\",\"type\":\"Selection\"},{\"attributes\":{\"fill_alpha\":{\"value\":0.1},\"fill_color\":{\"value\":\"#472B7A\"},\"line_alpha\":{\"value\":0.1},\"line_color\":{\"value\":\"#472B7A\"},\"size\":{\"units\":\"screen\",\"value\":10},\"x\":{\"field\":\"TimeGenerated\"},\"y\":{\"field\":\"y_index\"}},\"id\":\"8203\",\"type\":\"Diamond\"},{\"attributes\":{\"fill_alpha\":{\"value\":0.1},\"fill_color\":{\"value\":\"#27AD80\"},\"line_alpha\":{\"value\":0.1},\"line_color\":{\"value\":\"#27AD80\"},\"size\":{\"units\":\"screen\",\"value\":10},\"x\":{\"field\":\"TimeGenerated\"},\"y\":{\"field\":\"y_index\"}},\"id\":\"8227\",\"type\":\"Diamond\"},{\"attributes\":{\"source\":{\"id\":\"8090\"}},\"id\":\"8211\",\"type\":\"CDSView\"},{\"attributes\":{},\"id\":\"8271\",\"type\":\"UnionRenderers\"},{\"attributes\":{\"days\":[1,2,3,4,5,6,7,8,9,10,11,12,13,14,15,16,17,18,19,20,21,22,23,24,25,26,27,28,29,30,31]},\"id\":\"8283\",\"type\":\"DaysTicker\"},{\"attributes\":{\"days\":[1,15]},\"id\":\"8257\",\"type\":\"DaysTicker\"},{\"attributes\":{\"bottom_units\":\"screen\",\"fill_alpha\":0.5,\"fill_color\":\"lightgrey\",\"left_units\":\"screen\",\"level\":\"overlay\",\"line_alpha\":1.0,\"line_color\":\"black\",\"line_dash\":[4,4],\"line_width\":2,\"right_units\":\"screen\",\"top_units\":\"screen\"},\"id\":\"8121\",\"type\":\"BoxAnnotation\"},{\"attributes\":{\"data_source\":{\"id\":\"8089\"},\"glyph\":{\"id\":\"8154\"},\"hover_glyph\":null,\"muted_glyph\":null,\"nonselection_glyph\":{\"id\":\"8155\"},\"selection_glyph\":null,\"view\":{\"id\":\"8157\"}},\"id\":\"8156\",\"type\":\"GlyphRenderer\"},{\"attributes\":{\"overlay\":{\"id\":\"8121\"}},\"id\":\"8117\",\"type\":\"BoxZoomTool\"},{\"attributes\":{\"mantissas\":[1,2,5],\"max_interval\":500.0,\"num_minor_ticks\":0},\"id\":\"8280\",\"type\":\"AdaptiveTicker\"},{\"attributes\":{\"dimensions\":\"width\"},\"id\":\"8120\",\"type\":\"PanTool\"},{\"attributes\":{},\"id\":\"8270\",\"type\":\"Selection\"},{\"attributes\":{\"active_drag\":\"auto\",\"active_inspect\":\"auto\",\"active_multi\":{\"id\":\"8188\"},\"active_scroll\":\"auto\",\"active_tap\":\"auto\",\"tools\":[{\"id\":\"8188\"}]},\"id\":\"8144\",\"type\":\"Toolbar\"},{\"attributes\":{\"source\":{\"id\":\"8089\"}},\"id\":\"8205\",\"type\":\"CDSView\"},{\"attributes\":{},\"id\":\"8113\",\"type\":\"BasicTicker\"},{\"attributes\":{\"source\":{\"id\":\"8088\"}},\"id\":\"8152\",\"type\":\"CDSView\"},{\"attributes\":{\"days\":[1,15]},\"id\":\"8286\",\"type\":\"DaysTicker\"}],\"root_ids\":[\"8244\"]},\"title\":\"Bokeh Application\",\"version\":\"2.2.2\"}};\n",
       "  var render_items = [{\"docid\":\"e6b93427-3c7d-44a0-b622-15449a88b36c\",\"root_ids\":[\"8244\"],\"roots\":{\"8244\":\"9d0b3ef2-20f7-4274-8c2f-8b894747d9a7\"}}];\n",
       "  root.Bokeh.embed.embed_items_notebook(docs_json, render_items);\n",
       "\n",
       "  }\n",
       "  if (root.Bokeh !== undefined) {\n",
       "    embed_document(root);\n",
       "  } else {\n",
       "    var attempts = 0;\n",
       "    var timer = setInterval(function(root) {\n",
       "      if (root.Bokeh !== undefined) {\n",
       "        clearInterval(timer);\n",
       "        embed_document(root);\n",
       "      } else {\n",
       "        attempts++;\n",
       "        if (attempts > 100) {\n",
       "          clearInterval(timer);\n",
       "          console.log(\"Bokeh: ERROR: Unable to run BokehJS code because BokehJS library is missing\");\n",
       "        }\n",
       "      }\n",
       "    }, 10, root)\n",
       "  }\n",
       "})(window);"
      ],
      "application/vnd.bokehjs_exec.v0+json": ""
     },
     "metadata": {
      "application/vnd.bokehjs_exec.v0+json": {
       "id": "8244"
      }
     },
     "output_type": "display_data"
    },
    {
     "data": {
      "text/html": [
       "\n",
       "    <div class=\"bk-root\">\n",
       "        <a href=\"https://bokeh.org\" target=\"_blank\" class=\"bk-logo bk-logo-small bk-logo-notebook\"></a>\n",
       "        <span id=\"8533\">Loading BokehJS ...</span>\n",
       "    </div>"
      ]
     },
     "metadata": {},
     "output_type": "display_data"
    },
    {
     "data": {
      "application/javascript": [
       "\n",
       "(function(root) {\n",
       "  function now() {\n",
       "    return new Date();\n",
       "  }\n",
       "\n",
       "  var force = true;\n",
       "\n",
       "  if (typeof root._bokeh_onload_callbacks === \"undefined\" || force === true) {\n",
       "    root._bokeh_onload_callbacks = [];\n",
       "    root._bokeh_is_loading = undefined;\n",
       "  }\n",
       "\n",
       "  var JS_MIME_TYPE = 'application/javascript';\n",
       "  var HTML_MIME_TYPE = 'text/html';\n",
       "  var EXEC_MIME_TYPE = 'application/vnd.bokehjs_exec.v0+json';\n",
       "  var CLASS_NAME = 'output_bokeh rendered_html';\n",
       "\n",
       "  /**\n",
       "   * Render data to the DOM node\n",
       "   */\n",
       "  function render(props, node) {\n",
       "    var script = document.createElement(\"script\");\n",
       "    node.appendChild(script);\n",
       "  }\n",
       "\n",
       "  /**\n",
       "   * Handle when an output is cleared or removed\n",
       "   */\n",
       "  function handleClearOutput(event, handle) {\n",
       "    var cell = handle.cell;\n",
       "\n",
       "    var id = cell.output_area._bokeh_element_id;\n",
       "    var server_id = cell.output_area._bokeh_server_id;\n",
       "    // Clean up Bokeh references\n",
       "    if (id != null && id in Bokeh.index) {\n",
       "      Bokeh.index[id].model.document.clear();\n",
       "      delete Bokeh.index[id];\n",
       "    }\n",
       "\n",
       "    if (server_id !== undefined) {\n",
       "      // Clean up Bokeh references\n",
       "      var cmd = \"from bokeh.io.state import curstate; print(curstate().uuid_to_server['\" + server_id + \"'].get_sessions()[0].document.roots[0]._id)\";\n",
       "      cell.notebook.kernel.execute(cmd, {\n",
       "        iopub: {\n",
       "          output: function(msg) {\n",
       "            var id = msg.content.text.trim();\n",
       "            if (id in Bokeh.index) {\n",
       "              Bokeh.index[id].model.document.clear();\n",
       "              delete Bokeh.index[id];\n",
       "            }\n",
       "          }\n",
       "        }\n",
       "      });\n",
       "      // Destroy server and session\n",
       "      var cmd = \"import bokeh.io.notebook as ion; ion.destroy_server('\" + server_id + \"')\";\n",
       "      cell.notebook.kernel.execute(cmd);\n",
       "    }\n",
       "  }\n",
       "\n",
       "  /**\n",
       "   * Handle when a new output is added\n",
       "   */\n",
       "  function handleAddOutput(event, handle) {\n",
       "    var output_area = handle.output_area;\n",
       "    var output = handle.output;\n",
       "\n",
       "    // limit handleAddOutput to display_data with EXEC_MIME_TYPE content only\n",
       "    if ((output.output_type != \"display_data\") || (!output.data.hasOwnProperty(EXEC_MIME_TYPE))) {\n",
       "      return\n",
       "    }\n",
       "\n",
       "    var toinsert = output_area.element.find(\".\" + CLASS_NAME.split(' ')[0]);\n",
       "\n",
       "    if (output.metadata[EXEC_MIME_TYPE][\"id\"] !== undefined) {\n",
       "      toinsert[toinsert.length - 1].firstChild.textContent = output.data[JS_MIME_TYPE];\n",
       "      // store reference to embed id on output_area\n",
       "      output_area._bokeh_element_id = output.metadata[EXEC_MIME_TYPE][\"id\"];\n",
       "    }\n",
       "    if (output.metadata[EXEC_MIME_TYPE][\"server_id\"] !== undefined) {\n",
       "      var bk_div = document.createElement(\"div\");\n",
       "      bk_div.innerHTML = output.data[HTML_MIME_TYPE];\n",
       "      var script_attrs = bk_div.children[0].attributes;\n",
       "      for (var i = 0; i < script_attrs.length; i++) {\n",
       "        toinsert[toinsert.length - 1].firstChild.setAttribute(script_attrs[i].name, script_attrs[i].value);\n",
       "        toinsert[toinsert.length - 1].firstChild.textContent = bk_div.children[0].textContent\n",
       "      }\n",
       "      // store reference to server id on output_area\n",
       "      output_area._bokeh_server_id = output.metadata[EXEC_MIME_TYPE][\"server_id\"];\n",
       "    }\n",
       "  }\n",
       "\n",
       "  function register_renderer(events, OutputArea) {\n",
       "\n",
       "    function append_mime(data, metadata, element) {\n",
       "      // create a DOM node to render to\n",
       "      var toinsert = this.create_output_subarea(\n",
       "        metadata,\n",
       "        CLASS_NAME,\n",
       "        EXEC_MIME_TYPE\n",
       "      );\n",
       "      this.keyboard_manager.register_events(toinsert);\n",
       "      // Render to node\n",
       "      var props = {data: data, metadata: metadata[EXEC_MIME_TYPE]};\n",
       "      render(props, toinsert[toinsert.length - 1]);\n",
       "      element.append(toinsert);\n",
       "      return toinsert\n",
       "    }\n",
       "\n",
       "    /* Handle when an output is cleared or removed */\n",
       "    events.on('clear_output.CodeCell', handleClearOutput);\n",
       "    events.on('delete.Cell', handleClearOutput);\n",
       "\n",
       "    /* Handle when a new output is added */\n",
       "    events.on('output_added.OutputArea', handleAddOutput);\n",
       "\n",
       "    /**\n",
       "     * Register the mime type and append_mime function with output_area\n",
       "     */\n",
       "    OutputArea.prototype.register_mime_type(EXEC_MIME_TYPE, append_mime, {\n",
       "      /* Is output safe? */\n",
       "      safe: true,\n",
       "      /* Index of renderer in `output_area.display_order` */\n",
       "      index: 0\n",
       "    });\n",
       "  }\n",
       "\n",
       "  // register the mime type if in Jupyter Notebook environment and previously unregistered\n",
       "  if (root.Jupyter !== undefined) {\n",
       "    var events = require('base/js/events');\n",
       "    var OutputArea = require('notebook/js/outputarea').OutputArea;\n",
       "\n",
       "    if (OutputArea.prototype.mime_types().indexOf(EXEC_MIME_TYPE) == -1) {\n",
       "      register_renderer(events, OutputArea);\n",
       "    }\n",
       "  }\n",
       "\n",
       "  \n",
       "  if (typeof (root._bokeh_timeout) === \"undefined\" || force === true) {\n",
       "    root._bokeh_timeout = Date.now() + 5000;\n",
       "    root._bokeh_failed_load = false;\n",
       "  }\n",
       "\n",
       "  var NB_LOAD_WARNING = {'data': {'text/html':\n",
       "     \"<div style='background-color: #fdd'>\\n\"+\n",
       "     \"<p>\\n\"+\n",
       "     \"BokehJS does not appear to have successfully loaded. If loading BokehJS from CDN, this \\n\"+\n",
       "     \"may be due to a slow or bad network connection. Possible fixes:\\n\"+\n",
       "     \"</p>\\n\"+\n",
       "     \"<ul>\\n\"+\n",
       "     \"<li>re-rerun `output_notebook()` to attempt to load from CDN again, or</li>\\n\"+\n",
       "     \"<li>use INLINE resources instead, as so:</li>\\n\"+\n",
       "     \"</ul>\\n\"+\n",
       "     \"<code>\\n\"+\n",
       "     \"from bokeh.resources import INLINE\\n\"+\n",
       "     \"output_notebook(resources=INLINE)\\n\"+\n",
       "     \"</code>\\n\"+\n",
       "     \"</div>\"}};\n",
       "\n",
       "  function display_loaded() {\n",
       "    var el = document.getElementById(\"8533\");\n",
       "    if (el != null) {\n",
       "      el.textContent = \"BokehJS is loading...\";\n",
       "    }\n",
       "    if (root.Bokeh !== undefined) {\n",
       "      if (el != null) {\n",
       "        el.textContent = \"BokehJS \" + root.Bokeh.version + \" successfully loaded.\";\n",
       "      }\n",
       "    } else if (Date.now() < root._bokeh_timeout) {\n",
       "      setTimeout(display_loaded, 100)\n",
       "    }\n",
       "  }\n",
       "\n",
       "\n",
       "  function run_callbacks() {\n",
       "    try {\n",
       "      root._bokeh_onload_callbacks.forEach(function(callback) {\n",
       "        if (callback != null)\n",
       "          callback();\n",
       "      });\n",
       "    } finally {\n",
       "      delete root._bokeh_onload_callbacks\n",
       "    }\n",
       "    console.debug(\"Bokeh: all callbacks have finished\");\n",
       "  }\n",
       "\n",
       "  function load_libs(css_urls, js_urls, callback) {\n",
       "    if (css_urls == null) css_urls = [];\n",
       "    if (js_urls == null) js_urls = [];\n",
       "\n",
       "    root._bokeh_onload_callbacks.push(callback);\n",
       "    if (root._bokeh_is_loading > 0) {\n",
       "      console.debug(\"Bokeh: BokehJS is being loaded, scheduling callback at\", now());\n",
       "      return null;\n",
       "    }\n",
       "    if (js_urls == null || js_urls.length === 0) {\n",
       "      run_callbacks();\n",
       "      return null;\n",
       "    }\n",
       "    console.debug(\"Bokeh: BokehJS not loaded, scheduling load and callback at\", now());\n",
       "    root._bokeh_is_loading = css_urls.length + js_urls.length;\n",
       "\n",
       "    function on_load() {\n",
       "      root._bokeh_is_loading--;\n",
       "      if (root._bokeh_is_loading === 0) {\n",
       "        console.debug(\"Bokeh: all BokehJS libraries/stylesheets loaded\");\n",
       "        run_callbacks()\n",
       "      }\n",
       "    }\n",
       "\n",
       "    function on_error() {\n",
       "      console.error(\"failed to load \" + url);\n",
       "    }\n",
       "\n",
       "    for (var i = 0; i < css_urls.length; i++) {\n",
       "      var url = css_urls[i];\n",
       "      const element = document.createElement(\"link\");\n",
       "      element.onload = on_load;\n",
       "      element.onerror = on_error;\n",
       "      element.rel = \"stylesheet\";\n",
       "      element.type = \"text/css\";\n",
       "      element.href = url;\n",
       "      console.debug(\"Bokeh: injecting link tag for BokehJS stylesheet: \", url);\n",
       "      document.body.appendChild(element);\n",
       "    }\n",
       "\n",
       "    const hashes = {\"https://cdn.bokeh.org/bokeh/release/bokeh-2.2.2.min.js\": \"JayppSWSRBsibIZqI8S4vAb1oFgLL0uhNvSn8cmArlOvYOwfFjYeyY5UWwJ+K0SU\", \"https://cdn.bokeh.org/bokeh/release/bokeh-widgets-2.2.2.min.js\": \"G0/Tv/Yy/zEPNsnW0Qif/FOsGesd+KIrKg/QLmvQmReuUW9qmSP7mAmr0VpiUNr3\", \"https://cdn.bokeh.org/bokeh/release/bokeh-tables-2.2.2.min.js\": \"VLYHEbLQDk5G1+/4ALU0myoJPMEUsngWry2fzYorFOUmarjGRPLLURaeK/on6JqX\"};\n",
       "\n",
       "    for (var i = 0; i < js_urls.length; i++) {\n",
       "      var url = js_urls[i];\n",
       "      var element = document.createElement('script');\n",
       "      element.onload = on_load;\n",
       "      element.onerror = on_error;\n",
       "      element.async = false;\n",
       "      element.src = url;\n",
       "      if (url in hashes) {\n",
       "        element.crossOrigin = \"anonymous\";\n",
       "        element.integrity = \"sha384-\" + hashes[url];\n",
       "      }\n",
       "      console.debug(\"Bokeh: injecting script tag for BokehJS library: \", url);\n",
       "      document.head.appendChild(element);\n",
       "    }\n",
       "  };\n",
       "\n",
       "  function inject_raw_css(css) {\n",
       "    const element = document.createElement(\"style\");\n",
       "    element.appendChild(document.createTextNode(css));\n",
       "    document.body.appendChild(element);\n",
       "  }\n",
       "\n",
       "  \n",
       "  var js_urls = [\"https://cdn.bokeh.org/bokeh/release/bokeh-2.2.2.min.js\", \"https://cdn.bokeh.org/bokeh/release/bokeh-widgets-2.2.2.min.js\", \"https://cdn.bokeh.org/bokeh/release/bokeh-tables-2.2.2.min.js\"];\n",
       "  var css_urls = [];\n",
       "  \n",
       "\n",
       "  var inline_js = [\n",
       "    function(Bokeh) {\n",
       "      Bokeh.set_log_level(\"info\");\n",
       "    },\n",
       "    function(Bokeh) {\n",
       "    \n",
       "    \n",
       "    }\n",
       "  ];\n",
       "\n",
       "  function run_inline_js() {\n",
       "    \n",
       "    if (root.Bokeh !== undefined || force === true) {\n",
       "      \n",
       "    for (var i = 0; i < inline_js.length; i++) {\n",
       "      inline_js[i].call(root, root.Bokeh);\n",
       "    }\n",
       "    if (force === true) {\n",
       "        display_loaded();\n",
       "      }} else if (Date.now() < root._bokeh_timeout) {\n",
       "      setTimeout(run_inline_js, 100);\n",
       "    } else if (!root._bokeh_failed_load) {\n",
       "      console.log(\"Bokeh: BokehJS failed to load within specified timeout.\");\n",
       "      root._bokeh_failed_load = true;\n",
       "    } else if (force !== true) {\n",
       "      var cell = $(document.getElementById(\"8533\")).parents('.cell').data().cell;\n",
       "      cell.output_area.append_execute_result(NB_LOAD_WARNING)\n",
       "    }\n",
       "\n",
       "  }\n",
       "\n",
       "  if (root._bokeh_is_loading === 0) {\n",
       "    console.debug(\"Bokeh: BokehJS loaded, going straight to plotting\");\n",
       "    run_inline_js();\n",
       "  } else {\n",
       "    load_libs(css_urls, js_urls, function() {\n",
       "      console.debug(\"Bokeh: BokehJS plotting callback run at\", now());\n",
       "      run_inline_js();\n",
       "    });\n",
       "  }\n",
       "}(window));"
      ],
      "application/vnd.bokehjs_load.v0+json": "\n(function(root) {\n  function now() {\n    return new Date();\n  }\n\n  var force = true;\n\n  if (typeof root._bokeh_onload_callbacks === \"undefined\" || force === true) {\n    root._bokeh_onload_callbacks = [];\n    root._bokeh_is_loading = undefined;\n  }\n\n  \n\n  \n  if (typeof (root._bokeh_timeout) === \"undefined\" || force === true) {\n    root._bokeh_timeout = Date.now() + 5000;\n    root._bokeh_failed_load = false;\n  }\n\n  var NB_LOAD_WARNING = {'data': {'text/html':\n     \"<div style='background-color: #fdd'>\\n\"+\n     \"<p>\\n\"+\n     \"BokehJS does not appear to have successfully loaded. If loading BokehJS from CDN, this \\n\"+\n     \"may be due to a slow or bad network connection. Possible fixes:\\n\"+\n     \"</p>\\n\"+\n     \"<ul>\\n\"+\n     \"<li>re-rerun `output_notebook()` to attempt to load from CDN again, or</li>\\n\"+\n     \"<li>use INLINE resources instead, as so:</li>\\n\"+\n     \"</ul>\\n\"+\n     \"<code>\\n\"+\n     \"from bokeh.resources import INLINE\\n\"+\n     \"output_notebook(resources=INLINE)\\n\"+\n     \"</code>\\n\"+\n     \"</div>\"}};\n\n  function display_loaded() {\n    var el = document.getElementById(\"8533\");\n    if (el != null) {\n      el.textContent = \"BokehJS is loading...\";\n    }\n    if (root.Bokeh !== undefined) {\n      if (el != null) {\n        el.textContent = \"BokehJS \" + root.Bokeh.version + \" successfully loaded.\";\n      }\n    } else if (Date.now() < root._bokeh_timeout) {\n      setTimeout(display_loaded, 100)\n    }\n  }\n\n\n  function run_callbacks() {\n    try {\n      root._bokeh_onload_callbacks.forEach(function(callback) {\n        if (callback != null)\n          callback();\n      });\n    } finally {\n      delete root._bokeh_onload_callbacks\n    }\n    console.debug(\"Bokeh: all callbacks have finished\");\n  }\n\n  function load_libs(css_urls, js_urls, callback) {\n    if (css_urls == null) css_urls = [];\n    if (js_urls == null) js_urls = [];\n\n    root._bokeh_onload_callbacks.push(callback);\n    if (root._bokeh_is_loading > 0) {\n      console.debug(\"Bokeh: BokehJS is being loaded, scheduling callback at\", now());\n      return null;\n    }\n    if (js_urls == null || js_urls.length === 0) {\n      run_callbacks();\n      return null;\n    }\n    console.debug(\"Bokeh: BokehJS not loaded, scheduling load and callback at\", now());\n    root._bokeh_is_loading = css_urls.length + js_urls.length;\n\n    function on_load() {\n      root._bokeh_is_loading--;\n      if (root._bokeh_is_loading === 0) {\n        console.debug(\"Bokeh: all BokehJS libraries/stylesheets loaded\");\n        run_callbacks()\n      }\n    }\n\n    function on_error() {\n      console.error(\"failed to load \" + url);\n    }\n\n    for (var i = 0; i < css_urls.length; i++) {\n      var url = css_urls[i];\n      const element = document.createElement(\"link\");\n      element.onload = on_load;\n      element.onerror = on_error;\n      element.rel = \"stylesheet\";\n      element.type = \"text/css\";\n      element.href = url;\n      console.debug(\"Bokeh: injecting link tag for BokehJS stylesheet: \", url);\n      document.body.appendChild(element);\n    }\n\n    const hashes = {\"https://cdn.bokeh.org/bokeh/release/bokeh-2.2.2.min.js\": \"JayppSWSRBsibIZqI8S4vAb1oFgLL0uhNvSn8cmArlOvYOwfFjYeyY5UWwJ+K0SU\", \"https://cdn.bokeh.org/bokeh/release/bokeh-widgets-2.2.2.min.js\": \"G0/Tv/Yy/zEPNsnW0Qif/FOsGesd+KIrKg/QLmvQmReuUW9qmSP7mAmr0VpiUNr3\", \"https://cdn.bokeh.org/bokeh/release/bokeh-tables-2.2.2.min.js\": \"VLYHEbLQDk5G1+/4ALU0myoJPMEUsngWry2fzYorFOUmarjGRPLLURaeK/on6JqX\"};\n\n    for (var i = 0; i < js_urls.length; i++) {\n      var url = js_urls[i];\n      var element = document.createElement('script');\n      element.onload = on_load;\n      element.onerror = on_error;\n      element.async = false;\n      element.src = url;\n      if (url in hashes) {\n        element.crossOrigin = \"anonymous\";\n        element.integrity = \"sha384-\" + hashes[url];\n      }\n      console.debug(\"Bokeh: injecting script tag for BokehJS library: \", url);\n      document.head.appendChild(element);\n    }\n  };\n\n  function inject_raw_css(css) {\n    const element = document.createElement(\"style\");\n    element.appendChild(document.createTextNode(css));\n    document.body.appendChild(element);\n  }\n\n  \n  var js_urls = [\"https://cdn.bokeh.org/bokeh/release/bokeh-2.2.2.min.js\", \"https://cdn.bokeh.org/bokeh/release/bokeh-widgets-2.2.2.min.js\", \"https://cdn.bokeh.org/bokeh/release/bokeh-tables-2.2.2.min.js\"];\n  var css_urls = [];\n  \n\n  var inline_js = [\n    function(Bokeh) {\n      Bokeh.set_log_level(\"info\");\n    },\n    function(Bokeh) {\n    \n    \n    }\n  ];\n\n  function run_inline_js() {\n    \n    if (root.Bokeh !== undefined || force === true) {\n      \n    for (var i = 0; i < inline_js.length; i++) {\n      inline_js[i].call(root, root.Bokeh);\n    }\n    if (force === true) {\n        display_loaded();\n      }} else if (Date.now() < root._bokeh_timeout) {\n      setTimeout(run_inline_js, 100);\n    } else if (!root._bokeh_failed_load) {\n      console.log(\"Bokeh: BokehJS failed to load within specified timeout.\");\n      root._bokeh_failed_load = true;\n    } else if (force !== true) {\n      var cell = $(document.getElementById(\"8533\")).parents('.cell').data().cell;\n      cell.output_area.append_execute_result(NB_LOAD_WARNING)\n    }\n\n  }\n\n  if (root._bokeh_is_loading === 0) {\n    console.debug(\"Bokeh: BokehJS loaded, going straight to plotting\");\n    run_inline_js();\n  } else {\n    load_libs(css_urls, js_urls, function() {\n      console.debug(\"Bokeh: BokehJS plotting callback run at\", now());\n      run_inline_js();\n    });\n  }\n}(window));"
     },
     "metadata": {},
     "output_type": "display_data"
    },
    {
     "data": {
      "text/html": [
       "\n",
       "\n",
       "\n",
       "\n",
       "\n",
       "\n",
       "  <div class=\"bk-root\" id=\"ab520777-514c-456c-a68f-4b0bc73d4356\" data-root-id=\"8666\"></div>\n"
      ]
     },
     "metadata": {},
     "output_type": "display_data"
    },
    {
     "data": {
      "application/javascript": [
       "(function(root) {\n",
       "  function embed_document(root) {\n",
       "    \n",
       "  var docs_json = {\"41767ffb-a615-4944-b975-9c886defe84f\":{\"roots\":{\"references\":[{\"attributes\":{\"children\":[{\"id\":\"8541\"},{\"id\":\"8573\"}]},\"id\":\"8666\",\"type\":\"Column\"},{\"attributes\":{\"fill_color\":{\"value\":\"#440154\"},\"line_color\":{\"value\":\"#440154\"},\"x\":{\"field\":\"TimeGenerated\"},\"y\":{\"field\":\"y_index\"}},\"id\":\"8593\",\"type\":\"Circle\"},{\"attributes\":{\"label\":{\"value\":\"FileAccessed\"},\"renderers\":[{\"id\":\"8632\"}]},\"id\":\"8634\",\"type\":\"LegendItem\"},{\"attributes\":{},\"id\":\"8563\",\"type\":\"SaveTool\"},{\"attributes\":{\"label\":{\"value\":\"MailItemsAccessed\"},\"renderers\":[{\"id\":\"8644\"}]},\"id\":\"8646\",\"type\":\"LegendItem\"},{\"attributes\":{\"fill_alpha\":{\"value\":0.5},\"fill_color\":{\"value\":\"#8DD644\"},\"line_alpha\":{\"value\":0.5},\"line_color\":{\"value\":\"#8DD644\"},\"size\":{\"units\":\"screen\",\"value\":10},\"x\":{\"field\":\"TimeGenerated\"},\"y\":{\"field\":\"y_index\"}},\"id\":\"8660\",\"type\":\"Diamond\"},{\"attributes\":{\"fill_color\":{\"value\":\"#443982\"},\"line_color\":{\"value\":\"#443982\"},\"x\":{\"field\":\"TimeGenerated\"},\"y\":{\"field\":\"y_index\"}},\"id\":\"8598\",\"type\":\"Circle\"},{\"attributes\":{},\"id\":\"8562\",\"type\":\"ResetTool\"},{\"attributes\":{\"label\":{\"value\":\"FileModified\"},\"renderers\":[{\"id\":\"8638\"}]},\"id\":\"8640\",\"type\":\"LegendItem\"},{\"attributes\":{\"days\":[1,4,7,10,13,16,19,22,25,28]},\"id\":\"8677\",\"type\":\"DaysTicker\"},{\"attributes\":{\"overlay\":{\"id\":\"8565\"}},\"id\":\"8561\",\"type\":\"BoxZoomTool\"},{\"attributes\":{},\"id\":\"8688\",\"type\":\"Selection\"},{\"attributes\":{\"months\":[0,1,2,3,4,5,6,7,8,9,10,11]},\"id\":\"8705\",\"type\":\"MonthsTicker\"},{\"attributes\":{\"fill_alpha\":{\"value\":0.5},\"fill_color\":{\"value\":\"#440154\"},\"line_alpha\":{\"value\":0.5},\"line_color\":{\"value\":\"#440154\"},\"size\":{\"units\":\"screen\",\"value\":10},\"x\":{\"field\":\"TimeGenerated\"},\"y\":{\"field\":\"y_index\"}},\"id\":\"8630\",\"type\":\"Diamond\"},{\"attributes\":{},\"id\":\"8692\",\"type\":\"Selection\"},{\"attributes\":{\"fill_alpha\":{\"value\":0.5},\"fill_color\":{\"value\":\"#443982\"},\"line_alpha\":{\"value\":0.5},\"line_color\":{\"value\":\"#443982\"},\"size\":{\"units\":\"screen\",\"value\":10},\"x\":{\"field\":\"TimeGenerated\"},\"y\":{\"field\":\"y_index\"}},\"id\":\"8636\",\"type\":\"Diamond\"},{\"attributes\":{\"fill_alpha\":{\"value\":0.1},\"fill_color\":{\"value\":\"#443982\"},\"line_alpha\":{\"value\":0.1},\"line_color\":{\"value\":\"#443982\"},\"size\":{\"units\":\"screen\",\"value\":10},\"x\":{\"field\":\"TimeGenerated\"},\"y\":{\"field\":\"y_index\"}},\"id\":\"8637\",\"type\":\"Diamond\"},{\"attributes\":{\"fill_alpha\":{\"value\":0.1},\"fill_color\":{\"value\":\"#208F8C\"},\"line_alpha\":{\"value\":0.1},\"line_color\":{\"value\":\"#208F8C\"},\"x\":{\"field\":\"TimeGenerated\"},\"y\":{\"field\":\"y_index\"}},\"id\":\"8609\",\"type\":\"Circle\"},{\"attributes\":{\"bottom_units\":\"screen\",\"fill_alpha\":0.5,\"fill_color\":\"lightgrey\",\"left_units\":\"screen\",\"level\":\"overlay\",\"line_alpha\":1.0,\"line_color\":\"black\",\"line_dash\":[4,4],\"line_width\":2,\"right_units\":\"screen\",\"top_units\":\"screen\"},\"id\":\"8565\",\"type\":\"BoxAnnotation\"},{\"attributes\":{\"data_source\":{\"id\":\"8534\"},\"glyph\":{\"id\":\"8593\"},\"hover_glyph\":null,\"muted_glyph\":null,\"nonselection_glyph\":{\"id\":\"8594\"},\"selection_glyph\":null,\"view\":{\"id\":\"8596\"}},\"id\":\"8595\",\"type\":\"GlyphRenderer\"},{\"attributes\":{\"days\":[\"%m-%d %H:%M\"],\"hours\":[\"%H:%M:%S\"],\"milliseconds\":[\"%H:%M:%S.%3N\"],\"minutes\":[\"%H:%M:%S\"],\"seconds\":[\"%H:%M:%S\"]},\"id\":\"8627\",\"type\":\"DatetimeTickFormatter\"},{\"attributes\":{\"align\":\"right\",\"text\":\"Drag the middle or edges of the selection box to change the range in the main chart\",\"text_font_size\":{\"value\":\"10px\"}},\"id\":\"8589\",\"type\":\"Title\"},{\"attributes\":{\"data\":{\"AppResourceProvider\":[\"Azure Advanced Threat Protection\",\"Azure Advanced Threat Protection\",\"Azure Portal\",\"Microsoft 365 Security and Compliance Center\",\"Office365 Shell WCSS-Client\",\"Microsoft Cloud App Security\",\"Office365 Shell WCSS-Client\",\"Office365 Shell WCSS-Client\",\"Azure Advanced Threat Protection\",\"Azure Advanced Threat Protection\",\"Office365 Shell WCSS-Client\",\"Office 365 Exchange Online\",\"Office365 Shell WCSS-Client\",\"Office365 Shell WCSS-Client\",\"Office365 Shell WCSS-Client\",\"Office365 Shell WCSS-Client\",\"Office365 Shell WCSS-Client\",\"Microsoft Teams Web Client\",\"Microsoft Teams Web Client\",\"Microsoft Teams Web Client\",\"Microsoft Teams Web Client\",\"Microsoft Teams Web Client\",\"Microsoft Teams Web Client\",\"Microsoft Teams Web Client\",\"Microsoft Teams Web Client\",\"Microsoft Teams Web Client\",\"Microsoft Teams Web Client\",\"Microsoft Teams Web Client\",\"Microsoft Teams Web Client\",\"Microsoft Teams Web Client\",\"Microsoft Teams Web Client\",\"Microsoft Teams Web Client\",\"Microsoft Teams Web Client\",\"Microsoft Teams Web Client\",\"Microsoft Teams Web Client\",\"Microsoft Teams Web Client\",\"Microsoft Teams Web Client\",\"Microsoft Teams Web Client\",\"Microsoft Teams Web Client\",\"Microsoft Teams Web Client\",\"Microsoft Teams Web Client\",\"Microsoft Teams Web Client\",\"Microsoft Teams Web Client\",\"Microsoft Teams Web Client\",\"Microsoft Teams Web Client\",\"Microsoft Teams Web Client\",\"Microsoft Teams Web Client\",\"Microsoft Teams Web Client\",\"Microsoft Teams Web Client\",\"Microsoft Teams Web Client\",\"Microsoft Teams Web Client\",\"Microsoft Teams Web Client\",\"Microsoft Teams Web Client\",\"Microsoft Teams Web Client\",\"Microsoft Teams Web Client\",\"Microsoft Teams Web Client\",\"Microsoft Teams Web Client\",\"Microsoft Teams Web Client\",\"Microsoft Teams Web Client\",\"Microsoft Teams Web Client\",\"Microsoft Teams Web Client\",\"Microsoft Teams Web Client\",\"Microsoft Teams Web Client\",\"Microsoft Teams Web Client\",\"Microsoft Teams Web Client\",\"Microsoft Teams Web Client\",\"Microsoft Teams Web Client\",\"Microsoft Teams Web Client\",\"Microsoft Teams Web Client\",\"Microsoft Teams Web Client\",\"Microsoft Teams Web Client\",\"Microsoft Teams Web Client\",\"Microsoft Teams Web Client\",\"Microsoft Teams Web Client\",\"Microsoft Teams Web Client\",\"Microsoft Teams Web Client\",\"Microsoft Teams Web Client\",\"Microsoft 365 Security and Compliance Center\",\"Microsoft 365 Security and Compliance Center\",\"Azure Portal\",\"Office365 Shell WCSS-Client\",\"Office365 Shell WCSS-Client\",\"Microsoft Teams Web Client\",\"Microsoft Teams Web Client\",\"Microsoft Teams Web Client\",\"Microsoft Teams Web Client\",\"Microsoft Teams Web Client\",\"Microsoft Teams Web Client\",\"Microsoft Teams Web Client\",\"Microsoft Teams Web Client\"],\"IPAddress\":[\"109.88.218.99\",\"109.88.218.99\",\"109.88.218.99\",\"109.88.218.99\",\"109.88.218.99\",\"109.88.218.99\",\"109.88.218.99\",\"109.88.218.99\",\"109.88.218.99\",\"109.88.218.99\",\"109.88.218.99\",\"109.88.218.99\",\"109.88.218.99\",\"109.88.218.99\",\"109.88.218.99\",\"109.88.218.99\",\"109.88.218.99\",\"109.88.218.99\",\"109.88.218.99\",\"109.88.218.99\",\"109.88.218.99\",\"109.88.218.99\",\"109.88.218.99\",\"109.88.218.99\",\"109.88.218.99\",\"109.88.218.99\",\"109.88.218.99\",\"109.88.218.99\",\"109.88.218.99\",\"109.88.218.99\",\"109.88.218.99\",\"109.88.218.99\",\"109.88.218.99\",\"109.88.218.99\",\"109.88.218.99\",\"109.88.218.99\",\"109.88.218.99\",\"109.88.218.99\",\"109.88.218.99\",\"109.88.218.99\",\"109.88.218.99\",\"109.88.218.99\",\"109.88.218.99\",\"109.88.218.99\",\"109.88.218.99\",\"109.88.218.99\",\"109.88.218.99\",\"109.88.218.99\",\"109.88.218.99\",\"109.88.218.99\",\"109.88.218.99\",\"109.88.218.99\",\"109.88.218.99\",\"109.88.218.99\",\"109.88.218.99\",\"109.88.218.99\",\"109.88.218.99\",\"109.88.218.99\",\"109.88.218.99\",\"109.88.218.99\",\"109.88.218.99\",\"109.88.218.99\",\"109.88.218.99\",\"109.88.218.99\",\"109.88.218.99\",\"109.88.218.99\",\"109.88.218.99\",\"109.88.218.99\",\"109.88.218.99\",\"109.88.218.99\",\"109.88.218.99\",\"109.88.218.99\",\"109.88.218.99\",\"109.88.218.99\",\"109.88.218.99\",\"109.88.218.99\",\"109.88.218.99\",\"109.88.218.99\",\"109.88.218.99\",\"109.88.218.99\",\"109.88.218.99\",\"109.88.218.99\",\"109.88.218.99\",\"109.88.218.99\",\"109.88.218.99\",\"109.88.218.99\",\"109.88.218.99\",\"109.88.218.99\",\"109.88.218.99\",\"109.88.218.99\"],\"Operation\":[\"Sign-in activity\",\"Sign-in activity\",\"Sign-in activity\",\"Sign-in activity\",\"Sign-in activity\",\"Sign-in activity\",\"Sign-in activity\",\"Sign-in activity\",\"Sign-in activity\",\"Sign-in activity\",\"Sign-in activity\",\"Sign-in activity\",\"Sign-in activity\",\"Sign-in activity\",\"Sign-in activity\",\"Sign-in activity\",\"Sign-in activity\",\"Sign-in activity\",\"Sign-in activity\",\"Sign-in activity\",\"Sign-in activity\",\"Sign-in activity\",\"Sign-in activity\",\"Sign-in activity\",\"Sign-in activity\",\"Sign-in activity\",\"Sign-in activity\",\"Sign-in activity\",\"Sign-in activity\",\"Sign-in activity\",\"Sign-in activity\",\"Sign-in activity\",\"Sign-in activity\",\"Sign-in activity\",\"Sign-in activity\",\"Sign-in activity\",\"Sign-in activity\",\"Sign-in activity\",\"Sign-in activity\",\"Sign-in activity\",\"Sign-in activity\",\"Sign-in activity\",\"Sign-in activity\",\"Sign-in activity\",\"Sign-in activity\",\"Sign-in activity\",\"Sign-in activity\",\"Sign-in activity\",\"Sign-in activity\",\"Sign-in activity\",\"Sign-in activity\",\"Sign-in activity\",\"Sign-in activity\",\"Sign-in activity\",\"Sign-in activity\",\"Sign-in activity\",\"Sign-in activity\",\"Sign-in activity\",\"Sign-in activity\",\"Sign-in activity\",\"Sign-in activity\",\"Sign-in activity\",\"Sign-in activity\",\"Sign-in activity\",\"Sign-in activity\",\"Sign-in activity\",\"Sign-in activity\",\"Sign-in activity\",\"Sign-in activity\",\"Sign-in activity\",\"Sign-in activity\",\"Sign-in activity\",\"Sign-in activity\",\"Sign-in activity\",\"Sign-in activity\",\"Sign-in activity\",\"Sign-in activity\",\"Sign-in activity\",\"Sign-in activity\",\"Sign-in activity\",\"Sign-in activity\",\"Sign-in activity\",\"Sign-in activity\",\"Sign-in activity\",\"Sign-in activity\",\"Sign-in activity\",\"Sign-in activity\",\"Sign-in activity\",\"Sign-in activity\",\"Sign-in activity\"],\"TimeGenerated\":{\"__ndarray__\":\"AJAqeZCId0IAUPV5kIh3QgBAqoWQiHdCAPDctZCId0IA8Eu4kIh3QgCQeLiQiHdCADC8uJCId0IAcM64kIh3QgBAG+qTiHdCAFAAWpeId0IA0O40w4h3QgBABjXDiHdCAAAnNcOId0IAUEA1w4h3QgBAkE/DiHdCADDDT8OId0IAcOlPw4h3QgCAPl/DiHdCAOBxYMOId0IAUGxhw4h3QgCwbmHDiHdCAGAeYsOId0IAEOxww4h3QgDQC3HDiHdCABB9ccOId0IAoJxxw4h3QgBAs3HDiHdCAODQccOId0IAQNxxw4h3QgDwQHLDiHdCAECMlsaId0IAMKSbxoh3QgDATX/HiHdCADAX9seId0IAANTKyYh3QgBg88/JiHdCAHCy2MqId0IAIJwEy4h3QgCgUAXLiHdCABCKBcuId0IAAJGXy4h3QgBARf7LiHdCAHAsB82Id0IA0D8HzYh3QgBwaUrOiHdCAPBnds6Id0IAMEd4zoh3QgCgSXjOiHdCANBnCc+Id0IA0Cpwz4h3QgDQmS/QiHdCABDfPtCId0IAYJxP0oh3QgDwGqvSiHdCAGCH4NKId0IAoI7h0oh3QgAgug3TiHdCAFCxDtOId0IAULsO04h3QgBAIlfTiHdCAGBaddOId0IAkK+g04h3QgAgkcDViHdCAMD0BdaId0IAQK5R1oh3QgAQo1LWiHdCAGAdf9aId0IAACd/1oh3QgDgNH/WiHdCABA2f9aId0IA8PCq1oh3QgBQzRHXiHdCAFB8MtmId0IAYKRp2Yh3QgDQbaXZiHdCAPDBwtmId0IA4KjD2Yh3QgAQIB7biHdCAEBaHtuId0IA4MIe24h3QgBgDyTbiHdCAGAUJNuId0IAADCu24h3QgAwjK/biHdCAAA4sNuId0IAQGaw24h3QgDgirDbiHdCAPCisNuId0IA4K2w24h3QgDwi7HbiHdC\",\"dtype\":\"float64\",\"order\":\"little\",\"shape\":[90]},\"index\":[5,4,6,7,9,10,0,8,11,3,17,1,15,16,23,21,18,20,19,22,25,26,31,29,32,24,30,2,28,27,34,33,35,36,12,37,38,14,13,39,58,69,70,71,40,41,42,43,72,73,44,84,74,45,75,46,86,76,85,87,88,59,77,78,60,61,62,80,79,63,89,47,81,48,49,50,82,66,64,67,65,68,52,54,56,57,55,51,83,53],\"y_index\":[4,4,4,4,4,4,4,4,4,4,4,4,4,4,4,4,4,4,4,4,4,4,4,4,4,4,4,4,4,4,4,4,4,4,4,4,4,4,4,4,4,4,4,4,4,4,4,4,4,4,4,4,4,4,4,4,4,4,4,4,4,4,4,4,4,4,4,4,4,4,4,4,4,4,4,4,4,4,4,4,4,4,4,4,4,4,4,4,4,4]},\"selected\":{\"id\":\"8694\"},\"selection_policy\":{\"id\":\"8693\"}},\"id\":\"8538\",\"type\":\"ColumnDataSource\"},{\"attributes\":{\"source\":{\"id\":\"8536\"}},\"id\":\"8606\",\"type\":\"CDSView\"},{\"attributes\":{},\"id\":\"8690\",\"type\":\"Selection\"},{\"attributes\":{},\"id\":\"8693\",\"type\":\"UnionRenderers\"},{\"attributes\":{\"fill_alpha\":{\"value\":0.1},\"fill_color\":{\"value\":\"#30678D\"},\"line_alpha\":{\"value\":0.1},\"line_color\":{\"value\":\"#30678D\"},\"size\":{\"units\":\"screen\",\"value\":10},\"x\":{\"field\":\"TimeGenerated\"},\"y\":{\"field\":\"y_index\"}},\"id\":\"8643\",\"type\":\"Diamond\"},{\"attributes\":{\"days\":[1,2,3,4,5,6,7,8,9,10,11,12,13,14,15,16,17,18,19,20,21,22,23,24,25,26,27,28,29,30,31]},\"id\":\"8676\",\"type\":\"DaysTicker\"},{\"attributes\":{\"data_source\":{\"id\":\"8534\"},\"glyph\":{\"id\":\"8630\"},\"hover_glyph\":null,\"muted_glyph\":null,\"nonselection_glyph\":{\"id\":\"8631\"},\"selection_glyph\":null,\"view\":{\"id\":\"8633\"}},\"id\":\"8632\",\"type\":\"GlyphRenderer\"},{\"attributes\":{\"days\":[\"%m-%d %H:%M\"],\"hours\":[\"%H:%M:%S\"],\"milliseconds\":[\"%H:%M:%S.%3N\"],\"minutes\":[\"%H:%M:%S\"],\"seconds\":[\"%H:%M:%S\"]},\"id\":\"8590\",\"type\":\"DatetimeTickFormatter\"},{\"attributes\":{\"source\":{\"id\":\"8535\"}},\"id\":\"8639\",\"type\":\"CDSView\"},{\"attributes\":{\"data\":{\"AppResourceProvider\":[\"OneDrive\",\"OneDrive\",\"OneDrive\",\"OneDrive\",\"OneDrive\",\"OneDrive\",\"OneDrive\",\"OneDrive\",\"OneDrive\",\"OneDrive\",\"OneDrive\",\"OneDrive\",\"OneDrive\",\"OneDrive\",\"OneDrive\",\"OneDrive\",\"OneDrive\",\"OneDrive\",\"OneDrive\",\"OneDrive\",\"OneDrive\",\"OneDrive\",\"OneDrive\",\"OneDrive\",\"OneDrive\"],\"IPAddress\":[\"40.83.137.154\",\"40.83.137.154\",\"40.83.137.154\",\"40.83.137.154\",\"40.83.137.154\",\"40.83.137.154\",\"40.83.137.154\",\"40.83.137.154\",\"40.83.137.154\",\"40.83.137.154\",\"40.83.137.154\",\"40.83.137.154\",\"40.83.137.154\",\"40.83.137.154\",\"40.83.137.154\",\"40.83.137.154\",\"40.83.137.154\",\"40.83.137.154\",\"40.83.137.154\",\"40.83.137.154\",\"40.83.137.154\",\"40.83.137.154\",\"40.83.137.154\",\"40.83.137.154\",\"40.83.137.154\"],\"Operation\":[\"FileModified\",\"FileModified\",\"FileModified\",\"FileModified\",\"FileModified\",\"FileModified\",\"FileModified\",\"FileModified\",\"FileModified\",\"FileModified\",\"FileModified\",\"FileModified\",\"FileModified\",\"FileModified\",\"FileModified\",\"FileModified\",\"FileModified\",\"FileModified\",\"FileModified\",\"FileModified\",\"FileModified\",\"FileModified\",\"FileModified\",\"FileModified\",\"FileModified\"],\"TimeGenerated\":{\"__ndarray__\":\"AAALtOGId0IAgEO14Yh3QgCAPbbhiHdCAAD5tuGId0IAAPO34Yh3QgAA7bjhiHdCAICoueGId0IAgKK64Yh3QgCAH7vhiHdCAADbu+GId0IAgJa84Yh3QgCAkL3hiHdCAIAHv+GId0IAgAHA4Yh3QgAAvcDhiHdCAIB4weGId0IAgO/C4Yh3QgCA6cPhiHdCAAClxOGId0IAgGDF4Yh3QgAAHMbhiHdCAIDXxuGId0IAgFTH4Yh3QgAAjcjhiHdCAAAKyeGId0I=\",\"dtype\":\"float64\",\"order\":\"little\",\"shape\":[25]},\"index\":[141,168,174,139,166,170,165,173,172,135,134,163,189,188,132,156,130,161,160,191,186,159,158,190,185],\"y_index\":[1,1,1,1,1,1,1,1,1,1,1,1,1,1,1,1,1,1,1,1,1,1,1,1,1]},\"selected\":{\"id\":\"8688\"},\"selection_policy\":{\"id\":\"8687\"}},\"id\":\"8535\",\"type\":\"ColumnDataSource\"},{\"attributes\":{\"source\":{\"id\":\"8534\"}},\"id\":\"8596\",\"type\":\"CDSView\"},{\"attributes\":{},\"id\":\"8580\",\"type\":\"LinearScale\"},{\"attributes\":{},\"id\":\"8685\",\"type\":\"UnionRenderers\"},{\"attributes\":{\"text\":\"Range Selector\"},\"id\":\"8574\",\"type\":\"Title\"},{\"attributes\":{},\"id\":\"8689\",\"type\":\"UnionRenderers\"},{\"attributes\":{\"num_minor_ticks\":5,\"tickers\":[{\"id\":\"8698\"},{\"id\":\"8699\"},{\"id\":\"8700\"},{\"id\":\"8701\"},{\"id\":\"8702\"},{\"id\":\"8703\"},{\"id\":\"8704\"},{\"id\":\"8705\"},{\"id\":\"8706\"},{\"id\":\"8707\"},{\"id\":\"8708\"},{\"id\":\"8709\"}]},\"id\":\"8585\",\"type\":\"DatetimeTicker\"},{\"attributes\":{\"fill_alpha\":{\"value\":0.1},\"fill_color\":{\"value\":\"#440154\"},\"line_alpha\":{\"value\":0.1},\"line_color\":{\"value\":\"#440154\"},\"size\":{\"units\":\"screen\",\"value\":10},\"x\":{\"field\":\"TimeGenerated\"},\"y\":{\"field\":\"y_index\"}},\"id\":\"8631\",\"type\":\"Diamond\"},{\"attributes\":{\"source\":{\"id\":\"8537\"}},\"id\":\"8611\",\"type\":\"CDSView\"},{\"attributes\":{\"overlay\":{\"id\":\"8623\"},\"x_range\":{\"id\":\"8544\"},\"y_range\":null},\"id\":\"8622\",\"type\":\"RangeTool\"},{\"attributes\":{\"formatter\":{\"id\":\"8671\"},\"ticker\":{\"id\":\"8557\"},\"visible\":false},\"id\":\"8556\",\"type\":\"LinearAxis\"},{\"attributes\":{\"axis\":{\"id\":\"8556\"},\"dimension\":1,\"grid_line_color\":null,\"ticker\":null},\"id\":\"8559\",\"type\":\"Grid\"},{\"attributes\":{},\"id\":\"8582\",\"type\":\"LinearScale\"},{\"attributes\":{\"dimensions\":\"width\"},\"id\":\"8560\",\"type\":\"WheelZoomTool\"},{\"attributes\":{\"data_source\":{\"id\":\"8535\"},\"glyph\":{\"id\":\"8636\"},\"hover_glyph\":null,\"muted_glyph\":null,\"nonselection_glyph\":{\"id\":\"8637\"},\"selection_glyph\":null,\"view\":{\"id\":\"8639\"}},\"id\":\"8638\",\"type\":\"GlyphRenderer\"},{\"attributes\":{\"data_source\":{\"id\":\"8536\"},\"glyph\":{\"id\":\"8603\"},\"hover_glyph\":null,\"muted_glyph\":null,\"nonselection_glyph\":{\"id\":\"8604\"},\"selection_glyph\":null,\"view\":{\"id\":\"8606\"}},\"id\":\"8605\",\"type\":\"GlyphRenderer\"},{\"attributes\":{\"months\":[0,1,2,3,4,5,6,7,8,9,10,11]},\"id\":\"8680\",\"type\":\"MonthsTicker\"},{\"attributes\":{\"below\":[{\"id\":\"8584\"},{\"id\":\"8589\"}],\"center\":[{\"id\":\"8587\"}],\"plot_height\":120,\"plot_width\":900,\"renderers\":[{\"id\":\"8595\"},{\"id\":\"8600\"},{\"id\":\"8605\"},{\"id\":\"8610\"},{\"id\":\"8615\"},{\"id\":\"8620\"}],\"title\":{\"id\":\"8574\"},\"toolbar\":{\"id\":\"8588\"},\"toolbar_location\":null,\"x_range\":{\"id\":\"8576\"},\"x_scale\":{\"id\":\"8580\"},\"y_range\":{\"id\":\"8578\"},\"y_scale\":{\"id\":\"8582\"}},\"id\":\"8573\",\"subtype\":\"Figure\",\"type\":\"Plot\"},{\"attributes\":{\"days\":[1,15]},\"id\":\"8704\",\"type\":\"DaysTicker\"},{\"attributes\":{\"fill_alpha\":{\"value\":0.1},\"fill_color\":{\"value\":\"#35B778\"},\"line_alpha\":{\"value\":0.1},\"line_color\":{\"value\":\"#35B778\"},\"x\":{\"field\":\"TimeGenerated\"},\"y\":{\"field\":\"y_index\"}},\"id\":\"8614\",\"type\":\"Circle\"},{\"attributes\":{},\"id\":\"8691\",\"type\":\"UnionRenderers\"},{\"attributes\":{\"data_source\":{\"id\":\"8538\"},\"glyph\":{\"id\":\"8613\"},\"hover_glyph\":null,\"muted_glyph\":null,\"nonselection_glyph\":{\"id\":\"8614\"},\"selection_glyph\":null,\"view\":{\"id\":\"8616\"}},\"id\":\"8615\",\"type\":\"GlyphRenderer\"},{\"attributes\":{\"source\":{\"id\":\"8534\"}},\"id\":\"8633\",\"type\":\"CDSView\"},{\"attributes\":{},\"id\":\"8686\",\"type\":\"Selection\"},{\"attributes\":{\"formatter\":{\"id\":\"8590\"},\"ticker\":{\"id\":\"8585\"}},\"id\":\"8584\",\"type\":\"DatetimeAxis\"},{\"attributes\":{\"fill_alpha\":{\"value\":0.5},\"fill_color\":{\"value\":\"#30678D\"},\"line_alpha\":{\"value\":0.5},\"line_color\":{\"value\":\"#30678D\"},\"size\":{\"units\":\"screen\",\"value\":10},\"x\":{\"field\":\"TimeGenerated\"},\"y\":{\"field\":\"y_index\"}},\"id\":\"8642\",\"type\":\"Diamond\"},{\"attributes\":{\"data\":{\"AppResourceProvider\":[\"MicrosoftTeams\",\"MicrosoftTeams\",\"MicrosoftTeams\",\"MicrosoftTeams\",\"MicrosoftTeams\",\"MicrosoftTeams\",\"MicrosoftTeams\",\"MicrosoftTeams\",\"MicrosoftTeams\",\"MicrosoftTeams\",\"MicrosoftTeams\",\"MicrosoftTeams\"],\"IPAddress\":[\"\",\"\",\"\",\"\",\"\",\"\",\"\",\"\",\"\",\"\",\"\",\"\"],\"Operation\":[\"TeamsSessionStarted\",\"TeamsSessionStarted\",\"TeamsSessionStarted\",\"TeamsSessionStarted\",\"TeamsSessionStarted\",\"TeamsSessionStarted\",\"TeamsSessionStarted\",\"TeamsSessionStarted\",\"TeamsSessionStarted\",\"TeamsSessionStarted\",\"TeamsSessionStarted\",\"TeamsSessionStarted\"],\"TimeGenerated\":{\"__ndarray__\":\"AABCUMOId0IAgP1Qw4h3QgAAp1TDiHdCAIDHWcOId0IAAHxww4h3QgAAUnfDiHdCAADJeMOId0IAAFL0w4h3QgAAz/TDiHdCAIAiJMaId0IAAGEkxoh3QgCAnyTGiHdC\",\"dtype\":\"float64\",\"order\":\"little\",\"shape\":[12]},\"index\":[122,123,124,125,128,126,127,111,110,114,113,115],\"y_index\":[5,5,5,5,5,5,5,5,5,5,5,5]},\"selected\":{\"id\":\"8696\"},\"selection_policy\":{\"id\":\"8695\"}},\"id\":\"8539\",\"type\":\"ColumnDataSource\"},{\"attributes\":{\"num_minor_ticks\":10,\"tickers\":[{\"id\":\"8673\"},{\"id\":\"8674\"},{\"id\":\"8675\"},{\"id\":\"8676\"},{\"id\":\"8677\"},{\"id\":\"8678\"},{\"id\":\"8679\"},{\"id\":\"8680\"},{\"id\":\"8681\"},{\"id\":\"8682\"},{\"id\":\"8683\"},{\"id\":\"8684\"}]},\"id\":\"8553\",\"type\":\"DatetimeTicker\"},{\"attributes\":{},\"id\":\"8557\",\"type\":\"BasicTicker\"},{\"attributes\":{\"source\":{\"id\":\"8535\"}},\"id\":\"8601\",\"type\":\"CDSView\"},{\"attributes\":{\"fill_alpha\":{\"value\":0.1},\"fill_color\":{\"value\":\"#30678D\"},\"line_alpha\":{\"value\":0.1},\"line_color\":{\"value\":\"#30678D\"},\"x\":{\"field\":\"TimeGenerated\"},\"y\":{\"field\":\"y_index\"}},\"id\":\"8604\",\"type\":\"Circle\"},{\"attributes\":{\"active_drag\":\"auto\",\"active_inspect\":\"auto\",\"active_multi\":null,\"active_scroll\":\"auto\",\"active_tap\":\"auto\",\"tools\":[{\"id\":\"8540\"},{\"id\":\"8560\"},{\"id\":\"8561\"},{\"id\":\"8562\"},{\"id\":\"8563\"},{\"id\":\"8564\"}]},\"id\":\"8566\",\"type\":\"Toolbar\"},{\"attributes\":{\"dimensions\":\"width\"},\"id\":\"8564\",\"type\":\"PanTool\"},{\"attributes\":{},\"id\":\"8694\",\"type\":\"Selection\"},{\"attributes\":{\"data_source\":{\"id\":\"8537\"},\"glyph\":{\"id\":\"8608\"},\"hover_glyph\":null,\"muted_glyph\":null,\"nonselection_glyph\":{\"id\":\"8609\"},\"selection_glyph\":null,\"view\":{\"id\":\"8611\"}},\"id\":\"8610\",\"type\":\"GlyphRenderer\"},{\"attributes\":{\"axis\":{\"id\":\"8552\"},\"minor_grid_line_alpha\":0.3,\"minor_grid_line_color\":\"navy\",\"ticker\":null},\"id\":\"8555\",\"type\":\"Grid\"},{\"attributes\":{\"end\":5.166666666666667,\"start\":-0.16666666666666666},\"id\":\"8546\",\"type\":\"Range1d\"},{\"attributes\":{\"end\":1617300466181.5,\"start\":1617198152003.5},\"id\":\"8544\",\"type\":\"Range1d\"},{\"attributes\":{\"source\":{\"id\":\"8539\"}},\"id\":\"8621\",\"type\":\"CDSView\"},{\"attributes\":{\"days\":[1,8,15,22]},\"id\":\"8678\",\"type\":\"DaysTicker\"},{\"attributes\":{},\"id\":\"8684\",\"type\":\"YearsTicker\"},{\"attributes\":{},\"id\":\"8696\",\"type\":\"Selection\"},{\"attributes\":{\"click_policy\":\"hide\",\"items\":[{\"id\":\"8664\"},{\"id\":\"8658\"},{\"id\":\"8652\"},{\"id\":\"8646\"},{\"id\":\"8640\"},{\"id\":\"8634\"}],\"label_text_font_size\":\"8pt\",\"location\":\"center\"},\"id\":\"8665\",\"type\":\"Legend\"},{\"attributes\":{\"months\":[0,2,4,6,8,10]},\"id\":\"8706\",\"type\":\"MonthsTicker\"},{\"attributes\":{\"mantissas\":[1,2,5],\"max_interval\":500.0,\"num_minor_ticks\":0},\"id\":\"8673\",\"type\":\"AdaptiveTicker\"},{\"attributes\":{\"days\":[1,2,3,4,5,6,7,8,9,10,11,12,13,14,15,16,17,18,19,20,21,22,23,24,25,26,27,28,29,30,31]},\"id\":\"8701\",\"type\":\"DaysTicker\"},{\"attributes\":{\"data\":{\"AppResourceProvider\":[\"SharePoint\",\"OneDrive\",\"SharePoint\",\"OneDrive\",\"OneDrive\",\"SharePoint\",\"SharePoint\",\"OneDrive\",\"SharePoint\",\"OneDrive\",\"SharePoint\",\"OneDrive\",\"SharePoint\",\"OneDrive\",\"SharePoint\",\"SharePoint\",\"OneDrive\",\"SharePoint\",\"SharePoint\",\"OneDrive\",\"SharePoint\",\"SharePoint\",\"OneDrive\",\"SharePoint\",\"OneDrive\",\"SharePoint\",\"SharePoint\",\"OneDrive\",\"SharePoint\",\"OneDrive\",\"SharePoint\",\"SharePoint\",\"SharePoint\",\"OneDrive\",\"SharePoint\",\"SharePoint\",\"SharePoint\",\"SharePoint\",\"SharePoint\"],\"IPAddress\":[\"157.56.162.53\",\"40.83.137.154\",\"157.56.162.53\",\"40.83.137.154\",\"40.83.137.154\",\"157.56.162.53\",\"157.56.162.53\",\"40.83.137.154\",\"157.56.162.53\",\"40.83.137.154\",\"157.56.162.53\",\"40.83.137.154\",\"157.56.162.53\",\"40.83.137.154\",\"157.56.162.53\",\"157.56.162.53\",\"40.83.137.154\",\"157.56.162.53\",\"157.56.162.53\",\"40.83.137.154\",\"157.56.162.53\",\"157.56.162.53\",\"40.83.137.154\",\"157.56.162.53\",\"40.83.137.154\",\"157.56.162.53\",\"157.56.162.53\",\"40.83.137.154\",\"157.56.162.53\",\"40.83.137.154\",\"157.56.162.53\",\"157.56.162.53\",\"157.56.162.53\",\"40.83.137.154\",\"157.56.162.53\",\"157.56.162.53\",\"157.56.162.53\",\"157.56.162.53\",\"157.56.162.53\"],\"Operation\":[\"FileAccessed\",\"FileAccessed\",\"FileAccessed\",\"FileAccessed\",\"FileAccessed\",\"FileAccessed\",\"FileAccessed\",\"FileAccessed\",\"FileAccessed\",\"FileAccessed\",\"FileAccessed\",\"FileAccessed\",\"FileAccessed\",\"FileAccessed\",\"FileAccessed\",\"FileAccessed\",\"FileAccessed\",\"FileAccessed\",\"FileAccessed\",\"FileAccessed\",\"FileAccessed\",\"FileAccessed\",\"FileAccessed\",\"FileAccessed\",\"FileAccessed\",\"FileAccessed\",\"FileAccessed\",\"FileAccessed\",\"FileAccessed\",\"FileAccessed\",\"FileAccessed\",\"FileAccessed\",\"FileAccessed\",\"FileAccessed\",\"FileAccessed\",\"FileAccessed\",\"FileAccessed\",\"FileAccessed\",\"FileAccessed\"],\"TimeGenerated\":{\"__ndarray__\":\"AAARs+GId0IAAI6z4Yh3QgCASbThiHdCAACItOGId0IAAIK14Yh3QgAAgrXhiHdCAAB8tuGId0IAAHy24Yh3QgCAN7fhiHdCAIA3t+GId0IAgDG44Yh3QgAAcLjhiHdCAADtuOGId0IAgCu54Yh3QgCAqLnhiHdCAICiuuGId0IAAF674Yh3QgAAXrvhiHdCAIAZvOGId0IAANW84Yh3QgAA1bzhiHdCAADPveGId0IAAEy+4Yh3QgAARr/hiHdCAICEv+GId0IAAEDA4Yh3QgCA+8DhiHdCAID7wOGId0IAALfB4Yh3QgAANMLhiHdCAIDvwuGId0IAgOnD4Yh3QgAApcThiHdCAACfxeGId0IAAJ/F4Yh3QgCAWsbhiHdCAIDXxuGId0IAAJPH4Yh3QgAAjcjhiHdC\",\"dtype\":\"float64\",\"order\":\"little\",\"shape\":[39]},\"index\":[152,155,151,171,140,144,181,167,147,138,180,137,179,169,150,178,136,154,149,164,153,148,133,146,157,142,177,131,184,162,176,145,175,187,143,182,183,193,192],\"y_index\":[0,0,0,0,0,0,0,0,0,0,0,0,0,0,0,0,0,0,0,0,0,0,0,0,0,0,0,0,0,0,0,0,0,0,0,0,0,0,0]},\"selected\":{\"id\":\"8686\"},\"selection_policy\":{\"id\":\"8685\"}},\"id\":\"8534\",\"type\":\"ColumnDataSource\"},{\"attributes\":{\"fill_alpha\":{\"value\":0.1},\"fill_color\":{\"value\":\"#440154\"},\"line_alpha\":{\"value\":0.1},\"line_color\":{\"value\":\"#440154\"},\"x\":{\"field\":\"TimeGenerated\"},\"y\":{\"field\":\"y_index\"}},\"id\":\"8594\",\"type\":\"Circle\"},{\"attributes\":{\"fill_color\":{\"value\":\"#208F8C\"},\"line_color\":{\"value\":\"#208F8C\"},\"x\":{\"field\":\"TimeGenerated\"},\"y\":{\"field\":\"y_index\"}},\"id\":\"8608\",\"type\":\"Circle\"},{\"attributes\":{\"base\":24,\"mantissas\":[1,2,4,6,8,12],\"max_interval\":43200000.0,\"min_interval\":3600000.0,\"num_minor_ticks\":0},\"id\":\"8700\",\"type\":\"AdaptiveTicker\"},{\"attributes\":{\"data_source\":{\"id\":\"8536\"},\"glyph\":{\"id\":\"8642\"},\"hover_glyph\":null,\"muted_glyph\":null,\"nonselection_glyph\":{\"id\":\"8643\"},\"selection_glyph\":null,\"view\":{\"id\":\"8645\"}},\"id\":\"8644\",\"type\":\"GlyphRenderer\"},{\"attributes\":{\"data_source\":{\"id\":\"8539\"},\"glyph\":{\"id\":\"8618\"},\"hover_glyph\":null,\"muted_glyph\":null,\"nonselection_glyph\":{\"id\":\"8619\"},\"selection_glyph\":null,\"view\":{\"id\":\"8621\"}},\"id\":\"8620\",\"type\":\"GlyphRenderer\"},{\"attributes\":{\"fill_alpha\":{\"value\":0.1},\"fill_color\":{\"value\":\"#35B778\"},\"line_alpha\":{\"value\":0.1},\"line_color\":{\"value\":\"#35B778\"},\"size\":{\"units\":\"screen\",\"value\":10},\"x\":{\"field\":\"TimeGenerated\"},\"y\":{\"field\":\"y_index\"}},\"id\":\"8655\",\"type\":\"Diamond\"},{\"attributes\":{\"active_drag\":\"auto\",\"active_inspect\":\"auto\",\"active_multi\":{\"id\":\"8622\"},\"active_scroll\":\"auto\",\"active_tap\":\"auto\",\"tools\":[{\"id\":\"8622\"}]},\"id\":\"8588\",\"type\":\"Toolbar\"},{\"attributes\":{\"fill_alpha\":{\"value\":0.1},\"fill_color\":{\"value\":\"#208F8C\"},\"line_alpha\":{\"value\":0.1},\"line_color\":{\"value\":\"#208F8C\"},\"size\":{\"units\":\"screen\",\"value\":10},\"x\":{\"field\":\"TimeGenerated\"},\"y\":{\"field\":\"y_index\"}},\"id\":\"8649\",\"type\":\"Diamond\"},{\"attributes\":{\"base\":24,\"mantissas\":[1,2,4,6,8,12],\"max_interval\":43200000.0,\"min_interval\":3600000.0,\"num_minor_ticks\":0},\"id\":\"8675\",\"type\":\"AdaptiveTicker\"},{\"attributes\":{\"base\":60,\"mantissas\":[1,2,5,10,15,20,30],\"max_interval\":1800000.0,\"min_interval\":1000.0,\"num_minor_ticks\":0},\"id\":\"8674\",\"type\":\"AdaptiveTicker\"},{\"attributes\":{},\"id\":\"8548\",\"type\":\"LinearScale\"},{\"attributes\":{\"label\":{\"value\":\"Send\"},\"renderers\":[{\"id\":\"8650\"}]},\"id\":\"8652\",\"type\":\"LegendItem\"},{\"attributes\":{\"months\":[0,4,8]},\"id\":\"8682\",\"type\":\"MonthsTicker\"},{\"attributes\":{\"months\":[0,2,4,6,8,10]},\"id\":\"8681\",\"type\":\"MonthsTicker\"},{\"attributes\":{\"fill_alpha\":{\"value\":0.1},\"fill_color\":{\"value\":\"#443982\"},\"line_alpha\":{\"value\":0.1},\"line_color\":{\"value\":\"#443982\"},\"x\":{\"field\":\"TimeGenerated\"},\"y\":{\"field\":\"y_index\"}},\"id\":\"8599\",\"type\":\"Circle\"},{\"attributes\":{\"source\":{\"id\":\"8538\"}},\"id\":\"8616\",\"type\":\"CDSView\"},{\"attributes\":{},\"id\":\"8687\",\"type\":\"UnionRenderers\"},{\"attributes\":{\"mantissas\":[1,2,5],\"max_interval\":500.0,\"num_minor_ticks\":0},\"id\":\"8698\",\"type\":\"AdaptiveTicker\"},{\"attributes\":{},\"id\":\"8671\",\"type\":\"BasicTickFormatter\"},{\"attributes\":{\"text\":\"Timeline: Azure Operations by Operation\"},\"id\":\"8542\",\"type\":\"Title\"},{\"attributes\":{\"months\":[0,6]},\"id\":\"8683\",\"type\":\"MonthsTicker\"},{\"attributes\":{\"axis_label\":\"Event Time\",\"formatter\":{\"id\":\"8627\"},\"ticker\":{\"id\":\"8553\"}},\"id\":\"8552\",\"type\":\"DatetimeAxis\"},{\"attributes\":{\"label\":{\"value\":\"Sign-in activity\"},\"renderers\":[{\"id\":\"8656\"}]},\"id\":\"8658\",\"type\":\"LegendItem\"},{\"attributes\":{\"data\":{\"AppResourceProvider\":[\"Exchange\",\"Exchange\",\"Exchange\",\"Exchange\",\"Exchange\",\"Exchange\",\"Exchange\",\"Exchange\",\"Exchange\",\"Exchange\",\"Exchange\",\"Exchange\",\"Exchange\",\"Exchange\",\"Exchange\",\"Exchange\",\"Exchange\",\"Exchange\",\"Exchange\",\"Exchange\",\"Exchange\",\"Exchange\",\"Exchange\",\"Exchange\",\"Exchange\",\"Exchange\",\"Exchange\"],\"IPAddress\":[\"40.91.208.65\",\"40.91.208.65\",\"40.91.208.65\",\"40.91.208.65\",\"40.91.208.65\",\"40.91.208.65\",\"40.91.208.65\",\"40.91.208.65\",\"40.91.208.65\",\"40.91.208.65\",\"40.91.208.65\",\"40.91.208.65\",\"40.91.208.65\",\"40.91.208.65\",\"2603:10b6:5:9::18\",\"40.91.208.65\",\"40.91.208.65\",\"40.91.208.65\",\"2603:10b6:5:1c0:cafe::5f\",\"40.91.208.65\",\"40.91.208.65\",\"40.91.208.65\",\"40.91.208.65\",\"40.91.208.65\",\"40.91.208.65\",\"40.91.208.65\",\"40.91.208.65\"],\"Operation\":[\"MailItemsAccessed\",\"MailItemsAccessed\",\"MailItemsAccessed\",\"MailItemsAccessed\",\"MailItemsAccessed\",\"MailItemsAccessed\",\"MailItemsAccessed\",\"MailItemsAccessed\",\"MailItemsAccessed\",\"MailItemsAccessed\",\"MailItemsAccessed\",\"MailItemsAccessed\",\"MailItemsAccessed\",\"MailItemsAccessed\",\"MailItemsAccessed\",\"MailItemsAccessed\",\"MailItemsAccessed\",\"MailItemsAccessed\",\"MailItemsAccessed\",\"MailItemsAccessed\",\"MailItemsAccessed\",\"MailItemsAccessed\",\"MailItemsAccessed\",\"MailItemsAccessed\",\"MailItemsAccessed\",\"MailItemsAccessed\",\"MailItemsAccessed\"],\"TimeGenerated\":{\"__ndarray__\":\"AIBq35CId0IAgMNQlIh3QgAAYcGXiHdCAAA3M5uId0IAAJCknoh3QgAAbBWiiHdCAICGhqWId0IAACVrp4h3QgAAmoSqiHdCAAAQEqyId0IAgCqDr4h3QgAAOfayiHdCAIBTZ7aId0IAAOXZuYh3QgAAlQS8iHdCAAC7S72Id0IAAJG9wIh3QgAA6i7EiHdCAID83MSId0IAgHWix4h3QgCAJxrLiHdCAIDrjs6Id0IAAIn/0Yh3QgCAIHHViHdCAAA149iId0IAgMZV3Ih3QgAA28ffiHdC\",\"dtype\":\"float64\",\"order\":\"little\",\"shape\":[27]},\"index\":[102,104,100,97,103,107,101,117,119,120,105,106,108,98,121,109,99,112,116,118,92,91,93,94,95,90,96],\"y_index\":[2,2,2,2,2,2,2,2,2,2,2,2,2,2,2,2,2,2,2,2,2,2,2,2,2,2,2]},\"selected\":{\"id\":\"8690\"},\"selection_policy\":{\"id\":\"8689\"}},\"id\":\"8536\",\"type\":\"ColumnDataSource\"},{\"attributes\":{\"fill_alpha\":{\"value\":0.5},\"fill_color\":{\"value\":\"#35B778\"},\"line_alpha\":{\"value\":0.5},\"line_color\":{\"value\":\"#35B778\"},\"size\":{\"units\":\"screen\",\"value\":10},\"x\":{\"field\":\"TimeGenerated\"},\"y\":{\"field\":\"y_index\"}},\"id\":\"8654\",\"type\":\"Diamond\"},{\"attributes\":{\"fill_color\":{\"value\":\"#35B778\"},\"line_color\":{\"value\":\"#35B778\"},\"x\":{\"field\":\"TimeGenerated\"},\"y\":{\"field\":\"y_index\"}},\"id\":\"8613\",\"type\":\"Circle\"},{\"attributes\":{\"below\":[{\"id\":\"8552\"}],\"center\":[{\"id\":\"8555\"},{\"id\":\"8559\"}],\"left\":[{\"id\":\"8556\"},{\"id\":\"8665\"}],\"min_border_left\":50,\"plot_height\":300,\"plot_width\":900,\"renderers\":[{\"id\":\"8632\"},{\"id\":\"8638\"},{\"id\":\"8644\"},{\"id\":\"8650\"},{\"id\":\"8656\"},{\"id\":\"8662\"}],\"title\":{\"id\":\"8542\"},\"toolbar\":{\"id\":\"8566\"},\"x_range\":{\"id\":\"8544\"},\"x_scale\":{\"id\":\"8548\"},\"y_range\":{\"id\":\"8546\"},\"y_scale\":{\"id\":\"8550\"}},\"id\":\"8541\",\"subtype\":\"Figure\",\"type\":\"Plot\"},{\"attributes\":{},\"id\":\"8709\",\"type\":\"YearsTicker\"},{\"attributes\":{},\"id\":\"8550\",\"type\":\"LinearScale\"},{\"attributes\":{\"data_source\":{\"id\":\"8539\"},\"glyph\":{\"id\":\"8660\"},\"hover_glyph\":null,\"muted_glyph\":null,\"nonselection_glyph\":{\"id\":\"8661\"},\"selection_glyph\":null,\"view\":{\"id\":\"8663\"}},\"id\":\"8662\",\"type\":\"GlyphRenderer\"},{\"attributes\":{\"callback\":null,\"formatters\":{\"@TimeGenerated\":\"datetime\"},\"tooltips\":[[\"Operation\",\"@Operation\"],[\"TimeGenerated\",\"@TimeGenerated{%F %T.%3N}\"],[\"IPAddress\",\"@IPAddress\"],[\"AppResourceProvider\",\"@AppResourceProvider\"]]},\"id\":\"8540\",\"type\":\"HoverTool\"},{\"attributes\":{\"end\":1617304729272.25,\"start\":1617193888912.75},\"id\":\"8576\",\"type\":\"Range1d\"},{\"attributes\":{\"source\":{\"id\":\"8539\"}},\"id\":\"8663\",\"type\":\"CDSView\"},{\"attributes\":{\"fill_color\":{\"value\":\"#30678D\"},\"line_color\":{\"value\":\"#30678D\"},\"x\":{\"field\":\"TimeGenerated\"},\"y\":{\"field\":\"y_index\"}},\"id\":\"8603\",\"type\":\"Circle\"},{\"attributes\":{\"days\":[1,8,15,22]},\"id\":\"8703\",\"type\":\"DaysTicker\"},{\"attributes\":{\"months\":[0,4,8]},\"id\":\"8707\",\"type\":\"MonthsTicker\"},{\"attributes\":{\"fill_color\":{\"value\":\"#8DD644\"},\"line_color\":{\"value\":\"#8DD644\"},\"x\":{\"field\":\"TimeGenerated\"},\"y\":{\"field\":\"y_index\"}},\"id\":\"8618\",\"type\":\"Circle\"},{\"attributes\":{\"source\":{\"id\":\"8538\"}},\"id\":\"8657\",\"type\":\"CDSView\"},{\"attributes\":{\"fill_alpha\":{\"value\":0.1},\"fill_color\":{\"value\":\"#8DD644\"},\"line_alpha\":{\"value\":0.1},\"line_color\":{\"value\":\"#8DD644\"},\"size\":{\"units\":\"screen\",\"value\":10},\"x\":{\"field\":\"TimeGenerated\"},\"y\":{\"field\":\"y_index\"}},\"id\":\"8661\",\"type\":\"Diamond\"},{\"attributes\":{\"months\":[0,6]},\"id\":\"8708\",\"type\":\"MonthsTicker\"},{\"attributes\":{\"label\":{\"value\":\"TeamsSessionStarted\"},\"renderers\":[{\"id\":\"8662\"}]},\"id\":\"8664\",\"type\":\"LegendItem\"},{\"attributes\":{\"source\":{\"id\":\"8537\"}},\"id\":\"8651\",\"type\":\"CDSView\"},{\"attributes\":{\"days\":[1,4,7,10,13,16,19,22,25,28]},\"id\":\"8702\",\"type\":\"DaysTicker\"},{\"attributes\":{\"days\":[1,15]},\"id\":\"8679\",\"type\":\"DaysTicker\"},{\"attributes\":{\"source\":{\"id\":\"8536\"}},\"id\":\"8645\",\"type\":\"CDSView\"},{\"attributes\":{\"data_source\":{\"id\":\"8537\"},\"glyph\":{\"id\":\"8648\"},\"hover_glyph\":null,\"muted_glyph\":null,\"nonselection_glyph\":{\"id\":\"8649\"},\"selection_glyph\":null,\"view\":{\"id\":\"8651\"}},\"id\":\"8650\",\"type\":\"GlyphRenderer\"},{\"attributes\":{},\"id\":\"8578\",\"type\":\"DataRange1d\"},{\"attributes\":{\"fill_alpha\":{\"value\":0.5},\"fill_color\":{\"value\":\"#208F8C\"},\"line_alpha\":{\"value\":0.5},\"line_color\":{\"value\":\"#208F8C\"},\"size\":{\"units\":\"screen\",\"value\":10},\"x\":{\"field\":\"TimeGenerated\"},\"y\":{\"field\":\"y_index\"}},\"id\":\"8648\",\"type\":\"Diamond\"},{\"attributes\":{},\"id\":\"8695\",\"type\":\"UnionRenderers\"},{\"attributes\":{\"data_source\":{\"id\":\"8535\"},\"glyph\":{\"id\":\"8598\"},\"hover_glyph\":null,\"muted_glyph\":null,\"nonselection_glyph\":{\"id\":\"8599\"},\"selection_glyph\":null,\"view\":{\"id\":\"8601\"}},\"id\":\"8600\",\"type\":\"GlyphRenderer\"},{\"attributes\":{\"data\":{\"AppResourceProvider\":[\"Exchange\"],\"IPAddress\":[\"104.209.247.23\"],\"Operation\":[\"Send\"],\"TimeGenerated\":{\"__ndarray__\":\"AAA4jceId0I=\",\"dtype\":\"float64\",\"order\":\"little\",\"shape\":[1]},\"index\":[129],\"y_index\":[3]},\"selected\":{\"id\":\"8692\"},\"selection_policy\":{\"id\":\"8691\"}},\"id\":\"8537\",\"type\":\"ColumnDataSource\"},{\"attributes\":{\"fill_alpha\":{\"value\":0.1},\"fill_color\":{\"value\":\"#8DD644\"},\"line_alpha\":{\"value\":0.1},\"line_color\":{\"value\":\"#8DD644\"},\"x\":{\"field\":\"TimeGenerated\"},\"y\":{\"field\":\"y_index\"}},\"id\":\"8619\",\"type\":\"Circle\"},{\"attributes\":{\"axis\":{\"id\":\"8584\"},\"ticker\":null},\"id\":\"8587\",\"type\":\"Grid\"},{\"attributes\":{\"data_source\":{\"id\":\"8538\"},\"glyph\":{\"id\":\"8654\"},\"hover_glyph\":null,\"muted_glyph\":null,\"nonselection_glyph\":{\"id\":\"8655\"},\"selection_glyph\":null,\"view\":{\"id\":\"8657\"}},\"id\":\"8656\",\"type\":\"GlyphRenderer\"},{\"attributes\":{\"base\":60,\"mantissas\":[1,2,5,10,15,20,30],\"max_interval\":1800000.0,\"min_interval\":1000.0,\"num_minor_ticks\":0},\"id\":\"8699\",\"type\":\"AdaptiveTicker\"},{\"attributes\":{\"fill_alpha\":0.2,\"fill_color\":\"navy\",\"level\":\"overlay\",\"line_alpha\":1.0,\"line_color\":\"black\",\"line_dash\":[2,2],\"line_width\":0.5},\"id\":\"8623\",\"type\":\"BoxAnnotation\"}],\"root_ids\":[\"8666\"]},\"title\":\"Bokeh Application\",\"version\":\"2.2.2\"}};\n",
       "  var render_items = [{\"docid\":\"41767ffb-a615-4944-b975-9c886defe84f\",\"root_ids\":[\"8666\"],\"roots\":{\"8666\":\"ab520777-514c-456c-a68f-4b0bc73d4356\"}}];\n",
       "  root.Bokeh.embed.embed_items_notebook(docs_json, render_items);\n",
       "\n",
       "  }\n",
       "  if (root.Bokeh !== undefined) {\n",
       "    embed_document(root);\n",
       "  } else {\n",
       "    var attempts = 0;\n",
       "    var timer = setInterval(function(root) {\n",
       "      if (root.Bokeh !== undefined) {\n",
       "        clearInterval(timer);\n",
       "        embed_document(root);\n",
       "      } else {\n",
       "        attempts++;\n",
       "        if (attempts > 100) {\n",
       "          clearInterval(timer);\n",
       "          console.log(\"Bokeh: ERROR: Unable to run BokehJS code because BokehJS library is missing\");\n",
       "        }\n",
       "      }\n",
       "    }, 10, root)\n",
       "  }\n",
       "})(window);"
      ],
      "application/vnd.bokehjs_exec.v0+json": ""
     },
     "metadata": {
      "application/vnd.bokehjs_exec.v0+json": {
       "id": "8666"
      }
     },
     "output_type": "display_data"
    },
    {
     "data": {
      "text/html": [
       "<h3>Summary of azure activity for AAD, Azure resource and O365</h3>"
      ],
      "text/plain": [
       "<IPython.core.display.HTML object>"
      ]
     },
     "metadata": {},
     "output_type": "display_data"
    },
    {
     "data": {
      "text/html": [
       " Shows the total number of operations, the list of unique operations, the list of unique resource IDs and the first and last operation recorded in the selected time range. The data is grouped by: - Data source - User - Type - Azure activity type/source - Client IP Address - Application resource provider - User type "
      ],
      "text/plain": [
       "<IPython.core.display.HTML object>"
      ]
     },
     "metadata": {},
     "output_type": "display_data"
    },
    {
     "data": {
      "text/html": [
       "<div>\n",
       "<style scoped>\n",
       "    .dataframe tbody tr th:only-of-type {\n",
       "        vertical-align: middle;\n",
       "    }\n",
       "\n",
       "    .dataframe tbody tr th {\n",
       "        vertical-align: top;\n",
       "    }\n",
       "\n",
       "    .dataframe thead th {\n",
       "        text-align: right;\n",
       "    }\n",
       "</style>\n",
       "<table border=\"1\" class=\"dataframe\">\n",
       "  <thead>\n",
       "    <tr style=\"text-align: right;\">\n",
       "      <th></th>\n",
       "      <th></th>\n",
       "      <th></th>\n",
       "      <th></th>\n",
       "      <th></th>\n",
       "      <th>OperationCount</th>\n",
       "      <th>OperationTypes</th>\n",
       "      <th>Resources</th>\n",
       "      <th>FirstOperation</th>\n",
       "      <th>LastOperation</th>\n",
       "    </tr>\n",
       "    <tr>\n",
       "      <th>UserPrincipalName</th>\n",
       "      <th>Type</th>\n",
       "      <th>IPAddress</th>\n",
       "      <th>AppResourceProvider</th>\n",
       "      <th>UserType</th>\n",
       "      <th></th>\n",
       "      <th></th>\n",
       "      <th></th>\n",
       "      <th></th>\n",
       "      <th></th>\n",
       "    </tr>\n",
       "  </thead>\n",
       "  <tbody>\n",
       "    <tr>\n",
       "      <th rowspan=\"14\" valign=\"top\">seb@seccxp.ninja</th>\n",
       "      <th rowspan=\"7\" valign=\"top\">OfficeActivity</th>\n",
       "      <th></th>\n",
       "      <th>MicrosoftTeams</th>\n",
       "      <th>Regular</th>\n",
       "      <td>12</td>\n",
       "      <td>[TeamsSessionStarted]</td>\n",
       "      <td>1</td>\n",
       "      <td>2021-04-01 06:53:08+00:00</td>\n",
       "      <td>2021-04-01 07:42:35+00:00</td>\n",
       "    </tr>\n",
       "    <tr>\n",
       "      <th>104.209.247.23</th>\n",
       "      <th>Exchange</th>\n",
       "      <th>Regular</th>\n",
       "      <td>1</td>\n",
       "      <td>[Send]</td>\n",
       "      <td>1</td>\n",
       "      <td>2021-04-01 08:07:12+00:00</td>\n",
       "      <td>2021-04-01 08:07:12+00:00</td>\n",
       "    </tr>\n",
       "    <tr>\n",
       "      <th>157.56.162.53</th>\n",
       "      <th>SharePoint</th>\n",
       "      <th>Regular</th>\n",
       "      <td>25</td>\n",
       "      <td>[FileAccessed]</td>\n",
       "      <td>25</td>\n",
       "      <td>2021-04-01 15:44:10+00:00</td>\n",
       "      <td>2021-04-01 15:45:38+00:00</td>\n",
       "    </tr>\n",
       "    <tr>\n",
       "      <th>2603:10b6:5:1c0:cafe::5f</th>\n",
       "      <th>Exchange</th>\n",
       "      <th>Regular</th>\n",
       "      <td>1</td>\n",
       "      <td>[MailItemsAccessed]</td>\n",
       "      <td>1</td>\n",
       "      <td>2021-04-01 07:20:13+00:00</td>\n",
       "      <td>2021-04-01 07:20:13+00:00</td>\n",
       "    </tr>\n",
       "    <tr>\n",
       "      <th>2603:10b6:5:9::18</th>\n",
       "      <th>Exchange</th>\n",
       "      <th>Regular</th>\n",
       "      <td>1</td>\n",
       "      <td>[MailItemsAccessed]</td>\n",
       "      <td>1</td>\n",
       "      <td>2021-04-01 04:45:38+00:00</td>\n",
       "      <td>2021-04-01 04:45:38+00:00</td>\n",
       "    </tr>\n",
       "    <tr>\n",
       "      <th>40.83.137.154</th>\n",
       "      <th>OneDrive</th>\n",
       "      <th>Regular</th>\n",
       "      <td>39</td>\n",
       "      <td>[FileAccessed, FileModified]</td>\n",
       "      <td>25</td>\n",
       "      <td>2021-04-01 15:44:12+00:00</td>\n",
       "      <td>2021-04-01 15:45:40+00:00</td>\n",
       "    </tr>\n",
       "    <tr>\n",
       "      <th>40.91.208.65</th>\n",
       "      <th>Exchange</th>\n",
       "      <th>Regular</th>\n",
       "      <td>25</td>\n",
       "      <td>[MailItemsAccessed]</td>\n",
       "      <td>1</td>\n",
       "      <td>2021-03-31 16:11:37+00:00</td>\n",
       "      <td>2021-04-01 15:10:38+00:00</td>\n",
       "    </tr>\n",
       "    <tr>\n",
       "      <th rowspan=\"7\" valign=\"top\">SigninLogs</th>\n",
       "      <th rowspan=\"7\" valign=\"top\">109.88.218.99</th>\n",
       "      <th>Azure Advanced Threat Protection</th>\n",
       "      <th>Member</th>\n",
       "      <td>4</td>\n",
       "      <td>[Sign-in activity]</td>\n",
       "      <td>1</td>\n",
       "      <td>2021-03-31 16:04:38.185000+00:00</td>\n",
       "      <td>2021-03-31 18:04:50.565000+00:00</td>\n",
       "    </tr>\n",
       "    <tr>\n",
       "      <th>Azure Portal</th>\n",
       "      <th>Member</th>\n",
       "      <td>2</td>\n",
       "      <td>[Sign-in activity]</td>\n",
       "      <td>1</td>\n",
       "      <td>2021-03-31 16:05:29.380000+00:00</td>\n",
       "      <td>2021-04-01 13:49:11.086000+00:00</td>\n",
       "    </tr>\n",
       "    <tr>\n",
       "      <th>Microsoft 365 Security and Compliance Center</th>\n",
       "      <th>Member</th>\n",
       "      <td>3</td>\n",
       "      <td>[Sign-in activity]</td>\n",
       "      <td>1</td>\n",
       "      <td>2021-03-31 16:08:46.799000+00:00</td>\n",
       "      <td>2021-04-01 13:49:09.412000+00:00</td>\n",
       "    </tr>\n",
       "    <tr>\n",
       "      <th>Microsoft Cloud App Security</th>\n",
       "      <th>Member</th>\n",
       "      <td>1</td>\n",
       "      <td>[Sign-in activity]</td>\n",
       "      <td>1</td>\n",
       "      <td>2021-03-31 16:08:57.481000+00:00</td>\n",
       "      <td>2021-03-31 16:08:57.481000+00:00</td>\n",
       "    </tr>\n",
       "    <tr>\n",
       "      <th>Microsoft Teams Web Client</th>\n",
       "      <th>Member</th>\n",
       "      <td>68</td>\n",
       "      <td>[Sign-in activity]</td>\n",
       "      <td>1</td>\n",
       "      <td>2021-04-01 06:54:09.384000+00:00</td>\n",
       "      <td>2021-04-01 13:59:12.319000+00:00</td>\n",
       "    </tr>\n",
       "    <tr>\n",
       "      <th>Office 365 Exchange Online</th>\n",
       "      <th>Member</th>\n",
       "      <td>1</td>\n",
       "      <td>[Sign-in activity]</td>\n",
       "      <td>1</td>\n",
       "      <td>2021-04-01 06:51:16.452000+00:00</td>\n",
       "      <td>2021-04-01 06:51:16.452000+00:00</td>\n",
       "    </tr>\n",
       "    <tr>\n",
       "      <th>Office365 Shell WCSS-Client</th>\n",
       "      <th>Member</th>\n",
       "      <td>11</td>\n",
       "      <td>[Sign-in activity]</td>\n",
       "      <td>1</td>\n",
       "      <td>2021-03-31 16:08:56.767000+00:00</td>\n",
       "      <td>2021-04-01 13:49:32.870000+00:00</td>\n",
       "    </tr>\n",
       "  </tbody>\n",
       "</table>\n",
       "</div>"
      ],
      "text/plain": [
       "                                                                                                                 OperationCount  \\\n",
       "UserPrincipalName Type           IPAddress                AppResourceProvider                          UserType                   \n",
       "seb@seccxp.ninja  OfficeActivity                          MicrosoftTeams                               Regular               12   \n",
       "                                 104.209.247.23           Exchange                                     Regular                1   \n",
       "                                 157.56.162.53            SharePoint                                   Regular               25   \n",
       "                                 2603:10b6:5:1c0:cafe::5f Exchange                                     Regular                1   \n",
       "                                 2603:10b6:5:9::18        Exchange                                     Regular                1   \n",
       "                                 40.83.137.154            OneDrive                                     Regular               39   \n",
       "                                 40.91.208.65             Exchange                                     Regular               25   \n",
       "                  SigninLogs     109.88.218.99            Azure Advanced Threat Protection             Member                 4   \n",
       "                                                          Azure Portal                                 Member                 2   \n",
       "                                                          Microsoft 365 Security and Compliance Center Member                 3   \n",
       "                                                          Microsoft Cloud App Security                 Member                 1   \n",
       "                                                          Microsoft Teams Web Client                   Member                68   \n",
       "                                                          Office 365 Exchange Online                   Member                 1   \n",
       "                                                          Office365 Shell WCSS-Client                  Member                11   \n",
       "\n",
       "                                                                                                                               OperationTypes  \\\n",
       "UserPrincipalName Type           IPAddress                AppResourceProvider                          UserType                                 \n",
       "seb@seccxp.ninja  OfficeActivity                          MicrosoftTeams                               Regular          [TeamsSessionStarted]   \n",
       "                                 104.209.247.23           Exchange                                     Regular                         [Send]   \n",
       "                                 157.56.162.53            SharePoint                                   Regular                 [FileAccessed]   \n",
       "                                 2603:10b6:5:1c0:cafe::5f Exchange                                     Regular            [MailItemsAccessed]   \n",
       "                                 2603:10b6:5:9::18        Exchange                                     Regular            [MailItemsAccessed]   \n",
       "                                 40.83.137.154            OneDrive                                     Regular   [FileAccessed, FileModified]   \n",
       "                                 40.91.208.65             Exchange                                     Regular            [MailItemsAccessed]   \n",
       "                  SigninLogs     109.88.218.99            Azure Advanced Threat Protection             Member              [Sign-in activity]   \n",
       "                                                          Azure Portal                                 Member              [Sign-in activity]   \n",
       "                                                          Microsoft 365 Security and Compliance Center Member              [Sign-in activity]   \n",
       "                                                          Microsoft Cloud App Security                 Member              [Sign-in activity]   \n",
       "                                                          Microsoft Teams Web Client                   Member              [Sign-in activity]   \n",
       "                                                          Office 365 Exchange Online                   Member              [Sign-in activity]   \n",
       "                                                          Office365 Shell WCSS-Client                  Member              [Sign-in activity]   \n",
       "\n",
       "                                                                                                                 Resources  \\\n",
       "UserPrincipalName Type           IPAddress                AppResourceProvider                          UserType              \n",
       "seb@seccxp.ninja  OfficeActivity                          MicrosoftTeams                               Regular           1   \n",
       "                                 104.209.247.23           Exchange                                     Regular           1   \n",
       "                                 157.56.162.53            SharePoint                                   Regular          25   \n",
       "                                 2603:10b6:5:1c0:cafe::5f Exchange                                     Regular           1   \n",
       "                                 2603:10b6:5:9::18        Exchange                                     Regular           1   \n",
       "                                 40.83.137.154            OneDrive                                     Regular          25   \n",
       "                                 40.91.208.65             Exchange                                     Regular           1   \n",
       "                  SigninLogs     109.88.218.99            Azure Advanced Threat Protection             Member            1   \n",
       "                                                          Azure Portal                                 Member            1   \n",
       "                                                          Microsoft 365 Security and Compliance Center Member            1   \n",
       "                                                          Microsoft Cloud App Security                 Member            1   \n",
       "                                                          Microsoft Teams Web Client                   Member            1   \n",
       "                                                          Office 365 Exchange Online                   Member            1   \n",
       "                                                          Office365 Shell WCSS-Client                  Member            1   \n",
       "\n",
       "                                                                                                                                  FirstOperation  \\\n",
       "UserPrincipalName Type           IPAddress                AppResourceProvider                          UserType                                    \n",
       "seb@seccxp.ninja  OfficeActivity                          MicrosoftTeams                               Regular         2021-04-01 06:53:08+00:00   \n",
       "                                 104.209.247.23           Exchange                                     Regular         2021-04-01 08:07:12+00:00   \n",
       "                                 157.56.162.53            SharePoint                                   Regular         2021-04-01 15:44:10+00:00   \n",
       "                                 2603:10b6:5:1c0:cafe::5f Exchange                                     Regular         2021-04-01 07:20:13+00:00   \n",
       "                                 2603:10b6:5:9::18        Exchange                                     Regular         2021-04-01 04:45:38+00:00   \n",
       "                                 40.83.137.154            OneDrive                                     Regular         2021-04-01 15:44:12+00:00   \n",
       "                                 40.91.208.65             Exchange                                     Regular         2021-03-31 16:11:37+00:00   \n",
       "                  SigninLogs     109.88.218.99            Azure Advanced Threat Protection             Member   2021-03-31 16:04:38.185000+00:00   \n",
       "                                                          Azure Portal                                 Member   2021-03-31 16:05:29.380000+00:00   \n",
       "                                                          Microsoft 365 Security and Compliance Center Member   2021-03-31 16:08:46.799000+00:00   \n",
       "                                                          Microsoft Cloud App Security                 Member   2021-03-31 16:08:57.481000+00:00   \n",
       "                                                          Microsoft Teams Web Client                   Member   2021-04-01 06:54:09.384000+00:00   \n",
       "                                                          Office 365 Exchange Online                   Member   2021-04-01 06:51:16.452000+00:00   \n",
       "                                                          Office365 Shell WCSS-Client                  Member   2021-03-31 16:08:56.767000+00:00   \n",
       "\n",
       "                                                                                                                                   LastOperation  \n",
       "UserPrincipalName Type           IPAddress                AppResourceProvider                          UserType                                   \n",
       "seb@seccxp.ninja  OfficeActivity                          MicrosoftTeams                               Regular         2021-04-01 07:42:35+00:00  \n",
       "                                 104.209.247.23           Exchange                                     Regular         2021-04-01 08:07:12+00:00  \n",
       "                                 157.56.162.53            SharePoint                                   Regular         2021-04-01 15:45:38+00:00  \n",
       "                                 2603:10b6:5:1c0:cafe::5f Exchange                                     Regular         2021-04-01 07:20:13+00:00  \n",
       "                                 2603:10b6:5:9::18        Exchange                                     Regular         2021-04-01 04:45:38+00:00  \n",
       "                                 40.83.137.154            OneDrive                                     Regular         2021-04-01 15:45:40+00:00  \n",
       "                                 40.91.208.65             Exchange                                     Regular         2021-04-01 15:10:38+00:00  \n",
       "                  SigninLogs     109.88.218.99            Azure Advanced Threat Protection             Member   2021-03-31 18:04:50.565000+00:00  \n",
       "                                                          Azure Portal                                 Member   2021-04-01 13:49:11.086000+00:00  \n",
       "                                                          Microsoft 365 Security and Compliance Center Member   2021-04-01 13:49:09.412000+00:00  \n",
       "                                                          Microsoft Cloud App Security                 Member   2021-03-31 16:08:57.481000+00:00  \n",
       "                                                          Microsoft Teams Web Client                   Member   2021-04-01 13:59:12.319000+00:00  \n",
       "                                                          Office 365 Exchange Online                   Member   2021-04-01 06:51:16.452000+00:00  \n",
       "                                                          Office365 Shell WCSS-Client                  Member   2021-04-01 13:49:32.870000+00:00  "
      ]
     },
     "metadata": {},
     "output_type": "display_data"
    },
    {
     "data": {
      "text/html": [
       "<h3>IP Address details summary</h3>"
      ],
      "text/plain": [
       "<IPython.core.display.HTML object>"
      ]
     },
     "metadata": {},
     "output_type": "display_data"
    },
    {
     "data": {
      "text/html": [
       " Number of operations detected by IP Address. The table shows WhoIs ASN Description and Country Code. If UserAgent is contained in the data, operations are also grouped by this. "
      ],
      "text/plain": [
       "<IPython.core.display.HTML object>"
      ]
     },
     "metadata": {},
     "output_type": "display_data"
    },
    {
     "data": {
      "text/html": [
       "<p style=''>Querying geolocation for 8 ip addresses...</p>"
      ],
      "text/plain": [
       "<IPython.core.display.HTML object>"
      ]
     },
     "metadata": {},
     "output_type": "display_data"
    },
    {
     "data": {
      "text/html": [
       "<p style=''>Querying WhoIs for 8 ip addresses...</p>"
      ],
      "text/plain": [
       "<IPython.core.display.HTML object>"
      ]
     },
     "metadata": {},
     "output_type": "display_data"
    },
    {
     "name": "stdout",
     "output_type": "stream",
     "text": [
      "nan does not appear to be an IPv4 or IPv6 address\n"
     ]
    },
    {
     "data": {
      "text/html": [
       "<div>\n",
       "<style scoped>\n",
       "    .dataframe tbody tr th:only-of-type {\n",
       "        vertical-align: middle;\n",
       "    }\n",
       "\n",
       "    .dataframe tbody tr th {\n",
       "        vertical-align: top;\n",
       "    }\n",
       "\n",
       "    .dataframe thead th {\n",
       "        text-align: right;\n",
       "    }\n",
       "</style>\n",
       "<table border=\"1\" class=\"dataframe\">\n",
       "  <thead>\n",
       "    <tr style=\"text-align: right;\">\n",
       "      <th></th>\n",
       "      <th></th>\n",
       "      <th></th>\n",
       "      <th></th>\n",
       "      <th></th>\n",
       "      <th></th>\n",
       "      <th>Count</th>\n",
       "      <th>FirstOperation</th>\n",
       "      <th>LastOperation</th>\n",
       "    </tr>\n",
       "    <tr>\n",
       "      <th>Source</th>\n",
       "      <th>Operation</th>\n",
       "      <th>UserAgent</th>\n",
       "      <th>IpAddress</th>\n",
       "      <th>AsnDescription</th>\n",
       "      <th>CountryCode</th>\n",
       "      <th></th>\n",
       "      <th></th>\n",
       "      <th></th>\n",
       "    </tr>\n",
       "  </thead>\n",
       "  <tbody>\n",
       "    <tr>\n",
       "      <th rowspan=\"2\" valign=\"top\">AzureActiveDirectory</th>\n",
       "      <th rowspan=\"2\" valign=\"top\">Sign-in activity</th>\n",
       "      <th>Mozilla/5.0 (Macintosh; Intel Mac OS X 11_2_3) AppleWebKit/537.36 (KHTML, like Gecko) Chrome/89.0.4389.90 Safari/537.36 Edg/89.0.774.54</th>\n",
       "      <th>109.88.218.99</th>\n",
       "      <th>ASBRUTELE VOO, BE</th>\n",
       "      <th>BE</th>\n",
       "      <td>5</td>\n",
       "      <td>2021-04-01 13:49:08.481000+00:00</td>\n",
       "      <td>2021-04-01 13:49:32.870000+00:00</td>\n",
       "    </tr>\n",
       "    <tr>\n",
       "      <th>Mozilla/5.0 (Windows NT 10.0; Win64; x64) AppleWebKit/537.36 (KHTML, like Gecko) Chrome/89.0.4389.90 Safari/537.36 Edg/89.0.774.63</th>\n",
       "      <th>109.88.218.99</th>\n",
       "      <th>ASBRUTELE VOO, BE</th>\n",
       "      <th>BE</th>\n",
       "      <td>85</td>\n",
       "      <td>2021-03-31 16:04:38.185000+00:00</td>\n",
       "      <td>2021-04-01 13:59:12.319000+00:00</td>\n",
       "    </tr>\n",
       "    <tr>\n",
       "      <th rowspan=\"7\" valign=\"top\">Office365</th>\n",
       "      <th rowspan=\"2\" valign=\"top\">FileAccessed</th>\n",
       "      <th></th>\n",
       "      <th>40.83.137.154</th>\n",
       "      <th>MICROSOFT-CORP-MSN-AS-BLOCK, US</th>\n",
       "      <th>US</th>\n",
       "      <td>14</td>\n",
       "      <td>2021-04-01 15:44:12+00:00</td>\n",
       "      <td>2021-04-01 15:45:26+00:00</td>\n",
       "    </tr>\n",
       "    <tr>\n",
       "      <th>azure-logic-apps/1.0 (workflow 5cd83b3b4b1b4e77afa122aafdad7fdc; version 08585848427717773653) microsoft-flow/1.0</th>\n",
       "      <th>157.56.162.53</th>\n",
       "      <th>MICROSOFT-CORP-MSN-AS-BLOCK, US</th>\n",
       "      <th>US</th>\n",
       "      <td>25</td>\n",
       "      <td>2021-04-01 15:44:10+00:00</td>\n",
       "      <td>2021-04-01 15:45:38+00:00</td>\n",
       "    </tr>\n",
       "    <tr>\n",
       "      <th>FileModified</th>\n",
       "      <th></th>\n",
       "      <th>40.83.137.154</th>\n",
       "      <th>MICROSOFT-CORP-MSN-AS-BLOCK, US</th>\n",
       "      <th>US</th>\n",
       "      <td>25</td>\n",
       "      <td>2021-04-01 15:44:14+00:00</td>\n",
       "      <td>2021-04-01 15:45:40+00:00</td>\n",
       "    </tr>\n",
       "    <tr>\n",
       "      <th rowspan=\"3\" valign=\"top\">MailItemsAccessed</th>\n",
       "      <th rowspan=\"3\" valign=\"top\"></th>\n",
       "      <th>2603:10b6:5:1c0:cafe::5f</th>\n",
       "      <th>NA</th>\n",
       "      <th>US</th>\n",
       "      <td>1</td>\n",
       "      <td>2021-04-01 07:20:13+00:00</td>\n",
       "      <td>2021-04-01 07:20:13+00:00</td>\n",
       "    </tr>\n",
       "    <tr>\n",
       "      <th>2603:10b6:5:9::18</th>\n",
       "      <th>NA</th>\n",
       "      <th>US</th>\n",
       "      <td>1</td>\n",
       "      <td>2021-04-01 04:45:38+00:00</td>\n",
       "      <td>2021-04-01 04:45:38+00:00</td>\n",
       "    </tr>\n",
       "    <tr>\n",
       "      <th>40.91.208.65</th>\n",
       "      <th>MICROSOFT-CORP-MSN-AS-BLOCK, US</th>\n",
       "      <th>NL</th>\n",
       "      <td>25</td>\n",
       "      <td>2021-03-31 16:11:37+00:00</td>\n",
       "      <td>2021-04-01 15:10:38+00:00</td>\n",
       "    </tr>\n",
       "    <tr>\n",
       "      <th>Send</th>\n",
       "      <th></th>\n",
       "      <th>104.209.247.23</th>\n",
       "      <th>MICROSOFT-CORP-MSN-AS-BLOCK, US</th>\n",
       "      <th>US</th>\n",
       "      <td>1</td>\n",
       "      <td>2021-04-01 08:07:12+00:00</td>\n",
       "      <td>2021-04-01 08:07:12+00:00</td>\n",
       "    </tr>\n",
       "  </tbody>\n",
       "</table>\n",
       "</div>"
      ],
      "text/plain": [
       "                                                                                                                                                                                                                  Count  \\\n",
       "Source               Operation         UserAgent                                                                                            IpAddress                AsnDescription                  CountryCode          \n",
       "AzureActiveDirectory Sign-in activity  Mozilla/5.0 (Macintosh; Intel Mac OS X 11_2_3) AppleWebKit/537.36 (KHTML, like Gecko) Chrome/89.0... 109.88.218.99            ASBRUTELE VOO, BE               BE               5   \n",
       "                                       Mozilla/5.0 (Windows NT 10.0; Win64; x64) AppleWebKit/537.36 (KHTML, like Gecko) Chrome/89.0.4389... 109.88.218.99            ASBRUTELE VOO, BE               BE              85   \n",
       "Office365            FileAccessed                                                                                                           40.83.137.154            MICROSOFT-CORP-MSN-AS-BLOCK, US US              14   \n",
       "                                       azure-logic-apps/1.0 (workflow 5cd83b3b4b1b4e77afa122aafdad7fdc; version 08585848427717773653) mi... 157.56.162.53            MICROSOFT-CORP-MSN-AS-BLOCK, US US              25   \n",
       "                     FileModified                                                                                                           40.83.137.154            MICROSOFT-CORP-MSN-AS-BLOCK, US US              25   \n",
       "                     MailItemsAccessed                                                                                                      2603:10b6:5:1c0:cafe::5f NA                              US               1   \n",
       "                                                                                                                                            2603:10b6:5:9::18        NA                              US               1   \n",
       "                                                                                                                                            40.91.208.65             MICROSOFT-CORP-MSN-AS-BLOCK, US NL              25   \n",
       "                     Send                                                                                                                   104.209.247.23           MICROSOFT-CORP-MSN-AS-BLOCK, US US               1   \n",
       "\n",
       "                                                                                                                                                                                                                                   FirstOperation  \\\n",
       "Source               Operation         UserAgent                                                                                            IpAddress                AsnDescription                  CountryCode                                    \n",
       "AzureActiveDirectory Sign-in activity  Mozilla/5.0 (Macintosh; Intel Mac OS X 11_2_3) AppleWebKit/537.36 (KHTML, like Gecko) Chrome/89.0... 109.88.218.99            ASBRUTELE VOO, BE               BE          2021-04-01 13:49:08.481000+00:00   \n",
       "                                       Mozilla/5.0 (Windows NT 10.0; Win64; x64) AppleWebKit/537.36 (KHTML, like Gecko) Chrome/89.0.4389... 109.88.218.99            ASBRUTELE VOO, BE               BE          2021-03-31 16:04:38.185000+00:00   \n",
       "Office365            FileAccessed                                                                                                           40.83.137.154            MICROSOFT-CORP-MSN-AS-BLOCK, US US                 2021-04-01 15:44:12+00:00   \n",
       "                                       azure-logic-apps/1.0 (workflow 5cd83b3b4b1b4e77afa122aafdad7fdc; version 08585848427717773653) mi... 157.56.162.53            MICROSOFT-CORP-MSN-AS-BLOCK, US US                 2021-04-01 15:44:10+00:00   \n",
       "                     FileModified                                                                                                           40.83.137.154            MICROSOFT-CORP-MSN-AS-BLOCK, US US                 2021-04-01 15:44:14+00:00   \n",
       "                     MailItemsAccessed                                                                                                      2603:10b6:5:1c0:cafe::5f NA                              US                 2021-04-01 07:20:13+00:00   \n",
       "                                                                                                                                            2603:10b6:5:9::18        NA                              US                 2021-04-01 04:45:38+00:00   \n",
       "                                                                                                                                            40.91.208.65             MICROSOFT-CORP-MSN-AS-BLOCK, US NL                 2021-03-31 16:11:37+00:00   \n",
       "                     Send                                                                                                                   104.209.247.23           MICROSOFT-CORP-MSN-AS-BLOCK, US US                 2021-04-01 08:07:12+00:00   \n",
       "\n",
       "                                                                                                                                                                                                                                    LastOperation  \n",
       "Source               Operation         UserAgent                                                                                            IpAddress                AsnDescription                  CountryCode                                   \n",
       "AzureActiveDirectory Sign-in activity  Mozilla/5.0 (Macintosh; Intel Mac OS X 11_2_3) AppleWebKit/537.36 (KHTML, like Gecko) Chrome/89.0... 109.88.218.99            ASBRUTELE VOO, BE               BE          2021-04-01 13:49:32.870000+00:00  \n",
       "                                       Mozilla/5.0 (Windows NT 10.0; Win64; x64) AppleWebKit/537.36 (KHTML, like Gecko) Chrome/89.0.4389... 109.88.218.99            ASBRUTELE VOO, BE               BE          2021-04-01 13:59:12.319000+00:00  \n",
       "Office365            FileAccessed                                                                                                           40.83.137.154            MICROSOFT-CORP-MSN-AS-BLOCK, US US                 2021-04-01 15:45:26+00:00  \n",
       "                                       azure-logic-apps/1.0 (workflow 5cd83b3b4b1b4e77afa122aafdad7fdc; version 08585848427717773653) mi... 157.56.162.53            MICROSOFT-CORP-MSN-AS-BLOCK, US US                 2021-04-01 15:45:38+00:00  \n",
       "                     FileModified                                                                                                           40.83.137.154            MICROSOFT-CORP-MSN-AS-BLOCK, US US                 2021-04-01 15:45:40+00:00  \n",
       "                     MailItemsAccessed                                                                                                      2603:10b6:5:1c0:cafe::5f NA                              US                 2021-04-01 07:20:13+00:00  \n",
       "                                                                                                                                            2603:10b6:5:9::18        NA                              US                 2021-04-01 04:45:38+00:00  \n",
       "                                                                                                                                            40.91.208.65             MICROSOFT-CORP-MSN-AS-BLOCK, US NL                 2021-04-01 15:10:38+00:00  \n",
       "                     Send                                                                                                                   104.209.247.23           MICROSOFT-CORP-MSN-AS-BLOCK, US US                 2021-04-01 08:07:12+00:00  "
      ]
     },
     "metadata": {},
     "output_type": "display_data"
    }
   ],
   "source": [
    "acc_result.get_additional_data()"
   ]
  },
  {
   "cell_type": "markdown",
   "metadata": {},
   "source": [
    "---\n",
    "\n",
    "# Browse alerts\n",
    "If there are any alerts referencing this account name they can be viewed\n",
    "by calling the `acc_result.browse_alerts()` function."
   ]
  },
  {
   "cell_type": "code",
   "execution_count": 23,
   "metadata": {},
   "outputs": [
    {
     "data": {
      "application/vnd.jupyter.widget-view+json": {
       "model_id": "2c439acc08364e65bf6ce6b4c4683bdb",
       "version_major": 2,
       "version_minor": 0
      },
      "text/plain": [
       "VBox(children=(Text(value='', description='Filter alerts by title:', style=DescriptionStyle(description_width=…"
      ]
     },
     "metadata": {},
     "output_type": "display_data"
    },
    {
     "data": {
      "text/html": [
       "<hr>"
      ],
      "text/plain": [
       "<IPython.core.display.HTML object>"
      ]
     },
     "metadata": {},
     "output_type": "display_data"
    },
    {
     "data": {
      "text/html": [
       "\n",
       "            <h3>Selected Alert: 'Azure Security Center unusual storage access'</h3>\n",
       "            <b>Alert_time:</b> 2021-03-28 07:42:23.490000+00:00,&nbsp;\n",
       "            <b>Compr_entity:</b> ,&nbsp;\n",
       "            <b>Alert_id:</b> 5ff9cdd5-4185-2f39-0f5f-545b6d4fd725\n",
       "            <br/>\n",
       "            "
      ],
      "text/plain": [
       "<IPython.core.display.HTML object>"
      ]
     },
     "metadata": {},
     "output_type": "display_data"
    },
    {
     "data": {
      "text/html": [
       "<div>\n",
       "<style scoped>\n",
       "    .dataframe tbody tr th:only-of-type {\n",
       "        vertical-align: middle;\n",
       "    }\n",
       "\n",
       "    .dataframe tbody tr th {\n",
       "        vertical-align: top;\n",
       "    }\n",
       "\n",
       "    .dataframe thead th {\n",
       "        text-align: right;\n",
       "    }\n",
       "</style>\n",
       "<table border=\"1\" class=\"dataframe\">\n",
       "  <thead>\n",
       "    <tr style=\"text-align: right;\">\n",
       "      <th></th>\n",
       "      <th>0</th>\n",
       "    </tr>\n",
       "  </thead>\n",
       "  <tbody>\n",
       "    <tr>\n",
       "      <th>TenantId</th>\n",
       "      <td>8ecf8077-cf51-4820-aadd-14040956f35d</td>\n",
       "    </tr>\n",
       "    <tr>\n",
       "      <th>TimeGenerated</th>\n",
       "      <td>2021-03-28 09:15:12.881000+00:00</td>\n",
       "    </tr>\n",
       "    <tr>\n",
       "      <th>AlertDisplayName</th>\n",
       "      <td>Azure Security Center unusual storage access</td>\n",
       "    </tr>\n",
       "    <tr>\n",
       "      <th>AlertName</th>\n",
       "      <td>Azure Security Center unusual storage access</td>\n",
       "    </tr>\n",
       "    <tr>\n",
       "      <th>Severity</th>\n",
       "      <td>Medium</td>\n",
       "    </tr>\n",
       "    <tr>\n",
       "      <th>Description</th>\n",
       "      <td>Azure Security Center unusual storage access</td>\n",
       "    </tr>\n",
       "    <tr>\n",
       "      <th>ProviderName</th>\n",
       "      <td>ASI Scheduled Alerts</td>\n",
       "    </tr>\n",
       "    <tr>\n",
       "      <th>VendorName</th>\n",
       "      <td>Microsoft</td>\n",
       "    </tr>\n",
       "    <tr>\n",
       "      <th>VendorOriginalId</th>\n",
       "      <td>9ff35ff9-f4bc-4341-abd9-0e91735a790f</td>\n",
       "    </tr>\n",
       "    <tr>\n",
       "      <th>SystemAlertId</th>\n",
       "      <td>5ff9cdd5-4185-2f39-0f5f-545b6d4fd725</td>\n",
       "    </tr>\n",
       "    <tr>\n",
       "      <th>ResourceId</th>\n",
       "      <td></td>\n",
       "    </tr>\n",
       "    <tr>\n",
       "      <th>SourceComputerId</th>\n",
       "      <td></td>\n",
       "    </tr>\n",
       "    <tr>\n",
       "      <th>AlertType</th>\n",
       "      <td>8ecf8077-cf51-4820-aadd-14040956f35d_b13569a8-b049-453c-ac70-81b02313f879</td>\n",
       "    </tr>\n",
       "    <tr>\n",
       "      <th>ConfidenceLevel</th>\n",
       "      <td></td>\n",
       "    </tr>\n",
       "    <tr>\n",
       "      <th>ConfidenceScore</th>\n",
       "      <td>NaN</td>\n",
       "    </tr>\n",
       "    <tr>\n",
       "      <th>IsIncident</th>\n",
       "      <td>False</td>\n",
       "    </tr>\n",
       "    <tr>\n",
       "      <th>StartTimeUtc</th>\n",
       "      <td>2021-03-28 07:42:23.490000+00:00</td>\n",
       "    </tr>\n",
       "    <tr>\n",
       "      <th>EndTimeUtc</th>\n",
       "      <td>2021-03-28 07:42:23.490000+00:00</td>\n",
       "    </tr>\n",
       "    <tr>\n",
       "      <th>ProcessingEndTime</th>\n",
       "      <td>2021-03-28 09:15:12.881000+00:00</td>\n",
       "    </tr>\n",
       "    <tr>\n",
       "      <th>RemediationSteps</th>\n",
       "      <td></td>\n",
       "    </tr>\n",
       "    <tr>\n",
       "      <th>ExtendedProperties</th>\n",
       "      <td>{'Query': '// The query_now parameter represents the time (in UTC) at which the scheduled analyt...</td>\n",
       "    </tr>\n",
       "    <tr>\n",
       "      <th>Entities</th>\n",
       "      <td>[{'$id': '3', 'Address': '91.223.67.20', 'Type': 'ip'}, {'$id': '4', 'Name': 'seb', 'UPNSuffix':...</td>\n",
       "    </tr>\n",
       "    <tr>\n",
       "      <th>SourceSystem</th>\n",
       "      <td>Detection</td>\n",
       "    </tr>\n",
       "    <tr>\n",
       "      <th>WorkspaceSubscriptionId</th>\n",
       "      <td>d1d8779d-38d7-4f06-91db-9cbc8de0176f</td>\n",
       "    </tr>\n",
       "    <tr>\n",
       "      <th>WorkspaceResourceGroup</th>\n",
       "      <td>SOC</td>\n",
       "    </tr>\n",
       "    <tr>\n",
       "      <th>ExtendedLinks</th>\n",
       "      <td></td>\n",
       "    </tr>\n",
       "    <tr>\n",
       "      <th>ProductName</th>\n",
       "      <td>Azure Sentinel</td>\n",
       "    </tr>\n",
       "    <tr>\n",
       "      <th>ProductComponentName</th>\n",
       "      <td>Scheduled Alerts</td>\n",
       "    </tr>\n",
       "    <tr>\n",
       "      <th>AlertLink</th>\n",
       "      <td></td>\n",
       "    </tr>\n",
       "    <tr>\n",
       "      <th>Status</th>\n",
       "      <td>New</td>\n",
       "    </tr>\n",
       "    <tr>\n",
       "      <th>CompromisedEntity</th>\n",
       "      <td></td>\n",
       "    </tr>\n",
       "    <tr>\n",
       "      <th>Tactics</th>\n",
       "      <td>Execution, Collection</td>\n",
       "    </tr>\n",
       "    <tr>\n",
       "      <th>Type</th>\n",
       "      <td>SecurityAlert</td>\n",
       "    </tr>\n",
       "    <tr>\n",
       "      <th>Computer</th>\n",
       "      <td></td>\n",
       "    </tr>\n",
       "    <tr>\n",
       "      <th>src_hostname</th>\n",
       "      <td></td>\n",
       "    </tr>\n",
       "    <tr>\n",
       "      <th>src_accountname</th>\n",
       "      <td>seb</td>\n",
       "    </tr>\n",
       "    <tr>\n",
       "      <th>src_procname</th>\n",
       "      <td></td>\n",
       "    </tr>\n",
       "    <tr>\n",
       "      <th>host_match</th>\n",
       "      <td>False</td>\n",
       "    </tr>\n",
       "    <tr>\n",
       "      <th>acct_match</th>\n",
       "      <td>True</td>\n",
       "    </tr>\n",
       "    <tr>\n",
       "      <th>proc_match</th>\n",
       "      <td>False</td>\n",
       "    </tr>\n",
       "  </tbody>\n",
       "</table>\n",
       "</div>"
      ],
      "text/plain": [
       "                                                                                                                           0\n",
       "TenantId                                                                                8ecf8077-cf51-4820-aadd-14040956f35d\n",
       "TimeGenerated                                                                               2021-03-28 09:15:12.881000+00:00\n",
       "AlertDisplayName                                                                Azure Security Center unusual storage access\n",
       "AlertName                                                                       Azure Security Center unusual storage access\n",
       "Severity                                                                                                              Medium\n",
       "Description                                                                     Azure Security Center unusual storage access\n",
       "ProviderName                                                                                            ASI Scheduled Alerts\n",
       "VendorName                                                                                                         Microsoft\n",
       "VendorOriginalId                                                                        9ff35ff9-f4bc-4341-abd9-0e91735a790f\n",
       "SystemAlertId                                                                           5ff9cdd5-4185-2f39-0f5f-545b6d4fd725\n",
       "ResourceId                                                                                                                  \n",
       "SourceComputerId                                                                                                            \n",
       "AlertType                                          8ecf8077-cf51-4820-aadd-14040956f35d_b13569a8-b049-453c-ac70-81b02313f879\n",
       "ConfidenceLevel                                                                                                             \n",
       "ConfidenceScore                                                                                                          NaN\n",
       "IsIncident                                                                                                             False\n",
       "StartTimeUtc                                                                                2021-03-28 07:42:23.490000+00:00\n",
       "EndTimeUtc                                                                                  2021-03-28 07:42:23.490000+00:00\n",
       "ProcessingEndTime                                                                           2021-03-28 09:15:12.881000+00:00\n",
       "RemediationSteps                                                                                                            \n",
       "ExtendedProperties       {'Query': '// The query_now parameter represents the time (in UTC) at which the scheduled analyt...\n",
       "Entities                 [{'$id': '3', 'Address': '91.223.67.20', 'Type': 'ip'}, {'$id': '4', 'Name': 'seb', 'UPNSuffix':...\n",
       "SourceSystem                                                                                                       Detection\n",
       "WorkspaceSubscriptionId                                                                 d1d8779d-38d7-4f06-91db-9cbc8de0176f\n",
       "WorkspaceResourceGroup                                                                                                   SOC\n",
       "ExtendedLinks                                                                                                               \n",
       "ProductName                                                                                                   Azure Sentinel\n",
       "ProductComponentName                                                                                        Scheduled Alerts\n",
       "AlertLink                                                                                                                   \n",
       "Status                                                                                                                   New\n",
       "CompromisedEntity                                                                                                           \n",
       "Tactics                                                                                                Execution, Collection\n",
       "Type                                                                                                           SecurityAlert\n",
       "Computer                                                                                                                    \n",
       "src_hostname                                                                                                                \n",
       "src_accountname                                                                                                          seb\n",
       "src_procname                                                                                                                \n",
       "host_match                                                                                                             False\n",
       "acct_match                                                                                                              True\n",
       "proc_match                                                                                                             False"
      ]
     },
     "metadata": {},
     "output_type": "display_data"
    }
   ],
   "source": [
    "acc_result.browse_alerts()"
   ]
  },
  {
   "cell_type": "markdown",
   "metadata": {},
   "source": [
    "---\n",
    "\n",
    "# Browse other event data\n",
    "\n",
    "You can use a simple view to make it easier to see the details of individual events\n",
    "by calling the \"view_events\" method.\n",
    "\n",
    "You need to supply the name of the result attribute that you want to view plus\n",
    "one or more summary columns (as a list of strings)."
   ]
  },
  {
   "cell_type": "code",
   "execution_count": 24,
   "metadata": {},
   "outputs": [
    {
     "data": {
      "application/vnd.jupyter.widget-view+json": {
       "model_id": "cd73a63f60e749ceabc145bbef674d21",
       "version_major": 2,
       "version_minor": 0
      },
      "text/plain": [
       "VBox(children=(Text(value='', description='Filter:', style=DescriptionStyle(description_width='initial')), Sel…"
      ]
     },
     "metadata": {},
     "output_type": "display_data"
    },
    {
     "data": {
      "text/html": [
       "<hr>"
      ],
      "text/plain": [
       "<IPython.core.display.HTML object>"
      ]
     },
     "metadata": {},
     "output_type": "display_data"
    },
    {
     "data": {
      "text/html": [
       "<div>\n",
       "<style scoped>\n",
       "    .dataframe tbody tr th:only-of-type {\n",
       "        vertical-align: middle;\n",
       "    }\n",
       "\n",
       "    .dataframe tbody tr th {\n",
       "        vertical-align: top;\n",
       "    }\n",
       "\n",
       "    .dataframe thead th {\n",
       "        text-align: right;\n",
       "    }\n",
       "</style>\n",
       "<table border=\"1\" class=\"dataframe\">\n",
       "  <thead>\n",
       "    <tr style=\"text-align: right;\">\n",
       "      <th></th>\n",
       "      <th>305</th>\n",
       "    </tr>\n",
       "  </thead>\n",
       "  <tbody>\n",
       "    <tr>\n",
       "      <th>TenantId</th>\n",
       "      <td>8ecf8077-cf51-4820-aadd-14040956f35d</td>\n",
       "    </tr>\n",
       "    <tr>\n",
       "      <th>SourceSystem</th>\n",
       "      <td>OfficeActivityManager</td>\n",
       "    </tr>\n",
       "    <tr>\n",
       "      <th>TimeGenerated</th>\n",
       "      <td>2021-03-27 15:44:25+00:00</td>\n",
       "    </tr>\n",
       "    <tr>\n",
       "      <th>ResourceId</th>\n",
       "      <td>https://seccxpninja.sharepoint.com/sites/CxEData/Shared Documents/Project Delta/Product Marketin...</td>\n",
       "    </tr>\n",
       "    <tr>\n",
       "      <th>Operation</th>\n",
       "      <td>FileAccessed</td>\n",
       "    </tr>\n",
       "    <tr>\n",
       "      <th>AppResourceProvider</th>\n",
       "      <td>SharePoint</td>\n",
       "    </tr>\n",
       "    <tr>\n",
       "      <th>IPAddress</th>\n",
       "      <td>157.56.162.53</td>\n",
       "    </tr>\n",
       "    <tr>\n",
       "      <th>UserAgent</th>\n",
       "      <td>azure-logic-apps/1.0 (workflow 5cd83b3b4b1b4e77afa122aafdad7fdc; version 08585848427717773653) m...</td>\n",
       "    </tr>\n",
       "    <tr>\n",
       "      <th>UserId</th>\n",
       "      <td>seb@seccxp.ninja</td>\n",
       "    </tr>\n",
       "    <tr>\n",
       "      <th>UserPrincipalName</th>\n",
       "      <td>seb@seccxp.ninja</td>\n",
       "    </tr>\n",
       "    <tr>\n",
       "      <th>UserType</th>\n",
       "      <td>Regular</td>\n",
       "    </tr>\n",
       "    <tr>\n",
       "      <th>Type</th>\n",
       "      <td>OfficeActivity</td>\n",
       "    </tr>\n",
       "    <tr>\n",
       "      <th>Source</th>\n",
       "      <td>Office365</td>\n",
       "    </tr>\n",
       "    <tr>\n",
       "      <th>RecordType</th>\n",
       "      <td>SharePointFileOperation</td>\n",
       "    </tr>\n",
       "    <tr>\n",
       "      <th>OrganizationId</th>\n",
       "      <td>4b2462a4-bbee-495a-a0e1-f23ae524cc9c</td>\n",
       "    </tr>\n",
       "    <tr>\n",
       "      <th>OrganizationId_</th>\n",
       "      <td>4b2462a4-bbee-495a-a0e1-f23ae524cc9c</td>\n",
       "    </tr>\n",
       "    <tr>\n",
       "      <th>UserKey</th>\n",
       "      <td>i:0h.f|membership|100320003f88d275@live.com</td>\n",
       "    </tr>\n",
       "    <tr>\n",
       "      <th>UserId_</th>\n",
       "      <td>seb@seccxp.ninja</td>\n",
       "    </tr>\n",
       "    <tr>\n",
       "      <th>ClientIP</th>\n",
       "      <td>157.56.162.53</td>\n",
       "    </tr>\n",
       "    <tr>\n",
       "      <th>ClientIP_</th>\n",
       "      <td>157.56.162.53</td>\n",
       "    </tr>\n",
       "    <tr>\n",
       "      <th>Site_</th>\n",
       "      <td>bc2cece0-688a-41a9-a0f0-e0fc280b1df1</td>\n",
       "    </tr>\n",
       "    <tr>\n",
       "      <th>ItemType</th>\n",
       "      <td>File</td>\n",
       "    </tr>\n",
       "    <tr>\n",
       "      <th>EventSource</th>\n",
       "      <td>SharePoint</td>\n",
       "    </tr>\n",
       "    <tr>\n",
       "      <th>Site_Url</th>\n",
       "      <td>https://seccxpninja.sharepoint.com/sites/CxEData/</td>\n",
       "    </tr>\n",
       "    <tr>\n",
       "      <th>Site_Url_</th>\n",
       "      <td>https://seccxpninja.sharepoint.com/sites/CxEData/</td>\n",
       "    </tr>\n",
       "    <tr>\n",
       "      <th>SourceRelativeUrl</th>\n",
       "      <td>Shared Documents/Project Delta</td>\n",
       "    </tr>\n",
       "    <tr>\n",
       "      <th>SourceRelativeUrl_</th>\n",
       "      <td>Shared Documents/Project Delta</td>\n",
       "    </tr>\n",
       "    <tr>\n",
       "      <th>SourceFileName</th>\n",
       "      <td>Product Marketing Info.docx</td>\n",
       "    </tr>\n",
       "    <tr>\n",
       "      <th>SourceFileName_</th>\n",
       "      <td>Product Marketing Info.docx</td>\n",
       "    </tr>\n",
       "    <tr>\n",
       "      <th>SourceFileExtension</th>\n",
       "      <td>docx</td>\n",
       "    </tr>\n",
       "    <tr>\n",
       "      <th>ElevationTime</th>\n",
       "      <td>2021-03-27 15:52:39+00:00</td>\n",
       "    </tr>\n",
       "    <tr>\n",
       "      <th>OfficeId</th>\n",
       "      <td>000529fd-4b6c-4aa2-4155-08d8f13732db</td>\n",
       "    </tr>\n",
       "    <tr>\n",
       "      <th>SourceRecordId</th>\n",
       "      <td>000529fd-4b6c-4aa2-4155-08d8f13732db</td>\n",
       "    </tr>\n",
       "    <tr>\n",
       "      <th>Start_Time</th>\n",
       "      <td>2021-03-27 15:52:39+00:00</td>\n",
       "    </tr>\n",
       "    <tr>\n",
       "      <th>OfficeTenantId</th>\n",
       "      <td>$RestApiTenantId$</td>\n",
       "    </tr>\n",
       "    <tr>\n",
       "      <th>OfficeTenantId_</th>\n",
       "      <td>$RestApiTenantId$</td>\n",
       "    </tr>\n",
       "  </tbody>\n",
       "</table>\n",
       "</div>"
      ],
      "text/plain": [
       "                                                                                                                     305\n",
       "TenantId                                                                            8ecf8077-cf51-4820-aadd-14040956f35d\n",
       "SourceSystem                                                                                       OfficeActivityManager\n",
       "TimeGenerated                                                                                  2021-03-27 15:44:25+00:00\n",
       "ResourceId           https://seccxpninja.sharepoint.com/sites/CxEData/Shared Documents/Project Delta/Product Marketin...\n",
       "Operation                                                                                                   FileAccessed\n",
       "AppResourceProvider                                                                                           SharePoint\n",
       "IPAddress                                                                                                  157.56.162.53\n",
       "UserAgent            azure-logic-apps/1.0 (workflow 5cd83b3b4b1b4e77afa122aafdad7fdc; version 08585848427717773653) m...\n",
       "UserId                                                                                                  seb@seccxp.ninja\n",
       "UserPrincipalName                                                                                       seb@seccxp.ninja\n",
       "UserType                                                                                                         Regular\n",
       "Type                                                                                                      OfficeActivity\n",
       "Source                                                                                                         Office365\n",
       "RecordType                                                                                       SharePointFileOperation\n",
       "OrganizationId                                                                      4b2462a4-bbee-495a-a0e1-f23ae524cc9c\n",
       "OrganizationId_                                                                     4b2462a4-bbee-495a-a0e1-f23ae524cc9c\n",
       "UserKey                                                                      i:0h.f|membership|100320003f88d275@live.com\n",
       "UserId_                                                                                                 seb@seccxp.ninja\n",
       "ClientIP                                                                                                   157.56.162.53\n",
       "ClientIP_                                                                                                  157.56.162.53\n",
       "Site_                                                                               bc2cece0-688a-41a9-a0f0-e0fc280b1df1\n",
       "ItemType                                                                                                            File\n",
       "EventSource                                                                                                   SharePoint\n",
       "Site_Url                                                               https://seccxpninja.sharepoint.com/sites/CxEData/\n",
       "Site_Url_                                                              https://seccxpninja.sharepoint.com/sites/CxEData/\n",
       "SourceRelativeUrl                                                                         Shared Documents/Project Delta\n",
       "SourceRelativeUrl_                                                                        Shared Documents/Project Delta\n",
       "SourceFileName                                                                               Product Marketing Info.docx\n",
       "SourceFileName_                                                                              Product Marketing Info.docx\n",
       "SourceFileExtension                                                                                                 docx\n",
       "ElevationTime                                                                                  2021-03-27 15:52:39+00:00\n",
       "OfficeId                                                                            000529fd-4b6c-4aa2-4155-08d8f13732db\n",
       "SourceRecordId                                                                      000529fd-4b6c-4aa2-4155-08d8f13732db\n",
       "Start_Time                                                                                     2021-03-27 15:52:39+00:00\n",
       "OfficeTenantId                                                                                         $RestApiTenantId$\n",
       "OfficeTenantId_                                                                                        $RestApiTenantId$"
      ]
     },
     "metadata": {},
     "output_type": "display_data"
    }
   ],
   "source": [
    "acc_result.view_events(attrib=\"azure_activity\", summary_cols=[\"SourceSystem\", \"Operation\", \"IPAddress\"])"
   ]
  },
  {
   "cell_type": "markdown",
   "metadata": {},
   "source": [
    "## Browse events with alternative sorting\n",
    "You can pass a DatFrame to view events instead of an attribute name.\n",
    "\n",
    "This means that you can apply sorting or filtering of the data before viewing it.\n",
    "Here is an example sorting by IPAddress."
   ]
  },
  {
   "cell_type": "code",
   "execution_count": null,
   "metadata": {},
   "outputs": [],
   "source": [
    "acc_result.view_events(\n",
    "    data=acc_result.azure_activity.sort_values(\"IPAddress\"),\n",
    "    summary_cols=[\"SourceSystem\", \"Operation\", \"IPAddress\"]\n",
    ")"
   ]
  },
  {
   "cell_type": "markdown",
   "metadata": {},
   "source": [
    "---\n",
    "\n",
    "# Additional properties and methods of the result object\n",
    "\n",
    "These are static properties - usually DataFrames or visualizations. \n",
    "You can access each of these to see or manipulate the retrieved data.\n",
    "\n",
    "To see help on the available attributes type:\n",
    "```python\n",
    ">>> help(acc_result)\n",
    "```\n",
    "To see the available methods type:\n",
    "```python\n",
    ">>> acc_result.list_methods()\n",
    "```\n",
    "> Note, for the AccountSummary notebooklet, the two main data retrieval methods are:<br>\n",
    "> - run<br>\n",
    "> - get_additional_data<br>\n",
    "> There are several other methods that allow you to view individual plots\n",
    "> or subsets of the data (such as alerts).\n",
    "\n",
    "To view help on a specific method type:\n",
    "```python\n",
    ">>> help(acc_result.method_name())\n",
    "```"
   ]
  },
  {
   "cell_type": "code",
   "execution_count": null,
   "metadata": {},
   "outputs": [],
   "source": [
    "acc_result.display_alert_timeline()"
   ]
  },
  {
   "cell_type": "markdown",
   "metadata": {},
   "source": [
    "## IP Summary table"
   ]
  },
  {
   "cell_type": "code",
   "execution_count": 31,
   "metadata": {},
   "outputs": [
    {
     "data": {
      "text/html": [
       "<div>\n",
       "<style scoped>\n",
       "    .dataframe tbody tr th:only-of-type {\n",
       "        vertical-align: middle;\n",
       "    }\n",
       "\n",
       "    .dataframe tbody tr th {\n",
       "        vertical-align: top;\n",
       "    }\n",
       "\n",
       "    .dataframe thead th {\n",
       "        text-align: right;\n",
       "    }\n",
       "</style>\n",
       "<table border=\"1\" class=\"dataframe\">\n",
       "  <thead>\n",
       "    <tr style=\"text-align: right;\">\n",
       "      <th></th>\n",
       "      <th></th>\n",
       "      <th></th>\n",
       "      <th></th>\n",
       "      <th></th>\n",
       "      <th></th>\n",
       "      <th>Count</th>\n",
       "      <th>FirstOperation</th>\n",
       "      <th>LastOperation</th>\n",
       "    </tr>\n",
       "    <tr>\n",
       "      <th>Source</th>\n",
       "      <th>Operation</th>\n",
       "      <th>UserAgent</th>\n",
       "      <th>IpAddress</th>\n",
       "      <th>AsnDescription</th>\n",
       "      <th>CountryCode</th>\n",
       "      <th></th>\n",
       "      <th></th>\n",
       "      <th></th>\n",
       "    </tr>\n",
       "  </thead>\n",
       "  <tbody>\n",
       "    <tr>\n",
       "      <th rowspan=\"2\" valign=\"top\">AzureActiveDirectory</th>\n",
       "      <th rowspan=\"2\" valign=\"top\">Sign-in activity</th>\n",
       "      <th>Mozilla/5.0 (Macintosh; Intel Mac OS X 11_2_3) AppleWebKit/537.36 (KHTML, like Gecko) Chrome/89.0.4389.90 Safari/537.36 Edg/89.0.774.54</th>\n",
       "      <th>109.88.218.99</th>\n",
       "      <th>ASBRUTELE VOO, BE</th>\n",
       "      <th>BE</th>\n",
       "      <td>5</td>\n",
       "      <td>2021-04-01 13:49:08.481000+00:00</td>\n",
       "      <td>2021-04-01 13:49:32.870000+00:00</td>\n",
       "    </tr>\n",
       "    <tr>\n",
       "      <th>Mozilla/5.0 (Windows NT 10.0; Win64; x64) AppleWebKit/537.36 (KHTML, like Gecko) Chrome/89.0.4389.90 Safari/537.36 Edg/89.0.774.63</th>\n",
       "      <th>109.88.218.99</th>\n",
       "      <th>ASBRUTELE VOO, BE</th>\n",
       "      <th>BE</th>\n",
       "      <td>85</td>\n",
       "      <td>2021-03-31 16:04:38.185000+00:00</td>\n",
       "      <td>2021-04-01 13:59:12.319000+00:00</td>\n",
       "    </tr>\n",
       "    <tr>\n",
       "      <th rowspan=\"7\" valign=\"top\">Office365</th>\n",
       "      <th rowspan=\"2\" valign=\"top\">FileAccessed</th>\n",
       "      <th></th>\n",
       "      <th>40.83.137.154</th>\n",
       "      <th>MICROSOFT-CORP-MSN-AS-BLOCK, US</th>\n",
       "      <th>US</th>\n",
       "      <td>14</td>\n",
       "      <td>2021-04-01 15:44:12+00:00</td>\n",
       "      <td>2021-04-01 15:45:26+00:00</td>\n",
       "    </tr>\n",
       "    <tr>\n",
       "      <th>azure-logic-apps/1.0 (workflow 5cd83b3b4b1b4e77afa122aafdad7fdc; version 08585848427717773653) microsoft-flow/1.0</th>\n",
       "      <th>157.56.162.53</th>\n",
       "      <th>MICROSOFT-CORP-MSN-AS-BLOCK, US</th>\n",
       "      <th>US</th>\n",
       "      <td>25</td>\n",
       "      <td>2021-04-01 15:44:10+00:00</td>\n",
       "      <td>2021-04-01 15:45:38+00:00</td>\n",
       "    </tr>\n",
       "    <tr>\n",
       "      <th>FileModified</th>\n",
       "      <th></th>\n",
       "      <th>40.83.137.154</th>\n",
       "      <th>MICROSOFT-CORP-MSN-AS-BLOCK, US</th>\n",
       "      <th>US</th>\n",
       "      <td>25</td>\n",
       "      <td>2021-04-01 15:44:14+00:00</td>\n",
       "      <td>2021-04-01 15:45:40+00:00</td>\n",
       "    </tr>\n",
       "    <tr>\n",
       "      <th rowspan=\"3\" valign=\"top\">MailItemsAccessed</th>\n",
       "      <th rowspan=\"3\" valign=\"top\"></th>\n",
       "      <th>2603:10b6:5:1c0:cafe::5f</th>\n",
       "      <th>NA</th>\n",
       "      <th>US</th>\n",
       "      <td>1</td>\n",
       "      <td>2021-04-01 07:20:13+00:00</td>\n",
       "      <td>2021-04-01 07:20:13+00:00</td>\n",
       "    </tr>\n",
       "    <tr>\n",
       "      <th>2603:10b6:5:9::18</th>\n",
       "      <th>NA</th>\n",
       "      <th>US</th>\n",
       "      <td>1</td>\n",
       "      <td>2021-04-01 04:45:38+00:00</td>\n",
       "      <td>2021-04-01 04:45:38+00:00</td>\n",
       "    </tr>\n",
       "    <tr>\n",
       "      <th>40.91.208.65</th>\n",
       "      <th>MICROSOFT-CORP-MSN-AS-BLOCK, US</th>\n",
       "      <th>NL</th>\n",
       "      <td>25</td>\n",
       "      <td>2021-03-31 16:11:37+00:00</td>\n",
       "      <td>2021-04-01 15:10:38+00:00</td>\n",
       "    </tr>\n",
       "    <tr>\n",
       "      <th>Send</th>\n",
       "      <th></th>\n",
       "      <th>104.209.247.23</th>\n",
       "      <th>MICROSOFT-CORP-MSN-AS-BLOCK, US</th>\n",
       "      <th>US</th>\n",
       "      <td>1</td>\n",
       "      <td>2021-04-01 08:07:12+00:00</td>\n",
       "      <td>2021-04-01 08:07:12+00:00</td>\n",
       "    </tr>\n",
       "  </tbody>\n",
       "</table>\n",
       "</div>"
      ],
      "text/plain": [
       "                                                                                                                                                                                                                  Count  \\\n",
       "Source               Operation         UserAgent                                                                                            IpAddress                AsnDescription                  CountryCode          \n",
       "AzureActiveDirectory Sign-in activity  Mozilla/5.0 (Macintosh; Intel Mac OS X 11_2_3) AppleWebKit/537.36 (KHTML, like Gecko) Chrome/89.0... 109.88.218.99            ASBRUTELE VOO, BE               BE               5   \n",
       "                                       Mozilla/5.0 (Windows NT 10.0; Win64; x64) AppleWebKit/537.36 (KHTML, like Gecko) Chrome/89.0.4389... 109.88.218.99            ASBRUTELE VOO, BE               BE              85   \n",
       "Office365            FileAccessed                                                                                                           40.83.137.154            MICROSOFT-CORP-MSN-AS-BLOCK, US US              14   \n",
       "                                       azure-logic-apps/1.0 (workflow 5cd83b3b4b1b4e77afa122aafdad7fdc; version 08585848427717773653) mi... 157.56.162.53            MICROSOFT-CORP-MSN-AS-BLOCK, US US              25   \n",
       "                     FileModified                                                                                                           40.83.137.154            MICROSOFT-CORP-MSN-AS-BLOCK, US US              25   \n",
       "                     MailItemsAccessed                                                                                                      2603:10b6:5:1c0:cafe::5f NA                              US               1   \n",
       "                                                                                                                                            2603:10b6:5:9::18        NA                              US               1   \n",
       "                                                                                                                                            40.91.208.65             MICROSOFT-CORP-MSN-AS-BLOCK, US NL              25   \n",
       "                     Send                                                                                                                   104.209.247.23           MICROSOFT-CORP-MSN-AS-BLOCK, US US               1   \n",
       "\n",
       "                                                                                                                                                                                                                                   FirstOperation  \\\n",
       "Source               Operation         UserAgent                                                                                            IpAddress                AsnDescription                  CountryCode                                    \n",
       "AzureActiveDirectory Sign-in activity  Mozilla/5.0 (Macintosh; Intel Mac OS X 11_2_3) AppleWebKit/537.36 (KHTML, like Gecko) Chrome/89.0... 109.88.218.99            ASBRUTELE VOO, BE               BE          2021-04-01 13:49:08.481000+00:00   \n",
       "                                       Mozilla/5.0 (Windows NT 10.0; Win64; x64) AppleWebKit/537.36 (KHTML, like Gecko) Chrome/89.0.4389... 109.88.218.99            ASBRUTELE VOO, BE               BE          2021-03-31 16:04:38.185000+00:00   \n",
       "Office365            FileAccessed                                                                                                           40.83.137.154            MICROSOFT-CORP-MSN-AS-BLOCK, US US                 2021-04-01 15:44:12+00:00   \n",
       "                                       azure-logic-apps/1.0 (workflow 5cd83b3b4b1b4e77afa122aafdad7fdc; version 08585848427717773653) mi... 157.56.162.53            MICROSOFT-CORP-MSN-AS-BLOCK, US US                 2021-04-01 15:44:10+00:00   \n",
       "                     FileModified                                                                                                           40.83.137.154            MICROSOFT-CORP-MSN-AS-BLOCK, US US                 2021-04-01 15:44:14+00:00   \n",
       "                     MailItemsAccessed                                                                                                      2603:10b6:5:1c0:cafe::5f NA                              US                 2021-04-01 07:20:13+00:00   \n",
       "                                                                                                                                            2603:10b6:5:9::18        NA                              US                 2021-04-01 04:45:38+00:00   \n",
       "                                                                                                                                            40.91.208.65             MICROSOFT-CORP-MSN-AS-BLOCK, US NL                 2021-03-31 16:11:37+00:00   \n",
       "                     Send                                                                                                                   104.209.247.23           MICROSOFT-CORP-MSN-AS-BLOCK, US US                 2021-04-01 08:07:12+00:00   \n",
       "\n",
       "                                                                                                                                                                                                                                    LastOperation  \n",
       "Source               Operation         UserAgent                                                                                            IpAddress                AsnDescription                  CountryCode                                   \n",
       "AzureActiveDirectory Sign-in activity  Mozilla/5.0 (Macintosh; Intel Mac OS X 11_2_3) AppleWebKit/537.36 (KHTML, like Gecko) Chrome/89.0... 109.88.218.99            ASBRUTELE VOO, BE               BE          2021-04-01 13:49:32.870000+00:00  \n",
       "                                       Mozilla/5.0 (Windows NT 10.0; Win64; x64) AppleWebKit/537.36 (KHTML, like Gecko) Chrome/89.0.4389... 109.88.218.99            ASBRUTELE VOO, BE               BE          2021-04-01 13:59:12.319000+00:00  \n",
       "Office365            FileAccessed                                                                                                           40.83.137.154            MICROSOFT-CORP-MSN-AS-BLOCK, US US                 2021-04-01 15:45:26+00:00  \n",
       "                                       azure-logic-apps/1.0 (workflow 5cd83b3b4b1b4e77afa122aafdad7fdc; version 08585848427717773653) mi... 157.56.162.53            MICROSOFT-CORP-MSN-AS-BLOCK, US US                 2021-04-01 15:45:38+00:00  \n",
       "                     FileModified                                                                                                           40.83.137.154            MICROSOFT-CORP-MSN-AS-BLOCK, US US                 2021-04-01 15:45:40+00:00  \n",
       "                     MailItemsAccessed                                                                                                      2603:10b6:5:1c0:cafe::5f NA                              US                 2021-04-01 07:20:13+00:00  \n",
       "                                                                                                                                            2603:10b6:5:9::18        NA                              US                 2021-04-01 04:45:38+00:00  \n",
       "                                                                                                                                            40.91.208.65             MICROSOFT-CORP-MSN-AS-BLOCK, US NL                 2021-04-01 15:10:38+00:00  \n",
       "                     Send                                                                                                                   104.209.247.23           MICROSOFT-CORP-MSN-AS-BLOCK, US US                 2021-04-01 08:07:12+00:00  "
      ]
     },
     "execution_count": 31,
     "metadata": {},
     "output_type": "execute_result"
    }
   ],
   "source": [
    "acc_result.ip_summary"
   ]
  },
  {
   "cell_type": "markdown",
   "metadata": {},
   "source": [
    "## IP Geo-Map\n",
    "> **Note**: you may need to zoom out to see the data."
   ]
  },
  {
   "cell_type": "code",
   "execution_count": 32,
   "metadata": {},
   "outputs": [
    {
     "data": {
      "text/html": [
       "<div style=\"width:100%;\"><div style=\"position:relative;width:100%;height:0;padding-bottom:60%;\"><span style=\"color:#565656\">Make this Notebook Trusted to load map: File -> Trust Notebook</span><iframe src=\"about:blank\" style=\"position:absolute;width:100%;height:100%;left:0;top:0;border:none !important;\" data-html=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 onload=\"this.contentDocument.open();this.contentDocument.write(atob(this.getAttribute('data-html')));this.contentDocument.close();\" allowfullscreen webkitallowfullscreen mozallowfullscreen></iframe></div></div>"
      ],
      "text/plain": [
       "<msticpy.nbtools.foliummap.FoliumMap at 0x24dbedcc308>"
      ]
     },
     "execution_count": 32,
     "metadata": {},
     "output_type": "execute_result"
    }
   ],
   "source": [
    "acc_result.get_geoip_map()"
   ]
  },
  {
   "cell_type": "markdown",
   "metadata": {},
   "source": [
    "---\n",
    "\n",
    "# Viewing the Result class\n",
    "You can view all of the data in the results class by \"running\" it in a cell\n",
    "\n",
    "> Note: due to the way Jupyter display Javascript objects the plots may\n",
    "> appear out of order.\n",
    "\n",
    "Most of the properties of the results class are pandas DataFrames - \n",
    "you can use these directly for further analysis. Other property types\n",
    "include entities and visualizations.\n",
    "\n",
    "The DataFrames displayed by running the result object are truncated\n",
    "to the first five rows."
   ]
  },
  {
   "cell_type": "code",
   "execution_count": null,
   "metadata": {},
   "outputs": [],
   "source": [
    "acc_result"
   ]
  },
  {
   "cell_type": "markdown",
   "metadata": {},
   "source": [
    "---\n",
    "\n",
    "# Use other notebooklets and pivots functions to drill down on other entities\n",
    "\n",
    "You may want to drill down on other entities in the Account data.\n",
    "You can use methods of the IpAddress or Host entities, for example,\n",
    "to look at these in more detail."
   ]
  },
  {
   "cell_type": "code",
   "execution_count": 33,
   "metadata": {},
   "outputs": [
    {
     "data": {
      "text/html": [
       "<h1>IP Address summary</h1>"
      ],
      "text/plain": [
       "<IPython.core.display.HTML object>"
      ]
     },
     "metadata": {},
     "output_type": "display_data"
    },
    {
     "data": {
      "text/html": [
       "Retrieving data for IP Address Data and plots are stored in the result class returned by this function."
      ],
      "text/plain": [
       "<IPython.core.display.HTML object>"
      ]
     },
     "metadata": {},
     "output_type": "display_data"
    },
    {
     "data": {
      "text/html": [
       "<p style=''>40.91.208.65, ip address type: Public</p>"
      ],
      "text/plain": [
       "<IPython.core.display.HTML object>"
      ]
     },
     "metadata": {},
     "output_type": "display_data"
    },
    {
     "data": {
      "text/html": [
       "<h2>Azure Network Analytics Topology record for the IP.</h2>"
      ],
      "text/plain": [
       "<IPython.core.display.HTML object>"
      ]
     },
     "metadata": {},
     "output_type": "display_data"
    },
    {
     "data": {
      "text/html": [
       "(only available for Azure VMs)"
      ],
      "text/plain": [
       "<IPython.core.display.HTML object>"
      ]
     },
     "metadata": {},
     "output_type": "display_data"
    },
    {
     "data": {
      "text/html": [
       "<p style=''>Getting data from AzureNetworkAnalytics topology...</p>"
      ],
      "text/plain": [
       "<IPython.core.display.HTML object>"
      ]
     },
     "metadata": {},
     "output_type": "display_data"
    },
    {
     "data": {
      "text/html": [
       "<p style=''>Could not get Azure network interface record</p>"
      ],
      "text/plain": [
       "<IPython.core.display.HTML object>"
      ]
     },
     "metadata": {},
     "output_type": "display_data"
    },
    {
     "data": {
      "text/html": [
       "<h2>Azure Sentinel heartbeat record for the IP.</h2>"
      ],
      "text/plain": [
       "<IPython.core.display.HTML object>"
      ]
     },
     "metadata": {},
     "output_type": "display_data"
    },
    {
     "data": {
      "text/html": [
       "(only available for IP addresses that belong to the subscription)"
      ],
      "text/plain": [
       "<IPython.core.display.HTML object>"
      ]
     },
     "metadata": {},
     "output_type": "display_data"
    },
    {
     "data": {
      "text/html": [
       "<p style=''>Getting data from Heartbeat...</p>"
      ],
      "text/plain": [
       "<IPython.core.display.HTML object>"
      ]
     },
     "metadata": {},
     "output_type": "display_data"
    },
    {
     "data": {
      "text/html": [
       "<p style=''>Could not get Azure Heartbeat record</p>"
      ],
      "text/plain": [
       "<IPython.core.display.HTML object>"
      ]
     },
     "metadata": {},
     "output_type": "display_data"
    },
    {
     "data": {
      "text/html": [
       "<h2>Azure VMComputer record for the IP.</h2>"
      ],
      "text/plain": [
       "<IPython.core.display.HTML object>"
      ]
     },
     "metadata": {},
     "output_type": "display_data"
    },
    {
     "data": {
      "text/html": [
       "(only available for Azure VMs)"
      ],
      "text/plain": [
       "<IPython.core.display.HTML object>"
      ]
     },
     "metadata": {},
     "output_type": "display_data"
    },
    {
     "data": {
      "text/html": [
       "<p style=''>Getting data from VMComputer...</p>"
      ],
      "text/plain": [
       "<IPython.core.display.HTML object>"
      ]
     },
     "metadata": {},
     "output_type": "display_data"
    },
    {
     "data": {
      "text/html": [
       "<p style=''>Could not get VMComputer record</p>"
      ],
      "text/plain": [
       "<IPython.core.display.HTML object>"
      ]
     },
     "metadata": {},
     "output_type": "display_data"
    },
    {
     "data": {
      "text/html": [
       "<h2>Azure Sentinel alerts related to the IP.</h2>"
      ],
      "text/plain": [
       "<IPython.core.display.HTML object>"
      ]
     },
     "metadata": {},
     "output_type": "display_data"
    },
    {
     "data": {
      "text/html": [
       "Use `nblt.browse_alerts()` to retrieve a list of alerts."
      ],
      "text/plain": [
       "<IPython.core.display.HTML object>"
      ]
     },
     "metadata": {},
     "output_type": "display_data"
    },
    {
     "data": {
      "text/html": [
       "<p style=''>Getting data from RelatedAlerts...</p>"
      ],
      "text/plain": [
       "<IPython.core.display.HTML object>"
      ]
     },
     "metadata": {},
     "output_type": "display_data"
    },
    {
     "data": {
      "text/html": [
       "<p style=''>No events from related alerts found.</p>"
      ],
      "text/plain": [
       "<IPython.core.display.HTML object>"
      ]
     },
     "metadata": {},
     "output_type": "display_data"
    },
    {
     "data": {
      "text/html": [
       "<h2>Public IP data (GeoIP, ThreatIntel, Passive DNS, VPS membership)</h2>"
      ],
      "text/plain": [
       "<IPython.core.display.HTML object>"
      ]
     },
     "metadata": {},
     "output_type": "display_data"
    },
    {
     "data": {
      "text/html": [
       "<p style=''>Whois data retrieved</p>"
      ],
      "text/plain": [
       "<IPython.core.display.HTML object>"
      ]
     },
     "metadata": {},
     "output_type": "display_data"
    },
    {
     "data": {
      "text/html": [
       "<p style=''>WhoIs data</p>"
      ],
      "text/plain": [
       "<IPython.core.display.HTML object>"
      ]
     },
     "metadata": {},
     "output_type": "display_data"
    },
    {
     "data": {
      "text/html": [
       "<div>\n",
       "<style scoped>\n",
       "    .dataframe tbody tr th:only-of-type {\n",
       "        vertical-align: middle;\n",
       "    }\n",
       "\n",
       "    .dataframe tbody tr th {\n",
       "        vertical-align: top;\n",
       "    }\n",
       "\n",
       "    .dataframe thead th {\n",
       "        text-align: right;\n",
       "    }\n",
       "</style>\n",
       "<table border=\"1\" class=\"dataframe\">\n",
       "  <thead>\n",
       "    <tr style=\"text-align: right;\">\n",
       "      <th></th>\n",
       "      <th>nir</th>\n",
       "      <th>asn_registry</th>\n",
       "      <th>asn</th>\n",
       "      <th>asn_cidr</th>\n",
       "      <th>asn_country_code</th>\n",
       "      <th>asn_date</th>\n",
       "      <th>asn_description</th>\n",
       "      <th>query</th>\n",
       "      <th>nets</th>\n",
       "      <th>raw</th>\n",
       "      <th>referral</th>\n",
       "      <th>raw_referral</th>\n",
       "    </tr>\n",
       "  </thead>\n",
       "  <tbody>\n",
       "    <tr>\n",
       "      <th>0</th>\n",
       "      <td>None</td>\n",
       "      <td>arin</td>\n",
       "      <td>8075</td>\n",
       "      <td>40.80.0.0/12</td>\n",
       "      <td>US</td>\n",
       "      <td>2015-02-23</td>\n",
       "      <td>MICROSOFT-CORP-MSN-AS-BLOCK, US</td>\n",
       "      <td>40.91.208.65</td>\n",
       "      <td>{'cidr': '40.125.0.0/17, 40.124.0.0/16, 40.74.0.0/15, 40.96.0.0/12, 40.112.0.0/13, 40.80.0.0/12,...</td>\n",
       "      <td>None</td>\n",
       "      <td>None</td>\n",
       "      <td>None</td>\n",
       "    </tr>\n",
       "  </tbody>\n",
       "</table>\n",
       "</div>"
      ],
      "text/plain": [
       "    nir asn_registry   asn      asn_cidr asn_country_code    asn_date  \\\n",
       "0  None         arin  8075  40.80.0.0/12               US  2015-02-23   \n",
       "\n",
       "                   asn_description         query  \\\n",
       "0  MICROSOFT-CORP-MSN-AS-BLOCK, US  40.91.208.65   \n",
       "\n",
       "                                                                                                  nets  \\\n",
       "0  {'cidr': '40.125.0.0/17, 40.124.0.0/16, 40.74.0.0/15, 40.96.0.0/12, 40.112.0.0/13, 40.80.0.0/12,...   \n",
       "\n",
       "    raw referral raw_referral  \n",
       "0  None     None         None  "
      ]
     },
     "metadata": {},
     "output_type": "display_data"
    },
    {
     "data": {
      "text/html": [
       "<p style=''>GeoLocation data retrieved</p>"
      ],
      "text/plain": [
       "<IPython.core.display.HTML object>"
      ]
     },
     "metadata": {},
     "output_type": "display_data"
    },
    {
     "data": {
      "text/html": [
       "<h3>geolocation</h3>{&nbsp;'AdditionalData':&nbsp;{},<br>&nbsp;&nbsp;'City':&nbsp;'Amsterdam',<br>&nbsp;&nbsp;'CountryCode':&nbsp;'NL',<br>&nbsp;&nbsp;'CountryName':&nbsp;'Netherlands',<br>&nbsp;&nbsp;'Latitude':&nbsp;52.3716,<br>&nbsp;&nbsp;'Longitude':&nbsp;4.8883,<br>&nbsp;&nbsp;'State':&nbsp;'North&nbsp;Holland',<br>&nbsp;&nbsp;'Type':&nbsp;'geolocation',<br>&nbsp;&nbsp;'edges':&nbsp;set()}"
      ],
      "text/plain": [
       "GeoLocation(CountryCode=NL, CountryName=Netherlands, State=North Holland, City=Amsterdam, Lo...)"
      ]
     },
     "metadata": {},
     "output_type": "display_data"
    },
    {
     "data": {
      "text/html": [
       "<p style=''>Getting data from Threat Intel...</p>"
      ],
      "text/plain": [
       "<IPython.core.display.HTML object>"
      ]
     },
     "metadata": {},
     "output_type": "display_data"
    },
    {
     "data": {
      "text/html": [
       "<p style=''>1 TI result(s) of severity 'warning' or above found.</p>"
      ],
      "text/plain": [
       "<IPython.core.display.HTML object>"
      ]
     },
     "metadata": {},
     "output_type": "display_data"
    },
    {
     "data": {
      "text/html": [
       "<div>\n",
       "<style scoped>\n",
       "    .dataframe tbody tr th:only-of-type {\n",
       "        vertical-align: middle;\n",
       "    }\n",
       "\n",
       "    .dataframe tbody tr th {\n",
       "        vertical-align: top;\n",
       "    }\n",
       "\n",
       "    .dataframe thead th {\n",
       "        text-align: right;\n",
       "    }\n",
       "</style>\n",
       "<table border=\"1\" class=\"dataframe\">\n",
       "  <thead>\n",
       "    <tr style=\"text-align: right;\">\n",
       "      <th></th>\n",
       "      <th>Ioc</th>\n",
       "      <th>IocType</th>\n",
       "      <th>QuerySubtype</th>\n",
       "      <th>Provider</th>\n",
       "      <th>Result</th>\n",
       "      <th>Severity</th>\n",
       "      <th>Details</th>\n",
       "      <th>RawResult</th>\n",
       "      <th>Reference</th>\n",
       "      <th>Status</th>\n",
       "    </tr>\n",
       "  </thead>\n",
       "  <tbody>\n",
       "    <tr>\n",
       "      <th>OTX</th>\n",
       "      <td>40.91.208.65</td>\n",
       "      <td>ipv4</td>\n",
       "      <td>None</td>\n",
       "      <td>OTX</td>\n",
       "      <td>True</td>\n",
       "      <td>information</td>\n",
       "      <td>{'pulse_count': 0, 'sections_available': ['general', 'geo', 'reputation', 'url_list', 'passive_d...</td>\n",
       "      <td>{'whois': 'http://whois.domaintools.com/40.91.208.65', 'reputation': 0, 'indicator': '40.91.208....</td>\n",
       "      <td>https://otx.alienvault.com/api/v1/indicators/IPv4/40.91.208.65/general</td>\n",
       "      <td>0</td>\n",
       "    </tr>\n",
       "    <tr>\n",
       "      <th>OPR</th>\n",
       "      <td>40.91.208.65</td>\n",
       "      <td>ipv4</td>\n",
       "      <td>None</td>\n",
       "      <td>OPR</td>\n",
       "      <td>False</td>\n",
       "      <td>information</td>\n",
       "      <td>IoC type ipv4 not supported.</td>\n",
       "      <td>None</td>\n",
       "      <td>None</td>\n",
       "      <td>1</td>\n",
       "    </tr>\n",
       "    <tr>\n",
       "      <th>Tor</th>\n",
       "      <td>40.91.208.65</td>\n",
       "      <td>ipv4</td>\n",
       "      <td>None</td>\n",
       "      <td>Tor</td>\n",
       "      <td>True</td>\n",
       "      <td>information</td>\n",
       "      <td>Not found.</td>\n",
       "      <td>None</td>\n",
       "      <td>https://check.torproject.org/exit-addresses</td>\n",
       "      <td>0</td>\n",
       "    </tr>\n",
       "    <tr>\n",
       "      <th>VirusTotal</th>\n",
       "      <td>40.91.208.65</td>\n",
       "      <td>ipv4</td>\n",
       "      <td>None</td>\n",
       "      <td>VirusTotal</td>\n",
       "      <td>True</td>\n",
       "      <td>information</td>\n",
       "      <td>{'verbose_msg': 'IP address in dataset', 'response_code': 1, 'detected_urls': [], 'positives': 0...</td>\n",
       "      <td>{'asn': 8075, 'undetected_urls': [['http://40.91.208.65/', '8ad4f4804ca454981931832fa2652d82ec97...</td>\n",
       "      <td>https://www.virustotal.com/vtapi/v2/ip-address/report</td>\n",
       "      <td>0</td>\n",
       "    </tr>\n",
       "    <tr>\n",
       "      <th>XForce</th>\n",
       "      <td>40.91.208.65</td>\n",
       "      <td>ipv4</td>\n",
       "      <td>None</td>\n",
       "      <td>XForce</td>\n",
       "      <td>True</td>\n",
       "      <td>warning</td>\n",
       "      <td>{'score': 1, 'cats': {}, 'categoryDescriptions': {}, 'reason': 'Regional Internet Registry', 're...</td>\n",
       "      <td>{'ip': '40.91.208.65', 'history': [{'created': '2012-03-22T07:26:00.000Z', 'reason': 'Regional I...</td>\n",
       "      <td>https://api.xforce.ibmcloud.com/ipr/40.91.208.65</td>\n",
       "      <td>0</td>\n",
       "    </tr>\n",
       "  </tbody>\n",
       "</table>\n",
       "</div>"
      ],
      "text/plain": [
       "                     Ioc IocType QuerySubtype    Provider Result     Severity  \\\n",
       "OTX         40.91.208.65    ipv4         None         OTX   True  information   \n",
       "OPR         40.91.208.65    ipv4         None         OPR  False  information   \n",
       "Tor         40.91.208.65    ipv4         None         Tor   True  information   \n",
       "VirusTotal  40.91.208.65    ipv4         None  VirusTotal   True  information   \n",
       "XForce      40.91.208.65    ipv4         None      XForce   True      warning   \n",
       "\n",
       "                                                                                                        Details  \\\n",
       "OTX         {'pulse_count': 0, 'sections_available': ['general', 'geo', 'reputation', 'url_list', 'passive_d...   \n",
       "OPR                                                                                IoC type ipv4 not supported.   \n",
       "Tor                                                                                                  Not found.   \n",
       "VirusTotal  {'verbose_msg': 'IP address in dataset', 'response_code': 1, 'detected_urls': [], 'positives': 0...   \n",
       "XForce      {'score': 1, 'cats': {}, 'categoryDescriptions': {}, 'reason': 'Regional Internet Registry', 're...   \n",
       "\n",
       "                                                                                                      RawResult  \\\n",
       "OTX         {'whois': 'http://whois.domaintools.com/40.91.208.65', 'reputation': 0, 'indicator': '40.91.208....   \n",
       "OPR                                                                                                        None   \n",
       "Tor                                                                                                        None   \n",
       "VirusTotal  {'asn': 8075, 'undetected_urls': [['http://40.91.208.65/', '8ad4f4804ca454981931832fa2652d82ec97...   \n",
       "XForce      {'ip': '40.91.208.65', 'history': [{'created': '2012-03-22T07:26:00.000Z', 'reason': 'Regional I...   \n",
       "\n",
       "                                                                         Reference  \\\n",
       "OTX         https://otx.alienvault.com/api/v1/indicators/IPv4/40.91.208.65/general   \n",
       "OPR                                                                           None   \n",
       "Tor                                    https://check.torproject.org/exit-addresses   \n",
       "VirusTotal                   https://www.virustotal.com/vtapi/v2/ip-address/report   \n",
       "XForce                            https://api.xforce.ibmcloud.com/ipr/40.91.208.65   \n",
       "\n",
       "           Status  \n",
       "OTX             0  \n",
       "OPR             1  \n",
       "Tor             0  \n",
       "VirusTotal      0  \n",
       "XForce          0  "
      ]
     },
     "metadata": {},
     "output_type": "display_data"
    },
    {
     "data": {
      "text/html": [
       "<p style=''>Use `browse_ti_results()` to view details.</p>"
      ],
      "text/plain": [
       "<IPython.core.display.HTML object>"
      ]
     },
     "metadata": {},
     "output_type": "display_data"
    },
    {
     "data": {
      "text/html": [
       "<p style=''>Getting data from Passive DNS...</p>"
      ],
      "text/plain": [
       "<IPython.core.display.HTML object>"
      ]
     },
     "metadata": {},
     "output_type": "display_data"
    },
    {
     "data": {
      "text/html": [
       "<p style=''>1 Passive DNS results found.</p>"
      ],
      "text/plain": [
       "<IPython.core.display.HTML object>"
      ]
     },
     "metadata": {},
     "output_type": "display_data"
    },
    {
     "data": {
      "text/html": [
       "<p style=''>No match for known VPS network</p>"
      ],
      "text/plain": [
       "<IPython.core.display.HTML object>"
      ]
     },
     "metadata": {},
     "output_type": "display_data"
    },
    {
     "data": {
      "text/html": [
       "<p style=''><h3>View the returned results object for more details.</h3></p>"
      ],
      "text/plain": [
       "<IPython.core.display.HTML object>"
      ]
     },
     "metadata": {},
     "output_type": "display_data"
    },
    {
     "data": {
      "text/html": [
       "<p style=''>Additional methods for this class:<br>browse_alerts - 'Return alert browser/viewer.'<br>browse_ti_results - 'Display Threat intel results.'<br>display_alert_timeline - 'Display the alert timeline.'<br>netflow_by_direction - 'Display netflows grouped by direction.'<br>netflow_by_protocol - 'Display netflows grouped by protocol.'<br>netflow_total_by_protocol - 'Display netflows grouped by protocol.'<br>run - 'Return XYZ summary.'</p>"
      ],
      "text/plain": [
       "<IPython.core.display.HTML object>"
      ]
     },
     "metadata": {},
     "output_type": "display_data"
    }
   ],
   "source": [
    "IpAddress = entities.IpAddress\n",
    "ip_result = IpAddress.nblt.ip_address_summary(\"40.91.208.65\")"
   ]
  },
  {
   "cell_type": "code",
   "execution_count": null,
   "metadata": {},
   "outputs": [],
   "source": [
    "ip_result.browse_ti_results()"
   ]
  },
  {
   "cell_type": "markdown",
   "metadata": {},
   "source": [
    "---\n",
    "\n",
    "# More information:\n",
    "\n",
    "## Notebooklets and Pivots\n",
    "[Notebooklets](https://msticnb.readthedocs.io/en/latest/)\n",
    "\n",
    "[Pivot functions](https://msticpy.readthedocs.io/en/latest/data_analysis/PivotFunctions.html)\n",
    "\n",
    "## Notebook/MSTICPy configuration\n",
    "[MSTICPy Configuration guide](https://msticpy.readthedocs.io/en/latest/getting_started/msticpyconfig.html)\n",
    "\n",
    "[ConfigureNotebookEnvironment notebook](https://github.com/Azure/Azure-Sentinel-Notebooks/blob/master/ConfiguringNotebookEnvironment.ipynb)"
   ]
  }
 ],
 "metadata": {
  "celltoolbar": "Attachments",
  "hide_input": false,
  "kernelspec": {
   "display_name": "Python 3.6.7 64-bit ('condadev': conda)",
   "language": "python",
   "name": "python36764bitcondadevconda6cccf545f08246a1a5c093078bc87e5f"
  },
  "language_info": {
   "codemirror_mode": {
    "name": "ipython",
    "version": 3
   },
   "file_extension": ".py",
   "mimetype": "text/x-python",
   "name": "python",
   "nbconvert_exporter": "python",
   "pygments_lexer": "ipython3",
   "version": "3.7.9"
  },
  "latex_envs": {
   "LaTeX_envs_menu_present": true,
   "autoclose": false,
   "autocomplete": true,
   "bibliofile": "biblio.bib",
   "cite_by": "apalike",
   "current_citInitial": 1,
   "eqLabelWithNumbers": true,
   "eqNumInitial": 1,
   "hotkeys": {
    "equation": "Ctrl-E",
    "itemize": "Ctrl-I"
   },
   "labels_anchors": false,
   "latex_user_defs": false,
   "report_style_numbering": false,
   "user_envs_cfg": false
  },
  "toc": {
   "base_numbering": 1,
   "nav_menu": {},
   "number_sections": true,
   "sideBar": true,
   "skip_h1_title": true,
   "title_cell": "Contents",
   "title_sidebar": "Contents",
   "toc_cell": true,
   "toc_position": {
    "height": "calc(100% - 180px)",
    "left": "10px",
    "top": "150px",
    "width": "512px"
   },
   "toc_section_display": true,
   "toc_window_display": true
  },
  "varInspector": {
   "cols": {
    "lenName": 16,
    "lenType": 16,
    "lenVar": 40
   },
   "kernels_config": {
    "python": {
     "delete_cmd_postfix": "",
     "delete_cmd_prefix": "del ",
     "library": "var_list.py",
     "varRefreshCmd": "print(var_dic_list())"
    },
    "r": {
     "delete_cmd_postfix": ") ",
     "delete_cmd_prefix": "rm(",
     "library": "var_list.r",
     "varRefreshCmd": "cat(var_dic_list()) "
    }
   },
   "types_to_exclude": [
    "module",
    "function",
    "builtin_function_or_method",
    "instance",
    "_Feature"
   ],
   "window_display": false
  },
  "widgets": {
   "application/vnd.jupyter.widget-state+json": {
    "state": {
     "01472ca23ec6462cad1d00c0b38b72d8": {
      "model_module": "@jupyter-widgets/base",
      "model_module_version": "1.2.0",
      "model_name": "LayoutModel",
      "state": {}
     },
     "01793da84cf747498526cf1afa62a23b": {
      "model_module": "@jupyter-widgets/controls",
      "model_module_version": "1.5.0",
      "model_name": "DescriptionStyleModel",
      "state": {
       "description_width": ""
      }
     },
     "046bb5c0da754b3aa0b6afdd2f2fe551": {
      "model_module": "@jupyter-widgets/base",
      "model_module_version": "1.2.0",
      "model_name": "LayoutModel",
      "state": {
       "width": "80%"
      }
     },
     "058ce7a6741d44a08548c3db19004418": {
      "model_module": "@jupyter-widgets/controls",
      "model_module_version": "1.5.0",
      "model_name": "VBoxModel",
      "state": {
       "children": [
        "IPY_MODEL_f92cdd059e6640e0b6249e630b957474",
        "IPY_MODEL_355be49caa9c4ad5a3e1c59e6f919755"
       ],
       "layout": "IPY_MODEL_eed4ac41064049b598c7b499359ddd71"
      }
     },
     "05dbda0ce0b24b2e88bdd1bef2f148c8": {
      "model_module": "@jupyter-widgets/base",
      "model_module_version": "1.2.0",
      "model_name": "LayoutModel",
      "state": {}
     },
     "077df566f6504c3991fe58883a7930b4": {
      "model_module": "@jupyter-widgets/controls",
      "model_module_version": "1.5.0",
      "model_name": "SelectModel",
      "state": {
       "_options_labels": [
        "2021-03-26 18:11:02+00:00 - OfficeActivityManager - MailItemsAccessed - 40.91.208.65",
        "2021-03-26 19:11:10+00:00 - OfficeActivityManager - MailItemsAccessed - 40.91.208.65",
        "2021-03-26 20:11:18+00:00 - OfficeActivityManager - MailItemsAccessed - 40.91.208.65",
        "2021-03-26 21:11:26+00:00 - OfficeActivityManager - MailItemsAccessed - 40.91.208.65",
        "2021-03-26 22:02:38+00:00 - OfficeActivityManager - MailItemsAccessed - 40.91.208.65",
        "2021-03-26 23:02:47+00:00 - OfficeActivityManager - MailItemsAccessed - 40.91.208.65",
        "2021-03-26 23:32:50+00:00 - OfficeActivityManager - MailItemsAccessed - 40.91.208.65",
        "2021-03-27 00:33:02+00:00 - OfficeActivityManager - MailItemsAccessed - 40.91.208.65",
        "2021-03-27 01:33:16+00:00 - OfficeActivityManager - MailItemsAccessed - 40.91.208.65",
        "2021-03-27 02:20:13+00:00 - OfficeActivityManager - MailItemsAccessed - 52.154.174.161",
        "2021-03-27 02:20:19+00:00 - OfficeActivityManager - MailItemsAccessed - 52.154.174.163",
        "2021-03-27 02:20:30+00:00 - OfficeActivityManager - MailItemsAccessed - 52.154.174.163",
        "2021-03-27 02:20:39+00:00 - OfficeActivityManager - MailItemsAccessed - 52.154.174.161",
        "2021-03-27 02:20:44+00:00 - OfficeActivityManager - MailItemsAccessed - 52.154.174.161",
        "2021-03-27 02:20:46+00:00 - OfficeActivityManager - MailItemsAccessed - 52.154.174.163",
        "2021-03-27 02:33:26+00:00 - OfficeActivityManager - MailItemsAccessed - 40.91.208.65",
        "2021-03-27 03:33:34+00:00 - OfficeActivityManager - MailItemsAccessed - 40.91.208.65",
        "2021-03-27 04:26:16+00:00 - OfficeActivityManager - MailItemsAccessed - 2603:10b6:5:3b4:cafe::7f",
        "2021-03-27 04:33:44+00:00 - OfficeActivityManager - MailItemsAccessed - 40.91.208.65",
        "2021-03-27 05:03:49+00:00 - OfficeActivityManager - MailItemsAccessed - 40.91.208.65",
        "2021-03-27 06:03:56+00:00 - OfficeActivityManager - MailItemsAccessed - 40.91.208.65",
        "2021-03-27 06:23:58+00:00 - OfficeActivityManager - MailItemsAccessed - 2603:10b6:4:45::24",
        "2021-03-27 07:04:04+00:00 - OfficeActivityManager - MailItemsAccessed - 40.91.208.65",
        "2021-03-27 08:04:22+00:00 - OfficeActivityManager - MailItemsAccessed - 40.91.208.65",
        "2021-03-27 08:07:11+00:00 - OfficeActivityManager - Send - 104.209.247.23",
        "2021-03-27 08:07:23+00:00 - OfficeActivityManager - MailItemsAccessed - 40.91.208.65",
        "2021-03-27 09:07:29+00:00 - OfficeActivityManager - MailItemsAccessed - 40.91.208.65",
        "2021-03-27 10:07:36+00:00 - OfficeActivityManager - MailItemsAccessed - 40.91.208.65",
        "2021-03-27 11:07:44+00:00 - OfficeActivityManager - MailItemsAccessed - 40.91.208.65",
        "2021-03-27 12:07:50+00:00 - OfficeActivityManager - MailItemsAccessed - 40.91.208.65",
        "2021-03-27 13:07:57+00:00 - OfficeActivityManager - MailItemsAccessed - 40.91.208.65",
        "2021-03-27 14:08:04+00:00 - OfficeActivityManager - MailItemsAccessed - 40.91.208.65",
        "2021-03-27 15:08:14+00:00 - OfficeActivityManager - MailItemsAccessed - 40.91.208.65",
        "2021-03-27 15:44:07+00:00 - OfficeActivityManager - FileAccessed - 157.56.162.53",
        "2021-03-27 15:44:08+00:00 - OfficeActivityManager - FileAccessed - 40.83.137.154",
        "2021-03-27 15:44:10+00:00 - OfficeActivityManager - FileModified - 40.83.137.154",
        "2021-03-27 15:44:11+00:00 - OfficeActivityManager - FileAccessed - 157.56.162.53",
        "2021-03-27 15:44:12+00:00 - OfficeActivityManager - FileAccessed - 40.83.137.154",
        "2021-03-27 15:44:14+00:00 - OfficeActivityManager - FileModified - 40.83.137.154",
        "2021-03-27 15:44:15+00:00 - OfficeActivityManager - FileAccessed - 157.56.162.53",
        "2021-03-27 15:44:15+00:00 - OfficeActivityManager - FileAccessed - 40.83.137.154",
        "2021-03-27 15:44:17+00:00 - OfficeActivityManager - FileModified - 40.83.137.154",
        "2021-03-27 15:44:18+00:00 - OfficeActivityManager - FileAccessed - 157.56.162.53",
        "2021-03-27 15:44:18+00:00 - OfficeActivityManager - FileAccessed - 40.83.137.154",
        "2021-03-27 15:44:21+00:00 - OfficeActivityManager - FileModified - 40.83.137.154",
        "2021-03-27 15:44:21+00:00 - OfficeActivityManager - FileAccessed - 40.83.137.154",
        "2021-03-27 15:44:21+00:00 - OfficeActivityManager - FileAccessed - 157.56.162.53",
        "2021-03-27 15:44:24+00:00 - OfficeActivityManager - FileModified - 40.83.137.154",
        "2021-03-27 15:44:25+00:00 - OfficeActivityManager - FileAccessed - 157.56.162.53",
        "2021-03-27 15:44:25+00:00 - OfficeActivityManager - FileAccessed - 40.83.137.154",
        "2021-03-27 15:44:27+00:00 - OfficeActivityManager - FileModified - 40.83.137.154",
        "2021-03-27 15:44:28+00:00 - OfficeActivityManager - FileAccessed - 40.83.137.154",
        "2021-03-27 15:44:28+00:00 - OfficeActivityManager - FileAccessed - 157.56.162.53",
        "2021-03-27 15:44:30+00:00 - OfficeActivityManager - FileModified - 40.83.137.154",
        "2021-03-27 15:44:30+00:00 - OfficeActivityManager - FileAccessed - 157.56.162.53",
        "2021-03-27 15:44:34+00:00 - OfficeActivityManager - FileAccessed - 157.56.162.53",
        "2021-03-27 15:44:34+00:00 - OfficeActivityManager - FileModified - 40.83.137.154",
        "2021-03-27 15:44:37+00:00 - OfficeActivityManager - FileAccessed - 157.56.162.53",
        "2021-03-27 15:44:37+00:00 - OfficeActivityManager - FileModified - 40.83.137.154",
        "2021-03-27 15:44:37+00:00 - OfficeActivityManager - FileAccessed - 40.83.137.154",
        "2021-03-27 15:44:39+00:00 - OfficeActivityManager - FileAccessed - 157.56.162.53",
        "2021-03-27 15:44:39+00:00 - OfficeActivityManager - FileModified - 40.83.137.154",
        "2021-03-27 15:44:41+00:00 - OfficeActivityManager - FileModified - 40.83.137.154",
        "2021-03-27 15:44:42+00:00 - OfficeActivityManager - FileAccessed - 157.56.162.53",
        "2021-03-27 15:44:42+00:00 - OfficeActivityManager - FileAccessed - 40.83.137.154",
        "2021-03-27 15:44:45+00:00 - OfficeActivityManager - FileModified - 40.83.137.154",
        "2021-03-27 15:44:46+00:00 - OfficeActivityManager - FileAccessed - 157.56.162.53",
        "2021-03-27 15:44:47+00:00 - OfficeActivityManager - FileAccessed - 40.83.137.154",
        "2021-03-27 15:44:51+00:00 - OfficeActivityManager - FileAccessed - 157.56.162.53",
        "2021-03-27 15:44:51+00:00 - OfficeActivityManager - FileAccessed - 40.83.137.154",
        "2021-03-27 15:44:51+00:00 - OfficeActivityManager - FileModified - 40.83.137.154",
        "2021-03-27 15:44:53+00:00 - OfficeActivityManager - FileModified - 40.83.137.154",
        "2021-03-27 15:44:54+00:00 - OfficeActivityManager - FileAccessed - 157.56.162.53",
        "2021-03-27 15:44:56+00:00 - OfficeActivityManager - FileModified - 40.83.137.154",
        "2021-03-27 15:44:56+00:00 - OfficeActivityManager - FileAccessed - 157.56.162.53",
        "2021-03-27 15:44:57+00:00 - OfficeActivityManager - FileAccessed - 40.83.137.154",
        "2021-03-27 15:44:59+00:00 - OfficeActivityManager - FileAccessed - 157.56.162.53",
        "2021-03-27 15:44:59+00:00 - OfficeActivityManager - FileModified - 40.83.137.154",
        "2021-03-27 15:45:02+00:00 - OfficeActivityManager - FileAccessed - 40.83.137.154",
        "2021-03-27 15:45:05+00:00 - OfficeActivityManager - FileModified - 40.83.137.154",
        "2021-03-27 15:45:06+00:00 - OfficeActivityManager - FileAccessed - 157.56.162.53",
        "2021-03-27 15:45:10+00:00 - OfficeActivityManager - FileModified - 40.83.137.154",
        "2021-03-27 15:45:10+00:00 - OfficeActivityManager - FileAccessed - 157.56.162.53",
        "2021-03-27 15:45:14+00:00 - OfficeActivityManager - FileModified - 40.83.137.154",
        "2021-03-27 15:45:15+00:00 - OfficeActivityManager - FileAccessed - 157.56.162.53",
        "2021-03-27 15:45:17+00:00 - OfficeActivityManager - FileModified - 40.83.137.154",
        "2021-03-27 15:45:18+00:00 - OfficeActivityManager - FileAccessed - 157.56.162.53",
        "2021-03-27 15:45:18+00:00 - OfficeActivityManager - FileAccessed - 40.83.137.154",
        "2021-03-27 15:45:20+00:00 - OfficeActivityManager - FileAccessed - 157.56.162.53",
        "2021-03-27 15:45:20+00:00 - OfficeActivityManager - FileModified - 40.83.137.154",
        "2021-03-27 15:45:23+00:00 - OfficeActivityManager - FileAccessed - 157.56.162.53",
        "2021-03-27 15:45:23+00:00 - OfficeActivityManager - FileModified - 40.83.137.154",
        "2021-03-27 15:45:25+00:00 - OfficeActivityManager - FileModified - 40.83.137.154",
        "2021-03-27 15:45:26+00:00 - OfficeActivityManager - FileAccessed - 157.56.162.53",
        "2021-03-27 15:45:28+00:00 - OfficeActivityManager - FileModified - 40.83.137.154",
        "2021-03-27 15:45:28+00:00 - OfficeActivityManager - FileAccessed - 157.56.162.53",
        "2021-03-27 15:45:31+00:00 - OfficeActivityManager - FileModified - 40.83.137.154",
        "2021-03-27 16:08:23+00:00 - OfficeActivityManager - MailItemsAccessed - 40.91.208.65",
        "2021-03-27 17:08:26+00:00 - OfficeActivityManager - MailItemsAccessed - 40.91.208.65",
        "2021-03-27 18:08:33+00:00 - OfficeActivityManager - MailItemsAccessed - 40.91.208.65",
        "2021-03-27 19:08:41+00:00 - OfficeActivityManager - MailItemsAccessed - 40.91.208.65",
        "2021-03-27 20:08:48+00:00 - OfficeActivityManager - MailItemsAccessed - 40.91.208.65",
        "2021-03-27 21:08:55+00:00 - OfficeActivityManager - MailItemsAccessed - 40.91.208.65",
        "2021-03-27 22:09:03+00:00 - OfficeActivityManager - MailItemsAccessed - 40.91.208.65",
        "2021-03-27 23:09:13+00:00 - OfficeActivityManager - MailItemsAccessed - 40.91.208.65",
        "2021-03-28 00:09:19+00:00 - OfficeActivityManager - MailItemsAccessed - 40.91.208.65",
        "2021-03-28 01:09:29+00:00 - OfficeActivityManager - MailItemsAccessed - 40.91.208.65",
        "2021-03-28 02:01:55+00:00 - OfficeActivityManager - MailItemsAccessed - 52.154.174.161",
        "2021-03-28 02:02:01+00:00 - OfficeActivityManager - MailItemsAccessed - 52.154.174.163",
        "2021-03-28 02:02:07+00:00 - OfficeActivityManager - MailItemsAccessed - 52.154.174.161",
        "2021-03-28 02:02:08+00:00 - OfficeActivityManager - MailItemsAccessed - 52.154.174.167",
        "2021-03-28 02:09:37+00:00 - OfficeActivityManager - MailItemsAccessed - 40.91.208.65",
        "2021-03-28 03:09:45+00:00 - OfficeActivityManager - MailItemsAccessed - 40.91.208.65",
        "2021-03-28 04:09:52+00:00 - OfficeActivityManager - MailItemsAccessed - 40.91.208.65",
        "2021-03-28 05:09:59+00:00 - OfficeActivityManager - MailItemsAccessed - 40.91.208.65",
        "2021-03-28 06:10:10+00:00 - OfficeActivityManager - MailItemsAccessed - 40.91.208.65",
        "2021-03-28 07:07:54+00:00 - OfficeActivityManager - MailItemsAccessed - 2603:10b6:5:38::21",
        "2021-03-28 07:10:18+00:00 - OfficeActivityManager - MailItemsAccessed - 40.91.208.65",
        "2021-03-28 08:07:12+00:00 - OfficeActivityManager - Send - 104.209.247.23",
        "2021-03-28 08:07:25+00:00 - OfficeActivityManager - MailItemsAccessed - 40.91.208.65",
        "2021-03-28 08:38:55+00:00 - OfficeActivityManager - MailItemsAccessed - 2603:10b6:5:1b3:cafe::24",
        "2021-03-28 09:07:32+00:00 - OfficeActivityManager - MailItemsAccessed - 40.91.208.65",
        "2021-03-28 10:07:37+00:00 - OfficeActivityManager - MailItemsAccessed - 40.91.208.65",
        "2021-03-28 10:16:38+00:00 - OfficeActivityManager - MailItemsAccessed - 40.91.208.65",
        "2021-03-28 11:16:46+00:00 - OfficeActivityManager - MailItemsAccessed - 40.91.208.65",
        "2021-03-28 12:06:18+00:00 - OfficeActivityManager - MailItemsAccessed - 2603:10b6:5:296:cafe::6c",
        "2021-03-28 12:06:21+00:00 - OfficeActivityManager - MailItemsAccessed - 2603:10b6:4:2:cafe::9e",
        "2021-03-28 12:06:21+00:00 - OfficeActivityManager - MailItemsAccessed - 2603:10b6:4:2:cafe::31",
        "2021-03-28 12:06:22+00:00 - OfficeActivityManager - MailItemsAccessed - 2603:10b6:5:1b4:cafe::dd",
        "2021-03-28 12:16:54+00:00 - OfficeActivityManager - MailItemsAccessed - 40.91.208.65",
        "2021-03-28 13:17:02+00:00 - OfficeActivityManager - MailItemsAccessed - 40.91.208.65",
        "2021-03-28 14:17:11+00:00 - OfficeActivityManager - MailItemsAccessed - 40.91.208.65",
        "2021-03-28 15:17:18+00:00 - OfficeActivityManager - MailItemsAccessed - 40.91.208.65",
        "2021-03-28 15:44:06+00:00 - OfficeActivityManager - FileAccessed - 157.56.162.53",
        "2021-03-28 15:44:07+00:00 - OfficeActivityManager - FileAccessed - 40.83.137.154",
        "2021-03-28 15:44:10+00:00 - OfficeActivityManager - FileModified - 40.83.137.154",
        "2021-03-28 15:44:11+00:00 - OfficeActivityManager - FileAccessed - 40.83.137.154",
        "2021-03-28 15:44:11+00:00 - OfficeActivityManager - FileAccessed - 157.56.162.53",
        "2021-03-28 15:44:14+00:00 - OfficeActivityManager - FileModified - 40.83.137.154",
        "2021-03-28 15:44:16+00:00 - OfficeActivityManager - FileAccessed - 157.56.162.53",
        "2021-03-28 15:44:16+00:00 - OfficeActivityManager - FileAccessed - 40.83.137.154",
        "2021-03-28 15:44:19+00:00 - OfficeActivityManager - FileModified - 40.83.137.154",
        "2021-03-28 15:44:19+00:00 - OfficeActivityManager - FileAccessed - 157.56.162.53",
        "2021-03-28 15:44:19+00:00 - OfficeActivityManager - FileAccessed - 40.83.137.154",
        "2021-03-28 15:44:22+00:00 - OfficeActivityManager - FileAccessed - 40.83.137.154",
        "2021-03-28 15:44:22+00:00 - OfficeActivityManager - FileAccessed - 157.56.162.53",
        "2021-03-28 15:44:22+00:00 - OfficeActivityManager - FileModified - 40.83.137.154",
        "2021-03-28 15:44:24+00:00 - OfficeActivityManager - FileModified - 40.83.137.154",
        "2021-03-28 15:44:25+00:00 - OfficeActivityManager - FileAccessed - 157.56.162.53",
        "2021-03-28 15:44:26+00:00 - OfficeActivityManager - FileAccessed - 40.83.137.154",
        "2021-03-28 15:44:28+00:00 - OfficeActivityManager - FileAccessed - 40.83.137.154",
        "2021-03-28 15:44:28+00:00 - OfficeActivityManager - FileModified - 40.83.137.154",
        "2021-03-28 15:44:28+00:00 - OfficeActivityManager - FileAccessed - 157.56.162.53",
        "2021-03-28 15:44:30+00:00 - OfficeActivityManager - FileModified - 40.83.137.154",
        "2021-03-28 15:44:31+00:00 - OfficeActivityManager - FileAccessed - 157.56.162.53",
        "2021-03-28 15:44:36+00:00 - OfficeActivityManager - FileAccessed - 157.56.162.53",
        "2021-03-28 15:44:36+00:00 - OfficeActivityManager - FileModified - 40.83.137.154",
        "2021-03-28 15:44:38+00:00 - OfficeActivityManager - FileModified - 40.83.137.154",
        "2021-03-28 15:44:39+00:00 - OfficeActivityManager - FileAccessed - 40.83.137.154",
        "2021-03-28 15:44:39+00:00 - OfficeActivityManager - FileAccessed - 157.56.162.53",
        "2021-03-28 15:44:41+00:00 - OfficeActivityManager - FileAccessed - 157.56.162.53",
        "2021-03-28 15:44:41+00:00 - OfficeActivityManager - FileModified - 40.83.137.154",
        "2021-03-28 15:44:43+00:00 - OfficeActivityManager - FileModified - 40.83.137.154",
        "2021-03-28 15:44:44+00:00 - OfficeActivityManager - FileAccessed - 40.83.137.154",
        "2021-03-28 15:44:44+00:00 - OfficeActivityManager - FileAccessed - 157.56.162.53",
        "2021-03-28 15:44:48+00:00 - OfficeActivityManager - FileModified - 40.83.137.154",
        "2021-03-28 15:44:49+00:00 - OfficeActivityManager - FileAccessed - 157.56.162.53",
        "2021-03-28 15:44:51+00:00 - OfficeActivityManager - FileAccessed - 40.83.137.154",
        "2021-03-28 15:44:55+00:00 - OfficeActivityManager - FileModified - 40.83.137.154",
        "2021-03-28 15:44:56+00:00 - OfficeActivityManager - FileAccessed - 157.56.162.53",
        "2021-03-28 15:44:57+00:00 - OfficeActivityManager - FileAccessed - 40.83.137.154",
        "2021-03-28 15:44:59+00:00 - OfficeActivityManager - FileAccessed - 157.56.162.53",
        "2021-03-28 15:44:59+00:00 - OfficeActivityManager - FileModified - 40.83.137.154",
        "2021-03-28 15:45:02+00:00 - OfficeActivityManager - FileModified - 40.83.137.154",
        "2021-03-28 15:45:03+00:00 - OfficeActivityManager - FileAccessed - 157.56.162.53",
        "2021-03-28 15:45:03+00:00 - OfficeActivityManager - FileAccessed - 40.83.137.154",
        "2021-03-28 15:45:05+00:00 - OfficeActivityManager - FileModified - 40.83.137.154",
        "2021-03-28 15:45:06+00:00 - OfficeActivityManager - FileAccessed - 157.56.162.53",
        "2021-03-28 15:45:07+00:00 - OfficeActivityManager - FileAccessed - 40.83.137.154",
        "2021-03-28 15:45:10+00:00 - OfficeActivityManager - FileAccessed - 157.56.162.53",
        "2021-03-28 15:45:10+00:00 - OfficeActivityManager - FileModified - 40.83.137.154",
        "2021-03-28 15:45:14+00:00 - OfficeActivityManager - FileAccessed - 157.56.162.53",
        "2021-03-28 15:45:14+00:00 - OfficeActivityManager - FileModified - 40.83.137.154",
        "2021-03-28 15:45:18+00:00 - OfficeActivityManager - FileAccessed - 157.56.162.53",
        "2021-03-28 15:45:18+00:00 - OfficeActivityManager - FileModified - 40.83.137.154",
        "2021-03-28 15:45:21+00:00 - OfficeActivityManager - FileAccessed - 157.56.162.53",
        "2021-03-28 15:45:21+00:00 - OfficeActivityManager - FileModified - 40.83.137.154",
        "2021-03-28 15:45:22+00:00 - OfficeActivityManager - FileAccessed - 40.83.137.154",
        "2021-03-28 15:45:24+00:00 - OfficeActivityManager - FileAccessed - 157.56.162.53",
        "2021-03-28 15:45:24+00:00 - OfficeActivityManager - FileModified - 40.83.137.154",
        "2021-03-28 15:45:27+00:00 - OfficeActivityManager - FileModified - 40.83.137.154",
        "2021-03-28 15:45:27+00:00 - OfficeActivityManager - FileAccessed - 157.56.162.53",
        "2021-03-28 15:45:29+00:00 - OfficeActivityManager - FileModified - 40.83.137.154",
        "2021-03-28 15:45:30+00:00 - OfficeActivityManager - FileAccessed - 157.56.162.53",
        "2021-03-28 15:45:32+00:00 - OfficeActivityManager - FileModified - 40.83.137.154",
        "2021-03-28 15:45:32+00:00 - OfficeActivityManager - FileAccessed - 157.56.162.53",
        "2021-03-28 15:45:34+00:00 - OfficeActivityManager - FileModified - 40.83.137.154",
        "2021-03-28 16:17:23+00:00 - OfficeActivityManager - MailItemsAccessed - 40.91.208.65",
        "2021-03-28 17:17:31+00:00 - OfficeActivityManager - MailItemsAccessed - 40.91.208.65",
        "2021-03-28 18:17:38+00:00 - OfficeActivityManager - MailItemsAccessed - 40.91.208.65",
        "2021-03-28 19:17:44+00:00 - OfficeActivityManager - MailItemsAccessed - 40.91.208.65",
        "2021-03-28 20:17:52+00:00 - OfficeActivityManager - MailItemsAccessed - 40.91.208.65",
        "2021-03-28 21:17:58+00:00 - OfficeActivityManager - MailItemsAccessed - 40.91.208.65",
        "2021-03-28 22:18:06+00:00 - OfficeActivityManager - MailItemsAccessed - 40.91.208.65",
        "2021-03-28 23:18:12+00:00 - OfficeActivityManager - MailItemsAccessed - 40.91.208.65",
        "2021-03-29 00:18:20+00:00 - OfficeActivityManager - MailItemsAccessed - 40.91.208.65",
        "2021-03-29 01:18:31+00:00 - OfficeActivityManager - MailItemsAccessed - 40.91.208.65",
        "2021-03-29 02:18:40+00:00 - OfficeActivityManager - MailItemsAccessed - 40.91.208.65",
        "2021-03-29 03:18:48+00:00 - OfficeActivityManager - MailItemsAccessed - 40.91.208.65",
        "2021-03-29 03:21:31+00:00 - OfficeActivityManager - MailItemsAccessed - 2603:10b6:5:256::23",
        "2021-03-29 04:18:59+00:00 - OfficeActivityManager - MailItemsAccessed - 40.91.208.65",
        "2021-03-29 04:39:06+00:00 - OfficeActivityManager - MailItemsAccessed - 2603:10b6:5:3ad:cafe::c4",
        "2021-03-29 05:19:07+00:00 - OfficeActivityManager - MailItemsAccessed - 40.91.208.65",
        "2021-03-29 06:19:26+00:00 - OfficeActivityManager - MailItemsAccessed - 40.91.208.65",
        "2021-03-29 07:19:51+00:00 - OfficeActivityManager - MailItemsAccessed - 40.91.208.65",
        "2021-03-29 08:07:11+00:00 - OfficeActivityManager - Send - 104.209.247.23",
        "2021-03-29 08:08:38+00:00 - OfficeActivityManager - MailItemsAccessed - 40.91.208.65",
        "2021-03-29 09:09:40+00:00 - OfficeActivityManager - MailItemsAccessed - 40.91.208.65",
        "2021-03-29 10:09:49+00:00 - OfficeActivityManager - MailItemsAccessed - 40.91.208.65",
        "2021-03-29 11:09:57+00:00 - OfficeActivityManager - MailItemsAccessed - 40.91.208.65",
        "2021-03-29 11:43:03+00:00 - OfficeActivityManager - MailItemsAccessed - 40.91.208.65",
        "2021-03-29 12:16:03+00:00 - OfficeActivityManager - MailItemsAccessed - 40.91.208.65",
        "2021-03-29 13:16:09+00:00 - OfficeActivityManager - MailItemsAccessed - 40.91.208.65",
        "2021-03-29 13:16:48.519000+00:00 - Azure AD - Sign-in activity - 109.88.218.99",
        "2021-03-29 13:17:15.132000+00:00 - Azure AD - Sign-in activity - 109.88.218.99",
        "2021-03-29 13:17:16.426000+00:00 - Azure AD - Sign-in activity - 109.88.218.99",
        "2021-03-29 13:17:17.507000+00:00 - Azure AD - Sign-in activity - 109.88.218.99",
        "2021-03-29 14:04:17.744000+00:00 - Azure AD - Sign-in activity - 109.88.218.99",
        "2021-03-29 14:10:13+00:00 - OfficeActivityManager - MailItemsAccessed - 40.91.208.65",
        "2021-03-29 14:58:37+00:00 - OfficeActivityManager - MailItemsAccessed - 2603:10b6:5:40:cafe::8f",
        "2021-03-29 15:01:32+00:00 - OfficeActivityManager - MailItemsAccessed - 2603:10b6:5:40:cafe::17",
        "2021-03-29 15:01:32+00:00 - OfficeActivityManager - MailItemsAccessed - 2603:10b6:5:40:cafe::2e",
        "2021-03-29 15:01:33+00:00 - OfficeActivityManager - MailItemsAccessed - 2603:10b6:5:336:cafe::94",
        "2021-03-29 15:10:19+00:00 - OfficeActivityManager - MailItemsAccessed - 40.91.208.65",
        "2021-03-29 15:44:07+00:00 - OfficeActivityManager - FileAccessed - 157.56.162.53",
        "2021-03-29 15:44:09+00:00 - OfficeActivityManager - FileAccessed - 40.83.137.154",
        "2021-03-29 15:44:14+00:00 - OfficeActivityManager - FileModified - 40.83.137.154",
        "2021-03-29 15:44:15+00:00 - OfficeActivityManager - FileAccessed - 157.56.162.53",
        "2021-03-29 15:44:15+00:00 - OfficeActivityManager - FileAccessed - 40.83.137.154",
        "2021-03-29 15:44:18+00:00 - OfficeActivityManager - FileModified - 40.83.137.154",
        "2021-03-29 15:44:18+00:00 - OfficeActivityManager - FileAccessed - 157.56.162.53",
        "2021-03-29 15:44:19+00:00 - OfficeActivityManager - FileAccessed - 40.83.137.154",
        "2021-03-29 15:44:21+00:00 - OfficeActivityManager - FileModified - 40.83.137.154",
        "2021-03-29 15:44:21+00:00 - OfficeActivityManager - FileAccessed - 157.56.162.53",
        "2021-03-29 15:44:22+00:00 - OfficeActivityManager - FileAccessed - 40.83.137.154",
        "2021-03-29 15:44:24+00:00 - OfficeActivityManager - FileModified - 40.83.137.154",
        "2021-03-29 15:44:25+00:00 - OfficeActivityManager - FileAccessed - 40.83.137.154",
        "2021-03-29 15:44:25+00:00 - OfficeActivityManager - FileAccessed - 157.56.162.53",
        "2021-03-29 15:44:27+00:00 - OfficeActivityManager - FileModified - 40.83.137.154",
        "2021-03-29 15:44:28+00:00 - OfficeActivityManager - FileAccessed - 40.83.137.154",
        "2021-03-29 15:44:28+00:00 - OfficeActivityManager - FileAccessed - 157.56.162.53",
        "2021-03-29 15:44:31+00:00 - OfficeActivityManager - FileAccessed - 40.83.137.154",
        "2021-03-29 15:44:31+00:00 - OfficeActivityManager - FileModified - 40.83.137.154",
        "2021-03-29 15:44:31+00:00 - OfficeActivityManager - FileAccessed - 157.56.162.53",
        "2021-03-29 15:44:34+00:00 - OfficeActivityManager - FileModified - 40.83.137.154",
        "2021-03-29 15:44:34+00:00 - OfficeActivityManager - FileAccessed - 157.56.162.53",
        "2021-03-29 15:44:37+00:00 - OfficeActivityManager - FileModified - 40.83.137.154",
        "2021-03-29 15:44:37+00:00 - OfficeActivityManager - FileAccessed - 157.56.162.53",
        "2021-03-29 15:44:39+00:00 - OfficeActivityManager - FileModified - 40.83.137.154",
        "2021-03-29 15:44:40+00:00 - OfficeActivityManager - FileAccessed - 157.56.162.53",
        "2021-03-29 15:44:40+00:00 - OfficeActivityManager - FileAccessed - 40.83.137.154",
        "2021-03-29 15:44:42+00:00 - OfficeActivityManager - FileModified - 40.83.137.154",
        "2021-03-29 15:44:42+00:00 - OfficeActivityManager - FileAccessed - 157.56.162.53",
        "2021-03-29 15:44:45+00:00 - OfficeActivityManager - FileAccessed - 157.56.162.53",
        "2021-03-29 15:44:45+00:00 - OfficeActivityManager - FileModified - 40.83.137.154",
        "2021-03-29 15:44:46+00:00 - OfficeActivityManager - FileAccessed - 40.83.137.154",
        "2021-03-29 15:44:48+00:00 - OfficeActivityManager - FileModified - 40.83.137.154",
        "2021-03-29 15:44:49+00:00 - OfficeActivityManager - FileAccessed - 157.56.162.53",
        "2021-03-29 15:44:50+00:00 - OfficeActivityManager - FileAccessed - 40.83.137.154",
        "2021-03-29 15:44:54+00:00 - OfficeActivityManager - FileModified - 40.83.137.154",
        "2021-03-29 15:44:55+00:00 - OfficeActivityManager - FileAccessed - 40.83.137.154",
        "2021-03-29 15:44:55+00:00 - OfficeActivityManager - FileAccessed - 157.56.162.53",
        "2021-03-29 15:44:57+00:00 - OfficeActivityManager - FileModified - 40.83.137.154",
        "2021-03-29 15:44:58+00:00 - OfficeActivityManager - FileAccessed - 157.56.162.53",
        "2021-03-29 15:45:00+00:00 - OfficeActivityManager - FileAccessed - 157.56.162.53",
        "2021-03-29 15:45:00+00:00 - OfficeActivityManager - FileModified - 40.83.137.154",
        "2021-03-29 15:45:01+00:00 - OfficeActivityManager - FileAccessed - 40.83.137.154",
        "2021-03-29 15:45:03+00:00 - OfficeActivityManager - FileAccessed - 157.56.162.53",
        "2021-03-29 15:45:03+00:00 - OfficeActivityManager - FileModified - 40.83.137.154",
        "2021-03-29 15:45:04+00:00 - OfficeActivityManager - FileAccessed - 40.83.137.154",
        "2021-03-29 15:45:07+00:00 - OfficeActivityManager - FileModified - 40.83.137.154",
        "2021-03-29 15:45:08+00:00 - OfficeActivityManager - FileAccessed - 157.56.162.53",
        "2021-03-29 15:45:14+00:00 - OfficeActivityManager - FileModified - 40.83.137.154",
        "2021-03-29 15:45:15+00:00 - OfficeActivityManager - FileAccessed - 157.56.162.53",
        "2021-03-29 15:45:17+00:00 - OfficeActivityManager - FileModified - 40.83.137.154",
        "2021-03-29 15:45:18+00:00 - OfficeActivityManager - FileAccessed - 157.56.162.53",
        "2021-03-29 15:45:21+00:00 - OfficeActivityManager - FileModified - 40.83.137.154",
        "2021-03-29 15:45:22+00:00 - OfficeActivityManager - FileAccessed - 157.56.162.53",
        "2021-03-29 15:45:22+00:00 - OfficeActivityManager - FileAccessed - 40.83.137.154",
        "2021-03-29 15:45:24+00:00 - OfficeActivityManager - FileModified - 40.83.137.154",
        "2021-03-29 15:45:25+00:00 - OfficeActivityManager - FileAccessed - 157.56.162.53",
        "2021-03-29 15:45:27+00:00 - OfficeActivityManager - FileModified - 40.83.137.154",
        "2021-03-29 15:45:28+00:00 - OfficeActivityManager - FileAccessed - 157.56.162.53",
        "2021-03-29 15:45:30+00:00 - OfficeActivityManager - FileModified - 40.83.137.154",
        "2021-03-29 15:45:30+00:00 - OfficeActivityManager - FileAccessed - 157.56.162.53",
        "2021-03-29 15:45:32+00:00 - OfficeActivityManager - FileAccessed - 157.56.162.53",
        "2021-03-29 15:45:32+00:00 - OfficeActivityManager - FileModified - 40.83.137.154",
        "2021-03-29 15:45:35+00:00 - OfficeActivityManager - FileModified - 40.83.137.154",
        "2021-03-29 16:10:24+00:00 - OfficeActivityManager - MailItemsAccessed - 40.91.208.65",
        "2021-03-29 17:10:31+00:00 - OfficeActivityManager - MailItemsAccessed - 40.91.208.65",
        "2021-03-29 18:10:41+00:00 - OfficeActivityManager - MailItemsAccessed - 40.91.208.65",
        "2021-03-29 18:49:12.110000+00:00 - Azure AD - Sign-in activity - 109.88.218.99",
        "2021-03-29 19:11:06+00:00 - OfficeActivityManager - MailItemsAccessed - 40.91.208.65",
        "2021-03-29 20:11:26+00:00 - OfficeActivityManager - MailItemsAccessed - 40.91.208.65",
        "2021-03-29 21:11:42+00:00 - OfficeActivityManager - MailItemsAccessed - 40.91.208.65",
        "2021-03-29 22:12:02+00:00 - OfficeActivityManager - MailItemsAccessed - 40.91.208.65"
       ],
       "description": "Select an item",
       "index": 48,
       "layout": "IPY_MODEL_8714408dee8440e59f71fafc83f84a53",
       "style": "IPY_MODEL_ab296afae8f64ceeb2fd9f32aa30e581"
      }
     },
     "09851b01e6074d1a94603af98a918df8": {
      "model_module": "@jupyter-widgets/controls",
      "model_module_version": "1.5.0",
      "model_name": "DescriptionStyleModel",
      "state": {
       "description_width": ""
      }
     },
     "0ad1b67b31094b75ab193a03b7094edb": {
      "model_module": "@jupyter-widgets/controls",
      "model_module_version": "1.5.0",
      "model_name": "DescriptionStyleModel",
      "state": {
       "description_width": "initial"
      }
     },
     "0dedbd35d86d455bb2436cdf3d0b401d": {
      "model_module": "@jupyter-widgets/controls",
      "model_module_version": "1.5.0",
      "model_name": "DescriptionStyleModel",
      "state": {
       "description_width": "initial"
      }
     },
     "0e400bf29ea24ed29503e57cc1894e18": {
      "model_module": "@jupyter-widgets/controls",
      "model_module_version": "1.5.0",
      "model_name": "IntRangeSliderModel",
      "state": {
       "_model_name": "IntRangeSliderModel",
       "_view_name": "IntRangeSliderView",
       "description": "Time Range (hour):",
       "layout": "IPY_MODEL_da523b29f4444712833cb09f67097db4",
       "max": 4,
       "min": -96,
       "style": "IPY_MODEL_c219aab918b34aa48372204344c8df44",
       "value": [
        -24,
        0
       ]
      }
     },
     "0fcd949298c54ac08060aacb00d9b4c8": {
      "model_module": "@jupyter-widgets/base",
      "model_module_version": "1.2.0",
      "model_name": "LayoutModel",
      "state": {
       "width": "50%"
      }
     },
     "0ffa420a86cc41c49e19d483420da6c2": {
      "model_module": "@jupyter-widgets/controls",
      "model_module_version": "1.5.0",
      "model_name": "SelectModel",
      "state": {
       "_options_labels": [
        "seb@seccxp.ninja   AzureActiveDirectory (Last activity: 2021-04-01 13:59:12.319000+00:00)",
        "seb@seccxp.ninja   Office365 (Last activity: 2021-04-01 15:45:40+00:00)"
       ],
       "description": "Select an account to explore",
       "index": 0,
       "layout": "IPY_MODEL_4591423ebb03450c8c565201e3243a4c",
       "style": "IPY_MODEL_4a84adf5aca045a4aee2927e5967086e"
      }
     },
     "10115da587144b7294c0d7b690b6c8cd": {
      "model_module": "@jupyter-widgets/controls",
      "model_module_version": "1.5.0",
      "model_name": "DescriptionStyleModel",
      "state": {
       "description_width": "initial"
      }
     },
     "10e811c445fb47679ff57f060ab37727": {
      "model_module": "@jupyter-widgets/controls",
      "model_module_version": "1.5.0",
      "model_name": "TextModel",
      "state": {
       "description": "Filter:",
       "layout": "IPY_MODEL_3b46139ae6c24b6ba7012fe24251d97e",
       "style": "IPY_MODEL_63434d516a4442569224427c29486afb"
      }
     },
     "1218ed8355fa40a8a2b7e74387c75dff": {
      "model_module": "@jupyter-widgets/base",
      "model_module_version": "1.2.0",
      "model_name": "LayoutModel",
      "state": {}
     },
     "134110ff5d264e3b8bf7631666297e82": {
      "model_module": "@jupyter-widgets/controls",
      "model_module_version": "1.5.0",
      "model_name": "HTMLModel",
      "state": {
       "layout": "IPY_MODEL_f6d61cf18c0f4397ae7a003dc54ec01d",
       "style": "IPY_MODEL_c6ef3f6a37f646c0bec5691de2086a94",
       "value": "<h4>Set time range for pivot functions.</h4>"
      }
     },
     "191c8d1026c8487c9d555f113489e05e": {
      "model_module": "@jupyter-widgets/controls",
      "model_module_version": "1.5.0",
      "model_name": "HBoxModel",
      "state": {
       "children": [
        "IPY_MODEL_3b71b0c92bb34a3caa64a23d6c569a03",
        "IPY_MODEL_f2916b92d56541a3be9031fc7ed93b85"
       ],
       "layout": "IPY_MODEL_2f5bbd0c6de14642bfc85c7b4c86ee39"
      }
     },
     "196be8c6ea6047d49bb5ff185d4726a7": {
      "model_module": "@jupyter-widgets/controls",
      "model_module_version": "1.5.0",
      "model_name": "HBoxModel",
      "state": {
       "children": [
        "IPY_MODEL_86e4950530d24972aafcb912add60d9c",
        "IPY_MODEL_ecff0f19c3c54d08a25d82a14ca802bb"
       ],
       "layout": "IPY_MODEL_234f231bbb194aafa4cd688603e51213"
      }
     },
     "1a815f38ca754e1ea6f971c970a0c670": {
      "model_module": "@jupyter-widgets/base",
      "model_module_version": "1.2.0",
      "model_name": "LayoutModel",
      "state": {}
     },
     "1c6e4b1d96b44242bef420aa429191c0": {
      "model_module": "@jupyter-widgets/controls",
      "model_module_version": "1.5.0",
      "model_name": "TextModel",
      "state": {
       "description": "Filter:",
       "layout": "IPY_MODEL_35d01a2e82c14240b8c6e92334858e3a",
       "style": "IPY_MODEL_73f33952b55f4dd5aaf7dd072d3d2315"
      }
     },
     "20ed4f096cbe435b9774db5fdfbfb6b6": {
      "model_module": "@jupyter-widgets/controls",
      "model_module_version": "1.5.0",
      "model_name": "DescriptionStyleModel",
      "state": {
       "description_width": "initial"
      }
     },
     "2187044f4ca34cfeb726ec9d0436c6c3": {
      "model_module": "@jupyter-widgets/controls",
      "model_module_version": "1.5.0",
      "model_name": "TextModel",
      "state": {
       "description": "Filter:",
       "layout": "IPY_MODEL_6422ba687d694747bc6c16b917fcdb9b",
       "style": "IPY_MODEL_5d92ccdeff3a48e48834c204a00fc114"
      }
     },
     "234f231bbb194aafa4cd688603e51213": {
      "model_module": "@jupyter-widgets/base",
      "model_module_version": "1.2.0",
      "model_name": "LayoutModel",
      "state": {}
     },
     "267d0ba84ce7453c9cfe570836efa0bc": {
      "model_module": "@jupyter-widgets/controls",
      "model_module_version": "1.5.0",
      "model_name": "HBoxModel",
      "state": {
       "children": [
        "IPY_MODEL_bbffb8c855b34c3090f755f14da423a0",
        "IPY_MODEL_d12d74378f6e4f63ad2cadc378a84e68"
       ],
       "layout": "IPY_MODEL_657f263f3a3f4914af523b78b626eeac"
      }
     },
     "27864be26030485dbb099614d05303e1": {
      "model_module": "@jupyter-widgets/controls",
      "model_module_version": "1.5.0",
      "model_name": "DescriptionStyleModel",
      "state": {
       "description_width": "initial"
      }
     },
     "2858d5afff7b4472924806a46a620030": {
      "model_module": "@jupyter-widgets/controls",
      "model_module_version": "1.5.0",
      "model_name": "DescriptionStyleModel",
      "state": {
       "description_width": "initial"
      }
     },
     "2c439acc08364e65bf6ce6b4c4683bdb": {
      "model_module": "@jupyter-widgets/controls",
      "model_module_version": "1.5.0",
      "model_name": "VBoxModel",
      "state": {
       "children": [
        "IPY_MODEL_875a2593ccfa4b0ab888514624625aef",
        "IPY_MODEL_5027693fd0c04e6eb04294af284d7fa7"
       ],
       "layout": "IPY_MODEL_b3b273463d184222a240aa27a0a7ba6d"
      }
     },
     "2e2e762fa06e499e80b98d8c1531b8f5": {
      "model_module": "@jupyter-widgets/base",
      "model_module_version": "1.2.0",
      "model_name": "LayoutModel",
      "state": {
       "width": "95%"
      }
     },
     "2eed3cc91838411bac9b6e6511eef804": {
      "model_module": "@jupyter-widgets/controls",
      "model_module_version": "1.5.0",
      "model_name": "DescriptionStyleModel",
      "state": {
       "description_width": "initial"
      }
     },
     "2f5bbd0c6de14642bfc85c7b4c86ee39": {
      "model_module": "@jupyter-widgets/base",
      "model_module_version": "1.2.0",
      "model_name": "LayoutModel",
      "state": {}
     },
     "2f7c5c8970b549de9bac48091c3f42f6": {
      "model_module": "@jupyter-widgets/controls",
      "model_module_version": "1.5.0",
      "model_name": "DescriptionStyleModel",
      "state": {
       "description_width": "initial"
      }
     },
     "302a08a1bc6a497587f63fc9be37ae84": {
      "model_module": "@jupyter-widgets/controls",
      "model_module_version": "1.5.0",
      "model_name": "VBoxModel",
      "state": {
       "children": [
        "IPY_MODEL_134110ff5d264e3b8bf7631666297e82",
        "IPY_MODEL_196be8c6ea6047d49bb5ff185d4726a7",
        "IPY_MODEL_d4792d9d49814b1289af5c9f12f839a0"
       ],
       "layout": "IPY_MODEL_50043bbd62ba4c98b115148a969741f4"
      }
     },
     "30610c4cbf8047e8860e12d370cff42c": {
      "model_module": "@jupyter-widgets/controls",
      "model_module_version": "1.5.0",
      "model_name": "VBoxModel",
      "state": {
       "children": [
        "IPY_MODEL_3c7cdcd48c3c49739dc79c758b61421b",
        "IPY_MODEL_58737ba0a9fa48efa2e68fffe29790dd",
        "IPY_MODEL_3edaa3be08334ba69b5b23a1734334f2"
       ],
       "layout": "IPY_MODEL_35187be0abed4408997b74272e8b9203"
      }
     },
     "3372dd97edfb4247a2f1aef52c1ac5e9": {
      "model_module": "@jupyter-widgets/controls",
      "model_module_version": "1.5.0",
      "model_name": "HBoxModel",
      "state": {
       "children": [
        "IPY_MODEL_5e30a405343548c2a2b7bca14f335c91",
        "IPY_MODEL_ec538125a011422f91da03e90d66bf0b"
       ],
       "layout": "IPY_MODEL_6b99b48cd33b4e9885a76bf3c098141c"
      }
     },
     "34dde92c1f2d42a5a2cef320a4481972": {
      "model_module": "@jupyter-widgets/base",
      "model_module_version": "1.2.0",
      "model_name": "LayoutModel",
      "state": {
       "height": "200px",
       "width": "100%"
      }
     },
     "35187be0abed4408997b74272e8b9203": {
      "model_module": "@jupyter-widgets/base",
      "model_module_version": "1.2.0",
      "model_name": "LayoutModel",
      "state": {}
     },
     "355be49caa9c4ad5a3e1c59e6f919755": {
      "model_module": "@jupyter-widgets/controls",
      "model_module_version": "1.5.0",
      "model_name": "SelectModel",
      "state": {
       "_options_labels": [
        "40.91.208.65                             type: ipv4        (sev: warning)  providers: ['XForce']"
       ],
       "description": "Select an item",
       "index": 0,
       "layout": "IPY_MODEL_5a19c3f562b9455e860a3c7363c7b8fa",
       "style": "IPY_MODEL_c9f855e94d444d1580fb1687af71eb4d"
      }
     },
     "35d01a2e82c14240b8c6e92334858e3a": {
      "model_module": "@jupyter-widgets/base",
      "model_module_version": "1.2.0",
      "model_name": "LayoutModel",
      "state": {}
     },
     "3a0011e3381d4014a949636b31ee48e5": {
      "model_module": "@jupyter-widgets/controls",
      "model_module_version": "1.5.0",
      "model_name": "DescriptionStyleModel",
      "state": {
       "description_width": "initial"
      }
     },
     "3b46139ae6c24b6ba7012fe24251d97e": {
      "model_module": "@jupyter-widgets/base",
      "model_module_version": "1.2.0",
      "model_name": "LayoutModel",
      "state": {}
     },
     "3b71b0c92bb34a3caa64a23d6c569a03": {
      "model_module": "@jupyter-widgets/controls",
      "model_module_version": "1.5.0",
      "model_name": "DatePickerModel",
      "state": {
       "description": "Origin Date",
       "disabled": false,
       "layout": "IPY_MODEL_ed6cb86d51714d48a7afd49f69a18ceb",
       "style": "IPY_MODEL_09851b01e6074d1a94603af98a918df8",
       "value": {
        "date": 29,
        "month": 2,
        "year": 2021
       }
      }
     },
     "3c58f16231db42d0bf28402572cac32d": {
      "model_module": "@jupyter-widgets/controls",
      "model_module_version": "1.5.0",
      "model_name": "HTMLModel",
      "state": {
       "layout": "IPY_MODEL_fccdc36024694ba3a424953bf10b01e4",
       "style": "IPY_MODEL_bfd0cb615a64435b86ade958f5795d1f",
       "value": "<h4>Set time range for pivot functions.</h4>"
      }
     },
     "3c7cdcd48c3c49739dc79c758b61421b": {
      "model_module": "@jupyter-widgets/controls",
      "model_module_version": "1.5.0",
      "model_name": "IntRangeSliderModel",
      "state": {
       "_model_name": "IntRangeSliderModel",
       "_view_name": "IntRangeSliderView",
       "description": "Time Range (day):",
       "layout": "IPY_MODEL_cb7fc51d6eac4e3ebd9f8cf2f4296195",
       "max": 4,
       "min": -4,
       "style": "IPY_MODEL_96796ab376db4fa5bebed0c636fca38c",
       "value": [
        -1,
        0
       ]
      }
     },
     "3edaa3be08334ba69b5b23a1734334f2": {
      "model_module": "@jupyter-widgets/controls",
      "model_module_version": "1.5.0",
      "model_name": "TextModel",
      "state": {
       "description": "Query end time (UTC) :  ",
       "layout": "IPY_MODEL_c06956d6520d4ed2bf75525c0ebc2e41",
       "style": "IPY_MODEL_f9f3d9d664e04686826e79b4c8a20f39",
       "value": "2021-04-01 15:59:18.058366"
      }
     },
     "3ede8a50af4b44f0b9498c1c08ad06ad": {
      "model_module": "@jupyter-widgets/controls",
      "model_module_version": "1.5.0",
      "model_name": "TextModel",
      "state": {
       "description": "Filter alerts by title:",
       "layout": "IPY_MODEL_7aad91fae98d4f2592860affa922992f",
       "style": "IPY_MODEL_d9389e28d11646a994cad005c0349306"
      }
     },
     "4214d53106e04ae292be8412c58dee85": {
      "model_module": "@jupyter-widgets/controls",
      "model_module_version": "1.5.0",
      "model_name": "TextModel",
      "state": {
       "description": "Query start time (UTC):",
       "layout": "IPY_MODEL_cc559f2a10b140e1b6495e9e4b5aecc3",
       "style": "IPY_MODEL_0dedbd35d86d455bb2436cdf3d0b401d",
       "value": "2021-03-26 18:01:50.125332"
      }
     },
     "4364f701c790466fb4240729faf11b73": {
      "model_module": "@jupyter-widgets/controls",
      "model_module_version": "1.5.0",
      "model_name": "VBoxModel",
      "state": {
       "children": [
        "IPY_MODEL_1c6e4b1d96b44242bef420aa429191c0",
        "IPY_MODEL_61d5fee62d6d40fbaa8863b436af9689"
       ],
       "layout": "IPY_MODEL_7ba4da5bd0b547058be450a07ad8267f"
      }
     },
     "4591423ebb03450c8c565201e3243a4c": {
      "model_module": "@jupyter-widgets/base",
      "model_module_version": "1.2.0",
      "model_name": "LayoutModel",
      "state": {
       "height": "200px",
       "width": "100%"
      }
     },
     "460a1b57e50b43c784aca74c7ee082db": {
      "model_module": "@jupyter-widgets/controls",
      "model_module_version": "1.5.0",
      "model_name": "DescriptionStyleModel",
      "state": {
       "description_width": "initial"
      }
     },
     "46642acc6c044fe3840b84e204ebbfeb": {
      "model_module": "@jupyter-widgets/base",
      "model_module_version": "1.2.0",
      "model_name": "LayoutModel",
      "state": {}
     },
     "47f102f9c52e4b9c9941bd03ecfd0613": {
      "model_module": "@jupyter-widgets/controls",
      "model_module_version": "1.5.0",
      "model_name": "SelectModel",
      "state": {
       "_options_labels": [
        "2021-03-27 03:18:03.073000+00:00 - Azure Security Center unusual storage access - ()  - [id:75e7290f-69e0-fe97-e9a5-e57e5e29b63d]",
        "2021-03-28 07:42:23.490000+00:00 - Azure Security Center unusual storage access - ()  - [id:5ff9cdd5-4185-2f39-0f5f-545b6d4fd725]",
        "2021-03-28 22:18:02.757000+00:00 - Azure Security Center unusual storage access - ()  - [id:eb2c58db-5a90-88fa-29dc-7f860692f3a4]"
       ],
       "description": "Select alert :",
       "index": 0,
       "layout": "IPY_MODEL_ea866644f5e3426ab58f914e275b2119",
       "style": "IPY_MODEL_fadafa374d3441bda50dcc67e9b8ca67"
      }
     },
     "4a84adf5aca045a4aee2927e5967086e": {
      "model_module": "@jupyter-widgets/controls",
      "model_module_version": "1.5.0",
      "model_name": "DescriptionStyleModel",
      "state": {
       "description_width": "initial"
      }
     },
     "4b1ad908834b4a50b57bc97d8faac2bb": {
      "model_module": "@jupyter-widgets/controls",
      "model_module_version": "1.5.0",
      "model_name": "TextModel",
      "state": {
       "description": "Enter the Account name to search for:",
       "layout": "IPY_MODEL_b79918c34ecc4884ba9b3eb850c7add2",
       "style": "IPY_MODEL_f5c1b4916435408ba51794cfb10f21e5",
       "value": "seb"
      }
     },
     "4cced31e00f74649917c29b874ac0006": {
      "model_module": "@jupyter-widgets/base",
      "model_module_version": "1.2.0",
      "model_name": "LayoutModel",
      "state": {}
     },
     "4d1e4768273b4b338df4349ec3f42a95": {
      "model_module": "@jupyter-widgets/controls",
      "model_module_version": "1.5.0",
      "model_name": "VBoxModel",
      "state": {
       "children": [
        "IPY_MODEL_78fd272895b64e988f3d7ef0e264cff1",
        "IPY_MODEL_191c8d1026c8487c9d555f113489e05e",
        "IPY_MODEL_7519f4f9e11d4bae9baf07407857c2b8"
       ],
       "layout": "IPY_MODEL_6f3e7f3c205e4ec99e965d1ce1d3f63a"
      }
     },
     "4f59bc99c6ad4be389946681275689c4": {
      "model_module": "@jupyter-widgets/base",
      "model_module_version": "1.2.0",
      "model_name": "LayoutModel",
      "state": {
       "width": "50%"
      }
     },
     "50043bbd62ba4c98b115148a969741f4": {
      "model_module": "@jupyter-widgets/base",
      "model_module_version": "1.2.0",
      "model_name": "LayoutModel",
      "state": {}
     },
     "50095360f55d45e6af47f5db7fd169bd": {
      "model_module": "@jupyter-widgets/base",
      "model_module_version": "1.2.0",
      "model_name": "LayoutModel",
      "state": {}
     },
     "5027693fd0c04e6eb04294af284d7fa7": {
      "model_module": "@jupyter-widgets/controls",
      "model_module_version": "1.5.0",
      "model_name": "SelectModel",
      "state": {
       "_options_labels": [
        "2021-03-27 03:18:03.073000+00:00 - Azure Security Center unusual storage access - ()  - [id:75e7290f-69e0-fe97-e9a5-e57e5e29b63d]",
        "2021-03-28 07:42:23.490000+00:00 - Azure Security Center unusual storage access - ()  - [id:5ff9cdd5-4185-2f39-0f5f-545b6d4fd725]",
        "2021-03-28 22:18:02.757000+00:00 - Azure Security Center unusual storage access - ()  - [id:eb2c58db-5a90-88fa-29dc-7f860692f3a4]"
       ],
       "description": "Select alert :",
       "index": 1,
       "layout": "IPY_MODEL_54126d4c4feb4c85a919175eba8c0610",
       "style": "IPY_MODEL_fde36d1871774ef1bbd5c03caf062d15"
      }
     },
     "534954cb00e04b7381c14ddfacfcc55b": {
      "model_module": "@jupyter-widgets/controls",
      "model_module_version": "1.5.0",
      "model_name": "TextModel",
      "state": {
       "description": "Filter:",
       "layout": "IPY_MODEL_a6846748e1a8450f9410cddf0b13e916",
       "style": "IPY_MODEL_baf2d15c8ce24e5991f284fc20f14532"
      }
     },
     "54126d4c4feb4c85a919175eba8c0610": {
      "model_module": "@jupyter-widgets/base",
      "model_module_version": "1.2.0",
      "model_name": "LayoutModel",
      "state": {
       "height": "300px",
       "width": "95%"
      }
     },
     "58737ba0a9fa48efa2e68fffe29790dd": {
      "model_module": "@jupyter-widgets/controls",
      "model_module_version": "1.5.0",
      "model_name": "TextModel",
      "state": {
       "description": "Query start time (UTC):",
       "layout": "IPY_MODEL_61301dc8ab7a4938b0382bb6bfc906ac",
       "style": "IPY_MODEL_93d66758ae7c484d848259b78400c8e6",
       "value": "2021-03-31 15:59:18.058366"
      }
     },
     "5a19c3f562b9455e860a3c7363c7b8fa": {
      "model_module": "@jupyter-widgets/base",
      "model_module_version": "1.2.0",
      "model_name": "LayoutModel",
      "state": {
       "height": "300px",
       "width": "50%"
      }
     },
     "5d61092e691345b2bf9411e1ba12f882": {
      "model_module": "@jupyter-widgets/base",
      "model_module_version": "1.2.0",
      "model_name": "LayoutModel",
      "state": {}
     },
     "5d92ccdeff3a48e48834c204a00fc114": {
      "model_module": "@jupyter-widgets/controls",
      "model_module_version": "1.5.0",
      "model_name": "DescriptionStyleModel",
      "state": {
       "description_width": "initial"
      }
     },
     "5e2b5252246c421db2626201c531127f": {
      "model_module": "@jupyter-widgets/controls",
      "model_module_version": "1.5.0",
      "model_name": "VBoxModel",
      "state": {
       "children": [
        "IPY_MODEL_3c58f16231db42d0bf28402572cac32d",
        "IPY_MODEL_267d0ba84ce7453c9cfe570836efa0bc",
        "IPY_MODEL_30610c4cbf8047e8860e12d370cff42c"
       ],
       "layout": "IPY_MODEL_1218ed8355fa40a8a2b7e74387c75dff"
      }
     },
     "5e30a405343548c2a2b7bca14f335c91": {
      "model_module": "@jupyter-widgets/controls",
      "model_module_version": "1.5.0",
      "model_name": "DatePickerModel",
      "state": {
       "description": "Origin Date",
       "disabled": false,
       "layout": "IPY_MODEL_94b8b3859760430dbffdcccbafdb0d7c",
       "style": "IPY_MODEL_a8acc25c7e594707979954778733ca5d",
       "value": {
        "date": 29,
        "month": 2,
        "year": 2021
       }
      }
     },
     "61301dc8ab7a4938b0382bb6bfc906ac": {
      "model_module": "@jupyter-widgets/base",
      "model_module_version": "1.2.0",
      "model_name": "LayoutModel",
      "state": {
       "width": "50%"
      }
     },
     "61d5fee62d6d40fbaa8863b436af9689": {
      "model_module": "@jupyter-widgets/controls",
      "model_module_version": "1.5.0",
      "model_name": "SelectModel",
      "state": {
       "_options_labels": [
        "seb@seccxp.ninja   AzureActiveDirectory (Last activity: 2021-03-29 18:49:12.110000+00:00)",
        "seb@seccxp.ninja   Office365 (Last activity: 2021-03-29 22:12:02+00:00)"
       ],
       "description": "Select an account to explore",
       "index": 0,
       "layout": "IPY_MODEL_759e0e8839fd43ab85492ad4129d482f",
       "style": "IPY_MODEL_10115da587144b7294c0d7b690b6c8cd"
      }
     },
     "62de82cc7fde49a79e97a93f166d6961": {
      "model_module": "@jupyter-widgets/controls",
      "model_module_version": "1.5.0",
      "model_name": "IntRangeSliderModel",
      "state": {
       "_model_name": "IntRangeSliderModel",
       "_view_name": "IntRangeSliderView",
       "description": "Time Range (hour):",
       "layout": "IPY_MODEL_d231ada8db354f179d96ba66b1ec34e1",
       "max": 4,
       "min": -96,
       "style": "IPY_MODEL_7d4e388d49a44a81b89abb34fd895bee",
       "value": [
        -77,
        0
       ]
      }
     },
     "63434d516a4442569224427c29486afb": {
      "model_module": "@jupyter-widgets/controls",
      "model_module_version": "1.5.0",
      "model_name": "DescriptionStyleModel",
      "state": {
       "description_width": "initial"
      }
     },
     "63cb949d1976488eb616eab4fde1048a": {
      "model_module": "@jupyter-widgets/controls",
      "model_module_version": "1.5.0",
      "model_name": "VBoxModel",
      "state": {
       "children": [
        "IPY_MODEL_10e811c445fb47679ff57f060ab37727",
        "IPY_MODEL_f655c96d541f4d108b08024bce96bf3e"
       ],
       "layout": "IPY_MODEL_7f44af0ef22944c0800e5e44a8fd2dde"
      }
     },
     "6422ba687d694747bc6c16b917fcdb9b": {
      "model_module": "@jupyter-widgets/base",
      "model_module_version": "1.2.0",
      "model_name": "LayoutModel",
      "state": {}
     },
     "657f263f3a3f4914af523b78b626eeac": {
      "model_module": "@jupyter-widgets/base",
      "model_module_version": "1.2.0",
      "model_name": "LayoutModel",
      "state": {}
     },
     "66faf6437e5b4faa8246ebd9300466e4": {
      "model_module": "@jupyter-widgets/controls",
      "model_module_version": "1.5.0",
      "model_name": "HTMLModel",
      "state": {
       "layout": "IPY_MODEL_50095360f55d45e6af47f5db7fd169bd",
       "style": "IPY_MODEL_01793da84cf747498526cf1afa62a23b",
       "value": "<h4>Set time range for pivot functions.</h4>"
      }
     },
     "687169b334a64b149f0cecdc67547bb7": {
      "model_module": "@jupyter-widgets/base",
      "model_module_version": "1.2.0",
      "model_name": "LayoutModel",
      "state": {}
     },
     "68c56e63041c4dc48b4a0f42d9c4079c": {
      "model_module": "@jupyter-widgets/base",
      "model_module_version": "1.2.0",
      "model_name": "LayoutModel",
      "state": {}
     },
     "692aad58318e4699afe8bba155d2ac6b": {
      "model_module": "@jupyter-widgets/controls",
      "model_module_version": "1.5.0",
      "model_name": "TextModel",
      "state": {
       "description": "Query end time (UTC) :  ",
       "layout": "IPY_MODEL_0fcd949298c54ac08060aacb00d9b4c8",
       "style": "IPY_MODEL_b74fb573e9b3494d99308548adec3eeb",
       "value": "2021-03-29 23:01:50.125332"
      }
     },
     "6b99b48cd33b4e9885a76bf3c098141c": {
      "model_module": "@jupyter-widgets/base",
      "model_module_version": "1.2.0",
      "model_name": "LayoutModel",
      "state": {}
     },
     "6f3e7f3c205e4ec99e965d1ce1d3f63a": {
      "model_module": "@jupyter-widgets/base",
      "model_module_version": "1.2.0",
      "model_name": "LayoutModel",
      "state": {}
     },
     "7059d7fb54544e08aa9de4b24a077049": {
      "model_module": "@jupyter-widgets/base",
      "model_module_version": "1.2.0",
      "model_name": "LayoutModel",
      "state": {}
     },
     "73f33952b55f4dd5aaf7dd072d3d2315": {
      "model_module": "@jupyter-widgets/controls",
      "model_module_version": "1.5.0",
      "model_name": "DescriptionStyleModel",
      "state": {
       "description_width": "initial"
      }
     },
     "7519f4f9e11d4bae9baf07407857c2b8": {
      "model_module": "@jupyter-widgets/controls",
      "model_module_version": "1.5.0",
      "model_name": "VBoxModel",
      "state": {
       "children": [
        "IPY_MODEL_62de82cc7fde49a79e97a93f166d6961",
        "IPY_MODEL_4214d53106e04ae292be8412c58dee85",
        "IPY_MODEL_800e1e24b60447b68a0eb4c1edd4faee"
       ],
       "layout": "IPY_MODEL_f3ae56fecf484ebb9be2795bf7718640"
      }
     },
     "759e0e8839fd43ab85492ad4129d482f": {
      "model_module": "@jupyter-widgets/base",
      "model_module_version": "1.2.0",
      "model_name": "LayoutModel",
      "state": {
       "height": "200px",
       "width": "100%"
      }
     },
     "76c9671dd2de4001a94e2073a48858a2": {
      "model_module": "@jupyter-widgets/base",
      "model_module_version": "1.2.0",
      "model_name": "LayoutModel",
      "state": {}
     },
     "777f43ecdf1e4a66b0c8e5507caf5bf2": {
      "model_module": "@jupyter-widgets/controls",
      "model_module_version": "1.5.0",
      "model_name": "DescriptionStyleModel",
      "state": {
       "description_width": ""
      }
     },
     "78fd272895b64e988f3d7ef0e264cff1": {
      "model_module": "@jupyter-widgets/controls",
      "model_module_version": "1.5.0",
      "model_name": "HTMLModel",
      "state": {
       "layout": "IPY_MODEL_a093559d38044ee0b8d635c44a7f262f",
       "style": "IPY_MODEL_f72c3e67138a4e0a8baad2d7e90ca77d",
       "value": "<h4>Set time range for pivot functions.</h4>"
      }
     },
     "791f3f2963414df68274b9e36c6e9205": {
      "model_module": "@jupyter-widgets/base",
      "model_module_version": "1.2.0",
      "model_name": "LayoutModel",
      "state": {}
     },
     "7aad91fae98d4f2592860affa922992f": {
      "model_module": "@jupyter-widgets/base",
      "model_module_version": "1.2.0",
      "model_name": "LayoutModel",
      "state": {}
     },
     "7b73b36b51cb4a4f89c2cbe8f26297c3": {
      "model_module": "@jupyter-widgets/base",
      "model_module_version": "1.2.0",
      "model_name": "LayoutModel",
      "state": {}
     },
     "7ba4da5bd0b547058be450a07ad8267f": {
      "model_module": "@jupyter-widgets/base",
      "model_module_version": "1.2.0",
      "model_name": "LayoutModel",
      "state": {}
     },
     "7d4e388d49a44a81b89abb34fd895bee": {
      "model_module": "@jupyter-widgets/controls",
      "model_module_version": "1.5.0",
      "model_name": "SliderStyleModel",
      "state": {
       "description_width": "initial"
      }
     },
     "7e0a0c57afad44dab2813565eb5aa92d": {
      "model_module": "@jupyter-widgets/controls",
      "model_module_version": "1.5.0",
      "model_name": "DescriptionStyleModel",
      "state": {
       "description_width": "initial"
      }
     },
     "7e5d1408d2404372a55a5a5be4a75508": {
      "model_module": "@jupyter-widgets/controls",
      "model_module_version": "1.5.0",
      "model_name": "DescriptionStyleModel",
      "state": {
       "description_width": "initial"
      }
     },
     "7f44af0ef22944c0800e5e44a8fd2dde": {
      "model_module": "@jupyter-widgets/base",
      "model_module_version": "1.2.0",
      "model_name": "LayoutModel",
      "state": {}
     },
     "800e1e24b60447b68a0eb4c1edd4faee": {
      "model_module": "@jupyter-widgets/controls",
      "model_module_version": "1.5.0",
      "model_name": "TextModel",
      "state": {
       "description": "Query end time (UTC) :  ",
       "layout": "IPY_MODEL_b35b7375cb2e4df397b0c75d5acea877",
       "style": "IPY_MODEL_82847793a694450585cf611039978e17",
       "value": "2021-03-29 23:01:50.125332"
      }
     },
     "82847793a694450585cf611039978e17": {
      "model_module": "@jupyter-widgets/controls",
      "model_module_version": "1.5.0",
      "model_name": "DescriptionStyleModel",
      "state": {
       "description_width": "initial"
      }
     },
     "86e4950530d24972aafcb912add60d9c": {
      "model_module": "@jupyter-widgets/controls",
      "model_module_version": "1.5.0",
      "model_name": "DatePickerModel",
      "state": {
       "description": "Origin Date",
       "disabled": false,
       "layout": "IPY_MODEL_5d61092e691345b2bf9411e1ba12f882",
       "style": "IPY_MODEL_a04ddc41ceee4455a4e12b49582509e3",
       "value": {
        "date": 1,
        "month": 3,
        "year": 2021
       }
      }
     },
     "8714408dee8440e59f71fafc83f84a53": {
      "model_module": "@jupyter-widgets/base",
      "model_module_version": "1.2.0",
      "model_name": "LayoutModel",
      "state": {
       "height": "300px",
       "width": "70%"
      }
     },
     "875a2593ccfa4b0ab888514624625aef": {
      "model_module": "@jupyter-widgets/controls",
      "model_module_version": "1.5.0",
      "model_name": "TextModel",
      "state": {
       "description": "Filter alerts by title:",
       "layout": "IPY_MODEL_791f3f2963414df68274b9e36c6e9205",
       "style": "IPY_MODEL_3a0011e3381d4014a949636b31ee48e5"
      }
     },
     "87a650b7b1ec4200a2baaeee132c79c7": {
      "model_module": "@jupyter-widgets/controls",
      "model_module_version": "1.5.0",
      "model_name": "SelectModel",
      "state": {
       "_options_labels": [
        "seb@seccxp.ninja   AzureActiveDirectory (Last activity: 2021-03-29 18:49:12.110000+00:00)",
        "seb@seccxp.ninja   Office365 (Last activity: 2021-03-29 22:12:02+00:00)"
       ],
       "description": "Select an account to explore",
       "index": 1,
       "layout": "IPY_MODEL_a57dad7e07fb456697f83f0f95e2b2bd",
       "style": "IPY_MODEL_2858d5afff7b4472924806a46a620030"
      }
     },
     "88ad5573624b487aa311c71969813ab6": {
      "model_module": "@jupyter-widgets/base",
      "model_module_version": "1.2.0",
      "model_name": "LayoutModel",
      "state": {}
     },
     "8cf25198f1ba4b22af3d80777af4f91e": {
      "model_module": "@jupyter-widgets/controls",
      "model_module_version": "1.5.0",
      "model_name": "DescriptionStyleModel",
      "state": {
       "description_width": "initial"
      }
     },
     "9014e320f37c449a9a4d6d75387e99a2": {
      "model_module": "@jupyter-widgets/controls",
      "model_module_version": "1.5.0",
      "model_name": "VBoxModel",
      "state": {
       "children": [
        "IPY_MODEL_bfba6c88acd04567bc3bcc76bf00f8d6",
        "IPY_MODEL_f271d11e95f44804adea92adab0bdc4d",
        "IPY_MODEL_692aad58318e4699afe8bba155d2ac6b"
       ],
       "layout": "IPY_MODEL_01472ca23ec6462cad1d00c0b38b72d8"
      }
     },
     "925b30eddd2a406696a364acee652dda": {
      "model_module": "@jupyter-widgets/base",
      "model_module_version": "1.2.0",
      "model_name": "LayoutModel",
      "state": {
       "height": "300px",
       "width": "70%"
      }
     },
     "92ab55992c3746ee8f9f487b06421559": {
      "model_module": "@jupyter-widgets/controls",
      "model_module_version": "1.5.0",
      "model_name": "TextModel",
      "state": {
       "description": "Filter:",
       "layout": "IPY_MODEL_f8e46ae3dbbc4ea1996c880823dc2de9",
       "style": "IPY_MODEL_8cf25198f1ba4b22af3d80777af4f91e"
      }
     },
     "93d66758ae7c484d848259b78400c8e6": {
      "model_module": "@jupyter-widgets/controls",
      "model_module_version": "1.5.0",
      "model_name": "DescriptionStyleModel",
      "state": {
       "description_width": "initial"
      }
     },
     "94b8b3859760430dbffdcccbafdb0d7c": {
      "model_module": "@jupyter-widgets/base",
      "model_module_version": "1.2.0",
      "model_name": "LayoutModel",
      "state": {}
     },
     "95185b2e07c647d6885dbf3e40910280": {
      "model_module": "@jupyter-widgets/controls",
      "model_module_version": "1.5.0",
      "model_name": "TextModel",
      "state": {
       "description": "Enter the Account name to search for:",
       "layout": "IPY_MODEL_e7eb96c05ad24d3e817ec2151a329d31",
       "style": "IPY_MODEL_d707805674ac42bf81aae3221739c2f1",
       "value": "seb"
      }
     },
     "96796ab376db4fa5bebed0c636fca38c": {
      "model_module": "@jupyter-widgets/controls",
      "model_module_version": "1.5.0",
      "model_name": "SliderStyleModel",
      "state": {
       "description_width": "initial"
      }
     },
     "9e7b0e14b2e34b4eb83687cc3be78965": {
      "model_module": "@jupyter-widgets/controls",
      "model_module_version": "1.5.0",
      "model_name": "TextModel",
      "state": {
       "description": "Query end time (UTC) :  ",
       "layout": "IPY_MODEL_4f59bc99c6ad4be389946681275689c4",
       "style": "IPY_MODEL_0ad1b67b31094b75ab193a03b7094edb",
       "value": "2021-04-01 15:59:18.058366"
      }
     },
     "a04ddc41ceee4455a4e12b49582509e3": {
      "model_module": "@jupyter-widgets/controls",
      "model_module_version": "1.5.0",
      "model_name": "DescriptionStyleModel",
      "state": {
       "description_width": ""
      }
     },
     "a093559d38044ee0b8d635c44a7f262f": {
      "model_module": "@jupyter-widgets/base",
      "model_module_version": "1.2.0",
      "model_name": "LayoutModel",
      "state": {}
     },
     "a0e59c7fa8e443d38a55834cb3bc83bf": {
      "model_module": "@jupyter-widgets/controls",
      "model_module_version": "1.5.0",
      "model_name": "SelectModel",
      "state": {
       "_options_labels": [
        "2021-03-27 03:18:03.073000+00:00 - Azure Security Center unusual storage access - ()  - [id:75e7290f-69e0-fe97-e9a5-e57e5e29b63d]",
        "2021-03-28 07:42:23.490000+00:00 - Azure Security Center unusual storage access - ()  - [id:5ff9cdd5-4185-2f39-0f5f-545b6d4fd725]",
        "2021-03-28 22:18:02.757000+00:00 - Azure Security Center unusual storage access - ()  - [id:eb2c58db-5a90-88fa-29dc-7f860692f3a4]"
       ],
       "description": "Select alert :",
       "index": 1,
       "layout": "IPY_MODEL_a644f74ca27844cc8c7e706375e6665a",
       "style": "IPY_MODEL_fa747a5c3a974b87b7bb3165172f453a"
      }
     },
     "a57dad7e07fb456697f83f0f95e2b2bd": {
      "model_module": "@jupyter-widgets/base",
      "model_module_version": "1.2.0",
      "model_name": "LayoutModel",
      "state": {
       "height": "200px",
       "width": "100%"
      }
     },
     "a59ce93b3dbf4af595890e253277bf82": {
      "model_module": "@jupyter-widgets/controls",
      "model_module_version": "1.5.0",
      "model_name": "DescriptionStyleModel",
      "state": {
       "description_width": ""
      }
     },
     "a608e3053ddd4a6c99dbbeacd3ddc55b": {
      "model_module": "@jupyter-widgets/base",
      "model_module_version": "1.2.0",
      "model_name": "LayoutModel",
      "state": {}
     },
     "a644f74ca27844cc8c7e706375e6665a": {
      "model_module": "@jupyter-widgets/base",
      "model_module_version": "1.2.0",
      "model_name": "LayoutModel",
      "state": {
       "height": "300px",
       "width": "95%"
      }
     },
     "a64ad9af46cc4d8cb14068345866c36a": {
      "model_module": "@jupyter-widgets/controls",
      "model_module_version": "1.5.0",
      "model_name": "VBoxModel",
      "state": {
       "children": [
        "IPY_MODEL_3ede8a50af4b44f0b9498c1c08ad06ad",
        "IPY_MODEL_a0e59c7fa8e443d38a55834cb3bc83bf"
       ],
       "layout": "IPY_MODEL_687169b334a64b149f0cecdc67547bb7"
      }
     },
     "a6846748e1a8450f9410cddf0b13e916": {
      "model_module": "@jupyter-widgets/base",
      "model_module_version": "1.2.0",
      "model_name": "LayoutModel",
      "state": {}
     },
     "a8acc25c7e594707979954778733ca5d": {
      "model_module": "@jupyter-widgets/controls",
      "model_module_version": "1.5.0",
      "model_name": "DescriptionStyleModel",
      "state": {
       "description_width": ""
      }
     },
     "ab296afae8f64ceeb2fd9f32aa30e581": {
      "model_module": "@jupyter-widgets/controls",
      "model_module_version": "1.5.0",
      "model_name": "DescriptionStyleModel",
      "state": {
       "description_width": "initial"
      }
     },
     "ac4d886667af4d7cb5b15b058a07d83f": {
      "model_module": "@jupyter-widgets/base",
      "model_module_version": "1.2.0",
      "model_name": "LayoutModel",
      "state": {
       "width": "95%"
      }
     },
     "aeeb98fd55544561b7dbbf9eb1e144a4": {
      "model_module": "@jupyter-widgets/controls",
      "model_module_version": "1.5.0",
      "model_name": "VBoxModel",
      "state": {
       "children": [
        "IPY_MODEL_66faf6437e5b4faa8246ebd9300466e4",
        "IPY_MODEL_3372dd97edfb4247a2f1aef52c1ac5e9",
        "IPY_MODEL_9014e320f37c449a9a4d6d75387e99a2"
       ],
       "layout": "IPY_MODEL_68c56e63041c4dc48b4a0f42d9c4079c"
      }
     },
     "b2193d9350c44cb5b05ce80e074d3883": {
      "model_module": "@jupyter-widgets/controls",
      "model_module_version": "1.5.0",
      "model_name": "VBoxModel",
      "state": {
       "children": [
        "IPY_MODEL_f0b3bf1ba6f54c2588731681198f9ade",
        "IPY_MODEL_87a650b7b1ec4200a2baaeee132c79c7"
       ],
       "layout": "IPY_MODEL_e494a9f48c014c3f99f0994dee475582"
      }
     },
     "b35b7375cb2e4df397b0c75d5acea877": {
      "model_module": "@jupyter-widgets/base",
      "model_module_version": "1.2.0",
      "model_name": "LayoutModel",
      "state": {
       "width": "50%"
      }
     },
     "b3b273463d184222a240aa27a0a7ba6d": {
      "model_module": "@jupyter-widgets/base",
      "model_module_version": "1.2.0",
      "model_name": "LayoutModel",
      "state": {}
     },
     "b49902e65a2c493a9e3979b34a52aad2": {
      "model_module": "@jupyter-widgets/controls",
      "model_module_version": "1.5.0",
      "model_name": "SelectModel",
      "state": {
       "_options_labels": [
        "seb@seccxp.ninja   AzureActiveDirectory (Last activity: 2021-03-29 18:49:12.110000+00:00)",
        "seb@seccxp.ninja   Office365 (Last activity: 2021-03-29 22:12:02+00:00)"
       ],
       "description": "Select an account to explore",
       "index": 0,
       "layout": "IPY_MODEL_34dde92c1f2d42a5a2cef320a4481972",
       "style": "IPY_MODEL_460a1b57e50b43c784aca74c7ee082db"
      }
     },
     "b74fb573e9b3494d99308548adec3eeb": {
      "model_module": "@jupyter-widgets/controls",
      "model_module_version": "1.5.0",
      "model_name": "DescriptionStyleModel",
      "state": {
       "description_width": "initial"
      }
     },
     "b79918c34ecc4884ba9b3eb850c7add2": {
      "model_module": "@jupyter-widgets/base",
      "model_module_version": "1.2.0",
      "model_name": "LayoutModel",
      "state": {
       "width": "50%"
      }
     },
     "baf2d15c8ce24e5991f284fc20f14532": {
      "model_module": "@jupyter-widgets/controls",
      "model_module_version": "1.5.0",
      "model_name": "DescriptionStyleModel",
      "state": {
       "description_width": "initial"
      }
     },
     "bb59fbc329454c24b7cf07e482c68b64": {
      "model_module": "@jupyter-widgets/base",
      "model_module_version": "1.2.0",
      "model_name": "LayoutModel",
      "state": {}
     },
     "bbffb8c855b34c3090f755f14da423a0": {
      "model_module": "@jupyter-widgets/controls",
      "model_module_version": "1.5.0",
      "model_name": "DatePickerModel",
      "state": {
       "description": "Origin Date",
       "disabled": false,
       "layout": "IPY_MODEL_a608e3053ddd4a6c99dbbeacd3ddc55b",
       "style": "IPY_MODEL_777f43ecdf1e4a66b0c8e5507caf5bf2",
       "value": {
        "date": 1,
        "month": 3,
        "year": 2021
       }
      }
     },
     "bf6ca11097b94426bf69168b7b4ece95": {
      "model_module": "@jupyter-widgets/base",
      "model_module_version": "1.2.0",
      "model_name": "LayoutModel",
      "state": {}
     },
     "bfba6c88acd04567bc3bcc76bf00f8d6": {
      "model_module": "@jupyter-widgets/controls",
      "model_module_version": "1.5.0",
      "model_name": "IntRangeSliderModel",
      "state": {
       "_model_name": "IntRangeSliderModel",
       "_view_name": "IntRangeSliderView",
       "description": "Time Range (day):",
       "layout": "IPY_MODEL_046bb5c0da754b3aa0b6afdd2f2fe551",
       "max": 4,
       "min": -4,
       "style": "IPY_MODEL_e2003c663554479090ee33f08467c571",
       "value": [
        -1,
        0
       ]
      }
     },
     "bfd0cb615a64435b86ade958f5795d1f": {
      "model_module": "@jupyter-widgets/controls",
      "model_module_version": "1.5.0",
      "model_name": "DescriptionStyleModel",
      "state": {
       "description_width": ""
      }
     },
     "c06956d6520d4ed2bf75525c0ebc2e41": {
      "model_module": "@jupyter-widgets/base",
      "model_module_version": "1.2.0",
      "model_name": "LayoutModel",
      "state": {
       "width": "50%"
      }
     },
     "c0fd8789e0fb4ead9259dc7aecda6b6a": {
      "model_module": "@jupyter-widgets/controls",
      "model_module_version": "1.5.0",
      "model_name": "DescriptionStyleModel",
      "state": {
       "description_width": ""
      }
     },
     "c10173ec085f4d158f84347717d052aa": {
      "model_module": "@jupyter-widgets/controls",
      "model_module_version": "1.5.0",
      "model_name": "TextModel",
      "state": {
       "description": "Query start time (UTC):",
       "layout": "IPY_MODEL_c350c62e9cf243e1ab6f360047406b02",
       "style": "IPY_MODEL_7e0a0c57afad44dab2813565eb5aa92d",
       "value": "2021-03-31 15:59:18.058366"
      }
     },
     "c219aab918b34aa48372204344c8df44": {
      "model_module": "@jupyter-widgets/controls",
      "model_module_version": "1.5.0",
      "model_name": "SliderStyleModel",
      "state": {
       "description_width": "initial"
      }
     },
     "c336be281d6a45f190f5d1fe005cd9e0": {
      "model_module": "@jupyter-widgets/base",
      "model_module_version": "1.2.0",
      "model_name": "LayoutModel",
      "state": {
       "height": "300px",
       "width": "70%"
      }
     },
     "c350c62e9cf243e1ab6f360047406b02": {
      "model_module": "@jupyter-widgets/base",
      "model_module_version": "1.2.0",
      "model_name": "LayoutModel",
      "state": {
       "width": "50%"
      }
     },
     "c6ef3f6a37f646c0bec5691de2086a94": {
      "model_module": "@jupyter-widgets/controls",
      "model_module_version": "1.5.0",
      "model_name": "DescriptionStyleModel",
      "state": {
       "description_width": ""
      }
     },
     "c928d1b91bef43218cef9bcd7548d5bb": {
      "model_module": "@jupyter-widgets/controls",
      "model_module_version": "1.5.0",
      "model_name": "SelectModel",
      "state": {
       "_options_labels": [
        "2021-03-28 08:07:12+00:00 - OfficeActivityManager - Send - 104.209.247.23",
        "2021-03-29 08:07:11+00:00 - OfficeActivityManager - Send - 104.209.247.23",
        "2021-03-27 08:07:11+00:00 - OfficeActivityManager - Send - 104.209.247.23",
        "2021-03-29 18:49:12.110000+00:00 - Azure AD - Sign-in activity - 109.88.218.99",
        "2021-03-29 14:04:17.744000+00:00 - Azure AD - Sign-in activity - 109.88.218.99",
        "2021-03-29 13:17:17.507000+00:00 - Azure AD - Sign-in activity - 109.88.218.99",
        "2021-03-29 13:17:16.426000+00:00 - Azure AD - Sign-in activity - 109.88.218.99",
        "2021-03-29 13:17:15.132000+00:00 - Azure AD - Sign-in activity - 109.88.218.99",
        "2021-03-29 13:16:48.519000+00:00 - Azure AD - Sign-in activity - 109.88.218.99",
        "2021-03-28 15:45:21+00:00 - OfficeActivityManager - FileAccessed - 157.56.162.53",
        "2021-03-27 15:44:59+00:00 - OfficeActivityManager - FileAccessed - 157.56.162.53",
        "2021-03-28 15:45:18+00:00 - OfficeActivityManager - FileAccessed - 157.56.162.53",
        "2021-03-29 15:44:21+00:00 - OfficeActivityManager - FileAccessed - 157.56.162.53",
        "2021-03-29 15:44:18+00:00 - OfficeActivityManager - FileAccessed - 157.56.162.53",
        "2021-03-27 15:44:15+00:00 - OfficeActivityManager - FileAccessed - 157.56.162.53",
        "2021-03-28 15:45:14+00:00 - OfficeActivityManager - FileAccessed - 157.56.162.53",
        "2021-03-29 15:44:25+00:00 - OfficeActivityManager - FileAccessed - 157.56.162.53",
        "2021-03-27 15:45:10+00:00 - OfficeActivityManager - FileAccessed - 157.56.162.53",
        "2021-03-28 15:45:10+00:00 - OfficeActivityManager - FileAccessed - 157.56.162.53",
        "2021-03-29 15:44:28+00:00 - OfficeActivityManager - FileAccessed - 157.56.162.53",
        "2021-03-27 15:45:15+00:00 - OfficeActivityManager - FileAccessed - 157.56.162.53",
        "2021-03-29 15:44:31+00:00 - OfficeActivityManager - FileAccessed - 157.56.162.53",
        "2021-03-29 15:44:34+00:00 - OfficeActivityManager - FileAccessed - 157.56.162.53",
        "2021-03-29 15:44:37+00:00 - OfficeActivityManager - FileAccessed - 157.56.162.53",
        "2021-03-27 15:45:06+00:00 - OfficeActivityManager - FileAccessed - 157.56.162.53",
        "2021-03-27 15:44:18+00:00 - OfficeActivityManager - FileAccessed - 157.56.162.53",
        "2021-03-27 15:44:56+00:00 - OfficeActivityManager - FileAccessed - 157.56.162.53",
        "2021-03-28 15:45:24+00:00 - OfficeActivityManager - FileAccessed - 157.56.162.53",
        "2021-03-27 15:44:34+00:00 - OfficeActivityManager - FileAccessed - 157.56.162.53",
        "2021-03-27 15:44:39+00:00 - OfficeActivityManager - FileAccessed - 157.56.162.53",
        "2021-03-27 15:44:30+00:00 - OfficeActivityManager - FileAccessed - 157.56.162.53",
        "2021-03-27 15:44:42+00:00 - OfficeActivityManager - FileAccessed - 157.56.162.53",
        "2021-03-27 15:44:28+00:00 - OfficeActivityManager - FileAccessed - 157.56.162.53",
        "2021-03-27 15:44:25+00:00 - OfficeActivityManager - FileAccessed - 157.56.162.53",
        "2021-03-27 15:44:46+00:00 - OfficeActivityManager - FileAccessed - 157.56.162.53",
        "2021-03-27 15:44:21+00:00 - OfficeActivityManager - FileAccessed - 157.56.162.53",
        "2021-03-28 15:45:32+00:00 - OfficeActivityManager - FileAccessed - 157.56.162.53",
        "2021-03-28 15:45:30+00:00 - OfficeActivityManager - FileAccessed - 157.56.162.53",
        "2021-03-27 15:44:51+00:00 - OfficeActivityManager - FileAccessed - 157.56.162.53",
        "2021-03-28 15:45:27+00:00 - OfficeActivityManager - FileAccessed - 157.56.162.53",
        "2021-03-27 15:44:54+00:00 - OfficeActivityManager - FileAccessed - 157.56.162.53",
        "2021-03-29 15:44:07+00:00 - OfficeActivityManager - FileAccessed - 157.56.162.53",
        "2021-03-27 15:45:18+00:00 - OfficeActivityManager - FileAccessed - 157.56.162.53",
        "2021-03-29 15:44:15+00:00 - OfficeActivityManager - FileAccessed - 157.56.162.53",
        "2021-03-28 15:45:03+00:00 - OfficeActivityManager - FileAccessed - 157.56.162.53",
        "2021-03-28 15:45:06+00:00 - OfficeActivityManager - FileAccessed - 157.56.162.53",
        "2021-03-29 15:44:40+00:00 - OfficeActivityManager - FileAccessed - 157.56.162.53",
        "2021-03-29 15:45:08+00:00 - OfficeActivityManager - FileAccessed - 157.56.162.53",
        "2021-03-28 15:44:19+00:00 - OfficeActivityManager - FileAccessed - 157.56.162.53",
        "2021-03-27 15:45:20+00:00 - OfficeActivityManager - FileAccessed - 157.56.162.53",
        "2021-03-28 15:44:16+00:00 - OfficeActivityManager - FileAccessed - 157.56.162.53",
        "2021-03-29 15:45:18+00:00 - OfficeActivityManager - FileAccessed - 157.56.162.53",
        "2021-03-28 15:44:31+00:00 - OfficeActivityManager - FileAccessed - 157.56.162.53",
        "2021-03-28 15:44:41+00:00 - OfficeActivityManager - FileAccessed - 157.56.162.53",
        "2021-03-28 15:44:28+00:00 - OfficeActivityManager - FileAccessed - 157.56.162.53",
        "2021-03-29 15:45:22+00:00 - OfficeActivityManager - FileAccessed - 157.56.162.53",
        "2021-03-29 15:45:25+00:00 - OfficeActivityManager - FileAccessed - 157.56.162.53",
        "2021-03-28 15:44:36+00:00 - OfficeActivityManager - FileAccessed - 157.56.162.53",
        "2021-03-29 15:45:28+00:00 - OfficeActivityManager - FileAccessed - 157.56.162.53",
        "2021-03-29 15:45:30+00:00 - OfficeActivityManager - FileAccessed - 157.56.162.53",
        "2021-03-28 15:44:39+00:00 - OfficeActivityManager - FileAccessed - 157.56.162.53",
        "2021-03-29 15:45:32+00:00 - OfficeActivityManager - FileAccessed - 157.56.162.53",
        "2021-03-28 15:44:06+00:00 - OfficeActivityManager - FileAccessed - 157.56.162.53",
        "2021-03-28 15:44:11+00:00 - OfficeActivityManager - FileAccessed - 157.56.162.53",
        "2021-03-29 15:45:03+00:00 - OfficeActivityManager - FileAccessed - 157.56.162.53",
        "2021-03-29 15:45:15+00:00 - OfficeActivityManager - FileAccessed - 157.56.162.53",
        "2021-03-28 15:44:44+00:00 - OfficeActivityManager - FileAccessed - 157.56.162.53",
        "2021-03-27 15:44:11+00:00 - OfficeActivityManager - FileAccessed - 157.56.162.53",
        "2021-03-29 15:44:42+00:00 - OfficeActivityManager - FileAccessed - 157.56.162.53",
        "2021-03-29 15:44:45+00:00 - OfficeActivityManager - FileAccessed - 157.56.162.53",
        "2021-03-27 15:45:23+00:00 - OfficeActivityManager - FileAccessed - 157.56.162.53",
        "2021-03-28 15:44:59+00:00 - OfficeActivityManager - FileAccessed - 157.56.162.53",
        "2021-03-28 15:44:22+00:00 - OfficeActivityManager - FileAccessed - 157.56.162.53",
        "2021-03-29 15:44:49+00:00 - OfficeActivityManager - FileAccessed - 157.56.162.53",
        "2021-03-28 15:44:25+00:00 - OfficeActivityManager - FileAccessed - 157.56.162.53",
        "2021-03-27 15:45:28+00:00 - OfficeActivityManager - FileAccessed - 157.56.162.53",
        "2021-03-29 15:44:55+00:00 - OfficeActivityManager - FileAccessed - 157.56.162.53",
        "2021-03-27 15:45:26+00:00 - OfficeActivityManager - FileAccessed - 157.56.162.53",
        "2021-03-27 15:44:07+00:00 - OfficeActivityManager - FileAccessed - 157.56.162.53",
        "2021-03-28 15:44:49+00:00 - OfficeActivityManager - FileAccessed - 157.56.162.53",
        "2021-03-29 15:45:00+00:00 - OfficeActivityManager - FileAccessed - 157.56.162.53",
        "2021-03-29 15:44:58+00:00 - OfficeActivityManager - FileAccessed - 157.56.162.53",
        "2021-03-27 15:44:37+00:00 - OfficeActivityManager - FileAccessed - 157.56.162.53",
        "2021-03-28 15:44:56+00:00 - OfficeActivityManager - FileAccessed - 157.56.162.53",
        "2021-03-28 12:06:21+00:00 - OfficeActivityManager - MailItemsAccessed - 2603:10b6:4:2:cafe::31",
        "2021-03-28 12:06:21+00:00 - OfficeActivityManager - MailItemsAccessed - 2603:10b6:4:2:cafe::9e",
        "2021-03-27 06:23:58+00:00 - OfficeActivityManager - MailItemsAccessed - 2603:10b6:4:45::24",
        "2021-03-28 08:38:55+00:00 - OfficeActivityManager - MailItemsAccessed - 2603:10b6:5:1b3:cafe::24",
        "2021-03-28 12:06:22+00:00 - OfficeActivityManager - MailItemsAccessed - 2603:10b6:5:1b4:cafe::dd",
        "2021-03-29 03:21:31+00:00 - OfficeActivityManager - MailItemsAccessed - 2603:10b6:5:256::23",
        "2021-03-28 12:06:18+00:00 - OfficeActivityManager - MailItemsAccessed - 2603:10b6:5:296:cafe::6c",
        "2021-03-29 15:01:33+00:00 - OfficeActivityManager - MailItemsAccessed - 2603:10b6:5:336:cafe::94",
        "2021-03-28 07:07:54+00:00 - OfficeActivityManager - MailItemsAccessed - 2603:10b6:5:38::21",
        "2021-03-29 04:39:06+00:00 - OfficeActivityManager - MailItemsAccessed - 2603:10b6:5:3ad:cafe::c4",
        "2021-03-27 04:26:16+00:00 - OfficeActivityManager - MailItemsAccessed - 2603:10b6:5:3b4:cafe::7f",
        "2021-03-29 15:01:32+00:00 - OfficeActivityManager - MailItemsAccessed - 2603:10b6:5:40:cafe::17",
        "2021-03-29 15:01:32+00:00 - OfficeActivityManager - MailItemsAccessed - 2603:10b6:5:40:cafe::2e",
        "2021-03-29 14:58:37+00:00 - OfficeActivityManager - MailItemsAccessed - 2603:10b6:5:40:cafe::8f",
        "2021-03-27 15:44:37+00:00 - OfficeActivityManager - FileModified - 40.83.137.154",
        "2021-03-27 15:45:17+00:00 - OfficeActivityManager - FileModified - 40.83.137.154",
        "2021-03-27 15:45:18+00:00 - OfficeActivityManager - FileAccessed - 40.83.137.154",
        "2021-03-27 15:44:12+00:00 - OfficeActivityManager - FileAccessed - 40.83.137.154",
        "2021-03-27 15:45:20+00:00 - OfficeActivityManager - FileModified - 40.83.137.154",
        "2021-03-27 15:45:23+00:00 - OfficeActivityManager - FileModified - 40.83.137.154",
        "2021-03-27 15:44:10+00:00 - OfficeActivityManager - FileModified - 40.83.137.154",
        "2021-03-27 15:45:25+00:00 - OfficeActivityManager - FileModified - 40.83.137.154",
        "2021-03-27 15:44:08+00:00 - OfficeActivityManager - FileAccessed - 40.83.137.154",
        "2021-03-27 15:45:31+00:00 - OfficeActivityManager - FileModified - 40.83.137.154",
        "2021-03-28 15:44:24+00:00 - OfficeActivityManager - FileModified - 40.83.137.154",
        "2021-03-28 15:44:26+00:00 - OfficeActivityManager - FileAccessed - 40.83.137.154",
        "2021-03-28 15:44:28+00:00 - OfficeActivityManager - FileModified - 40.83.137.154",
        "2021-03-28 15:44:22+00:00 - OfficeActivityManager - FileAccessed - 40.83.137.154",
        "2021-03-28 15:44:28+00:00 - OfficeActivityManager - FileAccessed - 40.83.137.154",
        "2021-03-28 15:44:22+00:00 - OfficeActivityManager - FileModified - 40.83.137.154",
        "2021-03-28 15:44:19+00:00 - OfficeActivityManager - FileModified - 40.83.137.154",
        "2021-03-28 15:44:30+00:00 - OfficeActivityManager - FileModified - 40.83.137.154",
        "2021-03-28 15:44:19+00:00 - OfficeActivityManager - FileAccessed - 40.83.137.154",
        "2021-03-28 15:44:16+00:00 - OfficeActivityManager - FileAccessed - 40.83.137.154",
        "2021-03-28 15:44:14+00:00 - OfficeActivityManager - FileModified - 40.83.137.154",
        "2021-03-28 15:44:11+00:00 - OfficeActivityManager - FileAccessed - 40.83.137.154",
        "2021-03-28 15:44:10+00:00 - OfficeActivityManager - FileModified - 40.83.137.154",
        "2021-03-28 15:44:07+00:00 - OfficeActivityManager - FileAccessed - 40.83.137.154",
        "2021-03-27 15:44:14+00:00 - OfficeActivityManager - FileModified - 40.83.137.154",
        "2021-03-27 15:44:37+00:00 - OfficeActivityManager - FileAccessed - 40.83.137.154",
        "2021-03-27 15:45:14+00:00 - OfficeActivityManager - FileModified - 40.83.137.154",
        "2021-03-27 15:45:10+00:00 - OfficeActivityManager - FileModified - 40.83.137.154",
        "2021-03-27 15:44:39+00:00 - OfficeActivityManager - FileModified - 40.83.137.154",
        "2021-03-27 15:44:34+00:00 - OfficeActivityManager - FileModified - 40.83.137.154",
        "2021-03-27 15:44:30+00:00 - OfficeActivityManager - FileModified - 40.83.137.154",
        "2021-03-27 15:44:41+00:00 - OfficeActivityManager - FileModified - 40.83.137.154",
        "2021-03-27 15:44:42+00:00 - OfficeActivityManager - FileAccessed - 40.83.137.154",
        "2021-03-27 15:44:28+00:00 - OfficeActivityManager - FileAccessed - 40.83.137.154",
        "2021-03-27 15:44:27+00:00 - OfficeActivityManager - FileModified - 40.83.137.154",
        "2021-03-27 15:44:45+00:00 - OfficeActivityManager - FileModified - 40.83.137.154",
        "2021-03-27 15:44:25+00:00 - OfficeActivityManager - FileAccessed - 40.83.137.154",
        "2021-03-27 15:44:24+00:00 - OfficeActivityManager - FileModified - 40.83.137.154",
        "2021-03-27 15:44:47+00:00 - OfficeActivityManager - FileAccessed - 40.83.137.154",
        "2021-03-27 15:44:51+00:00 - OfficeActivityManager - FileModified - 40.83.137.154",
        "2021-03-27 15:44:51+00:00 - OfficeActivityManager - FileAccessed - 40.83.137.154",
        "2021-03-27 15:44:21+00:00 - OfficeActivityManager - FileAccessed - 40.83.137.154",
        "2021-03-28 15:44:36+00:00 - OfficeActivityManager - FileModified - 40.83.137.154",
        "2021-03-27 15:44:21+00:00 - OfficeActivityManager - FileModified - 40.83.137.154",
        "2021-03-27 15:44:56+00:00 - OfficeActivityManager - FileModified - 40.83.137.154",
        "2021-03-27 15:44:18+00:00 - OfficeActivityManager - FileAccessed - 40.83.137.154",
        "2021-03-27 15:44:57+00:00 - OfficeActivityManager - FileAccessed - 40.83.137.154",
        "2021-03-27 15:44:59+00:00 - OfficeActivityManager - FileModified - 40.83.137.154",
        "2021-03-27 15:44:17+00:00 - OfficeActivityManager - FileModified - 40.83.137.154",
        "2021-03-27 15:45:02+00:00 - OfficeActivityManager - FileAccessed - 40.83.137.154",
        "2021-03-27 15:45:05+00:00 - OfficeActivityManager - FileModified - 40.83.137.154",
        "2021-03-27 15:44:15+00:00 - OfficeActivityManager - FileAccessed - 40.83.137.154",
        "2021-03-27 15:44:53+00:00 - OfficeActivityManager - FileModified - 40.83.137.154",
        "2021-03-27 15:45:28+00:00 - OfficeActivityManager - FileModified - 40.83.137.154",
        "2021-03-28 15:44:39+00:00 - OfficeActivityManager - FileAccessed - 40.83.137.154",
        "2021-03-29 15:44:42+00:00 - OfficeActivityManager - FileModified - 40.83.137.154",
        "2021-03-29 15:44:40+00:00 - OfficeActivityManager - FileAccessed - 40.83.137.154",
        "2021-03-29 15:44:39+00:00 - OfficeActivityManager - FileModified - 40.83.137.154",
        "2021-03-29 15:44:37+00:00 - OfficeActivityManager - FileModified - 40.83.137.154",
        "2021-03-29 15:44:34+00:00 - OfficeActivityManager - FileModified - 40.83.137.154",
        "2021-03-29 15:44:31+00:00 - OfficeActivityManager - FileModified - 40.83.137.154",
        "2021-03-29 15:44:31+00:00 - OfficeActivityManager - FileAccessed - 40.83.137.154",
        "2021-03-29 15:44:45+00:00 - OfficeActivityManager - FileModified - 40.83.137.154",
        "2021-03-29 15:44:28+00:00 - OfficeActivityManager - FileAccessed - 40.83.137.154",
        "2021-03-29 15:44:25+00:00 - OfficeActivityManager - FileAccessed - 40.83.137.154",
        "2021-03-29 15:44:24+00:00 - OfficeActivityManager - FileModified - 40.83.137.154",
        "2021-03-29 15:44:22+00:00 - OfficeActivityManager - FileAccessed - 40.83.137.154",
        "2021-03-29 15:44:21+00:00 - OfficeActivityManager - FileModified - 40.83.137.154",
        "2021-03-29 15:44:19+00:00 - OfficeActivityManager - FileAccessed - 40.83.137.154",
        "2021-03-28 15:44:38+00:00 - OfficeActivityManager - FileModified - 40.83.137.154",
        "2021-03-29 15:44:15+00:00 - OfficeActivityManager - FileAccessed - 40.83.137.154",
        "2021-03-29 15:44:27+00:00 - OfficeActivityManager - FileModified - 40.83.137.154",
        "2021-03-29 15:44:46+00:00 - OfficeActivityManager - FileAccessed - 40.83.137.154",
        "2021-03-29 15:44:48+00:00 - OfficeActivityManager - FileModified - 40.83.137.154",
        "2021-03-29 15:44:50+00:00 - OfficeActivityManager - FileAccessed - 40.83.137.154",
        "2021-03-29 15:45:35+00:00 - OfficeActivityManager - FileModified - 40.83.137.154",
        "2021-03-29 15:45:32+00:00 - OfficeActivityManager - FileModified - 40.83.137.154",
        "2021-03-29 15:45:30+00:00 - OfficeActivityManager - FileModified - 40.83.137.154",
        "2021-03-29 15:45:27+00:00 - OfficeActivityManager - FileModified - 40.83.137.154",
        "2021-03-29 15:45:24+00:00 - OfficeActivityManager - FileModified - 40.83.137.154",
        "2021-03-29 15:45:22+00:00 - OfficeActivityManager - FileAccessed - 40.83.137.154",
        "2021-03-29 15:45:21+00:00 - OfficeActivityManager - FileModified - 40.83.137.154",
        "2021-03-29 15:45:17+00:00 - OfficeActivityManager - FileModified - 40.83.137.154",
        "2021-03-29 15:45:14+00:00 - OfficeActivityManager - FileModified - 40.83.137.154",
        "2021-03-29 15:45:07+00:00 - OfficeActivityManager - FileModified - 40.83.137.154",
        "2021-03-29 15:45:04+00:00 - OfficeActivityManager - FileAccessed - 40.83.137.154",
        "2021-03-29 15:45:03+00:00 - OfficeActivityManager - FileModified - 40.83.137.154",
        "2021-03-29 15:45:01+00:00 - OfficeActivityManager - FileAccessed - 40.83.137.154",
        "2021-03-29 15:45:00+00:00 - OfficeActivityManager - FileModified - 40.83.137.154",
        "2021-03-29 15:44:57+00:00 - OfficeActivityManager - FileModified - 40.83.137.154",
        "2021-03-29 15:44:55+00:00 - OfficeActivityManager - FileAccessed - 40.83.137.154",
        "2021-03-29 15:44:54+00:00 - OfficeActivityManager - FileModified - 40.83.137.154",
        "2021-03-29 15:44:14+00:00 - OfficeActivityManager - FileModified - 40.83.137.154",
        "2021-03-29 15:44:09+00:00 - OfficeActivityManager - FileAccessed - 40.83.137.154",
        "2021-03-29 15:44:18+00:00 - OfficeActivityManager - FileModified - 40.83.137.154",
        "2021-03-28 15:45:21+00:00 - OfficeActivityManager - FileModified - 40.83.137.154",
        "2021-03-28 15:45:29+00:00 - OfficeActivityManager - FileModified - 40.83.137.154",
        "2021-03-28 15:45:27+00:00 - OfficeActivityManager - FileModified - 40.83.137.154",
        "2021-03-28 15:45:24+00:00 - OfficeActivityManager - FileModified - 40.83.137.154",
        "2021-03-28 15:45:22+00:00 - OfficeActivityManager - FileAccessed - 40.83.137.154",
        "2021-03-28 15:45:18+00:00 - OfficeActivityManager - FileModified - 40.83.137.154",
        "2021-03-28 15:45:14+00:00 - OfficeActivityManager - FileModified - 40.83.137.154",
        "2021-03-28 15:45:10+00:00 - OfficeActivityManager - FileModified - 40.83.137.154",
        "2021-03-28 15:45:05+00:00 - OfficeActivityManager - FileModified - 40.83.137.154",
        "2021-03-28 15:45:32+00:00 - OfficeActivityManager - FileModified - 40.83.137.154",
        "2021-03-28 15:45:03+00:00 - OfficeActivityManager - FileAccessed - 40.83.137.154",
        "2021-03-28 15:44:59+00:00 - OfficeActivityManager - FileModified - 40.83.137.154",
        "2021-03-28 15:44:57+00:00 - OfficeActivityManager - FileAccessed - 40.83.137.154",
        "2021-03-28 15:44:55+00:00 - OfficeActivityManager - FileModified - 40.83.137.154",
        "2021-03-28 15:44:51+00:00 - OfficeActivityManager - FileAccessed - 40.83.137.154",
        "2021-03-28 15:44:48+00:00 - OfficeActivityManager - FileModified - 40.83.137.154",
        "2021-03-28 15:44:44+00:00 - OfficeActivityManager - FileAccessed - 40.83.137.154",
        "2021-03-28 15:44:43+00:00 - OfficeActivityManager - FileModified - 40.83.137.154",
        "2021-03-28 15:44:41+00:00 - OfficeActivityManager - FileModified - 40.83.137.154",
        "2021-03-28 15:45:02+00:00 - OfficeActivityManager - FileModified - 40.83.137.154",
        "2021-03-28 15:45:34+00:00 - OfficeActivityManager - FileModified - 40.83.137.154",
        "2021-03-28 15:45:07+00:00 - OfficeActivityManager - FileAccessed - 40.83.137.154",
        "2021-03-28 17:17:31+00:00 - OfficeActivityManager - MailItemsAccessed - 40.91.208.65",
        "2021-03-29 12:16:03+00:00 - OfficeActivityManager - MailItemsAccessed - 40.91.208.65",
        "2021-03-29 11:43:03+00:00 - OfficeActivityManager - MailItemsAccessed - 40.91.208.65",
        "2021-03-28 15:17:18+00:00 - OfficeActivityManager - MailItemsAccessed - 40.91.208.65",
        "2021-03-28 14:17:11+00:00 - OfficeActivityManager - MailItemsAccessed - 40.91.208.65",
        "2021-03-28 13:17:02+00:00 - OfficeActivityManager - MailItemsAccessed - 40.91.208.65",
        "2021-03-28 12:16:54+00:00 - OfficeActivityManager - MailItemsAccessed - 40.91.208.65",
        "2021-03-29 16:10:24+00:00 - OfficeActivityManager - MailItemsAccessed - 40.91.208.65",
        "2021-03-29 13:16:09+00:00 - OfficeActivityManager - MailItemsAccessed - 40.91.208.65",
        "2021-03-29 17:10:31+00:00 - OfficeActivityManager - MailItemsAccessed - 40.91.208.65",
        "2021-03-29 19:11:06+00:00 - OfficeActivityManager - MailItemsAccessed - 40.91.208.65",
        "2021-03-28 11:16:46+00:00 - OfficeActivityManager - MailItemsAccessed - 40.91.208.65",
        "2021-03-28 10:16:38+00:00 - OfficeActivityManager - MailItemsAccessed - 40.91.208.65",
        "2021-03-28 10:07:37+00:00 - OfficeActivityManager - MailItemsAccessed - 40.91.208.65",
        "2021-03-28 09:07:32+00:00 - OfficeActivityManager - MailItemsAccessed - 40.91.208.65",
        "2021-03-29 20:11:26+00:00 - OfficeActivityManager - MailItemsAccessed - 40.91.208.65",
        "2021-03-28 08:07:25+00:00 - OfficeActivityManager - MailItemsAccessed - 40.91.208.65",
        "2021-03-29 18:10:41+00:00 - OfficeActivityManager - MailItemsAccessed - 40.91.208.65",
        "2021-03-28 18:17:38+00:00 - OfficeActivityManager - MailItemsAccessed - 40.91.208.65",
        "2021-03-29 14:10:13+00:00 - OfficeActivityManager - MailItemsAccessed - 40.91.208.65",
        "2021-03-29 09:09:40+00:00 - OfficeActivityManager - MailItemsAccessed - 40.91.208.65",
        "2021-03-28 16:17:23+00:00 - OfficeActivityManager - MailItemsAccessed - 40.91.208.65",
        "2021-03-28 19:17:44+00:00 - OfficeActivityManager - MailItemsAccessed - 40.91.208.65",
        "2021-03-28 20:17:52+00:00 - OfficeActivityManager - MailItemsAccessed - 40.91.208.65",
        "2021-03-28 21:17:58+00:00 - OfficeActivityManager - MailItemsAccessed - 40.91.208.65",
        "2021-03-28 22:18:06+00:00 - OfficeActivityManager - MailItemsAccessed - 40.91.208.65",
        "2021-03-28 23:18:12+00:00 - OfficeActivityManager - MailItemsAccessed - 40.91.208.65",
        "2021-03-29 00:18:20+00:00 - OfficeActivityManager - MailItemsAccessed - 40.91.208.65",
        "2021-03-29 15:10:19+00:00 - OfficeActivityManager - MailItemsAccessed - 40.91.208.65",
        "2021-03-29 10:09:49+00:00 - OfficeActivityManager - MailItemsAccessed - 40.91.208.65",
        "2021-03-29 02:18:40+00:00 - OfficeActivityManager - MailItemsAccessed - 40.91.208.65",
        "2021-03-29 03:18:48+00:00 - OfficeActivityManager - MailItemsAccessed - 40.91.208.65",
        "2021-03-29 04:18:59+00:00 - OfficeActivityManager - MailItemsAccessed - 40.91.208.65",
        "2021-03-29 05:19:07+00:00 - OfficeActivityManager - MailItemsAccessed - 40.91.208.65",
        "2021-03-29 06:19:26+00:00 - OfficeActivityManager - MailItemsAccessed - 40.91.208.65",
        "2021-03-29 07:19:51+00:00 - OfficeActivityManager - MailItemsAccessed - 40.91.208.65",
        "2021-03-29 08:08:38+00:00 - OfficeActivityManager - MailItemsAccessed - 40.91.208.65",
        "2021-03-29 01:18:31+00:00 - OfficeActivityManager - MailItemsAccessed - 40.91.208.65",
        "2021-03-29 11:09:57+00:00 - OfficeActivityManager - MailItemsAccessed - 40.91.208.65",
        "2021-03-26 18:11:02+00:00 - OfficeActivityManager - MailItemsAccessed - 40.91.208.65",
        "2021-03-28 06:10:10+00:00 - OfficeActivityManager - MailItemsAccessed - 40.91.208.65",
        "2021-03-27 15:08:14+00:00 - OfficeActivityManager - MailItemsAccessed - 40.91.208.65",
        "2021-03-27 14:08:04+00:00 - OfficeActivityManager - MailItemsAccessed - 40.91.208.65",
        "2021-03-27 13:07:57+00:00 - OfficeActivityManager - MailItemsAccessed - 40.91.208.65",
        "2021-03-27 12:07:50+00:00 - OfficeActivityManager - MailItemsAccessed - 40.91.208.65",
        "2021-03-27 11:07:44+00:00 - OfficeActivityManager - MailItemsAccessed - 40.91.208.65",
        "2021-03-27 10:07:36+00:00 - OfficeActivityManager - MailItemsAccessed - 40.91.208.65",
        "2021-03-27 09:07:29+00:00 - OfficeActivityManager - MailItemsAccessed - 40.91.208.65",
        "2021-03-27 08:07:23+00:00 - OfficeActivityManager - MailItemsAccessed - 40.91.208.65",
        "2021-03-27 08:04:22+00:00 - OfficeActivityManager - MailItemsAccessed - 40.91.208.65",
        "2021-03-27 07:04:04+00:00 - OfficeActivityManager - MailItemsAccessed - 40.91.208.65",
        "2021-03-27 06:03:56+00:00 - OfficeActivityManager - MailItemsAccessed - 40.91.208.65",
        "2021-03-29 21:11:42+00:00 - OfficeActivityManager - MailItemsAccessed - 40.91.208.65",
        "2021-03-27 05:03:49+00:00 - OfficeActivityManager - MailItemsAccessed - 40.91.208.65",
        "2021-03-27 03:33:34+00:00 - OfficeActivityManager - MailItemsAccessed - 40.91.208.65",
        "2021-03-27 02:33:26+00:00 - OfficeActivityManager - MailItemsAccessed - 40.91.208.65",
        "2021-03-28 07:10:18+00:00 - OfficeActivityManager - MailItemsAccessed - 40.91.208.65",
        "2021-03-27 01:33:16+00:00 - OfficeActivityManager - MailItemsAccessed - 40.91.208.65",
        "2021-03-27 00:33:02+00:00 - OfficeActivityManager - MailItemsAccessed - 40.91.208.65",
        "2021-03-26 23:32:50+00:00 - OfficeActivityManager - MailItemsAccessed - 40.91.208.65",
        "2021-03-26 23:02:47+00:00 - OfficeActivityManager - MailItemsAccessed - 40.91.208.65",
        "2021-03-26 22:02:38+00:00 - OfficeActivityManager - MailItemsAccessed - 40.91.208.65",
        "2021-03-26 21:11:26+00:00 - OfficeActivityManager - MailItemsAccessed - 40.91.208.65",
        "2021-03-26 20:11:18+00:00 - OfficeActivityManager - MailItemsAccessed - 40.91.208.65",
        "2021-03-26 19:11:10+00:00 - OfficeActivityManager - MailItemsAccessed - 40.91.208.65",
        "2021-03-27 04:33:44+00:00 - OfficeActivityManager - MailItemsAccessed - 40.91.208.65",
        "2021-03-27 16:08:23+00:00 - OfficeActivityManager - MailItemsAccessed - 40.91.208.65",
        "2021-03-29 22:12:02+00:00 - OfficeActivityManager - MailItemsAccessed - 40.91.208.65",
        "2021-03-27 18:08:33+00:00 - OfficeActivityManager - MailItemsAccessed - 40.91.208.65",
        "2021-03-28 03:09:45+00:00 - OfficeActivityManager - MailItemsAccessed - 40.91.208.65",
        "2021-03-28 04:09:52+00:00 - OfficeActivityManager - MailItemsAccessed - 40.91.208.65",
        "2021-03-28 05:09:59+00:00 - OfficeActivityManager - MailItemsAccessed - 40.91.208.65",
        "2021-03-28 01:09:29+00:00 - OfficeActivityManager - MailItemsAccessed - 40.91.208.65",
        "2021-03-28 00:09:19+00:00 - OfficeActivityManager - MailItemsAccessed - 40.91.208.65",
        "2021-03-28 02:09:37+00:00 - OfficeActivityManager - MailItemsAccessed - 40.91.208.65",
        "2021-03-27 22:09:03+00:00 - OfficeActivityManager - MailItemsAccessed - 40.91.208.65",
        "2021-03-27 23:09:13+00:00 - OfficeActivityManager - MailItemsAccessed - 40.91.208.65",
        "2021-03-27 19:08:41+00:00 - OfficeActivityManager - MailItemsAccessed - 40.91.208.65",
        "2021-03-27 17:08:26+00:00 - OfficeActivityManager - MailItemsAccessed - 40.91.208.65",
        "2021-03-27 21:08:55+00:00 - OfficeActivityManager - MailItemsAccessed - 40.91.208.65",
        "2021-03-27 20:08:48+00:00 - OfficeActivityManager - MailItemsAccessed - 40.91.208.65",
        "2021-03-27 02:20:44+00:00 - OfficeActivityManager - MailItemsAccessed - 52.154.174.161",
        "2021-03-27 02:20:39+00:00 - OfficeActivityManager - MailItemsAccessed - 52.154.174.161",
        "2021-03-27 02:20:13+00:00 - OfficeActivityManager - MailItemsAccessed - 52.154.174.161",
        "2021-03-28 02:02:07+00:00 - OfficeActivityManager - MailItemsAccessed - 52.154.174.161",
        "2021-03-28 02:01:55+00:00 - OfficeActivityManager - MailItemsAccessed - 52.154.174.161",
        "2021-03-27 02:20:46+00:00 - OfficeActivityManager - MailItemsAccessed - 52.154.174.163",
        "2021-03-27 02:20:19+00:00 - OfficeActivityManager - MailItemsAccessed - 52.154.174.163",
        "2021-03-28 02:02:01+00:00 - OfficeActivityManager - MailItemsAccessed - 52.154.174.163",
        "2021-03-27 02:20:30+00:00 - OfficeActivityManager - MailItemsAccessed - 52.154.174.163",
        "2021-03-28 02:02:08+00:00 - OfficeActivityManager - MailItemsAccessed - 52.154.174.167"
       ],
       "description": "Select an item",
       "index": 0,
       "layout": "IPY_MODEL_925b30eddd2a406696a364acee652dda",
       "style": "IPY_MODEL_dacaff642efd419a8138880557d15736"
      }
     },
     "c9f855e94d444d1580fb1687af71eb4d": {
      "model_module": "@jupyter-widgets/controls",
      "model_module_version": "1.5.0",
      "model_name": "DescriptionStyleModel",
      "state": {
       "description_width": "initial"
      }
     },
     "cb7fc51d6eac4e3ebd9f8cf2f4296195": {
      "model_module": "@jupyter-widgets/base",
      "model_module_version": "1.2.0",
      "model_name": "LayoutModel",
      "state": {
       "width": "80%"
      }
     },
     "cc12ad06c8d04dc7967c0d865a4e8b50": {
      "model_module": "@jupyter-widgets/controls",
      "model_module_version": "1.5.0",
      "model_name": "VBoxModel",
      "state": {
       "children": [
        "IPY_MODEL_fd896fcb0fda4f22ab405c94e4f412f9",
        "IPY_MODEL_47f102f9c52e4b9c9941bd03ecfd0613"
       ],
       "layout": "IPY_MODEL_88ad5573624b487aa311c71969813ab6"
      }
     },
     "cc559f2a10b140e1b6495e9e4b5aecc3": {
      "model_module": "@jupyter-widgets/base",
      "model_module_version": "1.2.0",
      "model_name": "LayoutModel",
      "state": {
       "width": "50%"
      }
     },
     "cd73a63f60e749ceabc145bbef674d21": {
      "model_module": "@jupyter-widgets/controls",
      "model_module_version": "1.5.0",
      "model_name": "VBoxModel",
      "state": {
       "children": [
        "IPY_MODEL_fdd252a7851a4ad19692e1a3fce4e8b2",
        "IPY_MODEL_077df566f6504c3991fe58883a7930b4"
       ],
       "layout": "IPY_MODEL_cf48c8829ac640e3af1c4e95ac072a2a"
      }
     },
     "cf48c8829ac640e3af1c4e95ac072a2a": {
      "model_module": "@jupyter-widgets/base",
      "model_module_version": "1.2.0",
      "model_name": "LayoutModel",
      "state": {}
     },
     "d12d74378f6e4f63ad2cadc378a84e68": {
      "model_module": "@jupyter-widgets/controls",
      "model_module_version": "1.5.0",
      "model_name": "TextModel",
      "state": {
       "description": "Time (24hr)",
       "layout": "IPY_MODEL_bb59fbc329454c24b7cf07e482c68b64",
       "style": "IPY_MODEL_f7e834ed5b924e849715022f1a46589b",
       "value": "15:59:18.058366"
      }
     },
     "d231ada8db354f179d96ba66b1ec34e1": {
      "model_module": "@jupyter-widgets/base",
      "model_module_version": "1.2.0",
      "model_name": "LayoutModel",
      "state": {
       "width": "80%"
      }
     },
     "d4792d9d49814b1289af5c9f12f839a0": {
      "model_module": "@jupyter-widgets/controls",
      "model_module_version": "1.5.0",
      "model_name": "VBoxModel",
      "state": {
       "children": [
        "IPY_MODEL_0e400bf29ea24ed29503e57cc1894e18",
        "IPY_MODEL_c10173ec085f4d158f84347717d052aa",
        "IPY_MODEL_9e7b0e14b2e34b4eb83687cc3be78965"
       ],
       "layout": "IPY_MODEL_7b73b36b51cb4a4f89c2cbe8f26297c3"
      }
     },
     "d5f5e31c4b8c4777950d3d9c73cc56f1": {
      "model_module": "@jupyter-widgets/base",
      "model_module_version": "1.2.0",
      "model_name": "LayoutModel",
      "state": {}
     },
     "d69260ee4690472380433241bbbebe8d": {
      "model_module": "@jupyter-widgets/controls",
      "model_module_version": "1.5.0",
      "model_name": "VBoxModel",
      "state": {
       "children": [
        "IPY_MODEL_92ab55992c3746ee8f9f487b06421559",
        "IPY_MODEL_c928d1b91bef43218cef9bcd7548d5bb"
       ],
       "layout": "IPY_MODEL_d5f5e31c4b8c4777950d3d9c73cc56f1"
      }
     },
     "d707805674ac42bf81aae3221739c2f1": {
      "model_module": "@jupyter-widgets/controls",
      "model_module_version": "1.5.0",
      "model_name": "DescriptionStyleModel",
      "state": {
       "description_width": "initial"
      }
     },
     "d9389e28d11646a994cad005c0349306": {
      "model_module": "@jupyter-widgets/controls",
      "model_module_version": "1.5.0",
      "model_name": "DescriptionStyleModel",
      "state": {
       "description_width": "initial"
      }
     },
     "d94506c85e1c4b7a8d2a6e758479db4c": {
      "model_module": "@jupyter-widgets/base",
      "model_module_version": "1.2.0",
      "model_name": "LayoutModel",
      "state": {
       "width": "50%"
      }
     },
     "da523b29f4444712833cb09f67097db4": {
      "model_module": "@jupyter-widgets/base",
      "model_module_version": "1.2.0",
      "model_name": "LayoutModel",
      "state": {
       "width": "80%"
      }
     },
     "dacaff642efd419a8138880557d15736": {
      "model_module": "@jupyter-widgets/controls",
      "model_module_version": "1.5.0",
      "model_name": "DescriptionStyleModel",
      "state": {
       "description_width": "initial"
      }
     },
     "db2414cd3bad49a8a5cd5e4f7da10cac": {
      "model_module": "@jupyter-widgets/controls",
      "model_module_version": "1.5.0",
      "model_name": "VBoxModel",
      "state": {
       "children": [
        "IPY_MODEL_534954cb00e04b7381c14ddfacfcc55b",
        "IPY_MODEL_0ffa420a86cc41c49e19d483420da6c2"
       ],
       "layout": "IPY_MODEL_7059d7fb54544e08aa9de4b24a077049"
      }
     },
     "dfcbcf7f63c640dfad30404eaea48f70": {
      "model_module": "@jupyter-widgets/controls",
      "model_module_version": "1.5.0",
      "model_name": "DescriptionStyleModel",
      "state": {
       "description_width": "initial"
      }
     },
     "e00dff5dc9684f278edf4e5d92899ba9": {
      "model_module": "@jupyter-widgets/base",
      "model_module_version": "1.2.0",
      "model_name": "LayoutModel",
      "state": {}
     },
     "e2003c663554479090ee33f08467c571": {
      "model_module": "@jupyter-widgets/controls",
      "model_module_version": "1.5.0",
      "model_name": "SliderStyleModel",
      "state": {
       "description_width": "initial"
      }
     },
     "e4723ebc22444b52b05ab2ee3b113c40": {
      "model_module": "@jupyter-widgets/controls",
      "model_module_version": "1.5.0",
      "model_name": "VBoxModel",
      "state": {
       "children": [
        "IPY_MODEL_2187044f4ca34cfeb726ec9d0436c6c3",
        "IPY_MODEL_b49902e65a2c493a9e3979b34a52aad2"
       ],
       "layout": "IPY_MODEL_bf6ca11097b94426bf69168b7b4ece95"
      }
     },
     "e494a9f48c014c3f99f0994dee475582": {
      "model_module": "@jupyter-widgets/base",
      "model_module_version": "1.2.0",
      "model_name": "LayoutModel",
      "state": {}
     },
     "e7db7f87527f4ca88727aade91c10c26": {
      "model_module": "@jupyter-widgets/controls",
      "model_module_version": "1.5.0",
      "model_name": "DescriptionStyleModel",
      "state": {
       "description_width": ""
      }
     },
     "e7eb96c05ad24d3e817ec2151a329d31": {
      "model_module": "@jupyter-widgets/base",
      "model_module_version": "1.2.0",
      "model_name": "LayoutModel",
      "state": {
       "width": "50%"
      }
     },
     "ea866644f5e3426ab58f914e275b2119": {
      "model_module": "@jupyter-widgets/base",
      "model_module_version": "1.2.0",
      "model_name": "LayoutModel",
      "state": {
       "height": "300px",
       "width": "95%"
      }
     },
     "eaf354bc5ab043debbc084d4d4e9571b": {
      "model_module": "@jupyter-widgets/base",
      "model_module_version": "1.2.0",
      "model_name": "LayoutModel",
      "state": {}
     },
     "ec538125a011422f91da03e90d66bf0b": {
      "model_module": "@jupyter-widgets/controls",
      "model_module_version": "1.5.0",
      "model_name": "TextModel",
      "state": {
       "description": "Time (24hr)",
       "layout": "IPY_MODEL_76c9671dd2de4001a94e2073a48858a2",
       "style": "IPY_MODEL_e7db7f87527f4ca88727aade91c10c26",
       "value": "23:01:50.125332"
      }
     },
     "ecff0f19c3c54d08a25d82a14ca802bb": {
      "model_module": "@jupyter-widgets/controls",
      "model_module_version": "1.5.0",
      "model_name": "TextModel",
      "state": {
       "description": "Time (24hr)",
       "layout": "IPY_MODEL_eaf354bc5ab043debbc084d4d4e9571b",
       "style": "IPY_MODEL_a59ce93b3dbf4af595890e253277bf82",
       "value": "15:59:18.058366"
      }
     },
     "ed6cb86d51714d48a7afd49f69a18ceb": {
      "model_module": "@jupyter-widgets/base",
      "model_module_version": "1.2.0",
      "model_name": "LayoutModel",
      "state": {}
     },
     "eed4ac41064049b598c7b499359ddd71": {
      "model_module": "@jupyter-widgets/base",
      "model_module_version": "1.2.0",
      "model_name": "LayoutModel",
      "state": {}
     },
     "f0b3bf1ba6f54c2588731681198f9ade": {
      "model_module": "@jupyter-widgets/controls",
      "model_module_version": "1.5.0",
      "model_name": "TextModel",
      "state": {
       "description": "Filter:",
       "layout": "IPY_MODEL_05dbda0ce0b24b2e88bdd1bef2f148c8",
       "style": "IPY_MODEL_7e5d1408d2404372a55a5a5be4a75508"
      }
     },
     "f271d11e95f44804adea92adab0bdc4d": {
      "model_module": "@jupyter-widgets/controls",
      "model_module_version": "1.5.0",
      "model_name": "TextModel",
      "state": {
       "description": "Query start time (UTC):",
       "layout": "IPY_MODEL_d94506c85e1c4b7a8d2a6e758479db4c",
       "style": "IPY_MODEL_20ed4f096cbe435b9774db5fdfbfb6b6",
       "value": "2021-03-28 23:01:50.125332"
      }
     },
     "f2916b92d56541a3be9031fc7ed93b85": {
      "model_module": "@jupyter-widgets/controls",
      "model_module_version": "1.5.0",
      "model_name": "TextModel",
      "state": {
       "description": "Time (24hr)",
       "layout": "IPY_MODEL_1a815f38ca754e1ea6f971c970a0c670",
       "style": "IPY_MODEL_c0fd8789e0fb4ead9259dc7aecda6b6a",
       "value": "23:01:50.125332"
      }
     },
     "f3ae56fecf484ebb9be2795bf7718640": {
      "model_module": "@jupyter-widgets/base",
      "model_module_version": "1.2.0",
      "model_name": "LayoutModel",
      "state": {}
     },
     "f5c1b4916435408ba51794cfb10f21e5": {
      "model_module": "@jupyter-widgets/controls",
      "model_module_version": "1.5.0",
      "model_name": "DescriptionStyleModel",
      "state": {
       "description_width": "initial"
      }
     },
     "f655c96d541f4d108b08024bce96bf3e": {
      "model_module": "@jupyter-widgets/controls",
      "model_module_version": "1.5.0",
      "model_name": "SelectModel",
      "state": {
       "_options_labels": [
        "2021-03-26 18:11:02+00:00 - OfficeActivityManager - MailItemsAccessed - 40.91.208.65",
        "2021-03-26 19:11:10+00:00 - OfficeActivityManager - MailItemsAccessed - 40.91.208.65",
        "2021-03-26 20:11:18+00:00 - OfficeActivityManager - MailItemsAccessed - 40.91.208.65",
        "2021-03-26 21:11:26+00:00 - OfficeActivityManager - MailItemsAccessed - 40.91.208.65",
        "2021-03-26 22:02:38+00:00 - OfficeActivityManager - MailItemsAccessed - 40.91.208.65",
        "2021-03-26 23:02:47+00:00 - OfficeActivityManager - MailItemsAccessed - 40.91.208.65",
        "2021-03-26 23:32:50+00:00 - OfficeActivityManager - MailItemsAccessed - 40.91.208.65",
        "2021-03-27 00:33:02+00:00 - OfficeActivityManager - MailItemsAccessed - 40.91.208.65",
        "2021-03-27 01:33:16+00:00 - OfficeActivityManager - MailItemsAccessed - 40.91.208.65",
        "2021-03-27 02:20:13+00:00 - OfficeActivityManager - MailItemsAccessed - 52.154.174.161",
        "2021-03-27 02:20:19+00:00 - OfficeActivityManager - MailItemsAccessed - 52.154.174.163",
        "2021-03-27 02:20:30+00:00 - OfficeActivityManager - MailItemsAccessed - 52.154.174.163",
        "2021-03-27 02:20:39+00:00 - OfficeActivityManager - MailItemsAccessed - 52.154.174.161",
        "2021-03-27 02:20:44+00:00 - OfficeActivityManager - MailItemsAccessed - 52.154.174.161",
        "2021-03-27 02:20:46+00:00 - OfficeActivityManager - MailItemsAccessed - 52.154.174.163",
        "2021-03-27 02:33:26+00:00 - OfficeActivityManager - MailItemsAccessed - 40.91.208.65",
        "2021-03-27 03:33:34+00:00 - OfficeActivityManager - MailItemsAccessed - 40.91.208.65",
        "2021-03-27 04:26:16+00:00 - OfficeActivityManager - MailItemsAccessed - 2603:10b6:5:3b4:cafe::7f",
        "2021-03-27 04:33:44+00:00 - OfficeActivityManager - MailItemsAccessed - 40.91.208.65",
        "2021-03-27 05:03:49+00:00 - OfficeActivityManager - MailItemsAccessed - 40.91.208.65",
        "2021-03-27 06:03:56+00:00 - OfficeActivityManager - MailItemsAccessed - 40.91.208.65",
        "2021-03-27 06:23:58+00:00 - OfficeActivityManager - MailItemsAccessed - 2603:10b6:4:45::24",
        "2021-03-27 07:04:04+00:00 - OfficeActivityManager - MailItemsAccessed - 40.91.208.65",
        "2021-03-27 08:04:22+00:00 - OfficeActivityManager - MailItemsAccessed - 40.91.208.65",
        "2021-03-27 08:07:11+00:00 - OfficeActivityManager - Send - 104.209.247.23",
        "2021-03-27 08:07:23+00:00 - OfficeActivityManager - MailItemsAccessed - 40.91.208.65",
        "2021-03-27 09:07:29+00:00 - OfficeActivityManager - MailItemsAccessed - 40.91.208.65",
        "2021-03-27 10:07:36+00:00 - OfficeActivityManager - MailItemsAccessed - 40.91.208.65",
        "2021-03-27 11:07:44+00:00 - OfficeActivityManager - MailItemsAccessed - 40.91.208.65",
        "2021-03-27 12:07:50+00:00 - OfficeActivityManager - MailItemsAccessed - 40.91.208.65",
        "2021-03-27 13:07:57+00:00 - OfficeActivityManager - MailItemsAccessed - 40.91.208.65",
        "2021-03-27 14:08:04+00:00 - OfficeActivityManager - MailItemsAccessed - 40.91.208.65",
        "2021-03-27 15:08:14+00:00 - OfficeActivityManager - MailItemsAccessed - 40.91.208.65",
        "2021-03-27 15:44:07+00:00 - OfficeActivityManager - FileAccessed - 157.56.162.53",
        "2021-03-27 15:44:08+00:00 - OfficeActivityManager - FileAccessed - 40.83.137.154",
        "2021-03-27 15:44:10+00:00 - OfficeActivityManager - FileModified - 40.83.137.154",
        "2021-03-27 15:44:11+00:00 - OfficeActivityManager - FileAccessed - 157.56.162.53",
        "2021-03-27 15:44:12+00:00 - OfficeActivityManager - FileAccessed - 40.83.137.154",
        "2021-03-27 15:44:14+00:00 - OfficeActivityManager - FileModified - 40.83.137.154",
        "2021-03-27 15:44:15+00:00 - OfficeActivityManager - FileAccessed - 40.83.137.154",
        "2021-03-27 15:44:15+00:00 - OfficeActivityManager - FileAccessed - 157.56.162.53",
        "2021-03-27 15:44:17+00:00 - OfficeActivityManager - FileModified - 40.83.137.154",
        "2021-03-27 15:44:18+00:00 - OfficeActivityManager - FileAccessed - 157.56.162.53",
        "2021-03-27 15:44:18+00:00 - OfficeActivityManager - FileAccessed - 40.83.137.154",
        "2021-03-27 15:44:21+00:00 - OfficeActivityManager - FileModified - 40.83.137.154",
        "2021-03-27 15:44:21+00:00 - OfficeActivityManager - FileAccessed - 40.83.137.154",
        "2021-03-27 15:44:21+00:00 - OfficeActivityManager - FileAccessed - 157.56.162.53",
        "2021-03-27 15:44:24+00:00 - OfficeActivityManager - FileModified - 40.83.137.154",
        "2021-03-27 15:44:25+00:00 - OfficeActivityManager - FileAccessed - 40.83.137.154",
        "2021-03-27 15:44:25+00:00 - OfficeActivityManager - FileAccessed - 157.56.162.53",
        "2021-03-27 15:44:27+00:00 - OfficeActivityManager - FileModified - 40.83.137.154",
        "2021-03-27 15:44:28+00:00 - OfficeActivityManager - FileAccessed - 40.83.137.154",
        "2021-03-27 15:44:28+00:00 - OfficeActivityManager - FileAccessed - 157.56.162.53",
        "2021-03-27 15:44:30+00:00 - OfficeActivityManager - FileAccessed - 157.56.162.53",
        "2021-03-27 15:44:30+00:00 - OfficeActivityManager - FileModified - 40.83.137.154",
        "2021-03-27 15:44:34+00:00 - OfficeActivityManager - FileModified - 40.83.137.154",
        "2021-03-27 15:44:34+00:00 - OfficeActivityManager - FileAccessed - 157.56.162.53",
        "2021-03-27 15:44:37+00:00 - OfficeActivityManager - FileAccessed - 157.56.162.53",
        "2021-03-27 15:44:37+00:00 - OfficeActivityManager - FileAccessed - 40.83.137.154",
        "2021-03-27 15:44:37+00:00 - OfficeActivityManager - FileModified - 40.83.137.154",
        "2021-03-27 15:44:39+00:00 - OfficeActivityManager - FileModified - 40.83.137.154",
        "2021-03-27 15:44:39+00:00 - OfficeActivityManager - FileAccessed - 157.56.162.53",
        "2021-03-27 15:44:41+00:00 - OfficeActivityManager - FileModified - 40.83.137.154",
        "2021-03-27 15:44:42+00:00 - OfficeActivityManager - FileAccessed - 157.56.162.53",
        "2021-03-27 15:44:42+00:00 - OfficeActivityManager - FileAccessed - 40.83.137.154",
        "2021-03-27 15:44:45+00:00 - OfficeActivityManager - FileModified - 40.83.137.154",
        "2021-03-27 15:44:46+00:00 - OfficeActivityManager - FileAccessed - 157.56.162.53",
        "2021-03-27 15:44:47+00:00 - OfficeActivityManager - FileAccessed - 40.83.137.154",
        "2021-03-27 15:44:51+00:00 - OfficeActivityManager - FileModified - 40.83.137.154",
        "2021-03-27 15:44:51+00:00 - OfficeActivityManager - FileAccessed - 40.83.137.154",
        "2021-03-27 15:44:51+00:00 - OfficeActivityManager - FileAccessed - 157.56.162.53",
        "2021-03-27 15:44:53+00:00 - OfficeActivityManager - FileModified - 40.83.137.154",
        "2021-03-27 15:44:54+00:00 - OfficeActivityManager - FileAccessed - 157.56.162.53",
        "2021-03-27 15:44:56+00:00 - OfficeActivityManager - FileAccessed - 157.56.162.53",
        "2021-03-27 15:44:56+00:00 - OfficeActivityManager - FileModified - 40.83.137.154",
        "2021-03-27 15:44:57+00:00 - OfficeActivityManager - FileAccessed - 40.83.137.154",
        "2021-03-27 15:44:59+00:00 - OfficeActivityManager - FileModified - 40.83.137.154",
        "2021-03-27 15:44:59+00:00 - OfficeActivityManager - FileAccessed - 157.56.162.53",
        "2021-03-27 15:45:02+00:00 - OfficeActivityManager - FileAccessed - 40.83.137.154",
        "2021-03-27 15:45:05+00:00 - OfficeActivityManager - FileModified - 40.83.137.154",
        "2021-03-27 15:45:06+00:00 - OfficeActivityManager - FileAccessed - 157.56.162.53",
        "2021-03-27 15:45:10+00:00 - OfficeActivityManager - FileModified - 40.83.137.154",
        "2021-03-27 15:45:10+00:00 - OfficeActivityManager - FileAccessed - 157.56.162.53",
        "2021-03-27 15:45:14+00:00 - OfficeActivityManager - FileModified - 40.83.137.154",
        "2021-03-27 15:45:15+00:00 - OfficeActivityManager - FileAccessed - 157.56.162.53",
        "2021-03-27 15:45:17+00:00 - OfficeActivityManager - FileModified - 40.83.137.154",
        "2021-03-27 15:45:18+00:00 - OfficeActivityManager - FileAccessed - 40.83.137.154",
        "2021-03-27 15:45:18+00:00 - OfficeActivityManager - FileAccessed - 157.56.162.53",
        "2021-03-27 15:45:20+00:00 - OfficeActivityManager - FileModified - 40.83.137.154",
        "2021-03-27 15:45:20+00:00 - OfficeActivityManager - FileAccessed - 157.56.162.53",
        "2021-03-27 15:45:23+00:00 - OfficeActivityManager - FileModified - 40.83.137.154",
        "2021-03-27 15:45:23+00:00 - OfficeActivityManager - FileAccessed - 157.56.162.53",
        "2021-03-27 15:45:25+00:00 - OfficeActivityManager - FileModified - 40.83.137.154",
        "2021-03-27 15:45:26+00:00 - OfficeActivityManager - FileAccessed - 157.56.162.53",
        "2021-03-27 15:45:28+00:00 - OfficeActivityManager - FileModified - 40.83.137.154",
        "2021-03-27 15:45:28+00:00 - OfficeActivityManager - FileAccessed - 157.56.162.53",
        "2021-03-27 15:45:31+00:00 - OfficeActivityManager - FileModified - 40.83.137.154",
        "2021-03-27 16:08:23+00:00 - OfficeActivityManager - MailItemsAccessed - 40.91.208.65",
        "2021-03-27 17:08:26+00:00 - OfficeActivityManager - MailItemsAccessed - 40.91.208.65",
        "2021-03-27 18:08:33+00:00 - OfficeActivityManager - MailItemsAccessed - 40.91.208.65",
        "2021-03-27 19:08:41+00:00 - OfficeActivityManager - MailItemsAccessed - 40.91.208.65",
        "2021-03-27 20:08:48+00:00 - OfficeActivityManager - MailItemsAccessed - 40.91.208.65",
        "2021-03-27 21:08:55+00:00 - OfficeActivityManager - MailItemsAccessed - 40.91.208.65",
        "2021-03-27 22:09:03+00:00 - OfficeActivityManager - MailItemsAccessed - 40.91.208.65",
        "2021-03-27 23:09:13+00:00 - OfficeActivityManager - MailItemsAccessed - 40.91.208.65",
        "2021-03-28 00:09:19+00:00 - OfficeActivityManager - MailItemsAccessed - 40.91.208.65",
        "2021-03-28 01:09:29+00:00 - OfficeActivityManager - MailItemsAccessed - 40.91.208.65",
        "2021-03-28 02:01:55+00:00 - OfficeActivityManager - MailItemsAccessed - 52.154.174.161",
        "2021-03-28 02:02:01+00:00 - OfficeActivityManager - MailItemsAccessed - 52.154.174.163",
        "2021-03-28 02:02:07+00:00 - OfficeActivityManager - MailItemsAccessed - 52.154.174.161",
        "2021-03-28 02:02:08+00:00 - OfficeActivityManager - MailItemsAccessed - 52.154.174.167",
        "2021-03-28 02:09:37+00:00 - OfficeActivityManager - MailItemsAccessed - 40.91.208.65",
        "2021-03-28 03:09:45+00:00 - OfficeActivityManager - MailItemsAccessed - 40.91.208.65",
        "2021-03-28 04:09:52+00:00 - OfficeActivityManager - MailItemsAccessed - 40.91.208.65",
        "2021-03-28 05:09:59+00:00 - OfficeActivityManager - MailItemsAccessed - 40.91.208.65",
        "2021-03-28 06:10:10+00:00 - OfficeActivityManager - MailItemsAccessed - 40.91.208.65",
        "2021-03-28 07:07:54+00:00 - OfficeActivityManager - MailItemsAccessed - 2603:10b6:5:38::21",
        "2021-03-28 07:10:18+00:00 - OfficeActivityManager - MailItemsAccessed - 40.91.208.65",
        "2021-03-28 08:07:12+00:00 - OfficeActivityManager - Send - 104.209.247.23",
        "2021-03-28 08:07:25+00:00 - OfficeActivityManager - MailItemsAccessed - 40.91.208.65",
        "2021-03-28 08:38:55+00:00 - OfficeActivityManager - MailItemsAccessed - 2603:10b6:5:1b3:cafe::24",
        "2021-03-28 09:07:32+00:00 - OfficeActivityManager - MailItemsAccessed - 40.91.208.65",
        "2021-03-28 10:07:37+00:00 - OfficeActivityManager - MailItemsAccessed - 40.91.208.65",
        "2021-03-28 10:16:38+00:00 - OfficeActivityManager - MailItemsAccessed - 40.91.208.65",
        "2021-03-28 11:16:46+00:00 - OfficeActivityManager - MailItemsAccessed - 40.91.208.65",
        "2021-03-28 12:06:18+00:00 - OfficeActivityManager - MailItemsAccessed - 2603:10b6:5:296:cafe::6c",
        "2021-03-28 12:06:21+00:00 - OfficeActivityManager - MailItemsAccessed - 2603:10b6:4:2:cafe::31",
        "2021-03-28 12:06:21+00:00 - OfficeActivityManager - MailItemsAccessed - 2603:10b6:4:2:cafe::9e",
        "2021-03-28 12:06:22+00:00 - OfficeActivityManager - MailItemsAccessed - 2603:10b6:5:1b4:cafe::dd",
        "2021-03-28 12:16:54+00:00 - OfficeActivityManager - MailItemsAccessed - 40.91.208.65",
        "2021-03-28 13:17:02+00:00 - OfficeActivityManager - MailItemsAccessed - 40.91.208.65",
        "2021-03-28 14:17:11+00:00 - OfficeActivityManager - MailItemsAccessed - 40.91.208.65",
        "2021-03-28 15:17:18+00:00 - OfficeActivityManager - MailItemsAccessed - 40.91.208.65",
        "2021-03-28 15:44:06+00:00 - OfficeActivityManager - FileAccessed - 157.56.162.53",
        "2021-03-28 15:44:07+00:00 - OfficeActivityManager - FileAccessed - 40.83.137.154",
        "2021-03-28 15:44:10+00:00 - OfficeActivityManager - FileModified - 40.83.137.154",
        "2021-03-28 15:44:11+00:00 - OfficeActivityManager - FileAccessed - 40.83.137.154",
        "2021-03-28 15:44:11+00:00 - OfficeActivityManager - FileAccessed - 157.56.162.53",
        "2021-03-28 15:44:14+00:00 - OfficeActivityManager - FileModified - 40.83.137.154",
        "2021-03-28 15:44:16+00:00 - OfficeActivityManager - FileAccessed - 40.83.137.154",
        "2021-03-28 15:44:16+00:00 - OfficeActivityManager - FileAccessed - 157.56.162.53",
        "2021-03-28 15:44:19+00:00 - OfficeActivityManager - FileAccessed - 157.56.162.53",
        "2021-03-28 15:44:19+00:00 - OfficeActivityManager - FileAccessed - 40.83.137.154",
        "2021-03-28 15:44:19+00:00 - OfficeActivityManager - FileModified - 40.83.137.154",
        "2021-03-28 15:44:22+00:00 - OfficeActivityManager - FileAccessed - 157.56.162.53",
        "2021-03-28 15:44:22+00:00 - OfficeActivityManager - FileModified - 40.83.137.154",
        "2021-03-28 15:44:22+00:00 - OfficeActivityManager - FileAccessed - 40.83.137.154",
        "2021-03-28 15:44:24+00:00 - OfficeActivityManager - FileModified - 40.83.137.154",
        "2021-03-28 15:44:25+00:00 - OfficeActivityManager - FileAccessed - 157.56.162.53",
        "2021-03-28 15:44:26+00:00 - OfficeActivityManager - FileAccessed - 40.83.137.154",
        "2021-03-28 15:44:28+00:00 - OfficeActivityManager - FileModified - 40.83.137.154",
        "2021-03-28 15:44:28+00:00 - OfficeActivityManager - FileAccessed - 40.83.137.154",
        "2021-03-28 15:44:28+00:00 - OfficeActivityManager - FileAccessed - 157.56.162.53",
        "2021-03-28 15:44:30+00:00 - OfficeActivityManager - FileModified - 40.83.137.154",
        "2021-03-28 15:44:31+00:00 - OfficeActivityManager - FileAccessed - 157.56.162.53",
        "2021-03-28 15:44:36+00:00 - OfficeActivityManager - FileAccessed - 157.56.162.53",
        "2021-03-28 15:44:36+00:00 - OfficeActivityManager - FileModified - 40.83.137.154",
        "2021-03-28 15:44:38+00:00 - OfficeActivityManager - FileModified - 40.83.137.154",
        "2021-03-28 15:44:39+00:00 - OfficeActivityManager - FileAccessed - 157.56.162.53",
        "2021-03-28 15:44:39+00:00 - OfficeActivityManager - FileAccessed - 40.83.137.154",
        "2021-03-28 15:44:41+00:00 - OfficeActivityManager - FileAccessed - 157.56.162.53",
        "2021-03-28 15:44:41+00:00 - OfficeActivityManager - FileModified - 40.83.137.154",
        "2021-03-28 15:44:43+00:00 - OfficeActivityManager - FileModified - 40.83.137.154",
        "2021-03-28 15:44:44+00:00 - OfficeActivityManager - FileAccessed - 40.83.137.154",
        "2021-03-28 15:44:44+00:00 - OfficeActivityManager - FileAccessed - 157.56.162.53",
        "2021-03-28 15:44:48+00:00 - OfficeActivityManager - FileModified - 40.83.137.154",
        "2021-03-28 15:44:49+00:00 - OfficeActivityManager - FileAccessed - 157.56.162.53",
        "2021-03-28 15:44:51+00:00 - OfficeActivityManager - FileAccessed - 40.83.137.154",
        "2021-03-28 15:44:55+00:00 - OfficeActivityManager - FileModified - 40.83.137.154",
        "2021-03-28 15:44:56+00:00 - OfficeActivityManager - FileAccessed - 157.56.162.53",
        "2021-03-28 15:44:57+00:00 - OfficeActivityManager - FileAccessed - 40.83.137.154",
        "2021-03-28 15:44:59+00:00 - OfficeActivityManager - FileModified - 40.83.137.154",
        "2021-03-28 15:44:59+00:00 - OfficeActivityManager - FileAccessed - 157.56.162.53",
        "2021-03-28 15:45:02+00:00 - OfficeActivityManager - FileModified - 40.83.137.154",
        "2021-03-28 15:45:03+00:00 - OfficeActivityManager - FileAccessed - 40.83.137.154",
        "2021-03-28 15:45:03+00:00 - OfficeActivityManager - FileAccessed - 157.56.162.53",
        "2021-03-28 15:45:05+00:00 - OfficeActivityManager - FileModified - 40.83.137.154",
        "2021-03-28 15:45:06+00:00 - OfficeActivityManager - FileAccessed - 157.56.162.53",
        "2021-03-28 15:45:07+00:00 - OfficeActivityManager - FileAccessed - 40.83.137.154",
        "2021-03-28 15:45:10+00:00 - OfficeActivityManager - FileModified - 40.83.137.154",
        "2021-03-28 15:45:10+00:00 - OfficeActivityManager - FileAccessed - 157.56.162.53",
        "2021-03-28 15:45:14+00:00 - OfficeActivityManager - FileModified - 40.83.137.154",
        "2021-03-28 15:45:14+00:00 - OfficeActivityManager - FileAccessed - 157.56.162.53",
        "2021-03-28 15:45:18+00:00 - OfficeActivityManager - FileModified - 40.83.137.154",
        "2021-03-28 15:45:18+00:00 - OfficeActivityManager - FileAccessed - 157.56.162.53",
        "2021-03-28 15:45:21+00:00 - OfficeActivityManager - FileModified - 40.83.137.154",
        "2021-03-28 15:45:21+00:00 - OfficeActivityManager - FileAccessed - 157.56.162.53",
        "2021-03-28 15:45:22+00:00 - OfficeActivityManager - FileAccessed - 40.83.137.154",
        "2021-03-28 15:45:24+00:00 - OfficeActivityManager - FileModified - 40.83.137.154",
        "2021-03-28 15:45:24+00:00 - OfficeActivityManager - FileAccessed - 157.56.162.53",
        "2021-03-28 15:45:27+00:00 - OfficeActivityManager - FileModified - 40.83.137.154",
        "2021-03-28 15:45:27+00:00 - OfficeActivityManager - FileAccessed - 157.56.162.53",
        "2021-03-28 15:45:29+00:00 - OfficeActivityManager - FileModified - 40.83.137.154",
        "2021-03-28 15:45:30+00:00 - OfficeActivityManager - FileAccessed - 157.56.162.53",
        "2021-03-28 15:45:32+00:00 - OfficeActivityManager - FileAccessed - 157.56.162.53",
        "2021-03-28 15:45:32+00:00 - OfficeActivityManager - FileModified - 40.83.137.154",
        "2021-03-28 15:45:34+00:00 - OfficeActivityManager - FileModified - 40.83.137.154",
        "2021-03-28 16:17:23+00:00 - OfficeActivityManager - MailItemsAccessed - 40.91.208.65",
        "2021-03-28 17:17:31+00:00 - OfficeActivityManager - MailItemsAccessed - 40.91.208.65",
        "2021-03-28 18:17:38+00:00 - OfficeActivityManager - MailItemsAccessed - 40.91.208.65",
        "2021-03-28 19:17:44+00:00 - OfficeActivityManager - MailItemsAccessed - 40.91.208.65",
        "2021-03-28 20:17:52+00:00 - OfficeActivityManager - MailItemsAccessed - 40.91.208.65",
        "2021-03-28 21:17:58+00:00 - OfficeActivityManager - MailItemsAccessed - 40.91.208.65",
        "2021-03-28 22:18:06+00:00 - OfficeActivityManager - MailItemsAccessed - 40.91.208.65",
        "2021-03-28 23:18:12+00:00 - OfficeActivityManager - MailItemsAccessed - 40.91.208.65",
        "2021-03-29 00:18:20+00:00 - OfficeActivityManager - MailItemsAccessed - 40.91.208.65",
        "2021-03-29 01:18:31+00:00 - OfficeActivityManager - MailItemsAccessed - 40.91.208.65",
        "2021-03-29 02:18:40+00:00 - OfficeActivityManager - MailItemsAccessed - 40.91.208.65",
        "2021-03-29 03:18:48+00:00 - OfficeActivityManager - MailItemsAccessed - 40.91.208.65",
        "2021-03-29 03:21:31+00:00 - OfficeActivityManager - MailItemsAccessed - 2603:10b6:5:256::23",
        "2021-03-29 04:18:59+00:00 - OfficeActivityManager - MailItemsAccessed - 40.91.208.65",
        "2021-03-29 04:39:06+00:00 - OfficeActivityManager - MailItemsAccessed - 2603:10b6:5:3ad:cafe::c4",
        "2021-03-29 05:19:07+00:00 - OfficeActivityManager - MailItemsAccessed - 40.91.208.65",
        "2021-03-29 06:19:26+00:00 - OfficeActivityManager - MailItemsAccessed - 40.91.208.65",
        "2021-03-29 07:19:51+00:00 - OfficeActivityManager - MailItemsAccessed - 40.91.208.65",
        "2021-03-29 08:07:11+00:00 - OfficeActivityManager - Send - 104.209.247.23",
        "2021-03-29 08:08:38+00:00 - OfficeActivityManager - MailItemsAccessed - 40.91.208.65",
        "2021-03-29 09:09:40+00:00 - OfficeActivityManager - MailItemsAccessed - 40.91.208.65",
        "2021-03-29 10:09:49+00:00 - OfficeActivityManager - MailItemsAccessed - 40.91.208.65",
        "2021-03-29 11:09:57+00:00 - OfficeActivityManager - MailItemsAccessed - 40.91.208.65",
        "2021-03-29 11:43:03+00:00 - OfficeActivityManager - MailItemsAccessed - 40.91.208.65",
        "2021-03-29 12:16:03+00:00 - OfficeActivityManager - MailItemsAccessed - 40.91.208.65",
        "2021-03-29 13:16:09+00:00 - OfficeActivityManager - MailItemsAccessed - 40.91.208.65",
        "2021-03-29 13:16:48.519000+00:00 - Azure AD - Sign-in activity - 109.88.218.99",
        "2021-03-29 13:17:15.132000+00:00 - Azure AD - Sign-in activity - 109.88.218.99",
        "2021-03-29 13:17:16.426000+00:00 - Azure AD - Sign-in activity - 109.88.218.99",
        "2021-03-29 13:17:17.507000+00:00 - Azure AD - Sign-in activity - 109.88.218.99",
        "2021-03-29 14:04:17.744000+00:00 - Azure AD - Sign-in activity - 109.88.218.99",
        "2021-03-29 14:10:13+00:00 - OfficeActivityManager - MailItemsAccessed - 40.91.208.65",
        "2021-03-29 14:58:37+00:00 - OfficeActivityManager - MailItemsAccessed - 2603:10b6:5:40:cafe::8f",
        "2021-03-29 15:01:32+00:00 - OfficeActivityManager - MailItemsAccessed - 2603:10b6:5:40:cafe::2e",
        "2021-03-29 15:01:32+00:00 - OfficeActivityManager - MailItemsAccessed - 2603:10b6:5:40:cafe::17",
        "2021-03-29 15:01:33+00:00 - OfficeActivityManager - MailItemsAccessed - 2603:10b6:5:336:cafe::94",
        "2021-03-29 15:10:19+00:00 - OfficeActivityManager - MailItemsAccessed - 40.91.208.65",
        "2021-03-29 15:44:07+00:00 - OfficeActivityManager - FileAccessed - 157.56.162.53",
        "2021-03-29 15:44:09+00:00 - OfficeActivityManager - FileAccessed - 40.83.137.154",
        "2021-03-29 15:44:14+00:00 - OfficeActivityManager - FileModified - 40.83.137.154",
        "2021-03-29 15:44:15+00:00 - OfficeActivityManager - FileAccessed - 157.56.162.53",
        "2021-03-29 15:44:15+00:00 - OfficeActivityManager - FileAccessed - 40.83.137.154",
        "2021-03-29 15:44:18+00:00 - OfficeActivityManager - FileAccessed - 157.56.162.53",
        "2021-03-29 15:44:18+00:00 - OfficeActivityManager - FileModified - 40.83.137.154",
        "2021-03-29 15:44:19+00:00 - OfficeActivityManager - FileAccessed - 40.83.137.154",
        "2021-03-29 15:44:21+00:00 - OfficeActivityManager - FileModified - 40.83.137.154",
        "2021-03-29 15:44:21+00:00 - OfficeActivityManager - FileAccessed - 157.56.162.53",
        "2021-03-29 15:44:22+00:00 - OfficeActivityManager - FileAccessed - 40.83.137.154",
        "2021-03-29 15:44:24+00:00 - OfficeActivityManager - FileModified - 40.83.137.154",
        "2021-03-29 15:44:25+00:00 - OfficeActivityManager - FileAccessed - 40.83.137.154",
        "2021-03-29 15:44:25+00:00 - OfficeActivityManager - FileAccessed - 157.56.162.53",
        "2021-03-29 15:44:27+00:00 - OfficeActivityManager - FileModified - 40.83.137.154",
        "2021-03-29 15:44:28+00:00 - OfficeActivityManager - FileAccessed - 40.83.137.154",
        "2021-03-29 15:44:28+00:00 - OfficeActivityManager - FileAccessed - 157.56.162.53",
        "2021-03-29 15:44:31+00:00 - OfficeActivityManager - FileAccessed - 40.83.137.154",
        "2021-03-29 15:44:31+00:00 - OfficeActivityManager - FileModified - 40.83.137.154",
        "2021-03-29 15:44:31+00:00 - OfficeActivityManager - FileAccessed - 157.56.162.53",
        "2021-03-29 15:44:34+00:00 - OfficeActivityManager - FileAccessed - 157.56.162.53",
        "2021-03-29 15:44:34+00:00 - OfficeActivityManager - FileModified - 40.83.137.154",
        "2021-03-29 15:44:37+00:00 - OfficeActivityManager - FileAccessed - 157.56.162.53",
        "2021-03-29 15:44:37+00:00 - OfficeActivityManager - FileModified - 40.83.137.154",
        "2021-03-29 15:44:39+00:00 - OfficeActivityManager - FileModified - 40.83.137.154",
        "2021-03-29 15:44:40+00:00 - OfficeActivityManager - FileAccessed - 40.83.137.154",
        "2021-03-29 15:44:40+00:00 - OfficeActivityManager - FileAccessed - 157.56.162.53",
        "2021-03-29 15:44:42+00:00 - OfficeActivityManager - FileModified - 40.83.137.154",
        "2021-03-29 15:44:42+00:00 - OfficeActivityManager - FileAccessed - 157.56.162.53",
        "2021-03-29 15:44:45+00:00 - OfficeActivityManager - FileAccessed - 157.56.162.53",
        "2021-03-29 15:44:45+00:00 - OfficeActivityManager - FileModified - 40.83.137.154",
        "2021-03-29 15:44:46+00:00 - OfficeActivityManager - FileAccessed - 40.83.137.154",
        "2021-03-29 15:44:48+00:00 - OfficeActivityManager - FileModified - 40.83.137.154",
        "2021-03-29 15:44:49+00:00 - OfficeActivityManager - FileAccessed - 157.56.162.53",
        "2021-03-29 15:44:50+00:00 - OfficeActivityManager - FileAccessed - 40.83.137.154",
        "2021-03-29 15:44:54+00:00 - OfficeActivityManager - FileModified - 40.83.137.154",
        "2021-03-29 15:44:55+00:00 - OfficeActivityManager - FileAccessed - 157.56.162.53",
        "2021-03-29 15:44:55+00:00 - OfficeActivityManager - FileAccessed - 40.83.137.154",
        "2021-03-29 15:44:57+00:00 - OfficeActivityManager - FileModified - 40.83.137.154",
        "2021-03-29 15:44:58+00:00 - OfficeActivityManager - FileAccessed - 157.56.162.53",
        "2021-03-29 15:45:00+00:00 - OfficeActivityManager - FileAccessed - 157.56.162.53",
        "2021-03-29 15:45:00+00:00 - OfficeActivityManager - FileModified - 40.83.137.154",
        "2021-03-29 15:45:01+00:00 - OfficeActivityManager - FileAccessed - 40.83.137.154",
        "2021-03-29 15:45:03+00:00 - OfficeActivityManager - FileModified - 40.83.137.154",
        "2021-03-29 15:45:03+00:00 - OfficeActivityManager - FileAccessed - 157.56.162.53",
        "2021-03-29 15:45:04+00:00 - OfficeActivityManager - FileAccessed - 40.83.137.154",
        "2021-03-29 15:45:07+00:00 - OfficeActivityManager - FileModified - 40.83.137.154",
        "2021-03-29 15:45:08+00:00 - OfficeActivityManager - FileAccessed - 157.56.162.53",
        "2021-03-29 15:45:14+00:00 - OfficeActivityManager - FileModified - 40.83.137.154",
        "2021-03-29 15:45:15+00:00 - OfficeActivityManager - FileAccessed - 157.56.162.53",
        "2021-03-29 15:45:17+00:00 - OfficeActivityManager - FileModified - 40.83.137.154",
        "2021-03-29 15:45:18+00:00 - OfficeActivityManager - FileAccessed - 157.56.162.53",
        "2021-03-29 15:45:21+00:00 - OfficeActivityManager - FileModified - 40.83.137.154",
        "2021-03-29 15:45:22+00:00 - OfficeActivityManager - FileAccessed - 40.83.137.154",
        "2021-03-29 15:45:22+00:00 - OfficeActivityManager - FileAccessed - 157.56.162.53",
        "2021-03-29 15:45:24+00:00 - OfficeActivityManager - FileModified - 40.83.137.154",
        "2021-03-29 15:45:25+00:00 - OfficeActivityManager - FileAccessed - 157.56.162.53",
        "2021-03-29 15:45:27+00:00 - OfficeActivityManager - FileModified - 40.83.137.154",
        "2021-03-29 15:45:28+00:00 - OfficeActivityManager - FileAccessed - 157.56.162.53",
        "2021-03-29 15:45:30+00:00 - OfficeActivityManager - FileModified - 40.83.137.154",
        "2021-03-29 15:45:30+00:00 - OfficeActivityManager - FileAccessed - 157.56.162.53",
        "2021-03-29 15:45:32+00:00 - OfficeActivityManager - FileModified - 40.83.137.154",
        "2021-03-29 15:45:32+00:00 - OfficeActivityManager - FileAccessed - 157.56.162.53",
        "2021-03-29 15:45:35+00:00 - OfficeActivityManager - FileModified - 40.83.137.154",
        "2021-03-29 16:10:24+00:00 - OfficeActivityManager - MailItemsAccessed - 40.91.208.65",
        "2021-03-29 17:10:31+00:00 - OfficeActivityManager - MailItemsAccessed - 40.91.208.65",
        "2021-03-29 18:10:41+00:00 - OfficeActivityManager - MailItemsAccessed - 40.91.208.65",
        "2021-03-29 18:49:12.110000+00:00 - Azure AD - Sign-in activity - 109.88.218.99",
        "2021-03-29 19:11:06+00:00 - OfficeActivityManager - MailItemsAccessed - 40.91.208.65",
        "2021-03-29 20:11:26+00:00 - OfficeActivityManager - MailItemsAccessed - 40.91.208.65",
        "2021-03-29 21:11:42+00:00 - OfficeActivityManager - MailItemsAccessed - 40.91.208.65",
        "2021-03-29 22:12:02+00:00 - OfficeActivityManager - MailItemsAccessed - 40.91.208.65"
       ],
       "description": "Select an item",
       "index": 0,
       "layout": "IPY_MODEL_c336be281d6a45f190f5d1fe005cd9e0",
       "style": "IPY_MODEL_2eed3cc91838411bac9b6e6511eef804"
      }
     },
     "f6d61cf18c0f4397ae7a003dc54ec01d": {
      "model_module": "@jupyter-widgets/base",
      "model_module_version": "1.2.0",
      "model_name": "LayoutModel",
      "state": {}
     },
     "f72c3e67138a4e0a8baad2d7e90ca77d": {
      "model_module": "@jupyter-widgets/controls",
      "model_module_version": "1.5.0",
      "model_name": "DescriptionStyleModel",
      "state": {
       "description_width": ""
      }
     },
     "f7e834ed5b924e849715022f1a46589b": {
      "model_module": "@jupyter-widgets/controls",
      "model_module_version": "1.5.0",
      "model_name": "DescriptionStyleModel",
      "state": {
       "description_width": ""
      }
     },
     "f8e46ae3dbbc4ea1996c880823dc2de9": {
      "model_module": "@jupyter-widgets/base",
      "model_module_version": "1.2.0",
      "model_name": "LayoutModel",
      "state": {}
     },
     "f92cdd059e6640e0b6249e630b957474": {
      "model_module": "@jupyter-widgets/controls",
      "model_module_version": "1.5.0",
      "model_name": "TextModel",
      "state": {
       "description": "Filter:",
       "layout": "IPY_MODEL_e00dff5dc9684f278edf4e5d92899ba9",
       "style": "IPY_MODEL_dfcbcf7f63c640dfad30404eaea48f70"
      }
     },
     "f9f3d9d664e04686826e79b4c8a20f39": {
      "model_module": "@jupyter-widgets/controls",
      "model_module_version": "1.5.0",
      "model_name": "DescriptionStyleModel",
      "state": {
       "description_width": "initial"
      }
     },
     "fa747a5c3a974b87b7bb3165172f453a": {
      "model_module": "@jupyter-widgets/controls",
      "model_module_version": "1.5.0",
      "model_name": "DescriptionStyleModel",
      "state": {
       "description_width": "initial"
      }
     },
     "fadafa374d3441bda50dcc67e9b8ca67": {
      "model_module": "@jupyter-widgets/controls",
      "model_module_version": "1.5.0",
      "model_name": "DescriptionStyleModel",
      "state": {
       "description_width": "initial"
      }
     },
     "fccdc36024694ba3a424953bf10b01e4": {
      "model_module": "@jupyter-widgets/base",
      "model_module_version": "1.2.0",
      "model_name": "LayoutModel",
      "state": {}
     },
     "fd896fcb0fda4f22ab405c94e4f412f9": {
      "model_module": "@jupyter-widgets/controls",
      "model_module_version": "1.5.0",
      "model_name": "TextModel",
      "state": {
       "description": "Filter alerts by title:",
       "layout": "IPY_MODEL_4cced31e00f74649917c29b874ac0006",
       "style": "IPY_MODEL_27864be26030485dbb099614d05303e1"
      }
     },
     "fdd252a7851a4ad19692e1a3fce4e8b2": {
      "model_module": "@jupyter-widgets/controls",
      "model_module_version": "1.5.0",
      "model_name": "TextModel",
      "state": {
       "description": "Filter:",
       "layout": "IPY_MODEL_46642acc6c044fe3840b84e204ebbfeb",
       "style": "IPY_MODEL_2f7c5c8970b549de9bac48091c3f42f6"
      }
     },
     "fde36d1871774ef1bbd5c03caf062d15": {
      "model_module": "@jupyter-widgets/controls",
      "model_module_version": "1.5.0",
      "model_name": "DescriptionStyleModel",
      "state": {
       "description_width": "initial"
      }
     }
    },
    "version_major": 2,
    "version_minor": 0
   }
  }
 },
 "nbformat": 4,
 "nbformat_minor": 4
}
