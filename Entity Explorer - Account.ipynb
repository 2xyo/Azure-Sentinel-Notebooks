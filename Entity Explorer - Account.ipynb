{
 "cells": [
  {
   "cell_type": "markdown",
   "metadata": {},
   "source": [
    "# Entity Explorer - Account\n",
    " <details>\n",
    "     <summary>&nbsp;<u>Details...</u></summary>\n",
    "\n",
    " **Notebook Version:** 1.0<br>\n",
    " **Python Version:** Python 3.6 (including Python 3.6 - AzureML)<br>\n",
    " **Required Packages**: kqlmagic, msticpy, pandas, numpy, matplotlib, networkx, ipywidgets, ipython, dnspython, ipwhois, folium, maxminddb_geolite2<br>\n",
    " **Platforms Supported**:\n",
    " - Azure Notebooks Free Compute\n",
    " - Azure Notebooks DSVM\n",
    " - OS Independent\n",
    "\n",
    " **Data Sources Required**:\n",
    " - Log Analytics - SecurityAlert, SecurityEvent, HuntingBookmark, Syslog, AAD SigninLogs, AzureActivity, OfficeActivity, ThreatIndicator\n",
    " - (Optional) - VirusTotal, AlienVault OTX, IBM XForce, Open Page Rank, (all require accounts and API keys)\n",
    " </details>\n",
    "\n",
    " Brings together a series of queries and visualizations to help you determine the security state of an Account. The account can be a Windows or Linux account or an Azure Active Directory/Office 365 account.\n",
    "\n",
    "The Notebook contains sections for reviewing activity for Host accounts (Linux and Windows) and for Azure Active Directory accounts. It also has a general section that looks for related items independent of the account type."
   ]
  },
  {
   "cell_type": "markdown",
   "metadata": {
    "toc": true
   },
   "source": [
    "<!DOCTYPE html>\n",
    "<html>\n",
    "  <head>\n",
    "  </head>\n",
    "  <body>\n",
    "    <h1>Contents<span class=\"tocSkip\"></span></h1>\n",
    "    <div class=\"toc\">\n",
    "      <ul class=\"toc-item\">\n",
    "        <li><span><a href=\"#Hunting-Hypothesis\">Hunting Hypothesis</a></span></li>\n",
    "        <li><span><a href=\"#Notebook-initialization\">Notebook initialization</a></span></li>\n",
    "        <li><span><a href=\"#Enter-account-name-and-query-time\">Enter account\n",
    "              name and query time</a></span></li>\n",
    "        <li><span><a href=\"#Run-the-main-account_summary-function\">Run the main\n",
    "              account_summary function</a></span></li>\n",
    "        <li><span><a href=\"#Retrieve-additional-data-for-the-selected-account\">Retrieve\n",
    "              additional data for the selected account</a></span></li>\n",
    "        <li><span><a href=\"#Browse-alerts\">Browse alerts</a></span></li>\n",
    "        <li><span><a href=\"#Browse-other-event-data\">Browse other event data</a></span></li>\n",
    "        <li><span><a href=\"#Additional-properties-and-methods-of-the-result-object\">\n",
    "              Additional properties and methods of the result object<br>\n",
    "            </a></span></li>\n",
    "        <li><span><a href=\"#Viewing-the-Result-class\">Viewing the Result class</a></span></li>\n",
    "        <li><span><a href=\"#Use-other-notebooklets-and-pivots-functions-to-drill-down-on-other-entities\">\n",
    "              Use other notebooklets and pivots functions to drill down on other\n",
    "              entities</a></span></li>\n",
    "        <li><span><a href=\"#More-information\">More information</a></span></li>\n",
    "      </ul>\n",
    "    </div>\n",
    "    \n",
    "  </body>\n",
    "</html>\n"
   ]
  },
  {
   "cell_type": "markdown",
   "metadata": {},
   "source": [
    "## Hunting Hypothesis\n",
    "Our broad initial hunting hypothesis is that a we have received account name entity which is suspected to be compromised and is being used malicious manner in internal networks, we will need to hunt from a range of different positions to validate or disprove this hypothesis."
   ]
  },
  {
   "cell_type": "markdown",
   "metadata": {},
   "source": [
    "---\n",
    "# Notebook initialization\n",
    "This should complete without errors. If you encounter errors or warnings look at the following notebooks:\n",
    "\n",
    "- <a href=\"https://github.com/Azure/Azure-Sentinel-Notebooks/blob/master/A%20Getting%20Started%20Guide%20For%20Azure%20Sentinel%20ML%20Notebooks.ipynb\">Getting Started Notebook</a>\n",
    "- [TroubleShootingNotebooks](https://github.com/Azure/Azure-Sentinel-Notebooks/blob/master/TroubleShootingNotebooks.ipynb)\n",
    "- [ConfiguringNotebookEnvironment](https://github.com/Azure/Azure-Sentinel-Notebooks/blob/master/ConfiguringNotebookEnvironment.ipynb)\n",
    "\n",
    "<details>\n",
    "    <summary>&nbsp;<u>Details...</u></summary>\n",
    "The next cell:\n",
    "- Checks for the correct Python version\n",
    "- Checks versions and optionally installs required packages\n",
    "- Imports the required packages into the notebook\n",
    "- Sets a number of configuration options.\n",
    "\n",
    "If you are running in the Azure Sentinel Notebooks environment (Azure Notebooks or Azure ML) you can run live versions of these notebooks:\n",
    "- [Getting Started](./A Getting Started Guide For Azure Sentinel ML Notebooks.ipynb)\n",
    "- [Run TroubleShootingNotebooks](./TroubleShootingNotebooks.ipynb)\n",
    "- [Run ConfiguringNotebookEnvironment](./ConfiguringNotebookEnvironment.ipynb)\n",
    "\n",
    "You may also need to do some additional configuration to successfully use functions such as Threat Intelligence service lookup and Geo IP lookup. \n",
    "There are more details about this in the `ConfiguringNotebookEnvironment` notebook and in these documents:\n",
    "- [msticpy configuration](https://msticpy.readthedocs.io/en/latest/getting_started/msticpyconfig.html)\n",
    "- [Threat intelligence provider configuration](https://msticpy.readthedocs.io/en/latest/data_acquisition/TIProviders.html#configuration-file)\n",
    "</details>"
   ]
  },
  {
   "cell_type": "code",
   "execution_count": 1,
   "metadata": {},
   "outputs": [
    {
     "data": {
      "text/html": [
       "<h3>Starting Notebook setup...</h3>"
      ],
      "text/plain": [
       "<IPython.core.display.HTML object>"
      ]
     },
     "metadata": {},
     "output_type": "display_data"
    },
    {
     "data": {
      "text/html": [
       "<hr><h4>Starting Notebook initialization...</h4>"
      ],
      "text/plain": [
       "<IPython.core.display.HTML object>"
      ]
     },
     "metadata": {},
     "output_type": "display_data"
    },
    {
     "data": {
      "text/html": [
       "msticpy version installed: 1.2.0 latest published: 1.2.1<br>A newer version of msticpy - 1.2.1 is available.<br>Upgrade with pip install --upgrade msticpy<br> <br>"
      ],
      "text/plain": [
       "<IPython.core.display.HTML object>"
      ]
     },
     "metadata": {},
     "output_type": "display_data"
    },
    {
     "data": {
      "text/html": [
       "Processing imports.... <br>"
      ],
      "text/plain": [
       "<IPython.core.display.HTML object>"
      ]
     },
     "metadata": {},
     "output_type": "display_data"
    },
    {
     "name": "stdout",
     "output_type": "stream",
     "text": [
      "All packages are already installed\n"
     ]
    },
    {
     "data": {
      "text/html": [
       "Imported: pd (pandas), IPython.get_ipython, IPython.display.display, IPython.display.HTML, IPython.display.Markdown, widgets (ipywidgets), pathlib.Path, plt (matplotlib.pyplot), matplotlib.MatplotlibDeprecationWarning, sns (seaborn), np (numpy), msticpy.data.QueryProvider, msticpy.nbtools.foliummap.FoliumMap, msticpy.common.utility.md, msticpy.common.utility.md_warn, msticpy.common.wsconfig.WorkspaceConfig, msticpy.datamodel.pivot.Pivot, msticpy.datamodel.entities <br>"
      ],
      "text/plain": [
       "<IPython.core.display.HTML object>"
      ]
     },
     "metadata": {},
     "output_type": "display_data"
    },
    {
     "data": {
      "text/html": [
       "Checking configuration.... <br>"
      ],
      "text/plain": [
       "<IPython.core.display.HTML object>"
      ]
     },
     "metadata": {},
     "output_type": "display_data"
    },
    {
     "data": {
      "text/html": [
       "Setting notebook options.... <br>"
      ],
      "text/plain": [
       "<IPython.core.display.HTML object>"
      ]
     },
     "metadata": {},
     "output_type": "display_data"
    },
    {
     "data": {
      "text/html": [
       " <br>"
      ],
      "text/plain": [
       "<IPython.core.display.HTML object>"
      ]
     },
     "metadata": {},
     "output_type": "display_data"
    },
    {
     "data": {
      "text/html": [
       "<h4>Notebook initialization complete</h4>"
      ],
      "text/plain": [
       "<IPython.core.display.HTML object>"
      ]
     },
     "metadata": {},
     "output_type": "display_data"
    }
   ],
   "source": [
    "from pathlib import Path\n",
    "from IPython.display import display, HTML\n",
    "\n",
    "REQ_PYTHON_VER=(3, 6)\n",
    "REQ_MSTICPY_VER=(1, 0, 0)\n",
    "\n",
    "display(HTML(\"<h3>Starting Notebook setup...</h3>\"))\n",
    "if Path(\"./utils/nb_check.py\").is_file():\n",
    "    from utils.nb_check import check_versions\n",
    "    check_versions(REQ_PYTHON_VER, REQ_MSTICPY_VER, extras=[\"azsentinel\"])\n",
    "\n",
    "# You may need to manually install msticpy with\n",
    "# !pip install msticpy[azsentinel]\n",
    "\n",
    "from msticpy.nbtools import nbinit\n",
    "nbinit.init_notebook(\n",
    "    namespace=globals(),\n",
    "    additional_packages=[\"msticnb>=0.2\"],\n",
    ");\n"
   ]
  },
  {
   "cell_type": "markdown",
   "metadata": {},
   "source": [
    "### Get Workspace and Authenticate\n",
    "<details>\n",
    "    <summary>&nbsp;<u>Details...</u></summary>\n",
    "If you are using user/device authentication, run the following cell. \n",
    "- Click the 'Copy code to clipboard and authenticate' button.<br>\n",
    "- This will pop up an Azure Active Directory authentication dialog (in a new tab or browser window). The device code will have been copied to the clipboard. <br>\n",
    "- Select the text box and paste (Ctrl-V/Cmd-V) the copied value. <br>\n",
    "- You should then be redirected to a user authentication page where you should authenticate with a user account that has permission to query your Log Analytics workspace.<br>\n",
    "\n",
    "Use the following syntax if you are authenticating using an Azure Active Directory AppId and Secret:\n",
    "```\n",
    "%kql loganalytics://tenant(aad_tenant).workspace(WORKSPACE_ID).clientid(client_id).clientsecret(client_secret)\n",
    "```\n",
    "instead of\n",
    "```\n",
    "%kql loganalytics://code().workspace(WORKSPACE_ID)\n",
    "```\n",
    "\n",
    "Note: you may occasionally see a JavaScript warning displayed at the end of the authentication - you can safely ignore this.<br>\n",
    "On successful authentication you should see a ```popup schema``` button.\n",
    "To find your Workspace Id go to [Log Analytics](https://ms.portal.azure.com/#blade/HubsExtension/Resources/resourceType/Microsoft.OperationalInsights%2Fworkspaces). Look at the workspace properties to find the ID.\n",
    "</details>"
   ]
  },
  {
   "cell_type": "code",
   "execution_count": 2,
   "metadata": {},
   "outputs": [
    {
     "name": "stdout",
     "output_type": "stream",
     "text": [
      "Please wait. Loading Kqlmagic extension...\n"
     ]
    },
    {
     "data": {
      "application/javascript": [
       "try {IPython.notebook.kernel.reconnect();} catch(err) {;}"
      ],
      "text/plain": [
       "<IPython.core.display.Javascript object>"
      ]
     },
     "metadata": {},
     "output_type": "display_data"
    },
    {
     "data": {
      "application/javascript": [
       "try {IPython.notebook.kernel.execute(\"NOTEBOOK_URL = '\" + window.location + \"'\");} catch(err) {;}"
      ],
      "text/plain": [
       "<IPython.core.display.Javascript object>"
      ]
     },
     "metadata": {},
     "output_type": "display_data"
    },
    {
     "data": {
      "application/javascript": [
       "try {IPython.notebook.kernel.execute(\"NOTEBOOK_URL = '\" + window.location + \"'\");} catch(err) {;}"
      ],
      "text/plain": [
       "<IPython.core.display.Javascript object>"
      ]
     },
     "metadata": {},
     "output_type": "display_data"
    },
    {
     "data": {
      "text/html": [
       "<!DOCTYPE html>\n",
       "            <html><body>\n",
       "            <div style=''>\n",
       "            \n",
       "            <button onclick=\"this.style.visibility='visible';\n",
       "            kql_MagicLaunchWindowFunction('kqlmagic/temp_files/b340ebca-dec0-4e07-b53e-031d8636d5ae/_8ecf8077-cf51-4820-aadd-14040956f35d_at_loganalytics_schema.html', 'fullscreen=no,directories=no,location=no,menubar=no,resizable=yes,scrollbars=yes,status=no,titlebar=no,toolbar=no,', '_8ecf8077_cf51_4820_aadd_14040956f35d_at_loganalytics_schema', '');\n",
       "            kql_MagicCloseWindow(kql_Magic__8ecf8077_cf51_4820_aadd_14040956f35d_at_loganalytics_schema, -1, -1);\">\n",
       "            popup schema 8ecf8077-cf51-4820-aadd-14040956f35d@loganalytics</button>\n",
       "            </div>\n",
       "\n",
       "            <script>\n",
       "            var kql_Magic__8ecf8077_cf51_4820_aadd_14040956f35d_at_loganalytics_schema = null;\n",
       "\n",
       "\n",
       "            function kql_MagicCloseWindow(window_obj, obj_secs, itself_secs) {\n",
       "                if (obj_secs >= 0) {\n",
       "                    _timeout = setTimeout(function(){\n",
       "                        window_obj.close();\n",
       "                        if (itself_secs >= 0) {\n",
       "                            __timeout = setTimeout(function(){window.close();}, itself_secs * 1000);\n",
       "                        }\n",
       "                    }, obj_secs * 1000);\n",
       "                } else if (itself_secs >= 0) {\n",
       "                    _timeout = setTimeout(function(){window.close();}, itself_secs * 1000);\n",
       "                }\n",
       "            }\n",
       "\n",
       "            function kql_MagicLaunchWindowFunction(file_path_or_data, window_params, window_name, host_or_text) {\n",
       "                var url;\n",
       "                const baseURI = String(window.location);\n",
       "                if (host_or_text == 'text' || host_or_text == 'body') {\n",
       "                    url = ''\n",
       "                } else if (file_path_or_data.startsWith('http')) {\n",
       "                    url = file_path_or_data;\n",
       "                } else if (host_or_text.endsWith('.azureml.ms') || host_or_text.endsWith('.azureml.net')) {\n",
       "                    let azuremlBaseURI = String(window.document.baseURI);\n",
       "                    let start = azuremlBaseURI.search('activeFilePath=');\n",
       "                    if (start > 0) {\n",
       "                        start += 'activeFilePath='.length;\n",
       "                        let end = azuremlBaseURI.substring(start).search('&');\n",
       "                        if (end < 0) {\n",
       "                            end = undefined;\n",
       "                        }\n",
       "                        let parts = azuremlBaseURI.substring(start, end).split('/');\n",
       "                        parts.pop();\n",
       "                        url = host_or_text + '/tree/' + parts.join('/') + '/' + file_path_or_data;\n",
       "                    } else {\n",
       "                        var parts = baseURI.split('/');\n",
       "                        parts.pop();\n",
       "                        url = parts.join('/') + '/' + file_path_or_data;\n",
       "                    }\n",
       "                } else {\n",
       "                    var base_url = '';\n",
       "\n",
       "                    // check if azure notebook\n",
       "                    var azure_host = (host_or_text == null || host_or_text.length == 0) ? 'https://notebooks.azure.com' : host_or_text;\n",
       "                    var start = azure_host.search('//');\n",
       "                    var azure_host_suffix = '.' + azure_host.substring(start+2);\n",
       "\n",
       "                    var end = baseURI.search(azure_host_suffix);\n",
       "                    start = baseURI.search('//');\n",
       "                    if (start > 0 && end > 0) {\n",
       "                        // # azure notebook environment, assume template: https://library-user.notebooks.azure.com\n",
       "                        var parts = baseURI.substring(start+2, end).split('-');\n",
       "                        if (parts.length == 2) {\n",
       "                            var library = parts[0];\n",
       "                            var user = parts[1];\n",
       "                            base_url = azure_host + '/api/user/' +user+ '/library/' +library+ '/html/';\n",
       "                        }\n",
       "                    }\n",
       "\n",
       "                    // check if local jupyter lab\n",
       "                    if (base_url.length == 0) {\n",
       "                        var configDataScipt  = document.getElementById('jupyter-config-data');\n",
       "                        if (configDataScipt != null) {\n",
       "                            var jupyterConfigData = JSON.parse(configDataScipt.textContent);\n",
       "                            if (jupyterConfigData['appName'] == 'JupyterLab' && jupyterConfigData['serverRoot'] != null &&  jupyterConfigData['treeUrl'] != null) {\n",
       "                                var basePath = 'e:/src/Azure-Sentinel-Notebooks/Nblt-updates' + '/';\n",
       "                                if (basePath.startsWith(jupyterConfigData['serverRoot'])) {\n",
       "                                    base_url = '/files/' + basePath.substring(jupyterConfigData['serverRoot'].length+1);\n",
       "                                }\n",
       "                            }\n",
       "                        }\n",
       "                    }\n",
       "\n",
       "                    // works for local jupyter notebook\n",
       "                    if (base_url.length == 0) {\n",
       "\n",
       "                        var parts = baseURI.split('/');\n",
       "                        parts.pop(); // remove notebook name segment\n",
       "                        base_url = parts.join('/') + '/';\n",
       "                    }\n",
       "                    url = base_url + file_path_or_data;\n",
       "                }\n",
       "\n",
       "                window.focus();\n",
       "                var w = screen.width / 2;\n",
       "                var h = screen.height / 2;\n",
       "                params = 'width='+w+',height='+h;\n",
       "                // kql_Magic + window_name should be a global variable \n",
       "                window_obj = window.open(url, window_name, window_params + params);\n",
       "                if (url == '') {\n",
       "                    let decodedData = atob(file_path_or_data);\n",
       "                    if (host_or_text == 'text') {\n",
       "                        var el = window_obj.document.createElement('p');\n",
       "                        window_obj.document.body.overflow = 'auto';\n",
       "                        el.style.top = 0;\n",
       "                        el.style.left = 0;\n",
       "                        el.innerHTML = decodedData;\n",
       "                        window_obj.document.body.appendChild(el);\n",
       "                    } else {\n",
       "                        window_obj.document.body.innerHTML = decodedData;\n",
       "                    }\n",
       "                }\n",
       "                kql_Magic__8ecf8077_cf51_4820_aadd_14040956f35d_at_loganalytics_schema = window_obj;\n",
       "            }\n",
       "            </script>\n",
       "\n",
       "            </body></html>"
      ],
      "text/plain": [
       "<IPython.core.display.HTML object>"
      ]
     },
     "metadata": {},
     "output_type": "display_data"
    },
    {
     "data": {
      "application/javascript": [
       "try {IPython.notebook.kernel.execute(\"NOTEBOOK_URL = '\" + window.location + \"'\");} catch(err) {;}"
      ],
      "text/plain": [
       "<IPython.core.display.Javascript object>"
      ]
     },
     "metadata": {},
     "output_type": "display_data"
    }
   ],
   "source": [
    "# Authentication\n",
    "# ws_config = WorkspaceConfig()\n",
    "qry_prov = QueryProvider(data_environment=\"AzureSentinel\")\n",
    "qry_prov.connect(WorkspaceConfig())"
   ]
  },
  {
   "cell_type": "markdown",
   "metadata": {},
   "source": [
    "#### Authentication and Configuration problems?\n",
    "\n",
    "If you are having problems, expand the details section below\n",
    "<br>\n",
    "<details>\n",
    "    <summary>Click for details about configuring your authentication parameters</summary>\n",
    "    \n",
    "    \n",
    "The notebook is expecting your Azure Sentinel Tenant ID and Workspace ID to be configured in one of the following places:\n",
    "- `config.json` in the current folder\n",
    "- `msticpyconfig.yaml` in the current folder or location specified by `MSTICPYCONFIG` environment variable.\n",
    "    \n",
    "For help with setting up your `config.json` file (if this hasn't been done automatically) see the [`ConfiguringNotebookEnvironment`](https://github.com/Azure/Azure-Sentinel-Notebooks/blob/master/ConfiguringNotebookEnvironment.ipynb) notebook in the root folder of your Azure-Sentinel-Notebooks project. This shows you how to obtain your Workspace and Subscription IDs from the Azure Sentinel Portal. You can use the SubscriptionID to find your Tenant ID). To view the current `config.json` run the following in a code cell.\n",
    "\n",
    "```%pfile config.json```\n",
    "\n",
    "For help with setting up your `msticpyconfig.yaml` see the [Setup](#Setup) section at the end of this notebook and the [ConfigureNotebookEnvironment notebook](https://github.com/Azure/Azure-Sentinel-Notebooks/blob/master/ConfiguringNotebookEnvironment.ipynb)\n",
    "</details>"
   ]
  },
  {
   "cell_type": "markdown",
   "metadata": {},
   "source": [
    "## Import notebooklets and initialize pivot functions\n",
    "\n",
    "These are needed for many of the notebook operations"
   ]
  },
  {
   "cell_type": "code",
   "execution_count": 3,
   "metadata": {},
   "outputs": [
    {
     "name": "stdout",
     "output_type": "stream",
     "text": [
      "Notebooklets: 9 notebooklets loaded.\n",
      "Using Open PageRank. See https://www.domcop.com/openpagerank/what-is-openpagerank\n"
     ]
    },
    {
     "data": {
      "text/html": [
       "\n",
       "This product includes GeoLite2 data created by MaxMind, available from\n",
       "<a href=\"https://www.maxmind.com\">https://www.maxmind.com</a>.\n"
      ],
      "text/plain": [
       "<IPython.core.display.HTML object>"
      ]
     },
     "metadata": {},
     "output_type": "display_data"
    },
    {
     "data": {
      "text/html": [
       "\n",
       "This library uses services provided by ipstack.\n",
       "<a href=\"https://ipstack.com\">https://ipstack.com</a>"
      ],
      "text/plain": [
       "<IPython.core.display.HTML object>"
      ]
     },
     "metadata": {},
     "output_type": "display_data"
    },
    {
     "name": "stdout",
     "output_type": "stream",
     "text": [
      "Using Open PageRank. See https://www.domcop.com/openpagerank/what-is-openpagerank\n",
      "Notebooklets: Loaded providers: AzureSentinel, geolitelookup, tilookup\n"
     ]
    }
   ],
   "source": [
    "import msticnb as nb\n",
    "\n",
    "pivot = Pivot(globals())\n",
    "nb.init(query_provider=qry_prov)"
   ]
  },
  {
   "cell_type": "markdown",
   "metadata": {},
   "source": [
    "# Enter account name and query time window\n",
    "Type the account name that you want to search for and the time bounds over which you want to search. \n",
    "\n",
    "You can specify the account as:\n",
    "\n",
    "- a simple user name (e.g. `alice`)\n",
    "- a user principal name (`alice@contoso.com`)\n",
    "- a qualified windows user name `mydomain\\alice`\n",
    "\n",
    "In the second two cases the domain qualifier will be stripped off before the search. The search is not case sensitive and will match full substrings. E.g. `bob` will match `domain\\bob` and `bob@contoso.com` but not `bobg` or `bo`."
   ]
  },
  {
   "cell_type": "code",
   "execution_count": 4,
   "metadata": {},
   "outputs": [
    {
     "data": {
      "text/html": [
       "<p style=''><hr></p>"
      ],
      "text/plain": [
       "<IPython.core.display.HTML object>"
      ]
     },
     "metadata": {},
     "output_type": "display_data"
    },
    {
     "data": {
      "application/vnd.jupyter.widget-view+json": {
       "model_id": "52ebbc0687ee4bd29ed0cd9bf7ac404c",
       "version_major": 2,
       "version_minor": 0
      },
      "text/plain": [
       "Text(value='', description='Enter the Account name to search for:', layout=Layout(width='50%'), style=Descript…"
      ]
     },
     "metadata": {},
     "output_type": "display_data"
    },
    {
     "data": {
      "text/html": [
       "<p style=''><hr></p>"
      ],
      "text/plain": [
       "<IPython.core.display.HTML object>"
      ]
     },
     "metadata": {},
     "output_type": "display_data"
    },
    {
     "data": {
      "application/vnd.jupyter.widget-view+json": {
       "model_id": "7a3ee07749a5425cbd5fedeaefa257ff",
       "version_major": 2,
       "version_minor": 0
      },
      "text/plain": [
       "VBox(children=(HTML(value='<h4>Set time range for pivot functions.</h4>'), HBox(children=(DatePicker(value=dat…"
      ]
     },
     "metadata": {},
     "output_type": "display_data"
    }
   ],
   "source": [
    "account_txt = nbwidgets.GetText(prompt='Enter the Account name to search for:')\n",
    "md(\"<hr>\")\n",
    "display(account_txt)\n",
    "md(\"<hr>\")\n",
    "pivot.edit_query_time()"
   ]
  },
  {
   "cell_type": "markdown",
   "metadata": {},
   "source": [
    "# Run the main *account_summary* function\n",
    "\n",
    "If more than one matching account name is found, all matches will be shown. \n",
    "\n",
    "You can select each one to view more details about the account.\n",
    "\n",
    "> Note: this is run as a pivot function from the Account entity.\n",
    "> You can also run it directly as a Notebooklet function by \n",
    "> creating and instance of `nb.nblt.azsent.account.AccountSummary()`\n",
    "> and executing the `run()` method\n",
    "\n",
    "```python\n",
    ">>> acct_nb = nb.nblt.azsent.account.AccountSummary()\n",
    ">>> acct_result = acct_nb.run(pivot.timespan, \"account_name\")  # subtitute the \"account_name\" with the name to search\n",
    "```"
   ]
  },
  {
   "cell_type": "code",
   "execution_count": 15,
   "metadata": {},
   "outputs": [
    {
     "data": {
      "text/html": [
       "<h1>Account Summary</h1>"
      ],
      "text/plain": [
       "<IPython.core.display.HTML object>"
      ]
     },
     "metadata": {},
     "output_type": "display_data"
    },
    {
     "data": {
      "text/html": [
       "This function searches Active Directory, Azure, Office365, Windows and Linux logs for matching accounts.<br>If any matches are found you can choose an account to explore, viewing the times of recent event types, any alerts and hunting bookmarks that relate to the account name.<br>You can also retrieve recent details of the logon activity or cloud activity for the account.<br>For further investigation use the host_logons_summary notebooklet for Windows and Linux host logons."
      ],
      "text/plain": [
       "<IPython.core.display.HTML object>"
      ]
     },
     "metadata": {},
     "output_type": "display_data"
    },
    {
     "data": {
      "text/html": [
       "<h3>Querying for account matches.</h3>"
      ],
      "text/plain": [
       "<IPython.core.display.HTML object>"
      ]
     },
     "metadata": {},
     "output_type": "display_data"
    },
    {
     "data": {
      "text/html": [
       " Searching through Active Directory, Windows and Linux events. This may take a few moments to complete. "
      ],
      "text/plain": [
       "<IPython.core.display.HTML object>"
      ]
     },
     "metadata": {},
     "output_type": "display_data"
    },
    {
     "data": {
      "text/html": [
       "<p style=''>Getting data from AADSignin...</p>"
      ],
      "text/plain": [
       "<IPython.core.display.HTML object>"
      ]
     },
     "metadata": {},
     "output_type": "display_data"
    },
    {
     "data": {
      "application/javascript": [
       "try {IPython.notebook.kernel.execute(\"NOTEBOOK_URL = '\" + window.location + \"'\");} catch(err) {;}"
      ],
      "text/plain": [
       "<IPython.core.display.Javascript object>"
      ]
     },
     "metadata": {},
     "output_type": "display_data"
    },
    {
     "data": {
      "text/html": [
       "<p style=''>  1 records in AAD</p>"
      ],
      "text/plain": [
       "<IPython.core.display.HTML object>"
      ]
     },
     "metadata": {},
     "output_type": "display_data"
    },
    {
     "data": {
      "text/html": [
       "<p style=''>Getting data from Office365Activity...</p>"
      ],
      "text/plain": [
       "<IPython.core.display.HTML object>"
      ]
     },
     "metadata": {},
     "output_type": "display_data"
    },
    {
     "data": {
      "application/javascript": [
       "try {IPython.notebook.kernel.execute(\"NOTEBOOK_URL = '\" + window.location + \"'\");} catch(err) {;}"
      ],
      "text/plain": [
       "<IPython.core.display.Javascript object>"
      ]
     },
     "metadata": {},
     "output_type": "display_data"
    },
    {
     "data": {
      "text/html": [
       "<p style=''>  0 records in Office Activity</p>"
      ],
      "text/plain": [
       "<IPython.core.display.HTML object>"
      ]
     },
     "metadata": {},
     "output_type": "display_data"
    },
    {
     "data": {
      "text/html": [
       "<p style=''>Getting data from Windows Logon activity...</p>"
      ],
      "text/plain": [
       "<IPython.core.display.HTML object>"
      ]
     },
     "metadata": {},
     "output_type": "display_data"
    },
    {
     "data": {
      "application/javascript": [
       "try {IPython.notebook.kernel.execute(\"NOTEBOOK_URL = '\" + window.location + \"'\");} catch(err) {;}"
      ],
      "text/plain": [
       "<IPython.core.display.Javascript object>"
      ]
     },
     "metadata": {},
     "output_type": "display_data"
    },
    {
     "data": {
      "text/html": [
       "<p style=''>  1 records in Windows logon data</p>"
      ],
      "text/plain": [
       "<IPython.core.display.HTML object>"
      ]
     },
     "metadata": {},
     "output_type": "display_data"
    },
    {
     "data": {
      "text/html": [
       "<p style=''>Getting data from Linux logon activity...</p>"
      ],
      "text/plain": [
       "<IPython.core.display.HTML object>"
      ]
     },
     "metadata": {},
     "output_type": "display_data"
    },
    {
     "data": {
      "application/javascript": [
       "try {IPython.notebook.kernel.execute(\"NOTEBOOK_URL = '\" + window.location + \"'\");} catch(err) {;}"
      ],
      "text/plain": [
       "<IPython.core.display.Javascript object>"
      ]
     },
     "metadata": {},
     "output_type": "display_data"
    },
    {
     "data": {
      "text/html": [
       "<p style=''>  0 records in Linux logon data</p>"
      ],
      "text/plain": [
       "<IPython.core.display.HTML object>"
      ]
     },
     "metadata": {},
     "output_type": "display_data"
    },
    {
     "data": {
      "text/html": [
       "<p style=''>Found 2 total records.</p>"
      ],
      "text/plain": [
       "<IPython.core.display.HTML object>"
      ]
     },
     "metadata": {},
     "output_type": "display_data"
    },
    {
     "data": {
      "text/html": [
       "<p style=''><hr></p>"
      ],
      "text/plain": [
       "<IPython.core.display.HTML object>"
      ]
     },
     "metadata": {},
     "output_type": "display_data"
    },
    {
     "data": {
      "text/html": [
       "<p style='font-size: 130%'>Multiple matching accounts found, select one to see details.</p>"
      ],
      "text/plain": [
       "<IPython.core.display.HTML object>"
      ]
     },
     "metadata": {},
     "output_type": "display_data"
    },
    {
     "data": {
      "application/vnd.jupyter.widget-view+json": {
       "model_id": "facfca1d2cd847988e46f7275a6a7e66",
       "version_major": 2,
       "version_minor": 0
      },
      "text/plain": [
       "VBox(children=(Text(value='', description='Filter:', style=DescriptionStyle(description_width='initial')), Sel…"
      ]
     },
     "metadata": {},
     "output_type": "display_data"
    },
    {
     "data": {
      "text/html": [
       "<hr>"
      ],
      "text/plain": [
       "<IPython.core.display.HTML object>"
      ]
     },
     "metadata": {},
     "output_type": "display_data"
    },
    {
     "data": {
      "text/html": [
       "<p style=''>Getting data from Alerts...</p>"
      ],
      "text/plain": [
       "<IPython.core.display.HTML object>"
      ]
     },
     "metadata": {},
     "output_type": "display_data"
    },
    {
     "data": {
      "application/javascript": [
       "try {IPython.notebook.kernel.execute(\"NOTEBOOK_URL = '\" + window.location + \"'\");} catch(err) {;}"
      ],
      "text/plain": [
       "<IPython.core.display.Javascript object>"
      ]
     },
     "metadata": {},
     "output_type": "display_data"
    },
    {
     "data": {
      "text/html": [
       "<p style=''>Getting data from Bookmarks...</p>"
      ],
      "text/plain": [
       "<IPython.core.display.HTML object>"
      ]
     },
     "metadata": {},
     "output_type": "display_data"
    },
    {
     "data": {
      "application/javascript": [
       "try {IPython.notebook.kernel.execute(\"NOTEBOOK_URL = '\" + window.location + \"'\");} catch(err) {;}"
      ],
      "text/plain": [
       "<IPython.core.display.Javascript object>"
      ]
     },
     "metadata": {},
     "output_type": "display_data"
    },
    {
     "data": {
      "text/html": [
       "<h3>Account Entity</h3>"
      ],
      "text/plain": [
       "<IPython.core.display.HTML object>"
      ]
     },
     "metadata": {},
     "output_type": "display_data"
    },
    {
     "data": {
      "text/html": [
       "<h3>account</h3>{&nbsp;'AadTenantId':&nbsp;'8ecf8077-cf51-4820-aadd-14040956f35d',<br>&nbsp;&nbsp;'AdditionalData':&nbsp;{},<br>&nbsp;&nbsp;'Host':&nbsp;{&nbsp;'AdditionalData':&nbsp;{},<br>&nbsp;&nbsp;&nbsp;&nbsp;&nbsp;&nbsp;&nbsp;&nbsp;&nbsp;&nbsp;&nbsp;&nbsp;'HostName':&nbsp;'SOC-FW-RDP',<br>&nbsp;&nbsp;&nbsp;&nbsp;&nbsp;&nbsp;&nbsp;&nbsp;&nbsp;&nbsp;&nbsp;&nbsp;'IpAddress':&nbsp;{&nbsp;'AdditionalData':&nbsp;{},<br>&nbsp;&nbsp;&nbsp;&nbsp;&nbsp;&nbsp;&nbsp;&nbsp;&nbsp;&nbsp;&nbsp;&nbsp;&nbsp;&nbsp;&nbsp;&nbsp;&nbsp;&nbsp;&nbsp;&nbsp;&nbsp;&nbsp;&nbsp;&nbsp;&nbsp;&nbsp;&nbsp;'Address':&nbsp;'193.93.62.10',<br>&nbsp;&nbsp;&nbsp;&nbsp;&nbsp;&nbsp;&nbsp;&nbsp;&nbsp;&nbsp;&nbsp;&nbsp;&nbsp;&nbsp;&nbsp;&nbsp;&nbsp;&nbsp;&nbsp;&nbsp;&nbsp;&nbsp;&nbsp;&nbsp;&nbsp;&nbsp;&nbsp;'FirstSeen':&nbsp;Timestamp('2021-06-24&nbsp;22:22:36.923000+0000',&nbsp;tz='UTC'),<br>&nbsp;&nbsp;&nbsp;&nbsp;&nbsp;&nbsp;&nbsp;&nbsp;&nbsp;&nbsp;&nbsp;&nbsp;&nbsp;&nbsp;&nbsp;&nbsp;&nbsp;&nbsp;&nbsp;&nbsp;&nbsp;&nbsp;&nbsp;&nbsp;&nbsp;&nbsp;&nbsp;'LastSeen':&nbsp;Timestamp('2021-06-24&nbsp;22:22:36.923000+0000',&nbsp;tz='UTC'),<br>&nbsp;&nbsp;&nbsp;&nbsp;&nbsp;&nbsp;&nbsp;&nbsp;&nbsp;&nbsp;&nbsp;&nbsp;&nbsp;&nbsp;&nbsp;&nbsp;&nbsp;&nbsp;&nbsp;&nbsp;&nbsp;&nbsp;&nbsp;&nbsp;&nbsp;&nbsp;&nbsp;'Location':&nbsp;{&nbsp;'AdditionalData':&nbsp;{},<br>&nbsp;&nbsp;&nbsp;&nbsp;&nbsp;&nbsp;&nbsp;&nbsp;&nbsp;&nbsp;&nbsp;&nbsp;&nbsp;&nbsp;&nbsp;&nbsp;&nbsp;&nbsp;&nbsp;&nbsp;&nbsp;&nbsp;&nbsp;&nbsp;&nbsp;&nbsp;&nbsp;&nbsp;&nbsp;&nbsp;&nbsp;&nbsp;&nbsp;&nbsp;&nbsp;&nbsp;&nbsp;&nbsp;&nbsp;&nbsp;&nbsp;'CountryCode':&nbsp;'LV',<br>&nbsp;&nbsp;&nbsp;&nbsp;&nbsp;&nbsp;&nbsp;&nbsp;&nbsp;&nbsp;&nbsp;&nbsp;&nbsp;&nbsp;&nbsp;&nbsp;&nbsp;&nbsp;&nbsp;&nbsp;&nbsp;&nbsp;&nbsp;&nbsp;&nbsp;&nbsp;&nbsp;&nbsp;&nbsp;&nbsp;&nbsp;&nbsp;&nbsp;&nbsp;&nbsp;&nbsp;&nbsp;&nbsp;&nbsp;&nbsp;&nbsp;'CountryName':&nbsp;'Latvia',<br>&nbsp;&nbsp;&nbsp;&nbsp;&nbsp;&nbsp;&nbsp;&nbsp;&nbsp;&nbsp;&nbsp;&nbsp;&nbsp;&nbsp;&nbsp;&nbsp;&nbsp;&nbsp;&nbsp;&nbsp;&nbsp;&nbsp;&nbsp;&nbsp;&nbsp;&nbsp;&nbsp;&nbsp;&nbsp;&nbsp;&nbsp;&nbsp;&nbsp;&nbsp;&nbsp;&nbsp;&nbsp;&nbsp;&nbsp;&nbsp;&nbsp;'Latitude':&nbsp;57.0,<br>&nbsp;&nbsp;&nbsp;&nbsp;&nbsp;&nbsp;&nbsp;&nbsp;&nbsp;&nbsp;&nbsp;&nbsp;&nbsp;&nbsp;&nbsp;&nbsp;&nbsp;&nbsp;&nbsp;&nbsp;&nbsp;&nbsp;&nbsp;&nbsp;&nbsp;&nbsp;&nbsp;&nbsp;&nbsp;&nbsp;&nbsp;&nbsp;&nbsp;&nbsp;&nbsp;&nbsp;&nbsp;&nbsp;&nbsp;&nbsp;&nbsp;'Longitude':&nbsp;25.0,<br>&nbsp;&nbsp;&nbsp;&nbsp;&nbsp;&nbsp;&nbsp;&nbsp;&nbsp;&nbsp;&nbsp;&nbsp;&nbsp;&nbsp;&nbsp;&nbsp;&nbsp;&nbsp;&nbsp;&nbsp;&nbsp;&nbsp;&nbsp;&nbsp;&nbsp;&nbsp;&nbsp;&nbsp;&nbsp;&nbsp;&nbsp;&nbsp;&nbsp;&nbsp;&nbsp;&nbsp;&nbsp;&nbsp;&nbsp;&nbsp;&nbsp;'Type':&nbsp;'geolocation',<br>&nbsp;&nbsp;&nbsp;&nbsp;&nbsp;&nbsp;&nbsp;&nbsp;&nbsp;&nbsp;&nbsp;&nbsp;&nbsp;&nbsp;&nbsp;&nbsp;&nbsp;&nbsp;&nbsp;&nbsp;&nbsp;&nbsp;&nbsp;&nbsp;&nbsp;&nbsp;&nbsp;&nbsp;&nbsp;&nbsp;&nbsp;&nbsp;&nbsp;&nbsp;&nbsp;&nbsp;&nbsp;&nbsp;&nbsp;&nbsp;&nbsp;'edges':&nbsp;set()},<br>&nbsp;&nbsp;&nbsp;&nbsp;&nbsp;&nbsp;&nbsp;&nbsp;&nbsp;&nbsp;&nbsp;&nbsp;&nbsp;&nbsp;&nbsp;&nbsp;&nbsp;&nbsp;&nbsp;&nbsp;&nbsp;&nbsp;&nbsp;&nbsp;&nbsp;&nbsp;&nbsp;'ThreatIntelligence':&nbsp;[],<br>&nbsp;&nbsp;&nbsp;&nbsp;&nbsp;&nbsp;&nbsp;&nbsp;&nbsp;&nbsp;&nbsp;&nbsp;&nbsp;&nbsp;&nbsp;&nbsp;&nbsp;&nbsp;&nbsp;&nbsp;&nbsp;&nbsp;&nbsp;&nbsp;&nbsp;&nbsp;&nbsp;'Type':&nbsp;'ipaddress',<br>&nbsp;&nbsp;&nbsp;&nbsp;&nbsp;&nbsp;&nbsp;&nbsp;&nbsp;&nbsp;&nbsp;&nbsp;&nbsp;&nbsp;&nbsp;&nbsp;&nbsp;&nbsp;&nbsp;&nbsp;&nbsp;&nbsp;&nbsp;&nbsp;&nbsp;&nbsp;&nbsp;'edges':&nbsp;set()},<br>&nbsp;&nbsp;&nbsp;&nbsp;&nbsp;&nbsp;&nbsp;&nbsp;&nbsp;&nbsp;&nbsp;&nbsp;'IsDomainJoined':&nbsp;False,<br>&nbsp;&nbsp;&nbsp;&nbsp;&nbsp;&nbsp;&nbsp;&nbsp;&nbsp;&nbsp;&nbsp;&nbsp;'OSFamily':&nbsp;<OSFamily.Windows:&nbsp;1>,<br>&nbsp;&nbsp;&nbsp;&nbsp;&nbsp;&nbsp;&nbsp;&nbsp;&nbsp;&nbsp;&nbsp;&nbsp;'Type':&nbsp;'host',<br>&nbsp;&nbsp;&nbsp;&nbsp;&nbsp;&nbsp;&nbsp;&nbsp;&nbsp;&nbsp;&nbsp;&nbsp;'edges':&nbsp;set()},<br>&nbsp;&nbsp;'IsDomainJoined':&nbsp;False,<br>&nbsp;&nbsp;'LogonType':&nbsp;'3&nbsp;-&nbsp;Network',<br>&nbsp;&nbsp;'Name':&nbsp;'-',<br>&nbsp;&nbsp;'Sid':&nbsp;'S-1-0-0',<br>&nbsp;&nbsp;'Type':&nbsp;'account',<br>&nbsp;&nbsp;'edges':&nbsp;set()}"
      ],
      "text/plain": [
       "Account(Name=-, Host={ 'AdditionalData': {},\n",
       "  'HostName': 'SOC-FW-RDP',\n",
       "  'IpAddress': ...)"
      ]
     },
     "metadata": {},
     "output_type": "display_data"
    },
    {
     "data": {
      "text/html": [
       "<h3>Account last activity</h3>"
      ],
      "text/plain": [
       "<IPython.core.display.HTML object>"
      ]
     },
     "metadata": {},
     "output_type": "display_data"
    },
    {
     "data": {
      "text/html": [
       "<b>MANAGEDCARE_ADMIN (source: Windows)</b>"
      ],
      "text/plain": [
       "<IPython.core.display.HTML object>"
      ]
     },
     "metadata": {},
     "output_type": "display_data"
    },
    {
     "data": {
      "text/html": [
       "<div>\n",
       "<style scoped>\n",
       "    .dataframe tbody tr th:only-of-type {\n",
       "        vertical-align: middle;\n",
       "    }\n",
       "\n",
       "    .dataframe tbody tr th {\n",
       "        vertical-align: top;\n",
       "    }\n",
       "\n",
       "    .dataframe thead th {\n",
       "        text-align: right;\n",
       "    }\n",
       "</style>\n",
       "<table border=\"1\" class=\"dataframe\">\n",
       "  <thead>\n",
       "    <tr style=\"text-align: right;\">\n",
       "      <th></th>\n",
       "      <th>TimeGenerated</th>\n",
       "      <th>TenantId</th>\n",
       "      <th>Account</th>\n",
       "      <th>EventID</th>\n",
       "      <th>SourceComputerId</th>\n",
       "      <th>Computer</th>\n",
       "      <th>SubjectUserName</th>\n",
       "      <th>SubjectDomainName</th>\n",
       "      <th>SubjectUserSid</th>\n",
       "      <th>TargetUserName</th>\n",
       "      <th>TargetDomainName</th>\n",
       "      <th>TargetUserSid</th>\n",
       "      <th>TargetLogonId</th>\n",
       "      <th>LogonProcessName</th>\n",
       "      <th>LogonType</th>\n",
       "      <th>LogonTypeName</th>\n",
       "      <th>AuthenticationPackageName</th>\n",
       "      <th>Status</th>\n",
       "      <th>IpAddress</th>\n",
       "      <th>WorkstationName</th>\n",
       "      <th>TimeCreatedUtc</th>\n",
       "      <th>LogonStatus</th>\n",
       "      <th>AccountName</th>\n",
       "      <th>Source</th>\n",
       "    </tr>\n",
       "  </thead>\n",
       "  <tbody>\n",
       "    <tr>\n",
       "      <th>0</th>\n",
       "      <td>2021-06-24 22:22:36.923000+00:00</td>\n",
       "      <td>8ecf8077-cf51-4820-aadd-14040956f35d</td>\n",
       "      <td>\\MANAGEDCARE_ADMIN</td>\n",
       "      <td>4625</td>\n",
       "      <td>41502da5-21b7-48ec-81c9-baeea8d7d669</td>\n",
       "      <td>SOC-FW-RDP</td>\n",
       "      <td>-</td>\n",
       "      <td>-</td>\n",
       "      <td>S-1-0-0</td>\n",
       "      <td>MANAGEDCARE_ADMIN</td>\n",
       "      <td></td>\n",
       "      <td>S-1-0-0</td>\n",
       "      <td></td>\n",
       "      <td>NtLmSsp</td>\n",
       "      <td>3</td>\n",
       "      <td>3 - Network</td>\n",
       "      <td>NTLM</td>\n",
       "      <td>0xc000006d</td>\n",
       "      <td>193.93.62.10</td>\n",
       "      <td>-</td>\n",
       "      <td>2021-06-24 22:22:36.923000+00:00</td>\n",
       "      <td>failed</td>\n",
       "      <td>MANAGEDCARE_ADMIN</td>\n",
       "      <td>Windows</td>\n",
       "    </tr>\n",
       "  </tbody>\n",
       "</table>\n",
       "</div>"
      ],
      "text/plain": [
       "                     TimeGenerated                              TenantId  \\\n",
       "0 2021-06-24 22:22:36.923000+00:00  8ecf8077-cf51-4820-aadd-14040956f35d   \n",
       "\n",
       "              Account  EventID                      SourceComputerId  \\\n",
       "0  \\MANAGEDCARE_ADMIN     4625  41502da5-21b7-48ec-81c9-baeea8d7d669   \n",
       "\n",
       "     Computer SubjectUserName SubjectDomainName SubjectUserSid  \\\n",
       "0  SOC-FW-RDP               -                 -        S-1-0-0   \n",
       "\n",
       "      TargetUserName TargetDomainName TargetUserSid TargetLogonId  \\\n",
       "0  MANAGEDCARE_ADMIN                        S-1-0-0                 \n",
       "\n",
       "  LogonProcessName  LogonType LogonTypeName AuthenticationPackageName  \\\n",
       "0         NtLmSsp           3   3 - Network                      NTLM   \n",
       "\n",
       "       Status     IpAddress WorkstationName                   TimeCreatedUtc  \\\n",
       "0  0xc000006d  193.93.62.10               - 2021-06-24 22:22:36.923000+00:00   \n",
       "\n",
       "  LogonStatus        AccountName   Source  \n",
       "0      failed  MANAGEDCARE_ADMIN  Windows  "
      ]
     },
     "metadata": {},
     "output_type": "display_data"
    },
    {
     "data": {
      "text/html": [
       "<br><b>No alerts for this account</b>"
      ],
      "text/plain": [
       "<IPython.core.display.HTML object>"
      ]
     },
     "metadata": {},
     "output_type": "display_data"
    },
    {
     "data": {
      "text/html": [
       "<br><b>No bookmarks for this account</b>"
      ],
      "text/plain": [
       "<IPython.core.display.HTML object>"
      ]
     },
     "metadata": {},
     "output_type": "display_data"
    },
    {
     "data": {
      "text/html": [
       "<p style=''><hr></p>"
      ],
      "text/plain": [
       "<IPython.core.display.HTML object>"
      ]
     },
     "metadata": {},
     "output_type": "display_data"
    },
    {
     "data": {
      "text/html": [
       "<p style=''><h3>Use <i>result.notebooklet.get_additional_data()</i> to retrieve more data.</p>"
      ],
      "text/plain": [
       "<IPython.core.display.HTML object>"
      ]
     },
     "metadata": {},
     "output_type": "display_data"
    },
    {
     "data": {
      "text/html": [
       "<p style=''>Additional methods for this class:<br>az_activity_timeline_by_ip - 'Display Azure activity timeline by IP address.'<br>az_activity_timeline_by_operation - 'Display Azure activity timeline by operation.'<br>az_activity_timeline_by_provider - 'Display Azure activity timeline by provider.'<br>browse_accounts - 'Return the accounts browser/viewer.'<br>browse_alerts - 'Return alert browser/viewer.'<br>browse_bookmarks - 'Return bookmark browser/viewer.'<br>display_alert_timeline - 'Display the alert timeline.'<br>get_additional_data - 'Find additional data for the selected account.'<br>get_geoip_map - 'Return Folium map of IP activity.'<br>host_logon_timeline - 'Display IP address summary.'<br>run - 'Return account activity summary.'<br>show_ip_summary - 'Display Azure activity timeline by operation.'</p>"
      ],
      "text/plain": [
       "<IPython.core.display.HTML object>"
      ]
     },
     "metadata": {},
     "output_type": "display_data"
    }
   ],
   "source": [
    "Account = entities.Account\n",
    "acc_result = Account.nblt.account_summary(value=account_txt.value)"
   ]
  },
  {
   "cell_type": "code",
   "execution_count": 8,
   "metadata": {},
   "outputs": [
    {
     "data": {
      "application/vnd.jupyter.widget-view+json": {
       "model_id": "c0ded4fe96a64e9793b7831e879c886c",
       "version_major": 2,
       "version_minor": 0
      },
      "text/plain": [
       "VBox(children=(Text(value='', description='Filter:', style=DescriptionStyle(description_width='initial')), Sel…"
      ]
     },
     "metadata": {},
     "output_type": "display_data"
    },
    {
     "data": {
      "text/html": [
       "<hr>"
      ],
      "text/plain": [
       "<IPython.core.display.HTML object>"
      ]
     },
     "metadata": {},
     "output_type": "display_data"
    },
    {
     "data": {
      "text/html": [
       "<p style=''>Getting data from Alerts...</p>"
      ],
      "text/plain": [
       "<IPython.core.display.HTML object>"
      ]
     },
     "metadata": {},
     "output_type": "display_data"
    },
    {
     "data": {
      "application/javascript": [
       "try {IPython.notebook.kernel.execute(\"NOTEBOOK_URL = '\" + window.location + \"'\");} catch(err) {;}"
      ],
      "text/plain": [
       "<IPython.core.display.Javascript object>"
      ]
     },
     "metadata": {},
     "output_type": "display_data"
    },
    {
     "data": {
      "text/html": [
       "\n",
       "    <div class=\"bk-root\">\n",
       "        <a href=\"https://bokeh.org\" target=\"_blank\" class=\"bk-logo bk-logo-small bk-logo-notebook\"></a>\n",
       "        <span id=\"1074\">Loading BokehJS ...</span>\n",
       "    </div>"
      ]
     },
     "metadata": {},
     "output_type": "display_data"
    },
    {
     "data": {
      "application/javascript": [
       "\n",
       "(function(root) {\n",
       "  function now() {\n",
       "    return new Date();\n",
       "  }\n",
       "\n",
       "  var force = true;\n",
       "\n",
       "  if (typeof root._bokeh_onload_callbacks === \"undefined\" || force === true) {\n",
       "    root._bokeh_onload_callbacks = [];\n",
       "    root._bokeh_is_loading = undefined;\n",
       "  }\n",
       "\n",
       "  var JS_MIME_TYPE = 'application/javascript';\n",
       "  var HTML_MIME_TYPE = 'text/html';\n",
       "  var EXEC_MIME_TYPE = 'application/vnd.bokehjs_exec.v0+json';\n",
       "  var CLASS_NAME = 'output_bokeh rendered_html';\n",
       "\n",
       "  /**\n",
       "   * Render data to the DOM node\n",
       "   */\n",
       "  function render(props, node) {\n",
       "    var script = document.createElement(\"script\");\n",
       "    node.appendChild(script);\n",
       "  }\n",
       "\n",
       "  /**\n",
       "   * Handle when an output is cleared or removed\n",
       "   */\n",
       "  function handleClearOutput(event, handle) {\n",
       "    var cell = handle.cell;\n",
       "\n",
       "    var id = cell.output_area._bokeh_element_id;\n",
       "    var server_id = cell.output_area._bokeh_server_id;\n",
       "    // Clean up Bokeh references\n",
       "    if (id != null && id in Bokeh.index) {\n",
       "      Bokeh.index[id].model.document.clear();\n",
       "      delete Bokeh.index[id];\n",
       "    }\n",
       "\n",
       "    if (server_id !== undefined) {\n",
       "      // Clean up Bokeh references\n",
       "      var cmd = \"from bokeh.io.state import curstate; print(curstate().uuid_to_server['\" + server_id + \"'].get_sessions()[0].document.roots[0]._id)\";\n",
       "      cell.notebook.kernel.execute(cmd, {\n",
       "        iopub: {\n",
       "          output: function(msg) {\n",
       "            var id = msg.content.text.trim();\n",
       "            if (id in Bokeh.index) {\n",
       "              Bokeh.index[id].model.document.clear();\n",
       "              delete Bokeh.index[id];\n",
       "            }\n",
       "          }\n",
       "        }\n",
       "      });\n",
       "      // Destroy server and session\n",
       "      var cmd = \"import bokeh.io.notebook as ion; ion.destroy_server('\" + server_id + \"')\";\n",
       "      cell.notebook.kernel.execute(cmd);\n",
       "    }\n",
       "  }\n",
       "\n",
       "  /**\n",
       "   * Handle when a new output is added\n",
       "   */\n",
       "  function handleAddOutput(event, handle) {\n",
       "    var output_area = handle.output_area;\n",
       "    var output = handle.output;\n",
       "\n",
       "    // limit handleAddOutput to display_data with EXEC_MIME_TYPE content only\n",
       "    if ((output.output_type != \"display_data\") || (!Object.prototype.hasOwnProperty.call(output.data, EXEC_MIME_TYPE))) {\n",
       "      return\n",
       "    }\n",
       "\n",
       "    var toinsert = output_area.element.find(\".\" + CLASS_NAME.split(' ')[0]);\n",
       "\n",
       "    if (output.metadata[EXEC_MIME_TYPE][\"id\"] !== undefined) {\n",
       "      toinsert[toinsert.length - 1].firstChild.textContent = output.data[JS_MIME_TYPE];\n",
       "      // store reference to embed id on output_area\n",
       "      output_area._bokeh_element_id = output.metadata[EXEC_MIME_TYPE][\"id\"];\n",
       "    }\n",
       "    if (output.metadata[EXEC_MIME_TYPE][\"server_id\"] !== undefined) {\n",
       "      var bk_div = document.createElement(\"div\");\n",
       "      bk_div.innerHTML = output.data[HTML_MIME_TYPE];\n",
       "      var script_attrs = bk_div.children[0].attributes;\n",
       "      for (var i = 0; i < script_attrs.length; i++) {\n",
       "        toinsert[toinsert.length - 1].firstChild.setAttribute(script_attrs[i].name, script_attrs[i].value);\n",
       "        toinsert[toinsert.length - 1].firstChild.textContent = bk_div.children[0].textContent\n",
       "      }\n",
       "      // store reference to server id on output_area\n",
       "      output_area._bokeh_server_id = output.metadata[EXEC_MIME_TYPE][\"server_id\"];\n",
       "    }\n",
       "  }\n",
       "\n",
       "  function register_renderer(events, OutputArea) {\n",
       "\n",
       "    function append_mime(data, metadata, element) {\n",
       "      // create a DOM node to render to\n",
       "      var toinsert = this.create_output_subarea(\n",
       "        metadata,\n",
       "        CLASS_NAME,\n",
       "        EXEC_MIME_TYPE\n",
       "      );\n",
       "      this.keyboard_manager.register_events(toinsert);\n",
       "      // Render to node\n",
       "      var props = {data: data, metadata: metadata[EXEC_MIME_TYPE]};\n",
       "      render(props, toinsert[toinsert.length - 1]);\n",
       "      element.append(toinsert);\n",
       "      return toinsert\n",
       "    }\n",
       "\n",
       "    /* Handle when an output is cleared or removed */\n",
       "    events.on('clear_output.CodeCell', handleClearOutput);\n",
       "    events.on('delete.Cell', handleClearOutput);\n",
       "\n",
       "    /* Handle when a new output is added */\n",
       "    events.on('output_added.OutputArea', handleAddOutput);\n",
       "\n",
       "    /**\n",
       "     * Register the mime type and append_mime function with output_area\n",
       "     */\n",
       "    OutputArea.prototype.register_mime_type(EXEC_MIME_TYPE, append_mime, {\n",
       "      /* Is output safe? */\n",
       "      safe: true,\n",
       "      /* Index of renderer in `output_area.display_order` */\n",
       "      index: 0\n",
       "    });\n",
       "  }\n",
       "\n",
       "  // register the mime type if in Jupyter Notebook environment and previously unregistered\n",
       "  if (root.Jupyter !== undefined) {\n",
       "    var events = require('base/js/events');\n",
       "    var OutputArea = require('notebook/js/outputarea').OutputArea;\n",
       "\n",
       "    if (OutputArea.prototype.mime_types().indexOf(EXEC_MIME_TYPE) == -1) {\n",
       "      register_renderer(events, OutputArea);\n",
       "    }\n",
       "  }\n",
       "\n",
       "  \n",
       "  if (typeof (root._bokeh_timeout) === \"undefined\" || force === true) {\n",
       "    root._bokeh_timeout = Date.now() + 5000;\n",
       "    root._bokeh_failed_load = false;\n",
       "  }\n",
       "\n",
       "  var NB_LOAD_WARNING = {'data': {'text/html':\n",
       "     \"<div style='background-color: #fdd'>\\n\"+\n",
       "     \"<p>\\n\"+\n",
       "     \"BokehJS does not appear to have successfully loaded. If loading BokehJS from CDN, this \\n\"+\n",
       "     \"may be due to a slow or bad network connection. Possible fixes:\\n\"+\n",
       "     \"</p>\\n\"+\n",
       "     \"<ul>\\n\"+\n",
       "     \"<li>re-rerun `output_notebook()` to attempt to load from CDN again, or</li>\\n\"+\n",
       "     \"<li>use INLINE resources instead, as so:</li>\\n\"+\n",
       "     \"</ul>\\n\"+\n",
       "     \"<code>\\n\"+\n",
       "     \"from bokeh.resources import INLINE\\n\"+\n",
       "     \"output_notebook(resources=INLINE)\\n\"+\n",
       "     \"</code>\\n\"+\n",
       "     \"</div>\"}};\n",
       "\n",
       "  function display_loaded() {\n",
       "    var el = document.getElementById(\"1074\");\n",
       "    if (el != null) {\n",
       "      el.textContent = \"BokehJS is loading...\";\n",
       "    }\n",
       "    if (root.Bokeh !== undefined) {\n",
       "      if (el != null) {\n",
       "        el.textContent = \"BokehJS \" + root.Bokeh.version + \" successfully loaded.\";\n",
       "      }\n",
       "    } else if (Date.now() < root._bokeh_timeout) {\n",
       "      setTimeout(display_loaded, 100)\n",
       "    }\n",
       "  }\n",
       "\n",
       "\n",
       "  function run_callbacks() {\n",
       "    try {\n",
       "      root._bokeh_onload_callbacks.forEach(function(callback) {\n",
       "        if (callback != null)\n",
       "          callback();\n",
       "      });\n",
       "    } finally {\n",
       "      delete root._bokeh_onload_callbacks\n",
       "    }\n",
       "    console.debug(\"Bokeh: all callbacks have finished\");\n",
       "  }\n",
       "\n",
       "  function load_libs(css_urls, js_urls, callback) {\n",
       "    if (css_urls == null) css_urls = [];\n",
       "    if (js_urls == null) js_urls = [];\n",
       "\n",
       "    root._bokeh_onload_callbacks.push(callback);\n",
       "    if (root._bokeh_is_loading > 0) {\n",
       "      console.debug(\"Bokeh: BokehJS is being loaded, scheduling callback at\", now());\n",
       "      return null;\n",
       "    }\n",
       "    if (js_urls == null || js_urls.length === 0) {\n",
       "      run_callbacks();\n",
       "      return null;\n",
       "    }\n",
       "    console.debug(\"Bokeh: BokehJS not loaded, scheduling load and callback at\", now());\n",
       "    root._bokeh_is_loading = css_urls.length + js_urls.length;\n",
       "\n",
       "    function on_load() {\n",
       "      root._bokeh_is_loading--;\n",
       "      if (root._bokeh_is_loading === 0) {\n",
       "        console.debug(\"Bokeh: all BokehJS libraries/stylesheets loaded\");\n",
       "        run_callbacks()\n",
       "      }\n",
       "    }\n",
       "\n",
       "    function on_error(url) {\n",
       "      console.error(\"failed to load \" + url);\n",
       "    }\n",
       "\n",
       "    for (let i = 0; i < css_urls.length; i++) {\n",
       "      const url = css_urls[i];\n",
       "      const element = document.createElement(\"link\");\n",
       "      element.onload = on_load;\n",
       "      element.onerror = on_error.bind(null, url);\n",
       "      element.rel = \"stylesheet\";\n",
       "      element.type = \"text/css\";\n",
       "      element.href = url;\n",
       "      console.debug(\"Bokeh: injecting link tag for BokehJS stylesheet: \", url);\n",
       "      document.body.appendChild(element);\n",
       "    }\n",
       "\n",
       "    const hashes = {\"https://cdn.bokeh.org/bokeh/release/bokeh-2.3.2.min.js\": \"XypntL49z55iwGVUW4qsEu83zKL3XEcz0MjuGOQ9SlaaQ68X/g+k1FcioZi7oQAc\", \"https://cdn.bokeh.org/bokeh/release/bokeh-tables-2.3.2.min.js\": \"bEsM86IHGDTLCS0Zod8a8WM6Y4+lafAL/eSiyQcuPzinmWNgNO2/olUF0Z2Dkn5i\", \"https://cdn.bokeh.org/bokeh/release/bokeh-widgets-2.3.2.min.js\": \"TX0gSQTdXTTeScqxj6PVQxTiRW8DOoGVwinyi1D3kxv7wuxQ02XkOxv0xwiypcAH\"};\n",
       "\n",
       "    for (let i = 0; i < js_urls.length; i++) {\n",
       "      const url = js_urls[i];\n",
       "      const element = document.createElement('script');\n",
       "      element.onload = on_load;\n",
       "      element.onerror = on_error.bind(null, url);\n",
       "      element.async = false;\n",
       "      element.src = url;\n",
       "      if (url in hashes) {\n",
       "        element.crossOrigin = \"anonymous\";\n",
       "        element.integrity = \"sha384-\" + hashes[url];\n",
       "      }\n",
       "      console.debug(\"Bokeh: injecting script tag for BokehJS library: \", url);\n",
       "      document.head.appendChild(element);\n",
       "    }\n",
       "  };\n",
       "\n",
       "  function inject_raw_css(css) {\n",
       "    const element = document.createElement(\"style\");\n",
       "    element.appendChild(document.createTextNode(css));\n",
       "    document.body.appendChild(element);\n",
       "  }\n",
       "\n",
       "  \n",
       "  var js_urls = [\"https://cdn.bokeh.org/bokeh/release/bokeh-2.3.2.min.js\", \"https://cdn.bokeh.org/bokeh/release/bokeh-widgets-2.3.2.min.js\", \"https://cdn.bokeh.org/bokeh/release/bokeh-tables-2.3.2.min.js\"];\n",
       "  var css_urls = [];\n",
       "  \n",
       "\n",
       "  var inline_js = [\n",
       "    function(Bokeh) {\n",
       "      Bokeh.set_log_level(\"info\");\n",
       "    },\n",
       "    function(Bokeh) {\n",
       "    \n",
       "    \n",
       "    }\n",
       "  ];\n",
       "\n",
       "  function run_inline_js() {\n",
       "    \n",
       "    if (root.Bokeh !== undefined || force === true) {\n",
       "      \n",
       "    for (var i = 0; i < inline_js.length; i++) {\n",
       "      inline_js[i].call(root, root.Bokeh);\n",
       "    }\n",
       "    if (force === true) {\n",
       "        display_loaded();\n",
       "      }} else if (Date.now() < root._bokeh_timeout) {\n",
       "      setTimeout(run_inline_js, 100);\n",
       "    } else if (!root._bokeh_failed_load) {\n",
       "      console.log(\"Bokeh: BokehJS failed to load within specified timeout.\");\n",
       "      root._bokeh_failed_load = true;\n",
       "    } else if (force !== true) {\n",
       "      var cell = $(document.getElementById(\"1074\")).parents('.cell').data().cell;\n",
       "      cell.output_area.append_execute_result(NB_LOAD_WARNING)\n",
       "    }\n",
       "\n",
       "  }\n",
       "\n",
       "  if (root._bokeh_is_loading === 0) {\n",
       "    console.debug(\"Bokeh: BokehJS loaded, going straight to plotting\");\n",
       "    run_inline_js();\n",
       "  } else {\n",
       "    load_libs(css_urls, js_urls, function() {\n",
       "      console.debug(\"Bokeh: BokehJS plotting callback run at\", now());\n",
       "      run_inline_js();\n",
       "    });\n",
       "  }\n",
       "}(window));"
      ],
      "application/vnd.bokehjs_load.v0+json": "\n(function(root) {\n  function now() {\n    return new Date();\n  }\n\n  var force = true;\n\n  if (typeof root._bokeh_onload_callbacks === \"undefined\" || force === true) {\n    root._bokeh_onload_callbacks = [];\n    root._bokeh_is_loading = undefined;\n  }\n\n  \n\n  \n  if (typeof (root._bokeh_timeout) === \"undefined\" || force === true) {\n    root._bokeh_timeout = Date.now() + 5000;\n    root._bokeh_failed_load = false;\n  }\n\n  var NB_LOAD_WARNING = {'data': {'text/html':\n     \"<div style='background-color: #fdd'>\\n\"+\n     \"<p>\\n\"+\n     \"BokehJS does not appear to have successfully loaded. If loading BokehJS from CDN, this \\n\"+\n     \"may be due to a slow or bad network connection. Possible fixes:\\n\"+\n     \"</p>\\n\"+\n     \"<ul>\\n\"+\n     \"<li>re-rerun `output_notebook()` to attempt to load from CDN again, or</li>\\n\"+\n     \"<li>use INLINE resources instead, as so:</li>\\n\"+\n     \"</ul>\\n\"+\n     \"<code>\\n\"+\n     \"from bokeh.resources import INLINE\\n\"+\n     \"output_notebook(resources=INLINE)\\n\"+\n     \"</code>\\n\"+\n     \"</div>\"}};\n\n  function display_loaded() {\n    var el = document.getElementById(\"1074\");\n    if (el != null) {\n      el.textContent = \"BokehJS is loading...\";\n    }\n    if (root.Bokeh !== undefined) {\n      if (el != null) {\n        el.textContent = \"BokehJS \" + root.Bokeh.version + \" successfully loaded.\";\n      }\n    } else if (Date.now() < root._bokeh_timeout) {\n      setTimeout(display_loaded, 100)\n    }\n  }\n\n\n  function run_callbacks() {\n    try {\n      root._bokeh_onload_callbacks.forEach(function(callback) {\n        if (callback != null)\n          callback();\n      });\n    } finally {\n      delete root._bokeh_onload_callbacks\n    }\n    console.debug(\"Bokeh: all callbacks have finished\");\n  }\n\n  function load_libs(css_urls, js_urls, callback) {\n    if (css_urls == null) css_urls = [];\n    if (js_urls == null) js_urls = [];\n\n    root._bokeh_onload_callbacks.push(callback);\n    if (root._bokeh_is_loading > 0) {\n      console.debug(\"Bokeh: BokehJS is being loaded, scheduling callback at\", now());\n      return null;\n    }\n    if (js_urls == null || js_urls.length === 0) {\n      run_callbacks();\n      return null;\n    }\n    console.debug(\"Bokeh: BokehJS not loaded, scheduling load and callback at\", now());\n    root._bokeh_is_loading = css_urls.length + js_urls.length;\n\n    function on_load() {\n      root._bokeh_is_loading--;\n      if (root._bokeh_is_loading === 0) {\n        console.debug(\"Bokeh: all BokehJS libraries/stylesheets loaded\");\n        run_callbacks()\n      }\n    }\n\n    function on_error(url) {\n      console.error(\"failed to load \" + url);\n    }\n\n    for (let i = 0; i < css_urls.length; i++) {\n      const url = css_urls[i];\n      const element = document.createElement(\"link\");\n      element.onload = on_load;\n      element.onerror = on_error.bind(null, url);\n      element.rel = \"stylesheet\";\n      element.type = \"text/css\";\n      element.href = url;\n      console.debug(\"Bokeh: injecting link tag for BokehJS stylesheet: \", url);\n      document.body.appendChild(element);\n    }\n\n    const hashes = {\"https://cdn.bokeh.org/bokeh/release/bokeh-2.3.2.min.js\": \"XypntL49z55iwGVUW4qsEu83zKL3XEcz0MjuGOQ9SlaaQ68X/g+k1FcioZi7oQAc\", \"https://cdn.bokeh.org/bokeh/release/bokeh-tables-2.3.2.min.js\": \"bEsM86IHGDTLCS0Zod8a8WM6Y4+lafAL/eSiyQcuPzinmWNgNO2/olUF0Z2Dkn5i\", \"https://cdn.bokeh.org/bokeh/release/bokeh-widgets-2.3.2.min.js\": \"TX0gSQTdXTTeScqxj6PVQxTiRW8DOoGVwinyi1D3kxv7wuxQ02XkOxv0xwiypcAH\"};\n\n    for (let i = 0; i < js_urls.length; i++) {\n      const url = js_urls[i];\n      const element = document.createElement('script');\n      element.onload = on_load;\n      element.onerror = on_error.bind(null, url);\n      element.async = false;\n      element.src = url;\n      if (url in hashes) {\n        element.crossOrigin = \"anonymous\";\n        element.integrity = \"sha384-\" + hashes[url];\n      }\n      console.debug(\"Bokeh: injecting script tag for BokehJS library: \", url);\n      document.head.appendChild(element);\n    }\n  };\n\n  function inject_raw_css(css) {\n    const element = document.createElement(\"style\");\n    element.appendChild(document.createTextNode(css));\n    document.body.appendChild(element);\n  }\n\n  \n  var js_urls = [\"https://cdn.bokeh.org/bokeh/release/bokeh-2.3.2.min.js\", \"https://cdn.bokeh.org/bokeh/release/bokeh-widgets-2.3.2.min.js\", \"https://cdn.bokeh.org/bokeh/release/bokeh-tables-2.3.2.min.js\"];\n  var css_urls = [];\n  \n\n  var inline_js = [\n    function(Bokeh) {\n      Bokeh.set_log_level(\"info\");\n    },\n    function(Bokeh) {\n    \n    \n    }\n  ];\n\n  function run_inline_js() {\n    \n    if (root.Bokeh !== undefined || force === true) {\n      \n    for (var i = 0; i < inline_js.length; i++) {\n      inline_js[i].call(root, root.Bokeh);\n    }\n    if (force === true) {\n        display_loaded();\n      }} else if (Date.now() < root._bokeh_timeout) {\n      setTimeout(run_inline_js, 100);\n    } else if (!root._bokeh_failed_load) {\n      console.log(\"Bokeh: BokehJS failed to load within specified timeout.\");\n      root._bokeh_failed_load = true;\n    } else if (force !== true) {\n      var cell = $(document.getElementById(\"1074\")).parents('.cell').data().cell;\n      cell.output_area.append_execute_result(NB_LOAD_WARNING)\n    }\n\n  }\n\n  if (root._bokeh_is_loading === 0) {\n    console.debug(\"Bokeh: BokehJS loaded, going straight to plotting\");\n    run_inline_js();\n  } else {\n    load_libs(css_urls, js_urls, function() {\n      console.debug(\"Bokeh: BokehJS plotting callback run at\", now());\n      run_inline_js();\n    });\n  }\n}(window));"
     },
     "metadata": {},
     "output_type": "display_data"
    },
    {
     "data": {
      "text/html": [
       "<p style=''>Getting data from Bookmarks...</p>"
      ],
      "text/plain": [
       "<IPython.core.display.HTML object>"
      ]
     },
     "metadata": {},
     "output_type": "display_data"
    },
    {
     "data": {
      "application/javascript": [
       "try {IPython.notebook.kernel.execute(\"NOTEBOOK_URL = '\" + window.location + \"'\");} catch(err) {;}"
      ],
      "text/plain": [
       "<IPython.core.display.Javascript object>"
      ]
     },
     "metadata": {},
     "output_type": "display_data"
    },
    {
     "data": {
      "text/html": [
       "<h3>Account Entity</h3>"
      ],
      "text/plain": [
       "<IPython.core.display.HTML object>"
      ]
     },
     "metadata": {},
     "output_type": "display_data"
    },
    {
     "data": {
      "text/html": [
       "<h3>account</h3>{&nbsp;'AadTenantId':&nbsp;'4b2462a4-bbee-495a-a0e1-f23ae524cc9c',<br>&nbsp;&nbsp;'AadUserId':&nbsp;'8c102503-0f98-4b9b-9b4a-ebb56d14c66a',<br>&nbsp;&nbsp;'AdditionalData':&nbsp;{},<br>&nbsp;&nbsp;'DeviceDetail':&nbsp;{&nbsp;'browser':&nbsp;'Edge&nbsp;91.0.864',<br>&nbsp;&nbsp;&nbsp;&nbsp;&nbsp;&nbsp;&nbsp;&nbsp;&nbsp;&nbsp;&nbsp;&nbsp;&nbsp;&nbsp;&nbsp;&nbsp;&nbsp;&nbsp;&nbsp;&nbsp;'deviceId':&nbsp;'{PII&nbsp;Removed}',<br>&nbsp;&nbsp;&nbsp;&nbsp;&nbsp;&nbsp;&nbsp;&nbsp;&nbsp;&nbsp;&nbsp;&nbsp;&nbsp;&nbsp;&nbsp;&nbsp;&nbsp;&nbsp;&nbsp;&nbsp;'displayName':&nbsp;'{PII&nbsp;Removed}',<br>&nbsp;&nbsp;&nbsp;&nbsp;&nbsp;&nbsp;&nbsp;&nbsp;&nbsp;&nbsp;&nbsp;&nbsp;&nbsp;&nbsp;&nbsp;&nbsp;&nbsp;&nbsp;&nbsp;&nbsp;'isCompliant':&nbsp;True,<br>&nbsp;&nbsp;&nbsp;&nbsp;&nbsp;&nbsp;&nbsp;&nbsp;&nbsp;&nbsp;&nbsp;&nbsp;&nbsp;&nbsp;&nbsp;&nbsp;&nbsp;&nbsp;&nbsp;&nbsp;'isManaged':&nbsp;True,<br>&nbsp;&nbsp;&nbsp;&nbsp;&nbsp;&nbsp;&nbsp;&nbsp;&nbsp;&nbsp;&nbsp;&nbsp;&nbsp;&nbsp;&nbsp;&nbsp;&nbsp;&nbsp;&nbsp;&nbsp;'operatingSystem':&nbsp;'Windows&nbsp;10',<br>&nbsp;&nbsp;&nbsp;&nbsp;&nbsp;&nbsp;&nbsp;&nbsp;&nbsp;&nbsp;&nbsp;&nbsp;&nbsp;&nbsp;&nbsp;&nbsp;&nbsp;&nbsp;&nbsp;&nbsp;'trustType':&nbsp;'Hybrid&nbsp;Azure&nbsp;AD&nbsp;joined'},<br>&nbsp;&nbsp;'DisplayName':&nbsp;'Chris&nbsp;Boehm',<br>&nbsp;&nbsp;'IpAddress':&nbsp;{&nbsp;'AdditionalData':&nbsp;{},<br>&nbsp;&nbsp;&nbsp;&nbsp;&nbsp;&nbsp;&nbsp;&nbsp;&nbsp;&nbsp;&nbsp;&nbsp;&nbsp;&nbsp;&nbsp;&nbsp;&nbsp;'Address':&nbsp;'208.104.92.208',<br>&nbsp;&nbsp;&nbsp;&nbsp;&nbsp;&nbsp;&nbsp;&nbsp;&nbsp;&nbsp;&nbsp;&nbsp;&nbsp;&nbsp;&nbsp;&nbsp;&nbsp;'FirstSeen':&nbsp;Timestamp('2021-06-24&nbsp;19:56:57.242000+0000',&nbsp;tz='UTC'),<br>&nbsp;&nbsp;&nbsp;&nbsp;&nbsp;&nbsp;&nbsp;&nbsp;&nbsp;&nbsp;&nbsp;&nbsp;&nbsp;&nbsp;&nbsp;&nbsp;&nbsp;'LastSeen':&nbsp;Timestamp('2021-06-24&nbsp;19:56:57.242000+0000',&nbsp;tz='UTC'),<br>&nbsp;&nbsp;&nbsp;&nbsp;&nbsp;&nbsp;&nbsp;&nbsp;&nbsp;&nbsp;&nbsp;&nbsp;&nbsp;&nbsp;&nbsp;&nbsp;&nbsp;'Location':&nbsp;{&nbsp;'AdditionalData':&nbsp;{},<br>&nbsp;&nbsp;&nbsp;&nbsp;&nbsp;&nbsp;&nbsp;&nbsp;&nbsp;&nbsp;&nbsp;&nbsp;&nbsp;&nbsp;&nbsp;&nbsp;&nbsp;&nbsp;&nbsp;&nbsp;&nbsp;&nbsp;&nbsp;&nbsp;&nbsp;&nbsp;&nbsp;&nbsp;&nbsp;&nbsp;&nbsp;'City':&nbsp;'Fort&nbsp;Mill',<br>&nbsp;&nbsp;&nbsp;&nbsp;&nbsp;&nbsp;&nbsp;&nbsp;&nbsp;&nbsp;&nbsp;&nbsp;&nbsp;&nbsp;&nbsp;&nbsp;&nbsp;&nbsp;&nbsp;&nbsp;&nbsp;&nbsp;&nbsp;&nbsp;&nbsp;&nbsp;&nbsp;&nbsp;&nbsp;&nbsp;&nbsp;'CountryCode':&nbsp;'US',<br>&nbsp;&nbsp;&nbsp;&nbsp;&nbsp;&nbsp;&nbsp;&nbsp;&nbsp;&nbsp;&nbsp;&nbsp;&nbsp;&nbsp;&nbsp;&nbsp;&nbsp;&nbsp;&nbsp;&nbsp;&nbsp;&nbsp;&nbsp;&nbsp;&nbsp;&nbsp;&nbsp;&nbsp;&nbsp;&nbsp;&nbsp;'CountryName':&nbsp;'United&nbsp;States',<br>&nbsp;&nbsp;&nbsp;&nbsp;&nbsp;&nbsp;&nbsp;&nbsp;&nbsp;&nbsp;&nbsp;&nbsp;&nbsp;&nbsp;&nbsp;&nbsp;&nbsp;&nbsp;&nbsp;&nbsp;&nbsp;&nbsp;&nbsp;&nbsp;&nbsp;&nbsp;&nbsp;&nbsp;&nbsp;&nbsp;&nbsp;'Latitude':&nbsp;35.0502,<br>&nbsp;&nbsp;&nbsp;&nbsp;&nbsp;&nbsp;&nbsp;&nbsp;&nbsp;&nbsp;&nbsp;&nbsp;&nbsp;&nbsp;&nbsp;&nbsp;&nbsp;&nbsp;&nbsp;&nbsp;&nbsp;&nbsp;&nbsp;&nbsp;&nbsp;&nbsp;&nbsp;&nbsp;&nbsp;&nbsp;&nbsp;'Longitude':&nbsp;-80.9908,<br>&nbsp;&nbsp;&nbsp;&nbsp;&nbsp;&nbsp;&nbsp;&nbsp;&nbsp;&nbsp;&nbsp;&nbsp;&nbsp;&nbsp;&nbsp;&nbsp;&nbsp;&nbsp;&nbsp;&nbsp;&nbsp;&nbsp;&nbsp;&nbsp;&nbsp;&nbsp;&nbsp;&nbsp;&nbsp;&nbsp;&nbsp;'State':&nbsp;'South&nbsp;Carolina',<br>&nbsp;&nbsp;&nbsp;&nbsp;&nbsp;&nbsp;&nbsp;&nbsp;&nbsp;&nbsp;&nbsp;&nbsp;&nbsp;&nbsp;&nbsp;&nbsp;&nbsp;&nbsp;&nbsp;&nbsp;&nbsp;&nbsp;&nbsp;&nbsp;&nbsp;&nbsp;&nbsp;&nbsp;&nbsp;&nbsp;&nbsp;'Type':&nbsp;'geolocation',<br>&nbsp;&nbsp;&nbsp;&nbsp;&nbsp;&nbsp;&nbsp;&nbsp;&nbsp;&nbsp;&nbsp;&nbsp;&nbsp;&nbsp;&nbsp;&nbsp;&nbsp;&nbsp;&nbsp;&nbsp;&nbsp;&nbsp;&nbsp;&nbsp;&nbsp;&nbsp;&nbsp;&nbsp;&nbsp;&nbsp;&nbsp;'edges':&nbsp;set()},<br>&nbsp;&nbsp;&nbsp;&nbsp;&nbsp;&nbsp;&nbsp;&nbsp;&nbsp;&nbsp;&nbsp;&nbsp;&nbsp;&nbsp;&nbsp;&nbsp;&nbsp;'ThreatIntelligence':&nbsp;[],<br>&nbsp;&nbsp;&nbsp;&nbsp;&nbsp;&nbsp;&nbsp;&nbsp;&nbsp;&nbsp;&nbsp;&nbsp;&nbsp;&nbsp;&nbsp;&nbsp;&nbsp;'Type':&nbsp;'ipaddress',<br>&nbsp;&nbsp;&nbsp;&nbsp;&nbsp;&nbsp;&nbsp;&nbsp;&nbsp;&nbsp;&nbsp;&nbsp;&nbsp;&nbsp;&nbsp;&nbsp;&nbsp;'edges':&nbsp;set()},<br>&nbsp;&nbsp;'IsDomainJoined':&nbsp;False,<br>&nbsp;&nbsp;'Location':&nbsp;{&nbsp;'city':&nbsp;'Pineville',<br>&nbsp;&nbsp;&nbsp;&nbsp;&nbsp;&nbsp;&nbsp;&nbsp;&nbsp;&nbsp;&nbsp;&nbsp;&nbsp;&nbsp;&nbsp;&nbsp;'countryOrRegion':&nbsp;'US',<br>&nbsp;&nbsp;&nbsp;&nbsp;&nbsp;&nbsp;&nbsp;&nbsp;&nbsp;&nbsp;&nbsp;&nbsp;&nbsp;&nbsp;&nbsp;&nbsp;'geoCoordinates':&nbsp;{'latitude':&nbsp;35.07524871826172,&nbsp;'longitude':&nbsp;-80.8979721069336},<br>&nbsp;&nbsp;&nbsp;&nbsp;&nbsp;&nbsp;&nbsp;&nbsp;&nbsp;&nbsp;&nbsp;&nbsp;&nbsp;&nbsp;&nbsp;&nbsp;'state':&nbsp;'North&nbsp;Carolina'},<br>&nbsp;&nbsp;'Name':&nbsp;'chboeh@microsoft.com',<br>&nbsp;&nbsp;'Type':&nbsp;'account',<br>&nbsp;&nbsp;'UPNSuffix':&nbsp;'microsoft.com',<br>&nbsp;&nbsp;'UserAgent':&nbsp;'Mozilla/5.0&nbsp;(Windows&nbsp;NT&nbsp;10.0;&nbsp;Win64;&nbsp;x64)&nbsp;AppleWebKit/537.36&nbsp;(KHTML,&nbsp;like&nbsp;Gecko)&nbsp;'<br>&nbsp;&nbsp;&nbsp;&nbsp;&nbsp;&nbsp;&nbsp;&nbsp;&nbsp;&nbsp;&nbsp;&nbsp;&nbsp;&nbsp;&nbsp;'Chrome/91.0.4472.101&nbsp;Safari/537.36&nbsp;Edg/91.0.864.48',<br>&nbsp;&nbsp;'edges':&nbsp;set()}"
      ],
      "text/plain": [
       "Account(Name=chboeh@microsoft.com, UPNSuffix=microsoft.com, AadTenantId=4b2462a4-bbee-49...)"
      ]
     },
     "metadata": {},
     "output_type": "display_data"
    },
    {
     "data": {
      "text/html": [
       "<h3>Account last activity</h3>"
      ],
      "text/plain": [
       "<IPython.core.display.HTML object>"
      ]
     },
     "metadata": {},
     "output_type": "display_data"
    },
    {
     "data": {
      "text/html": [
       "<b>chboeh@microsoft.com (source: AzureActiveDirectory)</b>"
      ],
      "text/plain": [
       "<IPython.core.display.HTML object>"
      ]
     },
     "metadata": {},
     "output_type": "display_data"
    },
    {
     "data": {
      "text/html": [
       "<div>\n",
       "<style scoped>\n",
       "    .dataframe tbody tr th:only-of-type {\n",
       "        vertical-align: middle;\n",
       "    }\n",
       "\n",
       "    .dataframe tbody tr th {\n",
       "        vertical-align: top;\n",
       "    }\n",
       "\n",
       "    .dataframe thead th {\n",
       "        text-align: right;\n",
       "    }\n",
       "</style>\n",
       "<table border=\"1\" class=\"dataframe\">\n",
       "  <thead>\n",
       "    <tr style=\"text-align: right;\">\n",
       "      <th></th>\n",
       "      <th>TimeGenerated</th>\n",
       "      <th>TenantId</th>\n",
       "      <th>SourceSystem</th>\n",
       "      <th>ResourceId</th>\n",
       "      <th>OperationName</th>\n",
       "      <th>OperationVersion</th>\n",
       "      <th>Category</th>\n",
       "      <th>ResultType</th>\n",
       "      <th>ResultSignature</th>\n",
       "      <th>ResultDescription</th>\n",
       "      <th>DurationMs</th>\n",
       "      <th>CorrelationId</th>\n",
       "      <th>Resource</th>\n",
       "      <th>ResourceGroup</th>\n",
       "      <th>ResourceProvider</th>\n",
       "      <th>Identity</th>\n",
       "      <th>Level</th>\n",
       "      <th>Location</th>\n",
       "      <th>AlternateSignInName</th>\n",
       "      <th>AppDisplayName</th>\n",
       "      <th>AppId</th>\n",
       "      <th>AuthenticationDetails</th>\n",
       "      <th>AuthenticationMethodsUsed</th>\n",
       "      <th>AuthenticationProcessingDetails</th>\n",
       "      <th>AuthenticationRequirement</th>\n",
       "      <th>...</th>\n",
       "      <th>RiskLevelAggregated</th>\n",
       "      <th>RiskLevelDuringSignIn</th>\n",
       "      <th>RiskState</th>\n",
       "      <th>ResourceDisplayName</th>\n",
       "      <th>ResourceIdentity</th>\n",
       "      <th>ServicePrincipalId</th>\n",
       "      <th>ServicePrincipalName</th>\n",
       "      <th>Status</th>\n",
       "      <th>TokenIssuerName</th>\n",
       "      <th>TokenIssuerType</th>\n",
       "      <th>UserAgent</th>\n",
       "      <th>UserDisplayName</th>\n",
       "      <th>UserId</th>\n",
       "      <th>UserPrincipalName</th>\n",
       "      <th>AADTenantId</th>\n",
       "      <th>UserType</th>\n",
       "      <th>FlaggedForReview</th>\n",
       "      <th>IPAddressFromResourceProvider</th>\n",
       "      <th>SignInIdentifier</th>\n",
       "      <th>SignInIdentifierType</th>\n",
       "      <th>ResourceTenantId</th>\n",
       "      <th>HomeTenantId</th>\n",
       "      <th>Type</th>\n",
       "      <th>AccountName</th>\n",
       "      <th>Source</th>\n",
       "    </tr>\n",
       "  </thead>\n",
       "  <tbody>\n",
       "    <tr>\n",
       "      <th>0</th>\n",
       "      <td>2021-06-24 19:56:57.242000+00:00</td>\n",
       "      <td>8ecf8077-cf51-4820-aadd-14040956f35d</td>\n",
       "      <td>Azure AD</td>\n",
       "      <td>/tenants/4b2462a4-bbee-495a-a0e1-f23ae524cc9c/providers/Microsoft.aadiam</td>\n",
       "      <td>Sign-in activity</td>\n",
       "      <td>1.0</td>\n",
       "      <td>SignInLogs</td>\n",
       "      <td>0</td>\n",
       "      <td>None</td>\n",
       "      <td></td>\n",
       "      <td>0</td>\n",
       "      <td>df4a6ae4-7328-4e72-aa4c-e10dc7de2a9e</td>\n",
       "      <td>Microsoft.aadiam</td>\n",
       "      <td>Microsoft.aadiam</td>\n",
       "      <td></td>\n",
       "      <td>Chris Boehm</td>\n",
       "      <td>4</td>\n",
       "      <td>US</td>\n",
       "      <td></td>\n",
       "      <td>Azure Portal</td>\n",
       "      <td>c44b4083-3bb0-49c1-b47d-974e53cbdf3c</td>\n",
       "      <td>[\\r\\n  {\\r\\n    \"authenticationStepDateTime\": \"2021-06-24T19:56:57.2425073+00:00\",\\r\\n    \"authe...</td>\n",
       "      <td></td>\n",
       "      <td>[\\r\\n  {\\r\\n    \"key\": \"Login Hint Present\",\\r\\n    \"value\": \"True\"\\r\\n  },\\r\\n  {\\r\\n    \"key\":...</td>\n",
       "      <td>singleFactorAuthentication</td>\n",
       "      <td>...</td>\n",
       "      <td>none</td>\n",
       "      <td>none</td>\n",
       "      <td>none</td>\n",
       "      <td>Windows Azure Service Management API</td>\n",
       "      <td>797f4846-ba00-4fd7-ba43-dac1f8f63013</td>\n",
       "      <td></td>\n",
       "      <td></td>\n",
       "      <td>{'errorCode': 0}</td>\n",
       "      <td></td>\n",
       "      <td>AzureAD</td>\n",
       "      <td>Mozilla/5.0 (Windows NT 10.0; Win64; x64) AppleWebKit/537.36 (KHTML, like Gecko) Chrome/91.0.447...</td>\n",
       "      <td>Chris Boehm</td>\n",
       "      <td>8c102503-0f98-4b9b-9b4a-ebb56d14c66a</td>\n",
       "      <td>chboeh@microsoft.com</td>\n",
       "      <td>4b2462a4-bbee-495a-a0e1-f23ae524cc9c</td>\n",
       "      <td>Guest</td>\n",
       "      <td>None</td>\n",
       "      <td></td>\n",
       "      <td></td>\n",
       "      <td></td>\n",
       "      <td>4b2462a4-bbee-495a-a0e1-f23ae524cc9c</td>\n",
       "      <td>72f988bf-86f1-41af-91ab-2d7cd011db47</td>\n",
       "      <td>SigninLogs</td>\n",
       "      <td>chboeh@microsoft.com</td>\n",
       "      <td>AzureActiveDirectory</td>\n",
       "    </tr>\n",
       "  </tbody>\n",
       "</table>\n",
       "<p>1 rows × 68 columns</p>\n",
       "</div>"
      ],
      "text/plain": [
       "                     TimeGenerated                              TenantId  \\\n",
       "0 2021-06-24 19:56:57.242000+00:00  8ecf8077-cf51-4820-aadd-14040956f35d   \n",
       "\n",
       "  SourceSystem  \\\n",
       "0     Azure AD   \n",
       "\n",
       "                                                                 ResourceId  \\\n",
       "0  /tenants/4b2462a4-bbee-495a-a0e1-f23ae524cc9c/providers/Microsoft.aadiam   \n",
       "\n",
       "      OperationName OperationVersion    Category ResultType ResultSignature  \\\n",
       "0  Sign-in activity              1.0  SignInLogs          0            None   \n",
       "\n",
       "  ResultDescription  DurationMs                         CorrelationId  \\\n",
       "0                             0  df4a6ae4-7328-4e72-aa4c-e10dc7de2a9e   \n",
       "\n",
       "           Resource     ResourceGroup ResourceProvider     Identity Level  \\\n",
       "0  Microsoft.aadiam  Microsoft.aadiam                   Chris Boehm     4   \n",
       "\n",
       "  Location AlternateSignInName AppDisplayName  \\\n",
       "0       US                       Azure Portal   \n",
       "\n",
       "                                  AppId  \\\n",
       "0  c44b4083-3bb0-49c1-b47d-974e53cbdf3c   \n",
       "\n",
       "                                                                                 AuthenticationDetails  \\\n",
       "0  [\\r\\n  {\\r\\n    \"authenticationStepDateTime\": \"2021-06-24T19:56:57.2425073+00:00\",\\r\\n    \"authe...   \n",
       "\n",
       "  AuthenticationMethodsUsed  \\\n",
       "0                             \n",
       "\n",
       "                                                                       AuthenticationProcessingDetails  \\\n",
       "0  [\\r\\n  {\\r\\n    \"key\": \"Login Hint Present\",\\r\\n    \"value\": \"True\"\\r\\n  },\\r\\n  {\\r\\n    \"key\":...   \n",
       "\n",
       "    AuthenticationRequirement  ... RiskLevelAggregated RiskLevelDuringSignIn  \\\n",
       "0  singleFactorAuthentication  ...                none                  none   \n",
       "\n",
       "  RiskState                   ResourceDisplayName  \\\n",
       "0      none  Windows Azure Service Management API   \n",
       "\n",
       "                       ResourceIdentity ServicePrincipalId  \\\n",
       "0  797f4846-ba00-4fd7-ba43-dac1f8f63013                      \n",
       "\n",
       "   ServicePrincipalName            Status TokenIssuerName TokenIssuerType  \\\n",
       "0                        {'errorCode': 0}                         AzureAD   \n",
       "\n",
       "                                                                                             UserAgent  \\\n",
       "0  Mozilla/5.0 (Windows NT 10.0; Win64; x64) AppleWebKit/537.36 (KHTML, like Gecko) Chrome/91.0.447...   \n",
       "\n",
       "  UserDisplayName                                UserId     UserPrincipalName  \\\n",
       "0     Chris Boehm  8c102503-0f98-4b9b-9b4a-ebb56d14c66a  chboeh@microsoft.com   \n",
       "\n",
       "                            AADTenantId UserType FlaggedForReview  \\\n",
       "0  4b2462a4-bbee-495a-a0e1-f23ae524cc9c    Guest             None   \n",
       "\n",
       "  IPAddressFromResourceProvider SignInIdentifier SignInIdentifierType  \\\n",
       "0                                                                       \n",
       "\n",
       "                       ResourceTenantId                          HomeTenantId  \\\n",
       "0  4b2462a4-bbee-495a-a0e1-f23ae524cc9c  72f988bf-86f1-41af-91ab-2d7cd011db47   \n",
       "\n",
       "         Type           AccountName                Source  \n",
       "0  SigninLogs  chboeh@microsoft.com  AzureActiveDirectory  \n",
       "\n",
       "[1 rows x 68 columns]"
      ]
     },
     "metadata": {},
     "output_type": "display_data"
    },
    {
     "data": {
      "text/html": [
       "<h3>Related alerts</h3><br><b>Found 1 different alert types related to this account</b><br>- Anomalous AAD Account Creation, # Alerts: 13<br><br>To show the alert timeline call the <b>display_alert_timeline()</b> method.<br>To browse the alerts call the <b>browse_alerts()</b> method."
      ],
      "text/plain": [
       "<IPython.core.display.HTML object>"
      ]
     },
     "metadata": {},
     "output_type": "display_data"
    },
    {
     "data": {
      "text/html": [
       "<br><b>No bookmarks for this account</b>"
      ],
      "text/plain": [
       "<IPython.core.display.HTML object>"
      ]
     },
     "metadata": {},
     "output_type": "display_data"
    }
   ],
   "source": [
    "acc_result.account_selector"
   ]
  },
  {
   "cell_type": "markdown",
   "metadata": {},
   "source": [
    "# Retrieve additional data for the selected account\n",
    "\n",
    "The result returned from the last cell has a number of properties and methods that you can use\n",
    "to retrieve and view further information.\n",
    "\n",
    "The main one for this notebooklet is `get_additional_data`."
   ]
  },
  {
   "cell_type": "code",
   "execution_count": 9,
   "metadata": {},
   "outputs": [
    {
     "data": {
      "text/html": [
       "<p style=''>Getting data from AADSignin...</p>"
      ],
      "text/plain": [
       "<IPython.core.display.HTML object>"
      ]
     },
     "metadata": {},
     "output_type": "display_data"
    },
    {
     "data": {
      "application/javascript": [
       "try {IPython.notebook.kernel.execute(\"NOTEBOOK_URL = '\" + window.location + \"'\");} catch(err) {;}"
      ],
      "text/plain": [
       "<IPython.core.display.Javascript object>"
      ]
     },
     "metadata": {},
     "output_type": "display_data"
    },
    {
     "data": {
      "text/html": [
       "<p style=''>Getting data from AzureActivity...</p>"
      ],
      "text/plain": [
       "<IPython.core.display.HTML object>"
      ]
     },
     "metadata": {},
     "output_type": "display_data"
    },
    {
     "data": {
      "application/javascript": [
       "try {IPython.notebook.kernel.execute(\"NOTEBOOK_URL = '\" + window.location + \"'\");} catch(err) {;}"
      ],
      "text/plain": [
       "<IPython.core.display.Javascript object>"
      ]
     },
     "metadata": {},
     "output_type": "display_data"
    },
    {
     "data": {
      "text/html": [
       "<p style=''>Getting data from Office365Activity...</p>"
      ],
      "text/plain": [
       "<IPython.core.display.HTML object>"
      ]
     },
     "metadata": {},
     "output_type": "display_data"
    },
    {
     "data": {
      "application/javascript": [
       "try {IPython.notebook.kernel.execute(\"NOTEBOOK_URL = '\" + window.location + \"'\");} catch(err) {;}"
      ],
      "text/plain": [
       "<IPython.core.display.Javascript object>"
      ]
     },
     "metadata": {},
     "output_type": "display_data"
    },
    {
     "data": {
      "text/html": [
       "\n",
       "    <div class=\"bk-root\">\n",
       "        <a href=\"https://bokeh.org\" target=\"_blank\" class=\"bk-logo bk-logo-small bk-logo-notebook\"></a>\n",
       "        <span id=\"1146\">Loading BokehJS ...</span>\n",
       "    </div>"
      ]
     },
     "metadata": {},
     "output_type": "display_data"
    },
    {
     "data": {
      "application/javascript": [
       "\n",
       "(function(root) {\n",
       "  function now() {\n",
       "    return new Date();\n",
       "  }\n",
       "\n",
       "  var force = true;\n",
       "\n",
       "  if (typeof root._bokeh_onload_callbacks === \"undefined\" || force === true) {\n",
       "    root._bokeh_onload_callbacks = [];\n",
       "    root._bokeh_is_loading = undefined;\n",
       "  }\n",
       "\n",
       "  var JS_MIME_TYPE = 'application/javascript';\n",
       "  var HTML_MIME_TYPE = 'text/html';\n",
       "  var EXEC_MIME_TYPE = 'application/vnd.bokehjs_exec.v0+json';\n",
       "  var CLASS_NAME = 'output_bokeh rendered_html';\n",
       "\n",
       "  /**\n",
       "   * Render data to the DOM node\n",
       "   */\n",
       "  function render(props, node) {\n",
       "    var script = document.createElement(\"script\");\n",
       "    node.appendChild(script);\n",
       "  }\n",
       "\n",
       "  /**\n",
       "   * Handle when an output is cleared or removed\n",
       "   */\n",
       "  function handleClearOutput(event, handle) {\n",
       "    var cell = handle.cell;\n",
       "\n",
       "    var id = cell.output_area._bokeh_element_id;\n",
       "    var server_id = cell.output_area._bokeh_server_id;\n",
       "    // Clean up Bokeh references\n",
       "    if (id != null && id in Bokeh.index) {\n",
       "      Bokeh.index[id].model.document.clear();\n",
       "      delete Bokeh.index[id];\n",
       "    }\n",
       "\n",
       "    if (server_id !== undefined) {\n",
       "      // Clean up Bokeh references\n",
       "      var cmd = \"from bokeh.io.state import curstate; print(curstate().uuid_to_server['\" + server_id + \"'].get_sessions()[0].document.roots[0]._id)\";\n",
       "      cell.notebook.kernel.execute(cmd, {\n",
       "        iopub: {\n",
       "          output: function(msg) {\n",
       "            var id = msg.content.text.trim();\n",
       "            if (id in Bokeh.index) {\n",
       "              Bokeh.index[id].model.document.clear();\n",
       "              delete Bokeh.index[id];\n",
       "            }\n",
       "          }\n",
       "        }\n",
       "      });\n",
       "      // Destroy server and session\n",
       "      var cmd = \"import bokeh.io.notebook as ion; ion.destroy_server('\" + server_id + \"')\";\n",
       "      cell.notebook.kernel.execute(cmd);\n",
       "    }\n",
       "  }\n",
       "\n",
       "  /**\n",
       "   * Handle when a new output is added\n",
       "   */\n",
       "  function handleAddOutput(event, handle) {\n",
       "    var output_area = handle.output_area;\n",
       "    var output = handle.output;\n",
       "\n",
       "    // limit handleAddOutput to display_data with EXEC_MIME_TYPE content only\n",
       "    if ((output.output_type != \"display_data\") || (!Object.prototype.hasOwnProperty.call(output.data, EXEC_MIME_TYPE))) {\n",
       "      return\n",
       "    }\n",
       "\n",
       "    var toinsert = output_area.element.find(\".\" + CLASS_NAME.split(' ')[0]);\n",
       "\n",
       "    if (output.metadata[EXEC_MIME_TYPE][\"id\"] !== undefined) {\n",
       "      toinsert[toinsert.length - 1].firstChild.textContent = output.data[JS_MIME_TYPE];\n",
       "      // store reference to embed id on output_area\n",
       "      output_area._bokeh_element_id = output.metadata[EXEC_MIME_TYPE][\"id\"];\n",
       "    }\n",
       "    if (output.metadata[EXEC_MIME_TYPE][\"server_id\"] !== undefined) {\n",
       "      var bk_div = document.createElement(\"div\");\n",
       "      bk_div.innerHTML = output.data[HTML_MIME_TYPE];\n",
       "      var script_attrs = bk_div.children[0].attributes;\n",
       "      for (var i = 0; i < script_attrs.length; i++) {\n",
       "        toinsert[toinsert.length - 1].firstChild.setAttribute(script_attrs[i].name, script_attrs[i].value);\n",
       "        toinsert[toinsert.length - 1].firstChild.textContent = bk_div.children[0].textContent\n",
       "      }\n",
       "      // store reference to server id on output_area\n",
       "      output_area._bokeh_server_id = output.metadata[EXEC_MIME_TYPE][\"server_id\"];\n",
       "    }\n",
       "  }\n",
       "\n",
       "  function register_renderer(events, OutputArea) {\n",
       "\n",
       "    function append_mime(data, metadata, element) {\n",
       "      // create a DOM node to render to\n",
       "      var toinsert = this.create_output_subarea(\n",
       "        metadata,\n",
       "        CLASS_NAME,\n",
       "        EXEC_MIME_TYPE\n",
       "      );\n",
       "      this.keyboard_manager.register_events(toinsert);\n",
       "      // Render to node\n",
       "      var props = {data: data, metadata: metadata[EXEC_MIME_TYPE]};\n",
       "      render(props, toinsert[toinsert.length - 1]);\n",
       "      element.append(toinsert);\n",
       "      return toinsert\n",
       "    }\n",
       "\n",
       "    /* Handle when an output is cleared or removed */\n",
       "    events.on('clear_output.CodeCell', handleClearOutput);\n",
       "    events.on('delete.Cell', handleClearOutput);\n",
       "\n",
       "    /* Handle when a new output is added */\n",
       "    events.on('output_added.OutputArea', handleAddOutput);\n",
       "\n",
       "    /**\n",
       "     * Register the mime type and append_mime function with output_area\n",
       "     */\n",
       "    OutputArea.prototype.register_mime_type(EXEC_MIME_TYPE, append_mime, {\n",
       "      /* Is output safe? */\n",
       "      safe: true,\n",
       "      /* Index of renderer in `output_area.display_order` */\n",
       "      index: 0\n",
       "    });\n",
       "  }\n",
       "\n",
       "  // register the mime type if in Jupyter Notebook environment and previously unregistered\n",
       "  if (root.Jupyter !== undefined) {\n",
       "    var events = require('base/js/events');\n",
       "    var OutputArea = require('notebook/js/outputarea').OutputArea;\n",
       "\n",
       "    if (OutputArea.prototype.mime_types().indexOf(EXEC_MIME_TYPE) == -1) {\n",
       "      register_renderer(events, OutputArea);\n",
       "    }\n",
       "  }\n",
       "\n",
       "  \n",
       "  if (typeof (root._bokeh_timeout) === \"undefined\" || force === true) {\n",
       "    root._bokeh_timeout = Date.now() + 5000;\n",
       "    root._bokeh_failed_load = false;\n",
       "  }\n",
       "\n",
       "  var NB_LOAD_WARNING = {'data': {'text/html':\n",
       "     \"<div style='background-color: #fdd'>\\n\"+\n",
       "     \"<p>\\n\"+\n",
       "     \"BokehJS does not appear to have successfully loaded. If loading BokehJS from CDN, this \\n\"+\n",
       "     \"may be due to a slow or bad network connection. Possible fixes:\\n\"+\n",
       "     \"</p>\\n\"+\n",
       "     \"<ul>\\n\"+\n",
       "     \"<li>re-rerun `output_notebook()` to attempt to load from CDN again, or</li>\\n\"+\n",
       "     \"<li>use INLINE resources instead, as so:</li>\\n\"+\n",
       "     \"</ul>\\n\"+\n",
       "     \"<code>\\n\"+\n",
       "     \"from bokeh.resources import INLINE\\n\"+\n",
       "     \"output_notebook(resources=INLINE)\\n\"+\n",
       "     \"</code>\\n\"+\n",
       "     \"</div>\"}};\n",
       "\n",
       "  function display_loaded() {\n",
       "    var el = document.getElementById(\"1146\");\n",
       "    if (el != null) {\n",
       "      el.textContent = \"BokehJS is loading...\";\n",
       "    }\n",
       "    if (root.Bokeh !== undefined) {\n",
       "      if (el != null) {\n",
       "        el.textContent = \"BokehJS \" + root.Bokeh.version + \" successfully loaded.\";\n",
       "      }\n",
       "    } else if (Date.now() < root._bokeh_timeout) {\n",
       "      setTimeout(display_loaded, 100)\n",
       "    }\n",
       "  }\n",
       "\n",
       "\n",
       "  function run_callbacks() {\n",
       "    try {\n",
       "      root._bokeh_onload_callbacks.forEach(function(callback) {\n",
       "        if (callback != null)\n",
       "          callback();\n",
       "      });\n",
       "    } finally {\n",
       "      delete root._bokeh_onload_callbacks\n",
       "    }\n",
       "    console.debug(\"Bokeh: all callbacks have finished\");\n",
       "  }\n",
       "\n",
       "  function load_libs(css_urls, js_urls, callback) {\n",
       "    if (css_urls == null) css_urls = [];\n",
       "    if (js_urls == null) js_urls = [];\n",
       "\n",
       "    root._bokeh_onload_callbacks.push(callback);\n",
       "    if (root._bokeh_is_loading > 0) {\n",
       "      console.debug(\"Bokeh: BokehJS is being loaded, scheduling callback at\", now());\n",
       "      return null;\n",
       "    }\n",
       "    if (js_urls == null || js_urls.length === 0) {\n",
       "      run_callbacks();\n",
       "      return null;\n",
       "    }\n",
       "    console.debug(\"Bokeh: BokehJS not loaded, scheduling load and callback at\", now());\n",
       "    root._bokeh_is_loading = css_urls.length + js_urls.length;\n",
       "\n",
       "    function on_load() {\n",
       "      root._bokeh_is_loading--;\n",
       "      if (root._bokeh_is_loading === 0) {\n",
       "        console.debug(\"Bokeh: all BokehJS libraries/stylesheets loaded\");\n",
       "        run_callbacks()\n",
       "      }\n",
       "    }\n",
       "\n",
       "    function on_error(url) {\n",
       "      console.error(\"failed to load \" + url);\n",
       "    }\n",
       "\n",
       "    for (let i = 0; i < css_urls.length; i++) {\n",
       "      const url = css_urls[i];\n",
       "      const element = document.createElement(\"link\");\n",
       "      element.onload = on_load;\n",
       "      element.onerror = on_error.bind(null, url);\n",
       "      element.rel = \"stylesheet\";\n",
       "      element.type = \"text/css\";\n",
       "      element.href = url;\n",
       "      console.debug(\"Bokeh: injecting link tag for BokehJS stylesheet: \", url);\n",
       "      document.body.appendChild(element);\n",
       "    }\n",
       "\n",
       "    const hashes = {\"https://cdn.bokeh.org/bokeh/release/bokeh-2.3.2.min.js\": \"XypntL49z55iwGVUW4qsEu83zKL3XEcz0MjuGOQ9SlaaQ68X/g+k1FcioZi7oQAc\", \"https://cdn.bokeh.org/bokeh/release/bokeh-tables-2.3.2.min.js\": \"bEsM86IHGDTLCS0Zod8a8WM6Y4+lafAL/eSiyQcuPzinmWNgNO2/olUF0Z2Dkn5i\", \"https://cdn.bokeh.org/bokeh/release/bokeh-widgets-2.3.2.min.js\": \"TX0gSQTdXTTeScqxj6PVQxTiRW8DOoGVwinyi1D3kxv7wuxQ02XkOxv0xwiypcAH\"};\n",
       "\n",
       "    for (let i = 0; i < js_urls.length; i++) {\n",
       "      const url = js_urls[i];\n",
       "      const element = document.createElement('script');\n",
       "      element.onload = on_load;\n",
       "      element.onerror = on_error.bind(null, url);\n",
       "      element.async = false;\n",
       "      element.src = url;\n",
       "      if (url in hashes) {\n",
       "        element.crossOrigin = \"anonymous\";\n",
       "        element.integrity = \"sha384-\" + hashes[url];\n",
       "      }\n",
       "      console.debug(\"Bokeh: injecting script tag for BokehJS library: \", url);\n",
       "      document.head.appendChild(element);\n",
       "    }\n",
       "  };\n",
       "\n",
       "  function inject_raw_css(css) {\n",
       "    const element = document.createElement(\"style\");\n",
       "    element.appendChild(document.createTextNode(css));\n",
       "    document.body.appendChild(element);\n",
       "  }\n",
       "\n",
       "  \n",
       "  var js_urls = [\"https://cdn.bokeh.org/bokeh/release/bokeh-2.3.2.min.js\", \"https://cdn.bokeh.org/bokeh/release/bokeh-widgets-2.3.2.min.js\", \"https://cdn.bokeh.org/bokeh/release/bokeh-tables-2.3.2.min.js\"];\n",
       "  var css_urls = [];\n",
       "  \n",
       "\n",
       "  var inline_js = [\n",
       "    function(Bokeh) {\n",
       "      Bokeh.set_log_level(\"info\");\n",
       "    },\n",
       "    function(Bokeh) {\n",
       "    \n",
       "    \n",
       "    }\n",
       "  ];\n",
       "\n",
       "  function run_inline_js() {\n",
       "    \n",
       "    if (root.Bokeh !== undefined || force === true) {\n",
       "      \n",
       "    for (var i = 0; i < inline_js.length; i++) {\n",
       "      inline_js[i].call(root, root.Bokeh);\n",
       "    }\n",
       "    if (force === true) {\n",
       "        display_loaded();\n",
       "      }} else if (Date.now() < root._bokeh_timeout) {\n",
       "      setTimeout(run_inline_js, 100);\n",
       "    } else if (!root._bokeh_failed_load) {\n",
       "      console.log(\"Bokeh: BokehJS failed to load within specified timeout.\");\n",
       "      root._bokeh_failed_load = true;\n",
       "    } else if (force !== true) {\n",
       "      var cell = $(document.getElementById(\"1146\")).parents('.cell').data().cell;\n",
       "      cell.output_area.append_execute_result(NB_LOAD_WARNING)\n",
       "    }\n",
       "\n",
       "  }\n",
       "\n",
       "  if (root._bokeh_is_loading === 0) {\n",
       "    console.debug(\"Bokeh: BokehJS loaded, going straight to plotting\");\n",
       "    run_inline_js();\n",
       "  } else {\n",
       "    load_libs(css_urls, js_urls, function() {\n",
       "      console.debug(\"Bokeh: BokehJS plotting callback run at\", now());\n",
       "      run_inline_js();\n",
       "    });\n",
       "  }\n",
       "}(window));"
      ],
      "application/vnd.bokehjs_load.v0+json": "\n(function(root) {\n  function now() {\n    return new Date();\n  }\n\n  var force = true;\n\n  if (typeof root._bokeh_onload_callbacks === \"undefined\" || force === true) {\n    root._bokeh_onload_callbacks = [];\n    root._bokeh_is_loading = undefined;\n  }\n\n  \n\n  \n  if (typeof (root._bokeh_timeout) === \"undefined\" || force === true) {\n    root._bokeh_timeout = Date.now() + 5000;\n    root._bokeh_failed_load = false;\n  }\n\n  var NB_LOAD_WARNING = {'data': {'text/html':\n     \"<div style='background-color: #fdd'>\\n\"+\n     \"<p>\\n\"+\n     \"BokehJS does not appear to have successfully loaded. If loading BokehJS from CDN, this \\n\"+\n     \"may be due to a slow or bad network connection. Possible fixes:\\n\"+\n     \"</p>\\n\"+\n     \"<ul>\\n\"+\n     \"<li>re-rerun `output_notebook()` to attempt to load from CDN again, or</li>\\n\"+\n     \"<li>use INLINE resources instead, as so:</li>\\n\"+\n     \"</ul>\\n\"+\n     \"<code>\\n\"+\n     \"from bokeh.resources import INLINE\\n\"+\n     \"output_notebook(resources=INLINE)\\n\"+\n     \"</code>\\n\"+\n     \"</div>\"}};\n\n  function display_loaded() {\n    var el = document.getElementById(\"1146\");\n    if (el != null) {\n      el.textContent = \"BokehJS is loading...\";\n    }\n    if (root.Bokeh !== undefined) {\n      if (el != null) {\n        el.textContent = \"BokehJS \" + root.Bokeh.version + \" successfully loaded.\";\n      }\n    } else if (Date.now() < root._bokeh_timeout) {\n      setTimeout(display_loaded, 100)\n    }\n  }\n\n\n  function run_callbacks() {\n    try {\n      root._bokeh_onload_callbacks.forEach(function(callback) {\n        if (callback != null)\n          callback();\n      });\n    } finally {\n      delete root._bokeh_onload_callbacks\n    }\n    console.debug(\"Bokeh: all callbacks have finished\");\n  }\n\n  function load_libs(css_urls, js_urls, callback) {\n    if (css_urls == null) css_urls = [];\n    if (js_urls == null) js_urls = [];\n\n    root._bokeh_onload_callbacks.push(callback);\n    if (root._bokeh_is_loading > 0) {\n      console.debug(\"Bokeh: BokehJS is being loaded, scheduling callback at\", now());\n      return null;\n    }\n    if (js_urls == null || js_urls.length === 0) {\n      run_callbacks();\n      return null;\n    }\n    console.debug(\"Bokeh: BokehJS not loaded, scheduling load and callback at\", now());\n    root._bokeh_is_loading = css_urls.length + js_urls.length;\n\n    function on_load() {\n      root._bokeh_is_loading--;\n      if (root._bokeh_is_loading === 0) {\n        console.debug(\"Bokeh: all BokehJS libraries/stylesheets loaded\");\n        run_callbacks()\n      }\n    }\n\n    function on_error(url) {\n      console.error(\"failed to load \" + url);\n    }\n\n    for (let i = 0; i < css_urls.length; i++) {\n      const url = css_urls[i];\n      const element = document.createElement(\"link\");\n      element.onload = on_load;\n      element.onerror = on_error.bind(null, url);\n      element.rel = \"stylesheet\";\n      element.type = \"text/css\";\n      element.href = url;\n      console.debug(\"Bokeh: injecting link tag for BokehJS stylesheet: \", url);\n      document.body.appendChild(element);\n    }\n\n    const hashes = {\"https://cdn.bokeh.org/bokeh/release/bokeh-2.3.2.min.js\": \"XypntL49z55iwGVUW4qsEu83zKL3XEcz0MjuGOQ9SlaaQ68X/g+k1FcioZi7oQAc\", \"https://cdn.bokeh.org/bokeh/release/bokeh-tables-2.3.2.min.js\": \"bEsM86IHGDTLCS0Zod8a8WM6Y4+lafAL/eSiyQcuPzinmWNgNO2/olUF0Z2Dkn5i\", \"https://cdn.bokeh.org/bokeh/release/bokeh-widgets-2.3.2.min.js\": \"TX0gSQTdXTTeScqxj6PVQxTiRW8DOoGVwinyi1D3kxv7wuxQ02XkOxv0xwiypcAH\"};\n\n    for (let i = 0; i < js_urls.length; i++) {\n      const url = js_urls[i];\n      const element = document.createElement('script');\n      element.onload = on_load;\n      element.onerror = on_error.bind(null, url);\n      element.async = false;\n      element.src = url;\n      if (url in hashes) {\n        element.crossOrigin = \"anonymous\";\n        element.integrity = \"sha384-\" + hashes[url];\n      }\n      console.debug(\"Bokeh: injecting script tag for BokehJS library: \", url);\n      document.head.appendChild(element);\n    }\n  };\n\n  function inject_raw_css(css) {\n    const element = document.createElement(\"style\");\n    element.appendChild(document.createTextNode(css));\n    document.body.appendChild(element);\n  }\n\n  \n  var js_urls = [\"https://cdn.bokeh.org/bokeh/release/bokeh-2.3.2.min.js\", \"https://cdn.bokeh.org/bokeh/release/bokeh-widgets-2.3.2.min.js\", \"https://cdn.bokeh.org/bokeh/release/bokeh-tables-2.3.2.min.js\"];\n  var css_urls = [];\n  \n\n  var inline_js = [\n    function(Bokeh) {\n      Bokeh.set_log_level(\"info\");\n    },\n    function(Bokeh) {\n    \n    \n    }\n  ];\n\n  function run_inline_js() {\n    \n    if (root.Bokeh !== undefined || force === true) {\n      \n    for (var i = 0; i < inline_js.length; i++) {\n      inline_js[i].call(root, root.Bokeh);\n    }\n    if (force === true) {\n        display_loaded();\n      }} else if (Date.now() < root._bokeh_timeout) {\n      setTimeout(run_inline_js, 100);\n    } else if (!root._bokeh_failed_load) {\n      console.log(\"Bokeh: BokehJS failed to load within specified timeout.\");\n      root._bokeh_failed_load = true;\n    } else if (force !== true) {\n      var cell = $(document.getElementById(\"1146\")).parents('.cell').data().cell;\n      cell.output_area.append_execute_result(NB_LOAD_WARNING)\n    }\n\n  }\n\n  if (root._bokeh_is_loading === 0) {\n    console.debug(\"Bokeh: BokehJS loaded, going straight to plotting\");\n    run_inline_js();\n  } else {\n    load_libs(css_urls, js_urls, function() {\n      console.debug(\"Bokeh: BokehJS plotting callback run at\", now());\n      run_inline_js();\n    });\n  }\n}(window));"
     },
     "metadata": {},
     "output_type": "display_data"
    },
    {
     "data": {
      "text/html": [
       "\n",
       "\n",
       "\n",
       "\n",
       "\n",
       "\n",
       "  <div class=\"bk-root\" id=\"660d6ed1-f9fa-4fc3-a99c-d8bae9f4cd75\" data-root-id=\"1315\"></div>\n"
      ]
     },
     "metadata": {},
     "output_type": "display_data"
    },
    {
     "data": {
      "application/javascript": [
       "(function(root) {\n",
       "  function embed_document(root) {\n",
       "    \n",
       "  var docs_json = {\"ca7cf5b8-ff6d-4017-a711-e8c9f59ffa01\":{\"defs\":[],\"roots\":{\"references\":[{\"attributes\":{\"children\":[{\"id\":\"1157\"},{\"id\":\"1189\"}]},\"id\":\"1315\",\"type\":\"Column\"},{\"attributes\":{\"data\":{\"AppResourceProvider\":[\"Microsoft App Access Panel\"],\"IPAddress\":[\"208.104.92.208\"],\"Operation\":[\"Sign-in activity\"],\"TimeGenerated\":{\"__ndarray__\":\"ABBVvPGid0I=\",\"dtype\":\"float64\",\"order\":\"little\",\"shape\":[1]},\"index\":[2],\"y_index\":[4]},\"selected\":{\"id\":\"1347\"},\"selection_policy\":{\"id\":\"1346\"}},\"id\":\"1151\",\"type\":\"ColumnDataSource\"},{\"attributes\":{},\"id\":\"1173\",\"type\":\"BasicTicker\"},{\"attributes\":{\"data_source\":{\"id\":\"1147\"},\"glyph\":{\"id\":\"1209\"},\"hover_glyph\":null,\"muted_glyph\":null,\"nonselection_glyph\":{\"id\":\"1210\"},\"view\":{\"id\":\"1212\"}},\"id\":\"1211\",\"type\":\"GlyphRenderer\"},{\"attributes\":{\"data_source\":{\"id\":\"1149\"},\"glyph\":{\"id\":\"1219\"},\"hover_glyph\":null,\"muted_glyph\":null,\"nonselection_glyph\":{\"id\":\"1220\"},\"view\":{\"id\":\"1222\"}},\"id\":\"1221\",\"type\":\"GlyphRenderer\"},{\"attributes\":{\"active_multi\":{\"id\":\"1253\"},\"tools\":[{\"id\":\"1253\"}]},\"id\":\"1204\",\"type\":\"Toolbar\"},{\"attributes\":{\"fill_alpha\":{\"value\":0.1},\"fill_color\":{\"value\":\"#3E4989\"},\"line_alpha\":{\"value\":0.1},\"line_color\":{\"value\":\"#3E4989\"},\"x\":{\"field\":\"TimeGenerated\"},\"y\":{\"field\":\"y_index\"}},\"id\":\"1220\",\"type\":\"Circle\"},{\"attributes\":{\"axis\":{\"id\":\"1172\"},\"dimension\":1,\"grid_line_color\":null,\"ticker\":null},\"id\":\"1175\",\"type\":\"Grid\"},{\"attributes\":{\"fill_alpha\":{\"value\":0.5},\"fill_color\":{\"value\":\"#30678D\"},\"line_alpha\":{\"value\":0.5},\"line_color\":{\"value\":\"#30678D\"},\"marker\":{\"value\":\"diamond\"},\"size\":{\"value\":10},\"x\":{\"field\":\"TimeGenerated\"},\"y\":{\"field\":\"y_index\"}},\"id\":\"1279\",\"type\":\"Scatter\"},{\"attributes\":{\"text\":\"Timeline: Azure account activity by Provider\"},\"id\":\"1158\",\"type\":\"Title\"},{\"attributes\":{\"data_source\":{\"id\":\"1149\"},\"glyph\":{\"id\":\"1273\"},\"hover_glyph\":null,\"muted_glyph\":null,\"nonselection_glyph\":{\"id\":\"1274\"},\"view\":{\"id\":\"1276\"}},\"id\":\"1275\",\"type\":\"GlyphRenderer\"},{\"attributes\":{\"days\":[\"%m-%d %H:%M\"],\"hours\":[\"%H:%M:%S\"],\"milliseconds\":[\"%H:%M:%S.%3N\"],\"minutes\":[\"%H:%M:%S\"],\"seconds\":[\"%H:%M:%S\"]},\"id\":\"1206\",\"type\":\"DatetimeTickFormatter\"},{\"attributes\":{\"fill_color\":{\"value\":\"#3E4989\"},\"line_color\":{\"value\":\"#3E4989\"},\"x\":{\"field\":\"TimeGenerated\"},\"y\":{\"field\":\"y_index\"}},\"id\":\"1219\",\"type\":\"Circle\"},{\"attributes\":{\"source\":{\"id\":\"1149\"}},\"id\":\"1222\",\"type\":\"CDSView\"},{\"attributes\":{\"data_source\":{\"id\":\"1150\"},\"glyph\":{\"id\":\"1279\"},\"hover_glyph\":null,\"muted_glyph\":null,\"nonselection_glyph\":{\"id\":\"1280\"},\"view\":{\"id\":\"1282\"}},\"id\":\"1281\",\"type\":\"GlyphRenderer\"},{\"attributes\":{\"fill_alpha\":{\"value\":0.5},\"fill_color\":{\"value\":\"#3E4989\"},\"line_alpha\":{\"value\":0.5},\"line_color\":{\"value\":\"#3E4989\"},\"marker\":{\"value\":\"diamond\"},\"size\":{\"value\":10},\"x\":{\"field\":\"TimeGenerated\"},\"y\":{\"field\":\"y_index\"}},\"id\":\"1273\",\"type\":\"Scatter\"},{\"attributes\":{\"dimensions\":\"width\"},\"id\":\"1176\",\"type\":\"WheelZoomTool\"},{\"attributes\":{\"data_source\":{\"id\":\"1150\"},\"glyph\":{\"id\":\"1224\"},\"hover_glyph\":null,\"muted_glyph\":null,\"nonselection_glyph\":{\"id\":\"1225\"},\"view\":{\"id\":\"1227\"}},\"id\":\"1226\",\"type\":\"GlyphRenderer\"},{\"attributes\":{},\"id\":\"1179\",\"type\":\"SaveTool\"},{\"attributes\":{\"overlay\":{\"id\":\"1181\"}},\"id\":\"1177\",\"type\":\"BoxZoomTool\"},{\"attributes\":{\"fill_alpha\":{\"value\":0.1},\"fill_color\":{\"value\":\"#30678D\"},\"line_alpha\":{\"value\":0.1},\"line_color\":{\"value\":\"#30678D\"},\"x\":{\"field\":\"TimeGenerated\"},\"y\":{\"field\":\"y_index\"}},\"id\":\"1225\",\"type\":\"Circle\"},{\"attributes\":{},\"id\":\"1178\",\"type\":\"ResetTool\"},{\"attributes\":{\"fill_color\":{\"value\":\"#6BCD59\"},\"line_color\":{\"value\":\"#6BCD59\"},\"x\":{\"field\":\"TimeGenerated\"},\"y\":{\"field\":\"y_index\"}},\"id\":\"1244\",\"type\":\"Circle\"},{\"attributes\":{\"data\":{\"AppResourceProvider\":[\"Microsoft Resources\"],\"IPAddress\":[\"\"],\"Operation\":[\"Create Deployment\"],\"TimeGenerated\":{\"__ndarray__\":\"ADCMKfmjd0I=\",\"dtype\":\"float64\",\"order\":\"little\",\"shape\":[1]},\"index\":[25],\"y_index\":[5]},\"selected\":{\"id\":\"1349\"},\"selection_policy\":{\"id\":\"1348\"}},\"id\":\"1152\",\"type\":\"ColumnDataSource\"},{\"attributes\":{\"fill_alpha\":{\"value\":0.1},\"fill_color\":{\"value\":\"#3E4989\"},\"line_alpha\":{\"value\":0.1},\"line_color\":{\"value\":\"#3E4989\"},\"marker\":{\"value\":\"diamond\"},\"size\":{\"value\":10},\"x\":{\"field\":\"TimeGenerated\"},\"y\":{\"field\":\"y_index\"}},\"id\":\"1274\",\"type\":\"Scatter\"},{\"attributes\":{\"dimensions\":\"width\"},\"id\":\"1180\",\"type\":\"PanTool\"},{\"attributes\":{\"fill_color\":{\"value\":\"#30678D\"},\"line_color\":{\"value\":\"#30678D\"},\"x\":{\"field\":\"TimeGenerated\"},\"y\":{\"field\":\"y_index\"}},\"id\":\"1224\",\"type\":\"Circle\"},{\"attributes\":{\"source\":{\"id\":\"1150\"}},\"id\":\"1227\",\"type\":\"CDSView\"},{\"attributes\":{\"base\":24,\"mantissas\":[1,2,4,6,8,12],\"max_interval\":43200000.0,\"min_interval\":3600000.0,\"num_minor_ticks\":0},\"id\":\"1327\",\"type\":\"AdaptiveTicker\"},{\"attributes\":{\"data_source\":{\"id\":\"1151\"},\"glyph\":{\"id\":\"1229\"},\"hover_glyph\":null,\"muted_glyph\":null,\"nonselection_glyph\":{\"id\":\"1230\"},\"view\":{\"id\":\"1232\"}},\"id\":\"1231\",\"type\":\"GlyphRenderer\"},{\"attributes\":{\"fill_alpha\":{\"value\":0.1},\"fill_color\":{\"value\":\"#25828E\"},\"line_alpha\":{\"value\":0.1},\"line_color\":{\"value\":\"#25828E\"},\"x\":{\"field\":\"TimeGenerated\"},\"y\":{\"field\":\"y_index\"}},\"id\":\"1230\",\"type\":\"Circle\"},{\"attributes\":{\"end\":1624606628646.7998,\"start\":1624246255475.2},\"id\":\"1192\",\"type\":\"Range1d\"},{\"attributes\":{\"source\":{\"id\":\"1148\"}},\"id\":\"1270\",\"type\":\"CDSView\"},{\"attributes\":{\"data\":{\"AppResourceProvider\":[\"Amazon Web Services (AWS) -NinjaTenant\"],\"IPAddress\":[\"208.104.92.208\"],\"Operation\":[\"Sign-in activity\"],\"TimeGenerated\":{\"__ndarray__\":\"AFAKvvGid0I=\",\"dtype\":\"float64\",\"order\":\"little\",\"shape\":[1]},\"index\":[0],\"y_index\":[0]},\"selected\":{\"id\":\"1339\"},\"selection_policy\":{\"id\":\"1338\"}},\"id\":\"1147\",\"type\":\"ColumnDataSource\"},{\"attributes\":{\"fill_color\":{\"value\":\"#25828E\"},\"line_color\":{\"value\":\"#25828E\"},\"x\":{\"field\":\"TimeGenerated\"},\"y\":{\"field\":\"y_index\"}},\"id\":\"1229\",\"type\":\"Circle\"},{\"attributes\":{\"source\":{\"id\":\"1151\"}},\"id\":\"1232\",\"type\":\"CDSView\"},{\"attributes\":{\"label\":{\"value\":\"Azure AD Identity Governance - Entitlement Management\"},\"renderers\":[{\"id\":\"1269\"}]},\"id\":\"1271\",\"type\":\"LegendItem\"},{\"attributes\":{\"data\":{\"AppResourceProvider\":[\"Microsoft.Advisor\",\"Microsoft.Advisor\",\"Microsoft.Advisor\",\"Microsoft.Advisor\"],\"IPAddress\":[\"208.104.92.208\",\"208.104.92.208\",\"208.104.92.208\",\"208.104.92.208\"],\"Operation\":[\"Generate Recommendations\",\"Generate Recommendations\",\"Generate Recommendations\",\"Generate Recommendations\"],\"TimeGenerated\":{\"__ndarray__\":\"AGCxOvmjd0IAMLQ6+aN3QgCwWPP5o3dCANBb8/mjd0I=\",\"dtype\":\"float64\",\"order\":\"little\",\"shape\":[4]},\"index\":[77,78,242,243],\"y_index\":[6,6,6,6]},\"selected\":{\"id\":\"1351\"},\"selection_policy\":{\"id\":\"1350\"}},\"id\":\"1153\",\"type\":\"ColumnDataSource\"},{\"attributes\":{\"data_source\":{\"id\":\"1152\"},\"glyph\":{\"id\":\"1234\"},\"hover_glyph\":null,\"muted_glyph\":null,\"nonselection_glyph\":{\"id\":\"1235\"},\"view\":{\"id\":\"1237\"}},\"id\":\"1236\",\"type\":\"GlyphRenderer\"},{\"attributes\":{\"callback\":null,\"formatters\":{\"@TimeGenerated\":\"datetime\"},\"tooltips\":[[\"TimeGenerated\",\"@TimeGenerated{%F %T.%3N}\"],[\"IPAddress\",\"@IPAddress\"],[\"Operation\",\"@Operation\"],[\"AppResourceProvider\",\"@AppResourceProvider\"]]},\"id\":\"1156\",\"type\":\"HoverTool\"},{\"attributes\":{\"label\":{\"value\":\"Microsoft App Access Panel\"},\"renderers\":[{\"id\":\"1287\"}]},\"id\":\"1289\",\"type\":\"LegendItem\"},{\"attributes\":{\"fill_alpha\":{\"value\":0.1},\"fill_color\":{\"value\":\"#1E9C89\"},\"line_alpha\":{\"value\":0.1},\"line_color\":{\"value\":\"#1E9C89\"},\"x\":{\"field\":\"TimeGenerated\"},\"y\":{\"field\":\"y_index\"}},\"id\":\"1235\",\"type\":\"Circle\"},{\"attributes\":{\"below\":[{\"id\":\"1200\"},{\"id\":\"1205\"}],\"center\":[{\"id\":\"1203\"}],\"height\":120,\"renderers\":[{\"id\":\"1211\"},{\"id\":\"1216\"},{\"id\":\"1221\"},{\"id\":\"1226\"},{\"id\":\"1231\"},{\"id\":\"1236\"},{\"id\":\"1241\"},{\"id\":\"1246\"},{\"id\":\"1251\"}],\"title\":{\"id\":\"1190\"},\"toolbar\":{\"id\":\"1204\"},\"toolbar_location\":null,\"width\":900,\"x_range\":{\"id\":\"1192\"},\"x_scale\":{\"id\":\"1196\"},\"y_range\":{\"id\":\"1194\"},\"y_scale\":{\"id\":\"1198\"}},\"id\":\"1189\",\"subtype\":\"Figure\",\"type\":\"Plot\"},{\"attributes\":{\"below\":[{\"id\":\"1168\"}],\"center\":[{\"id\":\"1171\"},{\"id\":\"1175\"}],\"height\":360,\"left\":[{\"id\":\"1172\"},{\"id\":\"1314\"}],\"min_border_left\":50,\"renderers\":[{\"id\":\"1263\"},{\"id\":\"1269\"},{\"id\":\"1275\"},{\"id\":\"1281\"},{\"id\":\"1287\"},{\"id\":\"1293\"},{\"id\":\"1299\"},{\"id\":\"1305\"},{\"id\":\"1311\"}],\"title\":{\"id\":\"1158\"},\"toolbar\":{\"id\":\"1182\"},\"width\":900,\"x_range\":{\"id\":\"1160\"},\"x_scale\":{\"id\":\"1164\"},\"y_range\":{\"id\":\"1162\"},\"y_scale\":{\"id\":\"1166\"}},\"id\":\"1157\",\"subtype\":\"Figure\",\"type\":\"Plot\"},{\"attributes\":{\"overlay\":{\"id\":\"1254\"},\"x_range\":{\"id\":\"1160\"},\"y_range\":null},\"id\":\"1253\",\"type\":\"RangeTool\"},{\"attributes\":{\"fill_color\":{\"value\":\"#1E9C89\"},\"line_color\":{\"value\":\"#1E9C89\"},\"x\":{\"field\":\"TimeGenerated\"},\"y\":{\"field\":\"y_index\"}},\"id\":\"1234\",\"type\":\"Circle\"},{\"attributes\":{\"source\":{\"id\":\"1152\"}},\"id\":\"1237\",\"type\":\"CDSView\"},{\"attributes\":{\"bottom_units\":\"screen\",\"fill_alpha\":0.5,\"fill_color\":\"lightgrey\",\"left_units\":\"screen\",\"level\":\"overlay\",\"line_alpha\":1.0,\"line_color\":\"black\",\"line_dash\":[4,4],\"line_width\":2,\"right_units\":\"screen\",\"syncable\":false,\"top_units\":\"screen\"},\"id\":\"1181\",\"type\":\"BoxAnnotation\"},{\"attributes\":{\"end\":1624592768140.2,\"start\":1624260115981.8},\"id\":\"1160\",\"type\":\"Range1d\"},{\"attributes\":{\"end\":8.11111111111111,\"start\":-0.1111111111111111},\"id\":\"1162\",\"type\":\"Range1d\"},{\"attributes\":{\"source\":{\"id\":\"1149\"}},\"id\":\"1276\",\"type\":\"CDSView\"},{\"attributes\":{\"data_source\":{\"id\":\"1153\"},\"glyph\":{\"id\":\"1239\"},\"hover_glyph\":null,\"muted_glyph\":null,\"nonselection_glyph\":{\"id\":\"1240\"},\"view\":{\"id\":\"1242\"}},\"id\":\"1241\",\"type\":\"GlyphRenderer\"},{\"attributes\":{\"source\":{\"id\":\"1148\"}},\"id\":\"1217\",\"type\":\"CDSView\"},{\"attributes\":{\"label\":{\"value\":\"Azure Portal\"},\"renderers\":[{\"id\":\"1275\"}]},\"id\":\"1277\",\"type\":\"LegendItem\"},{\"attributes\":{\"fill_alpha\":{\"value\":0.1},\"fill_color\":{\"value\":\"#35B778\"},\"line_alpha\":{\"value\":0.1},\"line_color\":{\"value\":\"#35B778\"},\"x\":{\"field\":\"TimeGenerated\"},\"y\":{\"field\":\"y_index\"}},\"id\":\"1240\",\"type\":\"Circle\"},{\"attributes\":{\"fill_alpha\":{\"value\":0.1},\"fill_color\":{\"value\":\"#440154\"},\"line_alpha\":{\"value\":0.1},\"line_color\":{\"value\":\"#440154\"},\"x\":{\"field\":\"TimeGenerated\"},\"y\":{\"field\":\"y_index\"}},\"id\":\"1210\",\"type\":\"Circle\"},{\"attributes\":{\"axis_label\":\"Event Time\",\"formatter\":{\"id\":\"1258\"},\"major_label_policy\":{\"id\":\"1318\"},\"ticker\":{\"id\":\"1169\"}},\"id\":\"1168\",\"type\":\"DatetimeAxis\"},{\"attributes\":{},\"id\":\"1194\",\"type\":\"DataRange1d\"},{\"attributes\":{\"label\":{\"value\":\"Microsoft 365 Security and Compliance Center\"},\"renderers\":[{\"id\":\"1281\"}]},\"id\":\"1283\",\"type\":\"LegendItem\"},{\"attributes\":{\"fill_alpha\":{\"value\":0.1},\"fill_color\":{\"value\":\"#30678D\"},\"line_alpha\":{\"value\":0.1},\"line_color\":{\"value\":\"#30678D\"},\"marker\":{\"value\":\"diamond\"},\"size\":{\"value\":10},\"x\":{\"field\":\"TimeGenerated\"},\"y\":{\"field\":\"y_index\"}},\"id\":\"1280\",\"type\":\"Scatter\"},{\"attributes\":{\"fill_color\":{\"value\":\"#35B778\"},\"line_color\":{\"value\":\"#35B778\"},\"x\":{\"field\":\"TimeGenerated\"},\"y\":{\"field\":\"y_index\"}},\"id\":\"1239\",\"type\":\"Circle\"},{\"attributes\":{},\"id\":\"1164\",\"type\":\"LinearScale\"},{\"attributes\":{\"fill_alpha\":{\"value\":0.1},\"fill_color\":{\"value\":\"#472777\"},\"line_alpha\":{\"value\":0.1},\"line_color\":{\"value\":\"#472777\"},\"x\":{\"field\":\"TimeGenerated\"},\"y\":{\"field\":\"y_index\"}},\"id\":\"1215\",\"type\":\"Circle\"},{\"attributes\":{\"source\":{\"id\":\"1153\"}},\"id\":\"1242\",\"type\":\"CDSView\"},{\"attributes\":{\"fill_color\":{\"value\":\"#440154\"},\"line_color\":{\"value\":\"#440154\"},\"x\":{\"field\":\"TimeGenerated\"},\"y\":{\"field\":\"y_index\"}},\"id\":\"1209\",\"type\":\"Circle\"},{\"attributes\":{\"num_minor_ticks\":10,\"tickers\":[{\"id\":\"1325\"},{\"id\":\"1326\"},{\"id\":\"1327\"},{\"id\":\"1328\"},{\"id\":\"1329\"},{\"id\":\"1330\"},{\"id\":\"1331\"},{\"id\":\"1332\"},{\"id\":\"1333\"},{\"id\":\"1334\"},{\"id\":\"1335\"},{\"id\":\"1336\"}]},\"id\":\"1169\",\"type\":\"DatetimeTicker\"},{\"attributes\":{\"source\":{\"id\":\"1147\"}},\"id\":\"1212\",\"type\":\"CDSView\"},{\"attributes\":{\"data_source\":{\"id\":\"1154\"},\"glyph\":{\"id\":\"1244\"},\"hover_glyph\":null,\"muted_glyph\":null,\"nonselection_glyph\":{\"id\":\"1245\"},\"view\":{\"id\":\"1247\"}},\"id\":\"1246\",\"type\":\"GlyphRenderer\"},{\"attributes\":{},\"id\":\"1166\",\"type\":\"LinearScale\"},{\"attributes\":{\"fill_alpha\":{\"value\":0.1},\"fill_color\":{\"value\":\"#6BCD59\"},\"line_alpha\":{\"value\":0.1},\"line_color\":{\"value\":\"#6BCD59\"},\"x\":{\"field\":\"TimeGenerated\"},\"y\":{\"field\":\"y_index\"}},\"id\":\"1245\",\"type\":\"Circle\"},{\"attributes\":{\"formatter\":{\"id\":\"1322\"},\"major_label_policy\":{\"id\":\"1320\"},\"ticker\":{\"id\":\"1173\"},\"visible\":false},\"id\":\"1172\",\"type\":\"LinearAxis\"},{\"attributes\":{\"data_source\":{\"id\":\"1148\"},\"glyph\":{\"id\":\"1214\"},\"hover_glyph\":null,\"muted_glyph\":null,\"nonselection_glyph\":{\"id\":\"1215\"},\"view\":{\"id\":\"1217\"}},\"id\":\"1216\",\"type\":\"GlyphRenderer\"},{\"attributes\":{\"axis\":{\"id\":\"1168\"},\"minor_grid_line_alpha\":0.3,\"minor_grid_line_color\":\"navy\",\"ticker\":null},\"id\":\"1171\",\"type\":\"Grid\"},{\"attributes\":{\"fill_color\":{\"value\":\"#472777\"},\"line_color\":{\"value\":\"#472777\"},\"x\":{\"field\":\"TimeGenerated\"},\"y\":{\"field\":\"y_index\"}},\"id\":\"1214\",\"type\":\"Circle\"},{\"attributes\":{\"data_source\":{\"id\":\"1148\"},\"glyph\":{\"id\":\"1267\"},\"hover_glyph\":null,\"muted_glyph\":null,\"nonselection_glyph\":{\"id\":\"1268\"},\"view\":{\"id\":\"1270\"}},\"id\":\"1269\",\"type\":\"GlyphRenderer\"},{\"attributes\":{},\"id\":\"1198\",\"type\":\"LinearScale\"},{\"attributes\":{\"formatter\":{\"id\":\"1206\"},\"major_label_policy\":{\"id\":\"1323\"},\"ticker\":{\"id\":\"1201\"}},\"id\":\"1200\",\"type\":\"DatetimeAxis\"},{\"attributes\":{\"source\":{\"id\":\"1154\"}},\"id\":\"1247\",\"type\":\"CDSView\"},{\"attributes\":{},\"id\":\"1318\",\"type\":\"AllLabels\"},{\"attributes\":{\"source\":{\"id\":\"1153\"}},\"id\":\"1300\",\"type\":\"CDSView\"},{\"attributes\":{},\"id\":\"1341\",\"type\":\"Selection\"},{\"attributes\":{\"data_source\":{\"id\":\"1153\"},\"glyph\":{\"id\":\"1297\"},\"hover_glyph\":null,\"muted_glyph\":null,\"nonselection_glyph\":{\"id\":\"1298\"},\"view\":{\"id\":\"1300\"}},\"id\":\"1299\",\"type\":\"GlyphRenderer\"},{\"attributes\":{},\"id\":\"1343\",\"type\":\"Selection\"},{\"attributes\":{\"data_source\":{\"id\":\"1155\"},\"glyph\":{\"id\":\"1249\"},\"hover_glyph\":null,\"muted_glyph\":null,\"nonselection_glyph\":{\"id\":\"1250\"},\"view\":{\"id\":\"1252\"}},\"id\":\"1251\",\"type\":\"GlyphRenderer\"},{\"attributes\":{\"fill_alpha\":{\"value\":0.1},\"fill_color\":{\"value\":\"#B2DD2C\"},\"line_alpha\":{\"value\":0.1},\"line_color\":{\"value\":\"#B2DD2C\"},\"x\":{\"field\":\"TimeGenerated\"},\"y\":{\"field\":\"y_index\"}},\"id\":\"1250\",\"type\":\"Circle\"},{\"attributes\":{},\"id\":\"1342\",\"type\":\"UnionRenderers\"},{\"attributes\":{\"fill_alpha\":0.2,\"fill_color\":\"navy\",\"level\":\"overlay\",\"line_alpha\":1.0,\"line_color\":\"black\",\"line_dash\":[2,2],\"line_width\":0.5,\"syncable\":false},\"id\":\"1254\",\"type\":\"BoxAnnotation\"},{\"attributes\":{\"days\":[1,4,7,10,13,16,19,22,25,28]},\"id\":\"1329\",\"type\":\"DaysTicker\"},{\"attributes\":{},\"id\":\"1345\",\"type\":\"Selection\"},{\"attributes\":{},\"id\":\"1344\",\"type\":\"UnionRenderers\"},{\"attributes\":{\"fill_color\":{\"value\":\"#B2DD2C\"},\"line_color\":{\"value\":\"#B2DD2C\"},\"x\":{\"field\":\"TimeGenerated\"},\"y\":{\"field\":\"y_index\"}},\"id\":\"1249\",\"type\":\"Circle\"},{\"attributes\":{\"source\":{\"id\":\"1155\"}},\"id\":\"1252\",\"type\":\"CDSView\"},{\"attributes\":{\"days\":[1,8,15,22]},\"id\":\"1330\",\"type\":\"DaysTicker\"},{\"attributes\":{},\"id\":\"1347\",\"type\":\"Selection\"},{\"attributes\":{\"data_source\":{\"id\":\"1154\"},\"glyph\":{\"id\":\"1303\"},\"hover_glyph\":null,\"muted_glyph\":null,\"nonselection_glyph\":{\"id\":\"1304\"},\"view\":{\"id\":\"1306\"}},\"id\":\"1305\",\"type\":\"GlyphRenderer\"},{\"attributes\":{\"align\":\"right\",\"text\":\"Drag the middle or edges of the selection box to change the range in the main chart\",\"text_font_size\":\"10px\"},\"id\":\"1205\",\"type\":\"Title\"},{\"attributes\":{\"fill_alpha\":{\"value\":0.5},\"fill_color\":{\"value\":\"#6BCD59\"},\"line_alpha\":{\"value\":0.5},\"line_color\":{\"value\":\"#6BCD59\"},\"marker\":{\"value\":\"diamond\"},\"size\":{\"value\":10},\"x\":{\"field\":\"TimeGenerated\"},\"y\":{\"field\":\"y_index\"}},\"id\":\"1303\",\"type\":\"Scatter\"},{\"attributes\":{},\"id\":\"1346\",\"type\":\"UnionRenderers\"},{\"attributes\":{\"days\":[\"%m-%d %H:%M\"],\"hours\":[\"%H:%M:%S\"],\"milliseconds\":[\"%H:%M:%S.%3N\"],\"minutes\":[\"%H:%M:%S\"],\"seconds\":[\"%H:%M:%S\"]},\"id\":\"1258\",\"type\":\"DatetimeTickFormatter\"},{\"attributes\":{},\"id\":\"1349\",\"type\":\"Selection\"},{\"attributes\":{\"data_source\":{\"id\":\"1147\"},\"glyph\":{\"id\":\"1261\"},\"hover_glyph\":null,\"muted_glyph\":null,\"nonselection_glyph\":{\"id\":\"1262\"},\"view\":{\"id\":\"1264\"}},\"id\":\"1263\",\"type\":\"GlyphRenderer\"},{\"attributes\":{\"label\":{\"value\":\"Amazon Web Services (AWS) -NinjaTenant\"},\"renderers\":[{\"id\":\"1263\"}]},\"id\":\"1265\",\"type\":\"LegendItem\"},{\"attributes\":{\"fill_alpha\":{\"value\":0.1},\"fill_color\":{\"value\":\"#6BCD59\"},\"line_alpha\":{\"value\":0.1},\"line_color\":{\"value\":\"#6BCD59\"},\"marker\":{\"value\":\"diamond\"},\"size\":{\"value\":10},\"x\":{\"field\":\"TimeGenerated\"},\"y\":{\"field\":\"y_index\"}},\"id\":\"1304\",\"type\":\"Scatter\"},{\"attributes\":{},\"id\":\"1348\",\"type\":\"UnionRenderers\"},{\"attributes\":{\"fill_alpha\":{\"value\":0.5},\"fill_color\":{\"value\":\"#25828E\"},\"line_alpha\":{\"value\":0.5},\"line_color\":{\"value\":\"#25828E\"},\"marker\":{\"value\":\"diamond\"},\"size\":{\"value\":10},\"x\":{\"field\":\"TimeGenerated\"},\"y\":{\"field\":\"y_index\"}},\"id\":\"1285\",\"type\":\"Scatter\"},{\"attributes\":{\"source\":{\"id\":\"1154\"}},\"id\":\"1306\",\"type\":\"CDSView\"},{\"attributes\":{},\"id\":\"1351\",\"type\":\"Selection\"},{\"attributes\":{},\"id\":\"1350\",\"type\":\"UnionRenderers\"},{\"attributes\":{\"fill_alpha\":{\"value\":0.5},\"fill_color\":{\"value\":\"#440154\"},\"line_alpha\":{\"value\":0.5},\"line_color\":{\"value\":\"#440154\"},\"marker\":{\"value\":\"diamond\"},\"size\":{\"value\":10},\"x\":{\"field\":\"TimeGenerated\"},\"y\":{\"field\":\"y_index\"}},\"id\":\"1261\",\"type\":\"Scatter\"},{\"attributes\":{\"months\":[0,1,2,3,4,5,6,7,8,9,10,11]},\"id\":\"1332\",\"type\":\"MonthsTicker\"},{\"attributes\":{},\"id\":\"1353\",\"type\":\"Selection\"},{\"attributes\":{\"data_source\":{\"id\":\"1155\"},\"glyph\":{\"id\":\"1309\"},\"hover_glyph\":null,\"muted_glyph\":null,\"nonselection_glyph\":{\"id\":\"1310\"},\"view\":{\"id\":\"1312\"}},\"id\":\"1311\",\"type\":\"GlyphRenderer\"},{\"attributes\":{\"text\":\"Range Selector\"},\"id\":\"1190\",\"type\":\"Title\"},{\"attributes\":{\"label\":{\"value\":\"Microsoft.Advisor\"},\"renderers\":[{\"id\":\"1299\"}]},\"id\":\"1301\",\"type\":\"LegendItem\"},{\"attributes\":{\"fill_alpha\":{\"value\":0.5},\"fill_color\":{\"value\":\"#B2DD2C\"},\"line_alpha\":{\"value\":0.5},\"line_color\":{\"value\":\"#B2DD2C\"},\"marker\":{\"value\":\"diamond\"},\"size\":{\"value\":10},\"x\":{\"field\":\"TimeGenerated\"},\"y\":{\"field\":\"y_index\"}},\"id\":\"1309\",\"type\":\"Scatter\"},{\"attributes\":{},\"id\":\"1352\",\"type\":\"UnionRenderers\"},{\"attributes\":{\"fill_alpha\":{\"value\":0.1},\"fill_color\":{\"value\":\"#440154\"},\"line_alpha\":{\"value\":0.1},\"line_color\":{\"value\":\"#440154\"},\"marker\":{\"value\":\"diamond\"},\"size\":{\"value\":10},\"x\":{\"field\":\"TimeGenerated\"},\"y\":{\"field\":\"y_index\"}},\"id\":\"1262\",\"type\":\"Scatter\"},{\"attributes\":{\"label\":{\"value\":\"Microsoft Resources\"},\"renderers\":[{\"id\":\"1293\"}]},\"id\":\"1295\",\"type\":\"LegendItem\"},{\"attributes\":{},\"id\":\"1355\",\"type\":\"Selection\"},{\"attributes\":{\"source\":{\"id\":\"1147\"}},\"id\":\"1264\",\"type\":\"CDSView\"},{\"attributes\":{\"fill_alpha\":{\"value\":0.1},\"fill_color\":{\"value\":\"#B2DD2C\"},\"line_alpha\":{\"value\":0.1},\"line_color\":{\"value\":\"#B2DD2C\"},\"marker\":{\"value\":\"diamond\"},\"size\":{\"value\":10},\"x\":{\"field\":\"TimeGenerated\"},\"y\":{\"field\":\"y_index\"}},\"id\":\"1310\",\"type\":\"Scatter\"},{\"attributes\":{},\"id\":\"1354\",\"type\":\"UnionRenderers\"},{\"attributes\":{\"active_multi\":null,\"tools\":[{\"id\":\"1156\"},{\"id\":\"1176\"},{\"id\":\"1177\"},{\"id\":\"1178\"},{\"id\":\"1179\"},{\"id\":\"1180\"}]},\"id\":\"1182\",\"type\":\"Toolbar\"},{\"attributes\":{\"source\":{\"id\":\"1155\"}},\"id\":\"1312\",\"type\":\"CDSView\"},{\"attributes\":{},\"id\":\"1339\",\"type\":\"Selection\"},{\"attributes\":{\"mantissas\":[1,2,5],\"max_interval\":500.0,\"num_minor_ticks\":0},\"id\":\"1356\",\"type\":\"AdaptiveTicker\"},{\"attributes\":{\"source\":{\"id\":\"1150\"}},\"id\":\"1282\",\"type\":\"CDSView\"},{\"attributes\":{\"base\":60,\"mantissas\":[1,2,5,10,15,20,30],\"max_interval\":1800000.0,\"min_interval\":1000.0,\"num_minor_ticks\":0},\"id\":\"1357\",\"type\":\"AdaptiveTicker\"},{\"attributes\":{\"fill_alpha\":{\"value\":0.5},\"fill_color\":{\"value\":\"#472777\"},\"line_alpha\":{\"value\":0.5},\"line_color\":{\"value\":\"#472777\"},\"marker\":{\"value\":\"diamond\"},\"size\":{\"value\":10},\"x\":{\"field\":\"TimeGenerated\"},\"y\":{\"field\":\"y_index\"}},\"id\":\"1267\",\"type\":\"Scatter\"},{\"attributes\":{},\"id\":\"1323\",\"type\":\"AllLabels\"},{\"attributes\":{\"days\":[1,2,3,4,5,6,7,8,9,10,11,12,13,14,15,16,17,18,19,20,21,22,23,24,25,26,27,28,29,30,31]},\"id\":\"1359\",\"type\":\"DaysTicker\"},{\"attributes\":{\"days\":[1,15]},\"id\":\"1331\",\"type\":\"DaysTicker\"},{\"attributes\":{\"base\":24,\"mantissas\":[1,2,4,6,8,12],\"max_interval\":43200000.0,\"min_interval\":3600000.0,\"num_minor_ticks\":0},\"id\":\"1358\",\"type\":\"AdaptiveTicker\"},{\"attributes\":{},\"id\":\"1320\",\"type\":\"AllLabels\"},{\"attributes\":{\"fill_alpha\":{\"value\":0.1},\"fill_color\":{\"value\":\"#472777\"},\"line_alpha\":{\"value\":0.1},\"line_color\":{\"value\":\"#472777\"},\"marker\":{\"value\":\"diamond\"},\"size\":{\"value\":10},\"x\":{\"field\":\"TimeGenerated\"},\"y\":{\"field\":\"y_index\"}},\"id\":\"1268\",\"type\":\"Scatter\"},{\"attributes\":{\"label\":{\"value\":\"Microsoft.Storage\"},\"renderers\":[{\"id\":\"1305\"}]},\"id\":\"1307\",\"type\":\"LegendItem\"},{\"attributes\":{\"data_source\":{\"id\":\"1151\"},\"glyph\":{\"id\":\"1285\"},\"hover_glyph\":null,\"muted_glyph\":null,\"nonselection_glyph\":{\"id\":\"1286\"},\"view\":{\"id\":\"1288\"}},\"id\":\"1287\",\"type\":\"GlyphRenderer\"},{\"attributes\":{\"days\":[1,4,7,10,13,16,19,22,25,28]},\"id\":\"1360\",\"type\":\"DaysTicker\"},{\"attributes\":{\"fill_alpha\":{\"value\":0.1},\"fill_color\":{\"value\":\"#25828E\"},\"line_alpha\":{\"value\":0.1},\"line_color\":{\"value\":\"#25828E\"},\"marker\":{\"value\":\"diamond\"},\"size\":{\"value\":10},\"x\":{\"field\":\"TimeGenerated\"},\"y\":{\"field\":\"y_index\"}},\"id\":\"1286\",\"type\":\"Scatter\"},{\"attributes\":{},\"id\":\"1322\",\"type\":\"BasicTickFormatter\"},{\"attributes\":{\"label\":{\"value\":\"microsoft.operationalinsights\"},\"renderers\":[{\"id\":\"1311\"}]},\"id\":\"1313\",\"type\":\"LegendItem\"},{\"attributes\":{\"months\":[0,1,2,3,4,5,6,7,8,9,10,11]},\"id\":\"1363\",\"type\":\"MonthsTicker\"},{\"attributes\":{\"source\":{\"id\":\"1151\"}},\"id\":\"1288\",\"type\":\"CDSView\"},{\"attributes\":{\"click_policy\":\"hide\",\"items\":[{\"id\":\"1313\"},{\"id\":\"1307\"},{\"id\":\"1301\"},{\"id\":\"1295\"},{\"id\":\"1289\"},{\"id\":\"1283\"},{\"id\":\"1277\"},{\"id\":\"1271\"},{\"id\":\"1265\"}],\"label_text_font_size\":\"8pt\",\"location\":\"center\"},\"id\":\"1314\",\"type\":\"Legend\"},{\"attributes\":{\"data\":{\"AppResourceProvider\":[\"Azure AD Identity Governance - Entitlement\\nManagement\"],\"IPAddress\":[\"208.104.92.208\"],\"Operation\":[\"Sign-in activity\"],\"TimeGenerated\":{\"__ndarray__\":\"ANDS8eWjd0I=\",\"dtype\":\"float64\",\"order\":\"little\",\"shape\":[1]},\"index\":[15],\"y_index\":[1]},\"selected\":{\"id\":\"1341\"},\"selection_policy\":{\"id\":\"1340\"}},\"id\":\"1148\",\"type\":\"ColumnDataSource\"},{\"attributes\":{\"months\":[0,2,4,6,8,10]},\"id\":\"1333\",\"type\":\"MonthsTicker\"},{\"attributes\":{\"days\":[1,8,15,22]},\"id\":\"1361\",\"type\":\"DaysTicker\"},{\"attributes\":{\"data\":{\"AppResourceProvider\":[\"Microsoft 365 Security and Compliance Center\"],\"IPAddress\":[\"208.104.92.208\"],\"Operation\":[\"Sign-in activity\"],\"TimeGenerated\":{\"__ndarray__\":\"AIBtivWjd0I=\",\"dtype\":\"float64\",\"order\":\"little\",\"shape\":[1]},\"index\":[4],\"y_index\":[3]},\"selected\":{\"id\":\"1345\"},\"selection_policy\":{\"id\":\"1344\"}},\"id\":\"1150\",\"type\":\"ColumnDataSource\"},{\"attributes\":{\"days\":[1,15]},\"id\":\"1362\",\"type\":\"DaysTicker\"},{\"attributes\":{\"axis\":{\"id\":\"1200\"},\"ticker\":null},\"id\":\"1203\",\"type\":\"Grid\"},{\"attributes\":{\"num_minor_ticks\":5,\"tickers\":[{\"id\":\"1356\"},{\"id\":\"1357\"},{\"id\":\"1358\"},{\"id\":\"1359\"},{\"id\":\"1360\"},{\"id\":\"1361\"},{\"id\":\"1362\"},{\"id\":\"1363\"},{\"id\":\"1364\"},{\"id\":\"1365\"},{\"id\":\"1366\"},{\"id\":\"1367\"}]},\"id\":\"1201\",\"type\":\"DatetimeTicker\"},{\"attributes\":{\"data\":{\"AppResourceProvider\":[\"Microsoft.Storage\",\"Microsoft.Storage\",\"Microsoft.Storage\",\"Microsoft.Storage\",\"Microsoft.Storage\",\"Microsoft.Storage\",\"Microsoft.Storage\",\"Microsoft.Storage\",\"Microsoft.Storage\",\"Microsoft.Storage\",\"Microsoft.Storage\",\"Microsoft.Storage\",\"Microsoft.Storage\",\"Microsoft.Storage\",\"Microsoft.Storage\",\"Microsoft.Storage\",\"Microsoft.Storage\",\"Microsoft.Storage\",\"Microsoft.Storage\",\"Microsoft.Storage\",\"Microsoft.Storage\",\"Microsoft.Storage\",\"Microsoft.Storage\",\"Microsoft.Storage\",\"Microsoft.Storage\",\"Microsoft.Storage\",\"Microsoft.Storage\",\"Microsoft.Storage\",\"Microsoft.Storage\",\"Microsoft.Storage\",\"Microsoft.Storage\",\"Microsoft.Storage\",\"Microsoft.Storage\",\"Microsoft.Storage\",\"Microsoft.Storage\",\"Microsoft.Storage\",\"Microsoft.Storage\",\"Microsoft.Storage\",\"Microsoft.Storage\",\"Microsoft.Storage\",\"Microsoft.Storage\",\"Microsoft.Storage\",\"Microsoft.Storage\",\"Microsoft.Storage\",\"Microsoft.Storage\",\"Microsoft.Storage\",\"Microsoft.Storage\",\"Microsoft.Storage\",\"Microsoft.Storage\",\"Microsoft.Storage\",\"Microsoft.Storage\",\"Microsoft.Storage\",\"Microsoft.Storage\",\"Microsoft.Storage\",\"Microsoft.Storage\",\"Microsoft.Storage\",\"Microsoft.Storage\",\"Microsoft.Storage\",\"Microsoft.Storage\",\"Microsoft.Storage\",\"Microsoft.Storage\",\"Microsoft.Storage\",\"Microsoft.Storage\",\"Microsoft.Storage\",\"Microsoft.Storage\",\"Microsoft.Storage\",\"Microsoft.Storage\",\"Microsoft.Storage\",\"Microsoft.Storage\",\"Microsoft.Storage\",\"Microsoft.Storage\",\"Microsoft.Storage\",\"Microsoft.Storage\",\"Microsoft.Storage\",\"Microsoft.Storage\",\"Microsoft.Storage\",\"Microsoft.Storage\",\"Microsoft.Storage\",\"Microsoft.Storage\",\"Microsoft.Storage\",\"Microsoft.Storage\",\"Microsoft.Storage\",\"Microsoft.Storage\",\"Microsoft.Storage\",\"Microsoft.Storage\",\"Microsoft.Storage\",\"Microsoft.Storage\",\"Microsoft.Storage\",\"Microsoft.Storage\",\"Microsoft.Storage\",\"Microsoft.Storage\",\"Microsoft.Storage\",\"Microsoft.Storage\",\"Microsoft.Storage\",\"Microsoft.Storage\",\"Microsoft.Storage\",\"Microsoft.Storage\",\"Microsoft.Storage\",\"Microsoft.Storage\",\"Microsoft.Storage\",\"Microsoft.Storage\",\"Microsoft.Storage\",\"Microsoft.Storage\",\"Microsoft.Storage\",\"Microsoft.Storage\",\"Microsoft.Storage\",\"Microsoft.Storage\",\"Microsoft.Storage\",\"Microsoft.Storage\",\"Microsoft.Storage\",\"Microsoft.Storage\",\"Microsoft.Storage\",\"Microsoft.Storage\",\"Microsoft.Storage\",\"Microsoft.Storage\",\"Microsoft.Storage\",\"Microsoft.Storage\",\"Microsoft.Storage\",\"Microsoft.Storage\",\"Microsoft.Storage\",\"Microsoft.Storage\",\"Microsoft.Storage\",\"Microsoft.Storage\",\"Microsoft.Storage\",\"Microsoft.Storage\",\"Microsoft.Storage\",\"Microsoft.Storage\",\"Microsoft.Storage\",\"Microsoft.Storage\",\"Microsoft.Storage\",\"Microsoft.Storage\",\"Microsoft.Storage\",\"Microsoft.Storage\",\"Microsoft.Storage\",\"Microsoft.Storage\",\"Microsoft.Storage\",\"Microsoft.Storage\",\"Microsoft.Storage\",\"Microsoft.Storage\",\"Microsoft.Storage\",\"Microsoft.Storage\",\"Microsoft.Storage\",\"Microsoft.Storage\",\"Microsoft.Storage\",\"Microsoft.Storage\",\"Microsoft.Storage\",\"Microsoft.Storage\",\"Microsoft.Storage\",\"Microsoft.Storage\",\"Microsoft.Storage\",\"Microsoft.Storage\",\"Microsoft.Storage\",\"Microsoft.Storage\",\"Microsoft.Storage\",\"Microsoft.Storage\",\"Microsoft.Storage\",\"Microsoft.Storage\",\"Microsoft.Storage\",\"Microsoft.Storage\",\"Microsoft.Storage\",\"Microsoft.Storage\",\"Microsoft.Storage\",\"Microsoft.Storage\",\"Microsoft.Storage\",\"Microsoft.Storage\",\"Microsoft.Storage\",\"Microsoft.Storage\",\"Microsoft.Storage\",\"Microsoft.Storage\",\"Microsoft.Storage\",\"Microsoft.Storage\",\"Microsoft.Storage\",\"Microsoft.Storage\",\"Microsoft.Storage\",\"Microsoft.Storage\",\"Microsoft.Storage\",\"Microsoft.Storage\",\"Microsoft.Storage\",\"Microsoft.Storage\",\"Microsoft.Storage\",\"Microsoft.Storage\",\"Microsoft.Storage\",\"Microsoft.Storage\",\"Microsoft.Storage\",\"Microsoft.Storage\",\"Microsoft.Storage\",\"Microsoft.Storage\",\"Microsoft.Storage\",\"Microsoft.Storage\",\"Microsoft.Storage\",\"Microsoft.Storage\",\"Microsoft.Storage\",\"Microsoft.Storage\",\"Microsoft.Storage\",\"Microsoft.Storage\",\"Microsoft.Storage\",\"Microsoft.Storage\",\"Microsoft.Storage\",\"Microsoft.Storage\",\"Microsoft.Storage\",\"Microsoft.Storage\",\"Microsoft.Storage\",\"Microsoft.Storage\",\"Microsoft.Storage\",\"Microsoft.Storage\",\"Microsoft.Storage\",\"Microsoft.Storage\",\"Microsoft.Storage\",\"Microsoft.Storage\",\"Microsoft.Storage\",\"Microsoft.Storage\",\"Microsoft.Storage\",\"Microsoft.Storage\",\"Microsoft.Storage\",\"Microsoft.Storage\",\"Microsoft.Storage\",\"Microsoft.Storage\",\"Microsoft.Storage\",\"Microsoft.Storage\",\"Microsoft.Storage\",\"Microsoft.Storage\",\"Microsoft.Storage\",\"Microsoft.Storage\",\"Microsoft.Storage\"],\"IPAddress\":[\"208.104.92.208\",\"\",\"\",\"208.104.92.208\",\"\",\"208.104.92.208\",\"208.104.92.208\",\"208.104.92.208\",\"208.104.92.208\",\"208.104.92.208\",\"208.104.92.208\",\"208.104.92.208\",\"208.104.92.208\",\"208.104.92.208\",\"208.104.92.208\",\"208.104.92.208\",\"208.104.92.208\",\"208.104.92.208\",\"208.104.92.208\",\"208.104.92.208\",\"208.104.92.208\",\"208.104.92.208\",\"208.104.92.208\",\"208.104.92.208\",\"208.104.92.208\",\"208.104.92.208\",\"208.104.92.208\",\"208.104.92.208\",\"208.104.92.208\",\"208.104.92.208\",\"208.104.92.208\",\"208.104.92.208\",\"208.104.92.208\",\"208.104.92.208\",\"208.104.92.208\",\"208.104.92.208\",\"208.104.92.208\",\"208.104.92.208\",\"208.104.92.208\",\"208.104.92.208\",\"208.104.92.208\",\"208.104.92.208\",\"208.104.92.208\",\"208.104.92.208\",\"208.104.92.208\",\"208.104.92.208\",\"208.104.92.208\",\"208.104.92.208\",\"208.104.92.208\",\"208.104.92.208\",\"208.104.92.208\",\"208.104.92.208\",\"208.104.92.208\",\"208.104.92.208\",\"208.104.92.208\",\"208.104.92.208\",\"208.104.92.208\",\"208.104.92.208\",\"208.104.92.208\",\"208.104.92.208\",\"208.104.92.208\",\"208.104.92.208\",\"208.104.92.208\",\"208.104.92.208\",\"208.104.92.208\",\"208.104.92.208\",\"208.104.92.208\",\"208.104.92.208\",\"208.104.92.208\",\"208.104.92.208\",\"208.104.92.208\",\"208.104.92.208\",\"208.104.92.208\",\"208.104.92.208\",\"208.104.92.208\",\"208.104.92.208\",\"208.104.92.208\",\"208.104.92.208\",\"208.104.92.208\",\"208.104.92.208\",\"208.104.92.208\",\"208.104.92.208\",\"208.104.92.208\",\"208.104.92.208\",\"208.104.92.208\",\"208.104.92.208\",\"208.104.92.208\",\"208.104.92.208\",\"208.104.92.208\",\"208.104.92.208\",\"208.104.92.208\",\"208.104.92.208\",\"208.104.92.208\",\"208.104.92.208\",\"208.104.92.208\",\"208.104.92.208\",\"208.104.92.208\",\"208.104.92.208\",\"208.104.92.208\",\"208.104.92.208\",\"208.104.92.208\",\"208.104.92.208\",\"208.104.92.208\",\"208.104.92.208\",\"208.104.92.208\",\"208.104.92.208\",\"208.104.92.208\",\"208.104.92.208\",\"208.104.92.208\",\"208.104.92.208\",\"208.104.92.208\",\"208.104.92.208\",\"208.104.92.208\",\"208.104.92.208\",\"208.104.92.208\",\"208.104.92.208\",\"208.104.92.208\",\"208.104.92.208\",\"208.104.92.208\",\"208.104.92.208\",\"208.104.92.208\",\"208.104.92.208\",\"208.104.92.208\",\"208.104.92.208\",\"208.104.92.208\",\"208.104.92.208\",\"208.104.92.208\",\"208.104.92.208\",\"208.104.92.208\",\"208.104.92.208\",\"208.104.92.208\",\"208.104.92.208\",\"208.104.92.208\",\"208.104.92.208\",\"208.104.92.208\",\"208.104.92.208\",\"208.104.92.208\",\"208.104.92.208\",\"208.104.92.208\",\"208.104.92.208\",\"208.104.92.208\",\"208.104.92.208\",\"208.104.92.208\",\"208.104.92.208\",\"208.104.92.208\",\"208.104.92.208\",\"208.104.92.208\",\"208.104.92.208\",\"208.104.92.208\",\"208.104.92.208\",\"208.104.92.208\",\"208.104.92.208\",\"208.104.92.208\",\"208.104.92.208\",\"208.104.92.208\",\"208.104.92.208\",\"208.104.92.208\",\"208.104.92.208\",\"208.104.92.208\",\"208.104.92.208\",\"208.104.92.208\",\"208.104.92.208\",\"208.104.92.208\",\"208.104.92.208\",\"208.104.92.208\",\"208.104.92.208\",\"208.104.92.208\",\"208.104.92.208\",\"208.104.92.208\",\"208.104.92.208\",\"208.104.92.208\",\"208.104.92.208\",\"208.104.92.208\",\"208.104.92.208\",\"208.104.92.208\",\"208.104.92.208\",\"208.104.92.208\",\"208.104.92.208\",\"208.104.92.208\",\"208.104.92.208\",\"208.104.92.208\",\"208.104.92.208\",\"208.104.92.208\",\"208.104.92.208\",\"208.104.92.208\",\"208.104.92.208\",\"208.104.92.208\",\"208.104.92.208\",\"208.104.92.208\",\"208.104.92.208\",\"208.104.92.208\",\"208.104.92.208\",\"208.104.92.208\",\"208.104.92.208\",\"208.104.92.208\",\"208.104.92.208\",\"208.104.92.208\",\"208.104.92.208\",\"208.104.92.208\",\"208.104.92.208\",\"208.104.92.208\",\"208.104.92.208\",\"208.104.92.208\",\"208.104.92.208\",\"208.104.92.208\",\"208.104.92.208\",\"208.104.92.208\",\"208.104.92.208\",\"208.104.92.208\",\"208.104.92.208\",\"208.104.92.208\",\"208.104.92.208\",\"208.104.92.208\",\"208.104.92.208\",\"\",\"\",\"\",\"\",\"\",\"208.104.92.208\",\"208.104.92.208\",\"208.104.92.208\",\"208.104.92.208\",\"208.104.92.208\"],\"Operation\":[\"Create/Update Storage Account\",\"'audit' Policy action.\",\"'auditIfNotExists' Policy action.\",\"Create/Update Storage Account\",\"Create/Update Storage Account\",\"Put blob service properties\",\"Put blob service properties\",\"Put File Service Properties\",\"Put File Service Properties\",\"List Storage Account Keys\",\"List Storage Account Keys\",\"List Storage Account Keys\",\"List Storage Account Keys\",\"List Storage Account Keys\",\"List Storage Account Keys\",\"List Storage Account Keys\",\"List Storage Account Keys\",\"List Storage Account Keys\",\"List Storage Account Keys\",\"List Storage Account Keys\",\"List Storage Account Keys\",\"List Storage Account Keys\",\"List Storage Account Keys\",\"List Storage Account Keys\",\"List Storage Account Keys\",\"List Storage Account Keys\",\"List Storage Account Keys\",\"List Storage Account Keys\",\"List Storage Account Keys\",\"List Storage Account Keys\",\"List Storage Account Keys\",\"List Storage Account Keys\",\"List Storage Account Keys\",\"List Storage Account Keys\",\"List Storage Account Keys\",\"List Storage Account Keys\",\"List Storage Account Keys\",\"List Storage Account Keys\",\"List Storage Account Keys\",\"List Storage Account Keys\",\"List Storage Account Keys\",\"List Storage Account Keys\",\"List Storage Account Keys\",\"List Storage Account Keys\",\"List Storage Account Keys\",\"List Storage Account Keys\",\"List Storage Account Keys\",\"List Storage Account Keys\",\"List Storage Account Keys\",\"List Storage Account Keys\",\"List Storage Account Keys\",\"List Storage Account Keys\",\"List Storage Account Keys\",\"List Storage Account Keys\",\"List Storage Account Keys\",\"List Storage Account Keys\",\"List Storage Account Keys\",\"List Storage Account Keys\",\"List Storage Account Keys\",\"List Storage Account Keys\",\"List Storage Account Keys\",\"List Storage Account Keys\",\"List Storage Account Keys\",\"List Storage Account Keys\",\"List Storage Account Keys\",\"List Storage Account Keys\",\"List Storage Account Keys\",\"List Storage Account Keys\",\"List Storage Account Keys\",\"List Storage Account Keys\",\"List Storage Account Keys\",\"List Storage Account Keys\",\"List Storage Account Keys\",\"List Storage Account Keys\",\"List Storage Account Keys\",\"List Storage Account Keys\",\"List Storage Account Keys\",\"List Storage Account Keys\",\"List Storage Account Keys\",\"List Storage Account Keys\",\"List Storage Account Keys\",\"List Storage Account Keys\",\"List Storage Account Keys\",\"List Storage Account Keys\",\"List Storage Account Keys\",\"List Storage Account Keys\",\"List Storage Account Keys\",\"List Storage Account Keys\",\"Put blob container\",\"Put blob container\",\"List Storage Account Keys\",\"List Storage Account Keys\",\"List Storage Account Keys\",\"List Storage Account Keys\",\"List Storage Account Keys\",\"List Storage Account Keys\",\"List Storage Account Keys\",\"List Storage Account Keys\",\"List Storage Account Keys\",\"List Storage Account Keys\",\"List Storage Account Keys\",\"List Storage Account Keys\",\"List Storage Account Keys\",\"List Storage Account Keys\",\"List Storage Account Keys\",\"List Storage Account Keys\",\"List Storage Account Keys\",\"List Storage Account Keys\",\"List Storage Account Keys\",\"List Storage Account Keys\",\"List Storage Account Keys\",\"List Storage Account Keys\",\"List Storage Account Keys\",\"List Storage Account Keys\",\"List Storage Account Keys\",\"List Storage Account Keys\",\"List Storage Account Keys\",\"List Storage Account Keys\",\"List Storage Account Keys\",\"List Storage Account Keys\",\"List Storage Account Keys\",\"List Storage Account Keys\",\"List Storage Account Keys\",\"List Storage Account Keys\",\"List Storage Account Keys\",\"List Storage Account Keys\",\"List Storage Account Keys\",\"List Storage Account Keys\",\"List Storage Account Keys\",\"List Storage Account Keys\",\"List Storage Account Keys\",\"List Storage Account Keys\",\"List Storage Account Keys\",\"List Storage Account Keys\",\"List Storage Account Keys\",\"List Storage Account Keys\",\"List Storage Account Keys\",\"List Storage Account Keys\",\"List Storage Account Keys\",\"List Storage Account Keys\",\"List Storage Account Keys\",\"List Storage Account Keys\",\"List Storage Account Keys\",\"List Storage Account Keys\",\"List Storage Account Keys\",\"List Storage Account Keys\",\"List Storage Account Keys\",\"List Storage Account Keys\",\"List Storage Account Keys\",\"List Storage Account Keys\",\"List Storage Account Keys\",\"List Storage Account Keys\",\"List Storage Account Keys\",\"List Storage Account Keys\",\"List Storage Account Keys\",\"List Storage Account Keys\",\"List Storage Account Keys\",\"List Storage Account Keys\",\"List Storage Account Keys\",\"List Storage Account Keys\",\"List Storage Account Keys\",\"List Storage Account Keys\",\"List Storage Account Keys\",\"List Storage Account Keys\",\"List Storage Account Keys\",\"List Storage Account Keys\",\"List Storage Account Keys\",\"List Storage Account Keys\",\"List Storage Account Keys\",\"List Storage Account Keys\",\"List Storage Account Keys\",\"List Storage Account Keys\",\"List Storage Account Keys\",\"List Storage Account Keys\",\"List Storage Account Keys\",\"List Storage Account Keys\",\"List Storage Account Keys\",\"List Storage Account Keys\",\"List Storage Account Keys\",\"List Storage Account Keys\",\"List Storage Account Keys\",\"List Storage Account Keys\",\"List Storage Account Keys\",\"List Storage Account Keys\",\"List Storage Account Keys\",\"List Storage Account Keys\",\"List Storage Account Keys\",\"List Storage Account Keys\",\"List Storage Account Keys\",\"List Storage Account Keys\",\"List Storage Account Keys\",\"List Storage Account Keys\",\"List Storage Account Keys\",\"List Storage Account Keys\",\"List Storage Account Keys\",\"List Storage Account Keys\",\"List Storage Account Keys\",\"List Storage Account Keys\",\"List Storage Account Keys\",\"List Storage Account Keys\",\"List Storage Account Keys\",\"List Storage Account Keys\",\"List Storage Account Keys\",\"List Storage Account Keys\",\"List Storage Account Keys\",\"List Storage Account Keys\",\"List Storage Account Keys\",\"List Storage Account Keys\",\"List Storage Account Keys\",\"List Storage Account Keys\",\"List Storage Account Keys\",\"List Storage Account Keys\",\"List Storage Account Keys\",\"List Storage Account Keys\",\"'audit' Policy action.\",\"'audit' Policy action.\",\"'auditIfNotExists' Policy action.\",\"'auditIfNotExists' Policy action.\",\"Create/Update Storage Account\",\"List Storage Account Keys\",\"List Storage Account Keys\",\"List Storage Account Keys\",\"List Storage Account Keys\",\"List Storage Account Keys\"],\"TimeGenerated\":{\"__ndarray__\":\"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\",\"dtype\":\"float64\",\"order\":\"little\",\"shape\":[224]},\"index\":[16,17,18,19,20,21,22,23,24,26,27,28,29,30,31,32,33,34,35,36,37,38,39,40,41,42,43,44,45,46,47,48,49,50,51,52,53,54,55,56,57,58,59,60,61,62,63,64,65,66,67,68,69,70,71,72,73,74,75,76,79,80,81,82,83,84,85,86,87,88,89,90,91,92,93,94,95,96,97,98,99,100,101,102,103,104,105,106,107,108,109,110,111,112,113,114,115,116,117,118,119,120,121,122,123,124,125,126,127,128,129,130,131,132,133,134,135,136,137,138,139,140,141,142,143,144,145,146,147,148,149,150,151,152,153,154,155,156,157,158,159,160,161,162,163,164,165,166,167,168,169,170,171,172,173,174,175,176,177,178,179,180,181,182,183,184,185,186,187,188,189,190,191,192,193,194,195,196,197,198,199,200,201,202,203,204,205,206,207,208,209,210,211,212,213,214,215,216,217,218,219,220,221,222,223,224,225,226,227,228,229,230,231,232,233,234,235,236,237,240,241,244,245,246],\"y_index\":[7,7,7,7,7,7,7,7,7,7,7,7,7,7,7,7,7,7,7,7,7,7,7,7,7,7,7,7,7,7,7,7,7,7,7,7,7,7,7,7,7,7,7,7,7,7,7,7,7,7,7,7,7,7,7,7,7,7,7,7,7,7,7,7,7,7,7,7,7,7,7,7,7,7,7,7,7,7,7,7,7,7,7,7,7,7,7,7,7,7,7,7,7,7,7,7,7,7,7,7,7,7,7,7,7,7,7,7,7,7,7,7,7,7,7,7,7,7,7,7,7,7,7,7,7,7,7,7,7,7,7,7,7,7,7,7,7,7,7,7,7,7,7,7,7,7,7,7,7,7,7,7,7,7,7,7,7,7,7,7,7,7,7,7,7,7,7,7,7,7,7,7,7,7,7,7,7,7,7,7,7,7,7,7,7,7,7,7,7,7,7,7,7,7,7,7,7,7,7,7,7,7,7,7,7,7,7,7,7,7,7,7,7,7,7,7,7,7,7,7,7,7,7,7]},\"selected\":{\"id\":\"1353\"},\"selection_policy\":{\"id\":\"1352\"}},\"id\":\"1154\",\"type\":\"ColumnDataSource\"},{\"attributes\":{\"months\":[0,4,8]},\"id\":\"1334\",\"type\":\"MonthsTicker\"},{\"attributes\":{\"days\":[1,2,3,4,5,6,7,8,9,10,11,12,13,14,15,16,17,18,19,20,21,22,23,24,25,26,27,28,29,30,31]},\"id\":\"1328\",\"type\":\"DaysTicker\"},{\"attributes\":{\"months\":[0,2,4,6,8,10]},\"id\":\"1364\",\"type\":\"MonthsTicker\"},{\"attributes\":{\"data_source\":{\"id\":\"1152\"},\"glyph\":{\"id\":\"1291\"},\"hover_glyph\":null,\"muted_glyph\":null,\"nonselection_glyph\":{\"id\":\"1292\"},\"view\":{\"id\":\"1294\"}},\"id\":\"1293\",\"type\":\"GlyphRenderer\"},{\"attributes\":{\"fill_alpha\":{\"value\":0.5},\"fill_color\":{\"value\":\"#1E9C89\"},\"line_alpha\":{\"value\":0.5},\"line_color\":{\"value\":\"#1E9C89\"},\"marker\":{\"value\":\"diamond\"},\"size\":{\"value\":10},\"x\":{\"field\":\"TimeGenerated\"},\"y\":{\"field\":\"y_index\"}},\"id\":\"1291\",\"type\":\"Scatter\"},{\"attributes\":{\"months\":[0,6]},\"id\":\"1335\",\"type\":\"MonthsTicker\"},{\"attributes\":{\"months\":[0,4,8]},\"id\":\"1365\",\"type\":\"MonthsTicker\"},{\"attributes\":{\"base\":60,\"mantissas\":[1,2,5,10,15,20,30],\"max_interval\":1800000.0,\"min_interval\":1000.0,\"num_minor_ticks\":0},\"id\":\"1326\",\"type\":\"AdaptiveTicker\"},{\"attributes\":{\"fill_alpha\":{\"value\":0.1},\"fill_color\":{\"value\":\"#1E9C89\"},\"line_alpha\":{\"value\":0.1},\"line_color\":{\"value\":\"#1E9C89\"},\"marker\":{\"value\":\"diamond\"},\"size\":{\"value\":10},\"x\":{\"field\":\"TimeGenerated\"},\"y\":{\"field\":\"y_index\"}},\"id\":\"1292\",\"type\":\"Scatter\"},{\"attributes\":{\"months\":[0,6]},\"id\":\"1366\",\"type\":\"MonthsTicker\"},{\"attributes\":{\"fill_alpha\":{\"value\":0.5},\"fill_color\":{\"value\":\"#35B778\"},\"line_alpha\":{\"value\":0.5},\"line_color\":{\"value\":\"#35B778\"},\"marker\":{\"value\":\"diamond\"},\"size\":{\"value\":10},\"x\":{\"field\":\"TimeGenerated\"},\"y\":{\"field\":\"y_index\"}},\"id\":\"1297\",\"type\":\"Scatter\"},{\"attributes\":{},\"id\":\"1336\",\"type\":\"YearsTicker\"},{\"attributes\":{\"source\":{\"id\":\"1152\"}},\"id\":\"1294\",\"type\":\"CDSView\"},{\"attributes\":{},\"id\":\"1338\",\"type\":\"UnionRenderers\"},{\"attributes\":{\"data\":{\"AppResourceProvider\":[\"microsoft.operationalinsights\",\"microsoft.operationalinsights\"],\"IPAddress\":[\"208.104.92.208\",\"208.104.92.208\"],\"Operation\":[\"List Workspace Shared Keys\",\"List Workspace Shared Keys\"],\"TimeGenerated\":{\"__ndarray__\":\"ABDf5Pmjd0IA0PHk+aN3Qg==\",\"dtype\":\"float64\",\"order\":\"little\",\"shape\":[2]},\"index\":[238,239],\"y_index\":[8,8]},\"selected\":{\"id\":\"1355\"},\"selection_policy\":{\"id\":\"1354\"}},\"id\":\"1155\",\"type\":\"ColumnDataSource\"},{\"attributes\":{},\"id\":\"1340\",\"type\":\"UnionRenderers\"},{\"attributes\":{},\"id\":\"1196\",\"type\":\"LinearScale\"},{\"attributes\":{\"data\":{\"AppResourceProvider\":[\"Azure Portal\",\"Azure Portal\",\"Azure Portal\",\"Azure Portal\",\"Azure Portal\",\"Azure Portal\",\"Azure Portal\",\"Azure Portal\",\"Azure Portal\",\"Azure Portal\",\"Azure Portal\",\"Azure Portal\"],\"IPAddress\":[\"208.104.92.208\",\"208.104.92.208\",\"208.104.92.208\",\"208.104.92.208\",\"208.104.92.208\",\"208.104.92.208\",\"208.104.92.208\",\"208.104.92.208\",\"208.104.92.208\",\"208.104.92.208\",\"208.104.92.208\",\"208.104.92.208\"],\"Operation\":[\"Sign-in activity\",\"Sign-in activity\",\"Sign-in activity\",\"Sign-in activity\",\"Sign-in activity\",\"Sign-in activity\",\"Sign-in activity\",\"Sign-in activity\",\"Sign-in activity\",\"Sign-in activity\",\"Sign-in activity\",\"Sign-in activity\"],\"TimeGenerated\":{\"__ndarray__\":\"ADC0l/Gid0IA8Cez8aJ3QgBAMHI6o3dCAGCH5Uujd0IAEJfnUKN3QgDAwvaOo3dCAPAL+JSjd0IAIO9amaN3QgCwLoz1o3dCANC99fejd0IAgLpb+aN3QgCgAY35o3dC\",\"dtype\":\"float64\",\"order\":\"little\",\"shape\":[12]},\"index\":[1,3,10,12,11,7,8,9,5,6,13,14],\"y_index\":[2,2,2,2,2,2,2,2,2,2,2,2]},\"selected\":{\"id\":\"1343\"},\"selection_policy\":{\"id\":\"1342\"}},\"id\":\"1149\",\"type\":\"ColumnDataSource\"},{\"attributes\":{},\"id\":\"1367\",\"type\":\"YearsTicker\"},{\"attributes\":{\"mantissas\":[1,2,5],\"max_interval\":500.0,\"num_minor_ticks\":0},\"id\":\"1325\",\"type\":\"AdaptiveTicker\"},{\"attributes\":{\"fill_alpha\":{\"value\":0.1},\"fill_color\":{\"value\":\"#35B778\"},\"line_alpha\":{\"value\":0.1},\"line_color\":{\"value\":\"#35B778\"},\"marker\":{\"value\":\"diamond\"},\"size\":{\"value\":10},\"x\":{\"field\":\"TimeGenerated\"},\"y\":{\"field\":\"y_index\"}},\"id\":\"1298\",\"type\":\"Scatter\"}],\"root_ids\":[\"1315\"]},\"title\":\"Bokeh Application\",\"version\":\"2.3.2\"}};\n",
       "  var render_items = [{\"docid\":\"ca7cf5b8-ff6d-4017-a711-e8c9f59ffa01\",\"root_ids\":[\"1315\"],\"roots\":{\"1315\":\"660d6ed1-f9fa-4fc3-a99c-d8bae9f4cd75\"}}];\n",
       "  root.Bokeh.embed.embed_items_notebook(docs_json, render_items);\n",
       "\n",
       "  }\n",
       "  if (root.Bokeh !== undefined) {\n",
       "    embed_document(root);\n",
       "  } else {\n",
       "    var attempts = 0;\n",
       "    var timer = setInterval(function(root) {\n",
       "      if (root.Bokeh !== undefined) {\n",
       "        clearInterval(timer);\n",
       "        embed_document(root);\n",
       "      } else {\n",
       "        attempts++;\n",
       "        if (attempts > 100) {\n",
       "          clearInterval(timer);\n",
       "          console.log(\"Bokeh: ERROR: Unable to run BokehJS code because BokehJS library is missing\");\n",
       "        }\n",
       "      }\n",
       "    }, 10, root)\n",
       "  }\n",
       "})(window);"
      ],
      "application/vnd.bokehjs_exec.v0+json": ""
     },
     "metadata": {
      "application/vnd.bokehjs_exec.v0+json": {
       "id": "1315"
      }
     },
     "output_type": "display_data"
    },
    {
     "data": {
      "text/html": [
       "\n",
       "    <div class=\"bk-root\">\n",
       "        <a href=\"https://bokeh.org\" target=\"_blank\" class=\"bk-logo bk-logo-small bk-logo-notebook\"></a>\n",
       "        <span id=\"1634\">Loading BokehJS ...</span>\n",
       "    </div>"
      ]
     },
     "metadata": {},
     "output_type": "display_data"
    },
    {
     "data": {
      "application/javascript": [
       "\n",
       "(function(root) {\n",
       "  function now() {\n",
       "    return new Date();\n",
       "  }\n",
       "\n",
       "  var force = true;\n",
       "\n",
       "  if (typeof root._bokeh_onload_callbacks === \"undefined\" || force === true) {\n",
       "    root._bokeh_onload_callbacks = [];\n",
       "    root._bokeh_is_loading = undefined;\n",
       "  }\n",
       "\n",
       "  var JS_MIME_TYPE = 'application/javascript';\n",
       "  var HTML_MIME_TYPE = 'text/html';\n",
       "  var EXEC_MIME_TYPE = 'application/vnd.bokehjs_exec.v0+json';\n",
       "  var CLASS_NAME = 'output_bokeh rendered_html';\n",
       "\n",
       "  /**\n",
       "   * Render data to the DOM node\n",
       "   */\n",
       "  function render(props, node) {\n",
       "    var script = document.createElement(\"script\");\n",
       "    node.appendChild(script);\n",
       "  }\n",
       "\n",
       "  /**\n",
       "   * Handle when an output is cleared or removed\n",
       "   */\n",
       "  function handleClearOutput(event, handle) {\n",
       "    var cell = handle.cell;\n",
       "\n",
       "    var id = cell.output_area._bokeh_element_id;\n",
       "    var server_id = cell.output_area._bokeh_server_id;\n",
       "    // Clean up Bokeh references\n",
       "    if (id != null && id in Bokeh.index) {\n",
       "      Bokeh.index[id].model.document.clear();\n",
       "      delete Bokeh.index[id];\n",
       "    }\n",
       "\n",
       "    if (server_id !== undefined) {\n",
       "      // Clean up Bokeh references\n",
       "      var cmd = \"from bokeh.io.state import curstate; print(curstate().uuid_to_server['\" + server_id + \"'].get_sessions()[0].document.roots[0]._id)\";\n",
       "      cell.notebook.kernel.execute(cmd, {\n",
       "        iopub: {\n",
       "          output: function(msg) {\n",
       "            var id = msg.content.text.trim();\n",
       "            if (id in Bokeh.index) {\n",
       "              Bokeh.index[id].model.document.clear();\n",
       "              delete Bokeh.index[id];\n",
       "            }\n",
       "          }\n",
       "        }\n",
       "      });\n",
       "      // Destroy server and session\n",
       "      var cmd = \"import bokeh.io.notebook as ion; ion.destroy_server('\" + server_id + \"')\";\n",
       "      cell.notebook.kernel.execute(cmd);\n",
       "    }\n",
       "  }\n",
       "\n",
       "  /**\n",
       "   * Handle when a new output is added\n",
       "   */\n",
       "  function handleAddOutput(event, handle) {\n",
       "    var output_area = handle.output_area;\n",
       "    var output = handle.output;\n",
       "\n",
       "    // limit handleAddOutput to display_data with EXEC_MIME_TYPE content only\n",
       "    if ((output.output_type != \"display_data\") || (!Object.prototype.hasOwnProperty.call(output.data, EXEC_MIME_TYPE))) {\n",
       "      return\n",
       "    }\n",
       "\n",
       "    var toinsert = output_area.element.find(\".\" + CLASS_NAME.split(' ')[0]);\n",
       "\n",
       "    if (output.metadata[EXEC_MIME_TYPE][\"id\"] !== undefined) {\n",
       "      toinsert[toinsert.length - 1].firstChild.textContent = output.data[JS_MIME_TYPE];\n",
       "      // store reference to embed id on output_area\n",
       "      output_area._bokeh_element_id = output.metadata[EXEC_MIME_TYPE][\"id\"];\n",
       "    }\n",
       "    if (output.metadata[EXEC_MIME_TYPE][\"server_id\"] !== undefined) {\n",
       "      var bk_div = document.createElement(\"div\");\n",
       "      bk_div.innerHTML = output.data[HTML_MIME_TYPE];\n",
       "      var script_attrs = bk_div.children[0].attributes;\n",
       "      for (var i = 0; i < script_attrs.length; i++) {\n",
       "        toinsert[toinsert.length - 1].firstChild.setAttribute(script_attrs[i].name, script_attrs[i].value);\n",
       "        toinsert[toinsert.length - 1].firstChild.textContent = bk_div.children[0].textContent\n",
       "      }\n",
       "      // store reference to server id on output_area\n",
       "      output_area._bokeh_server_id = output.metadata[EXEC_MIME_TYPE][\"server_id\"];\n",
       "    }\n",
       "  }\n",
       "\n",
       "  function register_renderer(events, OutputArea) {\n",
       "\n",
       "    function append_mime(data, metadata, element) {\n",
       "      // create a DOM node to render to\n",
       "      var toinsert = this.create_output_subarea(\n",
       "        metadata,\n",
       "        CLASS_NAME,\n",
       "        EXEC_MIME_TYPE\n",
       "      );\n",
       "      this.keyboard_manager.register_events(toinsert);\n",
       "      // Render to node\n",
       "      var props = {data: data, metadata: metadata[EXEC_MIME_TYPE]};\n",
       "      render(props, toinsert[toinsert.length - 1]);\n",
       "      element.append(toinsert);\n",
       "      return toinsert\n",
       "    }\n",
       "\n",
       "    /* Handle when an output is cleared or removed */\n",
       "    events.on('clear_output.CodeCell', handleClearOutput);\n",
       "    events.on('delete.Cell', handleClearOutput);\n",
       "\n",
       "    /* Handle when a new output is added */\n",
       "    events.on('output_added.OutputArea', handleAddOutput);\n",
       "\n",
       "    /**\n",
       "     * Register the mime type and append_mime function with output_area\n",
       "     */\n",
       "    OutputArea.prototype.register_mime_type(EXEC_MIME_TYPE, append_mime, {\n",
       "      /* Is output safe? */\n",
       "      safe: true,\n",
       "      /* Index of renderer in `output_area.display_order` */\n",
       "      index: 0\n",
       "    });\n",
       "  }\n",
       "\n",
       "  // register the mime type if in Jupyter Notebook environment and previously unregistered\n",
       "  if (root.Jupyter !== undefined) {\n",
       "    var events = require('base/js/events');\n",
       "    var OutputArea = require('notebook/js/outputarea').OutputArea;\n",
       "\n",
       "    if (OutputArea.prototype.mime_types().indexOf(EXEC_MIME_TYPE) == -1) {\n",
       "      register_renderer(events, OutputArea);\n",
       "    }\n",
       "  }\n",
       "\n",
       "  \n",
       "  if (typeof (root._bokeh_timeout) === \"undefined\" || force === true) {\n",
       "    root._bokeh_timeout = Date.now() + 5000;\n",
       "    root._bokeh_failed_load = false;\n",
       "  }\n",
       "\n",
       "  var NB_LOAD_WARNING = {'data': {'text/html':\n",
       "     \"<div style='background-color: #fdd'>\\n\"+\n",
       "     \"<p>\\n\"+\n",
       "     \"BokehJS does not appear to have successfully loaded. If loading BokehJS from CDN, this \\n\"+\n",
       "     \"may be due to a slow or bad network connection. Possible fixes:\\n\"+\n",
       "     \"</p>\\n\"+\n",
       "     \"<ul>\\n\"+\n",
       "     \"<li>re-rerun `output_notebook()` to attempt to load from CDN again, or</li>\\n\"+\n",
       "     \"<li>use INLINE resources instead, as so:</li>\\n\"+\n",
       "     \"</ul>\\n\"+\n",
       "     \"<code>\\n\"+\n",
       "     \"from bokeh.resources import INLINE\\n\"+\n",
       "     \"output_notebook(resources=INLINE)\\n\"+\n",
       "     \"</code>\\n\"+\n",
       "     \"</div>\"}};\n",
       "\n",
       "  function display_loaded() {\n",
       "    var el = document.getElementById(\"1634\");\n",
       "    if (el != null) {\n",
       "      el.textContent = \"BokehJS is loading...\";\n",
       "    }\n",
       "    if (root.Bokeh !== undefined) {\n",
       "      if (el != null) {\n",
       "        el.textContent = \"BokehJS \" + root.Bokeh.version + \" successfully loaded.\";\n",
       "      }\n",
       "    } else if (Date.now() < root._bokeh_timeout) {\n",
       "      setTimeout(display_loaded, 100)\n",
       "    }\n",
       "  }\n",
       "\n",
       "\n",
       "  function run_callbacks() {\n",
       "    try {\n",
       "      root._bokeh_onload_callbacks.forEach(function(callback) {\n",
       "        if (callback != null)\n",
       "          callback();\n",
       "      });\n",
       "    } finally {\n",
       "      delete root._bokeh_onload_callbacks\n",
       "    }\n",
       "    console.debug(\"Bokeh: all callbacks have finished\");\n",
       "  }\n",
       "\n",
       "  function load_libs(css_urls, js_urls, callback) {\n",
       "    if (css_urls == null) css_urls = [];\n",
       "    if (js_urls == null) js_urls = [];\n",
       "\n",
       "    root._bokeh_onload_callbacks.push(callback);\n",
       "    if (root._bokeh_is_loading > 0) {\n",
       "      console.debug(\"Bokeh: BokehJS is being loaded, scheduling callback at\", now());\n",
       "      return null;\n",
       "    }\n",
       "    if (js_urls == null || js_urls.length === 0) {\n",
       "      run_callbacks();\n",
       "      return null;\n",
       "    }\n",
       "    console.debug(\"Bokeh: BokehJS not loaded, scheduling load and callback at\", now());\n",
       "    root._bokeh_is_loading = css_urls.length + js_urls.length;\n",
       "\n",
       "    function on_load() {\n",
       "      root._bokeh_is_loading--;\n",
       "      if (root._bokeh_is_loading === 0) {\n",
       "        console.debug(\"Bokeh: all BokehJS libraries/stylesheets loaded\");\n",
       "        run_callbacks()\n",
       "      }\n",
       "    }\n",
       "\n",
       "    function on_error(url) {\n",
       "      console.error(\"failed to load \" + url);\n",
       "    }\n",
       "\n",
       "    for (let i = 0; i < css_urls.length; i++) {\n",
       "      const url = css_urls[i];\n",
       "      const element = document.createElement(\"link\");\n",
       "      element.onload = on_load;\n",
       "      element.onerror = on_error.bind(null, url);\n",
       "      element.rel = \"stylesheet\";\n",
       "      element.type = \"text/css\";\n",
       "      element.href = url;\n",
       "      console.debug(\"Bokeh: injecting link tag for BokehJS stylesheet: \", url);\n",
       "      document.body.appendChild(element);\n",
       "    }\n",
       "\n",
       "    const hashes = {\"https://cdn.bokeh.org/bokeh/release/bokeh-2.3.2.min.js\": \"XypntL49z55iwGVUW4qsEu83zKL3XEcz0MjuGOQ9SlaaQ68X/g+k1FcioZi7oQAc\", \"https://cdn.bokeh.org/bokeh/release/bokeh-tables-2.3.2.min.js\": \"bEsM86IHGDTLCS0Zod8a8WM6Y4+lafAL/eSiyQcuPzinmWNgNO2/olUF0Z2Dkn5i\", \"https://cdn.bokeh.org/bokeh/release/bokeh-widgets-2.3.2.min.js\": \"TX0gSQTdXTTeScqxj6PVQxTiRW8DOoGVwinyi1D3kxv7wuxQ02XkOxv0xwiypcAH\"};\n",
       "\n",
       "    for (let i = 0; i < js_urls.length; i++) {\n",
       "      const url = js_urls[i];\n",
       "      const element = document.createElement('script');\n",
       "      element.onload = on_load;\n",
       "      element.onerror = on_error.bind(null, url);\n",
       "      element.async = false;\n",
       "      element.src = url;\n",
       "      if (url in hashes) {\n",
       "        element.crossOrigin = \"anonymous\";\n",
       "        element.integrity = \"sha384-\" + hashes[url];\n",
       "      }\n",
       "      console.debug(\"Bokeh: injecting script tag for BokehJS library: \", url);\n",
       "      document.head.appendChild(element);\n",
       "    }\n",
       "  };\n",
       "\n",
       "  function inject_raw_css(css) {\n",
       "    const element = document.createElement(\"style\");\n",
       "    element.appendChild(document.createTextNode(css));\n",
       "    document.body.appendChild(element);\n",
       "  }\n",
       "\n",
       "  \n",
       "  var js_urls = [\"https://cdn.bokeh.org/bokeh/release/bokeh-2.3.2.min.js\", \"https://cdn.bokeh.org/bokeh/release/bokeh-widgets-2.3.2.min.js\", \"https://cdn.bokeh.org/bokeh/release/bokeh-tables-2.3.2.min.js\"];\n",
       "  var css_urls = [];\n",
       "  \n",
       "\n",
       "  var inline_js = [\n",
       "    function(Bokeh) {\n",
       "      Bokeh.set_log_level(\"info\");\n",
       "    },\n",
       "    function(Bokeh) {\n",
       "    \n",
       "    \n",
       "    }\n",
       "  ];\n",
       "\n",
       "  function run_inline_js() {\n",
       "    \n",
       "    if (root.Bokeh !== undefined || force === true) {\n",
       "      \n",
       "    for (var i = 0; i < inline_js.length; i++) {\n",
       "      inline_js[i].call(root, root.Bokeh);\n",
       "    }\n",
       "    if (force === true) {\n",
       "        display_loaded();\n",
       "      }} else if (Date.now() < root._bokeh_timeout) {\n",
       "      setTimeout(run_inline_js, 100);\n",
       "    } else if (!root._bokeh_failed_load) {\n",
       "      console.log(\"Bokeh: BokehJS failed to load within specified timeout.\");\n",
       "      root._bokeh_failed_load = true;\n",
       "    } else if (force !== true) {\n",
       "      var cell = $(document.getElementById(\"1634\")).parents('.cell').data().cell;\n",
       "      cell.output_area.append_execute_result(NB_LOAD_WARNING)\n",
       "    }\n",
       "\n",
       "  }\n",
       "\n",
       "  if (root._bokeh_is_loading === 0) {\n",
       "    console.debug(\"Bokeh: BokehJS loaded, going straight to plotting\");\n",
       "    run_inline_js();\n",
       "  } else {\n",
       "    load_libs(css_urls, js_urls, function() {\n",
       "      console.debug(\"Bokeh: BokehJS plotting callback run at\", now());\n",
       "      run_inline_js();\n",
       "    });\n",
       "  }\n",
       "}(window));"
      ],
      "application/vnd.bokehjs_load.v0+json": "\n(function(root) {\n  function now() {\n    return new Date();\n  }\n\n  var force = true;\n\n  if (typeof root._bokeh_onload_callbacks === \"undefined\" || force === true) {\n    root._bokeh_onload_callbacks = [];\n    root._bokeh_is_loading = undefined;\n  }\n\n  \n\n  \n  if (typeof (root._bokeh_timeout) === \"undefined\" || force === true) {\n    root._bokeh_timeout = Date.now() + 5000;\n    root._bokeh_failed_load = false;\n  }\n\n  var NB_LOAD_WARNING = {'data': {'text/html':\n     \"<div style='background-color: #fdd'>\\n\"+\n     \"<p>\\n\"+\n     \"BokehJS does not appear to have successfully loaded. If loading BokehJS from CDN, this \\n\"+\n     \"may be due to a slow or bad network connection. Possible fixes:\\n\"+\n     \"</p>\\n\"+\n     \"<ul>\\n\"+\n     \"<li>re-rerun `output_notebook()` to attempt to load from CDN again, or</li>\\n\"+\n     \"<li>use INLINE resources instead, as so:</li>\\n\"+\n     \"</ul>\\n\"+\n     \"<code>\\n\"+\n     \"from bokeh.resources import INLINE\\n\"+\n     \"output_notebook(resources=INLINE)\\n\"+\n     \"</code>\\n\"+\n     \"</div>\"}};\n\n  function display_loaded() {\n    var el = document.getElementById(\"1634\");\n    if (el != null) {\n      el.textContent = \"BokehJS is loading...\";\n    }\n    if (root.Bokeh !== undefined) {\n      if (el != null) {\n        el.textContent = \"BokehJS \" + root.Bokeh.version + \" successfully loaded.\";\n      }\n    } else if (Date.now() < root._bokeh_timeout) {\n      setTimeout(display_loaded, 100)\n    }\n  }\n\n\n  function run_callbacks() {\n    try {\n      root._bokeh_onload_callbacks.forEach(function(callback) {\n        if (callback != null)\n          callback();\n      });\n    } finally {\n      delete root._bokeh_onload_callbacks\n    }\n    console.debug(\"Bokeh: all callbacks have finished\");\n  }\n\n  function load_libs(css_urls, js_urls, callback) {\n    if (css_urls == null) css_urls = [];\n    if (js_urls == null) js_urls = [];\n\n    root._bokeh_onload_callbacks.push(callback);\n    if (root._bokeh_is_loading > 0) {\n      console.debug(\"Bokeh: BokehJS is being loaded, scheduling callback at\", now());\n      return null;\n    }\n    if (js_urls == null || js_urls.length === 0) {\n      run_callbacks();\n      return null;\n    }\n    console.debug(\"Bokeh: BokehJS not loaded, scheduling load and callback at\", now());\n    root._bokeh_is_loading = css_urls.length + js_urls.length;\n\n    function on_load() {\n      root._bokeh_is_loading--;\n      if (root._bokeh_is_loading === 0) {\n        console.debug(\"Bokeh: all BokehJS libraries/stylesheets loaded\");\n        run_callbacks()\n      }\n    }\n\n    function on_error(url) {\n      console.error(\"failed to load \" + url);\n    }\n\n    for (let i = 0; i < css_urls.length; i++) {\n      const url = css_urls[i];\n      const element = document.createElement(\"link\");\n      element.onload = on_load;\n      element.onerror = on_error.bind(null, url);\n      element.rel = \"stylesheet\";\n      element.type = \"text/css\";\n      element.href = url;\n      console.debug(\"Bokeh: injecting link tag for BokehJS stylesheet: \", url);\n      document.body.appendChild(element);\n    }\n\n    const hashes = {\"https://cdn.bokeh.org/bokeh/release/bokeh-2.3.2.min.js\": \"XypntL49z55iwGVUW4qsEu83zKL3XEcz0MjuGOQ9SlaaQ68X/g+k1FcioZi7oQAc\", \"https://cdn.bokeh.org/bokeh/release/bokeh-tables-2.3.2.min.js\": \"bEsM86IHGDTLCS0Zod8a8WM6Y4+lafAL/eSiyQcuPzinmWNgNO2/olUF0Z2Dkn5i\", \"https://cdn.bokeh.org/bokeh/release/bokeh-widgets-2.3.2.min.js\": \"TX0gSQTdXTTeScqxj6PVQxTiRW8DOoGVwinyi1D3kxv7wuxQ02XkOxv0xwiypcAH\"};\n\n    for (let i = 0; i < js_urls.length; i++) {\n      const url = js_urls[i];\n      const element = document.createElement('script');\n      element.onload = on_load;\n      element.onerror = on_error.bind(null, url);\n      element.async = false;\n      element.src = url;\n      if (url in hashes) {\n        element.crossOrigin = \"anonymous\";\n        element.integrity = \"sha384-\" + hashes[url];\n      }\n      console.debug(\"Bokeh: injecting script tag for BokehJS library: \", url);\n      document.head.appendChild(element);\n    }\n  };\n\n  function inject_raw_css(css) {\n    const element = document.createElement(\"style\");\n    element.appendChild(document.createTextNode(css));\n    document.body.appendChild(element);\n  }\n\n  \n  var js_urls = [\"https://cdn.bokeh.org/bokeh/release/bokeh-2.3.2.min.js\", \"https://cdn.bokeh.org/bokeh/release/bokeh-widgets-2.3.2.min.js\", \"https://cdn.bokeh.org/bokeh/release/bokeh-tables-2.3.2.min.js\"];\n  var css_urls = [];\n  \n\n  var inline_js = [\n    function(Bokeh) {\n      Bokeh.set_log_level(\"info\");\n    },\n    function(Bokeh) {\n    \n    \n    }\n  ];\n\n  function run_inline_js() {\n    \n    if (root.Bokeh !== undefined || force === true) {\n      \n    for (var i = 0; i < inline_js.length; i++) {\n      inline_js[i].call(root, root.Bokeh);\n    }\n    if (force === true) {\n        display_loaded();\n      }} else if (Date.now() < root._bokeh_timeout) {\n      setTimeout(run_inline_js, 100);\n    } else if (!root._bokeh_failed_load) {\n      console.log(\"Bokeh: BokehJS failed to load within specified timeout.\");\n      root._bokeh_failed_load = true;\n    } else if (force !== true) {\n      var cell = $(document.getElementById(\"1634\")).parents('.cell').data().cell;\n      cell.output_area.append_execute_result(NB_LOAD_WARNING)\n    }\n\n  }\n\n  if (root._bokeh_is_loading === 0) {\n    console.debug(\"Bokeh: BokehJS loaded, going straight to plotting\");\n    run_inline_js();\n  } else {\n    load_libs(css_urls, js_urls, function() {\n      console.debug(\"Bokeh: BokehJS plotting callback run at\", now());\n      run_inline_js();\n    });\n  }\n}(window));"
     },
     "metadata": {},
     "output_type": "display_data"
    },
    {
     "data": {
      "text/html": [
       "\n",
       "\n",
       "\n",
       "\n",
       "\n",
       "\n",
       "  <div class=\"bk-root\" id=\"1eb1519d-f4b0-4311-835b-3786e90c7608\" data-root-id=\"1719\"></div>\n"
      ]
     },
     "metadata": {},
     "output_type": "display_data"
    },
    {
     "data": {
      "application/javascript": [
       "(function(root) {\n",
       "  function embed_document(root) {\n",
       "    \n",
       "  var docs_json = {\"f534974a-02c9-42aa-8605-f1c6108f0e0d\":{\"defs\":[],\"roots\":{\"references\":[{\"attributes\":{\"children\":[{\"id\":\"1638\"},{\"id\":\"1670\"}]},\"id\":\"1719\",\"type\":\"Column\"},{\"attributes\":{\"fill_alpha\":{\"value\":0.1},\"fill_color\":{\"value\":\"#440154\"},\"line_alpha\":{\"value\":0.1},\"line_color\":{\"value\":\"#440154\"},\"x\":{\"field\":\"TimeGenerated\"},\"y\":{\"field\":\"y_index\"}},\"id\":\"1691\",\"type\":\"Circle\"},{\"attributes\":{\"source\":{\"id\":\"1635\"}},\"id\":\"1693\",\"type\":\"CDSView\"},{\"attributes\":{\"fill_alpha\":0.2,\"fill_color\":\"navy\",\"level\":\"overlay\",\"line_alpha\":1.0,\"line_color\":\"black\",\"line_dash\":[2,2],\"line_width\":0.5,\"syncable\":false},\"id\":\"1700\",\"type\":\"BoxAnnotation\"},{\"attributes\":{\"mantissas\":[1,2,5],\"max_interval\":500.0,\"num_minor_ticks\":0},\"id\":\"1746\",\"type\":\"AdaptiveTicker\"},{\"attributes\":{\"fill_color\":{\"value\":\"#440154\"},\"line_color\":{\"value\":\"#440154\"},\"x\":{\"field\":\"TimeGenerated\"},\"y\":{\"field\":\"y_index\"}},\"id\":\"1690\",\"type\":\"Circle\"},{\"attributes\":{},\"id\":\"1743\",\"type\":\"Selection\"},{\"attributes\":{\"active_multi\":{\"id\":\"1699\"},\"tools\":[{\"id\":\"1699\"}]},\"id\":\"1685\",\"type\":\"Toolbar\"},{\"attributes\":{\"axis\":{\"id\":\"1681\"},\"ticker\":null},\"id\":\"1684\",\"type\":\"Grid\"},{\"attributes\":{\"num_minor_ticks\":5,\"tickers\":[{\"id\":\"1746\"},{\"id\":\"1747\"},{\"id\":\"1748\"},{\"id\":\"1749\"},{\"id\":\"1750\"},{\"id\":\"1751\"},{\"id\":\"1752\"},{\"id\":\"1753\"},{\"id\":\"1754\"},{\"id\":\"1755\"},{\"id\":\"1756\"},{\"id\":\"1757\"}]},\"id\":\"1682\",\"type\":\"DatetimeTicker\"},{\"attributes\":{\"months\":[0,6]},\"id\":\"1739\",\"type\":\"MonthsTicker\"},{\"attributes\":{\"data_source\":{\"id\":\"1635\"},\"glyph\":{\"id\":\"1690\"},\"hover_glyph\":null,\"muted_glyph\":null,\"nonselection_glyph\":{\"id\":\"1691\"},\"view\":{\"id\":\"1693\"}},\"id\":\"1692\",\"type\":\"GlyphRenderer\"},{\"attributes\":{\"below\":[{\"id\":\"1681\"},{\"id\":\"1686\"}],\"center\":[{\"id\":\"1684\"}],\"height\":120,\"renderers\":[{\"id\":\"1692\"},{\"id\":\"1697\"}],\"title\":{\"id\":\"1671\"},\"toolbar\":{\"id\":\"1685\"},\"toolbar_location\":null,\"width\":900,\"x_range\":{\"id\":\"1673\"},\"x_scale\":{\"id\":\"1677\"},\"y_range\":{\"id\":\"1675\"},\"y_scale\":{\"id\":\"1679\"}},\"id\":\"1670\",\"subtype\":\"Figure\",\"type\":\"Plot\"},{\"attributes\":{},\"id\":\"1745\",\"type\":\"Selection\"},{\"attributes\":{\"formatter\":{\"id\":\"1687\"},\"major_label_policy\":{\"id\":\"1727\"},\"ticker\":{\"id\":\"1682\"}},\"id\":\"1681\",\"type\":\"DatetimeAxis\"},{\"attributes\":{\"below\":[{\"id\":\"1649\"}],\"center\":[{\"id\":\"1652\"},{\"id\":\"1656\"}],\"height\":300,\"left\":[{\"id\":\"1653\"},{\"id\":\"1718\"}],\"min_border_left\":50,\"renderers\":[{\"id\":\"1709\"},{\"id\":\"1715\"}],\"title\":{\"id\":\"1639\"},\"toolbar\":{\"id\":\"1663\"},\"width\":900,\"x_range\":{\"id\":\"1641\"},\"x_scale\":{\"id\":\"1645\"},\"y_range\":{\"id\":\"1643\"},\"y_scale\":{\"id\":\"1647\"}},\"id\":\"1638\",\"subtype\":\"Figure\",\"type\":\"Plot\"},{\"attributes\":{\"source\":{\"id\":\"1635\"}},\"id\":\"1710\",\"type\":\"CDSView\"},{\"attributes\":{\"fill_color\":{\"value\":\"#FDE724\"},\"line_color\":{\"value\":\"#FDE724\"},\"x\":{\"field\":\"TimeGenerated\"},\"y\":{\"field\":\"y_index\"}},\"id\":\"1695\",\"type\":\"Circle\"},{\"attributes\":{\"fill_alpha\":{\"value\":0.5},\"fill_color\":{\"value\":\"#440154\"},\"line_alpha\":{\"value\":0.5},\"line_color\":{\"value\":\"#440154\"},\"marker\":{\"value\":\"diamond\"},\"size\":{\"value\":10},\"x\":{\"field\":\"TimeGenerated\"},\"y\":{\"field\":\"y_index\"}},\"id\":\"1707\",\"type\":\"Scatter\"},{\"attributes\":{},\"id\":\"1679\",\"type\":\"LinearScale\"},{\"attributes\":{\"end\":1624592768140.2,\"start\":1624260115981.8},\"id\":\"1641\",\"type\":\"Range1d\"},{\"attributes\":{\"label\":{\"value\":\"208.104.92.208\"},\"renderers\":[{\"id\":\"1715\"}]},\"id\":\"1717\",\"type\":\"LegendItem\"},{\"attributes\":{\"end\":1.5,\"start\":-0.5},\"id\":\"1643\",\"type\":\"Range1d\"},{\"attributes\":{\"data_source\":{\"id\":\"1635\"},\"glyph\":{\"id\":\"1707\"},\"hover_glyph\":null,\"muted_glyph\":null,\"nonselection_glyph\":{\"id\":\"1708\"},\"view\":{\"id\":\"1710\"}},\"id\":\"1709\",\"type\":\"GlyphRenderer\"},{\"attributes\":{\"fill_alpha\":{\"value\":0.1},\"fill_color\":{\"value\":\"#FDE724\"},\"line_alpha\":{\"value\":0.1},\"line_color\":{\"value\":\"#FDE724\"},\"marker\":{\"value\":\"diamond\"},\"size\":{\"value\":10},\"x\":{\"field\":\"TimeGenerated\"},\"y\":{\"field\":\"y_index\"}},\"id\":\"1714\",\"type\":\"Scatter\"},{\"attributes\":{\"fill_alpha\":{\"value\":0.5},\"fill_color\":{\"value\":\"#FDE724\"},\"line_alpha\":{\"value\":0.5},\"line_color\":{\"value\":\"#FDE724\"},\"marker\":{\"value\":\"diamond\"},\"size\":{\"value\":10},\"x\":{\"field\":\"TimeGenerated\"},\"y\":{\"field\":\"y_index\"}},\"id\":\"1713\",\"type\":\"Scatter\"},{\"attributes\":{\"days\":[\"%m-%d %H:%M\"],\"hours\":[\"%H:%M:%S\"],\"milliseconds\":[\"%H:%M:%S.%3N\"],\"minutes\":[\"%H:%M:%S\"],\"seconds\":[\"%H:%M:%S\"]},\"id\":\"1687\",\"type\":\"DatetimeTickFormatter\"},{\"attributes\":{},\"id\":\"1757\",\"type\":\"YearsTicker\"},{\"attributes\":{\"fill_alpha\":{\"value\":0.1},\"fill_color\":{\"value\":\"#440154\"},\"line_alpha\":{\"value\":0.1},\"line_color\":{\"value\":\"#440154\"},\"marker\":{\"value\":\"diamond\"},\"size\":{\"value\":10},\"x\":{\"field\":\"TimeGenerated\"},\"y\":{\"field\":\"y_index\"}},\"id\":\"1708\",\"type\":\"Scatter\"},{\"attributes\":{\"callback\":null,\"formatters\":{\"@TimeGenerated\":\"datetime\"},\"tooltips\":[[\"TimeGenerated\",\"@TimeGenerated{%F %T.%3N}\"],[\"IPAddress\",\"@IPAddress\"],[\"Operation\",\"@Operation\"],[\"AppResourceProvider\",\"@AppResourceProvider\"]]},\"id\":\"1637\",\"type\":\"HoverTool\"},{\"attributes\":{},\"id\":\"1647\",\"type\":\"LinearScale\"},{\"attributes\":{},\"id\":\"1645\",\"type\":\"LinearScale\"},{\"attributes\":{\"months\":[0,2,4,6,8,10]},\"id\":\"1737\",\"type\":\"MonthsTicker\"},{\"attributes\":{\"axis_label\":\"Event Time\",\"formatter\":{\"id\":\"1704\"},\"major_label_policy\":{\"id\":\"1722\"},\"ticker\":{\"id\":\"1650\"}},\"id\":\"1649\",\"type\":\"DatetimeAxis\"},{\"attributes\":{\"num_minor_ticks\":10,\"tickers\":[{\"id\":\"1729\"},{\"id\":\"1730\"},{\"id\":\"1731\"},{\"id\":\"1732\"},{\"id\":\"1733\"},{\"id\":\"1734\"},{\"id\":\"1735\"},{\"id\":\"1736\"},{\"id\":\"1737\"},{\"id\":\"1738\"},{\"id\":\"1739\"},{\"id\":\"1740\"}]},\"id\":\"1650\",\"type\":\"DatetimeTicker\"},{\"attributes\":{\"days\":[\"%m-%d %H:%M\"],\"hours\":[\"%H:%M:%S\"],\"milliseconds\":[\"%H:%M:%S.%3N\"],\"minutes\":[\"%H:%M:%S\"],\"seconds\":[\"%H:%M:%S\"]},\"id\":\"1704\",\"type\":\"DatetimeTickFormatter\"},{\"attributes\":{\"text\":\"Range Selector\"},\"id\":\"1671\",\"type\":\"Title\"},{\"attributes\":{\"months\":[0,4,8]},\"id\":\"1738\",\"type\":\"MonthsTicker\"},{\"attributes\":{},\"id\":\"1654\",\"type\":\"BasicTicker\"},{\"attributes\":{\"formatter\":{\"id\":\"1726\"},\"major_label_policy\":{\"id\":\"1724\"},\"ticker\":{\"id\":\"1654\"},\"visible\":false},\"id\":\"1653\",\"type\":\"LinearAxis\"},{\"attributes\":{\"data\":{\"AppResourceProvider\":[\"Azure Portal\",\"Azure Portal\",\"Microsoft App Access Panel\",\"Amazon Web Services (AWS) -NinjaTenant\",\"Azure Portal\",\"Azure Portal\",\"Azure Portal\",\"Azure Portal\",\"Azure Portal\",\"Azure Portal\",\"Azure AD Identity Governance - Entitlement\\nManagement\",\"Microsoft 365 Security and Compliance Center\",\"Azure Portal\",\"Azure Portal\",\"Microsoft.Storage\",\"Microsoft.Storage\",\"Microsoft.Storage\",\"Microsoft.Storage\",\"Microsoft.Storage\",\"Microsoft.Storage\",\"Microsoft.Storage\",\"Microsoft.Storage\",\"Microsoft.Storage\",\"Microsoft.Storage\",\"Microsoft.Storage\",\"Microsoft.Storage\",\"Microsoft.Storage\",\"Microsoft.Storage\",\"Microsoft.Storage\",\"Microsoft.Storage\",\"Microsoft.Storage\",\"Microsoft.Storage\",\"Microsoft.Storage\",\"Microsoft.Storage\",\"Microsoft.Storage\",\"Microsoft.Storage\",\"Microsoft.Storage\",\"Microsoft.Storage\",\"Microsoft.Storage\",\"Microsoft.Storage\",\"Microsoft.Storage\",\"Microsoft.Storage\",\"Microsoft.Storage\",\"Microsoft.Storage\",\"Microsoft.Storage\",\"Microsoft.Storage\",\"Microsoft.Storage\",\"Microsoft.Storage\",\"Microsoft.Storage\",\"Microsoft.Storage\",\"Microsoft.Storage\",\"Microsoft.Storage\",\"Microsoft.Storage\",\"Microsoft.Storage\",\"Microsoft.Storage\",\"Microsoft.Storage\",\"Microsoft.Storage\",\"Microsoft.Storage\",\"Microsoft.Storage\",\"Microsoft.Storage\",\"Microsoft.Storage\",\"Microsoft.Storage\",\"Microsoft.Storage\",\"Microsoft.Storage\",\"Microsoft.Storage\",\"Microsoft.Storage\",\"Microsoft.Storage\",\"Microsoft.Storage\",\"Microsoft.Storage\",\"Microsoft.Storage\",\"Microsoft.Storage\",\"Microsoft.Advisor\",\"Microsoft.Advisor\",\"Microsoft.Storage\",\"Microsoft.Storage\",\"Microsoft.Storage\",\"Microsoft.Storage\",\"Microsoft.Storage\",\"Microsoft.Storage\",\"Microsoft.Storage\",\"Microsoft.Storage\",\"Microsoft.Storage\",\"Microsoft.Storage\",\"Microsoft.Storage\",\"Microsoft.Storage\",\"Microsoft.Storage\",\"Microsoft.Storage\",\"Microsoft.Storage\",\"Microsoft.Storage\",\"Microsoft.Storage\",\"Microsoft.Storage\",\"Microsoft.Storage\",\"Microsoft.Storage\",\"Microsoft.Storage\",\"Microsoft.Storage\",\"Microsoft.Storage\",\"Microsoft.Storage\",\"Microsoft.Storage\",\"Microsoft.Storage\",\"Microsoft.Storage\",\"Microsoft.Storage\",\"Microsoft.Storage\",\"Microsoft.Storage\",\"Microsoft.Storage\",\"Microsoft.Storage\",\"Microsoft.Storage\",\"Microsoft.Storage\",\"Microsoft.Storage\",\"Microsoft.Storage\",\"Microsoft.Storage\",\"Microsoft.Storage\",\"Microsoft.Storage\",\"Microsoft.Storage\",\"Microsoft.Storage\",\"Microsoft.Storage\",\"Microsoft.Storage\",\"Microsoft.Storage\",\"Microsoft.Storage\",\"Microsoft.Storage\",\"Microsoft.Storage\",\"Microsoft.Storage\",\"Microsoft.Storage\",\"Microsoft.Storage\",\"Microsoft.Storage\",\"Microsoft.Storage\",\"Microsoft.Storage\",\"Microsoft.Storage\",\"Microsoft.Storage\",\"Microsoft.Storage\",\"Microsoft.Storage\",\"Microsoft.Storage\",\"Microsoft.Storage\",\"Microsoft.Storage\",\"Microsoft.Storage\",\"Microsoft.Storage\",\"Microsoft.Storage\",\"Microsoft.Storage\",\"Microsoft.Storage\",\"Microsoft.Storage\",\"Microsoft.Storage\",\"Microsoft.Storage\",\"Microsoft.Storage\",\"Microsoft.Storage\",\"Microsoft.Storage\",\"Microsoft.Storage\",\"Microsoft.Storage\",\"Microsoft.Storage\",\"Microsoft.Storage\",\"Microsoft.Storage\",\"Microsoft.Storage\",\"Microsoft.Storage\",\"Microsoft.Storage\",\"Microsoft.Storage\",\"Microsoft.Storage\",\"Microsoft.Storage\",\"Microsoft.Storage\",\"Microsoft.Storage\",\"Microsoft.Storage\",\"Microsoft.Storage\",\"Microsoft.Storage\",\"Microsoft.Storage\",\"Microsoft.Storage\",\"Microsoft.Storage\",\"Microsoft.Storage\",\"Microsoft.Storage\",\"Microsoft.Storage\",\"Microsoft.Storage\",\"Microsoft.Storage\",\"Microsoft.Storage\",\"Microsoft.Storage\",\"Microsoft.Storage\",\"Microsoft.Storage\",\"Microsoft.Storage\",\"Microsoft.Storage\",\"Microsoft.Storage\",\"Microsoft.Storage\",\"Microsoft.Storage\",\"Microsoft.Storage\",\"Microsoft.Storage\",\"Microsoft.Storage\",\"Microsoft.Storage\",\"Microsoft.Storage\",\"Microsoft.Storage\",\"Microsoft.Storage\",\"Microsoft.Storage\",\"Microsoft.Storage\",\"Microsoft.Storage\",\"Azure Portal\",\"Microsoft.Storage\",\"Microsoft.Storage\",\"Microsoft.Storage\",\"Microsoft.Storage\",\"Microsoft.Storage\",\"Microsoft.Storage\",\"Microsoft.Storage\",\"Microsoft.Storage\",\"Microsoft.Storage\",\"Microsoft.Storage\",\"Microsoft.Storage\",\"Microsoft.Storage\",\"Microsoft.Storage\",\"Microsoft.Storage\",\"Microsoft.Storage\",\"Microsoft.Storage\",\"Microsoft.Storage\",\"Microsoft.Storage\",\"Microsoft.Storage\",\"Microsoft.Storage\",\"Microsoft.Storage\",\"Microsoft.Storage\",\"Microsoft.Storage\",\"Microsoft.Storage\",\"Microsoft.Storage\",\"Microsoft.Storage\",\"Microsoft.Storage\",\"Microsoft.Storage\",\"Microsoft.Storage\",\"Microsoft.Storage\",\"Microsoft.Storage\",\"Microsoft.Storage\",\"Microsoft.Storage\",\"Microsoft.Storage\",\"Microsoft.Storage\",\"Microsoft.Storage\",\"Microsoft.Storage\",\"Microsoft.Storage\",\"Microsoft.Storage\",\"Microsoft.Storage\",\"Azure Portal\",\"microsoft.operationalinsights\",\"microsoft.operationalinsights\",\"Microsoft.Storage\",\"Microsoft.Storage\",\"Microsoft.Advisor\",\"Microsoft.Advisor\",\"Microsoft.Storage\",\"Microsoft.Storage\",\"Microsoft.Storage\"],\"IPAddress\":[\"208.104.92.208\",\"208.104.92.208\",\"208.104.92.208\",\"208.104.92.208\",\"208.104.92.208\",\"208.104.92.208\",\"208.104.92.208\",\"208.104.92.208\",\"208.104.92.208\",\"208.104.92.208\",\"208.104.92.208\",\"208.104.92.208\",\"208.104.92.208\",\"208.104.92.208\",\"208.104.92.208\",\"208.104.92.208\",\"208.104.92.208\",\"208.104.92.208\",\"208.104.92.208\",\"208.104.92.208\",\"208.104.92.208\",\"208.104.92.208\",\"208.104.92.208\",\"208.104.92.208\",\"208.104.92.208\",\"208.104.92.208\",\"208.104.92.208\",\"208.104.92.208\",\"208.104.92.208\",\"208.104.92.208\",\"208.104.92.208\",\"208.104.92.208\",\"208.104.92.208\",\"208.104.92.208\",\"208.104.92.208\",\"208.104.92.208\",\"208.104.92.208\",\"208.104.92.208\",\"208.104.92.208\",\"208.104.92.208\",\"208.104.92.208\",\"208.104.92.208\",\"208.104.92.208\",\"208.104.92.208\",\"208.104.92.208\",\"208.104.92.208\",\"208.104.92.208\",\"208.104.92.208\",\"208.104.92.208\",\"208.104.92.208\",\"208.104.92.208\",\"208.104.92.208\",\"208.104.92.208\",\"208.104.92.208\",\"208.104.92.208\",\"208.104.92.208\",\"208.104.92.208\",\"208.104.92.208\",\"208.104.92.208\",\"208.104.92.208\",\"208.104.92.208\",\"208.104.92.208\",\"208.104.92.208\",\"208.104.92.208\",\"208.104.92.208\",\"208.104.92.208\",\"208.104.92.208\",\"208.104.92.208\",\"208.104.92.208\",\"208.104.92.208\",\"208.104.92.208\",\"208.104.92.208\",\"208.104.92.208\",\"208.104.92.208\",\"208.104.92.208\",\"208.104.92.208\",\"208.104.92.208\",\"208.104.92.208\",\"208.104.92.208\",\"208.104.92.208\",\"208.104.92.208\",\"208.104.92.208\",\"208.104.92.208\",\"208.104.92.208\",\"208.104.92.208\",\"208.104.92.208\",\"208.104.92.208\",\"208.104.92.208\",\"208.104.92.208\",\"208.104.92.208\",\"208.104.92.208\",\"208.104.92.208\",\"208.104.92.208\",\"208.104.92.208\",\"208.104.92.208\",\"208.104.92.208\",\"208.104.92.208\",\"208.104.92.208\",\"208.104.92.208\",\"208.104.92.208\",\"208.104.92.208\",\"208.104.92.208\",\"208.104.92.208\",\"208.104.92.208\",\"208.104.92.208\",\"208.104.92.208\",\"208.104.92.208\",\"208.104.92.208\",\"208.104.92.208\",\"208.104.92.208\",\"208.104.92.208\",\"208.104.92.208\",\"208.104.92.208\",\"208.104.92.208\",\"208.104.92.208\",\"208.104.92.208\",\"208.104.92.208\",\"208.104.92.208\",\"208.104.92.208\",\"208.104.92.208\",\"208.104.92.208\",\"208.104.92.208\",\"208.104.92.208\",\"208.104.92.208\",\"208.104.92.208\",\"208.104.92.208\",\"208.104.92.208\",\"208.104.92.208\",\"208.104.92.208\",\"208.104.92.208\",\"208.104.92.208\",\"208.104.92.208\",\"208.104.92.208\",\"208.104.92.208\",\"208.104.92.208\",\"208.104.92.208\",\"208.104.92.208\",\"208.104.92.208\",\"208.104.92.208\",\"208.104.92.208\",\"208.104.92.208\",\"208.104.92.208\",\"208.104.92.208\",\"208.104.92.208\",\"208.104.92.208\",\"208.104.92.208\",\"208.104.92.208\",\"208.104.92.208\",\"208.104.92.208\",\"208.104.92.208\",\"208.104.92.208\",\"208.104.92.208\",\"208.104.92.208\",\"208.104.92.208\",\"208.104.92.208\",\"208.104.92.208\",\"208.104.92.208\",\"208.104.92.208\",\"208.104.92.208\",\"208.104.92.208\",\"208.104.92.208\",\"208.104.92.208\",\"208.104.92.208\",\"208.104.92.208\",\"208.104.92.208\",\"208.104.92.208\",\"208.104.92.208\",\"208.104.92.208\",\"208.104.92.208\",\"208.104.92.208\",\"208.104.92.208\",\"208.104.92.208\",\"208.104.92.208\",\"208.104.92.208\",\"208.104.92.208\",\"208.104.92.208\",\"208.104.92.208\",\"208.104.92.208\",\"208.104.92.208\",\"208.104.92.208\",\"208.104.92.208\",\"208.104.92.208\",\"208.104.92.208\",\"208.104.92.208\",\"208.104.92.208\",\"208.104.92.208\",\"208.104.92.208\",\"208.104.92.208\",\"208.104.92.208\",\"208.104.92.208\",\"208.104.92.208\",\"208.104.92.208\",\"208.104.92.208\",\"208.104.92.208\",\"208.104.92.208\",\"208.104.92.208\",\"208.104.92.208\",\"208.104.92.208\",\"208.104.92.208\",\"208.104.92.208\",\"208.104.92.208\",\"208.104.92.208\",\"208.104.92.208\",\"208.104.92.208\",\"208.104.92.208\",\"208.104.92.208\",\"208.104.92.208\",\"208.104.92.208\",\"208.104.92.208\",\"208.104.92.208\",\"208.104.92.208\",\"208.104.92.208\",\"208.104.92.208\",\"208.104.92.208\",\"208.104.92.208\",\"208.104.92.208\",\"208.104.92.208\",\"208.104.92.208\",\"208.104.92.208\",\"208.104.92.208\",\"208.104.92.208\",\"208.104.92.208\",\"208.104.92.208\",\"208.104.92.208\",\"208.104.92.208\",\"208.104.92.208\",\"208.104.92.208\",\"208.104.92.208\",\"208.104.92.208\",\"208.104.92.208\",\"208.104.92.208\",\"208.104.92.208\",\"208.104.92.208\",\"208.104.92.208\",\"208.104.92.208\",\"208.104.92.208\",\"208.104.92.208\",\"208.104.92.208\"],\"Operation\":[\"Sign-in activity\",\"Sign-in activity\",\"Sign-in activity\",\"Sign-in activity\",\"Sign-in activity\",\"Sign-in activity\",\"Sign-in activity\",\"Sign-in activity\",\"Sign-in activity\",\"Sign-in activity\",\"Sign-in activity\",\"Sign-in activity\",\"Sign-in activity\",\"Sign-in activity\",\"Create/Update Storage Account\",\"Create/Update Storage Account\",\"Put blob service properties\",\"Put blob service properties\",\"Put File Service Properties\",\"Put File Service Properties\",\"List Storage Account Keys\",\"List Storage Account Keys\",\"List Storage Account Keys\",\"List Storage Account Keys\",\"List Storage Account Keys\",\"List Storage Account Keys\",\"List Storage Account Keys\",\"List Storage Account Keys\",\"List Storage Account Keys\",\"List Storage Account Keys\",\"List Storage Account Keys\",\"List Storage Account Keys\",\"List Storage Account Keys\",\"List Storage Account Keys\",\"List Storage Account Keys\",\"List Storage Account Keys\",\"List Storage Account Keys\",\"List Storage Account Keys\",\"List Storage Account Keys\",\"List Storage Account Keys\",\"List Storage Account Keys\",\"List Storage Account Keys\",\"List Storage Account Keys\",\"List Storage Account Keys\",\"List Storage Account Keys\",\"List Storage Account Keys\",\"List Storage Account Keys\",\"List Storage Account Keys\",\"List Storage Account Keys\",\"List Storage Account Keys\",\"List Storage Account Keys\",\"List Storage Account Keys\",\"List Storage Account Keys\",\"List Storage Account Keys\",\"List Storage Account Keys\",\"List Storage Account Keys\",\"List Storage Account Keys\",\"List Storage Account Keys\",\"List Storage Account Keys\",\"List Storage Account Keys\",\"List Storage Account Keys\",\"List Storage Account Keys\",\"List Storage Account Keys\",\"List Storage Account Keys\",\"List Storage Account Keys\",\"List Storage Account Keys\",\"List Storage Account Keys\",\"List Storage Account Keys\",\"List Storage Account Keys\",\"List Storage Account Keys\",\"List Storage Account Keys\",\"Generate Recommendations\",\"Generate Recommendations\",\"List Storage Account Keys\",\"List Storage Account Keys\",\"List Storage Account Keys\",\"List Storage Account Keys\",\"List Storage Account Keys\",\"List Storage Account Keys\",\"List Storage Account Keys\",\"List Storage Account Keys\",\"List Storage Account Keys\",\"List Storage Account Keys\",\"List Storage Account Keys\",\"List Storage Account Keys\",\"List Storage Account Keys\",\"List Storage Account Keys\",\"List Storage Account Keys\",\"List Storage Account Keys\",\"List Storage Account Keys\",\"List Storage Account Keys\",\"List Storage Account Keys\",\"List Storage Account Keys\",\"List Storage Account Keys\",\"List Storage Account Keys\",\"List Storage Account Keys\",\"List Storage Account Keys\",\"List Storage Account Keys\",\"List Storage Account Keys\",\"List Storage Account Keys\",\"List Storage Account Keys\",\"Put blob container\",\"Put blob container\",\"List Storage Account Keys\",\"List Storage Account Keys\",\"List Storage Account Keys\",\"List Storage Account Keys\",\"List Storage Account Keys\",\"List Storage Account Keys\",\"List Storage Account Keys\",\"List Storage Account Keys\",\"List Storage Account Keys\",\"List Storage Account Keys\",\"List Storage Account Keys\",\"List Storage Account Keys\",\"List Storage Account Keys\",\"List Storage Account Keys\",\"List Storage Account Keys\",\"List Storage Account Keys\",\"List Storage Account Keys\",\"List Storage Account Keys\",\"List Storage Account Keys\",\"List Storage Account Keys\",\"List Storage Account Keys\",\"List Storage Account Keys\",\"List Storage Account Keys\",\"List Storage Account Keys\",\"List Storage Account Keys\",\"List Storage Account Keys\",\"List Storage Account Keys\",\"List Storage Account Keys\",\"List Storage Account Keys\",\"List Storage Account Keys\",\"List Storage Account Keys\",\"List Storage Account Keys\",\"List Storage Account Keys\",\"List Storage Account Keys\",\"List Storage Account Keys\",\"List Storage Account Keys\",\"List Storage Account Keys\",\"List Storage Account Keys\",\"List Storage Account Keys\",\"List Storage Account Keys\",\"List Storage Account Keys\",\"List Storage Account Keys\",\"List Storage Account Keys\",\"List Storage Account Keys\",\"List Storage Account Keys\",\"List Storage Account Keys\",\"List Storage Account Keys\",\"List Storage Account Keys\",\"List Storage Account Keys\",\"List Storage Account Keys\",\"List Storage Account Keys\",\"List Storage Account Keys\",\"List Storage Account Keys\",\"List Storage Account Keys\",\"List Storage Account Keys\",\"List Storage Account Keys\",\"List Storage Account Keys\",\"List Storage Account Keys\",\"List Storage Account Keys\",\"List Storage Account Keys\",\"List Storage Account Keys\",\"List Storage Account Keys\",\"List Storage Account Keys\",\"List Storage Account Keys\",\"List Storage Account Keys\",\"List Storage Account Keys\",\"List Storage Account Keys\",\"List Storage Account Keys\",\"List Storage Account Keys\",\"List Storage Account Keys\",\"List Storage Account Keys\",\"List Storage Account Keys\",\"List Storage Account Keys\",\"List Storage Account Keys\",\"List Storage Account Keys\",\"List Storage Account Keys\",\"List Storage Account Keys\",\"List Storage Account Keys\",\"List Storage Account Keys\",\"List Storage Account Keys\",\"List Storage Account Keys\",\"List Storage Account Keys\",\"List Storage Account Keys\",\"List Storage Account Keys\",\"Sign-in activity\",\"List Storage Account Keys\",\"List Storage Account Keys\",\"List Storage Account Keys\",\"List Storage Account Keys\",\"List Storage Account Keys\",\"List Storage Account Keys\",\"List Storage Account Keys\",\"List Storage Account Keys\",\"List Storage Account Keys\",\"List Storage Account Keys\",\"List Storage Account Keys\",\"List Storage Account Keys\",\"List Storage Account Keys\",\"List Storage Account Keys\",\"List Storage Account Keys\",\"List Storage Account Keys\",\"List Storage Account Keys\",\"List Storage Account Keys\",\"List Storage Account Keys\",\"List Storage Account Keys\",\"List Storage Account Keys\",\"List Storage Account Keys\",\"List Storage Account Keys\",\"List Storage Account Keys\",\"List Storage Account Keys\",\"List Storage Account Keys\",\"List Storage Account Keys\",\"List Storage Account Keys\",\"List Storage Account Keys\",\"List Storage Account Keys\",\"List Storage Account Keys\",\"List Storage Account Keys\",\"List Storage Account Keys\",\"List Storage Account Keys\",\"List Storage Account Keys\",\"List Storage Account Keys\",\"List Storage Account Keys\",\"List Storage Account Keys\",\"List Storage Account Keys\",\"List Storage Account Keys\",\"Sign-in activity\",\"List Workspace Shared Keys\",\"List Workspace Shared Keys\",\"List Storage Account Keys\",\"List Storage Account Keys\",\"Generate Recommendations\",\"Generate Recommendations\",\"List Storage Account Keys\",\"List Storage Account Keys\",\"List Storage Account Keys\"],\"TimeGenerated\":{\"__ndarray__\":\"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\",\"dtype\":\"float64\",\"order\":\"little\",\"shape\":[238]},\"index\":[1,3,2,0,10,12,11,7,8,9,15,4,5,6,16,19,21,22,23,24,26,27,28,29,30,31,32,33,34,35,36,37,38,39,40,41,42,43,44,45,46,47,48,49,50,51,52,53,54,55,56,57,58,59,60,61,62,63,64,65,66,67,68,69,70,71,72,73,74,75,76,77,78,79,80,81,82,83,84,85,86,87,88,89,90,91,92,93,94,95,96,97,98,99,100,101,102,103,104,105,106,107,108,109,110,111,112,113,114,115,116,117,118,119,120,121,122,123,124,125,126,127,128,129,130,131,132,133,134,135,136,137,138,139,140,141,142,143,144,145,146,147,148,149,150,151,152,153,154,155,156,157,158,159,160,161,162,163,164,165,166,167,168,169,170,171,172,173,174,175,176,177,178,179,180,181,182,183,184,185,186,187,188,189,190,191,192,13,193,194,195,196,197,198,199,200,201,202,203,204,205,206,207,208,209,210,211,212,213,214,215,216,217,218,219,220,221,222,223,224,225,226,227,228,229,230,231,232,14,238,239,240,241,242,243,244,245,246],\"y_index\":[1,1,1,1,1,1,1,1,1,1,1,1,1,1,1,1,1,1,1,1,1,1,1,1,1,1,1,1,1,1,1,1,1,1,1,1,1,1,1,1,1,1,1,1,1,1,1,1,1,1,1,1,1,1,1,1,1,1,1,1,1,1,1,1,1,1,1,1,1,1,1,1,1,1,1,1,1,1,1,1,1,1,1,1,1,1,1,1,1,1,1,1,1,1,1,1,1,1,1,1,1,1,1,1,1,1,1,1,1,1,1,1,1,1,1,1,1,1,1,1,1,1,1,1,1,1,1,1,1,1,1,1,1,1,1,1,1,1,1,1,1,1,1,1,1,1,1,1,1,1,1,1,1,1,1,1,1,1,1,1,1,1,1,1,1,1,1,1,1,1,1,1,1,1,1,1,1,1,1,1,1,1,1,1,1,1,1,1,1,1,1,1,1,1,1,1,1,1,1,1,1,1,1,1,1,1,1,1,1,1,1,1,1,1,1,1,1,1,1,1,1,1,1,1,1,1,1,1,1,1,1,1,1,1,1,1,1,1]},\"selected\":{\"id\":\"1745\"},\"selection_policy\":{\"id\":\"1744\"}},\"id\":\"1636\",\"type\":\"ColumnDataSource\"},{\"attributes\":{\"data_source\":{\"id\":\"1636\"},\"glyph\":{\"id\":\"1713\"},\"hover_glyph\":null,\"muted_glyph\":null,\"nonselection_glyph\":{\"id\":\"1714\"},\"view\":{\"id\":\"1716\"}},\"id\":\"1715\",\"type\":\"GlyphRenderer\"},{\"attributes\":{\"axis\":{\"id\":\"1649\"},\"minor_grid_line_alpha\":0.3,\"minor_grid_line_color\":\"navy\",\"ticker\":null},\"id\":\"1652\",\"type\":\"Grid\"},{\"attributes\":{\"months\":[0,6]},\"id\":\"1756\",\"type\":\"MonthsTicker\"},{\"attributes\":{\"end\":1624606628646.7998,\"start\":1624246255475.2},\"id\":\"1673\",\"type\":\"Range1d\"},{\"attributes\":{\"months\":[0,2,4,6,8,10]},\"id\":\"1754\",\"type\":\"MonthsTicker\"},{\"attributes\":{\"months\":[0,1,2,3,4,5,6,7,8,9,10,11]},\"id\":\"1736\",\"type\":\"MonthsTicker\"},{\"attributes\":{\"axis\":{\"id\":\"1653\"},\"dimension\":1,\"grid_line_color\":null,\"ticker\":null},\"id\":\"1656\",\"type\":\"Grid\"},{\"attributes\":{\"overlay\":{\"id\":\"1662\"}},\"id\":\"1658\",\"type\":\"BoxZoomTool\"},{\"attributes\":{\"data\":{\"AppResourceProvider\":[\"Microsoft.Storage\",\"Microsoft.Storage\",\"Microsoft.Storage\",\"Microsoft Resources\",\"Microsoft.Storage\",\"Microsoft.Storage\",\"Microsoft.Storage\",\"Microsoft.Storage\",\"Microsoft.Storage\"],\"IPAddress\":[\"\",\"\",\"\",\"\",\"\",\"\",\"\",\"\",\"\"],\"Operation\":[\"'audit' Policy action.\",\"'auditIfNotExists' Policy action.\",\"Create/Update Storage Account\",\"Create Deployment\",\"'audit' Policy action.\",\"'audit' Policy action.\",\"'auditIfNotExists' Policy action.\",\"'auditIfNotExists' Policy action.\",\"Create/Update Storage Account\"],\"TimeGenerated\":{\"__ndarray__\":\"ADAxJPmjd0IAIK8k+aN3QgBA7Cj5o3dCADCMKfmjd0IAYES3+aN3QgBgRLf5o3dCAGBEt/mjd0IAYES3+aN3QgCQtr35o3dC\",\"dtype\":\"float64\",\"order\":\"little\",\"shape\":[9]},\"index\":[17,18,20,25,233,234,235,236,237],\"y_index\":[0,0,0,0,0,0,0,0,0]},\"selected\":{\"id\":\"1743\"},\"selection_policy\":{\"id\":\"1742\"}},\"id\":\"1635\",\"type\":\"ColumnDataSource\"},{\"attributes\":{},\"id\":\"1660\",\"type\":\"SaveTool\"},{\"attributes\":{\"dimensions\":\"width\"},\"id\":\"1657\",\"type\":\"WheelZoomTool\"},{\"attributes\":{\"text\":\"Timeline: Azure Operations by Source IP\"},\"id\":\"1639\",\"type\":\"Title\"},{\"attributes\":{},\"id\":\"1724\",\"type\":\"AllLabels\"},{\"attributes\":{\"base\":24,\"mantissas\":[1,2,4,6,8,12],\"max_interval\":43200000.0,\"min_interval\":3600000.0,\"num_minor_ticks\":0},\"id\":\"1748\",\"type\":\"AdaptiveTicker\"},{\"attributes\":{\"data_source\":{\"id\":\"1636\"},\"glyph\":{\"id\":\"1695\"},\"hover_glyph\":null,\"muted_glyph\":null,\"nonselection_glyph\":{\"id\":\"1696\"},\"view\":{\"id\":\"1698\"}},\"id\":\"1697\",\"type\":\"GlyphRenderer\"},{\"attributes\":{\"mantissas\":[1,2,5],\"max_interval\":500.0,\"num_minor_ticks\":0},\"id\":\"1729\",\"type\":\"AdaptiveTicker\"},{\"attributes\":{},\"id\":\"1675\",\"type\":\"DataRange1d\"},{\"attributes\":{\"days\":[1,4,7,10,13,16,19,22,25,28]},\"id\":\"1750\",\"type\":\"DaysTicker\"},{\"attributes\":{},\"id\":\"1659\",\"type\":\"ResetTool\"},{\"attributes\":{\"base\":60,\"mantissas\":[1,2,5,10,15,20,30],\"max_interval\":1800000.0,\"min_interval\":1000.0,\"num_minor_ticks\":0},\"id\":\"1730\",\"type\":\"AdaptiveTicker\"},{\"attributes\":{},\"id\":\"1740\",\"type\":\"YearsTicker\"},{\"attributes\":{\"dimensions\":\"width\"},\"id\":\"1661\",\"type\":\"PanTool\"},{\"attributes\":{\"days\":[1,2,3,4,5,6,7,8,9,10,11,12,13,14,15,16,17,18,19,20,21,22,23,24,25,26,27,28,29,30,31]},\"id\":\"1749\",\"type\":\"DaysTicker\"},{\"attributes\":{},\"id\":\"1726\",\"type\":\"BasicTickFormatter\"},{\"attributes\":{\"days\":[1,15]},\"id\":\"1752\",\"type\":\"DaysTicker\"},{\"attributes\":{},\"id\":\"1722\",\"type\":\"AllLabels\"},{\"attributes\":{\"base\":60,\"mantissas\":[1,2,5,10,15,20,30],\"max_interval\":1800000.0,\"min_interval\":1000.0,\"num_minor_ticks\":0},\"id\":\"1747\",\"type\":\"AdaptiveTicker\"},{\"attributes\":{\"source\":{\"id\":\"1636\"}},\"id\":\"1698\",\"type\":\"CDSView\"},{\"attributes\":{},\"id\":\"1744\",\"type\":\"UnionRenderers\"},{\"attributes\":{\"days\":[1,2,3,4,5,6,7,8,9,10,11,12,13,14,15,16,17,18,19,20,21,22,23,24,25,26,27,28,29,30,31]},\"id\":\"1732\",\"type\":\"DaysTicker\"},{\"attributes\":{\"fill_alpha\":{\"value\":0.1},\"fill_color\":{\"value\":\"#FDE724\"},\"line_alpha\":{\"value\":0.1},\"line_color\":{\"value\":\"#FDE724\"},\"x\":{\"field\":\"TimeGenerated\"},\"y\":{\"field\":\"y_index\"}},\"id\":\"1696\",\"type\":\"Circle\"},{\"attributes\":{},\"id\":\"1727\",\"type\":\"AllLabels\"},{\"attributes\":{\"bottom_units\":\"screen\",\"fill_alpha\":0.5,\"fill_color\":\"lightgrey\",\"left_units\":\"screen\",\"level\":\"overlay\",\"line_alpha\":1.0,\"line_color\":\"black\",\"line_dash\":[4,4],\"line_width\":2,\"right_units\":\"screen\",\"syncable\":false,\"top_units\":\"screen\"},\"id\":\"1662\",\"type\":\"BoxAnnotation\"},{\"attributes\":{\"align\":\"right\",\"text\":\"Drag the middle or edges of the selection box to change the range in the main chart\",\"text_font_size\":\"10px\"},\"id\":\"1686\",\"type\":\"Title\"},{\"attributes\":{\"base\":24,\"mantissas\":[1,2,4,6,8,12],\"max_interval\":43200000.0,\"min_interval\":3600000.0,\"num_minor_ticks\":0},\"id\":\"1731\",\"type\":\"AdaptiveTicker\"},{\"attributes\":{},\"id\":\"1742\",\"type\":\"UnionRenderers\"},{\"attributes\":{},\"id\":\"1677\",\"type\":\"LinearScale\"},{\"attributes\":{\"months\":[0,4,8]},\"id\":\"1755\",\"type\":\"MonthsTicker\"},{\"attributes\":{\"overlay\":{\"id\":\"1700\"},\"x_range\":{\"id\":\"1641\"},\"y_range\":null},\"id\":\"1699\",\"type\":\"RangeTool\"},{\"attributes\":{\"months\":[0,1,2,3,4,5,6,7,8,9,10,11]},\"id\":\"1753\",\"type\":\"MonthsTicker\"},{\"attributes\":{\"days\":[1,4,7,10,13,16,19,22,25,28]},\"id\":\"1733\",\"type\":\"DaysTicker\"},{\"attributes\":{\"days\":[1,8,15,22]},\"id\":\"1751\",\"type\":\"DaysTicker\"},{\"attributes\":{\"active_multi\":null,\"tools\":[{\"id\":\"1637\"},{\"id\":\"1657\"},{\"id\":\"1658\"},{\"id\":\"1659\"},{\"id\":\"1660\"},{\"id\":\"1661\"}]},\"id\":\"1663\",\"type\":\"Toolbar\"},{\"attributes\":{\"days\":[1,8,15,22]},\"id\":\"1734\",\"type\":\"DaysTicker\"},{\"attributes\":{\"days\":[1,15]},\"id\":\"1735\",\"type\":\"DaysTicker\"},{\"attributes\":{\"label\":{\"value\":\"\"},\"renderers\":[{\"id\":\"1709\"}]},\"id\":\"1711\",\"type\":\"LegendItem\"},{\"attributes\":{\"click_policy\":\"hide\",\"items\":[{\"id\":\"1717\"},{\"id\":\"1711\"}],\"label_text_font_size\":\"8pt\",\"location\":\"center\"},\"id\":\"1718\",\"type\":\"Legend\"},{\"attributes\":{\"source\":{\"id\":\"1636\"}},\"id\":\"1716\",\"type\":\"CDSView\"}],\"root_ids\":[\"1719\"]},\"title\":\"Bokeh Application\",\"version\":\"2.3.2\"}};\n",
       "  var render_items = [{\"docid\":\"f534974a-02c9-42aa-8605-f1c6108f0e0d\",\"root_ids\":[\"1719\"],\"roots\":{\"1719\":\"1eb1519d-f4b0-4311-835b-3786e90c7608\"}}];\n",
       "  root.Bokeh.embed.embed_items_notebook(docs_json, render_items);\n",
       "\n",
       "  }\n",
       "  if (root.Bokeh !== undefined) {\n",
       "    embed_document(root);\n",
       "  } else {\n",
       "    var attempts = 0;\n",
       "    var timer = setInterval(function(root) {\n",
       "      if (root.Bokeh !== undefined) {\n",
       "        clearInterval(timer);\n",
       "        embed_document(root);\n",
       "      } else {\n",
       "        attempts++;\n",
       "        if (attempts > 100) {\n",
       "          clearInterval(timer);\n",
       "          console.log(\"Bokeh: ERROR: Unable to run BokehJS code because BokehJS library is missing\");\n",
       "        }\n",
       "      }\n",
       "    }, 10, root)\n",
       "  }\n",
       "})(window);"
      ],
      "application/vnd.bokehjs_exec.v0+json": ""
     },
     "metadata": {
      "application/vnd.bokehjs_exec.v0+json": {
       "id": "1719"
      }
     },
     "output_type": "display_data"
    },
    {
     "data": {
      "text/html": [
       "\n",
       "    <div class=\"bk-root\">\n",
       "        <a href=\"https://bokeh.org\" target=\"_blank\" class=\"bk-logo bk-logo-small bk-logo-notebook\"></a>\n",
       "        <span id=\"1954\">Loading BokehJS ...</span>\n",
       "    </div>"
      ]
     },
     "metadata": {},
     "output_type": "display_data"
    },
    {
     "data": {
      "application/javascript": [
       "\n",
       "(function(root) {\n",
       "  function now() {\n",
       "    return new Date();\n",
       "  }\n",
       "\n",
       "  var force = true;\n",
       "\n",
       "  if (typeof root._bokeh_onload_callbacks === \"undefined\" || force === true) {\n",
       "    root._bokeh_onload_callbacks = [];\n",
       "    root._bokeh_is_loading = undefined;\n",
       "  }\n",
       "\n",
       "  var JS_MIME_TYPE = 'application/javascript';\n",
       "  var HTML_MIME_TYPE = 'text/html';\n",
       "  var EXEC_MIME_TYPE = 'application/vnd.bokehjs_exec.v0+json';\n",
       "  var CLASS_NAME = 'output_bokeh rendered_html';\n",
       "\n",
       "  /**\n",
       "   * Render data to the DOM node\n",
       "   */\n",
       "  function render(props, node) {\n",
       "    var script = document.createElement(\"script\");\n",
       "    node.appendChild(script);\n",
       "  }\n",
       "\n",
       "  /**\n",
       "   * Handle when an output is cleared or removed\n",
       "   */\n",
       "  function handleClearOutput(event, handle) {\n",
       "    var cell = handle.cell;\n",
       "\n",
       "    var id = cell.output_area._bokeh_element_id;\n",
       "    var server_id = cell.output_area._bokeh_server_id;\n",
       "    // Clean up Bokeh references\n",
       "    if (id != null && id in Bokeh.index) {\n",
       "      Bokeh.index[id].model.document.clear();\n",
       "      delete Bokeh.index[id];\n",
       "    }\n",
       "\n",
       "    if (server_id !== undefined) {\n",
       "      // Clean up Bokeh references\n",
       "      var cmd = \"from bokeh.io.state import curstate; print(curstate().uuid_to_server['\" + server_id + \"'].get_sessions()[0].document.roots[0]._id)\";\n",
       "      cell.notebook.kernel.execute(cmd, {\n",
       "        iopub: {\n",
       "          output: function(msg) {\n",
       "            var id = msg.content.text.trim();\n",
       "            if (id in Bokeh.index) {\n",
       "              Bokeh.index[id].model.document.clear();\n",
       "              delete Bokeh.index[id];\n",
       "            }\n",
       "          }\n",
       "        }\n",
       "      });\n",
       "      // Destroy server and session\n",
       "      var cmd = \"import bokeh.io.notebook as ion; ion.destroy_server('\" + server_id + \"')\";\n",
       "      cell.notebook.kernel.execute(cmd);\n",
       "    }\n",
       "  }\n",
       "\n",
       "  /**\n",
       "   * Handle when a new output is added\n",
       "   */\n",
       "  function handleAddOutput(event, handle) {\n",
       "    var output_area = handle.output_area;\n",
       "    var output = handle.output;\n",
       "\n",
       "    // limit handleAddOutput to display_data with EXEC_MIME_TYPE content only\n",
       "    if ((output.output_type != \"display_data\") || (!Object.prototype.hasOwnProperty.call(output.data, EXEC_MIME_TYPE))) {\n",
       "      return\n",
       "    }\n",
       "\n",
       "    var toinsert = output_area.element.find(\".\" + CLASS_NAME.split(' ')[0]);\n",
       "\n",
       "    if (output.metadata[EXEC_MIME_TYPE][\"id\"] !== undefined) {\n",
       "      toinsert[toinsert.length - 1].firstChild.textContent = output.data[JS_MIME_TYPE];\n",
       "      // store reference to embed id on output_area\n",
       "      output_area._bokeh_element_id = output.metadata[EXEC_MIME_TYPE][\"id\"];\n",
       "    }\n",
       "    if (output.metadata[EXEC_MIME_TYPE][\"server_id\"] !== undefined) {\n",
       "      var bk_div = document.createElement(\"div\");\n",
       "      bk_div.innerHTML = output.data[HTML_MIME_TYPE];\n",
       "      var script_attrs = bk_div.children[0].attributes;\n",
       "      for (var i = 0; i < script_attrs.length; i++) {\n",
       "        toinsert[toinsert.length - 1].firstChild.setAttribute(script_attrs[i].name, script_attrs[i].value);\n",
       "        toinsert[toinsert.length - 1].firstChild.textContent = bk_div.children[0].textContent\n",
       "      }\n",
       "      // store reference to server id on output_area\n",
       "      output_area._bokeh_server_id = output.metadata[EXEC_MIME_TYPE][\"server_id\"];\n",
       "    }\n",
       "  }\n",
       "\n",
       "  function register_renderer(events, OutputArea) {\n",
       "\n",
       "    function append_mime(data, metadata, element) {\n",
       "      // create a DOM node to render to\n",
       "      var toinsert = this.create_output_subarea(\n",
       "        metadata,\n",
       "        CLASS_NAME,\n",
       "        EXEC_MIME_TYPE\n",
       "      );\n",
       "      this.keyboard_manager.register_events(toinsert);\n",
       "      // Render to node\n",
       "      var props = {data: data, metadata: metadata[EXEC_MIME_TYPE]};\n",
       "      render(props, toinsert[toinsert.length - 1]);\n",
       "      element.append(toinsert);\n",
       "      return toinsert\n",
       "    }\n",
       "\n",
       "    /* Handle when an output is cleared or removed */\n",
       "    events.on('clear_output.CodeCell', handleClearOutput);\n",
       "    events.on('delete.Cell', handleClearOutput);\n",
       "\n",
       "    /* Handle when a new output is added */\n",
       "    events.on('output_added.OutputArea', handleAddOutput);\n",
       "\n",
       "    /**\n",
       "     * Register the mime type and append_mime function with output_area\n",
       "     */\n",
       "    OutputArea.prototype.register_mime_type(EXEC_MIME_TYPE, append_mime, {\n",
       "      /* Is output safe? */\n",
       "      safe: true,\n",
       "      /* Index of renderer in `output_area.display_order` */\n",
       "      index: 0\n",
       "    });\n",
       "  }\n",
       "\n",
       "  // register the mime type if in Jupyter Notebook environment and previously unregistered\n",
       "  if (root.Jupyter !== undefined) {\n",
       "    var events = require('base/js/events');\n",
       "    var OutputArea = require('notebook/js/outputarea').OutputArea;\n",
       "\n",
       "    if (OutputArea.prototype.mime_types().indexOf(EXEC_MIME_TYPE) == -1) {\n",
       "      register_renderer(events, OutputArea);\n",
       "    }\n",
       "  }\n",
       "\n",
       "  \n",
       "  if (typeof (root._bokeh_timeout) === \"undefined\" || force === true) {\n",
       "    root._bokeh_timeout = Date.now() + 5000;\n",
       "    root._bokeh_failed_load = false;\n",
       "  }\n",
       "\n",
       "  var NB_LOAD_WARNING = {'data': {'text/html':\n",
       "     \"<div style='background-color: #fdd'>\\n\"+\n",
       "     \"<p>\\n\"+\n",
       "     \"BokehJS does not appear to have successfully loaded. If loading BokehJS from CDN, this \\n\"+\n",
       "     \"may be due to a slow or bad network connection. Possible fixes:\\n\"+\n",
       "     \"</p>\\n\"+\n",
       "     \"<ul>\\n\"+\n",
       "     \"<li>re-rerun `output_notebook()` to attempt to load from CDN again, or</li>\\n\"+\n",
       "     \"<li>use INLINE resources instead, as so:</li>\\n\"+\n",
       "     \"</ul>\\n\"+\n",
       "     \"<code>\\n\"+\n",
       "     \"from bokeh.resources import INLINE\\n\"+\n",
       "     \"output_notebook(resources=INLINE)\\n\"+\n",
       "     \"</code>\\n\"+\n",
       "     \"</div>\"}};\n",
       "\n",
       "  function display_loaded() {\n",
       "    var el = document.getElementById(\"1954\");\n",
       "    if (el != null) {\n",
       "      el.textContent = \"BokehJS is loading...\";\n",
       "    }\n",
       "    if (root.Bokeh !== undefined) {\n",
       "      if (el != null) {\n",
       "        el.textContent = \"BokehJS \" + root.Bokeh.version + \" successfully loaded.\";\n",
       "      }\n",
       "    } else if (Date.now() < root._bokeh_timeout) {\n",
       "      setTimeout(display_loaded, 100)\n",
       "    }\n",
       "  }\n",
       "\n",
       "\n",
       "  function run_callbacks() {\n",
       "    try {\n",
       "      root._bokeh_onload_callbacks.forEach(function(callback) {\n",
       "        if (callback != null)\n",
       "          callback();\n",
       "      });\n",
       "    } finally {\n",
       "      delete root._bokeh_onload_callbacks\n",
       "    }\n",
       "    console.debug(\"Bokeh: all callbacks have finished\");\n",
       "  }\n",
       "\n",
       "  function load_libs(css_urls, js_urls, callback) {\n",
       "    if (css_urls == null) css_urls = [];\n",
       "    if (js_urls == null) js_urls = [];\n",
       "\n",
       "    root._bokeh_onload_callbacks.push(callback);\n",
       "    if (root._bokeh_is_loading > 0) {\n",
       "      console.debug(\"Bokeh: BokehJS is being loaded, scheduling callback at\", now());\n",
       "      return null;\n",
       "    }\n",
       "    if (js_urls == null || js_urls.length === 0) {\n",
       "      run_callbacks();\n",
       "      return null;\n",
       "    }\n",
       "    console.debug(\"Bokeh: BokehJS not loaded, scheduling load and callback at\", now());\n",
       "    root._bokeh_is_loading = css_urls.length + js_urls.length;\n",
       "\n",
       "    function on_load() {\n",
       "      root._bokeh_is_loading--;\n",
       "      if (root._bokeh_is_loading === 0) {\n",
       "        console.debug(\"Bokeh: all BokehJS libraries/stylesheets loaded\");\n",
       "        run_callbacks()\n",
       "      }\n",
       "    }\n",
       "\n",
       "    function on_error(url) {\n",
       "      console.error(\"failed to load \" + url);\n",
       "    }\n",
       "\n",
       "    for (let i = 0; i < css_urls.length; i++) {\n",
       "      const url = css_urls[i];\n",
       "      const element = document.createElement(\"link\");\n",
       "      element.onload = on_load;\n",
       "      element.onerror = on_error.bind(null, url);\n",
       "      element.rel = \"stylesheet\";\n",
       "      element.type = \"text/css\";\n",
       "      element.href = url;\n",
       "      console.debug(\"Bokeh: injecting link tag for BokehJS stylesheet: \", url);\n",
       "      document.body.appendChild(element);\n",
       "    }\n",
       "\n",
       "    const hashes = {\"https://cdn.bokeh.org/bokeh/release/bokeh-2.3.2.min.js\": \"XypntL49z55iwGVUW4qsEu83zKL3XEcz0MjuGOQ9SlaaQ68X/g+k1FcioZi7oQAc\", \"https://cdn.bokeh.org/bokeh/release/bokeh-tables-2.3.2.min.js\": \"bEsM86IHGDTLCS0Zod8a8WM6Y4+lafAL/eSiyQcuPzinmWNgNO2/olUF0Z2Dkn5i\", \"https://cdn.bokeh.org/bokeh/release/bokeh-widgets-2.3.2.min.js\": \"TX0gSQTdXTTeScqxj6PVQxTiRW8DOoGVwinyi1D3kxv7wuxQ02XkOxv0xwiypcAH\"};\n",
       "\n",
       "    for (let i = 0; i < js_urls.length; i++) {\n",
       "      const url = js_urls[i];\n",
       "      const element = document.createElement('script');\n",
       "      element.onload = on_load;\n",
       "      element.onerror = on_error.bind(null, url);\n",
       "      element.async = false;\n",
       "      element.src = url;\n",
       "      if (url in hashes) {\n",
       "        element.crossOrigin = \"anonymous\";\n",
       "        element.integrity = \"sha384-\" + hashes[url];\n",
       "      }\n",
       "      console.debug(\"Bokeh: injecting script tag for BokehJS library: \", url);\n",
       "      document.head.appendChild(element);\n",
       "    }\n",
       "  };\n",
       "\n",
       "  function inject_raw_css(css) {\n",
       "    const element = document.createElement(\"style\");\n",
       "    element.appendChild(document.createTextNode(css));\n",
       "    document.body.appendChild(element);\n",
       "  }\n",
       "\n",
       "  \n",
       "  var js_urls = [\"https://cdn.bokeh.org/bokeh/release/bokeh-2.3.2.min.js\", \"https://cdn.bokeh.org/bokeh/release/bokeh-widgets-2.3.2.min.js\", \"https://cdn.bokeh.org/bokeh/release/bokeh-tables-2.3.2.min.js\"];\n",
       "  var css_urls = [];\n",
       "  \n",
       "\n",
       "  var inline_js = [\n",
       "    function(Bokeh) {\n",
       "      Bokeh.set_log_level(\"info\");\n",
       "    },\n",
       "    function(Bokeh) {\n",
       "    \n",
       "    \n",
       "    }\n",
       "  ];\n",
       "\n",
       "  function run_inline_js() {\n",
       "    \n",
       "    if (root.Bokeh !== undefined || force === true) {\n",
       "      \n",
       "    for (var i = 0; i < inline_js.length; i++) {\n",
       "      inline_js[i].call(root, root.Bokeh);\n",
       "    }\n",
       "    if (force === true) {\n",
       "        display_loaded();\n",
       "      }} else if (Date.now() < root._bokeh_timeout) {\n",
       "      setTimeout(run_inline_js, 100);\n",
       "    } else if (!root._bokeh_failed_load) {\n",
       "      console.log(\"Bokeh: BokehJS failed to load within specified timeout.\");\n",
       "      root._bokeh_failed_load = true;\n",
       "    } else if (force !== true) {\n",
       "      var cell = $(document.getElementById(\"1954\")).parents('.cell').data().cell;\n",
       "      cell.output_area.append_execute_result(NB_LOAD_WARNING)\n",
       "    }\n",
       "\n",
       "  }\n",
       "\n",
       "  if (root._bokeh_is_loading === 0) {\n",
       "    console.debug(\"Bokeh: BokehJS loaded, going straight to plotting\");\n",
       "    run_inline_js();\n",
       "  } else {\n",
       "    load_libs(css_urls, js_urls, function() {\n",
       "      console.debug(\"Bokeh: BokehJS plotting callback run at\", now());\n",
       "      run_inline_js();\n",
       "    });\n",
       "  }\n",
       "}(window));"
      ],
      "application/vnd.bokehjs_load.v0+json": "\n(function(root) {\n  function now() {\n    return new Date();\n  }\n\n  var force = true;\n\n  if (typeof root._bokeh_onload_callbacks === \"undefined\" || force === true) {\n    root._bokeh_onload_callbacks = [];\n    root._bokeh_is_loading = undefined;\n  }\n\n  \n\n  \n  if (typeof (root._bokeh_timeout) === \"undefined\" || force === true) {\n    root._bokeh_timeout = Date.now() + 5000;\n    root._bokeh_failed_load = false;\n  }\n\n  var NB_LOAD_WARNING = {'data': {'text/html':\n     \"<div style='background-color: #fdd'>\\n\"+\n     \"<p>\\n\"+\n     \"BokehJS does not appear to have successfully loaded. If loading BokehJS from CDN, this \\n\"+\n     \"may be due to a slow or bad network connection. Possible fixes:\\n\"+\n     \"</p>\\n\"+\n     \"<ul>\\n\"+\n     \"<li>re-rerun `output_notebook()` to attempt to load from CDN again, or</li>\\n\"+\n     \"<li>use INLINE resources instead, as so:</li>\\n\"+\n     \"</ul>\\n\"+\n     \"<code>\\n\"+\n     \"from bokeh.resources import INLINE\\n\"+\n     \"output_notebook(resources=INLINE)\\n\"+\n     \"</code>\\n\"+\n     \"</div>\"}};\n\n  function display_loaded() {\n    var el = document.getElementById(\"1954\");\n    if (el != null) {\n      el.textContent = \"BokehJS is loading...\";\n    }\n    if (root.Bokeh !== undefined) {\n      if (el != null) {\n        el.textContent = \"BokehJS \" + root.Bokeh.version + \" successfully loaded.\";\n      }\n    } else if (Date.now() < root._bokeh_timeout) {\n      setTimeout(display_loaded, 100)\n    }\n  }\n\n\n  function run_callbacks() {\n    try {\n      root._bokeh_onload_callbacks.forEach(function(callback) {\n        if (callback != null)\n          callback();\n      });\n    } finally {\n      delete root._bokeh_onload_callbacks\n    }\n    console.debug(\"Bokeh: all callbacks have finished\");\n  }\n\n  function load_libs(css_urls, js_urls, callback) {\n    if (css_urls == null) css_urls = [];\n    if (js_urls == null) js_urls = [];\n\n    root._bokeh_onload_callbacks.push(callback);\n    if (root._bokeh_is_loading > 0) {\n      console.debug(\"Bokeh: BokehJS is being loaded, scheduling callback at\", now());\n      return null;\n    }\n    if (js_urls == null || js_urls.length === 0) {\n      run_callbacks();\n      return null;\n    }\n    console.debug(\"Bokeh: BokehJS not loaded, scheduling load and callback at\", now());\n    root._bokeh_is_loading = css_urls.length + js_urls.length;\n\n    function on_load() {\n      root._bokeh_is_loading--;\n      if (root._bokeh_is_loading === 0) {\n        console.debug(\"Bokeh: all BokehJS libraries/stylesheets loaded\");\n        run_callbacks()\n      }\n    }\n\n    function on_error(url) {\n      console.error(\"failed to load \" + url);\n    }\n\n    for (let i = 0; i < css_urls.length; i++) {\n      const url = css_urls[i];\n      const element = document.createElement(\"link\");\n      element.onload = on_load;\n      element.onerror = on_error.bind(null, url);\n      element.rel = \"stylesheet\";\n      element.type = \"text/css\";\n      element.href = url;\n      console.debug(\"Bokeh: injecting link tag for BokehJS stylesheet: \", url);\n      document.body.appendChild(element);\n    }\n\n    const hashes = {\"https://cdn.bokeh.org/bokeh/release/bokeh-2.3.2.min.js\": \"XypntL49z55iwGVUW4qsEu83zKL3XEcz0MjuGOQ9SlaaQ68X/g+k1FcioZi7oQAc\", \"https://cdn.bokeh.org/bokeh/release/bokeh-tables-2.3.2.min.js\": \"bEsM86IHGDTLCS0Zod8a8WM6Y4+lafAL/eSiyQcuPzinmWNgNO2/olUF0Z2Dkn5i\", \"https://cdn.bokeh.org/bokeh/release/bokeh-widgets-2.3.2.min.js\": \"TX0gSQTdXTTeScqxj6PVQxTiRW8DOoGVwinyi1D3kxv7wuxQ02XkOxv0xwiypcAH\"};\n\n    for (let i = 0; i < js_urls.length; i++) {\n      const url = js_urls[i];\n      const element = document.createElement('script');\n      element.onload = on_load;\n      element.onerror = on_error.bind(null, url);\n      element.async = false;\n      element.src = url;\n      if (url in hashes) {\n        element.crossOrigin = \"anonymous\";\n        element.integrity = \"sha384-\" + hashes[url];\n      }\n      console.debug(\"Bokeh: injecting script tag for BokehJS library: \", url);\n      document.head.appendChild(element);\n    }\n  };\n\n  function inject_raw_css(css) {\n    const element = document.createElement(\"style\");\n    element.appendChild(document.createTextNode(css));\n    document.body.appendChild(element);\n  }\n\n  \n  var js_urls = [\"https://cdn.bokeh.org/bokeh/release/bokeh-2.3.2.min.js\", \"https://cdn.bokeh.org/bokeh/release/bokeh-widgets-2.3.2.min.js\", \"https://cdn.bokeh.org/bokeh/release/bokeh-tables-2.3.2.min.js\"];\n  var css_urls = [];\n  \n\n  var inline_js = [\n    function(Bokeh) {\n      Bokeh.set_log_level(\"info\");\n    },\n    function(Bokeh) {\n    \n    \n    }\n  ];\n\n  function run_inline_js() {\n    \n    if (root.Bokeh !== undefined || force === true) {\n      \n    for (var i = 0; i < inline_js.length; i++) {\n      inline_js[i].call(root, root.Bokeh);\n    }\n    if (force === true) {\n        display_loaded();\n      }} else if (Date.now() < root._bokeh_timeout) {\n      setTimeout(run_inline_js, 100);\n    } else if (!root._bokeh_failed_load) {\n      console.log(\"Bokeh: BokehJS failed to load within specified timeout.\");\n      root._bokeh_failed_load = true;\n    } else if (force !== true) {\n      var cell = $(document.getElementById(\"1954\")).parents('.cell').data().cell;\n      cell.output_area.append_execute_result(NB_LOAD_WARNING)\n    }\n\n  }\n\n  if (root._bokeh_is_loading === 0) {\n    console.debug(\"Bokeh: BokehJS loaded, going straight to plotting\");\n    run_inline_js();\n  } else {\n    load_libs(css_urls, js_urls, function() {\n      console.debug(\"Bokeh: BokehJS plotting callback run at\", now());\n      run_inline_js();\n    });\n  }\n}(window));"
     },
     "metadata": {},
     "output_type": "display_data"
    },
    {
     "data": {
      "text/html": [
       "\n",
       "\n",
       "\n",
       "\n",
       "\n",
       "\n",
       "  <div class=\"bk-root\" id=\"e4cdbb80-63c7-46ad-a74e-24a794b4e02d\" data-root-id=\"2147\"></div>\n"
      ]
     },
     "metadata": {},
     "output_type": "display_data"
    },
    {
     "data": {
      "application/javascript": [
       "(function(root) {\n",
       "  function embed_document(root) {\n",
       "    \n",
       "  var docs_json = {\"7a1eb047-0a1b-41ba-9062-257783001fd8\":{\"defs\":[],\"roots\":{\"references\":[{\"attributes\":{\"children\":[{\"id\":\"1967\"},{\"id\":\"1999\"}]},\"id\":\"2147\",\"type\":\"Column\"},{\"attributes\":{\"overlay\":{\"id\":\"2074\"},\"x_range\":{\"id\":\"1970\"},\"y_range\":null},\"id\":\"2073\",\"type\":\"RangeTool\"},{\"attributes\":{\"months\":[0,1,2,3,4,5,6,7,8,9,10,11]},\"id\":\"2199\",\"type\":\"MonthsTicker\"},{\"attributes\":{\"label\":{\"value\":\"Generate Recommendations\"},\"renderers\":[{\"id\":\"2107\"}]},\"id\":\"2109\",\"type\":\"LegendItem\"},{\"attributes\":{\"source\":{\"id\":\"1959\"}},\"id\":\"2042\",\"type\":\"CDSView\"},{\"attributes\":{\"days\":[1,8,15,22]},\"id\":\"2197\",\"type\":\"DaysTicker\"},{\"attributes\":{\"label\":{\"value\":\"Put blob service properties\"},\"renderers\":[{\"id\":\"2137\"}]},\"id\":\"2139\",\"type\":\"LegendItem\"},{\"attributes\":{\"days\":[1,15]},\"id\":\"2198\",\"type\":\"DaysTicker\"},{\"attributes\":{\"formatter\":{\"id\":\"2154\"},\"major_label_policy\":{\"id\":\"2152\"},\"ticker\":{\"id\":\"1983\"},\"visible\":false},\"id\":\"1982\",\"type\":\"LinearAxis\"},{\"attributes\":{\"source\":{\"id\":\"1964\"}},\"id\":\"2138\",\"type\":\"CDSView\"},{\"attributes\":{\"data_source\":{\"id\":\"1957\"},\"glyph\":{\"id\":\"2093\"},\"hover_glyph\":null,\"muted_glyph\":null,\"nonselection_glyph\":{\"id\":\"2094\"},\"view\":{\"id\":\"2096\"}},\"id\":\"2095\",\"type\":\"GlyphRenderer\"},{\"attributes\":{\"fill_alpha\":{\"value\":0.5},\"fill_color\":{\"value\":\"#443982\"},\"line_alpha\":{\"value\":0.5},\"line_color\":{\"value\":\"#443982\"},\"marker\":{\"value\":\"diamond\"},\"size\":{\"value\":10},\"x\":{\"field\":\"TimeGenerated\"},\"y\":{\"field\":\"y_index\"}},\"id\":\"2093\",\"type\":\"Scatter\"},{\"attributes\":{\"months\":[0,2,4,6,8,10]},\"id\":\"2200\",\"type\":\"MonthsTicker\"},{\"attributes\":{},\"id\":\"1976\",\"type\":\"LinearScale\"},{\"attributes\":{\"data\":{\"AppResourceProvider\":[\"Microsoft.Storage\",\"Microsoft.Storage\"],\"IPAddress\":[\"208.104.92.208\",\"208.104.92.208\"],\"Operation\":[\"Put File Service Properties\",\"Put File Service Properties\"],\"TimeGenerated\":{\"__ndarray__\":\"AGB/Kfmjd0IAYIQp+aN3Qg==\",\"dtype\":\"float64\",\"order\":\"little\",\"shape\":[2]},\"index\":[23,24],\"y_index\":[7,7]},\"selected\":{\"id\":\"2185\"},\"selection_policy\":{\"id\":\"2184\"}},\"id\":\"1962\",\"type\":\"ColumnDataSource\"},{\"attributes\":{\"axis\":{\"id\":\"1978\"},\"minor_grid_line_alpha\":0.3,\"minor_grid_line_color\":\"navy\",\"ticker\":null},\"id\":\"1981\",\"type\":\"Grid\"},{\"attributes\":{\"data_source\":{\"id\":\"1960\"},\"glyph\":{\"id\":\"2044\"},\"hover_glyph\":null,\"muted_glyph\":null,\"nonselection_glyph\":{\"id\":\"2045\"},\"view\":{\"id\":\"2047\"}},\"id\":\"2046\",\"type\":\"GlyphRenderer\"},{\"attributes\":{\"months\":[0,4,8]},\"id\":\"2201\",\"type\":\"MonthsTicker\"},{\"attributes\":{\"end\":10.090909090909092,\"start\":-0.09090909090909091},\"id\":\"1972\",\"type\":\"Range1d\"},{\"attributes\":{\"fill_alpha\":{\"value\":0.1},\"fill_color\":{\"value\":\"#443982\"},\"line_alpha\":{\"value\":0.1},\"line_color\":{\"value\":\"#443982\"},\"marker\":{\"value\":\"diamond\"},\"size\":{\"value\":10},\"x\":{\"field\":\"TimeGenerated\"},\"y\":{\"field\":\"y_index\"}},\"id\":\"2094\",\"type\":\"Scatter\"},{\"attributes\":{\"fill_alpha\":{\"value\":0.1},\"fill_color\":{\"value\":\"#287B8E\"},\"line_alpha\":{\"value\":0.1},\"line_color\":{\"value\":\"#287B8E\"},\"x\":{\"field\":\"TimeGenerated\"},\"y\":{\"field\":\"y_index\"}},\"id\":\"2045\",\"type\":\"Circle\"},{\"attributes\":{\"data_source\":{\"id\":\"1965\"},\"glyph\":{\"id\":\"2141\"},\"hover_glyph\":null,\"muted_glyph\":null,\"nonselection_glyph\":{\"id\":\"2142\"},\"view\":{\"id\":\"2144\"}},\"id\":\"2143\",\"type\":\"GlyphRenderer\"},{\"attributes\":{\"num_minor_ticks\":10,\"tickers\":[{\"id\":\"2157\"},{\"id\":\"2158\"},{\"id\":\"2159\"},{\"id\":\"2160\"},{\"id\":\"2161\"},{\"id\":\"2162\"},{\"id\":\"2163\"},{\"id\":\"2164\"},{\"id\":\"2165\"},{\"id\":\"2166\"},{\"id\":\"2167\"},{\"id\":\"2168\"}]},\"id\":\"1979\",\"type\":\"DatetimeTicker\"},{\"attributes\":{\"source\":{\"id\":\"1957\"}},\"id\":\"2096\",\"type\":\"CDSView\"},{\"attributes\":{\"months\":[0,6]},\"id\":\"2202\",\"type\":\"MonthsTicker\"},{\"attributes\":{\"label\":{\"value\":\"List Storage Account Keys\"},\"renderers\":[{\"id\":\"2113\"}]},\"id\":\"2115\",\"type\":\"LegendItem\"},{\"attributes\":{\"data_source\":{\"id\":\"1964\"},\"glyph\":{\"id\":\"2064\"},\"hover_glyph\":null,\"muted_glyph\":null,\"nonselection_glyph\":{\"id\":\"2065\"},\"view\":{\"id\":\"2067\"}},\"id\":\"2066\",\"type\":\"GlyphRenderer\"},{\"attributes\":{\"fill_color\":{\"value\":\"#287B8E\"},\"line_color\":{\"value\":\"#287B8E\"},\"x\":{\"field\":\"TimeGenerated\"},\"y\":{\"field\":\"y_index\"}},\"id\":\"2044\",\"type\":\"Circle\"},{\"attributes\":{\"data\":{\"AppResourceProvider\":[\"Microsoft.Storage\",\"Microsoft.Storage\",\"Microsoft.Storage\",\"Microsoft.Storage\"],\"IPAddress\":[\"208.104.92.208\",\"208.104.92.208\",\"\",\"\"],\"Operation\":[\"Create/Update Storage Account\",\"Create/Update Storage Account\",\"Create/Update Storage Account\",\"Create/Update Storage Account\"],\"TimeGenerated\":{\"__ndarray__\":\"AMAjJPmjd0IA8LEk+aN3QgBA7Cj5o3dCAJC2vfmjd0I=\",\"dtype\":\"float64\",\"order\":\"little\",\"shape\":[4]},\"index\":[16,19,20,237],\"y_index\":[3,3,3,3]},\"selected\":{\"id\":\"2177\"},\"selection_policy\":{\"id\":\"2176\"}},\"id\":\"1958\",\"type\":\"ColumnDataSource\"},{\"attributes\":{\"fill_alpha\":{\"value\":0.1},\"fill_color\":{\"value\":\"#5BC862\"},\"line_alpha\":{\"value\":0.1},\"line_color\":{\"value\":\"#5BC862\"},\"marker\":{\"value\":\"diamond\"},\"size\":{\"value\":10},\"x\":{\"field\":\"TimeGenerated\"},\"y\":{\"field\":\"y_index\"}},\"id\":\"2136\",\"type\":\"Scatter\"},{\"attributes\":{\"source\":{\"id\":\"1960\"}},\"id\":\"2047\",\"type\":\"CDSView\"},{\"attributes\":{\"data_source\":{\"id\":\"1958\"},\"glyph\":{\"id\":\"2099\"},\"hover_glyph\":null,\"muted_glyph\":null,\"nonselection_glyph\":{\"id\":\"2100\"},\"view\":{\"id\":\"2102\"}},\"id\":\"2101\",\"type\":\"GlyphRenderer\"},{\"attributes\":{\"data\":{\"AppResourceProvider\":[\"Microsoft.Storage\",\"Microsoft.Storage\",\"Microsoft.Storage\"],\"IPAddress\":[\"\",\"\",\"\"],\"Operation\":[\"'auditIfNotExists' Policy action.\",\"'auditIfNotExists' Policy action.\",\"'auditIfNotExists' Policy action.\"],\"TimeGenerated\":{\"__ndarray__\":\"ACCvJPmjd0IAYES3+aN3QgBgRLf5o3dC\",\"dtype\":\"float64\",\"order\":\"little\",\"shape\":[3]},\"index\":[18,235,236],\"y_index\":[1,1,1]},\"selected\":{\"id\":\"2173\"},\"selection_policy\":{\"id\":\"2172\"}},\"id\":\"1956\",\"type\":\"ColumnDataSource\"},{\"attributes\":{\"fill_alpha\":{\"value\":0.1},\"fill_color\":{\"value\":\"#5BC862\"},\"line_alpha\":{\"value\":0.1},\"line_color\":{\"value\":\"#5BC862\"},\"x\":{\"field\":\"TimeGenerated\"},\"y\":{\"field\":\"y_index\"}},\"id\":\"2065\",\"type\":\"Circle\"},{\"attributes\":{},\"id\":\"2203\",\"type\":\"YearsTicker\"},{\"attributes\":{\"fill_alpha\":{\"value\":0.5},\"fill_color\":{\"value\":\"#3B518A\"},\"line_alpha\":{\"value\":0.5},\"line_color\":{\"value\":\"#3B518A\"},\"marker\":{\"value\":\"diamond\"},\"size\":{\"value\":10},\"x\":{\"field\":\"TimeGenerated\"},\"y\":{\"field\":\"y_index\"}},\"id\":\"2099\",\"type\":\"Scatter\"},{\"attributes\":{\"fill_alpha\":{\"value\":0.1},\"fill_color\":{\"value\":\"#3B518A\"},\"line_alpha\":{\"value\":0.1},\"line_color\":{\"value\":\"#3B518A\"},\"marker\":{\"value\":\"diamond\"},\"size\":{\"value\":10},\"x\":{\"field\":\"TimeGenerated\"},\"y\":{\"field\":\"y_index\"}},\"id\":\"2100\",\"type\":\"Scatter\"},{\"attributes\":{\"fill_color\":{\"value\":\"#5BC862\"},\"line_color\":{\"value\":\"#5BC862\"},\"x\":{\"field\":\"TimeGenerated\"},\"y\":{\"field\":\"y_index\"}},\"id\":\"2064\",\"type\":\"Circle\"},{\"attributes\":{\"source\":{\"id\":\"1964\"}},\"id\":\"2067\",\"type\":\"CDSView\"},{\"attributes\":{\"axis_label\":\"Event Time\",\"formatter\":{\"id\":\"2078\"},\"major_label_policy\":{\"id\":\"2150\"},\"ticker\":{\"id\":\"1979\"}},\"id\":\"1978\",\"type\":\"DatetimeAxis\"},{\"attributes\":{\"source\":{\"id\":\"1958\"}},\"id\":\"2102\",\"type\":\"CDSView\"},{\"attributes\":{\"label\":{\"value\":\"List Workspace Shared Keys\"},\"renderers\":[{\"id\":\"2119\"}]},\"id\":\"2121\",\"type\":\"LegendItem\"},{\"attributes\":{\"data_source\":{\"id\":\"1965\"},\"glyph\":{\"id\":\"2069\"},\"hover_glyph\":null,\"muted_glyph\":null,\"nonselection_glyph\":{\"id\":\"2070\"},\"view\":{\"id\":\"2072\"}},\"id\":\"2071\",\"type\":\"GlyphRenderer\"},{\"attributes\":{\"fill_alpha\":{\"value\":0.1},\"fill_color\":{\"value\":\"#8DD644\"},\"line_alpha\":{\"value\":0.1},\"line_color\":{\"value\":\"#8DD644\"},\"x\":{\"field\":\"TimeGenerated\"},\"y\":{\"field\":\"y_index\"}},\"id\":\"2070\",\"type\":\"Circle\"},{\"attributes\":{\"data_source\":{\"id\":\"1959\"},\"glyph\":{\"id\":\"2105\"},\"hover_glyph\":null,\"muted_glyph\":null,\"nonselection_glyph\":{\"id\":\"2106\"},\"view\":{\"id\":\"2108\"}},\"id\":\"2107\",\"type\":\"GlyphRenderer\"},{\"attributes\":{\"fill_alpha\":{\"value\":0.5},\"fill_color\":{\"value\":\"#30678D\"},\"line_alpha\":{\"value\":0.5},\"line_color\":{\"value\":\"#30678D\"},\"marker\":{\"value\":\"diamond\"},\"size\":{\"value\":10},\"x\":{\"field\":\"TimeGenerated\"},\"y\":{\"field\":\"y_index\"}},\"id\":\"2105\",\"type\":\"Scatter\"},{\"attributes\":{\"fill_alpha\":0.2,\"fill_color\":\"navy\",\"level\":\"overlay\",\"line_alpha\":1.0,\"line_color\":\"black\",\"line_dash\":[2,2],\"line_width\":0.5,\"syncable\":false},\"id\":\"2074\",\"type\":\"BoxAnnotation\"},{\"attributes\":{\"label\":{\"value\":\"Put File Service Properties\"},\"renderers\":[{\"id\":\"2125\"}]},\"id\":\"2127\",\"type\":\"LegendItem\"},{\"attributes\":{\"fill_color\":{\"value\":\"#8DD644\"},\"line_color\":{\"value\":\"#8DD644\"},\"x\":{\"field\":\"TimeGenerated\"},\"y\":{\"field\":\"y_index\"}},\"id\":\"2069\",\"type\":\"Circle\"},{\"attributes\":{\"source\":{\"id\":\"1965\"}},\"id\":\"2072\",\"type\":\"CDSView\"},{\"attributes\":{\"fill_alpha\":{\"value\":0.1},\"fill_color\":{\"value\":\"#30678D\"},\"line_alpha\":{\"value\":0.1},\"line_color\":{\"value\":\"#30678D\"},\"marker\":{\"value\":\"diamond\"},\"size\":{\"value\":10},\"x\":{\"field\":\"TimeGenerated\"},\"y\":{\"field\":\"y_index\"}},\"id\":\"2106\",\"type\":\"Scatter\"},{\"attributes\":{\"data\":{\"AppResourceProvider\":[\"Microsoft.Storage\",\"Microsoft.Storage\",\"Microsoft.Storage\"],\"IPAddress\":[\"\",\"\",\"\"],\"Operation\":[\"'audit' Policy action.\",\"'audit' Policy action.\",\"'audit' Policy action.\"],\"TimeGenerated\":{\"__ndarray__\":\"ADAxJPmjd0IAYES3+aN3QgBgRLf5o3dC\",\"dtype\":\"float64\",\"order\":\"little\",\"shape\":[3]},\"index\":[17,233,234],\"y_index\":[0,0,0]},\"selected\":{\"id\":\"2171\"},\"selection_policy\":{\"id\":\"2170\"}},\"id\":\"1955\",\"type\":\"ColumnDataSource\"},{\"attributes\":{\"label\":{\"value\":\"'auditIfNotExists' Policy action.\"},\"renderers\":[{\"id\":\"2089\"}]},\"id\":\"2091\",\"type\":\"LegendItem\"},{\"attributes\":{\"source\":{\"id\":\"1959\"}},\"id\":\"2108\",\"type\":\"CDSView\"},{\"attributes\":{\"days\":[\"%m-%d %H:%M\"],\"hours\":[\"%H:%M:%S\"],\"milliseconds\":[\"%H:%M:%S.%3N\"],\"minutes\":[\"%H:%M:%S\"],\"seconds\":[\"%H:%M:%S\"]},\"id\":\"2078\",\"type\":\"DatetimeTickFormatter\"},{\"attributes\":{\"text\":\"Timeline: Azure Operations by Operation\"},\"id\":\"1968\",\"type\":\"Title\"},{\"attributes\":{\"data_source\":{\"id\":\"1955\"},\"glyph\":{\"id\":\"2081\"},\"hover_glyph\":null,\"muted_glyph\":null,\"nonselection_glyph\":{\"id\":\"2082\"},\"view\":{\"id\":\"2084\"}},\"id\":\"2083\",\"type\":\"GlyphRenderer\"},{\"attributes\":{\"label\":{\"value\":\"'audit' Policy action.\"},\"renderers\":[{\"id\":\"2083\"}]},\"id\":\"2085\",\"type\":\"LegendItem\"},{\"attributes\":{\"label\":{\"value\":\"Create/Update Storage Account\"},\"renderers\":[{\"id\":\"2101\"}]},\"id\":\"2103\",\"type\":\"LegendItem\"},{\"attributes\":{\"fill_alpha\":{\"value\":0.5},\"fill_color\":{\"value\":\"#5BC862\"},\"line_alpha\":{\"value\":0.5},\"line_color\":{\"value\":\"#5BC862\"},\"marker\":{\"value\":\"diamond\"},\"size\":{\"value\":10},\"x\":{\"field\":\"TimeGenerated\"},\"y\":{\"field\":\"y_index\"}},\"id\":\"2135\",\"type\":\"Scatter\"},{\"attributes\":{\"data_source\":{\"id\":\"1960\"},\"glyph\":{\"id\":\"2111\"},\"hover_glyph\":null,\"muted_glyph\":null,\"nonselection_glyph\":{\"id\":\"2112\"},\"view\":{\"id\":\"2114\"}},\"id\":\"2113\",\"type\":\"GlyphRenderer\"},{\"attributes\":{\"align\":\"right\",\"text\":\"Drag the middle or edges of the selection box to change the range in the main chart\",\"text_font_size\":\"10px\"},\"id\":\"2015\",\"type\":\"Title\"},{\"attributes\":{\"end\":1624606628646.7998,\"start\":1624246255475.2},\"id\":\"2002\",\"type\":\"Range1d\"},{\"attributes\":{},\"id\":\"2170\",\"type\":\"UnionRenderers\"},{\"attributes\":{\"fill_alpha\":{\"value\":0.5},\"fill_color\":{\"value\":\"#287B8E\"},\"line_alpha\":{\"value\":0.5},\"line_color\":{\"value\":\"#287B8E\"},\"marker\":{\"value\":\"diamond\"},\"size\":{\"value\":10},\"x\":{\"field\":\"TimeGenerated\"},\"y\":{\"field\":\"y_index\"}},\"id\":\"2111\",\"type\":\"Scatter\"},{\"attributes\":{\"end\":1624592768140.2,\"start\":1624260115981.8},\"id\":\"1970\",\"type\":\"Range1d\"},{\"attributes\":{\"fill_alpha\":{\"value\":0.5},\"fill_color\":{\"value\":\"#440154\"},\"line_alpha\":{\"value\":0.5},\"line_color\":{\"value\":\"#440154\"},\"marker\":{\"value\":\"diamond\"},\"size\":{\"value\":10},\"x\":{\"field\":\"TimeGenerated\"},\"y\":{\"field\":\"y_index\"}},\"id\":\"2081\",\"type\":\"Scatter\"},{\"attributes\":{\"active_multi\":null,\"tools\":[{\"id\":\"1966\"},{\"id\":\"1986\"},{\"id\":\"1987\"},{\"id\":\"1988\"},{\"id\":\"1989\"},{\"id\":\"1990\"}]},\"id\":\"1992\",\"type\":\"Toolbar\"},{\"attributes\":{\"fill_alpha\":{\"value\":0.1},\"fill_color\":{\"value\":\"#8DD644\"},\"line_alpha\":{\"value\":0.1},\"line_color\":{\"value\":\"#8DD644\"},\"marker\":{\"value\":\"diamond\"},\"size\":{\"value\":10},\"x\":{\"field\":\"TimeGenerated\"},\"y\":{\"field\":\"y_index\"}},\"id\":\"2142\",\"type\":\"Scatter\"},{\"attributes\":{\"fill_alpha\":{\"value\":0.1},\"fill_color\":{\"value\":\"#287B8E\"},\"line_alpha\":{\"value\":0.1},\"line_color\":{\"value\":\"#287B8E\"},\"marker\":{\"value\":\"diamond\"},\"size\":{\"value\":10},\"x\":{\"field\":\"TimeGenerated\"},\"y\":{\"field\":\"y_index\"}},\"id\":\"2112\",\"type\":\"Scatter\"},{\"attributes\":{},\"id\":\"1974\",\"type\":\"LinearScale\"},{\"attributes\":{\"fill_alpha\":{\"value\":0.1},\"fill_color\":{\"value\":\"#440154\"},\"line_alpha\":{\"value\":0.1},\"line_color\":{\"value\":\"#440154\"},\"marker\":{\"value\":\"diamond\"},\"size\":{\"value\":10},\"x\":{\"field\":\"TimeGenerated\"},\"y\":{\"field\":\"y_index\"}},\"id\":\"2082\",\"type\":\"Scatter\"},{\"attributes\":{\"label\":{\"value\":\"Create Deployment\"},\"renderers\":[{\"id\":\"2095\"}]},\"id\":\"2097\",\"type\":\"LegendItem\"},{\"attributes\":{\"source\":{\"id\":\"1960\"}},\"id\":\"2114\",\"type\":\"CDSView\"},{\"attributes\":{\"formatter\":{\"id\":\"2016\"},\"major_label_policy\":{\"id\":\"2155\"},\"ticker\":{\"id\":\"2011\"}},\"id\":\"2010\",\"type\":\"DatetimeAxis\"},{\"attributes\":{\"label\":{\"value\":\"Put blob container\"},\"renderers\":[{\"id\":\"2131\"}]},\"id\":\"2133\",\"type\":\"LegendItem\"},{\"attributes\":{\"source\":{\"id\":\"1955\"}},\"id\":\"2084\",\"type\":\"CDSView\"},{\"attributes\":{\"data_source\":{\"id\":\"1964\"},\"glyph\":{\"id\":\"2135\"},\"hover_glyph\":null,\"muted_glyph\":null,\"nonselection_glyph\":{\"id\":\"2136\"},\"view\":{\"id\":\"2138\"}},\"id\":\"2137\",\"type\":\"GlyphRenderer\"},{\"attributes\":{\"fill_alpha\":{\"value\":0.5},\"fill_color\":{\"value\":\"#8DD644\"},\"line_alpha\":{\"value\":0.5},\"line_color\":{\"value\":\"#8DD644\"},\"marker\":{\"value\":\"diamond\"},\"size\":{\"value\":10},\"x\":{\"field\":\"TimeGenerated\"},\"y\":{\"field\":\"y_index\"}},\"id\":\"2141\",\"type\":\"Scatter\"},{\"attributes\":{\"data_source\":{\"id\":\"1961\"},\"glyph\":{\"id\":\"2117\"},\"hover_glyph\":null,\"muted_glyph\":null,\"nonselection_glyph\":{\"id\":\"2118\"},\"view\":{\"id\":\"2120\"}},\"id\":\"2119\",\"type\":\"GlyphRenderer\"},{\"attributes\":{\"data_source\":{\"id\":\"1956\"},\"glyph\":{\"id\":\"2087\"},\"hover_glyph\":null,\"muted_glyph\":null,\"nonselection_glyph\":{\"id\":\"2088\"},\"view\":{\"id\":\"2090\"}},\"id\":\"2089\",\"type\":\"GlyphRenderer\"},{\"attributes\":{\"fill_alpha\":{\"value\":0.5},\"fill_color\":{\"value\":\"#208F8C\"},\"line_alpha\":{\"value\":0.5},\"line_color\":{\"value\":\"#208F8C\"},\"marker\":{\"value\":\"diamond\"},\"size\":{\"value\":10},\"x\":{\"field\":\"TimeGenerated\"},\"y\":{\"field\":\"y_index\"}},\"id\":\"2117\",\"type\":\"Scatter\"},{\"attributes\":{\"fill_alpha\":{\"value\":0.5},\"fill_color\":{\"value\":\"#481E70\"},\"line_alpha\":{\"value\":0.5},\"line_color\":{\"value\":\"#481E70\"},\"marker\":{\"value\":\"diamond\"},\"size\":{\"value\":10},\"x\":{\"field\":\"TimeGenerated\"},\"y\":{\"field\":\"y_index\"}},\"id\":\"2087\",\"type\":\"Scatter\"},{\"attributes\":{},\"id\":\"2008\",\"type\":\"LinearScale\"},{\"attributes\":{\"fill_alpha\":{\"value\":0.1},\"fill_color\":{\"value\":\"#208F8C\"},\"line_alpha\":{\"value\":0.1},\"line_color\":{\"value\":\"#208F8C\"},\"marker\":{\"value\":\"diamond\"},\"size\":{\"value\":10},\"x\":{\"field\":\"TimeGenerated\"},\"y\":{\"field\":\"y_index\"}},\"id\":\"2118\",\"type\":\"Scatter\"},{\"attributes\":{\"num_minor_ticks\":5,\"tickers\":[{\"id\":\"2192\"},{\"id\":\"2193\"},{\"id\":\"2194\"},{\"id\":\"2195\"},{\"id\":\"2196\"},{\"id\":\"2197\"},{\"id\":\"2198\"},{\"id\":\"2199\"},{\"id\":\"2200\"},{\"id\":\"2201\"},{\"id\":\"2202\"},{\"id\":\"2203\"}]},\"id\":\"2011\",\"type\":\"DatetimeTicker\"},{\"attributes\":{\"fill_alpha\":{\"value\":0.1},\"fill_color\":{\"value\":\"#481E70\"},\"line_alpha\":{\"value\":0.1},\"line_color\":{\"value\":\"#481E70\"},\"marker\":{\"value\":\"diamond\"},\"size\":{\"value\":10},\"x\":{\"field\":\"TimeGenerated\"},\"y\":{\"field\":\"y_index\"}},\"id\":\"2088\",\"type\":\"Scatter\"},{\"attributes\":{\"axis\":{\"id\":\"2010\"},\"ticker\":null},\"id\":\"2013\",\"type\":\"Grid\"},{\"attributes\":{\"source\":{\"id\":\"1956\"}},\"id\":\"2090\",\"type\":\"CDSView\"},{\"attributes\":{\"source\":{\"id\":\"1961\"}},\"id\":\"2120\",\"type\":\"CDSView\"},{\"attributes\":{},\"id\":\"1983\",\"type\":\"BasicTicker\"},{\"attributes\":{\"source\":{\"id\":\"1962\"}},\"id\":\"2057\",\"type\":\"CDSView\"},{\"attributes\":{\"fill_color\":{\"value\":\"#1FA386\"},\"line_color\":{\"value\":\"#1FA386\"},\"x\":{\"field\":\"TimeGenerated\"},\"y\":{\"field\":\"y_index\"}},\"id\":\"2054\",\"type\":\"Circle\"},{\"attributes\":{\"fill_alpha\":{\"value\":0.1},\"fill_color\":{\"value\":\"#35B778\"},\"line_alpha\":{\"value\":0.1},\"line_color\":{\"value\":\"#35B778\"},\"x\":{\"field\":\"TimeGenerated\"},\"y\":{\"field\":\"y_index\"}},\"id\":\"2060\",\"type\":\"Circle\"},{\"attributes\":{},\"id\":\"2172\",\"type\":\"UnionRenderers\"},{\"attributes\":{},\"id\":\"2173\",\"type\":\"Selection\"},{\"attributes\":{\"active_multi\":{\"id\":\"2073\"},\"tools\":[{\"id\":\"2073\"}]},\"id\":\"2014\",\"type\":\"Toolbar\"},{\"attributes\":{},\"id\":\"2175\",\"type\":\"Selection\"},{\"attributes\":{\"data_source\":{\"id\":\"1962\"},\"glyph\":{\"id\":\"2123\"},\"hover_glyph\":null,\"muted_glyph\":null,\"nonselection_glyph\":{\"id\":\"2124\"},\"view\":{\"id\":\"2126\"}},\"id\":\"2125\",\"type\":\"GlyphRenderer\"},{\"attributes\":{\"label\":{\"value\":\"Sign-in activity\"},\"renderers\":[{\"id\":\"2143\"}]},\"id\":\"2145\",\"type\":\"LegendItem\"},{\"attributes\":{\"fill_alpha\":{\"value\":0.5},\"fill_color\":{\"value\":\"#1FA386\"},\"line_alpha\":{\"value\":0.5},\"line_color\":{\"value\":\"#1FA386\"},\"marker\":{\"value\":\"diamond\"},\"size\":{\"value\":10},\"x\":{\"field\":\"TimeGenerated\"},\"y\":{\"field\":\"y_index\"}},\"id\":\"2123\",\"type\":\"Scatter\"},{\"attributes\":{},\"id\":\"2174\",\"type\":\"UnionRenderers\"},{\"attributes\":{\"dimensions\":\"width\"},\"id\":\"1986\",\"type\":\"WheelZoomTool\"},{\"attributes\":{\"fill_alpha\":{\"value\":0.1},\"fill_color\":{\"value\":\"#1FA386\"},\"line_alpha\":{\"value\":0.1},\"line_color\":{\"value\":\"#1FA386\"},\"x\":{\"field\":\"TimeGenerated\"},\"y\":{\"field\":\"y_index\"}},\"id\":\"2055\",\"type\":\"Circle\"},{\"attributes\":{\"overlay\":{\"id\":\"1991\"}},\"id\":\"1987\",\"type\":\"BoxZoomTool\"},{\"attributes\":{\"data\":{\"AppResourceProvider\":[\"Microsoft.Storage\",\"Microsoft.Storage\"],\"IPAddress\":[\"208.104.92.208\",\"208.104.92.208\"],\"Operation\":[\"Put blob container\",\"Put blob container\"],\"TimeGenerated\":{\"__ndarray__\":\"ABBSQfmjd0IAEFxB+aN3Qg==\",\"dtype\":\"float64\",\"order\":\"little\",\"shape\":[2]},\"index\":[107,108],\"y_index\":[8,8]},\"selected\":{\"id\":\"2187\"},\"selection_policy\":{\"id\":\"2186\"}},\"id\":\"1963\",\"type\":\"ColumnDataSource\"},{\"attributes\":{},\"id\":\"2177\",\"type\":\"Selection\"},{\"attributes\":{},\"id\":\"2188\",\"type\":\"UnionRenderers\"},{\"attributes\":{\"below\":[{\"id\":\"2010\"},{\"id\":\"2015\"}],\"center\":[{\"id\":\"2013\"}],\"height\":120,\"renderers\":[{\"id\":\"2021\"},{\"id\":\"2026\"},{\"id\":\"2031\"},{\"id\":\"2036\"},{\"id\":\"2041\"},{\"id\":\"2046\"},{\"id\":\"2051\"},{\"id\":\"2056\"},{\"id\":\"2061\"},{\"id\":\"2066\"},{\"id\":\"2071\"}],\"title\":{\"id\":\"2000\"},\"toolbar\":{\"id\":\"2014\"},\"toolbar_location\":null,\"width\":900,\"x_range\":{\"id\":\"2002\"},\"x_scale\":{\"id\":\"2006\"},\"y_range\":{\"id\":\"2004\"},\"y_scale\":{\"id\":\"2008\"}},\"id\":\"1999\",\"subtype\":\"Figure\",\"type\":\"Plot\"},{\"attributes\":{},\"id\":\"1988\",\"type\":\"ResetTool\"},{\"attributes\":{},\"id\":\"2189\",\"type\":\"Selection\"},{\"attributes\":{\"fill_alpha\":{\"value\":0.1},\"fill_color\":{\"value\":\"#1FA386\"},\"line_alpha\":{\"value\":0.1},\"line_color\":{\"value\":\"#1FA386\"},\"marker\":{\"value\":\"diamond\"},\"size\":{\"value\":10},\"x\":{\"field\":\"TimeGenerated\"},\"y\":{\"field\":\"y_index\"}},\"id\":\"2124\",\"type\":\"Scatter\"},{\"attributes\":{\"fill_color\":{\"value\":\"#35B778\"},\"line_color\":{\"value\":\"#35B778\"},\"x\":{\"field\":\"TimeGenerated\"},\"y\":{\"field\":\"y_index\"}},\"id\":\"2059\",\"type\":\"Circle\"},{\"attributes\":{},\"id\":\"2176\",\"type\":\"UnionRenderers\"},{\"attributes\":{},\"id\":\"2155\",\"type\":\"AllLabels\"},{\"attributes\":{\"source\":{\"id\":\"1961\"}},\"id\":\"2052\",\"type\":\"CDSView\"},{\"attributes\":{\"source\":{\"id\":\"1962\"}},\"id\":\"2126\",\"type\":\"CDSView\"},{\"attributes\":{\"days\":[\"%m-%d %H:%M\"],\"hours\":[\"%H:%M:%S\"],\"milliseconds\":[\"%H:%M:%S.%3N\"],\"minutes\":[\"%H:%M:%S\"],\"seconds\":[\"%H:%M:%S\"]},\"id\":\"2016\",\"type\":\"DatetimeTickFormatter\"},{\"attributes\":{},\"id\":\"2179\",\"type\":\"Selection\"},{\"attributes\":{\"source\":{\"id\":\"1965\"}},\"id\":\"2144\",\"type\":\"CDSView\"},{\"attributes\":{\"fill_color\":{\"value\":\"#208F8C\"},\"line_color\":{\"value\":\"#208F8C\"},\"x\":{\"field\":\"TimeGenerated\"},\"y\":{\"field\":\"y_index\"}},\"id\":\"2049\",\"type\":\"Circle\"},{\"attributes\":{\"data\":{\"AppResourceProvider\":[\"Microsoft.Advisor\",\"Microsoft.Advisor\",\"Microsoft.Advisor\",\"Microsoft.Advisor\"],\"IPAddress\":[\"208.104.92.208\",\"208.104.92.208\",\"208.104.92.208\",\"208.104.92.208\"],\"Operation\":[\"Generate Recommendations\",\"Generate Recommendations\",\"Generate Recommendations\",\"Generate Recommendations\"],\"TimeGenerated\":{\"__ndarray__\":\"AGCxOvmjd0IAMLQ6+aN3QgCwWPP5o3dCANBb8/mjd0I=\",\"dtype\":\"float64\",\"order\":\"little\",\"shape\":[4]},\"index\":[77,78,242,243],\"y_index\":[4,4,4,4]},\"selected\":{\"id\":\"2179\"},\"selection_policy\":{\"id\":\"2178\"}},\"id\":\"1959\",\"type\":\"ColumnDataSource\"},{\"attributes\":{},\"id\":\"2178\",\"type\":\"UnionRenderers\"},{\"attributes\":{},\"id\":\"2181\",\"type\":\"Selection\"},{\"attributes\":{\"data_source\":{\"id\":\"1963\"},\"glyph\":{\"id\":\"2129\"},\"hover_glyph\":null,\"muted_glyph\":null,\"nonselection_glyph\":{\"id\":\"2130\"},\"view\":{\"id\":\"2132\"}},\"id\":\"2131\",\"type\":\"GlyphRenderer\"},{\"attributes\":{\"below\":[{\"id\":\"1978\"}],\"center\":[{\"id\":\"1981\"},{\"id\":\"1985\"}],\"height\":440,\"left\":[{\"id\":\"1982\"},{\"id\":\"2146\"}],\"min_border_left\":50,\"renderers\":[{\"id\":\"2083\"},{\"id\":\"2089\"},{\"id\":\"2095\"},{\"id\":\"2101\"},{\"id\":\"2107\"},{\"id\":\"2113\"},{\"id\":\"2119\"},{\"id\":\"2125\"},{\"id\":\"2131\"},{\"id\":\"2137\"},{\"id\":\"2143\"}],\"title\":{\"id\":\"1968\"},\"toolbar\":{\"id\":\"1992\"},\"width\":900,\"x_range\":{\"id\":\"1970\"},\"x_scale\":{\"id\":\"1974\"},\"y_range\":{\"id\":\"1972\"},\"y_scale\":{\"id\":\"1976\"}},\"id\":\"1967\",\"subtype\":\"Figure\",\"type\":\"Plot\"},{\"attributes\":{\"fill_alpha\":{\"value\":0.5},\"fill_color\":{\"value\":\"#35B778\"},\"line_alpha\":{\"value\":0.5},\"line_color\":{\"value\":\"#35B778\"},\"marker\":{\"value\":\"diamond\"},\"size\":{\"value\":10},\"x\":{\"field\":\"TimeGenerated\"},\"y\":{\"field\":\"y_index\"}},\"id\":\"2129\",\"type\":\"Scatter\"},{\"attributes\":{},\"id\":\"2180\",\"type\":\"UnionRenderers\"},{\"attributes\":{},\"id\":\"2150\",\"type\":\"AllLabels\"},{\"attributes\":{},\"id\":\"2183\",\"type\":\"Selection\"},{\"attributes\":{\"data_source\":{\"id\":\"1955\"},\"glyph\":{\"id\":\"2019\"},\"hover_glyph\":null,\"muted_glyph\":null,\"nonselection_glyph\":{\"id\":\"2020\"},\"view\":{\"id\":\"2022\"}},\"id\":\"2021\",\"type\":\"GlyphRenderer\"},{\"attributes\":{\"axis\":{\"id\":\"1982\"},\"dimension\":1,\"grid_line_color\":null,\"ticker\":null},\"id\":\"1985\",\"type\":\"Grid\"},{\"attributes\":{\"fill_alpha\":{\"value\":0.1},\"fill_color\":{\"value\":\"#35B778\"},\"line_alpha\":{\"value\":0.1},\"line_color\":{\"value\":\"#35B778\"},\"marker\":{\"value\":\"diamond\"},\"size\":{\"value\":10},\"x\":{\"field\":\"TimeGenerated\"},\"y\":{\"field\":\"y_index\"}},\"id\":\"2130\",\"type\":\"Scatter\"},{\"attributes\":{},\"id\":\"2182\",\"type\":\"UnionRenderers\"},{\"attributes\":{\"fill_alpha\":{\"value\":0.1},\"fill_color\":{\"value\":\"#440154\"},\"line_alpha\":{\"value\":0.1},\"line_color\":{\"value\":\"#440154\"},\"x\":{\"field\":\"TimeGenerated\"},\"y\":{\"field\":\"y_index\"}},\"id\":\"2020\",\"type\":\"Circle\"},{\"attributes\":{},\"id\":\"2006\",\"type\":\"LinearScale\"},{\"attributes\":{\"source\":{\"id\":\"1963\"}},\"id\":\"2132\",\"type\":\"CDSView\"},{\"attributes\":{\"base\":60,\"mantissas\":[1,2,5,10,15,20,30],\"max_interval\":1800000.0,\"min_interval\":1000.0,\"num_minor_ticks\":0},\"id\":\"2158\",\"type\":\"AdaptiveTicker\"},{\"attributes\":{\"source\":{\"id\":\"1963\"}},\"id\":\"2062\",\"type\":\"CDSView\"},{\"attributes\":{},\"id\":\"2152\",\"type\":\"AllLabels\"},{\"attributes\":{\"dimensions\":\"width\"},\"id\":\"1990\",\"type\":\"PanTool\"},{\"attributes\":{},\"id\":\"2190\",\"type\":\"UnionRenderers\"},{\"attributes\":{\"fill_color\":{\"value\":\"#440154\"},\"line_color\":{\"value\":\"#440154\"},\"x\":{\"field\":\"TimeGenerated\"},\"y\":{\"field\":\"y_index\"}},\"id\":\"2019\",\"type\":\"Circle\"},{\"attributes\":{\"days\":[1,2,3,4,5,6,7,8,9,10,11,12,13,14,15,16,17,18,19,20,21,22,23,24,25,26,27,28,29,30,31]},\"id\":\"2160\",\"type\":\"DaysTicker\"},{\"attributes\":{},\"id\":\"2191\",\"type\":\"Selection\"},{\"attributes\":{},\"id\":\"2004\",\"type\":\"DataRange1d\"},{\"attributes\":{\"source\":{\"id\":\"1955\"}},\"id\":\"2022\",\"type\":\"CDSView\"},{\"attributes\":{\"data_source\":{\"id\":\"1956\"},\"glyph\":{\"id\":\"2024\"},\"hover_glyph\":null,\"muted_glyph\":null,\"nonselection_glyph\":{\"id\":\"2025\"},\"view\":{\"id\":\"2027\"}},\"id\":\"2026\",\"type\":\"GlyphRenderer\"},{\"attributes\":{},\"id\":\"2154\",\"type\":\"BasicTickFormatter\"},{\"attributes\":{},\"id\":\"1989\",\"type\":\"SaveTool\"},{\"attributes\":{\"data\":{\"AppResourceProvider\":[\"Microsoft Resources\"],\"IPAddress\":[\"\"],\"Operation\":[\"Create Deployment\"],\"TimeGenerated\":{\"__ndarray__\":\"ADCMKfmjd0I=\",\"dtype\":\"float64\",\"order\":\"little\",\"shape\":[1]},\"index\":[25],\"y_index\":[2]},\"selected\":{\"id\":\"2175\"},\"selection_policy\":{\"id\":\"2174\"}},\"id\":\"1957\",\"type\":\"ColumnDataSource\"},{\"attributes\":{\"fill_alpha\":{\"value\":0.1},\"fill_color\":{\"value\":\"#481E70\"},\"line_alpha\":{\"value\":0.1},\"line_color\":{\"value\":\"#481E70\"},\"x\":{\"field\":\"TimeGenerated\"},\"y\":{\"field\":\"y_index\"}},\"id\":\"2025\",\"type\":\"Circle\"},{\"attributes\":{},\"id\":\"2184\",\"type\":\"UnionRenderers\"},{\"attributes\":{\"data\":{\"AppResourceProvider\":[\"Azure Portal\",\"Azure Portal\",\"Microsoft App Access Panel\",\"Amazon Web Services (AWS) -NinjaTenant\",\"Azure Portal\",\"Azure Portal\",\"Azure Portal\",\"Azure Portal\",\"Azure Portal\",\"Azure Portal\",\"Azure AD Identity Governance - Entitlement\\nManagement\",\"Microsoft 365 Security and Compliance Center\",\"Azure Portal\",\"Azure Portal\",\"Azure Portal\",\"Azure Portal\"],\"IPAddress\":[\"208.104.92.208\",\"208.104.92.208\",\"208.104.92.208\",\"208.104.92.208\",\"208.104.92.208\",\"208.104.92.208\",\"208.104.92.208\",\"208.104.92.208\",\"208.104.92.208\",\"208.104.92.208\",\"208.104.92.208\",\"208.104.92.208\",\"208.104.92.208\",\"208.104.92.208\",\"208.104.92.208\",\"208.104.92.208\"],\"Operation\":[\"Sign-in activity\",\"Sign-in activity\",\"Sign-in activity\",\"Sign-in activity\",\"Sign-in activity\",\"Sign-in activity\",\"Sign-in activity\",\"Sign-in activity\",\"Sign-in activity\",\"Sign-in activity\",\"Sign-in activity\",\"Sign-in activity\",\"Sign-in activity\",\"Sign-in activity\",\"Sign-in activity\",\"Sign-in activity\"],\"TimeGenerated\":{\"__ndarray__\":\"ADC0l/Gid0IA8Cez8aJ3QgAQVbzxondCAFAKvvGid0IAQDByOqN3QgBgh+VLo3dCABCX51Cjd0IAwML2jqN3QgDwC/iUo3dCACDvWpmjd0IA0NLx5aN3QgCAbYr1o3dCALAujPWjd0IA0L3196N3QgCAulv5o3dCAKABjfmjd0I=\",\"dtype\":\"float64\",\"order\":\"little\",\"shape\":[16]},\"index\":[1,3,2,0,10,12,11,7,8,9,15,4,5,6,13,14],\"y_index\":[10,10,10,10,10,10,10,10,10,10,10,10,10,10,10,10]},\"selected\":{\"id\":\"2191\"},\"selection_policy\":{\"id\":\"2190\"}},\"id\":\"1965\",\"type\":\"ColumnDataSource\"},{\"attributes\":{},\"id\":\"2185\",\"type\":\"Selection\"},{\"attributes\":{\"mantissas\":[1,2,5],\"max_interval\":500.0,\"num_minor_ticks\":0},\"id\":\"2157\",\"type\":\"AdaptiveTicker\"},{\"attributes\":{\"base\":24,\"mantissas\":[1,2,4,6,8,12],\"max_interval\":43200000.0,\"min_interval\":3600000.0,\"num_minor_ticks\":0},\"id\":\"2159\",\"type\":\"AdaptiveTicker\"},{\"attributes\":{\"callback\":null,\"formatters\":{\"@TimeGenerated\":\"datetime\"},\"tooltips\":[[\"TimeGenerated\",\"@TimeGenerated{%F %T.%3N}\"],[\"IPAddress\",\"@IPAddress\"],[\"Operation\",\"@Operation\"],[\"AppResourceProvider\",\"@AppResourceProvider\"]]},\"id\":\"1966\",\"type\":\"HoverTool\"},{\"attributes\":{\"fill_color\":{\"value\":\"#481E70\"},\"line_color\":{\"value\":\"#481E70\"},\"x\":{\"field\":\"TimeGenerated\"},\"y\":{\"field\":\"y_index\"}},\"id\":\"2024\",\"type\":\"Circle\"},{\"attributes\":{\"source\":{\"id\":\"1956\"}},\"id\":\"2027\",\"type\":\"CDSView\"},{\"attributes\":{\"days\":[1,4,7,10,13,16,19,22,25,28]},\"id\":\"2161\",\"type\":\"DaysTicker\"},{\"attributes\":{\"bottom_units\":\"screen\",\"fill_alpha\":0.5,\"fill_color\":\"lightgrey\",\"left_units\":\"screen\",\"level\":\"overlay\",\"line_alpha\":1.0,\"line_color\":\"black\",\"line_dash\":[4,4],\"line_width\":2,\"right_units\":\"screen\",\"syncable\":false,\"top_units\":\"screen\"},\"id\":\"1991\",\"type\":\"BoxAnnotation\"},{\"attributes\":{\"data_source\":{\"id\":\"1962\"},\"glyph\":{\"id\":\"2054\"},\"hover_glyph\":null,\"muted_glyph\":null,\"nonselection_glyph\":{\"id\":\"2055\"},\"view\":{\"id\":\"2057\"}},\"id\":\"2056\",\"type\":\"GlyphRenderer\"},{\"attributes\":{\"data\":{\"AppResourceProvider\":[\"Microsoft.Storage\",\"Microsoft.Storage\",\"Microsoft.Storage\",\"Microsoft.Storage\",\"Microsoft.Storage\",\"Microsoft.Storage\",\"Microsoft.Storage\",\"Microsoft.Storage\",\"Microsoft.Storage\",\"Microsoft.Storage\",\"Microsoft.Storage\",\"Microsoft.Storage\",\"Microsoft.Storage\",\"Microsoft.Storage\",\"Microsoft.Storage\",\"Microsoft.Storage\",\"Microsoft.Storage\",\"Microsoft.Storage\",\"Microsoft.Storage\",\"Microsoft.Storage\",\"Microsoft.Storage\",\"Microsoft.Storage\",\"Microsoft.Storage\",\"Microsoft.Storage\",\"Microsoft.Storage\",\"Microsoft.Storage\",\"Microsoft.Storage\",\"Microsoft.Storage\",\"Microsoft.Storage\",\"Microsoft.Storage\",\"Microsoft.Storage\",\"Microsoft.Storage\",\"Microsoft.Storage\",\"Microsoft.Storage\",\"Microsoft.Storage\",\"Microsoft.Storage\",\"Microsoft.Storage\",\"Microsoft.Storage\",\"Microsoft.Storage\",\"Microsoft.Storage\",\"Microsoft.Storage\",\"Microsoft.Storage\",\"Microsoft.Storage\",\"Microsoft.Storage\",\"Microsoft.Storage\",\"Microsoft.Storage\",\"Microsoft.Storage\",\"Microsoft.Storage\",\"Microsoft.Storage\",\"Microsoft.Storage\",\"Microsoft.Storage\",\"Microsoft.Storage\",\"Microsoft.Storage\",\"Microsoft.Storage\",\"Microsoft.Storage\",\"Microsoft.Storage\",\"Microsoft.Storage\",\"Microsoft.Storage\",\"Microsoft.Storage\",\"Microsoft.Storage\",\"Microsoft.Storage\",\"Microsoft.Storage\",\"Microsoft.Storage\",\"Microsoft.Storage\",\"Microsoft.Storage\",\"Microsoft.Storage\",\"Microsoft.Storage\",\"Microsoft.Storage\",\"Microsoft.Storage\",\"Microsoft.Storage\",\"Microsoft.Storage\",\"Microsoft.Storage\",\"Microsoft.Storage\",\"Microsoft.Storage\",\"Microsoft.Storage\",\"Microsoft.Storage\",\"Microsoft.Storage\",\"Microsoft.Storage\",\"Microsoft.Storage\",\"Microsoft.Storage\",\"Microsoft.Storage\",\"Microsoft.Storage\",\"Microsoft.Storage\",\"Microsoft.Storage\",\"Microsoft.Storage\",\"Microsoft.Storage\",\"Microsoft.Storage\",\"Microsoft.Storage\",\"Microsoft.Storage\",\"Microsoft.Storage\",\"Microsoft.Storage\",\"Microsoft.Storage\",\"Microsoft.Storage\",\"Microsoft.Storage\",\"Microsoft.Storage\",\"Microsoft.Storage\",\"Microsoft.Storage\",\"Microsoft.Storage\",\"Microsoft.Storage\",\"Microsoft.Storage\",\"Microsoft.Storage\",\"Microsoft.Storage\",\"Microsoft.Storage\",\"Microsoft.Storage\",\"Microsoft.Storage\",\"Microsoft.Storage\",\"Microsoft.Storage\",\"Microsoft.Storage\",\"Microsoft.Storage\",\"Microsoft.Storage\",\"Microsoft.Storage\",\"Microsoft.Storage\",\"Microsoft.Storage\",\"Microsoft.Storage\",\"Microsoft.Storage\",\"Microsoft.Storage\",\"Microsoft.Storage\",\"Microsoft.Storage\",\"Microsoft.Storage\",\"Microsoft.Storage\",\"Microsoft.Storage\",\"Microsoft.Storage\",\"Microsoft.Storage\",\"Microsoft.Storage\",\"Microsoft.Storage\",\"Microsoft.Storage\",\"Microsoft.Storage\",\"Microsoft.Storage\",\"Microsoft.Storage\",\"Microsoft.Storage\",\"Microsoft.Storage\",\"Microsoft.Storage\",\"Microsoft.Storage\",\"Microsoft.Storage\",\"Microsoft.Storage\",\"Microsoft.Storage\",\"Microsoft.Storage\",\"Microsoft.Storage\",\"Microsoft.Storage\",\"Microsoft.Storage\",\"Microsoft.Storage\",\"Microsoft.Storage\",\"Microsoft.Storage\",\"Microsoft.Storage\",\"Microsoft.Storage\",\"Microsoft.Storage\",\"Microsoft.Storage\",\"Microsoft.Storage\",\"Microsoft.Storage\",\"Microsoft.Storage\",\"Microsoft.Storage\",\"Microsoft.Storage\",\"Microsoft.Storage\",\"Microsoft.Storage\",\"Microsoft.Storage\",\"Microsoft.Storage\",\"Microsoft.Storage\",\"Microsoft.Storage\",\"Microsoft.Storage\",\"Microsoft.Storage\",\"Microsoft.Storage\",\"Microsoft.Storage\",\"Microsoft.Storage\",\"Microsoft.Storage\",\"Microsoft.Storage\",\"Microsoft.Storage\",\"Microsoft.Storage\",\"Microsoft.Storage\",\"Microsoft.Storage\",\"Microsoft.Storage\",\"Microsoft.Storage\",\"Microsoft.Storage\",\"Microsoft.Storage\",\"Microsoft.Storage\",\"Microsoft.Storage\",\"Microsoft.Storage\",\"Microsoft.Storage\",\"Microsoft.Storage\",\"Microsoft.Storage\",\"Microsoft.Storage\",\"Microsoft.Storage\",\"Microsoft.Storage\",\"Microsoft.Storage\",\"Microsoft.Storage\",\"Microsoft.Storage\",\"Microsoft.Storage\",\"Microsoft.Storage\",\"Microsoft.Storage\",\"Microsoft.Storage\",\"Microsoft.Storage\",\"Microsoft.Storage\",\"Microsoft.Storage\",\"Microsoft.Storage\",\"Microsoft.Storage\",\"Microsoft.Storage\",\"Microsoft.Storage\",\"Microsoft.Storage\",\"Microsoft.Storage\",\"Microsoft.Storage\",\"Microsoft.Storage\",\"Microsoft.Storage\",\"Microsoft.Storage\",\"Microsoft.Storage\",\"Microsoft.Storage\",\"Microsoft.Storage\",\"Microsoft.Storage\",\"Microsoft.Storage\",\"Microsoft.Storage\"],\"IPAddress\":[\"208.104.92.208\",\"208.104.92.208\",\"208.104.92.208\",\"208.104.92.208\",\"208.104.92.208\",\"208.104.92.208\",\"208.104.92.208\",\"208.104.92.208\",\"208.104.92.208\",\"208.104.92.208\",\"208.104.92.208\",\"208.104.92.208\",\"208.104.92.208\",\"208.104.92.208\",\"208.104.92.208\",\"208.104.92.208\",\"208.104.92.208\",\"208.104.92.208\",\"208.104.92.208\",\"208.104.92.208\",\"208.104.92.208\",\"208.104.92.208\",\"208.104.92.208\",\"208.104.92.208\",\"208.104.92.208\",\"208.104.92.208\",\"208.104.92.208\",\"208.104.92.208\",\"208.104.92.208\",\"208.104.92.208\",\"208.104.92.208\",\"208.104.92.208\",\"208.104.92.208\",\"208.104.92.208\",\"208.104.92.208\",\"208.104.92.208\",\"208.104.92.208\",\"208.104.92.208\",\"208.104.92.208\",\"208.104.92.208\",\"208.104.92.208\",\"208.104.92.208\",\"208.104.92.208\",\"208.104.92.208\",\"208.104.92.208\",\"208.104.92.208\",\"208.104.92.208\",\"208.104.92.208\",\"208.104.92.208\",\"208.104.92.208\",\"208.104.92.208\",\"208.104.92.208\",\"208.104.92.208\",\"208.104.92.208\",\"208.104.92.208\",\"208.104.92.208\",\"208.104.92.208\",\"208.104.92.208\",\"208.104.92.208\",\"208.104.92.208\",\"208.104.92.208\",\"208.104.92.208\",\"208.104.92.208\",\"208.104.92.208\",\"208.104.92.208\",\"208.104.92.208\",\"208.104.92.208\",\"208.104.92.208\",\"208.104.92.208\",\"208.104.92.208\",\"208.104.92.208\",\"208.104.92.208\",\"208.104.92.208\",\"208.104.92.208\",\"208.104.92.208\",\"208.104.92.208\",\"208.104.92.208\",\"208.104.92.208\",\"208.104.92.208\",\"208.104.92.208\",\"208.104.92.208\",\"208.104.92.208\",\"208.104.92.208\",\"208.104.92.208\",\"208.104.92.208\",\"208.104.92.208\",\"208.104.92.208\",\"208.104.92.208\",\"208.104.92.208\",\"208.104.92.208\",\"208.104.92.208\",\"208.104.92.208\",\"208.104.92.208\",\"208.104.92.208\",\"208.104.92.208\",\"208.104.92.208\",\"208.104.92.208\",\"208.104.92.208\",\"208.104.92.208\",\"208.104.92.208\",\"208.104.92.208\",\"208.104.92.208\",\"208.104.92.208\",\"208.104.92.208\",\"208.104.92.208\",\"208.104.92.208\",\"208.104.92.208\",\"208.104.92.208\",\"208.104.92.208\",\"208.104.92.208\",\"208.104.92.208\",\"208.104.92.208\",\"208.104.92.208\",\"208.104.92.208\",\"208.104.92.208\",\"208.104.92.208\",\"208.104.92.208\",\"208.104.92.208\",\"208.104.92.208\",\"208.104.92.208\",\"208.104.92.208\",\"208.104.92.208\",\"208.104.92.208\",\"208.104.92.208\",\"208.104.92.208\",\"208.104.92.208\",\"208.104.92.208\",\"208.104.92.208\",\"208.104.92.208\",\"208.104.92.208\",\"208.104.92.208\",\"208.104.92.208\",\"208.104.92.208\",\"208.104.92.208\",\"208.104.92.208\",\"208.104.92.208\",\"208.104.92.208\",\"208.104.92.208\",\"208.104.92.208\",\"208.104.92.208\",\"208.104.92.208\",\"208.104.92.208\",\"208.104.92.208\",\"208.104.92.208\",\"208.104.92.208\",\"208.104.92.208\",\"208.104.92.208\",\"208.104.92.208\",\"208.104.92.208\",\"208.104.92.208\",\"208.104.92.208\",\"208.104.92.208\",\"208.104.92.208\",\"208.104.92.208\",\"208.104.92.208\",\"208.104.92.208\",\"208.104.92.208\",\"208.104.92.208\",\"208.104.92.208\",\"208.104.92.208\",\"208.104.92.208\",\"208.104.92.208\",\"208.104.92.208\",\"208.104.92.208\",\"208.104.92.208\",\"208.104.92.208\",\"208.104.92.208\",\"208.104.92.208\",\"208.104.92.208\",\"208.104.92.208\",\"208.104.92.208\",\"208.104.92.208\",\"208.104.92.208\",\"208.104.92.208\",\"208.104.92.208\",\"208.104.92.208\",\"208.104.92.208\",\"208.104.92.208\",\"208.104.92.208\",\"208.104.92.208\",\"208.104.92.208\",\"208.104.92.208\",\"208.104.92.208\",\"208.104.92.208\",\"208.104.92.208\",\"208.104.92.208\",\"208.104.92.208\",\"208.104.92.208\",\"208.104.92.208\",\"208.104.92.208\",\"208.104.92.208\",\"208.104.92.208\",\"208.104.92.208\",\"208.104.92.208\",\"208.104.92.208\",\"208.104.92.208\",\"208.104.92.208\",\"208.104.92.208\",\"208.104.92.208\",\"208.104.92.208\",\"208.104.92.208\",\"208.104.92.208\",\"208.104.92.208\",\"208.104.92.208\",\"208.104.92.208\",\"208.104.92.208\",\"208.104.92.208\",\"208.104.92.208\"],\"Operation\":[\"List Storage Account Keys\",\"List Storage Account Keys\",\"List Storage Account Keys\",\"List Storage Account Keys\",\"List Storage Account Keys\",\"List Storage Account Keys\",\"List Storage Account Keys\",\"List Storage Account Keys\",\"List Storage Account Keys\",\"List Storage Account Keys\",\"List Storage Account Keys\",\"List Storage Account Keys\",\"List Storage Account Keys\",\"List Storage Account Keys\",\"List Storage Account Keys\",\"List Storage Account Keys\",\"List Storage Account Keys\",\"List Storage Account Keys\",\"List Storage Account Keys\",\"List Storage Account Keys\",\"List Storage Account Keys\",\"List Storage Account Keys\",\"List Storage Account Keys\",\"List Storage Account Keys\",\"List Storage Account Keys\",\"List Storage Account Keys\",\"List Storage Account Keys\",\"List Storage Account Keys\",\"List Storage Account Keys\",\"List Storage Account Keys\",\"List Storage Account Keys\",\"List Storage Account Keys\",\"List Storage Account Keys\",\"List Storage Account Keys\",\"List Storage Account Keys\",\"List Storage Account Keys\",\"List Storage Account Keys\",\"List Storage Account Keys\",\"List Storage Account Keys\",\"List Storage Account Keys\",\"List Storage Account Keys\",\"List Storage Account Keys\",\"List Storage Account Keys\",\"List Storage Account Keys\",\"List Storage Account Keys\",\"List Storage Account Keys\",\"List Storage Account Keys\",\"List Storage Account Keys\",\"List Storage Account Keys\",\"List Storage Account Keys\",\"List Storage Account Keys\",\"List Storage Account Keys\",\"List Storage Account Keys\",\"List Storage Account Keys\",\"List Storage Account Keys\",\"List Storage Account Keys\",\"List Storage Account Keys\",\"List Storage Account Keys\",\"List Storage Account Keys\",\"List Storage Account Keys\",\"List Storage Account Keys\",\"List Storage Account Keys\",\"List Storage Account Keys\",\"List Storage Account Keys\",\"List Storage Account Keys\",\"List Storage Account Keys\",\"List Storage Account Keys\",\"List Storage Account Keys\",\"List Storage Account Keys\",\"List Storage Account Keys\",\"List Storage Account Keys\",\"List Storage Account Keys\",\"List Storage Account Keys\",\"List Storage Account Keys\",\"List Storage Account Keys\",\"List Storage Account Keys\",\"List Storage Account Keys\",\"List Storage Account Keys\",\"List Storage Account Keys\",\"List Storage Account Keys\",\"List Storage Account Keys\",\"List Storage Account Keys\",\"List Storage Account Keys\",\"List Storage Account Keys\",\"List Storage Account Keys\",\"List Storage Account Keys\",\"List Storage Account Keys\",\"List Storage Account Keys\",\"List Storage Account Keys\",\"List Storage Account Keys\",\"List Storage Account Keys\",\"List Storage Account Keys\",\"List Storage Account Keys\",\"List Storage Account Keys\",\"List Storage Account Keys\",\"List Storage Account Keys\",\"List Storage Account Keys\",\"List Storage Account Keys\",\"List Storage Account Keys\",\"List Storage Account Keys\",\"List Storage Account Keys\",\"List Storage Account Keys\",\"List Storage Account Keys\",\"List Storage Account Keys\",\"List Storage Account Keys\",\"List Storage Account Keys\",\"List Storage Account Keys\",\"List Storage Account Keys\",\"List Storage Account Keys\",\"List Storage Account Keys\",\"List Storage Account Keys\",\"List Storage Account Keys\",\"List Storage Account Keys\",\"List Storage Account Keys\",\"List Storage Account Keys\",\"List Storage Account Keys\",\"List Storage Account Keys\",\"List Storage Account Keys\",\"List Storage Account Keys\",\"List Storage Account Keys\",\"List Storage Account Keys\",\"List Storage Account Keys\",\"List Storage Account Keys\",\"List Storage Account Keys\",\"List Storage Account Keys\",\"List Storage Account Keys\",\"List Storage Account Keys\",\"List Storage Account Keys\",\"List Storage Account Keys\",\"List Storage Account Keys\",\"List Storage Account Keys\",\"List Storage Account Keys\",\"List Storage Account Keys\",\"List Storage Account Keys\",\"List Storage Account Keys\",\"List Storage Account Keys\",\"List Storage Account Keys\",\"List Storage Account Keys\",\"List Storage Account Keys\",\"List Storage Account Keys\",\"List Storage Account Keys\",\"List Storage Account Keys\",\"List Storage Account Keys\",\"List Storage Account Keys\",\"List Storage Account Keys\",\"List Storage Account Keys\",\"List Storage Account Keys\",\"List Storage Account Keys\",\"List Storage Account Keys\",\"List Storage Account Keys\",\"List Storage Account Keys\",\"List Storage Account Keys\",\"List Storage Account Keys\",\"List Storage Account Keys\",\"List Storage Account Keys\",\"List Storage Account Keys\",\"List Storage Account Keys\",\"List Storage Account Keys\",\"List Storage Account Keys\",\"List Storage Account Keys\",\"List Storage Account Keys\",\"List Storage Account Keys\",\"List Storage Account Keys\",\"List Storage Account Keys\",\"List Storage Account Keys\",\"List Storage Account Keys\",\"List Storage Account Keys\",\"List Storage Account Keys\",\"List Storage Account Keys\",\"List Storage Account Keys\",\"List Storage Account Keys\",\"List Storage Account Keys\",\"List Storage Account Keys\",\"List Storage Account Keys\",\"List Storage Account Keys\",\"List Storage Account Keys\",\"List Storage Account Keys\",\"List Storage Account Keys\",\"List Storage Account Keys\",\"List Storage Account Keys\",\"List Storage Account Keys\",\"List Storage Account Keys\",\"List Storage Account Keys\",\"List Storage Account Keys\",\"List Storage Account Keys\",\"List Storage Account Keys\",\"List Storage Account Keys\",\"List Storage Account Keys\",\"List Storage Account Keys\",\"List Storage Account Keys\",\"List Storage Account Keys\",\"List Storage Account Keys\",\"List Storage Account Keys\",\"List Storage Account Keys\",\"List Storage Account Keys\",\"List Storage Account Keys\",\"List Storage Account Keys\",\"List Storage Account Keys\",\"List Storage Account Keys\",\"List Storage Account Keys\",\"List Storage Account Keys\",\"List Storage Account Keys\",\"List Storage Account Keys\",\"List Storage Account Keys\",\"List Storage Account Keys\",\"List Storage Account Keys\",\"List Storage Account Keys\",\"List Storage Account Keys\"],\"TimeGenerated\":{\"__ndarray__\":\"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\",\"dtype\":\"float64\",\"order\":\"little\",\"shape\":[208]},\"index\":[26,27,28,29,30,31,32,33,34,35,36,37,38,39,40,41,42,43,44,45,46,47,48,49,50,51,52,53,54,55,56,57,58,59,60,61,62,63,64,65,66,67,68,69,70,71,72,73,74,75,76,79,80,81,82,83,84,85,86,87,88,89,90,91,92,93,94,95,96,97,98,99,100,101,102,103,104,105,106,109,110,111,112,113,114,115,116,117,118,119,120,121,122,123,124,125,126,127,128,129,130,131,132,133,134,135,136,137,138,139,140,141,142,143,144,145,146,147,148,149,150,151,152,153,154,155,156,157,158,159,160,161,162,163,164,165,166,167,168,169,170,171,172,173,174,175,176,177,178,179,180,181,182,183,184,185,186,187,188,189,190,191,192,193,194,195,196,197,198,199,200,201,202,203,204,205,206,207,208,209,210,211,212,213,214,215,216,217,218,219,220,221,222,223,224,225,226,227,228,229,230,231,232,240,241,244,245,246],\"y_index\":[5,5,5,5,5,5,5,5,5,5,5,5,5,5,5,5,5,5,5,5,5,5,5,5,5,5,5,5,5,5,5,5,5,5,5,5,5,5,5,5,5,5,5,5,5,5,5,5,5,5,5,5,5,5,5,5,5,5,5,5,5,5,5,5,5,5,5,5,5,5,5,5,5,5,5,5,5,5,5,5,5,5,5,5,5,5,5,5,5,5,5,5,5,5,5,5,5,5,5,5,5,5,5,5,5,5,5,5,5,5,5,5,5,5,5,5,5,5,5,5,5,5,5,5,5,5,5,5,5,5,5,5,5,5,5,5,5,5,5,5,5,5,5,5,5,5,5,5,5,5,5,5,5,5,5,5,5,5,5,5,5,5,5,5,5,5,5,5,5,5,5,5,5,5,5,5,5,5,5,5,5,5,5,5,5,5,5,5,5,5,5,5,5,5,5,5,5,5,5,5,5,5,5,5,5,5,5,5]},\"selected\":{\"id\":\"2181\"},\"selection_policy\":{\"id\":\"2180\"}},\"id\":\"1960\",\"type\":\"ColumnDataSource\"},{\"attributes\":{\"data_source\":{\"id\":\"1957\"},\"glyph\":{\"id\":\"2029\"},\"hover_glyph\":null,\"muted_glyph\":null,\"nonselection_glyph\":{\"id\":\"2030\"},\"view\":{\"id\":\"2032\"}},\"id\":\"2031\",\"type\":\"GlyphRenderer\"},{\"attributes\":{\"months\":[0,1,2,3,4,5,6,7,8,9,10,11]},\"id\":\"2164\",\"type\":\"MonthsTicker\"},{\"attributes\":{\"fill_alpha\":{\"value\":0.1},\"fill_color\":{\"value\":\"#443982\"},\"line_alpha\":{\"value\":0.1},\"line_color\":{\"value\":\"#443982\"},\"x\":{\"field\":\"TimeGenerated\"},\"y\":{\"field\":\"y_index\"}},\"id\":\"2030\",\"type\":\"Circle\"},{\"attributes\":{\"days\":[1,8,15,22]},\"id\":\"2162\",\"type\":\"DaysTicker\"},{\"attributes\":{\"days\":[1,15]},\"id\":\"2163\",\"type\":\"DaysTicker\"},{\"attributes\":{\"data_source\":{\"id\":\"1961\"},\"glyph\":{\"id\":\"2049\"},\"hover_glyph\":null,\"muted_glyph\":null,\"nonselection_glyph\":{\"id\":\"2050\"},\"view\":{\"id\":\"2052\"}},\"id\":\"2051\",\"type\":\"GlyphRenderer\"},{\"attributes\":{\"fill_color\":{\"value\":\"#443982\"},\"line_color\":{\"value\":\"#443982\"},\"x\":{\"field\":\"TimeGenerated\"},\"y\":{\"field\":\"y_index\"}},\"id\":\"2029\",\"type\":\"Circle\"},{\"attributes\":{\"data\":{\"AppResourceProvider\":[\"Microsoft.Storage\",\"Microsoft.Storage\"],\"IPAddress\":[\"208.104.92.208\",\"208.104.92.208\"],\"Operation\":[\"Put blob service properties\",\"Put blob service properties\"],\"TimeGenerated\":{\"__ndarray__\":\"AHBvKfmjd0IAcHkp+aN3Qg==\",\"dtype\":\"float64\",\"order\":\"little\",\"shape\":[2]},\"index\":[21,22],\"y_index\":[9,9]},\"selected\":{\"id\":\"2189\"},\"selection_policy\":{\"id\":\"2188\"}},\"id\":\"1964\",\"type\":\"ColumnDataSource\"},{\"attributes\":{\"source\":{\"id\":\"1957\"}},\"id\":\"2032\",\"type\":\"CDSView\"},{\"attributes\":{\"months\":[0,2,4,6,8,10]},\"id\":\"2165\",\"type\":\"MonthsTicker\"},{\"attributes\":{\"mantissas\":[1,2,5],\"max_interval\":500.0,\"num_minor_ticks\":0},\"id\":\"2192\",\"type\":\"AdaptiveTicker\"},{\"attributes\":{\"base\":60,\"mantissas\":[1,2,5,10,15,20,30],\"max_interval\":1800000.0,\"min_interval\":1000.0,\"num_minor_ticks\":0},\"id\":\"2193\",\"type\":\"AdaptiveTicker\"},{\"attributes\":{\"fill_alpha\":{\"value\":0.1},\"fill_color\":{\"value\":\"#208F8C\"},\"line_alpha\":{\"value\":0.1},\"line_color\":{\"value\":\"#208F8C\"},\"x\":{\"field\":\"TimeGenerated\"},\"y\":{\"field\":\"y_index\"}},\"id\":\"2050\",\"type\":\"Circle\"},{\"attributes\":{\"data_source\":{\"id\":\"1958\"},\"glyph\":{\"id\":\"2034\"},\"hover_glyph\":null,\"muted_glyph\":null,\"nonselection_glyph\":{\"id\":\"2035\"},\"view\":{\"id\":\"2037\"}},\"id\":\"2036\",\"type\":\"GlyphRenderer\"},{\"attributes\":{\"data\":{\"AppResourceProvider\":[\"microsoft.operationalinsights\",\"microsoft.operationalinsights\"],\"IPAddress\":[\"208.104.92.208\",\"208.104.92.208\"],\"Operation\":[\"List Workspace Shared Keys\",\"List Workspace Shared Keys\"],\"TimeGenerated\":{\"__ndarray__\":\"ABDf5Pmjd0IA0PHk+aN3Qg==\",\"dtype\":\"float64\",\"order\":\"little\",\"shape\":[2]},\"index\":[238,239],\"y_index\":[6,6]},\"selected\":{\"id\":\"2183\"},\"selection_policy\":{\"id\":\"2182\"}},\"id\":\"1961\",\"type\":\"ColumnDataSource\"},{\"attributes\":{\"months\":[0,4,8]},\"id\":\"2166\",\"type\":\"MonthsTicker\"},{\"attributes\":{},\"id\":\"2186\",\"type\":\"UnionRenderers\"},{\"attributes\":{\"fill_alpha\":{\"value\":0.1},\"fill_color\":{\"value\":\"#3B518A\"},\"line_alpha\":{\"value\":0.1},\"line_color\":{\"value\":\"#3B518A\"},\"x\":{\"field\":\"TimeGenerated\"},\"y\":{\"field\":\"y_index\"}},\"id\":\"2035\",\"type\":\"Circle\"},{\"attributes\":{},\"id\":\"2187\",\"type\":\"Selection\"},{\"attributes\":{\"fill_alpha\":{\"value\":0.1},\"fill_color\":{\"value\":\"#30678D\"},\"line_alpha\":{\"value\":0.1},\"line_color\":{\"value\":\"#30678D\"},\"x\":{\"field\":\"TimeGenerated\"},\"y\":{\"field\":\"y_index\"}},\"id\":\"2040\",\"type\":\"Circle\"},{\"attributes\":{\"days\":[1,2,3,4,5,6,7,8,9,10,11,12,13,14,15,16,17,18,19,20,21,22,23,24,25,26,27,28,29,30,31]},\"id\":\"2195\",\"type\":\"DaysTicker\"},{\"attributes\":{\"months\":[0,6]},\"id\":\"2167\",\"type\":\"MonthsTicker\"},{\"attributes\":{\"base\":24,\"mantissas\":[1,2,4,6,8,12],\"max_interval\":43200000.0,\"min_interval\":3600000.0,\"num_minor_ticks\":0},\"id\":\"2194\",\"type\":\"AdaptiveTicker\"},{\"attributes\":{\"text\":\"Range Selector\"},\"id\":\"2000\",\"type\":\"Title\"},{\"attributes\":{\"fill_color\":{\"value\":\"#3B518A\"},\"line_color\":{\"value\":\"#3B518A\"},\"x\":{\"field\":\"TimeGenerated\"},\"y\":{\"field\":\"y_index\"}},\"id\":\"2034\",\"type\":\"Circle\"},{\"attributes\":{\"data_source\":{\"id\":\"1963\"},\"glyph\":{\"id\":\"2059\"},\"hover_glyph\":null,\"muted_glyph\":null,\"nonselection_glyph\":{\"id\":\"2060\"},\"view\":{\"id\":\"2062\"}},\"id\":\"2061\",\"type\":\"GlyphRenderer\"},{\"attributes\":{\"source\":{\"id\":\"1958\"}},\"id\":\"2037\",\"type\":\"CDSView\"},{\"attributes\":{\"fill_color\":{\"value\":\"#30678D\"},\"line_color\":{\"value\":\"#30678D\"},\"x\":{\"field\":\"TimeGenerated\"},\"y\":{\"field\":\"y_index\"}},\"id\":\"2039\",\"type\":\"Circle\"},{\"attributes\":{},\"id\":\"2168\",\"type\":\"YearsTicker\"},{\"attributes\":{\"click_policy\":\"hide\",\"items\":[{\"id\":\"2145\"},{\"id\":\"2139\"},{\"id\":\"2133\"},{\"id\":\"2127\"},{\"id\":\"2121\"},{\"id\":\"2115\"},{\"id\":\"2109\"},{\"id\":\"2103\"},{\"id\":\"2097\"},{\"id\":\"2091\"},{\"id\":\"2085\"}],\"label_text_font_size\":\"8pt\",\"location\":\"center\"},\"id\":\"2146\",\"type\":\"Legend\"},{\"attributes\":{\"days\":[1,4,7,10,13,16,19,22,25,28]},\"id\":\"2196\",\"type\":\"DaysTicker\"},{\"attributes\":{\"data_source\":{\"id\":\"1959\"},\"glyph\":{\"id\":\"2039\"},\"hover_glyph\":null,\"muted_glyph\":null,\"nonselection_glyph\":{\"id\":\"2040\"},\"view\":{\"id\":\"2042\"}},\"id\":\"2041\",\"type\":\"GlyphRenderer\"},{\"attributes\":{},\"id\":\"2171\",\"type\":\"Selection\"}],\"root_ids\":[\"2147\"]},\"title\":\"Bokeh Application\",\"version\":\"2.3.2\"}};\n",
       "  var render_items = [{\"docid\":\"7a1eb047-0a1b-41ba-9062-257783001fd8\",\"root_ids\":[\"2147\"],\"roots\":{\"2147\":\"e4cdbb80-63c7-46ad-a74e-24a794b4e02d\"}}];\n",
       "  root.Bokeh.embed.embed_items_notebook(docs_json, render_items);\n",
       "\n",
       "  }\n",
       "  if (root.Bokeh !== undefined) {\n",
       "    embed_document(root);\n",
       "  } else {\n",
       "    var attempts = 0;\n",
       "    var timer = setInterval(function(root) {\n",
       "      if (root.Bokeh !== undefined) {\n",
       "        clearInterval(timer);\n",
       "        embed_document(root);\n",
       "      } else {\n",
       "        attempts++;\n",
       "        if (attempts > 100) {\n",
       "          clearInterval(timer);\n",
       "          console.log(\"Bokeh: ERROR: Unable to run BokehJS code because BokehJS library is missing\");\n",
       "        }\n",
       "      }\n",
       "    }, 10, root)\n",
       "  }\n",
       "})(window);"
      ],
      "application/vnd.bokehjs_exec.v0+json": ""
     },
     "metadata": {
      "application/vnd.bokehjs_exec.v0+json": {
       "id": "2147"
      }
     },
     "output_type": "display_data"
    },
    {
     "data": {
      "text/html": [
       "<h3>Summary of azure activity for AAD, Azure resource and O365</h3>"
      ],
      "text/plain": [
       "<IPython.core.display.HTML object>"
      ]
     },
     "metadata": {},
     "output_type": "display_data"
    },
    {
     "data": {
      "text/html": [
       " Shows the total number of operations, the list of unique operations, the list of unique resource IDs and the first and last operation recorded in the selected time range. The data is grouped by: - Data source - User - Type - Azure activity type/source - Client IP Address - Application resource provider - User type "
      ],
      "text/plain": [
       "<IPython.core.display.HTML object>"
      ]
     },
     "metadata": {},
     "output_type": "display_data"
    },
    {
     "data": {
      "text/html": [
       "<div>\n",
       "<style scoped>\n",
       "    .dataframe tbody tr th:only-of-type {\n",
       "        vertical-align: middle;\n",
       "    }\n",
       "\n",
       "    .dataframe tbody tr th {\n",
       "        vertical-align: top;\n",
       "    }\n",
       "\n",
       "    .dataframe thead th {\n",
       "        text-align: right;\n",
       "    }\n",
       "</style>\n",
       "<table border=\"1\" class=\"dataframe\">\n",
       "  <thead>\n",
       "    <tr style=\"text-align: right;\">\n",
       "      <th></th>\n",
       "      <th></th>\n",
       "      <th></th>\n",
       "      <th></th>\n",
       "      <th></th>\n",
       "      <th>OperationCount</th>\n",
       "      <th>OperationTypes</th>\n",
       "      <th>Resources</th>\n",
       "      <th>FirstOperation</th>\n",
       "      <th>LastOperation</th>\n",
       "    </tr>\n",
       "    <tr>\n",
       "      <th>UserPrincipalName</th>\n",
       "      <th>Type</th>\n",
       "      <th>IPAddress</th>\n",
       "      <th>AppResourceProvider</th>\n",
       "      <th>UserType</th>\n",
       "      <th></th>\n",
       "      <th></th>\n",
       "      <th></th>\n",
       "      <th></th>\n",
       "      <th></th>\n",
       "    </tr>\n",
       "  </thead>\n",
       "  <tbody>\n",
       "    <tr>\n",
       "      <th rowspan=\"5\" valign=\"top\">chboeh@microsoft.com</th>\n",
       "      <th rowspan=\"5\" valign=\"top\">SigninLogs</th>\n",
       "      <th rowspan=\"5\" valign=\"top\">208.104.92.208</th>\n",
       "      <th>Amazon Web Services (AWS) -NinjaTenant</th>\n",
       "      <th>Guest</th>\n",
       "      <td>1</td>\n",
       "      <td>[Sign-in activity]</td>\n",
       "      <td>1</td>\n",
       "      <td>2021-06-21 15:06:34.021000+00:00</td>\n",
       "      <td>2021-06-21 15:06:34.021000+00:00</td>\n",
       "    </tr>\n",
       "    <tr>\n",
       "      <th>Azure AD Identity Governance - Entitlement Management</th>\n",
       "      <th>Guest</th>\n",
       "      <td>1</td>\n",
       "      <td>[Sign-in activity]</td>\n",
       "      <td>1</td>\n",
       "      <td>2021-06-24 14:14:18.669000+00:00</td>\n",
       "      <td>2021-06-24 14:14:18.669000+00:00</td>\n",
       "    </tr>\n",
       "    <tr>\n",
       "      <th>Azure Portal</th>\n",
       "      <th>Guest</th>\n",
       "      <td>12</td>\n",
       "      <td>[Sign-in activity]</td>\n",
       "      <td>1</td>\n",
       "      <td>2021-06-21 15:03:56.995000+00:00</td>\n",
       "      <td>2021-06-24 19:56:57.242000+00:00</td>\n",
       "    </tr>\n",
       "    <tr>\n",
       "      <th>Microsoft 365 Security and Compliance Center</th>\n",
       "      <th>Guest</th>\n",
       "      <td>1</td>\n",
       "      <td>[Sign-in activity]</td>\n",
       "      <td>1</td>\n",
       "      <td>2021-06-24 18:46:52.376000+00:00</td>\n",
       "      <td>2021-06-24 18:46:52.376000+00:00</td>\n",
       "    </tr>\n",
       "    <tr>\n",
       "      <th>Microsoft App Access Panel</th>\n",
       "      <th>Guest</th>\n",
       "      <td>1</td>\n",
       "      <td>[Sign-in activity]</td>\n",
       "      <td>1</td>\n",
       "      <td>2021-06-21 15:06:27.025000+00:00</td>\n",
       "      <td>2021-06-21 15:06:27.025000+00:00</td>\n",
       "    </tr>\n",
       "  </tbody>\n",
       "</table>\n",
       "</div>"
      ],
      "text/plain": [
       "                                                                                                               OperationCount  \\\n",
       "UserPrincipalName    Type       IPAddress      AppResourceProvider                                   UserType                   \n",
       "chboeh@microsoft.com SigninLogs 208.104.92.208 Amazon Web Services (AWS) -NinjaTenant                Guest                  1   \n",
       "                                               Azure AD Identity Governance - Entitlement Management Guest                  1   \n",
       "                                               Azure Portal                                          Guest                 12   \n",
       "                                               Microsoft 365 Security and Compliance Center          Guest                  1   \n",
       "                                               Microsoft App Access Panel                            Guest                  1   \n",
       "\n",
       "                                                                                                                   OperationTypes  \\\n",
       "UserPrincipalName    Type       IPAddress      AppResourceProvider                                   UserType                       \n",
       "chboeh@microsoft.com SigninLogs 208.104.92.208 Amazon Web Services (AWS) -NinjaTenant                Guest     [Sign-in activity]   \n",
       "                                               Azure AD Identity Governance - Entitlement Management Guest     [Sign-in activity]   \n",
       "                                               Azure Portal                                          Guest     [Sign-in activity]   \n",
       "                                               Microsoft 365 Security and Compliance Center          Guest     [Sign-in activity]   \n",
       "                                               Microsoft App Access Panel                            Guest     [Sign-in activity]   \n",
       "\n",
       "                                                                                                               Resources  \\\n",
       "UserPrincipalName    Type       IPAddress      AppResourceProvider                                   UserType              \n",
       "chboeh@microsoft.com SigninLogs 208.104.92.208 Amazon Web Services (AWS) -NinjaTenant                Guest             1   \n",
       "                                               Azure AD Identity Governance - Entitlement Management Guest             1   \n",
       "                                               Azure Portal                                          Guest             1   \n",
       "                                               Microsoft 365 Security and Compliance Center          Guest             1   \n",
       "                                               Microsoft App Access Panel                            Guest             1   \n",
       "\n",
       "                                                                                                                                FirstOperation  \\\n",
       "UserPrincipalName    Type       IPAddress      AppResourceProvider                                   UserType                                    \n",
       "chboeh@microsoft.com SigninLogs 208.104.92.208 Amazon Web Services (AWS) -NinjaTenant                Guest    2021-06-21 15:06:34.021000+00:00   \n",
       "                                               Azure AD Identity Governance - Entitlement Management Guest    2021-06-24 14:14:18.669000+00:00   \n",
       "                                               Azure Portal                                          Guest    2021-06-21 15:03:56.995000+00:00   \n",
       "                                               Microsoft 365 Security and Compliance Center          Guest    2021-06-24 18:46:52.376000+00:00   \n",
       "                                               Microsoft App Access Panel                            Guest    2021-06-21 15:06:27.025000+00:00   \n",
       "\n",
       "                                                                                                                                 LastOperation  \n",
       "UserPrincipalName    Type       IPAddress      AppResourceProvider                                   UserType                                   \n",
       "chboeh@microsoft.com SigninLogs 208.104.92.208 Amazon Web Services (AWS) -NinjaTenant                Guest    2021-06-21 15:06:34.021000+00:00  \n",
       "                                               Azure AD Identity Governance - Entitlement Management Guest    2021-06-24 14:14:18.669000+00:00  \n",
       "                                               Azure Portal                                          Guest    2021-06-24 19:56:57.242000+00:00  \n",
       "                                               Microsoft 365 Security and Compliance Center          Guest    2021-06-24 18:46:52.376000+00:00  \n",
       "                                               Microsoft App Access Panel                            Guest    2021-06-21 15:06:27.025000+00:00  "
      ]
     },
     "metadata": {},
     "output_type": "display_data"
    },
    {
     "data": {
      "text/html": [
       "<h3>IP Address details summary</h3>"
      ],
      "text/plain": [
       "<IPython.core.display.HTML object>"
      ]
     },
     "metadata": {},
     "output_type": "display_data"
    },
    {
     "data": {
      "text/html": [
       " Number of operations detected by IP Address. The table shows WhoIs ASN Description and Country Code. If UserAgent is contained in the data, operations are also grouped by this. "
      ],
      "text/plain": [
       "<IPython.core.display.HTML object>"
      ]
     },
     "metadata": {},
     "output_type": "display_data"
    },
    {
     "data": {
      "text/html": [
       "<p style=''>Querying geolocation for 2 ip addresses...</p>"
      ],
      "text/plain": [
       "<IPython.core.display.HTML object>"
      ]
     },
     "metadata": {},
     "output_type": "display_data"
    },
    {
     "data": {
      "text/html": [
       "<p style=''>Querying WhoIs for 2 ip addresses...</p>"
      ],
      "text/plain": [
       "<IPython.core.display.HTML object>"
      ]
     },
     "metadata": {},
     "output_type": "display_data"
    },
    {
     "name": "stdout",
     "output_type": "stream",
     "text": [
      "nan does not appear to be an IPv4 or IPv6 address\n"
     ]
    },
    {
     "data": {
      "text/html": [
       "<div>\n",
       "<style scoped>\n",
       "    .dataframe tbody tr th:only-of-type {\n",
       "        vertical-align: middle;\n",
       "    }\n",
       "\n",
       "    .dataframe tbody tr th {\n",
       "        vertical-align: top;\n",
       "    }\n",
       "\n",
       "    .dataframe thead th {\n",
       "        text-align: right;\n",
       "    }\n",
       "</style>\n",
       "<table border=\"1\" class=\"dataframe\">\n",
       "  <thead>\n",
       "    <tr style=\"text-align: right;\">\n",
       "      <th></th>\n",
       "      <th></th>\n",
       "      <th></th>\n",
       "      <th></th>\n",
       "      <th></th>\n",
       "      <th></th>\n",
       "      <th>Count</th>\n",
       "      <th>FirstOperation</th>\n",
       "      <th>LastOperation</th>\n",
       "    </tr>\n",
       "    <tr>\n",
       "      <th>Source</th>\n",
       "      <th>Operation</th>\n",
       "      <th>UserAgent</th>\n",
       "      <th>IpAddress</th>\n",
       "      <th>AsnDescription</th>\n",
       "      <th>CountryCode</th>\n",
       "      <th></th>\n",
       "      <th></th>\n",
       "      <th></th>\n",
       "    </tr>\n",
       "  </thead>\n",
       "  <tbody>\n",
       "    <tr>\n",
       "      <th>AzureActiveDirectory</th>\n",
       "      <th>Sign-in activity</th>\n",
       "      <th>Mozilla/5.0 (Windows NT 10.0; Win64; x64) AppleWebKit/537.36 (KHTML, like Gecko) Chrome/91.0.4472.101 Safari/537.36 Edg/91.0.864.48</th>\n",
       "      <th>208.104.92.208</th>\n",
       "      <th>ROCK-HILL-TELEPHONE, US</th>\n",
       "      <th>US</th>\n",
       "      <td>16</td>\n",
       "      <td>2021-06-21 15:03:56.995000+00:00</td>\n",
       "      <td>2021-06-24 19:56:57.242000+00:00</td>\n",
       "    </tr>\n",
       "  </tbody>\n",
       "</table>\n",
       "</div>"
      ],
      "text/plain": [
       "                                                                                                                                                                                               Count  \\\n",
       "Source               Operation        UserAgent                                                                                            IpAddress      AsnDescription          CountryCode          \n",
       "AzureActiveDirectory Sign-in activity Mozilla/5.0 (Windows NT 10.0; Win64; x64) AppleWebKit/537.36 (KHTML, like Gecko) Chrome/91.0.4472... 208.104.92.208 ROCK-HILL-TELEPHONE, US US              16   \n",
       "\n",
       "                                                                                                                                                                                                                FirstOperation  \\\n",
       "Source               Operation        UserAgent                                                                                            IpAddress      AsnDescription          CountryCode                                    \n",
       "AzureActiveDirectory Sign-in activity Mozilla/5.0 (Windows NT 10.0; Win64; x64) AppleWebKit/537.36 (KHTML, like Gecko) Chrome/91.0.4472... 208.104.92.208 ROCK-HILL-TELEPHONE, US US          2021-06-21 15:03:56.995000+00:00   \n",
       "\n",
       "                                                                                                                                                                                                                 LastOperation  \n",
       "Source               Operation        UserAgent                                                                                            IpAddress      AsnDescription          CountryCode                                   \n",
       "AzureActiveDirectory Sign-in activity Mozilla/5.0 (Windows NT 10.0; Win64; x64) AppleWebKit/537.36 (KHTML, like Gecko) Chrome/91.0.4472... 208.104.92.208 ROCK-HILL-TELEPHONE, US US          2021-06-24 19:56:57.242000+00:00  "
      ]
     },
     "metadata": {},
     "output_type": "display_data"
    }
   ],
   "source": [
    "acc_result.get_additional_data()"
   ]
  },
  {
   "cell_type": "markdown",
   "metadata": {},
   "source": [
    "# Browse alerts\n",
    "If there are any alerts referencing this account name they can be viewed\n",
    "by calling the `acc_result.browse_alerts()` function."
   ]
  },
  {
   "cell_type": "code",
   "execution_count": 10,
   "metadata": {},
   "outputs": [
    {
     "data": {
      "application/vnd.jupyter.widget-view+json": {
       "model_id": "85a988d3104b456db118090c4cd93244",
       "version_major": 2,
       "version_minor": 0
      },
      "text/plain": [
       "VBox(children=(Text(value='', description='Filter alerts by title:', style=DescriptionStyle(description_width=…"
      ]
     },
     "metadata": {},
     "output_type": "display_data"
    },
    {
     "data": {
      "text/html": [
       "<hr>"
      ],
      "text/plain": [
       "<IPython.core.display.HTML object>"
      ]
     },
     "metadata": {},
     "output_type": "display_data"
    },
    {
     "data": {
      "text/html": [
       "\n",
       "            <h3>Selected Alert: 'Anomalous AAD Account Creation'</h3>\n",
       "            <b>Alert_time:</b> 2021-06-22 17:24:03+00:00,&nbsp;\n",
       "            <b>Compr_entity:</b> ,&nbsp;\n",
       "            <b>Alert_id:</b> 5b67a8d5-fe80-3267-f07e-d39d96aaa901\n",
       "            <br/>\n",
       "            "
      ],
      "text/plain": [
       "<IPython.core.display.HTML object>"
      ]
     },
     "metadata": {},
     "output_type": "display_data"
    },
    {
     "data": {
      "text/html": [
       "<div>\n",
       "<style scoped>\n",
       "    .dataframe tbody tr th:only-of-type {\n",
       "        vertical-align: middle;\n",
       "    }\n",
       "\n",
       "    .dataframe tbody tr th {\n",
       "        vertical-align: top;\n",
       "    }\n",
       "\n",
       "    .dataframe thead th {\n",
       "        text-align: right;\n",
       "    }\n",
       "</style>\n",
       "<table border=\"1\" class=\"dataframe\">\n",
       "  <thead>\n",
       "    <tr style=\"text-align: right;\">\n",
       "      <th></th>\n",
       "      <th>0</th>\n",
       "    </tr>\n",
       "  </thead>\n",
       "  <tbody>\n",
       "    <tr>\n",
       "      <th>TenantId</th>\n",
       "      <td>8ecf8077-cf51-4820-aadd-14040956f35d</td>\n",
       "    </tr>\n",
       "    <tr>\n",
       "      <th>TimeGenerated</th>\n",
       "      <td>2021-06-22 17:46:22.230000+00:00</td>\n",
       "    </tr>\n",
       "    <tr>\n",
       "      <th>AlertDisplayName</th>\n",
       "      <td>Anomalous AAD Account Creation</td>\n",
       "    </tr>\n",
       "    <tr>\n",
       "      <th>AlertName</th>\n",
       "      <td>Anomalous AAD Account Creation</td>\n",
       "    </tr>\n",
       "    <tr>\n",
       "      <th>Severity</th>\n",
       "      <td>Medium</td>\n",
       "    </tr>\n",
       "    <tr>\n",
       "      <th>Description</th>\n",
       "      <td></td>\n",
       "    </tr>\n",
       "    <tr>\n",
       "      <th>ProviderName</th>\n",
       "      <td>ASI Scheduled Alerts</td>\n",
       "    </tr>\n",
       "    <tr>\n",
       "      <th>VendorName</th>\n",
       "      <td>Microsoft</td>\n",
       "    </tr>\n",
       "    <tr>\n",
       "      <th>VendorOriginalId</th>\n",
       "      <td>9804d24d-bd1d-4814-be58-ff415c63ad72</td>\n",
       "    </tr>\n",
       "    <tr>\n",
       "      <th>SystemAlertId</th>\n",
       "      <td>5b67a8d5-fe80-3267-f07e-d39d96aaa901</td>\n",
       "    </tr>\n",
       "    <tr>\n",
       "      <th>ResourceId</th>\n",
       "      <td></td>\n",
       "    </tr>\n",
       "    <tr>\n",
       "      <th>SourceComputerId</th>\n",
       "      <td></td>\n",
       "    </tr>\n",
       "    <tr>\n",
       "      <th>AlertType</th>\n",
       "      <td>8ecf8077-cf51-4820-aadd-14040956f35d_b90d055f-81ea-409a-8d72-70ae20a319dd</td>\n",
       "    </tr>\n",
       "    <tr>\n",
       "      <th>ConfidenceLevel</th>\n",
       "      <td></td>\n",
       "    </tr>\n",
       "    <tr>\n",
       "      <th>ConfidenceScore</th>\n",
       "      <td>NaN</td>\n",
       "    </tr>\n",
       "    <tr>\n",
       "      <th>IsIncident</th>\n",
       "      <td>False</td>\n",
       "    </tr>\n",
       "    <tr>\n",
       "      <th>StartTimeUtc</th>\n",
       "      <td>2021-06-22 17:24:03+00:00</td>\n",
       "    </tr>\n",
       "    <tr>\n",
       "      <th>EndTimeUtc</th>\n",
       "      <td>2021-06-22 17:24:03+00:00</td>\n",
       "    </tr>\n",
       "    <tr>\n",
       "      <th>ProcessingEndTime</th>\n",
       "      <td>2021-06-22 17:46:22.230000+00:00</td>\n",
       "    </tr>\n",
       "    <tr>\n",
       "      <th>RemediationSteps</th>\n",
       "      <td></td>\n",
       "    </tr>\n",
       "    <tr>\n",
       "      <th>ExtendedProperties</th>\n",
       "      <td>{'Query': '// The query_now parameter represents the time (in UTC) at which the scheduled analyt...</td>\n",
       "    </tr>\n",
       "    <tr>\n",
       "      <th>Entities</th>\n",
       "      <td>[{'$id': '3', 'Name': 'chboeh', 'UPNSuffix': 'microsoft.com', 'IsDomainJoined': True, 'DisplayNa...</td>\n",
       "    </tr>\n",
       "    <tr>\n",
       "      <th>SourceSystem</th>\n",
       "      <td>Detection</td>\n",
       "    </tr>\n",
       "    <tr>\n",
       "      <th>WorkspaceSubscriptionId</th>\n",
       "      <td>d1d8779d-38d7-4f06-91db-9cbc8de0176f</td>\n",
       "    </tr>\n",
       "    <tr>\n",
       "      <th>WorkspaceResourceGroup</th>\n",
       "      <td>soc</td>\n",
       "    </tr>\n",
       "    <tr>\n",
       "      <th>ExtendedLinks</th>\n",
       "      <td></td>\n",
       "    </tr>\n",
       "    <tr>\n",
       "      <th>ProductName</th>\n",
       "      <td>Azure Sentinel</td>\n",
       "    </tr>\n",
       "    <tr>\n",
       "      <th>ProductComponentName</th>\n",
       "      <td>Scheduled Alerts</td>\n",
       "    </tr>\n",
       "    <tr>\n",
       "      <th>AlertLink</th>\n",
       "      <td></td>\n",
       "    </tr>\n",
       "    <tr>\n",
       "      <th>Status</th>\n",
       "      <td>New</td>\n",
       "    </tr>\n",
       "    <tr>\n",
       "      <th>CompromisedEntity</th>\n",
       "      <td></td>\n",
       "    </tr>\n",
       "    <tr>\n",
       "      <th>Tactics</th>\n",
       "      <td>Execution</td>\n",
       "    </tr>\n",
       "    <tr>\n",
       "      <th>Type</th>\n",
       "      <td>SecurityAlert</td>\n",
       "    </tr>\n",
       "    <tr>\n",
       "      <th>Computer</th>\n",
       "      <td></td>\n",
       "    </tr>\n",
       "    <tr>\n",
       "      <th>src_hostname</th>\n",
       "      <td></td>\n",
       "    </tr>\n",
       "    <tr>\n",
       "      <th>src_accountname</th>\n",
       "      <td>chboeh</td>\n",
       "    </tr>\n",
       "    <tr>\n",
       "      <th>src_procname</th>\n",
       "      <td></td>\n",
       "    </tr>\n",
       "    <tr>\n",
       "      <th>host_match</th>\n",
       "      <td>False</td>\n",
       "    </tr>\n",
       "    <tr>\n",
       "      <th>acct_match</th>\n",
       "      <td>True</td>\n",
       "    </tr>\n",
       "    <tr>\n",
       "      <th>proc_match</th>\n",
       "      <td>False</td>\n",
       "    </tr>\n",
       "  </tbody>\n",
       "</table>\n",
       "</div>"
      ],
      "text/plain": [
       "                                                                                                                           0\n",
       "TenantId                                                                                8ecf8077-cf51-4820-aadd-14040956f35d\n",
       "TimeGenerated                                                                               2021-06-22 17:46:22.230000+00:00\n",
       "AlertDisplayName                                                                              Anomalous AAD Account Creation\n",
       "AlertName                                                                                     Anomalous AAD Account Creation\n",
       "Severity                                                                                                              Medium\n",
       "Description                                                                                                                 \n",
       "ProviderName                                                                                            ASI Scheduled Alerts\n",
       "VendorName                                                                                                         Microsoft\n",
       "VendorOriginalId                                                                        9804d24d-bd1d-4814-be58-ff415c63ad72\n",
       "SystemAlertId                                                                           5b67a8d5-fe80-3267-f07e-d39d96aaa901\n",
       "ResourceId                                                                                                                  \n",
       "SourceComputerId                                                                                                            \n",
       "AlertType                                          8ecf8077-cf51-4820-aadd-14040956f35d_b90d055f-81ea-409a-8d72-70ae20a319dd\n",
       "ConfidenceLevel                                                                                                             \n",
       "ConfidenceScore                                                                                                          NaN\n",
       "IsIncident                                                                                                             False\n",
       "StartTimeUtc                                                                                       2021-06-22 17:24:03+00:00\n",
       "EndTimeUtc                                                                                         2021-06-22 17:24:03+00:00\n",
       "ProcessingEndTime                                                                           2021-06-22 17:46:22.230000+00:00\n",
       "RemediationSteps                                                                                                            \n",
       "ExtendedProperties       {'Query': '// The query_now parameter represents the time (in UTC) at which the scheduled analyt...\n",
       "Entities                 [{'$id': '3', 'Name': 'chboeh', 'UPNSuffix': 'microsoft.com', 'IsDomainJoined': True, 'DisplayNa...\n",
       "SourceSystem                                                                                                       Detection\n",
       "WorkspaceSubscriptionId                                                                 d1d8779d-38d7-4f06-91db-9cbc8de0176f\n",
       "WorkspaceResourceGroup                                                                                                   soc\n",
       "ExtendedLinks                                                                                                               \n",
       "ProductName                                                                                                   Azure Sentinel\n",
       "ProductComponentName                                                                                        Scheduled Alerts\n",
       "AlertLink                                                                                                                   \n",
       "Status                                                                                                                   New\n",
       "CompromisedEntity                                                                                                           \n",
       "Tactics                                                                                                            Execution\n",
       "Type                                                                                                           SecurityAlert\n",
       "Computer                                                                                                                    \n",
       "src_hostname                                                                                                                \n",
       "src_accountname                                                                                                       chboeh\n",
       "src_procname                                                                                                                \n",
       "host_match                                                                                                             False\n",
       "acct_match                                                                                                              True\n",
       "proc_match                                                                                                             False"
      ]
     },
     "metadata": {},
     "output_type": "display_data"
    }
   ],
   "source": [
    "acc_result.notebooklet.browse_alerts()"
   ]
  },
  {
   "cell_type": "markdown",
   "metadata": {},
   "source": [
    "# Browse other event data\n",
    "\n",
    "You can use a simple view to make it easier to see the details of individual events\n",
    "by calling the \"view_events\" method.\n",
    "\n",
    "You need to supply the name of the result attribute that you want to view plus\n",
    "one or more summary columns (as a list of strings)."
   ]
  },
  {
   "cell_type": "code",
   "execution_count": 11,
   "metadata": {},
   "outputs": [
    {
     "data": {
      "application/vnd.jupyter.widget-view+json": {
       "model_id": "27c0fcf87a58422ea90e59ddaa90170f",
       "version_major": 2,
       "version_minor": 0
      },
      "text/plain": [
       "VBox(children=(Text(value='', description='Filter:', style=DescriptionStyle(description_width='initial')), Sel…"
      ]
     },
     "metadata": {},
     "output_type": "display_data"
    },
    {
     "data": {
      "text/html": [
       "<hr>"
      ],
      "text/plain": [
       "<IPython.core.display.HTML object>"
      ]
     },
     "metadata": {},
     "output_type": "display_data"
    },
    {
     "data": {
      "text/html": [
       "<div>\n",
       "<style scoped>\n",
       "    .dataframe tbody tr th:only-of-type {\n",
       "        vertical-align: middle;\n",
       "    }\n",
       "\n",
       "    .dataframe tbody tr th {\n",
       "        vertical-align: top;\n",
       "    }\n",
       "\n",
       "    .dataframe thead th {\n",
       "        text-align: right;\n",
       "    }\n",
       "</style>\n",
       "<table border=\"1\" class=\"dataframe\">\n",
       "  <thead>\n",
       "    <tr style=\"text-align: right;\">\n",
       "      <th></th>\n",
       "      <th>1</th>\n",
       "    </tr>\n",
       "  </thead>\n",
       "  <tbody>\n",
       "    <tr>\n",
       "      <th>TenantId</th>\n",
       "      <td>8ecf8077-cf51-4820-aadd-14040956f35d</td>\n",
       "    </tr>\n",
       "    <tr>\n",
       "      <th>SourceSystem</th>\n",
       "      <td>Azure AD</td>\n",
       "    </tr>\n",
       "    <tr>\n",
       "      <th>TimeGenerated</th>\n",
       "      <td>2021-06-21 15:03:56.995000+00:00</td>\n",
       "    </tr>\n",
       "    <tr>\n",
       "      <th>ResourceId</th>\n",
       "      <td>/tenants/4b2462a4-bbee-495a-a0e1-f23ae524cc9c/providers/Microsoft.aadiam</td>\n",
       "    </tr>\n",
       "    <tr>\n",
       "      <th>Operation</th>\n",
       "      <td>Sign-in activity</td>\n",
       "    </tr>\n",
       "    <tr>\n",
       "      <th>OperationVersion</th>\n",
       "      <td>1.0</td>\n",
       "    </tr>\n",
       "    <tr>\n",
       "      <th>Category</th>\n",
       "      <td>SignInLogs</td>\n",
       "    </tr>\n",
       "    <tr>\n",
       "      <th>ResultType</th>\n",
       "      <td>0</td>\n",
       "    </tr>\n",
       "    <tr>\n",
       "      <th>ResultSignature</th>\n",
       "      <td>None</td>\n",
       "    </tr>\n",
       "    <tr>\n",
       "      <th>DurationMs</th>\n",
       "      <td>0</td>\n",
       "    </tr>\n",
       "    <tr>\n",
       "      <th>CorrelationId</th>\n",
       "      <td>df4a6ae4-7328-4e72-aa4c-e10dc7de2a9e</td>\n",
       "    </tr>\n",
       "    <tr>\n",
       "      <th>Resource</th>\n",
       "      <td>Microsoft.aadiam</td>\n",
       "    </tr>\n",
       "    <tr>\n",
       "      <th>ResourceGroup</th>\n",
       "      <td>Microsoft.aadiam</td>\n",
       "    </tr>\n",
       "    <tr>\n",
       "      <th>Identity</th>\n",
       "      <td>Chris Boehm</td>\n",
       "    </tr>\n",
       "    <tr>\n",
       "      <th>Level</th>\n",
       "      <td>4</td>\n",
       "    </tr>\n",
       "    <tr>\n",
       "      <th>Location</th>\n",
       "      <td>US</td>\n",
       "    </tr>\n",
       "    <tr>\n",
       "      <th>AppResourceProvider</th>\n",
       "      <td>Azure Portal</td>\n",
       "    </tr>\n",
       "    <tr>\n",
       "      <th>AppId</th>\n",
       "      <td>c44b4083-3bb0-49c1-b47d-974e53cbdf3c</td>\n",
       "    </tr>\n",
       "    <tr>\n",
       "      <th>AuthenticationDetails</th>\n",
       "      <td>[\\r\\n  {\\r\\n    \"authenticationStepDateTime\": \"2021-06-21T15:03:56.9952603+00:00\",\\r\\n    \"authe...</td>\n",
       "    </tr>\n",
       "    <tr>\n",
       "      <th>AuthenticationProcessingDetails</th>\n",
       "      <td>[\\r\\n  {\\r\\n    \"key\": \"Login Hint Present\",\\r\\n    \"value\": \"True\"\\r\\n  },\\r\\n  {\\r\\n    \"key\":...</td>\n",
       "    </tr>\n",
       "    <tr>\n",
       "      <th>AuthenticationRequirement</th>\n",
       "      <td>singleFactorAuthentication</td>\n",
       "    </tr>\n",
       "    <tr>\n",
       "      <th>AuthenticationRequirementPolicies</th>\n",
       "      <td>[]</td>\n",
       "    </tr>\n",
       "    <tr>\n",
       "      <th>ClientAppUsed</th>\n",
       "      <td>Browser</td>\n",
       "    </tr>\n",
       "    <tr>\n",
       "      <th>ConditionalAccessPolicies</th>\n",
       "      <td>[{'id': '8872f6fb-da88-4b63-bcc7-17247669596b', 'displayName': 'MeganB MCAS Proxy', 'enforcedGra...</td>\n",
       "    </tr>\n",
       "    <tr>\n",
       "      <th>ConditionalAccessStatus</th>\n",
       "      <td>notApplied</td>\n",
       "    </tr>\n",
       "    <tr>\n",
       "      <th>CreatedDateTime</th>\n",
       "      <td>2021-06-21 15:03:56.995000+00:00</td>\n",
       "    </tr>\n",
       "    <tr>\n",
       "      <th>DeviceDetail</th>\n",
       "      <td>{'deviceId': '{PII Removed}', 'displayName': '{PII Removed}', 'operatingSystem': 'Windows 10', '...</td>\n",
       "    </tr>\n",
       "    <tr>\n",
       "      <th>IsInteractive</th>\n",
       "      <td>True</td>\n",
       "    </tr>\n",
       "    <tr>\n",
       "      <th>Id</th>\n",
       "      <td>99625b6f-2f03-44d3-9876-eb502e085e00</td>\n",
       "    </tr>\n",
       "    <tr>\n",
       "      <th>IPAddress</th>\n",
       "      <td>208.104.92.208</td>\n",
       "    </tr>\n",
       "    <tr>\n",
       "      <th>LocationDetails</th>\n",
       "      <td>{'city': 'Fort Mill', 'state': 'South Carolina', 'countryOrRegion': 'US', 'geoCoordinates': {'la...</td>\n",
       "    </tr>\n",
       "    <tr>\n",
       "      <th>MfaDetail</th>\n",
       "      <td>{}</td>\n",
       "    </tr>\n",
       "    <tr>\n",
       "      <th>NetworkLocationDetails</th>\n",
       "      <td>[]</td>\n",
       "    </tr>\n",
       "    <tr>\n",
       "      <th>OriginalRequestId</th>\n",
       "      <td>99625b6f-2f03-44d3-9876-eb502e085e00</td>\n",
       "    </tr>\n",
       "    <tr>\n",
       "      <th>ProcessingTimeInMilliseconds</th>\n",
       "      <td>381</td>\n",
       "    </tr>\n",
       "    <tr>\n",
       "      <th>RiskDetail</th>\n",
       "      <td>none</td>\n",
       "    </tr>\n",
       "    <tr>\n",
       "      <th>RiskEventTypes</th>\n",
       "      <td>[]</td>\n",
       "    </tr>\n",
       "    <tr>\n",
       "      <th>RiskEventTypes_V2</th>\n",
       "      <td>[]</td>\n",
       "    </tr>\n",
       "    <tr>\n",
       "      <th>RiskLevelAggregated</th>\n",
       "      <td>none</td>\n",
       "    </tr>\n",
       "    <tr>\n",
       "      <th>RiskLevelDuringSignIn</th>\n",
       "      <td>none</td>\n",
       "    </tr>\n",
       "    <tr>\n",
       "      <th>RiskState</th>\n",
       "      <td>none</td>\n",
       "    </tr>\n",
       "    <tr>\n",
       "      <th>ResourceDisplayName</th>\n",
       "      <td>Windows Azure Service Management API</td>\n",
       "    </tr>\n",
       "    <tr>\n",
       "      <th>ResourceIdentity</th>\n",
       "      <td>797f4846-ba00-4fd7-ba43-dac1f8f63013</td>\n",
       "    </tr>\n",
       "    <tr>\n",
       "      <th>Status</th>\n",
       "      <td>{'errorCode': 0, 'additionalDetails': 'MFA requirement satisfied by claim in the token'}</td>\n",
       "    </tr>\n",
       "    <tr>\n",
       "      <th>TokenIssuerType</th>\n",
       "      <td>AzureAD</td>\n",
       "    </tr>\n",
       "    <tr>\n",
       "      <th>UserAgent</th>\n",
       "      <td>Mozilla/5.0 (Windows NT 10.0; Win64; x64) AppleWebKit/537.36 (KHTML, like Gecko) Chrome/91.0.447...</td>\n",
       "    </tr>\n",
       "    <tr>\n",
       "      <th>UserDisplayName</th>\n",
       "      <td>Chris Boehm</td>\n",
       "    </tr>\n",
       "    <tr>\n",
       "      <th>UserId</th>\n",
       "      <td>8c102503-0f98-4b9b-9b4a-ebb56d14c66a</td>\n",
       "    </tr>\n",
       "    <tr>\n",
       "      <th>UserPrincipalName</th>\n",
       "      <td>chboeh@microsoft.com</td>\n",
       "    </tr>\n",
       "    <tr>\n",
       "      <th>AADTenantId</th>\n",
       "      <td>4b2462a4-bbee-495a-a0e1-f23ae524cc9c</td>\n",
       "    </tr>\n",
       "    <tr>\n",
       "      <th>UserType</th>\n",
       "      <td>Guest</td>\n",
       "    </tr>\n",
       "    <tr>\n",
       "      <th>ResourceTenantId</th>\n",
       "      <td>4b2462a4-bbee-495a-a0e1-f23ae524cc9c</td>\n",
       "    </tr>\n",
       "    <tr>\n",
       "      <th>HomeTenantId</th>\n",
       "      <td>72f988bf-86f1-41af-91ab-2d7cd011db47</td>\n",
       "    </tr>\n",
       "    <tr>\n",
       "      <th>Type</th>\n",
       "      <td>SigninLogs</td>\n",
       "    </tr>\n",
       "    <tr>\n",
       "      <th>Source</th>\n",
       "      <td>AzureActiveDirectory</td>\n",
       "    </tr>\n",
       "  </tbody>\n",
       "</table>\n",
       "</div>"
      ],
      "text/plain": [
       "                                                                                                                                     1\n",
       "TenantId                                                                                          8ecf8077-cf51-4820-aadd-14040956f35d\n",
       "SourceSystem                                                                                                                  Azure AD\n",
       "TimeGenerated                                                                                         2021-06-21 15:03:56.995000+00:00\n",
       "ResourceId                                                    /tenants/4b2462a4-bbee-495a-a0e1-f23ae524cc9c/providers/Microsoft.aadiam\n",
       "Operation                                                                                                             Sign-in activity\n",
       "OperationVersion                                                                                                                   1.0\n",
       "Category                                                                                                                    SignInLogs\n",
       "ResultType                                                                                                                           0\n",
       "ResultSignature                                                                                                                   None\n",
       "DurationMs                                                                                                                           0\n",
       "CorrelationId                                                                                     df4a6ae4-7328-4e72-aa4c-e10dc7de2a9e\n",
       "Resource                                                                                                              Microsoft.aadiam\n",
       "ResourceGroup                                                                                                         Microsoft.aadiam\n",
       "Identity                                                                                                                   Chris Boehm\n",
       "Level                                                                                                                                4\n",
       "Location                                                                                                                            US\n",
       "AppResourceProvider                                                                                                       Azure Portal\n",
       "AppId                                                                                             c44b4083-3bb0-49c1-b47d-974e53cbdf3c\n",
       "AuthenticationDetails              [\\r\\n  {\\r\\n    \"authenticationStepDateTime\": \"2021-06-21T15:03:56.9952603+00:00\",\\r\\n    \"authe...\n",
       "AuthenticationProcessingDetails    [\\r\\n  {\\r\\n    \"key\": \"Login Hint Present\",\\r\\n    \"value\": \"True\"\\r\\n  },\\r\\n  {\\r\\n    \"key\":...\n",
       "AuthenticationRequirement                                                                                   singleFactorAuthentication\n",
       "AuthenticationRequirementPolicies                                                                                                   []\n",
       "ClientAppUsed                                                                                                                  Browser\n",
       "ConditionalAccessPolicies          [{'id': '8872f6fb-da88-4b63-bcc7-17247669596b', 'displayName': 'MeganB MCAS Proxy', 'enforcedGra...\n",
       "ConditionalAccessStatus                                                                                                     notApplied\n",
       "CreatedDateTime                                                                                       2021-06-21 15:03:56.995000+00:00\n",
       "DeviceDetail                       {'deviceId': '{PII Removed}', 'displayName': '{PII Removed}', 'operatingSystem': 'Windows 10', '...\n",
       "IsInteractive                                                                                                                     True\n",
       "Id                                                                                                99625b6f-2f03-44d3-9876-eb502e085e00\n",
       "IPAddress                                                                                                               208.104.92.208\n",
       "LocationDetails                    {'city': 'Fort Mill', 'state': 'South Carolina', 'countryOrRegion': 'US', 'geoCoordinates': {'la...\n",
       "MfaDetail                                                                                                                           {}\n",
       "NetworkLocationDetails                                                                                                              []\n",
       "OriginalRequestId                                                                                 99625b6f-2f03-44d3-9876-eb502e085e00\n",
       "ProcessingTimeInMilliseconds                                                                                                       381\n",
       "RiskDetail                                                                                                                        none\n",
       "RiskEventTypes                                                                                                                      []\n",
       "RiskEventTypes_V2                                                                                                                   []\n",
       "RiskLevelAggregated                                                                                                               none\n",
       "RiskLevelDuringSignIn                                                                                                             none\n",
       "RiskState                                                                                                                         none\n",
       "ResourceDisplayName                                                                               Windows Azure Service Management API\n",
       "ResourceIdentity                                                                                  797f4846-ba00-4fd7-ba43-dac1f8f63013\n",
       "Status                                        {'errorCode': 0, 'additionalDetails': 'MFA requirement satisfied by claim in the token'}\n",
       "TokenIssuerType                                                                                                                AzureAD\n",
       "UserAgent                          Mozilla/5.0 (Windows NT 10.0; Win64; x64) AppleWebKit/537.36 (KHTML, like Gecko) Chrome/91.0.447...\n",
       "UserDisplayName                                                                                                            Chris Boehm\n",
       "UserId                                                                                            8c102503-0f98-4b9b-9b4a-ebb56d14c66a\n",
       "UserPrincipalName                                                                                                 chboeh@microsoft.com\n",
       "AADTenantId                                                                                       4b2462a4-bbee-495a-a0e1-f23ae524cc9c\n",
       "UserType                                                                                                                         Guest\n",
       "ResourceTenantId                                                                                  4b2462a4-bbee-495a-a0e1-f23ae524cc9c\n",
       "HomeTenantId                                                                                      72f988bf-86f1-41af-91ab-2d7cd011db47\n",
       "Type                                                                                                                        SigninLogs\n",
       "Source                                                                                                            AzureActiveDirectory"
      ]
     },
     "metadata": {},
     "output_type": "display_data"
    }
   ],
   "source": [
    "acc_result.view_events(attrib=\"azure_activity\", summary_cols=[\"SourceSystem\", \"Operation\", \"IPAddress\"])"
   ]
  },
  {
   "cell_type": "markdown",
   "metadata": {},
   "source": [
    "## Browse events with alternative sorting\n",
    "You can pass a DatFrame to view events instead of an attribute name.\n",
    "\n",
    "This means that you can apply sorting or filtering of the data before viewing it.\n",
    "Here is an example sorting by IPAddress."
   ]
  },
  {
   "cell_type": "code",
   "execution_count": 12,
   "metadata": {},
   "outputs": [
    {
     "data": {
      "application/vnd.jupyter.widget-view+json": {
       "model_id": "139010427004471088a2c0fb221b9c1d",
       "version_major": 2,
       "version_minor": 0
      },
      "text/plain": [
       "VBox(children=(Text(value='', description='Filter:', style=DescriptionStyle(description_width='initial')), Sel…"
      ]
     },
     "metadata": {},
     "output_type": "display_data"
    },
    {
     "data": {
      "text/html": [
       "<hr>"
      ],
      "text/plain": [
       "<IPython.core.display.HTML object>"
      ]
     },
     "metadata": {},
     "output_type": "display_data"
    },
    {
     "data": {
      "text/html": [
       "<div>\n",
       "<style scoped>\n",
       "    .dataframe tbody tr th:only-of-type {\n",
       "        vertical-align: middle;\n",
       "    }\n",
       "\n",
       "    .dataframe tbody tr th {\n",
       "        vertical-align: top;\n",
       "    }\n",
       "\n",
       "    .dataframe thead th {\n",
       "        text-align: right;\n",
       "    }\n",
       "</style>\n",
       "<table border=\"1\" class=\"dataframe\">\n",
       "  <thead>\n",
       "    <tr style=\"text-align: right;\">\n",
       "      <th></th>\n",
       "      <th>20</th>\n",
       "    </tr>\n",
       "  </thead>\n",
       "  <tbody>\n",
       "    <tr>\n",
       "      <th>TenantId</th>\n",
       "      <td>8ecf8077-cf51-4820-aadd-14040956f35d</td>\n",
       "    </tr>\n",
       "    <tr>\n",
       "      <th>SourceSystem</th>\n",
       "      <td>Azure</td>\n",
       "    </tr>\n",
       "    <tr>\n",
       "      <th>TimeGenerated</th>\n",
       "      <td>2021-06-24 19:50:07.300000+00:00</td>\n",
       "    </tr>\n",
       "    <tr>\n",
       "      <th>ResourceId</th>\n",
       "      <td>/subscriptions/d1d8779d-38d7-4f06-91db-9cbc8de0176f/resourcegroups/Simuland/providers/Microsoft....</td>\n",
       "    </tr>\n",
       "    <tr>\n",
       "      <th>Operation</th>\n",
       "      <td>Create/Update Storage Account</td>\n",
       "    </tr>\n",
       "    <tr>\n",
       "      <th>Category</th>\n",
       "      <td>Administrative</td>\n",
       "    </tr>\n",
       "    <tr>\n",
       "      <th>CorrelationId</th>\n",
       "      <td>b25d12f0-2bdf-4fca-97a2-97eabb279027</td>\n",
       "    </tr>\n",
       "    <tr>\n",
       "      <th>Resource</th>\n",
       "      <td>blacksmithsa</td>\n",
       "    </tr>\n",
       "    <tr>\n",
       "      <th>ResourceGroup</th>\n",
       "      <td>Simuland</td>\n",
       "    </tr>\n",
       "    <tr>\n",
       "      <th>Level</th>\n",
       "      <td>Informational</td>\n",
       "    </tr>\n",
       "    <tr>\n",
       "      <th>AppResourceProvider</th>\n",
       "      <td>Microsoft.Storage</td>\n",
       "    </tr>\n",
       "    <tr>\n",
       "      <th>UserPrincipalName</th>\n",
       "      <td>chboeh@microsoft.com</td>\n",
       "    </tr>\n",
       "    <tr>\n",
       "      <th>Type</th>\n",
       "      <td>AzureActivity</td>\n",
       "    </tr>\n",
       "    <tr>\n",
       "      <th>Source</th>\n",
       "      <td>AzureActivity</td>\n",
       "    </tr>\n",
       "    <tr>\n",
       "      <th>OperationNameValue</th>\n",
       "      <td>Microsoft.Storage/storageAccounts/write</td>\n",
       "    </tr>\n",
       "    <tr>\n",
       "      <th>ActivityStatus</th>\n",
       "      <td>Succeeded</td>\n",
       "    </tr>\n",
       "    <tr>\n",
       "      <th>ActivityStatusValue</th>\n",
       "      <td>Succeeded</td>\n",
       "    </tr>\n",
       "    <tr>\n",
       "      <th>SubscriptionId</th>\n",
       "      <td>d1d8779d-38d7-4f06-91db-9cbc8de0176f</td>\n",
       "    </tr>\n",
       "    <tr>\n",
       "      <th>Caller</th>\n",
       "      <td>chboeh@microsoft.com</td>\n",
       "    </tr>\n",
       "    <tr>\n",
       "      <th>CategoryValue</th>\n",
       "      <td>Administrative</td>\n",
       "    </tr>\n",
       "    <tr>\n",
       "      <th>Properties</th>\n",
       "      <td>{\\r\\n  \"eventCategory\": \"Administrative\",\\r\\n  \"entity\": \"/subscriptions/d1d8779d-38d7-4f06-91db...</td>\n",
       "    </tr>\n",
       "    <tr>\n",
       "      <th>EventSubmissionTimestamp</th>\n",
       "      <td>2021-06-24 19:51:52.144000+00:00</td>\n",
       "    </tr>\n",
       "    <tr>\n",
       "      <th>Authorization</th>\n",
       "      <td>{\\r\\n  \"action\": \"Microsoft.Storage/storageAccounts/write\",\\r\\n  \"scope\": \"/subscriptions/d1d877...</td>\n",
       "    </tr>\n",
       "    <tr>\n",
       "      <th>OperationId</th>\n",
       "      <td>91752c67-79ff-480b-8b20-fa1a2788b23b</td>\n",
       "    </tr>\n",
       "    <tr>\n",
       "      <th>ResourceProviderValue</th>\n",
       "      <td>Microsoft.Storage</td>\n",
       "    </tr>\n",
       "    <tr>\n",
       "      <th>EventDataId</th>\n",
       "      <td>29a65613-24bf-48c4-a1b7-486eb19edaed</td>\n",
       "    </tr>\n",
       "    <tr>\n",
       "      <th>_ResourceId</th>\n",
       "      <td>/subscriptions/d1d8779d-38d7-4f06-91db-9cbc8de0176f/resourcegroups/simuland/providers/microsoft....</td>\n",
       "    </tr>\n",
       "  </tbody>\n",
       "</table>\n",
       "</div>"
      ],
      "text/plain": [
       "                                                                                                                           20\n",
       "TenantId                                                                                 8ecf8077-cf51-4820-aadd-14040956f35d\n",
       "SourceSystem                                                                                                            Azure\n",
       "TimeGenerated                                                                                2021-06-24 19:50:07.300000+00:00\n",
       "ResourceId                /subscriptions/d1d8779d-38d7-4f06-91db-9cbc8de0176f/resourcegroups/Simuland/providers/Microsoft....\n",
       "Operation                                                                                       Create/Update Storage Account\n",
       "Category                                                                                                       Administrative\n",
       "CorrelationId                                                                            b25d12f0-2bdf-4fca-97a2-97eabb279027\n",
       "Resource                                                                                                         blacksmithsa\n",
       "ResourceGroup                                                                                                        Simuland\n",
       "Level                                                                                                           Informational\n",
       "AppResourceProvider                                                                                         Microsoft.Storage\n",
       "UserPrincipalName                                                                                        chboeh@microsoft.com\n",
       "Type                                                                                                            AzureActivity\n",
       "Source                                                                                                          AzureActivity\n",
       "OperationNameValue                                                                    Microsoft.Storage/storageAccounts/write\n",
       "ActivityStatus                                                                                                      Succeeded\n",
       "ActivityStatusValue                                                                                                 Succeeded\n",
       "SubscriptionId                                                                           d1d8779d-38d7-4f06-91db-9cbc8de0176f\n",
       "Caller                                                                                                   chboeh@microsoft.com\n",
       "CategoryValue                                                                                                  Administrative\n",
       "Properties                {\\r\\n  \"eventCategory\": \"Administrative\",\\r\\n  \"entity\": \"/subscriptions/d1d8779d-38d7-4f06-91db...\n",
       "EventSubmissionTimestamp                                                                     2021-06-24 19:51:52.144000+00:00\n",
       "Authorization             {\\r\\n  \"action\": \"Microsoft.Storage/storageAccounts/write\",\\r\\n  \"scope\": \"/subscriptions/d1d877...\n",
       "OperationId                                                                              91752c67-79ff-480b-8b20-fa1a2788b23b\n",
       "ResourceProviderValue                                                                                       Microsoft.Storage\n",
       "EventDataId                                                                              29a65613-24bf-48c4-a1b7-486eb19edaed\n",
       "_ResourceId               /subscriptions/d1d8779d-38d7-4f06-91db-9cbc8de0176f/resourcegroups/simuland/providers/microsoft...."
      ]
     },
     "metadata": {},
     "output_type": "display_data"
    }
   ],
   "source": [
    "acc_result.view_events(\n",
    "    data=acc_result.azure_activity.sort_values(\"IPAddress\"),\n",
    "    summary_cols=[\"SourceSystem\", \"Operation\", \"IPAddress\"]\n",
    ")"
   ]
  },
  {
   "cell_type": "markdown",
   "metadata": {},
   "source": [
    "# Additional properties and methods of the result object\n",
    "\n",
    "These are static properties - usually DataFrames or visualizations. \n",
    "You can access each of these to see or manipulate the retrieved data.\n",
    "\n",
    "To see help on the available attributes type:\n",
    "```python\n",
    ">>> help(acc_result)\n",
    "```\n",
    "To see the available methods type:\n",
    "```python\n",
    ">>> acc_result.list_methods()\n",
    "```\n",
    "> Note, for the AccountSummary notebooklet, the two main data retrieval methods are:<br>\n",
    "> - run<br>\n",
    "> - get_additional_data<br>\n",
    "> There are several other methods that allow you to view individual plots\n",
    "> or subsets of the data (such as alerts).\n",
    "\n",
    "To view help on a specific method type:\n",
    "```python\n",
    ">>> help(acc_result.method_name())\n",
    "```"
   ]
  },
  {
   "cell_type": "code",
   "execution_count": null,
   "metadata": {},
   "outputs": [],
   "source": [
    "acc_result.display_alert_timeline()"
   ]
  },
  {
   "cell_type": "markdown",
   "metadata": {},
   "source": [
    "# Viewing the Result class\n",
    "You can view all of the data in the results class by \"running\" it in a cell\n",
    "\n",
    "> Note: due to the way Jupyter display Javascript objects the plots may\n",
    "> appear out of order."
   ]
  },
  {
   "cell_type": "code",
   "execution_count": null,
   "metadata": {},
   "outputs": [],
   "source": [
    "acc_result"
   ]
  },
  {
   "cell_type": "markdown",
   "metadata": {},
   "source": [
    "# Use other notebooklets and pivots functions to drill down on other entities\n",
    "\n",
    "You may want to drill down on other entities in the Account data.\n",
    "You can use methods of the IpAddress or Host entities, for example,\n",
    "to look at these in more detail."
   ]
  },
  {
   "cell_type": "code",
   "execution_count": null,
   "metadata": {},
   "outputs": [],
   "source": [
    "IpAddress = entities.IpAddress\n",
    "ip_result = IpAddress.nblt.ip_address_summary(\"157.56.162.53\")"
   ]
  },
  {
   "cell_type": "code",
   "execution_count": null,
   "metadata": {},
   "outputs": [],
   "source": [
    "ip_result.browse_ti_results()"
   ]
  },
  {
   "cell_type": "markdown",
   "metadata": {},
   "source": [
    "## Example - getting Whois information for Azure IPAddress requests."
   ]
  },
  {
   "cell_type": "code",
   "execution_count": null,
   "metadata": {},
   "outputs": [],
   "source": [
    "(\n",
    "    acc_result                      # the results object\n",
    "    .azure_activity[[\"IPAddress\"]]  # the property and the column we want\n",
    "    .drop_duplicates()              # drop duplicates\n",
    "    .mp_pivot.run(                  # run the pivot function IpAddress 'whois' function\n",
    "        IpAddress.util.whois, column=\"IPAddress\" \n",
    "    )\n",
    ")"
   ]
  },
  {
   "cell_type": "markdown",
   "metadata": {},
   "source": [
    "# More information:\n",
    "\n",
    "## Notebooklets and Pivots\n",
    "[Notebooklets](https://msticnb.readthedocs.io/en/latest/)\n",
    "\n",
    "[Pivot functions](https://msticpy.readthedocs.io/en/latest/data_analysis/PivotFunctions.html)\n",
    "\n",
    "## Notebook/MSTICPy configuration\n",
    "[MSTICPy Configuration guide](https://msticpy.readthedocs.io/en/latest/getting_started/msticpyconfig.html)\n",
    "\n",
    "[ConfigureNotebookEnvironment notebook](https://github.com/Azure/Azure-Sentinel-Notebooks/blob/master/ConfiguringNotebookEnvironment.ipynb)"
   ]
  }
 ],
 "metadata": {
  "celltoolbar": "Attachments",
  "hide_input": false,
  "kernelspec": {
   "display_name": "Python (condadev)",
   "language": "python",
   "name": "condadev"
  },
  "language_info": {
   "codemirror_mode": {
    "name": "ipython",
    "version": 3
   },
   "file_extension": ".py",
   "mimetype": "text/x-python",
   "name": "python",
   "nbconvert_exporter": "python",
   "pygments_lexer": "ipython3",
   "version": "3.7.10"
  },
  "latex_envs": {
   "LaTeX_envs_menu_present": true,
   "autoclose": false,
   "autocomplete": true,
   "bibliofile": "biblio.bib",
   "cite_by": "apalike",
   "current_citInitial": 1,
   "eqLabelWithNumbers": true,
   "eqNumInitial": 1,
   "hotkeys": {
    "equation": "Ctrl-E",
    "itemize": "Ctrl-I"
   },
   "labels_anchors": false,
   "latex_user_defs": false,
   "report_style_numbering": false,
   "user_envs_cfg": false
  },
  "toc": {
   "base_numbering": 1,
   "nav_menu": {},
   "number_sections": true,
   "sideBar": true,
   "skip_h1_title": true,
   "title_cell": "Contents",
   "title_sidebar": "Contents",
   "toc_cell": true,
   "toc_position": {
    "height": "calc(100% - 180px)",
    "left": "10px",
    "top": "150px",
    "width": "512px"
   },
   "toc_section_display": true,
   "toc_window_display": true
  },
  "varInspector": {
   "cols": {
    "lenName": 16,
    "lenType": 16,
    "lenVar": 40
   },
   "kernels_config": {
    "python": {
     "delete_cmd_postfix": "",
     "delete_cmd_prefix": "del ",
     "library": "var_list.py",
     "varRefreshCmd": "print(var_dic_list())"
    },
    "r": {
     "delete_cmd_postfix": ") ",
     "delete_cmd_prefix": "rm(",
     "library": "var_list.r",
     "varRefreshCmd": "cat(var_dic_list()) "
    }
   },
   "types_to_exclude": [
    "module",
    "function",
    "builtin_function_or_method",
    "instance",
    "_Feature"
   ],
   "window_display": false
  },
  "widgets": {
   "application/vnd.jupyter.widget-state+json": {
    "state": {
     "01de6c7c3b4548cc9d18d742b1d17f72": {
      "model_module": "@jupyter-widgets/controls",
      "model_module_version": "1.5.0",
      "model_name": "DescriptionStyleModel",
      "state": {
       "description_width": "initial"
      }
     },
     "02cb91cb012a4de7960017c311c0f390": {
      "model_module": "@jupyter-widgets/controls",
      "model_module_version": "1.5.0",
      "model_name": "SliderStyleModel",
      "state": {
       "description_width": "initial"
      }
     },
     "0476345b858b4dd3b9d50b15aa9db79c": {
      "model_module": "@jupyter-widgets/base",
      "model_module_version": "1.2.0",
      "model_name": "LayoutModel",
      "state": {
       "width": "50%"
      }
     },
     "04926634ef6d4e7babe0c897f044c50c": {
      "model_module": "@jupyter-widgets/base",
      "model_module_version": "1.2.0",
      "model_name": "LayoutModel",
      "state": {
       "width": "50%"
      }
     },
     "0556a0d74e054b30a9b989219a97efe1": {
      "model_module": "@jupyter-widgets/base",
      "model_module_version": "1.2.0",
      "model_name": "LayoutModel",
      "state": {}
     },
     "0559cdf32d6345e7997c5bfc32203b29": {
      "model_module": "@jupyter-widgets/base",
      "model_module_version": "1.2.0",
      "model_name": "LayoutModel",
      "state": {}
     },
     "0786389adb964a84b65d38670e6cd31d": {
      "model_module": "@jupyter-widgets/controls",
      "model_module_version": "1.5.0",
      "model_name": "HBoxModel",
      "state": {
       "children": [
        "IPY_MODEL_0b7d2109fcbd4fe69a1ed4af89f45674",
        "IPY_MODEL_ba64051d871d4f60b3c849639a7721a2"
       ],
       "layout": "IPY_MODEL_8c9cab7c19d448c095cdd6d1dc737b35"
      }
     },
     "08c30b78b74246479dec254358c72149": {
      "model_module": "@jupyter-widgets/controls",
      "model_module_version": "1.5.0",
      "model_name": "TextModel",
      "state": {
       "description": "Query start time (UTC):",
       "layout": "IPY_MODEL_2cb0e29cb2cf40fbb035e1b22c9b9576",
       "style": "IPY_MODEL_3195121babce463d8d9bf973afb8d68c",
       "value": "2021-06-20 20:19:58.141303"
      }
     },
     "0b7d2109fcbd4fe69a1ed4af89f45674": {
      "model_module": "@jupyter-widgets/controls",
      "model_module_version": "1.5.0",
      "model_name": "DatePickerModel",
      "state": {
       "description": "Origin Date",
       "disabled": false,
       "layout": "IPY_MODEL_6eeda35b174c48d799c6a891b733eddd",
       "style": "IPY_MODEL_a0a4ad59081344b489dadd26df67a046",
       "value": {
        "date": 24,
        "month": 5,
        "year": 2021
       }
      }
     },
     "0d8729563ea14f63bdbe130803c18244": {
      "model_module": "@jupyter-widgets/base",
      "model_module_version": "1.2.0",
      "model_name": "LayoutModel",
      "state": {}
     },
     "0ea27f8854ad4a26a19b8249b624dccb": {
      "model_module": "@jupyter-widgets/controls",
      "model_module_version": "1.5.0",
      "model_name": "TextModel",
      "state": {
       "description": "Filter:",
       "layout": "IPY_MODEL_4403957885f94812ab92e6c67e3f1296",
       "style": "IPY_MODEL_3b24569c70ef4bd791dde82762a06f4a"
      }
     },
     "11a39d5548d04ceaaf129e2bc90a23ce": {
      "model_module": "@jupyter-widgets/controls",
      "model_module_version": "1.5.0",
      "model_name": "DescriptionStyleModel",
      "state": {
       "description_width": "initial"
      }
     },
     "1238975b538e4a3596dbf51653badef9": {
      "model_module": "@jupyter-widgets/controls",
      "model_module_version": "1.5.0",
      "model_name": "SelectModel",
      "state": {
       "_options_labels": [
        "MANAGEDCARE_ADMIN   Windows (Last activity: 2021-06-24 22:22:36.923000+00:00)",
        "admin@m365x695149.onmicrosoft.com   AzureActiveDirectory (Last activity: 2021-06-23 18:06:01.599000+00:00)"
       ],
       "description": "Select an account to explore",
       "index": 0,
       "layout": "IPY_MODEL_f12f8a1a6e974e5b914f3ba911ae8867",
       "style": "IPY_MODEL_01de6c7c3b4548cc9d18d742b1d17f72"
      }
     },
     "139010427004471088a2c0fb221b9c1d": {
      "model_module": "@jupyter-widgets/controls",
      "model_module_version": "1.5.0",
      "model_name": "VBoxModel",
      "state": {
       "children": [
        "IPY_MODEL_6bfad96455014e1aa08081cece05bc8b",
        "IPY_MODEL_84c458b59ff24e2395591fb6a7fa0bbc"
       ],
       "layout": "IPY_MODEL_418d5066e6924eff8c50d390b57811d1"
      }
     },
     "1570d6363ff247c284c8ece481cecdc0": {
      "model_module": "@jupyter-widgets/controls",
      "model_module_version": "1.5.0",
      "model_name": "HBoxModel",
      "state": {
       "children": [
        "IPY_MODEL_81f463ef69904440a8e014c935b099cf",
        "IPY_MODEL_e4af5441578d4a54877e55e1ba66267c"
       ],
       "layout": "IPY_MODEL_dd5ce713d7eb4658a748699f56b040b8"
      }
     },
     "168b83dcb38643988778acf194c3422f": {
      "model_module": "@jupyter-widgets/controls",
      "model_module_version": "1.5.0",
      "model_name": "DescriptionStyleModel",
      "state": {
       "description_width": ""
      }
     },
     "1b9b8c24786b4be7ad6421302ee6fd33": {
      "model_module": "@jupyter-widgets/controls",
      "model_module_version": "1.5.0",
      "model_name": "DescriptionStyleModel",
      "state": {
       "description_width": ""
      }
     },
     "1f0398d2bb9741f99dad49a8ef7cafd8": {
      "model_module": "@jupyter-widgets/controls",
      "model_module_version": "1.5.0",
      "model_name": "TextModel",
      "state": {
       "description": "Query end time (UTC) :  ",
       "layout": "IPY_MODEL_04926634ef6d4e7babe0c897f044c50c",
       "style": "IPY_MODEL_a9456eac745840a4bb0c608116d3207d",
       "value": "2021-06-25 20:19:43.448216"
      }
     },
     "202a173977d747d3a89db511dd01d212": {
      "model_module": "@jupyter-widgets/base",
      "model_module_version": "1.2.0",
      "model_name": "LayoutModel",
      "state": {
       "width": "99%"
      }
     },
     "22bdcc2e167745258277114bdc2ce1db": {
      "model_module": "@jupyter-widgets/base",
      "model_module_version": "1.2.0",
      "model_name": "LayoutModel",
      "state": {}
     },
     "27c0fcf87a58422ea90e59ddaa90170f": {
      "model_module": "@jupyter-widgets/controls",
      "model_module_version": "1.5.0",
      "model_name": "VBoxModel",
      "state": {
       "children": [
        "IPY_MODEL_d5112a0721c24110a02044a3c0ecd94e",
        "IPY_MODEL_30678e3d46a64d749963f0070d07f7e8"
       ],
       "layout": "IPY_MODEL_0556a0d74e054b30a9b989219a97efe1"
      }
     },
     "2cb0e29cb2cf40fbb035e1b22c9b9576": {
      "model_module": "@jupyter-widgets/base",
      "model_module_version": "1.2.0",
      "model_name": "LayoutModel",
      "state": {
       "width": "50%"
      }
     },
     "2df68035787e479c803c213f60c4f7e4": {
      "model_module": "@jupyter-widgets/controls",
      "model_module_version": "1.5.0",
      "model_name": "TextModel",
      "state": {
       "description": "Time (24hr)",
       "layout": "IPY_MODEL_72dee2986b534a31bc70f2faa7a22503",
       "style": "IPY_MODEL_5ba7769118414dac89ede69cbfabad87",
       "value": "20:19:58.141303"
      }
     },
     "2dfd15136917453a923122646bd7185b": {
      "model_module": "@jupyter-widgets/controls",
      "model_module_version": "1.5.0",
      "model_name": "VBoxModel",
      "state": {
       "children": [
        "IPY_MODEL_1570d6363ff247c284c8ece481cecdc0",
        "IPY_MODEL_527cb7bf3e9a47d6aaa4fb4b9a676e2c",
        "IPY_MODEL_1f0398d2bb9741f99dad49a8ef7cafd8"
       ],
       "layout": "IPY_MODEL_bc1e8fd160ab493598a88a5c0daf5447"
      }
     },
     "30678e3d46a64d749963f0070d07f7e8": {
      "model_module": "@jupyter-widgets/controls",
      "model_module_version": "1.5.0",
      "model_name": "SelectModel",
      "state": {
       "_options_labels": [
        "2021-06-21 15:03:56.995000+00:00 - Azure AD - Sign-in activity - 208.104.92.208",
        "2021-06-21 15:05:49.439000+00:00 - Azure AD - Sign-in activity - 208.104.92.208",
        "2021-06-21 15:06:27.025000+00:00 - Azure AD - Sign-in activity - 208.104.92.208",
        "2021-06-21 15:06:34.021000+00:00 - Azure AD - Sign-in activity - 208.104.92.208",
        "2021-06-22 12:17:09.380000+00:00 - Azure AD - Sign-in activity - 208.104.92.208",
        "2021-06-22 17:22:07.606000+00:00 - Azure AD - Sign-in activity - 208.104.92.208",
        "2021-06-22 18:49:38.929000+00:00 - Azure AD - Sign-in activity - 208.104.92.208",
        "2021-06-23 12:54:12.780000+00:00 - Azure AD - Sign-in activity - 208.104.92.208",
        "2021-06-23 14:39:09.503000+00:00 - Azure AD - Sign-in activity - 208.104.92.208",
        "2021-06-23 15:55:48.850000+00:00 - Azure AD - Sign-in activity - 208.104.92.208",
        "2021-06-24 14:14:18.669000+00:00 - Azure AD - Sign-in activity - 208.104.92.208",
        "2021-06-24 18:46:52.376000+00:00 - Azure AD - Sign-in activity - 208.104.92.208",
        "2021-06-24 18:46:59.563000+00:00 - Azure AD - Sign-in activity - 208.104.92.208",
        "2021-06-24 19:29:09.085000+00:00 - Azure AD - Sign-in activity - 208.104.92.208",
        "2021-06-24 19:49:47.708000+00:00 - Azure - Create/Update Storage Account - 208.104.92.208",
        "2021-06-24 19:49:47.923000+00:00 - Azure - 'audit' Policy action. - ",
        "2021-06-24 19:49:49.938000+00:00 - Azure - 'auditIfNotExists' Policy action. - ",
        "2021-06-24 19:49:49.983000+00:00 - Azure - Create/Update Storage Account - 208.104.92.208",
        "2021-06-24 19:50:07.300000+00:00 - Azure - Create/Update Storage Account - ",
        "2021-06-24 19:50:09.399000+00:00 - Azure - Put blob service properties - 208.104.92.208",
        "2021-06-24 19:50:09.559000+00:00 - Azure - Put blob service properties - 208.104.92.208",
        "2021-06-24 19:50:09.654000+00:00 - Azure - Put File Service Properties - 208.104.92.208",
        "2021-06-24 19:50:09.734000+00:00 - Azure - Put File Service Properties - 208.104.92.208",
        "2021-06-24 19:50:09.859000+00:00 - Azure - Create Deployment - ",
        "2021-06-24 19:50:43.038000+00:00 - Azure - List Storage Account Keys - 208.104.92.208",
        "2021-06-24 19:50:43.088000+00:00 - Azure - List Storage Account Keys - 208.104.92.208",
        "2021-06-24 19:50:43.624000+00:00 - Azure - List Storage Account Keys - 208.104.92.208",
        "2021-06-24 19:50:43.694000+00:00 - Azure - List Storage Account Keys - 208.104.92.208",
        "2021-06-24 19:50:43.743000+00:00 - Azure - List Storage Account Keys - 208.104.92.208",
        "2021-06-24 19:50:43.764000+00:00 - Azure - List Storage Account Keys - 208.104.92.208",
        "2021-06-24 19:50:43.786000+00:00 - Azure - List Storage Account Keys - 208.104.92.208",
        "2021-06-24 19:50:43.789000+00:00 - Azure - List Storage Account Keys - 208.104.92.208",
        "2021-06-24 19:50:43.808000+00:00 - Azure - List Storage Account Keys - 208.104.92.208",
        "2021-06-24 19:50:43.871000+00:00 - Azure - List Storage Account Keys - 208.104.92.208",
        "2021-06-24 19:50:43.874000+00:00 - Azure - List Storage Account Keys - 208.104.92.208",
        "2021-06-24 19:50:43.924000+00:00 - Azure - List Storage Account Keys - 208.104.92.208",
        "2021-06-24 19:50:43.946000+00:00 - Azure - List Storage Account Keys - 208.104.92.208",
        "2021-06-24 19:50:43.996000+00:00 - Azure - List Storage Account Keys - 208.104.92.208",
        "2021-06-24 19:50:44.045000+00:00 - Azure - List Storage Account Keys - 208.104.92.208",
        "2021-06-24 19:50:44.075000+00:00 - Azure - List Storage Account Keys - 208.104.92.208",
        "2021-06-24 19:50:44.089000+00:00 - Azure - List Storage Account Keys - 208.104.92.208",
        "2021-06-24 19:50:44.091000+00:00 - Azure - List Storage Account Keys - 208.104.92.208",
        "2021-06-24 19:50:44.149000+00:00 - Azure - List Storage Account Keys - 208.104.92.208",
        "2021-06-24 19:50:44.156000+00:00 - Azure - List Storage Account Keys - 208.104.92.208",
        "2021-06-24 19:50:44.196000+00:00 - Azure - List Storage Account Keys - 208.104.92.208",
        "2021-06-24 19:50:44.206000+00:00 - Azure - List Storage Account Keys - 208.104.92.208",
        "2021-06-24 19:50:44.236000+00:00 - Azure - List Storage Account Keys - 208.104.92.208",
        "2021-06-24 19:50:44.269000+00:00 - Azure - List Storage Account Keys - 208.104.92.208",
        "2021-06-24 19:50:44.294000+00:00 - Azure - List Storage Account Keys - 208.104.92.208",
        "2021-06-24 19:50:44.334000+00:00 - Azure - List Storage Account Keys - 208.104.92.208",
        "2021-06-24 19:50:44.359000+00:00 - Azure - List Storage Account Keys - 208.104.92.208",
        "2021-06-24 19:50:44.394000+00:00 - Azure - List Storage Account Keys - 208.104.92.208",
        "2021-06-24 19:50:44.454000+00:00 - Azure - List Storage Account Keys - 208.104.92.208",
        "2021-06-24 19:50:44.479000+00:00 - Azure - List Storage Account Keys - 208.104.92.208",
        "2021-06-24 19:50:44.499000+00:00 - Azure - List Storage Account Keys - 208.104.92.208",
        "2021-06-24 19:50:44.590000+00:00 - Azure - List Storage Account Keys - 208.104.92.208",
        "2021-06-24 19:50:44.640000+00:00 - Azure - List Storage Account Keys - 208.104.92.208",
        "2021-06-24 19:50:44.753000+00:00 - Azure - List Storage Account Keys - 208.104.92.208",
        "2021-06-24 19:50:44.815000+00:00 - Azure - List Storage Account Keys - 208.104.92.208",
        "2021-06-24 19:50:44.845000+00:00 - Azure - List Storage Account Keys - 208.104.92.208",
        "2021-06-24 19:50:45.014000+00:00 - Azure - List Storage Account Keys - 208.104.92.208",
        "2021-06-24 19:50:45.049000+00:00 - Azure - List Storage Account Keys - 208.104.92.208",
        "2021-06-24 19:50:45.089000+00:00 - Azure - List Storage Account Keys - 208.104.92.208",
        "2021-06-24 19:50:45.105000+00:00 - Azure - List Storage Account Keys - 208.104.92.208",
        "2021-06-24 19:50:45.200000+00:00 - Azure - List Storage Account Keys - 208.104.92.208",
        "2021-06-24 19:51:17.474000+00:00 - Azure - List Storage Account Keys - 208.104.92.208",
        "2021-06-24 19:51:17.739000+00:00 - Azure - List Storage Account Keys - 208.104.92.208",
        "2021-06-24 19:51:18.178000+00:00 - Azure - List Storage Account Keys - 208.104.92.208",
        "2021-06-24 19:51:18.479000+00:00 - Azure - List Storage Account Keys - 208.104.92.208",
        "2021-06-24 19:51:18.564000+00:00 - Azure - List Storage Account Keys - 208.104.92.208",
        "2021-06-24 19:51:18.659000+00:00 - Azure - List Storage Account Keys - 208.104.92.208",
        "2021-06-24 19:51:18.689000+00:00 - Azure - List Storage Account Keys - 208.104.92.208",
        "2021-06-24 19:51:18.793000+00:00 - Azure - List Storage Account Keys - 208.104.92.208",
        "2021-06-24 19:51:18.823000+00:00 - Azure - List Storage Account Keys - 208.104.92.208",
        "2021-06-24 19:51:20.086000+00:00 - Azure - Generate Recommendations - 208.104.92.208",
        "2021-06-24 19:51:20.131000+00:00 - Azure - Generate Recommendations - 208.104.92.208",
        "2021-06-24 19:51:21.588000+00:00 - Azure - List Storage Account Keys - 208.104.92.208",
        "2021-06-24 19:51:21.778000+00:00 - Azure - List Storage Account Keys - 208.104.92.208",
        "2021-06-24 19:51:21.802000+00:00 - Azure - List Storage Account Keys - 208.104.92.208",
        "2021-06-24 19:51:21.862000+00:00 - Azure - List Storage Account Keys - 208.104.92.208",
        "2021-06-24 19:51:21.902000+00:00 - Azure - List Storage Account Keys - 208.104.92.208",
        "2021-06-24 19:51:21.915000+00:00 - Azure - List Storage Account Keys - 208.104.92.208",
        "2021-06-24 19:51:21.950000+00:00 - Azure - List Storage Account Keys - 208.104.92.208",
        "2021-06-24 19:51:22.074000+00:00 - Azure - List Storage Account Keys - 208.104.92.208",
        "2021-06-24 19:51:22.104000+00:00 - Azure - List Storage Account Keys - 208.104.92.208",
        "2021-06-24 19:51:22.267000+00:00 - Azure - List Storage Account Keys - 208.104.92.208",
        "2021-06-24 19:51:22.623000+00:00 - Azure - List Storage Account Keys - 208.104.92.208",
        "2021-06-24 19:51:22.678000+00:00 - Azure - List Storage Account Keys - 208.104.92.208",
        "2021-06-24 19:51:22.735000+00:00 - Azure - List Storage Account Keys - 208.104.92.208",
        "2021-06-24 19:51:22.770000+00:00 - Azure - List Storage Account Keys - 208.104.92.208",
        "2021-06-24 19:51:22.821000+00:00 - Azure - List Storage Account Keys - 208.104.92.208",
        "2021-06-24 19:51:22.851000+00:00 - Azure - List Storage Account Keys - 208.104.92.208",
        "2021-06-24 19:51:22.909000+00:00 - Azure - List Storage Account Keys - 208.104.92.208",
        "2021-06-24 19:51:22.964000+00:00 - Azure - List Storage Account Keys - 208.104.92.208",
        "2021-06-24 19:51:22.979000+00:00 - Azure - List Storage Account Keys - 208.104.92.208",
        "2021-06-24 19:51:23.044000+00:00 - Azure - List Storage Account Keys - 208.104.92.208",
        "2021-06-24 19:51:23.100000+00:00 - Azure - List Storage Account Keys - 208.104.92.208",
        "2021-06-24 19:51:23.114000+00:00 - Azure - List Storage Account Keys - 208.104.92.208",
        "2021-06-24 19:51:23.164000+00:00 - Azure - List Storage Account Keys - 208.104.92.208",
        "2021-06-24 19:51:23.410000+00:00 - Azure - List Storage Account Keys - 208.104.92.208",
        "2021-06-24 19:51:23.739000+00:00 - Azure - List Storage Account Keys - 208.104.92.208",
        "2021-06-24 19:51:23.844000+00:00 - Azure - List Storage Account Keys - 208.104.92.208",
        "2021-06-24 19:51:23.884000+00:00 - Azure - List Storage Account Keys - 208.104.92.208",
        "2021-06-24 19:51:23.915000+00:00 - Azure - List Storage Account Keys - 208.104.92.208",
        "2021-06-24 19:51:47.233000+00:00 - Azure - Put blob container - 208.104.92.208",
        "2021-06-24 19:51:47.393000+00:00 - Azure - Put blob container - 208.104.92.208",
        "2021-06-24 19:52:13.595000+00:00 - Azure - List Storage Account Keys - 208.104.92.208",
        "2021-06-24 19:52:13.640000+00:00 - Azure - List Storage Account Keys - 208.104.92.208",
        "2021-06-24 19:52:14.817000+00:00 - Azure - List Storage Account Keys - 208.104.92.208",
        "2021-06-24 19:52:14.852000+00:00 - Azure - List Storage Account Keys - 208.104.92.208",
        "2021-06-24 19:52:14.875000+00:00 - Azure - List Storage Account Keys - 208.104.92.208",
        "2021-06-24 19:52:14.892000+00:00 - Azure - List Storage Account Keys - 208.104.92.208",
        "2021-06-24 19:52:14.940000+00:00 - Azure - List Storage Account Keys - 208.104.92.208",
        "2021-06-24 19:52:14.969000+00:00 - Azure - List Storage Account Keys - 208.104.92.208",
        "2021-06-24 19:52:15.039000+00:00 - Azure - List Storage Account Keys - 208.104.92.208",
        "2021-06-24 19:52:15.046000+00:00 - Azure - List Storage Account Keys - 208.104.92.208",
        "2021-06-24 19:52:15.076000+00:00 - Azure - List Storage Account Keys - 208.104.92.208",
        "2021-06-24 19:52:15.082000+00:00 - Azure - List Storage Account Keys - 208.104.92.208",
        "2021-06-24 19:52:15.164000+00:00 - Azure - List Storage Account Keys - 208.104.92.208",
        "2021-06-24 19:52:15.194000+00:00 - Azure - List Storage Account Keys - 208.104.92.208",
        "2021-06-24 19:52:15.222000+00:00 - Azure - List Storage Account Keys - 208.104.92.208",
        "2021-06-24 19:52:15.234000+00:00 - Azure - List Storage Account Keys - 208.104.92.208",
        "2021-06-24 19:52:15.239000+00:00 - Azure - List Storage Account Keys - 208.104.92.208",
        "2021-06-24 19:52:15.260000+00:00 - Azure - List Storage Account Keys - 208.104.92.208",
        "2021-06-24 19:52:15.290000+00:00 - Azure - List Storage Account Keys - 208.104.92.208",
        "2021-06-24 19:52:15.311000+00:00 - Azure - List Storage Account Keys - 208.104.92.208",
        "2021-06-24 19:52:15.356000+00:00 - Azure - List Storage Account Keys - 208.104.92.208",
        "2021-06-24 19:52:15.374000+00:00 - Azure - List Storage Account Keys - 208.104.92.208",
        "2021-06-24 19:52:15.442000+00:00 - Azure - List Storage Account Keys - 208.104.92.208",
        "2021-06-24 19:52:15.444000+00:00 - Azure - List Storage Account Keys - 208.104.92.208",
        "2021-06-24 19:52:15.505000+00:00 - Azure - List Storage Account Keys - 208.104.92.208",
        "2021-06-24 19:52:15.535000+00:00 - Azure - List Storage Account Keys - 208.104.92.208",
        "2021-06-24 19:52:15.597000+00:00 - Azure - List Storage Account Keys - 208.104.92.208",
        "2021-06-24 19:52:15.599000+00:00 - Azure - List Storage Account Keys - 208.104.92.208",
        "2021-06-24 19:52:15.634000+00:00 - Azure - List Storage Account Keys - 208.104.92.208",
        "2021-06-24 19:52:15.662000+00:00 - Azure - List Storage Account Keys - 208.104.92.208",
        "2021-06-24 19:52:15.681000+00:00 - Azure - List Storage Account Keys - 208.104.92.208",
        "2021-06-24 19:52:15.706000+00:00 - Azure - List Storage Account Keys - 208.104.92.208",
        "2021-06-24 19:52:15.717000+00:00 - Azure - List Storage Account Keys - 208.104.92.208",
        "2021-06-24 19:52:15.760000+00:00 - Azure - List Storage Account Keys - 208.104.92.208",
        "2021-06-24 19:52:15.805000+00:00 - Azure - List Storage Account Keys - 208.104.92.208",
        "2021-06-24 19:52:15.812000+00:00 - Azure - List Storage Account Keys - 208.104.92.208",
        "2021-06-24 19:52:15.852000+00:00 - Azure - List Storage Account Keys - 208.104.92.208",
        "2021-06-24 19:52:15.917000+00:00 - Azure - List Storage Account Keys - 208.104.92.208",
        "2021-06-24 19:52:15.947000+00:00 - Azure - List Storage Account Keys - 208.104.92.208",
        "2021-06-24 19:52:15.966000+00:00 - Azure - List Storage Account Keys - 208.104.92.208",
        "2021-06-24 19:52:15.996000+00:00 - Azure - List Storage Account Keys - 208.104.92.208",
        "2021-06-24 19:52:16.081000+00:00 - Azure - List Storage Account Keys - 208.104.92.208",
        "2021-06-24 19:52:16.096000+00:00 - Azure - List Storage Account Keys - 208.104.92.208",
        "2021-06-24 19:52:16.151000+00:00 - Azure - List Storage Account Keys - 208.104.92.208",
        "2021-06-24 19:52:16.226000+00:00 - Azure - List Storage Account Keys - 208.104.92.208",
        "2021-06-24 19:52:22.030000+00:00 - Azure - List Storage Account Keys - 208.104.92.208",
        "2021-06-24 19:52:38.029000+00:00 - Azure - List Storage Account Keys - 208.104.92.208",
        "2021-06-24 19:52:38.119000+00:00 - Azure - List Storage Account Keys - 208.104.92.208",
        "2021-06-24 19:52:38.191000+00:00 - Azure - List Storage Account Keys - 208.104.92.208",
        "2021-06-24 19:52:38.214000+00:00 - Azure - List Storage Account Keys - 208.104.92.208",
        "2021-06-24 19:52:38.217000+00:00 - Azure - List Storage Account Keys - 208.104.92.208",
        "2021-06-24 19:52:38.266000+00:00 - Azure - List Storage Account Keys - 208.104.92.208",
        "2021-06-24 19:52:38.297000+00:00 - Azure - List Storage Account Keys - 208.104.92.208",
        "2021-06-24 19:52:38.299000+00:00 - Azure - List Storage Account Keys - 208.104.92.208",
        "2021-06-24 19:52:38.405000+00:00 - Azure - List Storage Account Keys - 208.104.92.208",
        "2021-06-24 19:52:38.455000+00:00 - Azure - List Storage Account Keys - 208.104.92.208",
        "2021-06-24 19:52:38.490000+00:00 - Azure - List Storage Account Keys - 208.104.92.208",
        "2021-06-24 19:52:38.506000+00:00 - Azure - List Storage Account Keys - 208.104.92.208",
        "2021-06-24 19:52:38.520000+00:00 - Azure - List Storage Account Keys - 208.104.92.208",
        "2021-06-24 19:52:38.556000+00:00 - Azure - List Storage Account Keys - 208.104.92.208",
        "2021-06-24 19:52:38.855000+00:00 - Azure - List Storage Account Keys - 208.104.92.208",
        "2021-06-24 19:52:38.900000+00:00 - Azure - List Storage Account Keys - 208.104.92.208",
        "2021-06-24 19:52:38.922000+00:00 - Azure - List Storage Account Keys - 208.104.92.208",
        "2021-06-24 19:52:38.927000+00:00 - Azure - List Storage Account Keys - 208.104.92.208",
        "2021-06-24 19:52:38.952000+00:00 - Azure - List Storage Account Keys - 208.104.92.208",
        "2021-06-24 19:52:38.957000+00:00 - Azure - List Storage Account Keys - 208.104.92.208",
        "2021-06-24 19:52:39.324000+00:00 - Azure - List Storage Account Keys - 208.104.92.208",
        "2021-06-24 19:52:39.399000+00:00 - Azure - List Storage Account Keys - 208.104.92.208",
        "2021-06-24 19:52:39.518000+00:00 - Azure - List Storage Account Keys - 208.104.92.208",
        "2021-06-24 19:52:39.588000+00:00 - Azure - List Storage Account Keys - 208.104.92.208",
        "2021-06-24 19:52:41.396000+00:00 - Azure - List Storage Account Keys - 208.104.92.208",
        "2021-06-24 19:52:41.575000+00:00 - Azure - List Storage Account Keys - 208.104.92.208",
        "2021-06-24 19:52:42.118000+00:00 - Azure - List Storage Account Keys - 208.104.92.208",
        "2021-06-24 19:52:42.148000+00:00 - Azure - List Storage Account Keys - 208.104.92.208",
        "2021-06-24 19:52:42.246000+00:00 - Azure - List Storage Account Keys - 208.104.92.208",
        "2021-06-24 19:52:42.280000+00:00 - Azure - List Storage Account Keys - 208.104.92.208",
        "2021-06-24 19:52:42.291000+00:00 - Azure - List Storage Account Keys - 208.104.92.208",
        "2021-06-24 19:52:42.441000+00:00 - Azure - List Storage Account Keys - 208.104.92.208",
        "2021-06-24 19:52:42.476000+00:00 - Azure - List Storage Account Keys - 208.104.92.208",
        "2021-06-24 19:52:42.520000+00:00 - Azure - List Storage Account Keys - 208.104.92.208",
        "2021-06-24 19:52:42.551000+00:00 - Azure - List Storage Account Keys - 208.104.92.208",
        "2021-06-24 19:52:42.581000+00:00 - Azure - List Storage Account Keys - 208.104.92.208",
        "2021-06-24 19:52:42.609000+00:00 - Azure - List Storage Account Keys - 208.104.92.208",
        "2021-06-24 19:52:42.709000+00:00 - Azure - List Storage Account Keys - 208.104.92.208",
        "2021-06-24 19:53:35.400000+00:00 - Azure AD - Sign-in activity - 208.104.92.208",
        "2021-06-24 19:55:15.496000+00:00 - Azure - List Storage Account Keys - 208.104.92.208",
        "2021-06-24 19:55:15.553000+00:00 - Azure - List Storage Account Keys - 208.104.92.208",
        "2021-06-24 19:55:15.571000+00:00 - Azure - List Storage Account Keys - 208.104.92.208",
        "2021-06-24 19:55:15.615000+00:00 - Azure - List Storage Account Keys - 208.104.92.208",
        "2021-06-24 19:55:15.628000+00:00 - Azure - List Storage Account Keys - 208.104.92.208",
        "2021-06-24 19:55:15.701000+00:00 - Azure - List Storage Account Keys - 208.104.92.208",
        "2021-06-24 19:55:15.760000+00:00 - Azure - List Storage Account Keys - 208.104.92.208",
        "2021-06-24 19:55:15.820000+00:00 - Azure - List Storage Account Keys - 208.104.92.208",
        "2021-06-24 19:55:15.834000+00:00 - Azure - List Storage Account Keys - 208.104.92.208",
        "2021-06-24 19:55:15.841000+00:00 - Azure - List Storage Account Keys - 208.104.92.208",
        "2021-06-24 19:55:15.856000+00:00 - Azure - List Storage Account Keys - 208.104.92.208",
        "2021-06-24 19:55:15.871000+00:00 - Azure - List Storage Account Keys - 208.104.92.208",
        "2021-06-24 19:55:15.897000+00:00 - Azure - List Storage Account Keys - 208.104.92.208",
        "2021-06-24 19:55:15.953000+00:00 - Azure - List Storage Account Keys - 208.104.92.208",
        "2021-06-24 19:55:15.962000+00:00 - Azure - List Storage Account Keys - 208.104.92.208",
        "2021-06-24 19:55:15.997000+00:00 - Azure - List Storage Account Keys - 208.104.92.208",
        "2021-06-24 19:55:16.027000+00:00 - Azure - List Storage Account Keys - 208.104.92.208",
        "2021-06-24 19:55:16.055000+00:00 - Azure - List Storage Account Keys - 208.104.92.208",
        "2021-06-24 19:55:16.120000+00:00 - Azure - List Storage Account Keys - 208.104.92.208",
        "2021-06-24 19:55:16.178000+00:00 - Azure - List Storage Account Keys - 208.104.92.208",
        "2021-06-24 19:55:16.239000+00:00 - Azure - List Storage Account Keys - 208.104.92.208",
        "2021-06-24 19:55:16.249000+00:00 - Azure - List Storage Account Keys - 208.104.92.208",
        "2021-06-24 19:55:16.274000+00:00 - Azure - List Storage Account Keys - 208.104.92.208",
        "2021-06-24 19:55:16.294000+00:00 - Azure - List Storage Account Keys - 208.104.92.208",
        "2021-06-24 19:55:16.306000+00:00 - Azure - List Storage Account Keys - 208.104.92.208",
        "2021-06-24 19:55:16.341000+00:00 - Azure - List Storage Account Keys - 208.104.92.208",
        "2021-06-24 19:55:16.488000+00:00 - Azure - List Storage Account Keys - 208.104.92.208",
        "2021-06-24 19:55:16.693000+00:00 - Azure - List Storage Account Keys - 208.104.92.208",
        "2021-06-24 19:55:17.654000+00:00 - Azure - List Storage Account Keys - 208.104.92.208",
        "2021-06-24 19:55:17.689000+00:00 - Azure - List Storage Account Keys - 208.104.92.208",
        "2021-06-24 19:55:17.909000+00:00 - Azure - List Storage Account Keys - 208.104.92.208",
        "2021-06-24 19:55:17.944000+00:00 - Azure - List Storage Account Keys - 208.104.92.208",
        "2021-06-24 19:55:17.950000+00:00 - Azure - List Storage Account Keys - 208.104.92.208",
        "2021-06-24 19:55:17.980000+00:00 - Azure - List Storage Account Keys - 208.104.92.208",
        "2021-06-24 19:55:18.079000+00:00 - Azure - List Storage Account Keys - 208.104.92.208",
        "2021-06-24 19:55:18.119000+00:00 - Azure - List Storage Account Keys - 208.104.92.208",
        "2021-06-24 19:55:18.185000+00:00 - Azure - List Storage Account Keys - 208.104.92.208",
        "2021-06-24 19:55:18.220000+00:00 - Azure - List Storage Account Keys - 208.104.92.208",
        "2021-06-24 19:55:18.292000+00:00 - Azure - List Storage Account Keys - 208.104.92.208",
        "2021-06-24 19:55:18.387000+00:00 - Azure - List Storage Account Keys - 208.104.92.208",
        "2021-06-24 19:56:57.242000+00:00 - Azure AD - Sign-in activity - 208.104.92.208",
        "2021-06-24 19:59:50.342000+00:00 - Azure - 'audit' Policy action. - ",
        "2021-06-24 19:59:50.342000+00:00 - Azure - 'auditIfNotExists' Policy action. - ",
        "2021-06-24 20:00:16.745000+00:00 - Azure - Create/Update Storage Account - ",
        "2021-06-24 20:02:57.137000+00:00 - Azure - List Workspace Shared Keys - 208.104.92.208",
        "2021-06-24 20:02:57.437000+00:00 - Azure - List Workspace Shared Keys - 208.104.92.208",
        "2021-06-24 20:03:54.942000+00:00 - Azure - List Storage Account Keys - 208.104.92.208",
        "2021-06-24 20:03:54.967000+00:00 - Azure - List Storage Account Keys - 208.104.92.208",
        "2021-06-24 20:03:56.427000+00:00 - Azure - Generate Recommendations - 208.104.92.208",
        "2021-06-24 20:03:56.477000+00:00 - Azure - Generate Recommendations - 208.104.92.208",
        "2021-06-24 20:03:58.160000+00:00 - Azure - List Storage Account Keys - 208.104.92.208",
        "2021-06-24 20:04:07.087000+00:00 - Azure - List Storage Account Keys - 208.104.92.208",
        "2021-06-24 20:04:07.127000+00:00 - Azure - List Storage Account Keys - 208.104.92.208"
       ],
       "description": "Select an item",
       "index": 0,
       "layout": "IPY_MODEL_98d45dbebfd143ba9073562bf91bfad7",
       "style": "IPY_MODEL_6b534158813f47b1974acb3f4a130228"
      }
     },
     "30fcee4cccc745b986cd120c87b2fb4d": {
      "model_module": "@jupyter-widgets/controls",
      "model_module_version": "1.5.0",
      "model_name": "HTMLModel",
      "state": {
       "layout": "IPY_MODEL_46f3d36377514ed690b58a81800dc494",
       "style": "IPY_MODEL_8586ea8cc4d74e63b4d17221dada8fc4",
       "value": "<h4>Set query time boundaries</h4>"
      }
     },
     "3195121babce463d8d9bf973afb8d68c": {
      "model_module": "@jupyter-widgets/controls",
      "model_module_version": "1.5.0",
      "model_name": "DescriptionStyleModel",
      "state": {
       "description_width": "initial"
      }
     },
     "320e39557fba4d00b4a84a4b558a28dd": {
      "model_module": "@jupyter-widgets/controls",
      "model_module_version": "1.5.0",
      "model_name": "TextModel",
      "state": {
       "description": "Filter:",
       "layout": "IPY_MODEL_22bdcc2e167745258277114bdc2ce1db",
       "style": "IPY_MODEL_e7b14ac71bec4c8498a4aa050ef41b2b"
      }
     },
     "386c77eb8427482c9e1bbf7407ec4e3c": {
      "model_module": "@jupyter-widgets/base",
      "model_module_version": "1.2.0",
      "model_name": "LayoutModel",
      "state": {}
     },
     "398cc29d36cd4317841a94b83cc6e5e4": {
      "model_module": "@jupyter-widgets/controls",
      "model_module_version": "1.5.0",
      "model_name": "DescriptionStyleModel",
      "state": {
       "description_width": ""
      }
     },
     "3a1d613f48804ae1962f049d7a91e714": {
      "model_module": "@jupyter-widgets/controls",
      "model_module_version": "1.5.0",
      "model_name": "TextModel",
      "state": {
       "description": "Filter:",
       "layout": "IPY_MODEL_c014456faf9a41f3a4b9b6f2c4dea983",
       "style": "IPY_MODEL_7adc54d2631f40de9732007f7c0f4dfc"
      }
     },
     "3b24569c70ef4bd791dde82762a06f4a": {
      "model_module": "@jupyter-widgets/controls",
      "model_module_version": "1.5.0",
      "model_name": "DescriptionStyleModel",
      "state": {
       "description_width": "initial"
      }
     },
     "3c7b305316464c7b9a54a64043654190": {
      "model_module": "@jupyter-widgets/base",
      "model_module_version": "1.2.0",
      "model_name": "LayoutModel",
      "state": {
       "width": "50%"
      }
     },
     "3e639137ba7d4ff9904ab667a4382473": {
      "model_module": "@jupyter-widgets/controls",
      "model_module_version": "1.5.0",
      "model_name": "DescriptionStyleModel",
      "state": {
       "description_width": "initial"
      }
     },
     "3f238a24a86d4cb3aa4daa5192c960c5": {
      "model_module": "@jupyter-widgets/controls",
      "model_module_version": "1.5.0",
      "model_name": "DescriptionStyleModel",
      "state": {
       "description_width": "initial"
      }
     },
     "418d5066e6924eff8c50d390b57811d1": {
      "model_module": "@jupyter-widgets/base",
      "model_module_version": "1.2.0",
      "model_name": "LayoutModel",
      "state": {}
     },
     "4195fbd13c8441ec93818f88f349751e": {
      "model_module": "@jupyter-widgets/controls",
      "model_module_version": "1.5.0",
      "model_name": "HBoxModel",
      "state": {
       "children": [
        "IPY_MODEL_4d82e0413878430b88d60b60e2376b97",
        "IPY_MODEL_818aa8aae5ac45b6ad25afad09b89f63"
       ],
       "layout": "IPY_MODEL_502c60b6e25540b1b0afc6b06dd1a4a9"
      }
     },
     "41b5b5ada6a343bb9c18da96a9875c8f": {
      "model_module": "@jupyter-widgets/controls",
      "model_module_version": "1.5.0",
      "model_name": "DescriptionStyleModel",
      "state": {
       "description_width": "initial"
      }
     },
     "4403957885f94812ab92e6c67e3f1296": {
      "model_module": "@jupyter-widgets/base",
      "model_module_version": "1.2.0",
      "model_name": "LayoutModel",
      "state": {}
     },
     "447a788a8e7a4ea69c561c7538a4dffd": {
      "model_module": "@jupyter-widgets/base",
      "model_module_version": "1.2.0",
      "model_name": "LayoutModel",
      "state": {}
     },
     "46f3d36377514ed690b58a81800dc494": {
      "model_module": "@jupyter-widgets/base",
      "model_module_version": "1.2.0",
      "model_name": "LayoutModel",
      "state": {}
     },
     "49a648ca2dd94c66957a1645b53e55d7": {
      "model_module": "@jupyter-widgets/base",
      "model_module_version": "1.2.0",
      "model_name": "LayoutModel",
      "state": {
       "width": "50%"
      }
     },
     "4d6c40ff53d74c28ae93f40a89c90d3d": {
      "model_module": "@jupyter-widgets/controls",
      "model_module_version": "1.5.0",
      "model_name": "DatePickerModel",
      "state": {
       "description": "Origin Date",
       "disabled": false,
       "layout": "IPY_MODEL_0d8729563ea14f63bdbe130803c18244",
       "style": "IPY_MODEL_398cc29d36cd4317841a94b83cc6e5e4",
       "value": {
        "date": 24,
        "month": 5,
        "year": 2021
       }
      }
     },
     "4d82e0413878430b88d60b60e2376b97": {
      "model_module": "@jupyter-widgets/controls",
      "model_module_version": "1.5.0",
      "model_name": "IntRangeSliderModel",
      "state": {
       "_model_name": "IntRangeSliderModel",
       "_view_name": "IntRangeSliderView",
       "description": "Time Range",
       "layout": "IPY_MODEL_6ecc6ca6924941fa802992194ed6c4bc",
       "max": 28,
       "min": -28,
       "style": "IPY_MODEL_8a9a124081df4fc69d32ac3686bf3792",
       "value": [
        -1,
        0
       ]
      }
     },
     "4f339c283e7f4c778d901975ff6fb943": {
      "model_module": "@jupyter-widgets/controls",
      "model_module_version": "1.5.0",
      "model_name": "DropdownModel",
      "state": {
       "_options_labels": [
        "minute",
        "hour",
        "day",
        "week"
       ],
       "index": 2,
       "layout": "IPY_MODEL_7b54bdfdf3dd412ba7bc9ffa1d87ebf5",
       "style": "IPY_MODEL_168b83dcb38643988778acf194c3422f"
      }
     },
     "502c60b6e25540b1b0afc6b06dd1a4a9": {
      "model_module": "@jupyter-widgets/base",
      "model_module_version": "1.2.0",
      "model_name": "LayoutModel",
      "state": {}
     },
     "527cb7bf3e9a47d6aaa4fb4b9a676e2c": {
      "model_module": "@jupyter-widgets/controls",
      "model_module_version": "1.5.0",
      "model_name": "TextModel",
      "state": {
       "description": "Query start time (UTC):",
       "layout": "IPY_MODEL_b6de265a05474e42b12dd7235a65228c",
       "style": "IPY_MODEL_8846663b5a0d4cc9b7e19025f09b940d",
       "value": "2021-06-23 20:19:43.448216"
      }
     },
     "52ebbc0687ee4bd29ed0cd9bf7ac404c": {
      "model_module": "@jupyter-widgets/controls",
      "model_module_version": "1.5.0",
      "model_name": "TextModel",
      "state": {
       "description": "Enter the Account name to search for:",
       "layout": "IPY_MODEL_0476345b858b4dd3b9d50b15aa9db79c",
       "style": "IPY_MODEL_3e639137ba7d4ff9904ab667a4382473",
       "value": "Admin"
      }
     },
     "5ba7769118414dac89ede69cbfabad87": {
      "model_module": "@jupyter-widgets/controls",
      "model_module_version": "1.5.0",
      "model_name": "DescriptionStyleModel",
      "state": {
       "description_width": ""
      }
     },
     "63d3d5609ecb4389a046aacbf3837193": {
      "model_module": "@jupyter-widgets/base",
      "model_module_version": "1.2.0",
      "model_name": "LayoutModel",
      "state": {
       "width": "95%"
      }
     },
     "6a99f7e3bf5a4c1bbfeedd127df6808b": {
      "model_module": "@jupyter-widgets/base",
      "model_module_version": "1.2.0",
      "model_name": "LayoutModel",
      "state": {}
     },
     "6b534158813f47b1974acb3f4a130228": {
      "model_module": "@jupyter-widgets/controls",
      "model_module_version": "1.5.0",
      "model_name": "DescriptionStyleModel",
      "state": {
       "description_width": "initial"
      }
     },
     "6bfad96455014e1aa08081cece05bc8b": {
      "model_module": "@jupyter-widgets/controls",
      "model_module_version": "1.5.0",
      "model_name": "TextModel",
      "state": {
       "description": "Filter:",
       "layout": "IPY_MODEL_d663d02b91384e58bd2c0e723e9e68d4",
       "style": "IPY_MODEL_41b5b5ada6a343bb9c18da96a9875c8f"
      }
     },
     "6dee70f6dc5b464293988f4ef2b5ec38": {
      "model_module": "@jupyter-widgets/controls",
      "model_module_version": "1.5.0",
      "model_name": "HBoxModel",
      "state": {
       "children": [
        "IPY_MODEL_dfd0a0ce601a437a8c9b7bce5c315541",
        "IPY_MODEL_e036d5dae4244a24bc66554880a83ace"
       ],
       "layout": "IPY_MODEL_b8002b177cc14b84bf739c647840fe9b"
      }
     },
     "6ecc6ca6924941fa802992194ed6c4bc": {
      "model_module": "@jupyter-widgets/base",
      "model_module_version": "1.2.0",
      "model_name": "LayoutModel",
      "state": {
       "width": "70%"
      }
     },
     "6eeda35b174c48d799c6a891b733eddd": {
      "model_module": "@jupyter-widgets/base",
      "model_module_version": "1.2.0",
      "model_name": "LayoutModel",
      "state": {}
     },
     "72d3d8d543f24fbe8c6ab87c83a6f97e": {
      "model_module": "@jupyter-widgets/controls",
      "model_module_version": "1.5.0",
      "model_name": "DescriptionStyleModel",
      "state": {
       "description_width": "initial"
      }
     },
     "72dee2986b534a31bc70f2faa7a22503": {
      "model_module": "@jupyter-widgets/base",
      "model_module_version": "1.2.0",
      "model_name": "LayoutModel",
      "state": {}
     },
     "75bb4f8e3be64d48a6080e5beb687f1f": {
      "model_module": "@jupyter-widgets/controls",
      "model_module_version": "1.5.0",
      "model_name": "DescriptionStyleModel",
      "state": {
       "description_width": "initial"
      }
     },
     "76ac827cd71745e4a14a61db0741649e": {
      "model_module": "@jupyter-widgets/controls",
      "model_module_version": "1.5.0",
      "model_name": "HTMLModel",
      "state": {
       "layout": "IPY_MODEL_a576ea3c3e5f431fae290d6a68958cc4",
       "style": "IPY_MODEL_ac3aed867a274e9094776cfc19a8c066",
       "value": "<h4>Set time range for pivot functions.</h4>"
      }
     },
     "78dca33797084d7abf5a72a944e6963b": {
      "model_module": "@jupyter-widgets/base",
      "model_module_version": "1.2.0",
      "model_name": "LayoutModel",
      "state": {
       "height": "300px",
       "width": "70%"
      }
     },
     "7a3ee07749a5425cbd5fedeaefa257ff": {
      "model_module": "@jupyter-widgets/controls",
      "model_module_version": "1.5.0",
      "model_name": "VBoxModel",
      "state": {
       "children": [
        "IPY_MODEL_76ac827cd71745e4a14a61db0741649e",
        "IPY_MODEL_f6a6cc5218f64eedae00f2ef56190fbc",
        "IPY_MODEL_ca948dd1dfdc448fa07fde29ec335716"
       ],
       "layout": "IPY_MODEL_a7a733913a924c3a85fa86770435ee86"
      }
     },
     "7adc54d2631f40de9732007f7c0f4dfc": {
      "model_module": "@jupyter-widgets/controls",
      "model_module_version": "1.5.0",
      "model_name": "DescriptionStyleModel",
      "state": {
       "description_width": "initial"
      }
     },
     "7b54bdfdf3dd412ba7bc9ffa1d87ebf5": {
      "model_module": "@jupyter-widgets/base",
      "model_module_version": "1.2.0",
      "model_name": "LayoutModel",
      "state": {
       "width": "100px"
      }
     },
     "7c59f822ebe24b6985110105b3b6ad82": {
      "model_module": "@jupyter-widgets/controls",
      "model_module_version": "1.5.0",
      "model_name": "SelectModel",
      "state": {
       "_options_labels": [
        "2021-06-22 17:24:03+00:00 - Anomalous AAD Account Creation - ()  - [id:5b67a8d5-fe80-3267-f07e-d39d96aaa901]",
        "2021-06-22 17:24:03+00:00 - Anomalous AAD Account Creation - ()  - [id:f1303610-29a5-72c9-fcc6-95ea20d21186]",
        "2021-06-22 17:24:03+00:00 - Anomalous AAD Account Creation - ()  - [id:16ddd5d7-084f-a5a5-0435-356929d44206]",
        "2021-06-22 17:24:03+00:00 - Anomalous AAD Account Creation - ()  - [id:c0b69945-6912-c18a-3dc3-61ff1ceeb059]",
        "2021-06-22 17:24:03+00:00 - Anomalous AAD Account Creation - ()  - [id:09fe2105-266b-63ab-6bbd-9b7a620aea78]",
        "2021-06-22 17:24:03+00:00 - Anomalous AAD Account Creation - ()  - [id:f5ba368e-82e3-b049-ead6-d4bc13fe401e]",
        "2021-06-22 17:24:03+00:00 - Anomalous AAD Account Creation - ()  - [id:93cc7aa4-0692-4937-3724-6baf6d2ead5b]",
        "2021-06-22 17:24:03+00:00 - Anomalous AAD Account Creation - ()  - [id:5ce0aa9f-a565-2264-2c9a-b91abd900ad7]",
        "2021-06-22 17:24:03+00:00 - Anomalous AAD Account Creation - ()  - [id:84f0f8ba-1f56-477a-2a6f-41a9f9aeb03e]",
        "2021-06-22 17:24:03+00:00 - Anomalous AAD Account Creation - ()  - [id:cb082b60-2ce0-15c3-3d85-97e381189a93]",
        "2021-06-22 17:24:03+00:00 - Anomalous AAD Account Creation - ()  - [id:3d4c4bb5-28db-fbd0-910c-cd0edd891624]",
        "2021-06-22 17:24:03+00:00 - Anomalous AAD Account Creation - ()  - [id:433f5196-3ea8-e32e-8ccc-6e5713219f32]",
        "2021-06-22 17:24:03+00:00 - Anomalous AAD Account Creation - ()  - [id:8c053188-b526-8c03-b138-e82f560ce569]"
       ],
       "description": "Select alert :",
       "index": 0,
       "layout": "IPY_MODEL_93e1b057592f4697b0be25602000c94d",
       "style": "IPY_MODEL_c5a96ef2da974f0d9f1a1fc12f6b3f21"
      }
     },
     "7d250d2ecae74aa0bde4839bc619968f": {
      "model_module": "@jupyter-widgets/base",
      "model_module_version": "1.2.0",
      "model_name": "LayoutModel",
      "state": {
       "width": "70%"
      }
     },
     "7d99111359e842d4af99b050eda260d7": {
      "model_module": "@jupyter-widgets/base",
      "model_module_version": "1.2.0",
      "model_name": "LayoutModel",
      "state": {}
     },
     "7e1e802508aa493dbc906224593de952": {
      "model_module": "@jupyter-widgets/controls",
      "model_module_version": "1.5.0",
      "model_name": "DescriptionStyleModel",
      "state": {
       "description_width": ""
      }
     },
     "818aa8aae5ac45b6ad25afad09b89f63": {
      "model_module": "@jupyter-widgets/controls",
      "model_module_version": "1.5.0",
      "model_name": "DropdownModel",
      "state": {
       "_options_labels": [
        "minute",
        "hour",
        "day",
        "week"
       ],
       "index": 2,
       "layout": "IPY_MODEL_d473e8f867b24a4a867f460753ff373c",
       "style": "IPY_MODEL_e9ba0adb8ff14b76a356714a91e3f485"
      }
     },
     "81f463ef69904440a8e014c935b099cf": {
      "model_module": "@jupyter-widgets/controls",
      "model_module_version": "1.5.0",
      "model_name": "IntRangeSliderModel",
      "state": {
       "_model_name": "IntRangeSliderModel",
       "_view_name": "IntRangeSliderView",
       "description": "Time Range",
       "layout": "IPY_MODEL_d46d75b32516487c994d181ccfa42e3f",
       "max": 28,
       "min": -28,
       "style": "IPY_MODEL_02cb91cb012a4de7960017c311c0f390",
       "value": [
        -1,
        1
       ]
      }
     },
     "81fb2c041e744cbf95d3751dd85e91a2": {
      "model_module": "@jupyter-widgets/base",
      "model_module_version": "1.2.0",
      "model_name": "LayoutModel",
      "state": {
       "width": "70%"
      }
     },
     "8397a750bc1e4b6fa3e69d5588aa1211": {
      "model_module": "@jupyter-widgets/base",
      "model_module_version": "1.2.0",
      "model_name": "LayoutModel",
      "state": {
       "height": "200px",
       "width": "100%"
      }
     },
     "83f9ad4ab7974fb699caedda3f255484": {
      "model_module": "@jupyter-widgets/controls",
      "model_module_version": "1.5.0",
      "model_name": "VBoxModel",
      "state": {
       "children": [
        "IPY_MODEL_30fcee4cccc745b986cd120c87b2fb4d",
        "IPY_MODEL_0786389adb964a84b65d38670e6cd31d",
        "IPY_MODEL_2dfd15136917453a923122646bd7185b"
       ],
       "layout": "IPY_MODEL_884249f0aa874fe59ec3b72c0e6fdf1a"
      }
     },
     "84c458b59ff24e2395591fb6a7fa0bbc": {
      "model_module": "@jupyter-widgets/controls",
      "model_module_version": "1.5.0",
      "model_name": "SelectModel",
      "state": {
       "_options_labels": [
        "2021-06-24 19:50:07.300000+00:00 - Azure - Create/Update Storage Account - ",
        "2021-06-24 19:49:49.938000+00:00 - Azure - 'auditIfNotExists' Policy action. - ",
        "2021-06-24 19:49:47.923000+00:00 - Azure - 'audit' Policy action. - ",
        "2021-06-24 19:59:50.342000+00:00 - Azure - 'audit' Policy action. - ",
        "2021-06-24 19:50:09.859000+00:00 - Azure - Create Deployment - ",
        "2021-06-24 19:59:50.342000+00:00 - Azure - 'auditIfNotExists' Policy action. - ",
        "2021-06-24 20:00:16.745000+00:00 - Azure - Create/Update Storage Account - ",
        "2021-06-24 19:52:38.405000+00:00 - Azure - List Storage Account Keys - 208.104.92.208",
        "2021-06-24 19:52:38.299000+00:00 - Azure - List Storage Account Keys - 208.104.92.208",
        "2021-06-24 19:52:38.297000+00:00 - Azure - List Storage Account Keys - 208.104.92.208",
        "2021-06-24 19:52:38.266000+00:00 - Azure - List Storage Account Keys - 208.104.92.208",
        "2021-06-24 19:52:38.490000+00:00 - Azure - List Storage Account Keys - 208.104.92.208",
        "2021-06-24 19:52:38.506000+00:00 - Azure - List Storage Account Keys - 208.104.92.208",
        "2021-06-24 19:52:38.217000+00:00 - Azure - List Storage Account Keys - 208.104.92.208",
        "2021-06-24 19:52:38.214000+00:00 - Azure - List Storage Account Keys - 208.104.92.208",
        "2021-06-24 19:52:38.520000+00:00 - Azure - List Storage Account Keys - 208.104.92.208",
        "2021-06-24 19:52:38.556000+00:00 - Azure - List Storage Account Keys - 208.104.92.208",
        "2021-06-24 19:52:38.455000+00:00 - Azure - List Storage Account Keys - 208.104.92.208",
        "2021-06-24 19:52:38.855000+00:00 - Azure - List Storage Account Keys - 208.104.92.208",
        "2021-06-21 15:03:56.995000+00:00 - Azure AD - Sign-in activity - 208.104.92.208",
        "2021-06-24 19:52:38.922000+00:00 - Azure - List Storage Account Keys - 208.104.92.208",
        "2021-06-24 19:52:38.927000+00:00 - Azure - List Storage Account Keys - 208.104.92.208",
        "2021-06-24 19:52:38.191000+00:00 - Azure - List Storage Account Keys - 208.104.92.208",
        "2021-06-24 19:52:38.952000+00:00 - Azure - List Storage Account Keys - 208.104.92.208",
        "2021-06-24 19:52:38.957000+00:00 - Azure - List Storage Account Keys - 208.104.92.208",
        "2021-06-24 19:52:39.324000+00:00 - Azure - List Storage Account Keys - 208.104.92.208",
        "2021-06-24 19:52:39.399000+00:00 - Azure - List Storage Account Keys - 208.104.92.208",
        "2021-06-24 19:52:39.518000+00:00 - Azure - List Storage Account Keys - 208.104.92.208",
        "2021-06-24 19:52:39.588000+00:00 - Azure - List Storage Account Keys - 208.104.92.208",
        "2021-06-24 19:52:41.396000+00:00 - Azure - List Storage Account Keys - 208.104.92.208",
        "2021-06-24 19:52:41.575000+00:00 - Azure - List Storage Account Keys - 208.104.92.208",
        "2021-06-24 19:52:42.118000+00:00 - Azure - List Storage Account Keys - 208.104.92.208",
        "2021-06-24 19:52:42.148000+00:00 - Azure - List Storage Account Keys - 208.104.92.208",
        "2021-06-24 19:52:38.900000+00:00 - Azure - List Storage Account Keys - 208.104.92.208",
        "2021-06-24 19:52:38.119000+00:00 - Azure - List Storage Account Keys - 208.104.92.208",
        "2021-06-24 19:52:16.096000+00:00 - Azure - List Storage Account Keys - 208.104.92.208",
        "2021-06-24 19:52:22.030000+00:00 - Azure - List Storage Account Keys - 208.104.92.208",
        "2021-06-24 19:52:15.356000+00:00 - Azure - List Storage Account Keys - 208.104.92.208",
        "2021-06-24 19:52:15.374000+00:00 - Azure - List Storage Account Keys - 208.104.92.208",
        "2021-06-24 19:52:15.442000+00:00 - Azure - List Storage Account Keys - 208.104.92.208",
        "2021-06-24 19:52:15.444000+00:00 - Azure - List Storage Account Keys - 208.104.92.208",
        "2021-06-24 19:52:15.505000+00:00 - Azure - List Storage Account Keys - 208.104.92.208",
        "2021-06-24 19:52:15.535000+00:00 - Azure - List Storage Account Keys - 208.104.92.208",
        "2021-06-24 19:52:15.597000+00:00 - Azure - List Storage Account Keys - 208.104.92.208",
        "2021-06-24 19:52:15.599000+00:00 - Azure - List Storage Account Keys - 208.104.92.208",
        "2021-06-24 19:52:15.634000+00:00 - Azure - List Storage Account Keys - 208.104.92.208",
        "2021-06-24 19:52:15.662000+00:00 - Azure - List Storage Account Keys - 208.104.92.208",
        "2021-06-24 19:52:15.681000+00:00 - Azure - List Storage Account Keys - 208.104.92.208",
        "2021-06-24 19:52:15.706000+00:00 - Azure - List Storage Account Keys - 208.104.92.208",
        "2021-06-24 19:52:15.717000+00:00 - Azure - List Storage Account Keys - 208.104.92.208",
        "2021-06-24 19:52:15.760000+00:00 - Azure - List Storage Account Keys - 208.104.92.208",
        "2021-06-24 19:52:15.805000+00:00 - Azure - List Storage Account Keys - 208.104.92.208",
        "2021-06-24 19:52:15.812000+00:00 - Azure - List Storage Account Keys - 208.104.92.208",
        "2021-06-24 19:52:15.852000+00:00 - Azure - List Storage Account Keys - 208.104.92.208",
        "2021-06-24 19:52:15.917000+00:00 - Azure - List Storage Account Keys - 208.104.92.208",
        "2021-06-24 19:52:15.947000+00:00 - Azure - List Storage Account Keys - 208.104.92.208",
        "2021-06-24 19:52:15.966000+00:00 - Azure - List Storage Account Keys - 208.104.92.208",
        "2021-06-24 19:52:15.996000+00:00 - Azure - List Storage Account Keys - 208.104.92.208",
        "2021-06-24 19:52:16.081000+00:00 - Azure - List Storage Account Keys - 208.104.92.208",
        "2021-06-24 19:52:42.246000+00:00 - Azure - List Storage Account Keys - 208.104.92.208",
        "2021-06-24 19:52:16.151000+00:00 - Azure - List Storage Account Keys - 208.104.92.208",
        "2021-06-24 19:52:16.226000+00:00 - Azure - List Storage Account Keys - 208.104.92.208",
        "2021-06-24 19:52:38.029000+00:00 - Azure - List Storage Account Keys - 208.104.92.208",
        "2021-06-24 19:52:42.280000+00:00 - Azure - List Storage Account Keys - 208.104.92.208",
        "2021-06-24 19:52:42.551000+00:00 - Azure - List Storage Account Keys - 208.104.92.208",
        "2021-06-24 19:52:42.441000+00:00 - Azure - List Storage Account Keys - 208.104.92.208",
        "2021-06-24 19:55:16.294000+00:00 - Azure - List Storage Account Keys - 208.104.92.208",
        "2021-06-24 19:55:16.306000+00:00 - Azure - List Storage Account Keys - 208.104.92.208",
        "2021-06-24 19:55:16.341000+00:00 - Azure - List Storage Account Keys - 208.104.92.208",
        "2021-06-24 19:55:16.488000+00:00 - Azure - List Storage Account Keys - 208.104.92.208",
        "2021-06-24 19:55:16.693000+00:00 - Azure - List Storage Account Keys - 208.104.92.208",
        "2021-06-24 19:55:17.654000+00:00 - Azure - List Storage Account Keys - 208.104.92.208",
        "2021-06-24 19:55:17.689000+00:00 - Azure - List Storage Account Keys - 208.104.92.208",
        "2021-06-24 19:55:17.909000+00:00 - Azure - List Storage Account Keys - 208.104.92.208",
        "2021-06-24 19:55:17.944000+00:00 - Azure - List Storage Account Keys - 208.104.92.208",
        "2021-06-24 19:55:17.950000+00:00 - Azure - List Storage Account Keys - 208.104.92.208",
        "2021-06-24 19:55:17.980000+00:00 - Azure - List Storage Account Keys - 208.104.92.208",
        "2021-06-24 19:55:18.079000+00:00 - Azure - List Storage Account Keys - 208.104.92.208",
        "2021-06-24 19:55:18.119000+00:00 - Azure - List Storage Account Keys - 208.104.92.208",
        "2021-06-24 19:55:18.185000+00:00 - Azure - List Storage Account Keys - 208.104.92.208",
        "2021-06-24 19:55:18.220000+00:00 - Azure - List Storage Account Keys - 208.104.92.208",
        "2021-06-24 19:55:18.292000+00:00 - Azure - List Storage Account Keys - 208.104.92.208",
        "2021-06-24 19:55:18.387000+00:00 - Azure - List Storage Account Keys - 208.104.92.208",
        "2021-06-24 19:56:57.242000+00:00 - Azure AD - Sign-in activity - 208.104.92.208",
        "2021-06-24 20:02:57.137000+00:00 - Azure - List Workspace Shared Keys - 208.104.92.208",
        "2021-06-24 20:02:57.437000+00:00 - Azure - List Workspace Shared Keys - 208.104.92.208",
        "2021-06-24 20:03:54.942000+00:00 - Azure - List Storage Account Keys - 208.104.92.208",
        "2021-06-24 20:03:54.967000+00:00 - Azure - List Storage Account Keys - 208.104.92.208",
        "2021-06-24 20:03:56.427000+00:00 - Azure - Generate Recommendations - 208.104.92.208",
        "2021-06-24 20:03:56.477000+00:00 - Azure - Generate Recommendations - 208.104.92.208",
        "2021-06-24 20:03:58.160000+00:00 - Azure - List Storage Account Keys - 208.104.92.208",
        "2021-06-24 19:55:16.274000+00:00 - Azure - List Storage Account Keys - 208.104.92.208",
        "2021-06-24 19:55:16.249000+00:00 - Azure - List Storage Account Keys - 208.104.92.208",
        "2021-06-24 19:55:16.239000+00:00 - Azure - List Storage Account Keys - 208.104.92.208",
        "2021-06-24 19:55:16.178000+00:00 - Azure - List Storage Account Keys - 208.104.92.208",
        "2021-06-24 19:52:42.476000+00:00 - Azure - List Storage Account Keys - 208.104.92.208",
        "2021-06-24 19:52:42.520000+00:00 - Azure - List Storage Account Keys - 208.104.92.208",
        "2021-06-24 19:52:15.311000+00:00 - Azure - List Storage Account Keys - 208.104.92.208",
        "2021-06-24 19:52:42.581000+00:00 - Azure - List Storage Account Keys - 208.104.92.208",
        "2021-06-24 19:52:42.609000+00:00 - Azure - List Storage Account Keys - 208.104.92.208",
        "2021-06-24 19:52:42.709000+00:00 - Azure - List Storage Account Keys - 208.104.92.208",
        "2021-06-24 19:53:35.400000+00:00 - Azure AD - Sign-in activity - 208.104.92.208",
        "2021-06-24 19:55:15.496000+00:00 - Azure - List Storage Account Keys - 208.104.92.208",
        "2021-06-24 19:55:15.553000+00:00 - Azure - List Storage Account Keys - 208.104.92.208",
        "2021-06-24 19:55:15.571000+00:00 - Azure - List Storage Account Keys - 208.104.92.208",
        "2021-06-24 19:55:15.615000+00:00 - Azure - List Storage Account Keys - 208.104.92.208",
        "2021-06-24 19:55:15.628000+00:00 - Azure - List Storage Account Keys - 208.104.92.208",
        "2021-06-24 19:52:42.291000+00:00 - Azure - List Storage Account Keys - 208.104.92.208",
        "2021-06-24 19:55:15.701000+00:00 - Azure - List Storage Account Keys - 208.104.92.208",
        "2021-06-24 19:55:15.820000+00:00 - Azure - List Storage Account Keys - 208.104.92.208",
        "2021-06-24 19:55:15.834000+00:00 - Azure - List Storage Account Keys - 208.104.92.208",
        "2021-06-24 19:55:15.841000+00:00 - Azure - List Storage Account Keys - 208.104.92.208",
        "2021-06-24 19:55:15.856000+00:00 - Azure - List Storage Account Keys - 208.104.92.208",
        "2021-06-24 19:55:15.871000+00:00 - Azure - List Storage Account Keys - 208.104.92.208",
        "2021-06-24 19:55:15.897000+00:00 - Azure - List Storage Account Keys - 208.104.92.208",
        "2021-06-24 19:55:15.953000+00:00 - Azure - List Storage Account Keys - 208.104.92.208",
        "2021-06-24 19:55:15.962000+00:00 - Azure - List Storage Account Keys - 208.104.92.208",
        "2021-06-24 19:55:15.997000+00:00 - Azure - List Storage Account Keys - 208.104.92.208",
        "2021-06-24 19:55:16.027000+00:00 - Azure - List Storage Account Keys - 208.104.92.208",
        "2021-06-24 19:55:16.055000+00:00 - Azure - List Storage Account Keys - 208.104.92.208",
        "2021-06-24 19:55:16.120000+00:00 - Azure - List Storage Account Keys - 208.104.92.208",
        "2021-06-24 19:55:15.760000+00:00 - Azure - List Storage Account Keys - 208.104.92.208",
        "2021-06-24 19:52:15.290000+00:00 - Azure - List Storage Account Keys - 208.104.92.208",
        "2021-06-24 19:52:15.239000+00:00 - Azure - List Storage Account Keys - 208.104.92.208",
        "2021-06-24 20:04:07.087000+00:00 - Azure - List Storage Account Keys - 208.104.92.208",
        "2021-06-24 19:50:43.946000+00:00 - Azure - List Storage Account Keys - 208.104.92.208",
        "2021-06-24 19:50:43.996000+00:00 - Azure - List Storage Account Keys - 208.104.92.208",
        "2021-06-24 19:50:44.045000+00:00 - Azure - List Storage Account Keys - 208.104.92.208",
        "2021-06-24 19:50:44.075000+00:00 - Azure - List Storage Account Keys - 208.104.92.208",
        "2021-06-24 19:50:44.089000+00:00 - Azure - List Storage Account Keys - 208.104.92.208",
        "2021-06-24 19:50:44.091000+00:00 - Azure - List Storage Account Keys - 208.104.92.208",
        "2021-06-24 19:50:44.149000+00:00 - Azure - List Storage Account Keys - 208.104.92.208",
        "2021-06-24 19:50:44.156000+00:00 - Azure - List Storage Account Keys - 208.104.92.208",
        "2021-06-24 19:50:44.196000+00:00 - Azure - List Storage Account Keys - 208.104.92.208",
        "2021-06-24 19:50:44.206000+00:00 - Azure - List Storage Account Keys - 208.104.92.208",
        "2021-06-24 19:50:44.236000+00:00 - Azure - List Storage Account Keys - 208.104.92.208",
        "2021-06-24 19:50:43.924000+00:00 - Azure - List Storage Account Keys - 208.104.92.208",
        "2021-06-24 19:50:44.269000+00:00 - Azure - List Storage Account Keys - 208.104.92.208",
        "2021-06-24 19:50:44.334000+00:00 - Azure - List Storage Account Keys - 208.104.92.208",
        "2021-06-24 19:50:44.359000+00:00 - Azure - List Storage Account Keys - 208.104.92.208",
        "2021-06-24 19:50:44.394000+00:00 - Azure - List Storage Account Keys - 208.104.92.208",
        "2021-06-24 19:50:44.454000+00:00 - Azure - List Storage Account Keys - 208.104.92.208",
        "2021-06-24 19:50:44.479000+00:00 - Azure - List Storage Account Keys - 208.104.92.208",
        "2021-06-24 19:50:44.499000+00:00 - Azure - List Storage Account Keys - 208.104.92.208",
        "2021-06-24 19:50:44.590000+00:00 - Azure - List Storage Account Keys - 208.104.92.208",
        "2021-06-24 19:50:44.640000+00:00 - Azure - List Storage Account Keys - 208.104.92.208",
        "2021-06-24 19:50:44.753000+00:00 - Azure - List Storage Account Keys - 208.104.92.208",
        "2021-06-24 19:50:44.815000+00:00 - Azure - List Storage Account Keys - 208.104.92.208",
        "2021-06-24 19:50:44.845000+00:00 - Azure - List Storage Account Keys - 208.104.92.208",
        "2021-06-24 19:50:45.014000+00:00 - Azure - List Storage Account Keys - 208.104.92.208",
        "2021-06-24 19:50:44.294000+00:00 - Azure - List Storage Account Keys - 208.104.92.208",
        "2021-06-24 19:50:43.874000+00:00 - Azure - List Storage Account Keys - 208.104.92.208",
        "2021-06-24 19:50:43.871000+00:00 - Azure - List Storage Account Keys - 208.104.92.208",
        "2021-06-24 19:50:43.808000+00:00 - Azure - List Storage Account Keys - 208.104.92.208",
        "2021-06-21 15:05:49.439000+00:00 - Azure AD - Sign-in activity - 208.104.92.208",
        "2021-06-21 15:06:27.025000+00:00 - Azure AD - Sign-in activity - 208.104.92.208",
        "2021-06-21 15:06:34.021000+00:00 - Azure AD - Sign-in activity - 208.104.92.208",
        "2021-06-22 12:17:09.380000+00:00 - Azure AD - Sign-in activity - 208.104.92.208",
        "2021-06-22 17:22:07.606000+00:00 - Azure AD - Sign-in activity - 208.104.92.208",
        "2021-06-22 18:49:38.929000+00:00 - Azure AD - Sign-in activity - 208.104.92.208",
        "2021-06-23 12:54:12.780000+00:00 - Azure AD - Sign-in activity - 208.104.92.208",
        "2021-06-23 14:39:09.503000+00:00 - Azure AD - Sign-in activity - 208.104.92.208",
        "2021-06-23 15:55:48.850000+00:00 - Azure AD - Sign-in activity - 208.104.92.208",
        "2021-06-24 14:14:18.669000+00:00 - Azure AD - Sign-in activity - 208.104.92.208",
        "2021-06-24 18:46:52.376000+00:00 - Azure AD - Sign-in activity - 208.104.92.208",
        "2021-06-24 18:46:59.563000+00:00 - Azure AD - Sign-in activity - 208.104.92.208",
        "2021-06-24 19:29:09.085000+00:00 - Azure AD - Sign-in activity - 208.104.92.208",
        "2021-06-24 19:49:47.708000+00:00 - Azure - Create/Update Storage Account - 208.104.92.208",
        "2021-06-24 19:49:49.983000+00:00 - Azure - Create/Update Storage Account - 208.104.92.208",
        "2021-06-24 19:50:09.399000+00:00 - Azure - Put blob service properties - 208.104.92.208",
        "2021-06-24 19:50:09.559000+00:00 - Azure - Put blob service properties - 208.104.92.208",
        "2021-06-24 19:50:09.654000+00:00 - Azure - Put File Service Properties - 208.104.92.208",
        "2021-06-24 19:50:09.734000+00:00 - Azure - Put File Service Properties - 208.104.92.208",
        "2021-06-24 19:50:43.038000+00:00 - Azure - List Storage Account Keys - 208.104.92.208",
        "2021-06-24 19:50:43.088000+00:00 - Azure - List Storage Account Keys - 208.104.92.208",
        "2021-06-24 19:50:43.624000+00:00 - Azure - List Storage Account Keys - 208.104.92.208",
        "2021-06-24 19:50:43.694000+00:00 - Azure - List Storage Account Keys - 208.104.92.208",
        "2021-06-24 19:50:43.743000+00:00 - Azure - List Storage Account Keys - 208.104.92.208",
        "2021-06-24 19:50:43.764000+00:00 - Azure - List Storage Account Keys - 208.104.92.208",
        "2021-06-24 19:50:43.786000+00:00 - Azure - List Storage Account Keys - 208.104.92.208",
        "2021-06-24 19:50:43.789000+00:00 - Azure - List Storage Account Keys - 208.104.92.208",
        "2021-06-24 19:50:45.049000+00:00 - Azure - List Storage Account Keys - 208.104.92.208",
        "2021-06-24 19:52:15.260000+00:00 - Azure - List Storage Account Keys - 208.104.92.208",
        "2021-06-24 19:50:45.089000+00:00 - Azure - List Storage Account Keys - 208.104.92.208",
        "2021-06-24 19:50:45.200000+00:00 - Azure - List Storage Account Keys - 208.104.92.208",
        "2021-06-24 19:51:23.100000+00:00 - Azure - List Storage Account Keys - 208.104.92.208",
        "2021-06-24 19:51:23.114000+00:00 - Azure - List Storage Account Keys - 208.104.92.208",
        "2021-06-24 19:51:23.164000+00:00 - Azure - List Storage Account Keys - 208.104.92.208",
        "2021-06-24 19:51:23.410000+00:00 - Azure - List Storage Account Keys - 208.104.92.208",
        "2021-06-24 19:51:23.739000+00:00 - Azure - List Storage Account Keys - 208.104.92.208",
        "2021-06-24 19:51:23.844000+00:00 - Azure - List Storage Account Keys - 208.104.92.208",
        "2021-06-24 19:51:23.884000+00:00 - Azure - List Storage Account Keys - 208.104.92.208",
        "2021-06-24 19:51:23.915000+00:00 - Azure - List Storage Account Keys - 208.104.92.208",
        "2021-06-24 19:51:47.233000+00:00 - Azure - Put blob container - 208.104.92.208",
        "2021-06-24 19:51:47.393000+00:00 - Azure - Put blob container - 208.104.92.208",
        "2021-06-24 19:52:13.595000+00:00 - Azure - List Storage Account Keys - 208.104.92.208",
        "2021-06-24 19:52:13.640000+00:00 - Azure - List Storage Account Keys - 208.104.92.208",
        "2021-06-24 19:51:23.044000+00:00 - Azure - List Storage Account Keys - 208.104.92.208",
        "2021-06-24 19:52:14.817000+00:00 - Azure - List Storage Account Keys - 208.104.92.208",
        "2021-06-24 19:52:14.875000+00:00 - Azure - List Storage Account Keys - 208.104.92.208",
        "2021-06-24 19:52:14.892000+00:00 - Azure - List Storage Account Keys - 208.104.92.208",
        "2021-06-24 19:52:14.940000+00:00 - Azure - List Storage Account Keys - 208.104.92.208",
        "2021-06-24 19:52:14.969000+00:00 - Azure - List Storage Account Keys - 208.104.92.208",
        "2021-06-24 19:52:15.039000+00:00 - Azure - List Storage Account Keys - 208.104.92.208",
        "2021-06-24 19:52:15.046000+00:00 - Azure - List Storage Account Keys - 208.104.92.208",
        "2021-06-24 19:52:15.076000+00:00 - Azure - List Storage Account Keys - 208.104.92.208",
        "2021-06-24 19:52:15.082000+00:00 - Azure - List Storage Account Keys - 208.104.92.208",
        "2021-06-24 19:52:15.164000+00:00 - Azure - List Storage Account Keys - 208.104.92.208",
        "2021-06-24 19:52:15.194000+00:00 - Azure - List Storage Account Keys - 208.104.92.208",
        "2021-06-24 19:52:15.222000+00:00 - Azure - List Storage Account Keys - 208.104.92.208",
        "2021-06-24 19:52:15.234000+00:00 - Azure - List Storage Account Keys - 208.104.92.208",
        "2021-06-24 19:52:14.852000+00:00 - Azure - List Storage Account Keys - 208.104.92.208",
        "2021-06-24 19:51:22.979000+00:00 - Azure - List Storage Account Keys - 208.104.92.208",
        "2021-06-24 19:51:22.964000+00:00 - Azure - List Storage Account Keys - 208.104.92.208",
        "2021-06-24 19:51:22.909000+00:00 - Azure - List Storage Account Keys - 208.104.92.208",
        "2021-06-24 19:51:17.474000+00:00 - Azure - List Storage Account Keys - 208.104.92.208",
        "2021-06-24 19:51:17.739000+00:00 - Azure - List Storage Account Keys - 208.104.92.208",
        "2021-06-24 19:51:18.178000+00:00 - Azure - List Storage Account Keys - 208.104.92.208",
        "2021-06-24 19:51:18.479000+00:00 - Azure - List Storage Account Keys - 208.104.92.208",
        "2021-06-24 19:51:18.564000+00:00 - Azure - List Storage Account Keys - 208.104.92.208",
        "2021-06-24 19:51:18.659000+00:00 - Azure - List Storage Account Keys - 208.104.92.208",
        "2021-06-24 19:51:18.689000+00:00 - Azure - List Storage Account Keys - 208.104.92.208",
        "2021-06-24 19:51:18.793000+00:00 - Azure - List Storage Account Keys - 208.104.92.208",
        "2021-06-24 19:51:18.823000+00:00 - Azure - List Storage Account Keys - 208.104.92.208",
        "2021-06-24 19:51:20.086000+00:00 - Azure - Generate Recommendations - 208.104.92.208",
        "2021-06-24 19:51:20.131000+00:00 - Azure - Generate Recommendations - 208.104.92.208",
        "2021-06-24 19:51:21.588000+00:00 - Azure - List Storage Account Keys - 208.104.92.208",
        "2021-06-24 19:51:21.778000+00:00 - Azure - List Storage Account Keys - 208.104.92.208",
        "2021-06-24 19:51:21.802000+00:00 - Azure - List Storage Account Keys - 208.104.92.208",
        "2021-06-24 19:51:21.862000+00:00 - Azure - List Storage Account Keys - 208.104.92.208",
        "2021-06-24 19:51:21.902000+00:00 - Azure - List Storage Account Keys - 208.104.92.208",
        "2021-06-24 19:51:21.915000+00:00 - Azure - List Storage Account Keys - 208.104.92.208",
        "2021-06-24 19:51:21.950000+00:00 - Azure - List Storage Account Keys - 208.104.92.208",
        "2021-06-24 19:51:22.074000+00:00 - Azure - List Storage Account Keys - 208.104.92.208",
        "2021-06-24 19:51:22.104000+00:00 - Azure - List Storage Account Keys - 208.104.92.208",
        "2021-06-24 19:51:22.267000+00:00 - Azure - List Storage Account Keys - 208.104.92.208",
        "2021-06-24 19:51:22.623000+00:00 - Azure - List Storage Account Keys - 208.104.92.208",
        "2021-06-24 19:51:22.678000+00:00 - Azure - List Storage Account Keys - 208.104.92.208",
        "2021-06-24 19:51:22.735000+00:00 - Azure - List Storage Account Keys - 208.104.92.208",
        "2021-06-24 19:51:22.770000+00:00 - Azure - List Storage Account Keys - 208.104.92.208",
        "2021-06-24 19:51:22.821000+00:00 - Azure - List Storage Account Keys - 208.104.92.208",
        "2021-06-24 19:51:22.851000+00:00 - Azure - List Storage Account Keys - 208.104.92.208",
        "2021-06-24 19:50:45.105000+00:00 - Azure - List Storage Account Keys - 208.104.92.208",
        "2021-06-24 20:04:07.127000+00:00 - Azure - List Storage Account Keys - 208.104.92.208"
       ],
       "description": "Select an item",
       "index": 0,
       "layout": "IPY_MODEL_78dca33797084d7abf5a72a944e6963b",
       "style": "IPY_MODEL_9750e4887f6f4bd8bdc00b3f546fe742"
      }
     },
     "8586ea8cc4d74e63b4d17221dada8fc4": {
      "model_module": "@jupyter-widgets/controls",
      "model_module_version": "1.5.0",
      "model_name": "DescriptionStyleModel",
      "state": {
       "description_width": ""
      }
     },
     "85a988d3104b456db118090c4cd93244": {
      "model_module": "@jupyter-widgets/controls",
      "model_module_version": "1.5.0",
      "model_name": "VBoxModel",
      "state": {
       "children": [
        "IPY_MODEL_9f537fe893534952b312d16d4d34cdf1",
        "IPY_MODEL_7c59f822ebe24b6985110105b3b6ad82"
       ],
       "layout": "IPY_MODEL_386c77eb8427482c9e1bbf7407ec4e3c"
      }
     },
     "863831782c814975a92c7d75d37296f4": {
      "model_module": "@jupyter-widgets/base",
      "model_module_version": "1.2.0",
      "model_name": "LayoutModel",
      "state": {
       "width": "99%"
      }
     },
     "884249f0aa874fe59ec3b72c0e6fdf1a": {
      "model_module": "@jupyter-widgets/base",
      "model_module_version": "1.2.0",
      "model_name": "LayoutModel",
      "state": {}
     },
     "8846663b5a0d4cc9b7e19025f09b940d": {
      "model_module": "@jupyter-widgets/controls",
      "model_module_version": "1.5.0",
      "model_name": "DescriptionStyleModel",
      "state": {
       "description_width": "initial"
      }
     },
     "89536da867084ff9852c37ed632a2623": {
      "model_module": "@jupyter-widgets/base",
      "model_module_version": "1.2.0",
      "model_name": "LayoutModel",
      "state": {}
     },
     "898a65aa94a24fe09a1ddca31a5aade2": {
      "model_module": "@jupyter-widgets/base",
      "model_module_version": "1.2.0",
      "model_name": "LayoutModel",
      "state": {
       "height": "200px",
       "width": "100%"
      }
     },
     "8a9a124081df4fc69d32ac3686bf3792": {
      "model_module": "@jupyter-widgets/controls",
      "model_module_version": "1.5.0",
      "model_name": "SliderStyleModel",
      "state": {
       "description_width": "initial"
      }
     },
     "8b7fda4a36304338af3615a1cae5d666": {
      "model_module": "@jupyter-widgets/controls",
      "model_module_version": "1.5.0",
      "model_name": "TextModel",
      "state": {
       "description": "Query start time (UTC):",
       "layout": "IPY_MODEL_3c7b305316464c7b9a54a64043654190",
       "style": "IPY_MODEL_11a39d5548d04ceaaf129e2bc90a23ce",
       "value": "2021-06-23 20:19:58.141303"
      }
     },
     "8c9cab7c19d448c095cdd6d1dc737b35": {
      "model_module": "@jupyter-widgets/base",
      "model_module_version": "1.2.0",
      "model_name": "LayoutModel",
      "state": {}
     },
     "8fb0e57faa3740e0a69630a16394fdfd": {
      "model_module": "@jupyter-widgets/base",
      "model_module_version": "1.2.0",
      "model_name": "LayoutModel",
      "state": {
       "height": "150px",
       "width": "300px"
      }
     },
     "91d3eff4b264443795f94fe18799ae51": {
      "model_module": "@jupyter-widgets/controls",
      "model_module_version": "1.5.0",
      "model_name": "HTMLModel",
      "state": {
       "layout": "IPY_MODEL_447a788a8e7a4ea69c561c7538a4dffd",
       "style": "IPY_MODEL_a452af06884b457d9c3c424363015b05",
       "value": "<h4>Set time range for pivot functions.</h4>"
      }
     },
     "927b63a950ee4676b5ecce9cc5aa3778": {
      "model_module": "@jupyter-widgets/base",
      "model_module_version": "1.2.0",
      "model_name": "LayoutModel",
      "state": {
       "width": "95%"
      }
     },
     "92f7245472e240b998f5c49727728259": {
      "model_module": "@jupyter-widgets/controls",
      "model_module_version": "1.5.0",
      "model_name": "TextModel",
      "state": {
       "description": "Query end time (UTC) :  ",
       "layout": "IPY_MODEL_b8f69e6ed6bc442cb0801f91aa0d4dbb",
       "style": "IPY_MODEL_3f238a24a86d4cb3aa4daa5192c960c5",
       "value": "2021-06-24 20:19:58.141303"
      }
     },
     "93e1b057592f4697b0be25602000c94d": {
      "model_module": "@jupyter-widgets/base",
      "model_module_version": "1.2.0",
      "model_name": "LayoutModel",
      "state": {
       "height": "300px",
       "width": "95%"
      }
     },
     "94c1cb320d9f41b89204010e583c425d": {
      "model_module": "@jupyter-widgets/controls",
      "model_module_version": "1.5.0",
      "model_name": "SliderStyleModel",
      "state": {
       "description_width": "initial"
      }
     },
     "950b9e04efba4e1eace70c3845e7510f": {
      "model_module": "@jupyter-widgets/controls",
      "model_module_version": "1.5.0",
      "model_name": "SelectModel",
      "state": {
       "_options_labels": [
        "SamiraA   Windows (Last activity: 2021-06-24 22:20:01.027000+00:00)"
       ],
       "description": "Select an account to explore",
       "index": 0,
       "layout": "IPY_MODEL_95344ad29e144c0d8cfff39eebfaa9cb",
       "style": "IPY_MODEL_c5da9fb621644b39ba6bca3cb5c65363"
      }
     },
     "95344ad29e144c0d8cfff39eebfaa9cb": {
      "model_module": "@jupyter-widgets/base",
      "model_module_version": "1.2.0",
      "model_name": "LayoutModel",
      "state": {
       "height": "200px",
       "width": "100%"
      }
     },
     "96db4c99c398467cae5dd29792659a46": {
      "model_module": "@jupyter-widgets/base",
      "model_module_version": "1.2.0",
      "model_name": "LayoutModel",
      "state": {
       "width": "70%"
      }
     },
     "9750e4887f6f4bd8bdc00b3f546fe742": {
      "model_module": "@jupyter-widgets/controls",
      "model_module_version": "1.5.0",
      "model_name": "DescriptionStyleModel",
      "state": {
       "description_width": "initial"
      }
     },
     "98d45dbebfd143ba9073562bf91bfad7": {
      "model_module": "@jupyter-widgets/base",
      "model_module_version": "1.2.0",
      "model_name": "LayoutModel",
      "state": {
       "height": "300px",
       "width": "70%"
      }
     },
     "990413137b664475b3c0eb4b9892e1bb": {
      "model_module": "@jupyter-widgets/controls",
      "model_module_version": "1.5.0",
      "model_name": "DescriptionStyleModel",
      "state": {
       "description_width": ""
      }
     },
     "9b2b90f8269343409935f745d84fed36": {
      "model_module": "@jupyter-widgets/controls",
      "model_module_version": "1.5.0",
      "model_name": "VBoxModel",
      "state": {
       "children": [
        "IPY_MODEL_91d3eff4b264443795f94fe18799ae51",
        "IPY_MODEL_6dee70f6dc5b464293988f4ef2b5ec38",
        "IPY_MODEL_ea2fe0ede6ef4b2193aaad0ceb1c0a9a"
       ],
       "layout": "IPY_MODEL_89536da867084ff9852c37ed632a2623"
      }
     },
     "9f537fe893534952b312d16d4d34cdf1": {
      "model_module": "@jupyter-widgets/controls",
      "model_module_version": "1.5.0",
      "model_name": "TextModel",
      "state": {
       "description": "Filter alerts by title:",
       "layout": "IPY_MODEL_6a99f7e3bf5a4c1bbfeedd127df6808b",
       "style": "IPY_MODEL_75bb4f8e3be64d48a6080e5beb687f1f"
      }
     },
     "a0a4ad59081344b489dadd26df67a046": {
      "model_module": "@jupyter-widgets/controls",
      "model_module_version": "1.5.0",
      "model_name": "DescriptionStyleModel",
      "state": {
       "description_width": ""
      }
     },
     "a10d29c10cef4d3088f9baec7ce2c85b": {
      "model_module": "@jupyter-widgets/base",
      "model_module_version": "1.2.0",
      "model_name": "LayoutModel",
      "state": {}
     },
     "a3f52f45057b44af8b23966591528c4f": {
      "model_module": "@jupyter-widgets/base",
      "model_module_version": "1.2.0",
      "model_name": "LayoutModel",
      "state": {
       "height": "150px",
       "width": "300px"
      }
     },
     "a452af06884b457d9c3c424363015b05": {
      "model_module": "@jupyter-widgets/controls",
      "model_module_version": "1.5.0",
      "model_name": "DescriptionStyleModel",
      "state": {
       "description_width": ""
      }
     },
     "a576ea3c3e5f431fae290d6a68958cc4": {
      "model_module": "@jupyter-widgets/base",
      "model_module_version": "1.2.0",
      "model_name": "LayoutModel",
      "state": {}
     },
     "a7a733913a924c3a85fa86770435ee86": {
      "model_module": "@jupyter-widgets/base",
      "model_module_version": "1.2.0",
      "model_name": "LayoutModel",
      "state": {}
     },
     "a9456eac745840a4bb0c608116d3207d": {
      "model_module": "@jupyter-widgets/controls",
      "model_module_version": "1.5.0",
      "model_name": "DescriptionStyleModel",
      "state": {
       "description_width": "initial"
      }
     },
     "a9f2e53064d742648ee8258be830ab8d": {
      "model_module": "@jupyter-widgets/controls",
      "model_module_version": "1.5.0",
      "model_name": "DescriptionStyleModel",
      "state": {
       "description_width": ""
      }
     },
     "ac3aed867a274e9094776cfc19a8c066": {
      "model_module": "@jupyter-widgets/controls",
      "model_module_version": "1.5.0",
      "model_name": "DescriptionStyleModel",
      "state": {
       "description_width": ""
      }
     },
     "aecf466a304249a78d5620d2b6e625e5": {
      "model_module": "@jupyter-widgets/base",
      "model_module_version": "1.2.0",
      "model_name": "LayoutModel",
      "state": {}
     },
     "aeecc68843a24ce59b5038b88f6c93c9": {
      "model_module": "@jupyter-widgets/base",
      "model_module_version": "1.2.0",
      "model_name": "LayoutModel",
      "state": {}
     },
     "b6de265a05474e42b12dd7235a65228c": {
      "model_module": "@jupyter-widgets/base",
      "model_module_version": "1.2.0",
      "model_name": "LayoutModel",
      "state": {
       "width": "50%"
      }
     },
     "b8002b177cc14b84bf739c647840fe9b": {
      "model_module": "@jupyter-widgets/base",
      "model_module_version": "1.2.0",
      "model_name": "LayoutModel",
      "state": {}
     },
     "b8f69e6ed6bc442cb0801f91aa0d4dbb": {
      "model_module": "@jupyter-widgets/base",
      "model_module_version": "1.2.0",
      "model_name": "LayoutModel",
      "state": {
       "width": "50%"
      }
     },
     "b992d7f495624c058beb1a211b46094a": {
      "model_module": "@jupyter-widgets/controls",
      "model_module_version": "1.5.0",
      "model_name": "SelectModel",
      "state": {
       "_options_labels": [
        "chboeh@microsoft.com   AzureActiveDirectory (Last activity: 2021-06-24 19:56:57.242000+00:00)"
       ],
       "description": "Select an account to explore",
       "index": 0,
       "layout": "IPY_MODEL_8397a750bc1e4b6fa3e69d5588aa1211",
       "style": "IPY_MODEL_d5a85e65152c4f3cbb3a4391cc25c74a"
      }
     },
     "ba64051d871d4f60b3c849639a7721a2": {
      "model_module": "@jupyter-widgets/controls",
      "model_module_version": "1.5.0",
      "model_name": "TextModel",
      "state": {
       "description": "Time (24hr)",
       "layout": "IPY_MODEL_0559cdf32d6345e7997c5bfc32203b29",
       "style": "IPY_MODEL_990413137b664475b3c0eb4b9892e1bb",
       "value": "20:19:43.448216"
      }
     },
     "bc1e8fd160ab493598a88a5c0daf5447": {
      "model_module": "@jupyter-widgets/base",
      "model_module_version": "1.2.0",
      "model_name": "LayoutModel",
      "state": {}
     },
     "bf007f7aa9b744b5be5d59b84659114c": {
      "model_module": "@jupyter-widgets/controls",
      "model_module_version": "1.5.0",
      "model_name": "TextModel",
      "state": {
       "description": "Query end time (UTC) :  ",
       "layout": "IPY_MODEL_49a648ca2dd94c66957a1645b53e55d7",
       "style": "IPY_MODEL_ecd952a6637e44a6a3ecec2068433fec",
       "value": "2021-06-25 20:19:58.141303"
      }
     },
     "c014456faf9a41f3a4b9b6f2c4dea983": {
      "model_module": "@jupyter-widgets/base",
      "model_module_version": "1.2.0",
      "model_name": "LayoutModel",
      "state": {}
     },
     "c0ded4fe96a64e9793b7831e879c886c": {
      "model_module": "@jupyter-widgets/controls",
      "model_module_version": "1.5.0",
      "model_name": "VBoxModel",
      "state": {
       "children": [
        "IPY_MODEL_3a1d613f48804ae1962f049d7a91e714",
        "IPY_MODEL_b992d7f495624c058beb1a211b46094a"
       ],
       "layout": "IPY_MODEL_a10d29c10cef4d3088f9baec7ce2c85b"
      }
     },
     "c5a96ef2da974f0d9f1a1fc12f6b3f21": {
      "model_module": "@jupyter-widgets/controls",
      "model_module_version": "1.5.0",
      "model_name": "DescriptionStyleModel",
      "state": {
       "description_width": "initial"
      }
     },
     "c5da9fb621644b39ba6bca3cb5c65363": {
      "model_module": "@jupyter-widgets/controls",
      "model_module_version": "1.5.0",
      "model_name": "DescriptionStyleModel",
      "state": {
       "description_width": "initial"
      }
     },
     "c5ddc68964624dab84a0c273a025be69": {
      "model_module": "@jupyter-widgets/base",
      "model_module_version": "1.2.0",
      "model_name": "LayoutModel",
      "state": {}
     },
     "c614953321e1475aa4c4d26e3ec2ed06": {
      "model_module": "@jupyter-widgets/controls",
      "model_module_version": "1.5.0",
      "model_name": "DescriptionStyleModel",
      "state": {
       "description_width": "initial"
      }
     },
     "c68e9fdf248f40cba3127c0e03cba8d5": {
      "model_module": "@jupyter-widgets/base",
      "model_module_version": "1.2.0",
      "model_name": "LayoutModel",
      "state": {}
     },
     "c888c92ddbae43a8ae76b8c525fe1e0d": {
      "model_module": "@jupyter-widgets/controls",
      "model_module_version": "1.5.0",
      "model_name": "IntRangeSliderModel",
      "state": {
       "_model_name": "IntRangeSliderModel",
       "_view_name": "IntRangeSliderView",
       "description": "Time Range",
       "layout": "IPY_MODEL_eb1c5a660ad04909a96f9e25b15d3346",
       "max": 28,
       "min": -28,
       "style": "IPY_MODEL_94c1cb320d9f41b89204010e583c425d",
       "value": [
        -4,
        1
       ]
      }
     },
     "ca948dd1dfdc448fa07fde29ec335716": {
      "model_module": "@jupyter-widgets/controls",
      "model_module_version": "1.5.0",
      "model_name": "VBoxModel",
      "state": {
       "children": [
        "IPY_MODEL_ef1296d065864722bdb5af2d0a8b6cbc",
        "IPY_MODEL_08c30b78b74246479dec254358c72149",
        "IPY_MODEL_bf007f7aa9b744b5be5d59b84659114c"
       ],
       "layout": "IPY_MODEL_c68e9fdf248f40cba3127c0e03cba8d5"
      }
     },
     "d065616a9d0b484d9d93499f3a4fa909": {
      "model_module": "@jupyter-widgets/controls",
      "model_module_version": "1.5.0",
      "model_name": "DescriptionStyleModel",
      "state": {
       "description_width": "initial"
      }
     },
     "d46d75b32516487c994d181ccfa42e3f": {
      "model_module": "@jupyter-widgets/base",
      "model_module_version": "1.2.0",
      "model_name": "LayoutModel",
      "state": {
       "width": "70%"
      }
     },
     "d473e8f867b24a4a867f460753ff373c": {
      "model_module": "@jupyter-widgets/base",
      "model_module_version": "1.2.0",
      "model_name": "LayoutModel",
      "state": {
       "width": "100px"
      }
     },
     "d5112a0721c24110a02044a3c0ecd94e": {
      "model_module": "@jupyter-widgets/controls",
      "model_module_version": "1.5.0",
      "model_name": "TextModel",
      "state": {
       "description": "Filter:",
       "layout": "IPY_MODEL_dcfc3cad1ccf4ca78113876482248d9c",
       "style": "IPY_MODEL_d065616a9d0b484d9d93499f3a4fa909"
      }
     },
     "d5a85e65152c4f3cbb3a4391cc25c74a": {
      "model_module": "@jupyter-widgets/controls",
      "model_module_version": "1.5.0",
      "model_name": "DescriptionStyleModel",
      "state": {
       "description_width": "initial"
      }
     },
     "d663d02b91384e58bd2c0e723e9e68d4": {
      "model_module": "@jupyter-widgets/base",
      "model_module_version": "1.2.0",
      "model_name": "LayoutModel",
      "state": {}
     },
     "d8eae788f69e411b9af56e01bd310f68": {
      "model_module": "@jupyter-widgets/controls",
      "model_module_version": "1.5.0",
      "model_name": "LabelModel",
      "state": {
       "layout": "IPY_MODEL_202a173977d747d3a89db511dd01d212",
       "style": "IPY_MODEL_a9f2e53064d742648ee8258be830ab8d"
      }
     },
     "db0019102f114f5589bab5aa57168d7f": {
      "model_module": "@jupyter-widgets/base",
      "model_module_version": "1.2.0",
      "model_name": "LayoutModel",
      "state": {}
     },
     "dcfc3cad1ccf4ca78113876482248d9c": {
      "model_module": "@jupyter-widgets/base",
      "model_module_version": "1.2.0",
      "model_name": "LayoutModel",
      "state": {}
     },
     "dd5ce713d7eb4658a748699f56b040b8": {
      "model_module": "@jupyter-widgets/base",
      "model_module_version": "1.2.0",
      "model_name": "LayoutModel",
      "state": {}
     },
     "dfd0a0ce601a437a8c9b7bce5c315541": {
      "model_module": "@jupyter-widgets/controls",
      "model_module_version": "1.5.0",
      "model_name": "DatePickerModel",
      "state": {
       "description": "Origin Date",
       "disabled": false,
       "layout": "IPY_MODEL_7d99111359e842d4af99b050eda260d7",
       "style": "IPY_MODEL_7e1e802508aa493dbc906224593de952",
       "value": {
        "date": 24,
        "month": 5,
        "year": 2021
       }
      }
     },
     "e036d5dae4244a24bc66554880a83ace": {
      "model_module": "@jupyter-widgets/controls",
      "model_module_version": "1.5.0",
      "model_name": "TextModel",
      "state": {
       "description": "Time (24hr)",
       "layout": "IPY_MODEL_f7f2ac07ac76450e846dd62aaaf486c3",
       "style": "IPY_MODEL_1b9b8c24786b4be7ad6421302ee6fd33",
       "value": "20:19:58.141303"
      }
     },
     "e16274b19ee1437abc73fdb622c3d81c": {
      "model_module": "@jupyter-widgets/controls",
      "model_module_version": "1.5.0",
      "model_name": "SelectModel",
      "state": {
       "_options_labels": [
        "ContosoAdmin   Windows (Last activity: 2021-06-24 19:41:04.083000+00:00)"
       ],
       "description": "Select an account to explore",
       "index": 0,
       "layout": "IPY_MODEL_898a65aa94a24fe09a1ddca31a5aade2",
       "style": "IPY_MODEL_72d3d8d543f24fbe8c6ab87c83a6f97e"
      }
     },
     "e4af5441578d4a54877e55e1ba66267c": {
      "model_module": "@jupyter-widgets/controls",
      "model_module_version": "1.5.0",
      "model_name": "DropdownModel",
      "state": {
       "_options_labels": [
        "minute",
        "hour",
        "day",
        "week"
       ],
       "index": 2,
       "layout": "IPY_MODEL_e87c1b923c4a4697a2a1c038ba58874f",
       "style": "IPY_MODEL_f3aac2516f05402090b4f4350f914fec"
      }
     },
     "e7b14ac71bec4c8498a4aa050ef41b2b": {
      "model_module": "@jupyter-widgets/controls",
      "model_module_version": "1.5.0",
      "model_name": "DescriptionStyleModel",
      "state": {
       "description_width": "initial"
      }
     },
     "e87c1b923c4a4697a2a1c038ba58874f": {
      "model_module": "@jupyter-widgets/base",
      "model_module_version": "1.2.0",
      "model_name": "LayoutModel",
      "state": {
       "width": "100px"
      }
     },
     "e9ba0adb8ff14b76a356714a91e3f485": {
      "model_module": "@jupyter-widgets/controls",
      "model_module_version": "1.5.0",
      "model_name": "DescriptionStyleModel",
      "state": {
       "description_width": ""
      }
     },
     "ea2fe0ede6ef4b2193aaad0ceb1c0a9a": {
      "model_module": "@jupyter-widgets/controls",
      "model_module_version": "1.5.0",
      "model_name": "VBoxModel",
      "state": {
       "children": [
        "IPY_MODEL_4195fbd13c8441ec93818f88f349751e",
        "IPY_MODEL_8b7fda4a36304338af3615a1cae5d666",
        "IPY_MODEL_92f7245472e240b998f5c49727728259"
       ],
       "layout": "IPY_MODEL_aeecc68843a24ce59b5038b88f6c93c9"
      }
     },
     "eb1c5a660ad04909a96f9e25b15d3346": {
      "model_module": "@jupyter-widgets/base",
      "model_module_version": "1.2.0",
      "model_name": "LayoutModel",
      "state": {
       "width": "70%"
      }
     },
     "ecd952a6637e44a6a3ecec2068433fec": {
      "model_module": "@jupyter-widgets/controls",
      "model_module_version": "1.5.0",
      "model_name": "DescriptionStyleModel",
      "state": {
       "description_width": "initial"
      }
     },
     "ef1296d065864722bdb5af2d0a8b6cbc": {
      "model_module": "@jupyter-widgets/controls",
      "model_module_version": "1.5.0",
      "model_name": "HBoxModel",
      "state": {
       "children": [
        "IPY_MODEL_c888c92ddbae43a8ae76b8c525fe1e0d",
        "IPY_MODEL_4f339c283e7f4c778d901975ff6fb943"
       ],
       "layout": "IPY_MODEL_f21e589f61d147b5af8d2dd66949b7e0"
      }
     },
     "f12f8a1a6e974e5b914f3ba911ae8867": {
      "model_module": "@jupyter-widgets/base",
      "model_module_version": "1.2.0",
      "model_name": "LayoutModel",
      "state": {
       "height": "200px",
       "width": "100%"
      }
     },
     "f21e589f61d147b5af8d2dd66949b7e0": {
      "model_module": "@jupyter-widgets/base",
      "model_module_version": "1.2.0",
      "model_name": "LayoutModel",
      "state": {}
     },
     "f3aac2516f05402090b4f4350f914fec": {
      "model_module": "@jupyter-widgets/controls",
      "model_module_version": "1.5.0",
      "model_name": "DescriptionStyleModel",
      "state": {
       "description_width": ""
      }
     },
     "f65d22e8ebcc43b7b36c5555857a7198": {
      "model_module": "@jupyter-widgets/controls",
      "model_module_version": "1.5.0",
      "model_name": "TextModel",
      "state": {
       "description": "Filter:",
       "layout": "IPY_MODEL_c5ddc68964624dab84a0c273a025be69",
       "style": "IPY_MODEL_c614953321e1475aa4c4d26e3ec2ed06"
      }
     },
     "f6a6cc5218f64eedae00f2ef56190fbc": {
      "model_module": "@jupyter-widgets/controls",
      "model_module_version": "1.5.0",
      "model_name": "HBoxModel",
      "state": {
       "children": [
        "IPY_MODEL_4d6c40ff53d74c28ae93f40a89c90d3d",
        "IPY_MODEL_2df68035787e479c803c213f60c4f7e4"
       ],
       "layout": "IPY_MODEL_aecf466a304249a78d5620d2b6e625e5"
      }
     },
     "f7f2ac07ac76450e846dd62aaaf486c3": {
      "model_module": "@jupyter-widgets/base",
      "model_module_version": "1.2.0",
      "model_name": "LayoutModel",
      "state": {}
     },
     "facfca1d2cd847988e46f7275a6a7e66": {
      "model_module": "@jupyter-widgets/controls",
      "model_module_version": "1.5.0",
      "model_name": "VBoxModel",
      "state": {
       "children": [
        "IPY_MODEL_f65d22e8ebcc43b7b36c5555857a7198",
        "IPY_MODEL_1238975b538e4a3596dbf51653badef9"
       ],
       "layout": "IPY_MODEL_db0019102f114f5589bab5aa57168d7f"
      }
     }
    },
    "version_major": 2,
    "version_minor": 0
   }
  }
 },
 "nbformat": 4,
 "nbformat_minor": 4
}
