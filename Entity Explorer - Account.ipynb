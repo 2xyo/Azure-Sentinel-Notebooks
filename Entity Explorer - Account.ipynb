{
  "cells": [
    {
      "metadata": {},
      "cell_type": "markdown",
      "source": "# Entity Explorer - Account\n <details>\n     <summary>&nbsp;<u>Details...</u></summary>\n\n **Notebook Version:** 1.0<br>\n **Python Version:** Python 3.6 (including Python 3.6 - AzureML)<br>\n **Required Packages**: kqlmagic, msticpy, pandas, numpy, matplotlib, networkx, ipywidgets, ipython, dnspython, ipwhois, folium, maxminddb_geolite2<br>\n **Platforms Supported**:\n - Azure Notebooks Free Compute\n - Azure Notebooks DSVM\n - OS Independent\n\n **Data Sources Required**:\n - Log Analytics - SecurityAlert, SecurityEvent, HuntingBookmark, Syslog, AAD SigninLogs, AzureActivity, OfficeActivity, ThreatIndicator\n - (Optional) - VirusTotal, AlienVault OTX, IBM XForce, Open Page Rank, (all require accounts and API keys)\n </details>\n\n Brings together a series of queries and visualizations to help you determine the security state of an Account. The account can be a Windows or Linux account or an Azure Active Directory/Office 365 account."
    },
    {
      "metadata": {
        "toc": true
      },
      "cell_type": "markdown",
      "source": "<h1>Contents<span class=\"tocSkip\"></span></h1>\n<div class=\"toc\"><ul class=\"toc-item\"><li><span><a href=\"#Hunting-Hypothesis\" data-toc-modified-id=\"Hunting-Hypothesis-1\"><span class=\"toc-item-num\">1&nbsp;&nbsp;</span>Hunting Hypothesis</a></span></li><li><span><a href=\"#Notebook-Initialization\" data-toc-modified-id=\"Notebook-Initialization-2\"><span class=\"toc-item-num\">2&nbsp;&nbsp;</span>Notebook Initialization</a></span><ul class=\"toc-item\"><li><span><a href=\"#Get-Workspace-and-Authenticate\" data-toc-modified-id=\"Get-Workspace-and-Authenticate-2.1\"><span class=\"toc-item-num\">2.1&nbsp;&nbsp;</span>Get Workspace and Authenticate</a></span></li></ul></li><li><span><a href=\"#Enter-account-name-and-query-time-window\" data-toc-modified-id=\"Enter-account-name-and-query-time-window-3\"><span class=\"toc-item-num\">3&nbsp;&nbsp;</span>Enter account name and query time window</a></span></li><li><span><a href=\"#Data-Sources-available-to-query\" data-toc-modified-id=\"Data-Sources-available-to-query-4\"><span class=\"toc-item-num\">4&nbsp;&nbsp;</span>Data Sources available to query</a></span></li><li><span><a href=\"#Search-for-Account-Name-in-Host,-AAD,-Azure-and-Office-Data\" data-toc-modified-id=\"Search-for-Account-Name-in-Host,-AAD,-Azure-and-Office-Data-5\"><span class=\"toc-item-num\">5&nbsp;&nbsp;</span>Search for Account Name in Host, AAD, Azure and Office Data</a></span><ul class=\"toc-item\"><li><span><a href=\"#Query-Data-Sources\" data-toc-modified-id=\"Query-Data-Sources-5.1\"><span class=\"toc-item-num\">5.1&nbsp;&nbsp;</span>Query Data Sources</a></span></li></ul></li><li><span><a href=\"#Display-logons-from-account-sources\" data-toc-modified-id=\"Display-logons-from-account-sources-6\"><span class=\"toc-item-num\">6&nbsp;&nbsp;</span>Display logons from account sources</a></span></li><li><span><a href=\"#Related-Alerts-and-Hunting-Bookmarks\" data-toc-modified-id=\"Related-Alerts-and-Hunting-Bookmarks-7\"><span class=\"toc-item-num\">7&nbsp;&nbsp;</span>Related Alerts and Hunting Bookmarks</a></span><ul class=\"toc-item\"><li><span><a href=\"#Alerts\" data-toc-modified-id=\"Alerts-7.1\"><span class=\"toc-item-num\">7.1&nbsp;&nbsp;</span>Alerts</a></span></li><li><span><a href=\"#Hunting/Investigation-Bookmarks\" data-toc-modified-id=\"Hunting/Investigation-Bookmarks-7.2\"><span class=\"toc-item-num\">7.2&nbsp;&nbsp;</span>Hunting/Investigation Bookmarks</a></span></li></ul></li><li><span><a href=\"#Further-Investigation\" data-toc-modified-id=\"Further-Investigation-8\"><span class=\"toc-item-num\">8&nbsp;&nbsp;</span>Further Investigation</a></span></li><li><span><a href=\"#Windows-Host\" data-toc-modified-id=\"Windows-Host-9\"><span class=\"toc-item-num\">9&nbsp;&nbsp;</span>Windows Host</a></span><ul class=\"toc-item\"><li><span><a href=\"#Host-Logon-Summary\" data-toc-modified-id=\"Host-Logon-Summary-9.1\"><span class=\"toc-item-num\">9.1&nbsp;&nbsp;</span>Host Logon Summary</a></span></li><li><span><a href=\"#Threat-Intelligence-for-logon-IP-Addresses\" data-toc-modified-id=\"Threat-Intelligence-for-logon-IP-Addresses-9.2\"><span class=\"toc-item-num\">9.2&nbsp;&nbsp;</span>Threat Intelligence for logon IP Addresses</a></span></li><li><span><a href=\"#Geolocation-and-ownership-for-source-logon-IP-addresses\" data-toc-modified-id=\"Geolocation-and-ownership-for-source-logon-IP-addresses-9.3\"><span class=\"toc-item-num\">9.3&nbsp;&nbsp;</span>Geolocation and ownership for source logon IP addresses</a></span></li><li><span><a href=\"#Additional-Alerts-for-logged-on-hosts\" data-toc-modified-id=\"Additional-Alerts-for-logged-on-hosts-9.4\"><span class=\"toc-item-num\">9.4&nbsp;&nbsp;</span>Additional Alerts for logged-on hosts</a></span><ul class=\"toc-item\"><li><span><a href=\"#Additional-alerts-for-source-IP-addresses\" data-toc-modified-id=\"Additional-alerts-for-source-IP-addresses-9.4.1\"><span class=\"toc-item-num\">9.4.1&nbsp;&nbsp;</span>Additional alerts for source IP addresses</a></span></li></ul></li><li><span><a href=\"#Additional-Investigation-Bookmarks-for-logged-on-hosts\" data-toc-modified-id=\"Additional-Investigation-Bookmarks-for-logged-on-hosts-9.5\"><span class=\"toc-item-num\">9.5&nbsp;&nbsp;</span>Additional Investigation Bookmarks for logged-on hosts</a></span></li></ul></li><li><span><a href=\"#Linux-Host\" data-toc-modified-id=\"Linux-Host-10\"><span class=\"toc-item-num\">10&nbsp;&nbsp;</span>Linux Host</a></span><ul class=\"toc-item\"><li><span><a href=\"#Host-Logon-Summary\" data-toc-modified-id=\"Host-Logon-Summary-10.1\"><span class=\"toc-item-num\">10.1&nbsp;&nbsp;</span>Host Logon Summary</a></span></li><li><span><a href=\"#Threat-Intelligence-for-logon-IP-Addresses\" data-toc-modified-id=\"Threat-Intelligence-for-logon-IP-Addresses-10.2\"><span class=\"toc-item-num\">10.2&nbsp;&nbsp;</span>Threat Intelligence for logon IP Addresses</a></span></li><li><span><a href=\"#Geolocation-and-ownership-for-source-logon-IP-addresses\" data-toc-modified-id=\"Geolocation-and-ownership-for-source-logon-IP-addresses-10.3\"><span class=\"toc-item-num\">10.3&nbsp;&nbsp;</span>Geolocation and ownership for source logon IP addresses</a></span></li><li><span><a href=\"#Additional-Alerts-for-logged-on-hosts\" data-toc-modified-id=\"Additional-Alerts-for-logged-on-hosts-10.4\"><span class=\"toc-item-num\">10.4&nbsp;&nbsp;</span>Additional Alerts for logged-on hosts</a></span><ul class=\"toc-item\"><li><span><a href=\"#Additional-alerts-for-source-IP-addresses\" data-toc-modified-id=\"Additional-alerts-for-source-IP-addresses-10.4.1\"><span class=\"toc-item-num\">10.4.1&nbsp;&nbsp;</span>Additional alerts for source IP addresses</a></span></li></ul></li><li><span><a href=\"#Additional-Investigation-Bookmarks-for-logged-on-hosts\" data-toc-modified-id=\"Additional-Investigation-Bookmarks-for-logged-on-hosts-10.5\"><span class=\"toc-item-num\">10.5&nbsp;&nbsp;</span>Additional Investigation Bookmarks for logged-on hosts</a></span></li></ul></li><li><span><a href=\"#AAD/Office-Account\" data-toc-modified-id=\"AAD/Office-Account-11\"><span class=\"toc-item-num\">11&nbsp;&nbsp;</span>AAD/Office Account</a></span><ul class=\"toc-item\"><li><span><a href=\"#Azure/Office-Summary\" data-toc-modified-id=\"Azure/Office-Summary-11.1\"><span class=\"toc-item-num\">11.1&nbsp;&nbsp;</span>Azure/Office Summary</a></span></li><li><span><a href=\"#Threat-Intelligence-for-IP-Addresses\" data-toc-modified-id=\"Threat-Intelligence-for-IP-Addresses-11.2\"><span class=\"toc-item-num\">11.2&nbsp;&nbsp;</span>Threat Intelligence for IP Addresses</a></span></li><li><span><a href=\"#Geolocation-and-ownership-for-source-IP-addresses\" data-toc-modified-id=\"Geolocation-and-ownership-for-source-IP-addresses-11.3\"><span class=\"toc-item-num\">11.3&nbsp;&nbsp;</span>Geolocation and ownership for source IP addresses</a></span></li><li><span><a href=\"#Additional-alerts-for-source-IP-addresses\" data-toc-modified-id=\"Additional-alerts-for-source-IP-addresses-11.4\"><span class=\"toc-item-num\">11.4&nbsp;&nbsp;</span>Additional alerts for source IP addresses</a></span></li></ul></li><li><span><a href=\"#Appendices\" data-toc-modified-id=\"Appendices-12\"><span class=\"toc-item-num\">12&nbsp;&nbsp;</span>Appendices</a></span><ul class=\"toc-item\"><li><span><a href=\"#Available-DataFrames\" data-toc-modified-id=\"Available-DataFrames-12.1\"><span class=\"toc-item-num\">12.1&nbsp;&nbsp;</span>Available DataFrames</a></span></li><li><span><a href=\"#Saving-data-to-Excel\" data-toc-modified-id=\"Saving-data-to-Excel-12.2\"><span class=\"toc-item-num\">12.2&nbsp;&nbsp;</span>Saving data to Excel</a></span></li></ul></li><li><span><a href=\"#Setup\" data-toc-modified-id=\"Setup-13\"><span class=\"toc-item-num\">13&nbsp;&nbsp;</span>Setup</a></span><ul class=\"toc-item\"><li><span><a href=\"#msticpyconfig.yaml-configuration-File\" data-toc-modified-id=\"msticpyconfig.yaml-configuration-File-13.1\"><span class=\"toc-item-num\">13.1&nbsp;&nbsp;</span><code>msticpyconfig.yaml</code> configuration File</a></span></li></ul></li></ul></div>"
    },
    {
      "metadata": {},
      "cell_type": "markdown",
      "source": "## Hunting Hypothesis\nOur broad initial hunting hypothesis is that a we have received account name entity which is suspected to be compromised and is being used malicious manner in internal networks, we will need to hunt from a range of different positions to validate or disprove this hypothesis.\n\nBefore you start hunting please run the cells in [Setup](#Setup) at the bottom of this Notebook."
    },
    {
      "metadata": {},
      "cell_type": "markdown",
      "source": "## Notebook Initialization\n<details>\n    <summary>&nbsp;<u>More details...</u></summary>\n        If this is your first time running this Notebook please run the cells in in the <a href=\"#Setup\">Setup</a> section before proceeding to ensure you have the required packages installed correctly. Similarly, if you see any import failures (ImportError) in the notebook, please make sure that you have read and run the cells <a href=\"#Setup\">Setup</a> section first. This section is at the end of the notebook.\n    </details>"
    },
    {
      "metadata": {
        "ExecuteTime": {
          "end_time": "2019-10-16T02:55:30.043469Z",
          "start_time": "2019-10-16T02:55:27.809515Z"
        },
        "trusted": true
      },
      "cell_type": "code",
      "source": "# Imports\nimport sys\nimport warnings\n\nfrom msticpy.nbtools.utility import check_py_version\n\nMIN_REQ_PYTHON = (3, 6)\ncheck_py_version(MIN_REQ_PYTHON)\n\nfrom IPython import get_ipython\nfrom IPython.display import display, HTML, Markdown\nimport ipywidgets as widgets\n\nimport matplotlib.pyplot as plt\nimport seaborn as sns\nsns.set()\nimport pandas as pd\n\npd.set_option(\"display.max_rows\", 100)\npd.set_option(\"display.max_columns\", 50)\npd.set_option(\"display.max_colwidth\", 100)\n\nfrom msticpy.data import QueryProvider\nfrom msticpy.nbtools import *\nfrom msticpy.sectools import *\nfrom msticpy.nbtools.utility import md, md_warn\nfrom msticpy.nbtools.wsconfig import WorkspaceConfig\n\nWIDGET_DEFAULTS = {\n    \"layout\": widgets.Layout(width=\"95%\"),\n    \"style\": {\"description_width\": \"initial\"},\n}\n\n# Some of our dependencies (networkx) still use deprecated Matplotlib\n# APIs - we can't do anything about it so suppress them from view\nfrom matplotlib import MatplotlibDeprecationWarning\nwarnings.simplefilter(\"ignore\", category=MatplotlibDeprecationWarning)\n\nws_config = WorkspaceConfig()",
      "execution_count": null,
      "outputs": []
    },
    {
      "metadata": {},
      "cell_type": "markdown",
      "source": "### Get Workspace and Authenticate\n<details>\n    <summary>&nbsp;<u>Details...</u></summary>\nIf you are using user/device authentication, run the following cell. \n- Click the 'Copy code to clipboard and authenticate' button.\n- This will pop up an Azure Active Directory authentication dialog (in a new tab or browser window). The device code will have been copied to the clipboard. \n- Select the text box and paste (Ctrl-V/Cmd-V) the copied value. \n- You should then be redirected to a user authentication page where you should authenticate with a user account that has permission to query your Log Analytics workspace.\n\nUse the following syntax if you are authenticating using an Azure Active Directory AppId and Secret:\n```\n%kql loganalytics://tenant(aad_tenant).workspace(WORKSPACE_ID).clientid(client_id).clientsecret(client_secret)\n```\ninstead of\n```\n%kql loganalytics://code().workspace(WORKSPACE_ID)\n```\n\nNote: you may occasionally see a JavaScript error displayed at the end of the authentication - you can safely ignore this.<br>\nOn successful authentication you should see a ```popup schema``` button.\nTo find your Workspace Id go to [Log Analytics](https://ms.portal.azure.com/#blade/HubsExtension/Resources/resourceType/Microsoft.OperationalInsights%2Fworkspaces). Look at the workspace properties to find the ID.\n</details>"
    },
    {
      "metadata": {
        "ExecuteTime": {
          "end_time": "2019-10-19T01:40:24.817701Z",
          "start_time": "2019-10-19T01:40:19.45403Z"
        },
        "trusted": true
      },
      "cell_type": "code",
      "source": "# Authentication\nqry_prov = QueryProvider(data_environment=\"LogAnalytics\")\nqry_prov.connect(connection_str=ws_config.code_connect_str)\ntable_index = qry_prov.schema_tables",
      "execution_count": null,
      "outputs": []
    },
    {
      "metadata": {},
      "cell_type": "markdown",
      "source": "## Enter account name and query time window\nType the account name that you want to search for and the time bounds over which you want to search. \n\nYou can specify the account as:\n\n- a simple user name (e.g. `alice`)\n- a user principal name (`alice@contoso.com`)\n- a qualified windows user name `mydomain\\alice`\n\nIn the second two cases the domain qualifier will be stripped off before the search. The search is not case sensitive and will match full substrings. E.g. `bob` will match `domain\\bob` and `bob@contoso.com` but not `bobg` or `bo`."
    },
    {
      "metadata": {
        "ExecuteTime": {
          "end_time": "2019-10-18T21:55:42.736823Z",
          "start_time": "2019-10-18T21:55:42.724849Z"
        },
        "trusted": true
      },
      "cell_type": "code",
      "source": "accountname_text = widgets.Text(description='Enter the Account name to search for:', **WIDGET_DEFAULTS)\ndisplay(accountname_text)",
      "execution_count": null,
      "outputs": []
    },
    {
      "metadata": {
        "ExecuteTime": {
          "end_time": "2019-10-19T01:32:26.151831Z",
          "start_time": "2019-10-19T01:32:26.095863Z"
        },
        "trusted": true
      },
      "cell_type": "code",
      "source": "query_times = nbwidgets.QueryTime(units='day', max_before=200, before=5, max_after=7)\nquery_times.display()",
      "execution_count": null,
      "outputs": []
    },
    {
      "metadata": {
        "ExecuteTime": {
          "end_time": "2019-10-19T01:32:30.020025Z",
          "start_time": "2019-10-19T01:32:30.016028Z"
        },
        "trusted": true
      },
      "cell_type": "code",
      "source": "# Set up function to allow easy reference to common parameters for queries\ndef acct_query_params():\n    return {\n        \"start\": query_times.start,\n        \"end\": query_times.end,\n        \"account_name\": accountname_text.value,\n    }",
      "execution_count": null,
      "outputs": []
    },
    {
      "metadata": {},
      "cell_type": "markdown",
      "source": "## Data Sources available to query\nThis shows all of the tables in the workspace with a string matching the account name entered."
    },
    {
      "metadata": {
        "ExecuteTime": {
          "end_time": "2019-10-16T03:00:38.416993Z",
          "start_time": "2019-10-16T03:00:36.060916Z"
        },
        "trusted": true
      },
      "cell_type": "code",
      "source": "# KQL query for full text search of IP address and display all datatypes \ndatasource_status = '''\nsearch \\'{account_name}\\'\n| where TimeGenerated >= datetime({start}) and TimeGenerated <= datetime({end})\n| summarize RowCount=count() by Table=$table\n'''.format(**acct_query_params())\n%kql -query datasource_status\ndatasource_status_df = _kql_raw_result_.to_dataframe()\n\n#Display result as transposed matrix of datatypes availabel to query for the query period \nif len(datasource_status_df) > 0:\n    display(Markdown(\"###  <span style='color:blue'> \"\n                     + \"Datasources available to query for Account \"\n                     + f\"*{acct_query_params()['account_name']}* </span>\"))\n    display(datasource_status_df)\nelse:\n    display(Markdown(f'### <span style=\"color:orange\"> No datasources available to query for the query period </span>'))",
      "execution_count": null,
      "outputs": []
    },
    {
      "metadata": {},
      "cell_type": "markdown",
      "source": "## Search for Account Name in Host, Azure Active Directory (AAD), Azure and Office 365 Data.\n### Query Data Sources"
    },
    {
      "metadata": {
        "ExecuteTime": {
          "end_time": "2019-10-16T03:00:44.503043Z",
          "start_time": "2019-10-16T03:00:43.437197Z"
        },
        "trusted": true
      },
      "cell_type": "code",
      "source": "# AAD\nmd(\"Searching for AAD activity...\")\nsummarize_clause = \"\"\"\n| summarize arg_max(TimeGenerated, *) by UserPrincipalName, OperationName, \n  Identity, IPAddress, tostring(LocationDetails)\n| project TimeGenerated, UserPrincipalName, Identity, IPAddress, LocationDetails\"\"\"\n\naad_signin_df = (qry_prov.Azure\n                 .list_aad_signins_for_account(**acct_query_params(),\n                                               add_query_items=summarize_clause)\n                )\n\nmd(\"Searching for Azure activity...\")\n# Azure Activity\nsummarize_clause = \"\"\"\n| summarize arg_max(TimeGenerated, *) by Caller, OperationName, \n  CallerIpAddress, ResourceId\n| project TimeGenerated, UserPrincipalName=Caller, IPAddress=CallerIpAddress\"\"\"\n\nazure_activity_df = (qry_prov.Azure\n                     .list_azure_activity_for_account(**acct_query_params(),\n                                                      add_query_items=summarize_clause)\n                    )\n\nmd(\"Searching for Office365 activity...\")\n# Office Activity\nsummarize_clause = \"\"\"\n| project TimeGenerated, UserId = tolower(UserId), OfficeWorkload, Operation, ClientIP, UserType\n| summarize arg_max(TimeGenerated, *) by UserId, OfficeWorkload, ClientIP\n| order by TimeGenerated desc\"\"\"\n\no365_activity_df = (qry_prov.Office365\n                    .list_activity_for_account(**acct_query_params(),\n                                               add_query_items=summarize_clause)\n                    )\n\nmd(\"Searching for Windows logon activity...\")\n# Windows Host\nsummarize_clause = \"\"\"\n| extend LogonStatus = iff(EventID == 4624, \"success\", \"failed\")\n| project TimeGenerated, TargetUserName, TargetDomainName, Computer, LogonType, SubjectUserName, \n  SubjectDomainName, TargetUserSid, EventID, IpAddress, LogonStatus \n| summarize arg_max(TimeGenerated, *) by TargetUserName, TargetDomainName, LogonType, Computer, LogonStatus\"\"\"\n\nwin_logon_df = (qry_prov.WindowsSecurity\n                .list_logon_attempts_by_account(**acct_query_params(),\n                                                add_query_items=summarize_clause)\n               )\n\nmd(\"Searching for Linux logon activity...\")\n# Linux host\nsummarize_clause = \"\"\"\n| summarize arg_max(TimeGenerated, *) by LogonType, SourceIP, Computer, LogonResult\"\"\"\n\nlinux_logon_df = (qry_prov.LinuxSyslog\n                  .list_logons_for_account(**acct_query_params(),\n                                           add_query_items=summarize_clause)\n                 )\n\nrec_count = (\n    len(aad_signin_df) + len(azure_activity_df) \n    + len(o365_activity_df) + len(win_logon_df) \n    + len(linux_logon_df)\n)\nmd(f\"Found {rec_count} records...\")",
      "execution_count": null,
      "outputs": []
    },
    {
      "metadata": {},
      "cell_type": "markdown",
      "source": "## Display logons from account sources\n**Choose Account to Explore**"
    },
    {
      "metadata": {
        "ExecuteTime": {
          "end_time": "2019-10-18T21:58:23.397883Z",
          "start_time": "2019-10-18T21:58:23.320948Z"
        },
        "trusted": true
      },
      "cell_type": "code",
      "source": "from collections import namedtuple\nAccountDFs = namedtuple(\"AccountDFs\", [\"linux\", \"windows\", \"aad\", \"azure\", \"o365\"])\naccount_dfs = AccountDFs(\n    linux=linux_logon_df,\n    windows=win_logon_df,\n    aad=aad_signin_df,\n    azure=azure_activity_df,\n    o365=o365_activity_df,\n)\n\n# Combine into single data frame\n\nlx_df = (linux_logon_df[[\"AccountName\", \"TimeGenerated\"]]\n        .groupby(\"AccountName\")\n        .max()\n        .reset_index()\n        .assign(Source=\"LinuxHostLogon\"))\n\nwin_df = (win_logon_df[[\"TargetUserName\", \"TimeGenerated\"]]\n          .groupby(\"TargetUserName\")\n          .max()\n          .reset_index()\n          .rename(columns={\"TargetUserName\": \"AccountName\"})\n          .assign(Source=\"WindowsHostLogon\"))\n\no365_df = (o365_activity_df[[\"UserId\", \"TimeGenerated\"]]\n           .groupby(\"UserId\")\n           .max()\n           .reset_index()\n           .rename(columns={\"UserId\": \"AccountName\"})\n           .assign(Source=\"O365Activity\"))\n\naad_df = (aad_signin_df[[\"UserPrincipalName\", \"TimeGenerated\"]]\n          .groupby(\"UserPrincipalName\")\n          .max()\n          .reset_index()\n          .rename(columns={\"UserPrincipalName\": \"AccountName\"})\n          .assign(Source=\"AADLogon\"))\n\nazure_df = (azure_activity_df[[\"UserPrincipalName\", \"TimeGenerated\"]]\n            .groupby(\"UserPrincipalName\")\n            .max()\n            .reset_index()\n            .rename(columns={\"UserPrincipalName\": \"AccountName\"})\n            .assign(Source=\"AzureActivity\"))\n\n\nall_sources_df = pd.concat([lx_df, win_df, o365_df, aad_df, azure_df])\n\n\n# Display the results that we've found\nformat_tuple = (lambda x: \n                (x.AccountName + \"   \" + x.Source\n                 + \" (Last activity: \" + str(x.TimeGenerated) + \")\",\n                 x.AccountName + \" \" + x.Source))\naccts_dict = {item[0]: item[1] for item in all_sources_df.apply(format_tuple, axis=1)}\n\ndef display_activity(selected_item):\n    acct, source = selected_account(selected_item)\n    utils.md(f\"{acct} (source: {source})\", \"bold\")\n    if source == \"LinuxHostLogon\":\n        display(linux_logon_df[linux_logon_df[\"AccountName\"] == acct]\n               .sort_values(\"TimeGenerated\", ascending=True))\n    if source == \"WindowsHostLogon\":\n        display(win_logon_df[win_logon_df[\"TargetUserName\"] == acct]\n               .sort_values(\"TimeGenerated\", ascending=True))\n    if source == \"AADLogon\":\n        display(aad_signin_df[aad_signin_df[\"UserPrincipalName\"] == acct]\n               .sort_values(\"TimeGenerated\", ascending=True))\n    if source == \"AzureActivity\":\n        display(azure_activity_df[azure_activity_df[\"UserPrincipalName\"] == acct]\n               .sort_values(\"TimeGenerated\", ascending=True))\n    if source == \"O365Activity\":\n        display(o365_activity_df[o365_activity_df[\"UserId\"] == acct]\n               .sort_values(\"TimeGenerated\", ascending=True))\n\ndef selected_account(selected_acct):\n    acct, source = selected_acct.value.split(\" \")\n    return acct, source\n\nselect_acct = nbwidgets.SelectString(\n    item_dict=accts_dict,\n    auto_display=True,\n    description=\"Select an account to explore\",\n    #action=display_activity,\n    height=\"200px\",\n    width=\"100%\")",
      "execution_count": null,
      "outputs": []
    },
    {
      "metadata": {
        "trusted": true
      },
      "cell_type": "code",
      "source": "display_activity(select_acct)",
      "execution_count": null,
      "outputs": []
    },
    {
      "metadata": {
        "ExecuteTime": {
          "end_time": "2019-09-22T22:43:08.721257Z",
          "start_time": "2019-09-22T22:43:08.686275Z"
        }
      },
      "cell_type": "markdown",
      "source": "## Related Alerts and Hunting Bookmarks\n### Alerts\nAny alerts with a matching account name are shown here. Select an alert to view the contents."
    },
    {
      "metadata": {
        "ExecuteTime": {
          "end_time": "2019-10-19T01:40:34.257619Z",
          "start_time": "2019-10-19T01:40:29.551536Z"
        },
        "scrolled": false,
        "trusted": true
      },
      "cell_type": "code",
      "source": "account_name, account_source = selected_account(select_acct)\nrelated_alerts = qry_prov.SecurityAlert.list_related_alerts(\n    **acct_query_params()\n)\n\ndef print_related_alerts(alertDict, entityType, entityName):\n    if len(alertDict) > 0:\n        md(f\"Found {len(alertDict)} different alert types related to this {entityType} (`{entityName}`)\",\n           \"large, bold\"\n        )\n        for (k, v) in alertDict.items():\n            print(f\"- {k}, # Alerts: {v}\")\n    else:\n        md(f\"No alerts for {entityType} entity `{entityName}`\")\n\n\nif isinstance(related_alerts, pd.DataFrame) and not related_alerts.empty:\n    alert_items = (\n        related_alerts[[\"AlertName\", \"TimeGenerated\"]]\n        .groupby(\"AlertName\")\n        .TimeGenerated.agg(\"count\")\n        .to_dict()\n    )\n    print_related_alerts(alert_items, \"account\", account_name)\n    nbdisplay.display_timeline(\n        data=related_alerts, title=\"Alerts\", source_columns=[\"AlertName\"], height=200\n    )\nelse:\n    display(Markdown(\"No related alerts found.\"))\n\ndef disp_full_alert(alert):\n    global related_alert\n    related_alert = SecurityAlert(alert)\n    nbdisplay.display_alert(related_alert, show_entities=True)\n\nif related_alerts is not None and not related_alerts.empty:\n    related_alerts[\"CompromisedEntity\"] = related_alerts[\"src_accountname\"]\n    display(Markdown(\"### Click on alert to view details.\"))\n    rel_alert_select = nbwidgets.AlertSelector(\n        alerts=related_alerts,\n        action=disp_full_alert,\n    )\n    rel_alert_select.display()",
      "execution_count": null,
      "outputs": []
    },
    {
      "metadata": {},
      "cell_type": "markdown",
      "source": "### Hunting/Investigation Bookmarks\nAny alerts with a matching account name are shown here. Select a bookmark to view the contents."
    },
    {
      "metadata": {
        "ExecuteTime": {
          "end_time": "2019-10-19T01:42:25.123092Z",
          "start_time": "2019-10-19T01:42:19.87011Z"
        },
        "scrolled": true,
        "trusted": true
      },
      "cell_type": "code",
      "source": "acct_name = acct_query_params()[\"account_name\"]\nrelated_bkmark_df = qry_prov.AzureSentinel.list_bookmarks_for_entity(\n    **acct_query_params(), entity_id=acct_name\n)\n\ndef print_related_bkmk(bookmarks, entityType, entityName):\n    if len(bookmarks) > 0:\n        md(f\"Found {len(bookmarks)} different bookmarks related to this {entityType} (`{entityName}`)\",\n           \"large, bold\"\n        )\n    else:\n        md(f\"No alerts for {entityType} entity `{entityName}`\")\n\n\nif isinstance(related_bkmark_df, pd.DataFrame) and not related_bkmark_df.empty:\n    bookmarks = (related_bkmark_df\n                 .apply(lambda x: (f\"{x.BookmarkName} {x.Tags}  {x.TimeGenerated}\", x.BookmarkId),\n                        axis=1)\n                 .tolist())\n    print_related_bkmk(bookmarks, \"account\", account_name)\n    nbdisplay.display_timeline(\n        data=related_bkmark_df,\n        title=\"Bookmarks\",\n        source_columns=[\"BookmarkName\", \"Tags\"], height=200\n    )\nelse:\n    display(Markdown(\"No related bookmarks found.\"))\n\ndef disp_bookmark(bookmark_id):\n    display(related_bkmark_df[related_bkmark_df[\"BookmarkId\"] == bookmark_id].T)\n\nif related_bkmark_df is not None and not related_bkmark_df.empty:\n    display(Markdown(\"### Click on bookmark to view details.\"))\n    rel_bkmk_select = nbwidgets.SelectString(\n        item_list=bookmarks,\n        action=disp_bookmark,\n        auto_display=True\n    )\n    ",
      "execution_count": null,
      "outputs": []
    },
    {
      "metadata": {},
      "cell_type": "markdown",
      "source": "## Further Investigation\nDepending on the type of account (AAD or Host/Endpoint account) we can drill deeper to look at data specific to that account type."
    },
    {
      "metadata": {
        "ExecuteTime": {
          "end_time": "2019-10-19T01:42:45.863429Z",
          "start_time": "2019-10-19T01:42:44.898998Z"
        },
        "trusted": true
      },
      "cell_type": "code",
      "source": "# Function definitions used below\n# This cell should be executed before continuing further.\n\n# WHOIS lookup function\nfrom functools import lru_cache\nfrom ipwhois import IPWhois\nfrom ipaddress import ip_address\n\n@lru_cache(maxsize=1024)\ndef get_whois_info(ip_lookup, show_progress=False):\n    try:\n        ip = ip_address(ip_lookup)\n    except ValueError:\n        return \"Not an IP Address\", {}\n    if ip.is_private:\n        return \"private address\", {}\n    if not ip.is_global:\n        return \"other address\", {}\n    whois = IPWhois(ip)\n    whois_result = whois.lookup_whois()\n    if show_progress:\n        print(\".\", end=\"\")\n    return whois_result[\"asn_description\"], whois_result\n\n\nti_lookup = TILookup()\ndef check_ip_ti(df, ip_col):\n\n    ip4_rgx = r\"((?:[0-9]{1,3}\\.){3}[0-9]{1,3})\"\n    src_ip_addrs = (df[[ip_col]]\n                    .assign(IP_ext=lambda x: x[ip_col].str.extract(ip4_rgx, expand=False))\n                    .drop(columns=ip_col)\n                    .rename(columns={\"IP_ext\": ip_col})\n                    .dropna()\n                    .drop_duplicates()\n                   )\n\n    ti_results = ti_lookup.lookup_iocs(data=src_ip_addrs, obs_col=ip_col)\n    ti_results = ti_results[ti_results[\"Severity\"] > 0]\n\n    ti_merged_df = df.merge(ti_results, how=\"left\", left_on=ip_col, right_on=\"Ioc\")\n    return ti_results, ti_merged_df, src_ip_addrs\n\n\ngeo_lookup = GeoLiteLookup()\ndef check_geo_whois(ip_df, df, ip_col):\n        \n    geo_ips = geo_lookup.lookup_ip(ip_addr_list=list(ip_df[ip_col].values))\n    # TODO replace\n    ip_dicts = [{**ent.Location.properties, \"IpAddress\": ent.Address} for ent in geo_ips[1]]\n    df_out = pd.DataFrame(data=ip_dicts)\n    geo_df = df.merge(df_out, how=\"left\", left_on=ip_col, right_on=\"IpAddress\")\n\n    geo_df[[\"ASNDesc\", \"WhoisResult\"]] = (\n        ip_df\n        .apply(lambda x: get_whois_info(x[ip_col]),\n               axis=1, result_type=\"expand\"))\n\n    return geo_df\n\n# Based on the account type, advice the user where to go next.\n\nacct, source = selected_account(select_acct)\nmd(f\"Account '{acct}'. Source is '{source}'\", \"bold, large, blue\")\n\ngoto = lambda x: display(Markdown(f\"### For further analysis go to {x}\"))\nif source == \"LinuxHostLogon\":\n    goto(\"go to [LinuxHostLogon](#Linux-Host)\")\nif source == \"WindowsHostLogon\":\n    goto(\"go to [WindowsHostLogon](#Windows-Host)\")\nif source in [\"AADLogon\", \"AzureActivity\", \"O365Activity\"]:\n    goto(\"go to [AAD/Office Account](#AAD/Office-Account)\")",
      "execution_count": null,
      "outputs": []
    },
    {
      "metadata": {},
      "cell_type": "markdown",
      "source": "## Windows Host\nFor Windows accounts we look for the following types of data:\n\n- Logon Summary\n- Threat Intelligence reports for logon source IP Address(es)\n- Geo location and Whois lookup for logon source IP Address(es)\n- Additional alerts for the hosts where the account had logged on\n- Additional bookmarks for the hosts where the account had logged on"
    },
    {
      "metadata": {
        "ExecuteTime": {
          "end_time": "2019-10-16T23:15:59.556735Z",
          "start_time": "2019-10-16T23:15:57.277191Z"
        },
        "trusted": true
      },
      "cell_type": "code",
      "source": "ext_logon_status = \"| extend LogonStatus = iff(EventID == 4624, 'success', 'failed')\"\nall_win_logons = (qry_prov.WindowsSecurity\n                  .list_logon_attempts_by_account(**acct_query_params(),\n                                                 add_query_items=ext_logon_status))",
      "execution_count": null,
      "outputs": []
    },
    {
      "metadata": {},
      "cell_type": "markdown",
      "source": "### Host Logon Summary"
    },
    {
      "metadata": {
        "ExecuteTime": {
          "end_time": "2019-10-18T00:17:03.123032Z",
          "start_time": "2019-10-18T00:17:02.98811Z"
        },
        "trusted": true
      },
      "cell_type": "code",
      "source": "logon_summary = (all_win_logons\n .groupby(\"Computer\")\n .agg(\n     TotalLogons=pd.NamedAgg(column=\"EventID\", aggfunc=\"count\"),\n     LogonResult=pd.NamedAgg(column=\"LogonStatus\", aggfunc=lambda x: x.value_counts().to_dict()),\n     IPAddresses=pd.NamedAgg(column=\"IpAddress\", aggfunc=lambda x: x.unique().tolist()),\n     LogonTypeCount=pd.NamedAgg(column=\"LogonType\", aggfunc=lambda x: x.value_counts().to_dict()),\n     FirstLogon=pd.NamedAgg(column=\"TimeGenerated\", aggfunc=\"min\"),\n     LastLogon=pd.NamedAgg(column=\"TimeGenerated\", aggfunc=\"max\"),\n  )\n)\n\ndisplay(logon_summary)\nnbdisplay.display_timeline(data=all_win_logons,\n                           group_by=\"IpAddress\",\n                           source_columns=[\"Computer\", \"LogonStatus\", \"LogonType\"],\n                           title=\"Logons\")",
      "execution_count": null,
      "outputs": []
    },
    {
      "metadata": {},
      "cell_type": "markdown",
      "source": "### Threat Intelligence for logon IP Addresses"
    },
    {
      "metadata": {
        "ExecuteTime": {
          "end_time": "2019-10-18T00:30:26.582997Z",
          "start_time": "2019-10-18T00:30:24.765157Z"
        },
        "scrolled": true,
        "trusted": true
      },
      "cell_type": "code",
      "source": "ti_results, all_win_logons_ti, src_ip_addrs_win = check_ip_ti(df=all_win_logons, ip_col=\"IpAddress\")\nif not ti_results.empty:\n    md(f\"{len(ti_results)} threat intelligence hits have been \"\n       + \"matched on one or more source IP addresses.\", \"bold, red, large\")\n    md(\" You should investigate these hosts using \"\n       + \"the 'Entity Explorer - Windows Host' notebook\", \"bold, red\" )\n    md(\"Logon details for TI matches are in the `all_win_logons_ti` DataFrame\")\n    display(ti_results)\nelse:\n    md(\"No additional items found for logged on hosts\")",
      "execution_count": null,
      "outputs": []
    },
    {
      "metadata": {},
      "cell_type": "markdown",
      "source": "### Geolocation and ownership for source logon IP addresses"
    },
    {
      "metadata": {
        "ExecuteTime": {
          "end_time": "2019-10-18T01:15:58.381302Z",
          "start_time": "2019-10-18T01:15:58.33033Z"
        },
        "trusted": true
      },
      "cell_type": "code",
      "source": "all_win_logons_geo = check_geo_whois(src_ip_addrs_win, all_win_logons, \"IpAddress\")\nmd(\"Geolocations and ASN Owner for account logon source IP addresses. Information only\", \"bold\")\n\n(all_win_logons_geo[~all_win_logons_geo[\"CountryName\"].isna()]\n .groupby([\"Computer\", \"IpAddress\", \"CountryCode\",\"CountryName\", \"City\", \"ASNDesc\"])\n .agg(\n     TotalLogons=pd.NamedAgg(column=\"EventID\", aggfunc=\"count\"),\n     LogonResult=pd.NamedAgg(column=\"LogonStatus\", aggfunc=lambda x: x.value_counts().to_dict()),\n     LogonTypeCount=pd.NamedAgg(column=\"LogonType\", aggfunc=lambda x: x.value_counts().to_dict()),\n     FirstLogon=pd.NamedAgg(column=\"TimeGenerated\", aggfunc=\"min\"),\n     LastLogon=pd.NamedAgg(column=\"TimeGenerated\", aggfunc=\"max\"),\n  )\n)\n",
      "execution_count": null,
      "outputs": []
    },
    {
      "metadata": {},
      "cell_type": "markdown",
      "source": "### Additional Alerts for logged-on hosts"
    },
    {
      "metadata": {
        "ExecuteTime": {
          "end_time": "2019-10-18T02:07:24.878821Z",
          "start_time": "2019-10-18T02:07:17.620187Z"
        },
        "trusted": true
      },
      "cell_type": "code",
      "source": "related_host_alerts = []\nfor host in all_win_logons[\"Computer\"].unique():\n    host_alerts = qry_prov.SecurityAlert.list_related_alerts(\n        start=acct_query_params()[\"start\"],\n        end=acct_query_params()[\"end\"],\n        host_name=host\n    )\n    related_host_alerts.append(host_alerts)\n    \nrelated_host_alerts_df = pd.concat(related_host_alerts)\n\n# Show host alerts that were not in the Account alerts list\nrelated_host_alerts_df = related_host_alerts_df[~related_host_alerts_df[\"SystemAlertId\"]\n                                                .isin(related_alerts[\"SystemAlertId\"])]\nif not related_host_alerts_df.empty:\n    md(f\"{len(related_host_alerts_df)} additional alerts have been \"\n       + \"triggered on one or more hosts.\", \"bold, red, large\")\n    md(\" You should investigate these hosts using \"\n       + \"the 'Entity Explorer - Windows Host' notebook\", \"bold, red\" )\n    display(related_host_alerts_df)\nelse:\n    md(\"No additional alerts found\")",
      "execution_count": null,
      "outputs": []
    },
    {
      "metadata": {},
      "cell_type": "markdown",
      "source": "#### Additional alerts for source IP addresses\nWe can also search for alerts that contain the IP addresses that were the origin of logons to the host."
    },
    {
      "metadata": {
        "ExecuteTime": {
          "end_time": "2019-10-18T02:30:22.779728Z",
          "start_time": "2019-10-18T02:30:17.86782Z"
        },
        "trusted": true
      },
      "cell_type": "code",
      "source": "ip_list = \",\".join(list(all_win_logons[\"IpAddress\"].unique()))\nrelated_ip_alerts_df = qry_prov.SecurityAlert.list_alerts_for_ip(\n    start=acct_query_params()[\"start\"],\n    end=acct_query_params()[\"end\"],\n    source_ip_list=ip_list\n)\n# remove Account and host alerts already seen\nrelated_ip_alerts_df = related_ip_alerts_df[~related_ip_alerts_df[\"SystemAlertId\"]\n                                            .isin(related_alerts[\"SystemAlertId\"])]\nrelated_ip_alerts_df = related_ip_alerts_df[~related_ip_alerts_df[\"SystemAlertId\"]\n                                            .isin(related_host_alerts_df[\"SystemAlertId\"])]\nif not related_ip_alerts_df.empty:\n    md(f\"{len(related_ip_alerts_df)} additional alerts have been \"\n       + \"triggered from one or more source IPs.\", \"bold, red, large\")\n    md(\" You should investigate these IPs using \"\n       + \"the 'Entity Explorer - IP Address' notebook\", \"bold, red\" )\n    display(related_ip_alerts_df)\nelse:\n    md(\"No additional alerts found.\")",
      "execution_count": null,
      "outputs": []
    },
    {
      "metadata": {},
      "cell_type": "markdown",
      "source": "### Additional Investigation Bookmarks for logged-on hosts"
    },
    {
      "metadata": {
        "ExecuteTime": {
          "end_time": "2019-10-17T00:22:27.558098Z",
          "start_time": "2019-10-17T00:22:25.245858Z"
        },
        "trusted": true
      },
      "cell_type": "code",
      "source": "related_host_bkmks = []\nfor host in all_win_logons[\"Computer\"].unique():\n    host_bkmks = qry_prov.AzureSentinel.list_bookmarks_for_entity(\n        start=acct_query_params()[\"start\"],\n        end=acct_query_params()[\"end\"],\n        entity_id=f\"'{host}'\"\n    )\n    related_host_bkmks.append(host_bkmks)\n    \nrelated_host_bkmks_df = pd.concat(related_host_bkmks)\n\n# Show host bookmarks that were not in the Account bookmarks list\nrelated_host_bkmks_df = related_host_bkmks_df[~related_host_bkmks_df[\"BookmarkId\"]\n                                              .isin(related_bkmark_df[\"BookmarkId\"])]\nif not related_host_bkmks_df.empty:\n    md(f\"{len(related_host_bkmks_df)} additional investigation bookmarks have been \"\n       + \"found for one or more hosts.\", \"bold, red, large\")\n    md(\" You should investigate these hosts using \"\n       + \"the 'Entity Explorer - Windows Host' notebook\", \"bold, red\" )\n    display(related_host_bkmks_df)\nelse:\n    md(\"No additional items found for logged on hosts\")",
      "execution_count": null,
      "outputs": []
    },
    {
      "metadata": {},
      "cell_type": "markdown",
      "source": "## Linux Host\nFor Linux accounts we look for the following types of data:\n- Logon Summary\n- Threat Intelligence reports for logon source IP Address(es)\n- Geo location and Whois lookup for logon source IP Address(es)\n- Additional alerts for the hosts where the account had logged on\n- Additional bookmarks for the hosts where the account had logged on\n"
    },
    {
      "metadata": {
        "ExecuteTime": {
          "end_time": "2019-10-17T01:12:09.414523Z",
          "start_time": "2019-10-17T01:12:06.50592Z"
        },
        "trusted": true
      },
      "cell_type": "code",
      "source": "all_lx_logons = (qry_prov.LinuxSyslog\n                 .list_logons_for_account(**acct_query_params()))",
      "execution_count": null,
      "outputs": []
    },
    {
      "metadata": {},
      "cell_type": "markdown",
      "source": "### Host Logon Summary"
    },
    {
      "metadata": {
        "ExecuteTime": {
          "end_time": "2019-10-18T00:37:26.703212Z",
          "start_time": "2019-10-18T00:37:26.610352Z"
        },
        "trusted": true
      },
      "cell_type": "code",
      "source": "logon_summary = (all_lx_logons\n .groupby(\"Computer\")\n .agg(\n     TotalLogons=pd.NamedAgg(column=\"Computer\", aggfunc=\"count\"),\n     FailedLogons=pd.NamedAgg(column=\"LogonResult\", aggfunc=lambda x: x.value_counts().to_dict()),\n     IPAddresses=pd.NamedAgg(column=\"SourceIP\", aggfunc=lambda x: x.unique().tolist()),\n     LogonTypeCount=pd.NamedAgg(column=\"LogonType\", aggfunc=lambda x: x.value_counts().to_dict()),\n     FirstLogon=pd.NamedAgg(column=\"TimeGenerated\", aggfunc=\"min\"),\n     LastLogon=pd.NamedAgg(column=\"TimeGenerated\", aggfunc=\"max\"),\n  )\n)\n\ndisplay(logon_summary)\nnbdisplay.display_timeline(data=all_lx_logons,\n                           group_by=\"SourceIP\",\n                           source_columns=[\"Computer\", \"LogonResult\", \"LogonType\"],\n                           title=\"Logons\");",
      "execution_count": null,
      "outputs": []
    },
    {
      "metadata": {},
      "cell_type": "markdown",
      "source": "### Threat Intelligence for logon IP Addresses"
    },
    {
      "metadata": {
        "ExecuteTime": {
          "end_time": "2019-10-18T00:34:57.729768Z",
          "start_time": "2019-10-18T00:34:56.96394Z"
        },
        "scrolled": true,
        "trusted": true
      },
      "cell_type": "code",
      "source": "ti_results_lx, all_lx_logons_ti, src_ip_addrs_lx = check_ip_ti(df=all_lx_logons, ip_col=\"SourceIP\")\n\nif not ti_results_lx.empty:\n    md(f\"{len(ti_results_lx)} threat intelligence hits have been \"\n       + \"matched on one or more source IP addresses.\", \"bold, red, large\")\n    md(\" You should investigate these hosts using \"\n       + \"the 'Entity Explorer - Linux Host' notebook\", \"bold, red\" )\n    display(ti_results_lx)\nelse:\n    md(\"No additional items found for logged on hosts\")",
      "execution_count": null,
      "outputs": []
    },
    {
      "metadata": {},
      "cell_type": "markdown",
      "source": "### Geolocation and ownership for source logon IP addresses"
    },
    {
      "metadata": {
        "ExecuteTime": {
          "end_time": "2019-10-18T00:36:38.966326Z",
          "start_time": "2019-10-18T00:36:38.921842Z"
        },
        "trusted": true
      },
      "cell_type": "code",
      "source": "all_lx_logons_geo = check_geo_whois(src_ip_addrs_lx, all_lx_logons, \"SourceIP\")\n\nmd(\"Geolocations and ASN Owner for account logon source IP addresses. Information only\", \"bold\")\n\n(all_lx_logons_geo[~all_lx_logons_geo[\"CountryName\"].isna()]\n .groupby([\"Computer\", \"SourceIP\", \"CountryCode\",\"CountryName\", \"City\", \"ASNDesc\"])\n .agg(\n     TotalLogons=pd.NamedAgg(column=\"SourceSystem\", aggfunc=\"count\"),\n     LogonResult=pd.NamedAgg(column=\"LogonResult\", aggfunc=lambda x: x.value_counts().to_dict()),\n     LogonTypeCount=pd.NamedAgg(column=\"LogonType\", aggfunc=lambda x: x.value_counts().to_dict()),\n     FirstLogon=pd.NamedAgg(column=\"TimeGenerated\", aggfunc=\"min\"),\n     LastLogon=pd.NamedAgg(column=\"TimeGenerated\", aggfunc=\"max\"),\n  )\n)",
      "execution_count": null,
      "outputs": []
    },
    {
      "metadata": {},
      "cell_type": "markdown",
      "source": "### Additional Alerts for logged-on hosts"
    },
    {
      "metadata": {
        "ExecuteTime": {
          "end_time": "2019-10-18T02:35:11.6751Z",
          "start_time": "2019-10-18T02:35:06.398572Z"
        },
        "trusted": true
      },
      "cell_type": "code",
      "source": "related_host_alerts = []\nfor host in all_lx_logons[\"Computer\"].unique():\n    host_alerts = qry_prov.SecurityAlert.list_related_alerts(\n        start=acct_query_params()[\"start\"],\n        end=acct_query_params()[\"end\"],\n        host_name=host\n    )\n    related_host_alerts.append(host_alerts)\n    \nrelated_host_alerts_df = pd.concat(related_host_alerts)\n\n# Show host alerts that were not in the Account alerts list\nrelated_host_alerts_df = related_host_alerts_df[~related_host_alerts_df[\"SystemAlertId\"]\n                                                .isin(related_alerts[\"SystemAlertId\"])]\nif not related_host_alerts_df.empty:\n    md(f\"{len(related_host_alerts_df)} additional alerts have been \"\n       + \"triggered on one or more hosts.\", \"bold, red, large\")\n    md(\" You should investigate these hosts using \"\n       + \"the 'Entity Explorer - Linux Host' notebook\", \"bold, red\" )\n    display(related_host_alerts_df[['TenantId','TimeGenerated','AlertDisplayName','ConfidenceLevel','ConfidenceScore','Computer','ExtendedProperties','Entities']])\nelse:\n    md(\"No additional items found for logged on hosts\")",
      "execution_count": null,
      "outputs": []
    },
    {
      "metadata": {},
      "cell_type": "markdown",
      "source": "#### Additional alerts for source IP addresses\nWe can also search for alerts that contain the IP addresses that were the origin of logons to the host."
    },
    {
      "metadata": {
        "ExecuteTime": {
          "end_time": "2019-10-18T02:38:57.430531Z",
          "start_time": "2019-10-18T02:38:51.274039Z"
        },
        "trusted": true
      },
      "cell_type": "code",
      "source": "ip_list = \",\".join(list(all_lx_logons[\"SourceIP\"].unique()))\nrelated_ip_alerts_df = qry_prov.SecurityAlert.list_alerts_for_ip(\n    start=acct_query_params()[\"start\"],\n    end=acct_query_params()[\"end\"],\n    source_ip_list=ip_list\n)\n# remove Account and host alerts already seen\nrelated_ip_alerts_df = related_ip_alerts_df[~related_ip_alerts_df[\"SystemAlertId\"]\n                                            .isin(related_alerts[\"SystemAlertId\"])]\nrelated_ip_alerts_df = related_ip_alerts_df[~related_ip_alerts_df[\"SystemAlertId\"]\n                                            .isin(related_host_alerts_df[\"SystemAlertId\"])]\nif not related_ip_alerts_df.empty:\n    md(f\"{len(related_ip_alerts_df)} additional alerts have been \"\n       + \"triggered from one or more source IPs.\", \"bold, red, large\")\n    md(\" You should investigate these IPs using \"\n       + \"the 'Entity Explorer - IP Address' notebook\", \"bold, red\" )\n    display(related_ip_alerts_df)\nelse:\n    md(\"No additional alerts found.\")",
      "execution_count": null,
      "outputs": []
    },
    {
      "metadata": {},
      "cell_type": "markdown",
      "source": "### Additional Investigation Bookmarks for logged-on hosts"
    },
    {
      "metadata": {
        "ExecuteTime": {
          "end_time": "2019-10-17T01:37:22.034764Z",
          "start_time": "2019-10-17T01:37:19.091489Z"
        },
        "trusted": true
      },
      "cell_type": "code",
      "source": "related_host_bkmks = []\nfor host in all_lx_logons[\"Computer\"].unique():\n    host_bkmks = qry_prov.AzureSentinel.list_bookmarks_for_entity(\n        start=acct_query_params()[\"start\"],\n        end=acct_query_params()[\"end\"],\n        entity_id=host\n    )\n    related_host_bkmks.append(host_bkmks)\n    \nrelated_host_bkmks_df = pd.concat(related_host_bkmks)\n\n# Show host bookmarks that were not in the Account bookmarks list\nrelated_host_bkmks_df = related_host_bkmks_df[~related_host_bkmks_df[\"BookmarkId\"]\n                                              .isin(related_bkmark_df[\"BookmarkId\"])]\nif not related_host_bkmks_df.empty:\n    md(f\"{len(related_host_bkmks_df)} additional investigation bookmarks have been \"\n       + \"found for one or more hosts.\", \"bold, red, large\")\n    md(\" You should investigate these hosts using \"\n       + \"the 'Entity Explorer - Windows Host' notebook\", \"bold, red\" )\n    display(related_host_bkmks_df)\nelse:\n    md(\"No additional items found for logged on hosts\")",
      "execution_count": null,
      "outputs": []
    },
    {
      "metadata": {},
      "cell_type": "markdown",
      "source": "## AAD/Office Account\nFor an Azure Active Directory account we look for the following data:\n- AAD Sign-on activity\n- Azure Activity\n- Office 365 operations\n- Threat intelligence reports for the client IP Address used in any of these activities\n- Geo location and Whois lookup for logon source IP Address(es)\n- Additional alerts for the logon source IP Address(es)"
    },
    {
      "metadata": {
        "ExecuteTime": {
          "end_time": "2019-10-19T01:43:06.466218Z",
          "start_time": "2019-10-19T01:42:52.721479Z"
        },
        "scrolled": true,
        "trusted": true
      },
      "cell_type": "code",
      "source": "# Fetch the data\naad_sum_qry = \"\"\"\n| extend UserPrincipalName=tolower(UserPrincipalName)\n| project-rename Operation=OperationName, AppResourceProvider=AppDisplayName\"\"\"\naad_signin_df = (qry_prov.Azure\n                 .list_aad_signins_for_account(**acct_query_params(),\n                                              add_query_items=aad_sum_qry)\n                )\n\naz_sum_qry = \"\"\"\n| extend UserPrincipalName=tolower(Caller)\n| project-rename IPAddress=CallerIpAddress, Operation=OperationName,\n  AppResourceProvider=ResourceProvider\"\"\"\nazure_activity_df = (qry_prov.Azure\n                     .list_azure_activity_for_account(**acct_query_params(),\n                                                      add_query_items=az_sum_qry)\n                    )\n\no365_sum_qry = \"\"\"\n| extend UserPrincipalName=tolower(UserId)\n| project-rename IPAddress=ClientIP, ResourceId=OfficeObjectId,\n  AppResourceProvider=OfficeWorkload\"\"\"\no365_activity_df = (qry_prov.Office365\n                    .list_activity_for_account(**acct_query_params(),\n                                               add_query_items=o365_sum_qry)\n                    )\n",
      "execution_count": null,
      "outputs": []
    },
    {
      "metadata": {},
      "cell_type": "markdown",
      "source": "### Azure/Office Summary"
    },
    {
      "metadata": {
        "ExecuteTime": {
          "end_time": "2019-10-19T01:43:10.338697Z",
          "start_time": "2019-10-19T01:43:09.818019Z"
        },
        "trusted": true
      },
      "cell_type": "code",
      "source": "az_all_data = pd.concat([aad_signin_df, azure_activity_df, o365_activity_df], sort=False)\nnbdisplay.display_timeline(data=az_all_data,\n                          group_by=\"AppResourceProvider\",\n                          source_columns=[\"Operation\", \"IPAddress\", \"AppResourceProvider\"],\n                          title=\"Azure Operations by Provider\")\nnbdisplay.display_timeline(data=az_all_data,\n                          group_by=\"IPAddress\",\n                          source_columns=[\"Operation\", \"IPAddress\", \"AppResourceProvider\"],\n                          title=\"Azure Operations by Source IP\")\nnbdisplay.display_timeline(data=az_all_data,\n                          group_by=\"Operation\",\n                          source_columns=[\"Operation\", \"IPAddress\", \"AppResourceProvider\"],\n                          title=\"Azure Operations by Source IP\");",
      "execution_count": null,
      "outputs": []
    },
    {
      "metadata": {
        "ExecuteTime": {
          "end_time": "2019-10-19T01:44:19.796997Z",
          "start_time": "2019-10-19T01:44:19.762018Z"
        },
        "trusted": true
      },
      "cell_type": "code",
      "source": "(az_all_data\n.groupby([\"UserPrincipalName\", \"Type\", \"IPAddress\", \"AppResourceProvider\", \"UserType\"])\n.agg(\n     OperationCount=pd.NamedAgg(column=\"Type\", aggfunc=\"count\"),\n     OperationTypes=pd.NamedAgg(column=\"Operation\", aggfunc=lambda x: x.unique().tolist()),\n     Resources=pd.NamedAgg(column=\"ResourceId\", aggfunc=\"nunique\"),\n     FirstOperation=pd.NamedAgg(column=\"TimeGenerated\", aggfunc=\"min\"),\n     LastOperation=pd.NamedAgg(column=\"TimeGenerated\", aggfunc=\"max\"),\n  )\n)",
      "execution_count": null,
      "outputs": []
    },
    {
      "metadata": {},
      "cell_type": "markdown",
      "source": "### Threat Intelligence for IP Addresses"
    },
    {
      "metadata": {
        "ExecuteTime": {
          "end_time": "2019-10-18T01:42:56.300886Z",
          "start_time": "2019-10-18T01:42:49.471662Z"
        },
        "scrolled": true,
        "trusted": true
      },
      "cell_type": "code",
      "source": "ti_results_az, all_az_ti, src_ip_addrs_az = check_ip_ti(df=az_all_data, ip_col=\"IPAddress\")\n\nif not ti_results_az.empty:\n    md(f\"{len(ti_results_az)} threat intelligence hits have been \"\n       + \"matched on one or more source IP addresses.\", \"bold, red, large\")\n    md(\" You should investigate these IP addresses using \"\n       + \"the 'Entity Explorer - IP Address' notebook\", \"bold, red\" )\n    display(ti_results_az)\nelse:\n    md(\"No additional items found\")",
      "execution_count": null,
      "outputs": []
    },
    {
      "metadata": {},
      "cell_type": "markdown",
      "source": "### Geolocation and ownership for source IP addresses"
    },
    {
      "metadata": {
        "ExecuteTime": {
          "end_time": "2019-10-18T01:52:39.305038Z",
          "start_time": "2019-10-18T01:52:39.243074Z"
        },
        "trusted": true
      },
      "cell_type": "code",
      "source": "all_az_geo = check_geo_whois(src_ip_addrs_az, az_all_data, \"IPAddress\")\n\nmd(\"Geolocations and ASN Owner for source IP addresses. Information only\", \"bold\")\n\n(all_az_geo[~all_az_geo[\"CountryName\"].isna()]\n .groupby([\"UserPrincipalName\", \"IPAddress\", \"CountryCode\",\"CountryName\", \"City\", \"ASNDesc\"])\n .agg(\n     TotalOperations=pd.NamedAgg(column=\"SourceSystem\", aggfunc=\"count\"),\n     Operations=pd.NamedAgg(column=\"Operation\", aggfunc=lambda x: x.value_counts().to_dict()),\n     AppResources=pd.NamedAgg(column=\"AppResourceProvider\", aggfunc=lambda x: x.unique().tolist()),\n     FirstLogon=pd.NamedAgg(column=\"TimeGenerated\", aggfunc=\"min\"),\n     LastLogon=pd.NamedAgg(column=\"TimeGenerated\", aggfunc=\"max\"),\n  )\n)",
      "execution_count": null,
      "outputs": []
    },
    {
      "metadata": {},
      "cell_type": "markdown",
      "source": "### Additional alerts for source IP addresses"
    },
    {
      "metadata": {
        "ExecuteTime": {
          "end_time": "2019-10-18T02:38:57.430531Z",
          "start_time": "2019-10-18T02:38:51.274039Z"
        },
        "trusted": true
      },
      "cell_type": "code",
      "source": "ip_list = \",\".join(list(src_ip_addrs_az[\"IPAddress\"].unique()))\nrelated_ip_alerts_df = qry_prov.SecurityAlert.list_alerts_for_ip(\n    start=acct_query_params()[\"start\"],\n    end=acct_query_params()[\"end\"],\n    source_ip_list=ip_list\n)\n# remove Account and host alerts already seen\nrelated_ip_alerts_df = related_ip_alerts_df[~related_ip_alerts_df[\"SystemAlertId\"]\n                                            .isin(related_alerts[\"SystemAlertId\"])]\nif not related_ip_alerts_df.empty:\n    md(f\"{len(related_ip_alerts_df)} additional alerts have been \"\n       + \"triggered from one or more source IPs.\", \"bold, red, large\")\n    md(\" You should investigate these IPs using \"\n       + \"the 'Entity Explorer - IP Address' notebook\", \"bold, red\" )\n    display(related_ip_alerts_df)",
      "execution_count": null,
      "outputs": []
    },
    {
      "metadata": {},
      "cell_type": "markdown",
      "source": "## Appendices"
    },
    {
      "metadata": {},
      "cell_type": "markdown",
      "source": "### Available DataFrames"
    },
    {
      "metadata": {
        "ExecuteTime": {
          "end_time": "2019-10-18T03:26:11.596865Z",
          "start_time": "2019-10-18T03:26:11.58687Z"
        },
        "scrolled": true,
        "trusted": true
      },
      "cell_type": "code",
      "source": "print('List of current DataFrames in Notebook')\nprint('-' * 50)\ncurrent_vars = list(locals().keys())\nfor var_name in current_vars:\n    if isinstance(locals()[var_name], pd.DataFrame) and not var_name.startswith('_'):\n        print(var_name)",
      "execution_count": null,
      "outputs": []
    },
    {
      "metadata": {},
      "cell_type": "markdown",
      "source": "### Saving data to Excel\nTo save the contents of a pandas DataFrame to an Excel spreadsheet\nuse the following syntax\n```\nwriter = pd.ExcelWriter('myWorksheet.xlsx')\nmy_data_frame.to_excel(writer,'Sheet1')\nwriter.save()\n```"
    },
    {
      "metadata": {},
      "cell_type": "markdown",
      "source": "## Setup\nIf you have not run this Notebook before please run this cell before running the rest of the Notebook."
    },
    {
      "metadata": {
        "ExecuteTime": {
          "end_time": "2019-09-16T14:59:27.997028Z",
          "start_time": "2019-09-16T14:59:25.603397Z"
        },
        "scrolled": true,
        "trusted": true
      },
      "cell_type": "code",
      "source": "import sys\nimport warnings\nwarnings.filterwarnings(\"ignore\",category=DeprecationWarning)\n\n\nMIN_REQ_PYTHON = (3,6)\nif sys.version_info < MIN_REQ_PYTHON:\n    print('Check the Kernel->Change Kernel menu and ensure that Python 3.6')\n    print('or later is selected as the active kernel.')\n    sys.exit(\"Python %s.%s or later is required.\\n\" % MIN_REQ_PYTHON)\n\n# Package Installs - try to avoid if they are already installed\ntry:\n    import Kqlmagic\n    from ipwhois import IPWhois\n    print('If you answer \"n\" this cell will exit with an error in order to avoid the pip install calls,')\n    print('This error can safely be ignored.')\n    resp = input('msticpy and Kqlmagic packages are already loaded. Do you want to re-install? (y/n)')\n    if resp.strip().lower() != 'y':\n        sys.exit('pip install aborted - you may skip this error and continue.')\n    else:\n        print('After installation has completed, restart the current kernel and run '\n              'the notebook again skipping this cell.')\nexcept ImportError:\n    pass\n\nprint('\\nPlease wait. Installing required packages. This may take a few minutes...')\n!pip install msticpy --upgrade --user\n!pip install ipwhois --upgrade --user\n \n# Uncomment to refresh the maxminddb database\n# !pip install maxminddb-geolite2 --upgrade \nprint('To ensure that the latest versions of the installed libraries '\n      'are used, please restart the current kernel and run '\n      'the notebook again skipping this cell.')",
      "execution_count": null,
      "outputs": []
    },
    {
      "metadata": {},
      "cell_type": "markdown",
      "source": "### `msticpyconfig.yaml` configuration File\nYou can configure primary and secondary TI providers and any required parameters in the `msticpyconfig.yaml` file. This is read from the current directory or you can set an environment variable (`MSTICPYCONFIG`) pointing to its location.\n\nPrimary providers are used by default. Secondary providers can be invoked by using the `providers` parameter to lookup_ioc or lookup_iocs. `providers` should be a list of strings identifying the provider to use. The provider ID is given by the `Provider:` setting for each of the TI providers.\n\nFor most providers you will usually need to supply an authorization (API) key and in some cases a user ID for each provider.\n\nFor LogAnalytics/Azure Sentinel providers, you will need the workspace ID and tenant ID and will need to authenticate in order to access the data (although if you have an existing authenticated connection with the same workspace/tenant, this connection will be re-used). You can use a different workspace for TI from the one you are working in.\n\nIf you need to create a config file, uncomment the lines in the following cell.\n\n**Warning** - this will overwrite a file of the same name in the current directory\n\nDelete any provider entries that you do not want to use and add the missing parameters for your providers."
    },
    {
      "metadata": {
        "trusted": true
      },
      "cell_type": "code",
      "source": "# %%writefile msticpyconfig.yaml\n\n# AzureSentinel:\n#   #Workspaces:\n#   #  Default:\n#   #    WorkspaceId: \"d973e3d2-28e6-458e-b2cf-d38876fb1ba4\"\n#   #    TenantId: \"4cdf87a8-f0fc-40bb-9d85-68bcf4ac8e61\"\n#   #  Workspace2:\n#   #    WorkspaceId: \"c88dd3c2-d657-4eb3-b913-58d58d811a41\"\n#   #    TenantId: \"4cdf87a8-f0fc-40bb-9d85-68bcf4ac8e61\"\n#   #  Workspace3:\n#   #    WorkspaceId: \"17e64332-19c9-472e-afd7-3629f299300c\"\n#   #    TenantId: \"4ea41beb-4546-4fba-890b-55553ce6003a\"\n# QueryDefinitions:\n#   # Uncomment and add paths to folders containing custom query definitions here\n#   #Custom:\n#   #  - /home/myuser/queries\n# TIProviders:\n#   OTX:\n#     Args:\n#       AuthKey: \"your-otx-key\"\n#     Primary: True\n#     Provider: \"OTX\" # Explicitly name provider to override\n#   VirusTotal:\n#     Args:\n#       AuthKey: \"your-vt-key\"\n#     Primary: True\n#     Provider: \"VirusTotal\"\n#   XForce:\n#     # You can store items in an environment variable using this syntax\n#     Args:\n#       ApiID:\n#         EnvironmentVar: \"XFORCE_ID\"\n#       AuthKey:\n#         EnvironmentVar: \"XFORCE_KEY\"\n#     Primary: True\n#     Provider: \"XForce\"\n#   AzureSentinel:\n#     Args:\n#       # Workspace and tenant where your ThreatIndicator table is\n#       # - usually the same as your default workspace\n#       WorkspaceID: \"c88dd3c2-d657-4eb3-b913-58d58d811a41\"\n#       TenantID: \"4cdf87a8-f0fc-40bb-9d85-68bcf4ac8e61\"\n#     Primary: True\n#     Provider: \"AzSTI\"",
      "execution_count": null,
      "outputs": []
    }
  ],
  "metadata": {
    "celltoolbar": "Attachments",
    "hide_input": false,
    "kernelspec": {
      "name": "python36",
      "display_name": "Python 3.6",
      "language": "python"
    },
    "toc": {
      "base_numbering": 1,
      "nav_menu": {},
      "number_sections": true,
      "sideBar": true,
      "skip_h1_title": true,
      "title_cell": "Contents",
      "title_sidebar": "Contents",
      "toc_cell": true,
      "toc_position": {
        "height": "calc(100% - 180px)",
        "left": "10px",
        "top": "150px",
        "width": "512px"
      },
      "toc_section_display": true,
      "toc_window_display": true
    },
    "varInspector": {
      "cols": {
        "lenName": 16,
        "lenType": 16,
        "lenVar": 40
      },
      "kernels_config": {
        "python": {
          "delete_cmd_postfix": "",
          "delete_cmd_prefix": "del ",
          "library": "var_list.py",
          "varRefreshCmd": "print(var_dic_list())"
        },
        "r": {
          "delete_cmd_postfix": ") ",
          "delete_cmd_prefix": "rm(",
          "library": "var_list.r",
          "varRefreshCmd": "cat(var_dic_list()) "
        }
      },
      "types_to_exclude": [
        "module",
        "function",
        "builtin_function_or_method",
        "instance",
        "_Feature"
      ],
      "window_display": false
    },
    "widgets": {
      "application/vnd.jupyter.widget-state+json": {
        "state": {
          "035ff12b609d4f7da9a510b9c25c1d72": {
            "model_module": "@jupyter-widgets/output",
            "model_module_version": "1.0.0",
            "model_name": "OutputModel",
            "state": {
              "layout": "IPY_MODEL_ed6a98c8255941e7baf94ebff51afb2d",
              "outputs": [
                {
                  "data": {
                    "text/markdown": "<p style='font-weight: bold'>ianh@m365x054215.onmicrosoft.com (source: O365Activity)</p>",
                    "text/plain": "<IPython.core.display.Markdown object>"
                  },
                  "metadata": {},
                  "output_type": "display_data"
                },
                {
                  "data": {
                    "text/html": "<div>\n<style scoped>\n    .dataframe tbody tr th:only-of-type {\n        vertical-align: middle;\n    }\n\n    .dataframe tbody tr th {\n        vertical-align: top;\n    }\n\n    .dataframe thead th {\n        text-align: right;\n    }\n</style>\n<table border=\"1\" class=\"dataframe\">\n  <thead>\n    <tr style=\"text-align: right;\">\n      <th></th>\n      <th>OfficeId</th>\n      <th>RecordType</th>\n      <th>TimeGenerated</th>\n      <th>Operation</th>\n      <th>OrganizationId</th>\n      <th>UserType</th>\n      <th>UserKey</th>\n      <th>AppResourceProvider</th>\n      <th>ResultStatus</th>\n      <th>ResourceId</th>\n      <th>UserId</th>\n      <th>IPAddress</th>\n      <th>Site_</th>\n      <th>ItemType</th>\n      <th>EventSource</th>\n      <th>Source_Name</th>\n      <th>UserAgent</th>\n      <th>MachineDomainInfo</th>\n      <th>MachineId</th>\n      <th>Site_Url</th>\n      <th>SourceRelativeUrl</th>\n      <th>SourceFileName</th>\n      <th>SourceFileExtension</th>\n      <th>DestinationRelativeUrl</th>\n      <th>DestinationFileName</th>\n      <th>...</th>\n      <th>LoginStatus</th>\n      <th>UserDomain</th>\n      <th>Actor</th>\n      <th>ActorContextId</th>\n      <th>ActorIpAddress</th>\n      <th>InterSystemsId</th>\n      <th>IntraSystemId</th>\n      <th>SupportTicketId</th>\n      <th>AADTarget</th>\n      <th>TargetContextId</th>\n      <th>DataCenterSecurityEventType</th>\n      <th>Start_Time</th>\n      <th>EffectiveOrganization</th>\n      <th>ElevationTime</th>\n      <th>ElevationApprover</th>\n      <th>ElevationApprovedTime</th>\n      <th>ElevationRequestId</th>\n      <th>ElevationRole</th>\n      <th>ElevationDuration</th>\n      <th>GenericInfo</th>\n      <th>TenantId</th>\n      <th>OfficeTenantId</th>\n      <th>SourceSystem</th>\n      <th>Type</th>\n      <th>UserPrincipalName</th>\n    </tr>\n  </thead>\n  <tbody>\n    <tr>\n      <td>90</td>\n      <td>1827a799-9b5f-4082-b7c2-08d693b9fec0</td>\n      <td>SharePointFileOperation</td>\n      <td>2019-02-16 02:53:57</td>\n      <td>FileUploaded</td>\n      <td>aa46238d-13fc-4314-8f0c-94044435adb1</td>\n      <td>Regular</td>\n      <td>i:0h.f|membership|100320003b5602fc@live.com</td>\n      <td>OneDrive</td>\n      <td></td>\n      <td>https://m365x054215-my.sharepoint.com/personal/ianh_m365x054215_onmicrosoft_com/Documents/Docume...</td>\n      <td>ianh@m365x054215.onmicrosoft.com</td>\n      <td>20.190.133.114</td>\n      <td>4f96a3b3-f5ae-4706-af77-7984baf27d79</td>\n      <td>File</td>\n      <td>SharePoint</td>\n      <td></td>\n      <td>Mozilla/5.0 (Windows NT 10.0; Win64; x64) AppleWebKit/537.36 (KHTML, like Gecko) Chrome/64.0.328...</td>\n      <td></td>\n      <td></td>\n      <td>https://m365x054215-my.sharepoint.com/personal/ianh_m365x054215_onmicrosoft_com/</td>\n      <td>Documents</td>\n      <td>Document.docx</td>\n      <td>docx</td>\n      <td></td>\n      <td></td>\n      <td>...</td>\n      <td>NaN</td>\n      <td></td>\n      <td></td>\n      <td></td>\n      <td></td>\n      <td></td>\n      <td></td>\n      <td></td>\n      <td></td>\n      <td></td>\n      <td>NaN</td>\n      <td>2019-02-16 03:06:18</td>\n      <td></td>\n      <td>2019-02-16 03:06:18</td>\n      <td></td>\n      <td>NaT</td>\n      <td></td>\n      <td></td>\n      <td>NaN</td>\n      <td></td>\n      <td>52b1ab41-869e-4138-9e40-2a4457f09bf0</td>\n      <td>aa46238d-13fc-4314-8f0c-94044435adb1</td>\n      <td>OfficeActivityManager</td>\n      <td>OfficeActivity</td>\n      <td>ianh@m365x054215.onmicrosoft.com</td>\n    </tr>\n    <tr>\n      <td>89</td>\n      <td>ea0dfabe-6ca3-4844-3dd4-08d693ba08e5</td>\n      <td>SharePointFileOperation</td>\n      <td>2019-02-16 02:54:14</td>\n      <td>FileAccessed</td>\n      <td>aa46238d-13fc-4314-8f0c-94044435adb1</td>\n      <td>Regular</td>\n      <td>i:0h.f|membership|100320003b5602fc@live.com</td>\n      <td>OneDrive</td>\n      <td></td>\n      <td>https://m365x054215-my.sharepoint.com/personal/ianh_m365x054215_onmicrosoft_com/Documents/Docume...</td>\n      <td>ianh@m365x054215.onmicrosoft.com</td>\n      <td>131.107.147.209</td>\n      <td>4f96a3b3-f5ae-4706-af77-7984baf27d79</td>\n      <td>File</td>\n      <td>SharePoint</td>\n      <td></td>\n      <td>Mozilla/5.0 (Windows NT 10.0; Win64; x64) AppleWebKit/537.36 (KHTML, like Gecko) Chrome/64.0.328...</td>\n      <td></td>\n      <td></td>\n      <td>https://m365x054215-my.sharepoint.com/personal/ianh_m365x054215_onmicrosoft_com/</td>\n      <td>Documents</td>\n      <td>Document.docx</td>\n      <td>docx</td>\n      <td></td>\n      <td></td>\n      <td>...</td>\n      <td>NaN</td>\n      <td></td>\n      <td></td>\n      <td></td>\n      <td></td>\n      <td></td>\n      <td></td>\n      <td></td>\n      <td></td>\n      <td></td>\n      <td>NaN</td>\n      <td>2019-02-16 03:06:18</td>\n      <td></td>\n      <td>2019-02-16 03:06:18</td>\n      <td></td>\n      <td>NaT</td>\n      <td></td>\n      <td></td>\n      <td>NaN</td>\n      <td></td>\n      <td>52b1ab41-869e-4138-9e40-2a4457f09bf0</td>\n      <td>aa46238d-13fc-4314-8f0c-94044435adb1</td>\n      <td>OfficeActivityManager</td>\n      <td>OfficeActivity</td>\n      <td>ianh@m365x054215.onmicrosoft.com</td>\n    </tr>\n    <tr>\n      <td>91</td>\n      <td>935acd8c-d863-42ca-e4a0-08d693ba0dc0</td>\n      <td>SharePointFileOperation</td>\n      <td>2019-02-16 02:54:22</td>\n      <td>FileModified</td>\n      <td>aa46238d-13fc-4314-8f0c-94044435adb1</td>\n      <td>Regular</td>\n      <td>i:0h.f|membership|100320003b5602fc@live.com</td>\n      <td>OneDrive</td>\n      <td></td>\n      <td>https://m365x054215-my.sharepoint.com/personal/ianh_m365x054215_onmicrosoft_com/Documents/Docume...</td>\n      <td>ianh@m365x054215.onmicrosoft.com</td>\n      <td>40.81.158.170</td>\n      <td>4f96a3b3-f5ae-4706-af77-7984baf27d79</td>\n      <td>File</td>\n      <td>SharePoint</td>\n      <td></td>\n      <td>MSWAC</td>\n      <td></td>\n      <td></td>\n      <td>https://m365x054215-my.sharepoint.com/personal/ianh_m365x054215_onmicrosoft_com/</td>\n      <td>Documents</td>\n      <td>Document.docx</td>\n      <td>docx</td>\n      <td></td>\n      <td></td>\n      <td>...</td>\n      <td>NaN</td>\n      <td></td>\n      <td></td>\n      <td></td>\n      <td></td>\n      <td></td>\n      <td></td>\n      <td></td>\n      <td></td>\n      <td></td>\n      <td>NaN</td>\n      <td>2019-02-16 03:06:18</td>\n      <td></td>\n      <td>2019-02-16 03:06:18</td>\n      <td></td>\n      <td>NaT</td>\n      <td></td>\n      <td></td>\n      <td>NaN</td>\n      <td></td>\n      <td>52b1ab41-869e-4138-9e40-2a4457f09bf0</td>\n      <td>aa46238d-13fc-4314-8f0c-94044435adb1</td>\n      <td>OfficeActivityManager</td>\n      <td>OfficeActivity</td>\n      <td>ianh@m365x054215.onmicrosoft.com</td>\n    </tr>\n    <tr>\n      <td>84</td>\n      <td>5a043c42-2b3d-45ac-f185-08d693ba204e</td>\n      <td>SharePointFileOperation</td>\n      <td>2019-02-16 02:54:53</td>\n      <td>FileModified</td>\n      <td>aa46238d-13fc-4314-8f0c-94044435adb1</td>\n      <td>Regular</td>\n      <td>i:0h.f|membership|100320003b5602fc@live.com</td>\n      <td>OneDrive</td>\n      <td></td>\n      <td>https://m365x054215-my.sharepoint.com/personal/ianh_m365x054215_onmicrosoft_com/Documents/Docume...</td>\n      <td>ianh@m365x054215.onmicrosoft.com</td>\n      <td>40.81.159.43</td>\n      <td>4f96a3b3-f5ae-4706-af77-7984baf27d79</td>\n      <td>File</td>\n      <td>SharePoint</td>\n      <td></td>\n      <td>MSWAC</td>\n      <td></td>\n      <td></td>\n      <td>https://m365x054215-my.sharepoint.com/personal/ianh_m365x054215_onmicrosoft_com/</td>\n      <td>Documents</td>\n      <td>Document.docx</td>\n      <td>docx</td>\n      <td></td>\n      <td></td>\n      <td>...</td>\n      <td>NaN</td>\n      <td></td>\n      <td></td>\n      <td></td>\n      <td></td>\n      <td></td>\n      <td></td>\n      <td></td>\n      <td></td>\n      <td></td>\n      <td>NaN</td>\n      <td>2019-02-16 03:06:18</td>\n      <td></td>\n      <td>2019-02-16 03:06:18</td>\n      <td></td>\n      <td>NaT</td>\n      <td></td>\n      <td></td>\n      <td>NaN</td>\n      <td></td>\n      <td>52b1ab41-869e-4138-9e40-2a4457f09bf0</td>\n      <td>aa46238d-13fc-4314-8f0c-94044435adb1</td>\n      <td>OfficeActivityManager</td>\n      <td>OfficeActivity</td>\n      <td>ianh@m365x054215.onmicrosoft.com</td>\n    </tr>\n    <tr>\n      <td>88</td>\n      <td>648e58df-14f2-49f2-bd80-08d693ba2400</td>\n      <td>SharePointFileOperation</td>\n      <td>2019-02-16 02:54:59</td>\n      <td>FileUploaded</td>\n      <td>aa46238d-13fc-4314-8f0c-94044435adb1</td>\n      <td>Regular</td>\n      <td>i:0h.f|membership|100320003b5602fc@live.com</td>\n      <td>OneDrive</td>\n      <td></td>\n      <td>https://m365x054215-my.sharepoint.com/personal/ianh_m365x054215_onmicrosoft_com/Documents/Terms ...</td>\n      <td>ianh@m365x054215.onmicrosoft.com</td>\n      <td>40.81.159.203</td>\n      <td>4f96a3b3-f5ae-4706-af77-7984baf27d79</td>\n      <td>File</td>\n      <td>SharePoint</td>\n      <td></td>\n      <td>MSWAC</td>\n      <td></td>\n      <td></td>\n      <td>https://m365x054215-my.sharepoint.com/personal/ianh_m365x054215_onmicrosoft_com/</td>\n      <td>Documents</td>\n      <td>Terms and Conditions.docx</td>\n      <td>docx</td>\n      <td></td>\n      <td></td>\n      <td>...</td>\n      <td>NaN</td>\n      <td></td>\n      <td></td>\n      <td></td>\n      <td></td>\n      <td></td>\n      <td></td>\n      <td></td>\n      <td></td>\n      <td></td>\n      <td>NaN</td>\n      <td>2019-02-16 03:06:18</td>\n      <td></td>\n      <td>2019-02-16 03:06:18</td>\n      <td></td>\n      <td>NaT</td>\n      <td></td>\n      <td></td>\n      <td>NaN</td>\n      <td></td>\n      <td>52b1ab41-869e-4138-9e40-2a4457f09bf0</td>\n      <td>aa46238d-13fc-4314-8f0c-94044435adb1</td>\n      <td>OfficeActivityManager</td>\n      <td>OfficeActivity</td>\n      <td>ianh@m365x054215.onmicrosoft.com</td>\n    </tr>\n    <tr>\n      <td>85</td>\n      <td>ae7d7ace-8fe1-4312-b264-08d693ba247e</td>\n      <td>SharePointFileOperation</td>\n      <td>2019-02-16 02:55:00</td>\n      <td>FileAccessed</td>\n      <td>aa46238d-13fc-4314-8f0c-94044435adb1</td>\n      <td>Regular</td>\n      <td>i:0h.f|membership|100320003b5602fc@live.com</td>\n      <td>OneDrive</td>\n      <td></td>\n      <td>https://m365x054215-my.sharepoint.com/personal/ianh_m365x054215_onmicrosoft_com/Documents/Terms ...</td>\n      <td>ianh@m365x054215.onmicrosoft.com</td>\n      <td>131.107.147.209</td>\n      <td>4f96a3b3-f5ae-4706-af77-7984baf27d79</td>\n      <td>File</td>\n      <td>SharePoint</td>\n      <td></td>\n      <td>Mozilla/5.0 (Windows NT 10.0; Win64; x64) AppleWebKit/537.36 (KHTML, like Gecko) Chrome/64.0.328...</td>\n      <td></td>\n      <td></td>\n      <td>https://m365x054215-my.sharepoint.com/personal/ianh_m365x054215_onmicrosoft_com/</td>\n      <td>Documents</td>\n      <td>Terms and Conditions.docx</td>\n      <td>docx</td>\n      <td></td>\n      <td></td>\n      <td>...</td>\n      <td>NaN</td>\n      <td></td>\n      <td></td>\n      <td></td>\n      <td></td>\n      <td></td>\n      <td></td>\n      <td></td>\n      <td></td>\n      <td></td>\n      <td>NaN</td>\n      <td>2019-02-16 03:06:18</td>\n      <td></td>\n      <td>2019-02-16 03:06:18</td>\n      <td></td>\n      <td>NaT</td>\n      <td></td>\n      <td></td>\n      <td>NaN</td>\n      <td></td>\n      <td>52b1ab41-869e-4138-9e40-2a4457f09bf0</td>\n      <td>aa46238d-13fc-4314-8f0c-94044435adb1</td>\n      <td>OfficeActivityManager</td>\n      <td>OfficeActivity</td>\n      <td>ianh@m365x054215.onmicrosoft.com</td>\n    </tr>\n    <tr>\n      <td>87</td>\n      <td>c2019e59-aba1-4b2a-682d-08d693ba2633</td>\n      <td>SharePointFileOperation</td>\n      <td>2019-02-16 02:55:03</td>\n      <td>FileDownloaded</td>\n      <td>aa46238d-13fc-4314-8f0c-94044435adb1</td>\n      <td>Regular</td>\n      <td>i:0h.f|membership|100320003b5602fc@live.com</td>\n      <td>OneDrive</td>\n      <td></td>\n      <td>https://m365x054215-my.sharepoint.com/personal/ianh_m365x054215_onmicrosoft_com/Documents/Terms ...</td>\n      <td>ianh@m365x054215.onmicrosoft.com</td>\n      <td>40.81.159.203</td>\n      <td>4f96a3b3-f5ae-4706-af77-7984baf27d79</td>\n      <td>File</td>\n      <td>SharePoint</td>\n      <td></td>\n      <td>MSWAC</td>\n      <td></td>\n      <td></td>\n      <td>https://m365x054215-my.sharepoint.com/personal/ianh_m365x054215_onmicrosoft_com/</td>\n      <td>Documents</td>\n      <td>Terms and Conditions.docx</td>\n      <td>docx</td>\n      <td></td>\n      <td></td>\n      <td>...</td>\n      <td>NaN</td>\n      <td></td>\n      <td></td>\n      <td></td>\n      <td></td>\n      <td></td>\n      <td></td>\n      <td></td>\n      <td></td>\n      <td></td>\n      <td>NaN</td>\n      <td>2019-02-16 03:06:18</td>\n      <td></td>\n      <td>2019-02-16 03:06:18</td>\n      <td></td>\n      <td>NaT</td>\n      <td></td>\n      <td></td>\n      <td>NaN</td>\n      <td></td>\n      <td>52b1ab41-869e-4138-9e40-2a4457f09bf0</td>\n      <td>aa46238d-13fc-4314-8f0c-94044435adb1</td>\n      <td>OfficeActivityManager</td>\n      <td>OfficeActivity</td>\n      <td>ianh@m365x054215.onmicrosoft.com</td>\n    </tr>\n    <tr>\n      <td>80</td>\n      <td>36e891b6-7414-46dc-e76f-08d693ba639f</td>\n      <td>SharePoint</td>\n      <td>2019-02-16 02:56:46</td>\n      <td>PageViewed</td>\n      <td>aa46238d-13fc-4314-8f0c-94044435adb1</td>\n      <td>Regular</td>\n      <td>i:0h.f|membership|100320003b5602fc@live.com</td>\n      <td>OneDrive</td>\n      <td></td>\n      <td>https://m365x054215-my.sharepoint.com/personal/ianh_m365x054215_onmicrosoft_com/_layouts/15/oned...</td>\n      <td>ianh@m365x054215.onmicrosoft.com</td>\n      <td>131.107.147.209</td>\n      <td>4f96a3b3-f5ae-4706-af77-7984baf27d79</td>\n      <td>Page</td>\n      <td>SharePoint</td>\n      <td></td>\n      <td>Mozilla/5.0 (Windows NT 10.0; Win64; x64) AppleWebKit/537.36 (KHTML, like Gecko) Chrome/64.0.328...</td>\n      <td></td>\n      <td></td>\n      <td></td>\n      <td></td>\n      <td></td>\n      <td></td>\n      <td></td>\n      <td></td>\n      <td>...</td>\n      <td>NaN</td>\n      <td></td>\n      <td></td>\n      <td></td>\n      <td></td>\n      <td></td>\n      <td></td>\n      <td></td>\n      <td></td>\n      <td></td>\n      <td>NaN</td>\n      <td>2019-02-16 03:06:18</td>\n      <td></td>\n      <td>2019-02-16 03:06:18</td>\n      <td></td>\n      <td>NaT</td>\n      <td></td>\n      <td></td>\n      <td>NaN</td>\n      <td></td>\n      <td>52b1ab41-869e-4138-9e40-2a4457f09bf0</td>\n      <td>aa46238d-13fc-4314-8f0c-94044435adb1</td>\n      <td>OfficeActivityManager</td>\n      <td>OfficeActivity</td>\n      <td>ianh@m365x054215.onmicrosoft.com</td>\n    </tr>\n    <tr>\n      <td>83</td>\n      <td>18c68639-c938-46de-6e0d-08d693ba6694</td>\n      <td>SharePointFileOperation</td>\n      <td>2019-02-16 02:56:51</td>\n      <td>FileAccessed</td>\n      <td>aa46238d-13fc-4314-8f0c-94044435adb1</td>\n      <td>Regular</td>\n      <td>i:0h.f|membership|100320003b5602fc@live.com</td>\n      <td>OneDrive</td>\n      <td></td>\n      <td>https://m365x054215-my.sharepoint.com/personal/ianh_m365x054215_onmicrosoft_com/Documents/Forms/...</td>\n      <td>ianh@m365x054215.onmicrosoft.com</td>\n      <td>131.107.147.209</td>\n      <td>4f96a3b3-f5ae-4706-af77-7984baf27d79</td>\n      <td>File</td>\n      <td>SharePoint</td>\n      <td></td>\n      <td>Mozilla/5.0 (Windows NT 10.0; Win64; x64) AppleWebKit/537.36 (KHTML, like Gecko) Chrome/64.0.328...</td>\n      <td></td>\n      <td></td>\n      <td>https://m365x054215-my.sharepoint.com/personal/ianh_m365x054215_onmicrosoft_com/</td>\n      <td>Documents/Forms</td>\n      <td>Upload.aspx</td>\n      <td>aspx</td>\n      <td></td>\n      <td></td>\n      <td>...</td>\n      <td>NaN</td>\n      <td></td>\n      <td></td>\n      <td></td>\n      <td></td>\n      <td></td>\n      <td></td>\n      <td></td>\n      <td></td>\n      <td></td>\n      <td>NaN</td>\n      <td>2019-02-16 03:06:18</td>\n      <td></td>\n      <td>2019-02-16 03:06:18</td>\n      <td></td>\n      <td>NaT</td>\n      <td></td>\n      <td></td>\n      <td>NaN</td>\n      <td></td>\n      <td>52b1ab41-869e-4138-9e40-2a4457f09bf0</td>\n      <td>aa46238d-13fc-4314-8f0c-94044435adb1</td>\n      <td>OfficeActivityManager</td>\n      <td>OfficeActivity</td>\n      <td>ianh@m365x054215.onmicrosoft.com</td>\n    </tr>\n    <tr>\n      <td>82</td>\n      <td>24133802-d613-4792-d05b-08d693ba6696</td>\n      <td>SharePointFileOperation</td>\n      <td>2019-02-16 02:56:51</td>\n      <td>FileAccessed</td>\n      <td>aa46238d-13fc-4314-8f0c-94044435adb1</td>\n      <td>Regular</td>\n      <td>i:0h.f|membership|100320003b5602fc@live.com</td>\n      <td>OneDrive</td>\n      <td></td>\n      <td>https://m365x054215-my.sharepoint.com/personal/ianh_m365x054215_onmicrosoft_com/Documents/Forms/...</td>\n      <td>ianh@m365x054215.onmicrosoft.com</td>\n      <td>131.107.147.209</td>\n      <td>4f96a3b3-f5ae-4706-af77-7984baf27d79</td>\n      <td>File</td>\n      <td>SharePoint</td>\n      <td></td>\n      <td>Mozilla/5.0 (Windows NT 10.0; Win64; x64) AppleWebKit/537.36 (KHTML, like Gecko) Chrome/64.0.328...</td>\n      <td></td>\n      <td></td>\n      <td>https://m365x054215-my.sharepoint.com/personal/ianh_m365x054215_onmicrosoft_com/</td>\n      <td>Documents/Forms</td>\n      <td>EditForm.aspx</td>\n      <td>aspx</td>\n      <td></td>\n      <td></td>\n      <td>...</td>\n      <td>NaN</td>\n      <td></td>\n      <td></td>\n      <td></td>\n      <td></td>\n      <td></td>\n      <td></td>\n      <td></td>\n      <td></td>\n      <td></td>\n      <td>NaN</td>\n      <td>2019-02-16 03:06:18</td>\n      <td></td>\n      <td>2019-02-16 03:06:18</td>\n      <td></td>\n      <td>NaT</td>\n      <td></td>\n      <td></td>\n      <td>NaN</td>\n      <td></td>\n      <td>52b1ab41-869e-4138-9e40-2a4457f09bf0</td>\n      <td>aa46238d-13fc-4314-8f0c-94044435adb1</td>\n      <td>OfficeActivityManager</td>\n      <td>OfficeActivity</td>\n      <td>ianh@m365x054215.onmicrosoft.com</td>\n    </tr>\n    <tr>\n      <td>81</td>\n      <td>72db453b-1b99-4d37-3292-08d693ba6699</td>\n      <td>SharePointFileOperation</td>\n      <td>2019-02-16 02:56:51</td>\n      <td>FileAccessed</td>\n      <td>aa46238d-13fc-4314-8f0c-94044435adb1</td>\n      <td>Regular</td>\n      <td>i:0h.f|membership|100320003b5602fc@live.com</td>\n      <td>OneDrive</td>\n      <td></td>\n      <td>https://m365x054215-my.sharepoint.com/personal/ianh_m365x054215_onmicrosoft_com/Documents/Forms/...</td>\n      <td>ianh@m365x054215.onmicrosoft.com</td>\n      <td>131.107.147.209</td>\n      <td>4f96a3b3-f5ae-4706-af77-7984baf27d79</td>\n      <td>File</td>\n      <td>SharePoint</td>\n      <td></td>\n      <td>Mozilla/5.0 (Windows NT 10.0; Win64; x64) AppleWebKit/537.36 (KHTML, like Gecko) Chrome/64.0.328...</td>\n      <td></td>\n      <td></td>\n      <td>https://m365x054215-my.sharepoint.com/personal/ianh_m365x054215_onmicrosoft_com/</td>\n      <td>Documents/Forms</td>\n      <td>DispForm.aspx</td>\n      <td>aspx</td>\n      <td></td>\n      <td></td>\n      <td>...</td>\n      <td>NaN</td>\n      <td></td>\n      <td></td>\n      <td></td>\n      <td></td>\n      <td></td>\n      <td></td>\n      <td></td>\n      <td></td>\n      <td></td>\n      <td>NaN</td>\n      <td>2019-02-16 03:06:18</td>\n      <td></td>\n      <td>2019-02-16 03:06:18</td>\n      <td></td>\n      <td>NaT</td>\n      <td></td>\n      <td></td>\n      <td>NaN</td>\n      <td></td>\n      <td>52b1ab41-869e-4138-9e40-2a4457f09bf0</td>\n      <td>aa46238d-13fc-4314-8f0c-94044435adb1</td>\n      <td>OfficeActivityManager</td>\n      <td>OfficeActivity</td>\n      <td>ianh@m365x054215.onmicrosoft.com</td>\n    </tr>\n    <tr>\n      <td>86</td>\n      <td>c82f7b30-c6dc-4214-4380-08d693ba67d6</td>\n      <td>SharePointFileOperation</td>\n      <td>2019-02-16 02:56:53</td>\n      <td>FileAccessed</td>\n      <td>aa46238d-13fc-4314-8f0c-94044435adb1</td>\n      <td>Regular</td>\n      <td>i:0h.f|membership|100320003b5602fc@live.com</td>\n      <td>SharePoint</td>\n      <td></td>\n      <td>https://m365x054215-my.sharepoint.com/User Photos/Profile Pictures/ianh_m365x054215_onmicrosoft_...</td>\n      <td>ianh@m365x054215.onmicrosoft.com</td>\n      <td>131.107.147.209</td>\n      <td>94823fb0-11d5-4424-b933-8663eafa73a3</td>\n      <td>File</td>\n      <td>SharePoint</td>\n      <td></td>\n      <td>Mozilla/5.0 (Windows NT 10.0; Win64; x64) AppleWebKit/537.36 (KHTML, like Gecko) Chrome/64.0.328...</td>\n      <td></td>\n      <td></td>\n      <td>https://m365x054215-my.sharepoint.com/</td>\n      <td>User Photos/Profile Pictures</td>\n      <td>ianh_m365x054215_onmicrosoft_com_SThumb.jpg</td>\n      <td>jpg</td>\n      <td></td>\n      <td></td>\n      <td>...</td>\n      <td>NaN</td>\n      <td></td>\n      <td></td>\n      <td></td>\n      <td></td>\n      <td></td>\n      <td></td>\n      <td></td>\n      <td></td>\n      <td></td>\n      <td>NaN</td>\n      <td>2019-02-16 03:06:18</td>\n      <td></td>\n      <td>2019-02-16 03:06:18</td>\n      <td></td>\n      <td>NaT</td>\n      <td></td>\n      <td></td>\n      <td>NaN</td>\n      <td></td>\n      <td>52b1ab41-869e-4138-9e40-2a4457f09bf0</td>\n      <td>aa46238d-13fc-4314-8f0c-94044435adb1</td>\n      <td>OfficeActivityManager</td>\n      <td>OfficeActivity</td>\n      <td>ianh@m365x054215.onmicrosoft.com</td>\n    </tr>\n    <tr>\n      <td>104</td>\n      <td>d593ad26-d978-409d-2bb5-08d693bae0d4</td>\n      <td>SharePointFileOperation</td>\n      <td>2019-02-16 03:00:16</td>\n      <td>FileUploaded</td>\n      <td>aa46238d-13fc-4314-8f0c-94044435adb1</td>\n      <td>Regular</td>\n      <td>i:0h.f|membership|100320003b5602fc@live.com</td>\n      <td>OneDrive</td>\n      <td></td>\n      <td>https://m365x054215-my.sharepoint.com/personal/ianh_m365x054215_onmicrosoft_com/Documents/Docume...</td>\n      <td>ianh@m365x054215.onmicrosoft.com</td>\n      <td>131.107.147.209</td>\n      <td>4f96a3b3-f5ae-4706-af77-7984baf27d79</td>\n      <td>File</td>\n      <td>SharePoint</td>\n      <td></td>\n      <td>Mozilla/5.0 (Windows NT 10.0; Win64; x64) AppleWebKit/537.36 (KHTML, like Gecko) Chrome/64.0.328...</td>\n      <td></td>\n      <td></td>\n      <td>https://m365x054215-my.sharepoint.com/personal/ianh_m365x054215_onmicrosoft_com/</td>\n      <td>Documents</td>\n      <td>Document1.docx</td>\n      <td>docx</td>\n      <td></td>\n      <td></td>\n      <td>...</td>\n      <td>NaN</td>\n      <td></td>\n      <td></td>\n      <td></td>\n      <td></td>\n      <td></td>\n      <td></td>\n      <td></td>\n      <td></td>\n      <td></td>\n      <td>NaN</td>\n      <td>2019-02-16 03:06:18</td>\n      <td></td>\n      <td>2019-02-16 03:06:18</td>\n      <td></td>\n      <td>NaT</td>\n      <td></td>\n      <td></td>\n      <td>NaN</td>\n      <td></td>\n      <td>52b1ab41-869e-4138-9e40-2a4457f09bf0</td>\n      <td>aa46238d-13fc-4314-8f0c-94044435adb1</td>\n      <td>OfficeActivityManager</td>\n      <td>OfficeActivity</td>\n      <td>ianh@m365x054215.onmicrosoft.com</td>\n    </tr>\n    <tr>\n      <td>103</td>\n      <td>01beef88-e772-4fb7-f05a-08d693bae0d8</td>\n      <td>SharePointFileOperation</td>\n      <td>2019-02-16 03:00:16</td>\n      <td>FileAccessed</td>\n      <td>aa46238d-13fc-4314-8f0c-94044435adb1</td>\n      <td>Regular</td>\n      <td>i:0h.f|membership|100320003b5602fc@live.com</td>\n      <td>OneDrive</td>\n      <td></td>\n      <td>https://m365x054215-my.sharepoint.com/personal/ianh_m365x054215_onmicrosoft_com/Documents/Docume...</td>\n      <td>ianh@m365x054215.onmicrosoft.com</td>\n      <td>131.107.147.209</td>\n      <td>4f96a3b3-f5ae-4706-af77-7984baf27d79</td>\n      <td>File</td>\n      <td>SharePoint</td>\n      <td></td>\n      <td>Mozilla/5.0 (Windows NT 10.0; Win64; x64) AppleWebKit/537.36 (KHTML, like Gecko) Chrome/64.0.328...</td>\n      <td></td>\n      <td></td>\n      <td>https://m365x054215-my.sharepoint.com/personal/ianh_m365x054215_onmicrosoft_com/</td>\n      <td>Documents</td>\n      <td>Document1.docx</td>\n      <td>docx</td>\n      <td></td>\n      <td></td>\n      <td>...</td>\n      <td>NaN</td>\n      <td></td>\n      <td></td>\n      <td></td>\n      <td></td>\n      <td></td>\n      <td></td>\n      <td></td>\n      <td></td>\n      <td></td>\n      <td>NaN</td>\n      <td>2019-02-16 03:06:18</td>\n      <td></td>\n      <td>2019-02-16 03:06:18</td>\n      <td></td>\n      <td>NaT</td>\n      <td></td>\n      <td></td>\n      <td>NaN</td>\n      <td></td>\n      <td>52b1ab41-869e-4138-9e40-2a4457f09bf0</td>\n      <td>aa46238d-13fc-4314-8f0c-94044435adb1</td>\n      <td>OfficeActivityManager</td>\n      <td>OfficeActivity</td>\n      <td>ianh@m365x054215.onmicrosoft.com</td>\n    </tr>\n    <tr>\n      <td>102</td>\n      <td>0c4afb68-27a9-4044-4d83-08d693bae2e8</td>\n      <td>SharePointFileOperation</td>\n      <td>2019-02-16 03:00:19</td>\n      <td>FileModified</td>\n      <td>aa46238d-13fc-4314-8f0c-94044435adb1</td>\n      <td>Regular</td>\n      <td>i:0h.f|membership|100320003b5602fc@live.com</td>\n      <td>OneDrive</td>\n      <td></td>\n      <td>https://m365x054215-my.sharepoint.com/personal/ianh_m365x054215_onmicrosoft_com/Documents/Docume...</td>\n      <td>ianh@m365x054215.onmicrosoft.com</td>\n      <td>40.81.158.170</td>\n      <td>4f96a3b3-f5ae-4706-af77-7984baf27d79</td>\n      <td>File</td>\n      <td>SharePoint</td>\n      <td></td>\n      <td>MSWAC</td>\n      <td></td>\n      <td></td>\n      <td>https://m365x054215-my.sharepoint.com/personal/ianh_m365x054215_onmicrosoft_com/</td>\n      <td>Documents</td>\n      <td>Document1.docx</td>\n      <td>docx</td>\n      <td></td>\n      <td></td>\n      <td>...</td>\n      <td>NaN</td>\n      <td></td>\n      <td></td>\n      <td></td>\n      <td></td>\n      <td></td>\n      <td></td>\n      <td></td>\n      <td></td>\n      <td></td>\n      <td>NaN</td>\n      <td>2019-02-16 03:06:18</td>\n      <td></td>\n      <td>2019-02-16 03:06:18</td>\n      <td></td>\n      <td>NaT</td>\n      <td></td>\n      <td></td>\n      <td>NaN</td>\n      <td></td>\n      <td>52b1ab41-869e-4138-9e40-2a4457f09bf0</td>\n      <td>aa46238d-13fc-4314-8f0c-94044435adb1</td>\n      <td>OfficeActivityManager</td>\n      <td>OfficeActivity</td>\n      <td>ianh@m365x054215.onmicrosoft.com</td>\n    </tr>\n    <tr>\n      <td>97</td>\n      <td>f0cf46cf-23db-4fd9-ee33-08d693baf24e</td>\n      <td>SharePointFileOperation</td>\n      <td>2019-02-16 03:00:45</td>\n      <td>FileModifiedExtended</td>\n      <td>aa46238d-13fc-4314-8f0c-94044435adb1</td>\n      <td>Regular</td>\n      <td>i:0h.f|membership|100320003b5602fc@live.com</td>\n      <td>OneDrive</td>\n      <td></td>\n      <td>https://m365x054215-my.sharepoint.com/personal/ianh_m365x054215_onmicrosoft_com/Documents/Docume...</td>\n      <td>ianh@m365x054215.onmicrosoft.com</td>\n      <td>40.81.159.43</td>\n      <td>4f96a3b3-f5ae-4706-af77-7984baf27d79</td>\n      <td>File</td>\n      <td>SharePoint</td>\n      <td></td>\n      <td>MSWAC</td>\n      <td></td>\n      <td></td>\n      <td>https://m365x054215-my.sharepoint.com/personal/ianh_m365x054215_onmicrosoft_com/</td>\n      <td>Documents</td>\n      <td>Document1.docx</td>\n      <td>docx</td>\n      <td></td>\n      <td></td>\n      <td>...</td>\n      <td>NaN</td>\n      <td></td>\n      <td></td>\n      <td></td>\n      <td></td>\n      <td></td>\n      <td></td>\n      <td></td>\n      <td></td>\n      <td></td>\n      <td>NaN</td>\n      <td>2019-02-16 03:06:18</td>\n      <td></td>\n      <td>2019-02-16 03:06:18</td>\n      <td></td>\n      <td>NaT</td>\n      <td></td>\n      <td></td>\n      <td>NaN</td>\n      <td></td>\n      <td>52b1ab41-869e-4138-9e40-2a4457f09bf0</td>\n      <td>aa46238d-13fc-4314-8f0c-94044435adb1</td>\n      <td>OfficeActivityManager</td>\n      <td>OfficeActivity</td>\n      <td>ianh@m365x054215.onmicrosoft.com</td>\n    </tr>\n    <tr>\n      <td>96</td>\n      <td>91d7343f-a4ae-44d3-5dfc-08d693baf2fd</td>\n      <td>SharePointFileOperation</td>\n      <td>2019-02-16 03:00:46</td>\n      <td>FileAccessed</td>\n      <td>aa46238d-13fc-4314-8f0c-94044435adb1</td>\n      <td>Regular</td>\n      <td>i:0h.f|membership|100320003b5602fc@live.com</td>\n      <td>OneDrive</td>\n      <td></td>\n      <td>https://m365x054215-my.sharepoint.com/personal/ianh_m365x054215_onmicrosoft_com/Documents/Extend...</td>\n      <td>ianh@m365x054215.onmicrosoft.com</td>\n      <td>131.107.147.209</td>\n      <td>4f96a3b3-f5ae-4706-af77-7984baf27d79</td>\n      <td>File</td>\n      <td>SharePoint</td>\n      <td></td>\n      <td>Mozilla/5.0 (Windows NT 10.0; Win64; x64) AppleWebKit/537.36 (KHTML, like Gecko) Chrome/64.0.328...</td>\n      <td></td>\n      <td></td>\n      <td>https://m365x054215-my.sharepoint.com/personal/ianh_m365x054215_onmicrosoft_com/</td>\n      <td>Documents</td>\n      <td>Extended Terms.docx</td>\n      <td>docx</td>\n      <td></td>\n      <td></td>\n      <td>...</td>\n      <td>NaN</td>\n      <td></td>\n      <td></td>\n      <td></td>\n      <td></td>\n      <td></td>\n      <td></td>\n      <td></td>\n      <td></td>\n      <td></td>\n      <td>NaN</td>\n      <td>2019-02-16 03:06:18</td>\n      <td></td>\n      <td>2019-02-16 03:06:18</td>\n      <td></td>\n      <td>NaT</td>\n      <td></td>\n      <td></td>\n      <td>NaN</td>\n      <td></td>\n      <td>52b1ab41-869e-4138-9e40-2a4457f09bf0</td>\n      <td>aa46238d-13fc-4314-8f0c-94044435adb1</td>\n      <td>OfficeActivityManager</td>\n      <td>OfficeActivity</td>\n      <td>ianh@m365x054215.onmicrosoft.com</td>\n    </tr>\n    <tr>\n      <td>98</td>\n      <td>a02ecb4d-9193-4f52-a22c-08d693baf297</td>\n      <td>SharePointFileOperation</td>\n      <td>2019-02-16 03:00:46</td>\n      <td>FileUploaded</td>\n      <td>aa46238d-13fc-4314-8f0c-94044435adb1</td>\n      <td>Regular</td>\n      <td>i:0h.f|membership|100320003b5602fc@live.com</td>\n      <td>OneDrive</td>\n      <td></td>\n      <td>https://m365x054215-my.sharepoint.com/personal/ianh_m365x054215_onmicrosoft_com/Documents/Extend...</td>\n      <td>ianh@m365x054215.onmicrosoft.com</td>\n      <td>40.81.159.166</td>\n      <td>4f96a3b3-f5ae-4706-af77-7984baf27d79</td>\n      <td>File</td>\n      <td>SharePoint</td>\n      <td></td>\n      <td>MSWAC</td>\n      <td></td>\n      <td></td>\n      <td>https://m365x054215-my.sharepoint.com/personal/ianh_m365x054215_onmicrosoft_com/</td>\n      <td>Documents</td>\n      <td>Extended Terms.docx</td>\n      <td>docx</td>\n      <td></td>\n      <td></td>\n      <td>...</td>\n      <td>NaN</td>\n      <td></td>\n      <td></td>\n      <td></td>\n      <td></td>\n      <td></td>\n      <td></td>\n      <td></td>\n      <td></td>\n      <td></td>\n      <td>NaN</td>\n      <td>2019-02-16 03:06:18</td>\n      <td></td>\n      <td>2019-02-16 03:06:18</td>\n      <td></td>\n      <td>NaT</td>\n      <td></td>\n      <td></td>\n      <td>NaN</td>\n      <td></td>\n      <td>52b1ab41-869e-4138-9e40-2a4457f09bf0</td>\n      <td>aa46238d-13fc-4314-8f0c-94044435adb1</td>\n      <td>OfficeActivityManager</td>\n      <td>OfficeActivity</td>\n      <td>ianh@m365x054215.onmicrosoft.com</td>\n    </tr>\n    <tr>\n      <td>95</td>\n      <td>5b266285-7633-4362-eb31-08d693baf4e7</td>\n      <td>SharePointFileOperation</td>\n      <td>2019-02-16 03:00:50</td>\n      <td>FileDownloaded</td>\n      <td>aa46238d-13fc-4314-8f0c-94044435adb1</td>\n      <td>Regular</td>\n      <td>i:0h.f|membership|100320003b5602fc@live.com</td>\n      <td>OneDrive</td>\n      <td></td>\n      <td>https://m365x054215-my.sharepoint.com/personal/ianh_m365x054215_onmicrosoft_com/Documents/Extend...</td>\n      <td>ianh@m365x054215.onmicrosoft.com</td>\n      <td>40.81.159.203</td>\n      <td>4f96a3b3-f5ae-4706-af77-7984baf27d79</td>\n      <td>File</td>\n      <td>SharePoint</td>\n      <td></td>\n      <td>MSWAC</td>\n      <td></td>\n      <td></td>\n      <td>https://m365x054215-my.sharepoint.com/personal/ianh_m365x054215_onmicrosoft_com/</td>\n      <td>Documents</td>\n      <td>Extended Terms.docx</td>\n      <td>docx</td>\n      <td></td>\n      <td></td>\n      <td>...</td>\n      <td>NaN</td>\n      <td></td>\n      <td></td>\n      <td></td>\n      <td></td>\n      <td></td>\n      <td></td>\n      <td></td>\n      <td></td>\n      <td></td>\n      <td>NaN</td>\n      <td>2019-02-16 03:06:18</td>\n      <td></td>\n      <td>2019-02-16 03:06:18</td>\n      <td></td>\n      <td>NaT</td>\n      <td></td>\n      <td></td>\n      <td>NaN</td>\n      <td></td>\n      <td>52b1ab41-869e-4138-9e40-2a4457f09bf0</td>\n      <td>aa46238d-13fc-4314-8f0c-94044435adb1</td>\n      <td>OfficeActivityManager</td>\n      <td>OfficeActivity</td>\n      <td>ianh@m365x054215.onmicrosoft.com</td>\n    </tr>\n    <tr>\n      <td>101</td>\n      <td>1eee2dca-752e-4d84-e02a-08d693bb0343</td>\n      <td>SharePointFileOperation</td>\n      <td>2019-02-16 03:01:14</td>\n      <td>FileUploaded</td>\n      <td>aa46238d-13fc-4314-8f0c-94044435adb1</td>\n      <td>Regular</td>\n      <td>i:0h.f|membership|100320003b5602fc@live.com</td>\n      <td>OneDrive</td>\n      <td></td>\n      <td>https://m365x054215-my.sharepoint.com/personal/ianh_m365x054215_onmicrosoft_com/Documents/Book.xlsx</td>\n      <td>ianh@m365x054215.onmicrosoft.com</td>\n      <td>20.190.133.115</td>\n      <td>4f96a3b3-f5ae-4706-af77-7984baf27d79</td>\n      <td>File</td>\n      <td>SharePoint</td>\n      <td></td>\n      <td>Mozilla/5.0 (Windows NT 10.0; Win64; x64) AppleWebKit/537.36 (KHTML, like Gecko) Chrome/64.0.328...</td>\n      <td></td>\n      <td></td>\n      <td>https://m365x054215-my.sharepoint.com/personal/ianh_m365x054215_onmicrosoft_com/</td>\n      <td>Documents</td>\n      <td>Book.xlsx</td>\n      <td>xlsx</td>\n      <td></td>\n      <td></td>\n      <td>...</td>\n      <td>NaN</td>\n      <td></td>\n      <td></td>\n      <td></td>\n      <td></td>\n      <td></td>\n      <td></td>\n      <td></td>\n      <td></td>\n      <td></td>\n      <td>NaN</td>\n      <td>2019-02-16 03:06:18</td>\n      <td></td>\n      <td>2019-02-16 03:06:18</td>\n      <td></td>\n      <td>NaT</td>\n      <td></td>\n      <td></td>\n      <td>NaN</td>\n      <td></td>\n      <td>52b1ab41-869e-4138-9e40-2a4457f09bf0</td>\n      <td>aa46238d-13fc-4314-8f0c-94044435adb1</td>\n      <td>OfficeActivityManager</td>\n      <td>OfficeActivity</td>\n      <td>ianh@m365x054215.onmicrosoft.com</td>\n    </tr>\n    <tr>\n      <td>100</td>\n      <td>579df58a-380c-401a-a274-08d693bb0483</td>\n      <td>SharePointFileOperation</td>\n      <td>2019-02-16 03:01:16</td>\n      <td>FileAccessed</td>\n      <td>aa46238d-13fc-4314-8f0c-94044435adb1</td>\n      <td>Regular</td>\n      <td>i:0h.f|membership|100320003b5602fc@live.com</td>\n      <td>OneDrive</td>\n      <td></td>\n      <td>https://m365x054215-my.sharepoint.com/personal/ianh_m365x054215_onmicrosoft_com/Documents/Book.xlsx</td>\n      <td>ianh@m365x054215.onmicrosoft.com</td>\n      <td>131.107.147.209</td>\n      <td>4f96a3b3-f5ae-4706-af77-7984baf27d79</td>\n      <td>File</td>\n      <td>SharePoint</td>\n      <td></td>\n      <td>Mozilla/5.0 (Windows NT 10.0; Win64; x64) AppleWebKit/537.36 (KHTML, like Gecko) Chrome/64.0.328...</td>\n      <td></td>\n      <td></td>\n      <td>https://m365x054215-my.sharepoint.com/personal/ianh_m365x054215_onmicrosoft_com/</td>\n      <td>Documents</td>\n      <td>Book.xlsx</td>\n      <td>xlsx</td>\n      <td></td>\n      <td></td>\n      <td>...</td>\n      <td>NaN</td>\n      <td></td>\n      <td></td>\n      <td></td>\n      <td></td>\n      <td></td>\n      <td></td>\n      <td></td>\n      <td></td>\n      <td></td>\n      <td>NaN</td>\n      <td>2019-02-16 03:06:18</td>\n      <td></td>\n      <td>2019-02-16 03:06:18</td>\n      <td></td>\n      <td>NaT</td>\n      <td></td>\n      <td></td>\n      <td>NaN</td>\n      <td></td>\n      <td>52b1ab41-869e-4138-9e40-2a4457f09bf0</td>\n      <td>aa46238d-13fc-4314-8f0c-94044435adb1</td>\n      <td>OfficeActivityManager</td>\n      <td>OfficeActivity</td>\n      <td>ianh@m365x054215.onmicrosoft.com</td>\n    </tr>\n    <tr>\n      <td>94</td>\n      <td>89d902e8-26d9-4ff7-8a7e-08d693bb05ac</td>\n      <td>SharePointFileOperation</td>\n      <td>2019-02-16 03:01:18</td>\n      <td>FileModified</td>\n      <td>aa46238d-13fc-4314-8f0c-94044435adb1</td>\n      <td>Regular</td>\n      <td>i:0h.f|membership|100320003b5602fc@live.com</td>\n      <td>OneDrive</td>\n      <td></td>\n      <td>https://m365x054215-my.sharepoint.com/personal/ianh_m365x054215_onmicrosoft_com/Documents/Book.xlsx</td>\n      <td>ianh@m365x054215.onmicrosoft.com</td>\n      <td>40.81.126.127</td>\n      <td>4f96a3b3-f5ae-4706-af77-7984baf27d79</td>\n      <td>File</td>\n      <td>SharePoint</td>\n      <td></td>\n      <td>MSWAC</td>\n      <td></td>\n      <td></td>\n      <td>https://m365x054215-my.sharepoint.com/personal/ianh_m365x054215_onmicrosoft_com/</td>\n      <td>Documents</td>\n      <td>Book.xlsx</td>\n      <td>xlsx</td>\n      <td></td>\n      <td></td>\n      <td>...</td>\n      <td>NaN</td>\n      <td></td>\n      <td></td>\n      <td></td>\n      <td></td>\n      <td></td>\n      <td></td>\n      <td></td>\n      <td></td>\n      <td></td>\n      <td>NaN</td>\n      <td>2019-02-16 03:06:18</td>\n      <td></td>\n      <td>2019-02-16 03:06:18</td>\n      <td></td>\n      <td>NaT</td>\n      <td></td>\n      <td></td>\n      <td>NaN</td>\n      <td></td>\n      <td>52b1ab41-869e-4138-9e40-2a4457f09bf0</td>\n      <td>aa46238d-13fc-4314-8f0c-94044435adb1</td>\n      <td>OfficeActivityManager</td>\n      <td>OfficeActivity</td>\n      <td>ianh@m365x054215.onmicrosoft.com</td>\n    </tr>\n    <tr>\n      <td>92</td>\n      <td>3e9d7170-5ed8-4b45-0ff0-08d693bb1274</td>\n      <td>SharePointFileOperation</td>\n      <td>2019-02-16 03:01:39</td>\n      <td>FileModifiedExtended</td>\n      <td>aa46238d-13fc-4314-8f0c-94044435adb1</td>\n      <td>Regular</td>\n      <td>i:0h.f|membership|100320003b5602fc@live.com</td>\n      <td>OneDrive</td>\n      <td></td>\n      <td>https://m365x054215-my.sharepoint.com/personal/ianh_m365x054215_onmicrosoft_com/Documents/Book.xlsx</td>\n      <td>ianh@m365x054215.onmicrosoft.com</td>\n      <td>40.81.126.127</td>\n      <td>4f96a3b3-f5ae-4706-af77-7984baf27d79</td>\n      <td>File</td>\n      <td>SharePoint</td>\n      <td></td>\n      <td>MSWAC</td>\n      <td></td>\n      <td></td>\n      <td>https://m365x054215-my.sharepoint.com/personal/ianh_m365x054215_onmicrosoft_com/</td>\n      <td>Documents</td>\n      <td>Book.xlsx</td>\n      <td>xlsx</td>\n      <td></td>\n      <td></td>\n      <td>...</td>\n      <td>NaN</td>\n      <td></td>\n      <td></td>\n      <td></td>\n      <td></td>\n      <td></td>\n      <td></td>\n      <td></td>\n      <td></td>\n      <td></td>\n      <td>NaN</td>\n      <td>2019-02-16 03:06:18</td>\n      <td></td>\n      <td>2019-02-16 03:06:18</td>\n      <td></td>\n      <td>NaT</td>\n      <td></td>\n      <td></td>\n      <td>NaN</td>\n      <td></td>\n      <td>52b1ab41-869e-4138-9e40-2a4457f09bf0</td>\n      <td>aa46238d-13fc-4314-8f0c-94044435adb1</td>\n      <td>OfficeActivityManager</td>\n      <td>OfficeActivity</td>\n      <td>ianh@m365x054215.onmicrosoft.com</td>\n    </tr>\n    <tr>\n      <td>93</td>\n      <td>82a80319-3d31-42a5-9b6d-08d693bb12e1</td>\n      <td>SharePointFileOperation</td>\n      <td>2019-02-16 03:01:40</td>\n      <td>FileUploaded</td>\n      <td>aa46238d-13fc-4314-8f0c-94044435adb1</td>\n      <td>Regular</td>\n      <td>i:0h.f|membership|100320003b5602fc@live.com</td>\n      <td>OneDrive</td>\n      <td></td>\n      <td>https://m365x054215-my.sharepoint.com/personal/ianh_m365x054215_onmicrosoft_com/Documents/Budget...</td>\n      <td>ianh@m365x054215.onmicrosoft.com</td>\n      <td>40.81.126.127</td>\n      <td>4f96a3b3-f5ae-4706-af77-7984baf27d79</td>\n      <td>File</td>\n      <td>SharePoint</td>\n      <td></td>\n      <td>MSWAC</td>\n      <td></td>\n      <td></td>\n      <td>https://m365x054215-my.sharepoint.com/personal/ianh_m365x054215_onmicrosoft_com/</td>\n      <td>Documents</td>\n      <td>Budget 2019.xlsx</td>\n      <td>xlsx</td>\n      <td></td>\n      <td></td>\n      <td>...</td>\n      <td>NaN</td>\n      <td></td>\n      <td></td>\n      <td></td>\n      <td></td>\n      <td></td>\n      <td></td>\n      <td></td>\n      <td></td>\n      <td></td>\n      <td>NaN</td>\n      <td>2019-02-16 03:06:18</td>\n      <td></td>\n      <td>2019-02-16 03:06:18</td>\n      <td></td>\n      <td>NaT</td>\n      <td></td>\n      <td></td>\n      <td>NaN</td>\n      <td></td>\n      <td>52b1ab41-869e-4138-9e40-2a4457f09bf0</td>\n      <td>aa46238d-13fc-4314-8f0c-94044435adb1</td>\n      <td>OfficeActivityManager</td>\n      <td>OfficeActivity</td>\n      <td>ianh@m365x054215.onmicrosoft.com</td>\n    </tr>\n    <tr>\n      <td>99</td>\n      <td>fdc8e70e-83f0-4f40-bd2f-08d693bb130f</td>\n      <td>SharePointFileOperation</td>\n      <td>2019-02-16 03:01:40</td>\n      <td>FileAccessed</td>\n      <td>aa46238d-13fc-4314-8f0c-94044435adb1</td>\n      <td>Regular</td>\n      <td>i:0h.f|membership|100320003b5602fc@live.com</td>\n      <td>OneDrive</td>\n      <td></td>\n      <td>https://m365x054215-my.sharepoint.com/personal/ianh_m365x054215_onmicrosoft_com/Documents/Budget...</td>\n      <td>ianh@m365x054215.onmicrosoft.com</td>\n      <td>131.107.147.209</td>\n      <td>4f96a3b3-f5ae-4706-af77-7984baf27d79</td>\n      <td>File</td>\n      <td>SharePoint</td>\n      <td></td>\n      <td>Mozilla/5.0 (Windows NT 10.0; Win64; x64) AppleWebKit/537.36 (KHTML, like Gecko) Chrome/64.0.328...</td>\n      <td></td>\n      <td></td>\n      <td>https://m365x054215-my.sharepoint.com/personal/ianh_m365x054215_onmicrosoft_com/</td>\n      <td>Documents</td>\n      <td>Budget 2019.xlsx</td>\n      <td>xlsx</td>\n      <td></td>\n      <td></td>\n      <td>...</td>\n      <td>NaN</td>\n      <td></td>\n      <td></td>\n      <td></td>\n      <td></td>\n      <td></td>\n      <td></td>\n      <td></td>\n      <td></td>\n      <td></td>\n      <td>NaN</td>\n      <td>2019-02-16 03:06:18</td>\n      <td></td>\n      <td>2019-02-16 03:06:18</td>\n      <td></td>\n      <td>NaT</td>\n      <td></td>\n      <td></td>\n      <td>NaN</td>\n      <td></td>\n      <td>52b1ab41-869e-4138-9e40-2a4457f09bf0</td>\n      <td>aa46238d-13fc-4314-8f0c-94044435adb1</td>\n      <td>OfficeActivityManager</td>\n      <td>OfficeActivity</td>\n      <td>ianh@m365x054215.onmicrosoft.com</td>\n    </tr>\n    <tr>\n      <td>68</td>\n      <td>55d9a7c7-c31b-4865-9436-256252407703</td>\n      <td>AzureActiveDirectoryStsLogon</td>\n      <td>2019-02-16 03:43:14</td>\n      <td>UserLoginFailed</td>\n      <td>aa46238d-13fc-4314-8f0c-94044435adb1</td>\n      <td>Regular</td>\n      <td>100320003B5602FC@m365x054215.onmicrosoft.com</td>\n      <td>AzureActiveDirectory</td>\n      <td>Failed</td>\n      <td>00000002-0000-0000-c000-000000000000</td>\n      <td>ianh@m365x054215.onmicrosoft.com</td>\n      <td>23.97.60.214</td>\n      <td></td>\n      <td></td>\n      <td></td>\n      <td></td>\n      <td></td>\n      <td></td>\n      <td></td>\n      <td></td>\n      <td></td>\n      <td></td>\n      <td></td>\n      <td></td>\n      <td></td>\n      <td>...</td>\n      <td>NaN</td>\n      <td></td>\n      <td>[\\r\\n  {\\r\\n    \"ID\": \"6e68fbc9-9ce3-4f4a-b2d4-45f52067c122\",\\r\\n    \"Type\": 0\\r\\n  },\\r\\n  {\\r\\...</td>\n      <td>aa46238d-13fc-4314-8f0c-94044435adb1</td>\n      <td>23.97.60.214</td>\n      <td>c3d42f80-984c-49e4-84d4-accb5a5a825f</td>\n      <td>c02218e3-d179-46ac-ac77-c4fd6a320200</td>\n      <td></td>\n      <td>[\\r\\n  {\\r\\n    \"ID\": \"00000002-0000-0000-c000-000000000000\",\\r\\n    \"Type\": 0\\r\\n  }\\r\\n]</td>\n      <td>aa46238d-13fc-4314-8f0c-94044435adb1</td>\n      <td>NaN</td>\n      <td>2019-02-16 04:10:48</td>\n      <td></td>\n      <td>2019-02-16 04:10:48</td>\n      <td></td>\n      <td>NaT</td>\n      <td></td>\n      <td></td>\n      <td>NaN</td>\n      <td></td>\n      <td>52b1ab41-869e-4138-9e40-2a4457f09bf0</td>\n      <td>aa46238d-13fc-4314-8f0c-94044435adb1</td>\n      <td>OfficeActivityManager</td>\n      <td>OfficeActivity</td>\n      <td>ianh@m365x054215.onmicrosoft.com</td>\n    </tr>\n    <tr>\n      <td>76</td>\n      <td>bf8f66bf-8964-4676-bfba-7c317454fcfa</td>\n      <td>AzureActiveDirectoryStsLogon</td>\n      <td>2019-02-16 03:43:25</td>\n      <td>UserLoginFailed</td>\n      <td>aa46238d-13fc-4314-8f0c-94044435adb1</td>\n      <td>Regular</td>\n      <td>100320003B5602FC@m365x054215.onmicrosoft.com</td>\n      <td>AzureActiveDirectory</td>\n      <td>Failed</td>\n      <td>00000002-0000-0000-c000-000000000000</td>\n      <td>ianh@m365x054215.onmicrosoft.com</td>\n      <td>23.97.60.214</td>\n      <td></td>\n      <td></td>\n      <td></td>\n      <td></td>\n      <td></td>\n      <td></td>\n      <td></td>\n      <td></td>\n      <td></td>\n      <td></td>\n      <td></td>\n      <td></td>\n      <td></td>\n      <td>...</td>\n      <td>NaN</td>\n      <td></td>\n      <td>[\\r\\n  {\\r\\n    \"ID\": \"6e68fbc9-9ce3-4f4a-b2d4-45f52067c122\",\\r\\n    \"Type\": 0\\r\\n  },\\r\\n  {\\r\\...</td>\n      <td>aa46238d-13fc-4314-8f0c-94044435adb1</td>\n      <td>23.97.60.214</td>\n      <td>c3d42f80-984c-49e4-84d4-accb5a5a825f</td>\n      <td>13b6bf66-c216-4c8c-bcd4-c7761a2e0200</td>\n      <td></td>\n      <td>[\\r\\n  {\\r\\n    \"ID\": \"00000002-0000-0000-c000-000000000000\",\\r\\n    \"Type\": 0\\r\\n  }\\r\\n]</td>\n      <td>aa46238d-13fc-4314-8f0c-94044435adb1</td>\n      <td>NaN</td>\n      <td>2019-02-16 04:10:48</td>\n      <td></td>\n      <td>2019-02-16 04:10:48</td>\n      <td></td>\n      <td>NaT</td>\n      <td></td>\n      <td></td>\n      <td>NaN</td>\n      <td></td>\n      <td>52b1ab41-869e-4138-9e40-2a4457f09bf0</td>\n      <td>aa46238d-13fc-4314-8f0c-94044435adb1</td>\n      <td>OfficeActivityManager</td>\n      <td>OfficeActivity</td>\n      <td>ianh@m365x054215.onmicrosoft.com</td>\n    </tr>\n    <tr>\n      <td>67</td>\n      <td>c8466fb6-95f5-4644-9db1-9b0ee471abd4</td>\n      <td>AzureActiveDirectoryStsLogon</td>\n      <td>2019-02-16 03:43:50</td>\n      <td>UserLoginFailed</td>\n      <td>aa46238d-13fc-4314-8f0c-94044435adb1</td>\n      <td>Regular</td>\n      <td>100320003B5602FC@m365x054215.onmicrosoft.com</td>\n      <td>AzureActiveDirectory</td>\n      <td>Failed</td>\n      <td>00000002-0000-0000-c000-000000000000</td>\n      <td>ianh@m365x054215.onmicrosoft.com</td>\n      <td>23.97.60.214</td>\n      <td></td>\n      <td></td>\n      <td></td>\n      <td></td>\n      <td></td>\n      <td></td>\n      <td></td>\n      <td></td>\n      <td></td>\n      <td></td>\n      <td></td>\n      <td></td>\n      <td></td>\n      <td>...</td>\n      <td>NaN</td>\n      <td></td>\n      <td>[\\r\\n  {\\r\\n    \"ID\": \"6e68fbc9-9ce3-4f4a-b2d4-45f52067c122\",\\r\\n    \"Type\": 0\\r\\n  },\\r\\n  {\\r\\...</td>\n      <td>aa46238d-13fc-4314-8f0c-94044435adb1</td>\n      <td>23.97.60.214</td>\n      <td>c3d42f80-984c-49e4-84d4-accb5a5a825f</td>\n      <td>919e17a5-9f6c-4bcc-87e5-7bc4a13f0200</td>\n      <td></td>\n      <td>[\\r\\n  {\\r\\n    \"ID\": \"00000002-0000-0000-c000-000000000000\",\\r\\n    \"Type\": 0\\r\\n  }\\r\\n]</td>\n      <td>aa46238d-13fc-4314-8f0c-94044435adb1</td>\n      <td>NaN</td>\n      <td>2019-02-16 04:10:48</td>\n      <td></td>\n      <td>2019-02-16 04:10:48</td>\n      <td></td>\n      <td>NaT</td>\n      <td></td>\n      <td></td>\n      <td>NaN</td>\n      <td></td>\n      <td>52b1ab41-869e-4138-9e40-2a4457f09bf0</td>\n      <td>aa46238d-13fc-4314-8f0c-94044435adb1</td>\n      <td>OfficeActivityManager</td>\n      <td>OfficeActivity</td>\n      <td>ianh@m365x054215.onmicrosoft.com</td>\n    </tr>\n    <tr>\n      <td>58</td>\n      <td>b799f496-12e2-43e2-0153-08d693c10ec2</td>\n      <td>SharePointFileOperation</td>\n      <td>2019-02-16 03:44:30</td>\n      <td>FilePreviewed</td>\n      <td>aa46238d-13fc-4314-8f0c-94044435adb1</td>\n      <td>Regular</td>\n      <td>i:0h.f|membership|100320003b5602fc@live.com</td>\n      <td>OneDrive</td>\n      <td></td>\n      <td>https://m365x054215-my.sharepoint.com/personal/ianh_m365x054215_onmicrosoft_com/Documents/Terms ...</td>\n      <td>ianh@m365x054215.onmicrosoft.com</td>\n      <td>20.190.140.50</td>\n      <td>4f96a3b3-f5ae-4706-af77-7984baf27d79</td>\n      <td>File</td>\n      <td>SharePoint</td>\n      <td></td>\n      <td>Mozilla/5.0 (Windows NT 10.0; Win64; x64) AppleWebKit/537.36 (KHTML, like Gecko) Chrome/61.0.316...</td>\n      <td></td>\n      <td></td>\n      <td>https://m365x054215-my.sharepoint.com/personal/ianh_m365x054215_onmicrosoft_com/</td>\n      <td>Documents</td>\n      <td>Terms and Conditions.docx</td>\n      <td>docx</td>\n      <td></td>\n      <td></td>\n      <td>...</td>\n      <td>NaN</td>\n      <td></td>\n      <td></td>\n      <td></td>\n      <td></td>\n      <td></td>\n      <td></td>\n      <td></td>\n      <td></td>\n      <td></td>\n      <td>NaN</td>\n      <td>2019-02-16 03:57:58</td>\n      <td></td>\n      <td>2019-02-16 03:57:58</td>\n      <td></td>\n      <td>NaT</td>\n      <td></td>\n      <td></td>\n      <td>NaN</td>\n      <td></td>\n      <td>52b1ab41-869e-4138-9e40-2a4457f09bf0</td>\n      <td>aa46238d-13fc-4314-8f0c-94044435adb1</td>\n      <td>OfficeActivityManager</td>\n      <td>OfficeActivity</td>\n      <td>ianh@m365x054215.onmicrosoft.com</td>\n    </tr>\n    <tr>\n      <td>31</td>\n      <td>80843a0e-5f5d-41a3-b3d9-08d693c10ef4</td>\n      <td>SharePointFileOperation</td>\n      <td>2019-02-16 03:44:30</td>\n      <td>FilePreviewed</td>\n      <td>aa46238d-13fc-4314-8f0c-94044435adb1</td>\n      <td>Regular</td>\n      <td>i:0h.f|membership|100320003b5602fc@live.com</td>\n      <td>OneDrive</td>\n      <td></td>\n      <td>https://m365x054215-my.sharepoint.com/personal/ianh_m365x054215_onmicrosoft_com/Documents/Docume...</td>\n      <td>ianh@m365x054215.onmicrosoft.com</td>\n      <td>20.190.140.50</td>\n      <td>4f96a3b3-f5ae-4706-af77-7984baf27d79</td>\n      <td>File</td>\n      <td>SharePoint</td>\n      <td></td>\n      <td>Mozilla/5.0 (Windows NT 10.0; Win64; x64) AppleWebKit/537.36 (KHTML, like Gecko) Chrome/61.0.316...</td>\n      <td></td>\n      <td></td>\n      <td>https://m365x054215-my.sharepoint.com/personal/ianh_m365x054215_onmicrosoft_com/</td>\n      <td>Documents</td>\n      <td>Document.docx</td>\n      <td>docx</td>\n      <td></td>\n      <td></td>\n      <td>...</td>\n      <td>NaN</td>\n      <td></td>\n      <td></td>\n      <td></td>\n      <td></td>\n      <td></td>\n      <td></td>\n      <td></td>\n      <td></td>\n      <td></td>\n      <td>NaN</td>\n      <td>2019-02-16 03:57:58</td>\n      <td></td>\n      <td>2019-02-16 03:57:58</td>\n      <td></td>\n      <td>NaT</td>\n      <td></td>\n      <td></td>\n      <td>NaN</td>\n      <td></td>\n      <td>52b1ab41-869e-4138-9e40-2a4457f09bf0</td>\n      <td>aa46238d-13fc-4314-8f0c-94044435adb1</td>\n      <td>OfficeActivityManager</td>\n      <td>OfficeActivity</td>\n      <td>ianh@m365x054215.onmicrosoft.com</td>\n    </tr>\n    <tr>\n      <td>56</td>\n      <td>43b403d5-150e-49d8-87bb-08d693c10e92</td>\n      <td>SharePointFileOperation</td>\n      <td>2019-02-16 03:44:30</td>\n      <td>FilePreviewed</td>\n      <td>aa46238d-13fc-4314-8f0c-94044435adb1</td>\n      <td>Regular</td>\n      <td>i:0h.f|membership|100320003b5602fc@live.com</td>\n      <td>OneDrive</td>\n      <td></td>\n      <td>https://m365x054215-my.sharepoint.com/personal/ianh_m365x054215_onmicrosoft_com/Documents/Docume...</td>\n      <td>ianh@m365x054215.onmicrosoft.com</td>\n      <td>20.190.140.50</td>\n      <td>4f96a3b3-f5ae-4706-af77-7984baf27d79</td>\n      <td>File</td>\n      <td>SharePoint</td>\n      <td></td>\n      <td>Mozilla/5.0 (Windows NT 10.0; Win64; x64) AppleWebKit/537.36 (KHTML, like Gecko) Chrome/61.0.316...</td>\n      <td></td>\n      <td></td>\n      <td>https://m365x054215-my.sharepoint.com/personal/ianh_m365x054215_onmicrosoft_com/</td>\n      <td>Documents</td>\n      <td>Document1.docx</td>\n      <td>docx</td>\n      <td></td>\n      <td></td>\n      <td>...</td>\n      <td>NaN</td>\n      <td></td>\n      <td></td>\n      <td></td>\n      <td></td>\n      <td></td>\n      <td></td>\n      <td></td>\n      <td></td>\n      <td></td>\n      <td>NaN</td>\n      <td>2019-02-16 03:57:58</td>\n      <td></td>\n      <td>2019-02-16 03:57:58</td>\n      <td></td>\n      <td>NaT</td>\n      <td></td>\n      <td></td>\n      <td>NaN</td>\n      <td></td>\n      <td>52b1ab41-869e-4138-9e40-2a4457f09bf0</td>\n      <td>aa46238d-13fc-4314-8f0c-94044435adb1</td>\n      <td>OfficeActivityManager</td>\n      <td>OfficeActivity</td>\n      <td>ianh@m365x054215.onmicrosoft.com</td>\n    </tr>\n    <tr>\n      <td>30</td>\n      <td>b336877e-04c3-4981-3b68-08d693c10f1d</td>\n      <td>SharePoint</td>\n      <td>2019-02-16 03:44:31</td>\n      <td>PageViewed</td>\n      <td>aa46238d-13fc-4314-8f0c-94044435adb1</td>\n      <td>Regular</td>\n      <td>i:0h.f|membership|100320003b5602fc@live.com</td>\n      <td>OneDrive</td>\n      <td></td>\n      <td>https://m365x054215-my.sharepoint.com/personal/ianh_m365x054215_onmicrosoft_com/_layouts/15/oned...</td>\n      <td>ianh@m365x054215.onmicrosoft.com</td>\n      <td>23.97.60.214</td>\n      <td>4f96a3b3-f5ae-4706-af77-7984baf27d79</td>\n      <td>Page</td>\n      <td>SharePoint</td>\n      <td></td>\n      <td>Mozilla/5.0 (Windows NT 10.0; Win64; x64) AppleWebKit/537.36 (KHTML, like Gecko) Chrome/61.0.316...</td>\n      <td></td>\n      <td></td>\n      <td></td>\n      <td></td>\n      <td></td>\n      <td></td>\n      <td></td>\n      <td></td>\n      <td>...</td>\n      <td>NaN</td>\n      <td></td>\n      <td></td>\n      <td></td>\n      <td></td>\n      <td></td>\n      <td></td>\n      <td></td>\n      <td></td>\n      <td></td>\n      <td>NaN</td>\n      <td>2019-02-16 03:57:58</td>\n      <td></td>\n      <td>2019-02-16 03:57:58</td>\n      <td></td>\n      <td>NaT</td>\n      <td></td>\n      <td></td>\n      <td>NaN</td>\n      <td></td>\n      <td>52b1ab41-869e-4138-9e40-2a4457f09bf0</td>\n      <td>aa46238d-13fc-4314-8f0c-94044435adb1</td>\n      <td>OfficeActivityManager</td>\n      <td>OfficeActivity</td>\n      <td>ianh@m365x054215.onmicrosoft.com</td>\n    </tr>\n    <tr>\n      <td>57</td>\n      <td>1972246f-d5f6-43fc-dadd-08d693c1100a</td>\n      <td>SharePointFileOperation</td>\n      <td>2019-02-16 03:44:32</td>\n      <td>FilePreviewed</td>\n      <td>aa46238d-13fc-4314-8f0c-94044435adb1</td>\n      <td>Regular</td>\n      <td>i:0h.f|membership|100320003b5602fc@live.com</td>\n      <td>OneDrive</td>\n      <td></td>\n      <td>https://m365x054215-my.sharepoint.com/personal/ianh_m365x054215_onmicrosoft_com/Documents/Docume...</td>\n      <td>ianh@m365x054215.onmicrosoft.com</td>\n      <td>23.97.60.214</td>\n      <td>4f96a3b3-f5ae-4706-af77-7984baf27d79</td>\n      <td>File</td>\n      <td>SharePoint</td>\n      <td></td>\n      <td>OneDriveMpc/1.0</td>\n      <td></td>\n      <td></td>\n      <td>https://m365x054215-my.sharepoint.com/personal/ianh_m365x054215_onmicrosoft_com/</td>\n      <td>Documents</td>\n      <td>Document.docx</td>\n      <td>docx</td>\n      <td></td>\n      <td></td>\n      <td>...</td>\n      <td>NaN</td>\n      <td></td>\n      <td></td>\n      <td></td>\n      <td></td>\n      <td></td>\n      <td></td>\n      <td></td>\n      <td></td>\n      <td></td>\n      <td>NaN</td>\n      <td>2019-02-16 03:57:58</td>\n      <td></td>\n      <td>2019-02-16 03:57:58</td>\n      <td></td>\n      <td>NaT</td>\n      <td></td>\n      <td></td>\n      <td>NaN</td>\n      <td></td>\n      <td>52b1ab41-869e-4138-9e40-2a4457f09bf0</td>\n      <td>aa46238d-13fc-4314-8f0c-94044435adb1</td>\n      <td>OfficeActivityManager</td>\n      <td>OfficeActivity</td>\n      <td>ianh@m365x054215.onmicrosoft.com</td>\n    </tr>\n    <tr>\n      <td>55</td>\n      <td>069a9542-bc4f-4850-001f-08d693c11014</td>\n      <td>SharePointFileOperation</td>\n      <td>2019-02-16 03:44:32</td>\n      <td>FilePreviewed</td>\n      <td>aa46238d-13fc-4314-8f0c-94044435adb1</td>\n      <td>Regular</td>\n      <td>i:0h.f|membership|100320003b5602fc@live.com</td>\n      <td>OneDrive</td>\n      <td></td>\n      <td>https://m365x054215-my.sharepoint.com/personal/ianh_m365x054215_onmicrosoft_com/Documents/Terms ...</td>\n      <td>ianh@m365x054215.onmicrosoft.com</td>\n      <td>23.97.60.214</td>\n      <td>4f96a3b3-f5ae-4706-af77-7984baf27d79</td>\n      <td>File</td>\n      <td>SharePoint</td>\n      <td></td>\n      <td>OneDriveMpc/1.0</td>\n      <td></td>\n      <td></td>\n      <td>https://m365x054215-my.sharepoint.com/personal/ianh_m365x054215_onmicrosoft_com/</td>\n      <td>Documents</td>\n      <td>Terms and Conditions.docx</td>\n      <td>docx</td>\n      <td></td>\n      <td></td>\n      <td>...</td>\n      <td>NaN</td>\n      <td></td>\n      <td></td>\n      <td></td>\n      <td></td>\n      <td></td>\n      <td></td>\n      <td></td>\n      <td></td>\n      <td></td>\n      <td>NaN</td>\n      <td>2019-02-16 03:57:58</td>\n      <td></td>\n      <td>2019-02-16 03:57:58</td>\n      <td></td>\n      <td>NaT</td>\n      <td></td>\n      <td></td>\n      <td>NaN</td>\n      <td></td>\n      <td>52b1ab41-869e-4138-9e40-2a4457f09bf0</td>\n      <td>aa46238d-13fc-4314-8f0c-94044435adb1</td>\n      <td>OfficeActivityManager</td>\n      <td>OfficeActivity</td>\n      <td>ianh@m365x054215.onmicrosoft.com</td>\n    </tr>\n    <tr>\n      <td>54</td>\n      <td>dc4e9352-915f-4a09-24e5-08d693c10fb8</td>\n      <td>SharePointFileOperation</td>\n      <td>2019-02-16 03:44:32</td>\n      <td>FilePreviewed</td>\n      <td>aa46238d-13fc-4314-8f0c-94044435adb1</td>\n      <td>Regular</td>\n      <td>i:0h.f|membership|100320003b5602fc@live.com</td>\n      <td>OneDrive</td>\n      <td></td>\n      <td>https://m365x054215-my.sharepoint.com/personal/ianh_m365x054215_onmicrosoft_com/Documents/Docume...</td>\n      <td>ianh@m365x054215.onmicrosoft.com</td>\n      <td>23.97.60.214</td>\n      <td>4f96a3b3-f5ae-4706-af77-7984baf27d79</td>\n      <td>File</td>\n      <td>SharePoint</td>\n      <td></td>\n      <td>OneDriveMpc/1.0</td>\n      <td></td>\n      <td></td>\n      <td>https://m365x054215-my.sharepoint.com/personal/ianh_m365x054215_onmicrosoft_com/</td>\n      <td>Documents</td>\n      <td>Document1.docx</td>\n      <td>docx</td>\n      <td></td>\n      <td></td>\n      <td>...</td>\n      <td>NaN</td>\n      <td></td>\n      <td></td>\n      <td></td>\n      <td></td>\n      <td></td>\n      <td></td>\n      <td></td>\n      <td></td>\n      <td></td>\n      <td>NaN</td>\n      <td>2019-02-16 03:57:58</td>\n      <td></td>\n      <td>2019-02-16 03:57:58</td>\n      <td></td>\n      <td>NaT</td>\n      <td></td>\n      <td></td>\n      <td>NaN</td>\n      <td></td>\n      <td>52b1ab41-869e-4138-9e40-2a4457f09bf0</td>\n      <td>aa46238d-13fc-4314-8f0c-94044435adb1</td>\n      <td>OfficeActivityManager</td>\n      <td>OfficeActivity</td>\n      <td>ianh@m365x054215.onmicrosoft.com</td>\n    </tr>\n    <tr>\n      <td>4</td>\n      <td>15a0b86e-1d7f-4581-79a9-08d693c111bb</td>\n      <td>SharePointFileOperation</td>\n      <td>2019-02-16 03:44:35</td>\n      <td>FileAccessed</td>\n      <td>aa46238d-13fc-4314-8f0c-94044435adb1</td>\n      <td>Regular</td>\n      <td>i:0h.f|membership|100320003b5602fc@live.com</td>\n      <td>OneDrive</td>\n      <td></td>\n      <td>https://m365x054215-my.sharepoint.com/personal/ianh_m365x054215_onmicrosoft_com/Documents/Forms/...</td>\n      <td>ianh@m365x054215.onmicrosoft.com</td>\n      <td>23.97.60.214</td>\n      <td>4f96a3b3-f5ae-4706-af77-7984baf27d79</td>\n      <td>File</td>\n      <td>SharePoint</td>\n      <td></td>\n      <td>Mozilla/5.0 (Windows NT 10.0; Win64; x64) AppleWebKit/537.36 (KHTML, like Gecko) Chrome/61.0.316...</td>\n      <td></td>\n      <td></td>\n      <td>https://m365x054215-my.sharepoint.com/personal/ianh_m365x054215_onmicrosoft_com/</td>\n      <td>Documents/Forms</td>\n      <td>DispForm.aspx</td>\n      <td>aspx</td>\n      <td></td>\n      <td></td>\n      <td>...</td>\n      <td>NaN</td>\n      <td></td>\n      <td></td>\n      <td></td>\n      <td></td>\n      <td></td>\n      <td></td>\n      <td></td>\n      <td></td>\n      <td></td>\n      <td>NaN</td>\n      <td>2019-02-16 03:57:58</td>\n      <td></td>\n      <td>2019-02-16 03:57:58</td>\n      <td></td>\n      <td>NaT</td>\n      <td></td>\n      <td></td>\n      <td>NaN</td>\n      <td></td>\n      <td>52b1ab41-869e-4138-9e40-2a4457f09bf0</td>\n      <td>aa46238d-13fc-4314-8f0c-94044435adb1</td>\n      <td>OfficeActivityManager</td>\n      <td>OfficeActivity</td>\n      <td>ianh@m365x054215.onmicrosoft.com</td>\n    </tr>\n    <tr>\n      <td>5</td>\n      <td>0c07c626-95a6-4ddb-1890-08d693c111b9</td>\n      <td>SharePointFileOperation</td>\n      <td>2019-02-16 03:44:35</td>\n      <td>FileAccessed</td>\n      <td>aa46238d-13fc-4314-8f0c-94044435adb1</td>\n      <td>Regular</td>\n      <td>i:0h.f|membership|100320003b5602fc@live.com</td>\n      <td>OneDrive</td>\n      <td></td>\n      <td>https://m365x054215-my.sharepoint.com/personal/ianh_m365x054215_onmicrosoft_com/Documents/Forms/...</td>\n      <td>ianh@m365x054215.onmicrosoft.com</td>\n      <td>23.97.60.214</td>\n      <td>4f96a3b3-f5ae-4706-af77-7984baf27d79</td>\n      <td>File</td>\n      <td>SharePoint</td>\n      <td></td>\n      <td>Mozilla/5.0 (Windows NT 10.0; Win64; x64) AppleWebKit/537.36 (KHTML, like Gecko) Chrome/61.0.316...</td>\n      <td></td>\n      <td></td>\n      <td>https://m365x054215-my.sharepoint.com/personal/ianh_m365x054215_onmicrosoft_com/</td>\n      <td>Documents/Forms</td>\n      <td>EditForm.aspx</td>\n      <td>aspx</td>\n      <td></td>\n      <td></td>\n      <td>...</td>\n      <td>NaN</td>\n      <td></td>\n      <td></td>\n      <td></td>\n      <td></td>\n      <td></td>\n      <td></td>\n      <td></td>\n      <td></td>\n      <td></td>\n      <td>NaN</td>\n      <td>2019-02-16 03:57:58</td>\n      <td></td>\n      <td>2019-02-16 03:57:58</td>\n      <td></td>\n      <td>NaT</td>\n      <td></td>\n      <td></td>\n      <td>NaN</td>\n      <td></td>\n      <td>52b1ab41-869e-4138-9e40-2a4457f09bf0</td>\n      <td>aa46238d-13fc-4314-8f0c-94044435adb1</td>\n      <td>OfficeActivityManager</td>\n      <td>OfficeActivity</td>\n      <td>ianh@m365x054215.onmicrosoft.com</td>\n    </tr>\n    <tr>\n      <td>6</td>\n      <td>ab389151-c8ee-45ff-b5bd-08d693c111b6</td>\n      <td>SharePointFileOperation</td>\n      <td>2019-02-16 03:44:35</td>\n      <td>FileAccessed</td>\n      <td>aa46238d-13fc-4314-8f0c-94044435adb1</td>\n      <td>Regular</td>\n      <td>i:0h.f|membership|100320003b5602fc@live.com</td>\n      <td>OneDrive</td>\n      <td></td>\n      <td>https://m365x054215-my.sharepoint.com/personal/ianh_m365x054215_onmicrosoft_com/Documents/Forms/...</td>\n      <td>ianh@m365x054215.onmicrosoft.com</td>\n      <td>23.97.60.214</td>\n      <td>4f96a3b3-f5ae-4706-af77-7984baf27d79</td>\n      <td>File</td>\n      <td>SharePoint</td>\n      <td></td>\n      <td>Mozilla/5.0 (Windows NT 10.0; Win64; x64) AppleWebKit/537.36 (KHTML, like Gecko) Chrome/61.0.316...</td>\n      <td></td>\n      <td></td>\n      <td>https://m365x054215-my.sharepoint.com/personal/ianh_m365x054215_onmicrosoft_com/</td>\n      <td>Documents/Forms</td>\n      <td>Upload.aspx</td>\n      <td>aspx</td>\n      <td></td>\n      <td></td>\n      <td>...</td>\n      <td>NaN</td>\n      <td></td>\n      <td></td>\n      <td></td>\n      <td></td>\n      <td></td>\n      <td></td>\n      <td></td>\n      <td></td>\n      <td></td>\n      <td>NaN</td>\n      <td>2019-02-16 03:57:58</td>\n      <td></td>\n      <td>2019-02-16 03:57:58</td>\n      <td></td>\n      <td>NaT</td>\n      <td></td>\n      <td></td>\n      <td>NaN</td>\n      <td></td>\n      <td>52b1ab41-869e-4138-9e40-2a4457f09bf0</td>\n      <td>aa46238d-13fc-4314-8f0c-94044435adb1</td>\n      <td>OfficeActivityManager</td>\n      <td>OfficeActivity</td>\n      <td>ianh@m365x054215.onmicrosoft.com</td>\n    </tr>\n    <tr>\n      <td>7</td>\n      <td>9fd6d462-17af-4539-7cbb-08d693c11323</td>\n      <td>SharePointFileOperation</td>\n      <td>2019-02-16 03:44:37</td>\n      <td>FileAccessed</td>\n      <td>aa46238d-13fc-4314-8f0c-94044435adb1</td>\n      <td>Regular</td>\n      <td>i:0h.f|membership|100320003b5602fc@live.com</td>\n      <td>SharePoint</td>\n      <td></td>\n      <td>https://m365x054215-my.sharepoint.com/User Photos/Profile Pictures/ianh_m365x054215_onmicrosoft_...</td>\n      <td>ianh@m365x054215.onmicrosoft.com</td>\n      <td>23.97.60.214</td>\n      <td>94823fb0-11d5-4424-b933-8663eafa73a3</td>\n      <td>File</td>\n      <td>SharePoint</td>\n      <td></td>\n      <td>Mozilla/5.0 (Windows NT 10.0; Win64; x64) AppleWebKit/537.36 (KHTML, like Gecko) Chrome/61.0.316...</td>\n      <td></td>\n      <td></td>\n      <td>https://m365x054215-my.sharepoint.com/</td>\n      <td>User Photos/Profile Pictures</td>\n      <td>ianh_m365x054215_onmicrosoft_com_SThumb.jpg</td>\n      <td>jpg</td>\n      <td></td>\n      <td></td>\n      <td>...</td>\n      <td>NaN</td>\n      <td></td>\n      <td></td>\n      <td></td>\n      <td></td>\n      <td></td>\n      <td></td>\n      <td></td>\n      <td></td>\n      <td></td>\n      <td>NaN</td>\n      <td>2019-02-16 03:57:58</td>\n      <td></td>\n      <td>2019-02-16 03:57:58</td>\n      <td></td>\n      <td>NaT</td>\n      <td></td>\n      <td></td>\n      <td>NaN</td>\n      <td></td>\n      <td>52b1ab41-869e-4138-9e40-2a4457f09bf0</td>\n      <td>aa46238d-13fc-4314-8f0c-94044435adb1</td>\n      <td>OfficeActivityManager</td>\n      <td>OfficeActivity</td>\n      <td>ianh@m365x054215.onmicrosoft.com</td>\n    </tr>\n    <tr>\n      <td>53</td>\n      <td>709a549c-b747-44c4-dc40-08d693c11cdf</td>\n      <td>SharePointFileOperation</td>\n      <td>2019-02-16 03:44:54</td>\n      <td>FileDownloaded</td>\n      <td>aa46238d-13fc-4314-8f0c-94044435adb1</td>\n      <td>Regular</td>\n      <td>i:0h.f|membership|100320003b5602fc@live.com</td>\n      <td>OneDrive</td>\n      <td></td>\n      <td>https://m365x054215-my.sharepoint.com/personal/ianh_m365x054215_onmicrosoft_com/Documents/Book.xlsx</td>\n      <td>ianh@m365x054215.onmicrosoft.com</td>\n      <td>23.97.60.214</td>\n      <td>4f96a3b3-f5ae-4706-af77-7984baf27d79</td>\n      <td>File</td>\n      <td>SharePoint</td>\n      <td></td>\n      <td>OneDriveMpc/1.0</td>\n      <td></td>\n      <td></td>\n      <td>https://m365x054215-my.sharepoint.com/personal/ianh_m365x054215_onmicrosoft_com/</td>\n      <td>Documents</td>\n      <td>Book.xlsx</td>\n      <td>xlsx</td>\n      <td></td>\n      <td></td>\n      <td>...</td>\n      <td>NaN</td>\n      <td></td>\n      <td></td>\n      <td></td>\n      <td></td>\n      <td></td>\n      <td></td>\n      <td></td>\n      <td></td>\n      <td></td>\n      <td>NaN</td>\n      <td>2019-02-16 03:57:58</td>\n      <td></td>\n      <td>2019-02-16 03:57:58</td>\n      <td></td>\n      <td>NaT</td>\n      <td></td>\n      <td></td>\n      <td>NaN</td>\n      <td></td>\n      <td>52b1ab41-869e-4138-9e40-2a4457f09bf0</td>\n      <td>aa46238d-13fc-4314-8f0c-94044435adb1</td>\n      <td>OfficeActivityManager</td>\n      <td>OfficeActivity</td>\n      <td>ianh@m365x054215.onmicrosoft.com</td>\n    </tr>\n    <tr>\n      <td>29</td>\n      <td>c1b5f773-b5bd-4333-4d12-08d693c11d3d</td>\n      <td>SharePointFileOperation</td>\n      <td>2019-02-16 03:44:54</td>\n      <td>FileDownloaded</td>\n      <td>aa46238d-13fc-4314-8f0c-94044435adb1</td>\n      <td>Regular</td>\n      <td>i:0h.f|membership|100320003b5602fc@live.com</td>\n      <td>OneDrive</td>\n      <td></td>\n      <td>https://m365x054215-my.sharepoint.com/personal/ianh_m365x054215_onmicrosoft_com/Documents/Docume...</td>\n      <td>ianh@m365x054215.onmicrosoft.com</td>\n      <td>23.97.60.214</td>\n      <td>4f96a3b3-f5ae-4706-af77-7984baf27d79</td>\n      <td>File</td>\n      <td>SharePoint</td>\n      <td></td>\n      <td>OneDriveMpc/1.0</td>\n      <td></td>\n      <td></td>\n      <td>https://m365x054215-my.sharepoint.com/personal/ianh_m365x054215_onmicrosoft_com/</td>\n      <td>Documents/Documents/Absynth</td>\n      <td>Absynth 5 Getting Started English.pdf</td>\n      <td>pdf</td>\n      <td></td>\n      <td></td>\n      <td>...</td>\n      <td>NaN</td>\n      <td></td>\n      <td></td>\n      <td></td>\n      <td></td>\n      <td></td>\n      <td></td>\n      <td></td>\n      <td></td>\n      <td></td>\n      <td>NaN</td>\n      <td>2019-02-16 03:57:58</td>\n      <td></td>\n      <td>2019-02-16 03:57:58</td>\n      <td></td>\n      <td>NaT</td>\n      <td></td>\n      <td></td>\n      <td>NaN</td>\n      <td></td>\n      <td>52b1ab41-869e-4138-9e40-2a4457f09bf0</td>\n      <td>aa46238d-13fc-4314-8f0c-94044435adb1</td>\n      <td>OfficeActivityManager</td>\n      <td>OfficeActivity</td>\n      <td>ianh@m365x054215.onmicrosoft.com</td>\n    </tr>\n    <tr>\n      <td>52</td>\n      <td>b56975a9-1a8f-4c84-dddd-08d693c11e85</td>\n      <td>SharePointFileOperation</td>\n      <td>2019-02-16 03:44:56</td>\n      <td>FileDownloaded</td>\n      <td>aa46238d-13fc-4314-8f0c-94044435adb1</td>\n      <td>Regular</td>\n      <td>i:0h.f|membership|100320003b5602fc@live.com</td>\n      <td>OneDrive</td>\n      <td></td>\n      <td>https://m365x054215-my.sharepoint.com/personal/ianh_m365x054215_onmicrosoft_com/Documents/Docume...</td>\n      <td>ianh@m365x054215.onmicrosoft.com</td>\n      <td>23.97.60.214</td>\n      <td>4f96a3b3-f5ae-4706-af77-7984baf27d79</td>\n      <td>File</td>\n      <td>SharePoint</td>\n      <td></td>\n      <td>OneDriveMpc/1.0</td>\n      <td></td>\n      <td></td>\n      <td>https://m365x054215-my.sharepoint.com/personal/ianh_m365x054215_onmicrosoft_com/</td>\n      <td>Documents/Documents/Absynth</td>\n      <td>Absynth 5 Getting Started French.pdf</td>\n      <td>pdf</td>\n      <td></td>\n      <td></td>\n      <td>...</td>\n      <td>NaN</td>\n      <td></td>\n      <td></td>\n      <td></td>\n      <td></td>\n      <td></td>\n      <td></td>\n      <td></td>\n      <td></td>\n      <td></td>\n      <td>NaN</td>\n      <td>2019-02-16 03:57:58</td>\n      <td></td>\n      <td>2019-02-16 03:57:58</td>\n      <td></td>\n      <td>NaT</td>\n      <td></td>\n      <td></td>\n      <td>NaN</td>\n      <td></td>\n      <td>52b1ab41-869e-4138-9e40-2a4457f09bf0</td>\n      <td>aa46238d-13fc-4314-8f0c-94044435adb1</td>\n      <td>OfficeActivityManager</td>\n      <td>OfficeActivity</td>\n      <td>ianh@m365x054215.onmicrosoft.com</td>\n    </tr>\n    <tr>\n      <td>28</td>\n      <td>636946bd-4558-4836-73df-08d693c11eea</td>\n      <td>SharePointFileOperation</td>\n      <td>2019-02-16 03:44:57</td>\n      <td>FileDownloaded</td>\n      <td>aa46238d-13fc-4314-8f0c-94044435adb1</td>\n      <td>Regular</td>\n      <td>i:0h.f|membership|100320003b5602fc@live.com</td>\n      <td>OneDrive</td>\n      <td></td>\n      <td>https://m365x054215-my.sharepoint.com/personal/ianh_m365x054215_onmicrosoft_com/Documents/Docume...</td>\n      <td>ianh@m365x054215.onmicrosoft.com</td>\n      <td>23.97.60.214</td>\n      <td>4f96a3b3-f5ae-4706-af77-7984baf27d79</td>\n      <td>File</td>\n      <td>SharePoint</td>\n      <td></td>\n      <td>OneDriveMpc/1.0</td>\n      <td></td>\n      <td></td>\n      <td>https://m365x054215-my.sharepoint.com/personal/ianh_m365x054215_onmicrosoft_com/</td>\n      <td>Documents/Documents/Absynth</td>\n      <td>Absynth 5 Getting Started German.pdf</td>\n      <td>pdf</td>\n      <td></td>\n      <td></td>\n      <td>...</td>\n      <td>NaN</td>\n      <td></td>\n      <td></td>\n      <td></td>\n      <td></td>\n      <td></td>\n      <td></td>\n      <td></td>\n      <td></td>\n      <td></td>\n      <td>NaN</td>\n      <td>2019-02-16 03:57:58</td>\n      <td></td>\n      <td>2019-02-16 03:57:58</td>\n      <td></td>\n      <td>NaT</td>\n      <td></td>\n      <td></td>\n      <td>NaN</td>\n      <td></td>\n      <td>52b1ab41-869e-4138-9e40-2a4457f09bf0</td>\n      <td>aa46238d-13fc-4314-8f0c-94044435adb1</td>\n      <td>OfficeActivityManager</td>\n      <td>OfficeActivity</td>\n      <td>ianh@m365x054215.onmicrosoft.com</td>\n    </tr>\n    <tr>\n      <td>51</td>\n      <td>4620ed55-ea54-4f13-48b9-08d693c11f74</td>\n      <td>SharePointFileOperation</td>\n      <td>2019-02-16 03:44:58</td>\n      <td>FileDownloaded</td>\n      <td>aa46238d-13fc-4314-8f0c-94044435adb1</td>\n      <td>Regular</td>\n      <td>i:0h.f|membership|100320003b5602fc@live.com</td>\n      <td>OneDrive</td>\n      <td></td>\n      <td>https://m365x054215-my.sharepoint.com/personal/ianh_m365x054215_onmicrosoft_com/Documents/Docume...</td>\n      <td>ianh@m365x054215.onmicrosoft.com</td>\n      <td>23.97.60.214</td>\n      <td>4f96a3b3-f5ae-4706-af77-7984baf27d79</td>\n      <td>File</td>\n      <td>SharePoint</td>\n      <td></td>\n      <td>OneDriveMpc/1.0</td>\n      <td></td>\n      <td></td>\n      <td>https://m365x054215-my.sharepoint.com/personal/ianh_m365x054215_onmicrosoft_com/</td>\n      <td>Documents/Documents/Absynth</td>\n      <td>Absynth 5 Getting Started Japanese.pdf</td>\n      <td>pdf</td>\n      <td></td>\n      <td></td>\n      <td>...</td>\n      <td>NaN</td>\n      <td></td>\n      <td></td>\n      <td></td>\n      <td></td>\n      <td></td>\n      <td></td>\n      <td></td>\n      <td></td>\n      <td></td>\n      <td>NaN</td>\n      <td>2019-02-16 03:57:58</td>\n      <td></td>\n      <td>2019-02-16 03:57:58</td>\n      <td></td>\n      <td>NaT</td>\n      <td></td>\n      <td></td>\n      <td>NaN</td>\n      <td></td>\n      <td>52b1ab41-869e-4138-9e40-2a4457f09bf0</td>\n      <td>aa46238d-13fc-4314-8f0c-94044435adb1</td>\n      <td>OfficeActivityManager</td>\n      <td>OfficeActivity</td>\n      <td>ianh@m365x054215.onmicrosoft.com</td>\n    </tr>\n    <tr>\n      <td>50</td>\n      <td>1dcf62a7-67d5-49d9-644a-08d693c12054</td>\n      <td>SharePointFileOperation</td>\n      <td>2019-02-16 03:44:59</td>\n      <td>FileDownloaded</td>\n      <td>aa46238d-13fc-4314-8f0c-94044435adb1</td>\n      <td>Regular</td>\n      <td>i:0h.f|membership|100320003b5602fc@live.com</td>\n      <td>OneDrive</td>\n      <td></td>\n      <td>https://m365x054215-my.sharepoint.com/personal/ianh_m365x054215_onmicrosoft_com/Documents/Docume...</td>\n      <td>ianh@m365x054215.onmicrosoft.com</td>\n      <td>23.97.60.214</td>\n      <td>4f96a3b3-f5ae-4706-af77-7984baf27d79</td>\n      <td>File</td>\n      <td>SharePoint</td>\n      <td></td>\n      <td>OneDriveMpc/1.0</td>\n      <td></td>\n      <td></td>\n      <td>https://m365x054215-my.sharepoint.com/personal/ianh_m365x054215_onmicrosoft_com/</td>\n      <td>Documents/Documents/Absynth</td>\n      <td>Absynth 5 Manual Addendum English.pdf</td>\n      <td>pdf</td>\n      <td></td>\n      <td></td>\n      <td>...</td>\n      <td>NaN</td>\n      <td></td>\n      <td></td>\n      <td></td>\n      <td></td>\n      <td></td>\n      <td></td>\n      <td></td>\n      <td></td>\n      <td></td>\n      <td>NaN</td>\n      <td>2019-02-16 03:57:58</td>\n      <td></td>\n      <td>2019-02-16 03:57:58</td>\n      <td></td>\n      <td>NaT</td>\n      <td></td>\n      <td></td>\n      <td>NaN</td>\n      <td></td>\n      <td>52b1ab41-869e-4138-9e40-2a4457f09bf0</td>\n      <td>aa46238d-13fc-4314-8f0c-94044435adb1</td>\n      <td>OfficeActivityManager</td>\n      <td>OfficeActivity</td>\n      <td>ianh@m365x054215.onmicrosoft.com</td>\n    </tr>\n    <tr>\n      <td>27</td>\n      <td>880d1425-bd87-4b6f-57b8-08d693c11fcf</td>\n      <td>SharePointFileOperation</td>\n      <td>2019-02-16 03:44:59</td>\n      <td>FileDownloaded</td>\n      <td>aa46238d-13fc-4314-8f0c-94044435adb1</td>\n      <td>Regular</td>\n      <td>i:0h.f|membership|100320003b5602fc@live.com</td>\n      <td>OneDrive</td>\n      <td></td>\n      <td>https://m365x054215-my.sharepoint.com/personal/ianh_m365x054215_onmicrosoft_com/Documents/Docume...</td>\n      <td>ianh@m365x054215.onmicrosoft.com</td>\n      <td>23.97.60.214</td>\n      <td>4f96a3b3-f5ae-4706-af77-7984baf27d79</td>\n      <td>File</td>\n      <td>SharePoint</td>\n      <td></td>\n      <td>OneDriveMpc/1.0</td>\n      <td></td>\n      <td></td>\n      <td>https://m365x054215-my.sharepoint.com/personal/ianh_m365x054215_onmicrosoft_com/</td>\n      <td>Documents/Documents/Absynth</td>\n      <td>Absynth 5 Getting Started Spanish.pdf</td>\n      <td>pdf</td>\n      <td></td>\n      <td></td>\n      <td>...</td>\n      <td>NaN</td>\n      <td></td>\n      <td></td>\n      <td></td>\n      <td></td>\n      <td></td>\n      <td></td>\n      <td></td>\n      <td></td>\n      <td></td>\n      <td>NaN</td>\n      <td>2019-02-16 03:57:58</td>\n      <td></td>\n      <td>2019-02-16 03:57:58</td>\n      <td></td>\n      <td>NaT</td>\n      <td></td>\n      <td></td>\n      <td>NaN</td>\n      <td></td>\n      <td>52b1ab41-869e-4138-9e40-2a4457f09bf0</td>\n      <td>aa46238d-13fc-4314-8f0c-94044435adb1</td>\n      <td>OfficeActivityManager</td>\n      <td>OfficeActivity</td>\n      <td>ianh@m365x054215.onmicrosoft.com</td>\n    </tr>\n    <tr>\n      <td>49</td>\n      <td>e742a1e9-d9e4-4d16-c1e5-08d693c120b3</td>\n      <td>SharePointFileOperation</td>\n      <td>2019-02-16 03:45:00</td>\n      <td>FileDownloaded</td>\n      <td>aa46238d-13fc-4314-8f0c-94044435adb1</td>\n      <td>Regular</td>\n      <td>i:0h.f|membership|100320003b5602fc@live.com</td>\n      <td>OneDrive</td>\n      <td></td>\n      <td>https://m365x054215-my.sharepoint.com/personal/ianh_m365x054215_onmicrosoft_com/Documents/Docume...</td>\n      <td>ianh@m365x054215.onmicrosoft.com</td>\n      <td>23.97.60.214</td>\n      <td>4f96a3b3-f5ae-4706-af77-7984baf27d79</td>\n      <td>File</td>\n      <td>SharePoint</td>\n      <td></td>\n      <td>OneDriveMpc/1.0</td>\n      <td></td>\n      <td></td>\n      <td>https://m365x054215-my.sharepoint.com/personal/ianh_m365x054215_onmicrosoft_com/</td>\n      <td>Documents/Documents/Absynth</td>\n      <td>Absynth 5 Manual Addendum German.pdf</td>\n      <td>pdf</td>\n      <td></td>\n      <td></td>\n      <td>...</td>\n      <td>NaN</td>\n      <td></td>\n      <td></td>\n      <td></td>\n      <td></td>\n      <td></td>\n      <td></td>\n      <td></td>\n      <td></td>\n      <td></td>\n      <td>NaN</td>\n      <td>2019-02-16 03:57:58</td>\n      <td></td>\n      <td>2019-02-16 03:57:58</td>\n      <td></td>\n      <td>NaT</td>\n      <td></td>\n      <td></td>\n      <td>NaN</td>\n      <td></td>\n      <td>52b1ab41-869e-4138-9e40-2a4457f09bf0</td>\n      <td>aa46238d-13fc-4314-8f0c-94044435adb1</td>\n      <td>OfficeActivityManager</td>\n      <td>OfficeActivity</td>\n      <td>ianh@m365x054215.onmicrosoft.com</td>\n    </tr>\n    <tr>\n      <td>25</td>\n      <td>84cbe412-b00e-49ae-4ab6-08d693c120c7</td>\n      <td>SharePointFileOperation</td>\n      <td>2019-02-16 03:45:00</td>\n      <td>FileDownloaded</td>\n      <td>aa46238d-13fc-4314-8f0c-94044435adb1</td>\n      <td>Regular</td>\n      <td>i:0h.f|membership|100320003b5602fc@live.com</td>\n      <td>OneDrive</td>\n      <td></td>\n      <td>https://m365x054215-my.sharepoint.com/personal/ianh_m365x054215_onmicrosoft_com/Documents/Docume...</td>\n      <td>ianh@m365x054215.onmicrosoft.com</td>\n      <td>23.97.60.214</td>\n      <td>4f96a3b3-f5ae-4706-af77-7984baf27d79</td>\n      <td>File</td>\n      <td>SharePoint</td>\n      <td></td>\n      <td>OneDriveMpc/1.0</td>\n      <td></td>\n      <td></td>\n      <td>https://m365x054215-my.sharepoint.com/personal/ianh_m365x054215_onmicrosoft_com/</td>\n      <td>Documents/Documents/Absynth</td>\n      <td>Absynth 5 Manual Addendum Japanese.pdf</td>\n      <td>pdf</td>\n      <td></td>\n      <td></td>\n      <td>...</td>\n      <td>NaN</td>\n      <td></td>\n      <td></td>\n      <td></td>\n      <td></td>\n      <td></td>\n      <td></td>\n      <td></td>\n      <td></td>\n      <td></td>\n      <td>NaN</td>\n      <td>2019-02-16 03:57:58</td>\n      <td></td>\n      <td>2019-02-16 03:57:58</td>\n      <td></td>\n      <td>NaT</td>\n      <td></td>\n      <td></td>\n      <td>NaN</td>\n      <td></td>\n      <td>52b1ab41-869e-4138-9e40-2a4457f09bf0</td>\n      <td>aa46238d-13fc-4314-8f0c-94044435adb1</td>\n      <td>OfficeActivityManager</td>\n      <td>OfficeActivity</td>\n      <td>ianh@m365x054215.onmicrosoft.com</td>\n    </tr>\n    <tr>\n      <td>26</td>\n      <td>d6c655c7-6da5-444b-1352-08d693c1206f</td>\n      <td>SharePointFileOperation</td>\n      <td>2019-02-16 03:45:00</td>\n      <td>FileDownloaded</td>\n      <td>aa46238d-13fc-4314-8f0c-94044435adb1</td>\n      <td>Regular</td>\n      <td>i:0h.f|membership|100320003b5602fc@live.com</td>\n      <td>OneDrive</td>\n      <td></td>\n      <td>https://m365x054215-my.sharepoint.com/personal/ianh_m365x054215_onmicrosoft_com/Documents/Docume...</td>\n      <td>ianh@m365x054215.onmicrosoft.com</td>\n      <td>23.97.60.214</td>\n      <td>4f96a3b3-f5ae-4706-af77-7984baf27d79</td>\n      <td>File</td>\n      <td>SharePoint</td>\n      <td></td>\n      <td>OneDriveMpc/1.0</td>\n      <td></td>\n      <td></td>\n      <td>https://m365x054215-my.sharepoint.com/personal/ianh_m365x054215_onmicrosoft_com/</td>\n      <td>Documents/Documents/Absynth</td>\n      <td>Absynth 5 Manual Addendum French.pdf</td>\n      <td>pdf</td>\n      <td></td>\n      <td></td>\n      <td>...</td>\n      <td>NaN</td>\n      <td></td>\n      <td></td>\n      <td></td>\n      <td></td>\n      <td></td>\n      <td></td>\n      <td></td>\n      <td></td>\n      <td></td>\n      <td>NaN</td>\n      <td>2019-02-16 03:57:58</td>\n      <td></td>\n      <td>2019-02-16 03:57:58</td>\n      <td></td>\n      <td>NaT</td>\n      <td></td>\n      <td></td>\n      <td>NaN</td>\n      <td></td>\n      <td>52b1ab41-869e-4138-9e40-2a4457f09bf0</td>\n      <td>aa46238d-13fc-4314-8f0c-94044435adb1</td>\n      <td>OfficeActivityManager</td>\n      <td>OfficeActivity</td>\n      <td>ianh@m365x054215.onmicrosoft.com</td>\n    </tr>\n    <tr>\n      <td>47</td>\n      <td>675c68e5-b826-4487-7efc-08d693c12153</td>\n      <td>SharePointFileOperation</td>\n      <td>2019-02-16 03:45:01</td>\n      <td>FileDownloaded</td>\n      <td>aa46238d-13fc-4314-8f0c-94044435adb1</td>\n      <td>Regular</td>\n      <td>i:0h.f|membership|100320003b5602fc@live.com</td>\n      <td>OneDrive</td>\n      <td></td>\n      <td>https://m365x054215-my.sharepoint.com/personal/ianh_m365x054215_onmicrosoft_com/Documents/Docume...</td>\n      <td>ianh@m365x054215.onmicrosoft.com</td>\n      <td>23.97.60.214</td>\n      <td>4f96a3b3-f5ae-4706-af77-7984baf27d79</td>\n      <td>File</td>\n      <td>SharePoint</td>\n      <td></td>\n      <td>OneDriveMpc/1.0</td>\n      <td></td>\n      <td></td>\n      <td>https://m365x054215-my.sharepoint.com/personal/ianh_m365x054215_onmicrosoft_com/</td>\n      <td>Documents/Documents/Manuals</td>\n      <td>Nakamichi_480_service_manual.pdf</td>\n      <td>pdf</td>\n      <td></td>\n      <td></td>\n      <td>...</td>\n      <td>NaN</td>\n      <td></td>\n      <td></td>\n      <td></td>\n      <td></td>\n      <td></td>\n      <td></td>\n      <td></td>\n      <td></td>\n      <td></td>\n      <td>NaN</td>\n      <td>2019-02-16 03:57:58</td>\n      <td></td>\n      <td>2019-02-16 03:57:58</td>\n      <td></td>\n      <td>NaT</td>\n      <td></td>\n      <td></td>\n      <td>NaN</td>\n      <td></td>\n      <td>52b1ab41-869e-4138-9e40-2a4457f09bf0</td>\n      <td>aa46238d-13fc-4314-8f0c-94044435adb1</td>\n      <td>OfficeActivityManager</td>\n      <td>OfficeActivity</td>\n      <td>ianh@m365x054215.onmicrosoft.com</td>\n    </tr>\n    <tr>\n      <td>48</td>\n      <td>05980b7f-27d0-4086-8390-08d693c120f6</td>\n      <td>SharePointFileOperation</td>\n      <td>2019-02-16 03:45:01</td>\n      <td>FileDownloaded</td>\n      <td>aa46238d-13fc-4314-8f0c-94044435adb1</td>\n      <td>Regular</td>\n      <td>i:0h.f|membership|100320003b5602fc@live.com</td>\n      <td>OneDrive</td>\n      <td></td>\n      <td>https://m365x054215-my.sharepoint.com/personal/ianh_m365x054215_onmicrosoft_com/Documents/Docume...</td>\n      <td>ianh@m365x054215.onmicrosoft.com</td>\n      <td>23.97.60.214</td>\n      <td>4f96a3b3-f5ae-4706-af77-7984baf27d79</td>\n      <td>File</td>\n      <td>SharePoint</td>\n      <td></td>\n      <td>OneDriveMpc/1.0</td>\n      <td></td>\n      <td></td>\n      <td>https://m365x054215-my.sharepoint.com/personal/ianh_m365x054215_onmicrosoft_com/</td>\n      <td>Documents/Documents/Absynth</td>\n      <td>Absynth 5 Manual Addendum Spanish.pdf</td>\n      <td>pdf</td>\n      <td></td>\n      <td></td>\n      <td>...</td>\n      <td>NaN</td>\n      <td></td>\n      <td></td>\n      <td></td>\n      <td></td>\n      <td></td>\n      <td></td>\n      <td></td>\n      <td></td>\n      <td></td>\n      <td>NaN</td>\n      <td>2019-02-16 03:57:58</td>\n      <td></td>\n      <td>2019-02-16 03:57:58</td>\n      <td></td>\n      <td>NaT</td>\n      <td></td>\n      <td></td>\n      <td>NaN</td>\n      <td></td>\n      <td>52b1ab41-869e-4138-9e40-2a4457f09bf0</td>\n      <td>aa46238d-13fc-4314-8f0c-94044435adb1</td>\n      <td>OfficeActivityManager</td>\n      <td>OfficeActivity</td>\n      <td>ianh@m365x054215.onmicrosoft.com</td>\n    </tr>\n    <tr>\n      <td>24</td>\n      <td>83332db6-a62c-4dfd-e57a-08d693c12121</td>\n      <td>SharePointFileOperation</td>\n      <td>2019-02-16 03:45:01</td>\n      <td>FileDownloaded</td>\n      <td>aa46238d-13fc-4314-8f0c-94044435adb1</td>\n      <td>Regular</td>\n      <td>i:0h.f|membership|100320003b5602fc@live.com</td>\n      <td>OneDrive</td>\n      <td></td>\n      <td>https://m365x054215-my.sharepoint.com/personal/ianh_m365x054215_onmicrosoft_com/Documents/Docume...</td>\n      <td>ianh@m365x054215.onmicrosoft.com</td>\n      <td>23.97.60.214</td>\n      <td>4f96a3b3-f5ae-4706-af77-7984baf27d79</td>\n      <td>File</td>\n      <td>SharePoint</td>\n      <td></td>\n      <td>OneDriveMpc/1.0</td>\n      <td></td>\n      <td></td>\n      <td>https://m365x054215-my.sharepoint.com/personal/ianh_m365x054215_onmicrosoft_com/</td>\n      <td>Documents/Documents/Manuals</td>\n      <td>MAudio-KS61ES_EN01.pdf</td>\n      <td>pdf</td>\n      <td></td>\n      <td></td>\n      <td>...</td>\n      <td>NaN</td>\n      <td></td>\n      <td></td>\n      <td></td>\n      <td></td>\n      <td></td>\n      <td></td>\n      <td></td>\n      <td></td>\n      <td></td>\n      <td>NaN</td>\n      <td>2019-02-16 03:57:58</td>\n      <td></td>\n      <td>2019-02-16 03:57:58</td>\n      <td></td>\n      <td>NaT</td>\n      <td></td>\n      <td></td>\n      <td>NaN</td>\n      <td></td>\n      <td>52b1ab41-869e-4138-9e40-2a4457f09bf0</td>\n      <td>aa46238d-13fc-4314-8f0c-94044435adb1</td>\n      <td>OfficeActivityManager</td>\n      <td>OfficeActivity</td>\n      <td>ianh@m365x054215.onmicrosoft.com</td>\n    </tr>\n    <tr>\n      <td>23</td>\n      <td>7fbff88a-bbf9-4cc0-41bc-08d693c121a0</td>\n      <td>SharePointFileOperation</td>\n      <td>2019-02-16 03:45:02</td>\n      <td>FileDownloaded</td>\n      <td>aa46238d-13fc-4314-8f0c-94044435adb1</td>\n      <td>Regular</td>\n      <td>i:0h.f|membership|100320003b5602fc@live.com</td>\n      <td>OneDrive</td>\n      <td></td>\n      <td>https://m365x054215-my.sharepoint.com/personal/ianh_m365x054215_onmicrosoft_com/Documents/Docume...</td>\n      <td>ianh@m365x054215.onmicrosoft.com</td>\n      <td>23.97.60.214</td>\n      <td>4f96a3b3-f5ae-4706-af77-7984baf27d79</td>\n      <td>File</td>\n      <td>SharePoint</td>\n      <td></td>\n      <td>OneDriveMpc/1.0</td>\n      <td></td>\n      <td></td>\n      <td>https://m365x054215-my.sharepoint.com/personal/ianh_m365x054215_onmicrosoft_com/</td>\n      <td>Documents/Documents/Manuals</td>\n      <td>Nakamichi_480_service_manual.pdf</td>\n      <td>pdf</td>\n      <td></td>\n      <td></td>\n      <td>...</td>\n      <td>NaN</td>\n      <td></td>\n      <td></td>\n      <td></td>\n      <td></td>\n      <td></td>\n      <td></td>\n      <td></td>\n      <td></td>\n      <td></td>\n      <td>NaN</td>\n      <td>2019-02-16 03:57:58</td>\n      <td></td>\n      <td>2019-02-16 03:57:58</td>\n      <td></td>\n      <td>NaT</td>\n      <td></td>\n      <td></td>\n      <td>NaN</td>\n      <td></td>\n      <td>52b1ab41-869e-4138-9e40-2a4457f09bf0</td>\n      <td>aa46238d-13fc-4314-8f0c-94044435adb1</td>\n      <td>OfficeActivityManager</td>\n      <td>OfficeActivity</td>\n      <td>ianh@m365x054215.onmicrosoft.com</td>\n    </tr>\n    <tr>\n      <td>46</td>\n      <td>c0924668-e962-49bf-ab30-08d693c12284</td>\n      <td>SharePointFileOperation</td>\n      <td>2019-02-16 03:45:03</td>\n      <td>FileDownloaded</td>\n      <td>aa46238d-13fc-4314-8f0c-94044435adb1</td>\n      <td>Regular</td>\n      <td>i:0h.f|membership|100320003b5602fc@live.com</td>\n      <td>OneDrive</td>\n      <td></td>\n      <td>https://m365x054215-my.sharepoint.com/personal/ianh_m365x054215_onmicrosoft_com/Documents/Docume...</td>\n      <td>ianh@m365x054215.onmicrosoft.com</td>\n      <td>23.97.60.214</td>\n      <td>4f96a3b3-f5ae-4706-af77-7984baf27d79</td>\n      <td>File</td>\n      <td>SharePoint</td>\n      <td></td>\n      <td>OneDriveMpc/1.0</td>\n      <td></td>\n      <td></td>\n      <td>https://m365x054215-my.sharepoint.com/personal/ianh_m365x054215_onmicrosoft_com/</td>\n      <td>Documents/Documents/Manuals</td>\n      <td>Nakamichi_CDP-2_service_manual.pdf</td>\n      <td>pdf</td>\n      <td></td>\n      <td></td>\n      <td>...</td>\n      <td>NaN</td>\n      <td></td>\n      <td></td>\n      <td></td>\n      <td></td>\n      <td></td>\n      <td></td>\n      <td></td>\n      <td></td>\n      <td></td>\n      <td>NaN</td>\n      <td>2019-02-16 03:57:58</td>\n      <td></td>\n      <td>2019-02-16 03:57:58</td>\n      <td></td>\n      <td>NaT</td>\n      <td></td>\n      <td></td>\n      <td>NaN</td>\n      <td></td>\n      <td>52b1ab41-869e-4138-9e40-2a4457f09bf0</td>\n      <td>aa46238d-13fc-4314-8f0c-94044435adb1</td>\n      <td>OfficeActivityManager</td>\n      <td>OfficeActivity</td>\n      <td>ianh@m365x054215.onmicrosoft.com</td>\n    </tr>\n    <tr>\n      <td>22</td>\n      <td>805770c0-3be4-47f9-5c6d-08d693c122be</td>\n      <td>SharePointFileOperation</td>\n      <td>2019-02-16 03:45:04</td>\n      <td>FileDownloaded</td>\n      <td>aa46238d-13fc-4314-8f0c-94044435adb1</td>\n      <td>Regular</td>\n      <td>i:0h.f|membership|100320003b5602fc@live.com</td>\n      <td>OneDrive</td>\n      <td></td>\n      <td>https://m365x054215-my.sharepoint.com/personal/ianh_m365x054215_onmicrosoft_com/Documents/Docume...</td>\n      <td>ianh@m365x054215.onmicrosoft.com</td>\n      <td>23.97.60.214</td>\n      <td>4f96a3b3-f5ae-4706-af77-7984baf27d79</td>\n      <td>File</td>\n      <td>SharePoint</td>\n      <td></td>\n      <td>OneDriveMpc/1.0</td>\n      <td></td>\n      <td></td>\n      <td>https://m365x054215-my.sharepoint.com/personal/ianh_m365x054215_onmicrosoft_com/</td>\n      <td>Documents/Documents/Manuals</td>\n      <td>Nakamichi_CDP-2_service_manual.pdf</td>\n      <td>pdf</td>\n      <td></td>\n      <td></td>\n      <td>...</td>\n      <td>NaN</td>\n      <td></td>\n      <td></td>\n      <td></td>\n      <td></td>\n      <td></td>\n      <td></td>\n      <td></td>\n      <td></td>\n      <td></td>\n      <td>NaN</td>\n      <td>2019-02-16 03:57:58</td>\n      <td></td>\n      <td>2019-02-16 03:57:58</td>\n      <td></td>\n      <td>NaT</td>\n      <td></td>\n      <td></td>\n      <td>NaN</td>\n      <td></td>\n      <td>52b1ab41-869e-4138-9e40-2a4457f09bf0</td>\n      <td>aa46238d-13fc-4314-8f0c-94044435adb1</td>\n      <td>OfficeActivityManager</td>\n      <td>OfficeActivity</td>\n      <td>ianh@m365x054215.onmicrosoft.com</td>\n    </tr>\n    <tr>\n      <td>45</td>\n      <td>d5656882-a44f-4919-3d71-08d693c1237a</td>\n      <td>SharePointFileOperation</td>\n      <td>2019-02-16 03:45:05</td>\n      <td>FileDownloaded</td>\n      <td>aa46238d-13fc-4314-8f0c-94044435adb1</td>\n      <td>Regular</td>\n      <td>i:0h.f|membership|100320003b5602fc@live.com</td>\n      <td>OneDrive</td>\n      <td></td>\n      <td>https://m365x054215-my.sharepoint.com/personal/ianh_m365x054215_onmicrosoft_com/Documents/Docume...</td>\n      <td>ianh@m365x054215.onmicrosoft.com</td>\n      <td>23.97.60.214</td>\n      <td>4f96a3b3-f5ae-4706-af77-7984baf27d79</td>\n      <td>File</td>\n      <td>SharePoint</td>\n      <td></td>\n      <td>OneDriveMpc/1.0</td>\n      <td></td>\n      <td></td>\n      <td>https://m365x054215-my.sharepoint.com/personal/ianh_m365x054215_onmicrosoft_com/</td>\n      <td>Documents/Documents/Manuals</td>\n      <td>Nakamichi_CR-3_service_manual.pdf</td>\n      <td>pdf</td>\n      <td></td>\n      <td></td>\n      <td>...</td>\n      <td>NaN</td>\n      <td></td>\n      <td></td>\n      <td></td>\n      <td></td>\n      <td></td>\n      <td></td>\n      <td></td>\n      <td></td>\n      <td></td>\n      <td>NaN</td>\n      <td>2019-02-16 03:57:58</td>\n      <td></td>\n      <td>2019-02-16 03:57:58</td>\n      <td></td>\n      <td>NaT</td>\n      <td></td>\n      <td></td>\n      <td>NaN</td>\n      <td></td>\n      <td>52b1ab41-869e-4138-9e40-2a4457f09bf0</td>\n      <td>aa46238d-13fc-4314-8f0c-94044435adb1</td>\n      <td>OfficeActivityManager</td>\n      <td>OfficeActivity</td>\n      <td>ianh@m365x054215.onmicrosoft.com</td>\n    </tr>\n    <tr>\n      <td>21</td>\n      <td>90c5b161-451b-4c88-eb68-08d693c123f1</td>\n      <td>SharePointFileOperation</td>\n      <td>2019-02-16 03:45:06</td>\n      <td>FileDownloaded</td>\n      <td>aa46238d-13fc-4314-8f0c-94044435adb1</td>\n      <td>Regular</td>\n      <td>i:0h.f|membership|100320003b5602fc@live.com</td>\n      <td>OneDrive</td>\n      <td></td>\n      <td>https://m365x054215-my.sharepoint.com/personal/ianh_m365x054215_onmicrosoft_com/Documents/Docume...</td>\n      <td>ianh@m365x054215.onmicrosoft.com</td>\n      <td>23.97.60.214</td>\n      <td>4f96a3b3-f5ae-4706-af77-7984baf27d79</td>\n      <td>File</td>\n      <td>SharePoint</td>\n      <td></td>\n      <td>OneDriveMpc/1.0</td>\n      <td></td>\n      <td></td>\n      <td>https://m365x054215-my.sharepoint.com/personal/ianh_m365x054215_onmicrosoft_com/</td>\n      <td>Documents/Documents/Massive</td>\n      <td>Massive 1.1.4 Manual Addendum English.pdf</td>\n      <td>pdf</td>\n      <td></td>\n      <td></td>\n      <td>...</td>\n      <td>NaN</td>\n      <td></td>\n      <td></td>\n      <td></td>\n      <td></td>\n      <td></td>\n      <td></td>\n      <td></td>\n      <td></td>\n      <td></td>\n      <td>NaN</td>\n      <td>2019-02-16 03:57:58</td>\n      <td></td>\n      <td>2019-02-16 03:57:58</td>\n      <td></td>\n      <td>NaT</td>\n      <td></td>\n      <td></td>\n      <td>NaN</td>\n      <td></td>\n      <td>52b1ab41-869e-4138-9e40-2a4457f09bf0</td>\n      <td>aa46238d-13fc-4314-8f0c-94044435adb1</td>\n      <td>OfficeActivityManager</td>\n      <td>OfficeActivity</td>\n      <td>ianh@m365x054215.onmicrosoft.com</td>\n    </tr>\n    <tr>\n      <td>20</td>\n      <td>0791c847-475d-48e1-8383-08d693c1246b</td>\n      <td>SharePointFileOperation</td>\n      <td>2019-02-16 03:45:06</td>\n      <td>FileDownloaded</td>\n      <td>aa46238d-13fc-4314-8f0c-94044435adb1</td>\n      <td>Regular</td>\n      <td>i:0h.f|membership|100320003b5602fc@live.com</td>\n      <td>OneDrive</td>\n      <td></td>\n      <td>https://m365x054215-my.sharepoint.com/personal/ianh_m365x054215_onmicrosoft_com/Documents/Docume...</td>\n      <td>ianh@m365x054215.onmicrosoft.com</td>\n      <td>23.97.60.214</td>\n      <td>4f96a3b3-f5ae-4706-af77-7984baf27d79</td>\n      <td>File</td>\n      <td>SharePoint</td>\n      <td></td>\n      <td>OneDriveMpc/1.0</td>\n      <td></td>\n      <td></td>\n      <td>https://m365x054215-my.sharepoint.com/personal/ianh_m365x054215_onmicrosoft_com/</td>\n      <td>Documents/Documents/Massive/License Agreement</td>\n      <td>EULA Native Instruments deutsch.rtf</td>\n      <td>rtf</td>\n      <td></td>\n      <td></td>\n      <td>...</td>\n      <td>NaN</td>\n      <td></td>\n      <td></td>\n      <td></td>\n      <td></td>\n      <td></td>\n      <td></td>\n      <td></td>\n      <td></td>\n      <td></td>\n      <td>NaN</td>\n      <td>2019-02-16 03:57:58</td>\n      <td></td>\n      <td>2019-02-16 03:57:58</td>\n      <td></td>\n      <td>NaT</td>\n      <td></td>\n      <td></td>\n      <td>NaN</td>\n      <td></td>\n      <td>52b1ab41-869e-4138-9e40-2a4457f09bf0</td>\n      <td>aa46238d-13fc-4314-8f0c-94044435adb1</td>\n      <td>OfficeActivityManager</td>\n      <td>OfficeActivity</td>\n      <td>ianh@m365x054215.onmicrosoft.com</td>\n    </tr>\n    <tr>\n      <td>44</td>\n      <td>b08da3cb-5e37-49ce-0c7e-08d693c1244c</td>\n      <td>SharePointFileOperation</td>\n      <td>2019-02-16 03:45:06</td>\n      <td>FileDownloaded</td>\n      <td>aa46238d-13fc-4314-8f0c-94044435adb1</td>\n      <td>Regular</td>\n      <td>i:0h.f|membership|100320003b5602fc@live.com</td>\n      <td>OneDrive</td>\n      <td></td>\n      <td>https://m365x054215-my.sharepoint.com/personal/ianh_m365x054215_onmicrosoft_com/Documents/Docume...</td>\n      <td>ianh@m365x054215.onmicrosoft.com</td>\n      <td>23.97.60.214</td>\n      <td>4f96a3b3-f5ae-4706-af77-7984baf27d79</td>\n      <td>File</td>\n      <td>SharePoint</td>\n      <td></td>\n      <td>OneDriveMpc/1.0</td>\n      <td></td>\n      <td></td>\n      <td>https://m365x054215-my.sharepoint.com/personal/ianh_m365x054215_onmicrosoft_com/</td>\n      <td>Documents/Documents/Massive/License Agreement</td>\n      <td>EULA Native Instruments deutsch.rtf</td>\n      <td>rtf</td>\n      <td></td>\n      <td></td>\n      <td>...</td>\n      <td>NaN</td>\n      <td></td>\n      <td></td>\n      <td></td>\n      <td></td>\n      <td></td>\n      <td></td>\n      <td></td>\n      <td></td>\n      <td></td>\n      <td>NaN</td>\n      <td>2019-02-16 03:57:58</td>\n      <td></td>\n      <td>2019-02-16 03:57:58</td>\n      <td></td>\n      <td>NaT</td>\n      <td></td>\n      <td></td>\n      <td>NaN</td>\n      <td></td>\n      <td>52b1ab41-869e-4138-9e40-2a4457f09bf0</td>\n      <td>aa46238d-13fc-4314-8f0c-94044435adb1</td>\n      <td>OfficeActivityManager</td>\n      <td>OfficeActivity</td>\n      <td>ianh@m365x054215.onmicrosoft.com</td>\n    </tr>\n    <tr>\n      <td>43</td>\n      <td>fcb00b0c-50b7-43ca-2b70-08d693c1250d</td>\n      <td>SharePointFileOperation</td>\n      <td>2019-02-16 03:45:07</td>\n      <td>FileDownloaded</td>\n      <td>aa46238d-13fc-4314-8f0c-94044435adb1</td>\n      <td>Regular</td>\n      <td>i:0h.f|membership|100320003b5602fc@live.com</td>\n      <td>OneDrive</td>\n      <td></td>\n      <td>https://m365x054215-my.sharepoint.com/personal/ianh_m365x054215_onmicrosoft_com/Documents/Docume...</td>\n      <td>ianh@m365x054215.onmicrosoft.com</td>\n      <td>23.97.60.214</td>\n      <td>4f96a3b3-f5ae-4706-af77-7984baf27d79</td>\n      <td>File</td>\n      <td>SharePoint</td>\n      <td></td>\n      <td>OneDriveMpc/1.0</td>\n      <td></td>\n      <td></td>\n      <td>https://m365x054215-my.sharepoint.com/personal/ianh_m365x054215_onmicrosoft_com/</td>\n      <td>Documents/Documents/Massive/License Agreement</td>\n      <td>EULA Native Instruments English.rtf</td>\n      <td>rtf</td>\n      <td></td>\n      <td></td>\n      <td>...</td>\n      <td>NaN</td>\n      <td></td>\n      <td></td>\n      <td></td>\n      <td></td>\n      <td></td>\n      <td></td>\n      <td></td>\n      <td></td>\n      <td></td>\n      <td>NaN</td>\n      <td>2019-02-16 03:57:58</td>\n      <td></td>\n      <td>2019-02-16 03:57:58</td>\n      <td></td>\n      <td>NaT</td>\n      <td></td>\n      <td></td>\n      <td>NaN</td>\n      <td></td>\n      <td>52b1ab41-869e-4138-9e40-2a4457f09bf0</td>\n      <td>aa46238d-13fc-4314-8f0c-94044435adb1</td>\n      <td>OfficeActivityManager</td>\n      <td>OfficeActivity</td>\n      <td>ianh@m365x054215.onmicrosoft.com</td>\n    </tr>\n    <tr>\n      <td>19</td>\n      <td>2e0456e2-c6b2-4e1d-056d-08d693c1252f</td>\n      <td>SharePointFileOperation</td>\n      <td>2019-02-16 03:45:08</td>\n      <td>FileDownloaded</td>\n      <td>aa46238d-13fc-4314-8f0c-94044435adb1</td>\n      <td>Regular</td>\n      <td>i:0h.f|membership|100320003b5602fc@live.com</td>\n      <td>OneDrive</td>\n      <td></td>\n      <td>https://m365x054215-my.sharepoint.com/personal/ianh_m365x054215_onmicrosoft_com/Documents/Docume...</td>\n      <td>ianh@m365x054215.onmicrosoft.com</td>\n      <td>23.97.60.214</td>\n      <td>4f96a3b3-f5ae-4706-af77-7984baf27d79</td>\n      <td>File</td>\n      <td>SharePoint</td>\n      <td></td>\n      <td>OneDriveMpc/1.0</td>\n      <td></td>\n      <td></td>\n      <td>https://m365x054215-my.sharepoint.com/personal/ianh_m365x054215_onmicrosoft_com/</td>\n      <td>Documents/Documents/Massive/License Agreement</td>\n      <td>EULA Native Instruments English.rtf</td>\n      <td>rtf</td>\n      <td></td>\n      <td></td>\n      <td>...</td>\n      <td>NaN</td>\n      <td></td>\n      <td></td>\n      <td></td>\n      <td></td>\n      <td></td>\n      <td></td>\n      <td></td>\n      <td></td>\n      <td></td>\n      <td>NaN</td>\n      <td>2019-02-16 03:57:58</td>\n      <td></td>\n      <td>2019-02-16 03:57:58</td>\n      <td></td>\n      <td>NaT</td>\n      <td></td>\n      <td></td>\n      <td>NaN</td>\n      <td></td>\n      <td>52b1ab41-869e-4138-9e40-2a4457f09bf0</td>\n      <td>aa46238d-13fc-4314-8f0c-94044435adb1</td>\n      <td>OfficeActivityManager</td>\n      <td>OfficeActivity</td>\n      <td>ianh@m365x054215.onmicrosoft.com</td>\n    </tr>\n    <tr>\n      <td>42</td>\n      <td>24c2e6e1-6de5-44bf-bfc7-08d693c125e3</td>\n      <td>SharePointFileOperation</td>\n      <td>2019-02-16 03:45:09</td>\n      <td>FileDownloaded</td>\n      <td>aa46238d-13fc-4314-8f0c-94044435adb1</td>\n      <td>Regular</td>\n      <td>i:0h.f|membership|100320003b5602fc@live.com</td>\n      <td>OneDrive</td>\n      <td></td>\n      <td>https://m365x054215-my.sharepoint.com/personal/ianh_m365x054215_onmicrosoft_com/Documents/Docume...</td>\n      <td>ianh@m365x054215.onmicrosoft.com</td>\n      <td>23.97.60.214</td>\n      <td>4f96a3b3-f5ae-4706-af77-7984baf27d79</td>\n      <td>File</td>\n      <td>SharePoint</td>\n      <td></td>\n      <td>OneDriveMpc/1.0</td>\n      <td></td>\n      <td></td>\n      <td>https://m365x054215-my.sharepoint.com/personal/ianh_m365x054215_onmicrosoft_com/</td>\n      <td>Documents/Documents/Massive/License Agreement</td>\n      <td>EULA Native Instruments Japanese.rtf</td>\n      <td>rtf</td>\n      <td></td>\n      <td></td>\n      <td>...</td>\n      <td>NaN</td>\n      <td></td>\n      <td></td>\n      <td></td>\n      <td></td>\n      <td></td>\n      <td></td>\n      <td></td>\n      <td></td>\n      <td></td>\n      <td>NaN</td>\n      <td>2019-02-16 03:57:58</td>\n      <td></td>\n      <td>2019-02-16 03:57:58</td>\n      <td></td>\n      <td>NaT</td>\n      <td></td>\n      <td></td>\n      <td>NaN</td>\n      <td></td>\n      <td>52b1ab41-869e-4138-9e40-2a4457f09bf0</td>\n      <td>aa46238d-13fc-4314-8f0c-94044435adb1</td>\n      <td>OfficeActivityManager</td>\n      <td>OfficeActivity</td>\n      <td>ianh@m365x054215.onmicrosoft.com</td>\n    </tr>\n    <tr>\n      <td>18</td>\n      <td>4a3fadc6-3635-4542-3727-08d693c12603</td>\n      <td>SharePointFileOperation</td>\n      <td>2019-02-16 03:45:09</td>\n      <td>FileDownloaded</td>\n      <td>aa46238d-13fc-4314-8f0c-94044435adb1</td>\n      <td>Regular</td>\n      <td>i:0h.f|membership|100320003b5602fc@live.com</td>\n      <td>OneDrive</td>\n      <td></td>\n      <td>https://m365x054215-my.sharepoint.com/personal/ianh_m365x054215_onmicrosoft_com/Documents/Docume...</td>\n      <td>ianh@m365x054215.onmicrosoft.com</td>\n      <td>23.97.60.214</td>\n      <td>4f96a3b3-f5ae-4706-af77-7984baf27d79</td>\n      <td>File</td>\n      <td>SharePoint</td>\n      <td></td>\n      <td>OneDriveMpc/1.0</td>\n      <td></td>\n      <td></td>\n      <td>https://m365x054215-my.sharepoint.com/personal/ianh_m365x054215_onmicrosoft_com/</td>\n      <td>Documents/Documents/Massive/License Agreement</td>\n      <td>EULA Native Instruments Japanese.rtf</td>\n      <td>rtf</td>\n      <td></td>\n      <td></td>\n      <td>...</td>\n      <td>NaN</td>\n      <td></td>\n      <td></td>\n      <td></td>\n      <td></td>\n      <td></td>\n      <td></td>\n      <td></td>\n      <td></td>\n      <td></td>\n      <td>NaN</td>\n      <td>2019-02-16 03:57:58</td>\n      <td></td>\n      <td>2019-02-16 03:57:58</td>\n      <td></td>\n      <td>NaT</td>\n      <td></td>\n      <td></td>\n      <td>NaN</td>\n      <td></td>\n      <td>52b1ab41-869e-4138-9e40-2a4457f09bf0</td>\n      <td>aa46238d-13fc-4314-8f0c-94044435adb1</td>\n      <td>OfficeActivityManager</td>\n      <td>OfficeActivity</td>\n      <td>ianh@m365x054215.onmicrosoft.com</td>\n    </tr>\n    <tr>\n      <td>41</td>\n      <td>bc5a4457-b2e4-4b69-18fd-08d693c126bf</td>\n      <td>SharePointFileOperation</td>\n      <td>2019-02-16 03:45:10</td>\n      <td>FileDownloaded</td>\n      <td>aa46238d-13fc-4314-8f0c-94044435adb1</td>\n      <td>Regular</td>\n      <td>i:0h.f|membership|100320003b5602fc@live.com</td>\n      <td>OneDrive</td>\n      <td></td>\n      <td>https://m365x054215-my.sharepoint.com/personal/ianh_m365x054215_onmicrosoft_com/Documents/Docume...</td>\n      <td>ianh@m365x054215.onmicrosoft.com</td>\n      <td>23.97.60.214</td>\n      <td>4f96a3b3-f5ae-4706-af77-7984baf27d79</td>\n      <td>File</td>\n      <td>SharePoint</td>\n      <td></td>\n      <td>OneDriveMpc/1.0</td>\n      <td></td>\n      <td></td>\n      <td>https://m365x054215-my.sharepoint.com/personal/ianh_m365x054215_onmicrosoft_com/</td>\n      <td>Documents/Documents/Massive</td>\n      <td>Massive Getting Started English.pdf</td>\n      <td>pdf</td>\n      <td></td>\n      <td></td>\n      <td>...</td>\n      <td>NaN</td>\n      <td></td>\n      <td></td>\n      <td></td>\n      <td></td>\n      <td></td>\n      <td></td>\n      <td></td>\n      <td></td>\n      <td></td>\n      <td>NaN</td>\n      <td>2019-02-16 03:57:58</td>\n      <td></td>\n      <td>2019-02-16 03:57:58</td>\n      <td></td>\n      <td>NaT</td>\n      <td></td>\n      <td></td>\n      <td>NaN</td>\n      <td></td>\n      <td>52b1ab41-869e-4138-9e40-2a4457f09bf0</td>\n      <td>aa46238d-13fc-4314-8f0c-94044435adb1</td>\n      <td>OfficeActivityManager</td>\n      <td>OfficeActivity</td>\n      <td>ianh@m365x054215.onmicrosoft.com</td>\n    </tr>\n    <tr>\n      <td>17</td>\n      <td>4cd008e7-98da-48a6-0545-08d693c126f4</td>\n      <td>SharePointFileOperation</td>\n      <td>2019-02-16 03:45:11</td>\n      <td>FileDownloaded</td>\n      <td>aa46238d-13fc-4314-8f0c-94044435adb1</td>\n      <td>Regular</td>\n      <td>i:0h.f|membership|100320003b5602fc@live.com</td>\n      <td>OneDrive</td>\n      <td></td>\n      <td>https://m365x054215-my.sharepoint.com/personal/ianh_m365x054215_onmicrosoft_com/Documents/Docume...</td>\n      <td>ianh@m365x054215.onmicrosoft.com</td>\n      <td>23.97.60.214</td>\n      <td>4f96a3b3-f5ae-4706-af77-7984baf27d79</td>\n      <td>File</td>\n      <td>SharePoint</td>\n      <td></td>\n      <td>OneDriveMpc/1.0</td>\n      <td></td>\n      <td></td>\n      <td>https://m365x054215-my.sharepoint.com/personal/ianh_m365x054215_onmicrosoft_com/</td>\n      <td>Documents/Documents/Massive</td>\n      <td>Massive Getting Started French.pdf</td>\n      <td>pdf</td>\n      <td></td>\n      <td></td>\n      <td>...</td>\n      <td>NaN</td>\n      <td></td>\n      <td></td>\n      <td></td>\n      <td></td>\n      <td></td>\n      <td></td>\n      <td></td>\n      <td></td>\n      <td></td>\n      <td>NaN</td>\n      <td>2019-02-16 03:57:58</td>\n      <td></td>\n      <td>2019-02-16 03:57:58</td>\n      <td></td>\n      <td>NaT</td>\n      <td></td>\n      <td></td>\n      <td>NaN</td>\n      <td></td>\n      <td>52b1ab41-869e-4138-9e40-2a4457f09bf0</td>\n      <td>aa46238d-13fc-4314-8f0c-94044435adb1</td>\n      <td>OfficeActivityManager</td>\n      <td>OfficeActivity</td>\n      <td>ianh@m365x054215.onmicrosoft.com</td>\n    </tr>\n    <tr>\n      <td>40</td>\n      <td>9a952e38-6fee-456e-4df6-08d693c12755</td>\n      <td>SharePointFileOperation</td>\n      <td>2019-02-16 03:45:11</td>\n      <td>FileDownloaded</td>\n      <td>aa46238d-13fc-4314-8f0c-94044435adb1</td>\n      <td>Regular</td>\n      <td>i:0h.f|membership|100320003b5602fc@live.com</td>\n      <td>OneDrive</td>\n      <td></td>\n      <td>https://m365x054215-my.sharepoint.com/personal/ianh_m365x054215_onmicrosoft_com/Documents/Docume...</td>\n      <td>ianh@m365x054215.onmicrosoft.com</td>\n      <td>23.97.60.214</td>\n      <td>4f96a3b3-f5ae-4706-af77-7984baf27d79</td>\n      <td>File</td>\n      <td>SharePoint</td>\n      <td></td>\n      <td>OneDriveMpc/1.0</td>\n      <td></td>\n      <td></td>\n      <td>https://m365x054215-my.sharepoint.com/personal/ianh_m365x054215_onmicrosoft_com/</td>\n      <td>Documents/Documents/Massive</td>\n      <td>Massive Getting Started German.pdf</td>\n      <td>pdf</td>\n      <td></td>\n      <td></td>\n      <td>...</td>\n      <td>NaN</td>\n      <td></td>\n      <td></td>\n      <td></td>\n      <td></td>\n      <td></td>\n      <td></td>\n      <td></td>\n      <td></td>\n      <td></td>\n      <td>NaN</td>\n      <td>2019-02-16 03:57:58</td>\n      <td></td>\n      <td>2019-02-16 03:57:58</td>\n      <td></td>\n      <td>NaT</td>\n      <td></td>\n      <td></td>\n      <td>NaN</td>\n      <td></td>\n      <td>52b1ab41-869e-4138-9e40-2a4457f09bf0</td>\n      <td>aa46238d-13fc-4314-8f0c-94044435adb1</td>\n      <td>OfficeActivityManager</td>\n      <td>OfficeActivity</td>\n      <td>ianh@m365x054215.onmicrosoft.com</td>\n    </tr>\n    <tr>\n      <td>16</td>\n      <td>80041b7a-a9ad-41ef-9a60-08d693c127ab</td>\n      <td>SharePointFileOperation</td>\n      <td>2019-02-16 03:45:12</td>\n      <td>FileDownloaded</td>\n      <td>aa46238d-13fc-4314-8f0c-94044435adb1</td>\n      <td>Regular</td>\n      <td>i:0h.f|membership|100320003b5602fc@live.com</td>\n      <td>OneDrive</td>\n      <td></td>\n      <td>https://m365x054215-my.sharepoint.com/personal/ianh_m365x054215_onmicrosoft_com/Documents/Docume...</td>\n      <td>ianh@m365x054215.onmicrosoft.com</td>\n      <td>23.97.60.214</td>\n      <td>4f96a3b3-f5ae-4706-af77-7984baf27d79</td>\n      <td>File</td>\n      <td>SharePoint</td>\n      <td></td>\n      <td>OneDriveMpc/1.0</td>\n      <td></td>\n      <td></td>\n      <td>https://m365x054215-my.sharepoint.com/personal/ianh_m365x054215_onmicrosoft_com/</td>\n      <td>Documents/Documents/Massive</td>\n      <td>Massive Getting Started Japanese.pdf</td>\n      <td>pdf</td>\n      <td></td>\n      <td></td>\n      <td>...</td>\n      <td>NaN</td>\n      <td></td>\n      <td></td>\n      <td></td>\n      <td></td>\n      <td></td>\n      <td></td>\n      <td></td>\n      <td></td>\n      <td></td>\n      <td>NaN</td>\n      <td>2019-02-16 03:57:58</td>\n      <td></td>\n      <td>2019-02-16 03:57:58</td>\n      <td></td>\n      <td>NaT</td>\n      <td></td>\n      <td></td>\n      <td>NaN</td>\n      <td></td>\n      <td>52b1ab41-869e-4138-9e40-2a4457f09bf0</td>\n      <td>aa46238d-13fc-4314-8f0c-94044435adb1</td>\n      <td>OfficeActivityManager</td>\n      <td>OfficeActivity</td>\n      <td>ianh@m365x054215.onmicrosoft.com</td>\n    </tr>\n    <tr>\n      <td>39</td>\n      <td>30576328-c871-4789-1fa2-08d693c12808</td>\n      <td>SharePointFileOperation</td>\n      <td>2019-02-16 03:45:12</td>\n      <td>FileDownloaded</td>\n      <td>aa46238d-13fc-4314-8f0c-94044435adb1</td>\n      <td>Regular</td>\n      <td>i:0h.f|membership|100320003b5602fc@live.com</td>\n      <td>OneDrive</td>\n      <td></td>\n      <td>https://m365x054215-my.sharepoint.com/personal/ianh_m365x054215_onmicrosoft_com/Documents/Docume...</td>\n      <td>ianh@m365x054215.onmicrosoft.com</td>\n      <td>23.97.60.214</td>\n      <td>4f96a3b3-f5ae-4706-af77-7984baf27d79</td>\n      <td>File</td>\n      <td>SharePoint</td>\n      <td></td>\n      <td>OneDriveMpc/1.0</td>\n      <td></td>\n      <td></td>\n      <td>https://m365x054215-my.sharepoint.com/personal/ianh_m365x054215_onmicrosoft_com/</td>\n      <td>Documents/Documents/Massive</td>\n      <td>Massive Getting Started Spanish.pdf</td>\n      <td>pdf</td>\n      <td></td>\n      <td></td>\n      <td>...</td>\n      <td>NaN</td>\n      <td></td>\n      <td></td>\n      <td></td>\n      <td></td>\n      <td></td>\n      <td></td>\n      <td></td>\n      <td></td>\n      <td></td>\n      <td>NaN</td>\n      <td>2019-02-16 03:57:58</td>\n      <td></td>\n      <td>2019-02-16 03:57:58</td>\n      <td></td>\n      <td>NaT</td>\n      <td></td>\n      <td></td>\n      <td>NaN</td>\n      <td></td>\n      <td>52b1ab41-869e-4138-9e40-2a4457f09bf0</td>\n      <td>aa46238d-13fc-4314-8f0c-94044435adb1</td>\n      <td>OfficeActivityManager</td>\n      <td>OfficeActivity</td>\n      <td>ianh@m365x054215.onmicrosoft.com</td>\n    </tr>\n    <tr>\n      <td>14</td>\n      <td>cb0ef8e9-fdb3-4429-b7f3-08d693c1288b</td>\n      <td>SharePointFileOperation</td>\n      <td>2019-02-16 03:45:13</td>\n      <td>FileDownloaded</td>\n      <td>aa46238d-13fc-4314-8f0c-94044435adb1</td>\n      <td>Regular</td>\n      <td>i:0h.f|membership|100320003b5602fc@live.com</td>\n      <td>OneDrive</td>\n      <td></td>\n      <td>https://m365x054215-my.sharepoint.com/personal/ianh_m365x054215_onmicrosoft_com/Documents/Docume...</td>\n      <td>ianh@m365x054215.onmicrosoft.com</td>\n      <td>23.97.60.214</td>\n      <td>4f96a3b3-f5ae-4706-af77-7984baf27d79</td>\n      <td>File</td>\n      <td>SharePoint</td>\n      <td></td>\n      <td>OneDriveMpc/1.0</td>\n      <td></td>\n      <td></td>\n      <td>https://m365x054215-my.sharepoint.com/personal/ianh_m365x054215_onmicrosoft_com/</td>\n      <td>Documents/Documents/Massive</td>\n      <td>Massive Manual Addendum German.pdf</td>\n      <td>pdf</td>\n      <td></td>\n      <td></td>\n      <td>...</td>\n      <td>NaN</td>\n      <td></td>\n      <td></td>\n      <td></td>\n      <td></td>\n      <td></td>\n      <td></td>\n      <td></td>\n      <td></td>\n      <td></td>\n      <td>NaN</td>\n      <td>2019-02-16 03:57:58</td>\n      <td></td>\n      <td>2019-02-16 03:57:58</td>\n      <td></td>\n      <td>NaT</td>\n      <td></td>\n      <td></td>\n      <td>NaN</td>\n      <td></td>\n      <td>52b1ab41-869e-4138-9e40-2a4457f09bf0</td>\n      <td>aa46238d-13fc-4314-8f0c-94044435adb1</td>\n      <td>OfficeActivityManager</td>\n      <td>OfficeActivity</td>\n      <td>ianh@m365x054215.onmicrosoft.com</td>\n    </tr>\n    <tr>\n      <td>15</td>\n      <td>3d86465e-01a0-4991-94a6-08d693c12846</td>\n      <td>SharePointFileOperation</td>\n      <td>2019-02-16 03:45:13</td>\n      <td>FileDownloaded</td>\n      <td>aa46238d-13fc-4314-8f0c-94044435adb1</td>\n      <td>Regular</td>\n      <td>i:0h.f|membership|100320003b5602fc@live.com</td>\n      <td>OneDrive</td>\n      <td></td>\n      <td>https://m365x054215-my.sharepoint.com/personal/ianh_m365x054215_onmicrosoft_com/Documents/Docume...</td>\n      <td>ianh@m365x054215.onmicrosoft.com</td>\n      <td>23.97.60.214</td>\n      <td>4f96a3b3-f5ae-4706-af77-7984baf27d79</td>\n      <td>File</td>\n      <td>SharePoint</td>\n      <td></td>\n      <td>OneDriveMpc/1.0</td>\n      <td></td>\n      <td></td>\n      <td>https://m365x054215-my.sharepoint.com/personal/ianh_m365x054215_onmicrosoft_com/</td>\n      <td>Documents/Documents/Massive</td>\n      <td>Massive Manual Addendum English.pdf</td>\n      <td>pdf</td>\n      <td></td>\n      <td></td>\n      <td>...</td>\n      <td>NaN</td>\n      <td></td>\n      <td></td>\n      <td></td>\n      <td></td>\n      <td></td>\n      <td></td>\n      <td></td>\n      <td></td>\n      <td></td>\n      <td>NaN</td>\n      <td>2019-02-16 03:57:58</td>\n      <td></td>\n      <td>2019-02-16 03:57:58</td>\n      <td></td>\n      <td>NaT</td>\n      <td></td>\n      <td></td>\n      <td>NaN</td>\n      <td></td>\n      <td>52b1ab41-869e-4138-9e40-2a4457f09bf0</td>\n      <td>aa46238d-13fc-4314-8f0c-94044435adb1</td>\n      <td>OfficeActivityManager</td>\n      <td>OfficeActivity</td>\n      <td>ianh@m365x054215.onmicrosoft.com</td>\n    </tr>\n    <tr>\n      <td>38</td>\n      <td>30dff6e4-2199-439a-a544-08d693c1286e</td>\n      <td>SharePointFileOperation</td>\n      <td>2019-02-16 03:45:13</td>\n      <td>FileDownloaded</td>\n      <td>aa46238d-13fc-4314-8f0c-94044435adb1</td>\n      <td>Regular</td>\n      <td>i:0h.f|membership|100320003b5602fc@live.com</td>\n      <td>OneDrive</td>\n      <td></td>\n      <td>https://m365x054215-my.sharepoint.com/personal/ianh_m365x054215_onmicrosoft_com/Documents/Docume...</td>\n      <td>ianh@m365x054215.onmicrosoft.com</td>\n      <td>23.97.60.214</td>\n      <td>4f96a3b3-f5ae-4706-af77-7984baf27d79</td>\n      <td>File</td>\n      <td>SharePoint</td>\n      <td></td>\n      <td>OneDriveMpc/1.0</td>\n      <td></td>\n      <td></td>\n      <td>https://m365x054215-my.sharepoint.com/personal/ianh_m365x054215_onmicrosoft_com/</td>\n      <td>Documents/Documents/Massive</td>\n      <td>Massive Manual Addendum French.pdf</td>\n      <td>pdf</td>\n      <td></td>\n      <td></td>\n      <td>...</td>\n      <td>NaN</td>\n      <td></td>\n      <td></td>\n      <td></td>\n      <td></td>\n      <td></td>\n      <td></td>\n      <td></td>\n      <td></td>\n      <td></td>\n      <td>NaN</td>\n      <td>2019-02-16 03:57:58</td>\n      <td></td>\n      <td>2019-02-16 03:57:58</td>\n      <td></td>\n      <td>NaT</td>\n      <td></td>\n      <td></td>\n      <td>NaN</td>\n      <td></td>\n      <td>52b1ab41-869e-4138-9e40-2a4457f09bf0</td>\n      <td>aa46238d-13fc-4314-8f0c-94044435adb1</td>\n      <td>OfficeActivityManager</td>\n      <td>OfficeActivity</td>\n      <td>ianh@m365x054215.onmicrosoft.com</td>\n    </tr>\n    <tr>\n      <td>13</td>\n      <td>31adfd42-cf87-44f0-f084-08d693c128c4</td>\n      <td>SharePointFileOperation</td>\n      <td>2019-02-16 03:45:14</td>\n      <td>FileDownloaded</td>\n      <td>aa46238d-13fc-4314-8f0c-94044435adb1</td>\n      <td>Regular</td>\n      <td>i:0h.f|membership|100320003b5602fc@live.com</td>\n      <td>OneDrive</td>\n      <td></td>\n      <td>https://m365x054215-my.sharepoint.com/personal/ianh_m365x054215_onmicrosoft_com/Documents/Docume...</td>\n      <td>ianh@m365x054215.onmicrosoft.com</td>\n      <td>23.97.60.214</td>\n      <td>4f96a3b3-f5ae-4706-af77-7984baf27d79</td>\n      <td>File</td>\n      <td>SharePoint</td>\n      <td></td>\n      <td>OneDriveMpc/1.0</td>\n      <td></td>\n      <td></td>\n      <td>https://m365x054215-my.sharepoint.com/personal/ianh_m365x054215_onmicrosoft_com/</td>\n      <td>Documents/Documents/Massive</td>\n      <td>Massive Manual Addendum Spanish.pdf</td>\n      <td>pdf</td>\n      <td></td>\n      <td></td>\n      <td>...</td>\n      <td>NaN</td>\n      <td></td>\n      <td></td>\n      <td></td>\n      <td></td>\n      <td></td>\n      <td></td>\n      <td></td>\n      <td></td>\n      <td></td>\n      <td>NaN</td>\n      <td>2019-02-16 03:57:58</td>\n      <td></td>\n      <td>2019-02-16 03:57:58</td>\n      <td></td>\n      <td>NaT</td>\n      <td></td>\n      <td></td>\n      <td>NaN</td>\n      <td></td>\n      <td>52b1ab41-869e-4138-9e40-2a4457f09bf0</td>\n      <td>aa46238d-13fc-4314-8f0c-94044435adb1</td>\n      <td>OfficeActivityManager</td>\n      <td>OfficeActivity</td>\n      <td>ianh@m365x054215.onmicrosoft.com</td>\n    </tr>\n    <tr>\n      <td>37</td>\n      <td>7197f34b-8f0c-4ad5-f037-08d693c128ba</td>\n      <td>SharePointFileOperation</td>\n      <td>2019-02-16 03:45:14</td>\n      <td>FileDownloaded</td>\n      <td>aa46238d-13fc-4314-8f0c-94044435adb1</td>\n      <td>Regular</td>\n      <td>i:0h.f|membership|100320003b5602fc@live.com</td>\n      <td>OneDrive</td>\n      <td></td>\n      <td>https://m365x054215-my.sharepoint.com/personal/ianh_m365x054215_onmicrosoft_com/Documents/Docume...</td>\n      <td>ianh@m365x054215.onmicrosoft.com</td>\n      <td>23.97.60.214</td>\n      <td>4f96a3b3-f5ae-4706-af77-7984baf27d79</td>\n      <td>File</td>\n      <td>SharePoint</td>\n      <td></td>\n      <td>OneDriveMpc/1.0</td>\n      <td></td>\n      <td></td>\n      <td>https://m365x054215-my.sharepoint.com/personal/ianh_m365x054215_onmicrosoft_com/</td>\n      <td>Documents/Documents/Massive</td>\n      <td>Massive Manual Addendum Japanese.pdf</td>\n      <td>pdf</td>\n      <td></td>\n      <td></td>\n      <td>...</td>\n      <td>NaN</td>\n      <td></td>\n      <td></td>\n      <td></td>\n      <td></td>\n      <td></td>\n      <td></td>\n      <td></td>\n      <td></td>\n      <td></td>\n      <td>NaN</td>\n      <td>2019-02-16 03:57:58</td>\n      <td></td>\n      <td>2019-02-16 03:57:58</td>\n      <td></td>\n      <td>NaT</td>\n      <td></td>\n      <td></td>\n      <td>NaN</td>\n      <td></td>\n      <td>52b1ab41-869e-4138-9e40-2a4457f09bf0</td>\n      <td>aa46238d-13fc-4314-8f0c-94044435adb1</td>\n      <td>OfficeActivityManager</td>\n      <td>OfficeActivity</td>\n      <td>ianh@m365x054215.onmicrosoft.com</td>\n    </tr>\n    <tr>\n      <td>36</td>\n      <td>5a7fb393-eb78-4534-2705-08d693c12913</td>\n      <td>SharePointFileOperation</td>\n      <td>2019-02-16 03:45:14</td>\n      <td>FileDownloaded</td>\n      <td>aa46238d-13fc-4314-8f0c-94044435adb1</td>\n      <td>Regular</td>\n      <td>i:0h.f|membership|100320003b5602fc@live.com</td>\n      <td>OneDrive</td>\n      <td></td>\n      <td>https://m365x054215-my.sharepoint.com/personal/ianh_m365x054215_onmicrosoft_com/Documents/Docume...</td>\n      <td>ianh@m365x054215.onmicrosoft.com</td>\n      <td>23.97.60.214</td>\n      <td>4f96a3b3-f5ae-4706-af77-7984baf27d79</td>\n      <td>File</td>\n      <td>SharePoint</td>\n      <td></td>\n      <td>OneDriveMpc/1.0</td>\n      <td></td>\n      <td></td>\n      <td>https://m365x054215-my.sharepoint.com/personal/ianh_m365x054215_onmicrosoft_com/</td>\n      <td>Documents/Documents/Massive</td>\n      <td>Massive Manual English.pdf</td>\n      <td>pdf</td>\n      <td></td>\n      <td></td>\n      <td>...</td>\n      <td>NaN</td>\n      <td></td>\n      <td></td>\n      <td></td>\n      <td></td>\n      <td></td>\n      <td></td>\n      <td></td>\n      <td></td>\n      <td></td>\n      <td>NaN</td>\n      <td>2019-02-16 03:57:58</td>\n      <td></td>\n      <td>2019-02-16 03:57:58</td>\n      <td></td>\n      <td>NaT</td>\n      <td></td>\n      <td></td>\n      <td>NaN</td>\n      <td></td>\n      <td>52b1ab41-869e-4138-9e40-2a4457f09bf0</td>\n      <td>aa46238d-13fc-4314-8f0c-94044435adb1</td>\n      <td>OfficeActivityManager</td>\n      <td>OfficeActivity</td>\n      <td>ianh@m365x054215.onmicrosoft.com</td>\n    </tr>\n    <tr>\n      <td>12</td>\n      <td>7a80f900-5593-4103-4906-08d693c129a0</td>\n      <td>SharePointFileOperation</td>\n      <td>2019-02-16 03:45:15</td>\n      <td>FileDownloaded</td>\n      <td>aa46238d-13fc-4314-8f0c-94044435adb1</td>\n      <td>Regular</td>\n      <td>i:0h.f|membership|100320003b5602fc@live.com</td>\n      <td>OneDrive</td>\n      <td></td>\n      <td>https://m365x054215-my.sharepoint.com/personal/ianh_m365x054215_onmicrosoft_com/Documents/Docume...</td>\n      <td>ianh@m365x054215.onmicrosoft.com</td>\n      <td>23.97.60.214</td>\n      <td>4f96a3b3-f5ae-4706-af77-7984baf27d79</td>\n      <td>File</td>\n      <td>SharePoint</td>\n      <td></td>\n      <td>OneDriveMpc/1.0</td>\n      <td></td>\n      <td></td>\n      <td>https://m365x054215-my.sharepoint.com/personal/ianh_m365x054215_onmicrosoft_com/</td>\n      <td>Documents/Documents/Massive</td>\n      <td>Massive Manual French.pdf</td>\n      <td>pdf</td>\n      <td></td>\n      <td></td>\n      <td>...</td>\n      <td>NaN</td>\n      <td></td>\n      <td></td>\n      <td></td>\n      <td></td>\n      <td></td>\n      <td></td>\n      <td></td>\n      <td></td>\n      <td></td>\n      <td>NaN</td>\n      <td>2019-02-16 03:57:58</td>\n      <td></td>\n      <td>2019-02-16 03:57:58</td>\n      <td></td>\n      <td>NaT</td>\n      <td></td>\n      <td></td>\n      <td>NaN</td>\n      <td></td>\n      <td>52b1ab41-869e-4138-9e40-2a4457f09bf0</td>\n      <td>aa46238d-13fc-4314-8f0c-94044435adb1</td>\n      <td>OfficeActivityManager</td>\n      <td>OfficeActivity</td>\n      <td>ianh@m365x054215.onmicrosoft.com</td>\n    </tr>\n    <tr>\n      <td>35</td>\n      <td>f8b2d971-651c-44d6-18b5-08d693c12a49</td>\n      <td>SharePointFileOperation</td>\n      <td>2019-02-16 03:45:16</td>\n      <td>FileDownloaded</td>\n      <td>aa46238d-13fc-4314-8f0c-94044435adb1</td>\n      <td>Regular</td>\n      <td>i:0h.f|membership|100320003b5602fc@live.com</td>\n      <td>OneDrive</td>\n      <td></td>\n      <td>https://m365x054215-my.sharepoint.com/personal/ianh_m365x054215_onmicrosoft_com/Documents/Docume...</td>\n      <td>ianh@m365x054215.onmicrosoft.com</td>\n      <td>23.97.60.214</td>\n      <td>4f96a3b3-f5ae-4706-af77-7984baf27d79</td>\n      <td>File</td>\n      <td>SharePoint</td>\n      <td></td>\n      <td>OneDriveMpc/1.0</td>\n      <td></td>\n      <td></td>\n      <td>https://m365x054215-my.sharepoint.com/personal/ianh_m365x054215_onmicrosoft_com/</td>\n      <td>Documents/Documents/Massive</td>\n      <td>Massive Manual German.pdf</td>\n      <td>pdf</td>\n      <td></td>\n      <td></td>\n      <td>...</td>\n      <td>NaN</td>\n      <td></td>\n      <td></td>\n      <td></td>\n      <td></td>\n      <td></td>\n      <td></td>\n      <td></td>\n      <td></td>\n      <td></td>\n      <td>NaN</td>\n      <td>2019-02-16 03:57:58</td>\n      <td></td>\n      <td>2019-02-16 03:57:58</td>\n      <td></td>\n      <td>NaT</td>\n      <td></td>\n      <td></td>\n      <td>NaN</td>\n      <td></td>\n      <td>52b1ab41-869e-4138-9e40-2a4457f09bf0</td>\n      <td>aa46238d-13fc-4314-8f0c-94044435adb1</td>\n      <td>OfficeActivityManager</td>\n      <td>OfficeActivity</td>\n      <td>ianh@m365x054215.onmicrosoft.com</td>\n    </tr>\n    <tr>\n      <td>11</td>\n      <td>769079c4-81b9-4836-76b2-08d693c12ad1</td>\n      <td>SharePointFileOperation</td>\n      <td>2019-02-16 03:45:17</td>\n      <td>FileDownloaded</td>\n      <td>aa46238d-13fc-4314-8f0c-94044435adb1</td>\n      <td>Regular</td>\n      <td>i:0h.f|membership|100320003b5602fc@live.com</td>\n      <td>OneDrive</td>\n      <td></td>\n      <td>https://m365x054215-my.sharepoint.com/personal/ianh_m365x054215_onmicrosoft_com/Documents/Docume...</td>\n      <td>ianh@m365x054215.onmicrosoft.com</td>\n      <td>23.97.60.214</td>\n      <td>4f96a3b3-f5ae-4706-af77-7984baf27d79</td>\n      <td>File</td>\n      <td>SharePoint</td>\n      <td></td>\n      <td>OneDriveMpc/1.0</td>\n      <td></td>\n      <td></td>\n      <td>https://m365x054215-my.sharepoint.com/personal/ianh_m365x054215_onmicrosoft_com/</td>\n      <td>Documents/Documents/Massive</td>\n      <td>Massive Manual Japanese.pdf</td>\n      <td>pdf</td>\n      <td></td>\n      <td></td>\n      <td>...</td>\n      <td>NaN</td>\n      <td></td>\n      <td></td>\n      <td></td>\n      <td></td>\n      <td></td>\n      <td></td>\n      <td></td>\n      <td></td>\n      <td></td>\n      <td>NaN</td>\n      <td>2019-02-16 03:57:58</td>\n      <td></td>\n      <td>2019-02-16 03:57:58</td>\n      <td></td>\n      <td>NaT</td>\n      <td></td>\n      <td></td>\n      <td>NaN</td>\n      <td></td>\n      <td>52b1ab41-869e-4138-9e40-2a4457f09bf0</td>\n      <td>aa46238d-13fc-4314-8f0c-94044435adb1</td>\n      <td>OfficeActivityManager</td>\n      <td>OfficeActivity</td>\n      <td>ianh@m365x054215.onmicrosoft.com</td>\n    </tr>\n    <tr>\n      <td>34</td>\n      <td>fa6f2bac-4628-452d-e48e-08d693c12b1a</td>\n      <td>SharePointFileOperation</td>\n      <td>2019-02-16 03:45:18</td>\n      <td>FileDownloaded</td>\n      <td>aa46238d-13fc-4314-8f0c-94044435adb1</td>\n      <td>Regular</td>\n      <td>i:0h.f|membership|100320003b5602fc@live.com</td>\n      <td>OneDrive</td>\n      <td></td>\n      <td>https://m365x054215-my.sharepoint.com/personal/ianh_m365x054215_onmicrosoft_com/Documents/Docume...</td>\n      <td>ianh@m365x054215.onmicrosoft.com</td>\n      <td>23.97.60.214</td>\n      <td>4f96a3b3-f5ae-4706-af77-7984baf27d79</td>\n      <td>File</td>\n      <td>SharePoint</td>\n      <td></td>\n      <td>OneDriveMpc/1.0</td>\n      <td></td>\n      <td></td>\n      <td>https://m365x054215-my.sharepoint.com/personal/ianh_m365x054215_onmicrosoft_com/</td>\n      <td>Documents/Documents/Massive</td>\n      <td>Massive Manual Japanese.pdf</td>\n      <td>pdf</td>\n      <td></td>\n      <td></td>\n      <td>...</td>\n      <td>NaN</td>\n      <td></td>\n      <td></td>\n      <td></td>\n      <td></td>\n      <td></td>\n      <td></td>\n      <td></td>\n      <td></td>\n      <td></td>\n      <td>NaN</td>\n      <td>2019-02-16 03:57:58</td>\n      <td></td>\n      <td>2019-02-16 03:57:58</td>\n      <td></td>\n      <td>NaT</td>\n      <td></td>\n      <td></td>\n      <td>NaN</td>\n      <td></td>\n      <td>52b1ab41-869e-4138-9e40-2a4457f09bf0</td>\n      <td>aa46238d-13fc-4314-8f0c-94044435adb1</td>\n      <td>OfficeActivityManager</td>\n      <td>OfficeActivity</td>\n      <td>ianh@m365x054215.onmicrosoft.com</td>\n    </tr>\n    <tr>\n      <td>3</td>\n      <td>8e4239eb-d72b-4d33-2ca2-08d693c12b16</td>\n      <td>SharePointFileOperation</td>\n      <td>2019-02-16 03:45:18</td>\n      <td>FileDownloaded</td>\n      <td>aa46238d-13fc-4314-8f0c-94044435adb1</td>\n      <td>Regular</td>\n      <td>i:0h.f|membership|100320003b5602fc@live.com</td>\n      <td>OneDrive</td>\n      <td></td>\n      <td>https://m365x054215-my.sharepoint.com/personal/ianh_m365x054215_onmicrosoft_com/Documents/Docume...</td>\n      <td>ianh@m365x054215.onmicrosoft.com</td>\n      <td>23.97.60.214</td>\n      <td>4f96a3b3-f5ae-4706-af77-7984baf27d79</td>\n      <td>File</td>\n      <td>SharePoint</td>\n      <td></td>\n      <td>OneDriveMpc/1.0</td>\n      <td></td>\n      <td></td>\n      <td>https://m365x054215-my.sharepoint.com/personal/ianh_m365x054215_onmicrosoft_com/</td>\n      <td>Documents/Documents/Massive</td>\n      <td>Massive Manual Japanese.pdf</td>\n      <td>pdf</td>\n      <td></td>\n      <td></td>\n      <td>...</td>\n      <td>NaN</td>\n      <td></td>\n      <td></td>\n      <td></td>\n      <td></td>\n      <td></td>\n      <td></td>\n      <td></td>\n      <td></td>\n      <td></td>\n      <td>NaN</td>\n      <td>2019-02-16 03:57:58</td>\n      <td></td>\n      <td>2019-02-16 03:57:58</td>\n      <td></td>\n      <td>NaT</td>\n      <td></td>\n      <td></td>\n      <td>NaN</td>\n      <td></td>\n      <td>52b1ab41-869e-4138-9e40-2a4457f09bf0</td>\n      <td>aa46238d-13fc-4314-8f0c-94044435adb1</td>\n      <td>OfficeActivityManager</td>\n      <td>OfficeActivity</td>\n      <td>ianh@m365x054215.onmicrosoft.com</td>\n    </tr>\n    <tr>\n      <td>10</td>\n      <td>25c2f107-0a63-4734-e0d6-08d693c12bde</td>\n      <td>SharePointFileOperation</td>\n      <td>2019-02-16 03:45:19</td>\n      <td>FileDownloaded</td>\n      <td>aa46238d-13fc-4314-8f0c-94044435adb1</td>\n      <td>Regular</td>\n      <td>i:0h.f|membership|100320003b5602fc@live.com</td>\n      <td>OneDrive</td>\n      <td></td>\n      <td>https://m365x054215-my.sharepoint.com/personal/ianh_m365x054215_onmicrosoft_com/Documents/Docume...</td>\n      <td>ianh@m365x054215.onmicrosoft.com</td>\n      <td>23.97.60.214</td>\n      <td>4f96a3b3-f5ae-4706-af77-7984baf27d79</td>\n      <td>File</td>\n      <td>SharePoint</td>\n      <td></td>\n      <td>OneDriveMpc/1.0</td>\n      <td></td>\n      <td></td>\n      <td>https://m365x054215-my.sharepoint.com/personal/ianh_m365x054215_onmicrosoft_com/</td>\n      <td>Documents/Documents/Massive</td>\n      <td>Massive Manual Spanish.pdf</td>\n      <td>pdf</td>\n      <td></td>\n      <td></td>\n      <td>...</td>\n      <td>NaN</td>\n      <td></td>\n      <td></td>\n      <td></td>\n      <td></td>\n      <td></td>\n      <td></td>\n      <td></td>\n      <td></td>\n      <td></td>\n      <td>NaN</td>\n      <td>2019-02-16 03:57:58</td>\n      <td></td>\n      <td>2019-02-16 03:57:58</td>\n      <td></td>\n      <td>NaT</td>\n      <td></td>\n      <td></td>\n      <td>NaN</td>\n      <td></td>\n      <td>52b1ab41-869e-4138-9e40-2a4457f09bf0</td>\n      <td>aa46238d-13fc-4314-8f0c-94044435adb1</td>\n      <td>OfficeActivityManager</td>\n      <td>OfficeActivity</td>\n      <td>ianh@m365x054215.onmicrosoft.com</td>\n    </tr>\n    <tr>\n      <td>33</td>\n      <td>d5282c43-9c29-4e5f-71e8-08d693c12c6d</td>\n      <td>SharePointFileOperation</td>\n      <td>2019-02-16 03:45:20</td>\n      <td>FileDownloaded</td>\n      <td>aa46238d-13fc-4314-8f0c-94044435adb1</td>\n      <td>Regular</td>\n      <td>i:0h.f|membership|100320003b5602fc@live.com</td>\n      <td>OneDrive</td>\n      <td></td>\n      <td>https://m365x054215-my.sharepoint.com/personal/ianh_m365x054215_onmicrosoft_com/Documents/Docume...</td>\n      <td>ianh@m365x054215.onmicrosoft.com</td>\n      <td>23.97.60.214</td>\n      <td>4f96a3b3-f5ae-4706-af77-7984baf27d79</td>\n      <td>File</td>\n      <td>SharePoint</td>\n      <td></td>\n      <td>OneDriveMpc/1.0</td>\n      <td></td>\n      <td></td>\n      <td>https://m365x054215-my.sharepoint.com/personal/ianh_m365x054215_onmicrosoft_com/</td>\n      <td>Documents/Documents/Massive</td>\n      <td>Readme.txt</td>\n      <td>txt</td>\n      <td></td>\n      <td></td>\n      <td>...</td>\n      <td>NaN</td>\n      <td></td>\n      <td></td>\n      <td></td>\n      <td></td>\n      <td></td>\n      <td></td>\n      <td></td>\n      <td></td>\n      <td></td>\n      <td>NaN</td>\n      <td>2019-02-16 03:57:58</td>\n      <td></td>\n      <td>2019-02-16 03:57:58</td>\n      <td></td>\n      <td>NaT</td>\n      <td></td>\n      <td></td>\n      <td>NaN</td>\n      <td></td>\n      <td>52b1ab41-869e-4138-9e40-2a4457f09bf0</td>\n      <td>aa46238d-13fc-4314-8f0c-94044435adb1</td>\n      <td>OfficeActivityManager</td>\n      <td>OfficeActivity</td>\n      <td>ianh@m365x054215.onmicrosoft.com</td>\n    </tr>\n    <tr>\n      <td>9</td>\n      <td>3d6e67d1-d61f-4db0-772d-08d693c12c96</td>\n      <td>SharePointFileOperation</td>\n      <td>2019-02-16 03:45:20</td>\n      <td>FileDownloaded</td>\n      <td>aa46238d-13fc-4314-8f0c-94044435adb1</td>\n      <td>Regular</td>\n      <td>i:0h.f|membership|100320003b5602fc@live.com</td>\n      <td>OneDrive</td>\n      <td></td>\n      <td>https://m365x054215-my.sharepoint.com/personal/ianh_m365x054215_onmicrosoft_com/Documents/Docume...</td>\n      <td>ianh@m365x054215.onmicrosoft.com</td>\n      <td>23.97.60.214</td>\n      <td>4f96a3b3-f5ae-4706-af77-7984baf27d79</td>\n      <td>File</td>\n      <td>SharePoint</td>\n      <td></td>\n      <td>OneDriveMpc/1.0</td>\n      <td></td>\n      <td></td>\n      <td>https://m365x054215-my.sharepoint.com/personal/ianh_m365x054215_onmicrosoft_com/</td>\n      <td>Documents</td>\n      <td>Document.docx</td>\n      <td>docx</td>\n      <td></td>\n      <td></td>\n      <td>...</td>\n      <td>NaN</td>\n      <td></td>\n      <td></td>\n      <td></td>\n      <td></td>\n      <td></td>\n      <td></td>\n      <td></td>\n      <td></td>\n      <td></td>\n      <td>NaN</td>\n      <td>2019-02-16 03:57:58</td>\n      <td></td>\n      <td>2019-02-16 03:57:58</td>\n      <td></td>\n      <td>NaT</td>\n      <td></td>\n      <td></td>\n      <td>NaN</td>\n      <td></td>\n      <td>52b1ab41-869e-4138-9e40-2a4457f09bf0</td>\n      <td>aa46238d-13fc-4314-8f0c-94044435adb1</td>\n      <td>OfficeActivityManager</td>\n      <td>OfficeActivity</td>\n      <td>ianh@m365x054215.onmicrosoft.com</td>\n    </tr>\n    <tr>\n      <td>8</td>\n      <td>75d9efdb-8c13-4c4a-734c-08d693c12cd4</td>\n      <td>SharePointFileOperation</td>\n      <td>2019-02-16 03:45:20</td>\n      <td>FileDownloaded</td>\n      <td>aa46238d-13fc-4314-8f0c-94044435adb1</td>\n      <td>Regular</td>\n      <td>i:0h.f|membership|100320003b5602fc@live.com</td>\n      <td>OneDrive</td>\n      <td></td>\n      <td>https://m365x054215-my.sharepoint.com/personal/ianh_m365x054215_onmicrosoft_com/Documents/Terms ...</td>\n      <td>ianh@m365x054215.onmicrosoft.com</td>\n      <td>23.97.60.214</td>\n      <td>4f96a3b3-f5ae-4706-af77-7984baf27d79</td>\n      <td>File</td>\n      <td>SharePoint</td>\n      <td></td>\n      <td>OneDriveMpc/1.0</td>\n      <td></td>\n      <td></td>\n      <td>https://m365x054215-my.sharepoint.com/personal/ianh_m365x054215_onmicrosoft_com/</td>\n      <td>Documents</td>\n      <td>Terms and Conditions.docx</td>\n      <td>docx</td>\n      <td></td>\n      <td></td>\n      <td>...</td>\n      <td>NaN</td>\n      <td></td>\n      <td></td>\n      <td></td>\n      <td></td>\n      <td></td>\n      <td></td>\n      <td></td>\n      <td></td>\n      <td></td>\n      <td>NaN</td>\n      <td>2019-02-16 03:57:58</td>\n      <td></td>\n      <td>2019-02-16 03:57:58</td>\n      <td></td>\n      <td>NaT</td>\n      <td></td>\n      <td></td>\n      <td>NaN</td>\n      <td></td>\n      <td>52b1ab41-869e-4138-9e40-2a4457f09bf0</td>\n      <td>aa46238d-13fc-4314-8f0c-94044435adb1</td>\n      <td>OfficeActivityManager</td>\n      <td>OfficeActivity</td>\n      <td>ianh@m365x054215.onmicrosoft.com</td>\n    </tr>\n    <tr>\n      <td>2</td>\n      <td>464fb121-5147-4b1a-f34a-08d693c12c82</td>\n      <td>SharePointFileOperation</td>\n      <td>2019-02-16 03:45:20</td>\n      <td>FileDownloaded</td>\n      <td>aa46238d-13fc-4314-8f0c-94044435adb1</td>\n      <td>Regular</td>\n      <td>i:0h.f|membership|100320003b5602fc@live.com</td>\n      <td>OneDrive</td>\n      <td></td>\n      <td>https://m365x054215-my.sharepoint.com/personal/ianh_m365x054215_onmicrosoft_com/Documents/Budget...</td>\n      <td>ianh@m365x054215.onmicrosoft.com</td>\n      <td>23.97.60.214</td>\n      <td>4f96a3b3-f5ae-4706-af77-7984baf27d79</td>\n      <td>File</td>\n      <td>SharePoint</td>\n      <td></td>\n      <td>OneDriveMpc/1.0</td>\n      <td></td>\n      <td></td>\n      <td>https://m365x054215-my.sharepoint.com/personal/ianh_m365x054215_onmicrosoft_com/</td>\n      <td>Documents</td>\n      <td>Budget 2019.xlsx</td>\n      <td>xlsx</td>\n      <td></td>\n      <td></td>\n      <td>...</td>\n      <td>NaN</td>\n      <td></td>\n      <td></td>\n      <td></td>\n      <td></td>\n      <td></td>\n      <td></td>\n      <td></td>\n      <td></td>\n      <td></td>\n      <td>NaN</td>\n      <td>2019-02-16 03:57:58</td>\n      <td></td>\n      <td>2019-02-16 03:57:58</td>\n      <td></td>\n      <td>NaT</td>\n      <td></td>\n      <td></td>\n      <td>NaN</td>\n      <td></td>\n      <td>52b1ab41-869e-4138-9e40-2a4457f09bf0</td>\n      <td>aa46238d-13fc-4314-8f0c-94044435adb1</td>\n      <td>OfficeActivityManager</td>\n      <td>OfficeActivity</td>\n      <td>ianh@m365x054215.onmicrosoft.com</td>\n    </tr>\n    <tr>\n      <td>32</td>\n      <td>c4d63cf4-c616-41cd-bcdc-08d693c12cb9</td>\n      <td>SharePointFileOperation</td>\n      <td>2019-02-16 03:45:20</td>\n      <td>FileDownloaded</td>\n      <td>aa46238d-13fc-4314-8f0c-94044435adb1</td>\n      <td>Regular</td>\n      <td>i:0h.f|membership|100320003b5602fc@live.com</td>\n      <td>OneDrive</td>\n      <td></td>\n      <td>https://m365x054215-my.sharepoint.com/personal/ianh_m365x054215_onmicrosoft_com/Documents/Docume...</td>\n      <td>ianh@m365x054215.onmicrosoft.com</td>\n      <td>23.97.60.214</td>\n      <td>4f96a3b3-f5ae-4706-af77-7984baf27d79</td>\n      <td>File</td>\n      <td>SharePoint</td>\n      <td></td>\n      <td>OneDriveMpc/1.0</td>\n      <td></td>\n      <td></td>\n      <td>https://m365x054215-my.sharepoint.com/personal/ianh_m365x054215_onmicrosoft_com/</td>\n      <td>Documents</td>\n      <td>Document1.docx</td>\n      <td>docx</td>\n      <td></td>\n      <td></td>\n      <td>...</td>\n      <td>NaN</td>\n      <td></td>\n      <td></td>\n      <td></td>\n      <td></td>\n      <td></td>\n      <td></td>\n      <td></td>\n      <td></td>\n      <td></td>\n      <td>NaN</td>\n      <td>2019-02-16 03:57:58</td>\n      <td></td>\n      <td>2019-02-16 03:57:58</td>\n      <td></td>\n      <td>NaT</td>\n      <td></td>\n      <td></td>\n      <td>NaN</td>\n      <td></td>\n      <td>52b1ab41-869e-4138-9e40-2a4457f09bf0</td>\n      <td>aa46238d-13fc-4314-8f0c-94044435adb1</td>\n      <td>OfficeActivityManager</td>\n      <td>OfficeActivity</td>\n      <td>ianh@m365x054215.onmicrosoft.com</td>\n    </tr>\n    <tr>\n      <td>1</td>\n      <td>2f2a649f-51f1-4734-52d7-08d693c12cc3</td>\n      <td>SharePointFileOperation</td>\n      <td>2019-02-16 03:45:20</td>\n      <td>FileDownloaded</td>\n      <td>aa46238d-13fc-4314-8f0c-94044435adb1</td>\n      <td>Regular</td>\n      <td>i:0h.f|membership|100320003b5602fc@live.com</td>\n      <td>OneDrive</td>\n      <td></td>\n      <td>https://m365x054215-my.sharepoint.com/personal/ianh_m365x054215_onmicrosoft_com/Documents/Extend...</td>\n      <td>ianh@m365x054215.onmicrosoft.com</td>\n      <td>23.97.60.214</td>\n      <td>4f96a3b3-f5ae-4706-af77-7984baf27d79</td>\n      <td>File</td>\n      <td>SharePoint</td>\n      <td></td>\n      <td>OneDriveMpc/1.0</td>\n      <td></td>\n      <td></td>\n      <td>https://m365x054215-my.sharepoint.com/personal/ianh_m365x054215_onmicrosoft_com/</td>\n      <td>Documents</td>\n      <td>Extended Terms.docx</td>\n      <td>docx</td>\n      <td></td>\n      <td></td>\n      <td>...</td>\n      <td>NaN</td>\n      <td></td>\n      <td></td>\n      <td></td>\n      <td></td>\n      <td></td>\n      <td></td>\n      <td></td>\n      <td></td>\n      <td></td>\n      <td>NaN</td>\n      <td>2019-02-16 03:57:58</td>\n      <td></td>\n      <td>2019-02-16 03:57:58</td>\n      <td></td>\n      <td>NaT</td>\n      <td></td>\n      <td></td>\n      <td>NaN</td>\n      <td></td>\n      <td>52b1ab41-869e-4138-9e40-2a4457f09bf0</td>\n      <td>aa46238d-13fc-4314-8f0c-94044435adb1</td>\n      <td>OfficeActivityManager</td>\n      <td>OfficeActivity</td>\n      <td>ianh@m365x054215.onmicrosoft.com</td>\n    </tr>\n  </tbody>\n</table>\n<p>86 rows × 92 columns</p>\n</div>",
                    "text/plain": "                                 OfficeId                    RecordType  \\\n90   1827a799-9b5f-4082-b7c2-08d693b9fec0       SharePointFileOperation   \n89   ea0dfabe-6ca3-4844-3dd4-08d693ba08e5       SharePointFileOperation   \n91   935acd8c-d863-42ca-e4a0-08d693ba0dc0       SharePointFileOperation   \n84   5a043c42-2b3d-45ac-f185-08d693ba204e       SharePointFileOperation   \n88   648e58df-14f2-49f2-bd80-08d693ba2400       SharePointFileOperation   \n85   ae7d7ace-8fe1-4312-b264-08d693ba247e       SharePointFileOperation   \n87   c2019e59-aba1-4b2a-682d-08d693ba2633       SharePointFileOperation   \n80   36e891b6-7414-46dc-e76f-08d693ba639f                    SharePoint   \n83   18c68639-c938-46de-6e0d-08d693ba6694       SharePointFileOperation   \n82   24133802-d613-4792-d05b-08d693ba6696       SharePointFileOperation   \n81   72db453b-1b99-4d37-3292-08d693ba6699       SharePointFileOperation   \n86   c82f7b30-c6dc-4214-4380-08d693ba67d6       SharePointFileOperation   \n104  d593ad26-d978-409d-2bb5-08d693bae0d4       SharePointFileOperation   \n103  01beef88-e772-4fb7-f05a-08d693bae0d8       SharePointFileOperation   \n102  0c4afb68-27a9-4044-4d83-08d693bae2e8       SharePointFileOperation   \n97   f0cf46cf-23db-4fd9-ee33-08d693baf24e       SharePointFileOperation   \n96   91d7343f-a4ae-44d3-5dfc-08d693baf2fd       SharePointFileOperation   \n98   a02ecb4d-9193-4f52-a22c-08d693baf297       SharePointFileOperation   \n95   5b266285-7633-4362-eb31-08d693baf4e7       SharePointFileOperation   \n101  1eee2dca-752e-4d84-e02a-08d693bb0343       SharePointFileOperation   \n100  579df58a-380c-401a-a274-08d693bb0483       SharePointFileOperation   \n94   89d902e8-26d9-4ff7-8a7e-08d693bb05ac       SharePointFileOperation   \n92   3e9d7170-5ed8-4b45-0ff0-08d693bb1274       SharePointFileOperation   \n93   82a80319-3d31-42a5-9b6d-08d693bb12e1       SharePointFileOperation   \n99   fdc8e70e-83f0-4f40-bd2f-08d693bb130f       SharePointFileOperation   \n68   55d9a7c7-c31b-4865-9436-256252407703  AzureActiveDirectoryStsLogon   \n76   bf8f66bf-8964-4676-bfba-7c317454fcfa  AzureActiveDirectoryStsLogon   \n67   c8466fb6-95f5-4644-9db1-9b0ee471abd4  AzureActiveDirectoryStsLogon   \n58   b799f496-12e2-43e2-0153-08d693c10ec2       SharePointFileOperation   \n31   80843a0e-5f5d-41a3-b3d9-08d693c10ef4       SharePointFileOperation   \n56   43b403d5-150e-49d8-87bb-08d693c10e92       SharePointFileOperation   \n30   b336877e-04c3-4981-3b68-08d693c10f1d                    SharePoint   \n57   1972246f-d5f6-43fc-dadd-08d693c1100a       SharePointFileOperation   \n55   069a9542-bc4f-4850-001f-08d693c11014       SharePointFileOperation   \n54   dc4e9352-915f-4a09-24e5-08d693c10fb8       SharePointFileOperation   \n4    15a0b86e-1d7f-4581-79a9-08d693c111bb       SharePointFileOperation   \n5    0c07c626-95a6-4ddb-1890-08d693c111b9       SharePointFileOperation   \n6    ab389151-c8ee-45ff-b5bd-08d693c111b6       SharePointFileOperation   \n7    9fd6d462-17af-4539-7cbb-08d693c11323       SharePointFileOperation   \n53   709a549c-b747-44c4-dc40-08d693c11cdf       SharePointFileOperation   \n29   c1b5f773-b5bd-4333-4d12-08d693c11d3d       SharePointFileOperation   \n52   b56975a9-1a8f-4c84-dddd-08d693c11e85       SharePointFileOperation   \n28   636946bd-4558-4836-73df-08d693c11eea       SharePointFileOperation   \n51   4620ed55-ea54-4f13-48b9-08d693c11f74       SharePointFileOperation   \n50   1dcf62a7-67d5-49d9-644a-08d693c12054       SharePointFileOperation   \n27   880d1425-bd87-4b6f-57b8-08d693c11fcf       SharePointFileOperation   \n49   e742a1e9-d9e4-4d16-c1e5-08d693c120b3       SharePointFileOperation   \n25   84cbe412-b00e-49ae-4ab6-08d693c120c7       SharePointFileOperation   \n26   d6c655c7-6da5-444b-1352-08d693c1206f       SharePointFileOperation   \n47   675c68e5-b826-4487-7efc-08d693c12153       SharePointFileOperation   \n48   05980b7f-27d0-4086-8390-08d693c120f6       SharePointFileOperation   \n24   83332db6-a62c-4dfd-e57a-08d693c12121       SharePointFileOperation   \n23   7fbff88a-bbf9-4cc0-41bc-08d693c121a0       SharePointFileOperation   \n46   c0924668-e962-49bf-ab30-08d693c12284       SharePointFileOperation   \n22   805770c0-3be4-47f9-5c6d-08d693c122be       SharePointFileOperation   \n45   d5656882-a44f-4919-3d71-08d693c1237a       SharePointFileOperation   \n21   90c5b161-451b-4c88-eb68-08d693c123f1       SharePointFileOperation   \n20   0791c847-475d-48e1-8383-08d693c1246b       SharePointFileOperation   \n44   b08da3cb-5e37-49ce-0c7e-08d693c1244c       SharePointFileOperation   \n43   fcb00b0c-50b7-43ca-2b70-08d693c1250d       SharePointFileOperation   \n19   2e0456e2-c6b2-4e1d-056d-08d693c1252f       SharePointFileOperation   \n42   24c2e6e1-6de5-44bf-bfc7-08d693c125e3       SharePointFileOperation   \n18   4a3fadc6-3635-4542-3727-08d693c12603       SharePointFileOperation   \n41   bc5a4457-b2e4-4b69-18fd-08d693c126bf       SharePointFileOperation   \n17   4cd008e7-98da-48a6-0545-08d693c126f4       SharePointFileOperation   \n40   9a952e38-6fee-456e-4df6-08d693c12755       SharePointFileOperation   \n16   80041b7a-a9ad-41ef-9a60-08d693c127ab       SharePointFileOperation   \n39   30576328-c871-4789-1fa2-08d693c12808       SharePointFileOperation   \n14   cb0ef8e9-fdb3-4429-b7f3-08d693c1288b       SharePointFileOperation   \n15   3d86465e-01a0-4991-94a6-08d693c12846       SharePointFileOperation   \n38   30dff6e4-2199-439a-a544-08d693c1286e       SharePointFileOperation   \n13   31adfd42-cf87-44f0-f084-08d693c128c4       SharePointFileOperation   \n37   7197f34b-8f0c-4ad5-f037-08d693c128ba       SharePointFileOperation   \n36   5a7fb393-eb78-4534-2705-08d693c12913       SharePointFileOperation   \n12   7a80f900-5593-4103-4906-08d693c129a0       SharePointFileOperation   \n35   f8b2d971-651c-44d6-18b5-08d693c12a49       SharePointFileOperation   \n11   769079c4-81b9-4836-76b2-08d693c12ad1       SharePointFileOperation   \n34   fa6f2bac-4628-452d-e48e-08d693c12b1a       SharePointFileOperation   \n3    8e4239eb-d72b-4d33-2ca2-08d693c12b16       SharePointFileOperation   \n10   25c2f107-0a63-4734-e0d6-08d693c12bde       SharePointFileOperation   \n33   d5282c43-9c29-4e5f-71e8-08d693c12c6d       SharePointFileOperation   \n9    3d6e67d1-d61f-4db0-772d-08d693c12c96       SharePointFileOperation   \n8    75d9efdb-8c13-4c4a-734c-08d693c12cd4       SharePointFileOperation   \n2    464fb121-5147-4b1a-f34a-08d693c12c82       SharePointFileOperation   \n32   c4d63cf4-c616-41cd-bcdc-08d693c12cb9       SharePointFileOperation   \n1    2f2a649f-51f1-4734-52d7-08d693c12cc3       SharePointFileOperation   \n\n          TimeGenerated             Operation  \\\n90  2019-02-16 02:53:57          FileUploaded   \n89  2019-02-16 02:54:14          FileAccessed   \n91  2019-02-16 02:54:22          FileModified   \n84  2019-02-16 02:54:53          FileModified   \n88  2019-02-16 02:54:59          FileUploaded   \n85  2019-02-16 02:55:00          FileAccessed   \n87  2019-02-16 02:55:03        FileDownloaded   \n80  2019-02-16 02:56:46            PageViewed   \n83  2019-02-16 02:56:51          FileAccessed   \n82  2019-02-16 02:56:51          FileAccessed   \n81  2019-02-16 02:56:51          FileAccessed   \n86  2019-02-16 02:56:53          FileAccessed   \n104 2019-02-16 03:00:16          FileUploaded   \n103 2019-02-16 03:00:16          FileAccessed   \n102 2019-02-16 03:00:19          FileModified   \n97  2019-02-16 03:00:45  FileModifiedExtended   \n96  2019-02-16 03:00:46          FileAccessed   \n98  2019-02-16 03:00:46          FileUploaded   \n95  2019-02-16 03:00:50        FileDownloaded   \n101 2019-02-16 03:01:14          FileUploaded   \n100 2019-02-16 03:01:16          FileAccessed   \n94  2019-02-16 03:01:18          FileModified   \n92  2019-02-16 03:01:39  FileModifiedExtended   \n93  2019-02-16 03:01:40          FileUploaded   \n99  2019-02-16 03:01:40          FileAccessed   \n68  2019-02-16 03:43:14       UserLoginFailed   \n76  2019-02-16 03:43:25       UserLoginFailed   \n67  2019-02-16 03:43:50       UserLoginFailed   \n58  2019-02-16 03:44:30         FilePreviewed   \n31  2019-02-16 03:44:30         FilePreviewed   \n56  2019-02-16 03:44:30         FilePreviewed   \n30  2019-02-16 03:44:31            PageViewed   \n57  2019-02-16 03:44:32         FilePreviewed   \n55  2019-02-16 03:44:32         FilePreviewed   \n54  2019-02-16 03:44:32         FilePreviewed   \n4   2019-02-16 03:44:35          FileAccessed   \n5   2019-02-16 03:44:35          FileAccessed   \n6   2019-02-16 03:44:35          FileAccessed   \n7   2019-02-16 03:44:37          FileAccessed   \n53  2019-02-16 03:44:54        FileDownloaded   \n29  2019-02-16 03:44:54        FileDownloaded   \n52  2019-02-16 03:44:56        FileDownloaded   \n28  2019-02-16 03:44:57        FileDownloaded   \n51  2019-02-16 03:44:58        FileDownloaded   \n50  2019-02-16 03:44:59        FileDownloaded   \n27  2019-02-16 03:44:59        FileDownloaded   \n49  2019-02-16 03:45:00        FileDownloaded   \n25  2019-02-16 03:45:00        FileDownloaded   \n26  2019-02-16 03:45:00        FileDownloaded   \n47  2019-02-16 03:45:01        FileDownloaded   \n48  2019-02-16 03:45:01        FileDownloaded   \n24  2019-02-16 03:45:01        FileDownloaded   \n23  2019-02-16 03:45:02        FileDownloaded   \n46  2019-02-16 03:45:03        FileDownloaded   \n22  2019-02-16 03:45:04        FileDownloaded   \n45  2019-02-16 03:45:05        FileDownloaded   \n21  2019-02-16 03:45:06        FileDownloaded   \n20  2019-02-16 03:45:06        FileDownloaded   \n44  2019-02-16 03:45:06        FileDownloaded   \n43  2019-02-16 03:45:07        FileDownloaded   \n19  2019-02-16 03:45:08        FileDownloaded   \n42  2019-02-16 03:45:09        FileDownloaded   \n18  2019-02-16 03:45:09        FileDownloaded   \n41  2019-02-16 03:45:10        FileDownloaded   \n17  2019-02-16 03:45:11        FileDownloaded   \n40  2019-02-16 03:45:11        FileDownloaded   \n16  2019-02-16 03:45:12        FileDownloaded   \n39  2019-02-16 03:45:12        FileDownloaded   \n14  2019-02-16 03:45:13        FileDownloaded   \n15  2019-02-16 03:45:13        FileDownloaded   \n38  2019-02-16 03:45:13        FileDownloaded   \n13  2019-02-16 03:45:14        FileDownloaded   \n37  2019-02-16 03:45:14        FileDownloaded   \n36  2019-02-16 03:45:14        FileDownloaded   \n12  2019-02-16 03:45:15        FileDownloaded   \n35  2019-02-16 03:45:16        FileDownloaded   \n11  2019-02-16 03:45:17        FileDownloaded   \n34  2019-02-16 03:45:18        FileDownloaded   \n3   2019-02-16 03:45:18        FileDownloaded   \n10  2019-02-16 03:45:19        FileDownloaded   \n33  2019-02-16 03:45:20        FileDownloaded   \n9   2019-02-16 03:45:20        FileDownloaded   \n8   2019-02-16 03:45:20        FileDownloaded   \n2   2019-02-16 03:45:20        FileDownloaded   \n32  2019-02-16 03:45:20        FileDownloaded   \n1   2019-02-16 03:45:20        FileDownloaded   \n\n                           OrganizationId UserType  \\\n90   aa46238d-13fc-4314-8f0c-94044435adb1  Regular   \n89   aa46238d-13fc-4314-8f0c-94044435adb1  Regular   \n91   aa46238d-13fc-4314-8f0c-94044435adb1  Regular   \n84   aa46238d-13fc-4314-8f0c-94044435adb1  Regular   \n88   aa46238d-13fc-4314-8f0c-94044435adb1  Regular   \n85   aa46238d-13fc-4314-8f0c-94044435adb1  Regular   \n87   aa46238d-13fc-4314-8f0c-94044435adb1  Regular   \n80   aa46238d-13fc-4314-8f0c-94044435adb1  Regular   \n83   aa46238d-13fc-4314-8f0c-94044435adb1  Regular   \n82   aa46238d-13fc-4314-8f0c-94044435adb1  Regular   \n81   aa46238d-13fc-4314-8f0c-94044435adb1  Regular   \n86   aa46238d-13fc-4314-8f0c-94044435adb1  Regular   \n104  aa46238d-13fc-4314-8f0c-94044435adb1  Regular   \n103  aa46238d-13fc-4314-8f0c-94044435adb1  Regular   \n102  aa46238d-13fc-4314-8f0c-94044435adb1  Regular   \n97   aa46238d-13fc-4314-8f0c-94044435adb1  Regular   \n96   aa46238d-13fc-4314-8f0c-94044435adb1  Regular   \n98   aa46238d-13fc-4314-8f0c-94044435adb1  Regular   \n95   aa46238d-13fc-4314-8f0c-94044435adb1  Regular   \n101  aa46238d-13fc-4314-8f0c-94044435adb1  Regular   \n100  aa46238d-13fc-4314-8f0c-94044435adb1  Regular   \n94   aa46238d-13fc-4314-8f0c-94044435adb1  Regular   \n92   aa46238d-13fc-4314-8f0c-94044435adb1  Regular   \n93   aa46238d-13fc-4314-8f0c-94044435adb1  Regular   \n99   aa46238d-13fc-4314-8f0c-94044435adb1  Regular   \n68   aa46238d-13fc-4314-8f0c-94044435adb1  Regular   \n76   aa46238d-13fc-4314-8f0c-94044435adb1  Regular   \n67   aa46238d-13fc-4314-8f0c-94044435adb1  Regular   \n58   aa46238d-13fc-4314-8f0c-94044435adb1  Regular   \n31   aa46238d-13fc-4314-8f0c-94044435adb1  Regular   \n56   aa46238d-13fc-4314-8f0c-94044435adb1  Regular   \n30   aa46238d-13fc-4314-8f0c-94044435adb1  Regular   \n57   aa46238d-13fc-4314-8f0c-94044435adb1  Regular   \n55   aa46238d-13fc-4314-8f0c-94044435adb1  Regular   \n54   aa46238d-13fc-4314-8f0c-94044435adb1  Regular   \n4    aa46238d-13fc-4314-8f0c-94044435adb1  Regular   \n5    aa46238d-13fc-4314-8f0c-94044435adb1  Regular   \n6    aa46238d-13fc-4314-8f0c-94044435adb1  Regular   \n7    aa46238d-13fc-4314-8f0c-94044435adb1  Regular   \n53   aa46238d-13fc-4314-8f0c-94044435adb1  Regular   \n29   aa46238d-13fc-4314-8f0c-94044435adb1  Regular   \n52   aa46238d-13fc-4314-8f0c-94044435adb1  Regular   \n28   aa46238d-13fc-4314-8f0c-94044435adb1  Regular   \n51   aa46238d-13fc-4314-8f0c-94044435adb1  Regular   \n50   aa46238d-13fc-4314-8f0c-94044435adb1  Regular   \n27   aa46238d-13fc-4314-8f0c-94044435adb1  Regular   \n49   aa46238d-13fc-4314-8f0c-94044435adb1  Regular   \n25   aa46238d-13fc-4314-8f0c-94044435adb1  Regular   \n26   aa46238d-13fc-4314-8f0c-94044435adb1  Regular   \n47   aa46238d-13fc-4314-8f0c-94044435adb1  Regular   \n48   aa46238d-13fc-4314-8f0c-94044435adb1  Regular   \n24   aa46238d-13fc-4314-8f0c-94044435adb1  Regular   \n23   aa46238d-13fc-4314-8f0c-94044435adb1  Regular   \n46   aa46238d-13fc-4314-8f0c-94044435adb1  Regular   \n22   aa46238d-13fc-4314-8f0c-94044435adb1  Regular   \n45   aa46238d-13fc-4314-8f0c-94044435adb1  Regular   \n21   aa46238d-13fc-4314-8f0c-94044435adb1  Regular   \n20   aa46238d-13fc-4314-8f0c-94044435adb1  Regular   \n44   aa46238d-13fc-4314-8f0c-94044435adb1  Regular   \n43   aa46238d-13fc-4314-8f0c-94044435adb1  Regular   \n19   aa46238d-13fc-4314-8f0c-94044435adb1  Regular   \n42   aa46238d-13fc-4314-8f0c-94044435adb1  Regular   \n18   aa46238d-13fc-4314-8f0c-94044435adb1  Regular   \n41   aa46238d-13fc-4314-8f0c-94044435adb1  Regular   \n17   aa46238d-13fc-4314-8f0c-94044435adb1  Regular   \n40   aa46238d-13fc-4314-8f0c-94044435adb1  Regular   \n16   aa46238d-13fc-4314-8f0c-94044435adb1  Regular   \n39   aa46238d-13fc-4314-8f0c-94044435adb1  Regular   \n14   aa46238d-13fc-4314-8f0c-94044435adb1  Regular   \n15   aa46238d-13fc-4314-8f0c-94044435adb1  Regular   \n38   aa46238d-13fc-4314-8f0c-94044435adb1  Regular   \n13   aa46238d-13fc-4314-8f0c-94044435adb1  Regular   \n37   aa46238d-13fc-4314-8f0c-94044435adb1  Regular   \n36   aa46238d-13fc-4314-8f0c-94044435adb1  Regular   \n12   aa46238d-13fc-4314-8f0c-94044435adb1  Regular   \n35   aa46238d-13fc-4314-8f0c-94044435adb1  Regular   \n11   aa46238d-13fc-4314-8f0c-94044435adb1  Regular   \n34   aa46238d-13fc-4314-8f0c-94044435adb1  Regular   \n3    aa46238d-13fc-4314-8f0c-94044435adb1  Regular   \n10   aa46238d-13fc-4314-8f0c-94044435adb1  Regular   \n33   aa46238d-13fc-4314-8f0c-94044435adb1  Regular   \n9    aa46238d-13fc-4314-8f0c-94044435adb1  Regular   \n8    aa46238d-13fc-4314-8f0c-94044435adb1  Regular   \n2    aa46238d-13fc-4314-8f0c-94044435adb1  Regular   \n32   aa46238d-13fc-4314-8f0c-94044435adb1  Regular   \n1    aa46238d-13fc-4314-8f0c-94044435adb1  Regular   \n\n                                          UserKey   AppResourceProvider  \\\n90    i:0h.f|membership|100320003b5602fc@live.com              OneDrive   \n89    i:0h.f|membership|100320003b5602fc@live.com              OneDrive   \n91    i:0h.f|membership|100320003b5602fc@live.com              OneDrive   \n84    i:0h.f|membership|100320003b5602fc@live.com              OneDrive   \n88    i:0h.f|membership|100320003b5602fc@live.com              OneDrive   \n85    i:0h.f|membership|100320003b5602fc@live.com              OneDrive   \n87    i:0h.f|membership|100320003b5602fc@live.com              OneDrive   \n80    i:0h.f|membership|100320003b5602fc@live.com              OneDrive   \n83    i:0h.f|membership|100320003b5602fc@live.com              OneDrive   \n82    i:0h.f|membership|100320003b5602fc@live.com              OneDrive   \n81    i:0h.f|membership|100320003b5602fc@live.com              OneDrive   \n86    i:0h.f|membership|100320003b5602fc@live.com            SharePoint   \n104   i:0h.f|membership|100320003b5602fc@live.com              OneDrive   \n103   i:0h.f|membership|100320003b5602fc@live.com              OneDrive   \n102   i:0h.f|membership|100320003b5602fc@live.com              OneDrive   \n97    i:0h.f|membership|100320003b5602fc@live.com              OneDrive   \n96    i:0h.f|membership|100320003b5602fc@live.com              OneDrive   \n98    i:0h.f|membership|100320003b5602fc@live.com              OneDrive   \n95    i:0h.f|membership|100320003b5602fc@live.com              OneDrive   \n101   i:0h.f|membership|100320003b5602fc@live.com              OneDrive   \n100   i:0h.f|membership|100320003b5602fc@live.com              OneDrive   \n94    i:0h.f|membership|100320003b5602fc@live.com              OneDrive   \n92    i:0h.f|membership|100320003b5602fc@live.com              OneDrive   \n93    i:0h.f|membership|100320003b5602fc@live.com              OneDrive   \n99    i:0h.f|membership|100320003b5602fc@live.com              OneDrive   \n68   100320003B5602FC@m365x054215.onmicrosoft.com  AzureActiveDirectory   \n76   100320003B5602FC@m365x054215.onmicrosoft.com  AzureActiveDirectory   \n67   100320003B5602FC@m365x054215.onmicrosoft.com  AzureActiveDirectory   \n58    i:0h.f|membership|100320003b5602fc@live.com              OneDrive   \n31    i:0h.f|membership|100320003b5602fc@live.com              OneDrive   \n56    i:0h.f|membership|100320003b5602fc@live.com              OneDrive   \n30    i:0h.f|membership|100320003b5602fc@live.com              OneDrive   \n57    i:0h.f|membership|100320003b5602fc@live.com              OneDrive   \n55    i:0h.f|membership|100320003b5602fc@live.com              OneDrive   \n54    i:0h.f|membership|100320003b5602fc@live.com              OneDrive   \n4     i:0h.f|membership|100320003b5602fc@live.com              OneDrive   \n5     i:0h.f|membership|100320003b5602fc@live.com              OneDrive   \n6     i:0h.f|membership|100320003b5602fc@live.com              OneDrive   \n7     i:0h.f|membership|100320003b5602fc@live.com            SharePoint   \n53    i:0h.f|membership|100320003b5602fc@live.com              OneDrive   \n29    i:0h.f|membership|100320003b5602fc@live.com              OneDrive   \n52    i:0h.f|membership|100320003b5602fc@live.com              OneDrive   \n28    i:0h.f|membership|100320003b5602fc@live.com              OneDrive   \n51    i:0h.f|membership|100320003b5602fc@live.com              OneDrive   \n50    i:0h.f|membership|100320003b5602fc@live.com              OneDrive   \n27    i:0h.f|membership|100320003b5602fc@live.com              OneDrive   \n49    i:0h.f|membership|100320003b5602fc@live.com              OneDrive   \n25    i:0h.f|membership|100320003b5602fc@live.com              OneDrive   \n26    i:0h.f|membership|100320003b5602fc@live.com              OneDrive   \n47    i:0h.f|membership|100320003b5602fc@live.com              OneDrive   \n48    i:0h.f|membership|100320003b5602fc@live.com              OneDrive   \n24    i:0h.f|membership|100320003b5602fc@live.com              OneDrive   \n23    i:0h.f|membership|100320003b5602fc@live.com              OneDrive   \n46    i:0h.f|membership|100320003b5602fc@live.com              OneDrive   \n22    i:0h.f|membership|100320003b5602fc@live.com              OneDrive   \n45    i:0h.f|membership|100320003b5602fc@live.com              OneDrive   \n21    i:0h.f|membership|100320003b5602fc@live.com              OneDrive   \n20    i:0h.f|membership|100320003b5602fc@live.com              OneDrive   \n44    i:0h.f|membership|100320003b5602fc@live.com              OneDrive   \n43    i:0h.f|membership|100320003b5602fc@live.com              OneDrive   \n19    i:0h.f|membership|100320003b5602fc@live.com              OneDrive   \n42    i:0h.f|membership|100320003b5602fc@live.com              OneDrive   \n18    i:0h.f|membership|100320003b5602fc@live.com              OneDrive   \n41    i:0h.f|membership|100320003b5602fc@live.com              OneDrive   \n17    i:0h.f|membership|100320003b5602fc@live.com              OneDrive   \n40    i:0h.f|membership|100320003b5602fc@live.com              OneDrive   \n16    i:0h.f|membership|100320003b5602fc@live.com              OneDrive   \n39    i:0h.f|membership|100320003b5602fc@live.com              OneDrive   \n14    i:0h.f|membership|100320003b5602fc@live.com              OneDrive   \n15    i:0h.f|membership|100320003b5602fc@live.com              OneDrive   \n38    i:0h.f|membership|100320003b5602fc@live.com              OneDrive   \n13    i:0h.f|membership|100320003b5602fc@live.com              OneDrive   \n37    i:0h.f|membership|100320003b5602fc@live.com              OneDrive   \n36    i:0h.f|membership|100320003b5602fc@live.com              OneDrive   \n12    i:0h.f|membership|100320003b5602fc@live.com              OneDrive   \n35    i:0h.f|membership|100320003b5602fc@live.com              OneDrive   \n11    i:0h.f|membership|100320003b5602fc@live.com              OneDrive   \n34    i:0h.f|membership|100320003b5602fc@live.com              OneDrive   \n3     i:0h.f|membership|100320003b5602fc@live.com              OneDrive   \n10    i:0h.f|membership|100320003b5602fc@live.com              OneDrive   \n33    i:0h.f|membership|100320003b5602fc@live.com              OneDrive   \n9     i:0h.f|membership|100320003b5602fc@live.com              OneDrive   \n8     i:0h.f|membership|100320003b5602fc@live.com              OneDrive   \n2     i:0h.f|membership|100320003b5602fc@live.com              OneDrive   \n32    i:0h.f|membership|100320003b5602fc@live.com              OneDrive   \n1     i:0h.f|membership|100320003b5602fc@live.com              OneDrive   \n\n    ResultStatus  \\\n90                 \n89                 \n91                 \n84                 \n88                 \n85                 \n87                 \n80                 \n83                 \n82                 \n81                 \n86                 \n104                \n103                \n102                \n97                 \n96                 \n98                 \n95                 \n101                \n100                \n94                 \n92                 \n93                 \n99                 \n68        Failed   \n76        Failed   \n67        Failed   \n58                 \n31                 \n56                 \n30                 \n57                 \n55                 \n54                 \n4                  \n5                  \n6                  \n7                  \n53                 \n29                 \n52                 \n28                 \n51                 \n50                 \n27                 \n49                 \n25                 \n26                 \n47                 \n48                 \n24                 \n23                 \n46                 \n22                 \n45                 \n21                 \n20                 \n44                 \n43                 \n19                 \n42                 \n18                 \n41                 \n17                 \n40                 \n16                 \n39                 \n14                 \n15                 \n38                 \n13                 \n37                 \n36                 \n12                 \n35                 \n11                 \n34                 \n3                  \n10                 \n33                 \n9                  \n8                  \n2                  \n32                 \n1                  \n\n                                                                                              ResourceId  \\\n90   https://m365x054215-my.sharepoint.com/personal/ianh_m365x054215_onmicrosoft_com/Documents/Docume...   \n89   https://m365x054215-my.sharepoint.com/personal/ianh_m365x054215_onmicrosoft_com/Documents/Docume...   \n91   https://m365x054215-my.sharepoint.com/personal/ianh_m365x054215_onmicrosoft_com/Documents/Docume...   \n84   https://m365x054215-my.sharepoint.com/personal/ianh_m365x054215_onmicrosoft_com/Documents/Docume...   \n88   https://m365x054215-my.sharepoint.com/personal/ianh_m365x054215_onmicrosoft_com/Documents/Terms ...   \n85   https://m365x054215-my.sharepoint.com/personal/ianh_m365x054215_onmicrosoft_com/Documents/Terms ...   \n87   https://m365x054215-my.sharepoint.com/personal/ianh_m365x054215_onmicrosoft_com/Documents/Terms ...   \n80   https://m365x054215-my.sharepoint.com/personal/ianh_m365x054215_onmicrosoft_com/_layouts/15/oned...   \n83   https://m365x054215-my.sharepoint.com/personal/ianh_m365x054215_onmicrosoft_com/Documents/Forms/...   \n82   https://m365x054215-my.sharepoint.com/personal/ianh_m365x054215_onmicrosoft_com/Documents/Forms/...   \n81   https://m365x054215-my.sharepoint.com/personal/ianh_m365x054215_onmicrosoft_com/Documents/Forms/...   \n86   https://m365x054215-my.sharepoint.com/User Photos/Profile Pictures/ianh_m365x054215_onmicrosoft_...   \n104  https://m365x054215-my.sharepoint.com/personal/ianh_m365x054215_onmicrosoft_com/Documents/Docume...   \n103  https://m365x054215-my.sharepoint.com/personal/ianh_m365x054215_onmicrosoft_com/Documents/Docume...   \n102  https://m365x054215-my.sharepoint.com/personal/ianh_m365x054215_onmicrosoft_com/Documents/Docume...   \n97   https://m365x054215-my.sharepoint.com/personal/ianh_m365x054215_onmicrosoft_com/Documents/Docume...   \n96   https://m365x054215-my.sharepoint.com/personal/ianh_m365x054215_onmicrosoft_com/Documents/Extend...   \n98   https://m365x054215-my.sharepoint.com/personal/ianh_m365x054215_onmicrosoft_com/Documents/Extend...   \n95   https://m365x054215-my.sharepoint.com/personal/ianh_m365x054215_onmicrosoft_com/Documents/Extend...   \n101  https://m365x054215-my.sharepoint.com/personal/ianh_m365x054215_onmicrosoft_com/Documents/Book.xlsx   \n100  https://m365x054215-my.sharepoint.com/personal/ianh_m365x054215_onmicrosoft_com/Documents/Book.xlsx   \n94   https://m365x054215-my.sharepoint.com/personal/ianh_m365x054215_onmicrosoft_com/Documents/Book.xlsx   \n92   https://m365x054215-my.sharepoint.com/personal/ianh_m365x054215_onmicrosoft_com/Documents/Book.xlsx   \n93   https://m365x054215-my.sharepoint.com/personal/ianh_m365x054215_onmicrosoft_com/Documents/Budget...   \n99   https://m365x054215-my.sharepoint.com/personal/ianh_m365x054215_onmicrosoft_com/Documents/Budget...   \n68                                                                  00000002-0000-0000-c000-000000000000   \n76                                                                  00000002-0000-0000-c000-000000000000   \n67                                                                  00000002-0000-0000-c000-000000000000   \n58   https://m365x054215-my.sharepoint.com/personal/ianh_m365x054215_onmicrosoft_com/Documents/Terms ...   \n31   https://m365x054215-my.sharepoint.com/personal/ianh_m365x054215_onmicrosoft_com/Documents/Docume...   \n56   https://m365x054215-my.sharepoint.com/personal/ianh_m365x054215_onmicrosoft_com/Documents/Docume...   \n30   https://m365x054215-my.sharepoint.com/personal/ianh_m365x054215_onmicrosoft_com/_layouts/15/oned...   \n57   https://m365x054215-my.sharepoint.com/personal/ianh_m365x054215_onmicrosoft_com/Documents/Docume...   \n55   https://m365x054215-my.sharepoint.com/personal/ianh_m365x054215_onmicrosoft_com/Documents/Terms ...   \n54   https://m365x054215-my.sharepoint.com/personal/ianh_m365x054215_onmicrosoft_com/Documents/Docume...   \n4    https://m365x054215-my.sharepoint.com/personal/ianh_m365x054215_onmicrosoft_com/Documents/Forms/...   \n5    https://m365x054215-my.sharepoint.com/personal/ianh_m365x054215_onmicrosoft_com/Documents/Forms/...   \n6    https://m365x054215-my.sharepoint.com/personal/ianh_m365x054215_onmicrosoft_com/Documents/Forms/...   \n7    https://m365x054215-my.sharepoint.com/User Photos/Profile Pictures/ianh_m365x054215_onmicrosoft_...   \n53   https://m365x054215-my.sharepoint.com/personal/ianh_m365x054215_onmicrosoft_com/Documents/Book.xlsx   \n29   https://m365x054215-my.sharepoint.com/personal/ianh_m365x054215_onmicrosoft_com/Documents/Docume...   \n52   https://m365x054215-my.sharepoint.com/personal/ianh_m365x054215_onmicrosoft_com/Documents/Docume...   \n28   https://m365x054215-my.sharepoint.com/personal/ianh_m365x054215_onmicrosoft_com/Documents/Docume...   \n51   https://m365x054215-my.sharepoint.com/personal/ianh_m365x054215_onmicrosoft_com/Documents/Docume...   \n50   https://m365x054215-my.sharepoint.com/personal/ianh_m365x054215_onmicrosoft_com/Documents/Docume...   \n27   https://m365x054215-my.sharepoint.com/personal/ianh_m365x054215_onmicrosoft_com/Documents/Docume...   \n49   https://m365x054215-my.sharepoint.com/personal/ianh_m365x054215_onmicrosoft_com/Documents/Docume...   \n25   https://m365x054215-my.sharepoint.com/personal/ianh_m365x054215_onmicrosoft_com/Documents/Docume...   \n26   https://m365x054215-my.sharepoint.com/personal/ianh_m365x054215_onmicrosoft_com/Documents/Docume...   \n47   https://m365x054215-my.sharepoint.com/personal/ianh_m365x054215_onmicrosoft_com/Documents/Docume...   \n48   https://m365x054215-my.sharepoint.com/personal/ianh_m365x054215_onmicrosoft_com/Documents/Docume...   \n24   https://m365x054215-my.sharepoint.com/personal/ianh_m365x054215_onmicrosoft_com/Documents/Docume...   \n23   https://m365x054215-my.sharepoint.com/personal/ianh_m365x054215_onmicrosoft_com/Documents/Docume...   \n46   https://m365x054215-my.sharepoint.com/personal/ianh_m365x054215_onmicrosoft_com/Documents/Docume...   \n22   https://m365x054215-my.sharepoint.com/personal/ianh_m365x054215_onmicrosoft_com/Documents/Docume...   \n45   https://m365x054215-my.sharepoint.com/personal/ianh_m365x054215_onmicrosoft_com/Documents/Docume...   \n21   https://m365x054215-my.sharepoint.com/personal/ianh_m365x054215_onmicrosoft_com/Documents/Docume...   \n20   https://m365x054215-my.sharepoint.com/personal/ianh_m365x054215_onmicrosoft_com/Documents/Docume...   \n44   https://m365x054215-my.sharepoint.com/personal/ianh_m365x054215_onmicrosoft_com/Documents/Docume...   \n43   https://m365x054215-my.sharepoint.com/personal/ianh_m365x054215_onmicrosoft_com/Documents/Docume...   \n19   https://m365x054215-my.sharepoint.com/personal/ianh_m365x054215_onmicrosoft_com/Documents/Docume...   \n42   https://m365x054215-my.sharepoint.com/personal/ianh_m365x054215_onmicrosoft_com/Documents/Docume...   \n18   https://m365x054215-my.sharepoint.com/personal/ianh_m365x054215_onmicrosoft_com/Documents/Docume...   \n41   https://m365x054215-my.sharepoint.com/personal/ianh_m365x054215_onmicrosoft_com/Documents/Docume...   \n17   https://m365x054215-my.sharepoint.com/personal/ianh_m365x054215_onmicrosoft_com/Documents/Docume...   \n40   https://m365x054215-my.sharepoint.com/personal/ianh_m365x054215_onmicrosoft_com/Documents/Docume...   \n16   https://m365x054215-my.sharepoint.com/personal/ianh_m365x054215_onmicrosoft_com/Documents/Docume...   \n39   https://m365x054215-my.sharepoint.com/personal/ianh_m365x054215_onmicrosoft_com/Documents/Docume...   \n14   https://m365x054215-my.sharepoint.com/personal/ianh_m365x054215_onmicrosoft_com/Documents/Docume...   \n15   https://m365x054215-my.sharepoint.com/personal/ianh_m365x054215_onmicrosoft_com/Documents/Docume...   \n38   https://m365x054215-my.sharepoint.com/personal/ianh_m365x054215_onmicrosoft_com/Documents/Docume...   \n13   https://m365x054215-my.sharepoint.com/personal/ianh_m365x054215_onmicrosoft_com/Documents/Docume...   \n37   https://m365x054215-my.sharepoint.com/personal/ianh_m365x054215_onmicrosoft_com/Documents/Docume...   \n36   https://m365x054215-my.sharepoint.com/personal/ianh_m365x054215_onmicrosoft_com/Documents/Docume...   \n12   https://m365x054215-my.sharepoint.com/personal/ianh_m365x054215_onmicrosoft_com/Documents/Docume...   \n35   https://m365x054215-my.sharepoint.com/personal/ianh_m365x054215_onmicrosoft_com/Documents/Docume...   \n11   https://m365x054215-my.sharepoint.com/personal/ianh_m365x054215_onmicrosoft_com/Documents/Docume...   \n34   https://m365x054215-my.sharepoint.com/personal/ianh_m365x054215_onmicrosoft_com/Documents/Docume...   \n3    https://m365x054215-my.sharepoint.com/personal/ianh_m365x054215_onmicrosoft_com/Documents/Docume...   \n10   https://m365x054215-my.sharepoint.com/personal/ianh_m365x054215_onmicrosoft_com/Documents/Docume...   \n33   https://m365x054215-my.sharepoint.com/personal/ianh_m365x054215_onmicrosoft_com/Documents/Docume...   \n9    https://m365x054215-my.sharepoint.com/personal/ianh_m365x054215_onmicrosoft_com/Documents/Docume...   \n8    https://m365x054215-my.sharepoint.com/personal/ianh_m365x054215_onmicrosoft_com/Documents/Terms ...   \n2    https://m365x054215-my.sharepoint.com/personal/ianh_m365x054215_onmicrosoft_com/Documents/Budget...   \n32   https://m365x054215-my.sharepoint.com/personal/ianh_m365x054215_onmicrosoft_com/Documents/Docume...   \n1    https://m365x054215-my.sharepoint.com/personal/ianh_m365x054215_onmicrosoft_com/Documents/Extend...   \n\n                               UserId        IPAddress  \\\n90   ianh@m365x054215.onmicrosoft.com   20.190.133.114   \n89   ianh@m365x054215.onmicrosoft.com  131.107.147.209   \n91   ianh@m365x054215.onmicrosoft.com    40.81.158.170   \n84   ianh@m365x054215.onmicrosoft.com     40.81.159.43   \n88   ianh@m365x054215.onmicrosoft.com    40.81.159.203   \n85   ianh@m365x054215.onmicrosoft.com  131.107.147.209   \n87   ianh@m365x054215.onmicrosoft.com    40.81.159.203   \n80   ianh@m365x054215.onmicrosoft.com  131.107.147.209   \n83   ianh@m365x054215.onmicrosoft.com  131.107.147.209   \n82   ianh@m365x054215.onmicrosoft.com  131.107.147.209   \n81   ianh@m365x054215.onmicrosoft.com  131.107.147.209   \n86   ianh@m365x054215.onmicrosoft.com  131.107.147.209   \n104  ianh@m365x054215.onmicrosoft.com  131.107.147.209   \n103  ianh@m365x054215.onmicrosoft.com  131.107.147.209   \n102  ianh@m365x054215.onmicrosoft.com    40.81.158.170   \n97   ianh@m365x054215.onmicrosoft.com     40.81.159.43   \n96   ianh@m365x054215.onmicrosoft.com  131.107.147.209   \n98   ianh@m365x054215.onmicrosoft.com    40.81.159.166   \n95   ianh@m365x054215.onmicrosoft.com    40.81.159.203   \n101  ianh@m365x054215.onmicrosoft.com   20.190.133.115   \n100  ianh@m365x054215.onmicrosoft.com  131.107.147.209   \n94   ianh@m365x054215.onmicrosoft.com    40.81.126.127   \n92   ianh@m365x054215.onmicrosoft.com    40.81.126.127   \n93   ianh@m365x054215.onmicrosoft.com    40.81.126.127   \n99   ianh@m365x054215.onmicrosoft.com  131.107.147.209   \n68   ianh@m365x054215.onmicrosoft.com     23.97.60.214   \n76   ianh@m365x054215.onmicrosoft.com     23.97.60.214   \n67   ianh@m365x054215.onmicrosoft.com     23.97.60.214   \n58   ianh@m365x054215.onmicrosoft.com    20.190.140.50   \n31   ianh@m365x054215.onmicrosoft.com    20.190.140.50   \n56   ianh@m365x054215.onmicrosoft.com    20.190.140.50   \n30   ianh@m365x054215.onmicrosoft.com     23.97.60.214   \n57   ianh@m365x054215.onmicrosoft.com     23.97.60.214   \n55   ianh@m365x054215.onmicrosoft.com     23.97.60.214   \n54   ianh@m365x054215.onmicrosoft.com     23.97.60.214   \n4    ianh@m365x054215.onmicrosoft.com     23.97.60.214   \n5    ianh@m365x054215.onmicrosoft.com     23.97.60.214   \n6    ianh@m365x054215.onmicrosoft.com     23.97.60.214   \n7    ianh@m365x054215.onmicrosoft.com     23.97.60.214   \n53   ianh@m365x054215.onmicrosoft.com     23.97.60.214   \n29   ianh@m365x054215.onmicrosoft.com     23.97.60.214   \n52   ianh@m365x054215.onmicrosoft.com     23.97.60.214   \n28   ianh@m365x054215.onmicrosoft.com     23.97.60.214   \n51   ianh@m365x054215.onmicrosoft.com     23.97.60.214   \n50   ianh@m365x054215.onmicrosoft.com     23.97.60.214   \n27   ianh@m365x054215.onmicrosoft.com     23.97.60.214   \n49   ianh@m365x054215.onmicrosoft.com     23.97.60.214   \n25   ianh@m365x054215.onmicrosoft.com     23.97.60.214   \n26   ianh@m365x054215.onmicrosoft.com     23.97.60.214   \n47   ianh@m365x054215.onmicrosoft.com     23.97.60.214   \n48   ianh@m365x054215.onmicrosoft.com     23.97.60.214   \n24   ianh@m365x054215.onmicrosoft.com     23.97.60.214   \n23   ianh@m365x054215.onmicrosoft.com     23.97.60.214   \n46   ianh@m365x054215.onmicrosoft.com     23.97.60.214   \n22   ianh@m365x054215.onmicrosoft.com     23.97.60.214   \n45   ianh@m365x054215.onmicrosoft.com     23.97.60.214   \n21   ianh@m365x054215.onmicrosoft.com     23.97.60.214   \n20   ianh@m365x054215.onmicrosoft.com     23.97.60.214   \n44   ianh@m365x054215.onmicrosoft.com     23.97.60.214   \n43   ianh@m365x054215.onmicrosoft.com     23.97.60.214   \n19   ianh@m365x054215.onmicrosoft.com     23.97.60.214   \n42   ianh@m365x054215.onmicrosoft.com     23.97.60.214   \n18   ianh@m365x054215.onmicrosoft.com     23.97.60.214   \n41   ianh@m365x054215.onmicrosoft.com     23.97.60.214   \n17   ianh@m365x054215.onmicrosoft.com     23.97.60.214   \n40   ianh@m365x054215.onmicrosoft.com     23.97.60.214   \n16   ianh@m365x054215.onmicrosoft.com     23.97.60.214   \n39   ianh@m365x054215.onmicrosoft.com     23.97.60.214   \n14   ianh@m365x054215.onmicrosoft.com     23.97.60.214   \n15   ianh@m365x054215.onmicrosoft.com     23.97.60.214   \n38   ianh@m365x054215.onmicrosoft.com     23.97.60.214   \n13   ianh@m365x054215.onmicrosoft.com     23.97.60.214   \n37   ianh@m365x054215.onmicrosoft.com     23.97.60.214   \n36   ianh@m365x054215.onmicrosoft.com     23.97.60.214   \n12   ianh@m365x054215.onmicrosoft.com     23.97.60.214   \n35   ianh@m365x054215.onmicrosoft.com     23.97.60.214   \n11   ianh@m365x054215.onmicrosoft.com     23.97.60.214   \n34   ianh@m365x054215.onmicrosoft.com     23.97.60.214   \n3    ianh@m365x054215.onmicrosoft.com     23.97.60.214   \n10   ianh@m365x054215.onmicrosoft.com     23.97.60.214   \n33   ianh@m365x054215.onmicrosoft.com     23.97.60.214   \n9    ianh@m365x054215.onmicrosoft.com     23.97.60.214   \n8    ianh@m365x054215.onmicrosoft.com     23.97.60.214   \n2    ianh@m365x054215.onmicrosoft.com     23.97.60.214   \n32   ianh@m365x054215.onmicrosoft.com     23.97.60.214   \n1    ianh@m365x054215.onmicrosoft.com     23.97.60.214   \n\n                                    Site_ ItemType EventSource Source_Name  \\\n90   4f96a3b3-f5ae-4706-af77-7984baf27d79     File  SharePoint               \n89   4f96a3b3-f5ae-4706-af77-7984baf27d79     File  SharePoint               \n91   4f96a3b3-f5ae-4706-af77-7984baf27d79     File  SharePoint               \n84   4f96a3b3-f5ae-4706-af77-7984baf27d79     File  SharePoint               \n88   4f96a3b3-f5ae-4706-af77-7984baf27d79     File  SharePoint               \n85   4f96a3b3-f5ae-4706-af77-7984baf27d79     File  SharePoint               \n87   4f96a3b3-f5ae-4706-af77-7984baf27d79     File  SharePoint               \n80   4f96a3b3-f5ae-4706-af77-7984baf27d79     Page  SharePoint               \n83   4f96a3b3-f5ae-4706-af77-7984baf27d79     File  SharePoint               \n82   4f96a3b3-f5ae-4706-af77-7984baf27d79     File  SharePoint               \n81   4f96a3b3-f5ae-4706-af77-7984baf27d79     File  SharePoint               \n86   94823fb0-11d5-4424-b933-8663eafa73a3     File  SharePoint               \n104  4f96a3b3-f5ae-4706-af77-7984baf27d79     File  SharePoint               \n103  4f96a3b3-f5ae-4706-af77-7984baf27d79     File  SharePoint               \n102  4f96a3b3-f5ae-4706-af77-7984baf27d79     File  SharePoint               \n97   4f96a3b3-f5ae-4706-af77-7984baf27d79     File  SharePoint               \n96   4f96a3b3-f5ae-4706-af77-7984baf27d79     File  SharePoint               \n98   4f96a3b3-f5ae-4706-af77-7984baf27d79     File  SharePoint               \n95   4f96a3b3-f5ae-4706-af77-7984baf27d79     File  SharePoint               \n101  4f96a3b3-f5ae-4706-af77-7984baf27d79     File  SharePoint               \n100  4f96a3b3-f5ae-4706-af77-7984baf27d79     File  SharePoint               \n94   4f96a3b3-f5ae-4706-af77-7984baf27d79     File  SharePoint               \n92   4f96a3b3-f5ae-4706-af77-7984baf27d79     File  SharePoint               \n93   4f96a3b3-f5ae-4706-af77-7984baf27d79     File  SharePoint               \n99   4f96a3b3-f5ae-4706-af77-7984baf27d79     File  SharePoint               \n68                                                                           \n76                                                                           \n67                                                                           \n58   4f96a3b3-f5ae-4706-af77-7984baf27d79     File  SharePoint               \n31   4f96a3b3-f5ae-4706-af77-7984baf27d79     File  SharePoint               \n56   4f96a3b3-f5ae-4706-af77-7984baf27d79     File  SharePoint               \n30   4f96a3b3-f5ae-4706-af77-7984baf27d79     Page  SharePoint               \n57   4f96a3b3-f5ae-4706-af77-7984baf27d79     File  SharePoint               \n55   4f96a3b3-f5ae-4706-af77-7984baf27d79     File  SharePoint               \n54   4f96a3b3-f5ae-4706-af77-7984baf27d79     File  SharePoint               \n4    4f96a3b3-f5ae-4706-af77-7984baf27d79     File  SharePoint               \n5    4f96a3b3-f5ae-4706-af77-7984baf27d79     File  SharePoint               \n6    4f96a3b3-f5ae-4706-af77-7984baf27d79     File  SharePoint               \n7    94823fb0-11d5-4424-b933-8663eafa73a3     File  SharePoint               \n53   4f96a3b3-f5ae-4706-af77-7984baf27d79     File  SharePoint               \n29   4f96a3b3-f5ae-4706-af77-7984baf27d79     File  SharePoint               \n52   4f96a3b3-f5ae-4706-af77-7984baf27d79     File  SharePoint               \n28   4f96a3b3-f5ae-4706-af77-7984baf27d79     File  SharePoint               \n51   4f96a3b3-f5ae-4706-af77-7984baf27d79     File  SharePoint               \n50   4f96a3b3-f5ae-4706-af77-7984baf27d79     File  SharePoint               \n27   4f96a3b3-f5ae-4706-af77-7984baf27d79     File  SharePoint               \n49   4f96a3b3-f5ae-4706-af77-7984baf27d79     File  SharePoint               \n25   4f96a3b3-f5ae-4706-af77-7984baf27d79     File  SharePoint               \n26   4f96a3b3-f5ae-4706-af77-7984baf27d79     File  SharePoint               \n47   4f96a3b3-f5ae-4706-af77-7984baf27d79     File  SharePoint               \n48   4f96a3b3-f5ae-4706-af77-7984baf27d79     File  SharePoint               \n24   4f96a3b3-f5ae-4706-af77-7984baf27d79     File  SharePoint               \n23   4f96a3b3-f5ae-4706-af77-7984baf27d79     File  SharePoint               \n46   4f96a3b3-f5ae-4706-af77-7984baf27d79     File  SharePoint               \n22   4f96a3b3-f5ae-4706-af77-7984baf27d79     File  SharePoint               \n45   4f96a3b3-f5ae-4706-af77-7984baf27d79     File  SharePoint               \n21   4f96a3b3-f5ae-4706-af77-7984baf27d79     File  SharePoint               \n20   4f96a3b3-f5ae-4706-af77-7984baf27d79     File  SharePoint               \n44   4f96a3b3-f5ae-4706-af77-7984baf27d79     File  SharePoint               \n43   4f96a3b3-f5ae-4706-af77-7984baf27d79     File  SharePoint               \n19   4f96a3b3-f5ae-4706-af77-7984baf27d79     File  SharePoint               \n42   4f96a3b3-f5ae-4706-af77-7984baf27d79     File  SharePoint               \n18   4f96a3b3-f5ae-4706-af77-7984baf27d79     File  SharePoint               \n41   4f96a3b3-f5ae-4706-af77-7984baf27d79     File  SharePoint               \n17   4f96a3b3-f5ae-4706-af77-7984baf27d79     File  SharePoint               \n40   4f96a3b3-f5ae-4706-af77-7984baf27d79     File  SharePoint               \n16   4f96a3b3-f5ae-4706-af77-7984baf27d79     File  SharePoint               \n39   4f96a3b3-f5ae-4706-af77-7984baf27d79     File  SharePoint               \n14   4f96a3b3-f5ae-4706-af77-7984baf27d79     File  SharePoint               \n15   4f96a3b3-f5ae-4706-af77-7984baf27d79     File  SharePoint               \n38   4f96a3b3-f5ae-4706-af77-7984baf27d79     File  SharePoint               \n13   4f96a3b3-f5ae-4706-af77-7984baf27d79     File  SharePoint               \n37   4f96a3b3-f5ae-4706-af77-7984baf27d79     File  SharePoint               \n36   4f96a3b3-f5ae-4706-af77-7984baf27d79     File  SharePoint               \n12   4f96a3b3-f5ae-4706-af77-7984baf27d79     File  SharePoint               \n35   4f96a3b3-f5ae-4706-af77-7984baf27d79     File  SharePoint               \n11   4f96a3b3-f5ae-4706-af77-7984baf27d79     File  SharePoint               \n34   4f96a3b3-f5ae-4706-af77-7984baf27d79     File  SharePoint               \n3    4f96a3b3-f5ae-4706-af77-7984baf27d79     File  SharePoint               \n10   4f96a3b3-f5ae-4706-af77-7984baf27d79     File  SharePoint               \n33   4f96a3b3-f5ae-4706-af77-7984baf27d79     File  SharePoint               \n9    4f96a3b3-f5ae-4706-af77-7984baf27d79     File  SharePoint               \n8    4f96a3b3-f5ae-4706-af77-7984baf27d79     File  SharePoint               \n2    4f96a3b3-f5ae-4706-af77-7984baf27d79     File  SharePoint               \n32   4f96a3b3-f5ae-4706-af77-7984baf27d79     File  SharePoint               \n1    4f96a3b3-f5ae-4706-af77-7984baf27d79     File  SharePoint               \n\n                                                                                               UserAgent  \\\n90   Mozilla/5.0 (Windows NT 10.0; Win64; x64) AppleWebKit/537.36 (KHTML, like Gecko) Chrome/64.0.328...   \n89   Mozilla/5.0 (Windows NT 10.0; Win64; x64) AppleWebKit/537.36 (KHTML, like Gecko) Chrome/64.0.328...   \n91                                                                                                 MSWAC   \n84                                                                                                 MSWAC   \n88                                                                                                 MSWAC   \n85   Mozilla/5.0 (Windows NT 10.0; Win64; x64) AppleWebKit/537.36 (KHTML, like Gecko) Chrome/64.0.328...   \n87                                                                                                 MSWAC   \n80   Mozilla/5.0 (Windows NT 10.0; Win64; x64) AppleWebKit/537.36 (KHTML, like Gecko) Chrome/64.0.328...   \n83   Mozilla/5.0 (Windows NT 10.0; Win64; x64) AppleWebKit/537.36 (KHTML, like Gecko) Chrome/64.0.328...   \n82   Mozilla/5.0 (Windows NT 10.0; Win64; x64) AppleWebKit/537.36 (KHTML, like Gecko) Chrome/64.0.328...   \n81   Mozilla/5.0 (Windows NT 10.0; Win64; x64) AppleWebKit/537.36 (KHTML, like Gecko) Chrome/64.0.328...   \n86   Mozilla/5.0 (Windows NT 10.0; Win64; x64) AppleWebKit/537.36 (KHTML, like Gecko) Chrome/64.0.328...   \n104  Mozilla/5.0 (Windows NT 10.0; Win64; x64) AppleWebKit/537.36 (KHTML, like Gecko) Chrome/64.0.328...   \n103  Mozilla/5.0 (Windows NT 10.0; Win64; x64) AppleWebKit/537.36 (KHTML, like Gecko) Chrome/64.0.328...   \n102                                                                                                MSWAC   \n97                                                                                                 MSWAC   \n96   Mozilla/5.0 (Windows NT 10.0; Win64; x64) AppleWebKit/537.36 (KHTML, like Gecko) Chrome/64.0.328...   \n98                                                                                                 MSWAC   \n95                                                                                                 MSWAC   \n101  Mozilla/5.0 (Windows NT 10.0; Win64; x64) AppleWebKit/537.36 (KHTML, like Gecko) Chrome/64.0.328...   \n100  Mozilla/5.0 (Windows NT 10.0; Win64; x64) AppleWebKit/537.36 (KHTML, like Gecko) Chrome/64.0.328...   \n94                                                                                                 MSWAC   \n92                                                                                                 MSWAC   \n93                                                                                                 MSWAC   \n99   Mozilla/5.0 (Windows NT 10.0; Win64; x64) AppleWebKit/537.36 (KHTML, like Gecko) Chrome/64.0.328...   \n68                                                                                                         \n76                                                                                                         \n67                                                                                                         \n58   Mozilla/5.0 (Windows NT 10.0; Win64; x64) AppleWebKit/537.36 (KHTML, like Gecko) Chrome/61.0.316...   \n31   Mozilla/5.0 (Windows NT 10.0; Win64; x64) AppleWebKit/537.36 (KHTML, like Gecko) Chrome/61.0.316...   \n56   Mozilla/5.0 (Windows NT 10.0; Win64; x64) AppleWebKit/537.36 (KHTML, like Gecko) Chrome/61.0.316...   \n30   Mozilla/5.0 (Windows NT 10.0; Win64; x64) AppleWebKit/537.36 (KHTML, like Gecko) Chrome/61.0.316...   \n57                                                                                       OneDriveMpc/1.0   \n55                                                                                       OneDriveMpc/1.0   \n54                                                                                       OneDriveMpc/1.0   \n4    Mozilla/5.0 (Windows NT 10.0; Win64; x64) AppleWebKit/537.36 (KHTML, like Gecko) Chrome/61.0.316...   \n5    Mozilla/5.0 (Windows NT 10.0; Win64; x64) AppleWebKit/537.36 (KHTML, like Gecko) Chrome/61.0.316...   \n6    Mozilla/5.0 (Windows NT 10.0; Win64; x64) AppleWebKit/537.36 (KHTML, like Gecko) Chrome/61.0.316...   \n7    Mozilla/5.0 (Windows NT 10.0; Win64; x64) AppleWebKit/537.36 (KHTML, like Gecko) Chrome/61.0.316...   \n53                                                                                       OneDriveMpc/1.0   \n29                                                                                       OneDriveMpc/1.0   \n52                                                                                       OneDriveMpc/1.0   \n28                                                                                       OneDriveMpc/1.0   \n51                                                                                       OneDriveMpc/1.0   \n50                                                                                       OneDriveMpc/1.0   \n27                                                                                       OneDriveMpc/1.0   \n49                                                                                       OneDriveMpc/1.0   \n25                                                                                       OneDriveMpc/1.0   \n26                                                                                       OneDriveMpc/1.0   \n47                                                                                       OneDriveMpc/1.0   \n48                                                                                       OneDriveMpc/1.0   \n24                                                                                       OneDriveMpc/1.0   \n23                                                                                       OneDriveMpc/1.0   \n46                                                                                       OneDriveMpc/1.0   \n22                                                                                       OneDriveMpc/1.0   \n45                                                                                       OneDriveMpc/1.0   \n21                                                                                       OneDriveMpc/1.0   \n20                                                                                       OneDriveMpc/1.0   \n44                                                                                       OneDriveMpc/1.0   \n43                                                                                       OneDriveMpc/1.0   \n19                                                                                       OneDriveMpc/1.0   \n42                                                                                       OneDriveMpc/1.0   \n18                                                                                       OneDriveMpc/1.0   \n41                                                                                       OneDriveMpc/1.0   \n17                                                                                       OneDriveMpc/1.0   \n40                                                                                       OneDriveMpc/1.0   \n16                                                                                       OneDriveMpc/1.0   \n39                                                                                       OneDriveMpc/1.0   \n14                                                                                       OneDriveMpc/1.0   \n15                                                                                       OneDriveMpc/1.0   \n38                                                                                       OneDriveMpc/1.0   \n13                                                                                       OneDriveMpc/1.0   \n37                                                                                       OneDriveMpc/1.0   \n36                                                                                       OneDriveMpc/1.0   \n12                                                                                       OneDriveMpc/1.0   \n35                                                                                       OneDriveMpc/1.0   \n11                                                                                       OneDriveMpc/1.0   \n34                                                                                       OneDriveMpc/1.0   \n3                                                                                        OneDriveMpc/1.0   \n10                                                                                       OneDriveMpc/1.0   \n33                                                                                       OneDriveMpc/1.0   \n9                                                                                        OneDriveMpc/1.0   \n8                                                                                        OneDriveMpc/1.0   \n2                                                                                        OneDriveMpc/1.0   \n32                                                                                       OneDriveMpc/1.0   \n1                                                                                        OneDriveMpc/1.0   \n\n    MachineDomainInfo MachineId  \\\n90                                \n89                                \n91                                \n84                                \n88                                \n85                                \n87                                \n80                                \n83                                \n82                                \n81                                \n86                                \n104                               \n103                               \n102                               \n97                                \n96                                \n98                                \n95                                \n101                               \n100                               \n94                                \n92                                \n93                                \n99                                \n68                                \n76                                \n67                                \n58                                \n31                                \n56                                \n30                                \n57                                \n55                                \n54                                \n4                                 \n5                                 \n6                                 \n7                                 \n53                                \n29                                \n52                                \n28                                \n51                                \n50                                \n27                                \n49                                \n25                                \n26                                \n47                                \n48                                \n24                                \n23                                \n46                                \n22                                \n45                                \n21                                \n20                                \n44                                \n43                                \n19                                \n42                                \n18                                \n41                                \n17                                \n40                                \n16                                \n39                                \n14                                \n15                                \n38                                \n13                                \n37                                \n36                                \n12                                \n35                                \n11                                \n34                                \n3                                 \n10                                \n33                                \n9                                 \n8                                 \n2                                 \n32                                \n1                                 \n\n                                                                             Site_Url  \\\n90   https://m365x054215-my.sharepoint.com/personal/ianh_m365x054215_onmicrosoft_com/   \n89   https://m365x054215-my.sharepoint.com/personal/ianh_m365x054215_onmicrosoft_com/   \n91   https://m365x054215-my.sharepoint.com/personal/ianh_m365x054215_onmicrosoft_com/   \n84   https://m365x054215-my.sharepoint.com/personal/ianh_m365x054215_onmicrosoft_com/   \n88   https://m365x054215-my.sharepoint.com/personal/ianh_m365x054215_onmicrosoft_com/   \n85   https://m365x054215-my.sharepoint.com/personal/ianh_m365x054215_onmicrosoft_com/   \n87   https://m365x054215-my.sharepoint.com/personal/ianh_m365x054215_onmicrosoft_com/   \n80                                                                                      \n83   https://m365x054215-my.sharepoint.com/personal/ianh_m365x054215_onmicrosoft_com/   \n82   https://m365x054215-my.sharepoint.com/personal/ianh_m365x054215_onmicrosoft_com/   \n81   https://m365x054215-my.sharepoint.com/personal/ianh_m365x054215_onmicrosoft_com/   \n86                                             https://m365x054215-my.sharepoint.com/   \n104  https://m365x054215-my.sharepoint.com/personal/ianh_m365x054215_onmicrosoft_com/   \n103  https://m365x054215-my.sharepoint.com/personal/ianh_m365x054215_onmicrosoft_com/   \n102  https://m365x054215-my.sharepoint.com/personal/ianh_m365x054215_onmicrosoft_com/   \n97   https://m365x054215-my.sharepoint.com/personal/ianh_m365x054215_onmicrosoft_com/   \n96   https://m365x054215-my.sharepoint.com/personal/ianh_m365x054215_onmicrosoft_com/   \n98   https://m365x054215-my.sharepoint.com/personal/ianh_m365x054215_onmicrosoft_com/   \n95   https://m365x054215-my.sharepoint.com/personal/ianh_m365x054215_onmicrosoft_com/   \n101  https://m365x054215-my.sharepoint.com/personal/ianh_m365x054215_onmicrosoft_com/   \n100  https://m365x054215-my.sharepoint.com/personal/ianh_m365x054215_onmicrosoft_com/   \n94   https://m365x054215-my.sharepoint.com/personal/ianh_m365x054215_onmicrosoft_com/   \n92   https://m365x054215-my.sharepoint.com/personal/ianh_m365x054215_onmicrosoft_com/   \n93   https://m365x054215-my.sharepoint.com/personal/ianh_m365x054215_onmicrosoft_com/   \n99   https://m365x054215-my.sharepoint.com/personal/ianh_m365x054215_onmicrosoft_com/   \n68                                                                                      \n76                                                                                      \n67                                                                                      \n58   https://m365x054215-my.sharepoint.com/personal/ianh_m365x054215_onmicrosoft_com/   \n31   https://m365x054215-my.sharepoint.com/personal/ianh_m365x054215_onmicrosoft_com/   \n56   https://m365x054215-my.sharepoint.com/personal/ianh_m365x054215_onmicrosoft_com/   \n30                                                                                      \n57   https://m365x054215-my.sharepoint.com/personal/ianh_m365x054215_onmicrosoft_com/   \n55   https://m365x054215-my.sharepoint.com/personal/ianh_m365x054215_onmicrosoft_com/   \n54   https://m365x054215-my.sharepoint.com/personal/ianh_m365x054215_onmicrosoft_com/   \n4    https://m365x054215-my.sharepoint.com/personal/ianh_m365x054215_onmicrosoft_com/   \n5    https://m365x054215-my.sharepoint.com/personal/ianh_m365x054215_onmicrosoft_com/   \n6    https://m365x054215-my.sharepoint.com/personal/ianh_m365x054215_onmicrosoft_com/   \n7                                              https://m365x054215-my.sharepoint.com/   \n53   https://m365x054215-my.sharepoint.com/personal/ianh_m365x054215_onmicrosoft_com/   \n29   https://m365x054215-my.sharepoint.com/personal/ianh_m365x054215_onmicrosoft_com/   \n52   https://m365x054215-my.sharepoint.com/personal/ianh_m365x054215_onmicrosoft_com/   \n28   https://m365x054215-my.sharepoint.com/personal/ianh_m365x054215_onmicrosoft_com/   \n51   https://m365x054215-my.sharepoint.com/personal/ianh_m365x054215_onmicrosoft_com/   \n50   https://m365x054215-my.sharepoint.com/personal/ianh_m365x054215_onmicrosoft_com/   \n27   https://m365x054215-my.sharepoint.com/personal/ianh_m365x054215_onmicrosoft_com/   \n49   https://m365x054215-my.sharepoint.com/personal/ianh_m365x054215_onmicrosoft_com/   \n25   https://m365x054215-my.sharepoint.com/personal/ianh_m365x054215_onmicrosoft_com/   \n26   https://m365x054215-my.sharepoint.com/personal/ianh_m365x054215_onmicrosoft_com/   \n47   https://m365x054215-my.sharepoint.com/personal/ianh_m365x054215_onmicrosoft_com/   \n48   https://m365x054215-my.sharepoint.com/personal/ianh_m365x054215_onmicrosoft_com/   \n24   https://m365x054215-my.sharepoint.com/personal/ianh_m365x054215_onmicrosoft_com/   \n23   https://m365x054215-my.sharepoint.com/personal/ianh_m365x054215_onmicrosoft_com/   \n46   https://m365x054215-my.sharepoint.com/personal/ianh_m365x054215_onmicrosoft_com/   \n22   https://m365x054215-my.sharepoint.com/personal/ianh_m365x054215_onmicrosoft_com/   \n45   https://m365x054215-my.sharepoint.com/personal/ianh_m365x054215_onmicrosoft_com/   \n21   https://m365x054215-my.sharepoint.com/personal/ianh_m365x054215_onmicrosoft_com/   \n20   https://m365x054215-my.sharepoint.com/personal/ianh_m365x054215_onmicrosoft_com/   \n44   https://m365x054215-my.sharepoint.com/personal/ianh_m365x054215_onmicrosoft_com/   \n43   https://m365x054215-my.sharepoint.com/personal/ianh_m365x054215_onmicrosoft_com/   \n19   https://m365x054215-my.sharepoint.com/personal/ianh_m365x054215_onmicrosoft_com/   \n42   https://m365x054215-my.sharepoint.com/personal/ianh_m365x054215_onmicrosoft_com/   \n18   https://m365x054215-my.sharepoint.com/personal/ianh_m365x054215_onmicrosoft_com/   \n41   https://m365x054215-my.sharepoint.com/personal/ianh_m365x054215_onmicrosoft_com/   \n17   https://m365x054215-my.sharepoint.com/personal/ianh_m365x054215_onmicrosoft_com/   \n40   https://m365x054215-my.sharepoint.com/personal/ianh_m365x054215_onmicrosoft_com/   \n16   https://m365x054215-my.sharepoint.com/personal/ianh_m365x054215_onmicrosoft_com/   \n39   https://m365x054215-my.sharepoint.com/personal/ianh_m365x054215_onmicrosoft_com/   \n14   https://m365x054215-my.sharepoint.com/personal/ianh_m365x054215_onmicrosoft_com/   \n15   https://m365x054215-my.sharepoint.com/personal/ianh_m365x054215_onmicrosoft_com/   \n38   https://m365x054215-my.sharepoint.com/personal/ianh_m365x054215_onmicrosoft_com/   \n13   https://m365x054215-my.sharepoint.com/personal/ianh_m365x054215_onmicrosoft_com/   \n37   https://m365x054215-my.sharepoint.com/personal/ianh_m365x054215_onmicrosoft_com/   \n36   https://m365x054215-my.sharepoint.com/personal/ianh_m365x054215_onmicrosoft_com/   \n12   https://m365x054215-my.sharepoint.com/personal/ianh_m365x054215_onmicrosoft_com/   \n35   https://m365x054215-my.sharepoint.com/personal/ianh_m365x054215_onmicrosoft_com/   \n11   https://m365x054215-my.sharepoint.com/personal/ianh_m365x054215_onmicrosoft_com/   \n34   https://m365x054215-my.sharepoint.com/personal/ianh_m365x054215_onmicrosoft_com/   \n3    https://m365x054215-my.sharepoint.com/personal/ianh_m365x054215_onmicrosoft_com/   \n10   https://m365x054215-my.sharepoint.com/personal/ianh_m365x054215_onmicrosoft_com/   \n33   https://m365x054215-my.sharepoint.com/personal/ianh_m365x054215_onmicrosoft_com/   \n9    https://m365x054215-my.sharepoint.com/personal/ianh_m365x054215_onmicrosoft_com/   \n8    https://m365x054215-my.sharepoint.com/personal/ianh_m365x054215_onmicrosoft_com/   \n2    https://m365x054215-my.sharepoint.com/personal/ianh_m365x054215_onmicrosoft_com/   \n32   https://m365x054215-my.sharepoint.com/personal/ianh_m365x054215_onmicrosoft_com/   \n1    https://m365x054215-my.sharepoint.com/personal/ianh_m365x054215_onmicrosoft_com/   \n\n                                 SourceRelativeUrl  \\\n90                                       Documents   \n89                                       Documents   \n91                                       Documents   \n84                                       Documents   \n88                                       Documents   \n85                                       Documents   \n87                                       Documents   \n80                                                   \n83                                 Documents/Forms   \n82                                 Documents/Forms   \n81                                 Documents/Forms   \n86                    User Photos/Profile Pictures   \n104                                      Documents   \n103                                      Documents   \n102                                      Documents   \n97                                       Documents   \n96                                       Documents   \n98                                       Documents   \n95                                       Documents   \n101                                      Documents   \n100                                      Documents   \n94                                       Documents   \n92                                       Documents   \n93                                       Documents   \n99                                       Documents   \n68                                                   \n76                                                   \n67                                                   \n58                                       Documents   \n31                                       Documents   \n56                                       Documents   \n30                                                   \n57                                       Documents   \n55                                       Documents   \n54                                       Documents   \n4                                  Documents/Forms   \n5                                  Documents/Forms   \n6                                  Documents/Forms   \n7                     User Photos/Profile Pictures   \n53                                       Documents   \n29                     Documents/Documents/Absynth   \n52                     Documents/Documents/Absynth   \n28                     Documents/Documents/Absynth   \n51                     Documents/Documents/Absynth   \n50                     Documents/Documents/Absynth   \n27                     Documents/Documents/Absynth   \n49                     Documents/Documents/Absynth   \n25                     Documents/Documents/Absynth   \n26                     Documents/Documents/Absynth   \n47                     Documents/Documents/Manuals   \n48                     Documents/Documents/Absynth   \n24                     Documents/Documents/Manuals   \n23                     Documents/Documents/Manuals   \n46                     Documents/Documents/Manuals   \n22                     Documents/Documents/Manuals   \n45                     Documents/Documents/Manuals   \n21                     Documents/Documents/Massive   \n20   Documents/Documents/Massive/License Agreement   \n44   Documents/Documents/Massive/License Agreement   \n43   Documents/Documents/Massive/License Agreement   \n19   Documents/Documents/Massive/License Agreement   \n42   Documents/Documents/Massive/License Agreement   \n18   Documents/Documents/Massive/License Agreement   \n41                     Documents/Documents/Massive   \n17                     Documents/Documents/Massive   \n40                     Documents/Documents/Massive   \n16                     Documents/Documents/Massive   \n39                     Documents/Documents/Massive   \n14                     Documents/Documents/Massive   \n15                     Documents/Documents/Massive   \n38                     Documents/Documents/Massive   \n13                     Documents/Documents/Massive   \n37                     Documents/Documents/Massive   \n36                     Documents/Documents/Massive   \n12                     Documents/Documents/Massive   \n35                     Documents/Documents/Massive   \n11                     Documents/Documents/Massive   \n34                     Documents/Documents/Massive   \n3                      Documents/Documents/Massive   \n10                     Documents/Documents/Massive   \n33                     Documents/Documents/Massive   \n9                                        Documents   \n8                                        Documents   \n2                                        Documents   \n32                                       Documents   \n1                                        Documents   \n\n                                  SourceFileName SourceFileExtension  \\\n90                                 Document.docx                docx   \n89                                 Document.docx                docx   \n91                                 Document.docx                docx   \n84                                 Document.docx                docx   \n88                     Terms and Conditions.docx                docx   \n85                     Terms and Conditions.docx                docx   \n87                     Terms and Conditions.docx                docx   \n80                                                                     \n83                                   Upload.aspx                aspx   \n82                                 EditForm.aspx                aspx   \n81                                 DispForm.aspx                aspx   \n86   ianh_m365x054215_onmicrosoft_com_SThumb.jpg                 jpg   \n104                               Document1.docx                docx   \n103                               Document1.docx                docx   \n102                               Document1.docx                docx   \n97                                Document1.docx                docx   \n96                           Extended Terms.docx                docx   \n98                           Extended Terms.docx                docx   \n95                           Extended Terms.docx                docx   \n101                                    Book.xlsx                xlsx   \n100                                    Book.xlsx                xlsx   \n94                                     Book.xlsx                xlsx   \n92                                     Book.xlsx                xlsx   \n93                              Budget 2019.xlsx                xlsx   \n99                              Budget 2019.xlsx                xlsx   \n68                                                                     \n76                                                                     \n67                                                                     \n58                     Terms and Conditions.docx                docx   \n31                                 Document.docx                docx   \n56                                Document1.docx                docx   \n30                                                                     \n57                                 Document.docx                docx   \n55                     Terms and Conditions.docx                docx   \n54                                Document1.docx                docx   \n4                                  DispForm.aspx                aspx   \n5                                  EditForm.aspx                aspx   \n6                                    Upload.aspx                aspx   \n7    ianh_m365x054215_onmicrosoft_com_SThumb.jpg                 jpg   \n53                                     Book.xlsx                xlsx   \n29         Absynth 5 Getting Started English.pdf                 pdf   \n52          Absynth 5 Getting Started French.pdf                 pdf   \n28          Absynth 5 Getting Started German.pdf                 pdf   \n51        Absynth 5 Getting Started Japanese.pdf                 pdf   \n50         Absynth 5 Manual Addendum English.pdf                 pdf   \n27         Absynth 5 Getting Started Spanish.pdf                 pdf   \n49          Absynth 5 Manual Addendum German.pdf                 pdf   \n25        Absynth 5 Manual Addendum Japanese.pdf                 pdf   \n26          Absynth 5 Manual Addendum French.pdf                 pdf   \n47              Nakamichi_480_service_manual.pdf                 pdf   \n48         Absynth 5 Manual Addendum Spanish.pdf                 pdf   \n24                        MAudio-KS61ES_EN01.pdf                 pdf   \n23              Nakamichi_480_service_manual.pdf                 pdf   \n46            Nakamichi_CDP-2_service_manual.pdf                 pdf   \n22            Nakamichi_CDP-2_service_manual.pdf                 pdf   \n45             Nakamichi_CR-3_service_manual.pdf                 pdf   \n21     Massive 1.1.4 Manual Addendum English.pdf                 pdf   \n20           EULA Native Instruments deutsch.rtf                 rtf   \n44           EULA Native Instruments deutsch.rtf                 rtf   \n43           EULA Native Instruments English.rtf                 rtf   \n19           EULA Native Instruments English.rtf                 rtf   \n42          EULA Native Instruments Japanese.rtf                 rtf   \n18          EULA Native Instruments Japanese.rtf                 rtf   \n41           Massive Getting Started English.pdf                 pdf   \n17            Massive Getting Started French.pdf                 pdf   \n40            Massive Getting Started German.pdf                 pdf   \n16          Massive Getting Started Japanese.pdf                 pdf   \n39           Massive Getting Started Spanish.pdf                 pdf   \n14            Massive Manual Addendum German.pdf                 pdf   \n15           Massive Manual Addendum English.pdf                 pdf   \n38            Massive Manual Addendum French.pdf                 pdf   \n13           Massive Manual Addendum Spanish.pdf                 pdf   \n37          Massive Manual Addendum Japanese.pdf                 pdf   \n36                    Massive Manual English.pdf                 pdf   \n12                     Massive Manual French.pdf                 pdf   \n35                     Massive Manual German.pdf                 pdf   \n11                   Massive Manual Japanese.pdf                 pdf   \n34                   Massive Manual Japanese.pdf                 pdf   \n3                    Massive Manual Japanese.pdf                 pdf   \n10                    Massive Manual Spanish.pdf                 pdf   \n33                                    Readme.txt                 txt   \n9                                  Document.docx                docx   \n8                      Terms and Conditions.docx                docx   \n2                               Budget 2019.xlsx                xlsx   \n32                                Document1.docx                docx   \n1                            Extended Terms.docx                docx   \n\n    DestinationRelativeUrl DestinationFileName  ... LoginStatus UserDomain  \\\n90                                              ...         NaN              \n89                                              ...         NaN              \n91                                              ...         NaN              \n84                                              ...         NaN              \n88                                              ...         NaN              \n85                                              ...         NaN              \n87                                              ...         NaN              \n80                                              ...         NaN              \n83                                              ...         NaN              \n82                                              ...         NaN              \n81                                              ...         NaN              \n86                                              ...         NaN              \n104                                             ...         NaN              \n103                                             ...         NaN              \n102                                             ...         NaN              \n97                                              ...         NaN              \n96                                              ...         NaN              \n98                                              ...         NaN              \n95                                              ...         NaN              \n101                                             ...         NaN              \n100                                             ...         NaN              \n94                                              ...         NaN              \n92                                              ...         NaN              \n93                                              ...         NaN              \n99                                              ...         NaN              \n68                                              ...         NaN              \n76                                              ...         NaN              \n67                                              ...         NaN              \n58                                              ...         NaN              \n31                                              ...         NaN              \n56                                              ...         NaN              \n30                                              ...         NaN              \n57                                              ...         NaN              \n55                                              ...         NaN              \n54                                              ...         NaN              \n4                                               ...         NaN              \n5                                               ...         NaN              \n6                                               ...         NaN              \n7                                               ...         NaN              \n53                                              ...         NaN              \n29                                              ...         NaN              \n52                                              ...         NaN              \n28                                              ...         NaN              \n51                                              ...         NaN              \n50                                              ...         NaN              \n27                                              ...         NaN              \n49                                              ...         NaN              \n25                                              ...         NaN              \n26                                              ...         NaN              \n47                                              ...         NaN              \n48                                              ...         NaN              \n24                                              ...         NaN              \n23                                              ...         NaN              \n46                                              ...         NaN              \n22                                              ...         NaN              \n45                                              ...         NaN              \n21                                              ...         NaN              \n20                                              ...         NaN              \n44                                              ...         NaN              \n43                                              ...         NaN              \n19                                              ...         NaN              \n42                                              ...         NaN              \n18                                              ...         NaN              \n41                                              ...         NaN              \n17                                              ...         NaN              \n40                                              ...         NaN              \n16                                              ...         NaN              \n39                                              ...         NaN              \n14                                              ...         NaN              \n15                                              ...         NaN              \n38                                              ...         NaN              \n13                                              ...         NaN              \n37                                              ...         NaN              \n36                                              ...         NaN              \n12                                              ...         NaN              \n35                                              ...         NaN              \n11                                              ...         NaN              \n34                                              ...         NaN              \n3                                               ...         NaN              \n10                                              ...         NaN              \n33                                              ...         NaN              \n9                                               ...         NaN              \n8                                               ...         NaN              \n2                                               ...         NaN              \n32                                              ...         NaN              \n1                                               ...         NaN              \n\n                                                                                                   Actor  \\\n90                                                                                                         \n89                                                                                                         \n91                                                                                                         \n84                                                                                                         \n88                                                                                                         \n85                                                                                                         \n87                                                                                                         \n80                                                                                                         \n83                                                                                                         \n82                                                                                                         \n81                                                                                                         \n86                                                                                                         \n104                                                                                                        \n103                                                                                                        \n102                                                                                                        \n97                                                                                                         \n96                                                                                                         \n98                                                                                                         \n95                                                                                                         \n101                                                                                                        \n100                                                                                                        \n94                                                                                                         \n92                                                                                                         \n93                                                                                                         \n99                                                                                                         \n68   [\\r\\n  {\\r\\n    \"ID\": \"6e68fbc9-9ce3-4f4a-b2d4-45f52067c122\",\\r\\n    \"Type\": 0\\r\\n  },\\r\\n  {\\r\\...   \n76   [\\r\\n  {\\r\\n    \"ID\": \"6e68fbc9-9ce3-4f4a-b2d4-45f52067c122\",\\r\\n    \"Type\": 0\\r\\n  },\\r\\n  {\\r\\...   \n67   [\\r\\n  {\\r\\n    \"ID\": \"6e68fbc9-9ce3-4f4a-b2d4-45f52067c122\",\\r\\n    \"Type\": 0\\r\\n  },\\r\\n  {\\r\\...   \n58                                                                                                         \n31                                                                                                         \n56                                                                                                         \n30                                                                                                         \n57                                                                                                         \n55                                                                                                         \n54                                                                                                         \n4                                                                                                          \n5                                                                                                          \n6                                                                                                          \n7                                                                                                          \n53                                                                                                         \n29                                                                                                         \n52                                                                                                         \n28                                                                                                         \n51                                                                                                         \n50                                                                                                         \n27                                                                                                         \n49                                                                                                         \n25                                                                                                         \n26                                                                                                         \n47                                                                                                         \n48                                                                                                         \n24                                                                                                         \n23                                                                                                         \n46                                                                                                         \n22                                                                                                         \n45                                                                                                         \n21                                                                                                         \n20                                                                                                         \n44                                                                                                         \n43                                                                                                         \n19                                                                                                         \n42                                                                                                         \n18                                                                                                         \n41                                                                                                         \n17                                                                                                         \n40                                                                                                         \n16                                                                                                         \n39                                                                                                         \n14                                                                                                         \n15                                                                                                         \n38                                                                                                         \n13                                                                                                         \n37                                                                                                         \n36                                                                                                         \n12                                                                                                         \n35                                                                                                         \n11                                                                                                         \n34                                                                                                         \n3                                                                                                          \n10                                                                                                         \n33                                                                                                         \n9                                                                                                          \n8                                                                                                          \n2                                                                                                          \n32                                                                                                         \n1                                                                                                          \n\n                           ActorContextId ActorIpAddress  \\\n90                                                         \n89                                                         \n91                                                         \n84                                                         \n88                                                         \n85                                                         \n87                                                         \n80                                                         \n83                                                         \n82                                                         \n81                                                         \n86                                                         \n104                                                        \n103                                                        \n102                                                        \n97                                                         \n96                                                         \n98                                                         \n95                                                         \n101                                                        \n100                                                        \n94                                                         \n92                                                         \n93                                                         \n99                                                         \n68   aa46238d-13fc-4314-8f0c-94044435adb1   23.97.60.214   \n76   aa46238d-13fc-4314-8f0c-94044435adb1   23.97.60.214   \n67   aa46238d-13fc-4314-8f0c-94044435adb1   23.97.60.214   \n58                                                         \n31                                                         \n56                                                         \n30                                                         \n57                                                         \n55                                                         \n54                                                         \n4                                                          \n5                                                          \n6                                                          \n7                                                          \n53                                                         \n29                                                         \n52                                                         \n28                                                         \n51                                                         \n50                                                         \n27                                                         \n49                                                         \n25                                                         \n26                                                         \n47                                                         \n48                                                         \n24                                                         \n23                                                         \n46                                                         \n22                                                         \n45                                                         \n21                                                         \n20                                                         \n44                                                         \n43                                                         \n19                                                         \n42                                                         \n18                                                         \n41                                                         \n17                                                         \n40                                                         \n16                                                         \n39                                                         \n14                                                         \n15                                                         \n38                                                         \n13                                                         \n37                                                         \n36                                                         \n12                                                         \n35                                                         \n11                                                         \n34                                                         \n3                                                          \n10                                                         \n33                                                         \n9                                                          \n8                                                          \n2                                                          \n32                                                         \n1                                                          \n\n                           InterSystemsId  \\\n90                                          \n89                                          \n91                                          \n84                                          \n88                                          \n85                                          \n87                                          \n80                                          \n83                                          \n82                                          \n81                                          \n86                                          \n104                                         \n103                                         \n102                                         \n97                                          \n96                                          \n98                                          \n95                                          \n101                                         \n100                                         \n94                                          \n92                                          \n93                                          \n99                                          \n68   c3d42f80-984c-49e4-84d4-accb5a5a825f   \n76   c3d42f80-984c-49e4-84d4-accb5a5a825f   \n67   c3d42f80-984c-49e4-84d4-accb5a5a825f   \n58                                          \n31                                          \n56                                          \n30                                          \n57                                          \n55                                          \n54                                          \n4                                           \n5                                           \n6                                           \n7                                           \n53                                          \n29                                          \n52                                          \n28                                          \n51                                          \n50                                          \n27                                          \n49                                          \n25                                          \n26                                          \n47                                          \n48                                          \n24                                          \n23                                          \n46                                          \n22                                          \n45                                          \n21                                          \n20                                          \n44                                          \n43                                          \n19                                          \n42                                          \n18                                          \n41                                          \n17                                          \n40                                          \n16                                          \n39                                          \n14                                          \n15                                          \n38                                          \n13                                          \n37                                          \n36                                          \n12                                          \n35                                          \n11                                          \n34                                          \n3                                           \n10                                          \n33                                          \n9                                           \n8                                           \n2                                           \n32                                          \n1                                           \n\n                            IntraSystemId SupportTicketId  \\\n90                                                          \n89                                                          \n91                                                          \n84                                                          \n88                                                          \n85                                                          \n87                                                          \n80                                                          \n83                                                          \n82                                                          \n81                                                          \n86                                                          \n104                                                         \n103                                                         \n102                                                         \n97                                                          \n96                                                          \n98                                                          \n95                                                          \n101                                                         \n100                                                         \n94                                                          \n92                                                          \n93                                                          \n99                                                          \n68   c02218e3-d179-46ac-ac77-c4fd6a320200                   \n76   13b6bf66-c216-4c8c-bcd4-c7761a2e0200                   \n67   919e17a5-9f6c-4bcc-87e5-7bc4a13f0200                   \n58                                                          \n31                                                          \n56                                                          \n30                                                          \n57                                                          \n55                                                          \n54                                                          \n4                                                           \n5                                                           \n6                                                           \n7                                                           \n53                                                          \n29                                                          \n52                                                          \n28                                                          \n51                                                          \n50                                                          \n27                                                          \n49                                                          \n25                                                          \n26                                                          \n47                                                          \n48                                                          \n24                                                          \n23                                                          \n46                                                          \n22                                                          \n45                                                          \n21                                                          \n20                                                          \n44                                                          \n43                                                          \n19                                                          \n42                                                          \n18                                                          \n41                                                          \n17                                                          \n40                                                          \n16                                                          \n39                                                          \n14                                                          \n15                                                          \n38                                                          \n13                                                          \n37                                                          \n36                                                          \n12                                                          \n35                                                          \n11                                                          \n34                                                          \n3                                                           \n10                                                          \n33                                                          \n9                                                           \n8                                                           \n2                                                           \n32                                                          \n1                                                           \n\n                                                                                      AADTarget  \\\n90                                                                                                \n89                                                                                                \n91                                                                                                \n84                                                                                                \n88                                                                                                \n85                                                                                                \n87                                                                                                \n80                                                                                                \n83                                                                                                \n82                                                                                                \n81                                                                                                \n86                                                                                                \n104                                                                                               \n103                                                                                               \n102                                                                                               \n97                                                                                                \n96                                                                                                \n98                                                                                                \n95                                                                                                \n101                                                                                               \n100                                                                                               \n94                                                                                                \n92                                                                                                \n93                                                                                                \n99                                                                                                \n68   [\\r\\n  {\\r\\n    \"ID\": \"00000002-0000-0000-c000-000000000000\",\\r\\n    \"Type\": 0\\r\\n  }\\r\\n]   \n76   [\\r\\n  {\\r\\n    \"ID\": \"00000002-0000-0000-c000-000000000000\",\\r\\n    \"Type\": 0\\r\\n  }\\r\\n]   \n67   [\\r\\n  {\\r\\n    \"ID\": \"00000002-0000-0000-c000-000000000000\",\\r\\n    \"Type\": 0\\r\\n  }\\r\\n]   \n58                                                                                                \n31                                                                                                \n56                                                                                                \n30                                                                                                \n57                                                                                                \n55                                                                                                \n54                                                                                                \n4                                                                                                 \n5                                                                                                 \n6                                                                                                 \n7                                                                                                 \n53                                                                                                \n29                                                                                                \n52                                                                                                \n28                                                                                                \n51                                                                                                \n50                                                                                                \n27                                                                                                \n49                                                                                                \n25                                                                                                \n26                                                                                                \n47                                                                                                \n48                                                                                                \n24                                                                                                \n23                                                                                                \n46                                                                                                \n22                                                                                                \n45                                                                                                \n21                                                                                                \n20                                                                                                \n44                                                                                                \n43                                                                                                \n19                                                                                                \n42                                                                                                \n18                                                                                                \n41                                                                                                \n17                                                                                                \n40                                                                                                \n16                                                                                                \n39                                                                                                \n14                                                                                                \n15                                                                                                \n38                                                                                                \n13                                                                                                \n37                                                                                                \n36                                                                                                \n12                                                                                                \n35                                                                                                \n11                                                                                                \n34                                                                                                \n3                                                                                                 \n10                                                                                                \n33                                                                                                \n9                                                                                                 \n8                                                                                                 \n2                                                                                                 \n32                                                                                                \n1                                                                                                 \n\n                          TargetContextId DataCenterSecurityEventType  \\\n90                                                                NaN   \n89                                                                NaN   \n91                                                                NaN   \n84                                                                NaN   \n88                                                                NaN   \n85                                                                NaN   \n87                                                                NaN   \n80                                                                NaN   \n83                                                                NaN   \n82                                                                NaN   \n81                                                                NaN   \n86                                                                NaN   \n104                                                               NaN   \n103                                                               NaN   \n102                                                               NaN   \n97                                                                NaN   \n96                                                                NaN   \n98                                                                NaN   \n95                                                                NaN   \n101                                                               NaN   \n100                                                               NaN   \n94                                                                NaN   \n92                                                                NaN   \n93                                                                NaN   \n99                                                                NaN   \n68   aa46238d-13fc-4314-8f0c-94044435adb1                         NaN   \n76   aa46238d-13fc-4314-8f0c-94044435adb1                         NaN   \n67   aa46238d-13fc-4314-8f0c-94044435adb1                         NaN   \n58                                                                NaN   \n31                                                                NaN   \n56                                                                NaN   \n30                                                                NaN   \n57                                                                NaN   \n55                                                                NaN   \n54                                                                NaN   \n4                                                                 NaN   \n5                                                                 NaN   \n6                                                                 NaN   \n7                                                                 NaN   \n53                                                                NaN   \n29                                                                NaN   \n52                                                                NaN   \n28                                                                NaN   \n51                                                                NaN   \n50                                                                NaN   \n27                                                                NaN   \n49                                                                NaN   \n25                                                                NaN   \n26                                                                NaN   \n47                                                                NaN   \n48                                                                NaN   \n24                                                                NaN   \n23                                                                NaN   \n46                                                                NaN   \n22                                                                NaN   \n45                                                                NaN   \n21                                                                NaN   \n20                                                                NaN   \n44                                                                NaN   \n43                                                                NaN   \n19                                                                NaN   \n42                                                                NaN   \n18                                                                NaN   \n41                                                                NaN   \n17                                                                NaN   \n40                                                                NaN   \n16                                                                NaN   \n39                                                                NaN   \n14                                                                NaN   \n15                                                                NaN   \n38                                                                NaN   \n13                                                                NaN   \n37                                                                NaN   \n36                                                                NaN   \n12                                                                NaN   \n35                                                                NaN   \n11                                                                NaN   \n34                                                                NaN   \n3                                                                 NaN   \n10                                                                NaN   \n33                                                                NaN   \n9                                                                 NaN   \n8                                                                 NaN   \n2                                                                 NaN   \n32                                                                NaN   \n1                                                                 NaN   \n\n             Start_Time  EffectiveOrganization       ElevationTime  \\\n90  2019-02-16 03:06:18                        2019-02-16 03:06:18   \n89  2019-02-16 03:06:18                        2019-02-16 03:06:18   \n91  2019-02-16 03:06:18                        2019-02-16 03:06:18   \n84  2019-02-16 03:06:18                        2019-02-16 03:06:18   \n88  2019-02-16 03:06:18                        2019-02-16 03:06:18   \n85  2019-02-16 03:06:18                        2019-02-16 03:06:18   \n87  2019-02-16 03:06:18                        2019-02-16 03:06:18   \n80  2019-02-16 03:06:18                        2019-02-16 03:06:18   \n83  2019-02-16 03:06:18                        2019-02-16 03:06:18   \n82  2019-02-16 03:06:18                        2019-02-16 03:06:18   \n81  2019-02-16 03:06:18                        2019-02-16 03:06:18   \n86  2019-02-16 03:06:18                        2019-02-16 03:06:18   \n104 2019-02-16 03:06:18                        2019-02-16 03:06:18   \n103 2019-02-16 03:06:18                        2019-02-16 03:06:18   \n102 2019-02-16 03:06:18                        2019-02-16 03:06:18   \n97  2019-02-16 03:06:18                        2019-02-16 03:06:18   \n96  2019-02-16 03:06:18                        2019-02-16 03:06:18   \n98  2019-02-16 03:06:18                        2019-02-16 03:06:18   \n95  2019-02-16 03:06:18                        2019-02-16 03:06:18   \n101 2019-02-16 03:06:18                        2019-02-16 03:06:18   \n100 2019-02-16 03:06:18                        2019-02-16 03:06:18   \n94  2019-02-16 03:06:18                        2019-02-16 03:06:18   \n92  2019-02-16 03:06:18                        2019-02-16 03:06:18   \n93  2019-02-16 03:06:18                        2019-02-16 03:06:18   \n99  2019-02-16 03:06:18                        2019-02-16 03:06:18   \n68  2019-02-16 04:10:48                        2019-02-16 04:10:48   \n76  2019-02-16 04:10:48                        2019-02-16 04:10:48   \n67  2019-02-16 04:10:48                        2019-02-16 04:10:48   \n58  2019-02-16 03:57:58                        2019-02-16 03:57:58   \n31  2019-02-16 03:57:58                        2019-02-16 03:57:58   \n56  2019-02-16 03:57:58                        2019-02-16 03:57:58   \n30  2019-02-16 03:57:58                        2019-02-16 03:57:58   \n57  2019-02-16 03:57:58                        2019-02-16 03:57:58   \n55  2019-02-16 03:57:58                        2019-02-16 03:57:58   \n54  2019-02-16 03:57:58                        2019-02-16 03:57:58   \n4   2019-02-16 03:57:58                        2019-02-16 03:57:58   \n5   2019-02-16 03:57:58                        2019-02-16 03:57:58   \n6   2019-02-16 03:57:58                        2019-02-16 03:57:58   \n7   2019-02-16 03:57:58                        2019-02-16 03:57:58   \n53  2019-02-16 03:57:58                        2019-02-16 03:57:58   \n29  2019-02-16 03:57:58                        2019-02-16 03:57:58   \n52  2019-02-16 03:57:58                        2019-02-16 03:57:58   \n28  2019-02-16 03:57:58                        2019-02-16 03:57:58   \n51  2019-02-16 03:57:58                        2019-02-16 03:57:58   \n50  2019-02-16 03:57:58                        2019-02-16 03:57:58   \n27  2019-02-16 03:57:58                        2019-02-16 03:57:58   \n49  2019-02-16 03:57:58                        2019-02-16 03:57:58   \n25  2019-02-16 03:57:58                        2019-02-16 03:57:58   \n26  2019-02-16 03:57:58                        2019-02-16 03:57:58   \n47  2019-02-16 03:57:58                        2019-02-16 03:57:58   \n48  2019-02-16 03:57:58                        2019-02-16 03:57:58   \n24  2019-02-16 03:57:58                        2019-02-16 03:57:58   \n23  2019-02-16 03:57:58                        2019-02-16 03:57:58   \n46  2019-02-16 03:57:58                        2019-02-16 03:57:58   \n22  2019-02-16 03:57:58                        2019-02-16 03:57:58   \n45  2019-02-16 03:57:58                        2019-02-16 03:57:58   \n21  2019-02-16 03:57:58                        2019-02-16 03:57:58   \n20  2019-02-16 03:57:58                        2019-02-16 03:57:58   \n44  2019-02-16 03:57:58                        2019-02-16 03:57:58   \n43  2019-02-16 03:57:58                        2019-02-16 03:57:58   \n19  2019-02-16 03:57:58                        2019-02-16 03:57:58   \n42  2019-02-16 03:57:58                        2019-02-16 03:57:58   \n18  2019-02-16 03:57:58                        2019-02-16 03:57:58   \n41  2019-02-16 03:57:58                        2019-02-16 03:57:58   \n17  2019-02-16 03:57:58                        2019-02-16 03:57:58   \n40  2019-02-16 03:57:58                        2019-02-16 03:57:58   \n16  2019-02-16 03:57:58                        2019-02-16 03:57:58   \n39  2019-02-16 03:57:58                        2019-02-16 03:57:58   \n14  2019-02-16 03:57:58                        2019-02-16 03:57:58   \n15  2019-02-16 03:57:58                        2019-02-16 03:57:58   \n38  2019-02-16 03:57:58                        2019-02-16 03:57:58   \n13  2019-02-16 03:57:58                        2019-02-16 03:57:58   \n37  2019-02-16 03:57:58                        2019-02-16 03:57:58   \n36  2019-02-16 03:57:58                        2019-02-16 03:57:58   \n12  2019-02-16 03:57:58                        2019-02-16 03:57:58   \n35  2019-02-16 03:57:58                        2019-02-16 03:57:58   \n11  2019-02-16 03:57:58                        2019-02-16 03:57:58   \n34  2019-02-16 03:57:58                        2019-02-16 03:57:58   \n3   2019-02-16 03:57:58                        2019-02-16 03:57:58   \n10  2019-02-16 03:57:58                        2019-02-16 03:57:58   \n33  2019-02-16 03:57:58                        2019-02-16 03:57:58   \n9   2019-02-16 03:57:58                        2019-02-16 03:57:58   \n8   2019-02-16 03:57:58                        2019-02-16 03:57:58   \n2   2019-02-16 03:57:58                        2019-02-16 03:57:58   \n32  2019-02-16 03:57:58                        2019-02-16 03:57:58   \n1   2019-02-16 03:57:58                        2019-02-16 03:57:58   \n\n    ElevationApprover ElevationApprovedTime ElevationRequestId ElevationRole  \\\n90                                      NaT                                    \n89                                      NaT                                    \n91                                      NaT                                    \n84                                      NaT                                    \n88                                      NaT                                    \n85                                      NaT                                    \n87                                      NaT                                    \n80                                      NaT                                    \n83                                      NaT                                    \n82                                      NaT                                    \n81                                      NaT                                    \n86                                      NaT                                    \n104                                     NaT                                    \n103                                     NaT                                    \n102                                     NaT                                    \n97                                      NaT                                    \n96                                      NaT                                    \n98                                      NaT                                    \n95                                      NaT                                    \n101                                     NaT                                    \n100                                     NaT                                    \n94                                      NaT                                    \n92                                      NaT                                    \n93                                      NaT                                    \n99                                      NaT                                    \n68                                      NaT                                    \n76                                      NaT                                    \n67                                      NaT                                    \n58                                      NaT                                    \n31                                      NaT                                    \n56                                      NaT                                    \n30                                      NaT                                    \n57                                      NaT                                    \n55                                      NaT                                    \n54                                      NaT                                    \n4                                       NaT                                    \n5                                       NaT                                    \n6                                       NaT                                    \n7                                       NaT                                    \n53                                      NaT                                    \n29                                      NaT                                    \n52                                      NaT                                    \n28                                      NaT                                    \n51                                      NaT                                    \n50                                      NaT                                    \n27                                      NaT                                    \n49                                      NaT                                    \n25                                      NaT                                    \n26                                      NaT                                    \n47                                      NaT                                    \n48                                      NaT                                    \n24                                      NaT                                    \n23                                      NaT                                    \n46                                      NaT                                    \n22                                      NaT                                    \n45                                      NaT                                    \n21                                      NaT                                    \n20                                      NaT                                    \n44                                      NaT                                    \n43                                      NaT                                    \n19                                      NaT                                    \n42                                      NaT                                    \n18                                      NaT                                    \n41                                      NaT                                    \n17                                      NaT                                    \n40                                      NaT                                    \n16                                      NaT                                    \n39                                      NaT                                    \n14                                      NaT                                    \n15                                      NaT                                    \n38                                      NaT                                    \n13                                      NaT                                    \n37                                      NaT                                    \n36                                      NaT                                    \n12                                      NaT                                    \n35                                      NaT                                    \n11                                      NaT                                    \n34                                      NaT                                    \n3                                       NaT                                    \n10                                      NaT                                    \n33                                      NaT                                    \n9                                       NaT                                    \n8                                       NaT                                    \n2                                       NaT                                    \n32                                      NaT                                    \n1                                       NaT                                    \n\n    ElevationDuration GenericInfo                              TenantId  \\\n90                NaN              52b1ab41-869e-4138-9e40-2a4457f09bf0   \n89                NaN              52b1ab41-869e-4138-9e40-2a4457f09bf0   \n91                NaN              52b1ab41-869e-4138-9e40-2a4457f09bf0   \n84                NaN              52b1ab41-869e-4138-9e40-2a4457f09bf0   \n88                NaN              52b1ab41-869e-4138-9e40-2a4457f09bf0   \n85                NaN              52b1ab41-869e-4138-9e40-2a4457f09bf0   \n87                NaN              52b1ab41-869e-4138-9e40-2a4457f09bf0   \n80                NaN              52b1ab41-869e-4138-9e40-2a4457f09bf0   \n83                NaN              52b1ab41-869e-4138-9e40-2a4457f09bf0   \n82                NaN              52b1ab41-869e-4138-9e40-2a4457f09bf0   \n81                NaN              52b1ab41-869e-4138-9e40-2a4457f09bf0   \n86                NaN              52b1ab41-869e-4138-9e40-2a4457f09bf0   \n104               NaN              52b1ab41-869e-4138-9e40-2a4457f09bf0   \n103               NaN              52b1ab41-869e-4138-9e40-2a4457f09bf0   \n102               NaN              52b1ab41-869e-4138-9e40-2a4457f09bf0   \n97                NaN              52b1ab41-869e-4138-9e40-2a4457f09bf0   \n96                NaN              52b1ab41-869e-4138-9e40-2a4457f09bf0   \n98                NaN              52b1ab41-869e-4138-9e40-2a4457f09bf0   \n95                NaN              52b1ab41-869e-4138-9e40-2a4457f09bf0   \n101               NaN              52b1ab41-869e-4138-9e40-2a4457f09bf0   \n100               NaN              52b1ab41-869e-4138-9e40-2a4457f09bf0   \n94                NaN              52b1ab41-869e-4138-9e40-2a4457f09bf0   \n92                NaN              52b1ab41-869e-4138-9e40-2a4457f09bf0   \n93                NaN              52b1ab41-869e-4138-9e40-2a4457f09bf0   \n99                NaN              52b1ab41-869e-4138-9e40-2a4457f09bf0   \n68                NaN              52b1ab41-869e-4138-9e40-2a4457f09bf0   \n76                NaN              52b1ab41-869e-4138-9e40-2a4457f09bf0   \n67                NaN              52b1ab41-869e-4138-9e40-2a4457f09bf0   \n58                NaN              52b1ab41-869e-4138-9e40-2a4457f09bf0   \n31                NaN              52b1ab41-869e-4138-9e40-2a4457f09bf0   \n56                NaN              52b1ab41-869e-4138-9e40-2a4457f09bf0   \n30                NaN              52b1ab41-869e-4138-9e40-2a4457f09bf0   \n57                NaN              52b1ab41-869e-4138-9e40-2a4457f09bf0   \n55                NaN              52b1ab41-869e-4138-9e40-2a4457f09bf0   \n54                NaN              52b1ab41-869e-4138-9e40-2a4457f09bf0   \n4                 NaN              52b1ab41-869e-4138-9e40-2a4457f09bf0   \n5                 NaN              52b1ab41-869e-4138-9e40-2a4457f09bf0   \n6                 NaN              52b1ab41-869e-4138-9e40-2a4457f09bf0   \n7                 NaN              52b1ab41-869e-4138-9e40-2a4457f09bf0   \n53                NaN              52b1ab41-869e-4138-9e40-2a4457f09bf0   \n29                NaN              52b1ab41-869e-4138-9e40-2a4457f09bf0   \n52                NaN              52b1ab41-869e-4138-9e40-2a4457f09bf0   \n28                NaN              52b1ab41-869e-4138-9e40-2a4457f09bf0   \n51                NaN              52b1ab41-869e-4138-9e40-2a4457f09bf0   \n50                NaN              52b1ab41-869e-4138-9e40-2a4457f09bf0   \n27                NaN              52b1ab41-869e-4138-9e40-2a4457f09bf0   \n49                NaN              52b1ab41-869e-4138-9e40-2a4457f09bf0   \n25                NaN              52b1ab41-869e-4138-9e40-2a4457f09bf0   \n26                NaN              52b1ab41-869e-4138-9e40-2a4457f09bf0   \n47                NaN              52b1ab41-869e-4138-9e40-2a4457f09bf0   \n48                NaN              52b1ab41-869e-4138-9e40-2a4457f09bf0   \n24                NaN              52b1ab41-869e-4138-9e40-2a4457f09bf0   \n23                NaN              52b1ab41-869e-4138-9e40-2a4457f09bf0   \n46                NaN              52b1ab41-869e-4138-9e40-2a4457f09bf0   \n22                NaN              52b1ab41-869e-4138-9e40-2a4457f09bf0   \n45                NaN              52b1ab41-869e-4138-9e40-2a4457f09bf0   \n21                NaN              52b1ab41-869e-4138-9e40-2a4457f09bf0   \n20                NaN              52b1ab41-869e-4138-9e40-2a4457f09bf0   \n44                NaN              52b1ab41-869e-4138-9e40-2a4457f09bf0   \n43                NaN              52b1ab41-869e-4138-9e40-2a4457f09bf0   \n19                NaN              52b1ab41-869e-4138-9e40-2a4457f09bf0   \n42                NaN              52b1ab41-869e-4138-9e40-2a4457f09bf0   \n18                NaN              52b1ab41-869e-4138-9e40-2a4457f09bf0   \n41                NaN              52b1ab41-869e-4138-9e40-2a4457f09bf0   \n17                NaN              52b1ab41-869e-4138-9e40-2a4457f09bf0   \n40                NaN              52b1ab41-869e-4138-9e40-2a4457f09bf0   \n16                NaN              52b1ab41-869e-4138-9e40-2a4457f09bf0   \n39                NaN              52b1ab41-869e-4138-9e40-2a4457f09bf0   \n14                NaN              52b1ab41-869e-4138-9e40-2a4457f09bf0   \n15                NaN              52b1ab41-869e-4138-9e40-2a4457f09bf0   \n38                NaN              52b1ab41-869e-4138-9e40-2a4457f09bf0   \n13                NaN              52b1ab41-869e-4138-9e40-2a4457f09bf0   \n37                NaN              52b1ab41-869e-4138-9e40-2a4457f09bf0   \n36                NaN              52b1ab41-869e-4138-9e40-2a4457f09bf0   \n12                NaN              52b1ab41-869e-4138-9e40-2a4457f09bf0   \n35                NaN              52b1ab41-869e-4138-9e40-2a4457f09bf0   \n11                NaN              52b1ab41-869e-4138-9e40-2a4457f09bf0   \n34                NaN              52b1ab41-869e-4138-9e40-2a4457f09bf0   \n3                 NaN              52b1ab41-869e-4138-9e40-2a4457f09bf0   \n10                NaN              52b1ab41-869e-4138-9e40-2a4457f09bf0   \n33                NaN              52b1ab41-869e-4138-9e40-2a4457f09bf0   \n9                 NaN              52b1ab41-869e-4138-9e40-2a4457f09bf0   \n8                 NaN              52b1ab41-869e-4138-9e40-2a4457f09bf0   \n2                 NaN              52b1ab41-869e-4138-9e40-2a4457f09bf0   \n32                NaN              52b1ab41-869e-4138-9e40-2a4457f09bf0   \n1                 NaN              52b1ab41-869e-4138-9e40-2a4457f09bf0   \n\n                           OfficeTenantId           SourceSystem  \\\n90   aa46238d-13fc-4314-8f0c-94044435adb1  OfficeActivityManager   \n89   aa46238d-13fc-4314-8f0c-94044435adb1  OfficeActivityManager   \n91   aa46238d-13fc-4314-8f0c-94044435adb1  OfficeActivityManager   \n84   aa46238d-13fc-4314-8f0c-94044435adb1  OfficeActivityManager   \n88   aa46238d-13fc-4314-8f0c-94044435adb1  OfficeActivityManager   \n85   aa46238d-13fc-4314-8f0c-94044435adb1  OfficeActivityManager   \n87   aa46238d-13fc-4314-8f0c-94044435adb1  OfficeActivityManager   \n80   aa46238d-13fc-4314-8f0c-94044435adb1  OfficeActivityManager   \n83   aa46238d-13fc-4314-8f0c-94044435adb1  OfficeActivityManager   \n82   aa46238d-13fc-4314-8f0c-94044435adb1  OfficeActivityManager   \n81   aa46238d-13fc-4314-8f0c-94044435adb1  OfficeActivityManager   \n86   aa46238d-13fc-4314-8f0c-94044435adb1  OfficeActivityManager   \n104  aa46238d-13fc-4314-8f0c-94044435adb1  OfficeActivityManager   \n103  aa46238d-13fc-4314-8f0c-94044435adb1  OfficeActivityManager   \n102  aa46238d-13fc-4314-8f0c-94044435adb1  OfficeActivityManager   \n97   aa46238d-13fc-4314-8f0c-94044435adb1  OfficeActivityManager   \n96   aa46238d-13fc-4314-8f0c-94044435adb1  OfficeActivityManager   \n98   aa46238d-13fc-4314-8f0c-94044435adb1  OfficeActivityManager   \n95   aa46238d-13fc-4314-8f0c-94044435adb1  OfficeActivityManager   \n101  aa46238d-13fc-4314-8f0c-94044435adb1  OfficeActivityManager   \n100  aa46238d-13fc-4314-8f0c-94044435adb1  OfficeActivityManager   \n94   aa46238d-13fc-4314-8f0c-94044435adb1  OfficeActivityManager   \n92   aa46238d-13fc-4314-8f0c-94044435adb1  OfficeActivityManager   \n93   aa46238d-13fc-4314-8f0c-94044435adb1  OfficeActivityManager   \n99   aa46238d-13fc-4314-8f0c-94044435adb1  OfficeActivityManager   \n68   aa46238d-13fc-4314-8f0c-94044435adb1  OfficeActivityManager   \n76   aa46238d-13fc-4314-8f0c-94044435adb1  OfficeActivityManager   \n67   aa46238d-13fc-4314-8f0c-94044435adb1  OfficeActivityManager   \n58   aa46238d-13fc-4314-8f0c-94044435adb1  OfficeActivityManager   \n31   aa46238d-13fc-4314-8f0c-94044435adb1  OfficeActivityManager   \n56   aa46238d-13fc-4314-8f0c-94044435adb1  OfficeActivityManager   \n30   aa46238d-13fc-4314-8f0c-94044435adb1  OfficeActivityManager   \n57   aa46238d-13fc-4314-8f0c-94044435adb1  OfficeActivityManager   \n55   aa46238d-13fc-4314-8f0c-94044435adb1  OfficeActivityManager   \n54   aa46238d-13fc-4314-8f0c-94044435adb1  OfficeActivityManager   \n4    aa46238d-13fc-4314-8f0c-94044435adb1  OfficeActivityManager   \n5    aa46238d-13fc-4314-8f0c-94044435adb1  OfficeActivityManager   \n6    aa46238d-13fc-4314-8f0c-94044435adb1  OfficeActivityManager   \n7    aa46238d-13fc-4314-8f0c-94044435adb1  OfficeActivityManager   \n53   aa46238d-13fc-4314-8f0c-94044435adb1  OfficeActivityManager   \n29   aa46238d-13fc-4314-8f0c-94044435adb1  OfficeActivityManager   \n52   aa46238d-13fc-4314-8f0c-94044435adb1  OfficeActivityManager   \n28   aa46238d-13fc-4314-8f0c-94044435adb1  OfficeActivityManager   \n51   aa46238d-13fc-4314-8f0c-94044435adb1  OfficeActivityManager   \n50   aa46238d-13fc-4314-8f0c-94044435adb1  OfficeActivityManager   \n27   aa46238d-13fc-4314-8f0c-94044435adb1  OfficeActivityManager   \n49   aa46238d-13fc-4314-8f0c-94044435adb1  OfficeActivityManager   \n25   aa46238d-13fc-4314-8f0c-94044435adb1  OfficeActivityManager   \n26   aa46238d-13fc-4314-8f0c-94044435adb1  OfficeActivityManager   \n47   aa46238d-13fc-4314-8f0c-94044435adb1  OfficeActivityManager   \n48   aa46238d-13fc-4314-8f0c-94044435adb1  OfficeActivityManager   \n24   aa46238d-13fc-4314-8f0c-94044435adb1  OfficeActivityManager   \n23   aa46238d-13fc-4314-8f0c-94044435adb1  OfficeActivityManager   \n46   aa46238d-13fc-4314-8f0c-94044435adb1  OfficeActivityManager   \n22   aa46238d-13fc-4314-8f0c-94044435adb1  OfficeActivityManager   \n45   aa46238d-13fc-4314-8f0c-94044435adb1  OfficeActivityManager   \n21   aa46238d-13fc-4314-8f0c-94044435adb1  OfficeActivityManager   \n20   aa46238d-13fc-4314-8f0c-94044435adb1  OfficeActivityManager   \n44   aa46238d-13fc-4314-8f0c-94044435adb1  OfficeActivityManager   \n43   aa46238d-13fc-4314-8f0c-94044435adb1  OfficeActivityManager   \n19   aa46238d-13fc-4314-8f0c-94044435adb1  OfficeActivityManager   \n42   aa46238d-13fc-4314-8f0c-94044435adb1  OfficeActivityManager   \n18   aa46238d-13fc-4314-8f0c-94044435adb1  OfficeActivityManager   \n41   aa46238d-13fc-4314-8f0c-94044435adb1  OfficeActivityManager   \n17   aa46238d-13fc-4314-8f0c-94044435adb1  OfficeActivityManager   \n40   aa46238d-13fc-4314-8f0c-94044435adb1  OfficeActivityManager   \n16   aa46238d-13fc-4314-8f0c-94044435adb1  OfficeActivityManager   \n39   aa46238d-13fc-4314-8f0c-94044435adb1  OfficeActivityManager   \n14   aa46238d-13fc-4314-8f0c-94044435adb1  OfficeActivityManager   \n15   aa46238d-13fc-4314-8f0c-94044435adb1  OfficeActivityManager   \n38   aa46238d-13fc-4314-8f0c-94044435adb1  OfficeActivityManager   \n13   aa46238d-13fc-4314-8f0c-94044435adb1  OfficeActivityManager   \n37   aa46238d-13fc-4314-8f0c-94044435adb1  OfficeActivityManager   \n36   aa46238d-13fc-4314-8f0c-94044435adb1  OfficeActivityManager   \n12   aa46238d-13fc-4314-8f0c-94044435adb1  OfficeActivityManager   \n35   aa46238d-13fc-4314-8f0c-94044435adb1  OfficeActivityManager   \n11   aa46238d-13fc-4314-8f0c-94044435adb1  OfficeActivityManager   \n34   aa46238d-13fc-4314-8f0c-94044435adb1  OfficeActivityManager   \n3    aa46238d-13fc-4314-8f0c-94044435adb1  OfficeActivityManager   \n10   aa46238d-13fc-4314-8f0c-94044435adb1  OfficeActivityManager   \n33   aa46238d-13fc-4314-8f0c-94044435adb1  OfficeActivityManager   \n9    aa46238d-13fc-4314-8f0c-94044435adb1  OfficeActivityManager   \n8    aa46238d-13fc-4314-8f0c-94044435adb1  OfficeActivityManager   \n2    aa46238d-13fc-4314-8f0c-94044435adb1  OfficeActivityManager   \n32   aa46238d-13fc-4314-8f0c-94044435adb1  OfficeActivityManager   \n1    aa46238d-13fc-4314-8f0c-94044435adb1  OfficeActivityManager   \n\n               Type                 UserPrincipalName  \n90   OfficeActivity  ianh@m365x054215.onmicrosoft.com  \n89   OfficeActivity  ianh@m365x054215.onmicrosoft.com  \n91   OfficeActivity  ianh@m365x054215.onmicrosoft.com  \n84   OfficeActivity  ianh@m365x054215.onmicrosoft.com  \n88   OfficeActivity  ianh@m365x054215.onmicrosoft.com  \n85   OfficeActivity  ianh@m365x054215.onmicrosoft.com  \n87   OfficeActivity  ianh@m365x054215.onmicrosoft.com  \n80   OfficeActivity  ianh@m365x054215.onmicrosoft.com  \n83   OfficeActivity  ianh@m365x054215.onmicrosoft.com  \n82   OfficeActivity  ianh@m365x054215.onmicrosoft.com  \n81   OfficeActivity  ianh@m365x054215.onmicrosoft.com  \n86   OfficeActivity  ianh@m365x054215.onmicrosoft.com  \n104  OfficeActivity  ianh@m365x054215.onmicrosoft.com  \n103  OfficeActivity  ianh@m365x054215.onmicrosoft.com  \n102  OfficeActivity  ianh@m365x054215.onmicrosoft.com  \n97   OfficeActivity  ianh@m365x054215.onmicrosoft.com  \n96   OfficeActivity  ianh@m365x054215.onmicrosoft.com  \n98   OfficeActivity  ianh@m365x054215.onmicrosoft.com  \n95   OfficeActivity  ianh@m365x054215.onmicrosoft.com  \n101  OfficeActivity  ianh@m365x054215.onmicrosoft.com  \n100  OfficeActivity  ianh@m365x054215.onmicrosoft.com  \n94   OfficeActivity  ianh@m365x054215.onmicrosoft.com  \n92   OfficeActivity  ianh@m365x054215.onmicrosoft.com  \n93   OfficeActivity  ianh@m365x054215.onmicrosoft.com  \n99   OfficeActivity  ianh@m365x054215.onmicrosoft.com  \n68   OfficeActivity  ianh@m365x054215.onmicrosoft.com  \n76   OfficeActivity  ianh@m365x054215.onmicrosoft.com  \n67   OfficeActivity  ianh@m365x054215.onmicrosoft.com  \n58   OfficeActivity  ianh@m365x054215.onmicrosoft.com  \n31   OfficeActivity  ianh@m365x054215.onmicrosoft.com  \n56   OfficeActivity  ianh@m365x054215.onmicrosoft.com  \n30   OfficeActivity  ianh@m365x054215.onmicrosoft.com  \n57   OfficeActivity  ianh@m365x054215.onmicrosoft.com  \n55   OfficeActivity  ianh@m365x054215.onmicrosoft.com  \n54   OfficeActivity  ianh@m365x054215.onmicrosoft.com  \n4    OfficeActivity  ianh@m365x054215.onmicrosoft.com  \n5    OfficeActivity  ianh@m365x054215.onmicrosoft.com  \n6    OfficeActivity  ianh@m365x054215.onmicrosoft.com  \n7    OfficeActivity  ianh@m365x054215.onmicrosoft.com  \n53   OfficeActivity  ianh@m365x054215.onmicrosoft.com  \n29   OfficeActivity  ianh@m365x054215.onmicrosoft.com  \n52   OfficeActivity  ianh@m365x054215.onmicrosoft.com  \n28   OfficeActivity  ianh@m365x054215.onmicrosoft.com  \n51   OfficeActivity  ianh@m365x054215.onmicrosoft.com  \n50   OfficeActivity  ianh@m365x054215.onmicrosoft.com  \n27   OfficeActivity  ianh@m365x054215.onmicrosoft.com  \n49   OfficeActivity  ianh@m365x054215.onmicrosoft.com  \n25   OfficeActivity  ianh@m365x054215.onmicrosoft.com  \n26   OfficeActivity  ianh@m365x054215.onmicrosoft.com  \n47   OfficeActivity  ianh@m365x054215.onmicrosoft.com  \n48   OfficeActivity  ianh@m365x054215.onmicrosoft.com  \n24   OfficeActivity  ianh@m365x054215.onmicrosoft.com  \n23   OfficeActivity  ianh@m365x054215.onmicrosoft.com  \n46   OfficeActivity  ianh@m365x054215.onmicrosoft.com  \n22   OfficeActivity  ianh@m365x054215.onmicrosoft.com  \n45   OfficeActivity  ianh@m365x054215.onmicrosoft.com  \n21   OfficeActivity  ianh@m365x054215.onmicrosoft.com  \n20   OfficeActivity  ianh@m365x054215.onmicrosoft.com  \n44   OfficeActivity  ianh@m365x054215.onmicrosoft.com  \n43   OfficeActivity  ianh@m365x054215.onmicrosoft.com  \n19   OfficeActivity  ianh@m365x054215.onmicrosoft.com  \n42   OfficeActivity  ianh@m365x054215.onmicrosoft.com  \n18   OfficeActivity  ianh@m365x054215.onmicrosoft.com  \n41   OfficeActivity  ianh@m365x054215.onmicrosoft.com  \n17   OfficeActivity  ianh@m365x054215.onmicrosoft.com  \n40   OfficeActivity  ianh@m365x054215.onmicrosoft.com  \n16   OfficeActivity  ianh@m365x054215.onmicrosoft.com  \n39   OfficeActivity  ianh@m365x054215.onmicrosoft.com  \n14   OfficeActivity  ianh@m365x054215.onmicrosoft.com  \n15   OfficeActivity  ianh@m365x054215.onmicrosoft.com  \n38   OfficeActivity  ianh@m365x054215.onmicrosoft.com  \n13   OfficeActivity  ianh@m365x054215.onmicrosoft.com  \n37   OfficeActivity  ianh@m365x054215.onmicrosoft.com  \n36   OfficeActivity  ianh@m365x054215.onmicrosoft.com  \n12   OfficeActivity  ianh@m365x054215.onmicrosoft.com  \n35   OfficeActivity  ianh@m365x054215.onmicrosoft.com  \n11   OfficeActivity  ianh@m365x054215.onmicrosoft.com  \n34   OfficeActivity  ianh@m365x054215.onmicrosoft.com  \n3    OfficeActivity  ianh@m365x054215.onmicrosoft.com  \n10   OfficeActivity  ianh@m365x054215.onmicrosoft.com  \n33   OfficeActivity  ianh@m365x054215.onmicrosoft.com  \n9    OfficeActivity  ianh@m365x054215.onmicrosoft.com  \n8    OfficeActivity  ianh@m365x054215.onmicrosoft.com  \n2    OfficeActivity  ianh@m365x054215.onmicrosoft.com  \n32   OfficeActivity  ianh@m365x054215.onmicrosoft.com  \n1    OfficeActivity  ianh@m365x054215.onmicrosoft.com  \n\n[86 rows x 92 columns]"
                  },
                  "metadata": {},
                  "output_type": "display_data"
                }
              ]
            }
          },
          "07c679b1e50440bfabddead283a2d811": {
            "model_module": "@jupyter-widgets/controls",
            "model_module_version": "1.5.0",
            "model_name": "HTMLModel",
            "state": {
              "layout": "IPY_MODEL_678db23681c84eebb2fb9d2ba1013f0a",
              "style": "IPY_MODEL_61620a56073a455b991f6b52414f0bc7",
              "value": "<h4>Set query time boundaries</h4>"
            }
          },
          "09a3ca78764140b38b641c4dfe24fc76": {
            "model_module": "@jupyter-widgets/controls",
            "model_module_version": "1.5.0",
            "model_name": "TextModel",
            "state": {
              "description": "Filter:",
              "layout": "IPY_MODEL_ac836793d41e4863a2a0681aead7a405",
              "style": "IPY_MODEL_88b48ca013a5425a9e6ad53f8f975c69"
            }
          },
          "0b1b9ae1e3ef411791f420b8ec7917f2": {
            "model_module": "@jupyter-widgets/controls",
            "model_module_version": "1.5.0",
            "model_name": "TextModel",
            "state": {
              "description": "Enter the Account name to search for:",
              "layout": "IPY_MODEL_a5dc808c9a014151a8672ba7d30ec5bb",
              "style": "IPY_MODEL_62f1c23c5ba84655ad3bf862086f3567",
              "value": "ianh"
            }
          },
          "0bcdf7317509446a93eaefacb3825972": {
            "model_module": "@jupyter-widgets/controls",
            "model_module_version": "1.5.0",
            "model_name": "DescriptionStyleModel",
            "state": {
              "description_width": ""
            }
          },
          "10028a8e935f4baa8603aad13d55f966": {
            "model_module": "@jupyter-widgets/base",
            "model_module_version": "1.2.0",
            "model_name": "LayoutModel",
            "state": {}
          },
          "110966f8eafc41278b92312f26d0096d": {
            "model_module": "@jupyter-widgets/base",
            "model_module_version": "1.2.0",
            "model_name": "LayoutModel",
            "state": {
              "border": "1px solid black"
            }
          },
          "11bd4a1fe4c94900bfb6617099102bdc": {
            "model_module": "@jupyter-widgets/base",
            "model_module_version": "1.2.0",
            "model_name": "LayoutModel",
            "state": {}
          },
          "12e3c37a4c704006b53670859a507c75": {
            "model_module": "@jupyter-widgets/controls",
            "model_module_version": "1.5.0",
            "model_name": "CheckboxModel",
            "state": {
              "description": "Center subsequent query times round selected Bookmark?",
              "disabled": false,
              "layout": "IPY_MODEL_a5dc808c9a014151a8672ba7d30ec5bb",
              "style": "IPY_MODEL_87b5702a04874a64bb23b66a4f98731e",
              "value": true
            }
          },
          "13d89f2c53e94cce932de8cede43678a": {
            "model_module": "@jupyter-widgets/controls",
            "model_module_version": "1.5.0",
            "model_name": "SelectModel",
            "state": {
              "_options_labels": [
                "SecurityAlert - 787646c14107  2019-02-25 19:45:17.982000",
                "SSH BF TEST  2019-02-25 16:39:31.141000"
              ],
              "description": "Select an item",
              "index": 0,
              "layout": "IPY_MODEL_23587ac1b6a244dbb003beb319e70b4d",
              "style": "IPY_MODEL_2a125d9c7768422a8600ce7f45512f73"
            }
          },
          "142cb3167f4a41aba4094932462ad439": {
            "model_module": "@jupyter-widgets/controls",
            "model_module_version": "1.5.0",
            "model_name": "TextModel",
            "state": {
              "description": "Enter the Account name to search for:",
              "layout": "IPY_MODEL_a5dc808c9a014151a8672ba7d30ec5bb",
              "style": "IPY_MODEL_29a721a8672f4eaeac3fb52a19143ba7"
            }
          },
          "151bfa41a4f54e2fad5fd527fb9a3c91": {
            "model_module": "@jupyter-widgets/output",
            "model_module_version": "1.0.0",
            "model_name": "OutputModel",
            "state": {
              "layout": "IPY_MODEL_ac02efe8753c495cbd01c8027f5b7675",
              "outputs": [
                {
                  "name": "stdout",
                  "output_type": "stream",
                  "text": "b0493469-b0c7-4666-acb8-787646c14107\n"
                }
              ]
            }
          },
          "17d453399714410fb83541ba912d353d": {
            "model_module": "@jupyter-widgets/base",
            "model_module_version": "1.2.0",
            "model_name": "LayoutModel",
            "state": {
              "height": "100px",
              "width": "50%"
            }
          },
          "196603ac0fff46ab8dca4c0ea20928b7": {
            "model_module": "@jupyter-widgets/controls",
            "model_module_version": "1.5.0",
            "model_name": "DescriptionStyleModel",
            "state": {
              "description_width": "initial"
            }
          },
          "1a1e0fce7b5243758e9871320bb00006": {
            "model_module": "@jupyter-widgets/controls",
            "model_module_version": "1.5.0",
            "model_name": "DescriptionStyleModel",
            "state": {
              "description_width": ""
            }
          },
          "1a500406a8e344eaa4e8e102c1b5ff90": {
            "model_module": "@jupyter-widgets/base",
            "model_module_version": "1.2.0",
            "model_name": "LayoutModel",
            "state": {
              "width": "80%"
            }
          },
          "1d0c25caec174a93b32c81e5427e3176": {
            "model_module": "@jupyter-widgets/controls",
            "model_module_version": "1.5.0",
            "model_name": "DescriptionStyleModel",
            "state": {
              "description_width": "initial"
            }
          },
          "1e0b7f71263b44fcacf50ee9426de6b3": {
            "model_module": "@jupyter-widgets/controls",
            "model_module_version": "1.5.0",
            "model_name": "TextModel",
            "state": {
              "description": "Filter:",
              "layout": "IPY_MODEL_7a887505ac244c8ab531ee2c4f213b22",
              "style": "IPY_MODEL_71c38c8b0b404e8aae49f5de620c646f"
            }
          },
          "21671f28362340ce8fb246d5af4cae04": {
            "model_module": "@jupyter-widgets/base",
            "model_module_version": "1.2.0",
            "model_name": "LayoutModel",
            "state": {}
          },
          "22eba104dbc14c0e8cf6ee1933812705": {
            "model_module": "@jupyter-widgets/controls",
            "model_module_version": "1.5.0",
            "model_name": "SliderStyleModel",
            "state": {
              "description_width": "initial"
            }
          },
          "23587ac1b6a244dbb003beb319e70b4d": {
            "model_module": "@jupyter-widgets/base",
            "model_module_version": "1.2.0",
            "model_name": "LayoutModel",
            "state": {
              "height": "100px",
              "width": "50%"
            }
          },
          "243f9f7d45274e3592c71d2a85a09ed4": {
            "model_module": "@jupyter-widgets/controls",
            "model_module_version": "1.5.0",
            "model_name": "DescriptionStyleModel",
            "state": {
              "description_width": "initial"
            }
          },
          "26930b25f1b54e97b4a3572846aa9b39": {
            "model_module": "@jupyter-widgets/base",
            "model_module_version": "1.2.0",
            "model_name": "LayoutModel",
            "state": {}
          },
          "2706db4f94ff4620bd32b12687efebf5": {
            "model_module": "@jupyter-widgets/base",
            "model_module_version": "1.2.0",
            "model_name": "LayoutModel",
            "state": {
              "border": "1px solid black"
            }
          },
          "27396b8ce3f34eedb8b707e4b7b9d144": {
            "model_module": "@jupyter-widgets/base",
            "model_module_version": "1.2.0",
            "model_name": "LayoutModel",
            "state": {}
          },
          "2757a6fe686d4729a09e65abdc398c21": {
            "model_module": "@jupyter-widgets/base",
            "model_module_version": "1.2.0",
            "model_name": "LayoutModel",
            "state": {
              "width": "80%"
            }
          },
          "2986210cf54b4119a535c0d22af52ad7": {
            "model_module": "@jupyter-widgets/output",
            "model_module_version": "1.0.0",
            "model_name": "OutputModel",
            "state": {
              "layout": "IPY_MODEL_bf2154c20bdd490a8847e3bfc196f213",
              "outputs": [
                {
                  "data": {
                    "text/markdown": "<p style='font-weight: bold'>ian (source: WindowsHostLogon)</p>",
                    "text/plain": "<IPython.core.display.Markdown object>"
                  },
                  "metadata": {},
                  "output_type": "display_data"
                },
                {
                  "data": {
                    "text/html": "<div>\n<style scoped>\n    .dataframe tbody tr th:only-of-type {\n        vertical-align: middle;\n    }\n\n    .dataframe tbody tr th {\n        vertical-align: top;\n    }\n\n    .dataframe thead th {\n        text-align: right;\n    }\n</style>\n<table border=\"1\" class=\"dataframe\">\n  <thead>\n    <tr style=\"text-align: right;\">\n      <th></th>\n      <th>TargetUserName</th>\n      <th>TargetDomainName</th>\n      <th>LogonType</th>\n      <th>Computer</th>\n      <th>LogonStatus</th>\n      <th>TimeGenerated</th>\n      <th>SubjectUserName</th>\n      <th>SubjectDomainName</th>\n      <th>TargetUserSid</th>\n      <th>EventID</th>\n      <th>IpAddress</th>\n    </tr>\n  </thead>\n  <tbody>\n    <tr>\n      <td>4</td>\n      <td>ian</td>\n      <td>MSTICAlertsWin1</td>\n      <td>4</td>\n      <td>MSTICAlertsWin1</td>\n      <td>failed</td>\n      <td>2019-02-15 04:09:38.523</td>\n      <td>MSTICAlertsWin1$</td>\n      <td>WORKGROUP</td>\n      <td>S-1-0-0</td>\n      <td>4625</td>\n      <td>-</td>\n    </tr>\n    <tr>\n      <td>3</td>\n      <td>ian</td>\n      <td>MSTICAlertsWin1</td>\n      <td>2</td>\n      <td>MSTICAlertsWin1</td>\n      <td>failed</td>\n      <td>2019-02-16 00:06:02.193</td>\n      <td>ian</td>\n      <td>MSTICAlertsWin1</td>\n      <td>S-1-0-0</td>\n      <td>4625</td>\n      <td>-</td>\n    </tr>\n    <tr>\n      <td>1</td>\n      <td>ian</td>\n      <td>MSTICAlertsWin1</td>\n      <td>3</td>\n      <td>MSTICAlertsWin1</td>\n      <td>success</td>\n      <td>2019-02-16 03:24:45.260</td>\n      <td>-</td>\n      <td>-</td>\n      <td>S-1-5-21-996632719-2361334927-4038480536-1120</td>\n      <td>4624</td>\n      <td>23.97.60.214</td>\n    </tr>\n    <tr>\n      <td>2</td>\n      <td>ian</td>\n      <td>MSTICAlertsWin1</td>\n      <td>10</td>\n      <td>MSTICAlertsWin1</td>\n      <td>success</td>\n      <td>2019-02-16 03:24:49.500</td>\n      <td>MSTICAlertsWin1$</td>\n      <td>WORKGROUP</td>\n      <td>S-1-5-21-996632719-2361334927-4038480536-1120</td>\n      <td>4624</td>\n      <td>23.97.60.214</td>\n    </tr>\n    <tr>\n      <td>0</td>\n      <td>ian</td>\n      <td>MSTICAlertsWin1</td>\n      <td>4</td>\n      <td>MSTICAlertsWin1</td>\n      <td>success</td>\n      <td>2019-02-25 18:32:40.620</td>\n      <td>MSTICAlertsWin1$</td>\n      <td>WORKGROUP</td>\n      <td>S-1-5-21-996632719-2361334927-4038480536-1120</td>\n      <td>4624</td>\n      <td>-</td>\n    </tr>\n  </tbody>\n</table>\n</div>",
                    "text/plain": "  TargetUserName TargetDomainName  LogonType         Computer LogonStatus  \\\n4            ian  MSTICAlertsWin1          4  MSTICAlertsWin1      failed   \n3            ian  MSTICAlertsWin1          2  MSTICAlertsWin1      failed   \n1            ian  MSTICAlertsWin1          3  MSTICAlertsWin1     success   \n2            ian  MSTICAlertsWin1         10  MSTICAlertsWin1     success   \n0            ian  MSTICAlertsWin1          4  MSTICAlertsWin1     success   \n\n            TimeGenerated   SubjectUserName SubjectDomainName  \\\n4 2019-02-15 04:09:38.523  MSTICAlertsWin1$         WORKGROUP   \n3 2019-02-16 00:06:02.193               ian   MSTICAlertsWin1   \n1 2019-02-16 03:24:45.260                 -                 -   \n2 2019-02-16 03:24:49.500  MSTICAlertsWin1$         WORKGROUP   \n0 2019-02-25 18:32:40.620  MSTICAlertsWin1$         WORKGROUP   \n\n                                   TargetUserSid  EventID     IpAddress  \n4                                        S-1-0-0     4625             -  \n3                                        S-1-0-0     4625             -  \n1  S-1-5-21-996632719-2361334927-4038480536-1120     4624  23.97.60.214  \n2  S-1-5-21-996632719-2361334927-4038480536-1120     4624  23.97.60.214  \n0  S-1-5-21-996632719-2361334927-4038480536-1120     4624             -  "
                  },
                  "metadata": {},
                  "output_type": "display_data"
                }
              ]
            }
          },
          "29a721a8672f4eaeac3fb52a19143ba7": {
            "model_module": "@jupyter-widgets/controls",
            "model_module_version": "1.5.0",
            "model_name": "DescriptionStyleModel",
            "state": {
              "description_width": "initial"
            }
          },
          "2a125d9c7768422a8600ce7f45512f73": {
            "model_module": "@jupyter-widgets/controls",
            "model_module_version": "1.5.0",
            "model_name": "DescriptionStyleModel",
            "state": {
              "description_width": "initial"
            }
          },
          "2e1d183418ec4e2d92c030d20438dc87": {
            "model_module": "@jupyter-widgets/base",
            "model_module_version": "1.2.0",
            "model_name": "LayoutModel",
            "state": {}
          },
          "304f50bcff6f479e853a23ec532eea5d": {
            "model_module": "@jupyter-widgets/controls",
            "model_module_version": "1.5.0",
            "model_name": "TextModel",
            "state": {
              "description": "Time (24hr)",
              "layout": "IPY_MODEL_3470075458b84b45af925362a4a929e8",
              "style": "IPY_MODEL_cbd22ab1115e40d893314c47433eb47e",
              "value": "21:55:47.669836"
            }
          },
          "30cdcb2290e24418a77b48d11cd1fd41": {
            "model_module": "@jupyter-widgets/controls",
            "model_module_version": "1.5.0",
            "model_name": "DescriptionStyleModel",
            "state": {
              "description_width": "initial"
            }
          },
          "3470075458b84b45af925362a4a929e8": {
            "model_module": "@jupyter-widgets/base",
            "model_module_version": "1.2.0",
            "model_name": "LayoutModel",
            "state": {}
          },
          "3a3165abb4c64e2e95f7766a4f597c3a": {
            "model_module": "@jupyter-widgets/base",
            "model_module_version": "1.2.0",
            "model_name": "LayoutModel",
            "state": {}
          },
          "3de22fc97aed49778c70e3aae0dfb0f8": {
            "model_module": "@jupyter-widgets/controls",
            "model_module_version": "1.5.0",
            "model_name": "DescriptionStyleModel",
            "state": {
              "description_width": "initial"
            }
          },
          "402ddfe359744e6eb6e0cbb9630801a9": {
            "model_module": "@jupyter-widgets/base",
            "model_module_version": "1.2.0",
            "model_name": "LayoutModel",
            "state": {}
          },
          "408989bdbd914c6c91f6185196587518": {
            "model_module": "@jupyter-widgets/controls",
            "model_module_version": "1.5.0",
            "model_name": "DescriptionStyleModel",
            "state": {
              "description_width": "initial"
            }
          },
          "421f27b541e346d795cc19fd6c29bb4c": {
            "model_module": "@jupyter-widgets/base",
            "model_module_version": "1.2.0",
            "model_name": "LayoutModel",
            "state": {
              "height": "200px",
              "width": "100%"
            }
          },
          "44f7feaec4b74d90b57c7be96303a634": {
            "model_module": "@jupyter-widgets/controls",
            "model_module_version": "1.5.0",
            "model_name": "VBoxModel",
            "state": {
              "children": [
                "IPY_MODEL_eedbd1ec35524ee4a213788b7f7046ad",
                "IPY_MODEL_c1eca92f047f473088cfa375d5147a60",
                "IPY_MODEL_2986210cf54b4119a535c0d22af52ad7"
              ],
              "layout": "IPY_MODEL_2e1d183418ec4e2d92c030d20438dc87"
            }
          },
          "46c05422174940e392024737f47bde92": {
            "model_module": "@jupyter-widgets/output",
            "model_module_version": "1.0.0",
            "model_name": "OutputModel",
            "state": {
              "layout": "IPY_MODEL_2706db4f94ff4620bd32b12687efebf5"
            }
          },
          "488d7b188c7f43f8b6229c6517137e45": {
            "model_module": "@jupyter-widgets/controls",
            "model_module_version": "1.5.0",
            "model_name": "TextModel",
            "state": {
              "description": "Filter:",
              "layout": "IPY_MODEL_26930b25f1b54e97b4a3572846aa9b39",
              "style": "IPY_MODEL_93a439ecb4684b3d9db2a8d344887a04"
            }
          },
          "48e5c53ef5f748759e7e396f1e184020": {
            "model_module": "@jupyter-widgets/controls",
            "model_module_version": "1.5.0",
            "model_name": "VBoxModel",
            "state": {
              "children": [
                "IPY_MODEL_f77e0b6fd3644871bc08e707e1d81d48",
                "IPY_MODEL_fb807bb93bd84e528caab6ec18d5e649",
                "IPY_MODEL_035ff12b609d4f7da9a510b9c25c1d72"
              ],
              "layout": "IPY_MODEL_586e9c7f952f436f8dea4a01e89ed3c2"
            }
          },
          "4f39d2190ec94b2db76ac8b1a7d31a9f": {
            "model_module": "@jupyter-widgets/controls",
            "model_module_version": "1.5.0",
            "model_name": "CheckboxModel",
            "state": {
              "description": "Center subsequent query times round selected Bookmark?",
              "disabled": false,
              "layout": "IPY_MODEL_a5dc808c9a014151a8672ba7d30ec5bb",
              "style": "IPY_MODEL_cd1c4009632e4921a8c51f32ea9e2946",
              "value": true
            }
          },
          "518d0fdb6a3e432d887379035e5e694f": {
            "model_module": "@jupyter-widgets/base",
            "model_module_version": "1.2.0",
            "model_name": "LayoutModel",
            "state": {
              "border": "1px solid black"
            }
          },
          "5305161e6631418099b1f02633947c45": {
            "model_module": "@jupyter-widgets/controls",
            "model_module_version": "1.5.0",
            "model_name": "TextModel",
            "state": {
              "description": "Filter:",
              "layout": "IPY_MODEL_8c9fc467e7b84233a59db934e5b6aa4c",
              "style": "IPY_MODEL_d4dbb15ced7040bc8789f701abcbe242"
            }
          },
          "532ed04a12d647a29782545bc6d815a7": {
            "model_module": "@jupyter-widgets/controls",
            "model_module_version": "1.5.0",
            "model_name": "DescriptionStyleModel",
            "state": {
              "description_width": "initial"
            }
          },
          "53e86a661dd84ba4890ca556fedd7a85": {
            "model_module": "@jupyter-widgets/controls",
            "model_module_version": "1.5.0",
            "model_name": "CheckboxModel",
            "state": {
              "description": "Center subsequent query times round selected Bookmark?",
              "disabled": false,
              "layout": "IPY_MODEL_a5dc808c9a014151a8672ba7d30ec5bb",
              "style": "IPY_MODEL_cac8eee317484da18e175ed26db87eb3",
              "value": true
            }
          },
          "5487eb0ec6a546b6bd4e530976e6bc9a": {
            "model_module": "@jupyter-widgets/controls",
            "model_module_version": "1.5.0",
            "model_name": "DescriptionStyleModel",
            "state": {
              "description_width": "initial"
            }
          },
          "54d53cce6f824bb4a2fd05cbacd0b8ff": {
            "model_module": "@jupyter-widgets/base",
            "model_module_version": "1.2.0",
            "model_name": "LayoutModel",
            "state": {}
          },
          "565b97a862a543b3accac809160d3bf7": {
            "model_module": "@jupyter-widgets/controls",
            "model_module_version": "1.5.0",
            "model_name": "TextModel",
            "state": {
              "description": "Filter:",
              "layout": "IPY_MODEL_78e5ac4520b14434bccc7fb3500cf701",
              "style": "IPY_MODEL_a118b172aefb4e82b47bcf285d2b2329"
            }
          },
          "56cb3e3b823b42b996397f1f9c448494": {
            "model_module": "@jupyter-widgets/controls",
            "model_module_version": "1.5.0",
            "model_name": "TextModel",
            "state": {
              "description": "Time (24hr)",
              "layout": "IPY_MODEL_c5e889ecab1c499181b232e82744bcd7",
              "style": "IPY_MODEL_0bcdf7317509446a93eaefacb3825972",
              "value": "02:56:03.315071"
            }
          },
          "5735f8eccf7f4113ab32c90f4cbcd909": {
            "model_module": "@jupyter-widgets/controls",
            "model_module_version": "1.5.0",
            "model_name": "DescriptionStyleModel",
            "state": {
              "description_width": "initial"
            }
          },
          "586e9c7f952f436f8dea4a01e89ed3c2": {
            "model_module": "@jupyter-widgets/base",
            "model_module_version": "1.2.0",
            "model_name": "LayoutModel",
            "state": {}
          },
          "5883af908d0d4f8982c89e8dfc16570f": {
            "model_module": "@jupyter-widgets/controls",
            "model_module_version": "1.5.0",
            "model_name": "SelectModel",
            "state": {
              "_options_labels": [
                "dbadmin   LinuxHostLogon (Last activity: 2019-02-25 15:34:15.877000)",
                "ian   WindowsHostLogon (Last activity: 2019-02-25 18:32:40.620000)",
                "ianh@m365x054215.onmicrosoft.com   O365Activity (Last activity: 2019-02-16 03:48:19)"
              ],
              "description": "Select an account to explore",
              "index": 0,
              "layout": "IPY_MODEL_421f27b541e346d795cc19fd6c29bb4c",
              "style": "IPY_MODEL_196603ac0fff46ab8dca4c0ea20928b7"
            }
          },
          "59b20cfd46dd43bda9be538b1f93fe9d": {
            "model_module": "@jupyter-widgets/controls",
            "model_module_version": "1.5.0",
            "model_name": "VBoxModel",
            "state": {
              "children": [
                "IPY_MODEL_488d7b188c7f43f8b6229c6517137e45",
                "IPY_MODEL_8f71b753ec754d76a90216eb4d6d33d5",
                "IPY_MODEL_46c05422174940e392024737f47bde92"
              ],
              "layout": "IPY_MODEL_11bd4a1fe4c94900bfb6617099102bdc"
            }
          },
          "5ad8d5a988e0426f85e693235c7d2f37": {
            "model_module": "@jupyter-widgets/controls",
            "model_module_version": "1.5.0",
            "model_name": "SelectModel",
            "state": {
              "_options_labels": [
                "SecurityAlert - 787646c14107  2019-02-25 19:45:17.982000",
                "SSH BF TEST  2019-02-25 16:39:31.141000"
              ],
              "description": "Select an item",
              "index": 1,
              "layout": "IPY_MODEL_eba1cde4e8bf4dc3bd6355524b911454",
              "style": "IPY_MODEL_30cdcb2290e24418a77b48d11cd1fd41"
            }
          },
          "5c21ca6f13694c79903c7046eab3c9e2": {
            "model_module": "@jupyter-widgets/base",
            "model_module_version": "1.2.0",
            "model_name": "LayoutModel",
            "state": {
              "border": "1px solid black"
            }
          },
          "5d63ec3a3ed14511b45d6d65aae4b6b0": {
            "model_module": "@jupyter-widgets/controls",
            "model_module_version": "1.5.0",
            "model_name": "VBoxModel",
            "state": {
              "children": [
                "IPY_MODEL_96f3591ab49b459881a6a4b44c0ab186",
                "IPY_MODEL_b3dc11de65634b0398dcc9da953065f4",
                "IPY_MODEL_913a4334f10e4879b8d1f3a2dad23bd9"
              ],
              "layout": "IPY_MODEL_836a0c17183c425cb3194c83c289d71b"
            }
          },
          "60569e99f7c74be898cbaf2739cd55ae": {
            "model_module": "@jupyter-widgets/controls",
            "model_module_version": "1.5.0",
            "model_name": "CheckboxModel",
            "state": {
              "description": "Center subsequent query times round selected Bookmark?",
              "disabled": false,
              "layout": "IPY_MODEL_a5dc808c9a014151a8672ba7d30ec5bb",
              "style": "IPY_MODEL_b7b64f73c2374457952c45bc70b57be2",
              "value": true
            }
          },
          "614cca2731f44e2c8c358d3d37ce42b5": {
            "model_module": "@jupyter-widgets/output",
            "model_module_version": "1.0.0",
            "model_name": "OutputModel",
            "state": {
              "layout": "IPY_MODEL_78c0a388ec344289adc8151ca471d550",
              "outputs": [
                {
                  "data": {
                    "text/html": "<div>\n<style scoped>\n    .dataframe tbody tr th:only-of-type {\n        vertical-align: middle;\n    }\n\n    .dataframe tbody tr th {\n        vertical-align: top;\n    }\n\n    .dataframe thead th {\n        text-align: right;\n    }\n</style>\n<table border=\"1\" class=\"dataframe\">\n  <thead>\n    <tr style=\"text-align: right;\">\n      <th></th>\n      <th>0</th>\n    </tr>\n  </thead>\n  <tbody>\n    <tr>\n      <td>TenantId</td>\n      <td>52b1ab41-869e-4138-9e40-2a4457f09bf0</td>\n    </tr>\n    <tr>\n      <td>TimeGenerated</td>\n      <td>2019-02-25 19:45:17.982000</td>\n    </tr>\n    <tr>\n      <td>BookmarkId</td>\n      <td>b0493469-b0c7-4666-acb8-787646c14107</td>\n    </tr>\n    <tr>\n      <td>BookmarkName</td>\n      <td>SecurityAlert - 787646c14107</td>\n    </tr>\n    <tr>\n      <td>BookmarkType</td>\n      <td></td>\n    </tr>\n    <tr>\n      <td>CreatedBy</td>\n      <td>{\\r\\n  \"ObjectId\": \"90a3c369-b812-4f6e-ac76-9fdf8a7e7b4d\",\\r\\n  \"Email\": \"juliango@microsoft.com...</td>\n    </tr>\n    <tr>\n      <td>UpdatedBy</td>\n      <td>{\\r\\n  \"ObjectId\": \"90a3c369-b812-4f6e-ac76-9fdf8a7e7b4d\",\\r\\n  \"Email\": \"juliango@microsoft.com...</td>\n    </tr>\n    <tr>\n      <td>CreatedTime</td>\n      <td>2019-02-25 19:45:17.921000</td>\n    </tr>\n    <tr>\n      <td>LastUpdatedTime</td>\n      <td>2019-02-25 19:45:17.921000</td>\n    </tr>\n    <tr>\n      <td>EventTime</td>\n      <td>2019-02-25 19:45:17.921000</td>\n    </tr>\n    <tr>\n      <td>QueryText</td>\n      <td>// *** Join SSH Brute Force ML detections with Host IP and Name information  *** //\\r\\n// Start ...</td>\n    </tr>\n    <tr>\n      <td>QueryResultRow</td>\n      <td>{\"TimeGenerated\":\"2019-02-19T17:29:26Z\",\"AlertName\":\"SSH Anomalous Login ML\",\"IPCustomEntity\":\"2...</td>\n    </tr>\n    <tr>\n      <td>QueryStartTime</td>\n      <td>NaT</td>\n    </tr>\n    <tr>\n      <td>QueryEndTime</td>\n      <td>NaT</td>\n    </tr>\n    <tr>\n      <td>Notes</td>\n      <td></td>\n    </tr>\n    <tr>\n      <td>SoftDeleted</td>\n      <td>False</td>\n    </tr>\n    <tr>\n      <td>Tags</td>\n      <td>[\\r\\n  \"fluffydog_campaign\"\\r\\n]</td>\n    </tr>\n    <tr>\n      <td>SourceSystem</td>\n      <td>Azure Sentinel</td>\n    </tr>\n    <tr>\n      <td>Type</td>\n      <td></td>\n    </tr>\n    <tr>\n      <td>_ResourceId</td>\n      <td></td>\n    </tr>\n    <tr>\n      <td>Computer</td>\n      <td>None</td>\n    </tr>\n    <tr>\n      <td>Account</td>\n      <td>dbadmin</td>\n    </tr>\n    <tr>\n      <td>Entities</td>\n      <td>None</td>\n    </tr>\n  </tbody>\n</table>\n</div>",
                    "text/plain": "                                                                                                                   0\nTenantId                                                                        52b1ab41-869e-4138-9e40-2a4457f09bf0\nTimeGenerated                                                                             2019-02-25 19:45:17.982000\nBookmarkId                                                                      b0493469-b0c7-4666-acb8-787646c14107\nBookmarkName                                                                            SecurityAlert - 787646c14107\nBookmarkType                                                                                                        \nCreatedBy        {\\r\\n  \"ObjectId\": \"90a3c369-b812-4f6e-ac76-9fdf8a7e7b4d\",\\r\\n  \"Email\": \"juliango@microsoft.com...\nUpdatedBy        {\\r\\n  \"ObjectId\": \"90a3c369-b812-4f6e-ac76-9fdf8a7e7b4d\",\\r\\n  \"Email\": \"juliango@microsoft.com...\nCreatedTime                                                                               2019-02-25 19:45:17.921000\nLastUpdatedTime                                                                           2019-02-25 19:45:17.921000\nEventTime                                                                                 2019-02-25 19:45:17.921000\nQueryText        // *** Join SSH Brute Force ML detections with Host IP and Name information  *** //\\r\\n// Start ...\nQueryResultRow   {\"TimeGenerated\":\"2019-02-19T17:29:26Z\",\"AlertName\":\"SSH Anomalous Login ML\",\"IPCustomEntity\":\"2...\nQueryStartTime                                                                                                   NaT\nQueryEndTime                                                                                                     NaT\nNotes                                                                                                               \nSoftDeleted                                                                                                    False\nTags                                                                                [\\r\\n  \"fluffydog_campaign\"\\r\\n]\nSourceSystem                                                                                          Azure Sentinel\nType                                                                                                                \n_ResourceId                                                                                                         \nComputer                                                                                                        None\nAccount                                                                                                      dbadmin\nEntities                                                                                                        None"
                  },
                  "metadata": {},
                  "output_type": "display_data"
                }
              ]
            }
          },
          "61620a56073a455b991f6b52414f0bc7": {
            "model_module": "@jupyter-widgets/controls",
            "model_module_version": "1.5.0",
            "model_name": "DescriptionStyleModel",
            "state": {
              "description_width": ""
            }
          },
          "62f1c23c5ba84655ad3bf862086f3567": {
            "model_module": "@jupyter-widgets/controls",
            "model_module_version": "1.5.0",
            "model_name": "DescriptionStyleModel",
            "state": {
              "description_width": "initial"
            }
          },
          "646294b6713e4c99b7ace19ca23da7bd": {
            "model_module": "@jupyter-widgets/controls",
            "model_module_version": "1.5.0",
            "model_name": "HBoxModel",
            "state": {
              "children": [
                "IPY_MODEL_8b265a16313645f68b1ccd797ea5f38e",
                "IPY_MODEL_56cb3e3b823b42b996397f1f9c448494"
              ],
              "layout": "IPY_MODEL_6ff666022d1d444d86b9124f005cc48b"
            }
          },
          "648983b41eef46d1bf43afd72dd4f4e5": {
            "model_module": "@jupyter-widgets/controls",
            "model_module_version": "1.5.0",
            "model_name": "SliderStyleModel",
            "state": {
              "description_width": "initial"
            }
          },
          "678db23681c84eebb2fb9d2ba1013f0a": {
            "model_module": "@jupyter-widgets/base",
            "model_module_version": "1.2.0",
            "model_name": "LayoutModel",
            "state": {}
          },
          "68cef08217c94318aa4db4aa5340bcce": {
            "model_module": "@jupyter-widgets/controls",
            "model_module_version": "1.5.0",
            "model_name": "DescriptionStyleModel",
            "state": {
              "description_width": "initial"
            }
          },
          "691389b6511d4643a2687ac249d60f3b": {
            "model_module": "@jupyter-widgets/base",
            "model_module_version": "1.2.0",
            "model_name": "LayoutModel",
            "state": {
              "border": "1px solid black"
            }
          },
          "6b1855b6b62a4eef9909d4d1a3af8551": {
            "model_module": "@jupyter-widgets/base",
            "model_module_version": "1.2.0",
            "model_name": "LayoutModel",
            "state": {}
          },
          "6b34b703c8854d6ebe7c4f4ef904e352": {
            "model_module": "@jupyter-widgets/base",
            "model_module_version": "1.2.0",
            "model_name": "LayoutModel",
            "state": {}
          },
          "6d5ab86e0cb44dae98ea566fb3b0636a": {
            "model_module": "@jupyter-widgets/base",
            "model_module_version": "1.2.0",
            "model_name": "LayoutModel",
            "state": {}
          },
          "6ff666022d1d444d86b9124f005cc48b": {
            "model_module": "@jupyter-widgets/base",
            "model_module_version": "1.2.0",
            "model_name": "LayoutModel",
            "state": {}
          },
          "702bf110ba4f405eba4a027a09064c41": {
            "model_module": "@jupyter-widgets/base",
            "model_module_version": "1.2.0",
            "model_name": "LayoutModel",
            "state": {
              "width": "50%"
            }
          },
          "71c38c8b0b404e8aae49f5de620c646f": {
            "model_module": "@jupyter-widgets/controls",
            "model_module_version": "1.5.0",
            "model_name": "DescriptionStyleModel",
            "state": {
              "description_width": "initial"
            }
          },
          "7343bdd2de58410dabbc37406bc3549e": {
            "model_module": "@jupyter-widgets/base",
            "model_module_version": "1.2.0",
            "model_name": "LayoutModel",
            "state": {}
          },
          "7489e9094fef410db848ee739eee1c58": {
            "model_module": "@jupyter-widgets/controls",
            "model_module_version": "1.5.0",
            "model_name": "IntRangeSliderModel",
            "state": {
              "_model_name": "IntRangeSliderModel",
              "_view_name": "IntRangeSliderView",
              "description": "Time Range (day):",
              "layout": "IPY_MODEL_1a500406a8e344eaa4e8e102c1b5ff90",
              "max": 7,
              "min": -200,
              "style": "IPY_MODEL_648983b41eef46d1bf43afd72dd4f4e5",
              "value": [
                -5,
                7
              ]
            }
          },
          "75a5f1fa13044f3ea77c0be6d88b2bdd": {
            "model_module": "@jupyter-widgets/output",
            "model_module_version": "1.0.0",
            "model_name": "OutputModel",
            "state": {
              "layout": "IPY_MODEL_5c21ca6f13694c79903c7046eab3c9e2",
              "outputs": [
                {
                  "name": "stdout",
                  "output_type": "stream",
                  "text": "SSH BF TEST  2019-02-25 16:39:31.141000\n"
                }
              ]
            }
          },
          "75e885a865b4490884d1f34085482b83": {
            "model_module": "@jupyter-widgets/base",
            "model_module_version": "1.2.0",
            "model_name": "LayoutModel",
            "state": {
              "width": "50%"
            }
          },
          "775281cdbb754cdda11ae2ba1924c6eb": {
            "model_module": "@jupyter-widgets/controls",
            "model_module_version": "1.5.0",
            "model_name": "CheckboxModel",
            "state": {
              "description": "Center subsequent query times round selected Bookmark?",
              "disabled": false,
              "layout": "IPY_MODEL_a5dc808c9a014151a8672ba7d30ec5bb",
              "style": "IPY_MODEL_ff22f9849d344041843288fb3d53be7a",
              "value": true
            }
          },
          "78c0a388ec344289adc8151ca471d550": {
            "model_module": "@jupyter-widgets/base",
            "model_module_version": "1.2.0",
            "model_name": "LayoutModel",
            "state": {
              "border": "1px solid black"
            }
          },
          "78e5ac4520b14434bccc7fb3500cf701": {
            "model_module": "@jupyter-widgets/base",
            "model_module_version": "1.2.0",
            "model_name": "LayoutModel",
            "state": {}
          },
          "7a0c9682c12f475eb74bf6a431a84a8e": {
            "model_module": "@jupyter-widgets/controls",
            "model_module_version": "1.5.0",
            "model_name": "TextModel",
            "state": {
              "description": "Filter:",
              "layout": "IPY_MODEL_6b1855b6b62a4eef9909d4d1a3af8551",
              "style": "IPY_MODEL_5487eb0ec6a546b6bd4e530976e6bc9a"
            }
          },
          "7a887505ac244c8ab531ee2c4f213b22": {
            "model_module": "@jupyter-widgets/base",
            "model_module_version": "1.2.0",
            "model_name": "LayoutModel",
            "state": {}
          },
          "7aff4c4303124b61946083de91a78025": {
            "model_module": "@jupyter-widgets/base",
            "model_module_version": "1.2.0",
            "model_name": "LayoutModel",
            "state": {
              "width": "50%"
            }
          },
          "7c96a1a571f44135b0c43e83cd59ae33": {
            "model_module": "@jupyter-widgets/controls",
            "model_module_version": "1.5.0",
            "model_name": "TextModel",
            "state": {
              "description": "Query end time (UTC) :  ",
              "layout": "IPY_MODEL_75e885a865b4490884d1f34085482b83",
              "style": "IPY_MODEL_9caa74226aa74a88b799aa3bfed56aec",
              "value": "2019-10-25 21:55:47.669836"
            }
          },
          "7e91c8bcada54f36ad43dd496794e494": {
            "model_module": "@jupyter-widgets/controls",
            "model_module_version": "1.5.0",
            "model_name": "CheckboxModel",
            "state": {
              "description": "Center subsequent query times round selected Bookmark?",
              "disabled": false,
              "layout": "IPY_MODEL_a5dc808c9a014151a8672ba7d30ec5bb",
              "style": "IPY_MODEL_a322e177338143f3ab26e4aaf05c05d8",
              "value": true
            }
          },
          "7f1f0dbb3fb74a5b901844cdb955e7a3": {
            "model_module": "@jupyter-widgets/controls",
            "model_module_version": "1.5.0",
            "model_name": "DescriptionStyleModel",
            "state": {
              "description_width": "initial"
            }
          },
          "80d826f17e954a09999593557d12a5db": {
            "model_module": "@jupyter-widgets/controls",
            "model_module_version": "1.5.0",
            "model_name": "SelectModel",
            "state": {
              "_options_labels": [
                "b0493469-b0c7-4666-acb8-787646c14107",
                "afef383e-af37-4058-a13b-f904f1eb9823"
              ],
              "description": "Select an item",
              "index": 1,
              "layout": "IPY_MODEL_aa375b6c152e4edca0d536190c38c4bb",
              "style": "IPY_MODEL_b8da5213378846e2bf7dc13aa9962b50"
            }
          },
          "8107103835c0499eaa7a04285fc7f1a8": {
            "model_module": "@jupyter-widgets/controls",
            "model_module_version": "1.5.0",
            "model_name": "CheckboxModel",
            "state": {
              "description": "Center subsequent query times round selected Bookmark?",
              "disabled": false,
              "layout": "IPY_MODEL_a5dc808c9a014151a8672ba7d30ec5bb",
              "style": "IPY_MODEL_68cef08217c94318aa4db4aa5340bcce",
              "value": true
            }
          },
          "8141181307bf4f6cb5ebbc2f44001e51": {
            "model_module": "@jupyter-widgets/controls",
            "model_module_version": "1.5.0",
            "model_name": "VBoxModel",
            "state": {
              "children": [
                "IPY_MODEL_955f6c5ca7bb422db2de1a9f066292e6",
                "IPY_MODEL_a7bc8009afdd418a8289ab6ac0fad4c9",
                "IPY_MODEL_614cca2731f44e2c8c358d3d37ce42b5"
              ],
              "layout": "IPY_MODEL_842f6deb1fbd490fb693425b56d919ad"
            }
          },
          "81f32fb652034c85aa69953a384bd74f": {
            "model_module": "@jupyter-widgets/controls",
            "model_module_version": "1.5.0",
            "model_name": "DescriptionStyleModel",
            "state": {
              "description_width": "initial"
            }
          },
          "836a0c17183c425cb3194c83c289d71b": {
            "model_module": "@jupyter-widgets/base",
            "model_module_version": "1.2.0",
            "model_name": "LayoutModel",
            "state": {}
          },
          "842f6deb1fbd490fb693425b56d919ad": {
            "model_module": "@jupyter-widgets/base",
            "model_module_version": "1.2.0",
            "model_name": "LayoutModel",
            "state": {}
          },
          "8556edc2799649ab9e5d6c9d7194e3b2": {
            "model_module": "@jupyter-widgets/base",
            "model_module_version": "1.2.0",
            "model_name": "LayoutModel",
            "state": {}
          },
          "8630f416892b4dd28b1a6a4dd3430695": {
            "model_module": "@jupyter-widgets/controls",
            "model_module_version": "1.5.0",
            "model_name": "VBoxModel",
            "state": {
              "children": [
                "IPY_MODEL_7489e9094fef410db848ee739eee1c58",
                "IPY_MODEL_ed8284289e9441549c4259fa9e6734d8",
                "IPY_MODEL_b5b40e4be14a4942b3da4ba40671db79"
              ],
              "layout": "IPY_MODEL_b10b925125ef4be78affa568b42e60d4"
            }
          },
          "8765340e0d394f779baee315899dc2b0": {
            "model_module": "@jupyter-widgets/controls",
            "model_module_version": "1.5.0",
            "model_name": "DescriptionStyleModel",
            "state": {
              "description_width": "initial"
            }
          },
          "87b5702a04874a64bb23b66a4f98731e": {
            "model_module": "@jupyter-widgets/controls",
            "model_module_version": "1.5.0",
            "model_name": "DescriptionStyleModel",
            "state": {
              "description_width": "initial"
            }
          },
          "881881b3d6a44d8fa1bd872350bdb77e": {
            "model_module": "@jupyter-widgets/base",
            "model_module_version": "1.2.0",
            "model_name": "LayoutModel",
            "state": {
              "height": "200px",
              "width": "100%"
            }
          },
          "88b48ca013a5425a9e6ad53f8f975c69": {
            "model_module": "@jupyter-widgets/controls",
            "model_module_version": "1.5.0",
            "model_name": "DescriptionStyleModel",
            "state": {
              "description_width": "initial"
            }
          },
          "8995398e280e4c39b92e01043a4f5600": {
            "model_module": "@jupyter-widgets/controls",
            "model_module_version": "1.5.0",
            "model_name": "CheckboxModel",
            "state": {
              "description": "Center subsequent query times round selected Bookmark?",
              "disabled": false,
              "layout": "IPY_MODEL_a5dc808c9a014151a8672ba7d30ec5bb",
              "style": "IPY_MODEL_c248d21c91014a76ae35414346313b18",
              "value": true
            }
          },
          "8b265a16313645f68b1ccd797ea5f38e": {
            "model_module": "@jupyter-widgets/controls",
            "model_module_version": "1.5.0",
            "model_name": "DatePickerModel",
            "state": {
              "description": "Origin Date",
              "disabled": false,
              "layout": "IPY_MODEL_402ddfe359744e6eb6e0cbb9630801a9",
              "style": "IPY_MODEL_f9cb33c773284d35b07a39dd405b9a4e",
              "value": {
                "date": 20,
                "month": 1,
                "year": 2019
              }
            }
          },
          "8bc2df8006b84779b72badb33568f9e5": {
            "model_module": "@jupyter-widgets/controls",
            "model_module_version": "1.5.0",
            "model_name": "HTMLModel",
            "state": {
              "layout": "IPY_MODEL_6d5ab86e0cb44dae98ea566fb3b0636a",
              "style": "IPY_MODEL_9d30c014ec4c47c7becaf56c04321b6a",
              "value": "<h4>Set query time boundaries</h4>"
            }
          },
          "8c9fc467e7b84233a59db934e5b6aa4c": {
            "model_module": "@jupyter-widgets/base",
            "model_module_version": "1.2.0",
            "model_name": "LayoutModel",
            "state": {}
          },
          "8d97a759d22e4e47921add69d13cd5f0": {
            "model_module": "@jupyter-widgets/controls",
            "model_module_version": "1.5.0",
            "model_name": "TextModel",
            "state": {
              "description": "Filter alerts by title:",
              "layout": "IPY_MODEL_6b34b703c8854d6ebe7c4f4ef904e352",
              "style": "IPY_MODEL_243f9f7d45274e3592c71d2a85a09ed4"
            }
          },
          "8f71b753ec754d76a90216eb4d6d33d5": {
            "model_module": "@jupyter-widgets/controls",
            "model_module_version": "1.5.0",
            "model_name": "SelectModel",
            "state": {
              "_options_labels": [
                "b0493469-b0c7-4666-acb8-787646c14107",
                "afef383e-af37-4058-a13b-f904f1eb9823"
              ],
              "description": "Select an item",
              "index": 0,
              "layout": "IPY_MODEL_cee155f5d3794f61bf46e658b51c38a1",
              "style": "IPY_MODEL_c09afa33e2614524bd22bbe3e99f95f0"
            }
          },
          "913a4334f10e4879b8d1f3a2dad23bd9": {
            "model_module": "@jupyter-widgets/output",
            "model_module_version": "1.0.0",
            "model_name": "OutputModel",
            "state": {
              "layout": "IPY_MODEL_518d0fdb6a3e432d887379035e5e694f",
              "outputs": [
                {
                  "data": {
                    "text/html": "<div>\n<style scoped>\n    .dataframe tbody tr th:only-of-type {\n        vertical-align: middle;\n    }\n\n    .dataframe tbody tr th {\n        vertical-align: top;\n    }\n\n    .dataframe thead th {\n        text-align: right;\n    }\n</style>\n<table border=\"1\" class=\"dataframe\">\n  <thead>\n    <tr style=\"text-align: right;\">\n      <th></th>\n      <th>1</th>\n    </tr>\n  </thead>\n  <tbody>\n    <tr>\n      <td>TenantId</td>\n      <td>52b1ab41-869e-4138-9e40-2a4457f09bf0</td>\n    </tr>\n    <tr>\n      <td>TimeGenerated</td>\n      <td>2019-02-25 16:39:31.141000</td>\n    </tr>\n    <tr>\n      <td>BookmarkId</td>\n      <td>afef383e-af37-4058-a13b-f904f1eb9823</td>\n    </tr>\n    <tr>\n      <td>BookmarkName</td>\n      <td>SSH BF TEST</td>\n    </tr>\n    <tr>\n      <td>BookmarkType</td>\n      <td></td>\n    </tr>\n    <tr>\n      <td>CreatedBy</td>\n      <td>{\\r\\n  \"ObjectId\": \"b3a76793-1a0d-4bfe-95f6-96919d4b9acf\",\\r\\n  \"Email\": \"bnick@microsoft.com\",\\...</td>\n    </tr>\n    <tr>\n      <td>UpdatedBy</td>\n      <td>{\\r\\n  \"ObjectId\": \"b3a76793-1a0d-4bfe-95f6-96919d4b9acf\",\\r\\n  \"Email\": \"bnick@microsoft.com\",\\...</td>\n    </tr>\n    <tr>\n      <td>CreatedTime</td>\n      <td>2019-02-25 16:39:30.955000</td>\n    </tr>\n    <tr>\n      <td>LastUpdatedTime</td>\n      <td>2019-02-25 16:39:30.955000</td>\n    </tr>\n    <tr>\n      <td>EventTime</td>\n      <td>2019-02-25 16:39:30.955000</td>\n    </tr>\n    <tr>\n      <td>QueryText</td>\n      <td>// *** Join SSH Brute Force ML detections with Host IP and Name information  *** //\\r\\n// Start ...</td>\n    </tr>\n    <tr>\n      <td>QueryResultRow</td>\n      <td>{\"TimeGenerated\":\"2019-02-19T17:29:26Z\",\"AlertName\":\"SSH Anomalous Login ML\",\"IPCustomEntity\":\"2...</td>\n    </tr>\n    <tr>\n      <td>QueryStartTime</td>\n      <td>NaT</td>\n    </tr>\n    <tr>\n      <td>QueryEndTime</td>\n      <td>NaT</td>\n    </tr>\n    <tr>\n      <td>Notes</td>\n      <td>This is a critical asset.</td>\n    </tr>\n    <tr>\n      <td>SoftDeleted</td>\n      <td>False</td>\n    </tr>\n    <tr>\n      <td>Tags</td>\n      <td>[\\r\\n  \"BouncyRaccoon\"\\r\\n]</td>\n    </tr>\n    <tr>\n      <td>SourceSystem</td>\n      <td>Azure Sentinel</td>\n    </tr>\n    <tr>\n      <td>Type</td>\n      <td></td>\n    </tr>\n    <tr>\n      <td>_ResourceId</td>\n      <td></td>\n    </tr>\n    <tr>\n      <td>Computer</td>\n      <td>None</td>\n    </tr>\n    <tr>\n      <td>Account</td>\n      <td>dbadmin</td>\n    </tr>\n    <tr>\n      <td>Entities</td>\n      <td>None</td>\n    </tr>\n  </tbody>\n</table>\n</div>",
                    "text/plain": "                                                                                                                   1\nTenantId                                                                        52b1ab41-869e-4138-9e40-2a4457f09bf0\nTimeGenerated                                                                             2019-02-25 16:39:31.141000\nBookmarkId                                                                      afef383e-af37-4058-a13b-f904f1eb9823\nBookmarkName                                                                                             SSH BF TEST\nBookmarkType                                                                                                        \nCreatedBy        {\\r\\n  \"ObjectId\": \"b3a76793-1a0d-4bfe-95f6-96919d4b9acf\",\\r\\n  \"Email\": \"bnick@microsoft.com\",\\...\nUpdatedBy        {\\r\\n  \"ObjectId\": \"b3a76793-1a0d-4bfe-95f6-96919d4b9acf\",\\r\\n  \"Email\": \"bnick@microsoft.com\",\\...\nCreatedTime                                                                               2019-02-25 16:39:30.955000\nLastUpdatedTime                                                                           2019-02-25 16:39:30.955000\nEventTime                                                                                 2019-02-25 16:39:30.955000\nQueryText        // *** Join SSH Brute Force ML detections with Host IP and Name information  *** //\\r\\n// Start ...\nQueryResultRow   {\"TimeGenerated\":\"2019-02-19T17:29:26Z\",\"AlertName\":\"SSH Anomalous Login ML\",\"IPCustomEntity\":\"2...\nQueryStartTime                                                                                                   NaT\nQueryEndTime                                                                                                     NaT\nNotes                                                                                      This is a critical asset.\nSoftDeleted                                                                                                    False\nTags                                                                                     [\\r\\n  \"BouncyRaccoon\"\\r\\n]\nSourceSystem                                                                                          Azure Sentinel\nType                                                                                                                \n_ResourceId                                                                                                         \nComputer                                                                                                        None\nAccount                                                                                                      dbadmin\nEntities                                                                                                        None"
                  },
                  "metadata": {},
                  "output_type": "display_data"
                }
              ]
            }
          },
          "93a439ecb4684b3d9db2a8d344887a04": {
            "model_module": "@jupyter-widgets/controls",
            "model_module_version": "1.5.0",
            "model_name": "DescriptionStyleModel",
            "state": {
              "description_width": "initial"
            }
          },
          "955f6c5ca7bb422db2de1a9f066292e6": {
            "model_module": "@jupyter-widgets/controls",
            "model_module_version": "1.5.0",
            "model_name": "TextModel",
            "state": {
              "description": "Filter:",
              "layout": "IPY_MODEL_8556edc2799649ab9e5d6c9d7194e3b2",
              "style": "IPY_MODEL_7f1f0dbb3fb74a5b901844cdb955e7a3"
            }
          },
          "96f3591ab49b459881a6a4b44c0ab186": {
            "model_module": "@jupyter-widgets/controls",
            "model_module_version": "1.5.0",
            "model_name": "TextModel",
            "state": {
              "description": "Filter:",
              "layout": "IPY_MODEL_10028a8e935f4baa8603aad13d55f966",
              "style": "IPY_MODEL_eb31b443cf9a4dd995a18658180105c1"
            }
          },
          "9b60959bf55048b7a20d3ed4c2169843": {
            "model_module": "@jupyter-widgets/controls",
            "model_module_version": "1.5.0",
            "model_name": "DescriptionStyleModel",
            "state": {
              "description_width": "initial"
            }
          },
          "9caa74226aa74a88b799aa3bfed56aec": {
            "model_module": "@jupyter-widgets/controls",
            "model_module_version": "1.5.0",
            "model_name": "DescriptionStyleModel",
            "state": {
              "description_width": "initial"
            }
          },
          "9cbe916e267b416a99e1aad2af18bee9": {
            "model_module": "@jupyter-widgets/controls",
            "model_module_version": "1.5.0",
            "model_name": "DescriptionStyleModel",
            "state": {
              "description_width": "initial"
            }
          },
          "9d30c014ec4c47c7becaf56c04321b6a": {
            "model_module": "@jupyter-widgets/controls",
            "model_module_version": "1.5.0",
            "model_name": "DescriptionStyleModel",
            "state": {
              "description_width": ""
            }
          },
          "a118b172aefb4e82b47bcf285d2b2329": {
            "model_module": "@jupyter-widgets/controls",
            "model_module_version": "1.5.0",
            "model_name": "DescriptionStyleModel",
            "state": {
              "description_width": "initial"
            }
          },
          "a322e177338143f3ab26e4aaf05c05d8": {
            "model_module": "@jupyter-widgets/controls",
            "model_module_version": "1.5.0",
            "model_name": "DescriptionStyleModel",
            "state": {
              "description_width": "initial"
            }
          },
          "a5dc808c9a014151a8672ba7d30ec5bb": {
            "model_module": "@jupyter-widgets/base",
            "model_module_version": "1.2.0",
            "model_name": "LayoutModel",
            "state": {
              "width": "95%"
            }
          },
          "a6ed0452391d4922ba3057edc8913943": {
            "model_module": "@jupyter-widgets/base",
            "model_module_version": "1.2.0",
            "model_name": "LayoutModel",
            "state": {
              "height": "100px",
              "width": "50%"
            }
          },
          "a7132fff2e6247b0b1b69208733bde28": {
            "model_module": "@jupyter-widgets/output",
            "model_module_version": "1.0.0",
            "model_name": "OutputModel",
            "state": {
              "layout": "IPY_MODEL_691389b6511d4643a2687ac249d60f3b"
            }
          },
          "a7bc8009afdd418a8289ab6ac0fad4c9": {
            "model_module": "@jupyter-widgets/controls",
            "model_module_version": "1.5.0",
            "model_name": "SelectModel",
            "state": {
              "_options_labels": [
                "SecurityAlert - 787646c14107 [\r\n  \"fluffydog_campaign\"\r\n]  2019-02-25 19:45:17.982000",
                "SSH BF TEST [\r\n  \"BouncyRaccoon\"\r\n]  2019-02-25 16:39:31.141000"
              ],
              "description": "Select an item",
              "index": 0,
              "layout": "IPY_MODEL_a6ed0452391d4922ba3057edc8913943",
              "style": "IPY_MODEL_c8f9bf007ff3427995d37af684f347fa"
            }
          },
          "aa375b6c152e4edca0d536190c38c4bb": {
            "model_module": "@jupyter-widgets/base",
            "model_module_version": "1.2.0",
            "model_name": "LayoutModel",
            "state": {
              "height": "100px",
              "width": "50%"
            }
          },
          "ac02efe8753c495cbd01c8027f5b7675": {
            "model_module": "@jupyter-widgets/base",
            "model_module_version": "1.2.0",
            "model_name": "LayoutModel",
            "state": {
              "border": "1px solid black"
            }
          },
          "ac836793d41e4863a2a0681aead7a405": {
            "model_module": "@jupyter-widgets/base",
            "model_module_version": "1.2.0",
            "model_name": "LayoutModel",
            "state": {}
          },
          "acab5baa37154a00adcbf05f65ad3615": {
            "model_module": "@jupyter-widgets/base",
            "model_module_version": "1.2.0",
            "model_name": "LayoutModel",
            "state": {}
          },
          "b10b925125ef4be78affa568b42e60d4": {
            "model_module": "@jupyter-widgets/base",
            "model_module_version": "1.2.0",
            "model_name": "LayoutModel",
            "state": {}
          },
          "b1dee2853f6c403c944000a24d549e48": {
            "model_module": "@jupyter-widgets/controls",
            "model_module_version": "1.5.0",
            "model_name": "CheckboxModel",
            "state": {
              "description": "Center subsequent query times round selected Alert?",
              "disabled": false,
              "layout": "IPY_MODEL_a5dc808c9a014151a8672ba7d30ec5bb",
              "style": "IPY_MODEL_b817e8855ee54bfaae7a566e254224e0",
              "value": true
            }
          },
          "b2780aae29704d50950e38fb7c61a86d": {
            "model_module": "@jupyter-widgets/base",
            "model_module_version": "1.2.0",
            "model_name": "LayoutModel",
            "state": {}
          },
          "b30e1518edfa4406a7dea23d2338a335": {
            "model_module": "@jupyter-widgets/controls",
            "model_module_version": "1.5.0",
            "model_name": "VBoxModel",
            "state": {
              "children": [
                "IPY_MODEL_7a0c9682c12f475eb74bf6a431a84a8e",
                "IPY_MODEL_5ad8d5a988e0426f85e693235c7d2f37",
                "IPY_MODEL_d5eff5e7768e4b54baaa024d8f0e149f"
              ],
              "layout": "IPY_MODEL_27396b8ce3f34eedb8b707e4b7b9d144"
            }
          },
          "b3dc11de65634b0398dcc9da953065f4": {
            "model_module": "@jupyter-widgets/controls",
            "model_module_version": "1.5.0",
            "model_name": "SelectModel",
            "state": {
              "_options_labels": [
                "SecurityAlert - 787646c14107 [\r\n  \"fluffydog_campaign\"\r\n] 2019-02-25 19:45:17.982000",
                "SSH BF TEST [\r\n  \"BouncyRaccoon\"\r\n] 2019-02-25 16:39:31.141000"
              ],
              "description": "Select an item",
              "index": 1,
              "layout": "IPY_MODEL_17d453399714410fb83541ba912d353d",
              "style": "IPY_MODEL_408989bdbd914c6c91f6185196587518"
            }
          },
          "b5b40e4be14a4942b3da4ba40671db79": {
            "model_module": "@jupyter-widgets/controls",
            "model_module_version": "1.5.0",
            "model_name": "TextModel",
            "state": {
              "description": "Query end time (UTC) :  ",
              "layout": "IPY_MODEL_de5a181d5d944b1e8a907ce8d5455cdc",
              "style": "IPY_MODEL_5735f8eccf7f4113ab32c90f4cbcd909",
              "value": "2019-02-27 02:56:03.315071"
            }
          },
          "b74ff3e63c2142f6bdcc59331169fe99": {
            "model_module": "@jupyter-widgets/controls",
            "model_module_version": "1.5.0",
            "model_name": "VBoxModel",
            "state": {
              "children": [
                "IPY_MODEL_1e0b7f71263b44fcacf50ee9426de6b3",
                "IPY_MODEL_13d89f2c53e94cce932de8cede43678a",
                "IPY_MODEL_151bfa41a4f54e2fad5fd527fb9a3c91"
              ],
              "layout": "IPY_MODEL_d51af46f7fa84a22a5c0ec118950b6c3"
            }
          },
          "b7b64f73c2374457952c45bc70b57be2": {
            "model_module": "@jupyter-widgets/controls",
            "model_module_version": "1.5.0",
            "model_name": "DescriptionStyleModel",
            "state": {
              "description_width": "initial"
            }
          },
          "b817e8855ee54bfaae7a566e254224e0": {
            "model_module": "@jupyter-widgets/controls",
            "model_module_version": "1.5.0",
            "model_name": "DescriptionStyleModel",
            "state": {
              "description_width": "initial"
            }
          },
          "b8da5213378846e2bf7dc13aa9962b50": {
            "model_module": "@jupyter-widgets/controls",
            "model_module_version": "1.5.0",
            "model_name": "DescriptionStyleModel",
            "state": {
              "description_width": "initial"
            }
          },
          "b91802dae3454218883fd220f9dc621c": {
            "model_module": "@jupyter-widgets/controls",
            "model_module_version": "1.5.0",
            "model_name": "VBoxModel",
            "state": {
              "children": [
                "IPY_MODEL_5305161e6631418099b1f02633947c45",
                "IPY_MODEL_5883af908d0d4f8982c89e8dfc16570f",
                "IPY_MODEL_f4d1dffedaca44b486339e74320d7452"
              ],
              "layout": "IPY_MODEL_b2780aae29704d50950e38fb7c61a86d"
            }
          },
          "b9676325af0646ac960a02f1a3d0a062": {
            "model_module": "@jupyter-widgets/base",
            "model_module_version": "1.2.0",
            "model_name": "LayoutModel",
            "state": {
              "height": "200px",
              "width": "100%"
            }
          },
          "bb3bafbd6c0e4c1ab8ddd3e6e9b39cbb": {
            "model_module": "@jupyter-widgets/controls",
            "model_module_version": "1.5.0",
            "model_name": "CheckboxModel",
            "state": {
              "description": "Center subsequent query times round selected Bookmark?",
              "disabled": false,
              "layout": "IPY_MODEL_a5dc808c9a014151a8672ba7d30ec5bb",
              "style": "IPY_MODEL_8765340e0d394f779baee315899dc2b0",
              "value": true
            }
          },
          "bc091a619ea94668a648822e7325669f": {
            "model_module": "@jupyter-widgets/base",
            "model_module_version": "1.2.0",
            "model_name": "LayoutModel",
            "state": {
              "height": "100px",
              "width": "50%"
            }
          },
          "bf2154c20bdd490a8847e3bfc196f213": {
            "model_module": "@jupyter-widgets/base",
            "model_module_version": "1.2.0",
            "model_name": "LayoutModel",
            "state": {
              "border": "1px solid black"
            }
          },
          "bfd599e1dcdb42d680f491161656d483": {
            "model_module": "@jupyter-widgets/base",
            "model_module_version": "1.2.0",
            "model_name": "LayoutModel",
            "state": {
              "height": "300px",
              "width": "95%"
            }
          },
          "c09afa33e2614524bd22bbe3e99f95f0": {
            "model_module": "@jupyter-widgets/controls",
            "model_module_version": "1.5.0",
            "model_name": "DescriptionStyleModel",
            "state": {
              "description_width": "initial"
            }
          },
          "c1eca92f047f473088cfa375d5147a60": {
            "model_module": "@jupyter-widgets/controls",
            "model_module_version": "1.5.0",
            "model_name": "SelectModel",
            "state": {
              "_options_labels": [
                "MSTICAdmin   LinuxHostLogon (Last activity: 2019-02-15 04:00:00.827000)",
                "ian   WindowsHostLogon (Last activity: 2019-02-25 18:32:40.620000)",
                "ianh@M365x054215.onmicrosoft.com   O365Activity (Last activity: 2019-02-16 03:48:19)",
                "ianh@m365x054215.onmicrosoft.com   O365Activity (Last activity: 2019-02-16 03:45:20)"
              ],
              "description": "Select an account to explore",
              "index": 1,
              "layout": "IPY_MODEL_881881b3d6a44d8fa1bd872350bdb77e",
              "style": "IPY_MODEL_f45d552220ab47cc830cae4587ca6a3b"
            }
          },
          "c248d21c91014a76ae35414346313b18": {
            "model_module": "@jupyter-widgets/controls",
            "model_module_version": "1.5.0",
            "model_name": "DescriptionStyleModel",
            "state": {
              "description_width": "initial"
            }
          },
          "c5e889ecab1c499181b232e82744bcd7": {
            "model_module": "@jupyter-widgets/base",
            "model_module_version": "1.2.0",
            "model_name": "LayoutModel",
            "state": {}
          },
          "c8e7ee1140804156b5b67efc421fabf1": {
            "model_module": "@jupyter-widgets/base",
            "model_module_version": "1.2.0",
            "model_name": "LayoutModel",
            "state": {}
          },
          "c8f9bf007ff3427995d37af684f347fa": {
            "model_module": "@jupyter-widgets/controls",
            "model_module_version": "1.5.0",
            "model_name": "DescriptionStyleModel",
            "state": {
              "description_width": "initial"
            }
          },
          "cac8eee317484da18e175ed26db87eb3": {
            "model_module": "@jupyter-widgets/controls",
            "model_module_version": "1.5.0",
            "model_name": "DescriptionStyleModel",
            "state": {
              "description_width": "initial"
            }
          },
          "cbd22ab1115e40d893314c47433eb47e": {
            "model_module": "@jupyter-widgets/controls",
            "model_module_version": "1.5.0",
            "model_name": "DescriptionStyleModel",
            "state": {
              "description_width": ""
            }
          },
          "cc8aa54721e6418e8a52b53ff7485772": {
            "model_module": "@jupyter-widgets/controls",
            "model_module_version": "1.5.0",
            "model_name": "VBoxModel",
            "state": {
              "children": [
                "IPY_MODEL_d3dbea4292c4417da0645ee27982a799",
                "IPY_MODEL_e999eb22b2de4400ae0934bea77679ab",
                "IPY_MODEL_7c96a1a571f44135b0c43e83cd59ae33"
              ],
              "layout": "IPY_MODEL_21671f28362340ce8fb246d5af4cae04"
            }
          },
          "cd1c4009632e4921a8c51f32ea9e2946": {
            "model_module": "@jupyter-widgets/controls",
            "model_module_version": "1.5.0",
            "model_name": "DescriptionStyleModel",
            "state": {
              "description_width": "initial"
            }
          },
          "cee155f5d3794f61bf46e658b51c38a1": {
            "model_module": "@jupyter-widgets/base",
            "model_module_version": "1.2.0",
            "model_name": "LayoutModel",
            "state": {
              "height": "100px",
              "width": "50%"
            }
          },
          "d27029a08494481e90abc56e23ed47ff": {
            "model_module": "@jupyter-widgets/base",
            "model_module_version": "1.2.0",
            "model_name": "LayoutModel",
            "state": {}
          },
          "d3dbea4292c4417da0645ee27982a799": {
            "model_module": "@jupyter-widgets/controls",
            "model_module_version": "1.5.0",
            "model_name": "IntRangeSliderModel",
            "state": {
              "_model_name": "IntRangeSliderModel",
              "_view_name": "IntRangeSliderView",
              "description": "Time Range (day):",
              "layout": "IPY_MODEL_2757a6fe686d4729a09e65abdc398c21",
              "max": 7,
              "min": -200,
              "style": "IPY_MODEL_22eba104dbc14c0e8cf6ee1933812705",
              "value": [
                -5,
                7
              ]
            }
          },
          "d44cdcd3d9794a5fb7dba970c423dab7": {
            "model_module": "@jupyter-widgets/controls",
            "model_module_version": "1.5.0",
            "model_name": "VBoxModel",
            "state": {
              "children": [
                "IPY_MODEL_8d97a759d22e4e47921add69d13cd5f0",
                "IPY_MODEL_ff3874eac11f48ae9fc266ea5fca08e2",
                "IPY_MODEL_d9212e9b71554092a1b6890570f084dc"
              ],
              "layout": "IPY_MODEL_d27029a08494481e90abc56e23ed47ff"
            }
          },
          "d4dbb15ced7040bc8789f701abcbe242": {
            "model_module": "@jupyter-widgets/controls",
            "model_module_version": "1.5.0",
            "model_name": "DescriptionStyleModel",
            "state": {
              "description_width": "initial"
            }
          },
          "d51af46f7fa84a22a5c0ec118950b6c3": {
            "model_module": "@jupyter-widgets/base",
            "model_module_version": "1.2.0",
            "model_name": "LayoutModel",
            "state": {}
          },
          "d5eff5e7768e4b54baaa024d8f0e149f": {
            "model_module": "@jupyter-widgets/output",
            "model_module_version": "1.0.0",
            "model_name": "OutputModel",
            "state": {
              "layout": "IPY_MODEL_fc03fbd6c39f43fb9208babc0913608a",
              "outputs": [
                {
                  "data": {
                    "text/html": "<div>\n<style scoped>\n    .dataframe tbody tr th:only-of-type {\n        vertical-align: middle;\n    }\n\n    .dataframe tbody tr th {\n        vertical-align: top;\n    }\n\n    .dataframe thead th {\n        text-align: right;\n    }\n</style>\n<table border=\"1\" class=\"dataframe\">\n  <thead>\n    <tr style=\"text-align: right;\">\n      <th></th>\n      <th>1</th>\n    </tr>\n  </thead>\n  <tbody>\n    <tr>\n      <td>TenantId</td>\n      <td>52b1ab41-869e-4138-9e40-2a4457f09bf0</td>\n    </tr>\n    <tr>\n      <td>TimeGenerated</td>\n      <td>2019-02-25 16:39:31.141000</td>\n    </tr>\n    <tr>\n      <td>BookmarkId</td>\n      <td>afef383e-af37-4058-a13b-f904f1eb9823</td>\n    </tr>\n    <tr>\n      <td>BookmarkName</td>\n      <td>SSH BF TEST</td>\n    </tr>\n    <tr>\n      <td>BookmarkType</td>\n      <td></td>\n    </tr>\n    <tr>\n      <td>CreatedBy</td>\n      <td>{\\r\\n  \"ObjectId\": \"b3a76793-1a0d-4bfe-95f6-96919d4b9acf\",\\r\\n  \"Email\": \"bnick@microsoft.com\",\\...</td>\n    </tr>\n    <tr>\n      <td>UpdatedBy</td>\n      <td>{\\r\\n  \"ObjectId\": \"b3a76793-1a0d-4bfe-95f6-96919d4b9acf\",\\r\\n  \"Email\": \"bnick@microsoft.com\",\\...</td>\n    </tr>\n    <tr>\n      <td>CreatedTime</td>\n      <td>2019-02-25 16:39:30.955000</td>\n    </tr>\n    <tr>\n      <td>LastUpdatedTime</td>\n      <td>2019-02-25 16:39:30.955000</td>\n    </tr>\n    <tr>\n      <td>EventTime</td>\n      <td>2019-02-25 16:39:30.955000</td>\n    </tr>\n    <tr>\n      <td>QueryText</td>\n      <td>// *** Join SSH Brute Force ML detections with Host IP and Name information  *** //\\r\\n// Start ...</td>\n    </tr>\n    <tr>\n      <td>QueryResultRow</td>\n      <td>{\"TimeGenerated\":\"2019-02-19T17:29:26Z\",\"AlertName\":\"SSH Anomalous Login ML\",\"IPCustomEntity\":\"2...</td>\n    </tr>\n    <tr>\n      <td>QueryStartTime</td>\n      <td>NaT</td>\n    </tr>\n    <tr>\n      <td>QueryEndTime</td>\n      <td>NaT</td>\n    </tr>\n    <tr>\n      <td>Notes</td>\n      <td>This is a critical asset.</td>\n    </tr>\n    <tr>\n      <td>SoftDeleted</td>\n      <td>False</td>\n    </tr>\n    <tr>\n      <td>Tags</td>\n      <td>[\\r\\n  \"BouncyRaccoon\"\\r\\n]</td>\n    </tr>\n    <tr>\n      <td>SourceSystem</td>\n      <td>Azure Sentinel</td>\n    </tr>\n    <tr>\n      <td>Type</td>\n      <td></td>\n    </tr>\n    <tr>\n      <td>_ResourceId</td>\n      <td></td>\n    </tr>\n    <tr>\n      <td>Computer</td>\n      <td>None</td>\n    </tr>\n    <tr>\n      <td>Account</td>\n      <td>dbadmin</td>\n    </tr>\n    <tr>\n      <td>Entities</td>\n      <td>None</td>\n    </tr>\n  </tbody>\n</table>\n</div>",
                    "text/plain": "                                                                                                                   1\nTenantId                                                                        52b1ab41-869e-4138-9e40-2a4457f09bf0\nTimeGenerated                                                                             2019-02-25 16:39:31.141000\nBookmarkId                                                                      afef383e-af37-4058-a13b-f904f1eb9823\nBookmarkName                                                                                             SSH BF TEST\nBookmarkType                                                                                                        \nCreatedBy        {\\r\\n  \"ObjectId\": \"b3a76793-1a0d-4bfe-95f6-96919d4b9acf\",\\r\\n  \"Email\": \"bnick@microsoft.com\",\\...\nUpdatedBy        {\\r\\n  \"ObjectId\": \"b3a76793-1a0d-4bfe-95f6-96919d4b9acf\",\\r\\n  \"Email\": \"bnick@microsoft.com\",\\...\nCreatedTime                                                                               2019-02-25 16:39:30.955000\nLastUpdatedTime                                                                           2019-02-25 16:39:30.955000\nEventTime                                                                                 2019-02-25 16:39:30.955000\nQueryText        // *** Join SSH Brute Force ML detections with Host IP and Name information  *** //\\r\\n// Start ...\nQueryResultRow   {\"TimeGenerated\":\"2019-02-19T17:29:26Z\",\"AlertName\":\"SSH Anomalous Login ML\",\"IPCustomEntity\":\"2...\nQueryStartTime                                                                                                   NaT\nQueryEndTime                                                                                                     NaT\nNotes                                                                                      This is a critical asset.\nSoftDeleted                                                                                                    False\nTags                                                                                     [\\r\\n  \"BouncyRaccoon\"\\r\\n]\nSourceSystem                                                                                          Azure Sentinel\nType                                                                                                                \n_ResourceId                                                                                                         \nComputer                                                                                                        None\nAccount                                                                                                      dbadmin\nEntities                                                                                                        None"
                  },
                  "metadata": {},
                  "output_type": "display_data"
                }
              ]
            }
          },
          "d9212e9b71554092a1b6890570f084dc": {
            "model_module": "@jupyter-widgets/output",
            "model_module_version": "1.0.0",
            "model_name": "OutputModel",
            "state": {
              "layout": "IPY_MODEL_da957843532947ab947c4c0c0355f1d6",
              "outputs": [
                {
                  "data": {
                    "text/html": "\n            <h3>Alert: 'Possible suspicious scheduling tasks access detected'</h3><br>time=<b>2019-02-15 04:03:22</b>,\n            entity=<b>dbadmin</b>, id=<b>2518520973978269999_57b6af71-984e-45f3-9aac-d6bbd79eed07</b>\n            <br/>\n            <table border=\"1\" class=\"dataframe\">\n  <thead>\n    <tr style=\"text-align: right;\">\n      <th></th>\n      <th>7</th>\n    </tr>\n  </thead>\n  <tbody>\n    <tr>\n      <th>TenantId</th>\n      <td>52b1ab41-869e-4138-9e40-2a4457f09bf0</td>\n    </tr>\n    <tr>\n      <th>TimeGenerated</th>\n      <td>2019-02-15 04:03:30</td>\n    </tr>\n    <tr>\n      <th>AlertDisplayName</th>\n      <td>Possible suspicious scheduling tasks access detected</td>\n    </tr>\n    <tr>\n      <th>AlertName</th>\n      <td>Possible suspicious scheduling tasks access detected</td>\n    </tr>\n    <tr>\n      <th>Severity</th>\n      <td>Informational</td>\n    </tr>\n    <tr>\n      <th>Description</th>\n      <td>Analysis of host data indicates that a cron job was accessed by dbadmin.\\r\\nThis activity could either be legitimate activity, or an indication of a compromised host that involved using task scheduling to execute malicious programs on a scheduled basis.</td>\n    </tr>\n    <tr>\n      <th>ProviderName</th>\n      <td>Detection</td>\n    </tr>\n    <tr>\n      <th>VendorName</th>\n      <td>Microsoft</td>\n    </tr>\n    <tr>\n      <th>VendorOriginalId</th>\n      <td>57b6af71-984e-45f3-9aac-d6bbd79eed07</td>\n    </tr>\n    <tr>\n      <th>SystemAlertId</th>\n      <td>2518520973978269999_57b6af71-984e-45f3-9aac-d6bbd79eed07</td>\n    </tr>\n    <tr>\n      <th>ResourceId</th>\n      <td>/subscriptions/40dcc8bf-0478-4f3b-b275-ed0a94f2c013/resourceGroups/ASIHuntOMSWorkspaceRG/providers/Microsoft.Compute/virtualMachines/MSTICAlertsLxVM2</td>\n    </tr>\n    <tr>\n      <th>SourceComputerId</th>\n      <td>44623fb0-bd5f-49ea-84d1-56aa11ab8a25</td>\n    </tr>\n    <tr>\n      <th>AlertType</th>\n      <td>SCUBA_RULE_AccessCronJob</td>\n    </tr>\n    <tr>\n      <th>ConfidenceLevel</th>\n      <td>Unknown</td>\n    </tr>\n    <tr>\n      <th>ConfidenceScore</th>\n      <td>NaN</td>\n    </tr>\n    <tr>\n      <th>IsIncident</th>\n      <td>False</td>\n    </tr>\n    <tr>\n      <th>StartTimeUtc</th>\n      <td>2019-02-15 04:03:22</td>\n    </tr>\n    <tr>\n      <th>EndTimeUtc</th>\n      <td>2019-02-15 04:03:22</td>\n    </tr>\n    <tr>\n      <th>ProcessingEndTime</th>\n      <td>2019-02-15 04:03:30</td>\n    </tr>\n    <tr>\n      <th>RemediationSteps</th>\n      <td>[\\r\\n  \"Review with dbadmin the activity in this alert to see if you recognize this as legitimate administrative activity. If not, escalate the alert to the information security team.\"\\r\\n]</td>\n    </tr>\n    <tr>\n      <th>ExtendedProperties</th>\n      <td>{'Compromised Host': 'MSTICALERTSLXVM2', 'User Name': 'dbadmin', 'Account Session Id': '0x2e093', 'Suspicious Process': '/usr/bin/vim.basic', 'Suspicious Command Line': '/usr/bin/vim.basic /tmp/crontab.UQ6iiQ/crontab', 'Suspicious Process Id': '0x51b3', 'resourceType': 'Virtual Machine', 'ServiceId': '14fa08c7-c48e-4c18-950c-8148024b4398', 'ReportingSystem': 'Azure', 'OccuringDatacenter': 'eastus'}</td>\n    </tr>\n    <tr>\n      <th>Entities</th>\n      <td>[{'$id': '4', 'DnsDomain': '', 'NTDomain': '', 'HostName': 'MSTICALERTSLXVM2', 'NetBiosName': 'MSTICALERTSLXVM2', 'OSFamily': 'Linux', 'OSVersion': 'Linux', 'Type': 'host'}, {'$id': '5', 'ProcessId': '0x518a', 'CommandLine': '', 'Host': {'$ref': '4'}, 'Type': 'process'}, {'$id': '6', 'Name': 'dbadmin', 'Host': {'$ref': '4'}, 'Sid': '1001:1001', 'Type': 'account', 'LogonId': '0x2e093'}, {'$id': '7', 'Directory': '/usr/bin', 'Name': 'vim.basic', 'Type': 'file'}, {'$id': '8', 'ProcessId': '0x51b3', 'CommandLine': '/usr/bin/vim.basic /tmp/crontab.UQ6iiQ/crontab', 'CreationTimeUtc': '2019-02-15T04:03:22.173Z', 'ImageFile': {'$ref': '7'}, 'Account': {'$ref': '6'}, 'ParentProcess': {'$ref': '5'}, 'Host': {'$ref': '4'}, 'Type': 'process'}, {'$id': '9', 'SessionId': '0x2e093', 'StartTimeUtc': '2019-02-15T04:03:22.173Z', 'EndTimeUtc': '2019-02-15T04:03:22.173Z', 'Type': 'host-logon-session', 'Host': {'$ref': '4'}, 'Account': {'$ref': '6'}}]</td>\n    </tr>\n    <tr>\n      <th>SourceSystem</th>\n      <td>Detection</td>\n    </tr>\n    <tr>\n      <th>WorkspaceSubscriptionId</th>\n      <td>40dcc8bf-0478-4f3b-b275-ed0a94f2c013</td>\n    </tr>\n    <tr>\n      <th>WorkspaceResourceGroup</th>\n      <td>asihuntomsworkspacerg</td>\n    </tr>\n    <tr>\n      <th>ExtendedLinks</th>\n      <td></td>\n    </tr>\n    <tr>\n      <th>ProductName</th>\n      <td></td>\n    </tr>\n    <tr>\n      <th>ProductComponentName</th>\n      <td></td>\n    </tr>\n    <tr>\n      <th>Type</th>\n      <td>SecurityAlert</td>\n    </tr>\n    <tr>\n      <th>Computer</th>\n      <td></td>\n    </tr>\n    <tr>\n      <th>src_hostname</th>\n      <td></td>\n    </tr>\n    <tr>\n      <th>src_accountname</th>\n      <td>dbadmin</td>\n    </tr>\n    <tr>\n      <th>src_procname</th>\n      <td></td>\n    </tr>\n    <tr>\n      <th>host_match</th>\n      <td>False</td>\n    </tr>\n    <tr>\n      <th>acct_match</th>\n      <td>True</td>\n    </tr>\n    <tr>\n      <th>proc_match</th>\n      <td>True</td>\n    </tr>\n    <tr>\n      <th>CompromisedEntity</th>\n      <td>dbadmin</td>\n    </tr>\n  </tbody>\n</table><br/><h3>ExtendedProperties:</h3><table border=\"1\" class=\"dataframe\">\n  <thead>\n    <tr style=\"text-align: right;\">\n      <th></th>\n      <th>0</th>\n    </tr>\n  </thead>\n  <tbody>\n    <tr>\n      <th>Compromised Host</th>\n      <td>MSTICALERTSLXVM2</td>\n    </tr>\n    <tr>\n      <th>User Name</th>\n      <td>dbadmin</td>\n    </tr>\n    <tr>\n      <th>Account Session Id</th>\n      <td>0x2e093</td>\n    </tr>\n    <tr>\n      <th>Suspicious Process</th>\n      <td>/usr/bin/vim.basic</td>\n    </tr>\n    <tr>\n      <th>Suspicious Command Line</th>\n      <td>/usr/bin/vim.basic /tmp/crontab.UQ6iiQ/crontab</td>\n    </tr>\n    <tr>\n      <th>Suspicious Process Id</th>\n      <td>0x51b3</td>\n    </tr>\n    <tr>\n      <th>resourceType</th>\n      <td>Virtual Machine</td>\n    </tr>\n    <tr>\n      <th>ServiceId</th>\n      <td>14fa08c7-c48e-4c18-950c-8148024b4398</td>\n    </tr>\n    <tr>\n      <th>ReportingSystem</th>\n      <td>Azure</td>\n    </tr>\n    <tr>\n      <th>OccuringDatacenter</th>\n      <td>eastus</td>\n    </tr>\n  </tbody>\n</table><h3>Entity counts: </h3>host: 1, process: 2, account: 1, file: 1, hostlogonsession: 1",
                    "text/plain": "<IPython.core.display.HTML object>"
                  },
                  "metadata": {},
                  "output_type": "display_data"
                },
                {
                  "name": "stdout",
                  "output_type": "stream",
                  "text": "{ 'AdditionalData': {},\n  'DnsDomain': '',\n  'HostName': 'MSTICALERTSLXVM2',\n  'NTDomain': '',\n  'NetBiosName': 'MSTICALERTSLXVM2',\n  'OSFamily': 'Linux',\n  'Type': 'host'}\n{ 'AdditionalData': {},\n  'CommandLine': '',\n  'Host': { 'AdditionalData': {},\n            'DnsDomain': '',\n            'HostName': 'MSTICALERTSLXVM2',\n            'NTDomain': '',\n            'NetBiosName': 'MSTICALERTSLXVM2',\n            'OSFamily': 'Linux',\n            'Type': 'host'},\n  'ProcessId': '0x518a',\n  'Type': 'process'}\n{ 'AdditionalData': {},\n  'Host': { 'AdditionalData': {},\n            'DnsDomain': '',\n            'HostName': 'MSTICALERTSLXVM2',\n            'NTDomain': '',\n            'NetBiosName': 'MSTICALERTSLXVM2',\n            'OSFamily': 'Linux',\n            'Type': 'host'},\n  'LogonId': '0x2e093',\n  'Name': 'dbadmin',\n  'Sid': '1001:1001',\n  'Type': 'account'}\n{ 'AdditionalData': {},\n  'Directory': '/usr/bin',\n  'FullPath': '/usr/bin/vim.basic',\n  'Name': 'vim.basic',\n  'Type': 'file'}\n{ 'Account': { 'AdditionalData': {},\n               'Host': { 'AdditionalData': {},\n                         'DnsDomain': '',\n                         'HostName': 'MSTICALERTSLXVM2',\n                         'NTDomain': '',\n                         'NetBiosName': 'MSTICALERTSLXVM2',\n                         'OSFamily': 'Linux',\n                         'Type': 'host'},\n               'LogonId': '0x2e093',\n               'Name': 'dbadmin',\n               'Sid': '1001:1001',\n               'Type': 'account'},\n  'AdditionalData': {},\n  'CommandLine': '/usr/bin/vim.basic /tmp/crontab.UQ6iiQ/crontab',\n  'CreationTimeUtc': '2019-02-15T04:03:22.173Z',\n  'Host': { 'AdditionalData': {},\n            'DnsDomain': '',\n            'HostName': 'MSTICALERTSLXVM2',\n            'NTDomain': '',\n            'NetBiosName': 'MSTICALERTSLXVM2',\n            'OSFamily': 'Linux',\n            'Type': 'host'},\n  'ImageFile': { 'AdditionalData': {},\n                 'Directory': '/usr/bin',\n                 'FullPath': '/usr/bin/vim.basic',\n                 'Name': 'vim.basic',\n                 'Type': 'file'},\n  'ParentProcess': { 'AdditionalData': {},\n                     'CommandLine': '',\n                     'Host': { 'AdditionalData': {},\n                               'DnsDomain': '',\n                               'HostName': 'MSTICALERTSLXVM2',\n                               'NTDomain': '',\n                               'NetBiosName': 'MSTICALERTSLXVM2',\n                               'OSFamily': 'Linux',\n                               'Type': 'host'},\n                     'ProcessId': '0x518a',\n                     'Type': 'process'},\n  'ProcessId': '0x51b3',\n  'Type': 'process'}\n{ 'Account': { 'AdditionalData': {},\n               'Host': { 'AdditionalData': {},\n                         'DnsDomain': '',\n                         'HostName': 'MSTICALERTSLXVM2',\n                         'NTDomain': '',\n                         'NetBiosName': 'MSTICALERTSLXVM2',\n                         'OSFamily': 'Linux',\n                         'Type': 'host'},\n               'LogonId': '0x2e093',\n               'Name': 'dbadmin',\n               'Sid': '1001:1001',\n               'Type': 'account'},\n  'AdditionalData': {},\n  'EndTimeUtc': '2019-02-15T04:03:22.173Z',\n  'Host': { 'AdditionalData': {},\n            'DnsDomain': '',\n            'HostName': 'MSTICALERTSLXVM2',\n            'NTDomain': '',\n            'NetBiosName': 'MSTICALERTSLXVM2',\n            'OSFamily': 'Linux',\n            'Type': 'host'},\n  'SessionId': '0x2e093',\n  'StartTimeUtc': '2019-02-15T04:03:22.173Z',\n  'Type': 'hostlogonsession'}\n"
                }
              ]
            }
          },
          "da5e077a570f44a2aa2276a84e73418c": {
            "model_module": "@jupyter-widgets/controls",
            "model_module_version": "1.5.0",
            "model_name": "VBoxModel",
            "state": {
              "children": [
                "IPY_MODEL_565b97a862a543b3accac809160d3bf7",
                "IPY_MODEL_80d826f17e954a09999593557d12a5db",
                "IPY_MODEL_75a5f1fa13044f3ea77c0be6d88b2bdd"
              ],
              "layout": "IPY_MODEL_faa84603000f475e9b0129544dcaaf2d"
            }
          },
          "da957843532947ab947c4c0c0355f1d6": {
            "model_module": "@jupyter-widgets/base",
            "model_module_version": "1.2.0",
            "model_name": "LayoutModel",
            "state": {
              "border": "1px solid black"
            }
          },
          "dbe305a8a0e1461eb0d1282101a54afa": {
            "model_module": "@jupyter-widgets/controls",
            "model_module_version": "1.5.0",
            "model_name": "VBoxModel",
            "state": {
              "children": [
                "IPY_MODEL_09a3ca78764140b38b641c4dfe24fc76",
                "IPY_MODEL_df20c8313dcf422d9d4c4e5357d6f7d3",
                "IPY_MODEL_a7132fff2e6247b0b1b69208733bde28"
              ],
              "layout": "IPY_MODEL_7343bdd2de58410dabbc37406bc3549e"
            }
          },
          "dd4abbbb15fd466687bd54f0a3d80024": {
            "model_module": "@jupyter-widgets/controls",
            "model_module_version": "1.5.0",
            "model_name": "HBoxModel",
            "state": {
              "children": [
                "IPY_MODEL_df6a664042ba43e7b7c324c52c9d7cc9",
                "IPY_MODEL_304f50bcff6f479e853a23ec532eea5d"
              ],
              "layout": "IPY_MODEL_3a3165abb4c64e2e95f7766a4f597c3a"
            }
          },
          "de5a181d5d944b1e8a907ce8d5455cdc": {
            "model_module": "@jupyter-widgets/base",
            "model_module_version": "1.2.0",
            "model_name": "LayoutModel",
            "state": {
              "width": "50%"
            }
          },
          "df20c8313dcf422d9d4c4e5357d6f7d3": {
            "model_module": "@jupyter-widgets/controls",
            "model_module_version": "1.5.0",
            "model_name": "SelectModel",
            "state": {
              "_options_labels": [
                "b0493469-b0c7-4666-acb8-787646c14107",
                "afef383e-af37-4058-a13b-f904f1eb9823"
              ],
              "description": "Select an item",
              "index": 1,
              "layout": "IPY_MODEL_bc091a619ea94668a648822e7325669f",
              "style": "IPY_MODEL_ef56f84b40144d4a9e23b8f55e9e1815"
            }
          },
          "df6a664042ba43e7b7c324c52c9d7cc9": {
            "model_module": "@jupyter-widgets/controls",
            "model_module_version": "1.5.0",
            "model_name": "DatePickerModel",
            "state": {
              "description": "Origin Date",
              "disabled": false,
              "layout": "IPY_MODEL_acab5baa37154a00adcbf05f65ad3615",
              "style": "IPY_MODEL_1a1e0fce7b5243758e9871320bb00006",
              "value": {
                "date": 18,
                "month": 9,
                "year": 2019
              }
            }
          },
          "e999eb22b2de4400ae0934bea77679ab": {
            "model_module": "@jupyter-widgets/controls",
            "model_module_version": "1.5.0",
            "model_name": "TextModel",
            "state": {
              "description": "Query start time (UTC):",
              "layout": "IPY_MODEL_702bf110ba4f405eba4a027a09064c41",
              "style": "IPY_MODEL_532ed04a12d647a29782545bc6d815a7",
              "value": "2019-10-13 21:55:47.669836"
            }
          },
          "eb31b443cf9a4dd995a18658180105c1": {
            "model_module": "@jupyter-widgets/controls",
            "model_module_version": "1.5.0",
            "model_name": "DescriptionStyleModel",
            "state": {
              "description_width": "initial"
            }
          },
          "eba1cde4e8bf4dc3bd6355524b911454": {
            "model_module": "@jupyter-widgets/base",
            "model_module_version": "1.2.0",
            "model_name": "LayoutModel",
            "state": {
              "height": "100px",
              "width": "50%"
            }
          },
          "ed6a98c8255941e7baf94ebff51afb2d": {
            "model_module": "@jupyter-widgets/base",
            "model_module_version": "1.2.0",
            "model_name": "LayoutModel",
            "state": {
              "border": "1px solid black"
            }
          },
          "ed8284289e9441549c4259fa9e6734d8": {
            "model_module": "@jupyter-widgets/controls",
            "model_module_version": "1.5.0",
            "model_name": "TextModel",
            "state": {
              "description": "Query start time (UTC):",
              "layout": "IPY_MODEL_7aff4c4303124b61946083de91a78025",
              "style": "IPY_MODEL_9cbe916e267b416a99e1aad2af18bee9",
              "value": "2019-02-15 02:56:03.315071"
            }
          },
          "eedbd1ec35524ee4a213788b7f7046ad": {
            "model_module": "@jupyter-widgets/controls",
            "model_module_version": "1.5.0",
            "model_name": "TextModel",
            "state": {
              "description": "Filter:",
              "layout": "IPY_MODEL_c8e7ee1140804156b5b67efc421fabf1",
              "style": "IPY_MODEL_1d0c25caec174a93b32c81e5427e3176"
            }
          },
          "ef56f84b40144d4a9e23b8f55e9e1815": {
            "model_module": "@jupyter-widgets/controls",
            "model_module_version": "1.5.0",
            "model_name": "DescriptionStyleModel",
            "state": {
              "description_width": "initial"
            }
          },
          "f45d552220ab47cc830cae4587ca6a3b": {
            "model_module": "@jupyter-widgets/controls",
            "model_module_version": "1.5.0",
            "model_name": "DescriptionStyleModel",
            "state": {
              "description_width": "initial"
            }
          },
          "f4d1dffedaca44b486339e74320d7452": {
            "model_module": "@jupyter-widgets/output",
            "model_module_version": "1.0.0",
            "model_name": "OutputModel",
            "state": {
              "layout": "IPY_MODEL_110966f8eafc41278b92312f26d0096d",
              "outputs": [
                {
                  "data": {
                    "text/markdown": "<p style='font-weight: bold'>dbadmin (source: LinuxHostLogon)</p>",
                    "text/plain": "<IPython.core.display.Markdown object>"
                  },
                  "metadata": {},
                  "output_type": "display_data"
                },
                {
                  "data": {
                    "text/html": "<div>\n<style scoped>\n    .dataframe tbody tr th:only-of-type {\n        vertical-align: middle;\n    }\n\n    .dataframe tbody tr th {\n        vertical-align: top;\n    }\n\n    .dataframe thead th {\n        text-align: right;\n    }\n</style>\n<table border=\"1\" class=\"dataframe\">\n  <thead>\n    <tr style=\"text-align: right;\">\n      <th></th>\n      <th>LogonType</th>\n      <th>SourceIP</th>\n      <th>Computer</th>\n      <th>TimeGenerated</th>\n      <th>TenantId</th>\n      <th>SourceSystem</th>\n      <th>EventTime</th>\n      <th>Facility</th>\n      <th>HostName</th>\n      <th>SeverityLevel</th>\n      <th>SyslogMessage</th>\n      <th>ProcessID</th>\n      <th>HostIP</th>\n      <th>ProcessName</th>\n      <th>MG</th>\n      <th>Type</th>\n      <th>_ResourceId</th>\n      <th>AccountName</th>\n      <th>User</th>\n      <th>SourcePort</th>\n      <th>UID</th>\n    </tr>\n  </thead>\n  <tbody>\n    <tr>\n      <td>0</td>\n      <td>(sshd)</td>\n      <td></td>\n      <td>MSTICAlertsLxVM2</td>\n      <td>2019-02-25 15:34:15.877</td>\n      <td>52b1ab41-869e-4138-9e40-2a4457f09bf0</td>\n      <td>Linux</td>\n      <td>2019-02-25 15:34:15</td>\n      <td>auth</td>\n      <td>MSTICAlertsLxVM2</td>\n      <td>info</td>\n      <td>Accepted publickey for dbadmin from 23.97.60.214 port 65505 ssh2: RSA SHA256:t9MNKS5oNTFQ3alWBHp...</td>\n      <td>16494</td>\n      <td>10.0.3.4</td>\n      <td>sshd</td>\n      <td>00000000-0000-0000-0000-000000000002</td>\n      <td>Syslog</td>\n      <td>/subscriptions/40dcc8bf-0478-4f3b-b275-ed0a94f2c013/resourcegroups/asihuntomsworkspacerg/provide...</td>\n      <td>dbadmin</td>\n      <td>dbadmin</td>\n      <td>65505</td>\n      <td></td>\n    </tr>\n  </tbody>\n</table>\n</div>",
                    "text/plain": "  LogonType SourceIP          Computer           TimeGenerated  \\\n0    (sshd)           MSTICAlertsLxVM2 2019-02-25 15:34:15.877   \n\n                               TenantId SourceSystem           EventTime  \\\n0  52b1ab41-869e-4138-9e40-2a4457f09bf0        Linux 2019-02-25 15:34:15   \n\n  Facility          HostName SeverityLevel  \\\n0     auth  MSTICAlertsLxVM2          info   \n\n                                                                                         SyslogMessage  \\\n0  Accepted publickey for dbadmin from 23.97.60.214 port 65505 ssh2: RSA SHA256:t9MNKS5oNTFQ3alWBHp...   \n\n   ProcessID    HostIP ProcessName                                    MG  \\\n0      16494  10.0.3.4        sshd  00000000-0000-0000-0000-000000000002   \n\n     Type  \\\n0  Syslog   \n\n                                                                                           _ResourceId  \\\n0  /subscriptions/40dcc8bf-0478-4f3b-b275-ed0a94f2c013/resourcegroups/asihuntomsworkspacerg/provide...   \n\n  AccountName     User SourcePort UID  \n0     dbadmin  dbadmin      65505      "
                  },
                  "metadata": {},
                  "output_type": "display_data"
                }
              ]
            }
          },
          "f77e0b6fd3644871bc08e707e1d81d48": {
            "model_module": "@jupyter-widgets/controls",
            "model_module_version": "1.5.0",
            "model_name": "TextModel",
            "state": {
              "description": "Filter:",
              "layout": "IPY_MODEL_54d53cce6f824bb4a2fd05cbacd0b8ff",
              "style": "IPY_MODEL_3de22fc97aed49778c70e3aae0dfb0f8"
            }
          },
          "f9cb33c773284d35b07a39dd405b9a4e": {
            "model_module": "@jupyter-widgets/controls",
            "model_module_version": "1.5.0",
            "model_name": "DescriptionStyleModel",
            "state": {
              "description_width": ""
            }
          },
          "faa84603000f475e9b0129544dcaaf2d": {
            "model_module": "@jupyter-widgets/base",
            "model_module_version": "1.2.0",
            "model_name": "LayoutModel",
            "state": {}
          },
          "fb807bb93bd84e528caab6ec18d5e649": {
            "model_module": "@jupyter-widgets/controls",
            "model_module_version": "1.5.0",
            "model_name": "SelectModel",
            "state": {
              "_options_labels": [
                "MSTICAdmin   LinuxHostLogon (Last activity: 2019-02-15 04:00:00.827000)",
                "ian   WindowsHostLogon (Last activity: 2019-02-25 18:32:40.620000)",
                "ianh@M365x054215.onmicrosoft.com   O365Activity (Last activity: 2019-02-16 03:48:19)",
                "ianh@m365x054215.onmicrosoft.com   O365Activity (Last activity: 2019-02-16 03:45:20)"
              ],
              "description": "Select an account to explore",
              "index": 3,
              "layout": "IPY_MODEL_b9676325af0646ac960a02f1a3d0a062",
              "style": "IPY_MODEL_9b60959bf55048b7a20d3ed4c2169843"
            }
          },
          "fc03fbd6c39f43fb9208babc0913608a": {
            "model_module": "@jupyter-widgets/base",
            "model_module_version": "1.2.0",
            "model_name": "LayoutModel",
            "state": {
              "border": "1px solid black"
            }
          },
          "ff22f9849d344041843288fb3d53be7a": {
            "model_module": "@jupyter-widgets/controls",
            "model_module_version": "1.5.0",
            "model_name": "DescriptionStyleModel",
            "state": {
              "description_width": "initial"
            }
          },
          "ff3874eac11f48ae9fc266ea5fca08e2": {
            "model_module": "@jupyter-widgets/controls",
            "model_module_version": "1.5.0",
            "model_name": "SelectModel",
            "state": {
              "_options_labels": [
                "2019-02-15 03:50:55  Detected suspicious file download (dbadmin) [id:2518520981440769999_caab1270-55d3-4447-8618-16cf8672e4e1]",
                "2019-02-15 04:03:22  Possible suspicious scheduling tasks access detected (dbadmin) [id:2518520973978269999_57b6af71-984e-45f3-9aac-d6bbd79eed07]",
                "2019-02-15 19:43:49  Detected suspicious file download (dbadmin) [id:2518520409706099999_c5116800-e694-4900-a6e3-28cc7875b093]",
                "2019-02-16 03:23:54  Detected suspicious file download (dbadmin) [id:2518520133657099999_384e00d0-4afc-4e9a-8935-bec64d3951a4]",
                "2019-02-18 15:29:22  Detected suspicious file download (dbadmin) [id:2518517970377929999_6ed51e72-6170-4f28-b551-9b7b49936c4c]",
                "2019-02-20 15:21:05  Detected suspicious file download (dbadmin) [id:2518516247346029999_217d56b4-24be-4029-8ba9-7664868b7039]",
                "2019-02-22 15:36:12  Detected suspicious file download (dbadmin) [id:2518514510276729999_a9813243-7b57-4504-95c2-97a76e530436]",
                "2019-02-25 15:34:17  Detected suspicious file download (dbadmin) [id:2518511919420069999_54d82dbd-701d-4d62-8d48-d4dcc53cb5bf]"
              ],
              "description": "Select alert :",
              "index": 1,
              "layout": "IPY_MODEL_bfd599e1dcdb42d680f491161656d483",
              "style": "IPY_MODEL_81f32fb652034c85aa69953a384bd74f"
            }
          }
        },
        "version_major": 2,
        "version_minor": 0
      }
    },
    "language_info": {
      "mimetype": "text/x-python",
      "nbconvert_exporter": "python",
      "name": "python",
      "pygments_lexer": "ipython3",
      "version": "3.6.6",
      "file_extension": ".py",
      "codemirror_mode": {
        "version": 3,
        "name": "ipython"
      }
    }
  },
  "nbformat": 4,
  "nbformat_minor": 2
}