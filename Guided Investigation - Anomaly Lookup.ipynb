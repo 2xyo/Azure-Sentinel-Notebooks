{
  "cells": [
    {
      "cell_type": "markdown",
      "source": [
        "# Guided Investigation - Anomaly Lookup\r\n",
        "\r\n",
        "__Notebook Version:__ 1.0<br>\r\n",
        "__Python Version:__ Python 3.6 - AzureML<br>\r\n",
        "__Required Packages:__ Azure-Sentinel-Utilities<br>\r\n",
        "__Platforms Supported:__  Azure Machine Learning Notebooks\r\n",
        "     \r\n",
        "__Data Source Required:__ Log Analytics tables \r\n",
        "    \r\n",
        "### Description\r\n",
        "Gain insights into the possible root cause of an alert by searching for related anomalies on the corresponding entities around the alert’s time. This notebook will provide valuable leads for an alert’s investigation, listing all suspicious increase in event counts or their properties around the time of the alert, and linking to the corresponding raw records in Log Analytics for the investigator to focus on and interpret.\r\n",
        "\r\n",
        "<font>You may need to select Python 3.6 - AzureML on Azure Machine Learning Notebooks.</font>\r\n",
        "\r\n",
        "## Table of Contents\r\n",
        "\r\n",
        "1. Initialize Azure Resource Management Clients\r\n",
        "2. Looking up for anomaly entities"
      ],
      "metadata": {
        "nteract": {
          "transient": {
            "deleting": false
          }
        }
      }
    },
    {
      "cell_type": "code",
      "source": [
        "# Loading Python libraries\r\n",
        "from azure.common.client_factory import get_client_from_cli_profile\r\n",
        "from azure.common.credentials import get_azure_cli_credentials\r\n",
        "from azure.loganalytics import LogAnalyticsDataClient\r\n",
        "from azure.loganalytics.models import QueryBody\r\n",
        "from azure.mgmt.loganalytics import LogAnalyticsManagementClient\r\n",
        "\r\n",
        "from pandas.io.json import json_normalize\r\n",
        "import sys\r\n",
        "import timeit\r\n",
        "import datetime as dt\r\n",
        "import pandas as pd\r\n",
        "import copy\r\n",
        "import json\r\n",
        "from IPython.display import HTML\r\n",
        "from cryptography.fernet import Fernet"
      ],
      "outputs": [],
      "execution_count": null,
      "metadata": {
        "collapsed": true,
        "jupyter": {
          "source_hidden": false,
          "outputs_hidden": false
        },
        "nteract": {
          "transient": {
            "deleting": false
          }
        },
        "gather": {
          "logged": 1614620556237
        }
      }
    },
    {
      "cell_type": "markdown",
      "source": [
        "The following cell has classes and functions for this notebook, code is hidden to unclutter the notebook.  please RUN the cell, you may view the code by clicking 'input hidden'."
      ],
      "metadata": {
        "nteract": {
          "transient": {
            "deleting": false
          }
        }
      }
    },
    {
      "cell_type": "code",
      "source": [
        "# Classes will be used in this notebook\r\n",
        "class AnomalyQueries():\r\n",
        "    \"\"\" KQLs for anomaly lookup \"\"\"\r\n",
        "    KEY = b'7jH91qslpgxNSdVPiQwtr2D4bSg2i5ArfJqAMA1zCkU='\r\n",
        "    QUERIES = {}\r\n",
        "    # pylint: disable=line-too-long\r\n",
        "    QUERIES['LISTTABLES'] = b'gAAAAABfdL95MQF9HV5YIbGGKy9kWPKXpbH3VWf80l9elru76D6sw8JN-shOQSYcWfSW43PfW7LSoShP14zl8_iu1-RC-mFYX_ZxiUBTZ5H-MHZZIAU0-nL1QOJ3EgJqHWpU79Kf9VsxjuKDf6oedEDnveb5MaM2Li-qQeJ7edUb1JknuQD5JFKRpqr_yE1jBQO3RPNxyXg9rhFPkNsTTxyHXZLE3NWQMA=='\r\n",
        "    # pylint: disable=line-too-long\r\n",
        "    QUERIES['ISCATCOLUMN'] = b'gAAAAABdNjkBT7XTAvPjCp56dI7LRL35EPMzF8UX_c4Hs0q910bTI2y-6viJGG7ZlXjclORrXFK68dAd2dYfLB0A_rw0Q9CeLEGUuWkHSFc7al2xwu7uEgliddsQQyocWhqyWlEtFEReIeJaqZYaSOkLon7sPN_icKEwiHc096kCkyjw5D0TeZ0Kgmnc5799Al7ND0kAk7KO'\r\n",
        "    # pylint: disable=line-too-long\r\n",
        "    QUERIES['ISCATHEURISTIC'] = b'gAAAAABdNjkglsyzKMCUkIXq3aqcim0F70S86HfAqaiyNUIF0La2st1DkiQTFK_vqVIyxiY25i78FiT6y0yZG4YQmpAVVwRJ302KkeAPVq0mPPK1FKbRcnnqmIc1HOAycyv3dmDHDUG7-_b-wyy8IDneWYyTE3TxyLUcG3kJRTmQd_6-hLXfDUjctjm0VPrA9zcrN8Il1y-nq-4jOsFZbO0qvHZfnLBTwaf52hkXPqmkZN9Rz-deW6Q4VY_j7Vw7rRrXM5WxRchL2kJBhGOq-hM8A3W9AA7qHnkgVu2BOVEYZAT_EnHvks8YMcWP04WKs49Dw5Ga4UMqJeU4MJH8PKfNmn7zcuLwMA=='\r\n",
        "    # pylint: disable=line-too-long\r\n",
        "    QUERIES['TIMESERIESANOMALYDETECTION'] = b'gAAAAABeNN8ojnOJUuvi1_FI8bqz200wGX1CPFnxU8FHDnwmFx7Ywm54WwbFXMWXVIpiLf9zjv5Fcl85wdyBdA6KS7_xph89Geb5CQOoqMGt_-syZ_KgE4CXQoCDCfWmCYXlx2zzIZX5g88SfVJeLmWbCUsk20KTO0Ecdt6TauIUuLkCh85v55_j8RSxXvwZy4y-WAate9hZh1xoRV5fjvq1_ox2V_qpJO-HpzdCuZGelMx3DkxL0PUy2_SXLZdaa5HLl0vM0IfmiDqIQgcxnjAEwk6GGezh3FvT43BCwO_HX5PHixCkqozeXzbsLuWxOMpoZ5I1174dVWK-8e9uiVvMfwyOqeC9tlKoAUXAEBsXS41kEbAMTwlK3VcCqq9iTfnW0jUkSlMV7P_JbWOVxErwC4DtIKP5d6AyNcqVhBlOYZwouqoY734vBhDsx95bzN2mwwL2-_Set_ksdoxTLlFVaWK9MY4tmBCsoQSVHrVuo00K1zPYIh43VgbVm6gFLs7kdjFDraMb5fjx0VxXQrkUkeO3xZ7i9caKl2ODpoVf2ahAPxqPTmHIG9bqQBb2SGu3PakxrRiRanOLY-pJ4eN54fQlYhk-O-1UwpUnna4WVMbqST4tFbEBCpr4IeGNqnaEeNccuHaWHDdjxIEt5sZ402LFJAV0HvMOxOVD3qUjUroHFysJrZXzYJF9HApBbtryokMjgh1YPGAwguniTTyUQolrV_1m54yhJLd7I-39MnBpfobO6sXAtZjPxZfoCCmiJta_JaAuj2sW-8goxU0NBWUxBsiEnPIrHyJKLiduavgID2UcHR4rhByyUg3EzbeKFO-WS-oIVXn0jFUfGjhOKc70Xc1R3L_vvGe2029AYkWmHb36yEJgVlVJ4YQ_7eMSjosZA6R97SDzYXCC1eOopH1hyexwvJwmlzP2gb3NcZ41WbmCTA7vYlT1uH4IqMiuvNWwkZ7MpPIccOnwFWkLFzh_BpgDfvnGy-loqaTNuuLUYzoAyhejzfBQPwG7AlPwH85pfNGarrz7z47uMYQE51-R2gxpDSmw3QvWacKIs3F2g94umQjXJkZ9otiNxPqZceKINig3pFj_SMRiQ1vXRNyKUM8BYptJJ7CFR5TI37lElejgoQBD3VQ7uyK_Ghz8M4cJG1P3ry9d8mk0-vwNClGkb4WGgLR69dPBSZM03uQ14oolEHxuwPQgBoLM-Rlu3YuGQBfbCtqtarLa8IwFBQcbA6WsKJ2dDnCcrRdCuMMTsKuJlSfoU-7jAOwVN-ISg8m47aWbJZtjAODzPxuv9KOQlTfApJcjla37UKKctce9kVkYeoqi6dJnSF9HLsfbRhSIf9bWKHue2ML20urH-0xhIDxvSA=='\r\n",
        "    # pylint: disable=line-too-long\r\n",
        "    QUERIES['TIMEWINDOWQUERY'] = b'gAAAAABdOjxI1Cq7frn_5Gj1l2vvA6Eu-a5qghqvRTBc8I9gWdcI8JiALXjpT7qJwf8ZBCKCrwYtMXY2-bp7Cj4jwYVXVDKmXRjoyz0xLbiVdCkIc07U2sNjpwzO1y1OvRr2apYv5Y9_yh_vOpqN4uv1WUezH_z1bXNCO-yI-LMIlidav4Xh5KwRtGBTnXGBk5YidPJVHfnZZGpCQ5w7g4t0ptoM5p6w_eXC8RZ82J3QLIVGtguWISFYweE5GWVJkkUXq3aq3n36uIFl2T3YllLUX2FytfOw_B8Xt1UrspWURfgDx1xqyCnqUEPG_EnO-TuGKFbMkh6AjpcduidHTuuS45YGatPvzRzyAzElLnbj7-s0gc-0POrUyiNaeTj_Tg0wTBsIJklL'\r\n",
        "    # pylint: disable=line-too-long\r\n",
        "    QUERIES['ISENTITYINTABLE'] = b'gAAAAABdNkO8YYV6ElbBqI9qp0oLHLquoYJD_7umEu1sDgyHouYcN0jU6vlOPp8AN5lecaMvXPUqQ5ZiFw6393Z9l7kNOB7IMITURv59MZJxeEVpt5ud9F4ge-5JGge5k7ux2YU50z-u9djJYet2SO-n1MpD5xO14ODKtBPsr9guZ40wYJwMzwLCjDSpTXFnIDjYrXDhfU3D2YGc4jnrq2EePBUAPPKxnIXg7AtmnGm4Add1_aV-pDlHMXTn09Z3kvlUcHpHBw7g'\r\n",
        "\r\n",
        "    @staticmethod\r\n",
        "    def get_query(name):\r\n",
        "        \"\"\" get KQL \"\"\"\r\n",
        "        en_query = AnomalyQueries.QUERIES[name]\r\n",
        "        query = AnomalyQueries.deobfuscate_text(en_query)\r\n",
        "        return query\r\n",
        "\r\n",
        "    @staticmethod\r\n",
        "    def deobfuscate_text(en_text):\r\n",
        "        \"\"\" De-obfuscate input text using key \"\"\"\r\n",
        "        fernet = Fernet(AnomalyQueries.KEY)\r\n",
        "        re_text = fernet.decrypt(en_text)\r\n",
        "        return re_text.decode('utf-8')\r\n",
        "\r\n",
        "class AnomalyFinder():\r\n",
        "    \"\"\"\r\n",
        "    This class provides process flow functions for anomaly lookup.\r\n",
        "    Method - run is the main entry point.\r\n",
        "    \"\"\"\r\n",
        "    def __init__(self, workspace_id, la_data_client):\r\n",
        "        self.workspace_id = workspace_id\r\n",
        "        self.la_data_client = la_data_client\r\n",
        "        self.anomaly = ''\r\n",
        "\r\n",
        "    def query_table_list(self):\r\n",
        "        \"\"\" Get a list of data tables from Log Analytics for the user \"\"\"\r\n",
        "        query = AnomalyQueries.get_query('LISTTABLES')\r\n",
        "        return self.query_loganalytics(query)\r\n",
        "\r\n",
        "    def query_loganalytics(self, query):\r\n",
        "        \"\"\" This method will call Log Analytics through LA client \"\"\"\r\n",
        "        res = self.la_data_client.query(self.workspace_id, QueryBody(query=query))\r\n",
        "        json = res.as_dict()\r\n",
        "        cols = json_normalize(json['tables'][0], 'columns')\r\n",
        "        data_frame = json_normalize(json['tables'][0], 'rows')\r\n",
        "        if data_frame.shape[0] != 0:\r\n",
        "            data_frame.columns = cols.name\r\n",
        "        return data_frame\r\n",
        "\r\n",
        "    @staticmethod\r\n",
        "    def construct_related_queries(df_anomalies):\r\n",
        "        \"\"\" This method constructs query for user to repo and can be saves for future references \"\"\"\r\n",
        "\r\n",
        "        if df_anomalies.shape[0] == 0:\r\n",
        "            return None\r\n",
        "\r\n",
        "        queries = ''\r\n",
        "        for tbl in df_anomalies.Table.unique():\r\n",
        "\r\n",
        "            cur_table_anomalies = df_anomalies.loc[df_anomalies.Table == tbl, :]\r\n",
        "            query = \"\"\"{tbl} \\\r\n",
        "            | where TimeGenerated > datetime({maxTimestamp})-14d and TimeGenerated < datetime({maxTimestamp}) \\\r\n",
        "            | where {entCol} has \"{qEntity}\" \\\r\n",
        "            | where \"\"\".format(**{\r\n",
        "                'tbl': tbl,\r\n",
        "                'qTimestamp': cur_table_anomalies.qTimestamp.iloc[0],\r\n",
        "                'maxTimestamp': cur_table_anomalies.maxTimestamp.iloc[0],\r\n",
        "                'entCol': cur_table_anomalies.entCol.iloc[0],\r\n",
        "                'qEntity': cur_table_anomalies.qEntity.iloc[0]\r\n",
        "            })\r\n",
        "\r\n",
        "            for j, row in cur_table_anomalies.iterrows(): # pylint: disable=unused-variable\r\n",
        "                query += \" {col} == to{colType}(\\\"{colVal}\\\") or\".format(\r\n",
        "                    col=row.colName,\r\n",
        "                    colType=(row.colType) if 'colType' in row.keys() else 'string',\r\n",
        "                    colVal=row.colVal.replace('\"', '')\r\n",
        "                )\r\n",
        "\r\n",
        "            query = query[:-2] # drop the last or\r\n",
        "            query += \" | take 1000; \" # limit the output size\r\n",
        "            query = query.replace(\"\\\\\", \"\\\\\\\\\")\r\n",
        "\r\n",
        "            queries += query\r\n",
        "        return queries\r\n",
        "\r\n",
        "    def get_timewindow(self, q_entity, q_timestamp, ent_col, tbl):\r\n",
        "        \"\"\" find the relevant time window for analysis \"\"\"\r\n",
        "\r\n",
        "        win_start = 0\r\n",
        "        min_timestamp = None\r\n",
        "        delta = None\r\n",
        "        max_timestamp = None\r\n",
        "        long_min_timestamp = None\r\n",
        "        time_window_query_template = AnomalyQueries.get_query('TIMEWINDOWQUERY')\r\n",
        "\r\n",
        "        for from_hour in range(-30, 0, 1):\r\n",
        "            kql_time_range_d = time_window_query_template.format(\r\n",
        "                table=tbl,\r\n",
        "                qDate=q_timestamp,\r\n",
        "                entColumn=ent_col,\r\n",
        "                qEntity=q_entity,\r\n",
        "                f=from_hour,\r\n",
        "                t=from_hour+1,\r\n",
        "                delta='d')\r\n",
        "\r\n",
        "            df_time_range = self.query_loganalytics(kql_time_range_d)\r\n",
        "\r\n",
        "            if df_time_range.shape[0] > 0:\r\n",
        "                win_start = from_hour\r\n",
        "                break\r\n",
        "\r\n",
        "        dt_q_timestamp = pd.to_datetime(q_timestamp)\r\n",
        "        ind2now = dt.datetime.utcnow() - dt_q_timestamp\r\n",
        "        if win_start < -3:\r\n",
        "            if ind2now > dt.timedelta(days=1):\r\n",
        "                delta = '1d'\r\n",
        "                max_timestamp = dt_q_timestamp + dt.timedelta(days=1)\r\n",
        "            else:\r\n",
        "                delta = '1d'\r\n",
        "                max_timestamp = dt.datetime.now()\r\n",
        "            long_min_timestamp = max_timestamp + dt.timedelta(days=win_start)\r\n",
        "            min_timestamp = max_timestamp + dt.timedelta(days=max([-6, win_start]))\r\n",
        "\r\n",
        "        elif win_start < 0: # switch to hours\r\n",
        "            win_start_hour = -5\r\n",
        "            for from_hour in range(-3*24, -5, 1):\r\n",
        "                kql_time_range_h = time_window_query_template.format(\r\n",
        "                    table=tbl,\r\n",
        "                    qDate=q_timestamp,\r\n",
        "                    entColumn=ent_col,\r\n",
        "                    qEntity=q_entity,\r\n",
        "                    f=from_hour,\r\n",
        "                    t=from_hour+1,\r\n",
        "                    delta='h')\r\n",
        "\r\n",
        "                df_time_range = self.query_loganalytics(kql_time_range_h)\r\n",
        "\r\n",
        "                if df_time_range.shape[0] > 0:\r\n",
        "                    win_start_hour = from_hour\r\n",
        "                    break\r\n",
        "            if win_start_hour < -5:\r\n",
        "                if ind2now > dt.timedelta(hours=1):\r\n",
        "                    delta = '1h'\r\n",
        "                    max_timestamp = dt_q_timestamp + dt.timedelta(hours=1)\r\n",
        "                else:\r\n",
        "                    delta = '1h'\r\n",
        "                    max_timestamp = dt.datetime.now()\r\n",
        "                min_timestamp = max_timestamp + dt.timedelta(hours=win_start_hour)\r\n",
        "                long_min_timestamp = min_timestamp\r\n",
        "\r\n",
        "        return min_timestamp, delta, max_timestamp, long_min_timestamp\r\n",
        "\r\n",
        "    def run(self, q_timestamp, q_entity, tables):\r\n",
        "        \"\"\" Main function for Anomaly Lookup \"\"\"\r\n",
        "\r\n",
        "        progress_bar = WidgetViewHelper.define_int_progress_bar()\r\n",
        "        display(progress_bar)  # pylint: disable=undefined-variable\r\n",
        "\r\n",
        "        # list tables if not given\r\n",
        "        if not tables:\r\n",
        "            kql_list_tables = AnomalyQueries.get_query('LISTTABLES')\r\n",
        "            tables = self.query_loganalytics(kql_list_tables)\r\n",
        "            tables = tables.SentinelTableName.tolist()\r\n",
        "\r\n",
        "        progress_bar.value += 1\r\n",
        "\r\n",
        "        # find the column in which the query entity appears in each table\r\n",
        "        # - assumption that it appears in just one columns\r\n",
        "        tables2search = []\r\n",
        "        is_entity_in_table_template = AnomalyQueries.get_query('ISENTITYINTABLE')\r\n",
        "\r\n",
        "        for tbl in tables:\r\n",
        "            kql_entity_in_table = is_entity_in_table_template.format(\r\n",
        "                table=tbl,\r\n",
        "                qDate=q_timestamp,\r\n",
        "                qEntity=q_entity)\r\n",
        "            ent_in_table = self.query_loganalytics(kql_entity_in_table)\r\n",
        "\r\n",
        "            if ent_in_table.shape[0] > 0:\r\n",
        "                ent_col = [col for col in ent_in_table.select_dtypes('object').columns[1:] if\r\n",
        "                           ent_in_table.loc[0, col] is not None\r\n",
        "                           and ent_in_table.loc[:, col].str.contains(q_entity, case=False).all()]\r\n",
        "                if ent_col:\r\n",
        "                    ent_col = ent_col[0]\r\n",
        "                tables2search.append({'table': tbl, 'entCol': ent_col})\r\n",
        "\r\n",
        "        progress_bar.value += 2\r\n",
        "\r\n",
        "        # for each table, find the time window to query on\r\n",
        "        for tbl in tables2search:\r\n",
        "            tbl['minTimestamp'], tbl['delta'], tbl['maxTimestamp'], tbl['longMinTimestamp'] = \\\r\n",
        "            self.get_timewindow(q_entity, q_timestamp, tbl['entCol'], tbl['table'])\r\n",
        "\r\n",
        "        progress_bar.value += 1\r\n",
        "\r\n",
        "        # identify all the categorical columns per table on which we will find anomalies\r\n",
        "        categorical_cols = []\r\n",
        "        is_cat_column_template = AnomalyQueries.get_query('ISCATCOLUMN')\r\n",
        "        is_cat_heuristic_template = AnomalyQueries.get_query('ISCATHEURISTIC')\r\n",
        "        for tbl in tables2search:\r\n",
        "            kql_is_cat_column = is_cat_column_template.format(table=tbl['table'])\r\n",
        "            df_cols = self.query_loganalytics(kql_is_cat_column)\r\n",
        "\r\n",
        "            for col in df_cols.ColumnName:\r\n",
        "                kql_is_cat_heuristic = is_cat_heuristic_template.format(\r\n",
        "                    table=tbl['table'],\r\n",
        "                    column=col)\r\n",
        "                df_is_cat = self.query_loganalytics(kql_is_cat_heuristic)\r\n",
        "\r\n",
        "                if df_is_cat.shape[0] > 0:\r\n",
        "                    cat_col_info = copy.deepcopy(tbl)\r\n",
        "                    cat_col_info['col'] = col\r\n",
        "                    categorical_cols.append(cat_col_info)\r\n",
        "\r\n",
        "        progress_bar.value += 2\r\n",
        "\r\n",
        "        anomalies_list = []\r\n",
        "        time_series_anomaly_detection_template = \\\r\n",
        "            AnomalyQueries.get_query('TIMESERIESANOMALYDETECTION')\r\n",
        "        for col_info in categorical_cols:\r\n",
        "            max_timestamp = col_info['maxTimestamp'].strftime('%Y-%m-%dT%H:%M:%S.%f')\r\n",
        "            long_min_timestamp = col_info['longMinTimestamp'].strftime('%Y-%m-%dT%H:%M:%S.%f')\r\n",
        "\r\n",
        "            kql_time_series_anomaly_detection = time_series_anomaly_detection_template.format(\r\n",
        "                table=col_info['table'],\r\n",
        "                column=col_info['col'],\r\n",
        "                entColumn=col_info['entCol'],\r\n",
        "                qEntity=q_entity,\r\n",
        "                minTimestamp=long_min_timestamp,\r\n",
        "                maxTimestamp=max_timestamp,\r\n",
        "                qTimestamp=q_timestamp,\r\n",
        "                delta=col_info['delta'])\r\n",
        "\r\n",
        "            cur_anomalies = self.query_loganalytics(kql_time_series_anomaly_detection)\r\n",
        "\r\n",
        "            anomalies_list.append(cur_anomalies)\r\n",
        "\r\n",
        "        progress_bar.value += 2\r\n",
        "\r\n",
        "        if anomalies_list:\r\n",
        "            anomalies = pd.concat(anomalies_list, axis=0)\r\n",
        "        else:\r\n",
        "            anomalies = pd.DataFrame()\r\n",
        "\r\n",
        "        progress_bar.value += 2\r\n",
        "        queries = AnomalyFinder.construct_related_queries(anomalies)\r\n",
        "        progress_bar.close()\r\n",
        "        self.anomaly = str(anomalies.to_json(orient='records'))\r\n",
        "\r\n",
        "        return anomalies, queries\r\n",
        "\r\n",
        "class WidgetViewHelper():\r\n",
        "    \"\"\" This classes provides helper methods for UI controls and components. \"\"\"\r\n",
        "    def __init__(self):\r\n",
        "        self.variable = None\r\n",
        "\r\n",
        "    @staticmethod\r\n",
        "    def select_multiple_tables(anomaly_lookup):\r\n",
        "        \"\"\" Select data tables \"\"\"\r\n",
        "        table_list = anomaly_lookup.query_table_list()\r\n",
        "        tables = sorted(table_list.SentinelTableName.tolist())\r\n",
        "        return widgets.SelectMultiple(options=tables,\r\n",
        "                                      row=len(tables),\r\n",
        "                                      value=[],\r\n",
        "                                      description='Tables:')\r\n",
        "\r\n",
        "    @staticmethod\r\n",
        "    def define_int_progress_bar():\r\n",
        "        \"\"\" define progress bar \"\"\"\r\n",
        "        # pylint: disable=line-too-long\r\n",
        "        return IntProgress(value=0, min=0, max=10, step=1, description='Loading:', bar_style='success', orientation='horizontal', position='top')\r\n",
        "\r\n",
        "    @staticmethod\r\n",
        "    def define_int_progress_bar():\r\n",
        "        \"\"\" Define a progress bar \"\"\"\r\n",
        "        return widgets.IntProgress(value=0,\r\n",
        "                                   min=0,\r\n",
        "                                   max=10,\r\n",
        "                                   step=1,\r\n",
        "                                   description='Loading:',\r\n",
        "                                   bar_style='success',\r\n",
        "                                   orientation='horizontal',\r\n",
        "                                   position='top')\r\n",
        "\r\n",
        "    @staticmethod\r\n",
        "    # pylint: disable=line-too-long\r\n",
        "    def copy_to_clipboard(url, text_body, label_text):\r\n",
        "        \"\"\" Copy text to Clipboard \"\"\"\r\n",
        "        html_str = (\r\n",
        "            \"\"\"<!DOCTYPE html>\r\n",
        "            <html><body style=\"height:20px\">\r\n",
        "            <input  id=\"sentinel_text_for_copy\" type=\"text\" readonly style=\"font-weight: bold; border: none; max-height:10px; width:1px;\" size = '\"\"\"\r\n",
        "            + str(len(text_body))\r\n",
        "            + \"\"\"' value='\"\"\"\r\n",
        "            + text_body\r\n",
        "            + \"\"\"'>\r\n",
        "            <button style=\"border: 2px solid #4CAF50;\" onclick=\"sentinel_copy()\">\"\"\" + label_text + \"\"\"</button>\r\n",
        "            <script>\r\n",
        "            function sentinel_copy() {\r\n",
        "                var copyText = document.getElementById(\"sentinel_text_for_copy\");\r\n",
        "                copyText.select();\r\n",
        "                document.execCommand(\"copy\");\r\n",
        "            }\r\n",
        "            </script>\r\n",
        "            </body></html>\"\"\"\r\n",
        "        )\r\n",
        "\r\n",
        "        return html_str\r\n",
        "\r\n",
        "    @staticmethod\r\n",
        "    def construct_url_for_log_analytics_logs(tenant_domain,\r\n",
        "                                             subscription_id,\r\n",
        "                                             resource_group,\r\n",
        "                                             workspace_name):\r\n",
        "        \"\"\" Generate URL for LA logs \"\"\"\r\n",
        "        return 'https://portal.azure.com/#blade/Microsoft_Azure_Security_Insights/MainMenuBlade/7/subscriptionId/{0}/resourceGroup/{1}/workspaceName/{2}'.format(subscription_id, resource_group, workspace_name)\r\n",
        "\r\n",
        "    @staticmethod\r\n",
        "    # pylint: disable=undefined-variable\r\n",
        "    def display_html(inner_html):\r\n",
        "        \"\"\" Display HTML \"\"\"\r\n",
        "        display(HTML(inner_html))\r\n",
        "\r\n",
        "    @staticmethod\r\n",
        "    def pick_start_and_end_date():\r\n",
        "        \"\"\" Pick dates \"\"\"\r\n",
        "        start_date = widgets.DatePicker(description='Pick a start date', disabled=False)\r\n",
        "        end_date = widgets.DatePicker(description='Pick a end date', disabled=False)\r\n",
        "        # pylint: disable=undefined-variable\r\n",
        "        display(start_date)\r\n",
        "        # pylint: disable=undefined-variable\r\n",
        "        display(end_date)\r\n",
        "        return start_date, end_date\r\n",
        "\r\n",
        "    @staticmethod\r\n",
        "    def select_multiple_items(label, item_name):\r\n",
        "        \"\"\" Select multiple items \"\"\"\r\n",
        "        label_item = widgets.Label(value=label)\r\n",
        "        items = widgets.Textarea(value='', placeholder='One per line: \\n 0x7ae3 \\n 0x7ae6', description=item_name, disabled=False, rows=5)\r\n",
        "        display(label_item)\r\n",
        "        display(items)\r\n",
        "        return items\r\n",
        "\r\n",
        "# Functions will be used in this notebook\r\n",
        "def read_config_values(file_path):\r\n",
        "    \"This loads pre-generated parameters for Sentinel Workspace\"\r\n",
        "    with open(file_path) as json_file:\r\n",
        "        if json_file:\r\n",
        "            json_config = json.load(json_file)\r\n",
        "            return (json_config[\"tenant_id\"],\r\n",
        "                    json_config[\"subscription_id\"],\r\n",
        "                    json_config[\"resource_group\"],\r\n",
        "                    json_config[\"workspace_id\"],\r\n",
        "                    json_config[\"workspace_name\"])\r\n",
        "    return None"
      ],
      "outputs": [],
      "execution_count": null,
      "metadata": {
        "collapsed": true,
        "jupyter": {
          "source_hidden": true,
          "outputs_hidden": false
        },
        "nteract": {
          "transient": {
            "deleting": false
          }
        },
        "gather": {
          "logged": 1614621613499
        }
      }
    },
    {
      "cell_type": "code",
      "source": [
        "# Calling the above function to populate Sentinel workspace parameters\r\n",
        "# The file, config.json, was generated by the system, however, you may modify the values, or manually set the variables\r\n",
        "tenant_id, subscription_id, resource_group, workspace_id, workspace_name = read_config_values('config.json');"
      ],
      "outputs": [],
      "execution_count": null,
      "metadata": {
        "collapsed": true,
        "jupyter": {
          "source_hidden": false,
          "outputs_hidden": false
        },
        "nteract": {
          "transient": {
            "deleting": false
          }
        },
        "gather": {
          "logged": 1614621614539
        }
      }
    },
    {
      "cell_type": "code",
      "source": [
        "# Azure CLI is used to get device code to login into Azure, you need to copy the code and open the DeviceLogin site.\r\n",
        "# You may add [--tenant $tenant_id] to the command\r\n",
        "!az login --tenant $tenant_id --use-device-code\r\n",
        "la_client = get_client_from_cli_profile(LogAnalyticsManagementClient, subscription_id = subscription_id)\r\n",
        "creds, _ = get_azure_cli_credentials(resource=\"https://api.loganalytics.io\")\r\n",
        "la_data_client = LogAnalyticsDataClient(creds)"
      ],
      "outputs": [],
      "execution_count": null,
      "metadata": {
        "collapsed": true,
        "jupyter": {
          "source_hidden": false,
          "outputs_hidden": false
        },
        "nteract": {
          "transient": {
            "deleting": false
          }
        },
        "gather": {
          "logged": 1614621629531
        }
      }
    },
    {
      "cell_type": "code",
      "source": [
        "# Entity inputs\r\n",
        "import ipywidgets as widgets\r\n",
        "#DateTime format: 2019-07-15T07:05:20.000\r\n",
        "q_timestamp = widgets.Text(value='2021-02-26',description='DateTime: ')\r\n",
        "display(q_timestamp)\r\n",
        "#Entity format: user\r\n",
        "q_entity = widgets.Text(value='user',description='Entity: ')\r\n",
        "display(q_entity)"
      ],
      "outputs": [],
      "execution_count": null,
      "metadata": {
        "collapsed": true,
        "jupyter": {
          "source_hidden": false,
          "outputs_hidden": false
        },
        "nteract": {
          "transient": {
            "deleting": false
          }
        },
        "gather": {
          "logged": 1614621634604
        }
      }
    },
    {
      "cell_type": "code",
      "source": [
        "# Select tables\r\n",
        "import warnings\r\n",
        "warnings.simplefilter(action='ignore', category=FutureWarning)\r\n",
        "anomaly_lookup = AnomalyFinder(workspace_id, la_data_client)\r\n",
        "selected_tables = WidgetViewHelper.select_multiple_tables(anomaly_lookup)\r\n",
        "display(selected_tables)"
      ],
      "outputs": [],
      "execution_count": null,
      "metadata": {
        "collapsed": true,
        "jupyter": {
          "source_hidden": false,
          "outputs_hidden": false
        },
        "nteract": {
          "transient": {
            "deleting": false
          }
        },
        "gather": {
          "logged": 1614621643807
        }
      }
    },
    {
      "cell_type": "code",
      "source": [
        "# Query data: this action may take a few minutes or more, please be patient.\r\n",
        "start = timeit.default_timer()\r\n",
        "anomalies, queries = anomaly_lookup.run(q_timestamp.value, q_entity.value, list(selected_tables.value))\r\n",
        "\r\n",
        "print('======= Task completed ===========')\r\n",
        "print('Elapsed time: ', timeit.default_timer() - start, ' seconds')\r\n",
        "\r\n",
        "if anomalies is not None:\r\n",
        "    print(str(len(anomalies)) + ' records found.')\r\n",
        "else:\r\n",
        "    print('0 records found.')"
      ],
      "outputs": [],
      "execution_count": null,
      "metadata": {
        "collapsed": true,
        "jupyter": {
          "source_hidden": false,
          "outputs_hidden": false
        },
        "nteract": {
          "transient": {
            "deleting": false
          }
        },
        "gather": {
          "logged": 1614621838556
        }
      }
    },
    {
      "cell_type": "code",
      "source": [
        "# Display query result in DataFrame\r\n",
        "if anomalies is not None and len(anomalies) > 0:\r\n",
        "    pd.set_option('display.max_rows', None)\r\n",
        "    pd.set_option('display.max_columns', None)\r\n",
        "    pd.set_option('display.width', None)\r\n",
        "    sorted_anomalies = anomalies.sort_values(by=['anomalyScore'], ascending=False)\r\n",
        "    display(sorted_anomalies)"
      ],
      "outputs": [],
      "execution_count": null,
      "metadata": {
        "collapsed": true,
        "jupyter": {
          "source_hidden": false,
          "outputs_hidden": false
        },
        "nteract": {
          "transient": {
            "deleting": false
          }
        },
        "gather": {
          "logged": 1614621846147
        }
      }
    },
    {
      "cell_type": "code",
      "source": [
        "# Save results to a csv file in the current file system\r\n",
        "if anomalies is not None and len(anomalies) > 0:    \r\n",
        "    anomalies.to_csv('anomaly_lookup.csv')"
      ],
      "outputs": [],
      "execution_count": null,
      "metadata": {
        "collapsed": true,
        "jupyter": {
          "source_hidden": false,
          "outputs_hidden": false
        },
        "nteract": {
          "transient": {
            "deleting": false
          }
        },
        "gather": {
          "logged": 1614621848877
        }
      }
    },
    {
      "cell_type": "code",
      "source": [
        "# ML Clustering based on anomalyScore\r\n",
        "if anomalies is not None and len(anomalies) > 0:\r\n",
        "    import matplotlib.pyplot as plt\r\n",
        "    from sklearn.cluster import KMeans\r\n",
        "    anomaly_score_set = anomalies.iloc[:, [12]].copy()\r\n",
        "\r\n",
        "    kmeans = KMeans(n_clusters=3).fit(anomaly_score_set)\r\n",
        "    centroids = kmeans.cluster_centers_\r\n",
        "    print(centroids)"
      ],
      "outputs": [],
      "execution_count": null,
      "metadata": {
        "collapsed": true,
        "jupyter": {
          "source_hidden": false,
          "outputs_hidden": false
        },
        "nteract": {
          "transient": {
            "deleting": false
          }
        },
        "gather": {
          "logged": 1614621850726
        }
      }
    },
    {
      "cell_type": "code",
      "source": [
        "# Display Top anomaly scores\r\n",
        "if anomalies is not None and len(anomalies) > 0 and anomaly_score_set is not None:\r\n",
        "    top_anomalies = anomaly_score_set.loc[anomaly_score_set['anomalyScore'] > \"5\"]\r\n",
        "    print(top_anomalies)"
      ],
      "outputs": [],
      "execution_count": null,
      "metadata": {
        "collapsed": true,
        "jupyter": {
          "source_hidden": false,
          "outputs_hidden": false
        },
        "nteract": {
          "transient": {
            "deleting": false
          }
        },
        "gather": {
          "logged": 1614621853119
        }
      }
    },
    {
      "cell_type": "code",
      "source": [
        "# You also can go to Azure Log Analytics for further analysis\r\n",
        "if queries is not None:\r\n",
        "    url = WidgetViewHelper.construct_url_for_log_analytics_logs(tenant_id, subscription_id, resource_group, workspace_name)\r\n",
        "    print('======= Clicking the URL to go to Log Analytics =======')\r\n",
        "    print(url)\r\n",
        "\r\n",
        "    if len(queries) > 2000:\r\n",
        "        print('======= Copy the queries to go to Log Analytics =======')\r\n",
        "        print(queries)\r\n",
        "    else:\r\n",
        "        WidgetViewHelper.display_html(WidgetViewHelper.copy_to_clipboard(url, queries, 'Add queries to clipboard then paste to Logs'))"
      ],
      "outputs": [],
      "execution_count": null,
      "metadata": {
        "collapsed": true,
        "jupyter": {
          "source_hidden": false,
          "outputs_hidden": false
        },
        "nteract": {
          "transient": {
            "deleting": false
          }
        },
        "gather": {
          "logged": 1614621855339
        }
      }
    }
  ],
  "metadata": {
    "kernelspec": {
      "name": "python3-azureml",
      "language": "python",
      "display_name": "Python 3.6 - AzureML"
    },
    "language_info": {
      "name": "python",
      "version": "3.6.9",
      "mimetype": "text/x-python",
      "codemirror_mode": {
        "name": "ipython",
        "version": 3
      },
      "pygments_lexer": "ipython3",
      "nbconvert_exporter": "python",
      "file_extension": ".py"
    },
    "kernel_info": {
      "name": "python3-azureml"
    },
    "microsoft": {
      "host": {
        "AzureML": {
          "notebookHasBeenCompleted": true
        }
      }
    },
    "nteract": {
      "version": "nteract-front-end@1.0.0"
    }
  },
  "nbformat": 4,
  "nbformat_minor": 2
}