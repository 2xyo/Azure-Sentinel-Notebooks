{
  "cells": [
    {
      "cell_type": "markdown",
      "source": [
        "# Guided Investigation - Anomaly Lookup\r\n",
        "\r\n",
        "__Notebook Version:__ 1.0<br>\r\n",
        "__Python Version:__ Python 3.6 - AzureML<br>\r\n",
        "__Required Packages:__ Azure-Sentinel-Utilities<br>\r\n",
        "__Platforms Supported:__  Azure Machine Learning Notebooks\r\n",
        "     \r\n",
        "__Data Source Required:__ Log Analytics tables \r\n",
        "    \r\n",
        "### Description\r\n",
        "Gain insights into the possible root cause of an alert by searching for related anomalies on the corresponding entities around the alert’s time. This notebook will provide valuable leads for an alert’s investigation, listing all suspicious increase in event counts or their properties around the time of the alert, and linking to the corresponding raw records in Log Analytics for the investigator to focus on and interpret.\r\n",
        "\r\n",
        "<font>You may need to select Python 3.6 - AzureML on Azure Machine Learning Notebooks.</font>\r\n",
        "\r\n",
        "## Table of Contents\r\n",
        "\r\n",
        "1. Initialize Azure Resource Management Clients\r\n",
        "2. Looking up for anomaly entities"
      ],
      "metadata": {
        "nteract": {
          "transient": {
            "deleting": false
          }
        }
      }
    },
    {
      "cell_type": "code",
      "source": [
        "# Loading Python libraries\r\n",
        "from azure.common.client_factory import get_client_from_cli_profile\r\n",
        "from azure.common.credentials import get_azure_cli_credentials\r\n",
        "from azure.loganalytics import LogAnalyticsDataClient\r\n",
        "from azure.loganalytics.models import QueryBody\r\n",
        "from azure.mgmt.loganalytics import LogAnalyticsManagementClient\r\n",
        "\r\n",
        "from pandas.io.json import json_normalize\r\n",
        "import sys\r\n",
        "import timeit\r\n",
        "import datetime as dt\r\n",
        "import pandas as pd\r\n",
        "import copy\r\n",
        "import base64\r\n",
        "import json\r\n",
        "from IPython.display import HTML\r\n",
        "from cryptography.fernet import Fernet"
      ],
      "outputs": [],
      "execution_count": null,
      "metadata": {
        "collapsed": true,
        "jupyter": {
          "source_hidden": false,
          "outputs_hidden": false
        },
        "nteract": {
          "transient": {
            "deleting": false
          }
        },
        "gather": {
          "logged": 1614638519463
        }
      }
    },
    {
      "cell_type": "markdown",
      "source": [
        "The following cell has classes and functions for this notebook, code is hidden to unclutter the notebook.  please RUN the cell, you may view the code by clicking 'input hidden'."
      ],
      "metadata": {
        "nteract": {
          "transient": {
            "deleting": false
          }
        }
      }
    },
    {
      "cell_type": "code",
      "source": [
        "# Classes will be used in this notebook\r\n",
        "class AnomalyQueries():\r\n",
        "    \"\"\" KQLs for anomaly lookup \"\"\"\r\n",
        "    QUERIES = {}\r\n",
        "    QUERIES['LISTTABLES'] = b'dW5pb24gd2l0aHNvdXJjZSA9IFNlbnRpbmVsVGFibGVOYW1lICogfCBkaXN0aW5jdCBTZW50aW5lbFRhYmxlTmFtZSB8IHNvcnQgYnkgU2VudGluZWxUYWJsZU5hbWUgYXNjIA=='\r\n",
        "    QUERIES['ISCATCOLUMN'] = b'e3RhYmxlfSB8IGdldHNjaGVtYSB8IHdoZXJlIENvbHVtblR5cGUgaW4gKCdpbnQnLCAnbG9uZycsICdzdHJpbmcnKSB8IHByb2plY3QgQ29sdW1uTmFtZQ=='\r\n",
        "    QUERIES['ISCATHEURISTIC'] = b'e3RhYmxlfSB8IHdoZXJlIGluZ2VzdGlvbl90aW1lKCkgPiBhZ28oMWQpIHwgdGFrZSB0b2ludCgxZTgpIHwgc3VtbWFyaXplIGRjID0gZGNvdW50KHtjb2x1bW59KSwgY291bnQoKSB8IHdoZXJlIGRjPCAxMDAwIGFuZCBkYyA+IDEgfCBwcm9qZWN0IHJhdGlvID0gdG9kb3VibGUoZGMpIC8gY291bnRfIHwgd2hlcmUgcmF0aW88IDFlLTIg'\r\n",
        "    QUERIES['TIMESERIESANOMALYDETECTION'] = b'bGV0IGZ1bGxEYWlseUNvdW50ID0gbWF0ZXJpYWxpemUoIHt0YWJsZX0gfCBleHRlbmQgVGltZUNyZWF0ZWQgPSBUaW1lR2VuZXJhdGVkIHwgd2hlcmUgVGltZUNyZWF0ZWQgPiBkYXRldGltZSgne21pblRpbWVzdGFtcH0nKSBhbmQgVGltZUNyZWF0ZWQ8ZGF0ZXRpbWUoJ3ttYXhUaW1lc3RhbXB9JykgfCB3aGVyZSB7ZW50Q29sdW1ufSBoYXMgJ3txRW50aXR5fScgfCBtYWtlLXNlcmllcyBjb3VudCgpIGRlZmF1bHQgPSAwIG9uIFRpbWVDcmVhdGVkIGZyb20gZGF0ZXRpbWUoJ3ttaW5UaW1lc3RhbXB9JykgdG8gZGF0ZXRpbWUoJ3ttYXhUaW1lc3RhbXB9Jykgc3RlcCAxZCBieSB7Y29sdW1ufSk7IGZ1bGxEYWlseUNvdW50IHwgZXh0ZW5kKGFub21hbGllcywgYW5vbWFseVNjb3JlLCBleHBlY3RlZENvdW50KSA9IHNlcmllc19kZWNvbXBvc2VfYW5vbWFsaWVzKGNvdW50XywxLjUsLTEsJ2F2ZycsMSkgfCB3aGVyZSBhbm9tYWx5U2NvcmVbLTFdID4gMS41IHwgd2hlcmUgdG9pbnQoY291bnRfWy0xXSkgPiB0b2RvdWJsZShleHBlY3RlZENvdW50Wy0xXSkgfCBtdi1hcHBseSBhbm9tYWxpZXMgdG8gdHlwZW9mKGxvbmcpIG9uIChzdW1tYXJpemUgdG90QW5vbWFsaWVzPXN1bShhbm9tYWxpZXMpKSB8IHdoZXJlIHRvdEFub21hbGllcyA8IDUgfCBwcm9qZWN0IHFFbnRpdHkgPSAne3FFbnRpdHl9JywgcVRpbWVzdGFtcCA9IGRhdGV0aW1lKCd7cVRpbWVzdGFtcH0nKSwgbWluVGltZXN0YW1wID0gZGF0ZXRpbWUoJ3ttaW5UaW1lc3RhbXB9JyksIG1heFRpbWVzdGFtcCA9IGRhdGV0aW1lKCd7bWF4VGltZXN0YW1wfScpLCBkZWx0YSA9IHRvdGltZXNwYW4oe2RlbHRhfSksIFRhYmxlID0gJ3t0YWJsZX0nLCBlbnRDb2wgPSAne2VudENvbHVtbn0nLCBjb2xOYW1lID0gJ3tjb2x1bW59JywgY29sVmFsID0gdG9zdHJpbmcoe2NvbHVtbn0pLCBjb2xUeXBlID0gZ2V0dHlwZSh7Y29sdW1ufSksIGV4cGVjdGVkQ291bnQgPSBleHBlY3RlZENvdW50Wy0xXSwgYWN0dWFsQ291bnQgPSBjb3VudF9bLTFdLCBhbm9tYWx5U2NvcmUgPSBhbm9tYWx5U2NvcmVbLTFd'\r\n",
        "    QUERIES['TIMEWINDOWQUERY'] = b'bGV0IGluZERhdGUgPSB0b2RhdGV0aW1lKCd7cURhdGV9Jyk7IHt0YWJsZX0gfCBleHRlbmQgaW5nZXN0aW9uX3RpbWUoKSB8IHdoZXJlICRJbmdlc3Rpb25UaW1lID4gaW5kRGF0ZSArIHtmfXtkZWx0YX0gYW5kICRJbmdlc3Rpb25UaW1lPGluZERhdGUgKyB7dH17ZGVsdGF9IHwgd2hlcmUge2VudENvbHVtbn0gaGFzICd7cUVudGl0eX0nIHwgcHJvamVjdCBpbmcgPSRJbmdlc3Rpb25UaW1lIHwgdGFrZSAxIA=='\r\n",
        "    QUERIES['ISENTITYINTABLE'] = b'bGV0IGluZERhdGUgPSB0b2RhdGV0aW1lKCd7cURhdGV9Jyk7IHt0YWJsZX0gfCB3aGVyZSBpbmdlc3Rpb25fdGltZSgpIGJldHdlZW4oKGluZERhdGUgLTFoKSAuLiAoaW5kRGF0ZSArIDFoKSkgfCBzZWFyY2ggJ3txRW50aXR5fScgfCB0YWtlIDE='\r\n",
        "\r\n",
        "    @staticmethod\r\n",
        "    def get_query(name):\r\n",
        "        \"\"\" get KQL \"\"\"\r\n",
        "        en_query = AnomalyQueries.QUERIES[name]\r\n",
        "        query = base64.b64decode(en_query).decode('utf=8')\r\n",
        "        return query\r\n",
        "\r\n",
        "class AnomalyFinder():\r\n",
        "    \"\"\"\r\n",
        "    This class provides process flow functions for anomaly lookup.\r\n",
        "    Method - run is the main entry point.\r\n",
        "    \"\"\"\r\n",
        "    def __init__(self, workspace_id, la_data_client):\r\n",
        "        self.workspace_id = workspace_id\r\n",
        "        self.la_data_client = la_data_client\r\n",
        "        self.anomaly = ''\r\n",
        "\r\n",
        "    def query_table_list(self):\r\n",
        "        \"\"\" Get a list of data tables from Log Analytics for the user \"\"\"\r\n",
        "        query = AnomalyQueries.get_query('LISTTABLES')\r\n",
        "        return self.query_loganalytics(query)\r\n",
        "\r\n",
        "    def query_loganalytics(self, query):\r\n",
        "        \"\"\" This method will call Log Analytics through LA client \"\"\"\r\n",
        "        res = self.la_data_client.query(self.workspace_id, QueryBody(query=query))\r\n",
        "        json = res.as_dict()\r\n",
        "        cols = json_normalize(json['tables'][0], 'columns')\r\n",
        "        data_frame = json_normalize(json['tables'][0], 'rows')\r\n",
        "        if data_frame.shape[0] != 0:\r\n",
        "            data_frame.columns = cols.name\r\n",
        "        return data_frame\r\n",
        "\r\n",
        "    @staticmethod\r\n",
        "    def construct_related_queries(df_anomalies):\r\n",
        "        \"\"\" This method constructs query for user to repo and can be saves for future references \"\"\"\r\n",
        "\r\n",
        "        if df_anomalies.shape[0] == 0:\r\n",
        "            return None\r\n",
        "\r\n",
        "        queries = ''\r\n",
        "        for tbl in df_anomalies.Table.unique():\r\n",
        "\r\n",
        "            cur_table_anomalies = df_anomalies.loc[df_anomalies.Table == tbl, :]\r\n",
        "            query = \"\"\"{tbl} \\\r\n",
        "            | where TimeGenerated > datetime({maxTimestamp})-14d and TimeGenerated < datetime({maxTimestamp}) \\\r\n",
        "            | where {entCol} has \"{qEntity}\" \\\r\n",
        "            | where \"\"\".format(**{\r\n",
        "                'tbl': tbl,\r\n",
        "                'qTimestamp': cur_table_anomalies.qTimestamp.iloc[0],\r\n",
        "                'maxTimestamp': cur_table_anomalies.maxTimestamp.iloc[0],\r\n",
        "                'entCol': cur_table_anomalies.entCol.iloc[0],\r\n",
        "                'qEntity': cur_table_anomalies.qEntity.iloc[0]\r\n",
        "            })\r\n",
        "\r\n",
        "            for j, row in cur_table_anomalies.iterrows(): # pylint: disable=unused-variable\r\n",
        "                query += \" {col} == to{colType}(\\\"{colVal}\\\") or\".format(\r\n",
        "                    col=row.colName,\r\n",
        "                    colType=(row.colType) if 'colType' in row.keys() else 'string',\r\n",
        "                    colVal=row.colVal.replace('\"', '')\r\n",
        "                )\r\n",
        "\r\n",
        "            query = query[:-2] # drop the last or\r\n",
        "            query += \" | take 1000; \" # limit the output size\r\n",
        "            query = query.replace(\"\\\\\", \"\\\\\\\\\")\r\n",
        "\r\n",
        "            queries += query\r\n",
        "        return queries\r\n",
        "\r\n",
        "    def get_timewindow(self, q_entity, q_timestamp, ent_col, tbl):\r\n",
        "        \"\"\" find the relevant time window for analysis \"\"\"\r\n",
        "\r\n",
        "        win_start = 0\r\n",
        "        min_timestamp = None\r\n",
        "        delta = None\r\n",
        "        max_timestamp = None\r\n",
        "        long_min_timestamp = None\r\n",
        "        time_window_query_template = AnomalyQueries.get_query('TIMEWINDOWQUERY')\r\n",
        "\r\n",
        "        for from_hour in range(-30, 0, 1):\r\n",
        "            kql_time_range_d = time_window_query_template.format(\r\n",
        "                table=tbl,\r\n",
        "                qDate=q_timestamp,\r\n",
        "                entColumn=ent_col,\r\n",
        "                qEntity=q_entity,\r\n",
        "                f=from_hour,\r\n",
        "                t=from_hour+1,\r\n",
        "                delta='d')\r\n",
        "\r\n",
        "            df_time_range = self.query_loganalytics(kql_time_range_d)\r\n",
        "\r\n",
        "            if df_time_range.shape[0] > 0:\r\n",
        "                win_start = from_hour\r\n",
        "                break\r\n",
        "\r\n",
        "        dt_q_timestamp = pd.to_datetime(q_timestamp)\r\n",
        "        ind2now = dt.datetime.utcnow() - dt_q_timestamp\r\n",
        "        if win_start < -3:\r\n",
        "            if ind2now > dt.timedelta(days=1):\r\n",
        "                delta = '1d'\r\n",
        "                max_timestamp = dt_q_timestamp + dt.timedelta(days=1)\r\n",
        "            else:\r\n",
        "                delta = '1d'\r\n",
        "                max_timestamp = dt.datetime.now()\r\n",
        "            long_min_timestamp = max_timestamp + dt.timedelta(days=win_start)\r\n",
        "            min_timestamp = max_timestamp + dt.timedelta(days=max([-6, win_start]))\r\n",
        "\r\n",
        "        elif win_start < 0: # switch to hours\r\n",
        "            win_start_hour = -5\r\n",
        "            for from_hour in range(-3*24, -5, 1):\r\n",
        "                kql_time_range_h = time_window_query_template.format(\r\n",
        "                    table=tbl,\r\n",
        "                    qDate=q_timestamp,\r\n",
        "                    entColumn=ent_col,\r\n",
        "                    qEntity=q_entity,\r\n",
        "                    f=from_hour,\r\n",
        "                    t=from_hour+1,\r\n",
        "                    delta='h')\r\n",
        "\r\n",
        "                df_time_range = self.query_loganalytics(kql_time_range_h)\r\n",
        "\r\n",
        "                if df_time_range.shape[0] > 0:\r\n",
        "                    win_start_hour = from_hour\r\n",
        "                    break\r\n",
        "            if win_start_hour < -5:\r\n",
        "                if ind2now > dt.timedelta(hours=1):\r\n",
        "                    delta = '1h'\r\n",
        "                    max_timestamp = dt_q_timestamp + dt.timedelta(hours=1)\r\n",
        "                else:\r\n",
        "                    delta = '1h'\r\n",
        "                    max_timestamp = dt.datetime.now()\r\n",
        "                min_timestamp = max_timestamp + dt.timedelta(hours=win_start_hour)\r\n",
        "                long_min_timestamp = min_timestamp\r\n",
        "\r\n",
        "        return min_timestamp, delta, max_timestamp, long_min_timestamp\r\n",
        "\r\n",
        "    def run(self, q_timestamp, q_entity, tables):\r\n",
        "        \"\"\" Main function for Anomaly Lookup \"\"\"\r\n",
        "\r\n",
        "        progress_bar = WidgetViewHelper.define_int_progress_bar()\r\n",
        "        display(progress_bar)  # pylint: disable=undefined-variable\r\n",
        "\r\n",
        "        # list tables if not given\r\n",
        "        if not tables:\r\n",
        "            kql_list_tables = AnomalyQueries.get_query('LISTTABLES')\r\n",
        "            tables = self.query_loganalytics(kql_list_tables)\r\n",
        "            tables = tables.SentinelTableName.tolist()\r\n",
        "\r\n",
        "        progress_bar.value += 1\r\n",
        "\r\n",
        "        # find the column in which the query entity appears in each table\r\n",
        "        # - assumption that it appears in just one columns\r\n",
        "        tables2search = []\r\n",
        "        is_entity_in_table_template = AnomalyQueries.get_query('ISENTITYINTABLE')\r\n",
        "\r\n",
        "        for tbl in tables:\r\n",
        "            kql_entity_in_table = is_entity_in_table_template.format(\r\n",
        "                table=tbl,\r\n",
        "                qDate=q_timestamp,\r\n",
        "                qEntity=q_entity)\r\n",
        "            ent_in_table = self.query_loganalytics(kql_entity_in_table)\r\n",
        "\r\n",
        "            if ent_in_table.shape[0] > 0:\r\n",
        "                ent_col = [col for col in ent_in_table.select_dtypes('object').columns[1:] if\r\n",
        "                           ent_in_table.loc[0, col] is not None\r\n",
        "                           and ent_in_table.loc[:, col].str.contains(q_entity, case=False).all()]\r\n",
        "                if ent_col:\r\n",
        "                    ent_col = ent_col[0]\r\n",
        "                tables2search.append({'table': tbl, 'entCol': ent_col})\r\n",
        "\r\n",
        "        progress_bar.value += 2\r\n",
        "\r\n",
        "        # for each table, find the time window to query on\r\n",
        "        for tbl in tables2search:\r\n",
        "            tbl['minTimestamp'], tbl['delta'], tbl['maxTimestamp'], tbl['longMinTimestamp'] = \\\r\n",
        "            self.get_timewindow(q_entity, q_timestamp, tbl['entCol'], tbl['table'])\r\n",
        "\r\n",
        "        progress_bar.value += 1\r\n",
        "\r\n",
        "        # identify all the categorical columns per table on which we will find anomalies\r\n",
        "        categorical_cols = []\r\n",
        "        is_cat_column_template = AnomalyQueries.get_query('ISCATCOLUMN')\r\n",
        "        is_cat_heuristic_template = AnomalyQueries.get_query('ISCATHEURISTIC')\r\n",
        "        for tbl in tables2search:\r\n",
        "            kql_is_cat_column = is_cat_column_template.format(table=tbl['table'])\r\n",
        "            df_cols = self.query_loganalytics(kql_is_cat_column)\r\n",
        "\r\n",
        "            for col in df_cols.ColumnName:\r\n",
        "                kql_is_cat_heuristic = is_cat_heuristic_template.format(\r\n",
        "                    table=tbl['table'],\r\n",
        "                    column=col)\r\n",
        "                df_is_cat = self.query_loganalytics(kql_is_cat_heuristic)\r\n",
        "\r\n",
        "                if df_is_cat.shape[0] > 0:\r\n",
        "                    cat_col_info = copy.deepcopy(tbl)\r\n",
        "                    cat_col_info['col'] = col\r\n",
        "                    categorical_cols.append(cat_col_info)\r\n",
        "\r\n",
        "        progress_bar.value += 2\r\n",
        "\r\n",
        "        anomalies_list = []\r\n",
        "        time_series_anomaly_detection_template = \\\r\n",
        "            AnomalyQueries.get_query('TIMESERIESANOMALYDETECTION')\r\n",
        "        for col_info in categorical_cols:\r\n",
        "            max_timestamp = col_info['maxTimestamp'].strftime('%Y-%m-%dT%H:%M:%S.%f')\r\n",
        "            long_min_timestamp = col_info['longMinTimestamp'].strftime('%Y-%m-%dT%H:%M:%S.%f')\r\n",
        "\r\n",
        "            kql_time_series_anomaly_detection = time_series_anomaly_detection_template.format(\r\n",
        "                table=col_info['table'],\r\n",
        "                column=col_info['col'],\r\n",
        "                entColumn=col_info['entCol'],\r\n",
        "                qEntity=q_entity,\r\n",
        "                minTimestamp=long_min_timestamp,\r\n",
        "                maxTimestamp=max_timestamp,\r\n",
        "                qTimestamp=q_timestamp,\r\n",
        "                delta=col_info['delta'])\r\n",
        "\r\n",
        "            cur_anomalies = self.query_loganalytics(kql_time_series_anomaly_detection)\r\n",
        "\r\n",
        "            anomalies_list.append(cur_anomalies)\r\n",
        "\r\n",
        "        progress_bar.value += 2\r\n",
        "\r\n",
        "        if anomalies_list:\r\n",
        "            anomalies = pd.concat(anomalies_list, axis=0)\r\n",
        "        else:\r\n",
        "            anomalies = pd.DataFrame()\r\n",
        "\r\n",
        "        progress_bar.value += 2\r\n",
        "        queries = AnomalyFinder.construct_related_queries(anomalies)\r\n",
        "        progress_bar.close()\r\n",
        "        self.anomaly = str(anomalies.to_json(orient='records'))\r\n",
        "\r\n",
        "        return anomalies, queries\r\n",
        "\r\n",
        "class WidgetViewHelper():\r\n",
        "    \"\"\" This classes provides helper methods for UI controls and components. \"\"\"\r\n",
        "    def __init__(self):\r\n",
        "        self.variable = None\r\n",
        "\r\n",
        "    @staticmethod\r\n",
        "    def select_multiple_tables(anomaly_lookup):\r\n",
        "        \"\"\" Select data tables \"\"\"\r\n",
        "        table_list = anomaly_lookup.query_table_list()\r\n",
        "        tables = sorted(table_list.SentinelTableName.tolist())\r\n",
        "        return widgets.SelectMultiple(options=tables,\r\n",
        "                                      row=len(tables),\r\n",
        "                                      value=[],\r\n",
        "                                      description='Tables:')\r\n",
        "\r\n",
        "    @staticmethod\r\n",
        "    def define_int_progress_bar():\r\n",
        "        \"\"\" define progress bar \"\"\"\r\n",
        "        # pylint: disable=line-too-long\r\n",
        "        return IntProgress(value=0, min=0, max=10, step=1, description='Loading:', bar_style='success', orientation='horizontal', position='top')\r\n",
        "\r\n",
        "    @staticmethod\r\n",
        "    def define_int_progress_bar():\r\n",
        "        \"\"\" Define a progress bar \"\"\"\r\n",
        "        return widgets.IntProgress(value=0,\r\n",
        "                                   min=0,\r\n",
        "                                   max=10,\r\n",
        "                                   step=1,\r\n",
        "                                   description='Loading:',\r\n",
        "                                   bar_style='success',\r\n",
        "                                   orientation='horizontal',\r\n",
        "                                   position='top')\r\n",
        "\r\n",
        "    @staticmethod\r\n",
        "    # pylint: disable=line-too-long\r\n",
        "    def copy_to_clipboard(url, text_body, label_text):\r\n",
        "        \"\"\" Copy text to Clipboard \"\"\"\r\n",
        "        html_str = (\r\n",
        "            \"\"\"<!DOCTYPE html>\r\n",
        "            <html><body style=\"height:20px\">\r\n",
        "            <input  id=\"sentinel_text_for_copy\" type=\"text\" readonly style=\"font-weight: bold; border: none; max-height:10px; width:1px;\" size = '\"\"\"\r\n",
        "            + str(len(text_body))\r\n",
        "            + \"\"\"' value='\"\"\"\r\n",
        "            + text_body\r\n",
        "            + \"\"\"'>\r\n",
        "            <button style=\"border: 2px solid #4CAF50;\" onclick=\"sentinel_copy()\">\"\"\" + label_text + \"\"\"</button>\r\n",
        "            <script>\r\n",
        "            function sentinel_copy() {\r\n",
        "                var copyText = document.getElementById(\"sentinel_text_for_copy\");\r\n",
        "                copyText.select();\r\n",
        "                document.execCommand(\"copy\");\r\n",
        "            }\r\n",
        "            </script>\r\n",
        "            </body></html>\"\"\"\r\n",
        "        )\r\n",
        "\r\n",
        "        return html_str\r\n",
        "\r\n",
        "    @staticmethod\r\n",
        "    def construct_url_for_log_analytics_logs(tenant_domain,\r\n",
        "                                             subscription_id,\r\n",
        "                                             resource_group,\r\n",
        "                                             workspace_name):\r\n",
        "        \"\"\" Generate URL for LA logs \"\"\"\r\n",
        "        return 'https://portal.azure.com/#blade/Microsoft_Azure_Security_Insights/MainMenuBlade/7/subscriptionId/{0}/resourceGroup/{1}/workspaceName/{2}'.format(subscription_id, resource_group, workspace_name)\r\n",
        "\r\n",
        "    @staticmethod\r\n",
        "    # pylint: disable=undefined-variable\r\n",
        "    def display_html(inner_html):\r\n",
        "        \"\"\" Display HTML \"\"\"\r\n",
        "        display(HTML(inner_html))\r\n",
        "\r\n",
        "    @staticmethod\r\n",
        "    def pick_start_and_end_date():\r\n",
        "        \"\"\" Pick dates \"\"\"\r\n",
        "        start_date = widgets.DatePicker(description='Pick a start date', disabled=False)\r\n",
        "        end_date = widgets.DatePicker(description='Pick a end date', disabled=False)\r\n",
        "        # pylint: disable=undefined-variable\r\n",
        "        display(start_date)\r\n",
        "        # pylint: disable=undefined-variable\r\n",
        "        display(end_date)\r\n",
        "        return start_date, end_date\r\n",
        "\r\n",
        "    @staticmethod\r\n",
        "    def select_multiple_items(label, item_name):\r\n",
        "        \"\"\" Select multiple items \"\"\"\r\n",
        "        label_item = widgets.Label(value=label)\r\n",
        "        items = widgets.Textarea(value='', placeholder='One per line: \\n 0x7ae3 \\n 0x7ae6', description=item_name, disabled=False, rows=5)\r\n",
        "        display(label_item)\r\n",
        "        display(items)\r\n",
        "        return items\r\n",
        "\r\n",
        "# Functions will be used in this notebook\r\n",
        "def read_config_values(file_path):\r\n",
        "    \"This loads pre-generated parameters for Sentinel Workspace\"\r\n",
        "    with open(file_path) as json_file:\r\n",
        "        if json_file:\r\n",
        "            json_config = json.load(json_file)\r\n",
        "            return (json_config[\"tenant_id\"],\r\n",
        "                    json_config[\"subscription_id\"],\r\n",
        "                    json_config[\"resource_group\"],\r\n",
        "                    json_config[\"workspace_id\"],\r\n",
        "                    json_config[\"workspace_name\"])\r\n",
        "    return None"
      ],
      "outputs": [],
      "execution_count": null,
      "metadata": {
        "collapsed": true,
        "jupyter": {
          "source_hidden": true,
          "outputs_hidden": false
        },
        "nteract": {
          "transient": {
            "deleting": false
          }
        },
        "gather": {
          "logged": 1614642555565
        }
      }
    },
    {
      "cell_type": "code",
      "source": [
        "# Calling the above function to populate Sentinel workspace parameters\r\n",
        "# The file, config.json, was generated by the system, however, you may modify the values, or manually set the variables\r\n",
        "tenant_id, subscription_id, resource_group, workspace_id, workspace_name = read_config_values('config.json');"
      ],
      "outputs": [],
      "execution_count": null,
      "metadata": {
        "collapsed": true,
        "jupyter": {
          "source_hidden": false,
          "outputs_hidden": false
        },
        "nteract": {
          "transient": {
            "deleting": false
          }
        },
        "gather": {
          "logged": 1614642562609
        }
      }
    },
    {
      "cell_type": "code",
      "source": [
        "# Azure CLI is used to get device code to login into Azure, you need to copy the code and open the DeviceLogin site.\r\n",
        "# You may add [--tenant $tenant_id] to the command\r\n",
        "!az login --tenant $tenant_id --use-device-code\r\n",
        "la_client = get_client_from_cli_profile(LogAnalyticsManagementClient, subscription_id = subscription_id)\r\n",
        "creds, _ = get_azure_cli_credentials(resource=\"https://api.loganalytics.io\")\r\n",
        "la_data_client = LogAnalyticsDataClient(creds)"
      ],
      "outputs": [],
      "execution_count": null,
      "metadata": {
        "collapsed": true,
        "jupyter": {
          "source_hidden": false,
          "outputs_hidden": false
        },
        "nteract": {
          "transient": {
            "deleting": false
          }
        },
        "gather": {
          "logged": 1614642611408
        }
      }
    },
    {
      "cell_type": "code",
      "source": [
        "# Entity inputs\r\n",
        "import ipywidgets as widgets\r\n",
        "#DateTime format: 2019-07-15T07:05:20.000\r\n",
        "q_timestamp = widgets.Text(value='2021-03-01',description='DateTime: ')\r\n",
        "display(q_timestamp)\r\n",
        "#Entity format: user\r\n",
        "q_entity = widgets.Text(value='user',description='Entity: ')\r\n",
        "display(q_entity)"
      ],
      "outputs": [],
      "execution_count": null,
      "metadata": {
        "collapsed": true,
        "jupyter": {
          "source_hidden": false,
          "outputs_hidden": false
        },
        "nteract": {
          "transient": {
            "deleting": false
          }
        },
        "gather": {
          "logged": 1614642618263
        }
      }
    },
    {
      "cell_type": "code",
      "source": [
        "# Select tables\r\n",
        "import warnings\r\n",
        "warnings.simplefilter(action='ignore', category=FutureWarning)\r\n",
        "anomaly_lookup = AnomalyFinder(workspace_id, la_data_client)\r\n",
        "selected_tables = WidgetViewHelper.select_multiple_tables(anomaly_lookup)\r\n",
        "display(selected_tables)"
      ],
      "outputs": [],
      "execution_count": null,
      "metadata": {
        "collapsed": true,
        "jupyter": {
          "source_hidden": false,
          "outputs_hidden": false
        },
        "nteract": {
          "transient": {
            "deleting": false
          }
        },
        "gather": {
          "logged": 1614642629714
        }
      }
    },
    {
      "cell_type": "code",
      "source": [
        "# Query data: this action may take a few minutes or more, please be patient.\r\n",
        "start = timeit.default_timer()\r\n",
        "anomalies, queries = anomaly_lookup.run(q_timestamp.value, q_entity.value, list(selected_tables.value))\r\n",
        "\r\n",
        "print('======= Task completed ===========')\r\n",
        "print('Elapsed time: ', timeit.default_timer() - start, ' seconds')\r\n",
        "\r\n",
        "if anomalies is not None:\r\n",
        "    print(str(len(anomalies)) + ' records found.')\r\n",
        "else:\r\n",
        "    print('0 records found.')"
      ],
      "outputs": [],
      "execution_count": null,
      "metadata": {
        "collapsed": true,
        "jupyter": {
          "source_hidden": false,
          "outputs_hidden": false
        },
        "nteract": {
          "transient": {
            "deleting": false
          }
        },
        "gather": {
          "logged": 1614642816526
        }
      }
    },
    {
      "cell_type": "code",
      "source": [
        "# Display query result in DataFrame\r\n",
        "if anomalies is not None and len(anomalies) > 0:\r\n",
        "    pd.set_option('display.max_rows', None)\r\n",
        "    pd.set_option('display.max_columns', None)\r\n",
        "    pd.set_option('display.width', None)\r\n",
        "    sorted_anomalies = anomalies.sort_values(by=['anomalyScore'], ascending=False)\r\n",
        "    display(sorted_anomalies)"
      ],
      "outputs": [],
      "execution_count": null,
      "metadata": {
        "collapsed": true,
        "jupyter": {
          "source_hidden": false,
          "outputs_hidden": false
        },
        "nteract": {
          "transient": {
            "deleting": false
          }
        },
        "gather": {
          "logged": 1614642823252
        }
      }
    },
    {
      "cell_type": "code",
      "source": [
        "# Save results to a csv file in the current file system\r\n",
        "if anomalies is not None and len(anomalies) > 0:    \r\n",
        "    anomalies.to_csv('anomaly_lookup.csv')"
      ],
      "outputs": [],
      "execution_count": null,
      "metadata": {
        "collapsed": true,
        "jupyter": {
          "source_hidden": false,
          "outputs_hidden": false
        },
        "nteract": {
          "transient": {
            "deleting": false
          }
        },
        "gather": {
          "logged": 1614642835949
        }
      }
    },
    {
      "cell_type": "code",
      "source": [
        "# ML Clustering based on anomalyScore\r\n",
        "if anomalies is not None and len(anomalies) > 0:\r\n",
        "    import matplotlib.pyplot as plt\r\n",
        "    from sklearn.cluster import KMeans\r\n",
        "    anomaly_score_set = anomalies.iloc[:, [12]].copy()\r\n",
        "\r\n",
        "    kmeans = KMeans(n_clusters=3).fit(anomaly_score_set)\r\n",
        "    centroids = kmeans.cluster_centers_\r\n",
        "    print(centroids)"
      ],
      "outputs": [],
      "execution_count": null,
      "metadata": {
        "collapsed": true,
        "jupyter": {
          "source_hidden": false,
          "outputs_hidden": false
        },
        "nteract": {
          "transient": {
            "deleting": false
          }
        },
        "gather": {
          "logged": 1614642837599
        }
      }
    },
    {
      "cell_type": "code",
      "source": [
        "# Display Top anomaly scores\r\n",
        "if anomalies is not None and len(anomalies) > 0 and anomaly_score_set is not None:\r\n",
        "    top_anomalies = anomaly_score_set.loc[anomaly_score_set['anomalyScore'] > \"5\"]\r\n",
        "    print(top_anomalies)"
      ],
      "outputs": [],
      "execution_count": null,
      "metadata": {
        "collapsed": true,
        "jupyter": {
          "source_hidden": false,
          "outputs_hidden": false
        },
        "nteract": {
          "transient": {
            "deleting": false
          }
        },
        "gather": {
          "logged": 1614642841610
        }
      }
    },
    {
      "cell_type": "code",
      "source": [
        "# You also can go to Azure Log Analytics for further analysis\r\n",
        "if queries is not None:\r\n",
        "    url = WidgetViewHelper.construct_url_for_log_analytics_logs(tenant_id, subscription_id, resource_group, workspace_name)\r\n",
        "    print('======= Clicking the URL to go to Log Analytics =======')\r\n",
        "    print(url)\r\n",
        "\r\n",
        "    if len(queries) > 2000:\r\n",
        "        print('======= Copy the queries to go to Log Analytics =======')\r\n",
        "        print(queries)\r\n",
        "    else:\r\n",
        "        WidgetViewHelper.display_html(WidgetViewHelper.copy_to_clipboard(url, queries, 'Add queries to clipboard then paste to Logs'))"
      ],
      "outputs": [],
      "execution_count": null,
      "metadata": {
        "collapsed": true,
        "jupyter": {
          "source_hidden": false,
          "outputs_hidden": false
        },
        "nteract": {
          "transient": {
            "deleting": false
          }
        },
        "gather": {
          "logged": 1614642844824
        }
      }
    }
  ],
  "metadata": {
    "kernelspec": {
      "name": "python3-azureml",
      "language": "python",
      "display_name": "Python 3.6 - AzureML"
    },
    "language_info": {
      "name": "python",
      "version": "3.6.9",
      "mimetype": "text/x-python",
      "codemirror_mode": {
        "name": "ipython",
        "version": 3
      },
      "pygments_lexer": "ipython3",
      "nbconvert_exporter": "python",
      "file_extension": ".py"
    },
    "kernel_info": {
      "name": "python3-azureml"
    },
    "microsoft": {
      "host": {
        "AzureML": {
          "notebookHasBeenCompleted": true
        }
      }
    },
    "nteract": {
      "version": "nteract-front-end@1.0.0"
    }
  },
  "nbformat": 4,
  "nbformat_minor": 2
}